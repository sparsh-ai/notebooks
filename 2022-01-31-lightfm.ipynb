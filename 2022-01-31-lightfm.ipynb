{
  "cells": [
    {
      "cell_type": "markdown",
      "metadata": {},
      "source": [
        "# LightFM Hybrid Recommender"
      ]
    },
    {
      "cell_type": "code",
      "execution_count": null,
      "metadata": {
        "id": "wuSExkaEnz_9"
      },
      "outputs": [],
      "source": [
        "!pip install -q implicit\n",
        "!pip install -q lightfm"
      ]
    },
    {
      "cell_type": "code",
      "execution_count": null,
      "metadata": {
        "id": "lrQJLasUKVtR"
      },
      "outputs": [],
      "source": [
        "import os\n",
        "import pandas as pd\n",
        "import numpy as np\n",
        "import matplotlib.pyplot as plt\n",
        "%matplotlib inline\n",
        "\n",
        "from scipy.sparse import csr_matrix, coo_matrix\n",
        "from implicit.als import AlternatingLeastSquares\n",
        "from implicit.nearest_neighbours import bm25_weight, tfidf_weight\n",
        "\n",
        "from lightfm import LightFM\n",
        "from lightfm.evaluation import precision_at_k, recall_at_k\n",
        "\n",
        "from metrics import precision_at_k as custom_precision, recall_at_k\n",
        "from utils import prefilter_items\n",
        "\n",
        "import warnings\n",
        "warnings.filterwarnings('ignore')"
      ]
    },
    {
      "cell_type": "code",
      "execution_count": null,
      "metadata": {
        "id": "gJ81tjyYK1bY"
      },
      "outputs": [],
      "source": [
        "data = pd.read_parquet('./data/bronze/train.parquet.gzip')\n",
        "item_features = pd.read_parquet('./data/bronze/products.parquet.gzip')\n",
        "user_features = pd.read_parquet('./data/bronze/demographics.parquet.gzip')"
      ]
    },
    {
      "cell_type": "code",
      "execution_count": null,
      "metadata": {
        "colab": {
          "base_uri": "https://localhost:8080/",
          "height": 224
        },
        "id": "BZ8F_TWsKeGP",
        "outputId": "1a6ff533-c859-4469-acaa-ae55b90a0511"
      },
      "outputs": [
        {
          "data": {
            "text/html": [
              "<div>\n",
              "<style scoped>\n",
              "    .dataframe tbody tr th:only-of-type {\n",
              "        vertical-align: middle;\n",
              "    }\n",
              "\n",
              "    .dataframe tbody tr th {\n",
              "        vertical-align: top;\n",
              "    }\n",
              "\n",
              "    .dataframe thead th {\n",
              "        text-align: right;\n",
              "    }\n",
              "</style>\n",
              "<table border=\"1\" class=\"dataframe\">\n",
              "  <thead>\n",
              "    <tr style=\"text-align: right;\">\n",
              "      <th></th>\n",
              "      <th>user_id</th>\n",
              "      <th>basket_id</th>\n",
              "      <th>day</th>\n",
              "      <th>item_id</th>\n",
              "      <th>quantity</th>\n",
              "      <th>sales_value</th>\n",
              "      <th>store_id</th>\n",
              "      <th>retail_disc</th>\n",
              "      <th>trans_time</th>\n",
              "      <th>week_no</th>\n",
              "      <th>coupon_disc</th>\n",
              "      <th>coupon_match_disc</th>\n",
              "    </tr>\n",
              "  </thead>\n",
              "  <tbody>\n",
              "    <tr>\n",
              "      <th>0</th>\n",
              "      <td>2375</td>\n",
              "      <td>26984851472</td>\n",
              "      <td>1</td>\n",
              "      <td>1004906</td>\n",
              "      <td>1</td>\n",
              "      <td>1.39</td>\n",
              "      <td>364</td>\n",
              "      <td>-0.60</td>\n",
              "      <td>1631</td>\n",
              "      <td>1</td>\n",
              "      <td>0.0</td>\n",
              "      <td>0.0</td>\n",
              "    </tr>\n",
              "    <tr>\n",
              "      <th>1</th>\n",
              "      <td>2375</td>\n",
              "      <td>26984851472</td>\n",
              "      <td>1</td>\n",
              "      <td>1033142</td>\n",
              "      <td>1</td>\n",
              "      <td>0.82</td>\n",
              "      <td>364</td>\n",
              "      <td>0.00</td>\n",
              "      <td>1631</td>\n",
              "      <td>1</td>\n",
              "      <td>0.0</td>\n",
              "      <td>0.0</td>\n",
              "    </tr>\n",
              "    <tr>\n",
              "      <th>2</th>\n",
              "      <td>2375</td>\n",
              "      <td>26984851472</td>\n",
              "      <td>1</td>\n",
              "      <td>1036325</td>\n",
              "      <td>1</td>\n",
              "      <td>0.99</td>\n",
              "      <td>364</td>\n",
              "      <td>-0.30</td>\n",
              "      <td>1631</td>\n",
              "      <td>1</td>\n",
              "      <td>0.0</td>\n",
              "      <td>0.0</td>\n",
              "    </tr>\n",
              "    <tr>\n",
              "      <th>3</th>\n",
              "      <td>2375</td>\n",
              "      <td>26984851472</td>\n",
              "      <td>1</td>\n",
              "      <td>1082185</td>\n",
              "      <td>1</td>\n",
              "      <td>1.21</td>\n",
              "      <td>364</td>\n",
              "      <td>0.00</td>\n",
              "      <td>1631</td>\n",
              "      <td>1</td>\n",
              "      <td>0.0</td>\n",
              "      <td>0.0</td>\n",
              "    </tr>\n",
              "    <tr>\n",
              "      <th>4</th>\n",
              "      <td>2375</td>\n",
              "      <td>26984851472</td>\n",
              "      <td>1</td>\n",
              "      <td>8160430</td>\n",
              "      <td>1</td>\n",
              "      <td>1.50</td>\n",
              "      <td>364</td>\n",
              "      <td>-0.39</td>\n",
              "      <td>1631</td>\n",
              "      <td>1</td>\n",
              "      <td>0.0</td>\n",
              "      <td>0.0</td>\n",
              "    </tr>\n",
              "  </tbody>\n",
              "</table>\n",
              "</div>"
            ],
            "text/plain": [
              "   user_id    basket_id  day  ...  week_no  coupon_disc  coupon_match_disc\n",
              "0     2375  26984851472    1  ...        1          0.0                0.0\n",
              "1     2375  26984851472    1  ...        1          0.0                0.0\n",
              "2     2375  26984851472    1  ...        1          0.0                0.0\n",
              "3     2375  26984851472    1  ...        1          0.0                0.0\n",
              "4     2375  26984851472    1  ...        1          0.0                0.0\n",
              "\n",
              "[5 rows x 12 columns]"
            ]
          },
          "execution_count": 6,
          "metadata": {
            "tags": []
          },
          "output_type": "execute_result"
        }
      ],
      "source": [
        "# column processing\n",
        "item_features.columns = [col.lower() for col in item_features.columns]\n",
        "user_features.columns = [col.lower() for col in user_features.columns]\n",
        "\n",
        "item_features.rename(columns={'product_id': 'item_id'}, inplace=True)\n",
        "user_features.rename(columns={'household_key': 'user_id'}, inplace=True)\n",
        "\n",
        "# train test split\n",
        "test_size_weeks = 3\n",
        "\n",
        "data_train = data[data['week_no'] < data['week_no'].max() - test_size_weeks]\n",
        "data_test = data[data['week_no'] >= data['week_no'].max() - test_size_weeks]\n",
        "\n",
        "data_train.head()"
      ]
    },
    {
      "cell_type": "code",
      "execution_count": null,
      "metadata": {
        "colab": {
          "base_uri": "https://localhost:8080/",
          "height": 111
        },
        "id": "yr_LNtXgK3YC",
        "outputId": "55bba456-23f6-4c75-a7ee-062d86a53c8f"
      },
      "outputs": [
        {
          "data": {
            "text/html": [
              "<div>\n",
              "<style scoped>\n",
              "    .dataframe tbody tr th:only-of-type {\n",
              "        vertical-align: middle;\n",
              "    }\n",
              "\n",
              "    .dataframe tbody tr th {\n",
              "        vertical-align: top;\n",
              "    }\n",
              "\n",
              "    .dataframe thead th {\n",
              "        text-align: right;\n",
              "    }\n",
              "</style>\n",
              "<table border=\"1\" class=\"dataframe\">\n",
              "  <thead>\n",
              "    <tr style=\"text-align: right;\">\n",
              "      <th></th>\n",
              "      <th>user_id</th>\n",
              "      <th>actual</th>\n",
              "    </tr>\n",
              "  </thead>\n",
              "  <tbody>\n",
              "    <tr>\n",
              "      <th>0</th>\n",
              "      <td>1</td>\n",
              "      <td>[821867, 834484, 856942, 865456, 889248, 90795...</td>\n",
              "    </tr>\n",
              "    <tr>\n",
              "      <th>1</th>\n",
              "      <td>3</td>\n",
              "      <td>[835476, 851057, 872021, 878302, 879948, 90963...</td>\n",
              "    </tr>\n",
              "  </tbody>\n",
              "</table>\n",
              "</div>"
            ],
            "text/plain": [
              "   user_id                                             actual\n",
              "0        1  [821867, 834484, 856942, 865456, 889248, 90795...\n",
              "1        3  [835476, 851057, 872021, 878302, 879948, 90963..."
            ]
          },
          "execution_count": 7,
          "metadata": {
            "tags": []
          },
          "output_type": "execute_result"
        }
      ],
      "source": [
        "result = data_test.groupby('user_id')['item_id'].unique().reset_index()\n",
        "result.columns=['user_id', 'actual']\n",
        "result.head(2)"
      ]
    },
    {
      "cell_type": "code",
      "execution_count": null,
      "metadata": {
        "colab": {
          "base_uri": "https://localhost:8080/",
          "height": 128
        },
        "id": "mxXurTlZK_9F",
        "outputId": "58967583-2a5a-4b41-b292-5f2c5ac7f2aa"
      },
      "outputs": [
        {
          "data": {
            "text/html": [
              "<div>\n",
              "<style scoped>\n",
              "    .dataframe tbody tr th:only-of-type {\n",
              "        vertical-align: middle;\n",
              "    }\n",
              "\n",
              "    .dataframe tbody tr th {\n",
              "        vertical-align: top;\n",
              "    }\n",
              "\n",
              "    .dataframe thead th {\n",
              "        text-align: right;\n",
              "    }\n",
              "</style>\n",
              "<table border=\"1\" class=\"dataframe\">\n",
              "  <thead>\n",
              "    <tr style=\"text-align: right;\">\n",
              "      <th></th>\n",
              "      <th>item_id</th>\n",
              "      <th>manufacturer</th>\n",
              "      <th>department</th>\n",
              "      <th>brand</th>\n",
              "      <th>commodity_desc</th>\n",
              "      <th>sub_commodity_desc</th>\n",
              "      <th>curr_size_of_product</th>\n",
              "    </tr>\n",
              "  </thead>\n",
              "  <tbody>\n",
              "    <tr>\n",
              "      <th>0</th>\n",
              "      <td>25671</td>\n",
              "      <td>2</td>\n",
              "      <td>GROCERY</td>\n",
              "      <td>National</td>\n",
              "      <td>FRZN ICE</td>\n",
              "      <td>ICE - CRUSHED/CUBED</td>\n",
              "      <td>22 LB</td>\n",
              "    </tr>\n",
              "    <tr>\n",
              "      <th>1</th>\n",
              "      <td>26081</td>\n",
              "      <td>2</td>\n",
              "      <td>MISC. TRANS.</td>\n",
              "      <td>National</td>\n",
              "      <td>NO COMMODITY DESCRIPTION</td>\n",
              "      <td>NO SUBCOMMODITY DESCRIPTION</td>\n",
              "      <td></td>\n",
              "    </tr>\n",
              "  </tbody>\n",
              "</table>\n",
              "</div>"
            ],
            "text/plain": [
              "   item_id  manufacturer  ...           sub_commodity_desc curr_size_of_product\n",
              "0    25671             2  ...          ICE - CRUSHED/CUBED                22 LB\n",
              "1    26081             2  ...  NO SUBCOMMODITY DESCRIPTION                     \n",
              "\n",
              "[2 rows x 7 columns]"
            ]
          },
          "execution_count": 8,
          "metadata": {
            "tags": []
          },
          "output_type": "execute_result"
        }
      ],
      "source": [
        "item_features.head(2)"
      ]
    },
    {
      "cell_type": "code",
      "execution_count": null,
      "metadata": {
        "colab": {
          "base_uri": "https://localhost:8080/",
          "height": 165
        },
        "id": "WUSjA2ohLAkK",
        "outputId": "d1e9f167-b0cc-435d-801b-e6b7a64a5d48"
      },
      "outputs": [
        {
          "data": {
            "text/html": [
              "<div>\n",
              "<style scoped>\n",
              "    .dataframe tbody tr th:only-of-type {\n",
              "        vertical-align: middle;\n",
              "    }\n",
              "\n",
              "    .dataframe tbody tr th {\n",
              "        vertical-align: top;\n",
              "    }\n",
              "\n",
              "    .dataframe thead th {\n",
              "        text-align: right;\n",
              "    }\n",
              "</style>\n",
              "<table border=\"1\" class=\"dataframe\">\n",
              "  <thead>\n",
              "    <tr style=\"text-align: right;\">\n",
              "      <th></th>\n",
              "      <th>age_desc</th>\n",
              "      <th>marital_status_code</th>\n",
              "      <th>income_desc</th>\n",
              "      <th>homeowner_desc</th>\n",
              "      <th>hh_comp_desc</th>\n",
              "      <th>household_size_desc</th>\n",
              "      <th>kid_category_desc</th>\n",
              "      <th>user_id</th>\n",
              "    </tr>\n",
              "  </thead>\n",
              "  <tbody>\n",
              "    <tr>\n",
              "      <th>0</th>\n",
              "      <td>65+</td>\n",
              "      <td>A</td>\n",
              "      <td>35-49K</td>\n",
              "      <td>Homeowner</td>\n",
              "      <td>2 Adults No Kids</td>\n",
              "      <td>2</td>\n",
              "      <td>None/Unknown</td>\n",
              "      <td>1</td>\n",
              "    </tr>\n",
              "    <tr>\n",
              "      <th>1</th>\n",
              "      <td>45-54</td>\n",
              "      <td>A</td>\n",
              "      <td>50-74K</td>\n",
              "      <td>Homeowner</td>\n",
              "      <td>2 Adults No Kids</td>\n",
              "      <td>2</td>\n",
              "      <td>None/Unknown</td>\n",
              "      <td>7</td>\n",
              "    </tr>\n",
              "  </tbody>\n",
              "</table>\n",
              "</div>"
            ],
            "text/plain": [
              "  age_desc marital_status_code  ... kid_category_desc user_id\n",
              "0      65+                   A  ...      None/Unknown       1\n",
              "1    45-54                   A  ...      None/Unknown       7\n",
              "\n",
              "[2 rows x 8 columns]"
            ]
          },
          "execution_count": 9,
          "metadata": {
            "tags": []
          },
          "output_type": "execute_result"
        }
      ],
      "source": [
        "user_features.head(2)"
      ]
    },
    {
      "cell_type": "markdown",
      "metadata": {
        "id": "WOwjVTZTLA6W"
      },
      "source": [
        "## Filter items"
      ]
    },
    {
      "cell_type": "code",
      "execution_count": null,
      "metadata": {
        "colab": {
          "base_uri": "https://localhost:8080/"
        },
        "id": "wNV2d1SkLXRC",
        "outputId": "d7adeecf-2c8a-4e46-f5db-e8b045fa9561"
      },
      "outputs": [
        {
          "name": "stdout",
          "output_type": "stream",
          "text": [
            "Decreased # items from 5001 to 2494\n"
          ]
        }
      ],
      "source": [
        "n_items_before = data_train['item_id'].nunique()\n",
        "\n",
        "data_train_filtered = prefilter_items(data_train, take_n_popular=5000, item_features=item_features)\n",
        "\n",
        "n_items_after = data_train_filtered['item_id'].nunique()\n",
        "print('Decreased # items from {} to {}'.format(n_items_before, n_items_after))"
      ]
    },
    {
      "cell_type": "markdown",
      "metadata": {
        "id": "yVNmTb7oLi9R"
      },
      "source": [
        "## Prepare data"
      ]
    },
    {
      "cell_type": "code",
      "execution_count": null,
      "metadata": {
        "colab": {
          "base_uri": "https://localhost:8080/"
        },
        "id": "o4eF_-KdMRCV",
        "outputId": "7fd8df12-92c1-41fb-e979-969864c2fa36"
      },
      "outputs": [
        {
          "data": {
            "text/plain": [
              "<2497x2494 sparse matrix of type '<class 'numpy.float64'>'\n",
              "\twith 226928 stored elements in Compressed Sparse Row format>"
            ]
          },
          "execution_count": 13,
          "metadata": {
            "tags": []
          },
          "output_type": "execute_result"
        }
      ],
      "source": [
        "### Prepare csr train matrix\n",
        "user_item_matrix = pd.pivot_table(data_train_filtered, \n",
        "                                  index='user_id', columns='item_id', \n",
        "                                  values='quantity',\n",
        "                                  aggfunc='count', \n",
        "                                  fill_value=0\n",
        "                                 )\n",
        "\n",
        "user_item_matrix = user_item_matrix.astype(float)\n",
        "sparse_user_item = csr_matrix(user_item_matrix).tocsr()\n",
        "sparse_user_item"
      ]
    },
    {
      "cell_type": "code",
      "execution_count": null,
      "metadata": {
        "id": "Hx9yoxi-MZ6Z"
      },
      "outputs": [],
      "source": [
        "### Prepare CSR test matrix\n",
        "data_test = data_test[data_test['item_id'].isin(data_train['item_id'].unique())]\n",
        "\n",
        "test_user_item_matrix = pd.pivot_table(data_test, \n",
        "                                  index='user_id', columns='item_id', \n",
        "                                  values='quantity',\n",
        "                                  aggfunc='count', \n",
        "                                  fill_value=0\n",
        "                                 )\n",
        "\n",
        "test_user_item_matrix = test_user_item_matrix.astype(float)\n",
        "userids = user_item_matrix.index.values\n",
        "itemids = user_item_matrix.columns.values\n",
        "\n",
        "matrix_userids = np.arange(len(userids))\n",
        "matrix_itemids = np.arange(len(itemids))\n",
        "\n",
        "id_to_itemid = dict(zip(matrix_itemids, itemids))\n",
        "id_to_userid = dict(zip(matrix_userids, userids))\n",
        "\n",
        "itemid_to_id = dict(zip(itemids, matrix_itemids))\n",
        "userid_to_id = dict(zip(userids, matrix_userids))"
      ]
    },
    {
      "cell_type": "code",
      "execution_count": null,
      "metadata": {
        "colab": {
          "base_uri": "https://localhost:8080/",
          "height": 159
        },
        "id": "gkWX4pYeMepX",
        "outputId": "ac1809b0-eacf-4170-be7c-09d89317eb5e"
      },
      "outputs": [
        {
          "data": {
            "text/html": [
              "<div>\n",
              "<style scoped>\n",
              "    .dataframe tbody tr th:only-of-type {\n",
              "        vertical-align: middle;\n",
              "    }\n",
              "\n",
              "    .dataframe tbody tr th {\n",
              "        vertical-align: top;\n",
              "    }\n",
              "\n",
              "    .dataframe thead th {\n",
              "        text-align: right;\n",
              "    }\n",
              "</style>\n",
              "<table border=\"1\" class=\"dataframe\">\n",
              "  <thead>\n",
              "    <tr style=\"text-align: right;\">\n",
              "      <th></th>\n",
              "      <th>age_desc</th>\n",
              "      <th>marital_status_code</th>\n",
              "      <th>income_desc</th>\n",
              "      <th>homeowner_desc</th>\n",
              "      <th>hh_comp_desc</th>\n",
              "      <th>household_size_desc</th>\n",
              "      <th>kid_category_desc</th>\n",
              "    </tr>\n",
              "    <tr>\n",
              "      <th>user_id</th>\n",
              "      <th></th>\n",
              "      <th></th>\n",
              "      <th></th>\n",
              "      <th></th>\n",
              "      <th></th>\n",
              "      <th></th>\n",
              "      <th></th>\n",
              "    </tr>\n",
              "  </thead>\n",
              "  <tbody>\n",
              "    <tr>\n",
              "      <th>1</th>\n",
              "      <td>65+</td>\n",
              "      <td>A</td>\n",
              "      <td>35-49K</td>\n",
              "      <td>Homeowner</td>\n",
              "      <td>2 Adults No Kids</td>\n",
              "      <td>2</td>\n",
              "      <td>None/Unknown</td>\n",
              "    </tr>\n",
              "    <tr>\n",
              "      <th>2</th>\n",
              "      <td>NaN</td>\n",
              "      <td>NaN</td>\n",
              "      <td>NaN</td>\n",
              "      <td>NaN</td>\n",
              "      <td>NaN</td>\n",
              "      <td>NaN</td>\n",
              "      <td>NaN</td>\n",
              "    </tr>\n",
              "  </tbody>\n",
              "</table>\n",
              "</div>"
            ],
            "text/plain": [
              "        age_desc marital_status_code  ... household_size_desc kid_category_desc\n",
              "user_id                               ...                                      \n",
              "1            65+                   A  ...                   2      None/Unknown\n",
              "2            NaN                 NaN  ...                 NaN               NaN\n",
              "\n",
              "[2 rows x 7 columns]"
            ]
          },
          "execution_count": 15,
          "metadata": {
            "tags": []
          },
          "output_type": "execute_result"
        }
      ],
      "source": [
        "### Prepare user and item features\n",
        "user_feat = pd.DataFrame(user_item_matrix.index)\n",
        "user_feat = user_feat.merge(user_features, on='user_id', how='left')\n",
        "user_feat.set_index('user_id', inplace=True)\n",
        "user_feat.head(2)"
      ]
    },
    {
      "cell_type": "code",
      "execution_count": null,
      "metadata": {
        "colab": {
          "base_uri": "https://localhost:8080/"
        },
        "id": "bqpp3kFwMnku",
        "outputId": "9ac49212-9170-404f-8854-38f92ad5ea98"
      },
      "outputs": [
        {
          "data": {
            "text/plain": [
              "(2497, 7)"
            ]
          },
          "execution_count": 16,
          "metadata": {
            "tags": []
          },
          "output_type": "execute_result"
        }
      ],
      "source": [
        "user_feat.shape"
      ]
    },
    {
      "cell_type": "code",
      "execution_count": null,
      "metadata": {
        "colab": {
          "base_uri": "https://localhost:8080/",
          "height": 142
        },
        "id": "a6G95GugMDfQ",
        "outputId": "7d928884-4e02-434c-86ce-3add804e4fa0"
      },
      "outputs": [
        {
          "data": {
            "text/html": [
              "<div>\n",
              "<style scoped>\n",
              "    .dataframe tbody tr th:only-of-type {\n",
              "        vertical-align: middle;\n",
              "    }\n",
              "\n",
              "    .dataframe tbody tr th {\n",
              "        vertical-align: top;\n",
              "    }\n",
              "\n",
              "    .dataframe thead th {\n",
              "        text-align: right;\n",
              "    }\n",
              "</style>\n",
              "<table border=\"1\" class=\"dataframe\">\n",
              "  <thead>\n",
              "    <tr style=\"text-align: right;\">\n",
              "      <th></th>\n",
              "      <th>manufacturer</th>\n",
              "      <th>department</th>\n",
              "      <th>brand</th>\n",
              "      <th>commodity_desc</th>\n",
              "      <th>sub_commodity_desc</th>\n",
              "      <th>curr_size_of_product</th>\n",
              "    </tr>\n",
              "    <tr>\n",
              "      <th>item_id</th>\n",
              "      <th></th>\n",
              "      <th></th>\n",
              "      <th></th>\n",
              "      <th></th>\n",
              "      <th></th>\n",
              "      <th></th>\n",
              "    </tr>\n",
              "  </thead>\n",
              "  <tbody>\n",
              "    <tr>\n",
              "      <th>819255</th>\n",
              "      <td>1007.0</td>\n",
              "      <td>MEAT-PCKGD</td>\n",
              "      <td>National</td>\n",
              "      <td>BREAKFAST SAUSAGE/SANDWICHES</td>\n",
              "      <td>ROLLS - PORK</td>\n",
              "      <td>1 LB</td>\n",
              "    </tr>\n",
              "    <tr>\n",
              "      <th>819308</th>\n",
              "      <td>2879.0</td>\n",
              "      <td>MEAT</td>\n",
              "      <td>National</td>\n",
              "      <td>BEEF</td>\n",
              "      <td>CHOICE BEEF</td>\n",
              "      <td></td>\n",
              "    </tr>\n",
              "  </tbody>\n",
              "</table>\n",
              "</div>"
            ],
            "text/plain": [
              "         manufacturer  department  ... sub_commodity_desc curr_size_of_product\n",
              "item_id                            ...                                        \n",
              "819255         1007.0  MEAT-PCKGD  ...       ROLLS - PORK                 1 LB\n",
              "819308         2879.0        MEAT  ...        CHOICE BEEF                     \n",
              "\n",
              "[2 rows x 6 columns]"
            ]
          },
          "execution_count": 17,
          "metadata": {
            "tags": []
          },
          "output_type": "execute_result"
        }
      ],
      "source": [
        "item_feat = pd.DataFrame(user_item_matrix.columns)\n",
        "item_feat = item_feat.merge(item_features, on='item_id', how='left')\n",
        "item_feat.set_index('item_id', inplace=True)\n",
        "item_feat.head(2)"
      ]
    },
    {
      "cell_type": "code",
      "execution_count": null,
      "metadata": {
        "colab": {
          "base_uri": "https://localhost:8080/"
        },
        "id": "JDnFW4WMMo4P",
        "outputId": "733d4500-0b77-4377-fc0f-b84b301e3922"
      },
      "outputs": [
        {
          "data": {
            "text/plain": [
              "(2494, 6)"
            ]
          },
          "execution_count": 18,
          "metadata": {
            "tags": []
          },
          "output_type": "execute_result"
        }
      ],
      "source": [
        "item_feat.shape"
      ]
    },
    {
      "cell_type": "markdown",
      "metadata": {
        "id": "NQLJR9rcMpJ_"
      },
      "source": [
        "## Encoding features"
      ]
    },
    {
      "cell_type": "code",
      "execution_count": null,
      "metadata": {
        "colab": {
          "base_uri": "https://localhost:8080/",
          "height": 179
        },
        "id": "VJ-ZGRT-MwDu",
        "outputId": "d279eb4b-e395-4fcd-bfc1-ee24eb28d1a8"
      },
      "outputs": [
        {
          "data": {
            "text/html": [
              "<div>\n",
              "<style scoped>\n",
              "    .dataframe tbody tr th:only-of-type {\n",
              "        vertical-align: middle;\n",
              "    }\n",
              "\n",
              "    .dataframe tbody tr th {\n",
              "        vertical-align: top;\n",
              "    }\n",
              "\n",
              "    .dataframe thead th {\n",
              "        text-align: right;\n",
              "    }\n",
              "</style>\n",
              "<table border=\"1\" class=\"dataframe\">\n",
              "  <thead>\n",
              "    <tr style=\"text-align: right;\">\n",
              "      <th></th>\n",
              "      <th>age_desc_19-24</th>\n",
              "      <th>age_desc_25-34</th>\n",
              "      <th>age_desc_35-44</th>\n",
              "      <th>age_desc_45-54</th>\n",
              "      <th>age_desc_55-64</th>\n",
              "      <th>age_desc_65+</th>\n",
              "      <th>marital_status_code_A</th>\n",
              "      <th>marital_status_code_B</th>\n",
              "      <th>marital_status_code_U</th>\n",
              "      <th>income_desc_100-124K</th>\n",
              "      <th>income_desc_125-149K</th>\n",
              "      <th>income_desc_15-24K</th>\n",
              "      <th>income_desc_150-174K</th>\n",
              "      <th>income_desc_175-199K</th>\n",
              "      <th>income_desc_200-249K</th>\n",
              "      <th>income_desc_25-34K</th>\n",
              "      <th>income_desc_250K+</th>\n",
              "      <th>income_desc_35-49K</th>\n",
              "      <th>income_desc_50-74K</th>\n",
              "      <th>income_desc_75-99K</th>\n",
              "      <th>income_desc_Under 15K</th>\n",
              "      <th>homeowner_desc_Homeowner</th>\n",
              "      <th>homeowner_desc_Probable Owner</th>\n",
              "      <th>homeowner_desc_Probable Renter</th>\n",
              "      <th>homeowner_desc_Renter</th>\n",
              "      <th>homeowner_desc_Unknown</th>\n",
              "      <th>hh_comp_desc_1 Adult Kids</th>\n",
              "      <th>hh_comp_desc_2 Adults Kids</th>\n",
              "      <th>hh_comp_desc_2 Adults No Kids</th>\n",
              "      <th>hh_comp_desc_Single Female</th>\n",
              "      <th>hh_comp_desc_Single Male</th>\n",
              "      <th>hh_comp_desc_Unknown</th>\n",
              "      <th>household_size_desc_1</th>\n",
              "      <th>household_size_desc_2</th>\n",
              "      <th>household_size_desc_3</th>\n",
              "      <th>household_size_desc_4</th>\n",
              "      <th>household_size_desc_5+</th>\n",
              "      <th>kid_category_desc_1</th>\n",
              "      <th>kid_category_desc_2</th>\n",
              "      <th>kid_category_desc_3+</th>\n",
              "      <th>kid_category_desc_None/Unknown</th>\n",
              "    </tr>\n",
              "    <tr>\n",
              "      <th>user_id</th>\n",
              "      <th></th>\n",
              "      <th></th>\n",
              "      <th></th>\n",
              "      <th></th>\n",
              "      <th></th>\n",
              "      <th></th>\n",
              "      <th></th>\n",
              "      <th></th>\n",
              "      <th></th>\n",
              "      <th></th>\n",
              "      <th></th>\n",
              "      <th></th>\n",
              "      <th></th>\n",
              "      <th></th>\n",
              "      <th></th>\n",
              "      <th></th>\n",
              "      <th></th>\n",
              "      <th></th>\n",
              "      <th></th>\n",
              "      <th></th>\n",
              "      <th></th>\n",
              "      <th></th>\n",
              "      <th></th>\n",
              "      <th></th>\n",
              "      <th></th>\n",
              "      <th></th>\n",
              "      <th></th>\n",
              "      <th></th>\n",
              "      <th></th>\n",
              "      <th></th>\n",
              "      <th></th>\n",
              "      <th></th>\n",
              "      <th></th>\n",
              "      <th></th>\n",
              "      <th></th>\n",
              "      <th></th>\n",
              "      <th></th>\n",
              "      <th></th>\n",
              "      <th></th>\n",
              "      <th></th>\n",
              "      <th></th>\n",
              "    </tr>\n",
              "  </thead>\n",
              "  <tbody>\n",
              "    <tr>\n",
              "      <th>1</th>\n",
              "      <td>0</td>\n",
              "      <td>0</td>\n",
              "      <td>0</td>\n",
              "      <td>0</td>\n",
              "      <td>0</td>\n",
              "      <td>1</td>\n",
              "      <td>1</td>\n",
              "      <td>0</td>\n",
              "      <td>0</td>\n",
              "      <td>0</td>\n",
              "      <td>0</td>\n",
              "      <td>0</td>\n",
              "      <td>0</td>\n",
              "      <td>0</td>\n",
              "      <td>0</td>\n",
              "      <td>0</td>\n",
              "      <td>0</td>\n",
              "      <td>1</td>\n",
              "      <td>0</td>\n",
              "      <td>0</td>\n",
              "      <td>0</td>\n",
              "      <td>1</td>\n",
              "      <td>0</td>\n",
              "      <td>0</td>\n",
              "      <td>0</td>\n",
              "      <td>0</td>\n",
              "      <td>0</td>\n",
              "      <td>0</td>\n",
              "      <td>1</td>\n",
              "      <td>0</td>\n",
              "      <td>0</td>\n",
              "      <td>0</td>\n",
              "      <td>0</td>\n",
              "      <td>1</td>\n",
              "      <td>0</td>\n",
              "      <td>0</td>\n",
              "      <td>0</td>\n",
              "      <td>0</td>\n",
              "      <td>0</td>\n",
              "      <td>0</td>\n",
              "      <td>1</td>\n",
              "    </tr>\n",
              "    <tr>\n",
              "      <th>2</th>\n",
              "      <td>0</td>\n",
              "      <td>0</td>\n",
              "      <td>0</td>\n",
              "      <td>0</td>\n",
              "      <td>0</td>\n",
              "      <td>0</td>\n",
              "      <td>0</td>\n",
              "      <td>0</td>\n",
              "      <td>0</td>\n",
              "      <td>0</td>\n",
              "      <td>0</td>\n",
              "      <td>0</td>\n",
              "      <td>0</td>\n",
              "      <td>0</td>\n",
              "      <td>0</td>\n",
              "      <td>0</td>\n",
              "      <td>0</td>\n",
              "      <td>0</td>\n",
              "      <td>0</td>\n",
              "      <td>0</td>\n",
              "      <td>0</td>\n",
              "      <td>0</td>\n",
              "      <td>0</td>\n",
              "      <td>0</td>\n",
              "      <td>0</td>\n",
              "      <td>0</td>\n",
              "      <td>0</td>\n",
              "      <td>0</td>\n",
              "      <td>0</td>\n",
              "      <td>0</td>\n",
              "      <td>0</td>\n",
              "      <td>0</td>\n",
              "      <td>0</td>\n",
              "      <td>0</td>\n",
              "      <td>0</td>\n",
              "      <td>0</td>\n",
              "      <td>0</td>\n",
              "      <td>0</td>\n",
              "      <td>0</td>\n",
              "      <td>0</td>\n",
              "      <td>0</td>\n",
              "    </tr>\n",
              "  </tbody>\n",
              "</table>\n",
              "</div>"
            ],
            "text/plain": [
              "         age_desc_19-24  ...  kid_category_desc_None/Unknown\n",
              "user_id                  ...                                \n",
              "1                     0  ...                               1\n",
              "2                     0  ...                               0\n",
              "\n",
              "[2 rows x 41 columns]"
            ]
          },
          "execution_count": 19,
          "metadata": {
            "tags": []
          },
          "output_type": "execute_result"
        }
      ],
      "source": [
        "user_feat_lightfm = pd.get_dummies(user_feat, columns=user_feat.columns.tolist())\n",
        "item_feat_lightfm = pd.get_dummies(item_feat, columns=item_feat.columns.tolist())\n",
        "user_feat_lightfm.head(2)"
      ]
    },
    {
      "cell_type": "markdown",
      "metadata": {
        "id": "-axEab5gMygk"
      },
      "source": [
        "## Model training"
      ]
    },
    {
      "cell_type": "code",
      "execution_count": null,
      "metadata": {
        "id": "9mpL1_5FM1VL"
      },
      "outputs": [],
      "source": [
        "model = LightFM(no_components=40,\n",
        "                loss='bpr', # \"logistic\",\"bpr\"\n",
        "                learning_rate=0.01, \n",
        "                item_alpha=0.4,\n",
        "                user_alpha=0.1, \n",
        "                random_state=42,\n",
        "                k=5,\n",
        "                n=15,\n",
        "                max_sampled=100)"
      ]
    },
    {
      "cell_type": "code",
      "execution_count": null,
      "metadata": {
        "colab": {
          "base_uri": "https://localhost:8080/"
        },
        "id": "9YghTs_iM3eA",
        "outputId": "7a13dc7f-e440-42e5-90b4-24509442cde0"
      },
      "outputs": [
        {
          "name": "stderr",
          "output_type": "stream",
          "text": [
            "Epoch: 100%|██████████| 20/20 [00:27<00:00,  1.36s/it]\n"
          ]
        },
        {
          "data": {
            "text/plain": [
              "<lightfm.lightfm.LightFM at 0x7f6569282850>"
            ]
          },
          "execution_count": 21,
          "metadata": {
            "tags": []
          },
          "output_type": "execute_result"
        }
      ],
      "source": [
        "model.fit((sparse_user_item > 0) * 1,  # user-item matrix из 0 и 1\n",
        "          sample_weight=coo_matrix(user_item_matrix),\n",
        "          user_features=csr_matrix(user_feat_lightfm.values).tocsr(),\n",
        "          item_features=csr_matrix(item_feat_lightfm.values).tocsr(),\n",
        "          epochs=20, \n",
        "          num_threads=20,\n",
        "          verbose=True) "
      ]
    },
    {
      "cell_type": "markdown",
      "metadata": {
        "id": "KsoD-362NV71"
      },
      "source": [
        "## Getting embeddings"
      ]
    },
    {
      "cell_type": "markdown",
      "metadata": {
        "id": "jzXvubVkNW-y"
      },
      "source": [
        "### Vectors by users"
      ]
    },
    {
      "cell_type": "code",
      "execution_count": null,
      "metadata": {
        "colab": {
          "base_uri": "https://localhost:8080/"
        },
        "id": "UnclCeLsNYbs",
        "outputId": "fb4858b7-5687-4df9-e615-f99531c2a91f"
      },
      "outputs": [
        {
          "data": {
            "text/plain": [
              "(2497,)"
            ]
          },
          "execution_count": 22,
          "metadata": {
            "tags": []
          },
          "output_type": "execute_result"
        }
      ],
      "source": [
        "user_emb = model.get_user_representations(features=csr_matrix(user_feat_lightfm.values).tocsr())\n",
        "user_emb[0].shape # biases"
      ]
    },
    {
      "cell_type": "code",
      "execution_count": null,
      "metadata": {
        "colab": {
          "base_uri": "https://localhost:8080/"
        },
        "id": "yKEPJneHNZ4m",
        "outputId": "0cd551ad-4e56-4308-eef8-8d0283767871"
      },
      "outputs": [
        {
          "data": {
            "text/plain": [
              "(2497, 40)"
            ]
          },
          "execution_count": 23,
          "metadata": {
            "tags": []
          },
          "output_type": "execute_result"
        }
      ],
      "source": [
        "user_emb[1].shape # users vectors"
      ]
    },
    {
      "cell_type": "markdown",
      "metadata": {
        "id": "vNU5ob4PNdVG"
      },
      "source": [
        "### Vectors by products"
      ]
    },
    {
      "cell_type": "code",
      "execution_count": null,
      "metadata": {
        "colab": {
          "base_uri": "https://localhost:8080/"
        },
        "id": "zaTIwuWsNcfj",
        "outputId": "8ea9ca3f-0e86-40a2-fa7e-85b6544560a8"
      },
      "outputs": [
        {
          "data": {
            "text/plain": [
              "(2494,)"
            ]
          },
          "execution_count": 24,
          "metadata": {
            "tags": []
          },
          "output_type": "execute_result"
        }
      ],
      "source": [
        "item_emb = model.get_item_representations(features=csr_matrix(item_feat_lightfm.values).tocsr())\n",
        "item_emb[0].shape # biases"
      ]
    },
    {
      "cell_type": "code",
      "execution_count": null,
      "metadata": {
        "colab": {
          "base_uri": "https://localhost:8080/"
        },
        "id": "ZkFSY2twNe06",
        "outputId": "c592306f-19db-43c0-e670-2728f0d4c8c3"
      },
      "outputs": [
        {
          "data": {
            "text/plain": [
              "(2494, 40)"
            ]
          },
          "execution_count": 25,
          "metadata": {
            "tags": []
          },
          "output_type": "execute_result"
        }
      ],
      "source": [
        "item_emb[1].shape # items vectors"
      ]
    },
    {
      "cell_type": "markdown",
      "metadata": {
        "id": "fO_sNiX_Nf1x"
      },
      "source": [
        "### Evaluation -> Train precision"
      ]
    },
    {
      "cell_type": "code",
      "execution_count": null,
      "metadata": {
        "colab": {
          "base_uri": "https://localhost:8080/"
        },
        "id": "MwSCEQsjNVCO",
        "outputId": "ac4ddc22-7684-4a84-cedb-7b6c8a542674"
      },
      "outputs": [
        {
          "name": "stdout",
          "output_type": "stream",
          "text": [
            "Train precision 0.2001602053642273\n"
          ]
        }
      ],
      "source": [
        "# we can use built-in lightFM metrics\n",
        "train_precision = precision_at_k(model, sparse_user_item, \n",
        "                                 user_features=csr_matrix(user_feat_lightfm.values).tocsr(),\n",
        "                                 item_features=csr_matrix(item_feat_lightfm.values).tocsr(),\n",
        "                                 k=5).mean()\n",
        "\n",
        "print(f\"Train precision {train_precision}\")"
      ]
    },
    {
      "cell_type": "markdown",
      "metadata": {
        "id": "Qzu-x2ZTNi9_"
      },
      "source": [
        "## Predict"
      ]
    },
    {
      "cell_type": "code",
      "execution_count": null,
      "metadata": {
        "colab": {
          "base_uri": "https://localhost:8080/"
        },
        "id": "AAWrkHtzNpMD",
        "outputId": "5926cbcd-4a66-4739-e217-d62fdd368139"
      },
      "outputs": [
        {
          "data": {
            "text/plain": [
              "array([2371, 1363, 1363, 1363, 1363, 1171, 1171, 1171, 1171, 1171])"
            ]
          },
          "execution_count": 27,
          "metadata": {
            "tags": []
          },
          "output_type": "execute_result"
        }
      ],
      "source": [
        "# prepare id for users and products in order of user-item pairs\n",
        "users_ids_row = data_train_filtered['user_id'].apply(lambda x: userid_to_id[x]).values.astype(int)\n",
        "items_ids_row = data_train_filtered['item_id'].apply(lambda x: itemid_to_id[x]).values.astype(int)\n",
        "users_ids_row[:10]"
      ]
    },
    {
      "cell_type": "code",
      "execution_count": null,
      "metadata": {
        "colab": {
          "base_uri": "https://localhost:8080/",
          "height": 224
        },
        "id": "OjfcSbYuNwMD",
        "outputId": "6d23c91d-bdc6-40b6-a88d-e5c6ded1689a"
      },
      "outputs": [
        {
          "data": {
            "text/html": [
              "<div>\n",
              "<style scoped>\n",
              "    .dataframe tbody tr th:only-of-type {\n",
              "        vertical-align: middle;\n",
              "    }\n",
              "\n",
              "    .dataframe tbody tr th {\n",
              "        vertical-align: top;\n",
              "    }\n",
              "\n",
              "    .dataframe thead th {\n",
              "        text-align: right;\n",
              "    }\n",
              "</style>\n",
              "<table border=\"1\" class=\"dataframe\">\n",
              "  <thead>\n",
              "    <tr style=\"text-align: right;\">\n",
              "      <th></th>\n",
              "      <th>user_id</th>\n",
              "      <th>basket_id</th>\n",
              "      <th>day</th>\n",
              "      <th>item_id</th>\n",
              "      <th>quantity</th>\n",
              "      <th>sales_value</th>\n",
              "      <th>store_id</th>\n",
              "      <th>retail_disc</th>\n",
              "      <th>trans_time</th>\n",
              "      <th>week_no</th>\n",
              "      <th>coupon_disc</th>\n",
              "      <th>coupon_match_disc</th>\n",
              "      <th>price</th>\n",
              "      <th>score</th>\n",
              "    </tr>\n",
              "  </thead>\n",
              "  <tbody>\n",
              "    <tr>\n",
              "      <th>7</th>\n",
              "      <td>2375</td>\n",
              "      <td>26984851516</td>\n",
              "      <td>1</td>\n",
              "      <td>1085983</td>\n",
              "      <td>1</td>\n",
              "      <td>2.99</td>\n",
              "      <td>364</td>\n",
              "      <td>-0.40</td>\n",
              "      <td>1642</td>\n",
              "      <td>1</td>\n",
              "      <td>0.0</td>\n",
              "      <td>0.0</td>\n",
              "      <td>2.99</td>\n",
              "      <td>-0.127823</td>\n",
              "    </tr>\n",
              "    <tr>\n",
              "      <th>11</th>\n",
              "      <td>1364</td>\n",
              "      <td>26984896261</td>\n",
              "      <td>1</td>\n",
              "      <td>842930</td>\n",
              "      <td>1</td>\n",
              "      <td>2.19</td>\n",
              "      <td>31742</td>\n",
              "      <td>0.00</td>\n",
              "      <td>1520</td>\n",
              "      <td>1</td>\n",
              "      <td>0.0</td>\n",
              "      <td>0.0</td>\n",
              "      <td>2.19</td>\n",
              "      <td>-2.048254</td>\n",
              "    </tr>\n",
              "    <tr>\n",
              "      <th>12</th>\n",
              "      <td>1364</td>\n",
              "      <td>26984896261</td>\n",
              "      <td>1</td>\n",
              "      <td>999999</td>\n",
              "      <td>1</td>\n",
              "      <td>2.99</td>\n",
              "      <td>31742</td>\n",
              "      <td>-0.40</td>\n",
              "      <td>1520</td>\n",
              "      <td>1</td>\n",
              "      <td>0.0</td>\n",
              "      <td>0.0</td>\n",
              "      <td>2.99</td>\n",
              "      <td>-1.937968</td>\n",
              "    </tr>\n",
              "    <tr>\n",
              "      <th>13</th>\n",
              "      <td>1364</td>\n",
              "      <td>26984896261</td>\n",
              "      <td>1</td>\n",
              "      <td>999999</td>\n",
              "      <td>1</td>\n",
              "      <td>3.09</td>\n",
              "      <td>31742</td>\n",
              "      <td>0.00</td>\n",
              "      <td>1520</td>\n",
              "      <td>1</td>\n",
              "      <td>0.0</td>\n",
              "      <td>0.0</td>\n",
              "      <td>3.09</td>\n",
              "      <td>-1.937968</td>\n",
              "    </tr>\n",
              "    <tr>\n",
              "      <th>14</th>\n",
              "      <td>1364</td>\n",
              "      <td>26984896261</td>\n",
              "      <td>1</td>\n",
              "      <td>999999</td>\n",
              "      <td>1</td>\n",
              "      <td>2.50</td>\n",
              "      <td>31742</td>\n",
              "      <td>-0.99</td>\n",
              "      <td>1520</td>\n",
              "      <td>1</td>\n",
              "      <td>0.0</td>\n",
              "      <td>0.0</td>\n",
              "      <td>2.50</td>\n",
              "      <td>-1.937968</td>\n",
              "    </tr>\n",
              "  </tbody>\n",
              "</table>\n",
              "</div>"
            ],
            "text/plain": [
              "    user_id    basket_id  day  ...  coupon_match_disc  price     score\n",
              "7      2375  26984851516    1  ...                0.0   2.99 -0.127823\n",
              "11     1364  26984896261    1  ...                0.0   2.19 -2.048254\n",
              "12     1364  26984896261    1  ...                0.0   2.99 -1.937968\n",
              "13     1364  26984896261    1  ...                0.0   3.09 -1.937968\n",
              "14     1364  26984896261    1  ...                0.0   2.50 -1.937968\n",
              "\n",
              "[5 rows x 14 columns]"
            ]
          },
          "execution_count": 28,
          "metadata": {
            "tags": []
          },
          "output_type": "execute_result"
        }
      ],
      "source": [
        "# the model returns a measure / rate of similarity between the corresponding user and the product\n",
        "predictions = model.predict(user_ids=users_ids_row,\n",
        "                            item_ids=items_ids_row,\n",
        "                            user_features=csr_matrix(user_feat_lightfm.values).tocsr(),\n",
        "                            item_features=csr_matrix(item_feat_lightfm.values).tocsr(),\n",
        "                            num_threads=10)\n",
        "\n",
        "# add to the train dataframe\n",
        "data_train_filtered['score'] = predictions\n",
        "data_train_filtered.head()"
      ]
    },
    {
      "cell_type": "code",
      "execution_count": null,
      "metadata": {
        "colab": {
          "base_uri": "https://localhost:8080/",
          "height": 204
        },
        "id": "a7YB_FMuOFEo",
        "outputId": "ed16bff9-a9e9-418c-f801-3253ee041380"
      },
      "outputs": [
        {
          "data": {
            "text/html": [
              "<div>\n",
              "<style scoped>\n",
              "    .dataframe tbody tr th:only-of-type {\n",
              "        vertical-align: middle;\n",
              "    }\n",
              "\n",
              "    .dataframe tbody tr th {\n",
              "        vertical-align: top;\n",
              "    }\n",
              "\n",
              "    .dataframe thead th {\n",
              "        text-align: right;\n",
              "    }\n",
              "</style>\n",
              "<table border=\"1\" class=\"dataframe\">\n",
              "  <thead>\n",
              "    <tr style=\"text-align: right;\">\n",
              "      <th></th>\n",
              "      <th>user_id</th>\n",
              "      <th>item_id</th>\n",
              "    </tr>\n",
              "  </thead>\n",
              "  <tbody>\n",
              "    <tr>\n",
              "      <th>0</th>\n",
              "      <td>1</td>\n",
              "      <td>[1029743, 6034857, 1113385, 952163, 1004906, 9...</td>\n",
              "    </tr>\n",
              "    <tr>\n",
              "      <th>1</th>\n",
              "      <td>2</td>\n",
              "      <td>[1106523, 1075368, 969725, 899624, 952163, 904...</td>\n",
              "    </tr>\n",
              "    <tr>\n",
              "      <th>2</th>\n",
              "      <td>3</td>\n",
              "      <td>[1106523, 983584, 7025275, 5585510, 899624, 85...</td>\n",
              "    </tr>\n",
              "    <tr>\n",
              "      <th>3</th>\n",
              "      <td>4</td>\n",
              "      <td>[1029743, 1075368, 970760, 954966, 908283, 921...</td>\n",
              "    </tr>\n",
              "    <tr>\n",
              "      <th>4</th>\n",
              "      <td>5</td>\n",
              "      <td>[1126899, 1029743, 929018, 946995, 1050851, 94...</td>\n",
              "    </tr>\n",
              "  </tbody>\n",
              "</table>\n",
              "</div>"
            ],
            "text/plain": [
              "   user_id                                            item_id\n",
              "0        1  [1029743, 6034857, 1113385, 952163, 1004906, 9...\n",
              "1        2  [1106523, 1075368, 969725, 899624, 952163, 904...\n",
              "2        3  [1106523, 983584, 7025275, 5585510, 899624, 85...\n",
              "3        4  [1029743, 1075368, 970760, 954966, 908283, 921...\n",
              "4        5  [1126899, 1029743, 929018, 946995, 1050851, 94..."
            ]
          },
          "execution_count": 29,
          "metadata": {
            "tags": []
          },
          "output_type": "execute_result"
        }
      ],
      "source": [
        "# create a predicate dataframe in list format\n",
        "predict_result = data_train_filtered[['user_id','item_id','score']][data_train_filtered.item_id != 999999].drop_duplicates().sort_values(by=['user_id','score'], ascending=False).groupby('user_id')['item_id']. \\\n",
        "            unique().reset_index()\n",
        "predict_result.head()"
      ]
    },
    {
      "cell_type": "code",
      "execution_count": null,
      "metadata": {
        "colab": {
          "base_uri": "https://localhost:8080/",
          "height": 204
        },
        "id": "7Ll95wEHOJfJ",
        "outputId": "98b95ec6-1e37-4205-cfb4-46213469ddd2"
      },
      "outputs": [
        {
          "data": {
            "text/html": [
              "<div>\n",
              "<style scoped>\n",
              "    .dataframe tbody tr th:only-of-type {\n",
              "        vertical-align: middle;\n",
              "    }\n",
              "\n",
              "    .dataframe tbody tr th {\n",
              "        vertical-align: top;\n",
              "    }\n",
              "\n",
              "    .dataframe thead th {\n",
              "        text-align: right;\n",
              "    }\n",
              "</style>\n",
              "<table border=\"1\" class=\"dataframe\">\n",
              "  <thead>\n",
              "    <tr style=\"text-align: right;\">\n",
              "      <th></th>\n",
              "      <th>user_id</th>\n",
              "      <th>actual</th>\n",
              "      <th>item_id</th>\n",
              "    </tr>\n",
              "  </thead>\n",
              "  <tbody>\n",
              "    <tr>\n",
              "      <th>0</th>\n",
              "      <td>1</td>\n",
              "      <td>[821867, 834484, 856942, 865456, 889248, 90795...</td>\n",
              "      <td>[1029743, 6034857, 1113385, 952163, 1004906, 9...</td>\n",
              "    </tr>\n",
              "    <tr>\n",
              "      <th>1</th>\n",
              "      <td>3</td>\n",
              "      <td>[835476, 851057, 872021, 878302, 879948, 90963...</td>\n",
              "      <td>[1106523, 983584, 7025275, 5585510, 899624, 85...</td>\n",
              "    </tr>\n",
              "    <tr>\n",
              "      <th>2</th>\n",
              "      <td>6</td>\n",
              "      <td>[920308, 926804, 946489, 1006718, 1017061, 107...</td>\n",
              "      <td>[1070820, 1029743, 1126899, 9524291, 1121393, ...</td>\n",
              "    </tr>\n",
              "    <tr>\n",
              "      <th>3</th>\n",
              "      <td>7</td>\n",
              "      <td>[840386, 889774, 898068, 909714, 929067, 95347...</td>\n",
              "      <td>[1029743, 1126899, 1106523, 866540, 1093571, 1...</td>\n",
              "    </tr>\n",
              "    <tr>\n",
              "      <th>4</th>\n",
              "      <td>8</td>\n",
              "      <td>[835098, 872137, 910439, 924610, 992977, 10412...</td>\n",
              "      <td>[1106523, 1070820, 1029743, 872342, 5585510, 6...</td>\n",
              "    </tr>\n",
              "  </tbody>\n",
              "</table>\n",
              "</div>"
            ],
            "text/plain": [
              "   user_id  ...                                            item_id\n",
              "0        1  ...  [1029743, 6034857, 1113385, 952163, 1004906, 9...\n",
              "1        3  ...  [1106523, 983584, 7025275, 5585510, 899624, 85...\n",
              "2        6  ...  [1070820, 1029743, 1126899, 9524291, 1121393, ...\n",
              "3        7  ...  [1029743, 1126899, 1106523, 866540, 1093571, 1...\n",
              "4        8  ...  [1106523, 1070820, 1029743, 872342, 5585510, 6...\n",
              "\n",
              "[5 rows x 3 columns]"
            ]
          },
          "execution_count": 30,
          "metadata": {
            "tags": []
          },
          "output_type": "execute_result"
        }
      ],
      "source": [
        "# combine the predicate and test dataset to calculate precision\n",
        "df_result_for_metrics = result.merge(predict_result, on='user_id', how='inner')\n",
        "df_result_for_metrics.head()"
      ]
    },
    {
      "cell_type": "code",
      "execution_count": null,
      "metadata": {
        "colab": {
          "base_uri": "https://localhost:8080/"
        },
        "id": "mCpffU75M5TU",
        "outputId": "73eee0a4-cf7e-45eb-f3b6-60adc7c48dea"
      },
      "outputs": [
        {
          "name": "stdout",
          "output_type": "stream",
          "text": [
            "Precision: 0.1365169463639339\n"
          ]
        }
      ],
      "source": [
        "# Test with custom precision func\n",
        "precision = df_result_for_metrics.apply(lambda row: custom_precision(row['item_id'], row['actual'],k=5), axis=1).mean()\n",
        "print(f\"Precision: {precision}\")"
      ]
    },
    {
      "cell_type": "markdown",
      "metadata": {
        "id": "7L6bJapQPAtZ"
      },
      "source": [
        "## Hyperparameter tuning"
      ]
    },
    {
      "cell_type": "code",
      "execution_count": null,
      "metadata": {
        "id": "wQMxI_wQPCQG"
      },
      "outputs": [],
      "source": [
        "# prepare id for users and products in order of user-item pairs\n",
        "users_ids_row = data_train_filtered['user_id'].apply(lambda x: userid_to_id[x]).values.astype(int)\n",
        "items_ids_row = data_train_filtered['item_id'].apply(lambda x: itemid_to_id[x]).values.astype(int)"
      ]
    },
    {
      "cell_type": "code",
      "execution_count": null,
      "metadata": {
        "id": "ntaK9lOtPHZs"
      },
      "outputs": [],
      "source": [
        "params_grid = {'item_alpha': [0.2, 0.4, 0.6],\n",
        "               'user_alpha': [0.1, 0.2],\n",
        "               'learning_rate' : [0.01, 0.05],\n",
        "               'n': [10 , 100],\n",
        "               'max_sampled': [10, 100]}"
      ]
    },
    {
      "cell_type": "code",
      "execution_count": null,
      "metadata": {
        "id": "aDms1FFBPHsK"
      },
      "outputs": [],
      "source": [
        "result_searh = {}\n",
        "index = 0\n",
        "\n",
        "for item_alp in params_grid['item_alpha']:\n",
        "    for user_alp in params_grid['n']:\n",
        "        for learn_rate in params_grid['learning_rate']:\n",
        "            for n in params_grid['n']:\n",
        "                for max_sampl in params_grid['max_sampled']:\n",
        "\n",
        "                    model = LightFM(no_components=40,\n",
        "                          loss=\"bpr\", # \"logistic\",\"bpr\"\n",
        "                          learning_rate=learn_rate, \n",
        "                          item_alpha=item_alp,\n",
        "                          user_alpha=user_alp, \n",
        "                          random_state=42,\n",
        "                          k=5,\n",
        "                          n=n,\n",
        "                          max_sampled=max_sampl)\n",
        "                    model.fit((sparse_user_item > 0) * 1,  # user-item matrix из 0 и 1\n",
        "                    sample_weight=coo_matrix(user_item_matrix),\n",
        "                    user_features=csr_matrix(user_feat_lightfm.values).tocsr(),\n",
        "                    item_features=csr_matrix(item_feat_lightfm.values).tocsr(),\n",
        "                    epochs=20, \n",
        "                    num_threads=20,\n",
        "                    verbose=True) \n",
        "\n",
        "                    predictions = model.predict(user_ids=users_ids_row,\n",
        "                                      item_ids=items_ids_row,\n",
        "                                      user_features=csr_matrix(user_feat_lightfm.values).tocsr(),\n",
        "                                      item_features=csr_matrix(item_feat_lightfm.values).tocsr(),\n",
        "                                      num_threads=10)\n",
        "\n",
        "                    data_train_filtered['score'] = predictions\n",
        "\n",
        "                    predict_result = data_train_filtered[['user_id','item_id','score']][data_train_filtered.item_id != 999999].drop_duplicates().sort_values(by=['user_id','score'], ascending=False).groupby('user_id')['item_id']. \\\n",
        "                      unique().reset_index()\n",
        "\n",
        "                    df_result_for_metrics = result.merge(predict_result, on='user_id', how='inner')\n",
        "\n",
        "                    precision = df_result_for_metrics.apply(lambda row: custom_precision(row['item_id'], row['actual'],k=5), axis=1).mean()\n",
        "\n",
        "\n",
        "                    result_searh[index] = [item_alp,\n",
        "                                        user_alp,\n",
        "                                        learn_rate,\n",
        "                                        n,\n",
        "                                        max_sampl,                                      \n",
        "                                        df_result_for_metrics.apply(lambda row: custom_precision(row['item_id'], row['actual'],k=5), axis=1).mean()]\n",
        "                    index += 1"
      ]
    },
    {
      "cell_type": "code",
      "execution_count": null,
      "metadata": {
        "colab": {
          "base_uri": "https://localhost:8080/"
        },
        "id": "w72FYPr4aKHA",
        "outputId": "4ecdcbb9-c5a6-4f62-d992-29a8b2bfea7c"
      },
      "outputs": [
        {
          "data": {
            "text/plain": [
              "['item_alpha', 'user_alpha', 'learning_rate', 'n', 'max_sampled']"
            ]
          },
          "execution_count": 39,
          "metadata": {
            "tags": []
          },
          "output_type": "execute_result"
        }
      ],
      "source": [
        "list(params_grid.keys())"
      ]
    },
    {
      "cell_type": "code",
      "execution_count": null,
      "metadata": {
        "colab": {
          "base_uri": "https://localhost:8080/",
          "height": 204
        },
        "id": "j2PZoRLPPKRc",
        "outputId": "2d901c63-9b3b-4cf1-a0f4-eb081ed2f167"
      },
      "outputs": [
        {
          "data": {
            "text/html": [
              "<div>\n",
              "<style scoped>\n",
              "    .dataframe tbody tr th:only-of-type {\n",
              "        vertical-align: middle;\n",
              "    }\n",
              "\n",
              "    .dataframe tbody tr th {\n",
              "        vertical-align: top;\n",
              "    }\n",
              "\n",
              "    .dataframe thead th {\n",
              "        text-align: right;\n",
              "    }\n",
              "</style>\n",
              "<table border=\"1\" class=\"dataframe\">\n",
              "  <thead>\n",
              "    <tr style=\"text-align: right;\">\n",
              "      <th></th>\n",
              "      <th>item_alpha</th>\n",
              "      <th>user_alpha</th>\n",
              "      <th>learning_rate</th>\n",
              "      <th>n</th>\n",
              "      <th>max_sampled</th>\n",
              "      <th>score</th>\n",
              "    </tr>\n",
              "  </thead>\n",
              "  <tbody>\n",
              "    <tr>\n",
              "      <th>30</th>\n",
              "      <td>0.4</td>\n",
              "      <td>100</td>\n",
              "      <td>0.05</td>\n",
              "      <td>100</td>\n",
              "      <td>10</td>\n",
              "      <td>0.141848</td>\n",
              "    </tr>\n",
              "    <tr>\n",
              "      <th>31</th>\n",
              "      <td>0.4</td>\n",
              "      <td>100</td>\n",
              "      <td>0.05</td>\n",
              "      <td>100</td>\n",
              "      <td>100</td>\n",
              "      <td>0.137109</td>\n",
              "    </tr>\n",
              "    <tr>\n",
              "      <th>33</th>\n",
              "      <td>0.6</td>\n",
              "      <td>10</td>\n",
              "      <td>0.01</td>\n",
              "      <td>10</td>\n",
              "      <td>100</td>\n",
              "      <td>0.134049</td>\n",
              "    </tr>\n",
              "    <tr>\n",
              "      <th>18</th>\n",
              "      <td>0.4</td>\n",
              "      <td>10</td>\n",
              "      <td>0.01</td>\n",
              "      <td>100</td>\n",
              "      <td>10</td>\n",
              "      <td>0.128126</td>\n",
              "    </tr>\n",
              "    <tr>\n",
              "      <th>19</th>\n",
              "      <td>0.4</td>\n",
              "      <td>10</td>\n",
              "      <td>0.01</td>\n",
              "      <td>100</td>\n",
              "      <td>100</td>\n",
              "      <td>0.116379</td>\n",
              "    </tr>\n",
              "  </tbody>\n",
              "</table>\n",
              "</div>"
            ],
            "text/plain": [
              "    item_alpha  user_alpha  learning_rate    n  max_sampled     score\n",
              "30         0.4         100           0.05  100           10  0.141848\n",
              "31         0.4         100           0.05  100          100  0.137109\n",
              "33         0.6          10           0.01   10          100  0.134049\n",
              "18         0.4          10           0.01  100           10  0.128126\n",
              "19         0.4          10           0.01  100          100  0.116379"
            ]
          },
          "execution_count": 45,
          "metadata": {
            "tags": []
          },
          "output_type": "execute_result"
        }
      ],
      "source": [
        "bpr_results = pd.DataFrame.from_dict(result_searh, orient='index',\n",
        "                       columns=['item_alpha', 'user_alpha', 'learning_rate',\n",
        "                                'n', 'max_sampled', 'score'])\n",
        "bpr_results.sort_values(by='score', ascending=False).head()"
      ]
    }
  ],
  "metadata": {
    "colab": {
      "authorship_tag": "ABX9TyOYC90d8wf1nEaZIq3Cmm5t",
      "collapsed_sections": [],
      "mount_file_id": "1oYvXUSgWM63PU-xMkhzRboI3VbywkVAt",
      "name": "reco-tut-brr-04-lightfm-hybrid-model.ipynb",
      "provenance": []
    },
    "kernelspec": {
      "display_name": "Python 3",
      "name": "python3"
    },
    "language_info": {
      "name": "python"
    }
  },
  "nbformat": 4,
  "nbformat_minor": 0
}
