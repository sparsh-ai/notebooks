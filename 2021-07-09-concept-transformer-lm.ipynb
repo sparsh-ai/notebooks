{
  "nbformat": 4,
  "nbformat_minor": 0,
  "metadata": {
    "colab": {
      "name": "Trax TransformerLM Intro.ipynb",
      "provenance": [],
      "collapsed_sections": [],
      "toc_visible": true
    },
    "kernelspec": {
      "name": "python3",
      "display_name": "Python 3"
    }
  },
  "cells": [
    {
      "cell_type": "markdown",
      "metadata": {
        "id": "BFXTlKxZYEcZ"
      },
      "source": [
        "# Concept - TransformerLM Quick Start and Guide \n",
        "> In this notebook, we will Use a pre-trained TransformerLM, Train a TransformerLM model, and Looking inside the Trax TransformerLM\n",
        "\n",
        "- toc: true\n",
        "- badges: true\n",
        "- comments: true\n",
        "- categories: [Concept, NLP, Transformer]\n",
        "- author: \"<a href='https://github.com/jalammar'>Jay Alammar</a>\"\n",
        "- image:"
      ]
    },
    {
      "cell_type": "markdown",
      "metadata": {
        "id": "CE38oeYU9fgv"
      },
      "source": [
        "Language models are machine learning models that power some of the most impressive applications involving text and language (e.g. machine translation, sentiment analysis, chatbots, summarization). At the time of this writing, some of the largest ML models in existence are language models. They are also based on the [transformer](https://arxiv.org/abs/1706.03762) architecture. The transformer language model (TransformerLM) is a simpler [variation](https://arxiv.org/pdf/1801.10198.pdf) of the original transformer architecture and is useful for plenty of tasks.\n",
        "\n",
        "![](https://storage.googleapis.com/ml-intro/t/transformerLM-1.png)\n",
        "\n",
        "The [Trax](https://trax-ml.readthedocs.io/en/latest/) implementation of TransformerLM focuses on clear code and speed.  It runs without any changes on CPUs, GPUs and TPUs.\n",
        "\n",
        "In this notebook, we will:\n",
        "\n",
        "1. Use a pre-trained TransformerLM\n",
        "2. Train a TransformerLM model\n",
        "3. Looking inside the Trax TransformerLM\n"
      ]
    },
    {
      "cell_type": "code",
      "metadata": {
        "id": "nWKJgBwkeTax",
        "colab": {
          "base_uri": "https://localhost:8080/",
          "height": 462
        },
        "outputId": "b3292c68-8458-415e-f215-0432fd33515b"
      },
      "source": [
        "import os\n",
        "import numpy as np\n",
        "! pip install -q -U trax\n",
        "import trax"
      ],
      "execution_count": null,
      "outputs": [
        {
          "output_type": "stream",
          "text": [
            "\u001b[K     |████████████████████████████████| 419kB 2.8MB/s \n",
            "\u001b[K     |████████████████████████████████| 1.5MB 8.4MB/s \n",
            "\u001b[K     |████████████████████████████████| 163kB 21.2MB/s \n",
            "\u001b[K     |████████████████████████████████| 2.6MB 18.7MB/s \n",
            "\u001b[K     |████████████████████████████████| 194kB 35.5MB/s \n",
            "\u001b[K     |████████████████████████████████| 368kB 37.9MB/s \n",
            "\u001b[K     |████████████████████████████████| 307kB 49.1MB/s \n",
            "\u001b[K     |████████████████████████████████| 983kB 47.3MB/s \n",
            "\u001b[K     |████████████████████████████████| 358kB 49.9MB/s \n",
            "\u001b[K     |████████████████████████████████| 81kB 9.3MB/s \n",
            "\u001b[K     |████████████████████████████████| 5.3MB 49.0MB/s \n",
            "\u001b[K     |████████████████████████████████| 655kB 50.9MB/s \n",
            "\u001b[K     |████████████████████████████████| 71kB 8.3MB/s \n",
            "\u001b[K     |████████████████████████████████| 1.1MB 49.3MB/s \n",
            "\u001b[K     |████████████████████████████████| 3.5MB 49.2MB/s \n",
            "\u001b[K     |████████████████████████████████| 1.1MB 34.8MB/s \n",
            "\u001b[K     |████████████████████████████████| 245kB 51.3MB/s \n",
            "\u001b[K     |████████████████████████████████| 51kB 5.5MB/s \n",
            "\u001b[K     |████████████████████████████████| 890kB 48.7MB/s \n",
            "\u001b[K     |████████████████████████████████| 3.0MB 49.9MB/s \n",
            "\u001b[?25h  Building wheel for bz2file (setup.py) ... \u001b[?25l\u001b[?25hdone\n",
            "  Building wheel for pypng (setup.py) ... \u001b[?25l\u001b[?25hdone\n",
            "  Building wheel for sacremoses (setup.py) ... \u001b[?25l\u001b[?25hdone\n",
            "\u001b[31mERROR: kfac 0.2.3 has requirement tensorflow-probability==0.8, but you'll have tensorflow-probability 0.7.0 which is incompatible.\u001b[0m\n",
            "INFO:tensorflow:tokens_length=568 inputs_length=512 targets_length=114 noise_density=0.15 mean_noise_span_length=3.0 \n"
          ],
          "name": "stdout"
        }
      ]
    },
    {
      "cell_type": "markdown",
      "metadata": {
        "id": "mWxTtb4snypO"
      },
      "source": [
        "## Using a pre-trained TransformerLM\n",
        "\n",
        "The following cell loads a pre-trained TransformerLM that sorts a list of four integers."
      ]
    },
    {
      "cell_type": "code",
      "metadata": {
        "id": "sL3rakwb05cL",
        "colab": {
          "base_uri": "https://localhost:8080/",
          "height": 34
        },
        "outputId": "7219838b-68a7-4d2f-e28a-3be0928db948"
      },
      "source": [
        "# Create a Transformer model.\n",
        "# Have to use the same configuration of the pre-trained model we'll load next\n",
        "model = trax.models.TransformerLM(  \n",
        "    d_model=32, d_ff=128, n_layers=2, \n",
        "    vocab_size=32, mode='predict')\n",
        "\n",
        "# Initialize using pre-trained weights.\n",
        "model.init_from_file('gs://ml-intro/models/sort-transformer.pkl.gz',\n",
        "                     weights_only=True, \n",
        "                     input_signature=trax.shapes.ShapeDtype((1,1), dtype=np.int32))\n",
        "\n",
        "# Input sequence\n",
        "# The 0s indicate the beginning and end of the input sequence\n",
        "input = [0, 3, 15, 14, 9, 0]\n",
        "\n",
        "\n",
        "# Run the model\n",
        "output = trax.supervised.decoding.autoregressive_sample(\n",
        "    model, np.array([input]), temperature=0.0, max_length=4)\n",
        "\n",
        "# Show us the output\n",
        "output"
      ],
      "execution_count": null,
      "outputs": [
        {
          "output_type": "execute_result",
          "data": {
            "text/plain": [
              "array([[ 3,  9, 14, 15]])"
            ]
          },
          "metadata": {
            "tags": []
          },
          "execution_count": 3
        }
      ]
    },
    {
      "cell_type": "markdown",
      "metadata": {
        "id": "I5rohWvyoOaf"
      },
      "source": [
        "This is a trivial example to get you started and put a toy transformer into your hands. Language models get their name from their ability to assign probabilities to sequences of words. This property makes them useful for generating text (and other types of sequences) by probabilistically choosing the next item in the sequence (often the highest probability one)  -- exactly like the next-word suggestion feature of your smartphone keyboard.\n",
        "\n",
        "In Trax, TransformerLM is a series of [Layers]() combined using the [Serial]() combinator. A high level view of the TransformerLM we've declared above can look like this:\n",
        "\n",
        "![](https://storage.googleapis.com/ml-intro/t/transformerLM-layers-1.png)\n",
        "\n",
        "The model has two decoder layers because we set `n_layers` to 2. TransformerLM makes predictions by being fed one token at a time, with output tokens typically fed back as inputs (that's the `autoregressive` part of the `autoregressive_sample` method we used to generate the output from the model). \n",
        "\n",
        "If we're to think of a simple model trained to generate the fibonacci sequence, we can give it a number in the sequence and it would continue to generate the next items in the sequence:\n",
        "\n",
        "![](https://storage.googleapis.com/ml-intro/t/transformerLM-input-output-fib.gif)\n",
        "\n",
        "\n",
        "## Train a TransformerLM Model\n",
        "\n",
        "Let's train a TransformerLM model. We'll train this one to reverse a list of integers. This is another toy task that we can train a small transformer to do. But using the concepts we'll go over, you'll be able to train proper language models on larger dataset.\n",
        "\n",
        "**Example**: This model is to take a sequence like `[1, 2, 3, 4]` and return `[4, 3, 2, 1]`.\n",
        "\n",
        "1. Create the Model\n",
        "1. Prepare the Dataset\n",
        "1. Train the model using `Trainer`\n"
      ]
    },
    {
      "cell_type": "markdown",
      "metadata": {
        "id": "Vra3JRlJtilo"
      },
      "source": [
        "\n",
        "### Create the Model"
      ]
    },
    {
      "cell_type": "code",
      "metadata": {
        "id": "7Vz4xGIRur_C"
      },
      "source": [
        "# Create a Transformer model.\n",
        "def tiny_transformer_lm(mode='train'):\n",
        "  return trax.models.TransformerLM(  \n",
        "          d_model=32, d_ff=128, n_layers=2, \n",
        "          vocab_size=32, mode=mode)"
      ],
      "execution_count": null,
      "outputs": []
    },
    {
      "cell_type": "markdown",
      "metadata": {
        "id": "vtHa8mOmb-NZ"
      },
      "source": [
        "Refer to [TransferLM in the API reference](https://trax-ml.readthedocs.io/en/latest/trax.models.html#trax.models.transformer.TransformerLM) to understand each of its parameters and their default values. We have chosen to create a small model using these values for `d_model`, `d_ff`, and `n_layers` to be able to train the model more quickly on this simple task.\n",
        "\n",
        "![](https://storage.googleapis.com/ml-intro/t/untrained-transformer.png)\n",
        "\n",
        "### Prepare the Dataset\n",
        "\n",
        "Trax models are trained on streams of data represented as python iterators. [`trax.data`](https://trax-ml.readthedocs.io/en/latest/trax.data.html) gives you the tools to construct your datapipeline. Trax also gives you readily available access to [TensorFlow Datasets](https://www.tensorflow.org/datasets).\n",
        "\n",
        "For this simple task, we will create a python generator. Every time we invoke it, it returns a batch of training examples."
      ]
    },
    {
      "cell_type": "code",
      "metadata": {
        "id": "0_JoHNp_1IUe"
      },
      "source": [
        "def reverse_ints_task(batch_size, length=4):\n",
        "  while True:\n",
        "    random_ints = m = np.random.randint(1, 31, (batch_size,length))\n",
        "    source = random_ints\n",
        "\n",
        "    target = np.flip(source, 1)\n",
        "\n",
        "    zero = np.zeros([batch_size, 1], np.int32)\n",
        "    x = np.concatenate([zero, source, zero, target], axis=1)\n",
        "\n",
        "    loss_weights = np.concatenate([np.zeros((batch_size, length+2)),\n",
        "                                    np.ones((batch_size, length))], axis=1)\n",
        "    yield (x, x, loss_weights)  # Here inputs and targets are the same.\n",
        "\n",
        "reverse_ints_inputs =  reverse_ints_task(16)"
      ],
      "execution_count": null,
      "outputs": []
    },
    {
      "cell_type": "markdown",
      "metadata": {
        "id": "RtzNKw0Flf-v"
      },
      "source": [
        "\n",
        "\n",
        "This function prepares a dataset and returns one batch at a time. If we ask for a batch size of 8, for example, it returns the following:"
      ]
    },
    {
      "cell_type": "code",
      "metadata": {
        "id": "UgPlRp1AjJ2O",
        "colab": {
          "base_uri": "https://localhost:8080/",
          "height": 153
        },
        "outputId": "348b596f-7acc-42fc-fc52-32f64e3f4237"
      },
      "source": [
        "a = reverse_ints_task(8)\n",
        "sequence_batch, _ , masks = next(a)\n",
        "sequence_batch"
      ],
      "execution_count": null,
      "outputs": [
        {
          "output_type": "execute_result",
          "data": {
            "text/plain": [
              "array([[ 0,  2,  1,  8, 11,  0, 11,  8,  1,  2],\n",
              "       [ 0, 14,  6, 19,  9,  0,  9, 19,  6, 14],\n",
              "       [ 0,  9, 13, 24, 27,  0, 27, 24, 13,  9],\n",
              "       [ 0,  9, 12,  2, 28,  0, 28,  2, 12,  9],\n",
              "       [ 0, 27, 29, 28, 16,  0, 16, 28, 29, 27],\n",
              "       [ 0, 15, 18, 11, 28,  0, 28, 11, 18, 15],\n",
              "       [ 0, 24, 28, 19,  3,  0,  3, 19, 28, 24],\n",
              "       [ 0, 28,  7,  8, 20,  0, 20,  8,  7, 28]])"
            ]
          },
          "metadata": {
            "tags": []
          },
          "execution_count": 6
        }
      ]
    },
    {
      "cell_type": "markdown",
      "metadata": {
        "id": "Uae3WdEA9etU"
      },
      "source": [
        "You can see that each example starts with 0, then a list of integers, then another 0, then the reverse of the list of integers. The function will give us as many examples and batches as we request.\n",
        "\n",
        "In addition to the example, the generator returns a mask vector. During the training process, the model is challenged to predict the tokens hidden by the mask (which have a value of 1 associated with that position. So for example, if the first element in the batch is the following vector:\n",
        "\n",
        "<table><tr>\n",
        "<td><strong>0</strong></td><td>5</td><td>6</td><td>7</td><td>8</td><td><strong>0</strong></td><td>8</td><td>7</td><td>6</td><td>5</td>\n",
        "</tr></table> \n",
        "\n",
        "And the associated mask vector for this example is:\n",
        "<table><tr>\n",
        "<td>0</td><td>0</td><td>0</td><td>0</td><td>0</td><td>0</td><td>1</td><td>1</td><td>1</td><td>1</td>\n",
        "</tr></table> \n",
        "\n",
        "Then the model will only be presented with the following prefix items, and it has to predict the rest:\n",
        "<table><tr>\n",
        "<td><strong>0</strong></td><td>5</td><td>6</td><td>7</td><td>8</td><td><strong>0</strong></td><td>_</td><td>_</td><td>_ </td><td>_</td>\n",
        "</tr></table> \n",
        "\n",
        "It's important here to note that while `5, 6, 7, 8` constitute the input sequence, the **zeros** serve a different purpose. We are using them as special tokens to delimit where the source sequence begins and ends. \n",
        "\n",
        "With this, we now have a method that streams the dataset in addition to the method that creates the model.\n",
        "\n",
        "![](https://storage.googleapis.com/ml-intro/t/untrained-transformer-and-dataset.png)\n",
        "\n",
        "\n",
        "### Train the model\n",
        "\n",
        "Trax's [training](https://trax-ml.readthedocs.io/en/latest/notebooks/trax_intro.html#Supervised-training) takes care of the training process. We hand it the model, define training and eval tasks, and create the training loop. We then start the training loop."
      ]
    },
    {
      "cell_type": "code",
      "metadata": {
        "id": "itAKBkN81H1F",
        "colab": {
          "base_uri": "https://localhost:8080/",
          "height": 272
        },
        "outputId": "30731cc2-2cce-4bbd-fa4c-a710710cf64b"
      },
      "source": [
        "from trax.supervised import training\n",
        "from trax import layers as tl\n",
        "\n",
        "# Training task.\n",
        "train_task = training.TrainTask(\n",
        "    labeled_data=reverse_ints_inputs,\n",
        "    loss_layer=tl.CrossEntropyLoss(),\n",
        "    optimizer=trax.optimizers.Adam(0.01),\n",
        "    n_steps_per_checkpoint=500,\n",
        ")\n",
        "\n",
        "\n",
        "# Evaluaton task.\n",
        "eval_task = training.EvalTask(\n",
        "    labeled_data=reverse_ints_inputs,\n",
        "    metrics=[tl.CrossEntropyLoss(), tl.Accuracy()],\n",
        "    n_eval_batches=20  # For less variance in eval numbers.\n",
        ")\n",
        "\n",
        "output_dir = os.path.expanduser('~/train_dir/')\n",
        "!rm -f ~/train_dir/model.pkl.gz  # Remove old model.\n",
        "\n",
        "# Train tiny model with Loop.\n",
        "training_loop = training.Loop(\n",
        "    tiny_transformer_lm(),\n",
        "    train_task,\n",
        "    eval_tasks=[eval_task],\n",
        "    output_dir=output_dir)\n",
        "\n",
        "# run 1000 steps (batches)\n",
        "training_loop.run(1000)"
      ],
      "execution_count": null,
      "outputs": [
        {
          "output_type": "stream",
          "text": [
            "\n",
            "Step      1: Ran 1 train steps in 17.93 secs\n",
            "Step      1: train CrossEntropyLoss |  4.14618683\n",
            "Step      1: eval  CrossEntropyLoss |  3.74931383\n",
            "Step      1: eval          Accuracy |  0.03359375\n",
            "\n",
            "Step    500: Ran 499 train steps in 23.67 secs\n",
            "Step    500: train CrossEntropyLoss |  0.62780923\n",
            "Step    500: eval  CrossEntropyLoss |  0.01693780\n",
            "Step    500: eval          Accuracy |  0.99609375\n",
            "\n",
            "Step   1000: Ran 500 train steps in 5.34 secs\n",
            "Step   1000: train CrossEntropyLoss |  0.00926041\n",
            "Step   1000: eval  CrossEntropyLoss |  0.00390428\n",
            "Step   1000: eval          Accuracy |  0.99921875\n"
          ],
          "name": "stdout"
        }
      ]
    },
    {
      "cell_type": "markdown",
      "metadata": {
        "id": "umb-MvIJme65"
      },
      "source": [
        "The Trainer is the third key component in this process that helps us arrive at the trained model.\n",
        "\n",
        "![](https://storage.googleapis.com/ml-intro/t/transformerLM-training.png)\n",
        "\n",
        "### Make predictions\n",
        "\n",
        "Let's take our newly minted model for a ride. To do that, we load it up, and use the handy `autoregressive_sample` method to feed it our input sequence and return the output sequence. These components now look like this:\n",
        "\n",
        "![](https://storage.googleapis.com/ml-intro/t/transformerLM-sampling-prediction.png)\n",
        "\n",
        "And this is the code to do just that:"
      ]
    },
    {
      "cell_type": "code",
      "metadata": {
        "id": "psqZzQELeMxE",
        "colab": {
          "base_uri": "https://localhost:8080/",
          "height": 34
        },
        "outputId": "7a765372-e3db-4bb6-c07c-532481338863"
      },
      "source": [
        "\n",
        "input = np.array([[0, 4, 6, 8, 10, 0]])\n",
        "\n",
        "# Initialize model for inference.\n",
        "predict_model = tiny_transformer_lm(mode='predict')\n",
        "predict_signature = trax.shapes.ShapeDtype((1,1), dtype=np.int32)\n",
        "predict_model.init_from_file(os.path.join(output_dir, \"model.pkl.gz\"),\n",
        "                             weights_only=True, input_signature=predict_signature)\n",
        "\n",
        "# Run the model\n",
        "output = trax.supervised.decoding.autoregressive_sample(\n",
        "    predict_model, input, temperature=0.0, max_length=4)\n",
        "\n",
        "# Print the contents of output\n",
        "print(output)"
      ],
      "execution_count": null,
      "outputs": [
        {
          "output_type": "stream",
          "text": [
            "[[10  8  6  4]]\n"
          ],
          "name": "stdout"
        }
      ]
    },
    {
      "cell_type": "markdown",
      "metadata": {
        "id": "CfZsEnMqvmQh"
      },
      "source": [
        "If things go correctly, the model would be able to reverse the string and output `[[10 8 6 4]]`"
      ]
    },
    {
      "cell_type": "markdown",
      "metadata": {
        "id": "ERq8BDIvD8GP"
      },
      "source": [
        "## Transformer vs. TransformerLM\n",
        "TransformerLM is a great place to start learning about Transformer architectures. The main difference between it and the original Transformer is that it's made up of a decoder stack, while Transformer is made up of an encoder stack and decoder stack (with the decoder stack being nearly identical to TransformerLM).\n",
        "\n",
        "![](https://storage.googleapis.com/ml-intro/t/transformer-vs-transformerlm.png)\n",
        "\n"
      ]
    },
    {
      "cell_type": "markdown",
      "metadata": {
        "id": "crm0Xg-1r92p"
      },
      "source": [
        "\n",
        "## Looking inside the Trax TransformerLM\n",
        "In Trax, TransformerLM is implemented as a single Serial layer\n",
        "\n",
        "![](https://storage.googleapis.com/ml-intro/t/transformerLM-serial-trax-layer.png)\n",
        "\n",
        "This graph shows you two of the central concepts in Trax. Layers are the basic building blocks. Serial is the most common way to compose multiple layers together in sequence.\n"
      ]
    },
    {
      "cell_type": "markdown",
      "metadata": {
        "id": "mFWXztCysHZJ"
      },
      "source": [
        "\n",
        "### Layers\n",
        "Layers are best described in the [Trax Layers Intro](https://trax-ml.readthedocs.io/en/latest/notebooks/layers_intro.html).\n",
        "\n",
        "For a Transformer to make a calculation (translate a sentence, summarize an article, or generate text), input tokens pass through many steps of transformation and\n",
        "computation (e.g. embedding, positional encoding, self-attention, feed-forward neural networks...tec). Each of these steps is a layer (some with their own sublayers). \n",
        "\n",
        "Each layer you use or define takes a fixed number of input tensors and returns a fixed number of output tensors (n_in and n_out respectively, both of which default to 1).\n",
        "\n",
        "![](https://storage.googleapis.com/ml-intro/t/trax-layer-inputs-outputs.png)\n",
        "\n",
        "A simple example of a layer is the ReLU activation function:\n",
        "\n",
        "![](https://storage.googleapis.com/ml-intro/t/relu-trax-layer.png)\n",
        "\n",
        "Trax is a deep learning library, though. And so, a layer can also contain weights. An example of this is the Dense layer. Here is a dense layer that multiplies the input tensor with a weight matrix (`W`) and adds a bias (`b`) (both W and b are saved inside the `weights` property of the layer):\n",
        "\n",
        "![](https://storage.googleapis.com/ml-intro/t/dense-trax-layer.png)\n",
        "\n",
        "In practice, Dense and Relu often go hand in hand. With Dense first working on a tensor, and ReLu then processing the output of the Dense layer. This is a perfect job for Serial, which, in simple cases, chains two or more layers and hands over the output of the first layer to the following one:\n",
        "\n",
        "![](https://storage.googleapis.com/ml-intro/t/serial-dense-relu-trax.png)\n",
        "\n",
        "The Serial combinator is a layer itself. So we can think of it as a layer containing a number of sublayers:\n",
        "\n",
        "![](https://storage.googleapis.com/ml-intro/t/serial-layer-dense-relu-trax.png)\n",
        "\n",
        "With these concepts in mind, let's go back and unpack the layers inside the TransformerLM Serial.\n",
        "\n",
        "\n",
        "\n",
        "\n",
        "\n",
        "\n"
      ]
    },
    {
      "cell_type": "markdown",
      "metadata": {
        "id": "OXqF121jsc7R"
      },
      "source": [
        "### Input, Decoder Blocks, and Output Layers\n",
        "\n",
        "It's straightforward to read the delcaration of TransformerLM to understand the layers that make it up. In general, you can group these layers into a set of input layers, then Transformer decoder blocks, and a set of output blocks. The number of Transformer blocks (`n_layers`) is one of the key parameters when creating a TransformerLM model. This is a way to think of the layer groups of a TransformerLM:\n",
        "\n",
        "\n",
        "<div align=\"center\">\n",
        "<img src=\"https://storage.googleapis.com/ml-intro/t/TransformerLM-layer-groups.png\" />\n",
        "</div>\n",
        "\n",
        "* The **input layers** take each input token id and look up its proper embedding and positional encoding.\n",
        "* The prediction calculations happen in the stack of **decoder blocks**.\n",
        "* The **output layers** take the output of the final Decoder block and project it to the output vocabulary. The LogSoftmax layer then turns the scoring of each potential output token into a probability score.\n"
      ]
    },
    {
      "cell_type": "markdown",
      "metadata": {
        "id": "dDsYBvBJFKjh"
      },
      "source": [
        "\n",
        "### Transformer Decoder Block\n",
        "A decoder block has two major components:\n",
        "* A **Causal self-attention** layer. Self-attention incorporates information from other tokens that could help make more sense of the current token being processed. Causal attention only allows the incorporation of information from previous positions. One key parameter when creating a TransformerLM model is `n_heads`, which is the number of \"attention heads\".\n",
        "* A **FeedForward** component. This is where the primary prediction computation is calculated. The key parameter associated with this layer is `d_ff`, which specifies the dimensions of the neural network layer used in this block. \n",
        "\n",
        "\n",
        "![](https://storage.googleapis.com/ml-intro/t/transformerLM-d_self-attention-ff.png)\n",
        "\n",
        "This figure also shows the `d_model` parameter, which specifies the dimension of tensors at most points in the model, including the embedding, and the majority of tensors handed off between the various layers in the model. "
      ]
    },
    {
      "cell_type": "markdown",
      "metadata": {
        "id": "WKv7vr20sdGo"
      },
      "source": [
        "### Multiple Inputs/Outputs, Branch, and Residual\n",
        "There are a couple more central Trax concept to cover to gain a deeper understanding of how Trax implements TransformerLM\n",
        "\n",
        "\n"
      ]
    },
    {
      "cell_type": "markdown",
      "metadata": {
        "id": "SOSlCg2msdUk"
      },
      "source": [
        "\n",
        "#### Multiple Inputs/Outputs\n",
        "The layers we've seen so far all have one input tensor and one output tensor. A layer could have more. For example, the Concatenate layer:\n",
        "\n",
        "![](https://storage.googleapis.com/ml-intro/t/trax-concatenate-layer.png)\n"
      ]
    },
    {
      "cell_type": "markdown",
      "metadata": {
        "id": "5pyHqDuwsLNm"
      },
      "source": [
        "\n",
        "#### Branch\n",
        "We saw the Serial combinator that combines layers serially. Branch combines layers in parallel. It supplies input copies to each of its sublayers.\n",
        "\n",
        "For example, if we wrap two layers (each expecting one input) in a Branch layer, and we pass a tensor to Branch, it copies it as the input to both of its sublayers as shown here:\n",
        "\n",
        "\n",
        "![](https://storage.googleapis.com/ml-intro/t/branch-combinator-trax-inputs.png)\n",
        "\n",
        "Since the sublayers have two outputs (one from each), then the Branch layer would also end up outputing both of those tensors:\n",
        "\n",
        "![](https://storage.googleapis.com/ml-intro/t/branch-combinator-trax-output.png)"
      ]
    },
    {
      "cell_type": "markdown",
      "metadata": {
        "id": "0IQ8idxqxLsB"
      },
      "source": [
        ""
      ]
    },
    {
      "cell_type": "markdown",
      "metadata": {
        "id": "RLlq8dbdxMAN"
      },
      "source": [
        "#### Residual\n",
        "\n",
        "Residual connections are an important component of Transformer architectures. Inside a Decoder Block, both the causal-attention layer and the\n",
        "feed-forward layer have residual connections around them:\n",
        "\n",
        "![](https://storage.googleapis.com/ml-intro/t/trax-residual-input.png)\n",
        "\n",
        "What that means, is that a copy of the input tensor is added to the output of the Attention layer:\n",
        "\n",
        "![](https://storage.googleapis.com/ml-intro/t/trax-residual-output.png)\n",
        "\n",
        "In Trax, this is achieved using the Residual layer, which combines both the Serial and Branch combinators:\n",
        "\n",
        "![](https://storage.googleapis.com/ml-intro/t/trax-residual-layers-1.png)\n",
        "\n",
        "\n",
        "Similarly, the feed-forward sublayer has another residual connection around it:\n",
        "\n",
        "\n",
        "![](https://storage.googleapis.com/ml-intro/t/trax-transformer-residual-layers-2.png)"
      ]
    }
  ]
}