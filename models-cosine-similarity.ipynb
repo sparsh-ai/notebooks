{
 "cells": [
  {
   "cell_type": "code",
   "execution_count": null,
   "metadata": {},
   "outputs": [],
   "source": [
    "# default_exp models.cosine_similarity"
   ]
  },
  {
   "cell_type": "markdown",
   "metadata": {},
   "source": [
    "# Cosine Similarity\n",
    "> Implementation of cosine similarity based recommender model."
   ]
  },
  {
   "cell_type": "code",
   "execution_count": null,
   "metadata": {},
   "outputs": [],
   "source": [
    "#export\n",
    "import operator\n",
    "import numpy as np\n",
    "import pandas as pd\n",
    "from scipy.spatial.distance import cosine\n",
    "from sklearn.metrics.pairwise import cosine_similarity"
   ]
  },
  {
   "cell_type": "code",
   "execution_count": null,
   "metadata": {},
   "outputs": [],
   "source": [
    "#export\n",
    "class CosineSimilarity:\n",
    "    def fit(self, df, user_col='user_id', item_col='item_id', rating_col='rating'):\n",
    "        item_sparse_vecs = []\n",
    "        items = []\n",
    "        for item, group in df.groupby(item_col):\n",
    "            vec = [0] * df[user_col].nunique()\n",
    "            for x in group[[user_col, rating_col]].values:\n",
    "                vec[int(x[0]) - 1] = x[1]\n",
    "            item_sparse_vecs.append(vec)\n",
    "            items.append(item)\n",
    "        self.item_vecs = np.array(item_sparse_vecs)\n",
    "        self.item2id = {x:i for i,x in enumerate(items)}\n",
    "\n",
    "    def recommend(self, itemid, top_k=5):\n",
    "        item_idx = self.item2id[itemid]\n",
    "        query = self.item_vecs[item_idx].reshape(1,-1)\n",
    "        ranking = cosine_similarity(self.item_vecs, query)\n",
    "        top_ids = np.argsort(ranking, axis=0)\n",
    "        top_ids = [x[0] for x in top_ids[::-1][:top_k]]\n",
    "        return top_ids"
   ]
  },
  {
   "cell_type": "code",
   "execution_count": null,
   "metadata": {},
   "outputs": [],
   "source": [
    "rating_df = pd.read_csv('https://raw.githubusercontent.com/sparsh-ai/rec-data-public/master/ml-other/ml100k_ratings.csv', sep=',', header=0)"
   ]
  },
  {
   "cell_type": "code",
   "execution_count": null,
   "metadata": {},
   "outputs": [
    {
     "data": {
      "text/plain": [
       "[9, 138, 337, 307, 334]"
      ]
     },
     "execution_count": null,
     "metadata": {},
     "output_type": "execute_result"
    }
   ],
   "source": [
    "model = CosineSimilarity()\n",
    "\n",
    "model.fit(df=rating_df, user_col='userId', item_col='movieId')\n",
    "model.recommend(itemid=10)"
   ]
  }
 ],
 "metadata": {
  "kernelspec": {
   "display_name": "Python 3",
   "name": "python3"
  }
 },
 "nbformat": 4,
 "nbformat_minor": 0
}
