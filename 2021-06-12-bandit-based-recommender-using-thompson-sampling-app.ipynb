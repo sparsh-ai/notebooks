{
 "cells": [
  {
   "cell_type": "markdown",
   "metadata": {
    "id": "prRPDqOQVl5L"
   },
   "source": [
    "# Bandit-based online learning using Thompson sampling App\n",
    "> Plotly dash app for thompson sampling simulation for product recommendations\n",
    "\n",
    "- toc: true\n",
    "- badges: true\n",
    "- comments: true\n",
    "- categories: [reinforcement learning, bandit, dash app]\n",
    "- image: "
   ]
  },
  {
   "cell_type": "code",
   "execution_count": 6,
   "metadata": {
    "colab": {
     "base_uri": "https://localhost:8080/"
    },
    "id": "6zt4vI__WSCR",
    "outputId": "73b6995f-5c15-45f4-b7c1-c02661085d04"
   },
   "outputs": [
    {
     "name": "stdout",
     "output_type": "stream",
     "text": [
      "\u001b[K     |████████████████████████████████| 194kB 7.1MB/s eta 0:00:01\n",
      "\u001b[?25h"
     ]
    }
   ],
   "source": [
    "!pip install -q dash dash-html-components dash-core-components dash_bootstrap_components jupyter-dash"
   ]
  },
  {
   "cell_type": "code",
   "execution_count": 1,
   "metadata": {
    "id": "vHkx-wB7WBhe"
   },
   "outputs": [],
   "source": [
    "import numpy as np\n",
    "import pandas as pd\n",
    "import scipy\n",
    "import scipy.stats as stats\n",
    "import itertools\n",
    "from copy import deepcopy\n",
    "\n",
    "import dash\n",
    "import dash_core_components as dcc\n",
    "import dash_html_components as html\n",
    "import dash_bootstrap_components as dbc\n",
    "from dash.dependencies import Input, Output\n",
    "from jupyter_dash import JupyterDash\n",
    "import plotly.express as px"
   ]
  },
  {
   "cell_type": "code",
   "execution_count": 2,
   "metadata": {
    "id": "DsPNxaNdVeKW"
   },
   "outputs": [],
   "source": [
    "class THSimulationAdv():\n",
    "    def __init__(self, nb_bandits):\n",
    "        self.nb_bandits = nb_bandits\n",
    "        self.trials = [0] * self.nb_bandits\n",
    "        self.wins = [0] * self.nb_bandits\n",
    "    def pull(self, i, p_bandits):\n",
    "        if np.random.rand() < p_bandits[i]:\n",
    "            return 1\n",
    "        else:\n",
    "            return 0\n",
    "    def step(self, p_bandits):\n",
    "        # Define the prior based on current observations\n",
    "        bandit_priors = [stats.beta(a=1+w, b=1+t-w) for t, w in zip(self.trials, self.wins)]\n",
    "        # Sample a probability theta for each bandit\n",
    "        theta_samples = [d.rvs(1) for d in bandit_priors]\n",
    "        # choose a bandit\n",
    "        chosen_bandit = np.argmax(theta_samples)\n",
    "        # Pull the bandit\n",
    "        x = self.pull(chosen_bandit, p_bandits)\n",
    "        # Update trials and wins (defines the posterior)\n",
    "        self.trials[chosen_bandit] += 1\n",
    "        self.wins[chosen_bandit] += x\n",
    "        return self.trials, self.wins"
   ]
  },
  {
   "cell_type": "code",
   "execution_count": 3,
   "metadata": {
    "id": "fB3kVN_AVjpo"
   },
   "outputs": [],
   "source": [
    "n_bandits = 10\n",
    "thsim = THSimulationAdv(nb_bandits=n_bandits)\n",
    "\n",
    "app = JupyterDash(__name__, external_stylesheets = [dbc.themes.BOOTSTRAP])\n",
    "\n",
    "white_button_style = {'background-color': 'white', 'color': 'black'}\n",
    "green_button_style = {'background-color': 'green', 'color': 'white'}\n",
    "red_button_style = {'background-color': 'red', 'color': 'white'}\n",
    "\n",
    "def create_row(nb=1, wd=1, pb='0.5'):\n",
    "    return dbc.Row(children=[\n",
    "        dbc.Col(dbc.Input(id='bandit{}_prob'.format(str(nb)), type=\"number\", min=0, max=1, \n",
    "                          step=0.01, value=pb), width=wd),\n",
    "        dbc.Col(dbc.Card(html.Div(id='bandit{}_hits'.format(str(nb))), color=\"success\"),width=wd),\n",
    "        dbc.Col(dbc.Card(html.Div(id='bandit{}_miss'.format(str(nb))), color=\"danger\"),width=wd),\n",
    "        dbc.Col(dbc.Card(html.Div(id='bandit{}_total'.format(str(nb))), color=\"light\"),width=wd),\n",
    "    ], align=\"center\", justify=\"start\")\n",
    "\n",
    "def create_table():\n",
    "    row_list = [create_row(nb=i) for i in range(1,n_bandits+1)]\n",
    "    return html.Div(row_list)\n",
    "\n",
    "app.layout = html.Div(children=[\n",
    "    dbc.Button(\"Start Simulation\", color=\"primary\"),\n",
    "    create_table(),\n",
    "    dcc.Interval(\n",
    "            id='interval-component',\n",
    "            interval=1000, # in milliseconds\n",
    "            n_intervals=0\n",
    "        ),\n",
    "    html.Div(id='p_bandits'),\n",
    "])\n",
    "\n",
    "p_bandits = [np.random.rand() for i in range(n_bandits)]\n",
    "last_update = thsim.step(p_bandits)\n",
    "\n",
    "input_list = [eval(f\"Input('bandit{i}_prob', 'value')\") for i in range(1,n_bandits+1)]\n",
    "\n",
    "@app.callback(\n",
    "    Output('p_bandits', 'children'),\n",
    "    input_list)\n",
    "def update_probs(*args):\n",
    "    global p_bandits\n",
    "    p_bandits = [float(prob) for prob in args] \n",
    "    return \"\"\n",
    "\n",
    "output_list_hits = [eval(f\"Output('bandit{i}_hits', 'children')\") for i in range(1,n_bandits+1)]\n",
    "output_list_miss = [eval(f\"Output('bandit{i}_miss', 'children')\") for i in range(1,n_bandits+1)]\n",
    "output_list_total = [eval(f\"Output('bandit{i}_total', 'children')\") for i in range(1,n_bandits+1)]\n",
    "output_list = list(itertools.chain(output_list_hits,\n",
    "                                   output_list_miss,\n",
    "                                   output_list_total)\n",
    "                  )\n",
    "\n",
    "@app.callback(\n",
    "    output_list,\n",
    "    Input('interval-component', 'n_intervals'))\n",
    "def update_metrics(n):\n",
    "    x = thsim.step(p_bandits)\n",
    "    totals = x[0]\n",
    "    hits = x[1]\n",
    "    global last_update\n",
    "    hitlist=[]; misslist=[]; totallist=[]\n",
    "    for i in range(n_bandits):\n",
    "        hit_style = green_button_style if hits[i]!=last_update[1][i] else white_button_style\n",
    "        miss_style = red_button_style if (totals[i]-hits[i])!=(last_update[0][i]-last_update[1][i]) else white_button_style\n",
    "        hitlist.append(html.Div(hits[i], style=hit_style))\n",
    "        misslist.append(html.Div(totals[i]-hits[i], style=miss_style))\n",
    "        totallist.append(totals[i])\n",
    "    last_update = deepcopy(x)\n",
    "    return list(itertools.chain(hitlist,misslist,totallist))"
   ]
  },
  {
   "cell_type": "code",
   "execution_count": 4,
   "metadata": {
    "colab": {
     "base_uri": "https://localhost:8080/",
     "height": 671
    },
    "id": "pBAbu51BWtCb",
    "outputId": "bc1c6689-5f05-4332-fead-4f51c5fe4f16"
   },
   "outputs": [
    {
     "data": {
      "application/javascript": [
       "(async (port, path, width, height, cache, element) => {\n",
       "    if (!google.colab.kernel.accessAllowed && !cache) {\n",
       "      return;\n",
       "    }\n",
       "    element.appendChild(document.createTextNode(''));\n",
       "    const url = await google.colab.kernel.proxyPort(port, {cache});\n",
       "    const iframe = document.createElement('iframe');\n",
       "    iframe.src = new URL(path, url).toString();\n",
       "    iframe.height = height;\n",
       "    iframe.width = width;\n",
       "    iframe.style.border = 0;\n",
       "    element.appendChild(iframe);\n",
       "  })(8081, \"/\", \"100%\", 650, false, window.element)"
      ],
      "text/plain": [
       "<IPython.core.display.Javascript object>"
      ]
     },
     "metadata": {
      "tags": []
     },
     "output_type": "display_data"
    }
   ],
   "source": [
    "app.run_server(mode='inline', port=8081)"
   ]
  },
  {
   "cell_type": "code",
   "execution_count": null,
   "metadata": {
    "id": "vdnJaqmZXpom"
   },
   "outputs": [],
   "source": [
    "!kill -9 $(lsof -t -i:8081) # command to kill the dash once done"
   ]
  }
 ],
 "metadata": {
  "colab": {
   "authorship_tag": "ABX9TyOOdhVjiIfc/vkncSpD1dab",
   "collapsed_sections": [],
   "name": "2021-06-12-bandit-based-recommender-using-thompson-sampling-app.ipynb",
   "provenance": []
  },
  "kernelspec": {
   "display_name": "Python 3",
   "language": "python",
   "name": "python3"
  },
  "language_info": {
   "name": "python"
  }
 },
 "nbformat": 4,
 "nbformat_minor": 4
}
