{
  "nbformat": 4,
  "nbformat_minor": 0,
  "metadata": {
    "colab": {
      "name": "2021-07-10-listnet-ltr.ipynb",
      "provenance": [],
      "authorship_tag": "ABX9TyOLIzgIScllwvPrk3qCAB34"
    },
    "kernelspec": {
      "name": "python3",
      "display_name": "Python 3"
    },
    "language_info": {
      "name": "python"
    },
    "accelerator": "GPU"
  },
  "cells": [
    {
      "cell_type": "markdown",
      "metadata": {
        "id": "k_6fIKUKnhDX"
      },
      "source": [
        "# ListNet Learning-to-rank model\n",
        "> Training ListNet on synthetic data in pytorch\n",
        "\n",
        "- toc: false\n",
        "- badges: true\n",
        "- comments: false\n",
        "- categories: [LTR]\n",
        "- image:"
      ]
    },
    {
      "cell_type": "code",
      "metadata": {
        "id": "JUE9Su3Skl4U"
      },
      "source": [
        "import torch\n",
        "import torch.nn as nn\n",
        "import torch.nn.functional as F\n",
        "import torch.optim as optim\n",
        "import numpy as np\n",
        "import matplotlib.pyplot as plt"
      ],
      "execution_count": 14,
      "outputs": []
    },
    {
      "cell_type": "code",
      "metadata": {
        "id": "zfhg5_MMknm_"
      },
      "source": [
        "class RankNet(nn.Module):\n",
        "    def __init__(self, num_feature):\n",
        "        super(RankNet, self).__init__()\n",
        "        self.model = nn.Sequential(\n",
        "            nn.Linear(num_feature, 512),\n",
        "            nn.Dropout(0.5),\n",
        "            nn.LeakyReLU(0.2, inplace=True),\n",
        "            nn.Linear(512, 256),\n",
        "            nn.Dropout(0.5),\n",
        "            nn.LeakyReLU(0.2, inplace=True),\n",
        "            nn.Linear(256, 1),\n",
        "            nn.Sigmoid()\n",
        "        )\n",
        "        self.output_sig = nn.Sigmoid()\n",
        "\n",
        "    def forward(self, input_1, input_2):\n",
        "        # relevant document score\n",
        "        s1 = self.model(input_1)\n",
        "        # irrelevant document score\n",
        "        s2 = self.model(input_2)\n",
        "        # subtract scores\n",
        "        out = self.output_sig(s1-s2)\n",
        "        return out\n",
        "    \n",
        "    def predict(self, input_):\n",
        "        s = self.model(input_)\n",
        "        return s"
      ],
      "execution_count": 9,
      "outputs": []
    },
    {
      "cell_type": "code",
      "metadata": {
        "id": "WnphmhIfljUN"
      },
      "source": [
        "# generating synthetic data\n",
        "\n",
        "n_sample = 30000\n",
        "n_feature = 300\n",
        "\n",
        "data1 = torch.rand((n_sample, n_feature))\n",
        "data2 = torch.rand((n_sample, n_feature))\n",
        "\n",
        "y = np.random.random((n_sample, 1))\n",
        "y = y > 0.9\n",
        "y = 1. * y\n",
        "y = torch.Tensor(y)"
      ],
      "execution_count": 10,
      "outputs": []
    },
    {
      "cell_type": "code",
      "metadata": {
        "id": "lED0zxRDlpXp"
      },
      "source": [
        "rank_model = RankNet(num_feature = n_feature)\n",
        "optimizer = torch.optim.Adam(rank_model.parameters())\n",
        "loss_fun = torch.nn.BCELoss()"
      ],
      "execution_count": 11,
      "outputs": []
    },
    {
      "cell_type": "code",
      "metadata": {
        "id": "qC0pGjI8l7Pj"
      },
      "source": [
        "# putting to GPU for faster learning\n",
        "rank_model.cuda()\n",
        "loss_fun.cuda()\n",
        "data1 = data1.cuda()\n",
        "data2 = data2.cuda()\n",
        "y = y.cuda()"
      ],
      "execution_count": 12,
      "outputs": []
    },
    {
      "cell_type": "code",
      "metadata": {
        "colab": {
          "base_uri": "https://localhost:8080/"
        },
        "id": "dbpBBjYVmKsu",
        "outputId": "03ba1c53-6eea-425d-b952-e29a7b7a5a04"
      },
      "source": [
        "epoch = 5000\n",
        "\n",
        "losses = []\n",
        "\n",
        "for i in range(epoch):\n",
        "    \n",
        "    rank_model.zero_grad()\n",
        "    \n",
        "    y_pred = rank_model(data1, data2)\n",
        "    \n",
        "    loss = loss_fun(y_pred,y)\n",
        "    \n",
        "    loss.backward()\n",
        "    optimizer.step()\n",
        "    \n",
        "    losses.append(loss.item())\n",
        "\n",
        "    if i % 200 == 0:\n",
        "        print('Epoch{}, loss : {}'.format(i, loss.item()))"
      ],
      "execution_count": 13,
      "outputs": [
        {
          "output_type": "stream",
          "text": [
            "Epoch0, loss : 0.6934983134269714\n",
            "Epoch200, loss : 0.6234923005104065\n",
            "Epoch400, loss : 0.5908725261688232\n",
            "Epoch600, loss : 0.5725120306015015\n",
            "Epoch800, loss : 0.5650842785835266\n",
            "Epoch1000, loss : 0.5539830923080444\n",
            "Epoch1200, loss : 0.5425616502761841\n",
            "Epoch1400, loss : 0.5443077683448792\n",
            "Epoch1600, loss : 0.5290021896362305\n",
            "Epoch1800, loss : 0.5167105793952942\n",
            "Epoch2000, loss : 0.5156576633453369\n",
            "Epoch2200, loss : 0.5250223875045776\n",
            "Epoch2400, loss : 0.5087729692459106\n",
            "Epoch2600, loss : 0.501204252243042\n",
            "Epoch2800, loss : 0.4987131655216217\n",
            "Epoch3000, loss : 0.49593260884284973\n",
            "Epoch3200, loss : 0.4908640384674072\n",
            "Epoch3400, loss : 0.4914567768573761\n",
            "Epoch3600, loss : 0.4882286489009857\n",
            "Epoch3800, loss : 0.48537924885749817\n",
            "Epoch4000, loss : 0.4817756116390228\n",
            "Epoch4200, loss : 0.4788053035736084\n",
            "Epoch4400, loss : 0.4834482669830322\n",
            "Epoch4600, loss : 0.48357853293418884\n",
            "Epoch4800, loss : 0.4835440516471863\n"
          ],
          "name": "stdout"
        }
      ]
    },
    {
      "cell_type": "code",
      "metadata": {
        "colab": {
          "base_uri": "https://localhost:8080/",
          "height": 282
        },
        "id": "G1HI8tsI39F8",
        "outputId": "2fb3073e-0832-44e6-83bd-35be97c4065a"
      },
      "source": [
        "x = list(range(5000))\n",
        "plt.plot(x, losses)"
      ],
      "execution_count": 16,
      "outputs": [
        {
          "output_type": "execute_result",
          "data": {
            "text/plain": [
              "[<matplotlib.lines.Line2D at 0x7fb0400c1590>]"
            ]
          },
          "metadata": {
            "tags": []
          },
          "execution_count": 16
        },
        {
          "output_type": "display_data",
          "data": {
            "image/png": "[encoded data removed]",
            "text/plain": [
              "<Figure size 432x288 with 1 Axes>"
            ]
          },
          "metadata": {
            "tags": [],
            "needs_background": "light"
          }
        }
      ]
    }
  ]
}