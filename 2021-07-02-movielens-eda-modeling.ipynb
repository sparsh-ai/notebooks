{
  "nbformat": 4,
  "nbformat_minor": 0,
  "metadata": {
    "colab": {
      "name": "RecSys ML-100K",
      "provenance": [],
      "collapsed_sections": [
        "P3zxEp3rv1dp",
        "esgNXuYbv3px",
        "NE-siEwGfdkI",
        "uAcjagBSv0nf",
        "9V8XlTyk0VhA",
        "esRH4hrSVk92"
      ],
      "toc_visible": true
    },
    "kernelspec": {
      "display_name": "Python 3",
      "language": "python",
      "name": "python3"
    },
    "language_info": {
      "codemirror_mode": {
        "name": "ipython",
        "version": 3
      },
      "file_extension": ".py",
      "mimetype": "text/x-python",
      "name": "python",
      "nbconvert_exporter": "python",
      "pygments_lexer": "ipython3",
      "version": "3.7.3"
    }
  },
  "cells": [
    {
      "cell_type": "markdown",
      "metadata": {
        "id": "tIenI7nCHMr3"
      },
      "source": [
        "# Movielens EDA and Modeling\n",
        "> EDA and modeling on movielens dataset\n",
        "\n",
        "- toc: true\n",
        "- badges: true\n",
        "- comments: true\n",
        "- categories: [EDA, Movie, Visualization]\n",
        "- image:"
      ]
    },
    {
      "cell_type": "markdown",
      "metadata": {
        "id": "8ER1Z1jdHIiJ"
      },
      "source": [
        "## Setup"
      ]
    },
    {
      "cell_type": "code",
      "metadata": {
        "id": "FPaNuXousiNo"
      },
      "source": [
        "# download dataset\n",
        "!wget http://files.grouplens.org/datasets/movielens/ml-100k.zip && unzip ml-100k.zip"
      ],
      "execution_count": null,
      "outputs": []
    },
    {
      "cell_type": "code",
      "metadata": {
        "id": "IXFx9QKPKIIb"
      },
      "source": [
        "!wget http://files.grouplens.org/datasets/movielens/ml-latest.zip && unzip ml-latest.zip"
      ],
      "execution_count": null,
      "outputs": []
    },
    {
      "cell_type": "code",
      "metadata": {
        "id": "A7O9Udy-tkQc"
      },
      "source": [
        "import numpy as np\n",
        "import pandas as pd\n",
        "from datetime import datetime\n",
        "from collections import OrderedDict\n",
        "\n",
        "import gc\n",
        "import sys\n",
        "from os.path import join\n",
        "from os.path import exists\n",
        "from functools import reduce\n",
        "from sklearn.metrics import mean_absolute_error\n",
        "from sklearn.model_selection import KFold\n",
        "from sklearn.model_selection import StratifiedKFold\n",
        "from sklearn.metrics.pairwise import cosine_similarity\n",
        "\n",
        "import matplotlib.pyplot as plt\n",
        "import seaborn as sns\n",
        "from IPython.display import Markdown\n",
        "\n",
        "import json\n",
        "import requests\n",
        "from IPython.display import HTML"
      ],
      "execution_count": null,
      "outputs": []
    },
    {
      "cell_type": "code",
      "metadata": {
        "id": "RIz214zLFfd5"
      },
      "source": [
        "import sys\n",
        "sys.path.append(\"/content/drive/MyDrive\")\n",
        "import mykeys\n",
        "\n",
        "api_key = mykeys.moviedb_key\n",
        "headers = {'Accept': 'application/json'}\n",
        "payload = {'api_key': api_key} \n",
        "try:\n",
        "    response = requests.get(\n",
        "        \"http://api.themoviedb.org/3/configuration\",\n",
        "        params=payload,\n",
        "        headers=headers,\n",
        "    )\n",
        "    response = json.loads(response.text)\n",
        "    base_url = response['images']['base_url'] + 'w185'\n",
        "except:\n",
        "    raise ValueError(\"Your API key might be invalid.\")"
      ],
      "execution_count": null,
      "outputs": []
    },
    {
      "cell_type": "markdown",
      "metadata": {
        "id": "MGZ3hgW6eGRJ"
      },
      "source": [
        "## Loading"
      ]
    },
    {
      "cell_type": "code",
      "metadata": {
        "colab": {
          "base_uri": "https://localhost:8080/",
          "height": 442
        },
        "id": "5I3NEefVs_Mo",
        "outputId": "9be201de-fc5d-44ea-c332-92713c32666f"
      },
      "source": [
        "# loading ratings data\n",
        "names = ['user_id', 'item_id', 'rating', 'timestamp']\n",
        "ratings_df = pd.read_csv('ml-100k/u.data', sep='\\t', names=names)\n",
        "print('First 5:')\n",
        "display(ratings_df.head())\n",
        "print()\n",
        "print('Last 5:')\n",
        "display(ratings_df.tail())"
      ],
      "execution_count": null,
      "outputs": [
        {
          "output_type": "stream",
          "text": [
            "First 5:\n"
          ],
          "name": "stdout"
        },
        {
          "output_type": "display_data",
          "data": {
            "text/html": [
              "<div>\n",
              "<style scoped>\n",
              "    .dataframe tbody tr th:only-of-type {\n",
              "        vertical-align: middle;\n",
              "    }\n",
              "\n",
              "    .dataframe tbody tr th {\n",
              "        vertical-align: top;\n",
              "    }\n",
              "\n",
              "    .dataframe thead th {\n",
              "        text-align: right;\n",
              "    }\n",
              "</style>\n",
              "<table border=\"1\" class=\"dataframe\">\n",
              "  <thead>\n",
              "    <tr style=\"text-align: right;\">\n",
              "      <th></th>\n",
              "      <th>user_id</th>\n",
              "      <th>item_id</th>\n",
              "      <th>rating</th>\n",
              "      <th>timestamp</th>\n",
              "    </tr>\n",
              "  </thead>\n",
              "  <tbody>\n",
              "    <tr>\n",
              "      <th>0</th>\n",
              "      <td>196</td>\n",
              "      <td>242</td>\n",
              "      <td>3</td>\n",
              "      <td>881250949</td>\n",
              "    </tr>\n",
              "    <tr>\n",
              "      <th>1</th>\n",
              "      <td>186</td>\n",
              "      <td>302</td>\n",
              "      <td>3</td>\n",
              "      <td>891717742</td>\n",
              "    </tr>\n",
              "    <tr>\n",
              "      <th>2</th>\n",
              "      <td>22</td>\n",
              "      <td>377</td>\n",
              "      <td>1</td>\n",
              "      <td>878887116</td>\n",
              "    </tr>\n",
              "    <tr>\n",
              "      <th>3</th>\n",
              "      <td>244</td>\n",
              "      <td>51</td>\n",
              "      <td>2</td>\n",
              "      <td>880606923</td>\n",
              "    </tr>\n",
              "    <tr>\n",
              "      <th>4</th>\n",
              "      <td>166</td>\n",
              "      <td>346</td>\n",
              "      <td>1</td>\n",
              "      <td>886397596</td>\n",
              "    </tr>\n",
              "  </tbody>\n",
              "</table>\n",
              "</div>"
            ],
            "text/plain": [
              "   user_id  item_id  rating  timestamp\n",
              "0      196      242       3  881250949\n",
              "1      186      302       3  891717742\n",
              "2       22      377       1  878887116\n",
              "3      244       51       2  880606923\n",
              "4      166      346       1  886397596"
            ]
          },
          "metadata": {
            "tags": []
          }
        },
        {
          "output_type": "stream",
          "text": [
            "\n",
            "Last 5:\n"
          ],
          "name": "stdout"
        },
        {
          "output_type": "display_data",
          "data": {
            "text/html": [
              "<div>\n",
              "<style scoped>\n",
              "    .dataframe tbody tr th:only-of-type {\n",
              "        vertical-align: middle;\n",
              "    }\n",
              "\n",
              "    .dataframe tbody tr th {\n",
              "        vertical-align: top;\n",
              "    }\n",
              "\n",
              "    .dataframe thead th {\n",
              "        text-align: right;\n",
              "    }\n",
              "</style>\n",
              "<table border=\"1\" class=\"dataframe\">\n",
              "  <thead>\n",
              "    <tr style=\"text-align: right;\">\n",
              "      <th></th>\n",
              "      <th>user_id</th>\n",
              "      <th>item_id</th>\n",
              "      <th>rating</th>\n",
              "      <th>timestamp</th>\n",
              "    </tr>\n",
              "  </thead>\n",
              "  <tbody>\n",
              "    <tr>\n",
              "      <th>99995</th>\n",
              "      <td>880</td>\n",
              "      <td>476</td>\n",
              "      <td>3</td>\n",
              "      <td>880175444</td>\n",
              "    </tr>\n",
              "    <tr>\n",
              "      <th>99996</th>\n",
              "      <td>716</td>\n",
              "      <td>204</td>\n",
              "      <td>5</td>\n",
              "      <td>879795543</td>\n",
              "    </tr>\n",
              "    <tr>\n",
              "      <th>99997</th>\n",
              "      <td>276</td>\n",
              "      <td>1090</td>\n",
              "      <td>1</td>\n",
              "      <td>874795795</td>\n",
              "    </tr>\n",
              "    <tr>\n",
              "      <th>99998</th>\n",
              "      <td>13</td>\n",
              "      <td>225</td>\n",
              "      <td>2</td>\n",
              "      <td>882399156</td>\n",
              "    </tr>\n",
              "    <tr>\n",
              "      <th>99999</th>\n",
              "      <td>12</td>\n",
              "      <td>203</td>\n",
              "      <td>3</td>\n",
              "      <td>879959583</td>\n",
              "    </tr>\n",
              "  </tbody>\n",
              "</table>\n",
              "</div>"
            ],
            "text/plain": [
              "       user_id  item_id  rating  timestamp\n",
              "99995      880      476       3  880175444\n",
              "99996      716      204       5  879795543\n",
              "99997      276     1090       1  874795795\n",
              "99998       13      225       2  882399156\n",
              "99999       12      203       3  879959583"
            ]
          },
          "metadata": {
            "tags": []
          }
        }
      ]
    },
    {
      "cell_type": "code",
      "metadata": {
        "colab": {
          "base_uri": "https://localhost:8080/",
          "height": 442
        },
        "id": "BRa-yWERT4Ur",
        "outputId": "e39b2aca-8bbc-4fcd-c2a4-749b39700ba9"
      },
      "source": [
        "names = [\"user_id\", \"age\" , \"gender\",\"occupation\", \"zip_code\"]\n",
        "user_df = pd.read_csv('ml-100k/u.user', sep='|', names=names)\n",
        "print('First 5:')\n",
        "display(user_df.head())\n",
        "print()\n",
        "print('Last 5:')\n",
        "display(user_df.tail())"
      ],
      "execution_count": null,
      "outputs": [
        {
          "output_type": "stream",
          "text": [
            "First 5:\n"
          ],
          "name": "stdout"
        },
        {
          "output_type": "display_data",
          "data": {
            "text/html": [
              "<div>\n",
              "<style scoped>\n",
              "    .dataframe tbody tr th:only-of-type {\n",
              "        vertical-align: middle;\n",
              "    }\n",
              "\n",
              "    .dataframe tbody tr th {\n",
              "        vertical-align: top;\n",
              "    }\n",
              "\n",
              "    .dataframe thead th {\n",
              "        text-align: right;\n",
              "    }\n",
              "</style>\n",
              "<table border=\"1\" class=\"dataframe\">\n",
              "  <thead>\n",
              "    <tr style=\"text-align: right;\">\n",
              "      <th></th>\n",
              "      <th>user_id</th>\n",
              "      <th>age</th>\n",
              "      <th>gender</th>\n",
              "      <th>occupation</th>\n",
              "      <th>zip_code</th>\n",
              "    </tr>\n",
              "  </thead>\n",
              "  <tbody>\n",
              "    <tr>\n",
              "      <th>0</th>\n",
              "      <td>1</td>\n",
              "      <td>24</td>\n",
              "      <td>M</td>\n",
              "      <td>technician</td>\n",
              "      <td>85711</td>\n",
              "    </tr>\n",
              "    <tr>\n",
              "      <th>1</th>\n",
              "      <td>2</td>\n",
              "      <td>53</td>\n",
              "      <td>F</td>\n",
              "      <td>other</td>\n",
              "      <td>94043</td>\n",
              "    </tr>\n",
              "    <tr>\n",
              "      <th>2</th>\n",
              "      <td>3</td>\n",
              "      <td>23</td>\n",
              "      <td>M</td>\n",
              "      <td>writer</td>\n",
              "      <td>32067</td>\n",
              "    </tr>\n",
              "    <tr>\n",
              "      <th>3</th>\n",
              "      <td>4</td>\n",
              "      <td>24</td>\n",
              "      <td>M</td>\n",
              "      <td>technician</td>\n",
              "      <td>43537</td>\n",
              "    </tr>\n",
              "    <tr>\n",
              "      <th>4</th>\n",
              "      <td>5</td>\n",
              "      <td>33</td>\n",
              "      <td>F</td>\n",
              "      <td>other</td>\n",
              "      <td>15213</td>\n",
              "    </tr>\n",
              "  </tbody>\n",
              "</table>\n",
              "</div>"
            ],
            "text/plain": [
              "   user_id  age gender  occupation zip_code\n",
              "0        1   24      M  technician    85711\n",
              "1        2   53      F       other    94043\n",
              "2        3   23      M      writer    32067\n",
              "3        4   24      M  technician    43537\n",
              "4        5   33      F       other    15213"
            ]
          },
          "metadata": {
            "tags": []
          }
        },
        {
          "output_type": "stream",
          "text": [
            "\n",
            "Last 5:\n"
          ],
          "name": "stdout"
        },
        {
          "output_type": "display_data",
          "data": {
            "text/html": [
              "<div>\n",
              "<style scoped>\n",
              "    .dataframe tbody tr th:only-of-type {\n",
              "        vertical-align: middle;\n",
              "    }\n",
              "\n",
              "    .dataframe tbody tr th {\n",
              "        vertical-align: top;\n",
              "    }\n",
              "\n",
              "    .dataframe thead th {\n",
              "        text-align: right;\n",
              "    }\n",
              "</style>\n",
              "<table border=\"1\" class=\"dataframe\">\n",
              "  <thead>\n",
              "    <tr style=\"text-align: right;\">\n",
              "      <th></th>\n",
              "      <th>user_id</th>\n",
              "      <th>age</th>\n",
              "      <th>gender</th>\n",
              "      <th>occupation</th>\n",
              "      <th>zip_code</th>\n",
              "    </tr>\n",
              "  </thead>\n",
              "  <tbody>\n",
              "    <tr>\n",
              "      <th>938</th>\n",
              "      <td>939</td>\n",
              "      <td>26</td>\n",
              "      <td>F</td>\n",
              "      <td>student</td>\n",
              "      <td>33319</td>\n",
              "    </tr>\n",
              "    <tr>\n",
              "      <th>939</th>\n",
              "      <td>940</td>\n",
              "      <td>32</td>\n",
              "      <td>M</td>\n",
              "      <td>administrator</td>\n",
              "      <td>02215</td>\n",
              "    </tr>\n",
              "    <tr>\n",
              "      <th>940</th>\n",
              "      <td>941</td>\n",
              "      <td>20</td>\n",
              "      <td>M</td>\n",
              "      <td>student</td>\n",
              "      <td>97229</td>\n",
              "    </tr>\n",
              "    <tr>\n",
              "      <th>941</th>\n",
              "      <td>942</td>\n",
              "      <td>48</td>\n",
              "      <td>F</td>\n",
              "      <td>librarian</td>\n",
              "      <td>78209</td>\n",
              "    </tr>\n",
              "    <tr>\n",
              "      <th>942</th>\n",
              "      <td>943</td>\n",
              "      <td>22</td>\n",
              "      <td>M</td>\n",
              "      <td>student</td>\n",
              "      <td>77841</td>\n",
              "    </tr>\n",
              "  </tbody>\n",
              "</table>\n",
              "</div>"
            ],
            "text/plain": [
              "     user_id  age gender     occupation zip_code\n",
              "938      939   26      F        student    33319\n",
              "939      940   32      M  administrator    02215\n",
              "940      941   20      M        student    97229\n",
              "941      942   48      F      librarian    78209\n",
              "942      943   22      M        student    77841"
            ]
          },
          "metadata": {
            "tags": []
          }
        }
      ]
    },
    {
      "cell_type": "code",
      "metadata": {
        "colab": {
          "base_uri": "https://localhost:8080/",
          "height": 442
        },
        "id": "TQb6xnXHUmNG",
        "outputId": "4aa208df-fadc-4bf9-bca1-515e72a0dc24"
      },
      "source": [
        "# loading ratings data\n",
        "names = [\"genre\", \"id\"]\n",
        "genre_df = pd.read_csv('ml-100k/u.genre', sep='|', names=names)\n",
        "print('First 5:')\n",
        "display(genre_df.head())\n",
        "print()\n",
        "print('Last 5:')\n",
        "display(genre_df.tail())"
      ],
      "execution_count": null,
      "outputs": [
        {
          "output_type": "stream",
          "text": [
            "First 5:\n"
          ],
          "name": "stdout"
        },
        {
          "output_type": "display_data",
          "data": {
            "text/html": [
              "<div>\n",
              "<style scoped>\n",
              "    .dataframe tbody tr th:only-of-type {\n",
              "        vertical-align: middle;\n",
              "    }\n",
              "\n",
              "    .dataframe tbody tr th {\n",
              "        vertical-align: top;\n",
              "    }\n",
              "\n",
              "    .dataframe thead th {\n",
              "        text-align: right;\n",
              "    }\n",
              "</style>\n",
              "<table border=\"1\" class=\"dataframe\">\n",
              "  <thead>\n",
              "    <tr style=\"text-align: right;\">\n",
              "      <th></th>\n",
              "      <th>genre</th>\n",
              "      <th>id</th>\n",
              "    </tr>\n",
              "  </thead>\n",
              "  <tbody>\n",
              "    <tr>\n",
              "      <th>0</th>\n",
              "      <td>unknown</td>\n",
              "      <td>0</td>\n",
              "    </tr>\n",
              "    <tr>\n",
              "      <th>1</th>\n",
              "      <td>Action</td>\n",
              "      <td>1</td>\n",
              "    </tr>\n",
              "    <tr>\n",
              "      <th>2</th>\n",
              "      <td>Adventure</td>\n",
              "      <td>2</td>\n",
              "    </tr>\n",
              "    <tr>\n",
              "      <th>3</th>\n",
              "      <td>Animation</td>\n",
              "      <td>3</td>\n",
              "    </tr>\n",
              "    <tr>\n",
              "      <th>4</th>\n",
              "      <td>Children's</td>\n",
              "      <td>4</td>\n",
              "    </tr>\n",
              "  </tbody>\n",
              "</table>\n",
              "</div>"
            ],
            "text/plain": [
              "        genre  id\n",
              "0     unknown   0\n",
              "1      Action   1\n",
              "2   Adventure   2\n",
              "3   Animation   3\n",
              "4  Children's   4"
            ]
          },
          "metadata": {
            "tags": []
          }
        },
        {
          "output_type": "stream",
          "text": [
            "\n",
            "Last 5:\n"
          ],
          "name": "stdout"
        },
        {
          "output_type": "display_data",
          "data": {
            "text/html": [
              "<div>\n",
              "<style scoped>\n",
              "    .dataframe tbody tr th:only-of-type {\n",
              "        vertical-align: middle;\n",
              "    }\n",
              "\n",
              "    .dataframe tbody tr th {\n",
              "        vertical-align: top;\n",
              "    }\n",
              "\n",
              "    .dataframe thead th {\n",
              "        text-align: right;\n",
              "    }\n",
              "</style>\n",
              "<table border=\"1\" class=\"dataframe\">\n",
              "  <thead>\n",
              "    <tr style=\"text-align: right;\">\n",
              "      <th></th>\n",
              "      <th>genre</th>\n",
              "      <th>id</th>\n",
              "    </tr>\n",
              "  </thead>\n",
              "  <tbody>\n",
              "    <tr>\n",
              "      <th>14</th>\n",
              "      <td>Romance</td>\n",
              "      <td>14</td>\n",
              "    </tr>\n",
              "    <tr>\n",
              "      <th>15</th>\n",
              "      <td>Sci-Fi</td>\n",
              "      <td>15</td>\n",
              "    </tr>\n",
              "    <tr>\n",
              "      <th>16</th>\n",
              "      <td>Thriller</td>\n",
              "      <td>16</td>\n",
              "    </tr>\n",
              "    <tr>\n",
              "      <th>17</th>\n",
              "      <td>War</td>\n",
              "      <td>17</td>\n",
              "    </tr>\n",
              "    <tr>\n",
              "      <th>18</th>\n",
              "      <td>Western</td>\n",
              "      <td>18</td>\n",
              "    </tr>\n",
              "  </tbody>\n",
              "</table>\n",
              "</div>"
            ],
            "text/plain": [
              "       genre  id\n",
              "14   Romance  14\n",
              "15    Sci-Fi  15\n",
              "16  Thriller  16\n",
              "17       War  17\n",
              "18   Western  18"
            ]
          },
          "metadata": {
            "tags": []
          }
        }
      ]
    },
    {
      "cell_type": "code",
      "metadata": {
        "colab": {
          "base_uri": "https://localhost:8080/",
          "height": 870
        },
        "id": "cunjyMYTtjMr",
        "outputId": "43a5375d-8e05-410f-cb47-c411b4f5d44c"
      },
      "source": [
        "# loading ratings data\n",
        "names = [\"item_id\", \"movie_title\", \"release_date\", \"video_release_date\", \"IMDb_URL\"]\n",
        "items_df = pd.read_csv('ml-100k/u.item', sep='|', encoding=\"iso-8859-1\", header=None)\n",
        "print('First 5:')\n",
        "display(items_df.head())\n",
        "print()\n",
        "print('Last 5:')\n",
        "display(items_df.tail())\n",
        "\n",
        "# loading movies info\n",
        "# item_info = pd.read_csv('ml-100k/u.item', sep='|', encoding=\"iso-8859-1\", \n",
        "                        # header=None)\n",
        "# item_info.columns = ['title']\n",
        "# item_info.head()"
      ],
      "execution_count": null,
      "outputs": [
        {
          "output_type": "stream",
          "text": [
            "First 5:\n"
          ],
          "name": "stdout"
        },
        {
          "output_type": "display_data",
          "data": {
            "text/html": [
              "<div>\n",
              "<style scoped>\n",
              "    .dataframe tbody tr th:only-of-type {\n",
              "        vertical-align: middle;\n",
              "    }\n",
              "\n",
              "    .dataframe tbody tr th {\n",
              "        vertical-align: top;\n",
              "    }\n",
              "\n",
              "    .dataframe thead th {\n",
              "        text-align: right;\n",
              "    }\n",
              "</style>\n",
              "<table border=\"1\" class=\"dataframe\">\n",
              "  <thead>\n",
              "    <tr style=\"text-align: right;\">\n",
              "      <th></th>\n",
              "      <th>0</th>\n",
              "      <th>1</th>\n",
              "      <th>2</th>\n",
              "      <th>3</th>\n",
              "      <th>4</th>\n",
              "      <th>5</th>\n",
              "      <th>6</th>\n",
              "      <th>7</th>\n",
              "      <th>8</th>\n",
              "      <th>9</th>\n",
              "      <th>10</th>\n",
              "      <th>11</th>\n",
              "      <th>12</th>\n",
              "      <th>13</th>\n",
              "      <th>14</th>\n",
              "      <th>15</th>\n",
              "      <th>16</th>\n",
              "      <th>17</th>\n",
              "      <th>18</th>\n",
              "      <th>19</th>\n",
              "      <th>20</th>\n",
              "      <th>21</th>\n",
              "      <th>22</th>\n",
              "      <th>23</th>\n",
              "    </tr>\n",
              "  </thead>\n",
              "  <tbody>\n",
              "    <tr>\n",
              "      <th>0</th>\n",
              "      <td>1</td>\n",
              "      <td>Toy Story (1995)</td>\n",
              "      <td>01-Jan-1995</td>\n",
              "      <td>NaN</td>\n",
              "      <td>http://us.imdb.com/M/title-exact?Toy%20Story%2...</td>\n",
              "      <td>0</td>\n",
              "      <td>0</td>\n",
              "      <td>0</td>\n",
              "      <td>1</td>\n",
              "      <td>1</td>\n",
              "      <td>1</td>\n",
              "      <td>0</td>\n",
              "      <td>0</td>\n",
              "      <td>0</td>\n",
              "      <td>0</td>\n",
              "      <td>0</td>\n",
              "      <td>0</td>\n",
              "      <td>0</td>\n",
              "      <td>0</td>\n",
              "      <td>0</td>\n",
              "      <td>0</td>\n",
              "      <td>0</td>\n",
              "      <td>0</td>\n",
              "      <td>0</td>\n",
              "    </tr>\n",
              "    <tr>\n",
              "      <th>1</th>\n",
              "      <td>2</td>\n",
              "      <td>GoldenEye (1995)</td>\n",
              "      <td>01-Jan-1995</td>\n",
              "      <td>NaN</td>\n",
              "      <td>http://us.imdb.com/M/title-exact?GoldenEye%20(...</td>\n",
              "      <td>0</td>\n",
              "      <td>1</td>\n",
              "      <td>1</td>\n",
              "      <td>0</td>\n",
              "      <td>0</td>\n",
              "      <td>0</td>\n",
              "      <td>0</td>\n",
              "      <td>0</td>\n",
              "      <td>0</td>\n",
              "      <td>0</td>\n",
              "      <td>0</td>\n",
              "      <td>0</td>\n",
              "      <td>0</td>\n",
              "      <td>0</td>\n",
              "      <td>0</td>\n",
              "      <td>0</td>\n",
              "      <td>1</td>\n",
              "      <td>0</td>\n",
              "      <td>0</td>\n",
              "    </tr>\n",
              "    <tr>\n",
              "      <th>2</th>\n",
              "      <td>3</td>\n",
              "      <td>Four Rooms (1995)</td>\n",
              "      <td>01-Jan-1995</td>\n",
              "      <td>NaN</td>\n",
              "      <td>http://us.imdb.com/M/title-exact?Four%20Rooms%...</td>\n",
              "      <td>0</td>\n",
              "      <td>0</td>\n",
              "      <td>0</td>\n",
              "      <td>0</td>\n",
              "      <td>0</td>\n",
              "      <td>0</td>\n",
              "      <td>0</td>\n",
              "      <td>0</td>\n",
              "      <td>0</td>\n",
              "      <td>0</td>\n",
              "      <td>0</td>\n",
              "      <td>0</td>\n",
              "      <td>0</td>\n",
              "      <td>0</td>\n",
              "      <td>0</td>\n",
              "      <td>0</td>\n",
              "      <td>1</td>\n",
              "      <td>0</td>\n",
              "      <td>0</td>\n",
              "    </tr>\n",
              "    <tr>\n",
              "      <th>3</th>\n",
              "      <td>4</td>\n",
              "      <td>Get Shorty (1995)</td>\n",
              "      <td>01-Jan-1995</td>\n",
              "      <td>NaN</td>\n",
              "      <td>http://us.imdb.com/M/title-exact?Get%20Shorty%...</td>\n",
              "      <td>0</td>\n",
              "      <td>1</td>\n",
              "      <td>0</td>\n",
              "      <td>0</td>\n",
              "      <td>0</td>\n",
              "      <td>1</td>\n",
              "      <td>0</td>\n",
              "      <td>0</td>\n",
              "      <td>1</td>\n",
              "      <td>0</td>\n",
              "      <td>0</td>\n",
              "      <td>0</td>\n",
              "      <td>0</td>\n",
              "      <td>0</td>\n",
              "      <td>0</td>\n",
              "      <td>0</td>\n",
              "      <td>0</td>\n",
              "      <td>0</td>\n",
              "      <td>0</td>\n",
              "    </tr>\n",
              "    <tr>\n",
              "      <th>4</th>\n",
              "      <td>5</td>\n",
              "      <td>Copycat (1995)</td>\n",
              "      <td>01-Jan-1995</td>\n",
              "      <td>NaN</td>\n",
              "      <td>http://us.imdb.com/M/title-exact?Copycat%20(1995)</td>\n",
              "      <td>0</td>\n",
              "      <td>0</td>\n",
              "      <td>0</td>\n",
              "      <td>0</td>\n",
              "      <td>0</td>\n",
              "      <td>0</td>\n",
              "      <td>1</td>\n",
              "      <td>0</td>\n",
              "      <td>1</td>\n",
              "      <td>0</td>\n",
              "      <td>0</td>\n",
              "      <td>0</td>\n",
              "      <td>0</td>\n",
              "      <td>0</td>\n",
              "      <td>0</td>\n",
              "      <td>0</td>\n",
              "      <td>1</td>\n",
              "      <td>0</td>\n",
              "      <td>0</td>\n",
              "    </tr>\n",
              "  </tbody>\n",
              "</table>\n",
              "</div>"
            ],
            "text/plain": [
              "   0                  1            2   3   ... 20  21  22  23\n",
              "0   1   Toy Story (1995)  01-Jan-1995 NaN  ...  0   0   0   0\n",
              "1   2   GoldenEye (1995)  01-Jan-1995 NaN  ...  0   1   0   0\n",
              "2   3  Four Rooms (1995)  01-Jan-1995 NaN  ...  0   1   0   0\n",
              "3   4  Get Shorty (1995)  01-Jan-1995 NaN  ...  0   0   0   0\n",
              "4   5     Copycat (1995)  01-Jan-1995 NaN  ...  0   1   0   0\n",
              "\n",
              "[5 rows x 24 columns]"
            ]
          },
          "metadata": {
            "tags": []
          }
        },
        {
          "output_type": "stream",
          "text": [
            "\n",
            "Last 5:\n"
          ],
          "name": "stdout"
        },
        {
          "output_type": "display_data",
          "data": {
            "text/html": [
              "<div>\n",
              "<style scoped>\n",
              "    .dataframe tbody tr th:only-of-type {\n",
              "        vertical-align: middle;\n",
              "    }\n",
              "\n",
              "    .dataframe tbody tr th {\n",
              "        vertical-align: top;\n",
              "    }\n",
              "\n",
              "    .dataframe thead th {\n",
              "        text-align: right;\n",
              "    }\n",
              "</style>\n",
              "<table border=\"1\" class=\"dataframe\">\n",
              "  <thead>\n",
              "    <tr style=\"text-align: right;\">\n",
              "      <th></th>\n",
              "      <th>0</th>\n",
              "      <th>1</th>\n",
              "      <th>2</th>\n",
              "      <th>3</th>\n",
              "      <th>4</th>\n",
              "      <th>5</th>\n",
              "      <th>6</th>\n",
              "      <th>7</th>\n",
              "      <th>8</th>\n",
              "      <th>9</th>\n",
              "      <th>10</th>\n",
              "      <th>11</th>\n",
              "      <th>12</th>\n",
              "      <th>13</th>\n",
              "      <th>14</th>\n",
              "      <th>15</th>\n",
              "      <th>16</th>\n",
              "      <th>17</th>\n",
              "      <th>18</th>\n",
              "      <th>19</th>\n",
              "      <th>20</th>\n",
              "      <th>21</th>\n",
              "      <th>22</th>\n",
              "      <th>23</th>\n",
              "    </tr>\n",
              "  </thead>\n",
              "  <tbody>\n",
              "    <tr>\n",
              "      <th>1677</th>\n",
              "      <td>1678</td>\n",
              "      <td>Mat' i syn (1997)</td>\n",
              "      <td>06-Feb-1998</td>\n",
              "      <td>NaN</td>\n",
              "      <td>http://us.imdb.com/M/title-exact?Mat%27+i+syn+...</td>\n",
              "      <td>0</td>\n",
              "      <td>0</td>\n",
              "      <td>0</td>\n",
              "      <td>0</td>\n",
              "      <td>0</td>\n",
              "      <td>0</td>\n",
              "      <td>0</td>\n",
              "      <td>0</td>\n",
              "      <td>1</td>\n",
              "      <td>0</td>\n",
              "      <td>0</td>\n",
              "      <td>0</td>\n",
              "      <td>0</td>\n",
              "      <td>0</td>\n",
              "      <td>0</td>\n",
              "      <td>0</td>\n",
              "      <td>0</td>\n",
              "      <td>0</td>\n",
              "      <td>0</td>\n",
              "    </tr>\n",
              "    <tr>\n",
              "      <th>1678</th>\n",
              "      <td>1679</td>\n",
              "      <td>B. Monkey (1998)</td>\n",
              "      <td>06-Feb-1998</td>\n",
              "      <td>NaN</td>\n",
              "      <td>http://us.imdb.com/M/title-exact?B%2E+Monkey+(...</td>\n",
              "      <td>0</td>\n",
              "      <td>0</td>\n",
              "      <td>0</td>\n",
              "      <td>0</td>\n",
              "      <td>0</td>\n",
              "      <td>0</td>\n",
              "      <td>0</td>\n",
              "      <td>0</td>\n",
              "      <td>0</td>\n",
              "      <td>0</td>\n",
              "      <td>0</td>\n",
              "      <td>0</td>\n",
              "      <td>0</td>\n",
              "      <td>0</td>\n",
              "      <td>1</td>\n",
              "      <td>0</td>\n",
              "      <td>1</td>\n",
              "      <td>0</td>\n",
              "      <td>0</td>\n",
              "    </tr>\n",
              "    <tr>\n",
              "      <th>1679</th>\n",
              "      <td>1680</td>\n",
              "      <td>Sliding Doors (1998)</td>\n",
              "      <td>01-Jan-1998</td>\n",
              "      <td>NaN</td>\n",
              "      <td>http://us.imdb.com/Title?Sliding+Doors+(1998)</td>\n",
              "      <td>0</td>\n",
              "      <td>0</td>\n",
              "      <td>0</td>\n",
              "      <td>0</td>\n",
              "      <td>0</td>\n",
              "      <td>0</td>\n",
              "      <td>0</td>\n",
              "      <td>0</td>\n",
              "      <td>1</td>\n",
              "      <td>0</td>\n",
              "      <td>0</td>\n",
              "      <td>0</td>\n",
              "      <td>0</td>\n",
              "      <td>0</td>\n",
              "      <td>1</td>\n",
              "      <td>0</td>\n",
              "      <td>0</td>\n",
              "      <td>0</td>\n",
              "      <td>0</td>\n",
              "    </tr>\n",
              "    <tr>\n",
              "      <th>1680</th>\n",
              "      <td>1681</td>\n",
              "      <td>You So Crazy (1994)</td>\n",
              "      <td>01-Jan-1994</td>\n",
              "      <td>NaN</td>\n",
              "      <td>http://us.imdb.com/M/title-exact?You%20So%20Cr...</td>\n",
              "      <td>0</td>\n",
              "      <td>0</td>\n",
              "      <td>0</td>\n",
              "      <td>0</td>\n",
              "      <td>0</td>\n",
              "      <td>1</td>\n",
              "      <td>0</td>\n",
              "      <td>0</td>\n",
              "      <td>0</td>\n",
              "      <td>0</td>\n",
              "      <td>0</td>\n",
              "      <td>0</td>\n",
              "      <td>0</td>\n",
              "      <td>0</td>\n",
              "      <td>0</td>\n",
              "      <td>0</td>\n",
              "      <td>0</td>\n",
              "      <td>0</td>\n",
              "      <td>0</td>\n",
              "    </tr>\n",
              "    <tr>\n",
              "      <th>1681</th>\n",
              "      <td>1682</td>\n",
              "      <td>Scream of Stone (Schrei aus Stein) (1991)</td>\n",
              "      <td>08-Mar-1996</td>\n",
              "      <td>NaN</td>\n",
              "      <td>http://us.imdb.com/M/title-exact?Schrei%20aus%...</td>\n",
              "      <td>0</td>\n",
              "      <td>0</td>\n",
              "      <td>0</td>\n",
              "      <td>0</td>\n",
              "      <td>0</td>\n",
              "      <td>0</td>\n",
              "      <td>0</td>\n",
              "      <td>0</td>\n",
              "      <td>1</td>\n",
              "      <td>0</td>\n",
              "      <td>0</td>\n",
              "      <td>0</td>\n",
              "      <td>0</td>\n",
              "      <td>0</td>\n",
              "      <td>0</td>\n",
              "      <td>0</td>\n",
              "      <td>0</td>\n",
              "      <td>0</td>\n",
              "      <td>0</td>\n",
              "    </tr>\n",
              "  </tbody>\n",
              "</table>\n",
              "</div>"
            ],
            "text/plain": [
              "        0                                          1            2   ...  21 22  23\n",
              "1677  1678                          Mat' i syn (1997)  06-Feb-1998  ...   0  0   0\n",
              "1678  1679                           B. Monkey (1998)  06-Feb-1998  ...   1  0   0\n",
              "1679  1680                       Sliding Doors (1998)  01-Jan-1998  ...   0  0   0\n",
              "1680  1681                        You So Crazy (1994)  01-Jan-1994  ...   0  0   0\n",
              "1681  1682  Scream of Stone (Schrei aus Stein) (1991)  08-Mar-1996  ...   0  0   0\n",
              "\n",
              "[5 rows x 24 columns]"
            ]
          },
          "metadata": {
            "tags": []
          }
        }
      ]
    },
    {
      "cell_type": "code",
      "metadata": {
        "colab": {
          "base_uri": "https://localhost:8080/",
          "height": 235
        },
        "id": "nOoke6XCBy9I",
        "outputId": "112a62e0-7537-4c30-d8d4-b5dcb6cf9271"
      },
      "source": [
        "links_df = pd.read_csv('ml-latest/links.csv', dtype=str).set_index('movieId', drop=True)\n",
        "links_df.head()"
      ],
      "execution_count": null,
      "outputs": [
        {
          "output_type": "execute_result",
          "data": {
            "text/html": [
              "<div>\n",
              "<style scoped>\n",
              "    .dataframe tbody tr th:only-of-type {\n",
              "        vertical-align: middle;\n",
              "    }\n",
              "\n",
              "    .dataframe tbody tr th {\n",
              "        vertical-align: top;\n",
              "    }\n",
              "\n",
              "    .dataframe thead th {\n",
              "        text-align: right;\n",
              "    }\n",
              "</style>\n",
              "<table border=\"1\" class=\"dataframe\">\n",
              "  <thead>\n",
              "    <tr style=\"text-align: right;\">\n",
              "      <th></th>\n",
              "      <th>imdbId</th>\n",
              "      <th>tmdbId</th>\n",
              "    </tr>\n",
              "    <tr>\n",
              "      <th>movieId</th>\n",
              "      <th></th>\n",
              "      <th></th>\n",
              "    </tr>\n",
              "  </thead>\n",
              "  <tbody>\n",
              "    <tr>\n",
              "      <th>1</th>\n",
              "      <td>0114709</td>\n",
              "      <td>862</td>\n",
              "    </tr>\n",
              "    <tr>\n",
              "      <th>2</th>\n",
              "      <td>0113497</td>\n",
              "      <td>8844</td>\n",
              "    </tr>\n",
              "    <tr>\n",
              "      <th>3</th>\n",
              "      <td>0113228</td>\n",
              "      <td>15602</td>\n",
              "    </tr>\n",
              "    <tr>\n",
              "      <th>4</th>\n",
              "      <td>0114885</td>\n",
              "      <td>31357</td>\n",
              "    </tr>\n",
              "    <tr>\n",
              "      <th>5</th>\n",
              "      <td>0113041</td>\n",
              "      <td>11862</td>\n",
              "    </tr>\n",
              "  </tbody>\n",
              "</table>\n",
              "</div>"
            ],
            "text/plain": [
              "          imdbId tmdbId\n",
              "movieId                \n",
              "1        0114709    862\n",
              "2        0113497   8844\n",
              "3        0113228  15602\n",
              "4        0114885  31357\n",
              "5        0113041  11862"
            ]
          },
          "metadata": {
            "tags": []
          },
          "execution_count": 33
        }
      ]
    },
    {
      "cell_type": "markdown",
      "metadata": {
        "id": "LgF2poXacsrt"
      },
      "source": [
        "Processed Data Loading"
      ]
    },
    {
      "cell_type": "code",
      "metadata": {
        "colab": {
          "base_uri": "https://localhost:8080/",
          "height": 442
        },
        "id": "3pxChbGKcusE",
        "outputId": "e8d548ab-4313-4ae7-e798-e7fc41804c39"
      },
      "source": [
        "pratings = pd.read_csv(dpath+'ratings.csv', sep=',', encoding='latin-1')\n",
        "print('First 5:')\n",
        "display(pratings.head())\n",
        "print()\n",
        "print('Last 5:')\n",
        "display(pratings.tail())"
      ],
      "execution_count": null,
      "outputs": [
        {
          "output_type": "stream",
          "text": [
            "First 5:\n"
          ],
          "name": "stdout"
        },
        {
          "output_type": "display_data",
          "data": {
            "text/html": [
              "<div>\n",
              "<style scoped>\n",
              "    .dataframe tbody tr th:only-of-type {\n",
              "        vertical-align: middle;\n",
              "    }\n",
              "\n",
              "    .dataframe tbody tr th {\n",
              "        vertical-align: top;\n",
              "    }\n",
              "\n",
              "    .dataframe thead th {\n",
              "        text-align: right;\n",
              "    }\n",
              "</style>\n",
              "<table border=\"1\" class=\"dataframe\">\n",
              "  <thead>\n",
              "    <tr style=\"text-align: right;\">\n",
              "      <th></th>\n",
              "      <th>UserId</th>\n",
              "      <th>MovieId</th>\n",
              "      <th>Rating</th>\n",
              "      <th>Timestamp</th>\n",
              "    </tr>\n",
              "  </thead>\n",
              "  <tbody>\n",
              "    <tr>\n",
              "      <th>0</th>\n",
              "      <td>196</td>\n",
              "      <td>242</td>\n",
              "      <td>3.0</td>\n",
              "      <td>881250949</td>\n",
              "    </tr>\n",
              "    <tr>\n",
              "      <th>1</th>\n",
              "      <td>186</td>\n",
              "      <td>302</td>\n",
              "      <td>3.0</td>\n",
              "      <td>891717742</td>\n",
              "    </tr>\n",
              "    <tr>\n",
              "      <th>2</th>\n",
              "      <td>22</td>\n",
              "      <td>377</td>\n",
              "      <td>1.0</td>\n",
              "      <td>878887116</td>\n",
              "    </tr>\n",
              "    <tr>\n",
              "      <th>3</th>\n",
              "      <td>244</td>\n",
              "      <td>51</td>\n",
              "      <td>2.0</td>\n",
              "      <td>880606923</td>\n",
              "    </tr>\n",
              "    <tr>\n",
              "      <th>4</th>\n",
              "      <td>166</td>\n",
              "      <td>346</td>\n",
              "      <td>1.0</td>\n",
              "      <td>886397596</td>\n",
              "    </tr>\n",
              "  </tbody>\n",
              "</table>\n",
              "</div>"
            ],
            "text/plain": [
              "   UserId  MovieId  Rating  Timestamp\n",
              "0     196      242     3.0  881250949\n",
              "1     186      302     3.0  891717742\n",
              "2      22      377     1.0  878887116\n",
              "3     244       51     2.0  880606923\n",
              "4     166      346     1.0  886397596"
            ]
          },
          "metadata": {
            "tags": []
          }
        },
        {
          "output_type": "stream",
          "text": [
            "\n",
            "Last 5:\n"
          ],
          "name": "stdout"
        },
        {
          "output_type": "display_data",
          "data": {
            "text/html": [
              "<div>\n",
              "<style scoped>\n",
              "    .dataframe tbody tr th:only-of-type {\n",
              "        vertical-align: middle;\n",
              "    }\n",
              "\n",
              "    .dataframe tbody tr th {\n",
              "        vertical-align: top;\n",
              "    }\n",
              "\n",
              "    .dataframe thead th {\n",
              "        text-align: right;\n",
              "    }\n",
              "</style>\n",
              "<table border=\"1\" class=\"dataframe\">\n",
              "  <thead>\n",
              "    <tr style=\"text-align: right;\">\n",
              "      <th></th>\n",
              "      <th>UserId</th>\n",
              "      <th>MovieId</th>\n",
              "      <th>Rating</th>\n",
              "      <th>Timestamp</th>\n",
              "    </tr>\n",
              "  </thead>\n",
              "  <tbody>\n",
              "    <tr>\n",
              "      <th>99995</th>\n",
              "      <td>880</td>\n",
              "      <td>476</td>\n",
              "      <td>3.0</td>\n",
              "      <td>880175444</td>\n",
              "    </tr>\n",
              "    <tr>\n",
              "      <th>99996</th>\n",
              "      <td>716</td>\n",
              "      <td>204</td>\n",
              "      <td>5.0</td>\n",
              "      <td>879795543</td>\n",
              "    </tr>\n",
              "    <tr>\n",
              "      <th>99997</th>\n",
              "      <td>276</td>\n",
              "      <td>1090</td>\n",
              "      <td>1.0</td>\n",
              "      <td>874795795</td>\n",
              "    </tr>\n",
              "    <tr>\n",
              "      <th>99998</th>\n",
              "      <td>13</td>\n",
              "      <td>225</td>\n",
              "      <td>2.0</td>\n",
              "      <td>882399156</td>\n",
              "    </tr>\n",
              "    <tr>\n",
              "      <th>99999</th>\n",
              "      <td>12</td>\n",
              "      <td>203</td>\n",
              "      <td>3.0</td>\n",
              "      <td>879959583</td>\n",
              "    </tr>\n",
              "  </tbody>\n",
              "</table>\n",
              "</div>"
            ],
            "text/plain": [
              "       UserId  MovieId  Rating  Timestamp\n",
              "99995     880      476     3.0  880175444\n",
              "99996     716      204     5.0  879795543\n",
              "99997     276     1090     1.0  874795795\n",
              "99998      13      225     2.0  882399156\n",
              "99999      12      203     3.0  879959583"
            ]
          },
          "metadata": {
            "tags": []
          }
        }
      ]
    },
    {
      "cell_type": "code",
      "metadata": {
        "colab": {
          "base_uri": "https://localhost:8080/",
          "height": 887
        },
        "id": "cVZliw_EdDTP",
        "outputId": "69525b04-73ab-440d-d791-0d7045e2913f"
      },
      "source": [
        "pmovies = pd.read_csv(dpath+'items.csv', sep=',', encoding='latin-1')\n",
        "print('First 5:')\n",
        "display(pmovies.head())\n",
        "print()\n",
        "print('Last 5:')\n",
        "display(pmovies.tail())"
      ],
      "execution_count": null,
      "outputs": [
        {
          "output_type": "stream",
          "text": [
            "First 5:\n"
          ],
          "name": "stdout"
        },
        {
          "output_type": "display_data",
          "data": {
            "text/html": [
              "<div>\n",
              "<style scoped>\n",
              "    .dataframe tbody tr th:only-of-type {\n",
              "        vertical-align: middle;\n",
              "    }\n",
              "\n",
              "    .dataframe tbody tr th {\n",
              "        vertical-align: top;\n",
              "    }\n",
              "\n",
              "    .dataframe thead th {\n",
              "        text-align: right;\n",
              "    }\n",
              "</style>\n",
              "<table border=\"1\" class=\"dataframe\">\n",
              "  <thead>\n",
              "    <tr style=\"text-align: right;\">\n",
              "      <th></th>\n",
              "      <th>ItemID</th>\n",
              "      <th>Title</th>\n",
              "      <th>Release Date</th>\n",
              "      <th>Video Release Date</th>\n",
              "      <th>IMDb URL</th>\n",
              "      <th>unknown</th>\n",
              "      <th>Action</th>\n",
              "      <th>Adventure</th>\n",
              "      <th>Animation</th>\n",
              "      <th>Children's</th>\n",
              "      <th>Comedy</th>\n",
              "      <th>Crime</th>\n",
              "      <th>Documentary</th>\n",
              "      <th>Drama</th>\n",
              "      <th>Fantasy</th>\n",
              "      <th>Film-Noir</th>\n",
              "      <th>Horror</th>\n",
              "      <th>Musical</th>\n",
              "      <th>Mystery</th>\n",
              "      <th>Romance</th>\n",
              "      <th>Sci-Fi</th>\n",
              "      <th>Thriller</th>\n",
              "      <th>War</th>\n",
              "      <th>Western</th>\n",
              "    </tr>\n",
              "  </thead>\n",
              "  <tbody>\n",
              "    <tr>\n",
              "      <th>0</th>\n",
              "      <td>1</td>\n",
              "      <td>Toy Story (1995)</td>\n",
              "      <td>01-Jan-1995</td>\n",
              "      <td>NaN</td>\n",
              "      <td>http://us.imdb.com/M/title-exact?Toy%20Story%2...</td>\n",
              "      <td>0</td>\n",
              "      <td>0</td>\n",
              "      <td>0</td>\n",
              "      <td>1</td>\n",
              "      <td>1</td>\n",
              "      <td>1</td>\n",
              "      <td>0</td>\n",
              "      <td>0</td>\n",
              "      <td>0</td>\n",
              "      <td>0</td>\n",
              "      <td>0</td>\n",
              "      <td>0</td>\n",
              "      <td>0</td>\n",
              "      <td>0</td>\n",
              "      <td>0</td>\n",
              "      <td>0</td>\n",
              "      <td>0</td>\n",
              "      <td>0</td>\n",
              "      <td>0</td>\n",
              "    </tr>\n",
              "    <tr>\n",
              "      <th>1</th>\n",
              "      <td>2</td>\n",
              "      <td>GoldenEye (1995)</td>\n",
              "      <td>01-Jan-1995</td>\n",
              "      <td>NaN</td>\n",
              "      <td>http://us.imdb.com/M/title-exact?GoldenEye%20(...</td>\n",
              "      <td>0</td>\n",
              "      <td>1</td>\n",
              "      <td>1</td>\n",
              "      <td>0</td>\n",
              "      <td>0</td>\n",
              "      <td>0</td>\n",
              "      <td>0</td>\n",
              "      <td>0</td>\n",
              "      <td>0</td>\n",
              "      <td>0</td>\n",
              "      <td>0</td>\n",
              "      <td>0</td>\n",
              "      <td>0</td>\n",
              "      <td>0</td>\n",
              "      <td>0</td>\n",
              "      <td>0</td>\n",
              "      <td>1</td>\n",
              "      <td>0</td>\n",
              "      <td>0</td>\n",
              "    </tr>\n",
              "    <tr>\n",
              "      <th>2</th>\n",
              "      <td>3</td>\n",
              "      <td>Four Rooms (1995)</td>\n",
              "      <td>01-Jan-1995</td>\n",
              "      <td>NaN</td>\n",
              "      <td>http://us.imdb.com/M/title-exact?Four%20Rooms%...</td>\n",
              "      <td>0</td>\n",
              "      <td>0</td>\n",
              "      <td>0</td>\n",
              "      <td>0</td>\n",
              "      <td>0</td>\n",
              "      <td>0</td>\n",
              "      <td>0</td>\n",
              "      <td>0</td>\n",
              "      <td>0</td>\n",
              "      <td>0</td>\n",
              "      <td>0</td>\n",
              "      <td>0</td>\n",
              "      <td>0</td>\n",
              "      <td>0</td>\n",
              "      <td>0</td>\n",
              "      <td>0</td>\n",
              "      <td>1</td>\n",
              "      <td>0</td>\n",
              "      <td>0</td>\n",
              "    </tr>\n",
              "    <tr>\n",
              "      <th>3</th>\n",
              "      <td>4</td>\n",
              "      <td>Get Shorty (1995)</td>\n",
              "      <td>01-Jan-1995</td>\n",
              "      <td>NaN</td>\n",
              "      <td>http://us.imdb.com/M/title-exact?Get%20Shorty%...</td>\n",
              "      <td>0</td>\n",
              "      <td>1</td>\n",
              "      <td>0</td>\n",
              "      <td>0</td>\n",
              "      <td>0</td>\n",
              "      <td>1</td>\n",
              "      <td>0</td>\n",
              "      <td>0</td>\n",
              "      <td>1</td>\n",
              "      <td>0</td>\n",
              "      <td>0</td>\n",
              "      <td>0</td>\n",
              "      <td>0</td>\n",
              "      <td>0</td>\n",
              "      <td>0</td>\n",
              "      <td>0</td>\n",
              "      <td>0</td>\n",
              "      <td>0</td>\n",
              "      <td>0</td>\n",
              "    </tr>\n",
              "    <tr>\n",
              "      <th>4</th>\n",
              "      <td>5</td>\n",
              "      <td>Copycat (1995)</td>\n",
              "      <td>01-Jan-1995</td>\n",
              "      <td>NaN</td>\n",
              "      <td>http://us.imdb.com/M/title-exact?Copycat%20(1995)</td>\n",
              "      <td>0</td>\n",
              "      <td>0</td>\n",
              "      <td>0</td>\n",
              "      <td>0</td>\n",
              "      <td>0</td>\n",
              "      <td>0</td>\n",
              "      <td>1</td>\n",
              "      <td>0</td>\n",
              "      <td>1</td>\n",
              "      <td>0</td>\n",
              "      <td>0</td>\n",
              "      <td>0</td>\n",
              "      <td>0</td>\n",
              "      <td>0</td>\n",
              "      <td>0</td>\n",
              "      <td>0</td>\n",
              "      <td>1</td>\n",
              "      <td>0</td>\n",
              "      <td>0</td>\n",
              "    </tr>\n",
              "  </tbody>\n",
              "</table>\n",
              "</div>"
            ],
            "text/plain": [
              "   ItemID              Title Release Date  ...  Thriller War  Western\n",
              "0       1   Toy Story (1995)  01-Jan-1995  ...         0   0        0\n",
              "1       2   GoldenEye (1995)  01-Jan-1995  ...         1   0        0\n",
              "2       3  Four Rooms (1995)  01-Jan-1995  ...         1   0        0\n",
              "3       4  Get Shorty (1995)  01-Jan-1995  ...         0   0        0\n",
              "4       5     Copycat (1995)  01-Jan-1995  ...         1   0        0\n",
              "\n",
              "[5 rows x 24 columns]"
            ]
          },
          "metadata": {
            "tags": []
          }
        },
        {
          "output_type": "stream",
          "text": [
            "\n",
            "Last 5:\n"
          ],
          "name": "stdout"
        },
        {
          "output_type": "display_data",
          "data": {
            "text/html": [
              "<div>\n",
              "<style scoped>\n",
              "    .dataframe tbody tr th:only-of-type {\n",
              "        vertical-align: middle;\n",
              "    }\n",
              "\n",
              "    .dataframe tbody tr th {\n",
              "        vertical-align: top;\n",
              "    }\n",
              "\n",
              "    .dataframe thead th {\n",
              "        text-align: right;\n",
              "    }\n",
              "</style>\n",
              "<table border=\"1\" class=\"dataframe\">\n",
              "  <thead>\n",
              "    <tr style=\"text-align: right;\">\n",
              "      <th></th>\n",
              "      <th>ItemID</th>\n",
              "      <th>Title</th>\n",
              "      <th>Release Date</th>\n",
              "      <th>Video Release Date</th>\n",
              "      <th>IMDb URL</th>\n",
              "      <th>unknown</th>\n",
              "      <th>Action</th>\n",
              "      <th>Adventure</th>\n",
              "      <th>Animation</th>\n",
              "      <th>Children's</th>\n",
              "      <th>Comedy</th>\n",
              "      <th>Crime</th>\n",
              "      <th>Documentary</th>\n",
              "      <th>Drama</th>\n",
              "      <th>Fantasy</th>\n",
              "      <th>Film-Noir</th>\n",
              "      <th>Horror</th>\n",
              "      <th>Musical</th>\n",
              "      <th>Mystery</th>\n",
              "      <th>Romance</th>\n",
              "      <th>Sci-Fi</th>\n",
              "      <th>Thriller</th>\n",
              "      <th>War</th>\n",
              "      <th>Western</th>\n",
              "    </tr>\n",
              "  </thead>\n",
              "  <tbody>\n",
              "    <tr>\n",
              "      <th>1677</th>\n",
              "      <td>1678</td>\n",
              "      <td>Mat' i syn (1997)</td>\n",
              "      <td>06-Feb-1998</td>\n",
              "      <td>NaN</td>\n",
              "      <td>http://us.imdb.com/M/title-exact?Mat%27+i+syn+...</td>\n",
              "      <td>0</td>\n",
              "      <td>0</td>\n",
              "      <td>0</td>\n",
              "      <td>0</td>\n",
              "      <td>0</td>\n",
              "      <td>0</td>\n",
              "      <td>0</td>\n",
              "      <td>0</td>\n",
              "      <td>1</td>\n",
              "      <td>0</td>\n",
              "      <td>0</td>\n",
              "      <td>0</td>\n",
              "      <td>0</td>\n",
              "      <td>0</td>\n",
              "      <td>0</td>\n",
              "      <td>0</td>\n",
              "      <td>0</td>\n",
              "      <td>0</td>\n",
              "      <td>0</td>\n",
              "    </tr>\n",
              "    <tr>\n",
              "      <th>1678</th>\n",
              "      <td>1679</td>\n",
              "      <td>B. Monkey (1998)</td>\n",
              "      <td>06-Feb-1998</td>\n",
              "      <td>NaN</td>\n",
              "      <td>http://us.imdb.com/M/title-exact?B%2E+Monkey+(...</td>\n",
              "      <td>0</td>\n",
              "      <td>0</td>\n",
              "      <td>0</td>\n",
              "      <td>0</td>\n",
              "      <td>0</td>\n",
              "      <td>0</td>\n",
              "      <td>0</td>\n",
              "      <td>0</td>\n",
              "      <td>0</td>\n",
              "      <td>0</td>\n",
              "      <td>0</td>\n",
              "      <td>0</td>\n",
              "      <td>0</td>\n",
              "      <td>0</td>\n",
              "      <td>1</td>\n",
              "      <td>0</td>\n",
              "      <td>1</td>\n",
              "      <td>0</td>\n",
              "      <td>0</td>\n",
              "    </tr>\n",
              "    <tr>\n",
              "      <th>1679</th>\n",
              "      <td>1680</td>\n",
              "      <td>Sliding Doors (1998)</td>\n",
              "      <td>01-Jan-1998</td>\n",
              "      <td>NaN</td>\n",
              "      <td>http://us.imdb.com/Title?Sliding+Doors+(1998)</td>\n",
              "      <td>0</td>\n",
              "      <td>0</td>\n",
              "      <td>0</td>\n",
              "      <td>0</td>\n",
              "      <td>0</td>\n",
              "      <td>0</td>\n",
              "      <td>0</td>\n",
              "      <td>0</td>\n",
              "      <td>1</td>\n",
              "      <td>0</td>\n",
              "      <td>0</td>\n",
              "      <td>0</td>\n",
              "      <td>0</td>\n",
              "      <td>0</td>\n",
              "      <td>1</td>\n",
              "      <td>0</td>\n",
              "      <td>0</td>\n",
              "      <td>0</td>\n",
              "      <td>0</td>\n",
              "    </tr>\n",
              "    <tr>\n",
              "      <th>1680</th>\n",
              "      <td>1681</td>\n",
              "      <td>You So Crazy (1994)</td>\n",
              "      <td>01-Jan-1994</td>\n",
              "      <td>NaN</td>\n",
              "      <td>http://us.imdb.com/M/title-exact?You%20So%20Cr...</td>\n",
              "      <td>0</td>\n",
              "      <td>0</td>\n",
              "      <td>0</td>\n",
              "      <td>0</td>\n",
              "      <td>0</td>\n",
              "      <td>1</td>\n",
              "      <td>0</td>\n",
              "      <td>0</td>\n",
              "      <td>0</td>\n",
              "      <td>0</td>\n",
              "      <td>0</td>\n",
              "      <td>0</td>\n",
              "      <td>0</td>\n",
              "      <td>0</td>\n",
              "      <td>0</td>\n",
              "      <td>0</td>\n",
              "      <td>0</td>\n",
              "      <td>0</td>\n",
              "      <td>0</td>\n",
              "    </tr>\n",
              "    <tr>\n",
              "      <th>1681</th>\n",
              "      <td>1682</td>\n",
              "      <td>Scream of Stone (Schrei aus Stein) (1991)</td>\n",
              "      <td>08-Mar-1996</td>\n",
              "      <td>NaN</td>\n",
              "      <td>http://us.imdb.com/M/title-exact?Schrei%20aus%...</td>\n",
              "      <td>0</td>\n",
              "      <td>0</td>\n",
              "      <td>0</td>\n",
              "      <td>0</td>\n",
              "      <td>0</td>\n",
              "      <td>0</td>\n",
              "      <td>0</td>\n",
              "      <td>0</td>\n",
              "      <td>1</td>\n",
              "      <td>0</td>\n",
              "      <td>0</td>\n",
              "      <td>0</td>\n",
              "      <td>0</td>\n",
              "      <td>0</td>\n",
              "      <td>0</td>\n",
              "      <td>0</td>\n",
              "      <td>0</td>\n",
              "      <td>0</td>\n",
              "      <td>0</td>\n",
              "    </tr>\n",
              "  </tbody>\n",
              "</table>\n",
              "</div>"
            ],
            "text/plain": [
              "      ItemID                                      Title  ... War  Western\n",
              "1677    1678                          Mat' i syn (1997)  ...   0        0\n",
              "1678    1679                           B. Monkey (1998)  ...   0        0\n",
              "1679    1680                       Sliding Doors (1998)  ...   0        0\n",
              "1680    1681                        You So Crazy (1994)  ...   0        0\n",
              "1681    1682  Scream of Stone (Schrei aus Stein) (1991)  ...   0        0\n",
              "\n",
              "[5 rows x 24 columns]"
            ]
          },
          "metadata": {
            "tags": []
          }
        }
      ]
    },
    {
      "cell_type": "markdown",
      "metadata": {
        "id": "P3zxEp3rv1dp"
      },
      "source": [
        "## EDA"
      ]
    },
    {
      "cell_type": "markdown",
      "metadata": {
        "id": "37wFHRLxxIgE"
      },
      "source": [
        "How are the ratings distributed?"
      ]
    },
    {
      "cell_type": "code",
      "metadata": {
        "colab": {
          "base_uri": "https://localhost:8080/"
        },
        "id": "dznTr9RAt_-r",
        "outputId": "275110b8-68a8-4bcb-efe2-0a2b884cc53d"
      },
      "source": [
        "norm_counts = (\n",
        "    ratings_df['rating']\n",
        "    .value_counts(normalize=True, sort=False)\n",
        "    .multiply(100)\n",
        "    .reset_index()\n",
        "    .rename(columns={'rating': 'percent', 'index': 'rating'})\n",
        ")\n",
        "ax = sns.barplot(x='rating', y='percent', data=norm_counts)\n",
        "ax.set_title('Rating Frequencies')\n",
        "plt.show()"
      ],
      "execution_count": null,
      "outputs": [
        {
          "output_type": "display_data",
          "data": {
            "image/png": "[encoded data removed]",
            "text/plain": [
              "<Figure size 432x288 with 1 Axes>"
            ]
          },
          "metadata": {
            "tags": [],
            "needs_background": "light"
          }
        }
      ]
    },
    {
      "cell_type": "markdown",
      "metadata": {
        "id": "zovPxXNmxL0Q"
      },
      "source": [
        "How many ratings were submitted per month?"
      ]
    },
    {
      "cell_type": "code",
      "metadata": {
        "colab": {
          "base_uri": "https://localhost:8080/"
        },
        "id": "ud5CydO0wYJp",
        "outputId": "52538223-305b-435f-f23f-6690555403fc"
      },
      "source": [
        "def _process_ratings(ratings_df):\n",
        "  ratings_df = ratings_df.copy()\n",
        "  ratings_df['timestamp'] = ratings_df['timestamp'].apply(datetime.fromtimestamp)\n",
        "  ratings_df['year'] = ratings_df['timestamp'].dt.year\n",
        "  ratings_df['month'] = ratings_df['timestamp'].dt.month\n",
        "  ratings_df = ratings_df.sort_values('timestamp')\n",
        "  return ratings_df\n",
        "\n",
        "_ratings_df = _process_ratings(ratings_df)\n",
        "month_counts = _ratings_df[['year', 'month', 'rating']].groupby(['year', 'month']).count()\n",
        "month_counts = month_counts.rename(index=str, columns={'rating': '# of Ratings'})\n",
        "month_counts = month_counts.reset_index()\n",
        "month_counts['Date'] = month_counts[['year', 'month']].apply(\n",
        "    lambda x: datetime(year=int(x[0]), month=int(x[1]), day=1), axis=1\n",
        ")\n",
        "month_counts = month_counts.set_index('Date', drop=True)\n",
        "month_counts['# of Ratings'].plot(style='o-')\n",
        "plt.ylabel('# of Ratings')\n",
        "plt.title('# of Ratings per Month')\n",
        "plt.ylim([0, 25000])\n",
        "plt.gca().grid(which='minor')\n",
        "plt.show()"
      ],
      "execution_count": null,
      "outputs": [
        {
          "output_type": "display_data",
          "data": {
            "image/png": "[encoded data removed]",
            "text/plain": [
              "<Figure size 432x288 with 1 Axes>"
            ]
          },
          "metadata": {
            "tags": [],
            "needs_background": "light"
          }
        }
      ]
    },
    {
      "cell_type": "markdown",
      "metadata": {
        "id": "LmFbi9GIyvj7"
      },
      "source": [
        "How consistent are the average ratings over time?"
      ]
    },
    {
      "cell_type": "code",
      "metadata": {
        "colab": {
          "base_uri": "https://localhost:8080/"
        },
        "id": "4MfgBKY1ywXd",
        "outputId": "dc9dfbba-d1b0-4dfa-9a87-3679d36f83c0"
      },
      "source": [
        "month_counts = _ratings_df.groupby(['year', 'month'])['rating'].agg([np.mean, np.std])\n",
        "month_counts = month_counts.rename(index=str, columns={'mean': 'Rating'})\n",
        "month_counts = month_counts.reset_index()\n",
        "month_counts['Date'] = month_counts[['year', 'month']].apply(\n",
        "    lambda x: datetime(year=int(x[0]), month=int(x[1]), day=1), axis=1\n",
        ")\n",
        "month_counts = month_counts.set_index('Date', drop=True)\n",
        "month_counts['Rating'].plot(style='o-')\n",
        "plt.fill_between(month_counts.index,\n",
        "                 month_counts['Rating'] - month_counts['std'],\n",
        "                 month_counts['Rating'] + month_counts['std'],\n",
        "                 alpha=0.3,\n",
        "                )\n",
        "plt.ylim([0, 5])\n",
        "plt.ylabel('Rating')\n",
        "plt.gca().grid(which='minor')\n",
        "plt.title('Rating Consistency over Time')\n",
        "plt.show()"
      ],
      "execution_count": null,
      "outputs": [
        {
          "output_type": "display_data",
          "data": {
            "image/png": "[encoded data removed]",
            "text/plain": [
              "<Figure size 432x288 with 1 Axes>"
            ]
          },
          "metadata": {
            "tags": [],
            "needs_background": "light"
          }
        }
      ]
    },
    {
      "cell_type": "markdown",
      "metadata": {
        "id": "6N28rrxazkQF"
      },
      "source": [
        "How quickly do the movie and user bases grow over time?\n",
        "\n",
        "*(assume that a user has joined on her first rating, and that she remains a user from then on.)*"
      ]
    },
    {
      "cell_type": "code",
      "metadata": {
        "colab": {
          "base_uri": "https://localhost:8080/"
        },
        "id": "v9wfw3cBzwMQ",
        "outputId": "ff8ac96d-94da-4466-c1e4-fe4942e40174"
      },
      "source": [
        "_ratings_df['Date'] = _ratings_df[['year', 'month']].apply(\n",
        "    lambda x: datetime(year=int(x[0]), month=int(x[1]), day=1), axis=1\n",
        ")\n",
        "n_users = []\n",
        "n_movies = []\n",
        "dates = np.unique(_ratings_df['Date'])\n",
        "for date in dates:\n",
        "    n_users.append(_ratings_df[_ratings_df['Date'] <= date]['user_id'].nunique())\n",
        "    n_movies.append(_ratings_df[_ratings_df['Date'] <= date]['item_id'].nunique())\n",
        "df_users = pd.DataFrame({'Date': dates, '# of Users': n_users}).set_index('Date')\n",
        "df_movies = pd.DataFrame({'Date': dates, '# of Movies': n_movies}).set_index('Date')\n",
        "fig, ax = plt.subplots()\n",
        "df_movies['# of Movies'].plot(style='o-', ax=ax)\n",
        "df_users['# of Users'].plot(style='o-', ax=ax)\n",
        "plt.ylabel('Count')\n",
        "plt.ylim([0, 2000])\n",
        "ax.grid(which='minor')\n",
        "plt.tight_layout()\n",
        "plt.legend()\n",
        "plt.show()"
      ],
      "execution_count": null,
      "outputs": [
        {
          "output_type": "display_data",
          "data": {
            "image/png": "[encoded data removed]",
            "text/plain": [
              "<Figure size 432x288 with 1 Axes>"
            ]
          },
          "metadata": {
            "tags": [],
            "needs_background": "light"
          }
        }
      ]
    },
    {
      "cell_type": "markdown",
      "metadata": {
        "id": "8YfIhvyT1V9s"
      },
      "source": [
        "How sparse is the user/movies matrix we'll be dealing with?"
      ]
    },
    {
      "cell_type": "code",
      "metadata": {
        "id": "9mwhPAHj0-rq"
      },
      "source": [
        "def get_rating_matrix(X):\n",
        "    \"\"\"Function to generate a ratings matrix and mappings for\n",
        "    the user and item ids to the row and column indices\n",
        "    Parameters\n",
        "    ----------\n",
        "    X : pandas.DataFrame, shape=(n_ratings,>=3)\n",
        "        First 3 columns must be in order of user, item, rating.\n",
        "    Returns\n",
        "    -------\n",
        "    rating_matrix : 2d numpy array, shape=(n_users, n_items)\n",
        "    user_map : pandas Series, shape=(n_users,)\n",
        "        Mapping from the original user id to an integer in the range [0,n_users)\n",
        "    item_map : pandas Series, shape=(n_items,)\n",
        "        Mapping from the original item id to an integer in the range [0,n_items)\n",
        "    \"\"\"\n",
        "    user_col, item_col, rating_col = X.columns[:3]\n",
        "    rating = X[rating_col]\n",
        "    user_map = pd.Series(\n",
        "        index=np.unique(X[user_col]),\n",
        "        data=np.arange(X[user_col].nunique()),\n",
        "        name='user_map',\n",
        "    )\n",
        "    item_map = pd.Series(\n",
        "        index=np.unique(X[item_col]),\n",
        "        data=np.arange(X[item_col].nunique()),\n",
        "        name='columns_map',\n",
        "    )\n",
        "    user_inds = X[user_col].map(user_map)\n",
        "    item_inds = X[item_col].map(item_map)\n",
        "    rating_matrix = (\n",
        "        pd.pivot_table(\n",
        "            data=X,\n",
        "            values=rating_col,\n",
        "            index=user_inds,\n",
        "            columns=item_inds,\n",
        "        )\n",
        "        .fillna(0)\n",
        "        .values\n",
        "    )\n",
        "    return rating_matrix, user_map, item_map"
      ],
      "execution_count": null,
      "outputs": []
    },
    {
      "cell_type": "code",
      "metadata": {
        "colab": {
          "base_uri": "https://localhost:8080/"
        },
        "id": "TEmliigh1PFn",
        "outputId": "b192fb2a-eabe-4626-d51f-e05b0ac4c1d8"
      },
      "source": [
        "rating_matrix, user_map, item_map = get_rating_matrix(ratings_df)\n",
        "with plt.style.context('seaborn-white'):\n",
        "    rating_matrix_binary = rating_matrix > 0\n",
        "    plt.imshow(rating_matrix_binary)\n",
        "    plt.xlabel('Movie')\n",
        "    plt.ylabel('User')\n",
        "    plt.show()"
      ],
      "execution_count": null,
      "outputs": [
        {
          "output_type": "display_data",
          "data": {
            "image/png": "[encoded data removed]",
            "text/plain": [
              "<Figure size 432x288 with 1 Axes>"
            ]
          },
          "metadata": {
            "tags": []
          }
        }
      ]
    },
    {
      "cell_type": "code",
      "metadata": {
        "colab": {
          "base_uri": "https://localhost:8080/"
        },
        "id": "xAR9waGy2_0A",
        "outputId": "3fb7b3a0-a135-4266-c355-e723c76dd166"
      },
      "source": [
        "rating_matrix"
      ],
      "execution_count": null,
      "outputs": [
        {
          "output_type": "execute_result",
          "data": {
            "text/plain": [
              "array([[5., 3., 4., ..., 0., 0., 0.],\n",
              "       [4., 0., 0., ..., 0., 0., 0.],\n",
              "       [0., 0., 0., ..., 0., 0., 0.],\n",
              "       ...,\n",
              "       [5., 0., 0., ..., 0., 0., 0.],\n",
              "       [0., 0., 0., ..., 0., 0., 0.],\n",
              "       [0., 5., 0., ..., 0., 0., 0.]])"
            ]
          },
          "metadata": {
            "tags": []
          },
          "execution_count": 17
        }
      ]
    },
    {
      "cell_type": "code",
      "metadata": {
        "colab": {
          "base_uri": "https://localhost:8080/"
        },
        "id": "dd93OZco2Bxb",
        "outputId": "4c5b432f-d910-4606-f0d5-5607bff3a428"
      },
      "source": [
        "Markdown(\n",
        "    r\"The matrix density is $n_{{ratings}}/(n_{{users}} \\times n_{{movies}}) = {:0.3f}$\"\n",
        "    .format(np.sum(rating_matrix_binary) / np.prod(rating_matrix.shape))\n",
        ")"
      ],
      "execution_count": null,
      "outputs": [
        {
          "output_type": "execute_result",
          "data": {
            "text/markdown": "The matrix density is $n_{ratings}/(n_{users} \\times n_{movies}) = 0.063$",
            "text/plain": [
              "<IPython.core.display.Markdown object>"
            ]
          },
          "metadata": {
            "tags": []
          },
          "execution_count": 18
        }
      ]
    },
    {
      "cell_type": "code",
      "metadata": {
        "colab": {
          "base_uri": "https://localhost:8080/"
        },
        "id": "WHUS-qv72Jjo",
        "outputId": "5075eeed-b418-4903-f85e-cf3c0418e6f0"
      },
      "source": [
        "user_counts = ratings_df['user_id'].value_counts(ascending=True)\n",
        "user_counts.index = np.arange(len(user_counts)) / len(user_counts)\n",
        "plt.plot(user_counts, user_counts.index, '.', label='Users')\n",
        "movie_counts = ratings_df['item_id'].value_counts(ascending=True)\n",
        "movie_counts.index = np.arange(len(movie_counts)) / len(movie_counts)\n",
        "plt.plot(movie_counts, movie_counts.index, '.', label='Movies')\n",
        "plt.xlabel('Number of Ratings')\n",
        "plt.ylabel('ECDF')\n",
        "plt.legend()\n",
        "plt.show()"
      ],
      "execution_count": null,
      "outputs": [
        {
          "output_type": "display_data",
          "data": {
            "image/png": "[encoded data removed]",
            "text/plain": [
              "<Figure size 432x288 with 1 Axes>"
            ]
          },
          "metadata": {
            "tags": [],
            "needs_background": "light"
          }
        }
      ]
    },
    {
      "cell_type": "markdown",
      "metadata": {
        "id": "esgNXuYbv3px"
      },
      "source": [
        "## Preprocessing"
      ]
    },
    {
      "cell_type": "code",
      "metadata": {
        "colab": {
          "base_uri": "https://localhost:8080/"
        },
        "id": "RwWxc74lv5Jg",
        "outputId": "8f24d05a-6565-45a5-be38-69ba0c9b7c15"
      },
      "source": [
        "display(ratings_df.head())"
      ],
      "execution_count": null,
      "outputs": [
        {
          "output_type": "display_data",
          "data": {
            "text/html": [
              "<div>\n",
              "<style scoped>\n",
              "    .dataframe tbody tr th:only-of-type {\n",
              "        vertical-align: middle;\n",
              "    }\n",
              "\n",
              "    .dataframe tbody tr th {\n",
              "        vertical-align: top;\n",
              "    }\n",
              "\n",
              "    .dataframe thead th {\n",
              "        text-align: right;\n",
              "    }\n",
              "</style>\n",
              "<table border=\"1\" class=\"dataframe\">\n",
              "  <thead>\n",
              "    <tr style=\"text-align: right;\">\n",
              "      <th></th>\n",
              "      <th>user_id</th>\n",
              "      <th>item_id</th>\n",
              "      <th>rating</th>\n",
              "      <th>timestamp</th>\n",
              "    </tr>\n",
              "  </thead>\n",
              "  <tbody>\n",
              "    <tr>\n",
              "      <th>0</th>\n",
              "      <td>196</td>\n",
              "      <td>242</td>\n",
              "      <td>3</td>\n",
              "      <td>881250949</td>\n",
              "    </tr>\n",
              "    <tr>\n",
              "      <th>1</th>\n",
              "      <td>186</td>\n",
              "      <td>302</td>\n",
              "      <td>3</td>\n",
              "      <td>891717742</td>\n",
              "    </tr>\n",
              "    <tr>\n",
              "      <th>2</th>\n",
              "      <td>22</td>\n",
              "      <td>377</td>\n",
              "      <td>1</td>\n",
              "      <td>878887116</td>\n",
              "    </tr>\n",
              "    <tr>\n",
              "      <th>3</th>\n",
              "      <td>244</td>\n",
              "      <td>51</td>\n",
              "      <td>2</td>\n",
              "      <td>880606923</td>\n",
              "    </tr>\n",
              "    <tr>\n",
              "      <th>4</th>\n",
              "      <td>166</td>\n",
              "      <td>346</td>\n",
              "      <td>1</td>\n",
              "      <td>886397596</td>\n",
              "    </tr>\n",
              "  </tbody>\n",
              "</table>\n",
              "</div>"
            ],
            "text/plain": [
              "   user_id  item_id  rating  timestamp\n",
              "0      196      242       3  881250949\n",
              "1      186      302       3  891717742\n",
              "2       22      377       1  878887116\n",
              "3      244       51       2  880606923\n",
              "4      166      346       1  886397596"
            ]
          },
          "metadata": {
            "tags": []
          }
        }
      ]
    },
    {
      "cell_type": "markdown",
      "metadata": {
        "id": "NE-siEwGfdkI"
      },
      "source": [
        "## Baseline Models"
      ]
    },
    {
      "cell_type": "markdown",
      "metadata": {
        "id": "WH6A35bIgfcK"
      },
      "source": [
        "### Baseline - Simple Average Model\n",
        "The first model we'll test is about the simplest one possible. We'll just average all the training set ratings and use that average for the prediction for all test set examples."
      ]
    },
    {
      "cell_type": "code",
      "metadata": {
        "id": "HZj8FFRngi6N"
      },
      "source": [
        "class SimpleAverageModel():\n",
        "    \"\"\"A very simple model that just uses the average of the ratings in the\n",
        "    training set as the prediction for the test set.\n",
        "\n",
        "    Attributes\n",
        "    ----------\n",
        "    mean : float\n",
        "        Average of the training set ratings\n",
        "    \"\"\"\n",
        "\n",
        "    def __init__(self):\n",
        "        pass\n",
        "\n",
        "    def fit(self, X):\n",
        "        \"\"\"Given a ratings dataframe X, compute the mean rating\n",
        "        \n",
        "        Parameters\n",
        "        ----------\n",
        "        X : pandas dataframe, shape = (n_ratings, >=3)\n",
        "            User, item, rating dataframe. Only the 3rd column is used.\n",
        "        \n",
        "        Returns\n",
        "        -------\n",
        "        self\n",
        "        \"\"\"\n",
        "        self.mean = X.iloc[:, 2].mean()\n",
        "        return self\n",
        "\n",
        "    def predict(self, X):\n",
        "        return np.ones(len(X)) * self.mean"
      ],
      "execution_count": null,
      "outputs": []
    },
    {
      "cell_type": "markdown",
      "metadata": {
        "id": "a6w0k3dIgltA"
      },
      "source": [
        "### Baseline - Average by ID Model\n",
        "We can probably do a little better by using the user or item (movie) average. Here we'll set up a baseline model class that allows you to pass either a list of userIds or movieIds as X. The prediction for a given ID will just be the average of ratings from that ID, or the overall average if that ID wasn't seen in the training set."
      ]
    },
    {
      "cell_type": "code",
      "metadata": {
        "id": "lAt81MW8gpZV"
      },
      "source": [
        "class AverageByIdModel():\n",
        "    \"\"\"Simple model that predicts based on average ratings for a given Id\n",
        "    (movieId or userId) from training data\n",
        "    \n",
        "    Parameters\n",
        "    ----------\n",
        "    id_column : string\n",
        "        Name of id column (i.e. 'itemId', 'userId') to average by in\n",
        "        dataframe that will be fitted to\n",
        "\n",
        "    Attributes\n",
        "    ----------\n",
        "    averages_by_id : pandas Series, shape = [n_ids]\n",
        "        Pandas series of rating averages by id\n",
        "    overall_average : float\n",
        "        Average rating over all training samples\n",
        "    \"\"\"\n",
        "    def __init__(self, id_column):\n",
        "        self.id_column = id_column\n",
        "\n",
        "    def fit(self, X):\n",
        "        \"\"\"Fit training data.\n",
        "\n",
        "        Parameters\n",
        "        ----------\n",
        "        X : pandas dataframe, shape = (n_ratings, >=3)\n",
        "            User, item, rating dataframe. Columns beyond 3 are ignored\n",
        "\n",
        "        Returns\n",
        "        -------\n",
        "        self : object\n",
        "        \"\"\"\n",
        "        rating_column = X.columns[2]\n",
        "        X = X[[self.id_column, rating_column]].copy()\n",
        "        X.columns = ['id', 'rating']\n",
        "        self.averages_by_id = (\n",
        "            X\n",
        "            .groupby('id')['rating']\n",
        "            .mean()\n",
        "            .rename('average_rating')\n",
        "        )\n",
        "        self.overall_average = X['rating'].mean()\n",
        "        return self\n",
        "\n",
        "    def predict(self, X):\n",
        "        \"\"\"Return rating predictions\n",
        "\n",
        "        Parameters\n",
        "        ----------\n",
        "        X : pandas dataframe, shape = (n_ratings, >=3)\n",
        "            Array of n_ratings movieIds or userIds\n",
        "\n",
        "        Returns\n",
        "        -------\n",
        "        y_pred : numpy array, shape = (n_ratings,)\n",
        "            Array of n_samples rating predictions\n",
        "        \"\"\"\n",
        "        rating_column = X.columns[2]\n",
        "        X = X[[self.id_column, rating_column]].copy()\n",
        "        X.columns = ['id', 'rating']\n",
        "        X = X.join(self.averages_by_id, on='id')\n",
        "        X['average_rating'].fillna(self.overall_average, inplace=True)\n",
        "        return X['average_rating'].values"
      ],
      "execution_count": null,
      "outputs": []
    },
    {
      "cell_type": "markdown",
      "metadata": {
        "id": "eugjKXU9jIGS"
      },
      "source": [
        "### Baseline - Damped Baseline with User + Movie Data\n",
        "\n",
        "This baseline model takes into account the average ratings of both the user and the movie, as well as a damping factor that brings the baseline prediction closer to the overall mean. The damping factor has been shown empirically to improve the perfomance.\n",
        "\n",
        "This model follows equation 2.1 from a [collaborative filtering paper](http://files.grouplens.org/papers/FnT%20CF%20Recsys%20Survey.pdf) from [GroupLens](https://grouplens.org/), the same group that published the MovieLens data. This equation defines rhe baseline rating for user $u$ and item $i$ as \n",
        "\n",
        "$$b_{u,i} = \\mu + b_u + b_i$$\n",
        "\n",
        "where\n",
        "\n",
        "$$b_u = \\frac{1}{|I_u| + \\beta_u}\\sum_{i \\in I_u} (r_{u,i} - \\mu)$$\n",
        "\n",
        "and\n",
        "\n",
        "$$b_i = \\frac{1}{|U_i| + \\beta_i}\\sum_{u \\in U_i} (r_{u,i} - b_u - \\mu).$$\n",
        "\n",
        "(See equations 2.4 and 2.5). Here, $\\beta_u$ and $\\beta_i$ are damping factors, for which the paper reported 25 is a good number for this dataset. For now we'll just leave these values equal ($\\beta=\\beta_u=\\beta_i$). Here's a summary of the meanings of all the variables here:\n",
        "\n",
        "| Variable        | Meaning                                               |\n",
        "| --------------- | ----------------------------------------------------- |\n",
        "| $b_{u,i}$       | Baseline rating for user $u$ on item (movie) $i$      |\n",
        "| $\\mu$           | The mean of all ratings                               |\n",
        "| $b_u$           | The deviation from $\\mu$ associated with user $u$     |\n",
        "| $b_i$           | The deviation from $\\mu+b_u$ associated with user $i$ |\n",
        "| $I_u$           | The set of all items rated by user $u$                |\n",
        "| $\\mid I_u \\mid$ | The number of items rated by user $u$                 |\n",
        "| $\\beta_u$       | Damping factor for the users ($=\\beta$)               |\n",
        "| $r_{u,i}$       | Observed rating for user $u$ on item $i$              |\n",
        "| $U_i$           | The set of all users who rated item $i$               |\n",
        "| $\\mid U_i \\mid$ | The number of users who rated item $i$                |\n",
        "| $\\beta_i$       | Damping factor for the items ($=\\beta$)               |"
      ]
    },
    {
      "cell_type": "code",
      "metadata": {
        "id": "xC_F4LcnjVFf"
      },
      "source": [
        "class DampedUserMovieBaselineModel():\n",
        "    \"\"\"Baseline model that of the form mu + b_u + b_i,\n",
        "    where mu is the overall average, b_u is a damped user\n",
        "    average rating residual, and b_i is a damped item (movie)\n",
        "    average rating residual. See eqn 2.1 of\n",
        "    http://files.grouplens.org/papers/FnT%20CF%20Recsys%20Survey.pdf\n",
        "\n",
        "    Parameters\n",
        "    ----------\n",
        "    damping_factor : float, default=0\n",
        "        Factor to bring residuals closer to 0. Must be positive.\n",
        "\n",
        "    Attributes\n",
        "    ----------\n",
        "    mu : float\n",
        "        Average rating over all training samples\n",
        "    b_u : pandas Series, shape = [n_users]\n",
        "        User residuals\n",
        "    b_i : pandas Series, shape = [n_movies]\n",
        "        Movie residuals\n",
        "    damping_factor : float, default=0\n",
        "        Factor to bring residuals closer to 0. Must be >= 0.\n",
        "    \"\"\"\n",
        "    def __init__(self, damping_factor=0):\n",
        "        self.damping_factor = damping_factor\n",
        "\n",
        "    def fit(self, X):\n",
        "        \"\"\"Fit training data.\n",
        "\n",
        "        Parameters\n",
        "        ----------\n",
        "        X : DataFrame, shape = [n_samples, >=3]\n",
        "            User, movie, rating dataFrame. Columns beyond 3 are ignored\n",
        "\n",
        "        Returns\n",
        "        -------\n",
        "        self : object\n",
        "        \"\"\"\n",
        "        X = X.iloc[:, :3].copy()\n",
        "        X.columns = ['user', 'item', 'rating']\n",
        "        self.mu = np.mean(X['rating'])\n",
        "        user_counts = X['user'].value_counts()\n",
        "        movie_counts = X['item'].value_counts()\n",
        "        b_u = (\n",
        "            X[['user', 'rating']]\n",
        "            .groupby('user')['rating']\n",
        "            .sum()\n",
        "            .subtract(user_counts * self.mu)\n",
        "            .divide(user_counts + self.damping_factor)\n",
        "            .rename('b_u')\n",
        "        )\n",
        "        X = X.join(b_u, on='user')\n",
        "        X['item_residual'] = X['rating'] - X['b_u'] - self.mu\n",
        "        b_i = (\n",
        "            X[['item', 'item_residual']]\n",
        "            .groupby('item')['item_residual']\n",
        "            .sum()\n",
        "            .divide(movie_counts + self.damping_factor)\n",
        "            .rename('b_i')\n",
        "        )\n",
        "        self.b_u = b_u\n",
        "        self.b_i = b_i\n",
        "        return self\n",
        "\n",
        "    def predict(self, X):\n",
        "        \"\"\"Return rating predictions\n",
        "\n",
        "        Parameters\n",
        "        ----------\n",
        "        X : DataFrame, shape = (n_ratings, 2)\n",
        "            User, item dataframe\n",
        "\n",
        "        Returns\n",
        "        -------\n",
        "        y_pred : numpy array, shape = (n_ratings,)\n",
        "            Array of n_samples rating predictions\n",
        "        \"\"\"\n",
        "        X = X.iloc[:, :2].copy()\n",
        "        X.columns = ['user', 'item']\n",
        "        X = X.join(self.b_u, on='user').fillna(0)\n",
        "        X = X.join(self.b_i, on='item').fillna(0)\n",
        "        return (self.mu + X['b_u'] + X['b_i']).values"
      ],
      "execution_count": null,
      "outputs": []
    },
    {
      "cell_type": "code",
      "metadata": {
        "id": "x9pkBKvupybY"
      },
      "source": [
        "def get_xval_errs_and_res(df, model, n_splits=5, random_state=0, rating_col='rating'):\n",
        "    kf = KFold(n_splits=n_splits, random_state=random_state, shuffle=True)\n",
        "    errs, stds = [], []\n",
        "    residuals = np.zeros(len(df))\n",
        "    for train_inds, test_inds in kf.split(df):\n",
        "        train_df, test_df = df.iloc[train_inds], df.iloc[test_inds]\n",
        "        pred = model.fit(train_df).predict(test_df)\n",
        "        residuals[test_inds] = pred - test_df[rating_col]\n",
        "        mae = mean_absolute_error(pred, test_df[rating_col])\n",
        "        errs.append(mae)\n",
        "    return errs, residuals"
      ],
      "execution_count": null,
      "outputs": []
    },
    {
      "cell_type": "code",
      "metadata": {
        "colab": {
          "base_uri": "https://localhost:8080/",
          "height": 391
        },
        "id": "9I9QVJPQr71L",
        "outputId": "ae16d435-208c-4007-9a1b-060545cbaa56"
      },
      "source": [
        "errs_1, res_1 = get_xval_errs_and_res(ratings_df, SimpleAverageModel())\n",
        "errs_2, res_2 = get_xval_errs_and_res(ratings_df, AverageByIdModel('item_id'))\n",
        "errs_3, res_3 = get_xval_errs_and_res(ratings_df, AverageByIdModel('user_id'))\n",
        "errs_4, res_4 = get_xval_errs_and_res(ratings_df, DampedUserMovieBaselineModel(0))\n",
        "errs_5, res_5 = get_xval_errs_and_res(ratings_df, DampedUserMovieBaselineModel(10))\n",
        "errs_6, res_6 = get_xval_errs_and_res(ratings_df, DampedUserMovieBaselineModel(25))\n",
        "errs_7, res_7 = get_xval_errs_and_res(ratings_df, DampedUserMovieBaselineModel(50))\n",
        "df_errs = pd.DataFrame(\n",
        "    OrderedDict(\n",
        "        (\n",
        "            ('Average', errs_1),\n",
        "            ('Item Average', errs_2),\n",
        "            ('User Average', errs_3),\n",
        "            ('Combined 0', errs_4),\n",
        "            ('Combined 10', errs_5),\n",
        "            ('Combined 25', errs_6),\n",
        "            ('Combined 50', errs_7),\n",
        "        )\n",
        "    )\n",
        ")\n",
        "display(df_errs)\n",
        "df_errs = (\n",
        "    pd.melt(df_errs, value_vars=df_errs.columns)\n",
        "    .rename({'variable': 'Baseline Model', 'value': 'MAE'}, axis=1)\n",
        ")\n",
        "df_res = pd.DataFrame(\n",
        "    OrderedDict(\n",
        "        (\n",
        "            ('Average', res_1),\n",
        "            ('Item Average', res_2),\n",
        "            ('User Average', res_3),\n",
        "            ('Combined 0', res_4),\n",
        "            ('Combined 10', res_5),\n",
        "            ('Combined 25', res_6),\n",
        "            ('Combined 50', res_7),\n",
        "        )\n",
        "    )\n",
        ")\n",
        "display(df_res.tail())\n",
        "df_res = (\n",
        "    pd.melt(df_res, value_vars=df_res.columns)\n",
        "    .rename({'variable': 'Baseline Model', 'value': 'Residual'}, axis=1)\n",
        ")"
      ],
      "execution_count": null,
      "outputs": [
        {
          "output_type": "display_data",
          "data": {
            "text/html": [
              "<div>\n",
              "<style scoped>\n",
              "    .dataframe tbody tr th:only-of-type {\n",
              "        vertical-align: middle;\n",
              "    }\n",
              "\n",
              "    .dataframe tbody tr th {\n",
              "        vertical-align: top;\n",
              "    }\n",
              "\n",
              "    .dataframe thead th {\n",
              "        text-align: right;\n",
              "    }\n",
              "</style>\n",
              "<table border=\"1\" class=\"dataframe\">\n",
              "  <thead>\n",
              "    <tr style=\"text-align: right;\">\n",
              "      <th></th>\n",
              "      <th>Average</th>\n",
              "      <th>Item Average</th>\n",
              "      <th>User Average</th>\n",
              "      <th>Combined 0</th>\n",
              "      <th>Combined 10</th>\n",
              "      <th>Combined 25</th>\n",
              "      <th>Combined 50</th>\n",
              "    </tr>\n",
              "  </thead>\n",
              "  <tbody>\n",
              "    <tr>\n",
              "      <th>0</th>\n",
              "      <td>0.944496</td>\n",
              "      <td>0.820464</td>\n",
              "      <td>0.832909</td>\n",
              "      <td>0.757803</td>\n",
              "      <td>0.758147</td>\n",
              "      <td>0.765638</td>\n",
              "      <td>0.777938</td>\n",
              "    </tr>\n",
              "    <tr>\n",
              "      <th>1</th>\n",
              "      <td>0.943006</td>\n",
              "      <td>0.816231</td>\n",
              "      <td>0.834758</td>\n",
              "      <td>0.755370</td>\n",
              "      <td>0.755676</td>\n",
              "      <td>0.763692</td>\n",
              "      <td>0.776640</td>\n",
              "    </tr>\n",
              "    <tr>\n",
              "      <th>2</th>\n",
              "      <td>0.942342</td>\n",
              "      <td>0.811768</td>\n",
              "      <td>0.831787</td>\n",
              "      <td>0.755215</td>\n",
              "      <td>0.753132</td>\n",
              "      <td>0.760062</td>\n",
              "      <td>0.772539</td>\n",
              "    </tr>\n",
              "    <tr>\n",
              "      <th>3</th>\n",
              "      <td>0.943253</td>\n",
              "      <td>0.812634</td>\n",
              "      <td>0.835116</td>\n",
              "      <td>0.753721</td>\n",
              "      <td>0.753945</td>\n",
              "      <td>0.761041</td>\n",
              "      <td>0.773358</td>\n",
              "    </tr>\n",
              "    <tr>\n",
              "      <th>4</th>\n",
              "      <td>0.950450</td>\n",
              "      <td>0.825487</td>\n",
              "      <td>0.840364</td>\n",
              "      <td>0.766959</td>\n",
              "      <td>0.766122</td>\n",
              "      <td>0.772491</td>\n",
              "      <td>0.784196</td>\n",
              "    </tr>\n",
              "  </tbody>\n",
              "</table>\n",
              "</div>"
            ],
            "text/plain": [
              "    Average  Item Average  User Average  ...  Combined 10  Combined 25  Combined 50\n",
              "0  0.944496      0.820464      0.832909  ...     0.758147     0.765638     0.777938\n",
              "1  0.943006      0.816231      0.834758  ...     0.755676     0.763692     0.776640\n",
              "2  0.942342      0.811768      0.831787  ...     0.753132     0.760062     0.772539\n",
              "3  0.943253      0.812634      0.835116  ...     0.753945     0.761041     0.773358\n",
              "4  0.950450      0.825487      0.840364  ...     0.766122     0.772491     0.784196\n",
              "\n",
              "[5 rows x 7 columns]"
            ]
          },
          "metadata": {
            "tags": []
          }
        },
        {
          "output_type": "display_data",
          "data": {
            "text/html": [
              "<div>\n",
              "<style scoped>\n",
              "    .dataframe tbody tr th:only-of-type {\n",
              "        vertical-align: middle;\n",
              "    }\n",
              "\n",
              "    .dataframe tbody tr th {\n",
              "        vertical-align: top;\n",
              "    }\n",
              "\n",
              "    .dataframe thead th {\n",
              "        text-align: right;\n",
              "    }\n",
              "</style>\n",
              "<table border=\"1\" class=\"dataframe\">\n",
              "  <thead>\n",
              "    <tr style=\"text-align: right;\">\n",
              "      <th></th>\n",
              "      <th>Average</th>\n",
              "      <th>Item Average</th>\n",
              "      <th>User Average</th>\n",
              "      <th>Combined 0</th>\n",
              "      <th>Combined 10</th>\n",
              "      <th>Combined 25</th>\n",
              "      <th>Combined 50</th>\n",
              "    </tr>\n",
              "  </thead>\n",
              "  <tbody>\n",
              "    <tr>\n",
              "      <th>99995</th>\n",
              "      <td>0.528338</td>\n",
              "      <td>0.055556</td>\n",
              "      <td>0.416393</td>\n",
              "      <td>-0.059372</td>\n",
              "      <td>-0.018547</td>\n",
              "      <td>0.032939</td>\n",
              "      <td>0.098535</td>\n",
              "    </tr>\n",
              "    <tr>\n",
              "      <th>99996</th>\n",
              "      <td>-1.471550</td>\n",
              "      <td>-1.192727</td>\n",
              "      <td>-1.127273</td>\n",
              "      <td>-0.924999</td>\n",
              "      <td>-0.935268</td>\n",
              "      <td>-0.954491</td>\n",
              "      <td>-0.988486</td>\n",
              "    </tr>\n",
              "    <tr>\n",
              "      <th>99997</th>\n",
              "      <td>2.528450</td>\n",
              "      <td>1.600000</td>\n",
              "      <td>2.455206</td>\n",
              "      <td>1.609478</td>\n",
              "      <td>1.824161</td>\n",
              "      <td>1.999824</td>\n",
              "      <td>2.147012</td>\n",
              "    </tr>\n",
              "    <tr>\n",
              "      <th>99998</th>\n",
              "      <td>1.532850</td>\n",
              "      <td>0.925532</td>\n",
              "      <td>1.114398</td>\n",
              "      <td>0.601937</td>\n",
              "      <td>0.652301</td>\n",
              "      <td>0.715920</td>\n",
              "      <td>0.799292</td>\n",
              "    </tr>\n",
              "    <tr>\n",
              "      <th>99999</th>\n",
              "      <td>0.528338</td>\n",
              "      <td>0.872340</td>\n",
              "      <td>1.487805</td>\n",
              "      <td>1.798718</td>\n",
              "      <td>1.595426</td>\n",
              "      <td>1.398599</td>\n",
              "      <td>1.203773</td>\n",
              "    </tr>\n",
              "  </tbody>\n",
              "</table>\n",
              "</div>"
            ],
            "text/plain": [
              "        Average  Item Average  ...  Combined 25  Combined 50\n",
              "99995  0.528338      0.055556  ...     0.032939     0.098535\n",
              "99996 -1.471550     -1.192727  ...    -0.954491    -0.988486\n",
              "99997  2.528450      1.600000  ...     1.999824     2.147012\n",
              "99998  1.532850      0.925532  ...     0.715920     0.799292\n",
              "99999  0.528338      0.872340  ...     1.398599     1.203773\n",
              "\n",
              "[5 rows x 7 columns]"
            ]
          },
          "metadata": {
            "tags": []
          }
        }
      ]
    },
    {
      "cell_type": "code",
      "metadata": {
        "colab": {
          "base_uri": "https://localhost:8080/",
          "height": 585
        },
        "id": "bNf4_8-mr7w1",
        "outputId": "ea3c9576-b38b-4d1e-8828-708435decc7f"
      },
      "source": [
        "fig, (ax0, ax1) = plt.subplots(2, 1, figsize=(12,8))\n",
        "sns.swarmplot(data=df_errs, x='Baseline Model', y='MAE', ax=ax0)\n",
        "sns.violinplot(data=df_res, x='Baseline Model', y='Residual', ax=ax1)\n",
        "ax0.xaxis.set_visible(False)\n",
        "plt.tight_layout()\n",
        "plt.show()"
      ],
      "execution_count": null,
      "outputs": [
        {
          "output_type": "display_data",
          "data": {
            "image/png": "[encoded data removed]",
            "text/plain": [
              "<Figure size 864x576 with 2 Axes>"
            ]
          },
          "metadata": {
            "tags": [],
            "needs_background": "light"
          }
        }
      ]
    },
    {
      "cell_type": "markdown",
      "metadata": {
        "id": "UPt0joKBsNig"
      },
      "source": [
        "The MAE plots above show that the combined model with a damping factor of 0 or 10 performs the best, followed by the item average, then the user average. It makes sense that taking into account deviations from the mean due to both user and item would perform the best: there is simply more data being taken into account for each baseline prediction. The same idea explains why the item average performs better than the user average: there are more items than users in this dataset, so averaging over items takes into account more data per baseline prediction than averaging over users. The residual plots underneath the MAE plot illustrate that taking into account more data pulls the density of the residuals closer to 0.\n",
        "\n",
        "**Selecting the baseline**: Both the Combined 0 and Combined 10 models performed equally, but we'll choose the Combined 10 model, because a higher damping factor is effectively stronger regularization, which will prevent overfitting better than a damping factor of 0."
      ]
    },
    {
      "cell_type": "markdown",
      "metadata": {
        "id": "uAcjagBSv0nf"
      },
      "source": [
        "## KNN Collaborative Filtering"
      ]
    },
    {
      "cell_type": "code",
      "metadata": {
        "id": "HYyQ33UEwKc0"
      },
      "source": [
        "# <!-- collapse=True -->\n",
        "class KNNRecommender():\n",
        "    \"\"\"User-based or Item-based collaborative filtering model that operates on\n",
        "    dataframes with at least a user-like, item-like, and a rating-like column\n",
        "    \n",
        "    Parameters\n",
        "    ----------\n",
        "    mode : str, ['item | 'user'], default='item'\n",
        "        Tells model whether to use item-based or user-based collaborative filtering\n",
        "    k : int, default=20\n",
        "        Number of most similar items or users to average for prediction\n",
        "    basline_algo : object, optional\n",
        "        Algorithm used to predict baseline scores for each rating. If not provided,\n",
        "        the mean of all training ratings is used as the baseline. If provided,\n",
        "        the object must have a fit(X) method and a predict(X) method\n",
        "    similarity_func : function, default=cosine_similarity\n",
        "        Function must take a numpy array M of shape (m,n) and return a numpy array\n",
        "        of shape (m,m) where each element i,j represents the similarity between row\n",
        "        i and row j of M.\n",
        "    loop_predict : boolean, default=True\n",
        "        If True, the model will loop over all user-item pairs in test set and compute\n",
        "        prediction individually. If False, the model will compute all ratings\n",
        "        simultaneously. With sparse matrices, looping is typically faster.\n",
        "        \n",
        "    Attributes\n",
        "    ----------\n",
        "    train_mean : float\n",
        "        Mean of the training data ratings. Used if baseline_algo is None.\n",
        "    rating_matrix : 2d numpy array, shape=(n_users, n_items)\n",
        "        Rating matrix minus baselines\n",
        "    user_map : pandas Series, shape=(n_users,)\n",
        "        Mapping from the original user id to an integer in the range [0,n_users)\n",
        "    item_map : pandas Series, shape=(n_items,)\n",
        "        Mapping from the original item id to an integer in the range [0,n_items)\n",
        "    knn_indices : 2d numpy array, shape=([n_users|n_items], k)\n",
        "        Element i,j represents the index of the jth closet [user|item] to i\n",
        "    knn_similarities : 2d numpy array, shape=([n_users|n_items], k)\n",
        "        Element i,j represents the similarity between the jth closest [user|item] to i\n",
        "    \"\"\"\n",
        "    def __init__(self, mode='item', k=20, baseline_algo=None,\n",
        "                 similarity_func=cosine_similarity, loop_predict=True):\n",
        "        if not mode in ['user', 'item']:\n",
        "            raise ValueError(\"'mode' must be either 'user' or 'item', not '{}'!\".format(mode))\n",
        "\n",
        "        self.mode = mode\n",
        "        self.k = k\n",
        "        self.baseline_algo = baseline_algo\n",
        "        self.similarity_func = similarity_func\n",
        "        self.loop_predict = loop_predict\n",
        "        \n",
        "        self.train_mean = None\n",
        "        self.rating_matrix = None\n",
        "        self.user_map = None\n",
        "        self.item_map = None\n",
        "        self.knn_indices = None\n",
        "        self.knn_similarities = None\n",
        "        \n",
        "    def _get_rating_matrix(self, X):\n",
        "        \"\"\"Private function to generate a ratings matrx and mappings for\n",
        "        the user and item ids to the row and column indices\n",
        "        \n",
        "        Parameters\n",
        "        ----------\n",
        "        X : pandas.DataFrame, shape=(n_ratings,>=3)\n",
        "            First 3 columns must be in order of user, item, rating.\n",
        "        \n",
        "        Returns\n",
        "        -------\n",
        "        rating_matrix : 2d numpy array, shape=(n_users, n_items)\n",
        "        user_map : pandas Series, shape=(n_users,)\n",
        "            Mapping from the original user id to an integer in the range [0,n_users)\n",
        "        item_map : pandas Series, shape=(n_items,)\n",
        "            Mapping from the original item id to an integer in the range [0,n_items)\n",
        "        \"\"\"\n",
        "        user_col, item_col, rating_col = X.columns[:3]\n",
        "        rating = X[rating_col]\n",
        "        user_map = pd.Series(\n",
        "            index=np.unique(X[user_col]),\n",
        "            data=np.arange(X[user_col].nunique()),\n",
        "            name='user_map',\n",
        "        )\n",
        "        item_map = pd.Series(\n",
        "            index=np.unique(X[item_col]),\n",
        "            data=np.arange(X[item_col].nunique()),\n",
        "            name='columns_map',\n",
        "        )\n",
        "        user_inds = X[user_col].map(user_map)\n",
        "        item_inds = X[item_col].map(item_map)\n",
        "        rating_matrix = (\n",
        "            pd.pivot_table(\n",
        "                data=X,\n",
        "                values=rating_col,\n",
        "                index=user_inds,\n",
        "                columns=item_inds,\n",
        "            )\n",
        "            .fillna(0)\n",
        "            .values\n",
        "        )\n",
        "        return rating_matrix, user_map, item_map\n",
        "\n",
        "    def _get_knn_indices_and_similarities(self, rating_matrix):\n",
        "        \"\"\"Private function to find indices and similarities of k nearest\n",
        "        neighbors for each user or item\n",
        "        \n",
        "        Parameters\n",
        "        ----------\n",
        "        rating_matrix : 2d numpy array, shape=(n_users, n_items)\n",
        "            Matrix of ratings minus baselines\n",
        "        \n",
        "        Returns\n",
        "        -------\n",
        "        knn_indices : 2d numpy array, shape=([n_users|n_items], k)\n",
        "            Element i,j represents the index of the jth closet [user|item] to i\n",
        "        knn_similarities : 2d numpy array, shape=([n_users|n_items], k)\n",
        "            Element i,j represents the similarity between the jth closest [user|item] to i\n",
        "        \"\"\"\n",
        "        if self.mode == 'item':\n",
        "            n_users_or_items = rating_matrix.shape[1]\n",
        "        else:\n",
        "            n_users_or_items = rating_matrix.shape[0]\n",
        "        if self.k > n_users_or_items:\n",
        "            new_k = n_users_or_items - 1\n",
        "            print(\n",
        "                \"Warning: k = {} > # {}s = {}! Setting k to {}\"\n",
        "                .format(self.k, n_users_or_items, self.mode, new_k)\n",
        "            )\n",
        "            self.k = new_k\n",
        "        if self.mode == 'item':\n",
        "            similarity_matrix = self.similarity_func(rating_matrix.T)\n",
        "        else:\n",
        "            similarity_matrix = self.similarity_func(rating_matrix)\n",
        "        np.fill_diagonal(similarity_matrix, -1)\n",
        "        knn_indices = np.argsort(similarity_matrix, axis=1)[:, ::-1][:, :self.k]\n",
        "        # https://github.com/scikit-learn/scikit-learn/blob/a24c8b46/sklearn/neighbors/base.py#L373\n",
        "        sample_range = np.arange(len(knn_indices))[:, None]\n",
        "        knn_similarities = similarity_matrix[sample_range, knn_indices]\n",
        "        return knn_indices, knn_similarities\n",
        "    \n",
        "    def fit(self, X):\n",
        "        \"\"\"Fit model to training data X. Sets the knn_indices, knn_similarities, \n",
        "        rating_matrix, user_map, and item map variables.\n",
        "        \n",
        "        Parameters\n",
        "        ----------\n",
        "        X : pandas DataFrame, shape=(n_ratings, >=3)\n",
        "            First 3 columns must correspond to user, item, and rating in that order\n",
        "        \n",
        "        Returns\n",
        "        -------\n",
        "        self\n",
        "            This allows chaining like `KNNRecommender().fit(X_train).predict(X_test)`\n",
        "        \"\"\"\n",
        "        if not isinstance(X, pd.DataFrame):\n",
        "            raise ValueError(\"X must be a DataFrame\")\n",
        "        X = X.copy()\n",
        "        user_col, item_col, rating_col = X.columns[:3]\n",
        "        if self.baseline_algo is None:\n",
        "            self.train_mean = X[rating_col].mean()\n",
        "            X['rating_baseline'] = self.train_mean\n",
        "        else:\n",
        "            self.baseline_algo.fit(X.iloc[:, :3])\n",
        "            X['rating_baseline'] = self.baseline_algo.predict(X[[user_col, item_col]])\n",
        "        X['rating_diff'] = X[rating_col] - X['rating_baseline']\n",
        "        nodiff_rating_matrix, _, _ = self._get_rating_matrix(X[[user_col, item_col, rating_col]])\n",
        "        self.knn_indices, self.knn_similarities = self._get_knn_indices_and_similarities(\n",
        "            nodiff_rating_matrix\n",
        "        )\n",
        "        gc.collect()\n",
        "        self.rating_matrix, self.user_map, self.item_map = self._get_rating_matrix(\n",
        "            X[[user_col, item_col, 'rating_diff']]\n",
        "        )\n",
        "        return self\n",
        "\n",
        "    def _predict_1_ui_pair(self, user, item):\n",
        "        \"\"\"Predict rating (minus baseline) for 1 user-item pair. Must add\n",
        "        baseline to get the rating in the original rating scale.\n",
        "        \n",
        "        Parameters\n",
        "        ----------\n",
        "        user : int\n",
        "            Must be in range [0, n_users)\n",
        "        item : int\n",
        "            Must be in range [0, n_items)\n",
        "        \n",
        "        Returns\n",
        "        -------\n",
        "        rating_pred : float\n",
        "            Predicted ratings\n",
        "        \"\"\"\n",
        "        if self.mode == 'item':\n",
        "            inds_i = self.knn_indices[item, :]\n",
        "            sims_i = self.knn_similarities[item, :]\n",
        "            # https://stackoverflow.com/a/35696047/2680824\n",
        "            numerator = np.sum(self.rating_matrix[user, inds_i] * sims_i)\n",
        "            denominator = np.sum(np.abs(sims_i))\n",
        "            with np.errstate(divide='ignore', invalid='ignore'):\n",
        "                rating_pred = numerator / denominator\n",
        "        else:\n",
        "            inds_u = self.knn_indices[user, :]\n",
        "            sims_u = self.knn_similarities[user, :]\n",
        "            # https://stackoverflow.com/a/35696047/2680824\n",
        "            numerator = np.sum(self.rating_matrix[inds_u, item] * sims_u)\n",
        "            denominator = np.sum(np.abs(sims_u))\n",
        "            with np.errstate(divide='ignore', invalid='ignore'):\n",
        "                rating_pred = numerator / denominator\n",
        "        return rating_pred\n",
        "\n",
        "    def predict(self, X):\n",
        "        \"\"\"Predict ratings for each user-item pair in X\n",
        "        \n",
        "        Parameters\n",
        "        ----------\n",
        "        X : pandas DataFrame, shape=(n_ratings, >=2)\n",
        "            First 2 columns of X must correspond to user and item.\n",
        "        \n",
        "        Returns\n",
        "        -------\n",
        "        pandas Series, shape=(n_ratings,)\n",
        "            Ratings for each user-item pair in X. No restriction on the data type\n",
        "            for the user and item ids, other than they must match the training indices.\n",
        "        \"\"\"\n",
        "        if not isinstance(X, pd.DataFrame):\n",
        "            raise ValueError(\"X must be a DataFrame\")\n",
        "        X = X.copy()\n",
        "        user_col, item_col = X.columns[:2]\n",
        "        if self.baseline_algo is None:\n",
        "            X['rating_baseline'] = self.train_mean\n",
        "        else:\n",
        "            X['rating_baseline'] = self.baseline_algo.predict(X)\n",
        "        X['rating'] = 0\n",
        "        known_user_and_item_mask = (\n",
        "            X[user_col].isin(self.user_map.index) & X[item_col].isin(self.item_map.index)\n",
        "        )\n",
        "        X_known = X[known_user_and_item_mask]\n",
        "        user_inds = X_known[user_col].map(self.user_map)\n",
        "        item_inds = X_known[item_col].map(self.item_map)\n",
        "        if self.loop_predict:\n",
        "            rating_pred = np.array([\n",
        "                self._predict_1_ui_pair(u_ind, i_ind)\n",
        "                for u_ind, i_ind in zip(user_inds, item_inds)\n",
        "            ])\n",
        "        else:\n",
        "            stacked_ratings = self.rating_matrix[\n",
        "                self.knn_indices[:, :, None],\n",
        "                np.arange(self.rating_matrix.shape[1])[None, None, :]\n",
        "            ]\n",
        "            numerator_matrix = np.sum(\n",
        "                stacked_ratings * self.knn_similarities[:, :, None],\n",
        "                axis=1\n",
        "            )\n",
        "            denominator_matrix = np.sum(\n",
        "                (stacked_ratings != 0) * self.knn_similarities[:, :, None],\n",
        "                axis=1\n",
        "            )\n",
        "            # https://stackoverflow.com/a/35696047/2680824\n",
        "            with np.errstate(divide='ignore', invalid='ignore'):\n",
        "                rating_pred_matrix = numerator_matrix / denominator_matrix\n",
        "            rating_pred = rating_pred_matrix[user_inds, item_inds]\n",
        "        rating_pred[np.isnan(rating_pred)] = 0\n",
        "        X.loc[known_user_and_item_mask, 'rating'] = rating_pred\n",
        "        return X['rating'] + X['rating_baseline']"
      ],
      "execution_count": null,
      "outputs": []
    },
    {
      "cell_type": "markdown",
      "metadata": {
        "id": "Wb68hUhVwqbV"
      },
      "source": [
        "Determine Optimal  k  Values"
      ]
    },
    {
      "cell_type": "code",
      "metadata": {
        "colab": {
          "base_uri": "https://localhost:8080/",
          "height": 359
        },
        "id": "HtMqOgoQwrh-",
        "outputId": "d8395443-3025-4549-d588-5605a5569fc1"
      },
      "source": [
        "def cart_prod(df_1, df_2):\n",
        "    df_1['_dummy_'], df_2['_dummy_'] = 1, 1\n",
        "    return pd.merge(df_1, df_2, on='_dummy_').drop('_dummy_', axis=1)\n",
        "\n",
        "n_splits = 5\n",
        "\n",
        "k_list = [1, 2, 5, 10, 20, 50, 100, 200]\n",
        "mode_list = ['user', 'item']\n",
        "i_fold_list = np.arange(n_splits)\n",
        "df_1 = pd.DataFrame({'k': k_list})\n",
        "df_2 = pd.DataFrame({'mode': mode_list})\n",
        "df_3 = pd.DataFrame({'i_fold': i_fold_list})\n",
        "results_df = reduce(cart_prod, [df_1, df_2, df_3])\n",
        "results_df.head(10)"
      ],
      "execution_count": null,
      "outputs": [
        {
          "output_type": "execute_result",
          "data": {
            "text/html": [
              "<div>\n",
              "<style scoped>\n",
              "    .dataframe tbody tr th:only-of-type {\n",
              "        vertical-align: middle;\n",
              "    }\n",
              "\n",
              "    .dataframe tbody tr th {\n",
              "        vertical-align: top;\n",
              "    }\n",
              "\n",
              "    .dataframe thead th {\n",
              "        text-align: right;\n",
              "    }\n",
              "</style>\n",
              "<table border=\"1\" class=\"dataframe\">\n",
              "  <thead>\n",
              "    <tr style=\"text-align: right;\">\n",
              "      <th></th>\n",
              "      <th>k</th>\n",
              "      <th>mode</th>\n",
              "      <th>i_fold</th>\n",
              "    </tr>\n",
              "  </thead>\n",
              "  <tbody>\n",
              "    <tr>\n",
              "      <th>0</th>\n",
              "      <td>1</td>\n",
              "      <td>user</td>\n",
              "      <td>0</td>\n",
              "    </tr>\n",
              "    <tr>\n",
              "      <th>1</th>\n",
              "      <td>1</td>\n",
              "      <td>user</td>\n",
              "      <td>1</td>\n",
              "    </tr>\n",
              "    <tr>\n",
              "      <th>2</th>\n",
              "      <td>1</td>\n",
              "      <td>user</td>\n",
              "      <td>2</td>\n",
              "    </tr>\n",
              "    <tr>\n",
              "      <th>3</th>\n",
              "      <td>1</td>\n",
              "      <td>user</td>\n",
              "      <td>3</td>\n",
              "    </tr>\n",
              "    <tr>\n",
              "      <th>4</th>\n",
              "      <td>1</td>\n",
              "      <td>user</td>\n",
              "      <td>4</td>\n",
              "    </tr>\n",
              "    <tr>\n",
              "      <th>5</th>\n",
              "      <td>1</td>\n",
              "      <td>item</td>\n",
              "      <td>0</td>\n",
              "    </tr>\n",
              "    <tr>\n",
              "      <th>6</th>\n",
              "      <td>1</td>\n",
              "      <td>item</td>\n",
              "      <td>1</td>\n",
              "    </tr>\n",
              "    <tr>\n",
              "      <th>7</th>\n",
              "      <td>1</td>\n",
              "      <td>item</td>\n",
              "      <td>2</td>\n",
              "    </tr>\n",
              "    <tr>\n",
              "      <th>8</th>\n",
              "      <td>1</td>\n",
              "      <td>item</td>\n",
              "      <td>3</td>\n",
              "    </tr>\n",
              "    <tr>\n",
              "      <th>9</th>\n",
              "      <td>1</td>\n",
              "      <td>item</td>\n",
              "      <td>4</td>\n",
              "    </tr>\n",
              "  </tbody>\n",
              "</table>\n",
              "</div>"
            ],
            "text/plain": [
              "   k  mode  i_fold\n",
              "0  1  user       0\n",
              "1  1  user       1\n",
              "2  1  user       2\n",
              "3  1  user       3\n",
              "4  1  user       4\n",
              "5  1  item       0\n",
              "6  1  item       1\n",
              "7  1  item       2\n",
              "8  1  item       3\n",
              "9  1  item       4"
            ]
          },
          "metadata": {
            "tags": []
          },
          "execution_count": 65
        }
      ]
    },
    {
      "cell_type": "code",
      "metadata": {
        "colab": {
          "base_uri": "https://localhost:8080/"
        },
        "id": "1x1a2-9uw2-m",
        "outputId": "4e2a33ef-83ba-4a14-efae-7aa6c5162315"
      },
      "source": [
        "kf = KFold(n_splits=n_splits, random_state=0, shuffle=True)\n",
        "\n",
        "for (k, mode), group in results_df.groupby(['k', 'mode']):\n",
        "    for (index, row), (train_inds, test_inds) in zip(group.iterrows(), kf.split(ratings_df)):\n",
        "        print(\"k={}, mode={}: i_fold= \".format(row['k'], row['mode']), end='')\n",
        "        print(\"{}, \".format(row['i_fold']), end='')\n",
        "        train_df, test_df = ratings_df.iloc[train_inds], ratings_df.iloc[test_inds]\n",
        "        baseline_algo = DampedUserMovieBaselineModel(damping_factor=10)\n",
        "        t1 = datetime.now()\n",
        "        rec = KNNRecommender(mode=row['mode'], k=row['k'], baseline_algo=baseline_algo)\n",
        "        rec.fit(train_df)\n",
        "        preds = rec.predict(test_df[['user_id', 'item_id']])\n",
        "        mae = mean_absolute_error(preds, test_df['rating'])\n",
        "        results_df.loc[index, 'MAE'] = mae\n",
        "        dt = (datetime.now() - t1).total_seconds()\n",
        "        print(\"{:5.3f}   dt={:.2f} seconds\".format(mae, dt))\n",
        "        results_df.loc[index, 'time'] = dt"
      ],
      "execution_count": null,
      "outputs": [
        {
          "output_type": "stream",
          "text": [
            "k=1, mode=item: i_fold= 0, 0.813   dt=1.12 seconds\n",
            "k=1, mode=item: i_fold= 1, 0.810   dt=1.07 seconds\n",
            "k=1, mode=item: i_fold= 2, 0.803   dt=1.04 seconds\n",
            "k=1, mode=item: i_fold= 3, 0.810   dt=1.08 seconds\n",
            "k=1, mode=item: i_fold= 4, 0.807   dt=1.08 seconds\n",
            "k=1, mode=user: i_fold= 0, 0.828   dt=0.92 seconds\n",
            "k=1, mode=user: i_fold= 1, 0.829   dt=0.94 seconds\n",
            "k=1, mode=user: i_fold= 2, 0.829   dt=0.93 seconds\n",
            "k=1, mode=user: i_fold= 3, 0.833   dt=0.94 seconds\n",
            "k=1, mode=user: i_fold= 4, 0.833   dt=0.94 seconds\n",
            "k=2, mode=item: i_fold= 0, 0.765   dt=1.06 seconds\n",
            "k=2, mode=item: i_fold= 1, 0.764   dt=1.08 seconds\n",
            "k=2, mode=item: i_fold= 2, 0.757   dt=1.06 seconds\n",
            "k=2, mode=item: i_fold= 3, 0.760   dt=1.09 seconds\n",
            "k=2, mode=item: i_fold= 4, 0.765   dt=1.07 seconds\n",
            "k=2, mode=user: i_fold= 0, 0.785   dt=0.93 seconds\n",
            "k=2, mode=user: i_fold= 1, 0.785   dt=0.93 seconds\n",
            "k=2, mode=user: i_fold= 2, 0.781   dt=0.98 seconds\n",
            "k=2, mode=user: i_fold= 3, 0.786   dt=0.94 seconds\n",
            "k=2, mode=user: i_fold= 4, 0.799   dt=0.96 seconds\n",
            "k=5, mode=item: i_fold= 0, 0.734   dt=1.11 seconds\n",
            "k=5, mode=item: i_fold= 1, 0.731   dt=1.08 seconds\n",
            "k=5, mode=item: i_fold= 2, 0.731   dt=1.04 seconds\n",
            "k=5, mode=item: i_fold= 3, 0.730   dt=1.07 seconds\n",
            "k=5, mode=item: i_fold= 4, 0.739   dt=1.06 seconds\n",
            "k=5, mode=user: i_fold= 0, 0.755   dt=0.93 seconds\n",
            "k=5, mode=user: i_fold= 1, 0.754   dt=0.99 seconds\n",
            "k=5, mode=user: i_fold= 2, 0.750   dt=0.96 seconds\n",
            "k=5, mode=user: i_fold= 3, 0.755   dt=0.93 seconds\n",
            "k=5, mode=user: i_fold= 4, 0.766   dt=0.94 seconds\n",
            "k=10, mode=item: i_fold= 0, 0.728   dt=1.07 seconds\n",
            "k=10, mode=item: i_fold= 1, 0.724   dt=1.08 seconds\n",
            "k=10, mode=item: i_fold= 2, 0.725   dt=1.05 seconds\n",
            "k=10, mode=item: i_fold= 3, 0.724   dt=1.06 seconds\n",
            "k=10, mode=item: i_fold= 4, 0.734   dt=1.07 seconds\n",
            "k=10, mode=user: i_fold= 0, 0.746   dt=0.94 seconds\n",
            "k=10, mode=user: i_fold= 1, 0.744   dt=0.94 seconds\n",
            "k=10, mode=user: i_fold= 2, 0.741   dt=0.94 seconds\n",
            "k=10, mode=user: i_fold= 3, 0.744   dt=0.95 seconds\n",
            "k=10, mode=user: i_fold= 4, 0.756   dt=0.94 seconds\n",
            "k=20, mode=item: i_fold= 0, 0.730   dt=1.07 seconds\n",
            "k=20, mode=item: i_fold= 1, 0.724   dt=1.09 seconds\n",
            "k=20, mode=item: i_fold= 2, 0.725   dt=1.06 seconds\n",
            "k=20, mode=item: i_fold= 3, 0.725   dt=1.08 seconds\n",
            "k=20, mode=item: i_fold= 4, 0.736   dt=1.08 seconds\n",
            "k=20, mode=user: i_fold= 0, 0.744   dt=0.93 seconds\n",
            "k=20, mode=user: i_fold= 1, 0.742   dt=0.99 seconds\n",
            "k=20, mode=user: i_fold= 2, 0.738   dt=0.93 seconds\n",
            "k=20, mode=user: i_fold= 3, 0.741   dt=0.97 seconds\n",
            "k=20, mode=user: i_fold= 4, 0.752   dt=0.99 seconds\n",
            "k=50, mode=item: i_fold= 0, 0.734   dt=1.10 seconds\n",
            "k=50, mode=item: i_fold= 1, 0.730   dt=1.09 seconds\n",
            "k=50, mode=item: i_fold= 2, 0.729   dt=1.08 seconds\n",
            "k=50, mode=item: i_fold= 3, 0.730   dt=1.11 seconds\n",
            "k=50, mode=item: i_fold= 4, 0.741   dt=1.10 seconds\n",
            "k=50, mode=user: i_fold= 0, 0.744   dt=0.95 seconds\n",
            "k=50, mode=user: i_fold= 1, 0.742   dt=0.98 seconds\n",
            "k=50, mode=user: i_fold= 2, 0.739   dt=0.96 seconds\n",
            "k=50, mode=user: i_fold= 3, 0.740   dt=0.97 seconds\n",
            "k=50, mode=user: i_fold= 4, 0.753   dt=0.99 seconds\n",
            "k=100, mode=item: i_fold= 0, 0.739   dt=1.12 seconds\n",
            "k=100, mode=item: i_fold= 1, 0.736   dt=1.16 seconds\n",
            "k=100, mode=item: i_fold= 2, 0.734   dt=1.16 seconds\n",
            "k=100, mode=item: i_fold= 3, 0.735   dt=1.15 seconds\n",
            "k=100, mode=item: i_fold= 4, 0.746   dt=1.13 seconds\n",
            "k=100, mode=user: i_fold= 0, 0.747   dt=1.01 seconds\n",
            "k=100, mode=user: i_fold= 1, 0.745   dt=0.98 seconds\n",
            "k=100, mode=user: i_fold= 2, 0.742   dt=0.99 seconds\n",
            "k=100, mode=user: i_fold= 3, 0.743   dt=0.99 seconds\n",
            "k=100, mode=user: i_fold= 4, 0.755   dt=0.99 seconds\n",
            "k=200, mode=item: i_fold= 0, 0.745   dt=1.18 seconds\n",
            "k=200, mode=item: i_fold= 1, 0.742   dt=1.19 seconds\n",
            "k=200, mode=item: i_fold= 2, 0.739   dt=1.17 seconds\n",
            "k=200, mode=item: i_fold= 3, 0.740   dt=1.17 seconds\n",
            "k=200, mode=item: i_fold= 4, 0.752   dt=1.19 seconds\n",
            "k=200, mode=user: i_fold= 0, 0.751   dt=1.01 seconds\n",
            "k=200, mode=user: i_fold= 1, 0.748   dt=1.04 seconds\n",
            "k=200, mode=user: i_fold= 2, 0.746   dt=0.99 seconds\n",
            "k=200, mode=user: i_fold= 3, 0.746   dt=1.03 seconds\n",
            "k=200, mode=user: i_fold= 4, 0.759   dt=1.00 seconds\n"
          ],
          "name": "stdout"
        }
      ]
    },
    {
      "cell_type": "code",
      "metadata": {
        "colab": {
          "base_uri": "https://localhost:8080/"
        },
        "id": "3dShutxIz3kM",
        "outputId": "a776c274-d3a7-438f-c5ab-d65fd17724ec"
      },
      "source": [
        "baseline_df = pd.DataFrame({'i_fold': i_fold_list})\n",
        "\n",
        "for (index, row), (train_inds, test_inds) in zip(baseline_df.iterrows(), kf.split(ratings_df)):\n",
        "    print(\"i_fold={}: MAE=\".format(row['i_fold']), end='')\n",
        "    train_df, test_df = ratings_df.iloc[train_inds], ratings_df.iloc[test_inds]\n",
        "    baseline_algo = DampedUserMovieBaselineModel(damping_factor=10)\n",
        "    baseline_algo.fit(train_df)\n",
        "    preds = baseline_algo.predict(test_df[['user_id', 'item_id']])\n",
        "    mae = mean_absolute_error(preds, test_df['rating'])\n",
        "    baseline_df.loc[index, 'MAE'] = mae\n",
        "    print(\"{:5.3f}\".format(mae))"
      ],
      "execution_count": null,
      "outputs": [
        {
          "output_type": "stream",
          "text": [
            "i_fold=0: MAE=0.758\n",
            "i_fold=1: MAE=0.756\n",
            "i_fold=2: MAE=0.753\n",
            "i_fold=3: MAE=0.754\n",
            "i_fold=4: MAE=0.766\n"
          ],
          "name": "stdout"
        }
      ]
    },
    {
      "cell_type": "code",
      "metadata": {
        "colab": {
          "base_uri": "https://localhost:8080/",
          "height": 279
        },
        "id": "9klF6YWaz9Sj",
        "outputId": "b05f8d21-8949-4a87-dc1a-ac993ea3d0d7"
      },
      "source": [
        "base_avg = baseline_df['MAE'].mean()\n",
        "base_std = baseline_df['MAE'].std()\n",
        "sns.pointplot(data=results_df, x='k', hue='mode', y='MAE')\n",
        "nk = results_df['k'].nunique()\n",
        "plt.plot([-1, nk], [base_avg, base_avg], label='baseline', color='C2')\n",
        "plt.fill_between([-1, nk], [base_avg - base_std]*2, [base_avg+base_std]*2, color='C2', alpha=0.2)\n",
        "plt.legend()\n",
        "plt.show()"
      ],
      "execution_count": null,
      "outputs": [
        {
          "output_type": "display_data",
          "data": {
            "image/png": "[encoded data removed]",
            "text/plain": [
              "<Figure size 432x288 with 1 Axes>"
            ]
          },
          "metadata": {
            "tags": [],
            "needs_background": "light"
          }
        }
      ]
    },
    {
      "cell_type": "markdown",
      "metadata": {
        "id": "9V8XlTyk0VhA"
      },
      "source": [
        "## ALS & SGD"
      ]
    },
    {
      "cell_type": "code",
      "metadata": {
        "id": "7CJbsNaL8S0z"
      },
      "source": [
        "class ALSRecommender():\n",
        "    \"\"\"Recommender based on Alternating Least Squares algorithm.\n",
        "    \n",
        "    Parameters\n",
        "    ----------\n",
        "    k : int, default=5\n",
        "        Number of latent features\n",
        "    lmbda : float, default=0.1\n",
        "        Regularization parameter\n",
        "    max_epochs : int, default=15\n",
        "        Max number of iterations to run\n",
        "    baseline_algo : object\n",
        "        Object with fit(X) and \n",
        "    \"\"\"\n",
        "    def __init__(self, k=5, lmbda=0.1, max_epochs=15, baseline_algo=None, error_metric='mae',\n",
        "                 verbose=True):\n",
        "        # Force integer in case it comes in as float\n",
        "        self.k = int(np.round(k))\n",
        "        self.lmbda = lmbda\n",
        "        self.max_epochs = max_epochs\n",
        "        self.baseline_algo = baseline_algo\n",
        "        self.error_metric = error_metric\n",
        "        self.verbose = verbose\n",
        "\n",
        "        self.U = None\n",
        "        self.I = None\n",
        "        self.initialized = False\n",
        "\n",
        "    def _calc_train_error(self, U, I, R, R_selector=None, error_metric='mae'):\n",
        "        if R_selector is None:\n",
        "            R_selector = (R > 0)\n",
        "        R_hat = np.dot(U.T, I)\n",
        "        if error_metric == 'mae':\n",
        "            error = np.sum(R_selector * np.abs(R_hat - R)) / np.sum(R_selector)\n",
        "        else:\n",
        "            raise ValueError(\"{} is an unsupported error metric\".format(metric))\n",
        "        return error\n",
        "\n",
        "    def _fit_init(self, X):\n",
        "        if not isinstance(X, pd.DataFrame):\n",
        "            raise ValueError(\"X must be a DataFrame\")\n",
        "        X = X.copy()\n",
        "        user_col, item_col, rating_col = X.columns[:3]\n",
        "        if self.baseline_algo is None:\n",
        "            self.train_mean = X[rating_col].mean()\n",
        "        else:\n",
        "            self.baseline_algo.fit(X)\n",
        "        self.R, self.user_map, self.item_map = get_rating_matrix(X)\n",
        "        n_users, n_items = self.R.shape\n",
        "        self.U = 3 * np.random.rand(self.k, n_users)\n",
        "        self.I = 3 * np.random.rand(self.k, n_items)\n",
        "        self.I[0, :] = self.R[self.R != 0].mean(axis=0) # Avg. rating for each movie\n",
        "        self.E = np.eye(self.k) # (k x k)-dimensional idendity matrix\n",
        "        self.epoch = 0\n",
        "        self.train_errors = []\n",
        "        self.initialized = True\n",
        "\n",
        "    def fit(self, X, n_epochs=None):\n",
        "        \"\"\"Fit model to training data X. If at least one iteration has already been run,\n",
        "        then the model will continue from its most recent state.\n",
        "        Parameters\n",
        "        ----------\n",
        "        X : pandas DataFrame, shape=(n_ratings, >=3)\n",
        "            First 3 columns must correspond to user, item, and rating in that order\n",
        "        n_epochs : int, optional\n",
        "            Number of iterations to run. If not provided, will run for self.max_epochs\n",
        "        Returns\n",
        "        -------\n",
        "        self\n",
        "            This allows chaining like `ALSRecommender().fit(X_train).predict(X_test)`\n",
        "        \"\"\"\n",
        "        # Allow continuation from previous state if n_epochs is given. Otherwise start from scratch.\n",
        "        if n_epochs is None:\n",
        "            self.initialized = False\n",
        "        if not self.initialized:\n",
        "            self._fit_init(X)\n",
        "\n",
        "        epoch_0 = self.epoch\n",
        "        if n_epochs is None:\n",
        "            n_epochs = self.max_epochs - epoch_0\n",
        "\n",
        "        n_users, n_items = self.R.shape\n",
        "\n",
        "        # Run n_epochs iterations\n",
        "        for i_epoch in range(n_epochs):\n",
        "            if self.epoch >= self.max_epochs:\n",
        "                print(\"max_epochs = {}\".format(self.max_epochs))\n",
        "                break\n",
        "            # Fix I and estimate U\n",
        "            for i, Ri in enumerate(self.R):\n",
        "                nui = np.count_nonzero(Ri) # Number of items user i has rated\n",
        "                if (nui == 0): nui = 1 # Be aware of zero counts!\n",
        "                # Get array of nonzero indices in row Ii\n",
        "                Ri_nonzero_selector = np.nonzero(Ri)[0]\n",
        "                # Select subset of I associated with movies reviewed by user i\n",
        "                I_Ri = self.I[:, Ri_nonzero_selector]\n",
        "                # Select subset of row R_i associated with movies reviewed by user i\n",
        "                Ri_nonzero = self.R[i, Ri_nonzero_selector]\n",
        "                Ai = np.dot(I_Ri, I_Ri.T) + self.lmbda * nui * self.E\n",
        "                Vi = np.dot(I_Ri, Ri_nonzero.T)\n",
        "                self.U[:, i] = np.linalg.solve(Ai, Vi)\n",
        "            # Fix U and estimate I\n",
        "            for j, Rj in enumerate(self.R.T):\n",
        "                nmj = np.count_nonzero(Rj) # Number of users that rated item j\n",
        "                if (nmj == 0): nmj = 1 # Be aware of zero counts!\n",
        "                # Get array of nonzero indices in row Ij\n",
        "                Rj_nonzero_selector = np.nonzero(Rj)[0]\n",
        "                # Select subset of P associated with users who reviewed movie j\n",
        "                U_Rj = self.U[:, Rj_nonzero_selector]\n",
        "                # Select subset of column R_j associated with users who reviewed movie j\n",
        "                Rj_nonzero = self.R[Rj_nonzero_selector, j]\n",
        "                Aj = np.dot(U_Rj, U_Rj.T) + self.lmbda * nmj * self.E\n",
        "                Vj = np.dot(U_Rj, Rj_nonzero)\n",
        "                self.I[:, j] = np.linalg.solve(Aj, Vj)\n",
        "            error = self._calc_train_error(self.U, self.I, self.R)\n",
        "            self.train_errors.append(error)\n",
        "            if self.verbose:\n",
        "                print(\"[Epoch {}/{}] train error: {}\".format(self.epoch, self.max_epochs, error))\n",
        "            self.epoch += 1\n",
        "        return self\n",
        "\n",
        "    def predict(self, X):\n",
        "        \"\"\"Generate predictions for user/item pairs\n",
        "        \n",
        "        Parameters\n",
        "        ----------\n",
        "        X : pandas dataframe, shape = (n_pairs, 2)\n",
        "            User, item dataframe\n",
        "            \n",
        "        Returns\n",
        "        -------\n",
        "        rating_pred : 1d numpy array, shape = (n_pairs,)\n",
        "            Array of rating predictions for each user/item pair\n",
        "        \"\"\"\n",
        "        if not isinstance(X, pd.DataFrame):\n",
        "            raise ValueError(\"X must be a DataFrame\")\n",
        "        X = X.copy()\n",
        "        user_col, item_col = X.columns[:2]\n",
        "        if self.baseline_algo is None:\n",
        "            X['rating_baseline'] = self.train_mean\n",
        "        else:\n",
        "            X['rating_baseline'] = self.baseline_algo.predict(X)\n",
        "        X['rating'] = 0\n",
        "        known_user_and_item_mask = (\n",
        "            X[user_col].isin(self.user_map.index) & X[item_col].isin(self.item_map.index)\n",
        "        )\n",
        "        X_known, X_unknown = X[known_user_and_item_mask], X[~known_user_and_item_mask]\n",
        "        user_inds = X_known[user_col].map(self.user_map)\n",
        "        item_inds = X_known[item_col].map(self.item_map)\n",
        "        rating_pred = np.array([\n",
        "            np.sum(self.U[:, u_ind] * self.I[:, i_ind])\n",
        "            for u_ind, i_ind in zip(user_inds, item_inds)\n",
        "        ])\n",
        "        X.loc[known_user_and_item_mask, 'rating'] = rating_pred\n",
        "        X.loc[~known_user_and_item_mask, 'rating'] = self.baseline_algo.predict(X_unknown)\n",
        "        min_rating = np.min(self.R[np.nonzero(self.R)])\n",
        "        max_rating = np.max(self.R)\n",
        "        X.loc[X['rating'] < min_rating, 'rating'] = min_rating\n",
        "        X.loc[X['rating'] > max_rating, 'rating'] = max_rating\n",
        "        return X['rating'].values\n",
        "\n",
        "\n",
        "class SGDRecommender():\n",
        "    \"\"\"Stochastic Gradient Descent recommender.\n",
        "    \n",
        "    Parameters\n",
        "    ----------\n",
        "    k : int, default=5\n",
        "        Number of latent features\n",
        "    learning_rate : float, default=0.1\n",
        "        Speed at which to descend down gradient\n",
        "    max_epochs : int, default=15\n",
        "        Max number of iterations to run\n",
        "    error_metric : string, default='mae'\n",
        "        Error metric to use\n",
        "    user_reg : float, default=0.0\n",
        "        Regularization parameter for the latent feature weights in U, >=0\n",
        "    item_reg : float, default=0.0\n",
        "        Regularization parameter for the latent feature weights in I, >=0\n",
        "    user_bias_reg : float, default=0.0\n",
        "        Regularization parameter for the b_u terms, >=0\n",
        "    item_bias_reg : float, default=0.0\n",
        "        Regularization parameter for the b_i terms, >=0\n",
        "    damping_factor : float, default=25\n",
        "        Damping factor to be used in the baseline algorithm\n",
        "    minibatch_size : int, default=1\n",
        "        Number of user/item pairs to evaluate at a time during training\n",
        "    verbose : boolean, default=True\n",
        "        If True, print progress.\n",
        "    \"\"\"\n",
        "    def __init__(self, k=5, learning_rate=0.1, max_epochs=15, error_metric='mae',\n",
        "                 user_reg=0.0, item_reg=0.0, user_bias_reg=0.0, item_bias_reg=0.0,\n",
        "                 damping_factor=25, minibatch_size=1, verbose=True):\n",
        "        self.k = k\n",
        "        self.learning_rate = learning_rate\n",
        "        self.max_epochs = max_epochs\n",
        "        self.error_metric = error_metric\n",
        "        self.user_reg = user_reg\n",
        "        self.item_reg = item_reg\n",
        "        self.user_bias_reg = user_bias_reg\n",
        "        self.item_bias_reg = item_bias_reg\n",
        "        self.damping_factor = damping_factor\n",
        "        self.minibatch_size = minibatch_size\n",
        "        self.verbose = verbose\n",
        "\n",
        "        self.U = None\n",
        "        self.I = None\n",
        "        self.initialized = False\n",
        "\n",
        "    def _calc_train_error(self, U, I, mu, b_u, b_i, R, R_selector=None):\n",
        "        if R_selector is None:\n",
        "            R_selector = (R > 0)\n",
        "        R_hat = np.dot(U, I.T) + mu + b_u[:, None] + b_i[None, :]\n",
        "        if self.error_metric == 'mae':\n",
        "            error = np.sum(R_selector * np.abs(R_hat - R)) / np.sum(R_selector)\n",
        "        else:\n",
        "            raise ValueError(\"{} is an unsupported error metric\".format(metric))\n",
        "        return error\n",
        "\n",
        "    def _fit_init(self, X):\n",
        "        if not isinstance(X, pd.DataFrame):\n",
        "            raise ValueError(\"X must be a DataFrame\")\n",
        "        user_col, item_col, rating_col = X.columns[:3]\n",
        "        self.baseline_algo = DampedUserMovieBaselineModel(damping_factor=self.damping_factor)\n",
        "        self.baseline_algo.fit(X)\n",
        "        self.mu = X[rating_col].mean()\n",
        "        self.b_u, self.b_i = self.baseline_algo.b_u.values, self.baseline_algo.b_i.values\n",
        "        self.R, self.user_map, self.item_map = get_rating_matrix(X)\n",
        "        n_users, n_items = self.R.shape\n",
        "        self.U = np.random.normal(scale=1.0/self.k, size=(n_users, self.k))\n",
        "        self.I = np.random.normal(scale=1.0/self.k, size=(n_items, self.k))\n",
        "        self.epoch = 0\n",
        "        self.train_errors = []\n",
        "        self.initialized = True\n",
        "\n",
        "    def fit(self, X, n_epochs=None):\n",
        "        \"\"\"Fit model to training data X. If at least one iteration has already been run,\n",
        "        then the model will continue from its most recent state.\n",
        "        Parameters\n",
        "        ----------\n",
        "        X : pandas DataFrame, shape=(n_ratings, >=3)\n",
        "            First 3 columns must correspond to user, item, and rating in that order\n",
        "        n_epochs : int, optional\n",
        "            Number of iterations to run. If not provided, will run for self.max_epochs\n",
        "        Returns\n",
        "        -------\n",
        "        self\n",
        "            This allows chaining like `SGDRecommender().fit(X_train).predict(X_test)`\n",
        "        \"\"\"\n",
        "        X = X.copy()\n",
        "        # Allow continuation from previous state if n_epochs is given. Otherwise start from scratch.\n",
        "        if n_epochs is None:\n",
        "            self.initialized = False\n",
        "        if not self.initialized:\n",
        "            self._fit_init(X)\n",
        "        X.iloc[:, 0] = X.iloc[:, 0].map(self.user_map)\n",
        "        X.iloc[:, 1] = X.iloc[:, 1].map(self.item_map)\n",
        "\n",
        "        epoch_0 = self.epoch\n",
        "        if n_epochs is None:\n",
        "            n_epochs = self.max_epochs - epoch_0\n",
        "\n",
        "        n_users, n_items = self.R.shape\n",
        "\n",
        "        # Repeat until convergence\n",
        "        for i_epoch in range(n_epochs):\n",
        "            if self.epoch >= self.max_epochs:\n",
        "                print(\"max_epochs = {}\".format(self.max_epochs))\n",
        "                break\n",
        "            # Shuffle X\n",
        "            X = X.sample(frac=1)\n",
        "            if self.minibatch_size == 1:\n",
        "                for row in X.itertuples():\n",
        "                    index, user, item, rating = row[:4]\n",
        "                    pred = self.predict_1_train(user, item)\n",
        "                    err = pred - self.R[user, item]\n",
        "                    self.b_u[user] -= self.learning_rate * (err + self.user_bias_reg * self.b_u[user])\n",
        "                    self.b_i[item] -= self.learning_rate * (err + self.item_bias_reg * self.b_i[item])\n",
        "                    self.U[user, :] -= self.learning_rate * (\n",
        "                        err * self.I[item, :] + self.user_reg * self.U[user, :]\n",
        "                    )\n",
        "                    self.I[item, :] -= self.learning_rate * (\n",
        "                        err * self.U[user, :] + self.item_reg * self.I[item, :]\n",
        "                    )\n",
        "            else:\n",
        "                raise ValueError(\"Minibatch size greater than 1 not supported yet.\")\n",
        "            error = self._calc_train_error(self.U, self.I, self.mu, self.b_u, self.b_i, self.R)\n",
        "            self.train_errors.append(error)\n",
        "            if self.verbose:\n",
        "                print(\"[Epoch {}/{}] train error: {}\".format(self.epoch, self.max_epochs, error))\n",
        "            self.epoch += 1\n",
        "        return self\n",
        "\n",
        "    def predict_1_train(self, user, item):\n",
        "        pred = self.mu + self.b_u[user] + self.b_i[item]\n",
        "        pred += np.dot(self.U[user, :], self.I[item, :])\n",
        "        return pred\n",
        "\n",
        "    def predict(self, X):\n",
        "        \"\"\"Generate predictions for user/item pairs\n",
        "        \n",
        "        Parameters\n",
        "        ----------\n",
        "        X : pandas dataframe, shape = (n_pairs, 2)\n",
        "            User, item dataframe\n",
        "            \n",
        "        Returns\n",
        "        -------\n",
        "        rating_pred : 1d numpy array, shape = (n_pairs,)\n",
        "            Array of rating predictions for each user/item pair\n",
        "        \"\"\"\n",
        "        if not isinstance(X, pd.DataFrame):\n",
        "            raise ValueError(\"X must be a DataFrame\")\n",
        "        X = X.copy()\n",
        "        user_col, item_col = X.columns[:2]\n",
        "        known_user_and_item_mask = (\n",
        "            X[user_col].isin(self.user_map.index) & X[item_col].isin(self.item_map.index)\n",
        "        )\n",
        "        X_known, X_unknown = X[known_user_and_item_mask], X[~known_user_and_item_mask]\n",
        "        user_inds = X_known[user_col].map(self.user_map)\n",
        "        item_inds = X_known[item_col].map(self.item_map)\n",
        "        rating_pred = np.array([\n",
        "            self.predict_1_train(u_ind, i_ind)\n",
        "            for u_ind, i_ind in zip(user_inds, item_inds)\n",
        "        ])\n",
        "        X.loc[known_user_and_item_mask, 'rating'] = rating_pred\n",
        "        X.loc[~known_user_and_item_mask, 'rating'] = self.baseline_algo.predict(X_unknown)\n",
        "        return X['rating'].values"
      ],
      "execution_count": null,
      "outputs": []
    },
    {
      "cell_type": "code",
      "metadata": {
        "colab": {
          "base_uri": "https://localhost:8080/"
        },
        "id": "5muJzqGd8WRF",
        "outputId": "6d10f3ab-f4c3-40cc-fd2e-4899f886b438"
      },
      "source": [
        "n_splits = 3\n",
        "skf = StratifiedKFold(n_splits=n_splits, random_state=0)\n",
        "splits = [\n",
        "    (train_inds, test_inds)\n",
        "    for train_inds, test_inds in skf.split(ratings_df, ratings_df['user_id'])\n",
        "]\n",
        "\n",
        "for i_fold, (train_inds, test_inds) in enumerate(splits):\n",
        "    train_df, test_df = ratings_df.iloc[train_inds], ratings_df.iloc[test_inds]\n",
        "    train_movie_counts = train_df.groupby('user_id').item_id.count()\n",
        "    test_movie_counts = test_df.groupby('user_id').item_id.count()\n",
        "    print(\"Fold {}:\".format(i_fold))\n",
        "    train_min, train_max = train_movie_counts.min(), train_movie_counts.max()\n",
        "    test_min, test_max = test_movie_counts.min(), test_movie_counts.max()\n",
        "    print(\"  Train: between {} and {} movies per user\".format(train_min, train_max))\n",
        "    print(\"  Test:  between {} and {} movies per user\".format(test_min, test_max))"
      ],
      "execution_count": null,
      "outputs": [
        {
          "output_type": "stream",
          "text": [
            "Fold 0:\n",
            "  Train: between 13 and 492 movies per user\n",
            "  Test:  between 6 and 245 movies per user\n",
            "Fold 1:\n",
            "  Train: between 13 and 491 movies per user\n",
            "  Test:  between 6 and 246 movies per user\n",
            "Fold 2:\n",
            "  Train: between 13 and 491 movies per user\n",
            "  Test:  between 6 and 246 movies per user\n"
          ],
          "name": "stdout"
        },
        {
          "output_type": "stream",
          "text": [
            "/usr/local/lib/python3.6/dist-packages/sklearn/model_selection/_split.py:296: FutureWarning: Setting a random_state has no effect since shuffle is False. This will raise an error in 0.24. You should leave random_state to its default (None), or set shuffle=True.\n",
            "  FutureWarning\n"
          ],
          "name": "stderr"
        }
      ]
    },
    {
      "cell_type": "code",
      "metadata": {
        "id": "DzDPP6Xc80B6"
      },
      "source": [
        "def cart_prod(df_1, df_2):\n",
        "    df_1['_dummy_'], df_2['_dummy_'] = 1, 1\n",
        "    return pd.merge(df_1, df_2, on='_dummy_').drop('_dummy_', axis=1)\n",
        "\n",
        "def prep_results_df(lists_dict):\n",
        "    df = pd.DataFrame({'_dummy_': [1]})\n",
        "    for name, list in lists_dict.items():\n",
        "        df = cart_prod(df, pd.DataFrame({name: list}))\n",
        "    return df"
      ],
      "execution_count": null,
      "outputs": []
    },
    {
      "cell_type": "markdown",
      "metadata": {
        "id": "tTwhb1q79jeI"
      },
      "source": [
        "Evaluation functions"
      ]
    },
    {
      "cell_type": "code",
      "metadata": {
        "id": "1Eo3gZ1V9i8e"
      },
      "source": [
        "def dcg(top_k_matrix):\n",
        "    \"\"\"Compute discounted cumulative gain (DCG) for each row (user) in matrix.\n",
        "    This measures how good the k recommendations for each user are, with\n",
        "    decreasing weight placed on items farther down the list. DCG needs to be\n",
        "    normalized before comparing between users (see normalized discounted\n",
        "    cumulative gain, or NDCG).\n",
        "    Links:\n",
        "        https://link.springer.com/article/10.1007/s11704-015-4584-1\n",
        "        https://gist.github.com/bwhite/3726239\n",
        "        https://opensourceconnections.com/blog/2018/02/26/ndcg-scorer-in-quepid\n",
        "            #cg-dcg-idcg-and-ndcg\n",
        "    Parameters\n",
        "    ----------\n",
        "    top_k_matrix : 2d numpy array, shape = (n_users, k)\n",
        "        Each row should have the top k ratings for each user from a rating\n",
        "        matrix in descending order.\n",
        "    Returns\n",
        "    -------\n",
        "    1d numpy array, shape=(n_users,)\n",
        "        Array of DCG values for each user\n",
        "    \"\"\"\n",
        "    return np.sum(\n",
        "        top_k_matrix\n",
        "        /\n",
        "        np.log2(np.arange(2, top_k_matrix.shape[1]+2))[None, :],\n",
        "        axis=1\n",
        "    )\n",
        "\n",
        "def ndcg(pred_k_matrix, actual_k_matrix):\n",
        "    \"\"\"Calculate normalized discounted cumulative gain (NDCG) for each user\n",
        "    (each row). This is simply the DCG divided by the maximum possible DCG for\n",
        "    each user. NDCG ranges from 0 to 1, where 1 means movies were chosen that\n",
        "    actually received the highest k ratings.\n",
        "    Parameters\n",
        "    ----------\n",
        "    pred_k_matrix : 2d numpy array, shape = (n_users, k)\n",
        "        A matrix of the *actual* ratings of the k movies chosen by the\n",
        "        recommender system for each user\n",
        "    actual_k_matrix : 2d numpy array, shape = (n_users, k)\n",
        "        A matrix of the *actual* ratings of the k movies from the test set\n",
        "        which the user gave the highest ratings to.\n",
        "    Returns\n",
        "    -------\n",
        "    ndcg_array : 1d numpy array, shape = (n_users,)\n",
        "        Array of NDCG values for each user\n",
        "    \"\"\"\n",
        "    max_dcg_array = dcg(actual_k_matrix)\n",
        "    dcg_array = dcg(pred_k_matrix)\n",
        "    return dcg_array / max_dcg_array\n",
        "\n",
        "def ndcg_from_df(df, pred, k):\n",
        "    \"\"\"Calculate NDCG for each user in the passed dataframe given predicted\n",
        "    scores and a number of movies to recommend\n",
        "    Parameters\n",
        "    ----------\n",
        "    df : pandas dataframe, shape = (n_ratings, >=3)\n",
        "        User, item, rating dataframe. All columns after first 3 are ignored\n",
        "    pred : 1d array-like, shape = (n_ratings,)\n",
        "        List/array/series of predicted ratings for each user/item pair in df\n",
        "    k : int\n",
        "        Number of movies per user to recommend\n",
        "        \n",
        "    Returns\n",
        "    -------\n",
        "    user_map : pandas series, shape = (n_users,)\n",
        "        Index = original user ids, value = mapped integer corresponding to\n",
        "        position in ndcg_array for that user\n",
        "    ndcg_array : 1d numpy array, shape = (n_users)\n",
        "        Array of NDCG scores in range (0, 1]\n",
        "    \"\"\"\n",
        "    df = df.iloc[:, :3].copy()\n",
        "    df.columns = ['user', 'item', 'rating']\n",
        "    df['pred'] = pred\n",
        "    pred_matrix, user_map, item_map = get_rating_matrix(df[['user', 'item', 'pred']])\n",
        "    n_items = len(item_map)\n",
        "    inds = pred_matrix.argsort(axis=1)[:, :n_items-1-k:-1]\n",
        "    del pred_matrix\n",
        "    gc.collect()\n",
        "    actual_matrix, _, _ = get_rating_matrix(df[['user', 'item', 'rating']])\n",
        "    pred_k_matrix = actual_matrix[np.arange(len(actual_matrix))[:, None], inds]\n",
        "    inds = actual_matrix.argsort(axis=1)[:, :n_items-1-k:-1]\n",
        "    actual_k_matrix = actual_matrix[np.arange(len(actual_matrix))[:, None], inds]\n",
        "    ndcg_array = ndcg(pred_k_matrix, actual_k_matrix)\n",
        "    return user_map, ndcg_array"
      ],
      "execution_count": null,
      "outputs": []
    },
    {
      "cell_type": "markdown",
      "metadata": {
        "id": "FbXNG5lo9MmH"
      },
      "source": [
        "### Choose the best user-based model\n",
        "\n",
        "*Let's use cross-validation to examine MAE and NDCG@3 on out-of-sample data and choose the \"best\" user-based model*"
      ]
    },
    {
      "cell_type": "code",
      "metadata": {
        "colab": {
          "base_uri": "https://localhost:8080/"
        },
        "id": "2U91iTyt8z_D",
        "outputId": "2fcc2064-8afd-4088-ef6e-94100a47851a"
      },
      "source": [
        "lists_dict = {\n",
        "    'i_fold': np.arange(n_splits),\n",
        "    'k': [1, 2, 5, 10, 20, 50, 100],\n",
        "}\n",
        "k_recs = 3\n",
        "baseline_algo = DampedUserMovieBaselineModel(damping_factor=10)\n",
        "user_results_df = prep_results_df(lists_dict)\n",
        "cols = ['test_err', 'ndcg_mean', 'ndcg_std', 'dt']\n",
        "for c in cols:\n",
        "    user_results_df[c] = np.nan\n",
        "for i_fold, (train_inds, test_inds) in enumerate(splits):\n",
        "    train_df, test_df = ratings_df.iloc[train_inds], ratings_df.iloc[test_inds]\n",
        "    user_results_i = user_results_df[user_results_df['i_fold']==i_fold]\n",
        "    for index, row in user_results_i[['i_fold', 'k']].iterrows():\n",
        "        t1 = datetime.now()\n",
        "        model = KNNRecommender(mode='user', k=row['k'], baseline_algo=baseline_algo)\n",
        "        preds = model.fit(train_df).predict(test_df[['user_id', 'item_id']])\n",
        "        dt = (datetime.now() - t1).total_seconds()\n",
        "        test_err = mean_absolute_error(test_df['rating'], preds)\n",
        "        user_map, ndcg_array = ndcg_from_df(test_df, preds, k=k_recs)\n",
        "        ndcg_mean, ndcg_std = np.mean(ndcg_array), np.std(ndcg_array)\n",
        "        print(\"k={}, i_fold={}: MAE={}, NDCG={}\".format(row['k'], row['i_fold'], test_err, ndcg_mean))\n",
        "        cols = ['test_err', 'ndcg_mean', 'ndcg_std', 'dt']\n",
        "        user_results_df.loc[index, cols] = test_err, ndcg_mean, ndcg_std, dt"
      ],
      "execution_count": null,
      "outputs": [
        {
          "output_type": "stream",
          "text": [
            "k=1, i_fold=0: MAE=0.815118677174853, NDCG=0.8369655023253458\n",
            "k=2, i_fold=0: MAE=0.781600231166416, NDCG=0.8482273405775766\n",
            "k=5, i_fold=0: MAE=0.7571264942010565, NDCG=0.8630678403049701\n",
            "k=10, i_fold=0: MAE=0.7496153263636528, NDCG=0.8659193360477797\n",
            "k=20, i_fold=0: MAE=0.7469469536576984, NDCG=0.8717836126245141\n",
            "k=50, i_fold=0: MAE=0.7470360905582336, NDCG=0.8716972263659186\n",
            "k=100, i_fold=0: MAE=0.7488371816907775, NDCG=0.8695180372946614\n",
            "k=1, i_fold=1: MAE=0.820690147621912, NDCG=0.8359381527480367\n",
            "k=2, i_fold=1: MAE=0.784450538355682, NDCG=0.847674607736636\n",
            "k=5, i_fold=1: MAE=0.7593870993315751, NDCG=0.8606143875242239\n",
            "k=10, i_fold=1: MAE=0.7526014139035732, NDCG=0.8622149031659992\n",
            "k=20, i_fold=1: MAE=0.7500167049661343, NDCG=0.8658096963086768\n",
            "k=50, i_fold=1: MAE=0.7508972003037176, NDCG=0.8662743964516358\n",
            "k=100, i_fold=1: MAE=0.7528793793802401, NDCG=0.8645012299391964\n",
            "k=1, i_fold=2: MAE=0.8199492154157525, NDCG=0.8351597108738448\n",
            "k=2, i_fold=2: MAE=0.7834779688045745, NDCG=0.8506591379908867\n",
            "k=5, i_fold=2: MAE=0.7603686168232268, NDCG=0.8596734081733238\n",
            "k=10, i_fold=2: MAE=0.7499603079518496, NDCG=0.8685605335101336\n",
            "k=20, i_fold=2: MAE=0.7470651456010144, NDCG=0.8754058641314186\n",
            "k=50, i_fold=2: MAE=0.7475564925970107, NDCG=0.8765422449708559\n",
            "k=100, i_fold=2: MAE=0.7496003554351732, NDCG=0.8740726774708101\n"
          ],
          "name": "stdout"
        }
      ]
    },
    {
      "cell_type": "code",
      "metadata": {
        "colab": {
          "base_uri": "https://localhost:8080/",
          "height": 279
        },
        "id": "uZ_mn27P8z6c",
        "outputId": "75451ed3-3f37-4501-b003-5fc4c851f63f"
      },
      "source": [
        "fig, (ax0, ax1) = plt.subplots(2, 1, sharex=True)\n",
        "sns.pointplot(data=user_results_df, x='k', y='test_err', ax=ax0)\n",
        "ax0.set_ylabel('MAE')\n",
        "ax0.set_xlabel('')\n",
        "sns.pointplot(data=user_results_df, x='k', y='ndcg_mean', ax=ax1)\n",
        "ax1.set_ylabel('NDCG@{}'.format(k_recs))\n",
        "fig.subplots_adjust(hspace=0.1)\n",
        "plt.show()"
      ],
      "execution_count": null,
      "outputs": [
        {
          "output_type": "display_data",
          "data": {
            "image/png": "[encoded data removed]",
            "text/plain": [
              "<Figure size 432x288 with 2 Axes>"
            ]
          },
          "metadata": {
            "tags": [],
            "needs_background": "light"
          }
        }
      ]
    },
    {
      "cell_type": "markdown",
      "metadata": {
        "id": "FJbuXPiY_IOF"
      },
      "source": [
        "NDCG@3 peaks at $k=50$, and MAE is pretty similar between $k=20$ to $100$, so $k=50$ is the winner."
      ]
    },
    {
      "cell_type": "code",
      "metadata": {
        "id": "GBf60pUL_JDM"
      },
      "source": [
        "baseline_algo = DampedUserMovieBaselineModel(damping_factor=10)\n",
        "best_user_model = KNNRecommender(mode='user', k=50, baseline_algo=baseline_algo)"
      ],
      "execution_count": null,
      "outputs": []
    },
    {
      "cell_type": "markdown",
      "metadata": {
        "id": "neDtIe8X_JiI"
      },
      "source": [
        "### Choose the best item-based model\n",
        "*Let's use cross-validation to examine MAE and NDCG@3 on out-of-sample data and choose the \"best\" item-based model.*"
      ]
    },
    {
      "cell_type": "code",
      "metadata": {
        "colab": {
          "base_uri": "https://localhost:8080/"
        },
        "id": "gP6dbqzk_ZfT",
        "outputId": "441d5a70-5221-4ff0-e230-5a49a119bb81"
      },
      "source": [
        "lists_dict = {\n",
        "    'i_fold': np.arange(n_splits),\n",
        "    'k': [1, 2, 5, 10, 20, 50, 100],\n",
        "}\n",
        "k_recs = 3\n",
        "baseline_algo = DampedUserMovieBaselineModel(damping_factor=10)\n",
        "item_results_df = prep_results_df(lists_dict)\n",
        "cols = ['test_err', 'ndcg_mean', 'ndcg_std', 'dt']\n",
        "for c in cols:\n",
        "    item_results_df[c] = np.nan\n",
        "for i_fold, (train_inds, test_inds) in enumerate(splits):\n",
        "    train_df, test_df = ratings_df.iloc[train_inds], ratings_df.iloc[test_inds]\n",
        "    item_results_i = item_results_df[item_results_df['i_fold']==i_fold]\n",
        "    print(\"i_fold={}: \".format(i_fold), end='')\n",
        "    for index, row in item_results_i[['i_fold', 'k']].iterrows():\n",
        "        t1 = datetime.now()\n",
        "        model = KNNRecommender(mode='item', k=row['k'], baseline_algo=baseline_algo)\n",
        "        preds = model.fit(train_df).predict(test_df[['user_id', 'item_id']])\n",
        "        dt = (datetime.now() - t1).total_seconds()\n",
        "        test_err = mean_absolute_error(test_df['rating'], preds)\n",
        "        user_map, ndcg_array = ndcg_from_df(test_df, preds, k=k_recs)\n",
        "        ndcg_mean, ndcg_std = np.mean(ndcg_array), np.std(ndcg_array)\n",
        "        print(\"k={}, \".format(row['k']), end='')\n",
        "        cols = ['test_err', 'ndcg_mean', 'ndcg_std', 'dt']\n",
        "        item_results_df.loc[index, cols] = test_err, ndcg_mean, ndcg_std, dt\n",
        "    print()"
      ],
      "execution_count": null,
      "outputs": [
        {
          "output_type": "stream",
          "text": [
            "i_fold=0: k=1, k=2, k=5, k=10, k=20, k=50, k=100, \n",
            "i_fold=1: k=1, k=2, k=5, k=10, k=20, k=50, k=100, \n",
            "i_fold=2: k=1, k=2, k=5, k=10, k=20, k=50, k=100, \n"
          ],
          "name": "stdout"
        }
      ]
    },
    {
      "cell_type": "code",
      "metadata": {
        "id": "2Ys3wcgs_c32"
      },
      "source": [
        "fig, (ax0, ax1) = plt.subplots(2, 1, sharex=True)\n",
        "sns.pointplot(data=item_results_df, x='k', y='test_err', ax=ax0)\n",
        "ax0.set_ylabel('MAE')\n",
        "ax0.set_xlabel('')\n",
        "sns.pointplot(data=item_results_df, x='k', y='ndcg_mean', ax=ax1)\n",
        "ax1.set_ylabel('NDCG@{}'.format(k_recs))\n",
        "fig.subplots_adjust(hspace=0.1)\n",
        "plt.show()"
      ],
      "execution_count": null,
      "outputs": []
    },
    {
      "cell_type": "markdown",
      "metadata": {
        "id": "SOsYFsI2_laf"
      },
      "source": [
        "Here, $k=10$ and $k=20$ have similar MAE and NDCG@3, we'll favor higher $k$ in nearest neigbor methods because higher $k$ is less prone to overfitting. $k=20$ is the winner of the item-based models."
      ]
    },
    {
      "cell_type": "code",
      "metadata": {
        "id": "MRFvJDJD_mXW"
      },
      "source": [
        "baseline_algo = DampedUserMovieBaselineModel(damping_factor=10)\n",
        "best_item_model = KNNRecommender(mode='item', k=20, baseline_algo=baseline_algo)"
      ],
      "execution_count": null,
      "outputs": []
    },
    {
      "cell_type": "markdown",
      "metadata": {
        "id": "DwlHA-ts_vE9"
      },
      "source": [
        "### Choose the best ALS model\n",
        "\n",
        "Let's use cross-validation to examine MAE and NDCG@3 on out-of-sample data and choose the \"best\" ALS model."
      ]
    },
    {
      "cell_type": "code",
      "metadata": {
        "colab": {
          "base_uri": "https://localhost:8080/"
        },
        "id": "p8AX--Dm_x5X",
        "outputId": "70685495-a021-4f39-9e3b-254330497671"
      },
      "source": [
        "max_epochs = 15\n",
        "lists_dict = {\n",
        "    'i_fold': np.arange(n_splits),\n",
        "    'i_epoch': np.arange(max_epochs),\n",
        "    'k': [5, 10, 50],\n",
        "}\n",
        "k_recs = 3\n",
        "baseline_algo = DampedUserMovieBaselineModel(damping_factor=10)\n",
        "als_epoch_results_df = prep_results_df(lists_dict)\n",
        "cols = ['test_err', 'ndcg_mean', 'ndcg_std', 'dt']\n",
        "for c in cols:\n",
        "    als_epoch_results_df[c] = np.nan\n",
        "for i_fold, (train_inds, test_inds) in enumerate(splits):\n",
        "    train_df, test_df = ratings_df.iloc[train_inds], ratings_df.iloc[test_inds]\n",
        "    als_epoch_results_i = als_epoch_results_df[als_epoch_results_df['i_fold']==i_fold]\n",
        "    for k, group in als_epoch_results_i.groupby('k'):\n",
        "        model = ALSRecommender(k=k, lmbda=0.1, max_epochs=max_epochs, baseline_algo=baseline_algo,\n",
        "                             verbose=False)\n",
        "        print('i_fold={}, k={}: i_epoch='.format(i_fold, k), end='')\n",
        "        for index, row in group[['i_fold', 'i_epoch']].iterrows():\n",
        "            t1 = datetime.now()\n",
        "            preds = model.fit(train_df, n_epochs=1).predict(test_df[['user_id', 'item_id']])\n",
        "            dt = (datetime.now() - t1).total_seconds()\n",
        "            test_err = mean_absolute_error(test_df['rating'], preds)\n",
        "            user_map, ndcg_array = ndcg_from_df(test_df, preds, k=k_recs)\n",
        "            ndcg_mean, ndcg_std = np.mean(ndcg_array), np.std(ndcg_array)\n",
        "            print('{}, '.format(row['i_epoch']), end='')\n",
        "            cols = ['test_err', 'ndcg_mean', 'ndcg_std', 'dt']\n",
        "            als_epoch_results_df.loc[index, cols] = test_err, ndcg_mean, ndcg_std, dt\n",
        "        print()"
      ],
      "execution_count": null,
      "outputs": [
        {
          "output_type": "stream",
          "text": [
            "i_fold=0, k=5: i_epoch=0, 1, 2, 3, 4, 5, 6, 7, 8, 9, 10, 11, 12, 13, 14, \n",
            "i_fold=0, k=10: i_epoch=0, 1, 2, 3, 4, 5, 6, 7, 8, 9, 10, 11, 12, 13, 14, \n",
            "i_fold=0, k=50: i_epoch=0, 1, 2, 3, 4, 5, 6, 7, 8, 9, 10, 11, 12, 13, 14, \n",
            "i_fold=1, k=5: i_epoch=0, 1, 2, 3, 4, 5, 6, 7, 8, 9, 10, 11, 12, 13, 14, \n",
            "i_fold=1, k=10: i_epoch=0, 1, 2, 3, 4, 5, 6, 7, 8, 9, 10, 11, 12, 13, 14, \n",
            "i_fold=1, k=50: i_epoch=0, 1, 2, 3, 4, 5, 6, 7, 8, 9, 10, 11, 12, 13, 14, \n",
            "i_fold=2, k=5: i_epoch=0, 1, 2, 3, 4, 5, 6, 7, 8, 9, 10, 11, 12, 13, 14, \n",
            "i_fold=2, k=10: i_epoch=0, 1, 2, 3, 4, 5, 6, 7, 8, 9, 10, 11, 12, 13, 14, \n",
            "i_fold=2, k=50: i_epoch=0, 1, 2, 3, 4, 5, 6, 7, 8, 9, 10, 11, 12, 13, 14, \n"
          ],
          "name": "stdout"
        }
      ]
    },
    {
      "cell_type": "code",
      "metadata": {
        "colab": {
          "base_uri": "https://localhost:8080/",
          "height": 279
        },
        "id": "I9RB9EZh_zk8",
        "outputId": "bad3555d-2694-466b-8d14-ba03f1028b80"
      },
      "source": [
        "fig, (ax0, ax1) = plt.subplots(2, 1, sharex=True)\n",
        "sns.pointplot(data=als_epoch_results_df, x='i_epoch', y='test_err', hue='k', ax=ax0)\n",
        "ax0.set_ylabel('MAE')\n",
        "ax0.set_xlabel('')\n",
        "ax0.legend(loc='upper left', bbox_to_anchor=(1.02, 1.0), title='k =')\n",
        "sns.pointplot(data=als_epoch_results_df, x='i_epoch', y='ndcg_mean', hue='k', ax=ax1)\n",
        "ax1.set_ylabel('NDCG@{}'.format(k_recs))\n",
        "ax1.set_xlabel('Epoch')\n",
        "ax1.legend_.remove()\n",
        "fig.subplots_adjust(hspace=0.1)\n",
        "plt.show()"
      ],
      "execution_count": null,
      "outputs": [
        {
          "output_type": "display_data",
          "data": {
            "image/png": "[encoded data removed]",
            "text/plain": [
              "<Figure size 432x288 with 2 Axes>"
            ]
          },
          "metadata": {
            "tags": [],
            "needs_background": "light"
          }
        }
      ]
    },
    {
      "cell_type": "code",
      "metadata": {
        "colab": {
          "base_uri": "https://localhost:8080/"
        },
        "id": "9Uz2c6He_7K1",
        "outputId": "9f3ba9d9-b53d-4953-94d2-00c3333fa513"
      },
      "source": [
        "max_epochs = 15\n",
        "lists_dict = {\n",
        "    'i_fold': np.arange(n_splits),\n",
        "    'k': [20, 50, 100, 200],\n",
        "    'lmbda': [0.05, 0.1, 0.2]\n",
        "}\n",
        "k_recs = 3\n",
        "baseline_algo = DampedUserMovieBaselineModel(damping_factor=10)\n",
        "als_results_df = prep_results_df(lists_dict)\n",
        "cols = ['test_err', 'ndcg_mean', 'ndcg_std', 'dt']\n",
        "for c in cols:\n",
        "    als_results_df[c] = np.nan\n",
        "for i_fold, (train_inds, test_inds) in enumerate(splits):\n",
        "    train_df, test_df = ratings_df.iloc[train_inds], ratings_df.iloc[test_inds]\n",
        "    als_results_i = als_results_df[als_results_df['i_fold']==i_fold]\n",
        "    for index, row in als_results_i[['k', 'lmbda']].iterrows():\n",
        "        model = ALSRecommender(k=row['k'], lmbda=row['lmbda'], max_epochs=max_epochs, baseline_algo=baseline_algo,\n",
        "                               verbose=False)\n",
        "        print('i_fold={}, k={}: lmbda={}'.format(i_fold, row['k'], row['lmbda']))\n",
        "        t1 = datetime.now()\n",
        "        preds = model.fit(train_df).predict(test_df[['user_id', 'item_id']])\n",
        "        dt = (datetime.now() - t1).total_seconds()\n",
        "        test_err = mean_absolute_error(test_df['rating'], preds)\n",
        "        user_map, ndcg_array = ndcg_from_df(test_df, preds, k=k_recs)\n",
        "        ndcg_mean, ndcg_std = np.mean(ndcg_array), np.std(ndcg_array)\n",
        "        cols = ['test_err', 'ndcg_mean', 'ndcg_std', 'dt']\n",
        "        als_results_df.loc[index, cols] = test_err, ndcg_mean, ndcg_std, dt"
      ],
      "execution_count": null,
      "outputs": [
        {
          "output_type": "stream",
          "text": [
            "i_fold=0, k=20.0: lmbda=0.05\n",
            "i_fold=0, k=20.0: lmbda=0.1\n",
            "i_fold=0, k=20.0: lmbda=0.2\n",
            "i_fold=0, k=50.0: lmbda=0.05\n",
            "i_fold=0, k=50.0: lmbda=0.1\n",
            "i_fold=0, k=50.0: lmbda=0.2\n",
            "i_fold=0, k=100.0: lmbda=0.05\n",
            "i_fold=0, k=100.0: lmbda=0.1\n",
            "i_fold=0, k=100.0: lmbda=0.2\n",
            "i_fold=0, k=200.0: lmbda=0.05\n",
            "i_fold=0, k=200.0: lmbda=0.1\n",
            "i_fold=0, k=200.0: lmbda=0.2\n",
            "i_fold=1, k=20.0: lmbda=0.05\n",
            "i_fold=1, k=20.0: lmbda=0.1\n",
            "i_fold=1, k=20.0: lmbda=0.2\n",
            "i_fold=1, k=50.0: lmbda=0.05\n",
            "i_fold=1, k=50.0: lmbda=0.1\n",
            "i_fold=1, k=50.0: lmbda=0.2\n",
            "i_fold=1, k=100.0: lmbda=0.05\n",
            "i_fold=1, k=100.0: lmbda=0.1\n",
            "i_fold=1, k=100.0: lmbda=0.2\n",
            "i_fold=1, k=200.0: lmbda=0.05\n",
            "i_fold=1, k=200.0: lmbda=0.1\n",
            "i_fold=1, k=200.0: lmbda=0.2\n",
            "i_fold=2, k=20.0: lmbda=0.05\n",
            "i_fold=2, k=20.0: lmbda=0.1\n",
            "i_fold=2, k=20.0: lmbda=0.2\n",
            "i_fold=2, k=50.0: lmbda=0.05\n",
            "i_fold=2, k=50.0: lmbda=0.1\n",
            "i_fold=2, k=50.0: lmbda=0.2\n",
            "i_fold=2, k=100.0: lmbda=0.05\n",
            "i_fold=2, k=100.0: lmbda=0.1\n",
            "i_fold=2, k=100.0: lmbda=0.2\n",
            "i_fold=2, k=200.0: lmbda=0.05\n",
            "i_fold=2, k=200.0: lmbda=0.1\n",
            "i_fold=2, k=200.0: lmbda=0.2\n"
          ],
          "name": "stdout"
        }
      ]
    },
    {
      "cell_type": "code",
      "metadata": {
        "colab": {
          "base_uri": "https://localhost:8080/",
          "height": 279
        },
        "id": "bvt36iq0AMDX",
        "outputId": "74b52957-b37b-4f24-c78c-21497029d334"
      },
      "source": [
        "fig, (ax0, ax1) = plt.subplots(2, 1, sharex=True)\n",
        "sns.pointplot(data=als_results_df, x='k', y='test_err', hue='lmbda', ax=ax0)\n",
        "ax0.set_ylabel('MAE')\n",
        "ax0.set_xlabel('')\n",
        "ax0.legend(loc='upper left', bbox_to_anchor=(1.02, 1.0), title=r'$\\lambda =$')\n",
        "sns.pointplot(data=als_results_df, x='k', y='ndcg_mean', hue='lmbda', ax=ax1)\n",
        "ax1.set_ylabel('NDCG@{}'.format(k_recs))\n",
        "ax1.legend_.remove()\n",
        "fig.subplots_adjust(hspace=0.1)\n",
        "plt.show()"
      ],
      "execution_count": null,
      "outputs": [
        {
          "output_type": "display_data",
          "data": {
            "image/png": "[encoded data removed]",
            "text/plain": [
              "<Figure size 432x288 with 2 Axes>"
            ]
          },
          "metadata": {
            "tags": [],
            "needs_background": "light"
          }
        }
      ]
    },
    {
      "cell_type": "markdown",
      "metadata": {
        "id": "sEqQA9-7AR7n"
      },
      "source": [
        "Here, it looks like MAE is pretty flat with respect to the learning rate $\\lambda$, but NDCG@3 shows some interesting variations. The highest NDCG@3 comes from $\\lambda=0.1$ and $k>=50$. With matrix factorization methods like ALS, we want to favor lower $k$ for better generalizability, so $\\lambda=0.1$ and $k=50$ is the winner of the ALS category."
      ]
    },
    {
      "cell_type": "code",
      "metadata": {
        "id": "dMhECfwmIdcc"
      },
      "source": [
        "baseline_algo = DampedUserMovieBaselineModel(damping_factor=10)\n",
        "best_als_model = ALSRecommender(k=50, lmbda=0.1, max_epochs=30, baseline_algo=baseline_algo)"
      ],
      "execution_count": null,
      "outputs": []
    },
    {
      "cell_type": "markdown",
      "metadata": {
        "id": "1HWfAD9CAfmw"
      },
      "source": [
        "### Choose the best SGD model\n",
        "*Let's use cross-validation to examine MAE and NDCG@3 on out-of-sample data and choose the \"best\" SGD model.*"
      ]
    },
    {
      "cell_type": "code",
      "metadata": {
        "colab": {
          "base_uri": "https://localhost:8080/"
        },
        "id": "mQFvSD2jAkMu",
        "outputId": "57c7bb78-ded8-4530-8de3-50f188ec05c3"
      },
      "source": [
        "max_epochs = 15\n",
        "lists_dict = {\n",
        "    'i_fold': np.arange(n_splits),\n",
        "    'i_epoch': np.arange(max_epochs),\n",
        "    'k': [5, 10, 50],\n",
        "}\n",
        "k_recs = 3\n",
        "baseline_algo = DampedUserMovieBaselineModel(damping_factor=10)\n",
        "sgd_epoch_results_df = prep_results_df(lists_dict)\n",
        "cols = ['test_err', 'ndcg_mean', 'ndcg_std', 'dt']\n",
        "for c in cols:\n",
        "    sgd_epoch_results_df[c] = np.nan\n",
        "for i_fold, (train_inds, test_inds) in enumerate(splits):\n",
        "    train_df, test_df = ratings_df.iloc[train_inds], ratings_df.iloc[test_inds]\n",
        "    sgd_epoch_results_i = sgd_epoch_results_df[sgd_epoch_results_df['i_fold']==i_fold]\n",
        "    for k, group in sgd_epoch_results_i.groupby('k'):\n",
        "        model = SGDRecommender(k=k, learning_rate=0.01, max_epochs=max_epochs, damping_factor=10,\n",
        "                               verbose=False)\n",
        "        print('i_fold={}, k={}: i_epoch='.format(i_fold, k), end='')\n",
        "        for index, row in group[['i_fold', 'i_epoch']].iterrows():\n",
        "            t1 = datetime.now()\n",
        "            preds = model.fit(train_df, n_epochs=1).predict(test_df[['user_id', 'item_id']])\n",
        "            dt = (datetime.now() - t1).total_seconds()\n",
        "            test_err = mean_absolute_error(test_df['rating'], preds)\n",
        "            user_map, ndcg_array = ndcg_from_df(test_df, preds, k=k_recs)\n",
        "            ndcg_mean, ndcg_std = np.mean(ndcg_array), np.std(ndcg_array)\n",
        "            print('{}, '.format(row['i_epoch']), end='')\n",
        "            cols = ['test_err', 'ndcg_mean', 'ndcg_std', 'dt']\n",
        "            sgd_epoch_results_df.loc[index, cols] = test_err, ndcg_mean, ndcg_std, dt\n",
        "        print()"
      ],
      "execution_count": null,
      "outputs": [
        {
          "output_type": "stream",
          "text": [
            "i_fold=0, k=5: i_epoch=0, 1, 2, 3, 4, 5, 6, 7, 8, 9, 10, 11, 12, 13, 14, \n",
            "i_fold=0, k=10: i_epoch=0, 1, 2, 3, 4, 5, 6, 7, 8, 9, 10, 11, 12, 13, 14, \n",
            "i_fold=0, k=50: i_epoch=0, 1, 2, 3, 4, 5, 6, 7, 8, 9, 10, 11, 12, 13, 14, \n",
            "i_fold=1, k=5: i_epoch=0, 1, 2, 3, 4, 5, 6, 7, 8, 9, 10, 11, 12, 13, 14, \n",
            "i_fold=1, k=10: i_epoch=0, 1, 2, 3, 4, 5, 6, 7, 8, 9, 10, 11, 12, 13, 14, \n",
            "i_fold=1, k=50: i_epoch=0, 1, 2, 3, 4, 5, 6, 7, 8, 9, 10, 11, 12, 13, 14, \n",
            "i_fold=2, k=5: i_epoch=0, 1, 2, 3, 4, 5, 6, 7, 8, 9, 10, 11, 12, 13, 14, \n",
            "i_fold=2, k=10: i_epoch=0, 1, 2, 3, 4, 5, 6, 7, 8, 9, 10, 11, 12, 13, 14, \n",
            "i_fold=2, k=50: i_epoch=0, 1, 2, 3, 4, 5, 6, 7, 8, 9, 10, 11, 12, 13, 14, \n"
          ],
          "name": "stdout"
        }
      ]
    },
    {
      "cell_type": "code",
      "metadata": {
        "colab": {
          "base_uri": "https://localhost:8080/",
          "height": 279
        },
        "id": "OZXDLLLXAkGh",
        "outputId": "924497cd-fe23-48ef-9bf4-9ceaaa70fb74"
      },
      "source": [
        "fig, (ax0, ax1) = plt.subplots(2, 1, sharex=True)\n",
        "sns.pointplot(data=sgd_epoch_results_df, x='i_epoch', y='test_err', hue='k', ax=ax0)\n",
        "ax0.set_ylabel('MAE')\n",
        "ax0.set_xlabel('')\n",
        "ax0.legend(loc='upper left', bbox_to_anchor=(1.02, 1.0), title='k =')\n",
        "sns.pointplot(data=sgd_epoch_results_df, x='i_epoch', y='ndcg_mean', hue='k', ax=ax1)\n",
        "ax1.set_ylabel('NDCG@{}'.format(k_recs))\n",
        "ax1.set_xlabel('Epoch')\n",
        "ax1.legend_.remove()\n",
        "fig.subplots_adjust(hspace=0.1)\n",
        "plt.show()"
      ],
      "execution_count": null,
      "outputs": [
        {
          "output_type": "display_data",
          "data": {
            "image/png": "[encoded data removed]",
            "text/plain": [
              "<Figure size 432x288 with 2 Axes>"
            ]
          },
          "metadata": {
            "tags": [],
            "needs_background": "light"
          }
        }
      ]
    },
    {
      "cell_type": "code",
      "metadata": {
        "colab": {
          "base_uri": "https://localhost:8080/"
        },
        "id": "cWQELvXAA9fV",
        "outputId": "880e8932-57ad-4196-e8a3-ddb365dc53a4"
      },
      "source": [
        "lists_dict = {\n",
        "    'i_fold': np.arange(n_splits),\n",
        "    'learning_rate': [0.001, 0.01],\n",
        "    'reg': [0.0, 0.001, 0.01],\n",
        "}\n",
        "k_recs = 3\n",
        "k = 50\n",
        "max_epochs = 30\n",
        "sgd_results_df = prep_results_df(lists_dict)\n",
        "cols = ['test_err', 'ndcg_mean', 'ndcg_std', 'dt']\n",
        "for c in cols:\n",
        "    sgd_results_df[c] = np.nan\n",
        "for i_fold, (train_inds, test_inds) in enumerate(splits):\n",
        "    train_df, test_df = ratings_df.iloc[train_inds], ratings_df.iloc[test_inds]\n",
        "    sgd_results_i = sgd_results_df[sgd_results_df['i_fold']==i_fold]\n",
        "    for index, row in sgd_results_i[['learning_rate', 'reg']].iterrows():\n",
        "        learning_rate, reg = row['learning_rate'], row['reg']\n",
        "        model = SGDRecommender(k=k, learning_rate=learning_rate, max_epochs=max_epochs,\n",
        "                               damping_factor=10, verbose=False,\n",
        "                               user_reg=reg, item_reg=reg, user_bias_reg=reg, item_bias_reg=reg)\n",
        "        print('i_fold={}, learning_rate={}, reg={}'.format(i_fold, learning_rate, reg))\n",
        "        t1 = datetime.now()\n",
        "        preds = model.fit(train_df).predict(test_df[['user_id', 'item_id']])\n",
        "        dt = (datetime.now() - t1).total_seconds()\n",
        "        test_err = mean_absolute_error(test_df['rating'], preds)\n",
        "        user_map, ndcg_array = ndcg_from_df(test_df, preds, k=k_recs)\n",
        "        ndcg_mean, ndcg_std = np.mean(ndcg_array), np.std(ndcg_array)\n",
        "        cols = ['test_err', 'ndcg_mean', 'ndcg_std', 'dt']\n",
        "        sgd_results_df.loc[index, cols] = test_err, ndcg_mean, ndcg_std, dt"
      ],
      "execution_count": null,
      "outputs": [
        {
          "output_type": "stream",
          "text": [
            "i_fold=0, learning_rate=0.001, reg=0.0\n",
            "i_fold=0, learning_rate=0.001, reg=0.001\n",
            "i_fold=0, learning_rate=0.001, reg=0.01\n",
            "i_fold=0, learning_rate=0.01, reg=0.0\n",
            "i_fold=0, learning_rate=0.01, reg=0.001\n",
            "i_fold=0, learning_rate=0.01, reg=0.01\n",
            "i_fold=1, learning_rate=0.001, reg=0.0\n",
            "i_fold=1, learning_rate=0.001, reg=0.001\n",
            "i_fold=1, learning_rate=0.001, reg=0.01\n",
            "i_fold=1, learning_rate=0.01, reg=0.0\n",
            "i_fold=1, learning_rate=0.01, reg=0.001\n",
            "i_fold=1, learning_rate=0.01, reg=0.01\n",
            "i_fold=2, learning_rate=0.001, reg=0.0\n",
            "i_fold=2, learning_rate=0.001, reg=0.001\n",
            "i_fold=2, learning_rate=0.001, reg=0.01\n",
            "i_fold=2, learning_rate=0.01, reg=0.0\n",
            "i_fold=2, learning_rate=0.01, reg=0.001\n",
            "i_fold=2, learning_rate=0.01, reg=0.01\n"
          ],
          "name": "stdout"
        }
      ]
    },
    {
      "cell_type": "code",
      "metadata": {
        "colab": {
          "base_uri": "https://localhost:8080/",
          "height": 279
        },
        "id": "oGyKXhYFBBxm",
        "outputId": "720d93cc-babb-4f5c-9913-1e702c845a64"
      },
      "source": [
        "fig, (ax0, ax1) = plt.subplots(2, 1, sharex=True)\n",
        "sns.pointplot(data=sgd_results_df, x='reg', y='test_err', hue='learning_rate', ax=ax0)\n",
        "ax0.set_ylabel('MAE')\n",
        "ax0.set_xlabel('')\n",
        "ax0.legend(loc='upper left', bbox_to_anchor=(1.02, 1.0), title='Learning Rate')\n",
        "sns.pointplot(data=sgd_results_df, x='reg', y='ndcg_mean', hue='learning_rate', ax=ax1)\n",
        "ax1.set_ylabel('NDCG@{}'.format(k_recs))\n",
        "ax1.set_xlabel('Regularization Parameter')\n",
        "ax1.legend_.remove()\n",
        "fig.subplots_adjust(hspace=0.1)\n",
        "plt.show()"
      ],
      "execution_count": null,
      "outputs": [
        {
          "output_type": "display_data",
          "data": {
            "image/png": "[encoded data removed]",
            "text/plain": [
              "<Figure size 432x288 with 2 Axes>"
            ]
          },
          "metadata": {
            "tags": [],
            "needs_background": "light"
          }
        }
      ]
    },
    {
      "cell_type": "code",
      "metadata": {
        "id": "d7fQp9gbBOMy"
      },
      "source": [
        "reg = 0.01\n",
        "best_sgd_model = SGDRecommender(k=50, learning_rate=0.01, max_epochs=30, damping_factor=10,\n",
        "                                user_reg=reg, item_reg=reg, user_bias_reg=reg, item_bias_reg=reg)"
      ],
      "execution_count": null,
      "outputs": []
    },
    {
      "cell_type": "markdown",
      "metadata": {
        "id": "Q5kSP8e5BT6g"
      },
      "source": [
        "### Compare the top methods of each category"
      ]
    },
    {
      "cell_type": "code",
      "metadata": {
        "colab": {
          "base_uri": "https://localhost:8080/"
        },
        "id": "xH9qHPPLBWuf",
        "outputId": "6c6905c5-14c4-4996-f2c4-44a1c8d36391"
      },
      "source": [
        "final_models = [best_user_model, best_item_model, best_als_model, best_sgd_model]\n",
        "final_model_names = ['user', 'item', 'als', 'sgd']\n",
        "final_results = pd.DataFrame(columns=['model', 'i_fold', 'test_err', 'ndcg_mean', 'ndcg_std', 'dt'])\n",
        "for model, name in zip(final_models, final_model_names):\n",
        "    for i_fold, (train_inds, test_inds) in enumerate(splits):\n",
        "        print(\"i_fold={}, model={}\".format(i_fold, name))\n",
        "        train_df, test_df = ratings_df.iloc[train_inds], ratings_df.iloc[test_inds]\n",
        "        if name in ['als', 'sgd']:\n",
        "            model.verbose = False\n",
        "        t1 = datetime.now()\n",
        "        preds = model.fit(train_df).predict(test_df[['user_id', 'item_id']])\n",
        "        dt = (datetime.now() - t1).total_seconds()\n",
        "        test_err = mean_absolute_error(test_df['rating'], preds)\n",
        "        user_map, ndcg_array = ndcg_from_df(test_df, preds, k=3)\n",
        "        ndcg_mean, ndcg_std = np.mean(ndcg_array), np.std(ndcg_array)\n",
        "        final_results.loc[len(final_results), :] = name, i_fold, test_err, ndcg_mean, ndcg_std, dt"
      ],
      "execution_count": null,
      "outputs": [
        {
          "output_type": "stream",
          "text": [
            "i_fold=0, model=user\n",
            "i_fold=1, model=user\n",
            "i_fold=2, model=user\n",
            "i_fold=0, model=item\n",
            "i_fold=1, model=item\n",
            "i_fold=2, model=item\n",
            "i_fold=0, model=als\n",
            "i_fold=1, model=als\n",
            "i_fold=2, model=als\n",
            "i_fold=0, model=sgd\n",
            "i_fold=1, model=sgd\n",
            "i_fold=2, model=sgd\n"
          ],
          "name": "stdout"
        }
      ]
    },
    {
      "cell_type": "code",
      "metadata": {
        "colab": {
          "base_uri": "https://localhost:8080/",
          "height": 279
        },
        "id": "0AV03UVxBd2z",
        "outputId": "c84facae-1803-4130-9d5e-386acf55f668"
      },
      "source": [
        "fig, (ax0, ax1, ax2) = plt.subplots(3, 1, sharex=True)\n",
        "sns.stripplot(data=final_results, x='model', y='test_err', ax=ax0, jitter=True)\n",
        "sns.stripplot(data=final_results, x='model', y='ndcg_mean', ax=ax1, jitter=True)\n",
        "sns.stripplot(data=final_results, x='model', y='dt', ax=ax2, jitter=True)\n",
        "ax0.set_ylabel('MAE')\n",
        "ax0.set_xlabel('')\n",
        "ax1.set_ylabel('NDCG@3')\n",
        "ax1.set_xlabel('')\n",
        "ax2.set_ylabel(r'time [$s$]')\n",
        "ax2.set(yscale='log')\n",
        "ax2.set_yticks([1, 10, 100])\n",
        "plt.setp(ax0.collections, sizes=[50])\n",
        "plt.setp(ax1.collections, sizes=[50])\n",
        "plt.setp(ax2.collections, sizes=[50])\n",
        "plt.show()"
      ],
      "execution_count": null,
      "outputs": [
        {
          "output_type": "display_data",
          "data": {
            "image/png": "[encoded data removed]",
            "text/plain": [
              "<Figure size 432x288 with 3 Axes>"
            ]
          },
          "metadata": {
            "tags": [],
            "needs_background": "light"
          }
        }
      ]
    },
    {
      "cell_type": "markdown",
      "metadata": {
        "id": "Q68Ugo2UFMYo"
      },
      "source": [
        "### Fetching posters"
      ]
    },
    {
      "cell_type": "code",
      "metadata": {
        "colab": {
          "base_uri": "https://localhost:8080/"
        },
        "id": "S9jFcfR5NEYv",
        "outputId": "a5bfa1ac-4bad-4a75-d934-e553d796c642"
      },
      "source": [
        "n_splits = 3\n",
        "skf = StratifiedKFold(n_splits=n_splits, random_state=0)\n",
        "splits = [\n",
        "    (train_inds, test_inds)\n",
        "    for train_inds, test_inds in skf.split(ratings_df, ratings_df['user_id'])\n",
        "]"
      ],
      "execution_count": null,
      "outputs": [
        {
          "output_type": "stream",
          "text": [
            "/usr/local/lib/python3.6/dist-packages/sklearn/model_selection/_split.py:296: FutureWarning: Setting a random_state has no effect since shuffle is False. This will raise an error in 0.24. You should leave random_state to its default (None), or set shuffle=True.\n",
            "  FutureWarning\n"
          ],
          "name": "stderr"
        }
      ]
    },
    {
      "cell_type": "code",
      "metadata": {
        "id": "zDNTJKfbFPk9"
      },
      "source": [
        "baseline_algo = DampedUserMovieBaselineModel(damping_factor=10)\n",
        "reg = 0.0\n",
        "models_dict = {\n",
        "    'user': KNNRecommender(mode='user', k=50, baseline_algo=baseline_algo),\n",
        "    'item': KNNRecommender(mode='item', k=20, baseline_algo=baseline_algo),\n",
        "    'als': ALSRecommender(k=50, lmbda=0.1, max_epochs=15, baseline_algo=baseline_algo, verbose=False),\n",
        "    'sgd': SGDRecommender(k=50, learning_rate=0.01, max_epochs=30, damping_factor=10,\n",
        "                          user_reg=reg, item_reg=reg, user_bias_reg=reg, item_bias_reg=reg,\n",
        "                          verbose=False)\n",
        "}"
      ],
      "execution_count": null,
      "outputs": []
    },
    {
      "cell_type": "code",
      "metadata": {
        "id": "kDyO5TYFHL_o"
      },
      "source": [
        "def get_poster_url(movieId, base_url, links_df, api_key):\n",
        "    movieId = str(int(movieId))\n",
        "    # Get IMDB movie ID\n",
        "    tmdbId = links_df.loc[movieId, 'tmdbId']\n",
        "    \n",
        "    # Query themoviedb.org API for movie poster path.\n",
        "    movie_url = 'http://api.themoviedb.org/3/movie/{:}/images'.format(tmdbId)\n",
        "    headers = {'Accept': 'application/json'}\n",
        "    payload = {'api_key': api_key} \n",
        "    response = requests.get(movie_url, params=payload, headers=headers)\n",
        "    file_path = json.loads(response.text)['posters'][0]['file_path']\n",
        "        \n",
        "    return base_url + file_path\n",
        "\n",
        "def display_posters(movieIds, base_url, links_df, api_key):\n",
        "    poster_urls = [get_poster_url(movieId, base_url, links_df, api_key) for movieId in movieIds]\n",
        "    TABLE = \"<table style='width: 100%; align: center;'><tr>{}</tr></table>\"\n",
        "    CELL = \"<td align='center'><img style='float: left; width: 120px' src={}></td>\"\n",
        "    table = TABLE.format(''.join([CELL.format(url) for url in poster_urls]))\n",
        "    display(HTML(table))\n",
        "\n",
        "def recommend(model, train_df, user, pretrained=False, k=3):\n",
        "    train_df = train_df.iloc[:, :3].copy()\n",
        "    train_df.columns = ['user', 'item', 'rating']\n",
        "    if not pretrained:\n",
        "        model.fit(train_df)\n",
        "    seen_movies = train_df[train_df['user'] == user]['item'].unique()\n",
        "    unseen_movies = list(set(train_df['item'].unique()) - set(seen_movies))\n",
        "    user_movie_df = pd.DataFrame({'user': [user]*len(unseen_movies), 'item': unseen_movies})\n",
        "    user_movie_df = user_movie_df[['user', 'item']]\n",
        "    user_movie_df['pred'] = model.predict(user_movie_df)\n",
        "    user_movie_df = user_movie_df.sort_values('pred', ascending=False)\n",
        "    movies, preds = user_movie_df[['item', 'pred']].values[:k, :].T\n",
        "    return movies, preds"
      ],
      "execution_count": null,
      "outputs": []
    },
    {
      "cell_type": "markdown",
      "metadata": {
        "id": "ZJWn8AHDOZOW"
      },
      "source": [
        "Movies this user likes"
      ]
    },
    {
      "cell_type": "code",
      "metadata": {
        "colab": {
          "base_uri": "https://localhost:8080/",
          "height": 203
        },
        "id": "7r6BgNElNSmG",
        "outputId": "c3f15be2-86fe-43a6-fd0c-9f11120c410b"
      },
      "source": [
        "user = 10\n",
        "train_inds, test_inds = splits[0]\n",
        "train_df, test_df = ratings_df.iloc[train_inds], ratings_df.iloc[test_inds]\n",
        "favorite_movies = (\n",
        "    train_df[train_df['user_id']==user]\n",
        "    .sort_values('rating', ascending=False)\n",
        "    .iloc[:5, 1]\n",
        "    .values\n",
        ")\n",
        "display_posters(favorite_movies, base_url, links_df, api_key)"
      ],
      "execution_count": null,
      "outputs": [
        {
          "output_type": "display_data",
          "data": {
            "text/html": [
              "<table style='width: 100%; align: center;'><tr><td align='center'><img style='float: left; width: 120px' src=http://image.tmdb.org/t/p/w185/nkIhoT6aLYnE5KzGZcxF2UGdo7e.jpg></td><td align='center'><img style='float: left; width: 120px' src=http://image.tmdb.org/t/p/w185/n94J8TmPQyOOir1WZHzO6QzUIE5.jpg></td><td align='center'><img style='float: left; width: 120px' src=http://image.tmdb.org/t/p/w185/e8ie1x22wFEo63LQBbpBDqIH4oY.jpg></td><td align='center'><img style='float: left; width: 120px' src=http://image.tmdb.org/t/p/w185/9i3plLl89DHMz7mahksDaAo7HIS.jpg></td><td align='center'><img style='float: left; width: 120px' src=http://image.tmdb.org/t/p/w185/siDIocmgWcLxc0nInbhnjamPplu.jpg></td></tr></table>"
            ],
            "text/plain": [
              "<IPython.core.display.HTML object>"
            ]
          },
          "metadata": {
            "tags": []
          }
        }
      ]
    },
    {
      "cell_type": "markdown",
      "metadata": {
        "id": "P2ZOVCayOadP"
      },
      "source": [
        "Recommended movies"
      ]
    },
    {
      "cell_type": "code",
      "metadata": {
        "colab": {
          "base_uri": "https://localhost:8080/",
          "height": 203
        },
        "id": "iOgGwxh1Oh_D",
        "outputId": "a72ea0b3-3324-4d44-92ac-005fe4034371"
      },
      "source": [
        "model = models_dict['als']\n",
        "movies, preds = recommend(model, train_df, user, pretrained=True, k=5)\n",
        "display_posters(movies, base_url, links_df, api_key)"
      ],
      "execution_count": null,
      "outputs": [
        {
          "output_type": "display_data",
          "data": {
            "text/html": [
              "<table style='width: 100%; align: center;'><tr><td align='center'><img style='float: left; width: 120px' src=http://image.tmdb.org/t/p/w185/q6y0Go1tsGEsmtFryDOJo3dEmqu.jpg></td><td align='center'><img style='float: left; width: 120px' src=http://image.tmdb.org/t/p/w185/p9QsNTeWLxyvixKeXDC0YU5Z7ss.jpg></td><td align='center'><img style='float: left; width: 120px' src=http://image.tmdb.org/t/p/w185/qtwipjmSypSQuSvz5BNirSxZqbg.jpg></td><td align='center'><img style='float: left; width: 120px' src=http://image.tmdb.org/t/p/w185/kvQl6sJyplWRQ0BGp0E8kBUQKO8.jpg></td><td align='center'><img style='float: left; width: 120px' src=http://image.tmdb.org/t/p/w185/qysVy8is0no4YFadX0bUB71GpVc.jpg></td></tr></table>"
            ],
            "text/plain": [
              "<IPython.core.display.HTML object>"
            ]
          },
          "metadata": {
            "tags": []
          }
        }
      ]
    },
    {
      "cell_type": "markdown",
      "metadata": {
        "id": "esRH4hrSVk92"
      },
      "source": [
        "## Non-Negative Matrix Factorization (NMF, scikit-learn package)\n",
        "\n",
        "Find two non-negative matrices (W, H) whose product approximates the non-negative matrix R.\n",
        "NOTE: since the values of matrix R MUST be all positive, we CAN'T do mean-centering normalization here (although this would improve the accuracy)."
      ]
    },
    {
      "cell_type": "code",
      "metadata": {
        "colab": {
          "base_uri": "https://localhost:8080/"
        },
        "id": "HSPgELg-yAEC",
        "outputId": "d96c994c-92b1-415f-f00c-91beb375bd68"
      },
      "source": [
        "from sklearn.decomposition import NMF\n",
        "\n",
        "nmf_model = NMF(n_components=20)     # starts with 20 latents factors\n",
        "\n",
        "# Matrix factorization               # V ~ W.H  (Find two non-negative matrices (W, H) whose product approximates the non- negative matrix X. )\n",
        "nmf_model.fit(rating_matrix)                     # R can be array-like or sparse, here it is array-like (dense)\n",
        "Theta = nmf_model.transform(rating_matrix)       # user latent factors (= W, called the features matrix)\n",
        "M = nmf_model.components_.T          # item latent factors (= H.T) (H is called the coefficient matrix)\n",
        "\n",
        "# Making the predictions\n",
        "R_pred = M.dot(Theta.T)              # See http://stackoverflow.com/questions/24739121/nonnegative-matrix-factorization-in-sklearn\n",
        "R_pred = R_pred.T                    # same dimensions as R\n",
        "\n",
        "print('Item features - M:', M.shape)\n",
        "print('User features - Theta:', Theta.shape)\n",
        "print()\n",
        "print('R ~ M * Theta.T:')\n",
        "print(R_pred.round(2))\n",
        "print(R_pred.shape)"
      ],
      "execution_count": null,
      "outputs": [
        {
          "output_type": "stream",
          "text": [
            "Item features - M: (1682, 20)\n",
            "User features - Theta: (943, 20)\n",
            "\n",
            "R ~ M * Theta.T:\n",
            "[[4.5  2.06 1.41 ... 0.   0.02 0.03]\n",
            " [2.34 0.03 0.17 ... 0.02 0.   0.  ]\n",
            " [0.19 0.02 0.1  ... 0.01 0.   0.  ]\n",
            " ...\n",
            " [1.98 0.05 0.3  ... 0.   0.   0.  ]\n",
            " [1.39 0.1  0.03 ... 0.01 0.01 0.  ]\n",
            " [1.6  2.24 1.38 ... 0.   0.03 0.02]]\n",
            "(943, 1682)\n"
          ],
          "name": "stdout"
        }
      ]
    },
    {
      "cell_type": "markdown",
      "metadata": {
        "id": "--dbQJJhYnXa"
      },
      "source": [
        "Estimating the error (RMSE) before tuning the hyperparameters"
      ]
    },
    {
      "cell_type": "code",
      "metadata": {
        "colab": {
          "base_uri": "https://localhost:8080/"
        },
        "id": "LRLt7tsSYk0X",
        "outputId": "9a74d483-7642-4029-a879-0d205c98c139"
      },
      "source": [
        "from sklearn.metrics import mean_squared_error\n",
        "\n",
        "def get_rmse(pred, actual):\n",
        "    pred = pred[actual.nonzero()].flatten()     # Ignore nonzero terms\n",
        "    actual = actual[actual.nonzero()].flatten() # Ignore nonzero terms\n",
        "    return np.sqrt(mean_squared_error(pred, actual))\n",
        "\n",
        "get_rmse(R_pred, rating_matrix)"
      ],
      "execution_count": null,
      "outputs": [
        {
          "output_type": "execute_result",
          "data": {
            "text/plain": [
              "2.2271459436219065"
            ]
          },
          "metadata": {
            "tags": []
          },
          "execution_count": 33
        }
      ]
    },
    {
      "cell_type": "markdown",
      "metadata": {
        "id": "5WQQQTy0afXc"
      },
      "source": [
        "When the predictive model is satisfying, save it to a file"
      ]
    },
    {
      "cell_type": "code",
      "metadata": {
        "id": "kdyNMi7NaaKa"
      },
      "source": [
        "import pickle\n",
        "\n",
        "with open('nnmf_sklearn.pickle', 'wb') as f:\n",
        "  pickle.dump(nmf_model, f)"
      ],
      "execution_count": null,
      "outputs": []
    },
    {
      "cell_type": "markdown",
      "metadata": {
        "id": "b6-f7yixbKmc"
      },
      "source": [
        "Item recommendation for an active user (given its rating history)"
      ]
    },
    {
      "cell_type": "code",
      "metadata": {
        "colab": {
          "base_uri": "https://localhost:8080/"
        },
        "id": "DrF1_5rIa1UM",
        "outputId": "6f44a7b4-4f20-4061-bd84-ca1f481be394"
      },
      "source": [
        "def make_recommendation_activeuser(R, prediction, user_idx, k=5):\n",
        "  '''\n",
        "  user_idx ...... select an active user\n",
        "  k  ............ number of movies to recommend\n",
        "  '''\n",
        "  rated_items_df_user = pd.DataFrame(R).iloc[user_idx, :]                 # get the list of actual ratings of user_idx (seen movies)\n",
        "  user_prediction_df_user = pd.DataFrame(prediction).iloc[user_idx,:]     # get the list of predicted ratings of user_idx (unseen movies)\n",
        "  reco_df = pd.concat([rated_items_df_user, user_prediction_df_user, item_info], axis=1)   # merge both lists with the movie's title\n",
        "  reco_df.columns = ['rating','prediction','title']\n",
        "\n",
        "  print('Preferred movies for user #', user_idx)\n",
        "  print(reco_df.sort_values(by='rating', ascending=False)[:k])             # returns the 5 seen movies with the best actual ratings\n",
        "  print('Recommended movies for user #', user_idx)\n",
        "  reco_df = reco_df[ reco_df['rating'] == 0 ]\n",
        "  print(reco_df.sort_values(by='prediction', ascending=False)[:k])      # returns the 5 unseen movies with the best predicted ratings\n",
        "  print()\n",
        "  print()\n",
        "\n",
        "make_recommendation_activeuser(rating_matrix, R_pred, user_idx=50, k=5)\n",
        "make_recommendation_activeuser(rating_matrix, R_pred, user_idx=130, k=5)"
      ],
      "execution_count": null,
      "outputs": [
        {
          "output_type": "stream",
          "text": [
            "Preferred movies for user # 50\n",
            "     rating  prediction title\n",
            "171     5.0    1.432029   NaN\n",
            "180     5.0    2.277069   NaN\n",
            "172     5.0    1.017789   NaN\n",
            "49      5.0    2.753084   NaN\n",
            "143     5.0    0.695904   NaN\n",
            "Recommended movies for user # 50\n",
            "     rating  prediction title\n",
            "55      0.0    1.527510   NaN\n",
            "173     0.0    1.494889   NaN\n",
            "256     0.0    1.303158   NaN\n",
            "97      0.0    1.295984   NaN\n",
            "11      0.0    1.275150   NaN\n",
            "\n",
            "\n",
            "Preferred movies for user # 130\n",
            "     rating  prediction title\n",
            "285     5.0    4.312692   NaN\n",
            "312     5.0    1.897457   NaN\n",
            "535     5.0    0.144333   NaN\n",
            "99      5.0    4.945202   NaN\n",
            "13      5.0    3.207845   NaN\n",
            "Recommended movies for user # 130\n",
            "     rating  prediction title\n",
            "474     0.0    2.188917   NaN\n",
            "12      0.0    2.137406   NaN\n",
            "115     0.0    2.114974   NaN\n",
            "282     0.0    2.080887   NaN\n",
            "236     0.0    1.831747   NaN\n",
            "\n",
            "\n"
          ],
          "name": "stdout"
        }
      ]
    },
    {
      "cell_type": "markdown",
      "metadata": {
        "id": "jXrlprMBchmb"
      },
      "source": [
        "Item recommendation for a new user (wih rating history)"
      ]
    },
    {
      "cell_type": "code",
      "metadata": {
        "id": "99T1r-k0bwdA"
      },
      "source": [
        "# creating a new user profile:\n",
        "my_ratings = np.zeros((1682,1), dtype=int)\n",
        "my_ratings[0] = 4 \n",
        "my_ratings[1] = 4 \n",
        "my_ratings[10] = 1 \n",
        "my_ratings[15] = 3\n",
        "my_ratings[27] = 4\n",
        "my_ratings[34] = 1\n",
        "my_ratings[49] = 1\n",
        "my_ratings[55] = 1\n",
        "my_ratings[61] = 1\n",
        "my_ratings[68] = 5\n",
        "my_ratings[70] = 4\n",
        "my_ratings[81] = 4\n",
        "my_ratings[87] = 2\n",
        "my_ratings[94] = 4\n",
        "my_ratings[120] = 2\n",
        "my_ratings[171] = 1\n",
        "my_ratings[173] = 4\n",
        "my_ratings[175] = 1\n",
        "my_ratings[182] = 1\n",
        "my_ratings[194] = 2\n",
        "my_ratings[203] = 5\n",
        "my_ratings[209] = 5\n",
        "my_ratings[221] = 1\n",
        "my_ratings[234] = 2\n",
        "my_ratings[312] = 3\n",
        "my_ratings[317] = 3\n",
        "my_ratings[322] = 3\n",
        "my_ratings[342] = 1\n",
        "my_ratings[378] = 1\n",
        "my_ratings[379] = 1\n",
        "my_ratings[392] = 3\n",
        "my_ratings[404] = 2\n",
        "my_ratings[422] = 4\n",
        "my_ratings[542] = 4\n",
        "\n",
        "for i in range(len(my_ratings)):\n",
        "  print(i, my_ratings[i], item_info.iloc[i]['title'])"
      ],
      "execution_count": null,
      "outputs": []
    },
    {
      "cell_type": "code",
      "metadata": {
        "id": "9JYRe7LwcnDc"
      },
      "source": [
        "# Adding a new user to the R matrix \n",
        "newR = np.concatenate((rating_matrix, my_ratings.T))\n",
        "\n",
        "# Recompute the Matrix factorization\n",
        "newTheta = estimator.fit_transform(newR)  \n",
        "newX = estimator.components_.T       \n",
        "\n",
        "# Making the predictions\n",
        "newR_pred = newX.dot(newTheta.T).T\n",
        "\n",
        "# clipping values                                                    \n",
        "newR_pred[newR_pred > R.max()] = R.max()           # clips ratings above 5             \n",
        "newR_pred[newR_pred < R.min() + 1] = R.min() +1    # clips ratings below 1\n",
        "\n",
        "# Making the recommendation\n",
        "make_recommendation_activeuser(newR, newR_pred, user_idx=newR.shape[0]-1, k=10)"
      ],
      "execution_count": null,
      "outputs": []
    },
    {
      "cell_type": "markdown",
      "metadata": {
        "id": "gXv7_lYgc-ZX"
      },
      "source": [
        "Item recommendation for a new user (wihout rating history)"
      ]
    },
    {
      "cell_type": "code",
      "metadata": {
        "id": "66VNbj9Sc_S1"
      },
      "source": [
        "def make_recommendation_newuser(item_sim, item_idx, k=5):\n",
        "  '''\n",
        "  item_idx ...... select an item\n",
        "  k  ............ number of movies to recommend\n",
        "  '''\n",
        "  reco_item_df = pd.DataFrame(item_sim).iloc[item_idx, :] \n",
        "  reco_item_df = pd.concat([reco_item_df, item_info], axis=1)   # merge list with the movie's title\n",
        "  reco_item_df.columns = ['similarity','title']\n",
        "  reco_item_df = reco_item_df.sort_values(by='similarity',ascending=False)\n",
        "\n",
        "  print('Recommended movies for a new user (without rating history), currently looking at movie:', reco_item_df.iloc[0]['title'])\n",
        "  print(reco_item_df[1:k+1])          # returns the 5 movies the most similar to item_idx\n",
        "  print()\n",
        "\n",
        "from sklearn.metrics.pairwise import cosine_similarity\n",
        "item_sim = cosine_similarity(M)                      # Use item features matrix to compute movie-to-movie similarity matrices\n",
        "make_recommendation_newuser(item_sim, item_idx=1, k=5)\n",
        "make_recommendation_newuser(item_sim, item_idx=20, k=5)\n",
        "make_recommendation_newuser(item_sim, item_idx=500, k=5)"
      ],
      "execution_count": null,
      "outputs": []
    },
    {
      "cell_type": "markdown",
      "metadata": {
        "id": "ui811Ev5d5OW"
      },
      "source": [
        "## Hybrid (using processed dataset)\n",
        "1. Run Content based filtering and determine the movies which we want to recommend to the user.\n",
        "2. Filter and sort the recommendations of CF using SVD predicted ratings."
      ]
    },
    {
      "cell_type": "markdown",
      "metadata": {
        "id": "Lfj4yeWseDNF"
      },
      "source": [
        "Setup"
      ]
    },
    {
      "cell_type": "code",
      "metadata": {
        "colab": {
          "base_uri": "https://localhost:8080/",
          "height": 408
        },
        "id": "4MAysKVKd5hn",
        "outputId": "655f24ee-62a2-4464-8729-2c7a9bb355d3"
      },
      "source": [
        "!git clone https://github.com/vivdalal/movie-recommender-system.git\n",
        "\n",
        "from math import sqrt\n",
        "import pandas as pd\n",
        "import numpy as np\n",
        "import seaborn as sns\n",
        "from matplotlib import pyplot as plt\n",
        "from sklearn.feature_extraction.text import TfidfVectorizer\n",
        "from sklearn.metrics.pairwise import linear_kernel\n",
        "\n",
        "# Reading ratings file\n",
        "hratings = pd.read_csv('movie-recommender-system/ratings.csv', sep=',', encoding='latin-1', usecols=['userId','movieId','rating','timestamp'])\n",
        "display(ratings.head())\n",
        "\n",
        "# Reading movies file\n",
        "hmovies = pd.read_csv('movie-recommender-system/movies.csv', sep=',', encoding='latin-1', usecols=['movieId','title','genres'])\n",
        "display(movies.head())"
      ],
      "execution_count": null,
      "outputs": [
        {
          "output_type": "stream",
          "text": [
            "fatal: destination path 'movie-recommender-system' already exists and is not an empty directory.\n"
          ],
          "name": "stdout"
        },
        {
          "output_type": "display_data",
          "data": {
            "text/html": [
              "<div>\n",
              "<style scoped>\n",
              "    .dataframe tbody tr th:only-of-type {\n",
              "        vertical-align: middle;\n",
              "    }\n",
              "\n",
              "    .dataframe tbody tr th {\n",
              "        vertical-align: top;\n",
              "    }\n",
              "\n",
              "    .dataframe thead th {\n",
              "        text-align: right;\n",
              "    }\n",
              "</style>\n",
              "<table border=\"1\" class=\"dataframe\">\n",
              "  <thead>\n",
              "    <tr style=\"text-align: right;\">\n",
              "      <th></th>\n",
              "      <th>userId</th>\n",
              "      <th>movieId</th>\n",
              "      <th>rating</th>\n",
              "      <th>timestamp</th>\n",
              "    </tr>\n",
              "  </thead>\n",
              "  <tbody>\n",
              "    <tr>\n",
              "      <th>0</th>\n",
              "      <td>1</td>\n",
              "      <td>1</td>\n",
              "      <td>4.0</td>\n",
              "      <td>964982703</td>\n",
              "    </tr>\n",
              "    <tr>\n",
              "      <th>1</th>\n",
              "      <td>1</td>\n",
              "      <td>3</td>\n",
              "      <td>4.0</td>\n",
              "      <td>964981247</td>\n",
              "    </tr>\n",
              "    <tr>\n",
              "      <th>2</th>\n",
              "      <td>1</td>\n",
              "      <td>6</td>\n",
              "      <td>4.0</td>\n",
              "      <td>964982224</td>\n",
              "    </tr>\n",
              "    <tr>\n",
              "      <th>3</th>\n",
              "      <td>1</td>\n",
              "      <td>47</td>\n",
              "      <td>5.0</td>\n",
              "      <td>964983815</td>\n",
              "    </tr>\n",
              "    <tr>\n",
              "      <th>4</th>\n",
              "      <td>1</td>\n",
              "      <td>50</td>\n",
              "      <td>5.0</td>\n",
              "      <td>964982931</td>\n",
              "    </tr>\n",
              "  </tbody>\n",
              "</table>\n",
              "</div>"
            ],
            "text/plain": [
              "   userId  movieId  rating  timestamp\n",
              "0       1        1     4.0  964982703\n",
              "1       1        3     4.0  964981247\n",
              "2       1        6     4.0  964982224\n",
              "3       1       47     5.0  964983815\n",
              "4       1       50     5.0  964982931"
            ]
          },
          "metadata": {
            "tags": []
          }
        },
        {
          "output_type": "display_data",
          "data": {
            "text/html": [
              "<div>\n",
              "<style scoped>\n",
              "    .dataframe tbody tr th:only-of-type {\n",
              "        vertical-align: middle;\n",
              "    }\n",
              "\n",
              "    .dataframe tbody tr th {\n",
              "        vertical-align: top;\n",
              "    }\n",
              "\n",
              "    .dataframe thead th {\n",
              "        text-align: right;\n",
              "    }\n",
              "</style>\n",
              "<table border=\"1\" class=\"dataframe\">\n",
              "  <thead>\n",
              "    <tr style=\"text-align: right;\">\n",
              "      <th></th>\n",
              "      <th>movieId</th>\n",
              "      <th>title</th>\n",
              "      <th>genres</th>\n",
              "    </tr>\n",
              "  </thead>\n",
              "  <tbody>\n",
              "    <tr>\n",
              "      <th>0</th>\n",
              "      <td>1</td>\n",
              "      <td>Toy Story (1995)</td>\n",
              "      <td>Adventure|Animation|Children|Comedy|Fantasy</td>\n",
              "    </tr>\n",
              "    <tr>\n",
              "      <th>1</th>\n",
              "      <td>2</td>\n",
              "      <td>Jumanji (1995)</td>\n",
              "      <td>Adventure|Children|Fantasy</td>\n",
              "    </tr>\n",
              "    <tr>\n",
              "      <th>2</th>\n",
              "      <td>3</td>\n",
              "      <td>Grumpier Old Men (1995)</td>\n",
              "      <td>Comedy|Romance</td>\n",
              "    </tr>\n",
              "    <tr>\n",
              "      <th>3</th>\n",
              "      <td>4</td>\n",
              "      <td>Waiting to Exhale (1995)</td>\n",
              "      <td>Comedy|Drama|Romance</td>\n",
              "    </tr>\n",
              "    <tr>\n",
              "      <th>4</th>\n",
              "      <td>5</td>\n",
              "      <td>Father of the Bride Part II (1995)</td>\n",
              "      <td>Comedy</td>\n",
              "    </tr>\n",
              "  </tbody>\n",
              "</table>\n",
              "</div>"
            ],
            "text/plain": [
              "   movieId  ...                                       genres\n",
              "0        1  ...  Adventure|Animation|Children|Comedy|Fantasy\n",
              "1        2  ...                   Adventure|Children|Fantasy\n",
              "2        3  ...                               Comedy|Romance\n",
              "3        4  ...                         Comedy|Drama|Romance\n",
              "4        5  ...                                       Comedy\n",
              "\n",
              "[5 rows x 3 columns]"
            ]
          },
          "metadata": {
            "tags": []
          }
        }
      ]
    },
    {
      "cell_type": "markdown",
      "metadata": {
        "id": "MDPUZS83ec3y"
      },
      "source": [
        "Content-based model"
      ]
    },
    {
      "cell_type": "code",
      "metadata": {
        "colab": {
          "base_uri": "https://localhost:8080/"
        },
        "id": "3jF0q19Jeca9",
        "outputId": "a50ef85c-156d-483c-a1b4-09d497db5d00"
      },
      "source": [
        "tfihmovies_genres = TfidfVectorizer(token_pattern = '[a-zA-Z0-9\\-]+')\n",
        "hmovies['genres'] = hmovies['genres'].replace(to_replace=\"(no genres listed)\", value=\"\")\n",
        "tfihmovies_genres_matrix = tfihmovies_genres.fit_transform(hmovies['genres'])\n",
        "cosine_sim_movies = linear_kernel(tfihmovies_genres_matrix, tfihmovies_genres_matrix)\n",
        "\n",
        "def get_recommendations_based_on_genres(movie_title, cosine_sim_movies=cosine_sim_movies):\n",
        "    \"\"\"\n",
        "    Calculates top 2 movies to recommend based on given movie titles genres. \n",
        "    :param movie_title: title of movie to be taken for base of recommendation\n",
        "    :param cosine_sim_movies: cosine similarity between movies \n",
        "    :return: Titles of movies recommended to user\n",
        "    \"\"\"\n",
        "    # Get the index of the movie that matches the title\n",
        "    idx_movie = hmovies.loc[hmovies['title'].isin([movie_title])]\n",
        "    idx_movie = idx_movie.index\n",
        "    \n",
        "    # Get the pairwsie similarity scores of all movies with that movie\n",
        "    sim_scores_movies = list(enumerate(cosine_sim_movies[idx_movie][0]))\n",
        "    \n",
        "    # Sort the movies based on the similarity scores\n",
        "    sim_scores_movies = sorted(sim_scores_movies, key=lambda x: x[1], reverse=True)\n",
        "\n",
        "    # Get the scores of the 10 most similar movies\n",
        "    sim_scores_movies = sim_scores_movies[1:3]\n",
        "    \n",
        "    # Get the movie indices\n",
        "    movie_indices = [i[0] for i in sim_scores_movies]\n",
        "    \n",
        "    # Return the top 2 most similar movies\n",
        "    return hmovies['title'].iloc[movie_indices]\n",
        "\n",
        "def get_recommendation_content_model(userId):\n",
        "    \"\"\"\n",
        "    Calculates top movies to be recommended to user based on movie user has watched.  \n",
        "    :param userId: userid of user\n",
        "    :return: Titles of movies recommended to user\n",
        "    \"\"\"\n",
        "    recommended_movie_list = []\n",
        "    movie_list = []\n",
        "    df_rating_filtered = hratings[hratings[\"userId\"]== userId]\n",
        "    for key, row in df_rating_filtered.iterrows():\n",
        "        movie_list.append((hmovies[\"title\"][row[\"movieId\"]==hmovies[\"movieId\"]]).values) \n",
        "    for index, movie in enumerate(movie_list):\n",
        "        for key, movie_recommended in get_recommendations_based_on_genres(movie[0]).iteritems():\n",
        "            recommended_movie_list.append(movie_recommended)\n",
        "\n",
        "    # removing already watched movie from recommended list    \n",
        "    for movie_title in recommended_movie_list:\n",
        "        if movie_title in movie_list:\n",
        "            recommended_movie_list.remove(movie_title)\n",
        "    \n",
        "    return set(recommended_movie_list)\n",
        "\n",
        "list(get_recommendation_content_model(1))[:10]"
      ],
      "execution_count": null,
      "outputs": [
        {
          "output_type": "execute_result",
          "data": {
            "text/plain": [
              "['Scrooged (1988)',\n",
              " 'Beat the Devil (1953)',\n",
              " 'Wiz, The (1978)',\n",
              " 'Mars Attacks! (1996)',\n",
              " 'Medallion, The (2003)',\n",
              " 'Ratatouille (2007)',\n",
              " 'Clueless (1995)',\n",
              " 'RoboCop 2 (1990)',\n",
              " 'Stargate (1994)',\n",
              " 'National Treasure (2004)']"
            ]
          },
          "metadata": {
            "tags": []
          },
          "execution_count": 76
        }
      ]
    },
    {
      "cell_type": "markdown",
      "metadata": {
        "id": "-xMn3s1rfnqp"
      },
      "source": [
        "SVD Collaborative model"
      ]
    },
    {
      "cell_type": "code",
      "metadata": {
        "colab": {
          "base_uri": "https://localhost:8080/"
        },
        "id": "aw0KPTL6ZfXy",
        "outputId": "0b39ca17-8a8e-4d1d-9445-ec469408b7c5"
      },
      "source": [
        "# !pip install -q surprise\n",
        "\n",
        "from surprise import Reader, Dataset, SVD\n",
        "from surprise.model_selection import cross_validate\n",
        "\n",
        "reader = Reader()\n",
        "data = Dataset.load_from_df(ratings_df[['user_id', 'item_id', 'rating']], reader)\n",
        "\n",
        "svd = SVD()\n",
        "cross_validate(svd, data, measures=['RMSE', 'MAE'], cv=5, verbose=True)\n",
        "\n",
        "trainset = data.build_full_trainset()\n",
        "svd.fit(trainset)"
      ],
      "execution_count": null,
      "outputs": [
        {
          "output_type": "stream",
          "text": [
            "Evaluating RMSE, MAE of algorithm SVD on 5 split(s).\n",
            "\n",
            "                  Fold 1  Fold 2  Fold 3  Fold 4  Fold 5  Mean    Std     \n",
            "RMSE (testset)    0.9328  0.9330  0.9455  0.9341  0.9322  0.9355  0.0050  \n",
            "MAE (testset)     0.7339  0.7376  0.7440  0.7374  0.7330  0.7372  0.0039  \n",
            "Fit time          5.14    5.14    5.24    5.28    5.26    5.21    0.06    \n",
            "Test time         0.16    0.27    0.16    0.27    0.16    0.20    0.05    \n"
          ],
          "name": "stdout"
        },
        {
          "output_type": "execute_result",
          "data": {
            "text/plain": [
              "<surprise.prediction_algorithms.matrix_factorization.SVD at 0x7f6f699601d0>"
            ]
          },
          "metadata": {
            "tags": []
          },
          "execution_count": 60
        }
      ]
    },
    {
      "cell_type": "markdown",
      "metadata": {
        "id": "-fnDzZuIfqf3"
      },
      "source": [
        "Hybrid model"
      ]
    },
    {
      "cell_type": "code",
      "metadata": {
        "colab": {
          "base_uri": "https://localhost:8080/",
          "height": 614
        },
        "id": "rzJFq90jd6Y2",
        "outputId": "2cbf4f3d-954b-4c3f-9607-b6abdbee3e0b"
      },
      "source": [
        "def hybrid_content_svd_model(userId):\n",
        "    recommended_movies_by_content_model = get_recommendation_content_model(userId)\n",
        "    recommended_movies_by_content_model = hmovies[hmovies.apply(lambda movie: movie[\"title\"] in recommended_movies_by_content_model, axis=1)]\n",
        "    for key, columns in recommended_movies_by_content_model.iterrows():\n",
        "        predict = svd.predict(userId, columns[\"movieId\"])\n",
        "        recommended_movies_by_content_model.loc[key, \"svd_rating\"] = predict.est\n",
        "#         if(predict.est < 2):\n",
        "#             recommended_movies_by_content_model = recommended_movies_by_content_model.drop([key])\n",
        "    return recommended_movies_by_content_model.sort_values(\"svd_rating\", ascending=False).iloc[0:11]\n",
        "        \n",
        "user_id = 50\n",
        "hybrid_content_svd_model(user_id)"
      ],
      "execution_count": null,
      "outputs": [
        {
          "output_type": "stream",
          "text": [
            "/usr/local/lib/python3.6/dist-packages/pandas/core/indexing.py:1596: SettingWithCopyWarning: \n",
            "A value is trying to be set on a copy of a slice from a DataFrame.\n",
            "Try using .loc[row_indexer,col_indexer] = value instead\n",
            "\n",
            "See the caveats in the documentation: https://pandas.pydata.org/pandas-docs/stable/user_guide/indexing.html#returning-a-view-versus-a-copy\n",
            "  self.obj[key] = _infer_fill_value(value)\n",
            "/usr/local/lib/python3.6/dist-packages/pandas/core/indexing.py:1763: SettingWithCopyWarning: \n",
            "A value is trying to be set on a copy of a slice from a DataFrame.\n",
            "Try using .loc[row_indexer,col_indexer] = value instead\n",
            "\n",
            "See the caveats in the documentation: https://pandas.pydata.org/pandas-docs/stable/user_guide/indexing.html#returning-a-view-versus-a-copy\n",
            "  isetter(loc, value)\n"
          ],
          "name": "stderr"
        },
        {
          "output_type": "execute_result",
          "data": {
            "text/html": [
              "<div>\n",
              "<style scoped>\n",
              "    .dataframe tbody tr th:only-of-type {\n",
              "        vertical-align: middle;\n",
              "    }\n",
              "\n",
              "    .dataframe tbody tr th {\n",
              "        vertical-align: top;\n",
              "    }\n",
              "\n",
              "    .dataframe thead th {\n",
              "        text-align: right;\n",
              "    }\n",
              "</style>\n",
              "<table border=\"1\" class=\"dataframe\">\n",
              "  <thead>\n",
              "    <tr style=\"text-align: right;\">\n",
              "      <th></th>\n",
              "      <th>movieId</th>\n",
              "      <th>title</th>\n",
              "      <th>genres</th>\n",
              "      <th>svd_rating</th>\n",
              "    </tr>\n",
              "  </thead>\n",
              "  <tbody>\n",
              "    <tr>\n",
              "      <th>275</th>\n",
              "      <td>316</td>\n",
              "      <td>Stargate (1994)</td>\n",
              "      <td>Action|Adventure|Sci-Fi</td>\n",
              "      <td>4.316628</td>\n",
              "    </tr>\n",
              "    <tr>\n",
              "      <th>777</th>\n",
              "      <td>1019</td>\n",
              "      <td>20,000 Leagues Under the Sea (1954)</td>\n",
              "      <td>Adventure|Drama|Sci-Fi</td>\n",
              "      <td>4.171654</td>\n",
              "    </tr>\n",
              "    <tr>\n",
              "      <th>549</th>\n",
              "      <td>653</td>\n",
              "      <td>Dragonheart (1996)</td>\n",
              "      <td>Action|Adventure|Fantasy</td>\n",
              "      <td>4.146008</td>\n",
              "    </tr>\n",
              "    <tr>\n",
              "      <th>29</th>\n",
              "      <td>30</td>\n",
              "      <td>Shanghai Triad (Yao a yao yao dao waipo qiao) ...</td>\n",
              "      <td>Crime|Drama</td>\n",
              "      <td>4.143668</td>\n",
              "    </tr>\n",
              "    <tr>\n",
              "      <th>71</th>\n",
              "      <td>79</td>\n",
              "      <td>Juror, The (1996)</td>\n",
              "      <td>Drama|Thriller</td>\n",
              "      <td>4.143321</td>\n",
              "    </tr>\n",
              "    <tr>\n",
              "      <th>416</th>\n",
              "      <td>478</td>\n",
              "      <td>Jimmy Hollywood (1994)</td>\n",
              "      <td>Comedy|Crime|Drama</td>\n",
              "      <td>4.117090</td>\n",
              "    </tr>\n",
              "    <tr>\n",
              "      <th>53</th>\n",
              "      <td>60</td>\n",
              "      <td>Indian in the Cupboard, The (1995)</td>\n",
              "      <td>Adventure|Children|Fantasy</td>\n",
              "      <td>4.101336</td>\n",
              "    </tr>\n",
              "    <tr>\n",
              "      <th>378</th>\n",
              "      <td>434</td>\n",
              "      <td>Cliffhanger (1993)</td>\n",
              "      <td>Action|Adventure|Thriller</td>\n",
              "      <td>4.097507</td>\n",
              "    </tr>\n",
              "    <tr>\n",
              "      <th>578</th>\n",
              "      <td>709</td>\n",
              "      <td>Oliver &amp; Company (1988)</td>\n",
              "      <td>Adventure|Animation|Children|Comedy|Musical</td>\n",
              "      <td>4.091108</td>\n",
              "    </tr>\n",
              "    <tr>\n",
              "      <th>10</th>\n",
              "      <td>11</td>\n",
              "      <td>American President, The (1995)</td>\n",
              "      <td>Comedy|Drama|Romance</td>\n",
              "      <td>4.068649</td>\n",
              "    </tr>\n",
              "    <tr>\n",
              "      <th>6</th>\n",
              "      <td>7</td>\n",
              "      <td>Sabrina (1995)</td>\n",
              "      <td>Comedy|Romance</td>\n",
              "      <td>4.061874</td>\n",
              "    </tr>\n",
              "  </tbody>\n",
              "</table>\n",
              "</div>"
            ],
            "text/plain": [
              "     movieId  ... svd_rating\n",
              "275      316  ...   4.316628\n",
              "777     1019  ...   4.171654\n",
              "549      653  ...   4.146008\n",
              "29        30  ...   4.143668\n",
              "71        79  ...   4.143321\n",
              "416      478  ...   4.117090\n",
              "53        60  ...   4.101336\n",
              "378      434  ...   4.097507\n",
              "578      709  ...   4.091108\n",
              "10        11  ...   4.068649\n",
              "6          7  ...   4.061874\n",
              "\n",
              "[11 rows x 4 columns]"
            ]
          },
          "metadata": {
            "tags": []
          },
          "execution_count": 81
        }
      ]
    },
    {
      "cell_type": "markdown",
      "metadata": {
        "id": "RDfrzCxHwgak"
      },
      "source": [
        "## LightFM - BPR & WARP"
      ]
    },
    {
      "cell_type": "code",
      "metadata": {
        "colab": {
          "base_uri": "https://localhost:8080/"
        },
        "id": "YhDmHzOSwjZ1",
        "outputId": "a1af880b-cb96-48eb-d60a-c6ad09bbb7f0"
      },
      "source": [
        "# !pip install -q lightfm\n",
        "\n",
        "import numpy as np\n",
        "from lightfm.datasets import fetch_movielens\n",
        "from lightfm import LightFM\n",
        "from lightfm.evaluation import precision_at_k\n",
        "from lightfm.evaluation import auc_score\n",
        "\n",
        "movielens = fetch_movielens()\n",
        "\n",
        "for key, value in movielens.items():\n",
        "    print(key, type(value), value.shape)"
      ],
      "execution_count": null,
      "outputs": [
        {
          "output_type": "stream",
          "text": [
            "train <class 'scipy.sparse.coo.coo_matrix'> (943, 1682)\n",
            "test <class 'scipy.sparse.coo.coo_matrix'> (943, 1682)\n",
            "item_features <class 'scipy.sparse.csr.csr_matrix'> (1682, 1682)\n",
            "item_feature_labels <class 'numpy.ndarray'> (1682,)\n",
            "item_labels <class 'numpy.ndarray'> (1682,)\n"
          ],
          "name": "stdout"
        }
      ]
    },
    {
      "cell_type": "code",
      "metadata": {
        "id": "aeNtLZqXwsJl"
      },
      "source": [
        "lfm_train = movielens['train']\n",
        "lfm_test = movielens['test']"
      ],
      "execution_count": null,
      "outputs": []
    },
    {
      "cell_type": "code",
      "metadata": {
        "colab": {
          "base_uri": "https://localhost:8080/"
        },
        "id": "JXT90bNJxCFg",
        "outputId": "d9304ac2-42eb-4d51-95ab-0776fd471eb0"
      },
      "source": [
        "model = LightFM(learning_rate=0.05, loss='bpr')\n",
        "model.fit(lfm_train, epochs=10)\n",
        "\n",
        "train_precision = precision_at_k(model, lfm_train, k=10).mean()\n",
        "test_precision = precision_at_k(model, lfm_test, k=10, train_interactions=lfm_train).mean()\n",
        "\n",
        "train_auc = auc_score(model, lfm_train).mean()\n",
        "test_auc = auc_score(model, lfm_test, train_interactions=lfm_train).mean()\n",
        "\n",
        "print('Precision: train %.2f, test %.2f.' % (train_precision, test_precision))\n",
        "print('AUC: train %.2f, test %.2f.' % (train_auc, test_auc))"
      ],
      "execution_count": null,
      "outputs": [
        {
          "output_type": "stream",
          "text": [
            "Precision: train 0.59, test 0.20.\n",
            "AUC: train 0.90, test 0.88.\n"
          ],
          "name": "stdout"
        }
      ]
    },
    {
      "cell_type": "markdown",
      "metadata": {
        "id": "LHnXMZzBxpq8"
      },
      "source": [
        "BPR optimises for ROC. The WARP model, on the other hand, optimises for precision@k---we should expect its performance to be better on precision."
      ]
    },
    {
      "cell_type": "code",
      "metadata": {
        "colab": {
          "base_uri": "https://localhost:8080/"
        },
        "id": "pwFB4ZBhxTZb",
        "outputId": "7d009a3c-f64e-4cbd-d67c-c96a9ba952a2"
      },
      "source": [
        "model = LightFM(learning_rate=0.05, loss='warp')\n",
        "model.fit_partial(lfm_train, epochs=10)\n",
        "\n",
        "train_precision = precision_at_k(model, lfm_train, k=10).mean()\n",
        "test_precision = precision_at_k(model, lfm_test, k=10, train_interactions=lfm_train).mean()\n",
        "\n",
        "train_auc = auc_score(model, lfm_train).mean()\n",
        "test_auc = auc_score(model, lfm_test, train_interactions=lfm_train).mean()\n",
        "\n",
        "print('Precision: train %.2f, test %.2f.' % (train_precision, test_precision))\n",
        "print('AUC: train %.2f, test %.2f.' % (train_auc, test_auc))"
      ],
      "execution_count": null,
      "outputs": [
        {
          "output_type": "stream",
          "text": [
            "Precision: train 0.60, test 0.22.\n",
            "AUC: train 0.94, test 0.93.\n"
          ],
          "name": "stdout"
        }
      ]
    },
    {
      "cell_type": "markdown",
      "metadata": {
        "id": "7xxE5JWT2Sxz"
      },
      "source": [
        "## Microsoft Library - FastAI-Collab"
      ]
    },
    {
      "cell_type": "code",
      "metadata": {
        "colab": {
          "base_uri": "https://localhost:8080/"
        },
        "id": "V11VUoTPx43F",
        "outputId": "b32ab089-620d-4108-c4ae-884a99858f76"
      },
      "source": [
        "%cd /content/4CED0278/4CED0278"
      ],
      "execution_count": null,
      "outputs": [
        {
          "output_type": "stream",
          "text": [
            "/content/4CED0278/4CED0278\n"
          ],
          "name": "stdout"
        }
      ]
    },
    {
      "cell_type": "code",
      "metadata": {
        "id": "FAeT4xuD2oBK"
      },
      "source": [
        "import os\n",
        "import sys\n",
        "import time\n",
        "import itertools\n",
        "import numpy as np\n",
        "import pandas as pd\n",
        "\n",
        "import torch, fastai\n",
        "from fastai.collab import EmbeddingDotBias, collab_learner, CollabDataBunch, load_learner\n",
        "\n",
        "from reco_utils.dataset.python_splitters import python_stratified_split\n",
        "from reco_utils.recommender.fastai.fastai_utils import cartesian_product, score\n",
        "from reco_utils.evaluation.python_evaluation import map_at_k, ndcg_at_k, precision_at_k, recall_at_k\n",
        "from reco_utils.evaluation.python_evaluation import rmse, mae, rsquared, exp_var"
      ],
      "execution_count": null,
      "outputs": []
    },
    {
      "cell_type": "code",
      "metadata": {
        "id": "ngkwTK2X2wa4"
      },
      "source": [
        "USER, ITEM, RATING, TIMESTAMP, PREDICTION, TITLE = 'UserId', 'MovieId', 'Rating', 'Timestamp', 'Prediction', 'Title'\n",
        "\n",
        "# top k items to recommend\n",
        "TOP_K = 10\n",
        "\n",
        "# select movieLens data size: 100k, 1m, 10m, or 20m\n",
        "MOVIELENS_DATA_SIZE = '100k'\n",
        "\n",
        "# model parameters\n",
        "N_FACTORS = 40\n",
        "EPOCHS = 5\n",
        "\n",
        "ratings = pd.read_csv('./data/ml-100k/ratings.csv')"
      ],
      "execution_count": null,
      "outputs": []
    },
    {
      "cell_type": "code",
      "metadata": {
        "colab": {
          "base_uri": "https://localhost:8080/",
          "height": 204
        },
        "id": "ffKKdcTo262o",
        "outputId": "9971ca96-878b-405b-bb50-d8d9cd7b953d"
      },
      "source": [
        "ratings.head()"
      ],
      "execution_count": null,
      "outputs": [
        {
          "output_type": "execute_result",
          "data": {
            "text/html": [
              "<div>\n",
              "<style scoped>\n",
              "    .dataframe tbody tr th:only-of-type {\n",
              "        vertical-align: middle;\n",
              "    }\n",
              "\n",
              "    .dataframe tbody tr th {\n",
              "        vertical-align: top;\n",
              "    }\n",
              "\n",
              "    .dataframe thead th {\n",
              "        text-align: right;\n",
              "    }\n",
              "</style>\n",
              "<table border=\"1\" class=\"dataframe\">\n",
              "  <thead>\n",
              "    <tr style=\"text-align: right;\">\n",
              "      <th></th>\n",
              "      <th>UserId</th>\n",
              "      <th>MovieId</th>\n",
              "      <th>Rating</th>\n",
              "      <th>Timestamp</th>\n",
              "    </tr>\n",
              "  </thead>\n",
              "  <tbody>\n",
              "    <tr>\n",
              "      <th>0</th>\n",
              "      <td>196</td>\n",
              "      <td>242</td>\n",
              "      <td>3.0</td>\n",
              "      <td>881250949</td>\n",
              "    </tr>\n",
              "    <tr>\n",
              "      <th>1</th>\n",
              "      <td>186</td>\n",
              "      <td>302</td>\n",
              "      <td>3.0</td>\n",
              "      <td>891717742</td>\n",
              "    </tr>\n",
              "    <tr>\n",
              "      <th>2</th>\n",
              "      <td>22</td>\n",
              "      <td>377</td>\n",
              "      <td>1.0</td>\n",
              "      <td>878887116</td>\n",
              "    </tr>\n",
              "    <tr>\n",
              "      <th>3</th>\n",
              "      <td>244</td>\n",
              "      <td>51</td>\n",
              "      <td>2.0</td>\n",
              "      <td>880606923</td>\n",
              "    </tr>\n",
              "    <tr>\n",
              "      <th>4</th>\n",
              "      <td>166</td>\n",
              "      <td>346</td>\n",
              "      <td>1.0</td>\n",
              "      <td>886397596</td>\n",
              "    </tr>\n",
              "  </tbody>\n",
              "</table>\n",
              "</div>"
            ],
            "text/plain": [
              "   UserId  MovieId  Rating  Timestamp\n",
              "0     196      242     3.0  881250949\n",
              "1     186      302     3.0  891717742\n",
              "2      22      377     1.0  878887116\n",
              "3     244       51     2.0  880606923\n",
              "4     166      346     1.0  886397596"
            ]
          },
          "metadata": {
            "tags": []
          },
          "execution_count": 4
        }
      ]
    },
    {
      "cell_type": "code",
      "metadata": {
        "id": "SoNXdKZH3X7D"
      },
      "source": [
        "# split the dataset\n",
        "train_valid_df, test_df = python_stratified_split(ratings, \n",
        "                                                  ratio=0.75, \n",
        "                                                  min_rating=5, \n",
        "                                                  filter_by=\"item\", \n",
        "                                                  col_user=USER, \n",
        "                                                  col_item=ITEM )"
      ],
      "execution_count": null,
      "outputs": []
    },
    {
      "cell_type": "code",
      "metadata": {
        "colab": {
          "base_uri": "https://localhost:8080/",
          "height": 204
        },
        "id": "P9ReMvli2yq0",
        "outputId": "a3cab628-f254-440b-d9be-97ed18d024e9"
      },
      "source": [
        "data = CollabDataBunch.from_df(train_valid_df, \n",
        "                               user_name=USER, \n",
        "                               item_name=ITEM, \n",
        "                               rating_name=RATING, \n",
        "                               valid_pct=0)\n",
        "data.show_batch()"
      ],
      "execution_count": null,
      "outputs": [
        {
          "output_type": "display_data",
          "data": {
            "text/html": [
              "<table border=\"1\" class=\"dataframe\">\n",
              "  <thead>\n",
              "    <tr style=\"text-align: right;\">\n",
              "      <th>UserId</th>\n",
              "      <th>MovieId</th>\n",
              "      <th>target</th>\n",
              "    </tr>\n",
              "  </thead>\n",
              "  <tbody>\n",
              "    <tr>\n",
              "      <td>13</td>\n",
              "      <td>588</td>\n",
              "      <td>4.0</td>\n",
              "    </tr>\n",
              "    <tr>\n",
              "      <td>279</td>\n",
              "      <td>163</td>\n",
              "      <td>5.0</td>\n",
              "    </tr>\n",
              "    <tr>\n",
              "      <td>184</td>\n",
              "      <td>44</td>\n",
              "      <td>4.0</td>\n",
              "    </tr>\n",
              "    <tr>\n",
              "      <td>250</td>\n",
              "      <td>28</td>\n",
              "      <td>4.0</td>\n",
              "    </tr>\n",
              "    <tr>\n",
              "      <td>514</td>\n",
              "      <td>70</td>\n",
              "      <td>5.0</td>\n",
              "    </tr>\n",
              "  </tbody>\n",
              "</table>"
            ],
            "text/plain": [
              "<IPython.core.display.HTML object>"
            ]
          },
          "metadata": {
            "tags": []
          }
        }
      ]
    },
    {
      "cell_type": "markdown",
      "metadata": {
        "id": "fMDV6J1M3dE8"
      },
      "source": [
        "Now we will create a `collab_learner` for the data, which by default uses \n",
        "the `EmbeddingDotBias` model. We will be using 40 latent factors. This will \n",
        "create an embedding for the users and the items that will map each of these \n",
        "to 40 floats as can be seen below. Note that the embedding parameters are not \n",
        "predefined, but are learned by the model.\n",
        "\n",
        "Although ratings can only range from 1-5, we are setting the range of possible \n",
        "ratings to a range from 0 to 5.5 -- that will allow the model to predict values \n",
        "around 1 and 5, which improves accuracy. Lastly, we set a value for weight-decay \n",
        "for regularization."
      ]
    },
    {
      "cell_type": "code",
      "metadata": {
        "colab": {
          "base_uri": "https://localhost:8080/"
        },
        "id": "NPXOpbGh3f6w",
        "outputId": "48140855-4c83-4c2c-a1df-343de4a77430"
      },
      "source": [
        "learn = collab_learner(data, n_factors=N_FACTORS, y_range=[0,5.5], wd=1e-1)\n",
        "learn.model"
      ],
      "execution_count": null,
      "outputs": [
        {
          "output_type": "execute_result",
          "data": {
            "text/plain": [
              "EmbeddingDotBias(\n",
              "  (u_weight): Embedding(944, 40)\n",
              "  (i_weight): Embedding(1350, 40)\n",
              "  (u_bias): Embedding(944, 1)\n",
              "  (i_bias): Embedding(1350, 1)\n",
              ")"
            ]
          },
          "metadata": {
            "tags": []
          },
          "execution_count": 17
        }
      ]
    },
    {
      "cell_type": "markdown",
      "metadata": {
        "id": "Zm_IF5wZ3mEA"
      },
      "source": [
        "Now train the model for 5 epochs setting the maximal learning rate. The learner will reduce the learning rate with each epoch using cosine annealing"
      ]
    },
    {
      "cell_type": "code",
      "metadata": {
        "colab": {
          "base_uri": "https://localhost:8080/",
          "height": 204
        },
        "id": "CZZSP26r3oCw",
        "outputId": "253f5c3e-57e5-4787-b5b6-3b228d34a6a0"
      },
      "source": [
        "learn.fit_one_cycle(EPOCHS, max_lr=5e-3)"
      ],
      "execution_count": null,
      "outputs": [
        {
          "output_type": "display_data",
          "data": {
            "text/html": [
              "<table border=\"1\" class=\"dataframe\">\n",
              "  <thead>\n",
              "    <tr style=\"text-align: left;\">\n",
              "      <th>epoch</th>\n",
              "      <th>train_loss</th>\n",
              "      <th>valid_loss</th>\n",
              "      <th>time</th>\n",
              "    </tr>\n",
              "  </thead>\n",
              "  <tbody>\n",
              "    <tr>\n",
              "      <td>0</td>\n",
              "      <td>0.955865</td>\n",
              "      <td>#na#</td>\n",
              "      <td>00:10</td>\n",
              "    </tr>\n",
              "    <tr>\n",
              "      <td>1</td>\n",
              "      <td>0.867613</td>\n",
              "      <td>#na#</td>\n",
              "      <td>00:10</td>\n",
              "    </tr>\n",
              "    <tr>\n",
              "      <td>2</td>\n",
              "      <td>0.784646</td>\n",
              "      <td>#na#</td>\n",
              "      <td>00:10</td>\n",
              "    </tr>\n",
              "    <tr>\n",
              "      <td>3</td>\n",
              "      <td>0.619921</td>\n",
              "      <td>#na#</td>\n",
              "      <td>00:10</td>\n",
              "    </tr>\n",
              "    <tr>\n",
              "      <td>4</td>\n",
              "      <td>0.543300</td>\n",
              "      <td>#na#</td>\n",
              "      <td>00:10</td>\n",
              "    </tr>\n",
              "  </tbody>\n",
              "</table>"
            ],
            "text/plain": [
              "<IPython.core.display.HTML object>"
            ]
          },
          "metadata": {
            "tags": []
          }
        }
      ]
    },
    {
      "cell_type": "code",
      "metadata": {
        "id": "ON9E9j1t3p9u"
      },
      "source": [
        "# save the learner\n",
        "learn.export('movielens_model.pkl')"
      ],
      "execution_count": null,
      "outputs": []
    },
    {
      "cell_type": "markdown",
      "metadata": {
        "id": "Bc36sIUH3r0s"
      },
      "source": [
        "Evaluation"
      ]
    },
    {
      "cell_type": "code",
      "metadata": {
        "id": "hiCE4tlW4lz5"
      },
      "source": [
        "# load the learner\n",
        "learner = load_learner(path=\".\", file='movielens_model.pkl')\n",
        "\n",
        "# get all users and items that the model knows\n",
        "total_users, total_items = learner.data.train_ds.x.classes.values()\n",
        "total_items = total_items[1:]\n",
        "total_users = total_users[1:]\n",
        "\n",
        "# get all users from the test set and remove any users that were now in the training set\n",
        "test_users = test_df[USER].unique()\n",
        "test_users = np.intersect1d(test_users, total_users)\n",
        "\n",
        "# build the cartesian product of test set users and all items known to the model\n",
        "users_items = cartesian_product(np.array(test_users),np.array(total_items))\n",
        "users_items = pd.DataFrame(users_items, columns=[USER,ITEM])\n",
        "\n",
        "# remove the user/items combinations that are in the training set\n",
        "# we don't want to propose a movie that the user has already watched\n",
        "training_removed = pd.merge(users_items, train_valid_df.astype(str), on=[USER, ITEM], how='left')\n",
        "training_removed = training_removed[training_removed[RATING].isna()][[USER, ITEM]]"
      ],
      "execution_count": null,
      "outputs": []
    },
    {
      "cell_type": "code",
      "metadata": {
        "id": "lOL4izg72bVP"
      },
      "source": [
        "# score the model to find the top K recommendation\n",
        "top_k_scores = score(learner, \n",
        "                     test_df=training_removed,\n",
        "                     user_col=USER, \n",
        "                     item_col=ITEM, \n",
        "                     prediction_col=PREDICTION)\n",
        "\n",
        "# MAP\n",
        "eval_map = map_at_k(test_df, top_k_scores, col_user=USER, col_item=ITEM, \n",
        "                    col_rating=RATING, col_prediction=PREDICTION, \n",
        "                    relevancy_method=\"top_k\", k=TOP_K)\n",
        "\n",
        "# NDCG\n",
        "eval_ndcg = ndcg_at_k(test_df, top_k_scores, col_user=USER, col_item=ITEM, \n",
        "                      col_rating=RATING, col_prediction=PREDICTION, \n",
        "                      relevancy_method=\"top_k\", k=TOP_K)\n",
        "\n",
        "# Precision\n",
        "eval_precision = precision_at_k(test_df, top_k_scores, col_user=USER, col_item=ITEM, \n",
        "                                col_rating=RATING, col_prediction=PREDICTION, \n",
        "                                relevancy_method=\"top_k\", k=TOP_K)\n",
        "\n",
        "# Recall\n",
        "eval_recall = recall_at_k(test_df, top_k_scores, col_user=USER, col_item=ITEM, \n",
        "                          col_rating=RATING, col_prediction=PREDICTION, \n",
        "                          relevancy_method=\"top_k\", k=TOP_K)\n",
        "\n",
        "print(\"Model:\\t\" + learn.__class__.__name__,\n",
        "      \"Top K:\\t%d\" % TOP_K,\n",
        "      \"MAP:\\t%f\" % eval_map,\n",
        "      \"NDCG:\\t%f\" % eval_ndcg,\n",
        "      \"Precision@K:\\t%f\" % eval_precision,\n",
        "      \"Recall@K:\\t%f\" % eval_recall, sep='\\n')"
      ],
      "execution_count": null,
      "outputs": []
    },
    {
      "cell_type": "code",
      "metadata": {
        "id": "Ddgrbc28308b"
      },
      "source": [
        "# calculate scores for test user-item pairs\n",
        "scores = score(learner, \n",
        "               test_df=test_df.copy(), \n",
        "               user_col=USER, \n",
        "               item_col=ITEM, \n",
        "               prediction_col=PREDICTION)\n",
        "\n",
        "# calculate some regression metrics\n",
        "eval_r2 = rsquared(test_df, scores, col_user=USER, col_item=ITEM, col_rating=RATING, col_prediction=PREDICTION)\n",
        "eval_rmse = rmse(test_df, scores, col_user=USER, col_item=ITEM, col_rating=RATING, col_prediction=PREDICTION)\n",
        "eval_mae = mae(test_df, scores, col_user=USER, col_item=ITEM, col_rating=RATING, col_prediction=PREDICTION)\n",
        "eval_exp_var = exp_var(test_df, scores, col_user=USER, col_item=ITEM, col_rating=RATING, col_prediction=PREDICTION)\n",
        "\n",
        "print(\"Model:\\t\" + learn.__class__.__name__,\n",
        "      \"RMSE:\\t%f\" % eval_rmse,\n",
        "      \"MAE:\\t%f\" % eval_mae,\n",
        "      \"Explained variance:\\t%f\" % eval_exp_var,\n",
        "      \"R squared:\\t%f\" % eval_r2, sep='\\n')"
      ],
      "execution_count": null,
      "outputs": []
    }
  ]
}