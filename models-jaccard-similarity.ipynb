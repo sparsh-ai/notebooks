{
 "cells": [
  {
   "cell_type": "code",
   "execution_count": null,
   "metadata": {},
   "outputs": [],
   "source": [
    "# default_exp models.jaccard_similarity"
   ]
  },
  {
   "cell_type": "markdown",
   "metadata": {},
   "source": [
    "# Jaccard Similarity\n",
    "> Implementation of jaccard similarity based recommender model."
   ]
  },
  {
   "cell_type": "code",
   "execution_count": null,
   "metadata": {},
   "outputs": [],
   "source": [
    "#export\n",
    "import pandas as pd\n",
    "import operator"
   ]
  },
  {
   "cell_type": "code",
   "execution_count": null,
   "metadata": {},
   "outputs": [],
   "source": [
    "#export\n",
    "class JaccardSimilarity:\n",
    "    \"\"\"Using the Jaccard Index, we can retrieve top-k similar items to a given item. \n",
    "    This provides a way to recommend items of a user which are similar to the \n",
    "    items that the user has history with.\n",
    "    \"\"\"\n",
    "    def fit(self, df, user_col='user_id', item_col='item_id'):\n",
    "        self.item_col = item_col\n",
    "        self.item_sets = dict((item, set(users)) for item, users in df.groupby(item_col)[user_col])\n",
    "\n",
    "    def _jaccard(self, item1, item2):\n",
    "        a = self.item_sets[item1]\n",
    "        b = self.item_sets[item2]\n",
    "        intersection = float(len(a.intersection(b)))\n",
    "        return intersection / (len(a) + len(b) - intersection)\n",
    "\n",
    "    def recommend(self, itemid, top_k=5):\n",
    "        jaccard_dict = {x: self._jaccard(x, itemid) for x in self.item_sets}\n",
    "        ranked_items = sorted(jaccard_dict.items(), key=operator.itemgetter(1), reverse=True)[1:top_k+1]\n",
    "        return ranked_items"
   ]
  },
  {
   "cell_type": "markdown",
   "metadata": {},
   "source": [
    "Example"
   ]
  },
  {
   "cell_type": "code",
   "execution_count": null,
   "metadata": {},
   "outputs": [],
   "source": [
    "rating_df = pd.read_csv('https://raw.githubusercontent.com/sparsh-ai/rec-data-public/master/ml-other/ml100k_ratings.csv', sep=',', header=0)"
   ]
  },
  {
   "cell_type": "code",
   "execution_count": null,
   "metadata": {},
   "outputs": [
    {
     "data": {
      "text/plain": [
       "[(165, 0.46808510638297873),\n",
       " (377, 0.42924528301886794),\n",
       " (380, 0.42857142857142855),\n",
       " (592, 0.4266666666666667),\n",
       " (316, 0.4166666666666667)]"
      ]
     },
     "execution_count": null,
     "metadata": {},
     "output_type": "execute_result"
    }
   ],
   "source": [
    "model = JaccardSimilarity()\n",
    "\n",
    "model.fit(df=rating_df, user_col='userId', item_col='movieId')\n",
    "model.recommend(itemid=10)"
   ]
  }
 ],
 "metadata": {
  "kernelspec": {
   "display_name": "Python 3",
   "name": "python3"
  }
 },
 "nbformat": 4,
 "nbformat_minor": 0
}
