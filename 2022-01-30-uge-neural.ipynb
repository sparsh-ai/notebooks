{
 "cells": [
  {
   "cell_type": "markdown",
   "metadata": {},
   "source": [
    "# Unsupervised Graph Embeddings - Neural methods"
   ]
  },
  {
   "cell_type": "markdown",
   "metadata": {},
   "source": [
    "In this notebook we will be performing unsupervised graph representation learning using Graph ConvNet as encoder.\n",
    "\n",
    "The model embeds a graph by using stacked Graph ConvNet layers"
   ]
  },
  {
   "cell_type": "code",
   "execution_count": null,
   "metadata": {},
   "outputs": [],
   "source": [
    "!pip install -q stellargraph[demos]==1.2.1"
   ]
  },
  {
   "cell_type": "code",
   "execution_count": null,
   "metadata": {},
   "outputs": [],
   "source": [
    "import os\n",
    "import numpy as np\n",
    "import pandas as pd\n",
    "import networkx as nx\n",
    "\n",
    "import stellargraph as sg\n",
    "from stellargraph.mapper import FullBatchNodeGenerator\n",
    "from stellargraph.layer import GCN\n",
    "\n",
    "import tensorflow as tf\n",
    "from tensorflow.keras import layers, optimizers, losses, metrics, Model\n",
    "from sklearn import preprocessing, model_selection\n",
    "from IPython.display import display, HTML\n",
    "from scipy.linalg import sqrtm\n",
    "import matplotlib.pyplot as plt\n",
    "from sklearn.manifold import TSNE\n",
    "\n",
    "%matplotlib inline"
   ]
  },
  {
   "cell_type": "code",
   "execution_count": null,
   "metadata": {},
   "outputs": [],
   "source": [
    "G = nx.barbell_graph(m1=10, m2=4)\n",
    "\n",
    "order = np.arange(G.number_of_nodes())\n",
    "A = nx.to_numpy_matrix(G, nodelist=order)\n",
    "I = np.eye(G.number_of_nodes())"
   ]
  },
  {
   "cell_type": "code",
   "execution_count": null,
   "metadata": {},
   "outputs": [],
   "source": [
    "np.random.seed(7)\n",
    "\n",
    "A_hat = A + np.eye(G.number_of_nodes()) # add self-connections\n",
    "\n",
    "D_hat = np.array(np.sum(A_hat, axis=0))[0]\n",
    "D_hat = np.array(np.diag(D_hat))\n",
    "D_hat = np.linalg.inv(sqrtm(D_hat))\n",
    "\n",
    "A_hat = D_hat @ A_hat @ D_hat\n",
    "\n",
    "def glorot_init(nin, nout):\n",
    "  sd = np.sqrt(6.0 / (nin + nout))\n",
    "  return np.random.uniform(-sd, sd, size=(nin, nout))\n",
    "\n",
    "class GCNLayer():\n",
    "  def __init__(self, n_inputs, n_outputs):\n",
    "      self.n_inputs = n_inputs\n",
    "      self.n_outputs = n_outputs\n",
    "      self.W = glorot_init(self.n_outputs, self.n_inputs)\n",
    "      self.activation = np.tanh\n",
    "      \n",
    "  def forward(self, A, X):\n",
    "      self._X = (A @ X).T # (N,N)*(N,n_outputs) ==> (n_outputs,N)\n",
    "      H = self.W @ self._X # (N, D)*(D, n_outputs) => (N, n_outputs)\n",
    "      H = self.activation(H)\n",
    "      return H.T # (n_outputs, N)\n",
    "\n",
    "gcn1 = GCNLayer(G.number_of_nodes(), 8)\n",
    "gcn2 = GCNLayer(8, 4)\n",
    "gcn3 = GCNLayer(4, 2)\n",
    "\n",
    "H1 = gcn1.forward(A_hat, I)\n",
    "H2 = gcn2.forward(A_hat, H1)\n",
    "H3 = gcn3.forward(A_hat, H2)\n",
    "\n",
    "embeddings = H3"
   ]
  },
  {
   "cell_type": "code",
   "execution_count": null,
   "metadata": {},
   "outputs": [],
   "source": [
    "def draw_graph(G, filename=None, node_size=50):\n",
    "  pos_nodes = nx.spring_layout(G)\n",
    "  nx.draw(G, pos_nodes, with_labels=False, node_size=node_size, edge_color='gray')\n",
    "  \n",
    "  pos_attrs = {}\n",
    "  for node, coords in pos_nodes.items():\n",
    "    pos_attrs[node] = (coords[0], coords[1] + 0.08)\n",
    "\n",
    "  plt.axis('off')\n",
    "  axis = plt.gca()\n",
    "  axis.set_xlim([1.2*x for x in axis.get_xlim()])\n",
    "  axis.set_ylim([1.2*y for y in axis.get_ylim()])\n",
    "\n",
    "embeddings = np.array(embeddings)\n",
    "draw_graph(G)"
   ]
  },
  {
   "cell_type": "code",
   "execution_count": null,
   "metadata": {},
   "outputs": [],
   "source": [
    "plt.scatter(embeddings[:, 0], embeddings[:, 1])\n",
    "plt.savefig('embedding_gcn.png',dpi=300)"
   ]
  },
  {
   "cell_type": "markdown",
   "metadata": {},
   "source": [
    "## Unsupervised GCN training using similarity graph distance"
   ]
  },
  {
   "cell_type": "markdown",
   "metadata": {},
   "source": [
    "In this demo, we will be using the PROTEINS dataset, already integrated in StellarGraph"
   ]
  },
  {
   "cell_type": "code",
   "execution_count": null,
   "metadata": {},
   "outputs": [],
   "source": [
    "dataset = sg.datasets.PROTEINS()\n",
    "display(HTML(dataset.description))\n",
    "graphs, graph_labels = dataset.load()"
   ]
  },
  {
   "cell_type": "code",
   "execution_count": null,
   "metadata": {},
   "outputs": [],
   "source": [
    "# let's print some info to better understand the dataset\n",
    "print(graphs[0].info())\n",
    "graph_labels.value_counts().to_frame()"
   ]
  },
  {
   "cell_type": "markdown",
   "metadata": {},
   "source": [
    "### Model definition\n",
    "It's now time to build-up the model. StellarGraph offers several utility function to load and process the dataset, as well as define the GNN model and train."
   ]
  },
  {
   "cell_type": "code",
   "execution_count": null,
   "metadata": {},
   "outputs": [],
   "source": [
    "generator = sg.mapper.PaddedGraphGenerator(graphs)"
   ]
  },
  {
   "cell_type": "code",
   "execution_count": null,
   "metadata": {},
   "outputs": [],
   "source": [
    "# define a GCN model containing 2 layers of size 64 and 32, respectively. \n",
    "# ReLU activation function is used to add non-linearity between layers\n",
    "gc_model = sg.layer.GCNSupervisedGraphClassification(\n",
    "    [64, 32], [\"relu\", \"relu\"], generator, pool_all_layers=True\n",
    ")"
   ]
  },
  {
   "cell_type": "code",
   "execution_count": null,
   "metadata": {},
   "outputs": [],
   "source": [
    "inp1, out1 = gc_model.in_out_tensors()\n",
    "inp2, out2 = gc_model.in_out_tensors()\n",
    "\n",
    "vec_distance = tf.norm(out1 - out2, axis=1)"
   ]
  },
  {
   "cell_type": "code",
   "execution_count": null,
   "metadata": {},
   "outputs": [],
   "source": [
    "pair_model = Model(inp1 + inp2, vec_distance)\n",
    "embedding_model = Model(inp1, out1)"
   ]
  },
  {
   "cell_type": "code",
   "execution_count": null,
   "metadata": {},
   "outputs": [],
   "source": [
    "def graph_distance(graph1, graph2):\n",
    "    spec1 = nx.laplacian_spectrum(graph1.to_networkx(feature_attr=None))\n",
    "    spec2 = nx.laplacian_spectrum(graph2.to_networkx(feature_attr=None))\n",
    "    k = min(len(spec1), len(spec2))\n",
    "    return np.linalg.norm(spec1[:k] - spec2[:k])"
   ]
  },
  {
   "cell_type": "code",
   "execution_count": null,
   "metadata": {},
   "outputs": [],
   "source": [
    "graph_idx = np.random.RandomState(0).randint(len(graphs), size=(100, 2))\n",
    "targets = [graph_distance(graphs[left], graphs[right]) for left, right in graph_idx]\n",
    "train_gen = generator.flow(graph_idx, batch_size=10, targets=targets)"
   ]
  },
  {
   "cell_type": "code",
   "execution_count": null,
   "metadata": {},
   "outputs": [],
   "source": [
    "pair_model.compile(optimizers.Adam(1e-2), loss=\"mse\")"
   ]
  },
  {
   "cell_type": "code",
   "execution_count": null,
   "metadata": {},
   "outputs": [],
   "source": [
    "history = pair_model.fit(train_gen, epochs=500, verbose=1)"
   ]
  },
  {
   "cell_type": "code",
   "execution_count": null,
   "metadata": {},
   "outputs": [],
   "source": [
    "sg.utils.plot_history(history)"
   ]
  },
  {
   "cell_type": "code",
   "execution_count": null,
   "metadata": {},
   "outputs": [],
   "source": [
    "embeddings = embedding_model.predict(generator.flow(graphs))"
   ]
  },
  {
   "cell_type": "code",
   "execution_count": null,
   "metadata": {},
   "outputs": [],
   "source": [
    "tsne = TSNE(2)\n",
    "two_d = tsne.fit_transform(embeddings)"
   ]
  },
  {
   "cell_type": "code",
   "execution_count": null,
   "metadata": {},
   "outputs": [],
   "source": [
    "plt.scatter(two_d[:, 0], two_d[:, 1], c=graph_labels.cat.codes, cmap=\"jet\", alpha=0.4)\n",
    "plt.savefig('embedding_TSNE.png',dpi=300)"
   ]
  }
 ],
 "metadata": {
  "colab": {
   "authorship_tag": "ABX9TyOTasyfxfnz7y/NlbtN37ZN",
   "collapsed_sections": [],
   "name": "rec-tut-gml-03-uge-neural-embeddings-methods.ipynb",
   "provenance": []
  },
  "kernelspec": {
   "display_name": "Python 3",
   "name": "python3"
  },
  "language_info": {
   "name": "python"
  }
 },
 "nbformat": 4,
 "nbformat_minor": 0
}
