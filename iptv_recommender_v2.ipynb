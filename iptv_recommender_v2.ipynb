{
  "nbformat": 4,
  "nbformat_minor": 0,
  "metadata": {
    "colab": {
      "name": "iptv_recommender_v2",
      "provenance": [],
      "collapsed_sections": []
    },
    "kernelspec": {
      "name": "python3",
      "display_name": "Python 3"
    },
    "language_info": {
      "name": "python"
    }
  },
  "cells": [
    {
      "cell_type": "code",
      "execution_count": null,
      "metadata": {
        "id": "4emv09uxNqev"
      },
      "outputs": [],
      "source": [
        "import pandas as pd"
      ]
    },
    {
      "cell_type": "code",
      "source": [
        "!head /content/drive/MyDrive/Final_Dataset.txt"
      ],
      "metadata": {
        "colab": {
          "base_uri": "https://localhost:8080/"
        },
        "id": "M1QXGpOHOk0p",
        "outputId": "4430ae25-a13c-4512-f12b-4d0ff4920d68"
      },
      "execution_count": null,
      "outputs": [
        {
          "output_type": "stream",
          "name": "stdout",
          "text": [
            ",date_,user_id_maped,program_name,duration_seconds,program_class,season,episode,program_desc,program_genre,series_title,hd,original_name\n",
            "1,2017-05-27,26138,100 treets,40,MOVIE,0,0,Drama Movie100 Streets,Drama,0,0,100 treets\n",
            "3,2017-05-21,7946,Moana ,17,MOVIE,0,0,Animation MovieMoana (HD),Animation,0,1,Moana\n",
            "4,2017-08-10,7418,The Mermaid Princess ,8,MOVIE,0,0,Animation MovieThe Mermaid Princess (HD),Animation,0,1,The Mermaid Princess\n",
            "5,2017-07-26,19307,The Mermaid Princess ,76,MOVIE,0,0,Animation MovieThe Mermaid Princess (HD),Animation,0,1,The Mermaid Princess\n",
            "7,2017-07-07,15860,Churchill ,87,MOVIE,0,0,Biography MovieChurchill (HD),Biography,0,1,Churchill\n",
            "8,2017-08-19,20775,Beavis And Butt-Head Do America,3,MOVIE,0,0,Animation MovieBeavis And Butt-Head Do America,Animation,0,0,Beavis And Butt-Head Do America\n",
            "9,2017-06-26,11374,The Mermaid Princess ,33577,MOVIE,0,0,Animation MovieThe Mermaid Princess (HD),Animation,0,1,The Mermaid Princess\n",
            "10,2018-03-29,6358,Coco ,14,MOVIE,0,0,Animation MovieCoco (HD),Animation,0,1,Coco\n",
            "11,2018-01-27,11660,Kidnap ,85,MOVIE,0,0,Action MovieKidnap (HD),Action,0,1,Kidnap\n"
          ]
        }
      ]
    },
    {
      "cell_type": "code",
      "source": [
        "df_raw = pd.read_csv('/content/drive/MyDrive/Final_Dataset.txt', index_col=[0])\n",
        "df_raw.head()"
      ],
      "metadata": {
        "colab": {
          "base_uri": "https://localhost:8080/",
          "height": 337
        },
        "id": "4v0iP_mIOtQJ",
        "outputId": "92556f0e-0a03-4d46-bcde-5c66ebe47744"
      },
      "execution_count": null,
      "outputs": [
        {
          "output_type": "execute_result",
          "data": {
            "text/html": [
              "\n",
              "  <div id=\"df-4450f30e-6896-433a-9855-72dc3bf3d800\">\n",
              "    <div class=\"colab-df-container\">\n",
              "      <div>\n",
              "<style scoped>\n",
              "    .dataframe tbody tr th:only-of-type {\n",
              "        vertical-align: middle;\n",
              "    }\n",
              "\n",
              "    .dataframe tbody tr th {\n",
              "        vertical-align: top;\n",
              "    }\n",
              "\n",
              "    .dataframe thead th {\n",
              "        text-align: right;\n",
              "    }\n",
              "</style>\n",
              "<table border=\"1\" class=\"dataframe\">\n",
              "  <thead>\n",
              "    <tr style=\"text-align: right;\">\n",
              "      <th></th>\n",
              "      <th>date_</th>\n",
              "      <th>user_id_maped</th>\n",
              "      <th>program_name</th>\n",
              "      <th>duration_seconds</th>\n",
              "      <th>program_class</th>\n",
              "      <th>season</th>\n",
              "      <th>episode</th>\n",
              "      <th>program_desc</th>\n",
              "      <th>program_genre</th>\n",
              "      <th>series_title</th>\n",
              "      <th>hd</th>\n",
              "      <th>original_name</th>\n",
              "    </tr>\n",
              "  </thead>\n",
              "  <tbody>\n",
              "    <tr>\n",
              "      <th>1</th>\n",
              "      <td>2017-05-27</td>\n",
              "      <td>26138</td>\n",
              "      <td>100 treets</td>\n",
              "      <td>40</td>\n",
              "      <td>MOVIE</td>\n",
              "      <td>0</td>\n",
              "      <td>0</td>\n",
              "      <td>Drama Movie100 Streets</td>\n",
              "      <td>Drama</td>\n",
              "      <td>0</td>\n",
              "      <td>0</td>\n",
              "      <td>100 treets</td>\n",
              "    </tr>\n",
              "    <tr>\n",
              "      <th>3</th>\n",
              "      <td>2017-05-21</td>\n",
              "      <td>7946</td>\n",
              "      <td>Moana</td>\n",
              "      <td>17</td>\n",
              "      <td>MOVIE</td>\n",
              "      <td>0</td>\n",
              "      <td>0</td>\n",
              "      <td>Animation MovieMoana (HD)</td>\n",
              "      <td>Animation</td>\n",
              "      <td>0</td>\n",
              "      <td>1</td>\n",
              "      <td>Moana</td>\n",
              "    </tr>\n",
              "    <tr>\n",
              "      <th>4</th>\n",
              "      <td>2017-08-10</td>\n",
              "      <td>7418</td>\n",
              "      <td>The Mermaid Princess</td>\n",
              "      <td>8</td>\n",
              "      <td>MOVIE</td>\n",
              "      <td>0</td>\n",
              "      <td>0</td>\n",
              "      <td>Animation MovieThe Mermaid Princess (HD)</td>\n",
              "      <td>Animation</td>\n",
              "      <td>0</td>\n",
              "      <td>1</td>\n",
              "      <td>The Mermaid Princess</td>\n",
              "    </tr>\n",
              "    <tr>\n",
              "      <th>5</th>\n",
              "      <td>2017-07-26</td>\n",
              "      <td>19307</td>\n",
              "      <td>The Mermaid Princess</td>\n",
              "      <td>76</td>\n",
              "      <td>MOVIE</td>\n",
              "      <td>0</td>\n",
              "      <td>0</td>\n",
              "      <td>Animation MovieThe Mermaid Princess (HD)</td>\n",
              "      <td>Animation</td>\n",
              "      <td>0</td>\n",
              "      <td>1</td>\n",
              "      <td>The Mermaid Princess</td>\n",
              "    </tr>\n",
              "    <tr>\n",
              "      <th>7</th>\n",
              "      <td>2017-07-07</td>\n",
              "      <td>15860</td>\n",
              "      <td>Churchill</td>\n",
              "      <td>87</td>\n",
              "      <td>MOVIE</td>\n",
              "      <td>0</td>\n",
              "      <td>0</td>\n",
              "      <td>Biography MovieChurchill (HD)</td>\n",
              "      <td>Biography</td>\n",
              "      <td>0</td>\n",
              "      <td>1</td>\n",
              "      <td>Churchill</td>\n",
              "    </tr>\n",
              "  </tbody>\n",
              "</table>\n",
              "</div>\n",
              "      <button class=\"colab-df-convert\" onclick=\"convertToInteractive('df-4450f30e-6896-433a-9855-72dc3bf3d800')\"\n",
              "              title=\"Convert this dataframe to an interactive table.\"\n",
              "              style=\"display:none;\">\n",
              "        \n",
              "  <svg xmlns=\"http://www.w3.org/2000/svg\" height=\"24px\"viewBox=\"0 0 24 24\"\n",
              "       width=\"24px\">\n",
              "    <path d=\"M0 0h24v24H0V0z\" fill=\"none\"/>\n",
              "    <path d=\"M18.56 5.44l.94 2.06.94-2.06 2.06-.94-2.06-.94-.94-2.06-.94 2.06-2.06.94zm-11 1L8.5 8.5l.94-2.06 2.06-.94-2.06-.94L8.5 2.5l-.94 2.06-2.06.94zm10 10l.94 2.06.94-2.06 2.06-.94-2.06-.94-.94-2.06-.94 2.06-2.06.94z\"/><path d=\"M17.41 7.96l-1.37-1.37c-.4-.4-.92-.59-1.43-.59-.52 0-1.04.2-1.43.59L10.3 9.45l-7.72 7.72c-.78.78-.78 2.05 0 2.83L4 21.41c.39.39.9.59 1.41.59.51 0 1.02-.2 1.41-.59l7.78-7.78 2.81-2.81c.8-.78.8-2.07 0-2.86zM5.41 20L4 18.59l7.72-7.72 1.47 1.35L5.41 20z\"/>\n",
              "  </svg>\n",
              "      </button>\n",
              "      \n",
              "  <style>\n",
              "    .colab-df-container {\n",
              "      display:flex;\n",
              "      flex-wrap:wrap;\n",
              "      gap: 12px;\n",
              "    }\n",
              "\n",
              "    .colab-df-convert {\n",
              "      background-color: #E8F0FE;\n",
              "      border: none;\n",
              "      border-radius: 50%;\n",
              "      cursor: pointer;\n",
              "      display: none;\n",
              "      fill: #1967D2;\n",
              "      height: 32px;\n",
              "      padding: 0 0 0 0;\n",
              "      width: 32px;\n",
              "    }\n",
              "\n",
              "    .colab-df-convert:hover {\n",
              "      background-color: #E2EBFA;\n",
              "      box-shadow: 0px 1px 2px rgba(60, 64, 67, 0.3), 0px 1px 3px 1px rgba(60, 64, 67, 0.15);\n",
              "      fill: #174EA6;\n",
              "    }\n",
              "\n",
              "    [theme=dark] .colab-df-convert {\n",
              "      background-color: #3B4455;\n",
              "      fill: #D2E3FC;\n",
              "    }\n",
              "\n",
              "    [theme=dark] .colab-df-convert:hover {\n",
              "      background-color: #434B5C;\n",
              "      box-shadow: 0px 1px 3px 1px rgba(0, 0, 0, 0.15);\n",
              "      filter: drop-shadow(0px 1px 2px rgba(0, 0, 0, 0.3));\n",
              "      fill: #FFFFFF;\n",
              "    }\n",
              "  </style>\n",
              "\n",
              "      <script>\n",
              "        const buttonEl =\n",
              "          document.querySelector('#df-4450f30e-6896-433a-9855-72dc3bf3d800 button.colab-df-convert');\n",
              "        buttonEl.style.display =\n",
              "          google.colab.kernel.accessAllowed ? 'block' : 'none';\n",
              "\n",
              "        async function convertToInteractive(key) {\n",
              "          const element = document.querySelector('#df-4450f30e-6896-433a-9855-72dc3bf3d800');\n",
              "          const dataTable =\n",
              "            await google.colab.kernel.invokeFunction('convertToInteractive',\n",
              "                                                     [key], {});\n",
              "          if (!dataTable) return;\n",
              "\n",
              "          const docLinkHtml = 'Like what you see? Visit the ' +\n",
              "            '<a target=\"_blank\" href=https://colab.research.google.com/notebooks/data_table.ipynb>data table notebook</a>'\n",
              "            + ' to learn more about interactive tables.';\n",
              "          element.innerHTML = '';\n",
              "          dataTable['output_type'] = 'display_data';\n",
              "          await google.colab.output.renderOutput(dataTable, element);\n",
              "          const docLink = document.createElement('div');\n",
              "          docLink.innerHTML = docLinkHtml;\n",
              "          element.appendChild(docLink);\n",
              "        }\n",
              "      </script>\n",
              "    </div>\n",
              "  </div>\n",
              "  "
            ],
            "text/plain": [
              "        date_  user_id_maped  ... hd         original_name\n",
              "1  2017-05-27          26138  ...  0            100 treets\n",
              "3  2017-05-21           7946  ...  1                 Moana\n",
              "4  2017-08-10           7418  ...  1  The Mermaid Princess\n",
              "5  2017-07-26          19307  ...  1  The Mermaid Princess\n",
              "7  2017-07-07          15860  ...  1             Churchill\n",
              "\n",
              "[5 rows x 12 columns]"
            ]
          },
          "metadata": {},
          "execution_count": 2
        }
      ]
    },
    {
      "cell_type": "code",
      "source": [
        "df_raw.info()"
      ],
      "metadata": {
        "id": "CwCpWkVDFnJt",
        "colab": {
          "base_uri": "https://localhost:8080/"
        },
        "outputId": "5b0f5b8e-ad71-44aa-b89e-3caefd9b56ac"
      },
      "execution_count": null,
      "outputs": [
        {
          "output_type": "stream",
          "name": "stdout",
          "text": [
            "<class 'pandas.core.frame.DataFrame'>\n",
            "Int64Index: 3598607 entries, 1 to 4278704\n",
            "Data columns (total 12 columns):\n",
            " #   Column            Dtype \n",
            "---  ------            ----- \n",
            " 0   date_             object\n",
            " 1   user_id_maped     int64 \n",
            " 2   program_name      object\n",
            " 3   duration_seconds  int64 \n",
            " 4   program_class     object\n",
            " 5   season            int64 \n",
            " 6   episode           int64 \n",
            " 7   program_desc      object\n",
            " 8   program_genre     object\n",
            " 9   series_title      int64 \n",
            " 10  hd                int64 \n",
            " 11  original_name     object\n",
            "dtypes: int64(6), object(6)\n",
            "memory usage: 356.9+ MB\n"
          ]
        }
      ]
    },
    {
      "cell_type": "code",
      "source": [
        "df_raw.program_class.value_counts()"
      ],
      "metadata": {
        "id": "VQ1vT4hXFp2x",
        "colab": {
          "base_uri": "https://localhost:8080/"
        },
        "outputId": "f63d9945-37f2-4aba-e40c-6e29c5e18b3e"
      },
      "execution_count": null,
      "outputs": [
        {
          "output_type": "execute_result",
          "data": {
            "text/plain": [
              "SERIES/EPISODES    2053655\n",
              "MOVIE              1544952\n",
              "Name: program_class, dtype: int64"
            ]
          },
          "metadata": {},
          "execution_count": 4
        }
      ]
    },
    {
      "cell_type": "code",
      "source": [
        "df = df_raw.copy()"
      ],
      "metadata": {
        "id": "G430nRYNFtks"
      },
      "execution_count": null,
      "outputs": []
    },
    {
      "cell_type": "code",
      "source": [
        "df = df[df.program_class=='MOVIE']"
      ],
      "metadata": {
        "id": "GOjtNEtcFwoU"
      },
      "execution_count": null,
      "outputs": []
    },
    {
      "cell_type": "code",
      "source": [
        "df.info()"
      ],
      "metadata": {
        "id": "qaxt1XvFUEtx",
        "colab": {
          "base_uri": "https://localhost:8080/"
        },
        "outputId": "165a853b-ad0d-47ec-ca89-d761f14e96d7"
      },
      "execution_count": null,
      "outputs": [
        {
          "output_type": "stream",
          "name": "stdout",
          "text": [
            "<class 'pandas.core.frame.DataFrame'>\n",
            "Int64Index: 1544952 entries, 1 to 4278704\n",
            "Data columns (total 12 columns):\n",
            " #   Column            Non-Null Count    Dtype \n",
            "---  ------            --------------    ----- \n",
            " 0   date_             1544952 non-null  object\n",
            " 1   user_id_maped     1544952 non-null  int64 \n",
            " 2   program_name      1544952 non-null  object\n",
            " 3   duration_seconds  1544952 non-null  int64 \n",
            " 4   program_class     1544952 non-null  object\n",
            " 5   season            1544952 non-null  int64 \n",
            " 6   episode           1544952 non-null  int64 \n",
            " 7   program_desc      1530227 non-null  object\n",
            " 8   program_genre     1544952 non-null  object\n",
            " 9   series_title      1544952 non-null  int64 \n",
            " 10  hd                1544952 non-null  int64 \n",
            " 11  original_name     1544952 non-null  object\n",
            "dtypes: int64(6), object(6)\n",
            "memory usage: 153.2+ MB\n"
          ]
        }
      ]
    },
    {
      "cell_type": "code",
      "source": [
        "df_sample = df.sample(frac=1)"
      ],
      "metadata": {
        "id": "VMquztu4O0ig"
      },
      "execution_count": null,
      "outputs": []
    },
    {
      "cell_type": "code",
      "source": [
        "df_sample.info()"
      ],
      "metadata": {
        "id": "5z6JDMsLUGLg",
        "colab": {
          "base_uri": "https://localhost:8080/"
        },
        "outputId": "243b65cf-5510-4099-cf16-7e512bbd27ff"
      },
      "execution_count": null,
      "outputs": [
        {
          "output_type": "stream",
          "name": "stdout",
          "text": [
            "<class 'pandas.core.frame.DataFrame'>\n",
            "Int64Index: 1544952 entries, 2268413 to 1968199\n",
            "Data columns (total 12 columns):\n",
            " #   Column            Non-Null Count    Dtype \n",
            "---  ------            --------------    ----- \n",
            " 0   date_             1544952 non-null  object\n",
            " 1   user_id_maped     1544952 non-null  int64 \n",
            " 2   program_name      1544952 non-null  object\n",
            " 3   duration_seconds  1544952 non-null  int64 \n",
            " 4   program_class     1544952 non-null  object\n",
            " 5   season            1544952 non-null  int64 \n",
            " 6   episode           1544952 non-null  int64 \n",
            " 7   program_desc      1530227 non-null  object\n",
            " 8   program_genre     1544952 non-null  object\n",
            " 9   series_title      1544952 non-null  int64 \n",
            " 10  hd                1544952 non-null  int64 \n",
            " 11  original_name     1544952 non-null  object\n",
            "dtypes: int64(6), object(6)\n",
            "memory usage: 153.2+ MB\n"
          ]
        }
      ]
    },
    {
      "cell_type": "code",
      "source": [
        "df_sample = df_sample[['user_id_maped', 'program_name', 'duration_seconds']]\n",
        "df_sample.columns = ['uid','sid','dur']\n",
        "df_sample.reset_index(drop=True, inplace=True)\n",
        "df_sample.head()"
      ],
      "metadata": {
        "colab": {
          "base_uri": "https://localhost:8080/",
          "height": 206
        },
        "id": "z6P9D69DGX1h",
        "outputId": "7652ea1f-7e47-4a59-c8b7-e2d07d7ed6bc"
      },
      "execution_count": null,
      "outputs": [
        {
          "output_type": "execute_result",
          "data": {
            "text/html": [
              "\n",
              "  <div id=\"df-32ce044d-3131-4ea3-8498-692593399b5e\">\n",
              "    <div class=\"colab-df-container\">\n",
              "      <div>\n",
              "<style scoped>\n",
              "    .dataframe tbody tr th:only-of-type {\n",
              "        vertical-align: middle;\n",
              "    }\n",
              "\n",
              "    .dataframe tbody tr th {\n",
              "        vertical-align: top;\n",
              "    }\n",
              "\n",
              "    .dataframe thead th {\n",
              "        text-align: right;\n",
              "    }\n",
              "</style>\n",
              "<table border=\"1\" class=\"dataframe\">\n",
              "  <thead>\n",
              "    <tr style=\"text-align: right;\">\n",
              "      <th></th>\n",
              "      <th>uid</th>\n",
              "      <th>sid</th>\n",
              "      <th>dur</th>\n",
              "    </tr>\n",
              "  </thead>\n",
              "  <tbody>\n",
              "    <tr>\n",
              "      <th>0</th>\n",
              "      <td>25960</td>\n",
              "      <td>Bean</td>\n",
              "      <td>15</td>\n",
              "    </tr>\n",
              "    <tr>\n",
              "      <th>1</th>\n",
              "      <td>13737</td>\n",
              "      <td>War for the Planet of the Apes</td>\n",
              "      <td>95</td>\n",
              "    </tr>\n",
              "    <tr>\n",
              "      <th>2</th>\n",
              "      <td>28002</td>\n",
              "      <td>Battle Los Angeles</td>\n",
              "      <td>45</td>\n",
              "    </tr>\n",
              "    <tr>\n",
              "      <th>3</th>\n",
              "      <td>1485</td>\n",
              "      <td>Geostorm</td>\n",
              "      <td>79</td>\n",
              "    </tr>\n",
              "    <tr>\n",
              "      <th>4</th>\n",
              "      <td>23162</td>\n",
              "      <td>Bad Teacher</td>\n",
              "      <td>98</td>\n",
              "    </tr>\n",
              "  </tbody>\n",
              "</table>\n",
              "</div>\n",
              "      <button class=\"colab-df-convert\" onclick=\"convertToInteractive('df-32ce044d-3131-4ea3-8498-692593399b5e')\"\n",
              "              title=\"Convert this dataframe to an interactive table.\"\n",
              "              style=\"display:none;\">\n",
              "        \n",
              "  <svg xmlns=\"http://www.w3.org/2000/svg\" height=\"24px\"viewBox=\"0 0 24 24\"\n",
              "       width=\"24px\">\n",
              "    <path d=\"M0 0h24v24H0V0z\" fill=\"none\"/>\n",
              "    <path d=\"M18.56 5.44l.94 2.06.94-2.06 2.06-.94-2.06-.94-.94-2.06-.94 2.06-2.06.94zm-11 1L8.5 8.5l.94-2.06 2.06-.94-2.06-.94L8.5 2.5l-.94 2.06-2.06.94zm10 10l.94 2.06.94-2.06 2.06-.94-2.06-.94-.94-2.06-.94 2.06-2.06.94z\"/><path d=\"M17.41 7.96l-1.37-1.37c-.4-.4-.92-.59-1.43-.59-.52 0-1.04.2-1.43.59L10.3 9.45l-7.72 7.72c-.78.78-.78 2.05 0 2.83L4 21.41c.39.39.9.59 1.41.59.51 0 1.02-.2 1.41-.59l7.78-7.78 2.81-2.81c.8-.78.8-2.07 0-2.86zM5.41 20L4 18.59l7.72-7.72 1.47 1.35L5.41 20z\"/>\n",
              "  </svg>\n",
              "      </button>\n",
              "      \n",
              "  <style>\n",
              "    .colab-df-container {\n",
              "      display:flex;\n",
              "      flex-wrap:wrap;\n",
              "      gap: 12px;\n",
              "    }\n",
              "\n",
              "    .colab-df-convert {\n",
              "      background-color: #E8F0FE;\n",
              "      border: none;\n",
              "      border-radius: 50%;\n",
              "      cursor: pointer;\n",
              "      display: none;\n",
              "      fill: #1967D2;\n",
              "      height: 32px;\n",
              "      padding: 0 0 0 0;\n",
              "      width: 32px;\n",
              "    }\n",
              "\n",
              "    .colab-df-convert:hover {\n",
              "      background-color: #E2EBFA;\n",
              "      box-shadow: 0px 1px 2px rgba(60, 64, 67, 0.3), 0px 1px 3px 1px rgba(60, 64, 67, 0.15);\n",
              "      fill: #174EA6;\n",
              "    }\n",
              "\n",
              "    [theme=dark] .colab-df-convert {\n",
              "      background-color: #3B4455;\n",
              "      fill: #D2E3FC;\n",
              "    }\n",
              "\n",
              "    [theme=dark] .colab-df-convert:hover {\n",
              "      background-color: #434B5C;\n",
              "      box-shadow: 0px 1px 3px 1px rgba(0, 0, 0, 0.15);\n",
              "      filter: drop-shadow(0px 1px 2px rgba(0, 0, 0, 0.3));\n",
              "      fill: #FFFFFF;\n",
              "    }\n",
              "  </style>\n",
              "\n",
              "      <script>\n",
              "        const buttonEl =\n",
              "          document.querySelector('#df-32ce044d-3131-4ea3-8498-692593399b5e button.colab-df-convert');\n",
              "        buttonEl.style.display =\n",
              "          google.colab.kernel.accessAllowed ? 'block' : 'none';\n",
              "\n",
              "        async function convertToInteractive(key) {\n",
              "          const element = document.querySelector('#df-32ce044d-3131-4ea3-8498-692593399b5e');\n",
              "          const dataTable =\n",
              "            await google.colab.kernel.invokeFunction('convertToInteractive',\n",
              "                                                     [key], {});\n",
              "          if (!dataTable) return;\n",
              "\n",
              "          const docLinkHtml = 'Like what you see? Visit the ' +\n",
              "            '<a target=\"_blank\" href=https://colab.research.google.com/notebooks/data_table.ipynb>data table notebook</a>'\n",
              "            + ' to learn more about interactive tables.';\n",
              "          element.innerHTML = '';\n",
              "          dataTable['output_type'] = 'display_data';\n",
              "          await google.colab.output.renderOutput(dataTable, element);\n",
              "          const docLink = document.createElement('div');\n",
              "          docLink.innerHTML = docLinkHtml;\n",
              "          element.appendChild(docLink);\n",
              "        }\n",
              "      </script>\n",
              "    </div>\n",
              "  </div>\n",
              "  "
            ],
            "text/plain": [
              "     uid                              sid  dur\n",
              "0  25960                            Bean    15\n",
              "1  13737  War for the Planet of the Apes    95\n",
              "2  28002              Battle Los Angeles    45\n",
              "3   1485                        Geostorm    79\n",
              "4  23162                      Bad Teacher   98"
            ]
          },
          "metadata": {},
          "execution_count": 10
        }
      ]
    },
    {
      "cell_type": "code",
      "source": [
        "df_sample.uid = df_sample.uid.astype('str')"
      ],
      "metadata": {
        "id": "nTmRlBrQHmks"
      },
      "execution_count": null,
      "outputs": []
    },
    {
      "cell_type": "code",
      "source": [
        "df = df_sample.copy()"
      ],
      "metadata": {
        "id": "3re6xq-JLRc5"
      },
      "execution_count": null,
      "outputs": []
    },
    {
      "cell_type": "code",
      "source": [
        "# dropping exact duplicates\n",
        "df = df.drop_duplicates()"
      ],
      "metadata": {
        "id": "M2JJh2-lKlTf"
      },
      "execution_count": null,
      "outputs": []
    },
    {
      "cell_type": "code",
      "source": [
        "df.info()"
      ],
      "metadata": {
        "colab": {
          "base_uri": "https://localhost:8080/"
        },
        "id": "54gkuK3LwOOw",
        "outputId": "1dae4a6c-408c-4332-c32d-450091fc68b7"
      },
      "execution_count": null,
      "outputs": [
        {
          "output_type": "stream",
          "name": "stdout",
          "text": [
            "<class 'pandas.core.frame.DataFrame'>\n",
            "Int64Index: 1120069 entries, 0 to 1544951\n",
            "Data columns (total 3 columns):\n",
            " #   Column  Non-Null Count    Dtype \n",
            "---  ------  --------------    ----- \n",
            " 0   uid     1120069 non-null  object\n",
            " 1   sid     1120069 non-null  object\n",
            " 2   dur     1120069 non-null  int64 \n",
            "dtypes: int64(1), object(2)\n",
            "memory usage: 34.2+ MB\n"
          ]
        }
      ]
    },
    {
      "cell_type": "code",
      "source": [
        "from sklearn import preprocessing"
      ],
      "metadata": {
        "id": "A-YZsjCBLZbd"
      },
      "execution_count": null,
      "outputs": []
    },
    {
      "cell_type": "code",
      "source": [
        "# userid normalization\n",
        "userid_encoder = preprocessing.LabelEncoder()\n",
        "df.uid = userid_encoder.fit_transform(df.uid)\n",
        "\n",
        "# itemid normalization\n",
        "itemid_encoder = preprocessing.LabelEncoder()\n",
        "df.sid = itemid_encoder.fit_transform(df.sid)"
      ],
      "metadata": {
        "id": "UFDZEPVHLTRx"
      },
      "execution_count": null,
      "outputs": []
    },
    {
      "cell_type": "code",
      "source": [
        "from scipy import stats\n",
        "import numpy as np"
      ],
      "metadata": {
        "id": "piOaXn7_L_85"
      },
      "execution_count": null,
      "outputs": []
    },
    {
      "cell_type": "code",
      "source": [
        "df = df[(np.abs(stats.zscore(df['dur'])) < 0.2)] # remove outlier\n",
        "df.info()"
      ],
      "metadata": {
        "colab": {
          "base_uri": "https://localhost:8080/"
        },
        "id": "QjyaOGLAMc-m",
        "outputId": "acc3cca9-faba-4cea-fc22-dae4ca6f22d7"
      },
      "execution_count": null,
      "outputs": [
        {
          "output_type": "stream",
          "name": "stdout",
          "text": [
            "<class 'pandas.core.frame.DataFrame'>\n",
            "Int64Index: 992227 entries, 0 to 1544951\n",
            "Data columns (total 3 columns):\n",
            " #   Column  Non-Null Count   Dtype\n",
            "---  ------  --------------   -----\n",
            " 0   uid     992227 non-null  int64\n",
            " 1   sid     992227 non-null  int64\n",
            " 2   dur     992227 non-null  int64\n",
            "dtypes: int64(3)\n",
            "memory usage: 30.3 MB\n"
          ]
        }
      ]
    },
    {
      "cell_type": "code",
      "source": [
        "import numpy as np"
      ],
      "metadata": {
        "id": "At8Rehw_PuqL"
      },
      "execution_count": null,
      "outputs": []
    },
    {
      "cell_type": "code",
      "source": [
        "from sklearn.preprocessing import MinMaxScaler\n",
        "df['dur'] = MinMaxScaler().fit_transform(np.array(df['dur']).reshape(-1,1))"
      ],
      "metadata": {
        "id": "pxEjWeGdNnhy"
      },
      "execution_count": null,
      "outputs": []
    },
    {
      "cell_type": "code",
      "source": [
        "df['dur']*=10\n",
        "df = df[df['dur']!=0]\n",
        "df.info()"
      ],
      "metadata": {
        "colab": {
          "base_uri": "https://localhost:8080/"
        },
        "id": "QutLXBr4gaP9",
        "outputId": "24e34900-65af-4ec3-fbdf-4e76eaa8f555"
      },
      "execution_count": null,
      "outputs": [
        {
          "output_type": "stream",
          "name": "stdout",
          "text": [
            "<class 'pandas.core.frame.DataFrame'>\n",
            "Int64Index: 966014 entries, 0 to 1544951\n",
            "Data columns (total 3 columns):\n",
            " #   Column  Non-Null Count   Dtype  \n",
            "---  ------  --------------   -----  \n",
            " 0   uid     966014 non-null  int64  \n",
            " 1   sid     966014 non-null  int64  \n",
            " 2   dur     966014 non-null  float64\n",
            "dtypes: float64(1), int64(2)\n",
            "memory usage: 29.5 MB\n"
          ]
        }
      ]
    },
    {
      "cell_type": "code",
      "source": [
        "df.columns = ['user_ids', 'item_ids', 'duration']"
      ],
      "metadata": {
        "id": "3EinPluXPyql"
      },
      "execution_count": null,
      "outputs": []
    },
    {
      "cell_type": "code",
      "source": [
        "# userid normalization\n",
        "userid_encoder = preprocessing.LabelEncoder()\n",
        "df.user_ids = userid_encoder.fit_transform(df.user_ids)\n",
        "\n",
        "# itemid normalization\n",
        "itemid_encoder = preprocessing.LabelEncoder()\n",
        "df.item_ids = itemid_encoder.fit_transform(df.item_ids)"
      ],
      "metadata": {
        "id": "ntnqAPzelK7v"
      },
      "execution_count": null,
      "outputs": []
    },
    {
      "cell_type": "code",
      "source": [
        "from collections import defaultdict\n",
        "import random\n",
        "\n",
        "from sklearn.neighbors import NearestNeighbors\n",
        "from sklearn.metrics import mean_squared_error\n",
        "from sklearn.impute import SimpleImputer\n",
        "\n",
        "import numpy as np\n",
        "import scipy.sparse as sp"
      ],
      "metadata": {
        "id": "fliXfQqFZ3am"
      },
      "execution_count": null,
      "outputs": []
    },
    {
      "cell_type": "code",
      "source": [
        "n_users = df.user_ids.nunique()\n",
        "n_items = df.item_ids.nunique()\n",
        "\n",
        "user_ids= df.user_ids.values\n",
        "item_ids = df.item_ids.values\n",
        "ratings = df.duration.values\n",
        "\n",
        "ratings_matrix = np.zeros((n_users, n_items))\n",
        "\n",
        "for user_id, item_id, rating in zip(user_ids, item_ids, ratings):\n",
        "    ratings_matrix[user_id, item_id] = rating"
      ],
      "metadata": {
        "id": "O11lXCZlaMdj"
      },
      "execution_count": null,
      "outputs": []
    },
    {
      "cell_type": "code",
      "source": [
        "ratings_matrix.shape"
      ],
      "metadata": {
        "colab": {
          "base_uri": "https://localhost:8080/"
        },
        "id": "xD8NGy2PcURu",
        "outputId": "ff403ad2-c875-47a6-d812-91bb6a3a0bfb"
      },
      "execution_count": null,
      "outputs": [
        {
          "output_type": "execute_result",
          "data": {
            "text/plain": [
              "(28509, 1771)"
            ]
          },
          "metadata": {},
          "execution_count": 29
        }
      ]
    },
    {
      "cell_type": "code",
      "source": [
        "n_training_users = int(0.8 * n_users)\n",
        "\n",
        "# split test / train\n",
        "train_ids = random.sample(range(n_users),\n",
        "                            n_training_users)\n",
        "test_ids = set(range(n_users)) - set(train_ids)\n",
        "test_ids = list(test_ids)\n",
        "n_test_users = len(test_ids)\n",
        "\n",
        "training_matrix = ratings_matrix[train_ids, :]\n",
        "testing_matrix = ratings_matrix[test_ids, :]\n",
        "true_ratings = testing_matrix.copy()\n",
        "\n",
        "# impute unknown ratings\n",
        "imputer = SimpleImputer(missing_values=0)\n",
        "training_imputed_matrix = imputer.fit_transform(training_matrix)\n",
        "testing_imputed_matrix = imputer.transform(testing_matrix)\n",
        "\n",
        "# imputing culls columns with zero values so we need\n",
        "# to chop down the original matrices\n",
        "selected_columns = []\n",
        "for item_id in range(n_items):\n",
        "    if not np.isnan(imputer.statistics_[item_id]):\n",
        "        selected_columns.append(item_id)\n",
        "        \n",
        "training_matrix = training_matrix[:, selected_columns]\n",
        "testing_matrix = testing_matrix[:, selected_columns]\n",
        "true_ratings = true_ratings[:, selected_columns]\n",
        "\n",
        "n_remaining_items = training_matrix.shape[1]\n",
        "\n",
        "# perform predictions\n",
        "knn = NearestNeighbors()\n",
        "knn.fit(training_imputed_matrix)\n",
        "\n",
        "# returns n_test_users x k matrix\n",
        "neighbor_indices = knn.kneighbors(testing_imputed_matrix,\n",
        "                                    n_neighbors=10,\n",
        "                                    return_distance=False)\n",
        "\n",
        "# compute average ratings for each user\n",
        "predicted_ratings = np.zeros((n_test_users,\n",
        "                                n_remaining_items))\n",
        "\n",
        "for user_id in range(n_test_users):\n",
        "    neighbors = neighbor_indices[user_id, :]\n",
        "    predicted_ratings[user_id, :] = np.average(training_imputed_matrix[neighbors, :], axis=0)\n",
        "\n",
        "# compute RMSE only for items that have been rated\n",
        "squared_error = 0.0\n",
        "n = 0\n",
        "for user_id in range(n_test_users):\n",
        "    nonzero_ratings = []\n",
        "    for item_id in range(n_remaining_items):\n",
        "        if true_ratings[user_id, item_id] > 0.0:\n",
        "            nonzero_ratings.append(item_id)\n",
        "\n",
        "    squared_error += np.sum((true_ratings[user_id, nonzero_ratings] - predicted_ratings[user_id, nonzero_ratings]) ** 2)\n",
        "    n += len(nonzero_ratings)\n",
        "\n",
        "rmse = np.sqrt(squared_error / n)\n",
        "\n",
        "print(\"Root Mean-Squared Error:{}\".format(rmse))"
      ],
      "metadata": {
        "colab": {
          "base_uri": "https://localhost:8080/"
        },
        "id": "fw3_veoWY_V4",
        "outputId": "38947fb6-9b25-4aba-a46a-46f4e1ebda43"
      },
      "execution_count": null,
      "outputs": [
        {
          "output_type": "stream",
          "name": "stdout",
          "text": [
            "Root Mean-Squared Error:0.9480460788700799\n"
          ]
        }
      ]
    },
    {
      "cell_type": "code",
      "source": [
        "from sklearn import model_selection\n",
        "\n",
        "train_data, test_data = model_selection.train_test_split(df, test_size=0.20)"
      ],
      "metadata": {
        "id": "YtaVazs8bJv-"
      },
      "execution_count": null,
      "outputs": []
    },
    {
      "cell_type": "code",
      "source": [
        "!pip install surprise"
      ],
      "metadata": {
        "id": "7LjYRMsTcBrd"
      },
      "execution_count": null,
      "outputs": []
    },
    {
      "cell_type": "code",
      "source": [
        "from surprise import Reader\n",
        "from surprise import Dataset\n",
        "from surprise.model_selection import cross_validate\n",
        "from surprise import NormalPredictor\n",
        "from surprise import KNNBasic\n",
        "from surprise import KNNWithMeans\n",
        "from surprise import KNNWithZScore\n",
        "from surprise import KNNBaseline\n",
        "from surprise import SVD\n",
        "from surprise import BaselineOnly\n",
        "from surprise import SVDpp\n",
        "from surprise import NMF\n",
        "from surprise import SlopeOne\n",
        "from surprise import CoClustering\n",
        "from surprise.accuracy import rmse\n",
        "from surprise import accuracy\n",
        "from surprise.model_selection import train_test_split, cross_validate"
      ],
      "metadata": {
        "id": "i_40xgNgciwJ"
      },
      "execution_count": null,
      "outputs": []
    },
    {
      "cell_type": "code",
      "source": [
        "min_item_ratings = 50\n",
        "filter_items = df['item_ids'].value_counts() > min_item_ratings\n",
        "filter_items = filter_items[filter_items].index.tolist()\n",
        "\n",
        "min_user_ratings = 50\n",
        "filter_users = df['user_ids'].value_counts() > min_user_ratings\n",
        "filter_users = filter_users[filter_users].index.tolist()\n",
        "\n",
        "df_new = df[(df['item_ids'].isin(filter_items)) & (df['user_ids'].isin(filter_users))]\n",
        "print('The original data frame shape:\\t{}'.format(df.shape))\n",
        "print('The new data frame shape:\\t{}'.format(df_new.shape))"
      ],
      "metadata": {
        "colab": {
          "base_uri": "https://localhost:8080/"
        },
        "id": "SLJYR43Cdfj2",
        "outputId": "d2ceaa7a-a690-4d2c-d545-6aa330ca1b8b"
      },
      "execution_count": null,
      "outputs": [
        {
          "output_type": "stream",
          "name": "stdout",
          "text": [
            "The original data frame shape:\t(966014, 3)\n",
            "The new data frame shape:\t(711511, 3)\n"
          ]
        }
      ]
    },
    {
      "cell_type": "code",
      "source": [
        "# First need to create a 'Reader' object to set the scale/limit of the ratings field\n",
        "reader = Reader(rating_scale=(0, 10))\n",
        "\n",
        "# Load the data into a 'Dataset' object directly from the pandas df.\n",
        "# Note: The fields must be in the order: user, item, rating\n",
        "data = Dataset.load_from_df(df_new, reader)"
      ],
      "metadata": {
        "id": "yuyoNBv0cj6a"
      },
      "execution_count": null,
      "outputs": []
    },
    {
      "cell_type": "code",
      "source": [
        "# Load SVD algorithm\n",
        "model = SVD()\n",
        "\n",
        "# Train on books dataset\n",
        "%time cross_validate(model, data, measures=['RMSE'], cv=5, verbose=True)"
      ],
      "metadata": {
        "colab": {
          "base_uri": "https://localhost:8080/"
        },
        "id": "NRvzY1Cic4Qa",
        "outputId": "d0b4e7e8-c8d8-46e7-b092-8dacf1b547cc"
      },
      "execution_count": null,
      "outputs": [
        {
          "output_type": "stream",
          "name": "stdout",
          "text": [
            "Evaluating RMSE of algorithm SVD on 5 split(s).\n",
            "\n",
            "                  Fold 1  Fold 2  Fold 3  Fold 4  Fold 5  Mean    Std     \n",
            "RMSE (testset)    1.4572  1.4633  1.4572  1.4572  1.4606  1.4591  0.0025  \n",
            "Fit time          53.90   37.58   38.76   37.73   37.65   41.13   6.40    \n",
            "Test time         2.13    1.78    1.72    2.11    1.73    1.89    0.19    \n",
            "CPU times: user 3min 34s, sys: 1.68 s, total: 3min 36s\n",
            "Wall time: 3min 44s\n"
          ]
        },
        {
          "output_type": "execute_result",
          "data": {
            "text/plain": [
              "{'fit_time': (53.90437126159668,\n",
              "  37.58354115486145,\n",
              "  38.7568359375,\n",
              "  37.72971725463867,\n",
              "  37.65288710594177),\n",
              " 'test_rmse': array([1.45719028, 1.46325527, 1.45721055, 1.45716736, 1.46057686]),\n",
              " 'test_time': (2.1334221363067627,\n",
              "  1.7822003364562988,\n",
              "  1.7158472537994385,\n",
              "  2.1105844974517822,\n",
              "  1.7269630432128906)}"
            ]
          },
          "metadata": {},
          "execution_count": 39
        }
      ]
    },
    {
      "cell_type": "code",
      "source": [
        "# set test set to 20%.\n",
        "trainset, testset = train_test_split(data, test_size=0.2)\n",
        "\n",
        "# Instantiate the SVD model.\n",
        "model = SVD()\n",
        "\n",
        "# Train the algorithm on the training set, and predict ratings for the test set\n",
        "model.fit(trainset)\n",
        "predictions = model.test(testset)\n",
        "\n",
        "# Then compute RMSE\n",
        "accuracy.rmse(predictions)"
      ],
      "metadata": {
        "colab": {
          "base_uri": "https://localhost:8080/"
        },
        "id": "6TKPcFVJc4dq",
        "outputId": "fecc7135-923c-4ae1-b069-c0c78a55649a"
      },
      "execution_count": null,
      "outputs": [
        {
          "output_type": "stream",
          "name": "stdout",
          "text": [
            "RMSE: 1.4647\n"
          ]
        },
        {
          "output_type": "execute_result",
          "data": {
            "text/plain": [
              "1.464705821290688"
            ]
          },
          "metadata": {},
          "execution_count": 40
        }
      ]
    },
    {
      "cell_type": "code",
      "source": [
        "benchmark = []\n",
        "# Iterate over all algorithms\n",
        "for algorithm in [SVD(), SVDpp(), SlopeOne(), NMF(), NormalPredictor(), KNNBaseline(), KNNBasic(), KNNWithMeans(), KNNWithZScore(), BaselineOnly(), CoClustering()]:\n",
        "    # Perform cross validation\n",
        "    results = cross_validate(algorithm, data, measures=['RMSE'], cv=3, verbose=False)\n",
        "    \n",
        "    # Get results & append algorithm name\n",
        "    tmp = pd.DataFrame.from_dict(results).mean(axis=0)\n",
        "    tmp = tmp.append(pd.Series([str(algorithm).split(' ')[0].split('.')[-1]], index=['Algorithm']))\n",
        "    benchmark.append(tmp)"
      ],
      "metadata": {
        "colab": {
          "base_uri": "https://localhost:8080/"
        },
        "id": "GPWQ0FQJc9Ii",
        "outputId": "c3d1759b-a028-439b-a102-b91a933c305a"
      },
      "execution_count": null,
      "outputs": [
        {
          "output_type": "stream",
          "name": "stdout",
          "text": [
            "Estimating biases using als...\n",
            "Computing the msd similarity matrix...\n",
            "Done computing similarity matrix.\n",
            "Estimating biases using als...\n",
            "Computing the msd similarity matrix...\n",
            "Done computing similarity matrix.\n",
            "Estimating biases using als...\n",
            "Computing the msd similarity matrix...\n",
            "Done computing similarity matrix.\n",
            "Computing the msd similarity matrix...\n",
            "Done computing similarity matrix.\n",
            "Computing the msd similarity matrix...\n",
            "Done computing similarity matrix.\n",
            "Computing the msd similarity matrix...\n",
            "Done computing similarity matrix.\n",
            "Computing the msd similarity matrix...\n",
            "Done computing similarity matrix.\n",
            "Computing the msd similarity matrix...\n",
            "Done computing similarity matrix.\n",
            "Computing the msd similarity matrix...\n",
            "Done computing similarity matrix.\n",
            "Computing the msd similarity matrix...\n",
            "Done computing similarity matrix.\n",
            "Computing the msd similarity matrix...\n",
            "Done computing similarity matrix.\n",
            "Computing the msd similarity matrix...\n",
            "Done computing similarity matrix.\n",
            "Estimating biases using als...\n",
            "Estimating biases using als...\n",
            "Estimating biases using als...\n"
          ]
        }
      ]
    },
    {
      "cell_type": "code",
      "source": [
        "surprise_results = pd.DataFrame(benchmark).set_index('Algorithm').sort_values('test_rmse')\n",
        "surprise_results"
      ],
      "metadata": {
        "colab": {
          "base_uri": "https://localhost:8080/"
        },
        "id": "cIEdZw-JeaId",
        "outputId": "aa01cf2f-a8ce-4956-e148-df4a82bf2f67"
      },
      "execution_count": null,
      "outputs": [
        {
          "output_type": "execute_result",
          "data": {
            "text/html": [
              "\n",
              "  <div id=\"df-57f62561-114b-42d8-b1dd-04909c1cb976\">\n",
              "    <div class=\"colab-df-container\">\n",
              "      <div>\n",
              "<style scoped>\n",
              "    .dataframe tbody tr th:only-of-type {\n",
              "        vertical-align: middle;\n",
              "    }\n",
              "\n",
              "    .dataframe tbody tr th {\n",
              "        vertical-align: top;\n",
              "    }\n",
              "\n",
              "    .dataframe thead th {\n",
              "        text-align: right;\n",
              "    }\n",
              "</style>\n",
              "<table border=\"1\" class=\"dataframe\">\n",
              "  <thead>\n",
              "    <tr style=\"text-align: right;\">\n",
              "      <th></th>\n",
              "      <th>test_rmse</th>\n",
              "      <th>fit_time</th>\n",
              "      <th>test_time</th>\n",
              "    </tr>\n",
              "    <tr>\n",
              "      <th>Algorithm</th>\n",
              "      <th></th>\n",
              "      <th></th>\n",
              "      <th></th>\n",
              "    </tr>\n",
              "  </thead>\n",
              "  <tbody>\n",
              "    <tr>\n",
              "      <th>SlopeOne</th>\n",
              "      <td>1.405546</td>\n",
              "      <td>6.241969</td>\n",
              "      <td>48.725492</td>\n",
              "    </tr>\n",
              "    <tr>\n",
              "      <th>BaselineOnly</th>\n",
              "      <td>1.408537</td>\n",
              "      <td>4.109885</td>\n",
              "      <td>2.854497</td>\n",
              "    </tr>\n",
              "    <tr>\n",
              "      <th>KNNBaseline</th>\n",
              "      <td>1.424963</td>\n",
              "      <td>56.360742</td>\n",
              "      <td>331.235302</td>\n",
              "    </tr>\n",
              "    <tr>\n",
              "      <th>KNNWithMeans</th>\n",
              "      <td>1.429000</td>\n",
              "      <td>52.608553</td>\n",
              "      <td>320.370824</td>\n",
              "    </tr>\n",
              "    <tr>\n",
              "      <th>NMF</th>\n",
              "      <td>1.430485</td>\n",
              "      <td>36.635569</td>\n",
              "      <td>3.124747</td>\n",
              "    </tr>\n",
              "    <tr>\n",
              "      <th>CoClustering</th>\n",
              "      <td>1.433325</td>\n",
              "      <td>17.599813</td>\n",
              "      <td>3.277632</td>\n",
              "    </tr>\n",
              "    <tr>\n",
              "      <th>SVDpp</th>\n",
              "      <td>1.445634</td>\n",
              "      <td>1254.168532</td>\n",
              "      <td>70.228887</td>\n",
              "    </tr>\n",
              "    <tr>\n",
              "      <th>KNNWithZScore</th>\n",
              "      <td>1.450774</td>\n",
              "      <td>53.800742</td>\n",
              "      <td>326.792225</td>\n",
              "    </tr>\n",
              "    <tr>\n",
              "      <th>KNNBasic</th>\n",
              "      <td>1.452617</td>\n",
              "      <td>54.942405</td>\n",
              "      <td>325.768829</td>\n",
              "    </tr>\n",
              "    <tr>\n",
              "      <th>SVD</th>\n",
              "      <td>1.470943</td>\n",
              "      <td>31.046602</td>\n",
              "      <td>3.048383</td>\n",
              "    </tr>\n",
              "    <tr>\n",
              "      <th>NormalPredictor</th>\n",
              "      <td>1.865067</td>\n",
              "      <td>1.205629</td>\n",
              "      <td>2.968925</td>\n",
              "    </tr>\n",
              "  </tbody>\n",
              "</table>\n",
              "</div>\n",
              "      <button class=\"colab-df-convert\" onclick=\"convertToInteractive('df-57f62561-114b-42d8-b1dd-04909c1cb976')\"\n",
              "              title=\"Convert this dataframe to an interactive table.\"\n",
              "              style=\"display:none;\">\n",
              "        \n",
              "  <svg xmlns=\"http://www.w3.org/2000/svg\" height=\"24px\"viewBox=\"0 0 24 24\"\n",
              "       width=\"24px\">\n",
              "    <path d=\"M0 0h24v24H0V0z\" fill=\"none\"/>\n",
              "    <path d=\"M18.56 5.44l.94 2.06.94-2.06 2.06-.94-2.06-.94-.94-2.06-.94 2.06-2.06.94zm-11 1L8.5 8.5l.94-2.06 2.06-.94-2.06-.94L8.5 2.5l-.94 2.06-2.06.94zm10 10l.94 2.06.94-2.06 2.06-.94-2.06-.94-.94-2.06-.94 2.06-2.06.94z\"/><path d=\"M17.41 7.96l-1.37-1.37c-.4-.4-.92-.59-1.43-.59-.52 0-1.04.2-1.43.59L10.3 9.45l-7.72 7.72c-.78.78-.78 2.05 0 2.83L4 21.41c.39.39.9.59 1.41.59.51 0 1.02-.2 1.41-.59l7.78-7.78 2.81-2.81c.8-.78.8-2.07 0-2.86zM5.41 20L4 18.59l7.72-7.72 1.47 1.35L5.41 20z\"/>\n",
              "  </svg>\n",
              "      </button>\n",
              "      \n",
              "  <style>\n",
              "    .colab-df-container {\n",
              "      display:flex;\n",
              "      flex-wrap:wrap;\n",
              "      gap: 12px;\n",
              "    }\n",
              "\n",
              "    .colab-df-convert {\n",
              "      background-color: #E8F0FE;\n",
              "      border: none;\n",
              "      border-radius: 50%;\n",
              "      cursor: pointer;\n",
              "      display: none;\n",
              "      fill: #1967D2;\n",
              "      height: 32px;\n",
              "      padding: 0 0 0 0;\n",
              "      width: 32px;\n",
              "    }\n",
              "\n",
              "    .colab-df-convert:hover {\n",
              "      background-color: #E2EBFA;\n",
              "      box-shadow: 0px 1px 2px rgba(60, 64, 67, 0.3), 0px 1px 3px 1px rgba(60, 64, 67, 0.15);\n",
              "      fill: #174EA6;\n",
              "    }\n",
              "\n",
              "    [theme=dark] .colab-df-convert {\n",
              "      background-color: #3B4455;\n",
              "      fill: #D2E3FC;\n",
              "    }\n",
              "\n",
              "    [theme=dark] .colab-df-convert:hover {\n",
              "      background-color: #434B5C;\n",
              "      box-shadow: 0px 1px 3px 1px rgba(0, 0, 0, 0.15);\n",
              "      filter: drop-shadow(0px 1px 2px rgba(0, 0, 0, 0.3));\n",
              "      fill: #FFFFFF;\n",
              "    }\n",
              "  </style>\n",
              "\n",
              "      <script>\n",
              "        const buttonEl =\n",
              "          document.querySelector('#df-57f62561-114b-42d8-b1dd-04909c1cb976 button.colab-df-convert');\n",
              "        buttonEl.style.display =\n",
              "          google.colab.kernel.accessAllowed ? 'block' : 'none';\n",
              "\n",
              "        async function convertToInteractive(key) {\n",
              "          const element = document.querySelector('#df-57f62561-114b-42d8-b1dd-04909c1cb976');\n",
              "          const dataTable =\n",
              "            await google.colab.kernel.invokeFunction('convertToInteractive',\n",
              "                                                     [key], {});\n",
              "          if (!dataTable) return;\n",
              "\n",
              "          const docLinkHtml = 'Like what you see? Visit the ' +\n",
              "            '<a target=\"_blank\" href=https://colab.research.google.com/notebooks/data_table.ipynb>data table notebook</a>'\n",
              "            + ' to learn more about interactive tables.';\n",
              "          element.innerHTML = '';\n",
              "          dataTable['output_type'] = 'display_data';\n",
              "          await google.colab.output.renderOutput(dataTable, element);\n",
              "          const docLink = document.createElement('div');\n",
              "          docLink.innerHTML = docLinkHtml;\n",
              "          element.appendChild(docLink);\n",
              "        }\n",
              "      </script>\n",
              "    </div>\n",
              "  </div>\n",
              "  "
            ],
            "text/plain": [
              "                 test_rmse     fit_time   test_time\n",
              "Algorithm                                          \n",
              "SlopeOne          1.405546     6.241969   48.725492\n",
              "BaselineOnly      1.408537     4.109885    2.854497\n",
              "KNNBaseline       1.424963    56.360742  331.235302\n",
              "KNNWithMeans      1.429000    52.608553  320.370824\n",
              "NMF               1.430485    36.635569    3.124747\n",
              "CoClustering      1.433325    17.599813    3.277632\n",
              "SVDpp             1.445634  1254.168532   70.228887\n",
              "KNNWithZScore     1.450774    53.800742  326.792225\n",
              "KNNBasic          1.452617    54.942405  325.768829\n",
              "SVD               1.470943    31.046602    3.048383\n",
              "NormalPredictor   1.865067     1.205629    2.968925"
            ]
          },
          "metadata": {},
          "execution_count": 42
        }
      ]
    },
    {
      "cell_type": "code",
      "source": [
        "print('Using ALS')\n",
        "bsl_options = {'method': 'als',\n",
        "               'n_epochs': 5,\n",
        "               'reg_u': 12,\n",
        "               'reg_i': 5\n",
        "               }\n",
        "algo = BaselineOnly(bsl_options=bsl_options)\n",
        "cross_validate(algo, data, measures=['RMSE'], cv=3, verbose=False)\n",
        "\n",
        "trainset, testset = train_test_split(data, test_size=0.25)\n",
        "algo = BaselineOnly(bsl_options=bsl_options)\n",
        "predictions = algo.fit(trainset).test(testset)\n",
        "accuracy.rmse(predictions)\n",
        "\n",
        "# dump.dump('./dump_file', predictions, algo)\n",
        "# predictions, algo = dump.load('./dump_file')\n",
        "trainset = algo.trainset\n",
        "print(algo.__class__.__name__)"
      ],
      "metadata": {
        "colab": {
          "base_uri": "https://localhost:8080/"
        },
        "id": "W0avUUCLeS-k",
        "outputId": "2e02903a-1871-4a5d-e723-1828c5c0a727"
      },
      "execution_count": null,
      "outputs": [
        {
          "output_type": "stream",
          "name": "stdout",
          "text": [
            "Using ALS\n",
            "Estimating biases using als...\n",
            "Estimating biases using als...\n",
            "Estimating biases using als...\n",
            "Estimating biases using als...\n",
            "RMSE: 1.4010\n",
            "BaselineOnly\n"
          ]
        }
      ]
    },
    {
      "cell_type": "code",
      "source": [
        "def get_Iu(uid):\n",
        "    \"\"\" return the number of items rated by given user\n",
        "    args: \n",
        "      uid: the id of the user\n",
        "    returns: \n",
        "      the number of items rated by the user\n",
        "    \"\"\"\n",
        "    try:\n",
        "        return len(trainset.ur[trainset.to_inner_uid(uid)])\n",
        "    except ValueError: # user was not part of the trainset\n",
        "        return 0"
      ],
      "metadata": {
        "id": "Xibb_dKqeJ-e"
      },
      "execution_count": null,
      "outputs": []
    },
    {
      "cell_type": "code",
      "source": [
        "def get_Ui(iid):\n",
        "    \"\"\" return number of users that have rated given item\n",
        "    args:\n",
        "      iid: the raw id of the item\n",
        "    returns:\n",
        "      the number of users that have rated the item.\n",
        "    \"\"\"\n",
        "    try: \n",
        "        return len(trainset.ir[trainset.to_inner_iid(iid)])\n",
        "    except ValueError:\n",
        "        return 0"
      ],
      "metadata": {
        "id": "fUHhrUKleJDi"
      },
      "execution_count": null,
      "outputs": []
    },
    {
      "cell_type": "code",
      "source": [
        "df = pd.DataFrame(predictions, columns=['uid', 'iid', 'rui', 'est', 'details'])\n",
        "df['Iu'] = df.uid.apply(get_Iu)\n",
        "df['Ui'] = df.iid.apply(get_Ui)\n",
        "df['err'] = abs(df.est - df.rui)\n",
        "df.head()"
      ],
      "metadata": {
        "colab": {
          "base_uri": "https://localhost:8080/",
          "height": 206
        },
        "id": "hvY-hVK2eIC9",
        "outputId": "02d98786-05f2-4f97-87ac-76326ffcd31f"
      },
      "execution_count": null,
      "outputs": [
        {
          "output_type": "execute_result",
          "data": {
            "text/html": [
              "\n",
              "  <div id=\"df-96329880-b05c-412d-a920-59f04259913a\">\n",
              "    <div class=\"colab-df-container\">\n",
              "      <div>\n",
              "<style scoped>\n",
              "    .dataframe tbody tr th:only-of-type {\n",
              "        vertical-align: middle;\n",
              "    }\n",
              "\n",
              "    .dataframe tbody tr th {\n",
              "        vertical-align: top;\n",
              "    }\n",
              "\n",
              "    .dataframe thead th {\n",
              "        text-align: right;\n",
              "    }\n",
              "</style>\n",
              "<table border=\"1\" class=\"dataframe\">\n",
              "  <thead>\n",
              "    <tr style=\"text-align: right;\">\n",
              "      <th></th>\n",
              "      <th>uid</th>\n",
              "      <th>iid</th>\n",
              "      <th>rui</th>\n",
              "      <th>est</th>\n",
              "      <th>details</th>\n",
              "      <th>Iu</th>\n",
              "      <th>Ui</th>\n",
              "      <th>err</th>\n",
              "    </tr>\n",
              "  </thead>\n",
              "  <tbody>\n",
              "    <tr>\n",
              "      <th>0</th>\n",
              "      <td>829</td>\n",
              "      <td>1088</td>\n",
              "      <td>0.285962</td>\n",
              "      <td>0.336401</td>\n",
              "      <td>{'was_impossible': False}</td>\n",
              "      <td>392</td>\n",
              "      <td>338</td>\n",
              "      <td>0.050439</td>\n",
              "    </tr>\n",
              "    <tr>\n",
              "      <th>1</th>\n",
              "      <td>24023</td>\n",
              "      <td>359</td>\n",
              "      <td>0.008666</td>\n",
              "      <td>0.176838</td>\n",
              "      <td>{'was_impossible': False}</td>\n",
              "      <td>122</td>\n",
              "      <td>798</td>\n",
              "      <td>0.168172</td>\n",
              "    </tr>\n",
              "    <tr>\n",
              "      <th>2</th>\n",
              "      <td>14854</td>\n",
              "      <td>214</td>\n",
              "      <td>0.017331</td>\n",
              "      <td>1.230069</td>\n",
              "      <td>{'was_impossible': False}</td>\n",
              "      <td>109</td>\n",
              "      <td>1582</td>\n",
              "      <td>1.212738</td>\n",
              "    </tr>\n",
              "    <tr>\n",
              "      <th>3</th>\n",
              "      <td>4234</td>\n",
              "      <td>581</td>\n",
              "      <td>0.134315</td>\n",
              "      <td>0.341081</td>\n",
              "      <td>{'was_impossible': False}</td>\n",
              "      <td>1035</td>\n",
              "      <td>36</td>\n",
              "      <td>0.206766</td>\n",
              "    </tr>\n",
              "    <tr>\n",
              "      <th>4</th>\n",
              "      <td>2810</td>\n",
              "      <td>261</td>\n",
              "      <td>0.502600</td>\n",
              "      <td>0.827163</td>\n",
              "      <td>{'was_impossible': False}</td>\n",
              "      <td>521</td>\n",
              "      <td>706</td>\n",
              "      <td>0.324563</td>\n",
              "    </tr>\n",
              "  </tbody>\n",
              "</table>\n",
              "</div>\n",
              "      <button class=\"colab-df-convert\" onclick=\"convertToInteractive('df-96329880-b05c-412d-a920-59f04259913a')\"\n",
              "              title=\"Convert this dataframe to an interactive table.\"\n",
              "              style=\"display:none;\">\n",
              "        \n",
              "  <svg xmlns=\"http://www.w3.org/2000/svg\" height=\"24px\"viewBox=\"0 0 24 24\"\n",
              "       width=\"24px\">\n",
              "    <path d=\"M0 0h24v24H0V0z\" fill=\"none\"/>\n",
              "    <path d=\"M18.56 5.44l.94 2.06.94-2.06 2.06-.94-2.06-.94-.94-2.06-.94 2.06-2.06.94zm-11 1L8.5 8.5l.94-2.06 2.06-.94-2.06-.94L8.5 2.5l-.94 2.06-2.06.94zm10 10l.94 2.06.94-2.06 2.06-.94-2.06-.94-.94-2.06-.94 2.06-2.06.94z\"/><path d=\"M17.41 7.96l-1.37-1.37c-.4-.4-.92-.59-1.43-.59-.52 0-1.04.2-1.43.59L10.3 9.45l-7.72 7.72c-.78.78-.78 2.05 0 2.83L4 21.41c.39.39.9.59 1.41.59.51 0 1.02-.2 1.41-.59l7.78-7.78 2.81-2.81c.8-.78.8-2.07 0-2.86zM5.41 20L4 18.59l7.72-7.72 1.47 1.35L5.41 20z\"/>\n",
              "  </svg>\n",
              "      </button>\n",
              "      \n",
              "  <style>\n",
              "    .colab-df-container {\n",
              "      display:flex;\n",
              "      flex-wrap:wrap;\n",
              "      gap: 12px;\n",
              "    }\n",
              "\n",
              "    .colab-df-convert {\n",
              "      background-color: #E8F0FE;\n",
              "      border: none;\n",
              "      border-radius: 50%;\n",
              "      cursor: pointer;\n",
              "      display: none;\n",
              "      fill: #1967D2;\n",
              "      height: 32px;\n",
              "      padding: 0 0 0 0;\n",
              "      width: 32px;\n",
              "    }\n",
              "\n",
              "    .colab-df-convert:hover {\n",
              "      background-color: #E2EBFA;\n",
              "      box-shadow: 0px 1px 2px rgba(60, 64, 67, 0.3), 0px 1px 3px 1px rgba(60, 64, 67, 0.15);\n",
              "      fill: #174EA6;\n",
              "    }\n",
              "\n",
              "    [theme=dark] .colab-df-convert {\n",
              "      background-color: #3B4455;\n",
              "      fill: #D2E3FC;\n",
              "    }\n",
              "\n",
              "    [theme=dark] .colab-df-convert:hover {\n",
              "      background-color: #434B5C;\n",
              "      box-shadow: 0px 1px 3px 1px rgba(0, 0, 0, 0.15);\n",
              "      filter: drop-shadow(0px 1px 2px rgba(0, 0, 0, 0.3));\n",
              "      fill: #FFFFFF;\n",
              "    }\n",
              "  </style>\n",
              "\n",
              "      <script>\n",
              "        const buttonEl =\n",
              "          document.querySelector('#df-96329880-b05c-412d-a920-59f04259913a button.colab-df-convert');\n",
              "        buttonEl.style.display =\n",
              "          google.colab.kernel.accessAllowed ? 'block' : 'none';\n",
              "\n",
              "        async function convertToInteractive(key) {\n",
              "          const element = document.querySelector('#df-96329880-b05c-412d-a920-59f04259913a');\n",
              "          const dataTable =\n",
              "            await google.colab.kernel.invokeFunction('convertToInteractive',\n",
              "                                                     [key], {});\n",
              "          if (!dataTable) return;\n",
              "\n",
              "          const docLinkHtml = 'Like what you see? Visit the ' +\n",
              "            '<a target=\"_blank\" href=https://colab.research.google.com/notebooks/data_table.ipynb>data table notebook</a>'\n",
              "            + ' to learn more about interactive tables.';\n",
              "          element.innerHTML = '';\n",
              "          dataTable['output_type'] = 'display_data';\n",
              "          await google.colab.output.renderOutput(dataTable, element);\n",
              "          const docLink = document.createElement('div');\n",
              "          docLink.innerHTML = docLinkHtml;\n",
              "          element.appendChild(docLink);\n",
              "        }\n",
              "      </script>\n",
              "    </div>\n",
              "  </div>\n",
              "  "
            ],
            "text/plain": [
              "     uid   iid       rui  ...    Iu    Ui       err\n",
              "0    829  1088  0.285962  ...   392   338  0.050439\n",
              "1  24023   359  0.008666  ...   122   798  0.168172\n",
              "2  14854   214  0.017331  ...   109  1582  1.212738\n",
              "3   4234   581  0.134315  ...  1035    36  0.206766\n",
              "4   2810   261  0.502600  ...   521   706  0.324563\n",
              "\n",
              "[5 rows x 8 columns]"
            ]
          },
          "metadata": {},
          "execution_count": 46
        }
      ]
    },
    {
      "cell_type": "code",
      "source": [
        "best_predictions = df.sort_values(by='err')[:10]\n",
        "worst_predictions = df.sort_values(by='err')[-10:]"
      ],
      "metadata": {
        "id": "AMojs3B_eGe2"
      },
      "execution_count": null,
      "outputs": []
    },
    {
      "cell_type": "code",
      "source": [
        "best_predictions"
      ],
      "metadata": {
        "colab": {
          "base_uri": "https://localhost:8080/",
          "height": 363
        },
        "id": "cyQ-81nkeDn0",
        "outputId": "321def86-069a-4bf1-a4f8-719079cfbc86"
      },
      "execution_count": null,
      "outputs": [
        {
          "output_type": "execute_result",
          "data": {
            "text/html": [
              "\n",
              "  <div id=\"df-21b4ba13-9f45-43c0-aaee-783e1d78217e\">\n",
              "    <div class=\"colab-df-container\">\n",
              "      <div>\n",
              "<style scoped>\n",
              "    .dataframe tbody tr th:only-of-type {\n",
              "        vertical-align: middle;\n",
              "    }\n",
              "\n",
              "    .dataframe tbody tr th {\n",
              "        vertical-align: top;\n",
              "    }\n",
              "\n",
              "    .dataframe thead th {\n",
              "        text-align: right;\n",
              "    }\n",
              "</style>\n",
              "<table border=\"1\" class=\"dataframe\">\n",
              "  <thead>\n",
              "    <tr style=\"text-align: right;\">\n",
              "      <th></th>\n",
              "      <th>uid</th>\n",
              "      <th>iid</th>\n",
              "      <th>rui</th>\n",
              "      <th>est</th>\n",
              "      <th>details</th>\n",
              "      <th>Iu</th>\n",
              "      <th>Ui</th>\n",
              "      <th>err</th>\n",
              "    </tr>\n",
              "  </thead>\n",
              "  <tbody>\n",
              "    <tr>\n",
              "      <th>124635</th>\n",
              "      <td>9943</td>\n",
              "      <td>1404</td>\n",
              "      <td>0.021664</td>\n",
              "      <td>0.021664</td>\n",
              "      <td>{'was_impossible': False}</td>\n",
              "      <td>1572</td>\n",
              "      <td>517</td>\n",
              "      <td>6.829412e-07</td>\n",
              "    </tr>\n",
              "    <tr>\n",
              "      <th>122072</th>\n",
              "      <td>22168</td>\n",
              "      <td>1410</td>\n",
              "      <td>0.030329</td>\n",
              "      <td>0.030323</td>\n",
              "      <td>{'was_impossible': False}</td>\n",
              "      <td>215</td>\n",
              "      <td>690</td>\n",
              "      <td>6.503983e-06</td>\n",
              "    </tr>\n",
              "    <tr>\n",
              "      <th>171434</th>\n",
              "      <td>3154</td>\n",
              "      <td>972</td>\n",
              "      <td>0.186308</td>\n",
              "      <td>0.186302</td>\n",
              "      <td>{'was_impossible': False}</td>\n",
              "      <td>169</td>\n",
              "      <td>146</td>\n",
              "      <td>6.822254e-06</td>\n",
              "    </tr>\n",
              "    <tr>\n",
              "      <th>24421</th>\n",
              "      <td>18047</td>\n",
              "      <td>1051</td>\n",
              "      <td>0.064991</td>\n",
              "      <td>0.065000</td>\n",
              "      <td>{'was_impossible': False}</td>\n",
              "      <td>110</td>\n",
              "      <td>189</td>\n",
              "      <td>9.082299e-06</td>\n",
              "    </tr>\n",
              "    <tr>\n",
              "      <th>72505</th>\n",
              "      <td>1602</td>\n",
              "      <td>282</td>\n",
              "      <td>0.463605</td>\n",
              "      <td>0.463614</td>\n",
              "      <td>{'was_impossible': False}</td>\n",
              "      <td>114</td>\n",
              "      <td>208</td>\n",
              "      <td>9.332962e-06</td>\n",
              "    </tr>\n",
              "    <tr>\n",
              "      <th>106719</th>\n",
              "      <td>1738</td>\n",
              "      <td>306</td>\n",
              "      <td>0.181976</td>\n",
              "      <td>0.181964</td>\n",
              "      <td>{'was_impossible': False}</td>\n",
              "      <td>101</td>\n",
              "      <td>2029</td>\n",
              "      <td>1.201278e-05</td>\n",
              "    </tr>\n",
              "    <tr>\n",
              "      <th>33391</th>\n",
              "      <td>8023</td>\n",
              "      <td>1270</td>\n",
              "      <td>0.290295</td>\n",
              "      <td>0.290280</td>\n",
              "      <td>{'was_impossible': False}</td>\n",
              "      <td>295</td>\n",
              "      <td>631</td>\n",
              "      <td>1.438387e-05</td>\n",
              "    </tr>\n",
              "    <tr>\n",
              "      <th>22221</th>\n",
              "      <td>15781</td>\n",
              "      <td>1688</td>\n",
              "      <td>0.164645</td>\n",
              "      <td>0.164629</td>\n",
              "      <td>{'was_impossible': False}</td>\n",
              "      <td>360</td>\n",
              "      <td>299</td>\n",
              "      <td>1.598568e-05</td>\n",
              "    </tr>\n",
              "    <tr>\n",
              "      <th>62543</th>\n",
              "      <td>7561</td>\n",
              "      <td>1571</td>\n",
              "      <td>0.346620</td>\n",
              "      <td>0.346602</td>\n",
              "      <td>{'was_impossible': False}</td>\n",
              "      <td>94</td>\n",
              "      <td>106</td>\n",
              "      <td>1.893090e-05</td>\n",
              "    </tr>\n",
              "    <tr>\n",
              "      <th>145160</th>\n",
              "      <td>17119</td>\n",
              "      <td>124</td>\n",
              "      <td>0.242634</td>\n",
              "      <td>0.242612</td>\n",
              "      <td>{'was_impossible': False}</td>\n",
              "      <td>133</td>\n",
              "      <td>156</td>\n",
              "      <td>2.274699e-05</td>\n",
              "    </tr>\n",
              "  </tbody>\n",
              "</table>\n",
              "</div>\n",
              "      <button class=\"colab-df-convert\" onclick=\"convertToInteractive('df-21b4ba13-9f45-43c0-aaee-783e1d78217e')\"\n",
              "              title=\"Convert this dataframe to an interactive table.\"\n",
              "              style=\"display:none;\">\n",
              "        \n",
              "  <svg xmlns=\"http://www.w3.org/2000/svg\" height=\"24px\"viewBox=\"0 0 24 24\"\n",
              "       width=\"24px\">\n",
              "    <path d=\"M0 0h24v24H0V0z\" fill=\"none\"/>\n",
              "    <path d=\"M18.56 5.44l.94 2.06.94-2.06 2.06-.94-2.06-.94-.94-2.06-.94 2.06-2.06.94zm-11 1L8.5 8.5l.94-2.06 2.06-.94-2.06-.94L8.5 2.5l-.94 2.06-2.06.94zm10 10l.94 2.06.94-2.06 2.06-.94-2.06-.94-.94-2.06-.94 2.06-2.06.94z\"/><path d=\"M17.41 7.96l-1.37-1.37c-.4-.4-.92-.59-1.43-.59-.52 0-1.04.2-1.43.59L10.3 9.45l-7.72 7.72c-.78.78-.78 2.05 0 2.83L4 21.41c.39.39.9.59 1.41.59.51 0 1.02-.2 1.41-.59l7.78-7.78 2.81-2.81c.8-.78.8-2.07 0-2.86zM5.41 20L4 18.59l7.72-7.72 1.47 1.35L5.41 20z\"/>\n",
              "  </svg>\n",
              "      </button>\n",
              "      \n",
              "  <style>\n",
              "    .colab-df-container {\n",
              "      display:flex;\n",
              "      flex-wrap:wrap;\n",
              "      gap: 12px;\n",
              "    }\n",
              "\n",
              "    .colab-df-convert {\n",
              "      background-color: #E8F0FE;\n",
              "      border: none;\n",
              "      border-radius: 50%;\n",
              "      cursor: pointer;\n",
              "      display: none;\n",
              "      fill: #1967D2;\n",
              "      height: 32px;\n",
              "      padding: 0 0 0 0;\n",
              "      width: 32px;\n",
              "    }\n",
              "\n",
              "    .colab-df-convert:hover {\n",
              "      background-color: #E2EBFA;\n",
              "      box-shadow: 0px 1px 2px rgba(60, 64, 67, 0.3), 0px 1px 3px 1px rgba(60, 64, 67, 0.15);\n",
              "      fill: #174EA6;\n",
              "    }\n",
              "\n",
              "    [theme=dark] .colab-df-convert {\n",
              "      background-color: #3B4455;\n",
              "      fill: #D2E3FC;\n",
              "    }\n",
              "\n",
              "    [theme=dark] .colab-df-convert:hover {\n",
              "      background-color: #434B5C;\n",
              "      box-shadow: 0px 1px 3px 1px rgba(0, 0, 0, 0.15);\n",
              "      filter: drop-shadow(0px 1px 2px rgba(0, 0, 0, 0.3));\n",
              "      fill: #FFFFFF;\n",
              "    }\n",
              "  </style>\n",
              "\n",
              "      <script>\n",
              "        const buttonEl =\n",
              "          document.querySelector('#df-21b4ba13-9f45-43c0-aaee-783e1d78217e button.colab-df-convert');\n",
              "        buttonEl.style.display =\n",
              "          google.colab.kernel.accessAllowed ? 'block' : 'none';\n",
              "\n",
              "        async function convertToInteractive(key) {\n",
              "          const element = document.querySelector('#df-21b4ba13-9f45-43c0-aaee-783e1d78217e');\n",
              "          const dataTable =\n",
              "            await google.colab.kernel.invokeFunction('convertToInteractive',\n",
              "                                                     [key], {});\n",
              "          if (!dataTable) return;\n",
              "\n",
              "          const docLinkHtml = 'Like what you see? Visit the ' +\n",
              "            '<a target=\"_blank\" href=https://colab.research.google.com/notebooks/data_table.ipynb>data table notebook</a>'\n",
              "            + ' to learn more about interactive tables.';\n",
              "          element.innerHTML = '';\n",
              "          dataTable['output_type'] = 'display_data';\n",
              "          await google.colab.output.renderOutput(dataTable, element);\n",
              "          const docLink = document.createElement('div');\n",
              "          docLink.innerHTML = docLinkHtml;\n",
              "          element.appendChild(docLink);\n",
              "        }\n",
              "      </script>\n",
              "    </div>\n",
              "  </div>\n",
              "  "
            ],
            "text/plain": [
              "          uid   iid       rui  ...    Iu    Ui           err\n",
              "124635   9943  1404  0.021664  ...  1572   517  6.829412e-07\n",
              "122072  22168  1410  0.030329  ...   215   690  6.503983e-06\n",
              "171434   3154   972  0.186308  ...   169   146  6.822254e-06\n",
              "24421   18047  1051  0.064991  ...   110   189  9.082299e-06\n",
              "72505    1602   282  0.463605  ...   114   208  9.332962e-06\n",
              "106719   1738   306  0.181976  ...   101  2029  1.201278e-05\n",
              "33391    8023  1270  0.290295  ...   295   631  1.438387e-05\n",
              "22221   15781  1688  0.164645  ...   360   299  1.598568e-05\n",
              "62543    7561  1571  0.346620  ...    94   106  1.893090e-05\n",
              "145160  17119   124  0.242634  ...   133   156  2.274699e-05\n",
              "\n",
              "[10 rows x 8 columns]"
            ]
          },
          "metadata": {},
          "execution_count": 48
        }
      ]
    },
    {
      "cell_type": "code",
      "source": [
        "worst_predictions"
      ],
      "metadata": {
        "colab": {
          "base_uri": "https://localhost:8080/",
          "height": 363
        },
        "id": "JTPEsWQweEsd",
        "outputId": "4468f721-0a91-45c5-acd9-d084ea7902bd"
      },
      "execution_count": null,
      "outputs": [
        {
          "output_type": "execute_result",
          "data": {
            "text/html": [
              "\n",
              "  <div id=\"df-fca082cd-7155-4b40-8f2d-f4bb487ae47e\">\n",
              "    <div class=\"colab-df-container\">\n",
              "      <div>\n",
              "<style scoped>\n",
              "    .dataframe tbody tr th:only-of-type {\n",
              "        vertical-align: middle;\n",
              "    }\n",
              "\n",
              "    .dataframe tbody tr th {\n",
              "        vertical-align: top;\n",
              "    }\n",
              "\n",
              "    .dataframe thead th {\n",
              "        text-align: right;\n",
              "    }\n",
              "</style>\n",
              "<table border=\"1\" class=\"dataframe\">\n",
              "  <thead>\n",
              "    <tr style=\"text-align: right;\">\n",
              "      <th></th>\n",
              "      <th>uid</th>\n",
              "      <th>iid</th>\n",
              "      <th>rui</th>\n",
              "      <th>est</th>\n",
              "      <th>details</th>\n",
              "      <th>Iu</th>\n",
              "      <th>Ui</th>\n",
              "      <th>err</th>\n",
              "    </tr>\n",
              "  </thead>\n",
              "  <tbody>\n",
              "    <tr>\n",
              "      <th>130552</th>\n",
              "      <td>15113</td>\n",
              "      <td>1602</td>\n",
              "      <td>9.913345</td>\n",
              "      <td>0.337501</td>\n",
              "      <td>{'was_impossible': False}</td>\n",
              "      <td>147</td>\n",
              "      <td>39</td>\n",
              "      <td>9.575844</td>\n",
              "    </tr>\n",
              "    <tr>\n",
              "      <th>43754</th>\n",
              "      <td>15094</td>\n",
              "      <td>1003</td>\n",
              "      <td>9.826690</td>\n",
              "      <td>0.246953</td>\n",
              "      <td>{'was_impossible': False}</td>\n",
              "      <td>471</td>\n",
              "      <td>197</td>\n",
              "      <td>9.579737</td>\n",
              "    </tr>\n",
              "    <tr>\n",
              "      <th>170826</th>\n",
              "      <td>6549</td>\n",
              "      <td>386</td>\n",
              "      <td>9.852686</td>\n",
              "      <td>0.272946</td>\n",
              "      <td>{'was_impossible': False}</td>\n",
              "      <td>340</td>\n",
              "      <td>1376</td>\n",
              "      <td>9.579740</td>\n",
              "    </tr>\n",
              "    <tr>\n",
              "      <th>150554</th>\n",
              "      <td>26356</td>\n",
              "      <td>392</td>\n",
              "      <td>9.930676</td>\n",
              "      <td>0.327510</td>\n",
              "      <td>{'was_impossible': False}</td>\n",
              "      <td>113</td>\n",
              "      <td>1881</td>\n",
              "      <td>9.603166</td>\n",
              "    </tr>\n",
              "    <tr>\n",
              "      <th>49837</th>\n",
              "      <td>4634</td>\n",
              "      <td>974</td>\n",
              "      <td>9.826690</td>\n",
              "      <td>0.186581</td>\n",
              "      <td>{'was_impossible': False}</td>\n",
              "      <td>104</td>\n",
              "      <td>766</td>\n",
              "      <td>9.640109</td>\n",
              "    </tr>\n",
              "    <tr>\n",
              "      <th>6927</th>\n",
              "      <td>2116</td>\n",
              "      <td>1421</td>\n",
              "      <td>9.649047</td>\n",
              "      <td>0.000000</td>\n",
              "      <td>{'was_impossible': False}</td>\n",
              "      <td>135</td>\n",
              "      <td>77</td>\n",
              "      <td>9.649047</td>\n",
              "    </tr>\n",
              "    <tr>\n",
              "      <th>2193</th>\n",
              "      <td>15030</td>\n",
              "      <td>1449</td>\n",
              "      <td>9.852686</td>\n",
              "      <td>0.184999</td>\n",
              "      <td>{'was_impossible': False}</td>\n",
              "      <td>218</td>\n",
              "      <td>365</td>\n",
              "      <td>9.667688</td>\n",
              "    </tr>\n",
              "    <tr>\n",
              "      <th>130875</th>\n",
              "      <td>18229</td>\n",
              "      <td>98</td>\n",
              "      <td>9.995667</td>\n",
              "      <td>0.249502</td>\n",
              "      <td>{'was_impossible': False}</td>\n",
              "      <td>728</td>\n",
              "      <td>1382</td>\n",
              "      <td>9.746165</td>\n",
              "    </tr>\n",
              "    <tr>\n",
              "      <th>14873</th>\n",
              "      <td>28032</td>\n",
              "      <td>241</td>\n",
              "      <td>9.965338</td>\n",
              "      <td>0.107199</td>\n",
              "      <td>{'was_impossible': False}</td>\n",
              "      <td>338</td>\n",
              "      <td>224</td>\n",
              "      <td>9.858139</td>\n",
              "    </tr>\n",
              "    <tr>\n",
              "      <th>104988</th>\n",
              "      <td>11307</td>\n",
              "      <td>1673</td>\n",
              "      <td>9.956672</td>\n",
              "      <td>0.000000</td>\n",
              "      <td>{'was_impossible': False}</td>\n",
              "      <td>200</td>\n",
              "      <td>1837</td>\n",
              "      <td>9.956672</td>\n",
              "    </tr>\n",
              "  </tbody>\n",
              "</table>\n",
              "</div>\n",
              "      <button class=\"colab-df-convert\" onclick=\"convertToInteractive('df-fca082cd-7155-4b40-8f2d-f4bb487ae47e')\"\n",
              "              title=\"Convert this dataframe to an interactive table.\"\n",
              "              style=\"display:none;\">\n",
              "        \n",
              "  <svg xmlns=\"http://www.w3.org/2000/svg\" height=\"24px\"viewBox=\"0 0 24 24\"\n",
              "       width=\"24px\">\n",
              "    <path d=\"M0 0h24v24H0V0z\" fill=\"none\"/>\n",
              "    <path d=\"M18.56 5.44l.94 2.06.94-2.06 2.06-.94-2.06-.94-.94-2.06-.94 2.06-2.06.94zm-11 1L8.5 8.5l.94-2.06 2.06-.94-2.06-.94L8.5 2.5l-.94 2.06-2.06.94zm10 10l.94 2.06.94-2.06 2.06-.94-2.06-.94-.94-2.06-.94 2.06-2.06.94z\"/><path d=\"M17.41 7.96l-1.37-1.37c-.4-.4-.92-.59-1.43-.59-.52 0-1.04.2-1.43.59L10.3 9.45l-7.72 7.72c-.78.78-.78 2.05 0 2.83L4 21.41c.39.39.9.59 1.41.59.51 0 1.02-.2 1.41-.59l7.78-7.78 2.81-2.81c.8-.78.8-2.07 0-2.86zM5.41 20L4 18.59l7.72-7.72 1.47 1.35L5.41 20z\"/>\n",
              "  </svg>\n",
              "      </button>\n",
              "      \n",
              "  <style>\n",
              "    .colab-df-container {\n",
              "      display:flex;\n",
              "      flex-wrap:wrap;\n",
              "      gap: 12px;\n",
              "    }\n",
              "\n",
              "    .colab-df-convert {\n",
              "      background-color: #E8F0FE;\n",
              "      border: none;\n",
              "      border-radius: 50%;\n",
              "      cursor: pointer;\n",
              "      display: none;\n",
              "      fill: #1967D2;\n",
              "      height: 32px;\n",
              "      padding: 0 0 0 0;\n",
              "      width: 32px;\n",
              "    }\n",
              "\n",
              "    .colab-df-convert:hover {\n",
              "      background-color: #E2EBFA;\n",
              "      box-shadow: 0px 1px 2px rgba(60, 64, 67, 0.3), 0px 1px 3px 1px rgba(60, 64, 67, 0.15);\n",
              "      fill: #174EA6;\n",
              "    }\n",
              "\n",
              "    [theme=dark] .colab-df-convert {\n",
              "      background-color: #3B4455;\n",
              "      fill: #D2E3FC;\n",
              "    }\n",
              "\n",
              "    [theme=dark] .colab-df-convert:hover {\n",
              "      background-color: #434B5C;\n",
              "      box-shadow: 0px 1px 3px 1px rgba(0, 0, 0, 0.15);\n",
              "      filter: drop-shadow(0px 1px 2px rgba(0, 0, 0, 0.3));\n",
              "      fill: #FFFFFF;\n",
              "    }\n",
              "  </style>\n",
              "\n",
              "      <script>\n",
              "        const buttonEl =\n",
              "          document.querySelector('#df-fca082cd-7155-4b40-8f2d-f4bb487ae47e button.colab-df-convert');\n",
              "        buttonEl.style.display =\n",
              "          google.colab.kernel.accessAllowed ? 'block' : 'none';\n",
              "\n",
              "        async function convertToInteractive(key) {\n",
              "          const element = document.querySelector('#df-fca082cd-7155-4b40-8f2d-f4bb487ae47e');\n",
              "          const dataTable =\n",
              "            await google.colab.kernel.invokeFunction('convertToInteractive',\n",
              "                                                     [key], {});\n",
              "          if (!dataTable) return;\n",
              "\n",
              "          const docLinkHtml = 'Like what you see? Visit the ' +\n",
              "            '<a target=\"_blank\" href=https://colab.research.google.com/notebooks/data_table.ipynb>data table notebook</a>'\n",
              "            + ' to learn more about interactive tables.';\n",
              "          element.innerHTML = '';\n",
              "          dataTable['output_type'] = 'display_data';\n",
              "          await google.colab.output.renderOutput(dataTable, element);\n",
              "          const docLink = document.createElement('div');\n",
              "          docLink.innerHTML = docLinkHtml;\n",
              "          element.appendChild(docLink);\n",
              "        }\n",
              "      </script>\n",
              "    </div>\n",
              "  </div>\n",
              "  "
            ],
            "text/plain": [
              "          uid   iid       rui  ...   Iu    Ui       err\n",
              "130552  15113  1602  9.913345  ...  147    39  9.575844\n",
              "43754   15094  1003  9.826690  ...  471   197  9.579737\n",
              "170826   6549   386  9.852686  ...  340  1376  9.579740\n",
              "150554  26356   392  9.930676  ...  113  1881  9.603166\n",
              "49837    4634   974  9.826690  ...  104   766  9.640109\n",
              "6927     2116  1421  9.649047  ...  135    77  9.649047\n",
              "2193    15030  1449  9.852686  ...  218   365  9.667688\n",
              "130875  18229    98  9.995667  ...  728  1382  9.746165\n",
              "14873   28032   241  9.965338  ...  338   224  9.858139\n",
              "104988  11307  1673  9.956672  ...  200  1837  9.956672\n",
              "\n",
              "[10 rows x 8 columns]"
            ]
          },
          "metadata": {},
          "execution_count": 49
        }
      ]
    },
    {
      "cell_type": "code",
      "source": [
        ""
      ],
      "metadata": {
        "id": "RO6FX4Bll-zA"
      },
      "execution_count": null,
      "outputs": []
    }
  ]
}