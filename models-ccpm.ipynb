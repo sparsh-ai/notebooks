{
 "cells": [
  {
   "cell_type": "code",
   "execution_count": null,
   "metadata": {},
   "outputs": [],
   "source": [
    "# default_exp models.ccpm"
   ]
  },
  {
   "cell_type": "markdown",
   "metadata": {},
   "source": [
    "# CCPM\n",
    "> Implementation of CCPM model in PyTorch."
   ]
  },
  {
   "cell_type": "code",
   "execution_count": null,
   "metadata": {},
   "outputs": [],
   "source": [
    "#hide\n",
    "from nbdev.showdoc import *\n",
    "from fastcore.nb_imports import *\n",
    "from fastcore.test import *"
   ]
  },
  {
   "cell_type": "code",
   "execution_count": null,
   "metadata": {},
   "outputs": [],
   "source": [
    "#export\n",
    "import torch\n",
    "from torch import nn\n",
    "\n",
    "from recohut.models.layers.embedding import EmbeddingLayer\n",
    "from recohut.models.layers.common import KMaxPooling\n",
    "\n",
    "from recohut.models.bases.ctr import CTRModel"
   ]
  },
  {
   "cell_type": "code",
   "execution_count": null,
   "metadata": {},
   "outputs": [],
   "source": [
    "#exporti\n",
    "def get_activation(activation):\n",
    "    if isinstance(activation, str):\n",
    "        if activation.lower() == \"relu\":\n",
    "            return nn.ReLU()\n",
    "        elif activation.lower() == \"sigmoid\":\n",
    "            return nn.Sigmoid()\n",
    "        elif activation.lower() == \"tanh\":\n",
    "            return nn.Tanh()\n",
    "        else:\n",
    "            return getattr(nn, activation)()\n",
    "    else:\n",
    "        return activation"
   ]
  },
  {
   "cell_type": "code",
   "execution_count": null,
   "metadata": {},
   "outputs": [],
   "source": [
    "#exporti\n",
    "class CCPM_ConvLayer(nn.Module):\n",
    "    \"\"\"\n",
    "    Input X: tensor of shape (batch_size, 1, num_fields, embedding_dim)\n",
    "    \"\"\"\n",
    "    def __init__(self, num_fields, channels=[3], kernel_heights=[3], activation=\"Tanh\"):\n",
    "        super(CCPM_ConvLayer, self).__init__()\n",
    "        if not isinstance(kernel_heights, list):\n",
    "            kernel_heights = [kernel_heights] * len(channels)\n",
    "        elif len(kernel_heights) != len(channels):\n",
    "            raise ValueError(\"channels={} and kernel_heights={} should have the same length.\"\\\n",
    "                             .format(channels, kernel_heights))\n",
    "        module_list = []\n",
    "        self.channels = [1] + channels\n",
    "        layers = len(kernel_heights)\n",
    "        for i in range(1, len(self.channels)):\n",
    "            in_channels = self.channels[i - 1]\n",
    "            out_channels = self.channels[i]\n",
    "            kernel_height = kernel_heights[i - 1]\n",
    "            module_list.append(nn.ZeroPad2d((0, 0, kernel_height - 1, kernel_height - 1)))\n",
    "            module_list.append(nn.Conv2d(in_channels, out_channels, kernel_size=(kernel_height, 1)))\n",
    "            if i < layers:\n",
    "                k = max(3, int((1 - pow(float(i) / layers, layers - i)) * num_fields))\n",
    "            else:\n",
    "                k = 3\n",
    "            module_list.append(KMaxPooling(k, dim=2))\n",
    "            module_list.append(get_activation(activation))\n",
    "        self.conv_layer = nn.Sequential(*module_list)\n",
    "\n",
    "    def forward(self, X):\n",
    "        return self.conv_layer(X)"
   ]
  },
  {
   "cell_type": "code",
   "execution_count": null,
   "metadata": {},
   "outputs": [],
   "source": [
    "#export\n",
    "class CCPM(CTRModel):\n",
    "    def __init__(self, \n",
    "                 feature_map, \n",
    "                 model_id=\"CCPM\",\n",
    "                 task=\"binary_classification\",\n",
    "                 learning_rate=1e-3, \n",
    "                 embedding_initializer=\"torch.nn.init.normal_(std=1e-4)\",\n",
    "                 embedding_dim=10, \n",
    "                 channels=[4, 4, 2],\n",
    "                 kernel_heights=[6, 5, 3],\n",
    "                 activation=\"Tanh\",\n",
    "                 **kwargs):\n",
    "        super(CCPM, self).__init__(feature_map, \n",
    "                                           model_id=model_id,\n",
    "                                           **kwargs)\n",
    "        self.embedding_layer = EmbeddingLayer(feature_map, embedding_dim)\n",
    "        self.conv_layer = CCPM_ConvLayer(feature_map.num_fields, \n",
    "                                         channels=channels, \n",
    "                                         kernel_heights=kernel_heights, \n",
    "                                         activation=activation)\n",
    "        conv_out_dim = 3 * embedding_dim * channels[-1] # 3 is k-max-pooling size of the last layer\n",
    "        self.fc = nn.Linear(conv_out_dim, 1)\n",
    "        self.output_activation = self.get_final_activation(task)\n",
    "        self.init_weights(embedding_initializer=embedding_initializer)\n",
    "\n",
    "    def forward(self, inputs):\n",
    "        feature_emb = self.embedding_layer(inputs)\n",
    "        conv_in = torch.unsqueeze(feature_emb, 1) # shape (bs, 1, field, emb)\n",
    "        conv_out = self.conv_layer(conv_in)\n",
    "        flatten_out = torch.flatten(conv_out, start_dim=1)\n",
    "        y_pred = self.fc(flatten_out)\n",
    "        if self.output_activation is not None:\n",
    "            y_pred = self.output_activation(y_pred)\n",
    "        return y_pred"
   ]
  },
  {
   "cell_type": "markdown",
   "metadata": {},
   "source": [
    "Example"
   ]
  },
  {
   "cell_type": "code",
   "execution_count": null,
   "metadata": {},
   "outputs": [],
   "source": [
    "params = {'model_id': 'CCPM',\n",
    "              'data_dir': '/content/data',\n",
    "              'model_root': './checkpoints/',\n",
    "              'learning_rate': 1e-3,\n",
    "              'optimizer': 'adamw',\n",
    "              'task': 'binary_classification',\n",
    "              'loss': 'binary_crossentropy',\n",
    "              'metrics': ['logloss', 'AUC'],\n",
    "              'embedding_dim': 10,\n",
    "              'channels': [3, 3],\n",
    "              'kernel_heights': [3, 3],\n",
    "              'activation': 'Tanh',\n",
    "              'batch_size': 64,\n",
    "              'epochs': 3,\n",
    "              'shuffle': True,\n",
    "              'seed': 2019,\n",
    "              'use_hdf5': True,\n",
    "              'workers': 1,\n",
    "              'verbose': 0}"
   ]
  },
  {
   "cell_type": "code",
   "execution_count": null,
   "metadata": {},
   "outputs": [],
   "source": [
    "model = CCPM(ds.dataset.feature_map, **params)"
   ]
  },
  {
   "cell_type": "code",
   "execution_count": null,
   "metadata": {},
   "outputs": [
    {
     "name": "stderr",
     "output_type": "stream",
     "text": [
      "GPU available: False, used: False\n",
      "TPU available: False, using: 0 TPU cores\n",
      "IPU available: False, using: 0 IPUs\n",
      "\n",
      "  | Name              | Type           | Params\n",
      "-----------------------------------------------------\n",
      "0 | embedding_layer   | EmbeddingLayer | 4.8 K \n",
      "1 | conv_layer        | CCPM_ConvLayer | 42    \n",
      "2 | fc                | Linear         | 91    \n",
      "3 | output_activation | Sigmoid        | 0     \n",
      "-----------------------------------------------------\n",
      "4.9 K     Trainable params\n",
      "0         Non-trainable params\n",
      "4.9 K     Total params\n",
      "0.020     Total estimated model params size (MB)\n"
     ]
    },
    {
     "data": {
      "application/vnd.jupyter.widget-view+json": {
       "model_id": "07d68079253244699df778d41d657d1d",
       "version_major": 2,
       "version_minor": 0
      },
      "text/plain": [
       "Training: 0it [00:00, ?it/s]"
      ]
     },
     "metadata": {},
     "output_type": "display_data"
    },
    {
     "data": {
      "application/vnd.jupyter.widget-view+json": {
       "model_id": "2111aa38766748ddb778ad976f5a7627",
       "version_major": 2,
       "version_minor": 0
      },
      "text/plain": [
       "Validating: 0it [00:00, ?it/s]"
      ]
     },
     "metadata": {},
     "output_type": "display_data"
    },
    {
     "data": {
      "application/vnd.jupyter.widget-view+json": {
       "model_id": "540497ddaa82439f91373691456902bd",
       "version_major": 2,
       "version_minor": 0
      },
      "text/plain": [
       "Testing: 0it [00:00, ?it/s]"
      ]
     },
     "metadata": {},
     "output_type": "display_data"
    },
    {
     "name": "stdout",
     "output_type": "stream",
     "text": [
      "--------------------------------------------------------------------------------\n",
      "DATALOADER:0 TEST RESULTS\n",
      "{'Test Metrics': {'AUC': tensor(0.9964), 'logloss': tensor(0.2893)}}\n",
      "--------------------------------------------------------------------------------\n"
     ]
    },
    {
     "data": {
      "text/plain": [
       "[{'Test Metrics': {'AUC': tensor(0.9964), 'logloss': tensor(0.2893)}}]"
      ]
     },
     "execution_count": null,
     "metadata": {},
     "output_type": "execute_result"
    }
   ],
   "source": [
    "pl_trainer(model, ds, max_epochs=5)"
   ]
  }
 ],
 "metadata": {
  "kernelspec": {
   "display_name": "Python 3",
   "name": "python3"
  }
 },
 "nbformat": 4,
 "nbformat_minor": 0
}
