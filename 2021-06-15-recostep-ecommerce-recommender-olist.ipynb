{
  "nbformat": 4,
  "nbformat_minor": 5,
  "metadata": {
    "kernelspec": {
      "display_name": "Python 3",
      "language": "python",
      "name": "python3"
    },
    "language_info": {
      "codemirror_mode": {
        "name": "ipython",
        "version": 3
      },
      "file_extension": ".py",
      "mimetype": "text/x-python",
      "name": "python",
      "nbconvert_exporter": "python",
      "pygments_lexer": "ipython3",
      "version": "3.8.8"
    },
    "colab": {
      "name": "recostep-ecommerce-recommender-olist.ipynb",
      "provenance": [],
      "collapsed_sections": [
        "0f4ddf70"
      ]
    }
  },
  "cells": [
    {
      "cell_type": "markdown",
      "metadata": {
        "id": "a7b80794"
      },
      "source": [
        "# Recommendation systems using Olist dataset\n",
        "> Olist e-commerce dataset to build simple recommender systems\n",
        "\n",
        "- toc: true\n",
        "- badges: true\n",
        "- comments: true\n",
        "- categories: [ecommerce]\n",
        "- image: "
      ],
      "id": "a7b80794"
    },
    {
      "cell_type": "code",
      "metadata": {
        "id": "5d2c5778"
      },
      "source": [
        "import pandas as pd\n",
        "import numpy as np\n",
        "import seaborn as sns\n",
        "import matplotlib.pyplot as plt\n",
        "%matplotlib inline\n",
        "import re\n",
        "from textblob import TextBlob"
      ],
      "id": "5d2c5778",
      "execution_count": 60,
      "outputs": []
    },
    {
      "cell_type": "code",
      "metadata": {
        "id": "7EV9Nrncva6X"
      },
      "source": [
        "!pip install -q -U kaggle\n",
        "!pip install --upgrade --force-reinstall --no-deps kaggle\n",
        "!mkdir ~/.kaggle\n",
        "!cp /content/drive/MyDrive/kaggle.json ~/.kaggle/\n",
        "!chmod 600 ~/.kaggle/kaggle.json\n",
        "\n",
        "!kaggle datasets download -d olistbr/brazilian-ecommerce"
      ],
      "id": "7EV9Nrncva6X",
      "execution_count": null,
      "outputs": []
    },
    {
      "cell_type": "code",
      "metadata": {
        "colab": {
          "base_uri": "https://localhost:8080/"
        },
        "id": "Z9X0umLBvomC",
        "outputId": "d6aa51f3-1720-416c-fbae-b0730e0a600e"
      },
      "source": [
        "!unzip brazilian-ecommerce.zip"
      ],
      "id": "Z9X0umLBvomC",
      "execution_count": 4,
      "outputs": [
        {
          "output_type": "stream",
          "text": [
            "Archive:  brazilian-ecommerce.zip\n",
            "  inflating: olist_customers_dataset.csv  \n",
            "  inflating: olist_geolocation_dataset.csv  \n",
            "  inflating: olist_order_items_dataset.csv  \n",
            "  inflating: olist_order_payments_dataset.csv  \n",
            "  inflating: olist_order_reviews_dataset.csv  \n",
            "  inflating: olist_orders_dataset.csv  \n",
            "  inflating: olist_products_dataset.csv  \n",
            "  inflating: olist_sellers_dataset.csv  \n",
            "  inflating: product_category_name_translation.csv  \n"
          ],
          "name": "stdout"
        }
      ]
    },
    {
      "cell_type": "code",
      "metadata": {
        "id": "8defdd68"
      },
      "source": [
        "products =  pd.read_csv('olist_products_dataset.csv', usecols=['product_id','product_category_name'])\n",
        "\n",
        "orders = pd.read_csv('olist_orders_dataset.csv',usecols = ['order_id','customer_id'])\n",
        "\n",
        "prod = pd.read_csv('olist_order_items_dataset.csv',usecols = ['product_id','order_id'])\n",
        "\n",
        "customers = pd.read_csv('olist_customers_dataset.csv',usecols = ['customer_id','customer_zip_code_prefix','customer_city'])\n",
        "\n",
        "location = pd.read_csv('olist_geolocation_dataset.csv', usecols = ['geolocation_zip_code_prefix'])\n",
        "\n",
        "reviews = pd.read_csv('olist_order_reviews_dataset.csv',usecols = ['order_id','review_score','review_comment_message'])"
      ],
      "id": "8defdd68",
      "execution_count": 13,
      "outputs": []
    },
    {
      "cell_type": "code",
      "metadata": {
        "id": "f24b05e9"
      },
      "source": [
        "def describe_data(df):\n",
        "  print(\"Data Types:\")\n",
        "  print(df.dtypes)\n",
        "  print(\"\\n\\nRows and Columns:\")\n",
        "  print(df.shape)\n",
        "  print(\"\\n\\nColumn Names:\")\n",
        "  display(df.columns.tolist())\n",
        "  print(\"\\n\\nNull values\")\n",
        "  print(df.isnull().sum())"
      ],
      "id": "f24b05e9",
      "execution_count": 20,
      "outputs": []
    },
    {
      "cell_type": "code",
      "metadata": {
        "id": "fa9dc282",
        "colab": {
          "base_uri": "https://localhost:8080/",
          "height": 323
        },
        "outputId": "8ba1e204-58df-4905-cc77-ed625eae8802"
      },
      "source": [
        "describe_data(products)"
      ],
      "id": "fa9dc282",
      "execution_count": 21,
      "outputs": [
        {
          "output_type": "stream",
          "text": [
            "Data Types:\n",
            "product_id               object\n",
            "product_category_name    object\n",
            "dtype: object\n",
            "\n",
            "\n",
            "Rows and Columns:\n",
            "(32951, 2)\n",
            "\n",
            "\n",
            "Column Names:\n"
          ],
          "name": "stdout"
        },
        {
          "output_type": "display_data",
          "data": {
            "text/plain": [
              "['product_id', 'product_category_name']"
            ]
          },
          "metadata": {
            "tags": []
          }
        },
        {
          "output_type": "stream",
          "text": [
            "\n",
            "\n",
            "Null values\n",
            "product_id                 0\n",
            "product_category_name    610\n",
            "dtype: int64\n"
          ],
          "name": "stdout"
        }
      ]
    },
    {
      "cell_type": "code",
      "metadata": {
        "scrolled": true,
        "id": "25ecca66",
        "colab": {
          "base_uri": "https://localhost:8080/",
          "height": 357
        },
        "outputId": "bf6c8fdd-f0ec-4444-eafe-e6f8a9ae7ad5"
      },
      "source": [
        "describe_data(customers)"
      ],
      "id": "25ecca66",
      "execution_count": 22,
      "outputs": [
        {
          "output_type": "stream",
          "text": [
            "Data Types:\n",
            "customer_id                 object\n",
            "customer_zip_code_prefix     int64\n",
            "customer_city               object\n",
            "dtype: object\n",
            "\n",
            "\n",
            "Rows and Columns:\n",
            "(99441, 3)\n",
            "\n",
            "\n",
            "Column Names:\n"
          ],
          "name": "stdout"
        },
        {
          "output_type": "display_data",
          "data": {
            "text/plain": [
              "['customer_id', 'customer_zip_code_prefix', 'customer_city']"
            ]
          },
          "metadata": {
            "tags": []
          }
        },
        {
          "output_type": "stream",
          "text": [
            "\n",
            "\n",
            "Null values\n",
            "customer_id                 0\n",
            "customer_zip_code_prefix    0\n",
            "customer_city               0\n",
            "dtype: int64\n"
          ],
          "name": "stdout"
        }
      ]
    },
    {
      "cell_type": "code",
      "metadata": {
        "id": "7a6c9b0b",
        "colab": {
          "base_uri": "https://localhost:8080/",
          "height": 357
        },
        "outputId": "c6db002b-6a6d-419d-c7ae-b9760f9db81c"
      },
      "source": [
        "describe_data(reviews)"
      ],
      "id": "7a6c9b0b",
      "execution_count": 23,
      "outputs": [
        {
          "output_type": "stream",
          "text": [
            "Data Types:\n",
            "order_id                  object\n",
            "review_score               int64\n",
            "review_comment_message    object\n",
            "dtype: object\n",
            "\n",
            "\n",
            "Rows and Columns:\n",
            "(100000, 3)\n",
            "\n",
            "\n",
            "Column Names:\n"
          ],
          "name": "stdout"
        },
        {
          "output_type": "display_data",
          "data": {
            "text/plain": [
              "['order_id', 'review_score', 'review_comment_message']"
            ]
          },
          "metadata": {
            "tags": []
          }
        },
        {
          "output_type": "stream",
          "text": [
            "\n",
            "\n",
            "Null values\n",
            "order_id                      0\n",
            "review_score                  0\n",
            "review_comment_message    58247\n",
            "dtype: int64\n"
          ],
          "name": "stdout"
        }
      ]
    },
    {
      "cell_type": "code",
      "metadata": {
        "id": "c4c55008",
        "colab": {
          "base_uri": "https://localhost:8080/",
          "height": 323
        },
        "outputId": "cae40be8-52b1-4677-9531-2957eb8a898f"
      },
      "source": [
        "describe_data(orders)"
      ],
      "id": "c4c55008",
      "execution_count": 24,
      "outputs": [
        {
          "output_type": "stream",
          "text": [
            "Data Types:\n",
            "order_id       object\n",
            "customer_id    object\n",
            "dtype: object\n",
            "\n",
            "\n",
            "Rows and Columns:\n",
            "(99441, 2)\n",
            "\n",
            "\n",
            "Column Names:\n"
          ],
          "name": "stdout"
        },
        {
          "output_type": "display_data",
          "data": {
            "text/plain": [
              "['order_id', 'customer_id']"
            ]
          },
          "metadata": {
            "tags": []
          }
        },
        {
          "output_type": "stream",
          "text": [
            "\n",
            "\n",
            "Null values\n",
            "order_id       0\n",
            "customer_id    0\n",
            "dtype: int64\n"
          ],
          "name": "stdout"
        }
      ]
    },
    {
      "cell_type": "code",
      "metadata": {
        "id": "36f09457",
        "colab": {
          "base_uri": "https://localhost:8080/",
          "height": 289
        },
        "outputId": "9ce0b2ea-b81c-465b-9ff2-96952e0726d4"
      },
      "source": [
        "describe_data(location)"
      ],
      "id": "36f09457",
      "execution_count": 25,
      "outputs": [
        {
          "output_type": "stream",
          "text": [
            "Data Types:\n",
            "geolocation_zip_code_prefix    int64\n",
            "dtype: object\n",
            "\n",
            "\n",
            "Rows and Columns:\n",
            "(1000163, 1)\n",
            "\n",
            "\n",
            "Column Names:\n"
          ],
          "name": "stdout"
        },
        {
          "output_type": "display_data",
          "data": {
            "text/plain": [
              "['geolocation_zip_code_prefix']"
            ]
          },
          "metadata": {
            "tags": []
          }
        },
        {
          "output_type": "stream",
          "text": [
            "\n",
            "\n",
            "Null values\n",
            "geolocation_zip_code_prefix    0\n",
            "dtype: int64\n"
          ],
          "name": "stdout"
        }
      ]
    },
    {
      "cell_type": "code",
      "metadata": {
        "id": "b54b453a",
        "colab": {
          "base_uri": "https://localhost:8080/",
          "height": 323
        },
        "outputId": "3ca324e3-46c0-4aa8-c497-ce45e64e028e"
      },
      "source": [
        "describe_data(prod)"
      ],
      "id": "b54b453a",
      "execution_count": 26,
      "outputs": [
        {
          "output_type": "stream",
          "text": [
            "Data Types:\n",
            "order_id      object\n",
            "product_id    object\n",
            "dtype: object\n",
            "\n",
            "\n",
            "Rows and Columns:\n",
            "(112650, 2)\n",
            "\n",
            "\n",
            "Column Names:\n"
          ],
          "name": "stdout"
        },
        {
          "output_type": "display_data",
          "data": {
            "text/plain": [
              "['order_id', 'product_id']"
            ]
          },
          "metadata": {
            "tags": []
          }
        },
        {
          "output_type": "stream",
          "text": [
            "\n",
            "\n",
            "Null values\n",
            "order_id      0\n",
            "product_id    0\n",
            "dtype: int64\n"
          ],
          "name": "stdout"
        }
      ]
    },
    {
      "cell_type": "code",
      "metadata": {
        "id": "a408f031",
        "colab": {
          "base_uri": "https://localhost:8080/",
          "height": 325
        },
        "outputId": "46d3e060-6ae7-44e4-f583-a466a793e07a"
      },
      "source": [
        "plt.rc(\"font\", size=15)\n",
        "reviews.review_score.value_counts(sort=False).plot(kind='bar')\n",
        "plt.title('Rating Distribution\\n')\n",
        "plt.xlabel('Rating')\n",
        "plt.ylabel('Count')\n",
        "plt.savefig('system1.png', bbox_inches='tight')\n",
        "plt.show()"
      ],
      "id": "a408f031",
      "execution_count": 27,
      "outputs": [
        {
          "output_type": "display_data",
          "data": {
            "image/png": "[encoded data removed]",
            "text/plain": [
              "<Figure size 432x288 with 1 Axes>"
            ]
          },
          "metadata": {
            "tags": [],
            "needs_background": "light"
          }
        }
      ]
    },
    {
      "cell_type": "markdown",
      "metadata": {
        "id": "6943fa53"
      },
      "source": [
        "### Popularity based recommender"
      ],
      "id": "6943fa53"
    },
    {
      "cell_type": "code",
      "metadata": {
        "id": "6523011e"
      },
      "source": [
        "comb_product = pd.merge(products, prod, on ='product_id')"
      ],
      "id": "6523011e",
      "execution_count": 28,
      "outputs": []
    },
    {
      "cell_type": "code",
      "metadata": {
        "id": "cca67fa4",
        "colab": {
          "base_uri": "https://localhost:8080/",
          "height": 309
        },
        "outputId": "c553b285-7357-4c31-dc9d-249e5af88fea"
      },
      "source": [
        "comb_product_review = pd.merge(comb_product,reviews, on = 'order_id')\n",
        "comb_product_review.head(5)"
      ],
      "id": "cca67fa4",
      "execution_count": 29,
      "outputs": [
        {
          "output_type": "execute_result",
          "data": {
            "text/html": [
              "<div>\n",
              "<style scoped>\n",
              "    .dataframe tbody tr th:only-of-type {\n",
              "        vertical-align: middle;\n",
              "    }\n",
              "\n",
              "    .dataframe tbody tr th {\n",
              "        vertical-align: top;\n",
              "    }\n",
              "\n",
              "    .dataframe thead th {\n",
              "        text-align: right;\n",
              "    }\n",
              "</style>\n",
              "<table border=\"1\" class=\"dataframe\">\n",
              "  <thead>\n",
              "    <tr style=\"text-align: right;\">\n",
              "      <th></th>\n",
              "      <th>product_id</th>\n",
              "      <th>product_category_name</th>\n",
              "      <th>order_id</th>\n",
              "      <th>review_score</th>\n",
              "      <th>review_comment_message</th>\n",
              "    </tr>\n",
              "  </thead>\n",
              "  <tbody>\n",
              "    <tr>\n",
              "      <th>0</th>\n",
              "      <td>1e9e8ef04dbcff4541ed26657ea517e5</td>\n",
              "      <td>perfumaria</td>\n",
              "      <td>e17e4f88e31525f7deef66779844ddce</td>\n",
              "      <td>5</td>\n",
              "      <td>Super adooorei o delineador ele é bem preto e ...</td>\n",
              "    </tr>\n",
              "    <tr>\n",
              "      <th>1</th>\n",
              "      <td>3aa071139cb16b67ca9e5dea641aaa2f</td>\n",
              "      <td>artes</td>\n",
              "      <td>5236307716393b7114b53ee991f36956</td>\n",
              "      <td>5</td>\n",
              "      <td>Excelente apontador! Em 3 segundos uma ponta p...</td>\n",
              "    </tr>\n",
              "    <tr>\n",
              "      <th>2</th>\n",
              "      <td>96bd76ec8810374ed1b65e291975717f</td>\n",
              "      <td>esporte_lazer</td>\n",
              "      <td>01f66e58769f84129811d43eefd187fb</td>\n",
              "      <td>5</td>\n",
              "      <td>NaN</td>\n",
              "    </tr>\n",
              "    <tr>\n",
              "      <th>3</th>\n",
              "      <td>cef67bcfe19066a932b7673e239eb23d</td>\n",
              "      <td>bebes</td>\n",
              "      <td>143d00a4f2dde4e0364ee1821577adb3</td>\n",
              "      <td>1</td>\n",
              "      <td>modelo comprado: travesseiro memoria carinho B...</td>\n",
              "    </tr>\n",
              "    <tr>\n",
              "      <th>4</th>\n",
              "      <td>9dc1a7de274444849c219cff195d0b71</td>\n",
              "      <td>utilidades_domesticas</td>\n",
              "      <td>86cafb8794cb99a9b1b77fc8e48fbbbb</td>\n",
              "      <td>5</td>\n",
              "      <td>NaN</td>\n",
              "    </tr>\n",
              "  </tbody>\n",
              "</table>\n",
              "</div>"
            ],
            "text/plain": [
              "                         product_id  ...                             review_comment_message\n",
              "0  1e9e8ef04dbcff4541ed26657ea517e5  ...  Super adooorei o delineador ele é bem preto e ...\n",
              "1  3aa071139cb16b67ca9e5dea641aaa2f  ...  Excelente apontador! Em 3 segundos uma ponta p...\n",
              "2  96bd76ec8810374ed1b65e291975717f  ...                                                NaN\n",
              "3  cef67bcfe19066a932b7673e239eb23d  ...  modelo comprado: travesseiro memoria carinho B...\n",
              "4  9dc1a7de274444849c219cff195d0b71  ...                                                NaN\n",
              "\n",
              "[5 rows x 5 columns]"
            ]
          },
          "metadata": {
            "tags": []
          },
          "execution_count": 29
        }
      ]
    },
    {
      "cell_type": "code",
      "metadata": {
        "id": "bd6c4149",
        "colab": {
          "base_uri": "https://localhost:8080/",
          "height": 235
        },
        "outputId": "8e02c94d-3660-4ec4-ee63-53434a2e0a80"
      },
      "source": [
        "review_count = pd.DataFrame(comb_product_review.groupby('product_category_name')['review_score'].count())\n",
        "review_count.sort_values('review_score', ascending=False).head()"
      ],
      "id": "bd6c4149",
      "execution_count": 30,
      "outputs": [
        {
          "output_type": "execute_result",
          "data": {
            "text/html": [
              "<div>\n",
              "<style scoped>\n",
              "    .dataframe tbody tr th:only-of-type {\n",
              "        vertical-align: middle;\n",
              "    }\n",
              "\n",
              "    .dataframe tbody tr th {\n",
              "        vertical-align: top;\n",
              "    }\n",
              "\n",
              "    .dataframe thead th {\n",
              "        text-align: right;\n",
              "    }\n",
              "</style>\n",
              "<table border=\"1\" class=\"dataframe\">\n",
              "  <thead>\n",
              "    <tr style=\"text-align: right;\">\n",
              "      <th></th>\n",
              "      <th>review_score</th>\n",
              "    </tr>\n",
              "    <tr>\n",
              "      <th>product_category_name</th>\n",
              "      <th></th>\n",
              "    </tr>\n",
              "  </thead>\n",
              "  <tbody>\n",
              "    <tr>\n",
              "      <th>cama_mesa_banho</th>\n",
              "      <td>11272</td>\n",
              "    </tr>\n",
              "    <tr>\n",
              "      <th>beleza_saude</th>\n",
              "      <td>9728</td>\n",
              "    </tr>\n",
              "    <tr>\n",
              "      <th>esporte_lazer</th>\n",
              "      <td>8701</td>\n",
              "    </tr>\n",
              "    <tr>\n",
              "      <th>moveis_decoracao</th>\n",
              "      <td>8416</td>\n",
              "    </tr>\n",
              "    <tr>\n",
              "      <th>informatica_acessorios</th>\n",
              "      <td>7895</td>\n",
              "    </tr>\n",
              "  </tbody>\n",
              "</table>\n",
              "</div>"
            ],
            "text/plain": [
              "                        review_score\n",
              "product_category_name               \n",
              "cama_mesa_banho                11272\n",
              "beleza_saude                    9728\n",
              "esporte_lazer                   8701\n",
              "moveis_decoracao                8416\n",
              "informatica_acessorios          7895"
            ]
          },
          "metadata": {
            "tags": []
          },
          "execution_count": 30
        }
      ]
    },
    {
      "cell_type": "markdown",
      "metadata": {
        "id": "18e79bd8"
      },
      "source": [
        "#### Conclusion : These are the top 5 products with highest review score and so we can recommend these ones. Best recommended technique when completely new user visits an e-commerce site, that site will not have any past history\n"
      ],
      "id": "18e79bd8"
    },
    {
      "cell_type": "markdown",
      "metadata": {
        "id": "6a22dfd9"
      },
      "source": [
        "### KNN collaborative method\n",
        "\n",
        "The collaborative filtering algorithm uses “User Behavior” for recommending items.\n",
        "\n",
        "kNN is a machine learning algorithm to find clusters of similar users based on ratings, and make predictions using the average rating of top-k nearest neighbors. For example, we first present ratings in a matrix with the matrix having one row for each item and one column for each user location\n"
      ],
      "id": "6a22dfd9"
    },
    {
      "cell_type": "code",
      "metadata": {
        "id": "c6ad9a97"
      },
      "source": [
        "comb_product_review = comb_product_review[comb_product_review.review_score >= 3]"
      ],
      "id": "c6ad9a97",
      "execution_count": 33,
      "outputs": []
    },
    {
      "cell_type": "code",
      "metadata": {
        "id": "7df199ad"
      },
      "source": [
        "prod_order_review = pd.merge(comb_product_review, orders , on = 'order_id')"
      ],
      "id": "7df199ad",
      "execution_count": 34,
      "outputs": []
    },
    {
      "cell_type": "code",
      "metadata": {
        "colab": {
          "base_uri": "https://localhost:8080/",
          "height": 204
        },
        "id": "ZFyy0BxXyxah",
        "outputId": "12a89260-835d-40f1-d078-5962c299dfc3"
      },
      "source": [
        "customers.head()"
      ],
      "id": "ZFyy0BxXyxah",
      "execution_count": 40,
      "outputs": [
        {
          "output_type": "execute_result",
          "data": {
            "text/html": [
              "<div>\n",
              "<style scoped>\n",
              "    .dataframe tbody tr th:only-of-type {\n",
              "        vertical-align: middle;\n",
              "    }\n",
              "\n",
              "    .dataframe tbody tr th {\n",
              "        vertical-align: top;\n",
              "    }\n",
              "\n",
              "    .dataframe thead th {\n",
              "        text-align: right;\n",
              "    }\n",
              "</style>\n",
              "<table border=\"1\" class=\"dataframe\">\n",
              "  <thead>\n",
              "    <tr style=\"text-align: right;\">\n",
              "      <th></th>\n",
              "      <th>customer_id</th>\n",
              "      <th>customer_zip_code_prefix</th>\n",
              "      <th>customer_city</th>\n",
              "    </tr>\n",
              "  </thead>\n",
              "  <tbody>\n",
              "    <tr>\n",
              "      <th>0</th>\n",
              "      <td>06b8999e2fba1a1fbc88172c00ba8bc7</td>\n",
              "      <td>14409</td>\n",
              "      <td>franca</td>\n",
              "    </tr>\n",
              "    <tr>\n",
              "      <th>1</th>\n",
              "      <td>18955e83d337fd6b2def6b18a428ac77</td>\n",
              "      <td>9790</td>\n",
              "      <td>sao bernardo do campo</td>\n",
              "    </tr>\n",
              "    <tr>\n",
              "      <th>2</th>\n",
              "      <td>4e7b3e00288586ebd08712fdd0374a03</td>\n",
              "      <td>1151</td>\n",
              "      <td>sao paulo</td>\n",
              "    </tr>\n",
              "    <tr>\n",
              "      <th>3</th>\n",
              "      <td>b2b6027bc5c5109e529d4dc6358b12c3</td>\n",
              "      <td>8775</td>\n",
              "      <td>mogi das cruzes</td>\n",
              "    </tr>\n",
              "    <tr>\n",
              "      <th>4</th>\n",
              "      <td>4f2d8ab171c80ec8364f7c12e35b23ad</td>\n",
              "      <td>13056</td>\n",
              "      <td>campinas</td>\n",
              "    </tr>\n",
              "  </tbody>\n",
              "</table>\n",
              "</div>"
            ],
            "text/plain": [
              "                        customer_id  ...          customer_city\n",
              "0  06b8999e2fba1a1fbc88172c00ba8bc7  ...                 franca\n",
              "1  18955e83d337fd6b2def6b18a428ac77  ...  sao bernardo do campo\n",
              "2  4e7b3e00288586ebd08712fdd0374a03  ...              sao paulo\n",
              "3  b2b6027bc5c5109e529d4dc6358b12c3  ...        mogi das cruzes\n",
              "4  4f2d8ab171c80ec8364f7c12e35b23ad  ...               campinas\n",
              "\n",
              "[5 rows x 3 columns]"
            ]
          },
          "metadata": {
            "tags": []
          },
          "execution_count": 40
        }
      ]
    },
    {
      "cell_type": "code",
      "metadata": {
        "id": "81a742a1"
      },
      "source": [
        "cust_location = pd.merge(customers, location, left_on='customer_zip_code_prefix', right_on='geolocation_zip_code_prefix')"
      ],
      "id": "81a742a1",
      "execution_count": 43,
      "outputs": []
    },
    {
      "cell_type": "code",
      "metadata": {
        "id": "7cf09b56",
        "colab": {
          "base_uri": "https://localhost:8080/",
          "height": 204
        },
        "outputId": "55ed7664-8a0b-4245-870d-9d5346d8b755"
      },
      "source": [
        "cust_location.head(5)"
      ],
      "id": "7cf09b56",
      "execution_count": 44,
      "outputs": [
        {
          "output_type": "execute_result",
          "data": {
            "text/html": [
              "<div>\n",
              "<style scoped>\n",
              "    .dataframe tbody tr th:only-of-type {\n",
              "        vertical-align: middle;\n",
              "    }\n",
              "\n",
              "    .dataframe tbody tr th {\n",
              "        vertical-align: top;\n",
              "    }\n",
              "\n",
              "    .dataframe thead th {\n",
              "        text-align: right;\n",
              "    }\n",
              "</style>\n",
              "<table border=\"1\" class=\"dataframe\">\n",
              "  <thead>\n",
              "    <tr style=\"text-align: right;\">\n",
              "      <th></th>\n",
              "      <th>customer_id</th>\n",
              "      <th>customer_zip_code_prefix</th>\n",
              "      <th>customer_city</th>\n",
              "      <th>geolocation_zip_code_prefix</th>\n",
              "    </tr>\n",
              "  </thead>\n",
              "  <tbody>\n",
              "    <tr>\n",
              "      <th>0</th>\n",
              "      <td>06b8999e2fba1a1fbc88172c00ba8bc7</td>\n",
              "      <td>14409</td>\n",
              "      <td>franca</td>\n",
              "      <td>14409</td>\n",
              "    </tr>\n",
              "    <tr>\n",
              "      <th>1</th>\n",
              "      <td>06b8999e2fba1a1fbc88172c00ba8bc7</td>\n",
              "      <td>14409</td>\n",
              "      <td>franca</td>\n",
              "      <td>14409</td>\n",
              "    </tr>\n",
              "    <tr>\n",
              "      <th>2</th>\n",
              "      <td>06b8999e2fba1a1fbc88172c00ba8bc7</td>\n",
              "      <td>14409</td>\n",
              "      <td>franca</td>\n",
              "      <td>14409</td>\n",
              "    </tr>\n",
              "    <tr>\n",
              "      <th>3</th>\n",
              "      <td>06b8999e2fba1a1fbc88172c00ba8bc7</td>\n",
              "      <td>14409</td>\n",
              "      <td>franca</td>\n",
              "      <td>14409</td>\n",
              "    </tr>\n",
              "    <tr>\n",
              "      <th>4</th>\n",
              "      <td>06b8999e2fba1a1fbc88172c00ba8bc7</td>\n",
              "      <td>14409</td>\n",
              "      <td>franca</td>\n",
              "      <td>14409</td>\n",
              "    </tr>\n",
              "  </tbody>\n",
              "</table>\n",
              "</div>"
            ],
            "text/plain": [
              "                        customer_id  ...  geolocation_zip_code_prefix\n",
              "0  06b8999e2fba1a1fbc88172c00ba8bc7  ...                        14409\n",
              "1  06b8999e2fba1a1fbc88172c00ba8bc7  ...                        14409\n",
              "2  06b8999e2fba1a1fbc88172c00ba8bc7  ...                        14409\n",
              "3  06b8999e2fba1a1fbc88172c00ba8bc7  ...                        14409\n",
              "4  06b8999e2fba1a1fbc88172c00ba8bc7  ...                        14409\n",
              "\n",
              "[5 rows x 4 columns]"
            ]
          },
          "metadata": {
            "tags": []
          },
          "execution_count": 44
        }
      ]
    },
    {
      "cell_type": "code",
      "metadata": {
        "id": "9eeec582"
      },
      "source": [
        "cust_prod_location = pd.merge (prod_order_review, cust_location, on = 'customer_id' )"
      ],
      "id": "9eeec582",
      "execution_count": 45,
      "outputs": []
    },
    {
      "cell_type": "code",
      "metadata": {
        "id": "42508597",
        "colab": {
          "base_uri": "https://localhost:8080/"
        },
        "outputId": "0449595d-9cf9-4fe9-8ddd-48f9d981f7df"
      },
      "source": [
        "print(cust_prod_location['review_score'].quantile(np.arange(.9,1,.01)))"
      ],
      "id": "42508597",
      "execution_count": 46,
      "outputs": [
        {
          "output_type": "stream",
          "text": [
            "0.90    5.0\n",
            "0.91    5.0\n",
            "0.92    5.0\n",
            "0.93    5.0\n",
            "0.94    5.0\n",
            "0.95    5.0\n",
            "0.96    5.0\n",
            "0.97    5.0\n",
            "0.98    5.0\n",
            "0.99    5.0\n",
            "Name: review_score, dtype: float64\n"
          ],
          "name": "stdout"
        }
      ]
    },
    {
      "cell_type": "code",
      "metadata": {
        "id": "4bf95057"
      },
      "source": [
        "from scipy.sparse import csr_matrix\n",
        "\n",
        "location_user_rating = cust_prod_location.drop_duplicates(['customer_zip_code_prefix', 'product_category_name'])\n",
        "\n",
        "location_user_rating_pivot = location_user_rating.pivot(index = 'product_category_name', columns = 'customer_zip_code_prefix', values = 'review_score').fillna(0)\n",
        "\n",
        "location_user_rating_matrix = csr_matrix(location_user_rating_pivot.values)"
      ],
      "id": "4bf95057",
      "execution_count": 47,
      "outputs": []
    },
    {
      "cell_type": "code",
      "metadata": {
        "colab": {
          "base_uri": "https://localhost:8080/",
          "height": 390
        },
        "id": "mBkaAS1M0H7O",
        "outputId": "7884f30a-338b-479c-8765-e2e420019491"
      },
      "source": [
        "location_user_rating_pivot.sample(10).iloc[:,:10]"
      ],
      "id": "mBkaAS1M0H7O",
      "execution_count": 54,
      "outputs": [
        {
          "output_type": "execute_result",
          "data": {
            "text/html": [
              "<div>\n",
              "<style scoped>\n",
              "    .dataframe tbody tr th:only-of-type {\n",
              "        vertical-align: middle;\n",
              "    }\n",
              "\n",
              "    .dataframe tbody tr th {\n",
              "        vertical-align: top;\n",
              "    }\n",
              "\n",
              "    .dataframe thead th {\n",
              "        text-align: right;\n",
              "    }\n",
              "</style>\n",
              "<table border=\"1\" class=\"dataframe\">\n",
              "  <thead>\n",
              "    <tr style=\"text-align: right;\">\n",
              "      <th>customer_zip_code_prefix</th>\n",
              "      <th>1003</th>\n",
              "      <th>1004</th>\n",
              "      <th>1005</th>\n",
              "      <th>1006</th>\n",
              "      <th>1007</th>\n",
              "      <th>1008</th>\n",
              "      <th>1009</th>\n",
              "      <th>1011</th>\n",
              "      <th>1012</th>\n",
              "      <th>1013</th>\n",
              "    </tr>\n",
              "    <tr>\n",
              "      <th>product_category_name</th>\n",
              "      <th></th>\n",
              "      <th></th>\n",
              "      <th></th>\n",
              "      <th></th>\n",
              "      <th></th>\n",
              "      <th></th>\n",
              "      <th></th>\n",
              "      <th></th>\n",
              "      <th></th>\n",
              "      <th></th>\n",
              "    </tr>\n",
              "  </thead>\n",
              "  <tbody>\n",
              "    <tr>\n",
              "      <th>construcao_ferramentas_iluminacao</th>\n",
              "      <td>0.0</td>\n",
              "      <td>0.0</td>\n",
              "      <td>0.0</td>\n",
              "      <td>0.0</td>\n",
              "      <td>0.0</td>\n",
              "      <td>0.0</td>\n",
              "      <td>0.0</td>\n",
              "      <td>0.0</td>\n",
              "      <td>0.0</td>\n",
              "      <td>0.0</td>\n",
              "    </tr>\n",
              "    <tr>\n",
              "      <th>perfumaria</th>\n",
              "      <td>0.0</td>\n",
              "      <td>4.0</td>\n",
              "      <td>0.0</td>\n",
              "      <td>0.0</td>\n",
              "      <td>5.0</td>\n",
              "      <td>0.0</td>\n",
              "      <td>5.0</td>\n",
              "      <td>5.0</td>\n",
              "      <td>0.0</td>\n",
              "      <td>0.0</td>\n",
              "    </tr>\n",
              "    <tr>\n",
              "      <th>ferramentas_jardim</th>\n",
              "      <td>0.0</td>\n",
              "      <td>0.0</td>\n",
              "      <td>0.0</td>\n",
              "      <td>0.0</td>\n",
              "      <td>0.0</td>\n",
              "      <td>0.0</td>\n",
              "      <td>0.0</td>\n",
              "      <td>0.0</td>\n",
              "      <td>0.0</td>\n",
              "      <td>0.0</td>\n",
              "    </tr>\n",
              "    <tr>\n",
              "      <th>fashion_bolsas_e_acessorios</th>\n",
              "      <td>0.0</td>\n",
              "      <td>0.0</td>\n",
              "      <td>0.0</td>\n",
              "      <td>0.0</td>\n",
              "      <td>0.0</td>\n",
              "      <td>0.0</td>\n",
              "      <td>0.0</td>\n",
              "      <td>0.0</td>\n",
              "      <td>0.0</td>\n",
              "      <td>0.0</td>\n",
              "    </tr>\n",
              "    <tr>\n",
              "      <th>pet_shop</th>\n",
              "      <td>0.0</td>\n",
              "      <td>0.0</td>\n",
              "      <td>0.0</td>\n",
              "      <td>0.0</td>\n",
              "      <td>0.0</td>\n",
              "      <td>0.0</td>\n",
              "      <td>0.0</td>\n",
              "      <td>0.0</td>\n",
              "      <td>0.0</td>\n",
              "      <td>0.0</td>\n",
              "    </tr>\n",
              "    <tr>\n",
              "      <th>eletrodomesticos</th>\n",
              "      <td>0.0</td>\n",
              "      <td>0.0</td>\n",
              "      <td>0.0</td>\n",
              "      <td>0.0</td>\n",
              "      <td>0.0</td>\n",
              "      <td>0.0</td>\n",
              "      <td>0.0</td>\n",
              "      <td>0.0</td>\n",
              "      <td>0.0</td>\n",
              "      <td>0.0</td>\n",
              "    </tr>\n",
              "    <tr>\n",
              "      <th>moveis_cozinha_area_de_servico_jantar_e_jardim</th>\n",
              "      <td>0.0</td>\n",
              "      <td>0.0</td>\n",
              "      <td>0.0</td>\n",
              "      <td>0.0</td>\n",
              "      <td>0.0</td>\n",
              "      <td>0.0</td>\n",
              "      <td>0.0</td>\n",
              "      <td>0.0</td>\n",
              "      <td>0.0</td>\n",
              "      <td>0.0</td>\n",
              "    </tr>\n",
              "    <tr>\n",
              "      <th>livros_tecnicos</th>\n",
              "      <td>0.0</td>\n",
              "      <td>0.0</td>\n",
              "      <td>0.0</td>\n",
              "      <td>0.0</td>\n",
              "      <td>0.0</td>\n",
              "      <td>0.0</td>\n",
              "      <td>0.0</td>\n",
              "      <td>0.0</td>\n",
              "      <td>0.0</td>\n",
              "      <td>0.0</td>\n",
              "    </tr>\n",
              "    <tr>\n",
              "      <th>malas_acessorios</th>\n",
              "      <td>0.0</td>\n",
              "      <td>0.0</td>\n",
              "      <td>0.0</td>\n",
              "      <td>0.0</td>\n",
              "      <td>0.0</td>\n",
              "      <td>0.0</td>\n",
              "      <td>0.0</td>\n",
              "      <td>0.0</td>\n",
              "      <td>0.0</td>\n",
              "      <td>0.0</td>\n",
              "    </tr>\n",
              "    <tr>\n",
              "      <th>instrumentos_musicais</th>\n",
              "      <td>0.0</td>\n",
              "      <td>0.0</td>\n",
              "      <td>0.0</td>\n",
              "      <td>0.0</td>\n",
              "      <td>0.0</td>\n",
              "      <td>0.0</td>\n",
              "      <td>0.0</td>\n",
              "      <td>0.0</td>\n",
              "      <td>0.0</td>\n",
              "      <td>0.0</td>\n",
              "    </tr>\n",
              "  </tbody>\n",
              "</table>\n",
              "</div>"
            ],
            "text/plain": [
              "customer_zip_code_prefix                        1003  1004  ...  1012  1013\n",
              "product_category_name                                       ...            \n",
              "construcao_ferramentas_iluminacao                0.0   0.0  ...   0.0   0.0\n",
              "perfumaria                                       0.0   4.0  ...   0.0   0.0\n",
              "ferramentas_jardim                               0.0   0.0  ...   0.0   0.0\n",
              "fashion_bolsas_e_acessorios                      0.0   0.0  ...   0.0   0.0\n",
              "pet_shop                                         0.0   0.0  ...   0.0   0.0\n",
              "eletrodomesticos                                 0.0   0.0  ...   0.0   0.0\n",
              "moveis_cozinha_area_de_servico_jantar_e_jardim   0.0   0.0  ...   0.0   0.0\n",
              "livros_tecnicos                                  0.0   0.0  ...   0.0   0.0\n",
              "malas_acessorios                                 0.0   0.0  ...   0.0   0.0\n",
              "instrumentos_musicais                            0.0   0.0  ...   0.0   0.0\n",
              "\n",
              "[10 rows x 10 columns]"
            ]
          },
          "metadata": {
            "tags": []
          },
          "execution_count": 54
        }
      ]
    },
    {
      "cell_type": "code",
      "metadata": {
        "id": "ab057802",
        "colab": {
          "base_uri": "https://localhost:8080/"
        },
        "outputId": "f29581a5-57f6-4de1-fbf4-968769b596d7"
      },
      "source": [
        "from sklearn.neighbors import NearestNeighbors\n",
        "\n",
        "model_knn = NearestNeighbors(metric = 'cosine', algorithm = 'brute')\n",
        "\n",
        "model_knn.fit(location_user_rating_matrix)"
      ],
      "id": "ab057802",
      "execution_count": 48,
      "outputs": [
        {
          "output_type": "execute_result",
          "data": {
            "text/plain": [
              "NearestNeighbors(algorithm='brute', leaf_size=30, metric='cosine',\n",
              "                 metric_params=None, n_jobs=None, n_neighbors=5, p=2,\n",
              "                 radius=1.0)"
            ]
          },
          "metadata": {
            "tags": []
          },
          "execution_count": 48
        }
      ]
    },
    {
      "cell_type": "code",
      "metadata": {
        "id": "2677cc21",
        "colab": {
          "base_uri": "https://localhost:8080/"
        },
        "outputId": "bef27ef0-2d28-475b-c3d5-4d83e68a502d"
      },
      "source": [
        "query_index = np.random.choice(location_user_rating_pivot.shape[0])\n",
        "print(query_index)\n",
        "distances, indices = model_knn.kneighbors(location_user_rating_pivot.iloc[query_index,:].values.reshape(1, -1), n_neighbors = 6)"
      ],
      "id": "2677cc21",
      "execution_count": 49,
      "outputs": [
        {
          "output_type": "stream",
          "text": [
            "12\n"
          ],
          "name": "stdout"
        }
      ]
    },
    {
      "cell_type": "code",
      "metadata": {
        "id": "049229c9",
        "colab": {
          "base_uri": "https://localhost:8080/",
          "height": 35
        },
        "outputId": "4130fb50-2d9e-4f53-c168-b59a1c56e5a2"
      },
      "source": [
        "location_user_rating_pivot.index[query_index]"
      ],
      "id": "049229c9",
      "execution_count": 50,
      "outputs": [
        {
          "output_type": "execute_result",
          "data": {
            "application/vnd.google.colaboratory.intrinsic+json": {
              "type": "string"
            },
            "text/plain": [
              "'beleza_saude'"
            ]
          },
          "metadata": {
            "tags": []
          },
          "execution_count": 50
        }
      ]
    },
    {
      "cell_type": "code",
      "metadata": {
        "id": "fa75a03b",
        "colab": {
          "base_uri": "https://localhost:8080/"
        },
        "outputId": "17145e67-bbfd-4707-8781-d868bc5bc6b7"
      },
      "source": [
        "for i in range(0, len(distances.flatten())):\n",
        "    if i == 0:\n",
        "        print('Recommendations for {0}:\\n'.format(location_user_rating_pivot.index[query_index]))\n",
        "    else:\n",
        "        print('{0}: {1}, with distance of {2}:'.format(i, location_user_rating_pivot.index[indices.flatten()[i]], distances.flatten()[i]))"
      ],
      "id": "fa75a03b",
      "execution_count": 51,
      "outputs": [
        {
          "output_type": "stream",
          "text": [
            "Recommendations for beleza_saude:\n",
            "\n",
            "1: cama_mesa_banho, with distance of 0.5518436931335353:\n",
            "2: esporte_lazer, with distance of 0.5619968142285134:\n",
            "3: utilidades_domesticas, with distance of 0.584788746517453:\n",
            "4: informatica_acessorios, with distance of 0.58869735760611:\n",
            "5: moveis_decoracao, with distance of 0.5935567058997615:\n"
          ],
          "name": "stdout"
        }
      ]
    },
    {
      "cell_type": "markdown",
      "metadata": {
        "id": "e3d91cd3"
      },
      "source": [
        "### Recommendation based on sentiment analysis of Review message"
      ],
      "id": "e3d91cd3"
    },
    {
      "cell_type": "code",
      "metadata": {
        "id": "c66b0ef5",
        "colab": {
          "base_uri": "https://localhost:8080/",
          "height": 490
        },
        "outputId": "14879ece-22cd-4a59-f41c-306ff5c69b5d"
      },
      "source": [
        "prod_order_review"
      ],
      "id": "c66b0ef5",
      "execution_count": 55,
      "outputs": [
        {
          "output_type": "execute_result",
          "data": {
            "text/html": [
              "<div>\n",
              "<style scoped>\n",
              "    .dataframe tbody tr th:only-of-type {\n",
              "        vertical-align: middle;\n",
              "    }\n",
              "\n",
              "    .dataframe tbody tr th {\n",
              "        vertical-align: top;\n",
              "    }\n",
              "\n",
              "    .dataframe thead th {\n",
              "        text-align: right;\n",
              "    }\n",
              "</style>\n",
              "<table border=\"1\" class=\"dataframe\">\n",
              "  <thead>\n",
              "    <tr style=\"text-align: right;\">\n",
              "      <th></th>\n",
              "      <th>product_id</th>\n",
              "      <th>product_category_name</th>\n",
              "      <th>order_id</th>\n",
              "      <th>review_score</th>\n",
              "      <th>review_comment_message</th>\n",
              "      <th>customer_id</th>\n",
              "    </tr>\n",
              "  </thead>\n",
              "  <tbody>\n",
              "    <tr>\n",
              "      <th>0</th>\n",
              "      <td>1e9e8ef04dbcff4541ed26657ea517e5</td>\n",
              "      <td>perfumaria</td>\n",
              "      <td>e17e4f88e31525f7deef66779844ddce</td>\n",
              "      <td>5</td>\n",
              "      <td>Super adooorei o delineador ele é bem preto e ...</td>\n",
              "      <td>f8a3e963a310aa58b60a5b1fed5bceb5</td>\n",
              "    </tr>\n",
              "    <tr>\n",
              "      <th>1</th>\n",
              "      <td>3aa071139cb16b67ca9e5dea641aaa2f</td>\n",
              "      <td>artes</td>\n",
              "      <td>5236307716393b7114b53ee991f36956</td>\n",
              "      <td>5</td>\n",
              "      <td>Excelente apontador! Em 3 segundos uma ponta p...</td>\n",
              "      <td>03fc97548af8f58fefc768d12b546c9c</td>\n",
              "    </tr>\n",
              "    <tr>\n",
              "      <th>2</th>\n",
              "      <td>96bd76ec8810374ed1b65e291975717f</td>\n",
              "      <td>esporte_lazer</td>\n",
              "      <td>01f66e58769f84129811d43eefd187fb</td>\n",
              "      <td>5</td>\n",
              "      <td>NaN</td>\n",
              "      <td>e41819d1c95c12c9ce495b630eab8aee</td>\n",
              "    </tr>\n",
              "    <tr>\n",
              "      <th>3</th>\n",
              "      <td>9dc1a7de274444849c219cff195d0b71</td>\n",
              "      <td>utilidades_domesticas</td>\n",
              "      <td>86cafb8794cb99a9b1b77fc8e48fbbbb</td>\n",
              "      <td>5</td>\n",
              "      <td>NaN</td>\n",
              "      <td>c11c31965ff02cc1d7132df8edfcbc22</td>\n",
              "    </tr>\n",
              "    <tr>\n",
              "      <th>4</th>\n",
              "      <td>41d3672d4792049fa1779bb35283ed13</td>\n",
              "      <td>instrumentos_musicais</td>\n",
              "      <td>c214058828b43a44f352b56ff2d5c0a5</td>\n",
              "      <td>5</td>\n",
              "      <td>NaN</td>\n",
              "      <td>3f3a10ec410c8efb0ca799fa7705d07e</td>\n",
              "    </tr>\n",
              "    <tr>\n",
              "      <th>...</th>\n",
              "      <td>...</td>\n",
              "      <td>...</td>\n",
              "      <td>...</td>\n",
              "      <td>...</td>\n",
              "      <td>...</td>\n",
              "      <td>...</td>\n",
              "    </tr>\n",
              "    <tr>\n",
              "      <th>94546</th>\n",
              "      <td>83808703fc0706a22e264b9d75f04a2e</td>\n",
              "      <td>informatica_acessorios</td>\n",
              "      <td>59e88b7d3675e89aceaf86f372d3bc9a</td>\n",
              "      <td>4</td>\n",
              "      <td>Bom</td>\n",
              "      <td>e750210dde7e68dbd5194c0809e97f7e</td>\n",
              "    </tr>\n",
              "    <tr>\n",
              "      <th>94547</th>\n",
              "      <td>83808703fc0706a22e264b9d75f04a2e</td>\n",
              "      <td>informatica_acessorios</td>\n",
              "      <td>6e4465d771f02e4fe335225de3c6c043</td>\n",
              "      <td>5</td>\n",
              "      <td>NaN</td>\n",
              "      <td>0f139d1b208a62a37671423e5eff5016</td>\n",
              "    </tr>\n",
              "    <tr>\n",
              "      <th>94548</th>\n",
              "      <td>83808703fc0706a22e264b9d75f04a2e</td>\n",
              "      <td>informatica_acessorios</td>\n",
              "      <td>6e4465d771f02e4fe335225de3c6c043</td>\n",
              "      <td>5</td>\n",
              "      <td>NaN</td>\n",
              "      <td>0f139d1b208a62a37671423e5eff5016</td>\n",
              "    </tr>\n",
              "    <tr>\n",
              "      <th>94549</th>\n",
              "      <td>83808703fc0706a22e264b9d75f04a2e</td>\n",
              "      <td>informatica_acessorios</td>\n",
              "      <td>6e4465d771f02e4fe335225de3c6c043</td>\n",
              "      <td>5</td>\n",
              "      <td>NaN</td>\n",
              "      <td>0f139d1b208a62a37671423e5eff5016</td>\n",
              "    </tr>\n",
              "    <tr>\n",
              "      <th>94550</th>\n",
              "      <td>106392145fca363410d287a815be6de4</td>\n",
              "      <td>cama_mesa_banho</td>\n",
              "      <td>f3a47ba087f05d39a74ed1b653f0be1b</td>\n",
              "      <td>5</td>\n",
              "      <td>Recomendo !!</td>\n",
              "      <td>b7fbfcea57659b5d18c20c95db45e908</td>\n",
              "    </tr>\n",
              "  </tbody>\n",
              "</table>\n",
              "<p>94551 rows × 6 columns</p>\n",
              "</div>"
            ],
            "text/plain": [
              "                             product_id  ...                       customer_id\n",
              "0      1e9e8ef04dbcff4541ed26657ea517e5  ...  f8a3e963a310aa58b60a5b1fed5bceb5\n",
              "1      3aa071139cb16b67ca9e5dea641aaa2f  ...  03fc97548af8f58fefc768d12b546c9c\n",
              "2      96bd76ec8810374ed1b65e291975717f  ...  e41819d1c95c12c9ce495b630eab8aee\n",
              "3      9dc1a7de274444849c219cff195d0b71  ...  c11c31965ff02cc1d7132df8edfcbc22\n",
              "4      41d3672d4792049fa1779bb35283ed13  ...  3f3a10ec410c8efb0ca799fa7705d07e\n",
              "...                                 ...  ...                               ...\n",
              "94546  83808703fc0706a22e264b9d75f04a2e  ...  e750210dde7e68dbd5194c0809e97f7e\n",
              "94547  83808703fc0706a22e264b9d75f04a2e  ...  0f139d1b208a62a37671423e5eff5016\n",
              "94548  83808703fc0706a22e264b9d75f04a2e  ...  0f139d1b208a62a37671423e5eff5016\n",
              "94549  83808703fc0706a22e264b9d75f04a2e  ...  0f139d1b208a62a37671423e5eff5016\n",
              "94550  106392145fca363410d287a815be6de4  ...  b7fbfcea57659b5d18c20c95db45e908\n",
              "\n",
              "[94551 rows x 6 columns]"
            ]
          },
          "metadata": {
            "tags": []
          },
          "execution_count": 55
        }
      ]
    },
    {
      "cell_type": "code",
      "metadata": {
        "id": "299131dc"
      },
      "source": [
        "prod_order_review.dropna(subset = [\"review_comment_message\"], inplace=True)"
      ],
      "id": "299131dc",
      "execution_count": 56,
      "outputs": []
    },
    {
      "cell_type": "code",
      "metadata": {
        "id": "de868c15"
      },
      "source": [
        "final = prod_order_review[['product_category_name','review_comment_message']]"
      ],
      "id": "de868c15",
      "execution_count": 57,
      "outputs": []
    },
    {
      "cell_type": "code",
      "metadata": {
        "id": "61d43e5f"
      },
      "source": [
        "pd.set_option('mode.chained_assignment', None)\n",
        "\n",
        "# Convert to list\n",
        "final['data'] = final['review_comment_message'].to_list()"
      ],
      "id": "61d43e5f",
      "execution_count": 58,
      "outputs": []
    },
    {
      "cell_type": "code",
      "metadata": {
        "id": "064a84ff"
      },
      "source": [
        "# Pre-processing steps for data\n",
        "\n",
        "final['data'] = [re.sub('\\s*@\\s*\\s?', ' ', str(sent)) for sent in final['data']]\n",
        "\n",
        "final['data'] = [re.sub('\\?', ' ', str(sent)) for sent in final['data']]\n",
        "\n",
        "final['data'] = [re.sub('\\_', ' ', str(sent)) for sent in final['data']]\n",
        "\n",
        "final['data'] = [re.sub('@\"[\\d-]\"', ' ', str(sent)) for sent in final['data']]\n",
        "\n",
        "# Remove new line characters\n",
        "final['data'] = [re.sub('\\s+', ' ', str(sent)) for sent in final['data']]\n",
        "\n",
        "# Remove distracting single quotes\n",
        "final['data'] = [re.sub(\"\\'\", \" \", str(sent)) for sent in final['data']]\n",
        "\n",
        "#Converting into lowercase\n",
        "final['data']=final['data'].str.lower()\n"
      ],
      "id": "064a84ff",
      "execution_count": 59,
      "outputs": []
    },
    {
      "cell_type": "code",
      "metadata": {
        "id": "vQ5QZOPL2-Vf"
      },
      "source": [
        "bloblist_desc = list()\n",
        "\n",
        "df_comments= final['data'].astype(str)\n",
        "\n",
        "for row in df_comments:\n",
        "    blob = TextBlob(row)\n",
        "    bloblist_desc.append((row,blob.sentiment.polarity, blob.sentiment.subjectivity))\n",
        "    df_comments_polarity_desc = pd.DataFrame(bloblist_desc, columns = ['review_comment_message','sentiment','polarity'])\n",
        " \n",
        "def f(df_comments_polarity_desc):\n",
        "    if df_comments_polarity_desc['sentiment'] > 0:\n",
        "        val = \"Positive\"\n",
        "    elif df_comments_polarity_desc['sentiment'] == 0:\n",
        "        val = \"Neutral\"\n",
        "    else:\n",
        "        val = \"Negative\"\n",
        "    return val\n",
        "\n",
        "df_comments_polarity_desc['Sentiment_Type'] = df_comments_polarity_desc.apply(f, axis=1)"
      ],
      "id": "vQ5QZOPL2-Vf",
      "execution_count": null,
      "outputs": []
    },
    {
      "cell_type": "code",
      "metadata": {
        "id": "bc91a307",
        "colab": {
          "base_uri": "https://localhost:8080/",
          "height": 335
        },
        "outputId": "cd98625c-e51a-4ad7-fe74-af7108b2acc3"
      },
      "source": [
        "plt.figure(figsize=(5,5))\n",
        "sns.set_style(\"whitegrid\")\n",
        "ax = sns.countplot(x=\"Sentiment_Type\", data = df_comments_polarity_desc)"
      ],
      "id": "bc91a307",
      "execution_count": 61,
      "outputs": [
        {
          "output_type": "display_data",
          "data": {
            "image/png": "[encoded data removed]",
            "text/plain": [
              "<Figure size 360x360 with 1 Axes>"
            ]
          },
          "metadata": {
            "tags": [],
            "needs_background": "light"
          }
        }
      ]
    },
    {
      "cell_type": "code",
      "metadata": {
        "id": "8c26fb32",
        "colab": {
          "base_uri": "https://localhost:8080/",
          "height": 419
        },
        "outputId": "a159ace5-2053-4b8e-9b54-ed673fd3405e"
      },
      "source": [
        "df_comments_polarity_desc"
      ],
      "id": "8c26fb32",
      "execution_count": 62,
      "outputs": [
        {
          "output_type": "execute_result",
          "data": {
            "text/html": [
              "<div>\n",
              "<style scoped>\n",
              "    .dataframe tbody tr th:only-of-type {\n",
              "        vertical-align: middle;\n",
              "    }\n",
              "\n",
              "    .dataframe tbody tr th {\n",
              "        vertical-align: top;\n",
              "    }\n",
              "\n",
              "    .dataframe thead th {\n",
              "        text-align: right;\n",
              "    }\n",
              "</style>\n",
              "<table border=\"1\" class=\"dataframe\">\n",
              "  <thead>\n",
              "    <tr style=\"text-align: right;\">\n",
              "      <th></th>\n",
              "      <th>review_comment_message</th>\n",
              "      <th>sentiment</th>\n",
              "      <th>polarity</th>\n",
              "      <th>Sentiment_Type</th>\n",
              "    </tr>\n",
              "  </thead>\n",
              "  <tbody>\n",
              "    <tr>\n",
              "      <th>0</th>\n",
              "      <td>super adooorei o delineador ele é bem preto e ...</td>\n",
              "      <td>0.333333</td>\n",
              "      <td>0.666667</td>\n",
              "      <td>Positive</td>\n",
              "    </tr>\n",
              "    <tr>\n",
              "      <th>1</th>\n",
              "      <td>excelente apontador! em 3 segundos uma ponta p...</td>\n",
              "      <td>0.000000</td>\n",
              "      <td>0.000000</td>\n",
              "      <td>Neutral</td>\n",
              "    </tr>\n",
              "    <tr>\n",
              "      <th>2</th>\n",
              "      <td>muito bom</td>\n",
              "      <td>0.000000</td>\n",
              "      <td>0.000000</td>\n",
              "      <td>Neutral</td>\n",
              "    </tr>\n",
              "    <tr>\n",
              "      <th>3</th>\n",
              "      <td>produto tem um tom de cor diferente da foto. h...</td>\n",
              "      <td>0.000000</td>\n",
              "      <td>0.000000</td>\n",
              "      <td>Neutral</td>\n",
              "    </tr>\n",
              "    <tr>\n",
              "      <th>4</th>\n",
              "      <td>o produto que chegou é mais bonito do que eu e...</td>\n",
              "      <td>0.000000</td>\n",
              "      <td>0.000000</td>\n",
              "      <td>Neutral</td>\n",
              "    </tr>\n",
              "    <tr>\n",
              "      <th>...</th>\n",
              "      <td>...</td>\n",
              "      <td>...</td>\n",
              "      <td>...</td>\n",
              "      <td>...</td>\n",
              "    </tr>\n",
              "    <tr>\n",
              "      <th>34056</th>\n",
              "      <td>produto de ótima qualidade, fiquei super feliz...</td>\n",
              "      <td>0.333333</td>\n",
              "      <td>0.666667</td>\n",
              "      <td>Positive</td>\n",
              "    </tr>\n",
              "    <tr>\n",
              "      <th>34057</th>\n",
              "      <td>muito boa a loja esta de parabéns</td>\n",
              "      <td>0.000000</td>\n",
              "      <td>0.000000</td>\n",
              "      <td>Neutral</td>\n",
              "    </tr>\n",
              "    <tr>\n",
              "      <th>34058</th>\n",
              "      <td>bom</td>\n",
              "      <td>0.000000</td>\n",
              "      <td>0.000000</td>\n",
              "      <td>Neutral</td>\n",
              "    </tr>\n",
              "    <tr>\n",
              "      <th>34059</th>\n",
              "      <td>bom</td>\n",
              "      <td>0.000000</td>\n",
              "      <td>0.000000</td>\n",
              "      <td>Neutral</td>\n",
              "    </tr>\n",
              "    <tr>\n",
              "      <th>34060</th>\n",
              "      <td>recomendo !!</td>\n",
              "      <td>0.000000</td>\n",
              "      <td>0.000000</td>\n",
              "      <td>Neutral</td>\n",
              "    </tr>\n",
              "  </tbody>\n",
              "</table>\n",
              "<p>34061 rows × 4 columns</p>\n",
              "</div>"
            ],
            "text/plain": [
              "                                  review_comment_message  ...  Sentiment_Type\n",
              "0      super adooorei o delineador ele é bem preto e ...  ...        Positive\n",
              "1      excelente apontador! em 3 segundos uma ponta p...  ...         Neutral\n",
              "2                                             muito bom   ...         Neutral\n",
              "3      produto tem um tom de cor diferente da foto. h...  ...         Neutral\n",
              "4      o produto que chegou é mais bonito do que eu e...  ...         Neutral\n",
              "...                                                  ...  ...             ...\n",
              "34056  produto de ótima qualidade, fiquei super feliz...  ...        Positive\n",
              "34057                 muito boa a loja esta de parabéns   ...         Neutral\n",
              "34058                                               bom   ...         Neutral\n",
              "34059                                               bom   ...         Neutral\n",
              "34060                                       recomendo !!  ...         Neutral\n",
              "\n",
              "[34061 rows x 4 columns]"
            ]
          },
          "metadata": {
            "tags": []
          },
          "execution_count": 62
        }
      ]
    },
    {
      "cell_type": "code",
      "metadata": {
        "id": "f820e1c1"
      },
      "source": [
        "review_analytics = pd.merge(final, df_comments_polarity_desc, on = 'review_comment_message')"
      ],
      "id": "f820e1c1",
      "execution_count": 63,
      "outputs": []
    },
    {
      "cell_type": "code",
      "metadata": {
        "id": "55b0ae53"
      },
      "source": [
        "review_analytics = review_analytics[review_analytics.Sentiment_Type == 'Positive']"
      ],
      "id": "55b0ae53",
      "execution_count": 64,
      "outputs": []
    },
    {
      "cell_type": "code",
      "metadata": {
        "id": "7c7eda7b",
        "colab": {
          "base_uri": "https://localhost:8080/"
        },
        "outputId": "84863c04-cc3d-4b6e-8ece-b1175d7de65b"
      },
      "source": [
        "review_analytics.product_category_name.unique()"
      ],
      "id": "7c7eda7b",
      "execution_count": 65,
      "outputs": [
        {
          "output_type": "execute_result",
          "data": {
            "text/plain": [
              "array(['cool_stuff', 'beleza_saude', 'artigos_de_festas',\n",
              "       'informatica_acessorios', 'moveis_decoracao', 'perfumaria',\n",
              "       'telefonia', 'esporte_lazer', 'utilidades_domesticas', 'papelaria',\n",
              "       'pet_shop', 'cama_mesa_banho', 'relogios_presentes',\n",
              "       'telefonia_fixa', 'pcs', 'automotivo', 'alimentos', 'eletronicos',\n",
              "       'ferramentas_jardim', nan, 'brinquedos',\n",
              "       'construcao_ferramentas_construcao', 'eletrodomesticos',\n",
              "       'fashion_bolsas_e_acessorios', 'livros_interesse_geral',\n",
              "       'malas_acessorios', 'portateis_casa_forno_e_cafe', 'climatizacao',\n",
              "       'consoles_games', 'bebes', 'audio', 'instrumentos_musicais',\n",
              "       'artigos_de_natal', 'eletroportateis', 'moveis_sala',\n",
              "       'construcao_ferramentas_ferramentas', 'moveis_escritorio',\n",
              "       'fraldas_higiene', 'industria_comercio_e_negocios',\n",
              "       'alimentos_bebidas'], dtype=object)"
            ]
          },
          "metadata": {
            "tags": []
          },
          "execution_count": 65
        }
      ]
    },
    {
      "cell_type": "code",
      "metadata": {
        "id": "080da7cc",
        "colab": {
          "base_uri": "https://localhost:8080/"
        },
        "outputId": "e606ae2a-1180-41a7-8c1a-3fe41a066d1e"
      },
      "source": [
        "len(review_analytics.product_category_name.unique())"
      ],
      "id": "080da7cc",
      "execution_count": 66,
      "outputs": [
        {
          "output_type": "execute_result",
          "data": {
            "text/plain": [
              "40"
            ]
          },
          "metadata": {
            "tags": []
          },
          "execution_count": 66
        }
      ]
    },
    {
      "cell_type": "markdown",
      "metadata": {
        "id": "0f4ddf70"
      },
      "source": [
        "####  Conclusion - These are the products recommended based on sentiments "
      ],
      "id": "0f4ddf70"
    },
    {
      "cell_type": "markdown",
      "metadata": {
        "id": "f11dca94"
      },
      "source": [
        "### Future Ideas:\n",
        "\n",
        "1. Recommendation system using Hybrid approach\n",
        "\n",
        "2. System can be particularly built using data of customers, products at different location \n",
        "\n",
        "3. Can also try system with customer payment history\n",
        "    "
      ],
      "id": "f11dca94"
    }
  ]
}