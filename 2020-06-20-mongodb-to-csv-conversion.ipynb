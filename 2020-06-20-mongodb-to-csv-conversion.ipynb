{
  "nbformat": 4,
  "nbformat_minor": 0,
  "metadata": {
    "colab": {
      "name": "2020-06-20-mongodb-to-csv-conversion.ipynb",
      "provenance": [],
      "collapsed_sections": [],
      "authorship_tag": "ABX9TyM8QwIZj/V20Wi2lxIQ9Bxf"
    },
    "kernelspec": {
      "name": "python3",
      "display_name": "Python 3"
    }
  },
  "cells": [
    {
      "cell_type": "markdown",
      "metadata": {
        "id": "UvR1fcRkAKLe"
      },
      "source": [
        "# MongoDB to CSV conversion\n",
        "> Pull a noSQL data from MongoDB and convert into Pandas dataframe\n",
        "\n",
        "- toc: true\n",
        "- badges: true\n",
        "- comments: true\n",
        "- categories: [ETL, mongodb]\n",
        "- search_exclude: false\n",
        "- image:"
      ]
    },
    {
      "cell_type": "code",
      "metadata": {
        "id": "q8RCznjQKRgx"
      },
      "source": [
        "import pymongo as pm\n",
        "from pymongo import MongoClient\n",
        "import numpy as np\n",
        "import pandas as pd\n",
        "from pandas.io.json import json_normalize"
      ],
      "execution_count": null,
      "outputs": []
    },
    {
      "cell_type": "code",
      "metadata": {
        "id": "OUvfs36iKRg7"
      },
      "source": [
        "def _connect_mongo(username, password, host, port, db):\n",
        "    mongo_uri = 'mongodb://%s:%s@%s:%s/%s' % (username, password, host, port, db)\n",
        "    conn = MongoClient(mongo_uri, serverSelectionTimeoutMS=5000, ssl=True)\n",
        "    return conn[db] "
      ],
      "execution_count": null,
      "outputs": []
    },
    {
      "cell_type": "code",
      "metadata": {
        "id": "4eQeQTAsKRhG"
      },
      "source": [
        "db = _connect_mongo('xxxx', 'xxxx', 'xxxx', xxxx, 'xxxx')\n",
        "collection = db['xxxx']\n",
        "test = pd.DataFrame(list(collection.find({}, {\"var1\":1, \"var2\":1})))\n",
        "print(test.info())"
      ],
      "execution_count": null,
      "outputs": []
    },
    {
      "cell_type": "markdown",
      "metadata": {
        "id": "3SVq3qrsKRhM"
      },
      "source": [
        "### Extracting Non-array data"
      ]
    },
    {
      "cell_type": "code",
      "metadata": {
        "id": "2LgsctotKRhM"
      },
      "source": [
        "with open('non_array_features.txt') as f:\n",
        "    content = f.readlines()\n",
        "non_array_features = [x.strip() for x in content]"
      ],
      "execution_count": null,
      "outputs": []
    },
    {
      "cell_type": "code",
      "metadata": {
        "id": "yjJz3iwpKRhR"
      },
      "source": [
        "query = \"\"\n",
        "for x in non_array_features:\n",
        "    query+='\"'+ x + '\":1, '\n",
        "query = query[:-2]"
      ],
      "execution_count": null,
      "outputs": []
    },
    {
      "cell_type": "code",
      "metadata": {
        "id": "sgZr9uaOKRhY"
      },
      "source": [
        "flat_df = json_normalize(list(collection.find({}, {<paste query string here without ''>})))\n",
        "flat_df.shape"
      ],
      "execution_count": null,
      "outputs": []
    },
    {
      "cell_type": "markdown",
      "metadata": {
        "id": "E33nbqQaKRhd"
      },
      "source": [
        "### Extracting Array data"
      ]
    },
    {
      "cell_type": "markdown",
      "metadata": {
        "id": "FdE5hig9KRhf"
      },
      "source": [
        "#### Functions"
      ]
    },
    {
      "cell_type": "code",
      "metadata": {
        "id": "o1_2SvEjKRhh"
      },
      "source": [
        "def extract_array(feature, key, val):\n",
        "    n1 = pd.DataFrame(list(collection.aggregate([{\"$unwind\" : \"$\"+str(feature)}, \n",
        "                                        {\"$project\" : {'key' : \"$\"+str(feature) + \".\" + key,\n",
        "                                                       'value' : \"$\"+str(feature) + \".\" + val}}])))\n",
        "    n2 = n1[~n1['_id'].astype(str).str.contains('timestamp', regex=False)]\n",
        "    n3 = n2[~n2.set_index(['_id','key'])['value'].index.duplicated(keep='first')]\n",
        "    n4 = n3.set_index(['_id','key'])['value'].unstack().add_suffix('_').reset_index()\n",
        "    return n4\n",
        "\n",
        "\n",
        "'''https://stackoverflow.com/questions/51402430/concatenate-columns-with-same-id-pandas-dataframe'''\n",
        "def collide_me(x):\n",
        "    x = x[~x['_id'].astype(str).str.contains('timestamp', regex=False)]\n",
        "    y = (x.set_index(['_id', x.groupby(['_id']).cumcount()]).unstack().sort_index(axis=1, level=1))\n",
        "    y.columns = ['{}_{}'.format(i, j) for i, j in y.columns]\n",
        "    y = y.reset_index()\n",
        "    return y\n",
        "\n",
        "def extract_ndarray(df, key, value):\n",
        "    n1 = df[['_id', key, value]]\n",
        "    n2 = n1[~n1['_id'].astype(str).str.contains('timestamp', regex=False)]\n",
        "    n3 = n2[~n2.set_index(['_id',key])[value].index.duplicated(keep='first')]\n",
        "    n4 = n3.set_index(['_id',key])[value].unstack().add_prefix(key+'_').reset_index()\n",
        "    return n4"
      ],
      "execution_count": null,
      "outputs": []
    },
    {
      "cell_type": "markdown",
      "metadata": {
        "id": "mLoyCKa6KRhn"
      },
      "source": [
        "#### Key-value feature extraction"
      ]
    },
    {
      "cell_type": "code",
      "metadata": {
        "id": "zVkpet6AKRho"
      },
      "source": [
        "af1 = extract_array('array_feature_1', 'key', 'value')\n",
        "af2 = extract_array('array_feature_2', 'key', 'value')"
      ],
      "execution_count": null,
      "outputs": []
    },
    {
      "cell_type": "markdown",
      "metadata": {
        "id": "QT1CkX8xKRhz"
      },
      "source": [
        "#### Key-multivalue feature extraction"
      ]
    },
    {
      "cell_type": "code",
      "metadata": {
        "id": "fc8XbcapKRh0"
      },
      "source": [
        "af3 = pd.DataFrame(list(collection.aggregate([{\"$unwind\" : \"$array_feature_3\"}, \n",
        "                                        {\"$project\" : {'featurename_31':'$array_feature_3.featurename_31',\n",
        "                                                       'featurename_32':'$array_feature_3.featurename_32',\n",
        "                                                       'featurename_33':'$array_feature_3.featurename_33'\n",
        "                                                      }}])))\n",
        "af3 = collide_me(af3)"
      ],
      "execution_count": null,
      "outputs": []
    },
    {
      "cell_type": "markdown",
      "metadata": {
        "id": "BWUCCy9NKRh5"
      },
      "source": [
        "#### Key-value multi-dimensional feature extraction"
      ]
    },
    {
      "cell_type": "code",
      "metadata": {
        "id": "IzhBcbvBKRh6"
      },
      "source": [
        "af4 = json_normalize(list(collection.aggregate([{\"$unwind\": '$array_feature_4'},\n",
        "                                        {\"$project\" : {'feature41':'$array_feature_4.feature41'}}\n",
        "                                        ,{\"$unwind\": '$responses'}\n",
        "                                        ,{\"$project\" : {'feature41_key':'$feature41.key',\n",
        "                                                        'feature41_value':'$feature41.value'}}\n",
        "                                       ])))\n",
        "\n",
        "af4 = extract_ndarray(af4, 'feature41_key', 'feature41_value')"
      ],
      "execution_count": null,
      "outputs": []
    },
    {
      "cell_type": "markdown",
      "metadata": {
        "id": "kjWKUXeIKRiB"
      },
      "source": [
        "### Joining and exporting data"
      ]
    },
    {
      "cell_type": "code",
      "metadata": {
        "id": "n8r_jo3-KRiB"
      },
      "source": [
        "df = pd.merge(flat_df, af1, on='_id', how='outer')\n",
        "df = pd.merge(df, af2, on='_id', how='outer')\n",
        "df = pd.merge(df, af3, on='_id', how='outer')\n",
        "df = pd.merge(df, af4, on='_id', how='outer')"
      ],
      "execution_count": null,
      "outputs": []
    },
    {
      "cell_type": "code",
      "metadata": {
        "id": "G9AnhO5SKRiG"
      },
      "source": [
        "df.to_csv('mongoDB_to_CSV_converted.csv')"
      ],
      "execution_count": null,
      "outputs": []
    }
  ]
}