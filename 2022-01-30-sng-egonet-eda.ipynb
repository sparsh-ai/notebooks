{
 "cells": [
  {
   "cell_type": "markdown",
   "metadata": {},
   "source": [
    "# Social Network Graph EgoNet EDA"
   ]
  },
  {
   "cell_type": "markdown",
   "metadata": {},
   "source": [
    "The growth of social networking sites has been one of the most active trends in digital media over the years. Since the late 1990s, when the first social applications were published, they have attracted billions of active users worldwide, many of whom have integrated digital social interactions into their daily lives. New ways of communication are being driven by social networks such as Facebook, Twitter, and Instagram, among others. Users can share ideas, post updates and feedback, or engage in activities and events while sharing their broader interests on social networking sites.\n",
    "\n",
    "Besides, social networks constitute a huge source of information for studying user behaviors, interpreting interaction among people, and predicting their interests. Structuring them as graphs, where a vertex corresponds to a person and an edge represents the connection between them, enables a powerful tool to extract useful knowledge.\n",
    "\n",
    "However, understanding the dynamics that drive the evolution of a social network is a complex problem due to a large number of variable parameters."
   ]
  },
  {
   "cell_type": "markdown",
   "metadata": {},
   "source": [
    "In this series, we will talk about how we can analyze the Facebook social network using graph theory and how we can solve useful problems such as link prediction and community detection using machine learning."
   ]
  },
  {
   "cell_type": "markdown",
   "metadata": {},
   "source": [
    "We will be using the Social circles [SNAP Facebook public dataset](https://snap.stanford.edu/data/ego-Facebook.html), from Stanford University.\n",
    "\n",
    "The dataset was created by collecting Facebook user information from survey participants. Ego networks were created from 10 users. Each user was asked to identify all the circles (list of friends) to which their friends belong. On average, each user identified 19 circles in their ego networks, where each circle has on average 22 friends.\n",
    "\n",
    "For each user, the following information was collected:\n",
    "- Edges: An edge exists if two users are friends on Facebook.\n",
    "- Node features: Features were labeled 1 if the user has this property in their profile and 0 otherwise. Features have been anonymized since the names of the features would reveal private data.\n",
    "\n",
    "The 10 ego networks were then unified in a single graph that we are going to study."
   ]
  },
  {
   "cell_type": "code",
   "execution_count": null,
   "metadata": {},
   "outputs": [],
   "source": [
    "!wget http://snap.stanford.edu/data/facebook_combined.txt.gz\n",
    "!wget http://snap.stanford.edu/data/facebook.tar.gz\n",
    "!gzip -d facebook_combined.txt.gz\n",
    "!tar -xf facebook.tar.gz"
   ]
  },
  {
   "cell_type": "code",
   "execution_count": null,
   "metadata": {},
   "outputs": [],
   "source": [
    "!head facebook_combined.txt"
   ]
  },
  {
   "cell_type": "code",
   "execution_count": null,
   "metadata": {},
   "outputs": [],
   "source": [
    "!ls ./facebook"
   ]
  },
  {
   "cell_type": "code",
   "execution_count": null,
   "metadata": {},
   "outputs": [],
   "source": [
    "!cat ./facebook/0.circles"
   ]
  },
  {
   "cell_type": "code",
   "execution_count": null,
   "metadata": {},
   "outputs": [],
   "source": [
    "!head -5 ./facebook/0.edges"
   ]
  },
  {
   "cell_type": "code",
   "execution_count": null,
   "metadata": {},
   "outputs": [],
   "source": [
    "!head -5 ./facebook/0.egofeat"
   ]
  },
  {
   "cell_type": "code",
   "execution_count": null,
   "metadata": {},
   "outputs": [],
   "source": [
    "!head -20 ./facebook/0.feat"
   ]
  },
  {
   "cell_type": "code",
   "execution_count": null,
   "metadata": {},
   "outputs": [],
   "source": [
    "!head -10 ./facebook/0.featnames"
   ]
  },
  {
   "cell_type": "markdown",
   "metadata": {},
   "source": [
    "| File | Description |\n",
    "| ---- | ----------- |\n",
    "| nodeId.edges | The edges in the ego network for the node 'nodeId'. Edges are undirected for facebook, and directed (a follows b) for twitter and gplus. The 'ego' node does not appear, but it is assumed that they follow every node id that appears in this file. |\n",
    "| nodeId.circles | The set of circles for the ego node. Each line contains one circle, consisting of a series of node ids. The first entry in each line is the name of the circle. |\n",
    "| nodeId.feat | The features for each of the nodes that appears in the edge file. |\n",
    "| nodeId.egofeat | The features for the ego user. |\n",
    "| nodeId.featnames | The names of each of the feature dimensions. Features are '1' if the user has this property in their profile, and '0' otherwise. This file has been anonymized for facebook users, since the names of the features would reveal private data. |\n",
    "| facebook_combined.txt | a list of edges from all the ego networks combined. |"
   ]
  },
  {
   "cell_type": "markdown",
   "metadata": {},
   "source": [
    "Environment setup"
   ]
  },
  {
   "cell_type": "code",
   "execution_count": null,
   "metadata": {},
   "outputs": [],
   "source": [
    "!pip install community"
   ]
  },
  {
   "cell_type": "code",
   "execution_count": null,
   "metadata": {},
   "outputs": [],
   "source": [
    "import os\n",
    "import math\n",
    "import numpy as np\n",
    "import pandas as pd\n",
    "import matplotlib.pyplot as plt\n",
    "\n",
    "import community\n",
    "from community import community_louvain\n",
    "import networkx as nx\n",
    "import networkx.algorithms.community as nx_comm\n",
    "\n",
    "%matplotlib inline\n",
    "\n",
    "default_edge_color = 'gray'\n",
    "default_node_color = '#407cc9'\n",
    "enhanced_node_color = '#f5b042'\n",
    "enhanced_edge_color = '#cc2f04'"
   ]
  },
  {
   "cell_type": "markdown",
   "metadata": {},
   "source": [
    "Building graph layout"
   ]
  },
  {
   "cell_type": "code",
   "execution_count": null,
   "metadata": {},
   "outputs": [],
   "source": [
    "G = nx.read_edgelist(\"facebook_combined.txt\", create_using=nx.Graph(), nodetype=int)\n",
    "print(nx.info(G))"
   ]
  },
  {
   "cell_type": "markdown",
   "metadata": {},
   "source": [
    "> Note: Our combined network has 4,039 nodes and more than 80,000 edges."
   ]
  },
  {
   "cell_type": "code",
   "execution_count": null,
   "metadata": {},
   "outputs": [],
   "source": [
    "# let's first create a list of participant ids - we call it ego nodes in literature it seems\n",
    "ego_nodes = set([int(name.split('.')[0]) for name in os.listdir(\"./facebook/\")])\n",
    "ego_nodes"
   ]
  },
  {
   "cell_type": "code",
   "execution_count": null,
   "metadata": {},
   "outputs": [],
   "source": [
    "# let's try to visualize the network\n",
    "spring_pos = nx.spring_layout(G)\n",
    "plt.axis(\"off\")\n",
    "nx.draw_networkx(G, pos=spring_pos, node_color=default_node_color,\n",
    "                 edge_color=default_edge_color, with_labels=False,\n",
    "                 node_size=35)\n",
    "plt.show()"
   ]
  },
  {
   "cell_type": "markdown",
   "metadata": {},
   "source": [
    "Network analysis"
   ]
  },
  {
   "cell_type": "code",
   "execution_count": null,
   "metadata": {},
   "outputs": [],
   "source": [
    "def draw_metric(G, dct, spring_pos):\n",
    "  \"\"\" draw the graph G using the layout spring_pos.\n",
    "      The top 10 nodes w.r.t. values in the dictionary dct\n",
    "      are enhanced in the visualization \"\"\"\n",
    "  top = 10\n",
    "  max_nodes =  sorted(dct.items(), key = lambda v: -v[1])[:top]\n",
    "  \n",
    "  max_keys = [key for key,_ in max_nodes]\n",
    "  max_vals = [val*300 for _, val in max_nodes]\n",
    "\n",
    "  plt.axis(\"off\")\n",
    "  \n",
    "  nx.draw_networkx(G, \n",
    "                   pos=spring_pos, \n",
    "                   cmap='Blues', \n",
    "                   edge_color=default_edge_color,\n",
    "                   node_color=default_node_color, \n",
    "                   node_size=3,\n",
    "                   alpha=0.4, \n",
    "                   with_labels=False)\n",
    "  \n",
    "  nx.draw_networkx_nodes(G, \n",
    "                         pos=spring_pos, \n",
    "                         nodelist=max_keys, \n",
    "                         node_color=enhanced_edge_color,\n",
    "                         node_size=max_vals)"
   ]
  },
  {
   "cell_type": "markdown",
   "metadata": {},
   "source": [
    "### Topology analysis"
   ]
  },
  {
   "cell_type": "markdown",
   "metadata": {},
   "source": [
    "> Note: Assortativity reveals information about the tendency of users to be connected with users with a similar degree."
   ]
  },
  {
   "cell_type": "code",
   "execution_count": null,
   "metadata": {},
   "outputs": [],
   "source": [
    "# assortativity\n",
    "assortativity = nx.degree_pearson_correlation_coefficient(G)\n",
    "assortativity"
   ]
  },
  {
   "cell_type": "markdown",
   "metadata": {},
   "source": [
    "Here we can observe a positive assortativity, likely showing that well-connected individuals associate with other well-connected individuals. This is expected since inside each circle users might tend to be highly connected to each other.\n",
    "\n",
    "Transitivity could also help at better understanding how individuals are connected. Recall transitivity indicates the mean probability that two people with a common friend are themselves friends."
   ]
  },
  {
   "cell_type": "code",
   "execution_count": null,
   "metadata": {},
   "outputs": [],
   "source": [
    "t = nx.transitivity(G)\n",
    "t"
   ]
  },
  {
   "cell_type": "markdown",
   "metadata": {},
   "source": [
    "### Node centrality"
   ]
  },
  {
   "cell_type": "markdown",
   "metadata": {},
   "source": [
    "> Note: betweenness centrality metric measures how many shortest paths pass through a given node, giving an idea of how central that node is for the spreading of information inside the network."
   ]
  },
  {
   "cell_type": "code",
   "execution_count": null,
   "metadata": {},
   "outputs": [],
   "source": [
    "# betweenness centrality\n",
    "bC = nx.betweenness_centrality(G)\n",
    "np.mean(list(bC.values()))"
   ]
  },
  {
   "cell_type": "markdown",
   "metadata": {},
   "source": [
    "The average betweenness centrality is pretty low, which is understandable given the large amount of non-bridging nodes inside the network. However, we could collect better insight by visual inspection of the graph. In particular, we will draw the combined ego network by enhancing nodes with the highest betweenness centrality."
   ]
  },
  {
   "cell_type": "code",
   "execution_count": null,
   "metadata": {},
   "outputs": [],
   "source": [
    "draw_metric(G,bC,spring_pos)"
   ]
  },
  {
   "cell_type": "code",
   "execution_count": null,
   "metadata": {},
   "outputs": [],
   "source": [
    "# global efficiency\n",
    "gE = nx.global_efficiency(G)\n",
    "print(gE)"
   ]
  },
  {
   "cell_type": "code",
   "execution_count": null,
   "metadata": {},
   "outputs": [],
   "source": [
    "# average clustering\n",
    "aC = nx.average_clustering(G)\n",
    "print(aC)"
   ]
  },
  {
   "cell_type": "code",
   "execution_count": null,
   "metadata": {},
   "outputs": [],
   "source": [
    "# degree centrality\n",
    "deg_C = nx.degree_centrality(G)\n",
    "np.mean(list(deg_C.values()))"
   ]
  },
  {
   "cell_type": "code",
   "execution_count": null,
   "metadata": {},
   "outputs": [],
   "source": [
    "draw_metric(G,deg_C,spring_pos)"
   ]
  },
  {
   "cell_type": "code",
   "execution_count": null,
   "metadata": {},
   "outputs": [],
   "source": [
    "# closeness centrality\n",
    "clos_C = nx.closeness_centrality(G)\n",
    "np.mean(list(clos_C.values()))"
   ]
  },
  {
   "cell_type": "code",
   "execution_count": null,
   "metadata": {},
   "outputs": [],
   "source": [
    "draw_metric(G,clos_C,spring_pos)"
   ]
  },
  {
   "cell_type": "markdown",
   "metadata": {},
   "source": [
    "From the centrality analysis, it is interesting to observe that each central node seems to be part of a sort of community (this is reasonable, since the central nodes might correspond to the ego nodes of the network). It is also interesting to notice the presence of a bunch of highly interconnected nodes (especially from the closeness centrality analysis)."
   ]
  },
  {
   "cell_type": "markdown",
   "metadata": {},
   "source": [
    "### Community detection"
   ]
  },
  {
   "cell_type": "markdown",
   "metadata": {},
   "source": [
    "Since we are performing social network analysis, it is worth exploring one of the most interesting graph structures for social networks: communities. If you use Facebook, it is very likely that your friends reflect different aspects of your life: friends from an educational environment (high school, college, and so on), friends from your weekly football match, friends you have met at parties, and so on.\n",
    "\n",
    "An interesting aspect of social network analysis is to automatically identify such groups. This can be done automatically, inferring them from topological properties, or semi-automatically, exploiting some prior insight.\n",
    "\n",
    "One good criterion is to try to minimize intra-community edges (edges connecting members of different communities) while maximizing inter-community edges (connecting members within the same community)."
   ]
  },
  {
   "cell_type": "markdown",
   "metadata": {},
   "source": [
    "In the following cells we will automatically detect communities using infromation from the network topology"
   ]
  },
  {
   "cell_type": "code",
   "execution_count": null,
   "metadata": {},
   "outputs": [],
   "source": [
    "parts = community_louvain.best_partition(G)\n",
    "values = [parts.get(node) for node in G.nodes()]\n",
    "\n",
    "for node in ego_nodes:\n",
    "  print(node, \"is in community number\", parts.get(node))\n",
    "  \n",
    "n_sizes = [5]*len(G.nodes())\n",
    "for node in ego_nodes:\n",
    "  n_sizes[node] = 250\n",
    "\n",
    "plt.axis(\"off\")\n",
    "nx.draw_networkx(G, pos=spring_pos, cmap=plt.get_cmap(\"Blues\"), edge_color=default_edge_color, node_color=values, node_size=n_sizes, with_labels=False)\n",
    "\n",
    "# enhance color and size of the ego-nodes\n",
    "nodes = nx.draw_networkx_nodes(G,spring_pos,ego_nodes,node_color=[parts.get(node) for node in ego_nodes])\n",
    "nodes.set_edgecolor(enhanced_node_color)"
   ]
  },
  {
   "cell_type": "markdown",
   "metadata": {},
   "source": [
    "It is interesting to notice that some ego users belong to the same community. It is possible that ego users are actual friends on Facebook, and therefore their ego networks are partially shared.\n",
    "\n",
    "We have now completed our basic understanding of the graph structure. We now know that some important nodes can be identified inside the network. We have also seen the presence of well-defined communities to which those nodes belong. Keep in mind these observations while performing the next part of the analysis, which is applying machine learning methods for supervised and unsupervised tasks."
   ]
  },
  {
   "cell_type": "markdown",
   "metadata": {},
   "source": [
    "### Ego-net analysis"
   ]
  },
  {
   "cell_type": "markdown",
   "metadata": {},
   "source": [
    "Since the combined network we are analyzing is actually composed by 10 sub-networks (ego-networks), it's interesting to inspect all those subnetwork. In the following cells we will analyze the subnetwork of the ego-user \"0\"."
   ]
  },
  {
   "cell_type": "code",
   "execution_count": null,
   "metadata": {},
   "outputs": [],
   "source": [
    "G0 = nx.read_edgelist(\"./facebook/0.edges\", create_using=nx.Graph(), nodetype=int)\n",
    "for node in G0.copy():\n",
    "  G0.add_edge(0,node)\n",
    "\n",
    "plt.axis(\"off\")\n",
    "pos_G0 = nx.spring_layout(G0)\n",
    "nx.draw_networkx(G0, pos=pos_G0, with_labels=False, node_size=35, edge_color=default_edge_color)"
   ]
  },
  {
   "cell_type": "markdown",
   "metadata": {},
   "source": [
    "Nodes belonging to each subnetwork are stored in the \"facebook\" folder under the name nodeId.circles"
   ]
  },
  {
   "cell_type": "code",
   "execution_count": null,
   "metadata": {},
   "outputs": [],
   "source": [
    "circles = {}\n",
    "\n",
    "with open(\"./facebook/0.circles\") as f_in:\n",
    "  line = f_in.readline().rstrip().split(\"\\t\")\n",
    "  while line and not '' in line:\n",
    "    circles[line[0]] = [int(v) for v in line[1:]]\n",
    "    line = f_in.readline().rstrip().split(\"\\t\")"
   ]
  },
  {
   "cell_type": "code",
   "execution_count": null,
   "metadata": {},
   "outputs": [],
   "source": [
    "node_colors = [0] * G0.number_of_nodes()\n",
    "count = 0\n",
    "for key in circles:\n",
    "  circle = circles[key]\n",
    "  for node in circle:\n",
    "    if node < G0.number_of_nodes():\n",
    "      node_colors[node] = count\n",
    "  count += 1\n",
    "\n",
    "nx.draw_networkx(G0, pos=pos_G0, with_labels=False, node_size=35, node_color=node_colors, edge_color=default_edge_color)"
   ]
  },
  {
   "cell_type": "code",
   "execution_count": null,
   "metadata": {},
   "outputs": [],
   "source": [
    "parts = community_louvain.best_partition(G0)\n",
    "values = [parts.get(node) for node in G0.nodes()]\n",
    "\n",
    "plt.axis(\"off\")\n",
    "nx.draw_networkx(G0, pos=pos_G0, cmap=plt.get_cmap(\"Blues\"), edge_color=default_edge_color, node_color=values, node_size=35, with_labels=False)"
   ]
  },
  {
   "cell_type": "code",
   "execution_count": null,
   "metadata": {},
   "outputs": [],
   "source": [
    "# community found does not reflect the circles\n",
    "set(parts.values())\n",
    "len(circles)"
   ]
  },
  {
   "cell_type": "code",
   "execution_count": null,
   "metadata": {},
   "outputs": [],
   "source": [
    "# a node can be present in more than one list??\n",
    "for i in circles:\n",
    "  for j in circles:\n",
    "    if i != j:\n",
    "      for n1 in circles[i]:\n",
    "        for n2 in circles[j]:\n",
    "          if n1 == n2:\n",
    "            print(n1, 'present in ',i,'found in', j)"
   ]
  },
  {
   "cell_type": "code",
   "execution_count": null,
   "metadata": {},
   "outputs": [],
   "source": [
    "vals = {}\n",
    "vals['Shortest path'] = nx.average_shortest_path_length(G0)\n",
    "vals['Global efficiency'] = nx.global_efficiency(G0)\n",
    "vals['Average clustering'] = nx.average_clustering(G0)\n",
    "vals['Betweenness centrality'] = np.mean(list(nx.betweenness_centrality(G0).values()))\n",
    "vals['Closeness centrality'] = np.mean(list(nx.closeness_centrality(G0).values()))\n",
    "vals['Degree centrality'] = np.mean(list(nx.degree_centrality(G0).values()))\n",
    "vals['Pearson correlation'] = nx.degree_pearson_correlation_coefficient(G)\n",
    "vals['Transitivity'] = nx.transitivity(G)\n",
    "vals['Label propagation'] = nx_comm.modularity(G, nx_comm.label_propagation_communities(G))"
   ]
  },
  {
   "cell_type": "code",
   "execution_count": null,
   "metadata": {},
   "outputs": [],
   "source": [
    "pd.DataFrame(vals, index=['values']).T"
   ]
  }
 ],
 "metadata": {
  "colab": {
   "authorship_tag": "ABX9TyPDm2k2D8n/6bmSU3wqoprA",
   "collapsed_sections": [],
   "name": "rec-tut-gml-06-sng-egonet-part-1-eda.ipynb",
   "provenance": [
    {
     "file_id": "18rsHbAXudxz_EspXEEFhfLLd-MT2jbhK",
     "timestamp": 1628066780292
    },
    {
     "file_id": "1sAKOySokSkK8dTp6GYjmIh3AjBOT1R0J",
     "timestamp": 1627993731574
    },
    {
     "file_id": "1FlR0Nt00zRzrjciEpl46j51IIomB0K_p",
     "timestamp": 1627989061002
    }
   ]
  },
  "kernelspec": {
   "display_name": "Python 3",
   "name": "python3"
  },
  "language_info": {
   "name": "python"
  }
 },
 "nbformat": 4,
 "nbformat_minor": 0
}
