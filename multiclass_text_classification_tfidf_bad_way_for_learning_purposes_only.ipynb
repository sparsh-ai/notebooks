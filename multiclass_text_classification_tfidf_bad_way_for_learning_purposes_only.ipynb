{
 "cells": [
  {
   "cell_type": "code",
   "execution_count": null,
   "metadata": {
    "colab": {
     "base_uri": "https://localhost:8080/"
    },
    "id": "w5VBFNdyHIbt",
    "outputId": "38ffba1e-beb6-4374-8b64-ebf8b4f2cea3"
   },
   "outputs": [
    {
     "name": "stderr",
     "output_type": "stream",
     "text": [
      "[nltk_data] Downloading package stopwords to /root/nltk_data...\n",
      "[nltk_data]   Package stopwords is already up-to-date!\n"
     ]
    }
   ],
   "source": [
    "#importing neccessary libraries\n",
    "import pandas as pd\n",
    "import numpy as np\n",
    "import seaborn as sns\n",
    "import matplotlib.pyplot as plt\n",
    "from sklearn.preprocessing import LabelEncoder\n",
    "from sklearn.feature_extraction.text import TfidfVectorizer\n",
    "from sklearn.model_selection import train_test_split\n",
    "from sklearn.ensemble import RandomForestClassifier\n",
    "from sklearn.metrics import accuracy_score, classification_report, confusion_matrix\n",
    "from sklearn.naive_bayes import MultinomialNB\n",
    "from sklearn.ensemble import GradientBoostingClassifier\n",
    "import tensorflow as tf\n",
    "import nltk\n",
    "from tqdm import tqdm\n",
    "import re \n",
    "nltk.download(\"stopwords\")\n",
    "from nltk.corpus import stopwords\n",
    "from nltk.stem.porter import *\n"
   ]
  },
  {
   "cell_type": "code",
   "execution_count": null,
   "metadata": {
    "colab": {
     "base_uri": "https://localhost:8080/"
    },
    "id": "Z6RRGLPdnDBd",
    "outputId": "6ee96766-f8e7-4af3-c45d-951062c11bae"
   },
   "outputs": [
    {
     "name": "stdout",
     "output_type": "stream",
     "text": [
      "Looking in indexes: https://pypi.org/simple, https://us-python.pkg.dev/colab-wheels/public/simple/\n",
      "Requirement already satisfied: jsonlines in /usr/local/lib/python3.7/dist-packages (3.0.0)\n",
      "Requirement already satisfied: typing-extensions in /usr/local/lib/python3.7/dist-packages (from jsonlines) (4.2.0)\n",
      "Requirement already satisfied: attrs>=19.2.0 in /usr/local/lib/python3.7/dist-packages (from jsonlines) (21.4.0)\n"
     ]
    }
   ],
   "source": [
    "#Installing required libraries\n",
    "!pip install jsonlines"
   ]
  },
  {
   "cell_type": "code",
   "execution_count": null,
   "metadata": {
    "colab": {
     "base_uri": "https://localhost:8080/"
    },
    "id": "bZPkq8hzaXuk",
    "outputId": "62c340fe-995e-4a01-e43d-67fdfde85f6e"
   },
   "outputs": [
    {
     "name": "stdout",
     "output_type": "stream",
     "text": [
      "Drive already mounted at /content/drive; to attempt to forcibly remount, call drive.mount(\"/content/drive\", force_remount=True).\n"
     ]
    }
   ],
   "source": [
    "from google.colab import drive\n",
    "drive.mount('/content/drive')"
   ]
  },
  {
   "cell_type": "code",
   "execution_count": null,
   "metadata": {
    "id": "Rxda2yWX-A4f"
   },
   "outputs": [],
   "source": [
    "#Reading data"
   ]
  },
  {
   "cell_type": "code",
   "execution_count": null,
   "metadata": {
    "id": "kSIsWT71l8fQ"
   },
   "outputs": [],
   "source": [
    "#To change the data directory just change path variable to the path of data file\n",
    "path = \"/content/drive/MyDrive/Colab Notebooks/jd_data_1000.jsonl\""
   ]
  },
  {
   "cell_type": "markdown",
   "metadata": {
    "id": "IzwfPEdXvVSi"
   },
   "source": [
    "##**Reading the data and processing it to be used in classifiers**"
   ]
  },
  {
   "cell_type": "code",
   "execution_count": null,
   "metadata": {
    "id": "Km8x7fhCnfC4"
   },
   "outputs": [],
   "source": [
    "import jsonlines\n",
    "text = []\n",
    "label = []\n",
    "title = []\n",
    "i=0\n",
    "with jsonlines.open(path) as f:\n",
    "    for line in f.iter():\n",
    "        text.append(line['text'])\n",
    "        label.append(line['label'])\n",
    "        title.append(line[\"title\"])\n",
    "        i+=1\n",
    "        if i==5000:\n",
    "            break"
   ]
  },
  {
   "cell_type": "markdown",
   "metadata": {
    "id": "5LWrYO_--Jzu"
   },
   "source": [
    "##**Creating DataFrame from features**"
   ]
  },
  {
   "cell_type": "code",
   "execution_count": null,
   "metadata": {
    "id": "3armsl1qoMUR"
   },
   "outputs": [],
   "source": [
    "df = pd.DataFrame({'text':text, \"title\":title, 'label':label})"
   ]
  },
  {
   "cell_type": "code",
   "execution_count": null,
   "metadata": {
    "colab": {
     "base_uri": "https://localhost:8080/",
     "height": 300
    },
    "id": "Ebimh4ugodfv",
    "outputId": "9ad92690-a16d-4651-da85-9c3e0cf9b0ad"
   },
   "outputs": [
    {
     "data": {
      "text/html": [
       "\n",
       "  <div id=\"df-1b5b35ce-7f99-4ce0-ad1d-277e5ed6e834\">\n",
       "    <div class=\"colab-df-container\">\n",
       "      <div>\n",
       "<style scoped>\n",
       "    .dataframe tbody tr th:only-of-type {\n",
       "        vertical-align: middle;\n",
       "    }\n",
       "\n",
       "    .dataframe tbody tr th {\n",
       "        vertical-align: top;\n",
       "    }\n",
       "\n",
       "    .dataframe thead th {\n",
       "        text-align: right;\n",
       "    }\n",
       "</style>\n",
       "<table border=\"1\" class=\"dataframe\">\n",
       "  <thead>\n",
       "    <tr style=\"text-align: right;\">\n",
       "      <th></th>\n",
       "      <th>text</th>\n",
       "      <th>title</th>\n",
       "      <th>label</th>\n",
       "    </tr>\n",
       "  </thead>\n",
       "  <tbody>\n",
       "    <tr>\n",
       "      <th>0</th>\n",
       "      <td>Search by Keyword More Options Search by Locat...</td>\n",
       "      <td>Loss Prevention Detective - Colma</td>\n",
       "      <td>Accounting</td>\n",
       "    </tr>\n",
       "    <tr>\n",
       "      <th>1</th>\n",
       "      <td>Description At more than 80 award-winning prop...</td>\n",
       "      <td>Loss Prevention Officer PM</td>\n",
       "      <td>Accounting</td>\n",
       "    </tr>\n",
       "    <tr>\n",
       "      <th>2</th>\n",
       "      <td>COMPANY DESCRIPTION: Ethos Risk Services is a ...</td>\n",
       "      <td>P/T Special Investigations Unit Field Investig...</td>\n",
       "      <td>Accounting</td>\n",
       "    </tr>\n",
       "    <tr>\n",
       "      <th>3</th>\n",
       "      <td>You’ve always been hyper alert to your surroun...</td>\n",
       "      <td>Loss Prevention/Hotel Security - On Call</td>\n",
       "      <td>Accounting</td>\n",
       "    </tr>\n",
       "    <tr>\n",
       "      <th>4</th>\n",
       "      <td>Your surprise is waiting! Explore career oppor...</td>\n",
       "      <td>Loss Prevention Detective - Millbury</td>\n",
       "      <td>Accounting</td>\n",
       "    </tr>\n",
       "    <tr>\n",
       "      <th>5</th>\n",
       "      <td>Position Summary: Position Summary The Store L...</td>\n",
       "      <td>Loss Prevention Manager University Mall Belk</td>\n",
       "      <td>Accounting</td>\n",
       "    </tr>\n",
       "    <tr>\n",
       "      <th>6</th>\n",
       "      <td>Maxx life! Come check out the opportunities at...</td>\n",
       "      <td>Loss Prevention Detective - Burleson, TX</td>\n",
       "      <td>Accounting</td>\n",
       "    </tr>\n",
       "    <tr>\n",
       "      <th>7</th>\n",
       "      <td>Position Description Prevent inventory shrinka...</td>\n",
       "      <td>Full Time Loss Prevention &amp; Safety Specialist</td>\n",
       "      <td>Accounting</td>\n",
       "    </tr>\n",
       "  </tbody>\n",
       "</table>\n",
       "</div>\n",
       "      <button class=\"colab-df-convert\" onclick=\"convertToInteractive('df-1b5b35ce-7f99-4ce0-ad1d-277e5ed6e834')\"\n",
       "              title=\"Convert this dataframe to an interactive table.\"\n",
       "              style=\"display:none;\">\n",
       "        \n",
       "  <svg xmlns=\"http://www.w3.org/2000/svg\" height=\"24px\"viewBox=\"0 0 24 24\"\n",
       "       width=\"24px\">\n",
       "    <path d=\"M0 0h24v24H0V0z\" fill=\"none\"/>\n",
       "    <path d=\"M18.56 5.44l.94 2.06.94-2.06 2.06-.94-2.06-.94-.94-2.06-.94 2.06-2.06.94zm-11 1L8.5 8.5l.94-2.06 2.06-.94-2.06-.94L8.5 2.5l-.94 2.06-2.06.94zm10 10l.94 2.06.94-2.06 2.06-.94-2.06-.94-.94-2.06-.94 2.06-2.06.94z\"/><path d=\"M17.41 7.96l-1.37-1.37c-.4-.4-.92-.59-1.43-.59-.52 0-1.04.2-1.43.59L10.3 9.45l-7.72 7.72c-.78.78-.78 2.05 0 2.83L4 21.41c.39.39.9.59 1.41.59.51 0 1.02-.2 1.41-.59l7.78-7.78 2.81-2.81c.8-.78.8-2.07 0-2.86zM5.41 20L4 18.59l7.72-7.72 1.47 1.35L5.41 20z\"/>\n",
       "  </svg>\n",
       "      </button>\n",
       "      \n",
       "  <style>\n",
       "    .colab-df-container {\n",
       "      display:flex;\n",
       "      flex-wrap:wrap;\n",
       "      gap: 12px;\n",
       "    }\n",
       "\n",
       "    .colab-df-convert {\n",
       "      background-color: #E8F0FE;\n",
       "      border: none;\n",
       "      border-radius: 50%;\n",
       "      cursor: pointer;\n",
       "      display: none;\n",
       "      fill: #1967D2;\n",
       "      height: 32px;\n",
       "      padding: 0 0 0 0;\n",
       "      width: 32px;\n",
       "    }\n",
       "\n",
       "    .colab-df-convert:hover {\n",
       "      background-color: #E2EBFA;\n",
       "      box-shadow: 0px 1px 2px rgba(60, 64, 67, 0.3), 0px 1px 3px 1px rgba(60, 64, 67, 0.15);\n",
       "      fill: #174EA6;\n",
       "    }\n",
       "\n",
       "    [theme=dark] .colab-df-convert {\n",
       "      background-color: #3B4455;\n",
       "      fill: #D2E3FC;\n",
       "    }\n",
       "\n",
       "    [theme=dark] .colab-df-convert:hover {\n",
       "      background-color: #434B5C;\n",
       "      box-shadow: 0px 1px 3px 1px rgba(0, 0, 0, 0.15);\n",
       "      filter: drop-shadow(0px 1px 2px rgba(0, 0, 0, 0.3));\n",
       "      fill: #FFFFFF;\n",
       "    }\n",
       "  </style>\n",
       "\n",
       "      <script>\n",
       "        const buttonEl =\n",
       "          document.querySelector('#df-1b5b35ce-7f99-4ce0-ad1d-277e5ed6e834 button.colab-df-convert');\n",
       "        buttonEl.style.display =\n",
       "          google.colab.kernel.accessAllowed ? 'block' : 'none';\n",
       "\n",
       "        async function convertToInteractive(key) {\n",
       "          const element = document.querySelector('#df-1b5b35ce-7f99-4ce0-ad1d-277e5ed6e834');\n",
       "          const dataTable =\n",
       "            await google.colab.kernel.invokeFunction('convertToInteractive',\n",
       "                                                     [key], {});\n",
       "          if (!dataTable) return;\n",
       "\n",
       "          const docLinkHtml = 'Like what you see? Visit the ' +\n",
       "            '<a target=\"_blank\" href=https://colab.research.google.com/notebooks/data_table.ipynb>data table notebook</a>'\n",
       "            + ' to learn more about interactive tables.';\n",
       "          element.innerHTML = '';\n",
       "          dataTable['output_type'] = 'display_data';\n",
       "          await google.colab.output.renderOutput(dataTable, element);\n",
       "          const docLink = document.createElement('div');\n",
       "          docLink.innerHTML = docLinkHtml;\n",
       "          element.appendChild(docLink);\n",
       "        }\n",
       "      </script>\n",
       "    </div>\n",
       "  </div>\n",
       "  "
      ],
      "text/plain": [
       "                                                text  \\\n",
       "0  Search by Keyword More Options Search by Locat...   \n",
       "1  Description At more than 80 award-winning prop...   \n",
       "2  COMPANY DESCRIPTION: Ethos Risk Services is a ...   \n",
       "3  You’ve always been hyper alert to your surroun...   \n",
       "4  Your surprise is waiting! Explore career oppor...   \n",
       "5  Position Summary: Position Summary The Store L...   \n",
       "6  Maxx life! Come check out the opportunities at...   \n",
       "7  Position Description Prevent inventory shrinka...   \n",
       "\n",
       "                                               title       label  \n",
       "0                  Loss Prevention Detective - Colma  Accounting  \n",
       "1                         Loss Prevention Officer PM  Accounting  \n",
       "2  P/T Special Investigations Unit Field Investig...  Accounting  \n",
       "3           Loss Prevention/Hotel Security - On Call  Accounting  \n",
       "4               Loss Prevention Detective - Millbury  Accounting  \n",
       "5       Loss Prevention Manager University Mall Belk  Accounting  \n",
       "6           Loss Prevention Detective - Burleson, TX  Accounting  \n",
       "7      Full Time Loss Prevention & Safety Specialist  Accounting  "
      ]
     },
     "execution_count": 264,
     "metadata": {},
     "output_type": "execute_result"
    }
   ],
   "source": [
    "df.head(8)"
   ]
  },
  {
   "cell_type": "markdown",
   "metadata": {
    "id": "b8lou_Tlr6ug"
   },
   "source": [
    "##**Text Data Analysis**"
   ]
  },
  {
   "cell_type": "code",
   "execution_count": null,
   "metadata": {
    "colab": {
     "base_uri": "https://localhost:8080/"
    },
    "id": "zVHCgbGEr_tm",
    "outputId": "4c007d7e-a081-441c-f8bb-e945b662cc14"
   },
   "outputs": [
    {
     "name": "stdout",
     "output_type": "stream",
     "text": [
      "<class 'pandas.core.frame.DataFrame'>\n",
      "RangeIndex: 5000 entries, 0 to 4999\n",
      "Data columns (total 3 columns):\n",
      " #   Column  Non-Null Count  Dtype \n",
      "---  ------  --------------  ----- \n",
      " 0   text    5000 non-null   object\n",
      " 1   title   5000 non-null   object\n",
      " 2   label   5000 non-null   object\n",
      "dtypes: object(3)\n",
      "memory usage: 117.3+ KB\n"
     ]
    }
   ],
   "source": [
    "df.info()"
   ]
  },
  {
   "cell_type": "code",
   "execution_count": null,
   "metadata": {
    "id": "JUwTpM6MHncf"
   },
   "outputs": [],
   "source": [
    "#There are total 20000 entities in our dataset"
   ]
  },
  {
   "cell_type": "code",
   "execution_count": null,
   "metadata": {
    "id": "uoESRrZ0uVco"
   },
   "outputs": [],
   "source": [
    "#Checking unique lables in dataset"
   ]
  },
  {
   "cell_type": "code",
   "execution_count": null,
   "metadata": {
    "colab": {
     "base_uri": "https://localhost:8080/"
    },
    "id": "Ur0PU3e8uLww",
    "outputId": "c905f17c-1d0e-430e-e488-0fb704626629"
   },
   "outputs": [
    {
     "data": {
      "text/plain": [
       "array(['Accounting', 'Administrative Support', 'Engineering',\n",
       "       'Finance - Banking', 'Finance - Investment'], dtype=object)"
      ]
     },
     "execution_count": 268,
     "metadata": {},
     "output_type": "execute_result"
    }
   ],
   "source": [
    "df['label'].unique()"
   ]
  },
  {
   "cell_type": "code",
   "execution_count": null,
   "metadata": {
    "colab": {
     "base_uri": "https://localhost:8080/"
    },
    "id": "q-cH2EUPukCl",
    "outputId": "d4da6421-0ac5-47e3-b323-baf893432080"
   },
   "outputs": [
    {
     "data": {
      "text/plain": [
       "5"
      ]
     },
     "execution_count": 269,
     "metadata": {},
     "output_type": "execute_result"
    }
   ],
   "source": [
    "#Checking how many unique entities are there label column\n",
    "df['label'].nunique()"
   ]
  },
  {
   "cell_type": "code",
   "execution_count": null,
   "metadata": {
    "colab": {
     "base_uri": "https://localhost:8080/"
    },
    "id": "9w1njAsBwLHC",
    "outputId": "0bd9a494-3485-475e-fa26-cc9be0aac787"
   },
   "outputs": [
    {
     "data": {
      "text/plain": [
       "Accounting                1000\n",
       "Administrative Support    1000\n",
       "Engineering               1000\n",
       "Finance - Banking         1000\n",
       "Finance - Investment      1000\n",
       "Name: label, dtype: int64"
      ]
     },
     "execution_count": 270,
     "metadata": {},
     "output_type": "execute_result"
    }
   ],
   "source": [
    "#checking frequency of each lable in dataset\n",
    "df['label'].value_counts()"
   ]
  },
  {
   "cell_type": "code",
   "execution_count": null,
   "metadata": {
    "id": "DbhpfzPIy4Et"
   },
   "outputs": [],
   "source": [
    "# It seems that every label has same number of data points"
   ]
  },
  {
   "cell_type": "code",
   "execution_count": null,
   "metadata": {
    "id": "dvFfq3-yzB8a"
   },
   "outputs": [],
   "source": [
    "# It shows that there are 1000 entities for each label"
   ]
  },
  {
   "cell_type": "code",
   "execution_count": null,
   "metadata": {
    "id": "i8ozWlGLvGjv"
   },
   "outputs": [],
   "source": [
    "#Visualizing the frequency of each label"
   ]
  },
  {
   "cell_type": "code",
   "execution_count": null,
   "metadata": {
    "colab": {
     "base_uri": "https://localhost:8080/",
     "height": 297
    },
    "id": "UVdSzfNrvOEE",
    "outputId": "cf315951-c0e9-4bee-8c90-bb56af19026f"
   },
   "outputs": [
    {
     "data": {
      "text/plain": [
       "<matplotlib.axes._subplots.AxesSubplot at 0x7f8cb81564d0>"
      ]
     },
     "execution_count": 274,
     "metadata": {},
     "output_type": "execute_result"
    },
    {
     "data": {
      "image/png": "[encoded data removed]",
      "text/plain": [
       "<Figure size 432x288 with 1 Axes>"
      ]
     },
     "metadata": {},
     "output_type": "display_data"
    }
   ],
   "source": [
    "sns.set_style('darkgrid')\n",
    "sns.countplot(data=df, x=df[\"label\"])"
   ]
  },
  {
   "cell_type": "code",
   "execution_count": null,
   "metadata": {
    "id": "dU6xSrZqyILf"
   },
   "outputs": [],
   "source": [
    "# Due to long text colulmns names are not visible but it clearly shows that everything attribute has same frequency \n",
    "# It also shows that data is not imbalanced"
   ]
  },
  {
   "cell_type": "code",
   "execution_count": null,
   "metadata": {
    "colab": {
     "base_uri": "https://localhost:8080/"
    },
    "id": "UdaAlUmb1P8C",
    "outputId": "454ee19c-854b-40a3-cc90-577854aa4c8c"
   },
   "outputs": [
    {
     "data": {
      "text/plain": [
       "0                       Loss Prevention Detective - Colma\n",
       "1                              Loss Prevention Officer PM\n",
       "2       P/T Special Investigations Unit Field Investig...\n",
       "3                Loss Prevention/Hotel Security - On Call\n",
       "4                    Loss Prevention Detective - Millbury\n",
       "                              ...                        \n",
       "4995                           Analyst, Investment Banker\n",
       "4996    CIB - Investment Banking - Consumer & Retail C...\n",
       "4997                                Sr. Financial Analyst\n",
       "4998                                 Network Analyst (IT)\n",
       "4999                                Compliance Analyst AR\n",
       "Name: title, Length: 5000, dtype: object"
      ]
     },
     "execution_count": 276,
     "metadata": {},
     "output_type": "execute_result"
    }
   ],
   "source": [
    "df['title']"
   ]
  },
  {
   "cell_type": "code",
   "execution_count": null,
   "metadata": {
    "colab": {
     "base_uri": "https://localhost:8080/"
    },
    "id": "I_KrvK5L1bHI",
    "outputId": "aa1b2c7b-a0fc-44a6-b1cb-8b61bee5a15b"
   },
   "outputs": [
    {
     "name": "stdout",
     "output_type": "stream",
     "text": [
      "Number of unique values in title column 1811\n"
     ]
    }
   ],
   "source": [
    "print(\"Number of unique values in title column\", df['title'].nunique())"
   ]
  },
  {
   "cell_type": "code",
   "execution_count": null,
   "metadata": {
    "id": "lwkBHZkUH8d9"
   },
   "outputs": [],
   "source": [
    "#Calculating characters in title\n",
    "df['title_character_count'] = df[\"title\"].apply(lambda x: sum(len(word) for word in str(x).split(\" \")))"
   ]
  },
  {
   "cell_type": "code",
   "execution_count": null,
   "metadata": {
    "colab": {
     "base_uri": "https://localhost:8080/"
    },
    "id": "iNGnbDGIKL5r",
    "outputId": "355d121b-4ab9-4860-b458-590a3cd344ac"
   },
   "outputs": [
    {
     "data": {
      "text/plain": [
       "0       29\n",
       "1       23\n",
       "2       50\n",
       "3       35\n",
       "4       32\n",
       "        ..\n",
       "4995    24\n",
       "4996    60\n",
       "4997    19\n",
       "4998    18\n",
       "4999    19\n",
       "Name: title_character_count, Length: 5000, dtype: int64"
      ]
     },
     "execution_count": 279,
     "metadata": {},
     "output_type": "execute_result"
    }
   ],
   "source": [
    "df['title_character_count']"
   ]
  },
  {
   "cell_type": "code",
   "execution_count": null,
   "metadata": {
    "colab": {
     "base_uri": "https://localhost:8080/"
    },
    "id": "Nl1uf9nVL8Yi",
    "outputId": "c9ae05fb-3dd4-4031-c2cc-752a8c9b9bf5"
   },
   "outputs": [
    {
     "name": "stdout",
     "output_type": "stream",
     "text": [
      "Average characters in title column  25\n"
     ]
    }
   ],
   "source": [
    "print(\"Average characters in title column \" , int(df['title_character_count'].mean()))"
   ]
  },
  {
   "cell_type": "code",
   "execution_count": null,
   "metadata": {
    "colab": {
     "base_uri": "https://localhost:8080/"
    },
    "id": "i56jpOztKb3b",
    "outputId": "ae380a37-e8e7-4f45-b585-421a342c49c5"
   },
   "outputs": [
    {
     "data": {
      "text/plain": [
       "0                       Loss Prevention Detective - Colma\n",
       "1                              Loss Prevention Officer PM\n",
       "2       P/T Special Investigations Unit Field Investig...\n",
       "3                Loss Prevention/Hotel Security - On Call\n",
       "4                    Loss Prevention Detective - Millbury\n",
       "                              ...                        \n",
       "4995                           Analyst, Investment Banker\n",
       "4996    CIB - Investment Banking - Consumer & Retail C...\n",
       "4997                                Sr. Financial Analyst\n",
       "4998                                 Network Analyst (IT)\n",
       "4999                                Compliance Analyst AR\n",
       "Name: title, Length: 5000, dtype: object"
      ]
     },
     "execution_count": 281,
     "metadata": {},
     "output_type": "execute_result"
    }
   ],
   "source": [
    "df['title']"
   ]
  },
  {
   "cell_type": "code",
   "execution_count": null,
   "metadata": {
    "id": "TMo4qU4A2KjO"
   },
   "outputs": [],
   "source": [
    "#top 10 titles "
   ]
  },
  {
   "cell_type": "code",
   "execution_count": null,
   "metadata": {
    "colab": {
     "base_uri": "https://localhost:8080/"
    },
    "id": "WPs7u40s1pMo",
    "outputId": "7828145c-0afc-46a7-9222-1fb5d5aa11dc"
   },
   "outputs": [
    {
     "data": {
      "text/plain": [
       "Software Engineer                 163\n",
       "Internal Auditor                  141\n",
       "Receptionist                      141\n",
       "Senior Internal Auditor           108\n",
       "Investment Analyst                 63\n",
       "Mechanical Engineer                59\n",
       "Patient Account Representative     57\n",
       "Accounting Intern                  54\n",
       "Office Administrator               43\n",
       "Quality Assurance Manager          34\n",
       "Name: title, dtype: int64"
      ]
     },
     "execution_count": 283,
     "metadata": {},
     "output_type": "execute_result"
    }
   ],
   "source": [
    "df['title'].value_counts().head(10)"
   ]
  },
  {
   "cell_type": "code",
   "execution_count": null,
   "metadata": {
    "colab": {
     "base_uri": "https://localhost:8080/"
    },
    "id": "fDZa5DJR7XLi",
    "outputId": "c9494769-356c-48a8-bad5-2ed073a30f6d"
   },
   "outputs": [
    {
     "data": {
      "text/plain": [
       "2807"
      ]
     },
     "execution_count": 284,
     "metadata": {},
     "output_type": "execute_result"
    }
   ],
   "source": [
    "df['text'].nunique()"
   ]
  },
  {
   "cell_type": "code",
   "execution_count": null,
   "metadata": {
    "id": "3rIjZP2jMwnk"
   },
   "outputs": [],
   "source": [
    "#There are about 8000 job descriptions which has same text "
   ]
  },
  {
   "cell_type": "code",
   "execution_count": null,
   "metadata": {
    "id": "wU6qAoohM9HI"
   },
   "outputs": [],
   "source": [
    "df['text_character_count'] = df[\"text\"].apply(lambda x: sum(len(word) for word in str(x).split(\" \")))"
   ]
  },
  {
   "cell_type": "code",
   "execution_count": null,
   "metadata": {
    "colab": {
     "base_uri": "https://localhost:8080/"
    },
    "id": "z7LZ6B-hNJGH",
    "outputId": "e9b2b67a-36d3-4d24-82ef-480ab7a6e044"
   },
   "outputs": [
    {
     "data": {
      "text/plain": [
       "0       5256\n",
       "1       3142\n",
       "2       4028\n",
       "3       1379\n",
       "4       2620\n",
       "        ... \n",
       "4995    2223\n",
       "4996    2803\n",
       "4997    5652\n",
       "4998    2484\n",
       "4999    4029\n",
       "Name: text_character_count, Length: 5000, dtype: int64"
      ]
     },
     "execution_count": 287,
     "metadata": {},
     "output_type": "execute_result"
    }
   ],
   "source": [
    "df['text_character_count']"
   ]
  },
  {
   "cell_type": "code",
   "execution_count": null,
   "metadata": {
    "id": "zTC2LvY2NMTH"
   },
   "outputs": [],
   "source": [
    "df.drop(['title_character_count', 'text_character_count'], inplace=True, axis=1)"
   ]
  },
  {
   "cell_type": "markdown",
   "metadata": {
    "id": "vd5Vq0JbviKo"
   },
   "source": [
    "##**Encoding the label features**"
   ]
  },
  {
   "cell_type": "code",
   "execution_count": null,
   "metadata": {
    "id": "HxZDMUsFqsY-"
   },
   "outputs": [],
   "source": [
    "label_encoder = LabelEncoder()\n",
    "encoded_label = label_encoder.fit_transform(df['label'])\n",
    "df['label'] = encoded_label"
   ]
  },
  {
   "cell_type": "code",
   "execution_count": null,
   "metadata": {
    "id": "ZLx5jOnJSthh"
   },
   "outputs": [],
   "source": []
  },
  {
   "cell_type": "markdown",
   "metadata": {
    "id": "hAoLHWXYhBq6"
   },
   "source": [
    "##**Text Preprocessing:**\n",
    "Removing stop words and applying stemming techniques."
   ]
  },
  {
   "cell_type": "code",
   "execution_count": null,
   "metadata": {
    "colab": {
     "base_uri": "https://localhost:8080/"
    },
    "id": "3U3_l7loWw6f",
    "outputId": "e253a424-5772-4c22-823f-a6375de2dacb"
   },
   "outputs": [
    {
     "name": "stderr",
     "output_type": "stream",
     "text": [
      "100%|██████████| 5000/5000 [05:18<00:00, 15.70it/s]\n"
     ]
    }
   ],
   "source": [
    "def rm_stop_word_portstemming(text_col):\n",
    "    \n",
    "    # convert to lowercase\n",
    "    text = text_col.lower()\n",
    "    # remove non letters\n",
    "    text = re.sub(r\"[^a-zA-Z0-9]\", \" \", text)\n",
    "    # tokenize\n",
    "    words = text.split()\n",
    "    # remove stopwords\n",
    "    words = [w for w in words if w not in stopwords.words(\"english\")]\n",
    "    # apply stemming\n",
    "    words = [PorterStemmer().stem(w) for w in words]\n",
    "    # return list\n",
    "    return \" \".join(words)\n",
    "cleantext=[]\n",
    "for item in tqdm(df['text']):\n",
    "    words=rm_stop_word_portstemming(item)\n",
    "    cleantext+=[words]\n",
    "df['cleantext']=cleantext"
   ]
  },
  {
   "cell_type": "code",
   "execution_count": null,
   "metadata": {
    "colab": {
     "base_uri": "https://localhost:8080/"
    },
    "id": "_bvsA1UBbPqT",
    "outputId": "645967d2-aee3-4199-a4ef-acbd95d8c4fa"
   },
   "outputs": [
    {
     "name": "stderr",
     "output_type": "stream",
     "text": [
      "100%|██████████| 5000/5000 [00:03<00:00, 1321.28it/s]\n"
     ]
    }
   ],
   "source": [
    "def rm_stop_word_portstemming(text_col):\n",
    "    \n",
    "    # convert to lowercase\n",
    "    text = text_col.lower()\n",
    "    # remove non letters\n",
    "    text = re.sub(r\"[^a-zA-Z0-9]\", \" \", text)\n",
    "    # tokenize\n",
    "    words = text.split()\n",
    "    # remove stopwords\n",
    "    words = [w for w in words if w not in stopwords.words(\"english\")]\n",
    "    # apply stemming\n",
    "    words = [PorterStemmer().stem(w) for w in words]\n",
    "    # return list\n",
    "    return \" \".join(words)\n",
    "cleantext=[]\n",
    "for item in tqdm(df['title']):\n",
    "    words=rm_stop_word_portstemming(item)\n",
    "    cleantext+=[words]\n",
    "df['cleantitle']=cleantext"
   ]
  },
  {
   "cell_type": "code",
   "execution_count": null,
   "metadata": {
    "colab": {
     "base_uri": "https://localhost:8080/",
     "height": 572
    },
    "id": "-TKIUt11cf2d",
    "outputId": "3e9eb201-1e79-4441-de02-e5a79a9bbf99"
   },
   "outputs": [
    {
     "data": {
      "text/html": [
       "\n",
       "  <div id=\"df-c9b7569c-b540-4f5e-a22e-49ef00045570\">\n",
       "    <div class=\"colab-df-container\">\n",
       "      <div>\n",
       "<style scoped>\n",
       "    .dataframe tbody tr th:only-of-type {\n",
       "        vertical-align: middle;\n",
       "    }\n",
       "\n",
       "    .dataframe tbody tr th {\n",
       "        vertical-align: top;\n",
       "    }\n",
       "\n",
       "    .dataframe thead th {\n",
       "        text-align: right;\n",
       "    }\n",
       "</style>\n",
       "<table border=\"1\" class=\"dataframe\">\n",
       "  <thead>\n",
       "    <tr style=\"text-align: right;\">\n",
       "      <th></th>\n",
       "      <th>text</th>\n",
       "      <th>title</th>\n",
       "      <th>label</th>\n",
       "      <th>cleantext</th>\n",
       "      <th>cleantitle</th>\n",
       "    </tr>\n",
       "  </thead>\n",
       "  <tbody>\n",
       "    <tr>\n",
       "      <th>0</th>\n",
       "      <td>Search by Keyword More Options Search by Locat...</td>\n",
       "      <td>Loss Prevention Detective - Colma</td>\n",
       "      <td>0</td>\n",
       "      <td>search keyword option search locat clear load ...</td>\n",
       "      <td>loss prevent detect colma</td>\n",
       "    </tr>\n",
       "    <tr>\n",
       "      <th>1</th>\n",
       "      <td>Description At more than 80 award-winning prop...</td>\n",
       "      <td>Loss Prevention Officer PM</td>\n",
       "      <td>0</td>\n",
       "      <td>descript 80 award win properti worldwid ritz c...</td>\n",
       "      <td>loss prevent offic pm</td>\n",
       "    </tr>\n",
       "    <tr>\n",
       "      <th>2</th>\n",
       "      <td>COMPANY DESCRIPTION: Ethos Risk Services is a ...</td>\n",
       "      <td>P/T Special Investigations Unit Field Investig...</td>\n",
       "      <td>0</td>\n",
       "      <td>compani descript etho risk servic nation renow...</td>\n",
       "      <td>p special investig unit field investig siu</td>\n",
       "    </tr>\n",
       "    <tr>\n",
       "      <th>3</th>\n",
       "      <td>You’ve always been hyper alert to your surroun...</td>\n",
       "      <td>Loss Prevention/Hotel Security - On Call</td>\n",
       "      <td>0</td>\n",
       "      <td>alway hyper alert surround uncanni sens thing ...</td>\n",
       "      <td>loss prevent hotel secur call</td>\n",
       "    </tr>\n",
       "    <tr>\n",
       "      <th>4</th>\n",
       "      <td>Your surprise is waiting! Explore career oppor...</td>\n",
       "      <td>Loss Prevention Detective - Millbury</td>\n",
       "      <td>0</td>\n",
       "      <td>surpris wait explor career opportun marshal st...</td>\n",
       "      <td>loss prevent detect millburi</td>\n",
       "    </tr>\n",
       "    <tr>\n",
       "      <th>...</th>\n",
       "      <td>...</td>\n",
       "      <td>...</td>\n",
       "      <td>...</td>\n",
       "      <td>...</td>\n",
       "      <td>...</td>\n",
       "    </tr>\n",
       "    <tr>\n",
       "      <th>4995</th>\n",
       "      <td>Job Summary The Analyst position is responsibl...</td>\n",
       "      <td>Analyst, Investment Banker</td>\n",
       "      <td>4</td>\n",
       "      <td>job summari analyst posit respons analyz struc...</td>\n",
       "      <td>analyst invest banker</td>\n",
       "    </tr>\n",
       "    <tr>\n",
       "      <th>4996</th>\n",
       "      <td>J.P. Morgan’s Corporate &amp; Investment Bank is a...</td>\n",
       "      <td>CIB - Investment Banking - Consumer &amp; Retail C...</td>\n",
       "      <td>4</td>\n",
       "      <td>j p morgan corpor invest bank global leader ac...</td>\n",
       "      <td>cib invest bank consum retail coverag 1st year...</td>\n",
       "    </tr>\n",
       "    <tr>\n",
       "      <th>4997</th>\n",
       "      <td>Position Title: Senior Financial Analyst What ...</td>\n",
       "      <td>Sr. Financial Analyst</td>\n",
       "      <td>4</td>\n",
       "      <td>posit titl senior financi analyst need senior ...</td>\n",
       "      <td>sr financi analyst</td>\n",
       "    </tr>\n",
       "    <tr>\n",
       "      <th>4998</th>\n",
       "      <td>Join a high performing team! BRBH is looking f...</td>\n",
       "      <td>Network Analyst (IT)</td>\n",
       "      <td>4</td>\n",
       "      <td>join high perform team brbh look network analy...</td>\n",
       "      <td>network analyst</td>\n",
       "    </tr>\n",
       "    <tr>\n",
       "      <th>4999</th>\n",
       "      <td>Position Title: Compliance Analyst - Ad Review...</td>\n",
       "      <td>Compliance Analyst AR</td>\n",
       "      <td>4</td>\n",
       "      <td>posit titl complianc analyst ad review cetera ...</td>\n",
       "      <td>complianc analyst ar</td>\n",
       "    </tr>\n",
       "  </tbody>\n",
       "</table>\n",
       "<p>5000 rows × 5 columns</p>\n",
       "</div>\n",
       "      <button class=\"colab-df-convert\" onclick=\"convertToInteractive('df-c9b7569c-b540-4f5e-a22e-49ef00045570')\"\n",
       "              title=\"Convert this dataframe to an interactive table.\"\n",
       "              style=\"display:none;\">\n",
       "        \n",
       "  <svg xmlns=\"http://www.w3.org/2000/svg\" height=\"24px\"viewBox=\"0 0 24 24\"\n",
       "       width=\"24px\">\n",
       "    <path d=\"M0 0h24v24H0V0z\" fill=\"none\"/>\n",
       "    <path d=\"M18.56 5.44l.94 2.06.94-2.06 2.06-.94-2.06-.94-.94-2.06-.94 2.06-2.06.94zm-11 1L8.5 8.5l.94-2.06 2.06-.94-2.06-.94L8.5 2.5l-.94 2.06-2.06.94zm10 10l.94 2.06.94-2.06 2.06-.94-2.06-.94-.94-2.06-.94 2.06-2.06.94z\"/><path d=\"M17.41 7.96l-1.37-1.37c-.4-.4-.92-.59-1.43-.59-.52 0-1.04.2-1.43.59L10.3 9.45l-7.72 7.72c-.78.78-.78 2.05 0 2.83L4 21.41c.39.39.9.59 1.41.59.51 0 1.02-.2 1.41-.59l7.78-7.78 2.81-2.81c.8-.78.8-2.07 0-2.86zM5.41 20L4 18.59l7.72-7.72 1.47 1.35L5.41 20z\"/>\n",
       "  </svg>\n",
       "      </button>\n",
       "      \n",
       "  <style>\n",
       "    .colab-df-container {\n",
       "      display:flex;\n",
       "      flex-wrap:wrap;\n",
       "      gap: 12px;\n",
       "    }\n",
       "\n",
       "    .colab-df-convert {\n",
       "      background-color: #E8F0FE;\n",
       "      border: none;\n",
       "      border-radius: 50%;\n",
       "      cursor: pointer;\n",
       "      display: none;\n",
       "      fill: #1967D2;\n",
       "      height: 32px;\n",
       "      padding: 0 0 0 0;\n",
       "      width: 32px;\n",
       "    }\n",
       "\n",
       "    .colab-df-convert:hover {\n",
       "      background-color: #E2EBFA;\n",
       "      box-shadow: 0px 1px 2px rgba(60, 64, 67, 0.3), 0px 1px 3px 1px rgba(60, 64, 67, 0.15);\n",
       "      fill: #174EA6;\n",
       "    }\n",
       "\n",
       "    [theme=dark] .colab-df-convert {\n",
       "      background-color: #3B4455;\n",
       "      fill: #D2E3FC;\n",
       "    }\n",
       "\n",
       "    [theme=dark] .colab-df-convert:hover {\n",
       "      background-color: #434B5C;\n",
       "      box-shadow: 0px 1px 3px 1px rgba(0, 0, 0, 0.15);\n",
       "      filter: drop-shadow(0px 1px 2px rgba(0, 0, 0, 0.3));\n",
       "      fill: #FFFFFF;\n",
       "    }\n",
       "  </style>\n",
       "\n",
       "      <script>\n",
       "        const buttonEl =\n",
       "          document.querySelector('#df-c9b7569c-b540-4f5e-a22e-49ef00045570 button.colab-df-convert');\n",
       "        buttonEl.style.display =\n",
       "          google.colab.kernel.accessAllowed ? 'block' : 'none';\n",
       "\n",
       "        async function convertToInteractive(key) {\n",
       "          const element = document.querySelector('#df-c9b7569c-b540-4f5e-a22e-49ef00045570');\n",
       "          const dataTable =\n",
       "            await google.colab.kernel.invokeFunction('convertToInteractive',\n",
       "                                                     [key], {});\n",
       "          if (!dataTable) return;\n",
       "\n",
       "          const docLinkHtml = 'Like what you see? Visit the ' +\n",
       "            '<a target=\"_blank\" href=https://colab.research.google.com/notebooks/data_table.ipynb>data table notebook</a>'\n",
       "            + ' to learn more about interactive tables.';\n",
       "          element.innerHTML = '';\n",
       "          dataTable['output_type'] = 'display_data';\n",
       "          await google.colab.output.renderOutput(dataTable, element);\n",
       "          const docLink = document.createElement('div');\n",
       "          docLink.innerHTML = docLinkHtml;\n",
       "          element.appendChild(docLink);\n",
       "        }\n",
       "      </script>\n",
       "    </div>\n",
       "  </div>\n",
       "  "
      ],
      "text/plain": [
       "                                                   text  \\\n",
       "0     Search by Keyword More Options Search by Locat...   \n",
       "1     Description At more than 80 award-winning prop...   \n",
       "2     COMPANY DESCRIPTION: Ethos Risk Services is a ...   \n",
       "3     You’ve always been hyper alert to your surroun...   \n",
       "4     Your surprise is waiting! Explore career oppor...   \n",
       "...                                                 ...   \n",
       "4995  Job Summary The Analyst position is responsibl...   \n",
       "4996  J.P. Morgan’s Corporate & Investment Bank is a...   \n",
       "4997  Position Title: Senior Financial Analyst What ...   \n",
       "4998  Join a high performing team! BRBH is looking f...   \n",
       "4999  Position Title: Compliance Analyst - Ad Review...   \n",
       "\n",
       "                                                  title  label  \\\n",
       "0                     Loss Prevention Detective - Colma      0   \n",
       "1                            Loss Prevention Officer PM      0   \n",
       "2     P/T Special Investigations Unit Field Investig...      0   \n",
       "3              Loss Prevention/Hotel Security - On Call      0   \n",
       "4                  Loss Prevention Detective - Millbury      0   \n",
       "...                                                 ...    ...   \n",
       "4995                         Analyst, Investment Banker      4   \n",
       "4996  CIB - Investment Banking - Consumer & Retail C...      4   \n",
       "4997                              Sr. Financial Analyst      4   \n",
       "4998                               Network Analyst (IT)      4   \n",
       "4999                              Compliance Analyst AR      4   \n",
       "\n",
       "                                              cleantext  \\\n",
       "0     search keyword option search locat clear load ...   \n",
       "1     descript 80 award win properti worldwid ritz c...   \n",
       "2     compani descript etho risk servic nation renow...   \n",
       "3     alway hyper alert surround uncanni sens thing ...   \n",
       "4     surpris wait explor career opportun marshal st...   \n",
       "...                                                 ...   \n",
       "4995  job summari analyst posit respons analyz struc...   \n",
       "4996  j p morgan corpor invest bank global leader ac...   \n",
       "4997  posit titl senior financi analyst need senior ...   \n",
       "4998  join high perform team brbh look network analy...   \n",
       "4999  posit titl complianc analyst ad review cetera ...   \n",
       "\n",
       "                                             cleantitle  \n",
       "0                             loss prevent detect colma  \n",
       "1                                 loss prevent offic pm  \n",
       "2            p special investig unit field investig siu  \n",
       "3                         loss prevent hotel secur call  \n",
       "4                          loss prevent detect millburi  \n",
       "...                                                 ...  \n",
       "4995                              analyst invest banker  \n",
       "4996  cib invest bank consum retail coverag 1st year...  \n",
       "4997                                 sr financi analyst  \n",
       "4998                                    network analyst  \n",
       "4999                               complianc analyst ar  \n",
       "\n",
       "[5000 rows x 5 columns]"
      ]
     },
     "execution_count": 298,
     "metadata": {},
     "output_type": "execute_result"
    }
   ],
   "source": [
    "df"
   ]
  },
  {
   "cell_type": "markdown",
   "metadata": {
    "id": "r2T6ftNJvnUP"
   },
   "source": [
    "##**Converting text to numbers to feed them into Model**"
   ]
  },
  {
   "cell_type": "code",
   "execution_count": null,
   "metadata": {
    "id": "0rKyDBwip5Dp"
   },
   "outputs": [],
   "source": [
    "# TFidf vectorizer for text features\n",
    "vectorizer            =  TfidfVectorizer()\n",
    "tf_idf_features =  vectorizer.fit_transform(df['cleantext']).toarray()\n",
    "tf_idf_features          = pd.DataFrame(tf_idf_features)\n"
   ]
  },
  {
   "cell_type": "code",
   "execution_count": null,
   "metadata": {
    "id": "JB1z29rrvy06"
   },
   "outputs": [],
   "source": [
    "# TFidf vectorizer for title features\n",
    "vectorizer            =  TfidfVectorizer()\n",
    "tf_idf_features2 =  vectorizer.fit_transform(df['cleantitle']).toarray()\n",
    "tf_idf_features2          = pd.DataFrame(tf_idf_features2)\n"
   ]
  },
  {
   "cell_type": "code",
   "execution_count": null,
   "metadata": {
    "id": "q0D8LS0Ty0zU"
   },
   "outputs": [],
   "source": [
    "#Concatenating all the features into one dataframe for flexibility and simplicity\n",
    "\n",
    "df = pd.concat([df, tf_idf_features, tf_idf_features2], axis=1, join='inner')"
   ]
  },
  {
   "cell_type": "code",
   "execution_count": null,
   "metadata": {
    "colab": {
     "base_uri": "https://localhost:8080/",
     "height": 849
    },
    "id": "BQnfpoTic4k9",
    "outputId": "0003c3b1-51d4-4cfd-f505-1f423b9bdb82"
   },
   "outputs": [
    {
     "data": {
      "text/html": [
       "\n",
       "  <div id=\"df-bf326157-b7fd-41dc-80ef-85d4c7d46da9\">\n",
       "    <div class=\"colab-df-container\">\n",
       "      <div>\n",
       "<style scoped>\n",
       "    .dataframe tbody tr th:only-of-type {\n",
       "        vertical-align: middle;\n",
       "    }\n",
       "\n",
       "    .dataframe tbody tr th {\n",
       "        vertical-align: top;\n",
       "    }\n",
       "\n",
       "    .dataframe thead th {\n",
       "        text-align: right;\n",
       "    }\n",
       "</style>\n",
       "<table border=\"1\" class=\"dataframe\">\n",
       "  <thead>\n",
       "    <tr style=\"text-align: right;\">\n",
       "      <th></th>\n",
       "      <th>text</th>\n",
       "      <th>title</th>\n",
       "      <th>label</th>\n",
       "      <th>cleantext</th>\n",
       "      <th>cleantitle</th>\n",
       "      <th>0</th>\n",
       "      <th>1</th>\n",
       "      <th>2</th>\n",
       "      <th>3</th>\n",
       "      <th>4</th>\n",
       "      <th>...</th>\n",
       "      <th>1186</th>\n",
       "      <th>1187</th>\n",
       "      <th>1188</th>\n",
       "      <th>1189</th>\n",
       "      <th>1190</th>\n",
       "      <th>1191</th>\n",
       "      <th>1192</th>\n",
       "      <th>1193</th>\n",
       "      <th>1194</th>\n",
       "      <th>1195</th>\n",
       "    </tr>\n",
       "  </thead>\n",
       "  <tbody>\n",
       "    <tr>\n",
       "      <th>0</th>\n",
       "      <td>Search by Keyword More Options Search by Locat...</td>\n",
       "      <td>Loss Prevention Detective - Colma</td>\n",
       "      <td>0</td>\n",
       "      <td>search keyword option search locat clear load ...</td>\n",
       "      <td>loss prevent detect colma</td>\n",
       "      <td>0.0</td>\n",
       "      <td>0.029486</td>\n",
       "      <td>0.0</td>\n",
       "      <td>0.0</td>\n",
       "      <td>0.0</td>\n",
       "      <td>...</td>\n",
       "      <td>0.0</td>\n",
       "      <td>0.0</td>\n",
       "      <td>0.0</td>\n",
       "      <td>0.0</td>\n",
       "      <td>0.0</td>\n",
       "      <td>0.0</td>\n",
       "      <td>0.000000</td>\n",
       "      <td>0.0</td>\n",
       "      <td>0.0</td>\n",
       "      <td>0.0</td>\n",
       "    </tr>\n",
       "    <tr>\n",
       "      <th>1</th>\n",
       "      <td>Description At more than 80 award-winning prop...</td>\n",
       "      <td>Loss Prevention Officer PM</td>\n",
       "      <td>0</td>\n",
       "      <td>descript 80 award win properti worldwid ritz c...</td>\n",
       "      <td>loss prevent offic pm</td>\n",
       "      <td>0.0</td>\n",
       "      <td>0.000000</td>\n",
       "      <td>0.0</td>\n",
       "      <td>0.0</td>\n",
       "      <td>0.0</td>\n",
       "      <td>...</td>\n",
       "      <td>0.0</td>\n",
       "      <td>0.0</td>\n",
       "      <td>0.0</td>\n",
       "      <td>0.0</td>\n",
       "      <td>0.0</td>\n",
       "      <td>0.0</td>\n",
       "      <td>0.000000</td>\n",
       "      <td>0.0</td>\n",
       "      <td>0.0</td>\n",
       "      <td>0.0</td>\n",
       "    </tr>\n",
       "    <tr>\n",
       "      <th>2</th>\n",
       "      <td>COMPANY DESCRIPTION: Ethos Risk Services is a ...</td>\n",
       "      <td>P/T Special Investigations Unit Field Investig...</td>\n",
       "      <td>0</td>\n",
       "      <td>compani descript etho risk servic nation renow...</td>\n",
       "      <td>p special investig unit field investig siu</td>\n",
       "      <td>0.0</td>\n",
       "      <td>0.000000</td>\n",
       "      <td>0.0</td>\n",
       "      <td>0.0</td>\n",
       "      <td>0.0</td>\n",
       "      <td>...</td>\n",
       "      <td>0.0</td>\n",
       "      <td>0.0</td>\n",
       "      <td>0.0</td>\n",
       "      <td>0.0</td>\n",
       "      <td>0.0</td>\n",
       "      <td>0.0</td>\n",
       "      <td>0.000000</td>\n",
       "      <td>0.0</td>\n",
       "      <td>0.0</td>\n",
       "      <td>0.0</td>\n",
       "    </tr>\n",
       "    <tr>\n",
       "      <th>3</th>\n",
       "      <td>You’ve always been hyper alert to your surroun...</td>\n",
       "      <td>Loss Prevention/Hotel Security - On Call</td>\n",
       "      <td>0</td>\n",
       "      <td>alway hyper alert surround uncanni sens thing ...</td>\n",
       "      <td>loss prevent hotel secur call</td>\n",
       "      <td>0.0</td>\n",
       "      <td>0.000000</td>\n",
       "      <td>0.0</td>\n",
       "      <td>0.0</td>\n",
       "      <td>0.0</td>\n",
       "      <td>...</td>\n",
       "      <td>0.0</td>\n",
       "      <td>0.0</td>\n",
       "      <td>0.0</td>\n",
       "      <td>0.0</td>\n",
       "      <td>0.0</td>\n",
       "      <td>0.0</td>\n",
       "      <td>0.000000</td>\n",
       "      <td>0.0</td>\n",
       "      <td>0.0</td>\n",
       "      <td>0.0</td>\n",
       "    </tr>\n",
       "    <tr>\n",
       "      <th>4</th>\n",
       "      <td>Your surprise is waiting! Explore career oppor...</td>\n",
       "      <td>Loss Prevention Detective - Millbury</td>\n",
       "      <td>0</td>\n",
       "      <td>surpris wait explor career opportun marshal st...</td>\n",
       "      <td>loss prevent detect millburi</td>\n",
       "      <td>0.0</td>\n",
       "      <td>0.069415</td>\n",
       "      <td>0.0</td>\n",
       "      <td>0.0</td>\n",
       "      <td>0.0</td>\n",
       "      <td>...</td>\n",
       "      <td>0.0</td>\n",
       "      <td>0.0</td>\n",
       "      <td>0.0</td>\n",
       "      <td>0.0</td>\n",
       "      <td>0.0</td>\n",
       "      <td>0.0</td>\n",
       "      <td>0.000000</td>\n",
       "      <td>0.0</td>\n",
       "      <td>0.0</td>\n",
       "      <td>0.0</td>\n",
       "    </tr>\n",
       "    <tr>\n",
       "      <th>...</th>\n",
       "      <td>...</td>\n",
       "      <td>...</td>\n",
       "      <td>...</td>\n",
       "      <td>...</td>\n",
       "      <td>...</td>\n",
       "      <td>...</td>\n",
       "      <td>...</td>\n",
       "      <td>...</td>\n",
       "      <td>...</td>\n",
       "      <td>...</td>\n",
       "      <td>...</td>\n",
       "      <td>...</td>\n",
       "      <td>...</td>\n",
       "      <td>...</td>\n",
       "      <td>...</td>\n",
       "      <td>...</td>\n",
       "      <td>...</td>\n",
       "      <td>...</td>\n",
       "      <td>...</td>\n",
       "      <td>...</td>\n",
       "      <td>...</td>\n",
       "    </tr>\n",
       "    <tr>\n",
       "      <th>4995</th>\n",
       "      <td>Job Summary The Analyst position is responsibl...</td>\n",
       "      <td>Analyst, Investment Banker</td>\n",
       "      <td>4</td>\n",
       "      <td>job summari analyst posit respons analyz struc...</td>\n",
       "      <td>analyst invest banker</td>\n",
       "      <td>0.0</td>\n",
       "      <td>0.000000</td>\n",
       "      <td>0.0</td>\n",
       "      <td>0.0</td>\n",
       "      <td>0.0</td>\n",
       "      <td>...</td>\n",
       "      <td>0.0</td>\n",
       "      <td>0.0</td>\n",
       "      <td>0.0</td>\n",
       "      <td>0.0</td>\n",
       "      <td>0.0</td>\n",
       "      <td>0.0</td>\n",
       "      <td>0.000000</td>\n",
       "      <td>0.0</td>\n",
       "      <td>0.0</td>\n",
       "      <td>0.0</td>\n",
       "    </tr>\n",
       "    <tr>\n",
       "      <th>4996</th>\n",
       "      <td>J.P. Morgan’s Corporate &amp; Investment Bank is a...</td>\n",
       "      <td>CIB - Investment Banking - Consumer &amp; Retail C...</td>\n",
       "      <td>4</td>\n",
       "      <td>j p morgan corpor invest bank global leader ac...</td>\n",
       "      <td>cib invest bank consum retail coverag 1st year...</td>\n",
       "      <td>0.0</td>\n",
       "      <td>0.000000</td>\n",
       "      <td>0.0</td>\n",
       "      <td>0.0</td>\n",
       "      <td>0.0</td>\n",
       "      <td>...</td>\n",
       "      <td>0.0</td>\n",
       "      <td>0.0</td>\n",
       "      <td>0.0</td>\n",
       "      <td>0.0</td>\n",
       "      <td>0.0</td>\n",
       "      <td>0.0</td>\n",
       "      <td>0.357311</td>\n",
       "      <td>0.0</td>\n",
       "      <td>0.0</td>\n",
       "      <td>0.0</td>\n",
       "    </tr>\n",
       "    <tr>\n",
       "      <th>4997</th>\n",
       "      <td>Position Title: Senior Financial Analyst What ...</td>\n",
       "      <td>Sr. Financial Analyst</td>\n",
       "      <td>4</td>\n",
       "      <td>posit titl senior financi analyst need senior ...</td>\n",
       "      <td>sr financi analyst</td>\n",
       "      <td>0.0</td>\n",
       "      <td>0.000000</td>\n",
       "      <td>0.0</td>\n",
       "      <td>0.0</td>\n",
       "      <td>0.0</td>\n",
       "      <td>...</td>\n",
       "      <td>0.0</td>\n",
       "      <td>0.0</td>\n",
       "      <td>0.0</td>\n",
       "      <td>0.0</td>\n",
       "      <td>0.0</td>\n",
       "      <td>0.0</td>\n",
       "      <td>0.000000</td>\n",
       "      <td>0.0</td>\n",
       "      <td>0.0</td>\n",
       "      <td>0.0</td>\n",
       "    </tr>\n",
       "    <tr>\n",
       "      <th>4998</th>\n",
       "      <td>Join a high performing team! BRBH is looking f...</td>\n",
       "      <td>Network Analyst (IT)</td>\n",
       "      <td>4</td>\n",
       "      <td>join high perform team brbh look network analy...</td>\n",
       "      <td>network analyst</td>\n",
       "      <td>0.0</td>\n",
       "      <td>0.000000</td>\n",
       "      <td>0.0</td>\n",
       "      <td>0.0</td>\n",
       "      <td>0.0</td>\n",
       "      <td>...</td>\n",
       "      <td>0.0</td>\n",
       "      <td>0.0</td>\n",
       "      <td>0.0</td>\n",
       "      <td>0.0</td>\n",
       "      <td>0.0</td>\n",
       "      <td>0.0</td>\n",
       "      <td>0.000000</td>\n",
       "      <td>0.0</td>\n",
       "      <td>0.0</td>\n",
       "      <td>0.0</td>\n",
       "    </tr>\n",
       "    <tr>\n",
       "      <th>4999</th>\n",
       "      <td>Position Title: Compliance Analyst - Ad Review...</td>\n",
       "      <td>Compliance Analyst AR</td>\n",
       "      <td>4</td>\n",
       "      <td>posit titl complianc analyst ad review cetera ...</td>\n",
       "      <td>complianc analyst ar</td>\n",
       "      <td>0.0</td>\n",
       "      <td>0.000000</td>\n",
       "      <td>0.0</td>\n",
       "      <td>0.0</td>\n",
       "      <td>0.0</td>\n",
       "      <td>...</td>\n",
       "      <td>0.0</td>\n",
       "      <td>0.0</td>\n",
       "      <td>0.0</td>\n",
       "      <td>0.0</td>\n",
       "      <td>0.0</td>\n",
       "      <td>0.0</td>\n",
       "      <td>0.000000</td>\n",
       "      <td>0.0</td>\n",
       "      <td>0.0</td>\n",
       "      <td>0.0</td>\n",
       "    </tr>\n",
       "  </tbody>\n",
       "</table>\n",
       "<p>5000 rows × 18338 columns</p>\n",
       "</div>\n",
       "      <button class=\"colab-df-convert\" onclick=\"convertToInteractive('df-bf326157-b7fd-41dc-80ef-85d4c7d46da9')\"\n",
       "              title=\"Convert this dataframe to an interactive table.\"\n",
       "              style=\"display:none;\">\n",
       "        \n",
       "  <svg xmlns=\"http://www.w3.org/2000/svg\" height=\"24px\"viewBox=\"0 0 24 24\"\n",
       "       width=\"24px\">\n",
       "    <path d=\"M0 0h24v24H0V0z\" fill=\"none\"/>\n",
       "    <path d=\"M18.56 5.44l.94 2.06.94-2.06 2.06-.94-2.06-.94-.94-2.06-.94 2.06-2.06.94zm-11 1L8.5 8.5l.94-2.06 2.06-.94-2.06-.94L8.5 2.5l-.94 2.06-2.06.94zm10 10l.94 2.06.94-2.06 2.06-.94-2.06-.94-.94-2.06-.94 2.06-2.06.94z\"/><path d=\"M17.41 7.96l-1.37-1.37c-.4-.4-.92-.59-1.43-.59-.52 0-1.04.2-1.43.59L10.3 9.45l-7.72 7.72c-.78.78-.78 2.05 0 2.83L4 21.41c.39.39.9.59 1.41.59.51 0 1.02-.2 1.41-.59l7.78-7.78 2.81-2.81c.8-.78.8-2.07 0-2.86zM5.41 20L4 18.59l7.72-7.72 1.47 1.35L5.41 20z\"/>\n",
       "  </svg>\n",
       "      </button>\n",
       "      \n",
       "  <style>\n",
       "    .colab-df-container {\n",
       "      display:flex;\n",
       "      flex-wrap:wrap;\n",
       "      gap: 12px;\n",
       "    }\n",
       "\n",
       "    .colab-df-convert {\n",
       "      background-color: #E8F0FE;\n",
       "      border: none;\n",
       "      border-radius: 50%;\n",
       "      cursor: pointer;\n",
       "      display: none;\n",
       "      fill: #1967D2;\n",
       "      height: 32px;\n",
       "      padding: 0 0 0 0;\n",
       "      width: 32px;\n",
       "    }\n",
       "\n",
       "    .colab-df-convert:hover {\n",
       "      background-color: #E2EBFA;\n",
       "      box-shadow: 0px 1px 2px rgba(60, 64, 67, 0.3), 0px 1px 3px 1px rgba(60, 64, 67, 0.15);\n",
       "      fill: #174EA6;\n",
       "    }\n",
       "\n",
       "    [theme=dark] .colab-df-convert {\n",
       "      background-color: #3B4455;\n",
       "      fill: #D2E3FC;\n",
       "    }\n",
       "\n",
       "    [theme=dark] .colab-df-convert:hover {\n",
       "      background-color: #434B5C;\n",
       "      box-shadow: 0px 1px 3px 1px rgba(0, 0, 0, 0.15);\n",
       "      filter: drop-shadow(0px 1px 2px rgba(0, 0, 0, 0.3));\n",
       "      fill: #FFFFFF;\n",
       "    }\n",
       "  </style>\n",
       "\n",
       "      <script>\n",
       "        const buttonEl =\n",
       "          document.querySelector('#df-bf326157-b7fd-41dc-80ef-85d4c7d46da9 button.colab-df-convert');\n",
       "        buttonEl.style.display =\n",
       "          google.colab.kernel.accessAllowed ? 'block' : 'none';\n",
       "\n",
       "        async function convertToInteractive(key) {\n",
       "          const element = document.querySelector('#df-bf326157-b7fd-41dc-80ef-85d4c7d46da9');\n",
       "          const dataTable =\n",
       "            await google.colab.kernel.invokeFunction('convertToInteractive',\n",
       "                                                     [key], {});\n",
       "          if (!dataTable) return;\n",
       "\n",
       "          const docLinkHtml = 'Like what you see? Visit the ' +\n",
       "            '<a target=\"_blank\" href=https://colab.research.google.com/notebooks/data_table.ipynb>data table notebook</a>'\n",
       "            + ' to learn more about interactive tables.';\n",
       "          element.innerHTML = '';\n",
       "          dataTable['output_type'] = 'display_data';\n",
       "          await google.colab.output.renderOutput(dataTable, element);\n",
       "          const docLink = document.createElement('div');\n",
       "          docLink.innerHTML = docLinkHtml;\n",
       "          element.appendChild(docLink);\n",
       "        }\n",
       "      </script>\n",
       "    </div>\n",
       "  </div>\n",
       "  "
      ],
      "text/plain": [
       "                                                   text  \\\n",
       "0     Search by Keyword More Options Search by Locat...   \n",
       "1     Description At more than 80 award-winning prop...   \n",
       "2     COMPANY DESCRIPTION: Ethos Risk Services is a ...   \n",
       "3     You’ve always been hyper alert to your surroun...   \n",
       "4     Your surprise is waiting! Explore career oppor...   \n",
       "...                                                 ...   \n",
       "4995  Job Summary The Analyst position is responsibl...   \n",
       "4996  J.P. Morgan’s Corporate & Investment Bank is a...   \n",
       "4997  Position Title: Senior Financial Analyst What ...   \n",
       "4998  Join a high performing team! BRBH is looking f...   \n",
       "4999  Position Title: Compliance Analyst - Ad Review...   \n",
       "\n",
       "                                                  title  label  \\\n",
       "0                     Loss Prevention Detective - Colma      0   \n",
       "1                            Loss Prevention Officer PM      0   \n",
       "2     P/T Special Investigations Unit Field Investig...      0   \n",
       "3              Loss Prevention/Hotel Security - On Call      0   \n",
       "4                  Loss Prevention Detective - Millbury      0   \n",
       "...                                                 ...    ...   \n",
       "4995                         Analyst, Investment Banker      4   \n",
       "4996  CIB - Investment Banking - Consumer & Retail C...      4   \n",
       "4997                              Sr. Financial Analyst      4   \n",
       "4998                               Network Analyst (IT)      4   \n",
       "4999                              Compliance Analyst AR      4   \n",
       "\n",
       "                                              cleantext  \\\n",
       "0     search keyword option search locat clear load ...   \n",
       "1     descript 80 award win properti worldwid ritz c...   \n",
       "2     compani descript etho risk servic nation renow...   \n",
       "3     alway hyper alert surround uncanni sens thing ...   \n",
       "4     surpris wait explor career opportun marshal st...   \n",
       "...                                                 ...   \n",
       "4995  job summari analyst posit respons analyz struc...   \n",
       "4996  j p morgan corpor invest bank global leader ac...   \n",
       "4997  posit titl senior financi analyst need senior ...   \n",
       "4998  join high perform team brbh look network analy...   \n",
       "4999  posit titl complianc analyst ad review cetera ...   \n",
       "\n",
       "                                             cleantitle    0         1    2  \\\n",
       "0                             loss prevent detect colma  0.0  0.029486  0.0   \n",
       "1                                 loss prevent offic pm  0.0  0.000000  0.0   \n",
       "2            p special investig unit field investig siu  0.0  0.000000  0.0   \n",
       "3                         loss prevent hotel secur call  0.0  0.000000  0.0   \n",
       "4                          loss prevent detect millburi  0.0  0.069415  0.0   \n",
       "...                                                 ...  ...       ...  ...   \n",
       "4995                              analyst invest banker  0.0  0.000000  0.0   \n",
       "4996  cib invest bank consum retail coverag 1st year...  0.0  0.000000  0.0   \n",
       "4997                                 sr financi analyst  0.0  0.000000  0.0   \n",
       "4998                                    network analyst  0.0  0.000000  0.0   \n",
       "4999                               complianc analyst ar  0.0  0.000000  0.0   \n",
       "\n",
       "        3    4  ...  1186  1187  1188  1189  1190  1191      1192  1193  1194  \\\n",
       "0     0.0  0.0  ...   0.0   0.0   0.0   0.0   0.0   0.0  0.000000   0.0   0.0   \n",
       "1     0.0  0.0  ...   0.0   0.0   0.0   0.0   0.0   0.0  0.000000   0.0   0.0   \n",
       "2     0.0  0.0  ...   0.0   0.0   0.0   0.0   0.0   0.0  0.000000   0.0   0.0   \n",
       "3     0.0  0.0  ...   0.0   0.0   0.0   0.0   0.0   0.0  0.000000   0.0   0.0   \n",
       "4     0.0  0.0  ...   0.0   0.0   0.0   0.0   0.0   0.0  0.000000   0.0   0.0   \n",
       "...   ...  ...  ...   ...   ...   ...   ...   ...   ...       ...   ...   ...   \n",
       "4995  0.0  0.0  ...   0.0   0.0   0.0   0.0   0.0   0.0  0.000000   0.0   0.0   \n",
       "4996  0.0  0.0  ...   0.0   0.0   0.0   0.0   0.0   0.0  0.357311   0.0   0.0   \n",
       "4997  0.0  0.0  ...   0.0   0.0   0.0   0.0   0.0   0.0  0.000000   0.0   0.0   \n",
       "4998  0.0  0.0  ...   0.0   0.0   0.0   0.0   0.0   0.0  0.000000   0.0   0.0   \n",
       "4999  0.0  0.0  ...   0.0   0.0   0.0   0.0   0.0   0.0  0.000000   0.0   0.0   \n",
       "\n",
       "      1195  \n",
       "0      0.0  \n",
       "1      0.0  \n",
       "2      0.0  \n",
       "3      0.0  \n",
       "4      0.0  \n",
       "...    ...  \n",
       "4995   0.0  \n",
       "4996   0.0  \n",
       "4997   0.0  \n",
       "4998   0.0  \n",
       "4999   0.0  \n",
       "\n",
       "[5000 rows x 18338 columns]"
      ]
     },
     "execution_count": 302,
     "metadata": {},
     "output_type": "execute_result"
    }
   ],
   "source": [
    "df"
   ]
  },
  {
   "cell_type": "markdown",
   "metadata": {
    "id": "49sReyfc-iOz"
   },
   "source": [
    "##**Splitting data in train and test**"
   ]
  },
  {
   "cell_type": "code",
   "execution_count": null,
   "metadata": {
    "id": "jSjldf2F-dRE"
   },
   "outputs": [],
   "source": [
    "# Splitting into train and test datasets for training and evaluation\n",
    "df.drop([\"text\", \"title\", 'cleantext', 'cleantitle', 'title_character_count'], axis=1, inplace=True)\n",
    "y=df['label']\n",
    "X_train, X_test, y_train, y_test = train_test_split( df, y, test_size=0.33, random_state=42)"
   ]
  },
  {
   "cell_type": "code",
   "execution_count": null,
   "metadata": {
    "colab": {
     "base_uri": "https://localhost:8080/",
     "height": 423
    },
    "id": "KHiux0bpcKbb",
    "outputId": "92d2128f-5373-4996-c7fa-01d968ebeef4"
   },
   "outputs": [
    {
     "data": {
      "text/html": [
       "\n",
       "  <div id=\"df-8ece6dec-e2e2-447f-bd8d-837645324b6f\">\n",
       "    <div class=\"colab-df-container\">\n",
       "      <div>\n",
       "<style scoped>\n",
       "    .dataframe tbody tr th:only-of-type {\n",
       "        vertical-align: middle;\n",
       "    }\n",
       "\n",
       "    .dataframe tbody tr th {\n",
       "        vertical-align: top;\n",
       "    }\n",
       "\n",
       "    .dataframe thead th {\n",
       "        text-align: right;\n",
       "    }\n",
       "</style>\n",
       "<table border=\"1\" class=\"dataframe\">\n",
       "  <thead>\n",
       "    <tr style=\"text-align: right;\">\n",
       "      <th></th>\n",
       "      <th>label</th>\n",
       "      <th>0</th>\n",
       "      <th>1</th>\n",
       "      <th>2</th>\n",
       "      <th>3</th>\n",
       "      <th>4</th>\n",
       "      <th>5</th>\n",
       "      <th>6</th>\n",
       "      <th>7</th>\n",
       "      <th>8</th>\n",
       "      <th>...</th>\n",
       "      <th>1186</th>\n",
       "      <th>1187</th>\n",
       "      <th>1188</th>\n",
       "      <th>1189</th>\n",
       "      <th>1190</th>\n",
       "      <th>1191</th>\n",
       "      <th>1192</th>\n",
       "      <th>1193</th>\n",
       "      <th>1194</th>\n",
       "      <th>1195</th>\n",
       "    </tr>\n",
       "  </thead>\n",
       "  <tbody>\n",
       "    <tr>\n",
       "      <th>0</th>\n",
       "      <td>0</td>\n",
       "      <td>0.0</td>\n",
       "      <td>0.029486</td>\n",
       "      <td>0.0</td>\n",
       "      <td>0.0</td>\n",
       "      <td>0.0</td>\n",
       "      <td>0.0</td>\n",
       "      <td>0.0</td>\n",
       "      <td>0.0</td>\n",
       "      <td>0.0</td>\n",
       "      <td>...</td>\n",
       "      <td>0.0</td>\n",
       "      <td>0.0</td>\n",
       "      <td>0.0</td>\n",
       "      <td>0.0</td>\n",
       "      <td>0.0</td>\n",
       "      <td>0.0</td>\n",
       "      <td>0.000000</td>\n",
       "      <td>0.0</td>\n",
       "      <td>0.0</td>\n",
       "      <td>0.0</td>\n",
       "    </tr>\n",
       "    <tr>\n",
       "      <th>1</th>\n",
       "      <td>0</td>\n",
       "      <td>0.0</td>\n",
       "      <td>0.000000</td>\n",
       "      <td>0.0</td>\n",
       "      <td>0.0</td>\n",
       "      <td>0.0</td>\n",
       "      <td>0.0</td>\n",
       "      <td>0.0</td>\n",
       "      <td>0.0</td>\n",
       "      <td>0.0</td>\n",
       "      <td>...</td>\n",
       "      <td>0.0</td>\n",
       "      <td>0.0</td>\n",
       "      <td>0.0</td>\n",
       "      <td>0.0</td>\n",
       "      <td>0.0</td>\n",
       "      <td>0.0</td>\n",
       "      <td>0.000000</td>\n",
       "      <td>0.0</td>\n",
       "      <td>0.0</td>\n",
       "      <td>0.0</td>\n",
       "    </tr>\n",
       "    <tr>\n",
       "      <th>2</th>\n",
       "      <td>0</td>\n",
       "      <td>0.0</td>\n",
       "      <td>0.000000</td>\n",
       "      <td>0.0</td>\n",
       "      <td>0.0</td>\n",
       "      <td>0.0</td>\n",
       "      <td>0.0</td>\n",
       "      <td>0.0</td>\n",
       "      <td>0.0</td>\n",
       "      <td>0.0</td>\n",
       "      <td>...</td>\n",
       "      <td>0.0</td>\n",
       "      <td>0.0</td>\n",
       "      <td>0.0</td>\n",
       "      <td>0.0</td>\n",
       "      <td>0.0</td>\n",
       "      <td>0.0</td>\n",
       "      <td>0.000000</td>\n",
       "      <td>0.0</td>\n",
       "      <td>0.0</td>\n",
       "      <td>0.0</td>\n",
       "    </tr>\n",
       "    <tr>\n",
       "      <th>3</th>\n",
       "      <td>0</td>\n",
       "      <td>0.0</td>\n",
       "      <td>0.000000</td>\n",
       "      <td>0.0</td>\n",
       "      <td>0.0</td>\n",
       "      <td>0.0</td>\n",
       "      <td>0.0</td>\n",
       "      <td>0.0</td>\n",
       "      <td>0.0</td>\n",
       "      <td>0.0</td>\n",
       "      <td>...</td>\n",
       "      <td>0.0</td>\n",
       "      <td>0.0</td>\n",
       "      <td>0.0</td>\n",
       "      <td>0.0</td>\n",
       "      <td>0.0</td>\n",
       "      <td>0.0</td>\n",
       "      <td>0.000000</td>\n",
       "      <td>0.0</td>\n",
       "      <td>0.0</td>\n",
       "      <td>0.0</td>\n",
       "    </tr>\n",
       "    <tr>\n",
       "      <th>4</th>\n",
       "      <td>0</td>\n",
       "      <td>0.0</td>\n",
       "      <td>0.069415</td>\n",
       "      <td>0.0</td>\n",
       "      <td>0.0</td>\n",
       "      <td>0.0</td>\n",
       "      <td>0.0</td>\n",
       "      <td>0.0</td>\n",
       "      <td>0.0</td>\n",
       "      <td>0.0</td>\n",
       "      <td>...</td>\n",
       "      <td>0.0</td>\n",
       "      <td>0.0</td>\n",
       "      <td>0.0</td>\n",
       "      <td>0.0</td>\n",
       "      <td>0.0</td>\n",
       "      <td>0.0</td>\n",
       "      <td>0.000000</td>\n",
       "      <td>0.0</td>\n",
       "      <td>0.0</td>\n",
       "      <td>0.0</td>\n",
       "    </tr>\n",
       "    <tr>\n",
       "      <th>...</th>\n",
       "      <td>...</td>\n",
       "      <td>...</td>\n",
       "      <td>...</td>\n",
       "      <td>...</td>\n",
       "      <td>...</td>\n",
       "      <td>...</td>\n",
       "      <td>...</td>\n",
       "      <td>...</td>\n",
       "      <td>...</td>\n",
       "      <td>...</td>\n",
       "      <td>...</td>\n",
       "      <td>...</td>\n",
       "      <td>...</td>\n",
       "      <td>...</td>\n",
       "      <td>...</td>\n",
       "      <td>...</td>\n",
       "      <td>...</td>\n",
       "      <td>...</td>\n",
       "      <td>...</td>\n",
       "      <td>...</td>\n",
       "      <td>...</td>\n",
       "    </tr>\n",
       "    <tr>\n",
       "      <th>4995</th>\n",
       "      <td>4</td>\n",
       "      <td>0.0</td>\n",
       "      <td>0.000000</td>\n",
       "      <td>0.0</td>\n",
       "      <td>0.0</td>\n",
       "      <td>0.0</td>\n",
       "      <td>0.0</td>\n",
       "      <td>0.0</td>\n",
       "      <td>0.0</td>\n",
       "      <td>0.0</td>\n",
       "      <td>...</td>\n",
       "      <td>0.0</td>\n",
       "      <td>0.0</td>\n",
       "      <td>0.0</td>\n",
       "      <td>0.0</td>\n",
       "      <td>0.0</td>\n",
       "      <td>0.0</td>\n",
       "      <td>0.000000</td>\n",
       "      <td>0.0</td>\n",
       "      <td>0.0</td>\n",
       "      <td>0.0</td>\n",
       "    </tr>\n",
       "    <tr>\n",
       "      <th>4996</th>\n",
       "      <td>4</td>\n",
       "      <td>0.0</td>\n",
       "      <td>0.000000</td>\n",
       "      <td>0.0</td>\n",
       "      <td>0.0</td>\n",
       "      <td>0.0</td>\n",
       "      <td>0.0</td>\n",
       "      <td>0.0</td>\n",
       "      <td>0.0</td>\n",
       "      <td>0.0</td>\n",
       "      <td>...</td>\n",
       "      <td>0.0</td>\n",
       "      <td>0.0</td>\n",
       "      <td>0.0</td>\n",
       "      <td>0.0</td>\n",
       "      <td>0.0</td>\n",
       "      <td>0.0</td>\n",
       "      <td>0.357311</td>\n",
       "      <td>0.0</td>\n",
       "      <td>0.0</td>\n",
       "      <td>0.0</td>\n",
       "    </tr>\n",
       "    <tr>\n",
       "      <th>4997</th>\n",
       "      <td>4</td>\n",
       "      <td>0.0</td>\n",
       "      <td>0.000000</td>\n",
       "      <td>0.0</td>\n",
       "      <td>0.0</td>\n",
       "      <td>0.0</td>\n",
       "      <td>0.0</td>\n",
       "      <td>0.0</td>\n",
       "      <td>0.0</td>\n",
       "      <td>0.0</td>\n",
       "      <td>...</td>\n",
       "      <td>0.0</td>\n",
       "      <td>0.0</td>\n",
       "      <td>0.0</td>\n",
       "      <td>0.0</td>\n",
       "      <td>0.0</td>\n",
       "      <td>0.0</td>\n",
       "      <td>0.000000</td>\n",
       "      <td>0.0</td>\n",
       "      <td>0.0</td>\n",
       "      <td>0.0</td>\n",
       "    </tr>\n",
       "    <tr>\n",
       "      <th>4998</th>\n",
       "      <td>4</td>\n",
       "      <td>0.0</td>\n",
       "      <td>0.000000</td>\n",
       "      <td>0.0</td>\n",
       "      <td>0.0</td>\n",
       "      <td>0.0</td>\n",
       "      <td>0.0</td>\n",
       "      <td>0.0</td>\n",
       "      <td>0.0</td>\n",
       "      <td>0.0</td>\n",
       "      <td>...</td>\n",
       "      <td>0.0</td>\n",
       "      <td>0.0</td>\n",
       "      <td>0.0</td>\n",
       "      <td>0.0</td>\n",
       "      <td>0.0</td>\n",
       "      <td>0.0</td>\n",
       "      <td>0.000000</td>\n",
       "      <td>0.0</td>\n",
       "      <td>0.0</td>\n",
       "      <td>0.0</td>\n",
       "    </tr>\n",
       "    <tr>\n",
       "      <th>4999</th>\n",
       "      <td>4</td>\n",
       "      <td>0.0</td>\n",
       "      <td>0.000000</td>\n",
       "      <td>0.0</td>\n",
       "      <td>0.0</td>\n",
       "      <td>0.0</td>\n",
       "      <td>0.0</td>\n",
       "      <td>0.0</td>\n",
       "      <td>0.0</td>\n",
       "      <td>0.0</td>\n",
       "      <td>...</td>\n",
       "      <td>0.0</td>\n",
       "      <td>0.0</td>\n",
       "      <td>0.0</td>\n",
       "      <td>0.0</td>\n",
       "      <td>0.0</td>\n",
       "      <td>0.0</td>\n",
       "      <td>0.000000</td>\n",
       "      <td>0.0</td>\n",
       "      <td>0.0</td>\n",
       "      <td>0.0</td>\n",
       "    </tr>\n",
       "  </tbody>\n",
       "</table>\n",
       "<p>5000 rows × 18334 columns</p>\n",
       "</div>\n",
       "      <button class=\"colab-df-convert\" onclick=\"convertToInteractive('df-8ece6dec-e2e2-447f-bd8d-837645324b6f')\"\n",
       "              title=\"Convert this dataframe to an interactive table.\"\n",
       "              style=\"display:none;\">\n",
       "        \n",
       "  <svg xmlns=\"http://www.w3.org/2000/svg\" height=\"24px\"viewBox=\"0 0 24 24\"\n",
       "       width=\"24px\">\n",
       "    <path d=\"M0 0h24v24H0V0z\" fill=\"none\"/>\n",
       "    <path d=\"M18.56 5.44l.94 2.06.94-2.06 2.06-.94-2.06-.94-.94-2.06-.94 2.06-2.06.94zm-11 1L8.5 8.5l.94-2.06 2.06-.94-2.06-.94L8.5 2.5l-.94 2.06-2.06.94zm10 10l.94 2.06.94-2.06 2.06-.94-2.06-.94-.94-2.06-.94 2.06-2.06.94z\"/><path d=\"M17.41 7.96l-1.37-1.37c-.4-.4-.92-.59-1.43-.59-.52 0-1.04.2-1.43.59L10.3 9.45l-7.72 7.72c-.78.78-.78 2.05 0 2.83L4 21.41c.39.39.9.59 1.41.59.51 0 1.02-.2 1.41-.59l7.78-7.78 2.81-2.81c.8-.78.8-2.07 0-2.86zM5.41 20L4 18.59l7.72-7.72 1.47 1.35L5.41 20z\"/>\n",
       "  </svg>\n",
       "      </button>\n",
       "      \n",
       "  <style>\n",
       "    .colab-df-container {\n",
       "      display:flex;\n",
       "      flex-wrap:wrap;\n",
       "      gap: 12px;\n",
       "    }\n",
       "\n",
       "    .colab-df-convert {\n",
       "      background-color: #E8F0FE;\n",
       "      border: none;\n",
       "      border-radius: 50%;\n",
       "      cursor: pointer;\n",
       "      display: none;\n",
       "      fill: #1967D2;\n",
       "      height: 32px;\n",
       "      padding: 0 0 0 0;\n",
       "      width: 32px;\n",
       "    }\n",
       "\n",
       "    .colab-df-convert:hover {\n",
       "      background-color: #E2EBFA;\n",
       "      box-shadow: 0px 1px 2px rgba(60, 64, 67, 0.3), 0px 1px 3px 1px rgba(60, 64, 67, 0.15);\n",
       "      fill: #174EA6;\n",
       "    }\n",
       "\n",
       "    [theme=dark] .colab-df-convert {\n",
       "      background-color: #3B4455;\n",
       "      fill: #D2E3FC;\n",
       "    }\n",
       "\n",
       "    [theme=dark] .colab-df-convert:hover {\n",
       "      background-color: #434B5C;\n",
       "      box-shadow: 0px 1px 3px 1px rgba(0, 0, 0, 0.15);\n",
       "      filter: drop-shadow(0px 1px 2px rgba(0, 0, 0, 0.3));\n",
       "      fill: #FFFFFF;\n",
       "    }\n",
       "  </style>\n",
       "\n",
       "      <script>\n",
       "        const buttonEl =\n",
       "          document.querySelector('#df-8ece6dec-e2e2-447f-bd8d-837645324b6f button.colab-df-convert');\n",
       "        buttonEl.style.display =\n",
       "          google.colab.kernel.accessAllowed ? 'block' : 'none';\n",
       "\n",
       "        async function convertToInteractive(key) {\n",
       "          const element = document.querySelector('#df-8ece6dec-e2e2-447f-bd8d-837645324b6f');\n",
       "          const dataTable =\n",
       "            await google.colab.kernel.invokeFunction('convertToInteractive',\n",
       "                                                     [key], {});\n",
       "          if (!dataTable) return;\n",
       "\n",
       "          const docLinkHtml = 'Like what you see? Visit the ' +\n",
       "            '<a target=\"_blank\" href=https://colab.research.google.com/notebooks/data_table.ipynb>data table notebook</a>'\n",
       "            + ' to learn more about interactive tables.';\n",
       "          element.innerHTML = '';\n",
       "          dataTable['output_type'] = 'display_data';\n",
       "          await google.colab.output.renderOutput(dataTable, element);\n",
       "          const docLink = document.createElement('div');\n",
       "          docLink.innerHTML = docLinkHtml;\n",
       "          element.appendChild(docLink);\n",
       "        }\n",
       "      </script>\n",
       "    </div>\n",
       "  </div>\n",
       "  "
      ],
      "text/plain": [
       "      label    0         1    2    3    4    5    6    7    8  ...  1186  \\\n",
       "0         0  0.0  0.029486  0.0  0.0  0.0  0.0  0.0  0.0  0.0  ...   0.0   \n",
       "1         0  0.0  0.000000  0.0  0.0  0.0  0.0  0.0  0.0  0.0  ...   0.0   \n",
       "2         0  0.0  0.000000  0.0  0.0  0.0  0.0  0.0  0.0  0.0  ...   0.0   \n",
       "3         0  0.0  0.000000  0.0  0.0  0.0  0.0  0.0  0.0  0.0  ...   0.0   \n",
       "4         0  0.0  0.069415  0.0  0.0  0.0  0.0  0.0  0.0  0.0  ...   0.0   \n",
       "...     ...  ...       ...  ...  ...  ...  ...  ...  ...  ...  ...   ...   \n",
       "4995      4  0.0  0.000000  0.0  0.0  0.0  0.0  0.0  0.0  0.0  ...   0.0   \n",
       "4996      4  0.0  0.000000  0.0  0.0  0.0  0.0  0.0  0.0  0.0  ...   0.0   \n",
       "4997      4  0.0  0.000000  0.0  0.0  0.0  0.0  0.0  0.0  0.0  ...   0.0   \n",
       "4998      4  0.0  0.000000  0.0  0.0  0.0  0.0  0.0  0.0  0.0  ...   0.0   \n",
       "4999      4  0.0  0.000000  0.0  0.0  0.0  0.0  0.0  0.0  0.0  ...   0.0   \n",
       "\n",
       "      1187  1188  1189  1190  1191      1192  1193  1194  1195  \n",
       "0      0.0   0.0   0.0   0.0   0.0  0.000000   0.0   0.0   0.0  \n",
       "1      0.0   0.0   0.0   0.0   0.0  0.000000   0.0   0.0   0.0  \n",
       "2      0.0   0.0   0.0   0.0   0.0  0.000000   0.0   0.0   0.0  \n",
       "3      0.0   0.0   0.0   0.0   0.0  0.000000   0.0   0.0   0.0  \n",
       "4      0.0   0.0   0.0   0.0   0.0  0.000000   0.0   0.0   0.0  \n",
       "...    ...   ...   ...   ...   ...       ...   ...   ...   ...  \n",
       "4995   0.0   0.0   0.0   0.0   0.0  0.000000   0.0   0.0   0.0  \n",
       "4996   0.0   0.0   0.0   0.0   0.0  0.357311   0.0   0.0   0.0  \n",
       "4997   0.0   0.0   0.0   0.0   0.0  0.000000   0.0   0.0   0.0  \n",
       "4998   0.0   0.0   0.0   0.0   0.0  0.000000   0.0   0.0   0.0  \n",
       "4999   0.0   0.0   0.0   0.0   0.0  0.000000   0.0   0.0   0.0  \n",
       "\n",
       "[5000 rows x 18334 columns]"
      ]
     },
     "execution_count": 319,
     "metadata": {},
     "output_type": "execute_result"
    }
   ],
   "source": [
    "df"
   ]
  },
  {
   "cell_type": "markdown",
   "metadata": {
    "id": "xQ_Y906615eQ"
   },
   "source": [
    "##**Creating a Naive Bayes Model Which is best suited for text classification tasks (e.g Spam classification, Movie review classification)** "
   ]
  },
  {
   "cell_type": "code",
   "execution_count": null,
   "metadata": {
    "colab": {
     "base_uri": "https://localhost:8080/"
    },
    "id": "Uog_BNImqPcQ",
    "outputId": "d42ff744-cf53-4c24-fbfc-a2efb5bc89b8"
   },
   "outputs": [
    {
     "name": "stderr",
     "output_type": "stream",
     "text": [
      "/usr/local/lib/python3.7/dist-packages/sklearn/utils/validation.py:1692: FutureWarning: Feature names only support names that are all strings. Got feature names with dtypes: ['int', 'str']. An error will be raised in 1.2.\n",
      "  FutureWarning,\n",
      "/usr/local/lib/python3.7/dist-packages/sklearn/utils/validation.py:1692: FutureWarning: Feature names only support names that are all strings. Got feature names with dtypes: ['int', 'str']. An error will be raised in 1.2.\n",
      "  FutureWarning,\n"
     ]
    },
    {
     "name": "stdout",
     "output_type": "stream",
     "text": [
      "Accuracy:  0.6963636363636364\n",
      "                        precision    recall  f1-score   support\n",
      "\n",
      "            Accounting       1.00      0.67      0.81       341\n",
      "Administrative Support       0.98      0.97      0.97       342\n",
      "           Engineering       0.98      0.97      0.98       327\n",
      "     Finance - Banking       0.00      0.00      0.00       325\n",
      "  Finance - Investment       0.43      0.86      0.57       315\n",
      "\n",
      "              accuracy                           0.70      1650\n",
      "             macro avg       0.68      0.69      0.66      1650\n",
      "          weighted avg       0.68      0.70      0.67      1650\n",
      "\n",
      "\n",
      "\n",
      "\n",
      "\n",
      "Confusion Matrix of Classification\n"
     ]
    },
    {
     "data": {
      "text/plain": [
       "array([[230,   7,   2,  78,  24],\n",
       "       [  0, 331,   3,   2,   6],\n",
       "       [  0,   1, 318,   1,   7],\n",
       "       [  0,   0,   1,   0, 324],\n",
       "       [  0,   0,   1,  44, 270]])"
      ]
     },
     "execution_count": 310,
     "metadata": {},
     "output_type": "execute_result"
    }
   ],
   "source": [
    "\n",
    "model = MultinomialNB()\n",
    "model.fit(X_train, y_train)\n",
    "preds = model.predict(X_test)\n",
    "# Printing accuracy score of the model\n",
    "print(\"Accuracy: \", accuracy_score(y_test, preds))\n",
    "# Classificaton report of the model\n",
    "#Turning Numbers into Label for confusion matrix\n",
    "preds_labeled = label_encoder.inverse_transform(preds)\n",
    "y_test_labeled = label_encoder.inverse_transform(y_test)\n",
    "print(classification_report(y_test_labeled, preds_labeled))\n",
    "print(\"\\n\")\n",
    "print(\"\\n\")\n",
    "print(\"Confusion Matrix of Classification\")\n",
    "confusion_matrix(y_test_labeled, preds_labeled)"
   ]
  },
  {
   "cell_type": "markdown",
   "metadata": {
    "id": "pWDmmZen3OGR"
   },
   "source": [
    "##**Visualizing confusion matrix with a heatmap**"
   ]
  },
  {
   "cell_type": "code",
   "execution_count": null,
   "metadata": {
    "colab": {
     "base_uri": "https://localhost:8080/",
     "height": 265
    },
    "id": "MD8H7UxV270r",
    "outputId": "bf301659-9154-4d5b-b795-5a10a1921eb1"
   },
   "outputs": [
    {
     "data": {
      "image/png": "[encoded data removed]",
      "text/plain": [
       "<Figure size 432x288 with 2 Axes>"
      ]
     },
     "metadata": {},
     "output_type": "display_data"
    }
   ],
   "source": [
    "#Confusion matrix of classification\n",
    "sns.heatmap(confusion_matrix(y_test, preds), annot=True, )\n",
    "plt.show()"
   ]
  },
  {
   "cell_type": "markdown",
   "metadata": {
    "id": "GjfdqKXt3crI"
   },
   "source": [
    "##**Creating another model for comparison --GradientBoostingClassifier**"
   ]
  },
  {
   "cell_type": "code",
   "execution_count": null,
   "metadata": {
    "colab": {
     "base_uri": "https://localhost:8080/"
    },
    "id": "I-yl5Bqv3gsh",
    "outputId": "c3e130e6-2231-4238-a92c-014b7f9f228c"
   },
   "outputs": [
    {
     "name": "stderr",
     "output_type": "stream",
     "text": [
      "/usr/local/lib/python3.7/dist-packages/sklearn/utils/validation.py:1692: FutureWarning: Feature names only support names that are all strings. Got feature names with dtypes: ['int', 'str']. An error will be raised in 1.2.\n",
      "  FutureWarning,\n",
      "/usr/local/lib/python3.7/dist-packages/sklearn/utils/validation.py:1692: FutureWarning: Feature names only support names that are all strings. Got feature names with dtypes: ['int', 'str']. An error will be raised in 1.2.\n",
      "  FutureWarning,\n"
     ]
    },
    {
     "name": "stdout",
     "output_type": "stream",
     "text": [
      "Accuracy:  1.0\n",
      "                        precision    recall  f1-score   support\n",
      "\n",
      "            Accounting       1.00      1.00      1.00       341\n",
      "Administrative Support       1.00      1.00      1.00       342\n",
      "           Engineering       1.00      1.00      1.00       327\n",
      "     Finance - Banking       1.00      1.00      1.00       325\n",
      "  Finance - Investment       1.00      1.00      1.00       315\n",
      "\n",
      "              accuracy                           1.00      1650\n",
      "             macro avg       1.00      1.00      1.00      1650\n",
      "          weighted avg       1.00      1.00      1.00      1650\n",
      "\n",
      "\n",
      "\n",
      "\n",
      "\n",
      "Confusion Matrix of Classification\n"
     ]
    },
    {
     "data": {
      "text/plain": [
       "array([[341,   0,   0,   0,   0],\n",
       "       [  0, 342,   0,   0,   0],\n",
       "       [  0,   0, 327,   0,   0],\n",
       "       [  0,   0,   0, 325,   0],\n",
       "       [  0,   0,   0,   0, 315]])"
      ]
     },
     "execution_count": 312,
     "metadata": {},
     "output_type": "execute_result"
    }
   ],
   "source": [
    "# Support Vector Machine Classifier\n",
    "XGBoost = GradientBoostingClassifier(n_estimators=5)\n",
    "XGBoost.fit(X_train, y_train)\n",
    "preds = XGBoost.predict(X_test)\n",
    "# Printing accuracy score of the model\n",
    "print(\"Accuracy: \", accuracy_score(y_test, preds))\n",
    "# Classificaton report of the model\n",
    "#Turning Numbers into Label for confusion matrix\n",
    "preds_labeled = label_encoder.inverse_transform(preds)\n",
    "y_test_labeled = label_encoder.inverse_transform(y_test)\n",
    "print(classification_report(y_test_labeled, preds_labeled))\n",
    "print(\"\\n\")\n",
    "print(\"\\n\")\n",
    "print(\"Confusion Matrix of Classification\")\n",
    "confusion_matrix(y_test_labeled, preds_labeled)"
   ]
  },
  {
   "cell_type": "markdown",
   "metadata": {
    "id": "Dx-sJZzP5LY9"
   },
   "source": [
    "##**Visualizing confusion matrix with a heatmap**"
   ]
  },
  {
   "cell_type": "code",
   "execution_count": null,
   "metadata": {
    "colab": {
     "base_uri": "https://localhost:8080/",
     "height": 265
    },
    "id": "lPngP7yq5BTi",
    "outputId": "c6f40da6-4d59-4796-fcf9-2e9c42781be5"
   },
   "outputs": [
    {
     "data": {
      "image/png": "[encoded data removed]",
      "text/plain": [
       "<Figure size 432x288 with 2 Axes>"
      ]
     },
     "metadata": {},
     "output_type": "display_data"
    }
   ],
   "source": [
    "#Confusion matrix of classification\n",
    "sns.heatmap(confusion_matrix(y_test, preds), annot=True, )\n",
    "plt.show()"
   ]
  },
  {
   "cell_type": "markdown",
   "metadata": {
    "id": "AB6ib_amAmoT"
   },
   "source": [
    "##**Building a Deep Neural Network TensorFlow Model with hidden layers** "
   ]
  },
  {
   "cell_type": "code",
   "execution_count": null,
   "metadata": {
    "colab": {
     "base_uri": "https://localhost:8080/"
    },
    "id": "MtZGI5awACzX",
    "outputId": "39847561-193e-49f7-9b64-78cdbd19a6ef"
   },
   "outputs": [
    {
     "name": "stdout",
     "output_type": "stream",
     "text": [
      "Epoch 1/5\n",
      "105/105 [==============================] - 4s 32ms/step - loss: 0.9560 - accuracy: 0.7451 - val_loss: 0.4471 - val_accuracy: 0.8200\n",
      "Epoch 2/5\n",
      "105/105 [==============================] - 3s 26ms/step - loss: 0.3152 - accuracy: 0.9093 - val_loss: 0.2964 - val_accuracy: 0.8879\n",
      "Epoch 3/5\n",
      "105/105 [==============================] - 2s 23ms/step - loss: 0.2047 - accuracy: 0.9513 - val_loss: 0.2549 - val_accuracy: 0.8945\n",
      "Epoch 4/5\n",
      "105/105 [==============================] - 3s 25ms/step - loss: 0.1389 - accuracy: 0.9842 - val_loss: 0.2267 - val_accuracy: 0.9030\n",
      "Epoch 5/5\n",
      "105/105 [==============================] - 3s 26ms/step - loss: 0.0921 - accuracy: 0.9940 - val_loss: 0.2073 - val_accuracy: 0.9139\n"
     ]
    },
    {
     "data": {
      "text/plain": [
       "<keras.callbacks.History at 0x7f8cb0106dd0>"
      ]
     },
     "execution_count": 314,
     "metadata": {},
     "output_type": "execute_result"
    }
   ],
   "source": [
    "# Defining TensorFlow model with Sequential API\n",
    "tf_model = tf.keras.Sequential([\n",
    "    tf.keras.layers.Flatten(),\n",
    "    tf.keras.layers.Dense(128, activation='relu'),\n",
    "    tf.keras.layers.Dense(5, activation=\"softmax\")\n",
    "])\n",
    "\n",
    "#Compiling TensorFlow model with Adam optimizer and SparseCategoricalCrossentropy loss\n",
    "tf_model.compile(optimizer='adam',\n",
    "              loss=tf.keras.losses.SparseCategoricalCrossentropy(),\n",
    "              metrics=['accuracy'])\n",
    "\n",
    "#Training the Model and validating it \n",
    "# Running it only for 5 Epochs\n",
    "tf_model.fit(X_train, y_train, epochs=5, validation_data=(X_test, y_test))"
   ]
  },
  {
   "cell_type": "code",
   "execution_count": null,
   "metadata": {
    "id": "CHwUVYgWB0UP"
   },
   "outputs": [],
   "source": [
    "tf_preds = tf_model.predict(X_test)"
   ]
  },
  {
   "cell_type": "code",
   "execution_count": null,
   "metadata": {
    "id": "lwaVjnARB7P8"
   },
   "outputs": [],
   "source": [
    "tf_preds = np.array([np.argmax(i) for i in tf_preds])"
   ]
  },
  {
   "cell_type": "code",
   "execution_count": null,
   "metadata": {
    "colab": {
     "base_uri": "https://localhost:8080/"
    },
    "id": "LV5krGPnCnjD",
    "outputId": "1552157a-7c08-47fb-f363-a6c1c2a62abb"
   },
   "outputs": [
    {
     "name": "stdout",
     "output_type": "stream",
     "text": [
      "                        precision    recall  f1-score   support\n",
      "\n",
      "            Accounting       1.00      1.00      1.00       341\n",
      "Administrative Support       1.00      1.00      1.00       342\n",
      "           Engineering       1.00      1.00      1.00       327\n",
      "     Finance - Banking       1.00      1.00      1.00       325\n",
      "  Finance - Investment       1.00      1.00      1.00       315\n",
      "\n",
      "              accuracy                           1.00      1650\n",
      "             macro avg       1.00      1.00      1.00      1650\n",
      "          weighted avg       1.00      1.00      1.00      1650\n",
      "\n",
      "\n",
      "\n",
      "\n",
      "\n",
      "Confusion Matrix of Classification\n"
     ]
    },
    {
     "data": {
      "text/plain": [
       "array([[341,   0,   0,   0,   0],\n",
       "       [  0, 342,   0,   0,   0],\n",
       "       [  0,   0, 327,   0,   0],\n",
       "       [  0,   0,   0, 325,   0],\n",
       "       [  0,   0,   0,   0, 315]])"
      ]
     },
     "execution_count": 317,
     "metadata": {},
     "output_type": "execute_result"
    }
   ],
   "source": [
    "\n",
    "#Turning Numbers into Label for confusion matrix\n",
    "preds_labeled = label_encoder.inverse_transform(preds)\n",
    "y_test_labeled = label_encoder.inverse_transform(y_test)\n",
    "print(classification_report(y_test_labeled, preds_labeled))\n",
    "print(\"\\n\")\n",
    "print(\"\\n\")\n",
    "print(\"Confusion Matrix of Classification\")\n",
    "confusion_matrix(y_test_labeled, preds_labeled)"
   ]
  },
  {
   "cell_type": "code",
   "execution_count": null,
   "metadata": {
    "colab": {
     "base_uri": "https://localhost:8080/",
     "height": 265
    },
    "id": "shB330xLC73a",
    "outputId": "e2e18ae3-b2f0-4e22-d283-266125b752d0"
   },
   "outputs": [
    {
     "data": {
      "image/png": "[encoded data removed]",
      "text/plain": [
       "<Figure size 432x288 with 2 Axes>"
      ]
     },
     "metadata": {},
     "output_type": "display_data"
    }
   ],
   "source": [
    "#Confusion matrix of classification\n",
    "sns.heatmap(confusion_matrix(y_test, tf_preds), annot=True, )\n",
    "plt.show()"
   ]
  },
  {
   "cell_type": "markdown",
   "metadata": {
    "id": "WcK9XhBm7jiI"
   },
   "source": [
    "##**Comparing Results of Models**"
   ]
  },
  {
   "cell_type": "markdown",
   "metadata": {
    "id": "DF5ijNTn72ql"
   },
   "source": [
    "**Report**\n",
    "\n",
    "**First Model**\n",
    "\n",
    "Naive Bayes Model:\n",
    "> Accuracy: 70%  \n",
    "\n",
    "> Precision: 68%\n",
    "\n",
    "> Recall: 69%\n",
    "\n",
    "> F1-Score: 76%\n",
    "\n",
    "\n",
    "**2nd Model**\n",
    "\n",
    "XGBoost Model:\n",
    "> Accuracy: 100%  \n",
    "\n",
    "> Precision: 100% \n",
    "\n",
    "> Recall: 100% \n",
    "\n",
    "> F1-Score:100% \n",
    "\n",
    "\n",
    "**3rd Model**\n",
    "\n",
    "DNN Model:\n",
    "> Accuracy: 100%   \n",
    "\n",
    "> Precision: 100% \n",
    "\n",
    "> Recall: 100% \n",
    "\n",
    "> F1-Score: 100% \n",
    "\n",
    "From the above metrics we can notice that 2nd two Models are performing very well with good accuracy score and F1-Score.\n"
   ]
  },
  {
   "cell_type": "markdown",
   "metadata": {
    "id": "mC6G06aaDY0C"
   },
   "source": [
    "##Note:\n",
    "**1:** Dataset is very large and while processing it runs of out RAM so we tried to load a small set of data to train the model. If there is enough computationl resourse available then Models can be trained on entire corpus.\n",
    "Accuracy will not that good because we are using only small amount of corpora.\n",
    "\n",
    "**2:**\n",
    " Evaluation metrics can be changed whenever Notebook is ran. So results are reproducible."
   ]
  }
 ],
 "metadata": {
  "colab": {
   "collapsed_sections": [],
   "name": "multiclass_text_classification_tfidf_bad_way_for_learning_purposes_only",
   "provenance": []
  },
  "kernelspec": {
   "display_name": "Python 3 (ipykernel)",
   "language": "python",
   "name": "python3"
  },
  "language_info": {
   "codemirror_mode": {
    "name": "ipython",
    "version": 3
   },
   "file_extension": ".py",
   "mimetype": "text/x-python",
   "name": "python",
   "nbconvert_exporter": "python",
   "pygments_lexer": "ipython3",
   "version": "3.9.7"
  }
 },
 "nbformat": 4,
 "nbformat_minor": 4
}
