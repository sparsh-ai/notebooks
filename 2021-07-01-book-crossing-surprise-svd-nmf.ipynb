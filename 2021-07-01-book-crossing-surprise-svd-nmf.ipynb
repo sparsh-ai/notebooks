{
  "nbformat": 4,
  "nbformat_minor": 0,
  "metadata": {
    "kernelspec": {
      "display_name": "Python 3",
      "language": "python",
      "name": "python3"
    },
    "language_info": {
      "codemirror_mode": {
        "name": "ipython",
        "version": 3
      },
      "file_extension": ".py",
      "mimetype": "text/x-python",
      "name": "python",
      "nbconvert_exporter": "python",
      "pygments_lexer": "ipython3",
      "version": "3.6.3"
    },
    "colab": {
      "name": "2021-07-01-book-crossing-surprise-svd-nmf.ipynb",
      "provenance": [],
      "toc_visible": true
    }
  },
  "cells": [
    {
      "cell_type": "markdown",
      "metadata": {
        "id": "g81xSGHXoGTa"
      },
      "source": [
        "# Book-Crossing Recommendation System\n",
        "> Book recommender system on book crossing dataset using surprise SVD and NMF models\n",
        "\n",
        "- toc: true\n",
        "- badges: true\n",
        "- comments: true\n",
        "- categories: [Surprise, SVD, NMF, Book]\n",
        "- author: \"<a href='https://github.com/tttgm/fellowshipai'>Tom McKenzie</a>\"\n",
        "- image:"
      ]
    },
    {
      "cell_type": "markdown",
      "metadata": {
        "id": "0WRq5pdzolD9"
      },
      "source": [
        "## Setup"
      ]
    },
    {
      "cell_type": "code",
      "metadata": {
        "id": "k6TT0oKgoTuq",
        "colab": {
          "base_uri": "https://localhost:8080/"
        },
        "outputId": "0edb6221-33ab-4e1e-bb6b-51de0d2de477"
      },
      "source": [
        "!pip install -q git+https://github.com/sparsh-ai/recochef.git"
      ],
      "execution_count": 1,
      "outputs": [
        {
          "output_type": "stream",
          "text": [
            "  Installing build dependencies ... \u001b[?25l\u001b[?25hdone\n",
            "  Getting requirements to build wheel ... \u001b[?25l\u001b[?25hdone\n",
            "    Preparing wheel metadata ... \u001b[?25l\u001b[?25hdone\n",
            "\u001b[K     |████████████████████████████████| 4.3MB 5.4MB/s \n",
            "\u001b[?25h  Building wheel for recochef (PEP 517) ... \u001b[?25l\u001b[?25hdone\n"
          ],
          "name": "stdout"
        }
      ]
    },
    {
      "cell_type": "code",
      "metadata": {
        "id": "FpuIkCPSoGTh"
      },
      "source": [
        "import pandas as pd\n",
        "import numpy as np\n",
        "import matplotlib.pyplot as plt\n",
        "import pickle\n",
        "\n",
        "from sklearn import model_selection\n",
        "\n",
        "import warnings\n",
        "warnings.filterwarnings('ignore')\n",
        "\n",
        "plt.style.use('seaborn-white')\n",
        "plt.rcParams.update({'font.size': 15})\n",
        "%matplotlib inline"
      ],
      "execution_count": 85,
      "outputs": []
    },
    {
      "cell_type": "code",
      "metadata": {
        "id": "mScOsbySoxVt"
      },
      "source": [
        "from recochef.datasets.bookcrossing import BookCrossing"
      ],
      "execution_count": 3,
      "outputs": []
    },
    {
      "cell_type": "markdown",
      "metadata": {
        "id": "T1RWAKSRoGTj"
      },
      "source": [
        "## Load the dataset"
      ]
    },
    {
      "cell_type": "code",
      "metadata": {
        "id": "jg7VdI4roGTk"
      },
      "source": [
        "bookcrossing = BookCrossing()\n",
        "users = bookcrossing.load_users()\n",
        "books = bookcrossing.load_items()\n",
        "book_ratings = bookcrossing.load_interactions()"
      ],
      "execution_count": 4,
      "outputs": []
    },
    {
      "cell_type": "code",
      "metadata": {
        "id": "XD1h57n1oGTp",
        "colab": {
          "base_uri": "https://localhost:8080/",
          "height": 204
        },
        "outputId": "f0fa99a8-4da7-4e17-cec1-f86f5d641777"
      },
      "source": [
        "users.head()"
      ],
      "execution_count": 5,
      "outputs": [
        {
          "output_type": "execute_result",
          "data": {
            "text/html": [
              "<div>\n",
              "<style scoped>\n",
              "    .dataframe tbody tr th:only-of-type {\n",
              "        vertical-align: middle;\n",
              "    }\n",
              "\n",
              "    .dataframe tbody tr th {\n",
              "        vertical-align: top;\n",
              "    }\n",
              "\n",
              "    .dataframe thead th {\n",
              "        text-align: right;\n",
              "    }\n",
              "</style>\n",
              "<table border=\"1\" class=\"dataframe\">\n",
              "  <thead>\n",
              "    <tr style=\"text-align: right;\">\n",
              "      <th></th>\n",
              "      <th>USERID</th>\n",
              "      <th>LOCATION</th>\n",
              "      <th>AGE</th>\n",
              "    </tr>\n",
              "  </thead>\n",
              "  <tbody>\n",
              "    <tr>\n",
              "      <th>0</th>\n",
              "      <td>1</td>\n",
              "      <td>nyc, new york, usa</td>\n",
              "      <td>NaN</td>\n",
              "    </tr>\n",
              "    <tr>\n",
              "      <th>1</th>\n",
              "      <td>2</td>\n",
              "      <td>stockton, california, usa</td>\n",
              "      <td>18.0</td>\n",
              "    </tr>\n",
              "    <tr>\n",
              "      <th>2</th>\n",
              "      <td>3</td>\n",
              "      <td>moscow, yukon territory, russia</td>\n",
              "      <td>NaN</td>\n",
              "    </tr>\n",
              "    <tr>\n",
              "      <th>3</th>\n",
              "      <td>4</td>\n",
              "      <td>porto, v.n.gaia, portugal</td>\n",
              "      <td>17.0</td>\n",
              "    </tr>\n",
              "    <tr>\n",
              "      <th>4</th>\n",
              "      <td>5</td>\n",
              "      <td>farnborough, hants, united kingdom</td>\n",
              "      <td>NaN</td>\n",
              "    </tr>\n",
              "  </tbody>\n",
              "</table>\n",
              "</div>"
            ],
            "text/plain": [
              "   USERID                            LOCATION   AGE\n",
              "0       1                  nyc, new york, usa   NaN\n",
              "1       2           stockton, california, usa  18.0\n",
              "2       3     moscow, yukon territory, russia   NaN\n",
              "3       4           porto, v.n.gaia, portugal  17.0\n",
              "4       5  farnborough, hants, united kingdom   NaN"
            ]
          },
          "metadata": {
            "tags": []
          },
          "execution_count": 5
        }
      ]
    },
    {
      "cell_type": "code",
      "metadata": {
        "id": "Vp5bMUj7oGTr",
        "colab": {
          "base_uri": "https://localhost:8080/",
          "height": 411
        },
        "outputId": "4ae25429-d6fd-4f43-8535-c7be3aebab92"
      },
      "source": [
        "books.head()"
      ],
      "execution_count": 6,
      "outputs": [
        {
          "output_type": "execute_result",
          "data": {
            "text/html": [
              "<div>\n",
              "<style scoped>\n",
              "    .dataframe tbody tr th:only-of-type {\n",
              "        vertical-align: middle;\n",
              "    }\n",
              "\n",
              "    .dataframe tbody tr th {\n",
              "        vertical-align: top;\n",
              "    }\n",
              "\n",
              "    .dataframe thead th {\n",
              "        text-align: right;\n",
              "    }\n",
              "</style>\n",
              "<table border=\"1\" class=\"dataframe\">\n",
              "  <thead>\n",
              "    <tr style=\"text-align: right;\">\n",
              "      <th></th>\n",
              "      <th>ITEMID</th>\n",
              "      <th>TITLE</th>\n",
              "      <th>AUTHOR</th>\n",
              "      <th>YEAR</th>\n",
              "      <th>PUBLISHER</th>\n",
              "      <th>URLSMALL</th>\n",
              "      <th>URLMEDIUM</th>\n",
              "      <th>URLLARGE</th>\n",
              "    </tr>\n",
              "  </thead>\n",
              "  <tbody>\n",
              "    <tr>\n",
              "      <th>0</th>\n",
              "      <td>0195153448</td>\n",
              "      <td>Classical Mythology</td>\n",
              "      <td>Mark P. O. Morford</td>\n",
              "      <td>2002</td>\n",
              "      <td>Oxford University Press</td>\n",
              "      <td>http://images.amazon.com/images/P/0195153448.0...</td>\n",
              "      <td>http://images.amazon.com/images/P/0195153448.0...</td>\n",
              "      <td>http://images.amazon.com/images/P/0195153448.0...</td>\n",
              "    </tr>\n",
              "    <tr>\n",
              "      <th>1</th>\n",
              "      <td>0002005018</td>\n",
              "      <td>Clara Callan</td>\n",
              "      <td>Richard Bruce Wright</td>\n",
              "      <td>2001</td>\n",
              "      <td>HarperFlamingo Canada</td>\n",
              "      <td>http://images.amazon.com/images/P/0002005018.0...</td>\n",
              "      <td>http://images.amazon.com/images/P/0002005018.0...</td>\n",
              "      <td>http://images.amazon.com/images/P/0002005018.0...</td>\n",
              "    </tr>\n",
              "    <tr>\n",
              "      <th>2</th>\n",
              "      <td>0060973129</td>\n",
              "      <td>Decision in Normandy</td>\n",
              "      <td>Carlo D'Este</td>\n",
              "      <td>1991</td>\n",
              "      <td>HarperPerennial</td>\n",
              "      <td>http://images.amazon.com/images/P/0060973129.0...</td>\n",
              "      <td>http://images.amazon.com/images/P/0060973129.0...</td>\n",
              "      <td>http://images.amazon.com/images/P/0060973129.0...</td>\n",
              "    </tr>\n",
              "    <tr>\n",
              "      <th>3</th>\n",
              "      <td>0374157065</td>\n",
              "      <td>Flu: The Story of the Great Influenza Pandemic...</td>\n",
              "      <td>Gina Bari Kolata</td>\n",
              "      <td>1999</td>\n",
              "      <td>Farrar Straus Giroux</td>\n",
              "      <td>http://images.amazon.com/images/P/0374157065.0...</td>\n",
              "      <td>http://images.amazon.com/images/P/0374157065.0...</td>\n",
              "      <td>http://images.amazon.com/images/P/0374157065.0...</td>\n",
              "    </tr>\n",
              "    <tr>\n",
              "      <th>4</th>\n",
              "      <td>0393045218</td>\n",
              "      <td>The Mummies of Urumchi</td>\n",
              "      <td>E. J. W. Barber</td>\n",
              "      <td>1999</td>\n",
              "      <td>W. W. Norton &amp;amp; Company</td>\n",
              "      <td>http://images.amazon.com/images/P/0393045218.0...</td>\n",
              "      <td>http://images.amazon.com/images/P/0393045218.0...</td>\n",
              "      <td>http://images.amazon.com/images/P/0393045218.0...</td>\n",
              "    </tr>\n",
              "  </tbody>\n",
              "</table>\n",
              "</div>"
            ],
            "text/plain": [
              "       ITEMID  ...                                           URLLARGE\n",
              "0  0195153448  ...  http://images.amazon.com/images/P/0195153448.0...\n",
              "1  0002005018  ...  http://images.amazon.com/images/P/0002005018.0...\n",
              "2  0060973129  ...  http://images.amazon.com/images/P/0060973129.0...\n",
              "3  0374157065  ...  http://images.amazon.com/images/P/0374157065.0...\n",
              "4  0393045218  ...  http://images.amazon.com/images/P/0393045218.0...\n",
              "\n",
              "[5 rows x 8 columns]"
            ]
          },
          "metadata": {
            "tags": []
          },
          "execution_count": 6
        }
      ]
    },
    {
      "cell_type": "code",
      "metadata": {
        "id": "eWGH3RIIoGTs",
        "colab": {
          "base_uri": "https://localhost:8080/",
          "height": 204
        },
        "outputId": "1b5ea488-9520-4cf7-ca71-dd38814aa499"
      },
      "source": [
        "book_ratings.head()"
      ],
      "execution_count": 7,
      "outputs": [
        {
          "output_type": "execute_result",
          "data": {
            "text/html": [
              "<div>\n",
              "<style scoped>\n",
              "    .dataframe tbody tr th:only-of-type {\n",
              "        vertical-align: middle;\n",
              "    }\n",
              "\n",
              "    .dataframe tbody tr th {\n",
              "        vertical-align: top;\n",
              "    }\n",
              "\n",
              "    .dataframe thead th {\n",
              "        text-align: right;\n",
              "    }\n",
              "</style>\n",
              "<table border=\"1\" class=\"dataframe\">\n",
              "  <thead>\n",
              "    <tr style=\"text-align: right;\">\n",
              "      <th></th>\n",
              "      <th>USERID</th>\n",
              "      <th>ITEMID</th>\n",
              "      <th>RATING</th>\n",
              "    </tr>\n",
              "  </thead>\n",
              "  <tbody>\n",
              "    <tr>\n",
              "      <th>0</th>\n",
              "      <td>276725</td>\n",
              "      <td>034545104X</td>\n",
              "      <td>0</td>\n",
              "    </tr>\n",
              "    <tr>\n",
              "      <th>1</th>\n",
              "      <td>276726</td>\n",
              "      <td>0155061224</td>\n",
              "      <td>5</td>\n",
              "    </tr>\n",
              "    <tr>\n",
              "      <th>2</th>\n",
              "      <td>276727</td>\n",
              "      <td>0446520802</td>\n",
              "      <td>0</td>\n",
              "    </tr>\n",
              "    <tr>\n",
              "      <th>3</th>\n",
              "      <td>276729</td>\n",
              "      <td>052165615X</td>\n",
              "      <td>3</td>\n",
              "    </tr>\n",
              "    <tr>\n",
              "      <th>4</th>\n",
              "      <td>276729</td>\n",
              "      <td>0521795028</td>\n",
              "      <td>6</td>\n",
              "    </tr>\n",
              "  </tbody>\n",
              "</table>\n",
              "</div>"
            ],
            "text/plain": [
              "   USERID      ITEMID  RATING\n",
              "0  276725  034545104X       0\n",
              "1  276726  0155061224       5\n",
              "2  276727  0446520802       0\n",
              "3  276729  052165615X       3\n",
              "4  276729  0521795028       6"
            ]
          },
          "metadata": {
            "tags": []
          },
          "execution_count": 7
        }
      ]
    },
    {
      "cell_type": "code",
      "metadata": {
        "id": "hxXW-mEeoGTt",
        "colab": {
          "base_uri": "https://localhost:8080/"
        },
        "outputId": "460bb4b4-5315-40d1-9ffa-cade64753ae6"
      },
      "source": [
        "print(f'Users: {len(users)}\\nBooks: {len(books)}\\nRatings: {len(book_ratings)}')"
      ],
      "execution_count": 8,
      "outputs": [
        {
          "output_type": "stream",
          "text": [
            "Users: 278858\n",
            "Books: 271360\n",
            "Ratings: 1149780\n"
          ],
          "name": "stdout"
        }
      ]
    },
    {
      "cell_type": "markdown",
      "metadata": {
        "id": "aHS8eNeqoGTu"
      },
      "source": [
        "## EDA and Data cleaning"
      ]
    },
    {
      "cell_type": "markdown",
      "metadata": {
        "id": "3VR_65JZrTev"
      },
      "source": [
        "### Users"
      ]
    },
    {
      "cell_type": "code",
      "metadata": {
        "id": "PsLTv-ctoGTx",
        "colab": {
          "base_uri": "https://localhost:8080/",
          "height": 142
        },
        "outputId": "8b964978-cfbf-45d6-faac-45638fcb9223"
      },
      "source": [
        "users.describe(include='all').T"
      ],
      "execution_count": 10,
      "outputs": [
        {
          "output_type": "execute_result",
          "data": {
            "text/html": [
              "<div>\n",
              "<style scoped>\n",
              "    .dataframe tbody tr th:only-of-type {\n",
              "        vertical-align: middle;\n",
              "    }\n",
              "\n",
              "    .dataframe tbody tr th {\n",
              "        vertical-align: top;\n",
              "    }\n",
              "\n",
              "    .dataframe thead th {\n",
              "        text-align: right;\n",
              "    }\n",
              "</style>\n",
              "<table border=\"1\" class=\"dataframe\">\n",
              "  <thead>\n",
              "    <tr style=\"text-align: right;\">\n",
              "      <th></th>\n",
              "      <th>count</th>\n",
              "      <th>unique</th>\n",
              "      <th>top</th>\n",
              "      <th>freq</th>\n",
              "      <th>mean</th>\n",
              "      <th>std</th>\n",
              "      <th>min</th>\n",
              "      <th>25%</th>\n",
              "      <th>50%</th>\n",
              "      <th>75%</th>\n",
              "      <th>max</th>\n",
              "    </tr>\n",
              "  </thead>\n",
              "  <tbody>\n",
              "    <tr>\n",
              "      <th>USERID</th>\n",
              "      <td>278858</td>\n",
              "      <td>NaN</td>\n",
              "      <td>NaN</td>\n",
              "      <td>NaN</td>\n",
              "      <td>139430</td>\n",
              "      <td>80499.5</td>\n",
              "      <td>1</td>\n",
              "      <td>69715.2</td>\n",
              "      <td>139430</td>\n",
              "      <td>209144</td>\n",
              "      <td>278858</td>\n",
              "    </tr>\n",
              "    <tr>\n",
              "      <th>LOCATION</th>\n",
              "      <td>278858</td>\n",
              "      <td>57339</td>\n",
              "      <td>london, england, united kingdom</td>\n",
              "      <td>2506</td>\n",
              "      <td>NaN</td>\n",
              "      <td>NaN</td>\n",
              "      <td>NaN</td>\n",
              "      <td>NaN</td>\n",
              "      <td>NaN</td>\n",
              "      <td>NaN</td>\n",
              "      <td>NaN</td>\n",
              "    </tr>\n",
              "    <tr>\n",
              "      <th>AGE</th>\n",
              "      <td>168096</td>\n",
              "      <td>NaN</td>\n",
              "      <td>NaN</td>\n",
              "      <td>NaN</td>\n",
              "      <td>34.7514</td>\n",
              "      <td>14.4281</td>\n",
              "      <td>0</td>\n",
              "      <td>24</td>\n",
              "      <td>32</td>\n",
              "      <td>44</td>\n",
              "      <td>244</td>\n",
              "    </tr>\n",
              "  </tbody>\n",
              "</table>\n",
              "</div>"
            ],
            "text/plain": [
              "           count unique  ...     75%     max\n",
              "USERID    278858    NaN  ...  209144  278858\n",
              "LOCATION  278858  57339  ...     NaN     NaN\n",
              "AGE       168096    NaN  ...      44     244\n",
              "\n",
              "[3 rows x 11 columns]"
            ]
          },
          "metadata": {
            "tags": []
          },
          "execution_count": 10
        }
      ]
    },
    {
      "cell_type": "markdown",
      "metadata": {
        "id": "sC2xBAGIoGTx"
      },
      "source": [
        "The age range goes from 0 to 244 years old! Obviously this cannot be correct; I'll set all ages less than 5 and older than 100 to NaN to try keep them realistic."
      ]
    },
    {
      "cell_type": "code",
      "metadata": {
        "id": "F63Xy3XYoGTy"
      },
      "source": [
        "users.loc[(users.AGE<5) | (users.AGE>100), 'AGE'] = np.nan"
      ],
      "execution_count": 12,
      "outputs": []
    },
    {
      "cell_type": "code",
      "metadata": {
        "id": "IU6NXlXMoGT1",
        "colab": {
          "base_uri": "https://localhost:8080/",
          "height": 489
        },
        "outputId": "76adc186-dfe0-4ffc-9dbd-53089e1e170e"
      },
      "source": [
        "u = users.AGE.value_counts().sort_index()\n",
        "plt.figure(figsize=(20, 10))\n",
        "plt.bar(u.index, u.values)\n",
        "plt.xlabel('Age')\n",
        "plt.ylabel('counts')\n",
        "plt.show()"
      ],
      "execution_count": 16,
      "outputs": [
        {
          "output_type": "display_data",
          "data": {
            "image/png": "[encoded data removed]",
            "text/plain": [
              "<Figure size 1440x720 with 1 Axes>"
            ]
          },
          "metadata": {
            "tags": [],
            "needs_background": "light"
          }
        }
      ]
    },
    {
      "cell_type": "markdown",
      "metadata": {
        "id": "dRSP0HFhoGT2"
      },
      "source": [
        "Next, can we expand the 'Location' field to break it up into 'City', 'State', and 'Country'."
      ]
    },
    {
      "cell_type": "markdown",
      "metadata": {
        "id": "OJNwLCGrq1cS"
      },
      "source": [
        "> Note: Used Pandas Series.str.split method as it has an 'expand' parameter which can handle None cases"
      ]
    },
    {
      "cell_type": "code",
      "metadata": {
        "id": "LgVTuXJDoGT2",
        "colab": {
          "base_uri": "https://localhost:8080/",
          "height": 204
        },
        "outputId": "4653dfcf-26d0-4df9-efb7-3b1200d521e7"
      },
      "source": [
        "user_location_expanded = users.LOCATION.str.split(',', 2, expand=True)\n",
        "user_location_expanded.columns = ['CITY', 'STATE', 'COUNTRY']\n",
        "users = users.join(user_location_expanded)\n",
        "users.COUNTRY.replace('', np.nan, inplace=True)\n",
        "users.drop(columns=['LOCATION'], inplace=True)\n",
        "users.head()"
      ],
      "execution_count": 18,
      "outputs": [
        {
          "output_type": "execute_result",
          "data": {
            "text/html": [
              "<div>\n",
              "<style scoped>\n",
              "    .dataframe tbody tr th:only-of-type {\n",
              "        vertical-align: middle;\n",
              "    }\n",
              "\n",
              "    .dataframe tbody tr th {\n",
              "        vertical-align: top;\n",
              "    }\n",
              "\n",
              "    .dataframe thead th {\n",
              "        text-align: right;\n",
              "    }\n",
              "</style>\n",
              "<table border=\"1\" class=\"dataframe\">\n",
              "  <thead>\n",
              "    <tr style=\"text-align: right;\">\n",
              "      <th></th>\n",
              "      <th>USERID</th>\n",
              "      <th>AGE</th>\n",
              "      <th>CITY</th>\n",
              "      <th>STATE</th>\n",
              "      <th>COUNTRY</th>\n",
              "    </tr>\n",
              "  </thead>\n",
              "  <tbody>\n",
              "    <tr>\n",
              "      <th>0</th>\n",
              "      <td>1</td>\n",
              "      <td>NaN</td>\n",
              "      <td>nyc</td>\n",
              "      <td>new york</td>\n",
              "      <td>usa</td>\n",
              "    </tr>\n",
              "    <tr>\n",
              "      <th>1</th>\n",
              "      <td>2</td>\n",
              "      <td>18.0</td>\n",
              "      <td>stockton</td>\n",
              "      <td>california</td>\n",
              "      <td>usa</td>\n",
              "    </tr>\n",
              "    <tr>\n",
              "      <th>2</th>\n",
              "      <td>3</td>\n",
              "      <td>NaN</td>\n",
              "      <td>moscow</td>\n",
              "      <td>yukon territory</td>\n",
              "      <td>russia</td>\n",
              "    </tr>\n",
              "    <tr>\n",
              "      <th>3</th>\n",
              "      <td>4</td>\n",
              "      <td>17.0</td>\n",
              "      <td>porto</td>\n",
              "      <td>v.n.gaia</td>\n",
              "      <td>portugal</td>\n",
              "    </tr>\n",
              "    <tr>\n",
              "      <th>4</th>\n",
              "      <td>5</td>\n",
              "      <td>NaN</td>\n",
              "      <td>farnborough</td>\n",
              "      <td>hants</td>\n",
              "      <td>united kingdom</td>\n",
              "    </tr>\n",
              "  </tbody>\n",
              "</table>\n",
              "</div>"
            ],
            "text/plain": [
              "   USERID   AGE         CITY             STATE          COUNTRY\n",
              "0       1   NaN          nyc          new york              usa\n",
              "1       2  18.0     stockton        california              usa\n",
              "2       3   NaN       moscow   yukon territory           russia\n",
              "3       4  17.0        porto          v.n.gaia         portugal\n",
              "4       5   NaN  farnborough             hants   united kingdom"
            ]
          },
          "metadata": {
            "tags": []
          },
          "execution_count": 18
        }
      ]
    },
    {
      "cell_type": "markdown",
      "metadata": {
        "id": "5jHPKv6IoGT8"
      },
      "source": [
        "### Books"
      ]
    },
    {
      "cell_type": "code",
      "metadata": {
        "colab": {
          "base_uri": "https://localhost:8080/",
          "height": 199
        },
        "id": "bZOuv4z_rdW7",
        "outputId": "16f9781c-36b7-4c8e-e505-dba33aefcfa7"
      },
      "source": [
        "books.head(2)"
      ],
      "execution_count": 20,
      "outputs": [
        {
          "output_type": "execute_result",
          "data": {
            "text/html": [
              "<div>\n",
              "<style scoped>\n",
              "    .dataframe tbody tr th:only-of-type {\n",
              "        vertical-align: middle;\n",
              "    }\n",
              "\n",
              "    .dataframe tbody tr th {\n",
              "        vertical-align: top;\n",
              "    }\n",
              "\n",
              "    .dataframe thead th {\n",
              "        text-align: right;\n",
              "    }\n",
              "</style>\n",
              "<table border=\"1\" class=\"dataframe\">\n",
              "  <thead>\n",
              "    <tr style=\"text-align: right;\">\n",
              "      <th></th>\n",
              "      <th>ITEMID</th>\n",
              "      <th>TITLE</th>\n",
              "      <th>AUTHOR</th>\n",
              "      <th>YEAR</th>\n",
              "      <th>PUBLISHER</th>\n",
              "      <th>URLSMALL</th>\n",
              "      <th>URLMEDIUM</th>\n",
              "      <th>URLLARGE</th>\n",
              "    </tr>\n",
              "  </thead>\n",
              "  <tbody>\n",
              "    <tr>\n",
              "      <th>0</th>\n",
              "      <td>0195153448</td>\n",
              "      <td>Classical Mythology</td>\n",
              "      <td>Mark P. O. Morford</td>\n",
              "      <td>2002</td>\n",
              "      <td>Oxford University Press</td>\n",
              "      <td>http://images.amazon.com/images/P/0195153448.0...</td>\n",
              "      <td>http://images.amazon.com/images/P/0195153448.0...</td>\n",
              "      <td>http://images.amazon.com/images/P/0195153448.0...</td>\n",
              "    </tr>\n",
              "    <tr>\n",
              "      <th>1</th>\n",
              "      <td>0002005018</td>\n",
              "      <td>Clara Callan</td>\n",
              "      <td>Richard Bruce Wright</td>\n",
              "      <td>2001</td>\n",
              "      <td>HarperFlamingo Canada</td>\n",
              "      <td>http://images.amazon.com/images/P/0002005018.0...</td>\n",
              "      <td>http://images.amazon.com/images/P/0002005018.0...</td>\n",
              "      <td>http://images.amazon.com/images/P/0002005018.0...</td>\n",
              "    </tr>\n",
              "  </tbody>\n",
              "</table>\n",
              "</div>"
            ],
            "text/plain": [
              "       ITEMID  ...                                           URLLARGE\n",
              "0  0195153448  ...  http://images.amazon.com/images/P/0195153448.0...\n",
              "1  0002005018  ...  http://images.amazon.com/images/P/0002005018.0...\n",
              "\n",
              "[2 rows x 8 columns]"
            ]
          },
          "metadata": {
            "tags": []
          },
          "execution_count": 20
        }
      ]
    },
    {
      "cell_type": "code",
      "metadata": {
        "colab": {
          "base_uri": "https://localhost:8080/",
          "height": 297
        },
        "id": "A-AnXMmUr6Pl",
        "outputId": "f26eeac8-8fa6-4121-f8fd-c2b446784d39"
      },
      "source": [
        "books.describe(include='all').T"
      ],
      "execution_count": 28,
      "outputs": [
        {
          "output_type": "execute_result",
          "data": {
            "text/html": [
              "<div>\n",
              "<style scoped>\n",
              "    .dataframe tbody tr th:only-of-type {\n",
              "        vertical-align: middle;\n",
              "    }\n",
              "\n",
              "    .dataframe tbody tr th {\n",
              "        vertical-align: top;\n",
              "    }\n",
              "\n",
              "    .dataframe thead th {\n",
              "        text-align: right;\n",
              "    }\n",
              "</style>\n",
              "<table border=\"1\" class=\"dataframe\">\n",
              "  <thead>\n",
              "    <tr style=\"text-align: right;\">\n",
              "      <th></th>\n",
              "      <th>count</th>\n",
              "      <th>unique</th>\n",
              "      <th>top</th>\n",
              "      <th>freq</th>\n",
              "    </tr>\n",
              "  </thead>\n",
              "  <tbody>\n",
              "    <tr>\n",
              "      <th>ITEMID</th>\n",
              "      <td>271360</td>\n",
              "      <td>271360</td>\n",
              "      <td>0553141279</td>\n",
              "      <td>1</td>\n",
              "    </tr>\n",
              "    <tr>\n",
              "      <th>TITLE</th>\n",
              "      <td>271360</td>\n",
              "      <td>242135</td>\n",
              "      <td>Selected Poems</td>\n",
              "      <td>27</td>\n",
              "    </tr>\n",
              "    <tr>\n",
              "      <th>AUTHOR</th>\n",
              "      <td>271359</td>\n",
              "      <td>102023</td>\n",
              "      <td>Agatha Christie</td>\n",
              "      <td>632</td>\n",
              "    </tr>\n",
              "    <tr>\n",
              "      <th>YEAR</th>\n",
              "      <td>271360</td>\n",
              "      <td>118</td>\n",
              "      <td>2002</td>\n",
              "      <td>17627</td>\n",
              "    </tr>\n",
              "    <tr>\n",
              "      <th>PUBLISHER</th>\n",
              "      <td>271358</td>\n",
              "      <td>16807</td>\n",
              "      <td>Harlequin</td>\n",
              "      <td>7535</td>\n",
              "    </tr>\n",
              "    <tr>\n",
              "      <th>URLSMALL</th>\n",
              "      <td>271360</td>\n",
              "      <td>271044</td>\n",
              "      <td>http://images.amazon.com/images/P/051511264X.0...</td>\n",
              "      <td>2</td>\n",
              "    </tr>\n",
              "    <tr>\n",
              "      <th>URLMEDIUM</th>\n",
              "      <td>271360</td>\n",
              "      <td>271044</td>\n",
              "      <td>http://images.amazon.com/images/P/038079439X.0...</td>\n",
              "      <td>2</td>\n",
              "    </tr>\n",
              "    <tr>\n",
              "      <th>URLLARGE</th>\n",
              "      <td>271357</td>\n",
              "      <td>271041</td>\n",
              "      <td>http://images.amazon.com/images/P/044022859X.0...</td>\n",
              "      <td>2</td>\n",
              "    </tr>\n",
              "  </tbody>\n",
              "</table>\n",
              "</div>"
            ],
            "text/plain": [
              "            count  ...   freq\n",
              "ITEMID     271360  ...      1\n",
              "TITLE      271360  ...     27\n",
              "AUTHOR     271359  ...    632\n",
              "YEAR       271360  ...  17627\n",
              "PUBLISHER  271358  ...   7535\n",
              "URLSMALL   271360  ...      2\n",
              "URLMEDIUM  271360  ...      2\n",
              "URLLARGE   271357  ...      2\n",
              "\n",
              "[8 rows x 4 columns]"
            ]
          },
          "metadata": {
            "tags": []
          },
          "execution_count": 28
        }
      ]
    },
    {
      "cell_type": "code",
      "metadata": {
        "id": "QquU1U9_oGT_"
      },
      "source": [
        "# Convert years to float\n",
        "books.YEAR = pd.to_numeric(books.YEAR, errors='coerce')"
      ],
      "execution_count": 29,
      "outputs": []
    },
    {
      "cell_type": "code",
      "metadata": {
        "id": "-tqAjrujoGUA"
      },
      "source": [
        "# Replace all years of zero with NaN\n",
        "books.YEAR.replace(0, np.nan, inplace=True)"
      ],
      "execution_count": 30,
      "outputs": []
    },
    {
      "cell_type": "code",
      "metadata": {
        "id": "By-N2TRKoGUA",
        "colab": {
          "base_uri": "https://localhost:8080/",
          "height": 485
        },
        "outputId": "c9162c5d-c12b-47e6-e8b5-61d51aaf8c1d"
      },
      "source": [
        "yr = books.YEAR.value_counts().sort_index()\n",
        "yr = yr.where(yr>5) # filter out counts less than 5\n",
        "plt.figure(figsize=(20, 10))\n",
        "plt.bar(yr.index, yr.values)\n",
        "plt.xlabel('Year of Publication')\n",
        "plt.ylabel('counts')\n",
        "plt.show()"
      ],
      "execution_count": 24,
      "outputs": [
        {
          "output_type": "display_data",
          "data": {
            "image/png": "[encoded data removed]",
            "text/plain": [
              "<Figure size 1440x720 with 1 Axes>"
            ]
          },
          "metadata": {
            "tags": [],
            "needs_background": "light"
          }
        }
      ]
    },
    {
      "cell_type": "markdown",
      "metadata": {
        "id": "yWQeBREhoGUA"
      },
      "source": [
        "Note that in the plot above we filtered out counts less than 5, as there are a few books in the dataset with publication years in the 1300s, and a few in the future (?!). The plot above show the general trend that more recent books are much more frequent.\n",
        "\n",
        "Let's take a look at some of those 'outlier' books. Maybe we'll even keep them as a separate dataset so we can filter them out if we need to later in the analysis. We'll leave them in for now, and then figure out how to handle them once we have more info later on."
      ]
    },
    {
      "cell_type": "code",
      "metadata": {
        "id": "StMHoQEKoGUA",
        "colab": {
          "base_uri": "https://localhost:8080/"
        },
        "outputId": "3762babe-dce3-42fb-9b12-29c2802e33bf"
      },
      "source": [
        "historical_books = books[books.YEAR<1900] # create df of old books\n",
        "books_from_the_future = books[books.YEAR>2018] # create df of books with publication yrs in the future!\n",
        "\n",
        "hist_books_mini = historical_books[['TITLE', 'YEAR']]\n",
        "future_books_mini = books_from_the_future[['TITLE', 'YEAR']]\n",
        "print(f'Historical books:\\n{hist_books_mini}')\n",
        "print('\\n')\n",
        "print(f'Future books:\\n{future_books_mini}')"
      ],
      "execution_count": 31,
      "outputs": [
        {
          "output_type": "stream",
          "text": [
            "Historical books:\n",
            "                                                    TITLE    YEAR\n",
            "171817  Complete Works 10 Volumes [2,6,7,8,9] (Notable...  1806.0\n",
            "227531                   Dalan-i bihisht (Dastan-i Irani)  1378.0\n",
            "245607  Hugh Wynne, Free Quaker (2 Volumes (BCL1-PS Am...  1897.0\n",
            "253750                                       Tasht-i khun  1376.0\n",
            "\n",
            "\n",
            "Future books:\n",
            "                                                    TITLE    YEAR\n",
            "30010                                          The Royals  2020.0\n",
            "37487   MY TEACHER FRIED MY BRAINS (RACK SIZE) (MY TEA...  2030.0\n",
            "55676   MY TEACHER FLUNKED THE PLANET (RACK SIZE) (MY ...  2030.0\n",
            "78168                                    Crossing America  2030.0\n",
            "80264   Alice's Adventures in Wonderland and Through t...  2050.0\n",
            "92156                     Edgar Allen Poe Collected Poems  2020.0\n",
            "97826       Outline of European Architecture (Pelican S.)  2050.0\n",
            "116053                       Three Plays of Eugene Oneill  2038.0\n",
            "118294        Das groÃ?Â?e BÃ?Â¶se- MÃ?Â¤dchen- Lesebuch.  2026.0\n",
            "183769                                              Heidi  2021.0\n",
            "192993  Field Guide to the Birds of North America, 3rd...  2030.0\n",
            "228173       FOREST PEOPLE (Touchstone Books (Hardcover))  2030.0\n",
            "238817                                LOOK HOMEWARD ANGEL  2020.0\n",
            "240169            In Our Time: Stories (Scribner Classic)  2030.0\n",
            "246842                                              CLOUT  2024.0\n",
            "255409                               To Have and Have Not  2037.0\n",
            "260974        FOOTBALL SUPER TEAMS : FOOTBALL SUPER TEAMS  2030.0\n"
          ],
          "name": "stdout"
        }
      ]
    },
    {
      "cell_type": "markdown",
      "metadata": {
        "id": "bLPouO9LoGUB"
      },
      "source": [
        "I think we can probably omit the 'historical_books' as they may potentially skew the model and do not seem to have much relevance to the wider userbase.\n",
        "\n",
        "Some of the 'future' books actually appear to be errors (e.g. Alice in Wonderland, Edgar Allen Poe, etc.)... Perhaps they were supposed to be e.g. 1950 instead of 2050? However, instead of investigating this further, since there are <20 books here I will simply remove them from the 'books' table."
      ]
    },
    {
      "cell_type": "code",
      "metadata": {
        "id": "GVkbdBDHoGUB",
        "colab": {
          "base_uri": "https://localhost:8080/"
        },
        "outputId": "eb824cb7-676d-4d57-acaa-4f3b36a7b44a"
      },
      "source": [
        "print(f'Length of books dataset before removal: {len(books)}')\n",
        "books = books.loc[~(books.ITEMID.isin(historical_books.ITEMID))] # remove historical books\n",
        "books = books.loc[~(books.ITEMID.isin(books_from_the_future.ITEMID))] # remove historical books\n",
        "print(f'Length of books dataset after removal: {len(books)}')"
      ],
      "execution_count": 33,
      "outputs": [
        {
          "output_type": "stream",
          "text": [
            "Length of books dataset before removal: 271360\n",
            "Length of books dataset after removal: 271339\n"
          ],
          "name": "stdout"
        }
      ]
    },
    {
      "cell_type": "markdown",
      "metadata": {
        "id": "sc8TfMm6oGUB"
      },
      "source": [
        "We clean up the ampersand formatting in the Publisher field."
      ]
    },
    {
      "cell_type": "code",
      "metadata": {
        "id": "DRXOBXkVoGUC",
        "colab": {
          "base_uri": "https://localhost:8080/",
          "height": 411
        },
        "outputId": "ecc24122-61b9-45e8-dc5b-16f6f02b83fe"
      },
      "source": [
        "books.PUBLISHER = books.PUBLISHER.str.replace('&amp', '&', regex=False)\n",
        "books.head()"
      ],
      "execution_count": 34,
      "outputs": [
        {
          "output_type": "execute_result",
          "data": {
            "text/html": [
              "<div>\n",
              "<style scoped>\n",
              "    .dataframe tbody tr th:only-of-type {\n",
              "        vertical-align: middle;\n",
              "    }\n",
              "\n",
              "    .dataframe tbody tr th {\n",
              "        vertical-align: top;\n",
              "    }\n",
              "\n",
              "    .dataframe thead th {\n",
              "        text-align: right;\n",
              "    }\n",
              "</style>\n",
              "<table border=\"1\" class=\"dataframe\">\n",
              "  <thead>\n",
              "    <tr style=\"text-align: right;\">\n",
              "      <th></th>\n",
              "      <th>ITEMID</th>\n",
              "      <th>TITLE</th>\n",
              "      <th>AUTHOR</th>\n",
              "      <th>YEAR</th>\n",
              "      <th>PUBLISHER</th>\n",
              "      <th>URLSMALL</th>\n",
              "      <th>URLMEDIUM</th>\n",
              "      <th>URLLARGE</th>\n",
              "    </tr>\n",
              "  </thead>\n",
              "  <tbody>\n",
              "    <tr>\n",
              "      <th>0</th>\n",
              "      <td>0195153448</td>\n",
              "      <td>Classical Mythology</td>\n",
              "      <td>Mark P. O. Morford</td>\n",
              "      <td>2002.0</td>\n",
              "      <td>Oxford University Press</td>\n",
              "      <td>http://images.amazon.com/images/P/0195153448.0...</td>\n",
              "      <td>http://images.amazon.com/images/P/0195153448.0...</td>\n",
              "      <td>http://images.amazon.com/images/P/0195153448.0...</td>\n",
              "    </tr>\n",
              "    <tr>\n",
              "      <th>1</th>\n",
              "      <td>0002005018</td>\n",
              "      <td>Clara Callan</td>\n",
              "      <td>Richard Bruce Wright</td>\n",
              "      <td>2001.0</td>\n",
              "      <td>HarperFlamingo Canada</td>\n",
              "      <td>http://images.amazon.com/images/P/0002005018.0...</td>\n",
              "      <td>http://images.amazon.com/images/P/0002005018.0...</td>\n",
              "      <td>http://images.amazon.com/images/P/0002005018.0...</td>\n",
              "    </tr>\n",
              "    <tr>\n",
              "      <th>2</th>\n",
              "      <td>0060973129</td>\n",
              "      <td>Decision in Normandy</td>\n",
              "      <td>Carlo D'Este</td>\n",
              "      <td>1991.0</td>\n",
              "      <td>HarperPerennial</td>\n",
              "      <td>http://images.amazon.com/images/P/0060973129.0...</td>\n",
              "      <td>http://images.amazon.com/images/P/0060973129.0...</td>\n",
              "      <td>http://images.amazon.com/images/P/0060973129.0...</td>\n",
              "    </tr>\n",
              "    <tr>\n",
              "      <th>3</th>\n",
              "      <td>0374157065</td>\n",
              "      <td>Flu: The Story of the Great Influenza Pandemic...</td>\n",
              "      <td>Gina Bari Kolata</td>\n",
              "      <td>1999.0</td>\n",
              "      <td>Farrar Straus Giroux</td>\n",
              "      <td>http://images.amazon.com/images/P/0374157065.0...</td>\n",
              "      <td>http://images.amazon.com/images/P/0374157065.0...</td>\n",
              "      <td>http://images.amazon.com/images/P/0374157065.0...</td>\n",
              "    </tr>\n",
              "    <tr>\n",
              "      <th>4</th>\n",
              "      <td>0393045218</td>\n",
              "      <td>The Mummies of Urumchi</td>\n",
              "      <td>E. J. W. Barber</td>\n",
              "      <td>1999.0</td>\n",
              "      <td>W. W. Norton &amp;; Company</td>\n",
              "      <td>http://images.amazon.com/images/P/0393045218.0...</td>\n",
              "      <td>http://images.amazon.com/images/P/0393045218.0...</td>\n",
              "      <td>http://images.amazon.com/images/P/0393045218.0...</td>\n",
              "    </tr>\n",
              "  </tbody>\n",
              "</table>\n",
              "</div>"
            ],
            "text/plain": [
              "       ITEMID  ...                                           URLLARGE\n",
              "0  0195153448  ...  http://images.amazon.com/images/P/0195153448.0...\n",
              "1  0002005018  ...  http://images.amazon.com/images/P/0002005018.0...\n",
              "2  0060973129  ...  http://images.amazon.com/images/P/0060973129.0...\n",
              "3  0374157065  ...  http://images.amazon.com/images/P/0374157065.0...\n",
              "4  0393045218  ...  http://images.amazon.com/images/P/0393045218.0...\n",
              "\n",
              "[5 rows x 8 columns]"
            ]
          },
          "metadata": {
            "tags": []
          },
          "execution_count": 34
        }
      ]
    },
    {
      "cell_type": "markdown",
      "metadata": {
        "id": "rJd3lqojoGUC"
      },
      "source": [
        "Check that there are no duplicated book entries."
      ]
    },
    {
      "cell_type": "code",
      "metadata": {
        "id": "8cxxbmLDoGUD",
        "colab": {
          "base_uri": "https://localhost:8080/"
        },
        "outputId": "558c1540-70c6-46bf-cbed-a3c2507c1aa4"
      },
      "source": [
        "uniq_books = books.ITEMID.nunique()\n",
        "all_books = books.ITEMID.count()\n",
        "print(f'No. of unique books: {uniq_books} | All book entries: {all_books}')"
      ],
      "execution_count": 35,
      "outputs": [
        {
          "output_type": "stream",
          "text": [
            "No. of unique books: 271339 | All book entries: 271339\n"
          ],
          "name": "stdout"
        }
      ]
    },
    {
      "cell_type": "markdown",
      "metadata": {
        "id": "yIbT7YzooGUE"
      },
      "source": [
        "Let's look at the most frequent Publishing houses in the dataset."
      ]
    },
    {
      "cell_type": "code",
      "metadata": {
        "id": "qtz7MiXnoGUE",
        "colab": {
          "base_uri": "https://localhost:8080/"
        },
        "outputId": "7c1b54d5-e212-4878-c52b-ebf49a5b3e7d"
      },
      "source": [
        "top_publishers = books.PUBLISHER.value_counts()[:10]\n",
        "print(f'The 10 publishers with the most entries in the books table are:\\n{top_publishers}')"
      ],
      "execution_count": 36,
      "outputs": [
        {
          "output_type": "stream",
          "text": [
            "The 10 publishers with the most entries in the books table are:\n",
            "Harlequin                   7535\n",
            "Silhouette                  4220\n",
            "Pocket                      3905\n",
            "Ballantine Books            3783\n",
            "Bantam Books                3646\n",
            "Scholastic                  3159\n",
            "Simon &; Schuster           2969\n",
            "Penguin Books               2844\n",
            "Berkley Publishing Group    2771\n",
            "Warner Books                2727\n",
            "Name: PUBLISHER, dtype: int64\n"
          ],
          "name": "stdout"
        }
      ]
    },
    {
      "cell_type": "markdown",
      "metadata": {
        "id": "5nhrv4O3oGUF"
      },
      "source": [
        "What about authors with the most entries?"
      ]
    },
    {
      "cell_type": "code",
      "metadata": {
        "id": "FTcGa8HEoGUG",
        "colab": {
          "base_uri": "https://localhost:8080/"
        },
        "outputId": "3f1b8c6b-9da5-4f14-e411-f4454448f806"
      },
      "source": [
        "top_authors = books.AUTHOR.value_counts()[:10]\n",
        "print(f'The 10 authors with the most entries in the books table are:\\n{top_authors}')"
      ],
      "execution_count": 37,
      "outputs": [
        {
          "output_type": "stream",
          "text": [
            "The 10 authors with the most entries in the books table are:\n",
            "Agatha Christie        632\n",
            "William Shakespeare    567\n",
            "Stephen King           524\n",
            "Ann M. Martin          423\n",
            "Carolyn Keene          373\n",
            "Francine Pascal        372\n",
            "Isaac Asimov           330\n",
            "Nora Roberts           315\n",
            "Barbara Cartland       307\n",
            "Charles Dickens        302\n",
            "Name: AUTHOR, dtype: int64\n"
          ],
          "name": "stdout"
        }
      ]
    },
    {
      "cell_type": "markdown",
      "metadata": {
        "id": "yPNmWRkqoGUH"
      },
      "source": [
        "We should search for empty or NaN values in these fields too."
      ]
    },
    {
      "cell_type": "code",
      "metadata": {
        "id": "TmbpfUPSoGUH",
        "colab": {
          "base_uri": "https://localhost:8080/"
        },
        "outputId": "de320a50-b35d-49e4-f0da-61947587665a"
      },
      "source": [
        "empty_string_publisher = books[books.PUBLISHER == ''].PUBLISHER.count()\n",
        "nan_publisher = books.PUBLISHER.isnull().sum()\n",
        "print(f'There are {empty_string_publisher} entries with empty strings, and {nan_publisher} NaN entries in the Publisher field')"
      ],
      "execution_count": 38,
      "outputs": [
        {
          "output_type": "stream",
          "text": [
            "There are 0 entries with empty strings, and 2 NaN entries in the Publisher field\n"
          ],
          "name": "stdout"
        }
      ]
    },
    {
      "cell_type": "markdown",
      "metadata": {
        "id": "4kkz8MJfoGUI"
      },
      "source": [
        "Great - no empty strings in the Publisher field, and only 2 NaNs."
      ]
    },
    {
      "cell_type": "code",
      "metadata": {
        "id": "_FzRibRfoGUJ",
        "colab": {
          "base_uri": "https://localhost:8080/"
        },
        "outputId": "3d91db0a-1381-4ad5-e50d-988506386010"
      },
      "source": [
        "empty_string_author = books[books.AUTHOR == ''].AUTHOR.count()\n",
        "nan_author = books.AUTHOR.isnull().sum()\n",
        "print(f'There are {empty_string_author} entries with empty strings, and {nan_author} NaN entries in the Author field')"
      ],
      "execution_count": 39,
      "outputs": [
        {
          "output_type": "stream",
          "text": [
            "There are 0 entries with empty strings, and 1 NaN entries in the Author field\n"
          ],
          "name": "stdout"
        }
      ]
    },
    {
      "cell_type": "markdown",
      "metadata": {
        "id": "h74pnJO2oGUK"
      },
      "source": [
        "Cool, only 1 NaN in the Author field.\n",
        "\n",
        "Let's look at the titles."
      ]
    },
    {
      "cell_type": "code",
      "metadata": {
        "id": "ZKUi0je5oGUK",
        "colab": {
          "base_uri": "https://localhost:8080/"
        },
        "outputId": "968d5fdd-2dec-4659-a86e-1788c2fc4149"
      },
      "source": [
        "top_titles = books.TITLE.value_counts()[:10]\n",
        "print(f'The 10 book titles with the most entries in the books table are:\\n{top_titles}')"
      ],
      "execution_count": 40,
      "outputs": [
        {
          "output_type": "stream",
          "text": [
            "The 10 book titles with the most entries in the books table are:\n",
            "Selected Poems                    27\n",
            "Little Women                      24\n",
            "Wuthering Heights                 21\n",
            "The Secret Garden                 20\n",
            "Adventures of Huckleberry Finn    20\n",
            "Dracula                           20\n",
            "Jane Eyre                         19\n",
            "The Night Before Christmas        18\n",
            "Pride and Prejudice               18\n",
            "Great Expectations                17\n",
            "Name: TITLE, dtype: int64\n"
          ],
          "name": "stdout"
        }
      ]
    },
    {
      "cell_type": "markdown",
      "metadata": {
        "id": "gE1JabzPoGUL"
      },
      "source": [
        "This is actually quite an important observation. Although all of the ISBN entries are *unique* in the 'books' dataframe, different *forms* of the **same** book will have different ISBNs - i.e. paperback, e-book, etc. Therefore, we can see that some books have multiple ISBN entries (e.g. Jane Eyre has 19 different ISBNs, each corresponding to a different version of the book).\n",
        "\n",
        "Let's take a look at, for example, the entries for 'Jane Eyre'."
      ]
    },
    {
      "cell_type": "code",
      "metadata": {
        "id": "cX7HjwSgoGUM",
        "colab": {
          "base_uri": "https://localhost:8080/",
          "height": 1000
        },
        "outputId": "6a92810b-e9a7-4703-edd9-f5a4bf297416"
      },
      "source": [
        "books[books.TITLE=='Jane Eyre']"
      ],
      "execution_count": 41,
      "outputs": [
        {
          "output_type": "execute_result",
          "data": {
            "text/html": [
              "<div>\n",
              "<style scoped>\n",
              "    .dataframe tbody tr th:only-of-type {\n",
              "        vertical-align: middle;\n",
              "    }\n",
              "\n",
              "    .dataframe tbody tr th {\n",
              "        vertical-align: top;\n",
              "    }\n",
              "\n",
              "    .dataframe thead th {\n",
              "        text-align: right;\n",
              "    }\n",
              "</style>\n",
              "<table border=\"1\" class=\"dataframe\">\n",
              "  <thead>\n",
              "    <tr style=\"text-align: right;\">\n",
              "      <th></th>\n",
              "      <th>ITEMID</th>\n",
              "      <th>TITLE</th>\n",
              "      <th>AUTHOR</th>\n",
              "      <th>YEAR</th>\n",
              "      <th>PUBLISHER</th>\n",
              "      <th>URLSMALL</th>\n",
              "      <th>URLMEDIUM</th>\n",
              "      <th>URLLARGE</th>\n",
              "    </tr>\n",
              "  </thead>\n",
              "  <tbody>\n",
              "    <tr>\n",
              "      <th>3323</th>\n",
              "      <td>0451518845</td>\n",
              "      <td>Jane Eyre</td>\n",
              "      <td>Charlotte Bronte</td>\n",
              "      <td>1999.0</td>\n",
              "      <td>New Amer Library Classics</td>\n",
              "      <td>http://images.amazon.com/images/P/0451518845.0...</td>\n",
              "      <td>http://images.amazon.com/images/P/0451518845.0...</td>\n",
              "      <td>http://images.amazon.com/images/P/0451518845.0...</td>\n",
              "    </tr>\n",
              "    <tr>\n",
              "      <th>9545</th>\n",
              "      <td>0451523326</td>\n",
              "      <td>Jane Eyre</td>\n",
              "      <td>Charlotte Bronte</td>\n",
              "      <td>1988.0</td>\n",
              "      <td>Signet Classics</td>\n",
              "      <td>http://images.amazon.com/images/P/0451523326.0...</td>\n",
              "      <td>http://images.amazon.com/images/P/0451523326.0...</td>\n",
              "      <td>http://images.amazon.com/images/P/0451523326.0...</td>\n",
              "    </tr>\n",
              "    <tr>\n",
              "      <th>27657</th>\n",
              "      <td>1566193028</td>\n",
              "      <td>Jane Eyre</td>\n",
              "      <td>Charlotte Bronte</td>\n",
              "      <td>1994.0</td>\n",
              "      <td>Dorset Press</td>\n",
              "      <td>http://images.amazon.com/images/P/1566193028.0...</td>\n",
              "      <td>http://images.amazon.com/images/P/1566193028.0...</td>\n",
              "      <td>http://images.amazon.com/images/P/1566193028.0...</td>\n",
              "    </tr>\n",
              "    <tr>\n",
              "      <th>28501</th>\n",
              "      <td>156619024X</td>\n",
              "      <td>Jane Eyre</td>\n",
              "      <td>Charlotte Bronte</td>\n",
              "      <td>NaN</td>\n",
              "      <td>Barnes Noble Classics</td>\n",
              "      <td>http://images.amazon.com/images/P/156619024X.0...</td>\n",
              "      <td>http://images.amazon.com/images/P/156619024X.0...</td>\n",
              "      <td>http://images.amazon.com/images/P/156619024X.0...</td>\n",
              "    </tr>\n",
              "    <tr>\n",
              "      <th>40050</th>\n",
              "      <td>8426102069</td>\n",
              "      <td>Jane Eyre</td>\n",
              "      <td>Charlotte Bronte</td>\n",
              "      <td>1997.0</td>\n",
              "      <td>Juventud</td>\n",
              "      <td>http://images.amazon.com/images/P/8426102069.0...</td>\n",
              "      <td>http://images.amazon.com/images/P/8426102069.0...</td>\n",
              "      <td>http://images.amazon.com/images/P/8426102069.0...</td>\n",
              "    </tr>\n",
              "    <tr>\n",
              "      <th>41265</th>\n",
              "      <td>0553210203</td>\n",
              "      <td>Jane Eyre</td>\n",
              "      <td>Charlotte Bronte</td>\n",
              "      <td>1981.0</td>\n",
              "      <td>Bantam Books</td>\n",
              "      <td>http://images.amazon.com/images/P/0553210203.0...</td>\n",
              "      <td>http://images.amazon.com/images/P/0553210203.0...</td>\n",
              "      <td>http://images.amazon.com/images/P/0553210203.0...</td>\n",
              "    </tr>\n",
              "    <tr>\n",
              "      <th>58243</th>\n",
              "      <td>0460012878</td>\n",
              "      <td>Jane Eyre</td>\n",
              "      <td>Charlotte Bronte</td>\n",
              "      <td>1976.0</td>\n",
              "      <td>J m Dent &amp;; Sons Ltd</td>\n",
              "      <td>http://images.amazon.com/images/P/0460012878.0...</td>\n",
              "      <td>http://images.amazon.com/images/P/0460012878.0...</td>\n",
              "      <td>http://images.amazon.com/images/P/0460012878.0...</td>\n",
              "    </tr>\n",
              "    <tr>\n",
              "      <th>69689</th>\n",
              "      <td>0141305371</td>\n",
              "      <td>Jane Eyre</td>\n",
              "      <td>Charlotte Bronte</td>\n",
              "      <td>1999.0</td>\n",
              "      <td>Puffin Books</td>\n",
              "      <td>http://images.amazon.com/images/P/0141305371.0...</td>\n",
              "      <td>http://images.amazon.com/images/P/0141305371.0...</td>\n",
              "      <td>http://images.amazon.com/images/P/0141305371.0...</td>\n",
              "    </tr>\n",
              "    <tr>\n",
              "      <th>72306</th>\n",
              "      <td>2253004359</td>\n",
              "      <td>Jane Eyre</td>\n",
              "      <td>Charlotte BrontÃ?Â«</td>\n",
              "      <td>1991.0</td>\n",
              "      <td>LGF</td>\n",
              "      <td>http://images.amazon.com/images/P/2253004359.0...</td>\n",
              "      <td>http://images.amazon.com/images/P/2253004359.0...</td>\n",
              "      <td>http://images.amazon.com/images/P/2253004359.0...</td>\n",
              "    </tr>\n",
              "    <tr>\n",
              "      <th>84642</th>\n",
              "      <td>0812523377</td>\n",
              "      <td>Jane Eyre</td>\n",
              "      <td>Charlotte Bronte</td>\n",
              "      <td>1994.0</td>\n",
              "      <td>Tor Books</td>\n",
              "      <td>http://images.amazon.com/images/P/0812523377.0...</td>\n",
              "      <td>http://images.amazon.com/images/P/0812523377.0...</td>\n",
              "      <td>http://images.amazon.com/images/P/0812523377.0...</td>\n",
              "    </tr>\n",
              "    <tr>\n",
              "      <th>84848</th>\n",
              "      <td>0809598949</td>\n",
              "      <td>Jane Eyre</td>\n",
              "      <td>Charlotte Bronte</td>\n",
              "      <td>2004.0</td>\n",
              "      <td>Wildside Press</td>\n",
              "      <td>http://images.amazon.com/images/P/0809598949.0...</td>\n",
              "      <td>http://images.amazon.com/images/P/0809598949.0...</td>\n",
              "      <td>http://images.amazon.com/images/P/0809598949.0...</td>\n",
              "    </tr>\n",
              "    <tr>\n",
              "      <th>87375</th>\n",
              "      <td>3548301231</td>\n",
              "      <td>Jane Eyre</td>\n",
              "      <td>C Bronte</td>\n",
              "      <td>NaN</td>\n",
              "      <td>Ullstein-Taschenbuch-Verlag, Zweigniederlassun...</td>\n",
              "      <td>http://images.amazon.com/images/P/3548301231.0...</td>\n",
              "      <td>http://images.amazon.com/images/P/3548301231.0...</td>\n",
              "      <td>http://images.amazon.com/images/P/3548301231.0...</td>\n",
              "    </tr>\n",
              "    <tr>\n",
              "      <th>144292</th>\n",
              "      <td>0517668432</td>\n",
              "      <td>Jane Eyre</td>\n",
              "      <td>Charlotte Bronte</td>\n",
              "      <td>1988.0</td>\n",
              "      <td>Random House Value Publishing</td>\n",
              "      <td>http://images.amazon.com/images/P/0517668432.0...</td>\n",
              "      <td>http://images.amazon.com/images/P/0517668432.0...</td>\n",
              "      <td>http://images.amazon.com/images/P/0517668432.0...</td>\n",
              "    </tr>\n",
              "    <tr>\n",
              "      <th>158858</th>\n",
              "      <td>1853268348</td>\n",
              "      <td>Jane Eyre</td>\n",
              "      <td>Charlotte Bronte</td>\n",
              "      <td>NaN</td>\n",
              "      <td>Universal Sales Marketing</td>\n",
              "      <td>http://images.amazon.com/images/P/1853268348.0...</td>\n",
              "      <td>http://images.amazon.com/images/P/1853268348.0...</td>\n",
              "      <td>http://images.amazon.com/images/P/1853268348.0...</td>\n",
              "    </tr>\n",
              "    <tr>\n",
              "      <th>166665</th>\n",
              "      <td>2266083252</td>\n",
              "      <td>Jane Eyre</td>\n",
              "      <td>Charlotte BrontÃ?Â«</td>\n",
              "      <td>1999.0</td>\n",
              "      <td>Pocket</td>\n",
              "      <td>http://images.amazon.com/images/P/2266083252.0...</td>\n",
              "      <td>http://images.amazon.com/images/P/2266083252.0...</td>\n",
              "      <td>http://images.amazon.com/images/P/2266083252.0...</td>\n",
              "    </tr>\n",
              "    <tr>\n",
              "      <th>204658</th>\n",
              "      <td>0451515560</td>\n",
              "      <td>Jane Eyre</td>\n",
              "      <td>Charlotte Bronte</td>\n",
              "      <td>1981.0</td>\n",
              "      <td>Signet Book</td>\n",
              "      <td>http://images.amazon.com/images/P/0451515560.0...</td>\n",
              "      <td>http://images.amazon.com/images/P/0451515560.0...</td>\n",
              "      <td>http://images.amazon.com/images/P/0451515560.0...</td>\n",
              "    </tr>\n",
              "    <tr>\n",
              "      <th>226926</th>\n",
              "      <td>0582528259</td>\n",
              "      <td>Jane Eyre</td>\n",
              "      <td>Charlotte Bronte</td>\n",
              "      <td>1978.0</td>\n",
              "      <td>Addison-Wesley Pub Co</td>\n",
              "      <td>http://images.amazon.com/images/P/0582528259.0...</td>\n",
              "      <td>http://images.amazon.com/images/P/0582528259.0...</td>\n",
              "      <td>http://images.amazon.com/images/P/0582528259.0...</td>\n",
              "    </tr>\n",
              "    <tr>\n",
              "      <th>242914</th>\n",
              "      <td>1590071212</td>\n",
              "      <td>Jane Eyre</td>\n",
              "      <td>Charlotte Bronte</td>\n",
              "      <td>2002.0</td>\n",
              "      <td>New Millenium Audio</td>\n",
              "      <td>http://images.amazon.com/images/P/1590071212.0...</td>\n",
              "      <td>http://images.amazon.com/images/P/1590071212.0...</td>\n",
              "      <td>http://images.amazon.com/images/P/1590071212.0...</td>\n",
              "    </tr>\n",
              "    <tr>\n",
              "      <th>248967</th>\n",
              "      <td>843761449X</td>\n",
              "      <td>Jane Eyre</td>\n",
              "      <td>Charlotte Bronte</td>\n",
              "      <td>1998.0</td>\n",
              "      <td>Ediciones Catedra S.A.</td>\n",
              "      <td>http://images.amazon.com/images/P/843761449X.0...</td>\n",
              "      <td>http://images.amazon.com/images/P/843761449X.0...</td>\n",
              "      <td>http://images.amazon.com/images/P/843761449X.0...</td>\n",
              "    </tr>\n",
              "  </tbody>\n",
              "</table>\n",
              "</div>"
            ],
            "text/plain": [
              "            ITEMID  ...                                           URLLARGE\n",
              "3323    0451518845  ...  http://images.amazon.com/images/P/0451518845.0...\n",
              "9545    0451523326  ...  http://images.amazon.com/images/P/0451523326.0...\n",
              "27657   1566193028  ...  http://images.amazon.com/images/P/1566193028.0...\n",
              "28501   156619024X  ...  http://images.amazon.com/images/P/156619024X.0...\n",
              "40050   8426102069  ...  http://images.amazon.com/images/P/8426102069.0...\n",
              "41265   0553210203  ...  http://images.amazon.com/images/P/0553210203.0...\n",
              "58243   0460012878  ...  http://images.amazon.com/images/P/0460012878.0...\n",
              "69689   0141305371  ...  http://images.amazon.com/images/P/0141305371.0...\n",
              "72306   2253004359  ...  http://images.amazon.com/images/P/2253004359.0...\n",
              "84642   0812523377  ...  http://images.amazon.com/images/P/0812523377.0...\n",
              "84848   0809598949  ...  http://images.amazon.com/images/P/0809598949.0...\n",
              "87375   3548301231  ...  http://images.amazon.com/images/P/3548301231.0...\n",
              "144292  0517668432  ...  http://images.amazon.com/images/P/0517668432.0...\n",
              "158858  1853268348  ...  http://images.amazon.com/images/P/1853268348.0...\n",
              "166665  2266083252  ...  http://images.amazon.com/images/P/2266083252.0...\n",
              "204658  0451515560  ...  http://images.amazon.com/images/P/0451515560.0...\n",
              "226926  0582528259  ...  http://images.amazon.com/images/P/0582528259.0...\n",
              "242914  1590071212  ...  http://images.amazon.com/images/P/1590071212.0...\n",
              "248967  843761449X  ...  http://images.amazon.com/images/P/843761449X.0...\n",
              "\n",
              "[19 rows x 8 columns]"
            ]
          },
          "metadata": {
            "tags": []
          },
          "execution_count": 41
        }
      ]
    },
    {
      "cell_type": "markdown",
      "metadata": {
        "id": "44C2ZhdxoGUN"
      },
      "source": [
        "It looks like each ISBN assigned to the book 'Jane Eyre' has different Publisher and Year of Publication values also.\n",
        "\n",
        "It might be more useful for our model if we simplified this to give each book a *unique* identifier, independent of the book format, as our recommendations will be for a book, not a specific version of a book. Therefore, all values in the Jane Eyre example above would stay the same, except all of the Jane Eyre entries would additionally be assigned a *unique ISBN* code as a new field.\n",
        "\n",
        "**Will create this more unique identifier under the field name 'UNIQUE_ITEMIDS'. Note that entries with only a single ISBN number will be left the same. However, will need to do this after joining to the other tables in the dataset, as some ISBNs in the 'book-rating' table may be removed if done prior.**"
      ]
    },
    {
      "cell_type": "markdown",
      "metadata": {
        "id": "e5lQCkVtoGUN"
      },
      "source": [
        "### Interactions"
      ]
    },
    {
      "cell_type": "code",
      "metadata": {
        "colab": {
          "base_uri": "https://localhost:8080/",
          "height": 204
        },
        "id": "zR9FKnFltkQp",
        "outputId": "021e7429-c2cb-48fe-8b80-ecec2facd7cc"
      },
      "source": [
        "book_ratings.head()"
      ],
      "execution_count": 43,
      "outputs": [
        {
          "output_type": "execute_result",
          "data": {
            "text/html": [
              "<div>\n",
              "<style scoped>\n",
              "    .dataframe tbody tr th:only-of-type {\n",
              "        vertical-align: middle;\n",
              "    }\n",
              "\n",
              "    .dataframe tbody tr th {\n",
              "        vertical-align: top;\n",
              "    }\n",
              "\n",
              "    .dataframe thead th {\n",
              "        text-align: right;\n",
              "    }\n",
              "</style>\n",
              "<table border=\"1\" class=\"dataframe\">\n",
              "  <thead>\n",
              "    <tr style=\"text-align: right;\">\n",
              "      <th></th>\n",
              "      <th>USERID</th>\n",
              "      <th>ITEMID</th>\n",
              "      <th>RATING</th>\n",
              "    </tr>\n",
              "  </thead>\n",
              "  <tbody>\n",
              "    <tr>\n",
              "      <th>0</th>\n",
              "      <td>276725</td>\n",
              "      <td>034545104X</td>\n",
              "      <td>0</td>\n",
              "    </tr>\n",
              "    <tr>\n",
              "      <th>1</th>\n",
              "      <td>276726</td>\n",
              "      <td>0155061224</td>\n",
              "      <td>5</td>\n",
              "    </tr>\n",
              "    <tr>\n",
              "      <th>2</th>\n",
              "      <td>276727</td>\n",
              "      <td>0446520802</td>\n",
              "      <td>0</td>\n",
              "    </tr>\n",
              "    <tr>\n",
              "      <th>3</th>\n",
              "      <td>276729</td>\n",
              "      <td>052165615X</td>\n",
              "      <td>3</td>\n",
              "    </tr>\n",
              "    <tr>\n",
              "      <th>4</th>\n",
              "      <td>276729</td>\n",
              "      <td>0521795028</td>\n",
              "      <td>6</td>\n",
              "    </tr>\n",
              "  </tbody>\n",
              "</table>\n",
              "</div>"
            ],
            "text/plain": [
              "   USERID      ITEMID  RATING\n",
              "0  276725  034545104X       0\n",
              "1  276726  0155061224       5\n",
              "2  276727  0446520802       0\n",
              "3  276729  052165615X       3\n",
              "4  276729  0521795028       6"
            ]
          },
          "metadata": {
            "tags": []
          },
          "execution_count": 43
        }
      ]
    },
    {
      "cell_type": "code",
      "metadata": {
        "colab": {
          "base_uri": "https://localhost:8080/",
          "height": 142
        },
        "id": "q_q5G0yttpJ0",
        "outputId": "0fa4e956-ab70-4dcd-c2d4-fe213303c784"
      },
      "source": [
        "book_ratings.describe(include='all').T"
      ],
      "execution_count": 44,
      "outputs": [
        {
          "output_type": "execute_result",
          "data": {
            "text/html": [
              "<div>\n",
              "<style scoped>\n",
              "    .dataframe tbody tr th:only-of-type {\n",
              "        vertical-align: middle;\n",
              "    }\n",
              "\n",
              "    .dataframe tbody tr th {\n",
              "        vertical-align: top;\n",
              "    }\n",
              "\n",
              "    .dataframe thead th {\n",
              "        text-align: right;\n",
              "    }\n",
              "</style>\n",
              "<table border=\"1\" class=\"dataframe\">\n",
              "  <thead>\n",
              "    <tr style=\"text-align: right;\">\n",
              "      <th></th>\n",
              "      <th>count</th>\n",
              "      <th>unique</th>\n",
              "      <th>top</th>\n",
              "      <th>freq</th>\n",
              "      <th>mean</th>\n",
              "      <th>std</th>\n",
              "      <th>min</th>\n",
              "      <th>25%</th>\n",
              "      <th>50%</th>\n",
              "      <th>75%</th>\n",
              "      <th>max</th>\n",
              "    </tr>\n",
              "  </thead>\n",
              "  <tbody>\n",
              "    <tr>\n",
              "      <th>USERID</th>\n",
              "      <td>1.14978e+06</td>\n",
              "      <td>NaN</td>\n",
              "      <td>NaN</td>\n",
              "      <td>NaN</td>\n",
              "      <td>140386</td>\n",
              "      <td>80562.3</td>\n",
              "      <td>2</td>\n",
              "      <td>70345</td>\n",
              "      <td>141010</td>\n",
              "      <td>211028</td>\n",
              "      <td>278854</td>\n",
              "    </tr>\n",
              "    <tr>\n",
              "      <th>ITEMID</th>\n",
              "      <td>1149780</td>\n",
              "      <td>340556</td>\n",
              "      <td>0971880107</td>\n",
              "      <td>2502</td>\n",
              "      <td>NaN</td>\n",
              "      <td>NaN</td>\n",
              "      <td>NaN</td>\n",
              "      <td>NaN</td>\n",
              "      <td>NaN</td>\n",
              "      <td>NaN</td>\n",
              "      <td>NaN</td>\n",
              "    </tr>\n",
              "    <tr>\n",
              "      <th>RATING</th>\n",
              "      <td>1.14978e+06</td>\n",
              "      <td>NaN</td>\n",
              "      <td>NaN</td>\n",
              "      <td>NaN</td>\n",
              "      <td>2.86695</td>\n",
              "      <td>3.85418</td>\n",
              "      <td>0</td>\n",
              "      <td>0</td>\n",
              "      <td>0</td>\n",
              "      <td>7</td>\n",
              "      <td>10</td>\n",
              "    </tr>\n",
              "  </tbody>\n",
              "</table>\n",
              "</div>"
            ],
            "text/plain": [
              "              count  unique         top  freq  ...    25%     50%     75%     max\n",
              "USERID  1.14978e+06     NaN         NaN   NaN  ...  70345  141010  211028  278854\n",
              "ITEMID      1149780  340556  0971880107  2502  ...    NaN     NaN     NaN     NaN\n",
              "RATING  1.14978e+06     NaN         NaN   NaN  ...      0       0       7      10\n",
              "\n",
              "[3 rows x 11 columns]"
            ]
          },
          "metadata": {
            "tags": []
          },
          "execution_count": 44
        }
      ]
    },
    {
      "cell_type": "code",
      "metadata": {
        "colab": {
          "base_uri": "https://localhost:8080/"
        },
        "id": "eUaA5hVft3Yt",
        "outputId": "bcda2197-b7ad-4915-f103-d668bf2daab4"
      },
      "source": [
        "book_ratings.dtypes"
      ],
      "execution_count": 45,
      "outputs": [
        {
          "output_type": "execute_result",
          "data": {
            "text/plain": [
              "USERID     int64\n",
              "ITEMID    object\n",
              "RATING     int64\n",
              "dtype: object"
            ]
          },
          "metadata": {
            "tags": []
          },
          "execution_count": 45
        }
      ]
    },
    {
      "cell_type": "markdown",
      "metadata": {
        "id": "ShKPkSxvoGUQ"
      },
      "source": [
        "The data types already look good. Remember that the ISBN numbers may contain letters, and so should be left as strings.\n",
        "\n",
        "Which users contribute the most ratings?"
      ]
    },
    {
      "cell_type": "code",
      "metadata": {
        "id": "Iznlk3C9oGUQ",
        "colab": {
          "base_uri": "https://localhost:8080/"
        },
        "outputId": "28e52faa-a0f1-47a3-cc9f-52d980ddf9a6"
      },
      "source": [
        "super_users = book_ratings.groupby('USERID').ITEMID.count().sort_values(ascending=False)\n",
        "print(f'The 20 users with the most ratings:\\n{super_users[:20]}')"
      ],
      "execution_count": 46,
      "outputs": [
        {
          "output_type": "stream",
          "text": [
            "The 20 users with the most ratings:\n",
            "USERID\n",
            "11676     13602\n",
            "198711     7550\n",
            "153662     6109\n",
            "98391      5891\n",
            "35859      5850\n",
            "212898     4785\n",
            "278418     4533\n",
            "76352      3367\n",
            "110973     3100\n",
            "235105     3067\n",
            "230522     2991\n",
            "16795      2948\n",
            "234623     2674\n",
            "36836      2529\n",
            "52584      2512\n",
            "245963     2507\n",
            "204864     2504\n",
            "55492      2459\n",
            "185233     2448\n",
            "171118     2421\n",
            "Name: ITEMID, dtype: int64\n"
          ],
          "name": "stdout"
        }
      ]
    },
    {
      "cell_type": "markdown",
      "metadata": {
        "id": "9IiQu8wjoGUR"
      },
      "source": [
        "Wow! User \\#11676 has almost twice as many ratings as the next highest user! All of the top 20 users have thousands of ratings, which seems like a lot, although maybe I'm just a slow reader...\n",
        "\n",
        "Let's see how they are distributed."
      ]
    },
    {
      "cell_type": "code",
      "metadata": {
        "id": "-_eu_HvwoGUR",
        "colab": {
          "base_uri": "https://localhost:8080/",
          "height": 284
        },
        "outputId": "a30f2e63-2f40-4e63-c421-633743bf48d4"
      },
      "source": [
        "# user distribution - users with more than 50 ratings removed\n",
        "user_hist = super_users.where(super_users<50)\n",
        "user_hist.hist(bins=30)\n",
        "plt.xlabel('No. of ratings')\n",
        "plt.ylabel('count')\n",
        "plt.show()"
      ],
      "execution_count": 47,
      "outputs": [
        {
          "output_type": "display_data",
          "data": {
            "image/png": "[encoded data removed]",
            "text/plain": [
              "<Figure size 432x288 with 1 Axes>"
            ]
          },
          "metadata": {
            "tags": [],
            "needs_background": "light"
          }
        }
      ]
    },
    {
      "cell_type": "markdown",
      "metadata": {
        "id": "PbNYApFVoGUS"
      },
      "source": [
        "It looks like **_by far_** the most frequent events are users with only 1 or 2 rating entries. We can see that the 'super users' with thousands of ratings are significant outliers.\n",
        "\n",
        "This becomes clear if we make the same histogram with a cutoff for users with a minimum of 1000 ratings."
      ]
    },
    {
      "cell_type": "code",
      "metadata": {
        "id": "5b5H0JwtoGUS",
        "colab": {
          "base_uri": "https://localhost:8080/",
          "height": 284
        },
        "outputId": "6b7822cb-b420-4eb9-c055-c10a7e349957"
      },
      "source": [
        "# only users with more than 1000 ratings\n",
        "super_user_hist = super_users.where(super_users>1000)\n",
        "super_user_hist.hist(bins=30)\n",
        "plt.xlabel('No. of ratings (min. 1000)')\n",
        "plt.ylabel('count')\n",
        "plt.show()"
      ],
      "execution_count": 48,
      "outputs": [
        {
          "output_type": "display_data",
          "data": {
            "image/png": "[encoded data removed]",
            "text/plain": [
              "<Figure size 432x288 with 1 Axes>"
            ]
          },
          "metadata": {
            "tags": [],
            "needs_background": "light"
          }
        }
      ]
    },
    {
      "cell_type": "markdown",
      "metadata": {
        "id": "2MSB1-u_oGUT"
      },
      "source": [
        "Let's see what the distribution of **ratings** looks like."
      ]
    },
    {
      "cell_type": "code",
      "metadata": {
        "id": "5XxhxDRRoGUT",
        "colab": {
          "base_uri": "https://localhost:8080/",
          "height": 338
        },
        "outputId": "66a3148d-bcb0-48d2-8384-b9ab33fe2f99"
      },
      "source": [
        "rtg = book_ratings.RATING.value_counts().sort_index()\n",
        "\n",
        "plt.figure(figsize=(10, 5))\n",
        "plt.bar(rtg.index, rtg.values)\n",
        "plt.xlabel('Rating')\n",
        "plt.ylabel('counts')\n",
        "plt.show()"
      ],
      "execution_count": 49,
      "outputs": [
        {
          "output_type": "display_data",
          "data": {
            "image/png": "[encoded data removed]",
            "text/plain": [
              "<Figure size 720x360 with 1 Axes>"
            ]
          },
          "metadata": {
            "tags": [],
            "needs_background": "light"
          }
        }
      ]
    },
    {
      "cell_type": "markdown",
      "metadata": {
        "id": "rLmBa7G-oGUT"
      },
      "source": [
        "Seems like most of the entries have a rating of zero!\n",
        "\n",
        "After doing some research on the internet regarding this (and similar) datasets, it appears that the rating scale is actually from 1 to 10, and a 0 indicates an 'implicit' rather than an 'explicit' rating. An implicit rating represents an interaction (may be positive or negative) between the user and the item. Implicit interactions usually need to be handled differently from explicit ones.\n",
        "\n",
        "For the modeling step we'll only be looking at *explicit* ratings, and so the 0 rating entry rows will be removed."
      ]
    },
    {
      "cell_type": "code",
      "metadata": {
        "id": "7nMrDIZeoGUU",
        "colab": {
          "base_uri": "https://localhost:8080/"
        },
        "outputId": "feca9ce4-5ad6-4b7c-a346-bfd08a473681"
      },
      "source": [
        "print(f'Size of book_ratings before removing zero ratings: {len(book_ratings)}')\n",
        "book_ratings = book_ratings[book_ratings.RATING != 0]\n",
        "print(f'Size of book_ratings after removing zero ratings: {len(book_ratings)}')"
      ],
      "execution_count": 50,
      "outputs": [
        {
          "output_type": "stream",
          "text": [
            "Size of book_ratings before removing zero ratings: 1149780\n",
            "Size of book_ratings after removing zero ratings: 433671\n"
          ],
          "name": "stdout"
        }
      ]
    },
    {
      "cell_type": "markdown",
      "metadata": {
        "id": "7mROHsCooGUV"
      },
      "source": [
        "By removing the implicit ratings we have reduced our sample size by more than half.\n",
        "\n",
        "Let's look at how the ratings are distributed again."
      ]
    },
    {
      "cell_type": "code",
      "metadata": {
        "id": "JCezmwp1oGUV",
        "colab": {
          "base_uri": "https://localhost:8080/",
          "height": 338
        },
        "outputId": "189d23c0-aed2-487b-8b58-8e10c9a621ad"
      },
      "source": [
        "rtg = book_ratings.RATING.value_counts().sort_index()\n",
        "\n",
        "plt.figure(figsize=(10, 5))\n",
        "plt.bar(rtg.index, rtg.values)\n",
        "plt.xlabel('Rating')\n",
        "plt.ylabel('counts')\n",
        "plt.show()"
      ],
      "execution_count": 51,
      "outputs": [
        {
          "output_type": "display_data",
          "data": {
            "image/png": "[encoded data removed]",
            "text/plain": [
              "<Figure size 720x360 with 1 Axes>"
            ]
          },
          "metadata": {
            "tags": [],
            "needs_background": "light"
          }
        }
      ]
    },
    {
      "cell_type": "markdown",
      "metadata": {
        "id": "39a_qmEooGUW"
      },
      "source": [
        "This is much more clear! Now we can see that 8 is the most frequent rating, while users tend to give ratings > 5, with very few low ratings given."
      ]
    },
    {
      "cell_type": "markdown",
      "metadata": {
        "id": "k-bwINpNoGUW"
      },
      "source": [
        "### Merge"
      ]
    },
    {
      "cell_type": "markdown",
      "metadata": {
        "id": "vME5EfygoGUX"
      },
      "source": [
        "First, we'll join the 'books' table to the 'book_ratings' table on the ISBN field."
      ]
    },
    {
      "cell_type": "code",
      "metadata": {
        "id": "l37nt9xCoGUX",
        "colab": {
          "base_uri": "https://localhost:8080/"
        },
        "outputId": "f67dc875-a9a6-4b92-d902-cecebf929666"
      },
      "source": [
        "print(f'Books table size: {len(books)}')\n",
        "print(f'Ratings table size: {len(book_ratings)}')\n",
        "books_with_ratings = book_ratings.join(books.set_index('ITEMID'), on='ITEMID')\n",
        "print(f'New table size: {len(books_with_ratings)}')"
      ],
      "execution_count": 52,
      "outputs": [
        {
          "output_type": "stream",
          "text": [
            "Books table size: 271339\n",
            "Ratings table size: 433671\n",
            "New table size: 433671\n"
          ],
          "name": "stdout"
        }
      ]
    },
    {
      "cell_type": "markdown",
      "metadata": {
        "id": "X9wjDlHPoGUX"
      },
      "source": [
        "Let's take a look at the new table."
      ]
    },
    {
      "cell_type": "code",
      "metadata": {
        "id": "VDSdI_iRoGUY",
        "colab": {
          "base_uri": "https://localhost:8080/",
          "height": 360
        },
        "outputId": "da99d860-230d-4693-a4c7-95896118b46a"
      },
      "source": [
        "books_with_ratings.head()"
      ],
      "execution_count": 53,
      "outputs": [
        {
          "output_type": "execute_result",
          "data": {
            "text/html": [
              "<div>\n",
              "<style scoped>\n",
              "    .dataframe tbody tr th:only-of-type {\n",
              "        vertical-align: middle;\n",
              "    }\n",
              "\n",
              "    .dataframe tbody tr th {\n",
              "        vertical-align: top;\n",
              "    }\n",
              "\n",
              "    .dataframe thead th {\n",
              "        text-align: right;\n",
              "    }\n",
              "</style>\n",
              "<table border=\"1\" class=\"dataframe\">\n",
              "  <thead>\n",
              "    <tr style=\"text-align: right;\">\n",
              "      <th></th>\n",
              "      <th>USERID</th>\n",
              "      <th>ITEMID</th>\n",
              "      <th>RATING</th>\n",
              "      <th>TITLE</th>\n",
              "      <th>AUTHOR</th>\n",
              "      <th>YEAR</th>\n",
              "      <th>PUBLISHER</th>\n",
              "      <th>URLSMALL</th>\n",
              "      <th>URLMEDIUM</th>\n",
              "      <th>URLLARGE</th>\n",
              "    </tr>\n",
              "  </thead>\n",
              "  <tbody>\n",
              "    <tr>\n",
              "      <th>1</th>\n",
              "      <td>276726</td>\n",
              "      <td>0155061224</td>\n",
              "      <td>5</td>\n",
              "      <td>Rites of Passage</td>\n",
              "      <td>Judith Rae</td>\n",
              "      <td>2001.0</td>\n",
              "      <td>Heinle</td>\n",
              "      <td>http://images.amazon.com/images/P/0155061224.0...</td>\n",
              "      <td>http://images.amazon.com/images/P/0155061224.0...</td>\n",
              "      <td>http://images.amazon.com/images/P/0155061224.0...</td>\n",
              "    </tr>\n",
              "    <tr>\n",
              "      <th>3</th>\n",
              "      <td>276729</td>\n",
              "      <td>052165615X</td>\n",
              "      <td>3</td>\n",
              "      <td>Help!: Level 1</td>\n",
              "      <td>Philip Prowse</td>\n",
              "      <td>1999.0</td>\n",
              "      <td>Cambridge University Press</td>\n",
              "      <td>http://images.amazon.com/images/P/052165615X.0...</td>\n",
              "      <td>http://images.amazon.com/images/P/052165615X.0...</td>\n",
              "      <td>http://images.amazon.com/images/P/052165615X.0...</td>\n",
              "    </tr>\n",
              "    <tr>\n",
              "      <th>4</th>\n",
              "      <td>276729</td>\n",
              "      <td>0521795028</td>\n",
              "      <td>6</td>\n",
              "      <td>The Amsterdam Connection : Level 4 (Cambridge ...</td>\n",
              "      <td>Sue Leather</td>\n",
              "      <td>2001.0</td>\n",
              "      <td>Cambridge University Press</td>\n",
              "      <td>http://images.amazon.com/images/P/0521795028.0...</td>\n",
              "      <td>http://images.amazon.com/images/P/0521795028.0...</td>\n",
              "      <td>http://images.amazon.com/images/P/0521795028.0...</td>\n",
              "    </tr>\n",
              "    <tr>\n",
              "      <th>6</th>\n",
              "      <td>276736</td>\n",
              "      <td>3257224281</td>\n",
              "      <td>8</td>\n",
              "      <td>NaN</td>\n",
              "      <td>NaN</td>\n",
              "      <td>NaN</td>\n",
              "      <td>NaN</td>\n",
              "      <td>NaN</td>\n",
              "      <td>NaN</td>\n",
              "      <td>NaN</td>\n",
              "    </tr>\n",
              "    <tr>\n",
              "      <th>7</th>\n",
              "      <td>276737</td>\n",
              "      <td>0600570967</td>\n",
              "      <td>6</td>\n",
              "      <td>NaN</td>\n",
              "      <td>NaN</td>\n",
              "      <td>NaN</td>\n",
              "      <td>NaN</td>\n",
              "      <td>NaN</td>\n",
              "      <td>NaN</td>\n",
              "      <td>NaN</td>\n",
              "    </tr>\n",
              "  </tbody>\n",
              "</table>\n",
              "</div>"
            ],
            "text/plain": [
              "   USERID  ...                                           URLLARGE\n",
              "1  276726  ...  http://images.amazon.com/images/P/0155061224.0...\n",
              "3  276729  ...  http://images.amazon.com/images/P/052165615X.0...\n",
              "4  276729  ...  http://images.amazon.com/images/P/0521795028.0...\n",
              "6  276736  ...                                                NaN\n",
              "7  276737  ...                                                NaN\n",
              "\n",
              "[5 rows x 10 columns]"
            ]
          },
          "metadata": {
            "tags": []
          },
          "execution_count": 53
        }
      ]
    },
    {
      "cell_type": "code",
      "metadata": {
        "id": "hRtbcS7BoGUY",
        "colab": {
          "base_uri": "https://localhost:8080/"
        },
        "outputId": "05ac86f9-11b9-4c2c-9b75-4d0237b3ad54"
      },
      "source": [
        "print(f'There are {books_with_ratings.TITLE.isnull().sum()} books with no title/author information.')\n",
        "print(f'This represents {len(books_with_ratings)/books_with_ratings.TITLE.isnull().sum():.2f}% of the ratings dataset.')"
      ],
      "execution_count": 54,
      "outputs": [
        {
          "output_type": "stream",
          "text": [
            "There are 49861 books with no title/author information.\n",
            "This represents 8.70% of the ratings dataset.\n"
          ],
          "name": "stdout"
        }
      ]
    },
    {
      "cell_type": "markdown",
      "metadata": {
        "id": "ylYa8nsOoGUZ"
      },
      "source": [
        "There seems to be quite a few ISBNs in the ratings table that did not match an ISBN in the books table, almost 9% of all entries!\n",
        "\n",
        "There isn't really anything we can do about that, but we should really remove them from the dataset as we won't be able to access the title of the book to make a recommendation even if the model can use them."
      ]
    },
    {
      "cell_type": "code",
      "metadata": {
        "id": "Kb6oMsIpoGUZ",
        "colab": {
          "base_uri": "https://localhost:8080/"
        },
        "outputId": "2b7a6291-bf92-4307-985b-22eaa43a1849"
      },
      "source": [
        "books_with_ratings.info()"
      ],
      "execution_count": 55,
      "outputs": [
        {
          "output_type": "stream",
          "text": [
            "<class 'pandas.core.frame.DataFrame'>\n",
            "Int64Index: 433671 entries, 1 to 1149779\n",
            "Data columns (total 10 columns):\n",
            " #   Column     Non-Null Count   Dtype  \n",
            "---  ------     --------------   -----  \n",
            " 0   USERID     433671 non-null  int64  \n",
            " 1   ITEMID     433671 non-null  object \n",
            " 2   RATING     433671 non-null  int64  \n",
            " 3   TITLE      383810 non-null  object \n",
            " 4   AUTHOR     383809 non-null  object \n",
            " 5   YEAR       378026 non-null  float64\n",
            " 6   PUBLISHER  383808 non-null  object \n",
            " 7   URLSMALL   383810 non-null  object \n",
            " 8   URLMEDIUM  383810 non-null  object \n",
            " 9   URLLARGE   383809 non-null  object \n",
            "dtypes: float64(1), int64(2), object(7)\n",
            "memory usage: 36.4+ MB\n"
          ],
          "name": "stdout"
        }
      ]
    },
    {
      "cell_type": "markdown",
      "metadata": {
        "id": "bSrMjH88oGUZ"
      },
      "source": [
        "It looks like the ```year_of_publication``` field contains the most NaN entries, while ```USERID```, ```isbn```, and ```book_rating``` are full. The ```book_title```, ```book_author```, and ```publisher``` fields contain approximately the same number of missing entries.\n",
        "\n",
        "We'll choose to remove rows for which the ```book_title``` is empty, as this is the most crucial piece of data needed to identify the book."
      ]
    },
    {
      "cell_type": "code",
      "metadata": {
        "id": "Z5YQjFK_oGUZ"
      },
      "source": [
        "books_with_ratings.dropna(subset=['TITLE'], inplace=True) # remove rows with missing title/author data"
      ],
      "execution_count": 56,
      "outputs": []
    },
    {
      "cell_type": "markdown",
      "metadata": {
        "id": "kGVocZyNoGUa"
      },
      "source": [
        "Let's see which books have the highest **cumulative** book rating values."
      ]
    },
    {
      "cell_type": "code",
      "metadata": {
        "id": "3DBSqSGtoGUa",
        "colab": {
          "base_uri": "https://localhost:8080/",
          "height": 740
        },
        "outputId": "306a4122-b48d-45c1-ecc6-54dae2fe840e"
      },
      "source": [
        "cm_rtg = books_with_ratings.groupby('TITLE').RATING.sum()\n",
        "cm_rtg = cm_rtg.sort_values(ascending=False)[:10]\n",
        "idx = cm_rtg.index.tolist() # Get sorted book titles\n",
        "vals = cm_rtg.values.tolist() # Get corresponding cm_rtg values\n",
        "\n",
        "plt.figure(figsize=(10, 5))\n",
        "plt.bar(range(len(idx)), vals)\n",
        "plt.xticks(range(len(idx)), idx, rotation='vertical')\n",
        "plt.ylabel('cumulative rating score')\n",
        "plt.show()"
      ],
      "execution_count": 57,
      "outputs": [
        {
          "output_type": "display_data",
          "data": {
            "image/png": "[encoded data removed]",
            "text/plain": [
              "<Figure size 720x360 with 1 Axes>"
            ]
          },
          "metadata": {
            "tags": [],
            "needs_background": "light"
          }
        }
      ]
    },
    {
      "cell_type": "markdown",
      "metadata": {
        "id": "4waQMETRoGUa"
      },
      "source": [
        "This seems about right as it combines the total number of ratings with the score given, so these are all really popular book titles.\n",
        "\n",
        "What about the highest **average ratings** (with a minimum of at least 50 ratings recieved)?"
      ]
    },
    {
      "cell_type": "code",
      "metadata": {
        "id": "1RQTrD7uoGUa",
        "colab": {
          "base_uri": "https://localhost:8080/"
        },
        "outputId": "da415e71-c724-4ab0-b35a-dac46936354b"
      },
      "source": [
        "cutoff = books_with_ratings.TITLE.value_counts()\n",
        "mean_rtg = books_with_ratings[books_with_ratings.TITLE.isin(cutoff[cutoff>50].index)].groupby('TITLE')['RATING'].mean()\n",
        "mean_rtg.sort_values(ascending=False)[:10] # show only top 10"
      ],
      "execution_count": 58,
      "outputs": [
        {
          "output_type": "execute_result",
          "data": {
            "text/plain": [
              "TITLE\n",
              "The Two Towers (The Lord of the Rings, Part 2)            9.330882\n",
              "The Return of the King (The Lord of the Rings, Part 3)    9.213592\n",
              "Harry Potter and the Goblet of Fire (Book 4)              9.125506\n",
              "The Little Prince                                         9.111111\n",
              "Charlotte's Web (Trophy Newbery)                          9.073529\n",
              "Harry Potter and the Sorcerer's Stone (Book 1)            9.062500\n",
              "84 Charing Cross Road                                     9.049180\n",
              "Harry Potter and the Order of the Phoenix (Book 5)        9.047393\n",
              "Harry Potter and the Prisoner of Azkaban (Book 3)         9.043321\n",
              "To Kill a Mockingbird                                     8.977528\n",
              "Name: RATING, dtype: float64"
            ]
          },
          "metadata": {
            "tags": []
          },
          "execution_count": 58
        }
      ]
    },
    {
      "cell_type": "markdown",
      "metadata": {
        "id": "_UhdB4LMoGUb"
      },
      "source": [
        "This looks perfectly reasonable. The Harry Potter and Lord of the Rings books rate extremely highly, as expected.\n",
        "\n",
        "How about the **lowest-rated** books?"
      ]
    },
    {
      "cell_type": "code",
      "metadata": {
        "id": "XypDVpvQoGUb",
        "colab": {
          "base_uri": "https://localhost:8080/"
        },
        "outputId": "87f62597-1637-4643-c9b8-e5af135387b9"
      },
      "source": [
        "mean_rtg.sort_values(ascending=False)[-10:] # bottom 10 only"
      ],
      "execution_count": 59,
      "outputs": [
        {
          "output_type": "execute_result",
          "data": {
            "text/plain": [
              "TITLE\n",
              "Slow Waltz in Cedar Bend                                  6.619718\n",
              "My Gal Sunday                                             6.607843\n",
              "Hornet's Nest                                             6.591398\n",
              "Bleachers                                                 6.583333\n",
              "Full Tilt (Janet Evanovich's Full Series)                 6.568627\n",
              "Songs in Ordinary Time (Oprah's Book Club (Paperback))    6.530303\n",
              "4 Blondes                                                 5.653846\n",
              "Isle of Dogs                                              5.433962\n",
              "Four Blondes                                              5.393939\n",
              "Wild Animus                                               4.390706\n",
              "Name: RATING, dtype: float64"
            ]
          },
          "metadata": {
            "tags": []
          },
          "execution_count": 59
        }
      ]
    },
    {
      "cell_type": "markdown",
      "metadata": {
        "id": "CGHcAfi_oGUc"
      },
      "source": [
        "Seems like the *lowest average* rating in the dataset is only a 4.39 - and all the rest of the books have average ratings higher than 5.\n",
        "\n",
        "I haven't heard of any of these books, so I can't really comment on if they seem correct here.\n",
        "\n",
        "**Now I'd like to tackle the challenge of the same book potentially having multiple ISBN numbers (for the different formats it is available in). We should clean that up here before we add the 'user' table.**"
      ]
    },
    {
      "cell_type": "markdown",
      "metadata": {
        "id": "ObMGSilzoGUc"
      },
      "source": [
        "### Single ISBN per book\n",
        "Restrict books to a \"single ISBN per book\" (regardless of format)"
      ]
    },
    {
      "cell_type": "markdown",
      "metadata": {
        "id": "66Q1S9S2oGUd"
      },
      "source": [
        "Let's look again at the book titles which have the most associated ISBN numbers."
      ]
    },
    {
      "cell_type": "code",
      "metadata": {
        "id": "VwSgGH5-oGUe",
        "colab": {
          "base_uri": "https://localhost:8080/"
        },
        "outputId": "cf37e7c9-2996-45bb-89a3-b7254e546a39"
      },
      "source": [
        "books_with_ratings.groupby('TITLE').ITEMID.nunique().sort_values(ascending=False)[:10]"
      ],
      "execution_count": 60,
      "outputs": [
        {
          "output_type": "execute_result",
          "data": {
            "text/plain": [
              "TITLE\n",
              "The Secret Garden                 18\n",
              "Selected Poems                    16\n",
              "Adventures of Huckleberry Finn    15\n",
              "Dracula                           15\n",
              "Beloved                           14\n",
              "Wuthering Heights                 14\n",
              "Jane Eyre                         14\n",
              "Pride and Prejudice               14\n",
              "Little Women                      14\n",
              "The Hobbit                        12\n",
              "Name: ITEMID, dtype: int64"
            ]
          },
          "metadata": {
            "tags": []
          },
          "execution_count": 60
        }
      ]
    },
    {
      "cell_type": "code",
      "metadata": {
        "id": "z4-pQebwoGUe",
        "colab": {
          "base_uri": "https://localhost:8080/"
        },
        "outputId": "25f3b765-4b8e-491c-fca3-2ab92f0b36ba"
      },
      "source": [
        "multiple_isbns = books_with_ratings.groupby('TITLE').ITEMID.nunique()\n",
        "multiple_isbns.value_counts()"
      ],
      "execution_count": 61,
      "outputs": [
        {
          "output_type": "execute_result",
          "data": {
            "text/plain": [
              "1     125322\n",
              "2       7872\n",
              "3       1497\n",
              "4        493\n",
              "5        181\n",
              "6         86\n",
              "7         44\n",
              "8         27\n",
              "9         11\n",
              "10         8\n",
              "14         5\n",
              "15         2\n",
              "11         2\n",
              "18         1\n",
              "16         1\n",
              "12         1\n",
              "Name: ITEMID, dtype: int64"
            ]
          },
          "metadata": {
            "tags": []
          },
          "execution_count": 61
        }
      ]
    },
    {
      "cell_type": "markdown",
      "metadata": {
        "id": "6tRLSnaioGUf"
      },
      "source": [
        "We can see that the vast majority of books have less only 1 associated ISBN number, however quite a few multiple ISBNs. We want to create a ```UNIQUE_ITEMIDS``` such that a single book will only have 1 identifier when fed to the recommendation model."
      ]
    },
    {
      "cell_type": "code",
      "metadata": {
        "id": "4tg1y16loGUf"
      },
      "source": [
        "has_mult_isbns = multiple_isbns.where(multiple_isbns>1)\n",
        "has_mult_isbns.dropna(inplace=True) # remove NaNs, which in this case is books with a single ISBN number"
      ],
      "execution_count": 62,
      "outputs": []
    },
    {
      "cell_type": "code",
      "metadata": {
        "id": "IEPz3bGkoGUg",
        "colab": {
          "base_uri": "https://localhost:8080/"
        },
        "outputId": "77a227e4-1cf9-4b24-b39c-22a0b419dffe"
      },
      "source": [
        "print(f'There are {len(has_mult_isbns)} book titles with multiple ISBN numbers which we will try to re-assign to a unique identifier')"
      ],
      "execution_count": 63,
      "outputs": [
        {
          "output_type": "stream",
          "text": [
            "There are 10231 book titles with multiple ISBN numbers which we will try to re-assign to a unique identifier\n"
          ],
          "name": "stdout"
        }
      ]
    },
    {
      "cell_type": "code",
      "metadata": {
        "id": "pf1kBD0toGUh",
        "colab": {
          "base_uri": "https://localhost:8080/"
        },
        "outputId": "9b27f6b6-e0e2-4ef8-b021-35d21362bb87"
      },
      "source": [
        "# Check to see that our friend Jane Eyre still has multiple ISBN values\n",
        "has_mult_isbns['Jane Eyre']"
      ],
      "execution_count": 64,
      "outputs": [
        {
          "output_type": "execute_result",
          "data": {
            "text/plain": [
              "14.0"
            ]
          },
          "metadata": {
            "tags": []
          },
          "execution_count": 64
        }
      ]
    },
    {
      "cell_type": "markdown",
      "metadata": {
        "id": "HCUw-HbboGUh"
      },
      "source": [
        "**Note:** Created the dictionary below and pickled it, just need to load it again (or run it if the first time on a new system)."
      ]
    },
    {
      "cell_type": "code",
      "metadata": {
        "id": "v4zvRDsmoGUi",
        "colab": {
          "base_uri": "https://localhost:8080/"
        },
        "outputId": "ba28c30a-4026-4931-e8f9-259e6c21936d"
      },
      "source": [
        "# Create dictionary for books with multiple isbns\n",
        "def make_isbn_dict(df):\n",
        "    title_isbn_dict = {}\n",
        "    for title in has_mult_isbns.index:\n",
        "        isbn_series = df.loc[df.TITLE==title].ITEMID.unique() # returns only the unique ISBNs\n",
        "        title_isbn_dict[title] = isbn_series.tolist()\n",
        "    return title_isbn_dict\n",
        "\n",
        "%time dict_UNIQUE_ITEMIDS = make_isbn_dict(books_with_ratings)\n",
        "\n",
        "# As the loop takes a while to run (8 min on the full dataset), pickle this dict for future use\n",
        "with open('multiple_isbn_dict.pickle', 'wb') as handle:\n",
        "    pickle.dump(dict_UNIQUE_ITEMIDS, handle, protocol=pickle.HIGHEST_PROTOCOL)\n",
        "\n",
        "# LOAD isbn_dict back into namespace\n",
        "with open('multiple_isbn_dict.pickle', 'rb') as handle:\n",
        "    multiple_isbn_dict = pickle.load(handle)"
      ],
      "execution_count": 66,
      "outputs": [
        {
          "output_type": "stream",
          "text": [
            "CPU times: user 8min 32s, sys: 1.61 s, total: 8min 34s\n",
            "Wall time: 8min 33s\n"
          ],
          "name": "stdout"
        }
      ]
    },
    {
      "cell_type": "code",
      "metadata": {
        "id": "JpnZDtMWoGUk",
        "colab": {
          "base_uri": "https://localhost:8080/"
        },
        "outputId": "fca551fb-5e1b-4c3d-933e-72d2399d3161"
      },
      "source": [
        "print(f'There are now {len(multiple_isbn_dict)} books in the ISBN dictionary that have multiple ISBN numbers')"
      ],
      "execution_count": 67,
      "outputs": [
        {
          "output_type": "stream",
          "text": [
            "There are now 10231 books in the ISBN dictionary that have multiple ISBN numbers\n"
          ],
          "name": "stdout"
        }
      ]
    },
    {
      "cell_type": "markdown",
      "metadata": {
        "id": "BIc4o0l_oGUk"
      },
      "source": [
        "Let's take a quick look in the dict we just created for the 'Jane Eyre' entry - it should contain a list of 14 ISBN numbers."
      ]
    },
    {
      "cell_type": "code",
      "metadata": {
        "id": "nmxlxzFOoGUl",
        "colab": {
          "base_uri": "https://localhost:8080/"
        },
        "outputId": "683f0072-677f-4a3b-efcb-8cb1561b2f6f"
      },
      "source": [
        "print(f'Length of Jane Eyre dict entry: {len(multiple_isbn_dict[\"Jane Eyre\"])}\\n')\n",
        "multiple_isbn_dict['Jane Eyre']"
      ],
      "execution_count": 68,
      "outputs": [
        {
          "output_type": "stream",
          "text": [
            "Length of Jane Eyre dict entry: 14\n",
            "\n"
          ],
          "name": "stdout"
        },
        {
          "output_type": "execute_result",
          "data": {
            "text/plain": [
              "['1590071212',\n",
              " '0451518845',\n",
              " '0451523326',\n",
              " '843761449X',\n",
              " '156619024X',\n",
              " '8426102069',\n",
              " '1566193028',\n",
              " '0141305371',\n",
              " '3548301231',\n",
              " '0812523377',\n",
              " '0517668432',\n",
              " '2253004359',\n",
              " '0553210203',\n",
              " '0451515560']"
            ]
          },
          "metadata": {
            "tags": []
          },
          "execution_count": 68
        }
      ]
    },
    {
      "cell_type": "markdown",
      "metadata": {
        "id": "EI3KXjIvoGUm"
      },
      "source": [
        "Looking good!\n",
        "\n",
        "As I don't really know what each of the different ISBN numbers refers to (from what I understand the code actually signifies various things including publisher, year, type of print, etc, but decoding this is outside the scope of this analysis), I'll just select the **first** ISBN number that appears in the list of values to set as our ```UNIQUE_ITEMIDS``` for that particular book.\n",
        "\n",
        "_**Note**_: ISBN numbers are currently 13 digits long, but used to be 10. Any ISBN that isn't 10 or 13 digits long is probably an error that should be handled somehow. Any that are 9 digits long might actually be SBN numbers (pre-1970), and can be converted into ISBN's by just pre-fixing with a zero."
      ]
    },
    {
      "cell_type": "code",
      "metadata": {
        "id": "vHPFNFz-oGUm",
        "colab": {
          "base_uri": "https://localhost:8080/"
        },
        "outputId": "ceee7f14-fee4-4e50-e8a7-1b6498ebc69f"
      },
      "source": [
        "# Add 'UNIQUE_ITEMIDS' column to 'books_with_ratings' dataframe that includes the first ISBN if multiple ISBNS,\n",
        "# or just the ISBN if only 1 ISBN present anyway.\n",
        "def add_UNIQUE_ITEMIDS_col(df):\n",
        "    df['UNIQUE_ITEMIDS'] = df.apply(lambda row: multiple_isbn_dict[row.TITLE][0] if row.TITLE in multiple_isbn_dict.keys() else row.ITEMID, axis=1)\n",
        "    return df\n",
        "\n",
        "%time books_with_ratings = add_UNIQUE_ITEMIDS_col(books_with_ratings)"
      ],
      "execution_count": 74,
      "outputs": [
        {
          "output_type": "stream",
          "text": [
            "CPU times: user 7.77 s, sys: 53.9 ms, total: 7.82 s\n",
            "Wall time: 7.82 s\n"
          ],
          "name": "stdout"
        }
      ]
    },
    {
      "cell_type": "code",
      "metadata": {
        "id": "AJR3omsYoGUm",
        "colab": {
          "base_uri": "https://localhost:8080/",
          "height": 394
        },
        "outputId": "b8f29706-3f07-45f8-c042-380f1b82ad23"
      },
      "source": [
        "books_with_ratings.head()"
      ],
      "execution_count": 75,
      "outputs": [
        {
          "output_type": "execute_result",
          "data": {
            "text/html": [
              "<div>\n",
              "<style scoped>\n",
              "    .dataframe tbody tr th:only-of-type {\n",
              "        vertical-align: middle;\n",
              "    }\n",
              "\n",
              "    .dataframe tbody tr th {\n",
              "        vertical-align: top;\n",
              "    }\n",
              "\n",
              "    .dataframe thead th {\n",
              "        text-align: right;\n",
              "    }\n",
              "</style>\n",
              "<table border=\"1\" class=\"dataframe\">\n",
              "  <thead>\n",
              "    <tr style=\"text-align: right;\">\n",
              "      <th></th>\n",
              "      <th>USERID</th>\n",
              "      <th>ITEMID</th>\n",
              "      <th>RATING</th>\n",
              "      <th>TITLE</th>\n",
              "      <th>AUTHOR</th>\n",
              "      <th>YEAR</th>\n",
              "      <th>PUBLISHER</th>\n",
              "      <th>URLSMALL</th>\n",
              "      <th>URLMEDIUM</th>\n",
              "      <th>URLLARGE</th>\n",
              "      <th>UNIQUE_ITEMIDS</th>\n",
              "    </tr>\n",
              "  </thead>\n",
              "  <tbody>\n",
              "    <tr>\n",
              "      <th>1</th>\n",
              "      <td>276726</td>\n",
              "      <td>0155061224</td>\n",
              "      <td>5</td>\n",
              "      <td>Rites of Passage</td>\n",
              "      <td>Judith Rae</td>\n",
              "      <td>2001.0</td>\n",
              "      <td>Heinle</td>\n",
              "      <td>http://images.amazon.com/images/P/0155061224.0...</td>\n",
              "      <td>http://images.amazon.com/images/P/0155061224.0...</td>\n",
              "      <td>http://images.amazon.com/images/P/0155061224.0...</td>\n",
              "      <td>0155061224</td>\n",
              "    </tr>\n",
              "    <tr>\n",
              "      <th>3</th>\n",
              "      <td>276729</td>\n",
              "      <td>052165615X</td>\n",
              "      <td>3</td>\n",
              "      <td>Help!: Level 1</td>\n",
              "      <td>Philip Prowse</td>\n",
              "      <td>1999.0</td>\n",
              "      <td>Cambridge University Press</td>\n",
              "      <td>http://images.amazon.com/images/P/052165615X.0...</td>\n",
              "      <td>http://images.amazon.com/images/P/052165615X.0...</td>\n",
              "      <td>http://images.amazon.com/images/P/052165615X.0...</td>\n",
              "      <td>052165615X</td>\n",
              "    </tr>\n",
              "    <tr>\n",
              "      <th>4</th>\n",
              "      <td>276729</td>\n",
              "      <td>0521795028</td>\n",
              "      <td>6</td>\n",
              "      <td>The Amsterdam Connection : Level 4 (Cambridge ...</td>\n",
              "      <td>Sue Leather</td>\n",
              "      <td>2001.0</td>\n",
              "      <td>Cambridge University Press</td>\n",
              "      <td>http://images.amazon.com/images/P/0521795028.0...</td>\n",
              "      <td>http://images.amazon.com/images/P/0521795028.0...</td>\n",
              "      <td>http://images.amazon.com/images/P/0521795028.0...</td>\n",
              "      <td>0521795028</td>\n",
              "    </tr>\n",
              "    <tr>\n",
              "      <th>8</th>\n",
              "      <td>276744</td>\n",
              "      <td>038550120X</td>\n",
              "      <td>7</td>\n",
              "      <td>A Painted House</td>\n",
              "      <td>JOHN GRISHAM</td>\n",
              "      <td>2001.0</td>\n",
              "      <td>Doubleday</td>\n",
              "      <td>http://images.amazon.com/images/P/038550120X.0...</td>\n",
              "      <td>http://images.amazon.com/images/P/038550120X.0...</td>\n",
              "      <td>http://images.amazon.com/images/P/038550120X.0...</td>\n",
              "      <td>038550120X</td>\n",
              "    </tr>\n",
              "    <tr>\n",
              "      <th>16</th>\n",
              "      <td>276747</td>\n",
              "      <td>0060517794</td>\n",
              "      <td>9</td>\n",
              "      <td>Little Altars Everywhere</td>\n",
              "      <td>Rebecca Wells</td>\n",
              "      <td>2003.0</td>\n",
              "      <td>HarperTorch</td>\n",
              "      <td>http://images.amazon.com/images/P/0060517794.0...</td>\n",
              "      <td>http://images.amazon.com/images/P/0060517794.0...</td>\n",
              "      <td>http://images.amazon.com/images/P/0060517794.0...</td>\n",
              "      <td>0060517794</td>\n",
              "    </tr>\n",
              "  </tbody>\n",
              "</table>\n",
              "</div>"
            ],
            "text/plain": [
              "    USERID  ... UNIQUE_ITEMIDS\n",
              "1   276726  ...     0155061224\n",
              "3   276729  ...     052165615X\n",
              "4   276729  ...     0521795028\n",
              "8   276744  ...     038550120X\n",
              "16  276747  ...     0060517794\n",
              "\n",
              "[5 rows x 11 columns]"
            ]
          },
          "metadata": {
            "tags": []
          },
          "execution_count": 75
        }
      ]
    },
    {
      "cell_type": "markdown",
      "metadata": {
        "id": "S7ifEoYGoGUn"
      },
      "source": [
        "The table now includes our ```UNIQUE_ITEMIDS``` field.\n",
        "\n",
        "Let's check to see if the 'Jane Eyre' entries have been assigned the ISBN '1590071212', which was the first val in the dictionary for this title."
      ]
    },
    {
      "cell_type": "code",
      "metadata": {
        "id": "PNyn8kALoGUn",
        "colab": {
          "base_uri": "https://localhost:8080/",
          "height": 360
        },
        "outputId": "b51d68a2-b16a-4c27-8590-cb7ce02ba2e7"
      },
      "source": [
        "books_with_ratings[books_with_ratings.TITLE=='Jane Eyre'].head()"
      ],
      "execution_count": 76,
      "outputs": [
        {
          "output_type": "execute_result",
          "data": {
            "text/html": [
              "<div>\n",
              "<style scoped>\n",
              "    .dataframe tbody tr th:only-of-type {\n",
              "        vertical-align: middle;\n",
              "    }\n",
              "\n",
              "    .dataframe tbody tr th {\n",
              "        vertical-align: top;\n",
              "    }\n",
              "\n",
              "    .dataframe thead th {\n",
              "        text-align: right;\n",
              "    }\n",
              "</style>\n",
              "<table border=\"1\" class=\"dataframe\">\n",
              "  <thead>\n",
              "    <tr style=\"text-align: right;\">\n",
              "      <th></th>\n",
              "      <th>USERID</th>\n",
              "      <th>ITEMID</th>\n",
              "      <th>RATING</th>\n",
              "      <th>TITLE</th>\n",
              "      <th>AUTHOR</th>\n",
              "      <th>YEAR</th>\n",
              "      <th>PUBLISHER</th>\n",
              "      <th>URLSMALL</th>\n",
              "      <th>URLMEDIUM</th>\n",
              "      <th>URLLARGE</th>\n",
              "      <th>UNIQUE_ITEMIDS</th>\n",
              "    </tr>\n",
              "  </thead>\n",
              "  <tbody>\n",
              "    <tr>\n",
              "      <th>10481</th>\n",
              "      <td>387</td>\n",
              "      <td>1590071212</td>\n",
              "      <td>9</td>\n",
              "      <td>Jane Eyre</td>\n",
              "      <td>Charlotte Bronte</td>\n",
              "      <td>2002.0</td>\n",
              "      <td>New Millenium Audio</td>\n",
              "      <td>http://images.amazon.com/images/P/1590071212.0...</td>\n",
              "      <td>http://images.amazon.com/images/P/1590071212.0...</td>\n",
              "      <td>http://images.amazon.com/images/P/1590071212.0...</td>\n",
              "      <td>1590071212</td>\n",
              "    </tr>\n",
              "    <tr>\n",
              "      <th>16178</th>\n",
              "      <td>2718</td>\n",
              "      <td>0451518845</td>\n",
              "      <td>10</td>\n",
              "      <td>Jane Eyre</td>\n",
              "      <td>Charlotte Bronte</td>\n",
              "      <td>1999.0</td>\n",
              "      <td>New Amer Library Classics</td>\n",
              "      <td>http://images.amazon.com/images/P/0451518845.0...</td>\n",
              "      <td>http://images.amazon.com/images/P/0451518845.0...</td>\n",
              "      <td>http://images.amazon.com/images/P/0451518845.0...</td>\n",
              "      <td>1590071212</td>\n",
              "    </tr>\n",
              "    <tr>\n",
              "      <th>35499</th>\n",
              "      <td>8370</td>\n",
              "      <td>0451523326</td>\n",
              "      <td>8</td>\n",
              "      <td>Jane Eyre</td>\n",
              "      <td>Charlotte Bronte</td>\n",
              "      <td>1988.0</td>\n",
              "      <td>Signet Classics</td>\n",
              "      <td>http://images.amazon.com/images/P/0451523326.0...</td>\n",
              "      <td>http://images.amazon.com/images/P/0451523326.0...</td>\n",
              "      <td>http://images.amazon.com/images/P/0451523326.0...</td>\n",
              "      <td>1590071212</td>\n",
              "    </tr>\n",
              "    <tr>\n",
              "      <th>50842</th>\n",
              "      <td>11676</td>\n",
              "      <td>0451523326</td>\n",
              "      <td>9</td>\n",
              "      <td>Jane Eyre</td>\n",
              "      <td>Charlotte Bronte</td>\n",
              "      <td>1988.0</td>\n",
              "      <td>Signet Classics</td>\n",
              "      <td>http://images.amazon.com/images/P/0451523326.0...</td>\n",
              "      <td>http://images.amazon.com/images/P/0451523326.0...</td>\n",
              "      <td>http://images.amazon.com/images/P/0451523326.0...</td>\n",
              "      <td>1590071212</td>\n",
              "    </tr>\n",
              "    <tr>\n",
              "      <th>58066</th>\n",
              "      <td>11676</td>\n",
              "      <td>843761449X</td>\n",
              "      <td>8</td>\n",
              "      <td>Jane Eyre</td>\n",
              "      <td>Charlotte Bronte</td>\n",
              "      <td>1998.0</td>\n",
              "      <td>Ediciones Catedra S.A.</td>\n",
              "      <td>http://images.amazon.com/images/P/843761449X.0...</td>\n",
              "      <td>http://images.amazon.com/images/P/843761449X.0...</td>\n",
              "      <td>http://images.amazon.com/images/P/843761449X.0...</td>\n",
              "      <td>1590071212</td>\n",
              "    </tr>\n",
              "  </tbody>\n",
              "</table>\n",
              "</div>"
            ],
            "text/plain": [
              "       USERID  ... UNIQUE_ITEMIDS\n",
              "10481     387  ...     1590071212\n",
              "16178    2718  ...     1590071212\n",
              "35499    8370  ...     1590071212\n",
              "50842   11676  ...     1590071212\n",
              "58066   11676  ...     1590071212\n",
              "\n",
              "[5 rows x 11 columns]"
            ]
          },
          "metadata": {
            "tags": []
          },
          "execution_count": 76
        }
      ]
    },
    {
      "cell_type": "markdown",
      "metadata": {
        "id": "Vs5T6u5SoGUn"
      },
      "source": [
        "Great! Seems to have worked well.\n",
        "\n",
        "We won't replace the original ISBN column with the 'UNIQUE_ITEMIDS' column, but just note that the recommendation model should be based on the 'UNIQUE_ITEMIDS' field."
      ]
    },
    {
      "cell_type": "markdown",
      "metadata": {
        "id": "dWACLR_-zwcz"
      },
      "source": [
        "### Remove Small and Large book-cover URL columns"
      ]
    },
    {
      "cell_type": "code",
      "metadata": {
        "id": "IieQMNRKz5u-"
      },
      "source": [
        "books_users_ratings.drop(['URLSMALL', 'URLLARGE'], axis=1, inplace=True)"
      ],
      "execution_count": 79,
      "outputs": []
    },
    {
      "cell_type": "markdown",
      "metadata": {
        "id": "epRywx7goGUn"
      },
      "source": [
        "## Join the 'users' table on the 'USERID' field"
      ]
    },
    {
      "cell_type": "code",
      "metadata": {
        "id": "s8tAP81ioGUn",
        "colab": {
          "base_uri": "https://localhost:8080/"
        },
        "outputId": "2f04807b-cb3e-4eed-d26a-936333e8a198"
      },
      "source": [
        "print(f'Books+Ratings table size: {len(books_with_ratings)}')\n",
        "print(f'Users table size: {len(users)}')\n",
        "books_users_ratings = books_with_ratings.join(users.set_index('USERID'), on='USERID')\n",
        "print(f'New \"books_users_ratings\" table size: {len(books_users_ratings)}')"
      ],
      "execution_count": 77,
      "outputs": [
        {
          "output_type": "stream",
          "text": [
            "Books+Ratings table size: 383810\n",
            "Users table size: 278858\n",
            "New \"books_users_ratings\" table size: 383810\n"
          ],
          "name": "stdout"
        }
      ]
    },
    {
      "cell_type": "markdown",
      "metadata": {
        "id": "Sh9rWgSvoGUo"
      },
      "source": [
        "Inspect the new table."
      ]
    },
    {
      "cell_type": "code",
      "metadata": {
        "colab": {
          "base_uri": "https://localhost:8080/",
          "height": 394
        },
        "id": "KVNXMrgzzqBm",
        "outputId": "1f76a837-ab7e-492e-a9d8-cde10d974d1a"
      },
      "source": [
        "books_users_ratings.head()"
      ],
      "execution_count": 80,
      "outputs": [
        {
          "output_type": "execute_result",
          "data": {
            "text/html": [
              "<div>\n",
              "<style scoped>\n",
              "    .dataframe tbody tr th:only-of-type {\n",
              "        vertical-align: middle;\n",
              "    }\n",
              "\n",
              "    .dataframe tbody tr th {\n",
              "        vertical-align: top;\n",
              "    }\n",
              "\n",
              "    .dataframe thead th {\n",
              "        text-align: right;\n",
              "    }\n",
              "</style>\n",
              "<table border=\"1\" class=\"dataframe\">\n",
              "  <thead>\n",
              "    <tr style=\"text-align: right;\">\n",
              "      <th></th>\n",
              "      <th>USERID</th>\n",
              "      <th>ITEMID</th>\n",
              "      <th>RATING</th>\n",
              "      <th>TITLE</th>\n",
              "      <th>AUTHOR</th>\n",
              "      <th>YEAR</th>\n",
              "      <th>PUBLISHER</th>\n",
              "      <th>URLMEDIUM</th>\n",
              "      <th>UNIQUE_ITEMIDS</th>\n",
              "      <th>AGE</th>\n",
              "      <th>CITY</th>\n",
              "      <th>STATE</th>\n",
              "      <th>COUNTRY</th>\n",
              "    </tr>\n",
              "  </thead>\n",
              "  <tbody>\n",
              "    <tr>\n",
              "      <th>1</th>\n",
              "      <td>276726</td>\n",
              "      <td>0155061224</td>\n",
              "      <td>5</td>\n",
              "      <td>Rites of Passage</td>\n",
              "      <td>Judith Rae</td>\n",
              "      <td>2001.0</td>\n",
              "      <td>Heinle</td>\n",
              "      <td>http://images.amazon.com/images/P/0155061224.0...</td>\n",
              "      <td>0155061224</td>\n",
              "      <td>NaN</td>\n",
              "      <td>seattle</td>\n",
              "      <td>washington</td>\n",
              "      <td>usa</td>\n",
              "    </tr>\n",
              "    <tr>\n",
              "      <th>3</th>\n",
              "      <td>276729</td>\n",
              "      <td>052165615X</td>\n",
              "      <td>3</td>\n",
              "      <td>Help!: Level 1</td>\n",
              "      <td>Philip Prowse</td>\n",
              "      <td>1999.0</td>\n",
              "      <td>Cambridge University Press</td>\n",
              "      <td>http://images.amazon.com/images/P/052165615X.0...</td>\n",
              "      <td>052165615X</td>\n",
              "      <td>16.0</td>\n",
              "      <td>rijeka</td>\n",
              "      <td>n/a</td>\n",
              "      <td>croatia</td>\n",
              "    </tr>\n",
              "    <tr>\n",
              "      <th>4</th>\n",
              "      <td>276729</td>\n",
              "      <td>0521795028</td>\n",
              "      <td>6</td>\n",
              "      <td>The Amsterdam Connection : Level 4 (Cambridge ...</td>\n",
              "      <td>Sue Leather</td>\n",
              "      <td>2001.0</td>\n",
              "      <td>Cambridge University Press</td>\n",
              "      <td>http://images.amazon.com/images/P/0521795028.0...</td>\n",
              "      <td>0521795028</td>\n",
              "      <td>16.0</td>\n",
              "      <td>rijeka</td>\n",
              "      <td>n/a</td>\n",
              "      <td>croatia</td>\n",
              "    </tr>\n",
              "    <tr>\n",
              "      <th>8</th>\n",
              "      <td>276744</td>\n",
              "      <td>038550120X</td>\n",
              "      <td>7</td>\n",
              "      <td>A Painted House</td>\n",
              "      <td>JOHN GRISHAM</td>\n",
              "      <td>2001.0</td>\n",
              "      <td>Doubleday</td>\n",
              "      <td>http://images.amazon.com/images/P/038550120X.0...</td>\n",
              "      <td>038550120X</td>\n",
              "      <td>NaN</td>\n",
              "      <td>torrance</td>\n",
              "      <td>california</td>\n",
              "      <td>usa</td>\n",
              "    </tr>\n",
              "    <tr>\n",
              "      <th>16</th>\n",
              "      <td>276747</td>\n",
              "      <td>0060517794</td>\n",
              "      <td>9</td>\n",
              "      <td>Little Altars Everywhere</td>\n",
              "      <td>Rebecca Wells</td>\n",
              "      <td>2003.0</td>\n",
              "      <td>HarperTorch</td>\n",
              "      <td>http://images.amazon.com/images/P/0060517794.0...</td>\n",
              "      <td>0060517794</td>\n",
              "      <td>25.0</td>\n",
              "      <td>iowa city</td>\n",
              "      <td>iowa</td>\n",
              "      <td>usa</td>\n",
              "    </tr>\n",
              "  </tbody>\n",
              "</table>\n",
              "</div>"
            ],
            "text/plain": [
              "    USERID      ITEMID  RATING  ...       CITY        STATE   COUNTRY\n",
              "1   276726  0155061224       5  ...    seattle   washington       usa\n",
              "3   276729  052165615X       3  ...     rijeka          n/a   croatia\n",
              "4   276729  0521795028       6  ...     rijeka          n/a   croatia\n",
              "8   276744  038550120X       7  ...   torrance   california       usa\n",
              "16  276747  0060517794       9  ...  iowa city         iowa       usa\n",
              "\n",
              "[5 rows x 13 columns]"
            ]
          },
          "metadata": {
            "tags": []
          },
          "execution_count": 80
        }
      ]
    },
    {
      "cell_type": "code",
      "metadata": {
        "id": "dfRTU2x1oGUq",
        "colab": {
          "base_uri": "https://localhost:8080/"
        },
        "outputId": "2e5dcce8-21e6-40fb-9426-b2cc408236d8"
      },
      "source": [
        "books_users_ratings.info()"
      ],
      "execution_count": 81,
      "outputs": [
        {
          "output_type": "stream",
          "text": [
            "<class 'pandas.core.frame.DataFrame'>\n",
            "Int64Index: 383810 entries, 1 to 1149778\n",
            "Data columns (total 13 columns):\n",
            " #   Column          Non-Null Count   Dtype  \n",
            "---  ------          --------------   -----  \n",
            " 0   USERID          383810 non-null  int64  \n",
            " 1   ITEMID          383810 non-null  object \n",
            " 2   RATING          383810 non-null  int64  \n",
            " 3   TITLE           383810 non-null  object \n",
            " 4   AUTHOR          383809 non-null  object \n",
            " 5   YEAR            378026 non-null  float64\n",
            " 6   PUBLISHER       383808 non-null  object \n",
            " 7   URLMEDIUM       383810 non-null  object \n",
            " 8   UNIQUE_ITEMIDS  383810 non-null  object \n",
            " 9   AGE             267996 non-null  float64\n",
            " 10  CITY            383810 non-null  object \n",
            " 11  STATE           383810 non-null  object \n",
            " 12  COUNTRY         373330 non-null  object \n",
            "dtypes: float64(2), int64(2), object(9)\n",
            "memory usage: 41.0+ MB\n"
          ],
          "name": "stdout"
        }
      ]
    },
    {
      "cell_type": "markdown",
      "metadata": {
        "id": "jGgBFquqoGUr"
      },
      "source": [
        "There are a few missing ```age```, ```year_of_publication```, ```publisher```, and ```country``` entries, but the primary fields of ```USERID```, ```UNIQUE_ITEMIDS```, and ```book_rating``` are all full, which is good.\n",
        "\n",
        "In terms of the data types, ```USERID``` and ```book_rating``` are integers, while the ```UNIQUE_ITEMIDS``` are strings (which is expected as the ISBN numbers may also contain letters)."
      ]
    },
    {
      "cell_type": "code",
      "metadata": {
        "id": "ERFxFR5WoGUr",
        "colab": {
          "base_uri": "https://localhost:8080/"
        },
        "outputId": "2ef86aff-c9ea-4e39-a815-a660f8a0aac6"
      },
      "source": [
        "books_users_ratings.shape"
      ],
      "execution_count": 82,
      "outputs": [
        {
          "output_type": "execute_result",
          "data": {
            "text/plain": [
              "(383810, 13)"
            ]
          },
          "metadata": {
            "tags": []
          },
          "execution_count": 82
        }
      ]
    },
    {
      "cell_type": "markdown",
      "metadata": {
        "id": "_nwRSsDioGUr"
      },
      "source": [
        "## Recommender model\n",
        "\n",
        "Collaborative filtering use similarities of the 'user' and 'item' fields, with values of 'rating' predicted based on either user-item, or item-item similarity:\n",
        " - Item-Item CF: \"Users who liked this item also liked...\"\n",
        " - User-Item CF: \"Users who are similar to you also liked...\"\n",
        " \n",
        "In both cases, we need to create a user-item matrix built from the entire dataset. We'll create a matrix for each of the training and testing sets, with the users as the rows, the books as the columns, and the rating as the matrix value. Note that this will be a very sparse matrix, as not every user will have watched every movie etc.\n",
        "\n",
        "We'll first create a new dataframe that contains only the relevant columns (```USERID```, ```UNIQUE_ITEMIDS```, and ```book_rating```)."
      ]
    },
    {
      "cell_type": "code",
      "metadata": {
        "id": "YmrbxBXkoGUs",
        "colab": {
          "base_uri": "https://localhost:8080/",
          "height": 204
        },
        "outputId": "a3137809-4e9d-4988-8325-da5f8b973705"
      },
      "source": [
        "user_item_rating = books_users_ratings[['USERID', 'UNIQUE_ITEMIDS', 'RATING']]\n",
        "user_item_rating.head()"
      ],
      "execution_count": 83,
      "outputs": [
        {
          "output_type": "execute_result",
          "data": {
            "text/html": [
              "<div>\n",
              "<style scoped>\n",
              "    .dataframe tbody tr th:only-of-type {\n",
              "        vertical-align: middle;\n",
              "    }\n",
              "\n",
              "    .dataframe tbody tr th {\n",
              "        vertical-align: top;\n",
              "    }\n",
              "\n",
              "    .dataframe thead th {\n",
              "        text-align: right;\n",
              "    }\n",
              "</style>\n",
              "<table border=\"1\" class=\"dataframe\">\n",
              "  <thead>\n",
              "    <tr style=\"text-align: right;\">\n",
              "      <th></th>\n",
              "      <th>USERID</th>\n",
              "      <th>UNIQUE_ITEMIDS</th>\n",
              "      <th>RATING</th>\n",
              "    </tr>\n",
              "  </thead>\n",
              "  <tbody>\n",
              "    <tr>\n",
              "      <th>1</th>\n",
              "      <td>276726</td>\n",
              "      <td>0155061224</td>\n",
              "      <td>5</td>\n",
              "    </tr>\n",
              "    <tr>\n",
              "      <th>3</th>\n",
              "      <td>276729</td>\n",
              "      <td>052165615X</td>\n",
              "      <td>3</td>\n",
              "    </tr>\n",
              "    <tr>\n",
              "      <th>4</th>\n",
              "      <td>276729</td>\n",
              "      <td>0521795028</td>\n",
              "      <td>6</td>\n",
              "    </tr>\n",
              "    <tr>\n",
              "      <th>8</th>\n",
              "      <td>276744</td>\n",
              "      <td>038550120X</td>\n",
              "      <td>7</td>\n",
              "    </tr>\n",
              "    <tr>\n",
              "      <th>16</th>\n",
              "      <td>276747</td>\n",
              "      <td>0060517794</td>\n",
              "      <td>9</td>\n",
              "    </tr>\n",
              "  </tbody>\n",
              "</table>\n",
              "</div>"
            ],
            "text/plain": [
              "    USERID UNIQUE_ITEMIDS  RATING\n",
              "1   276726     0155061224       5\n",
              "3   276729     052165615X       3\n",
              "4   276729     0521795028       6\n",
              "8   276744     038550120X       7\n",
              "16  276747     0060517794       9"
            ]
          },
          "metadata": {
            "tags": []
          },
          "execution_count": 83
        }
      ]
    },
    {
      "cell_type": "markdown",
      "metadata": {
        "id": "mCOER6kBoGUs"
      },
      "source": [
        "We know what the distribution of ratings should look like (as we plotted it earlier) - let's plot it again on this new dataframe to just quickly check that it looks right."
      ]
    },
    {
      "cell_type": "code",
      "metadata": {
        "id": "f_nFLtvyoGUs",
        "colab": {
          "base_uri": "https://localhost:8080/",
          "height": 338
        },
        "outputId": "3e73302f-d61a-4236-8859-677c049f6dab"
      },
      "source": [
        "rtg = user_item_rating.RATING.value_counts().sort_index()\n",
        "\n",
        "plt.figure(figsize=(10, 5))\n",
        "plt.bar(rtg.index, rtg.values)\n",
        "plt.xlabel('Rating')\n",
        "plt.ylabel('counts')\n",
        "plt.show()"
      ],
      "execution_count": 84,
      "outputs": [
        {
          "output_type": "display_data",
          "data": {
            "image/png": "[encoded data removed]",
            "text/plain": [
              "<Figure size 720x360 with 1 Axes>"
            ]
          },
          "metadata": {
            "tags": [],
            "needs_background": "light"
          }
        }
      ]
    },
    {
      "cell_type": "markdown",
      "metadata": {
        "id": "ndlUjRBuoGUs"
      },
      "source": [
        "Looks perfect! Continue."
      ]
    },
    {
      "cell_type": "markdown",
      "metadata": {
        "id": "WgPhxeeEoGUt"
      },
      "source": [
        "### Using ```sklearn``` to generate training and testing subsets"
      ]
    },
    {
      "cell_type": "code",
      "metadata": {
        "id": "BqFHawMNoGUt"
      },
      "source": [
        "train_data, test_data = model_selection.train_test_split(user_item_rating, test_size=0.20)"
      ],
      "execution_count": 86,
      "outputs": []
    },
    {
      "cell_type": "code",
      "metadata": {
        "id": "45X1w_ZpoGUt",
        "colab": {
          "base_uri": "https://localhost:8080/"
        },
        "outputId": "37a20cc6-d6d1-4581-bec6-ed8596bd7484"
      },
      "source": [
        "print(f'Training set size: {len(train_data)}')\n",
        "print(f'Testing set size: {len(test_data)}')\n",
        "print(f'Test set is {(len(test_data)/(len(train_data)+len(test_data))*100):.0f}% of the full dataset.')"
      ],
      "execution_count": 87,
      "outputs": [
        {
          "output_type": "stream",
          "text": [
            "Training set size: 307048\n",
            "Testing set size: 76762\n",
            "Test set is 20% of the full dataset.\n"
          ],
          "name": "stdout"
        }
      ]
    },
    {
      "cell_type": "markdown",
      "metadata": {
        "id": "1mKeEe9toGUu"
      },
      "source": [
        "### Map the ```USERID``` and ```UNIQUE_ITEMIDS``` fields to sequential integers for matrix processing"
      ]
    },
    {
      "cell_type": "code",
      "metadata": {
        "id": "2uBBs55PoGUu"
      },
      "source": [
        "### TRAINING SET\n",
        "# Get int mapping for USERID\n",
        "u_unique_train = train_data.USERID.unique()  # create a 'set' (i.e. all unique) list of vals\n",
        "train_data_user2idx = {o:i for i, o in enumerate(u_unique_train)}\n",
        "# Get int mapping for UNIQUE_ITEMIDS\n",
        "b_unique_train = train_data.UNIQUE_ITEMIDS.unique()  # create a 'set' (i.e. all unique) list of vals\n",
        "train_data_book2idx = {o:i for i, o in enumerate(b_unique_train)}\n",
        "\n",
        "### TESTING SET\n",
        "# Get int mapping for USERID\n",
        "u_unique_test = test_data.USERID.unique()  # create a 'set' (i.e. all unique) list of vals\n",
        "test_data_user2idx = {o:i for i, o in enumerate(u_unique_test)}\n",
        "# Get int mapping for UNIQUE_ITEMIDS\n",
        "b_unique_test = test_data.UNIQUE_ITEMIDS.unique()  # create a 'set' (i.e. all unique) list of vals\n",
        "test_data_book2idx = {o:i for i, o in enumerate(b_unique_test)}"
      ],
      "execution_count": 88,
      "outputs": []
    },
    {
      "cell_type": "code",
      "metadata": {
        "id": "KTV6nobIoGUv"
      },
      "source": [
        "### TRAINING SET\n",
        "train_data['USER_UNIQUE'] = train_data['USERID'].map(train_data_user2idx)\n",
        "train_data['ITEM_UNIQUE'] = train_data['UNIQUE_ITEMIDS'].map(train_data_book2idx)\n",
        "\n",
        "### TESTING SET\n",
        "test_data['USER_UNIQUE'] = test_data['USERID'].map(test_data_user2idx)\n",
        "test_data['ITEM_UNIQUE'] = test_data['UNIQUE_ITEMIDS'].map(test_data_book2idx)\n",
        "\n",
        "### Convert back to 3-column df\n",
        "train_data = train_data[['USER_UNIQUE', 'ITEM_UNIQUE', 'RATING']]\n",
        "test_data = test_data[['USER_UNIQUE', 'ITEM_UNIQUE', 'RATING']]"
      ],
      "execution_count": 89,
      "outputs": []
    },
    {
      "cell_type": "code",
      "metadata": {
        "id": "Rowne8d9oGUv",
        "colab": {
          "base_uri": "https://localhost:8080/",
          "height": 204
        },
        "outputId": "958183f0-dfda-4d98-f8b7-9e1e800e4516"
      },
      "source": [
        "train_data.tail()"
      ],
      "execution_count": 90,
      "outputs": [
        {
          "output_type": "execute_result",
          "data": {
            "text/html": [
              "<div>\n",
              "<style scoped>\n",
              "    .dataframe tbody tr th:only-of-type {\n",
              "        vertical-align: middle;\n",
              "    }\n",
              "\n",
              "    .dataframe tbody tr th {\n",
              "        vertical-align: top;\n",
              "    }\n",
              "\n",
              "    .dataframe thead th {\n",
              "        text-align: right;\n",
              "    }\n",
              "</style>\n",
              "<table border=\"1\" class=\"dataframe\">\n",
              "  <thead>\n",
              "    <tr style=\"text-align: right;\">\n",
              "      <th></th>\n",
              "      <th>USER_UNIQUE</th>\n",
              "      <th>ITEM_UNIQUE</th>\n",
              "      <th>RATING</th>\n",
              "    </tr>\n",
              "  </thead>\n",
              "  <tbody>\n",
              "    <tr>\n",
              "      <th>436369</th>\n",
              "      <td>3013</td>\n",
              "      <td>41654</td>\n",
              "      <td>10</td>\n",
              "    </tr>\n",
              "    <tr>\n",
              "      <th>1022064</th>\n",
              "      <td>59278</td>\n",
              "      <td>116980</td>\n",
              "      <td>8</td>\n",
              "    </tr>\n",
              "    <tr>\n",
              "      <th>524738</th>\n",
              "      <td>6887</td>\n",
              "      <td>21241</td>\n",
              "      <td>5</td>\n",
              "    </tr>\n",
              "    <tr>\n",
              "      <th>340428</th>\n",
              "      <td>2495</td>\n",
              "      <td>15166</td>\n",
              "      <td>8</td>\n",
              "    </tr>\n",
              "    <tr>\n",
              "      <th>443166</th>\n",
              "      <td>11135</td>\n",
              "      <td>10688</td>\n",
              "      <td>10</td>\n",
              "    </tr>\n",
              "  </tbody>\n",
              "</table>\n",
              "</div>"
            ],
            "text/plain": [
              "         USER_UNIQUE  ITEM_UNIQUE  RATING\n",
              "436369          3013        41654      10\n",
              "1022064        59278       116980       8\n",
              "524738          6887        21241       5\n",
              "340428          2495        15166       8\n",
              "443166         11135        10688      10"
            ]
          },
          "metadata": {
            "tags": []
          },
          "execution_count": 90
        }
      ]
    },
    {
      "cell_type": "code",
      "metadata": {
        "id": "dKLH4N1roGUw",
        "colab": {
          "base_uri": "https://localhost:8080/"
        },
        "outputId": "069046c3-e346-4fac-c8d9-3f72209d1f46"
      },
      "source": [
        "train_data.dtypes"
      ],
      "execution_count": 91,
      "outputs": [
        {
          "output_type": "execute_result",
          "data": {
            "text/plain": [
              "USER_UNIQUE    int64\n",
              "ITEM_UNIQUE    int64\n",
              "RATING         int64\n",
              "dtype: object"
            ]
          },
          "metadata": {
            "tags": []
          },
          "execution_count": 91
        }
      ]
    },
    {
      "cell_type": "markdown",
      "metadata": {
        "id": "QnrjZIy3oGUx"
      },
      "source": [
        "This dataset is now ready to be processed via a collaborative filtering approach!\n",
        "\n",
        "**Note:** When we need to identify the user or book from the model we'll need to refer back to the ```train_data_user2idx``` and ```train_data_book2idx``` dictionaries to locate the ```USERID``` and ```UNIQUE_ITEMIDS```, respectively."
      ]
    },
    {
      "cell_type": "code",
      "metadata": {
        "id": "QoGNxJtmoGUy"
      },
      "source": [
        "### TRAINING SET\n",
        "# Create user-item matrices\n",
        "n_users = train_data['USER_UNIQUE'].nunique()\n",
        "n_books = train_data['ITEM_UNIQUE'].nunique()\n",
        "\n",
        "# First, create an empty matrix of size USERS x BOOKS (this speeds up the later steps)\n",
        "train_matrix = np.zeros((n_users, n_books))\n",
        "\n",
        "# Then, add the appropriate vals to the matrix by extracting them from the df with itertuples\n",
        "for entry in train_data.itertuples(): # entry[1] is the user-id, entry[2] is the book-isbn\n",
        "    train_matrix[entry[1]-1, entry[2]-1] = entry[3] # -1 is to counter 0-based indexing"
      ],
      "execution_count": null,
      "outputs": []
    },
    {
      "cell_type": "code",
      "metadata": {
        "id": "d8rveQiloGUy",
        "outputId": "242ac063-3b18-40e2-8158-91ba8beeba72"
      },
      "source": [
        "train_matrix.shape"
      ],
      "execution_count": null,
      "outputs": [
        {
          "output_type": "execute_result",
          "data": {
            "text/plain": [
              "(59851, 117107)"
            ]
          },
          "metadata": {
            "tags": []
          },
          "execution_count": 170
        }
      ]
    },
    {
      "cell_type": "markdown",
      "metadata": {
        "id": "D02jgTG0oGUy"
      },
      "source": [
        "Now do the same for the test set."
      ]
    },
    {
      "cell_type": "code",
      "metadata": {
        "id": "92YKvmBqoGUz"
      },
      "source": [
        "### TESTING SET\n",
        "# Create user-item matrices\n",
        "n_users = test_data['u_unique'].nunique()\n",
        "n_books = test_data['b_unique'].nunique()\n",
        "\n",
        "# First, create an empty matrix of size USERS x BOOKS (this speeds up the later steps)\n",
        "test_matrix = np.zeros((n_users, n_books))\n",
        "\n",
        "# Then, add the appropriate vals to the matrix by extracting them from the df with itertuples\n",
        "for entry in test_data.itertuples(): # entry[1] is the user-id, entry[2] is the book-isbn\n",
        "    test_matrix[entry[1]-1, entry[2]-1] = entry[3] # -1 is to counter 0-based indexing"
      ],
      "execution_count": null,
      "outputs": []
    },
    {
      "cell_type": "code",
      "metadata": {
        "id": "1B0AGzKZoGUz",
        "outputId": "c1ab63df-a5a5-4948-ce92-d1818ecf03b5"
      },
      "source": [
        "test_matrix.shape"
      ],
      "execution_count": null,
      "outputs": [
        {
          "output_type": "execute_result",
          "data": {
            "text/plain": [
              "(26007, 43403)"
            ]
          },
          "metadata": {
            "tags": []
          },
          "execution_count": 172
        }
      ]
    },
    {
      "cell_type": "markdown",
      "metadata": {
        "id": "k_jqjCLqoGUz"
      },
      "source": [
        "Now the matrix is in the correct format, with the user and book entries encoded from the mapping dict created above!"
      ]
    },
    {
      "cell_type": "markdown",
      "metadata": {
        "id": "Hg2f-URCoGUz"
      },
      "source": [
        "### Calculating cosine similarity with the 'pairwise distances' function\n",
        "\n",
        "To determine the similarity between users/items we'll use the 'cosine similarity' which is a common n-dimensional distance metric.\n",
        "\n",
        "**Note:** since all of the rating values are positive (1-10 scale), the cosine distances will all fall between 0 and 1."
      ]
    },
    {
      "cell_type": "code",
      "metadata": {
        "id": "Y2p4DcX9oGU0"
      },
      "source": [
        "# It may take a while to calculate, so I'll perform on a subset initially\n",
        "train_matrix_small = train_matrix[:10000, :10000]\n",
        "test_matrix_small = test_matrix[:10000, :10000]\n",
        "\n",
        "from sklearn.metrics.pairwise import pairwise_distances\n",
        "user_similarity = pairwise_distances(train_matrix_small, metric='cosine')\n",
        "item_similarity = pairwise_distances(train_matrix_small.T, metric='cosine') # .T transposes the matrix (NumPy)"
      ],
      "execution_count": null,
      "outputs": []
    },
    {
      "cell_type": "markdown",
      "metadata": {
        "id": "ChR4tsumoGU0"
      },
      "source": [
        "If we are looking at similarity between users we need to account for the average behaviour of that individual user. For example, one user may give all movies quite high ratings, whereas one might give all ratings between 3 and 7. These users might otherwise have quite similar preferences.\n",
        "\n",
        "To do this, we use the users average rating as a 'weighting' factor.\n",
        "\n",
        "If we are looking at item-based similarity we don't need to add this weighting factor.\n",
        "\n",
        "We can incorporate this into a ```predict()``` function, like so:"
      ]
    },
    {
      "cell_type": "code",
      "metadata": {
        "id": "qMwMzqGEoGU0"
      },
      "source": [
        "def predict(ratings, similarity, type='user'): # default type is 'user'\n",
        "    if type == 'user':\n",
        "        mean_user_rating = ratings.mean(axis=1)\n",
        "        # Use np.newaxis so that mean_user_rating has the same format as ratings\n",
        "        ratings_diff = (ratings - mean_user_rating[:, np.newaxis])\n",
        "        pred = mean_user_rating[:, np.newaxis] + similarity.dot(ratings_diff) / np.array([np.abs(similarity).sum(axis=1)]).T\n",
        "    elif type == 'item':\n",
        "        pred = ratings.dot(similarity) / np.array([np.abs(similarity).sum(axis=1)])\n",
        "    return pred"
      ],
      "execution_count": null,
      "outputs": []
    },
    {
      "cell_type": "markdown",
      "metadata": {
        "id": "c785znVioGU0"
      },
      "source": [
        "Then can make our predictions!"
      ]
    },
    {
      "cell_type": "code",
      "metadata": {
        "id": "tAYN1_DhoGU0"
      },
      "source": [
        "item_prediction = predict(train_matrix_small, item_similarity, type='item')\n",
        "user_prediction = predict(train_matrix_small, user_similarity, type='user')"
      ],
      "execution_count": null,
      "outputs": []
    },
    {
      "cell_type": "markdown",
      "metadata": {
        "id": "YRWMWY3MoGU1"
      },
      "source": [
        "### Evaluation\n",
        "\n",
        "How do we know if this is making good ```rating``` predictions?\n",
        "\n",
        "We'll start by just taking the root mean squared error (RMSE) (from ```sklearn```) of predicted values in the ```test_set``` (i.e. where we know what the answer should be).\n",
        "\n",
        "Since we want to compare only predicted ratings that are in the test set, we can filter out all other predictions that aren't in the test matrix."
      ]
    },
    {
      "cell_type": "code",
      "metadata": {
        "id": "9D3w-2UfoGU1",
        "outputId": "b10a2ccb-d2d6-422c-a7e3-89fae268ab96"
      },
      "source": [
        "from sklearn.metrics import mean_squared_error\n",
        "from math import sqrt\n",
        "\n",
        "def rmse(prediction, test_matrix):\n",
        "    prediction = prediction[test_matrix.nonzero()].flatten()\n",
        "    test_matrix = test_matrix[test_matrix.nonzero()].flatten()\n",
        "    return sqrt(mean_squared_error(prediction, test_matrix))\n",
        "\n",
        "# Call on test set to get error from each approach ('user' or 'item')\n",
        "print(f'User-based CF RMSE: {rmse(user_prediction, test_matrix_small)}')\n",
        "print(f'Item-based CF RMSE: {rmse(item_prediction, test_matrix_small)}')"
      ],
      "execution_count": null,
      "outputs": [
        {
          "output_type": "stream",
          "text": [
            "User-based CF RMSE: 7.929926397008533\n",
            "Item-based CF RMSE: 7.930326958653732\n"
          ],
          "name": "stdout"
        }
      ]
    },
    {
      "cell_type": "markdown",
      "metadata": {
        "id": "9OEPWAdloGU1"
      },
      "source": [
        "For the user-item and the item-item recommendations we get RMSE = 7.85 (MSE > 60) for both. This is pretty bad, but we only trained over a small subset of the data.\n",
        "\n",
        "Although this collaborative filtering setup is relatively simple to write, it doesn't scale very well at all, as it is all stored in memory! (Hence why we only used a subset of the training/testing data).\n",
        "\n",
        "----------------\n",
        "\n",
        "Instead, we should really use a model-based (based on matrix factorization) recommendation algorithm. These are inherently more scalable and can deal with higher sparsity level than memory-based models, and are considered more powerful due to their ability to pick up on \"latent factors\" in the relationships between what sets of items users like. However, they still suffer from the \"cold start\" problem (where a new user has no history).\n",
        "\n",
        "Fortunately, there is a Python library called ```surprise``` that was built specifically for the implementation of model-based recommendation systems! This library comes with many of the leading algorithms in this space already built-in. Let's try use it for our book recommender system."
      ]
    },
    {
      "cell_type": "markdown",
      "metadata": {
        "id": "oHPIpMiioGU2"
      },
      "source": [
        "# Using the ```surprise``` library for building a recommender system\n",
        "Several common model-based algorithms including SVD, KNN, and non-negative matrix factorization are built-in!  \n",
        "See [here](http://surprise.readthedocs.io/en/stable/getting_started.html#basic-usage) for the docs."
      ]
    },
    {
      "cell_type": "code",
      "metadata": {
        "id": "5fVOhGz_oGU2"
      },
      "source": [
        "from surprise import Reader, Dataset"
      ],
      "execution_count": null,
      "outputs": []
    },
    {
      "cell_type": "code",
      "metadata": {
        "id": "3EFO4YtxoGU2",
        "outputId": "1598146b-de61-4c49-e10a-9382da6511f7"
      },
      "source": [
        "user_item_rating.head() # take a look at our data"
      ],
      "execution_count": null,
      "outputs": [
        {
          "output_type": "execute_result",
          "data": {
            "text/html": [
              "<div>\n",
              "<style scoped>\n",
              "    .dataframe tbody tr th:only-of-type {\n",
              "        vertical-align: middle;\n",
              "    }\n",
              "\n",
              "    .dataframe tbody tr th {\n",
              "        vertical-align: top;\n",
              "    }\n",
              "\n",
              "    .dataframe thead th {\n",
              "        text-align: right;\n",
              "    }\n",
              "</style>\n",
              "<table border=\"1\" class=\"dataframe\">\n",
              "  <thead>\n",
              "    <tr style=\"text-align: right;\">\n",
              "      <th></th>\n",
              "      <th>user_id</th>\n",
              "      <th>unique_isbn</th>\n",
              "      <th>book_rating</th>\n",
              "    </tr>\n",
              "  </thead>\n",
              "  <tbody>\n",
              "    <tr>\n",
              "      <th>1</th>\n",
              "      <td>276726</td>\n",
              "      <td>0155061224</td>\n",
              "      <td>5</td>\n",
              "    </tr>\n",
              "    <tr>\n",
              "      <th>3</th>\n",
              "      <td>276729</td>\n",
              "      <td>052165615X</td>\n",
              "      <td>3</td>\n",
              "    </tr>\n",
              "    <tr>\n",
              "      <th>4</th>\n",
              "      <td>276729</td>\n",
              "      <td>0521795028</td>\n",
              "      <td>6</td>\n",
              "    </tr>\n",
              "    <tr>\n",
              "      <th>8</th>\n",
              "      <td>276744</td>\n",
              "      <td>038550120X</td>\n",
              "      <td>7</td>\n",
              "    </tr>\n",
              "    <tr>\n",
              "      <th>16</th>\n",
              "      <td>276747</td>\n",
              "      <td>0060517794</td>\n",
              "      <td>9</td>\n",
              "    </tr>\n",
              "  </tbody>\n",
              "</table>\n",
              "</div>"
            ],
            "text/plain": [
              "    user_id unique_isbn  book_rating\n",
              "1    276726  0155061224            5\n",
              "3    276729  052165615X            3\n",
              "4    276729  0521795028            6\n",
              "8    276744  038550120X            7\n",
              "16   276747  0060517794            9"
            ]
          },
          "metadata": {
            "tags": []
          },
          "execution_count": 178
        }
      ]
    },
    {
      "cell_type": "code",
      "metadata": {
        "id": "Id9lx_-yoGU3"
      },
      "source": [
        "# First need to create a 'Reader' object to set the scale/limit of the ratings field\n",
        "reader = Reader(rating_scale=(1, 10))\n",
        "\n",
        "# Load the data into a 'Dataset' object directly from the pandas df.\n",
        "# Note: The fields must be in the order: user, item, rating\n",
        "data = Dataset.load_from_df(user_item_rating, reader)"
      ],
      "execution_count": null,
      "outputs": []
    },
    {
      "cell_type": "code",
      "metadata": {
        "id": "Xbt8Kj0qoGU3"
      },
      "source": [
        "# Load the models and 'evaluation' method\n",
        "from surprise import SVD, NMF, model_selection, accuracy"
      ],
      "execution_count": null,
      "outputs": []
    },
    {
      "cell_type": "markdown",
      "metadata": {
        "id": "pnJkjUAFoGU3"
      },
      "source": [
        "Where: SVD = Singular Value Decomposition (orthogonal factorization), NMF = Non-negative Matrix Factorization.\n",
        "\n",
        "**Note** that when using the ```surprise``` library we don't need to manually create the mapping of USERID and UNIQUE_ITEMIDS to integers in a custom dict. See [here](http://surprise.readthedocs.io/en/stable/FAQ.html#raw-inner-note) for details. "
      ]
    },
    {
      "cell_type": "markdown",
      "metadata": {
        "id": "L9F7XC8zoGU4"
      },
      "source": [
        "### SVD model"
      ]
    },
    {
      "cell_type": "markdown",
      "metadata": {
        "id": "09a67_HjoGU4"
      },
      "source": [
        "**_Using cross-validation (5 folds)_**"
      ]
    },
    {
      "cell_type": "code",
      "metadata": {
        "id": "hpvvdUQwoGU4",
        "outputId": "5eb7a621-9c8b-4514-ba23-ecf2352f4cbe"
      },
      "source": [
        "# Load SVD algorithm\n",
        "model = SVD()\n",
        "\n",
        "# Train on books dataset\n",
        "%time model_selection.cross_validate(model, data, measures=['RMSE'], cv=5, verbose=True)"
      ],
      "execution_count": null,
      "outputs": [
        {
          "output_type": "stream",
          "text": [
            "Evaluating RMSE of algorithm SVD on 5 split(s).\n",
            "\n",
            "                  Fold 1  Fold 2  Fold 3  Fold 4  Fold 5  Mean    Std     \n",
            "RMSE (testset)    1.6379  1.6342  1.6399  1.6333  1.6383  1.6367  0.0025  \n",
            "Fit time          27.50   29.12   28.19   28.50   27.17   28.09   0.70    \n",
            "Test time         1.26    1.28    1.25    1.07    1.22    1.22    0.07    \n",
            "CPU times: user 2min 32s, sys: 1.44 s, total: 2min 33s\n",
            "Wall time: 2min 34s\n"
          ],
          "name": "stdout"
        },
        {
          "output_type": "execute_result",
          "data": {
            "text/plain": [
              "{'fit_time': (27.502967834472656,\n",
              "  29.117522954940796,\n",
              "  28.18734574317932,\n",
              "  28.497459888458252,\n",
              "  27.168857097625732),\n",
              " 'test_rmse': array([1.63792973, 1.63415582, 1.63987213, 1.63326894, 1.63828638]),\n",
              " 'test_time': (1.2554690837860107,\n",
              "  1.2811057567596436,\n",
              "  1.2533769607543945,\n",
              "  1.0734889507293701,\n",
              "  1.2155327796936035)}"
            ]
          },
          "metadata": {
            "tags": []
          },
          "execution_count": 181
        }
      ]
    },
    {
      "cell_type": "markdown",
      "metadata": {
        "id": "RPkvHMEFoGU4"
      },
      "source": [
        "The SVD model gives an average RMSE of ca. 1.64 after 5-folds, with a fit time of ca. 28 s for each fold."
      ]
    },
    {
      "cell_type": "markdown",
      "metadata": {
        "id": "D40FxOqdoGU5"
      },
      "source": [
        "**_Using test-train split_**"
      ]
    },
    {
      "cell_type": "code",
      "metadata": {
        "id": "TJW0wVY9oGU5",
        "outputId": "a168b637-922b-44f3-c1a8-a0a28ec3f2e2"
      },
      "source": [
        "# set test set to 20%.\n",
        "trainset, testset = model_selection.train_test_split(data, test_size=0.2)\n",
        "\n",
        "# Instantiate the SVD model.\n",
        "model = SVD()\n",
        "\n",
        "# Train the algorithm on the training set, and predict ratings for the test set\n",
        "model.fit(trainset)\n",
        "predictions = model.test(testset)\n",
        "\n",
        "# Then compute RMSE\n",
        "accuracy.rmse(predictions)"
      ],
      "execution_count": null,
      "outputs": [
        {
          "output_type": "stream",
          "text": [
            "RMSE: 1.6355\n"
          ],
          "name": "stdout"
        },
        {
          "output_type": "execute_result",
          "data": {
            "text/plain": [
              "1.635463484151215"
            ]
          },
          "metadata": {
            "tags": []
          },
          "execution_count": 182
        }
      ]
    },
    {
      "cell_type": "markdown",
      "metadata": {
        "id": "OJNdz1qwoGU5"
      },
      "source": [
        "Using a 80% train-test split, the SVD model gave a RMSE of 1.6426.\n",
        "\n",
        "-----------\n",
        "\n",
        "We can see that using the SVD algorithm has already far out-performed the memory-based collaborative filtering approach (RMSE of 1.64 vs 7.92)!"
      ]
    },
    {
      "cell_type": "markdown",
      "metadata": {
        "id": "YV8IIZlAoGU5"
      },
      "source": [
        "### NMF model"
      ]
    },
    {
      "cell_type": "code",
      "metadata": {
        "id": "s2zWKlNeoGU6",
        "outputId": "66a765de-68b2-4b9b-916a-40e2cd9205db"
      },
      "source": [
        "# Load NMF algorithm\n",
        "model = NMF()\n",
        "# Train on books dataset\n",
        "%time model_selection.cross_validate(model, data, measures=['RMSE'], cv=5, verbose=True)"
      ],
      "execution_count": null,
      "outputs": [
        {
          "output_type": "stream",
          "text": [
            "Evaluating RMSE of algorithm NMF on 5 split(s).\n",
            "\n",
            "                  Fold 1  Fold 2  Fold 3  Fold 4  Fold 5  Mean    Std     \n",
            "RMSE (testset)    2.4719  2.4753  2.4991  2.4583  2.4690  2.4747  0.0134  \n",
            "Fit time          48.55   48.36   48.67   48.21   49.12   48.58   0.31    \n",
            "Test time         1.00    1.22    1.24    0.89    1.27    1.12    0.15    \n",
            "CPU times: user 4min 12s, sys: 2.77 s, total: 4min 15s\n",
            "Wall time: 4min 15s\n"
          ],
          "name": "stdout"
        },
        {
          "output_type": "execute_result",
          "data": {
            "text/plain": [
              "{'fit_time': (48.549073934555054,\n",
              "  48.363773822784424,\n",
              "  48.67202186584473,\n",
              "  48.2091269493103,\n",
              "  49.12370300292969),\n",
              " 'test_rmse': array([2.47190526, 2.47525086, 2.49908596, 2.45830639, 2.46903139]),\n",
              " 'test_time': (0.9956762790679932,\n",
              "  1.2233927249908447,\n",
              "  1.2397921085357666,\n",
              "  0.8911020755767822,\n",
              "  1.2676730155944824)}"
            ]
          },
          "metadata": {
            "tags": []
          },
          "execution_count": 183
        }
      ]
    },
    {
      "cell_type": "markdown",
      "metadata": {
        "id": "osXflz-PoGU6"
      },
      "source": [
        "The NMF model gave a mean RMSE of ca. 2.47, with a fit time of ca. 48 s.\n",
        "\n",
        "It seems like the SVD algorithm is the best choice for this dataset."
      ]
    },
    {
      "cell_type": "markdown",
      "metadata": {
        "id": "aBqAGsw2oGU7"
      },
      "source": [
        "## Optimizing the SVD algorithm with parameter tuning\n",
        "Since it seems like the SVD algorithm is our best choice, let's see if we can improve the predictions even further by optimizing some of the algorithm hyperparameters.\n",
        "\n",
        "One way of doing this is to use the handy ```GridSearchCV``` method from the ```surprise``` library. When passed a range of hyperparameter values, ```GridSearchCV``` will automatically search through the parameter-space to find the best-performing set of hyperparameters."
      ]
    },
    {
      "cell_type": "code",
      "metadata": {
        "id": "DFzfw1v4oGU8"
      },
      "source": [
        "# We'll remake the training set, keeping 20% for testing\n",
        "trainset, testset = model_selection.train_test_split(data, test_size=0.2)"
      ],
      "execution_count": null,
      "outputs": []
    },
    {
      "cell_type": "code",
      "metadata": {
        "id": "nlGHPAD_oGU8"
      },
      "source": [
        "### Fine-tune Surprise SVD model useing GridSearchCV\n",
        "from surprise.model_selection import GridSearchCV\n",
        "\n",
        "param_grid = {'n_factors': [80, 100, 120], 'lr_all': [0.001, 0.005, 0.01], 'reg_all': [0.01, 0.02, 0.04]}\n",
        "\n",
        "# Optimize SVD algorithm for both root mean squared error ('rmse') and mean average error ('mae')\n",
        "gs = GridSearchCV(SVD, param_grid, measures=['rmse', 'mae'], cv=3)"
      ],
      "execution_count": null,
      "outputs": []
    },
    {
      "cell_type": "code",
      "metadata": {
        "id": "YVzdFkyeoGU8",
        "outputId": "079ed22e-6101-4fb3-b68a-93fa0a61bd80"
      },
      "source": [
        "# Fit the gridsearch result on the entire dataset\n",
        "%time gs.fit(data)"
      ],
      "execution_count": null,
      "outputs": [
        {
          "output_type": "stream",
          "text": [
            "CPU times: user 34min 9s, sys: 10.8 s, total: 34min 20s\n",
            "Wall time: 34min 29s\n"
          ],
          "name": "stdout"
        }
      ]
    },
    {
      "cell_type": "code",
      "metadata": {
        "id": "bCdg3a4xoGU9",
        "outputId": "18e23b10-82ae-42c9-887c-05682cf6c8e3"
      },
      "source": [
        "# Return the best version of the SVD algorithm\n",
        "model = gs.best_estimator['rmse']\n",
        "\n",
        "print(gs.best_score['rmse'])\n",
        "print(gs.best_params['rmse'])"
      ],
      "execution_count": null,
      "outputs": [
        {
          "output_type": "stream",
          "text": [
            "1.6376613092691847\n",
            "{'n_factors': 80, 'lr_all': 0.005, 'reg_all': 0.04}\n"
          ],
          "name": "stdout"
        }
      ]
    },
    {
      "cell_type": "code",
      "metadata": {
        "id": "Av7-S9PLoGU9",
        "outputId": "5e5ba574-0a86-4f77-8fbe-9b0698ffe614"
      },
      "source": [
        "model_selection.cross_validate(model, data, measures=['rmse', 'mae'], cv=5, verbose=True)"
      ],
      "execution_count": null,
      "outputs": [
        {
          "output_type": "stream",
          "text": [
            "Evaluating RMSE, MAE of algorithm SVD on 5 split(s).\n",
            "\n",
            "                  Fold 1  Fold 2  Fold 3  Fold 4  Fold 5  Mean    Std     \n",
            "RMSE (testset)    1.6326  1.6292  1.6314  1.6323  1.6296  1.6310  0.0014  \n",
            "MAE (testset)     1.2594  1.2612  1.2611  1.2587  1.2563  1.2593  0.0018  \n",
            "Fit time          25.22   24.25   24.24   24.00   24.18   24.38   0.43    \n",
            "Test time         1.08    1.46    1.46    1.05    1.04    1.22    0.20    \n"
          ],
          "name": "stdout"
        },
        {
          "output_type": "execute_result",
          "data": {
            "text/plain": [
              "{'fit_time': (25.217539072036743,\n",
              "  24.249317169189453,\n",
              "  24.235455989837646,\n",
              "  24.002593994140625,\n",
              "  24.184158086776733),\n",
              " 'test_mae': array([1.25944594, 1.26118138, 1.2610566 , 1.25867174, 1.25627505]),\n",
              " 'test_rmse': array([1.63260117, 1.6291625 , 1.63136824, 1.63232568, 1.62957994]),\n",
              " 'test_time': (1.0834269523620605,\n",
              "  1.4560067653656006,\n",
              "  1.464034080505371,\n",
              "  1.0514049530029297,\n",
              "  1.0434091091156006)}"
            ]
          },
          "metadata": {
            "tags": []
          },
          "execution_count": 224
        }
      ]
    },
    {
      "cell_type": "markdown",
      "metadata": {
        "id": "138d3BTqoGU9"
      },
      "source": [
        "The mean RSME using the optimized parameters was 1.6351 over 5 folds, with an average fit time of ca. 24s."
      ]
    },
    {
      "cell_type": "code",
      "metadata": {
        "id": "f61GP2efoGU-",
        "outputId": "271001ed-bfc9-48a4-da99-adc24107f065"
      },
      "source": [
        "### Use the new parameters with the training set\n",
        "model = SVD(n_factors=80, lr_all=0.005, reg_all=0.04)\n",
        "model.fit(trainset) # re-fit on only the training data using the best hyperparameters\n",
        "test_pred = model.test(testset)\n",
        "print(\"SVD : Test Set\")\n",
        "accuracy.rmse(test_pred, verbose=True)"
      ],
      "execution_count": null,
      "outputs": [
        {
          "output_type": "stream",
          "text": [
            "SVD : Test Set\n",
            "RMSE: 1.6287\n"
          ],
          "name": "stdout"
        },
        {
          "output_type": "execute_result",
          "data": {
            "text/plain": [
              "1.6287348933888393"
            ]
          },
          "metadata": {
            "tags": []
          },
          "execution_count": 225
        }
      ]
    },
    {
      "cell_type": "markdown",
      "metadata": {
        "id": "OrzeRWVfoGU-"
      },
      "source": [
        "Using the optimized hyperparameters we see a slight improvement in the resulting RMSE (1.629) compared with the unoptimized SVD algorithm (1.635)1"
      ]
    },
    {
      "cell_type": "markdown",
      "metadata": {
        "id": "-b0iuwt_oGU-"
      },
      "source": [
        "## Testing some of the outputs (ratings and recommendations)\n",
        "Would like to do an intuitive check of some of the recommendations being made.\n",
        "\n",
        "Let's just choose a random user/book pair (represented in the ```suprise``` library as ```uid``` and ```iid```, respectively).\n",
        "\n",
        "**Note:** The ```model``` being used here is the optimized SVD algorithm that has been fit on the training set."
      ]
    },
    {
      "cell_type": "code",
      "metadata": {
        "id": "K0M_ohLWoGU-",
        "outputId": "d3bb1d03-8f34-4214-d6f0-c8c151ba9bd2"
      },
      "source": [
        "# get a prediction for specific users and items.\n",
        "uid = 276744  # the USERID int\n",
        "iid = '038550120X' # the UNIQUE_ITEMIDS string\n",
        "# This pair has an actual rating of 7!\n",
        "\n",
        "pred = model.predict(uid, iid, verbose=True)"
      ],
      "execution_count": null,
      "outputs": [
        {
          "output_type": "stream",
          "text": [
            "user: 276744     item: 038550120X r_ui = None   est = 7.18   {'was_impossible': False}\n"
          ],
          "name": "stdout"
        }
      ]
    },
    {
      "cell_type": "markdown",
      "metadata": {
        "id": "9rAoE5K2oGU_"
      },
      "source": [
        "Can access the attributes of the ```predict``` method to get a nicer output."
      ]
    },
    {
      "cell_type": "code",
      "metadata": {
        "id": "ODmTdaauoGU_",
        "outputId": "e5c3a816-02dc-4072-d34c-dadc05440b31"
      },
      "source": [
        "print(f'The estimated rating for the book with the \"UNIQUE_ITEMIDS\" code {pred.iid} from user #{pred.uid} is {pred.est:.2f}.\\n')\n",
        "actual_rtg = user_item_rating[(user_item_rating.USERID==pred.uid) & (user_item_rating.UNIQUE_ITEMIDS==pred.iid)].RATING.values[0]\n",
        "print(f'The real rating given for this was {actual_rtg:.2f}.')"
      ],
      "execution_count": null,
      "outputs": [
        {
          "output_type": "stream",
          "text": [
            "The estimated rating for the book with the \"unique_isbn\" code 038550120X from user #276744 is 7.18.\n",
            "\n",
            "The real rating given for this was 7.00.\n"
          ],
          "name": "stdout"
        }
      ]
    },
    {
      "cell_type": "code",
      "metadata": {
        "id": "-zv72k-1oGU_",
        "outputId": "32639170-1f4a-42bb-a4d4-980f1f04bf2b"
      },
      "source": [
        "# get a prediction for specific users and items.\n",
        "uid = 95095  # the USERID int\n",
        "iid = '0140079963' # the UNIQUE_ITEMIDS string\n",
        "# This pair has an actual rating of 6.0!\n",
        "\n",
        "pred = model.predict(uid, iid, verbose=True)"
      ],
      "execution_count": null,
      "outputs": [
        {
          "output_type": "stream",
          "text": [
            "user: 95095      item: 0140079963 r_ui = None   est = 6.87   {'was_impossible': False}\n"
          ],
          "name": "stdout"
        }
      ]
    },
    {
      "cell_type": "code",
      "metadata": {
        "id": "ktgz5FCvoGVA",
        "outputId": "b77109c6-6f8e-46bd-e16e-6269b0358416"
      },
      "source": [
        "print(f'The estimated rating for the book with the \"UNIQUE_ITEMIDS\" code {pred.iid} from user #{pred.uid} is {pred.est:.2f}.\\n')\n",
        "actual_rtg = user_item_rating[(user_item_rating.USERID==pred.uid) & (user_item_rating.UNIQUE_ITEMIDS==pred.iid)].RATING.values[0]\n",
        "print(f'The real rating given for this was {actual_rtg:.2f}.')"
      ],
      "execution_count": null,
      "outputs": [
        {
          "output_type": "stream",
          "text": [
            "The estimated rating for the book with the \"unique_isbn\" code 0140079963 from user #95095 is 6.87.\n",
            "\n",
            "The real rating given for this was 6.00.\n"
          ],
          "name": "stdout"
        }
      ]
    },
    {
      "cell_type": "markdown",
      "metadata": {
        "id": "AJ92N_PsoGVA"
      },
      "source": [
        "The following function was adapted from the ```surprise``` docs, and can be used to get the top book recommendations for each user."
      ]
    },
    {
      "cell_type": "code",
      "metadata": {
        "id": "f8MSn3EzoGVA"
      },
      "source": [
        "from collections import defaultdict\n",
        "\n",
        "def get_top_n(predictions, n=10):\n",
        "    '''Return the top-N recommendation for each user from a set of predictions.\n",
        "\n",
        "    Args:\n",
        "        predictions(list of Prediction objects): The list of predictions, as\n",
        "            returned by the test method of an algorithm.\n",
        "        n(int): The number of recommendation to output for each user. Default\n",
        "            is 10.\n",
        "\n",
        "    Returns:\n",
        "    A dict where keys are user (raw) ids and values are lists of tuples:\n",
        "        [(raw item id, rating estimation), ...] of size n.\n",
        "    '''\n",
        "\n",
        "    # First map the predictions to each user.\n",
        "    top_n = defaultdict(list)\n",
        "    for uid, iid, true_r, est, _ in predictions:\n",
        "        top_n[uid].append((iid, est))\n",
        "\n",
        "    # Then sort the predictions for each user and retrieve the k highest ones.\n",
        "    for uid, user_ratings in top_n.items():\n",
        "        user_ratings.sort(key=lambda x: x[1], reverse=True)\n",
        "        top_n[uid] = user_ratings[:n]\n",
        "        \n",
        "    return top_n"
      ],
      "execution_count": null,
      "outputs": []
    },
    {
      "cell_type": "markdown",
      "metadata": {
        "id": "zXWgKl-PoGVA"
      },
      "source": [
        "Let's get the Top 10 recommended books for each USERID in the test set."
      ]
    },
    {
      "cell_type": "code",
      "metadata": {
        "id": "KBRbKh8OoGVB"
      },
      "source": [
        "pred = model.test(testset)\n",
        "top_n = get_top_n(pred)"
      ],
      "execution_count": null,
      "outputs": []
    },
    {
      "cell_type": "code",
      "metadata": {
        "id": "baeVCqdboGVB"
      },
      "source": [
        "def get_reading_list(userid):\n",
        "    \"\"\"\n",
        "    Retrieve full book titles from full 'books_users_ratings' dataframe\n",
        "    \"\"\"\n",
        "    reading_list = defaultdict(list)\n",
        "    top_n = get_top_n(predictions, n=10)\n",
        "    for n in top_n[userid]:\n",
        "        book, rating = n\n",
        "        title = books_users_ratings.loc[books_users_ratings.UNIQUE_ITEMIDS==book].TITLE.unique()[0]\n",
        "        reading_list[title] = rating\n",
        "    return reading_list"
      ],
      "execution_count": null,
      "outputs": []
    },
    {
      "cell_type": "code",
      "metadata": {
        "scrolled": true,
        "id": "JzGUwRqYoGVB",
        "outputId": "5b72668e-73ef-4511-9923-701abcf86e24"
      },
      "source": [
        "# Just take a random look at USERID=60337\n",
        "example_reading_list = get_reading_list(userid=60337)\n",
        "for book, rating in example_reading_list.items():\n",
        "    print(f'{book}: {rating}')"
      ],
      "execution_count": null,
      "outputs": [
        {
          "output_type": "stream",
          "text": [
            "A Natural History of the Senses: 9.124985146110324\n",
            "Grace For The Moment: 9.004232452533614\n",
            "Eva Luna: 8.957717816714606\n",
            "A Slender Thread : Rediscovering Hope at the Heart of Crisis: 8.81756023683983\n",
            "Tell Me the Truth About Love: Ten Poems: 8.729204207356146\n",
            "Papa, My Father: A Celebration of Dads: 8.708985984501158\n",
            "Let the Dead Bury Their Dead (Harvest American Writing Series): 8.646273705729296\n",
            "The Doctor's Book of Home Remedies : Thousands of Tips and Techniques Anyone Can Use to Heal Everyday Health Problems: 8.635645117795315\n",
            "Why We Cant Wait: 8.535174763005822\n",
            "Lump It or Leave It: 8.535174763005822\n"
          ],
          "name": "stdout"
        }
      ]
    },
    {
      "cell_type": "markdown",
      "metadata": {
        "id": "fSlDoIXnoGVC"
      },
      "source": [
        "Have tried out a few different ```userid``` entries (from the ```testset```) to see what the top 10 books that user would like are and they seem pretty well related, indicating that the recommendation engine is performing reasonably well!"
      ]
    },
    {
      "cell_type": "markdown",
      "metadata": {
        "id": "jXopErr-oGVD"
      },
      "source": [
        "# Summary"
      ]
    },
    {
      "cell_type": "markdown",
      "metadata": {
        "id": "VhLmXiMFoGVD"
      },
      "source": [
        "In this notebook a dataset from the 'Book-Crossing' website was used to create a recommendation system. A few different approaches were investigated, including memory-based correlations, and model-based matrix factorization algorithms[2]. Of these, the latter - and particularly the Singular Value Decomposition (SVD) algorithm - gave the best performance as assessed by comparing the predicted book ratings for a given user with the actual rating in a test set that the model was not trained on.\n",
        "\n",
        "The only fields that were used for the model were the \"user ID\", \"book ID\", and \"rating\". There were others available in the dataset, such as \"age\", \"location\", \"publisher\", \"year published\", etc, however for these types of recommendation systems it has often been found that additional data fields do not increase the accuracy of the models significantly[1]. A \"Grid Search Cross Validation\" method was used to optimize some of the hyperparameters for the model, resulting in a slight improvement in model performance from the default values.\n",
        "\n",
        "Finally, we were able to build a recommender that could predict the 10 most likely book titles to be rated highly by a given user.\n",
        "\n",
        "It should be noted that this approach still suffers from the \"cold start problem\"[3] - that is, for users with no ratings or history the model will not make accurate predictions. One way we could tackle this problem may be to initially start with popularity-based recommendations, before building up enough user history to implement the model. Another piece of data that was not utilised in the current investigation was the \"implicit\" ratings - denoted as those with a rating of \"0\" in the dataset. Although more information about these implicit ratings (for example, does it represent a positive or negative interaction), these might be useful for supplementing the \"explicit\" ratings recommender."
      ]
    },
    {
      "cell_type": "markdown",
      "metadata": {
        "id": "OzoDlqU8oGVE"
      },
      "source": [
        "# References"
      ]
    },
    {
      "cell_type": "markdown",
      "metadata": {
        "id": "bqfJ6uezoGVE"
      },
      "source": [
        "1. http://blog.ethanrosenthal.com/2015/11/02/intro-to-collaborative-filtering/\n",
        "2. https://cambridgespark.com/content/tutorials/implementing-your-own-recommender-systems-in-Python/index.html\n",
        "3. https://towardsdatascience.com/building-a-recommendation-system-for-fragrance-5b00de3829da"
      ]
    }
  ]
}