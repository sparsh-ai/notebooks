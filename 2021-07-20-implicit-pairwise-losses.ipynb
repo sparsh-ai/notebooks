{
  "nbformat": 4,
  "nbformat_minor": 0,
  "metadata": {
    "colab": {
      "name": "2021-07-20-implicit-pairwise-losses.ipynb",
      "provenance": [],
      "collapsed_sections": [],
      "authorship_tag": "ABX9TyMPtb4CIkobaEzEx34ZeWiV"
    },
    "kernelspec": {
      "name": "python3",
      "display_name": "Python 3"
    },
    "language_info": {
      "name": "python"
    }
  },
  "cells": [
    {
      "cell_type": "markdown",
      "metadata": {
        "id": "20KcIbLO0fEb"
      },
      "source": [
        "# Implicit Pairwise Loss Functions\n",
        "> Learn about bpr, hinge, and warp losses and their adpative versions. Also learning partial credit adjustment in losses.\n",
        "\n",
        "- toc: true\n",
        "- badges: true\n",
        "- comments: true\n",
        "- categories: [PyTorch, LossFunction, Evaluation, Implicit]\n",
        "- image:"
      ]
    },
    {
      "cell_type": "markdown",
      "metadata": {
        "id": "JtG_zSnSrcGn"
      },
      "source": [
        "In its simplest form, each loss function accepts as input a prediction score for a positive item (an item a user has interacted with), and a prediction score for a negative item (an item a user has not interacted with). While the mathematical details differ between each loss, generally, all implicit losses will punish a model for ranking a negative item higher than a positive item. The severity of this punishment differs across loss functions. Two standard loss functions are Bayesian Personalized Ranking (BPR) loss and Hinge loss.\n",
        "\n",
        "Some losses extend this idea by being “adaptive,” or accepting multiple negative item prediction scores for each positive score. These losses are typically much more punishing than “non-adaptive” losses, since they allow more opportunities for the model to incorrectly rank a negative item higher than a positive one. These losses include Adaptive Bayesian Personalized Ranking loss, Adaptive Hinge loss, and Weighted Approximately Ranked Pairwise (WARP) loss."
      ]
    },
    {
      "cell_type": "code",
      "metadata": {
        "id": "ZY-T1q1Es2Qm"
      },
      "source": [
        "from typing import Any, Dict, Optional, Union\n",
        "import torch"
      ],
      "execution_count": 13,
      "outputs": []
    },
    {
      "cell_type": "markdown",
      "metadata": {
        "id": "T5uG7jeZynGe"
      },
      "source": [
        "### BPR Loss Function"
      ]
    },
    {
      "cell_type": "markdown",
      "metadata": {
        "id": "9-i2m3pJzkDG"
      },
      "source": [
        "![image.png](data:image/png;base64,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)"
      ]
    },
    {
      "cell_type": "code",
      "metadata": {
        "id": "n9D0Tk7JrbIB"
      },
      "source": [
        "def bpr_loss(\n",
        "    positive_scores: torch.tensor,\n",
        "    negative_scores: torch.tensor,\n",
        "    num_items: Optional[Any] = None,\n",
        "    positive_items: Optional[torch.tensor] = None,\n",
        "    negative_items: Optional[torch.tensor] = None,\n",
        "    metadata: Optional[Dict[str, torch.tensor]] = dict(),\n",
        "    metadata_weights: Optional[Dict[str, float]] = dict(),\n",
        ") -> torch.tensor:\n",
        "    \"\"\"\n",
        "    Parameters\n",
        "    ----------\n",
        "    positive_scores: torch.tensor, 1-d\n",
        "        Tensor containing predictions for known positive items of shape ``1 x batch_size``\n",
        "    negative_scores: torch.tensor, 1-d\n",
        "        Tensor containing scores for a single sampled negative item of shape ``1 x batch_size``\n",
        "    num_items: Any\n",
        "        Ignored, included only for compatability with WARP loss\n",
        "    positive_items: torch.tensor, 1-d\n",
        "        Tensor containing ids for known positive items of shape ``1 x batch_size``. This is only\n",
        "        needed if ``metadata`` is provided\n",
        "    negative_items: torch.tensor, 1-d\n",
        "        Tensor containing ids for randomly-sampled negative items of shape ``1 x batch_size``. This\n",
        "        is only needed if ``metadata`` is provided\n",
        "    metadata: dict\n",
        "        Keys should be strings identifying each metadata type that match keys in\n",
        "        ``metadata_weights``. Values should be a ``torch.tensor`` of shape (num_items x 1). Each\n",
        "        tensor should contain categorical metadata information about items (e.g. a number\n",
        "        representing the genre of the item)\n",
        "    metadata_weights: dict\n",
        "        Keys should be strings identifying each metadata type that match keys in ``metadata``.\n",
        "        Values should be the amount of weight to place on a match of that type of metadata, with the\n",
        "        sum of all values ``<= 1``.\n",
        "        e.g. If ``metadata_weights = {'genre': .3, 'director': .2}``, then an item is:\n",
        "\n",
        "        * a 100% match if it's the same item,\n",
        "\n",
        "        * a 50% match if it's a different item with the same genre and same director,\n",
        "\n",
        "        * a 30% match if it's a different item with the same genre and different director,\n",
        "\n",
        "        * a 20% match if it's a different item with a different genre and same director,\n",
        "\n",
        "        * a 0% match if it's a different item with a different genre and different director,\n",
        "          which is equivalent to the loss without any partial credit\n",
        "\n",
        "    Returns\n",
        "    -------\n",
        "    loss: torch.tensor\n",
        "\n",
        "    References\n",
        "    ----------\n",
        "    .. [1] Hildesheim et al. \"BPR: Bayesian Personalized Ranking from Implicit Feedback.\" BPR |\n",
        "        Proceedings of the Twenty-Fifth Conference on Uncertainty in Artificial Intelligence, 1 June\n",
        "        2009, dl.acm.org/doi/10.5555/1795114.1795167.\n",
        "\n",
        "    \"\"\"\n",
        "    preds = positive_scores - negative_scores\n",
        "\n",
        "    if metadata is not None and len(metadata) > 0:\n",
        "        ideal_difference = ideal_difference_from_metadata(\n",
        "            positive_items=positive_items,\n",
        "            negative_items=negative_items,\n",
        "            metadata=metadata,\n",
        "            metadata_weights=metadata_weights,\n",
        "        )\n",
        "    else:\n",
        "        ideal_difference = 1\n",
        "\n",
        "    loss = (ideal_difference - torch.sigmoid(preds))\n",
        "\n",
        "    return (loss.sum() + loss.pow(2).sum()) / len(positive_scores)"
      ],
      "execution_count": 15,
      "outputs": []
    },
    {
      "cell_type": "markdown",
      "metadata": {
        "id": "KVS1ywWQyqIW"
      },
      "source": [
        "### Adaptive BPR Loss Function"
      ]
    },
    {
      "cell_type": "code",
      "metadata": {
        "id": "14VEoiWhsW6R"
      },
      "source": [
        "def adaptive_bpr_loss(\n",
        "    positive_scores: torch.tensor,\n",
        "    many_negative_scores: torch.tensor,\n",
        "    num_items: Optional[Any] = None,\n",
        "    positive_items: Optional[torch.tensor] = None,\n",
        "    negative_items: Optional[torch.tensor] = None,\n",
        "    metadata: Optional[Dict[str, torch.tensor]] = dict(),\n",
        "    metadata_weights: Optional[Dict[str, float]] = dict(),\n",
        ") -> torch.tensor:\n",
        "    \"\"\"\n",
        "    Parameters\n",
        "    ----------\n",
        "    positive_scores: torch.tensor, 1-d\n",
        "        Tensor containing scores for known positive items of shape\n",
        "        ``num_negative_samples x batch_size``\n",
        "    many_negative_scores: torch.tensor, 2-d\n",
        "        Iterable of tensors containing scores for many (n > 1) sampled negative items of shape\n",
        "        ``num_negative_samples x batch_size``. More tensors increase the likelihood of finding\n",
        "        ranking-violating pairs, but risk overfitting\n",
        "    num_items: Any\n",
        "        Ignored, included only for compatability with WARP loss\n",
        "    positive_items: torch.tensor, 1-d\n",
        "        Tensor containing ids for known positive items of shape\n",
        "        ``num_negative_samples x batch_size``. This is only needed if ``metadata`` is provided\n",
        "    negative_items: torch.tensor, 2-d\n",
        "        Tensor containing ids for sampled negative items of shape\n",
        "        ``num_negative_samples x batch_size``. This is only needed if ``metadata`` is provided\n",
        "    metadata: dict\n",
        "        Keys should be strings identifying each metadata type that match keys in\n",
        "        ``metadata_weights``. Values should be a ``torch.tensor`` of shape (num_items x 1). Each\n",
        "        tensor should contain categorical metadata information about items (e.g. a number\n",
        "        representing the genre of the item)\n",
        "    metadata_weights: dict\n",
        "        Keys should be strings identifying each metadata type that match keys in ``metadata``.\n",
        "        Values should be the amount of weight to place on a match of that type of metadata, with the\n",
        "        sum of all values ``<= 1``.\n",
        "        e.g. If ``metadata_weights = {'genre': .3, 'director': .2}``, then an item is:\n",
        "\n",
        "        * a 100% match if it's the same item,\n",
        "\n",
        "        * a 50% match if it's a different item with the same genre and same director,\n",
        "\n",
        "        * a 30% match if it's a different item with the same genre and different director,\n",
        "\n",
        "        * a 20% match if it's a different item with a different genre and same director,\n",
        "\n",
        "        * a 0% match if it's a different item with a different genre and different director,\n",
        "          which is equivalent to the loss without any partial credit\n",
        "\n",
        "    Returns\n",
        "    -------\n",
        "    loss: torch.tensor\n",
        "\n",
        "    \"\"\"\n",
        "    highest_negative_scores, highest_negative_inds = torch.max(many_negative_scores, 0)\n",
        "\n",
        "    if negative_items is not None and positive_items is not None:\n",
        "        negative_items = (\n",
        "            negative_items[highest_negative_inds, torch.arange(len(positive_items))].squeeze()\n",
        "        )\n",
        "\n",
        "    return bpr_loss(\n",
        "        positive_scores,\n",
        "        highest_negative_scores.squeeze(),\n",
        "        positive_items=positive_items,\n",
        "        negative_items=negative_items,\n",
        "        metadata=metadata,\n",
        "        metadata_weights=metadata_weights,\n",
        "    )"
      ],
      "execution_count": 16,
      "outputs": []
    },
    {
      "cell_type": "markdown",
      "metadata": {
        "id": "0D1NUOf_ytaX"
      },
      "source": [
        "### Hinge Loss Function"
      ]
    },
    {
      "cell_type": "markdown",
      "metadata": {
        "id": "nfv7sroY0UCk"
      },
      "source": [
        "![image.png](data:image/png;base64,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)"
      ]
    },
    {
      "cell_type": "code",
      "metadata": {
        "id": "Cqb02xoevdYR"
      },
      "source": [
        "def hinge_loss(\n",
        "    positive_scores: torch.tensor,\n",
        "    negative_scores: torch.tensor,\n",
        "    num_items: Optional[Any] = None,\n",
        "    positive_items: Optional[torch.tensor] = None,\n",
        "    negative_items: Optional[torch.tensor] = None,\n",
        "    metadata: Optional[Dict[str, torch.tensor]] = dict(),\n",
        "    metadata_weights: Optional[Dict[str, float]] = dict(),\n",
        ") -> torch.tensor:\n",
        "    \"\"\"\n",
        "    Parameters\n",
        "    ----------\n",
        "    positive_scores: torch.tensor, 1-d\n",
        "        Tensor containing scores for known positive items\n",
        "    negative_scores: torch.tensor, 1-d\n",
        "        Tensor containing scores for a single sampled negative item\n",
        "    num_items: Any\n",
        "        Ignored, included only for compatability with WARP loss\n",
        "    positive_items: torch.tensor, 1-d\n",
        "        Tensor containing ids for known positive items of shape ``1 x batch_size``. This is only\n",
        "        needed if ``metadata`` is provided\n",
        "    negative_items: torch.tensor, 1-d\n",
        "        Tensor containing ids for randomly-sampled negative items of shape ``1 x batch_size``. This\n",
        "        is only needed if ``metadata`` is provided\n",
        "    metadata: dict\n",
        "        Keys should be strings identifying each metadata type that match keys in\n",
        "        ``metadata_weights``. Values should be a ``torch.tensor`` of shape (num_items x 1). Each\n",
        "        tensor should contain categorical metadata information about items (e.g. a number\n",
        "        representing the genre of the item)\n",
        "    metadata_weights: dict\n",
        "        Keys should be strings identifying each metadata type that match keys in ``metadata``.\n",
        "        Values should be the amount of weight to place on a match of that type of metadata, with the\n",
        "        sum of all values ``<= 1``.\n",
        "        e.g. If ``metadata_weights = {'genre': .3, 'director': .2}``, then an item is:\n",
        "        * a 100% match if it's the same item,\n",
        "        * a 50% match if it's a different item with the same genre and same director,\n",
        "        * a 30% match if it's a different item with the same genre and different director,\n",
        "        * a 20% match if it's a different item with a different genre and same director,\n",
        "        * a 0% match if it's a different item with a different genre and different director,\n",
        "          which is equivalent to the loss without any partial credit\n",
        "    Returns\n",
        "    -------\n",
        "    loss: torch.tensor\n",
        "    References\n",
        "    ----------\n",
        "    .. [2] \"Hinge Loss.\" Wikipedia, Wikimedia Foundation, 5 Mar. 2021, en.wikipedia.org/wiki/\n",
        "        Hinge_loss.\n",
        "    \"\"\"\n",
        "    score_difference = (positive_scores - negative_scores)\n",
        "\n",
        "    if metadata is not None and len(metadata) > 0:\n",
        "        ideal_difference = ideal_difference_from_metadata(\n",
        "            positive_items=positive_items,\n",
        "            negative_items=negative_items,\n",
        "            metadata=metadata,\n",
        "            metadata_weights=metadata_weights,\n",
        "        )\n",
        "    else:\n",
        "        ideal_difference = 1\n",
        "\n",
        "    loss = torch.clamp((ideal_difference - score_difference), min=0)\n",
        "\n",
        "    return (loss.sum() + loss.pow(2).sum()) / len(positive_scores)"
      ],
      "execution_count": 17,
      "outputs": []
    },
    {
      "cell_type": "markdown",
      "metadata": {
        "id": "ALMollRkyvwQ"
      },
      "source": [
        "### Adaptive Hinge Loss Function"
      ]
    },
    {
      "cell_type": "code",
      "metadata": {
        "id": "vdltJWmCvCNm"
      },
      "source": [
        "def adaptive_hinge_loss(\n",
        "    positive_scores: torch.tensor,\n",
        "    many_negative_scores: torch.tensor,\n",
        "    num_items: Optional[Any] = None,\n",
        "    positive_items: Optional[torch.tensor] = None,\n",
        "    negative_items: Optional[torch.tensor] = None,\n",
        "    metadata: Optional[Dict[str, torch.tensor]] = dict(),\n",
        "    metadata_weights: Optional[Dict[str, float]] = dict(),\n",
        ") -> torch.tensor:\n",
        "    \"\"\"\n",
        "    Parameters\n",
        "    ----------\n",
        "    positive_scores: torch.tensor, 1-d\n",
        "        Tensor containing scores for known positive items of shape\n",
        "        ``num_negative_samples x batch_size``\n",
        "    many_negative_scores: torch.tensor, 2-d\n",
        "        Iterable of tensors containing scores for many (n > 1) sampled negative items of shape\n",
        "        ``num_negative_samples x batch_size``. More tensors increase the likelihood of finding\n",
        "        ranking-violating pairs, but risk overfitting\n",
        "    num_items: Any\n",
        "        Ignored, included only for compatability with WARP loss\n",
        "    positive_items: torch.tensor, 1-d\n",
        "        Tensor containing ids for known positive items of shape\n",
        "        ``num_negative_samples x batch_size``. This is only needed if ``metadata`` is provided\n",
        "    negative_items: torch.tensor, 2-d\n",
        "        Tensor containing ids for sampled negative items of shape\n",
        "        ``num_negative_samples x batch_size``. This is only needed if ``metadata`` is provided\n",
        "    metadata: dict\n",
        "        Keys should be strings identifying each metadata type that match keys in\n",
        "        ``metadata_weights``. Values should be a ``torch.tensor`` of shape (num_items x 1). Each\n",
        "        tensor should contain categorical metadata information about items (e.g. a number\n",
        "        representing the genre of the item)\n",
        "    metadata_weights: dict\n",
        "        Keys should be strings identifying each metadata type that match keys in ``metadata``.\n",
        "        Values should be the amount of weight to place on a match of that type of metadata, with the\n",
        "        sum of all values ``<= 1``.\n",
        "        e.g. If ``metadata_weights = {'genre': .3, 'director': .2}``, then an item is:\n",
        "        * a 100% match if it's the same item,\n",
        "        * a 50% match if it's a different item with the same genre and same director,\n",
        "        * a 30% match if it's a different item with the same genre and different director,\n",
        "        * a 20% match if it's a different item with a different genre and same director,\n",
        "        * a 0% match if it's a different item with a different genre and different director,\n",
        "          which is equivalent to the loss without any partial credit\n",
        "    Returns\n",
        "    -------\n",
        "    loss: torch.tensor\n",
        "    References\n",
        "    ----------\n",
        "    .. [3] Kula, Maciej. \"Loss Functions.\" Loss Functions - Spotlight Documentation,\n",
        "        maciejkula.github.io/spotlight/losses.html.\n",
        "    \"\"\"\n",
        "    highest_negative_scores, highest_negative_inds = torch.max(many_negative_scores, 0)\n",
        "\n",
        "    if negative_items is not None and positive_items is not None:\n",
        "        negative_items = (\n",
        "            negative_items[highest_negative_inds, torch.arange(len(positive_items))].squeeze()\n",
        "        )\n",
        "\n",
        "    return hinge_loss(\n",
        "        positive_scores,\n",
        "        highest_negative_scores.squeeze(),\n",
        "        positive_items=positive_items,\n",
        "        negative_items=negative_items,\n",
        "        metadata=metadata,\n",
        "        metadata_weights=metadata_weights,\n",
        "    )"
      ],
      "execution_count": 18,
      "outputs": []
    },
    {
      "cell_type": "code",
      "metadata": {
        "id": "FNEjz-zYvuYa"
      },
      "source": [
        "def _find_first_loss_violation(losses: torch.tensor,\n",
        "                               device: Union[str, torch.device, torch.cuda.device]) -> torch.tensor:\n",
        "    \"\"\"\n",
        "    Find the index of the first violation where ``1 - positive_score + negative_score`` is greater\n",
        "    than 0.\n",
        "    \"\"\"\n",
        "    # set all negative losses to 0 and all positive losses to 1\n",
        "    losses[losses < 0] = 0\n",
        "    losses[losses > 0] = 1\n",
        "\n",
        "    # after this, maximum value will be the first non-zero (bad) loss\n",
        "    reverse_indices = torch.arange(losses.shape[1], 0, -1).to(device)\n",
        "    min_index_of_good_loss = losses * reverse_indices\n",
        "\n",
        "    # report the first loss that is positive here (not 0-based indexed)\n",
        "    number_of_tries = torch.argmax(min_index_of_good_loss, 1, keepdim=True).flatten()\n",
        "\n",
        "    return number_of_tries"
      ],
      "execution_count": 19,
      "outputs": []
    },
    {
      "cell_type": "markdown",
      "metadata": {
        "id": "c8HIf7Auy0m1"
      },
      "source": [
        "### WARP Loss Function"
      ]
    },
    {
      "cell_type": "code",
      "metadata": {
        "id": "_rR-s7QKvfx7"
      },
      "source": [
        "def warp_loss(\n",
        "    positive_scores: torch.tensor,\n",
        "    many_negative_scores: torch.tensor,\n",
        "    num_items: int,\n",
        "    positive_items: Optional[torch.tensor] = None,\n",
        "    negative_items: Optional[torch.tensor] = None,\n",
        "    metadata: Optional[Dict[str, torch.tensor]] = dict(),\n",
        "    metadata_weights: Optional[Dict[str, float]] = dict(),\n",
        ") -> torch.tensor:\n",
        "    \"\"\"\n",
        "    Parameters\n",
        "    ----------\n",
        "    positive_scores: torch.tensor, 1-d\n",
        "        Tensor containing scores for known positive items of shape\n",
        "        ``num_negative_samples x batch_size``\n",
        "    many_negative_scores: torch.tensor, 2-d\n",
        "        Iterable of tensors containing scores for many (n > 1) sampled negative items of shape\n",
        "        ``num_negative_samples x batch_size``. More tensors increase the likelihood of finding\n",
        "        ranking-violating pairs, but risk overfitting\n",
        "    num_items: int\n",
        "        Total number of items in the dataset\n",
        "    positive_items: torch.tensor, 1-d\n",
        "        Tensor containing ids for known positive items of shape\n",
        "        ``num_negative_samples x batch_size``. This is only needed if ``metadata`` is provided\n",
        "    negative_items: torch.tensor, 2-d\n",
        "        Tensor containing ids for sampled negative items of shape\n",
        "        ``num_negative_samples x batch_size``. This is only needed if ``metadata`` is provided\n",
        "    metadata: dict\n",
        "        Keys should be strings identifying each metadata type that match keys in\n",
        "        ``metadata_weights``. Values should be a ``torch.tensor`` of shape (num_items x 1). Each\n",
        "        tensor should contain categorical metadata information about items (e.g. a number\n",
        "        representing the genre of the item)\n",
        "    metadata_weights: dict\n",
        "        Keys should be strings identifying each metadata type that match keys in ``metadata``.\n",
        "        Values should be the amount of weight to place on a match of that type of metadata, with the\n",
        "        sum of all values ``<= 1``.\n",
        "        e.g. If ``metadata_weights = {'genre': .3, 'director': .2}``, then an item is:\n",
        "        * a 100% match if it's the same item,\n",
        "        * a 50% match if it's a different item with the same genre and same director,\n",
        "        * a 30% match if it's a different item with the same genre and different director,\n",
        "        * a 20% match if it's a different item with a different genre and same director,\n",
        "        * a 0% match if it's a different item with a different genre and different director,\n",
        "          which is equivalent to the loss without any partial credit\n",
        "    Returns\n",
        "    -------\n",
        "    loss: torch.tensor\n",
        "    References\n",
        "    ----------\n",
        "    .. [4] Weston et al. WSABIE: Scaling Up To Large Vocabulary Image Annotation.\n",
        "        www.thespermwhale.com/jaseweston/papers/wsabie-ijcai.pdf.\n",
        "    \"\"\"\n",
        "    if negative_items is not None and positive_items is not None:\n",
        "        positive_items = positive_items.repeat([many_negative_scores.shape[0], 1])\n",
        "\n",
        "    if metadata is not None and len(metadata) > 0:\n",
        "        ideal_difference = ideal_difference_from_metadata(\n",
        "            positive_items=positive_items,\n",
        "            negative_items=negative_items,\n",
        "            metadata=metadata,\n",
        "            metadata_weights=metadata_weights,\n",
        "        ).transpose(1, 0)\n",
        "    else:\n",
        "        ideal_difference = 1\n",
        "\n",
        "    # device to put new tensors on\n",
        "    device = positive_scores.device\n",
        "\n",
        "    # WARP loss requires a different structure for positive and negative samples\n",
        "    positive_scores = positive_scores.view(len(positive_scores), 1)\n",
        "    many_negative_scores = torch.transpose(many_negative_scores, 0, 1)\n",
        "\n",
        "    batch_size, max_trials = many_negative_scores.size(0), many_negative_scores.size(1)\n",
        "\n",
        "    flattened_new_row_indices = torch.arange(0, batch_size, 1).long().to(device) * (max_trials + 1)\n",
        "    tensor_of_ones = torch.ones(batch_size, 1).float().to(device)\n",
        "\n",
        "    # ``initial_loss`` is essentially just hinge loss for now\n",
        "    hinge_loss = ideal_difference - positive_scores + many_negative_scores\n",
        "\n",
        "    # Add column of ones to so we know when we have used all our attempts. This is used for indexing\n",
        "    # and computing ``should_count_loss`` if no real value is above 0.\n",
        "    initial_loss_with_ones = torch.cat([hinge_loss, tensor_of_ones], dim=1)\n",
        "    # this will be modified in ``_find_first_loss_violation``\n",
        "    initial_loss_with_ones_binary = torch.cat([hinge_loss, tensor_of_ones], dim=1)\n",
        "\n",
        "    number_of_tries = _find_first_loss_violation(initial_loss_with_ones_binary, device)\n",
        "\n",
        "    prediction_index_for_flattened_predictions = number_of_tries + flattened_new_row_indices\n",
        "\n",
        "    number_of_tries = (number_of_tries + 1).float()\n",
        "\n",
        "    # IMPORTANT CHANGE: normal WARP weighting has the numerator set to ``num_items - 1``, but we\n",
        "    # have found this does not penalize when the last item in a negative item sequence ranks above a\n",
        "    # positive item score. Adjusting the numerator as below penalizes this correctly. Additionally,\n",
        "    # adding a floor function to the numerator can also have the same negative effect of not\n",
        "    # not counting loss. See the original implementation as a comment below, and our modified,\n",
        "    # harsher calculation implemented below.\n",
        "    # loss_weights = torch.log(torch.floor((num_items - 1) / number_of_tries))\n",
        "    loss_weights = torch.log((num_items / number_of_tries))\n",
        "\n",
        "    # don't count loss if we used max number of attempts looking for a violation and didn't find one\n",
        "    should_we_count_loss = (number_of_tries <= max_trials).float()\n",
        "\n",
        "    loss = (\n",
        "        loss_weights\n",
        "        * (\n",
        "            initial_loss_with_ones.flatten()[prediction_index_for_flattened_predictions]\n",
        "        )\n",
        "        * should_we_count_loss\n",
        "    )\n",
        "\n",
        "    return (loss.sum() + loss.pow(2).sum()) / len(positive_scores)"
      ],
      "execution_count": 20,
      "outputs": []
    },
    {
      "cell_type": "markdown",
      "metadata": {
        "id": "mNfABk1eyfKd"
      },
      "source": [
        "### Partial Credit Function"
      ]
    },
    {
      "cell_type": "markdown",
      "metadata": {
        "id": "NQ2pI4fOub_-"
      },
      "source": [
        "Helper function to calculate the ideal score difference between the positive and negative items. Without considering metadata, the ideal score difference would be 1.0 (since the function looks at a pair of items, one positive item and one negative item). Taking metadata into consideration, the ideal score difference should be between 0 and 1 if there is a partial match (not the same item, but matching metadata - e.g. the same film genre).\n",
        "\n",
        "This function calculates that ideal difference when there is metadata available. Metadata passed in to this function is independent of metadata given to the model during training - it can be the same data or a different set. For example, one might use genre embeddings as metadata during training and use genre labels as metadata during loss calculation (since all metadata passed in to this function must be categorical)."
      ]
    },
    {
      "cell_type": "code",
      "metadata": {
        "id": "v-5kdfL9tKPB"
      },
      "source": [
        "def ideal_difference_from_metadata(\n",
        "    positive_items: torch.tensor,\n",
        "    negative_items: torch.tensor,\n",
        "    metadata: Optional[Dict[str, torch.tensor]],\n",
        "    metadata_weights: Optional[Dict[str, float]],\n",
        ") -> torch.tensor:\n",
        "    \"\"\"\n",
        "    Parameters\n",
        "    ----------\n",
        "    positive_items: torch.tensor, 1-d\n",
        "        Tensor containing IDs for known positive items\n",
        "    negative_items: torch.tensor, 1-d\n",
        "        Tensor containing IDs for sampled negative items\n",
        "    metadata: dict\n",
        "        Keys should be strings identifying each metadata type that match keys in\n",
        "        ``metadata_weights``. Values should be a ``torch.tensor`` of shape (num_items x 1). Each\n",
        "        tensor should contain categorical metadata information about items (e.g. a number\n",
        "        representing the genre of the item)\n",
        "    metadata_weights: dict\n",
        "        Keys should be strings identifying each metadata type that match keys in ``metadata``.\n",
        "        Values should be the amount of weight to place on a match of that type of metadata, with the\n",
        "        sum of all values ``<= 1``.\n",
        "        e.g. If ``metadata_weights = {'genre': .3, 'director': .2}``, then an item is:\n",
        "        * a 100% match if it's the same item,\n",
        "        * a 50% match if it's a different item with the same genre and same director,\n",
        "        * a 30% match if it's a different item with the same genre and different director,\n",
        "        * a 20% match if it's a different item with a different genre and same director,\n",
        "        * a 0% match if it's a different item with a different genre and different director,\n",
        "          which is equivalent to the loss without any partial credit\n",
        "    Returns\n",
        "    -------\n",
        "    ideal difference: torch.tensor\n",
        "        Tensor with the same shape as ``positive_items``, with each element between 0 and 1\n",
        "    \"\"\"\n",
        "    weight_sum = sum(metadata_weights.values())\n",
        "    if weight_sum > 1:\n",
        "        raise ValueError(f'sum of metadata weights was {weight_sum}, must be <=1')\n",
        "\n",
        "    match_frac = torch.zeros(positive_items.shape).to(positive_items.device)\n",
        "    for k, array in metadata.items():\n",
        "        array = array.squeeze()\n",
        "        match_frac += (\n",
        "            array[positive_items.long()] == array[negative_items.long()]\n",
        "        ).int().to(positive_items.device)*metadata_weights[k]\n",
        "\n",
        "    return 1.0 - match_frac"
      ],
      "execution_count": null,
      "outputs": []
    },
    {
      "cell_type": "markdown",
      "metadata": {
        "id": "HLV2Pu66v4EW"
      },
      "source": [
        "## Examples"
      ]
    },
    {
      "cell_type": "markdown",
      "metadata": {
        "id": "tmvDGH7EwUhK"
      },
      "source": [
        "### Standard Implicit Loss Functions"
      ]
    },
    {
      "cell_type": "code",
      "metadata": {
        "colab": {
          "base_uri": "https://localhost:8080/"
        },
        "id": "UZUnwFqnu9uV",
        "outputId": "2a21228e-750c-4e9a-e6a9-6d5f3dbef483"
      },
      "source": [
        "# an ideal loss case\n",
        "positive_score = torch.tensor([3.0])\n",
        "negative_score = torch.tensor([1.5])\n",
        "\n",
        "print('BPR Loss:  ', bpr_loss(positive_score, negative_score))\n",
        "print('Hinge Loss:', hinge_loss(positive_score, negative_score))\n",
        "\n",
        "print('\\n-----\\n')\n",
        "\n",
        "# a less-than-ideal loss case\n",
        "positive_score = torch.tensor([1.5])\n",
        "negative_score = torch.tensor([3.0])\n",
        "\n",
        "print('BPR Loss:  ', bpr_loss(positive_score, negative_score))\n",
        "print('Hinge Loss:', hinge_loss(positive_score, negative_score))"
      ],
      "execution_count": 12,
      "outputs": [
        {
          "output_type": "stream",
          "text": [
            "BPR Loss:   tensor(0.2157)\n",
            "Hinge Loss: tensor(0.)\n",
            "\n",
            "-----\n",
            "\n",
            "BPR Loss:   tensor(1.4860)\n",
            "Hinge Loss: tensor(8.7500)\n"
          ],
          "name": "stdout"
        }
      ]
    },
    {
      "cell_type": "markdown",
      "metadata": {
        "id": "LIG57h-ewQhz"
      },
      "source": [
        "### Adaptive Implicit Loss Functions"
      ]
    },
    {
      "cell_type": "code",
      "metadata": {
        "colab": {
          "base_uri": "https://localhost:8080/"
        },
        "id": "5B2WrlS8vAdI",
        "outputId": "ca577eef-0bd1-437a-9496-fc758c269ebc"
      },
      "source": [
        "# an ideal loss case\n",
        "positive_score = torch.tensor([3.0])\n",
        "many_negative_scores = torch.tensor([[1.5], [0.5], [1.0]])\n",
        "\n",
        "print('Adaptive BPR Loss:  ', adaptive_bpr_loss(positive_score, many_negative_scores))\n",
        "print('Adaptive Hinge Loss:', adaptive_hinge_loss(positive_score, many_negative_scores))\n",
        "print('WARP Loss:          ', warp_loss(positive_score, many_negative_scores, num_items=3))\n",
        "\n",
        "print('\\n-----\\n')\n",
        "\n",
        "# a less-than-ideal loss case\n",
        "positive_score = torch.tensor([1.5])\n",
        "many_negative_scores = torch.tensor([[2.0], [3.0], [2.5]])\n",
        "\n",
        "print('Adaptive BPR Loss:  ', adaptive_bpr_loss(positive_score, many_negative_scores))\n",
        "print('Adaptive Hinge Loss:', adaptive_hinge_loss(positive_score, many_negative_scores))\n",
        "print('WARP Loss:          ', warp_loss(positive_score, many_negative_scores, num_items=3))\n",
        "print('WARP Loss:          ', warp_loss(positive_score, many_negative_scores, num_items=30))\n",
        "\n",
        "print('\\n-----\\n')\n",
        "\n",
        "# a case where multiple negative items gives us greater opportunity to correct the model\n",
        "positive_score = torch.tensor([1.5])\n",
        "many_negative_scores = torch.tensor([[1.0], [4.0], [1.49]])\n",
        "\n",
        "print('Adaptive BPR Loss:  ', adaptive_bpr_loss(positive_score, many_negative_scores))\n",
        "print('Adaptive Hinge Loss:', adaptive_hinge_loss(positive_score, many_negative_scores))\n",
        "print('WARP Loss:          ', warp_loss(positive_score, many_negative_scores, num_items=3))\n",
        "print('WARP Loss:          ', warp_loss(positive_score, many_negative_scores, num_items=30))"
      ],
      "execution_count": 21,
      "outputs": [
        {
          "output_type": "stream",
          "text": [
            "Adaptive BPR Loss:   tensor(0.2157)\n",
            "Adaptive Hinge Loss: tensor(0.)\n",
            "WARP Loss:           tensor(0.)\n",
            "\n",
            "-----\n",
            "\n",
            "Adaptive BPR Loss:   tensor(1.4860)\n",
            "Adaptive Hinge Loss: tensor(8.7500)\n",
            "WARP Loss:           tensor(4.3636)\n",
            "WARP Loss:           tensor(31.1301)\n",
            "\n",
            "-----\n",
            "\n",
            "Adaptive BPR Loss:   tensor(1.7782)\n",
            "Adaptive Hinge Loss: tensor(15.7500)\n",
            "WARP Loss:           tensor(0.8510)\n",
            "WARP Loss:           tensor(4.5926)\n"
          ],
          "name": "stdout"
        }
      ]
    },
    {
      "cell_type": "markdown",
      "metadata": {
        "id": "zGJgOWZdwmlb"
      },
      "source": [
        "### Partial Credit Loss Functions\n",
        "\n",
        "If you have item metadata available, you might reason that not all losses should be equal. For example, say you are training a recommendation system on MovieLens data, where users interact with different films, and you are comparing a positive item, Star Wars, with two negative items: Star Trek and Legally Blonde.\n",
        "\n",
        "Normally, the loss for Star Wars compared with Star Trek, and Star Wars compared with Legally Blonde would be equal. But, as humans, we know that Star Trek is closer to Star Wars (both being space western films) than Legally Blonde is (a romantic comedy that does not have space elements), and would want our loss function to account for that 5.\n",
        "\n",
        "For these scenarios, these loss functions support partial credit calculations, meaning we can provide metadata to reduce the potential loss for certain items with matching metadata."
      ]
    },
    {
      "cell_type": "code",
      "metadata": {
        "colab": {
          "base_uri": "https://localhost:8080/"
        },
        "id": "o4Ya8oHdwV88",
        "outputId": "3e1c770a-d5b4-449b-f2fd-a1dd4ec6d50c"
      },
      "source": [
        "# positive item is Star Wars\n",
        "star_wars_score = torch.tensor([1.0])\n",
        "\n",
        "# negative items are Star Trek and Legally Blonde\n",
        "star_trek_score = torch.tensor([3.0])\n",
        "legally_blonde_score = torch.tensor([3.0])\n",
        "\n",
        "print('Star Wars vs Star Trek Loss:      ', end='')\n",
        "print(bpr_loss(positive_scores=star_wars_score, negative_scores=star_trek_score))\n",
        "\n",
        "print('Star Wars vs Legally Blonde Loss: ', end='')\n",
        "print(bpr_loss(positive_scores=star_wars_score, negative_scores=legally_blonde_score))\n",
        "\n",
        "print('\\n-----\\n')\n",
        "\n",
        "# now let's apply a partial credit calculation to the loss\n",
        "metadata_weights = {'genre': 0.25}\n",
        "\n",
        "# categorically encode Sci-Fi as ``0`` and Comedy as ``1`` and\n",
        "# order values by Star Wars, Star Trek, Legally Blonde\n",
        "metadata = {'genre': torch.tensor([0, 0, 1])}\n",
        "\n",
        "print('Star Wars vs Star Trek Partial Credit Loss:      ', end='')\n",
        "print(bpr_loss(positive_scores=star_wars_score,\n",
        "               negative_scores=star_trek_score,\n",
        "               positive_items=torch.tensor([0]),\n",
        "               negative_items=torch.tensor([1]),\n",
        "               metadata=metadata,\n",
        "               metadata_weights=metadata_weights))\n",
        "\n",
        "print('Star Wars vs Legally Blonde Partial Credit Loss: ', end='')\n",
        "print(bpr_loss(positive_scores=star_wars_score,\n",
        "               negative_scores=legally_blonde_score,\n",
        "               positive_items=torch.tensor([0]),\n",
        "               negative_items=torch.tensor([2]),\n",
        "               metadata=metadata,\n",
        "               metadata_weights=metadata_weights))"
      ],
      "execution_count": 22,
      "outputs": [
        {
          "output_type": "stream",
          "text": [
            "Star Wars vs Star Trek Loss:      tensor(1.6566)\n",
            "Star Wars vs Legally Blonde Loss: tensor(1.6566)\n",
            "\n",
            "-----\n",
            "\n",
            "Star Wars vs Star Trek Partial Credit Loss:      tensor(1.0287)\n",
            "Star Wars vs Legally Blonde Partial Credit Loss: tensor(1.6566)\n"
          ],
          "name": "stdout"
        }
      ]
    },
    {
      "cell_type": "markdown",
      "metadata": {
        "id": "StElIcIIw5FY"
      },
      "source": [
        "## References\n",
        "\n",
        "- https://collie.readthedocs.io/en/latest/loss.html\n",
        "- http://www.thespermwhale.com/jaseweston/papers/wsabie-ijcai.pdf\n",
        "- https://github.com/maciejkula/spotlight/blob/master/spotlight/losses.py\n",
        "- https://github.com/EthanRosenthal/torchmf/blob/master/torchmf.py\n",
        "- https://colab.research.google.com/github/ShopRunner/collie/blob/main/tutorials/04_partial_credit_loss.ipynb"
      ]
    }
  ]
}