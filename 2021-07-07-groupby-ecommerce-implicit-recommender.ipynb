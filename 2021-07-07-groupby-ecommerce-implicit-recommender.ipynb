{
  "nbformat": 4,
  "nbformat_minor": 0,
  "metadata": {
    "colab": {
      "name": "2021-07-07-groupby-ecommerce-implicit-recommender.ipynb",
      "provenance": [],
      "collapsed_sections": [
        "eDsL8AB-V8L3",
        "bHVMZ86mCBID"
      ],
      "toc_visible": true,
      "mount_file_id": "1lQ-heJ0bk5_y0qZReAXLqzP4mnzlybFG",
      "authorship_tag": "ABX9TyPWz2o4Ss6qE/0pO4vrxWJj"
    },
    "kernelspec": {
      "name": "python3",
      "display_name": "Python 3"
    },
    "language_info": {
      "name": "python"
    }
  },
  "cells": [
    {
      "cell_type": "markdown",
      "metadata": {
        "id": "ZzWWk2KpZgJo"
      },
      "source": [
        "# GroupBy E-commerce Recommender System with Implicit data\n",
        "> Recommendation system using collaborative filtering for implicit data on e-commerce customer journey. Capstone project for Machine Learning Engineer Bootcamp at FourthBrain. It is an industry sponsored project from GroupBy, an e-commerce start up that aims to create highly converting and relevant site experience to maximize revenue through e-commerce channels. Also benchmarking movielens and cosmetics datasets.\n",
        "\n",
        "- toc: true\n",
        "- badges: true\n",
        "- comments: true\n",
        "- categories: [Cosmetics, Retail, ECommerce, LightFM, Implicit, Flask, FrontEnd, API, Movie, ElasticBeanStalk]\n",
        "- author: \"<a href='https://github.com/tjeng/recommendation'>Janice Tjeng</a>\"\n",
        "- image:"
      ]
    },
    {
      "cell_type": "markdown",
      "metadata": {
        "id": "kFZ1snpBYXyb"
      },
      "source": [
        "## Introduction"
      ]
    },
    {
      "cell_type": "markdown",
      "metadata": {
        "id": "sgl5qWRM2UP-"
      },
      "source": [
        "Industry sponsored project from GroupBy, an e-commerce start up that aims to create highly converting and relevant site experience to maximize revenue through e-commerce channels"
      ]
    },
    {
      "cell_type": "markdown",
      "metadata": {
        "id": "R5JZrRbu2Y0O"
      },
      "source": [
        "Online shopping offers millions of items for users to choose from, but with limited attention span and limited real estate space, it becomes necessary to handle information overload. Recommendation system can solve the problem by ranking and recommending top items based on users' preference. It is also reported that 35% of Amazon’s revenue comes from its recommendation engine."
      ]
    },
    {
      "cell_type": "markdown",
      "metadata": {
        "id": "olMQwU9n5jx9"
      },
      "source": [
        "## Setup"
      ]
    },
    {
      "cell_type": "code",
      "metadata": {
        "id": "6-h1KKJJ5iL0"
      },
      "source": [
        "!pip install lightfm"
      ],
      "execution_count": null,
      "outputs": []
    },
    {
      "cell_type": "code",
      "metadata": {
        "id": "LubpezQS5mk7"
      },
      "source": [
        "import json\n",
        "import pickle\n",
        "import numpy as np\n",
        "import pandas as pd\n",
        "from scipy import sparse\n",
        "from datetime import datetime\n",
        "import matplotlib.pyplot as plt\n",
        "from pandas.io.json import json_normalize\n",
        "from scipy.sparse import csr_matrix, coo_matrix\n",
        "from sklearn.metrics.pairwise import cosine_similarity\n",
        "\n",
        "# lightfm\n",
        "from lightfm import LightFM\n",
        "from lightfm.data import Dataset\n",
        "from lightfm.cross_validation import random_train_test_split\n",
        "from lightfm.evaluation import auc_score, precision_at_k, recall_at_k"
      ],
      "execution_count": 1,
      "outputs": []
    },
    {
      "cell_type": "markdown",
      "metadata": {
        "id": "rdEStuMC2bN-"
      },
      "source": [
        "## Data\n",
        "GroupBy has provided its internal data (raw data not shared) that contains customer product interaction data where there is information on the interaction with an item (search, view, add to cart, or purchase), as well as product brand, and price collected over 1 day.\n",
        "\n",
        "A user-item matrix is created that contains 44,588 users and 17,480 products, with 1M interactions. The interaction is a binary 1 or 0 that indicates whether the user purchases the item or not. This is a form of implicit feedback where user's preference for an item is indirectly inferred from behavior patterns versus explicit feedback where the user gives a rating of the product.\n",
        "\n",
        "The dataset is randomly split based on interactions into train and test sets, 80% and 20% respectively. All users and items are in train and test sets but 20% of the interactions are masked from the training set. There might not be any interaction for a user in the train set and the items recommended is compared to the items purchased in the test set to evaluate model performance."
      ]
    },
    {
      "cell_type": "code",
      "metadata": {
        "id": "LuvhccbyyVph"
      },
      "source": [
        "!mkdir data\n",
        "!cd data && wget https://github.com/sparsh-ai/recommendation/raw/main/recdeployment/recapp/data/interactions.npz\n",
        "!cd data && wget https://github.com/sparsh-ai/recommendation/raw/main/recdeployment/recapp/data/item_dictionary.json\n",
        "!cd data && wget https://github.com/sparsh-ai/recommendation/raw/main/recdeployment/recapp/data/item_mapping.json\n",
        "!cd data && wget https://github.com/sparsh-ai/recommendation/raw/main/recdeployment/recapp/data/user_mapping.json"
      ],
      "execution_count": null,
      "outputs": []
    },
    {
      "cell_type": "markdown",
      "metadata": {
        "id": "wqCwlXIX57Hd"
      },
      "source": [
        "## Data loading"
      ]
    },
    {
      "cell_type": "code",
      "metadata": {
        "id": "af46bd00",
        "outputId": "7890bf56-bdcc-438f-8bde-4acfc52aaeb7"
      },
      "source": [
        "data = [json.loads(line) for line in open('raw_data.json', 'r')]\n",
        "df = pd.json_normalize(data)\n",
        "df.customerVisitorId.nunique()"
      ],
      "execution_count": null,
      "outputs": [
        {
          "output_type": "execute_result",
          "data": {
            "text/plain": [
              "44876"
            ]
          },
          "metadata": {
            "tags": []
          },
          "execution_count": 29
        }
      ]
    },
    {
      "cell_type": "code",
      "metadata": {
        "id": "ce5ff415",
        "outputId": "75e278a7-4e68-452c-91f0-d506bef36369"
      },
      "source": [
        "df.columns"
      ],
      "execution_count": null,
      "outputs": [
        {
          "output_type": "execute_result",
          "data": {
            "text/plain": [
              "Index(['customerId', 'customerArea', 'customerVisitorId', 'customerLoginId',\n",
              "       'customerSessionId', 'sessionStartTime', 'sessionEndTime',\n",
              "       'customerSessionNumber', 'hits', 'totals.timeOnSite', 'totals.events',\n",
              "       'totals.newSession', 'totals.bounce', 'totals.totalSearches',\n",
              "       'totals.totalNavigations', 'totals.totalRefinements',\n",
              "       'totals.totalViewProducts', 'totals.totalViewProductRevenue',\n",
              "       'totals.totalNullSearches', 'totals.uniqueViewProducts',\n",
              "       'trafficSource.gbiFlag', 'trafficSource.deviceCategory',\n",
              "       'trafficSource.device', 'trafficSource.browser', 'trafficSource.os',\n",
              "       'trafficSource.userAgent', 'trafficSource.language',\n",
              "       'trafficSource.page', 'trafficSource.city', 'trafficSource.region',\n",
              "       'trafficSource.country', 'trafficSource.campaign',\n",
              "       'trafficSource.source', 'trafficSource.medium', 'trafficSource.content',\n",
              "       'totals.totalAddToCarts', 'totals.totalAddToCartQty',\n",
              "       'totals.totalAddToCartRevenue', 'totals.uniqueAddToCarts',\n",
              "       'trafficSource.term', 'totals.uniqueSearches', 'totals.queriesSearched',\n",
              "       'totals.uniqueRefinements', 'totals.uniqueNavigations',\n",
              "       'attributedTotals.totalViewProducts',\n",
              "       'attributedTotals.totalViewProductRevenue',\n",
              "       'attributedTotals.uniqueSearches', 'attributedTotals.queriesAttributed',\n",
              "       'attributedTotals.uniqueViewProducts',\n",
              "       'attributedTotals.totalAddToCarts',\n",
              "       'attributedTotals.totalAddToCartQty',\n",
              "       'attributedTotals.totalAddToCartRevenue',\n",
              "       'attributedTotals.uniqueAddToCarts', 'totals.totalOrders',\n",
              "       'totals.totalOrderQty', 'totals.totalOrderRevenue',\n",
              "       'totals.uniqueOrders', 'attributedTotals.totalOrders',\n",
              "       'attributedTotals.totalOrderQty', 'attributedTotals.totalOrderRevenue',\n",
              "       'attributedTotals.uniqueOrders'],\n",
              "      dtype='object')"
            ]
          },
          "metadata": {
            "tags": []
          },
          "execution_count": 304
        }
      ]
    },
    {
      "cell_type": "markdown",
      "metadata": {
        "id": "rZ7xb7nl6iAq"
      },
      "source": [
        "## Preprocessing"
      ]
    },
    {
      "cell_type": "code",
      "metadata": {
        "id": "4e2b7356",
        "outputId": "e572dd8e-3a98-4054-993a-de3cb8185cad"
      },
      "source": [
        "cols = ['customerVisitorId', 'customerSessionId','sessionStartTime', 'sessionEndTime', 'customerSessionNumber']\n",
        "hits = pd.json_normalize(data, record_path=['hits', 'product'], meta=cols)\n",
        "hits[hits.customerVisitorId=='cki8pfl1y000139ebdeezn6pn']"
      ],
      "execution_count": null,
      "outputs": [
        {
          "output_type": "execute_result",
          "data": {
            "text/html": [
              "<div>\n",
              "<style scoped>\n",
              "    .dataframe tbody tr th:only-of-type {\n",
              "        vertical-align: middle;\n",
              "    }\n",
              "\n",
              "    .dataframe tbody tr th {\n",
              "        vertical-align: top;\n",
              "    }\n",
              "\n",
              "    .dataframe thead th {\n",
              "        text-align: right;\n",
              "    }\n",
              "</style>\n",
              "<table border=\"1\" class=\"dataframe\">\n",
              "  <thead>\n",
              "    <tr style=\"text-align: right;\">\n",
              "      <th></th>\n",
              "      <th>sku</th>\n",
              "      <th>ID</th>\n",
              "      <th>name</th>\n",
              "      <th>price</th>\n",
              "      <th>collection</th>\n",
              "      <th>attributedSearches</th>\n",
              "      <th>quantity</th>\n",
              "      <th>listLocation</th>\n",
              "      <th>listPosition</th>\n",
              "      <th>customerVisitorId</th>\n",
              "      <th>customerSessionId</th>\n",
              "      <th>sessionStartTime</th>\n",
              "      <th>sessionEndTime</th>\n",
              "      <th>customerSessionNumber</th>\n",
              "    </tr>\n",
              "  </thead>\n",
              "  <tbody>\n",
              "    <tr>\n",
              "      <th>1474200</th>\n",
              "      <td>SWA051</td>\n",
              "      <td>SWA051</td>\n",
              "      <td>dr. stephen langer's ultimate 16 strain probio...</td>\n",
              "      <td>14.79</td>\n",
              "      <td>Swanson Probiotics</td>\n",
              "      <td>[]</td>\n",
              "      <td>NaN</td>\n",
              "      <td>NaN</td>\n",
              "      <td>NaN</td>\n",
              "      <td>cki8pfl1y000139ebdeezn6pn</td>\n",
              "      <td>cki8pfl1y000139ebdeezn6pn1606894616</td>\n",
              "      <td>2020-12-02 07:36:56.522423 UTC</td>\n",
              "      <td>2020-12-02 07:40:45.201722 UTC</td>\n",
              "      <td>1</td>\n",
              "    </tr>\n",
              "    <tr>\n",
              "      <th>1474201</th>\n",
              "      <td>SWA051</td>\n",
              "      <td>SWA051</td>\n",
              "      <td>dr. stephen langer's ultimate 16 strain probio...</td>\n",
              "      <td>14.79</td>\n",
              "      <td>default</td>\n",
              "      <td>[]</td>\n",
              "      <td>NaN</td>\n",
              "      <td>NaN</td>\n",
              "      <td>NaN</td>\n",
              "      <td>cki8pfl1y000139ebdeezn6pn</td>\n",
              "      <td>cki8pfl1y000139ebdeezn6pn1606894616</td>\n",
              "      <td>2020-12-02 07:36:56.522423 UTC</td>\n",
              "      <td>2020-12-02 07:40:45.201722 UTC</td>\n",
              "      <td>1</td>\n",
              "    </tr>\n",
              "    <tr>\n",
              "      <th>1474202</th>\n",
              "      <td>SWA051</td>\n",
              "      <td>SWA051</td>\n",
              "      <td>dr. stephen langer's ultimate 16 strain probio...</td>\n",
              "      <td>14.79</td>\n",
              "      <td>default</td>\n",
              "      <td>[]</td>\n",
              "      <td>3</td>\n",
              "      <td>NaN</td>\n",
              "      <td>NaN</td>\n",
              "      <td>cki8pfl1y000139ebdeezn6pn</td>\n",
              "      <td>cki8pfl1y000139ebdeezn6pn1606894616</td>\n",
              "      <td>2020-12-02 07:36:56.522423 UTC</td>\n",
              "      <td>2020-12-02 07:40:45.201722 UTC</td>\n",
              "      <td>1</td>\n",
              "    </tr>\n",
              "    <tr>\n",
              "      <th>1474203</th>\n",
              "      <td>SWA051</td>\n",
              "      <td>SWA051</td>\n",
              "      <td>3.2 billion cfu 60 veg drcaps</td>\n",
              "      <td>14.79</td>\n",
              "      <td>Swanson Probiotics</td>\n",
              "      <td>[]</td>\n",
              "      <td>3</td>\n",
              "      <td>NaN</td>\n",
              "      <td>NaN</td>\n",
              "      <td>cki8pfl1y000139ebdeezn6pn</td>\n",
              "      <td>cki8pfl1y000139ebdeezn6pn1606894616</td>\n",
              "      <td>2020-12-02 07:36:56.522423 UTC</td>\n",
              "      <td>2020-12-02 07:40:45.201722 UTC</td>\n",
              "      <td>1</td>\n",
              "    </tr>\n",
              "  </tbody>\n",
              "</table>\n",
              "</div>"
            ],
            "text/plain": [
              "            sku      ID                                               name  \\\n",
              "1474200  SWA051  SWA051  dr. stephen langer's ultimate 16 strain probio...   \n",
              "1474201  SWA051  SWA051  dr. stephen langer's ultimate 16 strain probio...   \n",
              "1474202  SWA051  SWA051  dr. stephen langer's ultimate 16 strain probio...   \n",
              "1474203  SWA051  SWA051                      3.2 billion cfu 60 veg drcaps   \n",
              "\n",
              "         price          collection attributedSearches quantity listLocation  \\\n",
              "1474200  14.79  Swanson Probiotics                 []      NaN          NaN   \n",
              "1474201  14.79             default                 []      NaN          NaN   \n",
              "1474202  14.79             default                 []        3          NaN   \n",
              "1474203  14.79  Swanson Probiotics                 []        3          NaN   \n",
              "\n",
              "        listPosition          customerVisitorId  \\\n",
              "1474200          NaN  cki8pfl1y000139ebdeezn6pn   \n",
              "1474201          NaN  cki8pfl1y000139ebdeezn6pn   \n",
              "1474202          NaN  cki8pfl1y000139ebdeezn6pn   \n",
              "1474203          NaN  cki8pfl1y000139ebdeezn6pn   \n",
              "\n",
              "                           customerSessionId                sessionStartTime  \\\n",
              "1474200  cki8pfl1y000139ebdeezn6pn1606894616  2020-12-02 07:36:56.522423 UTC   \n",
              "1474201  cki8pfl1y000139ebdeezn6pn1606894616  2020-12-02 07:36:56.522423 UTC   \n",
              "1474202  cki8pfl1y000139ebdeezn6pn1606894616  2020-12-02 07:36:56.522423 UTC   \n",
              "1474203  cki8pfl1y000139ebdeezn6pn1606894616  2020-12-02 07:36:56.522423 UTC   \n",
              "\n",
              "                         sessionEndTime customerSessionNumber  \n",
              "1474200  2020-12-02 07:40:45.201722 UTC                     1  \n",
              "1474201  2020-12-02 07:40:45.201722 UTC                     1  \n",
              "1474202  2020-12-02 07:40:45.201722 UTC                     1  \n",
              "1474203  2020-12-02 07:40:45.201722 UTC                     1  "
            ]
          },
          "metadata": {
            "tags": []
          },
          "execution_count": 8
        }
      ]
    },
    {
      "cell_type": "code",
      "metadata": {
        "id": "LP9_xiUH6DCA",
        "outputId": "a612d27d-f18e-4272-9652-ce44fea7c592"
      },
      "source": [
        "hits.collection.value_counts()"
      ],
      "execution_count": null,
      "outputs": [
        {
          "output_type": "execute_result",
          "data": {
            "text/plain": [
              "swansonhealthproduction    1573529\n",
              "default                      36134\n",
              "Swanson Premium              17705\n",
              "Swanson Ultra                11953\n",
              "NOW Foods                     6493\n",
              "                            ...   \n",
              "Atkins                           1\n",
              "Dr. Linus Pauling                1\n",
              "EFX Sports                       1\n",
              "Aaraam                           1\n",
              "Red Ace                          1\n",
              "Name: collection, Length: 905, dtype: int64"
            ]
          },
          "metadata": {
            "tags": []
          },
          "execution_count": 103
        }
      ]
    },
    {
      "cell_type": "code",
      "metadata": {
        "colab": {
          "base_uri": "https://localhost:8080/",
          "height": 576
        },
        "id": "1403d256",
        "outputId": "975e1a51-087b-4102-f6b9-e0686d8eefb9"
      },
      "source": [
        "all_cols = df.columns[df.columns.str.contains('totals')].tolist() + cols\n",
        "df_merged = df[all_cols].merge(hits, how='left', on=cols)\n",
        "df_merged[df_merged.customerVisitorId=='cki8pfl1y000139ebdeezn6pn'][['ID', 'name', 'price', 'totals.totalOrders', 'totals.totalOrderQty', 'customerSessionId', 'customerSessionNumber', 'totals.uniqueOrders', 'totals.totalViewProducts', 'totals.totalAddToCarts']]"
      ],
      "execution_count": null,
      "outputs": [
        {
          "output_type": "execute_result",
          "data": {
            "text/html": [
              "<div>\n",
              "<style scoped>\n",
              "    .dataframe tbody tr th:only-of-type {\n",
              "        vertical-align: middle;\n",
              "    }\n",
              "\n",
              "    .dataframe tbody tr th {\n",
              "        vertical-align: top;\n",
              "    }\n",
              "\n",
              "    .dataframe thead th {\n",
              "        text-align: right;\n",
              "    }\n",
              "</style>\n",
              "<table border=\"1\" class=\"dataframe\">\n",
              "  <thead>\n",
              "    <tr style=\"text-align: right;\">\n",
              "      <th></th>\n",
              "      <th>ID</th>\n",
              "      <th>name</th>\n",
              "      <th>price</th>\n",
              "      <th>totals.totalOrders</th>\n",
              "      <th>totals.totalOrderQty</th>\n",
              "      <th>customerSessionId</th>\n",
              "      <th>customerSessionNumber</th>\n",
              "      <th>totals.uniqueOrders</th>\n",
              "      <th>totals.totalViewProducts</th>\n",
              "      <th>totals.totalAddToCarts</th>\n",
              "    </tr>\n",
              "  </thead>\n",
              "  <tbody>\n",
              "    <tr>\n",
              "      <th>1474537</th>\n",
              "      <td>SWA051</td>\n",
              "      <td>dr. stephen langer's ultimate 16 strain probio...</td>\n",
              "      <td>14.79</td>\n",
              "      <td>1</td>\n",
              "      <td>3</td>\n",
              "      <td>cki8pfl1y000139ebdeezn6pn1606894616</td>\n",
              "      <td>1</td>\n",
              "      <td>1</td>\n",
              "      <td>2</td>\n",
              "      <td>1</td>\n",
              "    </tr>\n",
              "    <tr>\n",
              "      <th>1474538</th>\n",
              "      <td>SWA051</td>\n",
              "      <td>dr. stephen langer's ultimate 16 strain probio...</td>\n",
              "      <td>14.79</td>\n",
              "      <td>1</td>\n",
              "      <td>3</td>\n",
              "      <td>cki8pfl1y000139ebdeezn6pn1606894616</td>\n",
              "      <td>1</td>\n",
              "      <td>1</td>\n",
              "      <td>2</td>\n",
              "      <td>1</td>\n",
              "    </tr>\n",
              "    <tr>\n",
              "      <th>1474539</th>\n",
              "      <td>SWA051</td>\n",
              "      <td>dr. stephen langer's ultimate 16 strain probio...</td>\n",
              "      <td>14.79</td>\n",
              "      <td>1</td>\n",
              "      <td>3</td>\n",
              "      <td>cki8pfl1y000139ebdeezn6pn1606894616</td>\n",
              "      <td>1</td>\n",
              "      <td>1</td>\n",
              "      <td>2</td>\n",
              "      <td>1</td>\n",
              "    </tr>\n",
              "    <tr>\n",
              "      <th>1474540</th>\n",
              "      <td>SWA051</td>\n",
              "      <td>3.2 billion cfu 60 veg drcaps</td>\n",
              "      <td>14.79</td>\n",
              "      <td>1</td>\n",
              "      <td>3</td>\n",
              "      <td>cki8pfl1y000139ebdeezn6pn1606894616</td>\n",
              "      <td>1</td>\n",
              "      <td>1</td>\n",
              "      <td>2</td>\n",
              "      <td>1</td>\n",
              "    </tr>\n",
              "  </tbody>\n",
              "</table>\n",
              "</div>"
            ],
            "text/plain": [
              "             ID                                               name  price  \\\n",
              "1474537  SWA051  dr. stephen langer's ultimate 16 strain probio...  14.79   \n",
              "1474538  SWA051  dr. stephen langer's ultimate 16 strain probio...  14.79   \n",
              "1474539  SWA051  dr. stephen langer's ultimate 16 strain probio...  14.79   \n",
              "1474540  SWA051                      3.2 billion cfu 60 veg drcaps  14.79   \n",
              "\n",
              "        totals.totalOrders totals.totalOrderQty  \\\n",
              "1474537                  1                    3   \n",
              "1474538                  1                    3   \n",
              "1474539                  1                    3   \n",
              "1474540                  1                    3   \n",
              "\n",
              "                           customerSessionId customerSessionNumber  \\\n",
              "1474537  cki8pfl1y000139ebdeezn6pn1606894616                     1   \n",
              "1474538  cki8pfl1y000139ebdeezn6pn1606894616                     1   \n",
              "1474539  cki8pfl1y000139ebdeezn6pn1606894616                     1   \n",
              "1474540  cki8pfl1y000139ebdeezn6pn1606894616                     1   \n",
              "\n",
              "        totals.uniqueOrders totals.totalViewProducts totals.totalAddToCarts  \n",
              "1474537                   1                        2                      1  \n",
              "1474538                   1                        2                      1  \n",
              "1474539                   1                        2                      1  \n",
              "1474540                   1                        2                      1  "
            ]
          },
          "metadata": {
            "tags": []
          },
          "execution_count": 12
        }
      ]
    },
    {
      "cell_type": "code",
      "metadata": {
        "colab": {
          "base_uri": "https://localhost:8080/",
          "height": 352
        },
        "id": "OfHlBXMWt9UW",
        "outputId": "32b3e7ea-126f-41a7-9c1c-76cfb792fc55"
      },
      "source": [
        "plt.hist(hits.price)"
      ],
      "execution_count": null,
      "outputs": [
        {
          "output_type": "execute_result",
          "data": {
            "text/plain": [
              "(array([1.23361e+05, 1.46570e+04, 2.08600e+03, 4.64000e+02, 9.60000e+01,\n",
              "        4.90000e+01, 5.00000e+00, 1.00000e+00, 8.00000e+00, 9.00000e+00]),\n",
              " array([  0.66 ,  23.914,  47.168,  70.422,  93.676, 116.93 , 140.184,\n",
              "        163.438, 186.692, 209.946, 233.2  ]),\n",
              " <a list of 10 Patch objects>)"
            ]
          },
          "metadata": {
            "tags": []
          },
          "execution_count": 52
        },
        {
          "output_type": "display_data",
          "data": {
            "image/png": "[encoded data removed]",
            "text/plain": [
              "<Figure size 432x288 with 1 Axes>"
            ]
          },
          "metadata": {
            "tags": []
          }
        }
      ]
    },
    {
      "cell_type": "markdown",
      "metadata": {
        "id": "Q7oq9zQU6phh"
      },
      "source": [
        "**Filter price**"
      ]
    },
    {
      "cell_type": "code",
      "metadata": {
        "colab": {
          "base_uri": "https://localhost:8080/"
        },
        "id": "4z5CRnnltqH_",
        "outputId": "4f1cadbf-c900-4472-9100-42db334b2d1b"
      },
      "source": [
        "df_merged2 = df_merged[(df_merged.price>=11) & (df_merged.price<=24)] \n",
        "md = np.median(hits[~hits.price.isnull()].price)\n",
        "len(hits['price'])"
      ],
      "execution_count": null,
      "outputs": [
        {
          "output_type": "execute_result",
          "data": {
            "text/plain": [
              "1714266"
            ]
          },
          "metadata": {
            "tags": []
          },
          "execution_count": 48
        }
      ]
    },
    {
      "cell_type": "code",
      "metadata": {
        "id": "iWP4C8zo6DCH",
        "outputId": "379d73cc-cb52-48ba-d1fc-19dacbe11fba"
      },
      "source": [
        "df_rm_dup = df_merged.drop_duplicates(['customerVisitorId', 'ID', 'price', 'customerSessionId'])\n",
        "df_rm_dup.collection.value_counts(normalize=True)"
      ],
      "execution_count": null,
      "outputs": [
        {
          "output_type": "execute_result",
          "data": {
            "text/plain": [
              "swansonhealthproduction    9.164339e-01\n",
              "Swanson Premium            1.230345e-02\n",
              "Swanson Ultra              8.300530e-03\n",
              "default                    6.516277e-03\n",
              "NOW Foods                  4.755789e-03\n",
              "                               ...     \n",
              "Ostrim                     9.505875e-07\n",
              "Inholtra                   9.505875e-07\n",
              "Maximum International      9.505875e-07\n",
              "Baie Run                   9.505875e-07\n",
              "Superfood For Skin         9.505875e-07\n",
              "Name: collection, Length: 905, dtype: float64"
            ]
          },
          "metadata": {
            "tags": []
          },
          "execution_count": 19
        }
      ]
    },
    {
      "cell_type": "code",
      "metadata": {
        "colab": {
          "base_uri": "https://localhost:8080/"
        },
        "id": "ZChVgmS3tXV_",
        "outputId": "7c33af4e-2c09-4a2e-c41f-d98f7f2a8a3c"
      },
      "source": [
        "df_rm_dup[['ID', 'price', 'collection', 'name']].info()"
      ],
      "execution_count": null,
      "outputs": [
        {
          "output_type": "stream",
          "text": [
            "<class 'pandas.core.frame.DataFrame'>\n",
            "Int64Index: 1052318 entries, 0 to 1714602\n",
            "Data columns (total 4 columns):\n",
            " #   Column      Non-Null Count    Dtype  \n",
            "---  ------      --------------    -----  \n",
            " 0   ID          1051981 non-null  object \n",
            " 1   price       87909 non-null    float64\n",
            " 2   collection  1051981 non-null  object \n",
            " 3   name        87910 non-null    object \n",
            "dtypes: float64(1), object(3)\n",
            "memory usage: 40.1+ MB\n"
          ],
          "name": "stdout"
        }
      ]
    },
    {
      "cell_type": "code",
      "metadata": {
        "id": "n5osuQBI6DCJ",
        "outputId": "16cec085-df87-476e-a787-c65043704442"
      },
      "source": [
        "df_rm_dup[df_rm_dup.name.isnull()].ID"
      ],
      "execution_count": null,
      "outputs": [
        {
          "output_type": "execute_result",
          "data": {
            "text/plain": [
              "2441          NaN\n",
              "2442       CSN193\n",
              "2443          NaN\n",
              "2444       SWF116\n",
              "2445       SWF068\n",
              "            ...  \n",
              "1714334    CRL396\n",
              "1714335    SW1453\n",
              "1714336    SWU248\n",
              "1714337    NWF270\n",
              "1714338    NWF139\n",
              "Name: ID, Length: 964408, dtype: object"
            ]
          },
          "metadata": {
            "tags": []
          },
          "execution_count": 55
        }
      ]
    },
    {
      "cell_type": "markdown",
      "metadata": {
        "id": "BpzgolAo616V"
      },
      "source": [
        "**Create dictionary of item ID, name, price, collection**"
      ]
    },
    {
      "cell_type": "code",
      "metadata": {
        "id": "wYp6OlzX6DCM",
        "outputId": "99cf8979-277f-4933-9d36-f4c48cbb912a"
      },
      "source": [
        "mult_collection = df_rm_dup.groupby('ID')['collection'].nunique().sort_values(ascending=False).reset_index()\n",
        "mult_collection"
      ],
      "execution_count": null,
      "outputs": [
        {
          "output_type": "execute_result",
          "data": {
            "text/html": [
              "<div>\n",
              "<style scoped>\n",
              "    .dataframe tbody tr th:only-of-type {\n",
              "        vertical-align: middle;\n",
              "    }\n",
              "\n",
              "    .dataframe tbody tr th {\n",
              "        vertical-align: top;\n",
              "    }\n",
              "\n",
              "    .dataframe thead th {\n",
              "        text-align: right;\n",
              "    }\n",
              "</style>\n",
              "<table border=\"1\" class=\"dataframe\">\n",
              "  <thead>\n",
              "    <tr style=\"text-align: right;\">\n",
              "      <th></th>\n",
              "      <th>ID</th>\n",
              "      <th>collection</th>\n",
              "    </tr>\n",
              "  </thead>\n",
              "  <tbody>\n",
              "    <tr>\n",
              "      <th>0</th>\n",
              "      <td>SW923</td>\n",
              "      <td>7</td>\n",
              "    </tr>\n",
              "    <tr>\n",
              "      <th>1</th>\n",
              "      <td>SW1371</td>\n",
              "      <td>6</td>\n",
              "    </tr>\n",
              "    <tr>\n",
              "      <th>2</th>\n",
              "      <td>SW1113</td>\n",
              "      <td>6</td>\n",
              "    </tr>\n",
              "    <tr>\n",
              "      <th>3</th>\n",
              "      <td>SWA051</td>\n",
              "      <td>6</td>\n",
              "    </tr>\n",
              "    <tr>\n",
              "      <th>4</th>\n",
              "      <td>SW1782</td>\n",
              "      <td>6</td>\n",
              "    </tr>\n",
              "    <tr>\n",
              "      <th>...</th>\n",
              "      <td>...</td>\n",
              "      <td>...</td>\n",
              "    </tr>\n",
              "    <tr>\n",
              "      <th>17475</th>\n",
              "      <td>KND004</td>\n",
              "      <td>1</td>\n",
              "    </tr>\n",
              "    <tr>\n",
              "      <th>17476</th>\n",
              "      <td>SN135</td>\n",
              "      <td>1</td>\n",
              "    </tr>\n",
              "    <tr>\n",
              "      <th>17477</th>\n",
              "      <td>NWF1044</td>\n",
              "      <td>1</td>\n",
              "    </tr>\n",
              "    <tr>\n",
              "      <th>17478</th>\n",
              "      <td>SN132</td>\n",
              "      <td>1</td>\n",
              "    </tr>\n",
              "    <tr>\n",
              "      <th>17479</th>\n",
              "      <td>NCL095</td>\n",
              "      <td>1</td>\n",
              "    </tr>\n",
              "  </tbody>\n",
              "</table>\n",
              "<p>17480 rows × 2 columns</p>\n",
              "</div>"
            ],
            "text/plain": [
              "            ID  collection\n",
              "0        SW923           7\n",
              "1       SW1371           6\n",
              "2       SW1113           6\n",
              "3       SWA051           6\n",
              "4       SW1782           6\n",
              "...        ...         ...\n",
              "17475   KND004           1\n",
              "17476    SN135           1\n",
              "17477  NWF1044           1\n",
              "17478    SN132           1\n",
              "17479   NCL095           1\n",
              "\n",
              "[17480 rows x 2 columns]"
            ]
          },
          "metadata": {
            "tags": []
          },
          "execution_count": 112
        }
      ]
    },
    {
      "cell_type": "code",
      "metadata": {
        "id": "krC1mlvo6DCM",
        "outputId": "04b72556-b09d-43e7-a71d-ae2515c6c29e"
      },
      "source": [
        "hits[hits.ID=='SW923'].collection.unique()"
      ],
      "execution_count": null,
      "outputs": [
        {
          "output_type": "execute_result",
          "data": {
            "text/plain": [
              "array(['swansonhealthproduction', 'Swanson Premium', 'default', 'Kal',\n",
              "       'Life Extension', 'Swanson Ultra', 'Swanson Superior Herbs'],\n",
              "      dtype=object)"
            ]
          },
          "metadata": {
            "tags": []
          },
          "execution_count": 117
        }
      ]
    },
    {
      "cell_type": "code",
      "metadata": {
        "id": "r5lX62Tg6DCN"
      },
      "source": [
        "dic = {}\n",
        "for i in range(len(df_rm_dup)):\n",
        "    prod = df_rm_dup.iloc[i]\n",
        "    if prod.ID not in dic.keys() and str(prod.sku) != 'nan':\n",
        "        dic[prod.ID] = {}\n",
        "        dic[prod.ID]['name'] = prod['name']\n",
        "        dic[prod.ID]['collection'] = prod.collection\n",
        "        dic[prod.ID]['price'] = prod.price"
      ],
      "execution_count": null,
      "outputs": []
    },
    {
      "cell_type": "code",
      "metadata": {
        "id": "eb8da79b"
      },
      "source": [
        "df_rm_dup['totals.totalOrderQty'] = df_rm_dup['totals.totalOrderQty'].fillna(0)\n",
        "df_rm_dup['totals.totalOrderQty'] = df_rm_dup['totals.totalOrderQty'].astype(int)\n",
        "num_purchase = df_rm_dup.groupby(['customerVisitorId', 'ID']).agg({'totals.totalOrderQty':'sum', 'price':'mean', 'customerSessionId':'nunique', 'collection':'first'})\n",
        "num_purchase = num_purchase.reset_index().rename(columns={\"totals.totalOrderQty\":\"numPurchase\"})\n",
        "num_purchase['Purchase'] = num_purchase.numPurchase.apply(lambda x: 1 if x!=0 else 0)"
      ],
      "execution_count": null,
      "outputs": []
    },
    {
      "cell_type": "code",
      "metadata": {
        "id": "uvq3LY606DCP",
        "outputId": "b7fb84ef-8b84-4b5c-c12f-ebef9ea84e98"
      },
      "source": [
        "cust_collection = num_purchase.groupby(\"customerVisitorId\")['collection'].apply(list).reset_index()\n",
        "cust_collection['contains_swansonhealth'] = cust_collection['collection'].apply(lambda x: 'swansonhealthproduction' not in x)\n",
        "num_purchase['price'] = np.where(num_purchase.price.isnull(), md, num_purchase.price)\n",
        "num_purchase['price_category'] = np.where(num_purchase.price>=94, 'very expensive', np.where((num_purchase.price>= 48) & (num_purchase.price<94), 'expensive', np.where((num_purchase.price>= 24) & (num_purchase.price<48), 'medium', 'cheap')))\n",
        "num_purchase.head()"
      ],
      "execution_count": null,
      "outputs": [
        {
          "output_type": "execute_result",
          "data": {
            "text/html": [
              "<div>\n",
              "<style scoped>\n",
              "    .dataframe tbody tr th:only-of-type {\n",
              "        vertical-align: middle;\n",
              "    }\n",
              "\n",
              "    .dataframe tbody tr th {\n",
              "        vertical-align: top;\n",
              "    }\n",
              "\n",
              "    .dataframe thead th {\n",
              "        text-align: right;\n",
              "    }\n",
              "</style>\n",
              "<table border=\"1\" class=\"dataframe\">\n",
              "  <thead>\n",
              "    <tr style=\"text-align: right;\">\n",
              "      <th></th>\n",
              "      <th>customerVisitorId</th>\n",
              "      <th>ID</th>\n",
              "      <th>numPurchase</th>\n",
              "      <th>price</th>\n",
              "      <th>customerSessionId</th>\n",
              "      <th>collection</th>\n",
              "      <th>Purchase</th>\n",
              "    </tr>\n",
              "  </thead>\n",
              "  <tbody>\n",
              "    <tr>\n",
              "      <th>0</th>\n",
              "      <td>cjo06cah000013ea3jqwotb8g</td>\n",
              "      <td>AAM013</td>\n",
              "      <td>0</td>\n",
              "      <td>NaN</td>\n",
              "      <td>2</td>\n",
              "      <td>swansonhealthproduction</td>\n",
              "      <td>0</td>\n",
              "    </tr>\n",
              "    <tr>\n",
              "      <th>1</th>\n",
              "      <td>cjo06cah000013ea3jqwotb8g</td>\n",
              "      <td>AAM016</td>\n",
              "      <td>0</td>\n",
              "      <td>NaN</td>\n",
              "      <td>2</td>\n",
              "      <td>swansonhealthproduction</td>\n",
              "      <td>0</td>\n",
              "    </tr>\n",
              "    <tr>\n",
              "      <th>2</th>\n",
              "      <td>cjo06cah000013ea3jqwotb8g</td>\n",
              "      <td>AAM019</td>\n",
              "      <td>0</td>\n",
              "      <td>NaN</td>\n",
              "      <td>2</td>\n",
              "      <td>swansonhealthproduction</td>\n",
              "      <td>0</td>\n",
              "    </tr>\n",
              "    <tr>\n",
              "      <th>3</th>\n",
              "      <td>cjo06cah000013ea3jqwotb8g</td>\n",
              "      <td>ARG010</td>\n",
              "      <td>0</td>\n",
              "      <td>NaN</td>\n",
              "      <td>2</td>\n",
              "      <td>swansonhealthproduction</td>\n",
              "      <td>0</td>\n",
              "    </tr>\n",
              "    <tr>\n",
              "      <th>4</th>\n",
              "      <td>cjo06cah000013ea3jqwotb8g</td>\n",
              "      <td>DB088</td>\n",
              "      <td>0</td>\n",
              "      <td>NaN</td>\n",
              "      <td>2</td>\n",
              "      <td>swansonhealthproduction</td>\n",
              "      <td>0</td>\n",
              "    </tr>\n",
              "  </tbody>\n",
              "</table>\n",
              "</div>"
            ],
            "text/plain": [
              "           customerVisitorId      ID  numPurchase  price  customerSessionId  \\\n",
              "0  cjo06cah000013ea3jqwotb8g  AAM013            0    NaN                  2   \n",
              "1  cjo06cah000013ea3jqwotb8g  AAM016            0    NaN                  2   \n",
              "2  cjo06cah000013ea3jqwotb8g  AAM019            0    NaN                  2   \n",
              "3  cjo06cah000013ea3jqwotb8g  ARG010            0    NaN                  2   \n",
              "4  cjo06cah000013ea3jqwotb8g   DB088            0    NaN                  2   \n",
              "\n",
              "                collection  Purchase  \n",
              "0  swansonhealthproduction         0  \n",
              "1  swansonhealthproduction         0  \n",
              "2  swansonhealthproduction         0  \n",
              "3  swansonhealthproduction         0  \n",
              "4  swansonhealthproduction         0  "
            ]
          },
          "metadata": {
            "tags": []
          },
          "execution_count": 11
        }
      ]
    },
    {
      "cell_type": "markdown",
      "metadata": {
        "id": "VSU0uyl87JdU"
      },
      "source": [
        "**Analysis of product price category and number of sessions with regards to purchase**"
      ]
    },
    {
      "cell_type": "code",
      "metadata": {
        "id": "H1MxMVQX6DCQ",
        "outputId": "a49e85f9-e2b1-4977-8f72-142f36efafca"
      },
      "source": [
        "num_purchase[num_purchase.Purchase==1].groupby('price_category')['customerSessionId'].mean()"
      ],
      "execution_count": null,
      "outputs": [
        {
          "output_type": "execute_result",
          "data": {
            "text/plain": [
              "price_category\n",
              "cheap             1.019692\n",
              "expensive         1.066176\n",
              "medium            1.090868\n",
              "very expensive    1.000000\n",
              "Name: customerSessionId, dtype: float64"
            ]
          },
          "metadata": {
            "tags": []
          },
          "execution_count": 45
        }
      ]
    },
    {
      "cell_type": "code",
      "metadata": {
        "id": "ahP-GEeQ6DCR",
        "outputId": "2f077cc3-98f4-402e-df1f-da98eaaae84b"
      },
      "source": [
        "plt.scatter(num_purchase[(num_purchase.collection=='swansonhealthproduction')].price_category, num_purchase[num_purchase.collection=='swansonhealthproduction'].customerSessionId)\n",
        "plt.xlabel('price category')\n",
        "plt.ylabel('number of sessions')\n",
        "plt.title('Groupby Data Filter by Category')"
      ],
      "execution_count": null,
      "outputs": [
        {
          "output_type": "execute_result",
          "data": {
            "text/plain": [
              "Text(0.5, 1.0, 'Groupby Data Filter by Category')"
            ]
          },
          "metadata": {
            "tags": []
          },
          "execution_count": 117
        },
        {
          "output_type": "display_data",
          "data": {
            "image/png": "[encoded data removed]",
            "text/plain": [
              "<Figure size 432x288 with 1 Axes>"
            ]
          },
          "metadata": {
            "tags": [],
            "needs_background": "light"
          }
        }
      ]
    },
    {
      "cell_type": "code",
      "metadata": {
        "id": "cbw4N-f56DCR",
        "outputId": "8c009af6-d06f-4434-c832-12248299d1b2"
      },
      "source": [
        "num_purchase[(num_purchase.Purchase==1) & (num_purchase.price>=11) & (num_purchase.price<=24)].ID.nunique()"
      ],
      "execution_count": null,
      "outputs": [
        {
          "output_type": "execute_result",
          "data": {
            "text/plain": [
              "2649"
            ]
          },
          "metadata": {
            "tags": []
          },
          "execution_count": 102
        }
      ]
    },
    {
      "cell_type": "code",
      "metadata": {
        "id": "EHIOpdDt6DCR",
        "outputId": "2d5485eb-c159-4fda-9969-8546fbe260ba"
      },
      "source": [
        "num_purchase.groupby('price_category')['ID'].count()"
      ],
      "execution_count": null,
      "outputs": [
        {
          "output_type": "execute_result",
          "data": {
            "text/plain": [
              "price_category\n",
              "cheap             986914\n",
              "expensive           1550\n",
              "medium              8772\n",
              "very expensive       128\n",
              "Name: ID, dtype: int64"
            ]
          },
          "metadata": {
            "tags": []
          },
          "execution_count": 49
        }
      ]
    },
    {
      "cell_type": "code",
      "metadata": {
        "id": "1aRjcXM-6DCS",
        "outputId": "d3bf9ea1-7049-4614-f2b4-f687425dada3"
      },
      "source": [
        "plt.scatter(num_purchase[num_purchase.Purchase==0].customerSessionId, num_purchase[num_purchase.Purchase==0].price)"
      ],
      "execution_count": null,
      "outputs": [
        {
          "output_type": "execute_result",
          "data": {
            "text/plain": [
              "<matplotlib.collections.PathCollection at 0x7fac11f4fef0>"
            ]
          },
          "metadata": {
            "tags": []
          },
          "execution_count": 39
        },
        {
          "output_type": "display_data",
          "data": {
            "image/png": "[encoded data removed]",
            "text/plain": [
              "<Figure size 432x288 with 1 Axes>"
            ]
          },
          "metadata": {
            "tags": [],
            "needs_background": "light"
          }
        }
      ]
    },
    {
      "cell_type": "markdown",
      "metadata": {
        "id": "59deb013"
      },
      "source": [
        "**Splitting data into train and test sets**"
      ]
    },
    {
      "cell_type": "code",
      "metadata": {
        "id": "ILxcT9WK9tqi"
      },
      "source": [
        "def random_split(data, user_id, item_id, metric, item_features=None):\n",
        "  dataset = Dataset()\n",
        "  dataset.fit(data[user_id], data[item_id], item_features=item_features)\n",
        "  num_users, num_items = dataset.interactions_shape()\n",
        "  print('Num users: {}, num_items {}.'.format(num_users, num_items))\n",
        "  dataset.fit_partial(users=data[user_id], \n",
        "                     items=data[item_id],\n",
        "                     item_features=item_features)\n",
        "  fe = data.to_dict(orient='records')\n",
        "  (interactions, weights) = dataset.build_interactions((x[user_id], x[item_id], x[metric]) for x in fe)\n",
        "  (train, test) = random_train_test_split(interactions=interactions, test_percentage=0.2, random_state=2)\n",
        "  print('Num values: {}'.format(len(interactions.data)))  \n",
        "  return dataset, train, test, interactions"
      ],
      "execution_count": 2,
      "outputs": []
    },
    {
      "cell_type": "code",
      "metadata": {
        "id": "YBbk53L26DCU"
      },
      "source": [
        "def calc_sparsity(data, user_id, item_id, metric):\n",
        "    item_user_matrix = pd.DataFrame(data.pivot_table(index=[user_id], columns=item_id, values=metric))\n",
        "    item_user_matrix.fillna(0,inplace=True)\n",
        "    print('sparsity in data:',(1.0 - (np.count_nonzero(item_user_matrix) / float(item_user_matrix.size))))"
      ],
      "execution_count": null,
      "outputs": []
    },
    {
      "cell_type": "code",
      "metadata": {
        "id": "_2rArOfo6DCV",
        "outputId": "b5602ca6-cf36-4ec4-bc6f-eaf32635a5fd"
      },
      "source": [
        "dataset, train_g, test_g, interactions = random_split(num_purchase, 'customerVisitorId', 'ID', 'Purchase')"
      ],
      "execution_count": null,
      "outputs": [
        {
          "output_type": "stream",
          "text": [
            "Num users: 44599, num_items 17480.\n",
            "Num values: 997364\n"
          ],
          "name": "stdout"
        }
      ]
    },
    {
      "cell_type": "code",
      "metadata": {
        "id": "DhESoEjw6DCV",
        "outputId": "d10e04b0-f8d1-4997-a708-3bf3d3f65ded"
      },
      "source": [
        "train_g.shape"
      ],
      "execution_count": null,
      "outputs": [
        {
          "output_type": "execute_result",
          "data": {
            "text/plain": [
              "(44599, 17480)"
            ]
          },
          "metadata": {
            "tags": []
          },
          "execution_count": 29
        }
      ]
    },
    {
      "cell_type": "code",
      "metadata": {
        "id": "9Y_Y4iYU6DCW",
        "outputId": "929cc599-dbda-4de0-cf48-7adaccbe1e43"
      },
      "source": [
        "test_g.shape"
      ],
      "execution_count": null,
      "outputs": [
        {
          "output_type": "execute_result",
          "data": {
            "text/plain": [
              "(44599, 17480)"
            ]
          },
          "metadata": {
            "tags": []
          },
          "execution_count": 30
        }
      ]
    },
    {
      "cell_type": "markdown",
      "metadata": {
        "id": "SAwn6KM16DCW"
      },
      "source": [
        "**Create dictionary to map user and item index**"
      ]
    },
    {
      "cell_type": "code",
      "metadata": {
        "id": "O_i9Ydkz6DCX"
      },
      "source": [
        "user_id_map, user_features, item_id_map, item_features = dataset.mapping()"
      ],
      "execution_count": null,
      "outputs": []
    },
    {
      "cell_type": "code",
      "metadata": {
        "id": "qA0K7wMz6DCX"
      },
      "source": [
        "item_id_map_rev = {int(v):k for k,v in item_id_map.items()}"
      ],
      "execution_count": null,
      "outputs": []
    },
    {
      "cell_type": "code",
      "metadata": {
        "id": "FEA3fekB6DCX"
      },
      "source": [
        "user_id_map_rev = {int(v):k for k,v in user_id_map.items()}"
      ],
      "execution_count": null,
      "outputs": []
    },
    {
      "cell_type": "code",
      "metadata": {
        "id": "_FXg3ROj6DCY",
        "outputId": "49f20686-35bd-4a7d-a11a-3213aae93957"
      },
      "source": [
        "train_g"
      ],
      "execution_count": null,
      "outputs": [
        {
          "output_type": "execute_result",
          "data": {
            "text/plain": [
              "<44599x17480 sparse matrix of type '<class 'numpy.int32'>'\n",
              "\twith 797891 stored elements in COOrdinate format>"
            ]
          },
          "metadata": {
            "tags": []
          },
          "execution_count": 107
        }
      ]
    },
    {
      "cell_type": "code",
      "metadata": {
        "id": "L_x0oGwG6DCY",
        "outputId": "3b8986cf-ebb1-447d-8c3d-28ece5491482"
      },
      "source": [
        "test_g"
      ],
      "execution_count": null,
      "outputs": [
        {
          "output_type": "execute_result",
          "data": {
            "text/plain": [
              "<44599x17480 sparse matrix of type '<class 'numpy.int32'>'\n",
              "\twith 199473 stored elements in COOrdinate format>"
            ]
          },
          "metadata": {
            "tags": []
          },
          "execution_count": 108
        }
      ]
    },
    {
      "cell_type": "code",
      "metadata": {
        "id": "V1lkOujn6DCa",
        "outputId": "cb207304-b9da-4a56-d32b-5584010ecb0f"
      },
      "source": [
        "calc_sparsity(num_purchase, 'customerVisitorId', 'ID', 'Purchase')"
      ],
      "execution_count": null,
      "outputs": [
        {
          "output_type": "stream",
          "text": [
            "sparsity in data: 0.999594617954051\n"
          ],
          "name": "stdout"
        }
      ]
    },
    {
      "cell_type": "markdown",
      "metadata": {
        "id": "DlJhdITO2f9_"
      },
      "source": [
        "## Algorithm"
      ]
    },
    {
      "cell_type": "markdown",
      "metadata": {
        "id": "3pkjTmxg2jEL"
      },
      "source": [
        "Collaborative Filtering Matrix Factorization (MF) is used where an mxn matrix (m: number of users, n: number of items) is decomposed into mxk user factor and kxn item factor. The factors are multiplied to get the score for an item for a particular user. The figure below illustrates the matrix factorization. k represents the number of latent factors, or dimensions.\n",
        "\n",
        "LightFM package link is used to perform MF. A common loss function for MF is mean square error where the gradient updates to minimize the difference between actual and predicted scores. Such technique is common for explicit feedback data. For this dataset that consists of implicit feedback, ranking of items, where a purchased item ranks higher than a non-purchased item, are of interest. Hence, weighted average ranking pairwise (WARP) loss link is used as the loss function. For each user, there is a pair of positive and negative items. A positive item indicates that the user has purchased the item and a negative item indicates that the user has not purchased the item. The loss function only updates when the rank of a negative item exceeds that of a positive item. This approximates a form of active learning that yields a more informative gradient update, where the model samples the number of negative items Q times until the rank of a negative item exceeds that of a positive item. The loss function is described below."
      ]
    },
    {
      "cell_type": "markdown",
      "metadata": {
        "id": "YOkiHBKJ2nvA"
      },
      "source": [
        "![image.png](data:image/png;base64,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)"
      ]
    },
    {
      "cell_type": "markdown",
      "metadata": {
        "id": "cgOJeaf1pxHk"
      },
      "source": [
        "## LightFM model training"
      ]
    },
    {
      "cell_type": "code",
      "metadata": {
        "id": "XJJvHKlt-oGe"
      },
      "source": [
        "def model_fit_eval(loss, train, test, n_components, k_items, k=5, n=10, item_features=None):\n",
        "  model = LightFM(no_components=n_components, loss=loss, item_alpha=1e-6, random_state=2, k=k, n=n)\n",
        "  %time model.fit(train, epochs=10, num_threads=3, item_features=item_features)\n",
        "  test_auc = auc_score(model, test, train_interactions=train, num_threads=3, item_features=item_features).mean()\n",
        "  print('Collaborative filtering test AUC: %s' % test_auc)\n",
        "  prec = precision_at_k(model, test, train_interactions=train, num_threads=3, k=k_items, item_features=item_features).mean()\n",
        "  print('Collaborative filtering test precision: %s' % prec)\n",
        "  recal = recall_at_k(model, test, train_interactions=train, num_threads=3, k=k_items, item_features=item_features).mean()\n",
        "  print('Collaborative filtering test recall: %s' % recal)\n",
        "  return model"
      ],
      "execution_count": 8,
      "outputs": []
    },
    {
      "cell_type": "code",
      "metadata": {
        "id": "-9JfCZ_x6DCc",
        "outputId": "bc52ec9d-c131-4979-cff9-703c744b0331"
      },
      "source": [
        "model_g = model_fit_eval('warp', train_g, test_g, 128, 5)"
      ],
      "execution_count": null,
      "outputs": [
        {
          "output_type": "stream",
          "text": [
            "CPU times: user 24.6 s, sys: 19.5 ms, total: 24.6 s\n",
            "Wall time: 8.82 s\n",
            "Collaborative filtering test AUC: 0.8918844\n",
            "Collaborative filtering test precision: 0.38604438\n",
            "Collaborative filtering test recall: 0.29490969857731075\n"
          ],
          "name": "stdout"
        }
      ]
    },
    {
      "cell_type": "markdown",
      "metadata": {
        "id": "yOTpLBZj2pcp"
      },
      "source": [
        "## Results"
      ]
    },
    {
      "cell_type": "markdown",
      "metadata": {
        "id": "a3t_hIb72sJ3"
      },
      "source": [
        "The important parameter to tune is k, the number of dimensions. The table below shows model performance with different values of k:\n",
        "\n",
        "| K | Metric | Value |\n",
        "| - | -:| ---:|\n",
        "| 32 | AUC | 0.87 |\n",
        "| 64 | AUC | 0.88 |\n",
        "| 128 | AUC | 0.89 |\n",
        "| 192 | AUC | 0.89 |\n",
        "| 32 | Precision@5 | 0.38 |\n",
        "| 64 | Precision@5 | 0.32 |\n",
        "| 128 | Precision@5 | 0.40 |\n",
        "| 192 | Precision@5 | 0.41 |\n",
        "| 32 | Recall@5 | 0.22 |\n",
        "| 64 | Recall@5 | 0.27 |\n",
        "| 128 | Recall@5 | 0.30 |\n",
        "| 192 | Recall@5 | 0.31 |\n",
        "\n",
        "- 128 dimension is selected as model performance starts to plateau.\n",
        "- AUC measures the probability that a randomly chosen positive example has a higher score than a randomly chosen negative example.\n",
        "- Precision@5 measures the fraction of items bought out of the 5 recommended items\n",
        "- Recall@5 measures the number of items bought in the top 5 recommendations divided by the total number of items bought\n"
      ]
    },
    {
      "cell_type": "markdown",
      "metadata": {
        "id": "Hq6baCTj6DCe"
      },
      "source": [
        "## Recommending items"
      ]
    },
    {
      "cell_type": "code",
      "metadata": {
        "id": "PxEOI-1O6DCe"
      },
      "source": [
        "def similar_recommendation(model, interactions, user_id, user_dikt, \n",
        "                               item_dikt, item_dikt_rev, product_dict, threshold = 0, number_rec_items = 5):\n",
        "\n",
        "    #Function to produce user recommendations\n",
        "\n",
        "    n_items = len(item_dikt.keys())\n",
        "    user_x = user_dikt[user_id]\n",
        "    scores = pd.Series(model.predict(user_x,np.arange(n_items)))\n",
        "    scores.index = item_dikt.keys()\n",
        "    scores = list(pd.Series(scores.sort_values(ascending=False).index))\n",
        "    user_item_scores = interactions.toarray()[user_x]\n",
        "    item_index = np.where(user_item_scores>0)[0]\n",
        "    known_items = pd.DataFrame({ 'items': [item_dikt_rev[i] for i in item_index], 'scores':user_item_scores[item_index]}).sort_values('scores', ascending=False)\n",
        "    \n",
        "    scores = [x for x in scores if x not in known_items['items'].values]\n",
        "    score_list = scores[0:number_rec_items]\n",
        "\n",
        "    print(\"Items that were liked by the User:\")\n",
        "    counter = 1\n",
        "    for i in range(len(known_items)):\n",
        "        item = known_items.loc[i]['items']\n",
        "        if str(product_dict[item]['name']) != 'nan':\n",
        "            print(str(counter) + '- ' + str(product_dict[item]['name']) + ', ' + str(product_dict[item]['price']) + ', ' + product_dict[item]['collection'])\n",
        "        else:\n",
        "            print(str(counter) + '- ' + str(product_dict[item]['collection']))\n",
        "        counter+=1\n",
        "\n",
        "    print(\"\\n Recommended Items:\")\n",
        "    counter = 1\n",
        "    for i in score_list:\n",
        "        if str(product_dict[i]['name']) != 'nan':\n",
        "            print(str(counter) + '- ' + product_dict[i]['name'] + ', ' + str(product_dict[i]['price']) + ', ' + product_dict[i][\"collection\"]) \n",
        "        else:\n",
        "            print(str(counter) + '- ' + product_dict[i]['collection'])\n",
        "        counter+=1\n",
        "#     return score_list"
      ],
      "execution_count": null,
      "outputs": []
    },
    {
      "cell_type": "code",
      "metadata": {
        "id": "n5vJEnY-6DCf",
        "outputId": "12e1de1e-e5e8-4538-cc55-588589e82a00"
      },
      "source": [
        "similar_recommendation(model, interactions, 'cjo06esrd00013gblo1n3haw7', user_id_map, \n",
        "                               item_id_map, item_id_map_rev, product_dic, threshold = 0, number_rec_items = 5)"
      ],
      "execution_count": null,
      "outputs": [
        {
          "output_type": "stream",
          "text": [
            "Items that were liked by the User:\n",
            "1- zinc picolinate - body preferred form, 2.99, Swanson Premium\n",
            "\n",
            " Recommended Items:\n",
            "1- zinc citrate, 2.84, Swanson Premium\n",
            "2- vitamin c with rose hips, 11.49, Swanson Premium\n",
            "3- full spectrum saw palmetto, 9.49, Swanson Premium\n",
            "4- full spectrum ashwagandha, 5.79, Swanson Premium\n",
            "5- omega-3 fish oil - lemon flavor, 6.99, Swanson Premium\n"
          ],
          "name": "stdout"
        }
      ]
    },
    {
      "cell_type": "code",
      "metadata": {
        "id": "Dkc3g33D6DCf",
        "outputId": "0bac844e-19fd-49f2-9341-d03bf94e4763"
      },
      "source": [
        "similar_recommendation(model, interactions, 'cjo09x89u00013gb80mn9xb57', user_id_map, \n",
        "                               item_id_map, item_id_map_rev, product_dic, threshold = 0, number_rec_items = 5)"
      ],
      "execution_count": null,
      "outputs": [
        {
          "output_type": "stream",
          "text": [
            "Items that were liked by the User:\n",
            "1- long-lasting deodorant stick - refreshing lavender, 5.89, NOW Foods\n",
            "\n",
            " Recommended Items:\n",
            "1- 12 oz pwdr, 19.78, Swanson Ultra\n",
            "2- mct oil - 100% pure pharmaceutical grade, 7.98, Swanson Ultra\n",
            "3- acti-joint plus with krill oil, 13.18, Swanson Ultra\n",
            "4- vitamin d-3 & k-2, 5.99, NOW Foods\n",
            "5- chlorella complex, 17.99, Swanson Kyoto Brand\n"
          ],
          "name": "stdout"
        }
      ]
    },
    {
      "cell_type": "code",
      "metadata": {
        "id": "FuI07ewb6DCg",
        "outputId": "a544798f-f11d-41d1-cf42-91efdaabb8f0"
      },
      "source": [
        "similar_recommendation(model_g, 'cjo6507qf00013ac37tbxxu8z', user_id_map, \n",
        "                               item_id_map, item_id_map_rev, dic, threshold = 0, number_rec_items = 5)"
      ],
      "execution_count": null,
      "outputs": [
        {
          "output_type": "stream",
          "text": [
            "Items that were liked by the User:\n",
            "1- 400 iu (10 mcg) 250 sgels, 3.99, Swanson Premium\n",
            "2- longjax eurycoma longifolia jack extract, 18.99, Swanson Passion\n",
            "3- high immunoglobulin colostrum, 18.39, default\n",
            "\n",
            " Recommended Items:\n",
            "1- vitamin d3 - highest potency, 10.99, default\n",
            "2- vitamin d3 - high potency, 4.79, default\n",
            "3- super stress vitamin b-complex with vitamin c, 15.49, Swanson Premium\n",
            "4- coq10 - high potency, 8.99, Swanson Ultra\n",
            "5- zinc picolinate - body preferred form, 2.99, Swanson Premium\n"
          ],
          "name": "stdout"
        }
      ]
    },
    {
      "cell_type": "code",
      "metadata": {
        "id": "cL9VyalZ6DCh"
      },
      "source": [
        "def item_emdedding_distance_matrix(model, item_dikt):\n",
        "\n",
        "    # Function to create item-item distance embedding matrix\n",
        "    df_item_norm_sparse = csr_matrix(model.item_embeddings)\n",
        "    similarities = cosine_similarity(df_item_norm_sparse)\n",
        "    item_emdedding_distance_matrix = pd.DataFrame(similarities)\n",
        "    item_emdedding_distance_matrix.columns = item_dikt.keys()\n",
        "    item_emdedding_distance_matrix.index = item_dikt.keys()\n",
        "    return item_emdedding_distance_matrix\n",
        "\n",
        "def also_bought_recommendation(item_emdedding_distance_matrix, item_id, \n",
        "                             product_dict, n_items = 5):\n",
        "\n",
        "    # Function to create item-item recommendation\n",
        "    recommended_items = list(pd.Series(item_emdedding_distance_matrix.loc[item_id,:]. \\\n",
        "                                  sort_values(ascending = False).head(n_items+1). \\\n",
        "                                  index[1:n_items+1]))\n",
        "    \n",
        "    print(\"Item of interest:\")\n",
        "    print(str(product_dict[item_id]['name']) + ', ' + str(product_dict[item_id]['price']) + ', ' + product_dict[item_id]['collection'])\n",
        "    print(\"\\n\")\n",
        "    print(\"Items that are frequently bought together:\")\n",
        "    counter = 1\n",
        "    for i in recommended_items:\n",
        "        if i in product_dict.keys():\n",
        "            print(str(counter) + '- ' + str(product_dict[i]['name']) + ', ' + str(product_dict[i]['price']) + ', ' + product_dict[i]['collection'])\n",
        "        else:\n",
        "            print(str(counter) + '- ' + 'swansonhealthproduct')\n",
        "        counter+=1\n",
        "    #return recommended_items"
      ],
      "execution_count": null,
      "outputs": []
    },
    {
      "cell_type": "code",
      "metadata": {
        "id": "C-AHn5hw6DCi"
      },
      "source": [
        "item_dist = item_emdedding_distance_matrix(model, item_id_map)"
      ],
      "execution_count": null,
      "outputs": []
    },
    {
      "cell_type": "code",
      "metadata": {
        "id": "h4Wyshem6DCi",
        "outputId": "c009893c-22d1-4420-ec8b-b09449d1db6f"
      },
      "source": [
        "also_bought_recommendation(item_dist, 'SW1113', dic)"
      ],
      "execution_count": null,
      "outputs": [
        {
          "output_type": "stream",
          "text": [
            "Item of interest:\n",
            "zinc picolinate - body preferred form, 2.99, Swanson Premium\n",
            "\n",
            "\n",
            "Items that are frequently bought together:\n",
            "1- zinc citrate, 2.84, Swanson Premium\n",
            "2- vitamin d3 - high potency, 4.79, default\n",
            "3- full spectrum saw palmetto, 9.49, Swanson Premium\n",
            "4- vitamin c with rose hips, 11.49, Swanson Premium\n",
            "5- triple magnesium complex, 11.99, Swanson Premium\n"
          ],
          "name": "stdout"
        }
      ]
    },
    {
      "cell_type": "code",
      "metadata": {
        "id": "rub6WhT_6DCj",
        "outputId": "b980a441-1639-4b22-c58f-239f617b90c3"
      },
      "source": [
        "also_bought_recommendation(item_dist, 'SWD015', dic)"
      ],
      "execution_count": null,
      "outputs": [
        {
          "output_type": "stream",
          "text": [
            "Item of interest:\n",
            "fat burner - 2 pack, 12.49, Swanson Best Weight-Control Formulas\n",
            "\n",
            "\n",
            "Items that are frequently bought together:\n",
            "1- fat burner, 7.99, Swanson Best Weight-Control Formulas\n",
            "2- swansonhealthproduct\n",
            "3- super fat burners extreme, 11.61, Natural Balance\n",
            "4- swansonhealthproduct\n",
            "5- full spectrum pterocarpus marsupium, 10.79, Swanson Premium\n"
          ],
          "name": "stdout"
        }
      ]
    },
    {
      "cell_type": "markdown",
      "metadata": {
        "id": "eDsL8AB-V8L3"
      },
      "source": [
        "## API"
      ]
    },
    {
      "cell_type": "markdown",
      "metadata": {
        "id": "qGEQLIep4AwT"
      },
      "source": [
        "For a demo, the model is served as an API using Flask. The Flask app is deployed on AWS Elastic Beanstalk, with the following url, http://recapp.eba-u3jbujfw.us-east-1.elasticbeanstalk.com/. To use the app, enter a user id. If the user id exists in the existing database of users, top 5 items will be recommended based on the user's purchasing history. If the user is a new user, the top 5 most popular items (purchased by most users) will be displayed instead. Due to proprietary information, user id to test will not be provided."
      ]
    },
    {
      "cell_type": "markdown",
      "metadata": {
        "id": "Iw6cqx3w4T_p"
      },
      "source": [
        "> Note: This EBS is currently active but might not work in future. So we included screenshots along with backend HTML for reference."
      ]
    },
    {
      "cell_type": "code",
      "metadata": {
        "colab": {
          "base_uri": "https://localhost:8080/"
        },
        "id": "LXJ1DM8LyrSL",
        "outputId": "e13a27d3-cc5d-474a-d193-7ce73cefbe70"
      },
      "source": [
        "%%writefile index.html\n",
        "<!DOCTYPE html>\n",
        "<html >\n",
        "<head>\n",
        "  <meta charset=\"UTF-8\">\n",
        "  <title>Product Recommendation</title>\n",
        "  <link href='https://fonts.googleapis.com/css?family=Pacifico' rel='stylesheet' type='text/css'>\n",
        "<link href='https://fonts.googleapis.com/css?family=Arimo' rel='stylesheet' type='text/css'>\n",
        "<link href='https://fonts.googleapis.com/css?family=Hind:300' rel='stylesheet' type='text/css'>\n",
        "<link href='https://fonts.googleapis.com/css?family=Open+Sans+Condensed:300' rel='stylesheet' type='text/css'>\n",
        "<link rel=\"stylesheet\" href=\"{{ url_for('static', filename='css/style.css') }}\">\n",
        "</head>\n",
        "<body>\n",
        " <div class=\"login\">\n",
        "\t<h1> Enter a User Id</h1>\n",
        "     <!-- Main Input For Receiving Query to our ML -->\n",
        "    <form action=\"{{ url_for('recommend')}}\"method=\"post\">\n",
        "    \t<input type=\"text\" name=\"userid\" placeholder=\"User Id\"/>\n",
        "        <button type=\"submit\" class=\"btn\">Recommend</button>\n",
        "    </form>\n",
        "   <br>\n",
        "   <br>\n",
        " </div>\n",
        "</body>\n",
        "</html>"
      ],
      "execution_count": 2,
      "outputs": [
        {
          "output_type": "stream",
          "text": [
            "Writing index.html\n"
          ],
          "name": "stdout"
        }
      ]
    },
    {
      "cell_type": "markdown",
      "metadata": {
        "id": "XoRFVizR1mGd"
      },
      "source": [
        "![image.png](data:image/png;base64,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)"
      ]
    },
    {
      "cell_type": "code",
      "metadata": {
        "colab": {
          "base_uri": "https://localhost:8080/"
        },
        "id": "xjtCEstyy4T9",
        "outputId": "1d3a79a4-6a6c-4683-eb8d-5872352490e7"
      },
      "source": [
        "%%writefile recommendation.html\n",
        "<!DOCTYPE html>\n",
        "<html >\n",
        "<head>\n",
        "  <meta charset=\"UTF-8\">\n",
        "  <title>Recommending top 5 items: </title>\n",
        "  <link href='https://fonts.googleapis.com/css?family=Pacifico' rel='stylesheet' type='text/css'>\n",
        "<link href='https://fonts.googleapis.com/css?family=Arimo' rel='stylesheet' type='text/css'>\n",
        "<link href='https://fonts.googleapis.com/css?family=Hind:300' rel='stylesheet' type='text/css'>\n",
        "<link href='https://fonts.googleapis.com/css?family=Open+Sans+Condensed:300' rel='stylesheet' type='text/css'>\n",
        "<link rel=\"stylesheet\" href=\"{{ url_for('static', filename='css/style.css') }}\">\n",
        "</head>\n",
        "<body>\n",
        " <div style=\"background-color:white;\">\n",
        "\t<h2>Items purchased:</h2>\n",
        "        {% for answ in items%}\n",
        "                <p style=\"text-align: left; font-family: normal; font-size: \n",
        " 16px;\"> {{ answ  }} </p>\n",
        "           {% endfor %}\n",
        "\t<h2>Items recommended:</h2>\n",
        "        {% for answ in rec_items%}\n",
        "                <p style=\"text-align: left; font-family: normal; font-size: \n",
        " 16px;\"> {{ answ  }} </p>\n",
        "           {% endfor %}  \n",
        " </div>\n",
        "</body>\n",
        "</html>"
      ],
      "execution_count": 3,
      "outputs": [
        {
          "output_type": "stream",
          "text": [
            "Writing recommendation.html\n"
          ],
          "name": "stdout"
        }
      ]
    },
    {
      "cell_type": "code",
      "metadata": {
        "colab": {
          "base_uri": "https://localhost:8080/"
        },
        "id": "31Rdhpf1zAIJ",
        "outputId": "0312a349-219d-4739-ddb4-924efff1611b"
      },
      "source": [
        "%%writefile topitems.html\n",
        "<!DOCTYPE html>\n",
        "<html >\n",
        "<head>\n",
        "  <meta charset=\"UTF-8\">\n",
        "  <title>Recommending top 5 items: </title>\n",
        "  <link href='https://fonts.googleapis.com/css?family=Pacifico' rel='stylesheet' type='text/css'>\n",
        "<link href='https://fonts.googleapis.com/css?family=Arimo' rel='stylesheet' type='text/css'>\n",
        "<link href='https://fonts.googleapis.com/css?family=Hind:300' rel='stylesheet' type='text/css'>\n",
        "<link href='https://fonts.googleapis.com/css?family=Open+Sans+Condensed:300' rel='stylesheet' type='text/css'>\n",
        "<link rel=\"stylesheet\" href=\"{{ url_for('static', filename='css/style.css') }}\">\n",
        "</head>\n",
        "<body>\n",
        " <div style=\"background-color:white;\">\n",
        "\t<h2>Items recommended:</h2>\n",
        "        {% for answ in rec_items%}\n",
        "                <p style=\"text-align: left; font-family: normal; font-size: \n",
        " 16px;\"> {{ answ  }} </p>\n",
        "           {% endfor %}  \n",
        " </div>\n",
        "</body>\n",
        "</html>"
      ],
      "execution_count": 4,
      "outputs": [
        {
          "output_type": "stream",
          "text": [
            "Writing topitems.html\n"
          ],
          "name": "stdout"
        }
      ]
    },
    {
      "cell_type": "markdown",
      "metadata": {
        "id": "0315HhYq1t7E"
      },
      "source": [
        "![image.png](data:image/png;base64,iVBORw0KGgoAAAANSUhEUgAAAsEAAAEeCAYAAABrMcgTAAAgAElEQVR4Ae29369kx3Xf23/GvJkjjhTS0A9SkRROECQ2YQXx2LxADjBATESA7IkQC2MDMSgZ16EdOEd9dWFewpB4x8g1wSiGgT4PIikgNigkBuiHKDlHQJCRBQP0gwejh7nJCeCHAaEA86CHClZVrapVP3bv7j7d5/SPD4Fh7x9Vq9b61Nq7vru6ep/JU0897Z66fsP5z6duhG3Z59/eMfgp39exv6/rJ319mbn+kY981H30Y8+6Z579hHvu+c+6z37u7/JvTxk899xn3TM//XHf39ef/uje3U8u87q5zLa4T+7mmEC/0W+r3CcmDMKIEHKAHCAHyAFygBwgB8iBQ8sBRPCezkIdWiITLzdvcoAcIAfIAXKAHFgmBxDBiGC+jicHyAFygBwgB8gBcuDgcgARTNIfXNIv85RIWWYVyAFygBwgB8iB/cwBRDAieO0i+FPPfcY9+9OfcDc+9qz7yNN/yz11nR8FrbJgnzq7+UMP+o1+IwfIAXJgN3IAEYwIXosI/sxnb7qPf+I5d/3pj/EreN6sQg6QA+QAOUAOkANbnwOIYETwhUXwJz/5aff0DcTvLj75/5TcpPU1idywt/6GvYs5hs+7MSNGP9FPh5gDiGBE8IVE8Cc/9WmEwy6LRwQw+bvL+Yvv5C85QA5cIAcQwYjglUWwzACHF5TzBH2IT9DETN6TA+QAOUAO7HIOIIIRwSuJ4Oc+/TmePi/w9LnLNw18Z9AjB8gBcoAc2IccQATvoQj+9jvfcd9++92VxO0ir4GRH8E9feMZRPCOiODf/u1/RV/tSF/tw6BCDIgjcoAc2JUcWLsI/tkX/6H7bz/4of+3iKDaRJnf/D//pZN/N//u39+YEKz9lrjfuPdvfNwf/vh/OfknHL717/7YyTktLwJVtzfxKfa1/U0JYXkLxEUS/B/8zOed/LuIDeoufpNFBC/OiryCFTlADpADh5MDaxXBKoC9APyLH25U7M0TkCKAv/5/v3ZpQvi3f+d33f//P86T+FQRqp9yTsqoQJ3n+0XOqf3/9hc/dPJP2l+3EP7bn3nBXf/Ixd4E8f984w/ca9/4A0TwJc1OIoIP54bO4E1fkwPkADmweA6sTQTXAtjOfl5E2K1SV2aAL0sIi7hVsSsi9Jd+6QtJ/Mu2ClMtI5+rxDRWR9sR8SvsfX9sQAh/4pPPX0i83v4nX3Bv/tGJ/yfbF7lYX5qKnT90v/ozdcJ/0b3aPV6XO4z9gxbBbz9w7sPvu399SQ8cIZ/fcQ+c+a9oP5x78HbMvQv696/PPmziE5P+vwfvXOj6usi1uXV1j7/vPiz6YYlr/4J91GUh/rgP3dnxmB+SL4uUG7NzVee/5iRF15XvXZbrvLZ/4TfdN776EtfNPKaf+5I7/uZvulvzyuzQubWI4G0SwCoWL0MIS9w6AyxiWNuuP//Tf/4vSShvQgTXAljb34QQfuaZj698g5C6b/x//zaJYNm+iD0Rwa/d+0P35vSLlU/Li2Bv6ys/V9m5qoFjve0igi9ZBL/9IA/614MI+PDsa/3cWrfAWre9bRzMvIB84N5e0Lf0UHCFItg/rKz0ULKFIngp/rskgl9wv/K1N9xXfmG999+NC/cFr4O1+YEILv9+9DYKYBWBmxbC/+8f/Juw5GDOOl8VqJuaCVb7OgOssevnuoXwRz/6bH8wX+BC/LV/8dUkgHU2WI6tenEG4fpb7tU/OnGv/lN740IEW6aI4EsWwdW1MFcArVm0zm2r8svmyE5tLyHCvAAW8XkRzhepG5mv3i+I4EvLTRF3X/uS++y+XCebigMRnEXwNgtgFYGbFMK67tYugdB25VMFqhXA65wJVvtDAlh9WacQ/siKfxnu77zw95IA1puaCmE5p8eW+Uyzt//099ybf/R77qV00XdEsC8TlmH4dtPs8c+5X71njg8to/iZ33KvxWUcUt+K7s995Q9TbKUfN9xTVb3X/GzzgH/3fst9zscQfHr1K7HNdFzqZV+DLSv++9uLi+A4a3MmX9U68zV7+Ao/fsnumllNrzT0bP7q0w/8+bCZHdWB3dq1X/nq7FH4VBPpK9XUzznesi0zS6gCxvpYzQiWdbP/Q7nYChr1N/uT62qseq4qO+ZfR/AV7Wv96zecDVGYPfhRtRTE27Kca9+Cj4V9z7ry+brtN9fmQ9M/ZT+6Yka0tFUuXSnP+bxrglxwyYfhlPtG+8TErcnmOjmkcVU+2OuhzKVgoyoer4MO+6pgyHctZ1nYPhTf7bm6P8pzlq/2s23WxvKUz5cEJPhtC/ski/yr49lOlTtSzlx/oZphrYzls2q/tpk9szy0PRO3zzebg7Z8zoHP3pm64zsvhLFIlkV87UvuV776hvvGN83ssBz/Zjj2jW9O3a98Ltd/6nqYSU7njaAW2+n4N9/I7Uicsa1bqUy0a9uySzSWLa9tdP3W2e+X3Fe65yU+e+4N95U7LIdIX/urCKxF3rx9eWOCirOLfuq6X/kR3KL/pM5F29X6GqfuX+anCuBFfdBy8nmRH8s99ZGPriRYf/t3v56Eog5CKoJf/d3/ayWbSQRfv+FkOy+LqESmF8B27XAQmVZEWlvqX/6MojTNNn/RvRS3vQBOIvWG8/sqsL0Atu1+0f3qEiL4TWP3qetBAGfxXcVoB49qe1kRbAcpHWCzAJXBxQwifhQzg9jx992ZX+/6NXf2IM/A+gE3DX46QJl6hR0dsEw7jYDLg09p+4bTwd33XxhlnRVeoSkVT/P8zG3kXKjse9Y68Oby2qyzYqpXVgsaYVj45+M2nK5X7UvhxLU658VRZui5yLONLs0Q26auxljw6/jsm1Qb17/m3n57YKmHqZvajMtDUj4VS0dCXui5wXY6TNT3wc+KU11uNIcMp7cfmP4Qu9rHtV9vv5OWbLRMF72Oxq6Vklm4XnOfywy48qyvZc2HdN7HonXrnH7Hva3r2Os4/QPYAJNOf2u+hubyPaLoE9+G+iLX1TvuzOdcvDeY68XP8msfxPZSn6QHhGwrdJle/3rNitAzojYK0GJphD9m1sJGMRpmjoOYTCL6+g13606YVQ4C2NSLojLZjm1p3SSYVfj6mdfWt+XKm/Y7fn/DrPG9JcI/CfgggJOvSegbe/46V46793mhNcErieA1vjXikEWwsLdrjccEuIpgqSN1x8oPnV9FBP/Df/SLSQCL8NWbnYpg+ZQyenzRz1K4WlFot4NAtoLX2xdhbERmaau+kFvRHHysxbHUk7bDrPSwzdK/1p+O3cpfqSOCu4mrc0NaVgSnQVFsyYhhBIC0K4NnEDX1QFlzM/vFwFkJACOWQtt9u96VJL7Udq+s2I+Dcsf/MMNkBm3LrPBT2yg/W0HT80HrBJEyTwTWfAv/Ov4U7VfxFefi7LD259sPPnRnZw/SA0HuR/U1fNY2nqqEjDRpHyrCtVDaSMc6/vucsiLG8Ld9PNhOz6axkdq2xypOZZle/43kULJtctn7lcWWbaNlaupVfG29RtT6do2/nbiG+lXsWr6tT8Zu9CnnrenfUf5zYov+vt35QaeN2/ppjxfXRuqD1m/NeY25yNcOMz8bq6JT7BZCMcQu4lCFZ/BJhK+ZtU3C0bCKojGLyHDOC11tr26rFr21jSXLz/W7ti2x2+UOdVv1+dQHNubd2r6QCLZfs8sMr+wPiaerOn6VyyFszMLmvf/wH52sI7bHL7qt4nbMzqLlxuysshxCXolmBW9ve5VXptUiM8/KWpHZEZRy4fpZ2ryEorZV3Hj9hR7seN91pjfOzrbxyOzvQLvelvUv3jAKkdvW9bGZpRCpzeTL8I3nIiLYD5T5e8e85UWMHew67ctgU/ynwrNfT4rPE8H9wV1s9f6LYqQ34PnZIfUlCv3ChJ6rbMeHgfniocOhEA12wO4/ZAThE30o6gbbRftVfMW5Ytb4HffA+y8xiW3xY1HBVvlsl16YB6Syuw3/gm3cSfWCbVvECq9kM5XXr8m1j4RJv5+Ka7jiVJyr6ydnTAxN+6mQzK3ntzz4/grnrBCr+6UUt+K/sVEIi/45CUfse7vWFd1ODxnDfFuf6n42dZO9Hn89po3Lp8ZT2UwdavuvvmaqOpbHQD/6w2amuGZvc6r3YC9CsRCqjfirljqkpQOhXiFqrb9+1tfM4uo5a99u+/My+2pnWnXJQuS0VPn5fusSjiJ2I4K7cZnz5XVU9+Nu7F9IBItg2mYhvEkBLLEv8sM4FZW6fEE+9dg6PhcVt4uWG/PpxpI/jPvCF7/UCGC9cJKQi+JOyuq5RT5b4RrE42tfkR/L5WUIbbkogheeCS4vZrEXll5Ie7md2uduu/4mt7wIfkpE8gKCt/ZB9i8igufN2tUzhEXb9WBViLnewG4HPrud2eeBLh8LPuiAa4/H7doP4W99qc/bczpgVZ/j4qHyo7BZxVa3X/tX1A12i/ar+sU5a+vtB2kZhFR58Lb0QV+INDbmzFT6slYgVqw868HzFYtqptLmU9FOh4kt292uOJVlxI8Fc6hpu5fL0k9yXB/q6mUqel7bbDlk/3r2TXnfmfVX+5p/plzsF48hfpuyTD9LvTSbWjOo933sA7HFfvAzwQP5J7FbPzOL6to1uSblhx6gJc65Irgn6hqhecM1Qtm035s5Dn5XAlbriP2hmWAvnNclgkf8XmUmWHwvRLrm225+XlgEi2jaRiG8aQGscf/38//p3xAx7xVp9l3CL/0f/3inRfAzzy7+irRPPfeZ4pVoKnr1pqb7+imvTJM6en7ssysy0w/RjDgVAWlE8VPXVSznV6J1bekNS2Z8jQC1637z7HPnBtC0q2uC6/ZFFJ+Y5RnhfF7/K7ZDmfJYp83kcz53IRFcDeZ1n/iB1A5mcU1wPcCW5YJASIOqzlgmsRQG72KZQBiF4xrLcF4HNm871c1xe199PR0g5VynrpnlKv2sbCnbwpc8G6ezT8Wa0dhejrUSJiP+1WIqCHgjSKS+ib3mrg8JH1qRJ4L4Q3l5axZPIaS4Pze+cg11b1atzJGSd3muFnghL0K/zmmnEV0D/aT9JZ8Vp24eGI6Fn7au3Va7OutZrL8t+7ntlzL2Ju/S2vqxayWc19wr/C7EqDCyfHvC3Pr8jntg8qPwv+Y/j0n9AGXK1jHLqZSTfkeFdPB9mTXBloe0o/cKz8f4IPsy21kuc+gvh/BCd1D8hbWz1s5Sa4KLpRTrnAmOsQz63RHp9qHAb9tZcp1ZtiJ9gevPXotbtr0WEayCUNcIX/XSiMsQwDpjagWu/ODMvinin33pV/2P0HQWdp5QVnvLfqrtsXqLlhuzs4xI7b0STQXv0Ocyr0wbEq5h6YARwXLReUE6580KPfGcLtYgSpPPZgZZbqLiRzonYtYI5rrdJGJTe1L399xL4l+y2xPBuoTDtlXFmPwtb0oXE8E6+9L7qjO0EwYzPa8DVxy84+EPH8gXvjrzKOfi+lStls6JzTgY61sqfBm1m8/bgc2PmclWNZh++H0nS2HTf2ZwV2Gg50o/S45WYNj2Pjx7p/iDACUP44vvHys0sjgb9q9arvHh952fRdMYqgHdt63nYj74Y1bgeRFjHwzimyVMvXnx2XP5B0jDrGrGwlpFSsnqgXsgmj7OVM5rJ50zPtv+abalgmVQPQxJ+WRTk0FtF3VD/2kRcTgtZYhc9ZzGEXzJ10OIPV4D5o9llCw038eulfnXZ2mz5OvPaYxNblZxFuwMK1+/KmuZ6LWsP6orWGY7wsTzt/5UHaI5o/cH5VzmYHV9Fb9hiDla+CCibmS5grmv+uUBZilE/gGZ2A5COL0FQmd6o9BOx+3bJsR2M+u8ZhHcaT/7PSKCxb8ohIP/U/crv8DbIQZnMusZ4TFBtanz+oM5+RRBvKl21O6/+I2vOJ0RVrFpP+XcJgSwtK/tqC9Dn4uWG6pvjz9945nR2dp/8DOfL4Vhbz3rwDGp2wxi5kbEuXmCoz23uAhu626GdSsAynbagaw8f1l+bqKdsdiXa7MVMsvV3x+uxE1frpADjQBdwQZj006P12ubCVaRpEL4Im8gUFurfor4vSwBrD5K3LJGWGfDRfjKmxjkmJzTcuv+VHG76Oc62v/kp/72Tif9oQ0WiOAtGtiKWaiL+rXPDwsXZUP9Q7vPrRLv3HW+iNuDGOfXLoLXIbKwkf8gyRiL7/6HP0uzwWNCeJ0/yltkNniVmxJ11j94I4LXz3TpPE1f7erX3BfxyXz9bL8+ZtA+iEF76dwjL8gLcmAwBxDBn1tccI4J0kM6//ynPzuYVNykLyJwqEv+kAPkADlADpADl5EDiGBE8MpLNT7BsggeBJhhIAfIAXKAHCAHdjQHEMGI4JVFsMx8fwohvNs3v6ee3m3/d/TGexkzHLTBTBo5QA6QA/NzABGMCL6QCBYh/PynP+eevvG3EFM7KMh+SnxGCJO7O5i7DO7zB3f4wIccGM8BRDAi+MIiWITwZz570338E8+7609/DEGBoCAHyAFygBwgB8iBrc8BRDAieC0i2P4oUP6gxrM//Ql342PPuo88LTPEH936C4En5vEnZhjBiBwgB8gBcmCfcgARjAheuwi2gpht3j5CDpAD5AA5QA6QA9uYA4hgRDAimBwgB8gBcoAcIAfIgYPLAUQwSX9wSb+NT6P4xCwJOUAOkAPkADlwuTmACEYEI4LJAXKAHCAHyAFygBw4uByYPPPMM45/MCAHyAFygBwgB8gBcoAcOKQcmDj+gwAEIAABCEAAAhCAwIERQAQfWIcTLgQgAAEIQAACEICAc4hgsgACEIAABCAAAQhA4OAIIIIPrssJGAIQgAAEIAABCEAAEUwOQAACEIAABCAAAQgcHAFE8MF1OQFDAAIQgAAEIAABCCCCyQEIQAACEIAABCAAgYMjgAg+uC4nYAhAAAIQgAAEIAABRDA5AAEIQAACEIAABCBwcAQQwQfX5QQMAQhAAAIQgAAEIIAIJgcgAAEIQAACEIAABA6OACL44LqcgCEAAQhAAAIQgAAEEMHkAAQgAAEIQAACEIDAwRFABB9clxMwBCAAAQhAAAIQgAAimByAAAQgAAEIQAACEDg4Aojgg+tyAoYABCAAAQhAAAIQQASTAxCAAAQgAAEIQAACB0cAEXxwXU7AEIAABCAAAQhAAAKIYHIAAhCAAAQgAAEIQODgCCCCD67LCRgCEIAABCAAAQhAABFMDkAAAhCAAAQgAAEIHBwBRPDBdTkBQwACEIAABCAAAQgggskBCEAAAhCAAAQgAIGDI4AIPrguJ2AIQAACEIAABCAAAUQwOQABCEAAAhCAAAQgcHAERkXw+cmRm0wmw/9uz9z5wWEj4N0hcO5mt+v8PXKzR+uKYNP21+UndiAAAQhAAAIQsARGRXAo/MQ9/FYlhm+/5R4+sabM9o9P3au/f2oOsAmBKybwl/fci+lhbp0iOMa1aftXjI/mIQABCEAAAvtGYEER7Jw7mxazwUd//HCAxRN3enzTTY4RwQOAOHwVBB7N3NEmRfCm7V8FM9qEAAQgAAEI7DGB1UXwSW8RxBP3wZsvu2siNhDBe5w2OxjapkXqpu3vIHJchgAEIAABCGwzgTWK4Mfu9OsvBgGMCN7mPj9M3zYtUjdt/zB7jaghAAEIQAACGyOwHhH85L6799K1YrlE/jFdtf7y8Qfu3eM77uYN+bHSNffsS6+42V8+zgEWYiL8oGl65pz7m1P3+i8960X2tY+/7O79QBckP3anr6m96+7WV99z7UKNx+7+G7HMtWfdy2/cd48fv+9e+fr4ko32h4FTJ7We/NXMvfLz191kct0dfeuD7P9Pzt37b9x1tz4eeFx/4Y57/c97s+bOuYLFxE1u3HRHX77nTv8mmwtbT9wH35m6Oy9IexM3ufasu/Xle+792my1ZGUyCeyzrxN3/edfce/9KNr/8Qdu9tVb7tlrwaZwUaq+xLrtmbDO//yeu/tS6E+J+85r77vzn+QCp8fVj9n8DzCfuA9OXnG3JHekH187dSZzcmXpg5QTMce+e298OUTRH53c1BZWsf8377upz5dr7sXf6OWoGucTAhCAAAQgAIHLILAeERw9LYRLbznEj951d7z4vemmZ0+c+8lD95b/5X7c14gfv+fupvWbEzf97qmbvlCJomt33XvnD917v36zEd833zCi1Dn38M1bvszdPwmS6fEPZu6u2Ov5qD6Yz8d/cte0MXXv/+CeuyXCUX3UN2T8+NRNf1bE7zX38olI8cfu/d953uwbo5bF9x4795P7bvpctHntVfd+UqNxjfVk4q59YeYeilD80cy97NuvuIn5+gda39Oyxt8XXnf3H993rzcPLtfc3e9WsnLd9tyT9I2Bj0co/fmr7nmNzyD64I0XDeN7bma/aYjsb32rfuR56GZfiA9kP3/PfeB5vevuKltfr3owkzZtf8zLTbea/fphyj/YmVjZhAAEIAABCEDgcglcogh+6N76+SjEfvndNIOXxMFzr7v7KfZTN1WBKeLoZ19x78rs5U8+cPc+n8XczReO3N3vPPSzl4Vg+sczMxt8370eBVDxYz4RkgvMBHuXihnRm+7mr7/lxejDkzvu+uSau+Vngp+4978axZeNJdW9495NM7zmtVqffyv5+sG3jtz1iczWvu7uRxH85M9eSUtMXvmzpIzd6e+oYL7r3kt2nXPFTPo1d/22CF5RmvbB4pq7+bN33Otn/oR779cz08nvVLPja7aX43nevf4D7fDc33e+k0V4yg3JhWvX3PUvS948caf+wSL6rA8g0ZStY23ldqVeLYIXz83V7Ms3GcwEa2/zCQEIQAACENgGApcngs+mSczZGdgsKvqiSGZbC/Fnvya3gu17r+ZZw0lYshAA33fTNGt7zd36evm1+0KdkISsCKhrrjuLZ8WiFWamrs5Eux+87mc+/UyyjaFxxojlyaRo9+Ef51fWFbOh1o/Ji+6tv1ajpS37QGBtTazvUnWt9qwPVohmETz58nvtA5J/IMoPETlnJm5iHiKcM2K24lXGYdsObz7xP+aUdsy3A7kdzc0V7WsX8AkBCEAAAhCAwNYQuDQR/PBN89W2meVNSwomE5dEojOiqBIzg0sujNicFCLYufu/Xy6ZkJnl2V/lWdXR3ihs33Xv5cnKVFVmGm0sve3nfz/MdRcs5ongYvb2yM10La9zLgu0ibPCcVjsWQE6cUfm7R6Frbki2IrHFew9ed+9MtD3iZeZRR/yqzhu+7rmZf8gRiHmbRyyXGbB3FzRfkoSNiAAAQhAAAIQ2BoClyaCC/H61ffLH2A1ONYrgmWGsF07fNPd/ZN6PWnjSDhQiGA7y5zLF8KsmJ3MZXSrYFEs3dAS8XOOcCvas8J1sM4KolXcWKe9wpadpa7ijrtDMRbHrQgu7JdCdzgO54r+mJebK9rvR8dRCEAAAhCAAASuksClieD7X4/rZWUm0Mz29YNftwiWVsKbBV5MSyNkaUP+ir3vRzy6iAj+9stmJrg/W6xtFCzm+TBn5rEQgmYJwbDY2wIRfP6ue9nMBOeZfyVTfhYxGqFfHLciuLBfzpwPc3Gu6I95ubmi/TIq9iAAAQhAAAIQ2AYClyaCyzcsPO9e/V65HOHJ995ys7R+dRMiOOI+f8+96t/gEH5Y1V3fW/fMAiK4WOc7mTi75tab+9HMvRV/2FYvnbj1ZjUj/eNzd+6XXNg1qLouNThnZy9ftPUHZyu3QAS7/CNFv/zhtv0Bo8T10M3ezN8SFGJ3ERFc2S/6dpCLc4vnZun/ovbrdGIfAhCAAAQgAIGrJ7C6CO782WQrzOQHVg+fPHRvHc+cf53t37zn7tpZ2Gsvu7d+EBbXPvnrd90rX8/ix611TfCpm9Zi66/fci/6GclSWA52xyIiWARY8Rq3m+7V756HZR/yjuPfyG+BcE9O8+vQvB+27H331i/fce/G9awi0PRHW69+Tz2UN1EEET+RV8UNvh3CLgnYBhHcrs+++VvvuXN5HvrJY3f6+6+YH/JV654XEsGl/eLh4K/uxT4Xbi+6e3+pLOXNDYvnpl1fvrB9aepH78X3SvOeYEOeTQhAAAIQgMCVEVhQBD9xD7+V30YQZvHecg/LyVz35M9fTYIt/NDpmvmxm3Pn35FXikXxZj9fmLrTHxsGxTKAibvzbf2rEI/L13n9unmTwLfvDCxHCOJPXhX2/qPgcH4v7btBoJume5vlTOFd86qzsvST//q6K5dbqFB9ufhRm9R6cjZ1Ny2DtF2/+/c8rWfuvSe4WddcvNf3eTf9r9HH6vVyL5p3Kd//urzLOPr6+fhuXQ1t3fae3Hevm5n41G56t7I27Fzx2rvnpu5+/GMaxfHJq+5980c2nLyrWR9GnnvVvS/PWY/vu7eO7xgRHGO1b4JYNDdXtH//tfiHTiLnYhY5h8wWBCAAAQhAAAKXRGBUBBdfSatQsp9mhs6vu/3WnfgXyF50r5x80PwA7vFfztwrt28GMez/8tlb4T22GnDxtXUWzEcnp27m/7BGPhbE+MydnlQC3funs6Dnbvbau+788UP33msvB9/kL5Qdvxf+8IS2O/A5FL99u0JR9fx99/ovvxjamVx3N395mv9CW1FQXvEgZSOLWPbd7lsrHpd/MU7L2r+0J7aLGevMaXpWLi9JwvP4tPxRWOrX+OO/ddvT+ONfXHvR/FW96XfLJSHFtwrGr1m3r6sfK4ro/fKtlGP+LwT+aObuvPCiu/PVe2723VP3wbm8cbj8bzQ3tfgq9pkJVnp8QgACEIAABLaCwKgI3govcQICEIAABCAAAQhAAAJrJIAIXiNMTEEAAhCAAAQgAAEI7AYBRPBu9BNeQgACEIAABCAAAQiskQAieI0wMQUBCEAAAhCAAAQgsBsEEMG70U94CQEIQAACEIAABCCwRgKI4DXCxBQEIAABCEAAAhCAwG4QQATvRj/hJQQgAAEIQAACEIDAGgkggtcIE45e5eEAACAASURBVFMQgAAEIAABCEAAArtBABG8G/2ElxCAAAQgAAEIQAACaySACF4jTExBAAIQgAAEIAABCOwGAUTwbvQTXkIAAhCAAAQgAAEIrJEAIniNMDEFAQhAAAIQgAAEILAbBBDBu9FPeAkBCEAAAhCAAAQgsEYCiOA1wsQUBCAAAQhAAAIQgMBuEEAE70Y/4SUEIAABCEAAAhCAwBoJIILXCBNTEIAABCAAAQhAAAK7QQARvBv9hJcQgAAEIAABCEAAAmskgAheI0xMQQACEIAABCAAAQjsBgFE8G70E15CAAIQgAAEIAABCKyRACJ4jTAxBQEIQAACEIAABCCwGwQQwbvRT3gJAQhAAAIQgAAEILBGAojgNcLEFAQgAAEIQAACEIDAbhBABO9GP+ElBCAAAQhAAAIQgMAaCSCC1wgTUxCAAAQgAAEIQAACu0EAEbwb/YSXEIAABCAAAQhAAAJrJIAIXiNMTEEAAhCAAAQgAAEI7AYBRPBu9BNeQgACEIAABCAAAQiskQAieI0wMQUBCEAAAhCAAAQgsBsEEMG70U94CQEIQAACEIAABCCwRgJLiOBzN7s9cZPbM3e+RgeyqWD/6GQz1nM7Zuts6iaTqTs1hy60+WjmjiZHbvYoWzk9nrjJJP47XkNL3ueyjdxa2PJtLtxW7NeFy9etsb8IgfOTIzepciPV83mzRI74HIjle9fj2PnU8AIbnZwerWXjuej1te5rdNR5CkAAAhCAwKEQWFAEn7qpCrneoHsotObFmQb+LFBFjE7PYqV4Pu3PszV0Lomb3MZQ0cWORwEsfYsIXgzZCqXyg1Cv38K1pXkx+gBTiUJf3l6TY+eX8b+T0+PVJR59sAyxrfxgm/Jd7Y23TgkIQAACEIDAogQWFMHBnJ/NsgPuoq2sWu7RzE0vc2Z4VT+1nhcNKnTO3bmZEZYiIlhWFgTahhcG2oYevMjn5maCT483LF52KT+K3Mj95a+p4gFEhONQ/4a+UsEcrFgRPXY+t7vw1oDfg/UlP9d5j6hEvbS78bwaDI4TEIAABCCwTwS2WASHAf3CovEye2uuYJB41iAKd0UEd8TLertix/Kjmxu9GHrHlJwVvHoslA8z+WPntc4Sn12/h+uv/UG5zqN6f9gVzkAAAhCAAATmErgUERzWQ1ZrGP3gKsd01ssM4OlcrKNl6uNmxim0ISIz2PHrcP0MWxQJ8pW/KS9U6gF72MYwwxzbkZudtWuCQ03xQeMctrXQmSSCh+IKx8uHB8NEl7WkJRDRjrDytgPzcrbRtDUpZ7NT/Men7vxk6tdD56//Y/8VM50aZfYzl68ZVX5r/9V5oPmhfaoxavl0vJcf6k/MB60bv9JP8cnxZC/7VXLKtpot73M/vtqG59FlFtot+9b0X8z94fONV90DOeZ+TufzlkmZI/76i7xy/9rcMuVjrMlu4uxiToaHx9oOS3i63cdBCEAAAhBYkMCliGDvixcB1UzomUhW+a8nKuoBP4umbC+suU2DpxcwsY0k6FR4BHsqOFKdOOCm/caG1vetlv8rZqXO3ez4qPlhnKsEm7ZfGlpir44r2g92s7DIQigeU1EVyzfnJe5YxouNJESkvmVgOIotLef9yuUCz6q/U5i5v0Uslb5rHdOOrxfraHsdwSdt5rjC8hOJaZG+9WUq28oj9GGOTdxRwZ9CGtvw3Esbmvd1TgyL4BiTEf1qQ+MOQtG2E7jp+TE3w4OQ9kGb00OM1W7JsRSxUqbNrZx3cn6svj+f1hxrq3xCAAIQgAAElidweSI4DoB2wD89s29L6Iue7uCdhKAKKJ3F08HbuVa4tGKgHnCbAbYrXBRyEJc2niAgrADRsuqPnTkz55bZrMSmiqDsR/Arc6u5VqLY1fuVEDGs01suVDBHQZ3bzoE0LPOpuNX2hz4wiL26b3ylIva6ftgvfDQPNI0/Rd9K3YF+U2/lLR/6ICHMjpd8S0rRnsIIPpf82v7Q0uEznvex6Tcl+Tpw2p+D50tr5V6wXfjTYT7EWGx1+803YvxODxttrE19336+rpt+LANgDwIQgAAEILAwgYuL4FokJaHQ8UHK6gD4aOZm+uYEX7QWBGE/izkjJH0bZflmcGxER2uvHnDHbZiYegKwadOUnysQpFzwLwuMPPAXVgpRkutl4RKEheVWxllyS6LJ9FtR3vZZ4UjYCTOP7bKHhmVTt+0PZSCxlDOGsXLBvK4v+8NCtvHH9pXdbvyMByz3s2l+68dQ+fp4t422r7Q/bP/Vpux+0Vf2RNweO19UKfjGM4Xf8xlLjV57dna6PI8ILvizAwEIQAACl0rg4iJ4KXeDcPEi56SeScvngsmwn8VA/7yKPz+42q9Ji8FbLNb22gF73IYNtrXXzj7b8vGrYSM2q7OL7Vox5mvUXHrCKpRRgZ2ZioERIeLbGxDkxuPALs+WNixN2bA5n1+oX4naok/r+jWHssHGn44tzaWypu5lTiu9naBoT23GHLQ5MVAu1zBbY2XHzhtTYbNmqg+e2g/zGYsNz1kfdEf3M1N1pa5fLs+I9u11rhX5hAAEIAABCCxJYCkR3J2dW7LBMMgddV59Vg/ARsydzdzsUXXei7P8NfB8kSNOVvV1gDYD6riNMlg7w+VbSH8YQ0WDLS/x9I7bMgtsLyiCi6/u57Y7JkTieSNshOVMXl0nIssIOM9P95N4PnezE7vsRWMM/ZG+GYjLZbLfY+fr/FCBVDI+jQ9bY30b+tKK/c6Sh5hz5UOExjPy2fSblpc4s8/eD2WoRTqfIZ6c/3WRsfN1ed0fy+lgN/sr9ZSxbNecy/02l3x7Kbdin8tSDj1WcxvNK42ETwhAAAIQgMB8AguKYDM4+bWG5SA4v4nqbHd2qrSvIiMMyHl2Me2LD8fT9Ac8bv3arfxX2UTU+jbsesnWvoqEMDs6dX/q/6KX1unZqOLwu3FQj+svpyf27RBlm/ktGD07Cx6LIiz4LH1QtnF08sPwV/2iPyooC256zguv0n8pX3Opf7iovPxxeU/vbflLaIabhpL6YChXgu9Hx1N3pPVV+KiNeolIJQ5TXOZ4OhZtyuxuE1PyLfitM8C9uskVvyG8bDyZn9ooy4e92q7mdypr/TGxyPngu7aZ20siMRnxpXP/NyzL88P+mjbkR4tFTofG6niCrbKe5ISP08Y2OXLTY82X+MBRnJ+6mVyH6nuT7zozLf2mTAoA7EAAAhCAAAQWJrCgCF7YHgW3jkBnRtP7ODRDe1kBRBG8S38MZfAHcXFm/LLQXbidXfP3wgFjAAIQgAAEINAQQAQ3SPbrgJ9J1Jk1E9rSr/gyddezuYMiuPODuDArapdRrIfOpqzsmr+b4oBdCEAAAhCAACJ473Og/Zo6fVV9ZbHXyzjOr8yT0Ybt1/XVUoXRuhSAAAQgAAEIQGBrCSCCt7ZrcAwCEIAABCAAAQhAYFMEEMGbIotdCEAAAhCAAAQgAIGtJYAI3tquwTEIQAACEIAABCAAgU0RQARviix2IQABCEAAAhCAAAS2lgAieGu7BscgAAEIQAACEIAABDZFABG8KbLYhQAEIAABCEAAAhDYWgKI4K3tGhyDAAQgAAEIQAACENgUAUTwpshiFwIQgAAEIAABCEBgawkggre2a3AMAhCAAAQgAAEIQGBTBBDBmyKLXQhAAAIQgAAEIACBrSWACN7arsExCEAAAhCAAAQgAIFNEUAEb4osdiEAAQhAAAIQgAAEtpYAInhruwbHIAABCEAAAhCAAAQ2RQARvCmy2IUABCAAAQhAAAIQ2FoCiOCt7RocgwAEIAABCEAAAhDYFAFE8KbIYhcCEIAABCAAAQhAYGsJIIK3tmtwDAIQgAAEIAABCEBgUwQQwZsii10IQAACEIAABCAAga0lgAje2q7BMQhAAAIQgAAEIACBTRFABG+KLHYhAAEIQAACEIAABLaWwIIi+NRNJxM3if+mZ+uP5/R44ibHp+s3vIjFRzN3NDlys0eLFB4rc+5mtyfu6OQ8F1yr/Wx2Y1tnUzdZGw/xMuTPJvLmYgxCX20yr8f8Oz85cpPbM2eypVvFXx/x+ityq1v6sg4uf18Yi2Ps/PzIyv70nM6mbvvybn4Ui58t49U89p9XcS/1942pu6K7+OLYKAkBCEAgElhABMuNNt/Y/KA9mezxwHKR3MiD0vYIlSXj8QOZPPCs66EgC6VtEyMiuNQnL74WEKNL0pxbXK+lMREs5TSfQp18Pc5tYKMnl78veMZJnIW80LjE1bHzY+HUfah8tY/H6u/s+Vp86jWcWO9sZDgOAQhAYKMExkXw2ayaIY1CjxvsQMcEPnZwHyi48uHzk2nVJyub6lf0g+i6RLA0sY0zweLTOmPsoxw76oXaXPEd8mnrhNyy9wX/bUgl3q14Gzs/BnIox/Z6JjhCsRzjIf9AsAX5PdptFIAABCBwhQTGRXDHuXLGplPgoA9tWARfxtKKQxDBl8FxgetgXARv4wNEP7C594WOUHO+D+Js/Nj5fpPmaHw4n/tAYYrv02aH3cHMgu9TPxILBCBw6QRWEMGrzUyFmYm8rjisX9OZuFo4xgFNZpv9DT7UK2fDYhldqzxnZloHZx0YpO3CVmcQse02SwOMT2KrnPWtY3ExBjML5utL7CaGYvAOwicwkthDXeu/P5fqGDuNPyvklPp3JmulY5+ltqK9uQw0Zu23LOSKGJLNHG/RL+p6Eqy5XLGEQP09kbXME7PG1pQ3fV744OPTPHSuOJf80+NTN5M1vFIn5eaRmzXtzusPc+72zJ3OWxNcMZZ2lU/hpzkuyMK5ytc4Uyq5muvGuE07al/RL/4Z4hqsr31k1903Ijj3g2/Xnl/EERNHeU1KZcM9zpDae5KWT8f8/aTMH70OgyvhXJdn9FVtSZnTY3P9F77k6ztUi36m/NJrKBrtffi4rf24tCTNBKuvs/jbDuVsmZT3Mc2h05g3Keet7+b6ELd8HX/M2I335ZRzqc6cOGO/S5vaL72wOQYBCEDgogSWF8Fyg0o3skWbP3ezY/PjnzhYhQEz3zDDDS/v5xtvvKmndkOZdIMs7FmfSltaPgxOtQAwg0gxqEQb2nZxLos9ta2DbdqPvqUBNO3L4BZ9qAZ7718cPHQpQWlPBzGJVfyz+2HAGxQjFs/QtvqoMeugpD6NMfDls08i9ERMJ5+q8z6KoSUe6osXq7GPrD/2vPrn4xIOpk/rNuv9OIgnzmaNahrA7aA82O78/ij69tHMTW+P/TCu7c8sNkIHqn/CV7dLARFs+OspxWCuDStUtM+HcmPouPCcWzf6YMt4hponY+eHGq6Oa274fDE5F4sV/OWY98HkiTt1s/ij1rJs8C/kxxyemoNi13JNuRi45zzTfhAfdDsIX63v/bDcqpCbGDQ3fR3rq41T2lL2YjCUq3OovW9pnVxeaqe8S37GWJSHlvHn58Qp/aY2mr6pA2cfAhCAwMUILC2CT4/1Jrhiw3GQyoOA2Ak3xXxs3g00Dlx6oxx1o7WlN/zUXnGzDeWTYCvs136Gk+Ug1SlT2NeB13IsB5TUpBnQS19NXR3w4qCvQkcH0GRrmQ1v07ShA5gfyDvxqWCMfSI8kr/SbozDMi0FRvWQVPs6158eTzMoV1ySX94nG6MVC1GE+LpBOIRB3oqIfrvlNwjGjogB32Zpo8ydOnDZr3Oj3pcyoU+0z7u+mplgbaXsA2VW+qdlxz4Xui+YfE55msRhzpN8Tvit5o/th9TnEkT3WjRiuVnrXPqVbYV+yPvVD/s6OesZ1u3LweL6KPtSTvv+nHe/8zZNrlkh6RttfbV8Ct5d4a4+tteLjb/0cyyOsfPaV7ZNHwz/gwAEILA2AkuJYLnJWSHjvahvwObJv/Uy3Ix1sM7nww0x31Dn3yDLm2220t9qbaloSO0VA1NPZKjlzmCig1QarOtY9GZuBnPfnr25121GTn7gq+zVdWV/3gCprsunr2sGy6G+qttIdSWGMQa983V86ktkMPbjpbn+VLZivD5HhuKTMl0RbPskGrL2Uh/Hg0N+DfSH96myMZ7LFbtCMGUfrZjutaNiOuW8PrgYRv16uY2hLanX3BeGCqfjVV6n47oxdl7L6ee5m53UL+cKNkohbXmGhy+7JOX0xHxjFXM9XF+1P22elw8V2na43pR7n7G1FevV/TKQUz56n4fm/qJI0qe1Hw9KnTk2Gz+710v5sOvrJJtjcYyd71/XKSQ2IAABCKyBwOIi+Gxazu4t3Xi86aWbpDUQzulAoSLViuXiBjt6029tW1sqCNLAXdirfenYqmIofGtmtfVmbgYp354VXNXAXLxnuPKnrlv4bn29wHbdhgp9H3e/HzODeN4M4g1v71ouV66X7Pg91x/la3kuMHs2MKinnKjc8PFVAjY8VJTtNjON1s5YHLZs2ra5IQfDfpnP5Sxk19fOw0sp2lacCV7xvpDzJQVabIydLwr7Hcknc41pgc71keJ+NHMzeed5yoW8FELvQfU9Ke+3wjLZ1bbjpz+uy1C8P2bm2ZexfZyvCzUzyqITo9YNn62vc/NUr3eb74mRWm5tln6OxTF2vn9da+t8QgACEFgHgcVEsNxkC1EjA+Zyr+nyN0hdAxs9Pz+ZxRer1zfEer8WNeEGXPgk6yvtH6hIdKItc0Mvb9btzbbnaxJqcRCrB8MsnlrfG7HkbVjxNGcQ9IOPmXExg1GYtYrtFcLcDuYJxOIbMcYUU/Qh7Y8wCPzyQK/78rVrsiHeNHYGXGzKWV5qx/IUO/0c8aJHTtcxpYG/tKMzgyGGSmR5v8ryKp7KWTbtj+hT6qu433x9bTmEMjnfVKwaliYnpGbX102IYIl/6ftCez3aaBM/c72W54f2enY716JU9/02ddM06xvKHd2297SqbsyX3A9tvxQiuHo4kHOhbuun76+UE1W72p/pfCf+bh7acq2viXNhV/O0k0NVjun1lXm0dTyPZL/O9QXiHI3Lxsg2BCAAgeUJjIpgK2CKtWPp5rZAo/5mZr6GT+s0RVTooBDPH/+p/4trqa3j0/yjC7NGU2/CqdzgoKk326n5q3dGzBS+ZUFTx21v9iretO0s7OpYyrdb+B/C/fv4BgMfi7RnBoc4W1S0fXvqpreVjXzdm8vndvOx4JOJb4Hu6RYZ4JLKFueNIIsFdPZL/Dk6Cb9Kz/6qFeGVmevR5tO3deSmx/HNDDqrJgULPypbUbhoP6kwLfhWAtT6LfXE57J8ZDuvXdNHTX8UPsU3OAxdS0UbkgO5X0ufctzlcS1f5ofkchGnvqXCXpfJT7VR9krZjrm2UyzxWtD9ZE/FYGlPH0pCvnT+fl6q3/fHizq/HKKMtRbpodVQxl7TPh71NbpWxFhch2+ae0mIp+Z5LiJYfvSoTAvb1X0inauOD977lF1V3l4XWqTKRRuzvZfYPC3ilpxL7EM/T89KxmKzqSPtF/Vsrld+9+Iscj/ndwqLDQhAAAJrIDAqgtfQxhWbiDfcasbqip2ieU9g5AdxSskPiAyEiuNSP3s/FLtUB6rGts2fyj12IQABCEBgdwgggnenr/bP07EfxGnEiGAlcYmfcbZvax4et82fS+wKmoIABCAAgY0Q2HMR3H7tthGKGF2cgP2KdBGBxdeii7OlJAQgAAEIQAACCxPYcxG8MAcKQgACEIAABCAAAQgcEAFE8AF1NqFCAAIQgAAEIAABCAQCiGAyAQIQgAAEIAABCEDg4Agggg+uywkYAhCAAAQgAAEIQAARTA5AAAIQgAAEIAABCBwcAUTwwXU5AUMAAhCAAAQgAAEIIILJAQhAAAIQgAAEIACBgyOACD64LidgCEAAAhCAAAQgAAFEMDkAAQhAAAIQgAAEIHBwBBDBB9flBAwBCEAAAhCAAAQggAgmByAAAQhAAAIQgAAEDo4AIvjgupyAIQABCEAAAhCAAAQQweQABCAAAQhAAAIQgMDBEUAEH1yXEzAEIAABCEAAAhCAACKYHIAABCAAAQhAAAIQODgCiOCD63IChgAEIAABCEAAAhBABJMDEIAABCAAAQhAAAIHRwARfHBdTsAQgAAEIAABCEAAAohgcgACEIAABCAAAQhA4OAIIIIPrssJGAIQgAAEIAABCEBgQRF86qaTiZvEf9OzPQf3aOaOJkdu9uiCcZ5NE7PJ7Zk7X8jcuZvdnrjJ8elwaW936uaUGK5rz3g7a4jT2ty17dhHvZw+Pzlarv983uh10umfsfNj7Gw+TcT+uZsdL5pXY8a373zB39x/Jj72S/Z3XfeES3ab5iAAAQhAYJjAAiJYBHAe0MPAlPeHTR/4mSh4VFydHk/c0cmYDI4CWAb8IRGchNAF+yDZOVwRbEWW9pNmrZzL/RUeAvO+ljKflUhqrpOx88ZUd7PKJ+fig+nCD1ddqztwMMSZ+yfGbe5JOxAELkIAAhCAwBYSGBfBj86rGUwZhFYTTqfHFxRuWwhw0CUvMjOnUlQN1nJOZveYCZ4HaM3napEVzJ8/Kh9YvKgdejBxzrUPOaEfVTiPnR8LyrffCN79ngkOTDr9Ex/glO0YO85DAAIQgAAEegTGRXBdS2ak5oiBunja9wPXAYlgO3Mn242ASWSqDURwBWTDux2R1Wnx9Dg/0LSnS8Gr50X4hmUwY+e1xpzPKPzyjOicsnt1qtM/8doa/LZkr+InGAhAAAIQ2BSB5UTwUmIuu+zFgF3Td/xmWmOsszmpTBLYYfA7OpnFsiJCjECMokDWKXthoAPjpLPswJQt1xP22nDO9QR7YWOeINK4o68Stwpga0OPafH0mWNMTDRGLdP4F+LQNdtljBqPrlU1vns7um/8HZrp94ylvGmvjsPGWHxlHexLf+e4tG0JbOy8lDHtFkwG+lF5zf0MdeeJS/F33nn1vRZlPk7PJ/epdSWft0eHtm3/dB4mLXe5hsz1kPIhHQvcw5INzQt73Rh/jV3LINU9PnXnJ9Ni/Xw6F6/5tp74b/oyXfO92Dv9E33Se0dob+pmuoZb7RnfEwNpwh8XBoZpzOOcmxVjXyceS3Y1f3MsKdZV2uiFzzEIQAACENgYgYVFcDmwVQPEAu7pQJV/zBUGDh3IxIQfgPwAlgeVPHiZAcusmU2DlooxO1iJUdnXQVGklgyUvmyvDR0gRRiYGAub0Q9tbyB28evodvhhVRoYixgHKupyCCPyQow64KqP2b/MzVP0Dw2J6zzf/blo1wukbLPxzpdVwRTLqahSvlJGtwdZq6DU/hRbti965zUu459vW3y3dc35JoChA6G+7aNc0tq2IjGX0C29PrKdGF/kMXZe7Yx9pny3D1daKTHRA8GHlAu+T2bhB5VV2Xx9ar/Evo7++3Y156WubtscKvo8+GDj1u3wsBb7qqqvnufPun+0T0LeWps2zsHrvshjm/sh3tB/FbdUx+RX47fxM5UXmwu2kQNmCwIQgAAELonAwiJY/dFBpxhw9OScz1DPDCJR+Fg7c8Wct10KCznk7eqALAeKwaka0OPMVBqYOj74ZrwN9TXYyOLGl5jzPzMYqqBN/p26adoeMtHGqDOgiVXhn7HjhU0YzEPZEd+V1ck0z1Ybc82mljdvzcj9ugLr6G9gG7ilGKVxc17zLs922zg7dRvnhw7Y/ppfpngw6hQtBGrMNRvP2PmOyYFDlrXmqRQNx3ObsVzKuXM3O8mPoWo8+6W2Yr3uA03ZL2ojfPZYlrZyvsSavo+jUCyNxb1gs+z3snxjU6+7dL2HXEnXfZPHtd+lz96R+pobszF2Xn00jLvhcxACEIAABDZGYGkR3Ay0/mavg8zwWw3agSoMPHnAtjPBEm97XtvuzzZGRsXgEwazYQHba0OFtAqCeoCc3xelkFdbYRZx/rpStdsZgGtx42NU/zKrdv3piO9F35XCQr0pPgu28UzyZRXW1r9eX+TzPn8GBUOvbuH5nJ3cxpxC/SUy8yokLgOFxs7X1c5mxZIDf9rbKGeoPScVvWdTNz0z8T2auZl5vWG4JuPMe+FPm4OFXf1GQ0Wm9ot5aLHu+2si+hTaNLm7oAgevobjg7D95iZeL4N1fKw23w0j73gbf3i4Nn6P2Rg7jwi2KcI2BCAAgSshsIIIDmJ1cIAZCKMZ/DoitxSQPWHTDk714NybCbZCu3Sv14YKVx3wQpvDNqzFYM+KdDmrM22LMWtj1AeCVL8jWLJ/1l+7bf2M22agDj5qzJ2ycsiU1xKZ/0hbnf4OM70qRjp9YQRSbkdbtp+duvb03O1QN7EdKiu+qLgcKpOOj9kcO58M5Y2zqXllmx7uMDfMTk/CO4T1ujo/iUshpHqRQ/V+sGvzeIi/Py5i2AvhEJetJ01p+7Idyps8M/5qVOXnOKvGZv3QWBrs5HHdRht/n5fmrjRQ2Wiuleo8IrjuFfYhAAEIXDqB5UXwUmLAxJMGXf1Kthpo/GAYZ5TNgJrFndiq6uigasVJPfj4fV1nGvzJYiAMTGUbKgjyABcG2bwvVvqve4v+mfW8oazOlBsbfpYu+FP+P9owMXkRYfZLMVoxiRw1prm+F6wqO6VTYS+yVNv9gX8+6/QjwUocqa3R8zrrKB6lmc2BfuzFUB+LvMZEsPTBWBlvumFUNTh2viqednv1/DGTU75w6Mej42me9Y3ljuxSiKquz7E0m9rmgs8jzUFhZvrBn4v7Id8MK883+xjOLy+Cc84lImmjsSlnIi/bZ+m6r2LX3Mtl2/jLa65dEqJxy7INb2eVNlJEbEAAAhCAwGUQGBfBcTBJa/J0IFzWuyg20ro8qW9t3565mbxSyghgbTMMgHFgMl/B2oHHr9e09vQHKSqUtV56e0QQTmUblU+jNnoQSrtpUFTRp34YEdFaaWNNZToxFhxuT91U3jOcZud09k2FePz6vLFTttkVHb7OkZse57+kVpcrfEmsxfsoVI+n7kgZFLk0dj4LD+2z9geOeWlAEHV5P/EzG7WveQazZGH77LrDXAAAFflJREFUMFWP/FQ4aXtD64YXPV/zzO2F5RClz1lcpnIp343QrGcpfeEyT6fH+tcNb7m7v5hzRZiUbU7d6aOZm8YffYa+sG3V+ZZ97NlJuaDi0QRSljdvWRksM8+PobwvOciDgn9Pt+aoXKfNtRIcyH0qtsNbbLIAVoYS/wJtmJjYhAAEIACByyEwLoIvxw9a2QUCUQSv9ueko8gd/Kt5Y+dXAaTfOqxS9yrq7Jq/V8GINiEAAQhAAALrIYAIXg/Hw7CyQyI4zCLmWcht76Bd83fbeeIfBCAAAQhAYIwAIniMEOcDgYGvhBfDU38dXP5JYl0qocscBpcELNYYpSAAAQhAAAIQgMAoAUTwKCIKQAACEIAABCAAAQjsGwFE8L71KPFAAAIQgAAEIAABCIwSQASPIqIABCAAAQhAAAIQgMC+EUAE71uPEg8EIAABCEAAAhCAwCgBRPAoIgpAAAIQgAAEIAABCOwbAUTwvvUo8UAAAhCAAAQgAAEIjBJABI8iogAEIAABCEAAAhCAwL4RQATvW48SDwQgAAEIQAACEIDAKAFE8CgiCkAAAhCAAAQgAAEI7BsBRPC+9SjxQAACEIAABCAAAQiMEkAEjyKiAAQgAAEIQAACEIDAvhFABO9bjxIPBCAAAQhAAAIQgMAoAUTwKCIKQAACEIAABCAAAQjsGwFE8L71KPFAAAIQgAAEIAABCIwSQASPIqIABCAAAQhAAAIQgMC+EUAE71uPEg8EIAABCEAAAhCAwCgBRPAoIgpAAAIQgAAEIAABCOwbAUTwvvUo8UAAAhCAAAQgAAEIjBJABI8iogAEIAABCEAAAhCAwL4RQATvW48SDwQgAAEIQAACEIDAKIHlRfDZ1E1uz9z5qOllC5y72e2JOzpZv+VBTySWydSdDha4whOjvp266eSSea2Kw8dy5GaPhg2cHk/c5PiyeiLk2mAee38nbno27G97Jths6jyauaPJxE38vxVyLfqS65+72fEmrr82oqs4cn5yFFkpM/1cgd1FA/B9Nz9vL9oE9SEAAQhA4OoILCmCg/AaFA9XF8eBtRz7YRdEcBJx2yImMrteHlsR1gjaOVmm9Yo6lYgKZZYQc1FAZ5uHcv2FOJu4t/WBdU5ecAoCEIAABLaXwFIi+PR46mYyU7ORmeAOpEczN73MmeGOC9t0SPjnudIgFC515nxVGAvMBK9qetV6XpAO5nEtwkZa8Xk68zPzWbg5J7PbZf8s921H38f9ngkOpDv848NUyXOkXzgNAQhAAAIQmENgcRF8NvVfD/cH5jktrHxqOcGwcjO7UtGLAETwurprfh53RNhgwypK6zr9/PXLPgbFd9VIFH5WWFcl9nS3Zumc02Ull7ZkZk/REhYEIAABCCQCC4rgUzeNg8988ZDsFhu+jq6LVAGgg9pEvyY3A186p+sBY5n6uNpyzoU2RCQGO34Npfc5iBG/b8qLg3UswzaKcIqdIraBr2ttGT+TFcVN4VM6FoSu9c0LJ+Unnz6uEKfYy/aVZeFi3NHyYcZykrgbPp11q8n28ak7P5kW63rTOalXsS088LGJb6atonwtGPN+jr2MTY9L/OUMedHy4I7l2xYyudieLI5kJnWdGGsl2pYSwc7w6uVWypmYE8X1ER+Y0rHAr+izYjmN8dfYtQI81R3LhUm5njrU612bBUqzU7N0zkWfdCZYbfpvptI1kcvlNdTR7Jwc1Fxqfh/g60SOiYnmYfBR2kmMVmnDRM0mBCAAAQhcLoGFRLAVGX7wKQTMgg77wTgOKFrlTCSr/NcZUOIxHfRcFARpPw7uMgClwdmKuIFBSwesVCfGkvYbGzroqdP5s2QRY6hETyptB1R/sB3oT0/CD56SL4ZzOGb5ZWaBiRExqVHdyGXLgT7USUyT6IrtCGP1IQ3wwab4k+uFr/4Hf9hW94XpO+1XERPBnvVVBYaKQSNIIueWi8Y8/9PX09iaom3fNEXkQLFcp60TfNMYpMK8Puq24A9mkdZ52PAsbY7WfSrXxyxcZ1XZzE75xofOyLYQ7CO5YB+CbNy6XYjSKpfayGuWmhOtkLc56IWyuf5829LHKf8kvsgq5mAWsRW3VMdcc43fxs9Ufok22sA5AgEIQAACl0hgXAQ/mrmZ+ZV8GlhWcFIGVRWhUv30LK9wVSGcz4cBphjktE0z4Gj5MNiaAasa8NW+tVfHMm5DHfDeu6kOqPbw4LYZMH2ZOLCnQfvUzcz651HfmoeEESHaKR9m1wwz8SuKA8/VbhdxRd/9A4PO1stnZUvrzBMPvkwlQHq+Wl8ae9rQ4p8137Jm3VflWd3Th5aw369TCNjIy+ag2hr/tELVcq7ZxXJJ4J+72Ym9zqK38jYO+8DXEegFI8u/cLYXd/Rh6EHF27LCvTBYPBQHH42wjEWba1X9b3IyttPkTO136bNvxtcxrMdsjJ1XH9M1X8fNPgQgAAEIXCaBURHcG8R1YPJCyd/4dUDVr+oHQpCyOjhX4lpFqopa3S8EQxyI7XIALd8Mis1AGwY9a68Y5HV5hBVyjQ0T17xzppjd9CyTMJi62Zm8PksH6Vm71EBZ9XzrCEVr37Ybtgfit/H6gmW5ov/T4C1l5omYqvUFxUHum9IH63/o7yhYLiAq674vPQ7ta26V5+Ke5mIjujqztWrAczCiSo8PfZ6VOeGLxests6qW9fi1+8b/6joL10l8GC38aUVgzaibC5FDzcqXjfkb2jRxj147xv8BNo3NKDBrP1L1BXOw+Daj4KNLLWzeV36u0kZykA0IQAACELhsAqMiuHaoHhjr8/P386BRzqJJrXwu2Aj7ebDvn9dBrxkUm4G2tleJh57QbGzY6Gp/7LmB7TSo6uxcEB4SY82j5tzEtwYRrOsslaHlXh4zS068EF4y9gXFQd3XeV9nqK0Aid7GGc2i7AB+e7jma8+1uVie7e+NMRk737F6Ni2WnIQSOWdSDZOnmkf6QJSWQkjhlH+xZrE/LoK1vZCL+sAb4irEo1zN5r3PTe4af9Vm+TnOqrEZRfBgHiyYg0UcBR/lZ3Ow8nOVNsrA2YMABCAAgUskcMkiWIXnUefVZ2FAyYOYGez9jFh13g84eXlFMyg2A21VvyN6x22UPRNmxswMlwzEc/+QQRw0j/MMn2/zdsuj8SUNyCqg23is8Cg9lb22fFqjamaDgz/xjzEIwzT7G/suzWTLHzWwgsA1Qj75sLQ4CL6mbw0qUSViLudJ71VkqeXBDc/KzLQXBX3u5Nwqzg3uxL41S4dS0Zir1ud0bt5Gr17DUgzEa0VeYajtx3JHdilEVbfM3xERPJoLhld17TW5XJ1vEfRytSzV2JTTkZd9gEsPAVXsej3ksm38wZ7J8Sovgg/hWzBvZ5U2yrDYgwAEIACBSyRw6SI4rDk1A4sPNoqe6uvtMEjrjFOcXdKvn4+n/r2ssjTj1q/dMn9laupO42CVl2209u0AJmtZ/7T4S1U9G/1eST5Gv/KgOqe8FV8dQVD75ld0ppiEXRtP4Ye1P4dv8DAO/srV1pUfft22f8HLCv6qP+yv5G3oUZiEvuj5/kP/lwK1r+xSl6Pjaf5ra9YvEcHWLz2XGJV+WndU/KT2KiFfss+55210RFa2HfrE9n/uk74/en5QHMflEKVP9bUTPAhlbDutP3Xs02P5i4ki4m65u79YLmkq2wzXw7xcKMtnH8vj49dVWb6/tKQsY2M231jEfPZsR3PwtM3Bpk7grH0m3I5OzLuhm/L1NdppIycPWxCAAAQgcAUElhbBV+AjTR4cgSAgBsXhGI/eWtqxOld2Xmf2r8wBGoYABCAAAQgcJAFE8EF2+7YHvaoIjrNvZgnHNkcaZjTzrOk2+4pvEIAABCAAgX0jgAjetx7d+Xjqr5HPdz4iAoAABCAAAQhAYPsIIIK3r0/wCAIQgAAEIAABCEBgwwQQwRsGjHkIQAACEIAABCAAge0jgAjevj7BIwhAAAIQgAAEIACBDRNABG8YMOYhAAEIQAACEIAABLaPACJ4+/oEjyAAAQhAAAIQgAAENkwAEbxhwJiHAAQgAAEIQAACENg+Aojg7esTPIIABCAAAQhAAAIQ2DABRPCGAWMeAhCAAAQgAAEIQGD7CCCCt69P8AgCEIAABCAAAQhAYMMEEMEbBox5CEAAAhCAAAQgAIHtI4AI3r4+wSMIQAACEIAABCAAgQ0TQARvGDDmIQABCEAAAhCAAAS2jwAiePv6BI8gAAEIQAACEIAABDZMABG8YcCYhwAEIAABCEAAAhDYPgKI4O3rEzyCAAQgAAEIQAACENgwAUTwhgFjHgIQgAAEIAABCEBg+wgggrevT/AIAhCAAAQgAAEIQGDDBBDBGwaMeQhAAAIQgAAEIACB7SOACN6+PsEjCEAAAhCAAAQgAIENE0AEbxgw5iEAAQhAAAIQgAAEto/A4iL40cwdTSZuov+OT9cazenxxE3WbHMhB31cR272aKHSV1To1E2V+2TipmfjbnieWmce17Opm9yeufNxk6bEuZvdzrlwdHLu3Nl0Ib+MkR3aLPmna2AycT72S47kyq6VS46T5iAAAQhAAAKbJLCwCD49nrr1yt5NhrVPtkVwZvbnJ0f+QWSeEPYiyQjbYdEUxZ0puwi52v4iPi1id9vL+DgNK437KoTwtrPCPwhAAAIQgMC2E1hMBD+auanM9h3If+cn0wvPDK/Dhsd9Nqt8ibOwg7O74XwhzAZme+XBZiai2gi78S4OwrkR4Xs9Exyo1CLYOZ0Rzw8p4/woAQEIQAACEIDANhBYSAT7mb/41XojfrYhinX6sI7lEeuwMSem4ZldqRSFmRG2It4KUSzFomhthd2chv2p1v5YjX0532MVro1tX06zLz1AHBCAAAQgAIH1EVhIBKfmZEZRxPDgLGQq2WxYIZ3XVKp4qGcvo9CSdrTNZi1sLLPIulcVhr2y3n6YyfMiR8vIpxeS6sssrYP1DwL1GukoOvs2BEe5rnT1h4ngz9z66pvvp1M3NYI4dMypm8Y+7Am7pvPqA6ZPGnFdxClcy34KfudjoX7JZjIxM6u+LcmTXKecuda6UibHleJs+lODCfWk/dxnmo9apvxsWalP6q/anMU13GpPy4V11JlZPN7Lc+3DZt1xqBNsGLu2P1Puiv+rtFHGzR4EIAABCEBgHwksJ4I9gTDQzxVhDalzNzs2P76KIqoviMzALoN5HNy9iE5izgqBMKspwrrv05yyScypiFFbPfGixyS4ymYULKn9JNwUhDAzbfjy1p6WW+BT6iYOc8r3YovF7fruVtjNsWlPGZHWsq/4CLF62cWjmZvFH/iVM9sqJMOP7ZoHpoq11C3yKOaLPnSkPlFx7tmFNtR2IShTfRts2K5j8PspR61N09c+V2xfh3LTs8BIfSjy3IpY349qL9fpCunocvYzl/ft2GtpsI02bo5AAAIQgAAE9pHACiI4Cpo5YmEuqChi8iAupWvRFAdv00Ye2KNQXUQIimkREfPKFiKjFsHZNxUpTWxJbKoYa20ksSTCw/wrGTSWuwdOj62g6haJPEU4qTBTEeWcM+JTahdch8zNO27it/HUdgOD7Pv5yaz9oaUR1smWt5/r1eK2fDjKjtbt+zOFrcAmtSNz9SNvKAkxlH1Y5kVr036TYfs+1BvJc3G68FkOLHmtxPLWz4ZN00bmyBYEIAABCEBgXwmsJIL9wKwC1Q+gRhjo8S6xKMqaMssN7M0g3m0rHBwt6/03IrERBK1Q8ZZVsPlYQlxp1rGy4X1oYp7j9MApsZPaGCgjh0XMNeIuPgh4oWeEuBVmi9j2Iuykfk9IZDQ42x2WKWSRee5mhY2YF97HKhcqlrUIFlGfX92XxbJvq374iWVDnK1gzf714Y7mUnzosOznP4S1udW00cRf8RkVuau00Y+foxCAAAQgAIF9IrCSCF5UjJWg4mBcCxNfaMmB3QsDI1zLhsq9sbL1+QHRYWfSGiEWxU8SkZWNRtiUHi62dzYthO1wpUqQ+4JyrM9red+krzq2ao52xlLfcKFlitnoft8nIVmxbNkriSikJ0EI+7jitpYIglmF8iWK4AH2Oqtrc6vpjyb+Pq9hG6H88PnebHMixgYEIAABCEBgbwksL4JlNq0rZOcz6omS/JV4PVDX+/XX9lHw2NnVwde4jZStRYafLQxC6fRE1jG3vqgQK4WaWQ7R2Oj7oGti55OLIsXG6pcxDL3GLfpr+0hitPumwUZ0mXP9zWi/EHY9RtpnUzdNs75ReN62SyGqunG2tmSrwlU8Cjb0gaNcHiLntGxkbuIuZ3qjL+bVf+X5NvqQw50HgFS0tZmErvFDYpj5dqvYe8tT6vzs5GM56x3jTmt+V2kjBcQGBCAAAQhAYG8JjIvgKErS1+bFYL4gFz+QmyUT6et4ERRxkNZjx3+a3sLg2zw+Nb/eFxsqQsxg7+vq8Z5PA2ULvyrx5H9oV/uWlwF44ZF8nqa/6BbEW25PxVr5tb2+eSKs0Q1f5/f9D8Krwy71Q/Qx7Uv8ld/FuZJPI4JTf/f9ycshcozaT6XlHFtiMLDutojx9tRN9a/RfemfmzXU0j9lm8JaRPCRlm/epFCWz7Oh5fFgxzBueJXlJV4bU4i7LJNEvD9Zngs5XPVRL8+b/GzrePOpz8L1kd/93JYvWMu11LTR9CIHIAABCEAAAntJYFwE72XYWxiULhnYFte2zZ9t4YIfEIAABCAAAQjsBQFE8JV3Y5wlrJY7XJ1b2+bP1ZGgZQhAAAIQgAAE9pcAInh/+5bIIAABCEAAAhCAAAQGCCCCB8BwGAIQgAAEIAABCEBgfwkggve3b4kMAhCAAAQgAAEIQGCAACJ4AAyHIQABCEAAAhCAAAT2lwAieH/7lsggAAEIQAACEIAABAYIIIIHwHAYAhCAAAQgAAEIQGB/CSCC97dviQwCEIAABCAAAQhAYIAAIngADIchAAEIQAACEIAABPaXACJ4f/uWyCAAAQhAAAIQgAAEBgggggfAcBgCEIAABCAAAQhAYH8JIIL3t2+JDAIQgAAEIAABCEBggAAieAAMhyEAAQhAAAIQgAAE9pcAInh/+5bIIAABCEAAAhCAAAQGCCCCB8BwGAIQgAAEIAABCEBgfwkggve3b4kMAhCAAAQgAAEIQGCAACJ4AAyHIQABCEAAAhCAAAT2lwAieH/7lsggAAEIQAACEIAABAYIIIIHwHAYAhCAAAQgAAEIQGB/CSCC97dviQwCEIAABCAAAQhAYIAAIngADIchAAEIQAACEIAABPaXACJ4f/uWyCAAAQhAAAIQgAAEBgggggfAcBgCEIAABCAAAQhAYH8JIIL3t2+JDAIQgAAEIAABCEBggAAieAAMhyEAAQhAAAIQgAAE9pcAInh/+5bIIAABCEAAAhCAAAQGCCCCB8BwGAIQgAAEIAABCEBgfwkggve3b4kMAhCAAAQgAAEIQGCAACJ4AAyHIQABCEAAAhCAAAT2lwAieH/7lsggAAEIQAACEIAABAYI/G9HDSPYY3c/uwAAAABJRU5ErkJggg==)"
      ]
    },
    {
      "cell_type": "markdown",
      "metadata": {
        "id": "oPvg-Z3OYKS0"
      },
      "source": [
        "### Recommender app"
      ]
    },
    {
      "cell_type": "code",
      "metadata": {
        "id": "0V-rFmbQzLcO"
      },
      "source": [
        "class Recommendation:\n",
        "    def __init__(self):\n",
        "        with open(\"user_mapping.json\", \"r\") as uf:\n",
        "            self.user_dic = json.load(uf)\n",
        "        with open(\"item_mapping.json\") as imf:\n",
        "            self.item_dic = json.load(imf)\n",
        "        with open(\"item_dictionary.json\") as pf:\n",
        "            self.product_dic = json.load(pf)\n",
        "        with open(\"./recapp/static/model/recommender_model_alldata.pkl\", 'rb') as f:\n",
        "            self.model = pickle.load(f)\n",
        "        self.interactions = sparse.load_npz(\"interactions.npz\")\n",
        "        self.item_rev_dic = {v:k for k,v in self.item_dic.items()}\n",
        "\n",
        "    def similar_recommendation(self, user_id, threshold = 0, number_rec_items = 5):\n",
        "        #Function to produce user recommendations\n",
        "        n_items = len(self.item_dic.keys())\n",
        "        user_x = self.user_dic[user_id]\n",
        "        scores = pd.Series(self.model.predict(user_x,np.arange(n_items)))\n",
        "        scores.index = self.item_dic.keys()\n",
        "        scores = list(pd.Series(scores.sort_values(ascending=False).index))\n",
        "        user_item_scores = self.interactions.toarray()[user_x]\n",
        "        item_index = np.where(user_item_scores>0)[0]\n",
        "        known_items = pd.DataFrame({ 'items': [self.item_rev_dic[i] for i in item_index], 'scores':user_item_scores[item_index]}).sort_values('scores', ascending=False)\n",
        "        \n",
        "        scores = [x for x in scores if x not in known_items['items'].values]\n",
        "        score_list = scores[0:number_rec_items]\n",
        "\n",
        "        items_output = []\n",
        "        #rint(\"Items that were liked by the User:\")\n",
        "        counter = 1\n",
        "        for i in range(len(known_items)):\n",
        "            item = known_items.loc[i]['items']\n",
        "            if str(self.product_dic[item]['name']) != 'nan':\n",
        "                items_output.append(str(counter) + '- ' + str(self.product_dic[item]['name']) + ', ' + str(self.product_dic[item]['price']) + ', ' + self.product_dic[item]['collection'])\n",
        "            else:\n",
        "                items_output.append(str(counter) + '- ' + str(self.product_dic[item]['collection']))\n",
        "            counter+=1\n",
        "\n",
        "        rec_output = []\n",
        "        #print(\"\\n Recommended Items:\")\n",
        "        counter = 1\n",
        "        for i in score_list:\n",
        "            if str(self.product_dic[i]['name']) != 'nan':\n",
        "                rec_output.append(str(counter) + '- ' + self.product_dic[i]['name'] + ', ' + str(self.product_dic[i]['price']) + ', ' + self.product_dic[i][\"collection\"]) \n",
        "            else:\n",
        "                rec_output.append(str(counter) + '- ' + self.product_dic[i]['collection'])\n",
        "            counter+=1\n",
        "        return items_output, rec_output\n",
        "\t\t\n",
        "    def top_n_items(self, n = 5):\n",
        "    \tnp_item = self.interactions.toarray().sum(axis=0)\n",
        "    \tdf = pd.DataFrame({'num_purchase':np_item})\n",
        "    \ttop_n_df = df.sort_values(['num_purchase'], ascending=False).head(n).index\n",
        "    \ttop_n = [self.item_rev_dic[i] for i in top_n_df]\n",
        "    \tproducts = []\n",
        "    \tcounter = 1\n",
        "    \tfor i in top_n:\n",
        "    \t\tif str(self.product_dic[i]['name']) != 'nan':\n",
        "    \t\t\tproducts.append(str(counter) + '- ' + self.product_dic[i]['name'] + ', ' + str(self.product_dic[i]['price']) + ', ' + self.product_dic[i][\"collection\"]) \n",
        "    \t\telse:\n",
        "    \t\t\tproducts.append(str(counter) + '- ' + self.product_dic[i]['collection'])\n",
        "    \t\tcounter+=1\n",
        "    \treturn products\n",
        "\n",
        "    def item_embedding_distance_matrix(self):\n",
        "    #     Function to create item-item distance embedding matrix\n",
        "        df_item_norm_sparse = csr_matrix(self.model.item_embeddings)\n",
        "        similarities = cosine_similarity(df_item_norm_sparse)\n",
        "        item_emdedding_distance_matrix = pd.DataFrame(similarities)\n",
        "        item_emdedding_distance_matrix.columns = self.item_dic.keys()\n",
        "        item_emdedding_distance_matrix.index = self.item_dic.keys()\n",
        "        return item_emdedding_distance_matrix\n",
        "\n",
        "    def also_bought_recommendation(self, item_emdedding_distance_matrix, item_id, n_items = 5):\n",
        "    #     Function to create item-item recommendation\n",
        "        recommended_items = list(pd.Series(item_emdedding_distance_matrix.loc[item_id,:]. \\\n",
        "                                      sort_values(ascending = False).head(n_items+1). \\\n",
        "                                      index[1:n_items+1]))\n",
        "        \n",
        "        #print(\"Item of interest:\")\n",
        "        item_interest = (str(self.product_dic[item_id]['name']) + ', ' + str(self.product_dic[item_id]['price']) + ', ' + self.product_dic[item_id]['collection'])\n",
        "        #print(\"\\n\")\n",
        "        #print(\"Items that are frequently bought together:\")\n",
        "        item_rec = []\n",
        "        counter = 1\n",
        "        for i in recommended_items:\n",
        "            if i in self.product_dic.keys():\n",
        "                item_rec.append(str(counter) + '- ' + str(self.product_dic[i]['name']) + ', ' + str(self.product_dic[i]['price']) + ', ' + self.product_dic[i]['collection'])\n",
        "            else:\n",
        "                item_rec.append(str(counter) + '- ' + 'swansonhealthproduct')\n",
        "            counter+=1\n",
        "        return item_interest, item_rec"
      ],
      "execution_count": null,
      "outputs": []
    },
    {
      "cell_type": "markdown",
      "metadata": {
        "id": "bVyEZEcMYH7y"
      },
      "source": [
        "### Routes"
      ]
    },
    {
      "cell_type": "code",
      "metadata": {
        "id": "cXZvNb4czTUq"
      },
      "source": [
        "from flask import Flask, request, jsonify, render_template\n",
        "from flask import current_app as app\n",
        "\n",
        "r = Recommendation()\n",
        "\n",
        "#item_distance_matrix = r.item_embedding_distance_matrix()\n",
        "# SW1113, SWD015, cjo6507qf00013ac37tbxxu8z, cjo09x89u00013gb80mn9xb57, cjo06esrd00013gblo1n3haw7\n",
        "\n",
        "@app.route('/')\n",
        "def home():\n",
        "\treturn render_template('index.html')\n",
        "\n",
        "@app.route('/recommend', methods=['POST'])\n",
        "def recommend():\n",
        "\tid = [str(x) for x in request.form.values()]\n",
        "\tuserid = id[0]\n",
        "\tif userid in r.user_dic.keys():\n",
        "\t\titem_output, rec_output = r.similar_recommendation(userid)\n",
        "\t\treturn render_template('recommendation.html', items=item_output, rec_items=rec_output)\n",
        "\telse:\n",
        "\t\trec_output = r.top_n_items()\n",
        "\t\treturn render_template('topitems.html', rec_items = rec_output)"
      ],
      "execution_count": null,
      "outputs": []
    },
    {
      "cell_type": "markdown",
      "metadata": {
        "id": "RVh2IayR8ofq"
      },
      "source": [
        "## Benchmark other data"
      ]
    },
    {
      "cell_type": "markdown",
      "metadata": {
        "id": "bHVMZ86mCBID"
      },
      "source": [
        "### Movielens"
      ]
    },
    {
      "cell_type": "code",
      "metadata": {
        "colab": {
          "base_uri": "https://localhost:8080/"
        },
        "id": "XL4QQPdV8ESB",
        "outputId": "981ee44d-66dc-4b17-8698-13ad380ef819"
      },
      "source": [
        "from lightfm.datasets import fetch_movielens\n",
        "\n",
        "data = fetch_movielens(min_rating=5.0)\n",
        "\n",
        "model = LightFM(loss='warp', no_components=192, item_alpha=1e-6, random_state=2)\n",
        "model.fit(data['train'], epochs=10, num_threads=3)\n",
        "\n",
        "test_auc = auc_score(model, data['test'], train_interactions=data['train'], num_threads=3).mean()\n",
        "print('Collaborative filtering test AUC: %s' % test_auc)\n",
        "prec = precision_at_k(model, data['test'], train_interactions=data['train'], num_threads=3, k=5).mean()\n",
        "print('Collaborative filtering test precision: %s' % prec)\n",
        "recal = recall_at_k(model, data['test'], train_interactions=data['train'], num_threads=3, k=5).mean()\n",
        "print('Collaborative filtering test recall: %s' % recal)"
      ],
      "execution_count": 22,
      "outputs": [
        {
          "output_type": "stream",
          "text": [
            "Collaborative filtering test AUC: 0.9173077\n",
            "Collaborative filtering test precision: 0.07582563\n",
            "Collaborative filtering test recall: 0.1433855444423476\n"
          ],
          "name": "stdout"
        }
      ]
    },
    {
      "cell_type": "markdown",
      "metadata": {
        "id": "y-DYf0IZRiYg"
      },
      "source": [
        "### Cosmetics"
      ]
    },
    {
      "cell_type": "code",
      "metadata": {
        "colab": {
          "base_uri": "https://localhost:8080/"
        },
        "id": "Y3OjJUM4OOdO",
        "outputId": "22cd839f-fd57-462c-8d22-0af07befbbc1"
      },
      "source": [
        "!pip install -q git+https://github.com/sparsh-ai/recochef.git\n",
        "\n",
        "from recochef.datasets.cosmetics import Cosmetics\n",
        "\n",
        "cdata = Cosmetics()\n",
        "cdata_list = [cdata.load_interactions(f\"cdata{idx}.parquet.gzip\", chunk=idx) for idx in range(1,6)]\n",
        "cosmetics_data = pd.concat(cdata_list, axis=0, ignore_index=True)\n",
        "cosmetics_data.info()"
      ],
      "execution_count": 3,
      "outputs": [
        {
          "output_type": "stream",
          "text": [
            "  Installing build dependencies ... \u001b[?25l\u001b[?25hdone\n",
            "  Getting requirements to build wheel ... \u001b[?25l\u001b[?25hdone\n",
            "    Preparing wheel metadata ... \u001b[?25l\u001b[?25hdone\n",
            "  Building wheel for recochef (PEP 517) ... \u001b[?25l\u001b[?25hdone\n",
            "<class 'pandas.core.frame.DataFrame'>\n",
            "RangeIndex: 20692840 entries, 0 to 20692839\n",
            "Data columns (total 9 columns):\n",
            " #   Column        Dtype  \n",
            "---  ------        -----  \n",
            " 0   USERID        int64  \n",
            " 1   ITEMID        int64  \n",
            " 2   EVENTTYPE     object \n",
            " 3   TIMESTAMP     object \n",
            " 4   SESSIONID     object \n",
            " 5   CATEGORYID    int64  \n",
            " 6   CATEGORYCODE  object \n",
            " 7   BRAND         object \n",
            " 8   PRICE         float64\n",
            "dtypes: float64(1), int64(3), object(5)\n",
            "memory usage: 1.4+ GB\n"
          ],
          "name": "stdout"
        }
      ]
    },
    {
      "cell_type": "markdown",
      "metadata": {
        "id": "f9sVsAogWJie"
      },
      "source": [
        "> Note: Taking a 10% sample (~2 million) for faster processing"
      ]
    },
    {
      "cell_type": "code",
      "metadata": {
        "colab": {
          "base_uri": "https://localhost:8080/"
        },
        "id": "LbE0rZo0Wnm_",
        "outputId": "a0a7b1c8-02af-4d65-b903-838311b73901"
      },
      "source": [
        "cosmetics_data_sample = cosmetics_data.sample(frac=0.1)\n",
        "cosmetics_data_sample.shape"
      ],
      "execution_count": 4,
      "outputs": [
        {
          "output_type": "execute_result",
          "data": {
            "text/plain": [
              "(2069284, 9)"
            ]
          },
          "metadata": {
            "tags": []
          },
          "execution_count": 4
        }
      ]
    },
    {
      "cell_type": "code",
      "metadata": {
        "colab": {
          "base_uri": "https://localhost:8080/",
          "height": 224
        },
        "id": "JabrtOWtQnsr",
        "outputId": "3e62d5c7-ea25-4405-ad1e-526268babc71"
      },
      "source": [
        "cosmetics_data_2 = cosmetics_data_sample.copy()\n",
        "cosmetics_data_2 = cosmetics_data_2.sort_values('TIMESTAMP').groupby(['USERID', 'ITEMID'])\n",
        "\n",
        "_data = cosmetics_data_2['EVENTTYPE'].value_counts().unstack(fill_value = 0).rename(columns={'view':'NumTimesViewed',\n",
        "                                                                                             'cart':'NumTimesCarted',\n",
        "                                                                                             'purchase':'NumTimesPurchased',\n",
        "                                                                                             'remove_from_cart':'NumTimesRemoved'})\n",
        "_data = _data.reset_index()\n",
        "_data['Purchase'] = _data.NumTimesPurchased.apply(lambda x: 1 if x!=0 else 0)\n",
        "\n",
        "_data2 = cosmetics_data_2.agg({'PRICE':'mean', 'SESSIONID':'nunique', 'CATEGORYID':'first'}).reset_index()\n",
        "\n",
        "_data = _data.merge(_data2, how='inner', on=['USERID', 'ITEMID'])\n",
        "\n",
        "_data['PRICECATEGORY'] = np.where(_data.PRICE>=99, 'very expensive',\n",
        "                                  np.where((_data.PRICE >= 66) & (_data.PRICE < 99), 'expensive',\n",
        "                                           np.where((_data.PRICE >= 33) & (_data.PRICE<66), 'medium', 'cheap')))\n",
        "\n",
        "_data.head()"
      ],
      "execution_count": 5,
      "outputs": [
        {
          "output_type": "execute_result",
          "data": {
            "text/html": [
              "<div>\n",
              "<style scoped>\n",
              "    .dataframe tbody tr th:only-of-type {\n",
              "        vertical-align: middle;\n",
              "    }\n",
              "\n",
              "    .dataframe tbody tr th {\n",
              "        vertical-align: top;\n",
              "    }\n",
              "\n",
              "    .dataframe thead th {\n",
              "        text-align: right;\n",
              "    }\n",
              "</style>\n",
              "<table border=\"1\" class=\"dataframe\">\n",
              "  <thead>\n",
              "    <tr style=\"text-align: right;\">\n",
              "      <th></th>\n",
              "      <th>USERID</th>\n",
              "      <th>ITEMID</th>\n",
              "      <th>NumTimesCarted</th>\n",
              "      <th>NumTimesPurchased</th>\n",
              "      <th>NumTimesRemoved</th>\n",
              "      <th>NumTimesViewed</th>\n",
              "      <th>Purchase</th>\n",
              "      <th>PRICE</th>\n",
              "      <th>SESSIONID</th>\n",
              "      <th>CATEGORYID</th>\n",
              "      <th>PRICECATEGORY</th>\n",
              "    </tr>\n",
              "  </thead>\n",
              "  <tbody>\n",
              "    <tr>\n",
              "      <th>0</th>\n",
              "      <td>465496</td>\n",
              "      <td>5865524</td>\n",
              "      <td>0</td>\n",
              "      <td>0</td>\n",
              "      <td>0</td>\n",
              "      <td>1</td>\n",
              "      <td>0</td>\n",
              "      <td>10.00</td>\n",
              "      <td>1</td>\n",
              "      <td>1487580008447738866</td>\n",
              "      <td>cheap</td>\n",
              "    </tr>\n",
              "    <tr>\n",
              "      <th>1</th>\n",
              "      <td>1458813</td>\n",
              "      <td>5711078</td>\n",
              "      <td>0</td>\n",
              "      <td>0</td>\n",
              "      <td>0</td>\n",
              "      <td>1</td>\n",
              "      <td>0</td>\n",
              "      <td>4.83</td>\n",
              "      <td>1</td>\n",
              "      <td>1487580005008409427</td>\n",
              "      <td>cheap</td>\n",
              "    </tr>\n",
              "    <tr>\n",
              "      <th>2</th>\n",
              "      <td>1458813</td>\n",
              "      <td>5711117</td>\n",
              "      <td>0</td>\n",
              "      <td>0</td>\n",
              "      <td>0</td>\n",
              "      <td>1</td>\n",
              "      <td>0</td>\n",
              "      <td>4.83</td>\n",
              "      <td>1</td>\n",
              "      <td>1487580005008409427</td>\n",
              "      <td>cheap</td>\n",
              "    </tr>\n",
              "    <tr>\n",
              "      <th>3</th>\n",
              "      <td>1458813</td>\n",
              "      <td>5711160</td>\n",
              "      <td>0</td>\n",
              "      <td>0</td>\n",
              "      <td>0</td>\n",
              "      <td>1</td>\n",
              "      <td>0</td>\n",
              "      <td>6.03</td>\n",
              "      <td>1</td>\n",
              "      <td>1487580005008409427</td>\n",
              "      <td>cheap</td>\n",
              "    </tr>\n",
              "    <tr>\n",
              "      <th>4</th>\n",
              "      <td>1458813</td>\n",
              "      <td>5711172</td>\n",
              "      <td>0</td>\n",
              "      <td>0</td>\n",
              "      <td>0</td>\n",
              "      <td>1</td>\n",
              "      <td>0</td>\n",
              "      <td>6.03</td>\n",
              "      <td>1</td>\n",
              "      <td>1487580005008409427</td>\n",
              "      <td>cheap</td>\n",
              "    </tr>\n",
              "  </tbody>\n",
              "</table>\n",
              "</div>"
            ],
            "text/plain": [
              "    USERID   ITEMID  ...           CATEGORYID  PRICECATEGORY\n",
              "0   465496  5865524  ...  1487580008447738866          cheap\n",
              "1  1458813  5711078  ...  1487580005008409427          cheap\n",
              "2  1458813  5711117  ...  1487580005008409427          cheap\n",
              "3  1458813  5711160  ...  1487580005008409427          cheap\n",
              "4  1458813  5711172  ...  1487580005008409427          cheap\n",
              "\n",
              "[5 rows x 11 columns]"
            ]
          },
          "metadata": {
            "tags": []
          },
          "execution_count": 5
        }
      ]
    },
    {
      "cell_type": "code",
      "metadata": {
        "colab": {
          "base_uri": "https://localhost:8080/"
        },
        "id": "CMJcE255Tr8v",
        "outputId": "a0031ef9-3231-4719-c2ae-97086abe800a"
      },
      "source": [
        "dataset_k, train, test, int_k = random_split(_data, 'USERID', 'ITEMID', 'Purchase')"
      ],
      "execution_count": 6,
      "outputs": [
        {
          "output_type": "stream",
          "text": [
            "Num users: 489363, num_items 47487.\n",
            "Num values: 1829749\n"
          ],
          "name": "stdout"
        }
      ]
    },
    {
      "cell_type": "code",
      "metadata": {
        "colab": {
          "base_uri": "https://localhost:8080/"
        },
        "id": "fEEyH_tvVJEJ",
        "outputId": "f5464dab-df40-465e-f895-5ecfc81f9f74"
      },
      "source": [
        "model_c = model_fit_eval('warp', train, test, 32, 5)"
      ],
      "execution_count": 9,
      "outputs": [
        {
          "output_type": "stream",
          "text": [
            "CPU times: user 1min 17s, sys: 1.76 ms, total: 1min 17s\n",
            "Wall time: 41.1 s\n",
            "Collaborative filtering test AUC: 0.87310016\n",
            "Collaborative filtering test precision: 0.008020664\n",
            "Collaborative filtering test recall: 0.024399814888690672\n"
          ],
          "name": "stdout"
        }
      ]
    },
    {
      "cell_type": "code",
      "metadata": {
        "id": "Tc8OCE4bcRnY",
        "outputId": "3888f5a6-0a90-4d71-a523-8d2ec63aebbc"
      },
      "source": [
        "model_c = model_fit_eval('warp-kos', train, test, 128, k=7, n=20)"
      ],
      "execution_count": null,
      "outputs": [
        {
          "output_type": "stream",
          "text": [
            "CPU times: user 37 s, sys: 81.9 ms, total: 37 s\n",
            "Wall time: 14.4 s\n",
            "Collaborative filtering test AUC: 0.9077277\n",
            "Collaborative filtering test precision: 0.043549385\n",
            "Collaborative filtering test recall: 0.1560249026255479\n"
          ],
          "name": "stdout"
        }
      ]
    }
  ]
}