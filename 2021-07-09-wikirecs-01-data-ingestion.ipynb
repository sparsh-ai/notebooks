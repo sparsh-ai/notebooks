{
  "nbformat": 4,
  "nbformat_minor": 0,
  "metadata": {
    "colab": {
      "name": "wikirecs-01-data-ingestion.ipynb",
      "provenance": [],
      "collapsed_sections": [],
      "toc_visible": true,
      "mount_file_id": "1KDUlGmiF0QDqDEriKYiAn9i5Xhxtpy10",
      "authorship_tag": "ABX9TyPOLzJxXNMdjQcud1yZZKa9"
    },
    "kernelspec": {
      "name": "python3",
      "display_name": "Python 3"
    },
    "language_info": {
      "name": "python"
    }
  },
  "cells": [
    {
      "cell_type": "markdown",
      "metadata": {
        "id": "GnvNDv2t5tDc"
      },
      "source": [
        "# WikiRecs Part 1 - Data Ingestion, Loading and Cleaning\n",
        "> In this first part of the two part series, we will handle the data side. We will fetch data from wikipedia, store in feather format and register the combined data on recochef. After that, we will perform EDA and extensive cleaning.\n",
        "\n",
        "- toc: true\n",
        "- badges: true\n",
        "- comments: true\n",
        "- categories: [Ingestion, EDA, DataCleaning]\n",
        "- author: \"<a href='https://towardsdatascience.com/how-can-you-tell-if-your-recommender-system-is-any-good-e4a6be02d9c2'>Daniel Saunders</a>\"\n",
        "- image:"
      ]
    },
    {
      "cell_type": "markdown",
      "metadata": {
        "id": "1rxKKMQB2Ygc"
      },
      "source": [
        "## Data ingestion\n",
        "\n",
        "Downloading data from Wikipedia using Wiki API and storing in Google drive. There are more than 11 millions records which would take 6-8 hours in single colab session, so used 10 colab workers to fetch all the data within 30-40 mins."
      ]
    },
    {
      "cell_type": "code",
      "metadata": {
        "id": "EOyiO5ce2TcZ"
      },
      "source": [
        "!git clone https://github.com/sparsh-ai/reco-wikirecs\n",
        "%cd /content/reco-wikirecs/\n",
        "!pip install -r requirements.txt"
      ],
      "execution_count": null,
      "outputs": []
    },
    {
      "cell_type": "code",
      "metadata": {
        "id": "c_uAz5OS4sm3"
      },
      "source": [
        "import yaml\n",
        "import os\n",
        "from wiki_pull import *\n",
        "from itables.javascript import load_datatables\n",
        "load_datatables()"
      ],
      "execution_count": 89,
      "outputs": []
    },
    {
      "cell_type": "code",
      "metadata": {
        "id": "iT-JOJiF3G8M"
      },
      "source": [
        "with open('config.yaml') as f:\n",
        "    config = yaml.load(f, Loader=yaml.FullLoader)"
      ],
      "execution_count": 81,
      "outputs": []
    },
    {
      "cell_type": "code",
      "metadata": {
        "colab": {
          "base_uri": "https://localhost:8080/",
          "height": 521
        },
        "id": "tQPeT_sk7Mud",
        "outputId": "a248ea52-7dd1-4633-bd10-bc24d0201250"
      },
      "source": [
        "get_sample_of_users(config['edit_lookback'], config['outfile'])"
      ],
      "execution_count": 9,
      "outputs": [
        {
          "output_type": "stream",
          "text": [
            "1000500it [07:04, 2379.90it/s]                             "
          ],
          "name": "stderr"
        },
        {
          "output_type": "stream",
          "text": [
            "Earliest timestamp: 2021-06-21T19:22:49Z\n",
            "Latest timestamp: 2021-07-08T14:39:42Z\n",
            "Number of distinct users: 54355\n",
            "Mean number of edits per user in timeframe: 18.40\n",
            "Number of distinct pages edited: 401926\n",
            "Mean number of edits per page in timeframe: 2.49\n"
          ],
          "name": "stdout"
        },
        {
          "output_type": "execute_result",
          "data": {
            "text/html": [
              "<div>\n",
              "<style scoped>\n",
              "    .dataframe tbody tr th:only-of-type {\n",
              "        vertical-align: middle;\n",
              "    }\n",
              "\n",
              "    .dataframe tbody tr th {\n",
              "        vertical-align: top;\n",
              "    }\n",
              "\n",
              "    .dataframe thead th {\n",
              "        text-align: right;\n",
              "    }\n",
              "</style>\n",
              "<table border=\"1\" class=\"dataframe\">\n",
              "  <thead>\n",
              "    <tr style=\"text-align: right;\">\n",
              "      <th></th>\n",
              "      <th>user</th>\n",
              "      <th>userid</th>\n",
              "    </tr>\n",
              "  </thead>\n",
              "  <tbody>\n",
              "    <tr>\n",
              "      <th>0</th>\n",
              "      <td>Rodimus Rhyme</td>\n",
              "      <td>7021208.0</td>\n",
              "    </tr>\n",
              "    <tr>\n",
              "      <th>1</th>\n",
              "      <td>Asarlaí</td>\n",
              "      <td>3215664.0</td>\n",
              "    </tr>\n",
              "    <tr>\n",
              "      <th>2</th>\n",
              "      <td>Frank Anchor</td>\n",
              "      <td>4659544.0</td>\n",
              "    </tr>\n",
              "    <tr>\n",
              "      <th>3</th>\n",
              "      <td>MAHosieAPS</td>\n",
              "      <td>40684241.0</td>\n",
              "    </tr>\n",
              "    <tr>\n",
              "      <th>4</th>\n",
              "      <td>Aranya</td>\n",
              "      <td>35393771.0</td>\n",
              "    </tr>\n",
              "    <tr>\n",
              "      <th>...</th>\n",
              "      <td>...</td>\n",
              "      <td>...</td>\n",
              "    </tr>\n",
              "    <tr>\n",
              "      <th>54349</th>\n",
              "      <td>Penwhale</td>\n",
              "      <td>125125.0</td>\n",
              "    </tr>\n",
              "    <tr>\n",
              "      <th>54350</th>\n",
              "      <td>Htetrasme</td>\n",
              "      <td>174367.0</td>\n",
              "    </tr>\n",
              "    <tr>\n",
              "      <th>54351</th>\n",
              "      <td>LarTram</td>\n",
              "      <td>39905917.0</td>\n",
              "    </tr>\n",
              "    <tr>\n",
              "      <th>54352</th>\n",
              "      <td>Etan J. Tal</td>\n",
              "      <td>7706243.0</td>\n",
              "    </tr>\n",
              "    <tr>\n",
              "      <th>54353</th>\n",
              "      <td>Charlton.austin</td>\n",
              "      <td>26706343.0</td>\n",
              "    </tr>\n",
              "  </tbody>\n",
              "</table>\n",
              "<p>54354 rows × 2 columns</p>\n",
              "</div>"
            ],
            "text/plain": [
              "                  user      userid\n",
              "0        Rodimus Rhyme   7021208.0\n",
              "1              Asarlaí   3215664.0\n",
              "2         Frank Anchor   4659544.0\n",
              "3           MAHosieAPS  40684241.0\n",
              "4               Aranya  35393771.0\n",
              "...                ...         ...\n",
              "54349         Penwhale    125125.0\n",
              "54350        Htetrasme    174367.0\n",
              "54351          LarTram  39905917.0\n",
              "54352      Etan J. Tal   7706243.0\n",
              "54353  Charlton.austin  26706343.0\n",
              "\n",
              "[54354 rows x 2 columns]"
            ]
          },
          "metadata": {
            "tags": []
          },
          "execution_count": 9
        }
      ]
    },
    {
      "cell_type": "markdown",
      "metadata": {
        "id": "26kXx5-b3EUd"
      },
      "source": [
        "### Start the ingestion\n",
        "\n",
        "I ran the same code from start till this cell, in 10 different colab notebooks, changing start position. The design is a master-worker setup where 1 notebooks was the master one, and 9 are workers.\n",
        "\n",
        "In master, start=0. In worker 1, start=5000. In worker 2, start=10000, and so on. This start value indicates the number of users. Since there are 54K users, each worker handled 5000 users on average."
      ]
    },
    {
      "cell_type": "code",
      "metadata": {
        "id": "-vNLJxSLB2m8"
      },
      "source": [
        "pull_edit_histories(\n",
        "    config['outfile'],\n",
        "    os.path.join(config['file_save_path'],config['edit_histories_file_pattern']),\n",
        "    config['users_per_chunk'],\n",
        "    config['earliest_timestamp'],\n",
        "    start=0,\n",
        "    )"
      ],
      "execution_count": null,
      "outputs": []
    },
    {
      "cell_type": "markdown",
      "metadata": {
        "id": "K8K_erP24SfD"
      },
      "source": [
        "## Data storage\n",
        "\n",
        "During ingestion, we stored data in feather format parts. Now, we will combine the data and store in compressed parquet format. \n",
        "\n",
        "We will also register this data on recochef so that we can easily load it anywhere and also make it reusable for future use cases."
      ]
    },
    {
      "cell_type": "code",
      "metadata": {
        "id": "ZsdBdQU4SlPy"
      },
      "source": [
        "import os\n",
        "import yaml\n",
        "import pandas as pd\n",
        "from pyarrow import feather"
      ],
      "execution_count": null,
      "outputs": []
    },
    {
      "cell_type": "code",
      "metadata": {
        "id": "wXZfzk8rTYX6"
      },
      "source": [
        "with open('config.yaml') as f:\n",
        "    config = yaml.load(f, Loader=yaml.FullLoader)"
      ],
      "execution_count": null,
      "outputs": []
    },
    {
      "cell_type": "code",
      "metadata": {
        "id": "8k7gkgbdSYrF"
      },
      "source": [
        "all_histories = []\n",
        "for fname in os.listdir(config['file_save_path']):\n",
        "    if 'feather' in  fname:\n",
        "        all_histories.append(feather.read_feather(os.path.join(config['file_save_path'],fname)))"
      ],
      "execution_count": null,
      "outputs": []
    },
    {
      "cell_type": "code",
      "metadata": {
        "id": "gMtXFbWLTpJT"
      },
      "source": [
        "all_histories = pd.concat(all_histories, ignore_index=True)"
      ],
      "execution_count": null,
      "outputs": []
    },
    {
      "cell_type": "code",
      "metadata": {
        "colab": {
          "base_uri": "https://localhost:8080/",
          "height": 204
        },
        "id": "Zg-ZRYUFVW33",
        "outputId": "76249d15-9f6e-45ef-8863-41cb6eef25d8"
      },
      "source": [
        "all_histories.head()"
      ],
      "execution_count": null,
      "outputs": [
        {
          "output_type": "execute_result",
          "data": {
            "text/html": [
              "<div>\n",
              "<style scoped>\n",
              "    .dataframe tbody tr th:only-of-type {\n",
              "        vertical-align: middle;\n",
              "    }\n",
              "\n",
              "    .dataframe tbody tr th {\n",
              "        vertical-align: top;\n",
              "    }\n",
              "\n",
              "    .dataframe thead th {\n",
              "        text-align: right;\n",
              "    }\n",
              "</style>\n",
              "<table border=\"1\" class=\"dataframe\">\n",
              "  <thead>\n",
              "    <tr style=\"text-align: right;\">\n",
              "      <th></th>\n",
              "      <th>userid</th>\n",
              "      <th>user</th>\n",
              "      <th>pageid</th>\n",
              "      <th>title</th>\n",
              "      <th>timestamp</th>\n",
              "      <th>sizediff</th>\n",
              "    </tr>\n",
              "  </thead>\n",
              "  <tbody>\n",
              "    <tr>\n",
              "      <th>0</th>\n",
              "      <td>430714</td>\n",
              "      <td>Eyetie</td>\n",
              "      <td>22864890</td>\n",
              "      <td>List of Samuel L. Jackson performances</td>\n",
              "      <td>2021-07-08T15:01:39Z</td>\n",
              "      <td>-19</td>\n",
              "    </tr>\n",
              "    <tr>\n",
              "      <th>1</th>\n",
              "      <td>430714</td>\n",
              "      <td>Eyetie</td>\n",
              "      <td>2879406</td>\n",
              "      <td>Jeff Corey</td>\n",
              "      <td>2021-07-07T11:06:50Z</td>\n",
              "      <td>-13</td>\n",
              "    </tr>\n",
              "    <tr>\n",
              "      <th>2</th>\n",
              "      <td>430714</td>\n",
              "      <td>Eyetie</td>\n",
              "      <td>17130609</td>\n",
              "      <td>Antonio Soda</td>\n",
              "      <td>2021-07-05T11:18:51Z</td>\n",
              "      <td>1</td>\n",
              "    </tr>\n",
              "    <tr>\n",
              "      <th>3</th>\n",
              "      <td>430714</td>\n",
              "      <td>Eyetie</td>\n",
              "      <td>13270752</td>\n",
              "      <td>Mr In-Between</td>\n",
              "      <td>2021-06-21T16:48:00Z</td>\n",
              "      <td>-48</td>\n",
              "    </tr>\n",
              "    <tr>\n",
              "      <th>4</th>\n",
              "      <td>430714</td>\n",
              "      <td>Eyetie</td>\n",
              "      <td>6816331</td>\n",
              "      <td>San Giovanni Gemini</td>\n",
              "      <td>2021-06-15T20:40:18Z</td>\n",
              "      <td>3378</td>\n",
              "    </tr>\n",
              "  </tbody>\n",
              "</table>\n",
              "</div>"
            ],
            "text/plain": [
              "   userid    user  ...             timestamp sizediff\n",
              "0  430714  Eyetie  ...  2021-07-08T15:01:39Z      -19\n",
              "1  430714  Eyetie  ...  2021-07-07T11:06:50Z      -13\n",
              "2  430714  Eyetie  ...  2021-07-05T11:18:51Z        1\n",
              "3  430714  Eyetie  ...  2021-06-21T16:48:00Z      -48\n",
              "4  430714  Eyetie  ...  2021-06-15T20:40:18Z     3378\n",
              "\n",
              "[5 rows x 6 columns]"
            ]
          },
          "metadata": {
            "tags": []
          },
          "execution_count": 19
        }
      ]
    },
    {
      "cell_type": "code",
      "metadata": {
        "colab": {
          "base_uri": "https://localhost:8080/"
        },
        "id": "hU_SbzmmVeG1",
        "outputId": "1820caac-cb05-4c4a-a62d-064a88338d00"
      },
      "source": [
        "all_histories.shape"
      ],
      "execution_count": null,
      "outputs": [
        {
          "output_type": "execute_result",
          "data": {
            "text/plain": [
              "(11081889, 6)"
            ]
          },
          "metadata": {
            "tags": []
          },
          "execution_count": 20
        }
      ]
    },
    {
      "cell_type": "code",
      "metadata": {
        "colab": {
          "base_uri": "https://localhost:8080/"
        },
        "id": "UYjNXm6bVy2o",
        "outputId": "17921817-c2e3-47b5-a75a-4ff45afe8ebc"
      },
      "source": [
        "all_histories.info()"
      ],
      "execution_count": null,
      "outputs": [
        {
          "output_type": "stream",
          "text": [
            "<class 'pandas.core.frame.DataFrame'>\n",
            "RangeIndex: 11081889 entries, 0 to 11081888\n",
            "Data columns (total 6 columns):\n",
            " #   Column     Dtype \n",
            "---  ------     ----- \n",
            " 0   userid     int64 \n",
            " 1   user       object\n",
            " 2   pageid     int64 \n",
            " 3   title      object\n",
            " 4   timestamp  object\n",
            " 5   sizediff   int64 \n",
            "dtypes: int64(3), object(3)\n",
            "memory usage: 507.3+ MB\n"
          ],
          "name": "stdout"
        }
      ]
    },
    {
      "cell_type": "code",
      "metadata": {
        "colab": {
          "base_uri": "https://localhost:8080/",
          "height": 297
        },
        "id": "Z6lerT-PVgXn",
        "outputId": "b2ba7815-305e-49b5-e527-8591fbcefe16"
      },
      "source": [
        "all_histories.describe()"
      ],
      "execution_count": null,
      "outputs": [
        {
          "output_type": "execute_result",
          "data": {
            "text/html": [
              "<div>\n",
              "<style scoped>\n",
              "    .dataframe tbody tr th:only-of-type {\n",
              "        vertical-align: middle;\n",
              "    }\n",
              "\n",
              "    .dataframe tbody tr th {\n",
              "        vertical-align: top;\n",
              "    }\n",
              "\n",
              "    .dataframe thead th {\n",
              "        text-align: right;\n",
              "    }\n",
              "</style>\n",
              "<table border=\"1\" class=\"dataframe\">\n",
              "  <thead>\n",
              "    <tr style=\"text-align: right;\">\n",
              "      <th></th>\n",
              "      <th>userid</th>\n",
              "      <th>pageid</th>\n",
              "      <th>sizediff</th>\n",
              "    </tr>\n",
              "  </thead>\n",
              "  <tbody>\n",
              "    <tr>\n",
              "      <th>count</th>\n",
              "      <td>1.108189e+07</td>\n",
              "      <td>1.108189e+07</td>\n",
              "      <td>1.108189e+07</td>\n",
              "    </tr>\n",
              "    <tr>\n",
              "      <th>mean</th>\n",
              "      <td>1.919552e+07</td>\n",
              "      <td>3.240817e+07</td>\n",
              "      <td>1.098695e+02</td>\n",
              "    </tr>\n",
              "    <tr>\n",
              "      <th>std</th>\n",
              "      <td>1.493577e+07</td>\n",
              "      <td>2.626137e+07</td>\n",
              "      <td>2.726467e+03</td>\n",
              "    </tr>\n",
              "    <tr>\n",
              "      <th>min</th>\n",
              "      <td>2.000000e+00</td>\n",
              "      <td>1.200000e+01</td>\n",
              "      <td>-1.251584e+06</td>\n",
              "    </tr>\n",
              "    <tr>\n",
              "      <th>25%</th>\n",
              "      <td>4.390460e+06</td>\n",
              "      <td>3.908644e+06</td>\n",
              "      <td>-4.000000e+00</td>\n",
              "    </tr>\n",
              "    <tr>\n",
              "      <th>50%</th>\n",
              "      <td>1.748758e+07</td>\n",
              "      <td>3.087424e+07</td>\n",
              "      <td>9.000000e+00</td>\n",
              "    </tr>\n",
              "    <tr>\n",
              "      <th>75%</th>\n",
              "      <td>3.419332e+07</td>\n",
              "      <td>6.147069e+07</td>\n",
              "      <td>6.500000e+01</td>\n",
              "    </tr>\n",
              "    <tr>\n",
              "      <th>max</th>\n",
              "      <td>4.214195e+07</td>\n",
              "      <td>6.818951e+07</td>\n",
              "      <td>9.116030e+05</td>\n",
              "    </tr>\n",
              "  </tbody>\n",
              "</table>\n",
              "</div>"
            ],
            "text/plain": [
              "             userid        pageid      sizediff\n",
              "count  1.108189e+07  1.108189e+07  1.108189e+07\n",
              "mean   1.919552e+07  3.240817e+07  1.098695e+02\n",
              "std    1.493577e+07  2.626137e+07  2.726467e+03\n",
              "min    2.000000e+00  1.200000e+01 -1.251584e+06\n",
              "25%    4.390460e+06  3.908644e+06 -4.000000e+00\n",
              "50%    1.748758e+07  3.087424e+07  9.000000e+00\n",
              "75%    3.419332e+07  6.147069e+07  6.500000e+01\n",
              "max    4.214195e+07  6.818951e+07  9.116030e+05"
            ]
          },
          "metadata": {
            "tags": []
          },
          "execution_count": 21
        }
      ]
    },
    {
      "cell_type": "code",
      "metadata": {
        "colab": {
          "base_uri": "https://localhost:8080/",
          "height": 173
        },
        "id": "mvU0BTqOVmXs",
        "outputId": "cea875e4-9b28-4a45-f68c-cf6f9fd15562"
      },
      "source": [
        "all_histories.describe(include=['O'])"
      ],
      "execution_count": null,
      "outputs": [
        {
          "output_type": "execute_result",
          "data": {
            "text/html": [
              "<div>\n",
              "<style scoped>\n",
              "    .dataframe tbody tr th:only-of-type {\n",
              "        vertical-align: middle;\n",
              "    }\n",
              "\n",
              "    .dataframe tbody tr th {\n",
              "        vertical-align: top;\n",
              "    }\n",
              "\n",
              "    .dataframe thead th {\n",
              "        text-align: right;\n",
              "    }\n",
              "</style>\n",
              "<table border=\"1\" class=\"dataframe\">\n",
              "  <thead>\n",
              "    <tr style=\"text-align: right;\">\n",
              "      <th></th>\n",
              "      <th>user</th>\n",
              "      <th>title</th>\n",
              "      <th>timestamp</th>\n",
              "    </tr>\n",
              "  </thead>\n",
              "  <tbody>\n",
              "    <tr>\n",
              "      <th>count</th>\n",
              "      <td>11081889</td>\n",
              "      <td>11081889</td>\n",
              "      <td>11081889</td>\n",
              "    </tr>\n",
              "    <tr>\n",
              "      <th>unique</th>\n",
              "      <td>52614</td>\n",
              "      <td>2461545</td>\n",
              "      <td>7275769</td>\n",
              "    </tr>\n",
              "    <tr>\n",
              "      <th>top</th>\n",
              "      <td>BrownHairedGirl</td>\n",
              "      <td>Deaths in 2021</td>\n",
              "      <td>2021-05-01T16:48:50Z</td>\n",
              "    </tr>\n",
              "    <tr>\n",
              "      <th>freq</th>\n",
              "      <td>101279</td>\n",
              "      <td>9709</td>\n",
              "      <td>206</td>\n",
              "    </tr>\n",
              "  </tbody>\n",
              "</table>\n",
              "</div>"
            ],
            "text/plain": [
              "                   user           title             timestamp\n",
              "count          11081889        11081889              11081889\n",
              "unique            52614         2461545               7275769\n",
              "top     BrownHairedGirl  Deaths in 2021  2021-05-01T16:48:50Z\n",
              "freq             101279            9709                   206"
            ]
          },
          "metadata": {
            "tags": []
          },
          "execution_count": 22
        }
      ]
    },
    {
      "cell_type": "code",
      "metadata": {
        "id": "muyaq_HuVsBL"
      },
      "source": [
        "all_histories.to_parquet('wikirecs.parquet.gzip', compression='gzip')"
      ],
      "execution_count": null,
      "outputs": []
    },
    {
      "cell_type": "markdown",
      "metadata": {
        "id": "q_s-Fib4XF31"
      },
      "source": [
        "> Note: Data is also registered with [recochef](https://github.com/sparsh-ai/recochef/blob/master/src/recochef/datasets/wikirecs.py) for easy access"
      ]
    },
    {
      "cell_type": "markdown",
      "metadata": {
        "id": "hMXlY1JF5Lvi"
      },
      "source": [
        "## EDA and Data cleaning"
      ]
    },
    {
      "cell_type": "code",
      "metadata": {
        "id": "LLMOakVK7lZg"
      },
      "source": [
        "!git clone https://github.com/sparsh-ai/reco-wikirecs\n",
        "%cd /content/reco-wikirecs/\n",
        "!pip install -r requirements.txt\n",
        "\n",
        "!pip install -q git+https://github.com/sparsh-ai/recochef.git"
      ],
      "execution_count": null,
      "outputs": []
    },
    {
      "cell_type": "code",
      "metadata": {
        "id": "xX-hzqMQ5Odd"
      },
      "source": [
        "import pandas as pd\n",
        "import numpy as np\n",
        "import seaborn as sns\n",
        "import matplotlib.pyplot as plt\n",
        "\n",
        "import itertools\n",
        "from scipy.sparse import csr_matrix, csc_matrix, lil_matrix, coo_matrix\n",
        "\n",
        "from recochef.datasets.wikirecs import WikiRecs\n",
        "\n",
        "from utils import *\n",
        "from wiki_pull import *"
      ],
      "execution_count": null,
      "outputs": []
    },
    {
      "cell_type": "code",
      "metadata": {
        "id": "X1XNTud2orfP"
      },
      "source": [
        "%matplotlib inline\n",
        "%load_ext autoreload\n",
        "%autoreload 2"
      ],
      "execution_count": null,
      "outputs": []
    },
    {
      "cell_type": "markdown",
      "metadata": {
        "id": "ssPq8Lv5heto"
      },
      "source": [
        "### Data loading"
      ]
    },
    {
      "cell_type": "code",
      "metadata": {
        "id": "19-zA66p5Odf"
      },
      "source": [
        "wikidata = WikiRecs()"
      ],
      "execution_count": null,
      "outputs": []
    },
    {
      "cell_type": "code",
      "metadata": {
        "colab": {
          "base_uri": "https://localhost:8080/"
        },
        "id": "ClFOpx4g5Odf",
        "outputId": "0a11cd60-7888-4f05-9a59-e857705c98d4"
      },
      "source": [
        "df = wikidata.load_interactions()\n",
        "df.info()"
      ],
      "execution_count": null,
      "outputs": [
        {
          "output_type": "stream",
          "text": [
            "<class 'pandas.core.frame.DataFrame'>\n",
            "RangeIndex: 11081889 entries, 0 to 11081888\n",
            "Data columns (total 6 columns):\n",
            " #   Column     Dtype \n",
            "---  ------     ----- \n",
            " 0   USERID     int64 \n",
            " 1   USERNAME   object\n",
            " 2   ITEMID     int64 \n",
            " 3   TITLE      object\n",
            " 4   TIMESTAMP  object\n",
            " 5   SIZEDIFF   int64 \n",
            "dtypes: int64(3), object(3)\n",
            "memory usage: 507.3+ MB\n"
          ],
          "name": "stdout"
        }
      ]
    },
    {
      "cell_type": "code",
      "metadata": {
        "colab": {
          "base_uri": "https://localhost:8080/",
          "height": 204
        },
        "id": "1xeCAd1jcgvx",
        "outputId": "2d7289fc-a8bf-4f7a-f6c4-c26f550cfe3d"
      },
      "source": [
        "df.head()"
      ],
      "execution_count": null,
      "outputs": [
        {
          "output_type": "execute_result",
          "data": {
            "text/html": [
              "<div>\n",
              "<style scoped>\n",
              "    .dataframe tbody tr th:only-of-type {\n",
              "        vertical-align: middle;\n",
              "    }\n",
              "\n",
              "    .dataframe tbody tr th {\n",
              "        vertical-align: top;\n",
              "    }\n",
              "\n",
              "    .dataframe thead th {\n",
              "        text-align: right;\n",
              "    }\n",
              "</style>\n",
              "<table border=\"1\" class=\"dataframe\">\n",
              "  <thead>\n",
              "    <tr style=\"text-align: right;\">\n",
              "      <th></th>\n",
              "      <th>USERID</th>\n",
              "      <th>USERNAME</th>\n",
              "      <th>ITEMID</th>\n",
              "      <th>TITLE</th>\n",
              "      <th>TIMESTAMP</th>\n",
              "      <th>SIZEDIFF</th>\n",
              "    </tr>\n",
              "  </thead>\n",
              "  <tbody>\n",
              "    <tr>\n",
              "      <th>0</th>\n",
              "      <td>430714</td>\n",
              "      <td>Eyetie</td>\n",
              "      <td>22864890</td>\n",
              "      <td>List of Samuel L. Jackson performances</td>\n",
              "      <td>2021-07-08T15:01:39Z</td>\n",
              "      <td>-19</td>\n",
              "    </tr>\n",
              "    <tr>\n",
              "      <th>1</th>\n",
              "      <td>430714</td>\n",
              "      <td>Eyetie</td>\n",
              "      <td>2879406</td>\n",
              "      <td>Jeff Corey</td>\n",
              "      <td>2021-07-07T11:06:50Z</td>\n",
              "      <td>-13</td>\n",
              "    </tr>\n",
              "    <tr>\n",
              "      <th>2</th>\n",
              "      <td>430714</td>\n",
              "      <td>Eyetie</td>\n",
              "      <td>17130609</td>\n",
              "      <td>Antonio Soda</td>\n",
              "      <td>2021-07-05T11:18:51Z</td>\n",
              "      <td>1</td>\n",
              "    </tr>\n",
              "    <tr>\n",
              "      <th>3</th>\n",
              "      <td>430714</td>\n",
              "      <td>Eyetie</td>\n",
              "      <td>13270752</td>\n",
              "      <td>Mr In-Between</td>\n",
              "      <td>2021-06-21T16:48:00Z</td>\n",
              "      <td>-48</td>\n",
              "    </tr>\n",
              "    <tr>\n",
              "      <th>4</th>\n",
              "      <td>430714</td>\n",
              "      <td>Eyetie</td>\n",
              "      <td>6816331</td>\n",
              "      <td>San Giovanni Gemini</td>\n",
              "      <td>2021-06-15T20:40:18Z</td>\n",
              "      <td>3378</td>\n",
              "    </tr>\n",
              "  </tbody>\n",
              "</table>\n",
              "</div>"
            ],
            "text/plain": [
              "   USERID USERNAME  ...             TIMESTAMP SIZEDIFF\n",
              "0  430714   Eyetie  ...  2021-07-08T15:01:39Z      -19\n",
              "1  430714   Eyetie  ...  2021-07-07T11:06:50Z      -13\n",
              "2  430714   Eyetie  ...  2021-07-05T11:18:51Z        1\n",
              "3  430714   Eyetie  ...  2021-06-21T16:48:00Z      -48\n",
              "4  430714   Eyetie  ...  2021-06-15T20:40:18Z     3378\n",
              "\n",
              "[5 rows x 6 columns]"
            ]
          },
          "metadata": {
            "tags": []
          },
          "execution_count": 9
        }
      ]
    },
    {
      "cell_type": "markdown",
      "metadata": {
        "id": "1Qu0d-0Qhg23"
      },
      "source": [
        "### EDA"
      ]
    },
    {
      "cell_type": "code",
      "metadata": {
        "colab": {
          "base_uri": "https://localhost:8080/",
          "height": 435
        },
        "id": "KeeLRV8tfvOd",
        "outputId": "9b81f205-5de1-4460-a325-531eaf30eda3"
      },
      "source": [
        "# Look at the distribution of edit counts\n",
        "edit_counts = df.groupby('USERID').USERID.count().values\n",
        "\n",
        "plt.figure(figsize=(20,8))\n",
        "plt.subplot(1,2,1)\n",
        "sns.distplot(edit_counts,kde=False,bins=np.arange(0,20000,200))\n",
        "plt.xlabel('Number of edits by user')\n",
        "plt.subplot(1,2,2)\n",
        "sns.distplot(edit_counts,kde=False,bins=np.arange(0,200,1))\n",
        "plt.xlim([0,200])\n",
        "plt.xlabel('Number of edits by user')\n",
        "num_counts = len(edit_counts)\n",
        "print(\"Median edit counts: %d\" % np.median(edit_counts))\n",
        "thres = 5\n",
        "over_thres = np.sum(edit_counts > thres)\n",
        "print(\"Number over threshold %d: %d (%.f%%)\" % (thres, over_thres, 100*over_thres/num_counts))"
      ],
      "execution_count": null,
      "outputs": [
        {
          "output_type": "stream",
          "text": [
            "Median edit counts: 11\n",
            "Number over threshold 5: 32145 (61%)\n"
          ],
          "name": "stdout"
        },
        {
          "output_type": "display_data",
          "data": {
            "image/png": "[encoded data removed]",
            "text/plain": [
              "<Figure size 1440x576 with 2 Axes>"
            ]
          },
          "metadata": {
            "tags": [],
            "needs_background": "light"
          }
        }
      ]
    },
    {
      "cell_type": "code",
      "metadata": {
        "colab": {
          "base_uri": "https://localhost:8080/"
        },
        "id": "Y36Q_2ZTgeMl",
        "outputId": "2ef045d2-d681-49c6-892b-f9e19fceb0de"
      },
      "source": [
        "# Most edits by user\n",
        "df.groupby(['USERID','USERNAME']).USERID.count().sort_values(ascending=False)"
      ],
      "execution_count": null,
      "outputs": [
        {
          "output_type": "execute_result",
          "data": {
            "text/plain": [
              "USERID    USERNAME        \n",
              "754619    BrownHairedGirl     101279\n",
              "7611264   AnomieBOT            99911\n",
              "1276024   Lugnuts              84352\n",
              "30583402  Nikolai Kurbatov     72704\n",
              "1261736   Red Director         66104\n",
              "                               ...  \n",
              "39991728  300kdan                  1\n",
              "39988349  Kishore123123            1\n",
              "39980891  Waiting seat             1\n",
              "39979707  Hayley.bowling           1\n",
              "35864949  SoccerMom679             1\n",
              "Name: USERID, Length: 52614, dtype: int64"
            ]
          },
          "metadata": {
            "tags": []
          },
          "execution_count": 18
        }
      ]
    },
    {
      "cell_type": "code",
      "metadata": {
        "colab": {
          "base_uri": "https://localhost:8080/",
          "height": 282
        },
        "id": "DEWSXfV9g94l",
        "outputId": "3f5c41c6-8c59-40a7-d961-2d43ef9c02ee"
      },
      "source": [
        "# Find the elbow in number of edits\n",
        "plt.plot(df.groupby(['USERID','USERNAME']).USERID.count().sort_values(ascending=False).values)\n",
        "# plt.ylim([0,20000])"
      ],
      "execution_count": null,
      "outputs": [
        {
          "output_type": "execute_result",
          "data": {
            "text/plain": [
              "[<matplotlib.lines.Line2D at 0x7f31a6c3e050>]"
            ]
          },
          "metadata": {
            "tags": []
          },
          "execution_count": 20
        },
        {
          "output_type": "display_data",
          "data": {
            "image/png": "[encoded data removed]",
            "text/plain": [
              "<Figure size 432x288 with 1 Axes>"
            ]
          },
          "metadata": {
            "tags": [],
            "needs_background": "light"
          }
        }
      ]
    },
    {
      "cell_type": "code",
      "metadata": {
        "colab": {
          "base_uri": "https://localhost:8080/"
        },
        "id": "z-Yg51cShHdT",
        "outputId": "b1e55e48-974b-44f2-c224-7c6ea76a7df5"
      },
      "source": [
        "# What are the most popular pages (edited by the most users)\n",
        "page_popularity = df.drop_duplicates(subset=['TITLE','USERNAME']).groupby('TITLE').count().USERNAME.sort_values()\n",
        "page_popularity.iloc[-1000:].iloc[::-1]"
      ],
      "execution_count": null,
      "outputs": [
        {
          "output_type": "execute_result",
          "data": {
            "text/plain": [
              "TITLE\n",
              "2021 United States Capitol attack             730\n",
              "Deaths in 2021                                461\n",
              "Donald Trump                                  288\n",
              "Second impeachment of Donald Trump            227\n",
              "Joe Biden                                     226\n",
              "                                             ... \n",
              "Pakistan                                       40\n",
              "League of Legends                              40\n",
              "List of coups and coup attempts by country     40\n",
              "The Penthouse: War in Life                     40\n",
              "Mao Zedong                                     40\n",
              "Name: USERNAME, Length: 1000, dtype: int64"
            ]
          },
          "metadata": {
            "tags": []
          },
          "execution_count": 21
        }
      ]
    },
    {
      "cell_type": "code",
      "metadata": {
        "colab": {
          "base_uri": "https://localhost:8080/"
        },
        "id": "T0p3yQorpFWs",
        "outputId": "3136f4a0-038c-4722-cf18-8cad5199fd3f"
      },
      "source": [
        "df.sample().USERNAME"
      ],
      "execution_count": null,
      "outputs": [
        {
          "output_type": "execute_result",
          "data": {
            "text/plain": [
              "10890967    SanAnMan\n",
              "Name: USERNAME, dtype: object"
            ]
          },
          "metadata": {
            "tags": []
          },
          "execution_count": 66
        }
      ]
    },
    {
      "cell_type": "code",
      "metadata": {
        "colab": {
          "base_uri": "https://localhost:8080/",
          "height": 419
        },
        "id": "f5zITFxcozuU",
        "outputId": "92908c8e-2847-4d48-f1f9-3178a3bc5d53"
      },
      "source": [
        "cols = ['userid', 'user', 'pageid', 'title',\n",
        "       'timestamp', 'sizediff']\n",
        "\n",
        "oneuser = get_edit_history(user=\"SanAnMan\",\n",
        "                            latest_timestamp=\"2021-07-08T22:02:09Z\",\n",
        "                            earliest_timestamp=\"2020-05-28T22:02:09Z\")\n",
        "\n",
        "oneuser = pd.DataFrame(oneuser).loc[:,cols]\n",
        "oneuser"
      ],
      "execution_count": null,
      "outputs": [
        {
          "output_type": "execute_result",
          "data": {
            "text/html": [
              "<div>\n",
              "<style scoped>\n",
              "    .dataframe tbody tr th:only-of-type {\n",
              "        vertical-align: middle;\n",
              "    }\n",
              "\n",
              "    .dataframe tbody tr th {\n",
              "        vertical-align: top;\n",
              "    }\n",
              "\n",
              "    .dataframe thead th {\n",
              "        text-align: right;\n",
              "    }\n",
              "</style>\n",
              "<table border=\"1\" class=\"dataframe\">\n",
              "  <thead>\n",
              "    <tr style=\"text-align: right;\">\n",
              "      <th></th>\n",
              "      <th>userid</th>\n",
              "      <th>user</th>\n",
              "      <th>pageid</th>\n",
              "      <th>title</th>\n",
              "      <th>timestamp</th>\n",
              "      <th>sizediff</th>\n",
              "    </tr>\n",
              "  </thead>\n",
              "  <tbody>\n",
              "    <tr>\n",
              "      <th>0</th>\n",
              "      <td>14943992</td>\n",
              "      <td>SanAnMan</td>\n",
              "      <td>33275261</td>\n",
              "      <td>Disney's My Son Pinocchio: Geppetto's Musical ...</td>\n",
              "      <td>2021-07-08T15:16:51Z</td>\n",
              "      <td>59</td>\n",
              "    </tr>\n",
              "    <tr>\n",
              "      <th>1</th>\n",
              "      <td>14943992</td>\n",
              "      <td>SanAnMan</td>\n",
              "      <td>67347035</td>\n",
              "      <td>MasterChef (American season 11)</td>\n",
              "      <td>2021-07-07T17:59:42Z</td>\n",
              "      <td>0</td>\n",
              "    </tr>\n",
              "    <tr>\n",
              "      <th>2</th>\n",
              "      <td>14943992</td>\n",
              "      <td>SanAnMan</td>\n",
              "      <td>35968550</td>\n",
              "      <td>MasterChef (American season 1)</td>\n",
              "      <td>2021-07-07T13:32:53Z</td>\n",
              "      <td>-39</td>\n",
              "    </tr>\n",
              "    <tr>\n",
              "      <th>3</th>\n",
              "      <td>14943992</td>\n",
              "      <td>SanAnMan</td>\n",
              "      <td>39462622</td>\n",
              "      <td>MasterChef (American season 4)</td>\n",
              "      <td>2021-07-05T23:19:07Z</td>\n",
              "      <td>4</td>\n",
              "    </tr>\n",
              "    <tr>\n",
              "      <th>4</th>\n",
              "      <td>14943992</td>\n",
              "      <td>SanAnMan</td>\n",
              "      <td>224267</td>\n",
              "      <td>List of South Park episodes</td>\n",
              "      <td>2021-07-04T22:09:14Z</td>\n",
              "      <td>-449</td>\n",
              "    </tr>\n",
              "    <tr>\n",
              "      <th>...</th>\n",
              "      <td>...</td>\n",
              "      <td>...</td>\n",
              "      <td>...</td>\n",
              "      <td>...</td>\n",
              "      <td>...</td>\n",
              "      <td>...</td>\n",
              "    </tr>\n",
              "    <tr>\n",
              "      <th>955</th>\n",
              "      <td>14943992</td>\n",
              "      <td>SanAnMan</td>\n",
              "      <td>37028949</td>\n",
              "      <td>Christine Hà</td>\n",
              "      <td>2020-05-29T15:09:12Z</td>\n",
              "      <td>2</td>\n",
              "    </tr>\n",
              "    <tr>\n",
              "      <th>956</th>\n",
              "      <td>14943992</td>\n",
              "      <td>SanAnMan</td>\n",
              "      <td>64108835</td>\n",
              "      <td>Christine Ha</td>\n",
              "      <td>2020-05-29T15:07:58Z</td>\n",
              "      <td>74</td>\n",
              "    </tr>\n",
              "    <tr>\n",
              "      <th>957</th>\n",
              "      <td>14943992</td>\n",
              "      <td>SanAnMan</td>\n",
              "      <td>37028949</td>\n",
              "      <td>Christine Hà</td>\n",
              "      <td>2020-05-29T15:07:57Z</td>\n",
              "      <td>0</td>\n",
              "    </tr>\n",
              "    <tr>\n",
              "      <th>958</th>\n",
              "      <td>14943992</td>\n",
              "      <td>SanAnMan</td>\n",
              "      <td>39462622</td>\n",
              "      <td>MasterChef (American season 4)</td>\n",
              "      <td>2020-05-29T10:34:08Z</td>\n",
              "      <td>-115</td>\n",
              "    </tr>\n",
              "    <tr>\n",
              "      <th>959</th>\n",
              "      <td>14943992</td>\n",
              "      <td>SanAnMan</td>\n",
              "      <td>36084326</td>\n",
              "      <td>MasterChef (American season 3)</td>\n",
              "      <td>2020-05-29T10:33:20Z</td>\n",
              "      <td>20</td>\n",
              "    </tr>\n",
              "  </tbody>\n",
              "</table>\n",
              "<p>960 rows × 6 columns</p>\n",
              "</div>"
            ],
            "text/plain": [
              "       userid      user  ...             timestamp sizediff\n",
              "0    14943992  SanAnMan  ...  2021-07-08T15:16:51Z       59\n",
              "1    14943992  SanAnMan  ...  2021-07-07T17:59:42Z        0\n",
              "2    14943992  SanAnMan  ...  2021-07-07T13:32:53Z      -39\n",
              "3    14943992  SanAnMan  ...  2021-07-05T23:19:07Z        4\n",
              "4    14943992  SanAnMan  ...  2021-07-04T22:09:14Z     -449\n",
              "..        ...       ...  ...                   ...      ...\n",
              "955  14943992  SanAnMan  ...  2020-05-29T15:09:12Z        2\n",
              "956  14943992  SanAnMan  ...  2020-05-29T15:07:58Z       74\n",
              "957  14943992  SanAnMan  ...  2020-05-29T15:07:57Z        0\n",
              "958  14943992  SanAnMan  ...  2020-05-29T10:34:08Z     -115\n",
              "959  14943992  SanAnMan  ...  2020-05-29T10:33:20Z       20\n",
              "\n",
              "[960 rows x 6 columns]"
            ]
          },
          "metadata": {
            "tags": []
          },
          "execution_count": 68
        }
      ]
    },
    {
      "cell_type": "markdown",
      "metadata": {
        "id": "aF2RyBNxhiXv"
      },
      "source": [
        "### Data cleaning"
      ]
    },
    {
      "cell_type": "markdown",
      "metadata": {
        "id": "Qu3Pz_tS-WMQ"
      },
      "source": [
        "#### Remove consecutive edits and summarize runs"
      ]
    },
    {
      "cell_type": "code",
      "metadata": {
        "ExecuteTime": {
          "end_time": "2021-05-29T04:08:13.618872Z",
          "start_time": "2021-05-29T04:05:23.871914Z"
        },
        "id": "7hWZQkiX-WMR",
        "colab": {
          "base_uri": "https://localhost:8080/"
        },
        "outputId": "98ac4ee0-37a6-44cb-d89e-e28d209ba3ee"
      },
      "source": [
        "%%time\n",
        "def remove_consecutive_edits(df):\n",
        "    c = dict(zip(df.columns, range(len(df.columns))))\n",
        "    \n",
        "    keyfunc = lambda x: (x[c['USERID']],x[c['ITEMID']])\n",
        "    first_and_last = lambda run: [run[0][c['USERID']],\n",
        "                                run[0][c['USERNAME']],\n",
        "                                run[0][c['ITEMID']],\n",
        "                                run[0][c['TITLE']],\n",
        "                                run[-1][c['TIMESTAMP']],\n",
        "                                run[0][c['TIMESTAMP']],\n",
        "                                sum([abs(r[c['SIZEDIFF']]) for r in run]),\n",
        "                                len(run)]\n",
        "    d  = df.values.tolist()\n",
        "    return pd.DataFrame([first_and_last(list(g)) for k,g in itertools.groupby(d, key=keyfunc)], \n",
        "                        columns=['USERID', 'USER', 'ITEMID', 'TITLE', 'FIRST_TIMESTAMP', 'LAST_TIMESTAMP','SUM_SIZEDIFF','CONSECUTIVE_EDITS'])\n",
        "                        \n",
        "clean_df = remove_consecutive_edits(df)"
      ],
      "execution_count": null,
      "outputs": [
        {
          "output_type": "stream",
          "text": [
            "CPU times: user 58.4 s, sys: 2.15 s, total: 1min\n",
            "Wall time: 1min\n"
          ],
          "name": "stdout"
        }
      ]
    },
    {
      "cell_type": "markdown",
      "metadata": {
        "id": "ybEnBJ3p-WMT"
      },
      "source": [
        "#### Remove top N most popular pages"
      ]
    },
    {
      "cell_type": "code",
      "metadata": {
        "ExecuteTime": {
          "end_time": "2021-05-29T04:09:04.536373Z",
          "start_time": "2021-05-29T04:08:13.623160Z"
        },
        "id": "jOEyyMOs-WMU",
        "colab": {
          "base_uri": "https://localhost:8080/"
        },
        "outputId": "372cec11-d432-46f4-bf33-d52962a4a222"
      },
      "source": [
        "# Get the top most popular pages\n",
        "TOPN = 20\n",
        "popularpages = df.drop_duplicates(subset=['TITLE','ITEMID','USERID']).groupby(['TITLE','ITEMID']).count().USERNAME.sort_values()[-TOPN:]\n",
        "popularpages"
      ],
      "execution_count": null,
      "outputs": [
        {
          "output_type": "execute_result",
          "data": {
            "text/plain": [
              "TITLE                                                  ITEMID  \n",
              "93rd Academy Awards                                    63807881    150\n",
              "2021 Myanmar coup d'état                               66567997    151\n",
              "Death and funeral of Prince Philip, Duke of Edinburgh  67349313    156\n",
              "WandaVision                                            59082207    158\n",
              "2020 United States presidential election               48410011    168\n",
              "2021 Suez Canal obstruction                            67204875    168\n",
              "Eurovision Song Contest 2021                           62877212    172\n",
              "Zack Snyder's Justice League                           64017869    172\n",
              "COVID-19 vaccine                                       63319438    187\n",
              "2021 Israel–Palestine crisis                           67620503    189\n",
              "COVID-19 pandemic                                      62750956    190\n",
              "Prince Philip, Duke of Edinburgh                       62093       191\n",
              "GameStop short squeeze                                 66516682    209\n",
              "Surfside condominium building collapse                 68035614    212\n",
              "2021                                                   51397       223\n",
              "Joe Biden                                              145422      226\n",
              "Second impeachment of Donald Trump                     66310761    227\n",
              "Donald Trump                                           4848272     288\n",
              "Deaths in 2021                                         65984422    461\n",
              "2021 United States Capitol attack                      66307490    730\n",
              "Name: USERNAME, dtype: int64"
            ]
          },
          "metadata": {
            "tags": []
          },
          "execution_count": 27
        }
      ]
    },
    {
      "cell_type": "code",
      "metadata": {
        "ExecuteTime": {
          "end_time": "2021-05-29T04:09:22.828047Z",
          "start_time": "2021-05-29T04:09:22.788680Z"
        },
        "id": "uSz0qP6g-WMV",
        "colab": {
          "base_uri": "https://localhost:8080/"
        },
        "outputId": "f8dddfa2-c74d-4216-8492-6b6605b95a86"
      },
      "source": [
        "# Remove those popular pages\n",
        "before_count = len(df)\n",
        "popular_pageids = popularpages.index.get_level_values(level='ITEMID').values\n",
        "is_popular_page_edit = clean_df.ITEMID.isin(popular_pageids)\n",
        "clean_df = clean_df.loc[~is_popular_page_edit].copy()\n",
        "all_histories = None\n",
        "after_count = len(clean_df)\n",
        "print(\"%d edits (%.1f%%) were in top %d popular pages. Length after removing: %d\" % (np.sum(is_popular_page_edit), \n",
        "                                                                                     100* np.sum(is_popular_page_edit)/before_count,\n",
        "                                                                                     TOPN,\n",
        "                                                                                     after_count)\n",
        "     )"
      ],
      "execution_count": null,
      "outputs": [
        {
          "output_type": "stream",
          "text": [
            "19231 edits (0.2%) were in top 20 popular pages. Length after removing: 7604316\n"
          ],
          "name": "stdout"
        }
      ]
    },
    {
      "cell_type": "code",
      "metadata": {
        "ExecuteTime": {
          "end_time": "2021-05-29T04:10:17.111715Z",
          "start_time": "2021-05-29T04:10:15.524866Z"
        },
        "id": "YLAq2a7I-WMZ",
        "colab": {
          "base_uri": "https://localhost:8080/"
        },
        "outputId": "860cc588-196c-4d76-dc7e-67257d66a41a"
      },
      "source": [
        "print(\"Number of unique page ids: {}\".format(len(clean_df.ITEMID.unique())))"
      ],
      "execution_count": null,
      "outputs": [
        {
          "output_type": "stream",
          "text": [
            "Number of unique page ids: 2461524\n"
          ],
          "name": "stdout"
        }
      ]
    },
    {
      "cell_type": "markdown",
      "metadata": {
        "id": "R8hqTBZZ-WMa"
      },
      "source": [
        "#### Remove users with too many or too few edits"
      ]
    },
    {
      "cell_type": "code",
      "metadata": {
        "ExecuteTime": {
          "end_time": "2021-05-29T04:10:30.139684Z",
          "start_time": "2021-05-29T04:10:30.097942Z"
        },
        "id": "WajFz7Bz-WMc"
      },
      "source": [
        "MIN_EDITS = 5\n",
        "MAX_EDITS = 10000"
      ],
      "execution_count": null,
      "outputs": []
    },
    {
      "cell_type": "code",
      "metadata": {
        "ExecuteTime": {
          "end_time": "2021-05-29T04:10:45.169198Z",
          "start_time": "2021-05-29T04:10:45.104784Z"
        },
        "id": "SnbOrhH9-WMd",
        "colab": {
          "base_uri": "https://localhost:8080/"
        },
        "outputId": "17467712-d2cd-4ee8-81fe-73901448d891"
      },
      "source": [
        "# Get user edit counts\n",
        "all_user_edit_counts = clean_df.groupby(['USERID','USER']).USERID.count()\n",
        "\n",
        "# Remove users with too few edits\n",
        "keep_user = all_user_edit_counts.values >= MIN_EDITS\n",
        "\n",
        "# Remove users with too many edits\n",
        "keep_user = keep_user & (all_user_edit_counts.values <= MAX_EDITS)\n",
        "\n",
        "# Remove users with \"bot\" in the name\n",
        "is_bot = ['bot' in username.lower() for username in all_user_edit_counts.index.get_level_values(1).values]\n",
        "keep_user = keep_user & ~np.array(is_bot)\n",
        "print(\"Keep %d users out of %d (%.1f%%)\" % (np.sum(keep_user), len(all_user_edit_counts), 100*float(np.sum(keep_user))/len(all_user_edit_counts)))"
      ],
      "execution_count": null,
      "outputs": [
        {
          "output_type": "stream",
          "text": [
            "Keep 28091 users out of 52593 (53.4%)\n"
          ],
          "name": "stdout"
        }
      ]
    },
    {
      "cell_type": "code",
      "metadata": {
        "ExecuteTime": {
          "end_time": "2021-05-29T04:11:02.979941Z",
          "start_time": "2021-05-29T04:10:58.731024Z"
        },
        "id": "nWX-64bD-WMf"
      },
      "source": [
        "# Remove those users\n",
        "userids_to_keep = all_user_edit_counts.index.get_level_values(0).values[keep_user]\n",
        "\n",
        "clean_df = clean_df.loc[clean_df.USERID.isin(userids_to_keep)]\n",
        "\n",
        "clean_df = clean_df.reset_index(drop=True)"
      ],
      "execution_count": null,
      "outputs": []
    },
    {
      "cell_type": "code",
      "metadata": {
        "ExecuteTime": {
          "end_time": "2021-05-29T04:11:04.381208Z",
          "start_time": "2021-05-29T04:11:04.334748Z"
        },
        "id": "WbfD8r0w-WMg",
        "colab": {
          "base_uri": "https://localhost:8080/"
        },
        "outputId": "0c2dc2e6-ab40-4d48-ff4d-4415f45f459a"
      },
      "source": [
        "print(\"Length after removing users: {}\".format(len(clean_df)))"
      ],
      "execution_count": null,
      "outputs": [
        {
          "output_type": "stream",
          "text": [
            "Length after removing users: 5907255\n"
          ],
          "name": "stdout"
        }
      ]
    },
    {
      "cell_type": "markdown",
      "metadata": {
        "id": "RjNaQy7Y-WMi"
      },
      "source": [
        "### Build lookup tables"
      ]
    },
    {
      "cell_type": "code",
      "metadata": {
        "ExecuteTime": {
          "end_time": "2021-05-29T04:12:01.890736Z",
          "start_time": "2021-05-29T04:11:54.596734Z"
        },
        "lines_to_next_cell": 2,
        "id": "EGhN2Znk-WMj"
      },
      "source": [
        "# Page id to title and back\n",
        "lookup = clean_df.drop_duplicates(subset=['ITEMID']).loc[:,['ITEMID','TITLE']]\n",
        "p2t = dict(zip(lookup.ITEMID, lookup.TITLE))\n",
        "t2p = dict(zip(lookup.TITLE, lookup.ITEMID))\n",
        "\n",
        "# User id to name and back\n",
        "lookup = clean_df.drop_duplicates(subset=['USERID']).loc[:,['USERID','USER']]\n",
        "u2n = dict(zip(lookup.USERID, lookup.USER))\n",
        "n2u = dict(zip(lookup.USER, lookup.USERID))"
      ],
      "execution_count": null,
      "outputs": []
    },
    {
      "cell_type": "code",
      "metadata": {
        "ExecuteTime": {
          "end_time": "2021-05-29T04:12:04.799445Z",
          "start_time": "2021-05-29T04:12:01.893065Z"
        },
        "lines_to_next_cell": 2,
        "id": "lOfK-7xE-WMk"
      },
      "source": [
        "# Page id and userid to index in cooccurence matrix and back\n",
        "pageids = np.sort(clean_df.ITEMID.unique())\n",
        "userids = np.sort(clean_df.USERID.unique())\n",
        " \n",
        "p2i = {pageid:i for i, pageid in enumerate(pageids)}\n",
        "u2i = {userid:i for i, userid in enumerate(userids)}\n",
        "\n",
        "\n",
        "i2p = {v: k for k, v in p2i.items()}\n",
        "i2u = {v: k for k, v in u2i.items()}"
      ],
      "execution_count": null,
      "outputs": []
    },
    {
      "cell_type": "code",
      "metadata": {
        "ExecuteTime": {
          "end_time": "2021-05-29T04:12:10.441224Z",
          "start_time": "2021-05-29T04:12:04.803249Z"
        },
        "id": "KOSXJpAr-WMl"
      },
      "source": [
        "# User name and page title to index and back\n",
        "n2i = {k:u2i[v] for k, v in n2u.items() if v in u2i}\n",
        "t2i = {k:p2i[v] for k, v in t2p.items() if v in p2i}\n",
        "\n",
        "i2n = {v: k for k, v in n2i.items()}\n",
        "i2t = {v: k for k, v in t2i.items()}"
      ],
      "execution_count": null,
      "outputs": []
    },
    {
      "cell_type": "markdown",
      "metadata": {
        "id": "QSrLvJ9W-WMn"
      },
      "source": [
        "### Build test and training set"
      ]
    },
    {
      "cell_type": "code",
      "metadata": {
        "ExecuteTime": {
          "end_time": "2021-05-29T04:14:09.700442Z",
          "start_time": "2021-05-29T04:14:02.792478Z"
        },
        "id": "ay5BdOLB-WMo"
      },
      "source": [
        "# Make a test set from the most recent edit by each user\n",
        "histories_test = clean_df.groupby(['USERID','USER'],as_index=False).first()"
      ],
      "execution_count": null,
      "outputs": []
    },
    {
      "cell_type": "code",
      "metadata": {
        "ExecuteTime": {
          "end_time": "2021-05-29T04:15:17.642538Z",
          "start_time": "2021-05-29T04:14:09.703811Z"
        },
        "id": "ab8sxNLt-WMo"
      },
      "source": [
        "# Subtract it from the rest to make the training set\n",
        "histories_train = dataframe_set_subtract(clean_df, histories_test)\n",
        "histories_train.reset_index(drop=True, inplace=True)"
      ],
      "execution_count": null,
      "outputs": []
    },
    {
      "cell_type": "code",
      "metadata": {
        "ExecuteTime": {
          "end_time": "2021-05-29T04:16:33.111489Z",
          "start_time": "2021-05-29T04:15:17.645533Z"
        },
        "id": "ZVWFlnSK-WMp"
      },
      "source": [
        "# Make a dev set from the second most recent edit by each user\n",
        "histories_dev = histories_train.groupby(['USERID','USER'],as_index=False).first()\n",
        "# Subtract it from the rest to make the final training set\n",
        "histories_train = dataframe_set_subtract(histories_train, histories_dev)\n",
        "histories_train.reset_index(drop=True, inplace=True)"
      ],
      "execution_count": null,
      "outputs": []
    },
    {
      "cell_type": "code",
      "metadata": {
        "colab": {
          "base_uri": "https://localhost:8080/"
        },
        "id": "peWz8aTJmNGt",
        "outputId": "765d7fb4-2f3f-49cb-a2ad-b6675b7fa2db"
      },
      "source": [
        "print(\"Length of test set: {}\".format(len(histories_test)))\n",
        "print(\"Length of dev set: {}\".format(len(histories_dev)))\n",
        "print(\"Length of training after removal of test: {}\".format(len(histories_train)))"
      ],
      "execution_count": null,
      "outputs": [
        {
          "output_type": "stream",
          "text": [
            "Length of test set: 28091\n",
            "Length of dev set: 28091\n",
            "Length of training after removal of test: 5849876\n"
          ],
          "name": "stdout"
        }
      ]
    },
    {
      "cell_type": "code",
      "metadata": {
        "ExecuteTime": {
          "end_time": "2021-05-29T04:16:56.782098Z",
          "start_time": "2021-05-29T04:16:33.155700Z"
        },
        "id": "cYDo1XJM-WMr",
        "colab": {
          "base_uri": "https://localhost:8080/"
        },
        "outputId": "1c7d52b3-b616-4ca8-c810-4e0567a33a9d"
      },
      "source": [
        "print(\"Number of pages in training set: {}\".format(len(histories_train.ITEMID.unique())))\n",
        "print(\"Number of users in training set: {}\".format(len(histories_train.USERID.unique())))\n",
        "print(\"Number of pages with > 1 user editing: {}\".format(np.sum(histories_train.drop_duplicates(subset=['TITLE','USER']).groupby('TITLE').count().USER > 1)))"
      ],
      "execution_count": null,
      "outputs": [
        {
          "output_type": "stream",
          "text": [
            "Number of pages in training set: 1962283\n",
            "Number of users in training set: 28090\n",
            "Number of pages with > 1 user editing: 644980\n"
          ],
          "name": "stdout"
        }
      ]
    },
    {
      "cell_type": "code",
      "metadata": {
        "ExecuteTime": {
          "end_time": "2021-05-31T16:35:23.623283Z",
          "start_time": "2021-05-31T16:35:17.717255Z"
        },
        "id": "ht3O-0DL-WMx",
        "colab": {
          "base_uri": "https://localhost:8080/"
        },
        "outputId": "365a7edf-d948-4739-8705-5c1129ea27fe"
      },
      "source": [
        "resurface_userids, discovery_userids = get_resurface_discovery(histories_train, histories_dev)\n",
        "\n",
        "print(\"%d out of %d userids are resurfaced (%.1f%%)\" % (len(resurface_userids), len(userids), 100*float(len(resurface_userids))/len(userids)))\n",
        "print(\"%d out of %d userids are discovered (%.1f%%)\" % (len(discovery_userids), len(userids), 100*float(len(discovery_userids))/len(userids)))"
      ],
      "execution_count": null,
      "outputs": [
        {
          "output_type": "stream",
          "text": [
            "7760 out of 28090 userids are resurfaced (27.6%)\n",
            "20330 out of 28090 userids are discovered (72.4%)\n"
          ],
          "name": "stdout"
        }
      ]
    },
    {
      "cell_type": "markdown",
      "metadata": {
        "id": "sgzzNkOxr8Z9"
      },
      "source": [
        "### Build matrix for implicit collaborative filtering"
      ]
    },
    {
      "cell_type": "code",
      "metadata": {
        "id": "tKvJEuJNrrs-"
      },
      "source": [
        "# Get the user/page edit counts\n",
        "for_implicit = histories_train.groupby([\"USERID\",\"ITEMID\"]).count().FIRST_TIMESTAMP.reset_index().rename(columns={'FIRST_TIMESTAMP':'edits'})\n",
        "for_implicit.loc[:,'edits'] = for_implicit.edits.astype(np.int32)"
      ],
      "execution_count": null,
      "outputs": []
    },
    {
      "cell_type": "code",
      "metadata": {
        "id": "78pLFLfesDF1"
      },
      "source": [
        "row = np.array([p2i[p] for p in for_implicit.ITEMID.values])\n",
        "col = np.array([u2i[u] for u in for_implicit.USERID.values])\n",
        "\n",
        "implicit_matrix_coo = coo_matrix((for_implicit.edits.values, (row, col)))\n",
        "\n",
        "implicit_matrix = csc_matrix(implicit_matrix_coo)"
      ],
      "execution_count": null,
      "outputs": []
    },
    {
      "cell_type": "markdown",
      "metadata": {
        "id": "2GtDLqdKsx1d"
      },
      "source": [
        "### Saving artifacts"
      ]
    },
    {
      "cell_type": "code",
      "metadata": {
        "id": "cX7sQzl_nNx3"
      },
      "source": [
        "save_pickle((p2t, t2p, u2n, n2u, p2i, u2i, i2p, i2u, n2i, t2i, i2n, i2t), 'lookup_tables.pickle')\n",
        "save_pickle((userids, pageids), 'users_and_pages.pickle')\n",
        "save_pickle((resurface_userids, discovery_userids), 'resurface_discovery_users.pickle')\n",
        "save_pickle(implicit_matrix,'implicit_matrix.pickle')"
      ],
      "execution_count": null,
      "outputs": []
    }
  ]
}