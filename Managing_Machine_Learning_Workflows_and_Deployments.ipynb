{
  "nbformat": 4,
  "nbformat_minor": 0,
  "metadata": {
    "colab": {
      "name": "Managing Machine Learning Workflows and Deployments",
      "provenance": [],
      "collapsed_sections": [],
      "toc_visible": true
    },
    "kernelspec": {
      "name": "python3",
      "display_name": "Python 3"
    },
    "language_info": {
      "name": "python"
    }
  },
  "cells": [
    {
      "cell_type": "markdown",
      "source": [
        "# Managing Machine Learning Workflows and Deployments"
      ],
      "metadata": {
        "id": "0alAXTgxsMFE"
      }
    },
    {
      "cell_type": "markdown",
      "source": [
        "![](https://drive.google.com/uc?id=1ectGaJhXUbii8go0lbrbWoCyNdqldrAF&authuser=recohut.data.001%40gmail.com&usp=drive_fs)"
      ],
      "metadata": {
        "id": "0o9TkhqQ2QsF"
      }
    },
    {
      "cell_type": "markdown",
      "source": [
        "We will cover the following recipes in this tutorial:\n",
        "\n",
        "- Working with Hugging Face models\n",
        "- Preparing the prerequisites of a multi-model endpoint deployment\n",
        "- Hosting multiple models with multi-model endpoints\n",
        "- Setting up A/B testing on multiple models with production variants\n",
        "- Preparing the Step Functions execution role\n",
        "- Managing ML workflows with AWS Step Functions and the Data Science SDK\n",
        "- Managing ML workflows with SageMaker Pipelines"
      ],
      "metadata": {
        "id": "TodGsJMlskk5"
      }
    },
    {
      "cell_type": "markdown",
      "source": [
        "## Setup"
      ],
      "metadata": {
        "id": "buQG1NwoZ45_"
      }
    },
    {
      "cell_type": "code",
      "source": [
        "# install tree command (helpful in printing folder structures)\n",
        "!apt-get install tree\n",
        "\n",
        "# setup AWS cli\n",
        "!mkdir -p ~/.aws && cp /content/drive/MyDrive/AWS/d01_admin/* ~/.aws\n",
        "!chmod 600 ~/.aws/credentials\n",
        "!pip install awscli\n",
        "\n",
        "# install boto3 and sagemaker\n",
        "!pip install boto3\n",
        "!pip install sagemaker\n",
        "\n",
        "# install dependencies\n",
        "!pip install pyathena\n",
        "!pip install awswrangler\n",
        "!pip install smclarify\n",
        "!pip install sagemaker-experiments\n",
        "!pip install sagemaker-tensorflow\n",
        "!pip install smclarify\n",
        "!pip install stepfunctions\n",
        "\n",
        "# install nlp libs\n",
        "!pip install transformers"
      ],
      "metadata": {
        "id": "e_EHScmWJiqk"
      },
      "execution_count": null,
      "outputs": []
    },
    {
      "cell_type": "code",
      "source": [
        "# imports\n",
        "import boto3\n",
        "import sagemaker\n",
        "import re\n",
        "import pandas as pd\n",
        "import numpy as np\n",
        "import matplotlib.pyplot as plt\n",
        "import io\n",
        "import os\n",
        "import sys\n",
        "import time\n",
        "import json\n",
        "from sagemaker.estimator import Estimator\n",
        "from sagemaker.inputs import TrainingInput\n",
        "from sagemaker.serializers import JSONSerializer\n",
        "from sagemaker.multidatamodel import MultiDataModel\n",
        "from sagemaker.predictor import Predictor\n",
        "from sagemaker.serializers import CSVSerializer\n",
        "from sagemaker.deserializers import JSONDeserializer"
      ],
      "metadata": {
        "id": "shclWy5gJkLA"
      },
      "execution_count": 1,
      "outputs": []
    },
    {
      "cell_type": "code",
      "source": [
        "# global variables\n",
        "role = \"sagemakerRole\"\n",
        "prefix = \"sagemaker-exp11060345\"\n",
        "training_instance_type = \"ml.m5.xlarge\""
      ],
      "metadata": {
        "id": "saHf4b7SJlrM"
      },
      "execution_count": 2,
      "outputs": []
    },
    {
      "cell_type": "code",
      "source": [
        "# setup sagemaker session\n",
        "sess = sagemaker.Session()\n",
        "bucket = sess.default_bucket()\n",
        "region = boto3.Session().region_name\n",
        "account_id = boto3.client(\"sts\").get_caller_identity().get(\"Account\")\n",
        "role_arn = \"arn:aws:iam::{}:role/{}\".format(account_id, role)\n",
        "sm = boto3.Session().client(service_name=\"sagemaker\", region_name=region)\n",
        "s3 = boto3.Session().client(service_name=\"s3\", region_name=region)\n",
        "runtime_sm_client = boto3.client('sagemaker-runtime')"
      ],
      "metadata": {
        "id": "QoL2z13gJm-T"
      },
      "execution_count": 3,
      "outputs": []
    },
    {
      "cell_type": "code",
      "source": [
        "!git clone https://github.com/RecoHut-Datasets/synthetic_text.git"
      ],
      "metadata": {
        "colab": {
          "base_uri": "https://localhost:8080/"
        },
        "id": "uBYizA2ys0T_",
        "outputId": "96c1c1f0-f103-4542-9514-4ccea802be23"
      },
      "execution_count": 9,
      "outputs": [
        {
          "output_type": "stream",
          "name": "stdout",
          "text": [
            "Cloning into 'synthetic_text'...\n",
            "remote: Enumerating objects: 13, done.\u001b[K\n",
            "remote: Counting objects: 100% (13/13), done.\u001b[K\n",
            "remote: Compressing objects: 100% (11/11), done.\u001b[K\n",
            "remote: Total 13 (delta 1), reused 13 (delta 1), pack-reused 0\u001b[K\n",
            "Unpacking objects: 100% (13/13), done.\n"
          ]
        }
      ]
    },
    {
      "cell_type": "markdown",
      "source": [
        "## Working with Hugging Face models"
      ],
      "metadata": {
        "id": "pX0tnjk8sz-L"
      }
    },
    {
      "cell_type": "code",
      "source": [
        "s3_train_data = 's3://{}/{}/input/{}'.format(\n",
        "    bucket, \n",
        "    prefix, \n",
        "    \"synthetic.train.txt\"\n",
        ")\n",
        "s3_validation_data = 's3://{}/{}/input/{}'.format(\n",
        "    bucket, \n",
        "    prefix, \n",
        "    \"synthetic.validation.txt\"\n",
        ")"
      ],
      "metadata": {
        "id": "b8iHBH6nuU7R"
      },
      "execution_count": 6,
      "outputs": []
    },
    {
      "cell_type": "code",
      "source": [
        "!aws s3 cp synthetic_text/synthetic.train.txt {s3_train_data}\n",
        "!aws s3 cp synthetic_text/synthetic.validation.txt {s3_validation_data}"
      ],
      "metadata": {
        "colab": {
          "base_uri": "https://localhost:8080/"
        },
        "id": "TzpzVniiuQRT",
        "outputId": "2c21b099-f21e-4116-c90c-c1677841553d"
      },
      "execution_count": null,
      "outputs": [
        {
          "output_type": "stream",
          "name": "stdout",
          "text": [
            "upload: synthetic_text/synthetic.train.txt to s3://sagemaker-us-east-1-390354360073/sagemaker-exp11060345/input/synthetic.train.txt\n",
            "upload: synthetic_text/synthetic.validation.txt to s3://sagemaker-us-east-1-390354360073/sagemaker-exp11060345/input/synthetic.validation.txt\n"
          ]
        }
      ]
    },
    {
      "cell_type": "code",
      "source": [
        "from sagemaker.huggingface import HuggingFace\n",
        "\n",
        "hyperparameters = {\n",
        "    'epochs': 1,\n",
        "    'train_batch_size': 32,\n",
        "    'model_name':'distilbert-base-uncased'\n",
        "}\n",
        "\n",
        "estimator = HuggingFace(\n",
        "    entry_point='train.py',\n",
        "    source_dir='./synthetic_text',\n",
        "    instance_type='ml.p3.2xlarge',\n",
        "    instance_count=1,\n",
        "    role=role,\n",
        "    transformers_version='4.4',\n",
        "    pytorch_version='1.6',\n",
        "    py_version='py36',\n",
        "    hyperparameters=hyperparameters\n",
        ")"
      ],
      "metadata": {
        "id": "uqNpB-ODuZLX"
      },
      "execution_count": null,
      "outputs": []
    },
    {
      "cell_type": "code",
      "source": [
        "train_data = TrainingInput(s3_train_data)\n",
        "validation_data = TrainingInput(s3_validation_data)\n",
        "\n",
        "data_channels = {\n",
        "    'train': train_data, \n",
        "    'valid': validation_data\n",
        "}"
      ],
      "metadata": {
        "id": "A99HZr86ue5S"
      },
      "execution_count": null,
      "outputs": []
    },
    {
      "cell_type": "code",
      "source": [
        "%%time\n",
        "\n",
        "estimator.fit(data_channels)"
      ],
      "metadata": {
        "id": "BZIyPMzCvFbD"
      },
      "execution_count": null,
      "outputs": []
    },
    {
      "cell_type": "code",
      "source": [
        "from sagemaker.pytorch.model import PyTorchModel\n",
        "\n",
        "model_data = estimator.model_data\n",
        "\n",
        "model = PyTorchModel(\n",
        "    model_data=model_data, \n",
        "    role=role, \n",
        "    source_dir=\"synthetic_text\",\n",
        "    entry_point='inference.py', \n",
        "    framework_version='1.6.0',\n",
        "    py_version=\"py3\"\n",
        ")"
      ],
      "metadata": {
        "id": "1mjInzLxvF8P"
      },
      "execution_count": null,
      "outputs": []
    },
    {
      "cell_type": "code",
      "source": [
        "%%time\n",
        "\n",
        "predictor = model.deploy(\n",
        "    instance_type='ml.m5.xlarge', \n",
        "    initial_instance_count=1\n",
        ")"
      ],
      "metadata": {
        "id": "udGM2Qf6vQy7"
      },
      "execution_count": null,
      "outputs": []
    },
    {
      "cell_type": "code",
      "source": [
        "from sagemaker.serializers import JSONSerializer\n",
        "from sagemaker.deserializers import JSONDeserializer\n",
        "\n",
        "predictor.serializer = JSONSerializer()\n",
        "predictor.deserializer = JSONDeserializer()\n",
        "\n",
        "test_data = {\n",
        "    \"text\": \"This tastes bad. I hate this place.\"\n",
        "}\n",
        "\n",
        "predictor.predict(test_data)\n",
        "\n",
        "test_data = {\n",
        "    \"text\": \"Very delicious. I would recommend this to my friends\"\n",
        "}\n",
        "\n",
        "predictor.predict(test_data)"
      ],
      "metadata": {
        "id": "T_Rgl5O6vTaw"
      },
      "execution_count": null,
      "outputs": []
    },
    {
      "cell_type": "code",
      "source": [
        "predictor.delete_endpoint()"
      ],
      "metadata": {
        "id": "A3ilR4HsvXEA"
      },
      "execution_count": null,
      "outputs": []
    },
    {
      "cell_type": "markdown",
      "source": [
        "## Preparing the prerequisites of a multi-model endpoint deployment"
      ],
      "metadata": {
        "id": "AOurB5zvyLUn"
      }
    },
    {
      "cell_type": "code",
      "source": [
        "model_a_s3_path = f\"s3://{bucket}/{prefix}/files/model.a.tar.gz\"\n",
        "model_b_s3_path = f\"s3://{bucket}/{prefix}/files/model.b.tar.gz\"\n",
        "\n",
        "!aws s3 cp synthetic_text/model.a.tar.gz {model_a_s3_path}\n",
        "!aws s3 cp synthetic_text/model.b.tar.gz {model_b_s3_path}"
      ],
      "metadata": {
        "colab": {
          "base_uri": "https://localhost:8080/"
        },
        "id": "ij9rdsp4yLsk",
        "outputId": "d014c11b-a66f-4fd5-ffd7-bfb9bb33f657"
      },
      "execution_count": 10,
      "outputs": [
        {
          "output_type": "stream",
          "name": "stdout",
          "text": [
            "upload: synthetic_text/model.a.tar.gz to s3://sagemaker-us-east-1-390354360073/sagemaker-exp11060345/files/model.a.tar.gz\n",
            "upload: synthetic_text/model.b.tar.gz to s3://sagemaker-us-east-1-390354360073/sagemaker-exp11060345/files/model.b.tar.gz\n"
          ]
        }
      ]
    },
    {
      "cell_type": "markdown",
      "source": [
        "## Hosting multiple models with multi-model endpoints"
      ],
      "metadata": {
        "id": "wpzYvon1ziZn"
      }
    },
    {
      "cell_type": "code",
      "source": [
        "image_uri = sagemaker.image_uris.retrieve(\"xgboost\", region, \"0.90-2\")\n",
        "image_uri"
      ],
      "metadata": {
        "colab": {
          "base_uri": "https://localhost:8080/",
          "height": 35
        },
        "id": "qzK0aE5ozoCz",
        "outputId": "9c55de52-36ab-4d14-b96d-f828a7434658"
      },
      "execution_count": 11,
      "outputs": [
        {
          "output_type": "execute_result",
          "data": {
            "text/plain": [
              "'683313688378.dkr.ecr.us-east-1.amazonaws.com/sagemaker-xgboost:0.90-2-cpu-py3'"
            ],
            "application/vnd.google.colaboratory.intrinsic+json": {
              "type": "string"
            }
          },
          "metadata": {},
          "execution_count": 11
        }
      ]
    },
    {
      "cell_type": "code",
      "source": [
        "models_path = f\"s3://{bucket}/model-artifacts/\"\n",
        "\n",
        "multi_model = MultiDataModel(\n",
        "    name=prefix+\"-multi\",\n",
        "    model_data_prefix=models_path, \n",
        "    image_uri=image_uri,\n",
        "    role=role\n",
        ")\n",
        "\n",
        "multi_model.add_model(model_a_s3_path)\n",
        "multi_model.add_model(model_b_s3_path)\n",
        "\n",
        "model_a, model_b = list(\n",
        "    multi_model.list_models()\n",
        ")\n",
        "\n",
        "print(model_a)\n",
        "print(model_b)"
      ],
      "metadata": {
        "colab": {
          "base_uri": "https://localhost:8080/"
        },
        "id": "-R8Jkx80z0Yr",
        "outputId": "196159f9-b270-4d74-bdb2-20c28aea0119"
      },
      "execution_count": 13,
      "outputs": [
        {
          "output_type": "stream",
          "name": "stdout",
          "text": [
            "sagemaker-exp11060345/files/model.a.tar.gz\n",
            "sagemaker-exp11060345/files/model.b.tar.gz\n"
          ]
        }
      ]
    },
    {
      "cell_type": "code",
      "source": [
        "%%time\n",
        "\n",
        "endpoint_name = prefix+\"-mma\"\n",
        "\n",
        "multi_model.deploy(\n",
        "    initial_instance_count=1, \n",
        "    instance_type='ml.t2.medium', \n",
        "    endpoint_name=endpoint_name\n",
        ")"
      ],
      "metadata": {
        "colab": {
          "base_uri": "https://localhost:8080/"
        },
        "id": "-R5bAAGu0Sa3",
        "outputId": "51856033-7269-4acb-aff2-a30e577399a2"
      },
      "execution_count": 15,
      "outputs": [
        {
          "output_type": "stream",
          "name": "stdout",
          "text": [
            "-------------------!CPU times: user 2.29 s, sys: 402 ms, total: 2.69 s\n",
            "Wall time: 9min 39s\n"
          ]
        }
      ]
    },
    {
      "cell_type": "markdown",
      "source": [
        "![](https://drive.google.com/uc?id=1egWbE0IKoJEQbee7gENUff4a_ayTyhet&authuser=recohut.data.001%40gmail.com&usp=drive_fs)"
      ],
      "metadata": {
        "id": "D_iD5vTCUpxF"
      }
    },
    {
      "cell_type": "code",
      "source": [
        "predictor = Predictor(\n",
        "    endpoint_name=endpoint_name\n",
        ")\n",
        "\n",
        "predictor.serializer = CSVSerializer()\n",
        "predictor.deserializer = JSONDeserializer()"
      ],
      "metadata": {
        "id": "IxT0fXuS0i8T"
      },
      "execution_count": 16,
      "outputs": []
    },
    {
      "cell_type": "code",
      "source": [
        "predictor.predict(data=\"10,-5\", target_model=model_a)"
      ],
      "metadata": {
        "colab": {
          "base_uri": "https://localhost:8080/"
        },
        "id": "NAugJQdt0mlh",
        "outputId": "575626de-1319-464a-a383-ed30edc85a47"
      },
      "execution_count": 17,
      "outputs": [
        {
          "output_type": "execute_result",
          "data": {
            "text/plain": [
              "[0.895996630191803]"
            ]
          },
          "metadata": {},
          "execution_count": 17
        }
      ]
    },
    {
      "cell_type": "code",
      "source": [
        "predictor.predict(data=\"10,-5\", target_model=model_b)"
      ],
      "metadata": {
        "colab": {
          "base_uri": "https://localhost:8080/"
        },
        "id": "HfEUtw5u0s36",
        "outputId": "7e1d9bea-386d-473c-d253-2ee95cabd614"
      },
      "execution_count": 18,
      "outputs": [
        {
          "output_type": "execute_result",
          "data": {
            "text/plain": [
              "[0.8308258652687073]"
            ]
          },
          "metadata": {},
          "execution_count": 18
        }
      ]
    },
    {
      "cell_type": "markdown",
      "source": [
        "## Setting up AB testing on multiple models with production variants"
      ],
      "metadata": {
        "id": "iuD7ikYo4BoE"
      }
    },
    {
      "cell_type": "code",
      "source": [
        "image_uri = sagemaker.image_uris.retrieve(\"xgboost\", region, \"0.90-2\")\n",
        "\n",
        "image_uri_a = image_uri\n",
        "image_uri_b = image_uri\n",
        "\n",
        "container1 = { \n",
        "    'Image': image_uri_a,\n",
        "    'ContainerHostname': 'containerA',\n",
        "    'ModelDataUrl': model_a_s3_path\n",
        "}\n",
        "\n",
        "container2 = { \n",
        "    'Image': image_uri_b,\n",
        "    'ContainerHostname': 'containerB',\n",
        "    'ModelDataUrl': model_b_s3_path\n",
        "}"
      ],
      "metadata": {
        "id": "3PLAhCK_328D"
      },
      "execution_count": 20,
      "outputs": []
    },
    {
      "cell_type": "code",
      "source": [
        "model_name_a = \"ab-model-a\"\n",
        "model_name_b = \"ab-model-b\"\n",
        "endpoint_config_name = 'ab-endpoint-config'\n",
        "endpoint_name = 'ab-endpoint'\n",
        "\n",
        "try:\n",
        "    sm.delete_model(ModelName=model_name_a)\n",
        "    sm.delete_model(ModelName=model_name_b)\n",
        "except:\n",
        "    pass\n",
        "\n",
        "response = sm.create_model(\n",
        "    ModelName = model_name_a,\n",
        "    ExecutionRoleArn = role_arn,\n",
        "    Containers = [container1])\n",
        "\n",
        "print(response)\n",
        "\n",
        "response = sm.create_model(\n",
        "    ModelName = model_name_b,\n",
        "    ExecutionRoleArn = role_arn,\n",
        "    Containers = [container2])\n",
        "\n",
        "print(response)"
      ],
      "metadata": {
        "colab": {
          "base_uri": "https://localhost:8080/"
        },
        "id": "BzNwdxgk4jHR",
        "outputId": "29075e9e-57e8-4de6-e8cf-e0cbf752d428"
      },
      "execution_count": 22,
      "outputs": [
        {
          "output_type": "stream",
          "name": "stdout",
          "text": [
            "{'ModelArn': 'arn:aws:sagemaker:us-east-1:390354360073:model/ab-model-a', 'ResponseMetadata': {'RequestId': 'ff521792-ee40-4eed-a4b1-58793d036966', 'HTTPStatusCode': 200, 'HTTPHeaders': {'x-amzn-requestid': 'ff521792-ee40-4eed-a4b1-58793d036966', 'content-type': 'application/x-amz-json-1.1', 'content-length': '72', 'date': 'Sat, 11 Jun 2022 03:52:18 GMT'}, 'RetryAttempts': 0}}\n",
            "{'ModelArn': 'arn:aws:sagemaker:us-east-1:390354360073:model/ab-model-b', 'ResponseMetadata': {'RequestId': '700bd215-5f1f-48cc-831e-a868b56ce156', 'HTTPStatusCode': 200, 'HTTPHeaders': {'x-amzn-requestid': '700bd215-5f1f-48cc-831e-a868b56ce156', 'content-type': 'application/x-amz-json-1.1', 'content-length': '72', 'date': 'Sat, 11 Jun 2022 03:52:20 GMT'}, 'RetryAttempts': 2}}\n"
          ]
        }
      ]
    },
    {
      "cell_type": "code",
      "source": [
        "from sagemaker.session import production_variant\n",
        "\n",
        "variant1 = production_variant(\n",
        "    model_name=model_name_a,\n",
        "    instance_type=\"ml.t2.medium\",\n",
        "    initial_instance_count=1,\n",
        "    variant_name='VariantA',\n",
        "    initial_weight=0.5\n",
        ")\n",
        "                              \n",
        "variant2 = production_variant(\n",
        "    model_name=model_name_b,\n",
        "    instance_type=\"ml.t2.medium\",\n",
        "    initial_instance_count=1,\n",
        "    variant_name='VariantB',\n",
        "    initial_weight=0.5\n",
        ")"
      ],
      "metadata": {
        "id": "26jfdn9746Hy"
      },
      "execution_count": 23,
      "outputs": []
    },
    {
      "cell_type": "code",
      "source": [
        "sess.endpoint_from_production_variants(\n",
        "    name=endpoint_name,\n",
        "    production_variants=[variant1, variant2]\n",
        ")"
      ],
      "metadata": {
        "colab": {
          "base_uri": "https://localhost:8080/",
          "height": 35
        },
        "id": "7x-3m6945KLn",
        "outputId": "ec68b46e-d020-41fd-b199-aee0cf682147"
      },
      "execution_count": 24,
      "outputs": [
        {
          "output_type": "stream",
          "name": "stdout",
          "text": [
            "-------------------!"
          ]
        },
        {
          "output_type": "execute_result",
          "data": {
            "text/plain": [
              "'ab-endpoint'"
            ],
            "application/vnd.google.colaboratory.intrinsic+json": {
              "type": "string"
            }
          },
          "metadata": {},
          "execution_count": 24
        }
      ]
    },
    {
      "cell_type": "code",
      "source": [
        "body = \"10,-5\"\n",
        "\n",
        "def test_ab_testing_setup():\n",
        "    response = runtime_sm_client.invoke_endpoint(\n",
        "        EndpointName=endpoint_name,\n",
        "        ContentType='text/csv',\n",
        "        Body=body\n",
        "    )\n",
        "    \n",
        "    variant = response['InvokedProductionVariant']\n",
        "    b = response['Body'].read()\n",
        "    prediction = b.decode(\"utf-8\")\n",
        "\n",
        "    print(variant + \" - \"+ prediction)\n",
        "\n",
        "for _ in range(0,10):\n",
        "    test_ab_testing_setup()\n",
        "    time.sleep(1)"
      ],
      "metadata": {
        "colab": {
          "base_uri": "https://localhost:8080/"
        },
        "id": "vO5TDu8g5Raj",
        "outputId": "5a7a80df-cd4d-4eab-a19e-6bb7f662fc0f"
      },
      "execution_count": 26,
      "outputs": [
        {
          "output_type": "stream",
          "name": "stdout",
          "text": [
            "VariantA - 0.895996630191803\n",
            "VariantB - 0.8308258652687073\n",
            "VariantB - 0.8308258652687073\n",
            "VariantB - 0.8308258652687073\n",
            "VariantA - 0.895996630191803\n",
            "VariantA - 0.895996630191803\n",
            "VariantB - 0.8308258652687073\n",
            "VariantA - 0.895996630191803\n",
            "VariantA - 0.895996630191803\n",
            "VariantA - 0.895996630191803\n"
          ]
        }
      ]
    },
    {
      "cell_type": "code",
      "source": [
        "def test_direct_call():\n",
        "    response = runtime_sm_client.invoke_endpoint(\n",
        "        EndpointName=endpoint_name,\n",
        "        ContentType='text/csv',\n",
        "        TargetVariant='VariantB',\n",
        "        Body=body\n",
        "    )\n",
        "\n",
        "    variant = response['InvokedProductionVariant']\n",
        "    b = response['Body'].read()\n",
        "    prediction = b.decode(\"utf-8\")\n",
        "\n",
        "    print(variant + \" - \"+ prediction)\n",
        "\n",
        "for _ in range(0,10):\n",
        "    test_direct_call()\n",
        "    time.sleep(1)"
      ],
      "metadata": {
        "colab": {
          "base_uri": "https://localhost:8080/"
        },
        "id": "Xu5yradg5sre",
        "outputId": "e3106cb1-d91c-41ac-ae46-a903ed2fa39d"
      },
      "execution_count": 27,
      "outputs": [
        {
          "output_type": "stream",
          "name": "stdout",
          "text": [
            "VariantB - 0.8308258652687073\n",
            "VariantB - 0.8308258652687073\n",
            "VariantB - 0.8308258652687073\n",
            "VariantB - 0.8308258652687073\n",
            "VariantB - 0.8308258652687073\n",
            "VariantB - 0.8308258652687073\n",
            "VariantB - 0.8308258652687073\n",
            "VariantB - 0.8308258652687073\n",
            "VariantB - 0.8308258652687073\n",
            "VariantB - 0.8308258652687073\n"
          ]
        }
      ]
    },
    {
      "cell_type": "markdown",
      "source": [
        "## Managing ML workflows with AWS Step Functions and the Data Science SDK"
      ],
      "metadata": {
        "id": "RS5Ck7iS9J2-"
      }
    },
    {
      "cell_type": "code",
      "source": [
        "%%writefile management_experience_and_salary.csv\n",
        "last_name,management_experience_months,monthly_salary\n",
        "Taylor,65,1630\n",
        "Wang,61,1330\n",
        "Brown,38,1290\n",
        "Harris,71,1480\n",
        "Jones,94,1590\n",
        "Garcia,93,1750\n",
        "Williams,15,1020\n",
        "Lee,56,1290\n",
        "White,59,1430\n",
        "Tan,7,960\n",
        "Chen,14,1090\n",
        "Kim,67,1340\n",
        "Davis,29,1170\n",
        "James,49,1390\n",
        "Perez,46,1240\n",
        "Cruz,73,1390\n",
        "Smith,19,960\n",
        "Thompson,22,1040\n",
        "Joseph,32,1090\n",
        "Singh,37,1300"
      ],
      "metadata": {
        "colab": {
          "base_uri": "https://localhost:8080/"
        },
        "id": "7P7nHGnO9KPT",
        "outputId": "79f83c3b-83b5-4ea9-bde1-952ed8568c01"
      },
      "execution_count": 28,
      "outputs": [
        {
          "output_type": "stream",
          "name": "stdout",
          "text": [
            "Writing management_experience_and_salary.csv\n"
          ]
        }
      ]
    },
    {
      "cell_type": "code",
      "source": [
        "df_all_data = pd.read_csv(\"management_experience_and_salary.csv\")\n",
        "df_all_data"
      ],
      "metadata": {
        "colab": {
          "base_uri": "https://localhost:8080/",
          "height": 677
        },
        "id": "Em3r_4-L9q-e",
        "outputId": "aa31fc44-a8de-4d2e-c25a-d2dac7d7da65"
      },
      "execution_count": 4,
      "outputs": [
        {
          "output_type": "execute_result",
          "data": {
            "text/plain": [
              "   last_name  management_experience_months  monthly_salary\n",
              "0     Taylor                            65            1630\n",
              "1       Wang                            61            1330\n",
              "2      Brown                            38            1290\n",
              "3     Harris                            71            1480\n",
              "4      Jones                            94            1590\n",
              "5     Garcia                            93            1750\n",
              "6   Williams                            15            1020\n",
              "7        Lee                            56            1290\n",
              "8      White                            59            1430\n",
              "9        Tan                             7             960\n",
              "10      Chen                            14            1090\n",
              "11       Kim                            67            1340\n",
              "12     Davis                            29            1170\n",
              "13     James                            49            1390\n",
              "14     Perez                            46            1240\n",
              "15      Cruz                            73            1390\n",
              "16     Smith                            19             960\n",
              "17  Thompson                            22            1040\n",
              "18    Joseph                            32            1090\n",
              "19     Singh                            37            1300"
            ],
            "text/html": [
              "\n",
              "  <div id=\"df-380af31c-29e1-4a06-a4d9-0344349c6dee\">\n",
              "    <div class=\"colab-df-container\">\n",
              "      <div>\n",
              "<style scoped>\n",
              "    .dataframe tbody tr th:only-of-type {\n",
              "        vertical-align: middle;\n",
              "    }\n",
              "\n",
              "    .dataframe tbody tr th {\n",
              "        vertical-align: top;\n",
              "    }\n",
              "\n",
              "    .dataframe thead th {\n",
              "        text-align: right;\n",
              "    }\n",
              "</style>\n",
              "<table border=\"1\" class=\"dataframe\">\n",
              "  <thead>\n",
              "    <tr style=\"text-align: right;\">\n",
              "      <th></th>\n",
              "      <th>last_name</th>\n",
              "      <th>management_experience_months</th>\n",
              "      <th>monthly_salary</th>\n",
              "    </tr>\n",
              "  </thead>\n",
              "  <tbody>\n",
              "    <tr>\n",
              "      <th>0</th>\n",
              "      <td>Taylor</td>\n",
              "      <td>65</td>\n",
              "      <td>1630</td>\n",
              "    </tr>\n",
              "    <tr>\n",
              "      <th>1</th>\n",
              "      <td>Wang</td>\n",
              "      <td>61</td>\n",
              "      <td>1330</td>\n",
              "    </tr>\n",
              "    <tr>\n",
              "      <th>2</th>\n",
              "      <td>Brown</td>\n",
              "      <td>38</td>\n",
              "      <td>1290</td>\n",
              "    </tr>\n",
              "    <tr>\n",
              "      <th>3</th>\n",
              "      <td>Harris</td>\n",
              "      <td>71</td>\n",
              "      <td>1480</td>\n",
              "    </tr>\n",
              "    <tr>\n",
              "      <th>4</th>\n",
              "      <td>Jones</td>\n",
              "      <td>94</td>\n",
              "      <td>1590</td>\n",
              "    </tr>\n",
              "    <tr>\n",
              "      <th>5</th>\n",
              "      <td>Garcia</td>\n",
              "      <td>93</td>\n",
              "      <td>1750</td>\n",
              "    </tr>\n",
              "    <tr>\n",
              "      <th>6</th>\n",
              "      <td>Williams</td>\n",
              "      <td>15</td>\n",
              "      <td>1020</td>\n",
              "    </tr>\n",
              "    <tr>\n",
              "      <th>7</th>\n",
              "      <td>Lee</td>\n",
              "      <td>56</td>\n",
              "      <td>1290</td>\n",
              "    </tr>\n",
              "    <tr>\n",
              "      <th>8</th>\n",
              "      <td>White</td>\n",
              "      <td>59</td>\n",
              "      <td>1430</td>\n",
              "    </tr>\n",
              "    <tr>\n",
              "      <th>9</th>\n",
              "      <td>Tan</td>\n",
              "      <td>7</td>\n",
              "      <td>960</td>\n",
              "    </tr>\n",
              "    <tr>\n",
              "      <th>10</th>\n",
              "      <td>Chen</td>\n",
              "      <td>14</td>\n",
              "      <td>1090</td>\n",
              "    </tr>\n",
              "    <tr>\n",
              "      <th>11</th>\n",
              "      <td>Kim</td>\n",
              "      <td>67</td>\n",
              "      <td>1340</td>\n",
              "    </tr>\n",
              "    <tr>\n",
              "      <th>12</th>\n",
              "      <td>Davis</td>\n",
              "      <td>29</td>\n",
              "      <td>1170</td>\n",
              "    </tr>\n",
              "    <tr>\n",
              "      <th>13</th>\n",
              "      <td>James</td>\n",
              "      <td>49</td>\n",
              "      <td>1390</td>\n",
              "    </tr>\n",
              "    <tr>\n",
              "      <th>14</th>\n",
              "      <td>Perez</td>\n",
              "      <td>46</td>\n",
              "      <td>1240</td>\n",
              "    </tr>\n",
              "    <tr>\n",
              "      <th>15</th>\n",
              "      <td>Cruz</td>\n",
              "      <td>73</td>\n",
              "      <td>1390</td>\n",
              "    </tr>\n",
              "    <tr>\n",
              "      <th>16</th>\n",
              "      <td>Smith</td>\n",
              "      <td>19</td>\n",
              "      <td>960</td>\n",
              "    </tr>\n",
              "    <tr>\n",
              "      <th>17</th>\n",
              "      <td>Thompson</td>\n",
              "      <td>22</td>\n",
              "      <td>1040</td>\n",
              "    </tr>\n",
              "    <tr>\n",
              "      <th>18</th>\n",
              "      <td>Joseph</td>\n",
              "      <td>32</td>\n",
              "      <td>1090</td>\n",
              "    </tr>\n",
              "    <tr>\n",
              "      <th>19</th>\n",
              "      <td>Singh</td>\n",
              "      <td>37</td>\n",
              "      <td>1300</td>\n",
              "    </tr>\n",
              "  </tbody>\n",
              "</table>\n",
              "</div>\n",
              "      <button class=\"colab-df-convert\" onclick=\"convertToInteractive('df-380af31c-29e1-4a06-a4d9-0344349c6dee')\"\n",
              "              title=\"Convert this dataframe to an interactive table.\"\n",
              "              style=\"display:none;\">\n",
              "        \n",
              "  <svg xmlns=\"http://www.w3.org/2000/svg\" height=\"24px\"viewBox=\"0 0 24 24\"\n",
              "       width=\"24px\">\n",
              "    <path d=\"M0 0h24v24H0V0z\" fill=\"none\"/>\n",
              "    <path d=\"M18.56 5.44l.94 2.06.94-2.06 2.06-.94-2.06-.94-.94-2.06-.94 2.06-2.06.94zm-11 1L8.5 8.5l.94-2.06 2.06-.94-2.06-.94L8.5 2.5l-.94 2.06-2.06.94zm10 10l.94 2.06.94-2.06 2.06-.94-2.06-.94-.94-2.06-.94 2.06-2.06.94z\"/><path d=\"M17.41 7.96l-1.37-1.37c-.4-.4-.92-.59-1.43-.59-.52 0-1.04.2-1.43.59L10.3 9.45l-7.72 7.72c-.78.78-.78 2.05 0 2.83L4 21.41c.39.39.9.59 1.41.59.51 0 1.02-.2 1.41-.59l7.78-7.78 2.81-2.81c.8-.78.8-2.07 0-2.86zM5.41 20L4 18.59l7.72-7.72 1.47 1.35L5.41 20z\"/>\n",
              "  </svg>\n",
              "      </button>\n",
              "      \n",
              "  <style>\n",
              "    .colab-df-container {\n",
              "      display:flex;\n",
              "      flex-wrap:wrap;\n",
              "      gap: 12px;\n",
              "    }\n",
              "\n",
              "    .colab-df-convert {\n",
              "      background-color: #E8F0FE;\n",
              "      border: none;\n",
              "      border-radius: 50%;\n",
              "      cursor: pointer;\n",
              "      display: none;\n",
              "      fill: #1967D2;\n",
              "      height: 32px;\n",
              "      padding: 0 0 0 0;\n",
              "      width: 32px;\n",
              "    }\n",
              "\n",
              "    .colab-df-convert:hover {\n",
              "      background-color: #E2EBFA;\n",
              "      box-shadow: 0px 1px 2px rgba(60, 64, 67, 0.3), 0px 1px 3px 1px rgba(60, 64, 67, 0.15);\n",
              "      fill: #174EA6;\n",
              "    }\n",
              "\n",
              "    [theme=dark] .colab-df-convert {\n",
              "      background-color: #3B4455;\n",
              "      fill: #D2E3FC;\n",
              "    }\n",
              "\n",
              "    [theme=dark] .colab-df-convert:hover {\n",
              "      background-color: #434B5C;\n",
              "      box-shadow: 0px 1px 3px 1px rgba(0, 0, 0, 0.15);\n",
              "      filter: drop-shadow(0px 1px 2px rgba(0, 0, 0, 0.3));\n",
              "      fill: #FFFFFF;\n",
              "    }\n",
              "  </style>\n",
              "\n",
              "      <script>\n",
              "        const buttonEl =\n",
              "          document.querySelector('#df-380af31c-29e1-4a06-a4d9-0344349c6dee button.colab-df-convert');\n",
              "        buttonEl.style.display =\n",
              "          google.colab.kernel.accessAllowed ? 'block' : 'none';\n",
              "\n",
              "        async function convertToInteractive(key) {\n",
              "          const element = document.querySelector('#df-380af31c-29e1-4a06-a4d9-0344349c6dee');\n",
              "          const dataTable =\n",
              "            await google.colab.kernel.invokeFunction('convertToInteractive',\n",
              "                                                     [key], {});\n",
              "          if (!dataTable) return;\n",
              "\n",
              "          const docLinkHtml = 'Like what you see? Visit the ' +\n",
              "            '<a target=\"_blank\" href=https://colab.research.google.com/notebooks/data_table.ipynb>data table notebook</a>'\n",
              "            + ' to learn more about interactive tables.';\n",
              "          element.innerHTML = '';\n",
              "          dataTable['output_type'] = 'display_data';\n",
              "          await google.colab.output.renderOutput(dataTable, element);\n",
              "          const docLink = document.createElement('div');\n",
              "          docLink.innerHTML = docLinkHtml;\n",
              "          element.appendChild(docLink);\n",
              "        }\n",
              "      </script>\n",
              "    </div>\n",
              "  </div>\n",
              "  "
            ]
          },
          "metadata": {},
          "execution_count": 4
        }
      ]
    },
    {
      "cell_type": "code",
      "source": [
        "from sklearn.model_selection import train_test_split\n",
        "\n",
        "dad = df_all_data\n",
        "\n",
        "X = dad['management_experience_months'].values \n",
        "y = dad['monthly_salary'].values\n",
        "\n",
        "X_train, X_test, y_train, y_test = train_test_split(\n",
        "    X, y, \n",
        "    test_size=0.3, random_state=0\n",
        ")\n",
        "\n",
        "df_training_data = pd.DataFrame({ \n",
        "    'monthly_salary': y_train, \n",
        "    'management_experience_months': X_train\n",
        "})\n",
        "\n",
        "df_training_data"
      ],
      "metadata": {
        "colab": {
          "base_uri": "https://localhost:8080/",
          "height": 488
        },
        "id": "--5jbD7g93-B",
        "outputId": "3330c8d5-98bd-43d5-c8ae-cff21de12cf0"
      },
      "execution_count": 5,
      "outputs": [
        {
          "output_type": "execute_result",
          "data": {
            "text/plain": [
              "    monthly_salary  management_experience_months\n",
              "0             1020                            15\n",
              "1             1390                            49\n",
              "2             1590                            94\n",
              "3             1290                            38\n",
              "4             1750                            93\n",
              "5             1240                            46\n",
              "6              960                             7\n",
              "7             1290                            56\n",
              "8              960                            19\n",
              "9             1340                            67\n",
              "10            1480                            71\n",
              "11            1630                            65\n",
              "12            1390                            73\n",
              "13            1170                            29"
            ],
            "text/html": [
              "\n",
              "  <div id=\"df-6525f673-48a1-4afb-a8b2-e294ed489d80\">\n",
              "    <div class=\"colab-df-container\">\n",
              "      <div>\n",
              "<style scoped>\n",
              "    .dataframe tbody tr th:only-of-type {\n",
              "        vertical-align: middle;\n",
              "    }\n",
              "\n",
              "    .dataframe tbody tr th {\n",
              "        vertical-align: top;\n",
              "    }\n",
              "\n",
              "    .dataframe thead th {\n",
              "        text-align: right;\n",
              "    }\n",
              "</style>\n",
              "<table border=\"1\" class=\"dataframe\">\n",
              "  <thead>\n",
              "    <tr style=\"text-align: right;\">\n",
              "      <th></th>\n",
              "      <th>monthly_salary</th>\n",
              "      <th>management_experience_months</th>\n",
              "    </tr>\n",
              "  </thead>\n",
              "  <tbody>\n",
              "    <tr>\n",
              "      <th>0</th>\n",
              "      <td>1020</td>\n",
              "      <td>15</td>\n",
              "    </tr>\n",
              "    <tr>\n",
              "      <th>1</th>\n",
              "      <td>1390</td>\n",
              "      <td>49</td>\n",
              "    </tr>\n",
              "    <tr>\n",
              "      <th>2</th>\n",
              "      <td>1590</td>\n",
              "      <td>94</td>\n",
              "    </tr>\n",
              "    <tr>\n",
              "      <th>3</th>\n",
              "      <td>1290</td>\n",
              "      <td>38</td>\n",
              "    </tr>\n",
              "    <tr>\n",
              "      <th>4</th>\n",
              "      <td>1750</td>\n",
              "      <td>93</td>\n",
              "    </tr>\n",
              "    <tr>\n",
              "      <th>5</th>\n",
              "      <td>1240</td>\n",
              "      <td>46</td>\n",
              "    </tr>\n",
              "    <tr>\n",
              "      <th>6</th>\n",
              "      <td>960</td>\n",
              "      <td>7</td>\n",
              "    </tr>\n",
              "    <tr>\n",
              "      <th>7</th>\n",
              "      <td>1290</td>\n",
              "      <td>56</td>\n",
              "    </tr>\n",
              "    <tr>\n",
              "      <th>8</th>\n",
              "      <td>960</td>\n",
              "      <td>19</td>\n",
              "    </tr>\n",
              "    <tr>\n",
              "      <th>9</th>\n",
              "      <td>1340</td>\n",
              "      <td>67</td>\n",
              "    </tr>\n",
              "    <tr>\n",
              "      <th>10</th>\n",
              "      <td>1480</td>\n",
              "      <td>71</td>\n",
              "    </tr>\n",
              "    <tr>\n",
              "      <th>11</th>\n",
              "      <td>1630</td>\n",
              "      <td>65</td>\n",
              "    </tr>\n",
              "    <tr>\n",
              "      <th>12</th>\n",
              "      <td>1390</td>\n",
              "      <td>73</td>\n",
              "    </tr>\n",
              "    <tr>\n",
              "      <th>13</th>\n",
              "      <td>1170</td>\n",
              "      <td>29</td>\n",
              "    </tr>\n",
              "  </tbody>\n",
              "</table>\n",
              "</div>\n",
              "      <button class=\"colab-df-convert\" onclick=\"convertToInteractive('df-6525f673-48a1-4afb-a8b2-e294ed489d80')\"\n",
              "              title=\"Convert this dataframe to an interactive table.\"\n",
              "              style=\"display:none;\">\n",
              "        \n",
              "  <svg xmlns=\"http://www.w3.org/2000/svg\" height=\"24px\"viewBox=\"0 0 24 24\"\n",
              "       width=\"24px\">\n",
              "    <path d=\"M0 0h24v24H0V0z\" fill=\"none\"/>\n",
              "    <path d=\"M18.56 5.44l.94 2.06.94-2.06 2.06-.94-2.06-.94-.94-2.06-.94 2.06-2.06.94zm-11 1L8.5 8.5l.94-2.06 2.06-.94-2.06-.94L8.5 2.5l-.94 2.06-2.06.94zm10 10l.94 2.06.94-2.06 2.06-.94-2.06-.94-.94-2.06-.94 2.06-2.06.94z\"/><path d=\"M17.41 7.96l-1.37-1.37c-.4-.4-.92-.59-1.43-.59-.52 0-1.04.2-1.43.59L10.3 9.45l-7.72 7.72c-.78.78-.78 2.05 0 2.83L4 21.41c.39.39.9.59 1.41.59.51 0 1.02-.2 1.41-.59l7.78-7.78 2.81-2.81c.8-.78.8-2.07 0-2.86zM5.41 20L4 18.59l7.72-7.72 1.47 1.35L5.41 20z\"/>\n",
              "  </svg>\n",
              "      </button>\n",
              "      \n",
              "  <style>\n",
              "    .colab-df-container {\n",
              "      display:flex;\n",
              "      flex-wrap:wrap;\n",
              "      gap: 12px;\n",
              "    }\n",
              "\n",
              "    .colab-df-convert {\n",
              "      background-color: #E8F0FE;\n",
              "      border: none;\n",
              "      border-radius: 50%;\n",
              "      cursor: pointer;\n",
              "      display: none;\n",
              "      fill: #1967D2;\n",
              "      height: 32px;\n",
              "      padding: 0 0 0 0;\n",
              "      width: 32px;\n",
              "    }\n",
              "\n",
              "    .colab-df-convert:hover {\n",
              "      background-color: #E2EBFA;\n",
              "      box-shadow: 0px 1px 2px rgba(60, 64, 67, 0.3), 0px 1px 3px 1px rgba(60, 64, 67, 0.15);\n",
              "      fill: #174EA6;\n",
              "    }\n",
              "\n",
              "    [theme=dark] .colab-df-convert {\n",
              "      background-color: #3B4455;\n",
              "      fill: #D2E3FC;\n",
              "    }\n",
              "\n",
              "    [theme=dark] .colab-df-convert:hover {\n",
              "      background-color: #434B5C;\n",
              "      box-shadow: 0px 1px 3px 1px rgba(0, 0, 0, 0.15);\n",
              "      filter: drop-shadow(0px 1px 2px rgba(0, 0, 0, 0.3));\n",
              "      fill: #FFFFFF;\n",
              "    }\n",
              "  </style>\n",
              "\n",
              "      <script>\n",
              "        const buttonEl =\n",
              "          document.querySelector('#df-6525f673-48a1-4afb-a8b2-e294ed489d80 button.colab-df-convert');\n",
              "        buttonEl.style.display =\n",
              "          google.colab.kernel.accessAllowed ? 'block' : 'none';\n",
              "\n",
              "        async function convertToInteractive(key) {\n",
              "          const element = document.querySelector('#df-6525f673-48a1-4afb-a8b2-e294ed489d80');\n",
              "          const dataTable =\n",
              "            await google.colab.kernel.invokeFunction('convertToInteractive',\n",
              "                                                     [key], {});\n",
              "          if (!dataTable) return;\n",
              "\n",
              "          const docLinkHtml = 'Like what you see? Visit the ' +\n",
              "            '<a target=\"_blank\" href=https://colab.research.google.com/notebooks/data_table.ipynb>data table notebook</a>'\n",
              "            + ' to learn more about interactive tables.';\n",
              "          element.innerHTML = '';\n",
              "          dataTable['output_type'] = 'display_data';\n",
              "          await google.colab.output.renderOutput(dataTable, element);\n",
              "          const docLink = document.createElement('div');\n",
              "          docLink.innerHTML = docLinkHtml;\n",
              "          element.appendChild(docLink);\n",
              "        }\n",
              "      </script>\n",
              "    </div>\n",
              "  </div>\n",
              "  "
            ]
          },
          "metadata": {},
          "execution_count": 5
        }
      ]
    },
    {
      "cell_type": "code",
      "source": [
        "tn = \"training_data.csv\"\n",
        "\n",
        "df_training_data.to_csv(tn, header=False, index=False)\n",
        "dest = f\"s3://{bucket}/{prefix}/input/{tn}\"\n",
        "!aws s3 cp {tn} {dest}"
      ],
      "metadata": {
        "colab": {
          "base_uri": "https://localhost:8080/"
        },
        "id": "_-01yMb3-HpM",
        "outputId": "6102694b-c23d-4ca6-ca6b-31421a31bc68"
      },
      "execution_count": 32,
      "outputs": [
        {
          "output_type": "stream",
          "name": "stdout",
          "text": [
            "Completed 109 Bytes/109 Bytes (226 Bytes/s) with 1 file(s) remaining\rupload: ./training_data.csv to s3://sagemaker-us-east-1-390354360073/sagemaker-exp11060345/input/training_data.csv\n"
          ]
        }
      ]
    },
    {
      "cell_type": "code",
      "source": [
        "training_s3_input_location = f\"s3://{bucket}/{prefix}/input/training_data.csv\" \n",
        "training_s3_output_location = f\"s3://{bucket}/{prefix}/output/\"\n",
        "\n",
        "train = TrainingInput(\n",
        "    training_s3_input_location, \n",
        "    content_type=\"text/csv\"\n",
        ")"
      ],
      "metadata": {
        "id": "mJpg9sta-NGl"
      },
      "execution_count": 6,
      "outputs": []
    },
    {
      "cell_type": "code",
      "source": [
        "container = sagemaker.image_uris.retrieve(\"linear-learner\", region, \"1\")\n",
        "container"
      ],
      "metadata": {
        "colab": {
          "base_uri": "https://localhost:8080/",
          "height": 35
        },
        "id": "vnEDE3ZC-vlU",
        "outputId": "b1966e60-f6d6-4f06-a769-54e61c7a30f8"
      },
      "execution_count": 7,
      "outputs": [
        {
          "output_type": "execute_result",
          "data": {
            "text/plain": [
              "'382416733822.dkr.ecr.us-east-1.amazonaws.com/linear-learner:1'"
            ],
            "application/vnd.google.colaboratory.intrinsic+json": {
              "type": "string"
            }
          },
          "metadata": {},
          "execution_count": 7
        }
      ]
    },
    {
      "cell_type": "code",
      "source": [
        "estimator = sagemaker.estimator.Estimator(\n",
        "    container,\n",
        "    role, \n",
        "    instance_count=1, \n",
        "    instance_type='ml.m5.xlarge',\n",
        "    output_path=training_s3_output_location,\n",
        "    sagemaker_session=sess\n",
        ")"
      ],
      "metadata": {
        "id": "uC1llqd0-zSg"
      },
      "execution_count": 8,
      "outputs": []
    },
    {
      "cell_type": "code",
      "source": [
        "estimator.set_hyperparameters(\n",
        "    predictor_type='regressor', \n",
        "    mini_batch_size=4\n",
        ")"
      ],
      "metadata": {
        "id": "8xtuzBJq-41g"
      },
      "execution_count": 9,
      "outputs": []
    },
    {
      "cell_type": "code",
      "source": [
        "from stepfunctions.inputs import ExecutionInput\n",
        "from stepfunctions.steps import TrainingStep\n",
        "from stepfunctions.steps import ModelStep\n",
        "from stepfunctions.steps import EndpointConfigStep\n",
        "from stepfunctions.steps import EndpointStep\n",
        "from stepfunctions.steps import Chain\n",
        "\n",
        "execution_input = ExecutionInput(\n",
        "    schema={ \n",
        "        'ModelName': str,\n",
        "        'EndpointName': str,\n",
        "        'JobName': str\n",
        "    }\n",
        ")\n",
        "\n",
        "ei = execution_input\n",
        "\n",
        "training_step = TrainingStep(\n",
        "    'Training Step', \n",
        "    estimator=estimator,\n",
        "    data={\n",
        "        'train': train\n",
        "    },\n",
        "    job_name=ei['JobName']\n",
        ")\n",
        "\n",
        "model_step = ModelStep(\n",
        "    'Model Step',\n",
        "    model=training_step.get_expected_model(),\n",
        "    model_name=ei['ModelName']  \n",
        ")\n",
        "\n",
        "endpoint_config_step = EndpointConfigStep(\n",
        "    \"Create Endpoint Configuration\",\n",
        "    endpoint_config_name=ei['ModelName'],\n",
        "    model_name=ei['ModelName'],\n",
        "    initial_instance_count=1,\n",
        "    instance_type='ml.m5.xlarge'\n",
        ")\n",
        "\n",
        "endpoint_step = EndpointStep(\n",
        "    \"Deploy Endpoint\",\n",
        "    endpoint_name=ei['EndpointName'],\n",
        "    endpoint_config_name=ei['ModelName']\n",
        ")\n",
        "\n",
        "workflow_definition = Chain([\n",
        "    training_step,\n",
        "    model_step,\n",
        "    endpoint_config_step,\n",
        "    endpoint_step\n",
        "])"
      ],
      "metadata": {
        "id": "Ygq97SXi-5LP"
      },
      "execution_count": 10,
      "outputs": []
    },
    {
      "cell_type": "code",
      "source": [
        "import uuid\n",
        "\n",
        "def generate_random_string():\n",
        "    return uuid.uuid4().hex\n",
        "\n",
        "grs = generate_random_string\n",
        "grs"
      ],
      "metadata": {
        "colab": {
          "base_uri": "https://localhost:8080/"
        },
        "id": "tjPTqO5v_qLe",
        "outputId": "b94a7ccc-f4d6-46f0-b71e-8b3ceed0b150"
      },
      "execution_count": 12,
      "outputs": [
        {
          "output_type": "execute_result",
          "data": {
            "text/plain": [
              "<function __main__.generate_random_string>"
            ]
          },
          "metadata": {},
          "execution_count": 12
        }
      ]
    },
    {
      "cell_type": "code",
      "source": [
        "from stepfunctions.workflow import Workflow\n",
        "\n",
        "workflow = Workflow(\n",
        "    name='{}-{}'.format('Workflow', grs()),\n",
        "    definition=workflow_definition,\n",
        "    role=role_arn,\n",
        "    execution_input=execution_input\n",
        ")\n",
        "\n",
        "workflow.create()"
      ],
      "metadata": {
        "colab": {
          "base_uri": "https://localhost:8080/",
          "height": 35
        },
        "id": "EJ-sQTEG_5N2",
        "outputId": "0c44ef82-646f-4443-838e-31589687cc9e"
      },
      "execution_count": 18,
      "outputs": [
        {
          "output_type": "execute_result",
          "data": {
            "text/plain": [
              "'arn:aws:states:us-east-1:390354360073:stateMachine:Workflow-70f09e896cd14cb6bdc9de19865a128e'"
            ],
            "application/vnd.google.colaboratory.intrinsic+json": {
              "type": "string"
            }
          },
          "metadata": {},
          "execution_count": 18
        }
      ]
    },
    {
      "cell_type": "code",
      "source": [
        "execution = workflow.execute(\n",
        "    inputs={\n",
        "        'JobName': 'll-{}'.format(grs()),\n",
        "        'ModelName': 'll-{}'.format(grs()),\n",
        "        'EndpointName': 'll-{}'.format(grs())\n",
        "    }\n",
        ")\n",
        "\n",
        "execution.list_events()"
      ],
      "metadata": {
        "colab": {
          "base_uri": "https://localhost:8080/"
        },
        "id": "2fB1ypWqAAL0",
        "outputId": "89955457-625f-4096-ccab-c205e7f58776"
      },
      "execution_count": 19,
      "outputs": [
        {
          "output_type": "execute_result",
          "data": {
            "text/plain": [
              "[{'executionStartedEventDetails': {'input': '{\\n    \"JobName\": \"ll-7ddb8f23e086492597c55cc212d2b114\",\\n    \"ModelName\": \"ll-3f3a9209f5d04c64b47650998978b580\",\\n    \"EndpointName\": \"ll-4ff5949f09c9458284d8acb606056397\"\\n}',\n",
              "   'inputDetails': {'truncated': False},\n",
              "   'roleArn': 'arn:aws:iam::390354360073:role/sagemakerRole'},\n",
              "  'id': 1,\n",
              "  'previousEventId': 0,\n",
              "  'timestamp': datetime.datetime(2022, 6, 11, 4, 37, 54, 815000, tzinfo=tzlocal()),\n",
              "  'type': 'ExecutionStarted'},\n",
              " {'id': 2,\n",
              "  'previousEventId': 0,\n",
              "  'stateEnteredEventDetails': {'input': '{\\n    \"JobName\": \"ll-7ddb8f23e086492597c55cc212d2b114\",\\n    \"ModelName\": \"ll-3f3a9209f5d04c64b47650998978b580\",\\n    \"EndpointName\": \"ll-4ff5949f09c9458284d8acb606056397\"\\n}',\n",
              "   'inputDetails': {'truncated': False},\n",
              "   'name': 'Training Step'},\n",
              "  'timestamp': datetime.datetime(2022, 6, 11, 4, 37, 54, 856000, tzinfo=tzlocal()),\n",
              "  'type': 'TaskStateEntered'},\n",
              " {'id': 3,\n",
              "  'previousEventId': 2,\n",
              "  'taskScheduledEventDetails': {'parameters': '{\"AlgorithmSpecification\":{\"TrainingImage\":\"382416733822.dkr.ecr.us-east-1.amazonaws.com/linear-learner:1\",\"TrainingInputMode\":\"File\"},\"OutputDataConfig\":{\"S3OutputPath\":\"s3://sagemaker-us-east-1-390354360073/sagemaker-exp11060345/output/\"},\"StoppingCondition\":{\"MaxRuntimeInSeconds\":86400},\"ResourceConfig\":{\"InstanceCount\":1,\"InstanceType\":\"ml.m5.xlarge\",\"VolumeSizeInGB\":30},\"RoleArn\":\"sagemakerRole\",\"InputDataConfig\":[{\"DataSource\":{\"S3DataSource\":{\"S3DataType\":\"S3Prefix\",\"S3Uri\":\"s3://sagemaker-us-east-1-390354360073/sagemaker-exp11060345/input/training_data.csv\",\"S3DataDistributionType\":\"FullyReplicated\"}},\"ContentType\":\"text/csv\",\"ChannelName\":\"train\"}],\"HyperParameters\":{\"predictor_type\":\"regressor\",\"mini_batch_size\":\"4\"},\"TrainingJobName\":\"ll-7ddb8f23e086492597c55cc212d2b114\",\"Tags\":[{\"Key\":\"MANAGED_BY_AWS\",\"Value\":\"STARTED_BY_STEP_FUNCTIONS\"}]}',\n",
              "   'region': 'us-east-1',\n",
              "   'resource': 'createTrainingJob.sync',\n",
              "   'resourceType': 'sagemaker'},\n",
              "  'timestamp': datetime.datetime(2022, 6, 11, 4, 37, 54, 856000, tzinfo=tzlocal()),\n",
              "  'type': 'TaskScheduled'},\n",
              " {'id': 4,\n",
              "  'previousEventId': 3,\n",
              "  'taskStartedEventDetails': {'resource': 'createTrainingJob.sync',\n",
              "   'resourceType': 'sagemaker'},\n",
              "  'timestamp': datetime.datetime(2022, 6, 11, 4, 37, 55, 28000, tzinfo=tzlocal()),\n",
              "  'type': 'TaskStarted'},\n",
              " {'id': 5,\n",
              "  'previousEventId': 4,\n",
              "  'taskSubmitFailedEventDetails': {'cause': \"2 validation errors detected: Value 'sagemakerRole' at 'roleArn' failed to satisfy constraint: Member must satisfy regular expression pattern: ^arn:aws[a-z\\\\-]*:iam::\\\\d{12}:role/?[a-zA-Z_0-9+=,.@\\\\-_/]+$; Value 'sagemakerRole' at 'roleArn' failed to satisfy constraint: Member must have length greater than or equal to 20 (Service: AmazonSageMaker; Status Code: 400; Error Code: ValidationException; Request ID: df230873-a98e-4a2c-be9b-a757de177565; Proxy: null)\",\n",
              "   'error': 'SageMaker.AmazonSageMakerException',\n",
              "   'resource': 'createTrainingJob.sync',\n",
              "   'resourceType': 'sagemaker'},\n",
              "  'timestamp': datetime.datetime(2022, 6, 11, 4, 37, 55, 122000, tzinfo=tzlocal()),\n",
              "  'type': 'TaskSubmitFailed'},\n",
              " {'executionFailedEventDetails': {'cause': \"2 validation errors detected: Value 'sagemakerRole' at 'roleArn' failed to satisfy constraint: Member must satisfy regular expression pattern: ^arn:aws[a-z\\\\-]*:iam::\\\\d{12}:role/?[a-zA-Z_0-9+=,.@\\\\-_/]+$; Value 'sagemakerRole' at 'roleArn' failed to satisfy constraint: Member must have length greater than or equal to 20 (Service: AmazonSageMaker; Status Code: 400; Error Code: ValidationException; Request ID: df230873-a98e-4a2c-be9b-a757de177565; Proxy: null)\",\n",
              "   'error': 'SageMaker.AmazonSageMakerException'},\n",
              "  'id': 6,\n",
              "  'previousEventId': 5,\n",
              "  'timestamp': datetime.datetime(2022, 6, 11, 4, 37, 55, 122000, tzinfo=tzlocal()),\n",
              "  'type': 'ExecutionFailed'}]"
            ]
          },
          "metadata": {},
          "execution_count": 19
        }
      ]
    },
    {
      "cell_type": "code",
      "source": [
        "events = execution.list_events()\n",
        "pd.json_normalize(events)"
      ],
      "metadata": {
        "colab": {
          "base_uri": "https://localhost:8080/",
          "height": 435
        },
        "id": "ttQHxxNxACMn",
        "outputId": "f50bab75-6965-4a0d-9019-e5bef649e17e"
      },
      "execution_count": 20,
      "outputs": [
        {
          "output_type": "execute_result",
          "data": {
            "text/plain": [
              "                         timestamp              type  id  previousEventId  \\\n",
              "0 2022-06-11 04:37:54.815000+00:00  ExecutionStarted   1                0   \n",
              "1 2022-06-11 04:37:54.856000+00:00  TaskStateEntered   2                0   \n",
              "2 2022-06-11 04:37:54.856000+00:00     TaskScheduled   3                2   \n",
              "3 2022-06-11 04:37:55.028000+00:00       TaskStarted   4                3   \n",
              "4 2022-06-11 04:37:55.122000+00:00  TaskSubmitFailed   5                4   \n",
              "5 2022-06-11 04:37:55.122000+00:00   ExecutionFailed   6                5   \n",
              "\n",
              "                  executionStartedEventDetails.input  \\\n",
              "0  {\\n    \"JobName\": \"ll-7ddb8f23e086492597c55cc2...   \n",
              "1                                                NaN   \n",
              "2                                                NaN   \n",
              "3                                                NaN   \n",
              "4                                                NaN   \n",
              "5                                                NaN   \n",
              "\n",
              "  executionStartedEventDetails.inputDetails.truncated  \\\n",
              "0                                              False    \n",
              "1                                                NaN    \n",
              "2                                                NaN    \n",
              "3                                                NaN    \n",
              "4                                                NaN    \n",
              "5                                                NaN    \n",
              "\n",
              "           executionStartedEventDetails.roleArn stateEnteredEventDetails.name  \\\n",
              "0  arn:aws:iam::390354360073:role/sagemakerRole                           NaN   \n",
              "1                                           NaN                 Training Step   \n",
              "2                                           NaN                           NaN   \n",
              "3                                           NaN                           NaN   \n",
              "4                                           NaN                           NaN   \n",
              "5                                           NaN                           NaN   \n",
              "\n",
              "                      stateEnteredEventDetails.input  \\\n",
              "0                                                NaN   \n",
              "1  {\\n    \"JobName\": \"ll-7ddb8f23e086492597c55cc2...   \n",
              "2                                                NaN   \n",
              "3                                                NaN   \n",
              "4                                                NaN   \n",
              "5                                                NaN   \n",
              "\n",
              "  stateEnteredEventDetails.inputDetails.truncated  ...  \\\n",
              "0                                             NaN  ...   \n",
              "1                                           False  ...   \n",
              "2                                             NaN  ...   \n",
              "3                                             NaN  ...   \n",
              "4                                             NaN  ...   \n",
              "5                                             NaN  ...   \n",
              "\n",
              "  taskScheduledEventDetails.region  \\\n",
              "0                              NaN   \n",
              "1                              NaN   \n",
              "2                        us-east-1   \n",
              "3                              NaN   \n",
              "4                              NaN   \n",
              "5                              NaN   \n",
              "\n",
              "                taskScheduledEventDetails.parameters  \\\n",
              "0                                                NaN   \n",
              "1                                                NaN   \n",
              "2  {\"AlgorithmSpecification\":{\"TrainingImage\":\"38...   \n",
              "3                                                NaN   \n",
              "4                                                NaN   \n",
              "5                                                NaN   \n",
              "\n",
              "  taskStartedEventDetails.resourceType taskStartedEventDetails.resource  \\\n",
              "0                                  NaN                              NaN   \n",
              "1                                  NaN                              NaN   \n",
              "2                                  NaN                              NaN   \n",
              "3                            sagemaker           createTrainingJob.sync   \n",
              "4                                  NaN                              NaN   \n",
              "5                                  NaN                              NaN   \n",
              "\n",
              "  taskSubmitFailedEventDetails.resourceType  \\\n",
              "0                                       NaN   \n",
              "1                                       NaN   \n",
              "2                                       NaN   \n",
              "3                                       NaN   \n",
              "4                                 sagemaker   \n",
              "5                                       NaN   \n",
              "\n",
              "  taskSubmitFailedEventDetails.resource  taskSubmitFailedEventDetails.error  \\\n",
              "0                                   NaN                                 NaN   \n",
              "1                                   NaN                                 NaN   \n",
              "2                                   NaN                                 NaN   \n",
              "3                                   NaN                                 NaN   \n",
              "4                createTrainingJob.sync  SageMaker.AmazonSageMakerException   \n",
              "5                                   NaN                                 NaN   \n",
              "\n",
              "                  taskSubmitFailedEventDetails.cause  \\\n",
              "0                                                NaN   \n",
              "1                                                NaN   \n",
              "2                                                NaN   \n",
              "3                                                NaN   \n",
              "4  2 validation errors detected: Value 'sagemaker...   \n",
              "5                                                NaN   \n",
              "\n",
              "    executionFailedEventDetails.error  \\\n",
              "0                                 NaN   \n",
              "1                                 NaN   \n",
              "2                                 NaN   \n",
              "3                                 NaN   \n",
              "4                                 NaN   \n",
              "5  SageMaker.AmazonSageMakerException   \n",
              "\n",
              "                   executionFailedEventDetails.cause  \n",
              "0                                                NaN  \n",
              "1                                                NaN  \n",
              "2                                                NaN  \n",
              "3                                                NaN  \n",
              "4                                                NaN  \n",
              "5  2 validation errors detected: Value 'sagemaker...  \n",
              "\n",
              "[6 rows x 22 columns]"
            ],
            "text/html": [
              "\n",
              "  <div id=\"df-902073bc-f78d-442e-9ea2-6d62a8974252\">\n",
              "    <div class=\"colab-df-container\">\n",
              "      <div>\n",
              "<style scoped>\n",
              "    .dataframe tbody tr th:only-of-type {\n",
              "        vertical-align: middle;\n",
              "    }\n",
              "\n",
              "    .dataframe tbody tr th {\n",
              "        vertical-align: top;\n",
              "    }\n",
              "\n",
              "    .dataframe thead th {\n",
              "        text-align: right;\n",
              "    }\n",
              "</style>\n",
              "<table border=\"1\" class=\"dataframe\">\n",
              "  <thead>\n",
              "    <tr style=\"text-align: right;\">\n",
              "      <th></th>\n",
              "      <th>timestamp</th>\n",
              "      <th>type</th>\n",
              "      <th>id</th>\n",
              "      <th>previousEventId</th>\n",
              "      <th>executionStartedEventDetails.input</th>\n",
              "      <th>executionStartedEventDetails.inputDetails.truncated</th>\n",
              "      <th>executionStartedEventDetails.roleArn</th>\n",
              "      <th>stateEnteredEventDetails.name</th>\n",
              "      <th>stateEnteredEventDetails.input</th>\n",
              "      <th>stateEnteredEventDetails.inputDetails.truncated</th>\n",
              "      <th>...</th>\n",
              "      <th>taskScheduledEventDetails.region</th>\n",
              "      <th>taskScheduledEventDetails.parameters</th>\n",
              "      <th>taskStartedEventDetails.resourceType</th>\n",
              "      <th>taskStartedEventDetails.resource</th>\n",
              "      <th>taskSubmitFailedEventDetails.resourceType</th>\n",
              "      <th>taskSubmitFailedEventDetails.resource</th>\n",
              "      <th>taskSubmitFailedEventDetails.error</th>\n",
              "      <th>taskSubmitFailedEventDetails.cause</th>\n",
              "      <th>executionFailedEventDetails.error</th>\n",
              "      <th>executionFailedEventDetails.cause</th>\n",
              "    </tr>\n",
              "  </thead>\n",
              "  <tbody>\n",
              "    <tr>\n",
              "      <th>0</th>\n",
              "      <td>2022-06-11 04:37:54.815000+00:00</td>\n",
              "      <td>ExecutionStarted</td>\n",
              "      <td>1</td>\n",
              "      <td>0</td>\n",
              "      <td>{\\n    \"JobName\": \"ll-7ddb8f23e086492597c55cc2...</td>\n",
              "      <td>False</td>\n",
              "      <td>arn:aws:iam::390354360073:role/sagemakerRole</td>\n",
              "      <td>NaN</td>\n",
              "      <td>NaN</td>\n",
              "      <td>NaN</td>\n",
              "      <td>...</td>\n",
              "      <td>NaN</td>\n",
              "      <td>NaN</td>\n",
              "      <td>NaN</td>\n",
              "      <td>NaN</td>\n",
              "      <td>NaN</td>\n",
              "      <td>NaN</td>\n",
              "      <td>NaN</td>\n",
              "      <td>NaN</td>\n",
              "      <td>NaN</td>\n",
              "      <td>NaN</td>\n",
              "    </tr>\n",
              "    <tr>\n",
              "      <th>1</th>\n",
              "      <td>2022-06-11 04:37:54.856000+00:00</td>\n",
              "      <td>TaskStateEntered</td>\n",
              "      <td>2</td>\n",
              "      <td>0</td>\n",
              "      <td>NaN</td>\n",
              "      <td>NaN</td>\n",
              "      <td>NaN</td>\n",
              "      <td>Training Step</td>\n",
              "      <td>{\\n    \"JobName\": \"ll-7ddb8f23e086492597c55cc2...</td>\n",
              "      <td>False</td>\n",
              "      <td>...</td>\n",
              "      <td>NaN</td>\n",
              "      <td>NaN</td>\n",
              "      <td>NaN</td>\n",
              "      <td>NaN</td>\n",
              "      <td>NaN</td>\n",
              "      <td>NaN</td>\n",
              "      <td>NaN</td>\n",
              "      <td>NaN</td>\n",
              "      <td>NaN</td>\n",
              "      <td>NaN</td>\n",
              "    </tr>\n",
              "    <tr>\n",
              "      <th>2</th>\n",
              "      <td>2022-06-11 04:37:54.856000+00:00</td>\n",
              "      <td>TaskScheduled</td>\n",
              "      <td>3</td>\n",
              "      <td>2</td>\n",
              "      <td>NaN</td>\n",
              "      <td>NaN</td>\n",
              "      <td>NaN</td>\n",
              "      <td>NaN</td>\n",
              "      <td>NaN</td>\n",
              "      <td>NaN</td>\n",
              "      <td>...</td>\n",
              "      <td>us-east-1</td>\n",
              "      <td>{\"AlgorithmSpecification\":{\"TrainingImage\":\"38...</td>\n",
              "      <td>NaN</td>\n",
              "      <td>NaN</td>\n",
              "      <td>NaN</td>\n",
              "      <td>NaN</td>\n",
              "      <td>NaN</td>\n",
              "      <td>NaN</td>\n",
              "      <td>NaN</td>\n",
              "      <td>NaN</td>\n",
              "    </tr>\n",
              "    <tr>\n",
              "      <th>3</th>\n",
              "      <td>2022-06-11 04:37:55.028000+00:00</td>\n",
              "      <td>TaskStarted</td>\n",
              "      <td>4</td>\n",
              "      <td>3</td>\n",
              "      <td>NaN</td>\n",
              "      <td>NaN</td>\n",
              "      <td>NaN</td>\n",
              "      <td>NaN</td>\n",
              "      <td>NaN</td>\n",
              "      <td>NaN</td>\n",
              "      <td>...</td>\n",
              "      <td>NaN</td>\n",
              "      <td>NaN</td>\n",
              "      <td>sagemaker</td>\n",
              "      <td>createTrainingJob.sync</td>\n",
              "      <td>NaN</td>\n",
              "      <td>NaN</td>\n",
              "      <td>NaN</td>\n",
              "      <td>NaN</td>\n",
              "      <td>NaN</td>\n",
              "      <td>NaN</td>\n",
              "    </tr>\n",
              "    <tr>\n",
              "      <th>4</th>\n",
              "      <td>2022-06-11 04:37:55.122000+00:00</td>\n",
              "      <td>TaskSubmitFailed</td>\n",
              "      <td>5</td>\n",
              "      <td>4</td>\n",
              "      <td>NaN</td>\n",
              "      <td>NaN</td>\n",
              "      <td>NaN</td>\n",
              "      <td>NaN</td>\n",
              "      <td>NaN</td>\n",
              "      <td>NaN</td>\n",
              "      <td>...</td>\n",
              "      <td>NaN</td>\n",
              "      <td>NaN</td>\n",
              "      <td>NaN</td>\n",
              "      <td>NaN</td>\n",
              "      <td>sagemaker</td>\n",
              "      <td>createTrainingJob.sync</td>\n",
              "      <td>SageMaker.AmazonSageMakerException</td>\n",
              "      <td>2 validation errors detected: Value 'sagemaker...</td>\n",
              "      <td>NaN</td>\n",
              "      <td>NaN</td>\n",
              "    </tr>\n",
              "    <tr>\n",
              "      <th>5</th>\n",
              "      <td>2022-06-11 04:37:55.122000+00:00</td>\n",
              "      <td>ExecutionFailed</td>\n",
              "      <td>6</td>\n",
              "      <td>5</td>\n",
              "      <td>NaN</td>\n",
              "      <td>NaN</td>\n",
              "      <td>NaN</td>\n",
              "      <td>NaN</td>\n",
              "      <td>NaN</td>\n",
              "      <td>NaN</td>\n",
              "      <td>...</td>\n",
              "      <td>NaN</td>\n",
              "      <td>NaN</td>\n",
              "      <td>NaN</td>\n",
              "      <td>NaN</td>\n",
              "      <td>NaN</td>\n",
              "      <td>NaN</td>\n",
              "      <td>NaN</td>\n",
              "      <td>NaN</td>\n",
              "      <td>SageMaker.AmazonSageMakerException</td>\n",
              "      <td>2 validation errors detected: Value 'sagemaker...</td>\n",
              "    </tr>\n",
              "  </tbody>\n",
              "</table>\n",
              "<p>6 rows × 22 columns</p>\n",
              "</div>\n",
              "      <button class=\"colab-df-convert\" onclick=\"convertToInteractive('df-902073bc-f78d-442e-9ea2-6d62a8974252')\"\n",
              "              title=\"Convert this dataframe to an interactive table.\"\n",
              "              style=\"display:none;\">\n",
              "        \n",
              "  <svg xmlns=\"http://www.w3.org/2000/svg\" height=\"24px\"viewBox=\"0 0 24 24\"\n",
              "       width=\"24px\">\n",
              "    <path d=\"M0 0h24v24H0V0z\" fill=\"none\"/>\n",
              "    <path d=\"M18.56 5.44l.94 2.06.94-2.06 2.06-.94-2.06-.94-.94-2.06-.94 2.06-2.06.94zm-11 1L8.5 8.5l.94-2.06 2.06-.94-2.06-.94L8.5 2.5l-.94 2.06-2.06.94zm10 10l.94 2.06.94-2.06 2.06-.94-2.06-.94-.94-2.06-.94 2.06-2.06.94z\"/><path d=\"M17.41 7.96l-1.37-1.37c-.4-.4-.92-.59-1.43-.59-.52 0-1.04.2-1.43.59L10.3 9.45l-7.72 7.72c-.78.78-.78 2.05 0 2.83L4 21.41c.39.39.9.59 1.41.59.51 0 1.02-.2 1.41-.59l7.78-7.78 2.81-2.81c.8-.78.8-2.07 0-2.86zM5.41 20L4 18.59l7.72-7.72 1.47 1.35L5.41 20z\"/>\n",
              "  </svg>\n",
              "      </button>\n",
              "      \n",
              "  <style>\n",
              "    .colab-df-container {\n",
              "      display:flex;\n",
              "      flex-wrap:wrap;\n",
              "      gap: 12px;\n",
              "    }\n",
              "\n",
              "    .colab-df-convert {\n",
              "      background-color: #E8F0FE;\n",
              "      border: none;\n",
              "      border-radius: 50%;\n",
              "      cursor: pointer;\n",
              "      display: none;\n",
              "      fill: #1967D2;\n",
              "      height: 32px;\n",
              "      padding: 0 0 0 0;\n",
              "      width: 32px;\n",
              "    }\n",
              "\n",
              "    .colab-df-convert:hover {\n",
              "      background-color: #E2EBFA;\n",
              "      box-shadow: 0px 1px 2px rgba(60, 64, 67, 0.3), 0px 1px 3px 1px rgba(60, 64, 67, 0.15);\n",
              "      fill: #174EA6;\n",
              "    }\n",
              "\n",
              "    [theme=dark] .colab-df-convert {\n",
              "      background-color: #3B4455;\n",
              "      fill: #D2E3FC;\n",
              "    }\n",
              "\n",
              "    [theme=dark] .colab-df-convert:hover {\n",
              "      background-color: #434B5C;\n",
              "      box-shadow: 0px 1px 3px 1px rgba(0, 0, 0, 0.15);\n",
              "      filter: drop-shadow(0px 1px 2px rgba(0, 0, 0, 0.3));\n",
              "      fill: #FFFFFF;\n",
              "    }\n",
              "  </style>\n",
              "\n",
              "      <script>\n",
              "        const buttonEl =\n",
              "          document.querySelector('#df-902073bc-f78d-442e-9ea2-6d62a8974252 button.colab-df-convert');\n",
              "        buttonEl.style.display =\n",
              "          google.colab.kernel.accessAllowed ? 'block' : 'none';\n",
              "\n",
              "        async function convertToInteractive(key) {\n",
              "          const element = document.querySelector('#df-902073bc-f78d-442e-9ea2-6d62a8974252');\n",
              "          const dataTable =\n",
              "            await google.colab.kernel.invokeFunction('convertToInteractive',\n",
              "                                                     [key], {});\n",
              "          if (!dataTable) return;\n",
              "\n",
              "          const docLinkHtml = 'Like what you see? Visit the ' +\n",
              "            '<a target=\"_blank\" href=https://colab.research.google.com/notebooks/data_table.ipynb>data table notebook</a>'\n",
              "            + ' to learn more about interactive tables.';\n",
              "          element.innerHTML = '';\n",
              "          dataTable['output_type'] = 'display_data';\n",
              "          await google.colab.output.renderOutput(dataTable, element);\n",
              "          const docLink = document.createElement('div');\n",
              "          docLink.innerHTML = docLinkHtml;\n",
              "          element.appendChild(docLink);\n",
              "        }\n",
              "      </script>\n",
              "    </div>\n",
              "  </div>\n",
              "  "
            ]
          },
          "metadata": {},
          "execution_count": 20
        }
      ]
    },
    {
      "cell_type": "code",
      "source": [
        "workflow.__dict__"
      ],
      "metadata": {
        "colab": {
          "base_uri": "https://localhost:8080/"
        },
        "id": "XqUuVfE1DgLJ",
        "outputId": "6908e429-477a-46f5-e7f1-dea6ed8f2fdc"
      },
      "execution_count": 21,
      "outputs": [
        {
          "output_type": "execute_result",
          "data": {
            "text/plain": [
              "{'client': <botocore.client.SFN at 0x7f30ec16ae90>,\n",
              " 'comment': None,\n",
              " 'definition': Graph(timeout_seconds=None, comment=None, version=None),\n",
              " 'format_json': True,\n",
              " 'name': 'Workflow-70f09e896cd14cb6bdc9de19865a128e',\n",
              " 'role': 'arn:aws:iam::390354360073:role/sagemakerRole',\n",
              " 'state_machine_arn': 'arn:aws:states:us-east-1:390354360073:stateMachine:Workflow-70f09e896cd14cb6bdc9de19865a128e',\n",
              " 'tags': [],\n",
              " 'timeout_seconds': None,\n",
              " 'version': None,\n",
              " 'workflow_input': <stepfunctions.inputs.placeholders.ExecutionInput at 0x7f30ede5df50>}"
            ]
          },
          "metadata": {},
          "execution_count": 21
        }
      ]
    },
    {
      "cell_type": "code",
      "source": [
        "print(workflow.definition.to_json(pretty=True))"
      ],
      "metadata": {
        "colab": {
          "base_uri": "https://localhost:8080/"
        },
        "id": "1PMxMDskDntr",
        "outputId": "3933dbe5-bd61-43d0-b365-3eb5697b4275"
      },
      "execution_count": 22,
      "outputs": [
        {
          "output_type": "stream",
          "name": "stdout",
          "text": [
            "{\n",
            "    \"StartAt\": \"Training Step\",\n",
            "    \"States\": {\n",
            "        \"Training Step\": {\n",
            "            \"Resource\": \"arn:aws:states:::sagemaker:createTrainingJob.sync\",\n",
            "            \"Parameters\": {\n",
            "                \"AlgorithmSpecification\": {\n",
            "                    \"TrainingImage\": \"382416733822.dkr.ecr.us-east-1.amazonaws.com/linear-learner:1\",\n",
            "                    \"TrainingInputMode\": \"File\"\n",
            "                },\n",
            "                \"OutputDataConfig\": {\n",
            "                    \"S3OutputPath\": \"s3://sagemaker-us-east-1-390354360073/sagemaker-exp11060345/output/\"\n",
            "                },\n",
            "                \"StoppingCondition\": {\n",
            "                    \"MaxRuntimeInSeconds\": 86400\n",
            "                },\n",
            "                \"ResourceConfig\": {\n",
            "                    \"InstanceCount\": 1,\n",
            "                    \"InstanceType\": \"ml.m5.xlarge\",\n",
            "                    \"VolumeSizeInGB\": 30\n",
            "                },\n",
            "                \"RoleArn\": \"sagemakerRole\",\n",
            "                \"InputDataConfig\": [\n",
            "                    {\n",
            "                        \"DataSource\": {\n",
            "                            \"S3DataSource\": {\n",
            "                                \"S3DataType\": \"S3Prefix\",\n",
            "                                \"S3Uri\": \"s3://sagemaker-us-east-1-390354360073/sagemaker-exp11060345/input/training_data.csv\",\n",
            "                                \"S3DataDistributionType\": \"FullyReplicated\"\n",
            "                            }\n",
            "                        },\n",
            "                        \"ContentType\": \"text/csv\",\n",
            "                        \"ChannelName\": \"train\"\n",
            "                    }\n",
            "                ],\n",
            "                \"HyperParameters\": {\n",
            "                    \"predictor_type\": \"regressor\",\n",
            "                    \"mini_batch_size\": \"4\"\n",
            "                },\n",
            "                \"TrainingJobName.$\": \"$$.Execution.Input['JobName']\"\n",
            "            },\n",
            "            \"Type\": \"Task\",\n",
            "            \"Next\": \"Model Step\"\n",
            "        },\n",
            "        \"Model Step\": {\n",
            "            \"Parameters\": {\n",
            "                \"ExecutionRoleArn\": \"sagemakerRole\",\n",
            "                \"ModelName.$\": \"$$.Execution.Input['ModelName']\",\n",
            "                \"PrimaryContainer\": {\n",
            "                    \"Environment\": {},\n",
            "                    \"Image\": \"382416733822.dkr.ecr.us-east-1.amazonaws.com/linear-learner:1\",\n",
            "                    \"ModelDataUrl.$\": \"$['ModelArtifacts']['S3ModelArtifacts']\"\n",
            "                }\n",
            "            },\n",
            "            \"Resource\": \"arn:aws:states:::sagemaker:createModel\",\n",
            "            \"Type\": \"Task\",\n",
            "            \"Next\": \"Create Endpoint Configuration\"\n",
            "        },\n",
            "        \"Create Endpoint Configuration\": {\n",
            "            \"Resource\": \"arn:aws:states:::sagemaker:createEndpointConfig\",\n",
            "            \"Parameters\": {\n",
            "                \"EndpointConfigName.$\": \"$$.Execution.Input['ModelName']\",\n",
            "                \"ProductionVariants\": [\n",
            "                    {\n",
            "                        \"InitialInstanceCount\": 1,\n",
            "                        \"InstanceType\": \"ml.m5.xlarge\",\n",
            "                        \"ModelName.$\": \"$$.Execution.Input['ModelName']\",\n",
            "                        \"VariantName\": \"AllTraffic\"\n",
            "                    }\n",
            "                ]\n",
            "            },\n",
            "            \"Type\": \"Task\",\n",
            "            \"Next\": \"Deploy Endpoint\"\n",
            "        },\n",
            "        \"Deploy Endpoint\": {\n",
            "            \"Resource\": \"arn:aws:states:::sagemaker:createEndpoint\",\n",
            "            \"Parameters\": {\n",
            "                \"EndpointConfigName.$\": \"$$.Execution.Input['ModelName']\",\n",
            "                \"EndpointName.$\": \"$$.Execution.Input['EndpointName']\"\n",
            "            },\n",
            "            \"Type\": \"Task\",\n",
            "            \"End\": true\n",
            "        }\n",
            "    }\n",
            "}\n"
          ]
        }
      ]
    },
    {
      "cell_type": "markdown",
      "source": [
        "## Managing ML workflows with SageMaker Pipelines"
      ],
      "metadata": {
        "id": "QbSDkBgMDoMx"
      }
    },
    {
      "cell_type": "code",
      "source": [
        "from sagemaker.workflow.parameters import (\n",
        "    ParameterInteger,\n",
        "    ParameterString,\n",
        ")\n",
        "\n",
        "processing_instance_type = ParameterString(\n",
        "    name=\"ProcessingInstanceType\", \n",
        "    default_value=\"ml.m5.xlarge\"\n",
        ")\n",
        "\n",
        "training_instance_type = ParameterString(\n",
        "    name=\"TrainingInstanceType\", \n",
        "    default_value=\"ml.m5.xlarge\"\n",
        ")\n",
        "\n",
        "input_data_uri = f\"s3://{bucket}/{prefix}/input/management_experience_and_salary.csv\"\n",
        "\n",
        "!aws s3 cp management_experience_and_salary.csv {input_data_uri}\n",
        "\n",
        "input_data = ParameterString(\n",
        "    name=\"InputData\",\n",
        "    default_value=input_data_uri,\n",
        ")"
      ],
      "metadata": {
        "id": "GF8iAGqUDvWl"
      },
      "execution_count": 23,
      "outputs": []
    },
    {
      "cell_type": "code",
      "source": [
        "from sagemaker.sklearn.processing import SKLearnProcessor\n",
        "\n",
        "sklearn_processor = SKLearnProcessor(\n",
        "    framework_version=\"0.23-1\",\n",
        "    instance_type=\"ml.m5.xlarge\",\n",
        "    instance_count=1,\n",
        "    role=role,\n",
        ")"
      ],
      "metadata": {
        "id": "p9o-aOLMHfPQ"
      },
      "execution_count": 41,
      "outputs": []
    },
    {
      "cell_type": "code",
      "source": [
        "from sagemaker.processing import ProcessingInput, ProcessingOutput\n",
        "from sagemaker.workflow.steps import ProcessingStep\n",
        "\n",
        "step_process = ProcessingStep(\n",
        "    name=\"ProcessingStep\",\n",
        "    processor=sklearn_processor,\n",
        "    inputs=[\n",
        "        ProcessingInput(\n",
        "            source=input_data, \n",
        "            destination=\"/opt/ml/processing/input\"\n",
        "        ),\n",
        "    ],\n",
        "    outputs=[\n",
        "        ProcessingOutput(\n",
        "            output_name=\"output\", \n",
        "            source=\"/opt/ml/processing/output\"\n",
        "        ),\n",
        "    ],\n",
        "    code=\"synthetic_text/preprocessing.py\",\n",
        ")"
      ],
      "metadata": {
        "id": "NybO8PvkGAxl"
      },
      "execution_count": 42,
      "outputs": []
    },
    {
      "cell_type": "code",
      "source": [
        "model_path = f\"s3://{bucket}/{prefix}/model\"\n",
        "\n",
        "container = sagemaker.image_uris.retrieve(\"linear-learner\", region, \"1\")\n",
        "\n",
        "estimator = sagemaker.estimator.Estimator(\n",
        "    container,\n",
        "    role, \n",
        "    instance_count=1, \n",
        "    instance_type='ml.m5.xlarge',\n",
        "    output_path=model_path,\n",
        "    sagemaker_session=sess\n",
        ")\n",
        "\n",
        "estimator.set_hyperparameters(\n",
        "    predictor_type='regressor', \n",
        "    mini_batch_size=4\n",
        ")"
      ],
      "metadata": {
        "id": "jC1ypiasGpCb"
      },
      "execution_count": 43,
      "outputs": []
    },
    {
      "cell_type": "code",
      "source": [
        "from sagemaker.inputs import TrainingInput\n",
        "from sagemaker.workflow.steps import TrainingStep\n",
        "\n",
        "s3_input_data = step_process.properties.ProcessingOutputConfig.Outputs[\"output\"].S3Output.S3Uri\n",
        "\n",
        "step_train = TrainingStep(\n",
        "    name=\"TrainStep\",\n",
        "    estimator=estimator,\n",
        "    inputs={\n",
        "        \"train\": TrainingInput(\n",
        "            s3_data=s3_input_data,\n",
        "            content_type=\"text/csv\",\n",
        "        )\n",
        "    },\n",
        ")"
      ],
      "metadata": {
        "id": "Z9zIB9AWGnT7"
      },
      "execution_count": 44,
      "outputs": []
    },
    {
      "cell_type": "code",
      "source": [
        "from sagemaker.workflow.pipeline import Pipeline\n",
        "\n",
        "pipeline_name = f\"Pipeline\"\n",
        "pipeline = Pipeline(\n",
        "    name=pipeline_name,\n",
        "    parameters=[\n",
        "        processing_instance_type,\n",
        "        training_instance_type,\n",
        "        input_data,\n",
        "    ],\n",
        "    steps=[step_process, step_train],\n",
        ")"
      ],
      "metadata": {
        "id": "l0EhtxxiG85N"
      },
      "execution_count": 45,
      "outputs": []
    },
    {
      "cell_type": "code",
      "source": [
        "pipeline.upsert(role_arn=role_arn)"
      ],
      "metadata": {
        "colab": {
          "base_uri": "https://localhost:8080/"
        },
        "id": "Zu5ys9rAHGyj",
        "outputId": "20606127-08f2-4bf0-967d-b5c8cbe80f30"
      },
      "execution_count": 46,
      "outputs": [
        {
          "output_type": "execute_result",
          "data": {
            "text/plain": [
              "{'PipelineArn': 'arn:aws:sagemaker:us-east-1:390354360073:pipeline/pipeline',\n",
              " 'ResponseMetadata': {'HTTPHeaders': {'content-length': '76',\n",
              "   'content-type': 'application/x-amz-json-1.1',\n",
              "   'date': 'Sat, 11 Jun 2022 05:46:43 GMT',\n",
              "   'x-amzn-requestid': 'e2e927e5-0dfe-4a5d-a3d1-3591fdb1a958'},\n",
              "  'HTTPStatusCode': 200,\n",
              "  'RequestId': 'e2e927e5-0dfe-4a5d-a3d1-3591fdb1a958',\n",
              "  'RetryAttempts': 0}}"
            ]
          },
          "metadata": {},
          "execution_count": 46
        }
      ]
    },
    {
      "cell_type": "code",
      "source": [
        "execution = pipeline.start()"
      ],
      "metadata": {
        "id": "MhAll3snHLBL"
      },
      "execution_count": 47,
      "outputs": []
    },
    {
      "cell_type": "code",
      "source": [
        "execution.describe()"
      ],
      "metadata": {
        "colab": {
          "base_uri": "https://localhost:8080/"
        },
        "id": "a6vH7dUpHMeV",
        "outputId": "d6fce190-71e1-4f1f-c5bf-a3f39fb20eb8"
      },
      "execution_count": 48,
      "outputs": [
        {
          "output_type": "execute_result",
          "data": {
            "text/plain": [
              "{'CreatedBy': {},\n",
              " 'CreationTime': datetime.datetime(2022, 6, 11, 5, 46, 51, 466000, tzinfo=tzlocal()),\n",
              " 'LastModifiedBy': {},\n",
              " 'LastModifiedTime': datetime.datetime(2022, 6, 11, 5, 46, 51, 466000, tzinfo=tzlocal()),\n",
              " 'PipelineArn': 'arn:aws:sagemaker:us-east-1:390354360073:pipeline/pipeline',\n",
              " 'PipelineExecutionArn': 'arn:aws:sagemaker:us-east-1:390354360073:pipeline/pipeline/execution/tn1sme3j6jdv',\n",
              " 'PipelineExecutionDisplayName': 'execution-1654926411537',\n",
              " 'PipelineExecutionStatus': 'Executing',\n",
              " 'PipelineExperimentConfig': {'ExperimentName': 'pipeline',\n",
              "  'TrialName': 'tn1sme3j6jdv'},\n",
              " 'ResponseMetadata': {'HTTPHeaders': {'content-length': '465',\n",
              "   'content-type': 'application/x-amz-json-1.1',\n",
              "   'date': 'Sat, 11 Jun 2022 05:46:53 GMT',\n",
              "   'x-amzn-requestid': '663a8938-80ca-4b2e-bcd6-1a5c8bc9f631'},\n",
              "  'HTTPStatusCode': 200,\n",
              "  'RequestId': '663a8938-80ca-4b2e-bcd6-1a5c8bc9f631',\n",
              "  'RetryAttempts': 0}}"
            ]
          },
          "metadata": {},
          "execution_count": 48
        }
      ]
    },
    {
      "cell_type": "code",
      "source": [
        "execution.wait()"
      ],
      "metadata": {
        "id": "fMlVNzDwHNxc"
      },
      "execution_count": 49,
      "outputs": []
    },
    {
      "cell_type": "code",
      "source": [
        "execution.list_steps()"
      ],
      "metadata": {
        "colab": {
          "base_uri": "https://localhost:8080/"
        },
        "id": "1NNJn6mMHDOZ",
        "outputId": "cda2aeee-968a-47a2-b286-1c0463f8b592"
      },
      "execution_count": 50,
      "outputs": [
        {
          "output_type": "execute_result",
          "data": {
            "text/plain": [
              "[{'AttemptCount': 0,\n",
              "  'EndTime': datetime.datetime(2022, 6, 11, 5, 53, 52, 430000, tzinfo=tzlocal()),\n",
              "  'Metadata': {'TrainingJob': {'Arn': 'arn:aws:sagemaker:us-east-1:390354360073:training-job/pipelines-tn1sme3j6jdv-trainstep-ntcvurrm57'}},\n",
              "  'StartTime': datetime.datetime(2022, 6, 11, 5, 51, 7, 972000, tzinfo=tzlocal()),\n",
              "  'StepName': 'TrainStep',\n",
              "  'StepStatus': 'Succeeded'},\n",
              " {'AttemptCount': 0,\n",
              "  'EndTime': datetime.datetime(2022, 6, 11, 5, 51, 7, 261000, tzinfo=tzlocal()),\n",
              "  'Metadata': {'ProcessingJob': {'Arn': 'arn:aws:sagemaker:us-east-1:390354360073:processing-job/pipelines-tn1sme3j6jdv-processingstep-cr5uebwizj'}},\n",
              "  'StartTime': datetime.datetime(2022, 6, 11, 5, 46, 52, 872000, tzinfo=tzlocal()),\n",
              "  'StepName': 'ProcessingStep',\n",
              "  'StepStatus': 'Succeeded'}]"
            ]
          },
          "metadata": {},
          "execution_count": 50
        }
      ]
    },
    {
      "cell_type": "markdown",
      "source": [
        "![](https://drive.google.com/uc?id=1elEIgg3uKX7kopkXI4mplNcClONFmKIf&authuser=recohut.data.001%40gmail.com&usp=drive_fs)"
      ],
      "metadata": {
        "id": "AwV5QbHrXFMM"
      }
    },
    {
      "cell_type": "code",
      "source": [
        "from sagemaker.lineage.visualizer import LineageTableVisualizer\n",
        "\n",
        "session = sagemaker.session.Session()\n",
        "viz = LineageTableVisualizer(session)\n",
        "ess = reversed(execution.list_steps())\n",
        "\n",
        "for execution_step in ess:\n",
        "    print(execution_step)\n",
        "    display(viz.show(\n",
        "        pipeline_execution_step=execution_step\n",
        "    ))\n",
        "    time.sleep(5)"
      ],
      "metadata": {
        "colab": {
          "base_uri": "https://localhost:8080/",
          "height": 356
        },
        "id": "_k4o9f7MHPX7",
        "outputId": "d369e243-ad60-4c2d-b3dc-291c7a45d2aa"
      },
      "execution_count": 52,
      "outputs": [
        {
          "output_type": "stream",
          "name": "stdout",
          "text": [
            "{'StepName': 'ProcessingStep', 'StartTime': datetime.datetime(2022, 6, 11, 5, 46, 52, 872000, tzinfo=tzlocal()), 'EndTime': datetime.datetime(2022, 6, 11, 5, 51, 7, 261000, tzinfo=tzlocal()), 'StepStatus': 'Succeeded', 'AttemptCount': 0, 'Metadata': {'ProcessingJob': {'Arn': 'arn:aws:sagemaker:us-east-1:390354360073:processing-job/pipelines-tn1sme3j6jdv-processingstep-cr5uebwizj'}}}\n"
          ]
        },
        {
          "output_type": "display_data",
          "data": {
            "text/plain": [
              "                                        Name/Source Direction     Type  \\\n",
              "0  s3://...7d401254ebc5/input/code/preprocessing.py     Input  DataSet   \n",
              "1  s3://...put/management_experience_and_salary.csv     Input  DataSet   \n",
              "2  68331...om/sagemaker-scikit-learn:0.23-1-cpu-py3     Input    Image   \n",
              "3  s3://...497b00271bc6817d401254ebc5/output/output    Output  DataSet   \n",
              "\n",
              "  Association Type Lineage Type  \n",
              "0    ContributedTo     artifact  \n",
              "1    ContributedTo     artifact  \n",
              "2    ContributedTo     artifact  \n",
              "3         Produced     artifact  "
            ],
            "text/html": [
              "\n",
              "  <div id=\"df-bbcb7666-213f-4dfd-b521-b22dd5f7a467\">\n",
              "    <div class=\"colab-df-container\">\n",
              "      <div>\n",
              "<style scoped>\n",
              "    .dataframe tbody tr th:only-of-type {\n",
              "        vertical-align: middle;\n",
              "    }\n",
              "\n",
              "    .dataframe tbody tr th {\n",
              "        vertical-align: top;\n",
              "    }\n",
              "\n",
              "    .dataframe thead th {\n",
              "        text-align: right;\n",
              "    }\n",
              "</style>\n",
              "<table border=\"1\" class=\"dataframe\">\n",
              "  <thead>\n",
              "    <tr style=\"text-align: right;\">\n",
              "      <th></th>\n",
              "      <th>Name/Source</th>\n",
              "      <th>Direction</th>\n",
              "      <th>Type</th>\n",
              "      <th>Association Type</th>\n",
              "      <th>Lineage Type</th>\n",
              "    </tr>\n",
              "  </thead>\n",
              "  <tbody>\n",
              "    <tr>\n",
              "      <th>0</th>\n",
              "      <td>s3://...7d401254ebc5/input/code/preprocessing.py</td>\n",
              "      <td>Input</td>\n",
              "      <td>DataSet</td>\n",
              "      <td>ContributedTo</td>\n",
              "      <td>artifact</td>\n",
              "    </tr>\n",
              "    <tr>\n",
              "      <th>1</th>\n",
              "      <td>s3://...put/management_experience_and_salary.csv</td>\n",
              "      <td>Input</td>\n",
              "      <td>DataSet</td>\n",
              "      <td>ContributedTo</td>\n",
              "      <td>artifact</td>\n",
              "    </tr>\n",
              "    <tr>\n",
              "      <th>2</th>\n",
              "      <td>68331...om/sagemaker-scikit-learn:0.23-1-cpu-py3</td>\n",
              "      <td>Input</td>\n",
              "      <td>Image</td>\n",
              "      <td>ContributedTo</td>\n",
              "      <td>artifact</td>\n",
              "    </tr>\n",
              "    <tr>\n",
              "      <th>3</th>\n",
              "      <td>s3://...497b00271bc6817d401254ebc5/output/output</td>\n",
              "      <td>Output</td>\n",
              "      <td>DataSet</td>\n",
              "      <td>Produced</td>\n",
              "      <td>artifact</td>\n",
              "    </tr>\n",
              "  </tbody>\n",
              "</table>\n",
              "</div>\n",
              "      <button class=\"colab-df-convert\" onclick=\"convertToInteractive('df-bbcb7666-213f-4dfd-b521-b22dd5f7a467')\"\n",
              "              title=\"Convert this dataframe to an interactive table.\"\n",
              "              style=\"display:none;\">\n",
              "        \n",
              "  <svg xmlns=\"http://www.w3.org/2000/svg\" height=\"24px\"viewBox=\"0 0 24 24\"\n",
              "       width=\"24px\">\n",
              "    <path d=\"M0 0h24v24H0V0z\" fill=\"none\"/>\n",
              "    <path d=\"M18.56 5.44l.94 2.06.94-2.06 2.06-.94-2.06-.94-.94-2.06-.94 2.06-2.06.94zm-11 1L8.5 8.5l.94-2.06 2.06-.94-2.06-.94L8.5 2.5l-.94 2.06-2.06.94zm10 10l.94 2.06.94-2.06 2.06-.94-2.06-.94-.94-2.06-.94 2.06-2.06.94z\"/><path d=\"M17.41 7.96l-1.37-1.37c-.4-.4-.92-.59-1.43-.59-.52 0-1.04.2-1.43.59L10.3 9.45l-7.72 7.72c-.78.78-.78 2.05 0 2.83L4 21.41c.39.39.9.59 1.41.59.51 0 1.02-.2 1.41-.59l7.78-7.78 2.81-2.81c.8-.78.8-2.07 0-2.86zM5.41 20L4 18.59l7.72-7.72 1.47 1.35L5.41 20z\"/>\n",
              "  </svg>\n",
              "      </button>\n",
              "      \n",
              "  <style>\n",
              "    .colab-df-container {\n",
              "      display:flex;\n",
              "      flex-wrap:wrap;\n",
              "      gap: 12px;\n",
              "    }\n",
              "\n",
              "    .colab-df-convert {\n",
              "      background-color: #E8F0FE;\n",
              "      border: none;\n",
              "      border-radius: 50%;\n",
              "      cursor: pointer;\n",
              "      display: none;\n",
              "      fill: #1967D2;\n",
              "      height: 32px;\n",
              "      padding: 0 0 0 0;\n",
              "      width: 32px;\n",
              "    }\n",
              "\n",
              "    .colab-df-convert:hover {\n",
              "      background-color: #E2EBFA;\n",
              "      box-shadow: 0px 1px 2px rgba(60, 64, 67, 0.3), 0px 1px 3px 1px rgba(60, 64, 67, 0.15);\n",
              "      fill: #174EA6;\n",
              "    }\n",
              "\n",
              "    [theme=dark] .colab-df-convert {\n",
              "      background-color: #3B4455;\n",
              "      fill: #D2E3FC;\n",
              "    }\n",
              "\n",
              "    [theme=dark] .colab-df-convert:hover {\n",
              "      background-color: #434B5C;\n",
              "      box-shadow: 0px 1px 3px 1px rgba(0, 0, 0, 0.15);\n",
              "      filter: drop-shadow(0px 1px 2px rgba(0, 0, 0, 0.3));\n",
              "      fill: #FFFFFF;\n",
              "    }\n",
              "  </style>\n",
              "\n",
              "      <script>\n",
              "        const buttonEl =\n",
              "          document.querySelector('#df-bbcb7666-213f-4dfd-b521-b22dd5f7a467 button.colab-df-convert');\n",
              "        buttonEl.style.display =\n",
              "          google.colab.kernel.accessAllowed ? 'block' : 'none';\n",
              "\n",
              "        async function convertToInteractive(key) {\n",
              "          const element = document.querySelector('#df-bbcb7666-213f-4dfd-b521-b22dd5f7a467');\n",
              "          const dataTable =\n",
              "            await google.colab.kernel.invokeFunction('convertToInteractive',\n",
              "                                                     [key], {});\n",
              "          if (!dataTable) return;\n",
              "\n",
              "          const docLinkHtml = 'Like what you see? Visit the ' +\n",
              "            '<a target=\"_blank\" href=https://colab.research.google.com/notebooks/data_table.ipynb>data table notebook</a>'\n",
              "            + ' to learn more about interactive tables.';\n",
              "          element.innerHTML = '';\n",
              "          dataTable['output_type'] = 'display_data';\n",
              "          await google.colab.output.renderOutput(dataTable, element);\n",
              "          const docLink = document.createElement('div');\n",
              "          docLink.innerHTML = docLinkHtml;\n",
              "          element.appendChild(docLink);\n",
              "        }\n",
              "      </script>\n",
              "    </div>\n",
              "  </div>\n",
              "  "
            ]
          },
          "metadata": {}
        },
        {
          "output_type": "stream",
          "name": "stdout",
          "text": [
            "{'StepName': 'TrainStep', 'StartTime': datetime.datetime(2022, 6, 11, 5, 51, 7, 972000, tzinfo=tzlocal()), 'EndTime': datetime.datetime(2022, 6, 11, 5, 53, 52, 430000, tzinfo=tzlocal()), 'StepStatus': 'Succeeded', 'AttemptCount': 0, 'Metadata': {'TrainingJob': {'Arn': 'arn:aws:sagemaker:us-east-1:390354360073:training-job/pipelines-tn1sme3j6jdv-trainstep-ntcvurrm57'}}}\n"
          ]
        },
        {
          "output_type": "display_data",
          "data": {
            "text/plain": [
              "                                        Name/Source Direction     Type  \\\n",
              "0  s3://...497b00271bc6817d401254ebc5/output/output     Input  DataSet   \n",
              "1  38241...us-east-1.amazonaws.com/linear-learner:1     Input    Image   \n",
              "2  s3://...TrainStep-NTCVUrRm57/output/model.tar.gz    Output    Model   \n",
              "\n",
              "  Association Type Lineage Type  \n",
              "0    ContributedTo     artifact  \n",
              "1    ContributedTo     artifact  \n",
              "2         Produced     artifact  "
            ],
            "text/html": [
              "\n",
              "  <div id=\"df-b0a32ca9-7a99-496c-a3f2-0aaaa9fa478a\">\n",
              "    <div class=\"colab-df-container\">\n",
              "      <div>\n",
              "<style scoped>\n",
              "    .dataframe tbody tr th:only-of-type {\n",
              "        vertical-align: middle;\n",
              "    }\n",
              "\n",
              "    .dataframe tbody tr th {\n",
              "        vertical-align: top;\n",
              "    }\n",
              "\n",
              "    .dataframe thead th {\n",
              "        text-align: right;\n",
              "    }\n",
              "</style>\n",
              "<table border=\"1\" class=\"dataframe\">\n",
              "  <thead>\n",
              "    <tr style=\"text-align: right;\">\n",
              "      <th></th>\n",
              "      <th>Name/Source</th>\n",
              "      <th>Direction</th>\n",
              "      <th>Type</th>\n",
              "      <th>Association Type</th>\n",
              "      <th>Lineage Type</th>\n",
              "    </tr>\n",
              "  </thead>\n",
              "  <tbody>\n",
              "    <tr>\n",
              "      <th>0</th>\n",
              "      <td>s3://...497b00271bc6817d401254ebc5/output/output</td>\n",
              "      <td>Input</td>\n",
              "      <td>DataSet</td>\n",
              "      <td>ContributedTo</td>\n",
              "      <td>artifact</td>\n",
              "    </tr>\n",
              "    <tr>\n",
              "      <th>1</th>\n",
              "      <td>38241...us-east-1.amazonaws.com/linear-learner:1</td>\n",
              "      <td>Input</td>\n",
              "      <td>Image</td>\n",
              "      <td>ContributedTo</td>\n",
              "      <td>artifact</td>\n",
              "    </tr>\n",
              "    <tr>\n",
              "      <th>2</th>\n",
              "      <td>s3://...TrainStep-NTCVUrRm57/output/model.tar.gz</td>\n",
              "      <td>Output</td>\n",
              "      <td>Model</td>\n",
              "      <td>Produced</td>\n",
              "      <td>artifact</td>\n",
              "    </tr>\n",
              "  </tbody>\n",
              "</table>\n",
              "</div>\n",
              "      <button class=\"colab-df-convert\" onclick=\"convertToInteractive('df-b0a32ca9-7a99-496c-a3f2-0aaaa9fa478a')\"\n",
              "              title=\"Convert this dataframe to an interactive table.\"\n",
              "              style=\"display:none;\">\n",
              "        \n",
              "  <svg xmlns=\"http://www.w3.org/2000/svg\" height=\"24px\"viewBox=\"0 0 24 24\"\n",
              "       width=\"24px\">\n",
              "    <path d=\"M0 0h24v24H0V0z\" fill=\"none\"/>\n",
              "    <path d=\"M18.56 5.44l.94 2.06.94-2.06 2.06-.94-2.06-.94-.94-2.06-.94 2.06-2.06.94zm-11 1L8.5 8.5l.94-2.06 2.06-.94-2.06-.94L8.5 2.5l-.94 2.06-2.06.94zm10 10l.94 2.06.94-2.06 2.06-.94-2.06-.94-.94-2.06-.94 2.06-2.06.94z\"/><path d=\"M17.41 7.96l-1.37-1.37c-.4-.4-.92-.59-1.43-.59-.52 0-1.04.2-1.43.59L10.3 9.45l-7.72 7.72c-.78.78-.78 2.05 0 2.83L4 21.41c.39.39.9.59 1.41.59.51 0 1.02-.2 1.41-.59l7.78-7.78 2.81-2.81c.8-.78.8-2.07 0-2.86zM5.41 20L4 18.59l7.72-7.72 1.47 1.35L5.41 20z\"/>\n",
              "  </svg>\n",
              "      </button>\n",
              "      \n",
              "  <style>\n",
              "    .colab-df-container {\n",
              "      display:flex;\n",
              "      flex-wrap:wrap;\n",
              "      gap: 12px;\n",
              "    }\n",
              "\n",
              "    .colab-df-convert {\n",
              "      background-color: #E8F0FE;\n",
              "      border: none;\n",
              "      border-radius: 50%;\n",
              "      cursor: pointer;\n",
              "      display: none;\n",
              "      fill: #1967D2;\n",
              "      height: 32px;\n",
              "      padding: 0 0 0 0;\n",
              "      width: 32px;\n",
              "    }\n",
              "\n",
              "    .colab-df-convert:hover {\n",
              "      background-color: #E2EBFA;\n",
              "      box-shadow: 0px 1px 2px rgba(60, 64, 67, 0.3), 0px 1px 3px 1px rgba(60, 64, 67, 0.15);\n",
              "      fill: #174EA6;\n",
              "    }\n",
              "\n",
              "    [theme=dark] .colab-df-convert {\n",
              "      background-color: #3B4455;\n",
              "      fill: #D2E3FC;\n",
              "    }\n",
              "\n",
              "    [theme=dark] .colab-df-convert:hover {\n",
              "      background-color: #434B5C;\n",
              "      box-shadow: 0px 1px 3px 1px rgba(0, 0, 0, 0.15);\n",
              "      filter: drop-shadow(0px 1px 2px rgba(0, 0, 0, 0.3));\n",
              "      fill: #FFFFFF;\n",
              "    }\n",
              "  </style>\n",
              "\n",
              "      <script>\n",
              "        const buttonEl =\n",
              "          document.querySelector('#df-b0a32ca9-7a99-496c-a3f2-0aaaa9fa478a button.colab-df-convert');\n",
              "        buttonEl.style.display =\n",
              "          google.colab.kernel.accessAllowed ? 'block' : 'none';\n",
              "\n",
              "        async function convertToInteractive(key) {\n",
              "          const element = document.querySelector('#df-b0a32ca9-7a99-496c-a3f2-0aaaa9fa478a');\n",
              "          const dataTable =\n",
              "            await google.colab.kernel.invokeFunction('convertToInteractive',\n",
              "                                                     [key], {});\n",
              "          if (!dataTable) return;\n",
              "\n",
              "          const docLinkHtml = 'Like what you see? Visit the ' +\n",
              "            '<a target=\"_blank\" href=https://colab.research.google.com/notebooks/data_table.ipynb>data table notebook</a>'\n",
              "            + ' to learn more about interactive tables.';\n",
              "          element.innerHTML = '';\n",
              "          dataTable['output_type'] = 'display_data';\n",
              "          await google.colab.output.renderOutput(dataTable, element);\n",
              "          const docLink = document.createElement('div');\n",
              "          docLink.innerHTML = docLinkHtml;\n",
              "          element.appendChild(docLink);\n",
              "        }\n",
              "      </script>\n",
              "    </div>\n",
              "  </div>\n",
              "  "
            ]
          },
          "metadata": {}
        }
      ]
    },
    {
      "cell_type": "code",
      "source": [
        "from pprint import pprint\n",
        "\n",
        "pprint(pipeline.describe())"
      ],
      "metadata": {
        "colab": {
          "base_uri": "https://localhost:8080/"
        },
        "id": "zaVOdCmyII1V",
        "outputId": "fa81561a-024f-43f0-ee80-632d3398ffef"
      },
      "execution_count": 53,
      "outputs": [
        {
          "output_type": "stream",
          "name": "stdout",
          "text": [
            "{'CreatedBy': {},\n",
            " 'CreationTime': datetime.datetime(2022, 6, 11, 4, 53, 56, 280000, tzinfo=tzlocal()),\n",
            " 'LastModifiedBy': {},\n",
            " 'LastModifiedTime': datetime.datetime(2022, 6, 11, 5, 53, 52, 991000, tzinfo=tzlocal()),\n",
            " 'PipelineArn': 'arn:aws:sagemaker:us-east-1:390354360073:pipeline/pipeline',\n",
            " 'PipelineDefinition': '{\"Version\": \"2020-12-01\", \"Metadata\": {}, '\n",
            "                       '\"Parameters\": [{\"Name\": \"ProcessingInstanceType\", '\n",
            "                       '\"Type\": \"String\", \"DefaultValue\": \"ml.m5.xlarge\"}, '\n",
            "                       '{\"Name\": \"TrainingInstanceType\", \"Type\": \"String\", '\n",
            "                       '\"DefaultValue\": \"ml.m5.xlarge\"}, {\"Name\": \"InputData\", '\n",
            "                       '\"Type\": \"String\", \"DefaultValue\": '\n",
            "                       '\"s3://sagemaker-us-east-1-390354360073/sagemaker-exp11060345/input/management_experience_and_salary.csv\"}], '\n",
            "                       '\"PipelineExperimentConfig\": {\"ExperimentName\": {\"Get\": '\n",
            "                       '\"Execution.PipelineName\"}, \"TrialName\": {\"Get\": '\n",
            "                       '\"Execution.PipelineExecutionId\"}}, \"Steps\": [{\"Name\": '\n",
            "                       '\"ProcessingStep\", \"Type\": \"Processing\", \"Arguments\": '\n",
            "                       '{\"ProcessingResources\": {\"ClusterConfig\": '\n",
            "                       '{\"InstanceType\": \"ml.m5.xlarge\", \"InstanceCount\": 1, '\n",
            "                       '\"VolumeSizeInGB\": 30}}, \"AppSpecification\": '\n",
            "                       '{\"ImageUri\": '\n",
            "                       '\"683313688378.dkr.ecr.us-east-1.amazonaws.com/sagemaker-scikit-learn:0.23-1-cpu-py3\", '\n",
            "                       '\"ContainerEntrypoint\": [\"python3\", '\n",
            "                       '\"/opt/ml/processing/input/code/preprocessing.py\"]}, '\n",
            "                       '\"RoleArn\": '\n",
            "                       '\"arn:aws:iam::390354360073:role/sagemakerRole\", '\n",
            "                       '\"ProcessingInputs\": [{\"InputName\": \"input-1\", '\n",
            "                       '\"AppManaged\": false, \"S3Input\": {\"S3Uri\": {\"Get\": '\n",
            "                       '\"Parameters.InputData\"}, \"LocalPath\": '\n",
            "                       '\"/opt/ml/processing/input\", \"S3DataType\": \"S3Prefix\", '\n",
            "                       '\"S3InputMode\": \"File\", \"S3DataDistributionType\": '\n",
            "                       '\"FullyReplicated\", \"S3CompressionType\": \"None\"}}, '\n",
            "                       '{\"InputName\": \"code\", \"AppManaged\": false, \"S3Input\": '\n",
            "                       '{\"S3Uri\": '\n",
            "                       '\"s3://sagemaker-us-east-1-390354360073/ProcessingStep-661231497b00271bc6817d401254ebc5/input/code/preprocessing.py\", '\n",
            "                       '\"LocalPath\": \"/opt/ml/processing/input/code\", '\n",
            "                       '\"S3DataType\": \"S3Prefix\", \"S3InputMode\": \"File\", '\n",
            "                       '\"S3DataDistributionType\": \"FullyReplicated\", '\n",
            "                       '\"S3CompressionType\": \"None\"}}], '\n",
            "                       '\"ProcessingOutputConfig\": {\"Outputs\": [{\"OutputName\": '\n",
            "                       '\"output\", \"AppManaged\": false, \"S3Output\": {\"S3Uri\": '\n",
            "                       '\"s3://sagemaker-us-east-1-390354360073/ProcessingStep-661231497b00271bc6817d401254ebc5/output/output\", '\n",
            "                       '\"LocalPath\": \"/opt/ml/processing/output\", '\n",
            "                       '\"S3UploadMode\": \"EndOfJob\"}}]}}}, {\"Name\": '\n",
            "                       '\"TrainStep\", \"Type\": \"Training\", \"Arguments\": '\n",
            "                       '{\"AlgorithmSpecification\": {\"TrainingInputMode\": '\n",
            "                       '\"File\", \"TrainingImage\": '\n",
            "                       '\"382416733822.dkr.ecr.us-east-1.amazonaws.com/linear-learner:1\"}, '\n",
            "                       '\"OutputDataConfig\": {\"S3OutputPath\": '\n",
            "                       '\"s3://sagemaker-us-east-1-390354360073/sagemaker-exp11060345/model\"}, '\n",
            "                       '\"StoppingCondition\": {\"MaxRuntimeInSeconds\": 86400}, '\n",
            "                       '\"ResourceConfig\": {\"InstanceCount\": 1, \"InstanceType\": '\n",
            "                       '\"ml.m5.xlarge\", \"VolumeSizeInGB\": 30}, \"RoleArn\": '\n",
            "                       '\"arn:aws:iam::390354360073:role/sagemakerRole\", '\n",
            "                       '\"InputDataConfig\": [{\"DataSource\": {\"S3DataSource\": '\n",
            "                       '{\"S3DataType\": \"S3Prefix\", \"S3Uri\": {\"Get\": '\n",
            "                       '\"Steps.ProcessingStep.ProcessingOutputConfig.Outputs[\\'output\\'].S3Output.S3Uri\"}, '\n",
            "                       '\"S3DataDistributionType\": \"FullyReplicated\"}}, '\n",
            "                       '\"ContentType\": \"text/csv\", \"ChannelName\": \"train\"}], '\n",
            "                       '\"HyperParameters\": {\"predictor_type\": \"regressor\", '\n",
            "                       '\"mini_batch_size\": \"4\"}, \"ProfilerRuleConfigurations\": '\n",
            "                       '[{\"RuleConfigurationName\": '\n",
            "                       '\"ProfilerReport-1654926403\", \"RuleEvaluatorImage\": '\n",
            "                       '\"503895931360.dkr.ecr.us-east-1.amazonaws.com/sagemaker-debugger-rules:latest\", '\n",
            "                       '\"RuleParameters\": {\"rule_to_invoke\": '\n",
            "                       '\"ProfilerReport\"}}], \"ProfilerConfig\": '\n",
            "                       '{\"S3OutputPath\": '\n",
            "                       '\"s3://sagemaker-us-east-1-390354360073/sagemaker-exp11060345/model\"}}}]}',\n",
            " 'PipelineDisplayName': 'Pipeline',\n",
            " 'PipelineName': 'Pipeline',\n",
            " 'PipelineStatus': 'Active',\n",
            " 'ResponseMetadata': {'HTTPHeaders': {'content-length': '3763',\n",
            "                                      'content-type': 'application/x-amz-json-1.1',\n",
            "                                      'date': 'Sat, 11 Jun 2022 06:00:12 GMT',\n",
            "                                      'x-amzn-requestid': '8970b3bc-80a1-4a4c-83e1-3c3c1d2a21d8'},\n",
            "                      'HTTPStatusCode': 200,\n",
            "                      'RequestId': '8970b3bc-80a1-4a4c-83e1-3c3c1d2a21d8',\n",
            "                      'RetryAttempts': 0},\n",
            " 'RoleArn': 'arn:aws:iam::390354360073:role/sagemakerRole'}\n"
          ]
        }
      ]
    },
    {
      "cell_type": "markdown",
      "source": [
        "That's all.\n",
        "\n",
        "Thanks for your attention."
      ],
      "metadata": {
        "id": "yrlo4hogWRTA"
      }
    }
  ]
}