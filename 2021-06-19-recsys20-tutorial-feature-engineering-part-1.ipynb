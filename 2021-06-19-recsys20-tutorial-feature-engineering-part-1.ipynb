{
  "nbformat": 4,
  "nbformat_minor": 0,
  "metadata": {
    "colab": {
      "name": "2021-06-19-recsys20-tutorial-feature-engineering-part-1.ipynb",
      "provenance": [],
      "collapsed_sections": [],
      "mount_file_id": "1bnZOC6wVT95f8hS9bWb6x03D_FnxaYWL",
      "authorship_tag": "ABX9TyPmPXgo7GPE2xbCVlv6wGUY"
    },
    "kernelspec": {
      "name": "python3",
      "display_name": "Python 3"
    },
    "language_info": {
      "name": "python"
    }
  },
  "cells": [
    {
      "cell_type": "markdown",
      "metadata": {
        "id": "Qp9CyeCjAP6I"
      },
      "source": [
        "# Recsys'20 Feature Engineering Tutorial Part 1\n",
        "> RecSys'20 tutorial on feature engineering on a large retail dataset\n",
        "\n",
        "- toc: true\n",
        "- badges: true\n",
        "- comments: true\n",
        "- categories: [features, recsys, cudf, retail, bigdata]\n",
        "- image: "
      ]
    },
    {
      "cell_type": "markdown",
      "metadata": {
        "id": "glqcrXsxGNq1"
      },
      "source": [
        "### Data download"
      ]
    },
    {
      "cell_type": "code",
      "metadata": {
        "colab": {
          "base_uri": "https://localhost:8080/"
        },
        "id": "nMLPnhbYEm8A",
        "outputId": "594c3c96-9665-4eb1-964b-6e2c1d3ac780"
      },
      "source": [
        "!pip install -q -U kaggle\n",
        "!pip install --upgrade --force-reinstall --no-deps kaggle\n",
        "!mkdir ~/.kaggle\n",
        "!cp /content/drive/MyDrive/kaggle.json ~/.kaggle/\n",
        "!chmod 600 ~/.kaggle/kaggle.json\n",
        "\n",
        "!kaggle datasets download -d mkechinov/ecommerce-behavior-data-from-multi-category-store"
      ],
      "execution_count": 1,
      "outputs": [
        {
          "output_type": "stream",
          "text": [
            "Collecting kaggle\n",
            "\u001b[?25l  Downloading https://files.pythonhosted.org/packages/3a/e7/3bac01547d2ed3d308ac92a0878fbdb0ed0f3d41fb1906c319ccbba1bfbc/kaggle-1.5.12.tar.gz (58kB)\n",
            "\r\u001b[K     |█████▋                          | 10kB 6.6MB/s eta 0:00:01\r\u001b[K     |███████████▏                    | 20kB 10.2MB/s eta 0:00:01\r\u001b[K     |████████████████▊               | 30kB 13.1MB/s eta 0:00:01\r\u001b[K     |██████████████████████▎         | 40kB 11.6MB/s eta 0:00:01\r\u001b[K     |███████████████████████████▉    | 51kB 6.1MB/s eta 0:00:01\r\u001b[K     |████████████████████████████████| 61kB 2.9MB/s \n",
            "\u001b[?25hBuilding wheels for collected packages: kaggle\n",
            "  Building wheel for kaggle (setup.py) ... \u001b[?25l\u001b[?25hdone\n",
            "  Created wheel for kaggle: filename=kaggle-1.5.12-cp37-none-any.whl size=73053 sha256=845e8bef0aaf19c5d7a8d3d66934eb5e52047f126c5e82fe7dcb5a6c1f107b0a\n",
            "  Stored in directory: /root/.cache/pip/wheels/a1/6a/26/d30b7499ff85a4a4593377a87ecf55f7d08af42f0de9b60303\n",
            "Successfully built kaggle\n",
            "Installing collected packages: kaggle\n",
            "  Found existing installation: kaggle 1.5.12\n",
            "    Uninstalling kaggle-1.5.12:\n",
            "      Successfully uninstalled kaggle-1.5.12\n",
            "Successfully installed kaggle-1.5.12\n",
            "Downloading ecommerce-behavior-data-from-multi-category-store.zip to /content\n",
            "100% 4.29G/4.29G [01:24<00:00, 50.2MB/s]\n",
            "100% 4.29G/4.29G [01:24<00:00, 54.3MB/s]\n"
          ],
          "name": "stdout"
        }
      ]
    },
    {
      "cell_type": "code",
      "metadata": {
        "colab": {
          "base_uri": "https://localhost:8080/"
        },
        "id": "2Tac1tdjBvqs",
        "outputId": "aef95b25-7997-4245-8491-b58692b814fc"
      },
      "source": [
        "!gdown --id 1qZIwMbMgMmgDC5EoMdJ8aI9lQPsWA3-P\n",
        "!gdown --id 1x5ohrrZNhWQN4Q-zww0RmXOwctKHH9PT\n",
        "!gdown --id 1-Rov9fFtGJqb7_ePc6qH-Rhzxn0cIcKB\n",
        "!gdown --id 1zr_RXpGvOWN2PrWI6itWL8HnRsCpyqz8\n",
        "!gdown --id 1g5WoIgLe05UMdREbxAjh0bEFgVCjA1UL"
      ],
      "execution_count": 2,
      "outputs": [
        {
          "output_type": "stream",
          "text": [
            "Downloading...\n",
            "From: https://drive.google.com/uc?id=1qZIwMbMgMmgDC5EoMdJ8aI9lQPsWA3-P\n",
            "To: /content/2019-Dec.csv.gz\n",
            "2.95GB [01:08, 42.9MB/s]\n",
            "Downloading...\n",
            "From: https://drive.google.com/uc?id=1x5ohrrZNhWQN4Q-zww0RmXOwctKHH9PT\n",
            "To: /content/2020-Jan.csv.gz\n",
            "2.39GB [00:58, 40.7MB/s]\n",
            "Downloading...\n",
            "From: https://drive.google.com/uc?id=1-Rov9fFtGJqb7_ePc6qH-Rhzxn0cIcKB\n",
            "To: /content/2020-Feb.csv.gz\n",
            "2.35GB [00:56, 41.7MB/s]\n",
            "Downloading...\n",
            "From: https://drive.google.com/uc?id=1zr_RXpGvOWN2PrWI6itWL8HnRsCpyqz8\n",
            "To: /content/2020-Mar.csv.gz\n",
            "2.42GB [00:40, 60.3MB/s]\n",
            "Downloading...\n",
            "From: https://drive.google.com/uc?id=1g5WoIgLe05UMdREbxAjh0bEFgVCjA1UL\n",
            "To: /content/2020-Apr.csv.gz\n",
            "2.93GB [00:44, 66.3MB/s]\n"
          ],
          "name": "stdout"
        }
      ]
    },
    {
      "cell_type": "markdown",
      "metadata": {
        "id": "cbqqSo1mGRFU"
      },
      "source": [
        "### Data extract"
      ]
    },
    {
      "cell_type": "code",
      "metadata": {
        "id": "yEDIXNVkGuCW"
      },
      "source": [
        "import os\n",
        "import gc\n",
        "import glob\n",
        "import pandas as pd"
      ],
      "execution_count": 3,
      "outputs": []
    },
    {
      "cell_type": "code",
      "metadata": {
        "colab": {
          "base_uri": "https://localhost:8080/"
        },
        "id": "eWEtIxIXDlfW",
        "outputId": "51f4a064-f076-40e9-a89b-a7f48bb67465"
      },
      "source": [
        "!unzip /content/ecommerce-behavior-data-from-multi-category-store.zip\n",
        "!rm /content/ecommerce-behavior-data-from-multi-category-store.zip"
      ],
      "execution_count": 4,
      "outputs": [
        {
          "output_type": "stream",
          "text": [
            "Archive:  /content/ecommerce-behavior-data-from-multi-category-store.zip\n",
            "  inflating: 2019-Nov.csv            \n",
            "  inflating: 2019-Oct.csv            \n"
          ],
          "name": "stdout"
        }
      ]
    },
    {
      "cell_type": "code",
      "metadata": {
        "colab": {
          "base_uri": "https://localhost:8080/"
        },
        "id": "IOxOL1pJGpWM",
        "outputId": "2caa1dbf-462e-40fc-c8fe-fdfb41fcebcf"
      },
      "source": [
        "list_gz_files = glob.glob('/content/*.gz')\n",
        "list_gz_files"
      ],
      "execution_count": 5,
      "outputs": [
        {
          "output_type": "execute_result",
          "data": {
            "text/plain": [
              "['/content/2020-Jan.csv.gz',\n",
              " '/content/2020-Mar.csv.gz',\n",
              " '/content/2019-Dec.csv.gz',\n",
              " '/content/2020-Apr.csv.gz',\n",
              " '/content/2020-Feb.csv.gz']"
            ]
          },
          "metadata": {
            "tags": []
          },
          "execution_count": 5
        }
      ]
    },
    {
      "cell_type": "code",
      "metadata": {
        "colab": {
          "base_uri": "https://localhost:8080/"
        },
        "id": "PVC7SGvzHFm1",
        "outputId": "8ee095e2-ad18-4d92-8a0b-013ff484933c"
      },
      "source": [
        "for file in list_gz_files:\n",
        "  print(file)\n",
        "  !gunzip $file"
      ],
      "execution_count": 6,
      "outputs": [
        {
          "output_type": "stream",
          "text": [
            "/content/2020-Jan.csv.gz\n",
            "/content/2020-Mar.csv.gz\n",
            "/content/2019-Dec.csv.gz\n",
            "/content/2020-Apr.csv.gz\n",
            "/content/2020-Feb.csv.gz\n"
          ],
          "name": "stdout"
        }
      ]
    },
    {
      "cell_type": "code",
      "metadata": {
        "colab": {
          "base_uri": "https://localhost:8080/",
          "height": 479
        },
        "id": "teiuKEb1QzcQ",
        "outputId": "c64a375c-41c4-4040-e92a-49e80d875932"
      },
      "source": [
        "snapshot = pd.read_csv(\"/content/2019-Oct.csv\").sample(1000)\n",
        "snapshot.head()"
      ],
      "execution_count": 7,
      "outputs": [
        {
          "output_type": "execute_result",
          "data": {
            "text/html": [
              "<div>\n",
              "<style scoped>\n",
              "    .dataframe tbody tr th:only-of-type {\n",
              "        vertical-align: middle;\n",
              "    }\n",
              "\n",
              "    .dataframe tbody tr th {\n",
              "        vertical-align: top;\n",
              "    }\n",
              "\n",
              "    .dataframe thead th {\n",
              "        text-align: right;\n",
              "    }\n",
              "</style>\n",
              "<table border=\"1\" class=\"dataframe\">\n",
              "  <thead>\n",
              "    <tr style=\"text-align: right;\">\n",
              "      <th></th>\n",
              "      <th>event_time</th>\n",
              "      <th>event_type</th>\n",
              "      <th>product_id</th>\n",
              "      <th>category_id</th>\n",
              "      <th>category_code</th>\n",
              "      <th>brand</th>\n",
              "      <th>price</th>\n",
              "      <th>user_id</th>\n",
              "      <th>user_session</th>\n",
              "    </tr>\n",
              "  </thead>\n",
              "  <tbody>\n",
              "    <tr>\n",
              "      <th>19704681</th>\n",
              "      <td>2019-10-15 12:13:56 UTC</td>\n",
              "      <td>view</td>\n",
              "      <td>1307348</td>\n",
              "      <td>2053013558920217191</td>\n",
              "      <td>computers.notebook</td>\n",
              "      <td>acer</td>\n",
              "      <td>694.97</td>\n",
              "      <td>515263277</td>\n",
              "      <td>1f854496-4dae-4114-af89-4f027ba31e56</td>\n",
              "    </tr>\n",
              "    <tr>\n",
              "      <th>41661471</th>\n",
              "      <td>2019-10-31 09:41:21 UTC</td>\n",
              "      <td>view</td>\n",
              "      <td>12709169</td>\n",
              "      <td>2053013553559896355</td>\n",
              "      <td>NaN</td>\n",
              "      <td>michelin</td>\n",
              "      <td>68.21</td>\n",
              "      <td>512784291</td>\n",
              "      <td>caa01956-1d21-4966-8767-3fa5013ef13a</td>\n",
              "    </tr>\n",
              "    <tr>\n",
              "      <th>14636483</th>\n",
              "      <td>2019-10-12 06:19:13 UTC</td>\n",
              "      <td>view</td>\n",
              "      <td>11300059</td>\n",
              "      <td>2053013555531219353</td>\n",
              "      <td>electronics.telephone</td>\n",
              "      <td>texet</td>\n",
              "      <td>17.46</td>\n",
              "      <td>519299950</td>\n",
              "      <td>d67e54c3-88e4-4df2-bc37-d8c7cf656a6a</td>\n",
              "    </tr>\n",
              "    <tr>\n",
              "      <th>41272837</th>\n",
              "      <td>2019-10-31 03:29:40 UTC</td>\n",
              "      <td>view</td>\n",
              "      <td>11500273</td>\n",
              "      <td>2053013554625249641</td>\n",
              "      <td>NaN</td>\n",
              "      <td>jbl</td>\n",
              "      <td>94.71</td>\n",
              "      <td>543868618</td>\n",
              "      <td>a162e395-7b69-49aa-9d45-f05a60e19641</td>\n",
              "    </tr>\n",
              "    <tr>\n",
              "      <th>3527462</th>\n",
              "      <td>2019-10-03 20:29:36 UTC</td>\n",
              "      <td>view</td>\n",
              "      <td>1004777</td>\n",
              "      <td>2053013555631882655</td>\n",
              "      <td>electronics.smartphone</td>\n",
              "      <td>xiaomi</td>\n",
              "      <td>135.01</td>\n",
              "      <td>520834671</td>\n",
              "      <td>98d5af9f-c141-4b79-bdd1-dc9bd1d9a7cb</td>\n",
              "    </tr>\n",
              "  </tbody>\n",
              "</table>\n",
              "</div>"
            ],
            "text/plain": [
              "                       event_time  ...                          user_session\n",
              "19704681  2019-10-15 12:13:56 UTC  ...  1f854496-4dae-4114-af89-4f027ba31e56\n",
              "41661471  2019-10-31 09:41:21 UTC  ...  caa01956-1d21-4966-8767-3fa5013ef13a\n",
              "14636483  2019-10-12 06:19:13 UTC  ...  d67e54c3-88e4-4df2-bc37-d8c7cf656a6a\n",
              "41272837  2019-10-31 03:29:40 UTC  ...  a162e395-7b69-49aa-9d45-f05a60e19641\n",
              "3527462   2019-10-03 20:29:36 UTC  ...  98d5af9f-c141-4b79-bdd1-dc9bd1d9a7cb\n",
              "\n",
              "[5 rows x 9 columns]"
            ]
          },
          "metadata": {
            "tags": []
          },
          "execution_count": 7
        }
      ]
    },
    {
      "cell_type": "code",
      "metadata": {
        "id": "Jq2EU5X4RAgG"
      },
      "source": [
        "!mkdir -p /content/data/tmp\n",
        "snapshot.to_csv('/content/data/tmp/snapshot.csv', index=False)"
      ],
      "execution_count": 8,
      "outputs": []
    },
    {
      "cell_type": "code",
      "metadata": {
        "colab": {
          "base_uri": "https://localhost:8080/"
        },
        "id": "CYgxGyUMHmDQ",
        "outputId": "72be5f21-5abd-4169-ca86-432920d660f7"
      },
      "source": [
        "gc.collect()"
      ],
      "execution_count": 9,
      "outputs": [
        {
          "output_type": "execute_result",
          "data": {
            "text/plain": [
              "123"
            ]
          },
          "metadata": {
            "tags": []
          },
          "execution_count": 9
        }
      ]
    },
    {
      "cell_type": "markdown",
      "metadata": {
        "id": "CD_eROhoNxEu"
      },
      "source": [
        "### Data transform"
      ]
    },
    {
      "cell_type": "code",
      "metadata": {
        "id": "yTtSL-aeN464"
      },
      "source": [
        "import os\n",
        "import gc\n",
        "import glob\n",
        "import pandas as pd\n",
        "from pathlib import Path"
      ],
      "execution_count": 1,
      "outputs": []
    },
    {
      "cell_type": "code",
      "metadata": {
        "id": "bD1X1HtbXxqU"
      },
      "source": [
        "file = '/content/data/tmp/snapshot.csv'"
      ],
      "execution_count": 11,
      "outputs": []
    },
    {
      "cell_type": "code",
      "metadata": {
        "id": "LlHEnxnZR056",
        "colab": {
          "base_uri": "https://localhost:8080/",
          "height": 374
        },
        "outputId": "6db3f1c9-8543-4270-e3e2-4d05defa1923"
      },
      "source": [
        "df_tmp = pd.read_csv(file)\n",
        "df_tmp['session_purchase'] =  df_tmp['user_session'] + '_' + df_tmp['product_id'].astype(str)\n",
        "df_purchase = df_tmp[df_tmp['event_type']=='purchase']\n",
        "df_cart = df_tmp[df_tmp['event_type']=='cart']\n",
        "df_purchase = df_purchase[df_purchase['session_purchase'].isin(df_cart['session_purchase'])]\n",
        "df_cart = df_cart[~(df_cart['session_purchase'].isin(df_purchase['session_purchase']))]\n",
        "df_cart['target'] = 0\n",
        "df_purchase['target'] = 1\n",
        "df = pd.concat([df_cart, df_purchase])\n",
        "df = df.drop('category_id', axis=1)\n",
        "df = df.drop('session_purchase', axis=1)\n",
        "df.head()"
      ],
      "execution_count": 12,
      "outputs": [
        {
          "output_type": "execute_result",
          "data": {
            "text/html": [
              "<div>\n",
              "<style scoped>\n",
              "    .dataframe tbody tr th:only-of-type {\n",
              "        vertical-align: middle;\n",
              "    }\n",
              "\n",
              "    .dataframe tbody tr th {\n",
              "        vertical-align: top;\n",
              "    }\n",
              "\n",
              "    .dataframe thead th {\n",
              "        text-align: right;\n",
              "    }\n",
              "</style>\n",
              "<table border=\"1\" class=\"dataframe\">\n",
              "  <thead>\n",
              "    <tr style=\"text-align: right;\">\n",
              "      <th></th>\n",
              "      <th>event_time</th>\n",
              "      <th>event_type</th>\n",
              "      <th>product_id</th>\n",
              "      <th>category_code</th>\n",
              "      <th>brand</th>\n",
              "      <th>price</th>\n",
              "      <th>user_id</th>\n",
              "      <th>user_session</th>\n",
              "      <th>target</th>\n",
              "    </tr>\n",
              "  </thead>\n",
              "  <tbody>\n",
              "    <tr>\n",
              "      <th>55</th>\n",
              "      <td>2019-10-01 14:17:59 UTC</td>\n",
              "      <td>cart</td>\n",
              "      <td>4804055</td>\n",
              "      <td>electronics.audio.headphone</td>\n",
              "      <td>apple</td>\n",
              "      <td>189.10</td>\n",
              "      <td>522564858</td>\n",
              "      <td>c3f614f6-bdcb-46d7-ad93-18d03b0e11ba</td>\n",
              "      <td>0</td>\n",
              "    </tr>\n",
              "    <tr>\n",
              "      <th>75</th>\n",
              "      <td>2019-10-10 10:16:18 UTC</td>\n",
              "      <td>cart</td>\n",
              "      <td>1004708</td>\n",
              "      <td>electronics.smartphone</td>\n",
              "      <td>huawei</td>\n",
              "      <td>153.96</td>\n",
              "      <td>516882359</td>\n",
              "      <td>b513996d-0335-4337-bb4d-09c3c14ee2cf</td>\n",
              "      <td>0</td>\n",
              "    </tr>\n",
              "    <tr>\n",
              "      <th>133</th>\n",
              "      <td>2019-10-18 08:22:44 UTC</td>\n",
              "      <td>cart</td>\n",
              "      <td>2701288</td>\n",
              "      <td>appliances.kitchen.refrigerators</td>\n",
              "      <td>samsung</td>\n",
              "      <td>849.26</td>\n",
              "      <td>512762567</td>\n",
              "      <td>2dd77291-d54e-4d3c-a25a-2c915df9fff9</td>\n",
              "      <td>0</td>\n",
              "    </tr>\n",
              "    <tr>\n",
              "      <th>140</th>\n",
              "      <td>2019-10-10 04:24:55 UTC</td>\n",
              "      <td>cart</td>\n",
              "      <td>1004767</td>\n",
              "      <td>electronics.smartphone</td>\n",
              "      <td>samsung</td>\n",
              "      <td>250.93</td>\n",
              "      <td>558658709</td>\n",
              "      <td>d6c93da2-f4ee-42a1-951a-45fc52bbbf82</td>\n",
              "      <td>0</td>\n",
              "    </tr>\n",
              "    <tr>\n",
              "      <th>163</th>\n",
              "      <td>2019-10-12 20:19:27 UTC</td>\n",
              "      <td>cart</td>\n",
              "      <td>1004750</td>\n",
              "      <td>electronics.smartphone</td>\n",
              "      <td>samsung</td>\n",
              "      <td>196.80</td>\n",
              "      <td>549588267</td>\n",
              "      <td>d63ac7ef-d492-4034-b846-351fd2a5c32b</td>\n",
              "      <td>0</td>\n",
              "    </tr>\n",
              "  </tbody>\n",
              "</table>\n",
              "</div>"
            ],
            "text/plain": [
              "                  event_time  ... target\n",
              "55   2019-10-01 14:17:59 UTC  ...      0\n",
              "75   2019-10-10 10:16:18 UTC  ...      0\n",
              "133  2019-10-18 08:22:44 UTC  ...      0\n",
              "140  2019-10-10 04:24:55 UTC  ...      0\n",
              "163  2019-10-12 20:19:27 UTC  ...      0\n",
              "\n",
              "[5 rows x 9 columns]"
            ]
          },
          "metadata": {
            "tags": []
          },
          "execution_count": 12
        }
      ]
    },
    {
      "cell_type": "code",
      "metadata": {
        "colab": {
          "base_uri": "https://localhost:8080/",
          "height": 479
        },
        "id": "H_rxW2oGRkIh",
        "outputId": "1830c320-50e1-41cf-bbbf-bfe8887306d6"
      },
      "source": [
        "df[['cat_0', 'cat_1', 'cat_2']] = df['category_code'].str.split(\"\\.\", n = 3, expand = True).fillna('NA')\n",
        "# df[['cat_0', 'cat_1', 'cat_2', 'cat_3']] = df['category_code'].str.split(\"\\.\", n = 3, expand = True).fillna('NA')\n",
        "df['brand'] = df['brand'].fillna('NA')\n",
        "df = df.drop('category_code', axis=1)\n",
        "df['timestamp'] = pd.to_datetime(df['event_time'].str.replace(' UTC', ''))\n",
        "df['ts_hour'] = df['timestamp'].dt.hour\n",
        "df['ts_minute'] = df['timestamp'].dt.minute\n",
        "df['ts_weekday'] = df['timestamp'].dt.weekday\n",
        "df['ts_day'] = df['timestamp'].dt.day\n",
        "df['ts_month'] = df['timestamp'].dt.month\n",
        "df['ts_year'] = df['timestamp'].dt.year\n",
        "df.head()"
      ],
      "execution_count": 13,
      "outputs": [
        {
          "output_type": "execute_result",
          "data": {
            "text/html": [
              "<div>\n",
              "<style scoped>\n",
              "    .dataframe tbody tr th:only-of-type {\n",
              "        vertical-align: middle;\n",
              "    }\n",
              "\n",
              "    .dataframe tbody tr th {\n",
              "        vertical-align: top;\n",
              "    }\n",
              "\n",
              "    .dataframe thead th {\n",
              "        text-align: right;\n",
              "    }\n",
              "</style>\n",
              "<table border=\"1\" class=\"dataframe\">\n",
              "  <thead>\n",
              "    <tr style=\"text-align: right;\">\n",
              "      <th></th>\n",
              "      <th>event_time</th>\n",
              "      <th>event_type</th>\n",
              "      <th>product_id</th>\n",
              "      <th>brand</th>\n",
              "      <th>price</th>\n",
              "      <th>user_id</th>\n",
              "      <th>user_session</th>\n",
              "      <th>target</th>\n",
              "      <th>cat_0</th>\n",
              "      <th>cat_1</th>\n",
              "      <th>cat_2</th>\n",
              "      <th>timestamp</th>\n",
              "      <th>ts_hour</th>\n",
              "      <th>ts_minute</th>\n",
              "      <th>ts_weekday</th>\n",
              "      <th>ts_day</th>\n",
              "      <th>ts_month</th>\n",
              "      <th>ts_year</th>\n",
              "    </tr>\n",
              "  </thead>\n",
              "  <tbody>\n",
              "    <tr>\n",
              "      <th>55</th>\n",
              "      <td>2019-10-01 14:17:59 UTC</td>\n",
              "      <td>cart</td>\n",
              "      <td>4804055</td>\n",
              "      <td>apple</td>\n",
              "      <td>189.10</td>\n",
              "      <td>522564858</td>\n",
              "      <td>c3f614f6-bdcb-46d7-ad93-18d03b0e11ba</td>\n",
              "      <td>0</td>\n",
              "      <td>electronics</td>\n",
              "      <td>audio</td>\n",
              "      <td>headphone</td>\n",
              "      <td>2019-10-01 14:17:59</td>\n",
              "      <td>14</td>\n",
              "      <td>17</td>\n",
              "      <td>1</td>\n",
              "      <td>1</td>\n",
              "      <td>10</td>\n",
              "      <td>2019</td>\n",
              "    </tr>\n",
              "    <tr>\n",
              "      <th>75</th>\n",
              "      <td>2019-10-10 10:16:18 UTC</td>\n",
              "      <td>cart</td>\n",
              "      <td>1004708</td>\n",
              "      <td>huawei</td>\n",
              "      <td>153.96</td>\n",
              "      <td>516882359</td>\n",
              "      <td>b513996d-0335-4337-bb4d-09c3c14ee2cf</td>\n",
              "      <td>0</td>\n",
              "      <td>electronics</td>\n",
              "      <td>smartphone</td>\n",
              "      <td>NA</td>\n",
              "      <td>2019-10-10 10:16:18</td>\n",
              "      <td>10</td>\n",
              "      <td>16</td>\n",
              "      <td>3</td>\n",
              "      <td>10</td>\n",
              "      <td>10</td>\n",
              "      <td>2019</td>\n",
              "    </tr>\n",
              "    <tr>\n",
              "      <th>133</th>\n",
              "      <td>2019-10-18 08:22:44 UTC</td>\n",
              "      <td>cart</td>\n",
              "      <td>2701288</td>\n",
              "      <td>samsung</td>\n",
              "      <td>849.26</td>\n",
              "      <td>512762567</td>\n",
              "      <td>2dd77291-d54e-4d3c-a25a-2c915df9fff9</td>\n",
              "      <td>0</td>\n",
              "      <td>appliances</td>\n",
              "      <td>kitchen</td>\n",
              "      <td>refrigerators</td>\n",
              "      <td>2019-10-18 08:22:44</td>\n",
              "      <td>8</td>\n",
              "      <td>22</td>\n",
              "      <td>4</td>\n",
              "      <td>18</td>\n",
              "      <td>10</td>\n",
              "      <td>2019</td>\n",
              "    </tr>\n",
              "    <tr>\n",
              "      <th>140</th>\n",
              "      <td>2019-10-10 04:24:55 UTC</td>\n",
              "      <td>cart</td>\n",
              "      <td>1004767</td>\n",
              "      <td>samsung</td>\n",
              "      <td>250.93</td>\n",
              "      <td>558658709</td>\n",
              "      <td>d6c93da2-f4ee-42a1-951a-45fc52bbbf82</td>\n",
              "      <td>0</td>\n",
              "      <td>electronics</td>\n",
              "      <td>smartphone</td>\n",
              "      <td>NA</td>\n",
              "      <td>2019-10-10 04:24:55</td>\n",
              "      <td>4</td>\n",
              "      <td>24</td>\n",
              "      <td>3</td>\n",
              "      <td>10</td>\n",
              "      <td>10</td>\n",
              "      <td>2019</td>\n",
              "    </tr>\n",
              "    <tr>\n",
              "      <th>163</th>\n",
              "      <td>2019-10-12 20:19:27 UTC</td>\n",
              "      <td>cart</td>\n",
              "      <td>1004750</td>\n",
              "      <td>samsung</td>\n",
              "      <td>196.80</td>\n",
              "      <td>549588267</td>\n",
              "      <td>d63ac7ef-d492-4034-b846-351fd2a5c32b</td>\n",
              "      <td>0</td>\n",
              "      <td>electronics</td>\n",
              "      <td>smartphone</td>\n",
              "      <td>NA</td>\n",
              "      <td>2019-10-12 20:19:27</td>\n",
              "      <td>20</td>\n",
              "      <td>19</td>\n",
              "      <td>5</td>\n",
              "      <td>12</td>\n",
              "      <td>10</td>\n",
              "      <td>2019</td>\n",
              "    </tr>\n",
              "  </tbody>\n",
              "</table>\n",
              "</div>"
            ],
            "text/plain": [
              "                  event_time event_type  product_id  ... ts_day  ts_month  ts_year\n",
              "55   2019-10-01 14:17:59 UTC       cart     4804055  ...      1        10     2019\n",
              "75   2019-10-10 10:16:18 UTC       cart     1004708  ...     10        10     2019\n",
              "133  2019-10-18 08:22:44 UTC       cart     2701288  ...     18        10     2019\n",
              "140  2019-10-10 04:24:55 UTC       cart     1004767  ...     10        10     2019\n",
              "163  2019-10-12 20:19:27 UTC       cart     1004750  ...     12        10     2019\n",
              "\n",
              "[5 rows x 18 columns]"
            ]
          },
          "metadata": {
            "tags": []
          },
          "execution_count": 13
        }
      ]
    },
    {
      "cell_type": "code",
      "metadata": {
        "colab": {
          "base_uri": "https://localhost:8080/"
        },
        "id": "M95wOkSINI_K",
        "outputId": "8b637a53-be8f-4c29-a286-d5207cf1b41e"
      },
      "source": [
        "list_files = glob.glob('/content/*.csv')\n",
        "list_files"
      ],
      "execution_count": 14,
      "outputs": [
        {
          "output_type": "execute_result",
          "data": {
            "text/plain": [
              "['/content/2020-Apr.csv',\n",
              " '/content/2019-Nov.csv',\n",
              " '/content/2020-Jan.csv',\n",
              " '/content/2019-Dec.csv',\n",
              " '/content/2020-Mar.csv',\n",
              " '/content/2019-Oct.csv',\n",
              " '/content/2020-Feb.csv']"
            ]
          },
          "metadata": {
            "tags": []
          },
          "execution_count": 14
        }
      ]
    },
    {
      "cell_type": "code",
      "metadata": {
        "id": "AAVAUULwNriQ"
      },
      "source": [
        "def process_files(df_tmp, chunkname):\n",
        "    df_tmp['session_purchase'] =  df_tmp['user_session'] + '_' + df_tmp['product_id'].astype(str)\n",
        "    df_purchase = df_tmp[df_tmp['event_type']=='purchase']\n",
        "    df_cart = df_tmp[df_tmp['event_type']=='cart']\n",
        "    df_purchase = df_purchase[df_purchase['session_purchase'].isin(df_cart['session_purchase'])]\n",
        "    df_cart = df_cart[~(df_cart['session_purchase'].isin(df_purchase['session_purchase']))]\n",
        "    df_cart['target'] = 0\n",
        "    df_purchase['target'] = 1\n",
        "    df = pd.concat([df_cart, df_purchase])\n",
        "    df = df.drop('category_id', axis=1)\n",
        "    df = df.drop('session_purchase', axis=1)\n",
        "    # df[['cat_0', 'cat_1', 'cat_2', 'cat_3']] = df['category_code'].str.split(\"\\.\", n = 3, expand = True).fillna('NA')\n",
        "    df['brand'] = df['brand'].fillna('NA')\n",
        "    # df = df.drop('category_code', axis=1)\n",
        "    df['timestamp'] = pd.to_datetime(df['event_time'].str.replace(' UTC', ''))\n",
        "    df['ts_hour'] = df['timestamp'].dt.hour\n",
        "    df['ts_minute'] = df['timestamp'].dt.minute\n",
        "    df['ts_weekday'] = df['timestamp'].dt.weekday\n",
        "    df['ts_day'] = df['timestamp'].dt.day\n",
        "    df['ts_month'] = df['timestamp'].dt.month\n",
        "    df['ts_year'] = df['timestamp'].dt.year\n",
        "    df.to_csv(chunkname, index=False)"
      ],
      "execution_count": 15,
      "outputs": []
    },
    {
      "cell_type": "code",
      "metadata": {
        "id": "l8_QGBIzWxcO"
      },
      "source": [
        "base_path_silver = \"/content/data/silver\"\n",
        "!mkdir -p $base_path_silver"
      ],
      "execution_count": 2,
      "outputs": []
    },
    {
      "cell_type": "code",
      "metadata": {
        "colab": {
          "base_uri": "https://localhost:8080/"
        },
        "id": "rlpfP0TRdsUK",
        "outputId": "1d002eaf-c8d7-475b-a63b-21a17e6edd1b"
      },
      "source": [
        "for idx, chunk in enumerate(list_files[:2]):\n",
        "  chunkname = os.path.join(base_path_silver, Path(chunk).stem + '-' + str(idx) + '.csv')\n",
        "  print(chunkname)"
      ],
      "execution_count": 24,
      "outputs": [
        {
          "output_type": "stream",
          "text": [
            "/content/data/silver/2020-Apr-0.csv\n",
            "/content/data/silver/2019-Nov-1.csv\n"
          ],
          "name": "stdout"
        }
      ]
    },
    {
      "cell_type": "code",
      "metadata": {
        "colab": {
          "base_uri": "https://localhost:8080/"
        },
        "id": "RiN1K5yxOSik",
        "outputId": "7ee593d1-0673-444e-8ff2-64ca109a30f7"
      },
      "source": [
        "chunksize = 10 ** 6\n",
        "\n",
        "for file in list_files:\n",
        "    print(file)\n",
        "    for idx, chunk in enumerate(pd.read_csv(file, chunksize=chunksize)):\n",
        "      chunkname = os.path.join(base_path_silver, Path(file).stem + '-' + str(idx) + '.csv')\n",
        "      print(chunkname)\n",
        "      if not os.path.exists(chunkname):\n",
        "        process_files(chunk, chunkname)"
      ],
      "execution_count": 26,
      "outputs": [
        {
          "output_type": "stream",
          "text": [
            "/content/2020-Apr.csv\n",
            "/content/data/silver/2020-Apr-0.csv\n",
            "/content/data/silver/2020-Apr-1.csv\n",
            "/content/data/silver/2020-Apr-2.csv\n",
            "/content/data/silver/2020-Apr-3.csv\n",
            "/content/data/silver/2020-Apr-4.csv\n",
            "/content/data/silver/2020-Apr-5.csv\n",
            "/content/data/silver/2020-Apr-6.csv\n",
            "/content/data/silver/2020-Apr-7.csv\n",
            "/content/data/silver/2020-Apr-8.csv\n",
            "/content/data/silver/2020-Apr-9.csv\n",
            "/content/data/silver/2020-Apr-10.csv\n",
            "/content/data/silver/2020-Apr-11.csv\n",
            "/content/data/silver/2020-Apr-12.csv\n",
            "/content/data/silver/2020-Apr-13.csv\n",
            "/content/data/silver/2020-Apr-14.csv\n",
            "/content/data/silver/2020-Apr-15.csv\n",
            "/content/data/silver/2020-Apr-16.csv\n",
            "/content/data/silver/2020-Apr-17.csv\n",
            "/content/data/silver/2020-Apr-18.csv\n",
            "/content/data/silver/2020-Apr-19.csv\n",
            "/content/data/silver/2020-Apr-20.csv\n",
            "/content/data/silver/2020-Apr-21.csv\n",
            "/content/data/silver/2020-Apr-22.csv\n",
            "/content/data/silver/2020-Apr-23.csv\n",
            "/content/data/silver/2020-Apr-24.csv\n",
            "/content/data/silver/2020-Apr-25.csv\n",
            "/content/data/silver/2020-Apr-26.csv\n",
            "/content/data/silver/2020-Apr-27.csv\n",
            "/content/data/silver/2020-Apr-28.csv\n",
            "/content/data/silver/2020-Apr-29.csv\n",
            "/content/data/silver/2020-Apr-30.csv\n",
            "/content/data/silver/2020-Apr-31.csv\n",
            "/content/data/silver/2020-Apr-32.csv\n",
            "/content/data/silver/2020-Apr-33.csv\n",
            "/content/data/silver/2020-Apr-34.csv\n",
            "/content/data/silver/2020-Apr-35.csv\n",
            "/content/data/silver/2020-Apr-36.csv\n",
            "/content/data/silver/2020-Apr-37.csv\n",
            "/content/data/silver/2020-Apr-38.csv\n",
            "/content/data/silver/2020-Apr-39.csv\n",
            "/content/data/silver/2020-Apr-40.csv\n",
            "/content/data/silver/2020-Apr-41.csv\n",
            "/content/data/silver/2020-Apr-42.csv\n",
            "/content/data/silver/2020-Apr-43.csv\n",
            "/content/data/silver/2020-Apr-44.csv\n",
            "/content/data/silver/2020-Apr-45.csv\n",
            "/content/data/silver/2020-Apr-46.csv\n",
            "/content/data/silver/2020-Apr-47.csv\n",
            "/content/data/silver/2020-Apr-48.csv\n",
            "/content/data/silver/2020-Apr-49.csv\n",
            "/content/data/silver/2020-Apr-50.csv\n",
            "/content/data/silver/2020-Apr-51.csv\n",
            "/content/data/silver/2020-Apr-52.csv\n",
            "/content/data/silver/2020-Apr-53.csv\n",
            "/content/data/silver/2020-Apr-54.csv\n",
            "/content/data/silver/2020-Apr-55.csv\n",
            "/content/data/silver/2020-Apr-56.csv\n",
            "/content/data/silver/2020-Apr-57.csv\n",
            "/content/data/silver/2020-Apr-58.csv\n",
            "/content/data/silver/2020-Apr-59.csv\n",
            "/content/data/silver/2020-Apr-60.csv\n",
            "/content/data/silver/2020-Apr-61.csv\n",
            "/content/data/silver/2020-Apr-62.csv\n",
            "/content/data/silver/2020-Apr-63.csv\n",
            "/content/data/silver/2020-Apr-64.csv\n",
            "/content/data/silver/2020-Apr-65.csv\n",
            "/content/data/silver/2020-Apr-66.csv\n",
            "/content/2019-Nov.csv\n",
            "/content/data/silver/2019-Nov-0.csv\n",
            "/content/data/silver/2019-Nov-1.csv\n",
            "/content/data/silver/2019-Nov-2.csv\n",
            "/content/data/silver/2019-Nov-3.csv\n",
            "/content/data/silver/2019-Nov-4.csv\n",
            "/content/data/silver/2019-Nov-5.csv\n",
            "/content/data/silver/2019-Nov-6.csv\n",
            "/content/data/silver/2019-Nov-7.csv\n",
            "/content/data/silver/2019-Nov-8.csv\n",
            "/content/data/silver/2019-Nov-9.csv\n",
            "/content/data/silver/2019-Nov-10.csv\n",
            "/content/data/silver/2019-Nov-11.csv\n",
            "/content/data/silver/2019-Nov-12.csv\n",
            "/content/data/silver/2019-Nov-13.csv\n",
            "/content/data/silver/2019-Nov-14.csv\n",
            "/content/data/silver/2019-Nov-15.csv\n",
            "/content/data/silver/2019-Nov-16.csv\n",
            "/content/data/silver/2019-Nov-17.csv\n",
            "/content/data/silver/2019-Nov-18.csv\n",
            "/content/data/silver/2019-Nov-19.csv\n",
            "/content/data/silver/2019-Nov-20.csv\n",
            "/content/data/silver/2019-Nov-21.csv\n",
            "/content/data/silver/2019-Nov-22.csv\n",
            "/content/data/silver/2019-Nov-23.csv\n",
            "/content/data/silver/2019-Nov-24.csv\n",
            "/content/data/silver/2019-Nov-25.csv\n",
            "/content/data/silver/2019-Nov-26.csv\n",
            "/content/data/silver/2019-Nov-27.csv\n",
            "/content/data/silver/2019-Nov-28.csv\n",
            "/content/data/silver/2019-Nov-29.csv\n",
            "/content/data/silver/2019-Nov-30.csv\n",
            "/content/data/silver/2019-Nov-31.csv\n",
            "/content/data/silver/2019-Nov-32.csv\n",
            "/content/data/silver/2019-Nov-33.csv\n",
            "/content/data/silver/2019-Nov-34.csv\n",
            "/content/data/silver/2019-Nov-35.csv\n",
            "/content/data/silver/2019-Nov-36.csv\n",
            "/content/data/silver/2019-Nov-37.csv\n",
            "/content/data/silver/2019-Nov-38.csv\n",
            "/content/data/silver/2019-Nov-39.csv\n",
            "/content/data/silver/2019-Nov-40.csv\n",
            "/content/data/silver/2019-Nov-41.csv\n",
            "/content/data/silver/2019-Nov-42.csv\n",
            "/content/data/silver/2019-Nov-43.csv\n",
            "/content/data/silver/2019-Nov-44.csv\n",
            "/content/data/silver/2019-Nov-45.csv\n",
            "/content/data/silver/2019-Nov-46.csv\n",
            "/content/data/silver/2019-Nov-47.csv\n",
            "/content/data/silver/2019-Nov-48.csv\n",
            "/content/data/silver/2019-Nov-49.csv\n",
            "/content/data/silver/2019-Nov-50.csv\n",
            "/content/data/silver/2019-Nov-51.csv\n",
            "/content/data/silver/2019-Nov-52.csv\n",
            "/content/data/silver/2019-Nov-53.csv\n",
            "/content/data/silver/2019-Nov-54.csv\n",
            "/content/data/silver/2019-Nov-55.csv\n",
            "/content/data/silver/2019-Nov-56.csv\n",
            "/content/data/silver/2019-Nov-57.csv\n",
            "/content/data/silver/2019-Nov-58.csv\n",
            "/content/data/silver/2019-Nov-59.csv\n",
            "/content/data/silver/2019-Nov-60.csv\n",
            "/content/data/silver/2019-Nov-61.csv\n",
            "/content/data/silver/2019-Nov-62.csv\n",
            "/content/data/silver/2019-Nov-63.csv\n",
            "/content/data/silver/2019-Nov-64.csv\n",
            "/content/data/silver/2019-Nov-65.csv\n",
            "/content/data/silver/2019-Nov-66.csv\n",
            "/content/data/silver/2019-Nov-67.csv\n",
            "/content/2020-Jan.csv\n",
            "/content/data/silver/2020-Jan-0.csv\n",
            "/content/data/silver/2020-Jan-1.csv\n",
            "/content/data/silver/2020-Jan-2.csv\n",
            "/content/data/silver/2020-Jan-3.csv\n",
            "/content/data/silver/2020-Jan-4.csv\n",
            "/content/data/silver/2020-Jan-5.csv\n",
            "/content/data/silver/2020-Jan-6.csv\n",
            "/content/data/silver/2020-Jan-7.csv\n",
            "/content/data/silver/2020-Jan-8.csv\n",
            "/content/data/silver/2020-Jan-9.csv\n",
            "/content/data/silver/2020-Jan-10.csv\n",
            "/content/data/silver/2020-Jan-11.csv\n",
            "/content/data/silver/2020-Jan-12.csv\n",
            "/content/data/silver/2020-Jan-13.csv\n",
            "/content/data/silver/2020-Jan-14.csv\n",
            "/content/data/silver/2020-Jan-15.csv\n",
            "/content/data/silver/2020-Jan-16.csv\n",
            "/content/data/silver/2020-Jan-17.csv\n",
            "/content/data/silver/2020-Jan-18.csv\n",
            "/content/data/silver/2020-Jan-19.csv\n",
            "/content/data/silver/2020-Jan-20.csv\n",
            "/content/data/silver/2020-Jan-21.csv\n",
            "/content/data/silver/2020-Jan-22.csv\n",
            "/content/data/silver/2020-Jan-23.csv\n",
            "/content/data/silver/2020-Jan-24.csv\n",
            "/content/data/silver/2020-Jan-25.csv\n",
            "/content/data/silver/2020-Jan-26.csv\n",
            "/content/data/silver/2020-Jan-27.csv\n",
            "/content/data/silver/2020-Jan-28.csv\n",
            "/content/data/silver/2020-Jan-29.csv\n",
            "/content/data/silver/2020-Jan-30.csv\n",
            "/content/data/silver/2020-Jan-31.csv\n",
            "/content/data/silver/2020-Jan-32.csv\n",
            "/content/data/silver/2020-Jan-33.csv\n",
            "/content/data/silver/2020-Jan-34.csv\n",
            "/content/data/silver/2020-Jan-35.csv\n",
            "/content/data/silver/2020-Jan-36.csv\n",
            "/content/data/silver/2020-Jan-37.csv\n",
            "/content/data/silver/2020-Jan-38.csv\n",
            "/content/data/silver/2020-Jan-39.csv\n",
            "/content/data/silver/2020-Jan-40.csv\n",
            "/content/data/silver/2020-Jan-41.csv\n",
            "/content/data/silver/2020-Jan-42.csv\n",
            "/content/data/silver/2020-Jan-43.csv\n",
            "/content/data/silver/2020-Jan-44.csv\n",
            "/content/data/silver/2020-Jan-45.csv\n",
            "/content/data/silver/2020-Jan-46.csv\n",
            "/content/data/silver/2020-Jan-47.csv\n",
            "/content/data/silver/2020-Jan-48.csv\n",
            "/content/data/silver/2020-Jan-49.csv\n",
            "/content/data/silver/2020-Jan-50.csv\n",
            "/content/data/silver/2020-Jan-51.csv\n",
            "/content/data/silver/2020-Jan-52.csv\n",
            "/content/data/silver/2020-Jan-53.csv\n",
            "/content/data/silver/2020-Jan-54.csv\n",
            "/content/data/silver/2020-Jan-55.csv\n",
            "/content/2019-Dec.csv\n",
            "/content/data/silver/2019-Dec-0.csv\n",
            "/content/data/silver/2019-Dec-1.csv\n",
            "/content/data/silver/2019-Dec-2.csv\n",
            "/content/data/silver/2019-Dec-3.csv\n",
            "/content/data/silver/2019-Dec-4.csv\n",
            "/content/data/silver/2019-Dec-5.csv\n",
            "/content/data/silver/2019-Dec-6.csv\n",
            "/content/data/silver/2019-Dec-7.csv\n",
            "/content/data/silver/2019-Dec-8.csv\n",
            "/content/data/silver/2019-Dec-9.csv\n",
            "/content/data/silver/2019-Dec-10.csv\n",
            "/content/data/silver/2019-Dec-11.csv\n",
            "/content/data/silver/2019-Dec-12.csv\n",
            "/content/data/silver/2019-Dec-13.csv\n",
            "/content/data/silver/2019-Dec-14.csv\n",
            "/content/data/silver/2019-Dec-15.csv\n",
            "/content/data/silver/2019-Dec-16.csv\n",
            "/content/data/silver/2019-Dec-17.csv\n",
            "/content/data/silver/2019-Dec-18.csv\n",
            "/content/data/silver/2019-Dec-19.csv\n",
            "/content/data/silver/2019-Dec-20.csv\n",
            "/content/data/silver/2019-Dec-21.csv\n",
            "/content/data/silver/2019-Dec-22.csv\n",
            "/content/data/silver/2019-Dec-23.csv\n",
            "/content/data/silver/2019-Dec-24.csv\n",
            "/content/data/silver/2019-Dec-25.csv\n",
            "/content/data/silver/2019-Dec-26.csv\n",
            "/content/data/silver/2019-Dec-27.csv\n",
            "/content/data/silver/2019-Dec-28.csv\n",
            "/content/data/silver/2019-Dec-29.csv\n",
            "/content/data/silver/2019-Dec-30.csv\n",
            "/content/data/silver/2019-Dec-31.csv\n",
            "/content/data/silver/2019-Dec-32.csv\n",
            "/content/data/silver/2019-Dec-33.csv\n",
            "/content/data/silver/2019-Dec-34.csv\n",
            "/content/data/silver/2019-Dec-35.csv\n",
            "/content/data/silver/2019-Dec-36.csv\n",
            "/content/data/silver/2019-Dec-37.csv\n",
            "/content/data/silver/2019-Dec-38.csv\n",
            "/content/data/silver/2019-Dec-39.csv\n",
            "/content/data/silver/2019-Dec-40.csv\n",
            "/content/data/silver/2019-Dec-41.csv\n",
            "/content/data/silver/2019-Dec-42.csv\n",
            "/content/data/silver/2019-Dec-43.csv\n",
            "/content/data/silver/2019-Dec-44.csv\n",
            "/content/data/silver/2019-Dec-45.csv\n",
            "/content/data/silver/2019-Dec-46.csv\n",
            "/content/data/silver/2019-Dec-47.csv\n",
            "/content/data/silver/2019-Dec-48.csv\n",
            "/content/data/silver/2019-Dec-49.csv\n",
            "/content/data/silver/2019-Dec-50.csv\n",
            "/content/data/silver/2019-Dec-51.csv\n",
            "/content/data/silver/2019-Dec-52.csv\n",
            "/content/data/silver/2019-Dec-53.csv\n",
            "/content/data/silver/2019-Dec-54.csv\n",
            "/content/data/silver/2019-Dec-55.csv\n",
            "/content/data/silver/2019-Dec-56.csv\n",
            "/content/data/silver/2019-Dec-57.csv\n",
            "/content/data/silver/2019-Dec-58.csv\n",
            "/content/data/silver/2019-Dec-59.csv\n",
            "/content/data/silver/2019-Dec-60.csv\n",
            "/content/data/silver/2019-Dec-61.csv\n",
            "/content/data/silver/2019-Dec-62.csv\n",
            "/content/data/silver/2019-Dec-63.csv\n",
            "/content/data/silver/2019-Dec-64.csv\n",
            "/content/data/silver/2019-Dec-65.csv\n",
            "/content/data/silver/2019-Dec-66.csv\n",
            "/content/data/silver/2019-Dec-67.csv\n",
            "/content/2020-Mar.csv\n",
            "/content/data/silver/2020-Mar-0.csv\n",
            "/content/data/silver/2020-Mar-1.csv\n",
            "/content/data/silver/2020-Mar-2.csv\n",
            "/content/data/silver/2020-Mar-3.csv\n",
            "/content/data/silver/2020-Mar-4.csv\n",
            "/content/data/silver/2020-Mar-5.csv\n",
            "/content/data/silver/2020-Mar-6.csv\n",
            "/content/data/silver/2020-Mar-7.csv\n",
            "/content/data/silver/2020-Mar-8.csv\n",
            "/content/data/silver/2020-Mar-9.csv\n",
            "/content/data/silver/2020-Mar-10.csv\n",
            "/content/data/silver/2020-Mar-11.csv\n",
            "/content/data/silver/2020-Mar-12.csv\n",
            "/content/data/silver/2020-Mar-13.csv\n",
            "/content/data/silver/2020-Mar-14.csv\n",
            "/content/data/silver/2020-Mar-15.csv\n",
            "/content/data/silver/2020-Mar-16.csv\n",
            "/content/data/silver/2020-Mar-17.csv\n",
            "/content/data/silver/2020-Mar-18.csv\n",
            "/content/data/silver/2020-Mar-19.csv\n",
            "/content/data/silver/2020-Mar-20.csv\n",
            "/content/data/silver/2020-Mar-21.csv\n",
            "/content/data/silver/2020-Mar-22.csv\n",
            "/content/data/silver/2020-Mar-23.csv\n",
            "/content/data/silver/2020-Mar-24.csv\n",
            "/content/data/silver/2020-Mar-25.csv\n",
            "/content/data/silver/2020-Mar-26.csv\n",
            "/content/data/silver/2020-Mar-27.csv\n",
            "/content/data/silver/2020-Mar-28.csv\n",
            "/content/data/silver/2020-Mar-29.csv\n",
            "/content/data/silver/2020-Mar-30.csv\n",
            "/content/data/silver/2020-Mar-31.csv\n",
            "/content/data/silver/2020-Mar-32.csv\n",
            "/content/data/silver/2020-Mar-33.csv\n",
            "/content/data/silver/2020-Mar-34.csv\n",
            "/content/data/silver/2020-Mar-35.csv\n",
            "/content/data/silver/2020-Mar-36.csv\n",
            "/content/data/silver/2020-Mar-37.csv\n",
            "/content/data/silver/2020-Mar-38.csv\n",
            "/content/data/silver/2020-Mar-39.csv\n",
            "/content/data/silver/2020-Mar-40.csv\n",
            "/content/data/silver/2020-Mar-41.csv\n",
            "/content/data/silver/2020-Mar-42.csv\n",
            "/content/data/silver/2020-Mar-43.csv\n",
            "/content/data/silver/2020-Mar-44.csv\n",
            "/content/data/silver/2020-Mar-45.csv\n",
            "/content/data/silver/2020-Mar-46.csv\n",
            "/content/data/silver/2020-Mar-47.csv\n",
            "/content/data/silver/2020-Mar-48.csv\n",
            "/content/data/silver/2020-Mar-49.csv\n",
            "/content/data/silver/2020-Mar-50.csv\n",
            "/content/data/silver/2020-Mar-51.csv\n",
            "/content/data/silver/2020-Mar-52.csv\n",
            "/content/data/silver/2020-Mar-53.csv\n",
            "/content/data/silver/2020-Mar-54.csv\n",
            "/content/data/silver/2020-Mar-55.csv\n",
            "/content/data/silver/2020-Mar-56.csv\n",
            "/content/2019-Oct.csv\n",
            "/content/data/silver/2019-Oct-0.csv\n",
            "/content/data/silver/2019-Oct-1.csv\n",
            "/content/data/silver/2019-Oct-2.csv\n",
            "/content/data/silver/2019-Oct-3.csv\n",
            "/content/data/silver/2019-Oct-4.csv\n",
            "/content/data/silver/2019-Oct-5.csv\n",
            "/content/data/silver/2019-Oct-6.csv\n",
            "/content/data/silver/2019-Oct-7.csv\n",
            "/content/data/silver/2019-Oct-8.csv\n",
            "/content/data/silver/2019-Oct-9.csv\n",
            "/content/data/silver/2019-Oct-10.csv\n",
            "/content/data/silver/2019-Oct-11.csv\n",
            "/content/data/silver/2019-Oct-12.csv\n",
            "/content/data/silver/2019-Oct-13.csv\n",
            "/content/data/silver/2019-Oct-14.csv\n",
            "/content/data/silver/2019-Oct-15.csv\n",
            "/content/data/silver/2019-Oct-16.csv\n",
            "/content/data/silver/2019-Oct-17.csv\n",
            "/content/data/silver/2019-Oct-18.csv\n",
            "/content/data/silver/2019-Oct-19.csv\n",
            "/content/data/silver/2019-Oct-20.csv\n",
            "/content/data/silver/2019-Oct-21.csv\n",
            "/content/data/silver/2019-Oct-22.csv\n",
            "/content/data/silver/2019-Oct-23.csv\n",
            "/content/data/silver/2019-Oct-24.csv\n",
            "/content/data/silver/2019-Oct-25.csv\n",
            "/content/data/silver/2019-Oct-26.csv\n",
            "/content/data/silver/2019-Oct-27.csv\n",
            "/content/data/silver/2019-Oct-28.csv\n",
            "/content/data/silver/2019-Oct-29.csv\n",
            "/content/data/silver/2019-Oct-30.csv\n",
            "/content/data/silver/2019-Oct-31.csv\n",
            "/content/data/silver/2019-Oct-32.csv\n",
            "/content/data/silver/2019-Oct-33.csv\n",
            "/content/data/silver/2019-Oct-34.csv\n",
            "/content/data/silver/2019-Oct-35.csv\n",
            "/content/data/silver/2019-Oct-36.csv\n",
            "/content/data/silver/2019-Oct-37.csv\n",
            "/content/data/silver/2019-Oct-38.csv\n",
            "/content/data/silver/2019-Oct-39.csv\n",
            "/content/data/silver/2019-Oct-40.csv\n",
            "/content/data/silver/2019-Oct-41.csv\n",
            "/content/data/silver/2019-Oct-42.csv\n",
            "/content/2020-Feb.csv\n",
            "/content/data/silver/2020-Feb-0.csv\n",
            "/content/data/silver/2020-Feb-1.csv\n",
            "/content/data/silver/2020-Feb-2.csv\n",
            "/content/data/silver/2020-Feb-3.csv\n",
            "/content/data/silver/2020-Feb-4.csv\n",
            "/content/data/silver/2020-Feb-5.csv\n",
            "/content/data/silver/2020-Feb-6.csv\n",
            "/content/data/silver/2020-Feb-7.csv\n",
            "/content/data/silver/2020-Feb-8.csv\n",
            "/content/data/silver/2020-Feb-9.csv\n",
            "/content/data/silver/2020-Feb-10.csv\n",
            "/content/data/silver/2020-Feb-11.csv\n",
            "/content/data/silver/2020-Feb-12.csv\n",
            "/content/data/silver/2020-Feb-13.csv\n",
            "/content/data/silver/2020-Feb-14.csv\n",
            "/content/data/silver/2020-Feb-15.csv\n",
            "/content/data/silver/2020-Feb-16.csv\n",
            "/content/data/silver/2020-Feb-17.csv\n",
            "/content/data/silver/2020-Feb-18.csv\n",
            "/content/data/silver/2020-Feb-19.csv\n",
            "/content/data/silver/2020-Feb-20.csv\n",
            "/content/data/silver/2020-Feb-21.csv\n",
            "/content/data/silver/2020-Feb-22.csv\n",
            "/content/data/silver/2020-Feb-23.csv\n",
            "/content/data/silver/2020-Feb-24.csv\n",
            "/content/data/silver/2020-Feb-25.csv\n",
            "/content/data/silver/2020-Feb-26.csv\n",
            "/content/data/silver/2020-Feb-27.csv\n",
            "/content/data/silver/2020-Feb-28.csv\n",
            "/content/data/silver/2020-Feb-29.csv\n",
            "/content/data/silver/2020-Feb-30.csv\n",
            "/content/data/silver/2020-Feb-31.csv\n",
            "/content/data/silver/2020-Feb-32.csv\n",
            "/content/data/silver/2020-Feb-33.csv\n",
            "/content/data/silver/2020-Feb-34.csv\n",
            "/content/data/silver/2020-Feb-35.csv\n",
            "/content/data/silver/2020-Feb-36.csv\n",
            "/content/data/silver/2020-Feb-37.csv\n",
            "/content/data/silver/2020-Feb-38.csv\n",
            "/content/data/silver/2020-Feb-39.csv\n",
            "/content/data/silver/2020-Feb-40.csv\n",
            "/content/data/silver/2020-Feb-41.csv\n",
            "/content/data/silver/2020-Feb-42.csv\n",
            "/content/data/silver/2020-Feb-43.csv\n",
            "/content/data/silver/2020-Feb-44.csv\n",
            "/content/data/silver/2020-Feb-45.csv\n",
            "/content/data/silver/2020-Feb-46.csv\n",
            "/content/data/silver/2020-Feb-47.csv\n",
            "/content/data/silver/2020-Feb-48.csv\n",
            "/content/data/silver/2020-Feb-49.csv\n",
            "/content/data/silver/2020-Feb-50.csv\n",
            "/content/data/silver/2020-Feb-51.csv\n",
            "/content/data/silver/2020-Feb-52.csv\n",
            "/content/data/silver/2020-Feb-53.csv\n",
            "/content/data/silver/2020-Feb-54.csv\n",
            "/content/data/silver/2020-Feb-55.csv\n"
          ],
          "name": "stdout"
        }
      ]
    },
    {
      "cell_type": "code",
      "metadata": {
        "id": "fluni49HqMrd"
      },
      "source": [
        "for file in list_files:\n",
        "  !rm $file"
      ],
      "execution_count": 27,
      "outputs": []
    },
    {
      "cell_type": "code",
      "metadata": {
        "colab": {
          "base_uri": "https://localhost:8080/"
        },
        "id": "-f6cVkEiqtzh",
        "outputId": "f7d12876-69c3-4184-ae7d-a5c5936d5ea0"
      },
      "source": [
        "list_chunks = glob.glob(os.path.join(base_path_silver,'*.csv'))\n",
        "list_chunks[:10]"
      ],
      "execution_count": 3,
      "outputs": [
        {
          "output_type": "execute_result",
          "data": {
            "text/plain": [
              "['/content/data/silver/2020-Jan-40.csv',\n",
              " '/content/data/silver/2019-Dec-54.csv',\n",
              " '/content/data/silver/2019-Oct-27.csv',\n",
              " '/content/data/silver/2019-Nov-12.csv',\n",
              " '/content/data/silver/2020-Mar-36.csv',\n",
              " '/content/data/silver/2020-Apr-14.csv',\n",
              " '/content/data/silver/2020-Feb-40.csv',\n",
              " '/content/data/silver/2019-Nov-3.csv',\n",
              " '/content/data/silver/2020-Mar-3.csv',\n",
              " '/content/data/silver/2020-Apr-39.csv']"
            ]
          },
          "metadata": {
            "tags": []
          },
          "execution_count": 3
        }
      ]
    },
    {
      "cell_type": "code",
      "metadata": {
        "colab": {
          "base_uri": "https://localhost:8080/"
        },
        "id": "N5VRhVZsq0-Z",
        "outputId": "e2a638bd-8a64-4a39-abbc-4e0596289b82"
      },
      "source": [
        "!cd $base_path_silver && zip /content/data_silver.zip ./*.csv"
      ],
      "execution_count": 31,
      "outputs": [
        {
          "output_type": "stream",
          "text": [
            "  adding: 2019-Dec-0.csv (deflated 76%)\n",
            "  adding: 2019-Dec-10.csv (deflated 76%)\n",
            "  adding: 2019-Dec-11.csv (deflated 76%)\n",
            "  adding: 2019-Dec-12.csv (deflated 76%)\n",
            "  adding: 2019-Dec-13.csv (deflated 76%)\n",
            "  adding: 2019-Dec-14.csv (deflated 76%)\n",
            "  adding: 2019-Dec-15.csv (deflated 76%)\n",
            "  adding: 2019-Dec-16.csv (deflated 77%)\n",
            "  adding: 2019-Dec-17.csv (deflated 76%)\n",
            "  adding: 2019-Dec-18.csv (deflated 76%)\n",
            "  adding: 2019-Dec-19.csv (deflated 76%)\n",
            "  adding: 2019-Dec-1.csv (deflated 76%)\n",
            "  adding: 2019-Dec-20.csv (deflated 76%)\n",
            "  adding: 2019-Dec-21.csv (deflated 76%)\n",
            "  adding: 2019-Dec-22.csv (deflated 76%)\n",
            "  adding: 2019-Dec-23.csv (deflated 77%)\n",
            "  adding: 2019-Dec-24.csv (deflated 76%)\n",
            "  adding: 2019-Dec-25.csv (deflated 77%)\n",
            "  adding: 2019-Dec-26.csv (deflated 76%)\n",
            "  adding: 2019-Dec-27.csv (deflated 77%)\n",
            "  adding: 2019-Dec-28.csv (deflated 77%)\n",
            "  adding: 2019-Dec-29.csv (deflated 76%)\n",
            "  adding: 2019-Dec-2.csv (deflated 76%)\n",
            "  adding: 2019-Dec-30.csv (deflated 76%)\n",
            "  adding: 2019-Dec-31.csv (deflated 77%)\n",
            "  adding: 2019-Dec-32.csv (deflated 76%)\n",
            "  adding: 2019-Dec-33.csv (deflated 76%)\n",
            "  adding: 2019-Dec-34.csv (deflated 77%)\n",
            "  adding: 2019-Dec-35.csv (deflated 76%)\n",
            "  adding: 2019-Dec-36.csv (deflated 76%)\n",
            "  adding: 2019-Dec-37.csv (deflated 76%)\n",
            "  adding: 2019-Dec-38.csv (deflated 76%)\n",
            "  adding: 2019-Dec-39.csv (deflated 76%)\n",
            "  adding: 2019-Dec-3.csv (deflated 76%)\n",
            "  adding: 2019-Dec-40.csv (deflated 76%)\n",
            "  adding: 2019-Dec-41.csv (deflated 76%)\n",
            "  adding: 2019-Dec-42.csv (deflated 76%)\n",
            "  adding: 2019-Dec-43.csv (deflated 76%)\n",
            "  adding: 2019-Dec-44.csv (deflated 76%)\n",
            "  adding: 2019-Dec-45.csv (deflated 76%)\n",
            "  adding: 2019-Dec-46.csv (deflated 76%)\n",
            "  adding: 2019-Dec-47.csv (deflated 76%)\n",
            "  adding: 2019-Dec-48.csv (deflated 76%)\n",
            "  adding: 2019-Dec-49.csv (deflated 76%)\n",
            "  adding: 2019-Dec-4.csv (deflated 76%)\n",
            "  adding: 2019-Dec-50.csv (deflated 76%)\n",
            "  adding: 2019-Dec-51.csv (deflated 76%)\n",
            "  adding: 2019-Dec-52.csv (deflated 76%)\n",
            "  adding: 2019-Dec-53.csv (deflated 76%)\n",
            "  adding: 2019-Dec-54.csv (deflated 76%)\n",
            "  adding: 2019-Dec-55.csv (deflated 76%)\n",
            "  adding: 2019-Dec-56.csv (deflated 76%)\n",
            "  adding: 2019-Dec-57.csv (deflated 77%)\n",
            "  adding: 2019-Dec-58.csv (deflated 76%)\n",
            "  adding: 2019-Dec-59.csv (deflated 77%)\n",
            "  adding: 2019-Dec-5.csv (deflated 76%)\n",
            "  adding: 2019-Dec-60.csv (deflated 76%)\n",
            "  adding: 2019-Dec-61.csv (deflated 77%)\n",
            "  adding: 2019-Dec-62.csv (deflated 77%)\n",
            "  adding: 2019-Dec-63.csv (deflated 76%)\n",
            "  adding: 2019-Dec-64.csv (deflated 77%)\n",
            "  adding: 2019-Dec-65.csv (deflated 77%)\n",
            "  adding: 2019-Dec-66.csv (deflated 77%)\n",
            "  adding: 2019-Dec-67.csv (deflated 78%)\n",
            "  adding: 2019-Dec-6.csv (deflated 76%)\n",
            "  adding: 2019-Dec-7.csv (deflated 76%)\n",
            "  adding: 2019-Dec-8.csv (deflated 76%)\n",
            "  adding: 2019-Dec-9.csv (deflated 76%)\n",
            "  adding: 2019-Nov-0.csv (deflated 77%)\n",
            "  adding: 2019-Nov-10.csv (deflated 77%)\n",
            "  adding: 2019-Nov-11.csv (deflated 76%)\n",
            "  adding: 2019-Nov-12.csv (deflated 76%)\n",
            "  adding: 2019-Nov-13.csv (deflated 75%)\n",
            "  adding: 2019-Nov-14.csv (deflated 76%)\n",
            "  adding: 2019-Nov-15.csv (deflated 75%)\n",
            "  adding: 2019-Nov-16.csv (deflated 76%)\n",
            "  adding: 2019-Nov-17.csv (deflated 75%)\n",
            "  adding: 2019-Nov-18.csv (deflated 76%)\n",
            "  adding: 2019-Nov-19.csv (deflated 75%)\n",
            "  adding: 2019-Nov-1.csv (deflated 77%)\n",
            "  adding: 2019-Nov-20.csv (deflated 76%)\n",
            "  adding: 2019-Nov-21.csv (deflated 75%)\n",
            "  adding: 2019-Nov-22.csv (deflated 76%)\n",
            "  adding: 2019-Nov-23.csv (deflated 75%)\n",
            "  adding: 2019-Nov-24.csv (deflated 76%)\n",
            "  adding: 2019-Nov-25.csv (deflated 78%)\n",
            "  adding: 2019-Nov-26.csv (deflated 76%)\n",
            "  adding: 2019-Nov-27.csv (deflated 76%)\n",
            "  adding: 2019-Nov-28.csv (deflated 76%)\n",
            "  adding: 2019-Nov-29.csv (deflated 77%)\n",
            "  adding: 2019-Nov-2.csv (deflated 78%)\n",
            "  adding: 2019-Nov-30.csv (deflated 77%)\n",
            "  adding: 2019-Nov-31.csv (deflated 76%)\n",
            "  adding: 2019-Nov-32.csv (deflated 77%)\n",
            "  adding: 2019-Nov-33.csv (deflated 77%)\n",
            "  adding: 2019-Nov-34.csv (deflated 76%)\n",
            "  adding: 2019-Nov-35.csv (deflated 75%)\n",
            "  adding: 2019-Nov-36.csv (deflated 75%)\n",
            "  adding: 2019-Nov-37.csv (deflated 77%)\n",
            "  adding: 2019-Nov-38.csv (deflated 76%)\n",
            "  adding: 2019-Nov-39.csv (deflated 76%)\n",
            "  adding: 2019-Nov-3.csv (deflated 77%)\n",
            "  adding: 2019-Nov-40.csv (deflated 75%)\n",
            "  adding: 2019-Nov-41.csv (deflated 75%)\n",
            "  adding: 2019-Nov-42.csv (deflated 75%)\n",
            "  adding: 2019-Nov-43.csv (deflated 75%)\n",
            "  adding: 2019-Nov-44.csv (deflated 75%)\n",
            "  adding: 2019-Nov-45.csv (deflated 76%)\n",
            "  adding: 2019-Nov-46.csv (deflated 76%)\n",
            "  adding: 2019-Nov-47.csv (deflated 75%)\n",
            "  adding: 2019-Nov-48.csv (deflated 76%)\n",
            "  adding: 2019-Nov-49.csv (deflated 75%)\n",
            "  adding: 2019-Nov-4.csv (deflated 77%)\n",
            "  adding: 2019-Nov-50.csv (deflated 76%)\n",
            "  adding: 2019-Nov-51.csv (deflated 76%)\n",
            "  adding: 2019-Nov-52.csv (deflated 76%)\n",
            "  adding: 2019-Nov-53.csv (deflated 76%)\n",
            "  adding: 2019-Nov-54.csv (deflated 76%)\n",
            "  adding: 2019-Nov-55.csv (deflated 76%)\n",
            "  adding: 2019-Nov-56.csv (deflated 76%)\n",
            "  adding: 2019-Nov-57.csv (deflated 75%)\n",
            "  adding: 2019-Nov-58.csv (deflated 76%)\n",
            "  adding: 2019-Nov-59.csv (deflated 76%)\n",
            "  adding: 2019-Nov-5.csv (deflated 78%)\n",
            "  adding: 2019-Nov-60.csv (deflated 76%)\n",
            "  adding: 2019-Nov-61.csv (deflated 76%)\n",
            "  adding: 2019-Nov-62.csv (deflated 76%)\n",
            "  adding: 2019-Nov-63.csv (deflated 76%)\n",
            "  adding: 2019-Nov-64.csv (deflated 76%)\n",
            "  adding: 2019-Nov-65.csv (deflated 76%)\n",
            "  adding: 2019-Nov-66.csv (deflated 76%)\n",
            "  adding: 2019-Nov-67.csv (deflated 76%)\n",
            "  adding: 2019-Nov-6.csv (deflated 77%)\n",
            "  adding: 2019-Nov-7.csv (deflated 77%)\n",
            "  adding: 2019-Nov-8.csv (deflated 77%)\n",
            "  adding: 2019-Nov-9.csv (deflated 77%)\n",
            "  adding: 2019-Oct-0.csv (deflated 78%)\n",
            "  adding: 2019-Oct-10.csv (deflated 78%)\n",
            "  adding: 2019-Oct-11.csv (deflated 78%)\n",
            "  adding: 2019-Oct-12.csv (deflated 78%)\n",
            "  adding: 2019-Oct-13.csv (deflated 78%)\n",
            "  adding: 2019-Oct-14.csv (deflated 78%)\n",
            "  adding: 2019-Oct-15.csv (deflated 78%)\n",
            "  adding: 2019-Oct-16.csv (deflated 78%)\n",
            "  adding: 2019-Oct-17.csv (deflated 77%)\n",
            "  adding: 2019-Oct-18.csv (deflated 77%)\n",
            "  adding: 2019-Oct-19.csv (deflated 78%)\n",
            "  adding: 2019-Oct-1.csv (deflated 78%)\n",
            "  adding: 2019-Oct-20.csv (deflated 77%)\n",
            "  adding: 2019-Oct-21.csv (deflated 77%)\n",
            "  adding: 2019-Oct-22.csv (deflated 77%)\n",
            "  adding: 2019-Oct-23.csv (deflated 77%)\n",
            "  adding: 2019-Oct-24.csv (deflated 77%)\n",
            "  adding: 2019-Oct-25.csv (deflated 77%)\n",
            "  adding: 2019-Oct-26.csv (deflated 77%)\n",
            "  adding: 2019-Oct-27.csv (deflated 77%)\n",
            "  adding: 2019-Oct-28.csv (deflated 77%)\n",
            "  adding: 2019-Oct-29.csv (deflated 77%)\n",
            "  adding: 2019-Oct-2.csv (deflated 78%)\n",
            "  adding: 2019-Oct-30.csv (deflated 77%)\n",
            "  adding: 2019-Oct-31.csv (deflated 77%)\n",
            "  adding: 2019-Oct-32.csv (deflated 77%)\n",
            "  adding: 2019-Oct-33.csv (deflated 77%)\n",
            "  adding: 2019-Oct-34.csv (deflated 77%)\n",
            "  adding: 2019-Oct-35.csv (deflated 77%)\n",
            "  adding: 2019-Oct-36.csv (deflated 77%)\n",
            "  adding: 2019-Oct-37.csv (deflated 77%)\n",
            "  adding: 2019-Oct-38.csv (deflated 78%)\n",
            "  adding: 2019-Oct-39.csv (deflated 78%)\n",
            "  adding: 2019-Oct-3.csv (deflated 78%)\n",
            "  adding: 2019-Oct-40.csv (deflated 77%)\n",
            "  adding: 2019-Oct-41.csv (deflated 77%)\n",
            "  adding: 2019-Oct-42.csv (deflated 77%)\n",
            "  adding: 2019-Oct-4.csv (deflated 78%)\n",
            "  adding: 2019-Oct-5.csv (deflated 78%)\n",
            "  adding: 2019-Oct-6.csv (deflated 78%)\n",
            "  adding: 2019-Oct-7.csv (deflated 78%)\n",
            "  adding: 2019-Oct-8.csv (deflated 78%)\n",
            "  adding: 2019-Oct-9.csv (deflated 78%)\n",
            "  adding: 2020-Apr-0.csv (deflated 77%)\n",
            "  adding: 2020-Apr-10.csv (deflated 78%)\n",
            "  adding: 2020-Apr-11.csv (deflated 77%)\n",
            "  adding: 2020-Apr-12.csv (deflated 77%)\n",
            "  adding: 2020-Apr-13.csv (deflated 77%)\n",
            "  adding: 2020-Apr-14.csv (deflated 77%)\n",
            "  adding: 2020-Apr-15.csv (deflated 77%)\n",
            "  adding: 2020-Apr-16.csv (deflated 77%)\n",
            "  adding: 2020-Apr-17.csv (deflated 77%)\n",
            "  adding: 2020-Apr-18.csv (deflated 77%)\n",
            "  adding: 2020-Apr-19.csv (deflated 77%)\n",
            "  adding: 2020-Apr-1.csv (deflated 77%)\n",
            "  adding: 2020-Apr-20.csv (deflated 77%)\n",
            "  adding: 2020-Apr-21.csv (deflated 77%)\n",
            "  adding: 2020-Apr-22.csv (deflated 78%)\n",
            "  adding: 2020-Apr-23.csv (deflated 77%)\n",
            "  adding: 2020-Apr-24.csv (deflated 77%)\n",
            "  adding: 2020-Apr-25.csv (deflated 77%)\n",
            "  adding: 2020-Apr-26.csv (deflated 77%)\n",
            "  adding: 2020-Apr-27.csv (deflated 76%)\n",
            "  adding: 2020-Apr-28.csv (deflated 77%)\n",
            "  adding: 2020-Apr-29.csv (deflated 77%)\n",
            "  adding: 2020-Apr-2.csv (deflated 77%)\n",
            "  adding: 2020-Apr-30.csv (deflated 76%)\n",
            "  adding: 2020-Apr-31.csv (deflated 76%)\n",
            "  adding: 2020-Apr-32.csv (deflated 77%)\n",
            "  adding: 2020-Apr-33.csv (deflated 77%)\n",
            "  adding: 2020-Apr-34.csv (deflated 77%)\n",
            "  adding: 2020-Apr-35.csv (deflated 77%)\n",
            "  adding: 2020-Apr-36.csv (deflated 77%)\n",
            "  adding: 2020-Apr-37.csv (deflated 77%)\n",
            "  adding: 2020-Apr-38.csv (deflated 76%)\n",
            "  adding: 2020-Apr-39.csv (deflated 76%)\n",
            "  adding: 2020-Apr-3.csv (deflated 77%)\n",
            "  adding: 2020-Apr-40.csv (deflated 76%)\n",
            "  adding: 2020-Apr-41.csv (deflated 76%)\n",
            "  adding: 2020-Apr-42.csv (deflated 76%)\n",
            "  adding: 2020-Apr-43.csv (deflated 75%)\n",
            "  adding: 2020-Apr-44.csv (deflated 75%)\n",
            "  adding: 2020-Apr-45.csv (deflated 75%)\n",
            "  adding: 2020-Apr-46.csv (deflated 75%)\n",
            "  adding: 2020-Apr-47.csv (deflated 75%)\n",
            "  adding: 2020-Apr-48.csv (deflated 75%)\n",
            "  adding: 2020-Apr-49.csv (deflated 75%)\n",
            "  adding: 2020-Apr-4.csv (deflated 77%)\n",
            "  adding: 2020-Apr-50.csv (deflated 75%)\n",
            "  adding: 2020-Apr-51.csv (deflated 75%)\n",
            "  adding: 2020-Apr-52.csv (deflated 75%)\n",
            "  adding: 2020-Apr-53.csv (deflated 75%)\n",
            "  adding: 2020-Apr-54.csv (deflated 75%)\n",
            "  adding: 2020-Apr-55.csv (deflated 75%)\n",
            "  adding: 2020-Apr-56.csv (deflated 75%)\n",
            "  adding: 2020-Apr-57.csv (deflated 75%)\n",
            "  adding: 2020-Apr-58.csv (deflated 75%)\n",
            "  adding: 2020-Apr-59.csv (deflated 75%)\n",
            "  adding: 2020-Apr-5.csv (deflated 77%)\n",
            "  adding: 2020-Apr-60.csv (deflated 75%)\n",
            "  adding: 2020-Apr-61.csv (deflated 75%)\n",
            "  adding: 2020-Apr-62.csv (deflated 75%)\n",
            "  adding: 2020-Apr-63.csv (deflated 75%)\n",
            "  adding: 2020-Apr-64.csv (deflated 75%)\n",
            "  adding: 2020-Apr-65.csv (deflated 75%)\n",
            "  adding: 2020-Apr-66.csv (deflated 75%)\n",
            "  adding: 2020-Apr-6.csv (deflated 77%)\n",
            "  adding: 2020-Apr-7.csv (deflated 77%)\n",
            "  adding: 2020-Apr-8.csv (deflated 77%)\n",
            "  adding: 2020-Apr-9.csv (deflated 77%)\n",
            "  adding: 2020-Feb-0.csv (deflated 78%)\n",
            "  adding: 2020-Feb-10.csv (deflated 77%)\n",
            "  adding: 2020-Feb-11.csv (deflated 77%)\n",
            "  adding: 2020-Feb-12.csv (deflated 78%)\n",
            "  adding: 2020-Feb-13.csv (deflated 77%)\n",
            "  adding: 2020-Feb-14.csv (deflated 78%)\n",
            "  adding: 2020-Feb-15.csv (deflated 77%)\n",
            "  adding: 2020-Feb-16.csv (deflated 78%)\n",
            "  adding: 2020-Feb-17.csv (deflated 80%)\n",
            "  adding: 2020-Feb-18.csv (deflated 82%)\n",
            "  adding: 2020-Feb-19.csv (deflated 82%)\n",
            "  adding: 2020-Feb-1.csv (deflated 79%)\n",
            "  adding: 2020-Feb-20.csv (deflated 82%)\n",
            "  adding: 2020-Feb-21.csv (deflated 82%)\n",
            "  adding: 2020-Feb-22.csv (deflated 82%)\n",
            "  adding: 2020-Feb-23.csv (deflated 82%)\n",
            "  adding: 2020-Feb-24.csv (deflated 82%)\n",
            "  adding: 2020-Feb-25.csv (deflated 82%)\n",
            "  adding: 2020-Feb-26.csv (deflated 82%)\n",
            "  adding: 2020-Feb-27.csv (deflated 82%)\n",
            "  adding: 2020-Feb-28.csv (deflated 82%)\n",
            "  adding: 2020-Feb-29.csv (deflated 84%)\n",
            "  adding: 2020-Feb-2.csv (deflated 78%)\n",
            "  adding: 2020-Feb-30.csv (deflated 82%)\n",
            "  adding: 2020-Feb-31.csv (deflated 82%)\n",
            "  adding: 2020-Feb-32.csv (deflated 82%)\n",
            "  adding: 2020-Feb-33.csv (deflated 82%)\n",
            "  adding: 2020-Feb-34.csv (deflated 82%)\n",
            "  adding: 2020-Feb-35.csv (deflated 79%)\n",
            "  adding: 2020-Feb-36.csv (deflated 77%)\n",
            "  adding: 2020-Feb-37.csv (deflated 77%)\n",
            "  adding: 2020-Feb-38.csv (deflated 77%)\n",
            "  adding: 2020-Feb-39.csv (deflated 77%)\n",
            "  adding: 2020-Feb-3.csv (deflated 78%)\n",
            "  adding: 2020-Feb-40.csv (deflated 77%)\n",
            "  adding: 2020-Feb-41.csv (deflated 77%)\n",
            "  adding: 2020-Feb-42.csv (deflated 77%)\n",
            "  adding: 2020-Feb-43.csv (deflated 77%)\n",
            "  adding: 2020-Feb-44.csv (deflated 77%)\n",
            "  adding: 2020-Feb-45.csv (deflated 77%)\n",
            "  adding: 2020-Feb-46.csv (deflated 77%)\n",
            "  adding: 2020-Feb-47.csv (deflated 77%)\n",
            "  adding: 2020-Feb-48.csv (deflated 77%)\n",
            "  adding: 2020-Feb-49.csv (deflated 77%)\n",
            "  adding: 2020-Feb-4.csv (deflated 78%)\n",
            "  adding: 2020-Feb-50.csv (deflated 77%)\n",
            "  adding: 2020-Feb-51.csv (deflated 76%)\n",
            "  adding: 2020-Feb-52.csv (deflated 77%)\n",
            "  adding: 2020-Feb-53.csv (deflated 77%)\n",
            "  adding: 2020-Feb-54.csv (deflated 77%)\n",
            "  adding: 2020-Feb-55.csv (deflated 77%)\n",
            "  adding: 2020-Feb-5.csv (deflated 78%)\n",
            "  adding: 2020-Feb-6.csv (deflated 78%)\n",
            "  adding: 2020-Feb-7.csv (deflated 78%)\n",
            "  adding: 2020-Feb-8.csv (deflated 78%)\n",
            "  adding: 2020-Feb-9.csv (deflated 78%)\n",
            "  adding: 2020-Jan-0.csv (deflated 78%)\n",
            "  adding: 2020-Jan-10.csv (deflated 76%)\n",
            "  adding: 2020-Jan-11.csv (deflated 76%)\n",
            "  adding: 2020-Jan-12.csv (deflated 76%)\n",
            "  adding: 2020-Jan-13.csv (deflated 76%)\n",
            "  adding: 2020-Jan-14.csv (deflated 76%)\n",
            "  adding: 2020-Jan-15.csv (deflated 76%)\n",
            "  adding: 2020-Jan-16.csv (deflated 76%)\n",
            "  adding: 2020-Jan-17.csv (deflated 76%)\n",
            "  adding: 2020-Jan-18.csv (deflated 77%)\n",
            "  adding: 2020-Jan-19.csv (deflated 76%)\n",
            "  adding: 2020-Jan-1.csv (deflated 78%)\n",
            "  adding: 2020-Jan-20.csv (deflated 76%)\n",
            "  adding: 2020-Jan-21.csv (deflated 76%)\n",
            "  adding: 2020-Jan-22.csv (deflated 76%)\n",
            "  adding: 2020-Jan-23.csv (deflated 76%)\n",
            "  adding: 2020-Jan-24.csv (deflated 76%)\n",
            "  adding: 2020-Jan-25.csv (deflated 76%)\n",
            "  adding: 2020-Jan-26.csv (deflated 76%)\n",
            "  adding: 2020-Jan-27.csv (deflated 77%)\n",
            "  adding: 2020-Jan-28.csv (deflated 77%)\n",
            "  adding: 2020-Jan-29.csv (deflated 77%)\n",
            "  adding: 2020-Jan-2.csv (deflated 79%)\n",
            "  adding: 2020-Jan-30.csv (deflated 77%)\n",
            "  adding: 2020-Jan-31.csv (deflated 77%)\n",
            "  adding: 2020-Jan-32.csv (deflated 77%)\n",
            "  adding: 2020-Jan-33.csv (deflated 77%)\n",
            "  adding: 2020-Jan-34.csv (deflated 77%)\n",
            "  adding: 2020-Jan-35.csv (deflated 77%)\n",
            "  adding: 2020-Jan-36.csv (deflated 77%)\n",
            "  adding: 2020-Jan-37.csv (deflated 77%)\n",
            "  adding: 2020-Jan-38.csv (deflated 77%)\n",
            "  adding: 2020-Jan-39.csv (deflated 77%)\n",
            "  adding: 2020-Jan-3.csv (deflated 78%)\n",
            "  adding: 2020-Jan-40.csv (deflated 77%)\n",
            "  adding: 2020-Jan-41.csv (deflated 76%)\n",
            "  adding: 2020-Jan-42.csv (deflated 76%)\n",
            "  adding: 2020-Jan-43.csv (deflated 76%)\n",
            "  adding: 2020-Jan-44.csv (deflated 76%)\n",
            "  adding: 2020-Jan-45.csv (deflated 76%)\n",
            "  adding: 2020-Jan-46.csv (deflated 76%)\n",
            "  adding: 2020-Jan-47.csv (deflated 76%)\n",
            "  adding: 2020-Jan-48.csv (deflated 76%)\n",
            "  adding: 2020-Jan-49.csv (deflated 77%)\n",
            "  adding: 2020-Jan-4.csv (deflated 77%)\n",
            "  adding: 2020-Jan-50.csv (deflated 76%)\n",
            "  adding: 2020-Jan-51.csv (deflated 76%)\n",
            "  adding: 2020-Jan-52.csv (deflated 78%)\n",
            "  adding: 2020-Jan-53.csv (deflated 80%)\n",
            "  adding: 2020-Jan-54.csv (deflated 79%)\n",
            "  adding: 2020-Jan-55.csv (deflated 79%)\n",
            "  adding: 2020-Jan-5.csv (deflated 76%)\n",
            "  adding: 2020-Jan-6.csv (deflated 76%)\n",
            "  adding: 2020-Jan-7.csv (deflated 76%)\n",
            "  adding: 2020-Jan-8.csv (deflated 76%)\n",
            "  adding: 2020-Jan-9.csv (deflated 76%)\n",
            "  adding: 2020-Mar-0.csv (deflated 77%)\n",
            "  adding: 2020-Mar-10.csv (deflated 76%)\n",
            "  adding: 2020-Mar-11.csv (deflated 76%)\n",
            "  adding: 2020-Mar-12.csv (deflated 76%)\n",
            "  adding: 2020-Mar-13.csv (deflated 77%)\n",
            "  adding: 2020-Mar-14.csv (deflated 77%)\n",
            "  adding: 2020-Mar-15.csv (deflated 77%)\n",
            "  adding: 2020-Mar-16.csv (deflated 77%)\n",
            "  adding: 2020-Mar-17.csv (deflated 77%)\n",
            "  adding: 2020-Mar-18.csv (deflated 77%)\n",
            "  adding: 2020-Mar-19.csv (deflated 77%)\n",
            "  adding: 2020-Mar-1.csv (deflated 77%)\n",
            "  adding: 2020-Mar-20.csv (deflated 76%)\n",
            "  adding: 2020-Mar-21.csv (deflated 77%)\n",
            "  adding: 2020-Mar-22.csv (deflated 76%)\n",
            "  adding: 2020-Mar-23.csv (deflated 77%)\n",
            "  adding: 2020-Mar-24.csv (deflated 76%)\n",
            "  adding: 2020-Mar-25.csv (deflated 76%)\n",
            "  adding: 2020-Mar-26.csv (deflated 76%)\n",
            "  adding: 2020-Mar-27.csv (deflated 77%)\n",
            "  adding: 2020-Mar-28.csv (deflated 76%)\n",
            "  adding: 2020-Mar-29.csv (deflated 76%)\n",
            "  adding: 2020-Mar-2.csv (deflated 77%)\n",
            "  adding: 2020-Mar-30.csv (deflated 76%)\n",
            "  adding: 2020-Mar-31.csv (deflated 76%)\n",
            "  adding: 2020-Mar-32.csv (deflated 76%)\n",
            "  adding: 2020-Mar-33.csv (deflated 76%)\n",
            "  adding: 2020-Mar-34.csv (deflated 77%)\n",
            "  adding: 2020-Mar-35.csv (deflated 76%)\n",
            "  adding: 2020-Mar-36.csv (deflated 76%)\n",
            "  adding: 2020-Mar-37.csv (deflated 76%)\n",
            "  adding: 2020-Mar-38.csv (deflated 77%)\n",
            "  adding: 2020-Mar-39.csv (deflated 76%)\n",
            "  adding: 2020-Mar-3.csv (deflated 77%)\n",
            "  adding: 2020-Mar-40.csv (deflated 76%)\n",
            "  adding: 2020-Mar-41.csv (deflated 77%)\n",
            "  adding: 2020-Mar-42.csv (deflated 77%)\n",
            "  adding: 2020-Mar-43.csv (deflated 76%)\n",
            "  adding: 2020-Mar-44.csv (deflated 77%)\n",
            "  adding: 2020-Mar-45.csv (deflated 77%)\n",
            "  adding: 2020-Mar-46.csv (deflated 77%)\n",
            "  adding: 2020-Mar-47.csv (deflated 77%)\n",
            "  adding: 2020-Mar-48.csv (deflated 77%)\n",
            "  adding: 2020-Mar-49.csv (deflated 77%)\n",
            "  adding: 2020-Mar-4.csv (deflated 76%)\n",
            "  adding: 2020-Mar-50.csv (deflated 77%)\n",
            "  adding: 2020-Mar-51.csv (deflated 77%)\n",
            "  adding: 2020-Mar-52.csv (deflated 77%)\n",
            "  adding: 2020-Mar-53.csv (deflated 77%)\n",
            "  adding: 2020-Mar-54.csv (deflated 77%)\n",
            "  adding: 2020-Mar-55.csv (deflated 77%)\n",
            "  adding: 2020-Mar-56.csv (deflated 77%)\n",
            "  adding: 2020-Mar-5.csv (deflated 76%)\n",
            "  adding: 2020-Mar-6.csv (deflated 77%)\n",
            "  adding: 2020-Mar-7.csv (deflated 76%)\n",
            "  adding: 2020-Mar-8.csv (deflated 76%)\n",
            "  adding: 2020-Mar-9.csv (deflated 76%)\n"
          ],
          "name": "stdout"
        }
      ]
    },
    {
      "cell_type": "code",
      "metadata": {
        "id": "vYCsnvmgrpAW"
      },
      "source": [
        "!cp data_silver.zip /content/drive/MyDrive/Recommendation"
      ],
      "execution_count": 32,
      "outputs": []
    },
    {
      "cell_type": "code",
      "metadata": {
        "id": "S4FtC2JHOzpY"
      },
      "source": [
        "lp = []\n",
        "for file in list_chunks:\n",
        "  lp.append(pd.read_csv(file))"
      ],
      "execution_count": 4,
      "outputs": []
    },
    {
      "cell_type": "code",
      "metadata": {
        "colab": {
          "base_uri": "https://localhost:8080/"
        },
        "id": "7Bc_EWETuEcP",
        "outputId": "91a58438-9285-4773-d175-bad2a70d7b72"
      },
      "source": [
        "df = pd.concat(lp)\n",
        "df.shape"
      ],
      "execution_count": 5,
      "outputs": [
        {
          "output_type": "execute_result",
          "data": {
            "text/plain": [
              "(16742775, 16)"
            ]
          },
          "metadata": {
            "tags": []
          },
          "execution_count": 5
        }
      ]
    },
    {
      "cell_type": "code",
      "metadata": {
        "colab": {
          "base_uri": "https://localhost:8080/",
          "height": 462
        },
        "id": "mDU1BYyisccz",
        "outputId": "a4d2c045-1b99-47d9-ac46-d93e732e8525"
      },
      "source": [
        "df.head()"
      ],
      "execution_count": 35,
      "outputs": [
        {
          "output_type": "execute_result",
          "data": {
            "text/html": [
              "<div>\n",
              "<style scoped>\n",
              "    .dataframe tbody tr th:only-of-type {\n",
              "        vertical-align: middle;\n",
              "    }\n",
              "\n",
              "    .dataframe tbody tr th {\n",
              "        vertical-align: top;\n",
              "    }\n",
              "\n",
              "    .dataframe thead th {\n",
              "        text-align: right;\n",
              "    }\n",
              "</style>\n",
              "<table border=\"1\" class=\"dataframe\">\n",
              "  <thead>\n",
              "    <tr style=\"text-align: right;\">\n",
              "      <th></th>\n",
              "      <th>event_time</th>\n",
              "      <th>event_type</th>\n",
              "      <th>product_id</th>\n",
              "      <th>category_code</th>\n",
              "      <th>brand</th>\n",
              "      <th>price</th>\n",
              "      <th>user_id</th>\n",
              "      <th>user_session</th>\n",
              "      <th>target</th>\n",
              "      <th>timestamp</th>\n",
              "      <th>ts_hour</th>\n",
              "      <th>ts_minute</th>\n",
              "      <th>ts_weekday</th>\n",
              "      <th>ts_day</th>\n",
              "      <th>ts_month</th>\n",
              "      <th>ts_year</th>\n",
              "    </tr>\n",
              "  </thead>\n",
              "  <tbody>\n",
              "    <tr>\n",
              "      <th>0</th>\n",
              "      <td>2020-01-23 04:32:33 UTC</td>\n",
              "      <td>cart</td>\n",
              "      <td>100039953</td>\n",
              "      <td>appliances.personal.massager</td>\n",
              "      <td>kivi</td>\n",
              "      <td>267.44</td>\n",
              "      <td>512913139</td>\n",
              "      <td>9bebab16-bce8-43cd-ac97-f763ee4664dd</td>\n",
              "      <td>0</td>\n",
              "      <td>2020-01-23 04:32:33</td>\n",
              "      <td>4</td>\n",
              "      <td>32</td>\n",
              "      <td>3</td>\n",
              "      <td>23</td>\n",
              "      <td>1</td>\n",
              "      <td>2020</td>\n",
              "    </tr>\n",
              "    <tr>\n",
              "      <th>1</th>\n",
              "      <td>2020-01-23 04:32:36 UTC</td>\n",
              "      <td>cart</td>\n",
              "      <td>1004767</td>\n",
              "      <td>construction.tools.light</td>\n",
              "      <td>samsung</td>\n",
              "      <td>226.27</td>\n",
              "      <td>549154456</td>\n",
              "      <td>659387e4-032e-4e71-8b0b-3b90f0538f14</td>\n",
              "      <td>0</td>\n",
              "      <td>2020-01-23 04:32:36</td>\n",
              "      <td>4</td>\n",
              "      <td>32</td>\n",
              "      <td>3</td>\n",
              "      <td>23</td>\n",
              "      <td>1</td>\n",
              "      <td>2020</td>\n",
              "    </tr>\n",
              "    <tr>\n",
              "      <th>2</th>\n",
              "      <td>2020-01-23 04:32:38 UTC</td>\n",
              "      <td>cart</td>\n",
              "      <td>1003306</td>\n",
              "      <td>construction.tools.light</td>\n",
              "      <td>apple</td>\n",
              "      <td>614.79</td>\n",
              "      <td>585624798</td>\n",
              "      <td>41a24f4f-afb8-4342-ae6f-003aa968f82f</td>\n",
              "      <td>0</td>\n",
              "      <td>2020-01-23 04:32:38</td>\n",
              "      <td>4</td>\n",
              "      <td>32</td>\n",
              "      <td>3</td>\n",
              "      <td>23</td>\n",
              "      <td>1</td>\n",
              "      <td>2020</td>\n",
              "    </tr>\n",
              "    <tr>\n",
              "      <th>3</th>\n",
              "      <td>2020-01-23 04:32:38 UTC</td>\n",
              "      <td>cart</td>\n",
              "      <td>4804055</td>\n",
              "      <td>sport.bicycle</td>\n",
              "      <td>apple</td>\n",
              "      <td>192.07</td>\n",
              "      <td>525860806</td>\n",
              "      <td>70b5ed9a-4395-481e-9f91-d811ced8a4c3</td>\n",
              "      <td>0</td>\n",
              "      <td>2020-01-23 04:32:38</td>\n",
              "      <td>4</td>\n",
              "      <td>32</td>\n",
              "      <td>3</td>\n",
              "      <td>23</td>\n",
              "      <td>1</td>\n",
              "      <td>2020</td>\n",
              "    </tr>\n",
              "    <tr>\n",
              "      <th>4</th>\n",
              "      <td>2020-01-23 04:32:43 UTC</td>\n",
              "      <td>cart</td>\n",
              "      <td>1005100</td>\n",
              "      <td>construction.tools.light</td>\n",
              "      <td>samsung</td>\n",
              "      <td>141.06</td>\n",
              "      <td>599724791</td>\n",
              "      <td>bc35693d-9c73-457f-a7ef-8ced2f0bb729</td>\n",
              "      <td>0</td>\n",
              "      <td>2020-01-23 04:32:43</td>\n",
              "      <td>4</td>\n",
              "      <td>32</td>\n",
              "      <td>3</td>\n",
              "      <td>23</td>\n",
              "      <td>1</td>\n",
              "      <td>2020</td>\n",
              "    </tr>\n",
              "  </tbody>\n",
              "</table>\n",
              "</div>"
            ],
            "text/plain": [
              "                event_time event_type  product_id  ... ts_day ts_month  ts_year\n",
              "0  2020-01-23 04:32:33 UTC       cart   100039953  ...     23        1     2020\n",
              "1  2020-01-23 04:32:36 UTC       cart     1004767  ...     23        1     2020\n",
              "2  2020-01-23 04:32:38 UTC       cart     1003306  ...     23        1     2020\n",
              "3  2020-01-23 04:32:38 UTC       cart     4804055  ...     23        1     2020\n",
              "4  2020-01-23 04:32:43 UTC       cart     1005100  ...     23        1     2020\n",
              "\n",
              "[5 rows x 16 columns]"
            ]
          },
          "metadata": {
            "tags": []
          },
          "execution_count": 35
        }
      ]
    },
    {
      "cell_type": "code",
      "metadata": {
        "id": "lMDUiiz7sarl"
      },
      "source": [
        "# df2 = df['category_code'].str.split(\"\\.\", n=3, expand=True).fillna('NA')\n",
        "# df2.columns = ['cat_{}'.format(x+1) for x in df2.columns]\n",
        "# df2.to_parquet('/content/data/silver_l2/df_cat.parquet', index=False)"
      ],
      "execution_count": 2,
      "outputs": []
    },
    {
      "cell_type": "code",
      "metadata": {
        "id": "YFkf_K_jPEGS"
      },
      "source": [
        "df_test = df[df['ts_month']==4]\n",
        "df_valid = df[df['ts_month']==3]\n",
        "df_train = df[(df['ts_month']!=3)&(df['ts_month']!=4)]"
      ],
      "execution_count": 6,
      "outputs": []
    },
    {
      "cell_type": "code",
      "metadata": {
        "colab": {
          "base_uri": "https://localhost:8080/"
        },
        "id": "OXVudXP-yIJG",
        "outputId": "14323bda-293f-4d13-e202-5b9f0b4779e4"
      },
      "source": [
        "df_train.shape, df_valid.shape, df_test.shape"
      ],
      "execution_count": 7,
      "outputs": [
        {
          "output_type": "execute_result",
          "data": {
            "text/plain": [
              "((11495245, 16), (2466048, 16), (2781482, 16))"
            ]
          },
          "metadata": {
            "tags": []
          },
          "execution_count": 7
        }
      ]
    },
    {
      "cell_type": "code",
      "metadata": {
        "id": "KBEAURWbxtBa"
      },
      "source": [
        "!mkdir -p /content/data/silver_l2\n",
        "df_train.to_parquet('/content/data/silver_l2/train.parquet', index=False)\n",
        "df_valid.to_parquet('/content/data/silver_l2/valid.parquet', index=False)\n",
        "df_test.to_parquet('/content/data/silver_l2/test.parquet', index=False)"
      ],
      "execution_count": 8,
      "outputs": []
    },
    {
      "cell_type": "markdown",
      "metadata": {
        "id": "Q8E5moaL3pb6"
      },
      "source": [
        "### Data load"
      ]
    },
    {
      "cell_type": "code",
      "metadata": {
        "colab": {
          "base_uri": "https://localhost:8080/"
        },
        "id": "pN-Foz-x2-uO",
        "outputId": "b2e3eed1-23fa-4b3c-ce21-09c3337e0d21"
      },
      "source": [
        "!cd /content/data/silver_l2 && zip /content/data_silver_l2.zip ./*.parquet\n",
        "!cp /content/data_silver_l2.zip /content/drive/MyDrive/Recommendation"
      ],
      "execution_count": 9,
      "outputs": [
        {
          "output_type": "stream",
          "text": [
            "  adding: test.parquet (deflated 24%)\n",
            "  adding: train.parquet (deflated 25%)\n",
            "  adding: valid.parquet (deflated 24%)\n"
          ],
          "name": "stdout"
        }
      ]
    },
    {
      "cell_type": "code",
      "metadata": {
        "colab": {
          "base_uri": "https://localhost:8080/"
        },
        "id": "t5g5KwR66gTi",
        "outputId": "784bda5b-5cb6-49fd-9afa-ded102c66b9e"
      },
      "source": [
        "import pandas as pd\n",
        "\n",
        "df_train = pd.read_parquet('/content/data/silver_l2/train.parquet')\n",
        "df_valid = pd.read_parquet('/content/data/silver_l2/valid.parquet')\n",
        "df_test = pd.read_parquet('/content/data/silver_l2/test.parquet')\n",
        "\n",
        "df = pd.concat([df_train, df_valid, df_test],ignore_index=True)\n",
        "\n",
        "df.shape"
      ],
      "execution_count": 1,
      "outputs": [
        {
          "output_type": "execute_result",
          "data": {
            "text/plain": [
              "(16742775, 16)"
            ]
          },
          "metadata": {
            "tags": []
          },
          "execution_count": 1
        }
      ]
    },
    {
      "cell_type": "markdown",
      "metadata": {
        "id": "tcmIcf3s3sZo"
      },
      "source": [
        "### EDA"
      ]
    },
    {
      "cell_type": "code",
      "metadata": {
        "id": "L_qjZpHn5izl"
      },
      "source": [
        "import IPython\n",
        "\n",
        "import pandas as pd\n",
        "import matplotlib.pyplot as plt\n",
        "\n",
        "import warnings\n",
        "warnings.filterwarnings(\"ignore\")\n",
        "\n",
        "%matplotlib inline"
      ],
      "execution_count": 2,
      "outputs": []
    },
    {
      "cell_type": "code",
      "metadata": {
        "colab": {
          "base_uri": "https://localhost:8080/"
        },
        "id": "H16gdtbZ3aMb",
        "outputId": "6c4c7561-2041-43c2-876d-3e152f0a880d"
      },
      "source": [
        "df.dtypes"
      ],
      "execution_count": 3,
      "outputs": [
        {
          "output_type": "execute_result",
          "data": {
            "text/plain": [
              "event_time        object\n",
              "event_type        object\n",
              "product_id         int64\n",
              "category_code     object\n",
              "brand             object\n",
              "price            float64\n",
              "user_id            int64\n",
              "user_session      object\n",
              "target             int64\n",
              "timestamp         object\n",
              "ts_hour            int64\n",
              "ts_minute          int64\n",
              "ts_weekday         int64\n",
              "ts_day             int64\n",
              "ts_month           int64\n",
              "ts_year            int64\n",
              "dtype: object"
            ]
          },
          "metadata": {
            "tags": []
          },
          "execution_count": 3
        }
      ]
    },
    {
      "cell_type": "code",
      "metadata": {
        "id": "LIdlCF-l4wvD"
      },
      "source": [
        "df['timestamp'] = pd.to_datetime(df['timestamp'])"
      ],
      "execution_count": 4,
      "outputs": []
    },
    {
      "cell_type": "code",
      "metadata": {
        "colab": {
          "base_uri": "https://localhost:8080/"
        },
        "id": "zXcy3O_q40cX",
        "outputId": "5a67dad2-b1d7-4e34-9aba-5c3662474169"
      },
      "source": [
        "df.target.mean()"
      ],
      "execution_count": 5,
      "outputs": [
        {
          "output_type": "execute_result",
          "data": {
            "text/plain": [
              "0.36775719676099095"
            ]
          },
          "metadata": {
            "tags": []
          },
          "execution_count": 5
        }
      ]
    },
    {
      "cell_type": "code",
      "metadata": {
        "colab": {
          "base_uri": "https://localhost:8080/"
        },
        "id": "v9P5YniL5Bh9",
        "outputId": "3ad07e88-1560-4303-cafa-756c8a0effb2"
      },
      "source": [
        "df['event_type'].value_counts(normalize=True)"
      ],
      "execution_count": 6,
      "outputs": [
        {
          "output_type": "execute_result",
          "data": {
            "text/plain": [
              "cart        0.632243\n",
              "purchase    0.367757\n",
              "Name: event_type, dtype: float64"
            ]
          },
          "metadata": {
            "tags": []
          },
          "execution_count": 6
        }
      ]
    },
    {
      "cell_type": "markdown",
      "metadata": {
        "id": "XxVZV8Vn5HdU"
      },
      "source": [
        "Around 37.0% of datapoints are purchases. Lets take a look on the sparsity of the data."
      ]
    },
    {
      "cell_type": "code",
      "metadata": {
        "colab": {
          "base_uri": "https://localhost:8080/"
        },
        "id": "uukjSMRT5FQG",
        "outputId": "8b8ab191-dedf-4b8f-c6f1-d9ad81da7f68"
      },
      "source": [
        "print('# of datapoints:' + str(df.shape))\n",
        "print('# of unique users:' + str(df['user_id'].drop_duplicates().shape))\n",
        "print('# of unique products:' + str(df['product_id'].drop_duplicates().shape))\n",
        "print('# of unique sessions:' + str(df['user_session'].drop_duplicates().shape))"
      ],
      "execution_count": 7,
      "outputs": [
        {
          "output_type": "stream",
          "text": [
            "# of datapoints:(16742775, 16)\n",
            "# of unique users:(3584809,)\n",
            "# of unique products:(214907,)\n",
            "# of unique sessions:(10715053,)\n"
          ],
          "name": "stdout"
        }
      ]
    },
    {
      "cell_type": "code",
      "metadata": {
        "id": "gIWDc9iF5Ktq"
      },
      "source": [
        "def plot_sparse(df, col):\n",
        "    stats = df[[col, 'target']].groupby(col).agg(['count', 'mean', 'sum'])\n",
        "    stats = stats.reset_index()\n",
        "    stats.columns = [col, 'count', 'mean', 'sum']\n",
        "    stats_sort = stats['count'].value_counts().reset_index()\n",
        "    stats_sort = stats_sort.sort_values('index')\n",
        "    plt.figure(figsize=(15,4))\n",
        "    plt.bar(stats_sort['index'].astype(str).values[0:20], stats_sort['count'].values[0:20])\n",
        "    plt.title('Frequency of ' + str(col))\n",
        "    plt.xlabel('Number frequency')\n",
        "    plt.ylabel('Frequency')"
      ],
      "execution_count": 8,
      "outputs": []
    },
    {
      "cell_type": "code",
      "metadata": {
        "colab": {
          "base_uri": "https://localhost:8080/",
          "height": 295
        },
        "id": "ThKVAx3K5bqH",
        "outputId": "d174827b-6d6a-49be-acd4-e057872a4fba"
      },
      "source": [
        "plot_sparse(df, 'product_id')"
      ],
      "execution_count": 9,
      "outputs": [
        {
          "output_type": "display_data",
          "data": {
            "image/png": "[encoded data removed]",
            "text/plain": [
              "<Figure size 1080x288 with 1 Axes>"
            ]
          },
          "metadata": {
            "tags": [],
            "needs_background": "light"
          }
        }
      ]
    },
    {
      "cell_type": "code",
      "metadata": {
        "colab": {
          "base_uri": "https://localhost:8080/",
          "height": 295
        },
        "id": "zlYjAUzq5fD9",
        "outputId": "765f7fa1-5560-4f40-bbaf-ad0854c08020"
      },
      "source": [
        "plot_sparse(df, 'user_id')"
      ],
      "execution_count": 10,
      "outputs": [
        {
          "output_type": "display_data",
          "data": {
            "image/png": "[encoded data removed]",
            "text/plain": [
              "<Figure size 1080x288 with 1 Axes>"
            ]
          },
          "metadata": {
            "tags": [],
            "needs_background": "light"
          }
        }
      ]
    },
    {
      "cell_type": "code",
      "metadata": {
        "colab": {
          "base_uri": "https://localhost:8080/",
          "height": 295
        },
        "id": "8powyDiy50ef",
        "outputId": "7d6155a4-b4f8-459b-b1c1-6a63b634f28c"
      },
      "source": [
        "plot_sparse(df, 'brand')"
      ],
      "execution_count": 11,
      "outputs": [
        {
          "output_type": "display_data",
          "data": {
            "image/png": "[encoded data removed]",
            "text/plain": [
              "<Figure size 1080x288 with 1 Axes>"
            ]
          },
          "metadata": {
            "tags": [],
            "needs_background": "light"
          }
        }
      ]
    },
    {
      "cell_type": "markdown",
      "metadata": {
        "id": "NgUmBmmS597f"
      },
      "source": [
        "We can observe following pattern:\n",
        "- There are ~45000 products which appear only once in the dataset\n",
        "- There are 1200000 users which appear only once in the dataset\n",
        "- There are 350 brands which appears only once in the dataset"
      ]
    },
    {
      "cell_type": "markdown",
      "metadata": {
        "id": "YN9112LL8mHy"
      },
      "source": [
        "The sparsity is important for understanding which features can be better used in a model. Product_id and User_id have many values which appear only once and the model is less able to learn a good patterns from them.\n",
        "On the other hand, brands has many observations and can be leveraged for prediction."
      ]
    },
    {
      "cell_type": "code",
      "metadata": {
        "id": "7Y2MwjKF55ES"
      },
      "source": [
        "def plot_top20(df, col):\n",
        "    stats = df[[col, 'target']].groupby(col).agg(['count', 'mean', 'sum'])\n",
        "    stats = stats.reset_index()\n",
        "    stats.columns = [col, 'count', 'mean', 'sum']\n",
        "    stats = stats.sort_values('count', ascending=False)\n",
        "    fig, ax1 = plt.subplots(figsize=(15,4))\n",
        "    ax2 = ax1.twinx()\n",
        "    ax1.bar(stats[col].astype(str).values[0:20], stats['count'].values[0:20])\n",
        "    ax1.set_xticklabels(stats[col].astype(str).values[0:20], rotation='vertical')\n",
        "    ax2.plot(stats['mean'].values[0:20], color='red')\n",
        "    ax2.set_ylim(0,1)\n",
        "    ax2.set_ylabel('Mean Target')\n",
        "    ax1.set_ylabel('Frequency')\n",
        "    ax1.set_xlabel(col)\n",
        "    ax1.set_title('Top20 ' + col + 's based on frequency')"
      ],
      "execution_count": 12,
      "outputs": []
    },
    {
      "cell_type": "code",
      "metadata": {
        "colab": {
          "base_uri": "https://localhost:8080/",
          "height": 342
        },
        "id": "QrCM9B2b8tLV",
        "outputId": "27b7658e-8cfe-4a20-c2d9-b39a827c7741"
      },
      "source": [
        "plot_top20(df, 'product_id')"
      ],
      "execution_count": 13,
      "outputs": [
        {
          "output_type": "display_data",
          "data": {
            "image/png": "[encoded data removed]",
            "text/plain": [
              "<Figure size 1080x288 with 2 Axes>"
            ]
          },
          "metadata": {
            "tags": [],
            "needs_background": "light"
          }
        }
      ]
    },
    {
      "cell_type": "code",
      "metadata": {
        "colab": {
          "base_uri": "https://localhost:8080/",
          "height": 343
        },
        "id": "-Daz2Etw8ywW",
        "outputId": "197a2029-58ce-46b9-bcb3-c336b47d7cb3"
      },
      "source": [
        "plot_top20(df, 'user_id')"
      ],
      "execution_count": 14,
      "outputs": [
        {
          "output_type": "display_data",
          "data": {
            "image/png": "[encoded data removed]",
            "text/plain": [
              "<Figure size 1080x288 with 2 Axes>"
            ]
          },
          "metadata": {
            "tags": [],
            "needs_background": "light"
          }
        }
      ]
    },
    {
      "cell_type": "code",
      "metadata": {
        "colab": {
          "base_uri": "https://localhost:8080/",
          "height": 331
        },
        "id": "IfVtFT4V80yK",
        "outputId": "3a38366e-6cc6-4d40-d751-14538abd4997"
      },
      "source": [
        "plot_top20(df, 'brand')"
      ],
      "execution_count": 15,
      "outputs": [
        {
          "output_type": "display_data",
          "data": {
            "image/png": "[encoded data removed]",
            "text/plain": [
              "<Figure size 1080x288 with 2 Axes>"
            ]
          },
          "metadata": {
            "tags": [],
            "needs_background": "light"
          }
        }
      ]
    },
    {
      "cell_type": "code",
      "metadata": {
        "id": "TeNKLjJU81_Y"
      },
      "source": [
        "df['date'] = pd.to_datetime(df['timestamp']).dt.date"
      ],
      "execution_count": 3,
      "outputs": []
    },
    {
      "cell_type": "code",
      "metadata": {
        "colab": {
          "base_uri": "https://localhost:8080/",
          "height": 344
        },
        "id": "yyUDEaxC9fKc",
        "outputId": "61e2cb92-fc44-4e3c-9711-e029d0a4682d"
      },
      "source": [
        "plt.figure(figsize=(15,4))\n",
        "plt.plot(df[['date', 'target']].groupby('date').target.mean())\n",
        "plt.ylabel('average mean')\n",
        "plt.xlabel('date')\n",
        "plt.xticks(df[['date', 'target']].groupby('date').target.mean().index[::3], rotation='vertical')\n",
        "print('')"
      ],
      "execution_count": 4,
      "outputs": [
        {
          "output_type": "stream",
          "text": [
            "\n"
          ],
          "name": "stdout"
        },
        {
          "output_type": "display_data",
          "data": {
            "image/png": "[encoded data removed]",
            "text/plain": [
              "<Figure size 1080x288 with 1 Axes>"
            ]
          },
          "metadata": {
            "tags": [],
            "needs_background": "light"
          }
        }
      ]
    },
    {
      "cell_type": "code",
      "metadata": {
        "colab": {
          "base_uri": "https://localhost:8080/"
        },
        "id": "p2xBxTn2-3KX",
        "outputId": "03cdc5af-6190-48c9-80b7-c2a5609f0884"
      },
      "source": [
        "df[['date', 'target']].groupby('date').target.mean().sort_values().head(20)"
      ],
      "execution_count": 5,
      "outputs": [
        {
          "output_type": "execute_result",
          "data": {
            "text/plain": [
              "date\n",
              "2019-11-15    0.000000\n",
              "2020-01-02    0.000000\n",
              "2020-04-20    0.000096\n",
              "2020-04-21    0.000147\n",
              "2020-01-01    0.063013\n",
              "2020-02-27    0.114378\n",
              "2019-11-14    0.135596\n",
              "2019-11-16    0.147902\n",
              "2020-01-31    0.161678\n",
              "2020-02-01    0.203322\n",
              "2020-01-30    0.223492\n",
              "2020-02-02    0.258615\n",
              "2020-02-03    0.270665\n",
              "2020-01-03    0.282014\n",
              "2020-02-04    0.295918\n",
              "2020-02-29    0.300146\n",
              "2020-02-28    0.300432\n",
              "2020-02-05    0.310188\n",
              "2020-02-07    0.317174\n",
              "2020-02-08    0.318376\n",
              "Name: target, dtype: float64"
            ]
          },
          "metadata": {
            "tags": []
          },
          "execution_count": 5
        }
      ]
    },
    {
      "cell_type": "markdown",
      "metadata": {
        "id": "LJ7POegh-7rk"
      },
      "source": [
        "- We explored the data and saw the different raw features available in the dataset.\n",
        "- We analzyed basic statistics of the raw features and saw long-tail distribution for categorical features (user, item, brand)\n",
        "- Some categorical features (categories) have high occurances\n",
        "- In general, we see that categorical features have variance in the target, which we can leverage to engineer more powerful features"
      ]
    }
  ]
}