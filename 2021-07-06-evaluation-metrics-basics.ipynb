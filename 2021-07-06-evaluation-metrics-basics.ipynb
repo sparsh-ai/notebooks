{
  "nbformat": 4,
  "nbformat_minor": 0,
  "metadata": {
    "colab": {
      "name": "recsys-evaluation-metrics.ipynb",
      "provenance": [],
      "collapsed_sections": [],
      "authorship_tag": "ABX9TyPV+60DrmVlRirYDELOWSU6"
    },
    "kernelspec": {
      "name": "python3",
      "display_name": "Python 3"
    },
    "language_info": {
      "name": "python"
    }
  },
  "cells": [
    {
      "cell_type": "markdown",
      "metadata": {
        "id": "bt279XzUARiB"
      },
      "source": [
        "# Recommender System Evaluations\n",
        "> Understanding evaluation metrics, splitting methods\n",
        "\n",
        "- toc: true\n",
        "- badges: true\n",
        "- comments: true\n",
        "- categories: [Evaluation, Splitting]\n",
        "- image:"
      ]
    },
    {
      "cell_type": "code",
      "metadata": {
        "colab": {
          "base_uri": "https://localhost:8080/"
        },
        "id": "xw2WISS3xoEk",
        "outputId": "f4089a5a-5ede-4d56-8b90-35a37fd9502f"
      },
      "source": [
        "import numpy as np\n",
        " \n",
        "def mean_reciprocal_rank(rs):\n",
        "  rs = (np.asarray(r).nonzero()[0] for r in rs)\n",
        "  return np.mean([1. / (r[0] + 1) if r.size else 0. for r in rs])\n",
        " \n",
        "mean_reciprocal_rank([[0,0,1],[0,1,1],[1,1,0]])"
      ],
      "execution_count": null,
      "outputs": [
        {
          "output_type": "execute_result",
          "data": {
            "text/plain": [
              "0.611111111111111"
            ]
          },
          "metadata": {
            "tags": []
          },
          "execution_count": 1
        }
      ]
    },
    {
      "cell_type": "code",
      "metadata": {
        "colab": {
          "base_uri": "https://localhost:8080/"
        },
        "id": "anUDGh3kYjzj",
        "outputId": "ecf7141e-59b6-4fce-fc7f-d38764b614e5"
      },
      "source": [
        "import numpy as np\n",
        " \n",
        "def r_precision(r):\n",
        "    r = np.asarray(r) != 0\n",
        "    z = r.nonzero()[0]\n",
        "    if not z.size:\n",
        "        return 0.\n",
        "    return np.mean(r[:z[-1] + 1])\n",
        " \n",
        "r_precision([0,0,1,1])"
      ],
      "execution_count": null,
      "outputs": [
        {
          "output_type": "execute_result",
          "data": {
            "text/plain": [
              "0.5"
            ]
          },
          "metadata": {
            "tags": []
          },
          "execution_count": 2
        }
      ]
    },
    {
      "cell_type": "code",
      "metadata": {
        "colab": {
          "base_uri": "https://localhost:8080/"
        },
        "id": "OlOE3O-QZO0S",
        "outputId": "8a7755ff-9546-49b0-8b2b-5abea2a5ef85"
      },
      "source": [
        "import numpy as np\n",
        " \n",
        "def precision_at_k(r, k):\n",
        "    assert k >= 1\n",
        "    r = np.asarray(r)[:k] != 0\n",
        "    if r.size != k:\n",
        "        raise ValueError('Relevance score length < k')\n",
        "    return np.mean(r)\n",
        " \n",
        "precision_at_k([0,0,1,1], 3)"
      ],
      "execution_count": null,
      "outputs": [
        {
          "output_type": "execute_result",
          "data": {
            "text/plain": [
              "0.3333333333333333"
            ]
          },
          "metadata": {
            "tags": []
          },
          "execution_count": 4
        }
      ]
    },
    {
      "cell_type": "code",
      "metadata": {
        "colab": {
          "base_uri": "https://localhost:8080/"
        },
        "id": "OnmVhSCdZ6ar",
        "outputId": "8ed143b0-46c5-4fd4-f190-6f229ea3df6c"
      },
      "source": [
        "# import numpy as np\n",
        "\n",
        "def average_precision(r):\n",
        "    r = np.asarray(r) != 0\n",
        "    out = [precision_at_k(r, k + 1) for k in range(r.size) if r[k]]\n",
        "    if not out:\n",
        "        return 0.\n",
        "    return np.mean(out)\n",
        "\n",
        "average_precision([0,0,1,1])"
      ],
      "execution_count": 8,
      "outputs": [
        {
          "output_type": "execute_result",
          "data": {
            "text/plain": [
              "0.41666666666666663"
            ]
          },
          "metadata": {
            "tags": []
          },
          "execution_count": 8
        }
      ]
    },
    {
      "cell_type": "code",
      "metadata": {
        "colab": {
          "base_uri": "https://localhost:8080/"
        },
        "id": "bVU_vuiGgBgK",
        "outputId": "dd45dd4d-3205-44a9-d6f3-5efe0f875137"
      },
      "source": [
        "import numpy as np\n",
        "\n",
        "def mean_average_precision(rs):\n",
        "    return np.mean([average_precision(r) for r in rs])\n",
        "\n",
        "mean_average_precision([[0,0,1,1],[0,1]])"
      ],
      "execution_count": 9,
      "outputs": [
        {
          "output_type": "execute_result",
          "data": {
            "text/plain": [
              "0.4583333333333333"
            ]
          },
          "metadata": {
            "tags": []
          },
          "execution_count": 9
        }
      ]
    },
    {
      "cell_type": "code",
      "metadata": {
        "colab": {
          "base_uri": "https://localhost:8080/"
        },
        "id": "p3Zd-4-_hZSY",
        "outputId": "c3c76b29-d1af-440c-a88d-b3cf870c381d"
      },
      "source": [
        "import numpy as np\n",
        "\n",
        "def dcg_at_k(r, k, method=0):\n",
        "    r = np.asfarray(r)[:k]\n",
        "    if r.size:\n",
        "        if method == 0:\n",
        "            return r[0] + np.sum(r[1:] / np.log2(np.arange(2, r.size + 1)))\n",
        "        elif method == 1:\n",
        "            return np.sum(r / np.log2(np.arange(2, r.size + 2)))\n",
        "        elif method == 2:\n",
        "            return np.sum(np.subtract(np.power(2, r), 1) / np.log2(np.arange(2, r.size + 2)))\n",
        "        else:\n",
        "            raise ValueError('method must be 0 or 1.')\n",
        "    return 0.\n",
        "\n",
        "dcg_at_k([3, 2, 3, 0, 1, 2], 6)"
      ],
      "execution_count": 18,
      "outputs": [
        {
          "output_type": "execute_result",
          "data": {
            "text/plain": [
              "8.097171433256849"
            ]
          },
          "metadata": {
            "tags": []
          },
          "execution_count": 18
        }
      ]
    },
    {
      "cell_type": "code",
      "metadata": {
        "id": "8xe30QVo-mRR",
        "colab": {
          "base_uri": "https://localhost:8080/"
        },
        "outputId": "e1723af0-b119-431e-d950-a7f57014d43f"
      },
      "source": [
        "import numpy as np\n",
        "\n",
        "def ndcg_at_k(r, k, method=0):\n",
        "    dcg_max = dcg_at_k(sorted(r, reverse=True), k, method)\n",
        "    if not dcg_max:\n",
        "        return 0.\n",
        "    return dcg_at_k(r, k, method) / dcg_max\n",
        "\n",
        "ndcg_at_k([3, 2, 3, 0, 1, 2], 6, method=1)"
      ],
      "execution_count": 19,
      "outputs": [
        {
          "output_type": "execute_result",
          "data": {
            "text/plain": [
              "0.9488107485678985"
            ]
          },
          "metadata": {
            "tags": []
          },
          "execution_count": 19
        }
      ]
    },
    {
      "cell_type": "code",
      "metadata": {
        "colab": {
          "base_uri": "https://localhost:8080/"
        },
        "id": "GVm29FXplpUu",
        "outputId": "047cba5d-8cf1-4d0b-bf32-e4483365da32"
      },
      "source": [
        "import numpy as np\n",
        "from typing import List\n",
        "\n",
        "def novelty(predicted: List[list], pop: dict, u: int, n: int) -> (float, list):\n",
        "    \"\"\"\n",
        "    Computes the novelty for a list of recommendations\n",
        "    Parameters\n",
        "    ----------\n",
        "    predicted : a list of lists\n",
        "        Ordered predictions\n",
        "        example: [['X', 'Y', 'Z'], ['X', 'Y', 'Z']]\n",
        "    pop: dictionary\n",
        "        A dictionary of all items alongside of its occurrences counter in the training data\n",
        "        example: {1198: 893, 1270: 876, 593: 876, 2762: 867}\n",
        "    u: integer\n",
        "        The number of users in the training data\n",
        "    n: integer\n",
        "        The length of recommended lists per user\n",
        "    Returns\n",
        "    ----------\n",
        "    novelty:\n",
        "        The novelty of the recommendations in system level\n",
        "    mean_self_information:\n",
        "        The novelty of the recommendations in recommended top-N list level\n",
        "    ----------    \n",
        "    Metric Defintion:\n",
        "    Zhou, T., Kuscsik, Z., Liu, J. G., Medo, M., Wakeling, J. R., & Zhang, Y. C. (2010).\n",
        "    Solving the apparent diversity-accuracy dilemma of recommender systems.\n",
        "    Proceedings of the National Academy of Sciences, 107(10), 4511-4515.\n",
        "    \"\"\"\n",
        "    mean_self_information = []\n",
        "    k = 0\n",
        "    for sublist in predicted:\n",
        "        self_information = 0\n",
        "        k += 1\n",
        "        for i in sublist:\n",
        "            self_information += np.sum(-np.log2(pop[i]/u))\n",
        "        mean_self_information.append(self_information/n)\n",
        "    novelty = sum(mean_self_information)/k\n",
        "    return novelty, mean_self_information\n",
        "\n",
        "novelty([['A','B','C'],['B','A']],\n",
        "        {'A':10, 'B':10, 'C':10, 'D':10, 'E':10},\n",
        "        2, 3)"
      ],
      "execution_count": 22,
      "outputs": [
        {
          "output_type": "execute_result",
          "data": {
            "text/plain": [
              "(-1.9349400790728017, [-2.321928094887362, -1.5479520632582415])"
            ]
          },
          "metadata": {
            "tags": []
          },
          "execution_count": 22
        }
      ]
    },
    {
      "cell_type": "code",
      "metadata": {
        "colab": {
          "base_uri": "https://localhost:8080/"
        },
        "id": "56--28-2mrWK",
        "outputId": "7512d1e3-f13a-4f34-c284-35fc2318203d"
      },
      "source": [
        "from typing import List\n",
        "\n",
        "def prediction_coverage(predicted: List[list], catalog: list) -> float:\n",
        "    \"\"\"\n",
        "    Computes the prediction coverage for a list of recommendations\n",
        "    Parameters\n",
        "    ----------\n",
        "    predicted : a list of lists\n",
        "        Ordered predictions\n",
        "        example: [['X', 'Y', 'Z'], ['X', 'Y', 'Z']]\n",
        "    catalog: list\n",
        "        A list of all unique items in the training data\n",
        "        example: ['A', 'B', 'C', 'X', 'Y', Z]\n",
        "    Returns\n",
        "    ----------\n",
        "    prediction_coverage:\n",
        "        The prediction coverage of the recommendations as a percent\n",
        "        rounded to 2 decimal places\n",
        "    ----------    \n",
        "    Metric Defintion:\n",
        "    Ge, M., Delgado-Battenfeld, C., & Jannach, D. (2010, September).\n",
        "    Beyond accuracy: evaluating recommender systems by coverage and serendipity.\n",
        "    In Proceedings of the fourth ACM conference on Recommender systems (pp. 257-260). ACM.\n",
        "    \"\"\"\n",
        "    predicted_flattened = [p for sublist in predicted for p in sublist]\n",
        "    unique_predictions = len(set(predicted_flattened))\n",
        "    prediction_coverage = round(unique_predictions/(len(catalog)* 1.0)*100,2)\n",
        "    return prediction_coverage\n",
        "\n",
        "prediction_coverage([['A','B','D'],['B','A','C']], ['A','B','C','D','E'])"
      ],
      "execution_count": 26,
      "outputs": [
        {
          "output_type": "execute_result",
          "data": {
            "text/plain": [
              "80.0"
            ]
          },
          "metadata": {
            "tags": []
          },
          "execution_count": 26
        }
      ]
    },
    {
      "cell_type": "code",
      "metadata": {
        "colab": {
          "base_uri": "https://localhost:8080/"
        },
        "id": "r6tPrNKNngmK",
        "outputId": "17b018e9-8ea8-4bc6-e558-7f0082f11d42"
      },
      "source": [
        "import random\n",
        "from typing import List\n",
        "\n",
        "def catalog_coverage(predicted: List[list], catalog: list, k: int) -> float:\n",
        "    \"\"\"\n",
        "    Computes the catalog coverage for k lists of recommendations\n",
        "    Parameters\n",
        "    ----------\n",
        "    predicted : a list of lists\n",
        "        Ordered predictions\n",
        "        example: [['X', 'Y', 'Z'], ['X', 'Y', 'Z']]\n",
        "    catalog: list\n",
        "        A list of all unique items in the training data\n",
        "        example: ['A', 'B', 'C', 'X', 'Y', Z]\n",
        "    k: integer\n",
        "        The number of observed recommendation lists\n",
        "        which randomly choosed in our offline setup\n",
        "    Returns\n",
        "    ----------\n",
        "    catalog_coverage:\n",
        "        The catalog coverage of the recommendations as a percent\n",
        "        rounded to 2 decimal places\n",
        "    ----------    \n",
        "    Metric Defintion:\n",
        "    Ge, M., Delgado-Battenfeld, C., & Jannach, D. (2010, September).\n",
        "    Beyond accuracy: evaluating recommender systems by coverage and serendipity.\n",
        "    In Proceedings of the fourth ACM conference on Recommender systems (pp. 257-260). ACM.\n",
        "    \"\"\"\n",
        "    sampling = random.choices(predicted, k=k)\n",
        "    predicted_flattened = [p for sublist in sampling for p in sublist]\n",
        "    L_predictions = len(set(predicted_flattened))\n",
        "    catalog_coverage = round(L_predictions/(len(catalog)*1.0)*100,2)\n",
        "    return catalog_coverage\n",
        "\n",
        "catalog_coverage([['A','B','D'],['B','A','C'],['B','A','D']], ['A','B','C','D','E'], 2)"
      ],
      "execution_count": 32,
      "outputs": [
        {
          "output_type": "execute_result",
          "data": {
            "text/plain": [
              "80.0"
            ]
          },
          "metadata": {
            "tags": []
          },
          "execution_count": 32
        }
      ]
    },
    {
      "cell_type": "code",
      "metadata": {
        "colab": {
          "base_uri": "https://localhost:8080/"
        },
        "id": "7JVOBoUfoJvt",
        "outputId": "e7f7a2e7-2ebb-4c5f-b051-91ea74115ca5"
      },
      "source": [
        "def recall_at_k(actual: list, predicted: list, k) -> int:\n",
        "  if len(predicted)>k:\n",
        "    predicted = predicted[:k]\n",
        "  score = 0.0\n",
        "  num_hits = 0.0\n",
        "  if actual:\n",
        "    for i,p in enumerate(predicted):\n",
        "        if p in actual and p not in predicted[:i]:\n",
        "            num_hits += 1.0\n",
        "            score += num_hits / (i+1.0)\n",
        "    return score / len(actual)\n",
        "  else:\n",
        "    return 0.0\n",
        "\n",
        "recall_at_k([1,2,3,4,5],[2,4,6,8,10],4), \\\n",
        "recall_at_k([2,3,7,8,9],[1,3,5,8,10],4)"
      ],
      "execution_count": 45,
      "outputs": [
        {
          "output_type": "execute_result",
          "data": {
            "text/plain": [
              "(0.4, 0.2)"
            ]
          },
          "metadata": {
            "tags": []
          },
          "execution_count": 45
        }
      ]
    },
    {
      "cell_type": "code",
      "metadata": {
        "colab": {
          "base_uri": "https://localhost:8080/"
        },
        "id": "pOSybPDeqOlb",
        "outputId": "2b5f8516-0ea7-4165-e488-cb5b4020bd02"
      },
      "source": [
        "def mean_average_recall(actual: List[list], predicted: List[list], k=10) -> int:\n",
        "    return np.mean([recall_at_k(a,p,k) for a,p in zip(actual, predicted)])\n",
        "\n",
        "mean_average_recall([[1,2,3,4,5],[2,4,6,8,10]],\n",
        "                    [[2,3,7,8,9],[1,3,5,8,10]],\n",
        "                    4)"
      ],
      "execution_count": 41,
      "outputs": [
        {
          "output_type": "execute_result",
          "data": {
            "text/plain": [
              "0.225"
            ]
          },
          "metadata": {
            "tags": []
          },
          "execution_count": 41
        }
      ]
    },
    {
      "cell_type": "code",
      "metadata": {
        "colab": {
          "base_uri": "https://localhost:8080/"
        },
        "id": "VLNN373EtVRY",
        "outputId": "3299f577-6d4d-4692-c45c-fea22693852e"
      },
      "source": [
        "from math import sqrt\n",
        "from sklearn.metrics import mean_squared_error\n",
        "\n",
        "def mse(y: list, yhat: np.array) -> float:\n",
        "    mse = mean_squared_error(y, yhat)\n",
        "    return mse\n",
        "\n",
        "def rmse(y: list, yhat: np.array) -> float:\n",
        "    rmse = sqrt(mean_squared_error(y, yhat))\n",
        "    return rmse\n",
        "\n",
        "rmse([1,4,3],[1,2,3])"
      ],
      "execution_count": 50,
      "outputs": [
        {
          "output_type": "execute_result",
          "data": {
            "text/plain": [
              "1.1547005383792515"
            ]
          },
          "metadata": {
            "tags": []
          },
          "execution_count": 50
        }
      ]
    },
    {
      "cell_type": "code",
      "metadata": {
        "colab": {
          "base_uri": "https://localhost:8080/",
          "height": 297
        },
        "id": "qIGR9TGHuP-j",
        "outputId": "47b21484-95fe-4324-8fb3-c6d32cf12d6a"
      },
      "source": [
        "from itertools import product\n",
        "import matplotlib.pyplot as plt\n",
        "import numpy as np\n",
        "import scipy.sparse as sp\n",
        "from sklearn.metrics import confusion_matrix\n",
        "\n",
        "def make_confusion_matrix(y: list, yhat: list) -> None:\n",
        "    cm = confusion_matrix(y, yhat, labels=[1,0])\n",
        "    cm = np.round(cm.astype('float') / cm.sum(axis=1)[:, np.newaxis],4)*100\n",
        "\n",
        "    fmt = \".2f\"\n",
        "    _ = cm.max() / 2. # TODO: Unused argument\n",
        "    descriptions = np.array([[\"True Positive\", \"False Negative\"], [\"False Positive\", \"True Negatives\"]])\n",
        "    colors = np.array([[\"green\", \"red\"], [\"red\", \"green\"]])\n",
        "    plt.imshow([[0,0],[0,0]], interpolation='nearest', cmap=plt.cm.Greys)\n",
        "    for i, j in product(range(cm.shape[0]), range(cm.shape[1])):\n",
        "            plt.text(j, i, format(cm[i, j], fmt)+'%\\n' + descriptions[i, j],\n",
        "                     horizontalalignment=\"center\",\n",
        "                     color=colors[i,j])\n",
        "    plt.axhline(y=0.5, xmin=0, xmax=1, color=\"black\", linewidth=0.75)\n",
        "    plt.axvline(x=0.5, ymin=0, ymax=1, color=\"black\", linewidth=0.75)\n",
        "    plt.ylabel('True')\n",
        "    plt.xlabel('Predicted')\n",
        "    plt.title(\"Confusion Matrix\")\n",
        "    plt.xticks([0,1], [1,0], rotation=45)\n",
        "    plt.yticks([0,1], [1,0])\n",
        "    plt.show()\n",
        "\n",
        "make_confusion_matrix([1,0,0,1,1],[1,1,0,0,1])"
      ],
      "execution_count": 52,
      "outputs": [
        {
          "output_type": "display_data",
          "data": {
            "image/png": "[encoded data removed]",
            "text/plain": [
              "<Figure size 432x288 with 1 Axes>"
            ]
          },
          "metadata": {
            "tags": [],
            "needs_background": "light"
          }
        }
      ]
    },
    {
      "cell_type": "code",
      "metadata": {
        "id": "BL3A5cs0EN36"
      },
      "source": [
        "import random\n",
        "from itertools import product\n",
        "from math import sqrt\n",
        "from typing import List\n",
        "\n",
        "import numpy as np\n",
        "import pandas as pd\n",
        "import scipy.sparse as sp\n",
        "from sklearn.metrics import mean_squared_error\n",
        "from sklearn.metrics.pairwise import cosine_similarity\n",
        "\n",
        "def personalization(predicted: List[list]) -> float:\n",
        "    \"\"\"\n",
        "    Personalization measures recommendation similarity across users.\n",
        "    A high score indicates good personalization (user's lists of recommendations are different).\n",
        "    A low score indicates poor personalization (user's lists of recommendations are very similar).\n",
        "    A model is \"personalizing\" well if the set of recommendations for each user is different.\n",
        "    Parameters:\n",
        "    ----------\n",
        "    predicted : a list of lists\n",
        "        Ordered predictions\n",
        "        example: [['X', 'Y', 'Z'], ['X', 'Y', 'Z']]\n",
        "    Returns:\n",
        "    -------\n",
        "        The personalization score for all recommendations.\n",
        "    \"\"\"\n",
        "\n",
        "    def make_rec_matrix(predicted: List[list]) -> sp.csr_matrix:\n",
        "        df = pd.DataFrame(data=predicted).reset_index().melt(\n",
        "            id_vars='index', value_name='item',\n",
        "        )\n",
        "        df = df[['index', 'item']].pivot(index='index', columns='item', values='item')\n",
        "        df = pd.notna(df)*1\n",
        "        rec_matrix = sp.csr_matrix(df.values)\n",
        "        return rec_matrix\n",
        "\n",
        "    #create matrix for recommendations\n",
        "    predicted = np.array(predicted)\n",
        "    rec_matrix_sparse = make_rec_matrix(predicted)\n",
        "\n",
        "    #calculate similarity for every user's recommendation list\n",
        "    similarity = cosine_similarity(X=rec_matrix_sparse, dense_output=False)\n",
        "\n",
        "    #get indicies for upper right triangle w/o diagonal\n",
        "    upper_right = np.triu_indices(similarity.shape[0], k=1)\n",
        "\n",
        "    #calculate average similarity\n",
        "    personalization = np.mean(similarity[upper_right])\n",
        "    return 1-personalization\n",
        "\n",
        "def _single_list_similarity(predicted: list, feature_df: pd.DataFrame, u: int) -> float:\n",
        "    \"\"\"\n",
        "    Computes the intra-list similarity for a single list of recommendations.\n",
        "    Parameters\n",
        "    ----------\n",
        "    predicted : a list\n",
        "        Ordered predictions\n",
        "        Example: ['X', 'Y', 'Z']\n",
        "    feature_df: dataframe\n",
        "        A dataframe with one hot encoded or latent features.\n",
        "        The dataframe should be indexed by the id used in the recommendations.\n",
        "    Returns:\n",
        "    -------\n",
        "    ils_single_user: float\n",
        "        The intra-list similarity for a single list of recommendations.\n",
        "    \"\"\"\n",
        "    # exception predicted list empty\n",
        "    if not(predicted):\n",
        "        raise Exception('Predicted list is empty, index: {0}'.format(u))\n",
        "\n",
        "    #get features for all recommended items\n",
        "    recs_content = feature_df.loc[predicted]\n",
        "    recs_content = recs_content.dropna()\n",
        "    recs_content = sp.csr_matrix(recs_content.values)\n",
        "\n",
        "    #calculate similarity scores for all items in list\n",
        "    similarity = cosine_similarity(X=recs_content, dense_output=False)\n",
        "\n",
        "    #get indicies for upper right triangle w/o diagonal\n",
        "    upper_right = np.triu_indices(similarity.shape[0], k=1)\n",
        "\n",
        "    #calculate average similarity score of all recommended items in list\n",
        "    ils_single_user = np.mean(similarity[upper_right])\n",
        "    return ils_single_user\n",
        "\n",
        "def intra_list_similarity(predicted: List[list], feature_df: pd.DataFrame) -> float:\n",
        "    \"\"\"\n",
        "    Computes the average intra-list similarity of all recommendations.\n",
        "    This metric can be used to measure diversity of the list of recommended items.\n",
        "    Parameters\n",
        "    ----------\n",
        "    predicted : a list of lists\n",
        "        Ordered predictions\n",
        "        Example: [['X', 'Y', 'Z'], ['X', 'Y', 'Z']]\n",
        "    feature_df: dataframe\n",
        "        A dataframe with one hot encoded or latent features.\n",
        "        The dataframe should be indexed by the id used in the recommendations.\n",
        "    Returns:\n",
        "    -------\n",
        "        The average intra-list similarity for recommendations.\n",
        "    \"\"\"\n",
        "    feature_df = feature_df.fillna(0)\n",
        "    Users = range(len(predicted))\n",
        "    ils = [_single_list_similarity(predicted[u], feature_df, u) for u in Users]\n",
        "    return np.mean(ils)"
      ],
      "execution_count": 75,
      "outputs": []
    },
    {
      "cell_type": "code",
      "metadata": {
        "id": "CVjh_aUtE0Hb"
      },
      "source": [
        "!pip install -q funcsigs\n",
        "\n",
        "import matplotlib.pyplot as plt\n",
        "import numpy as np\n",
        "import pandas as pd\n",
        "import plotly.graph_objects as go\n",
        "import seaborn as sns\n",
        "from funcsigs import signature\n",
        "from matplotlib.lines import Line2D\n",
        "from sklearn.metrics import (auc, average_precision_score,\n",
        "                             precision_recall_curve, roc_curve)"
      ],
      "execution_count": 54,
      "outputs": []
    },
    {
      "cell_type": "code",
      "metadata": {
        "id": "eAQDhSyFvdRT"
      },
      "source": [
        "def long_tail_plot(df, item_id_column, interaction_type, percentage=None, x_labels=True):\n",
        "    \"\"\"\n",
        "    Plots the long tail for a user-item interaction dataset.\n",
        "    ----------\n",
        "    df: pandas dataframe\n",
        "        user-item interaction dataframe\n",
        "        example:\n",
        "    item_id_column: str\n",
        "        column name identifying the item ids in the dataframe\n",
        "    interaction_type: str\n",
        "        type of user-item interactions\n",
        "        i.e. 'purchases', 'ratings' 'interactions', or 'clicks'\n",
        "    percentage: float, default=None\n",
        "        percent of volume to consider as the head (percent as a decimal)\n",
        "        (if default=None no line will be plotted)\n",
        "    x_tables bool, default=True\n",
        "        if True, plot x-axis tick labels\n",
        "        if False, no x-axis tick lavels will be plotted.\n",
        "    Returns:\n",
        "    -------\n",
        "        A long tail plot\n",
        "    \"\"\"\n",
        "    #calculate cumulative volumes\n",
        "    volume_df = df[item_id_column].value_counts().reset_index()\n",
        "    volume_df.columns = [item_id_column, \"volume\"]\n",
        "    volume_df[item_id_column] = volume_df[item_id_column].astype(str)\n",
        "    volume_df['cumulative_volume'] = volume_df['volume'].cumsum()\n",
        "    volume_df['percent_of_total_volume'] = volume_df['cumulative_volume']/volume_df['volume'].sum()\n",
        "\n",
        "    #line plot of cumulative volume\n",
        "    x=range(0,len(volume_df))\n",
        "    ax = sns.lineplot(x, y=\"volume\", data=volume_df, color=\"black\")\n",
        "    plt.xticks(x)\n",
        "\n",
        "    #set labels\n",
        "    ax.set_title('Long Tail Plot')\n",
        "    ax.set_ylabel('# of ' + interaction_type)\n",
        "    ax.set_xlabel(item_id_column)\n",
        "\n",
        "    if percentage != None:\n",
        "        #plot vertical line at the tail location\n",
        "        head = volume_df[volume_df[\"percent_of_total_volume\"] <= percentage]\n",
        "        tail = volume_df[volume_df[\"percent_of_total_volume\"] > percentage]\n",
        "        items_in_head = len(head)\n",
        "        items_in_tail = len(tail)\n",
        "        plt.axvline(x=items_in_head, color=\"red\",  linestyle='--')\n",
        "\n",
        "        # fill area under plot\n",
        "        head = head.append(tail.head(1))\n",
        "        x1 = head.index.values\n",
        "        y1 = head['volume']\n",
        "        x2 = tail.index.values\n",
        "        y2 = tail['volume']\n",
        "        ax.fill_between(x1, y1, color=\"blue\", alpha=0.2)\n",
        "        ax.fill_between(x2, y2,  color=\"orange\", alpha=0.2)\n",
        "\n",
        "        #create legend\n",
        "        legend_elements = [Line2D([0], [0], marker='o', color='w', label=str(items_in_head)+': items in the head', markerfacecolor='blue', markersize=5),\n",
        "                           Line2D([0], [0], marker='o', color='w', label=str(items_in_tail)+': items in the tail', markerfacecolor='orange', markersize=5)]\n",
        "        ax.legend(handles=legend_elements, loc=1)\n",
        "\n",
        "    else:\n",
        "        x1 = volume_df[item_id_column]\n",
        "        y1 = volume_df['volume']\n",
        "        ax.fill_between(x1, y1, color=\"blue\", alpha=0.3)\n",
        "    if x_labels == False:\n",
        "        plt.xticks([], [])\n",
        "        ax.set(xticklabels=[])\n",
        "    else:\n",
        "        ax.set_xticklabels(labels = volume_df[item_id_column], rotation = 45, ha=\"right\")\n",
        "\n",
        "    plt.show()"
      ],
      "execution_count": 55,
      "outputs": []
    },
    {
      "cell_type": "code",
      "metadata": {
        "colab": {
          "base_uri": "https://localhost:8080/",
          "height": 281
        },
        "id": "4ZWTh1kgvgjk",
        "outputId": "0e4706bf-b5cf-4f8e-8681-68b26425f08e"
      },
      "source": [
        "def coverage_plot(coverage_scores: list, model_names: list) -> None:\n",
        "    \"\"\"\n",
        "    Plots the coverage for a set of models to compare.\n",
        "    ----------\n",
        "    coverage_scores: list\n",
        "        list of coverage scores in same order as model_names\n",
        "        example: [0.17, 0.25, 0.76]\n",
        "    model_names: list\n",
        "        list of model names in same order as coverage_scores\n",
        "        example: ['Model A', 'Model B', 'Model C']\n",
        "    Returns:\n",
        "    -------\n",
        "        A coverage plot\n",
        "    \"\"\"\n",
        "    #create palette\n",
        "    recommender_palette = [\"#ED2BFF\", \"#14E2C0\", \"#FF9F1C\", \"#5E2BFF\",\"#FC5FA3\"]\n",
        "    sns.set_palette(recommender_palette)\n",
        "\n",
        "    #make barplot\n",
        "    ax = sns.barplot(x=model_names, y=coverage_scores)\n",
        "\n",
        "    #set labels\n",
        "    ax.set_title('Catalog Coverage in %')\n",
        "    ax.set_ylabel('coverage')\n",
        "\n",
        "    plt.show()\n",
        "\n",
        "coverage_plot([0.17, 0.25, 0.76], ['Model A', 'Model B', 'Model C'])"
      ],
      "execution_count": 56,
      "outputs": [
        {
          "output_type": "display_data",
          "data": {
            "image/png": "[encoded data removed]",
            "text/plain": [
              "<Figure size 432x288 with 1 Axes>"
            ]
          },
          "metadata": {
            "tags": [],
            "needs_background": "light"
          }
        }
      ]
    },
    {
      "cell_type": "code",
      "metadata": {
        "colab": {
          "base_uri": "https://localhost:8080/",
          "height": 295
        },
        "id": "s-pB-3XNwKpt",
        "outputId": "87f501ca-47d8-4412-ddff-a4e16dd102bd"
      },
      "source": [
        "def mark_plot(mark_scores, model_names, k_range):\n",
        "    \"\"\"\n",
        "    Plots the mean average recall at k for a set of models to compare.\n",
        "    ----------\n",
        "    mark_scores: list of lists\n",
        "        list of list of mar@k scores over k. This list is in same order as model_names\n",
        "        example: [[0.17, 0.25, 0.76],[0.2, 0.5, 0.74]]\n",
        "    model_names: list\n",
        "        list of model names in same order as coverage_scores\n",
        "        example: ['Model A', 'Model B']\n",
        "    k_range: list\n",
        "        list or array identifying all k values in order\n",
        "        example: [1,2,3,4,5,6,7,8,9,10]\n",
        "    Returns:\n",
        "    -------\n",
        "        A mar@k plot\n",
        "    \"\"\"\n",
        "    #create palette\n",
        "    recommender_palette = [\"#ED2BFF\", \"#14E2C0\", \"#FF9F1C\", \"#5E2BFF\",\"#FC5FA3\"]\n",
        "    sns.set_palette(recommender_palette)\n",
        "\n",
        "    #lineplot\n",
        "    mark_df = pd.DataFrame(np.column_stack(mark_scores), k_range, columns=model_names)\n",
        "    ax = sns.lineplot(data=mark_df)\n",
        "    plt.xticks(k_range)\n",
        "    plt.setp(ax.lines,linewidth=5)\n",
        "\n",
        "    #set labels\n",
        "    ax.set_title('Mean Average Recall at K (MAR@K) Comparison')\n",
        "    ax.set_ylabel('MAR@K')\n",
        "    ax.set_xlabel('K')\n",
        "\n",
        "    plt.show()\n",
        "\n",
        "mark_plot([[0.17, 0.25, 0.76],[0.2, 0.5, 0.74]],\n",
        "          ['Model A', 'Model B'],\n",
        "          [1,2,3])"
      ],
      "execution_count": 60,
      "outputs": [
        {
          "output_type": "display_data",
          "data": {
            "image/png": "[encoded data removed]",
            "text/plain": [
              "<Figure size 432x288 with 1 Axes>"
            ]
          },
          "metadata": {
            "tags": [],
            "needs_background": "light"
          }
        }
      ]
    },
    {
      "cell_type": "code",
      "metadata": {
        "colab": {
          "base_uri": "https://localhost:8080/",
          "height": 295
        },
        "id": "BzIOESJ-xDrF",
        "outputId": "b5c0fe40-aebc-404c-8fd7-865470a7c5ec"
      },
      "source": [
        "def mapk_plot(mapk_scores, model_names, k_range):\n",
        "    \"\"\"\n",
        "    Plots the mean average precision at k for a set of models to compare.\n",
        "    ----------\n",
        "    mapk_scores: list of lists\n",
        "        list of list of map@k scores over k. This lis is in same order as model_names\n",
        "        example: [[0.17, 0.25, 0.76],[0.2, 0.5, 0.74]]\n",
        "    model_names: list\n",
        "        list of model names in same order as coverage_scores\n",
        "        example: ['Model A', 'Model B']\n",
        "    k_range: list\n",
        "        list or array indeitifying all k values in order\n",
        "        example: [1,2,3,4,5,6,7,8,9,10]\n",
        "    Returns:\n",
        "    -------\n",
        "        A map@k plot\n",
        "    \"\"\"\n",
        "    #create palette\n",
        "    recommender_palette = [\"#ED2BFF\", \"#14E2C0\", \"#FF9F1C\", \"#5E2BFF\",\"#FC5FA3\"]\n",
        "    sns.set_palette(recommender_palette)\n",
        "\n",
        "    #lineplot\n",
        "    mapk_df = pd.DataFrame(np.column_stack(mapk_scores), k_range, columns=model_names)\n",
        "    ax = sns.lineplot(data=mapk_df)\n",
        "    plt.xticks(k_range)\n",
        "    plt.setp(ax.lines,linewidth=5)\n",
        "\n",
        "    #set labels\n",
        "    ax.set_title('Mean Average Precision at K (MAP@K) Comparison')\n",
        "    ax.set_ylabel('MAP@K')\n",
        "    ax.set_xlabel('K')\n",
        "    plt.show()\n",
        "\n",
        "mapk_plot([[0.17, 0.25, 0.76],[0.2, 0.5, 0.74]],\n",
        "          ['Model A', 'Model B'],\n",
        "          [1,2,3])"
      ],
      "execution_count": 61,
      "outputs": [
        {
          "output_type": "display_data",
          "data": {
            "image/png": "[encoded data removed]",
            "text/plain": [
              "<Figure size 432x288 with 1 Axes>"
            ]
          },
          "metadata": {
            "tags": [],
            "needs_background": "light"
          }
        }
      ]
    },
    {
      "cell_type": "code",
      "metadata": {
        "id": "OGVO2oRgEv0U"
      },
      "source": [
        "def roc_plot(actual, model_probs, model_names, figsize=(10,10)):\n",
        "    \"\"\"\n",
        "    Receiver Operating Characteristic Plot. Can plot multiple models.\n",
        "    ----------\n",
        "    actual: array of dataframe of true classes assignements.\n",
        "        example:\n",
        "        [1,1,0,1,0]\n",
        "    model_probs: list of arrays\n",
        "        a list containing classification probabilites for each model in order.\n",
        "        example:\n",
        "        model_probs = [class_probs_1, class_probs_2]\n",
        "    model_names: list of strings\n",
        "        a list containing names for each model in order.\n",
        "        example:\n",
        "        model_names = [\"GBT\", \"Logistic Regression\"]\n",
        "    figsize: size of figure\n",
        "    Returns:\n",
        "    -------\n",
        "        Receiver Operating Characteristic Plot with AUC in the legend.\n",
        "    \"\"\"\n",
        "    model_names = make_listy(model_names)\n",
        "    if not is_listy(model_probs): model_probs = [model_probs]\n",
        "\n",
        "    if len(model_names) > 5:\n",
        "        return ValueError(\"Can only compare 5 models or less.\")\n",
        "\n",
        "    colors = [\"#ED2BFF\", \"#14E2C0\", \"#FF9F1C\", \"#5E2BFF\",\"#FC5FA3\"]\n",
        "\n",
        "    for m in range(len(model_names)):\n",
        "        fpr, tpr, _ = roc_curve(actual, model_probs[m])\n",
        "        roc_auc = auc(fpr, tpr)\n",
        "        ax = sns.lineplot(x=fpr,\n",
        "                          y=tpr,\n",
        "                          lw=2,\n",
        "                          color=colors[m],\n",
        "                          label = model_names[m] + ' AUC = %0.4f' % roc_auc)\n",
        "    \n",
        "    ax.plot([0, 1], [0, 1], 'r--')\n",
        "    ax.set_title('Receiver Operating Characteristic Plot')\n",
        "    ax.set_ylabel('True Positive Rate')\n",
        "    ax.set_xlabel('False Positive Rate')\n",
        "    \n",
        "    plt.show()\n",
        "\n",
        "\n",
        "def precision_recall_plot(targs, preds, figsize=(6,6)):\n",
        "    \"\"\"\n",
        "    Plots the precision recall curve\n",
        "    ----------\n",
        "    targs: array-like true class labels\n",
        "    preds: array-like predicted probabilities\n",
        "    figsize: size of figure\n",
        "    Returns:\n",
        "    -------\n",
        "        A precision and recall curve\n",
        "    \"\"\"\n",
        "    average_precision = average_precision_score(targs, preds)\n",
        "    precision, recall, _ = precision_recall_curve(targs, preds)\n",
        "    plt.figure(figsize=figsize)\n",
        "    step_kwargs = ({'step': 'post'}\n",
        "                   if 'step' in signature(plt.fill_between).parameters\n",
        "                   else {})\n",
        "    plt.step(recall, precision, color='b', alpha=0.2,\n",
        "             where='post')\n",
        "    plt.fill_between(recall, precision, alpha=0.2, color='b', **step_kwargs)\n",
        "\n",
        "    plt.xlabel('Recall')\n",
        "    plt.ylabel('Precision')\n",
        "    plt.ylim([0.0, 1.05])\n",
        "    plt.xlim([0.0, 1.0])\n",
        "    plt.title('2-class Precision-Recall curve: AP={0:0.2f}'.format(\n",
        "        average_precision))\n",
        "    plt.show()\n",
        "\n",
        "\n",
        "def make_listy(p):\n",
        "    if isinstance(p, str): return [p]\n",
        "    try:\n",
        "        _ = iter(p)\n",
        "    except TypeError:\n",
        "        p = [p]\n",
        "    return p\n",
        "\n",
        "\n",
        "def is_listy(x): return isinstance(x, (tuple,list))\n",
        "\n",
        "def metrics_plot(model_names, metric_names, scores):\n",
        "    fig = go.Figure()\n",
        "    for model_name, *vals in zip(model_names, *scores):\n",
        "        fig.add_trace(go.Scatterpolar(\n",
        "              r=vals,\n",
        "              theta=metric_names,\n",
        "              fill='tonext',\n",
        "              name=model_name\n",
        "        ))\n",
        "    fig.update_layout(\n",
        "      polar=dict(\n",
        "        radialaxis=dict(\n",
        "          visible=True,\n",
        "          range=[0, 100]\n",
        "        )),\n",
        "      showlegend=True\n",
        "    )\n",
        "    fig.show()"
      ],
      "execution_count": 96,
      "outputs": []
    },
    {
      "cell_type": "code",
      "metadata": {
        "colab": {
          "base_uri": "https://localhost:8080/",
          "height": 542
        },
        "id": "b6lNnb7f4uii",
        "outputId": "eb4370e0-efc9-413c-d131-f738445e092d"
      },
      "source": [
        "metrics_plot(['Model A', 'Model B', 'Model C'],\n",
        "             ['Coverage','Personalization','Diversity'],\n",
        "             [[17, 25, 76],\n",
        "              [43, 23, 44],\n",
        "              [23, 21, 69]])"
      ],
      "execution_count": 98,
      "outputs": [
        {
          "output_type": "display_data",
          "data": {
            "text/html": [
              "<html>\n",
              "<head><meta charset=\"utf-8\" /></head>\n",
              "<body>\n",
              "    <div>\n",
              "            <script src=\"https://cdnjs.cloudflare.com/ajax/libs/mathjax/2.7.5/MathJax.js?config=TeX-AMS-MML_SVG\"></script><script type=\"text/javascript\">if (window.MathJax) {MathJax.Hub.Config({SVG: {font: \"STIX-Web\"}});}</script>\n",
              "                <script type=\"text/javascript\">window.PlotlyConfig = {MathJaxConfig: 'local'};</script>\n",
              "        <script src=\"https://cdn.plot.ly/plotly-latest.min.js\"></script>    \n",
              "            <div id=\"9a2c560b-8f46-4b94-94c9-a1a2a793d222\" class=\"plotly-graph-div\" style=\"height:525px; width:100%;\"></div>\n",
              "            <script type=\"text/javascript\">\n",
              "                \n",
              "                    window.PLOTLYENV=window.PLOTLYENV || {};\n",
              "                    \n",
              "                if (document.getElementById(\"9a2c560b-8f46-4b94-94c9-a1a2a793d222\")) {\n",
              "                    Plotly.newPlot(\n",
              "                        '9a2c560b-8f46-4b94-94c9-a1a2a793d222',\n",
              "                        [{\"fill\": \"tonext\", \"name\": \"Model A\", \"r\": [17, 43, 23], \"theta\": [\"Coverage\", \"Personalization\", \"Diversity\"], \"type\": \"scatterpolar\"}, {\"fill\": \"tonext\", \"name\": \"Model B\", \"r\": [25, 23, 21], \"theta\": [\"Coverage\", \"Personalization\", \"Diversity\"], \"type\": \"scatterpolar\"}, {\"fill\": \"tonext\", \"name\": \"Model C\", \"r\": [76, 44, 69], \"theta\": [\"Coverage\", \"Personalization\", \"Diversity\"], \"type\": \"scatterpolar\"}],\n",
              "                        {\"polar\": {\"radialaxis\": {\"range\": [0, 100], \"visible\": true}}, \"showlegend\": true, \"template\": {\"data\": {\"bar\": [{\"error_x\": {\"color\": \"#2a3f5f\"}, \"error_y\": {\"color\": \"#2a3f5f\"}, \"marker\": {\"line\": {\"color\": \"#E5ECF6\", \"width\": 0.5}}, \"type\": \"bar\"}], \"barpolar\": [{\"marker\": {\"line\": {\"color\": \"#E5ECF6\", \"width\": 0.5}}, \"type\": \"barpolar\"}], \"carpet\": [{\"aaxis\": {\"endlinecolor\": \"#2a3f5f\", \"gridcolor\": \"white\", \"linecolor\": \"white\", \"minorgridcolor\": \"white\", \"startlinecolor\": \"#2a3f5f\"}, \"baxis\": {\"endlinecolor\": \"#2a3f5f\", \"gridcolor\": \"white\", \"linecolor\": \"white\", \"minorgridcolor\": \"white\", \"startlinecolor\": \"#2a3f5f\"}, \"type\": \"carpet\"}], \"choropleth\": [{\"colorbar\": {\"outlinewidth\": 0, \"ticks\": \"\"}, \"type\": \"choropleth\"}], \"contour\": [{\"colorbar\": {\"outlinewidth\": 0, \"ticks\": \"\"}, \"colorscale\": [[0.0, \"#0d0887\"], [0.1111111111111111, \"#46039f\"], [0.2222222222222222, \"#7201a8\"], [0.3333333333333333, \"#9c179e\"], [0.4444444444444444, \"#bd3786\"], [0.5555555555555556, \"#d8576b\"], [0.6666666666666666, \"#ed7953\"], [0.7777777777777778, \"#fb9f3a\"], [0.8888888888888888, \"#fdca26\"], [1.0, \"#f0f921\"]], \"type\": \"contour\"}], \"contourcarpet\": [{\"colorbar\": {\"outlinewidth\": 0, \"ticks\": \"\"}, \"type\": \"contourcarpet\"}], \"heatmap\": [{\"colorbar\": {\"outlinewidth\": 0, \"ticks\": \"\"}, \"colorscale\": [[0.0, \"#0d0887\"], [0.1111111111111111, \"#46039f\"], [0.2222222222222222, \"#7201a8\"], [0.3333333333333333, \"#9c179e\"], [0.4444444444444444, \"#bd3786\"], [0.5555555555555556, \"#d8576b\"], [0.6666666666666666, \"#ed7953\"], [0.7777777777777778, \"#fb9f3a\"], [0.8888888888888888, \"#fdca26\"], [1.0, \"#f0f921\"]], \"type\": \"heatmap\"}], \"heatmapgl\": [{\"colorbar\": {\"outlinewidth\": 0, \"ticks\": \"\"}, \"colorscale\": [[0.0, \"#0d0887\"], [0.1111111111111111, \"#46039f\"], [0.2222222222222222, \"#7201a8\"], [0.3333333333333333, \"#9c179e\"], [0.4444444444444444, \"#bd3786\"], [0.5555555555555556, \"#d8576b\"], [0.6666666666666666, \"#ed7953\"], [0.7777777777777778, \"#fb9f3a\"], [0.8888888888888888, \"#fdca26\"], [1.0, \"#f0f921\"]], \"type\": \"heatmapgl\"}], \"histogram\": [{\"marker\": {\"colorbar\": {\"outlinewidth\": 0, \"ticks\": \"\"}}, \"type\": \"histogram\"}], \"histogram2d\": [{\"colorbar\": {\"outlinewidth\": 0, \"ticks\": \"\"}, \"colorscale\": [[0.0, \"#0d0887\"], [0.1111111111111111, \"#46039f\"], [0.2222222222222222, \"#7201a8\"], [0.3333333333333333, \"#9c179e\"], [0.4444444444444444, \"#bd3786\"], [0.5555555555555556, \"#d8576b\"], [0.6666666666666666, \"#ed7953\"], [0.7777777777777778, \"#fb9f3a\"], [0.8888888888888888, \"#fdca26\"], [1.0, \"#f0f921\"]], \"type\": \"histogram2d\"}], \"histogram2dcontour\": [{\"colorbar\": {\"outlinewidth\": 0, \"ticks\": \"\"}, \"colorscale\": [[0.0, \"#0d0887\"], [0.1111111111111111, \"#46039f\"], [0.2222222222222222, \"#7201a8\"], [0.3333333333333333, \"#9c179e\"], [0.4444444444444444, \"#bd3786\"], [0.5555555555555556, \"#d8576b\"], [0.6666666666666666, \"#ed7953\"], [0.7777777777777778, \"#fb9f3a\"], [0.8888888888888888, \"#fdca26\"], [1.0, \"#f0f921\"]], \"type\": \"histogram2dcontour\"}], \"mesh3d\": [{\"colorbar\": {\"outlinewidth\": 0, \"ticks\": \"\"}, \"type\": \"mesh3d\"}], \"parcoords\": [{\"line\": {\"colorbar\": {\"outlinewidth\": 0, \"ticks\": \"\"}}, \"type\": \"parcoords\"}], \"pie\": [{\"automargin\": true, \"type\": \"pie\"}], \"scatter\": [{\"marker\": {\"colorbar\": {\"outlinewidth\": 0, \"ticks\": \"\"}}, \"type\": \"scatter\"}], \"scatter3d\": [{\"line\": {\"colorbar\": {\"outlinewidth\": 0, \"ticks\": \"\"}}, \"marker\": {\"colorbar\": {\"outlinewidth\": 0, \"ticks\": \"\"}}, \"type\": \"scatter3d\"}], \"scattercarpet\": [{\"marker\": {\"colorbar\": {\"outlinewidth\": 0, \"ticks\": \"\"}}, \"type\": \"scattercarpet\"}], \"scattergeo\": [{\"marker\": {\"colorbar\": {\"outlinewidth\": 0, \"ticks\": \"\"}}, \"type\": \"scattergeo\"}], \"scattergl\": [{\"marker\": {\"colorbar\": {\"outlinewidth\": 0, \"ticks\": \"\"}}, \"type\": \"scattergl\"}], \"scattermapbox\": [{\"marker\": {\"colorbar\": {\"outlinewidth\": 0, \"ticks\": \"\"}}, \"type\": \"scattermapbox\"}], \"scatterpolar\": [{\"marker\": {\"colorbar\": {\"outlinewidth\": 0, \"ticks\": \"\"}}, \"type\": \"scatterpolar\"}], \"scatterpolargl\": [{\"marker\": {\"colorbar\": {\"outlinewidth\": 0, \"ticks\": \"\"}}, \"type\": \"scatterpolargl\"}], \"scatterternary\": [{\"marker\": {\"colorbar\": {\"outlinewidth\": 0, \"ticks\": \"\"}}, \"type\": \"scatterternary\"}], \"surface\": [{\"colorbar\": {\"outlinewidth\": 0, \"ticks\": \"\"}, \"colorscale\": [[0.0, \"#0d0887\"], [0.1111111111111111, \"#46039f\"], [0.2222222222222222, \"#7201a8\"], [0.3333333333333333, \"#9c179e\"], [0.4444444444444444, \"#bd3786\"], [0.5555555555555556, \"#d8576b\"], [0.6666666666666666, \"#ed7953\"], [0.7777777777777778, \"#fb9f3a\"], [0.8888888888888888, \"#fdca26\"], [1.0, \"#f0f921\"]], \"type\": \"surface\"}], \"table\": [{\"cells\": {\"fill\": {\"color\": \"#EBF0F8\"}, \"line\": {\"color\": \"white\"}}, \"header\": {\"fill\": {\"color\": \"#C8D4E3\"}, \"line\": {\"color\": \"white\"}}, \"type\": \"table\"}]}, \"layout\": {\"annotationdefaults\": {\"arrowcolor\": \"#2a3f5f\", \"arrowhead\": 0, \"arrowwidth\": 1}, \"coloraxis\": {\"colorbar\": {\"outlinewidth\": 0, \"ticks\": \"\"}}, \"colorscale\": {\"diverging\": [[0, \"#8e0152\"], [0.1, \"#c51b7d\"], [0.2, \"#de77ae\"], [0.3, \"#f1b6da\"], [0.4, \"#fde0ef\"], [0.5, \"#f7f7f7\"], [0.6, \"#e6f5d0\"], [0.7, \"#b8e186\"], [0.8, \"#7fbc41\"], [0.9, \"#4d9221\"], [1, \"#276419\"]], \"sequential\": [[0.0, \"#0d0887\"], [0.1111111111111111, \"#46039f\"], [0.2222222222222222, \"#7201a8\"], [0.3333333333333333, \"#9c179e\"], [0.4444444444444444, \"#bd3786\"], [0.5555555555555556, \"#d8576b\"], [0.6666666666666666, \"#ed7953\"], [0.7777777777777778, \"#fb9f3a\"], [0.8888888888888888, \"#fdca26\"], [1.0, \"#f0f921\"]], \"sequentialminus\": [[0.0, \"#0d0887\"], [0.1111111111111111, \"#46039f\"], [0.2222222222222222, \"#7201a8\"], [0.3333333333333333, \"#9c179e\"], [0.4444444444444444, \"#bd3786\"], [0.5555555555555556, \"#d8576b\"], [0.6666666666666666, \"#ed7953\"], [0.7777777777777778, \"#fb9f3a\"], [0.8888888888888888, \"#fdca26\"], [1.0, \"#f0f921\"]]}, \"colorway\": [\"#636efa\", \"#EF553B\", \"#00cc96\", \"#ab63fa\", \"#FFA15A\", \"#19d3f3\", \"#FF6692\", \"#B6E880\", \"#FF97FF\", \"#FECB52\"], \"font\": {\"color\": \"#2a3f5f\"}, \"geo\": {\"bgcolor\": \"white\", \"lakecolor\": \"white\", \"landcolor\": \"#E5ECF6\", \"showlakes\": true, \"showland\": true, \"subunitcolor\": \"white\"}, \"hoverlabel\": {\"align\": \"left\"}, \"hovermode\": \"closest\", \"mapbox\": {\"style\": \"light\"}, \"paper_bgcolor\": \"white\", \"plot_bgcolor\": \"#E5ECF6\", \"polar\": {\"angularaxis\": {\"gridcolor\": \"white\", \"linecolor\": \"white\", \"ticks\": \"\"}, \"bgcolor\": \"#E5ECF6\", \"radialaxis\": {\"gridcolor\": \"white\", \"linecolor\": \"white\", \"ticks\": \"\"}}, \"scene\": {\"xaxis\": {\"backgroundcolor\": \"#E5ECF6\", \"gridcolor\": \"white\", \"gridwidth\": 2, \"linecolor\": \"white\", \"showbackground\": true, \"ticks\": \"\", \"zerolinecolor\": \"white\"}, \"yaxis\": {\"backgroundcolor\": \"#E5ECF6\", \"gridcolor\": \"white\", \"gridwidth\": 2, \"linecolor\": \"white\", \"showbackground\": true, \"ticks\": \"\", \"zerolinecolor\": \"white\"}, \"zaxis\": {\"backgroundcolor\": \"#E5ECF6\", \"gridcolor\": \"white\", \"gridwidth\": 2, \"linecolor\": \"white\", \"showbackground\": true, \"ticks\": \"\", \"zerolinecolor\": \"white\"}}, \"shapedefaults\": {\"line\": {\"color\": \"#2a3f5f\"}}, \"ternary\": {\"aaxis\": {\"gridcolor\": \"white\", \"linecolor\": \"white\", \"ticks\": \"\"}, \"baxis\": {\"gridcolor\": \"white\", \"linecolor\": \"white\", \"ticks\": \"\"}, \"bgcolor\": \"#E5ECF6\", \"caxis\": {\"gridcolor\": \"white\", \"linecolor\": \"white\", \"ticks\": \"\"}}, \"title\": {\"x\": 0.05}, \"xaxis\": {\"automargin\": true, \"gridcolor\": \"white\", \"linecolor\": \"white\", \"ticks\": \"\", \"title\": {\"standoff\": 15}, \"zerolinecolor\": \"white\", \"zerolinewidth\": 2}, \"yaxis\": {\"automargin\": true, \"gridcolor\": \"white\", \"linecolor\": \"white\", \"ticks\": \"\", \"title\": {\"standoff\": 15}, \"zerolinecolor\": \"white\", \"zerolinewidth\": 2}}}},\n",
              "                        {\"responsive\": true}\n",
              "                    ).then(function(){\n",
              "                            \n",
              "var gd = document.getElementById('9a2c560b-8f46-4b94-94c9-a1a2a793d222');\n",
              "var x = new MutationObserver(function (mutations, observer) {{\n",
              "        var display = window.getComputedStyle(gd).display;\n",
              "        if (!display || display === 'none') {{\n",
              "            console.log([gd, 'removed!']);\n",
              "            Plotly.purge(gd);\n",
              "            observer.disconnect();\n",
              "        }}\n",
              "}});\n",
              "\n",
              "// Listen for the removal of the full notebook cells\n",
              "var notebookContainer = gd.closest('#notebook-container');\n",
              "if (notebookContainer) {{\n",
              "    x.observe(notebookContainer, {childList: true});\n",
              "}}\n",
              "\n",
              "// Listen for the clearing of the current output cell\n",
              "var outputEl = gd.closest('.output');\n",
              "if (outputEl) {{\n",
              "    x.observe(outputEl, {childList: true});\n",
              "}}\n",
              "\n",
              "                        })\n",
              "                };\n",
              "                \n",
              "            </script>\n",
              "        </div>\n",
              "</body>\n",
              "</html>"
            ]
          },
          "metadata": {
            "tags": []
          }
        }
      ]
    },
    {
      "cell_type": "code",
      "metadata": {
        "colab": {
          "base_uri": "https://localhost:8080/"
        },
        "id": "U0vu6QhyE-_4",
        "outputId": "e026870c-2393-4b2c-ae8c-976cb898582b"
      },
      "source": [
        "!pip install -q git+https://github.com/sparsh-ai/recochef.git"
      ],
      "execution_count": null,
      "outputs": [
        {
          "output_type": "stream",
          "text": [
            "  Installing build dependencies ... \u001b[?25l\u001b[?25hdone\n",
            "  Getting requirements to build wheel ... \u001b[?25l\u001b[?25hdone\n",
            "    Preparing wheel metadata ... \u001b[?25l\u001b[?25hdone\n",
            "\u001b[K     |████████████████████████████████| 4.3MB 9.3MB/s \n",
            "\u001b[?25h  Building wheel for recochef (PEP 517) ... \u001b[?25l\u001b[?25hdone\n"
          ],
          "name": "stdout"
        }
      ]
    },
    {
      "cell_type": "code",
      "metadata": {
        "colab": {
          "base_uri": "https://localhost:8080/",
          "height": 204
        },
        "id": "2b_EI2rUFIn4",
        "outputId": "5dc8f0a1-a706-41c5-e4d6-d9d0f5e8fff3"
      },
      "source": [
        "from recochef.datasets.movielens import MovieLens\n",
        "data = MovieLens()\n",
        "ratings = data.load_interactions()\n",
        "ratings.head()"
      ],
      "execution_count": null,
      "outputs": [
        {
          "output_type": "execute_result",
          "data": {
            "text/html": [
              "<div>\n",
              "<style scoped>\n",
              "    .dataframe tbody tr th:only-of-type {\n",
              "        vertical-align: middle;\n",
              "    }\n",
              "\n",
              "    .dataframe tbody tr th {\n",
              "        vertical-align: top;\n",
              "    }\n",
              "\n",
              "    .dataframe thead th {\n",
              "        text-align: right;\n",
              "    }\n",
              "</style>\n",
              "<table border=\"1\" class=\"dataframe\">\n",
              "  <thead>\n",
              "    <tr style=\"text-align: right;\">\n",
              "      <th></th>\n",
              "      <th>USERID</th>\n",
              "      <th>ITEMID</th>\n",
              "      <th>RATING</th>\n",
              "      <th>TIMESTAMP</th>\n",
              "    </tr>\n",
              "  </thead>\n",
              "  <tbody>\n",
              "    <tr>\n",
              "      <th>0</th>\n",
              "      <td>196</td>\n",
              "      <td>242</td>\n",
              "      <td>3.0</td>\n",
              "      <td>881250949</td>\n",
              "    </tr>\n",
              "    <tr>\n",
              "      <th>1</th>\n",
              "      <td>186</td>\n",
              "      <td>302</td>\n",
              "      <td>3.0</td>\n",
              "      <td>891717742</td>\n",
              "    </tr>\n",
              "    <tr>\n",
              "      <th>2</th>\n",
              "      <td>22</td>\n",
              "      <td>377</td>\n",
              "      <td>1.0</td>\n",
              "      <td>878887116</td>\n",
              "    </tr>\n",
              "    <tr>\n",
              "      <th>3</th>\n",
              "      <td>244</td>\n",
              "      <td>51</td>\n",
              "      <td>2.0</td>\n",
              "      <td>880606923</td>\n",
              "    </tr>\n",
              "    <tr>\n",
              "      <th>4</th>\n",
              "      <td>166</td>\n",
              "      <td>346</td>\n",
              "      <td>1.0</td>\n",
              "      <td>886397596</td>\n",
              "    </tr>\n",
              "  </tbody>\n",
              "</table>\n",
              "</div>"
            ],
            "text/plain": [
              "   USERID  ITEMID  RATING  TIMESTAMP\n",
              "0     196     242     3.0  881250949\n",
              "1     186     302     3.0  891717742\n",
              "2      22     377     1.0  878887116\n",
              "3     244      51     2.0  880606923\n",
              "4     166     346     1.0  886397596"
            ]
          },
          "metadata": {
            "tags": []
          },
          "execution_count": 20
        }
      ]
    },
    {
      "cell_type": "code",
      "metadata": {
        "colab": {
          "base_uri": "https://localhost:8080/",
          "height": 440
        },
        "id": "DyTsMTuIEx2l",
        "outputId": "3e174328-3cb0-4d54-b6c5-0e35f58a8060"
      },
      "source": [
        "fig = plt.figure(figsize=(15, 7))\n",
        "long_tail_plot(ratings, 'ITEMID', 'ratings', percentage=0.5, x_labels=False)"
      ],
      "execution_count": null,
      "outputs": [
        {
          "output_type": "display_data",
          "data": {
            "image/png": "[encoded data removed]",
            "text/plain": [
              "<Figure size 1080x504 with 1 Axes>"
            ]
          },
          "metadata": {
            "tags": [],
            "image/png": {
              "width": 891,
              "height": 423
            },
            "needs_background": "light"
          }
        }
      ]
    },
    {
      "cell_type": "code",
      "metadata": {
        "id": "tXYucMPGFu0L"
      },
      "source": [
        "import numpy as np\n",
        "from tqdm import tqdm\n",
        "\n",
        "\n",
        "def sequential_evaluation(recommender,\n",
        "                          test_sequences,\n",
        "                          evaluation_functions,\n",
        "                          users=None,\n",
        "                          given_k=1,\n",
        "                          look_ahead=1,\n",
        "                          top_n=10,\n",
        "                          scroll=True,\n",
        "                          step=1):\n",
        "    \"\"\"\n",
        "    Runs sequential evaluation of a recommender over a set of test sequences\n",
        "    :param recommender: the instance of the recommender to test\n",
        "    :param test_sequences: the set of test sequences\n",
        "    :param evaluation_functions: list of evaluation metric functions\n",
        "    :param users: (optional) the list of user ids associated to each test sequence. Required by personalized models like FPMC.\n",
        "    :param given_k: (optional) the initial size of each user profile, starting from the first interaction in the sequence.\n",
        "                    If <0, start counting from the end of the sequence. It must be != 0.\n",
        "    :param look_ahead: (optional) number of subsequent interactions in the sequence to be considered as ground truth.\n",
        "                    It can be any positive number or 'all' to extend the ground truth until the end of the sequence.\n",
        "    :param top_n: (optional) size of the recommendation list\n",
        "    :param scroll: (optional) whether to scroll the ground truth until the end of the sequence.\n",
        "                If True, expand the user profile and move the ground truth forward of `step` interactions. Recompute and evaluate recommendations every time.\n",
        "                If False, evaluate recommendations once per sequence without expanding the user profile.\n",
        "    :param step: (optional) number of interactions that will be added to the user profile at each step of the sequential evaluation.\n",
        "    :return: the list of the average values for each evaluation metric\n",
        "    \"\"\"\n",
        "    if given_k == 0:\n",
        "        raise ValueError('given_k must be != 0')\n",
        "\n",
        "    metrics = np.zeros(len(evaluation_functions))\n",
        "    with tqdm(total=len(test_sequences)) as pbar:\n",
        "        for i, test_seq in enumerate(test_sequences):\n",
        "            if users is not None:\n",
        "                user = users[i]\n",
        "            else:\n",
        "                user = None\n",
        "            if scroll:\n",
        "                metrics += sequence_sequential_evaluation(recommender,\n",
        "                                                          test_seq,\n",
        "                                                          evaluation_functions,\n",
        "                                                          user,\n",
        "                                                          given_k,\n",
        "                                                          look_ahead,\n",
        "                                                          top_n,\n",
        "                                                          step)\n",
        "            else:\n",
        "                metrics += evaluate_sequence(recommender,\n",
        "                                             test_seq,\n",
        "                                             evaluation_functions,\n",
        "                                             user,\n",
        "                                             given_k,\n",
        "                                             look_ahead,\n",
        "                                             top_n)\n",
        "            pbar.update(1)\n",
        "    return metrics / len(test_sequences)\n",
        "\n",
        "\n",
        "def evaluate_sequence(recommender, seq, evaluation_functions, user, given_k, look_ahead, top_n):\n",
        "    \"\"\"\n",
        "    :param recommender: which recommender to use\n",
        "    :param seq: the user_profile/ context\n",
        "    :param given_k: last element used as ground truth. NB if <0 it is interpreted as first elements to keep\n",
        "    :param evaluation_functions: which function to use to evaluate the rec performance\n",
        "    :param look_ahead: number of elements in ground truth to consider. if look_ahead = 'all' then all the ground_truth sequence is considered\n",
        "    :return: performance of recommender\n",
        "    \"\"\"\n",
        "    # safety checks\n",
        "    if given_k < 0:\n",
        "        given_k = len(seq) + given_k\n",
        "\n",
        "    user_profile = seq[:given_k]\n",
        "    ground_truth = seq[given_k:]\n",
        "\n",
        "    # restrict ground truth to look_ahead\n",
        "    ground_truth = ground_truth[:look_ahead] if look_ahead != 'all' else ground_truth\n",
        "    ground_truth = list(map(lambda x: [x], ground_truth))  # list of list format\n",
        "\n",
        "    if not user_profile or not ground_truth:\n",
        "        # if any of the two missing all evaluation functions are 0\n",
        "        return np.zeros(len(evaluation_functions))\n",
        "\n",
        "    r = recommender.recommend(user_profile, user)[:top_n]\n",
        "\n",
        "    if not r:\n",
        "        # no recommendation found\n",
        "        return np.zeros(len(evaluation_functions))\n",
        "    reco_list = recommender.get_recommendation_list(r)\n",
        "\n",
        "    tmp_results = []\n",
        "    for f in evaluation_functions:\n",
        "        tmp_results.append(f(ground_truth, reco_list))\n",
        "    return np.array(tmp_results)\n",
        "\n",
        "\n",
        "def sequence_sequential_evaluation(recommender, seq, evaluation_functions, user, given_k, look_ahead, top_n, step):\n",
        "    if given_k < 0:\n",
        "        given_k = len(seq) + given_k\n",
        "\n",
        "    eval_res = 0.0\n",
        "    eval_cnt = 0\n",
        "    for gk in range(given_k, len(seq), step):\n",
        "        eval_res += evaluate_sequence(recommender, seq, evaluation_functions, user, gk, look_ahead, top_n)\n",
        "        eval_cnt += 1\n",
        "    return eval_res / eval_cnt"
      ],
      "execution_count": null,
      "outputs": []
    },
    {
      "cell_type": "code",
      "metadata": {
        "id": "a27WEBbPKNPL"
      },
      "source": [
        "import random\n",
        "\n",
        "from scipy.sparse import find\n",
        "\n",
        "\n",
        "def random_holdout(dataset, perc=0.8, seed=1234):\n",
        "    \"\"\"\n",
        "    Split sequence dataset randomly\n",
        "    :param dataset: the sequence dataset\n",
        "    :param perc: the training percentange\n",
        "    :param seed: the random seed\n",
        "    :return: the training and test splits\n",
        "    \"\"\"\n",
        "    dataset = dataset.sample(frac=1, random_state=seed)\n",
        "    nseqs = len(dataset)\n",
        "    train_size = int(nseqs * perc)\n",
        "    # split data according to the shuffled index and the holdout size\n",
        "    train_split = dataset[:train_size]\n",
        "    test_split = dataset[train_size:]\n",
        "\n",
        "    return train_split, test_split\n",
        "\n",
        "\n",
        "def temporal_holdout(dataset, ts_threshold):\n",
        "    \"\"\"\n",
        "    Split sequence dataset using timestamps\n",
        "    :param dataset: the sequence dataset\n",
        "    :param ts_threshold: the timestamp from which test sequences will start\n",
        "    :return: the training and test splits\n",
        "    \"\"\"\n",
        "    train = dataset.loc[dataset['ts'] < ts_threshold]\n",
        "    test = dataset.loc[dataset['ts'] >= ts_threshold]\n",
        "    train, test = clean_split(train, test)\n",
        "\n",
        "    return train, test\n",
        "\n",
        "\n",
        "def last_session_out_split(data,\n",
        "                           user_key='user_id',\n",
        "                           session_key='session_id',\n",
        "                           time_key='ts'):\n",
        "    \"\"\"\n",
        "    Assign the last session of every user to the test set and the remaining ones to the training set\n",
        "    \"\"\"\n",
        "    sessions = data.sort_values(by=[user_key, time_key]).groupby(user_key)[session_key]\n",
        "    last_session = sessions.last()\n",
        "    train = data[~data.session_id.isin(last_session.values)].copy()\n",
        "    test = data[data.session_id.isin(last_session.values)].copy()\n",
        "    train, test = clean_split(train, test)\n",
        "    return train, test\n",
        "\n",
        "\n",
        "def clean_split(train, test):\n",
        "    \"\"\"\n",
        "    Remove new items from the test set.\n",
        "    :param train: The training set.\n",
        "    :param test: The test set.\n",
        "    :return: The cleaned training and test sets.\n",
        "    \"\"\"\n",
        "    train_items = set()\n",
        "    train['sequence'].apply(lambda seq: train_items.update(set(seq)))\n",
        "    test['sequence'] = test['sequence'].apply(lambda seq: [it for it in seq if it in train_items])\n",
        "    return train, test\n",
        "\n",
        "\n",
        "def balance_dataset(x, y):\n",
        "    number_of_elements = y.shape[0]\n",
        "    nnz = set(find(y)[0])\n",
        "    zero = set(range(number_of_elements)).difference(nnz)\n",
        "\n",
        "    max_samples = min(len(zero), len(nnz))\n",
        "\n",
        "    nnz_indices = random.sample(nnz, max_samples)\n",
        "    zero_indeces = random.sample(zero, max_samples)\n",
        "    indeces = nnz_indices + zero_indeces\n",
        "\n",
        "    return x[indeces, :], y[indeces, :]"
      ],
      "execution_count": null,
      "outputs": []
    },
    {
      "cell_type": "code",
      "metadata": {
        "id": "-Vy2UQ_XKNLF"
      },
      "source": [
        ""
      ],
      "execution_count": null,
      "outputs": []
    },
    {
      "cell_type": "code",
      "metadata": {
        "id": "BBu7udd2KNFg"
      },
      "source": [
        ""
      ],
      "execution_count": null,
      "outputs": []
    }
  ]
}