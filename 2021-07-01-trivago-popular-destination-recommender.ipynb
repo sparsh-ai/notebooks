{
  "nbformat": 4,
  "nbformat_minor": 0,
  "metadata": {
    "colab": {
      "name": "Untitled",
      "provenance": [],
      "authorship_tag": "ABX9TyNuNKiwurStect5tlFX33Ma"
    },
    "kernelspec": {
      "name": "python3",
      "display_name": "Python 3"
    },
    "language_info": {
      "name": "python"
    }
  },
  "cells": [
    {
      "cell_type": "markdown",
      "metadata": {
        "id": "VGKjc2Bda-Qn"
      },
      "source": [
        "# Trivago Popular Destination Recommender\n",
        "> Using Recsys 2019 challange Trivago travel dataset to build popularity based model and recommending popular most clicked destinations to the users\n",
        "\n",
        "- toc: true\n",
        "- badges: true\n",
        "- comments: true\n",
        "- categories: [Trivago, Popularity, Travel]\n",
        "- image:"
      ]
    },
    {
      "cell_type": "markdown",
      "metadata": {
        "id": "l2Tn8P3LWLII"
      },
      "source": [
        "## Setup"
      ]
    },
    {
      "cell_type": "code",
      "metadata": {
        "colab": {
          "base_uri": "https://localhost:8080/"
        },
        "id": "69ynq4AbT8sc",
        "outputId": "f48b1fc5-f427-4e06-e418-58a60b6a9ec0"
      },
      "source": [
        "!pip install -q git+https://github.com/sparsh-ai/recochef.git"
      ],
      "execution_count": 1,
      "outputs": [
        {
          "output_type": "stream",
          "text": [
            "  Installing build dependencies ... \u001b[?25l\u001b[?25hdone\n",
            "  Getting requirements to build wheel ... \u001b[?25l\u001b[?25hdone\n",
            "    Preparing wheel metadata ... \u001b[?25l\u001b[?25hdone\n",
            "\u001b[K     |████████████████████████████████| 4.3MB 7.5MB/s \n",
            "\u001b[?25h  Building wheel for recochef (PEP 517) ... \u001b[?25l\u001b[?25hdone\n"
          ],
          "name": "stdout"
        }
      ]
    },
    {
      "cell_type": "code",
      "metadata": {
        "id": "yfD8l7n3VqUS"
      },
      "source": [
        "import math\n",
        "import pandas as pd\n",
        "import numpy as np\n",
        "\n",
        "from recochef.datasets.trivago import Trivago"
      ],
      "execution_count": 15,
      "outputs": []
    },
    {
      "cell_type": "markdown",
      "metadata": {
        "id": "u0CbvZnWWMo4"
      },
      "source": [
        "## Data loading"
      ]
    },
    {
      "cell_type": "code",
      "metadata": {
        "id": "tdC6SWFyWHg3"
      },
      "source": [
        "trivago = Trivago()"
      ],
      "execution_count": 16,
      "outputs": []
    },
    {
      "cell_type": "code",
      "metadata": {
        "colab": {
          "base_uri": "https://localhost:8080/",
          "height": 309
        },
        "id": "gMSx11nvV0ua",
        "outputId": "e369a779-3a89-482e-a3c9-12e4ed6af22d"
      },
      "source": [
        "df_train = trivago.load_train()\n",
        "df_train.head()"
      ],
      "execution_count": 17,
      "outputs": [
        {
          "output_type": "execute_result",
          "data": {
            "text/html": [
              "<div>\n",
              "<style scoped>\n",
              "    .dataframe tbody tr th:only-of-type {\n",
              "        vertical-align: middle;\n",
              "    }\n",
              "\n",
              "    .dataframe tbody tr th {\n",
              "        vertical-align: top;\n",
              "    }\n",
              "\n",
              "    .dataframe thead th {\n",
              "        text-align: right;\n",
              "    }\n",
              "</style>\n",
              "<table border=\"1\" class=\"dataframe\">\n",
              "  <thead>\n",
              "    <tr style=\"text-align: right;\">\n",
              "      <th></th>\n",
              "      <th>USERID</th>\n",
              "      <th>SESSIONID</th>\n",
              "      <th>TIMESTAMP</th>\n",
              "      <th>STEP</th>\n",
              "      <th>EVENTTYPE</th>\n",
              "      <th>REFERENCE</th>\n",
              "      <th>PLATFORM</th>\n",
              "      <th>CITY</th>\n",
              "      <th>DEVICE</th>\n",
              "      <th>FILTERS</th>\n",
              "      <th>IMPRESSIONS</th>\n",
              "      <th>PRICES</th>\n",
              "    </tr>\n",
              "  </thead>\n",
              "  <tbody>\n",
              "    <tr>\n",
              "      <th>0</th>\n",
              "      <td>00RL8Z82B2Z1</td>\n",
              "      <td>aff3928535f48</td>\n",
              "      <td>1541037460</td>\n",
              "      <td>1</td>\n",
              "      <td>search for poi</td>\n",
              "      <td>Newtown</td>\n",
              "      <td>AU</td>\n",
              "      <td>Sydney, Australia</td>\n",
              "      <td>mobile</td>\n",
              "      <td>None</td>\n",
              "      <td>None</td>\n",
              "      <td>None</td>\n",
              "    </tr>\n",
              "    <tr>\n",
              "      <th>1</th>\n",
              "      <td>00RL8Z82B2Z1</td>\n",
              "      <td>aff3928535f48</td>\n",
              "      <td>1541037522</td>\n",
              "      <td>2</td>\n",
              "      <td>interaction item image</td>\n",
              "      <td>666856</td>\n",
              "      <td>AU</td>\n",
              "      <td>Sydney, Australia</td>\n",
              "      <td>mobile</td>\n",
              "      <td>None</td>\n",
              "      <td>None</td>\n",
              "      <td>None</td>\n",
              "    </tr>\n",
              "    <tr>\n",
              "      <th>2</th>\n",
              "      <td>00RL8Z82B2Z1</td>\n",
              "      <td>aff3928535f48</td>\n",
              "      <td>1541037522</td>\n",
              "      <td>3</td>\n",
              "      <td>interaction item image</td>\n",
              "      <td>666856</td>\n",
              "      <td>AU</td>\n",
              "      <td>Sydney, Australia</td>\n",
              "      <td>mobile</td>\n",
              "      <td>None</td>\n",
              "      <td>None</td>\n",
              "      <td>None</td>\n",
              "    </tr>\n",
              "    <tr>\n",
              "      <th>3</th>\n",
              "      <td>00RL8Z82B2Z1</td>\n",
              "      <td>aff3928535f48</td>\n",
              "      <td>1541037532</td>\n",
              "      <td>4</td>\n",
              "      <td>interaction item image</td>\n",
              "      <td>666856</td>\n",
              "      <td>AU</td>\n",
              "      <td>Sydney, Australia</td>\n",
              "      <td>mobile</td>\n",
              "      <td>None</td>\n",
              "      <td>None</td>\n",
              "      <td>None</td>\n",
              "    </tr>\n",
              "    <tr>\n",
              "      <th>4</th>\n",
              "      <td>00RL8Z82B2Z1</td>\n",
              "      <td>aff3928535f48</td>\n",
              "      <td>1541037532</td>\n",
              "      <td>5</td>\n",
              "      <td>interaction item image</td>\n",
              "      <td>109038</td>\n",
              "      <td>AU</td>\n",
              "      <td>Sydney, Australia</td>\n",
              "      <td>mobile</td>\n",
              "      <td>None</td>\n",
              "      <td>None</td>\n",
              "      <td>None</td>\n",
              "    </tr>\n",
              "  </tbody>\n",
              "</table>\n",
              "</div>"
            ],
            "text/plain": [
              "         USERID      SESSIONID   TIMESTAMP  ...  FILTERS IMPRESSIONS PRICES\n",
              "0  00RL8Z82B2Z1  aff3928535f48  1541037460  ...     None        None   None\n",
              "1  00RL8Z82B2Z1  aff3928535f48  1541037522  ...     None        None   None\n",
              "2  00RL8Z82B2Z1  aff3928535f48  1541037522  ...     None        None   None\n",
              "3  00RL8Z82B2Z1  aff3928535f48  1541037532  ...     None        None   None\n",
              "4  00RL8Z82B2Z1  aff3928535f48  1541037532  ...     None        None   None\n",
              "\n",
              "[5 rows x 12 columns]"
            ]
          },
          "metadata": {
            "tags": []
          },
          "execution_count": 17
        }
      ]
    },
    {
      "cell_type": "code",
      "metadata": {
        "colab": {
          "base_uri": "https://localhost:8080/",
          "height": 394
        },
        "id": "R6swP2ZlWOgO",
        "outputId": "c09e3785-23ad-4add-e8b6-efb6bde76c5b"
      },
      "source": [
        "df_test = trivago.load_test()\n",
        "df_test.head()"
      ],
      "execution_count": 18,
      "outputs": [
        {
          "output_type": "execute_result",
          "data": {
            "text/html": [
              "<div>\n",
              "<style scoped>\n",
              "    .dataframe tbody tr th:only-of-type {\n",
              "        vertical-align: middle;\n",
              "    }\n",
              "\n",
              "    .dataframe tbody tr th {\n",
              "        vertical-align: top;\n",
              "    }\n",
              "\n",
              "    .dataframe thead th {\n",
              "        text-align: right;\n",
              "    }\n",
              "</style>\n",
              "<table border=\"1\" class=\"dataframe\">\n",
              "  <thead>\n",
              "    <tr style=\"text-align: right;\">\n",
              "      <th></th>\n",
              "      <th>USERID</th>\n",
              "      <th>SESSIONID</th>\n",
              "      <th>TIMESTAMP</th>\n",
              "      <th>STEP</th>\n",
              "      <th>EVENTTYPE</th>\n",
              "      <th>REFERENCE</th>\n",
              "      <th>PLATFORM</th>\n",
              "      <th>CITY</th>\n",
              "      <th>DEVICE</th>\n",
              "      <th>FILTERS</th>\n",
              "      <th>IMPRESSIONS</th>\n",
              "      <th>PRICES</th>\n",
              "    </tr>\n",
              "  </thead>\n",
              "  <tbody>\n",
              "    <tr>\n",
              "      <th>0</th>\n",
              "      <td>004A07DM0IDW</td>\n",
              "      <td>1d688ec168932</td>\n",
              "      <td>1541555614</td>\n",
              "      <td>1</td>\n",
              "      <td>interaction item image</td>\n",
              "      <td>2059240</td>\n",
              "      <td>CO</td>\n",
              "      <td>Santa Marta, Colombia</td>\n",
              "      <td>mobile</td>\n",
              "      <td>None</td>\n",
              "      <td>None</td>\n",
              "      <td>None</td>\n",
              "    </tr>\n",
              "    <tr>\n",
              "      <th>1</th>\n",
              "      <td>004A07DM0IDW</td>\n",
              "      <td>1d688ec168932</td>\n",
              "      <td>1541555614</td>\n",
              "      <td>2</td>\n",
              "      <td>interaction item image</td>\n",
              "      <td>2059240</td>\n",
              "      <td>CO</td>\n",
              "      <td>Santa Marta, Colombia</td>\n",
              "      <td>mobile</td>\n",
              "      <td>None</td>\n",
              "      <td>None</td>\n",
              "      <td>None</td>\n",
              "    </tr>\n",
              "    <tr>\n",
              "      <th>2</th>\n",
              "      <td>004A07DM0IDW</td>\n",
              "      <td>1d688ec168932</td>\n",
              "      <td>1541555696</td>\n",
              "      <td>3</td>\n",
              "      <td>clickout item</td>\n",
              "      <td>1050068</td>\n",
              "      <td>CO</td>\n",
              "      <td>Santa Marta, Colombia</td>\n",
              "      <td>mobile</td>\n",
              "      <td>None</td>\n",
              "      <td>2059240|2033381|1724779|127131|399441|103357|1...</td>\n",
              "      <td>70|46|48|76|65|65|106|66|87|43|52|44|60|61|50|...</td>\n",
              "    </tr>\n",
              "    <tr>\n",
              "      <th>3</th>\n",
              "      <td>004A07DM0IDW</td>\n",
              "      <td>1d688ec168932</td>\n",
              "      <td>1541555707</td>\n",
              "      <td>4</td>\n",
              "      <td>clickout item</td>\n",
              "      <td>1050068</td>\n",
              "      <td>CO</td>\n",
              "      <td>Santa Marta, Colombia</td>\n",
              "      <td>mobile</td>\n",
              "      <td>None</td>\n",
              "      <td>2059240|2033381|1724779|127131|399441|103357|1...</td>\n",
              "      <td>70|46|48|76|65|65|106|66|87|43|52|44|60|61|50|...</td>\n",
              "    </tr>\n",
              "    <tr>\n",
              "      <th>4</th>\n",
              "      <td>004A07DM0IDW</td>\n",
              "      <td>1d688ec168932</td>\n",
              "      <td>1541555717</td>\n",
              "      <td>5</td>\n",
              "      <td>clickout item</td>\n",
              "      <td>1050068</td>\n",
              "      <td>CO</td>\n",
              "      <td>Santa Marta, Colombia</td>\n",
              "      <td>mobile</td>\n",
              "      <td>None</td>\n",
              "      <td>2059240|2033381|1724779|127131|399441|103357|1...</td>\n",
              "      <td>70|46|48|76|65|65|106|66|87|43|52|44|60|61|50|...</td>\n",
              "    </tr>\n",
              "  </tbody>\n",
              "</table>\n",
              "</div>"
            ],
            "text/plain": [
              "         USERID  ...                                             PRICES\n",
              "0  004A07DM0IDW  ...                                               None\n",
              "1  004A07DM0IDW  ...                                               None\n",
              "2  004A07DM0IDW  ...  70|46|48|76|65|65|106|66|87|43|52|44|60|61|50|...\n",
              "3  004A07DM0IDW  ...  70|46|48|76|65|65|106|66|87|43|52|44|60|61|50|...\n",
              "4  004A07DM0IDW  ...  70|46|48|76|65|65|106|66|87|43|52|44|60|61|50|...\n",
              "\n",
              "[5 rows x 12 columns]"
            ]
          },
          "metadata": {
            "tags": []
          },
          "execution_count": 18
        }
      ]
    },
    {
      "cell_type": "markdown",
      "metadata": {
        "id": "TDZvN5GHb4HT"
      },
      "source": [
        "## Utilities"
      ]
    },
    {
      "cell_type": "code",
      "metadata": {
        "id": "LnRG_Du0XBoQ"
      },
      "source": [
        "GR_COLS = [\"USERID\", \"SESSIONID\", \"TIMESTAMP\", \"STEP\"]"
      ],
      "execution_count": 19,
      "outputs": []
    },
    {
      "cell_type": "code",
      "metadata": {
        "id": "f8yIXz1tXE3V"
      },
      "source": [
        "def get_submission_target(df):\n",
        "    \"\"\"Identify target rows with missing click outs.\"\"\"\n",
        "\n",
        "    mask = df[\"REFERENCE\"].isnull() & (df[\"EVENTTYPE\"] == \"clickout item\")\n",
        "    df_out = df[mask]\n",
        "\n",
        "    return df_out"
      ],
      "execution_count": 20,
      "outputs": []
    },
    {
      "cell_type": "code",
      "metadata": {
        "id": "jWY4ucZqYv-E"
      },
      "source": [
        "def get_popularity(df):\n",
        "    \"\"\"Get number of clicks that each item received in the df.\"\"\"\n",
        "\n",
        "    mask = df[\"EVENTTYPE\"] == \"clickout item\"\n",
        "    df_clicks = df[mask]\n",
        "    df_item_clicks = (\n",
        "        df_clicks\n",
        "        .groupby(\"REFERENCE\")\n",
        "        .size()\n",
        "        .reset_index(name=\"NCLICKS\")\n",
        "        .transform(lambda x: x.astype(int))\n",
        "    )\n",
        "\n",
        "    return df_item_clicks"
      ],
      "execution_count": 21,
      "outputs": []
    },
    {
      "cell_type": "code",
      "metadata": {
        "id": "9ycY6ZibZB6G"
      },
      "source": [
        "def string_to_array(s):\n",
        "    \"\"\"Convert pipe separated string to array.\"\"\"\n",
        "\n",
        "    if isinstance(s, str):\n",
        "        out = s.split(\"|\")\n",
        "    elif math.isnan(s):\n",
        "        out = []\n",
        "    else:\n",
        "        raise ValueError(\"Value must be either string of nan\")\n",
        "    return out"
      ],
      "execution_count": 22,
      "outputs": []
    },
    {
      "cell_type": "code",
      "metadata": {
        "id": "x2NZTyj-ZJO4"
      },
      "source": [
        "def explode(df_in, col_expl):\n",
        "    \"\"\"Explode column col_expl of array type into multiple rows.\"\"\"\n",
        "\n",
        "    df = df_in.copy()\n",
        "    df.loc[:, col_expl] = df[col_expl].apply(string_to_array)\n",
        "\n",
        "    df_out = pd.DataFrame(\n",
        "        {col: np.repeat(df[col].values,\n",
        "                        df[col_expl].str.len())\n",
        "         for col in df.columns.drop(col_expl)}\n",
        "    )\n",
        "\n",
        "    df_out.loc[:, col_expl] = np.concatenate(df[col_expl].values)\n",
        "    df_out.loc[:, col_expl] = df_out[col_expl].apply(int)\n",
        "\n",
        "    return df_out"
      ],
      "execution_count": 23,
      "outputs": []
    },
    {
      "cell_type": "code",
      "metadata": {
        "id": "SKS19F0jZPp8"
      },
      "source": [
        "def group_concat(df, gr_cols, col_concat):\n",
        "    \"\"\"Concatenate multiple rows into one.\"\"\"\n",
        "\n",
        "    df_out = (\n",
        "        df\n",
        "        .groupby(gr_cols)[col_concat]\n",
        "        .apply(lambda x: ' '.join(x))\n",
        "        .to_frame()\n",
        "        .reset_index()\n",
        "    )\n",
        "\n",
        "    return df_out"
      ],
      "execution_count": 24,
      "outputs": []
    },
    {
      "cell_type": "code",
      "metadata": {
        "id": "ZfhxnNMaVv-g"
      },
      "source": [
        "def calc_recommendation(df_expl, df_pop):\n",
        "    \"\"\"Calculate recommendations based on popularity of items.\n",
        "    The final data frame will have an impression list sorted according to the number of clicks per item in a reference data frame.\n",
        "    :param df_expl: Data frame with exploded impression list\n",
        "    :param df_pop: Data frame with items and number of clicks\n",
        "    :return: Data frame with sorted impression list according to popularity in df_pop\n",
        "    \"\"\"\n",
        "\n",
        "    df_expl_clicks = (\n",
        "        df_expl[GR_COLS + [\"IMPRESSIONS\"]]\n",
        "        .merge(df_pop,\n",
        "               left_on=\"IMPRESSIONS\",\n",
        "               right_on=\"REFERENCE\",\n",
        "               how=\"left\")\n",
        "    )\n",
        "\n",
        "    df_out = (\n",
        "        df_expl_clicks\n",
        "        .assign(IMPRESSIONS=lambda x: x[\"IMPRESSIONS\"].apply(str))\n",
        "        .sort_values(GR_COLS + [\"NCLICKS\"],\n",
        "                     ascending=[True, True, True, True, False])\n",
        "    )\n",
        "\n",
        "    df_out = group_concat(df_out, GR_COLS, \"IMPRESSIONS\")\n",
        "    df_out.rename(columns={'IMPRESSIONS': 'ITEM_RECOMMENDATIONS'}, inplace=True)\n",
        "\n",
        "    return df_out"
      ],
      "execution_count": 25,
      "outputs": []
    },
    {
      "cell_type": "markdown",
      "metadata": {
        "id": "ZH51BRUebt_Y"
      },
      "source": [
        "## Getting popular items"
      ]
    },
    {
      "cell_type": "code",
      "metadata": {
        "colab": {
          "base_uri": "https://localhost:8080/",
          "height": 376
        },
        "id": "Pe_JDBqvZwnz",
        "outputId": "774761bb-2050-438a-8465-b17f5bea1c96"
      },
      "source": [
        "print(\"Get popular items...\")\n",
        "df_popular = get_popularity(df_train)\n",
        "df_popular.sort_values(by='NCLICKS', ascending=False).head(10)"
      ],
      "execution_count": 29,
      "outputs": [
        {
          "output_type": "stream",
          "text": [
            "Get popular items...\n"
          ],
          "name": "stdout"
        },
        {
          "output_type": "execute_result",
          "data": {
            "text/html": [
              "<div>\n",
              "<style scoped>\n",
              "    .dataframe tbody tr th:only-of-type {\n",
              "        vertical-align: middle;\n",
              "    }\n",
              "\n",
              "    .dataframe tbody tr th {\n",
              "        vertical-align: top;\n",
              "    }\n",
              "\n",
              "    .dataframe thead th {\n",
              "        text-align: right;\n",
              "    }\n",
              "</style>\n",
              "<table border=\"1\" class=\"dataframe\">\n",
              "  <thead>\n",
              "    <tr style=\"text-align: right;\">\n",
              "      <th></th>\n",
              "      <th>REFERENCE</th>\n",
              "      <th>NCLICKS</th>\n",
              "    </tr>\n",
              "  </thead>\n",
              "  <tbody>\n",
              "    <tr>\n",
              "      <th>256511</th>\n",
              "      <td>8796</td>\n",
              "      <td>822</td>\n",
              "    </tr>\n",
              "    <tr>\n",
              "      <th>253386</th>\n",
              "      <td>8561</td>\n",
              "      <td>763</td>\n",
              "    </tr>\n",
              "    <tr>\n",
              "      <th>254018</th>\n",
              "      <td>8621</td>\n",
              "      <td>726</td>\n",
              "    </tr>\n",
              "    <tr>\n",
              "      <th>253665</th>\n",
              "      <td>8589</td>\n",
              "      <td>652</td>\n",
              "    </tr>\n",
              "    <tr>\n",
              "      <th>45275</th>\n",
              "      <td>1455251</td>\n",
              "      <td>648</td>\n",
              "    </tr>\n",
              "    <tr>\n",
              "      <th>253635</th>\n",
              "      <td>8586</td>\n",
              "      <td>634</td>\n",
              "    </tr>\n",
              "    <tr>\n",
              "      <th>253989</th>\n",
              "      <td>8618</td>\n",
              "      <td>627</td>\n",
              "    </tr>\n",
              "    <tr>\n",
              "      <th>284354</th>\n",
              "      <td>9773310</td>\n",
              "      <td>554</td>\n",
              "    </tr>\n",
              "    <tr>\n",
              "      <th>535</th>\n",
              "      <td>100227</td>\n",
              "      <td>539</td>\n",
              "    </tr>\n",
              "    <tr>\n",
              "      <th>256679</th>\n",
              "      <td>8805412</td>\n",
              "      <td>525</td>\n",
              "    </tr>\n",
              "  </tbody>\n",
              "</table>\n",
              "</div>"
            ],
            "text/plain": [
              "        REFERENCE  NCLICKS\n",
              "256511       8796      822\n",
              "253386       8561      763\n",
              "254018       8621      726\n",
              "253665       8589      652\n",
              "45275     1455251      648\n",
              "253635       8586      634\n",
              "253989       8618      627\n",
              "284354    9773310      554\n",
              "535        100227      539\n",
              "256679    8805412      525"
            ]
          },
          "metadata": {
            "tags": []
          },
          "execution_count": 29
        }
      ]
    },
    {
      "cell_type": "markdown",
      "metadata": {
        "id": "WY1Bvf_Xbw7z"
      },
      "source": [
        "## Identify target users"
      ]
    },
    {
      "cell_type": "code",
      "metadata": {
        "colab": {
          "base_uri": "https://localhost:8080/",
          "height": 634
        },
        "id": "d0RqGTj3ZwjM",
        "outputId": "4b182348-bd76-4d64-ab0b-21e09ba9f264"
      },
      "source": [
        "print(\"Identify target rows...\")\n",
        "df_target = get_submission_target(df_test)\n",
        "df_target.head(10)"
      ],
      "execution_count": 30,
      "outputs": [
        {
          "output_type": "stream",
          "text": [
            "Identify target rows...\n"
          ],
          "name": "stdout"
        },
        {
          "output_type": "execute_result",
          "data": {
            "text/html": [
              "<div>\n",
              "<style scoped>\n",
              "    .dataframe tbody tr th:only-of-type {\n",
              "        vertical-align: middle;\n",
              "    }\n",
              "\n",
              "    .dataframe tbody tr th {\n",
              "        vertical-align: top;\n",
              "    }\n",
              "\n",
              "    .dataframe thead th {\n",
              "        text-align: right;\n",
              "    }\n",
              "</style>\n",
              "<table border=\"1\" class=\"dataframe\">\n",
              "  <thead>\n",
              "    <tr style=\"text-align: right;\">\n",
              "      <th></th>\n",
              "      <th>USERID</th>\n",
              "      <th>SESSIONID</th>\n",
              "      <th>TIMESTAMP</th>\n",
              "      <th>STEP</th>\n",
              "      <th>EVENTTYPE</th>\n",
              "      <th>REFERENCE</th>\n",
              "      <th>PLATFORM</th>\n",
              "      <th>CITY</th>\n",
              "      <th>DEVICE</th>\n",
              "      <th>FILTERS</th>\n",
              "      <th>IMPRESSIONS</th>\n",
              "      <th>PRICES</th>\n",
              "    </tr>\n",
              "  </thead>\n",
              "  <tbody>\n",
              "    <tr>\n",
              "      <th>6</th>\n",
              "      <td>004A07DM0IDW</td>\n",
              "      <td>1d688ec168932</td>\n",
              "      <td>1541555799</td>\n",
              "      <td>7</td>\n",
              "      <td>clickout item</td>\n",
              "      <td>None</td>\n",
              "      <td>CO</td>\n",
              "      <td>Santa Marta, Colombia</td>\n",
              "      <td>mobile</td>\n",
              "      <td>None</td>\n",
              "      <td>2059240|2033381|1724779|127131|399441|103357|1...</td>\n",
              "      <td>70|46|48|76|65|65|106|66|87|43|52|44|60|61|50|...</td>\n",
              "    </tr>\n",
              "    <tr>\n",
              "      <th>8</th>\n",
              "      <td>009RGHI3G9A3</td>\n",
              "      <td>f05ab0de907e2</td>\n",
              "      <td>1541570940</td>\n",
              "      <td>2</td>\n",
              "      <td>clickout item</td>\n",
              "      <td>None</td>\n",
              "      <td>IN</td>\n",
              "      <td>Nathdwara, India</td>\n",
              "      <td>mobile</td>\n",
              "      <td>None</td>\n",
              "      <td>10884872|7065316</td>\n",
              "      <td>64|28</td>\n",
              "    </tr>\n",
              "    <tr>\n",
              "      <th>10</th>\n",
              "      <td>00Y1Z24X8084</td>\n",
              "      <td>26b6d294d66e7</td>\n",
              "      <td>1541651823</td>\n",
              "      <td>2</td>\n",
              "      <td>clickout item</td>\n",
              "      <td>None</td>\n",
              "      <td>PH</td>\n",
              "      <td>Iloilo City, Philippines</td>\n",
              "      <td>mobile</td>\n",
              "      <td>None</td>\n",
              "      <td>2714480|4476010|3843244|3833012|9017890|198100...</td>\n",
              "      <td>74|14|22|38|55|44|28|34|23|27|12|108|19|21|36|...</td>\n",
              "    </tr>\n",
              "    <tr>\n",
              "      <th>15</th>\n",
              "      <td>01V3WDTDM5CU</td>\n",
              "      <td>07628a0f5be0b</td>\n",
              "      <td>1541575643</td>\n",
              "      <td>5</td>\n",
              "      <td>clickout item</td>\n",
              "      <td>None</td>\n",
              "      <td>PL</td>\n",
              "      <td>Wisla, Poland</td>\n",
              "      <td>mobile</td>\n",
              "      <td>Sort by Price</td>\n",
              "      <td>3565720|2947584|4115018|2039671|3836538|801409...</td>\n",
              "      <td>16|18|20|21|22|22|28|28|28|30|30|33|33|35|35|3...</td>\n",
              "    </tr>\n",
              "    <tr>\n",
              "      <th>61</th>\n",
              "      <td>02AOAVF9PVYH</td>\n",
              "      <td>4a01c3afbc224</td>\n",
              "      <td>1541681278</td>\n",
              "      <td>46</td>\n",
              "      <td>clickout item</td>\n",
              "      <td>None</td>\n",
              "      <td>JP</td>\n",
              "      <td>Yokohama, Japan</td>\n",
              "      <td>desktop</td>\n",
              "      <td>Hotel|Resort|Sort by Price</td>\n",
              "      <td>1451247|559056|1045096|1963879|693596|1967173|...</td>\n",
              "      <td>80|81|81|82|82|82|83|83|83|85|85|88|88|91|92|9...</td>\n",
              "    </tr>\n",
              "    <tr>\n",
              "      <th>109</th>\n",
              "      <td>0339C84S24ET</td>\n",
              "      <td>89171d441a304</td>\n",
              "      <td>1541615683</td>\n",
              "      <td>36</td>\n",
              "      <td>clickout item</td>\n",
              "      <td>None</td>\n",
              "      <td>TR</td>\n",
              "      <td>Antalya, Turkey</td>\n",
              "      <td>mobile</td>\n",
              "      <td>None</td>\n",
              "      <td>13361|5647680|116764|898719|8276346|9168|19325...</td>\n",
              "      <td>185|84|30|19|46|77|123|23|25|25|26|39|73|56|96...</td>\n",
              "    </tr>\n",
              "    <tr>\n",
              "      <th>111</th>\n",
              "      <td>0386OH8JDE1Q</td>\n",
              "      <td>e09591d07cdef</td>\n",
              "      <td>1541620536</td>\n",
              "      <td>2</td>\n",
              "      <td>clickout item</td>\n",
              "      <td>None</td>\n",
              "      <td>UK</td>\n",
              "      <td>John o' Groats, United Kingdom</td>\n",
              "      <td>desktop</td>\n",
              "      <td>None</td>\n",
              "      <td>1193320|5488246|3858774|4552034|10620372|22696...</td>\n",
              "      <td>103|88|100|134|109|138|126|86</td>\n",
              "    </tr>\n",
              "    <tr>\n",
              "      <th>115</th>\n",
              "      <td>03LTH89QY623</td>\n",
              "      <td>7663406cf586c</td>\n",
              "      <td>1541554183</td>\n",
              "      <td>4</td>\n",
              "      <td>clickout item</td>\n",
              "      <td>None</td>\n",
              "      <td>CA</td>\n",
              "      <td>Koloa, USA</td>\n",
              "      <td>desktop</td>\n",
              "      <td>None</td>\n",
              "      <td>241961|906477|991561|353701|1149665|77258|4943...</td>\n",
              "      <td>287|300|261|197|163|263|262|188|540|283|211|22...</td>\n",
              "    </tr>\n",
              "    <tr>\n",
              "      <th>138</th>\n",
              "      <td>03VT0ODUTZB0</td>\n",
              "      <td>725e8adf70e86</td>\n",
              "      <td>1541632490</td>\n",
              "      <td>23</td>\n",
              "      <td>clickout item</td>\n",
              "      <td>None</td>\n",
              "      <td>UK</td>\n",
              "      <td>Warrington, United Kingdom</td>\n",
              "      <td>desktop</td>\n",
              "      <td>None</td>\n",
              "      <td>109938|164193|632366|1362450|1070666|164220|11...</td>\n",
              "      <td>45|67|78|60|58|57|86|68|57|55|148|92|66|55|61|...</td>\n",
              "    </tr>\n",
              "    <tr>\n",
              "      <th>314</th>\n",
              "      <td>03XH0JWCWHAM</td>\n",
              "      <td>73f4c417ff730</td>\n",
              "      <td>1541566143</td>\n",
              "      <td>176</td>\n",
              "      <td>clickout item</td>\n",
              "      <td>None</td>\n",
              "      <td>MX</td>\n",
              "      <td>Puebla, Mexico</td>\n",
              "      <td>mobile</td>\n",
              "      <td>Sort By Popularity</td>\n",
              "      <td>42692|5116230|42876|4342578|42864|3148690|2123...</td>\n",
              "      <td>53|181|60|45|96|60|80|59|41|122|50|43|113|48|5...</td>\n",
              "    </tr>\n",
              "  </tbody>\n",
              "</table>\n",
              "</div>"
            ],
            "text/plain": [
              "           USERID  ...                                             PRICES\n",
              "6    004A07DM0IDW  ...  70|46|48|76|65|65|106|66|87|43|52|44|60|61|50|...\n",
              "8    009RGHI3G9A3  ...                                              64|28\n",
              "10   00Y1Z24X8084  ...  74|14|22|38|55|44|28|34|23|27|12|108|19|21|36|...\n",
              "15   01V3WDTDM5CU  ...  16|18|20|21|22|22|28|28|28|30|30|33|33|35|35|3...\n",
              "61   02AOAVF9PVYH  ...  80|81|81|82|82|82|83|83|83|85|85|88|88|91|92|9...\n",
              "109  0339C84S24ET  ...  185|84|30|19|46|77|123|23|25|25|26|39|73|56|96...\n",
              "111  0386OH8JDE1Q  ...                      103|88|100|134|109|138|126|86\n",
              "115  03LTH89QY623  ...  287|300|261|197|163|263|262|188|540|283|211|22...\n",
              "138  03VT0ODUTZB0  ...  45|67|78|60|58|57|86|68|57|55|148|92|66|55|61|...\n",
              "314  03XH0JWCWHAM  ...  53|181|60|45|96|60|80|59|41|122|50|43|113|48|5...\n",
              "\n",
              "[10 rows x 12 columns]"
            ]
          },
          "metadata": {
            "tags": []
          },
          "execution_count": 30
        }
      ]
    },
    {
      "cell_type": "markdown",
      "metadata": {
        "id": "nYh_qJj7bqyM"
      },
      "source": [
        "## Recommendations"
      ]
    },
    {
      "cell_type": "code",
      "metadata": {
        "colab": {
          "base_uri": "https://localhost:8080/",
          "height": 376
        },
        "id": "E28J3TWkZ6QP",
        "outputId": "23e128c6-8986-4c43-8696-b504d6304ba9"
      },
      "source": [
        "print(\"Get recommendations...\")\n",
        "df_expl = explode(df_target, \"IMPRESSIONS\")\n",
        "df_out = calc_recommendation(df_expl, df_popular)\n",
        "df_out.head(10)"
      ],
      "execution_count": 31,
      "outputs": [
        {
          "output_type": "stream",
          "text": [
            "Get recommendations...\n"
          ],
          "name": "stdout"
        },
        {
          "output_type": "execute_result",
          "data": {
            "text/html": [
              "<div>\n",
              "<style scoped>\n",
              "    .dataframe tbody tr th:only-of-type {\n",
              "        vertical-align: middle;\n",
              "    }\n",
              "\n",
              "    .dataframe tbody tr th {\n",
              "        vertical-align: top;\n",
              "    }\n",
              "\n",
              "    .dataframe thead th {\n",
              "        text-align: right;\n",
              "    }\n",
              "</style>\n",
              "<table border=\"1\" class=\"dataframe\">\n",
              "  <thead>\n",
              "    <tr style=\"text-align: right;\">\n",
              "      <th></th>\n",
              "      <th>USERID</th>\n",
              "      <th>SESSIONID</th>\n",
              "      <th>TIMESTAMP</th>\n",
              "      <th>STEP</th>\n",
              "      <th>ITEM_RECOMMENDATIONS</th>\n",
              "    </tr>\n",
              "  </thead>\n",
              "  <tbody>\n",
              "    <tr>\n",
              "      <th>0</th>\n",
              "      <td>000324D9BBUC</td>\n",
              "      <td>89643988fdbfb</td>\n",
              "      <td>1541593942</td>\n",
              "      <td>10</td>\n",
              "      <td>924795 106315 1033140 119494 101758 903037 105...</td>\n",
              "    </tr>\n",
              "    <tr>\n",
              "      <th>1</th>\n",
              "      <td>0004Q49X39PY</td>\n",
              "      <td>9de47d9a66494</td>\n",
              "      <td>1541641157</td>\n",
              "      <td>1</td>\n",
              "      <td>3505150 3812004 2227896 2292254 3184842 222702...</td>\n",
              "    </tr>\n",
              "    <tr>\n",
              "      <th>2</th>\n",
              "      <td>0004Q49X39PY</td>\n",
              "      <td>beea5c27030cb</td>\n",
              "      <td>1541561202</td>\n",
              "      <td>1</td>\n",
              "      <td>4476010 3505150 3812004 2227896 2292254 222702...</td>\n",
              "    </tr>\n",
              "    <tr>\n",
              "      <th>3</th>\n",
              "      <td>00071784XQ6B</td>\n",
              "      <td>9617600e1ba7c</td>\n",
              "      <td>1541630328</td>\n",
              "      <td>2</td>\n",
              "      <td>22854 3067559 22721 22713 16121 22772 22727 22...</td>\n",
              "    </tr>\n",
              "    <tr>\n",
              "      <th>4</th>\n",
              "      <td>0008BO33KUQ0</td>\n",
              "      <td>2d0e2102ee0dc</td>\n",
              "      <td>1541636411</td>\n",
              "      <td>6</td>\n",
              "      <td>9857656 5849628 655716 1352530 502066 1405084 ...</td>\n",
              "    </tr>\n",
              "    <tr>\n",
              "      <th>5</th>\n",
              "      <td>000GO9NY6P4M</td>\n",
              "      <td>55dbafdbb9bab</td>\n",
              "      <td>1541594662</td>\n",
              "      <td>2</td>\n",
              "      <td>160577 157710 1618677 7231396 483691 1479743 1...</td>\n",
              "    </tr>\n",
              "    <tr>\n",
              "      <th>6</th>\n",
              "      <td>000IRHJS2DL9</td>\n",
              "      <td>f6ffffd20d43d</td>\n",
              "      <td>1541605541</td>\n",
              "      <td>12</td>\n",
              "      <td>33191 20144 20166 20154 3054956 346166 102540 ...</td>\n",
              "    </tr>\n",
              "    <tr>\n",
              "      <th>7</th>\n",
              "      <td>000JB0UNEH23</td>\n",
              "      <td>7df07dc9fe26e</td>\n",
              "      <td>1541618174</td>\n",
              "      <td>1</td>\n",
              "      <td>3874514 2909994 9503248 2526088 3167136 916982...</td>\n",
              "    </tr>\n",
              "    <tr>\n",
              "      <th>8</th>\n",
              "      <td>000OWRCYEHKT</td>\n",
              "      <td>53e84da5c2dad</td>\n",
              "      <td>1541706095</td>\n",
              "      <td>3</td>\n",
              "      <td>8758048 7195486 1153302 7795438 5416250 898083...</td>\n",
              "    </tr>\n",
              "    <tr>\n",
              "      <th>9</th>\n",
              "      <td>000VBY1D6BP8</td>\n",
              "      <td>033fddaaa99af</td>\n",
              "      <td>1541587306</td>\n",
              "      <td>4</td>\n",
              "      <td>32230 32233 32256 5411980 32235 6865398 32246 ...</td>\n",
              "    </tr>\n",
              "  </tbody>\n",
              "</table>\n",
              "</div>"
            ],
            "text/plain": [
              "         USERID  ...                               ITEM_RECOMMENDATIONS\n",
              "0  000324D9BBUC  ...  924795 106315 1033140 119494 101758 903037 105...\n",
              "1  0004Q49X39PY  ...  3505150 3812004 2227896 2292254 3184842 222702...\n",
              "2  0004Q49X39PY  ...  4476010 3505150 3812004 2227896 2292254 222702...\n",
              "3  00071784XQ6B  ...  22854 3067559 22721 22713 16121 22772 22727 22...\n",
              "4  0008BO33KUQ0  ...  9857656 5849628 655716 1352530 502066 1405084 ...\n",
              "5  000GO9NY6P4M  ...  160577 157710 1618677 7231396 483691 1479743 1...\n",
              "6  000IRHJS2DL9  ...  33191 20144 20166 20154 3054956 346166 102540 ...\n",
              "7  000JB0UNEH23  ...  3874514 2909994 9503248 2526088 3167136 916982...\n",
              "8  000OWRCYEHKT  ...  8758048 7195486 1153302 7795438 5416250 898083...\n",
              "9  000VBY1D6BP8  ...  32230 32233 32256 5411980 32235 6865398 32246 ...\n",
              "\n",
              "[10 rows x 5 columns]"
            ]
          },
          "metadata": {
            "tags": []
          },
          "execution_count": 31
        }
      ]
    }
  ]
}