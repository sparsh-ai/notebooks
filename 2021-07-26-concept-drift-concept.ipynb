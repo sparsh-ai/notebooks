{
  "nbformat": 4,
  "nbformat_minor": 0,
  "metadata": {
    "kernelspec": {
      "display_name": "Python 3",
      "language": "python",
      "name": "python3"
    },
    "language_info": {
      "codemirror_mode": {
        "name": "ipython",
        "version": 3
      },
      "file_extension": ".py",
      "mimetype": "text/x-python",
      "name": "python",
      "nbconvert_exporter": "python",
      "pygments_lexer": "ipython3",
      "version": "3.8.5"
    },
    "colab": {
      "name": "2021-07-26-concept-drift-concept.ipynb",
      "provenance": []
    }
  },
  "cells": [
    {
      "cell_type": "markdown",
      "metadata": {
        "id": "uFnpg9coKEpG"
      },
      "source": [
        "# Concept Drift (Concept)\n",
        "> Learning and validating the concept of concept drift in ML using river library\n",
        "\n",
        "- toc: true\n",
        "- badges: true\n",
        "- comments: true\n",
        "- categories: [Concept]\n",
        "- image:"
      ]
    },
    {
      "cell_type": "markdown",
      "metadata": {
        "pycharm": {
          "name": "#%% md\n"
        },
        "id": "J8jA0rSdIH9-"
      },
      "source": [
        "In the context of data streams, it is assumed that data can change over time. The change in the relationship between the data (features) and the target to learn is known as **Concept Drift**. As examples we can mention, the electricity demand across the year, the stock market, and the likelihood of a new movie to be successful. Let's consider the movie example: Two movies can have similar features such as popular actors/directors, storyline, production budget, marketing campaigns, etc. yet it is not certain that both will be similarly successful. What the target audience *considers* worth watching (and their money) is constantly changing and production companies must adapt accordingly to avoid \"box office flops\".\n",
        "\n",
        "## Impact of drift on learning\n",
        "\n",
        "Concept drift can have a significant impact on predictive performance if not handled properly. Most batch learning models will fail in the presence of concept drift as they are essentially trained on different data. On the other hand, stream learning methods continuously update themselves and adapt to new concepts. Furthermore, drift-aware methods use change detection methods (a.k.a. drift detectors) to trigger *mitigation mechanisms* if a change in performance is detected.\n",
        "\n",
        "## Detecting concept drift\n",
        "\n",
        "Multiple drift detection methods have been proposed. The goal of a drift detector is to signal an alarm in the presence of drift. A good drift detector maximizes the number of true positives while keeping the number of false positives to a minimum. It must also be resource-wise efficient to work in the context of infinite data streams.\n",
        "\n",
        "For this example, we will generate a synthetic data stream by concatenating 3 distributions of 1000 samples each:\n",
        "\n",
        "- $dist_a$: $\\mu=0.8$, $\\sigma=0.05$\n",
        "- $dist_b$: $\\mu=0.4$, $\\sigma=0.02$\n",
        "- $dist_c$: $\\mu=0.6$, $\\sigma=0.1$."
      ]
    },
    {
      "cell_type": "markdown",
      "metadata": {
        "id": "PasR1CuXJxNv"
      },
      "source": [
        "## Setup"
      ]
    },
    {
      "cell_type": "code",
      "metadata": {
        "id": "It-vcW2kIjMr"
      },
      "source": [
        "!pip install river\n",
        "!pip install -U numpy"
      ],
      "execution_count": null,
      "outputs": []
    },
    {
      "cell_type": "code",
      "metadata": {
        "id": "sw24c-Z0JpdE"
      },
      "source": [
        "import numpy as np\n",
        "import matplotlib.pyplot as plt\n",
        "from matplotlib import gridspec\n",
        "from river import drift"
      ],
      "execution_count": null,
      "outputs": []
    },
    {
      "cell_type": "code",
      "metadata": {
        "colab": {
          "base_uri": "https://localhost:8080/"
        },
        "id": "anFBvNsfJ3_d",
        "outputId": "e5a3ed25-ec3b-4681-ba34-6c5bee6fcfaf"
      },
      "source": [
        "!pip install -q watermark\n",
        "%reload_ext watermark\n",
        "%watermark -m -iv -u -t -d"
      ],
      "execution_count": null,
      "outputs": [
        {
          "output_type": "stream",
          "text": [
            "Last updated: 2021-07-26 14:12:00\n",
            "\n",
            "Compiler    : GCC 7.5.0\n",
            "OS          : Linux\n",
            "Release     : 5.4.104+\n",
            "Machine     : x86_64\n",
            "Processor   : x86_64\n",
            "CPU cores   : 2\n",
            "Architecture: 64bit\n",
            "\n",
            "river     : 0.7.1\n",
            "numpy     : 1.21.1\n",
            "matplotlib: 3.2.2\n",
            "IPython   : 5.5.0\n",
            "\n"
          ],
          "name": "stdout"
        }
      ]
    },
    {
      "cell_type": "markdown",
      "metadata": {
        "id": "9N2Uyi-fJzbA"
      },
      "source": [
        "## Synthetic data generation"
      ]
    },
    {
      "cell_type": "code",
      "metadata": {
        "execution": {
          "iopub.execute_input": "2021-04-16T18:34:04.170342Z",
          "iopub.status.busy": "2021-04-16T18:34:04.168826Z",
          "iopub.status.idle": "2021-04-16T18:34:05.234029Z",
          "shell.execute_reply": "2021-04-16T18:34:05.235576Z"
        },
        "jupyter": {
          "outputs_hidden": false
        },
        "pycharm": {
          "name": "#%%\n"
        },
        "id": "wyb4HmcXIH-H",
        "colab": {
          "base_uri": "https://localhost:8080/",
          "height": 225
        },
        "outputId": "83f3ff6d-1f99-4dfd-e0b2-20a24a53744e"
      },
      "source": [
        "# Generate data for 3 distributions\n",
        "random_state = np.random.RandomState(seed=42)\n",
        "dist_a = random_state.normal(0.8, 0.05, 1000)\n",
        "dist_b = random_state.normal(0.4, 0.02, 1000)\n",
        "dist_c = random_state.normal(0.6, 0.1, 1000)\n",
        "\n",
        "# Concatenate data to simulate a data stream with 2 drifts\n",
        "stream = np.concatenate((dist_a, dist_b, dist_c))\n",
        "\n",
        "# Auxiliary function to plot the data\n",
        "def plot_data(dist_a, dist_b, dist_c, drifts=None):\n",
        "    fig = plt.figure(figsize=(7,3), tight_layout=True)\n",
        "    gs = gridspec.GridSpec(1, 2, width_ratios=[3, 1])\n",
        "    ax1, ax2 = plt.subplot(gs[0]), plt.subplot(gs[1])\n",
        "    ax1.grid()\n",
        "    ax1.plot(stream, label='Stream')\n",
        "    ax2.grid(axis='y')\n",
        "    ax2.hist(dist_a, label=r'$dist_a$')\n",
        "    ax2.hist(dist_b, label=r'$dist_b$')\n",
        "    ax2.hist(dist_c, label=r'$dist_c$')\n",
        "    if drifts is not None:\n",
        "        for drift_detected in drifts:\n",
        "            ax1.axvline(drift_detected, color='red')\n",
        "    plt.show()\n",
        "\n",
        "plot_data(dist_a, dist_b, dist_c)"
      ],
      "execution_count": null,
      "outputs": [
        {
          "output_type": "display_data",
          "data": {
            "image/png": "[encoded data removed]",
            "text/plain": [
              "<Figure size 504x216 with 2 Axes>"
            ]
          },
          "metadata": {
            "tags": [],
            "needs_background": "light"
          }
        }
      ]
    },
    {
      "cell_type": "markdown",
      "metadata": {
        "pycharm": {
          "name": "#%% md\n"
        },
        "id": "rgqOMx4-IH-L"
      },
      "source": [
        "### Drift detection test\n",
        "\n",
        "We will use the ADaptive WINdowing (`ADWIN`) drift detection method. Remember that the goal is to indicate that drift has occurred after samples **1000** and **2000** in the synthetic data stream."
      ]
    },
    {
      "cell_type": "code",
      "metadata": {
        "execution": {
          "iopub.execute_input": "2021-04-16T18:34:05.243966Z",
          "iopub.status.busy": "2021-04-16T18:34:05.243301Z",
          "iopub.status.idle": "2021-04-16T18:34:07.412023Z",
          "shell.execute_reply": "2021-04-16T18:34:07.412608Z"
        },
        "jupyter": {
          "outputs_hidden": false
        },
        "pycharm": {
          "name": "#%%\n"
        },
        "id": "nx526ymrIH-M",
        "colab": {
          "base_uri": "https://localhost:8080/",
          "height": 605
        },
        "outputId": "2f5b8204-8e8e-4fae-9546-9893c5831bb9"
      },
      "source": [
        "drift_detector = drift.ADWIN()\n",
        "drifts = []\n",
        "\n",
        "for i, val in enumerate(stream):\n",
        "    drift_detector.update(val)   # Data is processed one sample at a time\n",
        "    if drift_detector.change_detected:\n",
        "        # The drift detector indicates after each sample if there is a drift in the data\n",
        "        print(f'Change detected at index {i}')\n",
        "        drifts.append(i)\n",
        "        drift_detector.reset()   # As a best practice, we reset the detector\n",
        "\n",
        "plot_data(dist_a, dist_b, dist_c, drifts)"
      ],
      "execution_count": null,
      "outputs": [
        {
          "output_type": "error",
          "ename": "RuntimeError",
          "evalue": "ignored",
          "traceback": [
            "\u001b[0;31m---------------------------------------------------------------------------\u001b[0m",
            "\u001b[0;31mRuntimeError\u001b[0m                              Traceback (most recent call last)",
            "\u001b[0;31mRuntimeError\u001b[0m: module compiled against API version 0xe but this version of numpy is 0xd"
          ]
        },
        {
          "output_type": "error",
          "ename": "ImportError",
          "evalue": "ignored",
          "traceback": [
            "\u001b[0;31m---------------------------------------------------------------------------\u001b[0m",
            "\u001b[0;31mImportError\u001b[0m                               Traceback (most recent call last)",
            "\u001b[0;32m<ipython-input-5-8823d5c80c0d>\u001b[0m in \u001b[0;36m<module>\u001b[0;34m()\u001b[0m\n\u001b[0;32m----> 1\u001b[0;31m \u001b[0;32mfrom\u001b[0m \u001b[0mriver\u001b[0m \u001b[0;32mimport\u001b[0m \u001b[0mdrift\u001b[0m\u001b[0;34m\u001b[0m\u001b[0;34m\u001b[0m\u001b[0m\n\u001b[0m\u001b[1;32m      2\u001b[0m \u001b[0;34m\u001b[0m\u001b[0m\n\u001b[1;32m      3\u001b[0m \u001b[0mdrift_detector\u001b[0m \u001b[0;34m=\u001b[0m \u001b[0mdrift\u001b[0m\u001b[0;34m.\u001b[0m\u001b[0mADWIN\u001b[0m\u001b[0;34m(\u001b[0m\u001b[0;34m)\u001b[0m\u001b[0;34m\u001b[0m\u001b[0;34m\u001b[0m\u001b[0m\n\u001b[1;32m      4\u001b[0m \u001b[0mdrifts\u001b[0m \u001b[0;34m=\u001b[0m \u001b[0;34m[\u001b[0m\u001b[0;34m]\u001b[0m\u001b[0;34m\u001b[0m\u001b[0;34m\u001b[0m\u001b[0m\n\u001b[1;32m      5\u001b[0m \u001b[0;34m\u001b[0m\u001b[0m\n",
            "\u001b[0;32m/usr/local/lib/python3.7/dist-packages/river/__init__.py\u001b[0m in \u001b[0;36m<module>\u001b[0;34m()\u001b[0m\n\u001b[1;32m      7\u001b[0m \u001b[0mscikit\u001b[0m\u001b[0;34m-\u001b[0m\u001b[0mlearn\u001b[0m\u001b[0;34m,\u001b[0m \u001b[0menough\u001b[0m \u001b[0mso\u001b[0m \u001b[0mthat\u001b[0m \u001b[0musers\u001b[0m \u001b[0mwho\u001b[0m \u001b[0mare\u001b[0m \u001b[0mfamiliar\u001b[0m \u001b[0;32mwith\u001b[0m \u001b[0mscikit\u001b[0m\u001b[0;34m-\u001b[0m\u001b[0mlearn\u001b[0m \u001b[0mshould\u001b[0m \u001b[0mfeel\u001b[0m \u001b[0mright\u001b[0m \u001b[0mat\u001b[0m \u001b[0mhome\u001b[0m\u001b[0;34m.\u001b[0m\u001b[0;34m\u001b[0m\u001b[0;34m\u001b[0m\u001b[0m\n\u001b[1;32m      8\u001b[0m \"\"\"\n\u001b[0;32m----> 9\u001b[0;31m from . import (\n\u001b[0m\u001b[1;32m     10\u001b[0m     \u001b[0manomaly\u001b[0m\u001b[0;34m,\u001b[0m\u001b[0;34m\u001b[0m\u001b[0;34m\u001b[0m\u001b[0m\n\u001b[1;32m     11\u001b[0m     \u001b[0mbase\u001b[0m\u001b[0;34m,\u001b[0m\u001b[0;34m\u001b[0m\u001b[0;34m\u001b[0m\u001b[0m\n",
            "\u001b[0;32m/usr/local/lib/python3.7/dist-packages/river/neighbors/__init__.py\u001b[0m in \u001b[0;36m<module>\u001b[0;34m()\u001b[0m\n\u001b[1;32m      8\u001b[0m \u001b[0;32mfrom\u001b[0m \u001b[0;34m.\u001b[0m\u001b[0mknn_classifier\u001b[0m \u001b[0;32mimport\u001b[0m \u001b[0mKNNClassifier\u001b[0m\u001b[0;34m\u001b[0m\u001b[0;34m\u001b[0m\u001b[0m\n\u001b[1;32m      9\u001b[0m \u001b[0;32mfrom\u001b[0m \u001b[0;34m.\u001b[0m\u001b[0mknn_regressor\u001b[0m \u001b[0;32mimport\u001b[0m \u001b[0mKNNRegressor\u001b[0m\u001b[0;34m\u001b[0m\u001b[0;34m\u001b[0m\u001b[0m\n\u001b[0;32m---> 10\u001b[0;31m \u001b[0;32mfrom\u001b[0m \u001b[0;34m.\u001b[0m\u001b[0msam_knn\u001b[0m \u001b[0;32mimport\u001b[0m \u001b[0mSAMKNNClassifier\u001b[0m\u001b[0;34m\u001b[0m\u001b[0;34m\u001b[0m\u001b[0m\n\u001b[0m\u001b[1;32m     11\u001b[0m \u001b[0;34m\u001b[0m\u001b[0m\n\u001b[1;32m     12\u001b[0m \u001b[0m__all__\u001b[0m \u001b[0;34m=\u001b[0m \u001b[0;34m[\u001b[0m\u001b[0;34m\"KNNADWINClassifier\"\u001b[0m\u001b[0;34m,\u001b[0m \u001b[0;34m\"KNNClassifier\"\u001b[0m\u001b[0;34m,\u001b[0m \u001b[0;34m\"KNNRegressor\"\u001b[0m\u001b[0;34m,\u001b[0m \u001b[0;34m\"SAMKNNClassifier\"\u001b[0m\u001b[0;34m]\u001b[0m\u001b[0;34m\u001b[0m\u001b[0;34m\u001b[0m\u001b[0m\n",
            "\u001b[0;32m/usr/local/lib/python3.7/dist-packages/river/neighbors/sam_knn.py\u001b[0m in \u001b[0;36m<module>\u001b[0;34m()\u001b[0m\n\u001b[1;32m      8\u001b[0m \u001b[0;32mfrom\u001b[0m \u001b[0mriver\u001b[0m\u001b[0;34m.\u001b[0m\u001b[0mutils\u001b[0m \u001b[0;32mimport\u001b[0m \u001b[0mdict2numpy\u001b[0m\u001b[0;34m\u001b[0m\u001b[0;34m\u001b[0m\u001b[0m\n\u001b[1;32m      9\u001b[0m \u001b[0;34m\u001b[0m\u001b[0m\n\u001b[0;32m---> 10\u001b[0;31m \u001b[0;32mfrom\u001b[0m \u001b[0;34m.\u001b[0m \u001b[0;32mimport\u001b[0m \u001b[0mlibNearestNeighbor\u001b[0m\u001b[0;34m\u001b[0m\u001b[0;34m\u001b[0m\u001b[0m\n\u001b[0m\u001b[1;32m     11\u001b[0m \u001b[0;34m\u001b[0m\u001b[0m\n\u001b[1;32m     12\u001b[0m \u001b[0;34m\u001b[0m\u001b[0m\n",
            "\u001b[0;31mImportError\u001b[0m: numpy.core.multiarray failed to import",
            "",
            "\u001b[0;31m---------------------------------------------------------------------------\u001b[0;32m\nNOTE: If your import is failing due to a missing package, you can\nmanually install dependencies using either !pip or !apt.\n\nTo view examples of installing some common dependencies, click the\n\"Open Examples\" button below.\n\u001b[0;31m---------------------------------------------------------------------------\u001b[0m\n"
          ]
        }
      ]
    },
    {
      "cell_type": "markdown",
      "metadata": {
        "pycharm": {
          "name": "#%% md\n"
        },
        "id": "MmIYq220IH-P"
      },
      "source": [
        "We see that `ADWIN` successfully indicates the presence of drift (red vertical lines) close to the begining of a new data distribution.\n",
        "\n",
        "\n",
        "---\n",
        "We conclude this example with some remarks regarding concept drift detectors and their usage:\n",
        "\n",
        "- In practice, drift detectors provide stream learning methods with robustness against concept drift. Drift detectors monitor the model usually through a performance metric.\n",
        "- Drift detectors work on univariate data. This is why they are used to monitor a model's performance and not the data itself. Remember that concept drift is defined as a change in the relationship between data and the target to learn (in supervised learning).\n",
        "- Drift detectors define their expectations regarding input data. It is important to know these expectations to feed a given drift detector with the correct data.\n"
      ]
    }
  ]
}