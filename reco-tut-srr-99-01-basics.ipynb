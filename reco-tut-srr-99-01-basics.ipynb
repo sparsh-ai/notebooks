{
  "nbformat": 4,
  "nbformat_minor": 0,
  "metadata": {
    "colab": {
      "name": "reco-tut-srr-99-01-basics.ipynb",
      "provenance": [],
      "collapsed_sections": [],
      "authorship_tag": "ABX9TyOh/V23bkxMxBC6xJsr0PuP"
    },
    "kernelspec": {
      "name": "python3",
      "display_name": "Python 3"
    },
    "language_info": {
      "name": "python"
    }
  },
  "cells": [
    {
      "cell_type": "code",
      "metadata": {
        "id": "GKUkECKocMyy"
      },
      "source": [
        "import pandas as pd\n",
        "import numpy as np"
      ],
      "execution_count": null,
      "outputs": []
    },
    {
      "cell_type": "code",
      "metadata": {
        "colab": {
          "base_uri": "https://localhost:8080/",
          "height": 142
        },
        "id": "tRPsLl0KcW2K",
        "outputId": "037baffb-7c12-40eb-aa31-b770263b459b"
      },
      "source": [
        "pd.DataFrame ([['Ivan', 'Borodinsky Bread', 1],\n",
        "               ['Ivan', 'White Bread', 0],\n",
        "               ['Vasily', 'Epica Yogurt', 1]],\n",
        "              columns = ['user', 'item', 'purchase_fact'])"
      ],
      "execution_count": null,
      "outputs": [
        {
          "output_type": "execute_result",
          "data": {
            "text/html": [
              "<div>\n",
              "<style scoped>\n",
              "    .dataframe tbody tr th:only-of-type {\n",
              "        vertical-align: middle;\n",
              "    }\n",
              "\n",
              "    .dataframe tbody tr th {\n",
              "        vertical-align: top;\n",
              "    }\n",
              "\n",
              "    .dataframe thead th {\n",
              "        text-align: right;\n",
              "    }\n",
              "</style>\n",
              "<table border=\"1\" class=\"dataframe\">\n",
              "  <thead>\n",
              "    <tr style=\"text-align: right;\">\n",
              "      <th></th>\n",
              "      <th>user</th>\n",
              "      <th>item</th>\n",
              "      <th>purchase_fact</th>\n",
              "    </tr>\n",
              "  </thead>\n",
              "  <tbody>\n",
              "    <tr>\n",
              "      <th>0</th>\n",
              "      <td>Ivan</td>\n",
              "      <td>Borodinsky Bread</td>\n",
              "      <td>1</td>\n",
              "    </tr>\n",
              "    <tr>\n",
              "      <th>1</th>\n",
              "      <td>Ivan</td>\n",
              "      <td>White Bread</td>\n",
              "      <td>0</td>\n",
              "    </tr>\n",
              "    <tr>\n",
              "      <th>2</th>\n",
              "      <td>Vasily</td>\n",
              "      <td>Epica Yogurt</td>\n",
              "      <td>1</td>\n",
              "    </tr>\n",
              "  </tbody>\n",
              "</table>\n",
              "</div>"
            ],
            "text/plain": [
              "     user              item  purchase_fact\n",
              "0    Ivan  Borodinsky Bread              1\n",
              "1    Ivan       White Bread              0\n",
              "2  Vasily      Epica Yogurt              1"
            ]
          },
          "metadata": {
            "tags": []
          },
          "execution_count": 2
        }
      ]
    },
    {
      "cell_type": "markdown",
      "metadata": {
        "id": "NRtDLdT1cwB0"
      },
      "source": [
        "Wait, you can add features to user (average bill, number of purchases in categories, etc.), to item (price, number of sales per week, etc.), and solve the classification problem. What is the difference between RecSys and classification?\n",
        "\n",
        "- Many predictions for 1 user (extreme classification)\n",
        "- Much larger amount of data: 100K users, 10K items -> 1B predictions\n",
        "- Most of the products the user has never seen -> Did not interact -> 0 does not mean \"did not like\"\n",
        "- There is no explicit target. It is not clear what it means \"(not) liked\"\n",
        "- Feedback loop\n",
        "- The order of recommendations is always important"
      ]
    },
    {
      "cell_type": "code",
      "metadata": {
        "colab": {
          "base_uri": "https://localhost:8080/",
          "height": 235
        },
        "id": "pwMi6yLkc2Ra",
        "outputId": "2645c117-a458-43f9-90c6-fc907005250e"
      },
      "source": [
        "pd.DataFrame([['Ivan','BreadBorodinsky',1],\n",
        "              ['Ivan','WhiteBread',0],\n",
        "              ['Ivan','EpicaYogurt',\"?\"],\n",
        "              ['Vasily','BorodinskyBread',\"?\"],\n",
        "              ['Vasily','WhiteBread',\"?\"],\n",
        "              ['Vasily','EpicaYogurt',1]],\n",
        "             columns = ['user','item','purchase_fact'])"
      ],
      "execution_count": null,
      "outputs": [
        {
          "output_type": "execute_result",
          "data": {
            "text/html": [
              "<div>\n",
              "<style scoped>\n",
              "    .dataframe tbody tr th:only-of-type {\n",
              "        vertical-align: middle;\n",
              "    }\n",
              "\n",
              "    .dataframe tbody tr th {\n",
              "        vertical-align: top;\n",
              "    }\n",
              "\n",
              "    .dataframe thead th {\n",
              "        text-align: right;\n",
              "    }\n",
              "</style>\n",
              "<table border=\"1\" class=\"dataframe\">\n",
              "  <thead>\n",
              "    <tr style=\"text-align: right;\">\n",
              "      <th></th>\n",
              "      <th>user</th>\n",
              "      <th>item</th>\n",
              "      <th>purchase_fact</th>\n",
              "    </tr>\n",
              "  </thead>\n",
              "  <tbody>\n",
              "    <tr>\n",
              "      <th>0</th>\n",
              "      <td>Ivan</td>\n",
              "      <td>BreadBorodinsky</td>\n",
              "      <td>1</td>\n",
              "    </tr>\n",
              "    <tr>\n",
              "      <th>1</th>\n",
              "      <td>Ivan</td>\n",
              "      <td>WhiteBread</td>\n",
              "      <td>0</td>\n",
              "    </tr>\n",
              "    <tr>\n",
              "      <th>2</th>\n",
              "      <td>Ivan</td>\n",
              "      <td>EpicaYogurt</td>\n",
              "      <td>?</td>\n",
              "    </tr>\n",
              "    <tr>\n",
              "      <th>3</th>\n",
              "      <td>Vasily</td>\n",
              "      <td>BorodinskyBread</td>\n",
              "      <td>?</td>\n",
              "    </tr>\n",
              "    <tr>\n",
              "      <th>4</th>\n",
              "      <td>Vasily</td>\n",
              "      <td>WhiteBread</td>\n",
              "      <td>?</td>\n",
              "    </tr>\n",
              "    <tr>\n",
              "      <th>5</th>\n",
              "      <td>Vasily</td>\n",
              "      <td>EpicaYogurt</td>\n",
              "      <td>1</td>\n",
              "    </tr>\n",
              "  </tbody>\n",
              "</table>\n",
              "</div>"
            ],
            "text/plain": [
              "     user             item purchase_fact\n",
              "0    Ivan  BreadBorodinsky             1\n",
              "1    Ivan       WhiteBread             0\n",
              "2    Ivan      EpicaYogurt             ?\n",
              "3  Vasily  BorodinskyBread             ?\n",
              "4  Vasily       WhiteBread             ?\n",
              "5  Vasily      EpicaYogurt             1"
            ]
          },
          "metadata": {
            "tags": []
          },
          "execution_count": 11
        }
      ]
    },
    {
      "cell_type": "markdown",
      "metadata": {
        "id": "PSyjFtONc88L"
      },
      "source": [
        "The main types of tasks: \n",
        "- Recommended top-K products : Given a list of products. Recommend K products to the user that they like\n",
        "    - e-mail newsletter\n",
        "    - push notifications\n",
        "    - Recommendations in a separate window on the site\n",
        "    - Ranking of goods : Given a list of goods. You need to rank it in descending order of interest for the user\n",
        "- Ranking of the product catalog\n",
        "    - Ranking feed\n",
        "    - Search engine ranking\n",
        "    - Ranking of \"carousels\" of goods\n",
        "- Search for similar products : Given 1 product. You need to find the most similar products\n",
        "    - \"You May Also Like\"\n",
        "    - Similar users liked\n",
        "    - You may be familiar\n",
        "- Additional product recommendation . Given 1 product. Find products that are buying with this product\n",
        "    - Frequently bought with this product"
      ]
    }
  ]
}