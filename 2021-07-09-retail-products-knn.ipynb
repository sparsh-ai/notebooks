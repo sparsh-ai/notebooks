{
  "nbformat": 4,
  "nbformat_minor": 0,
  "metadata": {
    "colab": {
      "name": "2021-07-09-retail-products-knn.ipynb",
      "provenance": [],
      "collapsed_sections": [],
      "toc_visible": true,
      "mount_file_id": "1dI1QUAHdtJw7usFa3jN0wHgbXxSCnPC9",
      "authorship_tag": "ABX9TyMV5mDeXlbNlraYsFhbw95J"
    },
    "kernelspec": {
      "name": "python3",
      "display_name": "Python 3"
    },
    "language_info": {
      "name": "python"
    }
  },
  "cells": [
    {
      "cell_type": "markdown",
      "metadata": {
        "id": "a45LiITGi78l"
      },
      "source": [
        "# Recommending Retail Products with Memory-based model\n",
        "> Fitting KNN on a retail dataset to recommend retail items to customers\n",
        "\n",
        "- toc: true\n",
        "- badges: true\n",
        "- comments: true\n",
        "- categories: [KNN, Retail, MongoDB, PrivateData]\n",
        "- image:"
      ]
    },
    {
      "cell_type": "markdown",
      "metadata": {
        "id": "pSYjZLXVfQ0m"
      },
      "source": [
        "## Setup"
      ]
    },
    {
      "cell_type": "code",
      "metadata": {
        "id": "V2A5eM_reuS4"
      },
      "source": [
        "!pip install -q dnspython"
      ],
      "execution_count": null,
      "outputs": []
    },
    {
      "cell_type": "code",
      "metadata": {
        "id": "vjcyS0HCeup7"
      },
      "source": [
        "import os\n",
        "import dns\n",
        "import json\n",
        "import pickle\n",
        "import numpy as np\n",
        "import pandas as pd\n",
        "from pymongo import MongoClient\n",
        "from scipy.sparse import csr_matrix\n",
        "from sklearn.neighbors import NearestNeighbors"
      ],
      "execution_count": null,
      "outputs": []
    },
    {
      "cell_type": "markdown",
      "metadata": {
        "id": "86i0SkDKfShL"
      },
      "source": [
        "## Data ingestion"
      ]
    },
    {
      "cell_type": "code",
      "metadata": {
        "id": "D22qE0yXLeHG"
      },
      "source": [
        "client = MongoClient(\"mongodb+srv://<username>:<password>@cluster0.xxxxx.mongodb.net/myFirstDatabase?retryWrites=true&w=majority\")\n",
        "db = client.get_database(\"OnlineGroceryDB\")\n",
        "\n",
        "for col in db.collection_names():\n",
        "  cursor = db[col].find()\n",
        "  pd.DataFrame(list(cursor)).to_csv('{}.csv'.format(col))\n",
        "\n",
        "!zip retail_data.zip ./*.csv"
      ],
      "execution_count": null,
      "outputs": []
    },
    {
      "cell_type": "markdown",
      "metadata": {
        "id": "nFhAWy_NfuL4"
      },
      "source": [
        "## Data schema\n",
        "\n",
        "Let's analyze the full data schema"
      ]
    },
    {
      "cell_type": "code",
      "metadata": {
        "colab": {
          "base_uri": "https://localhost:8080/"
        },
        "id": "JBuAqoCkhSRT",
        "outputId": "633307ca-245c-4bff-bcd3-a837eae54e0c"
      },
      "source": [
        "pd.read_csv(\"Customer.csv\", index_col=0).columns"
      ],
      "execution_count": 70,
      "outputs": [
        {
          "output_type": "execute_result",
          "data": {
            "text/plain": [
              "Index(['_id', 'Customer_id', 'Customer name', 'Date of Birth', 'Gender',\n",
              "       'Education', 'City', 'STATE', 'ZIP_Code', 'Phone', 'credit_card?',\n",
              "       'customer_id', 'customer name', 'phone'],\n",
              "      dtype='object')"
            ]
          },
          "metadata": {
            "tags": []
          },
          "execution_count": 70
        }
      ]
    },
    {
      "cell_type": "code",
      "metadata": {
        "colab": {
          "base_uri": "https://localhost:8080/",
          "height": 452
        },
        "id": "IIyyyfaGf_OW",
        "outputId": "45791ccc-9bb4-4b70-c74c-48321e5afe83"
      },
      "source": [
        "import glob\n",
        "import pandas as pd\n",
        "from pathlib import Path\n",
        "\n",
        "pd.set_option('display.expand_frame_repr', False)\n",
        "\n",
        "schema = pd.DataFrame()\n",
        "\n",
        "for i, filepath in enumerate(glob.glob(\"./*.csv\")):\n",
        "  df = pd.read_csv(filepath, index_col=0)\n",
        "  schema.loc[i,\"filename\"] = Path(filepath).stem\n",
        "  schema.loc[i,\"shape\"] = str(df.shape)\n",
        "  schema.loc[i,\"columns\"] = str(list(df.columns))\n",
        "\n",
        "schema"
      ],
      "execution_count": 76,
      "outputs": [
        {
          "output_type": "execute_result",
          "data": {
            "text/html": [
              "<div>\n",
              "<style scoped>\n",
              "    .dataframe tbody tr th:only-of-type {\n",
              "        vertical-align: middle;\n",
              "    }\n",
              "\n",
              "    .dataframe tbody tr th {\n",
              "        vertical-align: top;\n",
              "    }\n",
              "\n",
              "    .dataframe thead th {\n",
              "        text-align: right;\n",
              "    }\n",
              "</style>\n",
              "<table border=\"1\" class=\"dataframe\">\n",
              "  <thead>\n",
              "    <tr style=\"text-align: right;\">\n",
              "      <th></th>\n",
              "      <th>filename</th>\n",
              "      <th>shape</th>\n",
              "      <th>columns</th>\n",
              "    </tr>\n",
              "  </thead>\n",
              "  <tbody>\n",
              "    <tr>\n",
              "      <th>0</th>\n",
              "      <td>User_details</td>\n",
              "      <td>(53297, 4)</td>\n",
              "      <td>['_id', 'User_Id', 'password', 'customer_id']</td>\n",
              "    </tr>\n",
              "    <tr>\n",
              "      <th>1</th>\n",
              "      <td>Product_Review</td>\n",
              "      <td>(2854, 10)</td>\n",
              "      <td>['_id', 'review_id', 'order_id', 'customer_id'...</td>\n",
              "    </tr>\n",
              "    <tr>\n",
              "      <th>2</th>\n",
              "      <td>Customer</td>\n",
              "      <td>(33639, 14)</td>\n",
              "      <td>['_id', 'Customer_id', 'Customer name', 'Date ...</td>\n",
              "    </tr>\n",
              "    <tr>\n",
              "      <th>3</th>\n",
              "      <td>Order</td>\n",
              "      <td>(53299, 10)</td>\n",
              "      <td>['_id', 'customer_id', 'order_id', 'order_purc...</td>\n",
              "    </tr>\n",
              "    <tr>\n",
              "      <th>4</th>\n",
              "      <td>Return_Product</td>\n",
              "      <td>(495, 8)</td>\n",
              "      <td>['_id', 'order_id', '_id (order_return_id)', '...</td>\n",
              "    </tr>\n",
              "    <tr>\n",
              "      <th>5</th>\n",
              "      <td>Order_Item</td>\n",
              "      <td>(350009, 10)</td>\n",
              "      <td>['_id', 'product_id', 'seller_id', 'order_id',...</td>\n",
              "    </tr>\n",
              "    <tr>\n",
              "      <th>6</th>\n",
              "      <td>Payment</td>\n",
              "      <td>(53220, 6)</td>\n",
              "      <td>['_id', 'order_id', 'payment_value', 'payment_...</td>\n",
              "    </tr>\n",
              "    <tr>\n",
              "      <th>7</th>\n",
              "      <td>Product_Category</td>\n",
              "      <td>(75, 5)</td>\n",
              "      <td>['_id', 'product_category_id', 'product_catego...</td>\n",
              "    </tr>\n",
              "    <tr>\n",
              "      <th>8</th>\n",
              "      <td>Offer</td>\n",
              "      <td>(52256, 8)</td>\n",
              "      <td>['_id', 'order_id', 'product_id', 'offer_name'...</td>\n",
              "    </tr>\n",
              "    <tr>\n",
              "      <th>9</th>\n",
              "      <td>customer_cart</td>\n",
              "      <td>(8, 4)</td>\n",
              "      <td>['_id', 'customer_id', 'product_id', 'created_...</td>\n",
              "    </tr>\n",
              "    <tr>\n",
              "      <th>10</th>\n",
              "      <td>Location</td>\n",
              "      <td>(10000, 7)</td>\n",
              "      <td>['_id', 'ZIP_CODE', 'LATITUDE', 'LONGITUDE', '...</td>\n",
              "    </tr>\n",
              "    <tr>\n",
              "      <th>11</th>\n",
              "      <td>Complaint</td>\n",
              "      <td>(311, 7)</td>\n",
              "      <td>['_id', 'product_id', 'customer_id', 'complain...</td>\n",
              "    </tr>\n",
              "    <tr>\n",
              "      <th>12</th>\n",
              "      <td>Product</td>\n",
              "      <td>(926, 11)</td>\n",
              "      <td>['_id', 'product_id', 'product_category_id', '...</td>\n",
              "    </tr>\n",
              "  </tbody>\n",
              "</table>\n",
              "</div>"
            ],
            "text/plain": [
              "            filename         shape                                            columns\n",
              "0       User_details    (53297, 4)      ['_id', 'User_Id', 'password', 'customer_id']\n",
              "1     Product_Review    (2854, 10)  ['_id', 'review_id', 'order_id', 'customer_id'...\n",
              "2           Customer   (33639, 14)  ['_id', 'Customer_id', 'Customer name', 'Date ...\n",
              "3              Order   (53299, 10)  ['_id', 'customer_id', 'order_id', 'order_purc...\n",
              "4     Return_Product      (495, 8)  ['_id', 'order_id', '_id (order_return_id)', '...\n",
              "5         Order_Item  (350009, 10)  ['_id', 'product_id', 'seller_id', 'order_id',...\n",
              "6            Payment    (53220, 6)  ['_id', 'order_id', 'payment_value', 'payment_...\n",
              "7   Product_Category       (75, 5)  ['_id', 'product_category_id', 'product_catego...\n",
              "8              Offer    (52256, 8)  ['_id', 'order_id', 'product_id', 'offer_name'...\n",
              "9      customer_cart        (8, 4)  ['_id', 'customer_id', 'product_id', 'created_...\n",
              "10          Location    (10000, 7)  ['_id', 'ZIP_CODE', 'LATITUDE', 'LONGITUDE', '...\n",
              "11         Complaint      (311, 7)  ['_id', 'product_id', 'customer_id', 'complain...\n",
              "12           Product     (926, 11)  ['_id', 'product_id', 'product_category_id', '..."
            ]
          },
          "metadata": {
            "tags": []
          },
          "execution_count": 76
        }
      ]
    },
    {
      "cell_type": "markdown",
      "metadata": {
        "id": "BG2uMFY2f2xC"
      },
      "source": [
        "> Note: We are only using a small part of the full dataset"
      ]
    },
    {
      "cell_type": "markdown",
      "metadata": {
        "id": "kQDeGGLcfVAV"
      },
      "source": [
        "## Preprocessing and Modeling"
      ]
    },
    {
      "cell_type": "code",
      "metadata": {
        "id": "huOeGirjcNVo"
      },
      "source": [
        "data_path = '/content'\n",
        "\n",
        "df_Order = pd.read_csv(os.path.join(data_path,'Order.csv'), usecols=['customer_id', 'order_id'])\n",
        "df_Order_Item = pd.read_csv(os.path.join(data_path,'Order_Item.csv'), usecols=['product_id', 'order_id'])\n",
        "df_Product_Review = pd.read_csv(os.path.join(data_path,'Product_Review.csv'), usecols=['product_id', 'ratings'])\n",
        "df_order_order_item = df_Order.merge(df_Order_Item, on='order_id')\n",
        "Product_rating_by_Customer = df_order_order_item.merge(df_Product_Review, on='product_id') # Change the join key to customer_id once data available\n",
        "Product_rating_by_Customer.drop_duplicates(subset=['customer_id', 'product_id'], keep='first', inplace=True)\n",
        "df_User_interaction_mat = Product_rating_by_Customer.pivot(index='product_id', columns='customer_id', values='ratings').fillna(0)\n",
        "model_knn = NearestNeighbors(metric='cosine', algorithm='brute')\n",
        "model_knn.fit(csr_matrix(df_User_interaction_mat.values))\n",
        "\n",
        "def getPrediction(product_id):\n",
        "  df_product = pd.read_csv(os.path.join(data_path,'Product.csv'))\n",
        "  query_index = df_User_interaction_mat.index.get_loc(product_id)\n",
        "  distances, indices = model_knn.kneighbors(df_User_interaction_mat.iloc[query_index, :].values.reshape(1, -1), n_neighbors=6)\n",
        "  lst=[]\n",
        "  for i in range(1, len(distances.flatten())):\n",
        "      lst.append(df_product[df_product.product_id == df_User_interaction_mat.index[indices.flatten()[i]]].set_index('product_id').to_dict(orient=\"index\"))\n",
        "  return lst"
      ],
      "execution_count": null,
      "outputs": []
    },
    {
      "cell_type": "markdown",
      "metadata": {
        "id": "xCSxyrpBfZPj"
      },
      "source": [
        "## Inference"
      ]
    },
    {
      "cell_type": "code",
      "metadata": {
        "colab": {
          "base_uri": "https://localhost:8080/"
        },
        "id": "BNJh_J1CeCDg",
        "outputId": "8e04f2ef-59d7-4156-e1d5-00e2a08cfa9e"
      },
      "source": [
        "getPrediction(\"PRO012\")"
      ],
      "execution_count": 62,
      "outputs": [
        {
          "output_type": "execute_result",
          "data": {
            "text/plain": [
              "[{'PRO571': {'product_category_id': 'CAT020',\n",
              "   'product_image_path': nan,\n",
              "   'product_name': 'BERGNER Argent Tri-ply 20 cm, 3.1 L Casserole/ Dutch Ov...',\n",
              "   'product_price': 3025.0,\n",
              "   'product_qty': 133}},\n",
              " {'PRO716': {'product_category_id': 'CAT022',\n",
              "   'product_image_path': nan,\n",
              "   'product_name': 'Wingreens Farms Oregano Leaves (30g)',\n",
              "   'product_price': 449.0,\n",
              "   'product_qty': 221}},\n",
              " {'PRO119': {'product_category_id': 'CAT009',\n",
              "   'product_image_path': 'https://rukminim1.flixcart.com/image/612/612/kmf7ki80/toast-rack/0/w/d/1pc-non-stick-wire-cookie-cooling-rack-for-baking-oven-safe-tool-original-imagfbmxkgauhpza.jpeg?q=70',\n",
              "   'product_name': 'Cooling rack',\n",
              "   'product_price': 39.0,\n",
              "   'product_qty': 230}},\n",
              " {'PRO449': {'product_category_id': 'CAT018',\n",
              "   'product_image_path': nan,\n",
              "   'product_name': 'Eco Kraft Brown Packaging Paper Roll 30 Inch * 5 Mtr 12...',\n",
              "   'product_price': 210.0,\n",
              "   'product_qty': 146}},\n",
              " {'PRO621': {'product_category_id': 'CAT021',\n",
              "   'product_image_path': nan,\n",
              "   'product_name': 'Dabur Amla  Hair Oil',\n",
              "   'product_price': 114.0,\n",
              "   'product_qty': 242}}]"
            ]
          },
          "metadata": {
            "tags": []
          },
          "execution_count": 62
        }
      ]
    },
    {
      "cell_type": "code",
      "metadata": {
        "colab": {
          "base_uri": "https://localhost:8080/"
        },
        "id": "XjMUktaveM3Z",
        "outputId": "9e3deece-b286-4ff8-cc5a-cf212630334b"
      },
      "source": [
        "getPrediction(\"PRO010\")"
      ],
      "execution_count": 63,
      "outputs": [
        {
          "output_type": "execute_result",
          "data": {
            "text/plain": [
              "[{'PRO707': {'product_category_id': 'CAT022',\n",
              "   'product_image_path': nan,\n",
              "   'product_name': 'DietGro Fresh Chilli Flakes & pizza Seasoning',\n",
              "   'product_price': 198.0,\n",
              "   'product_qty': 147}},\n",
              " {'PRO708': {'product_category_id': 'CAT022',\n",
              "   'product_image_path': nan,\n",
              "   'product_name': \"chef's art Hot Chilli Flakes Seasoning\",\n",
              "   'product_price': 261.0,\n",
              "   'product_qty': 151}},\n",
              " {'PRO872': {'product_category_id': 'CAT027',\n",
              "   'product_image_path': nan,\n",
              "   'product_name': 'Aum Fresh Pav Bhaji | Freeze Dried - Instant Pav Bhaji',\n",
              "   'product_price': 220.0,\n",
              "   'product_qty': 191}},\n",
              " {'PRO812': {'product_category_id': 'CAT025',\n",
              "   'product_image_path': nan,\n",
              "   'product_name': 'MCaffeine Naked & Raw Mattifying Coffee Hand Cream',\n",
              "   'product_price': 285.0,\n",
              "   'product_qty': 238}},\n",
              " {'PRO534': {'product_category_id': 'CAT019',\n",
              "   'product_image_path': nan,\n",
              "   'product_name': 'indulekha Bhringa Hair Oil',\n",
              "   'product_price': 337.0,\n",
              "   'product_qty': 219}}]"
            ]
          },
          "metadata": {
            "tags": []
          },
          "execution_count": 63
        }
      ]
    },
    {
      "cell_type": "code",
      "metadata": {
        "colab": {
          "base_uri": "https://localhost:8080/"
        },
        "id": "AjyWoMNceOj8",
        "outputId": "a3e1a0b6-8b8f-4daa-ffbf-2cd666d722c5"
      },
      "source": [
        "getPrediction(\"PRO015\")"
      ],
      "execution_count": 64,
      "outputs": [
        {
          "output_type": "execute_result",
          "data": {
            "text/plain": [
              "[{'PRO112': {'product_category_id': 'CAT009',\n",
              "   'product_image_path': 'https://www.bigbasket.com/media/uploads/p/m/40186892_5-anjali-power-free-blender-green-grey.jpg',\n",
              "   'product_name': 'Blender',\n",
              "   'product_price': 149.0,\n",
              "   'product_qty': 215}},\n",
              " {'PRO837': {'product_category_id': 'CAT026',\n",
              "   'product_image_path': nan,\n",
              "   'product_name': 'Pack of 12 Safety Prevention Posters for Hospital Offic',\n",
              "   'product_price': 875.0,\n",
              "   'product_qty': 204}},\n",
              " {'PRO563': {'product_category_id': 'CAT020',\n",
              "   'product_image_path': nan,\n",
              "   'product_name': 'Flipkart SmartBuy Induction Bottom Cookware Set of 3',\n",
              "   'product_price': 899.0,\n",
              "   'product_qty': 159}},\n",
              " {'PRO042': {'product_category_id': 'CAT003',\n",
              "   'product_image_path': 'https://rukminim1.flixcart.com/image/612/612/kn3i1zk0/pulses/d/5/m/500-chana-dal-500-gram-organic-bengal-gram-chana-dal-chana-dal-original-imagfurtnxwpepvb.jpeg?q=70',\n",
              "   'product_name': 'Bengal Gram',\n",
              "   'product_price': 65.0,\n",
              "   'product_qty': 158}},\n",
              " {'PRO492': {'product_category_id': 'CAT019',\n",
              "   'product_image_path': nan,\n",
              "   'product_name': 'HEALTHKART Multivitamin with Probiotics',\n",
              "   'product_price': 195.0,\n",
              "   'product_qty': 134}}]"
            ]
          },
          "metadata": {
            "tags": []
          },
          "execution_count": 64
        }
      ]
    }
  ]
}