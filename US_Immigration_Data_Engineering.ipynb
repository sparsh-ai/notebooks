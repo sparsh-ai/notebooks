{
  "nbformat": 4,
  "nbformat_minor": 0,
  "metadata": {
    "colab": {
      "name": "US Immigration Data Engineering",
      "provenance": [],
      "collapsed_sections": [],
      "toc_visible": true
    },
    "kernelspec": {
      "name": "python3",
      "display_name": "Python 3"
    },
    "language_info": {
      "name": "python"
    }
  },
  "cells": [
    {
      "cell_type": "markdown",
      "source": [
        "This project will pull data from all sources and create fact and dimension tables to show movement of immigration in US. This project was made using Spark in order to make a datawarehouse in parquet file format that reflects inmigration data in US airports. It's used a star schema with a facts table an dimensional tables.\n",
        "\n",
        "The project follows the follow steps:\n",
        "- Step 1: Scope the Project and Gather Data\n",
        "- Step 2: Explore and Assess the Data\n",
        "- Step 3: Define the Data Model\n",
        "- Step 4: Run ETL to Model the Data"
      ],
      "metadata": {
        "id": "cwZPHBUaJwIO"
      }
    },
    {
      "cell_type": "markdown",
      "source": [
        "## Setup"
      ],
      "metadata": {
        "id": "_mJJA0JMKf06"
      }
    },
    {
      "cell_type": "code",
      "source": [
        "%%capture\n",
        "!git clone https://github.com/RecoHut-Datasets/i94_immigration\n",
        "%cd i94_immigration\n",
        "!tar -xvf sas_data.tar.xz"
      ],
      "metadata": {
        "id": "i6SoCQMGFHw1"
      },
      "execution_count": 1,
      "outputs": []
    },
    {
      "cell_type": "code",
      "source": [
        "%%capture\n",
        "!apt-get install openjdk-8-jdk-headless -qq > /dev/null\n",
        "!wget -q https://archive.apache.org/dist/spark/spark-3.0.0/spark-3.0.0-bin-hadoop3.2.tgz\n",
        "!tar xf spark-3.0.0-bin-hadoop3.2.tgz\n",
        "!pip install -q findspark\n",
        "!pip install -q pyspark\n",
        "\n",
        "import os\n",
        "os.environ[\"JAVA_HOME\"] = \"/usr/lib/jvm/java-8-openjdk-amd64\"\n",
        "os.environ[\"SPARK_HOME\"] = \"/content/i94_immigration/spark-3.0.0-bin-hadoop3.2\"\n",
        "\n",
        "import findspark\n",
        "findspark.init()"
      ],
      "metadata": {
        "id": "qausj34hKvNS"
      },
      "execution_count": 93,
      "outputs": []
    },
    {
      "cell_type": "code",
      "source": [
        "import pandas as pd\n",
        "import pyspark\n",
        "\n",
        "from pyspark.sql import SparkSession, SQLContext, GroupedData\n",
        "from pyspark.sql.functions import *\n",
        "from pyspark.sql.types import StructType, StructField, StringType, IntegerType, DoubleType\n",
        "from pyspark.sql.functions import date_add as d_add\n",
        "\n",
        "import warnings\n",
        "warnings.filterwarnings('ignore')"
      ],
      "metadata": {
        "id": "zV1gsdclKjyT"
      },
      "execution_count": 25,
      "outputs": []
    },
    {
      "cell_type": "code",
      "source": [
        "#Build spark session\n",
        "spark = SparkSession.builder.\\\n",
        "config(\"spark.jars.packages\",\"saurfang:spark-sas7bdat:2.0.0-s_2.11\").enableHiveSupport().getOrCreate()"
      ],
      "metadata": {
        "id": "zN6dL49LF1No"
      },
      "execution_count": 4,
      "outputs": []
    },
    {
      "cell_type": "markdown",
      "source": [
        "## Gather and Explore Data"
      ],
      "metadata": {
        "id": "yDdW3sKbKPVs"
      }
    },
    {
      "cell_type": "markdown",
      "source": [
        "### Sources Configurations"
      ],
      "metadata": {
        "id": "YDTczLDOGEWc"
      }
    },
    {
      "cell_type": "code",
      "source": [
        "paths = {\n",
        "    \"demographics\" : \"./us-cities-demographics.csv\",\n",
        "    \"airports\" :  \"./airport-codes_csv.csv\",\n",
        "    \"sas_data\" : \"./sas_data\",\n",
        "    \"us_states\" : \"./us_states.csv\",\n",
        "    \"cities\" : \"./cities.csv\",\n",
        "    \"countries\" : \"./countries.csv\",\n",
        "    \"visa\" : \"./visa.csv\",\n",
        "    \"inmigrant_airports\" : \"./airports.csv\",\n",
        "    \"mode\" : \"./mode.csv\",\n",
        "    \"airlines\" : \"./airlines.dat\"\n",
        "}"
      ],
      "metadata": {
        "id": "SA4zLcMjFv9U"
      },
      "execution_count": 14,
      "outputs": []
    },
    {
      "cell_type": "markdown",
      "source": [
        "### Get all the sources"
      ],
      "metadata": {
        "id": "w7RywcxpGZz3"
      }
    },
    {
      "cell_type": "code",
      "source": [
        "class Source:\n",
        "    \"\"\"\n",
        "    Get the sources and return dataframes\n",
        "    \"\"\"\n",
        "\n",
        "    def __init__(self, spark, paths):\n",
        "        self.spark = spark\n",
        "        self.paths = paths\n",
        "\n",
        "    def _get_standard_csv(self, filepath, delimiter=\",\"):\n",
        "        \"\"\"\n",
        "        Get sources in CSV format\n",
        "        :param filepath: csv file path\n",
        "        :param delimiter: delimiter\n",
        "        :return: dataframe\n",
        "        \"\"\"\n",
        "        return self.spark.read.format(\"csv\").option(\"header\", \"true\").option(\"delimiter\", delimiter).load(filepath)\n",
        "\n",
        "    def get_cities_demographics_raw(self):\n",
        "        \"\"\"\n",
        "        Get demographics dataset\n",
        "        :return: demographics dataset\n",
        "        \"\"\"\n",
        "        return self._get_standard_csv(filepath=self.paths[\"demographics\"], delimiter=\";\")\n",
        "\n",
        "    def get_airports_raw(self):\n",
        "        \"\"\"\n",
        "        Get airports dataset\n",
        "        :return: airports dataset\n",
        "        \"\"\"\n",
        "        return self._get_standard_csv(self.paths[\"airports\"])\n",
        "\n",
        "    def get_inmigration_raw(self):\n",
        "        \"\"\"\n",
        "        Get inmigration dataset.\n",
        "        :return: inmigration dataset\n",
        "        \"\"\"\n",
        "        return self.spark.read.parquet(self.paths[\"sas_data\"])\n",
        "\n",
        "    def get_countries_raw(self):\n",
        "        \"\"\"\n",
        "        Get countries dataset\n",
        "        :return: countries dataset\n",
        "        \"\"\"\n",
        "        # return self.spark.read.json(self.paths[\"countries\"], multiLine=True)\n",
        "        return self._get_standard_csv(self.paths[\"countries\"])\n",
        "\n",
        "    def get_visa_raw(self):\n",
        "        \"\"\"\n",
        "        Get visa dataset\n",
        "        :return: visa dataset\n",
        "        \"\"\"\n",
        "        return self._get_standard_csv(self.paths[\"visa\"])\n",
        "\n",
        "    def get_mode_raw(self):\n",
        "        \"\"\"\n",
        "        Get modes dataset\n",
        "        :return: modes dataset\n",
        "        \"\"\"\n",
        "        return self._get_standard_csv(self.paths[\"mode\"])\n",
        "\n",
        "    def get_airlines(self):\n",
        "        \"\"\"\n",
        "        Get airlines dataset\n",
        "        :return: airlines dataset\n",
        "        \"\"\"\n",
        "        schema = StructType([\n",
        "            StructField(\"Airline_ID\", IntegerType(), True),\n",
        "            StructField(\"Name\", StringType(), True),\n",
        "            StructField(\"Alias\", StringType(), True),\n",
        "            StructField(\"IATA\", StringType(), True),\n",
        "            StructField(\"ICAO\", StringType(), True),\n",
        "            StructField(\"Callsign\", StringType(), True),\n",
        "            StructField(\"Country\", StringType(), True),\n",
        "            StructField(\"Active\", StringType(), True)])\n",
        "\n",
        "        return self.spark.read.csv(self.paths[\"airlines\"], header=False, schema=schema)"
      ],
      "metadata": {
        "id": "0gchs5vFFv7V"
      },
      "execution_count": 15,
      "outputs": []
    },
    {
      "cell_type": "code",
      "source": [
        "source = Source(spark, paths)\n",
        "\n",
        "demog = source.get_cities_demographics_raw()\n",
        "airport = source.get_airports_raw()\n",
        "sas_data = source.get_inmigration_raw()\n",
        "countries = source.get_countries_raw()\n",
        "visa = source.get_visa_raw()\n",
        "mode = source.get_mode_raw()\n",
        "airlines = source.get_airlines()"
      ],
      "metadata": {
        "id": "vgnPyuszFv5S"
      },
      "execution_count": 17,
      "outputs": []
    },
    {
      "cell_type": "markdown",
      "source": [
        "### View Sources Datasets in raw format"
      ],
      "metadata": {
        "id": "FWNq2SN7Fv2K"
      }
    },
    {
      "cell_type": "code",
      "source": [
        "demog.show()"
      ],
      "metadata": {
        "colab": {
          "base_uri": "https://localhost:8080/"
        },
        "id": "zTaAekfQFv0T",
        "outputId": "710e1c2c-af00-4547-ba05-6b5e8316317a"
      },
      "execution_count": 18,
      "outputs": [
        {
          "output_type": "stream",
          "name": "stdout",
          "text": [
            "+----------------+--------------+----------+---------------+-----------------+----------------+------------------+------------+----------------------+----------+--------------------+------+\n",
            "|            City|         State|Median Age|Male Population|Female Population|Total Population|Number of Veterans|Foreign-born|Average Household Size|State Code|                Race| Count|\n",
            "+----------------+--------------+----------+---------------+-----------------+----------------+------------------+------------+----------------------+----------+--------------------+------+\n",
            "|   Silver Spring|      Maryland|      33.8|          40601|            41862|           82463|              1562|       30908|                   2.6|        MD|  Hispanic or Latino| 25924|\n",
            "|          Quincy| Massachusetts|      41.0|          44129|            49500|           93629|              4147|       32935|                  2.39|        MA|               White| 58723|\n",
            "|          Hoover|       Alabama|      38.5|          38040|            46799|           84839|              4819|        8229|                  2.58|        AL|               Asian|  4759|\n",
            "|Rancho Cucamonga|    California|      34.5|          88127|            87105|          175232|              5821|       33878|                  3.18|        CA|Black or African-...| 24437|\n",
            "|          Newark|    New Jersey|      34.6|         138040|           143873|          281913|              5829|       86253|                  2.73|        NJ|               White| 76402|\n",
            "|          Peoria|      Illinois|      33.1|          56229|            62432|          118661|              6634|        7517|                   2.4|        IL|American Indian a...|  1343|\n",
            "|        Avondale|       Arizona|      29.1|          38712|            41971|           80683|              4815|        8355|                  3.18|        AZ|Black or African-...| 11592|\n",
            "|     West Covina|    California|      39.8|          51629|            56860|          108489|              3800|       37038|                  3.56|        CA|               Asian| 32716|\n",
            "|        O'Fallon|      Missouri|      36.0|          41762|            43270|           85032|              5783|        3269|                  2.77|        MO|  Hispanic or Latino|  2583|\n",
            "|      High Point|North Carolina|      35.5|          51751|            58077|          109828|              5204|       16315|                  2.65|        NC|               Asian| 11060|\n",
            "|          Folsom|    California|      40.9|          41051|            35317|           76368|              4187|       13234|                  2.62|        CA|  Hispanic or Latino|  5822|\n",
            "|          Folsom|    California|      40.9|          41051|            35317|           76368|              4187|       13234|                  2.62|        CA|American Indian a...|   998|\n",
            "|    Philadelphia|  Pennsylvania|      34.1|         741270|           826172|         1567442|             61995|      205339|                  2.61|        PA|               Asian|122721|\n",
            "|         Wichita|        Kansas|      34.6|         192354|           197601|          389955|             23978|       40270|                  2.56|        KS|  Hispanic or Latino| 65162|\n",
            "|         Wichita|        Kansas|      34.6|         192354|           197601|          389955|             23978|       40270|                  2.56|        KS|American Indian a...|  8791|\n",
            "|      Fort Myers|       Florida|      37.3|          36850|            37165|           74015|              4312|       15365|                  2.45|        FL|               White| 50169|\n",
            "|      Pittsburgh|  Pennsylvania|      32.9|         149690|           154695|          304385|             17728|       28187|                  2.13|        PA|               White|208863|\n",
            "|          Laredo|         Texas|      28.8|         124305|           131484|          255789|              4921|       68427|                  3.66|        TX|American Indian a...|  1253|\n",
            "|        Berkeley|    California|      32.5|          60142|            60829|          120971|              3736|       25000|                  2.35|        CA|               Asian| 27089|\n",
            "|     Santa Clara|    California|      35.2|          63278|            62938|          126216|              4426|       52281|                  2.75|        CA|               White| 55847|\n",
            "+----------------+--------------+----------+---------------+-----------------+----------------+------------------+------------+----------------------+----------+--------------------+------+\n",
            "only showing top 20 rows\n",
            "\n"
          ]
        }
      ]
    },
    {
      "cell_type": "code",
      "source": [
        "airport.show()"
      ],
      "metadata": {
        "colab": {
          "base_uri": "https://localhost:8080/"
        },
        "id": "HIng6CV-Io9D",
        "outputId": "8d6270c5-8e87-4d46-a413-0ce8deda5384"
      },
      "execution_count": 19,
      "outputs": [
        {
          "output_type": "stream",
          "name": "stdout",
          "text": [
            "+-----+-------------+--------------------+------------+---------+-----------+----------+------------+--------+---------+----------+--------------------+\n",
            "|ident|         type|                name|elevation_ft|continent|iso_country|iso_region|municipality|gps_code|iata_code|local_code|         coordinates|\n",
            "+-----+-------------+--------------------+------------+---------+-----------+----------+------------+--------+---------+----------+--------------------+\n",
            "|  00A|     heliport|   Total Rf Heliport|          11|       NA|         US|     US-PA|    Bensalem|     00A|     null|       00A|-74.9336013793945...|\n",
            "| 00AA|small_airport|Aero B Ranch Airport|        3435|       NA|         US|     US-KS|       Leoti|    00AA|     null|      00AA|-101.473911, 38.7...|\n",
            "| 00AK|small_airport|        Lowell Field|         450|       NA|         US|     US-AK|Anchor Point|    00AK|     null|      00AK|-151.695999146, 5...|\n",
            "| 00AL|small_airport|        Epps Airpark|         820|       NA|         US|     US-AL|     Harvest|    00AL|     null|      00AL|-86.7703018188476...|\n",
            "| 00AR|       closed|Newport Hospital ...|         237|       NA|         US|     US-AR|     Newport|    null|     null|      null| -91.254898, 35.6087|\n",
            "| 00AS|small_airport|      Fulton Airport|        1100|       NA|         US|     US-OK|        Alex|    00AS|     null|      00AS|-97.8180194, 34.9...|\n",
            "| 00AZ|small_airport|      Cordes Airport|        3810|       NA|         US|     US-AZ|      Cordes|    00AZ|     null|      00AZ|-112.165000915527...|\n",
            "| 00CA|small_airport|Goldstone /Gts/ A...|        3038|       NA|         US|     US-CA|     Barstow|    00CA|     null|      00CA|-116.888000488, 3...|\n",
            "| 00CL|small_airport| Williams Ag Airport|          87|       NA|         US|     US-CA|       Biggs|    00CL|     null|      00CL|-121.763427, 39.4...|\n",
            "| 00CN|     heliport|Kitchen Creek Hel...|        3350|       NA|         US|     US-CA| Pine Valley|    00CN|     null|      00CN|-116.4597417, 32....|\n",
            "| 00CO|       closed|          Cass Field|        4830|       NA|         US|     US-CO|  Briggsdale|    null|     null|      null|-104.344002, 40.6...|\n",
            "| 00FA|small_airport| Grass Patch Airport|          53|       NA|         US|     US-FL|    Bushnell|    00FA|     null|      00FA|-82.2190017700195...|\n",
            "| 00FD|     heliport|  Ringhaver Heliport|          25|       NA|         US|     US-FL|   Riverview|    00FD|     null|      00FD|-82.3453979492187...|\n",
            "| 00FL|small_airport|   River Oak Airport|          35|       NA|         US|     US-FL|  Okeechobee|    00FL|     null|      00FL|-80.9692001342773...|\n",
            "| 00GA|small_airport|    Lt World Airport|         700|       NA|         US|     US-GA|    Lithonia|    00GA|     null|      00GA|-84.0682983398437...|\n",
            "| 00GE|     heliport|    Caffrey Heliport|         957|       NA|         US|     US-GA|       Hiram|    00GE|     null|      00GE|-84.7339019775390...|\n",
            "| 00HI|     heliport|  Kaupulehu Heliport|          43|       NA|         US|     US-HI| Kailua/Kona|    00HI|     null|      00HI|-155.980233, 19.8...|\n",
            "| 00ID|small_airport|Delta Shores Airport|        2064|       NA|         US|     US-ID|  Clark Fork|    00ID|     null|      00ID|-116.213996887207...|\n",
            "| 00IG|small_airport|       Goltl Airport|        3359|       NA|         US|     US-KS|    McDonald|    00IG|     null|      00IG|-101.395994, 39.7...|\n",
            "| 00II|     heliport|Bailey Generation...|         600|       NA|         US|     US-IN|  Chesterton|    00II|     null|      00II|-87.122802734375,...|\n",
            "+-----+-------------+--------------------+------------+---------+-----------+----------+------------+--------+---------+----------+--------------------+\n",
            "only showing top 20 rows\n",
            "\n"
          ]
        }
      ]
    },
    {
      "cell_type": "code",
      "source": [
        "sas_data.show()"
      ],
      "metadata": {
        "colab": {
          "base_uri": "https://localhost:8080/"
        },
        "id": "HJ4uvTlgIrkO",
        "outputId": "def7ead4-4f0f-4f56-dbc1-521224e632fd"
      },
      "execution_count": 20,
      "outputs": [
        {
          "output_type": "stream",
          "name": "stdout",
          "text": [
            "+---------+------+------+------+------+-------+-------+-------+-------+-------+------+-------+-----+--------+--------+-----+-------+-------+-------+-------+-------+--------+------+------+-------+--------------+-----+--------+\n",
            "|    cicid| i94yr|i94mon|i94cit|i94res|i94port|arrdate|i94mode|i94addr|depdate|i94bir|i94visa|count|dtadfile|visapost|occup|entdepa|entdepd|entdepu|matflag|biryear| dtaddto|gender|insnum|airline|        admnum|fltno|visatype|\n",
            "+---------+------+------+------+------+-------+-------+-------+-------+-------+------+-------+-----+--------+--------+-----+-------+-------+-------+-------+-------+--------+------+------+-------+--------------+-----+--------+\n",
            "|5748517.0|2016.0|   4.0| 245.0| 438.0|    LOS|20574.0|    1.0|     CA|20582.0|  40.0|    1.0|  1.0|20160430|     SYD| null|      G|      O|   null|      M| 1976.0|10292016|     F|  null|     QF|9.495387003E10|00011|      B1|\n",
            "|5748518.0|2016.0|   4.0| 245.0| 438.0|    LOS|20574.0|    1.0|     NV|20591.0|  32.0|    1.0|  1.0|20160430|     SYD| null|      G|      O|   null|      M| 1984.0|10292016|     F|  null|     VA|9.495562283E10|00007|      B1|\n",
            "|5748519.0|2016.0|   4.0| 245.0| 438.0|    LOS|20574.0|    1.0|     WA|20582.0|  29.0|    1.0|  1.0|20160430|     SYD| null|      G|      O|   null|      M| 1987.0|10292016|     M|  null|     DL|9.495640653E10|00040|      B1|\n",
            "|5748520.0|2016.0|   4.0| 245.0| 438.0|    LOS|20574.0|    1.0|     WA|20588.0|  29.0|    1.0|  1.0|20160430|     SYD| null|      G|      O|   null|      M| 1987.0|10292016|     F|  null|     DL|9.495645143E10|00040|      B1|\n",
            "|5748521.0|2016.0|   4.0| 245.0| 438.0|    LOS|20574.0|    1.0|     WA|20588.0|  28.0|    1.0|  1.0|20160430|     SYD| null|      G|      O|   null|      M| 1988.0|10292016|     M|  null|     DL|9.495638813E10|00040|      B1|\n",
            "|5748522.0|2016.0|   4.0| 245.0| 464.0|    HHW|20574.0|    1.0|     HI|20579.0|  57.0|    2.0|  1.0|20160430|     ACK| null|      G|      O|   null|      M| 1959.0|10292016|     M|  null|     NZ|9.498180283E10|00010|      B2|\n",
            "|5748523.0|2016.0|   4.0| 245.0| 464.0|    HHW|20574.0|    1.0|     HI|20586.0|  66.0|    2.0|  1.0|20160430|     ACK| null|      G|      O|   null|      M| 1950.0|10292016|     F|  null|     NZ|9.497968993E10|00010|      B2|\n",
            "|5748524.0|2016.0|   4.0| 245.0| 464.0|    HHW|20574.0|    1.0|     HI|20586.0|  41.0|    2.0|  1.0|20160430|     ACK| null|      G|      O|   null|      M| 1975.0|10292016|     F|  null|     NZ|9.497974673E10|00010|      B2|\n",
            "|5748525.0|2016.0|   4.0| 245.0| 464.0|    HOU|20574.0|    1.0|     FL|20581.0|  27.0|    2.0|  1.0|20160430|     ACK| null|      G|      O|   null|      M| 1989.0|10292016|     M|  null|     NZ|9.497324663E10|00028|      B2|\n",
            "|5748526.0|2016.0|   4.0| 245.0| 464.0|    LOS|20574.0|    1.0|     CA|20581.0|  26.0|    2.0|  1.0|20160430|     ACK| null|      G|      O|   null|      M| 1990.0|10292016|     F|  null|     NZ|9.501354793E10|00002|      B2|\n",
            "|5748527.0|2016.0|   4.0| 245.0| 504.0|    NEW|20574.0|    1.0|     MA|20576.0|  44.0|    2.0|  1.0|20160430|     GUZ| null|      G|      O|   null|      M| 1972.0|10292016|     M|  null|     UA|9.493828593E10|01215|      B2|\n",
            "|5748528.0|2016.0|   4.0| 245.0| 504.0|    LOS|20574.0|    1.0|   null|20575.0|  39.0|    2.0|  1.0|20160430|     GUZ| null|      G|      O|   null|      M| 1977.0|10292016|     M|  null|     CM|9.501810463E10|00472|      B2|\n",
            "|5748529.0|2016.0|   4.0| 245.0| 504.0|    WAS|20574.0|    1.0|     VA|20596.0|  38.0|    2.0|  1.0|20160430|     PNM| null|      G|      O|   null|      M| 1978.0|10292016|     M|  null|     CM|9.492489983E10|00488|      B2|\n",
            "|5748530.0|2016.0|   4.0| 245.0| 504.0|    LOS|20574.0|    1.0|     CA|20577.0|  56.0|    2.0|  1.0|20160430|     PNM| null|      G|      O|   null|      M| 1960.0|10292016|     F|  null|     CM|9.492648103E10|00302|      B2|\n",
            "|5748531.0|2016.0|   4.0| 245.0| 504.0|    LOS|20574.0|    1.0|     CA|20577.0|  38.0|    2.0|  1.0|20160430|     PNM| null|      G|      O|   null|      M| 1978.0|10282016|     M|  null|     CM|9.492629303E10|00302|      B2|\n",
            "|5748532.0|2016.0|   4.0| 245.0| 504.0|    MIA|20574.0|    1.0|     FL|20581.0|  53.0|    2.0|  1.0|20160430|     PNM| null|      G|      O|   null|      M| 1963.0|10292016|     F|  null|     CM|9.500640513E10|00430|      B2|\n",
            "|5748534.0|2016.0|   4.0| 245.0| 528.0|    SFR|20574.0|    1.0|     CA|   null|  84.0|    2.0|  1.0|20160430|     HNK| null|      G|   null|   null|   null| 1932.0|10282016|     F|  null|     CX|9.492476223E10|00872|      B2|\n",
            "|5748876.0|2016.0|   4.0| 245.0| 582.0|    HOU|20574.0|    1.0|     TX|20583.0|  43.0|    1.0|  1.0|20160430|     GUZ| null|      G|      O|   null|      M| 1973.0|10292016|     M|  null|     UA|9.499463063E10|05574|      B1|\n",
            "|5748877.0|2016.0|   4.0| 245.0| 582.0|    HOU|20574.0|    1.0|     TX|20583.0|  30.0|    1.0|  1.0|20160430|     GUZ| null|      G|      O|   null|      M| 1986.0|10292016|     F|  null|     UA|9.499447663E10|05574|      B1|\n",
            "|5748881.0|2016.0|   4.0| 245.0| 582.0|    LOS|20574.0|    1.0|     CA|20575.0|  34.0|    2.0|  1.0|20160430|     SHG| null|      G|      O|   null|      M| 1982.0|10292016|     M|  null|     AM|9.496770903E10|00646|      B2|\n",
            "+---------+------+------+------+------+-------+-------+-------+-------+-------+------+-------+-----+--------+--------+-----+-------+-------+-------+-------+-------+--------+------+------+-------+--------------+-----+--------+\n",
            "only showing top 20 rows\n",
            "\n"
          ]
        }
      ]
    },
    {
      "cell_type": "code",
      "source": [
        "countries.show()"
      ],
      "metadata": {
        "colab": {
          "base_uri": "https://localhost:8080/"
        },
        "id": "IVEMMFZ8Is8_",
        "outputId": "036d64e0-539a-4a43-f2d4-e330a49631d0"
      },
      "execution_count": 21,
      "outputs": [
        {
          "output_type": "stream",
          "name": "stdout",
          "text": [
            "+----+--------------------+\n",
            "|code|        country_name|\n",
            "+----+--------------------+\n",
            "| 582|MEXICO Air Sea, a...|\n",
            "| 236|         AFGHANISTAN|\n",
            "| 101|             ALBANIA|\n",
            "| 316|             ALGERIA|\n",
            "| 102|             ANDORRA|\n",
            "| 324|              ANGOLA|\n",
            "| 529|            ANGUILLA|\n",
            "| 518|     ANTIGUA-BARBUDA|\n",
            "| 687|           ARGENTINA|\n",
            "| 151|             ARMENIA|\n",
            "| 532|               ARUBA|\n",
            "| 438|           AUSTRALIA|\n",
            "| 103|             AUSTRIA|\n",
            "| 152|          AZERBAIJAN|\n",
            "| 512|             BAHAMAS|\n",
            "| 298|             BAHRAIN|\n",
            "| 274|          BANGLADESH|\n",
            "| 513|            BARBADOS|\n",
            "| 104|             BELGIUM|\n",
            "| 581|              BELIZE|\n",
            "+----+--------------------+\n",
            "only showing top 20 rows\n",
            "\n"
          ]
        }
      ]
    },
    {
      "cell_type": "code",
      "source": [
        "visa.show()"
      ],
      "metadata": {
        "colab": {
          "base_uri": "https://localhost:8080/"
        },
        "id": "FwI_rwwCIuL7",
        "outputId": "a6e74159-cd08-4283-cbe5-9a4ffacd2a96"
      },
      "execution_count": 22,
      "outputs": [
        {
          "output_type": "stream",
          "name": "stdout",
          "text": [
            "+---------+--------+\n",
            "|visa_code|    visa|\n",
            "+---------+--------+\n",
            "|        1|Business|\n",
            "|        2|Pleasure|\n",
            "|        3| Student|\n",
            "+---------+--------+\n",
            "\n"
          ]
        }
      ]
    },
    {
      "cell_type": "code",
      "source": [
        "mode.show()"
      ],
      "metadata": {
        "colab": {
          "base_uri": "https://localhost:8080/"
        },
        "id": "wpsp1nV_IvaN",
        "outputId": "0e28b59e-966b-4048-f931-17310deaa86e"
      },
      "execution_count": 23,
      "outputs": [
        {
          "output_type": "stream",
          "name": "stdout",
          "text": [
            "+--------+----------------+\n",
            "|cod_mode|       mode_name|\n",
            "+--------+----------------+\n",
            "|     1.0|             Air|\n",
            "|     2.0|             Sea|\n",
            "|     3.0|            Land|\n",
            "|     9.0|Not reportedmode|\n",
            "+--------+----------------+\n",
            "\n"
          ]
        }
      ]
    },
    {
      "cell_type": "code",
      "source": [
        "airlines.show()"
      ],
      "metadata": {
        "colab": {
          "base_uri": "https://localhost:8080/"
        },
        "id": "G_DsxkBmIwgy",
        "outputId": "e1862243-c6ab-494e-8b85-9b0c2d5e6241"
      },
      "execution_count": 24,
      "outputs": [
        {
          "output_type": "stream",
          "name": "stdout",
          "text": [
            "+----------+--------------------+-----+----+----+--------------+--------------+------+\n",
            "|Airline_ID|                Name|Alias|IATA|ICAO|      Callsign|       Country|Active|\n",
            "+----------+--------------------+-----+----+----+--------------+--------------+------+\n",
            "|        -1|             Unknown|   \\N|   -| N/A|            \\N|            \\N|     Y|\n",
            "|         1|      Private flight|   \\N|   -| N/A|          null|          null|     Y|\n",
            "|         2|         135 Airways|   \\N|null| GNL|       GENERAL| United States|     N|\n",
            "|         3|       1Time Airline|   \\N|  1T| RNX|       NEXTIME|  South Africa|     Y|\n",
            "|         4|2 Sqn No 1 Elemen...|   \\N|null| WYT|          null|United Kingdom|     N|\n",
            "|         5|     213 Flight Unit|   \\N|null| TFU|          null|        Russia|     N|\n",
            "|         6|223 Flight Unit S...|   \\N|null| CHD|CHKALOVSK-AVIA|        Russia|     N|\n",
            "|         7|   224th Flight Unit|   \\N|null| TTF|    CARGO UNIT|        Russia|     N|\n",
            "|         8|         247 Jet Ltd|   \\N|null| TWF|  CLOUD RUNNER|United Kingdom|     N|\n",
            "|         9|         3D Aviation|   \\N|null| SEC|       SECUREX| United States|     N|\n",
            "|        10|         40-Mile Air|   \\N|  Q5| MLA|      MILE-AIR| United States|     Y|\n",
            "|        11|              4D Air|   \\N|null| QRT|       QUARTET|      Thailand|     N|\n",
            "|        12|611897 Alberta Li...|   \\N|null| THD|         DONUT|        Canada|     N|\n",
            "|        13|    Ansett Australia|   \\N|  AN| AAA|        ANSETT|     Australia|     Y|\n",
            "|        14|Abacus International|   \\N|  1B|null|          null|     Singapore|     Y|\n",
            "|        15|     Abelag Aviation|   \\N|  W9| AAB|           ABG|       Belgium|     N|\n",
            "|        16|      Army Air Corps|   \\N|null| AAC|       ARMYAIR|United Kingdom|     N|\n",
            "|        17|Aero Aviation Cen...|   \\N|null| AAD|       SUNRISE|        Canada|     N|\n",
            "|        18|Aero Servicios Ej...|   \\N|null| SII|        ASEISA|        Mexico|     N|\n",
            "|        19|         Aero Biniza|   \\N|null| BZS|        BINIZA|        Mexico|     N|\n",
            "+----------+--------------------+-----+----+----+--------------+--------------+------+\n",
            "only showing top 20 rows\n",
            "\n"
          ]
        }
      ]
    },
    {
      "cell_type": "markdown",
      "source": [
        "## Clean the data"
      ],
      "metadata": {
        "id": "kM_vkSyZIxsE"
      }
    },
    {
      "cell_type": "code",
      "source": [
        "class Cleaner:\n",
        "    \"\"\"\n",
        "    Clean de origin datasets\n",
        "    \"\"\"\n",
        "\n",
        "\n",
        "    @staticmethod\n",
        "    def get_cities_demographics(demographics):\n",
        "        \"\"\"\n",
        "        Clean demographics dataset, filling null values withn 0 and grouping by city and state and pivot\n",
        "        Race in diferent columns.\n",
        "        :param demographics: demographics dataset\n",
        "        :return: demographics dataset cleaned\n",
        "        \"\"\"\n",
        "        pivot = demographics.groupBy(col(\"City\"), col(\"State\"), col(\"Median Age\"), col(\"Male Population\"),\n",
        "                                     col(\"Female Population\") \\\n",
        "                                     , col(\"Total Population\"), col(\"Number of Veterans\"), col(\"Foreign-born\"),\n",
        "                                     col(\"Average Household Size\") \\\n",
        "                                     , col(\"State Code\")).pivot(\"Race\").agg(sum(\"count\").cast(\"integer\")) \\\n",
        "            .fillna({\"American Indian and Alaska Native\": 0,\n",
        "                     \"Asian\": 0,\n",
        "                     \"Black or African-American\": 0,\n",
        "                     \"Hispanic or Latino\": 0,\n",
        "                     \"White\": 0})\n",
        "\n",
        "        return pivot\n",
        "\n",
        "    @staticmethod\n",
        "    def get_airports(airports):\n",
        "        \"\"\"\n",
        "        Clean airports dataset filtering only US airports and discarting anything else that is not an airport.\n",
        "        Extract iso regions and cast as float elevation feet.\n",
        "        :param airports: airports dataframe\n",
        "        :return: airports dataframe cleaned\n",
        "        \"\"\"\n",
        "        airports = airports \\\n",
        "            .where(\n",
        "            (col(\"iso_country\") == \"US\") & (col(\"type\").isin(\"large_airport\", \"medium_airport\", \"small_airport\"))) \\\n",
        "            .withColumn(\"iso_region\", substring(col(\"iso_region\"), 4, 2)) \\\n",
        "            .withColumn(\"elevation_ft\", col(\"elevation_ft\").cast(\"float\"))\n",
        "\n",
        "        return airports\n",
        "\n",
        "    @staticmethod\n",
        "    def get_inmigration(inmigration):\n",
        "        \"\"\"\n",
        "        Clean the inmigrantion dataset. Rename columns with understandable names. Put correct formats in dates and s\n",
        "        elect only important columns \n",
        "        :param inmigration: inmigrantion dataset\n",
        "        :return: inmigrantion dataset cleaned\n",
        "        \"\"\"\n",
        "        inmigration = inmigration \\\n",
        "            .withColumn(\"cic_id\", col(\"cicid\").cast(\"integer\")) \\\n",
        "            .drop(\"cicid\") \\\n",
        "            .withColumnRenamed(\"i94addr\", \"cod_state\") \\\n",
        "            .withColumnRenamed(\"i94port\", \"cod_port\") \\\n",
        "            .withColumn(\"cod_visa\", col(\"i94visa\").cast(\"integer\")) \\\n",
        "            .drop(\"i94visa\") \\\n",
        "            .withColumn(\"cod_mode\", col(\"i94mode\").cast(\"integer\")) \\\n",
        "            .drop(\"i94mode\") \\\n",
        "            .withColumn(\"cod_country_origin\", col(\"i94res\").cast(\"integer\")) \\\n",
        "            .drop(\"i94res\") \\\n",
        "            .withColumn(\"cod_country_cit\", col(\"i94cit\").cast(\"integer\")) \\\n",
        "            .drop(\"i94cit\") \\\n",
        "            .withColumn(\"year\", col(\"i94yr\").cast(\"integer\")) \\\n",
        "            .drop(\"i94yr\") \\\n",
        "            .withColumn(\"month\", col(\"i94mon\").cast(\"integer\")) \\\n",
        "            .drop(\"i94mon\") \\\n",
        "            .withColumn(\"bird_year\", col(\"biryear\").cast(\"integer\")) \\\n",
        "            .drop(\"biryear\") \\\n",
        "            .withColumn(\"age\", col(\"i94bir\").cast(\"integer\")) \\\n",
        "            .drop(\"i94bir\") \\\n",
        "            .withColumn(\"counter\", col(\"count\").cast(\"integer\")) \\\n",
        "            .drop(\"count\") \\\n",
        "            .withColumn(\"arr_date\", col(\"arrdate\").cast(\"integer\")) \\\n",
        "            .drop(\"arrdate\") \\\n",
        "            .withColumn(\"dep_date\", col(\"depdate\").cast(\"integer\")) \\\n",
        "            .drop(\"depdate\") \\\n",
        "            .withColumn(\"data_base_sas\", to_date(lit(\"01/01/1960\"), \"MM/dd/yyyy\")) \\\n",
        "            .withColumn(\"arrival_date\", expr(\"date_add(data_base_sas, arr_date)\")) \\\n",
        "            .withColumn(\"departure_date\", expr(\"date_add(data_base_sas, dep_date)\")) \\\n",
        "            .drop(\"data_base_sas\", \"arr_date\", \"dep_date\")\n",
        "\n",
        "        return inmigration.select(col(\"cic_id\"), col(\"cod_port\"), col(\"cod_state\"), col(\"visapost\"), col(\"matflag\"),\n",
        "                                  col(\"dtaddto\") \\\n",
        "                                  , col(\"gender\"), col(\"airline\"), col(\"admnum\"), col(\"fltno\"), col(\"visatype\"),\n",
        "                                  col(\"cod_visa\"), col(\"cod_mode\") \\\n",
        "                                  , col(\"cod_country_origin\"), col(\"cod_country_cit\"), col(\"year\"), col(\"month\"),\n",
        "                                  col(\"bird_year\") \\\n",
        "                                  , col(\"age\"), col(\"counter\"), col(\"arrival_date\"), col(\"departure_date\"))\n",
        "\n",
        "    @staticmethod\n",
        "    def get_countries(countries):\n",
        "        \"\"\"\n",
        "        Clean countries dataset.\n",
        "        :param countries: countries dataset\n",
        "        :return: countries dataset cleaned\n",
        "        \"\"\"\n",
        "        country = countries \\\n",
        "            .withColumnRenamed(\"code\", \"cod_country\")\n",
        "        return country\n",
        "\n",
        "    @staticmethod\n",
        "    def get_visa(visa):\n",
        "        \"\"\"\n",
        "        Clean visa dataset. \n",
        "        :param visa: visa dataset\n",
        "        :return: visa dataset cleaned\n",
        "        \"\"\"\n",
        "        visa = visa \\\n",
        "            .withColumnRenamed(\"visa_code\", \"cod_visa\")\n",
        "        return visa\n",
        "\n",
        "    @staticmethod\n",
        "    def get_mode(mode):\n",
        "        \"\"\"\n",
        "        Clean mode dataset\n",
        "        :param mode: mode dataset\n",
        "        :return: mode dataset cleaned\n",
        "        \"\"\"\n",
        "        modes = mode \\\n",
        "            .withColumn(\"cod_mode\", col(\"cod_mode\").cast(\"integer\")) \\\n",
        "            .withColumnRenamed(\" mode_name\", \"mode_name\")\n",
        "        return modes\n",
        "\n",
        "    @staticmethod\n",
        "    def get_airlines(airlines):\n",
        "        \"\"\"\n",
        "        Clean airlines dataset and filter only airlines with IATA code.\n",
        "        :param airlines: airlines dataset \n",
        "        :return: airlines dataset  cleaned\n",
        "        \"\"\"\n",
        "        airlines = airlines \\\n",
        "            .where((col(\"IATA\").isNotNull()) & (col(\"Airline_ID\") > 1)) \\\n",
        "            .drop(\"Alias\")\n",
        "\n",
        "        return airlines"
      ],
      "metadata": {
        "id": "tM86h95ZJHwe"
      },
      "execution_count": 38,
      "outputs": []
    },
    {
      "cell_type": "code",
      "source": [
        "demog_clean = Cleaner.get_cities_demographics(demog)\n",
        "demog_clean.show()"
      ],
      "metadata": {
        "colab": {
          "base_uri": "https://localhost:8080/"
        },
        "id": "qRq_lSk5I40T",
        "outputId": "5c1ad7fc-c5b3-4280-b337-6f78c19aa95b"
      },
      "execution_count": 27,
      "outputs": [
        {
          "output_type": "stream",
          "name": "stdout",
          "text": [
            "+---------------+--------------+----------+---------------+-----------------+----------------+------------------+------------+----------------------+----------+---------------------------------+-----+-------------------------+------------------+------+\n",
            "|           City|         State|Median Age|Male Population|Female Population|Total Population|Number of Veterans|Foreign-born|Average Household Size|State Code|American Indian and Alaska Native|Asian|Black or African-American|Hispanic or Latino| White|\n",
            "+---------------+--------------+----------+---------------+-----------------+----------------+------------------+------------+----------------------+----------+---------------------------------+-----+-------------------------+------------------+------+\n",
            "|         Skokie|      Illinois|      43.4|          31382|            33437|           64819|              1066|       27424|                  2.78|        IL|                                0|20272|                     4937|              6590| 40642|\n",
            "|      Charlotte|North Carolina|      34.3|         396646|           430475|          827121|             36046|      128897|                  2.52|        NC|                             8746|55399|                   301568|            113731|446795|\n",
            "|     Manchester| New Hampshire|      37.3|          54845|            55378|          110223|              5473|       14506|                   2.4|        NH|                              558| 4304|                     6896|             11962|100108|\n",
            "|          Chico|    California|      29.9|          46168|            44168|           90336|              4519|        8425|                   2.5|        CA|                             2766| 6101|                     3164|             15578| 80467|\n",
            "|  Silver Spring|      Maryland|      33.8|          40601|            41862|           82463|              1562|       30908|                   2.6|        MD|                             1084| 8841|                    21330|             25924| 37756|\n",
            "|      Poinciana|       Florida|      34.2|          38142|            35801|           73943|              2933|       14349|                  3.93|        FL|                             1593| 1409|                    24750|             37382| 45622|\n",
            "|     Lauderhill|       Florida|      35.7|          32813|            38761|           71574|              1965|       25471|                  3.02|        FL|                             1186| 2662|                    56948|              6089| 10788|\n",
            "|        Hampton|      Virginia|      35.5|          66214|            70240|          136454|             19638|        6204|                  2.48|        VA|                             2534| 4561|                    70303|              7513| 61753|\n",
            "|        Shawnee|        Kansas|      40.1|          32313|            32745|           65058|              3575|        4136|                  2.64|        KS|                              485| 3093|                     7296|              4864| 55883|\n",
            "|    Bolingbrook|      Illinois|      33.7|          36295|            35801|           72096|              2951|       15212|                  3.42|        IL|                              323| 9788|                    12671|             16904| 40458|\n",
            "|         Fresno|    California|      30.0|         256130|           263942|          520072|             18410|      103453|                  3.12|        CA|                            11380|75318|                    46072|            256145|325651|\n",
            "|       Brockton| Massachusetts|      35.2|          46273|            49041|           95314|              3036|       27313|                  2.88|        MA|                              881| 2528|                    43646|             10890| 40110|\n",
            "|Deerfield Beach|       Florida|      41.4|          37155|            42614|           79769|              3882|       23642|                  2.46|        FL|                              698| 1428|                    25344|             12729| 53037|\n",
            "|      New Haven|   Connecticut|      29.9|          63765|            66545|          130310|              2567|       25871|                  2.48|        CT|                             2205| 7966|                    43356|             43563| 56251|\n",
            "|    New Orleans|     Louisiana|      35.9|         185736|           203881|          389617|             17388|       21679|                  2.41|        LA|                             2496|13349|                   234645|             21850|140314|\n",
            "|     Lewisville|         Texas|      31.6|          52776|            52032|          104808|              4211|       24865|                  2.78|        TX|                             1371|12412|                    16948|             31757| 70278|\n",
            "| Corpus Christi|         Texas|      35.0|         160488|           163594|          324082|             25078|       30834|                  2.69|        TX|                             2972| 9051|                    14978|            200737|292663|\n",
            "|      Knoxville|     Tennessee|      33.1|          89978|            95334|          185312|             10897|       10285|                  2.21|        TN|                             2304| 4717|                    35049|              8640|145055|\n",
            "|  Santa Barbara|    California|      37.8|          45068|            46784|           91852|              4518|       19441|                  2.51|        CA|                             1560| 4964|                     2013|             31102| 73659|\n",
            "|   Casas Adobes|       Arizona|      44.8|          30890|            34375|           65265|              6601|        7024|                  2.24|        AZ|                             2047| 3009|                     1854|             13609| 58956|\n",
            "+---------------+--------------+----------+---------------+-----------------+----------------+------------------+------------+----------------------+----------+---------------------------------+-----+-------------------------+------------------+------+\n",
            "only showing top 20 rows\n",
            "\n"
          ]
        }
      ]
    },
    {
      "cell_type": "code",
      "source": [
        "airport_clean = Cleaner.get_airports(airport)\n",
        "airport_clean.show()"
      ],
      "metadata": {
        "colab": {
          "base_uri": "https://localhost:8080/"
        },
        "id": "QAesa3KUJJwi",
        "outputId": "c94c5d4f-e9a0-476f-86e7-a755f9109010"
      },
      "execution_count": 28,
      "outputs": [
        {
          "output_type": "stream",
          "name": "stdout",
          "text": [
            "+-----+-------------+--------------------+------------+---------+-----------+----------+------------+--------+---------+----------+--------------------+\n",
            "|ident|         type|                name|elevation_ft|continent|iso_country|iso_region|municipality|gps_code|iata_code|local_code|         coordinates|\n",
            "+-----+-------------+--------------------+------------+---------+-----------+----------+------------+--------+---------+----------+--------------------+\n",
            "| 00AA|small_airport|Aero B Ranch Airport|      3435.0|       NA|         US|        KS|       Leoti|    00AA|     null|      00AA|-101.473911, 38.7...|\n",
            "| 00AK|small_airport|        Lowell Field|       450.0|       NA|         US|        AK|Anchor Point|    00AK|     null|      00AK|-151.695999146, 5...|\n",
            "| 00AL|small_airport|        Epps Airpark|       820.0|       NA|         US|        AL|     Harvest|    00AL|     null|      00AL|-86.7703018188476...|\n",
            "| 00AS|small_airport|      Fulton Airport|      1100.0|       NA|         US|        OK|        Alex|    00AS|     null|      00AS|-97.8180194, 34.9...|\n",
            "| 00AZ|small_airport|      Cordes Airport|      3810.0|       NA|         US|        AZ|      Cordes|    00AZ|     null|      00AZ|-112.165000915527...|\n",
            "| 00CA|small_airport|Goldstone /Gts/ A...|      3038.0|       NA|         US|        CA|     Barstow|    00CA|     null|      00CA|-116.888000488, 3...|\n",
            "| 00CL|small_airport| Williams Ag Airport|        87.0|       NA|         US|        CA|       Biggs|    00CL|     null|      00CL|-121.763427, 39.4...|\n",
            "| 00FA|small_airport| Grass Patch Airport|        53.0|       NA|         US|        FL|    Bushnell|    00FA|     null|      00FA|-82.2190017700195...|\n",
            "| 00FL|small_airport|   River Oak Airport|        35.0|       NA|         US|        FL|  Okeechobee|    00FL|     null|      00FL|-80.9692001342773...|\n",
            "| 00GA|small_airport|    Lt World Airport|       700.0|       NA|         US|        GA|    Lithonia|    00GA|     null|      00GA|-84.0682983398437...|\n",
            "| 00ID|small_airport|Delta Shores Airport|      2064.0|       NA|         US|        ID|  Clark Fork|    00ID|     null|      00ID|-116.213996887207...|\n",
            "| 00IG|small_airport|       Goltl Airport|      3359.0|       NA|         US|        KS|    McDonald|    00IG|     null|      00IG|-101.395994, 39.7...|\n",
            "| 00IL|small_airport|      Hammer Airport|       840.0|       NA|         US|        IL|        Polo|    00IL|     null|      00IL|-89.5604019165039...|\n",
            "| 00IS|small_airport|Hayenga's Cant Fi...|       820.0|       NA|         US|        IL|       Kings|    00IS|     null|      00IS|-89.1229019165039...|\n",
            "| 00KS|small_airport| Hayden Farm Airport|      1100.0|       NA|         US|        KS|     Gardner|    00KS|     null|      00KS|-94.9304962158203...|\n",
            "| 00KY|small_airport|Robbins Roost Air...|      1265.0|       NA|         US|        KY|    Stanford|    00KY|     null|      00KY|-84.6196975708007...|\n",
            "| 00LS|small_airport|     Lejeune Airport|        12.0|       NA|         US|        LA|   Esterwood|    00LS|     null|      00LS|-92.4293975830078...|\n",
            "| 00MD|small_airport|        Slater Field|        45.0|       NA|         US|        MD|Federalsburg|    00MD|     null|      00MD|-75.7537994384765...|\n",
            "| 00MN|small_airport|Battle Lake Munic...|      1365.0|       NA|         US|        MN| Battle Lake|    00MN|     null|      00MN|-95.7003021240234...|\n",
            "| 00MO|small_airport|Cooper Flying Ser...|       970.0|       NA|         US|        MO|        Alba|    00MO|     null|      00MO|-94.412399291992,...|\n",
            "+-----+-------------+--------------------+------------+---------+-----------+----------+------------+--------+---------+----------+--------------------+\n",
            "only showing top 20 rows\n",
            "\n"
          ]
        }
      ]
    },
    {
      "cell_type": "code",
      "source": [
        "!cp -r /content/Udacity-Data-Engineer-nanodegree/05-capstone-project/sources/sas_data ."
      ],
      "metadata": {
        "id": "36eu7jrRJsG-"
      },
      "execution_count": 33,
      "outputs": []
    },
    {
      "cell_type": "code",
      "source": [
        "inmigrant_clean = Cleaner.get_inmigration(sas_data)\n",
        "inmigrant_clean.show()"
      ],
      "metadata": {
        "colab": {
          "base_uri": "https://localhost:8080/"
        },
        "id": "xUuT09GAJP71",
        "outputId": "bd52fa0f-9572-4808-9b06-f1723ca15415"
      },
      "execution_count": 39,
      "outputs": [
        {
          "output_type": "stream",
          "name": "stdout",
          "text": [
            "+-------+--------+---------+--------+-------+--------+------+-------+--------------+-----+--------+--------+--------+------------------+---------------+----+-----+---------+---+-------+------------+--------------+\n",
            "| cic_id|cod_port|cod_state|visapost|matflag| dtaddto|gender|airline|        admnum|fltno|visatype|cod_visa|cod_mode|cod_country_origin|cod_country_cit|year|month|bird_year|age|counter|arrival_date|departure_date|\n",
            "+-------+--------+---------+--------+-------+--------+------+-------+--------------+-----+--------+--------+--------+------------------+---------------+----+-----+---------+---+-------+------------+--------------+\n",
            "|5748517|     LOS|       CA|     SYD|      M|10292016|     F|     QF|9.495387003E10|00011|      B1|       1|       1|               438|            245|2016|    4|     1976| 40|      1|  2016-04-30|    2016-05-08|\n",
            "|5748518|     LOS|       NV|     SYD|      M|10292016|     F|     VA|9.495562283E10|00007|      B1|       1|       1|               438|            245|2016|    4|     1984| 32|      1|  2016-04-30|    2016-05-17|\n",
            "|5748519|     LOS|       WA|     SYD|      M|10292016|     M|     DL|9.495640653E10|00040|      B1|       1|       1|               438|            245|2016|    4|     1987| 29|      1|  2016-04-30|    2016-05-08|\n",
            "|5748520|     LOS|       WA|     SYD|      M|10292016|     F|     DL|9.495645143E10|00040|      B1|       1|       1|               438|            245|2016|    4|     1987| 29|      1|  2016-04-30|    2016-05-14|\n",
            "|5748521|     LOS|       WA|     SYD|      M|10292016|     M|     DL|9.495638813E10|00040|      B1|       1|       1|               438|            245|2016|    4|     1988| 28|      1|  2016-04-30|    2016-05-14|\n",
            "|5748522|     HHW|       HI|     ACK|      M|10292016|     M|     NZ|9.498180283E10|00010|      B2|       2|       1|               464|            245|2016|    4|     1959| 57|      1|  2016-04-30|    2016-05-05|\n",
            "|5748523|     HHW|       HI|     ACK|      M|10292016|     F|     NZ|9.497968993E10|00010|      B2|       2|       1|               464|            245|2016|    4|     1950| 66|      1|  2016-04-30|    2016-05-12|\n",
            "|5748524|     HHW|       HI|     ACK|      M|10292016|     F|     NZ|9.497974673E10|00010|      B2|       2|       1|               464|            245|2016|    4|     1975| 41|      1|  2016-04-30|    2016-05-12|\n",
            "|5748525|     HOU|       FL|     ACK|      M|10292016|     M|     NZ|9.497324663E10|00028|      B2|       2|       1|               464|            245|2016|    4|     1989| 27|      1|  2016-04-30|    2016-05-07|\n",
            "|5748526|     LOS|       CA|     ACK|      M|10292016|     F|     NZ|9.501354793E10|00002|      B2|       2|       1|               464|            245|2016|    4|     1990| 26|      1|  2016-04-30|    2016-05-07|\n",
            "|5748527|     NEW|       MA|     GUZ|      M|10292016|     M|     UA|9.493828593E10|01215|      B2|       2|       1|               504|            245|2016|    4|     1972| 44|      1|  2016-04-30|    2016-05-02|\n",
            "|5748528|     LOS|     null|     GUZ|      M|10292016|     M|     CM|9.501810463E10|00472|      B2|       2|       1|               504|            245|2016|    4|     1977| 39|      1|  2016-04-30|    2016-05-01|\n",
            "|5748529|     WAS|       VA|     PNM|      M|10292016|     M|     CM|9.492489983E10|00488|      B2|       2|       1|               504|            245|2016|    4|     1978| 38|      1|  2016-04-30|    2016-05-22|\n",
            "|5748530|     LOS|       CA|     PNM|      M|10292016|     F|     CM|9.492648103E10|00302|      B2|       2|       1|               504|            245|2016|    4|     1960| 56|      1|  2016-04-30|    2016-05-03|\n",
            "|5748531|     LOS|       CA|     PNM|      M|10282016|     M|     CM|9.492629303E10|00302|      B2|       2|       1|               504|            245|2016|    4|     1978| 38|      1|  2016-04-30|    2016-05-03|\n",
            "|5748532|     MIA|       FL|     PNM|      M|10292016|     F|     CM|9.500640513E10|00430|      B2|       2|       1|               504|            245|2016|    4|     1963| 53|      1|  2016-04-30|    2016-05-07|\n",
            "|5748534|     SFR|       CA|     HNK|   null|10282016|     F|     CX|9.492476223E10|00872|      B2|       2|       1|               528|            245|2016|    4|     1932| 84|      1|  2016-04-30|          null|\n",
            "|5748876|     HOU|       TX|     GUZ|      M|10292016|     M|     UA|9.499463063E10|05574|      B1|       1|       1|               582|            245|2016|    4|     1973| 43|      1|  2016-04-30|    2016-05-09|\n",
            "|5748877|     HOU|       TX|     GUZ|      M|10292016|     F|     UA|9.499447663E10|05574|      B1|       1|       1|               582|            245|2016|    4|     1986| 30|      1|  2016-04-30|    2016-05-09|\n",
            "|5748881|     LOS|       CA|     SHG|      M|10292016|     M|     AM|9.496770903E10|00646|      B2|       2|       1|               582|            245|2016|    4|     1982| 34|      1|  2016-04-30|    2016-05-01|\n",
            "+-------+--------+---------+--------+-------+--------+------+-------+--------------+-----+--------+--------+--------+------------------+---------------+----+-----+---------+---+-------+------------+--------------+\n",
            "only showing top 20 rows\n",
            "\n"
          ]
        }
      ]
    },
    {
      "cell_type": "code",
      "source": [
        "countries_clean = Cleaner.get_countries(countries)\n",
        "countries_clean.show()"
      ],
      "metadata": {
        "colab": {
          "base_uri": "https://localhost:8080/"
        },
        "id": "W9ZzOryqJRSR",
        "outputId": "bc84e857-8d11-4ee9-87d2-b6f33aeb7348"
      },
      "execution_count": 30,
      "outputs": [
        {
          "output_type": "stream",
          "name": "stdout",
          "text": [
            "+-----------+--------------------+\n",
            "|cod_country|        country_name|\n",
            "+-----------+--------------------+\n",
            "|        582|MEXICO Air Sea, a...|\n",
            "|        236|         AFGHANISTAN|\n",
            "|        101|             ALBANIA|\n",
            "|        316|             ALGERIA|\n",
            "|        102|             ANDORRA|\n",
            "|        324|              ANGOLA|\n",
            "|        529|            ANGUILLA|\n",
            "|        518|     ANTIGUA-BARBUDA|\n",
            "|        687|           ARGENTINA|\n",
            "|        151|             ARMENIA|\n",
            "|        532|               ARUBA|\n",
            "|        438|           AUSTRALIA|\n",
            "|        103|             AUSTRIA|\n",
            "|        152|          AZERBAIJAN|\n",
            "|        512|             BAHAMAS|\n",
            "|        298|             BAHRAIN|\n",
            "|        274|          BANGLADESH|\n",
            "|        513|            BARBADOS|\n",
            "|        104|             BELGIUM|\n",
            "|        581|              BELIZE|\n",
            "+-----------+--------------------+\n",
            "only showing top 20 rows\n",
            "\n"
          ]
        }
      ]
    },
    {
      "cell_type": "code",
      "source": [
        "visa_clean = Cleaner.get_visa(visa)\n",
        "visa_clean.show()"
      ],
      "metadata": {
        "colab": {
          "base_uri": "https://localhost:8080/"
        },
        "id": "GmJ4pcYkJSj9",
        "outputId": "7a6ecefe-c442-443b-d9dd-9bf1a3488fa6"
      },
      "execution_count": 40,
      "outputs": [
        {
          "output_type": "stream",
          "name": "stdout",
          "text": [
            "+--------+--------+\n",
            "|cod_visa|    visa|\n",
            "+--------+--------+\n",
            "|       1|Business|\n",
            "|       2|Pleasure|\n",
            "|       3| Student|\n",
            "+--------+--------+\n",
            "\n"
          ]
        }
      ]
    },
    {
      "cell_type": "code",
      "source": [
        "mode_clean = Cleaner.get_mode(mode)\n",
        "mode_clean.show()"
      ],
      "metadata": {
        "colab": {
          "base_uri": "https://localhost:8080/"
        },
        "id": "P1cX_WwvNHBG",
        "outputId": "2da5239f-e135-4609-ed65-08d20beb9237"
      },
      "execution_count": 41,
      "outputs": [
        {
          "output_type": "stream",
          "name": "stdout",
          "text": [
            "+--------+----------------+\n",
            "|cod_mode|       mode_name|\n",
            "+--------+----------------+\n",
            "|       1|             Air|\n",
            "|       2|             Sea|\n",
            "|       3|            Land|\n",
            "|       9|Not reportedmode|\n",
            "+--------+----------------+\n",
            "\n"
          ]
        }
      ]
    },
    {
      "cell_type": "code",
      "source": [
        "airlines_clean = Cleaner.get_airlines(airlines)\n",
        "airlines_clean.show()"
      ],
      "metadata": {
        "colab": {
          "base_uri": "https://localhost:8080/"
        },
        "id": "qsxqEf7SNH5h",
        "outputId": "83db3b2d-c1c5-4097-97f7-b999e20ded33"
      },
      "execution_count": 42,
      "outputs": [
        {
          "output_type": "stream",
          "name": "stdout",
          "text": [
            "+----------+--------------------+----+----+------------+-----------------+------+\n",
            "|Airline_ID|                Name|IATA|ICAO|    Callsign|          Country|Active|\n",
            "+----------+--------------------+----+----+------------+-----------------+------+\n",
            "|         3|       1Time Airline|  1T| RNX|     NEXTIME|     South Africa|     Y|\n",
            "|        10|         40-Mile Air|  Q5| MLA|    MILE-AIR|    United States|     Y|\n",
            "|        13|    Ansett Australia|  AN| AAA|      ANSETT|        Australia|     Y|\n",
            "|        14|Abacus International|  1B|null|        null|        Singapore|     Y|\n",
            "|        15|     Abelag Aviation|  W9| AAB|         ABG|          Belgium|     N|\n",
            "|        21|          Aigle Azur|  ZI| AAF|  AIGLE AZUR|           France|     Y|\n",
            "|        22|      Aloha Airlines|  AQ| AAH|       ALOHA|    United States|     Y|\n",
            "|        24|   American Airlines|  AA| AAL|    AMERICAN|    United States|     Y|\n",
            "|        28|     Asiana Airlines|  OZ| AAR|      ASIANA|Republic of Korea|     Y|\n",
            "|        29|     Askari Aviation|  4K| AAS|      AL-AAS|         Pakistan|     Y|\n",
            "|        32|   Afriqiyah Airways|  8U| AAW|   AFRIQIYAH|            Libya|     Y|\n",
            "|        33|Afrinat Internati...|  Q9| AFU|        null|           Gambia|     N|\n",
            "|        35|       Allegiant Air|  G4| AAY|   ALLEGIANT|    United States|     Y|\n",
            "|        39|            Aban Air|  K5| ABE|        ABAN|             Iran|     n|\n",
            "|        42|ABSA - Aerolinhas...|  M3| TUS|  ABSA Cargo|           Brazil|     Y|\n",
            "|        48|          Antrak Air|  04| ABV|      ANTRAK|            Ghana|     N|\n",
            "|        49|    Airborne Express|  GB| ABX|        ABEX|    United States|     N|\n",
            "|        50|             ABX Air|  GB| ABX|        ABEX|    United States|     N|\n",
            "|        55|     Astral Aviation|  8V| ACP|ASTRAL CARGO|            Kenya|     Y|\n",
            "|        60|Aero Asia Interna...|  E4| RSO|   AERO ASIA|         Pakistan|     N|\n",
            "+----------+--------------------+----+----+------------+-----------------+------+\n",
            "only showing top 20 rows\n",
            "\n"
          ]
        }
      ]
    },
    {
      "cell_type": "markdown",
      "source": [
        "## Define the Data Model"
      ],
      "metadata": {
        "id": "uhfbQs8-NJKC"
      }
    },
    {
      "cell_type": "markdown",
      "source": [
        "### Mapping Out Data Pipelines"
      ],
      "metadata": {
        "id": "gQMBWGImNu3T"
      }
    },
    {
      "cell_type": "code",
      "source": [
        "class Transformer:\n",
        "    \"\"\"\n",
        "    Realize transformations necessaries in order to create the model.\n",
        "    \"\"\"\n",
        "\n",
        "    @staticmethod\n",
        "    def transform_demographics(demographics):\n",
        "        \"\"\"\n",
        "        Transform demographics dataset grouping by state an calculate all the totals and ratios for every race\n",
        "         in every state.\n",
        "        :param demographics: demographics dataset\n",
        "        :return: demographics dataset transformed\n",
        "        \"\"\"\n",
        "        demo = demographics \\\n",
        "            .groupBy(col(\"State Code\").alias(\"State_code\"), col(\"State\")).agg(\n",
        "            sum(\"Total Population\").alias(\"Total_Population\")\\\n",
        "            , sum(\"Male Population\").alias(\"Male_Population\"), sum(\"Female Population\").alias(\"Female_Population\")\\\n",
        "            , sum(\"American Indian and Alaska Native\").alias(\"American_Indian_and_Alaska_Native\")\\\n",
        "            , sum(\"Asian\").alias(\"Asian\"), sum(\"Black or African-American\").alias(\"Black_or_African-American\")\\\n",
        "            , sum(\"Hispanic or Latino\").alias(\"Hispanic_or_Latino\")\\\n",
        "            , sum(\"White\").alias(\"White\")) \\\n",
        "            .withColumn(\"Male_Population_Ratio\", round(col(\"Male_Population\") / col(\"Total_Population\"), 2))\\\n",
        "            .withColumn(\"Female_Population_Ratio\", round(col(\"Female_Population\") / col(\"Total_Population\"), 2))\\\n",
        "            .withColumn(\"American_Indian_and_Alaska_Native_Ratio\",\n",
        "                        round(col(\"American_Indian_and_Alaska_Native\") / col(\"Total_Population\"), 2))\\\n",
        "            .withColumn(\"Asian_Ratio\", round(col(\"Asian\") / col(\"Total_Population\"), 2))\\\n",
        "            .withColumn(\"Black_or_African-American_Ratio\",\n",
        "                        round(col(\"Black_or_African-American\") / col(\"Total_Population\"), 2))\\\n",
        "            .withColumn(\"Hispanic_or_Latino_Ratio\", round(col(\"Hispanic_or_Latino\") / col(\"Total_Population\"), 2))\\\n",
        "            .withColumn(\"White_Ratio\", round(col(\"White\") / col(\"Total_Population\"), 2))\n",
        "\n",
        "        return demo\n",
        "\n",
        "    @staticmethod\n",
        "    def transform_inmigrants(inmigrants):\n",
        "        \"\"\"\n",
        "        Transform inmigration dataset on order to get arrival date in different columns (year, month, day) \n",
        "        for partitioning the dataset.\n",
        "        :param inmigrants: inmigration dataset\n",
        "        :return: inmigration dataset transformed\n",
        "        \"\"\"\n",
        "        inmigrants = inmigrants \\\n",
        "            .withColumn(\"arrival_date-split\", split(col(\"arrival_date\"), \"-\")) \\\n",
        "            .withColumn(\"arrival_year\", col(\"arrival_date-split\")[0]) \\\n",
        "            .withColumn(\"arrival_month\", col(\"arrival_date-split\")[1]) \\\n",
        "            .withColumn(\"arrival_day\", col(\"arrival_date-split\")[2]) \\\n",
        "            .drop(\"arrival_date-split\")\n",
        "\n",
        "        return inmigrants"
      ],
      "metadata": {
        "id": "vRDTXYegNfoC"
      },
      "execution_count": 43,
      "outputs": []
    },
    {
      "cell_type": "code",
      "source": [
        "demog_transformer = Transformer.transform_demographics(demog_clean)\n",
        "demog_transformer.show()"
      ],
      "metadata": {
        "colab": {
          "base_uri": "https://localhost:8080/"
        },
        "id": "Sx8_NjzoNhTm",
        "outputId": "ae33cdbe-a780-404f-c593-c4e02d8da3a7"
      },
      "execution_count": 44,
      "outputs": [
        {
          "output_type": "stream",
          "name": "stdout",
          "text": [
            "+----------+--------------------+----------------+---------------+-----------------+---------------------------------+-------+-------------------------+------------------+--------+---------------------+-----------------------+---------------------------------------+-----------+-------------------------------+------------------------+-----------+\n",
            "|State_code|               State|Total_Population|Male_Population|Female_Population|American_Indian_and_Alaska_Native|  Asian|Black_or_African-American|Hispanic_or_Latino|   White|Male_Population_Ratio|Female_Population_Ratio|American_Indian_and_Alaska_Native_Ratio|Asian_Ratio|Black_or_African-American_Ratio|Hispanic_or_Latino_Ratio|White_Ratio|\n",
            "+----------+--------------------+----------------+---------------+-----------------+---------------------------------+-------+-------------------------+------------------+--------+---------------------+-----------------------+---------------------------------------+-----------+-------------------------------+------------------------+-----------+\n",
            "|        MT|             Montana|        181294.0|        87707.0|          93587.0|                             9684|   4165|                     3349|             10000|  169026|                 0.48|                   0.52|                                   0.05|       0.02|                           0.02|                    0.06|       0.93|\n",
            "|        NC|      North Carolina|       3060199.0|      1466105.0|        1594094.0|                            35209| 178740|                  1029446|            354409| 1790136|                 0.48|                   0.52|                                   0.01|       0.06|                           0.34|                    0.12|       0.58|\n",
            "|        MD|            Maryland|       1312129.0|       627951.0|         684178.0|                            16155| 128839|                   573768|            138644|  594522|                 0.48|                   0.52|                                   0.01|        0.1|                           0.44|                    0.11|       0.45|\n",
            "|        CO|            Colorado|       2935669.0|      1454619.0|        1481050.0|                            62613| 148790|                   208043|            703722| 2463916|                  0.5|                    0.5|                                   0.02|       0.05|                           0.07|                    0.24|       0.84|\n",
            "|        CT|         Connecticut|        885581.0|       432157.0|         453424.0|                            10729|  48311|                   231822|            309992|  505674|                 0.49|                   0.51|                                   0.01|       0.05|                           0.26|                    0.35|       0.57|\n",
            "|        IL|            Illinois|       4562312.0|      2218541.0|        2343771.0|                            35097| 374589|                  1130574|           1215659| 2620068|                 0.49|                   0.51|                                   0.01|       0.08|                           0.25|                    0.27|       0.57|\n",
            "|        NJ|          New Jersey|       1428908.0|       705736.0|         723172.0|                            11350| 116844|                   452202|            600437|  615083|                 0.49|                   0.51|                                   0.01|       0.08|                           0.32|                    0.42|       0.43|\n",
            "|        DE|            Delaware|         71957.0|        32680.0|          39277.0|                              414|   1193|                    44182|              5516|   23743|                 0.45|                   0.55|                                   0.01|       0.02|                           0.61|                    0.08|       0.33|\n",
            "|        DC|District of Columbia|        672228.0|       319705.0|         352523.0|                             6130|  35072|                   328786|             71129|  285402|                 0.48|                   0.52|                                   0.01|       0.05|                           0.49|                    0.11|       0.42|\n",
            "|        LA|           Louisiana|       1300595.0|       626998.0|         673597.0|                             8263|  38739|                   602377|             87133|  654578|                 0.48|                   0.52|                                   0.01|       0.03|                           0.46|                    0.07|        0.5|\n",
            "|        TN|           Tennessee|       2152560.0|      1031836.0|        1120724.0|                            17638|  73024|                   810758|            167962| 1253142|                 0.48|                   0.52|                                   0.01|       0.03|                           0.38|                    0.08|       0.58|\n",
            "|        AR|            Arkansas|        589879.0|       286479.0|         303400.0|                             9381|  22062|                   149608|             77813|  384733|                 0.49|                   0.51|                                   0.02|       0.04|                           0.25|                    0.13|       0.65|\n",
            "|        AK|              Alaska|        298695.0|       152945.0|         145750.0|                            36339|  36825|                    23107|             27261|  212696|                 0.51|                   0.49|                                   0.12|       0.12|                           0.08|                    0.09|       0.71|\n",
            "|        CA|          California|      2.482246E7|    1.2278281E7|      1.2544179E7|                           401386|4543730|                  2047009|           9856464|14905129|                 0.49|                   0.51|                                   0.02|       0.18|                           0.08|                     0.4|        0.6|\n",
            "|        NM|          New Mexico|        839042.0|       409010.0|         430032.0|                            42428|  32658|                    35853|            417026|  651564|                 0.49|                   0.51|                                   0.05|       0.04|                           0.04|                     0.5|       0.78|\n",
            "|        UT|                Utah|       1050591.0|       530818.0|         519773.0|                            18746|  48801|                    21893|            201695|  889798|                 0.51|                   0.49|                                   0.02|       0.05|                           0.02|                    0.19|       0.85|\n",
            "|        MI|            Michigan|       2203460.0|      1056446.0|        1147014.0|                            27962| 125172|                   853877|            149932| 1214721|                 0.48|                   0.52|                                   0.01|       0.06|                           0.39|                    0.07|       0.55|\n",
            "|        NY|            New York|       9815626.0|      4692055.0|        5123571.0|                           112816|1373373|                  2605008|           2730185| 4555686|                 0.48|                   0.52|                                   0.01|       0.14|                           0.27|                    0.28|       0.46|\n",
            "|        NH|       New Hampshire|        198198.0|        97771.0|         100427.0|                             1213|  13989|                    11043|             22473|  174085|                 0.49|                   0.51|                                   0.01|       0.07|                           0.06|                    0.11|       0.88|\n",
            "|        WA|          Washington|       2500107.0|      1245605.0|        1254502.0|                            60248| 346995|                   187584|            324070| 1913484|                  0.5|                    0.5|                                   0.02|       0.14|                           0.08|                    0.13|       0.77|\n",
            "+----------+--------------------+----------------+---------------+-----------------+---------------------------------+-------+-------------------------+------------------+--------+---------------------+-----------------------+---------------------------------------+-----------+-------------------------------+------------------------+-----------+\n",
            "only showing top 20 rows\n",
            "\n"
          ]
        }
      ]
    },
    {
      "cell_type": "code",
      "source": [
        "inmigrant_transformer = Transformer.transform_inmigrants(inmigrant_clean)\n",
        "inmigrant_transformer.show()"
      ],
      "metadata": {
        "colab": {
          "base_uri": "https://localhost:8080/"
        },
        "id": "SzoyugZPNl1z",
        "outputId": "970e94af-702e-4ceb-cb3d-6136a3ef4c03"
      },
      "execution_count": 45,
      "outputs": [
        {
          "output_type": "stream",
          "name": "stdout",
          "text": [
            "+-------+--------+---------+--------+-------+--------+------+-------+--------------+-----+--------+--------+--------+------------------+---------------+----+-----+---------+---+-------+------------+--------------+------------+-------------+-----------+\n",
            "| cic_id|cod_port|cod_state|visapost|matflag| dtaddto|gender|airline|        admnum|fltno|visatype|cod_visa|cod_mode|cod_country_origin|cod_country_cit|year|month|bird_year|age|counter|arrival_date|departure_date|arrival_year|arrival_month|arrival_day|\n",
            "+-------+--------+---------+--------+-------+--------+------+-------+--------------+-----+--------+--------+--------+------------------+---------------+----+-----+---------+---+-------+------------+--------------+------------+-------------+-----------+\n",
            "|5748517|     LOS|       CA|     SYD|      M|10292016|     F|     QF|9.495387003E10|00011|      B1|       1|       1|               438|            245|2016|    4|     1976| 40|      1|  2016-04-30|    2016-05-08|        2016|           04|         30|\n",
            "|5748518|     LOS|       NV|     SYD|      M|10292016|     F|     VA|9.495562283E10|00007|      B1|       1|       1|               438|            245|2016|    4|     1984| 32|      1|  2016-04-30|    2016-05-17|        2016|           04|         30|\n",
            "|5748519|     LOS|       WA|     SYD|      M|10292016|     M|     DL|9.495640653E10|00040|      B1|       1|       1|               438|            245|2016|    4|     1987| 29|      1|  2016-04-30|    2016-05-08|        2016|           04|         30|\n",
            "|5748520|     LOS|       WA|     SYD|      M|10292016|     F|     DL|9.495645143E10|00040|      B1|       1|       1|               438|            245|2016|    4|     1987| 29|      1|  2016-04-30|    2016-05-14|        2016|           04|         30|\n",
            "|5748521|     LOS|       WA|     SYD|      M|10292016|     M|     DL|9.495638813E10|00040|      B1|       1|       1|               438|            245|2016|    4|     1988| 28|      1|  2016-04-30|    2016-05-14|        2016|           04|         30|\n",
            "|5748522|     HHW|       HI|     ACK|      M|10292016|     M|     NZ|9.498180283E10|00010|      B2|       2|       1|               464|            245|2016|    4|     1959| 57|      1|  2016-04-30|    2016-05-05|        2016|           04|         30|\n",
            "|5748523|     HHW|       HI|     ACK|      M|10292016|     F|     NZ|9.497968993E10|00010|      B2|       2|       1|               464|            245|2016|    4|     1950| 66|      1|  2016-04-30|    2016-05-12|        2016|           04|         30|\n",
            "|5748524|     HHW|       HI|     ACK|      M|10292016|     F|     NZ|9.497974673E10|00010|      B2|       2|       1|               464|            245|2016|    4|     1975| 41|      1|  2016-04-30|    2016-05-12|        2016|           04|         30|\n",
            "|5748525|     HOU|       FL|     ACK|      M|10292016|     M|     NZ|9.497324663E10|00028|      B2|       2|       1|               464|            245|2016|    4|     1989| 27|      1|  2016-04-30|    2016-05-07|        2016|           04|         30|\n",
            "|5748526|     LOS|       CA|     ACK|      M|10292016|     F|     NZ|9.501354793E10|00002|      B2|       2|       1|               464|            245|2016|    4|     1990| 26|      1|  2016-04-30|    2016-05-07|        2016|           04|         30|\n",
            "|5748527|     NEW|       MA|     GUZ|      M|10292016|     M|     UA|9.493828593E10|01215|      B2|       2|       1|               504|            245|2016|    4|     1972| 44|      1|  2016-04-30|    2016-05-02|        2016|           04|         30|\n",
            "|5748528|     LOS|     null|     GUZ|      M|10292016|     M|     CM|9.501810463E10|00472|      B2|       2|       1|               504|            245|2016|    4|     1977| 39|      1|  2016-04-30|    2016-05-01|        2016|           04|         30|\n",
            "|5748529|     WAS|       VA|     PNM|      M|10292016|     M|     CM|9.492489983E10|00488|      B2|       2|       1|               504|            245|2016|    4|     1978| 38|      1|  2016-04-30|    2016-05-22|        2016|           04|         30|\n",
            "|5748530|     LOS|       CA|     PNM|      M|10292016|     F|     CM|9.492648103E10|00302|      B2|       2|       1|               504|            245|2016|    4|     1960| 56|      1|  2016-04-30|    2016-05-03|        2016|           04|         30|\n",
            "|5748531|     LOS|       CA|     PNM|      M|10282016|     M|     CM|9.492629303E10|00302|      B2|       2|       1|               504|            245|2016|    4|     1978| 38|      1|  2016-04-30|    2016-05-03|        2016|           04|         30|\n",
            "|5748532|     MIA|       FL|     PNM|      M|10292016|     F|     CM|9.500640513E10|00430|      B2|       2|       1|               504|            245|2016|    4|     1963| 53|      1|  2016-04-30|    2016-05-07|        2016|           04|         30|\n",
            "|5748534|     SFR|       CA|     HNK|   null|10282016|     F|     CX|9.492476223E10|00872|      B2|       2|       1|               528|            245|2016|    4|     1932| 84|      1|  2016-04-30|          null|        2016|           04|         30|\n",
            "|5748876|     HOU|       TX|     GUZ|      M|10292016|     M|     UA|9.499463063E10|05574|      B1|       1|       1|               582|            245|2016|    4|     1973| 43|      1|  2016-04-30|    2016-05-09|        2016|           04|         30|\n",
            "|5748877|     HOU|       TX|     GUZ|      M|10292016|     F|     UA|9.499447663E10|05574|      B1|       1|       1|               582|            245|2016|    4|     1986| 30|      1|  2016-04-30|    2016-05-09|        2016|           04|         30|\n",
            "|5748881|     LOS|       CA|     SHG|      M|10292016|     M|     AM|9.496770903E10|00646|      B2|       2|       1|               582|            245|2016|    4|     1982| 34|      1|  2016-04-30|    2016-05-01|        2016|           04|         30|\n",
            "+-------+--------+---------+--------+-------+--------+------+-------+--------------+-----+--------+--------+--------+------------------+---------------+----+-----+---------+---+-------+------------+--------------+------------+-------------+-----------+\n",
            "only showing top 20 rows\n",
            "\n"
          ]
        }
      ]
    },
    {
      "cell_type": "markdown",
      "source": [
        "### Configuration to write the Model"
      ],
      "metadata": {
        "id": "deSOx-CyNyW9"
      }
    },
    {
      "cell_type": "code",
      "source": [
        "paths_write = {\n",
        "    \"demographics\" : \"./model/demographics.parquet\",\n",
        "    \"airports\" :  \"./model/airports.parquet\",\n",
        "    \"airlines\" : \"./model/airlines.parquet\",\n",
        "    \"countries\" : \"./model/countries.parquet\",\n",
        "    \"visa\" : \"./model/visa.parquet\",\n",
        "    \"mode\" : \"./model/mode.parquet\",\n",
        "    \"facts\" : \"./model/facts_inmigration.parquet\"\n",
        "}"
      ],
      "metadata": {
        "id": "XQOjpWLCNo6e"
      },
      "execution_count": 46,
      "outputs": []
    },
    {
      "cell_type": "code",
      "source": [
        "class Modelizer:\n",
        "    \"\"\"\n",
        "    Modelizes the datawarehouse (star schema) from datasets. Creating the facts table and dimension tables.\n",
        "    \"\"\"\n",
        "\n",
        "    def __init__(self, spark, paths):\n",
        "        self.spark = spark\n",
        "        self.paths = paths\n",
        "\n",
        "    def _modelize_demographics(self, demographics):\n",
        "        \"\"\"\n",
        "        Create de demographics dimension table in parquet.\n",
        "        :param demographics: demographics dataset.\n",
        "        \"\"\"\n",
        "        demographics.write.mode('overwrite').parquet(self.paths[\"demographics\"])\n",
        "\n",
        "    def _modelize_airports(self, airports):\n",
        "        \"\"\"\n",
        "        Create de airports dimension table in parquet.\n",
        "        :param airports: airports dataset\n",
        "        \"\"\"\n",
        "        airports.write.mode('overwrite').parquet(self.paths[\"airports\"])\n",
        "\n",
        "    def _modelize_airlines(self, airlines):\n",
        "        \"\"\"\n",
        "        Create de airlines dimension table in parquet.\n",
        "        :param airlines: airlines dataset\n",
        "        \"\"\"\n",
        "        airlines.write.mode('overwrite').parquet(self.paths[\"airlines\"])\n",
        "\n",
        "    def _modelize_countries(self, countries):\n",
        "        \"\"\"\n",
        "        Create countries dimension table in parquet\n",
        "        :param countries: countries dataset\n",
        "        \"\"\"\n",
        "        countries.write.mode('overwrite').parquet(self.paths[\"countries\"])\n",
        "\n",
        "    def _modelize_visa(self, visa):\n",
        "        \"\"\"\n",
        "        Create visa dimension table in parquet\n",
        "        :param visa: visa dataset\n",
        "        \"\"\"\n",
        "        visa.write.mode('overwrite').parquet(self.paths[\"visa\"])\n",
        "\n",
        "    def _modelize_mode(self, mode):\n",
        "        \"\"\"\n",
        "        Create modes dimension table in parquet\n",
        "        :param mode: modes dataset\n",
        "        \"\"\"\n",
        "        mode.write.mode('overwrite').parquet(self.paths[\"mode\"])\n",
        "\n",
        "    def _modelize_facts(self, facts):\n",
        "        \"\"\"\n",
        "        Create facts table from inmigration in parquet particioned by arrival_year, arrival_month and arrival_day\n",
        "        :param facts: inmigration dataset\n",
        "        \"\"\"\n",
        "        facts.write.partitionBy(\"arrival_year\", \"arrival_month\", \"arrival_day\").mode('overwrite').parquet(\n",
        "            self.paths[\"facts\"])\n",
        "\n",
        "    def modelize(self, facts, dim_demographics, dim_airports, dim_airlines, dim_countries, dim_visa, dim_mode):\n",
        "        \"\"\"\n",
        "        Create the Star Schema for the Data Warwhouse\n",
        "        :param facts: facts table, inmigration dataset\n",
        "        :param dim_demographics: dimension demographics\n",
        "        :param dim_airports: dimension airports\n",
        "        :param dim_airlines: dimension airlines\n",
        "        :param dim_countries: dimension countries\n",
        "        :param dim_visa: dimension visa\n",
        "        :param dim_mode: dimension mode\n",
        "        \"\"\"\n",
        "        facts = facts \\\n",
        "            .join(dim_demographics, facts[\"cod_state\"] == dim_demographics[\"State_Code\"], \"left_semi\") \\\n",
        "            .join(dim_airports, facts[\"cod_port\"] == dim_airports[\"local_code\"], \"left_semi\") \\\n",
        "            .join(dim_airlines, facts[\"airline\"] == dim_airlines[\"IATA\"], \"left_semi\") \\\n",
        "            .join(dim_countries, facts[\"cod_country_origin\"] == dim_countries[\"cod_country\"], \"left_semi\") \\\n",
        "            .join(dim_visa, facts[\"cod_visa\"] == dim_visa[\"cod_visa\"], \"left_semi\") \\\n",
        "            .join(dim_mode, facts[\"cod_mode\"] == dim_mode[\"cod_mode\"], \"left_semi\")\n",
        "\n",
        "        self._modelize_demographics(dim_demographics)\n",
        "        self._modelize_airports(dim_airports)\n",
        "        self._modelize_airlines(dim_airlines)\n",
        "        self._modelize_countries(dim_countries)\n",
        "        self._modelize_visa(dim_visa)\n",
        "        self._modelize_mode(dim_mode)\n",
        "\n",
        "        self._modelize_facts(facts)"
      ],
      "metadata": {
        "id": "DaeuZRaqN1C5"
      },
      "execution_count": 47,
      "outputs": []
    },
    {
      "cell_type": "code",
      "source": [
        "model = Modelizer(spark, paths_write)"
      ],
      "metadata": {
        "id": "YaxxjcgYN6Xl"
      },
      "execution_count": 48,
      "outputs": []
    },
    {
      "cell_type": "code",
      "source": [
        "model.modelize(inmigrant_transformer, demog_transformer, airport_clean, airlines_clean, countries_clean, visa_clean, mode_clean)"
      ],
      "metadata": {
        "id": "UlFoP_T0N8fa"
      },
      "execution_count": 49,
      "outputs": []
    },
    {
      "cell_type": "markdown",
      "source": [
        "### Data Quality Checks"
      ],
      "metadata": {
        "id": "KgBRYAv-ONPg"
      }
    },
    {
      "cell_type": "code",
      "source": [
        "class Validator:\n",
        "    \"\"\"\n",
        "    Validate and checks the model and data.\n",
        "    \"\"\"\n",
        "\n",
        "    def __init__(self, spark, paths):\n",
        "        self.spark = spark\n",
        "        self.paths = paths\n",
        "\n",
        "    def _get_demographics(self):\n",
        "        \"\"\"\n",
        "        Get demographics dimension\n",
        "        :return: demographics dimension\n",
        "        \"\"\"\n",
        "        return self.spark.read.parquet(self.paths[\"demographics\"])\n",
        "\n",
        "    def _get_airports(self):\n",
        "        \"\"\"\n",
        "        Get airports dimension\n",
        "        :return: airports dimension\n",
        "        \"\"\"\n",
        "        return self.spark.read.parquet(self.paths[\"airports\"])\n",
        "\n",
        "    def _get_airlines(self):\n",
        "        \"\"\"\n",
        "        Get airlines dimension\n",
        "        :return: airlines dimension\n",
        "        \"\"\"\n",
        "        return self.spark.read.parquet(self.paths[\"airlines\"])\n",
        "\n",
        "    def _get_countries(self):\n",
        "        \"\"\"\n",
        "        Get countries dimension\n",
        "        :return: countries dimension\n",
        "        \"\"\"\n",
        "        return self.spark.read.parquet(self.paths[\"countries\"])\n",
        "\n",
        "    def _get_visa(self):\n",
        "        \"\"\"\n",
        "        Get visa dimension\n",
        "        :return: visa dimension\n",
        "        \"\"\"\n",
        "        return self.spark.read.parquet(self.paths[\"visa\"])\n",
        "\n",
        "    def _get_mode(self):\n",
        "        \"\"\"\n",
        "        Get mode dimension\n",
        "        :return: mode dimension\n",
        "        \"\"\"\n",
        "        return self.spark.read.parquet(self.paths[\"mode\"])\n",
        "\n",
        "    def get_facts(self):\n",
        "        \"\"\"\n",
        "        Get facts table\n",
        "        :return: facts table\n",
        "        \"\"\"\n",
        "        return self.spark.read.parquet(self.paths[\"facts\"])\n",
        "\n",
        "    def get_dimensions(self):\n",
        "        \"\"\"\n",
        "        Get all dimensions of the model\n",
        "        :return: all dimensions\n",
        "        \"\"\"\n",
        "        return self._get_demographics(), self._get_airports(), self._get_airlines() \\\n",
        "            , self._get_countries(), self._get_visa(), self._get_mode()\n",
        "\n",
        "    def exists_rows(self, dataframe):\n",
        "        \"\"\"\n",
        "        Checks if there is any data in a dataframe\n",
        "        :param dataframe: dataframe\n",
        "        :return: true or false if the dataset has any row\n",
        "        \"\"\"\n",
        "        return dataframe.count() > 0\n",
        "\n",
        "    def check_integrity(self, fact, dim_demographics, dim_airports, dim_airlines, dim_countries, dim_visa, dim_mode):\n",
        "        \"\"\"\n",
        "        Check the integrity of the model. Checks if all the facts columns joined with the dimensions has correct values \n",
        "        :param fact: fact table\n",
        "        :param dim_demographics: demographics dimension\n",
        "        :param dim_airports: airports dimension\n",
        "        :param dim_airlines: airlines dimension\n",
        "        :param dim_countries: countries dimension\n",
        "        :param dim_visa: visa dimension\n",
        "        :param dim_mode: mode dimension\n",
        "        :return: true or false if integrity is correct.\n",
        "        \"\"\"\n",
        "        integrity_demo = fact.select(col(\"cod_state\")).distinct() \\\n",
        "                             .join(dim_demographics, fact[\"cod_state\"] == dim_demographics[\"State_Code\"], \"left_anti\") \\\n",
        "                             .count() == 0\n",
        "\n",
        "        integrity_airports = fact.select(col(\"cod_port\")).distinct() \\\n",
        "                                 .join(dim_airports, fact[\"cod_port\"] == dim_airports[\"local_code\"], \"left_anti\") \\\n",
        "                                 .count() == 0\n",
        "\n",
        "        integrity_airlines = fact.select(col(\"airline\")).distinct() \\\n",
        "                                 .join(dim_airlines, fact[\"airline\"] == dim_airlines[\"IATA\"], \"left_anti\") \\\n",
        "                                 .count() == 0\n",
        "\n",
        "        integrity_countries = fact.select(col(\"cod_country_origin\")).distinct() \\\n",
        "                                  .join(dim_countries, fact[\"cod_country_origin\"] == dim_countries[\"cod_country\"],\n",
        "                                        \"left_anti\") \\\n",
        "                                  .count() == 0\n",
        "\n",
        "        integrity_visa = fact.select(col(\"cod_visa\")).distinct() \\\n",
        "                             .join(dim_visa, fact[\"cod_visa\"] == dim_visa[\"cod_visa\"], \"left_anti\") \\\n",
        "                             .count() == 0\n",
        "\n",
        "        integrity_mode = fact.select(col(\"cod_mode\")).distinct() \\\n",
        "                             .join(dim_mode, fact[\"cod_mode\"] == dim_mode[\"cod_mode\"], \"left_anti\") \\\n",
        "                             .count() == 0\n",
        "\n",
        "        return integrity_demo & integrity_airports & integrity_airlines & integrity_countries\\\n",
        "               & integrity_visa & integrity_mode"
      ],
      "metadata": {
        "id": "8xiXU8HXOcnI"
      },
      "execution_count": 50,
      "outputs": []
    },
    {
      "cell_type": "code",
      "source": [
        "validator = Validator(spark, paths_write)\n",
        "facts = validator.get_facts()\n",
        "dim_demographics, dim_airports, dim_airlines, dim_countries, dim_get_visa, dim_get_mode = validator.get_dimensions()"
      ],
      "metadata": {
        "id": "t7z-2M0UOfMy"
      },
      "execution_count": 51,
      "outputs": []
    },
    {
      "cell_type": "code",
      "source": [
        "validator.exists_rows(dim_demographics)"
      ],
      "metadata": {
        "colab": {
          "base_uri": "https://localhost:8080/"
        },
        "id": "oDMxJ_dTOkI6",
        "outputId": "e80a4a30-ba7d-45f2-a933-ba7d93b6a14b"
      },
      "execution_count": 52,
      "outputs": [
        {
          "output_type": "execute_result",
          "data": {
            "text/plain": [
              "True"
            ]
          },
          "metadata": {},
          "execution_count": 52
        }
      ]
    },
    {
      "cell_type": "code",
      "source": [
        "validator.exists_rows(dim_airports)"
      ],
      "metadata": {
        "colab": {
          "base_uri": "https://localhost:8080/"
        },
        "id": "PNPS2VHSOlIH",
        "outputId": "f7bf6012-4165-4c45-99d3-972efcb8a393"
      },
      "execution_count": 53,
      "outputs": [
        {
          "output_type": "execute_result",
          "data": {
            "text/plain": [
              "True"
            ]
          },
          "metadata": {},
          "execution_count": 53
        }
      ]
    },
    {
      "cell_type": "code",
      "source": [
        "validator.exists_rows(dim_airlines)"
      ],
      "metadata": {
        "colab": {
          "base_uri": "https://localhost:8080/"
        },
        "id": "1RlHr-nXOl--",
        "outputId": "6ccdc2e6-de06-4ce9-d85b-f1434c102e8d"
      },
      "execution_count": 54,
      "outputs": [
        {
          "output_type": "execute_result",
          "data": {
            "text/plain": [
              "True"
            ]
          },
          "metadata": {},
          "execution_count": 54
        }
      ]
    },
    {
      "cell_type": "code",
      "source": [
        "validator.exists_rows(dim_countries)"
      ],
      "metadata": {
        "colab": {
          "base_uri": "https://localhost:8080/"
        },
        "id": "MGk8XFKqOnIL",
        "outputId": "d9ff774b-d529-4c83-d992-f905ee2554f2"
      },
      "execution_count": 55,
      "outputs": [
        {
          "output_type": "execute_result",
          "data": {
            "text/plain": [
              "True"
            ]
          },
          "metadata": {},
          "execution_count": 55
        }
      ]
    },
    {
      "cell_type": "code",
      "source": [
        "validator.exists_rows(dim_get_visa)"
      ],
      "metadata": {
        "colab": {
          "base_uri": "https://localhost:8080/"
        },
        "id": "2rkHU_nNOos7",
        "outputId": "3f88660b-33d2-424f-c80a-7d53b11486d0"
      },
      "execution_count": 56,
      "outputs": [
        {
          "output_type": "execute_result",
          "data": {
            "text/plain": [
              "True"
            ]
          },
          "metadata": {},
          "execution_count": 56
        }
      ]
    },
    {
      "cell_type": "code",
      "source": [
        "validator.exists_rows(dim_get_mode)"
      ],
      "metadata": {
        "colab": {
          "base_uri": "https://localhost:8080/"
        },
        "id": "nkG0Rq0POpcF",
        "outputId": "af653d66-517d-4d98-cf49-793d95e7f0cf"
      },
      "execution_count": 57,
      "outputs": [
        {
          "output_type": "execute_result",
          "data": {
            "text/plain": [
              "True"
            ]
          },
          "metadata": {},
          "execution_count": 57
        }
      ]
    },
    {
      "cell_type": "code",
      "source": [
        "validator.exists_rows(facts)"
      ],
      "metadata": {
        "colab": {
          "base_uri": "https://localhost:8080/"
        },
        "id": "QI39sszFOqcq",
        "outputId": "ccec243f-cd9a-4d89-acfa-fd6322858b5d"
      },
      "execution_count": 58,
      "outputs": [
        {
          "output_type": "execute_result",
          "data": {
            "text/plain": [
              "True"
            ]
          },
          "metadata": {},
          "execution_count": 58
        }
      ]
    },
    {
      "cell_type": "code",
      "source": [
        "validator.check_integrity(facts, dim_demographics, dim_airports, dim_airlines, dim_countries, dim_get_visa, dim_get_mode)"
      ],
      "metadata": {
        "colab": {
          "base_uri": "https://localhost:8080/"
        },
        "id": "Nwo-RL2cN8rs",
        "outputId": "e957a0f0-a615-4787-d073-4c962d45ef56"
      },
      "execution_count": 59,
      "outputs": [
        {
          "output_type": "execute_result",
          "data": {
            "text/plain": [
              "True"
            ]
          },
          "metadata": {},
          "execution_count": 59
        }
      ]
    },
    {
      "cell_type": "markdown",
      "source": [
        "## Data Dictionary"
      ],
      "metadata": {
        "id": "JC2rY9sdOre9"
      }
    },
    {
      "cell_type": "markdown",
      "source": [
        "**Data Dictionary Dimension Tables**"
      ],
      "metadata": {
        "id": "DmY5z1i2PAD2"
      }
    },
    {
      "cell_type": "markdown",
      "source": [
        "### Airports Data\n",
        " * ident: string (nullable = true) - Airport id\n",
        " * type: string (nullable = true) - size of airport\n",
        " * name: string (nullable = true) - name\n",
        " * elevation_ft: float (nullable = true) - elevation in feet\n",
        " * continent: string (nullable = true) - continet\n",
        " * iso_country: string (nullable = true) - country (ISO-2)\n",
        " * iso_region: string (nullable = true) - region (ISO-2)\n",
        " * municipality: string (nullable = true) - municipality\n",
        " * gps_code: string (nullable = true) - gps code\n",
        " * iata_code: string (nullable = true) - IATA code\n",
        " * local_code: string (nullable = true) - Local code\n",
        " * coordinates: string (nullable = true) - coordinates"
      ],
      "metadata": {
        "id": "PHLDIrc7Pgy2"
      }
    },
    {
      "cell_type": "markdown",
      "source": [
        "### U.S. Demographic by State\n",
        " * State: string (nullable = true)-Full state name\n",
        " * state_code: string (nullable = true)- State code\n",
        " * Total_Population: double (nullable = true) - Total population of the state\n",
        " * Male_Population: double (nullable = true)- Total Male population per state\n",
        " * Female_Population: double (nullable = true)- Total Female population per state\n",
        " * American_Indian_and_Alaska_Native: long (nullable = true) - Total American Indian and Alaska Native population per state\n",
        " * Asian: long (nullable = true) - Total Asian population per state\n",
        " * Black_or_African-American: long (nullable = true) - Total Black or African-American population per state\n",
        " * Hispanic_or_Latino: long (nullable = true) - Total Hispanic or Latino population per state \n",
        " * White: long (nullable = true) - Total White population per state \n",
        " * Male_Population_Ratio: double (nullable = true) - Male population ratio per state\n",
        " * Female_Population_Ratio: double (nullable = true) - Female population ratio per state\n",
        " * American_Indian_and_Alaska_Native_Ratio: double (nullable = true) - Black or African-American population ratio per state\n",
        " * Asian_Ratio: double (nullable = true) - Asian population ratio per state\n",
        " * Black_or_African-American_Ratio: double (nullable = true) - Black or African-American population ratio per state\n",
        " * Hispanic_or_Latino_Ratio: double (nullable = true) - Hispanic or Latino population ratio per state \n",
        " * White_Ratio: double (nullable = true) - White population ratio per state "
      ],
      "metadata": {
        "id": "JDqwt4qsPjjk"
      }
    },
    {
      "cell_type": "markdown",
      "source": [
        "### Airlines\n",
        " * Airline_ID: integer (nullable = true) - Airline id\n",
        " * Name: string (nullable = true) -  Airline name\n",
        " * IATA: string (nullable = true) - IATA code\n",
        " * ICAO: string (nullable = true) - ICAO code\n",
        " * Callsign: string (nullable = true) - name code\n",
        " * Country: string (nullable = true) - country\n",
        " * Active: string (nullable = true) - Active"
      ],
      "metadata": {
        "id": "MyhyDzKVPmHW"
      }
    },
    {
      "cell_type": "markdown",
      "source": [
        "### Countries\n",
        " * cod_country: long (nullable = true) - Country code\n",
        " * country_name: string (nullable = true) - Country name"
      ],
      "metadata": {
        "id": "8pBM77_5Pooy"
      }
    },
    {
      "cell_type": "markdown",
      "source": [
        "### Visas\n",
        " * cod_visa: string (nullable = true) - visa code\n",
        " * visa: string (nullable = true) - visa description"
      ],
      "metadata": {
        "id": "FdQYlVq5Pqlk"
      }
    },
    {
      "cell_type": "markdown",
      "source": [
        "### Mode to access\n",
        " * cod_mode: integer (nullable = true) - Mode code\n",
        " * mode_name: string (nullable = true) - Mode description"
      ],
      "metadata": {
        "id": "56ipqEhlPYlT"
      }
    },
    {
      "cell_type": "markdown",
      "source": [
        "### Fact Table (Inmigration Registry)\n",
        "\n",
        " * cic_id: integer (nullable = true) - CIC id\n",
        " * cod_port: string (nullable = true) - Airport code\n",
        " * cod_state: string (nullable = true) - US State code\n",
        " * visapost: string (nullable = true) - Department of State where where Visa was issued\n",
        " * matflag: string (nullable = true) - Match flag - Match of arrival and departure records\n",
        " * dtaddto: string (nullable = true) -  Character Date Field - Date to which admitted to U.S. (allowed to stay until)\n",
        " * gender: string (nullable = true) - Gender\n",
        " * airline: string (nullable = true) - Airline code\n",
        " * admnum: double (nullable = true) - Admission Number\n",
        " * fltno: string (nullable = true) - Flight number of Airline used to arrive in U.S.\n",
        " * visatype: string (nullable = true) - Class of admission legally admitting the non-immigrant to temporarily stay in U.S\n",
        " * cod_visa: integer (nullable = true) - Visa code\n",
        " * cod_mode: integer (nullable = true) - Mode code\n",
        " * cod_country_origin: integer (nullable = true) - Country of origin code\n",
        " * cod_country_cit: integer (nullable = true) - City code of origin\n",
        " * year: integer (nullable = true) - Year\n",
        " * month: integer (nullable = true) - Month\n",
        " * bird_year: integer (nullable = true) - Year of Birth\n",
        " * age: integer (nullable = true) - Age\n",
        " * counter: integer (nullable = true) - Used for summary statistics\n",
        " * arrival_date: date (nullable = true) - Arrival date\n",
        " * departure_date: date (nullable = true) - Departure Date\n",
        " * arrival_year: integer (nullable = true) - arrival year\n",
        " * arrival_month: integer (nullable = true) - Arrival month\n",
        " * arrival_day: integer (nullable = true) - arrival day of month"
      ],
      "metadata": {
        "id": "CtR17j6dPREK"
      }
    }
  ]
}