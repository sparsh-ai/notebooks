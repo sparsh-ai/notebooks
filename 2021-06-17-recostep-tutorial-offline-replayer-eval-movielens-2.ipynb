{
  "nbformat": 4,
  "nbformat_minor": 0,
  "metadata": {
    "colab": {
      "name": "2021-06-17-recostep-tutorial-offline-replayer-eval-movielens-2.ipynb",
      "provenance": [],
      "collapsed_sections": [],
      "authorship_tag": "ABX9TyN+IUklcOOffUJ/EDMLzOHo"
    },
    "kernelspec": {
      "name": "python3",
      "display_name": "Python 3"
    },
    "language_info": {
      "name": "python"
    }
  },
  "cells": [
    {
      "cell_type": "markdown",
      "metadata": {
        "id": "FO1NemUuTW68"
      },
      "source": [
        "# Offline Replayer Evaluation IV - Movielens\n",
        "> Evaluating bandits offline with replay method on movielens dataset\n",
        "\n",
        "- toc: true\n",
        "- badges: true\n",
        "- comments: true\n",
        "- categories: [bandit, movie]\n",
        "- image: "
      ]
    },
    {
      "cell_type": "markdown",
      "metadata": {
        "id": "ykntm7xrcqjC"
      },
      "source": [
        "## Environment setup"
      ]
    },
    {
      "cell_type": "markdown",
      "metadata": {
        "id": "D8UfnCqxct2M"
      },
      "source": [
        "### Import libraries"
      ]
    },
    {
      "cell_type": "code",
      "metadata": {
        "id": "3nfpF4cfcUMf"
      },
      "source": [
        "import os\n",
        "import numpy as np\n",
        "import pandas as pd\n",
        "import matplotlib.pyplot as plt\n",
        "from matplotlib.ticker import FormatStrFormatter\n",
        "import seaborn as sns\n",
        "from tqdm import tqdm\n",
        "\n",
        "from scipy.stats import norm, beta\n",
        "from abc import ABC, abstractmethod"
      ],
      "execution_count": 18,
      "outputs": []
    },
    {
      "cell_type": "markdown",
      "metadata": {
        "id": "vUocdyisc8oW"
      },
      "source": [
        "### Loading data"
      ]
    },
    {
      "cell_type": "code",
      "metadata": {
        "colab": {
          "base_uri": "https://localhost:8080/",
          "height": 425
        },
        "id": "LlHZArr4dVcI",
        "outputId": "bd891c7d-e8d9-4a13-ffa4-e464b2dc4d9f"
      },
      "source": [
        "!wget http://files.grouplens.org/datasets/movielens/ml-100k.zip\n",
        "!unzip ml-100k.zip\n",
        "\n",
        "rating_df = pd.read_csv('ml-100k/u.data', sep='\\t', header=None, names=['user_id','movie_id','rating','timestamp'], usecols=['movie_id', 'rating'])\n",
        "rating_df.columns = ['movieId', 'rating']\n",
        "rating_df.head()"
      ],
      "execution_count": 17,
      "outputs": [
        {
          "output_type": "stream",
          "text": [
            "--2021-06-18 08:34:11--  http://files.grouplens.org/datasets/movielens/ml-100k.zip\n",
            "Resolving files.grouplens.org (files.grouplens.org)... 128.101.65.152\n",
            "Connecting to files.grouplens.org (files.grouplens.org)|128.101.65.152|:80... connected.\n",
            "HTTP request sent, awaiting response... 200 OK\n",
            "Length: 4924029 (4.7M) [application/zip]\n",
            "Saving to: ‘ml-100k.zip.3’\n",
            "\n",
            "ml-100k.zip.3       100%[===================>]   4.70M  8.82MB/s    in 0.5s    \n",
            "\n",
            "2021-06-18 08:34:12 (8.82 MB/s) - ‘ml-100k.zip.3’ saved [4924029/4924029]\n",
            "\n",
            "Archive:  ml-100k.zip\n",
            "replace ml-100k/allbut.pl? [y]es, [n]o, [A]ll, [N]one, [r]ename: N\n"
          ],
          "name": "stdout"
        },
        {
          "output_type": "execute_result",
          "data": {
            "text/html": [
              "<div>\n",
              "<style scoped>\n",
              "    .dataframe tbody tr th:only-of-type {\n",
              "        vertical-align: middle;\n",
              "    }\n",
              "\n",
              "    .dataframe tbody tr th {\n",
              "        vertical-align: top;\n",
              "    }\n",
              "\n",
              "    .dataframe thead th {\n",
              "        text-align: right;\n",
              "    }\n",
              "</style>\n",
              "<table border=\"1\" class=\"dataframe\">\n",
              "  <thead>\n",
              "    <tr style=\"text-align: right;\">\n",
              "      <th></th>\n",
              "      <th>movieId</th>\n",
              "      <th>rating</th>\n",
              "    </tr>\n",
              "  </thead>\n",
              "  <tbody>\n",
              "    <tr>\n",
              "      <th>0</th>\n",
              "      <td>242</td>\n",
              "      <td>3</td>\n",
              "    </tr>\n",
              "    <tr>\n",
              "      <th>1</th>\n",
              "      <td>302</td>\n",
              "      <td>3</td>\n",
              "    </tr>\n",
              "    <tr>\n",
              "      <th>2</th>\n",
              "      <td>377</td>\n",
              "      <td>1</td>\n",
              "    </tr>\n",
              "    <tr>\n",
              "      <th>3</th>\n",
              "      <td>51</td>\n",
              "      <td>2</td>\n",
              "    </tr>\n",
              "    <tr>\n",
              "      <th>4</th>\n",
              "      <td>346</td>\n",
              "      <td>1</td>\n",
              "    </tr>\n",
              "  </tbody>\n",
              "</table>\n",
              "</div>"
            ],
            "text/plain": [
              "   movieId  rating\n",
              "0      242       3\n",
              "1      302       3\n",
              "2      377       1\n",
              "3       51       2\n",
              "4      346       1"
            ]
          },
          "metadata": {
            "tags": []
          },
          "execution_count": 17
        }
      ]
    },
    {
      "cell_type": "markdown",
      "metadata": {
        "id": "M1lFWXL8Opne"
      },
      "source": [
        "### Util functions"
      ]
    },
    {
      "cell_type": "code",
      "metadata": {
        "id": "vb_VE53rovQF"
      },
      "source": [
        "def get_data(data, num_ratings, num_movies):\n",
        "    \"\"\" Make each movieId/action uniformly distributed \"\"\"\n",
        "    # filters out movies with less than `num_ratings` ratings\n",
        "    movies = data.groupby('movieId').agg({'rating': 'count'})\n",
        "    if num_movies is not None:\n",
        "        movies_to_keep = movies[(movies['rating'] >= num_ratings)].sample(\n",
        "            n=num_movies, random_state=12).index\n",
        "    else:\n",
        "        movies_to_keep = movies[(movies['rating'] >= num_ratings)].index\n",
        "    data = data[data['movieId'].isin(movies_to_keep)]\n",
        "    # take a random sample of size `num_ratings` for each movie\n",
        "    data = data.groupby('movieId').sample(n=num_ratings, random_state=42)\n",
        "    # shuffle rows to randomize data stream\n",
        "    data = data.sample(frac=1, random_state=42)\n",
        "    # reset index to create pseudo-timestamp index\n",
        "    data = data.reset_index(drop=True)\n",
        "    return data\n",
        "\n",
        "\n",
        "# Plot ################################################################\n",
        "\n",
        "def plot_rewards(*policies, title=None):\n",
        "    fig, (ax1, ax2) = plt.subplots(nrows=1, ncols=2, figsize=(11,5))\n",
        "    fig.suptitle(title)\n",
        "    for policy in policies:\n",
        "        # get cumulative rewards\n",
        "        cumsum_rewards = policy.history.reward.cumsum()\n",
        "        # get average rewards\n",
        "        timesteps = np.arange(len(cumsum_rewards)) + 1\n",
        "        avg_rewards = cumsum_rewards / timesteps\n",
        "        # plots\n",
        "        ax1.plot(timesteps, avg_rewards, label=policy.name)\n",
        "        ax2.plot(timesteps, cumsum_rewards, label=policy.name)\n",
        "    #\n",
        "    ax1.yaxis.set_major_formatter(FormatStrFormatter('%.1f'))\n",
        "    ax1.set_xlabel('time step')\n",
        "    ax1.set_ylabel('average reward')\n",
        "    ax1.legend(loc='lower right')\n",
        "    #\n",
        "    ax2.yaxis.set_major_formatter(FormatStrFormatter('%d'))\n",
        "    ax2.set_xlabel('time step')\n",
        "    ax2.set_ylabel('cumulative reward')\n",
        "    ax2.legend(loc='lower right')\n",
        "    #\n",
        "    plt.tight_layout()\n",
        "    plt.show()\n",
        "\n",
        "\n",
        "def plot_action_values(*policies):\n",
        "    fig, axs = plt.subplots(nrows=1, ncols=len(policies), figsize=(15,5), squeeze=False)\n",
        "    fig.suptitle(\"Action scores\")\n",
        "    axs = axs.ravel()\n",
        "    for i, policy in enumerate(policies):\n",
        "        cbar = True if i == len(axs)-1 else False\n",
        "        sns.heatmap(policy.scores_log.T, ax=axs[i], vmin=2.5, vmax=5, cmap='hot',\n",
        "                    cbar=cbar, xticklabels=1000, yticklabels=False)\n",
        "        axs[i].set_xlabel('time step')\n",
        "        axs[i].title.set_text(policy.name)\n",
        "    axs[0].set_ylabel('movieId')\n",
        "    plt.tight_layout()\n",
        "    plt.show()"
      ],
      "execution_count": 21,
      "outputs": []
    },
    {
      "cell_type": "markdown",
      "metadata": {
        "id": "edR3-_6EQ8vg"
      },
      "source": [
        "### Set variables"
      ]
    },
    {
      "cell_type": "code",
      "metadata": {
        "id": "fgVsqYsHQ-Py"
      },
      "source": [
        "NUM_RATINGS = 30        # with full dataset  -> 10000\n",
        "                        # with small dataset -> 30\n",
        "NUM_MOVIES = None\n",
        "SLATE_SIZE = 5\n",
        "BATCH_SIZE = 100        # with replay eval   -> 100\n",
        "                        # with simulated env -> 1\n",
        "STREAM_LENGTH = 150     # with full dataset  -> 50000\n",
        "                        # with small dataset -> 150\n",
        "MODE = 'replay'         # 'replay' or 'sim'\n",
        "SCORES_LOG = False      # logging movie scores or not"
      ],
      "execution_count": 20,
      "outputs": []
    },
    {
      "cell_type": "code",
      "metadata": {
        "id": "1pf3VWcMSci4"
      },
      "source": [
        "# get data\n",
        "logged_events = get_data(rating_df, NUM_RATINGS, NUM_MOVIES)"
      ],
      "execution_count": 22,
      "outputs": []
    },
    {
      "cell_type": "markdown",
      "metadata": {
        "id": "D_HkxX0Rlgn1"
      },
      "source": [
        "## Create agents"
      ]
    },
    {
      "cell_type": "code",
      "metadata": {
        "id": "A8cqEaKmNdlV"
      },
      "source": [
        "# Abstract Base Policy ###############################################\n",
        "\n",
        "class ABPolicy(ABC):\n",
        "    def __init__(self, bandit, slate_size, scores_logging):\n",
        "        self.name = None\n",
        "        self.slate_size = slate_size\n",
        "        self.history = pd.DataFrame(data=None, columns=['movieId', 'reward'])\n",
        "        if scores_logging is True:\n",
        "            self.scores_log = pd.DataFrame(data=None, columns=bandit.actions)\n",
        "        else:\n",
        "            self.scores_log = None\n",
        "\n",
        "    @abstractmethod\n",
        "    def get_recommendations(self):\n",
        "        ...\n",
        "\n",
        "    def update(self, rewards):\n",
        "        # append new events to history\n",
        "        self.history = self.history.append(rewards, ignore_index=True)\n",
        "    \n",
        "    def _sort_actions(self, scores):\n",
        "        \"\"\" Sort actions by score and shuffle actions with same score\n",
        "            Inputs:\n",
        "                scores: pandas.Series with actions as index \"\"\"\n",
        "        sorted_actions = sorted(\n",
        "            scores.sample(frac=1).index,\n",
        "            key=lambda idx: scores.loc[idx],\n",
        "            reverse=True)\n",
        "        return sorted_actions\n",
        "\n",
        "    def _update_scores_history(self, scores):\n",
        "        if self.scores_log is not None:\n",
        "            self.scores_log = self.scores_log.append(\n",
        "                pd.DataFrame(\n",
        "                    data=scores.to_numpy().reshape((1,-1)),\n",
        "                    columns=self.scores_log.columns),\n",
        "                ignore_index=True)\n",
        "            self.scores_log = self.scores_log.astype('float')\n",
        "\n",
        "\n",
        "\n",
        "# Epsilon Greedy Policy ##############################################\n",
        "\n",
        "class EpsilonGreedy(ABPolicy):\n",
        "    def __init__(self, bandit, epsilon, slate_size=1, scores_logging=False):\n",
        "        super(EpsilonGreedy, self).__init__(bandit, slate_size, scores_logging)\n",
        "        self.name = '{}-Greedy'.format(epsilon)\n",
        "        self.epsilon = epsilon\n",
        "        self.action_values = pd.DataFrame(data=0, columns=['value', 'count'],\n",
        "                                          index=bandit.actions)\n",
        "\n",
        "    def get_recommendations(self):\n",
        "        # sort actions by value and shuffle actions with same value\n",
        "        sorted_actions = self._sort_actions(self.action_values['value'])\n",
        "        # choose recommendations\n",
        "        if np.random.random() < self.epsilon:\n",
        "            recs = np.random.choice(sorted_actions[self.slate_size:],\n",
        "                                    size=self.slate_size, replace=False)\n",
        "        else:\n",
        "            recs = sorted_actions[:self.slate_size]\n",
        "        # update history of action scores\n",
        "        self._update_scores_history(self.action_values['value'])\n",
        "        return recs\n",
        "\n",
        "    def update(self, rewards):\n",
        "        super(EpsilonGreedy, self).update(rewards)\n",
        "        # update action values\n",
        "        for _, (movieId, reward) in rewards.iterrows():\n",
        "            value = self.action_values.loc[movieId, 'value']\n",
        "            N = self.action_values.loc[movieId, 'count']\n",
        "            self.action_values.loc[movieId, 'value'] = (value * N + reward) / (N + 1)\n",
        "            self.action_values.loc[movieId, 'count'] += 1\n",
        "    \n",
        "\n",
        "# Upper Confidence Bound Policy ######################################\n",
        "\n",
        "class UCB1(ABPolicy):\n",
        "    def __init__(self, bandit, slate_size=1, scores_logging=False):\n",
        "        super(UCB1, self).__init__(bandit, slate_size, scores_logging)\n",
        "        self.name = 'UCB1'\n",
        "        self.action_values = pd.DataFrame(data=0, columns=['value', 'count'],\n",
        "                                          index=bandit.actions)\n",
        "\n",
        "    def get_recommendations(self):\n",
        "        # compute UCB for each action\n",
        "        current_step = len(self.history)\n",
        "        if current_step > 0:\n",
        "            scores = self.action_values['count'].apply(\n",
        "                lambda N: np.sqrt(2*np.log(current_step) / N) if N > 0 else np.Inf)\n",
        "            scores = scores + self.action_values['value']\n",
        "        else:\n",
        "            scores = pd.Series(data=np.Inf, index=self.action_values.index)\n",
        "        # sort actions by score and shuffle actions with same score\n",
        "        sorted_actions = self._sort_actions(scores)\n",
        "        # choose recommendations\n",
        "        recs = sorted_actions[:self.slate_size]\n",
        "        # update history of action scores\n",
        "        self._update_scores_history(scores)\n",
        "        return recs\n",
        "\n",
        "    def update(self, rewards):\n",
        "        super(UCB1, self).update(rewards)\n",
        "        # update action values\n",
        "        for _, (movieId, reward) in rewards.iterrows():\n",
        "            value = self.action_values.loc[movieId, 'value']\n",
        "            N = self.action_values.loc[movieId, 'count']\n",
        "            self.action_values.loc[movieId, 'value'] = (value * N + reward) / (N + 1)\n",
        "            self.action_values.loc[movieId, 'count'] += 1\n",
        "\n",
        "\n",
        "# Thompson Sampling Policy ###########################################\n",
        "\n",
        "class TS(ABPolicy):\n",
        "    def __init__(self, bandit, slate_size=1, scores_logging=False):\n",
        "        super(TS, self).__init__(bandit, slate_size, scores_logging)\n",
        "        self.name = 'Thompson Sampling'\n",
        "        self.beta_params = pd.DataFrame(data=1, columns=['alpha', 'beta'],\n",
        "                                        index=bandit.actions)\n",
        "    \n",
        "    def get_recommendations(self):\n",
        "        # sample expected value for each action\n",
        "        expected_values = pd.Series(\n",
        "            data=4.5 * beta.rvs(self.beta_params['alpha'], self.beta_params['beta']) + 0.5,\n",
        "            index=self.beta_params.index)\n",
        "        # sort actions by value and shuffle actions with same value\n",
        "        sorted_actions = self._sort_actions(expected_values)\n",
        "        # choose recommendations\n",
        "        recs = sorted_actions[:self.slate_size]\n",
        "        # update history of action scores\n",
        "        self._update_scores_history(expected_values)\n",
        "        return recs\n",
        "\n",
        "    def update(self, rewards):\n",
        "        super(TS, self).update(rewards)\n",
        "        # update action value distribution prior\n",
        "        for _, (movieId, reward) in rewards.iterrows():\n",
        "            self.beta_params.loc[movieId, 'alpha'] += (reward - 0.5) / 4.5\n",
        "            self.beta_params.loc[movieId, 'beta'] += (5.0 - reward) / 4.5"
      ],
      "execution_count": 9,
      "outputs": []
    },
    {
      "cell_type": "code",
      "metadata": {
        "id": "nlNYIT56lkMx"
      },
      "source": [
        "class ReplayBandit():\n",
        "    \"\"\" Implementation of a bandit problem with replay evaluation \"\"\"\n",
        "    def __init__(self, logged_events, batch_size=1):\n",
        "        self.events = logged_events.rename(columns={'rating': 'reward'})\n",
        "        self.actions = np.sort(logged_events['movieId'].unique())\n",
        "        self.batch_size = batch_size\n",
        "        self.stream_length = len(self.events) // batch_size\n",
        "    \n",
        "    def get_rewards(self, recommendations, n_event):\n",
        "        # generate events\n",
        "        idx = n_event * self.batch_size\n",
        "        events =  self.events.iloc[idx:idx+self.batch_size]\n",
        "        # keep only events that match with the recommendation slate\n",
        "        rewards = events[events['movieId'].isin(recommendations)]\n",
        "        return rewards"
      ],
      "execution_count": 10,
      "outputs": []
    },
    {
      "cell_type": "code",
      "metadata": {
        "colab": {
          "base_uri": "https://localhost:8080/"
        },
        "id": "ztkTtHE8S5Qs",
        "outputId": "8106299c-09ae-4d32-dd49-fb4edc8ce6cc"
      },
      "source": [
        "bandit = ReplayBandit(logged_events, BATCH_SIZE)\n",
        "STREAM_LENGTH = bandit.stream_length\n",
        "title=\"rewards for bandit problem with replay evaluation\"\n",
        "\n",
        "print(\"NUMBER OF MOVIES/ACTIONS: {}\".format(len(bandit.actions)))"
      ],
      "execution_count": 23,
      "outputs": [
        {
          "output_type": "stream",
          "text": [
            "NUMBER OF MOVIES/ACTIONS: 806\n"
          ],
          "name": "stdout"
        }
      ]
    },
    {
      "cell_type": "code",
      "metadata": {
        "id": "pSrEd3wnS-Jj"
      },
      "source": [
        "# instantiate policies\n",
        "policies = [\n",
        "    EpsilonGreedy(bandit, epsilon=0.1, slate_size=SLATE_SIZE, scores_logging=SCORES_LOG),\n",
        "    UCB1(bandit, slate_size=SLATE_SIZE, scores_logging=SCORES_LOG),\n",
        "    TS(bandit, slate_size=SLATE_SIZE, scores_logging=SCORES_LOG),\n",
        "    ]"
      ],
      "execution_count": 24,
      "outputs": []
    },
    {
      "cell_type": "code",
      "metadata": {
        "colab": {
          "base_uri": "https://localhost:8080/"
        },
        "id": "5eQMfXQeTE9M",
        "outputId": "248b1f50-2a94-4f08-84b5-5f60229232bf"
      },
      "source": [
        "# evaluate policies\n",
        "for policy in policies:\n",
        "    print(\"POLICY: {}\".format(policy.name))\n",
        "    for i in tqdm(range(STREAM_LENGTH), ascii=True):\n",
        "        recs = policy.get_recommendations()\n",
        "        rewards = bandit.get_rewards(recs, i)\n",
        "        policy.update(rewards)\n",
        "    print(\"HISTORY LENGTH: {}\".format(len(policy.history)))\n",
        "    print()"
      ],
      "execution_count": 25,
      "outputs": [
        {
          "output_type": "stream",
          "text": [
            "  4%|3         | 9/241 [00:00<00:02, 85.23it/s]"
          ],
          "name": "stderr"
        },
        {
          "output_type": "stream",
          "text": [
            "POLICY: 0.1-Greedy\n"
          ],
          "name": "stdout"
        },
        {
          "output_type": "stream",
          "text": [
            "100%|##########| 241/241 [00:02<00:00, 81.60it/s]\n",
            "  4%|3         | 9/241 [00:00<00:02, 82.17it/s]"
          ],
          "name": "stderr"
        },
        {
          "output_type": "stream",
          "text": [
            "HISTORY LENGTH: 133\n",
            "\n",
            "POLICY: UCB1\n"
          ],
          "name": "stdout"
        },
        {
          "output_type": "stream",
          "text": [
            "100%|##########| 241/241 [00:03<00:00, 74.59it/s]\n",
            "  3%|3         | 8/241 [00:00<00:02, 78.25it/s]"
          ],
          "name": "stderr"
        },
        {
          "output_type": "stream",
          "text": [
            "HISTORY LENGTH: 144\n",
            "\n",
            "POLICY: Thompson Sampling\n"
          ],
          "name": "stdout"
        },
        {
          "output_type": "stream",
          "text": [
            "100%|##########| 241/241 [00:03<00:00, 78.49it/s]"
          ],
          "name": "stderr"
        },
        {
          "output_type": "stream",
          "text": [
            "HISTORY LENGTH: 141\n",
            "\n"
          ],
          "name": "stdout"
        },
        {
          "output_type": "stream",
          "text": [
            "\n"
          ],
          "name": "stderr"
        }
      ]
    },
    {
      "cell_type": "code",
      "metadata": {
        "colab": {
          "base_uri": "https://localhost:8080/",
          "height": 373
        },
        "id": "kAM4S_V-TGKV",
        "outputId": "53a290b2-ccf4-4f80-e8de-f0bdd998fe24"
      },
      "source": [
        "# plot results\n",
        "plot_rewards(*policies, title=title)\n",
        "if SCORES_LOG is True:\n",
        "    plot_action_values(*policies)"
      ],
      "execution_count": 26,
      "outputs": [
        {
          "output_type": "display_data",
          "data": {
            "image/png": "[encoded data removed]",
            "text/plain": [
              "<Figure size 792x360 with 2 Axes>"
            ]
          },
          "metadata": {
            "tags": [],
            "needs_background": "light"
          }
        }
      ]
    }
  ]
}