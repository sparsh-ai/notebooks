{
  "nbformat": 4,
  "nbformat_minor": 0,
  "metadata": {
    "colab": {
      "name": "2021-06-30-concept-normalization.ipynb",
      "provenance": [],
      "collapsed_sections": [],
      "authorship_tag": "ABX9TyNAvhVYSb6ZqpfGjd2OXVQZ"
    },
    "kernelspec": {
      "name": "python3",
      "display_name": "Python 3"
    },
    "language_info": {
      "name": "python"
    }
  },
  "cells": [
    {
      "cell_type": "markdown",
      "metadata": {
        "id": "O_VupUUIr0ff"
      },
      "source": [
        "# The importance of Rating Normalization\n",
        "> Understanding the concept of rating normalization and user-based, item-based similarity with example\n",
        "\n",
        "- toc: true\n",
        "- badges: true\n",
        "- comments: true\n",
        "- categories: [Concept, Preprocessing]\n",
        "- image:"
      ]
    },
    {
      "cell_type": "code",
      "metadata": {
        "id": "zj1_hePrjSqk"
      },
      "source": [
        "import numpy as np\n",
        "import pandas as pd"
      ],
      "execution_count": 11,
      "outputs": []
    },
    {
      "cell_type": "code",
      "metadata": {
        "id": "6BHnJCSoo5vz"
      },
      "source": [
        "!wget http://static.preferred.ai/tutorials/recommender-systems/sample_data.csv"
      ],
      "execution_count": null,
      "outputs": []
    },
    {
      "cell_type": "code",
      "metadata": {
        "colab": {
          "base_uri": "https://localhost:8080/",
          "height": 204
        },
        "id": "ukcj5vtbobGB",
        "outputId": "df4b1469-24c9-4ba6-dad4-2e6fe705fcc2"
      },
      "source": [
        "df = pd.read_csv(\"sample_data.csv\", sep=\",\", names=[\"UserID\", \"ItemID\", \"Rating\"])\n",
        "df.head()"
      ],
      "execution_count": 6,
      "outputs": [
        {
          "output_type": "execute_result",
          "data": {
            "text/html": [
              "<div>\n",
              "<style scoped>\n",
              "    .dataframe tbody tr th:only-of-type {\n",
              "        vertical-align: middle;\n",
              "    }\n",
              "\n",
              "    .dataframe tbody tr th {\n",
              "        vertical-align: top;\n",
              "    }\n",
              "\n",
              "    .dataframe thead th {\n",
              "        text-align: right;\n",
              "    }\n",
              "</style>\n",
              "<table border=\"1\" class=\"dataframe\">\n",
              "  <thead>\n",
              "    <tr style=\"text-align: right;\">\n",
              "      <th></th>\n",
              "      <th>UserID</th>\n",
              "      <th>ItemID</th>\n",
              "      <th>Rating</th>\n",
              "    </tr>\n",
              "  </thead>\n",
              "  <tbody>\n",
              "    <tr>\n",
              "      <th>0</th>\n",
              "      <td>1</td>\n",
              "      <td>1</td>\n",
              "      <td>7</td>\n",
              "    </tr>\n",
              "    <tr>\n",
              "      <th>1</th>\n",
              "      <td>1</td>\n",
              "      <td>2</td>\n",
              "      <td>6</td>\n",
              "    </tr>\n",
              "    <tr>\n",
              "      <th>2</th>\n",
              "      <td>1</td>\n",
              "      <td>3</td>\n",
              "      <td>7</td>\n",
              "    </tr>\n",
              "    <tr>\n",
              "      <th>3</th>\n",
              "      <td>1</td>\n",
              "      <td>4</td>\n",
              "      <td>4</td>\n",
              "    </tr>\n",
              "    <tr>\n",
              "      <th>4</th>\n",
              "      <td>1</td>\n",
              "      <td>5</td>\n",
              "      <td>5</td>\n",
              "    </tr>\n",
              "  </tbody>\n",
              "</table>\n",
              "</div>"
            ],
            "text/plain": [
              "   UserID  ItemID  Rating\n",
              "0       1       1       7\n",
              "1       1       2       6\n",
              "2       1       3       7\n",
              "3       1       4       4\n",
              "4       1       5       5"
            ]
          },
          "metadata": {
            "tags": []
          },
          "execution_count": 6
        }
      ]
    },
    {
      "cell_type": "code",
      "metadata": {
        "colab": {
          "base_uri": "https://localhost:8080/",
          "height": 235
        },
        "id": "e02SnEywobef",
        "outputId": "f05d444b-ae05-41d4-ee67-02b001f0bba1"
      },
      "source": [
        "df = pd.pivot_table(df, 'Rating', 'UserID', 'ItemID')\n",
        "df[\"Mean Rating\"] = df.mean(axis=1)\n",
        "df"
      ],
      "execution_count": 9,
      "outputs": [
        {
          "output_type": "execute_result",
          "data": {
            "text/html": [
              "<div>\n",
              "<style scoped>\n",
              "    .dataframe tbody tr th:only-of-type {\n",
              "        vertical-align: middle;\n",
              "    }\n",
              "\n",
              "    .dataframe tbody tr th {\n",
              "        vertical-align: top;\n",
              "    }\n",
              "\n",
              "    .dataframe thead th {\n",
              "        text-align: right;\n",
              "    }\n",
              "</style>\n",
              "<table border=\"1\" class=\"dataframe\">\n",
              "  <thead>\n",
              "    <tr style=\"text-align: right;\">\n",
              "      <th>ItemID</th>\n",
              "      <th>1</th>\n",
              "      <th>2</th>\n",
              "      <th>3</th>\n",
              "      <th>4</th>\n",
              "      <th>5</th>\n",
              "      <th>6</th>\n",
              "      <th>Mean Rating</th>\n",
              "    </tr>\n",
              "    <tr>\n",
              "      <th>UserID</th>\n",
              "      <th></th>\n",
              "      <th></th>\n",
              "      <th></th>\n",
              "      <th></th>\n",
              "      <th></th>\n",
              "      <th></th>\n",
              "      <th></th>\n",
              "    </tr>\n",
              "  </thead>\n",
              "  <tbody>\n",
              "    <tr>\n",
              "      <th>1</th>\n",
              "      <td>7.0</td>\n",
              "      <td>6.0</td>\n",
              "      <td>7.0</td>\n",
              "      <td>4.0</td>\n",
              "      <td>5.0</td>\n",
              "      <td>4.0</td>\n",
              "      <td>5.5</td>\n",
              "    </tr>\n",
              "    <tr>\n",
              "      <th>2</th>\n",
              "      <td>6.0</td>\n",
              "      <td>7.0</td>\n",
              "      <td>NaN</td>\n",
              "      <td>4.0</td>\n",
              "      <td>3.0</td>\n",
              "      <td>4.0</td>\n",
              "      <td>4.8</td>\n",
              "    </tr>\n",
              "    <tr>\n",
              "      <th>3</th>\n",
              "      <td>NaN</td>\n",
              "      <td>3.0</td>\n",
              "      <td>3.0</td>\n",
              "      <td>1.0</td>\n",
              "      <td>1.0</td>\n",
              "      <td>NaN</td>\n",
              "      <td>2.0</td>\n",
              "    </tr>\n",
              "    <tr>\n",
              "      <th>4</th>\n",
              "      <td>1.0</td>\n",
              "      <td>2.0</td>\n",
              "      <td>2.0</td>\n",
              "      <td>3.0</td>\n",
              "      <td>3.0</td>\n",
              "      <td>4.0</td>\n",
              "      <td>2.5</td>\n",
              "    </tr>\n",
              "    <tr>\n",
              "      <th>5</th>\n",
              "      <td>1.0</td>\n",
              "      <td>NaN</td>\n",
              "      <td>1.0</td>\n",
              "      <td>2.0</td>\n",
              "      <td>3.0</td>\n",
              "      <td>3.0</td>\n",
              "      <td>2.0</td>\n",
              "    </tr>\n",
              "  </tbody>\n",
              "</table>\n",
              "</div>"
            ],
            "text/plain": [
              "ItemID    1    2    3    4    5    6  Mean Rating\n",
              "UserID                                           \n",
              "1       7.0  6.0  7.0  4.0  5.0  4.0          5.5\n",
              "2       6.0  7.0  NaN  4.0  3.0  4.0          4.8\n",
              "3       NaN  3.0  3.0  1.0  1.0  NaN          2.0\n",
              "4       1.0  2.0  2.0  3.0  3.0  4.0          2.5\n",
              "5       1.0  NaN  1.0  2.0  3.0  3.0          2.0"
            ]
          },
          "metadata": {
            "tags": []
          },
          "execution_count": 9
        }
      ]
    },
    {
      "cell_type": "markdown",
      "metadata": {
        "id": "gtr81Hdbpu8R"
      },
      "source": [
        "One concern about rating data is its subjectivity. In particular, different users may use different ranges. Some users are lenient and tend to assign higher ratings. Others are strict and tend to assign lower ratings. A commonly adopted approach to 'normalize' the ratings is to take the mean of the ratings by a user and subtract the mean from the individual ratings of the said user."
      ]
    },
    {
      "cell_type": "code",
      "metadata": {
        "colab": {
          "base_uri": "https://localhost:8080/",
          "height": 235
        },
        "id": "YAdx2Uc4oebI",
        "outputId": "617aa205-adde-4f88-e56b-bc9e8dff8733"
      },
      "source": [
        "ratings = df[df.columns.difference([\"Mean Rating\"])].values\n",
        "means = df[\"Mean Rating\"].values[:, np.newaxis]\n",
        "df[df.columns.difference([\"Mean Rating\"])] = (ratings - means)\n",
        "df.drop(columns=\"Mean Rating\")"
      ],
      "execution_count": 12,
      "outputs": [
        {
          "output_type": "execute_result",
          "data": {
            "text/html": [
              "<div>\n",
              "<style scoped>\n",
              "    .dataframe tbody tr th:only-of-type {\n",
              "        vertical-align: middle;\n",
              "    }\n",
              "\n",
              "    .dataframe tbody tr th {\n",
              "        vertical-align: top;\n",
              "    }\n",
              "\n",
              "    .dataframe thead th {\n",
              "        text-align: right;\n",
              "    }\n",
              "</style>\n",
              "<table border=\"1\" class=\"dataframe\">\n",
              "  <thead>\n",
              "    <tr style=\"text-align: right;\">\n",
              "      <th>ItemID</th>\n",
              "      <th>1</th>\n",
              "      <th>2</th>\n",
              "      <th>3</th>\n",
              "      <th>4</th>\n",
              "      <th>5</th>\n",
              "      <th>6</th>\n",
              "    </tr>\n",
              "    <tr>\n",
              "      <th>UserID</th>\n",
              "      <th></th>\n",
              "      <th></th>\n",
              "      <th></th>\n",
              "      <th></th>\n",
              "      <th></th>\n",
              "      <th></th>\n",
              "    </tr>\n",
              "  </thead>\n",
              "  <tbody>\n",
              "    <tr>\n",
              "      <th>1</th>\n",
              "      <td>1.5</td>\n",
              "      <td>0.5</td>\n",
              "      <td>1.5</td>\n",
              "      <td>-1.5</td>\n",
              "      <td>-0.5</td>\n",
              "      <td>-1.5</td>\n",
              "    </tr>\n",
              "    <tr>\n",
              "      <th>2</th>\n",
              "      <td>1.2</td>\n",
              "      <td>2.2</td>\n",
              "      <td>NaN</td>\n",
              "      <td>-0.8</td>\n",
              "      <td>-1.8</td>\n",
              "      <td>-0.8</td>\n",
              "    </tr>\n",
              "    <tr>\n",
              "      <th>3</th>\n",
              "      <td>NaN</td>\n",
              "      <td>1.0</td>\n",
              "      <td>1.0</td>\n",
              "      <td>-1.0</td>\n",
              "      <td>-1.0</td>\n",
              "      <td>NaN</td>\n",
              "    </tr>\n",
              "    <tr>\n",
              "      <th>4</th>\n",
              "      <td>-1.5</td>\n",
              "      <td>-0.5</td>\n",
              "      <td>-0.5</td>\n",
              "      <td>0.5</td>\n",
              "      <td>0.5</td>\n",
              "      <td>1.5</td>\n",
              "    </tr>\n",
              "    <tr>\n",
              "      <th>5</th>\n",
              "      <td>-1.0</td>\n",
              "      <td>NaN</td>\n",
              "      <td>-1.0</td>\n",
              "      <td>0.0</td>\n",
              "      <td>1.0</td>\n",
              "      <td>1.0</td>\n",
              "    </tr>\n",
              "  </tbody>\n",
              "</table>\n",
              "</div>"
            ],
            "text/plain": [
              "ItemID    1    2    3    4    5    6\n",
              "UserID                              \n",
              "1       1.5  0.5  1.5 -1.5 -0.5 -1.5\n",
              "2       1.2  2.2  NaN -0.8 -1.8 -0.8\n",
              "3       NaN  1.0  1.0 -1.0 -1.0  NaN\n",
              "4      -1.5 -0.5 -0.5  0.5  0.5  1.5\n",
              "5      -1.0  NaN -1.0  0.0  1.0  1.0"
            ]
          },
          "metadata": {
            "tags": []
          },
          "execution_count": 12
        }
      ]
    },
    {
      "cell_type": "markdown",
      "metadata": {
        "id": "AuML2S-MqSZK"
      },
      "source": [
        "### User-based method"
      ]
    },
    {
      "cell_type": "markdown",
      "metadata": {
        "id": "9_O9E_DMqYEu"
      },
      "source": [
        "For each user, mean rating is calculated as follows:\n",
        "\n",
        "$$ \\mu_u = \\frac{\\Sigma_{k \\in \\mathcal{I}_u} r_{uk}}{|\\mathcal{I}_u|} \\ \\ \\forall u \\in \\{1 \\dots m\\} $$\n",
        "\n",
        "\n",
        "Two common approaches to measure similarity between two users $\\mathrm{Sim}(u, v)$ are *Cosine similarity* and *Pearson correlation coefficient*:\n",
        "\n",
        "\\begin{align*}\n",
        "\\mathrm{Cosine}(u,v) &= \\frac{\\Sigma_{k \\in \\mathcal{I}_u \\cap \\mathcal{I}_v} r_{uk} * r_{vk}}{\\sqrt{\\Sigma_{k \\in \\mathcal{I}_u \\cap \\mathcal{I}_v} r_{uk}^2} * \\sqrt{\\Sigma_{k \\in \\mathcal{I}_u \\cap \\mathcal{I}_v} r_{vk}^2}} \\\\\n",
        "\\mathrm{Pearson}(u,v) &= \\frac{\\Sigma_{k \\in \\mathcal{I}_u \\cap \\mathcal{I}_v} (r_{uk} - \\mu_u) * (r_{vk} - \\mu_v)}{\\sqrt{\\Sigma_{k \\in \\mathcal{I}_u \\cap \\mathcal{I}_v} (r_{uk} - \\mu_u)^2} * \\sqrt{\\Sigma_{k \\in \\mathcal{I}_u \\cap \\mathcal{I}_v} (r_{vk} - \\mu_v)^2}}\n",
        "\\end{align*}\n",
        "\n",
        "\n",
        "For example, given the original rating matrix, between *User 1* and *User 3* we have their similarities as:\n",
        "\n",
        "\\begin{align*}\n",
        "\\mathrm{Cosine}(1,3) &= \\frac{6*3+7*3+4*1+5*1}{\\sqrt{6^2+7^2+4^2+5^2} * \\sqrt{3^2+3^2+1^2+1^2}} = 0.956 \\\\\n",
        "\\mathrm{Pearson}(1,3) &= \\frac{(6 - 5.5) * (3 - 2) + (7 - 5.5) * (3 - 2) + (4 - 5.5) * (1 - 2) + (5 - 5.5) * (1 - 2)}{\\sqrt{0.5^2 + 1.5^2 + (-1.5)^2 + (-0.5)^2} * \\sqrt{1^2 + 1^2 + (-1)^2 + (-1)^2}} = 0.894\n",
        "\\end{align*}"
      ]
    },
    {
      "cell_type": "markdown",
      "metadata": {
        "id": "-kDjrZOxq5DQ"
      },
      "source": [
        "The overall neighborhood-based *prediction function* is as follows:\n",
        "\n",
        "$$ \\hat{r}_{uj} = \\mu_u + \\frac{\\Sigma_{v \\in P_u(j)} \\mathrm{Sim}(u,v) * (r_{vj} - \\mu_v)}{\\Sigma_{v \\in P_u(j)} |\\mathrm{Sim}(u,v)|} $$\n",
        "\n",
        "\n",
        "For example, to calculate the predicted rating given by *User 3* to *Item 1* and *Item 6*, where the ratings are based on the two nearest neighbors (*User 1* and *User 2*):\n",
        "\n",
        "\\begin{align*}\n",
        "\\hat{r}_{31} &= 2 + \\frac{1.5*0.894+1.2*0.939}{0.894 + 0.939} = 3.35 \\\\\n",
        "\\hat{r}_{36} &= 2 + \\frac{-1.5*0.894-0.8*0.939}{0.894 + 0.939} = 0.86\n",
        "\\end{align*}"
      ]
    },
    {
      "cell_type": "markdown",
      "metadata": {
        "id": "CnuPWmy_q9H5"
      },
      "source": [
        "### Item-based method"
      ]
    },
    {
      "cell_type": "markdown",
      "metadata": {
        "id": "Ang7mHyqq_Bh"
      },
      "source": [
        "The *Cosine* and *Pearson* similarities can be applied for item-based methods as well, except that the feature vectors are now columns instead of rows as we measure similarity between items. \n",
        "\n",
        "If *Cosine* similarity is based on the mean-centered rating matrix, we have a variant called *AdjustedCosine*.  The *adjusted* cosine similarity between the items (columns) *i* and *j* is defined as follows:\n",
        "\n",
        "$$ \\mathrm{AdjustedCosine}(i,j) = \\frac{\\Sigma_{u \\in \\mathcal{U}_i \\cap \\mathcal{U}_j} s_{ui} * s_{uj}}{\\sqrt{\\Sigma_{u \\in \\mathcal{U}_i \\cap \\mathcal{U}_j} s_{ui}^2} * \\sqrt{\\Sigma_{u \\in \\mathcal{U}_i \\cap \\mathcal{U}_j} s_{uj}^2}} $$\n",
        "\n",
        "where $s_{ui}$ is the mean-centered rating that user $u$ gives to item $i$. \n",
        "\n",
        "For example, we calculate *adjusted* cosine between *Item 1* and *Item 3* in the small sample dataset above as follows:\n",
        "\n",
        "$$ \\mathrm{AdjustedCosine}(1,3) = \\frac{1.5 * 1.5 + (-1.5) * (-0.5) + (-1) * (-1)}{\\sqrt{1.5^2 + (-1.5)^2 + (-1)^2} * \\sqrt{1.5^2 + (-0.5)^2 + (-1)^2}} = 0.912 $$"
      ]
    },
    {
      "cell_type": "markdown",
      "metadata": {
        "id": "_o-xjaj_rUm4"
      },
      "source": [
        "For prediction, we use the same form of prediction function as in user-based methods but aggregate the user's ratings on neighboring items:\n",
        "\n",
        "$$ \\hat{r}_{ut} = \\mu_u + \\frac{\\Sigma_{j \\in Q_t(u)} \\mathrm{Sim}(j,t) * (r_{uj} - \\mu_u)}{\\Sigma_{j \\in Q_t(u)} |\\mathrm{Sim}(j,t)|} $$\n",
        "\n",
        "\n",
        "For example, below we predict the ratings that *User 3* would give to *Item 1* and *Item 6*. The rating for *Item 1* is based on two nearest neighbors *Item 2* and *Item 3*, while the rating for *Item 6* is based on *Item 4* and *Item 5*.\n",
        "\n",
        "\\begin{align*}\n",
        "\\hat{r}_{31} &= 2 + \\frac{1*0.735 + 1*0.912}{0.735 + 0.912} = 3 \\\\\n",
        "\\hat{r}_{36} &= 2 + \\frac{(-1)*0.829 + (-1)*0.730}{0.829 + 0.730} = 1\n",
        "\\end{align*}"
      ]
    }
  ]
}