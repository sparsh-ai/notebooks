{
 "cells": [
  {
   "cell_type": "markdown",
   "metadata": {},
   "source": [
    "- Each algorithm has strenghts and weakness. So we can combine them\n",
    "- Example, blend collaborative filtering with popularity: make sure people get relevant items for them AND try to make sure they will like it\n",
    "\n",
    "\n",
    "- Means of Hibidrization:\n",
    "    - Combine Items Scores\n",
    "    \n",
    "    Linear Blends or feature weighting linear scaling (as more ratings an item has, the less emphasis is put on a content based and more weight to the rank of the collaborative filtering is given for example)\n",
    "    - Combine Item Ranks: Combina based on Output, not score\n",
    "    - Integrated Models\n",
    "    \n",
    "- Advanced Models:\n",
    "    - Conditionally Switch Models\n",
    "    - Deep Integration (Putting content based computations inside a collaborative filtering)\n",
    "    \n",
    "- Matrix Factorization on Hibrid Data - SVD++ or SVDFeatures? No ideas..\n",
    "\n",
    "- Netflix Challenge - Crazy stuff not real for real life\n",
    "\n",
    "- Learning to Rank - FunkSVD for example\n",
    "     - How do we generalise this idea?"
   ]
  },
  {
   "cell_type": "code",
   "execution_count": null,
   "metadata": {},
   "outputs": [],
   "source": []
  },
  {
   "cell_type": "code",
   "execution_count": null,
   "metadata": {},
   "outputs": [],
   "source": []
  }
 ],
 "metadata": {
  "kernelspec": {
   "display_name": "Python 3",
   "language": "python",
   "name": "python3"
  },
  "language_info": {
   "codemirror_mode": {
    "name": "ipython",
    "version": 3
   },
   "file_extension": ".py",
   "mimetype": "text/x-python",
   "name": "python",
   "nbconvert_exporter": "python",
   "pygments_lexer": "ipython3",
   "version": "3.6.4"
  },
  "toc": {
   "base_numbering": 1,
   "nav_menu": {},
   "number_sections": true,
   "sideBar": true,
   "skip_h1_title": false,
   "title_cell": "Table of Contents",
   "title_sidebar": "Contents",
   "toc_cell": false,
   "toc_position": {},
   "toc_section_display": true,
   "toc_window_display": false
  }
 },
 "nbformat": 4,
 "nbformat_minor": 2
}
