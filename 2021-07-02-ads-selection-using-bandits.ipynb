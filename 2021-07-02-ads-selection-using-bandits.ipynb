{
  "nbformat": 4,
  "nbformat_minor": 0,
  "metadata": {
    "colab": {
      "name": "Multi Bandit Gym",
      "provenance": [],
      "collapsed_sections": [],
      "toc_visible": true,
      "authorship_tag": "ABX9TyMXSLdP1IFBKW+OTpPsz6uI"
    },
    "kernelspec": {
      "name": "python3",
      "display_name": "Python 3"
    }
  },
  "cells": [
    {
      "cell_type": "markdown",
      "metadata": {
        "id": "fQQoRnCyKAh8"
      },
      "source": [
        "# Best Ads detection using bandit methods\n",
        "> Multi-armed Bandit for Banner Ad and 4 Exploration Strategies\n",
        "\n",
        "- toc: false\n",
        "- badges: true\n",
        "- comments: true\n",
        "- categories: [Bandit, RL, MAB]\n",
        "- image:"
      ]
    },
    {
      "cell_type": "code",
      "metadata": {
        "id": "GM-r2TFApyhv"
      },
      "source": [
        "import pandas as pd\n",
        "import numpy as np\n",
        "import matplotlib.pyplot as plt\n",
        "import seaborn as sns\n",
        "%matplotlib inline\n",
        "plt.style.use('ggplot')\n",
        "\n",
        "import warnings\n",
        "warnings.filterwarnings(\"ignore\")"
      ],
      "execution_count": null,
      "outputs": []
    },
    {
      "cell_type": "code",
      "metadata": {
        "id": "wAvHyehnlqHy",
        "colab": {
          "base_uri": "https://localhost:8080/"
        },
        "outputId": "f5f5a606-f1b7-48a8-fbf8-96c0276ba28d"
      },
      "source": [
        "# First, let's clone the Gym bandits repository:\n",
        "! git clone https://github.com/JKCooper2/gym-bandits\n",
        "\n",
        "# Next, we can install it using pip:\n",
        "%cd gym-bandits\n",
        "! pip install -e .\n",
        "\n",
        "# After installation, we import gym_bandits and also the gym library:\n",
        "import gym_bandits\n",
        "import gym\n",
        "\n",
        "# gym_bandits provides several versions of the bandit environment. \n",
        "# We can examine the different bandit versions at https://github.com/JKCooper2/gym-bandits\n",
        "\n",
        "#Let's just create a simple 2-armed bandit whose environment ID is BanditTwoArmedHighLowFixed-v0:\n",
        "env = gym.make(\"BanditTwoArmedHighLowFixed-v0\")\n",
        "\n",
        "# Since we created a 2-armed bandit, our action space will be 2 (as there are two arms), as shown here:\n",
        "print(env.action_space.n)    # The preceding code will print: 2\n",
        "\n",
        "# We can also check the probability distribution of the arm with:\n",
        "print(env.p_dist)    # The preceding code will print: [0.8, 0.2]"
      ],
      "execution_count": null,
      "outputs": [
        {
          "output_type": "stream",
          "text": [
            "fatal: destination path 'gym-bandits' already exists and is not an empty directory.\n",
            "/content/gym-bandits\n",
            "Obtaining file:///content/gym-bandits\n",
            "Requirement already satisfied: gym in /usr/local/lib/python3.6/dist-packages (from gym-bandits==0.0.2) (0.17.3)\n",
            "Requirement already satisfied: pyglet<=1.5.0,>=1.4.0 in /usr/local/lib/python3.6/dist-packages (from gym->gym-bandits==0.0.2) (1.5.0)\n",
            "Requirement already satisfied: cloudpickle<1.7.0,>=1.2.0 in /usr/local/lib/python3.6/dist-packages (from gym->gym-bandits==0.0.2) (1.3.0)\n",
            "Requirement already satisfied: numpy>=1.10.4 in /usr/local/lib/python3.6/dist-packages (from gym->gym-bandits==0.0.2) (1.18.5)\n",
            "Requirement already satisfied: scipy in /usr/local/lib/python3.6/dist-packages (from gym->gym-bandits==0.0.2) (1.4.1)\n",
            "Requirement already satisfied: future in /usr/local/lib/python3.6/dist-packages (from pyglet<=1.5.0,>=1.4.0->gym->gym-bandits==0.0.2) (0.16.0)\n",
            "Installing collected packages: gym-bandits\n",
            "  Running setup.py develop for gym-bandits\n",
            "Successfully installed gym-bandits\n",
            "2\n",
            "[0.8, 0.2]\n"
          ],
          "name": "stdout"
        }
      ]
    },
    {
      "cell_type": "code",
      "metadata": {
        "id": "s1Qmkgvtmjby",
        "colab": {
          "base_uri": "https://localhost:8080/"
        },
        "outputId": "590ce2bd-7d8a-4d89-a436-d42769f5be77"
      },
      "source": [
        "# First, let's initialize the variables.\n",
        "# Initialize the count for storing the number of times an arm is pulled:\n",
        "count = np.zeros(2)\n",
        "# Initialize sum_rewards for storing the sum of rewards of each arm:\n",
        "sum_rewards = np.zeros(2)\n",
        "# Initialize Q for storing the average reward of each arm:\n",
        "Q = np.zeros(2)\n",
        "# Set the number of rounds (iterations):\n",
        "num_rounds = 100\n",
        "\n",
        "# Now, let's define the epsilon_greedy function.\n",
        "def epsilon_greedy(epsilon):\n",
        "    \"\"\"First, we generate a random number from a uniform distribution. If the random \n",
        "    number is less than epsilon, then we pull the random arm; else, we pull \n",
        "    the best arm that has the maximum average reward\"\"\"\n",
        "\n",
        "    if np.random.uniform(0,1) < epsilon:\n",
        "        return env.action_space.sample()\n",
        "    else:\n",
        "        return np.argmax(Q)\n",
        "\n",
        "# Now, let's play the game and try to find the best arm using the epsilon-greedy method.\n",
        "# For each round:\n",
        "for i in range(num_rounds):\n",
        "  # Select the arm based on the epsilon-greedy method:\n",
        "  arm = epsilon_greedy(epsilon=0.5)\n",
        "  # Pull the arm and store the reward and next state information:\n",
        "  next_state, reward, done, info = env.step(arm)\n",
        "  # Increment the count of the arm by 1:\n",
        "  count[arm] += 1\n",
        "  # Update the sum of rewards of the arm:\n",
        "  sum_rewards[arm]+=reward\n",
        "  # Update the average reward of the arm:\n",
        "  Q[arm] = sum_rewards[arm]/count[arm]\n",
        "  \n",
        "# After all the rounds, we look at the average reward obtained from each of the arms:\n",
        "print(Q)    # The preceding code will print something like this: [0.xx 0.yy]\n",
        "\n",
        "# Now, we can select the optimal arm as the one that has the maximum average reward:\n",
        "print('The optimal arm is arm {}'.format(np.argmax(Q)+1))"
      ],
      "execution_count": null,
      "outputs": [
        {
          "output_type": "stream",
          "text": [
            "[0.81012658 0.0952381 ]\n",
            "The optimal arm is arm 1\n"
          ],
          "name": "stdout"
        }
      ]
    },
    {
      "cell_type": "code",
      "metadata": {
        "id": "tChBKAL2rz1c",
        "colab": {
          "base_uri": "https://localhost:8080/"
        },
        "outputId": "126e7606-3321-4b4b-df3c-e45a34a54512"
      },
      "source": [
        "# First, let's initialize the variables.\n",
        "# Initialize the count for storing the number of times an arm is pulled:\n",
        "count = np.zeros(2)\n",
        "# Initialize sum_rewards for storing the sum of rewards of each arm:\n",
        "sum_rewards = np.zeros(2)\n",
        "# Initialize Q for storing the average reward of each arm:\n",
        "Q = np.zeros(2)\n",
        "# Set the number of rounds (iterations):\n",
        "num_rounds = 100\n",
        "\n",
        "# Now, we define the softmax function with the temperature T:\n",
        "def softmax(T):\n",
        "  # Compute the probability of each arm based on the temperature equation:\n",
        "  denom = sum([np.exp(i/T) for i in Q])\n",
        "  probs = [np.exp(i/T)/denom for i in Q]\n",
        "  # Select the arm based on the computed probability distribution of arms:\n",
        "  arm = np.random.choice(env.action_space.n, p=probs)  \n",
        "  return arm\n",
        "\n",
        "# Now, let's play the game and try to find the best arm using the softmax exploration method.\n",
        "# Let's begin by setting the temperature T to a high number, say, 50:\n",
        "T = 50\n",
        "# For each round:\n",
        "for i in range(num_rounds):\n",
        "  # Select the arm based on the softmax exploration method:\n",
        "  arm = softmax(T)\n",
        "  # Pull the arm and store the reward and next state information:\n",
        "  next_state, reward, done, info = env.step(arm)\n",
        "  # Increment the count of the arm by 1:\n",
        "  count[arm] += 1\n",
        "  # Update the sum of rewards of the arm:\n",
        "  sum_rewards[arm]+=reward\n",
        "  # Update the average reward of the arm:\n",
        "  Q[arm] = sum_rewards[arm]/count[arm]\n",
        "  # Reduce the temperature T:\n",
        "  T = T*0.99\n",
        "\n",
        "# After all the rounds, we check the Q value, that is, the average reward of all the arms:\n",
        "print(Q)    # The preceding code will print something like this: [0.xx 0.yy]\n",
        "\n",
        "# Now, we can select the optimal arm as the one that has the maximum average reward:\n",
        "print('The optimal arm is arm {}'.format(np.argmax(Q)+1))"
      ],
      "execution_count": null,
      "outputs": [
        {
          "output_type": "stream",
          "text": [
            "[0.73214286 0.11363636]\n",
            "The optimal arm is arm 1\n"
          ],
          "name": "stdout"
        }
      ]
    },
    {
      "cell_type": "code",
      "metadata": {
        "id": "ICezyy2tvH0r",
        "colab": {
          "base_uri": "https://localhost:8080/"
        },
        "outputId": "3de6dbf8-ae97-45b9-efa9-3e4eb5d0d6d3"
      },
      "source": [
        "# First, let's initialize the variables.\n",
        "# Initialize the count for storing the number of times an arm is pulled:\n",
        "count = np.zeros(2)\n",
        "# Initialize sum_rewards for storing the sum of rewards of each arm:\n",
        "sum_rewards = np.zeros(2)\n",
        "# Initialize Q for storing the average reward of each arm:\n",
        "Q = np.zeros(2)\n",
        "# Set the number of rounds (iterations):\n",
        "num_rounds = 100\n",
        "\n",
        "# Now, we define the UCB function, which returns the best arm as the \n",
        "# one that has the highest UCB:\n",
        "def UCB(i):\n",
        "  # Initialize the numpy array for storing the UCB of all the arms:\n",
        "  ucb = np.zeros(2)\n",
        "  # Before computing the UCB, we explore all the arms at least once, so for the \n",
        "  # first 2 rounds, we directly select the arm corresponding to the round number:\n",
        "  if i < 2:\n",
        "    return i\n",
        "  # If the round is greater than 2, then we compute the UCB of all the arms as \n",
        "  # specified in the UCB equation and return the arm that has the highest UCB:\n",
        "  else:\n",
        "    for arm in range(2):\n",
        "      ucb[arm] = Q[arm] + np.sqrt((2*np.log(sum(count))) / count[arm])\n",
        "  return (np.argmax(ucb))\n",
        "\n",
        "# Now, let's play the game and try to find the best arm using the UCB method.\n",
        "# For each round:\n",
        "for i in range(num_rounds):\n",
        "  # Select the arm based on the UCB method:\n",
        "  arm = UCB(i)\n",
        "  # Pull the arm and store the reward and next state information:\n",
        "  next_state, reward, done, info = env.step(arm)\n",
        "  # Increment the count of the arm by 1:\n",
        "  count[arm] += 1\n",
        "  # Update the sum of rewards of the arm:\n",
        "  sum_rewards[arm]+=reward\n",
        "  # Update the average reward of the arm:\n",
        "  Q[arm] = sum_rewards[arm]/count[arm]\n",
        "\n",
        "# Now, we can select the optimal arm as the one that has the maximum average reward:\n",
        "print('The optimal arm is arm {}'.format(np.argmax(Q)+1))"
      ],
      "execution_count": null,
      "outputs": [
        {
          "output_type": "stream",
          "text": [
            "The optimal arm is arm 1\n"
          ],
          "name": "stdout"
        }
      ]
    },
    {
      "cell_type": "code",
      "metadata": {
        "id": "KGvGGpl5zATM",
        "colab": {
          "base_uri": "https://localhost:8080/"
        },
        "outputId": "9d75d71b-ce77-480b-f767-d361579d4387"
      },
      "source": [
        "# First, let's initialize the variables.\n",
        "# Initialize the count for storing the number of times an arm is pulled:\n",
        "count = np.zeros(2)\n",
        "# Initialize sum_rewards for storing the sum of rewards of each arm:\n",
        "sum_rewards = np.zeros(2)\n",
        "# Initialize Q for storing the average reward of each arm:\n",
        "Q = np.zeros(2)\n",
        "# Initialize the alpha value as 1 for both arms:\n",
        "alpha = np.ones(2)\n",
        "# Initialize the beta value as 1 for both arms:\n",
        "beta = np.ones(2)\n",
        "# Set the number of rounds (iterations):\n",
        "num_rounds = 100\n",
        "\n",
        "# Now, let's define the thompson_sampling function\n",
        "def thompson_sampling(alpha,beta):\n",
        "  \"\"\"we randomly sample values from the beta distributions of both arms and \n",
        "  return the arm that has the maximum sampled value\"\"\"\n",
        "  samples = [np.random.beta(alpha[i]+1,beta[i]+1) for i in range(2)]\n",
        "  return np.argmax(samples)\n",
        "\n",
        "# Now, let's play the game and try to find the best arm using the Thompson sampling method.\n",
        "# For each round:\n",
        "for i in range(num_rounds):\n",
        "  # Select the arm based on the Thompson sampling method:\n",
        "  arm = thompson_sampling(alpha,beta)\n",
        "  # Pull the arm and store the reward and next state information:\n",
        "  next_state, reward, done, info = env.step(arm) \n",
        "  # Increment the count of the arm by 1:\n",
        "  count[arm] += 1\n",
        "  # Update the sum of rewards of the arm:\n",
        "  sum_rewards[arm]+=reward\n",
        "  # Update the average reward of the arm:\n",
        "  Q[arm] = sum_rewards[arm]/count[arm]\n",
        "  # If we win the game, that is, if the reward is equal to 1, then we update \n",
        "  # the value of alpha to alpha+1, else we update the value of beta to beta+1:\n",
        "  if reward==1:\n",
        "    alpha[arm] = alpha[arm] + 1\n",
        "  else:\n",
        "    beta[arm] = beta[arm] + 1\n",
        "\n",
        "# After all the rounds, we can select the optimal arm as the one that has the highest average reward:\n",
        "print('The optimal arm is arm {}'.format(np.argmax(Q)+1))"
      ],
      "execution_count": null,
      "outputs": [
        {
          "output_type": "stream",
          "text": [
            "The optimal arm is arm 1\n"
          ],
          "name": "stdout"
        }
      ]
    },
    {
      "cell_type": "code",
      "metadata": {
        "id": "4USecQPc-SEg",
        "colab": {
          "base_uri": "https://localhost:8080/"
        },
        "outputId": "c78f7115-f16f-4f24-9714-ed06c74c4756"
      },
      "source": [
        "# Creating a dataset\n",
        "# We generate a dataset with five columns denoting the five advertisement banners, \n",
        "# where the values in the rows will be either 0 or 1, indicating whether the \n",
        "# advertisement banner has been clicked (1) or not clicked (0) by the user:\n",
        "df = pd.DataFrame()\n",
        "for i in range(5):\n",
        "  df['Banner_type_'+str(i)] = np.random.randint(0,2,100000)\n",
        "\n",
        "# Now, let's initialize some of the important variables.\n",
        "# Set the number of iterations:\n",
        "num_iterations = 100000\n",
        "# Define the number of banners:\n",
        "num_banner = 5\n",
        "# Initialize count for storing the number of times the banner was clicked:\n",
        "count = np.zeros(num_banner)\n",
        "# Initialize sum_rewards for storing the sum of rewards obtained from each banner:\n",
        "sum_rewards = np.zeros(num_banner)\n",
        "# Initialize Q for storing the mean reward of each banner:\n",
        "Q = np.zeros(num_banner)\n",
        "# Define a list for storing the selected banners:\n",
        "banner_selected = []\n",
        "\n",
        "# Now, let's define the epsilon-greedy method:\n",
        "def epsilon_greedy_policy(epsilon):\n",
        "  if np.random.uniform(0,1) < epsilon:\n",
        "    return np.random.choice(num_banner)\n",
        "  else:\n",
        "    return np.argmax(Q)\n",
        "\n",
        "# Now, we run the epsilon-greedy policy to find out which advertisement banner is the best.\n",
        "# For each iteration:\n",
        "for i in range(num_iterations):\n",
        "  # Select the banner using the epsilon-greedy policy:\n",
        "  banner = epsilon_greedy_policy(0.5)\n",
        "  # Get the reward of the banner:\n",
        "  reward = df.values[i, banner]\n",
        "  # Increment the counter:\n",
        "  count[banner] += 1\n",
        "  # Store the sum of rewards:\n",
        "  sum_rewards[banner]+=reward\n",
        "  # Compute the average reward:\n",
        "  Q[banner] = sum_rewards[banner]/count[banner]\n",
        "  # Store the banner to the banner selected list:\n",
        "  banner_selected.append(banner)\n",
        "\n",
        "# After all the rounds, we can select the best banner as the one that has the maximum average reward:\n",
        "print( 'The best banner is banner {}'.format(np.argmax(Q)))"
      ],
      "execution_count": null,
      "outputs": [
        {
          "output_type": "stream",
          "text": [
            "The best banner is banner 0\n"
          ],
          "name": "stdout"
        }
      ]
    },
    {
      "cell_type": "code",
      "metadata": {
        "id": "XGxceCn-8ths",
        "colab": {
          "base_uri": "https://localhost:8080/",
          "height": 282
        },
        "outputId": "48733be4-4638-4eb4-c892-6a1ede311dbc"
      },
      "source": [
        "# We can also plot and see which banner is selected the most often:\n",
        "ax = sns.countplot(banner_selected)\n",
        "ax.set(xlabel='Banner', ylabel='Count')\n",
        "plt.show()"
      ],
      "execution_count": null,
      "outputs": [
        {
          "output_type": "display_data",
          "data": {
            "image/png": "[encoded data removed]",
            "text/plain": [
              "<Figure size 432x288 with 1 Axes>"
            ]
          },
          "metadata": {
            "tags": []
          }
        }
      ]
    }
  ]
}