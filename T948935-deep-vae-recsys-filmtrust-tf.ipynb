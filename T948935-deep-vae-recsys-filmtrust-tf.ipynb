{
 "cells": [
  {
   "cell_type": "markdown",
   "metadata": {},
   "source": [
    "<a href=\"https://colab.research.google.com/github/RecoHut-Projects/recohut/blob/master/tutorials/modeling/T948935_deep_vae_recsys_filmtrust_tf.ipynb\" target=\"_parent\"><img src=\"https://colab.research.google.com/assets/colab-badge.svg\" alt=\"Open In Colab\"/></a>"
   ]
  },
  {
   "cell_type": "markdown",
   "metadata": {},
   "source": [
    "# Deep Variational Models on FilmTrust Dataset in Tensorflow"
   ]
  },
  {
   "cell_type": "markdown",
   "metadata": {},
   "source": [
    "<img src='https://github.com/RecoHut-Stanzas/S394070/raw/main/images/flow.svg'>"
   ]
  },
  {
   "cell_type": "markdown",
   "metadata": {},
   "source": [
    "## **Step 1 - Setup the environment**"
   ]
  },
  {
   "cell_type": "markdown",
   "metadata": {},
   "source": [
    "### **1.1 Install libraries**"
   ]
  },
  {
   "cell_type": "code",
   "execution_count": null,
   "metadata": {},
   "outputs": [
    {
     "name": "stdout",
     "output_type": "stream",
     "text": [
      "  Building wheel for recohut (setup.py) ... \u001b[?25l\u001b[?25hdone\n"
     ]
    }
   ],
   "source": [
    "!pip install -q -U git+https://github.com/RecoHut-Projects/recohut.git -b v0.0.2"
   ]
  },
  {
   "cell_type": "markdown",
   "metadata": {},
   "source": [
    "### **1.2 Download datasets**"
   ]
  },
  {
   "cell_type": "code",
   "execution_count": null,
   "metadata": {},
   "outputs": [
    {
     "name": "stdout",
     "output_type": "stream",
     "text": [
      "\rft.csv                0%[                    ]       0  --.-KB/s               \rft.csv              100%[===================>] 452.87K  --.-KB/s    in 0.03s   \n"
     ]
    }
   ],
   "source": [
    "!wget -q --show-progress https://github.com/RecoHut-Datasets/filmtrust/raw/v1/ft.csv\n",
    "# !wget -q --show-progress https://github.com/RecoHut-Datasets/movielens_1m/raw/v3/ml1m.csv\n",
    "# !wget -q --show-progress https://github.com/RecoHut-Datasets/myanimelist/raw/v1/anime.zip"
   ]
  },
  {
   "cell_type": "markdown",
   "metadata": {},
   "source": [
    "### **1.3 Import libraries**"
   ]
  },
  {
   "cell_type": "code",
   "execution_count": null,
   "metadata": {},
   "outputs": [],
   "source": [
    "import pandas as pd\n",
    "import numpy as np\n",
    "import matplotlib.pyplot as plt\n",
    "\n",
    "import tensorflow as tf\n",
    "from tensorflow.keras.optimizers import Adam\n",
    "\n",
    "from sklearn.model_selection import train_test_split\n",
    "from sklearn.metrics import precision_score, recall_score, ndcg_score\n",
    "from sklearn.metrics import mean_absolute_error, mean_squared_error, r2_score"
   ]
  },
  {
   "cell_type": "code",
   "execution_count": null,
   "metadata": {},
   "outputs": [],
   "source": [
    "# models\n",
    "from recohut.models.tf.deepmf import DeepMF\n",
    "from recohut.models.tf.ncf import NCF\n",
    "from recohut.models.tf.vdeepmf import VDeepMF\n",
    "from recohut.models.tf.vncf import VNCF\n",
    "\n",
    "# metrics\n",
    "from recohut.metrics.utils import calculate_precision_recall\n",
    "from recohut.metrics.utils import calculate_ndcg"
   ]
  },
  {
   "cell_type": "markdown",
   "metadata": {},
   "source": [
    "### **1.4 Set params**"
   ]
  },
  {
   "cell_type": "code",
   "execution_count": null,
   "metadata": {},
   "outputs": [],
   "source": [
    "class Args:\n",
    "    def __init__(self, dataset):\n",
    "        self.dataset = dataset\n",
    "        if dataset == 'ml1m':\n",
    "            self.latent_dim = 5\n",
    "            self.like_threshold = 4\n",
    "            self.steps_per_epoch = None\n",
    "            self.deepmf_epochs = 10\n",
    "            self.ncf_epochs = 10\n",
    "            self.vdeepmf_epochs = 6\n",
    "            self.vncf_epochs = 9\n",
    "        elif dataset == 'ft':\n",
    "            self.latent_dim = 5\n",
    "            self.like_threshold = 3\n",
    "            self.steps_per_epoch = None\n",
    "            self.deepmf_epochs = 15\n",
    "            self.ncf_epochs = 8\n",
    "            self.vdeepmf_epochs = 10\n",
    "            self.vncf_epochs = 6\n",
    "        elif dataset == 'anime':\n",
    "            self.latent_dim = 7\n",
    "            self.like_threshold = 8\n",
    "            self.steps_per_epoch = None\n",
    "            self.deepmf_epochs = 20\n",
    "            self.ncf_epochs = 15\n",
    "            self.vdeepmf_epochs = 9\n",
    "            self.vncf_epochs = 9"
   ]
  },
  {
   "cell_type": "code",
   "execution_count": null,
   "metadata": {},
   "outputs": [],
   "source": [
    "args = Args(dataset='ft')"
   ]
  },
  {
   "cell_type": "markdown",
   "metadata": {},
   "source": [
    "## **Step 2 - Data preparation**"
   ]
  },
  {
   "cell_type": "code",
   "execution_count": null,
   "metadata": {},
   "outputs": [],
   "source": [
    "df = pd.read_csv(args.dataset+'.csv', delimiter = ',')\n",
    "\n",
    "num_users = df.user.max() + 1\n",
    "num_items = df.item.max() + 1\n",
    "\n",
    "X = df[['user', 'item']].to_numpy()\n",
    "y = df[['rating']].to_numpy()"
   ]
  },
  {
   "cell_type": "code",
   "execution_count": null,
   "metadata": {},
   "outputs": [],
   "source": [
    "X_train, X_test, y_train, y_test = train_test_split(X, y, test_size=0.20, random_state=42)\n",
    "\n",
    "X_train = [X_train[:,0], X_train[:,1]]\n",
    "X_test = [X_test[:,0], X_test[:,1]]"
   ]
  },
  {
   "cell_type": "markdown",
   "metadata": {},
   "source": [
    "## **Step 3 - Model training**"
   ]
  },
  {
   "cell_type": "markdown",
   "metadata": {},
   "source": [
    "### **3.1 DeepMF**"
   ]
  },
  {
   "cell_type": "code",
   "execution_count": null,
   "metadata": {},
   "outputs": [
    {
     "name": "stdout",
     "output_type": "stream",
     "text": [
      "Model: \"model\"\n",
      "__________________________________________________________________________________________________\n",
      " Layer (type)                   Output Shape         Param #     Connected to                     \n",
      "==================================================================================================\n",
      " input_2 (InputLayer)           [(None, 1)]          0           []                               \n",
      "                                                                                                  \n",
      " input_1 (InputLayer)           [(None, 1)]          0           []                               \n",
      "                                                                                                  \n",
      " embedding_1 (Embedding)        (None, 1, 5)         10355       ['input_2[0][0]']                \n",
      "                                                                                                  \n",
      " embedding (Embedding)          (None, 1, 5)         7540        ['input_1[0][0]']                \n",
      "                                                                                                  \n",
      " flatten_1 (Flatten)            (None, 5)            0           ['embedding_1[0][0]']            \n",
      "                                                                                                  \n",
      " flatten (Flatten)              (None, 5)            0           ['embedding[0][0]']              \n",
      "                                                                                                  \n",
      " dot (Dot)                      (None, 1)            0           ['flatten_1[0][0]',              \n",
      "                                                                  'flatten[0][0]']                \n",
      "                                                                                                  \n",
      "==================================================================================================\n",
      "Total params: 17,895\n",
      "Trainable params: 17,895\n",
      "Non-trainable params: 0\n",
      "__________________________________________________________________________________________________\n",
      "Epoch 1/15\n",
      "888/888 [==============================] - 3s 3ms/step - loss: 9.5120 - mae: 2.9427 - val_loss: 8.3039 - val_mae: 2.7232\n",
      "Epoch 2/15\n",
      "888/888 [==============================] - 2s 2ms/step - loss: 5.7311 - mae: 2.1554 - val_loss: 3.8159 - val_mae: 1.6479\n",
      "Epoch 3/15\n",
      "888/888 [==============================] - 2s 2ms/step - loss: 2.8927 - mae: 1.3341 - val_loss: 2.5449 - val_mae: 1.2007\n",
      "Epoch 4/15\n",
      "888/888 [==============================] - 2s 2ms/step - loss: 2.1761 - mae: 1.0857 - val_loss: 2.1558 - val_mae: 1.0754\n",
      "Epoch 5/15\n",
      "888/888 [==============================] - 2s 2ms/step - loss: 1.8454 - mae: 0.9863 - val_loss: 1.9254 - val_mae: 1.0052\n",
      "Epoch 6/15\n",
      "888/888 [==============================] - 2s 2ms/step - loss: 1.6221 - mae: 0.9234 - val_loss: 1.7691 - val_mae: 0.9611\n",
      "Epoch 7/15\n",
      "888/888 [==============================] - 2s 2ms/step - loss: 1.4562 - mae: 0.8774 - val_loss: 1.6526 - val_mae: 0.9286\n",
      "Epoch 8/15\n",
      "888/888 [==============================] - 2s 2ms/step - loss: 1.3245 - mae: 0.8408 - val_loss: 1.5592 - val_mae: 0.9004\n",
      "Epoch 9/15\n",
      "888/888 [==============================] - 2s 2ms/step - loss: 1.2178 - mae: 0.8095 - val_loss: 1.4836 - val_mae: 0.8792\n",
      "Epoch 10/15\n",
      "888/888 [==============================] - 2s 2ms/step - loss: 1.1272 - mae: 0.7840 - val_loss: 1.4181 - val_mae: 0.8588\n",
      "Epoch 11/15\n",
      "888/888 [==============================] - 2s 2ms/step - loss: 1.0489 - mae: 0.7605 - val_loss: 1.3605 - val_mae: 0.8412\n",
      "Epoch 12/15\n",
      "888/888 [==============================] - 2s 2ms/step - loss: 0.9813 - mae: 0.7385 - val_loss: 1.3100 - val_mae: 0.8256\n",
      "Epoch 13/15\n",
      "888/888 [==============================] - 2s 2ms/step - loss: 0.9222 - mae: 0.7194 - val_loss: 1.2666 - val_mae: 0.8120\n",
      "Epoch 14/15\n",
      "888/888 [==============================] - 2s 2ms/step - loss: 0.8700 - mae: 0.7009 - val_loss: 1.2317 - val_mae: 0.8009\n",
      "Epoch 15/15\n",
      "888/888 [==============================] - 2s 2ms/step - loss: 0.8246 - mae: 0.6846 - val_loss: 1.1980 - val_mae: 0.7897\n"
     ]
    }
   ],
   "source": [
    "model = DeepMF(num_users=num_users, num_items=num_items, latent_dim=args.latent_dim)\n",
    "deepmf = model.build()\n",
    "\n",
    "deepmf.compile(optimizer='adam', metrics=['mae'], loss='mean_squared_error')\n",
    "deepmf.summary()\n",
    "\n",
    "deepmf_report = deepmf.fit(X_train, y_train, validation_data=(X_test, y_test), epochs=args.deepmf_epochs, steps_per_epoch=args.steps_per_epoch, verbose=1)"
   ]
  },
  {
   "cell_type": "markdown",
   "metadata": {},
   "source": [
    "### **3.2 NCF**"
   ]
  },
  {
   "cell_type": "code",
   "execution_count": null,
   "metadata": {},
   "outputs": [
    {
     "name": "stdout",
     "output_type": "stream",
     "text": [
      "Model: \"model_1\"\n",
      "__________________________________________________________________________________________________\n",
      " Layer (type)                   Output Shape         Param #     Connected to                     \n",
      "==================================================================================================\n",
      " item-input (InputLayer)        [(None, 1)]          0           []                               \n",
      "                                                                                                  \n",
      " user-input (InputLayer)        [(None, 1)]          0           []                               \n",
      "                                                                                                  \n",
      " item-embedding (Embedding)     (None, 1, 5)         10355       ['item-input[0][0]']             \n",
      "                                                                                                  \n",
      " user-embedding (Embedding)     (None, 1, 5)         7540        ['user-input[0][0]']             \n",
      "                                                                                                  \n",
      " item-flatten (Flatten)         (None, 5)            0           ['item-embedding[0][0]']         \n",
      "                                                                                                  \n",
      " user-flatten (Flatten)         (None, 5)            0           ['user-embedding[0][0]']         \n",
      "                                                                                                  \n",
      " item-user-concat (Concatenate)  (None, 10)          0           ['item-flatten[0][0]',           \n",
      "                                                                  'user-flatten[0][0]']           \n",
      "                                                                                                  \n",
      " fc-1 (Dense)                   (None, 70)           770         ['item-user-concat[0][0]']       \n",
      "                                                                                                  \n",
      " fc-1-dropout (Dropout)         (None, 70)           0           ['fc-1[0][0]']                   \n",
      "                                                                                                  \n",
      " fc-2 (Dense)                   (None, 30)           2130        ['fc-1-dropout[0][0]']           \n",
      "                                                                                                  \n",
      " fc-2-dropout (Dropout)         (None, 30)           0           ['fc-2[0][0]']                   \n",
      "                                                                                                  \n",
      " fc-3 (Dense)                   (None, 1)            31          ['fc-2-dropout[0][0]']           \n",
      "                                                                                                  \n",
      "==================================================================================================\n",
      "Total params: 20,826\n",
      "Trainable params: 20,826\n",
      "Non-trainable params: 0\n",
      "__________________________________________________________________________________________________\n",
      "Epoch 1/8\n",
      "888/888 [==============================] - 3s 3ms/step - loss: 1.6839 - mae: 1.0163 - val_loss: 0.7037 - val_mae: 0.6736\n",
      "Epoch 2/8\n",
      "888/888 [==============================] - 3s 3ms/step - loss: 0.9990 - mae: 0.8039 - val_loss: 0.6873 - val_mae: 0.6635\n",
      "Epoch 3/8\n",
      "888/888 [==============================] - 5s 6ms/step - loss: 0.8682 - mae: 0.7460 - val_loss: 0.6816 - val_mae: 0.6514\n",
      "Epoch 4/8\n",
      "888/888 [==============================] - 5s 5ms/step - loss: 0.7790 - mae: 0.7036 - val_loss: 0.6695 - val_mae: 0.6364\n",
      "Epoch 5/8\n",
      "888/888 [==============================] - 5s 5ms/step - loss: 0.7176 - mae: 0.6736 - val_loss: 0.6724 - val_mae: 0.6360\n",
      "Epoch 6/8\n",
      "888/888 [==============================] - 5s 5ms/step - loss: 0.6725 - mae: 0.6477 - val_loss: 0.6705 - val_mae: 0.6323\n",
      "Epoch 7/8\n",
      "888/888 [==============================] - 5s 6ms/step - loss: 0.6365 - mae: 0.6288 - val_loss: 0.6669 - val_mae: 0.6298\n",
      "Epoch 8/8\n",
      "888/888 [==============================] - 2s 3ms/step - loss: 0.6043 - mae: 0.6099 - val_loss: 0.6708 - val_mae: 0.6268\n"
     ]
    }
   ],
   "source": [
    "model = NCF(num_users=num_users, num_items=num_items, latent_dim=args.latent_dim)\n",
    "ncf = model.build()\n",
    "\n",
    "ncf.compile(optimizer='adam', metrics=['mae'], loss='mean_squared_error')\n",
    "ncf.summary()\n",
    "\n",
    "ncf_report = ncf.fit(X_train, y_train, validation_data=(X_test, y_test), epochs=args.ncf_epochs, steps_per_epoch=args.steps_per_epoch, verbose=1)"
   ]
  },
  {
   "cell_type": "markdown",
   "metadata": {},
   "source": [
    "### **3.3 VDeepMF**"
   ]
  },
  {
   "cell_type": "code",
   "execution_count": null,
   "metadata": {},
   "outputs": [
    {
     "name": "stdout",
     "output_type": "stream",
     "text": [
      "Model: \"model_2\"\n",
      "__________________________________________________________________________________________________\n",
      " Layer (type)                   Output Shape         Param #     Connected to                     \n",
      "==================================================================================================\n",
      " input_4 (InputLayer)           [(None, 1)]          0           []                               \n",
      "                                                                                                  \n",
      " input_3 (InputLayer)           [(None, 1)]          0           []                               \n",
      "                                                                                                  \n",
      " embedding_3 (Embedding)        (None, 1, 5)         10355       ['input_4[0][0]']                \n",
      "                                                                                                  \n",
      " embedding_2 (Embedding)        (None, 1, 5)         7540        ['input_3[0][0]']                \n",
      "                                                                                                  \n",
      " dense_2 (Dense)                (None, 1, 5)         30          ['embedding_3[0][0]']            \n",
      "                                                                                                  \n",
      " dense_3 (Dense)                (None, 1, 5)         30          ['embedding_3[0][0]']            \n",
      "                                                                                                  \n",
      " dense (Dense)                  (None, 1, 5)         30          ['embedding_2[0][0]']            \n",
      "                                                                                                  \n",
      " dense_1 (Dense)                (None, 1, 5)         30          ['embedding_2[0][0]']            \n",
      "                                                                                                  \n",
      " lambda_1 (Lambda)              (None, 32, 5)        0           ['dense_2[0][0]',                \n",
      "                                                                  'dense_3[0][0]']                \n",
      "                                                                                                  \n",
      " lambda (Lambda)                (None, 32, 5)        0           ['dense[0][0]',                  \n",
      "                                                                  'dense_1[0][0]']                \n",
      "                                                                                                  \n",
      " flatten_3 (Flatten)            (None, 160)          0           ['lambda_1[0][0]']               \n",
      "                                                                                                  \n",
      " flatten_2 (Flatten)            (None, 160)          0           ['lambda[0][0]']                 \n",
      "                                                                                                  \n",
      " dot_1 (Dot)                    (None, 1)            0           ['flatten_3[0][0]',              \n",
      "                                                                  'flatten_2[0][0]']              \n",
      "                                                                                                  \n",
      "==================================================================================================\n",
      "Total params: 18,015\n",
      "Trainable params: 18,015\n",
      "Non-trainable params: 0\n",
      "__________________________________________________________________________________________________\n",
      "Epoch 1/10\n",
      "888/888 [==============================] - 4s 3ms/step - loss: 88.0928 - mae: 7.3834 - val_loss: 46.8337 - val_mae: 5.5533\n",
      "Epoch 2/10\n",
      "888/888 [==============================] - 2s 3ms/step - loss: 23.5566 - mae: 3.7573 - val_loss: 12.8846 - val_mae: 2.7580\n",
      "Epoch 3/10\n",
      "888/888 [==============================] - 3s 3ms/step - loss: 8.6522 - mae: 2.2582 - val_loss: 6.1506 - val_mae: 1.8607\n",
      "Epoch 4/10\n",
      "888/888 [==============================] - 3s 3ms/step - loss: 4.1566 - mae: 1.5447 - val_loss: 3.8107 - val_mae: 1.4777\n",
      "Epoch 5/10\n",
      "888/888 [==============================] - 3s 3ms/step - loss: 2.6825 - mae: 1.2364 - val_loss: 2.3646 - val_mae: 1.1375\n",
      "Epoch 6/10\n",
      "888/888 [==============================] - 3s 3ms/step - loss: 1.8176 - mae: 1.0316 - val_loss: 1.6572 - val_mae: 0.9628\n",
      "Epoch 7/10\n",
      "888/888 [==============================] - 3s 3ms/step - loss: 1.3145 - mae: 0.8760 - val_loss: 1.3800 - val_mae: 0.8752\n",
      "Epoch 8/10\n",
      "888/888 [==============================] - 3s 3ms/step - loss: 1.0723 - mae: 0.8003 - val_loss: 1.1979 - val_mae: 0.8214\n",
      "Epoch 9/10\n",
      "888/888 [==============================] - 3s 3ms/step - loss: 0.9183 - mae: 0.7427 - val_loss: 1.0933 - val_mae: 0.7916\n",
      "Epoch 10/10\n",
      "888/888 [==============================] - 3s 3ms/step - loss: 0.8144 - mae: 0.7022 - val_loss: 0.9705 - val_mae: 0.7280\n"
     ]
    }
   ],
   "source": [
    "args.batch_size = 32\n",
    "\n",
    "model = VDeepMF(num_users=num_users, num_items=num_items, latent_dim=args.latent_dim, batch_size=args.batch_size)\n",
    "vdeepmf = model.build()\n",
    "\n",
    "vdeepmf.compile(optimizer='adam', metrics=['mae'], loss='mean_squared_error')\n",
    "vdeepmf.summary()\n",
    "\n",
    "vdeepmf_report = vdeepmf.fit(X_train, y_train, validation_data=(X_test, y_test), epochs=args.vdeepmf_epochs, batch_size=args.batch_size, steps_per_epoch=args.steps_per_epoch, verbose=1)"
   ]
  },
  {
   "cell_type": "markdown",
   "metadata": {},
   "source": [
    "### **3.4 VNCF**"
   ]
  },
  {
   "cell_type": "code",
   "execution_count": null,
   "metadata": {},
   "outputs": [
    {
     "name": "stdout",
     "output_type": "stream",
     "text": [
      "Model: \"model_3\"\n",
      "__________________________________________________________________________________________________\n",
      " Layer (type)                   Output Shape         Param #     Connected to                     \n",
      "==================================================================================================\n",
      " input_6 (InputLayer)           [(None, 1)]          0           []                               \n",
      "                                                                                                  \n",
      " input_5 (InputLayer)           [(None, 1)]          0           []                               \n",
      "                                                                                                  \n",
      " embedding_5 (Embedding)        (None, 1, 5)         10360       ['input_6[0][0]']                \n",
      "                                                                                                  \n",
      " embedding_4 (Embedding)        (None, 1, 5)         7540        ['input_5[0][0]']                \n",
      "                                                                                                  \n",
      " dense_6 (Dense)                (None, 1, 5)         30          ['embedding_5[0][0]']            \n",
      "                                                                                                  \n",
      " dense_7 (Dense)                (None, 1, 5)         30          ['embedding_5[0][0]']            \n",
      "                                                                                                  \n",
      " dense_4 (Dense)                (None, 1, 5)         30          ['embedding_4[0][0]']            \n",
      "                                                                                                  \n",
      " dense_5 (Dense)                (None, 1, 5)         30          ['embedding_4[0][0]']            \n",
      "                                                                                                  \n",
      " lambda_3 (Lambda)              (None, 32, 5)        0           ['dense_6[0][0]',                \n",
      "                                                                  'dense_7[0][0]']                \n",
      "                                                                                                  \n",
      " lambda_2 (Lambda)              (None, 32, 5)        0           ['dense_4[0][0]',                \n",
      "                                                                  'dense_5[0][0]']                \n",
      "                                                                                                  \n",
      " flatten_5 (Flatten)            (None, 160)          0           ['lambda_3[0][0]']               \n",
      "                                                                                                  \n",
      " flatten_4 (Flatten)            (None, 160)          0           ['lambda_2[0][0]']               \n",
      "                                                                                                  \n",
      " concatenate (Concatenate)      (None, 320)          0           ['flatten_5[0][0]',              \n",
      "                                                                  'flatten_4[0][0]']              \n",
      "                                                                                                  \n",
      " fc-1 (Dense)                   (None, 80)           25680       ['concatenate[0][0]']            \n",
      "                                                                                                  \n",
      " fc-1-dropout (Dropout)         (None, 80)           0           ['fc-1[0][0]']                   \n",
      "                                                                                                  \n",
      " fc-2 (Dense)                   (None, 25)           2025        ['fc-1-dropout[0][0]']           \n",
      "                                                                                                  \n",
      " fc-2-dropout (Dropout)         (None, 25)           0           ['fc-2[0][0]']                   \n",
      "                                                                                                  \n",
      " fc-3 (Dense)                   (None, 1)            26          ['fc-2-dropout[0][0]']           \n",
      "                                                                                                  \n",
      "==================================================================================================\n",
      "Total params: 45,751\n",
      "Trainable params: 45,751\n",
      "Non-trainable params: 0\n",
      "__________________________________________________________________________________________________\n",
      "Epoch 1/6\n",
      "888/888 [==============================] - 5s 5ms/step - loss: 2.7687 - mae: 1.3415 - val_loss: 1.3699 - val_mae: 1.0204\n",
      "Epoch 2/6\n",
      "888/888 [==============================] - 4s 4ms/step - loss: 1.4417 - mae: 0.9796 - val_loss: 0.9102 - val_mae: 0.8045\n",
      "Epoch 3/6\n",
      "888/888 [==============================] - 4s 4ms/step - loss: 1.0590 - mae: 0.8335 - val_loss: 0.7652 - val_mae: 0.7152\n",
      "Epoch 4/6\n",
      "888/888 [==============================] - 4s 4ms/step - loss: 0.8601 - mae: 0.7465 - val_loss: 0.7448 - val_mae: 0.7023\n",
      "Epoch 5/6\n",
      "888/888 [==============================] - 4s 4ms/step - loss: 0.7760 - mae: 0.7057 - val_loss: 0.7145 - val_mae: 0.6760\n",
      "Epoch 6/6\n",
      "888/888 [==============================] - 3s 4ms/step - loss: 0.7260 - mae: 0.6802 - val_loss: 0.6993 - val_mae: 0.6601\n"
     ]
    }
   ],
   "source": [
    "model = VNCF(num_users=num_users, num_items=num_items, latent_dim=args.latent_dim, batch_size=args.batch_size)\n",
    "vncf = model.build()\n",
    "\n",
    "vncf.compile(optimizer='adam', metrics=['mae'], loss='mean_squared_error')\n",
    "vncf.summary()\n",
    "\n",
    "vncf_report = vncf.fit(X_train, y_train, validation_data=(X_test, y_test), epochs=args.vncf_epochs, batch_size=args.batch_size, steps_per_epoch=args.steps_per_epoch, verbose=1)"
   ]
  },
  {
   "cell_type": "markdown",
   "metadata": {},
   "source": [
    "## **Step 4 - Performance analysis**"
   ]
  },
  {
   "cell_type": "markdown",
   "metadata": {},
   "source": [
    "### **4.1 Model predictions**"
   ]
  },
  {
   "cell_type": "code",
   "execution_count": null,
   "metadata": {},
   "outputs": [],
   "source": [
    "methods = ['vdeepmf', 'deepmf', 'vncf', 'ncf']\n",
    "\n",
    "preds = pd.DataFrame()\n",
    "preds['user'] = X_test[0]\n",
    "preds['item'] = X_test[1]\n",
    "preds['y_test'] = y_test\n",
    "\n",
    "preds['deepmf'] = deepmf.predict(X_test)\n",
    "preds['ncf'] = ncf.predict(X_test)"
   ]
  },
  {
   "cell_type": "markdown",
   "metadata": {},
   "source": [
    "Due to the variational approachs of the proposed methods, the same model can generates different predictions for the same <user, item> input. To avoid this, we compute the predictions of the proposed models as the average of 10 repetitions of the same prediction."
   ]
  },
  {
   "cell_type": "code",
   "execution_count": null,
   "metadata": {},
   "outputs": [],
   "source": [
    "n_repeats = 10"
   ]
  },
  {
   "cell_type": "code",
   "execution_count": null,
   "metadata": {},
   "outputs": [],
   "source": [
    "predictions = None\n",
    "for i in range(n_repeats):\n",
    "    if i == 0:\n",
    "        predictions = vdeepmf.predict(X_test)\n",
    "    else:\n",
    "        predictions = np.append(predictions, vdeepmf.predict(X_test), axis=1)\n",
    "        \n",
    "preds['vdeepmf'] = np.mean(predictions, axis=1)\n",
    "predictions = None"
   ]
  },
  {
   "cell_type": "code",
   "execution_count": null,
   "metadata": {},
   "outputs": [],
   "source": [
    "for i in range(n_repeats):\n",
    "    if i == 0:\n",
    "        predictions = vncf.predict(X_test)\n",
    "    else:\n",
    "        predictions = np.append(predictions, vncf.predict(X_test), axis=1)\n",
    "\n",
    "preds['vncf'] = np.mean(predictions, axis=1)"
   ]
  },
  {
   "cell_type": "code",
   "execution_count": null,
   "metadata": {},
   "outputs": [
    {
     "data": {
      "text/html": [
       "\n",
       "  <div id=\"df-0f579382-175f-4c4e-b842-194e7e121682\">\n",
       "    <div class=\"colab-df-container\">\n",
       "      <div>\n",
       "<style scoped>\n",
       "    .dataframe tbody tr th:only-of-type {\n",
       "        vertical-align: middle;\n",
       "    }\n",
       "\n",
       "    .dataframe tbody tr th {\n",
       "        vertical-align: top;\n",
       "    }\n",
       "\n",
       "    .dataframe thead th {\n",
       "        text-align: right;\n",
       "    }\n",
       "</style>\n",
       "<table border=\"1\" class=\"dataframe\">\n",
       "  <thead>\n",
       "    <tr style=\"text-align: right;\">\n",
       "      <th></th>\n",
       "      <th>user</th>\n",
       "      <th>item</th>\n",
       "      <th>y_test</th>\n",
       "      <th>deepmf</th>\n",
       "      <th>ncf</th>\n",
       "      <th>vdeepmf</th>\n",
       "      <th>vncf</th>\n",
       "    </tr>\n",
       "  </thead>\n",
       "  <tbody>\n",
       "    <tr>\n",
       "      <th>0</th>\n",
       "      <td>1449</td>\n",
       "      <td>409</td>\n",
       "      <td>4.0</td>\n",
       "      <td>3.585115</td>\n",
       "      <td>3.452882</td>\n",
       "      <td>3.910805</td>\n",
       "      <td>3.475034</td>\n",
       "    </tr>\n",
       "    <tr>\n",
       "      <th>1</th>\n",
       "      <td>746</td>\n",
       "      <td>57</td>\n",
       "      <td>3.0</td>\n",
       "      <td>2.869904</td>\n",
       "      <td>2.893366</td>\n",
       "      <td>2.935991</td>\n",
       "      <td>2.745360</td>\n",
       "    </tr>\n",
       "    <tr>\n",
       "      <th>2</th>\n",
       "      <td>140</td>\n",
       "      <td>209</td>\n",
       "      <td>3.5</td>\n",
       "      <td>3.845387</td>\n",
       "      <td>4.344490</td>\n",
       "      <td>5.090329</td>\n",
       "      <td>4.072598</td>\n",
       "    </tr>\n",
       "    <tr>\n",
       "      <th>3</th>\n",
       "      <td>886</td>\n",
       "      <td>336</td>\n",
       "      <td>4.0</td>\n",
       "      <td>3.327215</td>\n",
       "      <td>3.167680</td>\n",
       "      <td>3.486177</td>\n",
       "      <td>3.016301</td>\n",
       "    </tr>\n",
       "    <tr>\n",
       "      <th>4</th>\n",
       "      <td>405</td>\n",
       "      <td>2056</td>\n",
       "      <td>3.5</td>\n",
       "      <td>0.033102</td>\n",
       "      <td>2.411602</td>\n",
       "      <td>1.244494</td>\n",
       "      <td>2.684775</td>\n",
       "    </tr>\n",
       "    <tr>\n",
       "      <th>...</th>\n",
       "      <td>...</td>\n",
       "      <td>...</td>\n",
       "      <td>...</td>\n",
       "      <td>...</td>\n",
       "      <td>...</td>\n",
       "      <td>...</td>\n",
       "      <td>...</td>\n",
       "    </tr>\n",
       "    <tr>\n",
       "      <th>7094</th>\n",
       "      <td>1336</td>\n",
       "      <td>52</td>\n",
       "      <td>3.5</td>\n",
       "      <td>3.312138</td>\n",
       "      <td>3.257679</td>\n",
       "      <td>3.585876</td>\n",
       "      <td>2.992380</td>\n",
       "    </tr>\n",
       "    <tr>\n",
       "      <th>7095</th>\n",
       "      <td>1236</td>\n",
       "      <td>409</td>\n",
       "      <td>0.5</td>\n",
       "      <td>1.947847</td>\n",
       "      <td>2.114114</td>\n",
       "      <td>2.317244</td>\n",
       "      <td>2.432944</td>\n",
       "    </tr>\n",
       "    <tr>\n",
       "      <th>7096</th>\n",
       "      <td>779</td>\n",
       "      <td>1389</td>\n",
       "      <td>4.0</td>\n",
       "      <td>0.039146</td>\n",
       "      <td>3.047288</td>\n",
       "      <td>1.042779</td>\n",
       "      <td>2.999924</td>\n",
       "    </tr>\n",
       "    <tr>\n",
       "      <th>7097</th>\n",
       "      <td>892</td>\n",
       "      <td>501</td>\n",
       "      <td>3.5</td>\n",
       "      <td>4.558677</td>\n",
       "      <td>2.809043</td>\n",
       "      <td>2.559556</td>\n",
       "      <td>2.632396</td>\n",
       "    </tr>\n",
       "    <tr>\n",
       "      <th>7098</th>\n",
       "      <td>200</td>\n",
       "      <td>480</td>\n",
       "      <td>2.5</td>\n",
       "      <td>3.242676</td>\n",
       "      <td>3.194965</td>\n",
       "      <td>3.388551</td>\n",
       "      <td>3.061818</td>\n",
       "    </tr>\n",
       "  </tbody>\n",
       "</table>\n",
       "<p>7099 rows × 7 columns</p>\n",
       "</div>\n",
       "      <button class=\"colab-df-convert\" onclick=\"convertToInteractive('df-0f579382-175f-4c4e-b842-194e7e121682')\"\n",
       "              title=\"Convert this dataframe to an interactive table.\"\n",
       "              style=\"display:none;\">\n",
       "        \n",
       "  <svg xmlns=\"http://www.w3.org/2000/svg\" height=\"24px\"viewBox=\"0 0 24 24\"\n",
       "       width=\"24px\">\n",
       "    <path d=\"M0 0h24v24H0V0z\" fill=\"none\"/>\n",
       "    <path d=\"M18.56 5.44l.94 2.06.94-2.06 2.06-.94-2.06-.94-.94-2.06-.94 2.06-2.06.94zm-11 1L8.5 8.5l.94-2.06 2.06-.94-2.06-.94L8.5 2.5l-.94 2.06-2.06.94zm10 10l.94 2.06.94-2.06 2.06-.94-2.06-.94-.94-2.06-.94 2.06-2.06.94z\"/><path d=\"M17.41 7.96l-1.37-1.37c-.4-.4-.92-.59-1.43-.59-.52 0-1.04.2-1.43.59L10.3 9.45l-7.72 7.72c-.78.78-.78 2.05 0 2.83L4 21.41c.39.39.9.59 1.41.59.51 0 1.02-.2 1.41-.59l7.78-7.78 2.81-2.81c.8-.78.8-2.07 0-2.86zM5.41 20L4 18.59l7.72-7.72 1.47 1.35L5.41 20z\"/>\n",
       "  </svg>\n",
       "      </button>\n",
       "      \n",
       "  <style>\n",
       "    .colab-df-container {\n",
       "      display:flex;\n",
       "      flex-wrap:wrap;\n",
       "      gap: 12px;\n",
       "    }\n",
       "\n",
       "    .colab-df-convert {\n",
       "      background-color: #E8F0FE;\n",
       "      border: none;\n",
       "      border-radius: 50%;\n",
       "      cursor: pointer;\n",
       "      display: none;\n",
       "      fill: #1967D2;\n",
       "      height: 32px;\n",
       "      padding: 0 0 0 0;\n",
       "      width: 32px;\n",
       "    }\n",
       "\n",
       "    .colab-df-convert:hover {\n",
       "      background-color: #E2EBFA;\n",
       "      box-shadow: 0px 1px 2px rgba(60, 64, 67, 0.3), 0px 1px 3px 1px rgba(60, 64, 67, 0.15);\n",
       "      fill: #174EA6;\n",
       "    }\n",
       "\n",
       "    [theme=dark] .colab-df-convert {\n",
       "      background-color: #3B4455;\n",
       "      fill: #D2E3FC;\n",
       "    }\n",
       "\n",
       "    [theme=dark] .colab-df-convert:hover {\n",
       "      background-color: #434B5C;\n",
       "      box-shadow: 0px 1px 3px 1px rgba(0, 0, 0, 0.15);\n",
       "      filter: drop-shadow(0px 1px 2px rgba(0, 0, 0, 0.3));\n",
       "      fill: #FFFFFF;\n",
       "    }\n",
       "  </style>\n",
       "\n",
       "      <script>\n",
       "        const buttonEl =\n",
       "          document.querySelector('#df-0f579382-175f-4c4e-b842-194e7e121682 button.colab-df-convert');\n",
       "        buttonEl.style.display =\n",
       "          google.colab.kernel.accessAllowed ? 'block' : 'none';\n",
       "\n",
       "        async function convertToInteractive(key) {\n",
       "          const element = document.querySelector('#df-0f579382-175f-4c4e-b842-194e7e121682');\n",
       "          const dataTable =\n",
       "            await google.colab.kernel.invokeFunction('convertToInteractive',\n",
       "                                                     [key], {});\n",
       "          if (!dataTable) return;\n",
       "\n",
       "          const docLinkHtml = 'Like what you see? Visit the ' +\n",
       "            '<a target=\"_blank\" href=https://colab.research.google.com/notebooks/data_table.ipynb>data table notebook</a>'\n",
       "            + ' to learn more about interactive tables.';\n",
       "          element.innerHTML = '';\n",
       "          dataTable['output_type'] = 'display_data';\n",
       "          await google.colab.output.renderOutput(dataTable, element);\n",
       "          const docLink = document.createElement('div');\n",
       "          docLink.innerHTML = docLinkHtml;\n",
       "          element.appendChild(docLink);\n",
       "        }\n",
       "      </script>\n",
       "    </div>\n",
       "  </div>\n",
       "  "
      ],
      "text/plain": [
       "      user  item  y_test    deepmf       ncf   vdeepmf      vncf\n",
       "0     1449   409     4.0  3.585115  3.452882  3.910805  3.475034\n",
       "1      746    57     3.0  2.869904  2.893366  2.935991  2.745360\n",
       "2      140   209     3.5  3.845387  4.344490  5.090329  4.072598\n",
       "3      886   336     4.0  3.327215  3.167680  3.486177  3.016301\n",
       "4      405  2056     3.5  0.033102  2.411602  1.244494  2.684775\n",
       "...    ...   ...     ...       ...       ...       ...       ...\n",
       "7094  1336    52     3.5  3.312138  3.257679  3.585876  2.992380\n",
       "7095  1236   409     0.5  1.947847  2.114114  2.317244  2.432944\n",
       "7096   779  1389     4.0  0.039146  3.047288  1.042779  2.999924\n",
       "7097   892   501     3.5  4.558677  2.809043  2.559556  2.632396\n",
       "7098   200   480     2.5  3.242676  3.194965  3.388551  3.061818\n",
       "\n",
       "[7099 rows x 7 columns]"
      ]
     },
     "execution_count": null,
     "metadata": {},
     "output_type": "execute_result"
    }
   ],
   "source": [
    "preds"
   ]
  },
  {
   "cell_type": "markdown",
   "metadata": {},
   "source": [
    "### **4.2 Quality of predictions**"
   ]
  },
  {
   "cell_type": "code",
   "execution_count": null,
   "metadata": {},
   "outputs": [
    {
     "name": "stdout",
     "output_type": "stream",
     "text": [
      "MAE:\n",
      "- vdeepmf : 0.6730125203533465\n",
      "- deepmf : 0.7896846466366714\n",
      "- vncf : 0.656912794246155\n",
      "- ncf : 0.6267723499477573\n",
      "MSD:\n",
      "- vdeepmf : 0.806401564188684\n",
      "- deepmf : 1.1979961007026207\n",
      "- vncf : 0.6927344934450591\n",
      "- ncf : 0.6708308730932618\n",
      "R2:\n",
      "- vdeepmf : 0.05728776110514355\n",
      "- deepmf : -0.400500242601741\n",
      "- vncf : 0.1901686277948691\n",
      "- ncf : 0.21577474253811169\n"
     ]
    }
   ],
   "source": [
    "print('MAE:')\n",
    "for m in methods:\n",
    "    print('-', m, ':', mean_absolute_error(preds['y_test'], preds[m]))\n",
    "\n",
    "print('MSD:')\n",
    "for m in methods:\n",
    "    print('-', m, ':', mean_squared_error(preds['y_test'], preds[m]))\n",
    "\n",
    "print('R2:')\n",
    "for m in methods:\n",
    "    print('-', m, ':', r2_score(preds['y_test'], preds[m]))"
   ]
  },
  {
   "cell_type": "markdown",
   "metadata": {},
   "source": [
    "### **4.3 Quality of the recommendations**"
   ]
  },
  {
   "cell_type": "code",
   "execution_count": null,
   "metadata": {},
   "outputs": [],
   "source": [
    "num_recommendations = [2,3,4,5,6,7,8,9,10]"
   ]
  },
  {
   "cell_type": "code",
   "execution_count": null,
   "metadata": {},
   "outputs": [
    {
     "data": {
      "image/png": "[encoded data removed]",
      "text/plain": [
       "<Figure size 432x288 with 1 Axes>"
      ]
     },
     "metadata": {
      "needs_background": "light"
     },
     "output_type": "display_data"
    }
   ],
   "source": [
    "for m in methods:\n",
    "    precision = np.zeros(len(num_recommendations))\n",
    "    recall = np.zeros(len(num_recommendations))\n",
    "    \n",
    "    for i, n in enumerate(num_recommendations):\n",
    "        ids = preds[['user', 'item']].to_numpy()\n",
    "        y_true = preds['y_test'].to_numpy()\n",
    "        y_pred = preds[m].to_numpy()\n",
    "        precision[i], recall[i] = calculate_precision_recall(ids, y_true, y_pred, n, args.like_threshold) \n",
    "\n",
    "    c = 'blue' if 'deepmf' in m else 'red'\n",
    "    alpha = 1 if m[0] == 'v' else 0.6\n",
    "    ls = '-' if m[0] == 'v' else '--'\n",
    "        \n",
    "    plt.plot(recall, precision, c=c, ls=ls, alpha=alpha, label=m)\n",
    "\n",
    "    if m == 'vdeepmf':\n",
    "        for i,(r,p) in enumerate(zip(recall, precision)):\n",
    "            plt.annotate(num_recommendations[i], (r,p), textcoords=\"offset points\", xytext=(5,5), ha='center')\n",
    "    \n",
    "plt.xlabel('Recall', fontsize=15); \n",
    "plt.ylabel('Precision', fontsize=15)\n",
    "\n",
    "plt.xticks(fontsize=13)\n",
    "plt.yticks(fontsize=13)\n",
    "\n",
    "plt.legend(bbox_to_anchor=(0,1.02,1,0.2), fontsize=12, loc=\"lower left\", mode=\"expand\", borderaxespad=0, ncol=len(methods))\n",
    "\n",
    "plt.grid(True)\n",
    "\n",
    "ylim_min, ylim_max = plt.ylim()\n",
    "plt.ylim((ylim_min, ylim_max * 1.02))\n",
    "\n",
    "plt.show()"
   ]
  },
  {
   "cell_type": "code",
   "execution_count": null,
   "metadata": {},
   "outputs": [
    {
     "data": {
      "image/png": "[encoded data removed]",
      "text/plain": [
       "<Figure size 432x288 with 1 Axes>"
      ]
     },
     "metadata": {
      "needs_background": "light"
     },
     "output_type": "display_data"
    }
   ],
   "source": [
    "for m in methods:\n",
    "    ndcg = np.zeros(len(num_recommendations))\n",
    "    \n",
    "    for i, n in enumerate(num_recommendations):\n",
    "        ids = preds[['user', 'item']].to_numpy()\n",
    "        y_true = preds['y_test'].to_numpy()\n",
    "        y_pred = preds[m].to_numpy()\n",
    "        ndcg[i] = calculate_ndcg(ids, y_true, y_pred, n) \n",
    "        \n",
    "    c = 'blue' if 'deepmf' in m else 'red'\n",
    "    alpha = 1 if m[0] == 'v' else 0.6\n",
    "    ls = '-' if m[0] == 'v' else '--'\n",
    " \n",
    "    plt.plot(num_recommendations, ndcg, c=c, ls=ls, alpha=alpha, label=m)\n",
    "\n",
    "plt.xlabel('Number of recommendations', fontsize=15); \n",
    "plt.ylabel('NDCG', fontsize=15)\n",
    "\n",
    "plt.xticks(fontsize=13)\n",
    "plt.yticks(fontsize=13)\n",
    "\n",
    "plt.legend(bbox_to_anchor=(0,1.02,1,0.2), fontsize=12, loc=\"lower left\", mode=\"expand\", borderaxespad=0, ncol=len(methods))\n",
    "\n",
    "plt.grid(True)\n",
    "\n",
    "plt.show()"
   ]
  },
  {
   "cell_type": "markdown",
   "metadata": {},
   "source": [
    "---"
   ]
  },
  {
   "cell_type": "markdown",
   "metadata": {},
   "source": [
    "## **Closure**"
   ]
  },
  {
   "cell_type": "markdown",
   "metadata": {},
   "source": [
    "For more details, you can refer to https://github.com/RecoHut-Stanzas/S394070."
   ]
  },
  {
   "cell_type": "markdown",
   "metadata": {},
   "source": [
    "<a href=\"https://github.com/RecoHut-Stanzas/S394070/blob/main/reports/S394070_Report.ipynb\" alt=\"S394070_Report\"> <img src=\"https://img.shields.io/static/v1?label=report&message=active&color=green\" /></a> <a href=\"https://github.com/RecoHut-Stanzas/S394070\" alt=\"S394070\"> <img src=\"https://img.shields.io/static/v1?label=code&message=github&color=blue\" /></a>"
   ]
  },
  {
   "cell_type": "code",
   "execution_count": null,
   "metadata": {},
   "outputs": [
    {
     "name": "stdout",
     "output_type": "stream",
     "text": [
      "Author: Sparsh A.\n",
      "\n",
      "Last updated: 2021-12-19 04:25:12\n",
      "\n",
      "Compiler    : GCC 7.5.0\n",
      "OS          : Linux\n",
      "Release     : 5.4.104+\n",
      "Machine     : x86_64\n",
      "Processor   : x86_64\n",
      "CPU cores   : 2\n",
      "Architecture: 64bit\n",
      "\n",
      "pandas    : 1.1.5\n",
      "numpy     : 1.19.5\n",
      "matplotlib: 3.2.2\n",
      "tensorflow: 2.7.0\n",
      "IPython   : 5.5.0\n",
      "\n"
     ]
    }
   ],
   "source": [
    "!pip install -q watermark\n",
    "%reload_ext watermark\n",
    "%watermark -a \"Sparsh A.\" -m -iv -u -t -d"
   ]
  },
  {
   "cell_type": "markdown",
   "metadata": {},
   "source": [
    "---"
   ]
  },
  {
   "cell_type": "markdown",
   "metadata": {},
   "source": [
    "**END**"
   ]
  }
 ],
 "metadata": {
  "kernelspec": {
   "display_name": "Python 3",
   "name": "python3"
  }
 },
 "nbformat": 4,
 "nbformat_minor": 0
}
