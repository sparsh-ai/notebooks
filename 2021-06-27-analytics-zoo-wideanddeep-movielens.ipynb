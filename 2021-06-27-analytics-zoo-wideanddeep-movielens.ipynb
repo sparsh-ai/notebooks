{
  "nbformat": 4,
  "nbformat_minor": 0,
  "metadata": {
    "colab": {
      "name": "Copy of 2021-06-27-analytics-zoo-wideanddeep-movielens.ipynb",
      "provenance": [],
      "collapsed_sections": [],
      "authorship_tag": "ABX9TyPPN5hi0s77gM3k0R+0XYaF"
    },
    "kernelspec": {
      "name": "python3",
      "display_name": "Python 3"
    },
    "language_info": {
      "name": "python"
    }
  },
  "cells": [
    {
      "cell_type": "markdown",
      "metadata": {
        "id": "vWAyqrazbVkU"
      },
      "source": [
        "# Analytics Zoo Recommendation Part 3\n",
        "> Applying Wide&Deep on MovieLens using Analytics Zoo library\n",
        "\n",
        "- toc: true\n",
        "- badges: true\n",
        "- comments: true\n",
        "- categories: [movie, BigData, PySpark, AnalyticsZoo, Wide&Deep]\n",
        "- author: \"<a href='https://nbviewer.jupyter.org/github/intel-analytics/analytics-zoo/blob/master/apps/recommendation-wide-n-deep/wide_n_deep.ipynb'>Analytics Zoo</a>\"\n",
        "- image:"
      ]
    },
    {
      "cell_type": "markdown",
      "metadata": {
        "id": "5tJLYN9yYJxO"
      },
      "source": [
        "## Introduction"
      ]
    },
    {
      "cell_type": "markdown",
      "metadata": {
        "id": "f4e-a8D8YSXJ"
      },
      "source": [
        "Wide and Deep Learning Model, proposed by Google in 2016, is a DNN-Linear mixed model. Wide and deep learning has been used for Google App Store for their app recommendation.\n",
        "\n",
        "In this tutorial, we use Recommender API of Analytics Zoo to build a wide linear model and a deep neural network, which is called Wide&Deep model, and use optimizer of BigDL to train the neural network. Wide&Deep model combines the strength of memorization and generalization. It's useful for generic large-scale regression and classification problems with sparse input features (e.g., categorical features with a large number of possible feature values).\n",
        "\n",
        "Python interface:\n",
        "\n",
        "```python\n",
        "wide_and_deep = WideAndDeep(class_num, column_info, model_type=\"wide_n_deep\", hidden_layers=(40, 20, 10))\n",
        "```\n",
        "\n",
        "- `class_num`: The number of classes. Positive int.\n",
        "- `column_info`: An instance of ColumnFeatureInfo.\n",
        "- `model_type`: String. 'wide', 'deep' and 'wide_n_deep' are supported. Default is 'wide_n_deep'.\n",
        "- `hidden_layers`: Units of hidden layers for the deep model. Tuple of positive int. Default is (40, 20, 10)."
      ]
    },
    {
      "cell_type": "markdown",
      "metadata": {
        "id": "IPqTsm9pSckt"
      },
      "source": [
        "## Installation"
      ]
    },
    {
      "cell_type": "markdown",
      "metadata": {
        "id": "u5UkOC-3SuwP"
      },
      "source": [
        "### Install Java 8"
      ]
    },
    {
      "cell_type": "markdown",
      "metadata": {
        "id": "nY8_OcwpSyha"
      },
      "source": [
        "Run the command on the colaboratory file to install jdk 1.8"
      ]
    },
    {
      "cell_type": "code",
      "metadata": {
        "colab": {
          "base_uri": "https://localhost:8080/"
        },
        "id": "8oH5g_58SScM",
        "outputId": "3e9869fd-973c-49f4-81a1-e9ac91fa9417"
      },
      "source": [
        "# Install jdk8\n",
        "!apt-get install openjdk-8-jdk-headless -qq > /dev/null\n",
        "# Set jdk environment path which enables you to run Pyspark in your Colab environment.\n",
        "import os\n",
        "os.environ[\"JAVA_HOME\"] = \"/usr/lib/jvm/java-8-openjdk-amd64\"\n",
        "!update-alternatives --set java /usr/lib/jvm/java-8-openjdk-amd64/jre/bin/java"
      ],
      "execution_count": null,
      "outputs": [
        {
          "output_type": "stream",
          "text": [
            "update-alternatives: using /usr/lib/jvm/java-8-openjdk-amd64/jre/bin/java to provide /usr/bin/java (java) in manual mode\n"
          ],
          "name": "stdout"
        }
      ]
    },
    {
      "cell_type": "markdown",
      "metadata": {
        "id": "zPqef37WS2r-"
      },
      "source": [
        "### Install Analytics Zoo from pip"
      ]
    },
    {
      "cell_type": "markdown",
      "metadata": {
        "id": "Mo4najsbS5RX"
      },
      "source": [
        "You can add the following command on your colab file to install the analytics-zoo via pip easily:"
      ]
    },
    {
      "cell_type": "code",
      "metadata": {
        "colab": {
          "base_uri": "https://localhost:8080/"
        },
        "id": "RtHKGTcSS1cD",
        "outputId": "5c5d968e-63b3-45fb-c9b4-8015af886e62"
      },
      "source": [
        "# Install latest release version of analytics-zoo \n",
        "# Installing analytics-zoo from pip will automatically install pyspark, bigdl, and their dependencies.\n",
        "!pip install analytics-zoo"
      ],
      "execution_count": null,
      "outputs": [
        {
          "output_type": "stream",
          "text": [
            "Collecting analytics-zoo\n",
            "\u001b[?25l  Downloading https://files.pythonhosted.org/packages/49/32/2fe969c682b8683fb3792f06107fe8ac56f165e307d327756c506aa76d31/analytics_zoo-0.10.0-py2.py3-none-manylinux1_x86_64.whl (158.9MB)\n",
            "\u001b[K     |████████████████████████████████| 158.9MB 71kB/s \n",
            "\u001b[?25hCollecting conda-pack==0.3.1\n",
            "  Downloading https://files.pythonhosted.org/packages/e9/e7/d942780c4281a665f34dbfffc1cd1517c5843fb478c133a1e1fa0df30cd6/conda_pack-0.3.1-py2.py3-none-any.whl\n",
            "Collecting bigdl==0.12.2\n",
            "\u001b[?25l  Downloading https://files.pythonhosted.org/packages/1a/40/81fed203a633536dbb83454f1a102ebde86214f576572769290afb9427c9/BigDL-0.12.2-py2.py3-none-manylinux1_x86_64.whl (114.1MB)\n",
            "\u001b[K     |████████████████████████████████| 114.1MB 98kB/s \n",
            "\u001b[?25hCollecting pyspark==2.4.3\n",
            "\u001b[?25l  Downloading https://files.pythonhosted.org/packages/37/98/244399c0daa7894cdf387e7007d5e8b3710a79b67f3fd991c0b0b644822d/pyspark-2.4.3.tar.gz (215.6MB)\n",
            "\u001b[K     |████████████████████████████████| 215.6MB 66kB/s \n",
            "\u001b[?25hRequirement already satisfied: setuptools in /usr/local/lib/python3.7/dist-packages (from conda-pack==0.3.1->analytics-zoo) (57.0.0)\n",
            "Requirement already satisfied: numpy>=1.7 in /usr/local/lib/python3.7/dist-packages (from bigdl==0.12.2->analytics-zoo) (1.19.5)\n",
            "Requirement already satisfied: six>=1.10.0 in /usr/local/lib/python3.7/dist-packages (from bigdl==0.12.2->analytics-zoo) (1.15.0)\n",
            "Collecting py4j==0.10.7\n",
            "\u001b[?25l  Downloading https://files.pythonhosted.org/packages/e3/53/c737818eb9a7dc32a7cd4f1396e787bd94200c3997c72c1dbe028587bd76/py4j-0.10.7-py2.py3-none-any.whl (197kB)\n",
            "\u001b[K     |████████████████████████████████| 204kB 54.8MB/s \n",
            "\u001b[?25hBuilding wheels for collected packages: pyspark\n",
            "  Building wheel for pyspark (setup.py) ... \u001b[?25l\u001b[?25hdone\n",
            "  Created wheel for pyspark: filename=pyspark-2.4.3-py2.py3-none-any.whl size=215964968 sha256=1c11d029fe0c7a5df261021ecbcd68c5f0eba457706345103bc5a1969c623224\n",
            "  Stored in directory: /root/.cache/pip/wheels/8d/20/f0/b30e2024226dc112e256930dd2cd4f06d00ab053c86278dcf3\n",
            "Successfully built pyspark\n",
            "Installing collected packages: conda-pack, py4j, pyspark, bigdl, analytics-zoo\n",
            "Successfully installed analytics-zoo-0.10.0 bigdl-0.12.2 conda-pack-0.3.1 py4j-0.10.7 pyspark-2.4.3\n"
          ],
          "name": "stdout"
        }
      ]
    },
    {
      "cell_type": "markdown",
      "metadata": {
        "id": "M8KiG7WhTAPa"
      },
      "source": [
        "### Initialize context"
      ]
    },
    {
      "cell_type": "markdown",
      "metadata": {
        "id": "ZWWxCdrkTCqY"
      },
      "source": [
        "Call init_nncontext() that will create a SparkContext with optimized performance configurations."
      ]
    },
    {
      "cell_type": "code",
      "metadata": {
        "colab": {
          "base_uri": "https://localhost:8080/"
        },
        "id": "Wy6CnH-8S81r",
        "outputId": "ca275bf1-95fc-4557-b72a-f146b05d1b5d"
      },
      "source": [
        "from zoo.common.nncontext import*\n",
        "\n",
        "sc = init_nncontext()"
      ],
      "execution_count": null,
      "outputs": [
        {
          "output_type": "stream",
          "text": [
            "Prepending /usr/local/lib/python3.7/dist-packages/bigdl/share/conf/spark-bigdl.conf to sys.path\n",
            "Adding /usr/local/lib/python3.7/dist-packages/zoo/share/lib/analytics-zoo-bigdl_0.12.2-spark_2.4.3-0.10.0-jar-with-dependencies.jar to BIGDL_JARS\n",
            "Prepending /usr/local/lib/python3.7/dist-packages/zoo/share/conf/spark-analytics-zoo.conf to sys.path\n",
            "pyspark_submit_args is:  --driver-class-path /usr/local/lib/python3.7/dist-packages/zoo/share/lib/analytics-zoo-bigdl_0.12.2-spark_2.4.3-0.10.0-jar-with-dependencies.jar:/usr/local/lib/python3.7/dist-packages/bigdl/share/lib/bigdl-0.12.2-jar-with-dependencies.jar pyspark-shell \n"
          ],
          "name": "stdout"
        }
      ]
    },
    {
      "cell_type": "markdown",
      "metadata": {
        "id": "nLQymd-_TbKx"
      },
      "source": [
        "Analytics Zoo provides three Recommenders, including Wide and Deep (WND) model, Neural network-based Collaborative Filtering (NCF) model and Session Recommender model. Easy-to-use Keras-Style defined models which provides compile and fit methods for training. Alternatively, they could be fed into NNFrames or BigDL Optimizer.\n",
        "\n",
        "WND and NCF recommenders can handle either explict or implicit feedback, given corresponding features."
      ]
    },
    {
      "cell_type": "markdown",
      "metadata": {
        "id": "_KTBMy52T5he"
      },
      "source": [
        "## Imports"
      ]
    },
    {
      "cell_type": "code",
      "metadata": {
        "colab": {
          "base_uri": "https://localhost:8080/"
        },
        "id": "nsib3Wg_T7E5",
        "outputId": "242f446c-1e3c-4f69-ac50-1ddf5fb504cb"
      },
      "source": [
        "from zoo.models.recommendation import *\n",
        "from zoo.models.recommendation.utils import *\n",
        "from zoo.common.nncontext import init_nncontext\n",
        "\n",
        "sqlContext = SQLContext(sc)\n",
        "from pyspark.sql.types import *\n",
        "from pyspark.sql import Row\n",
        "\n",
        "import os\n",
        "import sys\n",
        "import datetime as dt\n",
        "import numpy as np\n",
        "from sklearn import preprocessing\n",
        "\n",
        "import matplotlib\n",
        "matplotlib.use('agg')\n",
        "import matplotlib.pyplot as plt\n",
        "%pylab inline"
      ],
      "execution_count": null,
      "outputs": [
        {
          "output_type": "stream",
          "text": [
            "Populating the interactive namespace from numpy and matplotlib\n"
          ],
          "name": "stdout"
        }
      ]
    },
    {
      "cell_type": "markdown",
      "metadata": {
        "id": "Cl6H99sBTgOt"
      },
      "source": [
        "## Download movielens dataset"
      ]
    },
    {
      "cell_type": "code",
      "metadata": {
        "colab": {
          "base_uri": "https://localhost:8080/"
        },
        "id": "wkKAeEORTPZ_",
        "outputId": "39ad851a-50ed-4082-f5d2-1ae9473bbdc3"
      },
      "source": [
        "!wget http://files.grouplens.org/datasets/movielens/ml-1m.zip\n",
        "!unzip ml-1m.zip"
      ],
      "execution_count": null,
      "outputs": [
        {
          "output_type": "stream",
          "text": [
            "--2021-06-27 14:05:35--  http://files.grouplens.org/datasets/movielens/ml-1m.zip\n",
            "Resolving files.grouplens.org (files.grouplens.org)... 128.101.65.152\n",
            "Connecting to files.grouplens.org (files.grouplens.org)|128.101.65.152|:80... connected.\n",
            "HTTP request sent, awaiting response... 200 OK\n",
            "Length: 5917549 (5.6M) [application/zip]\n",
            "Saving to: ‘ml-1m.zip.2’\n",
            "\n",
            "ml-1m.zip.2         100%[===================>]   5.64M  25.4MB/s    in 0.2s    \n",
            "\n",
            "2021-06-27 14:05:35 (25.4 MB/s) - ‘ml-1m.zip.2’ saved [5917549/5917549]\n",
            "\n",
            "Archive:  ml-1m.zip\n",
            "replace ml-1m/movies.dat? [y]es, [n]o, [A]ll, [N]one, [r]ename: A\n",
            "  inflating: ml-1m/movies.dat        \n",
            "  inflating: ml-1m/ratings.dat       \n",
            "  inflating: ml-1m/README            \n",
            "  inflating: ml-1m/users.dat         \n"
          ],
          "name": "stdout"
        }
      ]
    },
    {
      "cell_type": "markdown",
      "metadata": {
        "id": "cizJHBZhVV15"
      },
      "source": [
        "## Read the dataset"
      ]
    },
    {
      "cell_type": "code",
      "metadata": {
        "id": "vT8aZM0BT2oi"
      },
      "source": [
        "def read_data_sets(data_dir):\n",
        "  rating_files = os.path.join(data_dir,\"ratings.dat\")\n",
        "  rating_list = [i.strip().split(\"::\") for i in open(rating_files,\"r\").readlines()]    \n",
        "  movielens_data = np.array(rating_list).astype(int)\n",
        "  return movielens_data \n",
        "\n",
        "def get_id_pairs(data_dir):\n",
        "\tmovielens_data = read_data_sets(data_dir)\n",
        "\treturn movielens_data[:, 0:2]\n",
        "\n",
        "def get_id_ratings(data_dir):\n",
        "\tmovielens_data = read_data_sets(data_dir)\n",
        "\treturn movielens_data[:100000, 0:3]"
      ],
      "execution_count": null,
      "outputs": []
    },
    {
      "cell_type": "code",
      "metadata": {
        "id": "7n6vQz-3VR4I"
      },
      "source": [
        "movielens_data = get_id_ratings(\"/content/ml-1m\")"
      ],
      "execution_count": null,
      "outputs": []
    },
    {
      "cell_type": "markdown",
      "metadata": {
        "id": "GCRIqd0hV2-5"
      },
      "source": [
        "## Understand the data"
      ]
    },
    {
      "cell_type": "code",
      "metadata": {
        "colab": {
          "base_uri": "https://localhost:8080/"
        },
        "id": "nY3Bbk1xV8wL",
        "outputId": "03c131c6-3a21-40d1-f3e0-cc74b9f14b2c"
      },
      "source": [
        "min_user_id = np.min(movielens_data[:,0])\n",
        "max_user_id = np.max(movielens_data[:,0])\n",
        "min_movie_id = np.min(movielens_data[:,1])\n",
        "max_movie_id = np.max(movielens_data[:,1])\n",
        "rating_labels= np.unique(movielens_data[:,2])\n",
        "\n",
        "print(movielens_data.shape)\n",
        "print(min_user_id, max_user_id, min_movie_id, max_movie_id, rating_labels)"
      ],
      "execution_count": null,
      "outputs": [
        {
          "output_type": "stream",
          "text": [
            "(100000, 3)\n",
            "1 669 1 3952 [1 2 3 4 5]\n"
          ],
          "name": "stdout"
        }
      ]
    },
    {
      "cell_type": "markdown",
      "metadata": {
        "id": "O-Ks_RL2WMT7"
      },
      "source": [
        "## Transformation"
      ]
    },
    {
      "cell_type": "markdown",
      "metadata": {
        "id": "cnUhH-ksWOxh"
      },
      "source": [
        "Transform ratings into dataframe, read user and item data into dataframes. Transform labels to zero-based since the original labels start from 1."
      ]
    },
    {
      "cell_type": "code",
      "metadata": {
        "id": "gmD0lS0eVnK7"
      },
      "source": [
        "Rating = Row(\"userId\", \"itemId\", \"label\")\n",
        "User = Row(\"userId\", \"gender\", \"age\" ,\"occupation\")\n",
        "Item = Row(\"itemId\", \"title\" ,\"genres\")\n",
        "\n",
        "ratings = sc.parallelize(movielens_data)\\\n",
        "    .map(lambda l: (int(l[0]), int(l[1]), int(l[2])-1))\\\n",
        "    .map(lambda r: Rating(*r))\n",
        "ratingDF = sqlContext.createDataFrame(ratings)\n",
        "\n",
        "users= sc.textFile(\"/content/ml-1m/users.dat\")\\\n",
        "    .map(lambda l: l.split(\"::\")[0:4])\\\n",
        "    .map(lambda l: (int(l[0]), l[1], int(l[2]), int(l[3])))\\\n",
        "    .map(lambda r: User(*r))\n",
        "userDF = sqlContext.createDataFrame(users)\n",
        "\n",
        "items = sc.textFile(\"/content/ml-1m/movies.dat\")\\\n",
        "    .map(lambda l: l.split(\"::\")[0:3])\\\n",
        "    .map(lambda l: (int(l[0]), l[1], l[2].split('|')[0]))\\\n",
        "    .map(lambda r: Item(*r))\n",
        "itemDF = sqlContext.createDataFrame(items)"
      ],
      "execution_count": null,
      "outputs": []
    },
    {
      "cell_type": "markdown",
      "metadata": {
        "id": "5GF3VrUfrGUj"
      },
      "source": [
        "Join data together, and transform data. For example, gender is going be used as categorical feature, occupation and gender will be used as crossed features."
      ]
    },
    {
      "cell_type": "code",
      "metadata": {
        "colab": {
          "base_uri": "https://localhost:8080/"
        },
        "id": "3vIUyR2YrKi0",
        "outputId": "f10cc813-17dc-4c24-e2f2-54ed69216e34"
      },
      "source": [
        "from pyspark.sql.functions import col, udf\n",
        "\n",
        "gender_udf = udf(lambda gender: categorical_from_vocab_list(gender, [\"F\", \"M\"], start=1))\n",
        "bucket_cross_udf = udf(lambda feature1, feature2: hash_bucket(str(feature1) + \"_\" + str(feature2), bucket_size=100))\n",
        "genres_list = [\"Crime\", \"Romance\", \"Thriller\", \"Adventure\", \"Drama\", \"Children's\",\n",
        "      \"War\", \"Documentary\", \"Fantasy\", \"Mystery\", \"Musical\", \"Animation\", \"Film-Noir\", \"Horror\",\n",
        "      \"Western\", \"Comedy\", \"Action\", \"Sci-Fi\"]\n",
        "genres_udf = udf(lambda genres: categorical_from_vocab_list(genres, genres_list, start=1))\n",
        "     \n",
        "allDF = ratingDF.join(userDF, [\"userId\"]).join(itemDF, [\"itemId\"]) \\\n",
        "        .withColumn(\"gender\", gender_udf(col(\"gender\")).cast(\"int\")) \\\n",
        "        .withColumn(\"age-gender\", bucket_cross_udf(col(\"age\"), col(\"gender\")).cast(\"int\")) \\\n",
        "        .withColumn(\"genres\", genres_udf(col(\"genres\")).cast(\"int\"))\n",
        "allDF.show(5)"
      ],
      "execution_count": null,
      "outputs": [
        {
          "output_type": "stream",
          "text": [
            "+------+------+-----+------+---+----------+--------------+------+----------+\n",
            "|itemId|userId|label|gender|age|occupation|         title|genres|age-gender|\n",
            "+------+------+-----+------+---+----------+--------------+------+----------+\n",
            "|    26|   229|    3|     2| 18|        10|Othello (1995)|     5|        72|\n",
            "|    26|   342|    3|     2| 18|        12|Othello (1995)|     5|        72|\n",
            "|    26|   655|    2|     1| 25|         2|Othello (1995)|     5|         1|\n",
            "|    26|   524|    2|     2| 18|         0|Othello (1995)|     5|        72|\n",
            "|    26|    18|    3|     1| 18|         3|Othello (1995)|     5|        77|\n",
            "+------+------+-----+------+---+----------+--------------+------+----------+\n",
            "only showing top 5 rows\n",
            "\n"
          ],
          "name": "stdout"
        }
      ]
    },
    {
      "cell_type": "markdown",
      "metadata": {
        "id": "pi1uCpp3rRrG"
      },
      "source": [
        "Speficy data feature information shared by the WideAndDeep model and its feature generation. Here, we use occupation gender for wide base part, age and gender crossed as wide cross part, genres and gender as indicators, userid and itemid for embedding."
      ]
    },
    {
      "cell_type": "code",
      "metadata": {
        "id": "xyc85kqqrQ5y"
      },
      "source": [
        "bucket_size = 100\n",
        "column_info = ColumnFeatureInfo(\n",
        "            wide_base_cols=[\"occupation\", \"gender\"],\n",
        "            wide_base_dims=[21, 3],\n",
        "            wide_cross_cols=[\"age-gender\"],\n",
        "            wide_cross_dims=[bucket_size],\n",
        "            indicator_cols=[\"genres\", \"gender\"],\n",
        "            indicator_dims=[19, 3],\n",
        "            embed_cols=[\"userId\", \"itemId\"],\n",
        "            embed_in_dims=[max_user_id, max_movie_id],\n",
        "            embed_out_dims=[64, 64],\n",
        "            continuous_cols=[\"age\"])"
      ],
      "execution_count": null,
      "outputs": []
    },
    {
      "cell_type": "markdown",
      "metadata": {
        "id": "4Ct0py6Qrjki"
      },
      "source": [
        "Transform data to RDD of Sample. We use optimizer of BigDL directly to train the model, it requires data to be provided in format of RDD(Sample). A Sample is a BigDL data structure which can be constructed using 2 numpy arrays, feature and label respectively. The API interface is Sample.from_ndarray(feature, label). Wide&Deep model need two input tensors, one is SparseTensor for the Wide model, another is a DenseTensor for the Deep model."
      ]
    },
    {
      "cell_type": "markdown",
      "metadata": {
        "id": "qw37Flz4Wm0F"
      },
      "source": [
        "Randomly split the data into train (80%) and validation (20%)"
      ]
    },
    {
      "cell_type": "code",
      "metadata": {
        "id": "Q2XqW5wMrlWR"
      },
      "source": [
        "rdds = allDF.rdd.map(lambda row: to_user_item_feature(row, column_info))\n",
        "trainPairFeatureRdds, valPairFeatureRdds = rdds.randomSplit([0.8, 0.2], seed= 1)\n",
        "valPairFeatureRdds.persist()\n",
        "\n",
        "train_data= trainPairFeatureRdds.map(lambda pair_feature: pair_feature.sample)\n",
        "test_data= valPairFeatureRdds.map(lambda pair_feature: pair_feature.sample)"
      ],
      "execution_count": null,
      "outputs": []
    },
    {
      "cell_type": "code",
      "metadata": {
        "colab": {
          "base_uri": "https://localhost:8080/"
        },
        "id": "PCWetBlaWuyb",
        "outputId": "7202974b-48b9-45c4-e1a3-f661a0e6d74b"
      },
      "source": [
        "train_data.count()"
      ],
      "execution_count": null,
      "outputs": [
        {
          "output_type": "execute_result",
          "data": {
            "text/plain": [
              "80151"
            ]
          },
          "metadata": {
            "tags": []
          },
          "execution_count": 13
        }
      ]
    },
    {
      "cell_type": "code",
      "metadata": {
        "colab": {
          "base_uri": "https://localhost:8080/"
        },
        "id": "czo63lHuW2DB",
        "outputId": "088e28e5-ee19-4adc-c374-f1720c4264a1"
      },
      "source": [
        "train_data.take(3)"
      ],
      "execution_count": null,
      "outputs": [
        {
          "output_type": "execute_result",
          "data": {
            "text/plain": [
              "[Sample: features: [JTensor: storage: [1. 1. 1.], shape: [124] ,indices [10 23 96], float, JTensor: storage: [0. 0. 0. 0. 0. 1. 0. 0. 0. 0. 0. 0. 0. 0. 0. 0. 0. 0. 0. 0. 0. 1.], shape: [22], float, JTensor: storage: [229.  26.], shape: [2], float, JTensor: storage: [18.], shape: [1], float], labels: [JTensor: storage: [3.], shape: [1], float],\n",
              " Sample: features: [JTensor: storage: [1. 1. 1.], shape: [124] ,indices [ 2 22 25], float, JTensor: storage: [0. 0. 0. 0. 0. 1. 0. 0. 0. 0. 0. 0. 0. 0. 0. 0. 0. 0. 0. 0. 1. 0.], shape: [22], float, JTensor: storage: [655.  26.], shape: [2], float, JTensor: storage: [25.], shape: [1], float], labels: [JTensor: storage: [2.], shape: [1], float],\n",
              " Sample: features: [JTensor: storage: [1. 1. 1.], shape: [124] ,indices [ 0 23 96], float, JTensor: storage: [0. 0. 0. 0. 0. 1. 0. 0. 0. 0. 0. 0. 0. 0. 0. 0. 0. 0. 0. 0. 0. 1.], shape: [22], float, JTensor: storage: [524.  26.], shape: [2], float, JTensor: storage: [18.], shape: [1], float], labels: [JTensor: storage: [2.], shape: [1], float]]"
            ]
          },
          "metadata": {
            "tags": []
          },
          "execution_count": 14
        }
      ]
    },
    {
      "cell_type": "markdown",
      "metadata": {
        "id": "KnONxSMsXARF"
      },
      "source": [
        "## Build model"
      ]
    },
    {
      "cell_type": "markdown",
      "metadata": {
        "id": "IhpOgCvFXG2e"
      },
      "source": [
        "In Analytics Zoo, it is simple to build Wide&Deep model by calling WideAndDeep API. You need specify model type, and class number, as well as column information of features according to your data. You can also change other default parameters in the network, like hidden layers. The model could be fed into an Optimizer of BigDL or NNClassifier of analytics-zoo. Please refer to the document for more details. In this example, we demostrate how to use optimizer of BigDL."
      ]
    },
    {
      "cell_type": "code",
      "metadata": {
        "colab": {
          "base_uri": "https://localhost:8080/"
        },
        "id": "4xMI7FZqW3zv",
        "outputId": "b6d03687-d5f8-4be9-a982-24d7be4aff18"
      },
      "source": [
        "wide_n_deep = WideAndDeep(5, column_info, \"wide_n_deep\")"
      ],
      "execution_count": null,
      "outputs": [
        {
          "output_type": "stream",
          "text": [
            "creating: createZooKerasInput\n",
            "creating: createZooKerasInput\n",
            "creating: createZooKerasInput\n",
            "creating: createZooKerasInput\n",
            "creating: createZooKerasSparseDense\n",
            "creating: createZooKerasFlatten\n",
            "creating: createZooKerasSelect\n",
            "creating: createZooKerasEmbedding\n",
            "creating: createZooKerasFlatten\n",
            "creating: createZooKerasFlatten\n",
            "creating: createZooKerasSelect\n",
            "creating: createZooKerasEmbedding\n",
            "creating: createZooKerasFlatten\n",
            "creating: createZooKerasMerge\n",
            "creating: createZooKerasDense\n",
            "creating: createZooKerasDense\n",
            "creating: createZooKerasDense\n",
            "creating: createZooKerasDense\n",
            "creating: createZooKerasMerge\n",
            "creating: createZooKerasActivation\n",
            "creating: createZooKerasModel\n",
            "creating: createZooWideAndDeep\n"
          ],
          "name": "stdout"
        }
      ]
    },
    {
      "cell_type": "markdown",
      "metadata": {
        "id": "AgFrVcNusKGX"
      },
      "source": [
        "### Create optimizer and train the model"
      ]
    },
    {
      "cell_type": "code",
      "metadata": {
        "colab": {
          "base_uri": "https://localhost:8080/"
        },
        "id": "4IHzRgUyXpu8",
        "outputId": "52a786bc-29c0-4c49-dc86-f1a20326adb5"
      },
      "source": [
        "wide_n_deep.compile(optimizer = \"adam\",\n",
        "                    loss= \"sparse_categorical_crossentropy\",\n",
        "                    metrics=['accuracy'])"
      ],
      "execution_count": null,
      "outputs": [
        {
          "output_type": "stream",
          "text": [
            "creating: createAdam\n",
            "creating: createZooKerasSparseCategoricalCrossEntropy\n",
            "creating: createZooKerasSparseCategoricalAccuracy\n"
          ],
          "name": "stdout"
        }
      ]
    },
    {
      "cell_type": "code",
      "metadata": {
        "id": "pBFimH_GsOPP"
      },
      "source": [
        "tmp_log_dir = create_tmp_path()\n",
        "wide_n_deep.set_tensorboard(tmp_log_dir, \"training_wideanddeep\")"
      ],
      "execution_count": null,
      "outputs": []
    },
    {
      "cell_type": "markdown",
      "metadata": {
        "id": "l0Ev3lGSsP3d"
      },
      "source": [
        "Train the network. Wait some time till it finished.. Voila! You've got a trained model\n",
        "\n"
      ]
    },
    {
      "cell_type": "code",
      "metadata": {
        "colab": {
          "base_uri": "https://localhost:8080/"
        },
        "id": "nnlnakrOsRkx",
        "outputId": "b4dc683e-0e02-44ad-b5c0-99e342911f01"
      },
      "source": [
        "%%time\n",
        "# Boot training process\n",
        "wide_n_deep.fit(train_data,\n",
        "                batch_size = 20000,\n",
        "                nb_epoch = 10,\n",
        "                validation_data = test_data)\n",
        "print(\"Optimization Done.\")"
      ],
      "execution_count": null,
      "outputs": [
        {
          "output_type": "stream",
          "text": [
            "Optimization Done.\n",
            "CPU times: user 478 ms, sys: 57.8 ms, total: 535 ms\n",
            "Wall time: 1min 19s\n"
          ],
          "name": "stdout"
        }
      ]
    },
    {
      "cell_type": "markdown",
      "metadata": {
        "id": "YLj6L9JPXxri"
      },
      "source": [
        "## Prediction"
      ]
    },
    {
      "cell_type": "markdown",
      "metadata": {
        "id": "uzDas0oIX11i"
      },
      "source": [
        "Zoo models make inferences based on the given data using model.predict(val_rdd) API. A result of RDD is returned. predict_class returns the predicted label."
      ]
    },
    {
      "cell_type": "code",
      "metadata": {
        "colab": {
          "base_uri": "https://localhost:8080/"
        },
        "id": "gUkaK6TUXuDJ",
        "outputId": "125955be-84b4-4b3a-ae93-7a1e8452c33f"
      },
      "source": [
        "results = wide_n_deep.predict(test_data)\n",
        "results.take(5)"
      ],
      "execution_count": null,
      "outputs": [
        {
          "output_type": "execute_result",
          "data": {
            "text/plain": [
              "[array([0.11510788, 0.11794264, 0.20563757, 0.437561  , 0.12375093],\n",
              "       dtype=float32),\n",
              " array([0.02078348, 0.03359406, 0.22935031, 0.20971832, 0.5065538 ],\n",
              "       dtype=float32),\n",
              " array([0.07785287, 0.06622984, 0.32682514, 0.37786472, 0.15122744],\n",
              "       dtype=float32),\n",
              " array([0.08764142, 0.05253283, 0.22836466, 0.34160003, 0.28986108],\n",
              "       dtype=float32),\n",
              " array([0.09743527, 0.07298197, 0.31074455, 0.3314138 , 0.18742438],\n",
              "       dtype=float32)]"
            ]
          },
          "metadata": {
            "tags": []
          },
          "execution_count": 19
        }
      ]
    },
    {
      "cell_type": "code",
      "metadata": {
        "colab": {
          "base_uri": "https://localhost:8080/"
        },
        "id": "aLhHUm7sZm1Y",
        "outputId": "f5052c54-7263-4f1d-a5fe-6789ccf56137"
      },
      "source": [
        "results_class = wide_n_deep.predict_class(test_data)\n",
        "results_class.take(5)"
      ],
      "execution_count": null,
      "outputs": [
        {
          "output_type": "execute_result",
          "data": {
            "text/plain": [
              "[4, 5, 4, 4, 4]"
            ]
          },
          "metadata": {
            "tags": []
          },
          "execution_count": 20
        }
      ]
    },
    {
      "cell_type": "markdown",
      "metadata": {
        "id": "WqOfNL7gZrG6"
      },
      "source": [
        "In Analytics Zoo, Recommender has provied 3 unique APIs to predict user-item pairs and make recommendations for users or items given candidates."
      ]
    },
    {
      "cell_type": "markdown",
      "metadata": {
        "id": "9ffsw5z7aBlO"
      },
      "source": [
        "### Predict for user item pairs"
      ]
    },
    {
      "cell_type": "code",
      "metadata": {
        "colab": {
          "base_uri": "https://localhost:8080/"
        },
        "id": "NXHMNrSsZnOD",
        "outputId": "1b587a28-d9a4-4dcb-b4f1-c0ad6594c968"
      },
      "source": [
        "userItemPairPrediction = wide_n_deep.predict_user_item_pair(valPairFeatureRdds)\n",
        "for result in userItemPairPrediction.take(5): print(result)"
      ],
      "execution_count": null,
      "outputs": [
        {
          "output_type": "stream",
          "text": [
            "UserItemPrediction [user_id: 342, item_id: 26, prediction: 4, probability: 0.4375610053539276]\n",
            "UserItemPrediction [user_id: 602, item_id: 29, prediction: 5, probability: 0.5065538287162781]\n",
            "UserItemPrediction [user_id: 5, item_id: 29, prediction: 4, probability: 0.3778647184371948]\n",
            "UserItemPrediction [user_id: 623, item_id: 29, prediction: 4, probability: 0.3416000306606293]\n",
            "UserItemPrediction [user_id: 563, item_id: 29, prediction: 4, probability: 0.33141380548477173]\n"
          ],
          "name": "stdout"
        }
      ]
    },
    {
      "cell_type": "markdown",
      "metadata": {
        "id": "SCgDNVQaZ-mJ"
      },
      "source": [
        "### Recommend 3 items for each user given candidates in the feature RDDs"
      ]
    },
    {
      "cell_type": "code",
      "metadata": {
        "colab": {
          "base_uri": "https://localhost:8080/"
        },
        "id": "W2uMAeiOZ5RJ",
        "outputId": "10dd1a15-c7c9-4afc-d27b-10077807ed43"
      },
      "source": [
        "userRecs = wide_n_deep.recommend_for_user(valPairFeatureRdds, 3)\n",
        "for result in userRecs.take(5): print(result)"
      ],
      "execution_count": null,
      "outputs": [
        {
          "output_type": "stream",
          "text": [
            "UserItemPrediction [user_id: 600, item_id: 2987, prediction: 4, probability: 0.48497775197029114]\n",
            "UserItemPrediction [user_id: 600, item_id: 2701, prediction: 4, probability: 0.47248759865760803]\n",
            "UserItemPrediction [user_id: 600, item_id: 104, prediction: 4, probability: 0.4457840323448181]\n",
            "UserItemPrediction [user_id: 200, item_id: 2555, prediction: 5, probability: 0.2934740483760834]\n",
            "UserItemPrediction [user_id: 200, item_id: 2041, prediction: 3, probability: 0.3036503791809082]\n"
          ],
          "name": "stdout"
        }
      ]
    },
    {
      "cell_type": "markdown",
      "metadata": {
        "id": "kOHBbcDAaH8K"
      },
      "source": [
        "### Recommend 3 users for each item given candidates in the feature RDDs"
      ]
    },
    {
      "cell_type": "code",
      "metadata": {
        "colab": {
          "base_uri": "https://localhost:8080/"
        },
        "id": "CLp29k3kaHB-",
        "outputId": "2b140c1f-7438-40da-84c9-1f5e6dc62acb"
      },
      "source": [
        "itemRecs = wide_n_deep.recommend_for_item(valPairFeatureRdds, 3)\n",
        "for result in itemRecs.take(5): print(result)"
      ],
      "execution_count": null,
      "outputs": [
        {
          "output_type": "stream",
          "text": [
            "UserItemPrediction [user_id: 412, item_id: 1200, prediction: 5, probability: 0.4764344394207001]\n",
            "UserItemPrediction [user_id: 661, item_id: 1200, prediction: 5, probability: 0.47617384791374207]\n",
            "UserItemPrediction [user_id: 161, item_id: 1200, prediction: 5, probability: 0.47474074363708496]\n",
            "UserItemPrediction [user_id: 10, item_id: 2000, prediction: 5, probability: 0.3568936884403229]\n",
            "UserItemPrediction [user_id: 101, item_id: 2000, prediction: 5, probability: 0.3536785840988159]\n"
          ],
          "name": "stdout"
        }
      ]
    },
    {
      "cell_type": "markdown",
      "metadata": {
        "id": "FRJoSBJGaO43"
      },
      "source": [
        "## Evaluation"
      ]
    },
    {
      "cell_type": "markdown",
      "metadata": {
        "id": "t8AOXDp9aSwD"
      },
      "source": [
        "Plot the train and validation loss curves"
      ]
    },
    {
      "cell_type": "code",
      "metadata": {
        "colab": {
          "base_uri": "https://localhost:8080/",
          "height": 407
        },
        "id": "MbS3TGZbaKva",
        "outputId": "4d13a6e9-4b08-41e5-d167-98869c796441"
      },
      "source": [
        "#retrieve train and validation summary object and read the loss data into ndarray's. \n",
        "train_loss = np.array(wide_n_deep.get_train_summary(\"Loss\"))\n",
        "val_loss = np.array(wide_n_deep.get_validation_summary(\"Loss\"))\n",
        "#plot the train and validation curves\n",
        "# each event data is a tuple in form of (iteration_count, value, timestamp)\n",
        "plt.figure(figsize = (12,6))\n",
        "plt.plot(train_loss[:,0],train_loss[:,1],label='train loss')\n",
        "plt.plot(val_loss[:,0],val_loss[:,1],label='val loss',color='green')\n",
        "plt.scatter(val_loss[:,0],val_loss[:,1],color='green')\n",
        "plt.legend();\n",
        "plt.xlim(0,train_loss.shape[0]+10)\n",
        "plt.grid(True)\n",
        "plt.title(\"loss\")"
      ],
      "execution_count": null,
      "outputs": [
        {
          "output_type": "execute_result",
          "data": {
            "text/plain": [
              "Text(0.5, 1.0, 'loss')"
            ]
          },
          "metadata": {
            "tags": []
          },
          "execution_count": 24
        },
        {
          "output_type": "display_data",
          "data": {
            "image/png": "[encoded data removed]",
            "text/plain": [
              "<Figure size 864x432 with 1 Axes>"
            ]
          },
          "metadata": {
            "tags": [],
            "needs_background": "light"
          }
        }
      ]
    },
    {
      "cell_type": "markdown",
      "metadata": {
        "id": "-Yh804RoaW8M"
      },
      "source": [
        "Plot accuracy"
      ]
    },
    {
      "cell_type": "code",
      "metadata": {
        "colab": {
          "base_uri": "https://localhost:8080/",
          "height": 407
        },
        "id": "F0JtfjEMaVLc",
        "outputId": "6f4ac310-aee2-4988-867a-2b25f988e33e"
      },
      "source": [
        "plt.figure(figsize = (12,6))\n",
        "top1 = np.array(wide_n_deep.get_validation_summary(\"Top1Accuracy\"))\n",
        "plt.plot(top1[:,0],top1[:,1],label='top1')\n",
        "plt.title(\"top1 accuracy\")\n",
        "plt.grid(True)\n",
        "plt.legend();\n",
        "plt.xlim(0,train_loss.shape[0]+10)"
      ],
      "execution_count": null,
      "outputs": [
        {
          "output_type": "execute_result",
          "data": {
            "text/plain": [
              "(0.0, 60.0)"
            ]
          },
          "metadata": {
            "tags": []
          },
          "execution_count": 25
        },
        {
          "output_type": "display_data",
          "data": {
            "image/png": "[encoded data removed]",
            "text/plain": [
              "<Figure size 864x432 with 1 Axes>"
            ]
          },
          "metadata": {
            "tags": [],
            "needs_background": "light"
          }
        }
      ]
    },
    {
      "cell_type": "code",
      "metadata": {
        "id": "4WwZJ_OB01SN"
      },
      "source": [
        "# %reload_ext tensorboard\n",
        "# %tensorboard --logdir $tmp_log_dir/training_wideanddeep/"
      ],
      "execution_count": null,
      "outputs": []
    },
    {
      "cell_type": "markdown",
      "metadata": {
        "id": "gK07c-Mh2j2X"
      },
      "source": [
        "![image.png](data:image/png;base64,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)"
      ]
    }
  ]
}