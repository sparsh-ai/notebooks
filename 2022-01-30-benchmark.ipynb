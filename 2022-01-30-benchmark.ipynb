{
 "cells": [
  {
   "cell_type": "markdown",
   "metadata": {},
   "source": [
    "# Graph Benchmarks"
   ]
  },
  {
   "cell_type": "code",
   "execution_count": null,
   "metadata": {},
   "outputs": [],
   "source": [
    "import os\n",
    "import numpy as np\n",
    "import pandas as pd\n",
    "import networkx as nx\n",
    "from scipy.io import mmread\n",
    "import matplotlib.pyplot as plt\n",
    "from collections import Counter\n",
    "\n",
    "%matplotlib inline"
   ]
  },
  {
   "cell_type": "code",
   "execution_count": null,
   "metadata": {},
   "outputs": [],
   "source": [
    "default_edge_color = 'gray'\n",
    "default_node_color = '#407cc9'\n",
    "enhanced_node_color = '#f5b042'\n",
    "enhanced_edge_color = '#cc2f04'"
   ]
  },
  {
   "cell_type": "code",
   "execution_count": null,
   "metadata": {},
   "outputs": [],
   "source": [
    "output_dir = \"/content\""
   ]
  },
  {
   "cell_type": "code",
   "execution_count": null,
   "metadata": {},
   "outputs": [],
   "source": [
    "def draw_graph(G, node_names={}, filename=None, node_size=50, layout = None):\n",
    "    pos_nodes = nx.spring_layout(G) if layout is None else layout(G)\n",
    "    nx.draw(G, pos_nodes, with_labels=False, node_size=node_size, edge_color='gray')\n",
    "  \n",
    "    pos_attrs = {}\n",
    "    for node, coords in pos_nodes.items():\n",
    "        pos_attrs[node] = (coords[0], coords[1] + 0.08)\n",
    "  \n",
    "    nx.draw_networkx_labels(G, pos_attrs, labels=node_names, font_family='serif')\n",
    "  \n",
    "    plt.axis('off')\n",
    "    axis = plt.gca()\n",
    "    axis.set_xlim([1.2*x for x in axis.get_xlim()])\n",
    "    axis.set_ylim([1.2*y for y in axis.get_ylim()])\n",
    "  \n",
    "    if filename:\n",
    "        plt.savefig(os.path.join(output_dir, filename), format=\"png\")\n",
    "\n",
    "\n",
    "# draw enhanced path on the graph\n",
    "def draw_enhanced_path(G, path_to_enhance, node_names={}, filename=None, layout=None):\n",
    "    path_edges = list(zip(path,path[1:]))\n",
    "    pos_nodes = nx.spring_layout(G) if layout is None else layout(G)\n",
    "    \n",
    "    plt.figure(figsize=(5,5),dpi=300)\n",
    "    pos_nodes = nx.spring_layout(G)\n",
    "    nx.draw(G, pos_nodes, with_labels=False, node_size=50, edge_color='gray')\n",
    "  \n",
    "    pos_attrs = {}\n",
    "    for node, coords in pos_nodes.items():\n",
    "        pos_attrs[node] = (coords[0], coords[1] + 0.08)\n",
    "  \n",
    "    nx.draw_networkx_labels(G, pos_attrs, labels=node_names, font_family='serif')\n",
    "    nx.draw_networkx_edges(G,pos_nodes,edgelist=path_edges, edge_color='#cc2f04', style='dashed', width=2.0)\n",
    "  \n",
    "    plt.axis('off')\n",
    "    axis = plt.gca()\n",
    "    axis.set_xlim([1.2*x for x in axis.get_xlim()])\n",
    "    axis.set_ylim([1.2*y for y in axis.get_ylim()])\n",
    "  \n",
    "    if filename:\n",
    "        plt.savefig(os.path.join(output_dir, filename), format=\"png\")"
   ]
  },
  {
   "cell_type": "code",
   "execution_count": null,
   "metadata": {},
   "outputs": [],
   "source": [
    "def get_random_node(graph):\n",
    "    return np.random.choice(graph.nodes)"
   ]
  },
  {
   "cell_type": "markdown",
   "metadata": {},
   "source": [
    "### Simple Example of Graphs"
   ]
  },
  {
   "cell_type": "code",
   "execution_count": null,
   "metadata": {},
   "outputs": [],
   "source": [
    "complete = nx.complete_graph(n=7)\n",
    "lollipop = nx.lollipop_graph(m=7, n=3)\n",
    "barbell = nx.barbell_graph(m1=7, m2=4)"
   ]
  },
  {
   "cell_type": "code",
   "execution_count": null,
   "metadata": {},
   "outputs": [],
   "source": [
    "plt.figure(figsize=(15,6))\n",
    "plt.subplot(1,3,1)\n",
    "draw_graph(complete)\n",
    "plt.title(\"Complete\")\n",
    "plt.subplot(1,3,2)\n",
    "plt.title(\"Lollipop\")\n",
    "draw_graph(lollipop)\n",
    "plt.subplot(1,3,3)\n",
    "plt.title(\"Barbell\")\n",
    "draw_graph(barbell)\n",
    "plt.savefig(os.path.join(output_dir, \"SimpleGraphs.png\"))"
   ]
  },
  {
   "cell_type": "markdown",
   "metadata": {},
   "source": [
    "## We compose simple graphs into one"
   ]
  },
  {
   "cell_type": "code",
   "execution_count": null,
   "metadata": {},
   "outputs": [],
   "source": [
    "complete = nx.relabel_nodes(nx.complete_graph(n=7), lambda x: x + 0)\n",
    "lollipop = nx.relabel_nodes(nx.lollipop_graph(m=7, n=3), lambda x: x+100)\n",
    "barbell = nx.relabel_nodes(nx.barbell_graph(m1=7, m2=4), lambda x: x+200)"
   ]
  },
  {
   "cell_type": "code",
   "execution_count": null,
   "metadata": {},
   "outputs": [],
   "source": [
    "allGraphs = nx.compose_all([complete, barbell, lollipop])\n",
    "allGraphs.add_edge(get_random_node(lollipop), get_random_node(lollipop))\n",
    "allGraphs.add_edge(get_random_node(complete), get_random_node(barbell))"
   ]
  },
  {
   "cell_type": "code",
   "execution_count": null,
   "metadata": {},
   "outputs": [],
   "source": [
    "draw_graph(allGraphs, layout=nx.kamada_kawai_layout)"
   ]
  },
  {
   "cell_type": "markdown",
   "metadata": {},
   "source": [
    "## Model Barabasi Albert"
   ]
  },
  {
   "cell_type": "markdown",
   "metadata": {},
   "source": [
    "In the following we create and analyse some simple graph generated by the Barabasi-Albert model "
   ]
  },
  {
   "cell_type": "code",
   "execution_count": null,
   "metadata": {},
   "outputs": [],
   "source": [
    "BA_graph_small = nx.extended_barabasi_albert_graph(n=20,m=1,p=0,q=0)"
   ]
  },
  {
   "cell_type": "code",
   "execution_count": null,
   "metadata": {},
   "outputs": [],
   "source": [
    "draw_graph(BA_graph_small, layout=nx.circular_layout)"
   ]
  },
  {
   "cell_type": "markdown",
   "metadata": {},
   "source": [
    "We analyse large Barabasi-Albert graphs to investigate their ability to generate power-law distribution for the degree of node"
   ]
  },
  {
   "cell_type": "code",
   "execution_count": null,
   "metadata": {},
   "outputs": [],
   "source": [
    "n = 1E5\n",
    "bag = nx.extended_barabasi_albert_graph(n,m=1,p=0,q=0)\n",
    "\n",
    "degree = dict(nx.degree(bag)).values()\n",
    "bins = np.round(np.logspace(np.log10(min(degree)), np.log10(max(degree)), 10))\n",
    "cnt = Counter(np.digitize(np.array(list(degree)), bins))"
   ]
  },
  {
   "cell_type": "code",
   "execution_count": null,
   "metadata": {},
   "outputs": [],
   "source": [
    "plt.figure(figsize=(15,6))\n",
    "plt.subplot(1,2,1)\n",
    "draw_graph(BA_graph_small, layout=nx.circular_layout)\n",
    "plt.subplot(1,2,2)\n",
    "x, y = list(zip(*[(bins[k-1], v/n) for k, v in cnt.items()]))\n",
    "plt.plot(x, y, 'o'); plt.xscale(\"log\"); plt.yscale(\"log\")\n",
    "plt.xlabel(\"Degree k\")\n",
    "plt.ylabel(\"P(k)\")\n",
    "plt.savefig(os.path.join(output_dir, \"Barabasi_Albert.png\"))"
   ]
  },
  {
   "cell_type": "code",
   "execution_count": null,
   "metadata": {},
   "outputs": [],
   "source": [
    "plt.figure(figsize=(15, 6))\n",
    "\n",
    "plt.hist(degree, bins=bins)\n",
    "plt.xscale(\"log\")\n",
    "plt.yscale(\"log\")"
   ]
  },
  {
   "cell_type": "markdown",
   "metadata": {},
   "source": [
    "Other simple graph Benchmarks"
   ]
  },
  {
   "cell_type": "code",
   "execution_count": null,
   "metadata": {},
   "outputs": [],
   "source": [
    "graph = nx.florentine_families_graph()\n",
    "\n",
    "nx.draw_kamada_kawai(graph, with_labels=True, node_size=20, font_size=14)\n",
    "plt.savefig(\"Florentine.png\")"
   ]
  },
  {
   "cell_type": "markdown",
   "metadata": {},
   "source": [
    "## Benchmarks from the Network Data Repository"
   ]
  },
  {
   "cell_type": "markdown",
   "metadata": {},
   "source": [
    "This dataset (and other) can be downloaded from http://networkrepository.com/. The datasets are generally in the MTX file format. In particular the dataset here presented is taken from the collaboration network of Arxiv Astro Physics, that can be downloaded from http://networkrepository.com/ca-AstroPh.php.\n",
    "Some of the files that can be downloaded from that source are somewhat non-standard and needs small fixes.\n",
    "\n",
    "> Note: Please make sure the header of the file has the following: \n",
    "`%%MatrixMarket matrix coordinate pattern symmetric`, with a double %."
   ]
  },
  {
   "cell_type": "code",
   "execution_count": null,
   "metadata": {},
   "outputs": [],
   "source": [
    "!wget https://nrvis.com/download/data/ca/ca-AstroPh.zip\n",
    "!unzip ca-AstroPh.zip"
   ]
  },
  {
   "cell_type": "code",
   "execution_count": null,
   "metadata": {},
   "outputs": [],
   "source": [
    "!head ca-AstroPh.mtx"
   ]
  },
  {
   "cell_type": "code",
   "execution_count": null,
   "metadata": {},
   "outputs": [],
   "source": [
    "!tail -n +2 ca-AstroPh.mtx > ca-AstroPh-mod.mtx\n",
    "!sed -i -e '1i%%MatrixMarket matrix coordinate pattern symmetric\\' ca-AstroPh-mod.mtx"
   ]
  },
  {
   "cell_type": "code",
   "execution_count": null,
   "metadata": {},
   "outputs": [],
   "source": [
    "!head ca-AstroPh-mod.mtx"
   ]
  },
  {
   "cell_type": "code",
   "execution_count": null,
   "metadata": {},
   "outputs": [],
   "source": [
    "file = \"ca-AstroPh-mod.mtx\"\n",
    "adj_matrix = mmread(file)"
   ]
  },
  {
   "cell_type": "code",
   "execution_count": null,
   "metadata": {},
   "outputs": [],
   "source": [
    "graph = nx.from_scipy_sparse_matrix(adj_matrix)\n",
    "degrees = dict(nx.degree(graph))\n",
    "ci = nx.clustering(graph)\n",
    "centrality = nx.centrality.eigenvector_centrality(graph)"
   ]
  },
  {
   "cell_type": "code",
   "execution_count": null,
   "metadata": {},
   "outputs": [],
   "source": [
    "stats = pd.DataFrame({\n",
    "    \"centrality\": centrality, \n",
    "    \"C_i\": ci, \n",
    "    \"degree\": degrees\n",
    "})"
   ]
  },
  {
   "cell_type": "code",
   "execution_count": null,
   "metadata": {},
   "outputs": [],
   "source": [
    "stats.head()"
   ]
  },
  {
   "cell_type": "markdown",
   "metadata": {},
   "source": [
    "Here we provide some simple analysis of the DataFrame we generated to see correlations between centrality, clustering coefficient and degree. "
   ]
  },
  {
   "cell_type": "code",
   "execution_count": null,
   "metadata": {},
   "outputs": [],
   "source": [
    "plt.plot(stats[\"centrality\"], stats[\"degree\"], 'o')\n",
    "plt.xscale(\"log\")\n",
    "plt.yscale(\"log\")"
   ]
  },
  {
   "cell_type": "code",
   "execution_count": null,
   "metadata": {},
   "outputs": [],
   "source": [
    "plt.plot(stats[\"centrality\"], stats[\"C_i\"], 'o')\n",
    "plt.xscale(\"log\")\n",
    "plt.yscale(\"log\")"
   ]
  },
  {
   "cell_type": "markdown",
   "metadata": {},
   "source": [
    "## Ego-network "
   ]
  },
  {
   "cell_type": "markdown",
   "metadata": {},
   "source": [
    "Here we plot the ego-network of the most-connected node, that has id 6933. However, even this network looks a bit messy since it has hundreds of nodes. We therefore sample randomly or based on centrality/clustering coefficient in order to plot a relevant subgraph."
   ]
  },
  {
   "cell_type": "code",
   "execution_count": null,
   "metadata": {},
   "outputs": [],
   "source": [
    "neighbors = [n for n in nx.neighbors(graph, 6933)]"
   ]
  },
  {
   "cell_type": "code",
   "execution_count": null,
   "metadata": {},
   "outputs": [],
   "source": [
    "sampling = 0.1"
   ]
  },
  {
   "cell_type": "code",
   "execution_count": null,
   "metadata": {},
   "outputs": [],
   "source": [
    "nTop = round(len(neighbors)*sampling)"
   ]
  },
  {
   "cell_type": "code",
   "execution_count": null,
   "metadata": {},
   "outputs": [],
   "source": [
    "idx = {\n",
    "    \"random\": stats.loc[neighbors].sort_index().index[:nTop], \n",
    "    \"centrality\": stats.loc[neighbors].sort_values(\"centrality\", ascending=False).index[:nTop],\n",
    "    \"C_i\": stats.loc[neighbors].sort_values(\"C_i\", ascending=False).index[:nTop]\n",
    "}"
   ]
  },
  {
   "cell_type": "code",
   "execution_count": null,
   "metadata": {},
   "outputs": [],
   "source": [
    "def plotSubgraph(graph, indices, center = 6933):\n",
    "    draw_graph(\n",
    "        nx.subgraph(graph, list(indices) + [center]),\n",
    "        layout = nx.kamada_kawai_layout\n",
    "    )"
   ]
  },
  {
   "cell_type": "code",
   "execution_count": null,
   "metadata": {},
   "outputs": [],
   "source": [
    "plt.figure(figsize=(15,6))\n",
    "for ith, title in enumerate([\"random\", \"centrality\", \"C_i\"]):\n",
    "    plt.subplot(1,3,ith+1)\n",
    "    plotSubgraph(graph, idx[title])\n",
    "    plt.title(title)\n",
    "plt.savefig(os.path.join(output_dir, \"PhAstro\"))"
   ]
  },
  {
   "cell_type": "markdown",
   "metadata": {},
   "source": [
    "## Data to Gephi"
   ]
  },
  {
   "cell_type": "markdown",
   "metadata": {},
   "source": [
    "Otherwise, we could also export the data from networkx in order to plot it and analyse it using the Gephi software."
   ]
  },
  {
   "cell_type": "code",
   "execution_count": null,
   "metadata": {},
   "outputs": [],
   "source": [
    "nx.write_gexf(graph, 'ca-AstroPh.gexf')"
   ]
  }
 ],
 "metadata": {
  "colab": {
   "authorship_tag": "ABX9TyNVZs6qVs5JT6BuPInRugBr",
   "collapsed_sections": [],
   "name": "rec-tut-gml-03-benchmarks.ipynb",
   "provenance": [
    {
     "file_id": "1wqPq1fLY0e0f_4stYE6RGxJV8BNxgDU4",
     "timestamp": 1627817253118
    }
   ],
   "toc_visible": true
  },
  "kernelspec": {
   "display_name": "Python 3",
   "name": "python3"
  },
  "language_info": {
   "name": "python"
  }
 },
 "nbformat": 4,
 "nbformat_minor": 0
}
