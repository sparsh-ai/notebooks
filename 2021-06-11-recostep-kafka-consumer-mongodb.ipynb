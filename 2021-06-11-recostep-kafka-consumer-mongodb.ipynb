{
 "cells": [
  {
   "cell_type": "markdown",
   "metadata": {
    "id": "H6scelNfLkw8"
   },
   "source": [
    "# Kafka MongoDB Real-time Streaming Kafka Consumer and MongoDB\n",
    "> Listening from kafka topic in real-time and storing in mongodb\n",
    "\n",
    "- toc: true\n",
    "- badges: true\n",
    "- comments: true\n",
    "- categories: [mongodb, kafka, real time]\n",
    "- image: "
   ]
  },
  {
   "cell_type": "code",
   "execution_count": 7,
   "metadata": {
    "id": "eqHjK5UbBEqK"
   },
   "outputs": [],
   "source": [
    "!pip install confluent_kafka -q"
   ]
  },
  {
   "cell_type": "code",
   "execution_count": 8,
   "metadata": {
    "id": "ppjOFhRnCTJu"
   },
   "outputs": [],
   "source": [
    "import json\n",
    "import sys\n",
    "import os\n",
    "import pandas as pd\n",
    "\n",
    "from confluent_kafka import Producer\n",
    "from confluent_kafka import Consumer, KafkaException, KafkaError"
   ]
  },
  {
   "cell_type": "markdown",
   "metadata": {
    "id": "9mHX3NBGLTMb"
   },
   "source": [
    "### Consumer Setup [notebook]"
   ]
  },
  {
   "cell_type": "code",
   "execution_count": 9,
   "metadata": {
    "id": "RXBtNbCTJZb2"
   },
   "outputs": [],
   "source": [
    "CLOUDKARAFKA_TOPIC = 'yx03wajr-demo'\n",
    "CLOUDKARAFKA_BROKERS = 'dory-01.srvs.cloudkafka.com:9094, \\\n",
    "dory-02.srvs.cloudkafka.com:9094, \\\n",
    "dory-03.srvs.cloudkafka.com:9094'\n",
    "CLOUDKARAFKA_USERNAME = 'yx03wajr'\n",
    "CLOUDKARAFKA_PASSWORD = 'pHva0afDUXPya6JfKrbM1j549G*****'"
   ]
  },
  {
   "cell_type": "code",
   "execution_count": 10,
   "metadata": {
    "id": "lAYgDcRZLf9f"
   },
   "outputs": [],
   "source": [
    "topics = CLOUDKARAFKA_TOPIC.split(\",\")\n",
    "\n",
    "# Consumer configuration\n",
    "conf = {\n",
    "    'bootstrap.servers': CLOUDKARAFKA_BROKERS,\n",
    "    'group.id': \"%s-consumer\" % CLOUDKARAFKA_USERNAME,\n",
    "    'session.timeout.ms': 6000,\n",
    "    'default.topic.config': {'auto.offset.reset': 'smallest'},\n",
    "    'security.protocol': 'SASL_SSL',\n",
    "    'sasl.mechanisms': 'SCRAM-SHA-256',\n",
    "    'sasl.username': CLOUDKARAFKA_USERNAME,\n",
    "    'sasl.password': CLOUDKARAFKA_PASSWORD\n",
    "}"
   ]
  },
  {
   "cell_type": "code",
   "execution_count": 11,
   "metadata": {
    "id": "kQZv-OBALWR_"
   },
   "outputs": [],
   "source": [
    "c = Consumer(**conf)\n",
    "c.subscribe(topics)"
   ]
  },
  {
   "cell_type": "code",
   "execution_count": 12,
   "metadata": {
    "colab": {
     "base_uri": "https://localhost:8080/"
    },
    "id": "QLo8xNhFKYrf",
    "outputId": "0ceb91f4-842e-4e25-9df0-da503db8aed5"
   },
   "outputs": [
    {
     "name": "stdout",
     "output_type": "stream",
     "text": [
      "1\n",
      "2\n",
      "3\n",
      "4\n",
      "5\n"
     ]
    },
    {
     "name": "stderr",
     "output_type": "stream",
     "text": [
      "% yx03wajr-demo [0] at offset 0 with key None:\n",
      "% yx03wajr-demo [0] at offset 1 with key None:\n",
      "% yx03wajr-demo [0] at offset 2 with key None:\n",
      "% yx03wajr-demo [0] at offset 3 with key None:\n",
      "% yx03wajr-demo [0] at offset 4 with key None:\n"
     ]
    },
    {
     "name": "stdout",
     "output_type": "stream",
     "text": [
      "b\"{'movieId': 2, 'title': 'Jumanji (1995)', 'genres': 'Adventure|Children|Fantasy'}\"\n",
      "6\n",
      "b\"{'movieId': 5, 'title': 'Father of the Bride Part II (1995)', 'genres': 'Comedy'}\"\n",
      "7\n",
      "b\"{'movieId': 3, 'title': 'Grumpier Old Men (1995)', 'genres': 'Comedy|Romance'}\"\n",
      "8\n",
      "b\"{'movieId': 4, 'title': 'Waiting to Exhale (1995)', 'genres': 'Comedy|Drama|Romance'}\"\n",
      "9\n",
      "b\"{'movieId': 5, 'title': 'Father of the Bride Part II (1995)', 'genres': 'Comedy'}\"\n",
      "10\n",
      "b\"{'movieId': 4, 'title': 'Waiting to Exhale (1995)', 'genres': 'Comedy|Drama|Romance'}\"\n"
     ]
    },
    {
     "name": "stderr",
     "output_type": "stream",
     "text": [
      "% yx03wajr-demo [1] at offset 0 with key None:\n"
     ]
    }
   ],
   "source": [
    "# while True:\n",
    "for i in range(10):\n",
    "  i+=1\n",
    "  print(i)\n",
    "  msg = c.poll(timeout=1.0)\n",
    "  if msg is None:\n",
    "      continue\n",
    "  if msg.error():\n",
    "      # Error or event\n",
    "      if msg.error().code() == KafkaError._PARTITION_EOF:\n",
    "          # End of partition event\n",
    "          sys.stderr.write('%% %s [%d] reached end at offset %d\\n' %\n",
    "                            (msg.topic(), msg.partition(), msg.offset()))\n",
    "      elif msg.error():\n",
    "          # Error\n",
    "          raise KafkaException(msg.error())\n",
    "  else:\n",
    "      # Proper message\n",
    "      sys.stderr.write('%% %s [%d] at offset %d with key %s:\\n' %\n",
    "                        (msg.topic(), msg.partition(), msg.offset(),\n",
    "                        str(msg.key())))\n",
    "      print(msg.value())\n",
    "\n",
    "c.close()"
   ]
  },
  {
   "cell_type": "markdown",
   "metadata": {
    "id": "DOslXBsRTGP_"
   },
   "source": [
    "### Consumer Setup [terminal]"
   ]
  },
  {
   "cell_type": "code",
   "execution_count": 14,
   "metadata": {
    "colab": {
     "base_uri": "https://localhost:8080/"
    },
    "id": "A7C7RJnOL6qK",
    "outputId": "9e24943e-be6b-443e-e207-642bcc9e0207"
   },
   "outputs": [
    {
     "name": "stdout",
     "output_type": "stream",
     "text": [
      "Writing consumer.py\n"
     ]
    }
   ],
   "source": [
    "%%writefile consumer.py\n",
    "\n",
    "import sys\n",
    "import os\n",
    "\n",
    "from confluent_kafka import Consumer, KafkaException, KafkaError\n",
    "\n",
    "\n",
    "CLOUDKARAFKA_TOPIC = 'yx03wajr-demo'\n",
    "CLOUDKARAFKA_BROKERS = 'dory-01.srvs.cloudkafka.com:9094, \\\n",
    "dory-02.srvs.cloudkafka.com:9094, \\\n",
    "dory-03.srvs.cloudkafka.com:9094'\n",
    "CLOUDKARAFKA_USERNAME = 'yx03wajr'\n",
    "CLOUDKARAFKA_PASSWORD = 'pHva0afDUXPya6JfKrbM1j549G*****'\n",
    "\n",
    "if __name__ == '__main__':\n",
    "    topics = CLOUDKARAFKA_TOPIC.split(\",\")\n",
    "\n",
    "    # Consumer configuration\n",
    "    # See https://github.com/edenhill/librdkafka/blob/master/CONFIGURATION.md\n",
    "    conf = {\n",
    "        'bootstrap.servers': CLOUDKARAFKA_BROKERS,\n",
    "        'group.id': \"%s-consumer\" % CLOUDKARAFKA_USERNAME,\n",
    "        'session.timeout.ms': 6000,\n",
    "        'default.topic.config': {'auto.offset.reset': 'smallest'},\n",
    "        'security.protocol': 'SASL_SSL',\n",
    "        'sasl.mechanisms': 'SCRAM-SHA-256',\n",
    "        'sasl.username': CLOUDKARAFKA_USERNAME,\n",
    "        'sasl.password': CLOUDKARAFKA_PASSWORD\n",
    "    }\n",
    "\n",
    "    c = Consumer(**conf)\n",
    "    c.subscribe(topics)\n",
    "    try:\n",
    "        while True:\n",
    "            msg = c.poll(timeout=1.0)\n",
    "            if msg is None:\n",
    "                continue\n",
    "            if msg.error():\n",
    "                # Error or event\n",
    "                if msg.error().code() == KafkaError._PARTITION_EOF:\n",
    "                    # End of partition event\n",
    "                    sys.stderr.write('%% %s [%d] reached end at offset %d\\n' %\n",
    "                                     (msg.topic(), msg.partition(), msg.offset()))\n",
    "                elif msg.error():\n",
    "                    # Error\n",
    "                    raise KafkaException(msg.error())\n",
    "            else:\n",
    "                # Proper message\n",
    "                sys.stderr.write('%% %s [%d] at offset %d with key %s:\\n' %\n",
    "                                 (msg.topic(), msg.partition(), msg.offset(),\n",
    "                                  str(msg.key())))\n",
    "                print(msg.value())\n",
    "\n",
    "    except KeyboardInterrupt:\n",
    "        sys.stderr.write('%% Aborted by user\\n')\n",
    "\n",
    "    # Close down consumer to commit final offsets.\n",
    "    c.close()"
   ]
  },
  {
   "cell_type": "code",
   "execution_count": null,
   "metadata": {
    "colab": {
     "base_uri": "https://localhost:8080/"
    },
    "id": "kdTMz6JyTQyy",
    "outputId": "5c37503a-6f65-44d3-c8ec-48f3cf91b30d"
   },
   "outputs": [
    {
     "name": "stdout",
     "output_type": "stream",
     "text": [
      "% 2nizjcn5-movielens [1] at offset 4 with key None:\n",
      "b'Transporter | click'\n",
      "%% Aborted by user\n"
     ]
    }
   ],
   "source": [
    "!python consumer.py"
   ]
  },
  {
   "cell_type": "markdown",
   "metadata": {
    "id": "E9fHshxUdrS2"
   },
   "source": [
    "### MongoDB Setup"
   ]
  },
  {
   "cell_type": "code",
   "execution_count": 15,
   "metadata": {
    "colab": {
     "base_uri": "https://localhost:8080/"
    },
    "id": "abIKLu67dq65",
    "outputId": "7fed633c-53fb-4bc3-90c5-7a923c165b42"
   },
   "outputs": [
    {
     "name": "stdout",
     "output_type": "stream",
     "text": [
      "Uninstalling pymongo-3.11.4:\n",
      "  Would remove:\n",
      "    /usr/local/lib/python3.7/dist-packages/bson/*\n",
      "    /usr/local/lib/python3.7/dist-packages/gridfs/*\n",
      "    /usr/local/lib/python3.7/dist-packages/pymongo-3.11.4.dist-info/*\n",
      "    /usr/local/lib/python3.7/dist-packages/pymongo/*\n",
      "Proceed (y/n)? y\n",
      "  Successfully uninstalled pymongo-3.11.4\n",
      "Collecting pymongo[srv]\n",
      "\u001b[?25l  Downloading https://files.pythonhosted.org/packages/b1/29/c0c8791ba972456f8aa3f027af33206499bc9f52a948e0d9c10909339b3c/pymongo-3.11.4-cp37-cp37m-manylinux2014_x86_64.whl (512kB)\n",
      "\u001b[K     |████████████████████████████████| 522kB 7.8MB/s \n",
      "\u001b[?25hCollecting dnspython<2.0.0,>=1.16.0; extra == \"srv\"\n",
      "\u001b[?25l  Downloading https://files.pythonhosted.org/packages/ec/d3/3aa0e7213ef72b8585747aa0e271a9523e713813b9a20177ebe1e939deb0/dnspython-1.16.0-py2.py3-none-any.whl (188kB)\n",
      "\u001b[K     |████████████████████████████████| 194kB 13.9MB/s \n",
      "\u001b[?25hInstalling collected packages: dnspython, pymongo\n",
      "Successfully installed dnspython-1.16.0 pymongo-3.11.4\n"
     ]
    }
   ],
   "source": [
    "!pip uninstall pymongo\n",
    "!pip install pymongo[srv]"
   ]
  },
  {
   "cell_type": "code",
   "execution_count": 28,
   "metadata": {
    "id": "K2TRWDWs5IVt"
   },
   "outputs": [],
   "source": [
    "MONGODB_USER = 'kafka-demo'\n",
    "MONGODB_PASSWORD = '<your-pass>'\n",
    "MONGODB_CLUSTER = 'cluster0.ca4wh.mongodb.net'\n",
    "MONGODB_DATABASE = 'movielens'"
   ]
  },
  {
   "cell_type": "code",
   "execution_count": 29,
   "metadata": {
    "id": "fpSqox-OX54F"
   },
   "outputs": [],
   "source": [
    "import pymongo\n",
    "import urllib \n",
    "\n",
    "mongo_uri = f\"mongodb+srv://{MONGODB_USER}:{MONGODB_PASSWORD}@{MONGODB_CLUSTER}/{MONGODB_DATABASE}?retryWrites=true&w=majority\"\n",
    "client = pymongo.MongoClient(mongo_uri)"
   ]
  },
  {
   "cell_type": "code",
   "execution_count": 31,
   "metadata": {
    "colab": {
     "base_uri": "https://localhost:8080/"
    },
    "id": "F-pbkwAukbVx",
    "outputId": "e8f63ddb-0cba-4939-92c3-f99ba400c2d3"
   },
   "outputs": [
    {
     "data": {
      "text/plain": [
       "['movies']"
      ]
     },
     "execution_count": 31,
     "metadata": {
      "tags": []
     },
     "output_type": "execute_result"
    }
   ],
   "source": [
    "mydb = client[\"movielens\"]\n",
    "mydb.list_collection_names()"
   ]
  },
  {
   "cell_type": "code",
   "execution_count": 30,
   "metadata": {
    "colab": {
     "base_uri": "https://localhost:8080/"
    },
    "id": "FUlch4VvmQFf",
    "outputId": "3e25cff4-3a14-4044-c55a-5af3bd98539a"
   },
   "outputs": [
    {
     "data": {
      "text/plain": [
       "['movielens', 'admin', 'local']"
      ]
     },
     "execution_count": 30,
     "metadata": {
      "tags": []
     },
     "output_type": "execute_result"
    }
   ],
   "source": [
    "client.list_database_names()"
   ]
  },
  {
   "cell_type": "code",
   "execution_count": 32,
   "metadata": {
    "id": "iNsVjxr8mXXX"
   },
   "outputs": [],
   "source": [
    "movies = mydb.movies"
   ]
  },
  {
   "cell_type": "code",
   "execution_count": 33,
   "metadata": {
    "colab": {
     "base_uri": "https://localhost:8080/"
    },
    "id": "JIzwhu6qmhb8",
    "outputId": "d3071aad-2fc5-4836-fc51-da3767408c63"
   },
   "outputs": [
    {
     "data": {
      "text/plain": [
       "<pymongo.results.InsertOneResult at 0x7f6cf017b820>"
      ]
     },
     "execution_count": 33,
     "metadata": {
      "tags": []
     },
     "output_type": "execute_result"
    }
   ],
   "source": [
    "result = movies.insert_one({'movieId': 3, 'title': 'Grumpier Old Men (1995)', 'genres': 'Comedy|Romance'})\n",
    "result"
   ]
  },
  {
   "cell_type": "code",
   "execution_count": 34,
   "metadata": {
    "colab": {
     "base_uri": "https://localhost:8080/"
    },
    "id": "h2VDDAqNhZvF",
    "outputId": "80ff7a7a-c562-489e-f9e4-e32a43a06457"
   },
   "outputs": [
    {
     "name": "stdout",
     "output_type": "stream",
     "text": [
      "One movie: 60c39abe413cf49529925bf4\n"
     ]
    }
   ],
   "source": [
    "print(f\"One movie: {result.inserted_id}\")"
   ]
  },
  {
   "cell_type": "code",
   "execution_count": 35,
   "metadata": {
    "colab": {
     "base_uri": "https://localhost:8080/"
    },
    "id": "bFLfB7CGvXFR",
    "outputId": "629cd933-85e1-46a5-92cb-6f8fc7711a2b"
   },
   "outputs": [
    {
     "name": "stdout",
     "output_type": "stream",
     "text": [
      "60c39ac1413cf49529925bf5\n"
     ]
    }
   ],
   "source": [
    "# single-line command to insert record\n",
    "print(client.movielens.movies.insert_one({'movieId':5, 'title':'Bride', 'genres':'Comedy'}).inserted_id)"
   ]
  },
  {
   "cell_type": "code",
   "execution_count": 36,
   "metadata": {
    "colab": {
     "base_uri": "https://localhost:8080/"
    },
    "id": "r2sOG1h_hZqr",
    "outputId": "ffb4618d-9917-40aa-ede9-7ef20954042f"
   },
   "outputs": [
    {
     "name": "stdout",
     "output_type": "stream",
     "text": [
      "Multiple movies: [ObjectId('60c39ac3413cf49529925bf6'), ObjectId('60c39ac3413cf49529925bf7')]\n"
     ]
    }
   ],
   "source": [
    "movie2 = {'movieId': 2, 'title': 'Jumanji (1995)', 'genres': 'Adventure|Children|Fantasy'}\n",
    "movie3 = {'movieId': 3, 'title': 'Grumpier Old Men (1995)', 'genres': 'Comedy|Romance'}\n",
    "\n",
    "new_result = movies.insert_many([movie2, movie3])\n",
    "print(f\"Multiple movies: {new_result.inserted_ids}\")"
   ]
  },
  {
   "cell_type": "code",
   "execution_count": 37,
   "metadata": {
    "colab": {
     "base_uri": "https://localhost:8080/"
    },
    "id": "Ud9mkOYqnTcC",
    "outputId": "32960e28-7b2a-409f-8745-6bdd52a4f0e0"
   },
   "outputs": [
    {
     "name": "stdout",
     "output_type": "stream",
     "text": [
      "{'_id': ObjectId('60c39abe413cf49529925bf4'),\n",
      " 'genres': 'Comedy|Romance',\n",
      " 'movieId': 3,\n",
      " 'title': 'Grumpier Old Men (1995)'}\n",
      "{'_id': ObjectId('60c39ac1413cf49529925bf5'),\n",
      " 'genres': 'Comedy',\n",
      " 'movieId': 5,\n",
      " 'title': 'Bride'}\n",
      "{'_id': ObjectId('60c39ac3413cf49529925bf6'),\n",
      " 'genres': 'Adventure|Children|Fantasy',\n",
      " 'movieId': 2,\n",
      " 'title': 'Jumanji (1995)'}\n",
      "{'_id': ObjectId('60c39ac3413cf49529925bf7'),\n",
      " 'genres': 'Comedy|Romance',\n",
      " 'movieId': 3,\n",
      " 'title': 'Grumpier Old Men (1995)'}\n"
     ]
    }
   ],
   "source": [
    "import pprint\n",
    "\n",
    "for doc in movies.find():\n",
    "  pprint.pprint(doc)"
   ]
  },
  {
   "cell_type": "code",
   "execution_count": 38,
   "metadata": {
    "colab": {
     "base_uri": "https://localhost:8080/"
    },
    "id": "6o5C_7kxnbGW",
    "outputId": "a879b8ca-224d-427a-f97d-7df8375fc453"
   },
   "outputs": [
    {
     "name": "stdout",
     "output_type": "stream",
     "text": [
      "Overwriting consumer.py\n"
     ]
    }
   ],
   "source": [
    "%%writefile consumer.py\n",
    "\n",
    "import sys\n",
    "import os\n",
    "\n",
    "from confluent_kafka import Consumer, KafkaException, KafkaError\n",
    "import pymongo\n",
    "\n",
    "CLOUDKARAFKA_TOPIC = 'yx03wajr-demo'\n",
    "CLOUDKARAFKA_BROKERS = 'dory-01.srvs.cloudkafka.com:9094, \\\n",
    "dory-02.srvs.cloudkafka.com:9094, \\\n",
    "dory-03.srvs.cloudkafka.com:9094'\n",
    "CLOUDKARAFKA_USERNAME = 'yx03wajr'\n",
    "CLOUDKARAFKA_PASSWORD = 'pHva0afDUXPya6JfKrbM1j549G*****'\n",
    "\n",
    "MONGODB_USER = 'kafka-demo'\n",
    "MONGODB_PASSWORD = '<your-pass>'\n",
    "MONGODB_CLUSTER = 'cluster0.ca4wh.mongodb.net'\n",
    "MONGODB_DATABASE = 'movielens'\n",
    "\n",
    "mongo_uri = f\"mongodb+srv://{MONGODB_USER}:{MONGODB_PASSWORD}@{MONGODB_CLUSTER}/{MONGODB_DATABASE}?retryWrites=true&w=majority\"\n",
    "client = pymongo.MongoClient(mongo_uri)\n",
    "mydb = client[MONGODB_DATABASE]\n",
    "movies = mydb.movies\n",
    "\n",
    "if __name__ == '__main__':\n",
    "    topics = CLOUDKARAFKA_TOPIC.split(\",\")\n",
    "\n",
    "    # Consumer configuration\n",
    "    # See https://github.com/edenhill/librdkafka/blob/master/CONFIGURATION.md\n",
    "    conf = {\n",
    "        'bootstrap.servers': CLOUDKARAFKA_BROKERS,\n",
    "        'group.id': \"%s-consumer\" % CLOUDKARAFKA_USERNAME,\n",
    "        'session.timeout.ms': 6000,\n",
    "        'default.topic.config': {'auto.offset.reset': 'smallest'},\n",
    "        'security.protocol': 'SASL_SSL',\n",
    "        'sasl.mechanisms': 'SCRAM-SHA-256',\n",
    "        'sasl.username': CLOUDKARAFKA_USERNAME,\n",
    "        'sasl.password': CLOUDKARAFKA_PASSWORD\n",
    "    }\n",
    "\n",
    "    c = Consumer(**conf)\n",
    "    c.subscribe(topics)\n",
    "    try:\n",
    "        while True:\n",
    "            msg = c.poll(timeout=1.0)\n",
    "            if msg is None:\n",
    "                continue\n",
    "            if msg.error():\n",
    "                # Error or event\n",
    "                if msg.error().code() == KafkaError._PARTITION_EOF:\n",
    "                    # End of partition event\n",
    "                    sys.stderr.write('%% %s [%d] reached end at offset %d\\n' %\n",
    "                                     (msg.topic(), msg.partition(), msg.offset()))\n",
    "                elif msg.error():\n",
    "                    # Error\n",
    "                    raise KafkaException(msg.error())\n",
    "            else:\n",
    "                # Proper message\n",
    "                sys.stderr.write('%% %s [%d] at offset %d with key %s:\\n' %\n",
    "                                 (msg.topic(), msg.partition(), msg.offset(),\n",
    "                                  str(msg.key())))\n",
    "                print(msg.value())\n",
    "                try:\n",
    "                  movies.insert_one(eval(msg.value().decode('utf-8')))\n",
    "                except:\n",
    "                  movies.insert_one({\"err_flag\":True, \"msg\":str(msg.value())})\n",
    "\n",
    "    except KeyboardInterrupt:\n",
    "        sys.stderr.write('%% Aborted by user\\n')\n",
    "\n",
    "    # Close down consumer to commit final offsets.\n",
    "    c.close()"
   ]
  },
  {
   "cell_type": "code",
   "execution_count": null,
   "metadata": {
    "colab": {
     "base_uri": "https://localhost:8080/"
    },
    "id": "FMAspFyRoVKq",
    "outputId": "f08c8f0a-45d4-4404-acf5-9bc17a5311e6"
   },
   "outputs": [
    {
     "name": "stdout",
     "output_type": "stream",
     "text": [
      "% yx03wajr-demo [2] at offset 4 with key None:\n",
      "b\"{'movieId': 3, 'title': 'Grumpier Old Men (1995)', 'genres': 'Comedy|Romance'}\"\n"
     ]
    }
   ],
   "source": [
    "!python consumer.py"
   ]
  }
 ],
 "metadata": {
  "colab": {
   "authorship_tag": "ABX9TyMrVW2o8nPLkMVpbt+rEslN",
   "collapsed_sections": [],
   "mount_file_id": "1exWIyKn6MMduY39xM40HLNFAxKxnwIKV",
   "name": "2021-06-11-recostep-kafka-consumer-mongodb.ipynb",
   "provenance": []
  },
  "kernelspec": {
   "display_name": "Python 3",
   "language": "python",
   "name": "python3"
  },
  "language_info": {
   "codemirror_mode": {
    "name": "ipython",
    "version": 3
   },
   "file_extension": ".py",
   "mimetype": "text/x-python",
   "name": "python",
   "nbconvert_exporter": "python",
   "pygments_lexer": "ipython3",
   "version": "3.7.3"
  }
 },
 "nbformat": 4,
 "nbformat_minor": 4
}
