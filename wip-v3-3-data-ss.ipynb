{
 "metadata": {
  "language_info": {
   "codemirror_mode": {
    "name": "ipython",
    "version": 3
   },
   "file_extension": ".py",
   "mimetype": "text/x-python",
   "name": "python",
   "nbconvert_exporter": "python",
   "pygments_lexer": "ipython3",
   "version": "3.8.5-final"
  },
  "orig_nbformat": 2,
  "kernelspec": {
   "name": "python_defaultSpec_1600126418091",
   "display_name": "Python 3.8.5 64-bit ('venv': venv)"
  }
 },
 "nbformat": 4,
 "nbformat_minor": 2,
 "cells": [
  {
   "cell_type": "code",
   "execution_count": 1,
   "metadata": {},
   "outputs": [],
   "source": [
    "path = '.'"
   ]
  },
  {
   "cell_type": "code",
   "execution_count": 2,
   "metadata": {},
   "outputs": [],
   "source": [
    "import os\n",
    "import numpy as np\n",
    "import pandas as pd\n",
    "\n",
    "import pickle\n",
    "from sklearn import preprocessing\n",
    "from sklearn.preprocessing import MinMaxScaler, StandardScaler\n",
    "import category_encoders as ce"
   ]
  },
  {
   "cell_type": "code",
   "execution_count": 3,
   "metadata": {
    "tags": []
   },
   "outputs": [
    {
     "output_type": "stream",
     "name": "stdout",
     "text": "<class 'pandas.core.frame.DataFrame'>\nRangeIndex: 169708 entries, 0 to 169707\nData columns (total 5 columns):\n #   Column    Non-Null Count   Dtype  \n---  ------    --------------   -----  \n 0   order_id  169708 non-null  object \n 1   userid    169708 non-null  object \n 2   class     169708 non-null  int64  \n 3   age       169350 non-null  float64\n 4   clientId  169708 non-null  object \ndtypes: float64(1), int64(1), object(3)\nmemory usage: 6.5+ MB\n"
    }
   ],
   "source": [
    "orders_df = pd.read_csv(os.path.join(path,'orders.csv'), header=0, dtype={'order_id': 'str', 'clientId': 'str'})\n",
    "orders_df.info()"
   ]
  },
  {
   "cell_type": "code",
   "execution_count": 4,
   "metadata": {
    "tags": []
   },
   "outputs": [
    {
     "output_type": "stream",
     "name": "stdout",
     "text": "<class 'pandas.core.frame.DataFrame'>\nRangeIndex: 9564308 entries, 0 to 9564307\nData columns (total 24 columns):\n #   Column                    Dtype              \n---  ------                    -----              \n 0   @timestamp                datetime64[ns, UTC]\n 1   order_id                  object             \n 2   sessionId                 object             \n 3   screenResolution          object             \n 4   viewportSize              object             \n 5   screenColors              object             \n 6   lclt                      object             \n 7   lcng                      object             \n 8   hitType                   object             \n 9   eventCategory             object             \n 10  eventAction               object             \n 11  referrer                  object             \n 12  value                     float64            \n 13  headers.http_user_agent   object             \n 14  headers.x_forwarded_for   object             \n 15  headers.clientip          object             \n 16  headers.client_ip         object             \n 17  headers.x_requested_with  object             \n 18  headers.x_ucbrowser_ua    object             \n 19  items.id                  object             \n 20  items.quantity            float64            \n 21  items.variant             object             \n 22  items.price               float64            \n 23  items.category            object             \ndtypes: datetime64[ns, UTC](1), float64(3), object(20)\nmemory usage: 1.7+ GB\n"
    }
   ],
   "source": [
    "events_df = pd.read_csv(os.path.join(path,'events.csv'), header=0, dtype={'order_id': 'str', 'clientId': 'str'}, parse_dates=['@timestamp'])\n",
    "# events_df = events_df.head(100000)\n",
    "events_df.info()"
   ]
  },
  {
   "cell_type": "code",
   "execution_count": 5,
   "metadata": {},
   "outputs": [],
   "source": [
    "def preprocess_orders(ao):\n",
    "  ao = ao.drop_duplicates(subset=['order_id'], keep='last')\n",
    "  ao['order_id'] = ao['order_id'].astype('str')\n",
    "  ao['class'] = ao['class'].astype('str')\n",
    "  ao['age'] = ao['age'].astype('float').fillna(ao['age'].mean()).round(2)\n",
    "  return ao"
   ]
  },
  {
   "cell_type": "code",
   "execution_count": 6,
   "metadata": {},
   "outputs": [
    {
     "output_type": "execute_result",
     "data": {
      "text/plain": "  order_id userid class  age clientId\n0    OxWZY   3KBV     0  1.2  M7Dnqzw\n1    kw6yN   3KBV     0  1.2  GL97Pdp\n4    br867   3KBV     0  1.2  j9PqmkG\n6    ndE51   3KBV     0  1.2  4Ojk768\n8    2w5lG   3KBV     0  1.2  4Ojk768",
      "text/html": "<div>\n<style scoped>\n    .dataframe tbody tr th:only-of-type {\n        vertical-align: middle;\n    }\n\n    .dataframe tbody tr th {\n        vertical-align: top;\n    }\n\n    .dataframe thead th {\n        text-align: right;\n    }\n</style>\n<table border=\"1\" class=\"dataframe\">\n  <thead>\n    <tr style=\"text-align: right;\">\n      <th></th>\n      <th>order_id</th>\n      <th>userid</th>\n      <th>class</th>\n      <th>age</th>\n      <th>clientId</th>\n    </tr>\n  </thead>\n  <tbody>\n    <tr>\n      <th>0</th>\n      <td>OxWZY</td>\n      <td>3KBV</td>\n      <td>0</td>\n      <td>1.2</td>\n      <td>M7Dnqzw</td>\n    </tr>\n    <tr>\n      <th>1</th>\n      <td>kw6yN</td>\n      <td>3KBV</td>\n      <td>0</td>\n      <td>1.2</td>\n      <td>GL97Pdp</td>\n    </tr>\n    <tr>\n      <th>4</th>\n      <td>br867</td>\n      <td>3KBV</td>\n      <td>0</td>\n      <td>1.2</td>\n      <td>j9PqmkG</td>\n    </tr>\n    <tr>\n      <th>6</th>\n      <td>ndE51</td>\n      <td>3KBV</td>\n      <td>0</td>\n      <td>1.2</td>\n      <td>4Ojk768</td>\n    </tr>\n    <tr>\n      <th>8</th>\n      <td>2w5lG</td>\n      <td>3KBV</td>\n      <td>0</td>\n      <td>1.2</td>\n      <td>4Ojk768</td>\n    </tr>\n  </tbody>\n</table>\n</div>"
     },
     "metadata": {},
     "execution_count": 6
    }
   ],
   "source": [
    "orders_dfx = preprocess_orders(orders_df)\n",
    "orders_dfx.head()"
   ]
  },
  {
   "cell_type": "code",
   "execution_count": 7,
   "metadata": {},
   "outputs": [],
   "source": [
    "def preprocess_events(df):\n",
    "\n",
    "    TIMEOUT = 300\n",
    "    action_vals = ['add_to_cart', 'begin_checkout', 'checkout_progress', 'conversion', 'purchase', 'remove_from_cart', 'view_item', 'view_item_list']\n",
    "    df = df.loc[df.hitType == 'event']\n",
    "    df = df.loc[df.eventAction.isin(action_vals) ]\n",
    "\n",
    "    df_cols = ['@timestamp', 'order_id', 'eventAction', 'value', 'headers.http_user_agent', 'items.quantity', 'items.category', 'items.price']\n",
    "\n",
    "    df = df[df_cols]\n",
    "\n",
    "    # sort by timestamp\n",
    "    df['@timestamp'] = pd.to_datetime(df['@timestamp'])\n",
    "    df = df.sort_values(by='@timestamp', ascending=False)\n",
    "\n",
    "    df['order_id'] = df['order_id'].fillna('undefined').astype('str')\n",
    "    df['eventAction'] = df['eventAction'].fillna('#')\n",
    "    df['items.category'] = df['items.category'].fillna('undefined')\n",
    "    df['items.quantity'] = df['items.quantity'].fillna(0).astype('int')\n",
    "    df['items.price'] = df['items.price'].fillna(0).astype('float')\n",
    "    df['value'] = df['value'].fillna(0).astype('int')\n",
    "    df['eventCount'] = 1\n",
    "    df['conversions'] = df['eventAction'].apply(lambda x: 1 if x == 'conversion' else 0 )\n",
    "\n",
    "    # aggregate events\n",
    "    from ua_parser import user_agent_parser\n",
    "\n",
    "    agg_df = df.groupby(['order_id'])['items.quantity', 'items.price', 'eventCount', 'conversions'].sum()\n",
    "    first_df = df.groupby(['order_id']).first()\n",
    "    first_df = first_df[['headers.http_user_agent']]\n",
    "    first_df['browser'] = first_df['headers.http_user_agent'].apply(lambda x: user_agent_parser.ParseUserAgent(x).get('family', 'unknown'))\n",
    "    first_df['os'] = first_df['headers.http_user_agent'].apply(lambda x: user_agent_parser.ParseOS(x).get('family', 'unknown'))\n",
    "    first_df['device'] = first_df['headers.http_user_agent'].apply(lambda x: user_agent_parser.ParseDevice(x).get('brand', 'unknown'))\n",
    "    first_df['device'] = first_df['device'].fillna('unknown').astype('str')\n",
    "\n",
    "    value_df = df.loc[df['eventAction'] == 'conversion'].groupby('order_id').first()['value']\n",
    "\n",
    "    agg_df = pd.merge(agg_df, first_df, on='order_id')\n",
    "    agg_df = pd.merge(agg_df, value_df, on='order_id')\n",
    "    agg_df.drop(columns=['headers.http_user_agent', 'items.price'], inplace=True)\n",
    "\n",
    "    # time dynamic variables\n",
    "    activity_df = df.copy()\n",
    "    activity_df = activity_df.sort_values(by='@timestamp', ascending=False)\n",
    "    activity_df['@timestamp'] = pd.to_datetime(activity_df['@timestamp'])\n",
    "    activity_df['hourofday'] = activity_df['@timestamp'].dt.hour\n",
    "    activity_df['dayofmonth'] = activity_df['@timestamp'].dt.day\n",
    "    activity_df['weekofyear'] = activity_df['@timestamp'].dt.week\n",
    "    #   activity_df['monthofyear'] = activity_df['@timestamp'].dt.month\n",
    "    # time delta\n",
    "    activity_df['timedelta'] = (activity_df.groupby('order_id')['@timestamp'].transform('max')-activity_df.groupby('order_id')['@timestamp'].transform('min'))\n",
    "    activity_df['timedelta'] = pd.to_timedelta(activity_df['timedelta'], unit='h').dt.components['hours']\n",
    "\n",
    "    activity_df['time_diff'] = activity_df.groupby('order_id')['@timestamp'].diff(periods=-1)\n",
    "    activity_df['time_spent'] = activity_df['time_diff']/np.timedelta64(1,'s')\n",
    "    activity_df['time_spent'] = activity_df['time_spent'].mask(activity_df['time_spent'].gt(TIMEOUT), TIMEOUT)\n",
    "    activity_df['time_spent'] =activity_df['time_spent'].fillna(0).astype('int')\n",
    "\n",
    "    activity_df = activity_df[['order_id', 'timedelta', 'hourofday', 'dayofmonth', 'weekofyear', 'time_spent', 'eventAction', 'items.category', 'items.price']]\n",
    "\n",
    "    return agg_df, activity_df"
   ]
  },
  {
   "cell_type": "code",
   "execution_count": 35,
   "metadata": {},
   "outputs": [],
   "source": [
    "agg_df, activity_df = preprocess_events(events_df)"
   ]
  },
  {
   "cell_type": "code",
   "execution_count": 36,
   "metadata": {},
   "outputs": [
    {
     "output_type": "execute_result",
     "data": {
      "text/plain": "          items.quantity  eventCount  conversions        browser       os  \\\norder_id                                                                    \n111zV                  1         101            1  Chrome Mobile  Android   \n1127Y                  2         103            1  Chrome Mobile  Android   \n1129B                  4          23            1      Instagram  Android   \n112RV                  1          20            1      Instagram  Android   \n112bB                  4          61            1  Chrome Mobile  Android   \n\n                   device  value  \norder_id                          \n111zV     Generic_Android    524  \n1127Y     Generic_Android   1462  \n1129B                vivo   2986  \n112RV                vivo    574  \n112bB     Generic_Android   1933  ",
      "text/html": "<div>\n<style scoped>\n    .dataframe tbody tr th:only-of-type {\n        vertical-align: middle;\n    }\n\n    .dataframe tbody tr th {\n        vertical-align: top;\n    }\n\n    .dataframe thead th {\n        text-align: right;\n    }\n</style>\n<table border=\"1\" class=\"dataframe\">\n  <thead>\n    <tr style=\"text-align: right;\">\n      <th></th>\n      <th>items.quantity</th>\n      <th>eventCount</th>\n      <th>conversions</th>\n      <th>browser</th>\n      <th>os</th>\n      <th>device</th>\n      <th>value</th>\n    </tr>\n    <tr>\n      <th>order_id</th>\n      <th></th>\n      <th></th>\n      <th></th>\n      <th></th>\n      <th></th>\n      <th></th>\n      <th></th>\n    </tr>\n  </thead>\n  <tbody>\n    <tr>\n      <th>111zV</th>\n      <td>1</td>\n      <td>101</td>\n      <td>1</td>\n      <td>Chrome Mobile</td>\n      <td>Android</td>\n      <td>Generic_Android</td>\n      <td>524</td>\n    </tr>\n    <tr>\n      <th>1127Y</th>\n      <td>2</td>\n      <td>103</td>\n      <td>1</td>\n      <td>Chrome Mobile</td>\n      <td>Android</td>\n      <td>Generic_Android</td>\n      <td>1462</td>\n    </tr>\n    <tr>\n      <th>1129B</th>\n      <td>4</td>\n      <td>23</td>\n      <td>1</td>\n      <td>Instagram</td>\n      <td>Android</td>\n      <td>vivo</td>\n      <td>2986</td>\n    </tr>\n    <tr>\n      <th>112RV</th>\n      <td>1</td>\n      <td>20</td>\n      <td>1</td>\n      <td>Instagram</td>\n      <td>Android</td>\n      <td>vivo</td>\n      <td>574</td>\n    </tr>\n    <tr>\n      <th>112bB</th>\n      <td>4</td>\n      <td>61</td>\n      <td>1</td>\n      <td>Chrome Mobile</td>\n      <td>Android</td>\n      <td>Generic_Android</td>\n      <td>1933</td>\n    </tr>\n  </tbody>\n</table>\n</div>"
     },
     "metadata": {},
     "execution_count": 36
    }
   ],
   "source": [
    "agg_df.head()"
   ]
  },
  {
   "cell_type": "code",
   "execution_count": 41,
   "metadata": {},
   "outputs": [
    {
     "output_type": "execute_result",
     "data": {
      "text/plain": "Apple                     16902\nGeneric_Android           13289\nXiaoMi                    12968\nSamsung                   11114\nvivo                       7189\nunknown                    3150\nOnePlus                    3002\nNokia                       529\nGeneric                     474\nAsus                        409\nHuawei                      376\nLenovo                      278\nMotorola                    247\nSpider                      226\nTecno                       142\nGionee                       97\nGoogle                       88\nInfinix                      69\nGeneric_Android_Tablet       36\nLG                           31\nHTC                          28\nCoolpad                      13\nOppo                         12\nIntex                         5\nPanasonic                     3\nMicromax                      2\nLava                          2\niBall                         1\nHP                            1\nSony                          1\nSonyEricsson                  1\nPipo                          1\nName: device, dtype: int64"
     },
     "metadata": {},
     "execution_count": 41
    }
   ],
   "source": [
    "agg_df['device'].value_counts()"
   ]
  },
  {
   "cell_type": "code",
   "execution_count": 42,
   "metadata": {},
   "outputs": [
    {
     "output_type": "execute_result",
     "data": {
      "text/plain": "Instagram                     25623\nChrome Mobile                 24557\nMobile Safari                  6732\nFacebook                       5096\nChrome                         3161\nMiuiBrowser                    1120\nChrome Mobile iOS              1064\nChrome Mobile WebView           766\nGoogle                          693\nSamsung Internet                566\nUC Browser                      434\nSafari                          251\nGooglebot                       226\nFirefox                         143\nOpera Mobile                    112\nEdge                             82\nOpera                            19\nFirefox Mobile                   16\nIE                               12\nMint Browser                      6\nMobile Safari UI/WKWebView        3\nPuffin                            1\nFirefox iOS                       1\nAndroid                           1\nOpera Mini                        1\nName: browser, dtype: int64"
     },
     "metadata": {},
     "execution_count": 42
    }
   ],
   "source": [
    "agg_df['browser'].value_counts()"
   ]
  },
  {
   "cell_type": "code",
   "execution_count": 43,
   "metadata": {},
   "outputs": [
    {
     "output_type": "execute_result",
     "data": {
      "text/plain": "Android      50408\niOS          16429\nWindows       3052\nMac OS X       473\nOther          226\nLinux           62\nChrome OS       28\nUbuntu           8\nName: os, dtype: int64"
     },
     "metadata": {},
     "execution_count": 43
    }
   ],
   "source": [
    "agg_df['os'].value_counts()"
   ]
  },
  {
   "cell_type": "code",
   "execution_count": 10,
   "metadata": {},
   "outputs": [
    {
     "output_type": "execute_result",
     "data": {
      "text/plain": "        order_id  timedelta  hourofday  dayofmonth  weekofyear  time_spent  \\\n5811679    1Xv8J          3         16           4          36         300   \n6156696    yno3O          1         19           2          36           0   \n6156692    yno3O          1         19           2          36           0   \n6156694    yno3O          1         19           2          36           0   \n6156690    yno3O          1         19           2          36           0   \n\n        eventAction items.category  items.price  \n5811679  conversion      undefined          0.0  \n6156696    purchase      undefined        399.0  \n6156692    purchase      undefined        499.0  \n6156694    purchase      undefined        399.0  \n6156690    purchase      undefined        499.0  ",
      "text/html": "<div>\n<style scoped>\n    .dataframe tbody tr th:only-of-type {\n        vertical-align: middle;\n    }\n\n    .dataframe tbody tr th {\n        vertical-align: top;\n    }\n\n    .dataframe thead th {\n        text-align: right;\n    }\n</style>\n<table border=\"1\" class=\"dataframe\">\n  <thead>\n    <tr style=\"text-align: right;\">\n      <th></th>\n      <th>order_id</th>\n      <th>timedelta</th>\n      <th>hourofday</th>\n      <th>dayofmonth</th>\n      <th>weekofyear</th>\n      <th>time_spent</th>\n      <th>eventAction</th>\n      <th>items.category</th>\n      <th>items.price</th>\n    </tr>\n  </thead>\n  <tbody>\n    <tr>\n      <th>5811679</th>\n      <td>1Xv8J</td>\n      <td>3</td>\n      <td>16</td>\n      <td>4</td>\n      <td>36</td>\n      <td>300</td>\n      <td>conversion</td>\n      <td>undefined</td>\n      <td>0.0</td>\n    </tr>\n    <tr>\n      <th>6156696</th>\n      <td>yno3O</td>\n      <td>1</td>\n      <td>19</td>\n      <td>2</td>\n      <td>36</td>\n      <td>0</td>\n      <td>purchase</td>\n      <td>undefined</td>\n      <td>399.0</td>\n    </tr>\n    <tr>\n      <th>6156692</th>\n      <td>yno3O</td>\n      <td>1</td>\n      <td>19</td>\n      <td>2</td>\n      <td>36</td>\n      <td>0</td>\n      <td>purchase</td>\n      <td>undefined</td>\n      <td>499.0</td>\n    </tr>\n    <tr>\n      <th>6156694</th>\n      <td>yno3O</td>\n      <td>1</td>\n      <td>19</td>\n      <td>2</td>\n      <td>36</td>\n      <td>0</td>\n      <td>purchase</td>\n      <td>undefined</td>\n      <td>399.0</td>\n    </tr>\n    <tr>\n      <th>6156690</th>\n      <td>yno3O</td>\n      <td>1</td>\n      <td>19</td>\n      <td>2</td>\n      <td>36</td>\n      <td>0</td>\n      <td>purchase</td>\n      <td>undefined</td>\n      <td>499.0</td>\n    </tr>\n  </tbody>\n</table>\n</div>"
     },
     "metadata": {},
     "execution_count": 10
    }
   ],
   "source": [
    "activity_df.head()"
   ]
  },
  {
   "cell_type": "code",
   "execution_count": 11,
   "metadata": {},
   "outputs": [],
   "source": [
    "ts_size = 50"
   ]
  },
  {
   "cell_type": "code",
   "execution_count": 12,
   "metadata": {},
   "outputs": [],
   "source": [
    "activity_df = activity_df.groupby('order_id').head(ts_size).set_index('order_id')"
   ]
  },
  {
   "cell_type": "code",
   "execution_count": 13,
   "metadata": {
    "tags": []
   },
   "outputs": [
    {
     "output_type": "execute_result",
     "data": {
      "text/plain": "          timedelta  hourofday  dayofmonth  weekofyear  time_spent  \\\norder_id                                                             \n1Xv8J             3         16           4          36         300   \nyno3O             1         19           2          36           0   \nyno3O             1         19           2          36           0   \nyno3O             1         19           2          36           0   \nyno3O             1         19           2          36           0   \n\n         eventAction items.category  items.price  \norder_id                                          \n1Xv8J     conversion      undefined          0.0  \nyno3O       purchase      undefined        399.0  \nyno3O       purchase      undefined        499.0  \nyno3O       purchase      undefined        399.0  \nyno3O       purchase      undefined        499.0  ",
      "text/html": "<div>\n<style scoped>\n    .dataframe tbody tr th:only-of-type {\n        vertical-align: middle;\n    }\n\n    .dataframe tbody tr th {\n        vertical-align: top;\n    }\n\n    .dataframe thead th {\n        text-align: right;\n    }\n</style>\n<table border=\"1\" class=\"dataframe\">\n  <thead>\n    <tr style=\"text-align: right;\">\n      <th></th>\n      <th>timedelta</th>\n      <th>hourofday</th>\n      <th>dayofmonth</th>\n      <th>weekofyear</th>\n      <th>time_spent</th>\n      <th>eventAction</th>\n      <th>items.category</th>\n      <th>items.price</th>\n    </tr>\n    <tr>\n      <th>order_id</th>\n      <th></th>\n      <th></th>\n      <th></th>\n      <th></th>\n      <th></th>\n      <th></th>\n      <th></th>\n      <th></th>\n    </tr>\n  </thead>\n  <tbody>\n    <tr>\n      <th>1Xv8J</th>\n      <td>3</td>\n      <td>16</td>\n      <td>4</td>\n      <td>36</td>\n      <td>300</td>\n      <td>conversion</td>\n      <td>undefined</td>\n      <td>0.0</td>\n    </tr>\n    <tr>\n      <th>yno3O</th>\n      <td>1</td>\n      <td>19</td>\n      <td>2</td>\n      <td>36</td>\n      <td>0</td>\n      <td>purchase</td>\n      <td>undefined</td>\n      <td>399.0</td>\n    </tr>\n    <tr>\n      <th>yno3O</th>\n      <td>1</td>\n      <td>19</td>\n      <td>2</td>\n      <td>36</td>\n      <td>0</td>\n      <td>purchase</td>\n      <td>undefined</td>\n      <td>499.0</td>\n    </tr>\n    <tr>\n      <th>yno3O</th>\n      <td>1</td>\n      <td>19</td>\n      <td>2</td>\n      <td>36</td>\n      <td>0</td>\n      <td>purchase</td>\n      <td>undefined</td>\n      <td>399.0</td>\n    </tr>\n    <tr>\n      <th>yno3O</th>\n      <td>1</td>\n      <td>19</td>\n      <td>2</td>\n      <td>36</td>\n      <td>0</td>\n      <td>purchase</td>\n      <td>undefined</td>\n      <td>499.0</td>\n    </tr>\n  </tbody>\n</table>\n</div>"
     },
     "metadata": {},
     "execution_count": 13
    }
   ],
   "source": [
    "activity_df.head()"
   ]
  },
  {
   "cell_type": "code",
   "execution_count": 14,
   "metadata": {},
   "outputs": [],
   "source": [
    "def attr_encoder(df):\n",
    "    scaler_value = StandardScaler()\n",
    "    le_browser = preprocessing.LabelEncoder()\n",
    "    le_os = preprocessing.LabelEncoder()\n",
    "    le_device = preprocessing.LabelEncoder()\n",
    "\n",
    "    le_browser.fit(df['browser'])\n",
    "    pickle.dump(le_browser, open('v3_3_le_browser.pkl', 'wb'))\n",
    "    le_os.fit(df['os'])\n",
    "    pickle.dump(le_os, open('v3_3_le_os.pkl', 'wb'))\n",
    "    le_device.fit(df['device'])\n",
    "    pickle.dump(le_device, open('v3_3_le_device.pkl', 'wb'))\n",
    "    \n",
    "    s_cols = ['items.quantity', 'value', 'eventCount']\n",
    "    scaler_value.fit(df[s_cols])\n",
    "    pickle.dump(scaler_value, open('v3_3_scaler_value.pkl', 'wb'))\n",
    "\n",
    "    df['browser'] = le_browser.transform(df['browser'])\n",
    "    df['os'] = le_os.transform(df['os'])\n",
    "    df['device'] = le_device.transform(df['device'])\n",
    "    df[s_cols] = scaler_value.transform(df[s_cols])\n",
    "    df['value'] = df['value'].round(2)\n",
    "\n",
    "    return df"
   ]
  },
  {
   "cell_type": "code",
   "execution_count": 15,
   "metadata": {},
   "outputs": [
    {
     "output_type": "execute_result",
     "data": {
      "text/plain": "          items.quantity  eventCount  conversions  browser  os  device  value\norder_id                                                                     \n111zV          -0.171502   -0.073124            1        2   0       4  -1.14\n1127Y          -0.140061   -0.062725            1        2   0       4   0.78\n1129B          -0.077179   -0.478708            1       13   0      31   3.90\n112RV          -0.171502   -0.494308            1       13   0      31  -1.04\n112bB          -0.077179   -0.281116            1        2   0       4   1.75",
      "text/html": "<div>\n<style scoped>\n    .dataframe tbody tr th:only-of-type {\n        vertical-align: middle;\n    }\n\n    .dataframe tbody tr th {\n        vertical-align: top;\n    }\n\n    .dataframe thead th {\n        text-align: right;\n    }\n</style>\n<table border=\"1\" class=\"dataframe\">\n  <thead>\n    <tr style=\"text-align: right;\">\n      <th></th>\n      <th>items.quantity</th>\n      <th>eventCount</th>\n      <th>conversions</th>\n      <th>browser</th>\n      <th>os</th>\n      <th>device</th>\n      <th>value</th>\n    </tr>\n    <tr>\n      <th>order_id</th>\n      <th></th>\n      <th></th>\n      <th></th>\n      <th></th>\n      <th></th>\n      <th></th>\n      <th></th>\n    </tr>\n  </thead>\n  <tbody>\n    <tr>\n      <th>111zV</th>\n      <td>-0.171502</td>\n      <td>-0.073124</td>\n      <td>1</td>\n      <td>2</td>\n      <td>0</td>\n      <td>4</td>\n      <td>-1.14</td>\n    </tr>\n    <tr>\n      <th>1127Y</th>\n      <td>-0.140061</td>\n      <td>-0.062725</td>\n      <td>1</td>\n      <td>2</td>\n      <td>0</td>\n      <td>4</td>\n      <td>0.78</td>\n    </tr>\n    <tr>\n      <th>1129B</th>\n      <td>-0.077179</td>\n      <td>-0.478708</td>\n      <td>1</td>\n      <td>13</td>\n      <td>0</td>\n      <td>31</td>\n      <td>3.90</td>\n    </tr>\n    <tr>\n      <th>112RV</th>\n      <td>-0.171502</td>\n      <td>-0.494308</td>\n      <td>1</td>\n      <td>13</td>\n      <td>0</td>\n      <td>31</td>\n      <td>-1.04</td>\n    </tr>\n    <tr>\n      <th>112bB</th>\n      <td>-0.077179</td>\n      <td>-0.281116</td>\n      <td>1</td>\n      <td>2</td>\n      <td>0</td>\n      <td>4</td>\n      <td>1.75</td>\n    </tr>\n  </tbody>\n</table>\n</div>"
     },
     "metadata": {},
     "execution_count": 15
    }
   ],
   "source": [
    "agg_dfx = attr_encoder(agg_df)\n",
    "agg_dfx.head()"
   ]
  },
  {
   "cell_type": "code",
   "execution_count": 16,
   "metadata": {},
   "outputs": [],
   "source": [
    "def ts_encoder(df):\n",
    "    df = pd.get_dummies(df, columns = ['eventAction'], drop_first=True)\n",
    "    scaler_price = StandardScaler()\n",
    "    # le_action = preprocessing.LabelEncoder()\n",
    "    # le_itemcat = preprocessing.LabelEncoder()\n",
    "    # le_action.fit(df['eventAction'])\n",
    "    # le_itemcat.fit(df['items.category'])\n",
    "    ts_cols = ['items.price', 'time_spent']\n",
    "    scaler_price.fit(df[ts_cols])\n",
    "    pickle.dump(scaler_price, open('v3_3_scaler_price.pkl', 'wb'))\n",
    "    # df['eventAction'] = le_action.transform(df['eventAction'])\n",
    "    # df['items.category'] = le_itemcat.transform(df['items.category'])\n",
    "    df[ts_cols] = scaler_price.transform(df[ts_cols])\n",
    "    df['items.price'] = df['items.price'].round(2)\n",
    "\n",
    "    return df"
   ]
  },
  {
   "cell_type": "code",
   "execution_count": 17,
   "metadata": {},
   "outputs": [
    {
     "output_type": "execute_result",
     "data": {
      "text/plain": "          timedelta  hourofday  dayofmonth  weekofyear  time_spent  \\\norder_id                                                             \n1Xv8J             3         16           4          36    3.956653   \nyno3O             1         19           2          36   -0.512666   \nyno3O             1         19           2          36   -0.512666   \nyno3O             1         19           2          36   -0.512666   \nyno3O             1         19           2          36   -0.512666   \n\n         items.category  items.price  eventAction_begin_checkout  \\\norder_id                                                           \n1Xv8J         undefined        -0.96                           0   \nyno3O         undefined         0.41                           0   \nyno3O         undefined         0.76                           0   \nyno3O         undefined         0.41                           0   \nyno3O         undefined         0.76                           0   \n\n          eventAction_checkout_progress  eventAction_conversion  \\\norder_id                                                          \n1Xv8J                                 0                       1   \nyno3O                                 0                       0   \nyno3O                                 0                       0   \nyno3O                                 0                       0   \nyno3O                                 0                       0   \n\n          eventAction_purchase  eventAction_remove_from_cart  \\\norder_id                                                       \n1Xv8J                        0                             0   \nyno3O                        1                             0   \nyno3O                        1                             0   \nyno3O                        1                             0   \nyno3O                        1                             0   \n\n          eventAction_view_item  eventAction_view_item_list  \norder_id                                                     \n1Xv8J                         0                           0  \nyno3O                         0                           0  \nyno3O                         0                           0  \nyno3O                         0                           0  \nyno3O                         0                           0  ",
      "text/html": "<div>\n<style scoped>\n    .dataframe tbody tr th:only-of-type {\n        vertical-align: middle;\n    }\n\n    .dataframe tbody tr th {\n        vertical-align: top;\n    }\n\n    .dataframe thead th {\n        text-align: right;\n    }\n</style>\n<table border=\"1\" class=\"dataframe\">\n  <thead>\n    <tr style=\"text-align: right;\">\n      <th></th>\n      <th>timedelta</th>\n      <th>hourofday</th>\n      <th>dayofmonth</th>\n      <th>weekofyear</th>\n      <th>time_spent</th>\n      <th>items.category</th>\n      <th>items.price</th>\n      <th>eventAction_begin_checkout</th>\n      <th>eventAction_checkout_progress</th>\n      <th>eventAction_conversion</th>\n      <th>eventAction_purchase</th>\n      <th>eventAction_remove_from_cart</th>\n      <th>eventAction_view_item</th>\n      <th>eventAction_view_item_list</th>\n    </tr>\n    <tr>\n      <th>order_id</th>\n      <th></th>\n      <th></th>\n      <th></th>\n      <th></th>\n      <th></th>\n      <th></th>\n      <th></th>\n      <th></th>\n      <th></th>\n      <th></th>\n      <th></th>\n      <th></th>\n      <th></th>\n      <th></th>\n    </tr>\n  </thead>\n  <tbody>\n    <tr>\n      <th>1Xv8J</th>\n      <td>3</td>\n      <td>16</td>\n      <td>4</td>\n      <td>36</td>\n      <td>3.956653</td>\n      <td>undefined</td>\n      <td>-0.96</td>\n      <td>0</td>\n      <td>0</td>\n      <td>1</td>\n      <td>0</td>\n      <td>0</td>\n      <td>0</td>\n      <td>0</td>\n    </tr>\n    <tr>\n      <th>yno3O</th>\n      <td>1</td>\n      <td>19</td>\n      <td>2</td>\n      <td>36</td>\n      <td>-0.512666</td>\n      <td>undefined</td>\n      <td>0.41</td>\n      <td>0</td>\n      <td>0</td>\n      <td>0</td>\n      <td>1</td>\n      <td>0</td>\n      <td>0</td>\n      <td>0</td>\n    </tr>\n    <tr>\n      <th>yno3O</th>\n      <td>1</td>\n      <td>19</td>\n      <td>2</td>\n      <td>36</td>\n      <td>-0.512666</td>\n      <td>undefined</td>\n      <td>0.76</td>\n      <td>0</td>\n      <td>0</td>\n      <td>0</td>\n      <td>1</td>\n      <td>0</td>\n      <td>0</td>\n      <td>0</td>\n    </tr>\n    <tr>\n      <th>yno3O</th>\n      <td>1</td>\n      <td>19</td>\n      <td>2</td>\n      <td>36</td>\n      <td>-0.512666</td>\n      <td>undefined</td>\n      <td>0.41</td>\n      <td>0</td>\n      <td>0</td>\n      <td>0</td>\n      <td>1</td>\n      <td>0</td>\n      <td>0</td>\n      <td>0</td>\n    </tr>\n    <tr>\n      <th>yno3O</th>\n      <td>1</td>\n      <td>19</td>\n      <td>2</td>\n      <td>36</td>\n      <td>-0.512666</td>\n      <td>undefined</td>\n      <td>0.76</td>\n      <td>0</td>\n      <td>0</td>\n      <td>0</td>\n      <td>1</td>\n      <td>0</td>\n      <td>0</td>\n      <td>0</td>\n    </tr>\n  </tbody>\n</table>\n</div>"
     },
     "metadata": {},
     "execution_count": 17
    }
   ],
   "source": [
    "activity_df = ts_encoder(activity_df)\n",
    "activity_df.head()"
   ]
  },
  {
   "cell_type": "code",
   "execution_count": 18,
   "metadata": {},
   "outputs": [
    {
     "output_type": "execute_result",
     "data": {
      "text/plain": "timedelta                          int64\nhourofday                          int64\ndayofmonth                         int64\nweekofyear                         int64\ntime_spent                       float64\nitems.category                    object\nitems.price                      float64\neventAction_begin_checkout         uint8\neventAction_checkout_progress      uint8\neventAction_conversion             uint8\neventAction_purchase               uint8\neventAction_remove_from_cart       uint8\neventAction_view_item              uint8\neventAction_view_item_list         uint8\ndtype: object"
     },
     "metadata": {},
     "execution_count": 18
    }
   ],
   "source": [
    "activity_df.dtypes"
   ]
  },
  {
   "cell_type": "code",
   "execution_count": 19,
   "metadata": {},
   "outputs": [
    {
     "output_type": "execute_result",
     "data": {
      "text/plain": "order_id\n111zV    [0, 0, 0, 0, 0, 0, 0, 0, 0, 0, 0, 0, 0, 0, 0, ...\n1127Y    [1, 1, 1, 1, 1, 1, 1, 1, 1, 1, 1, 1, 1, 1, 1, ...\n1129B    [6, 6, 6, 6, 6, 6, 6, 6, 6, 6, 6, 6, 6, 6, 6, ...\n112RV    [0, 0, 0, 0, 0, 0, 0, 0, 0, 0, 0, 0, 0, 0, 0, ...\n112bB    [1, 1, 1, 1, 1, 1, 1, 1, 1, 1, 1, 1, 1, 1, 1, ...\nName: timedelta, dtype: object"
     },
     "metadata": {},
     "execution_count": 19
    }
   ],
   "source": [
    "timedelta_df = activity_df.groupby('order_id')['timedelta'].apply(list)\n",
    "timedelta_df = timedelta_df.apply(lambda x: np.pad(x, (0,ts_size-len(x)), 'constant'))\n",
    "timedelta_df.head()"
   ]
  },
  {
   "cell_type": "code",
   "execution_count": 23,
   "metadata": {},
   "outputs": [
    {
     "output_type": "execute_result",
     "data": {
      "text/plain": "order_id\n111zV    [-0.5126655240255152, 1.4836300164277096, -0.2...\n1127Y    [-0.5126655240255152, -0.5126655240255152, 3.9...\n1129B    [-0.5126655240255152, -0.5126655240255152, -0....\n112RV    [-0.5126655240255152, 3.956652850123496, -0.49...\n112bB    [-0.5126655240255152, -0.5126655240255152, -0....\nName: time_spent, dtype: object"
     },
     "metadata": {},
     "execution_count": 23
    }
   ],
   "source": [
    "time_spent_df = activity_df.groupby('order_id')['time_spent'].apply(list)\n",
    "time_spent_df = time_spent_df.apply(lambda x: np.pad(x, (0,ts_size-len(x)), 'constant'))\n",
    "time_spent_df.head()"
   ]
  },
  {
   "cell_type": "code",
   "execution_count": 24,
   "metadata": {},
   "outputs": [],
   "source": [
    "eventAction_begin_checkout_df = activity_df.groupby('order_id')['eventAction_begin_checkout'].apply(list)\n",
    "eventAction_begin_checkout_df = eventAction_begin_checkout_df.apply(lambda x: np.pad(x, (0,ts_size-len(x)), 'constant'))\n",
    "eventAction_checkout_progress_df = activity_df.groupby('order_id')['eventAction_checkout_progress'].apply(list)\n",
    "eventAction_checkout_progress_df = eventAction_checkout_progress_df.apply(lambda x: np.pad(x, (0,ts_size-len(x)), 'constant'))\n",
    "eventAction_conversion_df = activity_df.groupby('order_id')['eventAction_conversion'].apply(list)\n",
    "eventAction_conversion_df = eventAction_conversion_df.apply(lambda x: np.pad(x, (0,ts_size-len(x)), 'constant'))\n",
    "eventAction_purchase_df = activity_df.groupby('order_id')['eventAction_purchase'].apply(list)\n",
    "eventAction_purchase_df = eventAction_purchase_df.apply(lambda x: np.pad(x, (0,ts_size-len(x)), 'constant'))\n",
    "eventAction_remove_from_cart_df = activity_df.groupby('order_id')['eventAction_remove_from_cart'].apply(list)\n",
    "eventAction_remove_from_cart_df = eventAction_remove_from_cart_df.apply(lambda x: np.pad(x, (0,ts_size-len(x)), 'constant'))\n",
    "eventAction_view_item_df = activity_df.groupby('order_id')['eventAction_view_item'].apply(list)\n",
    "eventAction_view_item_df = eventAction_view_item_df.apply(lambda x: np.pad(x, (0,ts_size-len(x)), 'constant'))\n",
    "eventAction_view_item_list_df = activity_df.groupby('order_id')['eventAction_view_item_list'].apply(list)\n",
    "eventAction_view_item_list_df = eventAction_view_item_list_df.apply(lambda x: np.pad(x, (0,ts_size-len(x)), 'constant'))"
   ]
  },
  {
   "cell_type": "code",
   "execution_count": 25,
   "metadata": {},
   "outputs": [],
   "source": [
    "# itemcat_df = activity_df.groupby('order_id')['items.category'].apply(list)\n",
    "# itemcat_df = itemcat_df.apply(lambda x: np.pad(x, (0,ts_size-len(x)), 'constant'))\n",
    "# itemcat_df.head()"
   ]
  },
  {
   "cell_type": "code",
   "execution_count": 26,
   "metadata": {},
   "outputs": [
    {
     "output_type": "execute_result",
     "data": {
      "text/plain": "order_id\n111zV    [0.76, -0.96, 1.79, 1.79, 1.79, -0.96, -0.96, ...\n1127Y    [1.44, 1.1, -0.96, 3.85, -0.96, 3.85, -0.96, -...\n1129B    [1.44, 1.44, 1.44, 1.44, -0.96, -0.96, 1.44, -...\n112RV    [0.76, -0.96, 0.76, 0.76, 0.76, 0.76, 0.76, -0...\n112bB    [1.1, 0.76, 0.76, 1.1, -0.96, 0.76, 0.76, 0.76...\nName: items.price, dtype: object"
     },
     "metadata": {},
     "execution_count": 26
    }
   ],
   "source": [
    "itemprice_df = activity_df.groupby('order_id')['items.price'].apply(list)\n",
    "itemprice_df = itemprice_df.apply(lambda x: np.pad(x, (0,ts_size-len(x)), 'constant'))\n",
    "itemprice_df.head()"
   ]
  },
  {
   "cell_type": "code",
   "execution_count": 27,
   "metadata": {},
   "outputs": [
    {
     "output_type": "execute_result",
     "data": {
      "text/plain": "                                                  timedelta  \\\norder_id                                                      \n111zV     [0, 0, 0, 0, 0, 0, 0, 0, 0, 0, 0, 0, 0, 0, 0, ...   \n1127Y     [1, 1, 1, 1, 1, 1, 1, 1, 1, 1, 1, 1, 1, 1, 1, ...   \n1129B     [6, 6, 6, 6, 6, 6, 6, 6, 6, 6, 6, 6, 6, 6, 6, ...   \n112RV     [0, 0, 0, 0, 0, 0, 0, 0, 0, 0, 0, 0, 0, 0, 0, ...   \n112bB     [1, 1, 1, 1, 1, 1, 1, 1, 1, 1, 1, 1, 1, 1, 1, ...   \n\n                                                  hourofday  \\\norder_id                                                      \n111zV     [17, 17, 17, 17, 17, 17, 17, 17, 17, 17, 17, 1...   \n1127Y     [16, 16, 16, 16, 16, 16, 16, 16, 16, 16, 16, 1...   \n1129B     [2, 2, 2, 2, 2, 2, 2, 2, 2, 2, 2, 2, 2, 2, 2, ...   \n112RV     [16, 16, 16, 16, 16, 16, 16, 16, 16, 16, 16, 1...   \n112bB     [3, 3, 3, 3, 3, 2, 2, 2, 2, 2, 2, 2, 2, 2, 2, ...   \n\n                                                 dayofmonth  \\\norder_id                                                      \n111zV     [4, 4, 4, 4, 4, 4, 4, 4, 4, 4, 4, 4, 4, 4, 4, ...   \n1127Y     [14, 14, 14, 14, 14, 14, 14, 14, 14, 14, 14, 1...   \n1129B     [14, 14, 14, 14, 14, 14, 14, 14, 14, 14, 14, 1...   \n112RV     [13, 13, 13, 13, 13, 13, 13, 13, 13, 13, 13, 1...   \n112bB     [14, 14, 14, 14, 14, 14, 14, 14, 14, 14, 14, 1...   \n\n                                                 weekofyear  \\\norder_id                                                      \n111zV     [19, 19, 19, 19, 19, 19, 19, 19, 19, 19, 19, 1...   \n1127Y     [11, 11, 11, 11, 11, 11, 11, 11, 11, 11, 11, 1...   \n1129B     [11, 11, 11, 11, 11, 11, 11, 11, 11, 11, 11, 1...   \n112RV     [11, 11, 11, 11, 11, 11, 11, 11, 11, 11, 11, 1...   \n112bB     [11, 11, 11, 11, 11, 11, 11, 11, 11, 11, 11, 1...   \n\n                                                 time_spent  \\\norder_id                                                      \n111zV     [-0.5126655240255152, 1.4836300164277096, -0.2...   \n1127Y     [-0.5126655240255152, -0.5126655240255152, 3.9...   \n1129B     [-0.5126655240255152, -0.5126655240255152, -0....   \n112RV     [-0.5126655240255152, 3.956652850123496, -0.49...   \n112bB     [-0.5126655240255152, -0.5126655240255152, -0....   \n\n                                 eventAction_begin_checkout  \\\norder_id                                                      \n111zV     [0, 0, 0, 0, 0, 0, 0, 0, 0, 0, 0, 0, 0, 0, 0, ...   \n1127Y     [0, 0, 0, 0, 0, 0, 0, 0, 0, 0, 0, 0, 0, 0, 0, ...   \n1129B     [0, 0, 0, 0, 0, 0, 0, 0, 0, 0, 0, 0, 0, 0, 0, ...   \n112RV     [0, 0, 0, 0, 0, 0, 0, 0, 0, 0, 0, 0, 0, 0, 0, ...   \n112bB     [0, 0, 0, 0, 0, 0, 0, 0, 0, 0, 0, 0, 0, 0, 0, ...   \n\n                              eventAction_checkout_progress  \\\norder_id                                                      \n111zV     [0, 0, 0, 0, 0, 0, 0, 0, 0, 0, 0, 0, 0, 0, 0, ...   \n1127Y     [0, 0, 0, 0, 0, 0, 0, 0, 0, 0, 0, 0, 0, 0, 0, ...   \n1129B     [0, 0, 0, 0, 0, 0, 0, 0, 0, 0, 0, 0, 0, 0, 0, ...   \n112RV     [0, 0, 0, 0, 0, 0, 0, 0, 0, 0, 0, 0, 0, 0, 0, ...   \n112bB     [0, 0, 0, 0, 0, 0, 0, 0, 0, 0, 0, 0, 0, 0, 0, ...   \n\n                                     eventAction_conversion  \\\norder_id                                                      \n111zV     [0, 1, 0, 0, 0, 0, 0, 0, 0, 0, 0, 0, 0, 0, 0, ...   \n1127Y     [0, 0, 1, 0, 0, 0, 0, 0, 0, 0, 0, 0, 0, 0, 0, ...   \n1129B     [0, 0, 0, 0, 1, 0, 0, 0, 0, 0, 0, 0, 0, 0, 0, ...   \n112RV     [0, 1, 0, 0, 0, 0, 0, 0, 0, 0, 0, 0, 0, 0, 0, ...   \n112bB     [0, 0, 0, 0, 1, 0, 0, 0, 0, 0, 0, 0, 0, 0, 0, ...   \n\n                                       eventAction_purchase  \\\norder_id                                                      \n111zV     [1, 0, 0, 0, 0, 0, 0, 0, 0, 0, 0, 0, 0, 0, 0, ...   \n1127Y     [1, 1, 0, 0, 0, 0, 0, 0, 0, 0, 0, 0, 0, 0, 0, ...   \n1129B     [1, 1, 1, 1, 0, 0, 0, 0, 0, 0, 0, 0, 0, 0, 0, ...   \n112RV     [1, 0, 0, 0, 0, 0, 0, 0, 0, 0, 0, 0, 0, 0, 0, ...   \n112bB     [1, 1, 1, 1, 0, 0, 0, 0, 0, 0, 0, 0, 0, 0, 0, ...   \n\n                               eventAction_remove_from_cart  \\\norder_id                                                      \n111zV     [0, 0, 0, 0, 0, 0, 0, 0, 0, 0, 0, 0, 0, 0, 0, ...   \n1127Y     [0, 0, 0, 0, 0, 0, 0, 0, 0, 0, 0, 0, 0, 0, 0, ...   \n1129B     [0, 0, 0, 0, 0, 0, 0, 0, 0, 0, 0, 0, 0, 0, 0, ...   \n112RV     [0, 0, 0, 0, 0, 0, 0, 0, 0, 0, 0, 0, 0, 0, 0, ...   \n112bB     [0, 0, 0, 0, 0, 0, 0, 0, 0, 0, 0, 0, 0, 0, 0, ...   \n\n                                      eventAction_view_item  \\\norder_id                                                      \n111zV     [0, 0, 0, 1, 1, 0, 0, 0, 0, 0, 0, 1, 0, 0, 0, ...   \n1127Y     [0, 0, 0, 1, 0, 1, 0, 0, 0, 1, 0, 0, 0, 0, 0, ...   \n1129B     [0, 0, 0, 0, 0, 0, 1, 0, 0, 1, 1, 0, 0, 1, 0, ...   \n112RV     [0, 0, 0, 1, 1, 1, 1, 0, 0, 1, 1, 0, 0, 0, 0, ...   \n112bB     [0, 0, 0, 0, 0, 0, 1, 1, 0, 0, 0, 1, 0, 0, 0, ...   \n\n                                 eventAction_view_item_list  \\\norder_id                                                      \n111zV     [0, 0, 0, 0, 0, 1, 1, 1, 1, 1, 1, 0, 1, 1, 1, ...   \n1127Y     [0, 0, 0, 0, 1, 0, 1, 1, 1, 0, 1, 1, 1, 1, 1, ...   \n1129B     [0, 0, 0, 0, 0, 1, 0, 1, 0, 0, 0, 1, 1, 0, 1, ...   \n112RV     [0, 0, 0, 0, 0, 0, 0, 1, 1, 0, 0, 1, 1, 1, 1, ...   \n112bB     [0, 0, 0, 0, 0, 0, 0, 0, 1, 1, 1, 0, 1, 1, 1, ...   \n\n                                                items.price  \norder_id                                                     \n111zV     [0.76, -0.96, 1.79, 1.79, 1.79, -0.96, -0.96, ...  \n1127Y     [1.44, 1.1, -0.96, 3.85, -0.96, 3.85, -0.96, -...  \n1129B     [1.44, 1.44, 1.44, 1.44, -0.96, -0.96, 1.44, -...  \n112RV     [0.76, -0.96, 0.76, 0.76, 0.76, 0.76, 0.76, -0...  \n112bB     [1.1, 0.76, 0.76, 1.1, -0.96, 0.76, 0.76, 0.76...  ",
      "text/html": "<div>\n<style scoped>\n    .dataframe tbody tr th:only-of-type {\n        vertical-align: middle;\n    }\n\n    .dataframe tbody tr th {\n        vertical-align: top;\n    }\n\n    .dataframe thead th {\n        text-align: right;\n    }\n</style>\n<table border=\"1\" class=\"dataframe\">\n  <thead>\n    <tr style=\"text-align: right;\">\n      <th></th>\n      <th>timedelta</th>\n      <th>hourofday</th>\n      <th>dayofmonth</th>\n      <th>weekofyear</th>\n      <th>time_spent</th>\n      <th>eventAction_begin_checkout</th>\n      <th>eventAction_checkout_progress</th>\n      <th>eventAction_conversion</th>\n      <th>eventAction_purchase</th>\n      <th>eventAction_remove_from_cart</th>\n      <th>eventAction_view_item</th>\n      <th>eventAction_view_item_list</th>\n      <th>items.price</th>\n    </tr>\n    <tr>\n      <th>order_id</th>\n      <th></th>\n      <th></th>\n      <th></th>\n      <th></th>\n      <th></th>\n      <th></th>\n      <th></th>\n      <th></th>\n      <th></th>\n      <th></th>\n      <th></th>\n      <th></th>\n      <th></th>\n    </tr>\n  </thead>\n  <tbody>\n    <tr>\n      <th>111zV</th>\n      <td>[0, 0, 0, 0, 0, 0, 0, 0, 0, 0, 0, 0, 0, 0, 0, ...</td>\n      <td>[17, 17, 17, 17, 17, 17, 17, 17, 17, 17, 17, 1...</td>\n      <td>[4, 4, 4, 4, 4, 4, 4, 4, 4, 4, 4, 4, 4, 4, 4, ...</td>\n      <td>[19, 19, 19, 19, 19, 19, 19, 19, 19, 19, 19, 1...</td>\n      <td>[-0.5126655240255152, 1.4836300164277096, -0.2...</td>\n      <td>[0, 0, 0, 0, 0, 0, 0, 0, 0, 0, 0, 0, 0, 0, 0, ...</td>\n      <td>[0, 0, 0, 0, 0, 0, 0, 0, 0, 0, 0, 0, 0, 0, 0, ...</td>\n      <td>[0, 1, 0, 0, 0, 0, 0, 0, 0, 0, 0, 0, 0, 0, 0, ...</td>\n      <td>[1, 0, 0, 0, 0, 0, 0, 0, 0, 0, 0, 0, 0, 0, 0, ...</td>\n      <td>[0, 0, 0, 0, 0, 0, 0, 0, 0, 0, 0, 0, 0, 0, 0, ...</td>\n      <td>[0, 0, 0, 1, 1, 0, 0, 0, 0, 0, 0, 1, 0, 0, 0, ...</td>\n      <td>[0, 0, 0, 0, 0, 1, 1, 1, 1, 1, 1, 0, 1, 1, 1, ...</td>\n      <td>[0.76, -0.96, 1.79, 1.79, 1.79, -0.96, -0.96, ...</td>\n    </tr>\n    <tr>\n      <th>1127Y</th>\n      <td>[1, 1, 1, 1, 1, 1, 1, 1, 1, 1, 1, 1, 1, 1, 1, ...</td>\n      <td>[16, 16, 16, 16, 16, 16, 16, 16, 16, 16, 16, 1...</td>\n      <td>[14, 14, 14, 14, 14, 14, 14, 14, 14, 14, 14, 1...</td>\n      <td>[11, 11, 11, 11, 11, 11, 11, 11, 11, 11, 11, 1...</td>\n      <td>[-0.5126655240255152, -0.5126655240255152, 3.9...</td>\n      <td>[0, 0, 0, 0, 0, 0, 0, 0, 0, 0, 0, 0, 0, 0, 0, ...</td>\n      <td>[0, 0, 0, 0, 0, 0, 0, 0, 0, 0, 0, 0, 0, 0, 0, ...</td>\n      <td>[0, 0, 1, 0, 0, 0, 0, 0, 0, 0, 0, 0, 0, 0, 0, ...</td>\n      <td>[1, 1, 0, 0, 0, 0, 0, 0, 0, 0, 0, 0, 0, 0, 0, ...</td>\n      <td>[0, 0, 0, 0, 0, 0, 0, 0, 0, 0, 0, 0, 0, 0, 0, ...</td>\n      <td>[0, 0, 0, 1, 0, 1, 0, 0, 0, 1, 0, 0, 0, 0, 0, ...</td>\n      <td>[0, 0, 0, 0, 1, 0, 1, 1, 1, 0, 1, 1, 1, 1, 1, ...</td>\n      <td>[1.44, 1.1, -0.96, 3.85, -0.96, 3.85, -0.96, -...</td>\n    </tr>\n    <tr>\n      <th>1129B</th>\n      <td>[6, 6, 6, 6, 6, 6, 6, 6, 6, 6, 6, 6, 6, 6, 6, ...</td>\n      <td>[2, 2, 2, 2, 2, 2, 2, 2, 2, 2, 2, 2, 2, 2, 2, ...</td>\n      <td>[14, 14, 14, 14, 14, 14, 14, 14, 14, 14, 14, 1...</td>\n      <td>[11, 11, 11, 11, 11, 11, 11, 11, 11, 11, 11, 1...</td>\n      <td>[-0.5126655240255152, -0.5126655240255152, -0....</td>\n      <td>[0, 0, 0, 0, 0, 0, 0, 0, 0, 0, 0, 0, 0, 0, 0, ...</td>\n      <td>[0, 0, 0, 0, 0, 0, 0, 0, 0, 0, 0, 0, 0, 0, 0, ...</td>\n      <td>[0, 0, 0, 0, 1, 0, 0, 0, 0, 0, 0, 0, 0, 0, 0, ...</td>\n      <td>[1, 1, 1, 1, 0, 0, 0, 0, 0, 0, 0, 0, 0, 0, 0, ...</td>\n      <td>[0, 0, 0, 0, 0, 0, 0, 0, 0, 0, 0, 0, 0, 0, 0, ...</td>\n      <td>[0, 0, 0, 0, 0, 0, 1, 0, 0, 1, 1, 0, 0, 1, 0, ...</td>\n      <td>[0, 0, 0, 0, 0, 1, 0, 1, 0, 0, 0, 1, 1, 0, 1, ...</td>\n      <td>[1.44, 1.44, 1.44, 1.44, -0.96, -0.96, 1.44, -...</td>\n    </tr>\n    <tr>\n      <th>112RV</th>\n      <td>[0, 0, 0, 0, 0, 0, 0, 0, 0, 0, 0, 0, 0, 0, 0, ...</td>\n      <td>[16, 16, 16, 16, 16, 16, 16, 16, 16, 16, 16, 1...</td>\n      <td>[13, 13, 13, 13, 13, 13, 13, 13, 13, 13, 13, 1...</td>\n      <td>[11, 11, 11, 11, 11, 11, 11, 11, 11, 11, 11, 1...</td>\n      <td>[-0.5126655240255152, 3.956652850123496, -0.49...</td>\n      <td>[0, 0, 0, 0, 0, 0, 0, 0, 0, 0, 0, 0, 0, 0, 0, ...</td>\n      <td>[0, 0, 0, 0, 0, 0, 0, 0, 0, 0, 0, 0, 0, 0, 0, ...</td>\n      <td>[0, 1, 0, 0, 0, 0, 0, 0, 0, 0, 0, 0, 0, 0, 0, ...</td>\n      <td>[1, 0, 0, 0, 0, 0, 0, 0, 0, 0, 0, 0, 0, 0, 0, ...</td>\n      <td>[0, 0, 0, 0, 0, 0, 0, 0, 0, 0, 0, 0, 0, 0, 0, ...</td>\n      <td>[0, 0, 0, 1, 1, 1, 1, 0, 0, 1, 1, 0, 0, 0, 0, ...</td>\n      <td>[0, 0, 0, 0, 0, 0, 0, 1, 1, 0, 0, 1, 1, 1, 1, ...</td>\n      <td>[0.76, -0.96, 0.76, 0.76, 0.76, 0.76, 0.76, -0...</td>\n    </tr>\n    <tr>\n      <th>112bB</th>\n      <td>[1, 1, 1, 1, 1, 1, 1, 1, 1, 1, 1, 1, 1, 1, 1, ...</td>\n      <td>[3, 3, 3, 3, 3, 2, 2, 2, 2, 2, 2, 2, 2, 2, 2, ...</td>\n      <td>[14, 14, 14, 14, 14, 14, 14, 14, 14, 14, 14, 1...</td>\n      <td>[11, 11, 11, 11, 11, 11, 11, 11, 11, 11, 11, 1...</td>\n      <td>[-0.5126655240255152, -0.5126655240255152, -0....</td>\n      <td>[0, 0, 0, 0, 0, 0, 0, 0, 0, 0, 0, 0, 0, 0, 0, ...</td>\n      <td>[0, 0, 0, 0, 0, 0, 0, 0, 0, 0, 0, 0, 0, 0, 0, ...</td>\n      <td>[0, 0, 0, 0, 1, 0, 0, 0, 0, 0, 0, 0, 0, 0, 0, ...</td>\n      <td>[1, 1, 1, 1, 0, 0, 0, 0, 0, 0, 0, 0, 0, 0, 0, ...</td>\n      <td>[0, 0, 0, 0, 0, 0, 0, 0, 0, 0, 0, 0, 0, 0, 0, ...</td>\n      <td>[0, 0, 0, 0, 0, 0, 1, 1, 0, 0, 0, 1, 0, 0, 0, ...</td>\n      <td>[0, 0, 0, 0, 0, 0, 0, 0, 1, 1, 1, 0, 1, 1, 1, ...</td>\n      <td>[1.1, 0.76, 0.76, 1.1, -0.96, 0.76, 0.76, 0.76...</td>\n    </tr>\n  </tbody>\n</table>\n</div>"
     },
     "metadata": {},
     "execution_count": 27
    }
   ],
   "source": [
    "activity_dfx = pd.concat([timedelta_df, time_spent_df, eventAction_begin_checkout_df, eventAction_checkout_progress_df, eventAction_conversion_df, eventAction_purchase_df, eventAction_remove_from_cart_df, eventAction_view_item_df, eventAction_view_item_list_df, itemprice_df], axis=1)\n",
    "activity_dfx.head()"
   ]
  },
  {
   "cell_type": "code",
   "execution_count": 28,
   "metadata": {
    "tags": []
   },
   "outputs": [
    {
     "output_type": "stream",
     "name": "stdout",
     "text": "<class 'pandas.core.frame.DataFrame'>\nIndex: 71927 entries, 111zV to zxzqN\nData columns (total 13 columns):\n #   Column                         Non-Null Count  Dtype \n---  ------                         --------------  ----- \n 0   timedelta                      71927 non-null  object\n 1   hourofday                      71927 non-null  object\n 2   dayofmonth                     71927 non-null  object\n 3   weekofyear                     71927 non-null  object\n 4   time_spent                     71927 non-null  object\n 5   eventAction_begin_checkout     71927 non-null  object\n 6   eventAction_checkout_progress  71927 non-null  object\n 7   eventAction_conversion         71927 non-null  object\n 8   eventAction_purchase           71927 non-null  object\n 9   eventAction_remove_from_cart   71927 non-null  object\n 10  eventAction_view_item          71927 non-null  object\n 11  eventAction_view_item_list     71927 non-null  object\n 12  items.price                    71927 non-null  object\ndtypes: object(13)\nmemory usage: 7.7+ MB\n"
    }
   ],
   "source": [
    "activity_dfx.info()"
   ]
  },
  {
   "cell_type": "code",
   "execution_count": 29,
   "metadata": {},
   "outputs": [
    {
     "output_type": "execute_result",
     "data": {
      "text/plain": "  order_id  items.quantity  eventCount  conversions  browser  os  device  \\\n0    111zV       -0.171502   -0.073124            1        2   0       4   \n1    1127Y       -0.140061   -0.062725            1        2   0       4   \n2    1129B       -0.077179   -0.478708            1       13   0      31   \n3    112RV       -0.171502   -0.494308            1       13   0      31   \n4    112bB       -0.077179   -0.281116            1        2   0       4   \n\n   value userid class   age clientId  \n0  -1.14  Z2BMZ     0  2.95  rPPx6nm  \n1   0.78  Wan6y     0  3.49  d15N5bj  \n2   3.90  GJzVp     0  3.73  pxRrvbB  \n3  -1.04  pNAoX     0  3.72  PqPYmnR  \n4   1.75  Vz7PM     0  3.73  Dj4yM6m  ",
      "text/html": "<div>\n<style scoped>\n    .dataframe tbody tr th:only-of-type {\n        vertical-align: middle;\n    }\n\n    .dataframe tbody tr th {\n        vertical-align: top;\n    }\n\n    .dataframe thead th {\n        text-align: right;\n    }\n</style>\n<table border=\"1\" class=\"dataframe\">\n  <thead>\n    <tr style=\"text-align: right;\">\n      <th></th>\n      <th>order_id</th>\n      <th>items.quantity</th>\n      <th>eventCount</th>\n      <th>conversions</th>\n      <th>browser</th>\n      <th>os</th>\n      <th>device</th>\n      <th>value</th>\n      <th>userid</th>\n      <th>class</th>\n      <th>age</th>\n      <th>clientId</th>\n    </tr>\n  </thead>\n  <tbody>\n    <tr>\n      <th>0</th>\n      <td>111zV</td>\n      <td>-0.171502</td>\n      <td>-0.073124</td>\n      <td>1</td>\n      <td>2</td>\n      <td>0</td>\n      <td>4</td>\n      <td>-1.14</td>\n      <td>Z2BMZ</td>\n      <td>0</td>\n      <td>2.95</td>\n      <td>rPPx6nm</td>\n    </tr>\n    <tr>\n      <th>1</th>\n      <td>1127Y</td>\n      <td>-0.140061</td>\n      <td>-0.062725</td>\n      <td>1</td>\n      <td>2</td>\n      <td>0</td>\n      <td>4</td>\n      <td>0.78</td>\n      <td>Wan6y</td>\n      <td>0</td>\n      <td>3.49</td>\n      <td>d15N5bj</td>\n    </tr>\n    <tr>\n      <th>2</th>\n      <td>1129B</td>\n      <td>-0.077179</td>\n      <td>-0.478708</td>\n      <td>1</td>\n      <td>13</td>\n      <td>0</td>\n      <td>31</td>\n      <td>3.90</td>\n      <td>GJzVp</td>\n      <td>0</td>\n      <td>3.73</td>\n      <td>pxRrvbB</td>\n    </tr>\n    <tr>\n      <th>3</th>\n      <td>112RV</td>\n      <td>-0.171502</td>\n      <td>-0.494308</td>\n      <td>1</td>\n      <td>13</td>\n      <td>0</td>\n      <td>31</td>\n      <td>-1.04</td>\n      <td>pNAoX</td>\n      <td>0</td>\n      <td>3.72</td>\n      <td>PqPYmnR</td>\n    </tr>\n    <tr>\n      <th>4</th>\n      <td>112bB</td>\n      <td>-0.077179</td>\n      <td>-0.281116</td>\n      <td>1</td>\n      <td>2</td>\n      <td>0</td>\n      <td>4</td>\n      <td>1.75</td>\n      <td>Vz7PM</td>\n      <td>0</td>\n      <td>3.73</td>\n      <td>Dj4yM6m</td>\n    </tr>\n  </tbody>\n</table>\n</div>"
     },
     "metadata": {},
     "execution_count": 29
    }
   ],
   "source": [
    "agg_dfx= agg_dfx.merge(orders_dfx, on='order_id')\n",
    "agg_dfx.head()"
   ]
  },
  {
   "cell_type": "code",
   "execution_count": 30,
   "metadata": {},
   "outputs": [
    {
     "output_type": "execute_result",
     "data": {
      "text/plain": "Index(['order_id', 'items.quantity', 'eventCount', 'conversions', 'browser',\n       'os', 'device', 'value', 'userid', 'class', 'age', 'clientId',\n       'timedelta', 'hourofday', 'dayofmonth', 'weekofyear', 'time_spent',\n       'eventAction_begin_checkout', 'eventAction_checkout_progress',\n       'eventAction_conversion', 'eventAction_purchase',\n       'eventAction_remove_from_cart', 'eventAction_view_item',\n       'eventAction_view_item_list', 'items.price'],\n      dtype='object')"
     },
     "metadata": {},
     "execution_count": 30
    }
   ],
   "source": [
    "dfx = agg_dfx.merge(activity_dfx, on='order_id')\n",
    "dfx.columns"
   ]
  },
  {
   "cell_type": "code",
   "execution_count": 31,
   "metadata": {},
   "outputs": [
    {
     "output_type": "execute_result",
     "data": {
      "text/plain": "   value  items.quantity  eventCount  conversions  browser  os  device class  \\\n0  -1.14       -0.171502   -0.073124            1        2   0       4     0   \n1   0.78       -0.140061   -0.062725            1        2   0       4     0   \n2   3.90       -0.077179   -0.478708            1       13   0      31     0   \n3  -1.04       -0.171502   -0.494308            1       13   0      31     0   \n4   1.75       -0.077179   -0.281116            1        2   0       4     0   \n\n    age                                          timedelta  ...  \\\n0  2.95  [0, 0, 0, 0, 0, 0, 0, 0, 0, 0, 0, 0, 0, 0, 0, ...  ...   \n1  3.49  [1, 1, 1, 1, 1, 1, 1, 1, 1, 1, 1, 1, 1, 1, 1, ...  ...   \n2  3.73  [6, 6, 6, 6, 6, 6, 6, 6, 6, 6, 6, 6, 6, 6, 6, ...  ...   \n3  3.72  [0, 0, 0, 0, 0, 0, 0, 0, 0, 0, 0, 0, 0, 0, 0, ...  ...   \n4  3.73  [1, 1, 1, 1, 1, 1, 1, 1, 1, 1, 1, 1, 1, 1, 1, ...  ...   \n\n                                          weekofyear  \\\n0  [19, 19, 19, 19, 19, 19, 19, 19, 19, 19, 19, 1...   \n1  [11, 11, 11, 11, 11, 11, 11, 11, 11, 11, 11, 1...   \n2  [11, 11, 11, 11, 11, 11, 11, 11, 11, 11, 11, 1...   \n3  [11, 11, 11, 11, 11, 11, 11, 11, 11, 11, 11, 1...   \n4  [11, 11, 11, 11, 11, 11, 11, 11, 11, 11, 11, 1...   \n\n                                          time_spent  \\\n0  [-0.5126655240255152, 1.4836300164277096, -0.2...   \n1  [-0.5126655240255152, -0.5126655240255152, 3.9...   \n2  [-0.5126655240255152, -0.5126655240255152, -0....   \n3  [-0.5126655240255152, 3.956652850123496, -0.49...   \n4  [-0.5126655240255152, -0.5126655240255152, -0....   \n\n                          eventAction_begin_checkout  \\\n0  [0, 0, 0, 0, 0, 0, 0, 0, 0, 0, 0, 0, 0, 0, 0, ...   \n1  [0, 0, 0, 0, 0, 0, 0, 0, 0, 0, 0, 0, 0, 0, 0, ...   \n2  [0, 0, 0, 0, 0, 0, 0, 0, 0, 0, 0, 0, 0, 0, 0, ...   \n3  [0, 0, 0, 0, 0, 0, 0, 0, 0, 0, 0, 0, 0, 0, 0, ...   \n4  [0, 0, 0, 0, 0, 0, 0, 0, 0, 0, 0, 0, 0, 0, 0, ...   \n\n                       eventAction_checkout_progress  \\\n0  [0, 0, 0, 0, 0, 0, 0, 0, 0, 0, 0, 0, 0, 0, 0, ...   \n1  [0, 0, 0, 0, 0, 0, 0, 0, 0, 0, 0, 0, 0, 0, 0, ...   \n2  [0, 0, 0, 0, 0, 0, 0, 0, 0, 0, 0, 0, 0, 0, 0, ...   \n3  [0, 0, 0, 0, 0, 0, 0, 0, 0, 0, 0, 0, 0, 0, 0, ...   \n4  [0, 0, 0, 0, 0, 0, 0, 0, 0, 0, 0, 0, 0, 0, 0, ...   \n\n                              eventAction_conversion  \\\n0  [0, 1, 0, 0, 0, 0, 0, 0, 0, 0, 0, 0, 0, 0, 0, ...   \n1  [0, 0, 1, 0, 0, 0, 0, 0, 0, 0, 0, 0, 0, 0, 0, ...   \n2  [0, 0, 0, 0, 1, 0, 0, 0, 0, 0, 0, 0, 0, 0, 0, ...   \n3  [0, 1, 0, 0, 0, 0, 0, 0, 0, 0, 0, 0, 0, 0, 0, ...   \n4  [0, 0, 0, 0, 1, 0, 0, 0, 0, 0, 0, 0, 0, 0, 0, ...   \n\n                                eventAction_purchase  \\\n0  [1, 0, 0, 0, 0, 0, 0, 0, 0, 0, 0, 0, 0, 0, 0, ...   \n1  [1, 1, 0, 0, 0, 0, 0, 0, 0, 0, 0, 0, 0, 0, 0, ...   \n2  [1, 1, 1, 1, 0, 0, 0, 0, 0, 0, 0, 0, 0, 0, 0, ...   \n3  [1, 0, 0, 0, 0, 0, 0, 0, 0, 0, 0, 0, 0, 0, 0, ...   \n4  [1, 1, 1, 1, 0, 0, 0, 0, 0, 0, 0, 0, 0, 0, 0, ...   \n\n                        eventAction_remove_from_cart  \\\n0  [0, 0, 0, 0, 0, 0, 0, 0, 0, 0, 0, 0, 0, 0, 0, ...   \n1  [0, 0, 0, 0, 0, 0, 0, 0, 0, 0, 0, 0, 0, 0, 0, ...   \n2  [0, 0, 0, 0, 0, 0, 0, 0, 0, 0, 0, 0, 0, 0, 0, ...   \n3  [0, 0, 0, 0, 0, 0, 0, 0, 0, 0, 0, 0, 0, 0, 0, ...   \n4  [0, 0, 0, 0, 0, 0, 0, 0, 0, 0, 0, 0, 0, 0, 0, ...   \n\n                               eventAction_view_item  \\\n0  [0, 0, 0, 1, 1, 0, 0, 0, 0, 0, 0, 1, 0, 0, 0, ...   \n1  [0, 0, 0, 1, 0, 1, 0, 0, 0, 1, 0, 0, 0, 0, 0, ...   \n2  [0, 0, 0, 0, 0, 0, 1, 0, 0, 1, 1, 0, 0, 1, 0, ...   \n3  [0, 0, 0, 1, 1, 1, 1, 0, 0, 1, 1, 0, 0, 0, 0, ...   \n4  [0, 0, 0, 0, 0, 0, 1, 1, 0, 0, 0, 1, 0, 0, 0, ...   \n\n                          eventAction_view_item_list  \\\n0  [0, 0, 0, 0, 0, 1, 1, 1, 1, 1, 1, 0, 1, 1, 1, ...   \n1  [0, 0, 0, 0, 1, 0, 1, 1, 1, 0, 1, 1, 1, 1, 1, ...   \n2  [0, 0, 0, 0, 0, 1, 0, 1, 0, 0, 0, 1, 1, 0, 1, ...   \n3  [0, 0, 0, 0, 0, 0, 0, 1, 1, 0, 0, 1, 1, 1, 1, ...   \n4  [0, 0, 0, 0, 0, 0, 0, 0, 1, 1, 1, 0, 1, 1, 1, ...   \n\n                                         items.price  \n0  [0.76, -0.96, 1.79, 1.79, 1.79, -0.96, -0.96, ...  \n1  [1.44, 1.1, -0.96, 3.85, -0.96, 3.85, -0.96, -...  \n2  [1.44, 1.44, 1.44, 1.44, -0.96, -0.96, 1.44, -...  \n3  [0.76, -0.96, 0.76, 0.76, 0.76, 0.76, 0.76, -0...  \n4  [1.1, 0.76, 0.76, 1.1, -0.96, 0.76, 0.76, 0.76...  \n\n[5 rows x 22 columns]",
      "text/html": "<div>\n<style scoped>\n    .dataframe tbody tr th:only-of-type {\n        vertical-align: middle;\n    }\n\n    .dataframe tbody tr th {\n        vertical-align: top;\n    }\n\n    .dataframe thead th {\n        text-align: right;\n    }\n</style>\n<table border=\"1\" class=\"dataframe\">\n  <thead>\n    <tr style=\"text-align: right;\">\n      <th></th>\n      <th>value</th>\n      <th>items.quantity</th>\n      <th>eventCount</th>\n      <th>conversions</th>\n      <th>browser</th>\n      <th>os</th>\n      <th>device</th>\n      <th>class</th>\n      <th>age</th>\n      <th>timedelta</th>\n      <th>...</th>\n      <th>weekofyear</th>\n      <th>time_spent</th>\n      <th>eventAction_begin_checkout</th>\n      <th>eventAction_checkout_progress</th>\n      <th>eventAction_conversion</th>\n      <th>eventAction_purchase</th>\n      <th>eventAction_remove_from_cart</th>\n      <th>eventAction_view_item</th>\n      <th>eventAction_view_item_list</th>\n      <th>items.price</th>\n    </tr>\n  </thead>\n  <tbody>\n    <tr>\n      <th>0</th>\n      <td>-1.14</td>\n      <td>-0.171502</td>\n      <td>-0.073124</td>\n      <td>1</td>\n      <td>2</td>\n      <td>0</td>\n      <td>4</td>\n      <td>0</td>\n      <td>2.95</td>\n      <td>[0, 0, 0, 0, 0, 0, 0, 0, 0, 0, 0, 0, 0, 0, 0, ...</td>\n      <td>...</td>\n      <td>[19, 19, 19, 19, 19, 19, 19, 19, 19, 19, 19, 1...</td>\n      <td>[-0.5126655240255152, 1.4836300164277096, -0.2...</td>\n      <td>[0, 0, 0, 0, 0, 0, 0, 0, 0, 0, 0, 0, 0, 0, 0, ...</td>\n      <td>[0, 0, 0, 0, 0, 0, 0, 0, 0, 0, 0, 0, 0, 0, 0, ...</td>\n      <td>[0, 1, 0, 0, 0, 0, 0, 0, 0, 0, 0, 0, 0, 0, 0, ...</td>\n      <td>[1, 0, 0, 0, 0, 0, 0, 0, 0, 0, 0, 0, 0, 0, 0, ...</td>\n      <td>[0, 0, 0, 0, 0, 0, 0, 0, 0, 0, 0, 0, 0, 0, 0, ...</td>\n      <td>[0, 0, 0, 1, 1, 0, 0, 0, 0, 0, 0, 1, 0, 0, 0, ...</td>\n      <td>[0, 0, 0, 0, 0, 1, 1, 1, 1, 1, 1, 0, 1, 1, 1, ...</td>\n      <td>[0.76, -0.96, 1.79, 1.79, 1.79, -0.96, -0.96, ...</td>\n    </tr>\n    <tr>\n      <th>1</th>\n      <td>0.78</td>\n      <td>-0.140061</td>\n      <td>-0.062725</td>\n      <td>1</td>\n      <td>2</td>\n      <td>0</td>\n      <td>4</td>\n      <td>0</td>\n      <td>3.49</td>\n      <td>[1, 1, 1, 1, 1, 1, 1, 1, 1, 1, 1, 1, 1, 1, 1, ...</td>\n      <td>...</td>\n      <td>[11, 11, 11, 11, 11, 11, 11, 11, 11, 11, 11, 1...</td>\n      <td>[-0.5126655240255152, -0.5126655240255152, 3.9...</td>\n      <td>[0, 0, 0, 0, 0, 0, 0, 0, 0, 0, 0, 0, 0, 0, 0, ...</td>\n      <td>[0, 0, 0, 0, 0, 0, 0, 0, 0, 0, 0, 0, 0, 0, 0, ...</td>\n      <td>[0, 0, 1, 0, 0, 0, 0, 0, 0, 0, 0, 0, 0, 0, 0, ...</td>\n      <td>[1, 1, 0, 0, 0, 0, 0, 0, 0, 0, 0, 0, 0, 0, 0, ...</td>\n      <td>[0, 0, 0, 0, 0, 0, 0, 0, 0, 0, 0, 0, 0, 0, 0, ...</td>\n      <td>[0, 0, 0, 1, 0, 1, 0, 0, 0, 1, 0, 0, 0, 0, 0, ...</td>\n      <td>[0, 0, 0, 0, 1, 0, 1, 1, 1, 0, 1, 1, 1, 1, 1, ...</td>\n      <td>[1.44, 1.1, -0.96, 3.85, -0.96, 3.85, -0.96, -...</td>\n    </tr>\n    <tr>\n      <th>2</th>\n      <td>3.90</td>\n      <td>-0.077179</td>\n      <td>-0.478708</td>\n      <td>1</td>\n      <td>13</td>\n      <td>0</td>\n      <td>31</td>\n      <td>0</td>\n      <td>3.73</td>\n      <td>[6, 6, 6, 6, 6, 6, 6, 6, 6, 6, 6, 6, 6, 6, 6, ...</td>\n      <td>...</td>\n      <td>[11, 11, 11, 11, 11, 11, 11, 11, 11, 11, 11, 1...</td>\n      <td>[-0.5126655240255152, -0.5126655240255152, -0....</td>\n      <td>[0, 0, 0, 0, 0, 0, 0, 0, 0, 0, 0, 0, 0, 0, 0, ...</td>\n      <td>[0, 0, 0, 0, 0, 0, 0, 0, 0, 0, 0, 0, 0, 0, 0, ...</td>\n      <td>[0, 0, 0, 0, 1, 0, 0, 0, 0, 0, 0, 0, 0, 0, 0, ...</td>\n      <td>[1, 1, 1, 1, 0, 0, 0, 0, 0, 0, 0, 0, 0, 0, 0, ...</td>\n      <td>[0, 0, 0, 0, 0, 0, 0, 0, 0, 0, 0, 0, 0, 0, 0, ...</td>\n      <td>[0, 0, 0, 0, 0, 0, 1, 0, 0, 1, 1, 0, 0, 1, 0, ...</td>\n      <td>[0, 0, 0, 0, 0, 1, 0, 1, 0, 0, 0, 1, 1, 0, 1, ...</td>\n      <td>[1.44, 1.44, 1.44, 1.44, -0.96, -0.96, 1.44, -...</td>\n    </tr>\n    <tr>\n      <th>3</th>\n      <td>-1.04</td>\n      <td>-0.171502</td>\n      <td>-0.494308</td>\n      <td>1</td>\n      <td>13</td>\n      <td>0</td>\n      <td>31</td>\n      <td>0</td>\n      <td>3.72</td>\n      <td>[0, 0, 0, 0, 0, 0, 0, 0, 0, 0, 0, 0, 0, 0, 0, ...</td>\n      <td>...</td>\n      <td>[11, 11, 11, 11, 11, 11, 11, 11, 11, 11, 11, 1...</td>\n      <td>[-0.5126655240255152, 3.956652850123496, -0.49...</td>\n      <td>[0, 0, 0, 0, 0, 0, 0, 0, 0, 0, 0, 0, 0, 0, 0, ...</td>\n      <td>[0, 0, 0, 0, 0, 0, 0, 0, 0, 0, 0, 0, 0, 0, 0, ...</td>\n      <td>[0, 1, 0, 0, 0, 0, 0, 0, 0, 0, 0, 0, 0, 0, 0, ...</td>\n      <td>[1, 0, 0, 0, 0, 0, 0, 0, 0, 0, 0, 0, 0, 0, 0, ...</td>\n      <td>[0, 0, 0, 0, 0, 0, 0, 0, 0, 0, 0, 0, 0, 0, 0, ...</td>\n      <td>[0, 0, 0, 1, 1, 1, 1, 0, 0, 1, 1, 0, 0, 0, 0, ...</td>\n      <td>[0, 0, 0, 0, 0, 0, 0, 1, 1, 0, 0, 1, 1, 1, 1, ...</td>\n      <td>[0.76, -0.96, 0.76, 0.76, 0.76, 0.76, 0.76, -0...</td>\n    </tr>\n    <tr>\n      <th>4</th>\n      <td>1.75</td>\n      <td>-0.077179</td>\n      <td>-0.281116</td>\n      <td>1</td>\n      <td>2</td>\n      <td>0</td>\n      <td>4</td>\n      <td>0</td>\n      <td>3.73</td>\n      <td>[1, 1, 1, 1, 1, 1, 1, 1, 1, 1, 1, 1, 1, 1, 1, ...</td>\n      <td>...</td>\n      <td>[11, 11, 11, 11, 11, 11, 11, 11, 11, 11, 11, 1...</td>\n      <td>[-0.5126655240255152, -0.5126655240255152, -0....</td>\n      <td>[0, 0, 0, 0, 0, 0, 0, 0, 0, 0, 0, 0, 0, 0, 0, ...</td>\n      <td>[0, 0, 0, 0, 0, 0, 0, 0, 0, 0, 0, 0, 0, 0, 0, ...</td>\n      <td>[0, 0, 0, 0, 1, 0, 0, 0, 0, 0, 0, 0, 0, 0, 0, ...</td>\n      <td>[1, 1, 1, 1, 0, 0, 0, 0, 0, 0, 0, 0, 0, 0, 0, ...</td>\n      <td>[0, 0, 0, 0, 0, 0, 0, 0, 0, 0, 0, 0, 0, 0, 0, ...</td>\n      <td>[0, 0, 0, 0, 0, 0, 1, 1, 0, 0, 0, 1, 0, 0, 0, ...</td>\n      <td>[0, 0, 0, 0, 0, 0, 0, 0, 1, 1, 1, 0, 1, 1, 1, ...</td>\n      <td>[1.1, 0.76, 0.76, 1.1, -0.96, 0.76, 0.76, 0.76...</td>\n    </tr>\n  </tbody>\n</table>\n<p>5 rows × 22 columns</p>\n</div>"
     },
     "metadata": {},
     "execution_count": 31
    }
   ],
   "source": [
    "dfx_cols = ['value', 'items.quantity', 'eventCount',\n",
    "       'conversions', 'browser', 'os', 'device', 'class',\n",
    "       'age', 'timedelta', 'time_spent', 'eventAction_begin_checkout',\n",
    "       'eventAction_checkout_progress', 'eventAction_conversion',\n",
    "       'eventAction_purchase', 'eventAction_remove_from_cart',\n",
    "       'eventAction_view_item', 'eventAction_view_item_list', 'items.price']\n",
    "dfx = dfx[dfx_cols]\n",
    "dfx.head()"
   ]
  },
  {
   "cell_type": "code",
   "execution_count": 32,
   "metadata": {},
   "outputs": [],
   "source": [
    "dfx.to_pickle('dfx.pkl')"
   ]
  },
  {
   "cell_type": "code",
   "execution_count": null,
   "metadata": {},
   "outputs": [],
   "source": []
  }
 ]
}