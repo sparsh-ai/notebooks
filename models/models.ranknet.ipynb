{
 "cells": [
  {
   "cell_type": "code",
   "execution_count": null,
   "metadata": {},
   "outputs": [],
   "source": [
    "# default_exp models.ranknet"
   ]
  },
  {
   "cell_type": "markdown",
   "metadata": {},
   "source": [
    "# RankNet\n",
    "> Learning to Rank for Information Retrieval.\n",
    "\n",
    "In 2005, Chris Burges et. al. at Microsoft Research introduced a novel approach to create Learning to Rank models. Their approach employed a probabilistic cost function which uses a pair of sample items to learn how to rank them. This function essentially tries to minimize the number of swaps required to correct an incorrect ordering of chosen items. Their paper further explores this approach by implementing this cost function through a neural network, optimized by gradient descent. This network, called “RankNet”, is also tested on some real-world data to show its effectiveness.\n",
    "\n",
    "As implemented in the paper, the working of RankNet is summarized below.\n",
    "Training the network\n",
    "1. A two-layer neural network with one output node is constructed. The output value corresponds to the relevance of that item to the set, and the input layer can have multiple nodes based on the size of the feature vector.\n",
    "2. Two random samples are selected from the data set and forward propagation is done for both of these samples individually, consequently producing two output values, one for each item.\n",
    "3. The cost, which is an activation function (eg: sigmoid) of the difference of these two output values, is determined. It is assumed that the first sample is ranked higher than the second one, and the appropriate loss is calculated.\n",
    "4. This loss is back-propagated into the network to learn the selected example.\n",
    "5. Steps 2–4 are performed until training is complete (based on number of epochs).\n",
    "\n",
    "The assumption that is mentioned in step 3 is nothing but the determination of the expected ranks of the two selected items. This rank can be determined by comparing the relevance rating of a particular item with respect to the entire set. Moreover, this relevance rating can be determined by either manually setting the relevance based on some assumptions, or by using human raters to sort the results based on their relevance.\n"
   ]
  },
  {
   "cell_type": "code",
   "execution_count": null,
   "metadata": {},
   "outputs": [],
   "source": [
    "#hide\n",
    "from nbdev.showdoc import *\n",
    "from fastcore.nb_imports import *\n",
    "from fastcore.test import *"
   ]
  },
  {
   "cell_type": "code",
   "execution_count": null,
   "metadata": {},
   "outputs": [],
   "source": [
    "#export\n",
    "import torch\n",
    "import torch.nn as nn\n",
    "import torch.nn.functional as F\n",
    "import torch.optim as optim\n",
    "import numpy as np"
   ]
  },
  {
   "cell_type": "code",
   "execution_count": null,
   "metadata": {},
   "outputs": [],
   "source": [
    "#export\n",
    "class RankNet(nn.Module):\n",
    "    def __init__(self, num_feature):\n",
    "        super(RankNet, self).__init__()\n",
    "        self.model = nn.Sequential(\n",
    "            nn.Linear(num_feature, 512),\n",
    "            nn.Dropout(0.5),\n",
    "            nn.LeakyReLU(0.2, inplace=True),\n",
    "            nn.Linear(512, 256),\n",
    "            nn.Dropout(0.5),\n",
    "            nn.LeakyReLU(0.2, inplace=True),\n",
    "            nn.Linear(256, 1),\n",
    "            nn.Sigmoid()\n",
    "        )\n",
    "        self.output_sig = nn.Sigmoid()\n",
    "\n",
    "    def forward(self, input_1, input_2):\n",
    "        # relevant document score\n",
    "        s1 = self.model(input_1)\n",
    "        # irrelevant document score\n",
    "        s2 = self.model(input_2)\n",
    "        # subtract scores\n",
    "        out = self.output_sig(s1-s2)\n",
    "        return out\n",
    "    \n",
    "    def predict(self, input_):\n",
    "        s = self.model(input_)\n",
    "        return s"
   ]
  },
  {
   "cell_type": "markdown",
   "metadata": {},
   "source": [
    "Example"
   ]
  },
  {
   "cell_type": "code",
   "execution_count": null,
   "metadata": {},
   "outputs": [],
   "source": [
    "# generating synthetic data\n",
    "\n",
    "n_sample = 30000\n",
    "n_feature = 300\n",
    "\n",
    "data1 = torch.rand((n_sample, n_feature))\n",
    "data2 = torch.rand((n_sample, n_feature))\n",
    "\n",
    "y = np.random.random((n_sample, 1))\n",
    "y = y > 0.9\n",
    "y = 1. * y\n",
    "y = torch.Tensor(y)"
   ]
  },
  {
   "cell_type": "code",
   "execution_count": null,
   "metadata": {},
   "outputs": [],
   "source": [
    "rank_model = RankNet(num_feature = n_feature)\n",
    "optimizer = torch.optim.Adam(rank_model.parameters())\n",
    "loss_fun = torch.nn.BCELoss()"
   ]
  },
  {
   "cell_type": "code",
   "execution_count": null,
   "metadata": {},
   "outputs": [],
   "source": [
    "if torch.cuda.is_available():\n",
    "    rank_model.cuda()\n",
    "    loss_fun.cuda()\n",
    "    data1 = data1.cuda()\n",
    "    data2 = data2.cuda()\n",
    "    y = y.cuda()"
   ]
  },
  {
   "cell_type": "code",
   "execution_count": null,
   "metadata": {},
   "outputs": [
    {
     "name": "stdout",
     "output_type": "stream",
     "text": [
      "Epoch0, loss : 0.6934884786605835\n",
      "Epoch500, loss : 0.579173743724823\n",
      "Epoch1000, loss : 0.5610643029212952\n",
      "Epoch1500, loss : 0.5340487957000732\n",
      "Epoch2000, loss : 0.5312932729721069\n",
      "Epoch2500, loss : 0.5039414167404175\n",
      "Epoch3000, loss : 0.5077282190322876\n",
      "Epoch3500, loss : 0.48666420578956604\n",
      "Epoch4000, loss : 0.4898063838481903\n",
      "Epoch4500, loss : 0.4821886122226715\n"
     ]
    }
   ],
   "source": [
    "epoch = 5000\n",
    "\n",
    "losses = []\n",
    "\n",
    "for i in range(epoch):\n",
    "    \n",
    "    rank_model.zero_grad()\n",
    "    \n",
    "    y_pred = rank_model(data1, data2)\n",
    "    \n",
    "    loss = loss_fun(y_pred,y)\n",
    "    \n",
    "    loss.backward()\n",
    "    optimizer.step()\n",
    "    \n",
    "    losses.append(loss.item())\n",
    "\n",
    "    if i % 500 == 0:\n",
    "        print('Epoch{}, loss : {}'.format(i, loss.item()))"
   ]
  },
  {
   "cell_type": "code",
   "execution_count": null,
   "metadata": {},
   "outputs": [
    {
     "data": {
      "image/png": "[encoded data removed]",
      "text/plain": [
       "<Figure size 432x288 with 1 Axes>"
      ]
     },
     "metadata": {
      "needs_background": "light"
     },
     "output_type": "display_data"
    }
   ],
   "source": [
    "import matplotlib.pyplot as plt\n",
    "\n",
    "x = list(range(5000))\n",
    "plt.plot(x, losses);"
   ]
  }
 ],
 "metadata": {
  "kernelspec": {
   "display_name": "Python 3",
   "name": "python3"
  }
 },
 "nbformat": 4,
 "nbformat_minor": 0
}
