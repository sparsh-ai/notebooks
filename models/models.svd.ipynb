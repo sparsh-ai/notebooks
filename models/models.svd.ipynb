{
 "cells": [
  {
   "cell_type": "code",
   "execution_count": null,
   "metadata": {},
   "outputs": [],
   "source": [
    "# default_exp models.svd"
   ]
  },
  {
   "cell_type": "markdown",
   "metadata": {},
   "source": [
    "# SVD\n",
    "> Implementation of SVD-based recommender model.\n",
    "\n",
    "A very popular technique for recommendation systems is via matrix factorization. The idea is to reduce the dimensionality of the data before calculating similar movies/users. We factorize the user-item matrix to obtain the user factors and item factors which are the low-dimensional embeddings such that 'similar' user/items are mapped to 'nearby' points.\n",
    "\n",
    "This kind of analysis can generate matches that are impossible to find with the techniques discussed above as the latent factors can capture attributes which are hard for raw data to deciper e.g. a latent factor can correspond to the degree to which a movie is female oriented or degree to which there is a slow development of the charcters.\n",
    "\n",
    "Moreover, the user and the movies are embedded to the same space, which provides a direct way to compute user-movie similarity.\n",
    "\n",
    "We will use Singular Value Decomposition (SVD) for factorizing the matrix."
   ]
  },
  {
   "cell_type": "code",
   "execution_count": null,
   "metadata": {},
   "outputs": [],
   "source": [
    "#export\n",
    "import pandas as pd\n",
    "import numpy as np\n",
    "from sklearn.metrics.pairwise import cosine_similarity\n",
    "from scipy.sparse.linalg import svds"
   ]
  },
  {
   "cell_type": "code",
   "execution_count": null,
   "metadata": {},
   "outputs": [],
   "source": [
    "rating_df = pd.read_csv('https://raw.githubusercontent.com/sparsh-ai/rec-data-public/master/ml-other/ml100k_ratings.csv', sep=',', header=0)"
   ]
  },
  {
   "cell_type": "code",
   "execution_count": null,
   "metadata": {},
   "outputs": [],
   "source": [
    "#export\n",
    "class SVDSimilarity:\n",
    "    def fit(self, df, user_col='user_id', item_col='item_id', rating_col='rating', n_factors=50):\n",
    "        ratings_mat = np.ndarray(\n",
    "            shape=(np.max(df[item_col].values), np.max(df[user_col].values)), \n",
    "            dtype=np.uint8)\n",
    "        ratings_mat[df[item_col].values-1, df[user_col].values-1] = df[rating_col].values\n",
    "        # normalize the rating matrix\n",
    "        normalised_mat = ratings_mat - np.asarray([(np.mean(ratings_mat, 1))]).T\n",
    "        A = normalised_mat.T / np.sqrt(ratings_mat.shape[0] - 1)\n",
    "        _, _, V = svds(A, n_factors)\n",
    "        self.item_factors = V.T\n",
    "\n",
    "    def recommend(self, itemid, top_k=5):\n",
    "        item_row = self.item_factors[itemid].reshape(1,-1)\n",
    "        similarity = cosine_similarity(item_row, self.item_factors)\n",
    "        sort_indexes = list(np.argsort(-similarity)[0][1:top_k+1])\n",
    "        return sort_indexes"
   ]
  },
  {
   "cell_type": "code",
   "execution_count": null,
   "metadata": {},
   "outputs": [
    {
     "data": {
      "text/plain": [
       "[106886, 57330, 34214, 26962, 97394]"
      ]
     },
     "execution_count": null,
     "metadata": {},
     "output_type": "execute_result"
    }
   ],
   "source": [
    "model = SVDSimilarity()\n",
    "\n",
    "model.fit(df=rating_df, user_col='userId', item_col='movieId')\n",
    "model.recommend(itemid=10)"
   ]
  }
 ],
 "metadata": {
  "kernelspec": {
   "display_name": "Python 3",
   "name": "python3"
  }
 },
 "nbformat": 4,
 "nbformat_minor": 0
}
