{
 "cells": [
  {
   "cell_type": "code",
   "execution_count": null,
   "metadata": {},
   "outputs": [],
   "source": [
    "# default_exp models.bases.ctr"
   ]
  },
  {
   "cell_type": "markdown",
   "metadata": {},
   "source": [
    "# CTR Models\n",
    "> Implementation of CTR base models in Pytorch lightning."
   ]
  },
  {
   "cell_type": "code",
   "execution_count": null,
   "metadata": {},
   "outputs": [],
   "source": [
    "#hide\n",
    "from nbdev.showdoc import *\n",
    "from fastcore.nb_imports import *\n",
    "from fastcore.test import *"
   ]
  },
  {
   "cell_type": "code",
   "execution_count": null,
   "metadata": {},
   "outputs": [],
   "source": [
    "#export\n",
    "import os\n",
    "import numpy as np\n",
    "from sklearn.metrics import roc_auc_score, log_loss, accuracy_score\n",
    "\n",
    "import torch\n",
    "from torch import nn\n",
    "from torch.nn import functional as F\n",
    "\n",
    "from pytorch_lightning import LightningModule"
   ]
  },
  {
   "cell_type": "code",
   "execution_count": null,
   "metadata": {},
   "outputs": [],
   "source": [
    "#exporti\n",
    "def evaluate_metrics(y_true, y_pred, metrics):\n",
    "    result = dict()\n",
    "    for metric in metrics:\n",
    "        if metric in ['logloss', 'binary_crossentropy']:\n",
    "            result[metric] = log_loss(y_true, y_pred, eps=1e-7)\n",
    "        elif metric == 'AUC':\n",
    "            result[metric] = roc_auc_score(y_true, y_pred)\n",
    "        elif metric == \"ACC\":\n",
    "            y_pred = np.argmax(y_pred, axis=1)\n",
    "            result[metric] = accuracy_score(y_true, y_pred)\n",
    "    print('[Metrics] ' + ' - '.join('{}: {:.6f}'.format(k, v) for k, v in result.items()))\n",
    "    return result"
   ]
  },
  {
   "cell_type": "code",
   "execution_count": null,
   "metadata": {},
   "outputs": [],
   "source": [
    "#export\n",
    "class CTRModel(LightningModule):\n",
    "    def __init__(self, \n",
    "                 feature_map, \n",
    "                 model_id=\"CTRModel\",\n",
    "                 optimizer='adamw',\n",
    "                 learning_rate = 0.003,\n",
    "                 **kwargs):\n",
    "        super().__init__()\n",
    "        self._feature_map = feature_map\n",
    "        self.model_id = model_id\n",
    "        self.optimizer = optimizer\n",
    "        self.learning_rate = learning_rate\n",
    "        self.model_dir = os.path.join(kwargs[\"model_root\"], feature_map.dataset_id)\n",
    "        self.checkpoint = os.path.abspath(os.path.join(self.model_dir, self.model_id + \"_model.ckpt\"))\n",
    "        self._validation_metrics = kwargs[\"metrics\"]\n",
    "        self._verbose = kwargs[\"verbose\"]\n",
    "\n",
    "    def forward(self, users, items):\n",
    "        raise NotImplementedError\n",
    "\n",
    "    def training_step(self, batch, batch_idx):\n",
    "        features, y_true = batch\n",
    "        y_pred = self(features)\n",
    "\n",
    "        y_pred = y_pred.view(-1,1).squeeze()\n",
    "        y_true = y_true.float()\n",
    "\n",
    "        loss = self.loss_fn(y_pred, y_true)\n",
    "\n",
    "        return {\n",
    "            \"loss\": loss,\n",
    "            \"y_pred\": y_pred.detach(),\n",
    "        }\n",
    "\n",
    "    def training_epoch_end(self, outputs):\n",
    "        # This function recevies as parameters the output from \"training_step()\"\n",
    "        # Outputs is a list which contains a dictionary like:\n",
    "        # [{'pred':x,'target':x,'loss':x}, {'pred':x,'target':x,'loss':x}, ...]\n",
    "        pass\n",
    "\n",
    "    def validation_step(self, batch, batch_idx):\n",
    "        features, y_true = batch\n",
    "        y_pred = self(features)\n",
    "\n",
    "        y_pred = np.array(y_pred.cpu().numpy().reshape(-1), np.float64)\n",
    "        y_true = np.array(y_true.cpu().numpy().reshape(-1), np.float64)\n",
    "        val_logs = evaluate_metrics(y_true, y_pred, self._validation_metrics)\n",
    "        self.log(\"Val Metrics\", val_logs, prog_bar=True)\n",
    "\n",
    "        return {\n",
    "            \"y_pred\": y_pred,\n",
    "        }\n",
    "\n",
    "    def validation_epoch_end(self, outputs):\n",
    "        pass\n",
    "\n",
    "    def test_step(self, batch, batch_idx):\n",
    "        features, y_true = batch\n",
    "        y_pred = self(features)\n",
    "\n",
    "        y_pred = np.array(y_pred.cpu().numpy().reshape(-1), np.float64)\n",
    "        y_true = np.array(y_true.cpu().numpy().reshape(-1), np.float64)\n",
    "        test_logs = evaluate_metrics(y_true, y_pred, self._validation_metrics)\n",
    "        self.log(\"Test Metrics\", test_logs, prog_bar=True)\n",
    "\n",
    "        return {\n",
    "            \"y_pred\": y_pred,\n",
    "        }\n",
    "\n",
    "    def test_epoch_end(self, outputs):\n",
    "        pass\n",
    "\n",
    "    def configure_optimizers(self):\n",
    "        if self.optimizer == 'adamw':\n",
    "            return torch.optim.AdamW(self.parameters(), lr=self.learning_rate)\n",
    "        elif self.optimizer == 'adam':\n",
    "            return torch.optim.Adam(self.parameters(), lr=self.learning_rate)\n",
    "        elif self.optimizer == 'sgd':\n",
    "            return torch.optim.SGD(self.parameters(), lr=self.learning_rate)\n",
    "        else:\n",
    "            raise ValueError(f'Invalid optimizer type: {self.optimizer}')\n",
    "\n",
    "    def loss_fn(self, y_pred, y_true):\n",
    "        return F.binary_cross_entropy(y_pred, y_true, reduction='mean')        \n",
    "\n",
    "    def init_weights(self, embedding_initializer=None):\n",
    "        def _initialize(m):\n",
    "            if type(m) == nn.ModuleDict:\n",
    "                for k, v in m.items():\n",
    "                    if type(v) == nn.Embedding:\n",
    "                        if \"pretrained_emb\" in self._feature_map.feature_specs[k]: # skip pretrained\n",
    "                            continue\n",
    "                        if embedding_initializer is not None:\n",
    "                            try:\n",
    "                                initializer = embedding_initializer.replace(\"(\", \"(v.weight,\")\n",
    "                                eval(initializer)\n",
    "                            except:\n",
    "                                raise NotImplementedError(\"embedding_initializer={} is not supported.\"\\\n",
    "                                                          .format(embedding_initializer))\n",
    "                        else:\n",
    "                            nn.init.xavier_normal_(v.weight)\n",
    "            if type(m) == nn.Linear:\n",
    "                nn.init.xavier_normal_(m.weight)\n",
    "                if m.bias is not None:\n",
    "                    m.bias.data.fill_(0)\n",
    "        self.apply(_initialize)\n",
    "\n",
    "    def get_final_activation(self, task=\"binary_classification\"):\n",
    "        if task == \"binary_classification\":\n",
    "            return nn.Sigmoid()\n",
    "        elif task == \"multi_classification\":\n",
    "            return nn.Softmax(dim=-1)\n",
    "        elif task == \"regression\":\n",
    "            return None\n",
    "        else:\n",
    "            raise NotImplementedError(\"task={} is not supported.\".format(task))"
   ]
  },
  {
   "cell_type": "markdown",
   "metadata": {},
   "source": [
    "> **References**\n",
    "> - FuxiCTR Project, https://github.com/RecoHut-Stanzas/S516304."
   ]
  },
  {
   "cell_type": "code",
   "execution_count": null,
   "metadata": {},
   "outputs": [
    {
     "name": "stdout",
     "output_type": "stream",
     "text": [
      "Author: Sparsh A.\n",
      "\n",
      "Last updated: 2022-01-11 14:29:29\n",
      "\n",
      "pytorch_lightning: 1.5.8\n",
      "\n",
      "Compiler    : GCC 7.5.0\n",
      "OS          : Linux\n",
      "Release     : 5.4.144+\n",
      "Machine     : x86_64\n",
      "Processor   : x86_64\n",
      "CPU cores   : 2\n",
      "Architecture: 64bit\n",
      "\n",
      "IPython   : 5.5.0\n",
      "PIL       : 7.1.2\n",
      "numpy     : 1.19.5\n",
      "torch     : 1.10.0+cu111\n",
      "matplotlib: 3.2.2\n",
      "\n"
     ]
    }
   ],
   "source": [
    "#hide\n",
    "%reload_ext watermark\n",
    "%watermark -a \"Sparsh A.\" -m -iv -u -t -d -p pytorch_lightning"
   ]
  },
  {
   "cell_type": "markdown",
   "metadata": {},
   "source": [
    "# Prototype"
   ]
  },
  {
   "cell_type": "code",
   "execution_count": null,
   "metadata": {},
   "outputs": [],
   "source": []
  },
  {
   "cell_type": "code",
   "execution_count": null,
   "metadata": {},
   "outputs": [],
   "source": []
  },
  {
   "cell_type": "code",
   "execution_count": null,
   "metadata": {},
   "outputs": [],
   "source": []
  }
 ],
 "metadata": {
  "kernelspec": {
   "display_name": "Python 3",
   "name": "python3"
  }
 },
 "nbformat": 4,
 "nbformat_minor": 0
}
