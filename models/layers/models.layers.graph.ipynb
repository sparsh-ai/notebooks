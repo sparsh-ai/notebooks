{
 "cells": [
  {
   "cell_type": "code",
   "execution_count": null,
   "metadata": {},
   "outputs": [],
   "source": [
    "# default_exp models.layers.graph"
   ]
  },
  {
   "cell_type": "markdown",
   "metadata": {},
   "source": [
    "# Graph Layers\n",
    "> Implementation of NN graph layers in Pytorch."
   ]
  },
  {
   "cell_type": "code",
   "execution_count": null,
   "metadata": {},
   "outputs": [],
   "source": [
    "#hide\n",
    "from nbdev.showdoc import *\n",
    "from fastcore.nb_imports import *\n",
    "from fastcore.test import *"
   ]
  },
  {
   "cell_type": "code",
   "execution_count": null,
   "metadata": {},
   "outputs": [],
   "source": [
    "#export\n",
    "import torch\n",
    "import torch.nn as nn\n",
    "import torch.nn.functional as F\n",
    "from itertools import product"
   ]
  },
  {
   "cell_type": "code",
   "execution_count": null,
   "metadata": {},
   "outputs": [],
   "source": [
    "#export\n",
    "class FiGNN_Layer(nn.Module):\n",
    "    def __init__(self, \n",
    "                 num_fields, \n",
    "                 embedding_dim,\n",
    "                 gnn_layers=3,\n",
    "                 reuse_graph_layer=False,\n",
    "                 use_gru=True,\n",
    "                 use_residual=True,\n",
    "                 device=None):\n",
    "        super(FiGNN_Layer, self).__init__()\n",
    "        self.num_fields = num_fields\n",
    "        self.embedding_dim = embedding_dim\n",
    "        self.gnn_layers = gnn_layers\n",
    "        self.use_residual = use_residual\n",
    "        self.reuse_graph_layer = reuse_graph_layer\n",
    "        self.device = device\n",
    "        if reuse_graph_layer:\n",
    "            self.gnn = GraphLayer(num_fields, embedding_dim)\n",
    "        else:\n",
    "            self.gnn = nn.ModuleList([GraphLayer(num_fields, embedding_dim)\n",
    "                                      for _ in range(gnn_layers)])\n",
    "        self.gru = nn.GRUCell(embedding_dim, embedding_dim) if use_gru else None\n",
    "        self.src_nodes, self.dst_nodes = zip(*list(product(range(num_fields), repeat=2)))\n",
    "        self.leaky_relu = nn.LeakyReLU(negative_slope=0.01)\n",
    "        self.W_attn = nn.Linear(embedding_dim * 2, 1, bias=False)\n",
    "\n",
    "    def build_graph_with_attention(self, feature_emb):\n",
    "        src_emb = feature_emb[:, self.src_nodes, :]\n",
    "        dst_emb = feature_emb[:, self.dst_nodes, :]\n",
    "        concat_emb = torch.cat([src_emb, dst_emb], dim=-1)\n",
    "        alpha = self.leaky_relu(self.W_attn(concat_emb))\n",
    "        alpha = alpha.view(-1, self.num_fields, self.num_fields)\n",
    "        mask = torch.eye(self.num_fields).to(self.device)\n",
    "        alpha = alpha.masked_fill(mask.byte(), float('-inf'))\n",
    "        graph = F.softmax(alpha, dim=-1) # batch x field x field without self-loops\n",
    "        return graph\n",
    "\n",
    "    def forward(self, feature_emb):\n",
    "        g = self.build_graph_with_attention(feature_emb)\n",
    "        h = feature_emb\n",
    "        for i in range(self.gnn_layers):\n",
    "            if self.reuse_graph_layer:\n",
    "                a = self.gnn(g, h)\n",
    "            else:\n",
    "                a = self.gnn[i](g, h)\n",
    "            if self.gru is not None:\n",
    "                a = a.view(-1, self.embedding_dim)\n",
    "                h = h.view(-1, self.embedding_dim)\n",
    "                h = self.gru(a, h)\n",
    "                h = h.view(-1, self.num_fields, self.embedding_dim)\n",
    "            else:\n",
    "                h = a + h\n",
    "            if self.use_residual:\n",
    "                h += feature_emb\n",
    "        return h"
   ]
  },
  {
   "cell_type": "code",
   "execution_count": null,
   "metadata": {},
   "outputs": [],
   "source": [
    "#export\n",
    "class GraphLayer(nn.Module):\n",
    "    def __init__(self, num_fields, embedding_dim):\n",
    "        super(GraphLayer, self).__init__()\n",
    "        self.W_in = torch.nn.Parameter(torch.Tensor(num_fields, embedding_dim, embedding_dim))\n",
    "        self.W_out = torch.nn.Parameter(torch.Tensor(num_fields, embedding_dim, embedding_dim))\n",
    "        nn.init.xavier_normal_(self.W_in)\n",
    "        nn.init.xavier_normal_(self.W_out)\n",
    "        self.bias_p = nn.Parameter(torch.zeros(embedding_dim))\n",
    "\n",
    "    def forward(self, g, h):\n",
    "        h_out = torch.matmul(self.W_out, h.unsqueeze(-1)).squeeze(-1) # broadcast multiply\n",
    "        aggr = torch.bmm(g, h_out)\n",
    "        a = torch.matmul(self.W_in, aggr.unsqueeze(-1)).squeeze(-1) + self.bias_p\n",
    "        return a"
   ]
  },
  {
   "cell_type": "markdown",
   "metadata": {},
   "source": [
    "> **References**\n",
    "> - https://github.com/xue-pai/FuxiCTR/blob/main/fuxictr/pytorch/layers"
   ]
  },
  {
   "cell_type": "code",
   "execution_count": null,
   "metadata": {},
   "outputs": [
    {
     "name": "stdout",
     "output_type": "stream",
     "text": [
      "Author: Sparsh A.\n",
      "\n",
      "Last updated: 2022-01-11 12:45:35\n",
      "\n",
      "Compiler    : GCC 7.5.0\n",
      "OS          : Linux\n",
      "Release     : 5.4.144+\n",
      "Machine     : x86_64\n",
      "Processor   : x86_64\n",
      "CPU cores   : 2\n",
      "Architecture: 64bit\n",
      "\n",
      "IPython: 5.5.0\n",
      "torch  : 1.10.0+cu111\n",
      "\n"
     ]
    }
   ],
   "source": [
    "#hide\n",
    "%reload_ext watermark\n",
    "%watermark -a \"Sparsh A.\" -m -iv -u -t -d"
   ]
  }
 ],
 "metadata": {
  "kernelspec": {
   "display_name": "Python 3",
   "name": "python3"
  }
 },
 "nbformat": 4,
 "nbformat_minor": 0
}
