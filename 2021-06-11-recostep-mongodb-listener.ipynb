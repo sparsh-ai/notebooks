{
 "cells": [
  {
   "cell_type": "markdown",
   "metadata": {
    "id": "jX4a2Mj0LNef"
   },
   "source": [
    "# Kafka MongoDB Real-time Streaming MongoDB Listener\n",
    "> Listening mongoDB data events in real-time.\n",
    "\n",
    "- toc: true\n",
    "- badges: true\n",
    "- comments: true\n",
    "- categories: [mongodb, real time]\n",
    "- image: "
   ]
  },
  {
   "cell_type": "code",
   "execution_count": 1,
   "metadata": {
    "colab": {
     "base_uri": "https://localhost:8080/"
    },
    "id": "fIk1Q3gTuAlw",
    "outputId": "799cf775-ec13-4c20-ca9f-018b6ece7ca3"
   },
   "outputs": [
    {
     "name": "stdout",
     "output_type": "stream",
     "text": [
      "Uninstalling pymongo-3.11.4:\n",
      "  Would remove:\n",
      "    /usr/local/lib/python3.7/dist-packages/bson/*\n",
      "    /usr/local/lib/python3.7/dist-packages/gridfs/*\n",
      "    /usr/local/lib/python3.7/dist-packages/pymongo-3.11.4.dist-info/*\n",
      "    /usr/local/lib/python3.7/dist-packages/pymongo/*\n",
      "Proceed (y/n)? y\n",
      "  Successfully uninstalled pymongo-3.11.4\n",
      "Collecting pymongo[srv]\n",
      "\u001b[?25l  Downloading https://files.pythonhosted.org/packages/b1/29/c0c8791ba972456f8aa3f027af33206499bc9f52a948e0d9c10909339b3c/pymongo-3.11.4-cp37-cp37m-manylinux2014_x86_64.whl (512kB)\n",
      "\u001b[K     |████████████████████████████████| 522kB 4.1MB/s \n",
      "\u001b[?25hCollecting dnspython<2.0.0,>=1.16.0; extra == \"srv\"\n",
      "\u001b[?25l  Downloading https://files.pythonhosted.org/packages/ec/d3/3aa0e7213ef72b8585747aa0e271a9523e713813b9a20177ebe1e939deb0/dnspython-1.16.0-py2.py3-none-any.whl (188kB)\n",
      "\u001b[K     |████████████████████████████████| 194kB 27.0MB/s \n",
      "\u001b[?25hInstalling collected packages: dnspython, pymongo\n",
      "Successfully installed dnspython-1.16.0 pymongo-3.11.4\n"
     ]
    }
   ],
   "source": [
    "!pip uninstall pymongo\n",
    "!pip install pymongo[srv]"
   ]
  },
  {
   "cell_type": "code",
   "execution_count": 2,
   "metadata": {
    "id": "PEMdGJpYuEd4"
   },
   "outputs": [],
   "source": [
    "import os\n",
    "import pymongo\n",
    "from bson.json_util import dumps\n",
    "\n",
    "MONGODB_USER = 'kafka-demo'\n",
    "MONGODB_PASSWORD = '<your-pass>'\n",
    "MONGODB_CLUSTER = 'cluster0.ca4wh.mongodb.net'\n",
    "MONGODB_DATABASE = 'movielens'\n",
    "\n",
    "mongo_uri = f\"mongodb+srv://{MONGODB_USER}:{MONGODB_PASSWORD}@{MONGODB_CLUSTER}/{MONGODB_DATABASE}?retryWrites=true&w=majority\"\n",
    "client = pymongo.MongoClient(mongo_uri)"
   ]
  },
  {
   "cell_type": "code",
   "execution_count": 3,
   "metadata": {
    "id": "3qT-btVF3Q-F"
   },
   "outputs": [],
   "source": [
    "import pandas as pd\n",
    "movies = pd.DataFrame(columns=['_id','movieId','title','genres'])"
   ]
  },
  {
   "cell_type": "code",
   "execution_count": null,
   "metadata": {
    "colab": {
     "base_uri": "https://localhost:8080/",
     "height": 80
    },
    "id": "qCvUib_euNGA",
    "outputId": "f45485da-8f84-4bc2-a8af-14a830a14e84"
   },
   "outputs": [
    {
     "data": {
      "text/html": [
       "<div>\n",
       "<style scoped>\n",
       "    .dataframe tbody tr th:only-of-type {\n",
       "        vertical-align: middle;\n",
       "    }\n",
       "\n",
       "    .dataframe tbody tr th {\n",
       "        vertical-align: top;\n",
       "    }\n",
       "\n",
       "    .dataframe thead th {\n",
       "        text-align: right;\n",
       "    }\n",
       "</style>\n",
       "<table border=\"1\" class=\"dataframe\">\n",
       "  <thead>\n",
       "    <tr style=\"text-align: right;\">\n",
       "      <th></th>\n",
       "      <th>_id</th>\n",
       "      <th>movieId</th>\n",
       "      <th>title</th>\n",
       "      <th>genres</th>\n",
       "    </tr>\n",
       "  </thead>\n",
       "  <tbody>\n",
       "    <tr>\n",
       "      <th>0</th>\n",
       "      <td>60c39d0078640c489089261e</td>\n",
       "      <td>3</td>\n",
       "      <td>Grumpier Old Men (1995)</td>\n",
       "      <td>Comedy|Romance</td>\n",
       "    </tr>\n",
       "  </tbody>\n",
       "</table>\n",
       "</div>"
      ],
      "text/plain": [
       "                        _id movieId                    title          genres\n",
       "0  60c39d0078640c489089261e       3  Grumpier Old Men (1995)  Comedy|Romance"
      ]
     },
     "metadata": {
      "tags": []
     },
     "output_type": "display_data"
    }
   ],
   "source": [
    "change_stream = client.movielens.movies.watch()\n",
    "for change in change_stream:\n",
    "  _temp = change['fullDocument']\n",
    "  movies = movies.append(pd.DataFrame(_temp, columns=_temp.keys(), index=[0]), ignore_index=True)\n",
    "  display(movies)"
   ]
  }
 ],
 "metadata": {
  "colab": {
   "authorship_tag": "ABX9TyP4VYbTrMIRWIcSuhR0RolF",
   "collapsed_sections": [],
   "mount_file_id": "1_PgAmpJVL4TmPzTICM3q4Il6vwpf2pHd",
   "name": "2021-06-11-recostep-mongodb-listener.ipynb",
   "provenance": []
  },
  "kernelspec": {
   "display_name": "Python 3",
   "language": "python",
   "name": "python3"
  },
  "language_info": {
   "codemirror_mode": {
    "name": "ipython",
    "version": 3
   },
   "file_extension": ".py",
   "mimetype": "text/x-python",
   "name": "python",
   "nbconvert_exporter": "python",
   "pygments_lexer": "ipython3",
   "version": "3.7.3"
  }
 },
 "nbformat": 4,
 "nbformat_minor": 4
}
