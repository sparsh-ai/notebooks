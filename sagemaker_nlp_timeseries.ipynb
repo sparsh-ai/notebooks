{
  "nbformat": 4,
  "nbformat_minor": 0,
  "metadata": {
    "colab": {
      "name": "sagemaker-nlp-timeseries",
      "provenance": [],
      "collapsed_sections": [],
      "toc_visible": true
    },
    "kernelspec": {
      "name": "python3",
      "display_name": "Python 3"
    },
    "language_info": {
      "name": "python"
    }
  },
  "cells": [
    {
      "cell_type": "markdown",
      "source": [
        "We will cover the following recipes in this chapter:\n",
        "\n",
        "- Generating a synthetic dataset for text classification problems\n",
        "- Preparing the test dataset for batch transform inference jobs\n",
        "- Training and deploying a BlazingText model\n",
        "- Using Batch Transform for inference\n",
        "- Generating a synthetic time-series dataset\n",
        "- Performing the train-test split on a time series dataset\n",
        "- Training and deploying a DeepAR model\n",
        "- Performing probabilistic forecasting with a deployed DeepAR model"
      ],
      "metadata": {
        "id": "JOKgyET3aLtN"
      }
    },
    {
      "cell_type": "markdown",
      "source": [
        "## Setup"
      ],
      "metadata": {
        "id": "buQG1NwoZ45_"
      }
    },
    {
      "cell_type": "code",
      "source": [
        "# install tree command (helpful in printing folder structures)\n",
        "!apt-get install tree\n",
        "\n",
        "# setup AWS cli\n",
        "!mkdir -p ~/.aws && cp /content/drive/MyDrive/AWS/d01_admin/* ~/.aws\n",
        "!chmod 600 ~/.aws/credentials\n",
        "!pip install awscli\n",
        "\n",
        "# install boto3 and sagemaker\n",
        "!pip install boto3\n",
        "!pip install sagemaker\n",
        "\n",
        "# install dependencies\n",
        "!pip install pyathena\n",
        "!pip install awswrangler\n",
        "!pip install smclarify\n",
        "!pip install sagemaker-experiments\n",
        "!pip install sagemaker-tensorflow\n",
        "!pip install smclarify\n",
        "\n",
        "# install nlp libs\n",
        "!pip install transformers"
      ],
      "metadata": {
        "id": "e_EHScmWJiqk"
      },
      "execution_count": null,
      "outputs": []
    },
    {
      "cell_type": "code",
      "source": [
        "# imports\n",
        "import boto3\n",
        "import sagemaker\n",
        "import re\n",
        "import pandas as pd\n",
        "import numpy as np\n",
        "import matplotlib.pyplot as plt\n",
        "import io\n",
        "import os\n",
        "import sys\n",
        "import time\n",
        "import json\n",
        "from sagemaker.estimator import Estimator\n",
        "from sagemaker.inputs import TrainingInput\n",
        "from sagemaker.serializers import JSONSerializer"
      ],
      "metadata": {
        "id": "shclWy5gJkLA"
      },
      "execution_count": 37,
      "outputs": []
    },
    {
      "cell_type": "code",
      "source": [
        "# global variables\n",
        "role = \"sagemakerRole\"\n",
        "prefix = \"sagemaker-exp123\"\n",
        "training_instance_type = \"ml.m5.xlarge\""
      ],
      "metadata": {
        "id": "saHf4b7SJlrM"
      },
      "execution_count": 24,
      "outputs": []
    },
    {
      "cell_type": "code",
      "source": [
        "# setup sagemaker session\n",
        "sess = sagemaker.Session()\n",
        "bucket = sess.default_bucket()\n",
        "region = boto3.Session().region_name\n",
        "account_id = boto3.client(\"sts\").get_caller_identity().get(\"Account\")\n",
        "role_arn = \"arn:aws:iam::{}:role/{}\".format(account_id, role)\n",
        "sm = boto3.Session().client(service_name=\"sagemaker\", region_name=region)\n",
        "s3 = boto3.Session().client(service_name=\"s3\", region_name=region)"
      ],
      "metadata": {
        "id": "QoL2z13gJm-T"
      },
      "execution_count": 3,
      "outputs": []
    },
    {
      "cell_type": "markdown",
      "source": [
        "## Generating a synthetic dataset for text classification problems"
      ],
      "metadata": {
        "id": "Mu0IcGFLZ-V1"
      }
    },
    {
      "cell_type": "code",
      "source": [
        "%%capture\n",
        "!pip install faker"
      ],
      "metadata": {
        "id": "28e7mGrFZ-58"
      },
      "execution_count": 4,
      "outputs": []
    },
    {
      "cell_type": "code",
      "source": [
        "from faker import Faker\n",
        "faker = Faker()"
      ],
      "metadata": {
        "id": "aoy19EXLaqxe"
      },
      "execution_count": 5,
      "outputs": []
    },
    {
      "cell_type": "code",
      "source": [
        "positive_custom_list = [\n",
        "    'this is good', \n",
        "    'i like it', \n",
        "    'very delicious', \n",
        "    'i would recommend this to my friends',\n",
        "    'food in the restaurant',\n",
        "    'spaghetti chicken soup',\n",
        "    'dinner time',\n",
        "    'tastes good',\n",
        "    'donut',\n",
        "    'very good',\n",
        "    'impressive']\n",
        "\n",
        "def generate_positive_sentences():\n",
        "    return faker.sentence(\n",
        "        ext_word_list=positive_custom_list\n",
        "    )\n",
        "\n",
        "positive_sentences = []\n",
        "\n",
        "for i in range(0, 1000):\n",
        "    item = generate_positive_sentences()\n",
        "    item = item.replace(\".\",\"\")\n",
        "    positive_sentences.append(item)\n",
        "\n",
        "positive_sentences[:10]"
      ],
      "metadata": {
        "id": "EAb1KMOJarIB",
        "outputId": "e413606f-fa99-46fb-abc0-dde0f5f5ce38",
        "colab": {
          "base_uri": "https://localhost:8080/"
        }
      },
      "execution_count": 7,
      "outputs": [
        {
          "output_type": "execute_result",
          "data": {
            "text/plain": [
              "['Food In The Restaurant tastes good impressive food in the restaurant spaghetti chicken soup',\n",
              " 'I Would Recommend This To My Friends very good very good donut',\n",
              " 'Impressive donut impressive spaghetti chicken soup i like it',\n",
              " 'Very Good food in the restaurant this is good',\n",
              " 'Very Good impressive very delicious impressive very good food in the restaurant very delicious spaghetti chicken soup',\n",
              " 'I Like It very good food in the restaurant dinner time dinner time',\n",
              " 'Very Delicious spaghetti chicken soup this is good i like it i like it this is good',\n",
              " 'I Like It very delicious i would recommend this to my friends donut donut dinner time spaghetti chicken soup',\n",
              " 'Very Good very delicious i like it donut',\n",
              " 'This Is Good food in the restaurant dinner time spaghetti chicken soup']"
            ]
          },
          "metadata": {},
          "execution_count": 7
        }
      ]
    },
    {
      "cell_type": "code",
      "source": [
        "negative_custom_list = [\n",
        "    'this is bad', \n",
        "    'i hate it', \n",
        "    'there are better restaurants out there', \n",
        "    'i will not recommend this to my friends',\n",
        "    'food in the restaurant',\n",
        "    'spaghetti chicken soup',\n",
        "    'dinner time',\n",
        "    'tastes bad',\n",
        "    'donut',\n",
        "    'very bad',\n",
        "    'not impressive']\n",
        "\n",
        "def generate_negative_sentences():\n",
        "    return faker.sentence(\n",
        "        ext_word_list=negative_custom_list\n",
        "    )\n",
        "\n",
        "negative_sentences = []\n",
        "\n",
        "for i in range(0, 1000):\n",
        "    item = generate_negative_sentences()\n",
        "    item = item.replace(\".\",\"\")\n",
        "    negative_sentences.append(item)\n",
        "\n",
        "negative_sentences[:10]"
      ],
      "metadata": {
        "id": "LRyGqpVta4Km",
        "outputId": "d486dc2e-1cce-4a2c-fcba-e88a7e79d5e7",
        "colab": {
          "base_uri": "https://localhost:8080/"
        }
      },
      "execution_count": 8,
      "outputs": [
        {
          "output_type": "execute_result",
          "data": {
            "text/plain": [
              "['I Hate It there are better restaurants out there spaghetti chicken soup there are better restaurants out there',\n",
              " 'Not Impressive i will not recommend this to my friends there are better restaurants out there not impressive this is bad',\n",
              " 'Not Impressive i will not recommend this to my friends tastes bad there are better restaurants out there there are better restaurants out there there are better restaurants out there very bad',\n",
              " 'Spaghetti Chicken Soup dinner time this is bad tastes bad not impressive donut food in the restaurant',\n",
              " 'Very Bad donut not impressive donut i hate it this is bad',\n",
              " 'Dinner Time there are better restaurants out there not impressive there are better restaurants out there not impressive food in the restaurant',\n",
              " 'Dinner Time food in the restaurant i hate it there are better restaurants out there spaghetti chicken soup very bad i hate it',\n",
              " 'Dinner Time very bad spaghetti chicken soup',\n",
              " 'Food In The Restaurant i will not recommend this to my friends i will not recommend this to my friends spaghetti chicken soup',\n",
              " 'I Hate It dinner time donut this is bad']"
            ]
          },
          "metadata": {},
          "execution_count": 8
        }
      ]
    },
    {
      "cell_type": "code",
      "source": [
        "positive_df = pd.DataFrame(\n",
        "    positive_sentences, \n",
        "    columns=['text']\n",
        ")\n",
        "\n",
        "positive_df.insert(\n",
        "    0, \n",
        "    \"label\", \n",
        "    \"__label__positive\"\n",
        ")\n",
        "\n",
        "negative_df = pd.DataFrame(\n",
        "    negative_sentences, \n",
        "    columns=['text']\n",
        ")\n",
        "\n",
        "negative_df.insert(\n",
        "    0, \n",
        "    \"label\", \n",
        "    \"__label__negative\"\n",
        ")\n",
        "\n",
        "all_df = pd.concat(\n",
        "    [positive_df, negative_df], \n",
        "    ignore_index=True\n",
        ")\n",
        "\n",
        "all_df"
      ],
      "metadata": {
        "id": "FDRfp9mvbCni",
        "outputId": "cc746416-50f0-4241-e028-71e5ff855d6d",
        "colab": {
          "base_uri": "https://localhost:8080/",
          "height": 424
        }
      },
      "execution_count": 9,
      "outputs": [
        {
          "output_type": "execute_result",
          "data": {
            "text/plain": [
              "                  label                                               text\n",
              "0     __label__positive  Food In The Restaurant tastes good impressive ...\n",
              "1     __label__positive  I Would Recommend This To My Friends very good...\n",
              "2     __label__positive  Impressive donut impressive spaghetti chicken ...\n",
              "3     __label__positive      Very Good food in the restaurant this is good\n",
              "4     __label__positive  Very Good impressive very delicious impressive...\n",
              "...                 ...                                                ...\n",
              "1995  __label__negative  There Are Better Restaurants Out There donut d...\n",
              "1996  __label__negative  I Will Not Recommend This To My Friends spaghe...\n",
              "1997  __label__negative  This Is Bad donut there are better restaurants...\n",
              "1998  __label__negative  I Hate It spaghetti chicken soup food in the r...\n",
              "1999  __label__negative  There Are Better Restaurants Out There not imp...\n",
              "\n",
              "[2000 rows x 2 columns]"
            ],
            "text/html": [
              "\n",
              "  <div id=\"df-56e2c26b-d042-4900-85ae-a8cf949c5f1a\">\n",
              "    <div class=\"colab-df-container\">\n",
              "      <div>\n",
              "<style scoped>\n",
              "    .dataframe tbody tr th:only-of-type {\n",
              "        vertical-align: middle;\n",
              "    }\n",
              "\n",
              "    .dataframe tbody tr th {\n",
              "        vertical-align: top;\n",
              "    }\n",
              "\n",
              "    .dataframe thead th {\n",
              "        text-align: right;\n",
              "    }\n",
              "</style>\n",
              "<table border=\"1\" class=\"dataframe\">\n",
              "  <thead>\n",
              "    <tr style=\"text-align: right;\">\n",
              "      <th></th>\n",
              "      <th>label</th>\n",
              "      <th>text</th>\n",
              "    </tr>\n",
              "  </thead>\n",
              "  <tbody>\n",
              "    <tr>\n",
              "      <th>0</th>\n",
              "      <td>__label__positive</td>\n",
              "      <td>Food In The Restaurant tastes good impressive ...</td>\n",
              "    </tr>\n",
              "    <tr>\n",
              "      <th>1</th>\n",
              "      <td>__label__positive</td>\n",
              "      <td>I Would Recommend This To My Friends very good...</td>\n",
              "    </tr>\n",
              "    <tr>\n",
              "      <th>2</th>\n",
              "      <td>__label__positive</td>\n",
              "      <td>Impressive donut impressive spaghetti chicken ...</td>\n",
              "    </tr>\n",
              "    <tr>\n",
              "      <th>3</th>\n",
              "      <td>__label__positive</td>\n",
              "      <td>Very Good food in the restaurant this is good</td>\n",
              "    </tr>\n",
              "    <tr>\n",
              "      <th>4</th>\n",
              "      <td>__label__positive</td>\n",
              "      <td>Very Good impressive very delicious impressive...</td>\n",
              "    </tr>\n",
              "    <tr>\n",
              "      <th>...</th>\n",
              "      <td>...</td>\n",
              "      <td>...</td>\n",
              "    </tr>\n",
              "    <tr>\n",
              "      <th>1995</th>\n",
              "      <td>__label__negative</td>\n",
              "      <td>There Are Better Restaurants Out There donut d...</td>\n",
              "    </tr>\n",
              "    <tr>\n",
              "      <th>1996</th>\n",
              "      <td>__label__negative</td>\n",
              "      <td>I Will Not Recommend This To My Friends spaghe...</td>\n",
              "    </tr>\n",
              "    <tr>\n",
              "      <th>1997</th>\n",
              "      <td>__label__negative</td>\n",
              "      <td>This Is Bad donut there are better restaurants...</td>\n",
              "    </tr>\n",
              "    <tr>\n",
              "      <th>1998</th>\n",
              "      <td>__label__negative</td>\n",
              "      <td>I Hate It spaghetti chicken soup food in the r...</td>\n",
              "    </tr>\n",
              "    <tr>\n",
              "      <th>1999</th>\n",
              "      <td>__label__negative</td>\n",
              "      <td>There Are Better Restaurants Out There not imp...</td>\n",
              "    </tr>\n",
              "  </tbody>\n",
              "</table>\n",
              "<p>2000 rows × 2 columns</p>\n",
              "</div>\n",
              "      <button class=\"colab-df-convert\" onclick=\"convertToInteractive('df-56e2c26b-d042-4900-85ae-a8cf949c5f1a')\"\n",
              "              title=\"Convert this dataframe to an interactive table.\"\n",
              "              style=\"display:none;\">\n",
              "        \n",
              "  <svg xmlns=\"http://www.w3.org/2000/svg\" height=\"24px\"viewBox=\"0 0 24 24\"\n",
              "       width=\"24px\">\n",
              "    <path d=\"M0 0h24v24H0V0z\" fill=\"none\"/>\n",
              "    <path d=\"M18.56 5.44l.94 2.06.94-2.06 2.06-.94-2.06-.94-.94-2.06-.94 2.06-2.06.94zm-11 1L8.5 8.5l.94-2.06 2.06-.94-2.06-.94L8.5 2.5l-.94 2.06-2.06.94zm10 10l.94 2.06.94-2.06 2.06-.94-2.06-.94-.94-2.06-.94 2.06-2.06.94z\"/><path d=\"M17.41 7.96l-1.37-1.37c-.4-.4-.92-.59-1.43-.59-.52 0-1.04.2-1.43.59L10.3 9.45l-7.72 7.72c-.78.78-.78 2.05 0 2.83L4 21.41c.39.39.9.59 1.41.59.51 0 1.02-.2 1.41-.59l7.78-7.78 2.81-2.81c.8-.78.8-2.07 0-2.86zM5.41 20L4 18.59l7.72-7.72 1.47 1.35L5.41 20z\"/>\n",
              "  </svg>\n",
              "      </button>\n",
              "      \n",
              "  <style>\n",
              "    .colab-df-container {\n",
              "      display:flex;\n",
              "      flex-wrap:wrap;\n",
              "      gap: 12px;\n",
              "    }\n",
              "\n",
              "    .colab-df-convert {\n",
              "      background-color: #E8F0FE;\n",
              "      border: none;\n",
              "      border-radius: 50%;\n",
              "      cursor: pointer;\n",
              "      display: none;\n",
              "      fill: #1967D2;\n",
              "      height: 32px;\n",
              "      padding: 0 0 0 0;\n",
              "      width: 32px;\n",
              "    }\n",
              "\n",
              "    .colab-df-convert:hover {\n",
              "      background-color: #E2EBFA;\n",
              "      box-shadow: 0px 1px 2px rgba(60, 64, 67, 0.3), 0px 1px 3px 1px rgba(60, 64, 67, 0.15);\n",
              "      fill: #174EA6;\n",
              "    }\n",
              "\n",
              "    [theme=dark] .colab-df-convert {\n",
              "      background-color: #3B4455;\n",
              "      fill: #D2E3FC;\n",
              "    }\n",
              "\n",
              "    [theme=dark] .colab-df-convert:hover {\n",
              "      background-color: #434B5C;\n",
              "      box-shadow: 0px 1px 3px 1px rgba(0, 0, 0, 0.15);\n",
              "      filter: drop-shadow(0px 1px 2px rgba(0, 0, 0, 0.3));\n",
              "      fill: #FFFFFF;\n",
              "    }\n",
              "  </style>\n",
              "\n",
              "      <script>\n",
              "        const buttonEl =\n",
              "          document.querySelector('#df-56e2c26b-d042-4900-85ae-a8cf949c5f1a button.colab-df-convert');\n",
              "        buttonEl.style.display =\n",
              "          google.colab.kernel.accessAllowed ? 'block' : 'none';\n",
              "\n",
              "        async function convertToInteractive(key) {\n",
              "          const element = document.querySelector('#df-56e2c26b-d042-4900-85ae-a8cf949c5f1a');\n",
              "          const dataTable =\n",
              "            await google.colab.kernel.invokeFunction('convertToInteractive',\n",
              "                                                     [key], {});\n",
              "          if (!dataTable) return;\n",
              "\n",
              "          const docLinkHtml = 'Like what you see? Visit the ' +\n",
              "            '<a target=\"_blank\" href=https://colab.research.google.com/notebooks/data_table.ipynb>data table notebook</a>'\n",
              "            + ' to learn more about interactive tables.';\n",
              "          element.innerHTML = '';\n",
              "          dataTable['output_type'] = 'display_data';\n",
              "          await google.colab.output.renderOutput(dataTable, element);\n",
              "          const docLink = document.createElement('div');\n",
              "          docLink.innerHTML = docLinkHtml;\n",
              "          element.appendChild(docLink);\n",
              "        }\n",
              "      </script>\n",
              "    </div>\n",
              "  </div>\n",
              "  "
            ]
          },
          "metadata": {},
          "execution_count": 9
        }
      ]
    },
    {
      "cell_type": "code",
      "source": [
        "from sklearn.model_selection import train_test_split\n",
        "\n",
        "train_val_df, test_df = train_test_split(\n",
        "    all_df, \n",
        "    test_size=0.2\n",
        ") \n",
        "\n",
        "train_df, val_df = train_test_split(\n",
        "    train_val_df, \n",
        "    test_size=0.25\n",
        ")\n",
        "\n",
        "!mkdir tmp \n",
        "\n",
        "train_df.to_csv(\n",
        "    \"synthetic.train.txt\", \n",
        "    header=False, \n",
        "    index=False, \n",
        "    sep=\" \", \n",
        "    quotechar=\" \"\n",
        ")\n",
        "\n",
        "val_df.to_csv(\n",
        "    \"synthetic.validation.txt\", \n",
        "    header=False, \n",
        "    index=False, \n",
        "    sep=\" \", \n",
        "    quotechar=\" \"\n",
        ") \n",
        "\n",
        "test_df.to_csv(\n",
        "    \"synthetic.test.txt\", \n",
        "    header=False, \n",
        "    index=False, \n",
        "    sep=\" \", \n",
        "    quotechar=\" \"\n",
        ")\n",
        "\n",
        "!head synthetic.train.txt"
      ],
      "metadata": {
        "id": "kStxIkzdbJ9Z",
        "outputId": "cf9cf7a1-791c-42c6-aa08-4e988f0c781f",
        "colab": {
          "base_uri": "https://localhost:8080/"
        }
      },
      "execution_count": 10,
      "outputs": [
        {
          "output_type": "stream",
          "name": "stdout",
          "text": [
            "__label__negative  I  Hate  It  dinner  time  this  is  bad  donut  very  bad  donut \n",
            "__label__positive  Dinner  Time  i  would  recommend  this  to  my  friends  dinner  time  this  is  good \n",
            "__label__negative  Very  Bad  tastes  bad  this  is  bad  i  hate  it  donut  donut  food  in  the  restaurant \n",
            "__label__negative  I  Hate  It  not  impressive  not  impressive \n",
            "__label__negative  I  Hate  It  i  will  not  recommend  this  to  my  friends  spaghetti  chicken  soup  dinner  time  donut \n",
            "__label__negative  Food  In  The  Restaurant  donut  not  impressive  tastes  bad  there  are  better  restaurants  out  there  i  hate  it \n",
            "__label__negative  I  Will  Not  Recommend  This  To  My  Friends  tastes  bad  very  bad  food  in  the  restaurant  i  hate  it \n",
            "__label__positive  Dinner  Time  this  is  good  food  in  the  restaurant  very  delicious \n",
            "__label__positive  Food  In  The  Restaurant  donut  spaghetti  chicken  soup  dinner  time  i  would  recommend  this  to  my  friends  spaghetti  chicken  soup \n",
            "__label__positive  I  Like  It  very  delicious  very  good  this  is  good  i  like  it \n"
          ]
        }
      ]
    },
    {
      "cell_type": "code",
      "source": [
        "!aws s3 cp synthetic.train.txt s3://{bucket}/{prefix}/input/synthetic.train.txt \n",
        "!aws s3 cp synthetic.validation.txt s3://{bucket}/{prefix}/input/synthetic.validation.txt"
      ],
      "metadata": {
        "id": "r2DInHeqbUSr",
        "outputId": "53494e11-f953-460d-ee61-c5831fb496da",
        "colab": {
          "base_uri": "https://localhost:8080/"
        }
      },
      "execution_count": 26,
      "outputs": [
        {
          "output_type": "stream",
          "name": "stdout",
          "text": [
            "upload: ./synthetic.train.txt to s3://sagemaker-us-east-1-390354360073/sagemaker-exp123/input/synthetic.train.txt\n",
            "upload: ./synthetic.validation.txt to s3://sagemaker-us-east-1-390354360073/sagemaker-exp123/input/synthetic.validation.txt\n"
          ]
        }
      ]
    },
    {
      "cell_type": "markdown",
      "source": [
        "## Preparing the Test Dataset for Batch Transform Inference Jobs"
      ],
      "metadata": {
        "id": "pr6jVtclbls3"
      }
    },
    {
      "cell_type": "code",
      "source": [
        "test_df_without_label = test_df.drop(\n",
        "    columns=\"label\"\n",
        ")\n",
        "\n",
        "def to_jsonlines(text):\n",
        "    return '{\"source\": \"' + text +'\"}'\n",
        "\n",
        "tmp = test_df_without_label['text'].apply(\n",
        "    to_jsonlines\n",
        ")\n",
        "\n",
        "test_df_without_label['text'] = tmp\n",
        "\n",
        "test_df_without_label.to_csv(\n",
        "    \"synthetic.test_without_labels.txt\", \n",
        "    header=False, \n",
        "    index=False, \n",
        "    sep=\" \", \n",
        "    quotechar=\" \"\n",
        ")\n",
        "\n",
        "!head synthetic.test_without_labels.txt"
      ],
      "metadata": {
        "id": "kUfEuQLActna",
        "outputId": "9afb3b9a-2052-49a6-f38f-9568a1928238",
        "colab": {
          "base_uri": "https://localhost:8080/"
        }
      },
      "execution_count": 27,
      "outputs": [
        {
          "output_type": "stream",
          "name": "stdout",
          "text": [
            " {\"source\":  \"There  Are  Better  Restaurants  Out  There  there  are  better  restaurants  out  there  dinner  time  tastes  bad  not  impressive  i  hate  it\"} \n",
            " {\"source\":  \"Tastes  Good  this  is  good  food  in  the  restaurant  i  would  recommend  this  to  my  friends\"} \n",
            " {\"source\":  \"Tastes  Good  i  would  recommend  this  to  my  friends  very  good  this  is  good  i  would  recommend  this  to  my  friends\"} \n",
            " {\"source\":  \"There  Are  Better  Restaurants  Out  There  food  in  the  restaurant  not  impressive\"} \n",
            " {\"source\":  \"Dinner  Time  dinner  time  this  is  bad  food  in  the  restaurant  there  are  better  restaurants  out  there\"} \n",
            " {\"source\":  \"Donut  there  are  better  restaurants  out  there  donut  there  are  better  restaurants  out  there  donut  spaghetti  chicken  soup  food  in  the  restaurant\"} \n",
            " {\"source\":  \"Donut  impressive  food  in  the  restaurant  this  is  good  very  delicious  impressive  impressive\"} \n",
            " {\"source\":  \"Dinner  Time  not  impressive  donut  i  hate  it  tastes  bad  dinner  time  not  impressive\"} \n",
            " {\"source\":  \"Very  Good  food  in  the  restaurant  donut  i  like  it  spaghetti  chicken  soup  spaghetti  chicken  soup  dinner  time\"} \n",
            " {\"source\":  \"I  Like  It  food  in  the  restaurant  dinner  time  food  in  the  restaurant  tastes  good  impressive  tastes  good\"} \n"
          ]
        }
      ]
    },
    {
      "cell_type": "code",
      "source": [
        "!aws s3 cp synthetic.test_without_labels.txt s3://{bucket}/{prefix}/input/synthetic.test_without_labels.txt"
      ],
      "metadata": {
        "id": "8FKu2VQZeHwh",
        "outputId": "23b612dc-ed7f-4347-a30b-bd6f26b69cf5",
        "colab": {
          "base_uri": "https://localhost:8080/"
        }
      },
      "execution_count": 28,
      "outputs": [
        {
          "output_type": "stream",
          "name": "stdout",
          "text": [
            "Completed 49.0 KiB/49.0 KiB (175.3 KiB/s) with 1 file(s) remaining\rupload: ./synthetic.test_without_labels.txt to s3://sagemaker-us-east-1-390354360073/sagemaker-exp123/input/synthetic.test_without_labels.txt\n"
          ]
        }
      ]
    },
    {
      "cell_type": "markdown",
      "source": [
        "## Training and Deploying a BlazingText model"
      ],
      "metadata": {
        "id": "nBXhQSKaeMeC"
      }
    },
    {
      "cell_type": "code",
      "source": [
        "s3_train_data = 's3://{}/{}/input/{}'.format(\n",
        "    bucket, \n",
        "    prefix, \n",
        "    \"synthetic.train.txt\"\n",
        ")\n",
        "s3_validation_data = 's3://{}/{}/input/{}'.format(\n",
        "    bucket, \n",
        "    prefix, \n",
        "    \"synthetic.validation.txt\"\n",
        ")\n",
        "s3_output_location = 's3://{}/{}/output'.format(\n",
        "    bucket, \n",
        "    prefix\n",
        ")"
      ],
      "metadata": {
        "id": "Izc3ohVGeSwJ"
      },
      "execution_count": 29,
      "outputs": []
    },
    {
      "cell_type": "code",
      "source": [
        "container = sagemaker.image_uris.retrieve(\"blazingtext\", region, \"1\")\n",
        "container"
      ],
      "metadata": {
        "id": "OmwBK0FPebSz",
        "outputId": "7d6a8048-6704-4e2b-c398-a8b65837d437",
        "colab": {
          "base_uri": "https://localhost:8080/",
          "height": 35
        }
      },
      "execution_count": 31,
      "outputs": [
        {
          "output_type": "execute_result",
          "data": {
            "text/plain": [
              "'811284229777.dkr.ecr.us-east-1.amazonaws.com/blazingtext:1'"
            ],
            "application/vnd.google.colaboratory.intrinsic+json": {
              "type": "string"
            }
          },
          "metadata": {},
          "execution_count": 31
        }
      ]
    },
    {
      "cell_type": "code",
      "source": [
        "estimator = sagemaker.estimator.Estimator(\n",
        "    container,\n",
        "    role, \n",
        "    instance_count=1, \n",
        "    instance_type=training_instance_type,\n",
        "    input_mode= 'File',\n",
        "    output_path=s3_output_location,\n",
        "    sagemaker_session=sess\n",
        ")"
      ],
      "metadata": {
        "id": "CfjtcpLHelXt"
      },
      "execution_count": 32,
      "outputs": []
    },
    {
      "cell_type": "code",
      "source": [
        "estimator.set_hyperparameters(\n",
        "    mode=\"supervised\", \n",
        "    min_count=2\n",
        ")"
      ],
      "metadata": {
        "id": "yOEE9FfheyQ_"
      },
      "execution_count": 33,
      "outputs": []
    },
    {
      "cell_type": "code",
      "source": [
        "train_data = TrainingInput(\n",
        "    s3_train_data, \n",
        "    distribution='FullyReplicated',   \n",
        "    content_type='text/plain', \n",
        "    s3_data_type='S3Prefix'\n",
        ")\n",
        "\n",
        "validation_data = TrainingInput(\n",
        "    s3_validation_data, \n",
        "    distribution='FullyReplicated', \n",
        "    content_type='text/plain', \n",
        "    s3_data_type='S3Prefix'\n",
        ")\n",
        "\n",
        "data_channels = {\n",
        "    'train': train_data, \n",
        "    'validation': validation_data\n",
        "}"
      ],
      "metadata": {
        "id": "uHa3YqQXeyd3"
      },
      "execution_count": 35,
      "outputs": []
    },
    {
      "cell_type": "code",
      "source": [
        "%%time\n",
        "estimator.fit(\n",
        "    inputs=data_channels, \n",
        "    logs=True\n",
        ")"
      ],
      "metadata": {
        "id": "iLRfWW8be_N_",
        "outputId": "5ed37a92-efde-42ac-b659-866d8b66ee71",
        "colab": {
          "base_uri": "https://localhost:8080/"
        }
      },
      "execution_count": 36,
      "outputs": [
        {
          "output_type": "stream",
          "name": "stdout",
          "text": [
            "2022-06-10 21:18:56 Starting - Starting the training job...\n",
            "2022-06-10 21:19:20 Starting - Preparing the instances for trainingProfilerReport-1654895936: InProgress\n",
            "......\n",
            "2022-06-10 21:20:21 Downloading - Downloading input data...\n",
            "2022-06-10 21:20:55 Training - Training image download completed. Training in progress..\u001b[34mArguments: train\u001b[0m\n",
            "\u001b[34m[06/10/2022 21:20:58 WARNING 140535536392000] Loggers have already been setup.\u001b[0m\n",
            "\u001b[34m[06/10/2022 21:20:58 WARNING 140535536392000] Loggers have already been setup.\u001b[0m\n",
            "\u001b[34m[06/10/2022 21:20:58 INFO 140535536392000] nvidia-smi took: 0.05034446716308594 secs to identify 0 gpus\u001b[0m\n",
            "\u001b[34m[06/10/2022 21:20:58 INFO 140535536392000] Running single machine CPU BlazingText training using supervised mode.\u001b[0m\n",
            "\u001b[34mNumber of CPU sockets found in instance is  1\u001b[0m\n",
            "\u001b[34m[06/10/2022 21:20:58 INFO 140535536392000] Processing /opt/ml/input/data/train/synthetic.train.txt . File size: 0.14861774444580078 MB\u001b[0m\n",
            "\u001b[34m[06/10/2022 21:20:58 INFO 140535536392000] Processing /opt/ml/input/data/validation/synthetic.validation.txt . File size: 0.048583030700683594 MB\u001b[0m\n",
            "\u001b[34mRead 0M words\u001b[0m\n",
            "\u001b[34mNumber of words:  69\u001b[0m\n",
            "\u001b[34m##### Alpha: -0.0000  Progress: 100.06%  Million Words/sec: 1.12 #####\u001b[0m\n",
            "\u001b[34m##### Alpha: 0.0000  Progress: 100.00%  Million Words/sec: 1.12 #####\u001b[0m\n",
            "\u001b[34mTraining finished.\u001b[0m\n",
            "\u001b[34mAverage throughput in Million words/sec: 1.12\u001b[0m\n",
            "\u001b[34mTotal training time in seconds: 0.10\u001b[0m\n",
            "\u001b[34m#train_accuracy: 0.9892\u001b[0m\n",
            "\u001b[34mNumber of train examples: 1200\u001b[0m\n",
            "\u001b[34m#validation_accuracy: 0.9875\u001b[0m\n",
            "\u001b[34mNumber of validation examples: 400\u001b[0m\n",
            "\n",
            "2022-06-10 21:21:21 Uploading - Uploading generated training model\n",
            "2022-06-10 21:23:21 Completed - Training job completed\n",
            "Training seconds: 172\n",
            "Billable seconds: 172\n",
            "CPU times: user 2.4 s, sys: 254 ms, total: 2.66 s\n",
            "Wall time: 4min 49s\n"
          ]
        }
      ]
    },
    {
      "cell_type": "code",
      "source": [
        "training_job_name = estimator.latest_training_job.name\n",
        "training_job_name"
      ],
      "metadata": {
        "id": "sa53Aa1afRr8",
        "outputId": "a7cd4230-0f78-42d3-b42d-de96a70014ab",
        "colab": {
          "base_uri": "https://localhost:8080/",
          "height": 35
        }
      },
      "execution_count": 38,
      "outputs": [
        {
          "output_type": "execute_result",
          "data": {
            "text/plain": [
              "'blazingtext-2022-06-10-21-18-56-104'"
            ],
            "application/vnd.google.colaboratory.intrinsic+json": {
              "type": "string"
            }
          },
          "metadata": {},
          "execution_count": 38
        }
      ]
    },
    {
      "cell_type": "code",
      "source": [
        "endpoint = estimator.deploy(\n",
        "    initial_instance_count = 1, \n",
        "    instance_type = 'ml.r5.large'\n",
        ")"
      ],
      "metadata": {
        "id": "iyZS5QYBfAA4",
        "outputId": "6ff4985e-ba2f-4934-8036-b8c5e49a46f8",
        "colab": {
          "base_uri": "https://localhost:8080/"
        }
      },
      "execution_count": 39,
      "outputs": [
        {
          "output_type": "stream",
          "name": "stdout",
          "text": [
            "-----!"
          ]
        }
      ]
    },
    {
      "cell_type": "code",
      "source": [
        "sentences = [\n",
        "    \"that is bad\", \n",
        "    \"the apple tastes good\", \n",
        "    \"i would recommend it to my friends\"\n",
        "]\n",
        "\n",
        "payload = {\"instances\" : sentences}\n",
        "\n",
        "endpoint.serializer = JSONSerializer()\n",
        "response = endpoint.predict(payload)\n",
        "predictions = json.loads(response)\n",
        "\n",
        "print(json.dumps(predictions, indent=2))"
      ],
      "metadata": {
        "id": "YLv1yHulfG_l",
        "outputId": "122de157-91d1-44bf-b970-c725cad68dd5",
        "colab": {
          "base_uri": "https://localhost:8080/"
        }
      },
      "execution_count": 40,
      "outputs": [
        {
          "output_type": "stream",
          "name": "stdout",
          "text": [
            "[\n",
            "  {\n",
            "    \"label\": [\n",
            "      \"__label__negative\"\n",
            "    ],\n",
            "    \"prob\": [\n",
            "      0.8220781683921814\n",
            "    ]\n",
            "  },\n",
            "  {\n",
            "    \"label\": [\n",
            "      \"__label__positive\"\n",
            "    ],\n",
            "    \"prob\": [\n",
            "      0.8135973811149597\n",
            "    ]\n",
            "  },\n",
            "  {\n",
            "    \"label\": [\n",
            "      \"__label__positive\"\n",
            "    ],\n",
            "    \"prob\": [\n",
            "      0.6572932600975037\n",
            "    ]\n",
            "  }\n",
            "]\n"
          ]
        }
      ]
    },
    {
      "cell_type": "markdown",
      "source": [
        "## Using Batch Transform for Inference"
      ],
      "metadata": {
        "id": "ulTlxMj7fh_B"
      }
    },
    {
      "cell_type": "code",
      "source": [
        "path = 's3://{}/{}/input/{}'.format(\n",
        "    bucket, \n",
        "    prefix, \n",
        "    \"synthetic.test_without_labels.txt\"\n",
        ")\n",
        "\n",
        "s3_test_without_labels_data = path\n",
        "\n",
        "path = 's3://{}/{}/batch-prediction'.format(\n",
        "    bucket, \n",
        "    prefix\n",
        ")\n",
        "\n",
        "batch_output = path"
      ],
      "metadata": {
        "id": "Yhcw9C4Hfi0N"
      },
      "execution_count": 41,
      "outputs": []
    },
    {
      "cell_type": "code",
      "source": [
        "estimator = Estimator.attach(training_job_name)\n",
        "\n",
        "transformer = estimator.transformer(\n",
        "    instance_count=1, \n",
        "    instance_type='ml.m4.xlarge', \n",
        "    output_path=batch_output\n",
        ")\n",
        "\n",
        "transformer.transform(\n",
        "    data=s3_test_without_labels_data, \n",
        "    data_type='S3Prefix',\n",
        "    content_type='application/jsonlines', \n",
        "    split_type='Line'\n",
        ")\n",
        "\n",
        "transformer.wait()"
      ],
      "metadata": {
        "id": "jnsEy7UafvSf",
        "outputId": "387d6b6e-7c9a-46da-f2b7-90c07f4f2ddc",
        "colab": {
          "base_uri": "https://localhost:8080/"
        }
      },
      "execution_count": 42,
      "outputs": [
        {
          "output_type": "stream",
          "name": "stdout",
          "text": [
            "\n",
            "2022-06-10 21:23:41 Starting - Preparing the instances for training\n",
            "2022-06-10 21:23:41 Downloading - Downloading input data\n",
            "2022-06-10 21:23:41 Training - Training image download completed. Training in progress.\n",
            "2022-06-10 21:23:41 Uploading - Uploading generated training model\n",
            "2022-06-10 21:23:41 Completed - Training job completed\n",
            "..................................\u001b[34mArguments: serve\u001b[0m\n",
            "\u001b[34m[06/10/2022 21:34:21 INFO 140648603891520] Finding and loading model\u001b[0m\n",
            "\u001b[34m[06/10/2022 21:34:21 INFO 140648603891520] Trying to load model from /opt/ml/model/model.bin\u001b[0m\n",
            "\u001b[34m[06/10/2022 21:34:22 INFO 140648603891520] Number of server workers: 4\u001b[0m\n",
            "\u001b[34m[2022-06-10 21:34:22 +0000] [1] [INFO] Starting gunicorn 19.7.1\u001b[0m\n",
            "\u001b[34m[2022-06-10 21:34:22 +0000] [1] [INFO] Listening at: http://0.0.0.0:8080 (1)\u001b[0m\n",
            "\u001b[34m[2022-06-10 21:34:22 +0000] [1] [INFO] Using worker: sync\u001b[0m\n",
            "\u001b[34m[2022-06-10 21:34:22 +0000] [34] [INFO] Booting worker with pid: 34\u001b[0m\n",
            "\u001b[34m[2022-06-10 21:34:22 +0000] [35] [INFO] Booting worker with pid: 35\u001b[0m\n",
            "\u001b[34m[2022-06-10 21:34:22 +0000] [36] [INFO] Booting worker with pid: 36\u001b[0m\n",
            "\u001b[34m[2022-06-10 21:34:22 +0000] [37] [INFO] Booting worker with pid: 37\u001b[0m\n",
            "\u001b[32m2022-06-10T21:34:26.289:[sagemaker logs]: MaxConcurrentTransforms=4, MaxPayloadInMB=6, BatchStrategy=MULTI_RECORD\u001b[0m\n",
            "\n",
            "\u001b[34mArguments: serve\u001b[0m\n",
            "\u001b[35mArguments: serve\u001b[0m\n",
            "\u001b[34m[06/10/2022 21:34:21 INFO 140648603891520] Finding and loading model\u001b[0m\n",
            "\u001b[34m[06/10/2022 21:34:21 INFO 140648603891520] Trying to load model from /opt/ml/model/model.bin\u001b[0m\n",
            "\u001b[35m[06/10/2022 21:34:21 INFO 140648603891520] Finding and loading model\u001b[0m\n",
            "\u001b[35m[06/10/2022 21:34:21 INFO 140648603891520] Trying to load model from /opt/ml/model/model.bin\u001b[0m\n",
            "\u001b[34m[06/10/2022 21:34:22 INFO 140648603891520] Number of server workers: 4\u001b[0m\n",
            "\u001b[34m[2022-06-10 21:34:22 +0000] [1] [INFO] Starting gunicorn 19.7.1\u001b[0m\n",
            "\u001b[34m[2022-06-10 21:34:22 +0000] [1] [INFO] Listening at: http://0.0.0.0:8080 (1)\u001b[0m\n",
            "\u001b[34m[2022-06-10 21:34:22 +0000] [1] [INFO] Using worker: sync\u001b[0m\n",
            "\u001b[34m[2022-06-10 21:34:22 +0000] [34] [INFO] Booting worker with pid: 34\u001b[0m\n",
            "\u001b[35m[06/10/2022 21:34:22 INFO 140648603891520] Number of server workers: 4\u001b[0m\n",
            "\u001b[35m[2022-06-10 21:34:22 +0000] [1] [INFO] Starting gunicorn 19.7.1\u001b[0m\n",
            "\u001b[35m[2022-06-10 21:34:22 +0000] [1] [INFO] Listening at: http://0.0.0.0:8080 (1)\u001b[0m\n",
            "\u001b[35m[2022-06-10 21:34:22 +0000] [1] [INFO] Using worker: sync\u001b[0m\n",
            "\u001b[35m[2022-06-10 21:34:22 +0000] [34] [INFO] Booting worker with pid: 34\u001b[0m\n",
            "\u001b[34m[2022-06-10 21:34:22 +0000] [35] [INFO] Booting worker with pid: 35\u001b[0m\n",
            "\u001b[34m[2022-06-10 21:34:22 +0000] [36] [INFO] Booting worker with pid: 36\u001b[0m\n",
            "\u001b[34m[2022-06-10 21:34:22 +0000] [37] [INFO] Booting worker with pid: 37\u001b[0m\n",
            "\u001b[35m[2022-06-10 21:34:22 +0000] [35] [INFO] Booting worker with pid: 35\u001b[0m\n",
            "\u001b[35m[2022-06-10 21:34:22 +0000] [36] [INFO] Booting worker with pid: 36\u001b[0m\n",
            "\u001b[35m[2022-06-10 21:34:22 +0000] [37] [INFO] Booting worker with pid: 37\u001b[0m\n",
            "\u001b[32m2022-06-10T21:34:26.289:[sagemaker logs]: MaxConcurrentTransforms=4, MaxPayloadInMB=6, BatchStrategy=MULTI_RECORD\u001b[0m\n"
          ]
        }
      ]
    },
    {
      "cell_type": "markdown",
      "source": [
        "![](https://github.com/sparsh-ai/notebooks/raw/main/img/rec1-blazingtext2.gif)"
      ],
      "metadata": {
        "id": "GcAo6a2cljCS"
      }
    },
    {
      "cell_type": "code",
      "source": [
        "!aws s3 cp {batch_output} ./ --recursive"
      ],
      "metadata": {
        "id": "mzOM1uvlf9o2",
        "outputId": "88291a80-8d9f-446f-d0b3-bc410bdc80ff",
        "colab": {
          "base_uri": "https://localhost:8080/"
        }
      },
      "execution_count": 64,
      "outputs": [
        {
          "output_type": "stream",
          "name": "stdout",
          "text": [
            "Completed 24.6 KiB/24.6 KiB (121.2 KiB/s) with 1 file(s) remaining\rdownload: s3://sagemaker-us-east-1-390354360073/sagemaker-exp123/batch-prediction/synthetic.test_without_labels.txt.out to ./synthetic.test_without_labels.txt.out\n"
          ]
        }
      ]
    },
    {
      "cell_type": "code",
      "source": [
        "!head synthetic.test_without_labels.txt.out"
      ],
      "metadata": {
        "id": "vB_pj9ykgBF7",
        "outputId": "7904c686-ca22-43bd-a2a9-f128f5e96a5e",
        "colab": {
          "base_uri": "https://localhost:8080/"
        }
      },
      "execution_count": 65,
      "outputs": [
        {
          "output_type": "stream",
          "name": "stdout",
          "text": [
            "{\"label\": [\"__label__negative\"], \"prob\": [0.7296757102012634]}\n",
            "{\"label\": [\"__label__positive\"], \"prob\": [0.6667083501815796]}\n",
            "{\"label\": [\"__label__positive\"], \"prob\": [0.7501630187034607]}\n",
            "{\"label\": [\"__label__negative\"], \"prob\": [0.5995490550994873]}\n",
            "{\"label\": [\"__label__negative\"], \"prob\": [0.6950123906135559]}\n",
            "{\"label\": [\"__label__negative\"], \"prob\": [0.7102949619293213]}\n",
            "{\"label\": [\"__label__positive\"], \"prob\": [0.691921591758728]}\n",
            "{\"label\": [\"__label__negative\"], \"prob\": [0.6861161589622498]}\n",
            "{\"label\": [\"__label__positive\"], \"prob\": [0.6114131212234497]}\n",
            "{\"label\": [\"__label__positive\"], \"prob\": [0.6541267037391663]}\n"
          ]
        }
      ]
    },
    {
      "cell_type": "code",
      "source": [
        "!head synthetic.test_without_labels.txt"
      ],
      "metadata": {
        "id": "RE4YCjXKgB-T",
        "outputId": "ab515ce5-3623-4db1-8932-cc6896077e5e",
        "colab": {
          "base_uri": "https://localhost:8080/"
        }
      },
      "execution_count": 66,
      "outputs": [
        {
          "output_type": "stream",
          "name": "stdout",
          "text": [
            " {\"source\":  \"There  Are  Better  Restaurants  Out  There  there  are  better  restaurants  out  there  dinner  time  tastes  bad  not  impressive  i  hate  it\"} \n",
            " {\"source\":  \"Tastes  Good  this  is  good  food  in  the  restaurant  i  would  recommend  this  to  my  friends\"} \n",
            " {\"source\":  \"Tastes  Good  i  would  recommend  this  to  my  friends  very  good  this  is  good  i  would  recommend  this  to  my  friends\"} \n",
            " {\"source\":  \"There  Are  Better  Restaurants  Out  There  food  in  the  restaurant  not  impressive\"} \n",
            " {\"source\":  \"Dinner  Time  dinner  time  this  is  bad  food  in  the  restaurant  there  are  better  restaurants  out  there\"} \n",
            " {\"source\":  \"Donut  there  are  better  restaurants  out  there  donut  there  are  better  restaurants  out  there  donut  spaghetti  chicken  soup  food  in  the  restaurant\"} \n",
            " {\"source\":  \"Donut  impressive  food  in  the  restaurant  this  is  good  very  delicious  impressive  impressive\"} \n",
            " {\"source\":  \"Dinner  Time  not  impressive  donut  i  hate  it  tastes  bad  dinner  time  not  impressive\"} \n",
            " {\"source\":  \"Very  Good  food  in  the  restaurant  donut  i  like  it  spaghetti  chicken  soup  spaghetti  chicken  soup  dinner  time\"} \n",
            " {\"source\":  \"I  Like  It  food  in  the  restaurant  dinner  time  food  in  the  restaurant  tastes  good  impressive  tastes  good\"} \n"
          ]
        }
      ]
    },
    {
      "cell_type": "markdown",
      "source": [
        "## Generating a Synthetic Time Series Dataset"
      ],
      "metadata": {
        "id": "Qf2BJ_HKh9v3"
      }
    },
    {
      "cell_type": "code",
      "source": [
        "def generate_time_series(\n",
        "    t0=\"2020-01-01 00:00:00\"\n",
        "):\n",
        "    time = np.arange(50)\n",
        "    values = np.where(time < 20, time**2, \n",
        "                      (time-5)**2)\n",
        "\n",
        "    base = []\n",
        "    for iteration in range(10):\n",
        "        for y in range(50):\n",
        "            base.append(values[y])\n",
        "            \n",
        "    base += np.random.randn(500)*100\n",
        "    \n",
        "    freq = \"H\"\n",
        "    data_length = len(base)\n",
        "    index = pd.date_range(start=t0, \n",
        "                          freq=freq, \n",
        "                          periods=data_length)\n",
        "    ts = pd.Series(data=base, index=index)\n",
        "    \n",
        "    return {\n",
        "        \"freq\": freq,\n",
        "        \"t0\": t0,\n",
        "        \"length\": len(ts),\n",
        "        \"data\": ts\n",
        "    }\n",
        "\n",
        "time_series_data = generate_time_series()\n",
        "time_series_data"
      ],
      "metadata": {
        "id": "QD0sawpSh-bK",
        "outputId": "a3307a43-4eca-464b-ec9c-8e66f9e6039f",
        "colab": {
          "base_uri": "https://localhost:8080/"
        }
      },
      "execution_count": 43,
      "outputs": [
        {
          "output_type": "execute_result",
          "data": {
            "text/plain": [
              "{'data': 2020-01-01 00:00:00     144.804785\n",
              " 2020-01-01 01:00:00      45.008814\n",
              " 2020-01-01 02:00:00     206.638232\n",
              " 2020-01-01 03:00:00    -121.414313\n",
              " 2020-01-01 04:00:00     101.350763\n",
              "                           ...     \n",
              " 2020-01-21 15:00:00    1446.858883\n",
              " 2020-01-21 16:00:00    1816.850651\n",
              " 2020-01-21 17:00:00    1777.403962\n",
              " 2020-01-21 18:00:00    1882.318103\n",
              " 2020-01-21 19:00:00    1975.278227\n",
              " Freq: H, Length: 500, dtype: float64,\n",
              " 'freq': 'H',\n",
              " 'length': 500,\n",
              " 't0': '2020-01-01 00:00:00'}"
            ]
          },
          "metadata": {},
          "execution_count": 43
        }
      ]
    },
    {
      "cell_type": "code",
      "source": [
        "data = time_series_data[\"data\"]\n",
        "time = data.index\n",
        "values = data\n",
        "\n",
        "plt.figure(figsize=(14,6))\n",
        "plt.plot(time, values)\n",
        "plt.grid(True)\n",
        "plt.xlabel(\"DATE\")\n",
        "plt.ylabel(\"VALUE\")"
      ],
      "metadata": {
        "id": "0dMqM2bwipqf",
        "outputId": "d331824b-dff5-49ff-d355-57edb66fa069",
        "colab": {
          "base_uri": "https://localhost:8080/",
          "height": 405
        }
      },
      "execution_count": 44,
      "outputs": [
        {
          "output_type": "execute_result",
          "data": {
            "text/plain": [
              "Text(0, 0.5, 'VALUE')"
            ]
          },
          "metadata": {},
          "execution_count": 44
        },
        {
          "output_type": "display_data",
          "data": {
            "text/plain": [
              "<Figure size 1008x432 with 1 Axes>"
            ],
            "image/png": "[encoded data removed]"
          },
          "metadata": {
            "needs_background": "light"
          }
        }
      ]
    },
    {
      "cell_type": "code",
      "source": [
        "import json\n",
        "\n",
        "def save_data_to_json(time_series_data, \n",
        "                      filename):\n",
        "    tmp = {}\n",
        "\n",
        "    tmp[\"freq\"] = time_series_data[\"freq\"]\n",
        "    tmp[\"t0\"] = time_series_data[\"t0\"]\n",
        "    tmp[\"length\"] = time_series_data[\"length\"]\n",
        "    tmp[\"data\"] = list(time_series_data[\"data\"])\n",
        "    \n",
        "    with open(filename, 'w') as file:\n",
        "        json.dump(tmp, file)\n",
        "\n",
        "save_data_to_json(time_series_data, \n",
        "                  \"all.json\")\n",
        "\n",
        "!head all.json"
      ],
      "metadata": {
        "id": "yR4bII2Iiq8j",
        "outputId": "5fc5fd41-1b67-4b49-f52c-f07e7af90b1e",
        "colab": {
          "base_uri": "https://localhost:8080/"
        }
      },
      "execution_count": 46,
      "outputs": [
        {
          "output_type": "stream",
          "name": "stdout",
          "text": [
            "{\"freq\": \"H\", \"t0\": \"2020-01-01 00:00:00\", \"length\": 500, \"data\": [144.80478548905717, 45.00881417586584, 206.63823224414463, -121.41431283450143, 101.3507629444087, -90.6158383742153, -15.433326706578718, 19.254970909344472, -22.567405956693563, 70.9217282036791, 135.275788445104, 74.33588301439492, 71.46850384660127, 348.1087011704674, 118.14464335458732, 1.1129862739046814, 283.41713287006576, 458.22585811543655, 403.1290464563717, 267.5678534909183, 342.1325379485155, 175.89767189067305, 327.1665257246299, 185.57667002223772, 360.6105992244239, 380.5173970455285, 247.83220839943658, 615.7190003276366, 629.8159008473672, 348.7049144312607, 530.4295968793185, 695.291049571983, 831.1241135855628, 910.1463112790755, 664.9936740794869, 844.3490833240389, 915.8470974065744, 1082.1071443253304, 1171.6607770637318, 1014.1586064376702, 1313.088042347524, 1203.0739907289649, 1441.0561685554512, 1430.8028252206936, 1609.7500593763598, 1746.6601073687991, 1682.2414913272883, 1687.9599914152607, 1898.3256764020853, 1861.4842593815067, 127.53033543920162, -1.217272322306088, -23.81203162201859, 28.960307989166424, 25.126583057354757, -32.41067731470832, -29.579805094936532, 143.45304460902685, 183.36437717820868, 29.593523476897218, 285.3034824872743, 6.1379667715143285, -34.17778757220964, 229.90062637094593, 295.34722695497436, 28.5918991044625, 402.2204945186418, 223.3912401349689, 360.7599256557952, 368.2694519915347, 155.91792889273506, 279.60079318791435, 437.209039032107, 489.40458604266456, 394.33640479902846, 368.54758380728657, 604.2465602640417, 361.33072931897914, 578.5013867752675, 574.2390183414801, 592.2524280761437, 691.5158885188998, 757.4030230379601, 705.8768981037729, 887.7624940975064, 836.8038527703986, 834.5102100346912, 1152.4326762111782, 1067.0488019454478, 1133.3025031098193, 1310.432120288005, 1233.2449313746283, 1339.801380015009, 1350.0824208301608, 1501.35623171848, 1465.669908318596, 1754.39950338994, 2024.828139967432, 1927.1569571615069, 1879.7826257216284, -87.44176114966268, 19.77703523089425, -150.53627189317734, 150.3133154200163, -188.79673520836758, -19.620945189980745, -114.52714748932067, 204.35205277355084, -35.8704128403451, -52.04521914387746, 140.58394201995992, 177.64449178509724, 177.26096485326494, 226.3661619515348, 292.4214622097779, 211.90089026941018, 219.78886802489848, 433.00255869524733, 274.51061354503156, 349.3460721515626, 96.29887344292217, 300.3293813241619, 252.674311254886, 260.5469678952146, 260.53327232415984, 465.0137112001277, 413.4642647478574, 326.76928626911587, 496.2619339831913, 399.6035529729646, 683.860349243327, 804.2388057788055, 783.8755541403935, 754.3716159339957, 966.8184541172171, 802.149905690789, 1003.1278469344403, 1081.2760481013986, 1078.100304305068, 1199.083657315167, 1190.52356924759, 1269.7313213815505, 1516.7513460655293, 1486.7891914651452, 1468.6553746993218, 1552.3099791292314, 1704.5207580608073, 1710.503138495939, 1734.5065615908818, 2000.886819706301, -18.614153300931893, -222.11371913047046, 148.96798616736154, 73.79307815622167, 22.279539888090156, 171.65434119621372, -5.904855055719622, -182.02915326430457, 61.32734025443335, 196.24143662237466, 8.005997590640263, 43.166427165632754, 230.2111117871886, 55.32166021898216, 392.4030878831301, 188.30653563881555, 187.83313610048293, 511.6904878341737, 399.28465046945416, 521.4649909244993, 227.41663202745926, 387.9913629879393, 375.7016770768456, 477.7665585482881, 563.8618415595768, 278.76035598239474, 350.9264087799837, 556.9599030708522, 516.4926080190206, 619.9037961071393, 577.884370780979, 563.1073210879955, 769.6213642260443, 830.2539029687114, 767.6597218620709, 1083.9073986501098, 853.4345438741868, 884.6470517385753, 1045.3556324476788, 1172.7122021260095, 1334.376329218315, 1300.649761236489, 1332.0254223266356, 1558.590988926832, 1598.6620962319057, 1621.502460515179, 1615.1363255489198, 1799.506973274799, 1948.0664258794814, 2143.717571001914, 61.19973022222078, -4.222812001093321, 100.39533059800208, 143.96209963004708, 97.60678524378973, -19.941815373816155, 37.99736639004266, 111.36931784000852, 55.533572641359825, -107.60589601200101, 37.88633252274822, 254.91535113307867, 239.48076720056014, 248.07329341818226, 197.40770634332142, 246.58073123226438, 158.8847390078897, 381.30150038135383, 469.20266483089785, 378.75153507413404, 208.88979644987907, 17.01288688637726, 424.5282510708576, 229.48759618653003, 414.9009748810138, 561.92987686363, 474.8913477882619, 412.8594160692104, 506.13704879305317, 508.6451875650608, 605.8446430216167, 586.7125718536068, 530.913874484758, 831.7222444767917, 910.4976496816405, 841.3599258732656, 1103.7150776039998, 945.7741494929784, 1057.0668330348856, 1138.6237982443513, 1187.2763666837254, 1236.6904894415934, 1331.1288872907403, 1455.964252906526, 1484.5061090588629, 1558.983951345295, 1697.859556509145, 1650.532458489105, 1959.5332957350795, 1771.9491705871196, 76.17060644481717, 43.84968011138244, 10.453940000566575, -61.22303770959718, 37.89128848033506, 34.23834858916408, -29.62107517906658, -8.639268706030535, -12.873486758170401, 174.49819804502195, 10.592751555171503, 106.31259267806766, 149.24025771173115, 161.08068301235014, 241.61728770071238, 279.09100055912313, 135.12043601446578, 456.7368387229059, 177.37434500954728, 471.8664310937795, 184.21309133106251, 354.0672530629338, 250.7810367888043, 239.99376666057958, 481.4242751601511, 458.52586137725893, 553.7840965277693, 355.967269498278, 333.4430924505911, 634.2431561034808, 384.29532439239574, 805.1300437579474, 848.1206378529744, 837.3791307299238, 842.1002743536457, 865.9433616482441, 961.9231395989025, 930.834290297519, 1039.2294472640722, 976.4898144019485, 959.8463932658292, 1121.837927132292, 1583.7854787740912, 1338.7767815771113, 1613.0420758724524, 1663.5394147248967, 1838.2351653299038, 1684.2730547102726, 1771.2845634572689, 1945.470993094375, -74.30039875124649, 46.920552578045346, 41.7906871637351, -48.977163897860414, -6.910518380171521, -30.65835347044429, -124.57694263106416, 250.78343401911337, 169.4264277698892, 85.14542371656572, -57.886283103061686, -29.582821342156024, -9.664115262796969, 274.9905584030802, 256.2608369336853, 187.409905536868, 354.3167707018976, 240.19515839722698, 186.99932130224346, 435.3439802593727, 237.68044199271944, 345.8468331156079, 417.16855545034014, 228.18853767749528, 472.62854190687545, 378.4871927877759, 374.0825421212884, 523.0271988136249, 553.5669859243453, 448.8184531219052, 756.6079811636961, 736.9467278199237, 708.1468801135954, 819.7237289854709, 678.8203501720934, 807.3791743772877, 948.8609260254104, 1018.7786163829348, 1011.0119368188128, 1207.071960372727, 1212.8058429055113, 1351.9861988597756, 1461.818563572738, 1383.7631101242466, 1525.2016768492147, 1667.3552080694462, 1713.6448979373265, 1771.2636880595953, 1861.8923812651603, 2064.4352432129804, -145.03176804318568, -126.25991606786606, -99.32632257946526, -14.931767599483884, -105.84661823923469, 11.353302178806263, 77.15280901192556, -115.86651601940565, 71.89875004396644, -25.03821954881967, 307.78806464162875, 135.51897555907087, 113.09439065273497, 158.9409013180078, 196.09190964562006, 198.4793986970514, 465.64430410974563, 272.9299876629705, 129.24822050533348, 224.10322507818714, 279.92745690512777, 331.26539294115304, 344.02315839394555, 177.43679831897313, 343.81777253990003, 414.9220769894205, 355.51110154329393, 582.6413484808146, 672.4747961464564, 545.2882982730151, 508.1980207176143, 625.7871677584393, 705.4511716255057, 663.8444042752606, 739.7325361809889, 840.4174865860816, 940.7521453178655, 960.4018436368013, 1190.2186796612073, 1195.9000946328779, 1119.2524073614636, 1351.7399857861365, 1354.7506000867154, 1402.925008407624, 1442.2601514708401, 1557.8366420983311, 1619.7784503456112, 1842.143333686347, 1772.730170376316, 1921.5487014819091, 34.646848645673, 89.99039340871055, 41.284790358484685, 34.52513136646046, 88.32519911709608, -118.18754108604395, 196.8346853654891, 121.73109363948586, 68.40678508819659, 7.47360887868804, 7.820759389241815, 109.78634674301132, 205.5759989144825, 24.117613575300993, 159.5915167245312, 161.22426892754538, 383.1052666847394, 398.0947903590553, 372.5495647708972, 434.83112665144455, 360.48797731842046, 248.5083840046642, 297.1954319788104, 263.1672808471306, 388.55905835534793, 489.1743813933216, 625.8025865545414, 538.6302779077029, 451.6819029355165, 647.1036101070572, 585.313483755083, 606.3343499766883, 735.5820472220664, 792.1787806325592, 1084.3689639942158, 940.1413495949413, 897.5220446417849, 1010.203179257451, 1125.3068637051017, 1247.4828111385182, 1364.3762661807498, 1158.9882146860937, 1420.7387444251776, 1278.8727213877246, 1542.1174230598579, 1575.8593710106802, 1438.9433694837091, 1679.536070653218, 1807.8475083453593, 2058.1702097572006, 148.12191943378775, 117.6072753848625, -38.734585597503006, -109.91136870087395, -56.56791630900918, -86.64057522792572, 117.3398746891589, 50.45080501082143, 52.046234221686895, 192.242843108936, 11.47316545727739, 17.82742302325775, 13.321822428901726, 249.5718808559061, 32.170718961335496, 371.2012937553478, 164.91026017013002, 165.49818090018815, 371.3376214139375, 316.4235659264091, 111.78129543479731, 319.31698697461576, 482.92189428114466, 328.2798956373465, 347.7278851415603, 155.47753869658897, 610.2176800195007, 668.950422750347, 423.54437814031627, 594.9848071231473, 752.0870529465645, 729.2803174689543, 729.1374249100892, 697.3935500620277, 831.4696163199766, 879.3212402445939, 965.5879062933459, 1175.3504826863127, 1042.3685151800057, 954.3832738262213, 1294.5646909124944, 1382.8996282052321, 1284.971858071756, 1327.8175719577503, 1404.6060909524135, 1446.85888325527, 1816.8506511559185, 1777.4039619010127, 1882.3181033908118, 1975.2782269894503]}"
          ]
        }
      ]
    },
    {
      "cell_type": "markdown",
      "source": [
        "## Performing the Train-Test Split on a Time Series Dataset"
      ],
      "metadata": {
        "id": "HjzcOIBqixto"
      }
    },
    {
      "cell_type": "code",
      "source": [
        "def load_data_from_json(filename):\n",
        "    tmp = {}\n",
        "    \n",
        "    with open(filename) as file:\n",
        "        tmp = json.load(file)\n",
        "        \n",
        "    index = pd.date_range(\n",
        "        start=tmp[\"t0\"], \n",
        "        freq=tmp[\"freq\"], \n",
        "        periods=tmp[\"length\"])\n",
        "    tmp[\"data\"] = pd.Series(\n",
        "        data=tmp[\"data\"], \n",
        "        index=index)\n",
        "        \n",
        "    return tmp\n",
        "\n",
        "time_series_data = load_data_from_json(\n",
        "    \"all.json\"\n",
        ")\n",
        "\n",
        "time_series_data"
      ],
      "metadata": {
        "id": "YjGaQa5ri3xO",
        "outputId": "49a17967-2a27-4ee2-9d6b-971cb71655ce",
        "colab": {
          "base_uri": "https://localhost:8080/"
        }
      },
      "execution_count": 48,
      "outputs": [
        {
          "output_type": "execute_result",
          "data": {
            "text/plain": [
              "{'data': 2020-01-01 00:00:00     144.804785\n",
              " 2020-01-01 01:00:00      45.008814\n",
              " 2020-01-01 02:00:00     206.638232\n",
              " 2020-01-01 03:00:00    -121.414313\n",
              " 2020-01-01 04:00:00     101.350763\n",
              "                           ...     \n",
              " 2020-01-21 15:00:00    1446.858883\n",
              " 2020-01-21 16:00:00    1816.850651\n",
              " 2020-01-21 17:00:00    1777.403962\n",
              " 2020-01-21 18:00:00    1882.318103\n",
              " 2020-01-21 19:00:00    1975.278227\n",
              " Freq: H, Length: 500, dtype: float64,\n",
              " 'freq': 'H',\n",
              " 'length': 500,\n",
              " 't0': '2020-01-01 00:00:00'}"
            ]
          },
          "metadata": {},
          "execution_count": 48
        }
      ]
    },
    {
      "cell_type": "code",
      "source": [
        "def train_test_split(data, ratio=0.9):\n",
        "    train_length = int(len(data) * ratio)\n",
        "    pl = int(len(data)) - train_length\n",
        "    prediction_length = pl\n",
        "    training_dataset = data[:-prediction_length]\n",
        "    target_dataset = data[train_length-1:]\n",
        "    test_dataset = data\n",
        "    \n",
        "    return {\n",
        "        \"prediction_length\": prediction_length,\n",
        "        \"training_dataset\": training_dataset,\n",
        "        \"target_dataset\": target_dataset,\n",
        "        \"test_dataset\": test_dataset\n",
        "    }"
      ],
      "metadata": {
        "id": "mE0opIJAi8Wp"
      },
      "execution_count": 49,
      "outputs": []
    },
    {
      "cell_type": "code",
      "source": [
        "results = train_test_split(\n",
        "    time_series_data[\"data\"]\n",
        ")\n",
        "print(results[\"prediction_length\"])"
      ],
      "metadata": {
        "id": "5KchjR2pjAyI",
        "outputId": "e06c91cb-cac1-4550-835b-fe17dc315807",
        "colab": {
          "base_uri": "https://localhost:8080/"
        }
      },
      "execution_count": 50,
      "outputs": [
        {
          "output_type": "stream",
          "name": "stdout",
          "text": [
            "50\n"
          ]
        }
      ]
    },
    {
      "cell_type": "code",
      "source": [
        "training_dataset = results[\"training_dataset\"]\n",
        "target_dataset = results[\"target_dataset\"]\n",
        "\n",
        "plt.figure(figsize=(14,6))\n",
        "plt.plot(training_dataset.index, \n",
        "         training_dataset, label=\"training\")\n",
        "plt.plot(target_dataset.index, \n",
        "         target_dataset, \n",
        "         label=\"target\")\n",
        "plt.grid(True)\n",
        "plt.xlabel(\"DATE\")\n",
        "plt.ylabel(\"VALUE\")    \n",
        "plt.legend()\n",
        "plt.show()"
      ],
      "metadata": {
        "id": "sXfK1Tc9jC6M",
        "outputId": "7df15369-0983-4e78-d5df-75c8f00fb525",
        "colab": {
          "base_uri": "https://localhost:8080/",
          "height": 388
        }
      },
      "execution_count": 51,
      "outputs": [
        {
          "output_type": "display_data",
          "data": {
            "text/plain": [
              "<Figure size 1008x432 with 1 Axes>"
            ],
            "image/png": "[encoded data removed]"
          },
          "metadata": {
            "needs_background": "light"
          }
        }
      ]
    },
    {
      "cell_type": "code",
      "source": [
        "def series_to_object(data):\n",
        "    return {\"start\": str(data.index[0]), \n",
        "            \"target\": list(data)}\n",
        "\n",
        "def series_to_jsonline(data):\n",
        "    return json.dumps(series_to_object(data))\n",
        "\n",
        "def save_data_to_jsonlines(data, filename):\n",
        "    tmp = {}\n",
        "    \n",
        "    with open(filename, 'wb') as file:\n",
        "        t = series_to_jsonline(data)\n",
        "        t = t.encode(\"utf-8\")\n",
        "        file.write(t)\n",
        "        file.write(\"\\n\".encode(\"utf-8\"))\n",
        "\n",
        "save_data_to_jsonlines(\n",
        "    results[\"training_dataset\"], \n",
        "    \"training.jsonl\"\n",
        ")\n",
        "\n",
        "save_data_to_jsonlines(\n",
        "    results[\"test_dataset\"], \n",
        "    \"test.jsonl\"\n",
        ")"
      ],
      "metadata": {
        "id": "-dCnq-nojEwS"
      },
      "execution_count": 52,
      "outputs": []
    },
    {
      "cell_type": "code",
      "source": [
        "!aws s3 cp training.jsonl s3://{bucket}/{prefix}/input/training.jsonl\n",
        "!aws s3 cp test.jsonl s3://{bucket}/{prefix}/input/test.jsonl\n",
        "\n",
        "prediction_length = results[\"prediction_length\"]\n",
        "freq = time_series_data[\"freq\"]"
      ],
      "metadata": {
        "id": "hXQZynfhjNgI",
        "outputId": "bd2c696f-272c-4abb-94c5-6ad4541403fa",
        "colab": {
          "base_uri": "https://localhost:8080/"
        }
      },
      "execution_count": 54,
      "outputs": [
        {
          "output_type": "stream",
          "name": "stdout",
          "text": [
            "upload: ./training.jsonl to s3://sagemaker-us-east-1-390354360073/sagemaker-exp123/input/training.jsonl\n",
            "upload: ./test.jsonl to s3://sagemaker-us-east-1-390354360073/sagemaker-exp123/input/test.jsonl\n"
          ]
        }
      ]
    },
    {
      "cell_type": "code",
      "source": [
        "training_dataset = results[\"training_dataset\"]\n",
        "training_dataset"
      ],
      "metadata": {
        "id": "DjiC7TANjWL_",
        "outputId": "ed71f695-2995-40ce-ff13-ef72f79a7a13",
        "colab": {
          "base_uri": "https://localhost:8080/"
        }
      },
      "execution_count": 55,
      "outputs": [
        {
          "output_type": "execute_result",
          "data": {
            "text/plain": [
              "2020-01-01 00:00:00     144.804785\n",
              "2020-01-01 01:00:00      45.008814\n",
              "2020-01-01 02:00:00     206.638232\n",
              "2020-01-01 03:00:00    -121.414313\n",
              "2020-01-01 04:00:00     101.350763\n",
              "                          ...     \n",
              "2020-01-19 13:00:00    1575.859371\n",
              "2020-01-19 14:00:00    1438.943369\n",
              "2020-01-19 15:00:00    1679.536071\n",
              "2020-01-19 16:00:00    1807.847508\n",
              "2020-01-19 17:00:00    2058.170210\n",
              "Freq: H, Length: 450, dtype: float64"
            ]
          },
          "metadata": {},
          "execution_count": 55
        }
      ]
    },
    {
      "cell_type": "code",
      "source": [
        "target_dataset = results[\"target_dataset\"]\n",
        "target_dataset"
      ],
      "metadata": {
        "id": "ZTYxWWVxjbiu",
        "outputId": "eff64816-f447-4923-d1e4-0a3dce7a285c",
        "colab": {
          "base_uri": "https://localhost:8080/"
        }
      },
      "execution_count": 56,
      "outputs": [
        {
          "output_type": "execute_result",
          "data": {
            "text/plain": [
              "2020-01-19 17:00:00    2058.170210\n",
              "2020-01-19 18:00:00     148.121919\n",
              "2020-01-19 19:00:00     117.607275\n",
              "2020-01-19 20:00:00     -38.734586\n",
              "2020-01-19 21:00:00    -109.911369\n",
              "2020-01-19 22:00:00     -56.567916\n",
              "2020-01-19 23:00:00     -86.640575\n",
              "2020-01-20 00:00:00     117.339875\n",
              "2020-01-20 01:00:00      50.450805\n",
              "2020-01-20 02:00:00      52.046234\n",
              "2020-01-20 03:00:00     192.242843\n",
              "2020-01-20 04:00:00      11.473165\n",
              "2020-01-20 05:00:00      17.827423\n",
              "2020-01-20 06:00:00      13.321822\n",
              "2020-01-20 07:00:00     249.571881\n",
              "2020-01-20 08:00:00      32.170719\n",
              "2020-01-20 09:00:00     371.201294\n",
              "2020-01-20 10:00:00     164.910260\n",
              "2020-01-20 11:00:00     165.498181\n",
              "2020-01-20 12:00:00     371.337621\n",
              "2020-01-20 13:00:00     316.423566\n",
              "2020-01-20 14:00:00     111.781295\n",
              "2020-01-20 15:00:00     319.316987\n",
              "2020-01-20 16:00:00     482.921894\n",
              "2020-01-20 17:00:00     328.279896\n",
              "2020-01-20 18:00:00     347.727885\n",
              "2020-01-20 19:00:00     155.477539\n",
              "2020-01-20 20:00:00     610.217680\n",
              "2020-01-20 21:00:00     668.950423\n",
              "2020-01-20 22:00:00     423.544378\n",
              "2020-01-20 23:00:00     594.984807\n",
              "2020-01-21 00:00:00     752.087053\n",
              "2020-01-21 01:00:00     729.280317\n",
              "2020-01-21 02:00:00     729.137425\n",
              "2020-01-21 03:00:00     697.393550\n",
              "2020-01-21 04:00:00     831.469616\n",
              "2020-01-21 05:00:00     879.321240\n",
              "2020-01-21 06:00:00     965.587906\n",
              "2020-01-21 07:00:00    1175.350483\n",
              "2020-01-21 08:00:00    1042.368515\n",
              "2020-01-21 09:00:00     954.383274\n",
              "2020-01-21 10:00:00    1294.564691\n",
              "2020-01-21 11:00:00    1382.899628\n",
              "2020-01-21 12:00:00    1284.971858\n",
              "2020-01-21 13:00:00    1327.817572\n",
              "2020-01-21 14:00:00    1404.606091\n",
              "2020-01-21 15:00:00    1446.858883\n",
              "2020-01-21 16:00:00    1816.850651\n",
              "2020-01-21 17:00:00    1777.403962\n",
              "2020-01-21 18:00:00    1882.318103\n",
              "2020-01-21 19:00:00    1975.278227\n",
              "Freq: H, dtype: float64"
            ]
          },
          "metadata": {},
          "execution_count": 56
        }
      ]
    },
    {
      "cell_type": "markdown",
      "source": [
        "## Training and Deploying a DeepAR Model"
      ],
      "metadata": {
        "id": "hmHTmmUmjbz-"
      }
    },
    {
      "cell_type": "code",
      "source": [
        "training_s3_input_location = f\"s3://{bucket}/{prefix}/input/training.jsonl\"\n",
        "test_s3_input_location = f\"s3://{bucket}/{prefix}/input/test.jsonl\"\n",
        "training_s3_output_location = f\"s3://{bucket}/{prefix}/output/\"\n",
        "\n",
        "train = TrainingInput(\n",
        "    training_s3_input_location, \n",
        "    content_type=\"json\"\n",
        ")\n",
        "\n",
        "test = TrainingInput(\n",
        "    test_s3_input_location, \n",
        "    content_type=\"json\"\n",
        ")\n",
        "\n",
        "context_length = prediction_length"
      ],
      "metadata": {
        "id": "y_6PI4JCjgjW"
      },
      "execution_count": 57,
      "outputs": []
    },
    {
      "cell_type": "code",
      "source": [
        "container = sagemaker.image_uris.retrieve(\"forecasting-deepar\", region, \"1\")\n",
        "\n",
        "estimator = sagemaker.estimator.Estimator(\n",
        "    container,\n",
        "    role, \n",
        "    instance_count=1, \n",
        "    instance_type='ml.c4.2xlarge',\n",
        "    output_path=training_s3_output_location,\n",
        "    sagemaker_session=sess\n",
        ")"
      ],
      "metadata": {
        "id": "6CRaBNKbj0SQ"
      },
      "execution_count": 59,
      "outputs": []
    },
    {
      "cell_type": "code",
      "source": [
        "estimator.set_hyperparameters(\n",
        "    time_freq=freq,\n",
        "    context_length=str(context_length),\n",
        "    prediction_length=str(prediction_length),\n",
        "    num_cells=40,\n",
        "    num_layers=3,\n",
        "    likelihood=\"gaussian\",\n",
        "    epochs=20,\n",
        "    mini_batch_size=32,\n",
        "    learning_rate=0.001,\n",
        "    dropout_rate=0.05,\n",
        "    early_stopping_patience=10\n",
        ")"
      ],
      "metadata": {
        "id": "31hn0KZjj0k5"
      },
      "execution_count": 60,
      "outputs": []
    },
    {
      "cell_type": "code",
      "source": [
        "data_channels = {\"train\": train, \"test\": test}"
      ],
      "metadata": {
        "id": "6yPtLK6cj3u0"
      },
      "execution_count": 61,
      "outputs": []
    },
    {
      "cell_type": "code",
      "source": [
        "%%time\n",
        "\n",
        "estimator.fit(inputs=data_channels)"
      ],
      "metadata": {
        "id": "xXWDHXTNj8In",
        "outputId": "b5a7fa08-34e6-4791-d7ca-afc214befd75",
        "colab": {
          "base_uri": "https://localhost:8080/"
        }
      },
      "execution_count": 62,
      "outputs": [
        {
          "output_type": "stream",
          "name": "stdout",
          "text": [
            "2022-06-10 21:40:34 Starting - Starting the training job...ProfilerReport-1654897233: InProgress\n",
            "...\n",
            "2022-06-10 21:41:16 Starting - Preparing the instances for training......\n",
            "2022-06-10 21:42:27 Downloading - Downloading input data...\n",
            "2022-06-10 21:43:02 Training - Downloading the training image.....\u001b[34mArguments: train\u001b[0m\n",
            "\u001b[34m/opt/amazon/lib/python3.7/site-packages/jsonref.py:8: DeprecationWarning: Using or importing the ABCs from 'collections' instead of from 'collections.abc' is deprecated since Python 3.3,and in 3.9 it will stop working\n",
            "  from collections import Mapping, MutableMapping, Sequence\u001b[0m\n",
            "\u001b[34m[06/10/2022 21:43:50 INFO 140156080805696] Reading default configuration from /opt/amazon/lib/python3.7/site-packages/algorithm/resources/default-input.json: {'_kvstore': 'auto', '_num_gpus': 'auto', '_num_kv_servers': 'auto', '_tuning_objective_metric': '', 'cardinality': 'auto', 'dropout_rate': '0.10', 'early_stopping_patience': '', 'embedding_dimension': '10', 'learning_rate': '0.001', 'likelihood': 'student-t', 'mini_batch_size': '128', 'num_cells': '40', 'num_dynamic_feat': 'auto', 'num_eval_samples': '100', 'num_layers': '2', 'test_quantiles': '[0.1, 0.2, 0.3, 0.4, 0.5, 0.6, 0.7, 0.8, 0.9]'}\u001b[0m\n",
            "\u001b[34m[06/10/2022 21:43:50 INFO 140156080805696] Merging with provided configuration from /opt/ml/input/config/hyperparameters.json: {'context_length': '50', 'dropout_rate': '0.05', 'early_stopping_patience': '10', 'epochs': '20', 'learning_rate': '0.001', 'likelihood': 'gaussian', 'mini_batch_size': '32', 'num_cells': '40', 'num_layers': '3', 'prediction_length': '50', 'time_freq': 'H'}\u001b[0m\n",
            "\u001b[34m[06/10/2022 21:43:50 INFO 140156080805696] Final configuration: {'_kvstore': 'auto', '_num_gpus': 'auto', '_num_kv_servers': 'auto', '_tuning_objective_metric': '', 'cardinality': 'auto', 'dropout_rate': '0.05', 'early_stopping_patience': '10', 'embedding_dimension': '10', 'learning_rate': '0.001', 'likelihood': 'gaussian', 'mini_batch_size': '32', 'num_cells': '40', 'num_dynamic_feat': 'auto', 'num_eval_samples': '100', 'num_layers': '3', 'test_quantiles': '[0.1, 0.2, 0.3, 0.4, 0.5, 0.6, 0.7, 0.8, 0.9]', 'context_length': '50', 'epochs': '20', 'prediction_length': '50', 'time_freq': 'H'}\u001b[0m\n",
            "\u001b[34mProcess 1 is a worker.\u001b[0m\n",
            "\u001b[34m[06/10/2022 21:43:50 INFO 140156080805696] Detected entry point for worker worker\u001b[0m\n",
            "\u001b[34m[06/10/2022 21:43:50 INFO 140156080805696] Using early stopping with patience 10\u001b[0m\n",
            "\u001b[34m[06/10/2022 21:43:50 INFO 140156080805696] random_seed is None\u001b[0m\n",
            "\u001b[34m[06/10/2022 21:43:50 INFO 140156080805696] [cardinality=auto] `cat` field was NOT found in the file `/opt/ml/input/data/train/training.jsonl` and will NOT be used for training.\u001b[0m\n",
            "\u001b[34m[06/10/2022 21:43:50 INFO 140156080805696] [num_dynamic_feat=auto] `dynamic_feat` field was NOT found in the file `/opt/ml/input/data/train/training.jsonl` and will NOT be used for training.\u001b[0m\n",
            "\u001b[34m[06/10/2022 21:43:50 INFO 140156080805696] Training set statistics:\u001b[0m\n",
            "\u001b[34m[06/10/2022 21:43:50 INFO 140156080805696] Real time series\u001b[0m\n",
            "\u001b[34m[06/10/2022 21:43:50 INFO 140156080805696] number of time series: 1\u001b[0m\n",
            "\u001b[34m[06/10/2022 21:43:50 INFO 140156080805696] number of observations: 450\u001b[0m\n",
            "\u001b[34m[06/10/2022 21:43:50 INFO 140156080805696] mean target length: 450.0\u001b[0m\n",
            "\u001b[34m[06/10/2022 21:43:50 INFO 140156080805696] min/mean/max target: -222.1137237548828/615.7338888888889/2143.717529296875\u001b[0m\n",
            "\u001b[34m[06/10/2022 21:43:50 INFO 140156080805696] mean abs(target): 628.2934722222222\u001b[0m\n",
            "\u001b[34m[06/10/2022 21:43:50 INFO 140156080805696] contains missing values: no\u001b[0m\n",
            "\u001b[34m[06/10/2022 21:43:50 INFO 140156080805696] Small number of time series. Doing 320 passes over dataset with prob 1.0 per epoch.\u001b[0m\n",
            "\u001b[34m[06/10/2022 21:43:50 INFO 140156080805696] Test set statistics:\u001b[0m\n",
            "\u001b[34m[06/10/2022 21:43:50 INFO 140156080805696] Real time series\u001b[0m\n",
            "\u001b[34m[06/10/2022 21:43:50 INFO 140156080805696] number of time series: 1\u001b[0m\n",
            "\u001b[34m[06/10/2022 21:43:50 INFO 140156080805696] number of observations: 500\u001b[0m\n",
            "\u001b[34m[06/10/2022 21:43:50 INFO 140156080805696] mean target length: 500.0\u001b[0m\n",
            "\u001b[34m[06/10/2022 21:43:50 INFO 140156080805696] min/mean/max target: -222.1137237548828/615.14625/2143.717529296875\u001b[0m\n",
            "\u001b[34m[06/10/2022 21:43:50 INFO 140156080805696] mean abs(target): 627.6171875\u001b[0m\n",
            "\u001b[34m[06/10/2022 21:43:50 INFO 140156080805696] contains missing values: no\u001b[0m\n",
            "\u001b[34m[06/10/2022 21:43:50 INFO 140156080805696] #memory_usage::<batchbuffer> = 6.28173828125 mb\u001b[0m\n",
            "\u001b[34m[06/10/2022 21:43:50 INFO 140156080805696] nvidia-smi: took 0.029 seconds to run.\u001b[0m\n",
            "\u001b[34m[06/10/2022 21:43:50 INFO 140156080805696] nvidia-smi identified 0 GPUs.\u001b[0m\n",
            "\u001b[34m[06/10/2022 21:43:50 INFO 140156080805696] Number of GPUs being used: 0\u001b[0m\n",
            "\u001b[34m[06/10/2022 21:43:50 INFO 140156080805696] Create Store: local\u001b[0m\n",
            "\u001b[34m#metrics {\"StartTime\": 1654897430.4295452, \"EndTime\": 1654897430.7221403, \"Dimensions\": {\"Algorithm\": \"AWS/DeepAR\", \"Host\": \"algo-1\", \"Operation\": \"training\"}, \"Metrics\": {\"get_graph.time\": {\"sum\": 289.22390937805176, \"count\": 1, \"min\": 289.22390937805176, \"max\": 289.22390937805176}}}\u001b[0m\n",
            "\u001b[34m[06/10/2022 21:43:50 INFO 140156080805696] Number of GPUs being used: 0\u001b[0m\n",
            "\u001b[34m[06/10/2022 21:43:51 INFO 140156080805696] #memory_usage::<model> = 32 mb\u001b[0m\n",
            "\u001b[34m#metrics {\"StartTime\": 1654897430.722239, \"EndTime\": 1654897431.195889, \"Dimensions\": {\"Algorithm\": \"AWS/DeepAR\", \"Host\": \"algo-1\", \"Operation\": \"training\"}, \"Metrics\": {\"initialize.time\": {\"sum\": 766.2034034729004, \"count\": 1, \"min\": 766.2034034729004, \"max\": 766.2034034729004}}}\u001b[0m\n",
            "\u001b[34m[06/10/2022 21:43:51 INFO 140156080805696] Epoch[0] Batch[0] avg_epoch_loss=9.701240\u001b[0m\n",
            "\u001b[34m[06/10/2022 21:43:51 INFO 140156080805696] #quality_metric: host=algo-1, epoch=0, batch=0 train loss <loss>=9.701239585876465\u001b[0m\n",
            "\u001b[34m[06/10/2022 21:43:52 INFO 140156080805696] Epoch[0] Batch[5] avg_epoch_loss=8.824686\u001b[0m\n",
            "\u001b[34m[06/10/2022 21:43:52 INFO 140156080805696] #quality_metric: host=algo-1, epoch=0, batch=5 train loss <loss>=8.82468557357788\u001b[0m\n",
            "\u001b[34m[06/10/2022 21:43:52 INFO 140156080805696] Epoch[0] Batch [5]#011Speed: 254.16 samples/sec#011loss=8.824686\u001b[0m\n",
            "\u001b[34m[06/10/2022 21:43:52 INFO 140156080805696] Epoch[0] Batch[10] avg_epoch_loss=8.345736\u001b[0m\n",
            "\u001b[34m[06/10/2022 21:43:52 INFO 140156080805696] #quality_metric: host=algo-1, epoch=0, batch=10 train loss <loss>=7.7709962844848635\u001b[0m\n",
            "\u001b[34m[06/10/2022 21:43:52 INFO 140156080805696] Epoch[0] Batch [10]#011Speed: 231.24 samples/sec#011loss=7.770996\u001b[0m\n",
            "\u001b[34m[06/10/2022 21:43:52 INFO 140156080805696] processed a total of 337 examples\u001b[0m\n",
            "\u001b[34m#metrics {\"StartTime\": 1654897431.1959631, \"EndTime\": 1654897432.9395683, \"Dimensions\": {\"Algorithm\": \"AWS/DeepAR\", \"Host\": \"algo-1\", \"Operation\": \"training\"}, \"Metrics\": {\"epochs\": {\"sum\": 20.0, \"count\": 1, \"min\": 20, \"max\": 20}, \"update.time\": {\"sum\": 1743.5171604156494, \"count\": 1, \"min\": 1743.5171604156494, \"max\": 1743.5171604156494}}}\u001b[0m\n",
            "\u001b[34m[06/10/2022 21:43:52 INFO 140156080805696] #throughput_metric: host=algo-1, train throughput=193.27043782820365 records/second\u001b[0m\n",
            "\u001b[34m[06/10/2022 21:43:52 INFO 140156080805696] #progress_metric: host=algo-1, completed 5.0 % of epochs\u001b[0m\n",
            "\u001b[34m[06/10/2022 21:43:52 INFO 140156080805696] #quality_metric: host=algo-1, epoch=0, train loss <loss>=8.345735896717418\u001b[0m\n",
            "\u001b[34m[06/10/2022 21:43:52 INFO 140156080805696] best epoch loss so far\u001b[0m\n",
            "\u001b[34m[06/10/2022 21:43:52 INFO 140156080805696] Saved checkpoint to \"/opt/ml/model/state_108dc46d-75f8-4aa7-bce4-f07921435129-0000.params\"\u001b[0m\n",
            "\u001b[34m#metrics {\"StartTime\": 1654897432.9396775, \"EndTime\": 1654897432.9906847, \"Dimensions\": {\"Algorithm\": \"AWS/DeepAR\", \"Host\": \"algo-1\", \"Operation\": \"training\"}, \"Metrics\": {\"state.serialize.time\": {\"sum\": 50.41074752807617, \"count\": 1, \"min\": 50.41074752807617, \"max\": 50.41074752807617}}}\u001b[0m\n",
            "\u001b[34m[06/10/2022 21:43:53 INFO 140156080805696] Epoch[1] Batch[0] avg_epoch_loss=7.626141\u001b[0m\n",
            "\u001b[34m[06/10/2022 21:43:53 INFO 140156080805696] #quality_metric: host=algo-1, epoch=1, batch=0 train loss <loss>=7.626140594482422\u001b[0m\n",
            "\u001b[34m[06/10/2022 21:43:53 INFO 140156080805696] Epoch[1] Batch[5] avg_epoch_loss=7.666691\u001b[0m\n",
            "\u001b[34m[06/10/2022 21:43:53 INFO 140156080805696] #quality_metric: host=algo-1, epoch=1, batch=5 train loss <loss>=7.666691144307454\u001b[0m\n",
            "\u001b[34m[06/10/2022 21:43:53 INFO 140156080805696] Epoch[1] Batch [5]#011Speed: 270.18 samples/sec#011loss=7.666691\u001b[0m\n",
            "\u001b[34m[06/10/2022 21:43:54 INFO 140156080805696] processed a total of 296 examples\u001b[0m\n",
            "\u001b[34m#metrics {\"StartTime\": 1654897432.9907746, \"EndTime\": 1654897434.3446395, \"Dimensions\": {\"Algorithm\": \"AWS/DeepAR\", \"Host\": \"algo-1\", \"Operation\": \"training\"}, \"Metrics\": {\"update.time\": {\"sum\": 1353.7795543670654, \"count\": 1, \"min\": 1353.7795543670654, \"max\": 1353.7795543670654}}}\u001b[0m\n",
            "\u001b[34m[06/10/2022 21:43:54 INFO 140156080805696] #throughput_metric: host=algo-1, train throughput=218.62317097759467 records/second\u001b[0m\n",
            "\u001b[34m[06/10/2022 21:43:54 INFO 140156080805696] #progress_metric: host=algo-1, completed 10.0 % of epochs\u001b[0m\n",
            "\u001b[34m[06/10/2022 21:43:54 INFO 140156080805696] #quality_metric: host=algo-1, epoch=1, train loss <loss>=7.6665290832519535\u001b[0m\n",
            "\u001b[34m[06/10/2022 21:43:54 INFO 140156080805696] best epoch loss so far\u001b[0m\n",
            "\u001b[34m[06/10/2022 21:43:54 INFO 140156080805696] Saved checkpoint to \"/opt/ml/model/state_8be934ab-8dad-4150-8805-dbdc37aa590e-0000.params\"\u001b[0m\n",
            "\u001b[34m#metrics {\"StartTime\": 1654897434.3447409, \"EndTime\": 1654897434.3794565, \"Dimensions\": {\"Algorithm\": \"AWS/DeepAR\", \"Host\": \"algo-1\", \"Operation\": \"training\"}, \"Metrics\": {\"state.serialize.time\": {\"sum\": 34.10220146179199, \"count\": 1, \"min\": 34.10220146179199, \"max\": 34.10220146179199}}}\u001b[0m\n",
            "\u001b[34m[06/10/2022 21:43:54 INFO 140156080805696] Epoch[2] Batch[0] avg_epoch_loss=7.414412\u001b[0m\n",
            "\u001b[34m[06/10/2022 21:43:54 INFO 140156080805696] #quality_metric: host=algo-1, epoch=2, batch=0 train loss <loss>=7.414411544799805\u001b[0m\n",
            "\u001b[34m[06/10/2022 21:43:55 INFO 140156080805696] Epoch[2] Batch[5] avg_epoch_loss=7.350489\u001b[0m\n",
            "\u001b[34m[06/10/2022 21:43:55 INFO 140156080805696] #quality_metric: host=algo-1, epoch=2, batch=5 train loss <loss>=7.350488503774007\u001b[0m\n",
            "\u001b[34m[06/10/2022 21:43:55 INFO 140156080805696] Epoch[2] Batch [5]#011Speed: 249.70 samples/sec#011loss=7.350489\u001b[0m\n",
            "\n",
            "2022-06-10 21:44:03 Training - Training image download completed. Training in progress.\u001b[34m[06/10/2022 21:43:55 INFO 140156080805696] processed a total of 317 examples\u001b[0m\n",
            "\u001b[34m#metrics {\"StartTime\": 1654897434.37956, \"EndTime\": 1654897435.8140726, \"Dimensions\": {\"Algorithm\": \"AWS/DeepAR\", \"Host\": \"algo-1\", \"Operation\": \"training\"}, \"Metrics\": {\"update.time\": {\"sum\": 1434.4308376312256, \"count\": 1, \"min\": 1434.4308376312256, \"max\": 1434.4308376312256}}}\u001b[0m\n",
            "\u001b[34m[06/10/2022 21:43:55 INFO 140156080805696] #throughput_metric: host=algo-1, train throughput=220.97414644718071 records/second\u001b[0m\n",
            "\u001b[34m[06/10/2022 21:43:55 INFO 140156080805696] #progress_metric: host=algo-1, completed 15.0 % of epochs\u001b[0m\n",
            "\u001b[34m[06/10/2022 21:43:55 INFO 140156080805696] #quality_metric: host=algo-1, epoch=2, train loss <loss>=7.275015068054199\u001b[0m\n",
            "\u001b[34m[06/10/2022 21:43:55 INFO 140156080805696] best epoch loss so far\u001b[0m\n",
            "\u001b[34m[06/10/2022 21:43:55 INFO 140156080805696] Saved checkpoint to \"/opt/ml/model/state_f3775866-7356-4dc7-8390-a838e3e1f598-0000.params\"\u001b[0m\n",
            "\u001b[34m#metrics {\"StartTime\": 1654897435.8141553, \"EndTime\": 1654897435.868327, \"Dimensions\": {\"Algorithm\": \"AWS/DeepAR\", \"Host\": \"algo-1\", \"Operation\": \"training\"}, \"Metrics\": {\"state.serialize.time\": {\"sum\": 53.58624458312988, \"count\": 1, \"min\": 53.58624458312988, \"max\": 53.58624458312988}}}\u001b[0m\n",
            "\u001b[34m[06/10/2022 21:43:56 INFO 140156080805696] Epoch[3] Batch[0] avg_epoch_loss=7.186061\u001b[0m\n",
            "\u001b[34m[06/10/2022 21:43:56 INFO 140156080805696] #quality_metric: host=algo-1, epoch=3, batch=0 train loss <loss>=7.186061382293701\u001b[0m\n",
            "\u001b[34m[06/10/2022 21:43:56 INFO 140156080805696] Epoch[3] Batch[5] avg_epoch_loss=7.036356\u001b[0m\n",
            "\u001b[34m[06/10/2022 21:43:56 INFO 140156080805696] #quality_metric: host=algo-1, epoch=3, batch=5 train loss <loss>=7.036356369654338\u001b[0m\n",
            "\u001b[34m[06/10/2022 21:43:56 INFO 140156080805696] Epoch[3] Batch [5]#011Speed: 246.90 samples/sec#011loss=7.036356\u001b[0m\n",
            "\u001b[34m[06/10/2022 21:43:57 INFO 140156080805696] Epoch[3] Batch[10] avg_epoch_loss=6.959820\u001b[0m\n",
            "\u001b[34m[06/10/2022 21:43:57 INFO 140156080805696] #quality_metric: host=algo-1, epoch=3, batch=10 train loss <loss>=6.86797571182251\u001b[0m\n",
            "\u001b[34m[06/10/2022 21:43:57 INFO 140156080805696] Epoch[3] Batch [10]#011Speed: 243.89 samples/sec#011loss=6.867976\u001b[0m\n",
            "\u001b[34m[06/10/2022 21:43:57 INFO 140156080805696] processed a total of 334 examples\u001b[0m\n",
            "\u001b[34m#metrics {\"StartTime\": 1654897435.8684125, \"EndTime\": 1654897437.467012, \"Dimensions\": {\"Algorithm\": \"AWS/DeepAR\", \"Host\": \"algo-1\", \"Operation\": \"training\"}, \"Metrics\": {\"update.time\": {\"sum\": 1598.5291004180908, \"count\": 1, \"min\": 1598.5291004180908, \"max\": 1598.5291004180908}}}\u001b[0m\n",
            "\u001b[34m[06/10/2022 21:43:57 INFO 140156080805696] #throughput_metric: host=algo-1, train throughput=208.92500684163863 records/second\u001b[0m\n",
            "\u001b[34m[06/10/2022 21:43:57 INFO 140156080805696] #progress_metric: host=algo-1, completed 20.0 % of epochs\u001b[0m\n",
            "\u001b[34m[06/10/2022 21:43:57 INFO 140156080805696] #quality_metric: host=algo-1, epoch=3, train loss <loss>=6.959819707003507\u001b[0m\n",
            "\u001b[34m[06/10/2022 21:43:57 INFO 140156080805696] best epoch loss so far\u001b[0m\n",
            "\u001b[34m[06/10/2022 21:43:57 INFO 140156080805696] Saved checkpoint to \"/opt/ml/model/state_860123b9-3b6b-4b32-b354-a6a00f51c196-0000.params\"\u001b[0m\n",
            "\u001b[34m#metrics {\"StartTime\": 1654897437.4670973, \"EndTime\": 1654897437.5206606, \"Dimensions\": {\"Algorithm\": \"AWS/DeepAR\", \"Host\": \"algo-1\", \"Operation\": \"training\"}, \"Metrics\": {\"state.serialize.time\": {\"sum\": 53.081512451171875, \"count\": 1, \"min\": 53.081512451171875, \"max\": 53.081512451171875}}}\u001b[0m\n",
            "\u001b[34m[06/10/2022 21:43:57 INFO 140156080805696] Epoch[4] Batch[0] avg_epoch_loss=6.852672\u001b[0m\n",
            "\u001b[34m[06/10/2022 21:43:57 INFO 140156080805696] #quality_metric: host=algo-1, epoch=4, batch=0 train loss <loss>=6.852672100067139\u001b[0m\n",
            "\u001b[34m[06/10/2022 21:43:58 INFO 140156080805696] Epoch[4] Batch[5] avg_epoch_loss=6.751037\u001b[0m\n",
            "\u001b[34m[06/10/2022 21:43:58 INFO 140156080805696] #quality_metric: host=algo-1, epoch=4, batch=5 train loss <loss>=6.751036723454793\u001b[0m\n",
            "\u001b[34m[06/10/2022 21:43:58 INFO 140156080805696] Epoch[4] Batch [5]#011Speed: 268.10 samples/sec#011loss=6.751037\u001b[0m\n",
            "\u001b[34m[06/10/2022 21:43:58 INFO 140156080805696] processed a total of 307 examples\u001b[0m\n",
            "\u001b[34m#metrics {\"StartTime\": 1654897437.520752, \"EndTime\": 1654897438.9259064, \"Dimensions\": {\"Algorithm\": \"AWS/DeepAR\", \"Host\": \"algo-1\", \"Operation\": \"training\"}, \"Metrics\": {\"update.time\": {\"sum\": 1405.0829410552979, \"count\": 1, \"min\": 1405.0829410552979, \"max\": 1405.0829410552979}}}\u001b[0m\n",
            "\u001b[34m[06/10/2022 21:43:58 INFO 140156080805696] #throughput_metric: host=algo-1, train throughput=218.47004919791468 records/second\u001b[0m\n",
            "\u001b[34m[06/10/2022 21:43:58 INFO 140156080805696] #progress_metric: host=algo-1, completed 25.0 % of epochs\u001b[0m\n",
            "\u001b[34m[06/10/2022 21:43:58 INFO 140156080805696] #quality_metric: host=algo-1, epoch=4, train loss <loss>=6.719351816177368\u001b[0m\n",
            "\u001b[34m[06/10/2022 21:43:58 INFO 140156080805696] best epoch loss so far\u001b[0m\n",
            "\u001b[34m[06/10/2022 21:43:58 INFO 140156080805696] Saved checkpoint to \"/opt/ml/model/state_affd8302-66a4-4546-9520-63d706d97671-0000.params\"\u001b[0m\n",
            "\u001b[34m#metrics {\"StartTime\": 1654897438.926004, \"EndTime\": 1654897438.9794943, \"Dimensions\": {\"Algorithm\": \"AWS/DeepAR\", \"Host\": \"algo-1\", \"Operation\": \"training\"}, \"Metrics\": {\"state.serialize.time\": {\"sum\": 52.91485786437988, \"count\": 1, \"min\": 52.91485786437988, \"max\": 52.91485786437988}}}\u001b[0m\n",
            "\u001b[34m[06/10/2022 21:43:59 INFO 140156080805696] Epoch[5] Batch[0] avg_epoch_loss=6.593768\u001b[0m\n",
            "\u001b[34m[06/10/2022 21:43:59 INFO 140156080805696] #quality_metric: host=algo-1, epoch=5, batch=0 train loss <loss>=6.5937676429748535\u001b[0m\n",
            "\u001b[34m[06/10/2022 21:43:59 INFO 140156080805696] Epoch[5] Batch[5] avg_epoch_loss=6.532436\u001b[0m\n",
            "\u001b[34m[06/10/2022 21:43:59 INFO 140156080805696] #quality_metric: host=algo-1, epoch=5, batch=5 train loss <loss>=6.532435576121013\u001b[0m\n",
            "\u001b[34m[06/10/2022 21:43:59 INFO 140156080805696] Epoch[5] Batch [5]#011Speed: 247.87 samples/sec#011loss=6.532436\u001b[0m\n",
            "\u001b[34m[06/10/2022 21:44:00 INFO 140156080805696] processed a total of 320 examples\u001b[0m\n",
            "\u001b[34m#metrics {\"StartTime\": 1654897438.9795861, \"EndTime\": 1654897440.4391046, \"Dimensions\": {\"Algorithm\": \"AWS/DeepAR\", \"Host\": \"algo-1\", \"Operation\": \"training\"}, \"Metrics\": {\"update.time\": {\"sum\": 1459.45405960083, \"count\": 1, \"min\": 1459.45405960083, \"max\": 1459.45405960083}}}\u001b[0m\n",
            "\u001b[34m[06/10/2022 21:44:00 INFO 140156080805696] #throughput_metric: host=algo-1, train throughput=219.24069432295508 records/second\u001b[0m\n",
            "\u001b[34m[06/10/2022 21:44:00 INFO 140156080805696] #progress_metric: host=algo-1, completed 30.0 % of epochs\u001b[0m\n",
            "\u001b[34m[06/10/2022 21:44:00 INFO 140156080805696] #quality_metric: host=algo-1, epoch=5, train loss <loss>=6.499246549606323\u001b[0m\n",
            "\u001b[34m[06/10/2022 21:44:00 INFO 140156080805696] best epoch loss so far\u001b[0m\n",
            "\u001b[34m[06/10/2022 21:44:00 INFO 140156080805696] Saved checkpoint to \"/opt/ml/model/state_d76b4fdc-f205-40aa-9d3c-30b86859204f-0000.params\"\u001b[0m\n",
            "\u001b[34m#metrics {\"StartTime\": 1654897440.4391963, \"EndTime\": 1654897440.488657, \"Dimensions\": {\"Algorithm\": \"AWS/DeepAR\", \"Host\": \"algo-1\", \"Operation\": \"training\"}, \"Metrics\": {\"state.serialize.time\": {\"sum\": 48.871517181396484, \"count\": 1, \"min\": 48.871517181396484, \"max\": 48.871517181396484}}}\u001b[0m\n",
            "\u001b[34m[06/10/2022 21:44:00 INFO 140156080805696] Epoch[6] Batch[0] avg_epoch_loss=6.515951\u001b[0m\n",
            "\u001b[34m[06/10/2022 21:44:00 INFO 140156080805696] #quality_metric: host=algo-1, epoch=6, batch=0 train loss <loss>=6.515951156616211\u001b[0m\n",
            "\u001b[34m[06/10/2022 21:44:01 INFO 140156080805696] Epoch[6] Batch[5] avg_epoch_loss=6.424824\u001b[0m\n",
            "\u001b[34m[06/10/2022 21:44:01 INFO 140156080805696] #quality_metric: host=algo-1, epoch=6, batch=5 train loss <loss>=6.4248238404591875\u001b[0m\n",
            "\u001b[34m[06/10/2022 21:44:01 INFO 140156080805696] Epoch[6] Batch [5]#011Speed: 240.67 samples/sec#011loss=6.424824\u001b[0m\n",
            "\u001b[34m[06/10/2022 21:44:02 INFO 140156080805696] Epoch[6] Batch[10] avg_epoch_loss=6.398623\u001b[0m\n",
            "\u001b[34m[06/10/2022 21:44:02 INFO 140156080805696] #quality_metric: host=algo-1, epoch=6, batch=10 train loss <loss>=6.367181301116943\u001b[0m\n",
            "\u001b[34m[06/10/2022 21:44:02 INFO 140156080805696] Epoch[6] Batch [10]#011Speed: 232.49 samples/sec#011loss=6.367181\u001b[0m\n",
            "\u001b[34m[06/10/2022 21:44:02 INFO 140156080805696] processed a total of 337 examples\u001b[0m\n",
            "\u001b[34m#metrics {\"StartTime\": 1654897440.4887319, \"EndTime\": 1654897442.0854695, \"Dimensions\": {\"Algorithm\": \"AWS/DeepAR\", \"Host\": \"algo-1\", \"Operation\": \"training\"}, \"Metrics\": {\"update.time\": {\"sum\": 1596.665859222412, \"count\": 1, \"min\": 1596.665859222412, \"max\": 1596.665859222412}}}\u001b[0m\n",
            "\u001b[34m[06/10/2022 21:44:02 INFO 140156080805696] #throughput_metric: host=algo-1, train throughput=211.04654674697147 records/second\u001b[0m\n",
            "\u001b[34m[06/10/2022 21:44:02 INFO 140156080805696] #progress_metric: host=algo-1, completed 35.0 % of epochs\u001b[0m\n",
            "\u001b[34m[06/10/2022 21:44:02 INFO 140156080805696] #quality_metric: host=algo-1, epoch=6, train loss <loss>=6.398622686212713\u001b[0m\n",
            "\u001b[34m[06/10/2022 21:44:02 INFO 140156080805696] best epoch loss so far\u001b[0m\n",
            "\u001b[34m[06/10/2022 21:44:02 INFO 140156080805696] Saved checkpoint to \"/opt/ml/model/state_d7a7087e-e6dd-4bae-aeca-a33a73e8ee17-0000.params\"\u001b[0m\n",
            "\u001b[34m#metrics {\"StartTime\": 1654897442.085569, \"EndTime\": 1654897442.135439, \"Dimensions\": {\"Algorithm\": \"AWS/DeepAR\", \"Host\": \"algo-1\", \"Operation\": \"training\"}, \"Metrics\": {\"state.serialize.time\": {\"sum\": 49.204111099243164, \"count\": 1, \"min\": 49.204111099243164, \"max\": 49.204111099243164}}}\u001b[0m\n",
            "\u001b[34m[06/10/2022 21:44:02 INFO 140156080805696] Epoch[7] Batch[0] avg_epoch_loss=6.450005\u001b[0m\n",
            "\u001b[34m[06/10/2022 21:44:02 INFO 140156080805696] #quality_metric: host=algo-1, epoch=7, batch=0 train loss <loss>=6.450005054473877\u001b[0m\n",
            "\u001b[34m[06/10/2022 21:44:03 INFO 140156080805696] Epoch[7] Batch[5] avg_epoch_loss=6.286570\u001b[0m\n",
            "\u001b[34m[06/10/2022 21:44:03 INFO 140156080805696] #quality_metric: host=algo-1, epoch=7, batch=5 train loss <loss>=6.286569913228353\u001b[0m\n",
            "\u001b[34m[06/10/2022 21:44:03 INFO 140156080805696] Epoch[7] Batch [5]#011Speed: 246.24 samples/sec#011loss=6.286570\u001b[0m\n",
            "\u001b[34m[06/10/2022 21:44:03 INFO 140156080805696] processed a total of 312 examples\u001b[0m\n",
            "\u001b[34m#metrics {\"StartTime\": 1654897442.135521, \"EndTime\": 1654897443.6281536, \"Dimensions\": {\"Algorithm\": \"AWS/DeepAR\", \"Host\": \"algo-1\", \"Operation\": \"training\"}, \"Metrics\": {\"update.time\": {\"sum\": 1492.5580024719238, \"count\": 1, \"min\": 1492.5580024719238, \"max\": 1492.5580024719238}}}\u001b[0m\n",
            "\u001b[34m[06/10/2022 21:44:03 INFO 140156080805696] #throughput_metric: host=algo-1, train throughput=209.0189391555629 records/second\u001b[0m\n",
            "\u001b[34m[06/10/2022 21:44:03 INFO 140156080805696] #progress_metric: host=algo-1, completed 40.0 % of epochs\u001b[0m\n",
            "\u001b[34m[06/10/2022 21:44:03 INFO 140156080805696] #quality_metric: host=algo-1, epoch=7, train loss <loss>=6.266987609863281\u001b[0m\n",
            "\u001b[34m[06/10/2022 21:44:03 INFO 140156080805696] best epoch loss so far\u001b[0m\n",
            "\u001b[34m[06/10/2022 21:44:03 INFO 140156080805696] Saved checkpoint to \"/opt/ml/model/state_f180619b-f2f9-4bd1-9084-2c44ac56ddd1-0000.params\"\u001b[0m\n",
            "\u001b[34m#metrics {\"StartTime\": 1654897443.6282418, \"EndTime\": 1654897443.683268, \"Dimensions\": {\"Algorithm\": \"AWS/DeepAR\", \"Host\": \"algo-1\", \"Operation\": \"training\"}, \"Metrics\": {\"state.serialize.time\": {\"sum\": 54.46767807006836, \"count\": 1, \"min\": 54.46767807006836, \"max\": 54.46767807006836}}}\u001b[0m\n",
            "\u001b[34m[06/10/2022 21:44:03 INFO 140156080805696] Epoch[8] Batch[0] avg_epoch_loss=6.109406\u001b[0m\n",
            "\u001b[34m[06/10/2022 21:44:03 INFO 140156080805696] #quality_metric: host=algo-1, epoch=8, batch=0 train loss <loss>=6.109406471252441\u001b[0m\n",
            "\u001b[34m[06/10/2022 21:44:04 INFO 140156080805696] Epoch[8] Batch[5] avg_epoch_loss=6.203670\u001b[0m\n",
            "\u001b[34m[06/10/2022 21:44:04 INFO 140156080805696] #quality_metric: host=algo-1, epoch=8, batch=5 train loss <loss>=6.203670263290405\u001b[0m\n",
            "\u001b[34m[06/10/2022 21:44:04 INFO 140156080805696] Epoch[8] Batch [5]#011Speed: 237.07 samples/sec#011loss=6.203670\u001b[0m\n",
            "\u001b[34m[06/10/2022 21:44:05 INFO 140156080805696] processed a total of 319 examples\u001b[0m\n",
            "\u001b[34m#metrics {\"StartTime\": 1654897443.6833508, \"EndTime\": 1654897445.1844814, \"Dimensions\": {\"Algorithm\": \"AWS/DeepAR\", \"Host\": \"algo-1\", \"Operation\": \"training\"}, \"Metrics\": {\"update.time\": {\"sum\": 1501.0521411895752, \"count\": 1, \"min\": 1501.0521411895752, \"max\": 1501.0521411895752}}}\u001b[0m\n",
            "\u001b[34m[06/10/2022 21:44:05 INFO 140156080805696] #throughput_metric: host=algo-1, train throughput=212.49880106587452 records/second\u001b[0m\n",
            "\u001b[34m[06/10/2022 21:44:05 INFO 140156080805696] #progress_metric: host=algo-1, completed 45.0 % of epochs\u001b[0m\n",
            "\u001b[34m[06/10/2022 21:44:05 INFO 140156080805696] #quality_metric: host=algo-1, epoch=8, train loss <loss>=6.241879796981811\u001b[0m\n",
            "\u001b[34m[06/10/2022 21:44:05 INFO 140156080805696] best epoch loss so far\u001b[0m\n",
            "\u001b[34m[06/10/2022 21:44:05 INFO 140156080805696] Saved checkpoint to \"/opt/ml/model/state_827fc0c2-e0b6-49d4-99f3-3003056c9c7e-0000.params\"\u001b[0m\n",
            "\u001b[34m#metrics {\"StartTime\": 1654897445.1845717, \"EndTime\": 1654897445.237852, \"Dimensions\": {\"Algorithm\": \"AWS/DeepAR\", \"Host\": \"algo-1\", \"Operation\": \"training\"}, \"Metrics\": {\"state.serialize.time\": {\"sum\": 52.741050720214844, \"count\": 1, \"min\": 52.741050720214844, \"max\": 52.741050720214844}}}\u001b[0m\n",
            "\u001b[34m[06/10/2022 21:44:05 INFO 140156080805696] Epoch[9] Batch[0] avg_epoch_loss=6.301998\u001b[0m\n",
            "\u001b[34m[06/10/2022 21:44:05 INFO 140156080805696] #quality_metric: host=algo-1, epoch=9, batch=0 train loss <loss>=6.301997661590576\u001b[0m\n",
            "\u001b[34m[06/10/2022 21:44:06 INFO 140156080805696] Epoch[9] Batch[5] avg_epoch_loss=6.201999\u001b[0m\n",
            "\u001b[34m[06/10/2022 21:44:06 INFO 140156080805696] #quality_metric: host=algo-1, epoch=9, batch=5 train loss <loss>=6.201998631159465\u001b[0m\n",
            "\u001b[34m[06/10/2022 21:44:06 INFO 140156080805696] Epoch[9] Batch [5]#011Speed: 251.82 samples/sec#011loss=6.201999\u001b[0m\n",
            "\u001b[34m[06/10/2022 21:44:06 INFO 140156080805696] processed a total of 279 examples\u001b[0m\n",
            "\u001b[34m#metrics {\"StartTime\": 1654897445.2379422, \"EndTime\": 1654897446.547824, \"Dimensions\": {\"Algorithm\": \"AWS/DeepAR\", \"Host\": \"algo-1\", \"Operation\": \"training\"}, \"Metrics\": {\"update.time\": {\"sum\": 1309.8053932189941, \"count\": 1, \"min\": 1309.8053932189941, \"max\": 1309.8053932189941}}}\u001b[0m\n",
            "\u001b[34m[06/10/2022 21:44:06 INFO 140156080805696] #throughput_metric: host=algo-1, train throughput=212.98687691175888 records/second\u001b[0m\n",
            "\u001b[34m[06/10/2022 21:44:06 INFO 140156080805696] #progress_metric: host=algo-1, completed 50.0 % of epochs\u001b[0m\n",
            "\u001b[34m[06/10/2022 21:44:06 INFO 140156080805696] #quality_metric: host=algo-1, epoch=9, train loss <loss>=6.188875516255696\u001b[0m\n",
            "\u001b[34m[06/10/2022 21:44:06 INFO 140156080805696] best epoch loss so far\u001b[0m\n",
            "\u001b[34m[06/10/2022 21:44:06 INFO 140156080805696] Saved checkpoint to \"/opt/ml/model/state_66b302f9-4347-4f99-8804-baad92fe1308-0000.params\"\u001b[0m\n",
            "\u001b[34m#metrics {\"StartTime\": 1654897446.5479162, \"EndTime\": 1654897446.6012418, \"Dimensions\": {\"Algorithm\": \"AWS/DeepAR\", \"Host\": \"algo-1\", \"Operation\": \"training\"}, \"Metrics\": {\"state.serialize.time\": {\"sum\": 52.80590057373047, \"count\": 1, \"min\": 52.80590057373047, \"max\": 52.80590057373047}}}\u001b[0m\n",
            "\u001b[34m[06/10/2022 21:44:06 INFO 140156080805696] Epoch[10] Batch[0] avg_epoch_loss=6.161050\u001b[0m\n",
            "\u001b[34m[06/10/2022 21:44:06 INFO 140156080805696] #quality_metric: host=algo-1, epoch=10, batch=0 train loss <loss>=6.161049842834473\u001b[0m\n",
            "\u001b[34m[06/10/2022 21:44:07 INFO 140156080805696] Epoch[10] Batch[5] avg_epoch_loss=6.168835\u001b[0m\n",
            "\u001b[34m[06/10/2022 21:44:07 INFO 140156080805696] #quality_metric: host=algo-1, epoch=10, batch=5 train loss <loss>=6.168835481007894\u001b[0m\n",
            "\u001b[34m[06/10/2022 21:44:07 INFO 140156080805696] Epoch[10] Batch [5]#011Speed: 249.55 samples/sec#011loss=6.168835\u001b[0m\n",
            "\u001b[34m[06/10/2022 21:44:08 INFO 140156080805696] Epoch[10] Batch[10] avg_epoch_loss=6.172812\u001b[0m\n",
            "\u001b[34m[06/10/2022 21:44:08 INFO 140156080805696] #quality_metric: host=algo-1, epoch=10, batch=10 train loss <loss>=6.177583503723144\u001b[0m\n",
            "\u001b[34m[06/10/2022 21:44:08 INFO 140156080805696] Epoch[10] Batch [10]#011Speed: 242.08 samples/sec#011loss=6.177584\u001b[0m\n",
            "\u001b[34m[06/10/2022 21:44:08 INFO 140156080805696] processed a total of 337 examples\u001b[0m\n",
            "\u001b[34m#metrics {\"StartTime\": 1654897446.6013198, \"EndTime\": 1654897448.188472, \"Dimensions\": {\"Algorithm\": \"AWS/DeepAR\", \"Host\": \"algo-1\", \"Operation\": \"training\"}, \"Metrics\": {\"update.time\": {\"sum\": 1587.0776176452637, \"count\": 1, \"min\": 1587.0776176452637, \"max\": 1587.0776176452637}}}\u001b[0m\n",
            "\u001b[34m[06/10/2022 21:44:08 INFO 140156080805696] #throughput_metric: host=algo-1, train throughput=212.32209955888666 records/second\u001b[0m\n",
            "\u001b[34m[06/10/2022 21:44:08 INFO 140156080805696] #progress_metric: host=algo-1, completed 55.0 % of epochs\u001b[0m\n",
            "\u001b[34m[06/10/2022 21:44:08 INFO 140156080805696] #quality_metric: host=algo-1, epoch=10, train loss <loss>=6.172811854969371\u001b[0m\n",
            "\u001b[34m[06/10/2022 21:44:08 INFO 140156080805696] best epoch loss so far\u001b[0m\n",
            "\u001b[34m[06/10/2022 21:44:08 INFO 140156080805696] Saved checkpoint to \"/opt/ml/model/state_e9699536-2915-4563-9af6-b8e98f073f57-0000.params\"\u001b[0m\n",
            "\u001b[34m#metrics {\"StartTime\": 1654897448.1885605, \"EndTime\": 1654897448.2227376, \"Dimensions\": {\"Algorithm\": \"AWS/DeepAR\", \"Host\": \"algo-1\", \"Operation\": \"training\"}, \"Metrics\": {\"state.serialize.time\": {\"sum\": 33.54001045227051, \"count\": 1, \"min\": 33.54001045227051, \"max\": 33.54001045227051}}}\u001b[0m\n",
            "\u001b[34m[06/10/2022 21:44:08 INFO 140156080805696] Epoch[11] Batch[0] avg_epoch_loss=6.072279\u001b[0m\n",
            "\u001b[34m[06/10/2022 21:44:08 INFO 140156080805696] #quality_metric: host=algo-1, epoch=11, batch=0 train loss <loss>=6.072279453277588\u001b[0m\n",
            "\u001b[34m[06/10/2022 21:44:09 INFO 140156080805696] Epoch[11] Batch[5] avg_epoch_loss=6.142470\u001b[0m\n",
            "\u001b[34m[06/10/2022 21:44:09 INFO 140156080805696] #quality_metric: host=algo-1, epoch=11, batch=5 train loss <loss>=6.142469882965088\u001b[0m\n",
            "\u001b[34m[06/10/2022 21:44:09 INFO 140156080805696] Epoch[11] Batch [5]#011Speed: 249.11 samples/sec#011loss=6.142470\u001b[0m\n",
            "\u001b[34m[06/10/2022 21:44:09 INFO 140156080805696] Epoch[11] Batch[10] avg_epoch_loss=5.934249\u001b[0m\n",
            "\u001b[34m[06/10/2022 21:44:09 INFO 140156080805696] #quality_metric: host=algo-1, epoch=11, batch=10 train loss <loss>=5.684384536743164\u001b[0m\n",
            "\u001b[34m[06/10/2022 21:44:09 INFO 140156080805696] Epoch[11] Batch [10]#011Speed: 246.09 samples/sec#011loss=5.684385\u001b[0m\n",
            "\u001b[34m[06/10/2022 21:44:09 INFO 140156080805696] processed a total of 322 examples\u001b[0m\n",
            "\u001b[34m#metrics {\"StartTime\": 1654897448.2228096, \"EndTime\": 1654897449.7619898, \"Dimensions\": {\"Algorithm\": \"AWS/DeepAR\", \"Host\": \"algo-1\", \"Operation\": \"training\"}, \"Metrics\": {\"update.time\": {\"sum\": 1539.1089916229248, \"count\": 1, \"min\": 1539.1089916229248, \"max\": 1539.1089916229248}}}\u001b[0m\n",
            "\u001b[34m[06/10/2022 21:44:09 INFO 140156080805696] #throughput_metric: host=algo-1, train throughput=209.19309431600294 records/second\u001b[0m\n",
            "\u001b[34m[06/10/2022 21:44:09 INFO 140156080805696] #progress_metric: host=algo-1, completed 60.0 % of epochs\u001b[0m\n",
            "\u001b[34m[06/10/2022 21:44:09 INFO 140156080805696] #quality_metric: host=algo-1, epoch=11, train loss <loss>=5.934249271046031\u001b[0m\n",
            "\u001b[34m[06/10/2022 21:44:09 INFO 140156080805696] best epoch loss so far\u001b[0m\n",
            "\u001b[34m[06/10/2022 21:44:09 INFO 140156080805696] Saved checkpoint to \"/opt/ml/model/state_2939462f-ac82-403c-8c65-c4d2e4aba5f9-0000.params\"\u001b[0m\n",
            "\u001b[34m#metrics {\"StartTime\": 1654897449.7620878, \"EndTime\": 1654897449.813576, \"Dimensions\": {\"Algorithm\": \"AWS/DeepAR\", \"Host\": \"algo-1\", \"Operation\": \"training\"}, \"Metrics\": {\"state.serialize.time\": {\"sum\": 50.852298736572266, \"count\": 1, \"min\": 50.852298736572266, \"max\": 50.852298736572266}}}\u001b[0m\n",
            "\u001b[34m[06/10/2022 21:44:10 INFO 140156080805696] Epoch[12] Batch[0] avg_epoch_loss=6.072402\u001b[0m\n",
            "\u001b[34m[06/10/2022 21:44:10 INFO 140156080805696] #quality_metric: host=algo-1, epoch=12, batch=0 train loss <loss>=6.072402477264404\u001b[0m\n",
            "\u001b[34m[06/10/2022 21:44:10 INFO 140156080805696] Epoch[12] Batch[5] avg_epoch_loss=6.116402\u001b[0m\n",
            "\u001b[34m[06/10/2022 21:44:10 INFO 140156080805696] #quality_metric: host=algo-1, epoch=12, batch=5 train loss <loss>=6.116401672363281\u001b[0m\n",
            "\u001b[34m[06/10/2022 21:44:10 INFO 140156080805696] Epoch[12] Batch [5]#011Speed: 248.05 samples/sec#011loss=6.116402\u001b[0m\n",
            "\u001b[34m[06/10/2022 21:44:11 INFO 140156080805696] Epoch[12] Batch[10] avg_epoch_loss=6.097816\u001b[0m\n",
            "\u001b[34m[06/10/2022 21:44:11 INFO 140156080805696] #quality_metric: host=algo-1, epoch=12, batch=10 train loss <loss>=6.075514221191407\u001b[0m\n",
            "\u001b[34m[06/10/2022 21:44:11 INFO 140156080805696] Epoch[12] Batch [10]#011Speed: 267.33 samples/sec#011loss=6.075514\u001b[0m\n",
            "\u001b[34m[06/10/2022 21:44:11 INFO 140156080805696] processed a total of 334 examples\u001b[0m\n",
            "\u001b[34m#metrics {\"StartTime\": 1654897449.8136744, \"EndTime\": 1654897451.3396006, \"Dimensions\": {\"Algorithm\": \"AWS/DeepAR\", \"Host\": \"algo-1\", \"Operation\": \"training\"}, \"Metrics\": {\"update.time\": {\"sum\": 1525.8421897888184, \"count\": 1, \"min\": 1525.8421897888184, \"max\": 1525.8421897888184}}}\u001b[0m\n",
            "\u001b[34m[06/10/2022 21:44:11 INFO 140156080805696] #throughput_metric: host=algo-1, train throughput=218.87259339715735 records/second\u001b[0m\n",
            "\u001b[34m[06/10/2022 21:44:11 INFO 140156080805696] #progress_metric: host=algo-1, completed 65.0 % of epochs\u001b[0m\n",
            "\u001b[34m[06/10/2022 21:44:11 INFO 140156080805696] #quality_metric: host=algo-1, epoch=12, train loss <loss>=6.097816467285156\u001b[0m\n",
            "\u001b[34m[06/10/2022 21:44:11 INFO 140156080805696] loss did not improve\u001b[0m\n",
            "\u001b[34m[06/10/2022 21:44:11 INFO 140156080805696] Epoch[13] Batch[0] avg_epoch_loss=6.174840\u001b[0m\n",
            "\u001b[34m[06/10/2022 21:44:11 INFO 140156080805696] #quality_metric: host=algo-1, epoch=13, batch=0 train loss <loss>=6.174840450286865\u001b[0m\n",
            "\u001b[34m[06/10/2022 21:44:12 INFO 140156080805696] Epoch[13] Batch[5] avg_epoch_loss=6.089606\u001b[0m\n",
            "\u001b[34m[06/10/2022 21:44:12 INFO 140156080805696] #quality_metric: host=algo-1, epoch=13, batch=5 train loss <loss>=6.089606285095215\u001b[0m\n",
            "\u001b[34m[06/10/2022 21:44:12 INFO 140156080805696] Epoch[13] Batch [5]#011Speed: 270.70 samples/sec#011loss=6.089606\u001b[0m\n",
            "\u001b[34m[06/10/2022 21:44:12 INFO 140156080805696] Epoch[13] Batch[10] avg_epoch_loss=6.077004\u001b[0m\n",
            "\u001b[34m[06/10/2022 21:44:12 INFO 140156080805696] #quality_metric: host=algo-1, epoch=13, batch=10 train loss <loss>=6.061881637573242\u001b[0m\n",
            "\u001b[34m[06/10/2022 21:44:12 INFO 140156080805696] Epoch[13] Batch [10]#011Speed: 250.58 samples/sec#011loss=6.061882\u001b[0m\n",
            "\u001b[34m[06/10/2022 21:44:12 INFO 140156080805696] processed a total of 333 examples\u001b[0m\n",
            "\u001b[34m#metrics {\"StartTime\": 1654897451.3397129, \"EndTime\": 1654897452.8090544, \"Dimensions\": {\"Algorithm\": \"AWS/DeepAR\", \"Host\": \"algo-1\", \"Operation\": \"training\"}, \"Metrics\": {\"update.time\": {\"sum\": 1468.7654972076416, \"count\": 1, \"min\": 1468.7654972076416, \"max\": 1468.7654972076416}}}\u001b[0m\n",
            "\u001b[34m[06/10/2022 21:44:12 INFO 140156080805696] #throughput_metric: host=algo-1, train throughput=226.70290658521157 records/second\u001b[0m\n",
            "\u001b[34m[06/10/2022 21:44:12 INFO 140156080805696] #progress_metric: host=algo-1, completed 70.0 % of epochs\u001b[0m\n",
            "\u001b[34m[06/10/2022 21:44:12 INFO 140156080805696] #quality_metric: host=algo-1, epoch=13, train loss <loss>=6.0770041725852275\u001b[0m\n",
            "\u001b[34m[06/10/2022 21:44:12 INFO 140156080805696] loss did not improve\u001b[0m\n",
            "\u001b[34m[06/10/2022 21:44:13 INFO 140156080805696] Epoch[14] Batch[0] avg_epoch_loss=5.872582\u001b[0m\n",
            "\u001b[34m[06/10/2022 21:44:13 INFO 140156080805696] #quality_metric: host=algo-1, epoch=14, batch=0 train loss <loss>=5.872581958770752\u001b[0m\n",
            "\u001b[34m[06/10/2022 21:44:13 INFO 140156080805696] Epoch[14] Batch[5] avg_epoch_loss=5.992265\u001b[0m\n",
            "\u001b[34m[06/10/2022 21:44:13 INFO 140156080805696] #quality_metric: host=algo-1, epoch=14, batch=5 train loss <loss>=5.992265065511067\u001b[0m\n",
            "\u001b[34m[06/10/2022 21:44:13 INFO 140156080805696] Epoch[14] Batch [5]#011Speed: 248.35 samples/sec#011loss=5.992265\u001b[0m\n",
            "\u001b[34m[06/10/2022 21:44:14 INFO 140156080805696] processed a total of 300 examples\u001b[0m\n",
            "\u001b[34m#metrics {\"StartTime\": 1654897452.809132, \"EndTime\": 1654897454.2566006, \"Dimensions\": {\"Algorithm\": \"AWS/DeepAR\", \"Host\": \"algo-1\", \"Operation\": \"training\"}, \"Metrics\": {\"update.time\": {\"sum\": 1446.8960762023926, \"count\": 1, \"min\": 1446.8960762023926, \"max\": 1446.8960762023926}}}\u001b[0m\n",
            "\u001b[34m[06/10/2022 21:44:14 INFO 140156080805696] #throughput_metric: host=algo-1, train throughput=207.31975840480476 records/second\u001b[0m\n",
            "\u001b[34m[06/10/2022 21:44:14 INFO 140156080805696] #progress_metric: host=algo-1, completed 75.0 % of epochs\u001b[0m\n",
            "\u001b[34m[06/10/2022 21:44:14 INFO 140156080805696] #quality_metric: host=algo-1, epoch=14, train loss <loss>=6.001313495635986\u001b[0m\n",
            "\u001b[34m[06/10/2022 21:44:14 INFO 140156080805696] loss did not improve\u001b[0m\n",
            "\u001b[34m[06/10/2022 21:44:14 INFO 140156080805696] Epoch[15] Batch[0] avg_epoch_loss=5.892074\u001b[0m\n",
            "\u001b[34m[06/10/2022 21:44:14 INFO 140156080805696] #quality_metric: host=algo-1, epoch=15, batch=0 train loss <loss>=5.892073631286621\u001b[0m\n",
            "\u001b[34m[06/10/2022 21:44:15 INFO 140156080805696] Epoch[15] Batch[5] avg_epoch_loss=5.987022\u001b[0m\n",
            "\u001b[34m[06/10/2022 21:44:15 INFO 140156080805696] #quality_metric: host=algo-1, epoch=15, batch=5 train loss <loss>=5.987021843592326\u001b[0m\n",
            "\u001b[34m[06/10/2022 21:44:15 INFO 140156080805696] Epoch[15] Batch [5]#011Speed: 258.92 samples/sec#011loss=5.987022\u001b[0m\n",
            "\u001b[34m[06/10/2022 21:44:15 INFO 140156080805696] Epoch[15] Batch[10] avg_epoch_loss=5.984352\u001b[0m\n",
            "\u001b[34m[06/10/2022 21:44:15 INFO 140156080805696] #quality_metric: host=algo-1, epoch=15, batch=10 train loss <loss>=5.9811482429504395\u001b[0m\n",
            "\u001b[34m[06/10/2022 21:44:15 INFO 140156080805696] Epoch[15] Batch [10]#011Speed: 247.12 samples/sec#011loss=5.981148\u001b[0m\n",
            "\u001b[34m[06/10/2022 21:44:15 INFO 140156080805696] processed a total of 322 examples\u001b[0m\n",
            "\u001b[34m#metrics {\"StartTime\": 1654897454.256701, \"EndTime\": 1654897455.7795713, \"Dimensions\": {\"Algorithm\": \"AWS/DeepAR\", \"Host\": \"algo-1\", \"Operation\": \"training\"}, \"Metrics\": {\"update.time\": {\"sum\": 1522.303581237793, \"count\": 1, \"min\": 1522.303581237793, \"max\": 1522.303581237793}}}\u001b[0m\n",
            "\u001b[34m[06/10/2022 21:44:15 INFO 140156080805696] #throughput_metric: host=algo-1, train throughput=211.50504502230208 records/second\u001b[0m\n",
            "\u001b[34m[06/10/2022 21:44:15 INFO 140156080805696] #progress_metric: host=algo-1, completed 80.0 % of epochs\u001b[0m\n",
            "\u001b[34m[06/10/2022 21:44:15 INFO 140156080805696] #quality_metric: host=algo-1, epoch=15, train loss <loss>=5.984352025118741\u001b[0m\n",
            "\u001b[34m[06/10/2022 21:44:15 INFO 140156080805696] loss did not improve\u001b[0m\n",
            "\u001b[34m[06/10/2022 21:44:16 INFO 140156080805696] Epoch[16] Batch[0] avg_epoch_loss=6.047255\u001b[0m\n",
            "\u001b[34m[06/10/2022 21:44:16 INFO 140156080805696] #quality_metric: host=algo-1, epoch=16, batch=0 train loss <loss>=6.04725456237793\u001b[0m\n",
            "\u001b[34m[06/10/2022 21:44:16 INFO 140156080805696] Epoch[16] Batch[5] avg_epoch_loss=6.059252\u001b[0m\n",
            "\u001b[34m[06/10/2022 21:44:16 INFO 140156080805696] #quality_metric: host=algo-1, epoch=16, batch=5 train loss <loss>=6.0592522621154785\u001b[0m\n",
            "\u001b[34m[06/10/2022 21:44:16 INFO 140156080805696] Epoch[16] Batch [5]#011Speed: 247.70 samples/sec#011loss=6.059252\u001b[0m\n",
            "\u001b[34m[06/10/2022 21:44:17 INFO 140156080805696] Epoch[16] Batch[10] avg_epoch_loss=6.005561\u001b[0m\n",
            "\u001b[34m[06/10/2022 21:44:17 INFO 140156080805696] #quality_metric: host=algo-1, epoch=16, batch=10 train loss <loss>=5.94113073348999\u001b[0m\n",
            "\u001b[34m[06/10/2022 21:44:17 INFO 140156080805696] Epoch[16] Batch [10]#011Speed: 245.70 samples/sec#011loss=5.941131\u001b[0m\n",
            "\u001b[34m[06/10/2022 21:44:17 INFO 140156080805696] processed a total of 335 examples\u001b[0m\n",
            "\u001b[34m#metrics {\"StartTime\": 1654897455.7796493, \"EndTime\": 1654897457.356724, \"Dimensions\": {\"Algorithm\": \"AWS/DeepAR\", \"Host\": \"algo-1\", \"Operation\": \"training\"}, \"Metrics\": {\"update.time\": {\"sum\": 1576.5185356140137, \"count\": 1, \"min\": 1576.5185356140137, \"max\": 1576.5185356140137}}}\u001b[0m\n",
            "\u001b[34m[06/10/2022 21:44:17 INFO 140156080805696] #throughput_metric: host=algo-1, train throughput=212.47509289318026 records/second\u001b[0m\n",
            "\u001b[34m[06/10/2022 21:44:17 INFO 140156080805696] #progress_metric: host=algo-1, completed 85.0 % of epochs\u001b[0m\n",
            "\u001b[34m[06/10/2022 21:44:17 INFO 140156080805696] #quality_metric: host=algo-1, epoch=16, train loss <loss>=6.005560658194802\u001b[0m\n",
            "\u001b[34m[06/10/2022 21:44:17 INFO 140156080805696] loss did not improve\u001b[0m\n",
            "\u001b[34m[06/10/2022 21:44:17 INFO 140156080805696] Epoch[17] Batch[0] avg_epoch_loss=5.923128\u001b[0m\n",
            "\u001b[34m[06/10/2022 21:44:17 INFO 140156080805696] #quality_metric: host=algo-1, epoch=17, batch=0 train loss <loss>=5.923128128051758\u001b[0m\n",
            "\u001b[34m[06/10/2022 21:44:18 INFO 140156080805696] Epoch[17] Batch[5] avg_epoch_loss=5.998781\u001b[0m\n",
            "\u001b[34m[06/10/2022 21:44:18 INFO 140156080805696] #quality_metric: host=algo-1, epoch=17, batch=5 train loss <loss>=5.998780727386475\u001b[0m\n",
            "\u001b[34m[06/10/2022 21:44:18 INFO 140156080805696] Epoch[17] Batch [5]#011Speed: 250.75 samples/sec#011loss=5.998781\u001b[0m\n",
            "\u001b[34m[06/10/2022 21:44:18 INFO 140156080805696] Epoch[17] Batch[10] avg_epoch_loss=6.004007\u001b[0m\n",
            "\u001b[34m[06/10/2022 21:44:18 INFO 140156080805696] #quality_metric: host=algo-1, epoch=17, batch=10 train loss <loss>=6.0102783203125\u001b[0m\n",
            "\u001b[34m[06/10/2022 21:44:18 INFO 140156080805696] Epoch[17] Batch [10]#011Speed: 244.13 samples/sec#011loss=6.010278\u001b[0m\n",
            "\u001b[34m[06/10/2022 21:44:18 INFO 140156080805696] processed a total of 340 examples\u001b[0m\n",
            "\u001b[34m#metrics {\"StartTime\": 1654897457.3568172, \"EndTime\": 1654897458.916791, \"Dimensions\": {\"Algorithm\": \"AWS/DeepAR\", \"Host\": \"algo-1\", \"Operation\": \"training\"}, \"Metrics\": {\"update.time\": {\"sum\": 1559.4813823699951, \"count\": 1, \"min\": 1559.4813823699951, \"max\": 1559.4813823699951}}}\u001b[0m\n",
            "\u001b[34m[06/10/2022 21:44:18 INFO 140156080805696] #throughput_metric: host=algo-1, train throughput=218.00286754284843 records/second\u001b[0m\n",
            "\u001b[34m[06/10/2022 21:44:18 INFO 140156080805696] #progress_metric: host=algo-1, completed 90.0 % of epochs\u001b[0m\n",
            "\u001b[34m[06/10/2022 21:44:18 INFO 140156080805696] #quality_metric: host=algo-1, epoch=17, train loss <loss>=6.004006905989214\u001b[0m\n",
            "\u001b[34m[06/10/2022 21:44:18 INFO 140156080805696] loss did not improve\u001b[0m\n",
            "\u001b[34m[06/10/2022 21:44:19 INFO 140156080805696] Epoch[18] Batch[0] avg_epoch_loss=5.892960\u001b[0m\n",
            "\u001b[34m[06/10/2022 21:44:19 INFO 140156080805696] #quality_metric: host=algo-1, epoch=18, batch=0 train loss <loss>=5.8929595947265625\u001b[0m\n",
            "\u001b[34m[06/10/2022 21:44:19 INFO 140156080805696] Epoch[18] Batch[5] avg_epoch_loss=6.021867\u001b[0m\n",
            "\u001b[34m[06/10/2022 21:44:19 INFO 140156080805696] #quality_metric: host=algo-1, epoch=18, batch=5 train loss <loss>=6.0218665599823\u001b[0m\n",
            "\u001b[34m[06/10/2022 21:44:19 INFO 140156080805696] Epoch[18] Batch [5]#011Speed: 250.45 samples/sec#011loss=6.021867\u001b[0m\n",
            "\u001b[34m[06/10/2022 21:44:20 INFO 140156080805696] processed a total of 295 examples\u001b[0m\n",
            "\u001b[34m#metrics {\"StartTime\": 1654897458.9168828, \"EndTime\": 1654897460.3463168, \"Dimensions\": {\"Algorithm\": \"AWS/DeepAR\", \"Host\": \"algo-1\", \"Operation\": \"training\"}, \"Metrics\": {\"update.time\": {\"sum\": 1428.978443145752, \"count\": 1, \"min\": 1428.978443145752, \"max\": 1428.978443145752}}}\u001b[0m\n",
            "\u001b[34m[06/10/2022 21:44:20 INFO 140156080805696] #throughput_metric: host=algo-1, train throughput=206.41828023092188 records/second\u001b[0m\n",
            "\u001b[34m[06/10/2022 21:44:20 INFO 140156080805696] #progress_metric: host=algo-1, completed 95.0 % of epochs\u001b[0m\n",
            "\u001b[34m[06/10/2022 21:44:20 INFO 140156080805696] #quality_metric: host=algo-1, epoch=18, train loss <loss>=5.9895079135894775\u001b[0m\n",
            "\u001b[34m[06/10/2022 21:44:20 INFO 140156080805696] loss did not improve\u001b[0m\n",
            "\u001b[34m[06/10/2022 21:44:20 INFO 140156080805696] Epoch[19] Batch[0] avg_epoch_loss=5.922745\u001b[0m\n",
            "\u001b[34m[06/10/2022 21:44:20 INFO 140156080805696] #quality_metric: host=algo-1, epoch=19, batch=0 train loss <loss>=5.922745227813721\u001b[0m\n",
            "\u001b[34m[06/10/2022 21:44:21 INFO 140156080805696] Epoch[19] Batch[5] avg_epoch_loss=5.987168\u001b[0m\n",
            "\u001b[34m[06/10/2022 21:44:21 INFO 140156080805696] #quality_metric: host=algo-1, epoch=19, batch=5 train loss <loss>=5.987168471018474\u001b[0m\n",
            "\u001b[34m[06/10/2022 21:44:21 INFO 140156080805696] Epoch[19] Batch [5]#011Speed: 268.84 samples/sec#011loss=5.987168\u001b[0m\n",
            "\u001b[34m[06/10/2022 21:44:21 INFO 140156080805696] processed a total of 303 examples\u001b[0m\n",
            "\u001b[34m#metrics {\"StartTime\": 1654897460.3464353, \"EndTime\": 1654897461.7064204, \"Dimensions\": {\"Algorithm\": \"AWS/DeepAR\", \"Host\": \"algo-1\", \"Operation\": \"training\"}, \"Metrics\": {\"update.time\": {\"sum\": 1359.4441413879395, \"count\": 1, \"min\": 1359.4441413879395, \"max\": 1359.4441413879395}}}\u001b[0m\n",
            "\u001b[34m[06/10/2022 21:44:21 INFO 140156080805696] #throughput_metric: host=algo-1, train throughput=222.85910647618013 records/second\u001b[0m\n",
            "\u001b[34m[06/10/2022 21:44:21 INFO 140156080805696] #progress_metric: host=algo-1, completed 100.0 % of epochs\u001b[0m\n",
            "\u001b[34m[06/10/2022 21:44:21 INFO 140156080805696] #quality_metric: host=algo-1, epoch=19, train loss <loss>=5.983458232879639\u001b[0m\n",
            "\u001b[34m[06/10/2022 21:44:21 INFO 140156080805696] loss did not improve\u001b[0m\n",
            "\u001b[34m[06/10/2022 21:44:21 INFO 140156080805696] Final loss: 5.934249271046031 (occurred at epoch 11)\u001b[0m\n",
            "\u001b[34m[06/10/2022 21:44:21 INFO 140156080805696] #quality_metric: host=algo-1, train final_loss <loss>=5.934249271046031\u001b[0m\n",
            "\u001b[34m[06/10/2022 21:44:21 INFO 140156080805696] Worker algo-1 finished training.\u001b[0m\n",
            "\u001b[34m[06/10/2022 21:44:21 WARNING 140156080805696] wait_for_all_workers will not sync workers since the kv store is not running distributed\u001b[0m\n",
            "\u001b[34m[06/10/2022 21:44:21 INFO 140156080805696] All workers finished. Serializing model for prediction.\u001b[0m\n",
            "\u001b[34m#metrics {\"StartTime\": 1654897461.7065141, \"EndTime\": 1654897462.1835067, \"Dimensions\": {\"Algorithm\": \"AWS/DeepAR\", \"Host\": \"algo-1\", \"Operation\": \"training\"}, \"Metrics\": {\"get_graph.time\": {\"sum\": 476.0725498199463, \"count\": 1, \"min\": 476.0725498199463, \"max\": 476.0725498199463}}}\u001b[0m\n",
            "\u001b[34m[06/10/2022 21:44:22 INFO 140156080805696] Number of GPUs being used: 0\u001b[0m\n",
            "\u001b[34m#metrics {\"StartTime\": 1654897462.183587, \"EndTime\": 1654897462.3480957, \"Dimensions\": {\"Algorithm\": \"AWS/DeepAR\", \"Host\": \"algo-1\", \"Operation\": \"training\"}, \"Metrics\": {\"finalize.time\": {\"sum\": 640.7053470611572, \"count\": 1, \"min\": 640.7053470611572, \"max\": 640.7053470611572}}}\u001b[0m\n",
            "\u001b[34m[06/10/2022 21:44:22 INFO 140156080805696] Serializing to /opt/ml/model/model_algo-1\u001b[0m\n",
            "\u001b[34m[06/10/2022 21:44:22 INFO 140156080805696] Saved checkpoint to \"/opt/ml/model/model_algo-1-0000.params\"\u001b[0m\n",
            "\u001b[34m#metrics {\"StartTime\": 1654897462.3481917, \"EndTime\": 1654897462.3721569, \"Dimensions\": {\"Algorithm\": \"AWS/DeepAR\", \"Host\": \"algo-1\", \"Operation\": \"training\"}, \"Metrics\": {\"model.serialize.time\": {\"sum\": 23.921966552734375, \"count\": 1, \"min\": 23.921966552734375, \"max\": 23.921966552734375}}}\u001b[0m\n",
            "\u001b[34m[06/10/2022 21:44:22 INFO 140156080805696] Successfully serialized the model for prediction.\u001b[0m\n",
            "\u001b[34m[06/10/2022 21:44:22 INFO 140156080805696] #memory_usage::<batchbuffer> = 6.28173828125 mb\u001b[0m\n",
            "\u001b[34m[06/10/2022 21:44:22 INFO 140156080805696] Evaluating model accuracy on testset using 100 samples\u001b[0m\n",
            "\u001b[34m#metrics {\"StartTime\": 1654897462.3722208, \"EndTime\": 1654897462.3753405, \"Dimensions\": {\"Algorithm\": \"AWS/DeepAR\", \"Host\": \"algo-1\", \"Operation\": \"training\"}, \"Metrics\": {\"model.bind.time\": {\"sum\": 0.03910064697265625, \"count\": 1, \"min\": 0.03910064697265625, \"max\": 0.03910064697265625}}}\u001b[0m\n",
            "\u001b[34m#metrics {\"StartTime\": 1654897462.375405, \"EndTime\": 1654897464.3447492, \"Dimensions\": {\"Algorithm\": \"AWS/DeepAR\", \"Host\": \"algo-1\", \"Operation\": \"training\"}, \"Metrics\": {\"model.score.time\": {\"sum\": 1969.459056854248, \"count\": 1, \"min\": 1969.459056854248, \"max\": 1969.459056854248}}}\u001b[0m\n",
            "\u001b[34m[06/10/2022 21:44:24 INFO 140156080805696] #test_score (algo-1, RMSE): 143.58204100791994\u001b[0m\n",
            "\u001b[34m[06/10/2022 21:44:24 INFO 140156080805696] #test_score (algo-1, mean_absolute_QuantileLoss): 4275.365150536431\u001b[0m\n",
            "\u001b[34m[06/10/2022 21:44:24 INFO 140156080805696] #test_score (algo-1, mean_wQuantileLoss): 0.1375752792074971\u001b[0m\n",
            "\u001b[34m[06/10/2022 21:44:24 INFO 140156080805696] #test_score (algo-1, wQuantileLoss[0.1]): 0.09579924350350452\u001b[0m\n",
            "\u001b[34m[06/10/2022 21:44:24 INFO 140156080805696] #test_score (algo-1, wQuantileLoss[0.2]): 0.13624987847097614\u001b[0m\n",
            "\u001b[34m[06/10/2022 21:44:24 INFO 140156080805696] #test_score (algo-1, wQuantileLoss[0.3]): 0.16492054194675773\u001b[0m\n",
            "\u001b[34m[06/10/2022 21:44:24 INFO 140156080805696] #test_score (algo-1, wQuantileLoss[0.4]): 0.17692700448423293\u001b[0m\n",
            "\u001b[34m[06/10/2022 21:44:24 INFO 140156080805696] #test_score (algo-1, wQuantileLoss[0.5]): 0.17368750662465998\u001b[0m\n",
            "\u001b[34m[06/10/2022 21:44:24 INFO 140156080805696] #test_score (algo-1, wQuantileLoss[0.6]): 0.1647238622145516\u001b[0m\n",
            "\u001b[34m[06/10/2022 21:44:24 INFO 140156080805696] #test_score (algo-1, wQuantileLoss[0.7]): 0.14346381144856257\u001b[0m\n",
            "\u001b[34m[06/10/2022 21:44:24 INFO 140156080805696] #test_score (algo-1, wQuantileLoss[0.8]): 0.11245960145652802\u001b[0m\n",
            "\u001b[34m[06/10/2022 21:44:24 INFO 140156080805696] #test_score (algo-1, wQuantileLoss[0.9]): 0.0699460627177005\u001b[0m\n",
            "\u001b[34m[06/10/2022 21:44:24 INFO 140156080805696] #quality_metric: host=algo-1, test RMSE <loss>=143.58204100791994\u001b[0m\n",
            "\u001b[34m[06/10/2022 21:44:24 INFO 140156080805696] #quality_metric: host=algo-1, test mean_wQuantileLoss <loss>=0.1375752792074971\u001b[0m\n",
            "\u001b[34m#metrics {\"StartTime\": 1654897464.3448336, \"EndTime\": 1654897464.3818748, \"Dimensions\": {\"Algorithm\": \"AWS/DeepAR\", \"Host\": \"algo-1\", \"Operation\": \"training\"}, \"Metrics\": {\"setuptime\": {\"sum\": 8.974075317382812, \"count\": 1, \"min\": 8.974075317382812, \"max\": 8.974075317382812}, \"totaltime\": {\"sum\": 34348.51360321045, \"count\": 1, \"min\": 34348.51360321045, \"max\": 34348.51360321045}}}\u001b[0m\n",
            "\n",
            "2022-06-10 21:44:40 Uploading - Uploading generated training model\n",
            "2022-06-10 21:44:40 Completed - Training job completed\n",
            "Training seconds: 133\n",
            "Billable seconds: 133\n",
            "CPU times: user 2.24 s, sys: 251 ms, total: 2.49 s\n",
            "Wall time: 4min 17s\n"
          ]
        }
      ]
    },
    {
      "cell_type": "code",
      "source": [
        "estimator.model_data"
      ],
      "metadata": {
        "id": "50UGeP4-j8wk",
        "outputId": "a422698f-adb1-4d3a-b631-bf2a9b0727a8",
        "colab": {
          "base_uri": "https://localhost:8080/",
          "height": 53
        }
      },
      "execution_count": 63,
      "outputs": [
        {
          "output_type": "execute_result",
          "data": {
            "text/plain": [
              "'s3://sagemaker-us-east-1-390354360073/sagemaker-exp123/output/forecasting-deepar-2022-06-10-21-40-33-509/output/model.tar.gz'"
            ],
            "application/vnd.google.colaboratory.intrinsic+json": {
              "type": "string"
            }
          },
          "metadata": {},
          "execution_count": 63
        }
      ]
    },
    {
      "cell_type": "code",
      "source": [
        "predictor = estimator.deploy(\n",
        "    initial_instance_count=1,\n",
        "    instance_type=\"ml.m4.xlarge\"\n",
        ")"
      ],
      "metadata": {
        "id": "h7wlv-Wzj92p",
        "outputId": "7099302a-8294-419f-dc60-b2b695ec21ef",
        "colab": {
          "base_uri": "https://localhost:8080/"
        }
      },
      "execution_count": 67,
      "outputs": [
        {
          "output_type": "stream",
          "name": "stdout",
          "text": [
            "--------------!"
          ]
        }
      ]
    },
    {
      "cell_type": "code",
      "source": [
        "endpoint_name = predictor.endpoint_name\n",
        "endpoint_name"
      ],
      "metadata": {
        "id": "EezEGjX_kCpZ",
        "outputId": "cfa209ed-88a9-45ff-83f5-4f1f334432f6",
        "colab": {
          "base_uri": "https://localhost:8080/",
          "height": 35
        }
      },
      "execution_count": 68,
      "outputs": [
        {
          "output_type": "execute_result",
          "data": {
            "text/plain": [
              "'forecasting-deepar-2022-06-10-21-45-21-269'"
            ],
            "application/vnd.google.colaboratory.intrinsic+json": {
              "type": "string"
            }
          },
          "metadata": {},
          "execution_count": 68
        }
      ]
    },
    {
      "cell_type": "markdown",
      "source": [
        "## Performing Probabilistic Forecasting with a Deployed DeepAR Model"
      ],
      "metadata": {
        "id": "h88XbMT2lDF8"
      }
    },
    {
      "cell_type": "code",
      "source": [
        "Predictor = sagemaker.predictor.Predictor\n",
        "predictor = Predictor(\n",
        "    endpoint_name=endpoint_name, \n",
        "    sagemaker_session=sess\n",
        ")\n",
        "\n",
        "predictor.serializer = sagemaker.serializers.JSONSerializer()\n",
        "\n",
        "quantiles=[\"0.1\", \"0.5\", \"0.9\"]\n",
        "\n",
        "configuration = {\n",
        "    \"num_samples\": 100,\n",
        "    \"output_types\": [\"quantiles\"],\n",
        "    \"quantiles\": quantiles,\n",
        "}\n",
        "\n",
        "def series_to_object(data):\n",
        "    return {\n",
        "        \"start\": str(data.index[0]), \n",
        "        \"target\": list(data)\n",
        "    }\n",
        "\n",
        "instances = [series_to_object(training_dataset)]\n",
        "\n",
        "http_request_data = {\n",
        "    \"instances\": instances, \n",
        "    \"configuration\": configuration\n",
        "}\n",
        "\n",
        "response = predictor.predict(http_request_data)\n",
        "response"
      ],
      "metadata": {
        "id": "x6N3gVAXlzPt",
        "outputId": "37d6840c-013e-4400-e979-b63e7c95b86a",
        "colab": {
          "base_uri": "https://localhost:8080/"
        }
      },
      "execution_count": 69,
      "outputs": [
        {
          "output_type": "execute_result",
          "data": {
            "text/plain": [
              "b'{\"predictions\":[{\"quantiles\":{\"0.1\":[-69.0831298828,-123.875793457,-203.7279205322,-171.6816864014,-77.789276123,-8.4257354736,-69.1874237061,-54.0051422119,-61.7442207336,-32.5810241699,-26.3356170654,26.680809021,70.9088973999,126.3773727417,111.2920227051,178.114074707,223.0880126953,246.9423828125,241.1717987061,321.7041625977,208.0489807129,210.5973815918,222.8189697266,190.71144104,310.2881774902,351.2255859375,389.5210571289,410.5618286133,446.3055419922,482.9330444336,561.4221191406,582.6745605469,612.0657348633,637.6546630859,664.8170776367,789.6198730469,870.8226318359,976.2741088867,1055.0845947266,1108.326171875,1130.7973632812,1219.6627197266,1250.4854736328,1316.017578125,1455.7614746094,1515.923828125,1583.8618164062,1723.8688964844,1586.4143066406,814.4224243164],\"0.5\":[387.1301879883,105.7305679321,-36.6583480835,-39.093044281,18.6167945862,71.1249465942,41.2827415466,44.5873031616,55.5188941956,86.818687439,82.8901748657,140.1281738281,208.9259338379,246.8998260498,253.8522491455,284.7217712402,361.1165466309,376.4503479004,376.3072509766,429.0825195312,309.5305480957,323.5604858398,316.5903930664,290.4272460938,395.4696350098,456.320526123,484.517364502,502.0767211914,540.9677124023,582.5341186523,650.6499633789,661.7329711914,702.2021484375,723.0149536133,766.2778320312,886.8100585938,980.4116210938,1079.48828125,1162.5480957031,1230.8151855469,1252.9752197266,1337.1655273438,1360.87109375,1414.0578613281,1518.0092773438,1579.7863769531,1681.6134033203,1862.3857421875,1910.5924072266,1409.7962646484],\"0.9\":[807.1434326172,310.9521789551,154.8977050781,88.5078277588,138.5264434814,169.2339782715,137.6289978027,143.2950744629,165.8319091797,198.0581665039,247.5764465332,259.7872314453,309.3499145508,376.7064208984,393.9802246094,429.9525146484,465.9178771973,479.7635192871,534.044128418,565.3778686523,434.4587097168,434.006652832,397.4281311035,372.3388366699,518.7781982422,569.3381958008,566.4219360352,576.0485229492,635.1390380859,672.026184082,753.6496582031,753.6967773438,791.5090942383,822.5809936523,885.639831543,968.8135375977,1105.0258789062,1192.3946533203,1264.1148681641,1319.0532226562,1341.9912109375,1416.4270019531,1439.6889648438,1468.91796875,1628.1517333984,1658.4460449219,1781.6228027344,2008.4644775391,2272.7211914062,1865.0594482422]}}]}'"
            ]
          },
          "metadata": {},
          "execution_count": 69
        }
      ]
    },
    {
      "cell_type": "code",
      "source": [
        "response_data = json.loads(response)\n",
        "\n",
        "single_result = response_data['predictions'][0]\n",
        "\n",
        "prediction_time = training_dataset.index[-1] + pd.Timedelta(1, unit=freq)\n",
        "prediction_time"
      ],
      "metadata": {
        "id": "Xl928IQSmDYx",
        "outputId": "968dbdb7-95f0-4e76-e259-f797e388fbb0",
        "colab": {
          "base_uri": "https://localhost:8080/"
        }
      },
      "execution_count": 70,
      "outputs": [
        {
          "output_type": "execute_result",
          "data": {
            "text/plain": [
              "Timestamp('2020-01-19 18:00:00', freq='H')"
            ]
          },
          "metadata": {},
          "execution_count": 70
        }
      ]
    },
    {
      "cell_type": "code",
      "source": [
        "prediction_index = pd.date_range(\n",
        "    start=prediction_time, \n",
        "    freq=freq, \n",
        "    periods=prediction_length\n",
        ")\n",
        "\n",
        "prediction_index"
      ],
      "metadata": {
        "id": "PXdlVOwsmGqf",
        "outputId": "ac344f1c-5477-4a1d-8a72-f75cbd21581d",
        "colab": {
          "base_uri": "https://localhost:8080/"
        }
      },
      "execution_count": 71,
      "outputs": [
        {
          "output_type": "execute_result",
          "data": {
            "text/plain": [
              "DatetimeIndex(['2020-01-19 18:00:00', '2020-01-19 19:00:00',\n",
              "               '2020-01-19 20:00:00', '2020-01-19 21:00:00',\n",
              "               '2020-01-19 22:00:00', '2020-01-19 23:00:00',\n",
              "               '2020-01-20 00:00:00', '2020-01-20 01:00:00',\n",
              "               '2020-01-20 02:00:00', '2020-01-20 03:00:00',\n",
              "               '2020-01-20 04:00:00', '2020-01-20 05:00:00',\n",
              "               '2020-01-20 06:00:00', '2020-01-20 07:00:00',\n",
              "               '2020-01-20 08:00:00', '2020-01-20 09:00:00',\n",
              "               '2020-01-20 10:00:00', '2020-01-20 11:00:00',\n",
              "               '2020-01-20 12:00:00', '2020-01-20 13:00:00',\n",
              "               '2020-01-20 14:00:00', '2020-01-20 15:00:00',\n",
              "               '2020-01-20 16:00:00', '2020-01-20 17:00:00',\n",
              "               '2020-01-20 18:00:00', '2020-01-20 19:00:00',\n",
              "               '2020-01-20 20:00:00', '2020-01-20 21:00:00',\n",
              "               '2020-01-20 22:00:00', '2020-01-20 23:00:00',\n",
              "               '2020-01-21 00:00:00', '2020-01-21 01:00:00',\n",
              "               '2020-01-21 02:00:00', '2020-01-21 03:00:00',\n",
              "               '2020-01-21 04:00:00', '2020-01-21 05:00:00',\n",
              "               '2020-01-21 06:00:00', '2020-01-21 07:00:00',\n",
              "               '2020-01-21 08:00:00', '2020-01-21 09:00:00',\n",
              "               '2020-01-21 10:00:00', '2020-01-21 11:00:00',\n",
              "               '2020-01-21 12:00:00', '2020-01-21 13:00:00',\n",
              "               '2020-01-21 14:00:00', '2020-01-21 15:00:00',\n",
              "               '2020-01-21 16:00:00', '2020-01-21 17:00:00',\n",
              "               '2020-01-21 18:00:00', '2020-01-21 19:00:00'],\n",
              "              dtype='datetime64[ns]', freq='H')"
            ]
          },
          "metadata": {},
          "execution_count": 71
        }
      ]
    },
    {
      "cell_type": "code",
      "source": [
        "output = pd.DataFrame(\n",
        "    data=single_result['quantiles'], \n",
        "    index=prediction_index\n",
        ")\n",
        "\n",
        "output"
      ],
      "metadata": {
        "id": "KBnYoU3DmNr4",
        "outputId": "82fcfa29-2d88-4ed7-ad09-1884a641b732",
        "colab": {
          "base_uri": "https://localhost:8080/",
          "height": 1000
        }
      },
      "execution_count": 72,
      "outputs": [
        {
          "output_type": "execute_result",
          "data": {
            "text/plain": [
              "                             0.1          0.5          0.9\n",
              "2020-01-19 18:00:00   -69.083130   387.130188   807.143433\n",
              "2020-01-19 19:00:00  -123.875793   105.730568   310.952179\n",
              "2020-01-19 20:00:00  -203.727921   -36.658348   154.897705\n",
              "2020-01-19 21:00:00  -171.681686   -39.093044    88.507828\n",
              "2020-01-19 22:00:00   -77.789276    18.616795   138.526443\n",
              "2020-01-19 23:00:00    -8.425735    71.124947   169.233978\n",
              "2020-01-20 00:00:00   -69.187424    41.282742   137.628998\n",
              "2020-01-20 01:00:00   -54.005142    44.587303   143.295074\n",
              "2020-01-20 02:00:00   -61.744221    55.518894   165.831909\n",
              "2020-01-20 03:00:00   -32.581024    86.818687   198.058167\n",
              "2020-01-20 04:00:00   -26.335617    82.890175   247.576447\n",
              "2020-01-20 05:00:00    26.680809   140.128174   259.787231\n",
              "2020-01-20 06:00:00    70.908897   208.925934   309.349915\n",
              "2020-01-20 07:00:00   126.377373   246.899826   376.706421\n",
              "2020-01-20 08:00:00   111.292023   253.852249   393.980225\n",
              "2020-01-20 09:00:00   178.114075   284.721771   429.952515\n",
              "2020-01-20 10:00:00   223.088013   361.116547   465.917877\n",
              "2020-01-20 11:00:00   246.942383   376.450348   479.763519\n",
              "2020-01-20 12:00:00   241.171799   376.307251   534.044128\n",
              "2020-01-20 13:00:00   321.704163   429.082520   565.377869\n",
              "2020-01-20 14:00:00   208.048981   309.530548   434.458710\n",
              "2020-01-20 15:00:00   210.597382   323.560486   434.006653\n",
              "2020-01-20 16:00:00   222.818970   316.590393   397.428131\n",
              "2020-01-20 17:00:00   190.711441   290.427246   372.338837\n",
              "2020-01-20 18:00:00   310.288177   395.469635   518.778198\n",
              "2020-01-20 19:00:00   351.225586   456.320526   569.338196\n",
              "2020-01-20 20:00:00   389.521057   484.517365   566.421936\n",
              "2020-01-20 21:00:00   410.561829   502.076721   576.048523\n",
              "2020-01-20 22:00:00   446.305542   540.967712   635.139038\n",
              "2020-01-20 23:00:00   482.933044   582.534119   672.026184\n",
              "2020-01-21 00:00:00   561.422119   650.649963   753.649658\n",
              "2020-01-21 01:00:00   582.674561   661.732971   753.696777\n",
              "2020-01-21 02:00:00   612.065735   702.202148   791.509094\n",
              "2020-01-21 03:00:00   637.654663   723.014954   822.580994\n",
              "2020-01-21 04:00:00   664.817078   766.277832   885.639832\n",
              "2020-01-21 05:00:00   789.619873   886.810059   968.813538\n",
              "2020-01-21 06:00:00   870.822632   980.411621  1105.025879\n",
              "2020-01-21 07:00:00   976.274109  1079.488281  1192.394653\n",
              "2020-01-21 08:00:00  1055.084595  1162.548096  1264.114868\n",
              "2020-01-21 09:00:00  1108.326172  1230.815186  1319.053223\n",
              "2020-01-21 10:00:00  1130.797363  1252.975220  1341.991211\n",
              "2020-01-21 11:00:00  1219.662720  1337.165527  1416.427002\n",
              "2020-01-21 12:00:00  1250.485474  1360.871094  1439.688965\n",
              "2020-01-21 13:00:00  1316.017578  1414.057861  1468.917969\n",
              "2020-01-21 14:00:00  1455.761475  1518.009277  1628.151733\n",
              "2020-01-21 15:00:00  1515.923828  1579.786377  1658.446045\n",
              "2020-01-21 16:00:00  1583.861816  1681.613403  1781.622803\n",
              "2020-01-21 17:00:00  1723.868896  1862.385742  2008.464478\n",
              "2020-01-21 18:00:00  1586.414307  1910.592407  2272.721191\n",
              "2020-01-21 19:00:00   814.422424  1409.796265  1865.059448"
            ],
            "text/html": [
              "\n",
              "  <div id=\"df-dc5431e7-5e08-4b74-b1ce-1098cb05351e\">\n",
              "    <div class=\"colab-df-container\">\n",
              "      <div>\n",
              "<style scoped>\n",
              "    .dataframe tbody tr th:only-of-type {\n",
              "        vertical-align: middle;\n",
              "    }\n",
              "\n",
              "    .dataframe tbody tr th {\n",
              "        vertical-align: top;\n",
              "    }\n",
              "\n",
              "    .dataframe thead th {\n",
              "        text-align: right;\n",
              "    }\n",
              "</style>\n",
              "<table border=\"1\" class=\"dataframe\">\n",
              "  <thead>\n",
              "    <tr style=\"text-align: right;\">\n",
              "      <th></th>\n",
              "      <th>0.1</th>\n",
              "      <th>0.5</th>\n",
              "      <th>0.9</th>\n",
              "    </tr>\n",
              "  </thead>\n",
              "  <tbody>\n",
              "    <tr>\n",
              "      <th>2020-01-19 18:00:00</th>\n",
              "      <td>-69.083130</td>\n",
              "      <td>387.130188</td>\n",
              "      <td>807.143433</td>\n",
              "    </tr>\n",
              "    <tr>\n",
              "      <th>2020-01-19 19:00:00</th>\n",
              "      <td>-123.875793</td>\n",
              "      <td>105.730568</td>\n",
              "      <td>310.952179</td>\n",
              "    </tr>\n",
              "    <tr>\n",
              "      <th>2020-01-19 20:00:00</th>\n",
              "      <td>-203.727921</td>\n",
              "      <td>-36.658348</td>\n",
              "      <td>154.897705</td>\n",
              "    </tr>\n",
              "    <tr>\n",
              "      <th>2020-01-19 21:00:00</th>\n",
              "      <td>-171.681686</td>\n",
              "      <td>-39.093044</td>\n",
              "      <td>88.507828</td>\n",
              "    </tr>\n",
              "    <tr>\n",
              "      <th>2020-01-19 22:00:00</th>\n",
              "      <td>-77.789276</td>\n",
              "      <td>18.616795</td>\n",
              "      <td>138.526443</td>\n",
              "    </tr>\n",
              "    <tr>\n",
              "      <th>2020-01-19 23:00:00</th>\n",
              "      <td>-8.425735</td>\n",
              "      <td>71.124947</td>\n",
              "      <td>169.233978</td>\n",
              "    </tr>\n",
              "    <tr>\n",
              "      <th>2020-01-20 00:00:00</th>\n",
              "      <td>-69.187424</td>\n",
              "      <td>41.282742</td>\n",
              "      <td>137.628998</td>\n",
              "    </tr>\n",
              "    <tr>\n",
              "      <th>2020-01-20 01:00:00</th>\n",
              "      <td>-54.005142</td>\n",
              "      <td>44.587303</td>\n",
              "      <td>143.295074</td>\n",
              "    </tr>\n",
              "    <tr>\n",
              "      <th>2020-01-20 02:00:00</th>\n",
              "      <td>-61.744221</td>\n",
              "      <td>55.518894</td>\n",
              "      <td>165.831909</td>\n",
              "    </tr>\n",
              "    <tr>\n",
              "      <th>2020-01-20 03:00:00</th>\n",
              "      <td>-32.581024</td>\n",
              "      <td>86.818687</td>\n",
              "      <td>198.058167</td>\n",
              "    </tr>\n",
              "    <tr>\n",
              "      <th>2020-01-20 04:00:00</th>\n",
              "      <td>-26.335617</td>\n",
              "      <td>82.890175</td>\n",
              "      <td>247.576447</td>\n",
              "    </tr>\n",
              "    <tr>\n",
              "      <th>2020-01-20 05:00:00</th>\n",
              "      <td>26.680809</td>\n",
              "      <td>140.128174</td>\n",
              "      <td>259.787231</td>\n",
              "    </tr>\n",
              "    <tr>\n",
              "      <th>2020-01-20 06:00:00</th>\n",
              "      <td>70.908897</td>\n",
              "      <td>208.925934</td>\n",
              "      <td>309.349915</td>\n",
              "    </tr>\n",
              "    <tr>\n",
              "      <th>2020-01-20 07:00:00</th>\n",
              "      <td>126.377373</td>\n",
              "      <td>246.899826</td>\n",
              "      <td>376.706421</td>\n",
              "    </tr>\n",
              "    <tr>\n",
              "      <th>2020-01-20 08:00:00</th>\n",
              "      <td>111.292023</td>\n",
              "      <td>253.852249</td>\n",
              "      <td>393.980225</td>\n",
              "    </tr>\n",
              "    <tr>\n",
              "      <th>2020-01-20 09:00:00</th>\n",
              "      <td>178.114075</td>\n",
              "      <td>284.721771</td>\n",
              "      <td>429.952515</td>\n",
              "    </tr>\n",
              "    <tr>\n",
              "      <th>2020-01-20 10:00:00</th>\n",
              "      <td>223.088013</td>\n",
              "      <td>361.116547</td>\n",
              "      <td>465.917877</td>\n",
              "    </tr>\n",
              "    <tr>\n",
              "      <th>2020-01-20 11:00:00</th>\n",
              "      <td>246.942383</td>\n",
              "      <td>376.450348</td>\n",
              "      <td>479.763519</td>\n",
              "    </tr>\n",
              "    <tr>\n",
              "      <th>2020-01-20 12:00:00</th>\n",
              "      <td>241.171799</td>\n",
              "      <td>376.307251</td>\n",
              "      <td>534.044128</td>\n",
              "    </tr>\n",
              "    <tr>\n",
              "      <th>2020-01-20 13:00:00</th>\n",
              "      <td>321.704163</td>\n",
              "      <td>429.082520</td>\n",
              "      <td>565.377869</td>\n",
              "    </tr>\n",
              "    <tr>\n",
              "      <th>2020-01-20 14:00:00</th>\n",
              "      <td>208.048981</td>\n",
              "      <td>309.530548</td>\n",
              "      <td>434.458710</td>\n",
              "    </tr>\n",
              "    <tr>\n",
              "      <th>2020-01-20 15:00:00</th>\n",
              "      <td>210.597382</td>\n",
              "      <td>323.560486</td>\n",
              "      <td>434.006653</td>\n",
              "    </tr>\n",
              "    <tr>\n",
              "      <th>2020-01-20 16:00:00</th>\n",
              "      <td>222.818970</td>\n",
              "      <td>316.590393</td>\n",
              "      <td>397.428131</td>\n",
              "    </tr>\n",
              "    <tr>\n",
              "      <th>2020-01-20 17:00:00</th>\n",
              "      <td>190.711441</td>\n",
              "      <td>290.427246</td>\n",
              "      <td>372.338837</td>\n",
              "    </tr>\n",
              "    <tr>\n",
              "      <th>2020-01-20 18:00:00</th>\n",
              "      <td>310.288177</td>\n",
              "      <td>395.469635</td>\n",
              "      <td>518.778198</td>\n",
              "    </tr>\n",
              "    <tr>\n",
              "      <th>2020-01-20 19:00:00</th>\n",
              "      <td>351.225586</td>\n",
              "      <td>456.320526</td>\n",
              "      <td>569.338196</td>\n",
              "    </tr>\n",
              "    <tr>\n",
              "      <th>2020-01-20 20:00:00</th>\n",
              "      <td>389.521057</td>\n",
              "      <td>484.517365</td>\n",
              "      <td>566.421936</td>\n",
              "    </tr>\n",
              "    <tr>\n",
              "      <th>2020-01-20 21:00:00</th>\n",
              "      <td>410.561829</td>\n",
              "      <td>502.076721</td>\n",
              "      <td>576.048523</td>\n",
              "    </tr>\n",
              "    <tr>\n",
              "      <th>2020-01-20 22:00:00</th>\n",
              "      <td>446.305542</td>\n",
              "      <td>540.967712</td>\n",
              "      <td>635.139038</td>\n",
              "    </tr>\n",
              "    <tr>\n",
              "      <th>2020-01-20 23:00:00</th>\n",
              "      <td>482.933044</td>\n",
              "      <td>582.534119</td>\n",
              "      <td>672.026184</td>\n",
              "    </tr>\n",
              "    <tr>\n",
              "      <th>2020-01-21 00:00:00</th>\n",
              "      <td>561.422119</td>\n",
              "      <td>650.649963</td>\n",
              "      <td>753.649658</td>\n",
              "    </tr>\n",
              "    <tr>\n",
              "      <th>2020-01-21 01:00:00</th>\n",
              "      <td>582.674561</td>\n",
              "      <td>661.732971</td>\n",
              "      <td>753.696777</td>\n",
              "    </tr>\n",
              "    <tr>\n",
              "      <th>2020-01-21 02:00:00</th>\n",
              "      <td>612.065735</td>\n",
              "      <td>702.202148</td>\n",
              "      <td>791.509094</td>\n",
              "    </tr>\n",
              "    <tr>\n",
              "      <th>2020-01-21 03:00:00</th>\n",
              "      <td>637.654663</td>\n",
              "      <td>723.014954</td>\n",
              "      <td>822.580994</td>\n",
              "    </tr>\n",
              "    <tr>\n",
              "      <th>2020-01-21 04:00:00</th>\n",
              "      <td>664.817078</td>\n",
              "      <td>766.277832</td>\n",
              "      <td>885.639832</td>\n",
              "    </tr>\n",
              "    <tr>\n",
              "      <th>2020-01-21 05:00:00</th>\n",
              "      <td>789.619873</td>\n",
              "      <td>886.810059</td>\n",
              "      <td>968.813538</td>\n",
              "    </tr>\n",
              "    <tr>\n",
              "      <th>2020-01-21 06:00:00</th>\n",
              "      <td>870.822632</td>\n",
              "      <td>980.411621</td>\n",
              "      <td>1105.025879</td>\n",
              "    </tr>\n",
              "    <tr>\n",
              "      <th>2020-01-21 07:00:00</th>\n",
              "      <td>976.274109</td>\n",
              "      <td>1079.488281</td>\n",
              "      <td>1192.394653</td>\n",
              "    </tr>\n",
              "    <tr>\n",
              "      <th>2020-01-21 08:00:00</th>\n",
              "      <td>1055.084595</td>\n",
              "      <td>1162.548096</td>\n",
              "      <td>1264.114868</td>\n",
              "    </tr>\n",
              "    <tr>\n",
              "      <th>2020-01-21 09:00:00</th>\n",
              "      <td>1108.326172</td>\n",
              "      <td>1230.815186</td>\n",
              "      <td>1319.053223</td>\n",
              "    </tr>\n",
              "    <tr>\n",
              "      <th>2020-01-21 10:00:00</th>\n",
              "      <td>1130.797363</td>\n",
              "      <td>1252.975220</td>\n",
              "      <td>1341.991211</td>\n",
              "    </tr>\n",
              "    <tr>\n",
              "      <th>2020-01-21 11:00:00</th>\n",
              "      <td>1219.662720</td>\n",
              "      <td>1337.165527</td>\n",
              "      <td>1416.427002</td>\n",
              "    </tr>\n",
              "    <tr>\n",
              "      <th>2020-01-21 12:00:00</th>\n",
              "      <td>1250.485474</td>\n",
              "      <td>1360.871094</td>\n",
              "      <td>1439.688965</td>\n",
              "    </tr>\n",
              "    <tr>\n",
              "      <th>2020-01-21 13:00:00</th>\n",
              "      <td>1316.017578</td>\n",
              "      <td>1414.057861</td>\n",
              "      <td>1468.917969</td>\n",
              "    </tr>\n",
              "    <tr>\n",
              "      <th>2020-01-21 14:00:00</th>\n",
              "      <td>1455.761475</td>\n",
              "      <td>1518.009277</td>\n",
              "      <td>1628.151733</td>\n",
              "    </tr>\n",
              "    <tr>\n",
              "      <th>2020-01-21 15:00:00</th>\n",
              "      <td>1515.923828</td>\n",
              "      <td>1579.786377</td>\n",
              "      <td>1658.446045</td>\n",
              "    </tr>\n",
              "    <tr>\n",
              "      <th>2020-01-21 16:00:00</th>\n",
              "      <td>1583.861816</td>\n",
              "      <td>1681.613403</td>\n",
              "      <td>1781.622803</td>\n",
              "    </tr>\n",
              "    <tr>\n",
              "      <th>2020-01-21 17:00:00</th>\n",
              "      <td>1723.868896</td>\n",
              "      <td>1862.385742</td>\n",
              "      <td>2008.464478</td>\n",
              "    </tr>\n",
              "    <tr>\n",
              "      <th>2020-01-21 18:00:00</th>\n",
              "      <td>1586.414307</td>\n",
              "      <td>1910.592407</td>\n",
              "      <td>2272.721191</td>\n",
              "    </tr>\n",
              "    <tr>\n",
              "      <th>2020-01-21 19:00:00</th>\n",
              "      <td>814.422424</td>\n",
              "      <td>1409.796265</td>\n",
              "      <td>1865.059448</td>\n",
              "    </tr>\n",
              "  </tbody>\n",
              "</table>\n",
              "</div>\n",
              "      <button class=\"colab-df-convert\" onclick=\"convertToInteractive('df-dc5431e7-5e08-4b74-b1ce-1098cb05351e')\"\n",
              "              title=\"Convert this dataframe to an interactive table.\"\n",
              "              style=\"display:none;\">\n",
              "        \n",
              "  <svg xmlns=\"http://www.w3.org/2000/svg\" height=\"24px\"viewBox=\"0 0 24 24\"\n",
              "       width=\"24px\">\n",
              "    <path d=\"M0 0h24v24H0V0z\" fill=\"none\"/>\n",
              "    <path d=\"M18.56 5.44l.94 2.06.94-2.06 2.06-.94-2.06-.94-.94-2.06-.94 2.06-2.06.94zm-11 1L8.5 8.5l.94-2.06 2.06-.94-2.06-.94L8.5 2.5l-.94 2.06-2.06.94zm10 10l.94 2.06.94-2.06 2.06-.94-2.06-.94-.94-2.06-.94 2.06-2.06.94z\"/><path d=\"M17.41 7.96l-1.37-1.37c-.4-.4-.92-.59-1.43-.59-.52 0-1.04.2-1.43.59L10.3 9.45l-7.72 7.72c-.78.78-.78 2.05 0 2.83L4 21.41c.39.39.9.59 1.41.59.51 0 1.02-.2 1.41-.59l7.78-7.78 2.81-2.81c.8-.78.8-2.07 0-2.86zM5.41 20L4 18.59l7.72-7.72 1.47 1.35L5.41 20z\"/>\n",
              "  </svg>\n",
              "      </button>\n",
              "      \n",
              "  <style>\n",
              "    .colab-df-container {\n",
              "      display:flex;\n",
              "      flex-wrap:wrap;\n",
              "      gap: 12px;\n",
              "    }\n",
              "\n",
              "    .colab-df-convert {\n",
              "      background-color: #E8F0FE;\n",
              "      border: none;\n",
              "      border-radius: 50%;\n",
              "      cursor: pointer;\n",
              "      display: none;\n",
              "      fill: #1967D2;\n",
              "      height: 32px;\n",
              "      padding: 0 0 0 0;\n",
              "      width: 32px;\n",
              "    }\n",
              "\n",
              "    .colab-df-convert:hover {\n",
              "      background-color: #E2EBFA;\n",
              "      box-shadow: 0px 1px 2px rgba(60, 64, 67, 0.3), 0px 1px 3px 1px rgba(60, 64, 67, 0.15);\n",
              "      fill: #174EA6;\n",
              "    }\n",
              "\n",
              "    [theme=dark] .colab-df-convert {\n",
              "      background-color: #3B4455;\n",
              "      fill: #D2E3FC;\n",
              "    }\n",
              "\n",
              "    [theme=dark] .colab-df-convert:hover {\n",
              "      background-color: #434B5C;\n",
              "      box-shadow: 0px 1px 3px 1px rgba(0, 0, 0, 0.15);\n",
              "      filter: drop-shadow(0px 1px 2px rgba(0, 0, 0, 0.3));\n",
              "      fill: #FFFFFF;\n",
              "    }\n",
              "  </style>\n",
              "\n",
              "      <script>\n",
              "        const buttonEl =\n",
              "          document.querySelector('#df-dc5431e7-5e08-4b74-b1ce-1098cb05351e button.colab-df-convert');\n",
              "        buttonEl.style.display =\n",
              "          google.colab.kernel.accessAllowed ? 'block' : 'none';\n",
              "\n",
              "        async function convertToInteractive(key) {\n",
              "          const element = document.querySelector('#df-dc5431e7-5e08-4b74-b1ce-1098cb05351e');\n",
              "          const dataTable =\n",
              "            await google.colab.kernel.invokeFunction('convertToInteractive',\n",
              "                                                     [key], {});\n",
              "          if (!dataTable) return;\n",
              "\n",
              "          const docLinkHtml = 'Like what you see? Visit the ' +\n",
              "            '<a target=\"_blank\" href=https://colab.research.google.com/notebooks/data_table.ipynb>data table notebook</a>'\n",
              "            + ' to learn more about interactive tables.';\n",
              "          element.innerHTML = '';\n",
              "          dataTable['output_type'] = 'display_data';\n",
              "          await google.colab.output.renderOutput(dataTable, element);\n",
              "          const docLink = document.createElement('div');\n",
              "          docLink.innerHTML = docLinkHtml;\n",
              "          element.appendChild(docLink);\n",
              "        }\n",
              "      </script>\n",
              "    </div>\n",
              "  </div>\n",
              "  "
            ]
          },
          "metadata": {},
          "execution_count": 72
        }
      ]
    },
    {
      "cell_type": "code",
      "source": [
        "plt.figure(figsize=(14,6))\n",
        "plt.plot(target_dataset.index, \n",
        "         target_dataset, \n",
        "         label=\"target\")\n",
        "plt.plot(training_dataset.index, \n",
        "         training_dataset, \n",
        "         label=\"training\")\n",
        "plt.grid(True)\n",
        "plt.xlabel(\"DATE\")\n",
        "plt.ylabel(\"VALUE\")    \n",
        "\n",
        "p10 = output[\"0.1\"]\n",
        "p90 = output[\"0.9\"]\n",
        "plt.fill_between(\n",
        "    p10.index, \n",
        "    p10, \n",
        "    p90, \n",
        "    color=\"y\", \n",
        "    alpha=0.5, \n",
        "    label=\"80% confidence interval\"\n",
        ")\n",
        "\n",
        "plt.plot(output[\"0.5\"].index, \n",
        "         output[\"0.5\"], \n",
        "         label=\"prediction median\")\n",
        "\n",
        "plt.legend()\n",
        "plt.show()"
      ],
      "metadata": {
        "id": "ahb7LdrKmQbj",
        "outputId": "613a2c6b-0436-4e74-b4a7-7d947a516d83",
        "colab": {
          "base_uri": "https://localhost:8080/",
          "height": 388
        }
      },
      "execution_count": 73,
      "outputs": [
        {
          "output_type": "display_data",
          "data": {
            "text/plain": [
              "<Figure size 1008x432 with 1 Axes>"
            ],
            "image/png": "[encoded data removed]"
          },
          "metadata": {
            "needs_background": "light"
          }
        }
      ]
    },
    {
      "cell_type": "code",
      "source": [
        "predictor.delete_endpoint()"
      ],
      "metadata": {
        "id": "wvT71LDlmSjY"
      },
      "execution_count": 74,
      "outputs": []
    },
    {
      "cell_type": "markdown",
      "source": [
        "![](https://github.com/sparsh-ai/notebooks/raw/main/img/rec1-timeseries.gif)"
      ],
      "metadata": {
        "id": "1tPtBm46nv3C"
      }
    },
    {
      "cell_type": "markdown",
      "source": [
        "That's all.\n",
        "\n",
        "Thanks for your attention."
      ],
      "metadata": {
        "id": "GE-jnioDosyW"
      }
    }
  ]
}