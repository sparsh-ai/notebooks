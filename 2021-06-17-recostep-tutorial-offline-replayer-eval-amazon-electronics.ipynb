{
  "nbformat": 4,
  "nbformat_minor": 0,
  "metadata": {
    "colab": {
      "name": "2021-06-17-recostep-tutorial-offline-replayer-eval-amazon-electronics.ipynb",
      "provenance": [],
      "collapsed_sections": [],
      "toc_visible": true,
      "mount_file_id": "1uiFcADWw68y3diPq2QjNPUavUvXIR9A-",
      "authorship_tag": "ABX9TyP53mZci45axk0MN7CsyyBv"
    },
    "kernelspec": {
      "name": "python3",
      "display_name": "Python 3"
    },
    "language_info": {
      "name": "python"
    }
  },
  "cells": [
    {
      "cell_type": "markdown",
      "metadata": {
        "id": "3HeVoTaYAS4t"
      },
      "source": [
        "# Offline Replayer Evaluation III - Amazon electronics dataset\n",
        "> Running bandit models on amazon electronics ratings dataset for offline evaluation\n",
        "\n",
        "- toc: true\n",
        "- badges: true\n",
        "- comments: true\n",
        "- categories: [amazon, bandit]\n",
        "- image: "
      ]
    },
    {
      "cell_type": "markdown",
      "metadata": {
        "id": "0Kae4Bhquq_N"
      },
      "source": [
        "## Environment setup"
      ]
    },
    {
      "cell_type": "markdown",
      "metadata": {
        "id": "v53K41Shvhfg"
      },
      "source": [
        "### Libraries"
      ]
    },
    {
      "cell_type": "code",
      "metadata": {
        "id": "WLK0DJZcupDr"
      },
      "source": [
        "import os\n",
        "import sys\n",
        "import time\n",
        "import json\n",
        "import datetime\n",
        "import logging\n",
        "import numpy as np\n",
        "import pandas as pd\n",
        "\n",
        "%matplotlib inline\n",
        "from matplotlib import pyplot as plt\n",
        "import seaborn as sns"
      ],
      "execution_count": 24,
      "outputs": []
    },
    {
      "cell_type": "markdown",
      "metadata": {
        "id": "K1amYK0DvgB0"
      },
      "source": [
        "### Data"
      ]
    },
    {
      "cell_type": "code",
      "metadata": {
        "colab": {
          "base_uri": "https://localhost:8080/"
        },
        "id": "VZigff4OuxEG",
        "outputId": "1013542a-4237-4456-b6ef-a3968351281e"
      },
      "source": [
        "!pip install -q -U kaggle\n",
        "!pip install --upgrade --force-reinstall --no-deps kaggle\n",
        "!mkdir ~/.kaggle\n",
        "!cp /content/drive/MyDrive/kaggle.json ~/.kaggle/\n",
        "!chmod 600 ~/.kaggle/kaggle.json\n",
        "\n",
        "!kaggle datasets download -d saurav9786/amazon-product-reviews"
      ],
      "execution_count": 2,
      "outputs": [
        {
          "output_type": "stream",
          "text": [
            "Collecting kaggle\n",
            "\u001b[?25l  Downloading https://files.pythonhosted.org/packages/3a/e7/3bac01547d2ed3d308ac92a0878fbdb0ed0f3d41fb1906c319ccbba1bfbc/kaggle-1.5.12.tar.gz (58kB)\n",
            "\r\u001b[K     |█████▋                          | 10kB 15.4MB/s eta 0:00:01\r\u001b[K     |███████████▏                    | 20kB 21.5MB/s eta 0:00:01\r\u001b[K     |████████████████▊               | 30kB 16.8MB/s eta 0:00:01\r\u001b[K     |██████████████████████▎         | 40kB 15.0MB/s eta 0:00:01\r\u001b[K     |███████████████████████████▉    | 51kB 8.2MB/s eta 0:00:01\r\u001b[K     |████████████████████████████████| 61kB 4.4MB/s \n",
            "\u001b[?25hBuilding wheels for collected packages: kaggle\n",
            "  Building wheel for kaggle (setup.py) ... \u001b[?25l\u001b[?25hdone\n",
            "  Created wheel for kaggle: filename=kaggle-1.5.12-cp37-none-any.whl size=73053 sha256=f2ea35314de4384f41ca680222631178d493b16823a0b1e9f5c0227a65caafbf\n",
            "  Stored in directory: /root/.cache/pip/wheels/a1/6a/26/d30b7499ff85a4a4593377a87ecf55f7d08af42f0de9b60303\n",
            "Successfully built kaggle\n",
            "Installing collected packages: kaggle\n",
            "  Found existing installation: kaggle 1.5.12\n",
            "    Uninstalling kaggle-1.5.12:\n",
            "      Successfully uninstalled kaggle-1.5.12\n",
            "Successfully installed kaggle-1.5.12\n",
            "Downloading amazon-product-reviews.zip to /content\n",
            "100% 109M/109M [00:01<00:00, 62.7MB/s] \n",
            "100% 109M/109M [00:01<00:00, 78.4MB/s]\n"
          ],
          "name": "stdout"
        }
      ]
    },
    {
      "cell_type": "code",
      "metadata": {
        "colab": {
          "base_uri": "https://localhost:8080/"
        },
        "id": "6Tc5v-8-vB4v",
        "outputId": "45b73c8b-3c25-4231-b46c-dba0dfd253f9"
      },
      "source": [
        "!unzip amazon-product-reviews.zip"
      ],
      "execution_count": 3,
      "outputs": [
        {
          "output_type": "stream",
          "text": [
            "Archive:  amazon-product-reviews.zip\n",
            "  inflating: ratings_Electronics (1).csv  \n"
          ],
          "name": "stdout"
        }
      ]
    },
    {
      "cell_type": "markdown",
      "metadata": {
        "id": "-eEwXE-qvd-V"
      },
      "source": [
        "### Utils"
      ]
    },
    {
      "cell_type": "code",
      "metadata": {
        "colab": {
          "base_uri": "https://localhost:8080/"
        },
        "id": "338aGTt4vogR",
        "outputId": "040efc82-6d83-4813-80d2-a0036ed72191"
      },
      "source": [
        "# getting the current system time\n",
        "current_time = datetime.datetime.now().strftime(\"%Y-%m-%d__%H.%M\")\n",
        "\n",
        "# run folder which will be unique always\n",
        "run_folder = str(datetime.datetime.now())\n",
        "\n",
        "# temprary folder location to export the results\n",
        "temp_folder = \"./output/\"\n",
        "\n",
        "# target folder to export all the result\n",
        "target_dir = temp_folder + '/' + run_folder\n",
        "\n",
        "# checking if the temp folder exists. Create one if not\n",
        "check_folder = os.path.isdir(target_dir)\n",
        "if not check_folder:\n",
        "    os.makedirs(target_dir)\n",
        "    print(\"created folder : \", target_dir)\n",
        "\n",
        "# latency dictionary to hold execution time\n",
        "latency = dict()\n",
        "\n",
        "# removing any existing log files if present\n",
        "if os.path.exists(target_dir + '/main.log'):\n",
        "    os.remove(target_dir+ '/main.log')"
      ],
      "execution_count": 5,
      "outputs": [
        {
          "output_type": "stream",
          "text": [
            "created folder :  ./output//2021-06-16 21:35:53.937354\n"
          ],
          "name": "stdout"
        }
      ]
    },
    {
      "cell_type": "code",
      "metadata": {
        "id": "PbJWoiO_vJAF"
      },
      "source": [
        "def get_loggers(temp_path):\n",
        "  # name the logger as HPC-AI skunkworks\n",
        "  logger = logging.getLogger(\"Multi-Arm-Bandit\")\n",
        "  logger.setLevel(logging.INFO)\n",
        "  # file where the custom logs needs to be handled\n",
        "  f_hand = logging.FileHandler(temp_path + '/.log')\n",
        "  f_hand.setLevel(logging.INFO)  # level to set for logging the errors\n",
        "  f_format = logging.Formatter('%(asctime)s : %(levelname)s : %(message)s',\n",
        "                                datefmt='%d-%b-%y %H:%M:%S')\n",
        "  # format in which the logs needs to be written\n",
        "  f_hand.setFormatter(f_format)  # setting the format of the logs\n",
        "  # setting the logging handler with the above formatter specification\n",
        "  logger.addHandler(f_hand)\n",
        "\n",
        "  stdout_handler = logging.StreamHandler()\n",
        "  stdout_handler.setFormatter(f_format)\n",
        "  logger.addHandler(stdout_handler)\n",
        "\n",
        "  return logger"
      ],
      "execution_count": 6,
      "outputs": []
    },
    {
      "cell_type": "code",
      "metadata": {
        "id": "bEI_GvmfwIu_"
      },
      "source": [
        "# get custom logger\n",
        "logger = get_loggers(target_dir)"
      ],
      "execution_count": 7,
      "outputs": []
    },
    {
      "cell_type": "code",
      "metadata": {
        "id": "aiOBkuZb1B4i"
      },
      "source": [
        "def export_to_json(dictionary, file_name):\n",
        "  try:\n",
        "    start = time.time()\n",
        "    json_data = json.dumps(dictionary, indent=4)\n",
        "    file = open(file_name, 'w')\n",
        "    print(json_data, file=file)\n",
        "    # updating into json\n",
        "    file.close()\n",
        "    stop = time.time()\n",
        "    latency['export_to_json_'] = stop - start\n",
        "    logger.info('Data exported to JSON successfully!')\n",
        "  except Exception as e:\n",
        "    logger.exception(e)\n",
        "    sys.exit(1)"
      ],
      "execution_count": 9,
      "outputs": []
    },
    {
      "cell_type": "markdown",
      "metadata": {
        "id": "6e3Xp5i5wvDc"
      },
      "source": [
        "## Defining agents"
      ]
    },
    {
      "cell_type": "code",
      "metadata": {
        "id": "RSoF3yi61hb1"
      },
      "source": [
        "'''\n",
        "\n",
        "Author - Abhishek Maheshwarappa and Jiaxin Tong\n",
        "\n",
        "This script is used for simulating AB testing simulator\n",
        "\n",
        "'''\n",
        "\n",
        "import numpy as np\n",
        "from tqdm import tqdm\n",
        "\n",
        "\n",
        "class ABTestReplayer():\n",
        "    '''\n",
        "    A class to provide functionality for simulating the method on an A/B test.\n",
        "    '''\n",
        "    \n",
        "    def __init__(self, n_visits, n_test_visits, reward_history, item_col_name, visitor_col_name, reward_col_name, n_iterations=1):\n",
        "        \n",
        "        self.reward_history = reward_history\n",
        "        self.item_col_name = item_col_name\n",
        "        self.visitor_col_name = visitor_col_name\n",
        "        self.reward_col_name = reward_col_name\n",
        "\n",
        "        # number of runs to average over\n",
        "        self.n_iterations = n_iterations\n",
        "\n",
        "        \n",
        "        # TODO: validate that n_test_visits <= n_visits\n",
        "    \n",
        "        self.n_test_visits = n_test_visits\n",
        "\n",
        "        # number of visits to replay/simulate\n",
        "        self.n_visits = n_visits\n",
        "\n",
        "        # items under test\n",
        "        self.items = self.reward_history[self.item_col_name].unique()\n",
        "        self.n_items = len(self.items)\n",
        "        \n",
        "        # visitors in the historical reward_history (e.g., from ratings df)\n",
        "        self.visitors = self.reward_history[self.visitor_col_name].unique()\n",
        "        self.n_visitors = len(self.visitors)\n",
        "        \n",
        "        self.is_testing = True\n",
        "        self.best_item_id = None\n",
        "        \n",
        "    def reset(self):\n",
        "        # number of times each item has been sampled (previously n_sampled)\n",
        "        self.n_item_samples = np.zeros(self.n_items)\n",
        "        \n",
        "        # fraction of time each item has resulted in a reward (previously movie_clicks)\n",
        "        self.n_item_rewards = np.zeros(self.n_items)\n",
        "        \n",
        "        self.is_testing = True\n",
        "        self.best_item_idx = None\n",
        "    \n",
        "    def select_item(self):\n",
        "        if self.is_testing:\n",
        "            return np.random.randint(self.n_items)\n",
        "        else:\n",
        "            return self.best_item_idx\n",
        "            \n",
        "    def record_result(self, visit, item_idx, reward):\n",
        "    \n",
        "        self.n_item_samples[item_idx] += 1\n",
        "        \n",
        "        alpha = 1./self.n_item_samples[item_idx]\n",
        "\n",
        "        self.n_item_rewards[item_idx] += alpha * (reward - self.n_item_rewards[item_idx])\n",
        "        \n",
        "        if (visit == self.n_test_visits - 1): # this was the last visit during the testing phase\n",
        "            \n",
        "            self.is_testing = False\n",
        "            self.best_item_idx = np.argmax(self.n_item_rewards)\n",
        "\n",
        "    def simulator(self):\n",
        "    \n",
        "        results = []\n",
        "\n",
        "        for iteration in tqdm(range(0, self.n_iterations)):\n",
        "        \n",
        "            self.reset()\n",
        "            \n",
        "            total_rewards = 0\n",
        "            fraction_relevant = np.zeros(self.n_visits)\n",
        "\n",
        "            for visit in range(0, self.n_visits):\n",
        "            \n",
        "                found_match = False\n",
        "                while not found_match:\n",
        "                \n",
        "                    # choose a random visitor\n",
        "                    visitor_idx = np.random.randint(self.n_visitors)\n",
        "                    visitor_id = self.visitors[visitor_idx]\n",
        "\n",
        "                    # select an item to offer the visitor\n",
        "                    item_idx = self.select_item()\n",
        "                    item_id = self.items[item_idx]\n",
        "                    \n",
        "                    # if this interaction exists in the history, count it\n",
        "                    reward = self.reward_history.query(\n",
        "                        '{} == @item_id and {} == @visitor_id'.format(self.item_col_name, self.visitor_col_name))[self.reward_col_name]\n",
        "                    \n",
        "                    found_match = reward.shape[0] > 0\n",
        "                \n",
        "                reward_value = reward.iloc[0]\n",
        "                \n",
        "                self.record_result(visit, item_idx, reward_value)\n",
        "                \n",
        "                # record metrics\n",
        "                total_rewards += reward_value\n",
        "                fraction_relevant[visit] = total_rewards * 1. / (visit + 1)\n",
        "                \n",
        "                result = {}\n",
        "                result['iteration'] = iteration\n",
        "                result['visit'] = visit\n",
        "                result['item_id'] = item_id\n",
        "                result['visitor_id'] = visitor_id\n",
        "                result['reward'] = reward_value\n",
        "                result['total_reward'] = total_rewards\n",
        "                result['fraction_relevant'] = total_rewards * 1. / (visit + 1)\n",
        "                \n",
        "                results.append(result)\n",
        "        \n",
        "        return results"
      ],
      "execution_count": 10,
      "outputs": []
    },
    {
      "cell_type": "code",
      "metadata": {
        "id": "Tv1vSiD81hZR"
      },
      "source": [
        "'''\n",
        "\n",
        "Author - Abhishek Maheshwarappa and Jiaxin Tong\n",
        "\n",
        "'''\n",
        "\n",
        "import numpy as np\n",
        "from tqdm import tqdm\n",
        "\n",
        "class EpsilonGreedyReplayer():\n",
        "    '''\n",
        "    A class to provide functionality for simulating the replayer method on an epsilon-Greedy bandit algorithm.\n",
        "    '''\n",
        "\n",
        "    def __init__(self, epsilon, n_visits, reward_history, item_col_name, visitor_col_name, reward_col_name, n_iterations=1):\n",
        "        \n",
        "        self.reward_history = reward_history\n",
        "        self.item_col_name = item_col_name\n",
        "        self.visitor_col_name = visitor_col_name\n",
        "        self.reward_col_name = reward_col_name\n",
        "\n",
        "        # number of runs to average over\n",
        "        self.n_iterations = n_iterations\n",
        "    \n",
        "        # parameter to control exploration vs exploitation\n",
        "        self.epsilon = epsilon\n",
        "\n",
        "        # number of visits to replay/simulate\n",
        "        self.n_visits = n_visits\n",
        "\n",
        "        # items under test\n",
        "        self.items = self.reward_history[self.item_col_name].unique()\n",
        "        self.n_items = len(self.items)\n",
        "        \n",
        "        # visitors in the historical reward_history (e.g., from ratings df)\n",
        "        self.visitors = self.reward_history[self.visitor_col_name].unique()\n",
        "        self.n_visitors = len(self.visitors)\n",
        "        \n",
        "        self.is_testing = True\n",
        "        self.best_item_id = None\n",
        "    \n",
        "    def select_item(self):\n",
        "        \n",
        "        # decide to explore or exploit\n",
        "        if np.random.uniform() < self.epsilon: # explore\n",
        "            item_id = np.random.randint(self.n_items)\n",
        "            \n",
        "        else: # exploit\n",
        "            item_id = np.argmax(self.n_item_rewards)\n",
        "            \n",
        "        return item_id\n",
        "    \n",
        "    def reset(self):\n",
        "        # number of times each item has been sampled (previously n_sampled)\n",
        "        self.n_item_samples = np.zeros(self.n_items)\n",
        "        \n",
        "        # fraction of time each item has resulted in a reward (previously movie_clicks)\n",
        "        self.n_item_rewards = np.zeros(self.n_items)\n",
        "\n",
        "    def record_result(self, visit, item_idx, reward):\n",
        "    \n",
        "        self.n_item_samples[item_idx] += 1\n",
        "        \n",
        "        alpha = 1./self.n_item_samples[item_idx]\n",
        "        self.n_item_rewards[item_idx] += alpha * (reward - self.n_item_rewards[item_idx])\n",
        "\n",
        "    \n",
        "    def simulator(self):\n",
        "\n",
        "        results = []\n",
        "\n",
        "        for iteration in tqdm(range(0, self.n_iterations)):\n",
        "        \n",
        "            self.reset()\n",
        "            \n",
        "            total_rewards = 0\n",
        "            fraction_relevant = np.zeros(self.n_visits)\n",
        "\n",
        "            for visit in range(0, self.n_visits):\n",
        "            \n",
        "                found_match = False\n",
        "                while not found_match:\n",
        "                \n",
        "                    # choose a random visitor\n",
        "                    visitor_idx = np.random.randint(self.n_visitors)\n",
        "                    visitor_id = self.visitors[visitor_idx]\n",
        "\n",
        "                    # select an item to offer the visitor\n",
        "                    item_idx = self.select_item()\n",
        "                    item_id = self.items[item_idx]\n",
        "                    \n",
        "                    # if this interaction exists in the history, count it\n",
        "                    reward = self.reward_history.query(\n",
        "                        '{} == @item_id and {} == @visitor_id'.format(self.item_col_name, self.visitor_col_name))[self.reward_col_name]\n",
        "                    \n",
        "                    found_match = reward.shape[0] > 0\n",
        "                \n",
        "                reward_value = reward.iloc[0]\n",
        "                \n",
        "                self.record_result(visit, item_idx, reward_value)\n",
        "                \n",
        "                # record metrics\n",
        "                total_rewards += reward_value\n",
        "                fraction_relevant[visit] = total_rewards * 1. / (visit + 1)\n",
        "                \n",
        "                result = {}\n",
        "                result['iteration'] = iteration\n",
        "                result['visit'] = visit\n",
        "                result['item_id'] = item_id\n",
        "                result['visitor_id'] = visitor_id\n",
        "                result['reward'] = reward_value\n",
        "                result['total_reward'] = total_rewards\n",
        "                result['fraction_relevant'] = total_rewards * 1. / (visit + 1)\n",
        "                \n",
        "                results.append(result)\n",
        "        \n",
        "        return results"
      ],
      "execution_count": 11,
      "outputs": []
    },
    {
      "cell_type": "code",
      "metadata": {
        "id": "NSCPqsbS1hWx"
      },
      "source": [
        "'''\n",
        "\n",
        "Author - Abhishek Maheshwarappa and Jiaxin Tong\n",
        "\n",
        "'''\n",
        "\n",
        "import numpy as np\n",
        "from tqdm import tqdm\n",
        "\n",
        "class ThompsonSamplingReplayer():\n",
        "    '''\n",
        "    A class to provide functionality for simulating the replayer method on a Thompson Sampling bandit algorithm\n",
        "\n",
        "    '''\n",
        "\n",
        "    def __init__(self, n_visits, reward_history, item_col_name, visitor_col_name, reward_col_name, n_iterations=1):\n",
        "        \n",
        "        self.reward_history = reward_history\n",
        "        self.item_col_name = item_col_name\n",
        "        self.visitor_col_name = visitor_col_name\n",
        "        self.reward_col_name = reward_col_name\n",
        "\n",
        "        # number of runs to average over\n",
        "        self.n_iterations = n_iterations\n",
        "    \n",
        "\n",
        "\n",
        "        # number of visits to replay/simulate\n",
        "        self.n_visits = n_visits\n",
        "\n",
        "        # items under test\n",
        "        self.items = self.reward_history[self.item_col_name].unique()\n",
        "        self.n_items = len(self.items)\n",
        "        \n",
        "        # visitors in the historical reward_history (e.g., from ratings df)\n",
        "        self.visitors = self.reward_history[self.visitor_col_name].unique()\n",
        "        self.n_visitors = len(self.visitors)\n",
        "        \n",
        "        self.is_testing = True\n",
        "        self.best_item_id = None\n",
        "\n",
        "    def reset(self):\n",
        "        self.alphas = np.ones(self.n_items)\n",
        "        self.betas = np.ones(self.n_items)\n",
        "\n",
        "    def select_item(self):\n",
        "    \n",
        "        samples = [np.random.beta(a,b) for a,b in zip(self.alphas, self.betas)]\n",
        "        \n",
        "        return np.argmax(samples)\n",
        "\n",
        "    def record_result(self, visit, item_idx, reward):\n",
        "        \n",
        "        # update value estimate\n",
        "        if reward == 1:\n",
        "            self.alphas[item_idx] += 1\n",
        "        else:\n",
        "            self.betas[item_idx] += 1\n",
        "\n",
        "\n",
        "\n",
        "    def simulator(self):\n",
        "\n",
        "        results = []\n",
        "\n",
        "        for iteration in tqdm(range(0, self.n_iterations)):\n",
        "        \n",
        "            self.reset()\n",
        "            \n",
        "            total_rewards = 0\n",
        "            fraction_relevant = np.zeros(self.n_visits)\n",
        "\n",
        "            for visit in range(0, self.n_visits):\n",
        "            \n",
        "                found_match = False\n",
        "                while not found_match:\n",
        "                \n",
        "                    # choose a random visitor\n",
        "                    visitor_idx = np.random.randint(self.n_visitors)\n",
        "                    visitor_id = self.visitors[visitor_idx]\n",
        "\n",
        "                    # select an item to offer the visitor\n",
        "                    item_idx = self.select_item()\n",
        "                    item_id = self.items[item_idx]\n",
        "                    \n",
        "                    # if this interaction exists in the history, count it\n",
        "                    reward = self.reward_history.query(\n",
        "                        '{} == @item_id and {} == @visitor_id'.format(self.item_col_name, self.visitor_col_name))[self.reward_col_name]\n",
        "                    \n",
        "                    found_match = reward.shape[0] > 0\n",
        "                \n",
        "                reward_value = reward.iloc[0]\n",
        "                \n",
        "                self.record_result(visit, item_idx, reward_value)\n",
        "                \n",
        "                # record metrics\n",
        "                total_rewards += reward_value\n",
        "                fraction_relevant[visit] = total_rewards * 1. / (visit + 1)\n",
        "                \n",
        "                result = {}\n",
        "                result['iteration'] = iteration\n",
        "                result['visit'] = visit\n",
        "                result['item_id'] = item_id\n",
        "                result['visitor_id'] = visitor_id\n",
        "                result['reward'] = reward_value\n",
        "                result['total_reward'] = total_rewards\n",
        "                result['fraction_relevant'] = total_rewards * 1. / (visit + 1)\n",
        "                \n",
        "                results.append(result)\n",
        "        \n",
        "        return results"
      ],
      "execution_count": 12,
      "outputs": []
    },
    {
      "cell_type": "code",
      "metadata": {
        "id": "aH5VPlaX1hT8"
      },
      "source": [
        "'''\n",
        "\n",
        "Author - Abhishek Maheshwarappa and Jiaxin Tong\n",
        "\n",
        "'''\n",
        "import numpy as np\n",
        "from tqdm import tqdm\n",
        "\n",
        "\n",
        "class ReplaySimulator(object):\n",
        "    '''\n",
        "    A class to provide base functionality for simulating the replayer method for online algorithms.\n",
        "    '''\n",
        "\n",
        "    def __init__(self, n_visits, reward_history, item_col_name, visitor_col_name, reward_col_name, n_iterations=1, random_seed=1):\n",
        "\n",
        "        np.random.seed(random_seed)\n",
        "    \n",
        "        self.reward_history = reward_history\n",
        "        self.item_col_name = item_col_name\n",
        "        self.visitor_col_name = visitor_col_name\n",
        "        self.reward_col_name = reward_col_name\n",
        "\n",
        "        # number of visits to replay/simulate\n",
        "        self.n_visits = n_visits\n",
        "        \n",
        "        # number of runs to average over\n",
        "        self.n_iterations = n_iterations\n",
        "    \n",
        "        # items under test\n",
        "        self.items = self.reward_history[self.item_col_name].unique()\n",
        "        self.n_items = len(self.items)\n",
        "        \n",
        "        # visitors in the historical reward_history (e.g., from ratings df)\n",
        "        self.visitors = self.reward_history[self.visitor_col_name].unique()\n",
        "        self.n_visitors = len(self.visitors)\n",
        "        \n",
        "\n",
        "    def reset(self):\n",
        "        # number of times each item has been sampled (previously n_sampled)\n",
        "        self.n_item_samples = np.zeros(self.n_items)\n",
        "        \n",
        "        # fraction of time each item has resulted in a reward (previously movie_clicks)\n",
        "        self.n_item_rewards = np.zeros(self.n_items)\n",
        "        \n",
        "    \n",
        "    def replay(self):\n",
        "        \n",
        "        results = []\n",
        "\n",
        "        for iteration in tqdm(range(0, self.n_iterations)):\n",
        "        \n",
        "            self.reset()\n",
        "            \n",
        "            total_rewards = 0\n",
        "            fraction_relevant = np.zeros(self.n_visits)\n",
        "\n",
        "            for visit in range(0, self.n_visits):\n",
        "            \n",
        "                found_match = False\n",
        "                while not found_match:\n",
        "                \n",
        "                    # choose a random visitor\n",
        "                    visitor_idx = np.random.randint(self.n_visitors)\n",
        "                    visitor_id = self.visitors[visitor_idx]\n",
        "\n",
        "                    # select an item to offer the visitor\n",
        "                    item_idx = self.select_item()\n",
        "                    item_id = self.items[item_idx]\n",
        "                    \n",
        "                    # if this interaction exists in the history, count it\n",
        "                    reward = self.reward_history.query(\n",
        "                        '{} == @item_id and {} == @visitor_id'.format(self.item_col_name, self.visitor_col_name))[self.reward_col_name]\n",
        "                    \n",
        "                    found_match = reward.shape[0] > 0\n",
        "                \n",
        "                reward_value = reward.iloc[0]\n",
        "                \n",
        "                self.record_result(visit, item_idx, reward_value)\n",
        "                \n",
        "                ## record metrics\n",
        "                total_rewards += reward_value\n",
        "                fraction_relevant[visit] = total_rewards * 1. / (visit + 1)\n",
        "                \n",
        "                result = {}\n",
        "                result['iteration'] = iteration\n",
        "                result['visit'] = visit\n",
        "                result['item_id'] = item_id\n",
        "                result['visitor_id'] = visitor_id\n",
        "                result['reward'] = reward_value\n",
        "                result['total_reward'] = total_rewards\n",
        "                result['fraction_relevant'] = total_rewards * 1. / (visit + 1)\n",
        "                \n",
        "                results.append(result)\n",
        "        \n",
        "        return results\n",
        "        \n",
        "    def select_item(self):\n",
        "        return np.random.randint(self.n_items)\n",
        "        \n",
        "    def record_result(self, visit, item_idx, reward):\n",
        "    \n",
        "        self.n_item_samples[item_idx] += 1\n",
        "        \n",
        "        alpha = 1./self.n_item_samples[item_idx]\n",
        "        self.n_item_rewards[item_idx] += alpha * (reward - self.n_item_rewards[item_idx])"
      ],
      "execution_count": 13,
      "outputs": []
    },
    {
      "cell_type": "code",
      "metadata": {
        "id": "h_rKHYy91hRH"
      },
      "source": [
        "'''\n",
        "\n",
        "Author - Abhishek Maheshwarappa and Jiaxin Tong\n",
        "\n",
        "'''\n",
        "\n",
        "import numpy as np\n",
        "from tqdm import tqdm\n",
        "\n",
        "class UCBSamplingReplayer():\n",
        "    '''\n",
        "    A class to provide functionality for simulating the replayer method on a Thompson Sampling bandit algorithm\n",
        "\n",
        "    '''\n",
        "\n",
        "    def __init__(self,ucb_c, n_visits, reward_history, item_col_name, visitor_col_name, reward_col_name, n_iterations=1):\n",
        "        \n",
        "        self.reward_history = reward_history\n",
        "        self.item_col_name = item_col_name\n",
        "        self.visitor_col_name = visitor_col_name\n",
        "        self.reward_col_name = reward_col_name\n",
        "        self.ucb_c = ucb_c\n",
        "\n",
        "        # number of runs to average over\n",
        "        self.n_iterations = n_iterations\n",
        "    \n",
        "\n",
        "\n",
        "        # number of visits to replay/simulate\n",
        "        self.n_visits = n_visits\n",
        "\n",
        "        # items under test\n",
        "        self.items = self.reward_history[self.item_col_name].unique()\n",
        "        self.n_items = len(self.items)\n",
        "        \n",
        "        # visitors in the historical reward_history (e.g., from ratings df)\n",
        "        self.visitors = self.reward_history[self.visitor_col_name].unique()\n",
        "        self.n_visitors = len(self.visitors)\n",
        "        \n",
        "        self.is_testing = True\n",
        "        self.best_item_id = None\n",
        "\n",
        "    def reset(self):\n",
        "        self.Q = np.zeros(self.n_items) # q-value of actions\n",
        "        self.N = np.zeros(self.n_items) + 0.0001 # action count\n",
        "        self.timestep = 1\n",
        "\n",
        "\n",
        "    def select_item(self):\n",
        "\n",
        "        ln_timestep = np.log(np.full(self.n_items, self.timestep))\n",
        "        confidence = self.ucb_c * np.sqrt(ln_timestep/self.N)\n",
        "\n",
        "        action = np.argmax(self.Q + confidence)\n",
        "        self.timestep += 1\n",
        "        \n",
        "        return action\n",
        "\n",
        "    def record_result(self, visit, item_idx, reward):\n",
        "        \n",
        "        # update value estimate\n",
        "        self.N[item_idx] += 1 # increment action count\n",
        "        self.Q[item_idx] += 1/self.N[item_idx] * (reward - self.Q[item_idx]) # inc. update rule\n",
        "\n",
        "\n",
        "    def simulator(self):\n",
        "\n",
        "        results = []\n",
        "\n",
        "        for iteration in tqdm(range(0, self.n_iterations)):\n",
        "        \n",
        "            self.reset()\n",
        "            \n",
        "            total_rewards = 0\n",
        "            fraction_relevant = np.zeros(self.n_visits)\n",
        "\n",
        "            for visit in range(0, self.n_visits):\n",
        "            \n",
        "                found_match = False\n",
        "                while not found_match:\n",
        "                \n",
        "                    # choose a random visitor\n",
        "                    visitor_idx = np.random.randint(self.n_visitors)\n",
        "                    visitor_id = self.visitors[visitor_idx]\n",
        "\n",
        "                    # select an item to offer the visitor\n",
        "                    item_idx = self.select_item()\n",
        "                    item_id = self.items[item_idx]\n",
        "                    \n",
        "                    # if this interaction exists in the history, count it\n",
        "                    reward = self.reward_history.query(\n",
        "                        '{} == @item_id and {} == @visitor_id'.format(self.item_col_name, self.visitor_col_name))[self.reward_col_name]\n",
        "                    \n",
        "                    found_match = reward.shape[0] > 0\n",
        "                \n",
        "                reward_value = reward.iloc[0]\n",
        "                \n",
        "                self.record_result(visit, item_idx, reward_value)\n",
        "                \n",
        "                # record metrics\n",
        "                total_rewards += reward_value\n",
        "                fraction_relevant[visit] = total_rewards * 1. / (visit + 1)\n",
        "                \n",
        "                result = {}\n",
        "                result['iteration'] = iteration\n",
        "                result['visit'] = visit\n",
        "                result['item_id'] = item_id\n",
        "                result['visitor_id'] = visitor_id\n",
        "                result['reward'] = reward_value\n",
        "                result['total_reward'] = total_rewards\n",
        "                result['fraction_relevant'] = total_rewards * 1. / (visit + 1)\n",
        "                \n",
        "                results.append(result)\n",
        "        \n",
        "        return results"
      ],
      "execution_count": 14,
      "outputs": []
    },
    {
      "cell_type": "markdown",
      "metadata": {
        "id": "_4pnGuTQwy_V"
      },
      "source": [
        "## Running simulation"
      ]
    },
    {
      "cell_type": "code",
      "metadata": {
        "colab": {
          "base_uri": "https://localhost:8080/"
        },
        "id": "bbZkkn_7wqnQ",
        "outputId": "f05e843e-c19c-4b3a-fd7b-a517166a34a4"
      },
      "source": [
        "logger.info(\"Multi-Armed-Bandits-for-Recommendations-and-A-B-testing !!!\")\n",
        "logger.info(\"Current time: \" + str(current_time))\n",
        "\n",
        "logger.info(\"Reading the data..!!\")\n",
        "\n",
        "start = time.time()\n",
        "header_list = [\"User_ID\", \"Product_ID\", \"Rating\", \"Time_Stamp\"]\n",
        "rating_df = pd.read_csv('ratings_Electronics (1).csv', names=header_list)\n",
        "latency[\"Data_reading -\"] = time.time() - start\n",
        "logger.info(\"Read the data Successfully ..!!!\")\n",
        "\n",
        "reward_threshold = 4\n",
        "rating_df['reward'] = rating_df.eval('Rating > @reward_threshold').astype(int)"
      ],
      "execution_count": 16,
      "outputs": [
        {
          "output_type": "stream",
          "text": [
            "16-Jun-21 22:00:41 : INFO : Multi-Armed-Bandits-for-Recommendations-and-A-B-testing !!!\n",
            "16-Jun-21 22:00:41 : INFO : Current time: 2021-06-16__21.35\n",
            "16-Jun-21 22:00:41 : INFO : Reading the data..!!\n",
            "16-Jun-21 22:00:47 : INFO : Read the data Successfully ..!!!\n"
          ],
          "name": "stderr"
        }
      ]
    },
    {
      "cell_type": "code",
      "metadata": {
        "id": "ai3L1Nv0w7Hj"
      },
      "source": [
        "n_visits = 500\n",
        "n_iterations = 1\n",
        "n_test_visits = 100\n",
        "\n",
        "reward_history = rating_df[:1000]\n",
        "item_col_name = 'Product_ID'\n",
        "visitor_col_name = 'User_ID'\n",
        "reward_col_name = 'reward'"
      ],
      "execution_count": 19,
      "outputs": []
    },
    {
      "cell_type": "code",
      "metadata": {
        "colab": {
          "base_uri": "https://localhost:8080/"
        },
        "id": "rSJp1191w-da",
        "outputId": "2340c944-5f6b-4a31-bfc7-4bdf337bb9da"
      },
      "source": [
        "#################### A/B testing ###############\n",
        "\n",
        "logger.info(\"A/B Test Simulations...starts...!!!\")\n",
        "\n",
        "start = time.time()\n",
        "ab_results = ABTestReplayer(n_visits, n_test_visits, reward_history,\n",
        "                            item_col_name, visitor_col_name, reward_col_name,\n",
        "                            n_iterations=n_iterations).simulator()\n",
        "\n",
        "ab_results_df = pd.DataFrame(ab_results)\n",
        "latency[\"A/B testing -\"] = time.time() - start\n",
        "\n",
        "logger.info(\"A/B testing completed Successfully..!!\")\n",
        "\n",
        "ab_results_df.to_csv(target_dir + '/ab_results_df.csv')\n",
        "\n",
        "logger.info(\"Saving the A/B test results saved Successfully..!!\")"
      ],
      "execution_count": 20,
      "outputs": [
        {
          "output_type": "stream",
          "text": [
            "16-Jun-21 22:01:52 : INFO : A/B Test Simulations...starts...!!!\n",
            "\n",
            "  0%|          | 0/1 [00:00<?, ?it/s]\u001b[A\n",
            "100%|██████████| 1/1 [03:07<00:00, 187.56s/it]\n",
            "16-Jun-21 22:04:59 : INFO : A/B testing completed Successfully..!!\n",
            "16-Jun-21 22:04:59 : INFO : Saving the A/B test results saved Successfully..!!\n"
          ],
          "name": "stderr"
        }
      ]
    },
    {
      "cell_type": "code",
      "metadata": {
        "colab": {
          "base_uri": "https://localhost:8080/"
        },
        "id": "1oTrn4npxSXA",
        "outputId": "c16a2119-e749-430c-af68-4291ebef375f"
      },
      "source": [
        "################# Epsilon - Greedy Simulations ##############\n",
        "\n",
        "logger.info(\"Epsilon - Greedy Simulations...starts...!!!\")\n",
        "\n",
        "start = time.time()\n",
        "epsilon = 0.05\n",
        "epsilon_results = EpsilonGreedyReplayer(epsilon, n_visits, reward_history,\n",
        "                                        item_col_name, visitor_col_name, reward_col_name,\n",
        "                                        n_iterations=n_iterations).simulator()\n",
        "\n",
        "epsilon_results_df = pd.DataFrame(epsilon_results)\n",
        "latency[\"Epsilon - Greedy Simulations  -\"] = time.time() - start\n",
        "logger.info(\"Epsilon - Greedy Simulations completed Successfully..!!\")\n",
        "\n",
        "epsilon_results_df.to_csv(target_dir +'/epsilon_results_df.csv')\n",
        "\n",
        "logger.info(\"Epsilon - Greedy Simulations results saved Successfully..!!\")"
      ],
      "execution_count": 21,
      "outputs": [
        {
          "output_type": "stream",
          "text": [
            "16-Jun-21 22:04:59 : INFO : Epsilon - Greedy Simulations...starts...!!!\n",
            "\n",
            "  0%|          | 0/1 [00:00<?, ?it/s]\u001b[A\n",
            "100%|██████████| 1/1 [10:38<00:00, 638.64s/it]\n",
            "16-Jun-21 22:15:38 : INFO : Epsilon - Greedy Simulations completed Successfully..!!\n",
            "16-Jun-21 22:15:38 : INFO : Epsilon - Greedy Simulations results saved Successfully..!!\n"
          ],
          "name": "stderr"
        }
      ]
    },
    {
      "cell_type": "code",
      "metadata": {
        "colab": {
          "base_uri": "https://localhost:8080/"
        },
        "id": "p1CLmjThxac-",
        "outputId": "f04e7aa7-b4e6-4bde-b443-88192720f710"
      },
      "source": [
        "################### Thompson Sampling Simulations #######################\n",
        "\n",
        "logger.info(\"Thompson Sampling Simulations...starts...!!!\")\n",
        "\n",
        "start = time.time()\n",
        "\n",
        "thompson_results = ThompsonSamplingReplayer(n_visits, reward_history,\n",
        "                                            item_col_name, visitor_col_name, reward_col_name,\n",
        "                                            n_iterations=n_iterations).simulator()\n",
        "\n",
        "thompson_results_df = pd.DataFrame(thompson_results)\n",
        "latency[\"Thompson Sampling Simulations  -\"] = time.time() - start\n",
        "logger.info(\"Thompson Sampling Simulations completed Successfully..!!\")\n",
        "\n",
        "thompson_results_df.to_csv(target_dir +'/thompson_results_df.csv')\n",
        "\n",
        "logger.info(\"Thompson Sampling Simulations results saved Successfully..!!\")"
      ],
      "execution_count": 22,
      "outputs": [
        {
          "output_type": "stream",
          "text": [
            "16-Jun-21 22:15:38 : INFO : Thompson Sampling Simulations...starts...!!!\n",
            "\n",
            "  0%|          | 0/1 [00:00<?, ?it/s]\u001b[A\n",
            "100%|██████████| 1/1 [11:51<00:00, 711.80s/it]\n",
            "16-Jun-21 22:27:30 : INFO : Thompson Sampling Simulations completed Successfully..!!\n",
            "16-Jun-21 22:27:30 : INFO : Thompson Sampling Simulations results saved Successfully..!!\n"
          ],
          "name": "stderr"
        }
      ]
    },
    {
      "cell_type": "code",
      "metadata": {
        "colab": {
          "base_uri": "https://localhost:8080/"
        },
        "id": "GJCQhSIpxkTO",
        "outputId": "cd846fb5-d7ed-44c2-dc41-59c6d74b4139"
      },
      "source": [
        "####################  Upper Confidence Bounds #########################\n",
        "\n",
        "logger.info(\"Upper Confidence Bounds Simulations...starts...!!!\")\n",
        "\n",
        "start = time.time()\n",
        "\n",
        "ucb = 2\n",
        "\n",
        "ucb_results = UCBSamplingReplayer(ucb, n_visits, reward_history,\n",
        "                                  item_col_name, visitor_col_name, reward_col_name,\n",
        "                                  n_iterations=n_iterations).simulator()\n",
        "\n",
        "ucb_results_df = pd.DataFrame(ucb_results)\n",
        "latency[\"Upper Confidence Bounds Simulations  -\"] = time.time() - start\n",
        "\n",
        "logger.info(\"Upper Confidence Bounds Simulations completed Successfully..!!\")\n",
        "\n",
        "ucb_results_df.to_csv(target_dir +'/ucb_results_df.csv')\n",
        "\n",
        "logger.info(\"Upper Confidence Bounds Simulations results saved Successfully..!!\")\n",
        "\n",
        "logger.info('Exporting the latency')\n",
        "file_name = target_dir +'/latency_stats.json'\n",
        "export_to_json(latency, file_name)\n",
        "logger.info(\"Program completed normally\")\n",
        "logger.handlers.clear()"
      ],
      "execution_count": 23,
      "outputs": [
        {
          "output_type": "stream",
          "text": [
            "16-Jun-21 22:27:30 : INFO : Upper Confidence Bounds Simulations...starts...!!!\n",
            "\n",
            "  0%|          | 0/1 [00:00<?, ?it/s]\u001b[A\n",
            "100%|██████████| 1/1 [14:35<00:00, 875.29s/it]\n",
            "16-Jun-21 22:42:05 : INFO : Upper Confidence Bounds Simulations completed Successfully..!!\n",
            "16-Jun-21 22:42:05 : INFO : Upper Confidence Bounds Simulations results saved Successfully..!!\n",
            "16-Jun-21 22:42:05 : INFO : Exporting the latency\n",
            "16-Jun-21 22:42:05 : INFO : Data exported to JSON successfully!\n",
            "16-Jun-21 22:42:05 : INFO : Program completed normally\n"
          ],
          "name": "stderr"
        }
      ]
    },
    {
      "cell_type": "markdown",
      "metadata": {
        "id": "q4g03Tfg2ZB0"
      },
      "source": [
        "## Result analysis"
      ]
    },
    {
      "cell_type": "code",
      "metadata": {
        "colab": {
          "base_uri": "https://localhost:8080/",
          "height": 419
        },
        "id": "xfR8ZqC5_fNA",
        "outputId": "09145c08-1841-403a-d440-3fdea83a475f"
      },
      "source": [
        ""
      ],
      "execution_count": 27,
      "outputs": [
        {
          "output_type": "execute_result",
          "data": {
            "text/html": [
              "<div>\n",
              "<style scoped>\n",
              "    .dataframe tbody tr th:only-of-type {\n",
              "        vertical-align: middle;\n",
              "    }\n",
              "\n",
              "    .dataframe tbody tr th {\n",
              "        vertical-align: top;\n",
              "    }\n",
              "\n",
              "    .dataframe thead th {\n",
              "        text-align: right;\n",
              "    }\n",
              "</style>\n",
              "<table border=\"1\" class=\"dataframe\">\n",
              "  <thead>\n",
              "    <tr style=\"text-align: right;\">\n",
              "      <th></th>\n",
              "      <th>iteration</th>\n",
              "      <th>visit</th>\n",
              "      <th>item_id</th>\n",
              "      <th>visitor_id</th>\n",
              "      <th>reward</th>\n",
              "      <th>total_reward</th>\n",
              "      <th>fraction_relevant</th>\n",
              "    </tr>\n",
              "  </thead>\n",
              "  <tbody>\n",
              "    <tr>\n",
              "      <th>0</th>\n",
              "      <td>0</td>\n",
              "      <td>0</td>\n",
              "      <td>0132793040</td>\n",
              "      <td>AKM1MP6P0OYPR</td>\n",
              "      <td>1</td>\n",
              "      <td>1</td>\n",
              "      <td>1.000000</td>\n",
              "    </tr>\n",
              "    <tr>\n",
              "      <th>1</th>\n",
              "      <td>0</td>\n",
              "      <td>1</td>\n",
              "      <td>0321732944</td>\n",
              "      <td>A2CX7LUOHB2NDG</td>\n",
              "      <td>1</td>\n",
              "      <td>2</td>\n",
              "      <td>1.000000</td>\n",
              "    </tr>\n",
              "    <tr>\n",
              "      <th>2</th>\n",
              "      <td>0</td>\n",
              "      <td>2</td>\n",
              "      <td>0439886341</td>\n",
              "      <td>A2NWSAGRHCP8N5</td>\n",
              "      <td>0</td>\n",
              "      <td>2</td>\n",
              "      <td>0.666667</td>\n",
              "    </tr>\n",
              "    <tr>\n",
              "      <th>3</th>\n",
              "      <td>0</td>\n",
              "      <td>3</td>\n",
              "      <td>0511189877</td>\n",
              "      <td>A2TY0BTJOTENPG</td>\n",
              "      <td>1</td>\n",
              "      <td>3</td>\n",
              "      <td>0.750000</td>\n",
              "    </tr>\n",
              "    <tr>\n",
              "      <th>4</th>\n",
              "      <td>0</td>\n",
              "      <td>4</td>\n",
              "      <td>0528881469</td>\n",
              "      <td>A3T6ZQONABIJSG</td>\n",
              "      <td>0</td>\n",
              "      <td>3</td>\n",
              "      <td>0.600000</td>\n",
              "    </tr>\n",
              "    <tr>\n",
              "      <th>...</th>\n",
              "      <td>...</td>\n",
              "      <td>...</td>\n",
              "      <td>...</td>\n",
              "      <td>...</td>\n",
              "      <td>...</td>\n",
              "      <td>...</td>\n",
              "      <td>...</td>\n",
              "    </tr>\n",
              "    <tr>\n",
              "      <th>495</th>\n",
              "      <td>0</td>\n",
              "      <td>495</td>\n",
              "      <td>0594511488</td>\n",
              "      <td>A29FNXHYVA2W4G</td>\n",
              "      <td>1</td>\n",
              "      <td>320</td>\n",
              "      <td>0.645161</td>\n",
              "    </tr>\n",
              "    <tr>\n",
              "      <th>496</th>\n",
              "      <td>0</td>\n",
              "      <td>496</td>\n",
              "      <td>0594514789</td>\n",
              "      <td>A1APJUGO70YI8</td>\n",
              "      <td>1</td>\n",
              "      <td>321</td>\n",
              "      <td>0.645875</td>\n",
              "    </tr>\n",
              "    <tr>\n",
              "      <th>497</th>\n",
              "      <td>0</td>\n",
              "      <td>497</td>\n",
              "      <td>0594549558</td>\n",
              "      <td>A3JQESKSRFB6MV</td>\n",
              "      <td>1</td>\n",
              "      <td>322</td>\n",
              "      <td>0.646586</td>\n",
              "    </tr>\n",
              "    <tr>\n",
              "      <th>498</th>\n",
              "      <td>0</td>\n",
              "      <td>498</td>\n",
              "      <td>0777700018</td>\n",
              "      <td>A2E14J26DQZOAA</td>\n",
              "      <td>1</td>\n",
              "      <td>323</td>\n",
              "      <td>0.647295</td>\n",
              "    </tr>\n",
              "    <tr>\n",
              "      <th>499</th>\n",
              "      <td>0</td>\n",
              "      <td>499</td>\n",
              "      <td>094339676X</td>\n",
              "      <td>A11E2USO989A37</td>\n",
              "      <td>1</td>\n",
              "      <td>324</td>\n",
              "      <td>0.648000</td>\n",
              "    </tr>\n",
              "  </tbody>\n",
              "</table>\n",
              "<p>500 rows × 7 columns</p>\n",
              "</div>"
            ],
            "text/plain": [
              "     iteration  visit     item_id  ... reward  total_reward  fraction_relevant\n",
              "0            0      0  0132793040  ...      1             1           1.000000\n",
              "1            0      1  0321732944  ...      1             2           1.000000\n",
              "2            0      2  0439886341  ...      0             2           0.666667\n",
              "3            0      3  0511189877  ...      1             3           0.750000\n",
              "4            0      4  0528881469  ...      0             3           0.600000\n",
              "..         ...    ...         ...  ...    ...           ...                ...\n",
              "495          0    495  0594511488  ...      1           320           0.645161\n",
              "496          0    496  0594514789  ...      1           321           0.645875\n",
              "497          0    497  0594549558  ...      1           322           0.646586\n",
              "498          0    498  0777700018  ...      1           323           0.647295\n",
              "499          0    499  094339676X  ...      1           324           0.648000\n",
              "\n",
              "[500 rows x 7 columns]"
            ]
          },
          "metadata": {
            "tags": []
          },
          "execution_count": 27
        }
      ]
    },
    {
      "cell_type": "code",
      "metadata": {
        "id": "On9oqeyVwJiG"
      },
      "source": [
        "\n",
        "'''\n",
        "The Csv files present in current \n",
        "output run directory are Read \n",
        "for all the algos\n",
        "\n",
        "'''\n",
        "\n",
        "ucb_results_df = pd.read_csv(os.path.join(target_dir,'ucb_results_df.csv')).drop('Unnamed: 0', axis=1)\n",
        "thompson_results_df = pd.read_csv(os.path.join(target_dir,'thompson_results_df.csv')).drop('Unnamed: 0', axis=1)\n",
        "epsilon_results_df = pd.read_csv(os.path.join(target_dir,'epsilon_results_df.csv')).drop('Unnamed: 0', axis=1)\n",
        "ab_results_df = pd.read_csv(os.path.join(target_dir,'ab_results_df.csv')).drop('Unnamed: 0', axis=1)"
      ],
      "execution_count": 28,
      "outputs": []
    },
    {
      "cell_type": "code",
      "metadata": {
        "id": "pNGzK5GB21Cq"
      },
      "source": [
        "'''\n",
        "Grouping the each data frame with visit with mean\n",
        "'''\n",
        "\n",
        "ucb_avg_results_df = ucb_results_df.groupby('visit', as_index=False).mean()\n",
        "\n",
        "thompson_avg_results_df = thompson_results_df.groupby('visit', as_index=False).mean()\n",
        "\n",
        "epsilon_avg_results_df = epsilon_results_df.groupby('visit', as_index=False).mean()\n",
        "\n",
        "ab_avg_results_df = ab_results_df.groupby('visit', as_index=False).mean()"
      ],
      "execution_count": 29,
      "outputs": []
    },
    {
      "cell_type": "code",
      "metadata": {
        "colab": {
          "base_uri": "https://localhost:8080/",
          "height": 89
        },
        "id": "0lBvFEXU21vt",
        "outputId": "4a872b27-944e-4a6e-811a-5997159daaad"
      },
      "source": [
        "# using a color-blind friendly palette with 10 colors\n",
        "color_blind_palette_10 = ['#cfcfcf', '#ffbc79', '#a2c8ec', '#898989', '#c85200',\n",
        "                          '#5f9ed1', '#595959', '#ababab', '#ff800e', '#006ba4']\n",
        "\n",
        "sns.palplot(color_blind_palette_10)"
      ],
      "execution_count": 30,
      "outputs": [
        {
          "output_type": "display_data",
          "data": {
            "image/png": "[encoded data removed]",
            "text/plain": [
              "<Figure size 720x72 with 1 Axes>"
            ]
          },
          "metadata": {
            "tags": [],
            "needs_background": "light"
          }
        }
      ]
    },
    {
      "cell_type": "code",
      "metadata": {
        "colab": {
          "base_uri": "https://localhost:8080/",
          "height": 729
        },
        "id": "N-JcTHxB21sz",
        "outputId": "6fba94b9-a86c-4371-a00e-d8af8ce4093f"
      },
      "source": [
        "fig, ax = plt.subplots(figsize=(12,10))\n",
        "\n",
        "for (avg_results_df, style) in [(ucb_avg_results_df, 'r-'),\n",
        "                                (thompson_avg_results_df, 'g--'),\n",
        "                                (epsilon_avg_results_df, 'b-'),\n",
        "                                (ab_avg_results_df, 'y--')]:\n",
        "    \n",
        "    ax.plot(avg_results_df.visit, avg_results_df.fraction_relevant, style, linewidth=3.5)\n",
        "\n",
        "\n",
        "ax.set_title('Percentage of Liked Recommendations')\n",
        "ax.set_xlabel('Recommendation #')\n",
        "ax.set_ylabel('% of Recs Clicked')\n",
        "\n",
        "#ax.set_xticks(range(0,22000,5000))\n",
        "#ax.set_ylim(0.2, 0.6)\n",
        "#ax.set_yticks(np.arange(0.2, 0.7, 0.1))\n",
        "\n",
        "#rescale the y-axis tick labels to show them as a percentage\n",
        "ax.set_yticklabels((ax.get_yticks()*100).astype(int))\n",
        "\n",
        "ax.legend(['UCB ',\n",
        "           'Thompson Sampling',\n",
        "           '$\\epsilon$ Greedy',\n",
        "           'A/B Test'\n",
        "          ],\n",
        "          loc='lower right'\n",
        "         )\n",
        "\n",
        "plt.tight_layout()\n",
        "plt.show()"
      ],
      "execution_count": 31,
      "outputs": [
        {
          "output_type": "display_data",
          "data": {
            "image/png": "[encoded data removed]",
            "text/plain": [
              "<Figure size 864x720 with 1 Axes>"
            ]
          },
          "metadata": {
            "tags": [],
            "needs_background": "light"
          }
        }
      ]
    },
    {
      "cell_type": "markdown",
      "metadata": {
        "id": "OJCVa1zZ29Ys"
      },
      "source": [
        "From the above it is clear that Thompson smapling of multi arm bandit outperforms A/B testing. In the lower samples the Epsilon Greedy better than all other algorithim, but as in when the number smaples increase the thompsonsampling starts performing beter and better."
      ]
    },
    {
      "cell_type": "markdown",
      "metadata": {
        "id": "AB4RR9zR3CEs"
      },
      "source": [
        "## License"
      ]
    },
    {
      "cell_type": "markdown",
      "metadata": {
        "id": "R--O6DTt3Edd"
      },
      "source": [
        "Permission is hereby granted, free of charge, to any person obtaining a copy of this software and associated documentation files (the \"Software\"), to deal in the Software without restriction, including without limitation the rights to use, copy, modify, merge, publish, distribute, sublicense, and/or sell copies of the Software, and to permit persons to whom the Software is furnished to do so, subject to the following conditions:\n",
        "\n",
        "The above copyright notice and this permission notice shall be included in all copies or substantial portions of the Software.\n",
        "\n",
        "THE SOFTWARE IS PROVIDED \"AS IS\", WITHOUT WARRANTY OF ANY KIND, EXPRESS OR IMPLIED, INCLUDING BUT NOT LIMITED TO THE WARRANTIES OF MERCHANTABILITY, FITNESS FOR A PARTICULAR PURPOSE AND NONINFRINGEMENT. IN NO EVENT SHALL THE AUTHORS OR COPYRIGHT HOLDERS BE LIABLE FOR ANY CLAIM, DAMAGES OR OTHER LIABILITY, WHETHER IN AN ACTION OF CONTRACT, TORT OR OTHERWISE, ARISING FROM, OUT OF OR IN CONNECTION WITH THE SOFTWARE OR THE USE OR OTHER DEALINGS IN THE SOFTWARE."
      ]
    }
  ]
}