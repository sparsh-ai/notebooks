{
  "nbformat": 4,
  "nbformat_minor": 0,
  "metadata": {
    "colab": {
      "provenance": [],
      "toc_visible": true,
      "authorship_tag": "ABX9TyMiAAYKxA0GlAyUSFEmHzIb",
      "include_colab_link": true
    },
    "kernelspec": {
      "name": "python3",
      "display_name": "Python 3"
    },
    "language_info": {
      "name": "python"
    }
  },
  "cells": [
    {
      "cell_type": "markdown",
      "metadata": {
        "id": "view-in-github",
        "colab_type": "text"
      },
      "source": [
        "<a href=\"https://colab.research.google.com/github/sparsh-ai/notebooks/blob/main/Data_Encoding.ipynb\" target=\"_parent\"><img src=\"https://colab.research.google.com/assets/colab-badge.svg\" alt=\"Open In Colab\"/></a>"
      ]
    },
    {
      "cell_type": "markdown",
      "source": [
        "# Data Encoding"
      ],
      "metadata": {
        "id": "_Bz7MQ6yCW8C"
      }
    },
    {
      "cell_type": "code",
      "source": [
        "!pip install -qq category-encoders"
      ],
      "metadata": {
        "colab": {
          "base_uri": "https://localhost:8080/"
        },
        "id": "lAKSkyPOUfds",
        "outputId": "97b8d0aa-f045-4163-ca65-aabcfb316cfd"
      },
      "execution_count": 5,
      "outputs": [
        {
          "output_type": "stream",
          "name": "stdout",
          "text": [
            "\u001b[?25l     \u001b[90m━━━━━━━━━━━━━━━━━━━━━━━━━━━━━━━━━━━━━━━━\u001b[0m \u001b[32m0.0/81.2 KB\u001b[0m \u001b[31m?\u001b[0m eta \u001b[36m-:--:--\u001b[0m\r\u001b[2K     \u001b[90m━━━━━━━━━━━━━━━━━━━━━━━━━━━━━━━━━━━━━━━━\u001b[0m \u001b[32m81.2/81.2 KB\u001b[0m \u001b[31m3.0 MB/s\u001b[0m eta \u001b[36m0:00:00\u001b[0m\n",
            "\u001b[?25h"
          ]
        }
      ]
    },
    {
      "cell_type": "code",
      "source": [
        "# data management\n",
        "import numpy as np                   # for linear algebra\n",
        "import pandas as pd                  # for tabular data manipulation and processing\n",
        "import category_encoders             # for categorical encoding\n",
        "from skimage import io               # for input/output processing\n",
        "\n",
        "# machine learning\n",
        "import sklearn                       # for data prep and classical ML\n",
        "import tensorflow as tf              # for deep learning\n",
        "from tensorflow import keras         # for deep learning\n",
        "\n",
        "# data visualization and graphics\n",
        "import matplotlib.pyplot as plt      # for visualization fundamentals\n",
        "import seaborn as sns                # for pretty visualizations\n",
        "sns.set_palette(\"magma\")\n",
        "import cv2                           # for image manipulation\n",
        "\n",
        "# misc\n",
        "from tqdm.notebook import tqdm       # for progress bars\n",
        "import math                          # for calculation\n",
        "import sys                           # for system manipulation\n",
        "import os                            # for file manipulation"
      ],
      "metadata": {
        "id": "6ve0w9BHBwll"
      },
      "execution_count": 6,
      "outputs": []
    },
    {
      "cell_type": "markdown",
      "metadata": {
        "papermill": {
          "duration": 3.122724,
          "end_time": "2022-03-07T22:10:34.890412",
          "exception": false,
          "start_time": "2022-03-07T22:10:31.767688",
          "status": "completed"
        },
        "tags": [],
        "id": "f0cfc613"
      },
      "source": [
        "### Discrete Data"
      ]
    },
    {
      "cell_type": "code",
      "execution_count": null,
      "metadata": {
        "execution": {
          "iopub.execute_input": "2022-03-07T22:10:41.523589Z",
          "iopub.status.busy": "2022-03-07T22:10:41.522780Z",
          "iopub.status.idle": "2022-03-07T22:10:41.849492Z",
          "shell.execute_reply": "2022-03-07T22:10:41.848960Z",
          "shell.execute_reply.started": "2022-03-07T04:11:46.884053Z"
        },
        "papermill": {
          "duration": 3.630097,
          "end_time": "2022-03-07T22:10:41.849639",
          "exception": false,
          "start_time": "2022-03-07T22:10:38.219542",
          "status": "completed"
        },
        "tags": [],
        "id": "9d787750",
        "outputId": "09bfaa54-6709-40c2-e3a2-95c9be1a6937"
      },
      "outputs": [
        {
          "data": {
            "text/html": [
              "<div>\n",
              "<style scoped>\n",
              "    .dataframe tbody tr th:only-of-type {\n",
              "        vertical-align: middle;\n",
              "    }\n",
              "\n",
              "    .dataframe tbody tr th {\n",
              "        vertical-align: top;\n",
              "    }\n",
              "\n",
              "    .dataframe thead th {\n",
              "        text-align: right;\n",
              "    }\n",
              "</style>\n",
              "<table border=\"1\" class=\"dataframe\">\n",
              "  <thead>\n",
              "    <tr style=\"text-align: right;\">\n",
              "      <th></th>\n",
              "      <th>MSSubClass</th>\n",
              "      <th>MSZoning</th>\n",
              "      <th>LotArea</th>\n",
              "      <th>Street</th>\n",
              "      <th>LotShape</th>\n",
              "      <th>OverallCond</th>\n",
              "      <th>YearBuilt</th>\n",
              "      <th>YrSold</th>\n",
              "      <th>SaleCondition</th>\n",
              "      <th>SalePrice</th>\n",
              "    </tr>\n",
              "  </thead>\n",
              "  <tbody>\n",
              "    <tr>\n",
              "      <th>0</th>\n",
              "      <td>60</td>\n",
              "      <td>RL</td>\n",
              "      <td>8450</td>\n",
              "      <td>Pave</td>\n",
              "      <td>Reg</td>\n",
              "      <td>5</td>\n",
              "      <td>2003</td>\n",
              "      <td>2008</td>\n",
              "      <td>Normal</td>\n",
              "      <td>208500</td>\n",
              "    </tr>\n",
              "    <tr>\n",
              "      <th>1</th>\n",
              "      <td>20</td>\n",
              "      <td>RL</td>\n",
              "      <td>9600</td>\n",
              "      <td>Pave</td>\n",
              "      <td>Reg</td>\n",
              "      <td>8</td>\n",
              "      <td>1976</td>\n",
              "      <td>2007</td>\n",
              "      <td>Normal</td>\n",
              "      <td>181500</td>\n",
              "    </tr>\n",
              "    <tr>\n",
              "      <th>2</th>\n",
              "      <td>60</td>\n",
              "      <td>RL</td>\n",
              "      <td>11250</td>\n",
              "      <td>Pave</td>\n",
              "      <td>IR1</td>\n",
              "      <td>5</td>\n",
              "      <td>2001</td>\n",
              "      <td>2008</td>\n",
              "      <td>Normal</td>\n",
              "      <td>223500</td>\n",
              "    </tr>\n",
              "    <tr>\n",
              "      <th>3</th>\n",
              "      <td>70</td>\n",
              "      <td>RL</td>\n",
              "      <td>9550</td>\n",
              "      <td>Pave</td>\n",
              "      <td>IR1</td>\n",
              "      <td>5</td>\n",
              "      <td>1915</td>\n",
              "      <td>2006</td>\n",
              "      <td>Abnorml</td>\n",
              "      <td>140000</td>\n",
              "    </tr>\n",
              "    <tr>\n",
              "      <th>4</th>\n",
              "      <td>60</td>\n",
              "      <td>RL</td>\n",
              "      <td>14260</td>\n",
              "      <td>Pave</td>\n",
              "      <td>IR1</td>\n",
              "      <td>5</td>\n",
              "      <td>2000</td>\n",
              "      <td>2008</td>\n",
              "      <td>Normal</td>\n",
              "      <td>250000</td>\n",
              "    </tr>\n",
              "    <tr>\n",
              "      <th>...</th>\n",
              "      <td>...</td>\n",
              "      <td>...</td>\n",
              "      <td>...</td>\n",
              "      <td>...</td>\n",
              "      <td>...</td>\n",
              "      <td>...</td>\n",
              "      <td>...</td>\n",
              "      <td>...</td>\n",
              "      <td>...</td>\n",
              "      <td>...</td>\n",
              "    </tr>\n",
              "    <tr>\n",
              "      <th>1455</th>\n",
              "      <td>60</td>\n",
              "      <td>RL</td>\n",
              "      <td>7917</td>\n",
              "      <td>Pave</td>\n",
              "      <td>Reg</td>\n",
              "      <td>5</td>\n",
              "      <td>1999</td>\n",
              "      <td>2007</td>\n",
              "      <td>Normal</td>\n",
              "      <td>175000</td>\n",
              "    </tr>\n",
              "    <tr>\n",
              "      <th>1456</th>\n",
              "      <td>20</td>\n",
              "      <td>RL</td>\n",
              "      <td>13175</td>\n",
              "      <td>Pave</td>\n",
              "      <td>Reg</td>\n",
              "      <td>6</td>\n",
              "      <td>1978</td>\n",
              "      <td>2010</td>\n",
              "      <td>Normal</td>\n",
              "      <td>210000</td>\n",
              "    </tr>\n",
              "    <tr>\n",
              "      <th>1457</th>\n",
              "      <td>70</td>\n",
              "      <td>RL</td>\n",
              "      <td>9042</td>\n",
              "      <td>Pave</td>\n",
              "      <td>Reg</td>\n",
              "      <td>9</td>\n",
              "      <td>1941</td>\n",
              "      <td>2010</td>\n",
              "      <td>Normal</td>\n",
              "      <td>266500</td>\n",
              "    </tr>\n",
              "    <tr>\n",
              "      <th>1458</th>\n",
              "      <td>20</td>\n",
              "      <td>RL</td>\n",
              "      <td>9717</td>\n",
              "      <td>Pave</td>\n",
              "      <td>Reg</td>\n",
              "      <td>6</td>\n",
              "      <td>1950</td>\n",
              "      <td>2010</td>\n",
              "      <td>Normal</td>\n",
              "      <td>142125</td>\n",
              "    </tr>\n",
              "    <tr>\n",
              "      <th>1459</th>\n",
              "      <td>20</td>\n",
              "      <td>RL</td>\n",
              "      <td>9937</td>\n",
              "      <td>Pave</td>\n",
              "      <td>Reg</td>\n",
              "      <td>6</td>\n",
              "      <td>1965</td>\n",
              "      <td>2008</td>\n",
              "      <td>Normal</td>\n",
              "      <td>147500</td>\n",
              "    </tr>\n",
              "  </tbody>\n",
              "</table>\n",
              "<p>1460 rows × 10 columns</p>\n",
              "</div>"
            ],
            "text/plain": [
              "      MSSubClass MSZoning  LotArea Street LotShape  OverallCond  YearBuilt  \\\n",
              "0             60       RL     8450   Pave      Reg            5       2003   \n",
              "1             20       RL     9600   Pave      Reg            8       1976   \n",
              "2             60       RL    11250   Pave      IR1            5       2001   \n",
              "3             70       RL     9550   Pave      IR1            5       1915   \n",
              "4             60       RL    14260   Pave      IR1            5       2000   \n",
              "...          ...      ...      ...    ...      ...          ...        ...   \n",
              "1455          60       RL     7917   Pave      Reg            5       1999   \n",
              "1456          20       RL    13175   Pave      Reg            6       1978   \n",
              "1457          70       RL     9042   Pave      Reg            9       1941   \n",
              "1458          20       RL     9717   Pave      Reg            6       1950   \n",
              "1459          20       RL     9937   Pave      Reg            6       1965   \n",
              "\n",
              "      YrSold SaleCondition  SalePrice  \n",
              "0       2008        Normal     208500  \n",
              "1       2007        Normal     181500  \n",
              "2       2008        Normal     223500  \n",
              "3       2006       Abnorml     140000  \n",
              "4       2008        Normal     250000  \n",
              "...      ...           ...        ...  \n",
              "1455    2007        Normal     175000  \n",
              "1456    2010        Normal     210000  \n",
              "1457    2010        Normal     266500  \n",
              "1458    2010        Normal     142125  \n",
              "1459    2008        Normal     147500  \n",
              "\n",
              "[1460 rows x 10 columns]"
            ]
          },
          "execution_count": 36,
          "metadata": {},
          "output_type": "execute_result"
        }
      ],
      "source": [
        "df = pd.read_csv('https://raw.githubusercontent.com/hjhuney/Data/master/AmesHousing/train.csv')\n",
        "df = df.dropna(axis=1, how='any')\n",
        "df = df[['MSSubClass', 'MSZoning', 'LotArea', 'Street',\n",
        "         'LotShape', 'OverallCond', 'YearBuilt', 'YrSold',\n",
        "         'SaleCondition', 'SalePrice']]\n",
        "df = df.dropna()\n",
        "df"
      ]
    },
    {
      "cell_type": "markdown",
      "metadata": {
        "papermill": {
          "duration": 3.107278,
          "end_time": "2022-03-07T22:10:48.092626",
          "exception": false,
          "start_time": "2022-03-07T22:10:44.985348",
          "status": "completed"
        },
        "tags": [],
        "id": "99f06f10"
      },
      "source": [
        "#### Label Encoding"
      ]
    },
    {
      "cell_type": "code",
      "execution_count": null,
      "metadata": {
        "execution": {
          "iopub.execute_input": "2022-03-07T22:10:54.639458Z",
          "iopub.status.busy": "2022-03-07T22:10:54.638870Z",
          "iopub.status.idle": "2022-03-07T22:10:54.643293Z",
          "shell.execute_reply": "2022-03-07T22:10:54.642847Z",
          "shell.execute_reply.started": "2022-03-07T04:12:13.639382Z"
        },
        "papermill": {
          "duration": 3.118845,
          "end_time": "2022-03-07T22:10:54.643424",
          "exception": false,
          "start_time": "2022-03-07T22:10:51.524579",
          "status": "completed"
        },
        "tags": [],
        "id": "6b3f475d",
        "outputId": "808aaa48-46d8-4eb3-f51f-5b2e0dbfc826"
      },
      "outputs": [
        {
          "name": "stdout",
          "output_type": "stream",
          "text": [
            "Original Array: ['Reg' 'Reg' 'IR1' ... 'Reg' 'Reg' 'Reg']\n",
            "Encoded Array:  [3 3 0 ... 3 3 3]\n"
          ]
        }
      ],
      "source": [
        "def label_encoding(arr):\n",
        "    unique = np.unique(arr)\n",
        "    mapping = {elem:index for index, elem in enumerate(unique)}\n",
        "    return np.array([mapping[elem] for elem in arr])\n",
        "\n",
        "lot_shape = np.array(df['LotShape'])\n",
        "encoded = label_encoding(lot_shape)\n",
        "\n",
        "print(f'Original Array: {lot_shape}')\n",
        "print(f'Encoded Array:  {encoded}')"
      ]
    },
    {
      "cell_type": "code",
      "execution_count": null,
      "metadata": {
        "execution": {
          "iopub.execute_input": "2022-03-07T22:11:02.403977Z",
          "iopub.status.busy": "2022-03-07T22:11:02.403248Z",
          "iopub.status.idle": "2022-03-07T22:11:02.431126Z",
          "shell.execute_reply": "2022-03-07T22:11:02.431687Z",
          "shell.execute_reply.started": "2022-03-07T04:12:39.341183Z"
        },
        "papermill": {
          "duration": 3.915164,
          "end_time": "2022-03-07T22:11:02.431837",
          "exception": false,
          "start_time": "2022-03-07T22:10:58.516673",
          "status": "completed"
        },
        "tags": [],
        "id": "a0adb92b",
        "outputId": "e7a1c2bd-e424-4a06-fbc5-476edc5a63b8"
      },
      "outputs": [
        {
          "name": "stdout",
          "output_type": "stream",
          "text": [
            "Original Array: ['Reg' 'Reg' 'IR1' ... 'Reg' 'Reg' 'Reg']\n",
            "Encoded Array:  [3 3 0 ... 3 3 3]\n"
          ]
        }
      ],
      "source": [
        "from sklearn.preprocessing import LabelEncoder\n",
        "encoder = LabelEncoder()\n",
        "encoded = encoder.fit_transform(df['LotShape'])\n",
        "\n",
        "print(f'Original Array: {lot_shape}')\n",
        "print(f'Encoded Array:  {encoded}')"
      ]
    },
    {
      "cell_type": "markdown",
      "metadata": {
        "papermill": {
          "duration": 3.117472,
          "end_time": "2022-03-07T22:11:08.680257",
          "exception": false,
          "start_time": "2022-03-07T22:11:05.562785",
          "status": "completed"
        },
        "tags": [],
        "id": "b7905729"
      },
      "source": [
        "#### One-Hot Encoding"
      ]
    },
    {
      "cell_type": "code",
      "execution_count": null,
      "metadata": {
        "execution": {
          "iopub.execute_input": "2022-03-07T22:11:15.642016Z",
          "iopub.status.busy": "2022-03-07T22:11:15.641118Z",
          "iopub.status.idle": "2022-03-07T22:11:15.644560Z",
          "shell.execute_reply": "2022-03-07T22:11:15.645161Z",
          "shell.execute_reply.started": "2022-03-07T04:12:58.269662Z"
        },
        "papermill": {
          "duration": 3.159061,
          "end_time": "2022-03-07T22:11:15.645346",
          "exception": false,
          "start_time": "2022-03-07T22:11:12.486285",
          "status": "completed"
        },
        "tags": [],
        "id": "d4bf638b",
        "outputId": "9275397a-01fc-45c4-9526-ec757b923484"
      },
      "outputs": [
        {
          "name": "stdout",
          "output_type": "stream",
          "text": [
            "Original Array: ['Reg' 'Reg' 'IR1' ... 'Reg' 'Reg' 'Reg']\n",
            "Encoded Array: \n",
            "[[0. 0. 0. 1.]\n",
            " [0. 0. 0. 1.]\n",
            " [1. 0. 0. 0.]\n",
            " ...\n",
            " [0. 0. 0. 1.]\n",
            " [0. 0. 0. 1.]\n",
            " [0. 0. 0. 1.]]\n"
          ]
        }
      ],
      "source": [
        "def one_hot_encoding(arr):\n",
        "    labels = label_encoding(arr)\n",
        "    encoded = np.zeros((len(arr), len(np.unique(arr))))\n",
        "    for i in range(len(arr)):\n",
        "        encoded[i][labels[i]] = 1\n",
        "    return encoded\n",
        "\n",
        "lot_shape = np.array(df['LotShape'])\n",
        "encoded = one_hot_encoding(lot_shape)\n",
        "\n",
        "print(f'Original Array: {lot_shape}')\n",
        "print(f'Encoded Array: \\n{encoded}')"
      ]
    },
    {
      "cell_type": "code",
      "execution_count": null,
      "metadata": {
        "execution": {
          "iopub.execute_input": "2022-03-07T22:11:21.855050Z",
          "iopub.status.busy": "2022-03-07T22:11:21.854504Z",
          "iopub.status.idle": "2022-03-07T22:11:21.857649Z",
          "shell.execute_reply": "2022-03-07T22:11:21.858013Z",
          "shell.execute_reply.started": "2022-03-07T04:13:44.344212Z"
        },
        "papermill": {
          "duration": 3.1545,
          "end_time": "2022-03-07T22:11:21.858171",
          "exception": false,
          "start_time": "2022-03-07T22:11:18.703671",
          "status": "completed"
        },
        "tags": [],
        "id": "064e52b5",
        "outputId": "7d066bd5-41d4-47ac-a648-78b82ce13322"
      },
      "outputs": [
        {
          "data": {
            "text/html": [
              "<div>\n",
              "<style scoped>\n",
              "    .dataframe tbody tr th:only-of-type {\n",
              "        vertical-align: middle;\n",
              "    }\n",
              "\n",
              "    .dataframe tbody tr th {\n",
              "        vertical-align: top;\n",
              "    }\n",
              "\n",
              "    .dataframe thead th {\n",
              "        text-align: right;\n",
              "    }\n",
              "</style>\n",
              "<table border=\"1\" class=\"dataframe\">\n",
              "  <thead>\n",
              "    <tr style=\"text-align: right;\">\n",
              "      <th></th>\n",
              "      <th>IR1</th>\n",
              "      <th>IR2</th>\n",
              "      <th>IR3</th>\n",
              "      <th>Reg</th>\n",
              "    </tr>\n",
              "  </thead>\n",
              "  <tbody>\n",
              "    <tr>\n",
              "      <th>0</th>\n",
              "      <td>0</td>\n",
              "      <td>0</td>\n",
              "      <td>0</td>\n",
              "      <td>1</td>\n",
              "    </tr>\n",
              "    <tr>\n",
              "      <th>1</th>\n",
              "      <td>0</td>\n",
              "      <td>0</td>\n",
              "      <td>0</td>\n",
              "      <td>1</td>\n",
              "    </tr>\n",
              "    <tr>\n",
              "      <th>2</th>\n",
              "      <td>1</td>\n",
              "      <td>0</td>\n",
              "      <td>0</td>\n",
              "      <td>0</td>\n",
              "    </tr>\n",
              "    <tr>\n",
              "      <th>3</th>\n",
              "      <td>1</td>\n",
              "      <td>0</td>\n",
              "      <td>0</td>\n",
              "      <td>0</td>\n",
              "    </tr>\n",
              "    <tr>\n",
              "      <th>4</th>\n",
              "      <td>1</td>\n",
              "      <td>0</td>\n",
              "      <td>0</td>\n",
              "      <td>0</td>\n",
              "    </tr>\n",
              "    <tr>\n",
              "      <th>...</th>\n",
              "      <td>...</td>\n",
              "      <td>...</td>\n",
              "      <td>...</td>\n",
              "      <td>...</td>\n",
              "    </tr>\n",
              "    <tr>\n",
              "      <th>1455</th>\n",
              "      <td>0</td>\n",
              "      <td>0</td>\n",
              "      <td>0</td>\n",
              "      <td>1</td>\n",
              "    </tr>\n",
              "    <tr>\n",
              "      <th>1456</th>\n",
              "      <td>0</td>\n",
              "      <td>0</td>\n",
              "      <td>0</td>\n",
              "      <td>1</td>\n",
              "    </tr>\n",
              "    <tr>\n",
              "      <th>1457</th>\n",
              "      <td>0</td>\n",
              "      <td>0</td>\n",
              "      <td>0</td>\n",
              "      <td>1</td>\n",
              "    </tr>\n",
              "    <tr>\n",
              "      <th>1458</th>\n",
              "      <td>0</td>\n",
              "      <td>0</td>\n",
              "      <td>0</td>\n",
              "      <td>1</td>\n",
              "    </tr>\n",
              "    <tr>\n",
              "      <th>1459</th>\n",
              "      <td>0</td>\n",
              "      <td>0</td>\n",
              "      <td>0</td>\n",
              "      <td>1</td>\n",
              "    </tr>\n",
              "  </tbody>\n",
              "</table>\n",
              "<p>1460 rows × 4 columns</p>\n",
              "</div>"
            ],
            "text/plain": [
              "      IR1  IR2  IR3  Reg\n",
              "0       0    0    0    1\n",
              "1       0    0    0    1\n",
              "2       1    0    0    0\n",
              "3       1    0    0    0\n",
              "4       1    0    0    0\n",
              "...   ...  ...  ...  ...\n",
              "1455    0    0    0    1\n",
              "1456    0    0    0    1\n",
              "1457    0    0    0    1\n",
              "1458    0    0    0    1\n",
              "1459    0    0    0    1\n",
              "\n",
              "[1460 rows x 4 columns]"
            ]
          },
          "execution_count": 40,
          "metadata": {},
          "output_type": "execute_result"
        }
      ],
      "source": [
        "pd.get_dummies(df['LotShape']) "
      ]
    },
    {
      "cell_type": "markdown",
      "metadata": {
        "papermill": {
          "duration": 3.124855,
          "end_time": "2022-03-07T22:11:28.411875",
          "exception": false,
          "start_time": "2022-03-07T22:11:25.287020",
          "status": "completed"
        },
        "tags": [],
        "id": "9476cc4e"
      },
      "source": [
        "#### Binary Encoding"
      ]
    },
    {
      "cell_type": "code",
      "execution_count": null,
      "metadata": {
        "execution": {
          "iopub.execute_input": "2022-03-07T22:11:35.370645Z",
          "iopub.status.busy": "2022-03-07T22:11:35.369778Z",
          "iopub.status.idle": "2022-03-07T22:11:35.372464Z",
          "shell.execute_reply": "2022-03-07T22:11:35.371964Z",
          "shell.execute_reply.started": "2022-03-07T04:14:14.217216Z"
        },
        "papermill": {
          "duration": 3.820319,
          "end_time": "2022-03-07T22:11:35.372591",
          "exception": false,
          "start_time": "2022-03-07T22:11:31.552272",
          "status": "completed"
        },
        "tags": [],
        "id": "773e9c54"
      },
      "outputs": [],
      "source": [
        "def binary_encoding(arr):\n",
        "    labels = label_encoding(arr)\n",
        "    max_place = int(np.floor(np.math.log(np.max(labels), 2)))\n",
        "    encoded = np.zeros((len(arr), max_place+1))\n",
        "    for i in range(len(arr)):\n",
        "        curr_val = labels[i]\n",
        "        for curr_place in range(max_place, -1, -1):\n",
        "            encoded[i][curr_place] = curr_val // (2 ** curr_place)\n",
        "            curr_val = curr_val % (2 ** curr_place)\n",
        "    return encoded"
      ]
    },
    {
      "cell_type": "code",
      "execution_count": null,
      "metadata": {
        "execution": {
          "iopub.execute_input": "2022-03-07T22:11:41.724775Z",
          "iopub.status.busy": "2022-03-07T22:11:41.723962Z",
          "iopub.status.idle": "2022-03-07T22:11:41.727020Z",
          "shell.execute_reply": "2022-03-07T22:11:41.727459Z",
          "shell.execute_reply.started": "2022-03-07T04:14:17.86273Z"
        },
        "papermill": {
          "duration": 3.137967,
          "end_time": "2022-03-07T22:11:41.727601",
          "exception": false,
          "start_time": "2022-03-07T22:11:38.589634",
          "status": "completed"
        },
        "tags": [],
        "id": "213212bb",
        "outputId": "168fa6d9-230e-4fd6-e532-f02e238a4e08"
      },
      "outputs": [
        {
          "data": {
            "text/plain": [
              "array([[0., 0., 0.],\n",
              "       [1., 0., 0.],\n",
              "       [0., 1., 0.],\n",
              "       [0., 1., 0.],\n",
              "       [1., 1., 0.],\n",
              "       [1., 1., 0.],\n",
              "       [1., 1., 0.],\n",
              "       [0., 0., 1.]])"
            ]
          },
          "execution_count": 42,
          "metadata": {},
          "output_type": "execute_result"
        }
      ],
      "source": [
        "binary_encoding(['a','b','c','c','d','d','d','e'] )"
      ]
    },
    {
      "cell_type": "code",
      "execution_count": null,
      "metadata": {
        "execution": {
          "iopub.execute_input": "2022-03-07T22:11:48.232658Z",
          "iopub.status.busy": "2022-03-07T22:11:48.231829Z",
          "iopub.status.idle": "2022-03-07T22:11:48.244769Z",
          "shell.execute_reply": "2022-03-07T22:11:48.245272Z",
          "shell.execute_reply.started": "2022-03-07T04:14:23.081748Z"
        },
        "papermill": {
          "duration": 3.159479,
          "end_time": "2022-03-07T22:11:48.245438",
          "exception": false,
          "start_time": "2022-03-07T22:11:45.085959",
          "status": "completed"
        },
        "tags": [],
        "id": "4e2ae5b2",
        "outputId": "301a5cad-ba7d-40c8-86f5-e7c3f0c83fcc"
      },
      "outputs": [
        {
          "data": {
            "text/html": [
              "<div>\n",
              "<style scoped>\n",
              "    .dataframe tbody tr th:only-of-type {\n",
              "        vertical-align: middle;\n",
              "    }\n",
              "\n",
              "    .dataframe tbody tr th {\n",
              "        vertical-align: top;\n",
              "    }\n",
              "\n",
              "    .dataframe thead th {\n",
              "        text-align: right;\n",
              "    }\n",
              "</style>\n",
              "<table border=\"1\" class=\"dataframe\">\n",
              "  <thead>\n",
              "    <tr style=\"text-align: right;\">\n",
              "      <th></th>\n",
              "      <th>LotShape_0</th>\n",
              "      <th>LotShape_1</th>\n",
              "      <th>LotShape_2</th>\n",
              "    </tr>\n",
              "  </thead>\n",
              "  <tbody>\n",
              "    <tr>\n",
              "      <th>0</th>\n",
              "      <td>0</td>\n",
              "      <td>0</td>\n",
              "      <td>1</td>\n",
              "    </tr>\n",
              "    <tr>\n",
              "      <th>1</th>\n",
              "      <td>0</td>\n",
              "      <td>0</td>\n",
              "      <td>1</td>\n",
              "    </tr>\n",
              "    <tr>\n",
              "      <th>2</th>\n",
              "      <td>0</td>\n",
              "      <td>1</td>\n",
              "      <td>0</td>\n",
              "    </tr>\n",
              "    <tr>\n",
              "      <th>3</th>\n",
              "      <td>0</td>\n",
              "      <td>1</td>\n",
              "      <td>0</td>\n",
              "    </tr>\n",
              "    <tr>\n",
              "      <th>4</th>\n",
              "      <td>0</td>\n",
              "      <td>1</td>\n",
              "      <td>0</td>\n",
              "    </tr>\n",
              "    <tr>\n",
              "      <th>...</th>\n",
              "      <td>...</td>\n",
              "      <td>...</td>\n",
              "      <td>...</td>\n",
              "    </tr>\n",
              "    <tr>\n",
              "      <th>1455</th>\n",
              "      <td>0</td>\n",
              "      <td>0</td>\n",
              "      <td>1</td>\n",
              "    </tr>\n",
              "    <tr>\n",
              "      <th>1456</th>\n",
              "      <td>0</td>\n",
              "      <td>0</td>\n",
              "      <td>1</td>\n",
              "    </tr>\n",
              "    <tr>\n",
              "      <th>1457</th>\n",
              "      <td>0</td>\n",
              "      <td>0</td>\n",
              "      <td>1</td>\n",
              "    </tr>\n",
              "    <tr>\n",
              "      <th>1458</th>\n",
              "      <td>0</td>\n",
              "      <td>0</td>\n",
              "      <td>1</td>\n",
              "    </tr>\n",
              "    <tr>\n",
              "      <th>1459</th>\n",
              "      <td>0</td>\n",
              "      <td>0</td>\n",
              "      <td>1</td>\n",
              "    </tr>\n",
              "  </tbody>\n",
              "</table>\n",
              "<p>1460 rows × 3 columns</p>\n",
              "</div>"
            ],
            "text/plain": [
              "      LotShape_0  LotShape_1  LotShape_2\n",
              "0              0           0           1\n",
              "1              0           0           1\n",
              "2              0           1           0\n",
              "3              0           1           0\n",
              "4              0           1           0\n",
              "...          ...         ...         ...\n",
              "1455           0           0           1\n",
              "1456           0           0           1\n",
              "1457           0           0           1\n",
              "1458           0           0           1\n",
              "1459           0           0           1\n",
              "\n",
              "[1460 rows x 3 columns]"
            ]
          },
          "execution_count": 43,
          "metadata": {},
          "output_type": "execute_result"
        }
      ],
      "source": [
        "from category_encoders.binary import BinaryEncoder\n",
        "encoder = BinaryEncoder()\n",
        "encoded = encoder.fit_transform(df['LotShape'])\n",
        "encoded"
      ]
    },
    {
      "cell_type": "markdown",
      "metadata": {
        "papermill": {
          "duration": 3.159848,
          "end_time": "2022-03-07T22:11:54.552007",
          "exception": false,
          "start_time": "2022-03-07T22:11:51.392159",
          "status": "completed"
        },
        "tags": [],
        "id": "7827485e"
      },
      "source": [
        "#### Frequency Encoding"
      ]
    },
    {
      "cell_type": "code",
      "execution_count": null,
      "metadata": {
        "execution": {
          "iopub.execute_input": "2022-03-07T22:12:01.140636Z",
          "iopub.status.busy": "2022-03-07T22:12:01.139645Z",
          "iopub.status.idle": "2022-03-07T22:12:01.142185Z",
          "shell.execute_reply": "2022-03-07T22:12:01.141761Z",
          "shell.execute_reply.started": "2022-03-07T04:14:41.545281Z"
        },
        "papermill": {
          "duration": 3.158889,
          "end_time": "2022-03-07T22:12:01.142309",
          "exception": false,
          "start_time": "2022-03-07T22:11:57.983420",
          "status": "completed"
        },
        "tags": [],
        "id": "32c1a4fa"
      },
      "outputs": [],
      "source": [
        "def frequency_encoding(arr):\n",
        "    labels, counts = np.unique(arr, return_counts=True)\n",
        "    counts = counts / np.sum(counts)\n",
        "    mapping_dic = {labels[i]:counts[i] for i in range(len(counts))}\n",
        "    mapping = lambda label:mapping_dic[label]\n",
        "    return np.vectorize(mapping)(arr)"
      ]
    },
    {
      "cell_type": "code",
      "execution_count": null,
      "metadata": {
        "execution": {
          "iopub.execute_input": "2022-03-07T22:12:08.180812Z",
          "iopub.status.busy": "2022-03-07T22:12:08.179224Z",
          "iopub.status.idle": "2022-03-07T22:12:08.182848Z",
          "shell.execute_reply": "2022-03-07T22:12:08.182412Z",
          "shell.execute_reply.started": "2022-03-07T04:14:45.256242Z"
        },
        "papermill": {
          "duration": 3.882006,
          "end_time": "2022-03-07T22:12:08.182971",
          "exception": false,
          "start_time": "2022-03-07T22:12:04.300965",
          "status": "completed"
        },
        "tags": [],
        "id": "fd8fb7dd",
        "outputId": "5a98af57-b287-4f60-a086-d099b3a1055b"
      },
      "outputs": [
        {
          "data": {
            "text/plain": [
              "array([0.63, 0.63, 0.33, ..., 0.63, 0.63, 0.63])"
            ]
          },
          "execution_count": 45,
          "metadata": {},
          "output_type": "execute_result"
        }
      ],
      "source": [
        "np.round(frequency_encoding(np.array(df['LotShape'])), 2)"
      ]
    },
    {
      "cell_type": "code",
      "execution_count": null,
      "metadata": {
        "execution": {
          "iopub.execute_input": "2022-03-07T22:12:14.453492Z",
          "iopub.status.busy": "2022-03-07T22:12:14.452496Z",
          "iopub.status.idle": "2022-03-07T22:12:14.464207Z",
          "shell.execute_reply": "2022-03-07T22:12:14.464691Z",
          "shell.execute_reply.started": "2022-03-07T04:15:02.077449Z"
        },
        "papermill": {
          "duration": 3.143074,
          "end_time": "2022-03-07T22:12:14.464856",
          "exception": false,
          "start_time": "2022-03-07T22:12:11.321782",
          "status": "completed"
        },
        "tags": [],
        "id": "e7731214",
        "outputId": "65f1b233-2cb8-42b7-9b54-3d9b4897a6fb"
      },
      "outputs": [
        {
          "data": {
            "text/html": [
              "<div>\n",
              "<style scoped>\n",
              "    .dataframe tbody tr th:only-of-type {\n",
              "        vertical-align: middle;\n",
              "    }\n",
              "\n",
              "    .dataframe tbody tr th {\n",
              "        vertical-align: top;\n",
              "    }\n",
              "\n",
              "    .dataframe thead th {\n",
              "        text-align: right;\n",
              "    }\n",
              "</style>\n",
              "<table border=\"1\" class=\"dataframe\">\n",
              "  <thead>\n",
              "    <tr style=\"text-align: right;\">\n",
              "      <th></th>\n",
              "      <th>LotShape</th>\n",
              "    </tr>\n",
              "  </thead>\n",
              "  <tbody>\n",
              "    <tr>\n",
              "      <th>0</th>\n",
              "      <td>925</td>\n",
              "    </tr>\n",
              "    <tr>\n",
              "      <th>1</th>\n",
              "      <td>925</td>\n",
              "    </tr>\n",
              "    <tr>\n",
              "      <th>2</th>\n",
              "      <td>484</td>\n",
              "    </tr>\n",
              "    <tr>\n",
              "      <th>3</th>\n",
              "      <td>484</td>\n",
              "    </tr>\n",
              "    <tr>\n",
              "      <th>4</th>\n",
              "      <td>484</td>\n",
              "    </tr>\n",
              "    <tr>\n",
              "      <th>...</th>\n",
              "      <td>...</td>\n",
              "    </tr>\n",
              "    <tr>\n",
              "      <th>1455</th>\n",
              "      <td>925</td>\n",
              "    </tr>\n",
              "    <tr>\n",
              "      <th>1456</th>\n",
              "      <td>925</td>\n",
              "    </tr>\n",
              "    <tr>\n",
              "      <th>1457</th>\n",
              "      <td>925</td>\n",
              "    </tr>\n",
              "    <tr>\n",
              "      <th>1458</th>\n",
              "      <td>925</td>\n",
              "    </tr>\n",
              "    <tr>\n",
              "      <th>1459</th>\n",
              "      <td>925</td>\n",
              "    </tr>\n",
              "  </tbody>\n",
              "</table>\n",
              "<p>1460 rows × 1 columns</p>\n",
              "</div>"
            ],
            "text/plain": [
              "      LotShape\n",
              "0          925\n",
              "1          925\n",
              "2          484\n",
              "3          484\n",
              "4          484\n",
              "...        ...\n",
              "1455       925\n",
              "1456       925\n",
              "1457       925\n",
              "1458       925\n",
              "1459       925\n",
              "\n",
              "[1460 rows x 1 columns]"
            ]
          },
          "execution_count": 46,
          "metadata": {},
          "output_type": "execute_result"
        }
      ],
      "source": [
        "from category_encoders.count import CountEncoder\n",
        "encoder = CountEncoder()\n",
        "encoder.fit_transform(df['LotShape'])"
      ]
    },
    {
      "cell_type": "markdown",
      "metadata": {
        "papermill": {
          "duration": 3.118707,
          "end_time": "2022-03-07T22:12:20.966423",
          "exception": false,
          "start_time": "2022-03-07T22:12:17.847716",
          "status": "completed"
        },
        "tags": [],
        "id": "b26d7ec5"
      },
      "source": [
        "#### Target Encoding"
      ]
    },
    {
      "cell_type": "code",
      "execution_count": null,
      "metadata": {
        "execution": {
          "iopub.execute_input": "2022-03-07T22:12:27.217221Z",
          "iopub.status.busy": "2022-03-07T22:12:27.216310Z",
          "iopub.status.idle": "2022-03-07T22:12:27.217903Z",
          "shell.execute_reply": "2022-03-07T22:12:27.218476Z",
          "shell.execute_reply.started": "2022-03-07T04:15:18.752632Z"
        },
        "papermill": {
          "duration": 3.112596,
          "end_time": "2022-03-07T22:12:27.218626",
          "exception": false,
          "start_time": "2022-03-07T22:12:24.106030",
          "status": "completed"
        },
        "tags": [],
        "id": "495525c4"
      },
      "outputs": [],
      "source": [
        "def target_encoding(x, y, mode='mean'):\n",
        "    labels = np.unique(x)\n",
        "    func = np.mean if mode=='mean' else np.median\n",
        "    mapping_dic = {label:func(y[x==label]) for label in labels}\n",
        "    mapping = lambda label:mapping_dic[label]\n",
        "    return np.vectorize(mapping)(x)"
      ]
    },
    {
      "cell_type": "code",
      "execution_count": null,
      "metadata": {
        "execution": {
          "iopub.execute_input": "2022-03-07T22:12:33.752353Z",
          "iopub.status.busy": "2022-03-07T22:12:33.751495Z",
          "iopub.status.idle": "2022-03-07T22:12:33.757902Z",
          "shell.execute_reply": "2022-03-07T22:12:33.757461Z",
          "shell.execute_reply.started": "2022-03-07T04:15:21.3625Z"
        },
        "papermill": {
          "duration": 3.12437,
          "end_time": "2022-03-07T22:12:33.758016",
          "exception": false,
          "start_time": "2022-03-07T22:12:30.633646",
          "status": "completed"
        },
        "tags": [],
        "id": "3d9a5549",
        "outputId": "4dba5499-9f6f-4d2d-bfd9-36d040ebc15e"
      },
      "outputs": [
        {
          "data": {
            "text/plain": [
              "array([164754.82, 164754.82, 206101.67, ..., 164754.82, 164754.82,\n",
              "       164754.82])"
            ]
          },
          "execution_count": 48,
          "metadata": {},
          "output_type": "execute_result"
        }
      ],
      "source": [
        "np.round(target_encoding(df['LotShape'], df['SalePrice']), 2)"
      ]
    },
    {
      "cell_type": "code",
      "execution_count": null,
      "metadata": {
        "execution": {
          "iopub.execute_input": "2022-03-07T22:12:41.455900Z",
          "iopub.status.busy": "2022-03-07T22:12:41.446187Z",
          "iopub.status.idle": "2022-03-07T22:12:41.472496Z",
          "shell.execute_reply": "2022-03-07T22:12:41.472033Z",
          "shell.execute_reply.started": "2022-03-07T04:15:23.162538Z"
        },
        "papermill": {
          "duration": 3.994574,
          "end_time": "2022-03-07T22:12:41.472612",
          "exception": false,
          "start_time": "2022-03-07T22:12:37.478038",
          "status": "completed"
        },
        "tags": [],
        "id": "c7dd6584",
        "outputId": "ad787a43-775c-4449-d32d-7ed7d79b713e"
      },
      "outputs": [
        {
          "data": {
            "text/html": [
              "<div>\n",
              "<style scoped>\n",
              "    .dataframe tbody tr th:only-of-type {\n",
              "        vertical-align: middle;\n",
              "    }\n",
              "\n",
              "    .dataframe tbody tr th {\n",
              "        vertical-align: top;\n",
              "    }\n",
              "\n",
              "    .dataframe thead th {\n",
              "        text-align: right;\n",
              "    }\n",
              "</style>\n",
              "<table border=\"1\" class=\"dataframe\">\n",
              "  <thead>\n",
              "    <tr style=\"text-align: right;\">\n",
              "      <th></th>\n",
              "      <th>LotShape</th>\n",
              "    </tr>\n",
              "  </thead>\n",
              "  <tbody>\n",
              "    <tr>\n",
              "      <th>0</th>\n",
              "      <td>164754.818378</td>\n",
              "    </tr>\n",
              "    <tr>\n",
              "      <th>1</th>\n",
              "      <td>164754.818378</td>\n",
              "    </tr>\n",
              "    <tr>\n",
              "      <th>2</th>\n",
              "      <td>206101.665289</td>\n",
              "    </tr>\n",
              "    <tr>\n",
              "      <th>3</th>\n",
              "      <td>206101.665289</td>\n",
              "    </tr>\n",
              "    <tr>\n",
              "      <th>4</th>\n",
              "      <td>206101.665289</td>\n",
              "    </tr>\n",
              "    <tr>\n",
              "      <th>...</th>\n",
              "      <td>...</td>\n",
              "    </tr>\n",
              "    <tr>\n",
              "      <th>1455</th>\n",
              "      <td>164754.818378</td>\n",
              "    </tr>\n",
              "    <tr>\n",
              "      <th>1456</th>\n",
              "      <td>164754.818378</td>\n",
              "    </tr>\n",
              "    <tr>\n",
              "      <th>1457</th>\n",
              "      <td>164754.818378</td>\n",
              "    </tr>\n",
              "    <tr>\n",
              "      <th>1458</th>\n",
              "      <td>164754.818378</td>\n",
              "    </tr>\n",
              "    <tr>\n",
              "      <th>1459</th>\n",
              "      <td>164754.818378</td>\n",
              "    </tr>\n",
              "  </tbody>\n",
              "</table>\n",
              "<p>1460 rows × 1 columns</p>\n",
              "</div>"
            ],
            "text/plain": [
              "           LotShape\n",
              "0     164754.818378\n",
              "1     164754.818378\n",
              "2     206101.665289\n",
              "3     206101.665289\n",
              "4     206101.665289\n",
              "...             ...\n",
              "1455  164754.818378\n",
              "1456  164754.818378\n",
              "1457  164754.818378\n",
              "1458  164754.818378\n",
              "1459  164754.818378\n",
              "\n",
              "[1460 rows x 1 columns]"
            ]
          },
          "execution_count": 49,
          "metadata": {},
          "output_type": "execute_result"
        }
      ],
      "source": [
        "from category_encoders.target_encoder import TargetEncoder\n",
        "encoder = TargetEncoder()\n",
        "encoded = encoder.fit_transform(df['LotShape'], df['SalePrice'])\n",
        "encoded"
      ]
    },
    {
      "cell_type": "markdown",
      "metadata": {
        "papermill": {
          "duration": 3.128765,
          "end_time": "2022-03-07T22:12:47.725506",
          "exception": false,
          "start_time": "2022-03-07T22:12:44.596741",
          "status": "completed"
        },
        "tags": [],
        "id": "a3e6a424"
      },
      "source": [
        "#### Leave One Out Encoding"
      ]
    },
    {
      "cell_type": "code",
      "execution_count": null,
      "metadata": {
        "execution": {
          "iopub.execute_input": "2022-03-07T22:12:54.442755Z",
          "iopub.status.busy": "2022-03-07T22:12:54.441864Z",
          "iopub.status.idle": "2022-03-07T22:12:54.443800Z",
          "shell.execute_reply": "2022-03-07T22:12:54.444214Z",
          "shell.execute_reply.started": "2022-03-07T04:15:29.238909Z"
        },
        "papermill": {
          "duration": 3.141771,
          "end_time": "2022-03-07T22:12:54.444351",
          "exception": false,
          "start_time": "2022-03-07T22:12:51.302580",
          "status": "completed"
        },
        "tags": [],
        "id": "ef98ffd2"
      },
      "outputs": [],
      "source": [
        "def leave_one_out_encoding(x, y, mode='mean'):\n",
        "    labels = np.unique(x)\n",
        "    func = np.mean if mode=='mean' else np.median\n",
        "    encoded = []\n",
        "    for i in range(len(x)):\n",
        "        leftout = y[np.arange(len(y)) != i]\n",
        "        encoded.append(np.mean(leftout[x == x[i]]))\n",
        "    return np.array(encoded)"
      ]
    },
    {
      "cell_type": "code",
      "execution_count": null,
      "metadata": {
        "execution": {
          "iopub.execute_input": "2022-03-07T22:13:00.706486Z",
          "iopub.status.busy": "2022-03-07T22:13:00.705723Z",
          "iopub.status.idle": "2022-03-07T22:13:02.055259Z",
          "shell.execute_reply": "2022-03-07T22:13:02.054809Z",
          "shell.execute_reply.started": "2022-03-07T04:15:30.328804Z"
        },
        "papermill": {
          "duration": 4.474031,
          "end_time": "2022-03-07T22:13:02.055389",
          "exception": false,
          "start_time": "2022-03-07T22:12:57.581358",
          "status": "completed"
        },
        "tags": [],
        "id": "c8124641",
        "outputId": "9fb0804e-9c76-490b-f684-663b139ce02c"
      },
      "outputs": [
        {
          "data": {
            "text/plain": [
              "array([164707.47510823, 164736.69588745, 206065.64389234, ...,\n",
              "       164644.70454545, 164779.30952381, 164773.49242424])"
            ]
          },
          "execution_count": 51,
          "metadata": {},
          "output_type": "execute_result"
        }
      ],
      "source": [
        "leave_one_out_encoding(df['LotShape'], df['SalePrice'])"
      ]
    },
    {
      "cell_type": "code",
      "execution_count": null,
      "metadata": {
        "execution": {
          "iopub.execute_input": "2022-03-07T22:13:08.378291Z",
          "iopub.status.busy": "2022-03-07T22:13:08.375579Z",
          "iopub.status.idle": "2022-03-07T22:13:08.396491Z",
          "shell.execute_reply": "2022-03-07T22:13:08.397001Z",
          "shell.execute_reply.started": "2022-03-07T04:15:33.718876Z"
        },
        "papermill": {
          "duration": 3.204458,
          "end_time": "2022-03-07T22:13:08.397198",
          "exception": false,
          "start_time": "2022-03-07T22:13:05.192740",
          "status": "completed"
        },
        "tags": [],
        "id": "3f5b8816",
        "outputId": "c501d957-9481-4205-ac3e-253f3076f443"
      },
      "outputs": [
        {
          "data": {
            "text/html": [
              "<div>\n",
              "<style scoped>\n",
              "    .dataframe tbody tr th:only-of-type {\n",
              "        vertical-align: middle;\n",
              "    }\n",
              "\n",
              "    .dataframe tbody tr th {\n",
              "        vertical-align: top;\n",
              "    }\n",
              "\n",
              "    .dataframe thead th {\n",
              "        text-align: right;\n",
              "    }\n",
              "</style>\n",
              "<table border=\"1\" class=\"dataframe\">\n",
              "  <thead>\n",
              "    <tr style=\"text-align: right;\">\n",
              "      <th></th>\n",
              "      <th>LotShape</th>\n",
              "    </tr>\n",
              "  </thead>\n",
              "  <tbody>\n",
              "    <tr>\n",
              "      <th>0</th>\n",
              "      <td>164707.475108</td>\n",
              "    </tr>\n",
              "    <tr>\n",
              "      <th>1</th>\n",
              "      <td>164736.695887</td>\n",
              "    </tr>\n",
              "    <tr>\n",
              "      <th>2</th>\n",
              "      <td>206065.643892</td>\n",
              "    </tr>\n",
              "    <tr>\n",
              "      <th>3</th>\n",
              "      <td>206238.521739</td>\n",
              "    </tr>\n",
              "    <tr>\n",
              "      <th>4</th>\n",
              "      <td>206010.778468</td>\n",
              "    </tr>\n",
              "    <tr>\n",
              "      <th>...</th>\n",
              "      <td>...</td>\n",
              "    </tr>\n",
              "    <tr>\n",
              "      <th>1455</th>\n",
              "      <td>164743.730519</td>\n",
              "    </tr>\n",
              "    <tr>\n",
              "      <th>1456</th>\n",
              "      <td>164705.851732</td>\n",
              "    </tr>\n",
              "    <tr>\n",
              "      <th>1457</th>\n",
              "      <td>164644.704545</td>\n",
              "    </tr>\n",
              "    <tr>\n",
              "      <th>1458</th>\n",
              "      <td>164779.309524</td>\n",
              "    </tr>\n",
              "    <tr>\n",
              "      <th>1459</th>\n",
              "      <td>164773.492424</td>\n",
              "    </tr>\n",
              "  </tbody>\n",
              "</table>\n",
              "<p>1460 rows × 1 columns</p>\n",
              "</div>"
            ],
            "text/plain": [
              "           LotShape\n",
              "0     164707.475108\n",
              "1     164736.695887\n",
              "2     206065.643892\n",
              "3     206238.521739\n",
              "4     206010.778468\n",
              "...             ...\n",
              "1455  164743.730519\n",
              "1456  164705.851732\n",
              "1457  164644.704545\n",
              "1458  164779.309524\n",
              "1459  164773.492424\n",
              "\n",
              "[1460 rows x 1 columns]"
            ]
          },
          "execution_count": 52,
          "metadata": {},
          "output_type": "execute_result"
        }
      ],
      "source": [
        "from category_encoders.leave_one_out import LeaveOneOutEncoder\n",
        "encoder = LeaveOneOutEncoder ()\n",
        "encoded = encoder.fit_transform(df['LotShape'], df['SalePrice'])\n",
        "encoded"
      ]
    },
    {
      "cell_type": "markdown",
      "metadata": {
        "papermill": {
          "duration": 4.008416,
          "end_time": "2022-03-07T22:13:15.587605",
          "exception": false,
          "start_time": "2022-03-07T22:13:11.579189",
          "status": "completed"
        },
        "tags": [],
        "id": "42c5d34f"
      },
      "source": [
        "#### James-Stein Encoding"
      ]
    },
    {
      "cell_type": "code",
      "execution_count": null,
      "metadata": {
        "execution": {
          "iopub.execute_input": "2022-03-07T22:13:21.884998Z",
          "iopub.status.busy": "2022-03-07T22:13:21.881307Z",
          "iopub.status.idle": "2022-03-07T22:13:21.900306Z",
          "shell.execute_reply": "2022-03-07T22:13:21.900747Z",
          "shell.execute_reply.started": "2022-03-07T04:15:43.223215Z"
        },
        "papermill": {
          "duration": 3.162835,
          "end_time": "2022-03-07T22:13:21.900894",
          "exception": false,
          "start_time": "2022-03-07T22:13:18.738059",
          "status": "completed"
        },
        "tags": [],
        "id": "6caebde5",
        "outputId": "85cb5a5f-98a6-41e3-8b90-f6e4484719f7"
      },
      "outputs": [
        {
          "data": {
            "text/html": [
              "<div>\n",
              "<style scoped>\n",
              "    .dataframe tbody tr th:only-of-type {\n",
              "        vertical-align: middle;\n",
              "    }\n",
              "\n",
              "    .dataframe tbody tr th {\n",
              "        vertical-align: top;\n",
              "    }\n",
              "\n",
              "    .dataframe thead th {\n",
              "        text-align: right;\n",
              "    }\n",
              "</style>\n",
              "<table border=\"1\" class=\"dataframe\">\n",
              "  <thead>\n",
              "    <tr style=\"text-align: right;\">\n",
              "      <th></th>\n",
              "      <th>LotShape</th>\n",
              "    </tr>\n",
              "  </thead>\n",
              "  <tbody>\n",
              "    <tr>\n",
              "      <th>0</th>\n",
              "      <td>167097.685845</td>\n",
              "    </tr>\n",
              "    <tr>\n",
              "      <th>1</th>\n",
              "      <td>167097.685845</td>\n",
              "    </tr>\n",
              "    <tr>\n",
              "      <th>2</th>\n",
              "      <td>201579.625847</td>\n",
              "    </tr>\n",
              "    <tr>\n",
              "      <th>3</th>\n",
              "      <td>201579.625847</td>\n",
              "    </tr>\n",
              "    <tr>\n",
              "      <th>4</th>\n",
              "      <td>201579.625847</td>\n",
              "    </tr>\n",
              "    <tr>\n",
              "      <th>...</th>\n",
              "      <td>...</td>\n",
              "    </tr>\n",
              "    <tr>\n",
              "      <th>1455</th>\n",
              "      <td>167097.685845</td>\n",
              "    </tr>\n",
              "    <tr>\n",
              "      <th>1456</th>\n",
              "      <td>167097.685845</td>\n",
              "    </tr>\n",
              "    <tr>\n",
              "      <th>1457</th>\n",
              "      <td>167097.685845</td>\n",
              "    </tr>\n",
              "    <tr>\n",
              "      <th>1458</th>\n",
              "      <td>167097.685845</td>\n",
              "    </tr>\n",
              "    <tr>\n",
              "      <th>1459</th>\n",
              "      <td>167097.685845</td>\n",
              "    </tr>\n",
              "  </tbody>\n",
              "</table>\n",
              "<p>1460 rows × 1 columns</p>\n",
              "</div>"
            ],
            "text/plain": [
              "           LotShape\n",
              "0     167097.685845\n",
              "1     167097.685845\n",
              "2     201579.625847\n",
              "3     201579.625847\n",
              "4     201579.625847\n",
              "...             ...\n",
              "1455  167097.685845\n",
              "1456  167097.685845\n",
              "1457  167097.685845\n",
              "1458  167097.685845\n",
              "1459  167097.685845\n",
              "\n",
              "[1460 rows x 1 columns]"
            ]
          },
          "execution_count": 53,
          "metadata": {},
          "output_type": "execute_result"
        }
      ],
      "source": [
        "from category_encoders import JamesSteinEncoder\n",
        "encoder = JamesSteinEncoder()\n",
        "encoded = encoder.fit_transform(df['LotShape'], df['SalePrice'])\n",
        "encoded"
      ]
    },
    {
      "cell_type": "markdown",
      "metadata": {
        "papermill": {
          "duration": 3.140388,
          "end_time": "2022-03-07T22:13:28.751181",
          "exception": false,
          "start_time": "2022-03-07T22:13:25.610793",
          "status": "completed"
        },
        "tags": [],
        "id": "38883aae"
      },
      "source": [
        "#### WOE Encoder"
      ]
    },
    {
      "cell_type": "code",
      "execution_count": null,
      "metadata": {
        "execution": {
          "iopub.execute_input": "2022-03-07T22:13:35.213695Z",
          "iopub.status.busy": "2022-03-07T22:13:35.213066Z",
          "iopub.status.idle": "2022-03-07T22:13:35.235741Z",
          "shell.execute_reply": "2022-03-07T22:13:35.234881Z",
          "shell.execute_reply.started": "2022-03-07T04:16:10.709491Z"
        },
        "papermill": {
          "duration": 3.357959,
          "end_time": "2022-03-07T22:13:35.235857",
          "exception": false,
          "start_time": "2022-03-07T22:13:31.877898",
          "status": "completed"
        },
        "tags": [],
        "id": "00806ca2",
        "outputId": "2f2d2648-50fd-4bd8-bae7-5600c4191aa8"
      },
      "outputs": [
        {
          "data": {
            "text/html": [
              "<div>\n",
              "<style scoped>\n",
              "    .dataframe tbody tr th:only-of-type {\n",
              "        vertical-align: middle;\n",
              "    }\n",
              "\n",
              "    .dataframe tbody tr th {\n",
              "        vertical-align: top;\n",
              "    }\n",
              "\n",
              "    .dataframe thead th {\n",
              "        text-align: right;\n",
              "    }\n",
              "</style>\n",
              "<table border=\"1\" class=\"dataframe\">\n",
              "  <thead>\n",
              "    <tr style=\"text-align: right;\">\n",
              "      <th></th>\n",
              "      <th>LotShape</th>\n",
              "    </tr>\n",
              "  </thead>\n",
              "  <tbody>\n",
              "    <tr>\n",
              "      <th>0</th>\n",
              "      <td>-0.013101</td>\n",
              "    </tr>\n",
              "    <tr>\n",
              "      <th>1</th>\n",
              "      <td>-0.013101</td>\n",
              "    </tr>\n",
              "    <tr>\n",
              "      <th>2</th>\n",
              "      <td>-0.284931</td>\n",
              "    </tr>\n",
              "    <tr>\n",
              "      <th>3</th>\n",
              "      <td>-0.284931</td>\n",
              "    </tr>\n",
              "    <tr>\n",
              "      <th>4</th>\n",
              "      <td>-0.284931</td>\n",
              "    </tr>\n",
              "    <tr>\n",
              "      <th>...</th>\n",
              "      <td>...</td>\n",
              "    </tr>\n",
              "    <tr>\n",
              "      <th>1455</th>\n",
              "      <td>-0.013101</td>\n",
              "    </tr>\n",
              "    <tr>\n",
              "      <th>1456</th>\n",
              "      <td>-0.013101</td>\n",
              "    </tr>\n",
              "    <tr>\n",
              "      <th>1457</th>\n",
              "      <td>-0.013101</td>\n",
              "    </tr>\n",
              "    <tr>\n",
              "      <th>1458</th>\n",
              "      <td>-0.013101</td>\n",
              "    </tr>\n",
              "    <tr>\n",
              "      <th>1459</th>\n",
              "      <td>-0.013101</td>\n",
              "    </tr>\n",
              "  </tbody>\n",
              "</table>\n",
              "<p>1460 rows × 1 columns</p>\n",
              "</div>"
            ],
            "text/plain": [
              "      LotShape\n",
              "0    -0.013101\n",
              "1    -0.013101\n",
              "2    -0.284931\n",
              "3    -0.284931\n",
              "4    -0.284931\n",
              "...        ...\n",
              "1455 -0.013101\n",
              "1456 -0.013101\n",
              "1457 -0.013101\n",
              "1458 -0.013101\n",
              "1459 -0.013101\n",
              "\n",
              "[1460 rows x 1 columns]"
            ]
          },
          "execution_count": 54,
          "metadata": {},
          "output_type": "execute_result"
        }
      ],
      "source": [
        "from category_encoders.woe import WOEEncoder\n",
        "encoder = WOEEncoder()\n",
        "y = df['Street'].map({'Pave':0, 'Grvl':1})\n",
        "encoded = encoder.fit_transform(df['LotShape'], y)\n",
        "encoded"
      ]
    },
    {
      "cell_type": "markdown",
      "metadata": {
        "papermill": {
          "duration": 3.162441,
          "end_time": "2022-03-07T22:13:41.569458",
          "exception": false,
          "start_time": "2022-03-07T22:13:38.407017",
          "status": "completed"
        },
        "tags": [],
        "id": "0d797101"
      },
      "source": [
        "### Continuous Data"
      ]
    },
    {
      "cell_type": "markdown",
      "metadata": {
        "papermill": {
          "duration": 3.988718,
          "end_time": "2022-03-07T22:13:48.655446",
          "exception": false,
          "start_time": "2022-03-07T22:13:44.666728",
          "status": "completed"
        },
        "tags": [],
        "id": "ec468440"
      },
      "source": [
        "#### Normalization"
      ]
    },
    {
      "cell_type": "code",
      "execution_count": null,
      "metadata": {
        "execution": {
          "iopub.execute_input": "2022-03-07T22:13:54.936776Z",
          "iopub.status.busy": "2022-03-07T22:13:54.925203Z",
          "iopub.status.idle": "2022-03-07T22:13:55.519542Z",
          "shell.execute_reply": "2022-03-07T22:13:55.519956Z",
          "shell.execute_reply.started": "2022-03-07T04:16:17.422958Z"
        },
        "papermill": {
          "duration": 3.726082,
          "end_time": "2022-03-07T22:13:55.520105",
          "exception": false,
          "start_time": "2022-03-07T22:13:51.794023",
          "status": "completed"
        },
        "tags": [],
        "id": "c349f10c",
        "outputId": "eb6e8ac7-521c-4fb2-e6f2-dbd32949d17b"
      },
      "outputs": [
        {
          "data": {
            "image/png": "[encoded data removed]",
            "text/plain": [
              "<Figure size 4000x2000 with 1 Axes>"
            ]
          },
          "metadata": {
            "needs_background": "light"
          },
          "output_type": "display_data"
        }
      ],
      "source": [
        "arr = np.random.normal(loc=5, scale=1, size=(250,))\n",
        "adjusted = (arr - arr.min()) / (arr.max() - arr.min())\n",
        "\n",
        "plt.figure(figsize=(10, 5), dpi=400)\n",
        "axes = plt.gca()\n",
        "axes.yaxis.grid()\n",
        "sns.histplot(arr, color='red', label='Original', alpha = 0.8, binwidth=0.2)\n",
        "sns.histplot(adjusted, color='blue', label='Normalized', alpha = 0.8, binwidth=0.2)\n",
        "plt.legend()\n",
        "plt.show()"
      ]
    },
    {
      "cell_type": "code",
      "execution_count": null,
      "metadata": {
        "execution": {
          "iopub.execute_input": "2022-03-07T22:14:02.110621Z",
          "iopub.status.busy": "2022-03-07T22:14:02.099949Z",
          "iopub.status.idle": "2022-03-07T22:14:02.889748Z",
          "shell.execute_reply": "2022-03-07T22:14:02.890268Z",
          "shell.execute_reply.started": "2022-03-07T04:16:21.620661Z"
        },
        "papermill": {
          "duration": 3.928212,
          "end_time": "2022-03-07T22:14:02.890426",
          "exception": false,
          "start_time": "2022-03-07T22:13:58.962214",
          "status": "completed"
        },
        "tags": [],
        "id": "cd16a6f8",
        "outputId": "de6c62f9-6744-4386-963f-4b1e9ae20311"
      },
      "outputs": [
        {
          "data": {
            "image/png": "[encoded data removed]",
            "text/plain": [
              "<Figure size 4000x2000 with 1 Axes>"
            ]
          },
          "metadata": {
            "needs_background": "light"
          },
          "output_type": "display_data"
        }
      ],
      "source": [
        "arr = np.random.normal(loc=5, scale=1, size=(250,))\n",
        "arr = np.append(arr, [30]*5)\n",
        "adjusted = (arr - arr.min()) / (arr.max() - arr.min())\n",
        "\n",
        "plt.figure(figsize=(10, 5), dpi=400)\n",
        "axes = plt.gca()\n",
        "axes.yaxis.grid()\n",
        "sns.histplot(arr, color='red', label='Original', alpha = 0.8, binwidth=0.2)\n",
        "sns.histplot(adjusted, color='blue', label='Normalized', alpha = 0.8, binwidth=0.2)\n",
        "plt.legend()\n",
        "plt.show()"
      ]
    },
    {
      "cell_type": "code",
      "execution_count": null,
      "metadata": {
        "execution": {
          "iopub.execute_input": "2022-03-07T22:14:09.444343Z",
          "iopub.status.busy": "2022-03-07T22:14:09.443448Z",
          "iopub.status.idle": "2022-03-07T22:14:10.595307Z",
          "shell.execute_reply": "2022-03-07T22:14:10.595727Z",
          "shell.execute_reply.started": "2022-03-07T04:16:26.070828Z"
        },
        "papermill": {
          "duration": 4.549634,
          "end_time": "2022-03-07T22:14:10.595870",
          "exception": false,
          "start_time": "2022-03-07T22:14:06.046236",
          "status": "completed"
        },
        "tags": [],
        "id": "e8e986eb",
        "outputId": "012e6d6e-6040-43b9-dcd2-bb9390a7ffb1"
      },
      "outputs": [
        {
          "data": {
            "image/png": "[encoded data removed]",
            "text/plain": [
              "<Figure size 4000x2000 with 1 Axes>"
            ]
          },
          "metadata": {
            "needs_background": "light"
          },
          "output_type": "display_data"
        }
      ],
      "source": [
        "arr = np.random.normal(loc=5, scale=1, size=(250,))\n",
        "arr = np.append(arr, [30]*5)\n",
        "adjusted = (arr - arr.min()) / (arr.max() - arr.min())\n",
        "\n",
        "plt.figure(figsize=(10, 5), dpi=400)\n",
        "axes = plt.gca()\n",
        "axes.yaxis.grid()\n",
        "sns.histplot(arr, color='red', label='Original', alpha = 0.8, binwidth=0.2)\n",
        "sns.histplot(adjusted, color='blue', label='Normalized', alpha = 0.8, binwidth=0.01)\n",
        "plt.legend()\n",
        "plt.xlim([0, 1])\n",
        "plt.show()"
      ]
    },
    {
      "cell_type": "markdown",
      "metadata": {
        "papermill": {
          "duration": 3.190296,
          "end_time": "2022-03-07T22:14:16.942318",
          "exception": false,
          "start_time": "2022-03-07T22:14:13.752022",
          "status": "completed"
        },
        "tags": [],
        "id": "7d142b5b"
      },
      "source": [
        "#### Robust Scaling"
      ]
    },
    {
      "cell_type": "code",
      "execution_count": null,
      "metadata": {
        "execution": {
          "iopub.execute_input": "2022-03-07T22:14:24.134740Z",
          "iopub.status.busy": "2022-03-07T22:14:24.123662Z",
          "iopub.status.idle": "2022-03-07T22:14:25.105393Z",
          "shell.execute_reply": "2022-03-07T22:14:25.105804Z",
          "shell.execute_reply.started": "2022-03-07T04:16:36.557599Z"
        },
        "papermill": {
          "duration": 4.121765,
          "end_time": "2022-03-07T22:14:25.105949",
          "exception": false,
          "start_time": "2022-03-07T22:14:20.984184",
          "status": "completed"
        },
        "tags": [],
        "id": "02efe140",
        "outputId": "0d45a269-b2d6-4d39-d7ce-be597d43bf50"
      },
      "outputs": [
        {
          "data": {
            "image/png": "[encoded data removed]",
            "text/plain": [
              "<Figure size 4000x2000 with 1 Axes>"
            ]
          },
          "metadata": {
            "needs_background": "light"
          },
          "output_type": "display_data"
        }
      ],
      "source": [
        "plt.figure(figsize=(10, 5), dpi=400)\n",
        "axes = plt.gca()\n",
        "axes.yaxis.grid()\n",
        "\n",
        "arr = np.random.normal(loc=5, scale=1, size=(250,))\n",
        "adjusted = (arr - arr.min()) / (arr.max() - arr.min())\n",
        "\n",
        "arr = np.append(arr, [30]*5)\n",
        "rs_adjusted = (arr - np.median(arr)) / (np.quantile(arr, 0.75) - np.quantile(arr, 0.25))\n",
        "\n",
        "sns.histplot(arr, color='red', label='Original', alpha = 0.8, binwidth=0.2)\n",
        "sns.histplot(rs_adjusted, color='blue', label='Robust Scaled', alpha = 0.8, binwidth=0.2)\n",
        "plt.legend()\n",
        "plt.show()"
      ]
    },
    {
      "cell_type": "code",
      "execution_count": null,
      "metadata": {
        "execution": {
          "iopub.execute_input": "2022-03-07T22:14:31.655918Z",
          "iopub.status.busy": "2022-03-07T22:14:31.654997Z",
          "iopub.status.idle": "2022-03-07T22:14:33.674989Z",
          "shell.execute_reply": "2022-03-07T22:14:33.675421Z",
          "shell.execute_reply.started": "2022-03-07T04:16:40.639544Z"
        },
        "papermill": {
          "duration": 5.440842,
          "end_time": "2022-03-07T22:14:33.675566",
          "exception": false,
          "start_time": "2022-03-07T22:14:28.234724",
          "status": "completed"
        },
        "tags": [],
        "id": "26298ae0",
        "outputId": "26508fdb-7c07-4aea-9d6a-b85b714dcead"
      },
      "outputs": [
        {
          "data": {
            "image/png": "[encoded data removed]",
            "text/plain": [
              "<Figure size 4000x2000 with 1 Axes>"
            ]
          },
          "metadata": {
            "needs_background": "light"
          },
          "output_type": "display_data"
        }
      ],
      "source": [
        "plt.figure(figsize=(10, 5), dpi=400)\n",
        "axes = plt.gca()\n",
        "axes.yaxis.grid()\n",
        "\n",
        "arr = np.random.normal(loc=5, scale=1, size=(250,))\n",
        "adjusted = (arr - arr.min()) / (arr.max() - arr.min())\n",
        "\n",
        "arr = np.append(arr, [30]*5)\n",
        "rs_adjusted = (arr - np.median(arr)) / (np.quantile(arr, 0.75) - np.quantile(arr, 0.25))\n",
        "\n",
        "sns.histplot(arr, color='red', label='Original', alpha = 0.8, binwidth=0.05)\n",
        "sns.histplot(rs_adjusted, color='blue', label='Robust Scaled', alpha = 0.8, binwidth=0.05)\n",
        "plt.xlim([-2., 2.])\n",
        "plt.show()"
      ]
    },
    {
      "cell_type": "code",
      "execution_count": null,
      "metadata": {
        "execution": {
          "iopub.execute_input": "2022-03-07T22:14:39.977700Z",
          "iopub.status.busy": "2022-03-07T22:14:39.976774Z",
          "iopub.status.idle": "2022-03-07T22:14:42.159903Z",
          "shell.execute_reply": "2022-03-07T22:14:42.160367Z",
          "shell.execute_reply.started": "2022-03-07T04:16:56.074681Z"
        },
        "papermill": {
          "duration": 5.349755,
          "end_time": "2022-03-07T22:14:42.160527",
          "exception": false,
          "start_time": "2022-03-07T22:14:36.810772",
          "status": "completed"
        },
        "tags": [],
        "id": "158a9c6f",
        "outputId": "78fe1030-3c57-4798-dcfd-61112eb67794"
      },
      "outputs": [
        {
          "data": {
            "image/png": "[encoded data removed]",
            "text/plain": [
              "<Figure size 4000x1000 with 1 Axes>"
            ]
          },
          "metadata": {
            "needs_background": "light"
          },
          "output_type": "display_data"
        },
        {
          "data": {
            "image/png": "[encoded data removed]",
            "text/plain": [
              "<Figure size 4000x1000 with 1 Axes>"
            ]
          },
          "metadata": {
            "needs_background": "light"
          },
          "output_type": "display_data"
        }
      ],
      "source": [
        "plt.figure(figsize=(10, 2.5), dpi=400)\n",
        "axes = plt.gca()\n",
        "axes.yaxis.grid()\n",
        "\n",
        "arr = np.random.normal(loc=5, scale=1, size=(250,))\n",
        "adjusted = (arr - arr.min()) / (arr.max() - arr.min())\n",
        "\n",
        "sns.histplot(adjusted, color='green', label='Normalized on No-outlier Data', alpha = 0.2, binwidth=0.01)\n",
        "plt.legend()\n",
        "plt.show()\n",
        "\n",
        "plt.figure(figsize=(10, 2.5), dpi=400)\n",
        "axes = plt.gca()\n",
        "axes.yaxis.grid()\n",
        "\n",
        "arr = np.append(arr, [30]*5)\n",
        "rs_adjusted = (arr - np.median(arr)) / (np.quantile(arr, 0.75) - np.quantile(arr, 0.25))\n",
        "\n",
        "sns.histplot(rs_adjusted, color='blue', label='Robust Scaled on Outlier Data', alpha = 0.2, binwidth=0.05)\n",
        "plt.legend()\n",
        "plt.xlim([-2, 2])\n",
        "plt.show()"
      ]
    },
    {
      "cell_type": "markdown",
      "metadata": {
        "papermill": {
          "duration": 3.181079,
          "end_time": "2022-03-07T22:14:48.532993",
          "exception": false,
          "start_time": "2022-03-07T22:14:45.351914",
          "status": "completed"
        },
        "tags": [],
        "id": "a01fb81a"
      },
      "source": [
        "#### Standardization"
      ]
    },
    {
      "cell_type": "code",
      "execution_count": null,
      "metadata": {
        "execution": {
          "iopub.execute_input": "2022-03-07T22:14:55.527389Z",
          "iopub.status.busy": "2022-03-07T22:14:55.520932Z",
          "iopub.status.idle": "2022-03-07T22:14:56.104530Z",
          "shell.execute_reply": "2022-03-07T22:14:56.104952Z",
          "shell.execute_reply.started": "2022-03-07T04:17:02.064687Z"
        },
        "papermill": {
          "duration": 3.790033,
          "end_time": "2022-03-07T22:14:56.105095",
          "exception": false,
          "start_time": "2022-03-07T22:14:52.315062",
          "status": "completed"
        },
        "tags": [],
        "id": "1ff3cffc",
        "outputId": "fba94a82-e99b-47fa-f34b-93431d2d1aa9"
      },
      "outputs": [
        {
          "data": {
            "image/png": "[encoded data removed]",
            "text/plain": [
              "<Figure size 4000x2000 with 1 Axes>"
            ]
          },
          "metadata": {
            "needs_background": "light"
          },
          "output_type": "display_data"
        }
      ],
      "source": [
        "arr = np.random.normal(loc=5, scale=1, size=(250,))\n",
        "adjusted = (arr - np.mean(arr)) / np.std(arr)\n",
        "\n",
        "plt.figure(figsize=(10, 5), dpi=400)\n",
        "axes = plt.gca()\n",
        "axes.yaxis.grid()\n",
        "sns.histplot(arr, color='red', label='Original', binwidth=0.2)\n",
        "sns.histplot(adjusted, color='blue', label='Standardized', binwidth=0.2)\n",
        "plt.legend()\n",
        "plt.show()"
      ]
    },
    {
      "cell_type": "markdown",
      "metadata": {
        "papermill": {
          "duration": 3.378414,
          "end_time": "2022-03-07T22:15:02.625674",
          "exception": false,
          "start_time": "2022-03-07T22:14:59.247260",
          "status": "completed"
        },
        "tags": [],
        "id": "5dbf957c"
      },
      "source": [
        "### Text Data"
      ]
    },
    {
      "cell_type": "markdown",
      "metadata": {
        "papermill": {
          "duration": 3.129586,
          "end_time": "2022-03-07T22:15:08.899965",
          "exception": false,
          "start_time": "2022-03-07T22:15:05.770379",
          "status": "completed"
        },
        "tags": [],
        "id": "70ff74cb"
      },
      "source": [
        "We will be using the UCI SMS Spam dataset."
      ]
    },
    {
      "cell_type": "code",
      "execution_count": null,
      "metadata": {
        "execution": {
          "iopub.execute_input": "2022-03-07T22:15:16.072714Z",
          "iopub.status.busy": "2022-03-07T22:15:16.072034Z",
          "iopub.status.idle": "2022-03-07T22:15:16.139921Z",
          "shell.execute_reply": "2022-03-07T22:15:16.138986Z",
          "shell.execute_reply.started": "2022-03-07T04:17:30.686984Z"
        },
        "papermill": {
          "duration": 3.525411,
          "end_time": "2022-03-07T22:15:16.140046",
          "exception": false,
          "start_time": "2022-03-07T22:15:12.614635",
          "status": "completed"
        },
        "tags": [],
        "id": "a228bd96"
      },
      "outputs": [],
      "source": [
        "data = pd.read_csv('../input/sms-spam-collection-dataset/spam.csv', encoding = 'ISO-8859-1')\n",
        "data = data.rename(columns={'v1':'label', 'v2':'text'})\n",
        "data['isSpam'] = data['label'].map({'ham':0, 'spam':1})\n",
        "data = data[['isSpam', 'text']]\n",
        "\n",
        "from sklearn.model_selection import train_test_split as tts\n",
        "X_train, X_val, y_train, y_val = tts(data['text'], data['isSpam'],\n",
        "                                     train_size = 0.8)"
      ]
    },
    {
      "cell_type": "markdown",
      "metadata": {
        "papermill": {
          "duration": 3.444292,
          "end_time": "2022-03-07T22:15:22.729377",
          "exception": false,
          "start_time": "2022-03-07T22:15:19.285085",
          "status": "completed"
        },
        "tags": [],
        "id": "9bcc576a"
      },
      "source": [
        "#### Keyword Search"
      ]
    },
    {
      "cell_type": "code",
      "execution_count": null,
      "metadata": {
        "execution": {
          "iopub.execute_input": "2022-03-07T22:15:29.521720Z",
          "iopub.status.busy": "2022-03-07T22:15:29.520850Z",
          "iopub.status.idle": "2022-03-07T22:15:29.526978Z",
          "shell.execute_reply": "2022-03-07T22:15:29.527415Z",
          "shell.execute_reply.started": "2022-03-07T04:17:42.954077Z"
        },
        "papermill": {
          "duration": 3.139378,
          "end_time": "2022-03-07T22:15:29.527556",
          "exception": false,
          "start_time": "2022-03-07T22:15:26.388178",
          "status": "completed"
        },
        "tags": [],
        "id": "1e7369b5",
        "outputId": "ad928dbf-3fff-4faf-c9b2-dc75a3422228"
      },
      "outputs": [
        {
          "data": {
            "text/plain": [
              "0.4765625"
            ]
          },
          "execution_count": 63,
          "metadata": {},
          "output_type": "execute_result"
        }
      ],
      "source": [
        "def predict(text):\n",
        "    keywords = ['buy', 'free', 'win']\n",
        "    for keyword in keywords:\n",
        "        if keyword in text.lower():\n",
        "            return 1\n",
        "    return 0\n",
        "\n",
        "from sklearn.metrics import f1_score\n",
        "f1_score(y_val, X_val.apply(predict))"
      ]
    },
    {
      "cell_type": "markdown",
      "metadata": {
        "papermill": {
          "duration": 3.333249,
          "end_time": "2022-03-07T22:15:36.036587",
          "exception": false,
          "start_time": "2022-03-07T22:15:32.703338",
          "status": "completed"
        },
        "tags": [],
        "id": "6f009e88"
      },
      "source": [
        "#### Raw Vectorization"
      ]
    },
    {
      "cell_type": "code",
      "execution_count": null,
      "metadata": {
        "execution": {
          "iopub.execute_input": "2022-03-07T22:15:42.400527Z",
          "iopub.status.busy": "2022-03-07T22:15:42.399821Z",
          "iopub.status.idle": "2022-03-07T22:15:42.404498Z",
          "shell.execute_reply": "2022-03-07T22:15:42.405072Z",
          "shell.execute_reply.started": "2022-03-07T04:18:10.623867Z"
        },
        "papermill": {
          "duration": 3.166651,
          "end_time": "2022-03-07T22:15:42.405267",
          "exception": false,
          "start_time": "2022-03-07T22:15:39.238616",
          "status": "completed"
        },
        "tags": [],
        "id": "3e931583",
        "outputId": "950801ce-e3fb-44d7-80e6-83260cd13321"
      },
      "outputs": [
        {
          "name": "stderr",
          "output_type": "stream",
          "text": [
            "/opt/conda/lib/python3.7/site-packages/ipykernel_launcher.py:11: VisibleDeprecationWarning: Creating an ndarray from ragged nested sequences (which is a list-or-tuple of lists-or-tuples-or ndarrays with different lengths or shapes) is deprecated. If you meant to do this, you must specify 'dtype=object' when creating the ndarray\n",
            "  # This is added back by InteractiveShellApp.init_path()\n"
          ]
        }
      ],
      "source": [
        "def raw_vectorize(text):\n",
        "    return one_hot_encoding(text.split(' '))\n",
        "\n",
        "texts = np.array(['the dog jumped over the second dog',\n",
        "                  'a dog is a dog and nothing else',\n",
        "                  'a dog is an animal'])\n",
        "\n",
        "def raw_vectorize(text):\n",
        "    return one_hot_encoding(text.split(' '))\n",
        "\n",
        "raw_vectorized = np.array([raw_vectorize(text).tolist() for text in texts])"
      ]
    },
    {
      "cell_type": "code",
      "execution_count": null,
      "metadata": {
        "execution": {
          "iopub.execute_input": "2022-03-07T22:15:49.020716Z",
          "iopub.status.busy": "2022-03-07T22:15:49.019866Z",
          "iopub.status.idle": "2022-03-07T22:15:49.022767Z",
          "shell.execute_reply": "2022-03-07T22:15:49.023200Z",
          "shell.execute_reply.started": "2022-03-07T04:18:17.101882Z"
        },
        "papermill": {
          "duration": 3.473184,
          "end_time": "2022-03-07T22:15:49.023346",
          "exception": false,
          "start_time": "2022-03-07T22:15:45.550162",
          "status": "completed"
        },
        "tags": [],
        "id": "1b631b6f",
        "outputId": "b0713f23-ac89-44ce-afd1-155f6f0d91a7"
      },
      "outputs": [
        {
          "data": {
            "text/plain": [
              "[[3, 1, 5, 6, 3, 7, 1], [2, 1, 4, 2, 1, 8, 9], [2, 1, 4]]"
            ]
          },
          "execution_count": 65,
          "metadata": {},
          "output_type": "execute_result"
        }
      ],
      "source": [
        "from keras.preprocessing.text import Tokenizer\n",
        "tk = Tokenizer(num_words=10)\n",
        "tk.fit_on_texts(texts)\n",
        "tk.texts_to_sequences(texts)"
      ]
    },
    {
      "cell_type": "code",
      "execution_count": null,
      "metadata": {
        "execution": {
          "iopub.execute_input": "2022-03-07T22:15:56.201372Z",
          "iopub.status.busy": "2022-03-07T22:15:56.200632Z",
          "iopub.status.idle": "2022-03-07T22:15:56.203417Z",
          "shell.execute_reply": "2022-03-07T22:15:56.203818Z",
          "shell.execute_reply.started": "2022-03-07T04:18:20.599277Z"
        },
        "papermill": {
          "duration": 3.654026,
          "end_time": "2022-03-07T22:15:56.203961",
          "exception": false,
          "start_time": "2022-03-07T22:15:52.549935",
          "status": "completed"
        },
        "tags": [],
        "id": "19a3f40d",
        "outputId": "0a1c7788-2c89-47e8-dbe8-fae3a9c84f2c"
      },
      "outputs": [
        {
          "data": {
            "text/plain": [
              "{0: 'a',\n",
              " 1: 'an',\n",
              " 2: 'and',\n",
              " 3: 'animal',\n",
              " 4: 'dog',\n",
              " 5: 'else',\n",
              " 6: 'is',\n",
              " 7: 'jumped',\n",
              " 8: 'nothing',\n",
              " 9: 'over',\n",
              " 10: 'second',\n",
              " 11: 'the'}"
            ]
          },
          "execution_count": 66,
          "metadata": {},
          "output_type": "execute_result"
        }
      ],
      "source": [
        "complete_text = ' '.join(texts)\n",
        "unique = np.unique(complete_text.split(' '))\n",
        "mapping = {i:token for i, token in enumerate(unique)}\n",
        "mapping"
      ]
    },
    {
      "cell_type": "markdown",
      "metadata": {
        "papermill": {
          "duration": 3.349452,
          "end_time": "2022-03-07T22:16:02.981283",
          "exception": false,
          "start_time": "2022-03-07T22:15:59.631831",
          "status": "completed"
        },
        "tags": [],
        "id": "a409c017"
      },
      "source": [
        "#### Bag of Words"
      ]
    },
    {
      "cell_type": "code",
      "execution_count": null,
      "metadata": {
        "execution": {
          "iopub.execute_input": "2022-03-07T22:16:09.772665Z",
          "iopub.status.busy": "2022-03-07T22:16:09.772049Z",
          "iopub.status.idle": "2022-03-07T22:16:09.774672Z",
          "shell.execute_reply": "2022-03-07T22:16:09.775086Z",
          "shell.execute_reply.started": "2022-03-07T04:20:50.040838Z"
        },
        "papermill": {
          "duration": 3.39334,
          "end_time": "2022-03-07T22:16:09.775256",
          "exception": false,
          "start_time": "2022-03-07T22:16:06.381916",
          "status": "completed"
        },
        "tags": [],
        "id": "e2277955",
        "outputId": "d8a1d9d2-e2d1-4701-a360-9b27a8b1841a"
      },
      "outputs": [
        {
          "data": {
            "text/plain": [
              "array([0., 3., 2., 1., 2., 1., 1., 1., 1., 1.])"
            ]
          },
          "execution_count": 67,
          "metadata": {},
          "output_type": "execute_result"
        }
      ],
      "source": [
        "np.sum(tk.texts_to_matrix(texts), axis=0)"
      ]
    },
    {
      "cell_type": "code",
      "execution_count": null,
      "metadata": {
        "execution": {
          "iopub.execute_input": "2022-03-07T22:16:16.059852Z",
          "iopub.status.busy": "2022-03-07T22:16:16.059165Z",
          "iopub.status.idle": "2022-03-07T22:16:22.642766Z",
          "shell.execute_reply": "2022-03-07T22:16:22.643333Z",
          "shell.execute_reply.started": "2022-03-07T04:20:52.841736Z"
        },
        "papermill": {
          "duration": 9.745332,
          "end_time": "2022-03-07T22:16:22.643499",
          "exception": false,
          "start_time": "2022-03-07T22:16:12.898167",
          "status": "completed"
        },
        "tags": [],
        "id": "1e4fc446",
        "outputId": "80fab89d-2162-4eeb-c457-ca677cf8b640"
      },
      "outputs": [
        {
          "data": {
            "text/plain": [
              "0.8931297709923663"
            ]
          },
          "execution_count": 68,
          "metadata": {},
          "output_type": "execute_result"
        }
      ],
      "source": [
        "from sklearn.feature_extraction.text import CountVectorizer\n",
        "vectorizer = CountVectorizer(max_features = 3000)\n",
        "X_train_vec = vectorizer.fit_transform(X_train).toarray()\n",
        "X_val_vec = vectorizer.transform(X_val).toarray()\n",
        "\n",
        "from sklearn.ensemble import RandomForestClassifier\n",
        "model = RandomForestClassifier()\n",
        "model.fit(X_train_vec, y_train)\n",
        "\n",
        "pred = model.predict(X_val_vec)\n",
        "f1_score(pred, y_val)"
      ]
    },
    {
      "cell_type": "code",
      "execution_count": null,
      "metadata": {
        "execution": {
          "iopub.execute_input": "2022-03-07T22:16:29.580259Z",
          "iopub.status.busy": "2022-03-07T22:16:29.559831Z",
          "iopub.status.idle": "2022-03-07T22:16:29.842771Z",
          "shell.execute_reply": "2022-03-07T22:16:29.842272Z",
          "shell.execute_reply.started": "2022-02-27T22:58:40.324331Z"
        },
        "papermill": {
          "duration": 4.050909,
          "end_time": "2022-03-07T22:16:29.842904",
          "exception": false,
          "start_time": "2022-03-07T22:16:25.791995",
          "status": "completed"
        },
        "tags": [],
        "id": "6b9b79f8"
      },
      "outputs": [],
      "source": [
        "from keras.preprocessing.text import Tokenizer\n",
        "tk = Tokenizer(num_words=3000)\n",
        "tk.fit_on_texts(X_train)\n",
        "X_train_vec = tk.texts_to_matrix(X_train, mode='freq')\n",
        "X_val_vec = tk.texts_to_matrix(X_val, mode='freq')"
      ]
    },
    {
      "cell_type": "markdown",
      "metadata": {
        "papermill": {
          "duration": 3.1556,
          "end_time": "2022-03-07T22:16:36.439462",
          "exception": false,
          "start_time": "2022-03-07T22:16:33.283862",
          "status": "completed"
        },
        "tags": [],
        "id": "2af77fbb"
      },
      "source": [
        "#### N-Grams"
      ]
    },
    {
      "cell_type": "code",
      "execution_count": null,
      "metadata": {
        "execution": {
          "iopub.execute_input": "2022-03-07T22:16:43.098218Z",
          "iopub.status.busy": "2022-03-07T22:16:43.062505Z",
          "iopub.status.idle": "2022-03-07T22:17:01.883996Z",
          "shell.execute_reply": "2022-03-07T22:17:01.884477Z",
          "shell.execute_reply.started": "2022-02-27T22:58:40.355725Z"
        },
        "papermill": {
          "duration": 22.259947,
          "end_time": "2022-03-07T22:17:01.884638",
          "exception": false,
          "start_time": "2022-03-07T22:16:39.624691",
          "status": "completed"
        },
        "tags": [],
        "id": "dd5c4374",
        "outputId": "632284be-fc0a-40fc-bfbf-fe480c951c4d"
      },
      "outputs": [
        {
          "data": {
            "text/plain": [
              "0.5499999999999999"
            ]
          },
          "execution_count": 70,
          "metadata": {},
          "output_type": "execute_result"
        }
      ],
      "source": [
        "from sklearn.feature_extraction.text import CountVectorizer\n",
        "vectorizer = CountVectorizer(max_features = 3000, \n",
        "                             ngram_range = (4, 4))\n",
        "X_train_vec = vectorizer.fit_transform(X_train).toarray()\n",
        "X_val_vec = vectorizer.transform(X_val).toarray()\n",
        "\n",
        "from sklearn.ensemble import RandomForestClassifier\n",
        "model = RandomForestClassifier()\n",
        "model.fit(X_train_vec, y_train)\n",
        "pred = model.predict(X_val_vec)\n",
        "f1_score(pred, y_val)"
      ]
    },
    {
      "cell_type": "markdown",
      "metadata": {
        "papermill": {
          "duration": 3.109856,
          "end_time": "2022-03-07T22:17:08.396010",
          "exception": false,
          "start_time": "2022-03-07T22:17:05.286154",
          "status": "completed"
        },
        "tags": [],
        "id": "44aaff26"
      },
      "source": [
        "#### TD-IDF"
      ]
    },
    {
      "cell_type": "code",
      "execution_count": null,
      "metadata": {
        "execution": {
          "iopub.execute_input": "2022-03-07T22:17:14.951381Z",
          "iopub.status.busy": "2022-03-07T22:17:14.946382Z",
          "iopub.status.idle": "2022-03-07T22:17:15.569949Z",
          "shell.execute_reply": "2022-03-07T22:17:15.569426Z",
          "shell.execute_reply.started": "2022-03-07T04:22:32.116021Z"
        },
        "papermill": {
          "duration": 4.012199,
          "end_time": "2022-03-07T22:17:15.570077",
          "exception": false,
          "start_time": "2022-03-07T22:17:11.557878",
          "status": "completed"
        },
        "tags": [],
        "id": "1ee11fea"
      },
      "outputs": [],
      "source": [
        "from keras.preprocessing.text import Tokenizer\n",
        "tk = Tokenizer(num_words=3000)\n",
        "tk.fit_on_texts(X_train)\n",
        "X_train_vec = tk.texts_to_matrix(X_train, mode='tfidf')\n",
        "X_val_vec = tk.texts_to_matrix(X_val, mode='tfidf')"
      ]
    },
    {
      "cell_type": "code",
      "execution_count": null,
      "metadata": {
        "execution": {
          "iopub.execute_input": "2022-03-07T22:17:21.960063Z",
          "iopub.status.busy": "2022-03-07T22:17:21.945178Z",
          "iopub.status.idle": "2022-03-07T22:17:28.504278Z",
          "shell.execute_reply": "2022-03-07T22:17:28.503812Z",
          "shell.execute_reply.started": "2022-03-07T04:22:35.992696Z"
        },
        "papermill": {
          "duration": 9.756401,
          "end_time": "2022-03-07T22:17:28.504406",
          "exception": false,
          "start_time": "2022-03-07T22:17:18.748005",
          "status": "completed"
        },
        "tags": [],
        "id": "4d1be3f6",
        "outputId": "be5b275c-f7ec-4243-c9c1-c8e2c2c50001"
      },
      "outputs": [
        {
          "data": {
            "text/plain": [
              "0.8931297709923663"
            ]
          },
          "execution_count": 72,
          "metadata": {},
          "output_type": "execute_result"
        }
      ],
      "source": [
        "from sklearn.feature_extraction.text import TfidfVectorizer\n",
        "vectorizer = TfidfVectorizer(max_features = 3000, \n",
        "                             ngram_range = (1, 1))\n",
        "X_train_vec = vectorizer.fit_transform(X_train).toarray()\n",
        "X_val_vec = vectorizer.transform(X_val).toarray()\n",
        "\n",
        "from sklearn.ensemble import RandomForestClassifier\n",
        "model = RandomForestClassifier()\n",
        "model.fit(X_train_vec, y_train)\n",
        "pred = model.predict(X_val_vec)\n",
        "f1_score(pred, y_val)"
      ]
    },
    {
      "cell_type": "markdown",
      "metadata": {
        "papermill": {
          "duration": 3.170609,
          "end_time": "2022-03-07T22:17:35.272450",
          "exception": false,
          "start_time": "2022-03-07T22:17:32.101841",
          "status": "completed"
        },
        "tags": [],
        "id": "f86c6982"
      },
      "source": [
        "#### Sentiment Analysis"
      ]
    },
    {
      "cell_type": "code",
      "execution_count": null,
      "metadata": {
        "execution": {
          "iopub.execute_input": "2022-03-07T22:17:41.882805Z",
          "iopub.status.busy": "2022-03-07T22:17:41.881728Z",
          "iopub.status.idle": "2022-03-07T22:17:42.453859Z",
          "shell.execute_reply": "2022-03-07T22:17:42.454305Z",
          "shell.execute_reply.started": "2022-03-07T04:22:50.684847Z"
        },
        "papermill": {
          "duration": 3.747673,
          "end_time": "2022-03-07T22:17:42.454467",
          "exception": false,
          "start_time": "2022-03-07T22:17:38.706794",
          "status": "completed"
        },
        "tags": [],
        "id": "5fb66907",
        "outputId": "707af6e1-db22-44c6-d7b3-749c6159e80a"
      },
      "outputs": [
        {
          "data": {
            "text/plain": [
              "Sentiment(polarity=0.9099999999999999, subjectivity=0.7800000000000001)"
            ]
          },
          "execution_count": 73,
          "metadata": {},
          "output_type": "execute_result"
        }
      ],
      "source": [
        "from textblob import TextBlob\n",
        "text = TextBlob(\"Feature encoding is very good\")\n",
        "text.sentiment"
      ]
    },
    {
      "cell_type": "code",
      "execution_count": null,
      "metadata": {
        "execution": {
          "iopub.execute_input": "2022-03-07T22:17:48.987626Z",
          "iopub.status.busy": "2022-03-07T22:17:48.986948Z",
          "iopub.status.idle": "2022-03-07T22:17:48.989750Z",
          "shell.execute_reply": "2022-03-07T22:17:48.990172Z",
          "shell.execute_reply.started": "2022-03-07T04:22:51.404292Z"
        },
        "papermill": {
          "duration": 3.390147,
          "end_time": "2022-03-07T22:17:48.990308",
          "exception": false,
          "start_time": "2022-03-07T22:17:45.600161",
          "status": "completed"
        },
        "tags": [],
        "id": "26aa6cdc",
        "outputId": "0da969b9-86b7-401a-cd48-b7086f1647f6"
      },
      "outputs": [
        {
          "data": {
            "text/plain": [
              "Sentiment(polarity=1.0, subjectivity=0.7800000000000001)"
            ]
          },
          "execution_count": 74,
          "metadata": {},
          "output_type": "execute_result"
        }
      ],
      "source": [
        "text = TextBlob(\"Feature encoding is very good!\")\n",
        "text.sentiment"
      ]
    },
    {
      "cell_type": "code",
      "execution_count": null,
      "metadata": {
        "execution": {
          "iopub.execute_input": "2022-03-07T22:17:55.514165Z",
          "iopub.status.busy": "2022-03-07T22:17:55.513487Z",
          "iopub.status.idle": "2022-03-07T22:17:55.516191Z",
          "shell.execute_reply": "2022-03-07T22:17:55.516609Z",
          "shell.execute_reply.started": "2022-03-07T04:22:51.415044Z"
        },
        "papermill": {
          "duration": 3.159027,
          "end_time": "2022-03-07T22:17:55.516743",
          "exception": false,
          "start_time": "2022-03-07T22:17:52.357716",
          "status": "completed"
        },
        "tags": [],
        "id": "1a9ca111",
        "outputId": "d5cb36c7-7d28-4fed-e924-71dec773d092"
      },
      "outputs": [
        {
          "data": {
            "text/plain": [
              "Sentiment(polarity=-0.26923076923076916, subjectivity=0.46153846153846156)"
            ]
          },
          "execution_count": 75,
          "metadata": {},
          "output_type": "execute_result"
        }
      ],
      "source": [
        "text = TextBlob(\"Feature encoding is not very good\")\n",
        "text.sentiment"
      ]
    },
    {
      "cell_type": "code",
      "execution_count": null,
      "metadata": {
        "execution": {
          "iopub.execute_input": "2022-03-07T22:18:02.058607Z",
          "iopub.status.busy": "2022-03-07T22:18:02.057693Z",
          "iopub.status.idle": "2022-03-07T22:18:02.060589Z",
          "shell.execute_reply": "2022-03-07T22:18:02.060985Z",
          "shell.execute_reply.started": "2022-03-07T04:22:51.431881Z"
        },
        "papermill": {
          "duration": 3.203182,
          "end_time": "2022-03-07T22:18:02.061118",
          "exception": false,
          "start_time": "2022-03-07T22:17:58.857936",
          "status": "completed"
        },
        "tags": [],
        "id": "ff003099",
        "outputId": "9bd97196-8c49-4fc1-ef59-ad526d316b67"
      },
      "outputs": [
        {
          "data": {
            "text/plain": [
              "Sentiment(polarity=0.0, subjectivity=0.0)"
            ]
          },
          "execution_count": 76,
          "metadata": {},
          "output_type": "execute_result"
        }
      ],
      "source": [
        "text = TextBlob(\"Feature encoding is a technique.\")\n",
        "text.sentiment"
      ]
    },
    {
      "cell_type": "code",
      "execution_count": null,
      "metadata": {
        "execution": {
          "iopub.execute_input": "2022-03-07T22:18:09.077296Z",
          "iopub.status.busy": "2022-03-07T22:18:09.074795Z",
          "iopub.status.idle": "2022-03-07T22:18:09.080477Z",
          "shell.execute_reply": "2022-03-07T22:18:09.079681Z",
          "shell.execute_reply.started": "2022-03-07T04:22:51.725424Z"
        },
        "papermill": {
          "duration": 3.256391,
          "end_time": "2022-03-07T22:18:09.080646",
          "exception": false,
          "start_time": "2022-03-07T22:18:05.824255",
          "status": "completed"
        },
        "tags": [],
        "id": "5565b7a7",
        "outputId": "3d863039-4d50-4872-aae3-1c82b206a2da"
      },
      "outputs": [
        {
          "data": {
            "text/plain": [
              "Sentiment(polarity=-0.28125, subjectivity=0.675)"
            ]
          },
          "execution_count": 77,
          "metadata": {},
          "output_type": "execute_result"
        }
      ],
      "source": [
        "text = TextBlob(\"I feel guilty - it's such terrible fun!\")\n",
        "text.sentiment"
      ]
    },
    {
      "cell_type": "code",
      "execution_count": null,
      "metadata": {
        "execution": {
          "iopub.execute_input": "2022-03-07T22:18:15.685610Z",
          "iopub.status.busy": "2022-03-07T22:18:15.684050Z",
          "iopub.status.idle": "2022-03-07T22:18:15.686203Z",
          "shell.execute_reply": "2022-03-07T22:18:15.686614Z",
          "shell.execute_reply.started": "2022-03-07T04:22:55.056279Z"
        },
        "papermill": {
          "duration": 3.145069,
          "end_time": "2022-03-07T22:18:15.686746",
          "exception": false,
          "start_time": "2022-03-07T22:18:12.541677",
          "status": "completed"
        },
        "tags": [],
        "id": "8564eab3"
      },
      "outputs": [],
      "source": [
        "get_polarity = lambda x: round(TextBlob(x).sentiment.polarity, 2)\n",
        "get_subj = lambda x: round(TextBlob(x).sentiment.subjectivity, 2)"
      ]
    },
    {
      "cell_type": "code",
      "execution_count": null,
      "metadata": {
        "execution": {
          "iopub.execute_input": "2022-03-07T22:18:22.944043Z",
          "iopub.status.busy": "2022-03-07T22:18:22.943197Z",
          "iopub.status.idle": "2022-03-07T22:18:32.926331Z",
          "shell.execute_reply": "2022-03-07T22:18:32.925215Z",
          "shell.execute_reply.started": "2022-03-07T04:23:00.361754Z"
        },
        "papermill": {
          "duration": 13.434898,
          "end_time": "2022-03-07T22:18:32.926509",
          "exception": false,
          "start_time": "2022-03-07T22:18:19.491611",
          "status": "completed"
        },
        "tags": [],
        "id": "9e4764a7",
        "outputId": "a487b0db-5f51-4cc6-8ee5-9250a89f2615"
      },
      "outputs": [
        {
          "name": "stdout",
          "output_type": "stream",
          "text": [
            "Collecting vaderSentiment\r\n",
            "  Downloading vaderSentiment-3.3.2-py2.py3-none-any.whl (125 kB)\r\n",
            "     |████████████████████████████████| 125 kB 595 kB/s            \r\n",
            "\u001b[?25hRequirement already satisfied: requests in /opt/conda/lib/python3.7/site-packages (from vaderSentiment) (2.25.1)\r\n",
            "Requirement already satisfied: urllib3<1.27,>=1.21.1 in /opt/conda/lib/python3.7/site-packages (from requests->vaderSentiment) (1.26.7)\r\n",
            "Requirement already satisfied: chardet<5,>=3.0.2 in /opt/conda/lib/python3.7/site-packages (from requests->vaderSentiment) (4.0.0)\r\n",
            "Requirement already satisfied: idna<3,>=2.5 in /opt/conda/lib/python3.7/site-packages (from requests->vaderSentiment) (2.10)\r\n",
            "Requirement already satisfied: certifi>=2017.4.17 in /opt/conda/lib/python3.7/site-packages (from requests->vaderSentiment) (2021.10.8)\r\n",
            "Installing collected packages: vaderSentiment\r\n",
            "Successfully installed vaderSentiment-3.3.2\r\n",
            "\u001b[33mWARNING: Running pip as the 'root' user can result in broken permissions and conflicting behaviour with the system package manager. It is recommended to use a virtual environment instead: https://pip.pypa.io/warnings/venv\u001b[0m\r\n"
          ]
        }
      ],
      "source": [
        "!pip install vaderSentiment"
      ]
    },
    {
      "cell_type": "code",
      "execution_count": null,
      "metadata": {
        "execution": {
          "iopub.execute_input": "2022-03-07T22:18:40.094524Z",
          "iopub.status.busy": "2022-03-07T22:18:40.093677Z",
          "iopub.status.idle": "2022-03-07T22:18:40.113874Z",
          "shell.execute_reply": "2022-03-07T22:18:40.113373Z",
          "shell.execute_reply.started": "2022-03-07T04:23:44.879076Z"
        },
        "papermill": {
          "duration": 3.393887,
          "end_time": "2022-03-07T22:18:40.113998",
          "exception": false,
          "start_time": "2022-03-07T22:18:36.720111",
          "status": "completed"
        },
        "tags": [],
        "id": "9077c234",
        "outputId": "b8fd327d-1fb1-4a42-f122-f5ea05e6e1ee"
      },
      "outputs": [
        {
          "data": {
            "text/plain": [
              "{'neg': 0.0, 'neu': 0.556, 'pos': 0.444, 'compound': 0.4927}"
            ]
          },
          "execution_count": 80,
          "metadata": {},
          "output_type": "execute_result"
        }
      ],
      "source": [
        "import vaderSentiment\n",
        "from vaderSentiment.vaderSentiment import SentimentIntensityAnalyzer\n",
        "analyzer = SentimentIntensityAnalyzer()\n",
        "sentence = \"Feature encoding is very good\" \n",
        "scores = analyzer.polarity_scores(sentence)\n",
        "scores"
      ]
    },
    {
      "cell_type": "code",
      "execution_count": null,
      "metadata": {
        "execution": {
          "iopub.execute_input": "2022-03-07T22:18:47.064928Z",
          "iopub.status.busy": "2022-03-07T22:18:47.064124Z",
          "iopub.status.idle": "2022-03-07T22:19:21.233999Z",
          "shell.execute_reply": "2022-03-07T22:19:21.228570Z",
          "shell.execute_reply.started": "2022-03-07T04:23:48.955995Z"
        },
        "papermill": {
          "duration": 37.519232,
          "end_time": "2022-03-07T22:19:21.234151",
          "exception": false,
          "start_time": "2022-03-07T22:18:43.714919",
          "status": "completed"
        },
        "tags": [],
        "id": "9851f9c8"
      },
      "outputs": [],
      "source": [
        "!pip install flair"
      ]
    },
    {
      "cell_type": "code",
      "execution_count": null,
      "metadata": {
        "execution": {
          "iopub.execute_input": "2022-03-07T22:19:28.201370Z",
          "iopub.status.busy": "2022-03-07T22:19:28.199693Z",
          "iopub.status.idle": "2022-03-07T22:19:28.202224Z",
          "shell.execute_reply": "2022-03-07T22:19:28.200621Z",
          "shell.execute_reply.started": "2022-03-07T04:24:24.070597Z"
        },
        "papermill": {
          "duration": 3.627464,
          "end_time": "2022-03-07T22:19:28.202417",
          "exception": false,
          "start_time": "2022-03-07T22:19:24.574953",
          "status": "completed"
        },
        "tags": [],
        "id": "9cf62a5b"
      },
      "outputs": [],
      "source": [
        "# import flair\n",
        "# from flair.models import TARSClassifier\n",
        "# from flair.data import Sentence\n",
        "# tars = TARSClassifier.load('tars-base')\n",
        "# sentence = Sentence(\"Feature encoding is very good\")\n",
        "# classes = ['positive', 'negative']\n",
        "# tars.predict_zero_shot(sentence, classes)\n",
        "# print(sentence)"
      ]
    },
    {
      "cell_type": "code",
      "execution_count": null,
      "metadata": {
        "execution": {
          "iopub.execute_input": "2022-03-07T22:19:34.926071Z",
          "iopub.status.busy": "2022-03-07T22:19:34.925062Z",
          "iopub.status.idle": "2022-03-07T22:19:34.927762Z",
          "shell.execute_reply": "2022-03-07T22:19:34.926861Z",
          "shell.execute_reply.started": "2022-03-07T04:24:55.377206Z"
        },
        "papermill": {
          "duration": 3.383005,
          "end_time": "2022-03-07T22:19:34.927944",
          "exception": false,
          "start_time": "2022-03-07T22:19:31.544939",
          "status": "completed"
        },
        "tags": [],
        "id": "5ad1b932"
      },
      "outputs": [],
      "source": [
        "# sentence = Sentence(\"I'm feeling good about this, but don't know for sure.\")\n",
        "# classes = ['optimistic but careful']\n",
        "# tars.predict_zero_shot(sentence, classes)\n",
        "# print(sentence)"
      ]
    },
    {
      "cell_type": "code",
      "execution_count": null,
      "metadata": {
        "execution": {
          "iopub.execute_input": "2022-03-07T22:19:42.574626Z",
          "iopub.status.busy": "2022-03-07T22:19:42.573714Z",
          "iopub.status.idle": "2022-03-07T22:19:42.576052Z",
          "shell.execute_reply": "2022-03-07T22:19:42.575539Z",
          "shell.execute_reply.started": "2022-03-07T04:25:31.439169Z"
        },
        "papermill": {
          "duration": 4.101271,
          "end_time": "2022-03-07T22:19:42.576191",
          "exception": false,
          "start_time": "2022-03-07T22:19:38.474920",
          "status": "completed"
        },
        "tags": [],
        "id": "02c60313"
      },
      "outputs": [],
      "source": [
        "# sentence = Sentence(\"Elephants can be found all over the world.\")\n",
        "# classes = ['animals']\n",
        "# tars.predict_zero_shot(sentence, classes)\n",
        "# print(sentence)"
      ]
    },
    {
      "cell_type": "code",
      "execution_count": null,
      "metadata": {
        "execution": {
          "iopub.execute_input": "2022-03-07T22:19:49.621945Z",
          "iopub.status.busy": "2022-03-07T22:19:49.621108Z",
          "iopub.status.idle": "2022-03-07T22:19:49.624239Z",
          "shell.execute_reply": "2022-03-07T22:19:49.623777Z",
          "shell.execute_reply.started": "2022-03-07T04:26:45.265011Z"
        },
        "papermill": {
          "duration": 3.688803,
          "end_time": "2022-03-07T22:19:49.624362",
          "exception": false,
          "start_time": "2022-03-07T22:19:45.935559",
          "status": "completed"
        },
        "tags": [],
        "id": "24651dc3"
      },
      "outputs": [],
      "source": [
        "# sentence = Sentence(\"I'm feeling good about this, but we should exercise caution.\")\n",
        "# classes = ['optimistic but careful']\n",
        "# tars.predict_zero_shot(sentence, classes)\n",
        "# print(sentence)"
      ]
    },
    {
      "cell_type": "code",
      "execution_count": null,
      "metadata": {
        "execution": {
          "iopub.execute_input": "2022-03-07T22:19:56.357303Z",
          "iopub.status.busy": "2022-03-07T22:19:56.356370Z",
          "iopub.status.idle": "2022-03-07T22:19:56.358735Z",
          "shell.execute_reply": "2022-03-07T22:19:56.358180Z",
          "shell.execute_reply.started": "2022-03-07T04:26:47.845089Z"
        },
        "papermill": {
          "duration": 3.36036,
          "end_time": "2022-03-07T22:19:56.358857",
          "exception": false,
          "start_time": "2022-03-07T22:19:52.998497",
          "status": "completed"
        },
        "tags": [],
        "id": "88bb3c21"
      },
      "outputs": [],
      "source": [
        "# sent = \"\"\"Feature encoding is very good\n",
        "# Feature encoding is very good!\n",
        "# Feature encoding is not very good\n",
        "# Feature encoding is a technique.\n",
        "# I feel guilty - it's such terrible fun!\"\"\"\n",
        "\n",
        "# classes = ['happy', 'sad', 'excited',\n",
        "#            'anxious', 'neutral']\n",
        "# # you can also define custom classes\n",
        "\n",
        "# for thing in sent.split('\\n'):\n",
        "#     sentence = Sentence(thing)\n",
        "#     tars.predict_zero_shot(sentence, classes)\n",
        "#     print(sentence)"
      ]
    },
    {
      "cell_type": "markdown",
      "metadata": {
        "papermill": {
          "duration": 3.375825,
          "end_time": "2022-03-07T22:20:03.316688",
          "exception": false,
          "start_time": "2022-03-07T22:19:59.940863",
          "status": "completed"
        },
        "tags": [],
        "id": "348806e9"
      },
      "source": [
        "### Word2Vec"
      ]
    },
    {
      "cell_type": "code",
      "execution_count": null,
      "metadata": {
        "execution": {
          "iopub.execute_input": "2022-03-07T22:20:10.121982Z",
          "iopub.status.busy": "2022-03-07T22:20:10.120995Z",
          "iopub.status.idle": "2022-03-07T22:20:18.441840Z",
          "shell.execute_reply": "2022-03-07T22:20:18.441012Z",
          "shell.execute_reply.started": "2022-03-07T04:27:35.383579Z"
        },
        "papermill": {
          "duration": 11.773221,
          "end_time": "2022-03-07T22:20:18.441983",
          "exception": false,
          "start_time": "2022-03-07T22:20:06.668762",
          "status": "completed"
        },
        "tags": [],
        "id": "1431ddfc"
      },
      "outputs": [],
      "source": [
        "!pip install clean-text"
      ]
    },
    {
      "cell_type": "code",
      "execution_count": null,
      "metadata": {
        "execution": {
          "iopub.execute_input": "2022-03-07T22:20:25.385863Z",
          "iopub.status.busy": "2022-03-07T22:20:25.385025Z",
          "iopub.status.idle": "2022-03-07T22:20:26.105858Z",
          "shell.execute_reply": "2022-03-07T22:20:26.105396Z",
          "shell.execute_reply.started": "2022-03-07T04:27:44.985458Z"
        },
        "papermill": {
          "duration": 4.087273,
          "end_time": "2022-03-07T22:20:26.105998",
          "exception": false,
          "start_time": "2022-03-07T22:20:22.018725",
          "status": "completed"
        },
        "tags": [],
        "id": "9ebc4773"
      },
      "outputs": [],
      "source": [
        "from cleantext import clean\n",
        "import gensim"
      ]
    },
    {
      "cell_type": "code",
      "execution_count": null,
      "metadata": {
        "execution": {
          "iopub.execute_input": "2022-03-07T22:20:33.127334Z",
          "iopub.status.busy": "2022-03-07T22:20:33.126283Z",
          "iopub.status.idle": "2022-03-07T23:33:46.132340Z",
          "shell.execute_reply": "2022-03-07T23:33:46.132797Z",
          "shell.execute_reply.started": "2022-02-27T22:59:02.427171Z"
        },
        "papermill": {
          "duration": 4396.667152,
          "end_time": "2022-03-07T23:33:46.132957",
          "exception": false,
          "start_time": "2022-03-07T22:20:29.465805",
          "status": "completed"
        },
        "tags": [],
        "id": "6aee83a6",
        "outputId": "8f054656-7431-4457-b876-aa9beedc7495",
        "colab": {
          "referenced_widgets": [
            "fc9608c459c045db95e6163759b9a0df"
          ]
        }
      },
      "outputs": [
        {
          "data": {
            "application/vnd.jupyter.widget-view+json": {
              "model_id": "fc9608c459c045db95e6163759b9a0df",
              "version_major": 2,
              "version_minor": 0
            },
            "text/plain": [
              "0it [00:00, ?it/s]"
            ]
          },
          "metadata": {},
          "output_type": "display_data"
        },
        {
          "data": {
            "text/plain": [
              "(5813423, 28723200)"
            ]
          },
          "execution_count": 89,
          "metadata": {},
          "output_type": "execute_result"
        }
      ],
      "source": [
        "import urllib.request\n",
        "wnp = \"\"\n",
        "data = urllib.request.urlopen('https://www.gutenberg.org/files/2600/2600-0.txt')\n",
        "\n",
        "counter = 0\n",
        "for line in tqdm(data):\n",
        "    if counter == 50_000:\n",
        "        break\n",
        "    wnp += clean(line, no_line_breaks=True)[1:] + \" \"\n",
        "    counter += 1\n",
        "    \n",
        "class Sentences(object):\n",
        "    def __init__(self, text):\n",
        "        self.text = text\n",
        " \n",
        "    def __iter__(self):\n",
        "        for sentence in wnp.split('.'):\n",
        "            yield clean(wnp.split('.')[0], no_punct = True).split(' ')\n",
        "            \n",
        "sentences = Sentences(wnp)\n",
        "model = gensim.models.Word2Vec(vector_size = 50,\n",
        "                               min_count = 50,\n",
        "                               workers = 4)\n",
        "model.build_vocab(sentences)\n",
        "model.train(sentences, \n",
        "            total_examples=model.corpus_count,\n",
        "            epochs=30)"
      ]
    },
    {
      "cell_type": "code",
      "execution_count": null,
      "metadata": {
        "execution": {
          "iopub.execute_input": "2022-03-07T23:33:53.185875Z",
          "iopub.status.busy": "2022-03-07T23:33:53.185042Z",
          "iopub.status.idle": "2022-03-07T23:33:53.188069Z",
          "shell.execute_reply": "2022-03-07T23:33:53.188484Z",
          "shell.execute_reply.started": "2022-02-27T23:01:45.979484Z"
        },
        "papermill": {
          "duration": 3.683172,
          "end_time": "2022-03-07T23:33:53.188621",
          "exception": false,
          "start_time": "2022-03-07T23:33:49.505449",
          "status": "completed"
        },
        "tags": [],
        "id": "6e9fc47d",
        "outputId": "dfe2a836-3d33-4795-b197-aa30d98c44ad"
      },
      "outputs": [
        {
          "data": {
            "text/plain": [
              "array([-0.25696295,  3.5703487 , -1.7798343 ,  0.9945607 ,  4.3973017 ,\n",
              "       -0.22629872, -1.9143364 ,  2.031107  ,  0.14741819, -2.4769611 ,\n",
              "       -0.64933735, -1.5481595 ,  0.6939877 ,  5.2614274 , -0.11960845,\n",
              "       -3.1566374 ,  4.655208  ,  1.1983484 , -2.017265  , -2.0604212 ,\n",
              "       -0.760677  , -0.55569774, -1.0670184 , -2.2508569 ,  4.3579955 ,\n",
              "        1.4750543 ,  3.267176  , -0.7014842 , -2.0806925 ,  5.117454  ,\n",
              "        2.3939033 , -0.8701684 , -2.1189663 , -0.83534604, -3.7275264 ,\n",
              "        2.1877604 ,  1.298752  , -0.9427906 ,  0.46978647, -1.1171545 ,\n",
              "       -0.5284408 , -1.9709119 ,  1.0233097 ,  0.67335194, -4.262241  ,\n",
              "       -0.10164092,  1.5783955 ,  1.2117549 , -0.55686724,  1.4402213 ],\n",
              "      dtype=float32)"
            ]
          },
          "execution_count": 90,
          "metadata": {},
          "output_type": "execute_result"
        }
      ],
      "source": [
        "model.wv['war']"
      ]
    },
    {
      "cell_type": "code",
      "execution_count": null,
      "metadata": {
        "execution": {
          "iopub.execute_input": "2022-03-07T23:34:00.426734Z",
          "iopub.status.busy": "2022-03-07T23:34:00.425588Z",
          "iopub.status.idle": "2022-03-07T23:34:00.431791Z",
          "shell.execute_reply": "2022-03-07T23:34:00.432518Z",
          "shell.execute_reply.started": "2022-02-27T23:01:46.074559Z"
        },
        "papermill": {
          "duration": 3.369529,
          "end_time": "2022-03-07T23:34:00.432756",
          "exception": false,
          "start_time": "2022-03-07T23:33:57.063227",
          "status": "completed"
        },
        "tags": [],
        "id": "ee1d19c0",
        "outputId": "cf85df25-dd0b-4c21-c715-9bf75f33516d"
      },
      "outputs": [
        {
          "data": {
            "text/plain": [
              "array([-1.9479796 ,  1.7001966 ,  2.852719  ,  1.5569113 , -2.608776  ,\n",
              "       -3.7818413 , -0.4186431 , -0.32619056, -1.5053358 , -2.184368  ,\n",
              "        1.6014141 , -1.6973863 , -0.6713873 ,  2.3487368 ,  0.9876131 ,\n",
              "        0.44847503, -1.2625687 , -0.08485116, -1.9468433 , -3.4225585 ,\n",
              "        3.4827902 ,  2.462738  ,  0.19783899, -4.5892105 ,  1.7054439 ,\n",
              "        3.9968634 ,  1.3223428 , -0.08268118, -0.24083161,  4.426982  ,\n",
              "        0.36075363, -0.76909536,  2.2624009 ,  0.4293709 , -3.308202  ,\n",
              "        1.6609577 , -0.7879924 ,  2.267667  ,  3.3017564 , -1.2593559 ,\n",
              "       -0.16800816,  2.340596  , -0.28163332, -0.682497  , -3.3172214 ,\n",
              "       -0.30956733,  0.6171133 , -0.12607133,  3.1992614 ,  1.7397348 ],\n",
              "      dtype=float32)"
            ]
          },
          "execution_count": 91,
          "metadata": {},
          "output_type": "execute_result"
        }
      ],
      "source": [
        "model.wv['peace']"
      ]
    },
    {
      "cell_type": "code",
      "execution_count": null,
      "metadata": {
        "execution": {
          "iopub.execute_input": "2022-03-07T23:34:07.592117Z",
          "iopub.status.busy": "2022-03-07T23:34:07.591127Z",
          "iopub.status.idle": "2022-03-07T23:34:07.609352Z",
          "shell.execute_reply": "2022-03-07T23:34:07.608912Z",
          "shell.execute_reply.started": "2022-02-27T23:01:46.375423Z"
        },
        "papermill": {
          "duration": 3.505555,
          "end_time": "2022-03-07T23:34:07.609539",
          "exception": false,
          "start_time": "2022-03-07T23:34:04.103984",
          "status": "completed"
        },
        "tags": [],
        "id": "2990c05a",
        "outputId": "95f061d4-a94b-4c98-be5d-2fb419f34aee"
      },
      "outputs": [
        {
          "data": {
            "text/plain": [
              "0.3511804"
            ]
          },
          "execution_count": 92,
          "metadata": {},
          "output_type": "execute_result"
        }
      ],
      "source": [
        "model.wv.similarity('war', 'peace')"
      ]
    },
    {
      "cell_type": "markdown",
      "metadata": {
        "papermill": {
          "duration": 3.625415,
          "end_time": "2022-03-07T23:34:14.627975",
          "exception": false,
          "start_time": "2022-03-07T23:34:11.002560",
          "status": "completed"
        },
        "tags": [],
        "id": "899a8a78"
      },
      "source": [
        "### Time Data"
      ]
    },
    {
      "cell_type": "code",
      "execution_count": null,
      "metadata": {
        "execution": {
          "iopub.execute_input": "2022-03-07T23:34:21.374736Z",
          "iopub.status.busy": "2022-03-07T23:34:21.373774Z",
          "iopub.status.idle": "2022-03-07T23:34:51.716752Z",
          "shell.execute_reply": "2022-03-07T23:34:51.716221Z",
          "shell.execute_reply.started": "2022-02-27T23:57:38.630363Z"
        },
        "papermill": {
          "duration": 33.731832,
          "end_time": "2022-03-07T23:34:51.716896",
          "exception": false,
          "start_time": "2022-03-07T23:34:17.985064",
          "status": "completed"
        },
        "tags": [],
        "id": "c6bf27f1"
      },
      "outputs": [],
      "source": [
        "data = pd.read_csv('../input/amazon-us-software-reviews/data.csv')\n",
        "data['data/review_date'] = pd.to_datetime(data['data/review_date'].apply(lambda x:x[2:]))\n",
        "dates = data['data/review_date']"
      ]
    },
    {
      "cell_type": "code",
      "execution_count": null,
      "metadata": {
        "execution": {
          "iopub.execute_input": "2022-03-07T23:34:58.766876Z",
          "iopub.status.busy": "2022-03-07T23:34:58.751761Z",
          "iopub.status.idle": "2022-03-07T23:35:08.132373Z",
          "shell.execute_reply": "2022-03-07T23:35:08.131583Z",
          "shell.execute_reply.started": "2022-02-28T00:01:31.398213Z"
        },
        "papermill": {
          "duration": 13.042353,
          "end_time": "2022-03-07T23:35:08.132531",
          "exception": false,
          "start_time": "2022-03-07T23:34:55.090178",
          "status": "completed"
        },
        "tags": [],
        "id": "fbc53b98",
        "outputId": "85136bda-ee90-434f-dd89-1f1bc69901e8"
      },
      "outputs": [
        {
          "data": {
            "text/html": [
              "<div>\n",
              "<style scoped>\n",
              "    .dataframe tbody tr th:only-of-type {\n",
              "        vertical-align: middle;\n",
              "    }\n",
              "\n",
              "    .dataframe tbody tr th {\n",
              "        vertical-align: top;\n",
              "    }\n",
              "\n",
              "    .dataframe thead th {\n",
              "        text-align: right;\n",
              "    }\n",
              "</style>\n",
              "<table border=\"1\" class=\"dataframe\">\n",
              "  <thead>\n",
              "    <tr style=\"text-align: right;\">\n",
              "      <th></th>\n",
              "      <th>data/review_date</th>\n",
              "      <th>data/review_date</th>\n",
              "      <th>data/review_date</th>\n",
              "      <th>data/review_date</th>\n",
              "    </tr>\n",
              "  </thead>\n",
              "  <tbody>\n",
              "    <tr>\n",
              "      <th>0</th>\n",
              "      <td>2015</td>\n",
              "      <td>6</td>\n",
              "      <td>23</td>\n",
              "      <td>&lt;built-in method weekday of Timestamp object a...</td>\n",
              "    </tr>\n",
              "    <tr>\n",
              "      <th>1</th>\n",
              "      <td>2014</td>\n",
              "      <td>1</td>\n",
              "      <td>1</td>\n",
              "      <td>&lt;built-in method weekday of Timestamp object a...</td>\n",
              "    </tr>\n",
              "    <tr>\n",
              "      <th>2</th>\n",
              "      <td>2015</td>\n",
              "      <td>4</td>\n",
              "      <td>12</td>\n",
              "      <td>&lt;built-in method weekday of Timestamp object a...</td>\n",
              "    </tr>\n",
              "    <tr>\n",
              "      <th>3</th>\n",
              "      <td>2013</td>\n",
              "      <td>4</td>\n",
              "      <td>24</td>\n",
              "      <td>&lt;built-in method weekday of Timestamp object a...</td>\n",
              "    </tr>\n",
              "    <tr>\n",
              "      <th>4</th>\n",
              "      <td>2013</td>\n",
              "      <td>9</td>\n",
              "      <td>8</td>\n",
              "      <td>&lt;built-in method weekday of Timestamp object a...</td>\n",
              "    </tr>\n",
              "    <tr>\n",
              "      <th>...</th>\n",
              "      <td>...</td>\n",
              "      <td>...</td>\n",
              "      <td>...</td>\n",
              "      <td>...</td>\n",
              "    </tr>\n",
              "    <tr>\n",
              "      <th>341926</th>\n",
              "      <td>2012</td>\n",
              "      <td>9</td>\n",
              "      <td>11</td>\n",
              "      <td>&lt;built-in method weekday of Timestamp object a...</td>\n",
              "    </tr>\n",
              "    <tr>\n",
              "      <th>341927</th>\n",
              "      <td>2013</td>\n",
              "      <td>4</td>\n",
              "      <td>5</td>\n",
              "      <td>&lt;built-in method weekday of Timestamp object a...</td>\n",
              "    </tr>\n",
              "    <tr>\n",
              "      <th>341928</th>\n",
              "      <td>2014</td>\n",
              "      <td>2</td>\n",
              "      <td>9</td>\n",
              "      <td>&lt;built-in method weekday of Timestamp object a...</td>\n",
              "    </tr>\n",
              "    <tr>\n",
              "      <th>341929</th>\n",
              "      <td>2014</td>\n",
              "      <td>10</td>\n",
              "      <td>6</td>\n",
              "      <td>&lt;built-in method weekday of Timestamp object a...</td>\n",
              "    </tr>\n",
              "    <tr>\n",
              "      <th>341930</th>\n",
              "      <td>2008</td>\n",
              "      <td>12</td>\n",
              "      <td>31</td>\n",
              "      <td>&lt;built-in method weekday of Timestamp object a...</td>\n",
              "    </tr>\n",
              "  </tbody>\n",
              "</table>\n",
              "<p>341931 rows × 4 columns</p>\n",
              "</div>"
            ],
            "text/plain": [
              "       data/review_date data/review_date data/review_date  \\\n",
              "0                  2015                6               23   \n",
              "1                  2014                1                1   \n",
              "2                  2015                4               12   \n",
              "3                  2013                4               24   \n",
              "4                  2013                9                8   \n",
              "...                 ...              ...              ...   \n",
              "341926             2012                9               11   \n",
              "341927             2013                4                5   \n",
              "341928             2014                2                9   \n",
              "341929             2014               10                6   \n",
              "341930             2008               12               31   \n",
              "\n",
              "                                         data/review_date  \n",
              "0       <built-in method weekday of Timestamp object a...  \n",
              "1       <built-in method weekday of Timestamp object a...  \n",
              "2       <built-in method weekday of Timestamp object a...  \n",
              "3       <built-in method weekday of Timestamp object a...  \n",
              "4       <built-in method weekday of Timestamp object a...  \n",
              "...                                                   ...  \n",
              "341926  <built-in method weekday of Timestamp object a...  \n",
              "341927  <built-in method weekday of Timestamp object a...  \n",
              "341928  <built-in method weekday of Timestamp object a...  \n",
              "341929  <built-in method weekday of Timestamp object a...  \n",
              "341930  <built-in method weekday of Timestamp object a...  \n",
              "\n",
              "[341931 rows x 4 columns]"
            ]
          },
          "execution_count": 94,
          "metadata": {},
          "output_type": "execute_result"
        }
      ],
      "source": [
        "year = dates.apply(lambda x:x.year)\n",
        "months = dates.apply(lambda x:x.month)\n",
        "day = dates.apply(lambda x:x.day)\n",
        "weekday = dates.apply(lambda x:x.weekday)\n",
        "\n",
        "pd.concat([year, months, day, weekday], axis=1)"
      ]
    },
    {
      "cell_type": "code",
      "execution_count": null,
      "metadata": {
        "execution": {
          "iopub.execute_input": "2022-03-07T23:35:15.375215Z",
          "iopub.status.busy": "2022-03-07T23:35:15.374457Z",
          "iopub.status.idle": "2022-03-07T23:36:16.869602Z",
          "shell.execute_reply": "2022-03-07T23:36:16.868754Z",
          "shell.execute_reply.started": "2022-02-28T00:11:10.129413Z"
        },
        "papermill": {
          "duration": 64.985773,
          "end_time": "2022-03-07T23:36:16.869755",
          "exception": false,
          "start_time": "2022-03-07T23:35:11.883982",
          "status": "completed"
        },
        "tags": [],
        "id": "eedbe42d"
      },
      "outputs": [],
      "source": [
        "from pandas.tseries.holiday import USFederalHolidayCalendar\n",
        "cal = USFederalHolidayCalendar()\n",
        "allHolidays = cal.holidays(start=dates.min(), \n",
        "                           end=dates.max()).to_pydatetime()\n",
        "isHoliday = dates.apply(lambda x:x in allHolidays)"
      ]
    },
    {
      "cell_type": "markdown",
      "metadata": {
        "papermill": {
          "duration": 3.365235,
          "end_time": "2022-03-07T23:36:23.666340",
          "exception": false,
          "start_time": "2022-03-07T23:36:20.301105",
          "status": "completed"
        },
        "tags": [],
        "id": "0bb0c0e4"
      },
      "source": [
        "---"
      ]
    }
  ]
}