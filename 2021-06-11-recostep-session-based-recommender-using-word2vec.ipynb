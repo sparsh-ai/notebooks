{
 "cells": [
  {
   "cell_type": "markdown",
   "metadata": {
    "id": "J0v8-m3JYFQo"
   },
   "source": [
    "# Session-based recommendation using word2vec\n",
    "> How to build a session-based product recommender using word2vec model on retail dataset\n",
    "\n",
    "- toc: true\n",
    "- badges: true\n",
    "- comments: true\n",
    "- categories: [session, retail]\n",
    "- image: "
   ]
  },
  {
   "cell_type": "markdown",
   "metadata": {
    "id": "XIY8wbf-VFyT"
   },
   "source": [
    "### Install/import libraries"
   ]
  },
  {
   "cell_type": "code",
   "execution_count": null,
   "metadata": {
    "id": "5pz-XFyoj5is"
   },
   "outputs": [],
   "source": [
    "# !sudo apt-get install -y ray\n",
    "# !pip install ray\n",
    "# !pip install ray[default]\n",
    "# !pip install ray[tune]"
   ]
  },
  {
   "cell_type": "code",
   "execution_count": 80,
   "metadata": {
    "id": "zV-QhI_1UkjA"
   },
   "outputs": [],
   "source": [
    "import pandas as pd\n",
    "import numpy as np\n",
    "import matplotlib.pyplot as plt\n",
    "import seaborn as sns\n",
    "import os\n",
    "import pickle\n",
    "from numpy.random import default_rng\n",
    "import collections\n",
    "import itertools\n",
    "from copy import deepcopy \n",
    "\n",
    "from gensim.models.word2vec import Word2Vec\n",
    "from gensim.models.callbacks import CallbackAny2Vec\n",
    "from ray import tune\n",
    "\n",
    "import os\n",
    "import argparse\n",
    "import ray\n",
    "import time\n",
    "\n",
    "MODEL_DIR = \"/content\""
   ]
  },
  {
   "cell_type": "code",
   "execution_count": 74,
   "metadata": {
    "id": "XDOxi0wabyQs"
   },
   "outputs": [],
   "source": [
    "plt.style.use(\"seaborn-white\")\n",
    "cldr_colors = ['#00b6b5', '#f7955b','#6c8cc7', '#828282']#\n",
    "cldr_green = '#a4d65d'\n",
    "color_palette = \"viridis\"\n",
    "\n",
    "rng = default_rng(123)\n",
    "\n",
    "ECOMM_PATH = \"/content\"\n",
    "ECOMM_FILENAME = \"OnlineRetail.csv\"\n",
    "\n",
    "%load_ext tensorboard"
   ]
  },
  {
   "cell_type": "markdown",
   "metadata": {
    "id": "4UPgoIvlU9z2"
   },
   "source": [
    "### Load data"
   ]
  },
  {
   "cell_type": "code",
   "execution_count": null,
   "metadata": {
    "id": "t5DGOggiTryP"
   },
   "outputs": [],
   "source": [
    "!wget -O data.zip https://github.com/sparsh-ai/reco-data/blob/master/onlineretail.zip?raw=true\n",
    "!unzip data.zip"
   ]
  },
  {
   "cell_type": "code",
   "execution_count": 13,
   "metadata": {
    "id": "Hgc7vOvTV7y9"
   },
   "outputs": [],
   "source": [
    "def load_original_ecomm(pathname=ECOMM_PATH):\n",
    "    df = pd.read_csv(os.path.join(pathname, ECOMM_FILENAME),\n",
    "        encoding=\"ISO-8859-1\",\n",
    "        parse_dates=[\"InvoiceDate\"],\n",
    "    )\n",
    "    return df"
   ]
  },
  {
   "cell_type": "code",
   "execution_count": 46,
   "metadata": {
    "colab": {
     "base_uri": "https://localhost:8080/",
     "height": 289
    },
    "id": "TmsQtNH4dEwb",
    "outputId": "f6fb36b1-69ac-4d1a-f014-50a407304374"
   },
   "outputs": [
    {
     "data": {
      "text/html": [
       "<div>\n",
       "<style scoped>\n",
       "    .dataframe tbody tr th:only-of-type {\n",
       "        vertical-align: middle;\n",
       "    }\n",
       "\n",
       "    .dataframe tbody tr th {\n",
       "        vertical-align: top;\n",
       "    }\n",
       "\n",
       "    .dataframe thead th {\n",
       "        text-align: right;\n",
       "    }\n",
       "</style>\n",
       "<table border=\"1\" class=\"dataframe\">\n",
       "  <thead>\n",
       "    <tr style=\"text-align: right;\">\n",
       "      <th></th>\n",
       "      <th>InvoiceNo</th>\n",
       "      <th>StockCode</th>\n",
       "      <th>Description</th>\n",
       "      <th>Quantity</th>\n",
       "      <th>InvoiceDate</th>\n",
       "      <th>UnitPrice</th>\n",
       "      <th>CustomerID</th>\n",
       "      <th>Country</th>\n",
       "    </tr>\n",
       "  </thead>\n",
       "  <tbody>\n",
       "    <tr>\n",
       "      <th>0</th>\n",
       "      <td>536365</td>\n",
       "      <td>85123A</td>\n",
       "      <td>WHITE HANGING HEART T-LIGHT HOLDER</td>\n",
       "      <td>6</td>\n",
       "      <td>2010-12-01 08:26:00</td>\n",
       "      <td>2.55</td>\n",
       "      <td>17850.0</td>\n",
       "      <td>United Kingdom</td>\n",
       "    </tr>\n",
       "    <tr>\n",
       "      <th>1</th>\n",
       "      <td>536365</td>\n",
       "      <td>71053</td>\n",
       "      <td>WHITE METAL LANTERN</td>\n",
       "      <td>6</td>\n",
       "      <td>2010-12-01 08:26:00</td>\n",
       "      <td>3.39</td>\n",
       "      <td>17850.0</td>\n",
       "      <td>United Kingdom</td>\n",
       "    </tr>\n",
       "    <tr>\n",
       "      <th>2</th>\n",
       "      <td>536365</td>\n",
       "      <td>84406B</td>\n",
       "      <td>CREAM CUPID HEARTS COAT HANGER</td>\n",
       "      <td>8</td>\n",
       "      <td>2010-12-01 08:26:00</td>\n",
       "      <td>2.75</td>\n",
       "      <td>17850.0</td>\n",
       "      <td>United Kingdom</td>\n",
       "    </tr>\n",
       "    <tr>\n",
       "      <th>3</th>\n",
       "      <td>536365</td>\n",
       "      <td>84029G</td>\n",
       "      <td>KNITTED UNION FLAG HOT WATER BOTTLE</td>\n",
       "      <td>6</td>\n",
       "      <td>2010-12-01 08:26:00</td>\n",
       "      <td>3.39</td>\n",
       "      <td>17850.0</td>\n",
       "      <td>United Kingdom</td>\n",
       "    </tr>\n",
       "    <tr>\n",
       "      <th>4</th>\n",
       "      <td>536365</td>\n",
       "      <td>84029E</td>\n",
       "      <td>RED WOOLLY HOTTIE WHITE HEART.</td>\n",
       "      <td>6</td>\n",
       "      <td>2010-12-01 08:26:00</td>\n",
       "      <td>3.39</td>\n",
       "      <td>17850.0</td>\n",
       "      <td>United Kingdom</td>\n",
       "    </tr>\n",
       "  </tbody>\n",
       "</table>\n",
       "</div>"
      ],
      "text/plain": [
       "  InvoiceNo StockCode  ... CustomerID         Country\n",
       "0    536365    85123A  ...    17850.0  United Kingdom\n",
       "1    536365     71053  ...    17850.0  United Kingdom\n",
       "2    536365    84406B  ...    17850.0  United Kingdom\n",
       "3    536365    84029G  ...    17850.0  United Kingdom\n",
       "4    536365    84029E  ...    17850.0  United Kingdom\n",
       "\n",
       "[5 rows x 8 columns]"
      ]
     },
     "execution_count": 46,
     "metadata": {
      "tags": []
     },
     "output_type": "execute_result"
    }
   ],
   "source": [
    "df = load_original_ecomm()\n",
    "df.head()"
   ]
  },
  {
   "cell_type": "code",
   "execution_count": 47,
   "metadata": {
    "colab": {
     "base_uri": "https://localhost:8080/"
    },
    "id": "QnlEr3cngRbq",
    "outputId": "d50991db-b741-453a-f264-97ba5f51430f"
   },
   "outputs": [
    {
     "data": {
      "text/plain": [
       "InvoiceNo           0\n",
       "StockCode           0\n",
       "Description      1454\n",
       "Quantity            0\n",
       "InvoiceDate         0\n",
       "UnitPrice           0\n",
       "CustomerID     135080\n",
       "Country             0\n",
       "dtype: int64"
      ]
     },
     "execution_count": 47,
     "metadata": {
      "tags": []
     },
     "output_type": "execute_result"
    }
   ],
   "source": [
    "df.isnull().sum()"
   ]
  },
  {
   "cell_type": "markdown",
   "metadata": {
    "id": "XedYV2JkWigc"
   },
   "source": [
    "### Preprocess"
   ]
  },
  {
   "cell_type": "markdown",
   "metadata": {
    "id": "474PEoLOgFI_"
   },
   "source": [
    "There are some rows with missing information, so we'll filter those out. Since we want to define customer sessions, we'll use group by CustomerID field and filter out any customer entries that have fewer than three purchased items."
   ]
  },
  {
   "cell_type": "code",
   "execution_count": 48,
   "metadata": {
    "id": "3KVsMP58gp5h"
   },
   "outputs": [],
   "source": [
    "def preprocess_ecomm(df, min_session_count=3):\n",
    "\n",
    "    df.dropna(inplace=True)\n",
    "    item_counts = df.groupby([\"CustomerID\"]).count()[\"StockCode\"]\n",
    "    df = df[df[\"CustomerID\"].isin(item_counts[item_counts >= min_session_count].index)].reset_index(drop=True)\n",
    "    \n",
    "    return df"
   ]
  },
  {
   "cell_type": "code",
   "execution_count": 57,
   "metadata": {
    "colab": {
     "base_uri": "https://localhost:8080/",
     "height": 289
    },
    "id": "5138zkW_g1g0",
    "outputId": "18135a1a-f3df-4007-c987-c7a02bf27355"
   },
   "outputs": [
    {
     "data": {
      "text/html": [
       "<div>\n",
       "<style scoped>\n",
       "    .dataframe tbody tr th:only-of-type {\n",
       "        vertical-align: middle;\n",
       "    }\n",
       "\n",
       "    .dataframe tbody tr th {\n",
       "        vertical-align: top;\n",
       "    }\n",
       "\n",
       "    .dataframe thead th {\n",
       "        text-align: right;\n",
       "    }\n",
       "</style>\n",
       "<table border=\"1\" class=\"dataframe\">\n",
       "  <thead>\n",
       "    <tr style=\"text-align: right;\">\n",
       "      <th></th>\n",
       "      <th>InvoiceNo</th>\n",
       "      <th>StockCode</th>\n",
       "      <th>Description</th>\n",
       "      <th>Quantity</th>\n",
       "      <th>InvoiceDate</th>\n",
       "      <th>UnitPrice</th>\n",
       "      <th>CustomerID</th>\n",
       "      <th>Country</th>\n",
       "    </tr>\n",
       "  </thead>\n",
       "  <tbody>\n",
       "    <tr>\n",
       "      <th>0</th>\n",
       "      <td>536365</td>\n",
       "      <td>85123A</td>\n",
       "      <td>WHITE HANGING HEART T-LIGHT HOLDER</td>\n",
       "      <td>6</td>\n",
       "      <td>2010-12-01 08:26:00</td>\n",
       "      <td>2.55</td>\n",
       "      <td>17850.0</td>\n",
       "      <td>United Kingdom</td>\n",
       "    </tr>\n",
       "    <tr>\n",
       "      <th>1</th>\n",
       "      <td>536365</td>\n",
       "      <td>71053</td>\n",
       "      <td>WHITE METAL LANTERN</td>\n",
       "      <td>6</td>\n",
       "      <td>2010-12-01 08:26:00</td>\n",
       "      <td>3.39</td>\n",
       "      <td>17850.0</td>\n",
       "      <td>United Kingdom</td>\n",
       "    </tr>\n",
       "    <tr>\n",
       "      <th>2</th>\n",
       "      <td>536365</td>\n",
       "      <td>84406B</td>\n",
       "      <td>CREAM CUPID HEARTS COAT HANGER</td>\n",
       "      <td>8</td>\n",
       "      <td>2010-12-01 08:26:00</td>\n",
       "      <td>2.75</td>\n",
       "      <td>17850.0</td>\n",
       "      <td>United Kingdom</td>\n",
       "    </tr>\n",
       "    <tr>\n",
       "      <th>3</th>\n",
       "      <td>536365</td>\n",
       "      <td>84029G</td>\n",
       "      <td>KNITTED UNION FLAG HOT WATER BOTTLE</td>\n",
       "      <td>6</td>\n",
       "      <td>2010-12-01 08:26:00</td>\n",
       "      <td>3.39</td>\n",
       "      <td>17850.0</td>\n",
       "      <td>United Kingdom</td>\n",
       "    </tr>\n",
       "    <tr>\n",
       "      <th>4</th>\n",
       "      <td>536365</td>\n",
       "      <td>84029E</td>\n",
       "      <td>RED WOOLLY HOTTIE WHITE HEART.</td>\n",
       "      <td>6</td>\n",
       "      <td>2010-12-01 08:26:00</td>\n",
       "      <td>3.39</td>\n",
       "      <td>17850.0</td>\n",
       "      <td>United Kingdom</td>\n",
       "    </tr>\n",
       "  </tbody>\n",
       "</table>\n",
       "</div>"
      ],
      "text/plain": [
       "  InvoiceNo StockCode  ... CustomerID         Country\n",
       "0    536365    85123A  ...    17850.0  United Kingdom\n",
       "1    536365     71053  ...    17850.0  United Kingdom\n",
       "2    536365    84406B  ...    17850.0  United Kingdom\n",
       "3    536365    84029G  ...    17850.0  United Kingdom\n",
       "4    536365    84029E  ...    17850.0  United Kingdom\n",
       "\n",
       "[5 rows x 8 columns]"
      ]
     },
     "execution_count": 57,
     "metadata": {
      "tags": []
     },
     "output_type": "execute_result"
    }
   ],
   "source": [
    "df = preprocess_ecomm(df)\n",
    "df.head()"
   ]
  },
  {
   "cell_type": "code",
   "execution_count": 58,
   "metadata": {
    "colab": {
     "base_uri": "https://localhost:8080/"
    },
    "id": "0P1BcYYYhDqI",
    "outputId": "377b0962-8019-4c93-9812-932b7ff020cd"
   },
   "outputs": [
    {
     "data": {
      "text/plain": [
       "4234"
      ]
     },
     "execution_count": 58,
     "metadata": {
      "tags": []
     },
     "output_type": "execute_result"
    }
   ],
   "source": [
    "# Number of unique customers after preprocessing\n",
    "df.CustomerID.nunique()"
   ]
  },
  {
   "cell_type": "code",
   "execution_count": 59,
   "metadata": {
    "colab": {
     "base_uri": "https://localhost:8080/"
    },
    "id": "wq63Y-D-hWKR",
    "outputId": "5e39d429-418b-4d08-d4f3-c529cfcf3252"
   },
   "outputs": [
    {
     "data": {
      "text/plain": [
       "3684"
      ]
     },
     "execution_count": 59,
     "metadata": {
      "tags": []
     },
     "output_type": "execute_result"
    }
   ],
   "source": [
    "# Number of unique stock codes (products)\n",
    "df.StockCode.nunique()"
   ]
  },
  {
   "cell_type": "markdown",
   "metadata": {
    "id": "lKpBJdaOiExk"
   },
   "source": [
    "### Product popularity\n",
    "Here we plot the frequency by which each product is purchased (occurs in a transaction)"
   ]
  },
  {
   "cell_type": "code",
   "execution_count": 60,
   "metadata": {
    "colab": {
     "base_uri": "https://localhost:8080/",
     "height": 441
    },
    "id": "TZLOGjaPiHPY",
    "outputId": "12ef2092-5394-41c3-b158-6b0f7b8809f0"
   },
   "outputs": [
    {
     "data": {
      "image/png": "[encoded data removed]",
      "text/plain": [
       "<Figure size 576x432 with 1 Axes>"
      ]
     },
     "metadata": {
      "tags": []
     },
     "output_type": "display_data"
    }
   ],
   "source": [
    "plt.style.use(\"seaborn-white\")\n",
    "\n",
    "# Number of unique customer IDs\n",
    "product_counts = df.groupby(['StockCode']).count()['InvoiceNo'].values\n",
    "\n",
    "fig = plt.figure(figsize=(8,6))\n",
    "plt.yticks(fontsize=14)\n",
    "plt.xticks(fontsize=14)\n",
    "\n",
    "plt.semilogy(sorted(product_counts))\n",
    "plt.ylabel(\"Product counts\", fontsize=16);\n",
    "plt.xlabel(\"Product index\", fontsize=16);\n",
    "\n",
    "plt.tight_layout()"
   ]
  },
  {
   "cell_type": "markdown",
   "metadata": {
    "id": "I4evk-MwiT-f"
   },
   "source": [
    "The left side of the figure corresponds to products that are not very popular (because they aren't purchased very often), while the far right side indicates that some products are extremely popular and have been purchased hundreds of times.\n",
    "\n",
    "### Customer session lengths\n",
    "We define a customer's \"session\" as all the products they purchased in each transaction, in the order in which they were purchased (ordered InvoiceDate). We can then examine statistics regarding the length of these sessions. Below is a boxplot of all customer session lengths."
   ]
  },
  {
   "cell_type": "code",
   "execution_count": 61,
   "metadata": {
    "colab": {
     "base_uri": "https://localhost:8080/",
     "height": 441
    },
    "id": "0nlaj3ieiILl",
    "outputId": "36a93a1c-2047-44f6-9880-164a37107b14"
   },
   "outputs": [
    {
     "data": {
      "image/png": "[encoded data removed]",
      "text/plain": [
       "<Figure size 576x432 with 1 Axes>"
      ]
     },
     "metadata": {
      "tags": []
     },
     "output_type": "display_data"
    }
   ],
   "source": [
    "session_lengths = df.groupby(\"CustomerID\").count()['InvoiceNo'].values\n",
    "\n",
    "fig = plt.figure(figsize=(8,6))\n",
    "plt.xticks(fontsize=14)\n",
    "\n",
    "ax = sns.boxplot(x=session_lengths, color=cldr_colors[2])\n",
    "\n",
    "for patch in ax.artists:\n",
    "    r, g, b, a = patch.get_facecolor()\n",
    "    patch.set_facecolor((r, g, b, .7))\n",
    "    \n",
    "plt.xlim(0,600)\n",
    "plt.xlabel(\"Session length (# of products purchased)\", fontsize=16);\n",
    "\n",
    "plt.tight_layout()\n",
    "plt.savefig(\"session_lengths.png\", transparent=True, dpi=150)"
   ]
  },
  {
   "cell_type": "code",
   "execution_count": 62,
   "metadata": {
    "colab": {
     "base_uri": "https://localhost:8080/"
    },
    "id": "a6aVEx4uiIIi",
    "outputId": "ecf53307-79cf-444e-9b90-e0e049bfee97"
   },
   "outputs": [
    {
     "name": "stdout",
     "output_type": "stream",
     "text": [
      "Minimum session length: \t 3\n",
      "Maximum session length: \t 7983\n",
      "Mean session length: \t \t 96.03967879074162\n",
      "Median session length: \t \t 44.0\n",
      "Total number of purchases: \t 406632\n"
     ]
    }
   ],
   "source": [
    "print(\"Minimum session length: \\t\", min(session_lengths))\n",
    "print(\"Maximum session length: \\t\", max(session_lengths))\n",
    "print(\"Mean session length: \\t \\t\", np.mean(session_lengths))\n",
    "print(\"Median session length: \\t \\t\", np.median(session_lengths))\n",
    "print(\"Total number of purchases: \\t\", np.sum(session_lengths))"
   ]
  },
  {
   "cell_type": "markdown",
   "metadata": {
    "id": "pJ7qK-MCXBwx"
   },
   "source": [
    "### Sessionization"
   ]
  },
  {
   "cell_type": "code",
   "execution_count": 56,
   "metadata": {
    "id": "V_tNkOldV7t6"
   },
   "outputs": [],
   "source": [
    "def construct_session_sequences(df, sessionID, itemID, save_filename):\n",
    "    \"\"\"\n",
    "    Given a dataset in pandas df format, construct a list of lists where each sublist\n",
    "    represents the interactions relevant to a specific session, for each sessionID. \n",
    "    These sublists are composed of a series of itemIDs (str) and are the core training \n",
    "    data used in the Word2Vec algorithm. \n",
    "    This is performed by first grouping over the SessionID column, then casting to list\n",
    "    each group's series of values in the ItemID column. \n",
    "    INPUTS\n",
    "    ------------\n",
    "    df:                 pandas dataframe\n",
    "    sessionID: str      column name in the df that represents invididual sessions\n",
    "    itemID: str         column name in the df that represents the items within a session\n",
    "    save_filename: str  output filename \n",
    "  \n",
    "    Example:\n",
    "    Given a df that looks like \n",
    "    SessionID |   ItemID \n",
    "    ----------------------\n",
    "        1     |     111\n",
    "        1     |     123\n",
    "        1     |     345\n",
    "        2     |     045 \n",
    "        2     |     334\n",
    "        2     |     342\n",
    "        2     |     8970\n",
    "        2     |     345\n",
    "    \n",
    "    Retrun a list of lists like this: \n",
    "    sessions = [\n",
    "            ['111', '123', '345'],\n",
    "            ['045', '334', '342', '8970', '345'],\n",
    "        ]\n",
    "    \"\"\"\n",
    "    grp_by_session = df.groupby([sessionID])\n",
    "\n",
    "    session_sequences = []\n",
    "    for name, group in grp_by_session:\n",
    "        session_sequences.append(list(group[itemID].values))\n",
    "\n",
    "    pickle.dump(session_sequences, open(save_filename, \"wb\"))\n",
    "    return session_sequences"
   ]
  },
  {
   "cell_type": "code",
   "execution_count": 63,
   "metadata": {
    "colab": {
     "base_uri": "https://localhost:8080/",
     "height": 171
    },
    "id": "jiswHnavV7wt",
    "outputId": "a4078ea5-9b1c-4253-aa38-97ab6628ced3"
   },
   "outputs": [
    {
     "data": {
      "application/vnd.google.colaboratory.intrinsic+json": {
       "type": "string"
      },
      "text/plain": [
       "'85116 --> 22375 --> 71477 --> 22492 --> 22771 --> 22772 --> 22773 --> 22774 --> 22775 --> 22805 --> 22725 --> 22726 --> 22727 --> 22728 --> 22729 --> 22212 --> 85167B --> 21171 --> 22195 --> 84969 --> 84997C --> 84997B --> 84997D --> 22494 --> 22497 --> 85232D --> 21064 --> 21731 --> 84558A --> 20780 --> 20782 --> 84625A --> 84625C --> 85116 --> 20719 --> 22375 --> 22376 --> 20966 --> 22725 --> 22726 --> 22727 --> 22728 --> 22729 --> 22196 --> 84992 --> 84991 --> 21976 --> 22417 --> 47559B --> 21154 --> 21041 --> 21035 --> 22423 --> 84969 --> 22134 --> 21832 --> 22422 --> 22497 --> 21731 --> 84558A --> 22376 --> 22374 --> 22371 --> 22375 --> 20665 --> 23076 --> 21791 --> 22550 --> 23177 --> 22432 --> 22774 --> 22195 --> 22196 --> 21975 --> 21041 --> 22423 --> 22699 --> 21731 --> 22492 --> 84559A --> 84559B --> 16008 --> 22821 --> 22497 --> 23084 --> 23162 --> 23171 --> 23172 --> 23170 --> 23173 --> 23174 --> 23175 --> 22371 --> 22375 --> 85178 --> 17021 --> 23146 --> 22196 --> 84558A --> 51014C --> 22727 --> 22725 --> 23308 --> 23297 --> 22375 --> 22374 --> 22376 --> 22371 --> 22372 --> 21578 --> 20719 --> 22727 --> 23146 --> 23147 --> 47559B --> 84992 --> 84991 --> 21975 --> 22423 --> 23175 --> 84558A --> 22992 --> 21791 --> 23316 --> 23480 --> 21265 --> 21636 --> 22372 --> 22375 --> 22371 --> 22374 --> 22252 --> 22945 --> 22423 --> 23173 --> 47580 --> 47567B --> 47559B --> 22698 --> 22697 --> 84558A --> 23084 --> 21731 --> 23177 --> 21791 --> 23508 --> 23506 --> 23503 --> 22992 --> 22561 --> 22492 --> 22621 --> 23146 --> 23421 --> 23422 --> 23420 --> 22699 --> 22725 --> 22728 --> 22726 --> 22727 --> 21976 --> 22417 --> 23308 --> 84991 --> 84992 --> 22196 --> 22195 --> 20719 --> 23162 --> 22131 --> 23497 --> 23552 --> 21064 --> 84625A --> 21731 --> 23084 --> 20719 --> 21265 --> 23271 --> 23506 --> 23508'"
      ]
     },
     "execution_count": 63,
     "metadata": {
      "tags": []
     },
     "output_type": "execute_result"
    }
   ],
   "source": [
    "filename = os.path.join(ECOMM_PATH, ECOMM_FILENAME.replace(\".csv\", \"_sessions.pkl\"))\n",
    "sessions = construct_session_sequences(df, \"CustomerID\", \"StockCode\", save_filename=filename)\n",
    "' --> '.join(sessions[0])"
   ]
  },
  {
   "cell_type": "code",
   "execution_count": 75,
   "metadata": {
    "id": "7nvizM2Tl4_n"
   },
   "outputs": [],
   "source": [
    "def load_ecomm(filename=None):\n",
    "    \"\"\"\n",
    "    Checks to see if the processed Online Retail ecommerce session sequence file exists\n",
    "        If True: loads and returns the session sequences\n",
    "        If False: creates and returns the session sequences constructed from the original data file\n",
    "    \"\"\"\n",
    "    original_filename = os.path.join(ECOMM_PATH, ECOMM_FILENAME)\n",
    "    if filename is None:\n",
    "        processed_filename = original_filename.replace(\".csv\", \"_sessions.pkl\")\n",
    "        if os.path.exists(processed_filename):\n",
    "            return pickle.load(open(processed_filename,'rb'))\n",
    "\n",
    "    df = load_original_ecomm(original_filename)\n",
    "    df = preprocess_ecomm(df)\n",
    "    session_sequences = construct_session_sequences(df, \"CustomerID\", \"StockCode\",\n",
    "                                                    save_filename=original_filename)\n",
    "    return session_sequences"
   ]
  },
  {
   "cell_type": "markdown",
   "metadata": {
    "id": "4IgJEMr7XHB2"
   },
   "source": [
    "### Splitting"
   ]
  },
  {
   "cell_type": "code",
   "execution_count": 40,
   "metadata": {
    "id": "GpIVmG6QV7rG"
   },
   "outputs": [],
   "source": [
    "def train_test_split(session_sequences, test_size: int = 10000, rng=rng):\n",
    "    \"\"\"\n",
    "    Next Event Prediction (NEP) does not necessarily follow the traditional train/test split. \n",
    "    Instead training is perform on the first n-1 items in a session sequence of n items. \n",
    "    The test set is constructed of (n-1, n) \"query\" pairs where the n-1 item is used to generate \n",
    "    recommendation predictions and it is checked whether the nth item is included in those recommendations. \n",
    "    Example:\n",
    "        Given a session sequence ['045', '334', '342', '8970', '128']\n",
    "        Training is done on ['045', '334', '342', '8970']\n",
    "        Testing (and validation) is done on ['8970', '128']\n",
    "    \n",
    "    Test and Validation sets are constructed to be disjoint. \n",
    "    \"\"\"\n",
    "\n",
    "    ## Construct training set\n",
    "    # use (1 st, ..., n-1 th) items from each session sequence to form the train set (drop last item)\n",
    "    train = [sess[:-1] for sess in session_sequences]\n",
    "\n",
    "    if test_size > len(train):\n",
    "        print(\n",
    "            f\"Test set cannot be larger than train set. Train set contains {len(train)} sessions.\"\n",
    "        )\n",
    "        return\n",
    "\n",
    "    ### Construct test and validation sets\n",
    "    # sub-sample 10k sessions, and use (n-1 th, n th) pairs of items from session_squences to form the\n",
    "    # disjoint validaton and test sets\n",
    "    test_validation = [sess[-2:] for sess in session_sequences]\n",
    "    index = np.random.choice(range(len(test_validation)), test_size * 2, replace=False)\n",
    "    test = np.array(test_validation)[index[:test_size]].tolist()\n",
    "    validation = np.array(test_validation)[index[test_size:]].tolist()\n",
    "\n",
    "    return train, test, validation"
   ]
  },
  {
   "cell_type": "code",
   "execution_count": 42,
   "metadata": {
    "colab": {
     "base_uri": "https://localhost:8080/"
    },
    "id": "dR2iVWuscfvt",
    "outputId": "218a61ca-53c1-4381-8af0-b00651e97fe5"
   },
   "outputs": [
    {
     "name": "stdout",
     "output_type": "stream",
     "text": [
      "4234\n",
      "4234 1000 1000\n"
     ]
    }
   ],
   "source": [
    "print(len(sessions))\n",
    "train, test, valid = train_test_split(sessions, test_size=1000)\n",
    "print(len(train), len(valid), len(test))"
   ]
  },
  {
   "cell_type": "markdown",
   "metadata": {
    "id": "nrfW72QYXL3Z"
   },
   "source": [
    "### Metrics"
   ]
  },
  {
   "cell_type": "code",
   "execution_count": 64,
   "metadata": {
    "id": "9gZKiSz4fALx"
   },
   "outputs": [],
   "source": [
    "def recall_at_k(test, embeddings, k: int = 10) -> float:\n",
    "    \"\"\"\n",
    "    test must be a list of (query, ground truth) pairs\n",
    "    embeddings must be a gensim.word2vec.wv thingy\n",
    "    \"\"\"\n",
    "    ratk_score = 0\n",
    "    for query_item, ground_truth in test:\n",
    "        # get the k most similar items to the query item (computes cosine similarity)\n",
    "        neighbors = embeddings.similar_by_vector(query_item, topn=k)\n",
    "        # clean up the list\n",
    "        recommendations = [item for item, score in neighbors]\n",
    "        # check if ground truth is in the recommedations\n",
    "        if ground_truth in recommendations:\n",
    "            ratk_score += 1\n",
    "    ratk_score /= len(test)\n",
    "    return ratk_score\n",
    "\n",
    "\n",
    "def recall_at_k_baseline(test, comatrix, k: int = 10) -> float:\n",
    "    \"\"\"\n",
    "    test must be a list of (query, ground truth) pairs\n",
    "    embeddings must be a gensim.word2vec.wv thingy\n",
    "    \"\"\"\n",
    "    ratk_score = 0\n",
    "    for query_item, ground_truth in test:\n",
    "        # get the k most similar items to the query item (computes cosine similarity)\n",
    "        try:\n",
    "            co_occ = collections.Counter(comatrix[query_item])\n",
    "            items_and_counts = co_occ.most_common(k)\n",
    "            recommendations = [item for (item, counts) in items_and_counts]\n",
    "            if ground_truth in recommendations: \n",
    "                ratk_score +=1\n",
    "        except:\n",
    "            pass\n",
    "    ratk_score /= len(test)\n",
    "    return ratk_score\n",
    "\n",
    "\n",
    "def hitratio_at_k(test, embeddings, k: int = 10) -> float:\n",
    "    \"\"\"\n",
    "    Implemented EXACTLY as was done in the Hyperparameters Matter paper. \n",
    "    In the paper this metric is described as \n",
    "        • Hit ratio at K (HR@K). It is equal to 1 if the test item appears\n",
    "        in the list of k predicted items and 0 otherwise [13]. \n",
    "    \n",
    "    But this is not what they implement, where they instead divide by k. \n",
    "    What they have actually implemented is more like Precision@k.\n",
    "    However, Precision@k doesn't make a lot of sense in this context because\n",
    "    there is only ONE possible correct answer in the list of generated \n",
    "    recommendations.  I don't think this is the best metric to use but \n",
    "    I'll keep it here for posterity. \n",
    "    test must be a list of (query, ground truth) pairs\n",
    "    embeddings must be a gensim.word2vec.wv thingy\n",
    "    \"\"\"\n",
    "    hratk_score = 0\n",
    "    for query_item, ground_truth in test:\n",
    "        # If the query item and next item are the same, prediction is automatically correct\n",
    "        if query_item == ground_truth:\n",
    "            hratk_score += 1 / k\n",
    "        else:\n",
    "            # get the k most similar items to the query item (computes cosine similarity)\n",
    "            neighbors = embeddings.similar_by_vector(query_item, topn=k)\n",
    "            # clean up the list\n",
    "            recommendations = [item for item, score in neighbors]\n",
    "            # check if ground truth is in the recommedations\n",
    "            if ground_truth in recommendations:\n",
    "                hratk_score += 1 / k\n",
    "    hratk_score /= len(test)\n",
    "    return hratk_score*1000\n",
    "\n",
    "\n",
    "def mrr_at_k(test, embeddings, k: int) -> float:\n",
    "    \"\"\"\n",
    "    Mean Reciprocal Rank. \n",
    "    test must be a list of (query, ground truth) pairs\n",
    "    embeddings must be a gensim.word2vec.wv thingy\n",
    "    \"\"\"\n",
    "    mrratk_score = 0\n",
    "    for query_item, ground_truth in test:\n",
    "        # get the k most similar items to the query item (computes cosine similarity)\n",
    "        neighbors = embeddings.similar_by_vector(query_item, topn=k)\n",
    "        # clean up the list\n",
    "        recommendations = [item for item, score in neighbors]\n",
    "        # check if ground truth is in the recommedations\n",
    "        if ground_truth in recommendations:\n",
    "            # identify where the item is in the list\n",
    "            rank_idx = (\n",
    "                np.argwhere(np.array(recommendations) == ground_truth)[0][0] + 1\n",
    "            )\n",
    "            # score higher-ranked ground truth higher than lower-ranked ground truth\n",
    "            mrratk_score += 1 / rank_idx\n",
    "    mrratk_score /= len(test)\n",
    "    return mrratk_score\n",
    "\n",
    "\n",
    "def mrr_at_k_baseline(test, comatrix, k: int = 10) -> float:\n",
    "    \"\"\"\n",
    "    Mean Reciprocal Rank. \n",
    "    test must be a list of (query, ground truth) pairs\n",
    "    embeddings must be a gensim.word2vec.wv thingy\n",
    "    \"\"\"\n",
    "    mrratk_score = 0\n",
    "    for query_item, ground_truth in test:\n",
    "        # get the k most similar items to the query item (computes cosine similarity)\n",
    "        try:\n",
    "            co_occ = collections.Counter(comatrix[query_item])\n",
    "            items_and_counts = co_occ.most_common(k)\n",
    "            recommendations = [item for (item, counts) in items_and_counts]\n",
    "            if ground_truth in recommendations: \n",
    "                rank_idx = (\n",
    "                    np.argwhere(np.array(recommendations) == ground_truth)[0][0] + 1\n",
    "                )\n",
    "                mrratk_score += 1 / rank_idx\n",
    "        except:\n",
    "            pass\n",
    "    mrratk_score /= len(test)\n",
    "    return mrratk_score"
   ]
  },
  {
   "cell_type": "markdown",
   "metadata": {
    "id": "rxY8Dbfzshsv"
   },
   "source": [
    "### Baseline analysis"
   ]
  },
  {
   "cell_type": "code",
   "execution_count": 77,
   "metadata": {
    "id": "ZPmpUqm_smzm"
   },
   "outputs": [],
   "source": [
    "def association_rules_baseline(train_sessions):\n",
    "    \"\"\"\n",
    "    Constructs a co-occurence matrix that counts how frequently each item \n",
    "    co-occurs with any other item in a given session. This matrix can \n",
    "    then be used to generate a list of recommendations according to the most\n",
    "    frequently co-occurring items for the item in question. \n",
    "\n",
    "    These recommendations must be evaluated using the \"_baseline\"  recall/mrr functions in metrics.py\n",
    "    \"\"\"\n",
    "    comatrix = collections.defaultdict(list)\n",
    "    for session in train_sessions:\n",
    "        for (x, y) in itertools.permutations(session, 2):\n",
    "            comatrix[x].append(y)\n",
    "    return comatrix"
   ]
  },
  {
   "cell_type": "code",
   "execution_count": 78,
   "metadata": {
    "colab": {
     "base_uri": "https://localhost:8080/"
    },
    "id": "dCUFeOw4smwI",
    "outputId": "bb1aaf8c-b440-4e45-f69c-a6f473e193b6"
   },
   "outputs": [
    {
     "name": "stdout",
     "output_type": "stream",
     "text": [
      "Recall@10: 0.143\n",
      "MRR@10: 0.06450158730158734\n"
     ]
    }
   ],
   "source": [
    "# Construct a co-occurrence matrix containing how frequently \n",
    "# each item is found in the same session as any other item\n",
    "comatrix = association_rules_baseline(train)\n",
    "\n",
    "# Recommendations are generated as the top K most frequently co-occurring items\n",
    "# Compute metrics on these recommendations for each (query item, ground truth item)\n",
    "# pair in the test set\n",
    "recall_at_10 = recall_at_k_baseline(test, comatrix, k=10)\n",
    "mrr_at_10 = mrr_at_k_baseline(test, comatrix, k=10)\n",
    "\n",
    "print(\"Recall@10:\", recall_at_10)\n",
    "print(\"MRR@10:\", mrr_at_10)"
   ]
  },
  {
   "cell_type": "markdown",
   "metadata": {
    "id": "sfCnGNBUXT-V"
   },
   "source": [
    "### Initializing Ray"
   ]
  },
  {
   "cell_type": "code",
   "execution_count": 82,
   "metadata": {
    "colab": {
     "base_uri": "https://localhost:8080/"
    },
    "id": "9uT3Woact705",
    "outputId": "36390597-5e7d-482b-ba7d-702bff389666"
   },
   "outputs": [
    {
     "name": "stderr",
     "output_type": "stream",
     "text": [
      "2021-06-11 06:21:17,485\tINFO services.py:1274 -- View the Ray dashboard at \u001b[1m\u001b[32mhttp://127.0.0.1:8265\u001b[39m\u001b[22m\n"
     ]
    },
    {
     "data": {
      "text/plain": [
       "{'metrics_export_port': 42187,\n",
       " 'node_id': '36950d392a77ab525dbcfe5ffdb2a3629ba8446f2aed261213be1f1f',\n",
       " 'node_ip_address': '172.28.0.2',\n",
       " 'object_store_address': '/tmp/ray/session_2021-06-11_06-21-14_124261_62/sockets/plasma_store',\n",
       " 'raylet_ip_address': '172.28.0.2',\n",
       " 'raylet_socket_name': '/tmp/ray/session_2021-06-11_06-21-14_124261_62/sockets/raylet',\n",
       " 'redis_address': '172.28.0.2:6379',\n",
       " 'session_dir': '/tmp/ray/session_2021-06-11_06-21-14_124261_62',\n",
       " 'webui_url': '127.0.0.1:8265'}"
      ]
     },
     "execution_count": 82,
     "metadata": {
      "tags": []
     },
     "output_type": "execute_result"
    }
   ],
   "source": [
    "ray.init(num_cpus=4, ignore_reinit_error=True)"
   ]
  },
  {
   "cell_type": "markdown",
   "metadata": {
    "id": "nEn7YBp94I3K"
   },
   "source": [
    "### Train word2vec with logging"
   ]
  },
  {
   "cell_type": "code",
   "execution_count": 88,
   "metadata": {
    "id": "C_6624rRjSdW"
   },
   "outputs": [],
   "source": [
    "def train_w2v(train_data, params:dict, callbacks=None, model_name=None):\n",
    "    if model_name: \n",
    "        # Load a model for additional training. \n",
    "        model = Word2Vec.load(model_name)\n",
    "    else: \n",
    "        # train model\n",
    "        if callbacks:\n",
    "            model = Word2Vec(callbacks=callbacks, **params)\n",
    "        else:\n",
    "            model = Word2Vec(**params)\n",
    "        model.build_vocab(train_data)\n",
    "\n",
    "    model.train(train_data, total_examples=model.corpus_count, epochs=model.epochs, compute_loss=True)\n",
    "    vectors = model.wv\n",
    "    return vectors\n",
    "    \n",
    "\n",
    "def tune_w2v(config):\n",
    "    ratk_logger = RecallAtKLogger(valid, k=config['k'], ray_tune=True)\n",
    "\n",
    "    # remove keys from config that aren't hyperparameters of word2vec\n",
    "    config.pop('dataset')\n",
    "    config.pop('k')\n",
    "    train_w2v(train, params=config, callbacks=[ratk_logger])\n",
    "\n",
    "\n",
    "class RecallAtKLogger(CallbackAny2Vec):\n",
    "    '''Report Recall@K at each epoch'''\n",
    "    def __init__(self, validation_set, k, ray_tune=False, save_model=False):\n",
    "        self.epoch = 0\n",
    "        self.recall_scores = []\n",
    "        self.validation = validation_set\n",
    "        self.k = k\n",
    "        self.tune = ray_tune\n",
    "        self.save = save_model\n",
    "\n",
    "    def on_epoch_begin(self, model):\n",
    "        if not self.tune:\n",
    "            print(f'Epoch: {self.epoch}', end='\\t')\n",
    "\n",
    "    def on_epoch_end(self, model):\n",
    "        # method 1: deepcopy the model and set the model copy's wv to None\n",
    "        mod = deepcopy(model)\n",
    "        mod.wv.norms = None # will cause it recalculate norms? \n",
    "        \n",
    "        # Every 10 epochs, save the model \n",
    "        if self.epoch%10 == 0 and self.save: \n",
    "            # method 2: save and reload the model\n",
    "            model.save(f\"{MODEL_DIR}w2v_{self.epoch}.model\")\n",
    "            #mod = Word2Vec.load(f\"w2v_{self.epoch}.model\")\n",
    "        \n",
    "        ratk_score = recall_at_k(self.validation, mod.wv, self.k)  \n",
    "\n",
    "        if self.tune: \n",
    "            tune.report(recall_at_k = ratk_score)    \n",
    "        else:\n",
    "            self.recall_scores.append(ratk_score)\n",
    "            print(f' Recall@10: {ratk_score}')\n",
    "        self.epoch += 1\n",
    "\n",
    "\n",
    "class LossLogger(CallbackAny2Vec):\n",
    "    '''Report training loss at each epoch'''\n",
    "    def __init__(self):\n",
    "        self.epoch = 0\n",
    "        self.previous_loss = 0\n",
    "        self.training_loss = []\n",
    "\n",
    "    def on_epoch_end(self, model):\n",
    "        # the loss output by Word2Vec is more akin to a cumulative loss and increases each epoch\n",
    "        # to get a value closer to loss per epoch, we subtract\n",
    "        cumulative_loss = model.get_latest_training_loss()\n",
    "        loss = cumulative_loss - self.previous_loss\n",
    "        self.previous_loss = cumulative_loss\n",
    "        self.training_loss.append(loss)\n",
    "        print(f' Loss: {loss}')\n",
    "        self.epoch += 1"
   ]
  },
  {
   "cell_type": "code",
   "execution_count": null,
   "metadata": {
    "id": "1TeCHqd30rcy"
   },
   "outputs": [],
   "source": [
    "expt_dir = '/content/big_HPO_no_distributed'"
   ]
  },
  {
   "cell_type": "code",
   "execution_count": 87,
   "metadata": {
    "colab": {
     "base_uri": "https://localhost:8080/",
     "height": 466
    },
    "id": "xEJnbuOgsmLQ",
    "outputId": "29669c60-14ec-444c-831e-3c05cc101d3c"
   },
   "outputs": [
    {
     "name": "stdout",
     "output_type": "stream",
     "text": [
      "Epoch: 0\t Recall@10: 0.181\n",
      " Loss: 731531.3125\n",
      "Epoch: 1\t Recall@10: 0.209\n",
      " Loss: 619873.5625\n",
      "Epoch: 2\t Recall@10: 0.213\n",
      " Loss: 511931.75\n",
      "Epoch: 3\t Recall@10: 0.218\n",
      " Loss: 568087.625\n",
      "Epoch: 4\t Recall@10: 0.216\n",
      " Loss: 587301.25\n"
     ]
    },
    {
     "data": {
      "image/png": "[encoded data removed]",
      "text/plain": [
       "<Figure size 432x288 with 1 Axes>"
      ]
     },
     "metadata": {
      "tags": []
     },
     "output_type": "display_data"
    },
    {
     "name": "stdout",
     "output_type": "stream",
     "text": [
      "0.235\n",
      "0.13457301587301593\n"
     ]
    }
   ],
   "source": [
    "use_saved_expt = False\n",
    "if use_saved_expt:\n",
    "  analysis = Analysis(expt_dir, default_metric=\"recall_at_k\", default_mode=\"max\")\n",
    "  w2v_params = analysis.get_best_config()\n",
    "else:\n",
    "  w2v_params = {\n",
    "          \"min_count\": 1,\n",
    "          \"iter\": 5,\n",
    "          \"workers\": 10,\n",
    "          \"sg\": 1,\n",
    "      }\n",
    "\n",
    "# Instantiate callback to measurs Recall@K on the validation set after each epoch of training\n",
    "ratk_logger = RecallAtKLogger(valid, k=10, save_model=True)\n",
    "# Instantiate callback to compute Word2Vec's training loss on the training set after each epoch of training\n",
    "loss_logger = LossLogger()\n",
    "# Train Word2Vec model and retrieve trained embeddings\n",
    "embeddings = train_w2v(train, w2v_params, [ratk_logger, loss_logger])\n",
    "\n",
    "# Save results\n",
    "pickle.dump(ratk_logger.recall_scores, open(os.path.join(\"/content\", f\"recall@k_per_epoch.pkl\"), \"wb\"))\n",
    "pickle.dump(loss_logger.training_loss, open(os.path.join(\"/content\", f\"trainloss_per_epoch.pkl\"), \"wb\"))\n",
    "\n",
    "# Save trained embeddings\n",
    "embeddings.save(os.path.join(\"/content\", f\"embeddings.wv\"))\n",
    "\n",
    "# Visualize metrics as a function of epoch\n",
    "plt.plot(np.array(ratk_logger.recall_scores)/np.max(ratk_logger.recall_scores))\n",
    "plt.plot(np.array(loss_logger.training_loss)/np.max(loss_logger.training_loss))\n",
    "plt.show()\n",
    "\n",
    "# Print results on the test set\n",
    "print(recall_at_k(test, embeddings, k=10))\n",
    "print(mrr_at_k(test, embeddings, k=10))"
   ]
  },
  {
   "cell_type": "markdown",
   "metadata": {
    "id": "6F0OaTwC4NJK"
   },
   "source": [
    "### Tune word2vec with ray"
   ]
  },
  {
   "cell_type": "code",
   "execution_count": 111,
   "metadata": {
    "colab": {
     "base_uri": "https://localhost:8080/",
     "height": 258
    },
    "id": "W-rvETTgsepP",
    "outputId": "93a8ae6c-cc79-45df-8b08-899c017f8135"
   },
   "outputs": [
    {
     "data": {
      "text/html": [
       "== Status ==<br>Memory usage on this node: 2.6/12.7 GiB<br>Using AsyncHyperBand: num_stopped=308\n",
       "Bracket: Iter 40.000: None | Iter 10.000: 0.206<br>Resources requested: 4.0/4 CPUs, 0/0 GPUs, 0.0/7.36 GiB heap, 0.0/3.68 GiB objects<br>Current best trial: a0670_00440 with recall_at_k=0.244 and parameters={'size': 16, 'window': 1, 'ns_exponent': 0.7999999999999996, 'alpha': 0.1, 'negative': 19, 'iter': 10, 'min_count': 1, 'workers': 6, 'sg': 1}<br>Result logdir: /content/big_HPO_no_distributed<br>Number of trials: 512/25872 (16 PENDING, 4 RUNNING, 492 TERMINATED)<br><br>"
      ],
      "text/plain": [
       "<IPython.core.display.HTML object>"
      ]
     },
     "metadata": {
      "tags": []
     },
     "output_type": "display_data"
    },
    {
     "name": "stderr",
     "output_type": "stream",
     "text": [
      "2021-06-11 09:06:44,670\tERROR tune.py:545 -- Trials did not complete: [tune_w2v_a0670_00492, tune_w2v_a0670_00493, tune_w2v_a0670_00494, tune_w2v_a0670_00495, tune_w2v_a0670_00496, tune_w2v_a0670_00497, tune_w2v_a0670_00498, tune_w2v_a0670_00499, tune_w2v_a0670_00500, tune_w2v_a0670_00501, tune_w2v_a0670_00502, tune_w2v_a0670_00503, tune_w2v_a0670_00504, tune_w2v_a0670_00505, tune_w2v_a0670_00506, tune_w2v_a0670_00507, tune_w2v_a0670_00508, tune_w2v_a0670_00509, tune_w2v_a0670_00510, tune_w2v_a0670_00511]\n",
      "2021-06-11 09:06:44,678\tINFO tune.py:549 -- Total run time: 6750.68 seconds (6746.07 seconds for the tuning loop).\n",
      "2021-06-11 09:06:44,680\tWARNING tune.py:554 -- Experiment has been interrupted, but the most recent state was saved. You can continue running this experiment by passing `resume=True` to `tune.run()`\n"
     ]
    },
    {
     "name": "stdout",
     "output_type": "stream",
     "text": [
      "Best hyperparameters found were:  {'dataset': 'ecomm', 'k': 10, 'size': 16, 'window': 1, 'ns_exponent': 0.7999999999999996, 'alpha': 0.1, 'negative': 19, 'iter': 10, 'min_count': 1, 'workers': 6, 'sg': 1}\n"
     ]
    }
   ],
   "source": [
    "from ray.tune import Analysis\n",
    "from ray.tune.schedulers import ASHAScheduler\n",
    "\n",
    "# Define the hyperparameter search space for Word2Vec algorithm\n",
    "search_space = {\n",
    "    \"dataset\": \"ecomm\",\n",
    "    \"k\": 10,\n",
    "    \"size\": tune.grid_search(list(np.arange(10,106, 6))),\n",
    "    \"window\": tune.grid_search(list(np.arange(1,22, 3))),\n",
    "    \"ns_exponent\": tune.grid_search(list(np.arange(-1, 1.2, .2))),\n",
    "    \"alpha\": tune.grid_search([0.001, 0.01, 0.1]),\n",
    "    \"negative\": tune.grid_search(list(np.arange(1,22, 3))),\n",
    "    \"iter\": 10,\n",
    "    \"min_count\": 1,\n",
    "    \"workers\": 6,\n",
    "    \"sg\": 1,\n",
    "}\n",
    "\n",
    "use_asha = True\n",
    "smoke_test = False\n",
    "\n",
    "# The ASHA Scheduler will stop underperforming trials in a principled fashion\n",
    "asha_scheduler = ASHAScheduler(max_t=100, grace_period=10) if use_asha else None\n",
    "\n",
    "# Set the stopping critera -- use the smoke-test arg to test the system \n",
    "stopping_criteria = {\"training_iteration\": 1 if smoke_test else 9999}\n",
    "\n",
    "# Perform hyperparamter sweep with Ray Tune\n",
    "analysis = tune.run(\n",
    "    tune_w2v,\n",
    "    name=expt_dir,\n",
    "    local_dir=\"ray_results\",\n",
    "    metric=\"recall_at_k\",\n",
    "    mode=\"max\",\n",
    "    scheduler=asha_scheduler,\n",
    "    stop=stopping_criteria,\n",
    "    num_samples=1,\n",
    "    verbose=1,\n",
    "    resources_per_trial={\n",
    "        \"cpu\": 1,\n",
    "        \"gpu\": 0\n",
    "    },\n",
    "    config=search_space,\n",
    ")\n",
    "print(\"Best hyperparameters found were: \", analysis.best_config)"
   ]
  },
  {
   "cell_type": "markdown",
   "metadata": {
    "id": "jjdH1oSHrt2p"
   },
   "source": [
    "Ray Tune saves the results of each trial in the ray_results directory. Each time Ray Tune performs an HPO sweep, the results for that run are saved under a unique subdirectory. In this case, we named that subdirectory big_HPO_no_distributed. Ray Tune provides methods for interacting with these results, starting with the Analysis class that loads the results from each trial, including performance metrics as a function of training time and tons of metadata.\n",
    "\n",
    "These results are stored as JSON but the Analysis class provides a nice wrapper for converting those results in a pandas dataframe."
   ]
  },
  {
   "cell_type": "markdown",
   "metadata": {
    "id": "RexEQbOd3TNR"
   },
   "source": [
    "### Explore the results of the full hyperparameter sweep\n",
    "Next, we're going to look at how the Recall@10 score changes as a function of various hyperparameter configurations that we tuned over. We tuned over three hyperparameters: the context window size, negative sampling exponent, and the number of negative samples.\n",
    "\n",
    "We want to look at the Recall@10 scores for all of these configurations but this is a 3-dimensional space and, as such, will be difficult to visualize. Instead, we'll \"collapse\" one dimension, while examining the other two. To do this, we aggregate the Recall@10 scores (taking the mean) along the \"collapsed\" dimension."
   ]
  },
  {
   "cell_type": "code",
   "execution_count": 112,
   "metadata": {
    "colab": {
     "base_uri": "https://localhost:8080/",
     "height": 949
    },
    "id": "O7lbr2-5sebq",
    "outputId": "a2704370-f4b4-464a-87ee-6b4b6f7ed347"
   },
   "outputs": [
    {
     "data": {
      "text/html": [
       "<div>\n",
       "<style scoped>\n",
       "    .dataframe tbody tr th:only-of-type {\n",
       "        vertical-align: middle;\n",
       "    }\n",
       "\n",
       "    .dataframe tbody tr th {\n",
       "        vertical-align: top;\n",
       "    }\n",
       "\n",
       "    .dataframe thead th {\n",
       "        text-align: right;\n",
       "    }\n",
       "</style>\n",
       "<table border=\"1\" class=\"dataframe\">\n",
       "  <thead>\n",
       "    <tr style=\"text-align: right;\">\n",
       "      <th></th>\n",
       "      <th>recall_at_k</th>\n",
       "      <th>time_this_iter_s</th>\n",
       "      <th>done</th>\n",
       "      <th>timesteps_total</th>\n",
       "      <th>episodes_total</th>\n",
       "      <th>training_iteration</th>\n",
       "      <th>experiment_id</th>\n",
       "      <th>date</th>\n",
       "      <th>timestamp</th>\n",
       "      <th>time_total_s</th>\n",
       "      <th>pid</th>\n",
       "      <th>hostname</th>\n",
       "      <th>node_ip</th>\n",
       "      <th>time_since_restore</th>\n",
       "      <th>timesteps_since_restore</th>\n",
       "      <th>iterations_since_restore</th>\n",
       "      <th>trial_id</th>\n",
       "      <th>config/alpha</th>\n",
       "      <th>config/dataset</th>\n",
       "      <th>config/iter</th>\n",
       "      <th>config/k</th>\n",
       "      <th>config/min_count</th>\n",
       "      <th>config/negative</th>\n",
       "      <th>config/ns_exponent</th>\n",
       "      <th>config/sg</th>\n",
       "      <th>config/size</th>\n",
       "      <th>config/window</th>\n",
       "      <th>config/workers</th>\n",
       "      <th>logdir</th>\n",
       "    </tr>\n",
       "  </thead>\n",
       "  <tbody>\n",
       "    <tr>\n",
       "      <th>0</th>\n",
       "      <td>0.237</td>\n",
       "      <td>5.543207</td>\n",
       "      <td>False</td>\n",
       "      <td>NaN</td>\n",
       "      <td>NaN</td>\n",
       "      <td>10</td>\n",
       "      <td>1faab4240d3746cbb4c51569db069051</td>\n",
       "      <td>2021-06-11_08-49-15</td>\n",
       "      <td>1623401355</td>\n",
       "      <td>71.839448</td>\n",
       "      <td>45684</td>\n",
       "      <td>3b5d652723e6</td>\n",
       "      <td>172.28.0.2</td>\n",
       "      <td>71.839448</td>\n",
       "      <td>0</td>\n",
       "      <td>10</td>\n",
       "      <td>a0670_00419</td>\n",
       "      <td>0.100</td>\n",
       "      <td>ecomm</td>\n",
       "      <td>10</td>\n",
       "      <td>10</td>\n",
       "      <td>1</td>\n",
       "      <td>19</td>\n",
       "      <td>0.6</td>\n",
       "      <td>1</td>\n",
       "      <td>16.0</td>\n",
       "      <td>1.0</td>\n",
       "      <td>6</td>\n",
       "      <td>big_HPO_no_distributed/tune_w2v_a0670_00419_41...</td>\n",
       "    </tr>\n",
       "    <tr>\n",
       "      <th>1</th>\n",
       "      <td>0.203</td>\n",
       "      <td>4.436352</td>\n",
       "      <td>False</td>\n",
       "      <td>NaN</td>\n",
       "      <td>NaN</td>\n",
       "      <td>10</td>\n",
       "      <td>fe00d91e28cf49beb45a0f47b900d2ae</td>\n",
       "      <td>2021-06-11_07-54-42</td>\n",
       "      <td>1623398082</td>\n",
       "      <td>75.372504</td>\n",
       "      <td>22252</td>\n",
       "      <td>3b5d652723e6</td>\n",
       "      <td>172.28.0.2</td>\n",
       "      <td>75.372504</td>\n",
       "      <td>0</td>\n",
       "      <td>10</td>\n",
       "      <td>a0670_00187</td>\n",
       "      <td>0.010</td>\n",
       "      <td>ecomm</td>\n",
       "      <td>10</td>\n",
       "      <td>10</td>\n",
       "      <td>1</td>\n",
       "      <td>19</td>\n",
       "      <td>0.6</td>\n",
       "      <td>1</td>\n",
       "      <td>10.0</td>\n",
       "      <td>1.0</td>\n",
       "      <td>6</td>\n",
       "      <td>big_HPO_no_distributed/tune_w2v_a0670_00187_18...</td>\n",
       "    </tr>\n",
       "    <tr>\n",
       "      <th>2</th>\n",
       "      <td>0.036</td>\n",
       "      <td>10.416867</td>\n",
       "      <td>False</td>\n",
       "      <td>NaN</td>\n",
       "      <td>NaN</td>\n",
       "      <td>9</td>\n",
       "      <td>965436df76d64eb1badb38eceda07998</td>\n",
       "      <td>2021-06-11_08-42-17</td>\n",
       "      <td>1623400937</td>\n",
       "      <td>55.470819</td>\n",
       "      <td>43108</td>\n",
       "      <td>3b5d652723e6</td>\n",
       "      <td>172.28.0.2</td>\n",
       "      <td>55.470819</td>\n",
       "      <td>0</td>\n",
       "      <td>9</td>\n",
       "      <td>a0670_00393</td>\n",
       "      <td>0.001</td>\n",
       "      <td>ecomm</td>\n",
       "      <td>10</td>\n",
       "      <td>10</td>\n",
       "      <td>1</td>\n",
       "      <td>16</td>\n",
       "      <td>0.4</td>\n",
       "      <td>1</td>\n",
       "      <td>16.0</td>\n",
       "      <td>1.0</td>\n",
       "      <td>6</td>\n",
       "      <td>big_HPO_no_distributed/tune_w2v_a0670_00393_39...</td>\n",
       "    </tr>\n",
       "    <tr>\n",
       "      <th>3</th>\n",
       "      <td>0.236</td>\n",
       "      <td>5.960799</td>\n",
       "      <td>False</td>\n",
       "      <td>NaN</td>\n",
       "      <td>NaN</td>\n",
       "      <td>9</td>\n",
       "      <td>8a3090a631b447bd9fb9ee249ef02a30</td>\n",
       "      <td>2021-06-11_08-52-44</td>\n",
       "      <td>1623401564</td>\n",
       "      <td>54.629899</td>\n",
       "      <td>47286</td>\n",
       "      <td>3b5d652723e6</td>\n",
       "      <td>172.28.0.2</td>\n",
       "      <td>54.629899</td>\n",
       "      <td>0</td>\n",
       "      <td>9</td>\n",
       "      <td>a0670_00434</td>\n",
       "      <td>0.100</td>\n",
       "      <td>ecomm</td>\n",
       "      <td>10</td>\n",
       "      <td>10</td>\n",
       "      <td>1</td>\n",
       "      <td>13</td>\n",
       "      <td>0.8</td>\n",
       "      <td>1</td>\n",
       "      <td>16.0</td>\n",
       "      <td>1.0</td>\n",
       "      <td>6</td>\n",
       "      <td>big_HPO_no_distributed/tune_w2v_a0670_00434_43...</td>\n",
       "    </tr>\n",
       "    <tr>\n",
       "      <th>4</th>\n",
       "      <td>0.041</td>\n",
       "      <td>1.409388</td>\n",
       "      <td>True</td>\n",
       "      <td>NaN</td>\n",
       "      <td>NaN</td>\n",
       "      <td>10</td>\n",
       "      <td>cce93e60ce3a4ff4a0db54a8e47fa3d9</td>\n",
       "      <td>2021-06-11_08-06-00</td>\n",
       "      <td>1623398760</td>\n",
       "      <td>38.842165</td>\n",
       "      <td>27810</td>\n",
       "      <td>3b5d652723e6</td>\n",
       "      <td>172.28.0.2</td>\n",
       "      <td>38.842165</td>\n",
       "      <td>0</td>\n",
       "      <td>10</td>\n",
       "      <td>a0670_00241</td>\n",
       "      <td>0.010</td>\n",
       "      <td>ecomm</td>\n",
       "      <td>10</td>\n",
       "      <td>10</td>\n",
       "      <td>1</td>\n",
       "      <td>10</td>\n",
       "      <td>-1.0</td>\n",
       "      <td>1</td>\n",
       "      <td>16.0</td>\n",
       "      <td>1.0</td>\n",
       "      <td>6</td>\n",
       "      <td>big_HPO_no_distributed/tune_w2v_a0670_00241_24...</td>\n",
       "    </tr>\n",
       "    <tr>\n",
       "      <th>...</th>\n",
       "      <td>...</td>\n",
       "      <td>...</td>\n",
       "      <td>...</td>\n",
       "      <td>...</td>\n",
       "      <td>...</td>\n",
       "      <td>...</td>\n",
       "      <td>...</td>\n",
       "      <td>...</td>\n",
       "      <td>...</td>\n",
       "      <td>...</td>\n",
       "      <td>...</td>\n",
       "      <td>...</td>\n",
       "      <td>...</td>\n",
       "      <td>...</td>\n",
       "      <td>...</td>\n",
       "      <td>...</td>\n",
       "      <td>...</td>\n",
       "      <td>...</td>\n",
       "      <td>...</td>\n",
       "      <td>...</td>\n",
       "      <td>...</td>\n",
       "      <td>...</td>\n",
       "      <td>...</td>\n",
       "      <td>...</td>\n",
       "      <td>...</td>\n",
       "      <td>...</td>\n",
       "      <td>...</td>\n",
       "      <td>...</td>\n",
       "      <td>...</td>\n",
       "    </tr>\n",
       "    <tr>\n",
       "      <th>503</th>\n",
       "      <td>0.023</td>\n",
       "      <td>5.446685</td>\n",
       "      <td>False</td>\n",
       "      <td>NaN</td>\n",
       "      <td>NaN</td>\n",
       "      <td>3</td>\n",
       "      <td>9f3c574035ac47ac850519bf18e37184</td>\n",
       "      <td>2021-06-11_09-01-30</td>\n",
       "      <td>1623402090</td>\n",
       "      <td>22.201976</td>\n",
       "      <td>51082</td>\n",
       "      <td>3b5d652723e6</td>\n",
       "      <td>172.28.0.2</td>\n",
       "      <td>22.201976</td>\n",
       "      <td>0</td>\n",
       "      <td>3</td>\n",
       "      <td>a0670_00471</td>\n",
       "      <td>0.001</td>\n",
       "      <td>ecomm</td>\n",
       "      <td>10</td>\n",
       "      <td>10</td>\n",
       "      <td>1</td>\n",
       "      <td>10</td>\n",
       "      <td>-1.0</td>\n",
       "      <td>1</td>\n",
       "      <td>22.0</td>\n",
       "      <td>1.0</td>\n",
       "      <td>6</td>\n",
       "      <td>big_HPO_no_distributed/tune_w2v_a0670_00471_47...</td>\n",
       "    </tr>\n",
       "    <tr>\n",
       "      <th>504</th>\n",
       "      <td>0.015</td>\n",
       "      <td>2.176694</td>\n",
       "      <td>True</td>\n",
       "      <td>NaN</td>\n",
       "      <td>NaN</td>\n",
       "      <td>10</td>\n",
       "      <td>e927f2c1c10e42908c4c5b26d8ba5b86</td>\n",
       "      <td>2021-06-11_08-17-32</td>\n",
       "      <td>1623399452</td>\n",
       "      <td>41.176507</td>\n",
       "      <td>33062</td>\n",
       "      <td>3b5d652723e6</td>\n",
       "      <td>172.28.0.2</td>\n",
       "      <td>41.176507</td>\n",
       "      <td>0</td>\n",
       "      <td>10</td>\n",
       "      <td>a0670_00294</td>\n",
       "      <td>0.001</td>\n",
       "      <td>ecomm</td>\n",
       "      <td>10</td>\n",
       "      <td>10</td>\n",
       "      <td>1</td>\n",
       "      <td>1</td>\n",
       "      <td>-0.4</td>\n",
       "      <td>1</td>\n",
       "      <td>16.0</td>\n",
       "      <td>1.0</td>\n",
       "      <td>6</td>\n",
       "      <td>big_HPO_no_distributed/tune_w2v_a0670_00294_29...</td>\n",
       "    </tr>\n",
       "    <tr>\n",
       "      <th>505</th>\n",
       "      <td>0.211</td>\n",
       "      <td>1.697303</td>\n",
       "      <td>False</td>\n",
       "      <td>NaN</td>\n",
       "      <td>NaN</td>\n",
       "      <td>9</td>\n",
       "      <td>de953f60dd084976b0a01b62918adea5</td>\n",
       "      <td>2021-06-11_08-33-35</td>\n",
       "      <td>1623400415</td>\n",
       "      <td>19.104989</td>\n",
       "      <td>39782</td>\n",
       "      <td>3b5d652723e6</td>\n",
       "      <td>172.28.0.2</td>\n",
       "      <td>19.104989</td>\n",
       "      <td>0</td>\n",
       "      <td>9</td>\n",
       "      <td>a0670_00359</td>\n",
       "      <td>0.100</td>\n",
       "      <td>ecomm</td>\n",
       "      <td>10</td>\n",
       "      <td>10</td>\n",
       "      <td>1</td>\n",
       "      <td>1</td>\n",
       "      <td>0.2</td>\n",
       "      <td>1</td>\n",
       "      <td>16.0</td>\n",
       "      <td>1.0</td>\n",
       "      <td>6</td>\n",
       "      <td>big_HPO_no_distributed/tune_w2v_a0670_00359_35...</td>\n",
       "    </tr>\n",
       "    <tr>\n",
       "      <th>506</th>\n",
       "      <td>0.024</td>\n",
       "      <td>1.774843</td>\n",
       "      <td>False</td>\n",
       "      <td>NaN</td>\n",
       "      <td>NaN</td>\n",
       "      <td>4</td>\n",
       "      <td>d60beb2097b64164acbcb80fa8580019</td>\n",
       "      <td>2021-06-11_07-14-48</td>\n",
       "      <td>1623395688</td>\n",
       "      <td>13.840040</td>\n",
       "      <td>3454</td>\n",
       "      <td>3b5d652723e6</td>\n",
       "      <td>172.28.0.2</td>\n",
       "      <td>13.840040</td>\n",
       "      <td>0</td>\n",
       "      <td>4</td>\n",
       "      <td>a0670_00003</td>\n",
       "      <td>0.001</td>\n",
       "      <td>ecomm</td>\n",
       "      <td>10</td>\n",
       "      <td>10</td>\n",
       "      <td>1</td>\n",
       "      <td>4</td>\n",
       "      <td>-1.0</td>\n",
       "      <td>1</td>\n",
       "      <td>10.0</td>\n",
       "      <td>1.0</td>\n",
       "      <td>6</td>\n",
       "      <td>big_HPO_no_distributed/tune_w2v_a0670_00003_3_...</td>\n",
       "    </tr>\n",
       "    <tr>\n",
       "      <th>507</th>\n",
       "      <td>0.198</td>\n",
       "      <td>2.985146</td>\n",
       "      <td>False</td>\n",
       "      <td>NaN</td>\n",
       "      <td>NaN</td>\n",
       "      <td>8</td>\n",
       "      <td>3ad21430e1004d108a4683096833aeb2</td>\n",
       "      <td>2021-06-11_07-46-29</td>\n",
       "      <td>1623397589</td>\n",
       "      <td>25.868437</td>\n",
       "      <td>18924</td>\n",
       "      <td>3b5d652723e6</td>\n",
       "      <td>172.28.0.2</td>\n",
       "      <td>25.868437</td>\n",
       "      <td>0</td>\n",
       "      <td>8</td>\n",
       "      <td>a0670_00154</td>\n",
       "      <td>0.010</td>\n",
       "      <td>ecomm</td>\n",
       "      <td>10</td>\n",
       "      <td>10</td>\n",
       "      <td>1</td>\n",
       "      <td>7</td>\n",
       "      <td>0.4</td>\n",
       "      <td>1</td>\n",
       "      <td>10.0</td>\n",
       "      <td>1.0</td>\n",
       "      <td>6</td>\n",
       "      <td>big_HPO_no_distributed/tune_w2v_a0670_00154_15...</td>\n",
       "    </tr>\n",
       "  </tbody>\n",
       "</table>\n",
       "<p>508 rows × 29 columns</p>\n",
       "</div>"
      ],
      "text/plain": [
       "     recall_at_k  ...                                             logdir\n",
       "0          0.237  ...  big_HPO_no_distributed/tune_w2v_a0670_00419_41...\n",
       "1          0.203  ...  big_HPO_no_distributed/tune_w2v_a0670_00187_18...\n",
       "2          0.036  ...  big_HPO_no_distributed/tune_w2v_a0670_00393_39...\n",
       "3          0.236  ...  big_HPO_no_distributed/tune_w2v_a0670_00434_43...\n",
       "4          0.041  ...  big_HPO_no_distributed/tune_w2v_a0670_00241_24...\n",
       "..           ...  ...                                                ...\n",
       "503        0.023  ...  big_HPO_no_distributed/tune_w2v_a0670_00471_47...\n",
       "504        0.015  ...  big_HPO_no_distributed/tune_w2v_a0670_00294_29...\n",
       "505        0.211  ...  big_HPO_no_distributed/tune_w2v_a0670_00359_35...\n",
       "506        0.024  ...  big_HPO_no_distributed/tune_w2v_a0670_00003_3_...\n",
       "507        0.198  ...  big_HPO_no_distributed/tune_w2v_a0670_00154_15...\n",
       "\n",
       "[508 rows x 29 columns]"
      ]
     },
     "execution_count": 112,
     "metadata": {
      "tags": []
     },
     "output_type": "execute_result"
    }
   ],
   "source": [
    "analysis = Analysis(\"big_HPO_no_distributed/\", \n",
    "                    default_metric=\"recall_at_k\",\n",
    "                    default_mode=\"max\")\n",
    "\n",
    "results = analysis.dataframe()\n",
    "results"
   ]
  },
  {
   "cell_type": "markdown",
   "metadata": {
    "id": "FHKEwe9u3LDv"
   },
   "source": [
    "The Analysis objects also has methods to quickly retrieve the best configuration found during the HPO sweep.\n",
    "\n"
   ]
  },
  {
   "cell_type": "code",
   "execution_count": 113,
   "metadata": {
    "colab": {
     "base_uri": "https://localhost:8080/"
    },
    "id": "WnKAoaER2vkp",
    "outputId": "1f50520a-3267-4d0c-fb99-d7a566fbc95b"
   },
   "outputs": [
    {
     "data": {
      "text/plain": [
       "{'alpha': 0.1,\n",
       " 'dataset': 'ecomm',\n",
       " 'iter': 10,\n",
       " 'k': 10,\n",
       " 'min_count': 1,\n",
       " 'negative': 19,\n",
       " 'ns_exponent': 0.7999999999999996,\n",
       " 'sg': 1,\n",
       " 'size': 16,\n",
       " 'window': 1,\n",
       " 'workers': 6}"
      ]
     },
     "execution_count": 113,
     "metadata": {
      "tags": []
     },
     "output_type": "execute_result"
    }
   ],
   "source": [
    "best_config = analysis.get_best_config()\n",
    "best_config"
   ]
  },
  {
   "cell_type": "markdown",
   "metadata": {
    "id": "tGk8zNkp3Pkr"
   },
   "source": [
    "While the results dataframe contains the final Recall@10 scores for each of the 539 trials, it's also nice to explore how those scores evolved as a function of training for any given trial. Again, the Analysis class delivers, providing the ability to access the full training results for any of the trials. Below we plot the Recall@10 score as a function of training epochs for the best configuration."
   ]
  },
  {
   "cell_type": "code",
   "execution_count": 114,
   "metadata": {
    "colab": {
     "base_uri": "https://localhost:8080/",
     "height": 276
    },
    "id": "y8QF0YZY3GXZ",
    "outputId": "01f09f26-14ee-4003-d621-7135cf1f0861"
   },
   "outputs": [
    {
     "data": {
      "image/png": "[encoded data removed]",
      "text/plain": [
       "<Figure size 432x288 with 1 Axes>"
      ]
     },
     "metadata": {
      "tags": []
     },
     "output_type": "display_data"
    }
   ],
   "source": [
    "best_path = analysis.get_best_logdir()\n",
    "dfs = analysis.fetch_trial_dataframes()\n",
    "\n",
    "plt.plot(dfs[best_path]['recall_at_k']);\n",
    "plt.xlabel(\"Epoch\")\n",
    "plt.ylabel(\"Recall@10\");"
   ]
  },
  {
   "cell_type": "code",
   "execution_count": 116,
   "metadata": {
    "id": "z6sCIiAK3Rmt"
   },
   "outputs": [],
   "source": [
    "def aggregate_z(x_name, y_name):\n",
    "    grouped = results.groupby([f\"config/{x_name}\", f\"config/{y_name}\"])\n",
    "    x_values = []\n",
    "    y_values = []\n",
    "    mean_recall_values = []\n",
    "    \n",
    "    for name, grp in grouped:\n",
    "        x_values.append(name[0])\n",
    "        y_values.append(name[1])\n",
    "        mean_recall_values.append(grp['recall_at_k'].mean())\n",
    "    return x_values, y_values, mean_recall_values"
   ]
  },
  {
   "cell_type": "code",
   "execution_count": 117,
   "metadata": {
    "colab": {
     "base_uri": "https://localhost:8080/",
     "height": 327
    },
    "id": "6MDZY3uQ3xDA",
    "outputId": "11d3cdd2-949c-4bc7-ee82-24ee63c5ba46"
   },
   "outputs": [
    {
     "data": {
      "image/png": "[encoded data removed]",
      "text/plain": [
       "<Figure size 1080x360 with 3 Axes>"
      ]
     },
     "metadata": {
      "tags": []
     },
     "output_type": "display_data"
    }
   ],
   "source": [
    "fig = plt.figure(figsize=(15,5))\n",
    "\n",
    "ax = fig.add_subplot(131)\n",
    "negative, ns_exp, recall = aggregate_z(\"negative\", \"ns_exponent\")\n",
    "cm = sns.scatterplot(x=ns_exp, y=negative, hue=recall, palette=color_palette, legend=None)\n",
    "ax.set_xlabel(\"Negative sampling exponent\", fontsize=16)\n",
    "ax.set_ylabel(\"Number of negative samples\", fontsize=16)\n",
    "plt.xticks(fontsize=12)\n",
    "plt.yticks(fontsize=12)\n",
    "ax.plot(0.75, 5, \n",
    "         marker='*', \n",
    "         color=cldr_colors[1],\n",
    "         markersize=10)\n",
    "ax.plot(best_config['ns_exponent'], \n",
    "        best_config['negative'], \n",
    "         marker=\"o\", \n",
    "         fillstyle='none', \n",
    "         color=cldr_colors[0],\n",
    "         markersize=15)\n",
    "ax = fig.add_subplot(132)\n",
    "\n",
    "window, ns_exp, recall = aggregate_z(\"window\", \"ns_exponent\")\n",
    "cm = sns.scatterplot(x=ns_exp, y=window, hue=recall, palette=color_palette, legend=None)\n",
    "ax.set_xlabel(\"Negative sampling exponent\", fontsize=16)\n",
    "ax.set_ylabel(\"Context window size\", fontsize=16)\n",
    "plt.xticks(fontsize=12)\n",
    "plt.yticks(fontsize=12)\n",
    "ax.plot(0.75, 5, \n",
    "           marker='*', \n",
    "           color=cldr_colors[1],\n",
    "           markersize=10)\n",
    "ax.plot(best_config['ns_exponent'], \n",
    "         best_config['window'], \n",
    "         marker=\"o\", \n",
    "         fillstyle='none', \n",
    "         color=cldr_colors[0],\n",
    "         markersize=15)\n",
    "\n",
    "ax = fig.add_subplot(133)\n",
    "window, negative, recall = aggregate_z(\"window\", \"negative\")\n",
    "cm = sns.scatterplot(x=window, y=negative, hue=recall, palette=color_palette, legend=None)\n",
    "ax.set_xlabel(\"Number of negative examples\", fontsize=16)\n",
    "ax.set_ylabel(\"Context window size\", fontsize=16)\n",
    "plt.xticks(fontsize=12)\n",
    "plt.yticks(fontsize=12)\n",
    "ax.plot(5, 5, \n",
    "        marker='*',\n",
    "        color=cldr_colors[1],\n",
    "        markersize=10)\n",
    "ax.plot(best_config['window'], \n",
    "         best_config['negative'], \n",
    "         marker=\"o\", \n",
    "         fillstyle='none', \n",
    "         color=cldr_colors[0],\n",
    "         markersize=15);\n",
    "\n",
    "plt.tight_layout()\n",
    "plt.savefig(\"hpsweep_results.png\", transparent=True, dpi=150)"
   ]
  },
  {
   "cell_type": "markdown",
   "metadata": {
    "id": "-5KwIKIl36gA"
   },
   "source": [
    "And there we have it! Each panel shows the Recall@10 scores (where yellow is a high score and purple is a low score) associated with a unique configuration of hyperparameters. The best hyperparameter values for the Online Retail Data Set are denoted by the light blue circle. Word2vec’s default values are shown by the orange star. In all cases, the orange star is nowhere near the light blue circle, indicating that the default values are not optimal for this dataset."
   ]
  }
 ],
 "metadata": {
  "colab": {
   "authorship_tag": "ABX9TyNmIBT1S3jeboIbbIKzkpye",
   "collapsed_sections": [],
   "name": "2021-06-11-recostep-session-based-recommender-using-word2vec.ipynb",
   "provenance": [],
   "toc_visible": true
  },
  "kernelspec": {
   "display_name": "Python 3",
   "language": "python",
   "name": "python3"
  },
  "language_info": {
   "codemirror_mode": {
    "name": "ipython",
    "version": 3
   },
   "file_extension": ".py",
   "mimetype": "text/x-python",
   "name": "python",
   "nbconvert_exporter": "python",
   "pygments_lexer": "ipython3",
   "version": "3.7.3"
  }
 },
 "nbformat": 4,
 "nbformat_minor": 4
}
