{
 "cells": [
  {
   "cell_type": "code",
   "execution_count": null,
   "metadata": {},
   "outputs": [],
   "source": [
    "# default_exp utils.negative_sampling"
   ]
  },
  {
   "cell_type": "markdown",
   "metadata": {},
   "source": [
    "# Negative Sampling\n",
    "> Implementation of utilities for negative sampling."
   ]
  },
  {
   "cell_type": "code",
   "execution_count": null,
   "metadata": {},
   "outputs": [],
   "source": [
    "#hide\n",
    "from nbdev.showdoc import *\n",
    "from fastcore.nb_imports import *\n",
    "from fastcore.test import *"
   ]
  },
  {
   "cell_type": "code",
   "execution_count": null,
   "metadata": {},
   "outputs": [],
   "source": [
    "#export\n",
    "import random"
   ]
  },
  {
   "cell_type": "code",
   "execution_count": null,
   "metadata": {},
   "outputs": [],
   "source": [
    "#export\n",
    "def random_neg_sample(item_set, item_size):\n",
    "    item = random.randint(1, item_size - 1)\n",
    "    while item in item_set:\n",
    "        item = random.randint(1, item_size - 1)\n",
    "    return item"
   ]
  },
  {
   "cell_type": "markdown",
   "metadata": {},
   "source": [
    "Tests"
   ]
  },
  {
   "cell_type": "code",
   "execution_count": null,
   "metadata": {},
   "outputs": [],
   "source": [
    "item_set = [1,2,3,4,5]\n",
    "item_size = 10\n",
    "random.seed(32)\n",
    "neg_item = random_neg_sample(item_set, item_size)\n",
    "\n",
    "test_eq(neg_item, 8)"
   ]
  },
  {
   "cell_type": "code",
   "execution_count": null,
   "metadata": {},
   "outputs": [],
   "source": [
    "item_set = [1,2,3,4,5,5]\n",
    "item_size = 10\n",
    "random.seed(45)\n",
    "neg_item = random_neg_sample(item_set, item_size)\n",
    "\n",
    "test_eq(neg_item, 7)"
   ]
  },
  {
   "cell_type": "code",
   "execution_count": null,
   "metadata": {},
   "outputs": [],
   "source": [
    "item_set = [1,2,3,4,5]\n",
    "item_size = -1\n",
    "random.seed(45)\n",
    "\n",
    "test_fail(lambda: random_neg_sample(item_set, item_size), contains=\"empty range for randrange() (1,-1, -2)\")"
   ]
  },
  {
   "cell_type": "code",
   "execution_count": null,
   "metadata": {},
   "outputs": [
    {
     "name": "stdout",
     "output_type": "stream",
     "text": [
      "PIL.Image 7.1.2\n",
      "numpy     1.19.5\n",
      "Sparsh A. \n",
      "last updated: 2022-01-22 06:56:30 \n",
      "\n",
      "recohut 0.0.11\n",
      "\n",
      "compiler   : GCC 7.5.0\n",
      "system     : Linux\n",
      "release    : 5.4.144+\n",
      "machine    : x86_64\n",
      "processor  : x86_64\n",
      "CPU cores  : 2\n",
      "interpreter: 64bit\n"
     ]
    }
   ],
   "source": [
    "#hide\n",
    "%reload_ext watermark\n",
    "%watermark -a \"Sparsh A.\" -m -iv -u -t -d -p recohut"
   ]
  }
 ],
 "metadata": {
  "kernelspec": {
   "display_name": "Python 3",
   "name": "python3"
  }
 },
 "nbformat": 4,
 "nbformat_minor": 0
}
