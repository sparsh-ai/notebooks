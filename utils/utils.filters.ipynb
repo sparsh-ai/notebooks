{
 "cells": [
  {
   "cell_type": "code",
   "execution_count": null,
   "metadata": {},
   "outputs": [],
   "source": [
    "# default_exp utils.filters"
   ]
  },
  {
   "cell_type": "markdown",
   "metadata": {},
   "source": [
    "# Filter utilities\n",
    "> Implementation of data filtering utilities."
   ]
  },
  {
   "cell_type": "code",
   "execution_count": null,
   "metadata": {},
   "outputs": [],
   "source": [
    "#export\n",
    "import pandas as pd\n",
    "import numpy as np\n",
    "import datetime\n",
    "import time\n",
    "import calendar\n",
    "from collections import Counter"
   ]
  },
  {
   "cell_type": "code",
   "execution_count": null,
   "metadata": {},
   "outputs": [],
   "source": [
    "#exporti\n",
    "def add_months(sourcedate, months):\n",
    "    month = sourcedate.month - 1 + months\n",
    "    year = int(sourcedate.year + month / 12)\n",
    "    month = month % 12 + 1\n",
    "    day = min(sourcedate.day, calendar.monthrange(year, month)[1])\n",
    "    return datetime.date(year, month, day)"
   ]
  },
  {
   "cell_type": "code",
   "execution_count": null,
   "metadata": {},
   "outputs": [],
   "source": [
    "#export\n",
    "def filter_by_time(df, last_months, ts_col='timestamp'):\n",
    "    max_ts = df[ts_col].max().timestamp()\n",
    "    lastdate = datetime.datetime.fromtimestamp(max_ts)\n",
    "    firstdate = pd.Timestamp(add_months(lastdate, -last_months))\n",
    "    # filter out older interactions\n",
    "    df = df[df[ts_col] >= firstdate]\n",
    "    return df"
   ]
  },
  {
   "cell_type": "code",
   "execution_count": null,
   "metadata": {},
   "outputs": [],
   "source": [
    "#export\n",
    "def filter_top_k(df: pd.DataFrame,\n",
    "                 topk: int = 0, \n",
    "                 user_col: str = 'userid',\n",
    "                 item_col: str = 'itemid',\n",
    "                 sess_col: str = 'sessid',\n",
    "                 ts_col: str = 'timestamp',\n",
    "                 ):\n",
    "    c = Counter(list(df[item_col]))\n",
    "\n",
    "    if topk > 1:\n",
    "        keeper = set([x[0] for x in c.most_common(topk)])\n",
    "        df = df[df[item_col].isin(keeper)]\n",
    "\n",
    "    # group by session id\n",
    "    groups = df.groupby(sess_col)\n",
    "\n",
    "    # convert item ids to string, then aggregate them to lists\n",
    "    aggregated = groups[item_col].agg(sequence = lambda x: list(map(str, x)))\n",
    "    init_ts = groups[ts_col].min()\n",
    "    users = groups[user_col].min()  # it's just fast, min doesn't actually make sense\n",
    "\n",
    "    result = aggregated.join(init_ts).join(users)\n",
    "    result.reset_index(inplace=True)\n",
    "    return result"
   ]
  },
  {
   "cell_type": "markdown",
   "metadata": {},
   "source": [
    "Example"
   ]
  },
  {
   "cell_type": "code",
   "execution_count": null,
   "metadata": {},
   "outputs": [],
   "source": [
    "from recohut.utils.data import load_dataset\n",
    "\n",
    "df = load_dataset('music30_sample')\n",
    "df.columns = ['session_id', 'user_id', 'item_id', 'ts']\n",
    "df['ts'] = pd.to_datetime(df['ts'], unit='s')\n",
    "\n",
    "# let's keep only the top-1k most popular items in the last month\n",
    "df = filter_by_time(df, last_months=1, ts_col='ts')\n",
    "df = filter_top_k(df, topk=1000, user_col='user_id', item_col='item_id', sess_col='session_id', ts_col='ts')\n",
    "display(df.head())\n",
    "df.info()"
   ]
  }
 ],
 "metadata": {
  "kernelspec": {
   "display_name": "Python 3",
   "name": "python3"
  }
 },
 "nbformat": 4,
 "nbformat_minor": 0
}
