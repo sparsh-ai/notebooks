{
 "cells": [
  {
   "cell_type": "markdown",
   "metadata": {},
   "source": [
    "# Decorators\n",
    "> Implementation of decorator wrapper-functions in python"
   ]
  },
  {
   "cell_type": "code",
   "execution_count": null,
   "metadata": {},
   "outputs": [],
   "source": [
    "#export\n",
    "import time\n",
    "\n",
    "from functools import wraps\n",
    "from math import trunc"
   ]
  },
  {
   "cell_type": "markdown",
   "metadata": {},
   "source": [
    "## Timer"
   ]
  },
  {
   "cell_type": "code",
   "execution_count": null,
   "metadata": {},
   "outputs": [],
   "source": [
    "#export\n",
    "def timer(text=''):\n",
    "    \"\"\"Decorator, prints execution time of the function decorated.\n",
    "    Args:\n",
    "        text (string): text to print before time display.\n",
    "    Examples:\n",
    "        >>> @timer(text=\"Greetings took \")\n",
    "        ... def say_hi():\n",
    "        ...    time.sleep(1)\n",
    "        ...    print(\"Hey! What's up!\")\n",
    "        ...\n",
    "        >>> say_hi()\n",
    "        Hey! What's up!\n",
    "        Greetings took 1 sec\n",
    "    \"\"\"\n",
    "    def decorator(func):\n",
    "\n",
    "        @wraps(func)\n",
    "        def wrapper(*args, **kwargs):\n",
    "            start = time.time()\n",
    "            result = func(*args, **kwargs)\n",
    "            end = time.time()\n",
    "\n",
    "            hours = trunc((end - start) / 3600)\n",
    "            minutes = trunc((end - start) / 60) - hours*60\n",
    "            seconds = round((end - start) % 60)\n",
    "\n",
    "            if hours > 1:\n",
    "                print(text + '{} hours {} min and {} sec'.format(hours, minutes, seconds))\n",
    "            elif hours == 1:\n",
    "                print(text + '{} hour {} min and {} sec'.format(hours, minutes, seconds))\n",
    "            elif minutes >= 1:\n",
    "                print(text + '{} min and {} sec'.format(minutes, seconds))\n",
    "            else:\n",
    "                print(text + '{} sec'.format(seconds))\n",
    "\n",
    "            return result\n",
    "        return wrapper\n",
    "\n",
    "    return decorator"
   ]
  },
  {
   "cell_type": "code",
   "execution_count": null,
   "metadata": {},
   "outputs": [],
   "source": [
    "@timer(text='testing took ')\n",
    "def test(x):\n",
    "    x**=4\n",
    "    time.sleep(3)\n",
    "    return x"
   ]
  },
  {
   "cell_type": "code",
   "execution_count": null,
   "metadata": {},
   "outputs": [
    {
     "name": "stdout",
     "output_type": "stream",
     "text": [
      "testing took 3 sec\n"
     ]
    }
   ],
   "source": [
    "x = test(10)"
   ]
  }
 ],
 "metadata": {
  "kernelspec": {
   "display_name": "Python 3",
   "name": "python3"
  }
 },
 "nbformat": 4,
 "nbformat_minor": 0
}
