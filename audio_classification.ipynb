{
  "nbformat": 4,
  "nbformat_minor": 0,
  "metadata": {
    "colab": {
      "name": "Audio_classification.ipynb",
      "provenance": [],
      "collapsed_sections": []
    },
    "kernelspec": {
      "name": "python3",
      "display_name": "Python 3"
    },
    "accelerator": "GPU"
  },
  "cells": [
    {
      "cell_type": "code",
      "metadata": {
        "id": "8tYboJqrrrNb",
        "outputId": "09fd9603-ba56-47cd-bff5-6783ca4f1045",
        "colab": {
          "base_uri": "https://localhost:8080/",
          "height": 204
        }
      },
      "source": [
        "!wget https://zenodo.org/record/1203745/files/UrbanSound8K.tar.gz"
      ],
      "execution_count": null,
      "outputs": [
        {
          "output_type": "stream",
          "text": [
            "--2019-10-01 06:23:56--  https://zenodo.org/record/1203745/files/UrbanSound8K.tar.gz\n",
            "Resolving zenodo.org (zenodo.org)... 188.184.65.20\n",
            "Connecting to zenodo.org (zenodo.org)|188.184.65.20|:443... connected.\n",
            "HTTP request sent, awaiting response... 200 OK\n",
            "Length: 6023741708 (5.6G) [application/octet-stream]\n",
            "Saving to: ‘UrbanSound8K.tar.gz’\n",
            "\n",
            "UrbanSound8K.tar.gz 100%[===================>]   5.61G  56.6MB/s    in 89s     \n",
            "\n",
            "2019-10-01 06:25:26 (64.5 MB/s) - ‘UrbanSound8K.tar.gz’ saved [6023741708/6023741708]\n",
            "\n"
          ],
          "name": "stdout"
        }
      ]
    },
    {
      "cell_type": "code",
      "metadata": {
        "id": "B6qEE--9txaM",
        "outputId": "49b1e1b1-95ee-40ce-86ab-2dfad14999e7",
        "colab": {
          "base_uri": "https://localhost:8080/",
          "height": 34
        }
      },
      "source": [
        "!ls"
      ],
      "execution_count": null,
      "outputs": [
        {
          "output_type": "stream",
          "text": [
            "sample_data  UrbanSound8K.tar.gz\n"
          ],
          "name": "stdout"
        }
      ]
    },
    {
      "cell_type": "code",
      "metadata": {
        "id": "RVY2ek5Nt6j6"
      },
      "source": [
        "!tar xzvf UrbanSound8K.tar.gz"
      ],
      "execution_count": null,
      "outputs": []
    },
    {
      "cell_type": "code",
      "metadata": {
        "id": "9Fixs2o8zAr0",
        "outputId": "fc9fdae0-972c-473c-86da-b96d7237f1ce",
        "colab": {
          "base_uri": "https://localhost:8080/",
          "height": 34
        }
      },
      "source": [
        "!pwd"
      ],
      "execution_count": null,
      "outputs": [
        {
          "output_type": "stream",
          "text": [
            "/content\n"
          ],
          "name": "stdout"
        }
      ]
    },
    {
      "cell_type": "code",
      "metadata": {
        "id": "v0HyBumuEi1E"
      },
      "source": [
        "import pandas as pd\n",
        "data = pd.read_csv('/content/UrbanSound8K/metadata/UrbanSound8K.csv') # Refer to the location of downloaded file here"
      ],
      "execution_count": null,
      "outputs": []
    },
    {
      "cell_type": "code",
      "metadata": {
        "id": "KEXdWSqqCRf-"
      },
      "source": [
        "import librosa\n",
        "import numpy as np"
      ],
      "execution_count": null,
      "outputs": []
    },
    {
      "cell_type": "code",
      "metadata": {
        "id": "GUJjfbLBCXny"
      },
      "source": [
        "def extract_feature(file_name):\n",
        "    X, sample_rate = librosa.load(file_name)\n",
        "    stft = np.abs(librosa.stft(X))\n",
        "    mfccs = np.mean(librosa.feature.mfcc(y=X, sr=sample_rate, n_mfcc=40).T,axis=0)\n",
        "    chroma = np.mean(librosa.feature.chroma_stft(S=stft, sr=sample_rate).T,axis=0)\n",
        "    mel = np.mean(librosa.feature.melspectrogram(X, sr=sample_rate).T,axis=0)\n",
        "    contrast = np.mean(librosa.feature.spectral_contrast(S=stft, sr=sample_rate).T,axis=0)\n",
        "    tonnetz = np.mean(librosa.feature.tonnetz(y=librosa.effects.harmonic(X),\n",
        "    sr=sample_rate).T,axis=0)\n",
        "    return np.hstack([mfccs,chroma,mel,contrast,tonnetz])"
      ],
      "execution_count": null,
      "outputs": []
    },
    {
      "cell_type": "code",
      "metadata": {
        "id": "MR5V4veSFl_j"
      },
      "source": [
        "from glob import glob\n",
        "import numpy as np\n",
        "filenames = np.array(glob('/content/UrbanSound8K/audio/*/*.wav'))"
      ],
      "execution_count": null,
      "outputs": []
    },
    {
      "cell_type": "code",
      "metadata": {
        "id": "gWa0-R56zNUR",
        "outputId": "623e0868-6a37-4101-a6bb-88016b00dbe3",
        "colab": {
          "base_uri": "https://localhost:8080/",
          "height": 34
        }
      },
      "source": [
        "len(filenames)"
      ],
      "execution_count": null,
      "outputs": [
        {
          "output_type": "execute_result",
          "data": {
            "text/plain": [
              "8732"
            ]
          },
          "metadata": {
            "tags": []
          },
          "execution_count": 8
        }
      ]
    },
    {
      "cell_type": "code",
      "metadata": {
        "id": "64uBoiTYzzE8",
        "outputId": "bf331f8f-f20d-4aba-f1cb-a6e21f6f1ca4",
        "colab": {
          "base_uri": "https://localhost:8080/",
          "height": 204
        }
      },
      "source": [
        "data.head()"
      ],
      "execution_count": null,
      "outputs": [
        {
          "output_type": "execute_result",
          "data": {
            "text/html": [
              "<div>\n",
              "<style scoped>\n",
              "    .dataframe tbody tr th:only-of-type {\n",
              "        vertical-align: middle;\n",
              "    }\n",
              "\n",
              "    .dataframe tbody tr th {\n",
              "        vertical-align: top;\n",
              "    }\n",
              "\n",
              "    .dataframe thead th {\n",
              "        text-align: right;\n",
              "    }\n",
              "</style>\n",
              "<table border=\"1\" class=\"dataframe\">\n",
              "  <thead>\n",
              "    <tr style=\"text-align: right;\">\n",
              "      <th></th>\n",
              "      <th>slice_file_name</th>\n",
              "      <th>fsID</th>\n",
              "      <th>start</th>\n",
              "      <th>end</th>\n",
              "      <th>salience</th>\n",
              "      <th>fold</th>\n",
              "      <th>classID</th>\n",
              "      <th>class</th>\n",
              "    </tr>\n",
              "  </thead>\n",
              "  <tbody>\n",
              "    <tr>\n",
              "      <th>0</th>\n",
              "      <td>100032-3-0-0.wav</td>\n",
              "      <td>100032</td>\n",
              "      <td>0.0</td>\n",
              "      <td>0.317551</td>\n",
              "      <td>1</td>\n",
              "      <td>5</td>\n",
              "      <td>3</td>\n",
              "      <td>dog_bark</td>\n",
              "    </tr>\n",
              "    <tr>\n",
              "      <th>1</th>\n",
              "      <td>100263-2-0-117.wav</td>\n",
              "      <td>100263</td>\n",
              "      <td>58.5</td>\n",
              "      <td>62.500000</td>\n",
              "      <td>1</td>\n",
              "      <td>5</td>\n",
              "      <td>2</td>\n",
              "      <td>children_playing</td>\n",
              "    </tr>\n",
              "    <tr>\n",
              "      <th>2</th>\n",
              "      <td>100263-2-0-121.wav</td>\n",
              "      <td>100263</td>\n",
              "      <td>60.5</td>\n",
              "      <td>64.500000</td>\n",
              "      <td>1</td>\n",
              "      <td>5</td>\n",
              "      <td>2</td>\n",
              "      <td>children_playing</td>\n",
              "    </tr>\n",
              "    <tr>\n",
              "      <th>3</th>\n",
              "      <td>100263-2-0-126.wav</td>\n",
              "      <td>100263</td>\n",
              "      <td>63.0</td>\n",
              "      <td>67.000000</td>\n",
              "      <td>1</td>\n",
              "      <td>5</td>\n",
              "      <td>2</td>\n",
              "      <td>children_playing</td>\n",
              "    </tr>\n",
              "    <tr>\n",
              "      <th>4</th>\n",
              "      <td>100263-2-0-137.wav</td>\n",
              "      <td>100263</td>\n",
              "      <td>68.5</td>\n",
              "      <td>72.500000</td>\n",
              "      <td>1</td>\n",
              "      <td>5</td>\n",
              "      <td>2</td>\n",
              "      <td>children_playing</td>\n",
              "    </tr>\n",
              "  </tbody>\n",
              "</table>\n",
              "</div>"
            ],
            "text/plain": [
              "      slice_file_name    fsID  start  ...  fold  classID             class\n",
              "0    100032-3-0-0.wav  100032    0.0  ...     5        3          dog_bark\n",
              "1  100263-2-0-117.wav  100263   58.5  ...     5        2  children_playing\n",
              "2  100263-2-0-121.wav  100263   60.5  ...     5        2  children_playing\n",
              "3  100263-2-0-126.wav  100263   63.0  ...     5        2  children_playing\n",
              "4  100263-2-0-137.wav  100263   68.5  ...     5        2  children_playing\n",
              "\n",
              "[5 rows x 8 columns]"
            ]
          },
          "metadata": {
            "tags": []
          },
          "execution_count": 9
        }
      ]
    },
    {
      "cell_type": "code",
      "metadata": {
        "id": "CVoxeIgYJbTr"
      },
      "source": [
        "ids = data['slice_file_name'].values\n",
        "folds = data['fold'].values"
      ],
      "execution_count": null,
      "outputs": []
    },
    {
      "cell_type": "code",
      "metadata": {
        "id": "Dqzqa9D1HsXD"
      },
      "source": [
        "def extract_feature(file_name):\n",
        "    X, sample_rate = librosa.load(file_name)\n",
        "    stft = np.abs(librosa.stft(X))\n",
        "    mfccs = np.mean(librosa.feature.mfcc(y=X, sr=sample_rate, n_mfcc=40).T,axis=0)\n",
        "    return mfccs"
      ],
      "execution_count": null,
      "outputs": []
    },
    {
      "cell_type": "code",
      "metadata": {
        "id": "y2ucw-tz0Tsh",
        "outputId": "7e645b6a-64b7-4068-9633-71d4ccb1e8dd",
        "colab": {
          "base_uri": "https://localhost:8080/",
          "height": 34
        }
      },
      "source": [
        "i=0\n",
        "'/content/UrbanSound8K/audio/fold'+str(folds[i])+'/'+str(ids[i])"
      ],
      "execution_count": null,
      "outputs": [
        {
          "output_type": "execute_result",
          "data": {
            "text/plain": [
              "'/content/UrbanSound8K/audio/fold5/100032-3-0-0.wav'"
            ]
          },
          "metadata": {
            "tags": []
          },
          "execution_count": 12
        }
      ]
    },
    {
      "cell_type": "code",
      "metadata": {
        "id": "egnPK_nIFmCF"
      },
      "source": [
        "x = []\n",
        "y = []\n",
        "for i in range(len(ids)):\n",
        "  if(i%100==0):\n",
        "    print(i)\n",
        "  try:\n",
        "    filename = '/content/UrbanSound8K/audio/fold'+str(folds[i])+'/'+str(ids[i])\n",
        "    y.append(data[data['slice_file_name']==ids[i]]['class'].values)\n",
        "    x.append(extract_feature(filename))\n",
        "  except:\n",
        "    continue\n",
        "  "
      ],
      "execution_count": null,
      "outputs": []
    },
    {
      "cell_type": "code",
      "metadata": {
        "id": "OvhjtQigHfVj",
        "outputId": "db0f8296-f157-44c4-9ec1-b3ac903b9086",
        "colab": {
          "base_uri": "https://localhost:8080/",
          "height": 34
        }
      },
      "source": [
        "np.array(x).shape"
      ],
      "execution_count": null,
      "outputs": [
        {
          "output_type": "execute_result",
          "data": {
            "text/plain": [
              "(8732, 40)"
            ]
          },
          "metadata": {
            "tags": []
          },
          "execution_count": 16
        }
      ]
    },
    {
      "cell_type": "code",
      "metadata": {
        "id": "QajCiV2jZLEb"
      },
      "source": [
        "y2 = []\n",
        "for i in range(len(y)):\n",
        "  y2.append(y[i][0])"
      ],
      "execution_count": null,
      "outputs": []
    },
    {
      "cell_type": "code",
      "metadata": {
        "id": "KdxCDKpAFGvV",
        "outputId": "6a4bf064-9c4c-4a25-a8bf-cc4fd2ecced3",
        "colab": {
          "base_uri": "https://localhost:8080/",
          "height": 34
        }
      },
      "source": [
        "from keras.utils import to_categorical"
      ],
      "execution_count": null,
      "outputs": [
        {
          "output_type": "stream",
          "text": [
            "Using TensorFlow backend.\n"
          ],
          "name": "stderr"
        }
      ]
    },
    {
      "cell_type": "code",
      "metadata": {
        "id": "vtoZWrCdaTTk"
      },
      "source": [
        "y3 = np.array(pd.get_dummies(y2))"
      ],
      "execution_count": null,
      "outputs": []
    },
    {
      "cell_type": "code",
      "metadata": {
        "id": "DCp-jnM3Zygz"
      },
      "source": [
        "x = np.array(x)"
      ],
      "execution_count": null,
      "outputs": []
    },
    {
      "cell_type": "code",
      "metadata": {
        "id": "0AHqAGOmafy2",
        "outputId": "3a1e3b8e-1357-48da-97f4-e2b36e1699dd",
        "colab": {
          "base_uri": "https://localhost:8080/",
          "height": 34
        }
      },
      "source": [
        "print(x.shape, y3.shape)"
      ],
      "execution_count": null,
      "outputs": [
        {
          "output_type": "stream",
          "text": [
            "(8732, 40) (8732, 10)\n"
          ],
          "name": "stdout"
        }
      ]
    },
    {
      "cell_type": "code",
      "metadata": {
        "id": "7nzzHWxuaxpM"
      },
      "source": [
        "x = x.reshape(x.shape[0],x.shape[1],1)"
      ],
      "execution_count": null,
      "outputs": []
    },
    {
      "cell_type": "code",
      "metadata": {
        "id": "ay8iWPt-86yH"
      },
      "source": [
        "x = x.reshape(x.shape[0],x.shape[1])"
      ],
      "execution_count": null,
      "outputs": []
    },
    {
      "cell_type": "code",
      "metadata": {
        "id": "ztOR8YddaiwD"
      },
      "source": [
        "import os\n",
        "import keras.backend as K\n",
        "from keras.models import Sequential, Model\n",
        "from keras.layers import Conv2D, ZeroPadding2D, BatchNormalization, Input, Dropout\n",
        "from keras.layers import Conv2DTranspose, Reshape, Activation, Cropping2D, Flatten\n",
        "from keras.layers import Concatenate\n",
        "from keras.layers.advanced_activations import LeakyReLU\n",
        "from keras.activations import relu\n",
        "from keras.initializers import RandomNormal\n",
        "from keras.layers import Embedding\n",
        "from keras.layers import LSTM, RepeatVector, TimeDistributed, Dense, Bidirectional"
      ],
      "execution_count": null,
      "outputs": []
    },
    {
      "cell_type": "code",
      "metadata": {
        "id": "Kah3J6pv89tt",
        "outputId": "b74cac01-7b71-4979-f30d-edb30f420f9f",
        "colab": {
          "base_uri": "https://localhost:8080/",
          "height": 323
        }
      },
      "source": [
        "model = Sequential()\n",
        "model.add(Dense(1000, input_shape = (40,), activation = 'relu'))\n",
        "#model.add(Dense(1000,activation='relu'))\n",
        "model.add(Dense(10,activation='sigmoid'))\n",
        "model.summary()"
      ],
      "execution_count": null,
      "outputs": [
        {
          "output_type": "stream",
          "text": [
            "WARNING:tensorflow:From /usr/local/lib/python3.6/dist-packages/keras/backend/tensorflow_backend.py:66: The name tf.get_default_graph is deprecated. Please use tf.compat.v1.get_default_graph instead.\n",
            "\n",
            "WARNING:tensorflow:From /usr/local/lib/python3.6/dist-packages/keras/backend/tensorflow_backend.py:541: The name tf.placeholder is deprecated. Please use tf.compat.v1.placeholder instead.\n",
            "\n",
            "WARNING:tensorflow:From /usr/local/lib/python3.6/dist-packages/keras/backend/tensorflow_backend.py:4432: The name tf.random_uniform is deprecated. Please use tf.random.uniform instead.\n",
            "\n",
            "Model: \"sequential_1\"\n",
            "_________________________________________________________________\n",
            "Layer (type)                 Output Shape              Param #   \n",
            "=================================================================\n",
            "dense_1 (Dense)              (None, 1000)              41000     \n",
            "_________________________________________________________________\n",
            "dense_2 (Dense)              (None, 10)                10010     \n",
            "=================================================================\n",
            "Total params: 51,010\n",
            "Trainable params: 51,010\n",
            "Non-trainable params: 0\n",
            "_________________________________________________________________\n"
          ],
          "name": "stdout"
        }
      ]
    },
    {
      "cell_type": "code",
      "metadata": {
        "id": "JBjKDb5casMy"
      },
      "source": [
        "# model = Sequential()\n",
        "# model.add(Dense(1000, input_shape = (193,1), activation = 'relu'))\n",
        "# model.add((LSTM(100)))\n",
        "# model.add(Dense(1000,activation='relu'))\n",
        "# model.add(Dense(10,activation='sigmoid'))\n",
        "# model.summary()"
      ],
      "execution_count": null,
      "outputs": []
    },
    {
      "cell_type": "code",
      "metadata": {
        "id": "7BIsWDhTa5Su",
        "outputId": "92aaea4c-1b54-4170-cae8-4af20c3b6fae",
        "colab": {
          "base_uri": "https://localhost:8080/",
          "height": 85
        }
      },
      "source": [
        "from keras.optimizers import Adam\n",
        "adam = Adam(lr=0.0001)\n",
        "model.compile(optimizer=adam, loss='categorical_crossentropy', metrics=['acc'])"
      ],
      "execution_count": null,
      "outputs": [
        {
          "output_type": "stream",
          "text": [
            "WARNING:tensorflow:From /usr/local/lib/python3.6/dist-packages/keras/optimizers.py:793: The name tf.train.Optimizer is deprecated. Please use tf.compat.v1.train.Optimizer instead.\n",
            "\n",
            "WARNING:tensorflow:From /usr/local/lib/python3.6/dist-packages/keras/backend/tensorflow_backend.py:3576: The name tf.log is deprecated. Please use tf.math.log instead.\n",
            "\n"
          ],
          "name": "stdout"
        }
      ]
    },
    {
      "cell_type": "code",
      "metadata": {
        "id": "2OA88qoBCDrm",
        "outputId": "52b92454-68ca-44f3-eefd-972ddec178c5",
        "colab": {
          "base_uri": "https://localhost:8080/",
          "height": 34
        }
      },
      "source": [
        "np.max(x)"
      ],
      "execution_count": null,
      "outputs": [
        {
          "output_type": "execute_result",
          "data": {
            "text/plain": [
              "269.6517343431436"
            ]
          },
          "metadata": {
            "tags": []
          },
          "execution_count": 27
        }
      ]
    },
    {
      "cell_type": "code",
      "metadata": {
        "id": "UHlxxlyQa8rj"
      },
      "source": [
        "from sklearn.model_selection import train_test_split\n",
        "X_train, X_test, y_train, y_test = train_test_split(x, y3, test_size=0.30,random_state=10)"
      ],
      "execution_count": null,
      "outputs": []
    },
    {
      "cell_type": "code",
      "metadata": {
        "id": "SljPO6_CbB_-",
        "outputId": "20cfaf22-2866-4693-e75d-64645a82e43d",
        "colab": {
          "base_uri": "https://localhost:8080/",
          "height": 1000
        }
      },
      "source": [
        "model.fit(X_train/np.max(x), y_train, epochs=100, batch_size=32, validation_data=(X_test/np.max(x), y_test), verbose = 1)"
      ],
      "execution_count": null,
      "outputs": [
        {
          "output_type": "stream",
          "text": [
            "WARNING:tensorflow:From /usr/local/lib/python3.6/dist-packages/tensorflow/python/ops/math_grad.py:1250: add_dispatch_support.<locals>.wrapper (from tensorflow.python.ops.array_ops) is deprecated and will be removed in a future version.\n",
            "Instructions for updating:\n",
            "Use tf.where in 2.0, which has the same broadcast rule as np.where\n",
            "WARNING:tensorflow:From /usr/local/lib/python3.6/dist-packages/keras/backend/tensorflow_backend.py:1033: The name tf.assign_add is deprecated. Please use tf.compat.v1.assign_add instead.\n",
            "\n",
            "Train on 6112 samples, validate on 2620 samples\n",
            "Epoch 1/100\n",
            "6112/6112 [==============================] - 6s 979us/step - loss: 2.2672 - acc: 0.1702 - val_loss: 2.2356 - val_acc: 0.2046\n",
            "Epoch 2/100\n",
            "6112/6112 [==============================] - 1s 155us/step - loss: 2.1977 - acc: 0.2549 - val_loss: 2.1633 - val_acc: 0.2973\n",
            "Epoch 3/100\n",
            "6112/6112 [==============================] - 1s 157us/step - loss: 2.1174 - acc: 0.3262 - val_loss: 2.0715 - val_acc: 0.3710\n",
            "Epoch 4/100\n",
            "6112/6112 [==============================] - 1s 170us/step - loss: 2.0190 - acc: 0.3796 - val_loss: 1.9652 - val_acc: 0.3920\n",
            "Epoch 5/100\n",
            "6112/6112 [==============================] - 1s 156us/step - loss: 1.9139 - acc: 0.3974 - val_loss: 1.8635 - val_acc: 0.4221\n",
            "Epoch 6/100\n",
            "6112/6112 [==============================] - 1s 159us/step - loss: 1.8201 - acc: 0.4249 - val_loss: 1.7780 - val_acc: 0.4427\n",
            "Epoch 7/100\n",
            "6112/6112 [==============================] - 1s 155us/step - loss: 1.7424 - acc: 0.4432 - val_loss: 1.7089 - val_acc: 0.4538\n",
            "Epoch 8/100\n",
            "6112/6112 [==============================] - 1s 152us/step - loss: 1.6798 - acc: 0.4576 - val_loss: 1.6588 - val_acc: 0.4622\n",
            "Epoch 9/100\n",
            "6112/6112 [==============================] - 1s 165us/step - loss: 1.6314 - acc: 0.4755 - val_loss: 1.6155 - val_acc: 0.4832\n",
            "Epoch 10/100\n",
            "6112/6112 [==============================] - 1s 164us/step - loss: 1.5900 - acc: 0.4820 - val_loss: 1.5807 - val_acc: 0.4817\n",
            "Epoch 11/100\n",
            "6112/6112 [==============================] - 1s 156us/step - loss: 1.5558 - acc: 0.4907 - val_loss: 1.5482 - val_acc: 0.4977\n",
            "Epoch 12/100\n",
            "6112/6112 [==============================] - 1s 152us/step - loss: 1.5267 - acc: 0.4997 - val_loss: 1.5227 - val_acc: 0.5011\n",
            "Epoch 13/100\n",
            "6112/6112 [==============================] - 1s 155us/step - loss: 1.5015 - acc: 0.5097 - val_loss: 1.5051 - val_acc: 0.4893\n",
            "Epoch 14/100\n",
            "6112/6112 [==============================] - 1s 156us/step - loss: 1.4801 - acc: 0.5141 - val_loss: 1.4844 - val_acc: 0.5042\n",
            "Epoch 15/100\n",
            "6112/6112 [==============================] - 1s 158us/step - loss: 1.4602 - acc: 0.5242 - val_loss: 1.4653 - val_acc: 0.5191\n",
            "Epoch 16/100\n",
            "6112/6112 [==============================] - 1s 158us/step - loss: 1.4417 - acc: 0.5352 - val_loss: 1.4519 - val_acc: 0.5145\n",
            "Epoch 17/100\n",
            "6112/6112 [==============================] - 1s 157us/step - loss: 1.4265 - acc: 0.5352 - val_loss: 1.4350 - val_acc: 0.5344\n",
            "Epoch 18/100\n",
            "6112/6112 [==============================] - 1s 156us/step - loss: 1.4123 - acc: 0.5417 - val_loss: 1.4214 - val_acc: 0.5408\n",
            "Epoch 19/100\n",
            "6112/6112 [==============================] - 1s 153us/step - loss: 1.3984 - acc: 0.5473 - val_loss: 1.4099 - val_acc: 0.5401\n",
            "Epoch 20/100\n",
            "6112/6112 [==============================] - 1s 149us/step - loss: 1.3859 - acc: 0.5489 - val_loss: 1.3985 - val_acc: 0.5473\n",
            "Epoch 21/100\n",
            "6112/6112 [==============================] - 1s 159us/step - loss: 1.3746 - acc: 0.5502 - val_loss: 1.3883 - val_acc: 0.5511\n",
            "Epoch 22/100\n",
            "6112/6112 [==============================] - 1s 159us/step - loss: 1.3636 - acc: 0.5564 - val_loss: 1.3814 - val_acc: 0.5447\n",
            "Epoch 23/100\n",
            "6112/6112 [==============================] - 1s 155us/step - loss: 1.3526 - acc: 0.5592 - val_loss: 1.3700 - val_acc: 0.5584\n",
            "Epoch 24/100\n",
            "6112/6112 [==============================] - 1s 155us/step - loss: 1.3438 - acc: 0.5622 - val_loss: 1.3608 - val_acc: 0.5622\n",
            "Epoch 25/100\n",
            "6112/6112 [==============================] - 1s 155us/step - loss: 1.3349 - acc: 0.5643 - val_loss: 1.3524 - val_acc: 0.5679\n",
            "Epoch 26/100\n",
            "6112/6112 [==============================] - 1s 152us/step - loss: 1.3251 - acc: 0.5668 - val_loss: 1.3457 - val_acc: 0.5664\n",
            "Epoch 27/100\n",
            "6112/6112 [==============================] - 1s 162us/step - loss: 1.3175 - acc: 0.5694 - val_loss: 1.3385 - val_acc: 0.5714\n",
            "Epoch 28/100\n",
            "6112/6112 [==============================] - 1s 162us/step - loss: 1.3096 - acc: 0.5736 - val_loss: 1.3308 - val_acc: 0.5718\n",
            "Epoch 29/100\n",
            "6112/6112 [==============================] - 1s 156us/step - loss: 1.3021 - acc: 0.5759 - val_loss: 1.3263 - val_acc: 0.5672\n",
            "Epoch 30/100\n",
            "6112/6112 [==============================] - 1s 149us/step - loss: 1.2944 - acc: 0.5779 - val_loss: 1.3188 - val_acc: 0.5748\n",
            "Epoch 31/100\n",
            "6112/6112 [==============================] - 1s 153us/step - loss: 1.2878 - acc: 0.5798 - val_loss: 1.3133 - val_acc: 0.5744\n",
            "Epoch 32/100\n",
            "6112/6112 [==============================] - 1s 157us/step - loss: 1.2812 - acc: 0.5812 - val_loss: 1.3068 - val_acc: 0.5805\n",
            "Epoch 33/100\n",
            "6112/6112 [==============================] - 1s 161us/step - loss: 1.2739 - acc: 0.5861 - val_loss: 1.3023 - val_acc: 0.5767\n",
            "Epoch 34/100\n",
            "6112/6112 [==============================] - 1s 170us/step - loss: 1.2681 - acc: 0.5838 - val_loss: 1.2955 - val_acc: 0.5859\n",
            "Epoch 35/100\n",
            "6112/6112 [==============================] - 1s 172us/step - loss: 1.2619 - acc: 0.5875 - val_loss: 1.2939 - val_acc: 0.5706\n",
            "Epoch 36/100\n",
            "6112/6112 [==============================] - 1s 163us/step - loss: 1.2556 - acc: 0.5905 - val_loss: 1.2843 - val_acc: 0.5844\n",
            "Epoch 37/100\n",
            "6112/6112 [==============================] - 1s 166us/step - loss: 1.2501 - acc: 0.5911 - val_loss: 1.2794 - val_acc: 0.5813\n",
            "Epoch 38/100\n",
            "6112/6112 [==============================] - 1s 153us/step - loss: 1.2442 - acc: 0.5951 - val_loss: 1.2748 - val_acc: 0.5836\n",
            "Epoch 39/100\n",
            "6112/6112 [==============================] - 1s 157us/step - loss: 1.2387 - acc: 0.5933 - val_loss: 1.2705 - val_acc: 0.5802\n",
            "Epoch 40/100\n",
            "6112/6112 [==============================] - 1s 157us/step - loss: 1.2331 - acc: 0.5955 - val_loss: 1.2659 - val_acc: 0.5847\n",
            "Epoch 41/100\n",
            "6112/6112 [==============================] - 1s 155us/step - loss: 1.2279 - acc: 0.5988 - val_loss: 1.2604 - val_acc: 0.5874\n",
            "Epoch 42/100\n",
            "6112/6112 [==============================] - 1s 166us/step - loss: 1.2239 - acc: 0.6009 - val_loss: 1.2559 - val_acc: 0.5859\n",
            "Epoch 43/100\n",
            "6112/6112 [==============================] - 1s 161us/step - loss: 1.2182 - acc: 0.6034 - val_loss: 1.2512 - val_acc: 0.5863\n",
            "Epoch 44/100\n",
            "6112/6112 [==============================] - 1s 166us/step - loss: 1.2126 - acc: 0.6036 - val_loss: 1.2489 - val_acc: 0.5901\n",
            "Epoch 45/100\n",
            "6112/6112 [==============================] - 1s 154us/step - loss: 1.2082 - acc: 0.6037 - val_loss: 1.2443 - val_acc: 0.5916\n",
            "Epoch 46/100\n",
            "6112/6112 [==============================] - 1s 153us/step - loss: 1.2042 - acc: 0.6029 - val_loss: 1.2401 - val_acc: 0.5897\n",
            "Epoch 47/100\n",
            "6112/6112 [==============================] - 1s 159us/step - loss: 1.1996 - acc: 0.6063 - val_loss: 1.2354 - val_acc: 0.5924\n",
            "Epoch 48/100\n",
            "6112/6112 [==============================] - 1s 156us/step - loss: 1.1952 - acc: 0.6080 - val_loss: 1.2321 - val_acc: 0.5897\n",
            "Epoch 49/100\n",
            "6112/6112 [==============================] - 1s 156us/step - loss: 1.1899 - acc: 0.6096 - val_loss: 1.2287 - val_acc: 0.5981\n",
            "Epoch 50/100\n",
            "6112/6112 [==============================] - 1s 151us/step - loss: 1.1855 - acc: 0.6126 - val_loss: 1.2259 - val_acc: 0.5981\n",
            "Epoch 51/100\n",
            "6112/6112 [==============================] - 1s 155us/step - loss: 1.1814 - acc: 0.6149 - val_loss: 1.2214 - val_acc: 0.5969\n",
            "Epoch 52/100\n",
            "6112/6112 [==============================] - 1s 156us/step - loss: 1.1768 - acc: 0.6181 - val_loss: 1.2171 - val_acc: 0.5985\n",
            "Epoch 53/100\n",
            "6112/6112 [==============================] - 1s 157us/step - loss: 1.1743 - acc: 0.6178 - val_loss: 1.2136 - val_acc: 0.5969\n",
            "Epoch 54/100\n",
            "6112/6112 [==============================] - 1s 159us/step - loss: 1.1695 - acc: 0.6188 - val_loss: 1.2107 - val_acc: 0.6050\n",
            "Epoch 55/100\n",
            "6112/6112 [==============================] - 1s 169us/step - loss: 1.1655 - acc: 0.6196 - val_loss: 1.2072 - val_acc: 0.6069\n",
            "Epoch 56/100\n",
            "6112/6112 [==============================] - 1s 157us/step - loss: 1.1615 - acc: 0.6219 - val_loss: 1.2042 - val_acc: 0.6073\n",
            "Epoch 57/100\n",
            "6112/6112 [==============================] - 1s 153us/step - loss: 1.1577 - acc: 0.6245 - val_loss: 1.2011 - val_acc: 0.6107\n",
            "Epoch 58/100\n",
            "6112/6112 [==============================] - 1s 159us/step - loss: 1.1538 - acc: 0.6239 - val_loss: 1.1980 - val_acc: 0.6107\n",
            "Epoch 59/100\n",
            "6112/6112 [==============================] - 1s 153us/step - loss: 1.1506 - acc: 0.6281 - val_loss: 1.1945 - val_acc: 0.6122\n",
            "Epoch 60/100\n",
            "6112/6112 [==============================] - 1s 153us/step - loss: 1.1469 - acc: 0.6283 - val_loss: 1.1928 - val_acc: 0.6092\n",
            "Epoch 61/100\n",
            "6112/6112 [==============================] - 1s 159us/step - loss: 1.1431 - acc: 0.6278 - val_loss: 1.1888 - val_acc: 0.6126\n",
            "Epoch 62/100\n",
            "6112/6112 [==============================] - 1s 153us/step - loss: 1.1394 - acc: 0.6306 - val_loss: 1.1869 - val_acc: 0.6141\n",
            "Epoch 63/100\n",
            "6112/6112 [==============================] - 1s 163us/step - loss: 1.1368 - acc: 0.6333 - val_loss: 1.1834 - val_acc: 0.6141\n",
            "Epoch 64/100\n",
            "6112/6112 [==============================] - 1s 162us/step - loss: 1.1331 - acc: 0.6332 - val_loss: 1.1802 - val_acc: 0.6149\n",
            "Epoch 65/100\n",
            "6112/6112 [==============================] - 1s 158us/step - loss: 1.1292 - acc: 0.6338 - val_loss: 1.1795 - val_acc: 0.6183\n",
            "Epoch 66/100\n",
            "6112/6112 [==============================] - 1s 160us/step - loss: 1.1266 - acc: 0.6360 - val_loss: 1.1764 - val_acc: 0.6149\n",
            "Epoch 67/100\n",
            "6112/6112 [==============================] - 1s 159us/step - loss: 1.1233 - acc: 0.6358 - val_loss: 1.1725 - val_acc: 0.6172\n",
            "Epoch 68/100\n",
            "6112/6112 [==============================] - 1s 162us/step - loss: 1.1203 - acc: 0.6384 - val_loss: 1.1709 - val_acc: 0.6141\n",
            "Epoch 69/100\n",
            "6112/6112 [==============================] - 1s 156us/step - loss: 1.1172 - acc: 0.6389 - val_loss: 1.1684 - val_acc: 0.6206\n",
            "Epoch 70/100\n",
            "6112/6112 [==============================] - 1s 154us/step - loss: 1.1137 - acc: 0.6404 - val_loss: 1.1658 - val_acc: 0.6164\n",
            "Epoch 71/100\n",
            "6112/6112 [==============================] - 1s 154us/step - loss: 1.1112 - acc: 0.6387 - val_loss: 1.1616 - val_acc: 0.6206\n",
            "Epoch 72/100\n",
            "6112/6112 [==============================] - 1s 159us/step - loss: 1.1080 - acc: 0.6482 - val_loss: 1.1591 - val_acc: 0.6191\n",
            "Epoch 73/100\n",
            "6112/6112 [==============================] - 1s 166us/step - loss: 1.1044 - acc: 0.6456 - val_loss: 1.1570 - val_acc: 0.6260\n",
            "Epoch 74/100\n",
            "6112/6112 [==============================] - 1s 157us/step - loss: 1.1014 - acc: 0.6453 - val_loss: 1.1545 - val_acc: 0.6225\n",
            "Epoch 75/100\n",
            "6112/6112 [==============================] - 1s 157us/step - loss: 1.0982 - acc: 0.6459 - val_loss: 1.1529 - val_acc: 0.6191\n",
            "Epoch 76/100\n",
            "6112/6112 [==============================] - 1s 158us/step - loss: 1.0954 - acc: 0.6446 - val_loss: 1.1491 - val_acc: 0.6233\n",
            "Epoch 77/100\n",
            "6112/6112 [==============================] - 1s 161us/step - loss: 1.0927 - acc: 0.6477 - val_loss: 1.1465 - val_acc: 0.6244\n",
            "Epoch 78/100\n",
            "6112/6112 [==============================] - 1s 169us/step - loss: 1.0899 - acc: 0.6495 - val_loss: 1.1476 - val_acc: 0.6244\n",
            "Epoch 79/100\n",
            "6112/6112 [==============================] - 1s 165us/step - loss: 1.0869 - acc: 0.6459 - val_loss: 1.1430 - val_acc: 0.6267\n",
            "Epoch 80/100\n",
            "6112/6112 [==============================] - 1s 157us/step - loss: 1.0838 - acc: 0.6523 - val_loss: 1.1402 - val_acc: 0.6225\n",
            "Epoch 81/100\n",
            "6112/6112 [==============================] - 1s 153us/step - loss: 1.0816 - acc: 0.6538 - val_loss: 1.1413 - val_acc: 0.6313\n",
            "Epoch 82/100\n",
            "6112/6112 [==============================] - 1s 157us/step - loss: 1.0786 - acc: 0.6549 - val_loss: 1.1367 - val_acc: 0.6286\n",
            "Epoch 83/100\n",
            "6112/6112 [==============================] - 1s 161us/step - loss: 1.0756 - acc: 0.6535 - val_loss: 1.1326 - val_acc: 0.6252\n",
            "Epoch 84/100\n",
            "6112/6112 [==============================] - 1s 160us/step - loss: 1.0729 - acc: 0.6559 - val_loss: 1.1323 - val_acc: 0.6305\n",
            "Epoch 85/100\n",
            "6112/6112 [==============================] - 1s 160us/step - loss: 1.0707 - acc: 0.6585 - val_loss: 1.1274 - val_acc: 0.6294\n",
            "Epoch 86/100\n",
            "6112/6112 [==============================] - 1s 161us/step - loss: 1.0673 - acc: 0.6589 - val_loss: 1.1261 - val_acc: 0.6336\n",
            "Epoch 87/100\n",
            "6112/6112 [==============================] - 1s 157us/step - loss: 1.0654 - acc: 0.6567 - val_loss: 1.1241 - val_acc: 0.6359\n",
            "Epoch 88/100\n",
            "6112/6112 [==============================] - 1s 160us/step - loss: 1.0622 - acc: 0.6628 - val_loss: 1.1210 - val_acc: 0.6393\n",
            "Epoch 89/100\n",
            "6112/6112 [==============================] - 1s 157us/step - loss: 1.0604 - acc: 0.6610 - val_loss: 1.1184 - val_acc: 0.6351\n",
            "Epoch 90/100\n",
            "6112/6112 [==============================] - 1s 165us/step - loss: 1.0569 - acc: 0.6630 - val_loss: 1.1169 - val_acc: 0.6405\n",
            "Epoch 91/100\n",
            "6112/6112 [==============================] - 1s 161us/step - loss: 1.0546 - acc: 0.6634 - val_loss: 1.1138 - val_acc: 0.6401\n",
            "Epoch 92/100\n",
            "6112/6112 [==============================] - 1s 160us/step - loss: 1.0518 - acc: 0.6620 - val_loss: 1.1131 - val_acc: 0.6408\n",
            "Epoch 93/100\n",
            "6112/6112 [==============================] - 1s 158us/step - loss: 1.0501 - acc: 0.6626 - val_loss: 1.1105 - val_acc: 0.6378\n",
            "Epoch 94/100\n",
            "6112/6112 [==============================] - 1s 162us/step - loss: 1.0473 - acc: 0.6634 - val_loss: 1.1075 - val_acc: 0.6439\n",
            "Epoch 95/100\n",
            "6112/6112 [==============================] - 1s 162us/step - loss: 1.0435 - acc: 0.6690 - val_loss: 1.1075 - val_acc: 0.6385\n",
            "Epoch 96/100\n",
            "6112/6112 [==============================] - 1s 157us/step - loss: 1.0417 - acc: 0.6672 - val_loss: 1.1043 - val_acc: 0.6439\n",
            "Epoch 97/100\n",
            "6112/6112 [==============================] - 1s 161us/step - loss: 1.0390 - acc: 0.6656 - val_loss: 1.1007 - val_acc: 0.6416\n",
            "Epoch 98/100\n",
            "6112/6112 [==============================] - 1s 163us/step - loss: 1.0370 - acc: 0.6685 - val_loss: 1.0982 - val_acc: 0.6431\n",
            "Epoch 99/100\n",
            "6112/6112 [==============================] - 1s 157us/step - loss: 1.0346 - acc: 0.6710 - val_loss: 1.0976 - val_acc: 0.6443\n",
            "Epoch 100/100\n",
            "6112/6112 [==============================] - 1s 159us/step - loss: 1.0317 - acc: 0.6675 - val_loss: 1.0945 - val_acc: 0.6466\n"
          ],
          "name": "stdout"
        },
        {
          "output_type": "execute_result",
          "data": {
            "text/plain": [
              "<keras.callbacks.History at 0x7f50338417f0>"
            ]
          },
          "metadata": {
            "tags": []
          },
          "execution_count": 29
        }
      ]
    },
    {
      "cell_type": "code",
      "metadata": {
        "id": "3sLZY8aT9bu6"
      },
      "source": [
        ""
      ],
      "execution_count": null,
      "outputs": []
    }
  ]
}