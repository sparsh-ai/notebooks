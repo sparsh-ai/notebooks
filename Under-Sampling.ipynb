{
 "cells": [
  {
   "cell_type": "code",
   "execution_count": 1,
   "metadata": {},
   "outputs": [],
   "source": [
    "import pandas as pd\n",
    "import sklearn as sk\n",
    "from sklearn.model_selection import cross_val_score\n",
    "from sklearn.metrics import accuracy_score, f1_score, precision_score, recall_score, classification_report, confusion_matrix\n",
    "import sys\n",
    "from sklearn.feature_selection import RFE, RFECV\n",
    "from sklearn.ensemble import RandomForestClassifier, GradientBoostingClassifier, AdaBoostClassifier\n",
    "sys.setrecursionlimit(10**6) "
   ]
  },
  {
   "cell_type": "code",
   "execution_count": 2,
   "metadata": {
    "tags": []
   },
   "outputs": [
    {
     "output_type": "stream",
     "name": "stdout",
     "text": "(34141, 59)\n(31463, 59) (2678, 59)\n"
    }
   ],
   "source": [
    "csv_file = pd.read_csv(\"pres2_v2.csv\")\n",
    "print(csv_file.shape)\n",
    "print(csv_file[csv_file[\"class\"]==0].shape, csv_file[csv_file[\"class\"]==1].shape)\n"
   ]
  },
  {
   "cell_type": "markdown",
   "metadata": {},
   "source": [
    "### Cleaning all the data "
   ]
  },
  {
   "cell_type": "code",
   "execution_count": 3,
   "metadata": {},
   "outputs": [],
   "source": [
    "csv_file.pop('index')\n",
    "csv_file[\"city\"] = csv_file.city.str.lower()\n",
    "csv_file[\"county\"] = csv_file.county.str.lower()\n",
    "csv_file[\"ipcity\"] = csv_file.ipcity.str.lower()\n",
    "csv_file[\"ipstate\"] = csv_file.ipstate.str.lower()\n",
    "csv_file[\"browser\"] = csv_file.browser.str.lower()\n",
    "csv_file[\"os\"] = csv_file.os.str.lower()\n",
    "csv_file[\"os_v\"] = csv_file.os_v.str.lower()\n",
    "csv_file[\"device\"] = csv_file.device.str.lower()\n",
    "csv_file[\"device_family\"] = csv_file.device_family.str.lower()\n",
    "csv_file[\"device_model\"] = csv_file.device_model.str.lower()\n"
   ]
  },
  {
   "cell_type": "code",
   "execution_count": 4,
   "metadata": {
    "scrolled": true
   },
   "outputs": [
    {
     "output_type": "execute_result",
     "data": {
      "text/plain": "   city  county  postcode  ipcity  ipstate  ippostcode  browser  browser_v  \\\n0  1429       8    110034     300       29         388        1       80.0   \n1   783      29    500001     331       74        1155       13      123.0   \n2   783      29    500001     331       74        1155       13      123.0   \n3  1127      25    141001     472       65         467       13      136.0   \n4   952      25    144411     353       65         498       16       12.1   \n\n   os  os_v  ...    attr36  attr37  attr38   attr39     attr40     attr41  \\\n0   0    38  ...  0.801286     0.0     0.0  28.7740  135.89145  25.797000   \n1   0    76  ...  2.230500     0.0     0.0  37.7510   22.31925  10.393857   \n2   0    76  ...  2.514000     0.0     0.0  28.6435   18.94940   9.436750   \n3   0    76  ...  0.000000     0.0     0.0   0.0000    0.00000   0.000000   \n4   2    23  ...  0.000000     0.0     0.0   0.0000    0.00000   0.000000   \n\n      attr42  attr44    attr45  class  \n0  22.642405   0.673  3.303010      0  \n1  12.644706   1.622  3.486603      0  \n2  13.253333   1.986  3.486603      0  \n3   0.000000   0.906  3.607452      0  \n4   0.000000   2.095  3.609457      0  \n\n[5 rows x 58 columns]",
      "text/html": "<div>\n<style scoped>\n    .dataframe tbody tr th:only-of-type {\n        vertical-align: middle;\n    }\n\n    .dataframe tbody tr th {\n        vertical-align: top;\n    }\n\n    .dataframe thead th {\n        text-align: right;\n    }\n</style>\n<table border=\"1\" class=\"dataframe\">\n  <thead>\n    <tr style=\"text-align: right;\">\n      <th></th>\n      <th>city</th>\n      <th>county</th>\n      <th>postcode</th>\n      <th>ipcity</th>\n      <th>ipstate</th>\n      <th>ippostcode</th>\n      <th>browser</th>\n      <th>browser_v</th>\n      <th>os</th>\n      <th>os_v</th>\n      <th>...</th>\n      <th>attr36</th>\n      <th>attr37</th>\n      <th>attr38</th>\n      <th>attr39</th>\n      <th>attr40</th>\n      <th>attr41</th>\n      <th>attr42</th>\n      <th>attr44</th>\n      <th>attr45</th>\n      <th>class</th>\n    </tr>\n  </thead>\n  <tbody>\n    <tr>\n      <th>0</th>\n      <td>1429</td>\n      <td>8</td>\n      <td>110034</td>\n      <td>300</td>\n      <td>29</td>\n      <td>388</td>\n      <td>1</td>\n      <td>80.0</td>\n      <td>0</td>\n      <td>38</td>\n      <td>...</td>\n      <td>0.801286</td>\n      <td>0.0</td>\n      <td>0.0</td>\n      <td>28.7740</td>\n      <td>135.89145</td>\n      <td>25.797000</td>\n      <td>22.642405</td>\n      <td>0.673</td>\n      <td>3.303010</td>\n      <td>0</td>\n    </tr>\n    <tr>\n      <th>1</th>\n      <td>783</td>\n      <td>29</td>\n      <td>500001</td>\n      <td>331</td>\n      <td>74</td>\n      <td>1155</td>\n      <td>13</td>\n      <td>123.0</td>\n      <td>0</td>\n      <td>76</td>\n      <td>...</td>\n      <td>2.230500</td>\n      <td>0.0</td>\n      <td>0.0</td>\n      <td>37.7510</td>\n      <td>22.31925</td>\n      <td>10.393857</td>\n      <td>12.644706</td>\n      <td>1.622</td>\n      <td>3.486603</td>\n      <td>0</td>\n    </tr>\n    <tr>\n      <th>2</th>\n      <td>783</td>\n      <td>29</td>\n      <td>500001</td>\n      <td>331</td>\n      <td>74</td>\n      <td>1155</td>\n      <td>13</td>\n      <td>123.0</td>\n      <td>0</td>\n      <td>76</td>\n      <td>...</td>\n      <td>2.514000</td>\n      <td>0.0</td>\n      <td>0.0</td>\n      <td>28.6435</td>\n      <td>18.94940</td>\n      <td>9.436750</td>\n      <td>13.253333</td>\n      <td>1.986</td>\n      <td>3.486603</td>\n      <td>0</td>\n    </tr>\n    <tr>\n      <th>3</th>\n      <td>1127</td>\n      <td>25</td>\n      <td>141001</td>\n      <td>472</td>\n      <td>65</td>\n      <td>467</td>\n      <td>13</td>\n      <td>136.0</td>\n      <td>0</td>\n      <td>76</td>\n      <td>...</td>\n      <td>0.000000</td>\n      <td>0.0</td>\n      <td>0.0</td>\n      <td>0.0000</td>\n      <td>0.00000</td>\n      <td>0.000000</td>\n      <td>0.000000</td>\n      <td>0.906</td>\n      <td>3.607452</td>\n      <td>0</td>\n    </tr>\n    <tr>\n      <th>4</th>\n      <td>952</td>\n      <td>25</td>\n      <td>144411</td>\n      <td>353</td>\n      <td>65</td>\n      <td>498</td>\n      <td>16</td>\n      <td>12.1</td>\n      <td>2</td>\n      <td>23</td>\n      <td>...</td>\n      <td>0.000000</td>\n      <td>0.0</td>\n      <td>0.0</td>\n      <td>0.0000</td>\n      <td>0.00000</td>\n      <td>0.000000</td>\n      <td>0.000000</td>\n      <td>2.095</td>\n      <td>3.609457</td>\n      <td>0</td>\n    </tr>\n  </tbody>\n</table>\n<p>5 rows × 58 columns</p>\n</div>"
     },
     "metadata": {},
     "execution_count": 4
    }
   ],
   "source": [
    "csv_file[\"city\"] = csv_file.city.astype('category').cat.codes\n",
    "csv_file[\"county\"] = csv_file.county.astype('category').cat.codes\n",
    "csv_file[\"ipcity\"] = csv_file.ipcity.astype('category').cat.codes\n",
    "csv_file[\"ipstate\"] = csv_file.ipstate.astype('category').cat.codes\n",
    "csv_file[\"browser\"] = csv_file.browser.astype('category').cat.codes\n",
    "csv_file[\"os\"] = csv_file.os.astype('category').cat.codes\n",
    "csv_file[\"os_v\"] = csv_file.os_v.astype('category').cat.codes\n",
    "csv_file[\"device\"] = csv_file.device.astype('category').cat.codes\n",
    "csv_file[\"device_family\"] = csv_file.device_family.astype('category').cat.codes\n",
    "csv_file[\"device_model\"] = csv_file.device_model.astype('category').cat.codes\n",
    "csv_file[\"ippostcode\"] = csv_file.ippostcode.astype('category').cat.codes\n",
    "\n",
    "csv_file.head()"
   ]
  },
  {
   "cell_type": "markdown",
   "metadata": {},
   "source": [
    "### Check for the class imbalance and take equal entries from both"
   ]
  },
  {
   "cell_type": "code",
   "execution_count": 5,
   "metadata": {
    "tags": []
   },
   "outputs": [
    {
     "output_type": "stream",
     "name": "stdout",
     "text": "Majority shape :  (31463, 58)\nMinority shape :  (2678, 58)\n"
    },
    {
     "output_type": "execute_result",
     "data": {
      "text/plain": "(5356, 58)"
     },
     "metadata": {},
     "execution_count": 5
    }
   ],
   "source": [
    "majority = csv_file[csv_file[\"class\"]==0]\n",
    "minority = csv_file[csv_file[\"class\"]==1]\n",
    "print(\"Majority shape : \", majority.shape)\n",
    "print(\"Minority shape : \", minority.shape)\n",
    "\n",
    "new_df = pd.concat([majority.sample(minority.shape[0],), minority])\n",
    "new_df.shape"
   ]
  },
  {
   "cell_type": "code",
   "execution_count": 6,
   "metadata": {},
   "outputs": [],
   "source": [
    "# Split your train and test data in 7:3 ration\n",
    "train_x,test_x= sk.model_selection.train_test_split(new_df, test_size=0.30)\n",
    "train_x.shape\n",
    "\n",
    "train_y = train_x.pop(\"class\") \n",
    "test_y = test_x.pop(\"class\") "
   ]
  },
  {
   "cell_type": "markdown",
   "metadata": {},
   "source": [
    "### Train a gradient boosting classifier"
   ]
  },
  {
   "cell_type": "code",
   "execution_count": 7,
   "metadata": {
    "tags": []
   },
   "outputs": [
    {
     "output_type": "stream",
     "name": "stdout",
     "text": "[ True  True  True  True False  True False  True False  True False False\n  True False False False  True False False  True False False False  True\n False  True False  True False False False  True  True  True  True False\n False  True  True False  True False False False  True  True False False\n False False False  True  True  True  True  True  True]\n"
    }
   ],
   "source": [
    "clf = GradientBoostingClassifier(random_state=0,n_estimators=100)\n",
    "selector = RFE(clf)\n",
    "selector = selector.fit(train_x, train_y)\n",
    "print(selector.support_)\n",
    "\n",
    "pred = selector.predict(test_x)"
   ]
  },
  {
   "cell_type": "code",
   "execution_count": 8,
   "metadata": {
    "tags": []
   },
   "outputs": [
    {
     "output_type": "stream",
     "name": "stdout",
     "text": "Macro f1 :  0.7919100431515695\nMacro Precission :  0.8004347853613293\nMacro Recall :  0.7940930852300017\nMacro f1 :  0.7927815805849409\nMacro Precission :  0.7927815805849409\nMacro Recall :  0.7927815805849409\nBinary f1 :  0.7784431137724551\nBinary Precission :  0.8527696793002916\nBinary Recall :  0.7160342717258262\n[[689 101]\n [232 585]]\n"
    }
   ],
   "source": [
    "print(\"Macro f1 : \",f1_score(test_y, pred, average=\"macro\"))\n",
    "print(\"Macro Precission : \",precision_score(test_y, pred, average=\"macro\"))\n",
    "print(\"Macro Recall : \",recall_score(test_y, pred, average=\"macro\"))  \n",
    "print(\"Macro f1 : \",f1_score(test_y, pred, average=\"micro\"))\n",
    "print(\"Macro Precission : \",precision_score(test_y, pred, average=\"micro\"))\n",
    "print(\"Macro Recall : \",recall_score(test_y, pred, average=\"micro\"))  \n",
    "print(\"Binary f1 : \",f1_score(test_y, pred, average=\"binary\"))\n",
    "print(\"Binary Precission : \",precision_score(test_y, pred, average=\"binary\"))\n",
    "print(\"Binary Recall : \",recall_score(test_y, pred, average=\"binary\"))  \n",
    "print(confusion_matrix(test_y,pred))"
   ]
  },
  {
   "cell_type": "code",
   "execution_count": 9,
   "metadata": {},
   "outputs": [],
   "source": [
    "output_df = pd.DataFrame()"
   ]
  },
  {
   "cell_type": "code",
   "execution_count": 10,
   "metadata": {},
   "outputs": [
    {
     "output_type": "execute_result",
     "data": {
      "text/plain": "       actual_class  predicted_class\n24445             0                1\n32175             1                0\n32111             1                0\n23090             0                0\n11606             0                0",
      "text/html": "<div>\n<style scoped>\n    .dataframe tbody tr th:only-of-type {\n        vertical-align: middle;\n    }\n\n    .dataframe tbody tr th {\n        vertical-align: top;\n    }\n\n    .dataframe thead th {\n        text-align: right;\n    }\n</style>\n<table border=\"1\" class=\"dataframe\">\n  <thead>\n    <tr style=\"text-align: right;\">\n      <th></th>\n      <th>actual_class</th>\n      <th>predicted_class</th>\n    </tr>\n  </thead>\n  <tbody>\n    <tr>\n      <th>24445</th>\n      <td>0</td>\n      <td>1</td>\n    </tr>\n    <tr>\n      <th>32175</th>\n      <td>1</td>\n      <td>0</td>\n    </tr>\n    <tr>\n      <th>32111</th>\n      <td>1</td>\n      <td>0</td>\n    </tr>\n    <tr>\n      <th>23090</th>\n      <td>0</td>\n      <td>0</td>\n    </tr>\n    <tr>\n      <th>11606</th>\n      <td>0</td>\n      <td>0</td>\n    </tr>\n  </tbody>\n</table>\n</div>"
     },
     "metadata": {},
     "execution_count": 10
    }
   ],
   "source": [
    "output_df[\"actual_class\"] = test_y\n",
    "output_df[\"predicted_class\"] = pred\n",
    "output_df.head()"
   ]
  },
  {
   "cell_type": "code",
   "execution_count": null,
   "metadata": {},
   "outputs": [],
   "source": []
  }
 ],
 "metadata": {
  "kernelspec": {
   "display_name": "Python 3",
   "language": "python",
   "name": "python3"
  },
  "language_info": {
   "codemirror_mode": {
    "name": "ipython",
    "version": 3
   },
   "file_extension": ".py",
   "mimetype": "text/x-python",
   "name": "python",
   "nbconvert_exporter": "python",
   "pygments_lexer": "ipython3",
   "version": "3.8.3"
  }
 },
 "nbformat": 4,
 "nbformat_minor": 4
}