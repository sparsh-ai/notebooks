{
  "nbformat": 4,
  "nbformat_minor": 0,
  "metadata": {
    "colab": {
      "name": "2021-07-13-implicit-synthetic.ipynb",
      "provenance": [],
      "toc_visible": true,
      "mount_file_id": "11hOY3GXFFNYqWRj3fW9ike7U3W94BR7Q",
      "authorship_tag": "ABX9TyNUjfyp/pALtkdgzvRvTyln"
    },
    "kernelspec": {
      "name": "python3",
      "display_name": "Python 3"
    },
    "language_info": {
      "name": "python"
    },
    "widgets": {
      "application/vnd.jupyter.widget-state+json": {
        "a2b4a4e18a5e4dc191adc49934da1d53": {
          "model_module": "@jupyter-widgets/controls",
          "model_name": "HBoxModel",
          "state": {
            "_view_name": "HBoxView",
            "_dom_classes": [],
            "_model_name": "HBoxModel",
            "_view_module": "@jupyter-widgets/controls",
            "_model_module_version": "1.5.0",
            "_view_count": null,
            "_view_module_version": "1.5.0",
            "box_style": "",
            "layout": "IPY_MODEL_2259bc6cadf744e3ab2db78d0d0c8260",
            "_model_module": "@jupyter-widgets/controls",
            "children": [
              "IPY_MODEL_f9c58d79db2845aea87089ad760003c3",
              "IPY_MODEL_d5f40f6a5e18401089241449f4086bc7"
            ]
          }
        },
        "2259bc6cadf744e3ab2db78d0d0c8260": {
          "model_module": "@jupyter-widgets/base",
          "model_name": "LayoutModel",
          "state": {
            "_view_name": "LayoutView",
            "grid_template_rows": null,
            "right": null,
            "justify_content": null,
            "_view_module": "@jupyter-widgets/base",
            "overflow": null,
            "_model_module_version": "1.2.0",
            "_view_count": null,
            "flex_flow": null,
            "width": null,
            "min_width": null,
            "border": null,
            "align_items": null,
            "bottom": null,
            "_model_module": "@jupyter-widgets/base",
            "top": null,
            "grid_column": null,
            "overflow_y": null,
            "overflow_x": null,
            "grid_auto_flow": null,
            "grid_area": null,
            "grid_template_columns": null,
            "flex": null,
            "_model_name": "LayoutModel",
            "justify_items": null,
            "grid_row": null,
            "max_height": null,
            "align_content": null,
            "visibility": null,
            "align_self": null,
            "height": null,
            "min_height": null,
            "padding": null,
            "grid_auto_rows": null,
            "grid_gap": null,
            "max_width": null,
            "order": null,
            "_view_module_version": "1.2.0",
            "grid_template_areas": null,
            "object_position": null,
            "object_fit": null,
            "grid_auto_columns": null,
            "margin": null,
            "display": null,
            "left": null
          }
        },
        "f9c58d79db2845aea87089ad760003c3": {
          "model_module": "@jupyter-widgets/controls",
          "model_name": "FloatProgressModel",
          "state": {
            "_view_name": "ProgressView",
            "style": "IPY_MODEL_01aa850c78774850812ab6b981716665",
            "_dom_classes": [],
            "description": "100%",
            "_model_name": "FloatProgressModel",
            "bar_style": "success",
            "max": 5,
            "_view_module": "@jupyter-widgets/controls",
            "_model_module_version": "1.5.0",
            "value": 5,
            "_view_count": null,
            "_view_module_version": "1.5.0",
            "orientation": "horizontal",
            "min": 0,
            "description_tooltip": null,
            "_model_module": "@jupyter-widgets/controls",
            "layout": "IPY_MODEL_7134adc5ae8945a1a411d7fe05b2943f"
          }
        },
        "d5f40f6a5e18401089241449f4086bc7": {
          "model_module": "@jupyter-widgets/controls",
          "model_name": "HTMLModel",
          "state": {
            "_view_name": "HTMLView",
            "style": "IPY_MODEL_8dcd231173b74f83b0ee1b3fe2f2d4bb",
            "_dom_classes": [],
            "description": "",
            "_model_name": "HTMLModel",
            "placeholder": "​",
            "_view_module": "@jupyter-widgets/controls",
            "_model_module_version": "1.5.0",
            "value": " 5/5 [00:00&lt;00:00,  7.77it/s]",
            "_view_count": null,
            "_view_module_version": "1.5.0",
            "description_tooltip": null,
            "_model_module": "@jupyter-widgets/controls",
            "layout": "IPY_MODEL_926a1b7ced5e41a7bd25e1acf6aa16b1"
          }
        },
        "01aa850c78774850812ab6b981716665": {
          "model_module": "@jupyter-widgets/controls",
          "model_name": "ProgressStyleModel",
          "state": {
            "_view_name": "StyleView",
            "_model_name": "ProgressStyleModel",
            "description_width": "initial",
            "_view_module": "@jupyter-widgets/base",
            "_model_module_version": "1.5.0",
            "_view_count": null,
            "_view_module_version": "1.2.0",
            "bar_color": null,
            "_model_module": "@jupyter-widgets/controls"
          }
        },
        "7134adc5ae8945a1a411d7fe05b2943f": {
          "model_module": "@jupyter-widgets/base",
          "model_name": "LayoutModel",
          "state": {
            "_view_name": "LayoutView",
            "grid_template_rows": null,
            "right": null,
            "justify_content": null,
            "_view_module": "@jupyter-widgets/base",
            "overflow": null,
            "_model_module_version": "1.2.0",
            "_view_count": null,
            "flex_flow": null,
            "width": null,
            "min_width": null,
            "border": null,
            "align_items": null,
            "bottom": null,
            "_model_module": "@jupyter-widgets/base",
            "top": null,
            "grid_column": null,
            "overflow_y": null,
            "overflow_x": null,
            "grid_auto_flow": null,
            "grid_area": null,
            "grid_template_columns": null,
            "flex": null,
            "_model_name": "LayoutModel",
            "justify_items": null,
            "grid_row": null,
            "max_height": null,
            "align_content": null,
            "visibility": null,
            "align_self": null,
            "height": null,
            "min_height": null,
            "padding": null,
            "grid_auto_rows": null,
            "grid_gap": null,
            "max_width": null,
            "order": null,
            "_view_module_version": "1.2.0",
            "grid_template_areas": null,
            "object_position": null,
            "object_fit": null,
            "grid_auto_columns": null,
            "margin": null,
            "display": null,
            "left": null
          }
        },
        "8dcd231173b74f83b0ee1b3fe2f2d4bb": {
          "model_module": "@jupyter-widgets/controls",
          "model_name": "DescriptionStyleModel",
          "state": {
            "_view_name": "StyleView",
            "_model_name": "DescriptionStyleModel",
            "description_width": "",
            "_view_module": "@jupyter-widgets/base",
            "_model_module_version": "1.5.0",
            "_view_count": null,
            "_view_module_version": "1.2.0",
            "_model_module": "@jupyter-widgets/controls"
          }
        },
        "926a1b7ced5e41a7bd25e1acf6aa16b1": {
          "model_module": "@jupyter-widgets/base",
          "model_name": "LayoutModel",
          "state": {
            "_view_name": "LayoutView",
            "grid_template_rows": null,
            "right": null,
            "justify_content": null,
            "_view_module": "@jupyter-widgets/base",
            "overflow": null,
            "_model_module_version": "1.2.0",
            "_view_count": null,
            "flex_flow": null,
            "width": null,
            "min_width": null,
            "border": null,
            "align_items": null,
            "bottom": null,
            "_model_module": "@jupyter-widgets/base",
            "top": null,
            "grid_column": null,
            "overflow_y": null,
            "overflow_x": null,
            "grid_auto_flow": null,
            "grid_area": null,
            "grid_template_columns": null,
            "flex": null,
            "_model_name": "LayoutModel",
            "justify_items": null,
            "grid_row": null,
            "max_height": null,
            "align_content": null,
            "visibility": null,
            "align_self": null,
            "height": null,
            "min_height": null,
            "padding": null,
            "grid_auto_rows": null,
            "grid_gap": null,
            "max_width": null,
            "order": null,
            "_view_module_version": "1.2.0",
            "grid_template_areas": null,
            "object_position": null,
            "object_fit": null,
            "grid_auto_columns": null,
            "margin": null,
            "display": null,
            "left": null
          }
        },
        "412716fd20be443fb46c28c8e220970d": {
          "model_module": "@jupyter-widgets/controls",
          "model_name": "HBoxModel",
          "state": {
            "_view_name": "HBoxView",
            "_dom_classes": [],
            "_model_name": "HBoxModel",
            "_view_module": "@jupyter-widgets/controls",
            "_model_module_version": "1.5.0",
            "_view_count": null,
            "_view_module_version": "1.5.0",
            "box_style": "",
            "layout": "IPY_MODEL_c5f8db1d490d44558ebc64108f83fb44",
            "_model_module": "@jupyter-widgets/controls",
            "children": [
              "IPY_MODEL_80038a9e69294bc299de5091cb628085",
              "IPY_MODEL_9a0e2d29b6cc4c74b446a8201ecebdc1"
            ]
          }
        },
        "c5f8db1d490d44558ebc64108f83fb44": {
          "model_module": "@jupyter-widgets/base",
          "model_name": "LayoutModel",
          "state": {
            "_view_name": "LayoutView",
            "grid_template_rows": null,
            "right": null,
            "justify_content": null,
            "_view_module": "@jupyter-widgets/base",
            "overflow": null,
            "_model_module_version": "1.2.0",
            "_view_count": null,
            "flex_flow": null,
            "width": null,
            "min_width": null,
            "border": null,
            "align_items": null,
            "bottom": null,
            "_model_module": "@jupyter-widgets/base",
            "top": null,
            "grid_column": null,
            "overflow_y": null,
            "overflow_x": null,
            "grid_auto_flow": null,
            "grid_area": null,
            "grid_template_columns": null,
            "flex": null,
            "_model_name": "LayoutModel",
            "justify_items": null,
            "grid_row": null,
            "max_height": null,
            "align_content": null,
            "visibility": null,
            "align_self": null,
            "height": null,
            "min_height": null,
            "padding": null,
            "grid_auto_rows": null,
            "grid_gap": null,
            "max_width": null,
            "order": null,
            "_view_module_version": "1.2.0",
            "grid_template_areas": null,
            "object_position": null,
            "object_fit": null,
            "grid_auto_columns": null,
            "margin": null,
            "display": null,
            "left": null
          }
        },
        "80038a9e69294bc299de5091cb628085": {
          "model_module": "@jupyter-widgets/controls",
          "model_name": "FloatProgressModel",
          "state": {
            "_view_name": "ProgressView",
            "style": "IPY_MODEL_f4c0c23badf746008a533d005c35dfb3",
            "_dom_classes": [],
            "description": "100%",
            "_model_name": "FloatProgressModel",
            "bar_style": "success",
            "max": 5,
            "_view_module": "@jupyter-widgets/controls",
            "_model_module_version": "1.5.0",
            "value": 5,
            "_view_count": null,
            "_view_module_version": "1.5.0",
            "orientation": "horizontal",
            "min": 0,
            "description_tooltip": null,
            "_model_module": "@jupyter-widgets/controls",
            "layout": "IPY_MODEL_b56bf1a50c994d7ba0985c082f7b0c36"
          }
        },
        "9a0e2d29b6cc4c74b446a8201ecebdc1": {
          "model_module": "@jupyter-widgets/controls",
          "model_name": "HTMLModel",
          "state": {
            "_view_name": "HTMLView",
            "style": "IPY_MODEL_89bef3d0469d430b9de01e0a14bde1f2",
            "_dom_classes": [],
            "description": "",
            "_model_name": "HTMLModel",
            "placeholder": "​",
            "_view_module": "@jupyter-widgets/controls",
            "_model_module_version": "1.5.0",
            "value": " 5/5 [00:00&lt;00:00, 30.75it/s, correct=49.96%, skipped=8.57%]",
            "_view_count": null,
            "_view_module_version": "1.5.0",
            "description_tooltip": null,
            "_model_module": "@jupyter-widgets/controls",
            "layout": "IPY_MODEL_c6eead5d942e43a2955355fa8721b1aa"
          }
        },
        "f4c0c23badf746008a533d005c35dfb3": {
          "model_module": "@jupyter-widgets/controls",
          "model_name": "ProgressStyleModel",
          "state": {
            "_view_name": "StyleView",
            "_model_name": "ProgressStyleModel",
            "description_width": "initial",
            "_view_module": "@jupyter-widgets/base",
            "_model_module_version": "1.5.0",
            "_view_count": null,
            "_view_module_version": "1.2.0",
            "bar_color": null,
            "_model_module": "@jupyter-widgets/controls"
          }
        },
        "b56bf1a50c994d7ba0985c082f7b0c36": {
          "model_module": "@jupyter-widgets/base",
          "model_name": "LayoutModel",
          "state": {
            "_view_name": "LayoutView",
            "grid_template_rows": null,
            "right": null,
            "justify_content": null,
            "_view_module": "@jupyter-widgets/base",
            "overflow": null,
            "_model_module_version": "1.2.0",
            "_view_count": null,
            "flex_flow": null,
            "width": null,
            "min_width": null,
            "border": null,
            "align_items": null,
            "bottom": null,
            "_model_module": "@jupyter-widgets/base",
            "top": null,
            "grid_column": null,
            "overflow_y": null,
            "overflow_x": null,
            "grid_auto_flow": null,
            "grid_area": null,
            "grid_template_columns": null,
            "flex": null,
            "_model_name": "LayoutModel",
            "justify_items": null,
            "grid_row": null,
            "max_height": null,
            "align_content": null,
            "visibility": null,
            "align_self": null,
            "height": null,
            "min_height": null,
            "padding": null,
            "grid_auto_rows": null,
            "grid_gap": null,
            "max_width": null,
            "order": null,
            "_view_module_version": "1.2.0",
            "grid_template_areas": null,
            "object_position": null,
            "object_fit": null,
            "grid_auto_columns": null,
            "margin": null,
            "display": null,
            "left": null
          }
        },
        "89bef3d0469d430b9de01e0a14bde1f2": {
          "model_module": "@jupyter-widgets/controls",
          "model_name": "DescriptionStyleModel",
          "state": {
            "_view_name": "StyleView",
            "_model_name": "DescriptionStyleModel",
            "description_width": "",
            "_view_module": "@jupyter-widgets/base",
            "_model_module_version": "1.5.0",
            "_view_count": null,
            "_view_module_version": "1.2.0",
            "_model_module": "@jupyter-widgets/controls"
          }
        },
        "c6eead5d942e43a2955355fa8721b1aa": {
          "model_module": "@jupyter-widgets/base",
          "model_name": "LayoutModel",
          "state": {
            "_view_name": "LayoutView",
            "grid_template_rows": null,
            "right": null,
            "justify_content": null,
            "_view_module": "@jupyter-widgets/base",
            "overflow": null,
            "_model_module_version": "1.2.0",
            "_view_count": null,
            "flex_flow": null,
            "width": null,
            "min_width": null,
            "border": null,
            "align_items": null,
            "bottom": null,
            "_model_module": "@jupyter-widgets/base",
            "top": null,
            "grid_column": null,
            "overflow_y": null,
            "overflow_x": null,
            "grid_auto_flow": null,
            "grid_area": null,
            "grid_template_columns": null,
            "flex": null,
            "_model_name": "LayoutModel",
            "justify_items": null,
            "grid_row": null,
            "max_height": null,
            "align_content": null,
            "visibility": null,
            "align_self": null,
            "height": null,
            "min_height": null,
            "padding": null,
            "grid_auto_rows": null,
            "grid_gap": null,
            "max_width": null,
            "order": null,
            "_view_module_version": "1.2.0",
            "grid_template_areas": null,
            "object_position": null,
            "object_fit": null,
            "grid_auto_columns": null,
            "margin": null,
            "display": null,
            "left": null
          }
        }
      }
    }
  },
  "cells": [
    {
      "cell_type": "markdown",
      "metadata": {
        "id": "b2V_6GjQrQxL"
      },
      "source": [
        "# Comparing Implicit Models on Synthetic Data\n",
        "> Generating a small synthetic implicit data with Gamma distributed interaction and fitting ALS, BPR, PoissonMF, and HPFRec models\n",
        "\n",
        "- toc: true\n",
        "- badges: true\n",
        "- comments: true\n",
        "- categories: [Implicit, SyntheticDataset]\n",
        "- author: \"<a href='https://github.com/david-cortes'>David Cortes</a>\"\n",
        "- image:"
      ]
    },
    {
      "cell_type": "markdown",
      "metadata": {
        "id": "jf8Ogz1Ug3hF"
      },
      "source": [
        "### Installation"
      ]
    },
    {
      "cell_type": "code",
      "metadata": {
        "id": "cesa4F19ftIC"
      },
      "source": [
        "# !pip install --no-use-pep517 poismf implicit hpfrec"
      ],
      "execution_count": null,
      "outputs": []
    },
    {
      "cell_type": "code",
      "metadata": {
        "id": "QeRhQj-LecfP"
      },
      "source": [
        "import numpy as np\n",
        "import pandas as pd\n",
        "\n",
        "from scipy.sparse import coo_matrix, csr_matrix, csc_matrix\n",
        "\n",
        "from poismf import PoisMF\n",
        "from implicit.als import AlternatingLeastSquares\n",
        "from implicit.bpr import BayesianPersonalizedRanking\n",
        "from hpfrec import HPF ### <- Bayesian version"
      ],
      "execution_count": null,
      "outputs": []
    },
    {
      "cell_type": "markdown",
      "metadata": {
        "id": "SC8h0jkqpBuv"
      },
      "source": [
        "### Synthetic Data Generation"
      ]
    },
    {
      "cell_type": "code",
      "metadata": {
        "colab": {
          "base_uri": "https://localhost:8080/",
          "height": 204
        },
        "id": "NkdkettffLTh",
        "outputId": "a7cf99f4-37da-4145-ffbb-2ecfb22f84bc"
      },
      "source": [
        "## Generating random sparse data\n",
        "nusers = 10 ** 2\n",
        "nitems = 10 ** 3\n",
        "nnz    = 10 ** 4\n",
        "\n",
        "np.random.seed(1)\n",
        "df = pd.DataFrame({\n",
        "    'UserId' : np.random.randint(nusers, size = nnz),\n",
        "    'ItemId' : np.random.randint(nitems, size = nnz),\n",
        "    'Count'  : 1 + np.random.gamma(1, 1, size = nnz).astype(int)\n",
        "})\n",
        "\n",
        "df.head()"
      ],
      "execution_count": null,
      "outputs": [
        {
          "output_type": "execute_result",
          "data": {
            "text/html": [
              "<div>\n",
              "<style scoped>\n",
              "    .dataframe tbody tr th:only-of-type {\n",
              "        vertical-align: middle;\n",
              "    }\n",
              "\n",
              "    .dataframe tbody tr th {\n",
              "        vertical-align: top;\n",
              "    }\n",
              "\n",
              "    .dataframe thead th {\n",
              "        text-align: right;\n",
              "    }\n",
              "</style>\n",
              "<table border=\"1\" class=\"dataframe\">\n",
              "  <thead>\n",
              "    <tr style=\"text-align: right;\">\n",
              "      <th></th>\n",
              "      <th>UserId</th>\n",
              "      <th>ItemId</th>\n",
              "      <th>Count</th>\n",
              "    </tr>\n",
              "  </thead>\n",
              "  <tbody>\n",
              "    <tr>\n",
              "      <th>0</th>\n",
              "      <td>37</td>\n",
              "      <td>486</td>\n",
              "      <td>2</td>\n",
              "    </tr>\n",
              "    <tr>\n",
              "      <th>1</th>\n",
              "      <td>12</td>\n",
              "      <td>151</td>\n",
              "      <td>1</td>\n",
              "    </tr>\n",
              "    <tr>\n",
              "      <th>2</th>\n",
              "      <td>72</td>\n",
              "      <td>122</td>\n",
              "      <td>1</td>\n",
              "    </tr>\n",
              "    <tr>\n",
              "      <th>3</th>\n",
              "      <td>9</td>\n",
              "      <td>889</td>\n",
              "      <td>3</td>\n",
              "    </tr>\n",
              "    <tr>\n",
              "      <th>4</th>\n",
              "      <td>75</td>\n",
              "      <td>311</td>\n",
              "      <td>1</td>\n",
              "    </tr>\n",
              "  </tbody>\n",
              "</table>\n",
              "</div>"
            ],
            "text/plain": [
              "   UserId  ItemId  Count\n",
              "0      37     486      2\n",
              "1      12     151      1\n",
              "2      72     122      1\n",
              "3       9     889      3\n",
              "4      75     311      1"
            ]
          },
          "metadata": {
            "tags": []
          },
          "execution_count": 18
        }
      ]
    },
    {
      "cell_type": "code",
      "metadata": {
        "colab": {
          "base_uri": "https://localhost:8080/",
          "height": 142
        },
        "id": "5Iaq0tkLff7b",
        "outputId": "22c92f66-a4d5-4410-ef35-a395bb7cf144"
      },
      "source": [
        "df.describe().T"
      ],
      "execution_count": null,
      "outputs": [
        {
          "output_type": "execute_result",
          "data": {
            "text/html": [
              "<div>\n",
              "<style scoped>\n",
              "    .dataframe tbody tr th:only-of-type {\n",
              "        vertical-align: middle;\n",
              "    }\n",
              "\n",
              "    .dataframe tbody tr th {\n",
              "        vertical-align: top;\n",
              "    }\n",
              "\n",
              "    .dataframe thead th {\n",
              "        text-align: right;\n",
              "    }\n",
              "</style>\n",
              "<table border=\"1\" class=\"dataframe\">\n",
              "  <thead>\n",
              "    <tr style=\"text-align: right;\">\n",
              "      <th></th>\n",
              "      <th>count</th>\n",
              "      <th>mean</th>\n",
              "      <th>std</th>\n",
              "      <th>min</th>\n",
              "      <th>25%</th>\n",
              "      <th>50%</th>\n",
              "      <th>75%</th>\n",
              "      <th>max</th>\n",
              "    </tr>\n",
              "  </thead>\n",
              "  <tbody>\n",
              "    <tr>\n",
              "      <th>UserId</th>\n",
              "      <td>10000.0</td>\n",
              "      <td>49.5362</td>\n",
              "      <td>28.820259</td>\n",
              "      <td>0.0</td>\n",
              "      <td>25.0</td>\n",
              "      <td>50.0</td>\n",
              "      <td>75.00</td>\n",
              "      <td>99.0</td>\n",
              "    </tr>\n",
              "    <tr>\n",
              "      <th>ItemId</th>\n",
              "      <td>10000.0</td>\n",
              "      <td>500.8950</td>\n",
              "      <td>288.165823</td>\n",
              "      <td>0.0</td>\n",
              "      <td>248.0</td>\n",
              "      <td>507.5</td>\n",
              "      <td>748.25</td>\n",
              "      <td>999.0</td>\n",
              "    </tr>\n",
              "    <tr>\n",
              "      <th>Count</th>\n",
              "      <td>10000.0</td>\n",
              "      <td>1.5737</td>\n",
              "      <td>0.954390</td>\n",
              "      <td>1.0</td>\n",
              "      <td>1.0</td>\n",
              "      <td>1.0</td>\n",
              "      <td>2.00</td>\n",
              "      <td>10.0</td>\n",
              "    </tr>\n",
              "  </tbody>\n",
              "</table>\n",
              "</div>"
            ],
            "text/plain": [
              "          count      mean         std  min    25%    50%     75%    max\n",
              "UserId  10000.0   49.5362   28.820259  0.0   25.0   50.0   75.00   99.0\n",
              "ItemId  10000.0  500.8950  288.165823  0.0  248.0  507.5  748.25  999.0\n",
              "Count   10000.0    1.5737    0.954390  1.0    1.0    1.0    2.00   10.0"
            ]
          },
          "metadata": {
            "tags": []
          },
          "execution_count": 19
        }
      ]
    },
    {
      "cell_type": "markdown",
      "metadata": {
        "id": "S_IzUa6Bo8yO"
      },
      "source": [
        "### Train/Test Split"
      ]
    },
    {
      "cell_type": "code",
      "metadata": {
        "colab": {
          "base_uri": "https://localhost:8080/"
        },
        "id": "x5ugJgBJi4ri",
        "outputId": "cf265e97-0a63-4b84-b093-bcb5d6385805"
      },
      "source": [
        "from sklearn.model_selection import train_test_split\n",
        "\n",
        "df_train, df_test = train_test_split(df, test_size=.2)\n",
        "df_train = df_train.copy()\n",
        "users_train = np.unique(df_train.UserId.to_numpy())\n",
        "items_train = np.unique(df_train.ItemId.to_numpy())\n",
        "df_test = df_test.loc[df_test.UserId.isin(users_train) &\n",
        "                      df_test.ItemId.isin(items_train)]\n",
        "df_train[\"UserId\"] = pd.Categorical(df_train.UserId, users_train).codes\n",
        "df_train[\"ItemId\"] = pd.Categorical(df_train.ItemId, items_train).codes\n",
        "df_test[\"UserId\"] = pd.Categorical(df_test.UserId, users_train).codes\n",
        "df_test[\"ItemId\"] = pd.Categorical(df_test.ItemId, items_train).codes\n",
        "users_test = np.unique(df_test.UserId.to_numpy())\n",
        "\n",
        "print(\"Number of entries in training data: {:,}\".format(df_train.shape[0]))\n",
        "print(\"Number of entries in test data: {:,}\".format(df_test.shape[0]))\n",
        "print(\"Number of users in training data: {:,}\".format(users_train.shape[0]))\n",
        "print(\"Number of users in test data: {:,}\".format(users_test.shape[0]))\n",
        "print(\"Number of items in training and test data: {:,}\".format(items_train.shape[0]))"
      ],
      "execution_count": null,
      "outputs": [
        {
          "output_type": "stream",
          "text": [
            "Number of entries in training data: 8,000\n",
            "Number of entries in test data: 2,000\n",
            "Number of users in training data: 100\n",
            "Number of users in test data: 100\n",
            "Number of items in training and test data: 1,000\n"
          ],
          "name": "stdout"
        }
      ]
    },
    {
      "cell_type": "markdown",
      "metadata": {
        "id": "RJPvtKIzo4cI"
      },
      "source": [
        "### Util function to print ranking metrics"
      ]
    },
    {
      "cell_type": "code",
      "metadata": {
        "id": "9_iUr3-xkfPr"
      },
      "source": [
        "from sklearn.metrics import roc_auc_score\n",
        "from joblib import Parallel, delayed\n",
        "\n",
        "## Note: this is a computationally inefficient implementation of the\n",
        "## test metrics, not recommended to use outside of this notebook\n",
        "def print_ranking_metrics(A, B, df_train, df_test, users_test,\n",
        "                          nusers=1000, top_n=5, seed=1,\n",
        "                          njobs=-1):\n",
        "    \"\"\"\n",
        "    Parameters\n",
        "    ----------\n",
        "    A : array(m, k)\n",
        "        The user-factor matrix.\n",
        "    B : array(n, k)\n",
        "        The item-factor matrix\n",
        "    df_train : DataFrame(n_train, [user, item, value])\n",
        "        The training triplets.\n",
        "    df_test : DataFrame(n_test, [user, item, value])\n",
        "        The hold-out triplets.\n",
        "    n_user : int\n",
        "        Number of users to sample.\n",
        "    top_n : int\n",
        "        Number of top-ranked items to calculate precision.\n",
        "    seed : int\n",
        "        Random seed used to select the users.\n",
        "    njobs : int\n",
        "        Number of jobs to run in parallel.\n",
        "    \"\"\"\n",
        "    n_users = A.shape[0]\n",
        "    n_items = B.shape[0]\n",
        "    rng = np.random.default_rng(seed=seed)\n",
        "    chosen_users = rng.choice(users_test, size=nusers, replace=False)\n",
        "    all_train = df_train.loc[df_train.UserId.isin(chosen_users)]\n",
        "    all_test = df_test.loc[df_test.UserId.isin(chosen_users)]\n",
        "    \n",
        "    def metrics_single_user(user):\n",
        "        ypos = all_test.ItemId.loc[all_test.UserId == user].to_numpy()\n",
        "        ytrain = all_train.ItemId.loc[all_train.UserId == user].to_numpy()\n",
        "        yneg = np.setdiff1d(np.arange(n_items), np.r_[ypos, ytrain])\n",
        "        ytest = np.r_[yneg, ypos]\n",
        "        yhat = B[ytest].dot(A[user])\n",
        "        auc = roc_auc_score(np.r_[np.zeros(yneg.shape[0]),\n",
        "                                  np.ones(ypos.shape[0])],\n",
        "                            yhat)\n",
        "        topN = np.argsort(-yhat)[:top_n]\n",
        "        p_at_k = np.mean(topN >= yneg.shape[0])\n",
        "        p_at_k_rnd = ypos.shape[0] / ytest.shape[0] ## <- baseline\n",
        "        return auc, p_at_k, p_at_k_rnd\n",
        "\n",
        "    res_triplets = Parallel(n_jobs = njobs)\\\n",
        "                    (delayed(metrics_single_user)(u) \\\n",
        "                        for u in chosen_users)\n",
        "\n",
        "    res_triplets = np.array(res_triplets)\n",
        "    auc = np.mean(res_triplets[:,0])\n",
        "    p_at_k = np.mean(res_triplets[:,1])\n",
        "    p_at_k_rnd = np.mean(res_triplets[:,2])\n",
        "    print(\"AUC: %.4f [random: %.2f]\" % (auc, 0.5))\n",
        "    print(\"P@%d: %.4f [random: %.4f]\" % (top_n,\n",
        "                                         p_at_k,\n",
        "                                         p_at_k_rnd))"
      ],
      "execution_count": null,
      "outputs": []
    },
    {
      "cell_type": "markdown",
      "metadata": {
        "id": "T2dQooW0o1rX"
      },
      "source": [
        "### PoisMF"
      ]
    },
    {
      "cell_type": "markdown",
      "metadata": {
        "id": "5TChLomHpgAk"
      },
      "source": [
        "**Poisson factorization**\n",
        "\n",
        "The model is described in more detail in [Fast Non-Bayesian Poisson Factorization for Implicit-Feedback Recommendations](https://arxiv.org/abs/1811.01908).\n",
        "\n",
        "The basic idea is to take a sparse input matrix of counts $\\mathbf{X}_{m,n}$, which in this case is given by the number of times each user (row in the matrix) played each song (column in the matrix), and find an approximation as the product of two non-negative lower-dimensional latent factor matrices $\\mathbf{A}_{m,k}$ and $\\mathbf{B}_{n,k}$ by maximizing Poisson likelihood, i.e. fit a model:\n",
        "$$\n",
        "\\mathbf{X} \\sim \\text{Poisson}(\\mathbf{A} \\mathbf{B}^T)\n",
        "$$\n",
        "\n",
        "Which is then used to make predictions on the missing (zero-valued) entries, with the highest-predicted items for each user being the best candidates to recommend.\n",
        "\n",
        "The poisemf package offers different optimization methods which have different advantages in terms of speed and quality, and depending on the settings, is usually able to find good solutions in which the latent factors matrices $\\mathbf{A}$ and $\\mathbf{B}$ are sparse (i.e. most entries are exactly zero).\n",
        "** *"
      ]
    },
    {
      "cell_type": "code",
      "metadata": {
        "colab": {
          "base_uri": "https://localhost:8080/"
        },
        "id": "Vjtv-4wWkhOG",
        "outputId": "6946c13b-d7c9-43ba-ce12-ad4763ee98f6"
      },
      "source": [
        "model = PoisMF(k=5, method=\"pg\")\n",
        "model.fit(df_train)\n",
        "\n",
        "print_ranking_metrics(model.A, model.B,\n",
        "                      df_train, df_test, users_test,\n",
        "                      nusers=20)"
      ],
      "execution_count": null,
      "outputs": [
        {
          "output_type": "stream",
          "text": [
            "AUC: 0.4931 [random: 0.50]\n",
            "P@5: 0.0300 [random: 0.0218]\n"
          ],
          "name": "stdout"
        }
      ]
    },
    {
      "cell_type": "code",
      "metadata": {
        "colab": {
          "base_uri": "https://localhost:8080/"
        },
        "id": "4jxLC1dOmo8I",
        "outputId": "91f53b66-6b0e-4ba7-afca-fbacfd047f3c"
      },
      "source": [
        "model = PoisMF(k=5, method=\"tncg\")\n",
        "model.fit(df_train)\n",
        "\n",
        "print_ranking_metrics(model.A, model.B,\n",
        "                      df_train, df_test, users_test,\n",
        "                      nusers=20)"
      ],
      "execution_count": null,
      "outputs": [
        {
          "output_type": "stream",
          "text": [
            "AUC: 0.4922 [random: 0.50]\n",
            "P@5: 0.0300 [random: 0.0218]\n"
          ],
          "name": "stdout"
        }
      ]
    },
    {
      "cell_type": "code",
      "metadata": {
        "colab": {
          "base_uri": "https://localhost:8080/"
        },
        "id": "qlWsR-qRkhKB",
        "outputId": "544c9c04-4855-4303-ebc9-30f8e8a0a1cc"
      },
      "source": [
        "model = PoisMF(k=5, method=\"cg\")\n",
        "model.fit(df_train)\n",
        "\n",
        "print_ranking_metrics(model.A, model.B,\n",
        "                      df_train, df_test, users_test,\n",
        "                      nusers=20)"
      ],
      "execution_count": null,
      "outputs": [
        {
          "output_type": "stream",
          "text": [
            "AUC: 0.5209 [random: 0.50]\n",
            "P@5: 0.0300 [random: 0.0218]\n"
          ],
          "name": "stdout"
        }
      ]
    },
    {
      "cell_type": "code",
      "metadata": {
        "colab": {
          "base_uri": "https://localhost:8080/"
        },
        "id": "tnNJBZPYlZ4y",
        "outputId": "82e240f2-b133-4eec-8fdf-aa3414610906"
      },
      "source": [
        "model.A[0]"
      ],
      "execution_count": null,
      "outputs": [
        {
          "output_type": "execute_result",
          "data": {
            "text/plain": [
              "array([0.03287788, 0.03228867, 0.0322229 , 0.03906599, 0.04199555])"
            ]
          },
          "metadata": {
            "tags": []
          },
          "execution_count": 59
        }
      ]
    },
    {
      "cell_type": "markdown",
      "metadata": {
        "id": "lF3brYajovB2"
      },
      "source": [
        "### Ranking and Prediction"
      ]
    },
    {
      "cell_type": "code",
      "metadata": {
        "colab": {
          "base_uri": "https://localhost:8080/"
        },
        "id": "Yul771tglZ22",
        "outputId": "bac440ee-8ef1-40db-fbe7-cb61a7b4d03a"
      },
      "source": [
        "model.topN(user = 2, n = 5, exclude = df_train.ItemId.loc[df_train.UserId==2])"
      ],
      "execution_count": null,
      "outputs": [
        {
          "output_type": "execute_result",
          "data": {
            "text/plain": [
              "array([715, 485, 904, 466, 688])"
            ]
          },
          "metadata": {
            "tags": []
          },
          "execution_count": 60
        }
      ]
    },
    {
      "cell_type": "code",
      "metadata": {
        "colab": {
          "base_uri": "https://localhost:8080/"
        },
        "id": "-xhfAdGDlZ0m",
        "outputId": "fc90b95e-c367-430f-c9a1-a455b1c10ee3"
      },
      "source": [
        "model.topN_new(df_train.loc[df_train.UserId==2], n = 5, exclude = df_train.ItemId.loc[df_train.UserId==2])"
      ],
      "execution_count": null,
      "outputs": [
        {
          "output_type": "execute_result",
          "data": {
            "text/plain": [
              "array([715, 485, 904, 466, 688])"
            ]
          },
          "metadata": {
            "tags": []
          },
          "execution_count": 61
        }
      ]
    },
    {
      "cell_type": "code",
      "metadata": {
        "colab": {
          "base_uri": "https://localhost:8080/"
        },
        "id": "m_rqylmQlZwc",
        "outputId": "5cccda5b-f8a0-461c-d3ab-abd108e49a38"
      },
      "source": [
        "model.predict(user=[3,3,3], item=[3,4,11])"
      ],
      "execution_count": null,
      "outputs": [
        {
          "output_type": "execute_result",
          "data": {
            "text/plain": [
              "array([1.23424932e-08, 1.28625460e-03, 6.78770370e-04])"
            ]
          },
          "metadata": {
            "tags": []
          },
          "execution_count": 62
        }
      ]
    },
    {
      "cell_type": "markdown",
      "metadata": {
        "id": "qrx6Ke1eoqlE"
      },
      "source": [
        "### Sparse Matrix"
      ]
    },
    {
      "cell_type": "code",
      "metadata": {
        "id": "Lba_G0vAjyfd"
      },
      "source": [
        "## Note: package implicit takes a matrix of shape [items, users]\n",
        "## Other packages take a matrix of shape [users, items]\n",
        "Xcoo = coo_matrix((df_train.Count, (df_train.UserId, df_train.ItemId)))\n",
        "Xcoo_T = Xcoo.T\n",
        "Xcsr_T = csr_matrix(Xcoo_T)"
      ],
      "execution_count": null,
      "outputs": []
    },
    {
      "cell_type": "code",
      "metadata": {
        "colab": {
          "base_uri": "https://localhost:8080/",
          "height": 141
        },
        "id": "dSD3_O5AfhVR",
        "outputId": "a6554d84-c63d-4c62-98f3-602ce579fc23"
      },
      "source": [
        "import matplotlib.pyplot as plt\n",
        "plt.figure(figsize=(40,80))\n",
        "plt.spy(Xcoo, markersize=5)"
      ],
      "execution_count": null,
      "outputs": [
        {
          "output_type": "execute_result",
          "data": {
            "text/plain": [
              "<matplotlib.lines.Line2D at 0x7f2176243e10>"
            ]
          },
          "metadata": {
            "tags": []
          },
          "execution_count": 64
        },
        {
          "output_type": "display_data",
          "data": {
            "image/png": "[encoded data removed]",
            "text/plain": [
              "<Figure size 2880x5760 with 1 Axes>"
            ]
          },
          "metadata": {
            "tags": [],
            "needs_background": "light"
          }
        }
      ]
    },
    {
      "cell_type": "markdown",
      "metadata": {
        "id": "T8vUbXJRopTj"
      },
      "source": [
        "### ALS"
      ]
    },
    {
      "cell_type": "code",
      "metadata": {
        "colab": {
          "base_uri": "https://localhost:8080/",
          "height": 100,
          "referenced_widgets": [
            "a2b4a4e18a5e4dc191adc49934da1d53",
            "2259bc6cadf744e3ab2db78d0d0c8260",
            "f9c58d79db2845aea87089ad760003c3",
            "d5f40f6a5e18401089241449f4086bc7",
            "01aa850c78774850812ab6b981716665",
            "7134adc5ae8945a1a411d7fe05b2943f",
            "8dcd231173b74f83b0ee1b3fe2f2d4bb",
            "926a1b7ced5e41a7bd25e1acf6aa16b1"
          ]
        },
        "id": "jA_D8jbgjTW9",
        "outputId": "d3f5b225-32b5-4a29-9878-cf5cfbbb8aac"
      },
      "source": [
        "ials = AlternatingLeastSquares(factors=5, regularization=0.01,\n",
        "                               dtype=np.float64, iterations=5,\n",
        "                               use_gpu=False)\n",
        "ials.fit(Xcsr_T)\n",
        "\n",
        "print_ranking_metrics(ials.user_factors, ials.item_factors,\n",
        "                      df_train, df_test, users_test, nusers=20)"
      ],
      "execution_count": null,
      "outputs": [
        {
          "output_type": "display_data",
          "data": {
            "application/vnd.jupyter.widget-view+json": {
              "model_id": "a2b4a4e18a5e4dc191adc49934da1d53",
              "version_minor": 0,
              "version_major": 2
            },
            "text/plain": [
              "HBox(children=(FloatProgress(value=0.0, max=5.0), HTML(value='')))"
            ]
          },
          "metadata": {
            "tags": []
          }
        },
        {
          "output_type": "stream",
          "text": [
            "\n",
            "AUC: 0.5336 [random: 0.50]\n",
            "P@5: 0.0200 [random: 0.0218]\n"
          ],
          "name": "stdout"
        }
      ]
    },
    {
      "cell_type": "markdown",
      "metadata": {
        "id": "iZ4CKICIon1u"
      },
      "source": [
        "### BPR"
      ]
    },
    {
      "cell_type": "code",
      "metadata": {
        "colab": {
          "base_uri": "https://localhost:8080/",
          "height": 100,
          "referenced_widgets": [
            "412716fd20be443fb46c28c8e220970d",
            "c5f8db1d490d44558ebc64108f83fb44",
            "80038a9e69294bc299de5091cb628085",
            "9a0e2d29b6cc4c74b446a8201ecebdc1",
            "f4c0c23badf746008a533d005c35dfb3",
            "b56bf1a50c994d7ba0985c082f7b0c36",
            "89bef3d0469d430b9de01e0a14bde1f2",
            "c6eead5d942e43a2955355fa8721b1aa"
          ]
        },
        "id": "1W-q3dkHn1om",
        "outputId": "0e4d4492-8242-4e12-a621-e08b7e92768e"
      },
      "source": [
        "bpr = BayesianPersonalizedRanking(factors=5, regularization=0.01,\n",
        "                               dtype=np.float64, iterations=5,\n",
        "                               use_gpu=False)\n",
        "bpr.fit(Xcsr_T)\n",
        "\n",
        "print_ranking_metrics(bpr.user_factors, bpr.item_factors,\n",
        "                      df_train, df_test, users_test, nusers=20)"
      ],
      "execution_count": null,
      "outputs": [
        {
          "output_type": "display_data",
          "data": {
            "application/vnd.jupyter.widget-view+json": {
              "model_id": "412716fd20be443fb46c28c8e220970d",
              "version_minor": 0,
              "version_major": 2
            },
            "text/plain": [
              "HBox(children=(FloatProgress(value=0.0, max=5.0), HTML(value='')))"
            ]
          },
          "metadata": {
            "tags": []
          }
        },
        {
          "output_type": "stream",
          "text": [
            "\n",
            "AUC: 0.5126 [random: 0.50]\n",
            "P@5: 0.0600 [random: 0.0218]\n"
          ],
          "name": "stdout"
        }
      ]
    },
    {
      "cell_type": "markdown",
      "metadata": {
        "id": "Zx2iLLu0oldb"
      },
      "source": [
        "### HPF"
      ]
    },
    {
      "cell_type": "code",
      "metadata": {
        "colab": {
          "base_uri": "https://localhost:8080/"
        },
        "id": "WOmJ_M3soVwu",
        "outputId": "2d9e0960-cf04-4108-9aac-e99f60c6468d"
      },
      "source": [
        "hpf = HPF(k=5, verbose=False, use_float=False).fit(Xcoo)\n",
        "\n",
        "print_ranking_metrics(hpf.Theta, hpf.Beta,\n",
        "                      df_train, df_test, users_test, nusers=20)"
      ],
      "execution_count": null,
      "outputs": [
        {
          "output_type": "stream",
          "text": [
            "AUC: 0.5234 [random: 0.50]\n",
            "P@5: 0.0200 [random: 0.0218]\n"
          ],
          "name": "stdout"
        }
      ]
    }
  ]
}