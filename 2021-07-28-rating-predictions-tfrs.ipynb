{
  "nbformat": 4,
  "nbformat_minor": 0,
  "metadata": {
    "colab": {
      "name": "2021-07-28-rating-predictions-tfrs.ipynb",
      "provenance": [],
      "mount_file_id": "1Skuz5x7R2llU768RgcKKriayZ0LkDdJZ",
      "authorship_tag": "ABX9TyM0AE134wuvLnvvjeXIrs2R"
    },
    "kernelspec": {
      "name": "python3",
      "display_name": "Python 3"
    },
    "language_info": {
      "name": "python"
    }
  },
  "cells": [
    {
      "cell_type": "markdown",
      "metadata": {
        "id": "nhQsfM2bI76g"
      },
      "source": [
        "# Predicting Ratings using TFRS\n",
        "> Training a top-k retrieval model using Tensorflow Recommenders library on Amazon Electronics dataset\n",
        "\n",
        "- toc: true\n",
        "- badges: true\n",
        "- comments: true\n",
        "- categories: [TFRS, Tensorflow, Surprise, Retail, AmazonDataset]\n",
        "- image:"
      ]
    },
    {
      "cell_type": "markdown",
      "metadata": {
        "id": "3DYJx4IBIZ0G"
      },
      "source": [
        "## Setup"
      ]
    },
    {
      "cell_type": "code",
      "metadata": {
        "id": "bFRnZKtwFhHI"
      },
      "source": [
        "!pip install tensorflow-recommenders\n",
        "!pip install surprise"
      ],
      "execution_count": null,
      "outputs": []
    },
    {
      "cell_type": "code",
      "metadata": {
        "id": "Hfbvk4LCFj1B"
      },
      "source": [
        "import os\n",
        "import pprint\n",
        "import tempfile\n",
        "from typing import Dict, Text\n",
        "import seaborn as sns\n",
        "\n",
        "import numpy as np\n",
        "import tensorflow as tf\n",
        "import tensorflow_recommenders as tfrs\n",
        "import matplotlib.pyplot as plt\n",
        "import pandas as pd\n",
        "\n",
        "from surprise import Reader\n",
        "from surprise.model_selection import train_test_split\n",
        "from surprise import Dataset"
      ],
      "execution_count": 16,
      "outputs": []
    },
    {
      "cell_type": "code",
      "metadata": {
        "id": "VurySgqbI172"
      },
      "source": [
        "!pip install -q watermark\n",
        "%reload_ext watermark\n",
        "%watermark -m -iv -u -t -d"
      ],
      "execution_count": null,
      "outputs": []
    },
    {
      "cell_type": "markdown",
      "metadata": {
        "id": "xHFcbs93Ibn7"
      },
      "source": [
        "## Loading dataset"
      ]
    },
    {
      "cell_type": "code",
      "metadata": {
        "colab": {
          "base_uri": "https://localhost:8080/"
        },
        "id": "2tKKNN1ZGth-",
        "outputId": "64e75ec8-d53a-4d08-ee39-be36ee1dd5a2"
      },
      "source": [
        "!wget http://snap.stanford.edu/data/amazon/productGraph/categoryFiles/ratings_Electronics.csv"
      ],
      "execution_count": 8,
      "outputs": [
        {
          "output_type": "stream",
          "text": [
            "--2021-07-28 07:54:15--  http://snap.stanford.edu/data/amazon/productGraph/categoryFiles/ratings_Electronics.csv\n",
            "Resolving snap.stanford.edu (snap.stanford.edu)... 171.64.75.80\n",
            "Connecting to snap.stanford.edu (snap.stanford.edu)|171.64.75.80|:80... connected.\n",
            "HTTP request sent, awaiting response... 200 OK\n",
            "Length: 318766497 (304M) [text/csv]\n",
            "Saving to: ‘ratings_Electronics.csv’\n",
            "\n",
            "ratings_Electronics 100%[===================>] 304.00M  6.82MB/s    in 52s     \n",
            "\n",
            "2021-07-28 07:55:07 (5.87 MB/s) - ‘ratings_Electronics.csv’ saved [318766497/318766497]\n",
            "\n"
          ],
          "name": "stdout"
        }
      ]
    },
    {
      "cell_type": "code",
      "metadata": {
        "colab": {
          "base_uri": "https://localhost:8080/",
          "height": 204
        },
        "id": "kiU_1VtgFoA3",
        "outputId": "b1fef80c-0ab4-4757-8ec0-0b623f780ec4"
      },
      "source": [
        "df = pd.read_csv('ratings_Electronics.csv', names=['userId', 'productId','Rating','timestamp'])\n",
        "df.head()"
      ],
      "execution_count": 9,
      "outputs": [
        {
          "output_type": "execute_result",
          "data": {
            "text/html": [
              "<div>\n",
              "<style scoped>\n",
              "    .dataframe tbody tr th:only-of-type {\n",
              "        vertical-align: middle;\n",
              "    }\n",
              "\n",
              "    .dataframe tbody tr th {\n",
              "        vertical-align: top;\n",
              "    }\n",
              "\n",
              "    .dataframe thead th {\n",
              "        text-align: right;\n",
              "    }\n",
              "</style>\n",
              "<table border=\"1\" class=\"dataframe\">\n",
              "  <thead>\n",
              "    <tr style=\"text-align: right;\">\n",
              "      <th></th>\n",
              "      <th>userId</th>\n",
              "      <th>productId</th>\n",
              "      <th>Rating</th>\n",
              "      <th>timestamp</th>\n",
              "    </tr>\n",
              "  </thead>\n",
              "  <tbody>\n",
              "    <tr>\n",
              "      <th>0</th>\n",
              "      <td>AKM1MP6P0OYPR</td>\n",
              "      <td>0132793040</td>\n",
              "      <td>5.0</td>\n",
              "      <td>1365811200</td>\n",
              "    </tr>\n",
              "    <tr>\n",
              "      <th>1</th>\n",
              "      <td>A2CX7LUOHB2NDG</td>\n",
              "      <td>0321732944</td>\n",
              "      <td>5.0</td>\n",
              "      <td>1341100800</td>\n",
              "    </tr>\n",
              "    <tr>\n",
              "      <th>2</th>\n",
              "      <td>A2NWSAGRHCP8N5</td>\n",
              "      <td>0439886341</td>\n",
              "      <td>1.0</td>\n",
              "      <td>1367193600</td>\n",
              "    </tr>\n",
              "    <tr>\n",
              "      <th>3</th>\n",
              "      <td>A2WNBOD3WNDNKT</td>\n",
              "      <td>0439886341</td>\n",
              "      <td>3.0</td>\n",
              "      <td>1374451200</td>\n",
              "    </tr>\n",
              "    <tr>\n",
              "      <th>4</th>\n",
              "      <td>A1GI0U4ZRJA8WN</td>\n",
              "      <td>0439886341</td>\n",
              "      <td>1.0</td>\n",
              "      <td>1334707200</td>\n",
              "    </tr>\n",
              "  </tbody>\n",
              "</table>\n",
              "</div>"
            ],
            "text/plain": [
              "           userId   productId  Rating   timestamp\n",
              "0   AKM1MP6P0OYPR  0132793040     5.0  1365811200\n",
              "1  A2CX7LUOHB2NDG  0321732944     5.0  1341100800\n",
              "2  A2NWSAGRHCP8N5  0439886341     1.0  1367193600\n",
              "3  A2WNBOD3WNDNKT  0439886341     3.0  1374451200\n",
              "4  A1GI0U4ZRJA8WN  0439886341     1.0  1334707200"
            ]
          },
          "metadata": {
            "tags": []
          },
          "execution_count": 9
        }
      ]
    },
    {
      "cell_type": "code",
      "metadata": {
        "colab": {
          "base_uri": "https://localhost:8080/",
          "height": 204
        },
        "id": "R7-U3n53G3kW",
        "outputId": "125e871c-13b5-436f-c94a-fc01657c77d8"
      },
      "source": [
        "df.dropna(inplace=True)\n",
        "df.head()"
      ],
      "execution_count": 10,
      "outputs": [
        {
          "output_type": "execute_result",
          "data": {
            "text/html": [
              "<div>\n",
              "<style scoped>\n",
              "    .dataframe tbody tr th:only-of-type {\n",
              "        vertical-align: middle;\n",
              "    }\n",
              "\n",
              "    .dataframe tbody tr th {\n",
              "        vertical-align: top;\n",
              "    }\n",
              "\n",
              "    .dataframe thead th {\n",
              "        text-align: right;\n",
              "    }\n",
              "</style>\n",
              "<table border=\"1\" class=\"dataframe\">\n",
              "  <thead>\n",
              "    <tr style=\"text-align: right;\">\n",
              "      <th></th>\n",
              "      <th>userId</th>\n",
              "      <th>productId</th>\n",
              "      <th>Rating</th>\n",
              "      <th>timestamp</th>\n",
              "    </tr>\n",
              "  </thead>\n",
              "  <tbody>\n",
              "    <tr>\n",
              "      <th>0</th>\n",
              "      <td>AKM1MP6P0OYPR</td>\n",
              "      <td>0132793040</td>\n",
              "      <td>5.0</td>\n",
              "      <td>1365811200</td>\n",
              "    </tr>\n",
              "    <tr>\n",
              "      <th>1</th>\n",
              "      <td>A2CX7LUOHB2NDG</td>\n",
              "      <td>0321732944</td>\n",
              "      <td>5.0</td>\n",
              "      <td>1341100800</td>\n",
              "    </tr>\n",
              "    <tr>\n",
              "      <th>2</th>\n",
              "      <td>A2NWSAGRHCP8N5</td>\n",
              "      <td>0439886341</td>\n",
              "      <td>1.0</td>\n",
              "      <td>1367193600</td>\n",
              "    </tr>\n",
              "    <tr>\n",
              "      <th>3</th>\n",
              "      <td>A2WNBOD3WNDNKT</td>\n",
              "      <td>0439886341</td>\n",
              "      <td>3.0</td>\n",
              "      <td>1374451200</td>\n",
              "    </tr>\n",
              "    <tr>\n",
              "      <th>4</th>\n",
              "      <td>A1GI0U4ZRJA8WN</td>\n",
              "      <td>0439886341</td>\n",
              "      <td>1.0</td>\n",
              "      <td>1334707200</td>\n",
              "    </tr>\n",
              "  </tbody>\n",
              "</table>\n",
              "</div>"
            ],
            "text/plain": [
              "           userId   productId  Rating   timestamp\n",
              "0   AKM1MP6P0OYPR  0132793040     5.0  1365811200\n",
              "1  A2CX7LUOHB2NDG  0321732944     5.0  1341100800\n",
              "2  A2NWSAGRHCP8N5  0439886341     1.0  1367193600\n",
              "3  A2WNBOD3WNDNKT  0439886341     3.0  1374451200\n",
              "4  A1GI0U4ZRJA8WN  0439886341     1.0  1334707200"
            ]
          },
          "metadata": {
            "tags": []
          },
          "execution_count": 10
        }
      ]
    },
    {
      "cell_type": "code",
      "metadata": {
        "colab": {
          "base_uri": "https://localhost:8080/"
        },
        "id": "DFW0EfKzG5k3",
        "outputId": "38f0a9dd-c125-414f-c7ba-6f1b1d471045"
      },
      "source": [
        "df.info()"
      ],
      "execution_count": 11,
      "outputs": [
        {
          "output_type": "stream",
          "text": [
            "<class 'pandas.core.frame.DataFrame'>\n",
            "Int64Index: 7824482 entries, 0 to 7824481\n",
            "Data columns (total 4 columns):\n",
            " #   Column     Dtype  \n",
            "---  ------     -----  \n",
            " 0   userId     object \n",
            " 1   productId  object \n",
            " 2   Rating     float64\n",
            " 3   timestamp  int64  \n",
            "dtypes: float64(1), int64(1), object(2)\n",
            "memory usage: 298.5+ MB\n"
          ],
          "name": "stdout"
        }
      ]
    },
    {
      "cell_type": "code",
      "metadata": {
        "colab": {
          "base_uri": "https://localhost:8080/",
          "height": 297
        },
        "id": "mWj0ytKBG5iq",
        "outputId": "5c07f50c-3bab-48ec-deae-7fd8dd92331d"
      },
      "source": [
        "df.describe()"
      ],
      "execution_count": 12,
      "outputs": [
        {
          "output_type": "execute_result",
          "data": {
            "text/html": [
              "<div>\n",
              "<style scoped>\n",
              "    .dataframe tbody tr th:only-of-type {\n",
              "        vertical-align: middle;\n",
              "    }\n",
              "\n",
              "    .dataframe tbody tr th {\n",
              "        vertical-align: top;\n",
              "    }\n",
              "\n",
              "    .dataframe thead th {\n",
              "        text-align: right;\n",
              "    }\n",
              "</style>\n",
              "<table border=\"1\" class=\"dataframe\">\n",
              "  <thead>\n",
              "    <tr style=\"text-align: right;\">\n",
              "      <th></th>\n",
              "      <th>Rating</th>\n",
              "      <th>timestamp</th>\n",
              "    </tr>\n",
              "  </thead>\n",
              "  <tbody>\n",
              "    <tr>\n",
              "      <th>count</th>\n",
              "      <td>7.824482e+06</td>\n",
              "      <td>7.824482e+06</td>\n",
              "    </tr>\n",
              "    <tr>\n",
              "      <th>mean</th>\n",
              "      <td>4.012337e+00</td>\n",
              "      <td>1.338178e+09</td>\n",
              "    </tr>\n",
              "    <tr>\n",
              "      <th>std</th>\n",
              "      <td>1.380910e+00</td>\n",
              "      <td>6.900426e+07</td>\n",
              "    </tr>\n",
              "    <tr>\n",
              "      <th>min</th>\n",
              "      <td>1.000000e+00</td>\n",
              "      <td>9.127296e+08</td>\n",
              "    </tr>\n",
              "    <tr>\n",
              "      <th>25%</th>\n",
              "      <td>3.000000e+00</td>\n",
              "      <td>1.315354e+09</td>\n",
              "    </tr>\n",
              "    <tr>\n",
              "      <th>50%</th>\n",
              "      <td>5.000000e+00</td>\n",
              "      <td>1.361059e+09</td>\n",
              "    </tr>\n",
              "    <tr>\n",
              "      <th>75%</th>\n",
              "      <td>5.000000e+00</td>\n",
              "      <td>1.386115e+09</td>\n",
              "    </tr>\n",
              "    <tr>\n",
              "      <th>max</th>\n",
              "      <td>5.000000e+00</td>\n",
              "      <td>1.406074e+09</td>\n",
              "    </tr>\n",
              "  </tbody>\n",
              "</table>\n",
              "</div>"
            ],
            "text/plain": [
              "             Rating     timestamp\n",
              "count  7.824482e+06  7.824482e+06\n",
              "mean   4.012337e+00  1.338178e+09\n",
              "std    1.380910e+00  6.900426e+07\n",
              "min    1.000000e+00  9.127296e+08\n",
              "25%    3.000000e+00  1.315354e+09\n",
              "50%    5.000000e+00  1.361059e+09\n",
              "75%    5.000000e+00  1.386115e+09\n",
              "max    5.000000e+00  1.406074e+09"
            ]
          },
          "metadata": {
            "tags": []
          },
          "execution_count": 12
        }
      ]
    },
    {
      "cell_type": "code",
      "metadata": {
        "colab": {
          "base_uri": "https://localhost:8080/"
        },
        "id": "OsElU9JCG5gV",
        "outputId": "a65c1959-2420-4ab7-b0f8-d141833624ff"
      },
      "source": [
        "print('Minimum rating is: %d' %(df.Rating.min()))\n",
        "print('Maximum rating is: %d' %(df.Rating.max()))"
      ],
      "execution_count": 13,
      "outputs": [
        {
          "output_type": "stream",
          "text": [
            "Minimum rating is: 1\n",
            "Maximum rating is: 5\n"
          ],
          "name": "stdout"
        }
      ]
    },
    {
      "cell_type": "code",
      "metadata": {
        "colab": {
          "base_uri": "https://localhost:8080/",
          "height": 383
        },
        "id": "hSwbskUZHDLR",
        "outputId": "a721303d-a117-42a1-c78c-8e0601b6cc3b"
      },
      "source": [
        "g = sns.catplot(x=\"Rating\", data=df, aspect=2.0, kind='count')\n",
        "g.set_ylabels(\"Total number of ratings\")\n",
        "plt.show()"
      ],
      "execution_count": 21,
      "outputs": [
        {
          "output_type": "display_data",
          "data": {
            "image/png": "[encoded data removed]",
            "text/plain": [
              "<Figure size 720x360 with 1 Axes>"
            ]
          },
          "metadata": {
            "tags": [],
            "needs_background": "light"
          }
        }
      ]
    },
    {
      "cell_type": "markdown",
      "metadata": {
        "id": "W16zuRoYIfll"
      },
      "source": [
        "## Preprocessing"
      ]
    },
    {
      "cell_type": "code",
      "metadata": {
        "colab": {
          "base_uri": "https://localhost:8080/"
        },
        "id": "vKceR-XIHjlU",
        "outputId": "00d10597-a68a-4b04-cf56-3e6c5f83aaa4"
      },
      "source": [
        "df.drop(['timestamp'], axis=1, inplace=True)\n",
        "\n",
        "num_of_rated_products_per_user = df.groupby(by='userId')['Rating'].count().sort_values(ascending=False)\n",
        "num_of_rated_products_per_user.head()"
      ],
      "execution_count": 22,
      "outputs": [
        {
          "output_type": "execute_result",
          "data": {
            "text/plain": [
              "userId\n",
              "A5JLAU2ARJ0BO     520\n",
              "ADLVFFE4VBT8      501\n",
              "A3OXHLG6DIBRW8    498\n",
              "A6FIAB28IS79      431\n",
              "A680RUE1FDO8B     406\n",
              "Name: Rating, dtype: int64"
            ]
          },
          "metadata": {
            "tags": []
          },
          "execution_count": 22
        }
      ]
    },
    {
      "cell_type": "code",
      "metadata": {
        "id": "nMVmHLo1Hknj"
      },
      "source": [
        "new_df = df.sample(frac=0.1).groupby(\"productId\").filter(lambda x:x['Rating'].count() >=50)"
      ],
      "execution_count": 25,
      "outputs": []
    },
    {
      "cell_type": "code",
      "metadata": {
        "colab": {
          "base_uri": "https://localhost:8080/",
          "height": 390
        },
        "id": "J47-2t6jRQFB",
        "outputId": "4e948f93-a806-456f-96a0-532bcb9f27d1"
      },
      "source": [
        "new_df.describe(include='all')"
      ],
      "execution_count": 28,
      "outputs": [
        {
          "output_type": "execute_result",
          "data": {
            "text/html": [
              "<div>\n",
              "<style scoped>\n",
              "    .dataframe tbody tr th:only-of-type {\n",
              "        vertical-align: middle;\n",
              "    }\n",
              "\n",
              "    .dataframe tbody tr th {\n",
              "        vertical-align: top;\n",
              "    }\n",
              "\n",
              "    .dataframe thead th {\n",
              "        text-align: right;\n",
              "    }\n",
              "</style>\n",
              "<table border=\"1\" class=\"dataframe\">\n",
              "  <thead>\n",
              "    <tr style=\"text-align: right;\">\n",
              "      <th></th>\n",
              "      <th>userId</th>\n",
              "      <th>productId</th>\n",
              "      <th>Rating</th>\n",
              "    </tr>\n",
              "  </thead>\n",
              "  <tbody>\n",
              "    <tr>\n",
              "      <th>count</th>\n",
              "      <td>224220</td>\n",
              "      <td>224220</td>\n",
              "      <td>224220.000000</td>\n",
              "    </tr>\n",
              "    <tr>\n",
              "      <th>unique</th>\n",
              "      <td>212344</td>\n",
              "      <td>1920</td>\n",
              "      <td>NaN</td>\n",
              "    </tr>\n",
              "    <tr>\n",
              "      <th>top</th>\n",
              "      <td>AN81JUYW2SL24</td>\n",
              "      <td>B0074BW614</td>\n",
              "      <td>NaN</td>\n",
              "    </tr>\n",
              "    <tr>\n",
              "      <th>freq</th>\n",
              "      <td>12</td>\n",
              "      <td>1771</td>\n",
              "      <td>NaN</td>\n",
              "    </tr>\n",
              "    <tr>\n",
              "      <th>mean</th>\n",
              "      <td>NaN</td>\n",
              "      <td>NaN</td>\n",
              "      <td>4.169374</td>\n",
              "    </tr>\n",
              "    <tr>\n",
              "      <th>std</th>\n",
              "      <td>NaN</td>\n",
              "      <td>NaN</td>\n",
              "      <td>1.288526</td>\n",
              "    </tr>\n",
              "    <tr>\n",
              "      <th>min</th>\n",
              "      <td>NaN</td>\n",
              "      <td>NaN</td>\n",
              "      <td>1.000000</td>\n",
              "    </tr>\n",
              "    <tr>\n",
              "      <th>25%</th>\n",
              "      <td>NaN</td>\n",
              "      <td>NaN</td>\n",
              "      <td>4.000000</td>\n",
              "    </tr>\n",
              "    <tr>\n",
              "      <th>50%</th>\n",
              "      <td>NaN</td>\n",
              "      <td>NaN</td>\n",
              "      <td>5.000000</td>\n",
              "    </tr>\n",
              "    <tr>\n",
              "      <th>75%</th>\n",
              "      <td>NaN</td>\n",
              "      <td>NaN</td>\n",
              "      <td>5.000000</td>\n",
              "    </tr>\n",
              "    <tr>\n",
              "      <th>max</th>\n",
              "      <td>NaN</td>\n",
              "      <td>NaN</td>\n",
              "      <td>5.000000</td>\n",
              "    </tr>\n",
              "  </tbody>\n",
              "</table>\n",
              "</div>"
            ],
            "text/plain": [
              "               userId   productId         Rating\n",
              "count          224220      224220  224220.000000\n",
              "unique         212344        1920            NaN\n",
              "top     AN81JUYW2SL24  B0074BW614            NaN\n",
              "freq               12        1771            NaN\n",
              "mean              NaN         NaN       4.169374\n",
              "std               NaN         NaN       1.288526\n",
              "min               NaN         NaN       1.000000\n",
              "25%               NaN         NaN       4.000000\n",
              "50%               NaN         NaN       5.000000\n",
              "75%               NaN         NaN       5.000000\n",
              "max               NaN         NaN       5.000000"
            ]
          },
          "metadata": {
            "tags": []
          },
          "execution_count": 28
        }
      ]
    },
    {
      "cell_type": "markdown",
      "metadata": {
        "id": "vAmhuypKIozj"
      },
      "source": [
        "## Train/test split"
      ]
    },
    {
      "cell_type": "code",
      "metadata": {
        "id": "gKDLT9yrSXCd"
      },
      "source": [
        "df = new_df.copy()"
      ],
      "execution_count": 34,
      "outputs": []
    },
    {
      "cell_type": "code",
      "metadata": {
        "id": "hihYnbpuIBEi"
      },
      "source": [
        "interactions_dict = df.drop(['Rating'],axis=1)\n",
        "interactions_dict = {name: np.array(value) for name, value in interactions_dict.items()}\n",
        "interactions = tf.data.Dataset.from_tensor_slices(interactions_dict)\n",
        "\n",
        "items_dict = df[['productId']].drop_duplicates()\n",
        "items_dict = {name: np.array(value) for name, value in items_dict.items()}\n",
        "items = tf.data.Dataset.from_tensor_slices(items_dict)\n",
        "\n",
        "interactions = interactions.map(lambda x: {\n",
        "    'userId' : x['userId'], \n",
        "    'productId' : x['productId'], \n",
        "})"
      ],
      "execution_count": 35,
      "outputs": []
    },
    {
      "cell_type": "code",
      "metadata": {
        "id": "gQlSkHERIEWR"
      },
      "source": [
        "items = items.map(lambda x: x['productId'])\n",
        "\n",
        "### get unique item and user id's as a lookup table\n",
        "unique_item_titles = np.unique(np.concatenate(list(items.batch(1000))))\n",
        "unique_user_ids = np.unique(np.concatenate(list(interactions.batch(1_000).map(lambda x: x[\"userId\"]))))\n",
        "\n",
        "# Randomly shuffle data and split between train and test.\n",
        "tf.random.set_seed(42)\n",
        "shuffled = interactions.shuffle(200_000, seed=42, reshuffle_each_iteration=False)\n",
        "\n",
        "train = shuffled.take(180_000)\n",
        "test = shuffled.skip(180_000).take(20_000)"
      ],
      "execution_count": 36,
      "outputs": []
    },
    {
      "cell_type": "markdown",
      "metadata": {
        "id": "cOe-GBonIkpj"
      },
      "source": [
        "## Defining model architecture"
      ]
    },
    {
      "cell_type": "code",
      "metadata": {
        "id": "afoYwurkIHl4"
      },
      "source": [
        "class RetailModel(tfrs.Model):\n",
        "\n",
        "    def __init__(self, user_model, item_model):\n",
        "        super().__init__()\n",
        "        \n",
        "        ### Candidate model (item)\n",
        "        ### This is Keras preprocessing layers to first convert user ids to integers, \n",
        "        ### and then convert those to user embeddings via an Embedding layer. \n",
        "        ### We use the list of unique user ids we computed earlier as a vocabulary:\n",
        "        item_model = tf.keras.Sequential([\n",
        "                                        tf.keras.layers.experimental.preprocessing.StringLookup(\n",
        "                                        vocabulary=unique_item_titles, mask_token=None),\n",
        "                                        tf.keras.layers.Embedding(len(unique_item_titles) + 1, embedding_dimension)\n",
        "                                        ])\n",
        "        ### we pass the embedding layer into item model\n",
        "        self.item_model: tf.keras.Model = item_model\n",
        "            \n",
        "        ### Query model (users)    \n",
        "        user_model = tf.keras.Sequential([\n",
        "                                        tf.keras.layers.experimental.preprocessing.StringLookup(\n",
        "                                        vocabulary=unique_user_ids, mask_token=None),\n",
        "                                        # We add an additional embedding to account for unknown tokens.\n",
        "                                        tf.keras.layers.Embedding(len(unique_user_ids) + 1, embedding_dimension)\n",
        "                                        ])\n",
        "        self.user_model: tf.keras.Model = user_model\n",
        "        ### for retrieval model. we take top-k accuracy as metrics\n",
        "        metrics = tfrs.metrics.FactorizedTopK(\n",
        "                                            candidates=items.batch(128).map(item_model))\n",
        "        \n",
        "        # define the task, which is retrieval                                    )    \n",
        "        task = tfrs.tasks.Retrieval(\n",
        "                                    metrics=metrics\n",
        "                                    )\n",
        "       \n",
        "        self.task: tf.keras.layers.Layer = task\n",
        "\n",
        "    def compute_loss(self, features: Dict[Text, tf.Tensor], training=False) -> tf.Tensor:\n",
        "        # We pick out the user features and pass them into the user model.\n",
        "        user_embeddings = self.user_model(features[\"userId\"])\n",
        "        # And pick out the movie features and pass them into the movie model,\n",
        "        # getting embeddings back.\n",
        "        positive_movie_embeddings = self.item_model(features[\"productId\"])\n",
        "\n",
        "        # The task computes the loss and the metrics.\n",
        "        return self.task(user_embeddings, positive_movie_embeddings)"
      ],
      "execution_count": 37,
      "outputs": []
    },
    {
      "cell_type": "markdown",
      "metadata": {
        "id": "_12w_KC0IJeW"
      },
      "source": [
        "## Fitting and evaluating"
      ]
    },
    {
      "cell_type": "code",
      "metadata": {
        "colab": {
          "base_uri": "https://localhost:8080/"
        },
        "id": "tIrcnNihFfMP",
        "outputId": "475f821a-d268-442c-e807-877c1d5ade60"
      },
      "source": [
        "### we choose the dimensionality of the query and candicate representation.\n",
        "embedding_dimension = 32\n",
        "\n",
        "## we pass the model, which is the same model we created in the query and candidate tower, into the model\n",
        "item_model = tf.keras.Sequential([\n",
        "                                tf.keras.layers.experimental.preprocessing.StringLookup(\n",
        "                                vocabulary=unique_item_titles, mask_token=None),\n",
        "                                tf.keras.layers.Embedding(len(unique_item_titles) + 1, embedding_dimension)\n",
        "                                ])\n",
        "\n",
        "user_model = tf.keras.Sequential([\n",
        "                                tf.keras.layers.experimental.preprocessing.StringLookup(\n",
        "                                vocabulary=unique_user_ids, mask_token=None),\n",
        "                                # We add an additional embedding to account for unknown tokens.\n",
        "                                tf.keras.layers.Embedding(len(unique_user_ids) + 1, embedding_dimension)\n",
        "                                ])\n",
        "\n",
        "model = RetailModel(user_model, item_model)\n",
        "\n",
        "# a smaller learning rate may make the model move slower and prone to overfitting, so we stick to 0.1\n",
        "# other optimizers, such as SGD and Adam, are listed here https://www.tensorflow.org/api_docs/python/tf/keras/optimizers\n",
        "model.compile(optimizer=tf.keras.optimizers.Adagrad(learning_rate=0.1))\n",
        "\n",
        "cached_train = train.shuffle(100_000).batch(8192).cache()\n",
        "cached_test = test.batch(4096).cache()\n",
        "\n",
        "## fit the model with ten epochs\n",
        "model_hist = model.fit(cached_train, epochs=10)\n",
        "\n",
        "#evaluate the model\n",
        "model.evaluate(cached_test, return_dict=True)"
      ],
      "execution_count": 38,
      "outputs": [
        {
          "output_type": "stream",
          "text": [
            "Epoch 1/10\n",
            "WARNING:tensorflow:From /usr/local/lib/python3.7/dist-packages/tensorflow/python/ops/array_ops.py:5049: calling gather (from tensorflow.python.ops.array_ops) with validate_indices is deprecated and will be removed in a future version.\n",
            "Instructions for updating:\n",
            "The `validate_indices` argument has no effect. Indices are always validated on CPU and never validated on GPU.\n",
            "22/22 [==============================] - 60s 3s/step - factorized_top_k/top_1_categorical_accuracy: 0.0012 - factorized_top_k/top_5_categorical_accuracy: 0.0069 - factorized_top_k/top_10_categorical_accuracy: 0.0119 - factorized_top_k/top_50_categorical_accuracy: 0.0417 - factorized_top_k/top_100_categorical_accuracy: 0.0723 - loss: 73623.2884 - regularization_loss: 0.0000e+00 - total_loss: 73623.2884\n",
            "Epoch 2/10\n",
            "22/22 [==============================] - 58s 3s/step - factorized_top_k/top_1_categorical_accuracy: 0.1111 - factorized_top_k/top_5_categorical_accuracy: 0.3763 - factorized_top_k/top_10_categorical_accuracy: 0.4694 - factorized_top_k/top_50_categorical_accuracy: 0.7125 - factorized_top_k/top_100_categorical_accuracy: 0.8116 - loss: 72270.3940 - regularization_loss: 0.0000e+00 - total_loss: 72270.3940\n",
            "Epoch 3/10\n",
            "22/22 [==============================] - 58s 3s/step - factorized_top_k/top_1_categorical_accuracy: 0.2303 - factorized_top_k/top_5_categorical_accuracy: 0.8340 - factorized_top_k/top_10_categorical_accuracy: 0.9057 - factorized_top_k/top_50_categorical_accuracy: 0.9773 - factorized_top_k/top_100_categorical_accuracy: 0.9872 - loss: 62244.9597 - regularization_loss: 0.0000e+00 - total_loss: 62244.9597\n",
            "Epoch 4/10\n",
            "22/22 [==============================] - 58s 3s/step - factorized_top_k/top_1_categorical_accuracy: 0.2718 - factorized_top_k/top_5_categorical_accuracy: 0.9634 - factorized_top_k/top_10_categorical_accuracy: 0.9769 - factorized_top_k/top_50_categorical_accuracy: 0.9909 - factorized_top_k/top_100_categorical_accuracy: 0.9950 - loss: 41646.2948 - regularization_loss: 0.0000e+00 - total_loss: 41646.2948\n",
            "Epoch 5/10\n",
            "22/22 [==============================] - 58s 3s/step - factorized_top_k/top_1_categorical_accuracy: 0.3255 - factorized_top_k/top_5_categorical_accuracy: 0.9841 - factorized_top_k/top_10_categorical_accuracy: 0.9897 - factorized_top_k/top_50_categorical_accuracy: 0.9969 - factorized_top_k/top_100_categorical_accuracy: 0.9985 - loss: 24961.5115 - regularization_loss: 0.0000e+00 - total_loss: 24961.5115\n",
            "Epoch 6/10\n",
            "22/22 [==============================] - 58s 3s/step - factorized_top_k/top_1_categorical_accuracy: 0.3383 - factorized_top_k/top_5_categorical_accuracy: 0.9920 - factorized_top_k/top_10_categorical_accuracy: 0.9958 - factorized_top_k/top_50_categorical_accuracy: 0.9990 - factorized_top_k/top_100_categorical_accuracy: 0.9995 - loss: 18497.3575 - regularization_loss: 0.0000e+00 - total_loss: 18497.3575\n",
            "Epoch 7/10\n",
            "22/22 [==============================] - 58s 3s/step - factorized_top_k/top_1_categorical_accuracy: 0.3607 - factorized_top_k/top_5_categorical_accuracy: 0.9946 - factorized_top_k/top_10_categorical_accuracy: 0.9973 - factorized_top_k/top_50_categorical_accuracy: 0.9994 - factorized_top_k/top_100_categorical_accuracy: 0.9997 - loss: 17173.3439 - regularization_loss: 0.0000e+00 - total_loss: 17173.3439\n",
            "Epoch 8/10\n",
            "22/22 [==============================] - 58s 3s/step - factorized_top_k/top_1_categorical_accuracy: 0.3774 - factorized_top_k/top_5_categorical_accuracy: 0.9957 - factorized_top_k/top_10_categorical_accuracy: 0.9979 - factorized_top_k/top_50_categorical_accuracy: 0.9996 - factorized_top_k/top_100_categorical_accuracy: 0.9998 - loss: 16789.0695 - regularization_loss: 0.0000e+00 - total_loss: 16789.0695\n",
            "Epoch 9/10\n",
            "22/22 [==============================] - 58s 3s/step - factorized_top_k/top_1_categorical_accuracy: 0.3819 - factorized_top_k/top_5_categorical_accuracy: 0.9962 - factorized_top_k/top_10_categorical_accuracy: 0.9984 - factorized_top_k/top_50_categorical_accuracy: 0.9997 - factorized_top_k/top_100_categorical_accuracy: 0.9999 - loss: 16584.2396 - regularization_loss: 0.0000e+00 - total_loss: 16584.2396\n",
            "Epoch 10/10\n",
            "22/22 [==============================] - 58s 3s/step - factorized_top_k/top_1_categorical_accuracy: 0.3935 - factorized_top_k/top_5_categorical_accuracy: 0.9967 - factorized_top_k/top_10_categorical_accuracy: 0.9986 - factorized_top_k/top_50_categorical_accuracy: 0.9998 - factorized_top_k/top_100_categorical_accuracy: 0.9999 - loss: 16452.5529 - regularization_loss: 0.0000e+00 - total_loss: 16452.5529\n",
            "5/5 [==============================] - 6s 994ms/step - factorized_top_k/top_1_categorical_accuracy: 6.0000e-04 - factorized_top_k/top_5_categorical_accuracy: 0.0026 - factorized_top_k/top_10_categorical_accuracy: 0.0057 - factorized_top_k/top_50_categorical_accuracy: 0.0263 - factorized_top_k/top_100_categorical_accuracy: 0.0538 - loss: 34468.0189 - regularization_loss: 0.0000e+00 - total_loss: 34468.0189\n"
          ],
          "name": "stdout"
        },
        {
          "output_type": "execute_result",
          "data": {
            "text/plain": [
              "{'factorized_top_k/top_100_categorical_accuracy': 0.05375000089406967,\n",
              " 'factorized_top_k/top_10_categorical_accuracy': 0.0056500001810491085,\n",
              " 'factorized_top_k/top_1_categorical_accuracy': 0.0006000000284984708,\n",
              " 'factorized_top_k/top_50_categorical_accuracy': 0.02630000002682209,\n",
              " 'factorized_top_k/top_5_categorical_accuracy': 0.0026000000070780516,\n",
              " 'loss': 31242.18359375,\n",
              " 'regularization_loss': 0,\n",
              " 'total_loss': 31242.18359375}"
            ]
          },
          "metadata": {
            "tags": []
          },
          "execution_count": 38
        }
      ]
    },
    {
      "cell_type": "markdown",
      "metadata": {
        "id": "5sNzoCTJIuQM"
      },
      "source": [
        "## Plotting results"
      ]
    },
    {
      "cell_type": "code",
      "metadata": {
        "colab": {
          "base_uri": "https://localhost:8080/",
          "height": 312
        },
        "id": "VdzOCAFGIUMq",
        "outputId": "3703cdcc-0d2f-4700-f437-01b45a669ff7"
      },
      "source": [
        "# num_validation_runs = len(one_layer_history.history[\"val_factorized_top_k/top_100_categorical_accuracy\"])\n",
        "epochs = [i for i in range(10)]\n",
        "\n",
        "plt.plot(epochs, model_hist.history[\"factorized_top_k/top_100_categorical_accuracy\"], label=\"accuracy\")\n",
        "plt.title(\"Accuracy vs epoch\")\n",
        "plt.xlabel(\"epoch\")\n",
        "plt.ylabel(\"Top-100 accuracy\");\n",
        "plt.legend()"
      ],
      "execution_count": 39,
      "outputs": [
        {
          "output_type": "execute_result",
          "data": {
            "text/plain": [
              "<matplotlib.legend.Legend at 0x7f484433f6d0>"
            ]
          },
          "metadata": {
            "tags": []
          },
          "execution_count": 39
        },
        {
          "output_type": "display_data",
          "data": {
            "image/png": "[encoded data removed]",
            "text/plain": [
              "<Figure size 432x288 with 1 Axes>"
            ]
          },
          "metadata": {
            "tags": [],
            "needs_background": "light"
          }
        }
      ]
    },
    {
      "cell_type": "markdown",
      "metadata": {
        "id": "9TL2dqVkIvrF"
      },
      "source": [
        "## Recommendations"
      ]
    },
    {
      "cell_type": "code",
      "metadata": {
        "colab": {
          "base_uri": "https://localhost:8080/"
        },
        "id": "UjvhIlbXIUoC",
        "outputId": "8aacb2f3-263e-40f0-ac36-95927bb9c652"
      },
      "source": [
        "# Create a model that takes in raw query features, and\n",
        "index = tfrs.layers.factorized_top_k.BruteForce(model.user_model)\n",
        "\n",
        "# recommends products out of the entire product dataset.\n",
        "index.index(items.batch(100).map(model.item_model), items)\n",
        "\n",
        "# Get recommendations.\n",
        "j = str(20)\n",
        "_, titles = index(tf.constant([j]))\n",
        "print(f\"Recommendations for user %s: {titles[0]}\" %(j))"
      ],
      "execution_count": 40,
      "outputs": [
        {
          "output_type": "stream",
          "text": [
            "Recommendations for user 20: [b'B002MAPS6W' b'B008I646WG' b'B0052SCU8U' b'B004YHVNWO' b'B004S4R5CK'\n",
            " b'B001S2RCXW' b'B00BIULEJC' b'B0015AE4CE' b'B001TUYTZM' b'B0011Z44UA']\n"
          ],
          "name": "stdout"
        }
      ]
    }
  ]
}