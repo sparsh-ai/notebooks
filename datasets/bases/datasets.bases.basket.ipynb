{
 "cells": [
  {
   "cell_type": "code",
   "execution_count": null,
   "metadata": {},
   "outputs": [],
   "source": [
    "# default_exp datasets.bases.basket"
   ]
  },
  {
   "cell_type": "markdown",
   "metadata": {},
   "source": [
    "# Next-Basket Dataset\n",
    "> Implementation of dataset modules for next-basket recommendation task."
   ]
  },
  {
   "cell_type": "code",
   "execution_count": null,
   "metadata": {},
   "outputs": [],
   "source": [
    "#hide\n",
    "from nbdev.showdoc import *\n",
    "from fastcore.nb_imports import *\n",
    "from fastcore.test import *"
   ]
  },
  {
   "cell_type": "code",
   "execution_count": null,
   "metadata": {},
   "outputs": [],
   "source": [
    "#export\n",
    "from sklearn.base import TransformerMixin, BaseEstimator\n",
    "from sklearn.feature_extraction.text import CountVectorizer, _VectorizerMixin\n",
    "import numpy as np\n",
    "import pandas as pd\n",
    "import matplotlib.pyplot as plt \n",
    "import matplotlib.ticker as ticker\n",
    "import csv\n",
    "import json\n",
    "import os\n",
    "import random\n",
    "import time\n",
    "\n",
    "from recohut.visualization.basic_plots import BasicVisual"
   ]
  },
  {
   "cell_type": "markdown",
   "metadata": {},
   "source": [
    "## BasketVectorizer"
   ]
  },
  {
   "cell_type": "code",
   "execution_count": null,
   "metadata": {},
   "outputs": [],
   "source": [
    "#export\n",
    "class BasketVectorizer:\n",
    "    \"\"\"\n",
    "    This class is responsible for converting a basket into one hot vectors\n",
    "    \"\"\"\n",
    "    def __init__(self, vocabulary):\n",
    "        self.vocabulary = vocabulary\n",
    "        self._cv = CountVectorizer(vocabulary=self.vocabulary, token_pattern=r\"\\b\\d+\\b\", preprocessor=self._preprocess)\n",
    "\n",
    "    @staticmethod\n",
    "    def _preprocess(doc):\n",
    "        \"\"\"\n",
    "        The default vectorizer only accepts list of strings, we also want it to accept list of list or list of arrays\n",
    "        \"\"\"\n",
    "        if isinstance(doc, list) or isinstance(doc, np.ndarray):\n",
    "            return \",\".join(doc)\n",
    "        return doc\n",
    "\n",
    "    def transform(self, X, toarray=False):\n",
    "        if toarray:\n",
    "            return self._cv.transform(X).toarray()\n",
    "        else:\n",
    "            return self._cv.transform(X)\n",
    "\n",
    "    def get_cv(self):\n",
    "        return self._cv"
   ]
  },
  {
   "cell_type": "code",
   "execution_count": null,
   "metadata": {},
   "outputs": [],
   "source": [
    "cab = {str(i) for i in range(1, 11)}\n",
    "bc = BasketVectorizer(vocabulary=cab)\n",
    "\n",
    "test_eq(bc.get_cv().get_feature_names_out(), \n",
    "        np.array(['1','10','2','3','4','5','6','7','8','9']))\n",
    "\n",
    "res = bc.transform([[\"1\", \"2\"], \"7,8,9,10\"], toarray=True)\n",
    "\n",
    "test_eq(res, np.array([[1, 0, 1, 0, 0, 0, 0, 0, 0, 0],\n",
    "                       [0, 1, 0, 0, 0, 0, 0, 1, 1, 1]]))"
   ]
  },
  {
   "cell_type": "code",
   "execution_count": null,
   "metadata": {},
   "outputs": [],
   "source": [
    "#exporti\n",
    "class BasketRepeatDistancePlot(BasicVisual):\n",
    "    def __init__(self, repeat_distance, xlim=[0,10], **kwargs):\n",
    "        self.repeat_distance = repeat_distance\n",
    "        self.xlim = xlim\n",
    "        super().__init__(**kwargs)\n",
    "\n",
    "    def plot(self):\n",
    "        self.ax.yaxis.set_major_formatter(ticker.PercentFormatter(len(self.repeat_distance)))\n",
    "        plt.hist(self.repeat_distance, bins=np.arange(min(self.repeat_distance), \n",
    "                                                      max(self.repeat_distance)+1)-0.5)\n",
    "        self.ax.set_xlim(self.xlim)"
   ]
  },
  {
   "cell_type": "code",
   "execution_count": null,
   "metadata": {},
   "outputs": [],
   "source": [
    "#exporti\n",
    "class BasketSizePlot(BasicVisual):\n",
    "    def __init__(self, basket_size_series, bins=40, xlim=[0,60], **kwargs):\n",
    "        self.basket_size_series = basket_size_series\n",
    "        self.bins = bins\n",
    "        self.xlim = xlim\n",
    "        super().__init__(**kwargs)\n",
    "\n",
    "    def plot(self):        \n",
    "        plt.hist(self.basket_size_series, bins=self.bins)\n",
    "        self.ax.set_xlim(self.xlim)"
   ]
  },
  {
   "cell_type": "code",
   "execution_count": null,
   "metadata": {},
   "outputs": [],
   "source": [
    "#exporti\n",
    "class BasketUserPlot(BasicVisual):\n",
    "    def __init__(self, baskets_per_user_series, bins=40, xlim=[0,60], **kwargs):\n",
    "        self.baskets_per_user_series = baskets_per_user_series\n",
    "        self.bins = bins\n",
    "        self.xlim = xlim\n",
    "        super().__init__(**kwargs)\n",
    "\n",
    "    def plot(self):        \n",
    "        plt.hist(self.baskets_per_user_series, bins=self.bins)\n",
    "        self.ax.set_xlim(self.xlim)"
   ]
  },
  {
   "cell_type": "code",
   "execution_count": null,
   "metadata": {},
   "outputs": [],
   "source": [
    "#export\n",
    "class BasketDataset:\n",
    "    def __init__(self,\n",
    "                 df: pd.DataFrame,\n",
    "                 user_col: str = 'user_id',\n",
    "                 item_col: str = 'item_id',\n",
    "                 basket_col: str = 'order_id',\n",
    "                 auto_process: bool = True,\n",
    "                 ):\n",
    "        self.df = df[[user_col, item_col, basket_col]].copy()\n",
    "        self.user_col = user_col\n",
    "        self.item_col = item_col\n",
    "        self.basket_col = basket_col\n",
    "\n",
    "        self.customer_baskets = dict()\n",
    "        # this is to store the sparse matrix\n",
    "        self.customer_baskets_vectorized = dict()\n",
    "        self.item_ids = None\n",
    "        self.customer_ids = None\n",
    "        # process\n",
    "        if auto_process:\n",
    "            self.process()\n",
    "\n",
    "    def process(self):\n",
    "        self.df = self.df.astype({self.user_col: str, self.item_col: str, self.basket_col: int})\n",
    "        for customer_id, customer_baskets_df in self.df.groupby(self.user_col):\n",
    "            self.customer_baskets[customer_id] = []\n",
    "            for order_id, basket in customer_baskets_df.groupby(self.basket_col):\n",
    "                items_in_basket = basket[self.item_col].values\n",
    "                self.customer_baskets[customer_id].append((order_id, items_in_basket))\n",
    "        # update other attributes based on customer_baskets\n",
    "        self._update_stats()\n",
    "        # convert baskets to one hot encoded\n",
    "        self.vectorize()\n",
    "        # calculate repeat distance\n",
    "        self._calculate_repeat_distance()\n",
    "        # calculate other stats\n",
    "        self.basket_size_series = self.df.groupby([self.user_col, self.basket_col]).count()[self.item_col]\n",
    "        self.baskets_per_user_series = \\\n",
    "        self.df[[self.user_col, self.basket_col]].drop_duplicates().groupby([self.user_col]).count()[self.basket_col]\n",
    "\n",
    "    def info(self):\n",
    "        num_customer = self.df[self.user_col].unique().size\n",
    "        print(\"num of customers:\", num_customer)\n",
    "\n",
    "        num_customer = self.df[self.item_col].unique().size\n",
    "        print(\"num of items:\", num_customer)\n",
    "\n",
    "        basket_size_avg = self.basket_size_series.mean()\n",
    "        print(\"avg basket size:\", basket_size_avg)\n",
    "\n",
    "        print(\"avg basket per user:\", self.baskets_per_user_series.mean())\n",
    "        print(\"number of baskets:\", self.df[[self.user_col, self.basket_col]].drop_duplicates().shape[0])\n",
    "\n",
    "        print(\"percentage of repeat baskets:\", self.count_of_baskets_with_repeat/self.count_of_all_baskets)\n",
    "        print(\"average repeat distance:\", np.mean(self.repeat_distance)) \n",
    "\n",
    "    def _update_stats(self):\n",
    "        self.number_of_baskets_per_customer = dict()\n",
    "        customer_ids = set()\n",
    "        item_ids = set()\n",
    "        for _cid, _baskets in self.customer_baskets.items():\n",
    "            customer_ids.add(_cid)\n",
    "            self.number_of_baskets_per_customer[_cid] = len(_baskets)\n",
    "            for _order_id, _b in _baskets:\n",
    "                item_ids.update(_b)\n",
    "        # we first sort the item ids, then convert it to string to be used as vocabulary\n",
    "        # note that this is done in two steps to avoid miss sorting, [1,2,3..11,] into [1,11,2,3]\n",
    "        self.item_ids = sorted(item_ids, key=lambda x: int(x))  # sort a dict will return a list\n",
    "        self.customer_ids = sorted(customer_ids, key=lambda x: int(x))  # sort a dict will return a list\n",
    "\n",
    "    def vectorize(self):\n",
    "        vocabulary = self.item_ids\n",
    "        bc = BasketVectorizer(vocabulary=vocabulary)\n",
    "        for cid in self.customer_ids:\n",
    "            self.customer_baskets_vectorized[cid] = []\n",
    "            for order_id, raw_basket in self.customer_baskets[cid]:\n",
    "                vec_tuple = (order_id, bc.transform([raw_basket], toarray=False)[0])\n",
    "                self.customer_baskets_vectorized[cid].append(vec_tuple)\n",
    "\n",
    "    def _calculate_repeat_distance(self):\n",
    "        count_of_baskets_with_repeat = 0\n",
    "        count_of_all_baskets = 0\n",
    "        repeat_distance = []\n",
    "        for customerId, baskets in self.customer_baskets.items():\n",
    "            customerVocab = set()\n",
    "            for idx, (orderId, basket) in enumerate(baskets):\n",
    "                hasRepeat = False\n",
    "                distance = []\n",
    "                for itemId in basket:\n",
    "                    if itemId in customerVocab:\n",
    "                        hasRepeat = True\n",
    "                        # find the closest repeat place\n",
    "                        for backIdx in range(idx-1, -1, -1):\n",
    "                            thisCustomerBasket = baskets[backIdx]\n",
    "                            if itemId in thisCustomerBasket[1]:\n",
    "                                distance.append(idx - backIdx)\n",
    "                # we choose the minimal distance to represent\n",
    "                if distance:\n",
    "                    repeat_distance.append(min(distance))              \n",
    "                if hasRepeat:\n",
    "                    # this basket has repeated item\n",
    "                    count_of_baskets_with_repeat += 1\n",
    "                count_of_all_baskets += 1\n",
    "                customerVocab.update(basket)\n",
    "        self.repeat_distance = repeat_distance\n",
    "        self.count_of_baskets_with_repeat = count_of_baskets_with_repeat\n",
    "        self.count_of_all_baskets = count_of_all_baskets\n",
    "\n",
    "    def plot_basket_distance(self, xlim=[0,10]):\n",
    "        kwargs = {'label_x':'repeat distance', 'label_y':'baskets percentage', \n",
    "                  'figsize':(7,4), 'title':'Repeat Distance Plot'}\n",
    "        _ = BasketRepeatDistancePlot(self.repeat_distance, xlim=xlim, **kwargs)\n",
    "\n",
    "    def plot_basket_size(self, bins=40, xlim=[0,60]):\n",
    "        kwargs = {'label_x':'basket_size', 'label_y':'#baskets', \n",
    "                  'figsize':(7,4), 'title':'Basket Size Plot'}\n",
    "        _ = BasketSizePlot(self.basket_size_series, bins=bins, xlim=xlim, **kwargs)\n",
    "\n",
    "    def plot_basket_per_user(self, bins=40, xlim=[0,60]):\n",
    "        kwargs = {'label_x':'#baskets', 'label_y':'#users', \n",
    "                  'figsize':(7,4), 'title':'Baskets per user Plot'}\n",
    "        _ = BasketUserPlot(self.baskets_per_user_series, bins=bins, xlim=xlim, **kwargs)\n",
    "\n",
    "    def generate(self, number_of_baskets_per_customer=10, max_customer_id=10000, max_item_id=1000, basket_size=20):\n",
    "        print(\"generating fake dataset\")\n",
    "        self.customer_ids = {cid for cid in range(1, max_customer_id + 1)}\n",
    "        self.item_ids = [iid for iid in range(1, max_item_id + 1)]\n",
    "        self.number_of_baskets_per_customer = {cid: number_of_baskets_per_customer for cid in self.customer_ids}\n",
    "        # we manually partition customers into 3 clusters, 1/3 likes the first 1/3 of items, ...\n",
    "        for cid in self.customer_ids:\n",
    "            self.customer_baskets[cid] = []\n",
    "            if cid <= max_customer_id // 3:\n",
    "                items_they_like = range(1, max_item_id // 3)\n",
    "            elif cid <= max_customer_id * 2 // 3:\n",
    "                items_they_like = range(max_item_id // 3, 2 * max_item_id // 3)\n",
    "            else:\n",
    "                items_they_like = range(2 * max_item_id // 3, max_item_id + 1)\n",
    "\n",
    "            for i in range(number_of_baskets_per_customer):\n",
    "                basket = np.array([random.choice(items_they_like) for i in range(basket_size)])\n",
    "                self.customer_baskets[cid].append(basket)\n",
    "\n",
    "    def to_vocab(self, file_path):\n",
    "        if Self.item_ids is None:\n",
    "            raise ValueError(\"no vocab to save, item Ids missing\")\n",
    "        df = pd.DataFrame({\"itemId\": self.item_ids})\n",
    "        df.to_csv(file_path, index=False)\n",
    "\n",
    "    def to_json_baskets(self, jsondata_path):\n",
    "        for customerId, list_of_baskets in self.customer_baskets.items():\n",
    "            # suppose the list_of_baskets is sorted\n",
    "            for orderId, basket_array in list_of_baskets:\n",
    "                d_temp = {\"customerId\": int(customerId), \"orderId\": orderId,\n",
    "                          \"basket\": list(map(lambda x: int(x), basket_array.tolist())), \"isDeletion\": False}\n",
    "\n",
    "                fp = os.path.join(jsondata_path, f\"customer_{customerId}_order_{orderId}.csv\")\n",
    "                json.dump(d_temp, open(fp, \"w\"))\n",
    "                print(f\"Writing {fp} ...\")\n",
    "                time.sleep(0.1)"
   ]
  },
  {
   "cell_type": "markdown",
   "metadata": {},
   "source": [
    "### Example - TaFang Dataset"
   ]
  },
  {
   "cell_type": "code",
   "execution_count": null,
   "metadata": {},
   "outputs": [
    {
     "data": {
      "text/html": [
       "\n",
       "  <div id=\"df-3e16c69a-3910-4b2e-a4f3-8f08a8b2b2c2\">\n",
       "    <div class=\"colab-df-container\">\n",
       "      <div>\n",
       "<style scoped>\n",
       "    .dataframe tbody tr th:only-of-type {\n",
       "        vertical-align: middle;\n",
       "    }\n",
       "\n",
       "    .dataframe tbody tr th {\n",
       "        vertical-align: top;\n",
       "    }\n",
       "\n",
       "    .dataframe thead th {\n",
       "        text-align: right;\n",
       "    }\n",
       "</style>\n",
       "<table border=\"1\" class=\"dataframe\">\n",
       "  <thead>\n",
       "    <tr style=\"text-align: right;\">\n",
       "      <th></th>\n",
       "      <th>CUSTOMER_ID</th>\n",
       "      <th>ORDER_NUMBER</th>\n",
       "      <th>MATERIAL_NUMBER</th>\n",
       "    </tr>\n",
       "  </thead>\n",
       "  <tbody>\n",
       "    <tr>\n",
       "      <th>0</th>\n",
       "      <td>1</td>\n",
       "      <td>1</td>\n",
       "      <td>1</td>\n",
       "    </tr>\n",
       "    <tr>\n",
       "      <th>1</th>\n",
       "      <td>1</td>\n",
       "      <td>1</td>\n",
       "      <td>2</td>\n",
       "    </tr>\n",
       "    <tr>\n",
       "      <th>2</th>\n",
       "      <td>1</td>\n",
       "      <td>1</td>\n",
       "      <td>3</td>\n",
       "    </tr>\n",
       "    <tr>\n",
       "      <th>3</th>\n",
       "      <td>1</td>\n",
       "      <td>2</td>\n",
       "      <td>4</td>\n",
       "    </tr>\n",
       "    <tr>\n",
       "      <th>4</th>\n",
       "      <td>1</td>\n",
       "      <td>2</td>\n",
       "      <td>5</td>\n",
       "    </tr>\n",
       "  </tbody>\n",
       "</table>\n",
       "</div>\n",
       "      <button class=\"colab-df-convert\" onclick=\"convertToInteractive('df-3e16c69a-3910-4b2e-a4f3-8f08a8b2b2c2')\"\n",
       "              title=\"Convert this dataframe to an interactive table.\"\n",
       "              style=\"display:none;\">\n",
       "        \n",
       "  <svg xmlns=\"http://www.w3.org/2000/svg\" height=\"24px\"viewBox=\"0 0 24 24\"\n",
       "       width=\"24px\">\n",
       "    <path d=\"M0 0h24v24H0V0z\" fill=\"none\"/>\n",
       "    <path d=\"M18.56 5.44l.94 2.06.94-2.06 2.06-.94-2.06-.94-.94-2.06-.94 2.06-2.06.94zm-11 1L8.5 8.5l.94-2.06 2.06-.94-2.06-.94L8.5 2.5l-.94 2.06-2.06.94zm10 10l.94 2.06.94-2.06 2.06-.94-2.06-.94-.94-2.06-.94 2.06-2.06.94z\"/><path d=\"M17.41 7.96l-1.37-1.37c-.4-.4-.92-.59-1.43-.59-.52 0-1.04.2-1.43.59L10.3 9.45l-7.72 7.72c-.78.78-.78 2.05 0 2.83L4 21.41c.39.39.9.59 1.41.59.51 0 1.02-.2 1.41-.59l7.78-7.78 2.81-2.81c.8-.78.8-2.07 0-2.86zM5.41 20L4 18.59l7.72-7.72 1.47 1.35L5.41 20z\"/>\n",
       "  </svg>\n",
       "      </button>\n",
       "      \n",
       "  <style>\n",
       "    .colab-df-container {\n",
       "      display:flex;\n",
       "      flex-wrap:wrap;\n",
       "      gap: 12px;\n",
       "    }\n",
       "\n",
       "    .colab-df-convert {\n",
       "      background-color: #E8F0FE;\n",
       "      border: none;\n",
       "      border-radius: 50%;\n",
       "      cursor: pointer;\n",
       "      display: none;\n",
       "      fill: #1967D2;\n",
       "      height: 32px;\n",
       "      padding: 0 0 0 0;\n",
       "      width: 32px;\n",
       "    }\n",
       "\n",
       "    .colab-df-convert:hover {\n",
       "      background-color: #E2EBFA;\n",
       "      box-shadow: 0px 1px 2px rgba(60, 64, 67, 0.3), 0px 1px 3px 1px rgba(60, 64, 67, 0.15);\n",
       "      fill: #174EA6;\n",
       "    }\n",
       "\n",
       "    [theme=dark] .colab-df-convert {\n",
       "      background-color: #3B4455;\n",
       "      fill: #D2E3FC;\n",
       "    }\n",
       "\n",
       "    [theme=dark] .colab-df-convert:hover {\n",
       "      background-color: #434B5C;\n",
       "      box-shadow: 0px 1px 3px 1px rgba(0, 0, 0, 0.15);\n",
       "      filter: drop-shadow(0px 1px 2px rgba(0, 0, 0, 0.3));\n",
       "      fill: #FFFFFF;\n",
       "    }\n",
       "  </style>\n",
       "\n",
       "      <script>\n",
       "        const buttonEl =\n",
       "          document.querySelector('#df-3e16c69a-3910-4b2e-a4f3-8f08a8b2b2c2 button.colab-df-convert');\n",
       "        buttonEl.style.display =\n",
       "          google.colab.kernel.accessAllowed ? 'block' : 'none';\n",
       "\n",
       "        async function convertToInteractive(key) {\n",
       "          const element = document.querySelector('#df-3e16c69a-3910-4b2e-a4f3-8f08a8b2b2c2');\n",
       "          const dataTable =\n",
       "            await google.colab.kernel.invokeFunction('convertToInteractive',\n",
       "                                                     [key], {});\n",
       "          if (!dataTable) return;\n",
       "\n",
       "          const docLinkHtml = 'Like what you see? Visit the ' +\n",
       "            '<a target=\"_blank\" href=https://colab.research.google.com/notebooks/data_table.ipynb>data table notebook</a>'\n",
       "            + ' to learn more about interactive tables.';\n",
       "          element.innerHTML = '';\n",
       "          dataTable['output_type'] = 'display_data';\n",
       "          await google.colab.output.renderOutput(dataTable, element);\n",
       "          const docLink = document.createElement('div');\n",
       "          docLink.innerHTML = docLinkHtml;\n",
       "          element.appendChild(docLink);\n",
       "        }\n",
       "      </script>\n",
       "    </div>\n",
       "  </div>\n",
       "  "
      ],
      "text/plain": [
       "   CUSTOMER_ID  ORDER_NUMBER  MATERIAL_NUMBER\n",
       "0            1             1                1\n",
       "1            1             1                2\n",
       "2            1             1                3\n",
       "3            1             2                4\n",
       "4            1             2                5"
      ]
     },
     "execution_count": null,
     "metadata": {},
     "output_type": "execute_result"
    }
   ],
   "source": [
    "df = pd.read_csv('https://github.com/RecoHut-Datasets/tafeng/raw/v2/TaFang_history_NB.csv')\n",
    "df.head()"
   ]
  },
  {
   "cell_type": "code",
   "execution_count": null,
   "metadata": {},
   "outputs": [
    {
     "name": "stdout",
     "output_type": "stream",
     "text": [
      "num of customers: 13949\n",
      "num of items: 11997\n",
      "avg basket size: 6.220074789418682\n",
      "avg basket per user: 5.693813176571798\n",
      "number of baskets: 79423\n",
      "percentage of repeat baskets: 0.3630938141344447\n",
      "average repeat distance: 2.816006657881961\n"
     ]
    }
   ],
   "source": [
    "ds = BasketDataset(df, user_col='CUSTOMER_ID', item_col='MATERIAL_NUMBER',\n",
    "                   basket_col='ORDER_NUMBER')\n",
    "\n",
    "\n",
    "ds.info()"
   ]
  },
  {
   "cell_type": "code",
   "execution_count": null,
   "metadata": {},
   "outputs": [
    {
     "data": {
      "image/png": "[encoded data removed]",
      "text/plain": [
       "<Figure size 504x288 with 1 Axes>"
      ]
     },
     "metadata": {},
     "output_type": "display_data"
    }
   ],
   "source": [
    "ds.plot_basket_distance()"
   ]
  },
  {
   "cell_type": "code",
   "execution_count": null,
   "metadata": {},
   "outputs": [
    {
     "data": {
      "image/png": "[encoded data removed]",
      "text/plain": [
       "<Figure size 504x288 with 1 Axes>"
      ]
     },
     "metadata": {},
     "output_type": "display_data"
    }
   ],
   "source": [
    "ds.plot_basket_size()"
   ]
  },
  {
   "cell_type": "code",
   "execution_count": null,
   "metadata": {},
   "outputs": [
    {
     "data": {
      "image/png": "[encoded data removed]",
      "text/plain": [
       "<Figure size 504x288 with 1 Axes>"
      ]
     },
     "metadata": {},
     "output_type": "display_data"
    }
   ],
   "source": [
    "ds.plot_basket_per_user()"
   ]
  },
  {
   "cell_type": "markdown",
   "metadata": {},
   "source": [
    "### Example - Instacart Dataset"
   ]
  },
  {
   "cell_type": "code",
   "execution_count": null,
   "metadata": {},
   "outputs": [
    {
     "data": {
      "text/html": [
       "\n",
       "  <div id=\"df-b550f66c-2398-47f6-9a82-b3f5bfde6803\">\n",
       "    <div class=\"colab-df-container\">\n",
       "      <div>\n",
       "<style scoped>\n",
       "    .dataframe tbody tr th:only-of-type {\n",
       "        vertical-align: middle;\n",
       "    }\n",
       "\n",
       "    .dataframe tbody tr th {\n",
       "        vertical-align: top;\n",
       "    }\n",
       "\n",
       "    .dataframe thead th {\n",
       "        text-align: right;\n",
       "    }\n",
       "</style>\n",
       "<table border=\"1\" class=\"dataframe\">\n",
       "  <thead>\n",
       "    <tr style=\"text-align: right;\">\n",
       "      <th></th>\n",
       "      <th>CUSTOMER_ID</th>\n",
       "      <th>ORDER_NUMBER</th>\n",
       "      <th>MATERIAL_NUMBER</th>\n",
       "    </tr>\n",
       "  </thead>\n",
       "  <tbody>\n",
       "    <tr>\n",
       "      <th>0</th>\n",
       "      <td>1</td>\n",
       "      <td>1</td>\n",
       "      <td>1</td>\n",
       "    </tr>\n",
       "    <tr>\n",
       "      <th>1</th>\n",
       "      <td>1</td>\n",
       "      <td>1</td>\n",
       "      <td>2</td>\n",
       "    </tr>\n",
       "    <tr>\n",
       "      <th>2</th>\n",
       "      <td>1</td>\n",
       "      <td>1</td>\n",
       "      <td>3</td>\n",
       "    </tr>\n",
       "    <tr>\n",
       "      <th>3</th>\n",
       "      <td>1</td>\n",
       "      <td>1</td>\n",
       "      <td>4</td>\n",
       "    </tr>\n",
       "    <tr>\n",
       "      <th>4</th>\n",
       "      <td>1</td>\n",
       "      <td>1</td>\n",
       "      <td>5</td>\n",
       "    </tr>\n",
       "  </tbody>\n",
       "</table>\n",
       "</div>\n",
       "      <button class=\"colab-df-convert\" onclick=\"convertToInteractive('df-b550f66c-2398-47f6-9a82-b3f5bfde6803')\"\n",
       "              title=\"Convert this dataframe to an interactive table.\"\n",
       "              style=\"display:none;\">\n",
       "        \n",
       "  <svg xmlns=\"http://www.w3.org/2000/svg\" height=\"24px\"viewBox=\"0 0 24 24\"\n",
       "       width=\"24px\">\n",
       "    <path d=\"M0 0h24v24H0V0z\" fill=\"none\"/>\n",
       "    <path d=\"M18.56 5.44l.94 2.06.94-2.06 2.06-.94-2.06-.94-.94-2.06-.94 2.06-2.06.94zm-11 1L8.5 8.5l.94-2.06 2.06-.94-2.06-.94L8.5 2.5l-.94 2.06-2.06.94zm10 10l.94 2.06.94-2.06 2.06-.94-2.06-.94-.94-2.06-.94 2.06-2.06.94z\"/><path d=\"M17.41 7.96l-1.37-1.37c-.4-.4-.92-.59-1.43-.59-.52 0-1.04.2-1.43.59L10.3 9.45l-7.72 7.72c-.78.78-.78 2.05 0 2.83L4 21.41c.39.39.9.59 1.41.59.51 0 1.02-.2 1.41-.59l7.78-7.78 2.81-2.81c.8-.78.8-2.07 0-2.86zM5.41 20L4 18.59l7.72-7.72 1.47 1.35L5.41 20z\"/>\n",
       "  </svg>\n",
       "      </button>\n",
       "      \n",
       "  <style>\n",
       "    .colab-df-container {\n",
       "      display:flex;\n",
       "      flex-wrap:wrap;\n",
       "      gap: 12px;\n",
       "    }\n",
       "\n",
       "    .colab-df-convert {\n",
       "      background-color: #E8F0FE;\n",
       "      border: none;\n",
       "      border-radius: 50%;\n",
       "      cursor: pointer;\n",
       "      display: none;\n",
       "      fill: #1967D2;\n",
       "      height: 32px;\n",
       "      padding: 0 0 0 0;\n",
       "      width: 32px;\n",
       "    }\n",
       "\n",
       "    .colab-df-convert:hover {\n",
       "      background-color: #E2EBFA;\n",
       "      box-shadow: 0px 1px 2px rgba(60, 64, 67, 0.3), 0px 1px 3px 1px rgba(60, 64, 67, 0.15);\n",
       "      fill: #174EA6;\n",
       "    }\n",
       "\n",
       "    [theme=dark] .colab-df-convert {\n",
       "      background-color: #3B4455;\n",
       "      fill: #D2E3FC;\n",
       "    }\n",
       "\n",
       "    [theme=dark] .colab-df-convert:hover {\n",
       "      background-color: #434B5C;\n",
       "      box-shadow: 0px 1px 3px 1px rgba(0, 0, 0, 0.15);\n",
       "      filter: drop-shadow(0px 1px 2px rgba(0, 0, 0, 0.3));\n",
       "      fill: #FFFFFF;\n",
       "    }\n",
       "  </style>\n",
       "\n",
       "      <script>\n",
       "        const buttonEl =\n",
       "          document.querySelector('#df-b550f66c-2398-47f6-9a82-b3f5bfde6803 button.colab-df-convert');\n",
       "        buttonEl.style.display =\n",
       "          google.colab.kernel.accessAllowed ? 'block' : 'none';\n",
       "\n",
       "        async function convertToInteractive(key) {\n",
       "          const element = document.querySelector('#df-b550f66c-2398-47f6-9a82-b3f5bfde6803');\n",
       "          const dataTable =\n",
       "            await google.colab.kernel.invokeFunction('convertToInteractive',\n",
       "                                                     [key], {});\n",
       "          if (!dataTable) return;\n",
       "\n",
       "          const docLinkHtml = 'Like what you see? Visit the ' +\n",
       "            '<a target=\"_blank\" href=https://colab.research.google.com/notebooks/data_table.ipynb>data table notebook</a>'\n",
       "            + ' to learn more about interactive tables.';\n",
       "          element.innerHTML = '';\n",
       "          dataTable['output_type'] = 'display_data';\n",
       "          await google.colab.output.renderOutput(dataTable, element);\n",
       "          const docLink = document.createElement('div');\n",
       "          docLink.innerHTML = docLinkHtml;\n",
       "          element.appendChild(docLink);\n",
       "        }\n",
       "      </script>\n",
       "    </div>\n",
       "  </div>\n",
       "  "
      ],
      "text/plain": [
       "   CUSTOMER_ID  ORDER_NUMBER  MATERIAL_NUMBER\n",
       "0            1             1                1\n",
       "1            1             1                2\n",
       "2            1             1                3\n",
       "3            1             1                4\n",
       "4            1             1                5"
      ]
     },
     "execution_count": null,
     "metadata": {},
     "output_type": "execute_result"
    }
   ],
   "source": [
    "df = pd.read_csv('https://github.com/RecoHut-Datasets/instacart/raw/v1/Instacart_history.csv')\n",
    "df.head()"
   ]
  },
  {
   "cell_type": "code",
   "execution_count": null,
   "metadata": {},
   "outputs": [
    {
     "name": "stdout",
     "output_type": "stream",
     "text": [
      "num of customers: 19935\n",
      "num of items: 7999\n",
      "avg basket size: 8.877992613239542\n",
      "avg basket per user: 7.97256082267369\n",
      "number of baskets: 158933\n",
      "percentage of repeat baskets: 0.7955805276437241\n",
      "average repeat distance: 1.3751542184682548\n"
     ]
    }
   ],
   "source": [
    "ds = BasketDataset(df, user_col='CUSTOMER_ID', item_col='MATERIAL_NUMBER',\n",
    "                   basket_col='ORDER_NUMBER')\n",
    "\n",
    "\n",
    "ds.info()"
   ]
  },
  {
   "cell_type": "code",
   "execution_count": null,
   "metadata": {},
   "outputs": [
    {
     "data": {
      "image/png": "[encoded data removed]",
      "text/plain": [
       "<Figure size 504x288 with 1 Axes>"
      ]
     },
     "metadata": {},
     "output_type": "display_data"
    }
   ],
   "source": [
    "ds.plot_basket_distance()"
   ]
  },
  {
   "cell_type": "code",
   "execution_count": null,
   "metadata": {},
   "outputs": [
    {
     "data": {
      "image/png": "[encoded data removed]",
      "text/plain": [
       "<Figure size 504x288 with 1 Axes>"
      ]
     },
     "metadata": {},
     "output_type": "display_data"
    }
   ],
   "source": [
    "ds.plot_basket_size()"
   ]
  },
  {
   "cell_type": "code",
   "execution_count": null,
   "metadata": {},
   "outputs": [
    {
     "data": {
      "image/png": "[encoded data removed]",
      "text/plain": [
       "<Figure size 504x288 with 1 Axes>"
      ]
     },
     "metadata": {},
     "output_type": "display_data"
    }
   ],
   "source": [
    "ds.plot_basket_per_user()"
   ]
  }
 ],
 "metadata": {
  "kernelspec": {
   "display_name": "Python 3",
   "name": "python3"
  }
 },
 "nbformat": 4,
 "nbformat_minor": 0
}
