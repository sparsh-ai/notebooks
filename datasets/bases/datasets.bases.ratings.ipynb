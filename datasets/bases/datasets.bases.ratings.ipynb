{
 "cells": [
  {
   "cell_type": "code",
   "execution_count": null,
   "metadata": {},
   "outputs": [],
   "source": [
    "# default_exp datasets.bases.ratings"
   ]
  },
  {
   "cell_type": "markdown",
   "metadata": {},
   "source": [
    "# Ratings dataset\n",
    "> Base class for ratings dataset module."
   ]
  },
  {
   "cell_type": "code",
   "execution_count": null,
   "metadata": {},
   "outputs": [],
   "source": [
    "#hide\n",
    "from nbdev.showdoc import *\n",
    "from fastcore.nb_imports import *\n",
    "from fastcore.test import *"
   ]
  },
  {
   "cell_type": "code",
   "execution_count": null,
   "metadata": {},
   "outputs": [],
   "source": [
    "#export\n",
    "from typing import List, Optional, Callable, Union, Any, Tuple\n",
    "\n",
    "import os\n",
    "import numpy as np\n",
    "import pandas as pd\n",
    "import pickle\n",
    "\n",
    "import torch\n",
    "\n",
    "from recohut.utils.common_utils import download_url, extract_zip, extract_gz, makedirs\n",
    "from recohut.utils.interaction_utils import user_activity_count, item_activity_count\n",
    "from recohut.datasets.bases.common import Dataset\n",
    "\n",
    "import matplotlib.pyplot as plt\n",
    "import seaborn as sns\n",
    "from recohut.visualization.basic_plots import BasicVisual"
   ]
  },
  {
   "cell_type": "code",
   "execution_count": null,
   "metadata": {},
   "outputs": [
    {
     "data": {
      "text/html": [
       "\n",
       "  <div id=\"df-f51079f4-2a22-4df3-b7bb-c48e5496b50f\">\n",
       "    <div class=\"colab-df-container\">\n",
       "      <div>\n",
       "<style scoped>\n",
       "    .dataframe tbody tr th:only-of-type {\n",
       "        vertical-align: middle;\n",
       "    }\n",
       "\n",
       "    .dataframe tbody tr th {\n",
       "        vertical-align: top;\n",
       "    }\n",
       "\n",
       "    .dataframe thead th {\n",
       "        text-align: right;\n",
       "    }\n",
       "</style>\n",
       "<table border=\"1\" class=\"dataframe\">\n",
       "  <thead>\n",
       "    <tr style=\"text-align: right;\">\n",
       "      <th></th>\n",
       "      <th>event</th>\n",
       "      <th>userid</th>\n",
       "      <th>itemid</th>\n",
       "      <th>timestamp</th>\n",
       "    </tr>\n",
       "  </thead>\n",
       "  <tbody>\n",
       "    <tr>\n",
       "      <th>0</th>\n",
       "      <td>view_item</td>\n",
       "      <td>2763227</td>\n",
       "      <td>11056</td>\n",
       "      <td>2020-01-13 16:05:31.244000+00:00</td>\n",
       "    </tr>\n",
       "    <tr>\n",
       "      <th>1</th>\n",
       "      <td>add_to_cart</td>\n",
       "      <td>2828666</td>\n",
       "      <td>14441</td>\n",
       "      <td>2020-01-13 22:36:38.680000+00:00</td>\n",
       "    </tr>\n",
       "    <tr>\n",
       "      <th>2</th>\n",
       "      <td>view_item</td>\n",
       "      <td>0620225789</td>\n",
       "      <td>14377</td>\n",
       "      <td>2020-01-14 10:54:41.886000+00:00</td>\n",
       "    </tr>\n",
       "    <tr>\n",
       "      <th>3</th>\n",
       "      <td>view_item</td>\n",
       "      <td>0620225789</td>\n",
       "      <td>14377</td>\n",
       "      <td>2020-01-14 10:54:47.692000+00:00</td>\n",
       "    </tr>\n",
       "    <tr>\n",
       "      <th>4</th>\n",
       "      <td>add_to_cart</td>\n",
       "      <td>0620225789</td>\n",
       "      <td>14377</td>\n",
       "      <td>2020-01-14 10:54:48.479000+00:00</td>\n",
       "    </tr>\n",
       "  </tbody>\n",
       "</table>\n",
       "</div>\n",
       "      <button class=\"colab-df-convert\" onclick=\"convertToInteractive('df-f51079f4-2a22-4df3-b7bb-c48e5496b50f')\"\n",
       "              title=\"Convert this dataframe to an interactive table.\"\n",
       "              style=\"display:none;\">\n",
       "        \n",
       "  <svg xmlns=\"http://www.w3.org/2000/svg\" height=\"24px\"viewBox=\"0 0 24 24\"\n",
       "       width=\"24px\">\n",
       "    <path d=\"M0 0h24v24H0V0z\" fill=\"none\"/>\n",
       "    <path d=\"M18.56 5.44l.94 2.06.94-2.06 2.06-.94-2.06-.94-.94-2.06-.94 2.06-2.06.94zm-11 1L8.5 8.5l.94-2.06 2.06-.94-2.06-.94L8.5 2.5l-.94 2.06-2.06.94zm10 10l.94 2.06.94-2.06 2.06-.94-2.06-.94-.94-2.06-.94 2.06-2.06.94z\"/><path d=\"M17.41 7.96l-1.37-1.37c-.4-.4-.92-.59-1.43-.59-.52 0-1.04.2-1.43.59L10.3 9.45l-7.72 7.72c-.78.78-.78 2.05 0 2.83L4 21.41c.39.39.9.59 1.41.59.51 0 1.02-.2 1.41-.59l7.78-7.78 2.81-2.81c.8-.78.8-2.07 0-2.86zM5.41 20L4 18.59l7.72-7.72 1.47 1.35L5.41 20z\"/>\n",
       "  </svg>\n",
       "      </button>\n",
       "      \n",
       "  <style>\n",
       "    .colab-df-container {\n",
       "      display:flex;\n",
       "      flex-wrap:wrap;\n",
       "      gap: 12px;\n",
       "    }\n",
       "\n",
       "    .colab-df-convert {\n",
       "      background-color: #E8F0FE;\n",
       "      border: none;\n",
       "      border-radius: 50%;\n",
       "      cursor: pointer;\n",
       "      display: none;\n",
       "      fill: #1967D2;\n",
       "      height: 32px;\n",
       "      padding: 0 0 0 0;\n",
       "      width: 32px;\n",
       "    }\n",
       "\n",
       "    .colab-df-convert:hover {\n",
       "      background-color: #E2EBFA;\n",
       "      box-shadow: 0px 1px 2px rgba(60, 64, 67, 0.3), 0px 1px 3px 1px rgba(60, 64, 67, 0.15);\n",
       "      fill: #174EA6;\n",
       "    }\n",
       "\n",
       "    [theme=dark] .colab-df-convert {\n",
       "      background-color: #3B4455;\n",
       "      fill: #D2E3FC;\n",
       "    }\n",
       "\n",
       "    [theme=dark] .colab-df-convert:hover {\n",
       "      background-color: #434B5C;\n",
       "      box-shadow: 0px 1px 3px 1px rgba(0, 0, 0, 0.15);\n",
       "      filter: drop-shadow(0px 1px 2px rgba(0, 0, 0, 0.3));\n",
       "      fill: #FFFFFF;\n",
       "    }\n",
       "  </style>\n",
       "\n",
       "      <script>\n",
       "        const buttonEl =\n",
       "          document.querySelector('#df-f51079f4-2a22-4df3-b7bb-c48e5496b50f button.colab-df-convert');\n",
       "        buttonEl.style.display =\n",
       "          google.colab.kernel.accessAllowed ? 'block' : 'none';\n",
       "\n",
       "        async function convertToInteractive(key) {\n",
       "          const element = document.querySelector('#df-f51079f4-2a22-4df3-b7bb-c48e5496b50f');\n",
       "          const dataTable =\n",
       "            await google.colab.kernel.invokeFunction('convertToInteractive',\n",
       "                                                     [key], {});\n",
       "          if (!dataTable) return;\n",
       "\n",
       "          const docLinkHtml = 'Like what you see? Visit the ' +\n",
       "            '<a target=\"_blank\" href=https://colab.research.google.com/notebooks/data_table.ipynb>data table notebook</a>'\n",
       "            + ' to learn more about interactive tables.';\n",
       "          element.innerHTML = '';\n",
       "          dataTable['output_type'] = 'display_data';\n",
       "          await google.colab.output.renderOutput(dataTable, element);\n",
       "          const docLink = document.createElement('div');\n",
       "          docLink.innerHTML = docLinkHtml;\n",
       "          element.appendChild(docLink);\n",
       "        }\n",
       "      </script>\n",
       "    </div>\n",
       "  </div>\n",
       "  "
      ],
      "text/plain": [
       "         event      userid itemid                        timestamp\n",
       "0    view_item     2763227  11056 2020-01-13 16:05:31.244000+00:00\n",
       "1  add_to_cart     2828666  14441 2020-01-13 22:36:38.680000+00:00\n",
       "2    view_item  0620225789  14377 2020-01-14 10:54:41.886000+00:00\n",
       "3    view_item  0620225789  14377 2020-01-14 10:54:47.692000+00:00\n",
       "4  add_to_cart  0620225789  14377 2020-01-14 10:54:48.479000+00:00"
      ]
     },
     "execution_count": null,
     "metadata": {},
     "output_type": "execute_result"
    }
   ],
   "source": [
    "df = pd.read_csv('https://github.com/RecoHut-Datasets/retail_general/raw/v3/rawdata.csv',\n",
    "                 header = 0,\n",
    "                 names = ['event','userid','itemid','timestamp'],\n",
    "                 dtype={0:'category', 1:'category', 2:'category'},\n",
    "                 parse_dates=['timestamp'])\n",
    "df.head()"
   ]
  },
  {
   "cell_type": "code",
   "execution_count": null,
   "metadata": {},
   "outputs": [],
   "source": [
    "#exporti\n",
    "class EventCountPlot(BasicVisual):\n",
    "    def __init__(self, df, event, threshold, **kwargs):\n",
    "        self.df = df\n",
    "        self.event = event\n",
    "        self.threshold = threshold\n",
    "        super().__init__(**kwargs)\n",
    "\n",
    "    def plot(self):\n",
    "        sns.countplot(self.df.loc[self.df[self.event]>self.threshold, self.event])"
   ]
  },
  {
   "cell_type": "code",
   "execution_count": null,
   "metadata": {},
   "outputs": [],
   "source": [
    "#exporti\n",
    "class InteractionCountPlot(BasicVisual):\n",
    "    def __init__(self, df, x, y, **kwargs):\n",
    "        self.df = df\n",
    "        self.x = x\n",
    "        self.y = y\n",
    "        super().__init__(**kwargs)\n",
    "\n",
    "    def plot(self):\n",
    "        sns.scatterplot(x=self.x, y=self.y, data=self.df, ax=self.ax)"
   ]
  },
  {
   "cell_type": "code",
   "execution_count": null,
   "metadata": {},
   "outputs": [],
   "source": [
    "#exporti\n",
    "class TimelinePlot(BasicVisual):\n",
    "    def __init__(self, df, **kwargs):\n",
    "        self.df = df\n",
    "        super().__init__(**kwargs)\n",
    "\n",
    "    def plot(self):\n",
    "        self.ax = self.df['Count'].plot(marker='o', linestyle='-')"
   ]
  },
  {
   "cell_type": "code",
   "execution_count": null,
   "metadata": {},
   "outputs": [],
   "source": [
    "#export\n",
    "class InteractionData:\n",
    "    def __init__(self, df, user_col='USERID', item_col='ITEMID', feedback_col=None, ts_col=None, *args, **kwargs):\n",
    "        self.df = df\n",
    "        self.user_col = user_col\n",
    "        self.item_col = item_col\n",
    "        self.feedback_col = feedback_col\n",
    "        self.ts_col = ts_col\n",
    "\n",
    "        self.df_user, self.user_activity = user_activity_count(df, user_col=user_col, event_col=feedback_col)\n",
    "        self.df_item, self.item_activity = item_activity_count(df, item_col=item_col, event_col=feedback_col)\n",
    "    \n",
    "    def plot_user_interaction_counts(self):\n",
    "        kwargs = {'x':'#Interactions', 'y':'#Users', \n",
    "                  'label_x':'#Interactions', 'label_y':'#Users', \n",
    "                  'figsize':(7,4), 'title':'User Interactions Plot'}\n",
    "        _ = InteractionCountPlot(self.df_user, **kwargs)\n",
    "    \n",
    "    def plot_item_interaction_counts(self):\n",
    "        kwargs = {'x':'#Interactions', 'y':'#Items', \n",
    "                  'label_x':'#Interactions', 'label_y':'#Items', \n",
    "                  'figsize':(7,4), 'title':'Item Interactions Plot'}\n",
    "        _ = InteractionCountPlot(self.df_item, **kwargs)\n",
    "\n",
    "    def plot_event_counts(self, event_name, threshold=0):\n",
    "        kwargs = {'label_x':event_name, 'label_y':'Counts', \n",
    "                  'figsize':(7,4), 'title':'Event Counts Plot'}\n",
    "        _ = EventCountPlot(self.user_activity, event=event_name, threshold=threshold, **kwargs)\n",
    "\n",
    "    def plot_timeline(self, agg='day'):\n",
    "        data = pd.DataFrame(pd.to_datetime(self.df[self.ts_col], infer_datetime_format=True))\n",
    "        data['Count'] = 1\n",
    "        data.set_index(self.ts_col, inplace=True)\n",
    "        data = data.resample('D').apply({'Count':'count'})\n",
    "        kwargs = {'label_x':'timestamp', 'label_y':'', \n",
    "                  'figsize':(15,4), 'title':'Timeline Plot'}\n",
    "        _ = TimelinePlot(data, **kwargs)"
   ]
  },
  {
   "cell_type": "code",
   "execution_count": null,
   "metadata": {},
   "outputs": [],
   "source": [
    "ds = InteractionData(df, user_col='userid', item_col='itemid', feedback_col='event', ts_col='timestamp')"
   ]
  },
  {
   "cell_type": "code",
   "execution_count": null,
   "metadata": {},
   "outputs": [
    {
     "data": {
      "image/png": "[encoded data removed]",
      "text/plain": [
       "<Figure size 504x288 with 1 Axes>"
      ]
     },
     "metadata": {},
     "output_type": "display_data"
    }
   ],
   "source": [
    "ds.plot_user_interaction_counts()"
   ]
  },
  {
   "cell_type": "code",
   "execution_count": null,
   "metadata": {},
   "outputs": [
    {
     "data": {
      "image/png": "[encoded data removed]",
      "text/plain": [
       "<Figure size 504x288 with 1 Axes>"
      ]
     },
     "metadata": {},
     "output_type": "display_data"
    }
   ],
   "source": [
    "ds.plot_item_interaction_counts()"
   ]
  },
  {
   "cell_type": "code",
   "execution_count": null,
   "metadata": {},
   "outputs": [
    {
     "data": {
      "image/png": "[encoded data removed]",
      "text/plain": [
       "<Figure size 504x288 with 1 Axes>"
      ]
     },
     "metadata": {},
     "output_type": "display_data"
    }
   ],
   "source": [
    "ds.plot_user_interaction_counts()"
   ]
  },
  {
   "cell_type": "code",
   "execution_count": null,
   "metadata": {},
   "outputs": [
    {
     "data": {
      "image/png": "[encoded data removed]",
      "text/plain": [
       "<Figure size 504x288 with 1 Axes>"
      ]
     },
     "metadata": {},
     "output_type": "display_data"
    }
   ],
   "source": [
    "ds.plot_event_counts(event_name='add_to_cart', threshold=20)"
   ]
  },
  {
   "cell_type": "code",
   "execution_count": null,
   "metadata": {},
   "outputs": [
    {
     "data": {
      "image/png": "[encoded data removed]",
      "text/plain": [
       "<Figure size 504x288 with 1 Axes>"
      ]
     },
     "metadata": {},
     "output_type": "display_data"
    }
   ],
   "source": [
    "ds.plot_event_counts(event_name='purchase', threshold=0)"
   ]
  },
  {
   "cell_type": "code",
   "execution_count": null,
   "metadata": {},
   "outputs": [
    {
     "data": {
      "image/png": "[encoded data removed]",
      "text/plain": [
       "<Figure size 1080x288 with 1 Axes>"
      ]
     },
     "metadata": {},
     "output_type": "display_data"
    }
   ],
   "source": [
    "ds.plot_timeline()"
   ]
  },
  {
   "cell_type": "code",
   "execution_count": null,
   "metadata": {},
   "outputs": [],
   "source": [
    "#export\n",
    "class RatingDataset(Dataset):\n",
    "    r\"\"\"Interaction data with rating feedback\n",
    "    \n",
    "    Args:\n",
    "        root: data folder path\n",
    "        min_uc: minimum user count to keep in the data\n",
    "        min_sc: minimum item count to keep in the data\n",
    "        split: data split method - leave_one_out/holdout\n",
    "        min_rating: minimum rating threshold to convert explicit feedback into implicit\n",
    "\n",
    "    References:\n",
    "        1. https://github.com/Yueeeeeeee/RecSys-Extraction-Attack/tree/main/datasets\n",
    "    \"\"\"\n",
    "    def __init__(self, root, min_uc, min_sc, split='leave_one_out', dataset_split_seed=42,\n",
    "                 eval_set_size=None, min_rating=None, iterative_triplet=False):\n",
    "        super().__init__(root)\n",
    "        self.min_rating = min_rating\n",
    "        self.min_uc = min_uc\n",
    "        self.min_sc = min_sc\n",
    "        self.split = split\n",
    "        self.dataset_split_seed = dataset_split_seed\n",
    "        self.eval_set_size = eval_set_size\n",
    "        self.iterative_triplet = iterative_triplet\n",
    "\n",
    "        assert self.min_uc >= 2, 'Need at least 2 ratings per user for validation and test'\n",
    "\n",
    "        self._process()\n",
    "\n",
    "    def load_ratings_df(self):\n",
    "        r\"\"\"load raw dataset into pandas dataframe\"\"\"\n",
    "        raise NotImplementedError\n",
    "\n",
    "    def load_processed(self):\n",
    "        return pickle.load(open(self.processed_paths[0], 'rb'))\n",
    "\n",
    "    @property\n",
    "    def processed_file_names(self):\n",
    "        return 'dataset.pkl'\n",
    "\n",
    "    def make_implicit(self, df):\n",
    "        print('Turning into implicit ratings')\n",
    "        df = df[df['rating'] >= self.min_rating]\n",
    "        # return df[['uid', 'sid', 'timestamp']]\n",
    "        return df\n",
    "\n",
    "    def filter_triplets(self, df):\n",
    "        print('Filtering triplets')\n",
    "        if self.min_sc > 0:\n",
    "            item_sizes = df.groupby('sid').size()\n",
    "            good_items = item_sizes.index[item_sizes >= self.min_sc]\n",
    "            df = df[df['sid'].isin(good_items)]\n",
    "\n",
    "        if self.min_uc > 0:\n",
    "            user_sizes = df.groupby('uid').size()\n",
    "            good_users = user_sizes.index[user_sizes >= self.min_uc]\n",
    "            df = df[df['uid'].isin(good_users)]\n",
    "\n",
    "        return df\n",
    "\n",
    "    def filter_triplets_iteratively(self, df):\n",
    "        print('Filtering triplets')\n",
    "        if self.min_sc > 0 or self.min_uc > 0:\n",
    "            item_sizes = df.groupby('sid').size()\n",
    "            good_items = item_sizes.index[item_sizes >= self.min_sc]\n",
    "            user_sizes = df.groupby('uid').size()\n",
    "            good_users = user_sizes.index[user_sizes >= self.min_uc]\n",
    "            while len(good_items) < len(item_sizes) or len(good_users) < len(user_sizes):\n",
    "                if self.min_sc > 0:\n",
    "                    item_sizes = df.groupby('sid').size()\n",
    "                    good_items = item_sizes.index[item_sizes >= self.min_sc]\n",
    "                    df = df[df['sid'].isin(good_items)]\n",
    "\n",
    "                if self.min_uc > 0:\n",
    "                    user_sizes = df.groupby('uid').size()\n",
    "                    good_users = user_sizes.index[user_sizes >= self.min_uc]\n",
    "                    df = df[df['uid'].isin(good_users)]\n",
    "\n",
    "                item_sizes = df.groupby('sid').size()\n",
    "                good_items = item_sizes.index[item_sizes >= self.min_sc]\n",
    "                user_sizes = df.groupby('uid').size()\n",
    "                good_users = user_sizes.index[user_sizes >= self.min_uc]\n",
    "            \n",
    "        return df\n",
    "\n",
    "    def densify_index(self, df):\n",
    "        print('Densifying index')\n",
    "        umap = {u: i for i, u in enumerate(set(df['uid']))}\n",
    "        smap = {s: i for i, s in enumerate(set(df['sid']))}\n",
    "        df['uid'] = df['uid'].map(umap)\n",
    "        df['sid'] = df['sid'].map(smap)\n",
    "        return df, umap, smap\n",
    "\n",
    "    def split_df(self, df, user_count):\n",
    "        if self.split == 'leave_one_out':\n",
    "            print('Splitting')\n",
    "            user_group = df.groupby('uid')\n",
    "            user2items = user_group.progress_apply(lambda d: list(d.sort_values(by='timestamp')['sid']))\n",
    "            train, val, test = {}, {}, {}\n",
    "            for user in range(user_count):\n",
    "                items = user2items[user]\n",
    "                train[user], val[user], test[user] = items[:-2], items[-2:-1], items[-1:]\n",
    "            return train, val, test\n",
    "        elif self.split == 'holdout':\n",
    "            print('Splitting')\n",
    "            np.random.seed(self.dataset_split_seed)\n",
    "            eval_set_size = self.eval_set_size\n",
    "\n",
    "            # Generate user indices\n",
    "            permuted_index = np.random.permutation(user_count)\n",
    "            train_user_index = permuted_index[                :-2*eval_set_size]\n",
    "            val_user_index   = permuted_index[-2*eval_set_size:  -eval_set_size]\n",
    "            test_user_index  = permuted_index[  -eval_set_size:                ]\n",
    "\n",
    "            # Split DataFrames\n",
    "            train_df = df.loc[df['uid'].isin(train_user_index)]\n",
    "            val_df   = df.loc[df['uid'].isin(val_user_index)]\n",
    "            test_df  = df.loc[df['uid'].isin(test_user_index)]\n",
    "\n",
    "            # DataFrame to dict => {uid : list of sid's}\n",
    "            train = dict(train_df.groupby('uid').progress_apply(lambda d: list(d['sid'])))\n",
    "            val   = dict(val_df.groupby('uid').progress_apply(lambda d: list(d['sid'])))\n",
    "            test  = dict(test_df.groupby('uid').progress_apply(lambda d: list(d['sid'])))\n",
    "            return train, val, test\n",
    "        else:\n",
    "            raise NotImplementedError\n",
    "\n",
    "    def process(self):\n",
    "        df = self.load_ratings_df()\n",
    "        if self.iterative_triplet:\n",
    "            df = self.filter_triplets_iteratively(df)\n",
    "        else:\n",
    "            df = self.filter_triplets(df)\n",
    "        df, umap, smap = self.densify_index(df)\n",
    "        train, val, test = self.split_df(df, len(umap))\n",
    "        dataset = {'train': train,\n",
    "                   'val': val,\n",
    "                   'test': test,\n",
    "                   'umap': umap,\n",
    "                   'smap': smap}\n",
    "        with open(self.processed_paths[0], 'wb') as f:\n",
    "            pickle.dump(dataset, f)"
   ]
  },
  {
   "cell_type": "markdown",
   "metadata": {},
   "source": [
    "Example"
   ]
  },
  {
   "cell_type": "code",
   "execution_count": null,
   "metadata": {},
   "outputs": [],
   "source": [
    "class AmazonGamesDataset(RatingDataset):\n",
    "    url = \"http://snap.stanford.edu/data/amazon/productGraph/categoryFiles/ratings_Video_Games.csv\"\n",
    "\n",
    "    @property\n",
    "    def raw_file_names(self):\n",
    "        return 'ratings_Video_Games.csv'\n",
    "\n",
    "    def download(self):\n",
    "        download_url(self.url, self.raw_dir)\n",
    "\n",
    "    def load_ratings_df(self):\n",
    "        df = pd.read_csv(self.raw_paths[0], header=None)\n",
    "        df.columns = ['uid', 'sid', 'rating', 'timestamp']\n",
    "        return df"
   ]
  },
  {
   "cell_type": "code",
   "execution_count": null,
   "metadata": {},
   "outputs": [
    {
     "name": "stderr",
     "output_type": "stream",
     "text": [
      "Downloading http://snap.stanford.edu/data/amazon/productGraph/categoryFiles/ratings_Video_Games.csv\n",
      "Processing...\n"
     ]
    },
    {
     "name": "stdout",
     "output_type": "stream",
     "text": [
      "Filtering triplets\n",
      "Densifying index\n",
      "Splitting\n"
     ]
    },
    {
     "name": "stderr",
     "output_type": "stream",
     "text": [
      "100%|██████████| 7519/7519 [00:05<00:00, 1295.99it/s]\n",
      "Done!\n"
     ]
    }
   ],
   "source": [
    "ds = AmazonGamesDataset(root='/content/amazon_games', min_uc=10, min_sc=5)"
   ]
  },
  {
   "cell_type": "code",
   "execution_count": null,
   "metadata": {},
   "outputs": [],
   "source": [
    "class AmazonBeautyDataset(RatingDataset):\n",
    "    url = \"http://snap.stanford.edu/data/amazon/productGraph/categoryFiles/ratings_Beauty.csv\"\n",
    "\n",
    "    @property\n",
    "    def raw_file_names(self):\n",
    "        return 'ratings_Beauty.csv'\n",
    "\n",
    "    def download(self):\n",
    "        download_url(self.url, self.raw_dir)\n",
    "\n",
    "    def load_ratings_df(self):\n",
    "        df = pd.read_csv(self.raw_paths[0], header=None)\n",
    "        df.columns = ['uid', 'sid', 'rating', 'timestamp']\n",
    "        return df"
   ]
  },
  {
   "cell_type": "code",
   "execution_count": null,
   "metadata": {},
   "outputs": [
    {
     "name": "stderr",
     "output_type": "stream",
     "text": [
      "Downloading http://snap.stanford.edu/data/amazon/productGraph/categoryFiles/ratings_Video_Games.csv\n",
      "Processing...\n"
     ]
    },
    {
     "name": "stdout",
     "output_type": "stream",
     "text": [
      "Filtering triplets\n",
      "Densifying index\n",
      "Splitting\n"
     ]
    },
    {
     "name": "stderr",
     "output_type": "stream",
     "text": [
      "100%|██████████| 7519/7519 [00:02<00:00, 2527.69it/s]\n",
      "Done!\n"
     ]
    }
   ],
   "source": [
    "ds = AmazonGamesDataset(root='/content/amazon_beauty', min_uc=10, min_sc=5)"
   ]
  },
  {
   "cell_type": "code",
   "execution_count": null,
   "metadata": {},
   "outputs": [],
   "source": [
    "class ML1mDataset(RatingDataset):\n",
    "    url = \"http://files.grouplens.org/datasets/movielens/ml-1m.zip\"\n",
    "\n",
    "    @property\n",
    "    def raw_file_names(self):\n",
    "        return 'ratings.dat'\n",
    "\n",
    "    def download(self):\n",
    "        path = download_url(self.url, self.raw_dir)\n",
    "        extract_zip(path, self.raw_dir)\n",
    "        from shutil import move, rmtree\n",
    "        move(os.path.join(self.raw_dir, 'ml-1m', self.raw_file_names), self.raw_dir)\n",
    "        rmtree(os.path.join(self.raw_dir, 'ml-1m'))\n",
    "        os.unlink(path)\n",
    "\n",
    "    def load_ratings_df(self):\n",
    "        df = pd.read_csv(self.raw_paths[0], sep='::', header=None, engine='python')\n",
    "        df.columns = ['uid', 'sid', 'rating', 'timestamp']\n",
    "        return df"
   ]
  },
  {
   "cell_type": "code",
   "execution_count": null,
   "metadata": {},
   "outputs": [
    {
     "name": "stderr",
     "output_type": "stream",
     "text": [
      "Processing...\n"
     ]
    },
    {
     "name": "stdout",
     "output_type": "stream",
     "text": [
      "Filtering triplets\n",
      "Densifying index\n",
      "Splitting\n"
     ]
    },
    {
     "name": "stderr",
     "output_type": "stream",
     "text": [
      "100%|██████████| 6040/6040 [00:02<00:00, 2590.97it/s]\n",
      "Done!\n"
     ]
    }
   ],
   "source": [
    "ds = ML1mDataset(root='/content/ML1m', min_uc=10, min_sc=5)"
   ]
  },
  {
   "cell_type": "code",
   "execution_count": null,
   "metadata": {},
   "outputs": [],
   "source": [
    "class SteamGamesDataset(RatingDataset):\n",
    "    url = \"http://cseweb.ucsd.edu/~wckang/steam_reviews.json.gz\"\n",
    "\n",
    "    @property\n",
    "    def raw_file_names(self):\n",
    "        return 'steam_reviews.json'\n",
    "\n",
    "    def download(self):\n",
    "        path = download_url(self.url, self.raw_dir)\n",
    "        extract_gz(path, self.raw_dir)\n",
    "        os.unlink(path)\n",
    "\n",
    "    def load_ratings_df(self):\n",
    "        data = []\n",
    "        f = open(self.raw_paths[0], 'r', encoding='utf-8')\n",
    "        import ast\n",
    "        for line in f.readlines():\n",
    "            temp = ast.literal_eval(line)\n",
    "            data.append([temp['username'], temp['product_id'], temp['date']])\n",
    "\n",
    "        return pd.DataFrame(data, columns=['uid', 'sid', 'timestamp'])"
   ]
  },
  {
   "cell_type": "code",
   "execution_count": null,
   "metadata": {},
   "outputs": [
    {
     "name": "stderr",
     "output_type": "stream",
     "text": [
      "Processing...\n"
     ]
    },
    {
     "name": "stdout",
     "output_type": "stream",
     "text": [
      "Filtering triplets\n",
      "Densifying index\n",
      "Splitting\n"
     ]
    },
    {
     "name": "stderr",
     "output_type": "stream",
     "text": [
      "100%|██████████| 120145/120145 [01:10<00:00, 1709.62it/s]\n",
      "Done!\n"
     ]
    }
   ],
   "source": [
    "ds = SteamGamesDataset(root='/content/steam', min_uc=10, min_sc=5)"
   ]
  },
  {
   "cell_type": "code",
   "execution_count": null,
   "metadata": {},
   "outputs": [],
   "source": [
    "class YoochooseDataset(RatingDataset):\n",
    "    url = \"https://s3-eu-west-1.amazonaws.com/yc-rdata/yoochoose-data.7z\"\n",
    "\n",
    "    @property\n",
    "    def raw_file_names(self):\n",
    "        return 'yoochoose-clicks.dat'\n",
    "\n",
    "    def download(self):\n",
    "        path = download_url(self.url, self.raw_dir)\n",
    "        # pip install pyunpack patool\n",
    "        import pyunpack\n",
    "        pyunpack.Archive(path).extractall(self.raw_dir)\n",
    "        os.unlink(path)\n",
    "\n",
    "    def load_ratings_df(self):\n",
    "        df = pd.read_csv(self.raw_paths[0], header=None)\n",
    "        df.columns = ['uid', 'timestamp', 'sid', 'category']\n",
    "        return df"
   ]
  },
  {
   "cell_type": "code",
   "execution_count": null,
   "metadata": {},
   "outputs": [
    {
     "name": "stderr",
     "output_type": "stream",
     "text": [
      "Processing...\n",
      "/usr/local/lib/python3.7/dist-packages/ipykernel_launcher.py:28: DtypeWarning: Columns (3) have mixed types.Specify dtype option on import or set low_memory=False.\n"
     ]
    },
    {
     "name": "stdout",
     "output_type": "stream",
     "text": [
      "Filtering triplets\n",
      "Densifying index\n",
      "Splitting\n"
     ]
    },
    {
     "name": "stderr",
     "output_type": "stream",
     "text": [
      "100%|██████████| 449961/449961 [03:55<00:00, 1913.52it/s]\n",
      "Done!\n"
     ]
    }
   ],
   "source": [
    "ds = YoochooseDataset(root='/content/yoochoose', min_uc=10, min_sc=5)"
   ]
  },
  {
   "cell_type": "markdown",
   "metadata": {},
   "source": [
    "## Torch Rating Dataset"
   ]
  },
  {
   "cell_type": "code",
   "execution_count": null,
   "metadata": {},
   "outputs": [],
   "source": [
    "#export\n",
    "class TorchRatingDataset(torch.utils.data.Dataset):\n",
    "    \"\"\"Wrapper, convert <user, item, rating> Tensor into Pytorch Dataset.\"\"\"\n",
    "\n",
    "    def __init__(self, user_tensor, item_tensor, target_tensor):\n",
    "        \"\"\"Init UserItemRatingDataset Class.\n",
    "        Args:\n",
    "            target_tensor: torch.Tensor, the corresponding rating for <user, item> pair.\n",
    "        \"\"\"\n",
    "        self.user_tensor = user_tensor\n",
    "        self.item_tensor = item_tensor\n",
    "        self.target_tensor = target_tensor\n",
    "\n",
    "    def __getitem__(self, index):\n",
    "        \"\"\"Get an item from dataset.\"\"\"\n",
    "        return (\n",
    "            self.user_tensor[index],\n",
    "            self.item_tensor[index],\n",
    "            self.target_tensor[index],\n",
    "        )\n",
    "\n",
    "    def __len__(self):\n",
    "        \"\"\"Get the size of the dataset.\"\"\"\n",
    "        return self.user_tensor.size(0)"
   ]
  },
  {
   "cell_type": "code",
   "execution_count": null,
   "metadata": {},
   "outputs": [],
   "source": [
    "#export\n",
    "class TorchPairwiseNegativeDataset(torch.utils.data.Dataset):\n",
    "    \"\"\"Wrapper, convert <user, pos_item, neg_item> Tensor into Pytorch Dataset.\"\"\"\n",
    "\n",
    "    def __init__(self, user_tensor, pos_item_tensor, neg_item_tensor):\n",
    "        \"\"\"Init PairwiseNegativeDataset Class.\n",
    "        Args:\n",
    "            target_tensor: torch.Tensor, the corresponding rating for <user, item> pair.\n",
    "        \"\"\"\n",
    "        self.user_tensor = user_tensor\n",
    "        self.pos_item_tensor = pos_item_tensor\n",
    "        self.neg_item_tensor = neg_item_tensor\n",
    "\n",
    "    def __getitem__(self, index):\n",
    "        \"\"\"Get an item from the dataset.\"\"\"\n",
    "        return (\n",
    "            self.user_tensor[index],\n",
    "            self.pos_item_tensor[index],\n",
    "            self.neg_item_tensor[index],\n",
    "        )\n",
    "\n",
    "    def __len__(self):\n",
    "        \"\"\"Get the size of the dataset.\"\"\"\n",
    "        return self.user_tensor.size(0)"
   ]
  },
  {
   "cell_type": "markdown",
   "metadata": {},
   "source": [
    "> **References:-**\n",
    "- https://github.com/beta-team/beta-recsys/blob/master/beta_rec/data/data_loaders.py"
   ]
  },
  {
   "cell_type": "code",
   "execution_count": null,
   "metadata": {},
   "outputs": [
    {
     "name": "stdout",
     "output_type": "stream",
     "text": [
      "Author: Sparsh A.\n",
      "\n",
      "Last updated: 2021-12-31 06:27:08\n",
      "\n",
      "recohut: 0.0.8\n",
      "\n",
      "Compiler    : GCC 7.5.0\n",
      "OS          : Linux\n",
      "Release     : 5.4.144+\n",
      "Machine     : x86_64\n",
      "Processor   : x86_64\n",
      "CPU cores   : 2\n",
      "Architecture: 64bit\n",
      "\n",
      "sys    : 3.7.12 (default, Sep 10 2021, 00:21:48) \n",
      "[GCC 7.5.0]\n",
      "numpy  : 1.19.5\n",
      "pandas : 1.1.5\n",
      "csv    : 1.0\n",
      "IPython: 5.5.0\n",
      "\n"
     ]
    }
   ],
   "source": [
    "#hide\n",
    "%reload_ext watermark\n",
    "%watermark -a \"Sparsh A.\" -m -iv -u -t -d -p recohut"
   ]
  }
 ],
 "metadata": {
  "kernelspec": {
   "display_name": "Python 3",
   "name": "python3"
  }
 },
 "nbformat": 4,
 "nbformat_minor": 0
}
