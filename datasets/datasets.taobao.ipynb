{
 "cells": [
  {
   "cell_type": "code",
   "execution_count": null,
   "metadata": {},
   "outputs": [],
   "source": [
    "# default_exp datasets.taobao"
   ]
  },
  {
   "cell_type": "markdown",
   "metadata": {},
   "source": [
    "# Taobao Dataset\n",
    "> Implementation of Taobao dataset in Pytorch lightning."
   ]
  },
  {
   "cell_type": "code",
   "execution_count": null,
   "metadata": {},
   "outputs": [],
   "source": [
    "#hide\n",
    "from nbdev.showdoc import *\n",
    "from fastcore.nb_imports import *\n",
    "from fastcore.test import *"
   ]
  },
  {
   "cell_type": "code",
   "execution_count": null,
   "metadata": {},
   "outputs": [],
   "source": [
    "#export\n",
    "from recohut.datasets.bases.ctr import *\n",
    "from recohut.utils.common_utils import download_url\n",
    "\n",
    "from datetime import date"
   ]
  },
  {
   "cell_type": "code",
   "execution_count": null,
   "metadata": {},
   "outputs": [],
   "source": [
    "#export\n",
    "class TaobaoDataset(CTRDataset):\n",
    "\n",
    "    feature_cols = [{'name': [\"userid\",\"adgroup_id\",\"pid\",\"cate_id\",\"campaign_id\",\"customer\",\"brand\",\"cms_segid\",\n",
    "                                \"cms_group_id\",\"final_gender_code\",\"age_level\",\"pvalue_level\",\"shopping_level\",\"occupation\"],\n",
    "                        'active': True, 'dtype': 'str', 'type': 'categorical'}]\n",
    "                        \n",
    "    label_col = {'name': 'clk', 'dtype': float}\n",
    "\n",
    "    train_url = \"https://github.com/RecoHut-Datasets/sample_ctr/raw/v1/train_sample.csv\"\n",
    "    valid_url = \"https://github.com/RecoHut-Datasets/sample_ctr/raw/v1/valid_sample.csv\"\n",
    "    test_url = \"https://github.com/RecoHut-Datasets/sample_ctr/raw/v1/test_sample.csv\"\n",
    "\n",
    "    @property\n",
    "    def raw_file_names(self):\n",
    "        return ['train_sample.csv',\n",
    "                'valid_sample.csv',\n",
    "                'test_sample.csv']\n",
    "\n",
    "    def download(self):\n",
    "        download_url(self.train_url, self.raw_dir)\n",
    "        download_url(self.valid_url, self.raw_dir)\n",
    "        download_url(self.test_url, self.raw_dir)\n",
    "\n",
    "    def convert_hour(self, df, col_name):\n",
    "        return df['time_stamp'].apply(lambda ts: ts[11:13])\n",
    "\n",
    "    def convert_weekday(self, df, col_name):\n",
    "        def _convert_weekday(timestamp):\n",
    "            dt = date(int(timestamp[0:4]), int(timestamp[5:7]), int(timestamp[8:10]))\n",
    "            return dt.strftime('%w')\n",
    "        return df['time_stamp'].apply(_convert_weekday)\n",
    "\n",
    "    def convert_weekend(self, df, col_name):\n",
    "        def _convert_weekend(timestamp):\n",
    "            dt = date(int(timestamp[0:4]), int(timestamp[5:7]), int(timestamp[8:10]))\n",
    "            return '1' if dt.strftime('%w') in ['6', '0'] else '0'\n",
    "        return df['time_stamp'].apply(_convert_weekend)"
   ]
  },
  {
   "cell_type": "code",
   "execution_count": null,
   "metadata": {},
   "outputs": [],
   "source": [
    "#export\n",
    "class TaobaoDataModule(CTRDataModule):\n",
    "    dataset_cls = TaobaoDataset"
   ]
  },
  {
   "cell_type": "code",
   "execution_count": null,
   "metadata": {},
   "outputs": [],
   "source": [
    "params = {'model_id': 'DCN_demo',\n",
    "              'data_dir': '/content/data',\n",
    "              'model_root': './checkpoints/',\n",
    "              'dnn_hidden_units': [64, 64],\n",
    "              'dnn_activations': \"relu\",\n",
    "              'crossing_layers': 3,\n",
    "              'learning_rate': 1e-3,\n",
    "              'net_dropout': 0,\n",
    "              'batch_norm': False,\n",
    "              'optimizer': 'adamw',\n",
    "              'task': 'binary_classification',\n",
    "              'loss': 'binary_crossentropy',\n",
    "              'metrics': ['logloss', 'AUC'],\n",
    "              'embedding_dim': 10,\n",
    "              'batch_size': 64,\n",
    "              'epochs': 3,\n",
    "              'shuffle': True,\n",
    "              'seed': 2019,\n",
    "              'use_hdf5': True,\n",
    "              'workers': 1,\n",
    "              'verbose': 0}"
   ]
  },
  {
   "cell_type": "code",
   "execution_count": null,
   "metadata": {},
   "outputs": [
    {
     "name": "stdout",
     "output_type": "stream",
     "text": [
      "[tensor([[20., 96.,  1., 18., 94., 93., 63.,  9.,  9.,  2.,  2.,  2.,  1.,  1.],\n",
      "        [18., 78.,  1., 43., 76., 75.,  0.,  1.,  1.,  1.,  1.,  0.,  1.,  1.],\n",
      "        [ 5., 52.,  1.,  1., 51., 51.,  0.,  0.,  0.,  0.,  0.,  0.,  0.,  0.],\n",
      "        [ 5., 35.,  1.,  7.,  2.,  3.,  0.,  0.,  0.,  0.,  0.,  0.,  0.,  0.],\n",
      "        [ 1., 26.,  1., 23., 26., 26., 22.,  1.,  1.,  1.,  1.,  0.,  1.,  1.],\n",
      "        [20., 75.,  1., 42., 73., 72.,  7.,  9.,  9.,  2.,  2.,  2.,  1.,  1.],\n",
      "        [ 2., 17.,  1.,  2., 17., 17., 16.,  1.,  2.,  1.,  2.,  0.,  1.,  1.],\n",
      "        [15., 55.,  2., 10., 53., 53., 41.,  6.,  7.,  1.,  5.,  1.,  1.,  1.],\n",
      "        [ 3., 72.,  1., 40., 70., 69., 53.,  1.,  4.,  1.,  3.,  0.,  1.,  1.],\n",
      "        [ 3., 84.,  1., 45., 82., 81., 57.,  1.,  4.,  1.,  3.,  0.,  1.,  1.],\n",
      "        [ 1., 20.,  1.,  9., 20., 20.,  0.,  1.,  1.,  1.,  1.,  0.,  1.,  1.],\n",
      "        [ 3., 81.,  1.,  6., 79., 78.,  0.,  1.,  4.,  1.,  3.,  0.,  1.,  1.],\n",
      "        [ 1., 27.,  1.,  9., 27., 27., 23.,  1.,  1.,  1.,  1.,  0.,  1.,  1.],\n",
      "        [22., 66.,  2., 16., 64., 63., 49.,  4.,  3.,  1.,  4.,  1.,  1.,  1.],\n",
      "        [ 2., 15.,  1.,  1.,  1.,  1.,  1.,  1.,  2.,  1.,  2.,  0.,  1.,  1.],\n",
      "        [19., 83.,  1., 18., 81., 80., 56.,  8.,  1.,  1.,  1.,  2.,  1.,  2.],\n",
      "        [17., 98.,  1., 19., 96., 95., 65.,  7.,  3.,  1.,  4.,  2.,  2.,  1.],\n",
      "        [11., 32.,  2., 25., 32., 32., 26.,  2.,  1.,  1.,  1.,  1.,  1.,  1.],\n",
      "        [ 8., 13.,  2.,  1., 14.,  2.,  3.,  2.,  1.,  1.,  1.,  1.,  1.,  1.],\n",
      "        [ 4., 80.,  2., 44., 78., 77.,  4.,  3.,  2.,  1.,  2.,  1.,  1.,  1.],\n",
      "        [ 5., 62.,  1.,  7., 60., 60., 46.,  0.,  0.,  0.,  0.,  0.,  0.,  0.],\n",
      "        [ 2., 18.,  1.,  3., 18., 18.,  0.,  1.,  2.,  1.,  2.,  0.,  1.,  1.],\n",
      "        [12., 56.,  1.,  5., 54., 54.,  0.,  5.,  8.,  2.,  5.,  1.,  1.,  1.],\n",
      "        [ 6., 48.,  1., 34., 47., 47., 37.,  1.,  6.,  2.,  1.,  0.,  1.,  1.],\n",
      "        [10., 42.,  2., 31., 41., 41., 34.,  1.,  1.,  1.,  1.,  0.,  1.,  1.],\n",
      "        [ 4., 86.,  2., 47., 84., 83.,  0.,  3.,  2.,  1.,  2.,  1.,  1.,  1.],\n",
      "        [ 3., 77.,  1.,  1., 75., 74., 55.,  1.,  4.,  1.,  3.,  0.,  1.,  1.],\n",
      "        [21.,  4.,  2., 20.,  5.,  6., 10.,  1.,  7.,  1.,  5.,  0.,  1.,  1.],\n",
      "        [16., 79.,  1.,  4., 77., 76.,  0.,  1.,  5.,  2.,  3.,  0.,  2.,  1.],\n",
      "        [ 4., 99.,  2., 10., 97., 96.,  8.,  3.,  2.,  1.,  2.,  1.,  1.,  1.],\n",
      "        [ 6., 47.,  1., 33., 46., 46., 36.,  1.,  6.,  2.,  1.,  0.,  1.,  1.],\n",
      "        [ 5., 61.,  1.,  1., 59., 59.,  0.,  0.,  0.,  0.,  0.,  0.,  0.,  0.],\n",
      "        [11., 58.,  2.,  1., 56., 56., 43.,  2.,  1.,  1.,  1.,  1.,  1.,  1.],\n",
      "        [12., 38.,  1., 28., 37., 37., 30.,  5.,  8.,  2.,  5.,  1.,  1.,  1.],\n",
      "        [23., 95.,  2.,  2., 93., 92.,  6.,  1.,  6.,  2.,  1.,  1.,  1.,  1.],\n",
      "        [ 2., 14.,  1.,  5., 15., 15.,  0.,  1.,  2.,  1.,  2.,  0.,  1.,  1.],\n",
      "        [ 1.,  7.,  1., 13.,  8.,  9., 13.,  1.,  1.,  1.,  1.,  0.,  1.,  1.],\n",
      "        [19., 74.,  1.,  6., 72., 71., 54.,  8.,  1.,  1.,  1.,  2.,  1.,  2.],\n",
      "        [17., 90.,  1., 19., 88., 87., 60.,  7.,  3.,  1.,  4.,  2.,  2.,  1.],\n",
      "        [ 4., 94.,  2., 17., 92., 91., 62.,  3.,  2.,  1.,  2.,  1.,  1.,  1.],\n",
      "        [ 9., 30.,  1., 24., 30., 30., 24.,  2.,  1.,  1.,  1.,  1.,  1.,  1.],\n",
      "        [14., 41.,  1.,  4., 40., 40., 33.,  1.,  3.,  1.,  4.,  0.,  3.,  1.],\n",
      "        [23., 69.,  2.,  2., 67., 66.,  6.,  1.,  6.,  2.,  1.,  1.,  1.,  1.],\n",
      "        [ 2., 28.,  1.,  6., 28., 28.,  0.,  1.,  2.,  1.,  2.,  0.,  1.,  1.],\n",
      "        [ 5., 53.,  1.,  7.,  2.,  3.,  0.,  0.,  0.,  0.,  0.,  0.,  0.,  0.],\n",
      "        [ 8., 21.,  2.,  1., 21., 21., 18.,  2.,  1.,  1.,  1.,  1.,  1.,  1.],\n",
      "        [ 7.,  5.,  2., 12.,  6.,  7., 11.,  4.,  3.,  1.,  4.,  1.,  1.,  1.],\n",
      "        [ 6., 57.,  1.,  2., 55., 55., 42.,  1.,  6.,  2.,  1.,  0.,  1.,  1.],\n",
      "        [18., 70.,  1., 38., 68., 67., 51.,  1.,  1.,  1.,  1.,  0.,  1.,  1.],\n",
      "        [ 5., 43.,  1.,  1., 42., 42., 35.,  0.,  0.,  0.,  0.,  0.,  0.,  0.],\n",
      "        [ 2., 25.,  1.,  1., 25., 25., 21.,  1.,  2.,  1.,  2.,  0.,  1.,  1.],\n",
      "        [14., 40.,  1., 30., 39., 39., 32.,  1.,  3.,  1.,  4.,  0.,  3.,  1.],\n",
      "        [ 6., 51.,  1.,  2., 50., 50., 40.,  1.,  6.,  2.,  1.,  0.,  1.,  1.],\n",
      "        [ 3., 63.,  1.,  1., 61.,  2.,  3.,  1.,  4.,  1.,  3.,  0.,  1.,  1.],\n",
      "        [24., 68.,  1., 37., 66., 65., 50.,  1.,  4.,  1.,  3.,  0.,  2.,  1.],\n",
      "        [ 4., 87.,  2., 11., 85., 84., 59.,  3.,  2.,  1.,  2.,  1.,  1.,  1.],\n",
      "        [ 8.,  9.,  2.,  1., 10., 11.,  2.,  2.,  1.,  1.,  1.,  1.,  1.,  1.],\n",
      "        [ 4., 85.,  2., 46., 83., 82., 58.,  3.,  2.,  1.,  2.,  1.,  1.,  1.],\n",
      "        [ 1.,  2.,  1.,  8.,  4.,  5.,  9.,  1.,  1.,  1.,  1.,  0.,  1.,  1.],\n",
      "        [ 7., 22.,  2., 12., 22., 22.,  0.,  4.,  3.,  1.,  4.,  1.,  1.,  1.],\n",
      "        [13., 39.,  1., 29., 38., 38., 31.,  1.,  5.,  2.,  3.,  0.,  3.,  1.],\n",
      "        [13., 50.,  1., 36., 49., 49., 39.,  1.,  5.,  2.,  3.,  0.,  3.,  1.],\n",
      "        [ 5., 36.,  1.,  7., 35., 35., 28.,  0.,  0.,  0.,  0.,  0.,  0.,  0.],\n",
      "        [13., 60.,  1.,  2., 58., 58., 45.,  1.,  5.,  2.,  3.,  0.,  3.,  1.]],\n",
      "       dtype=torch.float64), tensor([0., 0., 0., 0., 0., 0., 0., 0., 0., 0., 0., 0., 0., 0., 0., 0., 0., 0.,\n",
      "        0., 0., 0., 0., 0., 0., 0., 0., 0., 0., 0., 0., 0., 0., 0., 0., 0., 0.,\n",
      "        0., 0., 0., 0., 0., 0., 0., 0., 0., 0., 0., 0., 0., 0., 0., 0., 0., 0.,\n",
      "        0., 1., 0., 0., 0., 0., 0., 0., 0., 0.], dtype=torch.float64)]\n"
     ]
    },
    {
     "name": "stderr",
     "output_type": "stream",
     "text": [
      "/usr/local/lib/python3.7/dist-packages/pytorch_lightning/core/datamodule.py:74: LightningDeprecationWarning: DataModule property `train_transforms` was deprecated in v1.5 and will be removed in v1.7.\n",
      "  \"DataModule property `train_transforms` was deprecated in v1.5 and will be removed in v1.7.\"\n",
      "Processing...\n",
      "Done!\n"
     ]
    }
   ],
   "source": [
    "ds = TaobaoDataModule(**params)\n",
    "ds.prepare_data()\n",
    "ds.setup()\n",
    "\n",
    "for batch in ds.train_dataloader():\n",
    "    print(batch)\n",
    "    break"
   ]
  },
  {
   "cell_type": "code",
   "execution_count": null,
   "metadata": {},
   "outputs": [
    {
     "name": "stdout",
     "output_type": "stream",
     "text": [
      "Author: Sparsh A.\n",
      "\n",
      "Last updated: 2022-01-11 14:40:05\n",
      "\n",
      "recohut: 0.0.11\n",
      "\n",
      "Compiler    : GCC 7.5.0\n",
      "OS          : Linux\n",
      "Release     : 5.4.144+\n",
      "Machine     : x86_64\n",
      "Processor   : x86_64\n",
      "CPU cores   : 2\n",
      "Architecture: 64bit\n",
      "\n",
      "numpy     : 1.19.5\n",
      "matplotlib: 3.2.2\n",
      "IPython   : 5.5.0\n",
      "PIL       : 7.1.2\n",
      "\n"
     ]
    }
   ],
   "source": [
    "#hide\n",
    "%reload_ext watermark\n",
    "%watermark -a \"Sparsh A.\" -m -iv -u -t -d -p recohut"
   ]
  }
 ],
 "metadata": {
  "kernelspec": {
   "display_name": "Python 3",
   "name": "python3"
  }
 },
 "nbformat": 4,
 "nbformat_minor": 0
}
