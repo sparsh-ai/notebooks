{
  "nbformat": 4,
  "nbformat_minor": 0,
  "metadata": {
    "colab": {
      "name": "2021-07-08-recsys-evaluation-metrics-part-3.ipynb",
      "provenance": [],
      "authorship_tag": "ABX9TyOoZwJnq92Qv+vGC4YZATgt"
    },
    "kernelspec": {
      "name": "python3",
      "display_name": "Python 3"
    },
    "language_info": {
      "name": "python"
    }
  },
  "cells": [
    {
      "cell_type": "markdown",
      "metadata": {
        "id": "7NSCxsVW1FVq"
      },
      "source": [
        "# Recommender System Evaluations - Part 3\n",
        "> Evaluation Recal, MRR and NDCG on simple dummpy data\n",
        "\n",
        "- toc: true\n",
        "- badges: true\n",
        "- comments: true\n",
        "- categories: [Evaluation]\n",
        "- image:"
      ]
    },
    {
      "cell_type": "code",
      "metadata": {
        "id": "sDkvK6p8zmVu"
      },
      "source": [
        "import sys\n",
        "import pathlib\n",
        "import numpy as np\n",
        "import pandas as pd\n",
        "import seaborn as sns\n",
        "import matplotlib.pyplot as plt\n",
        "from sklearn.metrics import ndcg_score, label_ranking_average_precision_score"
      ],
      "execution_count": 16,
      "outputs": []
    },
    {
      "cell_type": "markdown",
      "metadata": {
        "id": "HizU2VVO1CAW"
      },
      "source": [
        "## Recall Dummy\n"
      ]
    },
    {
      "cell_type": "code",
      "metadata": {
        "id": "dRz-7_7yzvlC"
      },
      "source": [
        "def recall(test_set, recs, K=10, userid_subset=[]):\n",
        "    \"\"\"For a test set, compute the % of users who have a hit in the top K.\n",
        "    Args:\n",
        "        test_set: DF with an entry for each user with the target edit-to-be-predicted\n",
        "        recs: Dict by userid of lists of pageid recs\n",
        "        K: Number of recs to consider when looking for a hit\n",
        "        userid_subset: Only compute for the userids in this list\n",
        "    Returns:\n",
        "        float of the mean number of test entries with hits in the top K\n",
        "    \"\"\"\n",
        "\n",
        "    if userid_subset is None:\n",
        "        userid_subset = []\n",
        "    userid_subset = set(userid_subset)\n",
        "\n",
        "    hits = [\n",
        "        pageid in recs[userid][:K]\n",
        "        for pageid, userid in zip(test_set.pageid, test_set.userid)\n",
        "        if (len(userid_subset) == 0) or (userid in userid_subset)\n",
        "    ]\n",
        "\n",
        "    return np.mean(hits)"
      ],
      "execution_count": 9,
      "outputs": []
    },
    {
      "cell_type": "code",
      "metadata": {
        "id": "CLYTQU4_zp_2"
      },
      "source": [
        "def test_recall_typical():\n",
        "    typical_test_set = pd.DataFrame(\n",
        "        {\n",
        "            \"userid\": [2, 31, 32, 70, 76],\n",
        "            \"pageid\": [18402344, 58812518, 1187097, 129540, 53864279],\n",
        "        }\n",
        "    )\n",
        "\n",
        "    recs = {\n",
        "        2: [63136688, 10849236, 19167679, 18402344, 19594028, 63055098],\n",
        "        31: [910445, 33372313, 64833595, 59118602, 56300556, 66093761],\n",
        "        32: [59799, 5595351, 140899, 27003186, 4494959, 6136828],\n",
        "        70: [25717, 65930, 2698660, 11376, 249268, 32188],\n",
        "        76: [67319458, 65564103, 64154311, 64373673, 67321086, 53864279],\n",
        "    }\n",
        "\n",
        "    print(recall(typical_test_set, recs, K=5, userid_subset=None))"
      ],
      "execution_count": 10,
      "outputs": []
    },
    {
      "cell_type": "code",
      "metadata": {
        "colab": {
          "base_uri": "https://localhost:8080/"
        },
        "id": "D9Q29t_x0BIE",
        "outputId": "b771acac-f3ba-4aaa-b5d9-36dc3ec8e60b"
      },
      "source": [
        "test_recall_typical()"
      ],
      "execution_count": 11,
      "outputs": [
        {
          "output_type": "stream",
          "text": [
            "0.2\n"
          ],
          "name": "stdout"
        }
      ]
    },
    {
      "cell_type": "code",
      "metadata": {
        "id": "JnexvRC_0O_3"
      },
      "source": [
        "def recall_curve(test_set, recs, max_k, userid_subset=None):\n",
        "    recall_vals = []\n",
        "    for K in np.arange(max_k) + 1:\n",
        "        recall_vals.append(recall(test_set, recs, K, userid_subset))\n",
        "\n",
        "    return recall_vals"
      ],
      "execution_count": 12,
      "outputs": []
    },
    {
      "cell_type": "code",
      "metadata": {
        "id": "HYcwx_WvzZWP"
      },
      "source": [
        "def test_recall_curve():\n",
        "    typical_test_set = pd.DataFrame(\n",
        "        {\n",
        "            \"userid\": [2, 31, 32, 70, 76],\n",
        "            \"pageid\": [18402344, 58812518, 1187097, 129540, 53864279],\n",
        "        }\n",
        "    )\n",
        "\n",
        "    recs = {\n",
        "        2: [63136688, 10849236, 19167679, 18402344, 19594028, 63055098],\n",
        "        31: [910445, 33372313, 64833595, 59118602, 56300556, 66093761],\n",
        "        32: [59799, 5595351, 140899, 27003186, 4494959, 6136828],\n",
        "        70: [25717, 65930, 2698660, 11376, 249268, 32188],\n",
        "        76: [67319458, 65564103, 64154311, 64373673, 67321086, 53864279],\n",
        "    }\n",
        "\n",
        "    curve = recall_curve(typical_test_set, recs, 5)\n",
        "    print(curve)"
      ],
      "execution_count": 13,
      "outputs": []
    },
    {
      "cell_type": "code",
      "metadata": {
        "colab": {
          "base_uri": "https://localhost:8080/"
        },
        "id": "Ce-HtkAEz6Ds",
        "outputId": "e2878144-f0dd-4aab-af8e-1c6e33305954"
      },
      "source": [
        "test_recall_curve()"
      ],
      "execution_count": 14,
      "outputs": [
        {
          "output_type": "stream",
          "text": [
            "[0.0, 0.0, 0.0, 0.2, 0.2]\n"
          ],
          "name": "stdout"
        }
      ]
    },
    {
      "cell_type": "markdown",
      "metadata": {
        "id": "vy3vc1LC0_gd"
      },
      "source": [
        "## MRR NDCG Dummy"
      ]
    },
    {
      "cell_type": "code",
      "metadata": {
        "ExecuteTime": {
          "end_time": "2021-05-31T17:26:02.848201Z",
          "start_time": "2021-05-31T17:26:02.018486Z"
        },
        "id": "5gcGSJiJzcJZ",
        "colab": {
          "base_uri": "https://localhost:8080/"
        },
        "outputId": "1dd78563-9957-4a53-ae6c-46c52f8add2d"
      },
      "source": [
        "K = 20\n",
        "dummy_y_score = 20 * [list(range(K))[::-1]]\n",
        "dummy_y_score"
      ],
      "execution_count": 17,
      "outputs": [
        {
          "output_type": "execute_result",
          "data": {
            "text/plain": [
              "[[19, 18, 17, 16, 15, 14, 13, 12, 11, 10, 9, 8, 7, 6, 5, 4, 3, 2, 1, 0],\n",
              " [19, 18, 17, 16, 15, 14, 13, 12, 11, 10, 9, 8, 7, 6, 5, 4, 3, 2, 1, 0],\n",
              " [19, 18, 17, 16, 15, 14, 13, 12, 11, 10, 9, 8, 7, 6, 5, 4, 3, 2, 1, 0],\n",
              " [19, 18, 17, 16, 15, 14, 13, 12, 11, 10, 9, 8, 7, 6, 5, 4, 3, 2, 1, 0],\n",
              " [19, 18, 17, 16, 15, 14, 13, 12, 11, 10, 9, 8, 7, 6, 5, 4, 3, 2, 1, 0],\n",
              " [19, 18, 17, 16, 15, 14, 13, 12, 11, 10, 9, 8, 7, 6, 5, 4, 3, 2, 1, 0],\n",
              " [19, 18, 17, 16, 15, 14, 13, 12, 11, 10, 9, 8, 7, 6, 5, 4, 3, 2, 1, 0],\n",
              " [19, 18, 17, 16, 15, 14, 13, 12, 11, 10, 9, 8, 7, 6, 5, 4, 3, 2, 1, 0],\n",
              " [19, 18, 17, 16, 15, 14, 13, 12, 11, 10, 9, 8, 7, 6, 5, 4, 3, 2, 1, 0],\n",
              " [19, 18, 17, 16, 15, 14, 13, 12, 11, 10, 9, 8, 7, 6, 5, 4, 3, 2, 1, 0],\n",
              " [19, 18, 17, 16, 15, 14, 13, 12, 11, 10, 9, 8, 7, 6, 5, 4, 3, 2, 1, 0],\n",
              " [19, 18, 17, 16, 15, 14, 13, 12, 11, 10, 9, 8, 7, 6, 5, 4, 3, 2, 1, 0],\n",
              " [19, 18, 17, 16, 15, 14, 13, 12, 11, 10, 9, 8, 7, 6, 5, 4, 3, 2, 1, 0],\n",
              " [19, 18, 17, 16, 15, 14, 13, 12, 11, 10, 9, 8, 7, 6, 5, 4, 3, 2, 1, 0],\n",
              " [19, 18, 17, 16, 15, 14, 13, 12, 11, 10, 9, 8, 7, 6, 5, 4, 3, 2, 1, 0],\n",
              " [19, 18, 17, 16, 15, 14, 13, 12, 11, 10, 9, 8, 7, 6, 5, 4, 3, 2, 1, 0],\n",
              " [19, 18, 17, 16, 15, 14, 13, 12, 11, 10, 9, 8, 7, 6, 5, 4, 3, 2, 1, 0],\n",
              " [19, 18, 17, 16, 15, 14, 13, 12, 11, 10, 9, 8, 7, 6, 5, 4, 3, 2, 1, 0],\n",
              " [19, 18, 17, 16, 15, 14, 13, 12, 11, 10, 9, 8, 7, 6, 5, 4, 3, 2, 1, 0],\n",
              " [19, 18, 17, 16, 15, 14, 13, 12, 11, 10, 9, 8, 7, 6, 5, 4, 3, 2, 1, 0]]"
            ]
          },
          "metadata": {
            "tags": []
          },
          "execution_count": 17
        }
      ]
    },
    {
      "cell_type": "code",
      "metadata": {
        "ExecuteTime": {
          "end_time": "2021-05-31T17:48:16.550480Z",
          "start_time": "2021-05-31T17:48:16.534574Z"
        },
        "id": "2JpUjWEyzcJb"
      },
      "source": [
        "y_true = np.zeros([20,20])"
      ],
      "execution_count": 18,
      "outputs": []
    },
    {
      "cell_type": "code",
      "metadata": {
        "ExecuteTime": {
          "end_time": "2021-05-31T17:48:34.414191Z",
          "start_time": "2021-05-31T17:48:34.407759Z"
        },
        "id": "xRP3XciRzcJc"
      },
      "source": [
        "for i in range(20):\n",
        "    y_true[i,i] = 1"
      ],
      "execution_count": 19,
      "outputs": []
    },
    {
      "cell_type": "code",
      "metadata": {
        "ExecuteTime": {
          "end_time": "2021-05-31T17:50:52.330975Z",
          "start_time": "2021-05-31T17:50:52.321771Z"
        },
        "id": "gBPAgrkozcJd",
        "colab": {
          "base_uri": "https://localhost:8080/"
        },
        "outputId": "e230d325-4ec5-4dcd-cdea-ad2b85294adc"
      },
      "source": [
        "dummy_y_score[i]"
      ],
      "execution_count": 20,
      "outputs": [
        {
          "output_type": "execute_result",
          "data": {
            "text/plain": [
              "[19, 18, 17, 16, 15, 14, 13, 12, 11, 10, 9, 8, 7, 6, 5, 4, 3, 2, 1, 0]"
            ]
          },
          "metadata": {
            "tags": []
          },
          "execution_count": 20
        }
      ]
    },
    {
      "cell_type": "code",
      "metadata": {
        "ExecuteTime": {
          "end_time": "2021-05-31T17:51:56.485141Z",
          "start_time": "2021-05-31T17:51:56.414856Z"
        },
        "id": "9fg3J4WzzcJe",
        "colab": {
          "base_uri": "https://localhost:8080/"
        },
        "outputId": "7c3ad6e3-a8a2-4c98-a7c1-23e1dc43f80c"
      },
      "source": [
        "for i in range(20):\n",
        "    print(label_ranking_average_precision_score([y_true[i,:]],[np.array(dummy_y_score)[i,:]]))"
      ],
      "execution_count": 21,
      "outputs": [
        {
          "output_type": "stream",
          "text": [
            "1.0\n",
            "0.5\n",
            "0.3333333333333333\n",
            "0.25\n",
            "0.2\n",
            "0.16666666666666666\n",
            "0.14285714285714285\n",
            "0.125\n",
            "0.1111111111111111\n",
            "0.1\n",
            "0.09090909090909091\n",
            "0.08333333333333333\n",
            "0.07692307692307693\n",
            "0.07142857142857142\n",
            "0.06666666666666667\n",
            "0.0625\n",
            "0.058823529411764705\n",
            "0.05555555555555555\n",
            "0.05263157894736842\n",
            "0.05\n"
          ],
          "name": "stdout"
        }
      ]
    },
    {
      "cell_type": "code",
      "metadata": {
        "ExecuteTime": {
          "end_time": "2021-05-31T21:47:54.058117Z",
          "start_time": "2021-05-31T21:47:54.004180Z"
        },
        "id": "E_JjSq9GzcJe"
      },
      "source": [
        "mmr = []\n",
        "ndcg = []\n",
        "for i in range(20):\n",
        "    mmr.append(label_ranking_average_precision_score([y_true[i,:]],[np.array(dummy_y_score)[i,:]]))\n",
        "    ndcg.append(ndcg_score([y_true[i,:]],[np.array(dummy_y_score)[i,:]]))"
      ],
      "execution_count": 22,
      "outputs": []
    },
    {
      "cell_type": "code",
      "metadata": {
        "ExecuteTime": {
          "end_time": "2021-05-31T22:05:12.061268Z",
          "start_time": "2021-05-31T22:05:11.731701Z"
        },
        "id": "c0mO5MB1zcJf",
        "colab": {
          "base_uri": "https://localhost:8080/",
          "height": 279
        },
        "outputId": "16b9855c-84e0-403d-b6a4-5291e53e195f"
      },
      "source": [
        "plt.plot(mmr,\".-\")\n",
        "plt.plot(ndcg,\".-\")\n",
        "plt.grid()\n",
        "plt.legend([\"Mean Reciprocal Rank\",\"nDCG\"])\n",
        "plt.xlabel(\"Position of target item\")\n",
        "plt.ylabel(\"Score for hit\")\n",
        "_ = plt.xticks(range(20),np.arange(20)+1)\n",
        "_ = plt.yticks(np.arange(0,1.1,0.2))"
      ],
      "execution_count": 23,
      "outputs": [
        {
          "output_type": "display_data",
          "data": {
            "image/png": "[encoded data removed]",
            "text/plain": [
              "<Figure size 432x288 with 1 Axes>"
            ]
          },
          "metadata": {
            "tags": [],
            "needs_background": "light"
          }
        }
      ]
    }
  ]
}