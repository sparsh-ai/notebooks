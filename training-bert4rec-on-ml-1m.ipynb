{
 "cells": [
  {
   "cell_type": "markdown",
   "metadata": {},
   "source": [
    "<a href=\"https://colab.research.google.com/github/RecoHut-Projects/recohut/blob/US632593/tutorials/modeling/training_bert4rec_on_ml_1m.ipynb\" target=\"_parent\"><img src=\"https://colab.research.google.com/assets/colab-badge.svg\" alt=\"Open In Colab\"/></a>"
   ]
  },
  {
   "cell_type": "code",
   "execution_count": null,
   "metadata": {},
   "outputs": [],
   "source": [
    "!pip install -q pytorch_lightning\n",
    "\n",
    "%cd /content\n",
    "!rm -rf recohut\n",
    "!git clone --branch v0.0.11.post3 https://github.com/RecoHut-Projects/recohut.git\n",
    "!pip install -U ./recohut"
   ]
  },
  {
   "cell_type": "code",
   "execution_count": null,
   "metadata": {},
   "outputs": [],
   "source": [
    "from recohut.datasets.movielens import ML1mDataModule_v2 as ML1mDataModule\n",
    "from recohut.models.bert4rec import BERT4Rec\n",
    "from recohut.trainers.pl_trainer import pl_trainer"
   ]
  },
  {
   "cell_type": "code",
   "execution_count": null,
   "metadata": {},
   "outputs": [],
   "source": [
    "class Args:\n",
    "    def __init__(self):\n",
    "        self.pad = 0\n",
    "        self.mask = 1\n",
    "        self.cap = 0\n",
    "        self.seed = 42\n",
    "        self.vocab_size = 10000\n",
    "        self.channels = 128\n",
    "        self.dropout = 0.4\n",
    "        self.learning_rate = 1e-4\n",
    "        self.history_size = 30\n",
    "        self.data_dir = '/content/data'\n",
    "        self.log_dir = '/content/recommender_logs'\n",
    "        self.model_dir = '/content/recommender_models'\n",
    "        self.batch_size = 32\n",
    "        self.shuffle = True\n",
    "        self.max_epochs = 5\n",
    "        self.val_epoch = 2\n",
    "        self.gpus = 1\n",
    "        self.monitor = 'val_checkpoint_on'\n",
    "        self.mode = 'min'\n",
    "\n",
    "args = Args()"
   ]
  },
  {
   "cell_type": "code",
   "execution_count": null,
   "metadata": {},
   "outputs": [],
   "source": [
    "from pytorch_lightning import Trainer\n",
    "\n",
    "def pl_trainer(model, datamodule, max_epochs=10, val_epoch=5, gpus=None, log_dir=None,\n",
    "               model_dir=None, monitor='val_loss', mode='min', *args, **kwargs):\n",
    "    log_dir = log_dir if log_dir is not None else os.getcwd()\n",
    "    model_dir = model_dir if model_dir is not None else os.getcwd()\n",
    "\n",
    "    trainer = Trainer(max_epochs=max_epochs, gpus=gpus)\n",
    "\n",
    "    trainer.fit(model, datamodule=datamodule)\n",
    "    test_result = trainer.test(model, datamodule=datamodule)\n",
    "    return test_result"
   ]
  },
  {
   "cell_type": "code",
   "execution_count": null,
   "metadata": {},
   "outputs": [
    {
     "name": "stderr",
     "output_type": "stream",
     "text": [
      "GPU available: True, used: True\n",
      "TPU available: False, using: 0 TPU cores\n",
      "IPU available: False, using: 0 IPUs\n",
      "LOCAL_RANK: 0 - CUDA_VISIBLE_DEVICES: [0]\n",
      "Missing logger folder: /content/lightning_logs\n",
      "\n",
      "  | Name                | Type               | Params\n",
      "-----------------------------------------------------------\n",
      "0 | item_embeddings     | Embedding          | 474 K \n",
      "1 | input_pos_embedding | Embedding          | 65.5 K\n",
      "2 | encoder             | TransformerEncoder | 3.6 M \n",
      "3 | linear_out          | Linear             | 478 K \n",
      "4 | do                  | Dropout            | 0     \n",
      "-----------------------------------------------------------\n",
      "4.6 M     Trainable params\n",
      "0         Non-trainable params\n",
      "4.6 M     Total params\n",
      "18.307    Total estimated model params size (MB)\n"
     ]
    },
    {
     "data": {
      "application/vnd.jupyter.widget-view+json": {
       "model_id": "930e83aaad0c416ebd4a297f01f81ba5",
       "version_major": 2,
       "version_minor": 0
      },
      "text/plain": [
       "Validation sanity check: 0it [00:00, ?it/s]"
      ]
     },
     "metadata": {},
     "output_type": "display_data"
    },
    {
     "data": {
      "application/vnd.jupyter.widget-view+json": {
       "model_id": "6c5a03043c204c14af063923fcbd621c",
       "version_major": 2,
       "version_minor": 0
      },
      "text/plain": [
       "Training: 0it [00:00, ?it/s]"
      ]
     },
     "metadata": {},
     "output_type": "display_data"
    },
    {
     "data": {
      "application/vnd.jupyter.widget-view+json": {
       "model_id": "af8f6a5a7c284908a3fb23502bedf281",
       "version_major": 2,
       "version_minor": 0
      },
      "text/plain": [
       "Validating: 0it [00:00, ?it/s]"
      ]
     },
     "metadata": {},
     "output_type": "display_data"
    },
    {
     "data": {
      "application/vnd.jupyter.widget-view+json": {
       "model_id": "256c6e156bd44803af3217e61aeb92b7",
       "version_major": 2,
       "version_minor": 0
      },
      "text/plain": [
       "Validating: 0it [00:00, ?it/s]"
      ]
     },
     "metadata": {},
     "output_type": "display_data"
    },
    {
     "data": {
      "application/vnd.jupyter.widget-view+json": {
       "model_id": "9501180a5d3948c999944a3bd02a4527",
       "version_major": 2,
       "version_minor": 0
      },
      "text/plain": [
       "Validating: 0it [00:00, ?it/s]"
      ]
     },
     "metadata": {},
     "output_type": "display_data"
    },
    {
     "data": {
      "application/vnd.jupyter.widget-view+json": {
       "model_id": "47292dee1b1545a19b4ba248f3e59835",
       "version_major": 2,
       "version_minor": 0
      },
      "text/plain": [
       "Validating: 0it [00:00, ?it/s]"
      ]
     },
     "metadata": {},
     "output_type": "display_data"
    },
    {
     "data": {
      "application/vnd.jupyter.widget-view+json": {
       "model_id": "15f7488c393e41fc885f7f04ce8803ed",
       "version_major": 2,
       "version_minor": 0
      },
      "text/plain": [
       "Validating: 0it [00:00, ?it/s]"
      ]
     },
     "metadata": {},
     "output_type": "display_data"
    },
    {
     "name": "stderr",
     "output_type": "stream",
     "text": [
      "Processing...\n",
      "Done!\n",
      "LOCAL_RANK: 0 - CUDA_VISIBLE_DEVICES: [0]\n"
     ]
    },
    {
     "data": {
      "application/vnd.jupyter.widget-view+json": {
       "model_id": "84b484df82684998ba0fe7e3c964c8fe",
       "version_major": 2,
       "version_minor": 0
      },
      "text/plain": [
       "Testing: 0it [00:00, ?it/s]"
      ]
     },
     "metadata": {},
     "output_type": "display_data"
    },
    {
     "name": "stdout",
     "output_type": "stream",
     "text": [
      "--------------------------------------------------------------------------------\n",
      "DATALOADER:0 TEST RESULTS\n",
      "{'test_accuracy': 0.002897351048886776, 'test_loss': 7.722610950469971}\n",
      "--------------------------------------------------------------------------------\n"
     ]
    }
   ],
   "source": [
    "ds = ML1mDataModule(data_sir=args.data_dir, **args.__dict__)\n",
    "ds.prepare_data()\n",
    "\n",
    "args.vocab_size = len(ds.data.mapping) + 2\n",
    "\n",
    "model = BERT4Rec(**args.__dict__)\n",
    "\n",
    "result_val = pl_trainer(model, ds, **args.__dict__)"
   ]
  }
 ],
 "metadata": {
  "kernelspec": {
   "display_name": "Python 3",
   "name": "python3"
  }
 },
 "nbformat": 4,
 "nbformat_minor": 0
}
