{
  "nbformat": 4,
  "nbformat_minor": 0,
  "metadata": {
    "kernelspec": {
      "display_name": "Python 3",
      "language": "python",
      "name": "python3"
    },
    "language_info": {
      "codemirror_mode": {
        "name": "ipython",
        "version": 3
      },
      "file_extension": ".py",
      "mimetype": "text/x-python",
      "name": "python",
      "nbconvert_exporter": "python",
      "pygments_lexer": "ipython3",
      "version": "3.6.6"
    },
    "colab": {
      "name": "2021-07-04-content-based-music-recommender-lyricsfreak.ipynb",
      "provenance": [],
      "toc_visible": true
    }
  },
  "cells": [
    {
      "cell_type": "markdown",
      "metadata": {
        "id": "zzkmBup61MsP"
      },
      "source": [
        "# Content-based method for song recommendation\n",
        "> Applying TF-IDF on song lyrics to find the similar songs for users using LyricsFreak dataset\n",
        "\n",
        "- toc: true\n",
        "- badges: true\n",
        "- comments: true\n",
        "- categories: [Songs, ContentBased, TFIDF]\n",
        "- author: \"<a href='https://github.com/ugis22/music_recommender'>Eugenia Inzaugarat</a>\"\n",
        "- image:"
      ]
    },
    {
      "cell_type": "markdown",
      "metadata": {
        "id": "Wfo_aABo1KfQ"
      },
      "source": [
        "One of the most used machine learning algorithms is recommendation systems. A **recommender** (or recommendation) **system** (or engine) is a filtering system which aim is to predict a rating or preference a user would give to an item, eg. a film, a product, a song, etc.\n",
        "\n",
        "Which type of recommender can we have?   \n",
        "\n",
        "There are two main types of recommender systems: \n",
        "- Content-based filters\n",
        "- Collaborative filters\n",
        "  \n",
        "> Content-based filters predicts what a user likes based on what that particular user has liked in the past. On the other hand, collaborative-based filters predict what a user like based on what other users, that are similar to that particular user, have liked.\n",
        "\n",
        "### Content-based filters\n",
        "\n",
        "Recommendations done using content-based recommenders can be seen as a user-specific classification problem. This classifier learns the user's likes and dislikes from the features of the song.\n",
        "\n",
        "The most straightforward approach is **keyword matching**.\n",
        "\n",
        "In a few words, the idea behind is to extract meaningful keywords present in a song description a user likes, search for the keywords in other song descriptions to estimate similarities among them, and based on that, recommend those songs to the user.\n",
        "\n",
        "*How is this performed?*\n",
        "\n",
        "In our case, because we are working with text and words, **Term Frequency-Inverse Document Frequency (TF-IDF)** can be used for this matching process.\n",
        "  \n",
        "We'll go through the steps for generating a **content-based** music recommender system."
      ]
    },
    {
      "cell_type": "markdown",
      "metadata": {
        "id": "WhK3oBjx1KfS"
      },
      "source": [
        "### Importing required libraries\n",
        "\n",
        "First, we'll import all the required libraries."
      ]
    },
    {
      "cell_type": "code",
      "metadata": {
        "id": "8aasRkrD1KfT"
      },
      "source": [
        "import numpy as np\n",
        "import pandas as pd"
      ],
      "execution_count": 1,
      "outputs": []
    },
    {
      "cell_type": "code",
      "metadata": {
        "id": "xSwQYacy1KfU"
      },
      "source": [
        "from typing import List, Dict"
      ],
      "execution_count": 2,
      "outputs": []
    },
    {
      "cell_type": "markdown",
      "metadata": {
        "id": "JnG7R4ry1KfV"
      },
      "source": [
        "We are going to use TfidfVectorizer from the Scikit-learn package again."
      ]
    },
    {
      "cell_type": "code",
      "metadata": {
        "id": "tQ7Pvp6E1KfW"
      },
      "source": [
        "from sklearn.feature_extraction.text import TfidfVectorizer\n",
        "from sklearn.metrics.pairwise import cosine_similarity"
      ],
      "execution_count": 3,
      "outputs": []
    },
    {
      "cell_type": "markdown",
      "metadata": {
        "id": "1AChOTis1KfW"
      },
      "source": [
        "### Dataset"
      ]
    },
    {
      "cell_type": "markdown",
      "metadata": {
        "id": "9TdYc2It1KfX"
      },
      "source": [
        "This dataset contains name, artist, and lyrics for *57650 songs in English*. The data has been acquired from LyricsFreak through scraping."
      ]
    },
    {
      "cell_type": "code",
      "metadata": {
        "id": "b7HzUVCD1KfY"
      },
      "source": [
        "songs = pd.read_parquet('https://github.com/recohut/reco-data/raw/master/lyricsfreak/v1/items.parquet.gzip')"
      ],
      "execution_count": 4,
      "outputs": []
    },
    {
      "cell_type": "code",
      "metadata": {
        "id": "KNKl8Anh1KfY",
        "colab": {
          "base_uri": "https://localhost:8080/",
          "height": 204
        },
        "outputId": "8fb346e9-f127-4177-f32c-a2d147ff52e4"
      },
      "source": [
        "songs.head()"
      ],
      "execution_count": 5,
      "outputs": [
        {
          "output_type": "execute_result",
          "data": {
            "text/html": [
              "<div>\n",
              "<style scoped>\n",
              "    .dataframe tbody tr th:only-of-type {\n",
              "        vertical-align: middle;\n",
              "    }\n",
              "\n",
              "    .dataframe tbody tr th {\n",
              "        vertical-align: top;\n",
              "    }\n",
              "\n",
              "    .dataframe thead th {\n",
              "        text-align: right;\n",
              "    }\n",
              "</style>\n",
              "<table border=\"1\" class=\"dataframe\">\n",
              "  <thead>\n",
              "    <tr style=\"text-align: right;\">\n",
              "      <th></th>\n",
              "      <th>artist</th>\n",
              "      <th>song</th>\n",
              "      <th>link</th>\n",
              "      <th>text</th>\n",
              "    </tr>\n",
              "  </thead>\n",
              "  <tbody>\n",
              "    <tr>\n",
              "      <th>0</th>\n",
              "      <td>ABBA</td>\n",
              "      <td>Ahe's My Kind Of Girl</td>\n",
              "      <td>/a/abba/ahes+my+kind+of+girl_20598417.html</td>\n",
              "      <td>Look at her face, it's a wonderful face  \\nAnd...</td>\n",
              "    </tr>\n",
              "    <tr>\n",
              "      <th>1</th>\n",
              "      <td>ABBA</td>\n",
              "      <td>Andante, Andante</td>\n",
              "      <td>/a/abba/andante+andante_20002708.html</td>\n",
              "      <td>Take it easy with me, please  \\nTouch me gentl...</td>\n",
              "    </tr>\n",
              "    <tr>\n",
              "      <th>2</th>\n",
              "      <td>ABBA</td>\n",
              "      <td>As Good As New</td>\n",
              "      <td>/a/abba/as+good+as+new_20003033.html</td>\n",
              "      <td>I'll never know why I had to go  \\nWhy I had t...</td>\n",
              "    </tr>\n",
              "    <tr>\n",
              "      <th>3</th>\n",
              "      <td>ABBA</td>\n",
              "      <td>Bang</td>\n",
              "      <td>/a/abba/bang_20598415.html</td>\n",
              "      <td>Making somebody happy is a question of give an...</td>\n",
              "    </tr>\n",
              "    <tr>\n",
              "      <th>4</th>\n",
              "      <td>ABBA</td>\n",
              "      <td>Bang-A-Boomerang</td>\n",
              "      <td>/a/abba/bang+a+boomerang_20002668.html</td>\n",
              "      <td>Making somebody happy is a question of give an...</td>\n",
              "    </tr>\n",
              "  </tbody>\n",
              "</table>\n",
              "</div>"
            ],
            "text/plain": [
              "  artist  ...                                               text\n",
              "0   ABBA  ...  Look at her face, it's a wonderful face  \\nAnd...\n",
              "1   ABBA  ...  Take it easy with me, please  \\nTouch me gentl...\n",
              "2   ABBA  ...  I'll never know why I had to go  \\nWhy I had t...\n",
              "3   ABBA  ...  Making somebody happy is a question of give an...\n",
              "4   ABBA  ...  Making somebody happy is a question of give an...\n",
              "\n",
              "[5 rows x 4 columns]"
            ]
          },
          "metadata": {
            "tags": []
          },
          "execution_count": 5
        }
      ]
    },
    {
      "cell_type": "markdown",
      "metadata": {
        "id": "5nPuwy6u1KfZ"
      },
      "source": [
        "Because of the dataset being so big, we are going to resample only 5000 random songs."
      ]
    },
    {
      "cell_type": "code",
      "metadata": {
        "id": "iJr37an61Kfa"
      },
      "source": [
        "songs = songs.sample(n=5000).drop('link', axis=1).reset_index(drop=True)"
      ],
      "execution_count": 6,
      "outputs": []
    },
    {
      "cell_type": "markdown",
      "metadata": {
        "id": "URqgskOa1Kfa"
      },
      "source": [
        "We can notice also the presence of `\\n` in the text, so we are going to remove it."
      ]
    },
    {
      "cell_type": "code",
      "metadata": {
        "id": "gSjdBiQ81Kfb"
      },
      "source": [
        "songs['text'] = songs['text'].str.replace(r'\\n', '')"
      ],
      "execution_count": 7,
      "outputs": []
    },
    {
      "cell_type": "markdown",
      "metadata": {
        "id": "Gm5Krbr22MQ5"
      },
      "source": [
        "## TF-IDF"
      ]
    },
    {
      "cell_type": "markdown",
      "metadata": {
        "id": "_-zKDYQg1Kfb"
      },
      "source": [
        "After that, we use TF-IDF vectorizerthat calculates the TF-IDF score for each song lyric, word-by-word. \n",
        "\n",
        "Here, we pay particular attention to the arguments we can specify."
      ]
    },
    {
      "cell_type": "code",
      "metadata": {
        "id": "rMllj_Hs1Kfb"
      },
      "source": [
        "tfidf = TfidfVectorizer(analyzer='word', stop_words='english')"
      ],
      "execution_count": 8,
      "outputs": []
    },
    {
      "cell_type": "code",
      "metadata": {
        "id": "Sq18HIqg1Kfc"
      },
      "source": [
        "lyrics_matrix = tfidf.fit_transform(songs['text'])"
      ],
      "execution_count": 9,
      "outputs": []
    },
    {
      "cell_type": "markdown",
      "metadata": {
        "id": "2nRSButX2Pc8"
      },
      "source": [
        "## Cosine similarity"
      ]
    },
    {
      "cell_type": "markdown",
      "metadata": {
        "id": "NPpLyZCr1Kfc"
      },
      "source": [
        "*How do we use this matrix for a recommendation?* \n",
        "\n",
        "We now need to calculate the similarity of one lyric to another. We are going to use **cosine similarity**.\n",
        "\n",
        "We want to calculate the cosine similarity of each item with every other item in the dataset. So we just pass the lyrics_matrix as argument."
      ]
    },
    {
      "cell_type": "code",
      "metadata": {
        "id": "a8qq0sO91Kfd"
      },
      "source": [
        "cosine_similarities = cosine_similarity(lyrics_matrix) "
      ],
      "execution_count": 10,
      "outputs": []
    },
    {
      "cell_type": "markdown",
      "metadata": {
        "id": "ltc6cp6B1Kfd"
      },
      "source": [
        "Once we get the similarities, we'll store in a dictionary the names of the 50  most similar songs for each song in our dataset."
      ]
    },
    {
      "cell_type": "code",
      "metadata": {
        "id": "4iNcSgYV1Kfd"
      },
      "source": [
        "similarities = {}"
      ],
      "execution_count": 11,
      "outputs": []
    },
    {
      "cell_type": "code",
      "metadata": {
        "id": "TiBFLfiV1Kfe"
      },
      "source": [
        "for i in range(len(cosine_similarities)):\n",
        "    # Now we'll sort each element in cosine_similarities and get the indexes of the songs. \n",
        "    similar_indices = cosine_similarities[i].argsort()[:-50:-1] \n",
        "    # After that, we'll store in similarities each name of the 50 most similar songs.\n",
        "    # Except the first one that is the same song.\n",
        "    similarities[songs['song'].iloc[i]] = [(cosine_similarities[i][x], songs['song'][x], songs['artist'][x]) for x in similar_indices][1:]"
      ],
      "execution_count": 12,
      "outputs": []
    },
    {
      "cell_type": "markdown",
      "metadata": {
        "id": "eNG2TV_k2SAw"
      },
      "source": [
        "## Model"
      ]
    },
    {
      "cell_type": "markdown",
      "metadata": {
        "id": "t20PLqAG1Kfe"
      },
      "source": [
        "After that, all the magic happens. We can use that similarity scores to access the most similar items and give a recommendation.\n",
        "\n",
        "For that, we'll define our Content based recommender class."
      ]
    },
    {
      "cell_type": "code",
      "metadata": {
        "id": "4h-qtqQA1Kff"
      },
      "source": [
        "class ContentBasedRecommender:\n",
        "    def __init__(self, matrix):\n",
        "        self.matrix_similar = matrix\n",
        "\n",
        "    def _print_message(self, song, recom_song):\n",
        "        rec_items = len(recom_song)\n",
        "        \n",
        "        print(f'The {rec_items} recommended songs for {song} are:')\n",
        "        for i in range(rec_items):\n",
        "            print(f\"Number {i+1}:\")\n",
        "            print(f\"{recom_song[i][1]} by {recom_song[i][2]} with {round(recom_song[i][0], 3)} similarity score\") \n",
        "            print(\"--------------------\")\n",
        "        \n",
        "    def recommend(self, recommendation):\n",
        "        # Get song to find recommendations for\n",
        "        song = recommendation['song']\n",
        "        # Get number of songs to recommend\n",
        "        number_songs = recommendation['number_songs']\n",
        "        # Get the number of songs most similars from matrix similarities\n",
        "        recom_song = self.matrix_similar[song][:number_songs]\n",
        "        # print each item\n",
        "        self._print_message(song=song, recom_song=recom_song)"
      ],
      "execution_count": 13,
      "outputs": []
    },
    {
      "cell_type": "markdown",
      "metadata": {
        "id": "Xe0etWnS1Kfg"
      },
      "source": [
        "Now, instantiate class"
      ]
    },
    {
      "cell_type": "code",
      "metadata": {
        "id": "PL-Y-yNJ1Kfh"
      },
      "source": [
        "recommedations = ContentBasedRecommender(similarities)"
      ],
      "execution_count": 14,
      "outputs": []
    },
    {
      "cell_type": "markdown",
      "metadata": {
        "id": "9SYt7rep2UcE"
      },
      "source": [
        "## Recommendations"
      ]
    },
    {
      "cell_type": "markdown",
      "metadata": {
        "id": "sStjSUZU1Kfh"
      },
      "source": [
        "Then, we are ready to pick a song from the dataset and make a recommendation."
      ]
    },
    {
      "cell_type": "code",
      "metadata": {
        "id": "-P7S5lMq1Kfh"
      },
      "source": [
        "recommendation = {\n",
        "    \"song\": songs['song'].iloc[10],\n",
        "    \"number_songs\": 4 \n",
        "}"
      ],
      "execution_count": 15,
      "outputs": []
    },
    {
      "cell_type": "code",
      "metadata": {
        "id": "52w0WqHj1Kfi",
        "colab": {
          "base_uri": "https://localhost:8080/"
        },
        "outputId": "ddca0d19-5c0c-4c7b-cb74-64beff9dadd7"
      },
      "source": [
        "recommedations.recommend(recommendation)"
      ],
      "execution_count": 16,
      "outputs": [
        {
          "output_type": "stream",
          "text": [
            "The 4 recommended songs for Over Now are:\n",
            "Number 1:\n",
            "Ladies Pay by Lou Reed with 0.253 similarity score\n",
            "--------------------\n",
            "Number 2:\n",
            "I Will by Usher with 0.251 similarity score\n",
            "--------------------\n",
            "Number 3:\n",
            "So Long by Everlast with 0.224 similarity score\n",
            "--------------------\n",
            "Number 4:\n",
            "Can't Find My Way by Phil Collins with 0.196 similarity score\n",
            "--------------------\n"
          ],
          "name": "stdout"
        }
      ]
    },
    {
      "cell_type": "markdown",
      "metadata": {
        "id": "dbaQl3Af1Kfi"
      },
      "source": [
        "And we can pick another random song and recommend again:"
      ]
    },
    {
      "cell_type": "code",
      "metadata": {
        "id": "Parq1nXP1Kfi"
      },
      "source": [
        "recommendation2 = {\n",
        "    \"song\": songs['song'].iloc[120],\n",
        "    \"number_songs\": 4 \n",
        "}"
      ],
      "execution_count": 17,
      "outputs": []
    },
    {
      "cell_type": "code",
      "metadata": {
        "id": "qdz2vzhH1Kfj",
        "colab": {
          "base_uri": "https://localhost:8080/"
        },
        "outputId": "92cbdc71-b592-4a26-f4ad-abe0ee36e683"
      },
      "source": [
        "recommedations.recommend(recommendation2)"
      ],
      "execution_count": 18,
      "outputs": [
        {
          "output_type": "stream",
          "text": [
            "The 4 recommended songs for Bad Things are:\n",
            "Number 1:\n",
            "That Joke Isn't Funny Anymore by Smiths with 0.351 similarity score\n",
            "--------------------\n",
            "Number 2:\n",
            "I Want You So Bad by Heart with 0.206 similarity score\n",
            "--------------------\n",
            "Number 3:\n",
            "Say It's Not True by Queen with 0.181 similarity score\n",
            "--------------------\n",
            "Number 4:\n",
            "Bad Or Good by Van Morrison with 0.167 similarity score\n",
            "--------------------\n"
          ],
          "name": "stdout"
        }
      ]
    }
  ]
}