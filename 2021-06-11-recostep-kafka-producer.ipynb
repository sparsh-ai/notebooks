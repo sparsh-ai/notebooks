{
 "cells": [
  {
   "cell_type": "markdown",
   "metadata": {
    "id": "h7LRAwH-L7eP"
   },
   "source": [
    "# Kafka MongoDB Real-time Streaming Kafka Producer\n",
    "> Sending events to Kafka broker in real-time\n",
    "\n",
    "- toc: true\n",
    "- badges: true\n",
    "- comments: true\n",
    "- categories: [kafka, real time]\n",
    "- image: "
   ]
  },
  {
   "cell_type": "code",
   "execution_count": 1,
   "metadata": {
    "colab": {
     "base_uri": "https://localhost:8080/"
    },
    "id": "eqHjK5UbBEqK",
    "outputId": "6fd57d88-339d-4857-f469-593261489da3"
   },
   "outputs": [
    {
     "name": "stdout",
     "output_type": "stream",
     "text": [
      "\u001b[K     |████████████████████████████████| 2.7MB 5.1MB/s \n",
      "\u001b[?25h"
     ]
    }
   ],
   "source": [
    "!pip install confluent_kafka -q"
   ]
  },
  {
   "cell_type": "code",
   "execution_count": 2,
   "metadata": {
    "id": "ppjOFhRnCTJu"
   },
   "outputs": [],
   "source": [
    "import json\n",
    "import sys\n",
    "import os\n",
    "import pandas as pd\n",
    "\n",
    "from confluent_kafka import Producer\n",
    "from confluent_kafka import Consumer, KafkaException, KafkaError"
   ]
  },
  {
   "cell_type": "code",
   "execution_count": 3,
   "metadata": {
    "colab": {
     "base_uri": "https://localhost:8080/"
    },
    "id": "OBkfvdEJJUjF",
    "outputId": "de3441a9-70fb-4d76-846a-dd4680ab8cac"
   },
   "outputs": [
    {
     "name": "stdout",
     "output_type": "stream",
     "text": [
      "--2021-06-11 16:23:29--  http://files.grouplens.org/datasets/movielens/ml-latest-small.zip\n",
      "Resolving files.grouplens.org (files.grouplens.org)... 128.101.65.152\n",
      "Connecting to files.grouplens.org (files.grouplens.org)|128.101.65.152|:80... connected.\n",
      "HTTP request sent, awaiting response... 200 OK\n",
      "Length: 978202 (955K) [application/zip]\n",
      "Saving to: ‘ml-latest-small.zip’\n",
      "\n",
      "ml-latest-small.zip 100%[===================>] 955.28K  4.56MB/s    in 0.2s    \n",
      "\n",
      "2021-06-11 16:23:29 (4.56 MB/s) - ‘ml-latest-small.zip’ saved [978202/978202]\n",
      "\n",
      "Archive:  ml-latest-small.zip\n",
      "   creating: ml-latest-small/\n",
      "  inflating: ml-latest-small/links.csv  \n",
      "  inflating: ml-latest-small/tags.csv  \n",
      "  inflating: ml-latest-small/ratings.csv  \n",
      "  inflating: ml-latest-small/README.txt  \n",
      "  inflating: ml-latest-small/movies.csv  \n"
     ]
    }
   ],
   "source": [
    "!wget http://files.grouplens.org/datasets/movielens/ml-latest-small.zip\n",
    "!unzip ml-latest-small.zip"
   ]
  },
  {
   "cell_type": "code",
   "execution_count": 4,
   "metadata": {
    "colab": {
     "base_uri": "https://localhost:8080/"
    },
    "id": "JcnH7FiTHqfJ",
    "outputId": "babb4fdf-9244-4b80-9c69-5b3093618aa8"
   },
   "outputs": [
    {
     "name": "stdout",
     "output_type": "stream",
     "text": [
      "{'movieId': 1, 'title': 'Toy Story (1995)', 'genres': 'Adventure|Animation|Children|Comedy|Fantasy'}\n"
     ]
    }
   ],
   "source": [
    "df = pd.read_csv('./ml-latest-small/movies.csv')\n",
    "df.to_json('df.json')\n",
    "df_json = pd.read_json('df.json')\n",
    "movie_list= df_json.to_dict(orient=\"records\")\n",
    "print(movie_list[0])"
   ]
  },
  {
   "cell_type": "markdown",
   "metadata": {
    "id": "t5fqJSfYK5Ac"
   },
   "source": [
    "### Producer Setup [notebook]"
   ]
  },
  {
   "cell_type": "code",
   "execution_count": 11,
   "metadata": {
    "id": "RXBtNbCTJZb2"
   },
   "outputs": [],
   "source": [
    "CLOUDKARAFKA_TOPIC = 'yx03wajr-demo'\n",
    "CLOUDKARAFKA_BROKERS = 'dory-01.srvs.cloudkafka.com:9094, \\\n",
    "dory-02.srvs.cloudkafka.com:9094, \\\n",
    "dory-03.srvs.cloudkafka.com:9094'\n",
    "CLOUDKARAFKA_USERNAME = 'yx03wajr'\n",
    "CLOUDKARAFKA_PASSWORD = 'pHva0afDUXPya6JfKrbM1******'"
   ]
  },
  {
   "cell_type": "code",
   "execution_count": 12,
   "metadata": {
    "id": "U0Ill6RU2DK-"
   },
   "outputs": [],
   "source": [
    "topic = CLOUDKARAFKA_TOPIC.split(\",\")[0]\n",
    "\n",
    "conf = {\n",
    "    'bootstrap.servers': CLOUDKARAFKA_BROKERS,\n",
    "    'session.timeout.ms': 6000,\n",
    "    'default.topic.config': {'auto.offset.reset': 'smallest'},\n",
    "    'security.protocol': 'SASL_SSL',\n",
    "    'sasl.mechanisms': 'SCRAM-SHA-256',\n",
    "    'sasl.username': CLOUDKARAFKA_USERNAME,\n",
    "    'sasl.password': CLOUDKARAFKA_PASSWORD\n",
    "    }"
   ]
  },
  {
   "cell_type": "code",
   "execution_count": 7,
   "metadata": {
    "id": "-rBf0QNBJR8B"
   },
   "outputs": [],
   "source": [
    "p = Producer(**conf)"
   ]
  },
  {
   "cell_type": "code",
   "execution_count": 8,
   "metadata": {
    "id": "sNdPhyNCKBA3"
   },
   "outputs": [],
   "source": [
    "def delivery_callback(err, msg):\n",
    "  if err:\n",
    "      sys.stderr.write('%% Message failed delivery: %s\\n' % err)\n",
    "  else:\n",
    "      sys.stderr.write('%% Message delivered to %s [%d]\\n' %\n",
    "                        (msg.topic(), msg.partition()))"
   ]
  },
  {
   "cell_type": "code",
   "execution_count": 9,
   "metadata": {
    "colab": {
     "base_uri": "https://localhost:8080/"
    },
    "id": "A-IYHF2pKNze",
    "outputId": "0bb2741a-781c-4c5f-b1e7-efc2f72104ac"
   },
   "outputs": [
    {
     "name": "stdout",
     "output_type": "stream",
     "text": [
      "Message to be send :  {'movieId': 1, 'title': 'Toy Story (1995)', 'genres': 'Adventure|Animation|Children|Comedy|Fantasy'}\n",
      "Message to be send :  {'movieId': 2, 'title': 'Jumanji (1995)', 'genres': 'Adventure|Children|Fantasy'}\n",
      "Message to be send :  {'movieId': 3, 'title': 'Grumpier Old Men (1995)', 'genres': 'Comedy|Romance'}\n",
      "Message to be send :  {'movieId': 4, 'title': 'Waiting to Exhale (1995)', 'genres': 'Comedy|Drama|Romance'}\n",
      "Message to be send :  {'movieId': 5, 'title': 'Father of the Bride Part II (1995)', 'genres': 'Comedy'}\n"
     ]
    },
    {
     "name": "stderr",
     "output_type": "stream",
     "text": [
      "% Waiting for 5 deliveries\n",
      "% Message delivered to yx03wajr-demo [1]\n",
      "% Message delivered to yx03wajr-demo [2]\n",
      "% Message delivered to yx03wajr-demo [0]\n",
      "% Message delivered to yx03wajr-demo [0]\n",
      "% Message delivered to yx03wajr-demo [0]\n"
     ]
    },
    {
     "data": {
      "text/plain": [
       "0"
      ]
     },
     "execution_count": 9,
     "metadata": {
      "tags": []
     },
     "output_type": "execute_result"
    }
   ],
   "source": [
    "for movie in movie_list[0:5]:\n",
    "    try:\n",
    "        print(\"Message to be send : \", movie)\n",
    "        p.produce(topic, str(movie), callback=delivery_callback)\n",
    "    except BufferError as e:\n",
    "        sys.stderr.write('%% Local producer queue is full (%d messages awaiting delivery): try again\\n' %\n",
    "                          len(p))\n",
    "    p.poll(0)\n",
    "\n",
    "sys.stderr.write('%% Waiting for %d deliveries\\n' % len(p))\n",
    "p.flush()"
   ]
  },
  {
   "cell_type": "markdown",
   "metadata": {
    "id": "M0_ITYAfN2E7"
   },
   "source": [
    "### Producer Setup [terminal]"
   ]
  },
  {
   "cell_type": "code",
   "execution_count": 13,
   "metadata": {
    "colab": {
     "base_uri": "https://localhost:8080/"
    },
    "id": "BHPP91vaM620",
    "outputId": "acc686e3-d027-4790-f551-1e4b0d5926c5"
   },
   "outputs": [
    {
     "name": "stdout",
     "output_type": "stream",
     "text": [
      "Overwriting producer.py\n"
     ]
    }
   ],
   "source": [
    "%%writefile producer.py\n",
    "\n",
    "import sys\n",
    "import os\n",
    "\n",
    "from confluent_kafka import Producer\n",
    "\n",
    "CLOUDKARAFKA_TOPIC = 'yx03wajr-demo'\n",
    "CLOUDKARAFKA_BROKERS = 'dory-01.srvs.cloudkafka.com:9094, \\\n",
    "dory-02.srvs.cloudkafka.com:9094, \\\n",
    "dory-03.srvs.cloudkafka.com:9094'\n",
    "CLOUDKARAFKA_USERNAME = 'yx03wajr'\n",
    "CLOUDKARAFKA_PASSWORD = 'pHva0afDUXPya6JfKrbM1******'\n",
    "\n",
    "if __name__ == '__main__':\n",
    "    topic = CLOUDKARAFKA_TOPIC.split(\",\")[0]\n",
    "\n",
    "    # Consumer configuration\n",
    "    # See https://github.com/edenhill/librdkafka/blob/master/CONFIGURATION.md\n",
    "    conf = {\n",
    "      'bootstrap.servers': CLOUDKARAFKA_BROKERS,\n",
    "      'session.timeout.ms': 6000,\n",
    "      'default.topic.config': {'auto.offset.reset': 'smallest'},\n",
    "      'security.protocol': 'SASL_SSL',\n",
    "      'sasl.mechanisms': 'SCRAM-SHA-256',\n",
    "      'sasl.username': CLOUDKARAFKA_USERNAME,\n",
    "      'sasl.password': CLOUDKARAFKA_PASSWORD\n",
    "      }\n",
    "\n",
    "    p = Producer(**conf)\n",
    "\n",
    "    def delivery_callback(err, msg):\n",
    "        if err:\n",
    "            sys.stderr.write('%% Message failed delivery: %s\\n' % err)\n",
    "        else:\n",
    "            sys.stderr.write('%% Message delivered to %s [%d]\\n' %\n",
    "                             (msg.topic(), msg.partition()))\n",
    "\n",
    "    for line in sys.stdin:\n",
    "        try:\n",
    "            p.produce(topic, line.rstrip(), callback=delivery_callback)\n",
    "        except BufferError as e:\n",
    "            sys.stderr.write('%% Local producer queue is full (%d messages awaiting delivery): try again\\n' %\n",
    "                             len(p))\n",
    "        p.poll(0)\n",
    "\n",
    "    sys.stderr.write('%% Waiting for %d deliveries\\n' % len(p))\n",
    "    p.flush()"
   ]
  },
  {
   "cell_type": "code",
   "execution_count": null,
   "metadata": {
    "colab": {
     "base_uri": "https://localhost:8080/"
    },
    "id": "tU7pY0SFNMF2",
    "outputId": "cff8f390-dd63-42b5-a1e0-f79322b3b3a7"
   },
   "outputs": [
    {
     "name": "stdout",
     "output_type": "stream",
     "text": [
      "%4|1623432412.565|CONFWARN|rdkafka#producer-1| [thrd:app]: Configuration property session.timeout.ms is a consumer property and will be ignored by this producer instance\n",
      "%4|1623432412.565|CONFWARN|rdkafka#producer-1| [thrd:app]: Configuration property auto.offset.reset is a consumer property and will be ignored by this producer instance\n",
      "{'movieId': 3, 'title': 'Grumpier Old Men (1995)', 'genres': 'Comedy|Romance'}\n"
     ]
    }
   ],
   "source": [
    "!python producer.py"
   ]
  }
 ],
 "metadata": {
  "colab": {
   "authorship_tag": "ABX9TyMIFQsY+HWvp1iNUzmLcA3r",
   "collapsed_sections": [],
   "mount_file_id": "1wrZuOohZ05eu_DRCg6Q3IT8wWjKpo06T",
   "name": "2021-06-11-recostep-kafka-producer.ipynb",
   "provenance": []
  },
  "kernelspec": {
   "display_name": "Python 3",
   "language": "python",
   "name": "python3"
  },
  "language_info": {
   "codemirror_mode": {
    "name": "ipython",
    "version": 3
   },
   "file_extension": ".py",
   "mimetype": "text/x-python",
   "name": "python",
   "nbconvert_exporter": "python",
   "pygments_lexer": "ipython3",
   "version": "3.7.3"
  }
 },
 "nbformat": 4,
 "nbformat_minor": 4
}
