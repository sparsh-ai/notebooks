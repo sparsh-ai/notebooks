{
  "nbformat": 4,
  "nbformat_minor": 0,
  "metadata": {
    "colab": {
      "name": "2021-07-02-training-indexing-movie-recommender.ipynb",
      "provenance": [],
      "toc_visible": true,
      "authorship_tag": "ABX9TyNT3h0Fx4lvwuj9CEnP0JfD"
    },
    "kernelspec": {
      "name": "python3",
      "display_name": "Python 3"
    },
    "language_info": {
      "name": "python"
    }
  },
  "cells": [
    {
      "cell_type": "markdown",
      "metadata": {
        "id": "q9Epz_ny0X9M"
      },
      "source": [
        "# Training and indexing movie recommender\n",
        "> Building tensorflow model on movielens latest small variant and indexing using NMSlib for efficient retrieval\n",
        "\n",
        "- toc: true\n",
        "- badges: true\n",
        "- comments: true\n",
        "- categories: [Tensorflow, Movie, NMSLib]\n",
        "- author: \"<a href='https://github.com/BastienVialla/MovieLens'>Bastien Vialla</a>\"\n",
        "- image:"
      ]
    },
    {
      "cell_type": "markdown",
      "metadata": {
        "id": "i452-P3ouLle"
      },
      "source": [
        "## Setup"
      ]
    },
    {
      "cell_type": "code",
      "metadata": {
        "colab": {
          "base_uri": "https://localhost:8080/"
        },
        "id": "ku66w6Lsx51X",
        "outputId": "fbf62aa9-d09a-4a15-a793-b08eb7e8c050"
      },
      "source": [
        "!pip install -q nmslib"
      ],
      "execution_count": 43,
      "outputs": [
        {
          "output_type": "stream",
          "text": [
            "\u001b[K     |████████████████████████████████| 13.5MB 189kB/s \n",
            "\u001b[K     |████████████████████████████████| 194kB 50.5MB/s \n",
            "\u001b[?25h"
          ],
          "name": "stdout"
        }
      ]
    },
    {
      "cell_type": "code",
      "metadata": {
        "id": "q4dUwWK9sH9K"
      },
      "source": [
        "import re\n",
        "import pandas as pd\n",
        "import numpy as np\n",
        "import math\n",
        "import matplotlib.pyplot as plt\n",
        "import pickle\n",
        "from pathlib import Path\n",
        "import seaborn as sns\n",
        "from sklearn.model_selection import train_test_split\n",
        "\n",
        "from keras.models import load_model, model_from_json\n",
        "from keras.models import Model as KerasModel\n",
        "from keras.layers import Input, Dense, Activation, Reshape, Dropout\n",
        "from keras.layers import Concatenate\n",
        "from keras.layers.embeddings import Embedding\n",
        "from keras.callbacks import ModelCheckpoint\n",
        "from keras import backend as K\n",
        "from keras import optimizers\n",
        "from pathlib import Path\n",
        "from sklearn.metrics import mean_squared_error\n",
        "\n",
        "import nmslib\n",
        "\n",
        "import warnings\n",
        "warnings.filterwarnings('ignore')"
      ],
      "execution_count": 23,
      "outputs": []
    },
    {
      "cell_type": "markdown",
      "metadata": {
        "id": "MOVLvLQ5uNPU"
      },
      "source": [
        "## Loading data"
      ]
    },
    {
      "cell_type": "code",
      "metadata": {
        "colab": {
          "base_uri": "https://localhost:8080/"
        },
        "id": "i2cGX0v-sx8s",
        "outputId": "bb1fa7af-95f2-4987-ecd3-0623047b615d"
      },
      "source": [
        "!wget http://files.grouplens.org/datasets/movielens/ml-latest-small.zip\n",
        "!unzip ml-latest-small.zip"
      ],
      "execution_count": 2,
      "outputs": [
        {
          "output_type": "stream",
          "text": [
            "--2021-07-02 10:11:40--  http://files.grouplens.org/datasets/movielens/ml-latest-small.zip\n",
            "Resolving files.grouplens.org (files.grouplens.org)... 128.101.65.152\n",
            "Connecting to files.grouplens.org (files.grouplens.org)|128.101.65.152|:80... connected.\n",
            "HTTP request sent, awaiting response... 200 OK\n",
            "Length: 978202 (955K) [application/zip]\n",
            "Saving to: ‘ml-latest-small.zip’\n",
            "\n",
            "ml-latest-small.zip 100%[===================>] 955.28K  2.67MB/s    in 0.3s    \n",
            "\n",
            "2021-07-02 10:11:40 (2.67 MB/s) - ‘ml-latest-small.zip’ saved [978202/978202]\n",
            "\n",
            "Archive:  ml-latest-small.zip\n",
            "   creating: ml-latest-small/\n",
            "  inflating: ml-latest-small/links.csv  \n",
            "  inflating: ml-latest-small/tags.csv  \n",
            "  inflating: ml-latest-small/ratings.csv  \n",
            "  inflating: ml-latest-small/README.txt  \n",
            "  inflating: ml-latest-small/movies.csv  \n"
          ],
          "name": "stdout"
        }
      ]
    },
    {
      "cell_type": "code",
      "metadata": {
        "colab": {
          "base_uri": "https://localhost:8080/",
          "height": 204
        },
        "id": "Ryuil9zms7Fz",
        "outputId": "1392fbfe-b3c2-457a-af34-a2aa4cd14db4"
      },
      "source": [
        "PATH = \"ml-latest-small\"\n",
        "ratings_raw = pd.read_csv(PATH+\"/ratings.csv\")\n",
        "ratings_raw.head()"
      ],
      "execution_count": 5,
      "outputs": [
        {
          "output_type": "execute_result",
          "data": {
            "text/html": [
              "<div>\n",
              "<style scoped>\n",
              "    .dataframe tbody tr th:only-of-type {\n",
              "        vertical-align: middle;\n",
              "    }\n",
              "\n",
              "    .dataframe tbody tr th {\n",
              "        vertical-align: top;\n",
              "    }\n",
              "\n",
              "    .dataframe thead th {\n",
              "        text-align: right;\n",
              "    }\n",
              "</style>\n",
              "<table border=\"1\" class=\"dataframe\">\n",
              "  <thead>\n",
              "    <tr style=\"text-align: right;\">\n",
              "      <th></th>\n",
              "      <th>userId</th>\n",
              "      <th>movieId</th>\n",
              "      <th>rating</th>\n",
              "      <th>timestamp</th>\n",
              "    </tr>\n",
              "  </thead>\n",
              "  <tbody>\n",
              "    <tr>\n",
              "      <th>0</th>\n",
              "      <td>1</td>\n",
              "      <td>1</td>\n",
              "      <td>4.0</td>\n",
              "      <td>964982703</td>\n",
              "    </tr>\n",
              "    <tr>\n",
              "      <th>1</th>\n",
              "      <td>1</td>\n",
              "      <td>3</td>\n",
              "      <td>4.0</td>\n",
              "      <td>964981247</td>\n",
              "    </tr>\n",
              "    <tr>\n",
              "      <th>2</th>\n",
              "      <td>1</td>\n",
              "      <td>6</td>\n",
              "      <td>4.0</td>\n",
              "      <td>964982224</td>\n",
              "    </tr>\n",
              "    <tr>\n",
              "      <th>3</th>\n",
              "      <td>1</td>\n",
              "      <td>47</td>\n",
              "      <td>5.0</td>\n",
              "      <td>964983815</td>\n",
              "    </tr>\n",
              "    <tr>\n",
              "      <th>4</th>\n",
              "      <td>1</td>\n",
              "      <td>50</td>\n",
              "      <td>5.0</td>\n",
              "      <td>964982931</td>\n",
              "    </tr>\n",
              "  </tbody>\n",
              "</table>\n",
              "</div>"
            ],
            "text/plain": [
              "   userId  movieId  rating  timestamp\n",
              "0       1        1     4.0  964982703\n",
              "1       1        3     4.0  964981247\n",
              "2       1        6     4.0  964982224\n",
              "3       1       47     5.0  964983815\n",
              "4       1       50     5.0  964982931"
            ]
          },
          "metadata": {
            "tags": []
          },
          "execution_count": 5
        }
      ]
    },
    {
      "cell_type": "code",
      "metadata": {
        "colab": {
          "base_uri": "https://localhost:8080/",
          "height": 204
        },
        "id": "cDytty0HtEkU",
        "outputId": "5284aaad-f31f-4d95-c066-a1af9ebbdfd3"
      },
      "source": [
        "movies_raw = pd.read_csv(PATH+\"/movies.csv\")\n",
        "movies_raw.head()"
      ],
      "execution_count": 6,
      "outputs": [
        {
          "output_type": "execute_result",
          "data": {
            "text/html": [
              "<div>\n",
              "<style scoped>\n",
              "    .dataframe tbody tr th:only-of-type {\n",
              "        vertical-align: middle;\n",
              "    }\n",
              "\n",
              "    .dataframe tbody tr th {\n",
              "        vertical-align: top;\n",
              "    }\n",
              "\n",
              "    .dataframe thead th {\n",
              "        text-align: right;\n",
              "    }\n",
              "</style>\n",
              "<table border=\"1\" class=\"dataframe\">\n",
              "  <thead>\n",
              "    <tr style=\"text-align: right;\">\n",
              "      <th></th>\n",
              "      <th>movieId</th>\n",
              "      <th>title</th>\n",
              "      <th>genres</th>\n",
              "    </tr>\n",
              "  </thead>\n",
              "  <tbody>\n",
              "    <tr>\n",
              "      <th>0</th>\n",
              "      <td>1</td>\n",
              "      <td>Toy Story (1995)</td>\n",
              "      <td>Adventure|Animation|Children|Comedy|Fantasy</td>\n",
              "    </tr>\n",
              "    <tr>\n",
              "      <th>1</th>\n",
              "      <td>2</td>\n",
              "      <td>Jumanji (1995)</td>\n",
              "      <td>Adventure|Children|Fantasy</td>\n",
              "    </tr>\n",
              "    <tr>\n",
              "      <th>2</th>\n",
              "      <td>3</td>\n",
              "      <td>Grumpier Old Men (1995)</td>\n",
              "      <td>Comedy|Romance</td>\n",
              "    </tr>\n",
              "    <tr>\n",
              "      <th>3</th>\n",
              "      <td>4</td>\n",
              "      <td>Waiting to Exhale (1995)</td>\n",
              "      <td>Comedy|Drama|Romance</td>\n",
              "    </tr>\n",
              "    <tr>\n",
              "      <th>4</th>\n",
              "      <td>5</td>\n",
              "      <td>Father of the Bride Part II (1995)</td>\n",
              "      <td>Comedy</td>\n",
              "    </tr>\n",
              "  </tbody>\n",
              "</table>\n",
              "</div>"
            ],
            "text/plain": [
              "   movieId  ...                                       genres\n",
              "0        1  ...  Adventure|Animation|Children|Comedy|Fantasy\n",
              "1        2  ...                   Adventure|Children|Fantasy\n",
              "2        3  ...                               Comedy|Romance\n",
              "3        4  ...                         Comedy|Drama|Romance\n",
              "4        5  ...                                       Comedy\n",
              "\n",
              "[5 rows x 3 columns]"
            ]
          },
          "metadata": {
            "tags": []
          },
          "execution_count": 6
        }
      ]
    },
    {
      "cell_type": "markdown",
      "metadata": {
        "id": "Br4bz4qVtUbZ"
      },
      "source": [
        "## Create dictionnaries to convert ids and indexes"
      ]
    },
    {
      "cell_type": "code",
      "metadata": {
        "colab": {
          "base_uri": "https://localhost:8080/"
        },
        "id": "8rnJVVxYtPss",
        "outputId": "b2280f7c-9033-4227-b38d-2cee1aaff178"
      },
      "source": [
        "ratings_train = ratings_raw.copy()\n",
        "\n",
        "users_uniq = ratings_train.userId.unique()\n",
        "user2idx = {o:i for i,o in enumerate(users_uniq)}\n",
        "idx2user = {i:o for i,o in enumerate(users_uniq)}\n",
        "ratings_train.userId = ratings_train.userId.apply(lambda x: user2idx[x])\n",
        "\n",
        "movies_uniq = ratings_train.movieId.unique()\n",
        "movie2idx = {o:i for i,o in enumerate(movies_uniq)}\n",
        "idx2movie = {i:o for i,o in enumerate(movies_uniq)}\n",
        "ratings_train.movieId = ratings_train.movieId.apply(lambda x: movie2idx[x])\n",
        "\n",
        "n_users = int(ratings_train.userId.nunique())\n",
        "n_movies = int(ratings_train.movieId.nunique())\n",
        "\n",
        "n_users, n_movies"
      ],
      "execution_count": 7,
      "outputs": [
        {
          "output_type": "execute_result",
          "data": {
            "text/plain": [
              "(610, 9724)"
            ]
          },
          "metadata": {
            "tags": []
          },
          "execution_count": 7
        }
      ]
    },
    {
      "cell_type": "code",
      "metadata": {
        "id": "rSYD5kRVtfhh"
      },
      "source": [
        "def save_obj(obj, name):  \n",
        "    with open(Path(f\"{name}.pkl\"), 'wb') as f:\n",
        "        pickle.dump(obj, f, pickle.HIGHEST_PROTOCOL)\n",
        "\n",
        "save_obj(user2idx, \"user2idx\")\n",
        "save_obj(idx2user, \"idx2user\")\n",
        "save_obj(movie2idx, \"movie2idx\")\n",
        "save_obj(idx2movie, \"idx2movie\")"
      ],
      "execution_count": 10,
      "outputs": []
    },
    {
      "cell_type": "markdown",
      "metadata": {
        "id": "b3FXwa4HuDmD"
      },
      "source": [
        "## Keras Model\n",
        "The model works as follows:\n",
        "1. Embedds the user and movie id.\n",
        "2. Concanate the user embedding, movie embedding and the weighted rating into one vector.\n",
        "3. Passes to linear layers with dropout.\n",
        "\n",
        "The architecture takes as parameters the embedding size, the size of hidden layers, and the dropout probability associate to them."
      ]
    },
    {
      "cell_type": "code",
      "metadata": {
        "id": "3SdU9sr6tn1v"
      },
      "source": [
        "class MovieNet: \n",
        "    def rmse(self, y, y_pred):\n",
        "        return K.sqrt(K.mean(K.square(y_pred - y)))\n",
        "\n",
        "    def custom_activation(self, x):\n",
        "        return K.sigmoid(x) * (self.max_rating+1)\n",
        "\n",
        "    def __init__(self, n_users, n_movies, min_rating=0.5, max_rating=5):\n",
        "        self.min_rating = min_rating\n",
        "        self.max_rating = max_rating\n",
        "        self.n_users = n_users\n",
        "        self.n_movies = n_movies\n",
        "        \n",
        "    def build_model(self, emb_size=[50, 50], hl=[10], drop=[0.25], emb_trainable=True):\n",
        "        inputs = [Input(shape=(1,)), Input(shape=(1,))] #, Input(shape=(1,))]\n",
        "        users_emb = Embedding(self.n_users, emb_size[0], name='users', trainable=emb_trainable)(inputs[0])\n",
        "        movies_emb = Embedding(self.n_movies, emb_size[1], name='movies', trainable=emb_trainable)(inputs[1])\n",
        "        outputs_emb = [Reshape(target_shape=(emb_size[0],))(users_emb), Reshape(target_shape=(emb_size[1],))(movies_emb)]\n",
        "        \n",
        "        output_model = Concatenate()(outputs_emb)\n",
        "        for i in range(0, len(hl)):\n",
        "            output_model = Dense(hl[i], kernel_initializer='uniform')(output_model)\n",
        "            output_model = Activation('relu')(output_model)\n",
        "            output_model = Dropout(drop[i])(output_model)\n",
        "\n",
        "        output_model = Dense(1)(output_model)\n",
        "\n",
        "        output_model = Activation(self.custom_activation)(output_model)\n",
        "        \n",
        "        self.model = KerasModel(inputs=inputs, outputs=output_model)\n",
        "        \n",
        "        opt = optimizers.Adam(learning_rate=0.001, beta_1=0.9, beta_2=0.999)\n",
        "        \n",
        "        self.model.compile(loss='mse', optimizer=opt, metrics=[self.rmse])\n",
        "        \n",
        "          \n",
        "    def prepare_input(self, _X):\n",
        "        X = [_X.userId.values, _X.movieId.values]#, _X.ratingWeight]\n",
        "        return X            \n",
        "            \n",
        "    def evaluate(self, X, y):\n",
        "        y_pred = self.predict(X)\n",
        "        return mean_squared_error(y, y_pred)\n",
        "    \n",
        "    def fit(self, X_train, y_train, X_valid, y_valid, epochs=50, batch_size=32, verbose=1):\n",
        "        self.model.fit(self.prepare_input(X_train), y_train,\n",
        "                       validation_data=(self.prepare_input(X_valid), y_valid),\n",
        "                      epochs=epochs, batch_size=batch_size, verbose=verbose)\n",
        "        # print(\"Result on validation data: \", self.evaluate(X_valid, y_valid))\n",
        "        \n",
        "    def predict(self, X):\n",
        "        y_pred = self.model.predict(self.prepare_input(X))\n",
        "        return y_pred.flatten()\n",
        "\n",
        "    def save_model(self, path=Path(\"\"), name=\"MovieModel\"):\n",
        "        self.model.save_weights(f\"{path}/{name}_weights.h5\")\n",
        "        with open(f\"{path}/{name}_arch.json\", 'w') as f:\n",
        "            f.write(self.model.to_json())\n",
        "    \n",
        "    def load_model(self, path=Path(\"\"), name=\"MovieModel\"):\n",
        "        with open(f\"{path}/{name}_arch.json\", 'r') as f:\n",
        "            self.model = model_from_json(f.read(), custom_objects={\"custom_activation\": self.custom_activation})\n",
        "        self.model.load_weights(f\"{path}/{name}_weights.h5\") "
      ],
      "execution_count": 16,
      "outputs": []
    },
    {
      "cell_type": "code",
      "metadata": {
        "id": "Y4phJVhkubkg"
      },
      "source": [
        "movie_model = MovieNet(n_users, n_movies)\n",
        "movie_model.build_model(emb_size=[50, 50], hl=[70, 10], drop=[0.4, 0.3])"
      ],
      "execution_count": 17,
      "outputs": []
    },
    {
      "cell_type": "code",
      "metadata": {
        "colab": {
          "base_uri": "https://localhost:8080/"
        },
        "id": "Y1FNGNvduhwD",
        "outputId": "d94071b9-3d9d-4373-f28b-1ede459e986f"
      },
      "source": [
        "X = ratings_train.drop(['timestamp', 'rating'], axis=1)\n",
        "y = ratings_train['rating']\n",
        "X_train, X_valid, y_train, y_valid = train_test_split(X, y, test_size=0.2)\n",
        "len(X_train), len(X_valid), len(y_train), len(y_valid)"
      ],
      "execution_count": 18,
      "outputs": [
        {
          "output_type": "execute_result",
          "data": {
            "text/plain": [
              "(80668, 20168, 80668, 20168)"
            ]
          },
          "metadata": {
            "tags": []
          },
          "execution_count": 18
        }
      ]
    },
    {
      "cell_type": "markdown",
      "metadata": {
        "id": "iaL4HFnwvf66"
      },
      "source": [
        "It's important that every movie are in the training set to have trained embedding of each of them."
      ]
    },
    {
      "cell_type": "code",
      "metadata": {
        "colab": {
          "base_uri": "https://localhost:8080/"
        },
        "id": "Hx_kRu0tvdrz",
        "outputId": "6eb78da3-497d-4bb5-8299-8f2b1ef4663a"
      },
      "source": [
        "len(X_train[\"movieId\"].unique()), n_movies, n_movies - len(X_train[\"movieId\"].unique())"
      ],
      "execution_count": 19,
      "outputs": [
        {
          "output_type": "execute_result",
          "data": {
            "text/plain": [
              "(9015, 9724, 709)"
            ]
          },
          "metadata": {
            "tags": []
          },
          "execution_count": 19
        }
      ]
    },
    {
      "cell_type": "code",
      "metadata": {
        "id": "THWmFnBbvjzE"
      },
      "source": [
        "miss_movies = ratings_train[~ratings_train.movieId.isin(X_train[\"movieId\"].unique())][\"movieId\"].unique()"
      ],
      "execution_count": 20,
      "outputs": []
    },
    {
      "cell_type": "code",
      "metadata": {
        "colab": {
          "base_uri": "https://localhost:8080/",
          "height": 204
        },
        "id": "mnrgIsHxvlma",
        "outputId": "a1c62716-4e2c-4b79-d15e-60f846b7e404"
      },
      "source": [
        "concat = pd.DataFrame()\n",
        "for i in miss_movies:\n",
        "    concat = concat.append(ratings_train[ratings_train.movieId == i].sample(1))\n",
        "    \n",
        "concat.head()"
      ],
      "execution_count": 21,
      "outputs": [
        {
          "output_type": "execute_result",
          "data": {
            "text/html": [
              "<div>\n",
              "<style scoped>\n",
              "    .dataframe tbody tr th:only-of-type {\n",
              "        vertical-align: middle;\n",
              "    }\n",
              "\n",
              "    .dataframe tbody tr th {\n",
              "        vertical-align: top;\n",
              "    }\n",
              "\n",
              "    .dataframe thead th {\n",
              "        text-align: right;\n",
              "    }\n",
              "</style>\n",
              "<table border=\"1\" class=\"dataframe\">\n",
              "  <thead>\n",
              "    <tr style=\"text-align: right;\">\n",
              "      <th></th>\n",
              "      <th>userId</th>\n",
              "      <th>movieId</th>\n",
              "      <th>rating</th>\n",
              "      <th>timestamp</th>\n",
              "    </tr>\n",
              "  </thead>\n",
              "  <tbody>\n",
              "    <tr>\n",
              "      <th>291</th>\n",
              "      <td>2</td>\n",
              "      <td>282</td>\n",
              "      <td>4.5</td>\n",
              "      <td>1306464021</td>\n",
              "    </tr>\n",
              "    <tr>\n",
              "      <th>292</th>\n",
              "      <td>2</td>\n",
              "      <td>283</td>\n",
              "      <td>5.0</td>\n",
              "      <td>1306463825</td>\n",
              "    </tr>\n",
              "    <tr>\n",
              "      <th>294</th>\n",
              "      <td>2</td>\n",
              "      <td>285</td>\n",
              "      <td>5.0</td>\n",
              "      <td>1306463670</td>\n",
              "    </tr>\n",
              "    <tr>\n",
              "      <th>637</th>\n",
              "      <td>5</td>\n",
              "      <td>541</td>\n",
              "      <td>3.0</td>\n",
              "      <td>845556241</td>\n",
              "    </tr>\n",
              "    <tr>\n",
              "      <th>728</th>\n",
              "      <td>5</td>\n",
              "      <td>614</td>\n",
              "      <td>3.0</td>\n",
              "      <td>845556412</td>\n",
              "    </tr>\n",
              "  </tbody>\n",
              "</table>\n",
              "</div>"
            ],
            "text/plain": [
              "     userId  movieId  rating   timestamp\n",
              "291       2      282     4.5  1306464021\n",
              "292       2      283     5.0  1306463825\n",
              "294       2      285     5.0  1306463670\n",
              "637       5      541     3.0   845556241\n",
              "728       5      614     3.0   845556412"
            ]
          },
          "metadata": {
            "tags": []
          },
          "execution_count": 21
        }
      ]
    },
    {
      "cell_type": "markdown",
      "metadata": {
        "id": "lVsjsjJ_we8z"
      },
      "source": [
        "### Train and save model"
      ]
    },
    {
      "cell_type": "code",
      "metadata": {
        "colab": {
          "base_uri": "https://localhost:8080/"
        },
        "id": "VeBXycPmvpWU",
        "outputId": "91186dbd-ed93-431f-9f12-fe1d16c2d4c6"
      },
      "source": [
        "X_valid.drop(concat.index, axis=0, inplace=True)\n",
        "y_valid.drop(concat.index, axis=0, inplace=True)\n",
        "\n",
        "X_train = pd.concat([X_train, concat.drop([\"rating\", \"timestamp\"], axis=1)])\n",
        "y_train = pd.concat([y_train, concat[\"rating\"]])\n",
        "\n",
        "len(X_train[\"movieId\"].unique()), n_movies"
      ],
      "execution_count": 25,
      "outputs": [
        {
          "output_type": "execute_result",
          "data": {
            "text/plain": [
              "(9724, 9724)"
            ]
          },
          "metadata": {
            "tags": []
          },
          "execution_count": 25
        }
      ]
    },
    {
      "cell_type": "code",
      "metadata": {
        "colab": {
          "base_uri": "https://localhost:8080/"
        },
        "id": "P9pspL8Bvs3x",
        "outputId": "784b3268-2628-4f61-9e40-b226e66f3019"
      },
      "source": [
        "movie_model.fit(X_train, y_train, X_valid, y_valid, epochs=5, batch_size=512)"
      ],
      "execution_count": 26,
      "outputs": [
        {
          "output_type": "stream",
          "text": [
            "Epoch 1/5\n",
            "159/159 [==============================] - 17s 11ms/step - loss: 1.0931 - rmse: 1.0419 - val_loss: 0.7839 - val_rmse: 0.8739\n",
            "Epoch 2/5\n",
            "159/159 [==============================] - 1s 7ms/step - loss: 0.7692 - rmse: 0.8765 - val_loss: 0.7445 - val_rmse: 0.8491\n",
            "Epoch 3/5\n",
            "159/159 [==============================] - 1s 7ms/step - loss: 0.7151 - rmse: 0.8449 - val_loss: 0.7357 - val_rmse: 0.8435\n",
            "Epoch 4/5\n",
            "159/159 [==============================] - 1s 7ms/step - loss: 0.6707 - rmse: 0.8185 - val_loss: 0.7344 - val_rmse: 0.8434\n",
            "Epoch 5/5\n",
            "159/159 [==============================] - 1s 8ms/step - loss: 0.6454 - rmse: 0.8027 - val_loss: 0.7376 - val_rmse: 0.8471\n"
          ],
          "name": "stdout"
        }
      ]
    },
    {
      "cell_type": "code",
      "metadata": {
        "id": "36IRGfdtv-uB"
      },
      "source": [
        "movie_model.save_model(name=\"movie_model\")"
      ],
      "execution_count": 27,
      "outputs": []
    },
    {
      "cell_type": "markdown",
      "metadata": {
        "id": "TiVrv7fLwaw3"
      },
      "source": [
        "## Load objects"
      ]
    },
    {
      "cell_type": "code",
      "metadata": {
        "colab": {
          "base_uri": "https://localhost:8080/",
          "height": 204
        },
        "id": "S2LS9TH4xEV6",
        "outputId": "41666fa8-c6c1-4442-a55b-9bc39d7740ba"
      },
      "source": [
        "PATH = 'ml-latest-small'\n",
        "ratings_raw = pd.read_csv(PATH+\"/ratings.csv\")\n",
        "movies_raw = pd.read_csv(PATH+\"/movies.csv\")\n",
        "\n",
        "def load_obj(name):  \n",
        "    with open(Path(f\"{name}.pkl\"), 'rb') as f:\n",
        "        return pickle.load(f)\n",
        "\n",
        "user2idx = load_obj(\"user2idx\")\n",
        "idx2user = load_obj(\"idx2user\")\n",
        "movie2idx = load_obj(\"movie2idx\")\n",
        "idx2movie = load_obj(\"idx2movie\")\n",
        "\n",
        "ratings = ratings_raw.copy()\n",
        "ratings[\"userId\"] = ratings[\"userId\"].apply(lambda x: user2idx[x])\n",
        "ratings[\"movieId\"] = ratings[\"movieId\"].apply(lambda x: movie2idx[x])\n",
        "ratings.head()"
      ],
      "execution_count": 37,
      "outputs": [
        {
          "output_type": "execute_result",
          "data": {
            "text/html": [
              "<div>\n",
              "<style scoped>\n",
              "    .dataframe tbody tr th:only-of-type {\n",
              "        vertical-align: middle;\n",
              "    }\n",
              "\n",
              "    .dataframe tbody tr th {\n",
              "        vertical-align: top;\n",
              "    }\n",
              "\n",
              "    .dataframe thead th {\n",
              "        text-align: right;\n",
              "    }\n",
              "</style>\n",
              "<table border=\"1\" class=\"dataframe\">\n",
              "  <thead>\n",
              "    <tr style=\"text-align: right;\">\n",
              "      <th></th>\n",
              "      <th>userId</th>\n",
              "      <th>movieId</th>\n",
              "      <th>rating</th>\n",
              "      <th>timestamp</th>\n",
              "    </tr>\n",
              "  </thead>\n",
              "  <tbody>\n",
              "    <tr>\n",
              "      <th>0</th>\n",
              "      <td>0</td>\n",
              "      <td>0</td>\n",
              "      <td>4.0</td>\n",
              "      <td>964982703</td>\n",
              "    </tr>\n",
              "    <tr>\n",
              "      <th>1</th>\n",
              "      <td>0</td>\n",
              "      <td>1</td>\n",
              "      <td>4.0</td>\n",
              "      <td>964981247</td>\n",
              "    </tr>\n",
              "    <tr>\n",
              "      <th>2</th>\n",
              "      <td>0</td>\n",
              "      <td>2</td>\n",
              "      <td>4.0</td>\n",
              "      <td>964982224</td>\n",
              "    </tr>\n",
              "    <tr>\n",
              "      <th>3</th>\n",
              "      <td>0</td>\n",
              "      <td>3</td>\n",
              "      <td>5.0</td>\n",
              "      <td>964983815</td>\n",
              "    </tr>\n",
              "    <tr>\n",
              "      <th>4</th>\n",
              "      <td>0</td>\n",
              "      <td>4</td>\n",
              "      <td>5.0</td>\n",
              "      <td>964982931</td>\n",
              "    </tr>\n",
              "  </tbody>\n",
              "</table>\n",
              "</div>"
            ],
            "text/plain": [
              "   userId  movieId  rating  timestamp\n",
              "0       0        0     4.0  964982703\n",
              "1       0        1     4.0  964981247\n",
              "2       0        2     4.0  964982224\n",
              "3       0        3     5.0  964983815\n",
              "4       0        4     5.0  964982931"
            ]
          },
          "metadata": {
            "tags": []
          },
          "execution_count": 37
        }
      ]
    },
    {
      "cell_type": "code",
      "metadata": {
        "id": "5bWxU-Dov_El"
      },
      "source": [
        "movie_model = MovieNet(n_users, n_movies)\n",
        "movie_model.load_model(name=\"movie_model\")"
      ],
      "execution_count": 30,
      "outputs": []
    },
    {
      "cell_type": "markdown",
      "metadata": {
        "id": "wfMACIA5yIA6"
      },
      "source": [
        "## Prediction"
      ]
    },
    {
      "cell_type": "code",
      "metadata": {
        "id": "OwOua4l6woBI"
      },
      "source": [
        "X_pred = pd.DataFrame({\"userId\": [0 for _ in range(n_movies)], \"movieId\": [i for i in range(n_movies)]})"
      ],
      "execution_count": 31,
      "outputs": []
    },
    {
      "cell_type": "code",
      "metadata": {
        "id": "t1MvHN1Jw2tA"
      },
      "source": [
        "def predict_user(user_id):\n",
        "    X_pred[\"userId\"] = X_pred.userId.apply(lambda x: user_id)\n",
        "    preds = movie_model.predict(X_pred)\n",
        "    df_preds = pd.DataFrame({\"pred\": preds, \"movieId\": [i for i in range(n_movies)],\n",
        "                             \"title\": [movies_raw.loc[movies_raw.movieId == idx2movie[i]][\"title\"].values[0] for i in range(n_movies)]})\n",
        "    return df_preds\n",
        "\n",
        "def suggest_user(user_id, m=10):\n",
        "    preds = predict_user(user_id)\n",
        "    preds.sort_values(\"pred\", ascending=False, inplace=True)\n",
        "    r = ratings[ratings.userId == 0][\"movieId\"].values\n",
        "    preds.drop(r, axis=0, inplace=True)\n",
        "    return preds.drop(\"movieId\", axis=1)[:m]\n",
        "\n",
        "def user_rating(user_id):\n",
        "    preds = predict_user(user_id)\n",
        "    return pd.merge(ratings[ratings.userId == user_id][[\"rating\", \"movieId\"]], preds, on=\"movieId\")"
      ],
      "execution_count": 32,
      "outputs": []
    },
    {
      "cell_type": "code",
      "metadata": {
        "colab": {
          "base_uri": "https://localhost:8080/"
        },
        "id": "0kyMLGNRw3FH",
        "outputId": "d29a5821-e956-41f7-9b15-f56b24d16283"
      },
      "source": [
        "user_id = np.random.randint(0, n_users)\n",
        "user_id"
      ],
      "execution_count": 33,
      "outputs": [
        {
          "output_type": "execute_result",
          "data": {
            "text/plain": [
              "189"
            ]
          },
          "metadata": {
            "tags": []
          },
          "execution_count": 33
        }
      ]
    },
    {
      "cell_type": "code",
      "metadata": {
        "colab": {
          "base_uri": "https://localhost:8080/",
          "height": 359
        },
        "id": "vJGmB9row5et",
        "outputId": "8f8079f0-3628-454d-e958-0d426cea9088"
      },
      "source": [
        "preds = user_rating(user_id).sort_values(\"rating\", ascending=False)[:]\n",
        "preds.head(10)"
      ],
      "execution_count": 39,
      "outputs": [
        {
          "output_type": "execute_result",
          "data": {
            "text/html": [
              "<div>\n",
              "<style scoped>\n",
              "    .dataframe tbody tr th:only-of-type {\n",
              "        vertical-align: middle;\n",
              "    }\n",
              "\n",
              "    .dataframe tbody tr th {\n",
              "        vertical-align: top;\n",
              "    }\n",
              "\n",
              "    .dataframe thead th {\n",
              "        text-align: right;\n",
              "    }\n",
              "</style>\n",
              "<table border=\"1\" class=\"dataframe\">\n",
              "  <thead>\n",
              "    <tr style=\"text-align: right;\">\n",
              "      <th></th>\n",
              "      <th>rating</th>\n",
              "      <th>movieId</th>\n",
              "      <th>pred</th>\n",
              "      <th>title</th>\n",
              "    </tr>\n",
              "  </thead>\n",
              "  <tbody>\n",
              "    <tr>\n",
              "      <th>32</th>\n",
              "      <td>5.0</td>\n",
              "      <td>763</td>\n",
              "      <td>3.563197</td>\n",
              "      <td>Harry Potter and the Chamber of Secrets (2002)</td>\n",
              "    </tr>\n",
              "    <tr>\n",
              "      <th>60</th>\n",
              "      <td>5.0</td>\n",
              "      <td>3149</td>\n",
              "      <td>3.375989</td>\n",
              "      <td>Life Aquatic with Steve Zissou, The (2004)</td>\n",
              "    </tr>\n",
              "    <tr>\n",
              "      <th>18</th>\n",
              "      <td>5.0</td>\n",
              "      <td>457</td>\n",
              "      <td>3.608593</td>\n",
              "      <td>Harry Potter and the Sorcerer's Stone (a.k.a. ...</td>\n",
              "    </tr>\n",
              "    <tr>\n",
              "      <th>48</th>\n",
              "      <td>5.0</td>\n",
              "      <td>1129</td>\n",
              "      <td>4.081214</td>\n",
              "      <td>Eternal Sunshine of the Spotless Mind (2004)</td>\n",
              "    </tr>\n",
              "    <tr>\n",
              "      <th>43</th>\n",
              "      <td>5.0</td>\n",
              "      <td>2046</td>\n",
              "      <td>4.013078</td>\n",
              "      <td>Lost in Translation (2003)</td>\n",
              "    </tr>\n",
              "    <tr>\n",
              "      <th>51</th>\n",
              "      <td>5.0</td>\n",
              "      <td>779</td>\n",
              "      <td>3.931088</td>\n",
              "      <td>Harry Potter and the Prisoner of Azkaban (2004)</td>\n",
              "    </tr>\n",
              "    <tr>\n",
              "      <th>24</th>\n",
              "      <td>5.0</td>\n",
              "      <td>3182</td>\n",
              "      <td>3.747530</td>\n",
              "      <td>And Your Mother Too (Y tu mamá también) (2001)</td>\n",
              "    </tr>\n",
              "    <tr>\n",
              "      <th>37</th>\n",
              "      <td>5.0</td>\n",
              "      <td>1146</td>\n",
              "      <td>4.204359</td>\n",
              "      <td>City of God (Cidade de Deus) (2002)</td>\n",
              "    </tr>\n",
              "    <tr>\n",
              "      <th>20</th>\n",
              "      <td>5.0</td>\n",
              "      <td>1125</td>\n",
              "      <td>4.156560</td>\n",
              "      <td>Amelie (Fabuleux destin d'Amélie Poulain, Le) ...</td>\n",
              "    </tr>\n",
              "    <tr>\n",
              "      <th>61</th>\n",
              "      <td>5.0</td>\n",
              "      <td>917</td>\n",
              "      <td>3.701892</td>\n",
              "      <td>Harry Potter and the Half-Blood Prince (2009)</td>\n",
              "    </tr>\n",
              "  </tbody>\n",
              "</table>\n",
              "</div>"
            ],
            "text/plain": [
              "    rating  ...                                              title\n",
              "32     5.0  ...     Harry Potter and the Chamber of Secrets (2002)\n",
              "60     5.0  ...         Life Aquatic with Steve Zissou, The (2004)\n",
              "18     5.0  ...  Harry Potter and the Sorcerer's Stone (a.k.a. ...\n",
              "48     5.0  ...       Eternal Sunshine of the Spotless Mind (2004)\n",
              "43     5.0  ...                         Lost in Translation (2003)\n",
              "51     5.0  ...    Harry Potter and the Prisoner of Azkaban (2004)\n",
              "24     5.0  ...     And Your Mother Too (Y tu mamá también) (2001)\n",
              "37     5.0  ...                City of God (Cidade de Deus) (2002)\n",
              "20     5.0  ...  Amelie (Fabuleux destin d'Amélie Poulain, Le) ...\n",
              "61     5.0  ...      Harry Potter and the Half-Blood Prince (2009)\n",
              "\n",
              "[10 rows x 4 columns]"
            ]
          },
          "metadata": {
            "tags": []
          },
          "execution_count": 39
        }
      ]
    },
    {
      "cell_type": "code",
      "metadata": {
        "colab": {
          "base_uri": "https://localhost:8080/",
          "height": 300
        },
        "id": "G13Nfe-3w52c",
        "outputId": "bb669dfb-4202-492e-e817-29dad837ee8f"
      },
      "source": [
        "sns.boxplot(preds[\"rating\"], preds[\"pred\"])"
      ],
      "execution_count": 40,
      "outputs": [
        {
          "output_type": "execute_result",
          "data": {
            "text/plain": [
              "<matplotlib.axes._subplots.AxesSubplot at 0x7f5f74f50fd0>"
            ]
          },
          "metadata": {
            "tags": []
          },
          "execution_count": 40
        },
        {
          "output_type": "display_data",
          "data": {
            "image/png": "[encoded data removed]",
            "text/plain": [
              "<Figure size 432x288 with 1 Axes>"
            ]
          },
          "metadata": {
            "tags": [],
            "needs_background": "light"
          }
        }
      ]
    },
    {
      "cell_type": "code",
      "metadata": {
        "colab": {
          "base_uri": "https://localhost:8080/",
          "height": 359
        },
        "id": "SB52Z46yxoSP",
        "outputId": "5cb96746-4d37-461b-d60e-45282fdbc22d"
      },
      "source": [
        "suggest_user(user_id)"
      ],
      "execution_count": 41,
      "outputs": [
        {
          "output_type": "execute_result",
          "data": {
            "text/html": [
              "<div>\n",
              "<style scoped>\n",
              "    .dataframe tbody tr th:only-of-type {\n",
              "        vertical-align: middle;\n",
              "    }\n",
              "\n",
              "    .dataframe tbody tr th {\n",
              "        vertical-align: top;\n",
              "    }\n",
              "\n",
              "    .dataframe thead th {\n",
              "        text-align: right;\n",
              "    }\n",
              "</style>\n",
              "<table border=\"1\" class=\"dataframe\">\n",
              "  <thead>\n",
              "    <tr style=\"text-align: right;\">\n",
              "      <th></th>\n",
              "      <th>pred</th>\n",
              "      <th>title</th>\n",
              "    </tr>\n",
              "  </thead>\n",
              "  <tbody>\n",
              "    <tr>\n",
              "      <th>2158</th>\n",
              "      <td>4.594354</td>\n",
              "      <td>Guess Who's Coming to Dinner (1967)</td>\n",
              "    </tr>\n",
              "    <tr>\n",
              "      <th>1395</th>\n",
              "      <td>4.587749</td>\n",
              "      <td>Three Billboards Outside Ebbing, Missouri (2017)</td>\n",
              "    </tr>\n",
              "    <tr>\n",
              "      <th>2933</th>\n",
              "      <td>4.570197</td>\n",
              "      <td>Love and Death (1975)</td>\n",
              "    </tr>\n",
              "    <tr>\n",
              "      <th>8833</th>\n",
              "      <td>4.559479</td>\n",
              "      <td>Jetée, La (1962)</td>\n",
              "    </tr>\n",
              "    <tr>\n",
              "      <th>3457</th>\n",
              "      <td>4.558405</td>\n",
              "      <td>Raiders of the Lost Ark: The Adaptation (1989)</td>\n",
              "    </tr>\n",
              "    <tr>\n",
              "      <th>4750</th>\n",
              "      <td>4.553044</td>\n",
              "      <td>Last Tango in Paris (Ultimo tango a Parigi) (1...</td>\n",
              "    </tr>\n",
              "    <tr>\n",
              "      <th>6542</th>\n",
              "      <td>4.540706</td>\n",
              "      <td>Come and See (Idi i smotri) (1985)</td>\n",
              "    </tr>\n",
              "    <tr>\n",
              "      <th>3233</th>\n",
              "      <td>4.539537</td>\n",
              "      <td>Five Easy Pieces (1970)</td>\n",
              "    </tr>\n",
              "    <tr>\n",
              "      <th>2793</th>\n",
              "      <td>4.522316</td>\n",
              "      <td>Holy Mountain, The (Montaña sagrada, La) (1973)</td>\n",
              "    </tr>\n",
              "    <tr>\n",
              "      <th>5646</th>\n",
              "      <td>4.521130</td>\n",
              "      <td>Day of the Doctor, The (2013)</td>\n",
              "    </tr>\n",
              "  </tbody>\n",
              "</table>\n",
              "</div>"
            ],
            "text/plain": [
              "          pred                                              title\n",
              "2158  4.594354                Guess Who's Coming to Dinner (1967)\n",
              "1395  4.587749   Three Billboards Outside Ebbing, Missouri (2017)\n",
              "2933  4.570197                              Love and Death (1975)\n",
              "8833  4.559479                                   Jetée, La (1962)\n",
              "3457  4.558405     Raiders of the Lost Ark: The Adaptation (1989)\n",
              "4750  4.553044  Last Tango in Paris (Ultimo tango a Parigi) (1...\n",
              "6542  4.540706                 Come and See (Idi i smotri) (1985)\n",
              "3233  4.539537                            Five Easy Pieces (1970)\n",
              "2793  4.522316    Holy Mountain, The (Montaña sagrada, La) (1973)\n",
              "5646  4.521130                      Day of the Doctor, The (2013)"
            ]
          },
          "metadata": {
            "tags": []
          },
          "execution_count": 41
        }
      ]
    },
    {
      "cell_type": "markdown",
      "metadata": {
        "id": "3wQvVQZDyEwZ"
      },
      "source": [
        "## Recommanding movies using KNN on embedding spaces"
      ]
    },
    {
      "cell_type": "markdown",
      "metadata": {
        "id": "cCwJRqIFyeyd"
      },
      "source": [
        "### Looking at movies embedding space"
      ]
    },
    {
      "cell_type": "code",
      "metadata": {
        "id": "r5FOT5L4xx0X"
      },
      "source": [
        "movies_index = nmslib.init(space='angulardist', method='hnsw')\n",
        "movies_index.addDataPointBatch(movie_model.model.get_layer(\"movies\").get_weights()[0])\n",
        "\n",
        "M = 100\n",
        "efC = 1000\n",
        "efS = 1000\n",
        "num_threads = 6\n",
        "index_time_params = {'M': M, 'indexThreadQty': num_threads, 'efConstruction': efC, 'post' : 0}\n",
        "query_time_params = {'efSearch': efS}\n",
        "\n",
        "movies_index.createIndex(index_time_params)\n",
        "movies_index.setQueryTimeParams(query_time_params)"
      ],
      "execution_count": 45,
      "outputs": []
    },
    {
      "cell_type": "code",
      "metadata": {
        "id": "bDrXWhsQx0jQ"
      },
      "source": [
        "def get_knns(index, vecs, n_neighbour):\n",
        "     return zip(*index.knnQueryBatch(vecs, k=n_neighbour, num_threads=6))\n",
        "\n",
        "def get_knn(index, vec, n_neighbour):\n",
        "    return index.knnQuery(vec, k=n_neighbour)\n",
        "\n",
        "def suggest_movies_knn(movieId, n_suggest = 5):\n",
        "    res = get_knn(movies_index, movie_model.model.get_layer(\"movies\").get_weights()[0][movieId], n_suggest)[0]\n",
        "    return movies_raw[movies_raw.movieId.isin([idx2movie[i] for i in res])]"
      ],
      "execution_count": 46,
      "outputs": []
    },
    {
      "cell_type": "code",
      "metadata": {
        "colab": {
          "base_uri": "https://localhost:8080/",
          "height": 359
        },
        "id": "AiYbTuP4yQDn",
        "outputId": "a32457c9-9c0b-4332-f1d0-be819819f56a"
      },
      "source": [
        "movie_id = 763\n",
        "suggest_movies_knn(movie_id, 10)"
      ],
      "execution_count": 52,
      "outputs": [
        {
          "output_type": "execute_result",
          "data": {
            "text/html": [
              "<div>\n",
              "<style scoped>\n",
              "    .dataframe tbody tr th:only-of-type {\n",
              "        vertical-align: middle;\n",
              "    }\n",
              "\n",
              "    .dataframe tbody tr th {\n",
              "        vertical-align: top;\n",
              "    }\n",
              "\n",
              "    .dataframe thead th {\n",
              "        text-align: right;\n",
              "    }\n",
              "</style>\n",
              "<table border=\"1\" class=\"dataframe\">\n",
              "  <thead>\n",
              "    <tr style=\"text-align: right;\">\n",
              "      <th></th>\n",
              "      <th>movieId</th>\n",
              "      <th>title</th>\n",
              "      <th>genres</th>\n",
              "    </tr>\n",
              "  </thead>\n",
              "  <tbody>\n",
              "    <tr>\n",
              "      <th>867</th>\n",
              "      <td>1147</td>\n",
              "      <td>When We Were Kings (1996)</td>\n",
              "      <td>Documentary</td>\n",
              "    </tr>\n",
              "    <tr>\n",
              "      <th>1290</th>\n",
              "      <td>1719</td>\n",
              "      <td>Sweet Hereafter, The (1997)</td>\n",
              "      <td>Drama</td>\n",
              "    </tr>\n",
              "    <tr>\n",
              "      <th>1539</th>\n",
              "      <td>2074</td>\n",
              "      <td>Night Porter, The (Portiere di notte, Il) (1974)</td>\n",
              "      <td>Crime|Drama|Romance</td>\n",
              "    </tr>\n",
              "    <tr>\n",
              "      <th>1928</th>\n",
              "      <td>2557</td>\n",
              "      <td>I Stand Alone (Seul contre tous) (1998)</td>\n",
              "      <td>Drama|Thriller</td>\n",
              "    </tr>\n",
              "    <tr>\n",
              "      <th>2259</th>\n",
              "      <td>2997</td>\n",
              "      <td>Being John Malkovich (1999)</td>\n",
              "      <td>Comedy|Drama|Fantasy</td>\n",
              "    </tr>\n",
              "    <tr>\n",
              "      <th>4076</th>\n",
              "      <td>5816</td>\n",
              "      <td>Harry Potter and the Chamber of Secrets (2002)</td>\n",
              "      <td>Adventure|Fantasy</td>\n",
              "    </tr>\n",
              "    <tr>\n",
              "      <th>7275</th>\n",
              "      <td>74727</td>\n",
              "      <td>Gentlemen of Fortune (Dzhentlmeny udachi) (1972)</td>\n",
              "      <td>Comedy|Crime|Drama|Mystery</td>\n",
              "    </tr>\n",
              "    <tr>\n",
              "      <th>8525</th>\n",
              "      <td>114678</td>\n",
              "      <td>Hector and the Search for Happiness (2014)</td>\n",
              "      <td>Adventure|Comedy|Drama</td>\n",
              "    </tr>\n",
              "    <tr>\n",
              "      <th>9572</th>\n",
              "      <td>174141</td>\n",
              "      <td>Belladonna of Sadness (1973)</td>\n",
              "      <td>Animation|Drama|Fantasy</td>\n",
              "    </tr>\n",
              "    <tr>\n",
              "      <th>9680</th>\n",
              "      <td>183317</td>\n",
              "      <td>Patti Rocks (1988)</td>\n",
              "      <td>Comedy|Drama</td>\n",
              "    </tr>\n",
              "  </tbody>\n",
              "</table>\n",
              "</div>"
            ],
            "text/plain": [
              "      movieId  ...                      genres\n",
              "867      1147  ...                 Documentary\n",
              "1290     1719  ...                       Drama\n",
              "1539     2074  ...         Crime|Drama|Romance\n",
              "1928     2557  ...              Drama|Thriller\n",
              "2259     2997  ...        Comedy|Drama|Fantasy\n",
              "4076     5816  ...           Adventure|Fantasy\n",
              "7275    74727  ...  Comedy|Crime|Drama|Mystery\n",
              "8525   114678  ...      Adventure|Comedy|Drama\n",
              "9572   174141  ...     Animation|Drama|Fantasy\n",
              "9680   183317  ...                Comedy|Drama\n",
              "\n",
              "[10 rows x 3 columns]"
            ]
          },
          "metadata": {
            "tags": []
          },
          "execution_count": 52
        }
      ]
    },
    {
      "cell_type": "markdown",
      "metadata": {
        "id": "GlO8IBy40DFP"
      },
      "source": [
        "### Looking at users embedding space"
      ]
    },
    {
      "cell_type": "code",
      "metadata": {
        "id": "JA4uaKN7yYn7"
      },
      "source": [
        "users_index = nmslib.init(space='angulardist', method='hnsw')\n",
        "users_index.addDataPointBatch(movie_model.model.get_layer(\"users\").get_weights()[0])\n",
        "\n",
        "M = 100\n",
        "efC = 1000\n",
        "efS = 1000\n",
        "num_threads = 6\n",
        "index_time_params = {'M': M, 'indexThreadQty': num_threads, 'efConstruction': efC, 'post' : 0}\n",
        "query_time_params = {'efSearch': efS}\n",
        "\n",
        "users_index.createIndex(index_time_params)\n",
        "users_index.setQueryTimeParams(query_time_params)"
      ],
      "execution_count": 53,
      "outputs": []
    },
    {
      "cell_type": "code",
      "metadata": {
        "id": "phqnOAUl0Okk"
      },
      "source": [
        "def suggest_users_knn(user_id, n_suggest = 5):\n",
        "    res = get_knn(users_index, movie_model.model.get_layer(\"users\").get_weights()[0][user_id], n_suggest)[0]\n",
        "    for uid in res[1:]:\n",
        "        moviesId = ratings[ratings.userId == uid].sort_values(\"rating\", ascending=False)[:10][\"movieId\"].values\n",
        "        print(\"From user\", uid, \": \")\n",
        "        display(movies_raw[movies_raw.movieId.isin([idx2movie[i] for i in moviesId])])"
      ],
      "execution_count": null,
      "outputs": []
    },
    {
      "cell_type": "code",
      "metadata": {
        "colab": {
          "base_uri": "https://localhost:8080/",
          "height": 1000
        },
        "id": "4xflCpdQz3w0",
        "outputId": "1f55cb44-a2a6-4395-b58c-0f673c02f9a7"
      },
      "source": [
        "suggest_users_knn(user_id)"
      ],
      "execution_count": 54,
      "outputs": [
        {
          "output_type": "stream",
          "text": [
            "From user 353 : \n"
          ],
          "name": "stdout"
        },
        {
          "output_type": "display_data",
          "data": {
            "text/html": [
              "<div>\n",
              "<style scoped>\n",
              "    .dataframe tbody tr th:only-of-type {\n",
              "        vertical-align: middle;\n",
              "    }\n",
              "\n",
              "    .dataframe tbody tr th {\n",
              "        vertical-align: top;\n",
              "    }\n",
              "\n",
              "    .dataframe thead th {\n",
              "        text-align: right;\n",
              "    }\n",
              "</style>\n",
              "<table border=\"1\" class=\"dataframe\">\n",
              "  <thead>\n",
              "    <tr style=\"text-align: right;\">\n",
              "      <th></th>\n",
              "      <th>movieId</th>\n",
              "      <th>title</th>\n",
              "      <th>genres</th>\n",
              "    </tr>\n",
              "  </thead>\n",
              "  <tbody>\n",
              "    <tr>\n",
              "      <th>507</th>\n",
              "      <td>589</td>\n",
              "      <td>Terminator 2: Judgment Day (1991)</td>\n",
              "      <td>Action|Sci-Fi</td>\n",
              "    </tr>\n",
              "    <tr>\n",
              "      <th>832</th>\n",
              "      <td>1093</td>\n",
              "      <td>Doors, The (1991)</td>\n",
              "      <td>Drama</td>\n",
              "    </tr>\n",
              "    <tr>\n",
              "      <th>926</th>\n",
              "      <td>1225</td>\n",
              "      <td>Amadeus (1984)</td>\n",
              "      <td>Drama</td>\n",
              "    </tr>\n",
              "    <tr>\n",
              "      <th>1617</th>\n",
              "      <td>2161</td>\n",
              "      <td>NeverEnding Story, The (1984)</td>\n",
              "      <td>Adventure|Children|Fantasy</td>\n",
              "    </tr>\n",
              "    <tr>\n",
              "      <th>1916</th>\n",
              "      <td>2541</td>\n",
              "      <td>Cruel Intentions (1999)</td>\n",
              "      <td>Drama</td>\n",
              "    </tr>\n",
              "    <tr>\n",
              "      <th>2020</th>\n",
              "      <td>2692</td>\n",
              "      <td>Run Lola Run (Lola rennt) (1998)</td>\n",
              "      <td>Action|Crime</td>\n",
              "    </tr>\n",
              "    <tr>\n",
              "      <th>3562</th>\n",
              "      <td>4878</td>\n",
              "      <td>Donnie Darko (2001)</td>\n",
              "      <td>Drama|Mystery|Sci-Fi|Thriller</td>\n",
              "    </tr>\n",
              "    <tr>\n",
              "      <th>3622</th>\n",
              "      <td>4973</td>\n",
              "      <td>Amelie (Fabuleux destin d'Amélie Poulain, Le) ...</td>\n",
              "      <td>Comedy|Romance</td>\n",
              "    </tr>\n",
              "    <tr>\n",
              "      <th>4615</th>\n",
              "      <td>6874</td>\n",
              "      <td>Kill Bill: Vol. 1 (2003)</td>\n",
              "      <td>Action|Crime|Thriller</td>\n",
              "    </tr>\n",
              "    <tr>\n",
              "      <th>5943</th>\n",
              "      <td>34319</td>\n",
              "      <td>Island, The (2005)</td>\n",
              "      <td>Action|Sci-Fi|Thriller</td>\n",
              "    </tr>\n",
              "  </tbody>\n",
              "</table>\n",
              "</div>"
            ],
            "text/plain": [
              "      movieId  ...                         genres\n",
              "507       589  ...                  Action|Sci-Fi\n",
              "832      1093  ...                          Drama\n",
              "926      1225  ...                          Drama\n",
              "1617     2161  ...     Adventure|Children|Fantasy\n",
              "1916     2541  ...                          Drama\n",
              "2020     2692  ...                   Action|Crime\n",
              "3562     4878  ...  Drama|Mystery|Sci-Fi|Thriller\n",
              "3622     4973  ...                 Comedy|Romance\n",
              "4615     6874  ...          Action|Crime|Thriller\n",
              "5943    34319  ...         Action|Sci-Fi|Thriller\n",
              "\n",
              "[10 rows x 3 columns]"
            ]
          },
          "metadata": {
            "tags": []
          }
        },
        {
          "output_type": "stream",
          "text": [
            "From user 553 : \n"
          ],
          "name": "stdout"
        },
        {
          "output_type": "display_data",
          "data": {
            "text/html": [
              "<div>\n",
              "<style scoped>\n",
              "    .dataframe tbody tr th:only-of-type {\n",
              "        vertical-align: middle;\n",
              "    }\n",
              "\n",
              "    .dataframe tbody tr th {\n",
              "        vertical-align: top;\n",
              "    }\n",
              "\n",
              "    .dataframe thead th {\n",
              "        text-align: right;\n",
              "    }\n",
              "</style>\n",
              "<table border=\"1\" class=\"dataframe\">\n",
              "  <thead>\n",
              "    <tr style=\"text-align: right;\">\n",
              "      <th></th>\n",
              "      <th>movieId</th>\n",
              "      <th>title</th>\n",
              "      <th>genres</th>\n",
              "    </tr>\n",
              "  </thead>\n",
              "  <tbody>\n",
              "    <tr>\n",
              "      <th>142</th>\n",
              "      <td>170</td>\n",
              "      <td>Hackers (1995)</td>\n",
              "      <td>Action|Adventure|Crime|Thriller</td>\n",
              "    </tr>\n",
              "    <tr>\n",
              "      <th>785</th>\n",
              "      <td>1028</td>\n",
              "      <td>Mary Poppins (1964)</td>\n",
              "      <td>Children|Comedy|Fantasy|Musical</td>\n",
              "    </tr>\n",
              "    <tr>\n",
              "      <th>827</th>\n",
              "      <td>1088</td>\n",
              "      <td>Dirty Dancing (1987)</td>\n",
              "      <td>Drama|Musical|Romance</td>\n",
              "    </tr>\n",
              "    <tr>\n",
              "      <th>836</th>\n",
              "      <td>1097</td>\n",
              "      <td>E.T. the Extra-Terrestrial (1982)</td>\n",
              "      <td>Children|Drama|Sci-Fi</td>\n",
              "    </tr>\n",
              "    <tr>\n",
              "      <th>898</th>\n",
              "      <td>1196</td>\n",
              "      <td>Star Wars: Episode V - The Empire Strikes Back...</td>\n",
              "      <td>Action|Adventure|Sci-Fi</td>\n",
              "    </tr>\n",
              "    <tr>\n",
              "      <th>911</th>\n",
              "      <td>1210</td>\n",
              "      <td>Star Wars: Episode VI - Return of the Jedi (1983)</td>\n",
              "      <td>Action|Adventure|Sci-Fi</td>\n",
              "    </tr>\n",
              "    <tr>\n",
              "      <th>914</th>\n",
              "      <td>1213</td>\n",
              "      <td>Goodfellas (1990)</td>\n",
              "      <td>Crime|Drama</td>\n",
              "    </tr>\n",
              "    <tr>\n",
              "      <th>926</th>\n",
              "      <td>1225</td>\n",
              "      <td>Amadeus (1984)</td>\n",
              "      <td>Drama</td>\n",
              "    </tr>\n",
              "    <tr>\n",
              "      <th>975</th>\n",
              "      <td>1276</td>\n",
              "      <td>Cool Hand Luke (1967)</td>\n",
              "      <td>Drama</td>\n",
              "    </tr>\n",
              "    <tr>\n",
              "      <th>2035</th>\n",
              "      <td>2710</td>\n",
              "      <td>Blair Witch Project, The (1999)</td>\n",
              "      <td>Drama|Horror|Thriller</td>\n",
              "    </tr>\n",
              "  </tbody>\n",
              "</table>\n",
              "</div>"
            ],
            "text/plain": [
              "      movieId  ...                           genres\n",
              "142       170  ...  Action|Adventure|Crime|Thriller\n",
              "785      1028  ...  Children|Comedy|Fantasy|Musical\n",
              "827      1088  ...            Drama|Musical|Romance\n",
              "836      1097  ...            Children|Drama|Sci-Fi\n",
              "898      1196  ...          Action|Adventure|Sci-Fi\n",
              "911      1210  ...          Action|Adventure|Sci-Fi\n",
              "914      1213  ...                      Crime|Drama\n",
              "926      1225  ...                            Drama\n",
              "975      1276  ...                            Drama\n",
              "2035     2710  ...            Drama|Horror|Thriller\n",
              "\n",
              "[10 rows x 3 columns]"
            ]
          },
          "metadata": {
            "tags": []
          }
        },
        {
          "output_type": "stream",
          "text": [
            "From user 455 : \n"
          ],
          "name": "stdout"
        },
        {
          "output_type": "display_data",
          "data": {
            "text/html": [
              "<div>\n",
              "<style scoped>\n",
              "    .dataframe tbody tr th:only-of-type {\n",
              "        vertical-align: middle;\n",
              "    }\n",
              "\n",
              "    .dataframe tbody tr th {\n",
              "        vertical-align: top;\n",
              "    }\n",
              "\n",
              "    .dataframe thead th {\n",
              "        text-align: right;\n",
              "    }\n",
              "</style>\n",
              "<table border=\"1\" class=\"dataframe\">\n",
              "  <thead>\n",
              "    <tr style=\"text-align: right;\">\n",
              "      <th></th>\n",
              "      <th>movieId</th>\n",
              "      <th>title</th>\n",
              "      <th>genres</th>\n",
              "    </tr>\n",
              "  </thead>\n",
              "  <tbody>\n",
              "    <tr>\n",
              "      <th>0</th>\n",
              "      <td>1</td>\n",
              "      <td>Toy Story (1995)</td>\n",
              "      <td>Adventure|Animation|Children|Comedy|Fantasy</td>\n",
              "    </tr>\n",
              "    <tr>\n",
              "      <th>224</th>\n",
              "      <td>260</td>\n",
              "      <td>Star Wars: Episode IV - A New Hope (1977)</td>\n",
              "      <td>Action|Adventure|Sci-Fi</td>\n",
              "    </tr>\n",
              "    <tr>\n",
              "      <th>543</th>\n",
              "      <td>640</td>\n",
              "      <td>Diabolique (1996)</td>\n",
              "      <td>Drama|Thriller</td>\n",
              "    </tr>\n",
              "    <tr>\n",
              "      <th>552</th>\n",
              "      <td>662</td>\n",
              "      <td>Fear (1996)</td>\n",
              "      <td>Thriller</td>\n",
              "    </tr>\n",
              "    <tr>\n",
              "      <th>592</th>\n",
              "      <td>733</td>\n",
              "      <td>Rock, The (1996)</td>\n",
              "      <td>Action|Adventure|Thriller</td>\n",
              "    </tr>\n",
              "    <tr>\n",
              "      <th>615</th>\n",
              "      <td>780</td>\n",
              "      <td>Independence Day (a.k.a. ID4) (1996)</td>\n",
              "      <td>Action|Adventure|Sci-Fi|Thriller</td>\n",
              "    </tr>\n",
              "    <tr>\n",
              "      <th>645</th>\n",
              "      <td>832</td>\n",
              "      <td>Ransom (1996)</td>\n",
              "      <td>Crime|Thriller</td>\n",
              "    </tr>\n",
              "    <tr>\n",
              "      <th>1052</th>\n",
              "      <td>1367</td>\n",
              "      <td>101 Dalmatians (1996)</td>\n",
              "      <td>Adventure|Children|Comedy</td>\n",
              "    </tr>\n",
              "    <tr>\n",
              "      <th>1073</th>\n",
              "      <td>1393</td>\n",
              "      <td>Jerry Maguire (1996)</td>\n",
              "      <td>Drama|Romance</td>\n",
              "    </tr>\n",
              "    <tr>\n",
              "      <th>1083</th>\n",
              "      <td>1407</td>\n",
              "      <td>Scream (1996)</td>\n",
              "      <td>Comedy|Horror|Mystery|Thriller</td>\n",
              "    </tr>\n",
              "  </tbody>\n",
              "</table>\n",
              "</div>"
            ],
            "text/plain": [
              "      movieId  ...                                       genres\n",
              "0           1  ...  Adventure|Animation|Children|Comedy|Fantasy\n",
              "224       260  ...                      Action|Adventure|Sci-Fi\n",
              "543       640  ...                               Drama|Thriller\n",
              "552       662  ...                                     Thriller\n",
              "592       733  ...                    Action|Adventure|Thriller\n",
              "615       780  ...             Action|Adventure|Sci-Fi|Thriller\n",
              "645       832  ...                               Crime|Thriller\n",
              "1052     1367  ...                    Adventure|Children|Comedy\n",
              "1073     1393  ...                                Drama|Romance\n",
              "1083     1407  ...               Comedy|Horror|Mystery|Thriller\n",
              "\n",
              "[10 rows x 3 columns]"
            ]
          },
          "metadata": {
            "tags": []
          }
        },
        {
          "output_type": "stream",
          "text": [
            "From user 320 : \n"
          ],
          "name": "stdout"
        },
        {
          "output_type": "display_data",
          "data": {
            "text/html": [
              "<div>\n",
              "<style scoped>\n",
              "    .dataframe tbody tr th:only-of-type {\n",
              "        vertical-align: middle;\n",
              "    }\n",
              "\n",
              "    .dataframe tbody tr th {\n",
              "        vertical-align: top;\n",
              "    }\n",
              "\n",
              "    .dataframe thead th {\n",
              "        text-align: right;\n",
              "    }\n",
              "</style>\n",
              "<table border=\"1\" class=\"dataframe\">\n",
              "  <thead>\n",
              "    <tr style=\"text-align: right;\">\n",
              "      <th></th>\n",
              "      <th>movieId</th>\n",
              "      <th>title</th>\n",
              "      <th>genres</th>\n",
              "    </tr>\n",
              "  </thead>\n",
              "  <tbody>\n",
              "    <tr>\n",
              "      <th>1</th>\n",
              "      <td>2</td>\n",
              "      <td>Jumanji (1995)</td>\n",
              "      <td>Adventure|Children|Fantasy</td>\n",
              "    </tr>\n",
              "    <tr>\n",
              "      <th>116</th>\n",
              "      <td>141</td>\n",
              "      <td>Birdcage, The (1996)</td>\n",
              "      <td>Comedy</td>\n",
              "    </tr>\n",
              "    <tr>\n",
              "      <th>126</th>\n",
              "      <td>153</td>\n",
              "      <td>Batman Forever (1995)</td>\n",
              "      <td>Action|Adventure|Comedy|Crime</td>\n",
              "    </tr>\n",
              "    <tr>\n",
              "      <th>275</th>\n",
              "      <td>316</td>\n",
              "      <td>Stargate (1994)</td>\n",
              "      <td>Action|Adventure|Sci-Fi</td>\n",
              "    </tr>\n",
              "    <tr>\n",
              "      <th>276</th>\n",
              "      <td>317</td>\n",
              "      <td>Santa Clause, The (1994)</td>\n",
              "      <td>Comedy|Drama|Fantasy</td>\n",
              "    </tr>\n",
              "    <tr>\n",
              "      <th>314</th>\n",
              "      <td>356</td>\n",
              "      <td>Forrest Gump (1994)</td>\n",
              "      <td>Comedy|Drama|Romance|War</td>\n",
              "    </tr>\n",
              "    <tr>\n",
              "      <th>337</th>\n",
              "      <td>380</td>\n",
              "      <td>True Lies (1994)</td>\n",
              "      <td>Action|Adventure|Comedy|Romance|Thriller</td>\n",
              "    </tr>\n",
              "    <tr>\n",
              "      <th>418</th>\n",
              "      <td>480</td>\n",
              "      <td>Jurassic Park (1993)</td>\n",
              "      <td>Action|Adventure|Sci-Fi|Thriller</td>\n",
              "    </tr>\n",
              "    <tr>\n",
              "      <th>510</th>\n",
              "      <td>593</td>\n",
              "      <td>Silence of the Lambs, The (1991)</td>\n",
              "      <td>Crime|Horror|Thriller</td>\n",
              "    </tr>\n",
              "    <tr>\n",
              "      <th>630</th>\n",
              "      <td>802</td>\n",
              "      <td>Phenomenon (1996)</td>\n",
              "      <td>Drama|Romance</td>\n",
              "    </tr>\n",
              "  </tbody>\n",
              "</table>\n",
              "</div>"
            ],
            "text/plain": [
              "     movieId  ...                                    genres\n",
              "1          2  ...                Adventure|Children|Fantasy\n",
              "116      141  ...                                    Comedy\n",
              "126      153  ...             Action|Adventure|Comedy|Crime\n",
              "275      316  ...                   Action|Adventure|Sci-Fi\n",
              "276      317  ...                      Comedy|Drama|Fantasy\n",
              "314      356  ...                  Comedy|Drama|Romance|War\n",
              "337      380  ...  Action|Adventure|Comedy|Romance|Thriller\n",
              "418      480  ...          Action|Adventure|Sci-Fi|Thriller\n",
              "510      593  ...                     Crime|Horror|Thriller\n",
              "630      802  ...                             Drama|Romance\n",
              "\n",
              "[10 rows x 3 columns]"
            ]
          },
          "metadata": {
            "tags": []
          }
        }
      ]
    }
  ]
}