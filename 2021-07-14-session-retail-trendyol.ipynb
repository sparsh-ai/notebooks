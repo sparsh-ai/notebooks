{
  "nbformat": 4,
  "nbformat_minor": 0,
  "metadata": {
    "colab": {
      "name": "session-retail-trendyol.ipynb",
      "provenance": [],
      "collapsed_sections": [],
      "toc_visible": true,
      "mount_file_id": "11k9iXscYu8_QgMMRSCY5mT8FYUceFQj7",
      "authorship_tag": "ABX9TyMJqlIWWKwj2MjsBu3rVguA"
    },
    "kernelspec": {
      "name": "python3",
      "display_name": "Python 3"
    },
    "language_info": {
      "name": "python"
    }
  },
  "cells": [
    {
      "cell_type": "markdown",
      "metadata": {
        "id": "rENGvL1WaXBW"
      },
      "source": [
        "# Session-based E-commerce Product Recommender\n",
        "> We will build one of the simplest and powerful session-based recommender engine on a real-world data. The data contains [Trendyol's](https://www.trendyol.com/) session-level activities and product metadata information. \n",
        "\n",
        "- toc: false\n",
        "- badges: true\n",
        "- comments: true\n",
        "- categories: [Session, Sequence, Retail, ECommerce]\n",
        "- author: \"<a href='https://github.com/CeyhanTurnali/ProductRecommendation'>CeyhanTurnalı</a>\"\n",
        "- image:"
      ]
    },
    {
      "cell_type": "code",
      "metadata": {
        "id": "E8gbN55l4FTu"
      },
      "source": [
        "import numpy as np\n",
        "import pandas as pd\n",
        "from scipy.sparse import csr_matrix\n",
        "from pandas.api.types import CategoricalDtype\n",
        "from sklearn.metrics.pairwise import cosine_similarity"
      ],
      "execution_count": 1,
      "outputs": []
    },
    {
      "cell_type": "code",
      "metadata": {
        "colab": {
          "base_uri": "https://localhost:8080/",
          "height": 204
        },
        "id": "hmXEfQSe4L2n",
        "outputId": "8c079082-ae50-4e26-a55b-c9c96186b447"
      },
      "source": [
        "meta = pd.read_parquet('https://github.com/recohut/reco-data/raw/trendyol/trendyol/v1/meta.parquet.gzip')\n",
        "meta.head(5)"
      ],
      "execution_count": 182,
      "outputs": [
        {
          "output_type": "execute_result",
          "data": {
            "text/html": [
              "<div>\n",
              "<style scoped>\n",
              "    .dataframe tbody tr th:only-of-type {\n",
              "        vertical-align: middle;\n",
              "    }\n",
              "\n",
              "    .dataframe tbody tr th {\n",
              "        vertical-align: top;\n",
              "    }\n",
              "\n",
              "    .dataframe thead th {\n",
              "        text-align: right;\n",
              "    }\n",
              "</style>\n",
              "<table border=\"1\" class=\"dataframe\">\n",
              "  <thead>\n",
              "    <tr style=\"text-align: right;\">\n",
              "      <th></th>\n",
              "      <th>productid</th>\n",
              "      <th>brand</th>\n",
              "      <th>category</th>\n",
              "      <th>subcategory</th>\n",
              "      <th>name</th>\n",
              "    </tr>\n",
              "  </thead>\n",
              "  <tbody>\n",
              "    <tr>\n",
              "      <th>0</th>\n",
              "      <td>HBV00000AX6LR</td>\n",
              "      <td>Palette</td>\n",
              "      <td>Kişisel Bakım</td>\n",
              "      <td>Saç Bakımı</td>\n",
              "      <td>Palette Kalıcı Doğal Renkler 10-4 PAPATYA</td>\n",
              "    </tr>\n",
              "    <tr>\n",
              "      <th>1</th>\n",
              "      <td>HBV00000BSAQG</td>\n",
              "      <td>Best</td>\n",
              "      <td>Pet Shop</td>\n",
              "      <td>Kedi</td>\n",
              "      <td>Best Pet Jöle İçinde Parça Etli Somonlu Konser...</td>\n",
              "    </tr>\n",
              "    <tr>\n",
              "      <th>2</th>\n",
              "      <td>HBV00000JUHBA</td>\n",
              "      <td>Tarım Kredi</td>\n",
              "      <td>Temel Gıda</td>\n",
              "      <td>Bakliyat, Pirinç, Makarna</td>\n",
              "      <td>Türkiye Tarım Kredi Koop.Yeşil Mercimek 1 kg</td>\n",
              "    </tr>\n",
              "    <tr>\n",
              "      <th>3</th>\n",
              "      <td>HBV00000NE0QI</td>\n",
              "      <td>Namet</td>\n",
              "      <td>Et, Balık, Şarküteri</td>\n",
              "      <td>Şarküteri</td>\n",
              "      <td>Namet Fıstıklı Macar Salam 100 gr</td>\n",
              "    </tr>\n",
              "    <tr>\n",
              "      <th>4</th>\n",
              "      <td>HBV00000NE0UQ</td>\n",
              "      <td>Muratbey</td>\n",
              "      <td>Kahvaltılık ve Süt</td>\n",
              "      <td>Peynir</td>\n",
              "      <td>Muratbey Burgu Peyniri 250 gr</td>\n",
              "    </tr>\n",
              "  </tbody>\n",
              "</table>\n",
              "</div>"
            ],
            "text/plain": [
              "       productid  ...                                               name\n",
              "0  HBV00000AX6LR  ...          Palette Kalıcı Doğal Renkler 10-4 PAPATYA\n",
              "1  HBV00000BSAQG  ...  Best Pet Jöle İçinde Parça Etli Somonlu Konser...\n",
              "2  HBV00000JUHBA  ...       Türkiye Tarım Kredi Koop.Yeşil Mercimek 1 kg\n",
              "3  HBV00000NE0QI  ...                  Namet Fıstıklı Macar Salam 100 gr\n",
              "4  HBV00000NE0UQ  ...                      Muratbey Burgu Peyniri 250 gr\n",
              "\n",
              "[5 rows x 5 columns]"
            ]
          },
          "metadata": {
            "tags": []
          },
          "execution_count": 182
        }
      ]
    },
    {
      "cell_type": "code",
      "metadata": {
        "colab": {
          "base_uri": "https://localhost:8080/",
          "height": 204
        },
        "id": "byE20ov25ZA4",
        "outputId": "60659814-0241-4c10-f07d-4dbef3a3414e"
      },
      "source": [
        "events = pd.read_parquet('https://github.com/recohut/reco-data/raw/trendyol/trendyol/v1/events.parquet.gzip')\n",
        "events.head(5)"
      ],
      "execution_count": 183,
      "outputs": [
        {
          "output_type": "execute_result",
          "data": {
            "text/html": [
              "<div>\n",
              "<style scoped>\n",
              "    .dataframe tbody tr th:only-of-type {\n",
              "        vertical-align: middle;\n",
              "    }\n",
              "\n",
              "    .dataframe tbody tr th {\n",
              "        vertical-align: top;\n",
              "    }\n",
              "\n",
              "    .dataframe thead th {\n",
              "        text-align: right;\n",
              "    }\n",
              "</style>\n",
              "<table border=\"1\" class=\"dataframe\">\n",
              "  <thead>\n",
              "    <tr style=\"text-align: right;\">\n",
              "      <th></th>\n",
              "      <th>event</th>\n",
              "      <th>sessionid</th>\n",
              "      <th>eventtime</th>\n",
              "      <th>price</th>\n",
              "      <th>productid</th>\n",
              "    </tr>\n",
              "  </thead>\n",
              "  <tbody>\n",
              "    <tr>\n",
              "      <th>0</th>\n",
              "      <td>cart</td>\n",
              "      <td>a0655eee-1267-4820-af21-ad8ac068ff7a</td>\n",
              "      <td>2020-06-01T08:59:16.406Z</td>\n",
              "      <td>14.48</td>\n",
              "      <td>HBV00000NVZE8</td>\n",
              "    </tr>\n",
              "    <tr>\n",
              "      <th>1</th>\n",
              "      <td>cart</td>\n",
              "      <td>d2ea7bd3-9235-4a9f-a9ea-d7f296e71318</td>\n",
              "      <td>2020-06-01T08:59:46.580Z</td>\n",
              "      <td>49.90</td>\n",
              "      <td>HBV00000U2B18</td>\n",
              "    </tr>\n",
              "    <tr>\n",
              "      <th>2</th>\n",
              "      <td>cart</td>\n",
              "      <td>5e594788-78a0-44dd-8e66-37022d48f691</td>\n",
              "      <td>2020-06-01T08:59:33.308Z</td>\n",
              "      <td>1.99</td>\n",
              "      <td>OFIS3101-080</td>\n",
              "    </tr>\n",
              "    <tr>\n",
              "      <th>3</th>\n",
              "      <td>cart</td>\n",
              "      <td>fdfeb652-22fa-4153-b9b5-4dfa0dcaffdf</td>\n",
              "      <td>2020-06-01T08:59:31.911Z</td>\n",
              "      <td>2.25</td>\n",
              "      <td>HBV00000NVZBW</td>\n",
              "    </tr>\n",
              "    <tr>\n",
              "      <th>4</th>\n",
              "      <td>cart</td>\n",
              "      <td>9e9d4f7e-898c-40fb-aae9-256c40779933</td>\n",
              "      <td>2020-06-01T08:59:33.888Z</td>\n",
              "      <td>9.95</td>\n",
              "      <td>HBV00000NE0T4</td>\n",
              "    </tr>\n",
              "  </tbody>\n",
              "</table>\n",
              "</div>"
            ],
            "text/plain": [
              "  event                             sessionid  ...  price      productid\n",
              "0  cart  a0655eee-1267-4820-af21-ad8ac068ff7a  ...  14.48  HBV00000NVZE8\n",
              "1  cart  d2ea7bd3-9235-4a9f-a9ea-d7f296e71318  ...  49.90  HBV00000U2B18\n",
              "2  cart  5e594788-78a0-44dd-8e66-37022d48f691  ...   1.99   OFIS3101-080\n",
              "3  cart  fdfeb652-22fa-4153-b9b5-4dfa0dcaffdf  ...   2.25  HBV00000NVZBW\n",
              "4  cart  9e9d4f7e-898c-40fb-aae9-256c40779933  ...   9.95  HBV00000NE0T4\n",
              "\n",
              "[5 rows x 5 columns]"
            ]
          },
          "metadata": {
            "tags": []
          },
          "execution_count": 183
        }
      ]
    },
    {
      "cell_type": "markdown",
      "metadata": {
        "id": "49D860wA5f8x"
      },
      "source": [
        "There are two dataset which are contains prouducts and session details. I used productid as a primary key and merge two csv files."
      ]
    },
    {
      "cell_type": "code",
      "metadata": {
        "colab": {
          "base_uri": "https://localhost:8080/",
          "height": 289
        },
        "id": "KlTZBdSA5d9a",
        "outputId": "604d91db-2a4b-4ce7-e2c9-e6fd70687e34"
      },
      "source": [
        "data = meta.merge(events, on=\"productid\")\n",
        "data.head()"
      ],
      "execution_count": 184,
      "outputs": [
        {
          "output_type": "execute_result",
          "data": {
            "text/html": [
              "<div>\n",
              "<style scoped>\n",
              "    .dataframe tbody tr th:only-of-type {\n",
              "        vertical-align: middle;\n",
              "    }\n",
              "\n",
              "    .dataframe tbody tr th {\n",
              "        vertical-align: top;\n",
              "    }\n",
              "\n",
              "    .dataframe thead th {\n",
              "        text-align: right;\n",
              "    }\n",
              "</style>\n",
              "<table border=\"1\" class=\"dataframe\">\n",
              "  <thead>\n",
              "    <tr style=\"text-align: right;\">\n",
              "      <th></th>\n",
              "      <th>productid</th>\n",
              "      <th>brand</th>\n",
              "      <th>category</th>\n",
              "      <th>subcategory</th>\n",
              "      <th>name</th>\n",
              "      <th>event</th>\n",
              "      <th>sessionid</th>\n",
              "      <th>eventtime</th>\n",
              "      <th>price</th>\n",
              "    </tr>\n",
              "  </thead>\n",
              "  <tbody>\n",
              "    <tr>\n",
              "      <th>0</th>\n",
              "      <td>HBV00000AX6LR</td>\n",
              "      <td>Palette</td>\n",
              "      <td>Kişisel Bakım</td>\n",
              "      <td>Saç Bakımı</td>\n",
              "      <td>Palette Kalıcı Doğal Renkler 10-4 PAPATYA</td>\n",
              "      <td>cart</td>\n",
              "      <td>cd34b98c-1e65-4dbb-945c-ca4955a9ad3c</td>\n",
              "      <td>2020-06-02T07:41:35.600Z</td>\n",
              "      <td>14.90</td>\n",
              "    </tr>\n",
              "    <tr>\n",
              "      <th>1</th>\n",
              "      <td>HBV00000AX6LR</td>\n",
              "      <td>Palette</td>\n",
              "      <td>Kişisel Bakım</td>\n",
              "      <td>Saç Bakımı</td>\n",
              "      <td>Palette Kalıcı Doğal Renkler 10-4 PAPATYA</td>\n",
              "      <td>cart</td>\n",
              "      <td>cd34b98c-1e65-4dbb-945c-ca4955a9ad3c</td>\n",
              "      <td>2020-06-02T07:41:36.982Z</td>\n",
              "      <td>14.90</td>\n",
              "    </tr>\n",
              "    <tr>\n",
              "      <th>2</th>\n",
              "      <td>HBV00000BSAQG</td>\n",
              "      <td>Best</td>\n",
              "      <td>Pet Shop</td>\n",
              "      <td>Kedi</td>\n",
              "      <td>Best Pet Jöle İçinde Parça Etli Somonlu Konser...</td>\n",
              "      <td>cart</td>\n",
              "      <td>9b1bc61a-abd1-48b6-950d-e4b7e5fbdc44</td>\n",
              "      <td>2020-06-09T14:07:16.068Z</td>\n",
              "      <td>11.99</td>\n",
              "    </tr>\n",
              "    <tr>\n",
              "      <th>3</th>\n",
              "      <td>HBV00000BSAQG</td>\n",
              "      <td>Best</td>\n",
              "      <td>Pet Shop</td>\n",
              "      <td>Kedi</td>\n",
              "      <td>Best Pet Jöle İçinde Parça Etli Somonlu Konser...</td>\n",
              "      <td>cart</td>\n",
              "      <td>89236793-7661-4043-a33e-cbdd80b728ae</td>\n",
              "      <td>2020-06-14T11:12:10.737Z</td>\n",
              "      <td>11.99</td>\n",
              "    </tr>\n",
              "    <tr>\n",
              "      <th>4</th>\n",
              "      <td>HBV00000JUHBA</td>\n",
              "      <td>Tarım Kredi</td>\n",
              "      <td>Temel Gıda</td>\n",
              "      <td>Bakliyat, Pirinç, Makarna</td>\n",
              "      <td>Türkiye Tarım Kredi Koop.Yeşil Mercimek 1 kg</td>\n",
              "      <td>cart</td>\n",
              "      <td>7648b59c-fae4-4486-afbd-25146fa154ff</td>\n",
              "      <td>2020-06-01T08:50:44.463Z</td>\n",
              "      <td>10.50</td>\n",
              "    </tr>\n",
              "  </tbody>\n",
              "</table>\n",
              "</div>"
            ],
            "text/plain": [
              "       productid        brand  ...                 eventtime  price\n",
              "0  HBV00000AX6LR      Palette  ...  2020-06-02T07:41:35.600Z  14.90\n",
              "1  HBV00000AX6LR      Palette  ...  2020-06-02T07:41:36.982Z  14.90\n",
              "2  HBV00000BSAQG         Best  ...  2020-06-09T14:07:16.068Z  11.99\n",
              "3  HBV00000BSAQG         Best  ...  2020-06-14T11:12:10.737Z  11.99\n",
              "4  HBV00000JUHBA  Tarım Kredi  ...  2020-06-01T08:50:44.463Z  10.50\n",
              "\n",
              "[5 rows x 9 columns]"
            ]
          },
          "metadata": {
            "tags": []
          },
          "execution_count": 184
        }
      ]
    },
    {
      "cell_type": "code",
      "metadata": {
        "colab": {
          "base_uri": "https://localhost:8080/"
        },
        "id": "H1Bu0u2c5qBx",
        "outputId": "d49b3461-7076-499f-da1f-507494c125be"
      },
      "source": [
        "data.info()"
      ],
      "execution_count": 185,
      "outputs": [
        {
          "output_type": "stream",
          "text": [
            "<class 'pandas.core.frame.DataFrame'>\n",
            "Int64Index: 387656 entries, 0 to 387655\n",
            "Data columns (total 9 columns):\n",
            " #   Column       Non-Null Count   Dtype  \n",
            "---  ------       --------------   -----  \n",
            " 0   productid    387650 non-null  object \n",
            " 1   brand        255805 non-null  object \n",
            " 2   category     387650 non-null  object \n",
            " 3   subcategory  387650 non-null  object \n",
            " 4   name         387650 non-null  object \n",
            " 5   event        387656 non-null  object \n",
            " 6   sessionid    387656 non-null  object \n",
            " 7   eventtime    387656 non-null  object \n",
            " 8   price        387650 non-null  float64\n",
            "dtypes: float64(1), object(8)\n",
            "memory usage: 29.6+ MB\n"
          ],
          "name": "stdout"
        }
      ]
    },
    {
      "cell_type": "markdown",
      "metadata": {
        "id": "xSoB6tXeCrpA"
      },
      "source": [
        "Identify and drop null in ids columns"
      ]
    },
    {
      "cell_type": "code",
      "metadata": {
        "colab": {
          "base_uri": "https://localhost:8080/"
        },
        "id": "aDdixI2TCaIS",
        "outputId": "86efef8d-6c7d-4199-a707-0feff1b24a20"
      },
      "source": [
        "data.isna().sum()"
      ],
      "execution_count": 186,
      "outputs": [
        {
          "output_type": "execute_result",
          "data": {
            "text/plain": [
              "productid           6\n",
              "brand          131851\n",
              "category            6\n",
              "subcategory         6\n",
              "name                6\n",
              "event               0\n",
              "sessionid           0\n",
              "eventtime           0\n",
              "price               6\n",
              "dtype: int64"
            ]
          },
          "metadata": {
            "tags": []
          },
          "execution_count": 186
        }
      ]
    },
    {
      "cell_type": "code",
      "metadata": {
        "id": "8-v_wyolCh1H"
      },
      "source": [
        "data = data.dropna(subset=['sessionid','productid'])"
      ],
      "execution_count": 187,
      "outputs": []
    },
    {
      "cell_type": "code",
      "metadata": {
        "colab": {
          "base_uri": "https://localhost:8080/"
        },
        "id": "2o9ID1-RCqGQ",
        "outputId": "42d092bd-8275-4856-85a4-bd6a691889ec"
      },
      "source": [
        "data.isna().sum()"
      ],
      "execution_count": 188,
      "outputs": [
        {
          "output_type": "execute_result",
          "data": {
            "text/plain": [
              "productid           0\n",
              "brand          131845\n",
              "category            0\n",
              "subcategory         0\n",
              "name                0\n",
              "event               0\n",
              "sessionid           0\n",
              "eventtime           0\n",
              "price               0\n",
              "dtype: int64"
            ]
          },
          "metadata": {
            "tags": []
          },
          "execution_count": 188
        }
      ]
    },
    {
      "cell_type": "code",
      "metadata": {
        "colab": {
          "base_uri": "https://localhost:8080/",
          "height": 297
        },
        "id": "uRIy0SYJ6DEQ",
        "outputId": "c195f803-6839-4cbb-b439-92f021d36ca2"
      },
      "source": [
        "data.describe(include=['O']).T"
      ],
      "execution_count": 189,
      "outputs": [
        {
          "output_type": "execute_result",
          "data": {
            "text/html": [
              "<div>\n",
              "<style scoped>\n",
              "    .dataframe tbody tr th:only-of-type {\n",
              "        vertical-align: middle;\n",
              "    }\n",
              "\n",
              "    .dataframe tbody tr th {\n",
              "        vertical-align: top;\n",
              "    }\n",
              "\n",
              "    .dataframe thead th {\n",
              "        text-align: right;\n",
              "    }\n",
              "</style>\n",
              "<table border=\"1\" class=\"dataframe\">\n",
              "  <thead>\n",
              "    <tr style=\"text-align: right;\">\n",
              "      <th></th>\n",
              "      <th>count</th>\n",
              "      <th>unique</th>\n",
              "      <th>top</th>\n",
              "      <th>freq</th>\n",
              "    </tr>\n",
              "  </thead>\n",
              "  <tbody>\n",
              "    <tr>\n",
              "      <th>productid</th>\n",
              "      <td>387650</td>\n",
              "      <td>10235</td>\n",
              "      <td>HBV00000NVZGU</td>\n",
              "      <td>17082</td>\n",
              "    </tr>\n",
              "    <tr>\n",
              "      <th>brand</th>\n",
              "      <td>255805</td>\n",
              "      <td>789</td>\n",
              "      <td>Carrefour</td>\n",
              "      <td>36683</td>\n",
              "    </tr>\n",
              "    <tr>\n",
              "      <th>category</th>\n",
              "      <td>387650</td>\n",
              "      <td>20</td>\n",
              "      <td>Meyve ve Sebze</td>\n",
              "      <td>76021</td>\n",
              "    </tr>\n",
              "    <tr>\n",
              "      <th>subcategory</th>\n",
              "      <td>387650</td>\n",
              "      <td>132</td>\n",
              "      <td>Sebze</td>\n",
              "      <td>47590</td>\n",
              "    </tr>\n",
              "    <tr>\n",
              "      <th>name</th>\n",
              "      <td>387650</td>\n",
              "      <td>10123</td>\n",
              "      <td>Dana Biftek 250 gr</td>\n",
              "      <td>17082</td>\n",
              "    </tr>\n",
              "    <tr>\n",
              "      <th>event</th>\n",
              "      <td>387650</td>\n",
              "      <td>1</td>\n",
              "      <td>cart</td>\n",
              "      <td>387650</td>\n",
              "    </tr>\n",
              "    <tr>\n",
              "      <th>sessionid</th>\n",
              "      <td>387650</td>\n",
              "      <td>54442</td>\n",
              "      <td>08a906d4-4999-403c-a334-d296106d49cf</td>\n",
              "      <td>308</td>\n",
              "    </tr>\n",
              "    <tr>\n",
              "      <th>eventtime</th>\n",
              "      <td>387650</td>\n",
              "      <td>387190</td>\n",
              "      <td>2020-06-01T10:57:05.474Z</td>\n",
              "      <td>3</td>\n",
              "    </tr>\n",
              "  </tbody>\n",
              "</table>\n",
              "</div>"
            ],
            "text/plain": [
              "              count  unique                                   top    freq\n",
              "productid    387650   10235                         HBV00000NVZGU   17082\n",
              "brand        255805     789                             Carrefour   36683\n",
              "category     387650      20                        Meyve ve Sebze   76021\n",
              "subcategory  387650     132                                 Sebze   47590\n",
              "name         387650   10123                    Dana Biftek 250 gr   17082\n",
              "event        387650       1                                  cart  387650\n",
              "sessionid    387650   54442  08a906d4-4999-403c-a334-d296106d49cf     308\n",
              "eventtime    387650  387190              2020-06-01T10:57:05.474Z       3"
            ]
          },
          "metadata": {
            "tags": []
          },
          "execution_count": 189
        }
      ]
    },
    {
      "cell_type": "markdown",
      "metadata": {
        "id": "f6J5JwNY6Qh4"
      },
      "source": [
        "Cart is a category but we can use it as a quantity. Every cart process is one buying and we can use it as a quantity to answer how many products did the customers buy."
      ]
    },
    {
      "cell_type": "code",
      "metadata": {
        "id": "dRelTI5C6Hgn"
      },
      "source": [
        "data['event'] = data['event'].replace(['cart'],'1')\n",
        "data['event'] = data['event'].astype(float)"
      ],
      "execution_count": 190,
      "outputs": []
    },
    {
      "cell_type": "code",
      "metadata": {
        "id": "YGWRjWs-ZAfA"
      },
      "source": [
        "data_full = data.copy()"
      ],
      "execution_count": 191,
      "outputs": []
    },
    {
      "cell_type": "code",
      "metadata": {
        "colab": {
          "base_uri": "https://localhost:8080/",
          "height": 204
        },
        "id": "TqWupVSSBaB3",
        "outputId": "81c2f4da-38b6-408b-8f88-59a2d876e838"
      },
      "source": [
        "data = data[['sessionid','productid','event']]\n",
        "data.head()"
      ],
      "execution_count": 192,
      "outputs": [
        {
          "output_type": "execute_result",
          "data": {
            "text/html": [
              "<div>\n",
              "<style scoped>\n",
              "    .dataframe tbody tr th:only-of-type {\n",
              "        vertical-align: middle;\n",
              "    }\n",
              "\n",
              "    .dataframe tbody tr th {\n",
              "        vertical-align: top;\n",
              "    }\n",
              "\n",
              "    .dataframe thead th {\n",
              "        text-align: right;\n",
              "    }\n",
              "</style>\n",
              "<table border=\"1\" class=\"dataframe\">\n",
              "  <thead>\n",
              "    <tr style=\"text-align: right;\">\n",
              "      <th></th>\n",
              "      <th>sessionid</th>\n",
              "      <th>productid</th>\n",
              "      <th>event</th>\n",
              "    </tr>\n",
              "  </thead>\n",
              "  <tbody>\n",
              "    <tr>\n",
              "      <th>0</th>\n",
              "      <td>cd34b98c-1e65-4dbb-945c-ca4955a9ad3c</td>\n",
              "      <td>HBV00000AX6LR</td>\n",
              "      <td>1.0</td>\n",
              "    </tr>\n",
              "    <tr>\n",
              "      <th>1</th>\n",
              "      <td>cd34b98c-1e65-4dbb-945c-ca4955a9ad3c</td>\n",
              "      <td>HBV00000AX6LR</td>\n",
              "      <td>1.0</td>\n",
              "    </tr>\n",
              "    <tr>\n",
              "      <th>2</th>\n",
              "      <td>9b1bc61a-abd1-48b6-950d-e4b7e5fbdc44</td>\n",
              "      <td>HBV00000BSAQG</td>\n",
              "      <td>1.0</td>\n",
              "    </tr>\n",
              "    <tr>\n",
              "      <th>3</th>\n",
              "      <td>89236793-7661-4043-a33e-cbdd80b728ae</td>\n",
              "      <td>HBV00000BSAQG</td>\n",
              "      <td>1.0</td>\n",
              "    </tr>\n",
              "    <tr>\n",
              "      <th>4</th>\n",
              "      <td>7648b59c-fae4-4486-afbd-25146fa154ff</td>\n",
              "      <td>HBV00000JUHBA</td>\n",
              "      <td>1.0</td>\n",
              "    </tr>\n",
              "  </tbody>\n",
              "</table>\n",
              "</div>"
            ],
            "text/plain": [
              "                              sessionid      productid  event\n",
              "0  cd34b98c-1e65-4dbb-945c-ca4955a9ad3c  HBV00000AX6LR    1.0\n",
              "1  cd34b98c-1e65-4dbb-945c-ca4955a9ad3c  HBV00000AX6LR    1.0\n",
              "2  9b1bc61a-abd1-48b6-950d-e4b7e5fbdc44  HBV00000BSAQG    1.0\n",
              "3  89236793-7661-4043-a33e-cbdd80b728ae  HBV00000BSAQG    1.0\n",
              "4  7648b59c-fae4-4486-afbd-25146fa154ff  HBV00000JUHBA    1.0"
            ]
          },
          "metadata": {
            "tags": []
          },
          "execution_count": 192
        }
      ]
    },
    {
      "cell_type": "markdown",
      "metadata": {
        "id": "E-Txbxuu6xSR"
      },
      "source": [
        "Next, we will create a session-item matrix. In this matrix, each row represents a session, each column represents each product or item and the value in each cell indicates whether the customer has purchased the given product in that particular session."
      ]
    },
    {
      "cell_type": "code",
      "metadata": {
        "colab": {
          "base_uri": "https://localhost:8080/"
        },
        "id": "ZFhB114kBTpA",
        "outputId": "bd8cde73-54e3-40b1-a98a-89fa1886d495"
      },
      "source": [
        "session_c = CategoricalDtype(sorted(data.sessionid.unique()), ordered=True)\n",
        "product_c = CategoricalDtype(sorted(data.productid.unique()), ordered=True)\n",
        "\n",
        "row = data.sessionid.astype(session_c).cat.codes\n",
        "col = data.productid.astype(product_c).cat.codes\n",
        "\n",
        "session_item_matrix = csr_matrix((data[\"event\"], (row, col)), shape=(session_c.categories.size, product_c.categories.size))\n",
        "session_item_matrix"
      ],
      "execution_count": 23,
      "outputs": [
        {
          "output_type": "execute_result",
          "data": {
            "text/plain": [
              "<54442x10235 sparse matrix of type '<class 'numpy.float64'>'\n",
              "\twith 272476 stored elements in Compressed Sparse Row format>"
            ]
          },
          "metadata": {
            "tags": []
          },
          "execution_count": 23
        }
      ]
    },
    {
      "cell_type": "code",
      "metadata": {
        "colab": {
          "base_uri": "https://localhost:8080/"
        },
        "id": "ggNd2z4yELPb",
        "outputId": "7bd380af-976e-45df-dbbd-50f9ba18ab27"
      },
      "source": [
        "session_item_matrix[:10,:10].todense()"
      ],
      "execution_count": 32,
      "outputs": [
        {
          "output_type": "execute_result",
          "data": {
            "text/plain": [
              "matrix([[0., 0., 0., 0., 0., 0., 0., 0., 0., 0.],\n",
              "        [0., 0., 0., 0., 0., 0., 0., 0., 0., 0.],\n",
              "        [0., 0., 0., 0., 0., 0., 0., 0., 0., 0.],\n",
              "        [0., 0., 0., 0., 0., 0., 0., 0., 0., 0.],\n",
              "        [0., 0., 0., 0., 0., 0., 0., 0., 0., 0.],\n",
              "        [0., 0., 0., 0., 0., 0., 0., 0., 0., 0.],\n",
              "        [0., 0., 0., 0., 0., 0., 0., 0., 0., 0.],\n",
              "        [0., 0., 0., 0., 0., 0., 0., 0., 0., 0.],\n",
              "        [0., 0., 0., 0., 0., 0., 0., 0., 0., 0.],\n",
              "        [0., 0., 0., 0., 0., 0., 0., 0., 0., 0.]])"
            ]
          },
          "metadata": {
            "tags": []
          },
          "execution_count": 32
        }
      ]
    },
    {
      "cell_type": "code",
      "metadata": {
        "colab": {
          "base_uri": "https://localhost:8080/",
          "height": 35
        },
        "id": "YaeYVzuiGRUz",
        "outputId": "36827e8b-2332-4bc6-e7f8-f1ff08829633"
      },
      "source": [
        "session_c.categories[10]"
      ],
      "execution_count": 50,
      "outputs": [
        {
          "output_type": "execute_result",
          "data": {
            "application/vnd.google.colaboratory.intrinsic+json": {
              "type": "string"
            },
            "text/plain": [
              "'000cd8b2-7c1a-454a-b038-45e3e6da202c'"
            ]
          },
          "metadata": {
            "tags": []
          },
          "execution_count": 50
        }
      ]
    },
    {
      "cell_type": "markdown",
      "metadata": {
        "id": "zbDv4ey5AnGq"
      },
      "source": [
        "## User-User Similarity"
      ]
    },
    {
      "cell_type": "markdown",
      "metadata": {
        "id": "icXDjBbb7QaG"
      },
      "source": [
        "We compute the cosine similarity from the session item matrix to determine similarity between user's purchase behaviour."
      ]
    },
    {
      "cell_type": "code",
      "metadata": {
        "colab": {
          "base_uri": "https://localhost:8080/"
        },
        "id": "slHS1piKF41-",
        "outputId": "14a7fa53-e4cb-44cd-ceba-1b0d6e6338d2"
      },
      "source": [
        "user_user_sim_matrix = cosine_similarity(session_item_matrix, dense_output=False)\n",
        "user_user_sim_matrix"
      ],
      "execution_count": 42,
      "outputs": [
        {
          "output_type": "execute_result",
          "data": {
            "text/plain": [
              "<54442x54442 sparse matrix of type '<class 'numpy.float64'>'\n",
              "\twith 112020838 stored elements in Compressed Sparse Row format>"
            ]
          },
          "metadata": {
            "tags": []
          },
          "execution_count": 42
        }
      ]
    },
    {
      "cell_type": "code",
      "metadata": {
        "id": "iaMqp_z3HWzo"
      },
      "source": [
        "def getname(id=0, ntype='session', mode='lookup'):\n",
        "  if mode=='random':\n",
        "    if ntype=='session':\n",
        "      id = np.random.randint(0,len(session_c.categories))\n",
        "      return session_c.categories[id], id\n",
        "    else:\n",
        "      id = np.random.randint(0,len(product_c.categories))\n",
        "      return product_c.categories[id], id\n",
        "  else:\n",
        "    if ntype=='session':\n",
        "      return session_c.categories[id]\n",
        "    else:\n",
        "      return product_c.categories[id]\n",
        "   \n",
        "\n",
        "def print_topk(matrix, id, k=10, ntype='session'):\n",
        "  frame = pd.DataFrame(matrix[id].todense()).T.sort_values(by=0, ascending=False).head(k)\n",
        "  frame = frame.reset_index()\n",
        "  frame.columns = ['id','similarity']\n",
        "  frame[f'{ntype}_id'] = frame['id'].apply(lambda x: getname(x, ntype))\n",
        "  return frame"
      ],
      "execution_count": 158,
      "outputs": []
    },
    {
      "cell_type": "code",
      "metadata": {
        "colab": {
          "base_uri": "https://localhost:8080/"
        },
        "id": "e-J-UrhYHTez",
        "outputId": "e531b1a7-0001-4ecb-dfc2-5531e7b7b949"
      },
      "source": [
        "random_session, id = getname(ntype='session', mode='random')\n",
        "print(\"Let's try it for a random session {}\".format(random_session))"
      ],
      "execution_count": 167,
      "outputs": [
        {
          "output_type": "stream",
          "text": [
            "Let's try it for a random session 628ba8b7-5b24-4d26-a529-7bd62f1fc47b\n"
          ],
          "name": "stdout"
        }
      ]
    },
    {
      "cell_type": "markdown",
      "metadata": {
        "id": "yaulgRot_bpQ"
      },
      "source": [
        "What are the similar sessions?"
      ]
    },
    {
      "cell_type": "code",
      "metadata": {
        "colab": {
          "base_uri": "https://localhost:8080/",
          "height": 359
        },
        "id": "ay_k2TTHQnWK",
        "outputId": "424b8ecc-34da-4759-9f3a-eff1d095054a"
      },
      "source": [
        "similar_sessions = print_topk(user_user_sim_matrix, id=id, k=10, ntype='session')\n",
        "similar_sessions"
      ],
      "execution_count": 168,
      "outputs": [
        {
          "output_type": "execute_result",
          "data": {
            "text/html": [
              "<div>\n",
              "<style scoped>\n",
              "    .dataframe tbody tr th:only-of-type {\n",
              "        vertical-align: middle;\n",
              "    }\n",
              "\n",
              "    .dataframe tbody tr th {\n",
              "        vertical-align: top;\n",
              "    }\n",
              "\n",
              "    .dataframe thead th {\n",
              "        text-align: right;\n",
              "    }\n",
              "</style>\n",
              "<table border=\"1\" class=\"dataframe\">\n",
              "  <thead>\n",
              "    <tr style=\"text-align: right;\">\n",
              "      <th></th>\n",
              "      <th>id</th>\n",
              "      <th>similarity</th>\n",
              "      <th>session_id</th>\n",
              "    </tr>\n",
              "  </thead>\n",
              "  <tbody>\n",
              "    <tr>\n",
              "      <th>0</th>\n",
              "      <td>21076</td>\n",
              "      <td>1.000000</td>\n",
              "      <td>628ba8b7-5b24-4d26-a529-7bd62f1fc47b</td>\n",
              "    </tr>\n",
              "    <tr>\n",
              "      <th>1</th>\n",
              "      <td>7655</td>\n",
              "      <td>0.606933</td>\n",
              "      <td>23963196-591a-4d3d-937d-9383b9e39218</td>\n",
              "    </tr>\n",
              "    <tr>\n",
              "      <th>2</th>\n",
              "      <td>30129</td>\n",
              "      <td>0.587280</td>\n",
              "      <td>8d698d37-d652-4cf0-9ce3-fc89724312f1</td>\n",
              "    </tr>\n",
              "    <tr>\n",
              "      <th>3</th>\n",
              "      <td>3322</td>\n",
              "      <td>0.571886</td>\n",
              "      <td>0f557a0b-e1ed-4409-bc59-a1ea8b2acb27</td>\n",
              "    </tr>\n",
              "    <tr>\n",
              "      <th>4</th>\n",
              "      <td>22107</td>\n",
              "      <td>0.571429</td>\n",
              "      <td>67512123-03fd-457c-927b-1c1dd61162d7</td>\n",
              "    </tr>\n",
              "    <tr>\n",
              "      <th>5</th>\n",
              "      <td>48984</td>\n",
              "      <td>0.571429</td>\n",
              "      <td>e6457f49-56c7-47c6-b236-73d343189fae</td>\n",
              "    </tr>\n",
              "    <tr>\n",
              "      <th>6</th>\n",
              "      <td>15102</td>\n",
              "      <td>0.571429</td>\n",
              "      <td>4601757d-fa21-43e4-afea-ca88d5401d30</td>\n",
              "    </tr>\n",
              "    <tr>\n",
              "      <th>7</th>\n",
              "      <td>15128</td>\n",
              "      <td>0.571429</td>\n",
              "      <td>46239b44-44a4-4751-ade7-e8e7d5c14846</td>\n",
              "    </tr>\n",
              "    <tr>\n",
              "      <th>8</th>\n",
              "      <td>43092</td>\n",
              "      <td>0.571429</td>\n",
              "      <td>ca46d863-0f83-42e6-b805-3c440ee59890</td>\n",
              "    </tr>\n",
              "    <tr>\n",
              "      <th>9</th>\n",
              "      <td>9323</td>\n",
              "      <td>0.571429</td>\n",
              "      <td>2b609c6b-8bdc-4e36-bdb2-1428b385215f</td>\n",
              "    </tr>\n",
              "  </tbody>\n",
              "</table>\n",
              "</div>"
            ],
            "text/plain": [
              "      id  similarity                            session_id\n",
              "0  21076    1.000000  628ba8b7-5b24-4d26-a529-7bd62f1fc47b\n",
              "1   7655    0.606933  23963196-591a-4d3d-937d-9383b9e39218\n",
              "2  30129    0.587280  8d698d37-d652-4cf0-9ce3-fc89724312f1\n",
              "3   3322    0.571886  0f557a0b-e1ed-4409-bc59-a1ea8b2acb27\n",
              "4  22107    0.571429  67512123-03fd-457c-927b-1c1dd61162d7\n",
              "5  48984    0.571429  e6457f49-56c7-47c6-b236-73d343189fae\n",
              "6  15102    0.571429  4601757d-fa21-43e4-afea-ca88d5401d30\n",
              "7  15128    0.571429  46239b44-44a4-4751-ade7-e8e7d5c14846\n",
              "8  43092    0.571429  ca46d863-0f83-42e6-b805-3c440ee59890\n",
              "9   9323    0.571429  2b609c6b-8bdc-4e36-bdb2-1428b385215f"
            ]
          },
          "metadata": {
            "tags": []
          },
          "execution_count": 168
        }
      ]
    },
    {
      "cell_type": "code",
      "metadata": {
        "colab": {
          "base_uri": "https://localhost:8080/"
        },
        "id": "G9aU9OdIQlx6",
        "outputId": "d40e83b7-809f-473e-fa44-2de938114eb1"
      },
      "source": [
        "print(\"Random Session ID: {}\\nTop-similar Session ID: {}\".\\\n",
        "      format(random_session, similar_sessions.iloc[1].session_id))"
      ],
      "execution_count": 169,
      "outputs": [
        {
          "output_type": "stream",
          "text": [
            "Random Session ID: 628ba8b7-5b24-4d26-a529-7bd62f1fc47b\n",
            "Top-similar Session ID: 23963196-591a-4d3d-937d-9383b9e39218\n"
          ],
          "name": "stdout"
        }
      ]
    },
    {
      "cell_type": "markdown",
      "metadata": {
        "id": "U52b-5jWSev_"
      },
      "source": [
        "For reference, we take a random session id as A and top-most similar session id as B. Therefore, by identifying the items purchased by Customer A and Customer B and the Remaining Items of Customer A relative to Customer B, we can safely assume that there is high similarity between customers, as there is high similarity between customers. The rest of the products purchased by customer A are also likely to be purchased by customer B. Therefore, we recommend the remaining products to Customer"
      ]
    },
    {
      "cell_type": "code",
      "metadata": {
        "colab": {
          "base_uri": "https://localhost:8080/"
        },
        "id": "N6dqOt06_xTZ",
        "outputId": "50fa73c2-d8c5-495e-9de4-4813ecd0d036"
      },
      "source": [
        "items_bought_by_customerA = [getname(x, ntype='product') for x in np.argwhere(session_item_matrix[id]>0)[:,1]]\n",
        "print(\"Items Bought by Customer A:\")\n",
        "items_bought_by_customerA"
      ],
      "execution_count": 194,
      "outputs": [
        {
          "output_type": "stream",
          "text": [
            "Items Bought by Customer A:\n"
          ],
          "name": "stdout"
        },
        {
          "output_type": "execute_result",
          "data": {
            "text/plain": [
              "['HBV00000EEHCZ',\n",
              " 'HBV00000GNAW1',\n",
              " 'HBV00000JTA3F',\n",
              " 'HBV00000NE0RD',\n",
              " 'HBV00000NE0UO',\n",
              " 'HBV00000NE0V8',\n",
              " 'HBV00000NE1MX',\n",
              " 'HBV00000NFMLC',\n",
              " 'HBV00000NG8K2',\n",
              " 'HBV00000NG8KU',\n",
              " 'HBV00000OE7BC',\n",
              " 'HBV00000OE7QQ',\n",
              " 'HBV00000P7VNE',\n",
              " 'HBV00000PNG99',\n",
              " 'HBV00000PQIQE',\n",
              " 'HBV00000PQIQX',\n",
              " 'HBV00000QSG5K',\n",
              " 'HBV00000QU499',\n",
              " 'HBV00000QUBMQ',\n",
              " 'ZYHPFRITOCPS058',\n",
              " 'ZYPINAR153100004',\n",
              " 'ZYPINAR153100006',\n",
              " 'ZYTAD7141038']"
            ]
          },
          "metadata": {
            "tags": []
          },
          "execution_count": 194
        }
      ]
    },
    {
      "cell_type": "code",
      "metadata": {
        "colab": {
          "base_uri": "https://localhost:8080/"
        },
        "id": "79MezSooACUP",
        "outputId": "89206cdc-fc19-48f7-f06c-a533dcfc7883"
      },
      "source": [
        "items_bought_by_customerB = [getname(x, ntype='product') for x in np.argwhere(session_item_matrix[similar_sessions.iloc[1].id]>0)[:,1]]\n",
        "print(\"Items bought by other customer:\")\n",
        "items_bought_by_customerB"
      ],
      "execution_count": 195,
      "outputs": [
        {
          "output_type": "stream",
          "text": [
            "Items bought by other customer:\n"
          ],
          "name": "stdout"
        },
        {
          "output_type": "execute_result",
          "data": {
            "text/plain": [
              "['HBV00000O2S62',\n",
              " 'HBV00000O2SIK',\n",
              " 'HBV00000OE7BC',\n",
              " 'HBV00000OE7QQ',\n",
              " 'HBV00000QU499']"
            ]
          },
          "metadata": {
            "tags": []
          },
          "execution_count": 195
        }
      ]
    },
    {
      "cell_type": "code",
      "metadata": {
        "colab": {
          "base_uri": "https://localhost:8080/",
          "height": 717
        },
        "id": "8DL_RNZjACSR",
        "outputId": "aee04f04-66a2-4ab3-e86f-a9c0e77a783c"
      },
      "source": [
        "items_to_recommend_to_customerB= set(items_bought_by_customerA) - set(items_bought_by_customerB)\n",
        "print(\"Items to Recommend to customer B:\")\n",
        "data_full.loc[data_full['productid'].isin(items_to_recommend_to_customerB),['productid', 'name']].drop_duplicates().set_index('productid')"
      ],
      "execution_count": 197,
      "outputs": [
        {
          "output_type": "stream",
          "text": [
            "Items to Recommend to customer B:\n"
          ],
          "name": "stdout"
        },
        {
          "output_type": "execute_result",
          "data": {
            "text/html": [
              "<div>\n",
              "<style scoped>\n",
              "    .dataframe tbody tr th:only-of-type {\n",
              "        vertical-align: middle;\n",
              "    }\n",
              "\n",
              "    .dataframe tbody tr th {\n",
              "        vertical-align: top;\n",
              "    }\n",
              "\n",
              "    .dataframe thead th {\n",
              "        text-align: right;\n",
              "    }\n",
              "</style>\n",
              "<table border=\"1\" class=\"dataframe\">\n",
              "  <thead>\n",
              "    <tr style=\"text-align: right;\">\n",
              "      <th></th>\n",
              "      <th>name</th>\n",
              "    </tr>\n",
              "    <tr>\n",
              "      <th>productid</th>\n",
              "      <th></th>\n",
              "    </tr>\n",
              "  </thead>\n",
              "  <tbody>\n",
              "    <tr>\n",
              "      <th>ZYHPFRITOCPS058</th>\n",
              "      <td>Doritos Nacho Süper Boy Mısır Cipsi 113 gr</td>\n",
              "    </tr>\n",
              "    <tr>\n",
              "      <th>HBV00000PQIQE</th>\n",
              "      <td>Bağdat Mahlep 30 g</td>\n",
              "    </tr>\n",
              "    <tr>\n",
              "      <th>HBV00000NG8K2</th>\n",
              "      <td>Billur Tuz İyotlu Tuz 750 gr</td>\n",
              "    </tr>\n",
              "    <tr>\n",
              "      <th>HBV00000NFMLC</th>\n",
              "      <td>Greenlife Limon Tuzu 60 g</td>\n",
              "    </tr>\n",
              "    <tr>\n",
              "      <th>ZYTAD7141038</th>\n",
              "      <td>Tadım Kabak Çekirdeği 180 gr</td>\n",
              "    </tr>\n",
              "    <tr>\n",
              "      <th>HBV00000QUBMQ</th>\n",
              "      <td>Knorr Pane Harcı 100 gr</td>\n",
              "    </tr>\n",
              "    <tr>\n",
              "      <th>HBV00000NE0UO</th>\n",
              "      <td>Tahsildaroğlu Ezine Koyun Peyniri 600 gr</td>\n",
              "    </tr>\n",
              "    <tr>\n",
              "      <th>HBV00000EEHCZ</th>\n",
              "      <td>Doğalsan Yulaf Kepeği Bran 400 gr</td>\n",
              "    </tr>\n",
              "    <tr>\n",
              "      <th>ZYPINAR153100006</th>\n",
              "      <td>Pınar Tam Yağlı Süt 6x200 ml</td>\n",
              "    </tr>\n",
              "    <tr>\n",
              "      <th>HBV00000PQIQX</th>\n",
              "      <td>Bağdat Sumak Poşet 80 g</td>\n",
              "    </tr>\n",
              "    <tr>\n",
              "      <th>HBV00000PNG99</th>\n",
              "      <td>Doritos Mısır Cipsi Taco Baharatlı 121 Gr</td>\n",
              "    </tr>\n",
              "    <tr>\n",
              "      <th>HBV00000GNAW1</th>\n",
              "      <td>Tat Mayonez 205 gr</td>\n",
              "    </tr>\n",
              "    <tr>\n",
              "      <th>HBV00000NE1MX</th>\n",
              "      <td>Calve Mayonez 540 gr</td>\n",
              "    </tr>\n",
              "    <tr>\n",
              "      <th>HBV00000NE0V8</th>\n",
              "      <td>Ünal Koyun Peyniri 250 gr</td>\n",
              "    </tr>\n",
              "    <tr>\n",
              "      <th>HBV00000QSG5K</th>\n",
              "      <td>Carrefour Çiğ Badem 150 gr</td>\n",
              "    </tr>\n",
              "    <tr>\n",
              "      <th>HBV00000NG8KU</th>\n",
              "      <td>Ali Babanın Bahçesinden Gezen Tavuk Yumurtası ...</td>\n",
              "    </tr>\n",
              "    <tr>\n",
              "      <th>ZYPINAR153100004</th>\n",
              "      <td>Pınar Tam Yağlı Süt 4x1 lt</td>\n",
              "    </tr>\n",
              "    <tr>\n",
              "      <th>HBV00000P7VNE</th>\n",
              "      <td>Eker Efsane Yoğurt 1250 g</td>\n",
              "    </tr>\n",
              "    <tr>\n",
              "      <th>HBV00000JTA3F</th>\n",
              "      <td>Marmarabirlik Süper Zeytin (261-290) 500 gr</td>\n",
              "    </tr>\n",
              "    <tr>\n",
              "      <th>HBV00000NE0RD</th>\n",
              "      <td>Ünal Çeçil Peyniri 250 gr</td>\n",
              "    </tr>\n",
              "  </tbody>\n",
              "</table>\n",
              "</div>"
            ],
            "text/plain": [
              "                                                               name\n",
              "productid                                                          \n",
              "ZYHPFRITOCPS058          Doritos Nacho Süper Boy Mısır Cipsi 113 gr\n",
              "HBV00000PQIQE                                    Bağdat Mahlep 30 g\n",
              "HBV00000NG8K2                          Billur Tuz İyotlu Tuz 750 gr\n",
              "HBV00000NFMLC                             Greenlife Limon Tuzu 60 g\n",
              "ZYTAD7141038                           Tadım Kabak Çekirdeği 180 gr\n",
              "HBV00000QUBMQ                               Knorr Pane Harcı 100 gr\n",
              "HBV00000NE0UO              Tahsildaroğlu Ezine Koyun Peyniri 600 gr\n",
              "HBV00000EEHCZ                     Doğalsan Yulaf Kepeği Bran 400 gr\n",
              "ZYPINAR153100006                       Pınar Tam Yağlı Süt 6x200 ml\n",
              "HBV00000PQIQX                               Bağdat Sumak Poşet 80 g\n",
              "HBV00000PNG99             Doritos Mısır Cipsi Taco Baharatlı 121 Gr\n",
              "HBV00000GNAW1                                    Tat Mayonez 205 gr\n",
              "HBV00000NE1MX                                  Calve Mayonez 540 gr\n",
              "HBV00000NE0V8                             Ünal Koyun Peyniri 250 gr\n",
              "HBV00000QSG5K                            Carrefour Çiğ Badem 150 gr\n",
              "HBV00000NG8KU     Ali Babanın Bahçesinden Gezen Tavuk Yumurtası ...\n",
              "ZYPINAR153100004                         Pınar Tam Yağlı Süt 4x1 lt\n",
              "HBV00000P7VNE                             Eker Efsane Yoğurt 1250 g\n",
              "HBV00000JTA3F           Marmarabirlik Süper Zeytin (261-290) 500 gr\n",
              "HBV00000NE0RD                             Ünal Çeçil Peyniri 250 gr"
            ]
          },
          "metadata": {
            "tags": []
          },
          "execution_count": 197
        }
      ]
    },
    {
      "cell_type": "markdown",
      "metadata": {
        "id": "H7oVusIFAfOo"
      },
      "source": [
        "> Tip: For Item-item similarity, take the transpose of session-item matrix and repeat the same steps. "
      ]
    }
  ]
}