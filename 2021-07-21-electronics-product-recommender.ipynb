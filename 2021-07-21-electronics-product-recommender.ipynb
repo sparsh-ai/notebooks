{
  "nbformat": 4,
  "nbformat_minor": 0,
  "metadata": {
    "colab": {
      "name": "2021-07-21-electronics-product-recommender.ipynb",
      "provenance": [],
      "toc_visible": true,
      "mount_file_id": "18d34TbFkoEnyd2sA23-nJZPtsY84jPyV",
      "authorship_tag": "ABX9TyND1KUuiPcaQ1qcmm4JQc9s"
    },
    "kernelspec": {
      "name": "python3",
      "display_name": "Python 3"
    },
    "language_info": {
      "name": "python"
    }
  },
  "cells": [
    {
      "cell_type": "markdown",
      "metadata": {
        "id": "NTCf7vHJPFfG"
      },
      "source": [
        "# Electronics Product Recommender\n",
        "> Training electronics product recommender on Amazon electronics product rating data using turicreate and surprise library based popularity and collaborative filtering models and evaluating on RMSE\n",
        "\n",
        "- toc: true\n",
        "- badges: true\n",
        "- comments: true\n",
        "- categories: [Turicreate, Surprise, HyperTuning, Electronics, Retail, ECommerce]\n",
        "- image:"
      ]
    },
    {
      "cell_type": "markdown",
      "metadata": {
        "id": "bDPrFtE46oqx"
      },
      "source": [
        "### Install libraries"
      ]
    },
    {
      "cell_type": "code",
      "metadata": {
        "colab": {
          "base_uri": "https://localhost:8080/",
          "height": 1000
        },
        "collapsed": true,
        "id": "JkOocUyH6sCe",
        "outputId": "e423af7a-1c87-49bd-be24-f5625639af37"
      },
      "source": [
        "#hide-output\n",
        "!pip install surprise\n",
        "!pip install turicreate"
      ],
      "execution_count": 2,
      "outputs": [
        {
          "output_type": "stream",
          "text": [
            "Collecting surprise\n",
            "  Downloading surprise-0.1-py2.py3-none-any.whl (1.8 kB)\n",
            "Collecting scikit-surprise\n",
            "  Downloading scikit-surprise-1.1.1.tar.gz (11.8 MB)\n",
            "\u001b[K     |████████████████████████████████| 11.8 MB 4.4 MB/s \n",
            "\u001b[?25hRequirement already satisfied: joblib>=0.11 in /usr/local/lib/python3.7/dist-packages (from scikit-surprise->surprise) (1.0.1)\n",
            "Requirement already satisfied: numpy>=1.11.2 in /usr/local/lib/python3.7/dist-packages (from scikit-surprise->surprise) (1.19.5)\n",
            "Requirement already satisfied: scipy>=1.0.0 in /usr/local/lib/python3.7/dist-packages (from scikit-surprise->surprise) (1.4.1)\n",
            "Requirement already satisfied: six>=1.10.0 in /usr/local/lib/python3.7/dist-packages (from scikit-surprise->surprise) (1.15.0)\n",
            "Building wheels for collected packages: scikit-surprise\n",
            "  Building wheel for scikit-surprise (setup.py) ... \u001b[?25l\u001b[?25hdone\n",
            "  Created wheel for scikit-surprise: filename=scikit_surprise-1.1.1-cp37-cp37m-linux_x86_64.whl size=1617790 sha256=e23d50c691ab2d0bf5de01caab6e96fae23ced0fc2a55e3e4a52057852b1c06d\n",
            "  Stored in directory: /root/.cache/pip/wheels/76/44/74/b498c42be47b2406bd27994e16c5188e337c657025ab400c1c\n",
            "Successfully built scikit-surprise\n",
            "Installing collected packages: scikit-surprise, surprise\n",
            "Successfully installed scikit-surprise-1.1.1 surprise-0.1\n",
            "Collecting turicreate\n",
            "  Downloading turicreate-6.4.1-cp37-cp37m-manylinux1_x86_64.whl (92.0 MB)\n",
            "\u001b[K     |████████████████████████████████| 92.0 MB 13 kB/s \n",
            "\u001b[?25hRequirement already satisfied: pillow>=5.2.0 in /usr/local/lib/python3.7/dist-packages (from turicreate) (7.1.2)\n",
            "Requirement already satisfied: decorator>=4.0.9 in /usr/local/lib/python3.7/dist-packages (from turicreate) (4.4.2)\n",
            "Requirement already satisfied: six>=1.10.0 in /usr/local/lib/python3.7/dist-packages (from turicreate) (1.15.0)\n",
            "Collecting prettytable==0.7.2\n",
            "  Downloading prettytable-0.7.2.zip (28 kB)\n",
            "Collecting coremltools==3.3\n",
            "  Downloading coremltools-3.3-cp37-none-manylinux1_x86_64.whl (3.5 MB)\n",
            "\u001b[K     |████████████████████████████████| 3.5 MB 33.9 MB/s \n",
            "\u001b[?25hCollecting tensorflow<2.1.0,>=2.0.0\n",
            "  Downloading tensorflow-2.0.4-cp37-cp37m-manylinux2010_x86_64.whl (86.4 MB)\n",
            "\u001b[K     |████████████████████████████████| 86.4 MB 19 kB/s \n",
            "\u001b[?25hRequirement already satisfied: scipy>=1.1.0 in /usr/local/lib/python3.7/dist-packages (from turicreate) (1.4.1)\n",
            "Requirement already satisfied: pandas>=0.23.2 in /usr/local/lib/python3.7/dist-packages (from turicreate) (1.1.5)\n",
            "Collecting numba<0.51.0\n",
            "  Downloading numba-0.50.1-cp37-cp37m-manylinux2014_x86_64.whl (3.6 MB)\n",
            "\u001b[K     |████████████████████████████████| 3.6 MB 41.3 MB/s \n",
            "\u001b[?25hRequirement already satisfied: numpy in /usr/local/lib/python3.7/dist-packages (from turicreate) (1.19.5)\n",
            "Collecting resampy==0.2.1\n",
            "  Downloading resampy-0.2.1.tar.gz (322 kB)\n",
            "\u001b[K     |████████████████████████████████| 322 kB 71.8 MB/s \n",
            "\u001b[?25hRequirement already satisfied: requests>=2.9.1 in /usr/local/lib/python3.7/dist-packages (from turicreate) (2.23.0)\n",
            "Requirement already satisfied: protobuf>=3.1.0 in /usr/local/lib/python3.7/dist-packages (from coremltools==3.3->turicreate) (3.17.3)\n",
            "Collecting llvmlite<0.34,>=0.33.0.dev0\n",
            "  Downloading llvmlite-0.33.0-cp37-cp37m-manylinux1_x86_64.whl (18.3 MB)\n",
            "\u001b[K     |████████████████████████████████| 18.3 MB 1.1 MB/s \n",
            "\u001b[?25hRequirement already satisfied: setuptools in /usr/local/lib/python3.7/dist-packages (from numba<0.51.0->turicreate) (57.2.0)\n",
            "Requirement already satisfied: pytz>=2017.2 in /usr/local/lib/python3.7/dist-packages (from pandas>=0.23.2->turicreate) (2018.9)\n",
            "Requirement already satisfied: python-dateutil>=2.7.3 in /usr/local/lib/python3.7/dist-packages (from pandas>=0.23.2->turicreate) (2.8.1)\n",
            "Requirement already satisfied: idna<3,>=2.5 in /usr/local/lib/python3.7/dist-packages (from requests>=2.9.1->turicreate) (2.10)\n",
            "Requirement already satisfied: chardet<4,>=3.0.2 in /usr/local/lib/python3.7/dist-packages (from requests>=2.9.1->turicreate) (3.0.4)\n",
            "Requirement already satisfied: urllib3!=1.25.0,!=1.25.1,<1.26,>=1.21.1 in /usr/local/lib/python3.7/dist-packages (from requests>=2.9.1->turicreate) (1.24.3)\n",
            "Requirement already satisfied: certifi>=2017.4.17 in /usr/local/lib/python3.7/dist-packages (from requests>=2.9.1->turicreate) (2021.5.30)\n",
            "Requirement already satisfied: opt-einsum>=2.3.2 in /usr/local/lib/python3.7/dist-packages (from tensorflow<2.1.0,>=2.0.0->turicreate) (3.3.0)\n",
            "Requirement already satisfied: google-pasta>=0.1.6 in /usr/local/lib/python3.7/dist-packages (from tensorflow<2.1.0,>=2.0.0->turicreate) (0.2.0)\n",
            "Requirement already satisfied: astor>=0.6.0 in /usr/local/lib/python3.7/dist-packages (from tensorflow<2.1.0,>=2.0.0->turicreate) (0.8.1)\n",
            "Requirement already satisfied: absl-py>=0.7.0 in /usr/local/lib/python3.7/dist-packages (from tensorflow<2.1.0,>=2.0.0->turicreate) (0.12.0)\n",
            "Collecting tensorflow-estimator<2.1.0,>=2.0.0\n",
            "  Downloading tensorflow_estimator-2.0.1-py2.py3-none-any.whl (449 kB)\n",
            "\u001b[K     |████████████████████████████████| 449 kB 48.0 MB/s \n",
            "\u001b[?25hRequirement already satisfied: termcolor>=1.1.0 in /usr/local/lib/python3.7/dist-packages (from tensorflow<2.1.0,>=2.0.0->turicreate) (1.1.0)\n",
            "Collecting keras-applications>=1.0.8\n",
            "  Downloading Keras_Applications-1.0.8-py3-none-any.whl (50 kB)\n",
            "\u001b[K     |████████████████████████████████| 50 kB 5.9 MB/s \n",
            "\u001b[?25hRequirement already satisfied: wrapt>=1.11.1 in /usr/local/lib/python3.7/dist-packages (from tensorflow<2.1.0,>=2.0.0->turicreate) (1.12.1)\n",
            "Requirement already satisfied: grpcio>=1.8.6 in /usr/local/lib/python3.7/dist-packages (from tensorflow<2.1.0,>=2.0.0->turicreate) (1.34.1)\n",
            "Collecting tensorboard<2.1.0,>=2.0.0\n",
            "  Downloading tensorboard-2.0.2-py3-none-any.whl (3.8 MB)\n",
            "\u001b[K     |████████████████████████████████| 3.8 MB 22.5 MB/s \n",
            "\u001b[?25hRequirement already satisfied: wheel>=0.26 in /usr/local/lib/python3.7/dist-packages (from tensorflow<2.1.0,>=2.0.0->turicreate) (0.36.2)\n",
            "Requirement already satisfied: keras-preprocessing>=1.0.5 in /usr/local/lib/python3.7/dist-packages (from tensorflow<2.1.0,>=2.0.0->turicreate) (1.1.2)\n",
            "Collecting gast==0.2.2\n",
            "  Downloading gast-0.2.2.tar.gz (10 kB)\n",
            "Collecting h5py<=2.10.0\n",
            "  Downloading h5py-2.10.0-cp37-cp37m-manylinux1_x86_64.whl (2.9 MB)\n",
            "\u001b[K     |████████████████████████████████| 2.9 MB 23.8 MB/s \n",
            "\u001b[?25hCollecting numpy\n",
            "  Downloading numpy-1.18.5-cp37-cp37m-manylinux1_x86_64.whl (20.1 MB)\n",
            "\u001b[K     |████████████████████████████████| 20.1 MB 1.3 MB/s \n",
            "\u001b[?25hRequirement already satisfied: google-auth-oauthlib<0.5,>=0.4.1 in /usr/local/lib/python3.7/dist-packages (from tensorboard<2.1.0,>=2.0.0->tensorflow<2.1.0,>=2.0.0->turicreate) (0.4.4)\n",
            "Requirement already satisfied: werkzeug>=0.11.15 in /usr/local/lib/python3.7/dist-packages (from tensorboard<2.1.0,>=2.0.0->tensorflow<2.1.0,>=2.0.0->turicreate) (1.0.1)\n",
            "Requirement already satisfied: markdown>=2.6.8 in /usr/local/lib/python3.7/dist-packages (from tensorboard<2.1.0,>=2.0.0->tensorflow<2.1.0,>=2.0.0->turicreate) (3.3.4)\n",
            "Requirement already satisfied: google-auth<2,>=1.6.3 in /usr/local/lib/python3.7/dist-packages (from tensorboard<2.1.0,>=2.0.0->tensorflow<2.1.0,>=2.0.0->turicreate) (1.32.1)\n",
            "Requirement already satisfied: pyasn1-modules>=0.2.1 in /usr/local/lib/python3.7/dist-packages (from google-auth<2,>=1.6.3->tensorboard<2.1.0,>=2.0.0->tensorflow<2.1.0,>=2.0.0->turicreate) (0.2.8)\n",
            "Requirement already satisfied: cachetools<5.0,>=2.0.0 in /usr/local/lib/python3.7/dist-packages (from google-auth<2,>=1.6.3->tensorboard<2.1.0,>=2.0.0->tensorflow<2.1.0,>=2.0.0->turicreate) (4.2.2)\n",
            "Requirement already satisfied: rsa<5,>=3.1.4 in /usr/local/lib/python3.7/dist-packages (from google-auth<2,>=1.6.3->tensorboard<2.1.0,>=2.0.0->tensorflow<2.1.0,>=2.0.0->turicreate) (4.7.2)\n",
            "Requirement already satisfied: requests-oauthlib>=0.7.0 in /usr/local/lib/python3.7/dist-packages (from google-auth-oauthlib<0.5,>=0.4.1->tensorboard<2.1.0,>=2.0.0->tensorflow<2.1.0,>=2.0.0->turicreate) (1.3.0)\n",
            "Requirement already satisfied: importlib-metadata in /usr/local/lib/python3.7/dist-packages (from markdown>=2.6.8->tensorboard<2.1.0,>=2.0.0->tensorflow<2.1.0,>=2.0.0->turicreate) (4.6.1)\n",
            "Requirement already satisfied: pyasn1<0.5.0,>=0.4.6 in /usr/local/lib/python3.7/dist-packages (from pyasn1-modules>=0.2.1->google-auth<2,>=1.6.3->tensorboard<2.1.0,>=2.0.0->tensorflow<2.1.0,>=2.0.0->turicreate) (0.4.8)\n",
            "Requirement already satisfied: oauthlib>=3.0.0 in /usr/local/lib/python3.7/dist-packages (from requests-oauthlib>=0.7.0->google-auth-oauthlib<0.5,>=0.4.1->tensorboard<2.1.0,>=2.0.0->tensorflow<2.1.0,>=2.0.0->turicreate) (3.1.1)\n",
            "Requirement already satisfied: typing-extensions>=3.6.4 in /usr/local/lib/python3.7/dist-packages (from importlib-metadata->markdown>=2.6.8->tensorboard<2.1.0,>=2.0.0->tensorflow<2.1.0,>=2.0.0->turicreate) (3.7.4.3)\n",
            "Requirement already satisfied: zipp>=0.5 in /usr/local/lib/python3.7/dist-packages (from importlib-metadata->markdown>=2.6.8->tensorboard<2.1.0,>=2.0.0->tensorflow<2.1.0,>=2.0.0->turicreate) (3.5.0)\n",
            "Building wheels for collected packages: prettytable, resampy, gast\n",
            "  Building wheel for prettytable (setup.py) ... \u001b[?25l\u001b[?25hdone\n",
            "  Created wheel for prettytable: filename=prettytable-0.7.2-py3-none-any.whl size=13714 sha256=96c6a5ecbb5089dfefb18b2ae544c107ca97da340dc93dbe339522e2243c0091\n",
            "  Stored in directory: /root/.cache/pip/wheels/b2/7f/f6/f180315b584f00445045ff1699b550fa895d09471337ce21c6\n",
            "  Building wheel for resampy (setup.py) ... \u001b[?25l\u001b[?25hdone\n",
            "  Created wheel for resampy: filename=resampy-0.2.1-py3-none-any.whl size=320860 sha256=232e50dbcb94c3f72be72555566fa3c0f1986c4f04fe271a1f1432c212ebad37\n",
            "  Stored in directory: /root/.cache/pip/wheels/71/74/53/d5ceb7c5ee7a168c7d106041863e71ac3273f4a4677743a284\n",
            "  Building wheel for gast (setup.py) ... \u001b[?25l\u001b[?25hdone\n",
            "  Created wheel for gast: filename=gast-0.2.2-py3-none-any.whl size=7553 sha256=4841b9d5473bb649a552e760bfc5ae79df16ac000459308fbe0b1dc31ec04700\n",
            "  Stored in directory: /root/.cache/pip/wheels/21/7f/02/420f32a803f7d0967b48dd823da3f558c5166991bfd204eef3\n",
            "Successfully built prettytable resampy gast\n",
            "Installing collected packages: numpy, llvmlite, h5py, tensorflow-estimator, tensorboard, numba, keras-applications, gast, tensorflow, resampy, prettytable, coremltools, turicreate\n",
            "  Attempting uninstall: numpy\n",
            "    Found existing installation: numpy 1.19.5\n",
            "    Uninstalling numpy-1.19.5:\n",
            "      Successfully uninstalled numpy-1.19.5\n",
            "  Attempting uninstall: llvmlite\n",
            "    Found existing installation: llvmlite 0.34.0\n",
            "    Uninstalling llvmlite-0.34.0:\n",
            "      Successfully uninstalled llvmlite-0.34.0\n",
            "  Attempting uninstall: h5py\n",
            "    Found existing installation: h5py 3.1.0\n",
            "    Uninstalling h5py-3.1.0:\n",
            "      Successfully uninstalled h5py-3.1.0\n",
            "  Attempting uninstall: tensorflow-estimator\n",
            "    Found existing installation: tensorflow-estimator 2.5.0\n",
            "    Uninstalling tensorflow-estimator-2.5.0:\n",
            "      Successfully uninstalled tensorflow-estimator-2.5.0\n",
            "  Attempting uninstall: tensorboard\n",
            "    Found existing installation: tensorboard 2.5.0\n",
            "    Uninstalling tensorboard-2.5.0:\n",
            "      Successfully uninstalled tensorboard-2.5.0\n",
            "  Attempting uninstall: numba\n",
            "    Found existing installation: numba 0.51.2\n",
            "    Uninstalling numba-0.51.2:\n",
            "      Successfully uninstalled numba-0.51.2\n",
            "  Attempting uninstall: gast\n",
            "    Found existing installation: gast 0.4.0\n",
            "    Uninstalling gast-0.4.0:\n",
            "      Successfully uninstalled gast-0.4.0\n",
            "  Attempting uninstall: tensorflow\n",
            "    Found existing installation: tensorflow 2.5.0\n",
            "    Uninstalling tensorflow-2.5.0:\n",
            "      Successfully uninstalled tensorflow-2.5.0\n",
            "  Attempting uninstall: resampy\n",
            "    Found existing installation: resampy 0.2.2\n",
            "    Uninstalling resampy-0.2.2:\n",
            "      Successfully uninstalled resampy-0.2.2\n",
            "  Attempting uninstall: prettytable\n",
            "    Found existing installation: prettytable 2.1.0\n",
            "    Uninstalling prettytable-2.1.0:\n",
            "      Successfully uninstalled prettytable-2.1.0\n",
            "\u001b[31mERROR: pip's dependency resolver does not currently take into account all the packages that are installed. This behaviour is the source of the following dependency conflicts.\n",
            "tensorflow-probability 0.13.0 requires gast>=0.3.2, but you have gast 0.2.2 which is incompatible.\n",
            "librosa 0.8.1 requires resampy>=0.2.2, but you have resampy 0.2.1 which is incompatible.\n",
            "datascience 0.10.6 requires folium==0.2.1, but you have folium 0.8.3 which is incompatible.\n",
            "albumentations 0.1.12 requires imgaug<0.2.7,>=0.2.5, but you have imgaug 0.2.9 which is incompatible.\u001b[0m\n",
            "Successfully installed coremltools-3.3 gast-0.2.2 h5py-2.10.0 keras-applications-1.0.8 llvmlite-0.33.0 numba-0.50.1 numpy-1.18.5 prettytable-0.7.2 resampy-0.2.1 tensorboard-2.0.2 tensorflow-2.0.4 tensorflow-estimator-2.0.1 turicreate-6.4.1\n"
          ],
          "name": "stdout"
        },
        {
          "output_type": "display_data",
          "data": {
            "application/vnd.colab-display-data+json": {
              "pip_warning": {
                "packages": [
                  "numpy"
                ]
              }
            }
          },
          "metadata": {
            "tags": []
          }
        }
      ]
    },
    {
      "cell_type": "markdown",
      "metadata": {
        "id": "L3bBe1l76sqr"
      },
      "source": [
        "### Import libraries"
      ]
    },
    {
      "cell_type": "code",
      "metadata": {
        "id": "QvWFMAll6zxM"
      },
      "source": [
        "import numpy as np\n",
        "import pandas as pd\n",
        "import math\n",
        "import joblib \n",
        "import matplotlib.pyplot as plt\n",
        "import seaborn as sns\n",
        "from collections import defaultdict\n",
        "from sklearn.preprocessing import LabelEncoder\n",
        "\n",
        "from sklearn.metrics import mean_squared_error\n",
        "from sklearn.metrics.pairwise import cosine_similarity\n",
        "from sklearn.model_selection import train_test_split\n",
        "from sklearn.neighbors import NearestNeighbors\n",
        "import scipy.sparse\n",
        "from scipy.sparse import csr_matrix\n",
        "from scipy.sparse.linalg import svds\n",
        "\n",
        "from surprise import Dataset\n",
        "from surprise import Reader\n",
        "from surprise import accuracy                                              \n",
        "from surprise.model_selection import cross_validate\n",
        "from surprise.model_selection import GridSearchCV\n",
        "from surprise import KNNBasic, KNNWithMeans, KNNWithZScore\n",
        "from surprise import SVD, SVDpp, NMF\n",
        "from surprise import SlopeOne, CoClustering\n",
        "\n",
        "import turicreate\n",
        "\n",
        "%matplotlib inline\n",
        "\n",
        "import warnings\n",
        "warnings.simplefilter('ignore')"
      ],
      "execution_count": 1,
      "outputs": []
    },
    {
      "cell_type": "markdown",
      "metadata": {
        "id": "QCCETtQO6W9q"
      },
      "source": [
        "### Load the data\n",
        "We will download the data from Kaggle, unzip it, and load it into pandas dataframe."
      ]
    },
    {
      "cell_type": "code",
      "metadata": {
        "colab": {
          "base_uri": "https://localhost:8080/"
        },
        "collapsed": true,
        "id": "wH0ilH4q6bLa",
        "outputId": "a3f33f95-0168-406e-90d4-f5ce09801cfd"
      },
      "source": [
        "#hide-output\n",
        "!pip install -q -U kaggle\n",
        "!pip install --upgrade --force-reinstall --no-deps kaggle\n",
        "!mkdir ~/.kaggle\n",
        "!cp /content/drive/MyDrive/kaggle.json ~/.kaggle/\n",
        "!chmod 600 ~/.kaggle/kaggle.json\n",
        "!kaggle datasets download -d pritech/ratings-electronics\n",
        "!unzip ratings-electronics.zip"
      ],
      "execution_count": 1,
      "outputs": [
        {
          "output_type": "stream",
          "text": [
            "Collecting kaggle\n",
            "  Downloading kaggle-1.5.12.tar.gz (58 kB)\n",
            "\u001b[?25l\r\u001b[K     |█████▋                          | 10 kB 17.8 MB/s eta 0:00:01\r\u001b[K     |███████████▏                    | 20 kB 22.5 MB/s eta 0:00:01\r\u001b[K     |████████████████▊               | 30 kB 14.0 MB/s eta 0:00:01\r\u001b[K     |██████████████████████▎         | 40 kB 9.6 MB/s eta 0:00:01\r\u001b[K     |███████████████████████████▉    | 51 kB 5.4 MB/s eta 0:00:01\r\u001b[K     |████████████████████████████████| 58 kB 2.9 MB/s \n",
            "\u001b[?25hBuilding wheels for collected packages: kaggle\n",
            "  Building wheel for kaggle (setup.py) ... \u001b[?25l\u001b[?25hdone\n",
            "  Created wheel for kaggle: filename=kaggle-1.5.12-py3-none-any.whl size=73052 sha256=9f64fd3042490f5a869a074ab4bf50ece0d0bb6ac513779d938b0fed70c4cfc0\n",
            "  Stored in directory: /root/.cache/pip/wheels/62/d6/58/5853130f941e75b2177d281eb7e44b4a98ed46dd155f556dc5\n",
            "Successfully built kaggle\n",
            "Installing collected packages: kaggle\n",
            "  Attempting uninstall: kaggle\n",
            "    Found existing installation: kaggle 1.5.12\n",
            "    Uninstalling kaggle-1.5.12:\n",
            "      Successfully uninstalled kaggle-1.5.12\n",
            "Successfully installed kaggle-1.5.12\n",
            "Downloading ratings-electronics.zip to /content\n",
            " 96% 105M/109M [00:00<00:00, 96.7MB/s]\n",
            "100% 109M/109M [00:00<00:00, 123MB/s] \n"
          ],
          "name": "stdout"
        }
      ]
    },
    {
      "cell_type": "code",
      "metadata": {
        "colab": {
          "base_uri": "https://localhost:8080/",
          "height": 204
        },
        "id": "LnA4beZm7Ntd",
        "outputId": "71950b32-5475-4b3a-9d0a-ec96867e8586"
      },
      "source": [
        "columns=['userId', 'productId', 'ratings','timestamp']\n",
        "electronics_df = pd.read_csv('ratings_Electronics.csv', names=columns)\n",
        "electronics_df.head()"
      ],
      "execution_count": 2,
      "outputs": [
        {
          "output_type": "execute_result",
          "data": {
            "text/html": [
              "<div>\n",
              "<style scoped>\n",
              "    .dataframe tbody tr th:only-of-type {\n",
              "        vertical-align: middle;\n",
              "    }\n",
              "\n",
              "    .dataframe tbody tr th {\n",
              "        vertical-align: top;\n",
              "    }\n",
              "\n",
              "    .dataframe thead th {\n",
              "        text-align: right;\n",
              "    }\n",
              "</style>\n",
              "<table border=\"1\" class=\"dataframe\">\n",
              "  <thead>\n",
              "    <tr style=\"text-align: right;\">\n",
              "      <th></th>\n",
              "      <th>userId</th>\n",
              "      <th>productId</th>\n",
              "      <th>ratings</th>\n",
              "      <th>timestamp</th>\n",
              "    </tr>\n",
              "  </thead>\n",
              "  <tbody>\n",
              "    <tr>\n",
              "      <th>0</th>\n",
              "      <td>AKM1MP6P0OYPR</td>\n",
              "      <td>0132793040</td>\n",
              "      <td>5.0</td>\n",
              "      <td>1365811200</td>\n",
              "    </tr>\n",
              "    <tr>\n",
              "      <th>1</th>\n",
              "      <td>A2CX7LUOHB2NDG</td>\n",
              "      <td>0321732944</td>\n",
              "      <td>5.0</td>\n",
              "      <td>1341100800</td>\n",
              "    </tr>\n",
              "    <tr>\n",
              "      <th>2</th>\n",
              "      <td>A2NWSAGRHCP8N5</td>\n",
              "      <td>0439886341</td>\n",
              "      <td>1.0</td>\n",
              "      <td>1367193600</td>\n",
              "    </tr>\n",
              "    <tr>\n",
              "      <th>3</th>\n",
              "      <td>A2WNBOD3WNDNKT</td>\n",
              "      <td>0439886341</td>\n",
              "      <td>3.0</td>\n",
              "      <td>1374451200</td>\n",
              "    </tr>\n",
              "    <tr>\n",
              "      <th>4</th>\n",
              "      <td>A1GI0U4ZRJA8WN</td>\n",
              "      <td>0439886341</td>\n",
              "      <td>1.0</td>\n",
              "      <td>1334707200</td>\n",
              "    </tr>\n",
              "  </tbody>\n",
              "</table>\n",
              "</div>"
            ],
            "text/plain": [
              "           userId   productId  ratings   timestamp\n",
              "0   AKM1MP6P0OYPR  0132793040      5.0  1365811200\n",
              "1  A2CX7LUOHB2NDG  0321732944      5.0  1341100800\n",
              "2  A2NWSAGRHCP8N5  0439886341      1.0  1367193600\n",
              "3  A2WNBOD3WNDNKT  0439886341      3.0  1374451200\n",
              "4  A1GI0U4ZRJA8WN  0439886341      1.0  1334707200"
            ]
          },
          "metadata": {
            "tags": []
          },
          "execution_count": 2
        }
      ]
    },
    {
      "cell_type": "markdown",
      "metadata": {
        "id": "zftWmsuj8IyL"
      },
      "source": [
        "### Pre-processing"
      ]
    },
    {
      "cell_type": "code",
      "metadata": {
        "colab": {
          "base_uri": "https://localhost:8080/"
        },
        "id": "nPG8Do5L7_Fg",
        "outputId": "1bfac607-612d-4ee1-8086-918a4b6cf673"
      },
      "source": [
        "electronics_df.info()"
      ],
      "execution_count": 3,
      "outputs": [
        {
          "output_type": "stream",
          "text": [
            "<class 'pandas.core.frame.DataFrame'>\n",
            "RangeIndex: 7824482 entries, 0 to 7824481\n",
            "Data columns (total 4 columns):\n",
            " #   Column     Dtype  \n",
            "---  ------     -----  \n",
            " 0   userId     object \n",
            " 1   productId  object \n",
            " 2   ratings    float64\n",
            " 3   timestamp  int64  \n",
            "dtypes: float64(1), int64(1), object(2)\n",
            "memory usage: 238.8+ MB\n"
          ],
          "name": "stdout"
        }
      ]
    },
    {
      "cell_type": "code",
      "metadata": {
        "colab": {
          "base_uri": "https://localhost:8080/"
        },
        "id": "cWbXQdxP8DQt",
        "outputId": "3f56a119-f5e4-4b9b-cc16-0214e3c67468"
      },
      "source": [
        "electronics_df.isnull().sum()"
      ],
      "execution_count": 4,
      "outputs": [
        {
          "output_type": "execute_result",
          "data": {
            "text/plain": [
              "userId       0\n",
              "productId    0\n",
              "ratings      0\n",
              "timestamp    0\n",
              "dtype: int64"
            ]
          },
          "metadata": {
            "tags": []
          },
          "execution_count": 4
        }
      ]
    },
    {
      "cell_type": "code",
      "metadata": {
        "id": "FH_lQqNn8MOt"
      },
      "source": [
        "electronics_df.drop('timestamp',axis=1,inplace=True)"
      ],
      "execution_count": 5,
      "outputs": []
    },
    {
      "cell_type": "code",
      "metadata": {
        "colab": {
          "base_uri": "https://localhost:8080/"
        },
        "id": "l9cSRrgs8deI",
        "outputId": "8477108d-f9b6-468d-b8fc-dc490200309d"
      },
      "source": [
        "print(\"Electronic Data Summary\")\n",
        "print(\"=\"*100)\n",
        "print(\"\\nTotal # of Ratings :\",electronics_df.shape[0])\n",
        "print(\"Total # of Users   :\", len(np.unique(electronics_df.userId)))\n",
        "print(\"Total # of Products  :\", len(np.unique(electronics_df.productId)))\n",
        "print(\"\\n\")\n",
        "print(\"=\"*100)"
      ],
      "execution_count": 36,
      "outputs": [
        {
          "output_type": "stream",
          "text": [
            "Electronic Data Summary\n",
            "====================================================================================================\n",
            "\n",
            "Total # of Ratings : 7824482\n",
            "Total # of Users   : 4201696\n",
            "Total # of Products  : 476002\n",
            "\n",
            "\n",
            "====================================================================================================\n"
          ],
          "name": "stdout"
        }
      ]
    },
    {
      "cell_type": "markdown",
      "metadata": {
        "id": "dkcYSRV18fyM"
      },
      "source": [
        "> Note: Number of products is less than number of users, so item-item colaborative filtering would make sense instead of user-user colaborative filtering."
      ]
    },
    {
      "cell_type": "markdown",
      "metadata": {
        "id": "M1PcB-c4AMi8"
      },
      "source": [
        "### Sampling"
      ]
    },
    {
      "cell_type": "markdown",
      "metadata": {
        "id": "-Tx7_xRv9VRl"
      },
      "source": [
        "There are more than 4.2 million users. It is big for a prototype version like ours. So we will select ~10K users randomly, and assume that the sample would represent the population."
      ]
    },
    {
      "cell_type": "code",
      "metadata": {
        "colab": {
          "base_uri": "https://localhost:8080/",
          "height": 142
        },
        "id": "rAt714XK8r6r",
        "outputId": "21160894-b62c-4d99-f69e-fb73e4aea927"
      },
      "source": [
        "userids_random10k = np.random.choice(electronics_df.userId.unique(), int(1e4))\n",
        "electronics_df = electronics_df.loc[electronics_df.userId.isin(userids_random10k)]\n",
        "electronics_df.describe(include='all').T"
      ],
      "execution_count": 6,
      "outputs": [
        {
          "output_type": "execute_result",
          "data": {
            "text/html": [
              "<div>\n",
              "<style scoped>\n",
              "    .dataframe tbody tr th:only-of-type {\n",
              "        vertical-align: middle;\n",
              "    }\n",
              "\n",
              "    .dataframe tbody tr th {\n",
              "        vertical-align: top;\n",
              "    }\n",
              "\n",
              "    .dataframe thead th {\n",
              "        text-align: right;\n",
              "    }\n",
              "</style>\n",
              "<table border=\"1\" class=\"dataframe\">\n",
              "  <thead>\n",
              "    <tr style=\"text-align: right;\">\n",
              "      <th></th>\n",
              "      <th>count</th>\n",
              "      <th>unique</th>\n",
              "      <th>top</th>\n",
              "      <th>freq</th>\n",
              "      <th>mean</th>\n",
              "      <th>std</th>\n",
              "      <th>min</th>\n",
              "      <th>25%</th>\n",
              "      <th>50%</th>\n",
              "      <th>75%</th>\n",
              "      <th>max</th>\n",
              "    </tr>\n",
              "  </thead>\n",
              "  <tbody>\n",
              "    <tr>\n",
              "      <th>userId</th>\n",
              "      <td>18938</td>\n",
              "      <td>9985</td>\n",
              "      <td>A3V7D0LH8L7BG0</td>\n",
              "      <td>180</td>\n",
              "      <td>NaN</td>\n",
              "      <td>NaN</td>\n",
              "      <td>NaN</td>\n",
              "      <td>NaN</td>\n",
              "      <td>NaN</td>\n",
              "      <td>NaN</td>\n",
              "      <td>NaN</td>\n",
              "    </tr>\n",
              "    <tr>\n",
              "      <th>productId</th>\n",
              "      <td>18938</td>\n",
              "      <td>13606</td>\n",
              "      <td>B00DR0PDNE</td>\n",
              "      <td>51</td>\n",
              "      <td>NaN</td>\n",
              "      <td>NaN</td>\n",
              "      <td>NaN</td>\n",
              "      <td>NaN</td>\n",
              "      <td>NaN</td>\n",
              "      <td>NaN</td>\n",
              "      <td>NaN</td>\n",
              "    </tr>\n",
              "    <tr>\n",
              "      <th>ratings</th>\n",
              "      <td>18938</td>\n",
              "      <td>NaN</td>\n",
              "      <td>NaN</td>\n",
              "      <td>NaN</td>\n",
              "      <td>4.00385</td>\n",
              "      <td>1.38826</td>\n",
              "      <td>1</td>\n",
              "      <td>3</td>\n",
              "      <td>5</td>\n",
              "      <td>5</td>\n",
              "      <td>5</td>\n",
              "    </tr>\n",
              "  </tbody>\n",
              "</table>\n",
              "</div>"
            ],
            "text/plain": [
              "           count unique             top freq     mean  ...  min  25%  50%  75%  max\n",
              "userId     18938   9985  A3V7D0LH8L7BG0  180      NaN  ...  NaN  NaN  NaN  NaN  NaN\n",
              "productId  18938  13606      B00DR0PDNE   51      NaN  ...  NaN  NaN  NaN  NaN  NaN\n",
              "ratings    18938    NaN             NaN  NaN  4.00385  ...    1    3    5    5    5\n",
              "\n",
              "[3 rows x 11 columns]"
            ]
          },
          "metadata": {
            "tags": []
          },
          "execution_count": 6
        }
      ]
    },
    {
      "cell_type": "code",
      "metadata": {
        "colab": {
          "base_uri": "https://localhost:8080/",
          "height": 204
        },
        "id": "LS34LlBiA85-",
        "outputId": "a0d213ab-fc5d-49f7-9354-1535a61bd0ed"
      },
      "source": [
        "electronics_df.head()"
      ],
      "execution_count": 45,
      "outputs": [
        {
          "output_type": "execute_result",
          "data": {
            "text/html": [
              "<div>\n",
              "<style scoped>\n",
              "    .dataframe tbody tr th:only-of-type {\n",
              "        vertical-align: middle;\n",
              "    }\n",
              "\n",
              "    .dataframe tbody tr th {\n",
              "        vertical-align: top;\n",
              "    }\n",
              "\n",
              "    .dataframe thead th {\n",
              "        text-align: right;\n",
              "    }\n",
              "</style>\n",
              "<table border=\"1\" class=\"dataframe\">\n",
              "  <thead>\n",
              "    <tr style=\"text-align: right;\">\n",
              "      <th></th>\n",
              "      <th>userId</th>\n",
              "      <th>productId</th>\n",
              "      <th>ratings</th>\n",
              "    </tr>\n",
              "  </thead>\n",
              "  <tbody>\n",
              "    <tr>\n",
              "      <th>34</th>\n",
              "      <td>A3C5SMBSKKWNPT</td>\n",
              "      <td>0528881469</td>\n",
              "      <td>5.0</td>\n",
              "    </tr>\n",
              "    <tr>\n",
              "      <th>1018</th>\n",
              "      <td>A2OT9JAC4HOSEG</td>\n",
              "      <td>0972683275</td>\n",
              "      <td>5.0</td>\n",
              "    </tr>\n",
              "    <tr>\n",
              "      <th>1158</th>\n",
              "      <td>AMAR6CIOZUQO4</td>\n",
              "      <td>0972683275</td>\n",
              "      <td>4.0</td>\n",
              "    </tr>\n",
              "    <tr>\n",
              "      <th>1383</th>\n",
              "      <td>A2LK476A1UDRDK</td>\n",
              "      <td>1400501466</td>\n",
              "      <td>5.0</td>\n",
              "    </tr>\n",
              "    <tr>\n",
              "      <th>1530</th>\n",
              "      <td>A2RWGZD24R9JK0</td>\n",
              "      <td>1400501466</td>\n",
              "      <td>2.0</td>\n",
              "    </tr>\n",
              "  </tbody>\n",
              "</table>\n",
              "</div>"
            ],
            "text/plain": [
              "              userId   productId  ratings\n",
              "34    A3C5SMBSKKWNPT  0528881469      5.0\n",
              "1018  A2OT9JAC4HOSEG  0972683275      5.0\n",
              "1158   AMAR6CIOZUQO4  0972683275      4.0\n",
              "1383  A2LK476A1UDRDK  1400501466      5.0\n",
              "1530  A2RWGZD24R9JK0  1400501466      2.0"
            ]
          },
          "metadata": {
            "tags": []
          },
          "execution_count": 45
        }
      ]
    },
    {
      "cell_type": "markdown",
      "metadata": {
        "id": "q_Q4x0I9BDSJ"
      },
      "source": [
        "### Encoding\n",
        "\n",
        "Label encode userid and productid and int for ratings."
      ]
    },
    {
      "cell_type": "code",
      "metadata": {
        "id": "sgMym_doBL_X"
      },
      "source": [
        "le_userid = LabelEncoder()\n",
        "electronics_df.userId = le_userid.fit_transform(electronics_df.userId)\n",
        "\n",
        "le_prodid = LabelEncoder()\n",
        "electronics_df.productId = le_prodid.fit_transform(electronics_df.productId)\n",
        "\n",
        "electronics_df.ratings = electronics_df.ratings.astype('int32')"
      ],
      "execution_count": 7,
      "outputs": []
    },
    {
      "cell_type": "code",
      "metadata": {
        "colab": {
          "base_uri": "https://localhost:8080/",
          "height": 204
        },
        "id": "j-nplbmmCHQq",
        "outputId": "3d481b03-0a98-4e42-eb29-7c6a8863bde6"
      },
      "source": [
        "electronics_df.head()"
      ],
      "execution_count": 47,
      "outputs": [
        {
          "output_type": "execute_result",
          "data": {
            "text/html": [
              "<div>\n",
              "<style scoped>\n",
              "    .dataframe tbody tr th:only-of-type {\n",
              "        vertical-align: middle;\n",
              "    }\n",
              "\n",
              "    .dataframe tbody tr th {\n",
              "        vertical-align: top;\n",
              "    }\n",
              "\n",
              "    .dataframe thead th {\n",
              "        text-align: right;\n",
              "    }\n",
              "</style>\n",
              "<table border=\"1\" class=\"dataframe\">\n",
              "  <thead>\n",
              "    <tr style=\"text-align: right;\">\n",
              "      <th></th>\n",
              "      <th>userId</th>\n",
              "      <th>productId</th>\n",
              "      <th>ratings</th>\n",
              "    </tr>\n",
              "  </thead>\n",
              "  <tbody>\n",
              "    <tr>\n",
              "      <th>34</th>\n",
              "      <td>6143</td>\n",
              "      <td>0</td>\n",
              "      <td>5.0</td>\n",
              "    </tr>\n",
              "    <tr>\n",
              "      <th>1018</th>\n",
              "      <td>4404</td>\n",
              "      <td>1</td>\n",
              "      <td>5.0</td>\n",
              "    </tr>\n",
              "    <tr>\n",
              "      <th>1158</th>\n",
              "      <td>8957</td>\n",
              "      <td>1</td>\n",
              "      <td>4.0</td>\n",
              "    </tr>\n",
              "    <tr>\n",
              "      <th>1383</th>\n",
              "      <td>4170</td>\n",
              "      <td>2</td>\n",
              "      <td>5.0</td>\n",
              "    </tr>\n",
              "    <tr>\n",
              "      <th>1530</th>\n",
              "      <td>4623</td>\n",
              "      <td>2</td>\n",
              "      <td>2.0</td>\n",
              "    </tr>\n",
              "  </tbody>\n",
              "</table>\n",
              "</div>"
            ],
            "text/plain": [
              "      userId  productId ratings\n",
              "34      6143          0     5.0\n",
              "1018    4404          1     5.0\n",
              "1158    8957          1     4.0\n",
              "1383    4170          2     5.0\n",
              "1530    4623          2     2.0"
            ]
          },
          "metadata": {
            "tags": []
          },
          "execution_count": 47
        }
      ]
    },
    {
      "cell_type": "markdown",
      "metadata": {
        "id": "tri4sUTWAR3F"
      },
      "source": [
        "### Matrix\n",
        "Constructing pivot table on `userId` and `productId` column based on the value of `ratings`\n"
      ]
    },
    {
      "cell_type": "code",
      "metadata": {
        "colab": {
          "base_uri": "https://localhost:8080/",
          "height": 284
        },
        "id": "XtFRDpK6_j_U",
        "outputId": "b70f83e0-db4a-4a1c-c4b0-c9d34df0012c"
      },
      "source": [
        "final_ratings_matrix = electronics_df.pivot(index = 'userId', columns ='productId', values = 'ratings')\n",
        "final_ratings_matrix.head()"
      ],
      "execution_count": 48,
      "outputs": [
        {
          "output_type": "execute_result",
          "data": {
            "text/html": [
              "<div>\n",
              "<style scoped>\n",
              "    .dataframe tbody tr th:only-of-type {\n",
              "        vertical-align: middle;\n",
              "    }\n",
              "\n",
              "    .dataframe tbody tr th {\n",
              "        vertical-align: top;\n",
              "    }\n",
              "\n",
              "    .dataframe thead th {\n",
              "        text-align: right;\n",
              "    }\n",
              "</style>\n",
              "<table border=\"1\" class=\"dataframe\">\n",
              "  <thead>\n",
              "    <tr style=\"text-align: right;\">\n",
              "      <th>productId</th>\n",
              "      <th>0</th>\n",
              "      <th>1</th>\n",
              "      <th>2</th>\n",
              "      <th>3</th>\n",
              "      <th>4</th>\n",
              "      <th>5</th>\n",
              "      <th>6</th>\n",
              "      <th>7</th>\n",
              "      <th>8</th>\n",
              "      <th>9</th>\n",
              "      <th>10</th>\n",
              "      <th>11</th>\n",
              "      <th>12</th>\n",
              "      <th>13</th>\n",
              "      <th>14</th>\n",
              "      <th>15</th>\n",
              "      <th>16</th>\n",
              "      <th>17</th>\n",
              "      <th>18</th>\n",
              "      <th>19</th>\n",
              "      <th>20</th>\n",
              "      <th>21</th>\n",
              "      <th>22</th>\n",
              "      <th>23</th>\n",
              "      <th>24</th>\n",
              "      <th>25</th>\n",
              "      <th>26</th>\n",
              "      <th>27</th>\n",
              "      <th>28</th>\n",
              "      <th>29</th>\n",
              "      <th>30</th>\n",
              "      <th>31</th>\n",
              "      <th>32</th>\n",
              "      <th>33</th>\n",
              "      <th>34</th>\n",
              "      <th>35</th>\n",
              "      <th>36</th>\n",
              "      <th>37</th>\n",
              "      <th>38</th>\n",
              "      <th>39</th>\n",
              "      <th>...</th>\n",
              "      <th>13573</th>\n",
              "      <th>13574</th>\n",
              "      <th>13575</th>\n",
              "      <th>13576</th>\n",
              "      <th>13577</th>\n",
              "      <th>13578</th>\n",
              "      <th>13579</th>\n",
              "      <th>13580</th>\n",
              "      <th>13581</th>\n",
              "      <th>13582</th>\n",
              "      <th>13583</th>\n",
              "      <th>13584</th>\n",
              "      <th>13585</th>\n",
              "      <th>13586</th>\n",
              "      <th>13587</th>\n",
              "      <th>13588</th>\n",
              "      <th>13589</th>\n",
              "      <th>13590</th>\n",
              "      <th>13591</th>\n",
              "      <th>13592</th>\n",
              "      <th>13593</th>\n",
              "      <th>13594</th>\n",
              "      <th>13595</th>\n",
              "      <th>13596</th>\n",
              "      <th>13597</th>\n",
              "      <th>13598</th>\n",
              "      <th>13599</th>\n",
              "      <th>13600</th>\n",
              "      <th>13601</th>\n",
              "      <th>13602</th>\n",
              "      <th>13603</th>\n",
              "      <th>13604</th>\n",
              "      <th>13605</th>\n",
              "      <th>13606</th>\n",
              "      <th>13607</th>\n",
              "      <th>13608</th>\n",
              "      <th>13609</th>\n",
              "      <th>13610</th>\n",
              "      <th>13611</th>\n",
              "      <th>13612</th>\n",
              "    </tr>\n",
              "    <tr>\n",
              "      <th>userId</th>\n",
              "      <th></th>\n",
              "      <th></th>\n",
              "      <th></th>\n",
              "      <th></th>\n",
              "      <th></th>\n",
              "      <th></th>\n",
              "      <th></th>\n",
              "      <th></th>\n",
              "      <th></th>\n",
              "      <th></th>\n",
              "      <th></th>\n",
              "      <th></th>\n",
              "      <th></th>\n",
              "      <th></th>\n",
              "      <th></th>\n",
              "      <th></th>\n",
              "      <th></th>\n",
              "      <th></th>\n",
              "      <th></th>\n",
              "      <th></th>\n",
              "      <th></th>\n",
              "      <th></th>\n",
              "      <th></th>\n",
              "      <th></th>\n",
              "      <th></th>\n",
              "      <th></th>\n",
              "      <th></th>\n",
              "      <th></th>\n",
              "      <th></th>\n",
              "      <th></th>\n",
              "      <th></th>\n",
              "      <th></th>\n",
              "      <th></th>\n",
              "      <th></th>\n",
              "      <th></th>\n",
              "      <th></th>\n",
              "      <th></th>\n",
              "      <th></th>\n",
              "      <th></th>\n",
              "      <th></th>\n",
              "      <th></th>\n",
              "      <th></th>\n",
              "      <th></th>\n",
              "      <th></th>\n",
              "      <th></th>\n",
              "      <th></th>\n",
              "      <th></th>\n",
              "      <th></th>\n",
              "      <th></th>\n",
              "      <th></th>\n",
              "      <th></th>\n",
              "      <th></th>\n",
              "      <th></th>\n",
              "      <th></th>\n",
              "      <th></th>\n",
              "      <th></th>\n",
              "      <th></th>\n",
              "      <th></th>\n",
              "      <th></th>\n",
              "      <th></th>\n",
              "      <th></th>\n",
              "      <th></th>\n",
              "      <th></th>\n",
              "      <th></th>\n",
              "      <th></th>\n",
              "      <th></th>\n",
              "      <th></th>\n",
              "      <th></th>\n",
              "      <th></th>\n",
              "      <th></th>\n",
              "      <th></th>\n",
              "      <th></th>\n",
              "      <th></th>\n",
              "      <th></th>\n",
              "      <th></th>\n",
              "      <th></th>\n",
              "      <th></th>\n",
              "      <th></th>\n",
              "      <th></th>\n",
              "      <th></th>\n",
              "      <th></th>\n",
              "    </tr>\n",
              "  </thead>\n",
              "  <tbody>\n",
              "    <tr>\n",
              "      <th>0</th>\n",
              "      <td>NaN</td>\n",
              "      <td>NaN</td>\n",
              "      <td>NaN</td>\n",
              "      <td>NaN</td>\n",
              "      <td>NaN</td>\n",
              "      <td>NaN</td>\n",
              "      <td>NaN</td>\n",
              "      <td>NaN</td>\n",
              "      <td>NaN</td>\n",
              "      <td>NaN</td>\n",
              "      <td>NaN</td>\n",
              "      <td>NaN</td>\n",
              "      <td>NaN</td>\n",
              "      <td>NaN</td>\n",
              "      <td>NaN</td>\n",
              "      <td>NaN</td>\n",
              "      <td>NaN</td>\n",
              "      <td>NaN</td>\n",
              "      <td>NaN</td>\n",
              "      <td>NaN</td>\n",
              "      <td>NaN</td>\n",
              "      <td>NaN</td>\n",
              "      <td>NaN</td>\n",
              "      <td>NaN</td>\n",
              "      <td>NaN</td>\n",
              "      <td>NaN</td>\n",
              "      <td>NaN</td>\n",
              "      <td>NaN</td>\n",
              "      <td>NaN</td>\n",
              "      <td>NaN</td>\n",
              "      <td>NaN</td>\n",
              "      <td>NaN</td>\n",
              "      <td>NaN</td>\n",
              "      <td>NaN</td>\n",
              "      <td>NaN</td>\n",
              "      <td>NaN</td>\n",
              "      <td>NaN</td>\n",
              "      <td>NaN</td>\n",
              "      <td>NaN</td>\n",
              "      <td>NaN</td>\n",
              "      <td>...</td>\n",
              "      <td>NaN</td>\n",
              "      <td>NaN</td>\n",
              "      <td>NaN</td>\n",
              "      <td>NaN</td>\n",
              "      <td>NaN</td>\n",
              "      <td>NaN</td>\n",
              "      <td>NaN</td>\n",
              "      <td>NaN</td>\n",
              "      <td>NaN</td>\n",
              "      <td>NaN</td>\n",
              "      <td>NaN</td>\n",
              "      <td>NaN</td>\n",
              "      <td>NaN</td>\n",
              "      <td>NaN</td>\n",
              "      <td>NaN</td>\n",
              "      <td>NaN</td>\n",
              "      <td>NaN</td>\n",
              "      <td>NaN</td>\n",
              "      <td>NaN</td>\n",
              "      <td>NaN</td>\n",
              "      <td>NaN</td>\n",
              "      <td>NaN</td>\n",
              "      <td>NaN</td>\n",
              "      <td>NaN</td>\n",
              "      <td>NaN</td>\n",
              "      <td>NaN</td>\n",
              "      <td>NaN</td>\n",
              "      <td>NaN</td>\n",
              "      <td>NaN</td>\n",
              "      <td>NaN</td>\n",
              "      <td>NaN</td>\n",
              "      <td>NaN</td>\n",
              "      <td>NaN</td>\n",
              "      <td>NaN</td>\n",
              "      <td>NaN</td>\n",
              "      <td>NaN</td>\n",
              "      <td>NaN</td>\n",
              "      <td>NaN</td>\n",
              "      <td>NaN</td>\n",
              "      <td>NaN</td>\n",
              "    </tr>\n",
              "    <tr>\n",
              "      <th>1</th>\n",
              "      <td>NaN</td>\n",
              "      <td>NaN</td>\n",
              "      <td>NaN</td>\n",
              "      <td>NaN</td>\n",
              "      <td>NaN</td>\n",
              "      <td>NaN</td>\n",
              "      <td>NaN</td>\n",
              "      <td>NaN</td>\n",
              "      <td>NaN</td>\n",
              "      <td>NaN</td>\n",
              "      <td>NaN</td>\n",
              "      <td>NaN</td>\n",
              "      <td>NaN</td>\n",
              "      <td>NaN</td>\n",
              "      <td>NaN</td>\n",
              "      <td>NaN</td>\n",
              "      <td>NaN</td>\n",
              "      <td>NaN</td>\n",
              "      <td>NaN</td>\n",
              "      <td>NaN</td>\n",
              "      <td>NaN</td>\n",
              "      <td>NaN</td>\n",
              "      <td>NaN</td>\n",
              "      <td>NaN</td>\n",
              "      <td>NaN</td>\n",
              "      <td>NaN</td>\n",
              "      <td>NaN</td>\n",
              "      <td>NaN</td>\n",
              "      <td>NaN</td>\n",
              "      <td>NaN</td>\n",
              "      <td>NaN</td>\n",
              "      <td>NaN</td>\n",
              "      <td>NaN</td>\n",
              "      <td>NaN</td>\n",
              "      <td>NaN</td>\n",
              "      <td>NaN</td>\n",
              "      <td>NaN</td>\n",
              "      <td>NaN</td>\n",
              "      <td>NaN</td>\n",
              "      <td>NaN</td>\n",
              "      <td>...</td>\n",
              "      <td>NaN</td>\n",
              "      <td>NaN</td>\n",
              "      <td>NaN</td>\n",
              "      <td>NaN</td>\n",
              "      <td>NaN</td>\n",
              "      <td>NaN</td>\n",
              "      <td>NaN</td>\n",
              "      <td>NaN</td>\n",
              "      <td>NaN</td>\n",
              "      <td>NaN</td>\n",
              "      <td>NaN</td>\n",
              "      <td>NaN</td>\n",
              "      <td>NaN</td>\n",
              "      <td>NaN</td>\n",
              "      <td>NaN</td>\n",
              "      <td>NaN</td>\n",
              "      <td>NaN</td>\n",
              "      <td>NaN</td>\n",
              "      <td>NaN</td>\n",
              "      <td>NaN</td>\n",
              "      <td>NaN</td>\n",
              "      <td>NaN</td>\n",
              "      <td>NaN</td>\n",
              "      <td>NaN</td>\n",
              "      <td>NaN</td>\n",
              "      <td>NaN</td>\n",
              "      <td>NaN</td>\n",
              "      <td>NaN</td>\n",
              "      <td>NaN</td>\n",
              "      <td>NaN</td>\n",
              "      <td>NaN</td>\n",
              "      <td>NaN</td>\n",
              "      <td>NaN</td>\n",
              "      <td>NaN</td>\n",
              "      <td>NaN</td>\n",
              "      <td>NaN</td>\n",
              "      <td>NaN</td>\n",
              "      <td>NaN</td>\n",
              "      <td>NaN</td>\n",
              "      <td>NaN</td>\n",
              "    </tr>\n",
              "    <tr>\n",
              "      <th>2</th>\n",
              "      <td>NaN</td>\n",
              "      <td>NaN</td>\n",
              "      <td>NaN</td>\n",
              "      <td>NaN</td>\n",
              "      <td>NaN</td>\n",
              "      <td>NaN</td>\n",
              "      <td>NaN</td>\n",
              "      <td>NaN</td>\n",
              "      <td>NaN</td>\n",
              "      <td>NaN</td>\n",
              "      <td>NaN</td>\n",
              "      <td>NaN</td>\n",
              "      <td>NaN</td>\n",
              "      <td>NaN</td>\n",
              "      <td>NaN</td>\n",
              "      <td>NaN</td>\n",
              "      <td>NaN</td>\n",
              "      <td>NaN</td>\n",
              "      <td>NaN</td>\n",
              "      <td>NaN</td>\n",
              "      <td>NaN</td>\n",
              "      <td>NaN</td>\n",
              "      <td>NaN</td>\n",
              "      <td>NaN</td>\n",
              "      <td>NaN</td>\n",
              "      <td>NaN</td>\n",
              "      <td>NaN</td>\n",
              "      <td>NaN</td>\n",
              "      <td>NaN</td>\n",
              "      <td>NaN</td>\n",
              "      <td>NaN</td>\n",
              "      <td>NaN</td>\n",
              "      <td>NaN</td>\n",
              "      <td>NaN</td>\n",
              "      <td>NaN</td>\n",
              "      <td>NaN</td>\n",
              "      <td>NaN</td>\n",
              "      <td>NaN</td>\n",
              "      <td>NaN</td>\n",
              "      <td>NaN</td>\n",
              "      <td>...</td>\n",
              "      <td>NaN</td>\n",
              "      <td>NaN</td>\n",
              "      <td>NaN</td>\n",
              "      <td>NaN</td>\n",
              "      <td>NaN</td>\n",
              "      <td>NaN</td>\n",
              "      <td>NaN</td>\n",
              "      <td>NaN</td>\n",
              "      <td>NaN</td>\n",
              "      <td>NaN</td>\n",
              "      <td>NaN</td>\n",
              "      <td>NaN</td>\n",
              "      <td>NaN</td>\n",
              "      <td>NaN</td>\n",
              "      <td>NaN</td>\n",
              "      <td>NaN</td>\n",
              "      <td>NaN</td>\n",
              "      <td>NaN</td>\n",
              "      <td>NaN</td>\n",
              "      <td>NaN</td>\n",
              "      <td>NaN</td>\n",
              "      <td>NaN</td>\n",
              "      <td>NaN</td>\n",
              "      <td>NaN</td>\n",
              "      <td>NaN</td>\n",
              "      <td>NaN</td>\n",
              "      <td>NaN</td>\n",
              "      <td>NaN</td>\n",
              "      <td>NaN</td>\n",
              "      <td>NaN</td>\n",
              "      <td>NaN</td>\n",
              "      <td>NaN</td>\n",
              "      <td>NaN</td>\n",
              "      <td>NaN</td>\n",
              "      <td>NaN</td>\n",
              "      <td>NaN</td>\n",
              "      <td>NaN</td>\n",
              "      <td>NaN</td>\n",
              "      <td>NaN</td>\n",
              "      <td>NaN</td>\n",
              "    </tr>\n",
              "    <tr>\n",
              "      <th>3</th>\n",
              "      <td>NaN</td>\n",
              "      <td>NaN</td>\n",
              "      <td>NaN</td>\n",
              "      <td>NaN</td>\n",
              "      <td>NaN</td>\n",
              "      <td>NaN</td>\n",
              "      <td>NaN</td>\n",
              "      <td>NaN</td>\n",
              "      <td>NaN</td>\n",
              "      <td>NaN</td>\n",
              "      <td>NaN</td>\n",
              "      <td>NaN</td>\n",
              "      <td>NaN</td>\n",
              "      <td>NaN</td>\n",
              "      <td>NaN</td>\n",
              "      <td>NaN</td>\n",
              "      <td>NaN</td>\n",
              "      <td>NaN</td>\n",
              "      <td>NaN</td>\n",
              "      <td>NaN</td>\n",
              "      <td>NaN</td>\n",
              "      <td>NaN</td>\n",
              "      <td>NaN</td>\n",
              "      <td>NaN</td>\n",
              "      <td>NaN</td>\n",
              "      <td>NaN</td>\n",
              "      <td>NaN</td>\n",
              "      <td>NaN</td>\n",
              "      <td>NaN</td>\n",
              "      <td>NaN</td>\n",
              "      <td>NaN</td>\n",
              "      <td>NaN</td>\n",
              "      <td>NaN</td>\n",
              "      <td>NaN</td>\n",
              "      <td>NaN</td>\n",
              "      <td>NaN</td>\n",
              "      <td>NaN</td>\n",
              "      <td>NaN</td>\n",
              "      <td>NaN</td>\n",
              "      <td>NaN</td>\n",
              "      <td>...</td>\n",
              "      <td>NaN</td>\n",
              "      <td>NaN</td>\n",
              "      <td>NaN</td>\n",
              "      <td>NaN</td>\n",
              "      <td>NaN</td>\n",
              "      <td>NaN</td>\n",
              "      <td>NaN</td>\n",
              "      <td>NaN</td>\n",
              "      <td>NaN</td>\n",
              "      <td>NaN</td>\n",
              "      <td>NaN</td>\n",
              "      <td>NaN</td>\n",
              "      <td>NaN</td>\n",
              "      <td>NaN</td>\n",
              "      <td>NaN</td>\n",
              "      <td>NaN</td>\n",
              "      <td>NaN</td>\n",
              "      <td>NaN</td>\n",
              "      <td>NaN</td>\n",
              "      <td>NaN</td>\n",
              "      <td>NaN</td>\n",
              "      <td>NaN</td>\n",
              "      <td>NaN</td>\n",
              "      <td>NaN</td>\n",
              "      <td>NaN</td>\n",
              "      <td>NaN</td>\n",
              "      <td>NaN</td>\n",
              "      <td>NaN</td>\n",
              "      <td>NaN</td>\n",
              "      <td>NaN</td>\n",
              "      <td>NaN</td>\n",
              "      <td>NaN</td>\n",
              "      <td>NaN</td>\n",
              "      <td>NaN</td>\n",
              "      <td>NaN</td>\n",
              "      <td>NaN</td>\n",
              "      <td>NaN</td>\n",
              "      <td>NaN</td>\n",
              "      <td>NaN</td>\n",
              "      <td>NaN</td>\n",
              "    </tr>\n",
              "    <tr>\n",
              "      <th>4</th>\n",
              "      <td>NaN</td>\n",
              "      <td>NaN</td>\n",
              "      <td>NaN</td>\n",
              "      <td>NaN</td>\n",
              "      <td>NaN</td>\n",
              "      <td>NaN</td>\n",
              "      <td>NaN</td>\n",
              "      <td>NaN</td>\n",
              "      <td>NaN</td>\n",
              "      <td>NaN</td>\n",
              "      <td>NaN</td>\n",
              "      <td>NaN</td>\n",
              "      <td>NaN</td>\n",
              "      <td>NaN</td>\n",
              "      <td>NaN</td>\n",
              "      <td>NaN</td>\n",
              "      <td>NaN</td>\n",
              "      <td>NaN</td>\n",
              "      <td>NaN</td>\n",
              "      <td>NaN</td>\n",
              "      <td>NaN</td>\n",
              "      <td>NaN</td>\n",
              "      <td>NaN</td>\n",
              "      <td>NaN</td>\n",
              "      <td>NaN</td>\n",
              "      <td>NaN</td>\n",
              "      <td>NaN</td>\n",
              "      <td>NaN</td>\n",
              "      <td>NaN</td>\n",
              "      <td>NaN</td>\n",
              "      <td>NaN</td>\n",
              "      <td>NaN</td>\n",
              "      <td>NaN</td>\n",
              "      <td>NaN</td>\n",
              "      <td>NaN</td>\n",
              "      <td>NaN</td>\n",
              "      <td>NaN</td>\n",
              "      <td>NaN</td>\n",
              "      <td>NaN</td>\n",
              "      <td>NaN</td>\n",
              "      <td>...</td>\n",
              "      <td>NaN</td>\n",
              "      <td>NaN</td>\n",
              "      <td>NaN</td>\n",
              "      <td>NaN</td>\n",
              "      <td>NaN</td>\n",
              "      <td>NaN</td>\n",
              "      <td>NaN</td>\n",
              "      <td>NaN</td>\n",
              "      <td>NaN</td>\n",
              "      <td>NaN</td>\n",
              "      <td>NaN</td>\n",
              "      <td>NaN</td>\n",
              "      <td>NaN</td>\n",
              "      <td>NaN</td>\n",
              "      <td>NaN</td>\n",
              "      <td>NaN</td>\n",
              "      <td>NaN</td>\n",
              "      <td>NaN</td>\n",
              "      <td>NaN</td>\n",
              "      <td>NaN</td>\n",
              "      <td>NaN</td>\n",
              "      <td>NaN</td>\n",
              "      <td>NaN</td>\n",
              "      <td>NaN</td>\n",
              "      <td>NaN</td>\n",
              "      <td>NaN</td>\n",
              "      <td>NaN</td>\n",
              "      <td>NaN</td>\n",
              "      <td>NaN</td>\n",
              "      <td>NaN</td>\n",
              "      <td>NaN</td>\n",
              "      <td>NaN</td>\n",
              "      <td>NaN</td>\n",
              "      <td>NaN</td>\n",
              "      <td>NaN</td>\n",
              "      <td>NaN</td>\n",
              "      <td>NaN</td>\n",
              "      <td>NaN</td>\n",
              "      <td>NaN</td>\n",
              "      <td>NaN</td>\n",
              "    </tr>\n",
              "  </tbody>\n",
              "</table>\n",
              "<p>5 rows × 13613 columns</p>\n",
              "</div>"
            ],
            "text/plain": [
              "productId 0     1     2     3     4      ... 13608 13609 13610 13611 13612\n",
              "userId                                   ...                              \n",
              "0           NaN   NaN   NaN   NaN   NaN  ...   NaN   NaN   NaN   NaN   NaN\n",
              "1           NaN   NaN   NaN   NaN   NaN  ...   NaN   NaN   NaN   NaN   NaN\n",
              "2           NaN   NaN   NaN   NaN   NaN  ...   NaN   NaN   NaN   NaN   NaN\n",
              "3           NaN   NaN   NaN   NaN   NaN  ...   NaN   NaN   NaN   NaN   NaN\n",
              "4           NaN   NaN   NaN   NaN   NaN  ...   NaN   NaN   NaN   NaN   NaN\n",
              "\n",
              "[5 rows x 13613 columns]"
            ]
          },
          "metadata": {
            "tags": []
          },
          "execution_count": 48
        }
      ]
    },
    {
      "cell_type": "code",
      "metadata": {
        "colab": {
          "base_uri": "https://localhost:8080/"
        },
        "id": "kXWyZPxmAeCf",
        "outputId": "ab1881d0-774b-4a7b-9854-28b90a16d1ad"
      },
      "source": [
        "#Calucating the density of the rating marix\n",
        "given_num_of_ratings = final_ratings_matrix.count().sum()\n",
        "print('given_num_of_ratings = ', given_num_of_ratings)\n",
        "possible_num_of_ratings = final_ratings_matrix.shape[0] * final_ratings_matrix.shape[1]\n",
        "print('possible_num_of_ratings = ', possible_num_of_ratings)\n",
        "density = (given_num_of_ratings/possible_num_of_ratings)\n",
        "density *= 100\n",
        "print ('density: {:4.2f}%'.format(density))"
      ],
      "execution_count": 55,
      "outputs": [
        {
          "output_type": "stream",
          "text": [
            "given_num_of_ratings =  18735\n",
            "possible_num_of_ratings =  135993870\n",
            "density: 0.01%\n"
          ],
          "name": "stdout"
        }
      ]
    },
    {
      "cell_type": "markdown",
      "metadata": {
        "id": "WbQJzBiiDp82"
      },
      "source": [
        "### Split"
      ]
    },
    {
      "cell_type": "code",
      "metadata": {
        "colab": {
          "base_uri": "https://localhost:8080/",
          "height": 204
        },
        "id": "cVJ9iz5sDrDL",
        "outputId": "b83e70c3-0ca4-4d09-9cf7-511a0aadac1a"
      },
      "source": [
        "#Split the data randomnly into train and test datasets into 70:30 ratio\n",
        "train_data, test_data = train_test_split(electronics_df, test_size = 0.3, random_state=42)\n",
        "train_data.head()"
      ],
      "execution_count": 65,
      "outputs": [
        {
          "output_type": "execute_result",
          "data": {
            "text/html": [
              "<div>\n",
              "<style scoped>\n",
              "    .dataframe tbody tr th:only-of-type {\n",
              "        vertical-align: middle;\n",
              "    }\n",
              "\n",
              "    .dataframe tbody tr th {\n",
              "        vertical-align: top;\n",
              "    }\n",
              "\n",
              "    .dataframe thead th {\n",
              "        text-align: right;\n",
              "    }\n",
              "</style>\n",
              "<table border=\"1\" class=\"dataframe\">\n",
              "  <thead>\n",
              "    <tr style=\"text-align: right;\">\n",
              "      <th></th>\n",
              "      <th>userId</th>\n",
              "      <th>productId</th>\n",
              "      <th>ratings</th>\n",
              "    </tr>\n",
              "  </thead>\n",
              "  <tbody>\n",
              "    <tr>\n",
              "      <th>7229348</th>\n",
              "      <td>6439</td>\n",
              "      <td>12502</td>\n",
              "      <td>1</td>\n",
              "    </tr>\n",
              "    <tr>\n",
              "      <th>1373091</th>\n",
              "      <td>4247</td>\n",
              "      <td>2558</td>\n",
              "      <td>5</td>\n",
              "    </tr>\n",
              "    <tr>\n",
              "      <th>5188285</th>\n",
              "      <td>4693</td>\n",
              "      <td>9093</td>\n",
              "      <td>5</td>\n",
              "    </tr>\n",
              "    <tr>\n",
              "      <th>4702171</th>\n",
              "      <td>5568</td>\n",
              "      <td>8288</td>\n",
              "      <td>1</td>\n",
              "    </tr>\n",
              "    <tr>\n",
              "      <th>249210</th>\n",
              "      <td>8568</td>\n",
              "      <td>459</td>\n",
              "      <td>5</td>\n",
              "    </tr>\n",
              "  </tbody>\n",
              "</table>\n",
              "</div>"
            ],
            "text/plain": [
              "         userId  productId  ratings\n",
              "7229348    6439      12502        1\n",
              "1373091    4247       2558        5\n",
              "5188285    4693       9093        5\n",
              "4702171    5568       8288        1\n",
              "249210     8568        459        5"
            ]
          },
          "metadata": {
            "tags": []
          },
          "execution_count": 65
        }
      ]
    },
    {
      "cell_type": "code",
      "metadata": {
        "colab": {
          "base_uri": "https://localhost:8080/"
        },
        "id": "gWUKf6vaEfuu",
        "outputId": "f172826c-b102-41f2-eb0a-de7be422c565"
      },
      "source": [
        "print('Shape of training data: ', train_data.shape)\n",
        "print('Shape of testing data: ', test_data.shape)"
      ],
      "execution_count": 66,
      "outputs": [
        {
          "output_type": "stream",
          "text": [
            "Shape of training data:  (13114, 3)\n",
            "Shape of testing data:  (5621, 3)\n"
          ],
          "name": "stdout"
        }
      ]
    },
    {
      "cell_type": "markdown",
      "metadata": {
        "id": "m5soQKXZEjab"
      },
      "source": [
        "## Models"
      ]
    },
    {
      "cell_type": "markdown",
      "metadata": {
        "id": "HBf7r28JEmR5"
      },
      "source": [
        "### Popularity (manual)"
      ]
    },
    {
      "cell_type": "code",
      "metadata": {
        "colab": {
          "base_uri": "https://localhost:8080/",
          "height": 204
        },
        "id": "XRFw2GYcEgLf",
        "outputId": "04ccb6f7-0f75-4946-82e3-a0f45770482f"
      },
      "source": [
        "#Count of user_id for each unique product as recommendation score \n",
        "train_data_grouped = train_data.groupby('productId').agg({'userId': 'count'}).reset_index()\n",
        "train_data_grouped.rename(columns = {'userId': 'score'},inplace=True)\n",
        "\n",
        "#Sort the products on recommendation score \n",
        "train_data_sort = train_data_grouped.sort_values(['score', 'productId'], ascending = [0,1]) \n",
        "      \n",
        "#Generate a recommendation rank based upon score \n",
        "train_data_sort['rank'] = train_data_sort['score'].rank(ascending=0, method='first') \n",
        "          \n",
        "#Get the top 5 recommendations \n",
        "popularity_recommendations = train_data_sort.head(5)\n",
        "popularity_recommendations"
      ],
      "execution_count": 67,
      "outputs": [
        {
          "output_type": "execute_result",
          "data": {
            "text/html": [
              "<div>\n",
              "<style scoped>\n",
              "    .dataframe tbody tr th:only-of-type {\n",
              "        vertical-align: middle;\n",
              "    }\n",
              "\n",
              "    .dataframe tbody tr th {\n",
              "        vertical-align: top;\n",
              "    }\n",
              "\n",
              "    .dataframe thead th {\n",
              "        text-align: right;\n",
              "    }\n",
              "</style>\n",
              "<table border=\"1\" class=\"dataframe\">\n",
              "  <thead>\n",
              "    <tr style=\"text-align: right;\">\n",
              "      <th></th>\n",
              "      <th>productId</th>\n",
              "      <th>score</th>\n",
              "      <th>rank</th>\n",
              "    </tr>\n",
              "  </thead>\n",
              "  <tbody>\n",
              "    <tr>\n",
              "      <th>7255</th>\n",
              "      <td>9751</td>\n",
              "      <td>29</td>\n",
              "      <td>1.0</td>\n",
              "    </tr>\n",
              "    <tr>\n",
              "      <th>9574</th>\n",
              "      <td>12872</td>\n",
              "      <td>27</td>\n",
              "      <td>2.0</td>\n",
              "    </tr>\n",
              "    <tr>\n",
              "      <th>4418</th>\n",
              "      <td>5911</td>\n",
              "      <td>26</td>\n",
              "      <td>3.0</td>\n",
              "    </tr>\n",
              "    <tr>\n",
              "      <th>4429</th>\n",
              "      <td>5925</td>\n",
              "      <td>23</td>\n",
              "      <td>4.0</td>\n",
              "    </tr>\n",
              "    <tr>\n",
              "      <th>2503</th>\n",
              "      <td>3324</td>\n",
              "      <td>21</td>\n",
              "      <td>5.0</td>\n",
              "    </tr>\n",
              "  </tbody>\n",
              "</table>\n",
              "</div>"
            ],
            "text/plain": [
              "      productId  score  rank\n",
              "7255       9751     29   1.0\n",
              "9574      12872     27   2.0\n",
              "4418       5911     26   3.0\n",
              "4429       5925     23   4.0\n",
              "2503       3324     21   5.0"
            ]
          },
          "metadata": {
            "tags": []
          },
          "execution_count": 67
        }
      ]
    },
    {
      "cell_type": "code",
      "metadata": {
        "id": "zNhNIXG4F6Bu"
      },
      "source": [
        "# Sample fuction to use manual popularity based recommender model to make predictions\n",
        "def recommend(user_id):     \n",
        "    user_recommendations = popularity_recommendations \n",
        "          \n",
        "    #Add user_id column for which the recommendations are being generated \n",
        "    user_recommendations['userId'] = user_id \n",
        "      \n",
        "    #Bring user_id column to the front \n",
        "    cols = user_recommendations.columns.tolist() \n",
        "    cols = cols[-1:] + cols[:-1] \n",
        "    user_recommendations = user_recommendations[cols] \n",
        "          \n",
        "    return user_recommendations "
      ],
      "execution_count": 68,
      "outputs": []
    },
    {
      "cell_type": "code",
      "metadata": {
        "colab": {
          "base_uri": "https://localhost:8080/"
        },
        "id": "Za3wSsruE-Qh",
        "outputId": "9e292fa8-026d-494d-e50e-36ae27fbc801"
      },
      "source": [
        "find_recom = [10,100,150]   # This list is user choice.\n",
        "for i in find_recom:\n",
        "    print(\"The list of recommendations for the userId: %d\\n\" %(i))\n",
        "    print(recommend(i))    \n",
        "    print(\"\\n\") "
      ],
      "execution_count": 69,
      "outputs": [
        {
          "output_type": "stream",
          "text": [
            "The list of recommendations for the userId: 10\n",
            "\n",
            "      userId  productId  score  rank\n",
            "7255      10       9751     29   1.0\n",
            "9574      10      12872     27   2.0\n",
            "4418      10       5911     26   3.0\n",
            "4429      10       5925     23   4.0\n",
            "2503      10       3324     21   5.0\n",
            "\n",
            "\n",
            "The list of recommendations for the userId: 100\n",
            "\n",
            "      userId  productId  score  rank\n",
            "7255     100       9751     29   1.0\n",
            "9574     100      12872     27   2.0\n",
            "4418     100       5911     26   3.0\n",
            "4429     100       5925     23   4.0\n",
            "2503     100       3324     21   5.0\n",
            "\n",
            "\n",
            "The list of recommendations for the userId: 150\n",
            "\n",
            "      userId  productId  score  rank\n",
            "7255     150       9751     29   1.0\n",
            "9574     150      12872     27   2.0\n",
            "4418     150       5911     26   3.0\n",
            "4429     150       5925     23   4.0\n",
            "2503     150       3324     21   5.0\n",
            "\n",
            "\n"
          ],
          "name": "stdout"
        }
      ]
    },
    {
      "cell_type": "markdown",
      "metadata": {
        "id": "-uylt0CAFAGA"
      },
      "source": [
        "Since, it is a Popularity recommender model, so, all the three users are given the same recommendations. Here, we predict the products based on the popularity. It is not personalized to particular user. It is a non-personalized recommender system."
      ]
    },
    {
      "cell_type": "code",
      "metadata": {
        "colab": {
          "base_uri": "https://localhost:8080/",
          "height": 204
        },
        "id": "EIl2Cs-cFEEQ",
        "outputId": "caf5a3c1-b62e-4b03-b30d-c4d1972cbf1a"
      },
      "source": [
        "#Calculating the RMSE of the popularity based recommendation system\n",
        "#Rating present in the test data is the actual rating (Act_rating)\n",
        "test_data2 = test_data.copy()\n",
        "test_data2.drop(['userId'],axis=1,inplace=True)\n",
        "test_data2.rename(columns = {'ratings':'Act_rating'}, inplace = True)\n",
        "\n",
        "#Count of user_id for each unique product as recommendation score\n",
        "\n",
        "train_data_grouped2 = train_data.groupby('productId').agg({'ratings': 'sum'}).reset_index()\n",
        "train_data_grouped2.rename(columns = {'ratings': 'Sum_rating'},inplace=True)\n",
        "train_data_grouped2.head()"
      ],
      "execution_count": 70,
      "outputs": [
        {
          "output_type": "execute_result",
          "data": {
            "text/html": [
              "<div>\n",
              "<style scoped>\n",
              "    .dataframe tbody tr th:only-of-type {\n",
              "        vertical-align: middle;\n",
              "    }\n",
              "\n",
              "    .dataframe tbody tr th {\n",
              "        vertical-align: top;\n",
              "    }\n",
              "\n",
              "    .dataframe thead th {\n",
              "        text-align: right;\n",
              "    }\n",
              "</style>\n",
              "<table border=\"1\" class=\"dataframe\">\n",
              "  <thead>\n",
              "    <tr style=\"text-align: right;\">\n",
              "      <th></th>\n",
              "      <th>productId</th>\n",
              "      <th>Sum_rating</th>\n",
              "    </tr>\n",
              "  </thead>\n",
              "  <tbody>\n",
              "    <tr>\n",
              "      <th>0</th>\n",
              "      <td>1</td>\n",
              "      <td>9</td>\n",
              "    </tr>\n",
              "    <tr>\n",
              "      <th>1</th>\n",
              "      <td>2</td>\n",
              "      <td>2</td>\n",
              "    </tr>\n",
              "    <tr>\n",
              "      <th>2</th>\n",
              "      <td>4</td>\n",
              "      <td>4</td>\n",
              "    </tr>\n",
              "    <tr>\n",
              "      <th>3</th>\n",
              "      <td>5</td>\n",
              "      <td>5</td>\n",
              "    </tr>\n",
              "    <tr>\n",
              "      <th>4</th>\n",
              "      <td>6</td>\n",
              "      <td>10</td>\n",
              "    </tr>\n",
              "  </tbody>\n",
              "</table>\n",
              "</div>"
            ],
            "text/plain": [
              "   productId  Sum_rating\n",
              "0          1           9\n",
              "1          2           2\n",
              "2          4           4\n",
              "3          5           5\n",
              "4          6          10"
            ]
          },
          "metadata": {
            "tags": []
          },
          "execution_count": 70
        }
      ]
    },
    {
      "cell_type": "code",
      "metadata": {
        "colab": {
          "base_uri": "https://localhost:8080/",
          "height": 204
        },
        "id": "iIgvoP8rGnr7",
        "outputId": "f751492a-5a3f-4ac5-b32b-ac79776c5e99"
      },
      "source": [
        "train_data_inner = pd.merge(train_data_grouped2, train_data_sort)\n",
        "train_data_inner.head()"
      ],
      "execution_count": 71,
      "outputs": [
        {
          "output_type": "execute_result",
          "data": {
            "text/html": [
              "<div>\n",
              "<style scoped>\n",
              "    .dataframe tbody tr th:only-of-type {\n",
              "        vertical-align: middle;\n",
              "    }\n",
              "\n",
              "    .dataframe tbody tr th {\n",
              "        vertical-align: top;\n",
              "    }\n",
              "\n",
              "    .dataframe thead th {\n",
              "        text-align: right;\n",
              "    }\n",
              "</style>\n",
              "<table border=\"1\" class=\"dataframe\">\n",
              "  <thead>\n",
              "    <tr style=\"text-align: right;\">\n",
              "      <th></th>\n",
              "      <th>productId</th>\n",
              "      <th>Sum_rating</th>\n",
              "      <th>score</th>\n",
              "      <th>rank</th>\n",
              "    </tr>\n",
              "  </thead>\n",
              "  <tbody>\n",
              "    <tr>\n",
              "      <th>0</th>\n",
              "      <td>1</td>\n",
              "      <td>9</td>\n",
              "      <td>2</td>\n",
              "      <td>554.0</td>\n",
              "    </tr>\n",
              "    <tr>\n",
              "      <th>1</th>\n",
              "      <td>2</td>\n",
              "      <td>2</td>\n",
              "      <td>1</td>\n",
              "      <td>1560.0</td>\n",
              "    </tr>\n",
              "    <tr>\n",
              "      <th>2</th>\n",
              "      <td>4</td>\n",
              "      <td>4</td>\n",
              "      <td>1</td>\n",
              "      <td>1561.0</td>\n",
              "    </tr>\n",
              "    <tr>\n",
              "      <th>3</th>\n",
              "      <td>5</td>\n",
              "      <td>5</td>\n",
              "      <td>1</td>\n",
              "      <td>1562.0</td>\n",
              "    </tr>\n",
              "    <tr>\n",
              "      <th>4</th>\n",
              "      <td>6</td>\n",
              "      <td>10</td>\n",
              "      <td>2</td>\n",
              "      <td>555.0</td>\n",
              "    </tr>\n",
              "  </tbody>\n",
              "</table>\n",
              "</div>"
            ],
            "text/plain": [
              "   productId  Sum_rating  score    rank\n",
              "0          1           9      2   554.0\n",
              "1          2           2      1  1560.0\n",
              "2          4           4      1  1561.0\n",
              "3          5           5      1  1562.0\n",
              "4          6          10      2   555.0"
            ]
          },
          "metadata": {
            "tags": []
          },
          "execution_count": 71
        }
      ]
    },
    {
      "cell_type": "code",
      "metadata": {
        "colab": {
          "base_uri": "https://localhost:8080/",
          "height": 204
        },
        "id": "1zzZcV6GGsHY",
        "outputId": "348bb81e-b873-44e1-8656-50133be27edc"
      },
      "source": [
        "#Obtain the average rating of the product across users\n",
        "train_data_inner[\"Avg_Rating\"] = train_data_inner[\"Sum_rating\"]/train_data_inner[\"score\"]\n",
        "train_data_inner.head()"
      ],
      "execution_count": 72,
      "outputs": [
        {
          "output_type": "execute_result",
          "data": {
            "text/html": [
              "<div>\n",
              "<style scoped>\n",
              "    .dataframe tbody tr th:only-of-type {\n",
              "        vertical-align: middle;\n",
              "    }\n",
              "\n",
              "    .dataframe tbody tr th {\n",
              "        vertical-align: top;\n",
              "    }\n",
              "\n",
              "    .dataframe thead th {\n",
              "        text-align: right;\n",
              "    }\n",
              "</style>\n",
              "<table border=\"1\" class=\"dataframe\">\n",
              "  <thead>\n",
              "    <tr style=\"text-align: right;\">\n",
              "      <th></th>\n",
              "      <th>productId</th>\n",
              "      <th>Sum_rating</th>\n",
              "      <th>score</th>\n",
              "      <th>rank</th>\n",
              "      <th>Avg_Rating</th>\n",
              "    </tr>\n",
              "  </thead>\n",
              "  <tbody>\n",
              "    <tr>\n",
              "      <th>0</th>\n",
              "      <td>1</td>\n",
              "      <td>9</td>\n",
              "      <td>2</td>\n",
              "      <td>554.0</td>\n",
              "      <td>4.5</td>\n",
              "    </tr>\n",
              "    <tr>\n",
              "      <th>1</th>\n",
              "      <td>2</td>\n",
              "      <td>2</td>\n",
              "      <td>1</td>\n",
              "      <td>1560.0</td>\n",
              "      <td>2.0</td>\n",
              "    </tr>\n",
              "    <tr>\n",
              "      <th>2</th>\n",
              "      <td>4</td>\n",
              "      <td>4</td>\n",
              "      <td>1</td>\n",
              "      <td>1561.0</td>\n",
              "      <td>4.0</td>\n",
              "    </tr>\n",
              "    <tr>\n",
              "      <th>3</th>\n",
              "      <td>5</td>\n",
              "      <td>5</td>\n",
              "      <td>1</td>\n",
              "      <td>1562.0</td>\n",
              "      <td>5.0</td>\n",
              "    </tr>\n",
              "    <tr>\n",
              "      <th>4</th>\n",
              "      <td>6</td>\n",
              "      <td>10</td>\n",
              "      <td>2</td>\n",
              "      <td>555.0</td>\n",
              "      <td>5.0</td>\n",
              "    </tr>\n",
              "  </tbody>\n",
              "</table>\n",
              "</div>"
            ],
            "text/plain": [
              "   productId  Sum_rating  score    rank  Avg_Rating\n",
              "0          1           9      2   554.0         4.5\n",
              "1          2           2      1  1560.0         2.0\n",
              "2          4           4      1  1561.0         4.0\n",
              "3          5           5      1  1562.0         5.0\n",
              "4          6          10      2   555.0         5.0"
            ]
          },
          "metadata": {
            "tags": []
          },
          "execution_count": 72
        }
      ]
    },
    {
      "cell_type": "code",
      "metadata": {
        "colab": {
          "base_uri": "https://localhost:8080/",
          "height": 204
        },
        "id": "QbyI7TjTG4jY",
        "outputId": "cc34bb10-d351-4c3b-cc83-91d37ca17876"
      },
      "source": [
        "#Merge the train data having average rating with the test data having actual rating at product level\n",
        "test_data_inner = pd.merge(train_data_inner, test_data2)\n",
        "test_data_inner.head()"
      ],
      "execution_count": 73,
      "outputs": [
        {
          "output_type": "execute_result",
          "data": {
            "text/html": [
              "<div>\n",
              "<style scoped>\n",
              "    .dataframe tbody tr th:only-of-type {\n",
              "        vertical-align: middle;\n",
              "    }\n",
              "\n",
              "    .dataframe tbody tr th {\n",
              "        vertical-align: top;\n",
              "    }\n",
              "\n",
              "    .dataframe thead th {\n",
              "        text-align: right;\n",
              "    }\n",
              "</style>\n",
              "<table border=\"1\" class=\"dataframe\">\n",
              "  <thead>\n",
              "    <tr style=\"text-align: right;\">\n",
              "      <th></th>\n",
              "      <th>productId</th>\n",
              "      <th>Sum_rating</th>\n",
              "      <th>score</th>\n",
              "      <th>rank</th>\n",
              "      <th>Avg_Rating</th>\n",
              "      <th>Act_rating</th>\n",
              "    </tr>\n",
              "  </thead>\n",
              "  <tbody>\n",
              "    <tr>\n",
              "      <th>0</th>\n",
              "      <td>2</td>\n",
              "      <td>2</td>\n",
              "      <td>1</td>\n",
              "      <td>1560.0</td>\n",
              "      <td>2.00</td>\n",
              "      <td>5</td>\n",
              "    </tr>\n",
              "    <tr>\n",
              "      <th>1</th>\n",
              "      <td>5</td>\n",
              "      <td>5</td>\n",
              "      <td>1</td>\n",
              "      <td>1562.0</td>\n",
              "      <td>5.00</td>\n",
              "      <td>1</td>\n",
              "    </tr>\n",
              "    <tr>\n",
              "      <th>2</th>\n",
              "      <td>36</td>\n",
              "      <td>17</td>\n",
              "      <td>4</td>\n",
              "      <td>158.0</td>\n",
              "      <td>4.25</td>\n",
              "      <td>4</td>\n",
              "    </tr>\n",
              "    <tr>\n",
              "      <th>3</th>\n",
              "      <td>36</td>\n",
              "      <td>17</td>\n",
              "      <td>4</td>\n",
              "      <td>158.0</td>\n",
              "      <td>4.25</td>\n",
              "      <td>3</td>\n",
              "    </tr>\n",
              "    <tr>\n",
              "      <th>4</th>\n",
              "      <td>44</td>\n",
              "      <td>8</td>\n",
              "      <td>2</td>\n",
              "      <td>559.0</td>\n",
              "      <td>4.00</td>\n",
              "      <td>5</td>\n",
              "    </tr>\n",
              "  </tbody>\n",
              "</table>\n",
              "</div>"
            ],
            "text/plain": [
              "   productId  Sum_rating  score    rank  Avg_Rating  Act_rating\n",
              "0          2           2      1  1560.0        2.00           5\n",
              "1          5           5      1  1562.0        5.00           1\n",
              "2         36          17      4   158.0        4.25           4\n",
              "3         36          17      4   158.0        4.25           3\n",
              "4         44           8      2   559.0        4.00           5"
            ]
          },
          "metadata": {
            "tags": []
          },
          "execution_count": 73
        }
      ]
    },
    {
      "cell_type": "code",
      "metadata": {
        "colab": {
          "base_uri": "https://localhost:8080/"
        },
        "id": "HdURdJMaHAJO",
        "outputId": "18e1d33e-0302-446e-8027-8069d7860aa6"
      },
      "source": [
        "#RMSE for popularity based recommender system\n",
        "mse = mean_squared_error(test_data_inner[\"Act_rating\"], test_data_inner[\"Avg_Rating\"])\n",
        "rmse = math.sqrt(mse)\n",
        "print(\"RMSE for popularity based recommendation system:\", rmse)"
      ],
      "execution_count": 74,
      "outputs": [
        {
          "output_type": "stream",
          "text": [
            "RMSE for popularity based recommendation system: 1.5949064890356024\n"
          ],
          "name": "stdout"
        }
      ]
    },
    {
      "cell_type": "markdown",
      "metadata": {
        "id": "AP8YnZQoHIBJ"
      },
      "source": [
        "### Popularity (turicreate)"
      ]
    },
    {
      "cell_type": "code",
      "metadata": {
        "id": "LDyB9r6bHCOO"
      },
      "source": [
        "train_data2 = turicreate.SFrame(train_data)\n",
        "test_data2 = turicreate.SFrame(test_data)"
      ],
      "execution_count": 76,
      "outputs": []
    },
    {
      "cell_type": "code",
      "metadata": {
        "colab": {
          "base_uri": "https://localhost:8080/",
          "height": 85
        },
        "id": "zbQefJldHcqp",
        "outputId": "e53c0c10-8a5f-4686-fb29-ffcbecec795f"
      },
      "source": [
        "popularity_model = turicreate.popularity_recommender.create(train_data2, user_id='userId', item_id='productId', target='ratings')"
      ],
      "execution_count": 77,
      "outputs": [
        {
          "output_type": "display_data",
          "data": {
            "text/html": [
              "<pre>Preparing data set.</pre>"
            ],
            "text/plain": [
              "Preparing data set."
            ]
          },
          "metadata": {
            "tags": []
          }
        },
        {
          "output_type": "display_data",
          "data": {
            "text/html": [
              "<pre>    Data has 13114 observations with 7792 users and 10128 items.</pre>"
            ],
            "text/plain": [
              "    Data has 13114 observations with 7792 users and 10128 items."
            ]
          },
          "metadata": {
            "tags": []
          }
        },
        {
          "output_type": "display_data",
          "data": {
            "text/html": [
              "<pre>    Data prepared in: 0.035442s</pre>"
            ],
            "text/plain": [
              "    Data prepared in: 0.035442s"
            ]
          },
          "metadata": {
            "tags": []
          }
        },
        {
          "output_type": "display_data",
          "data": {
            "text/html": [
              "<pre>13114 observations to process; with 10128 unique items.</pre>"
            ],
            "text/plain": [
              "13114 observations to process; with 10128 unique items."
            ]
          },
          "metadata": {
            "tags": []
          }
        }
      ]
    },
    {
      "cell_type": "code",
      "metadata": {
        "colab": {
          "base_uri": "https://localhost:8080/"
        },
        "id": "sFEE61ObHol5",
        "outputId": "9275215a-aeef-4c9c-e288-c22e020f0003"
      },
      "source": [
        "random_5users = np.random.choice(userids_random10k, 5)\n",
        "random_5users"
      ],
      "execution_count": 79,
      "outputs": [
        {
          "output_type": "execute_result",
          "data": {
            "text/plain": [
              "array(['AAUVK4AE89NYN', 'A25BDRXNL57DSW', 'A2SZ0P5ND7C5AU',\n",
              "       'A3MG1LEMIEK6L6', 'A3GS6AVYWXDV1I'], dtype=object)"
            ]
          },
          "metadata": {
            "tags": []
          },
          "execution_count": 79
        }
      ]
    },
    {
      "cell_type": "code",
      "metadata": {
        "colab": {
          "base_uri": "https://localhost:8080/"
        },
        "id": "ihnkUdK8HcoH",
        "outputId": "82a5fee3-e7d5-4f32-bcbd-33bfcec63d4f"
      },
      "source": [
        "#Recommend for a given set of users, since there are top 5 recommendation for 5 users, total rows will be 25\n",
        "popularity_recomm = popularity_model.recommend(users=le_userid.transform(random_5users),k=5)\n",
        "popularity_recomm.print_rows(num_rows=25)"
      ],
      "execution_count": 83,
      "outputs": [
        {
          "output_type": "stream",
          "text": [
            "+--------+-----------+-------+------+\n",
            "| userId | productId | score | rank |\n",
            "+--------+-----------+-------+------+\n",
            "|  8118  |    7813   |  5.0  |  1   |\n",
            "|  8118  |   10264   |  5.0  |  2   |\n",
            "|  8118  |     11    |  5.0  |  3   |\n",
            "|  8118  |    459    |  5.0  |  4   |\n",
            "|  8118  |    2558   |  5.0  |  5   |\n",
            "|  2989  |    7813   |  5.0  |  1   |\n",
            "|  2989  |   10264   |  5.0  |  2   |\n",
            "|  2989  |     11    |  5.0  |  3   |\n",
            "|  2989  |    459    |  5.0  |  4   |\n",
            "|  2989  |    2558   |  5.0  |  5   |\n",
            "|  4696  |    7813   |  5.0  |  1   |\n",
            "|  4696  |   10264   |  5.0  |  2   |\n",
            "|  4696  |     11    |  5.0  |  3   |\n",
            "|  4696  |    459    |  5.0  |  4   |\n",
            "|  4696  |    2558   |  5.0  |  5   |\n",
            "|  6905  |    7813   |  5.0  |  1   |\n",
            "|  6905  |   10264   |  5.0  |  2   |\n",
            "|  6905  |     11    |  5.0  |  3   |\n",
            "|  6905  |    459    |  5.0  |  4   |\n",
            "|  6905  |    2558   |  5.0  |  5   |\n",
            "|  6477  |    7813   |  5.0  |  1   |\n",
            "|  6477  |   10264   |  5.0  |  2   |\n",
            "|  6477  |     11    |  5.0  |  3   |\n",
            "|  6477  |    459    |  5.0  |  4   |\n",
            "|  6477  |    2558   |  5.0  |  5   |\n",
            "+--------+-----------+-------+------+\n",
            "[25 rows x 4 columns]\n",
            "\n"
          ],
          "name": "stdout"
        }
      ]
    },
    {
      "cell_type": "code",
      "metadata": {
        "colab": {
          "base_uri": "https://localhost:8080/"
        },
        "id": "6FlTeLDBHcl5",
        "outputId": "d663fc30-b5a0-4256-ed08-6cd126cdda98"
      },
      "source": [
        "pop_rmse = popularity_model.evaluate_rmse(test_data2,'ratings')\n",
        "print(pop_rmse)\n",
        "#The RMSE value for the popularity based model\n",
        "pop_rmse[\"rmse_overall\"]"
      ],
      "execution_count": 84,
      "outputs": [
        {
          "output_type": "stream",
          "text": [
            "{'rmse_by_user': Columns:\n",
            "\tuserId\tint\n",
            "\trmse\tfloat\n",
            "\tcount\tint\n",
            "\n",
            "Rows: 4062\n",
            "\n",
            "Data:\n",
            "+--------+--------------------+-------+\n",
            "| userId |        rmse        | count |\n",
            "+--------+--------------------+-------+\n",
            "|  7899  | 0.9914595089217633 |   1   |\n",
            "|  2035  |        1.0         |   1   |\n",
            "|  4631  | 0.7826086956521738 |   1   |\n",
            "|  7148  |        0.0         |   1   |\n",
            "|  1611  |        2.0         |   1   |\n",
            "|  9056  | 0.809523299162902  |   3   |\n",
            "|  8455  | 0.9144488141425273 |   6   |\n",
            "|  9335  | 2.267623745719382  |   2   |\n",
            "|  9784  |        0.25        |   1   |\n",
            "|  2057  | 0.9914595089217633 |   1   |\n",
            "+--------+--------------------+-------+\n",
            "[4062 rows x 3 columns]\n",
            "Note: Only the head of the SFrame is printed.\n",
            "You can use print_rows(num_rows=m, num_columns=n) to print more rows and columns., 'rmse_by_item': Columns:\n",
            "\tproductId\tint\n",
            "\trmse\tfloat\n",
            "\tcount\tint\n",
            "\n",
            "Rows: 4784\n",
            "\n",
            "Data:\n",
            "+-----------+----------------------+-------+\n",
            "| productId |         rmse         | count |\n",
            "+-----------+----------------------+-------+\n",
            "|   11723   | 0.008540491078236734 |   1   |\n",
            "|    3143   | 0.008540491078236734 |   1   |\n",
            "|    4631   |  3.0085404910782367  |   1   |\n",
            "|    6769   |  0.9914595089217633  |   1   |\n",
            "|    8275   | 0.008540491078236734 |   1   |\n",
            "|   12883   | 0.008540491078236734 |   1   |\n",
            "|    9056   |         0.0          |   2   |\n",
            "|    9335   |  2.8284271247461903  |   2   |\n",
            "|    5783   |  0.9914595089217633  |   1   |\n",
            "|    2459   | 0.14285714285714324  |   3   |\n",
            "+-----------+----------------------+-------+\n",
            "[4784 rows x 3 columns]\n",
            "Note: Only the head of the SFrame is printed.\n",
            "You can use print_rows(num_rows=m, num_columns=n) to print more rows and columns., 'rmse_overall': 1.4680131132616503}\n"
          ],
          "name": "stdout"
        },
        {
          "output_type": "execute_result",
          "data": {
            "text/plain": [
              "1.4680131132616503"
            ]
          },
          "metadata": {
            "tags": []
          },
          "execution_count": 84
        }
      ]
    },
    {
      "cell_type": "markdown",
      "metadata": {
        "id": "XLOQvP3eIrdn"
      },
      "source": [
        "### Item-item similarity (turicreate)"
      ]
    },
    {
      "cell_type": "markdown",
      "metadata": {
        "id": "wmFprRLOIyWq"
      },
      "source": [
        "This model first computes the similarity between items using the observations of users who have interacted with both items. Given a similarity between item i and j, S(i,j), it scores an item j for user u using a weighted average of the user’s previous observations Iu.\n"
      ]
    },
    {
      "cell_type": "code",
      "metadata": {
        "colab": {
          "base_uri": "https://localhost:8080/",
          "height": 391
        },
        "id": "YzQg1pwgHcih",
        "outputId": "975458b4-8425-429b-dd04-40bd4fc1b2aa"
      },
      "source": [
        "#Training the model for item-item similarity recommender\n",
        "item_sim_model = turicreate.item_similarity_recommender.create(train_data2, user_id='userId',\n",
        "                                                               item_id='productId', target='ratings',\n",
        "                                                               similarity_type='cosine')"
      ],
      "execution_count": 85,
      "outputs": [
        {
          "output_type": "display_data",
          "data": {
            "text/html": [
              "<pre>Preparing data set.</pre>"
            ],
            "text/plain": [
              "Preparing data set."
            ]
          },
          "metadata": {
            "tags": []
          }
        },
        {
          "output_type": "display_data",
          "data": {
            "text/html": [
              "<pre>    Data has 13114 observations with 7792 users and 10128 items.</pre>"
            ],
            "text/plain": [
              "    Data has 13114 observations with 7792 users and 10128 items."
            ]
          },
          "metadata": {
            "tags": []
          }
        },
        {
          "output_type": "display_data",
          "data": {
            "text/html": [
              "<pre>    Data prepared in: 0.040847s</pre>"
            ],
            "text/plain": [
              "    Data prepared in: 0.040847s"
            ]
          },
          "metadata": {
            "tags": []
          }
        },
        {
          "output_type": "display_data",
          "data": {
            "text/html": [
              "<pre>Training model from provided data.</pre>"
            ],
            "text/plain": [
              "Training model from provided data."
            ]
          },
          "metadata": {
            "tags": []
          }
        },
        {
          "output_type": "display_data",
          "data": {
            "text/html": [
              "<pre>Gathering per-item and per-user statistics.</pre>"
            ],
            "text/plain": [
              "Gathering per-item and per-user statistics."
            ]
          },
          "metadata": {
            "tags": []
          }
        },
        {
          "output_type": "display_data",
          "data": {
            "text/html": [
              "<pre>+--------------------------------+------------+</pre>"
            ],
            "text/plain": [
              "+--------------------------------+------------+"
            ]
          },
          "metadata": {
            "tags": []
          }
        },
        {
          "output_type": "display_data",
          "data": {
            "text/html": [
              "<pre>| Elapsed Time (Item Statistics) | % Complete |</pre>"
            ],
            "text/plain": [
              "| Elapsed Time (Item Statistics) | % Complete |"
            ]
          },
          "metadata": {
            "tags": []
          }
        },
        {
          "output_type": "display_data",
          "data": {
            "text/html": [
              "<pre>+--------------------------------+------------+</pre>"
            ],
            "text/plain": [
              "+--------------------------------+------------+"
            ]
          },
          "metadata": {
            "tags": []
          }
        },
        {
          "output_type": "display_data",
          "data": {
            "text/html": [
              "<pre>| 4.535ms                        | 12.75      |</pre>"
            ],
            "text/plain": [
              "| 4.535ms                        | 12.75      |"
            ]
          },
          "metadata": {
            "tags": []
          }
        },
        {
          "output_type": "display_data",
          "data": {
            "text/html": [
              "<pre>| 6.68ms                         | 100        |</pre>"
            ],
            "text/plain": [
              "| 6.68ms                         | 100        |"
            ]
          },
          "metadata": {
            "tags": []
          }
        },
        {
          "output_type": "display_data",
          "data": {
            "text/html": [
              "<pre>+--------------------------------+------------+</pre>"
            ],
            "text/plain": [
              "+--------------------------------+------------+"
            ]
          },
          "metadata": {
            "tags": []
          }
        },
        {
          "output_type": "display_data",
          "data": {
            "text/html": [
              "<pre>Setting up lookup tables.</pre>"
            ],
            "text/plain": [
              "Setting up lookup tables."
            ]
          },
          "metadata": {
            "tags": []
          }
        },
        {
          "output_type": "display_data",
          "data": {
            "text/html": [
              "<pre>Processing data in one pass using dense lookup tables.</pre>"
            ],
            "text/plain": [
              "Processing data in one pass using dense lookup tables."
            ]
          },
          "metadata": {
            "tags": []
          }
        },
        {
          "output_type": "display_data",
          "data": {
            "text/html": [
              "<pre>+-------------------------------------+------------------+-----------------+</pre>"
            ],
            "text/plain": [
              "+-------------------------------------+------------------+-----------------+"
            ]
          },
          "metadata": {
            "tags": []
          }
        },
        {
          "output_type": "display_data",
          "data": {
            "text/html": [
              "<pre>| Elapsed Time (Constructing Lookups) | Total % Complete | Items Processed |</pre>"
            ],
            "text/plain": [
              "| Elapsed Time (Constructing Lookups) | Total % Complete | Items Processed |"
            ]
          },
          "metadata": {
            "tags": []
          }
        },
        {
          "output_type": "display_data",
          "data": {
            "text/html": [
              "<pre>+-------------------------------------+------------------+-----------------+</pre>"
            ],
            "text/plain": [
              "+-------------------------------------+------------------+-----------------+"
            ]
          },
          "metadata": {
            "tags": []
          }
        },
        {
          "output_type": "display_data",
          "data": {
            "text/html": [
              "<pre>| 767.178ms                           | 0                | 0               |</pre>"
            ],
            "text/plain": [
              "| 767.178ms                           | 0                | 0               |"
            ]
          },
          "metadata": {
            "tags": []
          }
        },
        {
          "output_type": "display_data",
          "data": {
            "text/html": [
              "<pre>| 1.68s                               | 100              | 10128           |</pre>"
            ],
            "text/plain": [
              "| 1.68s                               | 100              | 10128           |"
            ]
          },
          "metadata": {
            "tags": []
          }
        },
        {
          "output_type": "display_data",
          "data": {
            "text/html": [
              "<pre>+-------------------------------------+------------------+-----------------+</pre>"
            ],
            "text/plain": [
              "+-------------------------------------+------------------+-----------------+"
            ]
          },
          "metadata": {
            "tags": []
          }
        },
        {
          "output_type": "display_data",
          "data": {
            "text/html": [
              "<pre>Finalizing lookup tables.</pre>"
            ],
            "text/plain": [
              "Finalizing lookup tables."
            ]
          },
          "metadata": {
            "tags": []
          }
        },
        {
          "output_type": "display_data",
          "data": {
            "text/html": [
              "<pre>Generating candidate set for working with new users.</pre>"
            ],
            "text/plain": [
              "Generating candidate set for working with new users."
            ]
          },
          "metadata": {
            "tags": []
          }
        },
        {
          "output_type": "display_data",
          "data": {
            "text/html": [
              "<pre>Finished training in 2.70077s</pre>"
            ],
            "text/plain": [
              "Finished training in 2.70077s"
            ]
          },
          "metadata": {
            "tags": []
          }
        }
      ]
    },
    {
      "cell_type": "code",
      "metadata": {
        "colab": {
          "base_uri": "https://localhost:8080/"
        },
        "id": "-iAXMZ_sI5gx",
        "outputId": "dfb60990-03f8-4966-bc63-cf723806f7bb"
      },
      "source": [
        "#Get the item-item recommender RMSE value\n",
        "item_rmse = item_sim_model.evaluate_rmse(test_data2,'ratings')\n",
        "item_rmse[\"rmse_overall\"]"
      ],
      "execution_count": 86,
      "outputs": [
        {
          "output_type": "execute_result",
          "data": {
            "text/plain": [
              "4.251383811071518"
            ]
          },
          "metadata": {
            "tags": []
          },
          "execution_count": 86
        }
      ]
    },
    {
      "cell_type": "markdown",
      "metadata": {
        "id": "z_-rJXvRJMRc"
      },
      "source": [
        "### Matrix factorization (turicreate)"
      ]
    },
    {
      "cell_type": "code",
      "metadata": {
        "colab": {
          "base_uri": "https://localhost:8080/",
          "height": 765
        },
        "id": "J8p5TV3lJDlN",
        "outputId": "9d76c254-c207-4950-93c5-ff852b875b8b"
      },
      "source": [
        "#Build a matrix based factorization model recommender system\n",
        "factorization_model = turicreate.factorization_recommender.create(train_data2, user_id='userId',\n",
        "                                                                  item_id='productId', target='ratings')"
      ],
      "execution_count": 87,
      "outputs": [
        {
          "output_type": "display_data",
          "data": {
            "text/html": [
              "<pre>Preparing data set.</pre>"
            ],
            "text/plain": [
              "Preparing data set."
            ]
          },
          "metadata": {
            "tags": []
          }
        },
        {
          "output_type": "display_data",
          "data": {
            "text/html": [
              "<pre>    Data has 13114 observations with 7792 users and 10128 items.</pre>"
            ],
            "text/plain": [
              "    Data has 13114 observations with 7792 users and 10128 items."
            ]
          },
          "metadata": {
            "tags": []
          }
        },
        {
          "output_type": "display_data",
          "data": {
            "text/html": [
              "<pre>    Data prepared in: 0.032147s</pre>"
            ],
            "text/plain": [
              "    Data prepared in: 0.032147s"
            ]
          },
          "metadata": {
            "tags": []
          }
        },
        {
          "output_type": "display_data",
          "data": {
            "text/html": [
              "<pre>Training factorization_recommender for recommendations.</pre>"
            ],
            "text/plain": [
              "Training factorization_recommender for recommendations."
            ]
          },
          "metadata": {
            "tags": []
          }
        },
        {
          "output_type": "display_data",
          "data": {
            "text/html": [
              "<pre>+--------------------------------+--------------------------------------------------+----------+</pre>"
            ],
            "text/plain": [
              "+--------------------------------+--------------------------------------------------+----------+"
            ]
          },
          "metadata": {
            "tags": []
          }
        },
        {
          "output_type": "display_data",
          "data": {
            "text/html": [
              "<pre>| Parameter                      | Description                                      | Value    |</pre>"
            ],
            "text/plain": [
              "| Parameter                      | Description                                      | Value    |"
            ]
          },
          "metadata": {
            "tags": []
          }
        },
        {
          "output_type": "display_data",
          "data": {
            "text/html": [
              "<pre>+--------------------------------+--------------------------------------------------+----------+</pre>"
            ],
            "text/plain": [
              "+--------------------------------+--------------------------------------------------+----------+"
            ]
          },
          "metadata": {
            "tags": []
          }
        },
        {
          "output_type": "display_data",
          "data": {
            "text/html": [
              "<pre>| num_factors                    | Factor Dimension                                 | 8        |</pre>"
            ],
            "text/plain": [
              "| num_factors                    | Factor Dimension                                 | 8        |"
            ]
          },
          "metadata": {
            "tags": []
          }
        },
        {
          "output_type": "display_data",
          "data": {
            "text/html": [
              "<pre>| regularization                 | L2 Regularization on Factors                     | 1e-08    |</pre>"
            ],
            "text/plain": [
              "| regularization                 | L2 Regularization on Factors                     | 1e-08    |"
            ]
          },
          "metadata": {
            "tags": []
          }
        },
        {
          "output_type": "display_data",
          "data": {
            "text/html": [
              "<pre>| solver                         | Solver used for training                         | sgd      |</pre>"
            ],
            "text/plain": [
              "| solver                         | Solver used for training                         | sgd      |"
            ]
          },
          "metadata": {
            "tags": []
          }
        },
        {
          "output_type": "display_data",
          "data": {
            "text/html": [
              "<pre>| linear_regularization          | L2 Regularization on Linear Coefficients         | 1e-10    |</pre>"
            ],
            "text/plain": [
              "| linear_regularization          | L2 Regularization on Linear Coefficients         | 1e-10    |"
            ]
          },
          "metadata": {
            "tags": []
          }
        },
        {
          "output_type": "display_data",
          "data": {
            "text/html": [
              "<pre>| max_iterations                 | Maximum Number of Iterations                     | 50       |</pre>"
            ],
            "text/plain": [
              "| max_iterations                 | Maximum Number of Iterations                     | 50       |"
            ]
          },
          "metadata": {
            "tags": []
          }
        },
        {
          "output_type": "display_data",
          "data": {
            "text/html": [
              "<pre>+--------------------------------+--------------------------------------------------+----------+</pre>"
            ],
            "text/plain": [
              "+--------------------------------+--------------------------------------------------+----------+"
            ]
          },
          "metadata": {
            "tags": []
          }
        },
        {
          "output_type": "display_data",
          "data": {
            "text/html": [
              "<pre>  Optimizing model using SGD; tuning step size.</pre>"
            ],
            "text/plain": [
              "  Optimizing model using SGD; tuning step size."
            ]
          },
          "metadata": {
            "tags": []
          }
        },
        {
          "output_type": "display_data",
          "data": {
            "text/html": [
              "<pre>  Using 10000 / 13114 points for tuning the step size.</pre>"
            ],
            "text/plain": [
              "  Using 10000 / 13114 points for tuning the step size."
            ]
          },
          "metadata": {
            "tags": []
          }
        },
        {
          "output_type": "display_data",
          "data": {
            "text/html": [
              "<pre>+---------+-------------------+------------------------------------------+</pre>"
            ],
            "text/plain": [
              "+---------+-------------------+------------------------------------------+"
            ]
          },
          "metadata": {
            "tags": []
          }
        },
        {
          "output_type": "display_data",
          "data": {
            "text/html": [
              "<pre>| Attempt | Initial Step Size | Estimated Objective Value                |</pre>"
            ],
            "text/plain": [
              "| Attempt | Initial Step Size | Estimated Objective Value                |"
            ]
          },
          "metadata": {
            "tags": []
          }
        },
        {
          "output_type": "display_data",
          "data": {
            "text/html": [
              "<pre>+---------+-------------------+------------------------------------------+</pre>"
            ],
            "text/plain": [
              "+---------+-------------------+------------------------------------------+"
            ]
          },
          "metadata": {
            "tags": []
          }
        },
        {
          "output_type": "display_data",
          "data": {
            "text/html": [
              "<pre>| 0       | 25                | Not Viable                               |</pre>"
            ],
            "text/plain": [
              "| 0       | 25                | Not Viable                               |"
            ]
          },
          "metadata": {
            "tags": []
          }
        },
        {
          "output_type": "display_data",
          "data": {
            "text/html": [
              "<pre>| 1       | 6.25              | Not Viable                               |</pre>"
            ],
            "text/plain": [
              "| 1       | 6.25              | Not Viable                               |"
            ]
          },
          "metadata": {
            "tags": []
          }
        },
        {
          "output_type": "display_data",
          "data": {
            "text/html": [
              "<pre>| 2       | 1.5625            | No Decrease (9.31482 >= 1.90778)         |</pre>"
            ],
            "text/plain": [
              "| 2       | 1.5625            | No Decrease (9.31482 >= 1.90778)         |"
            ]
          },
          "metadata": {
            "tags": []
          }
        },
        {
          "output_type": "display_data",
          "data": {
            "text/html": [
              "<pre>| 3       | 0.390625          | 0.0447513                                |</pre>"
            ],
            "text/plain": [
              "| 3       | 0.390625          | 0.0447513                                |"
            ]
          },
          "metadata": {
            "tags": []
          }
        },
        {
          "output_type": "display_data",
          "data": {
            "text/html": [
              "<pre>| 4       | 0.195312          | 0.102946                                 |</pre>"
            ],
            "text/plain": [
              "| 4       | 0.195312          | 0.102946                                 |"
            ]
          },
          "metadata": {
            "tags": []
          }
        },
        {
          "output_type": "display_data",
          "data": {
            "text/html": [
              "<pre>+---------+-------------------+------------------------------------------+</pre>"
            ],
            "text/plain": [
              "+---------+-------------------+------------------------------------------+"
            ]
          },
          "metadata": {
            "tags": []
          }
        },
        {
          "output_type": "display_data",
          "data": {
            "text/html": [
              "<pre>| Final   | 0.390625          | 0.0447513                                |</pre>"
            ],
            "text/plain": [
              "| Final   | 0.390625          | 0.0447513                                |"
            ]
          },
          "metadata": {
            "tags": []
          }
        },
        {
          "output_type": "display_data",
          "data": {
            "text/html": [
              "<pre>+---------+-------------------+------------------------------------------+</pre>"
            ],
            "text/plain": [
              "+---------+-------------------+------------------------------------------+"
            ]
          },
          "metadata": {
            "tags": []
          }
        },
        {
          "output_type": "display_data",
          "data": {
            "text/html": [
              "<pre>Starting Optimization.</pre>"
            ],
            "text/plain": [
              "Starting Optimization."
            ]
          },
          "metadata": {
            "tags": []
          }
        },
        {
          "output_type": "display_data",
          "data": {
            "text/html": [
              "<pre>+---------+--------------+-------------------+-----------------------+-------------+</pre>"
            ],
            "text/plain": [
              "+---------+--------------+-------------------+-----------------------+-------------+"
            ]
          },
          "metadata": {
            "tags": []
          }
        },
        {
          "output_type": "display_data",
          "data": {
            "text/html": [
              "<pre>| Iter.   | Elapsed Time | Approx. Objective | Approx. Training RMSE | Step Size   |</pre>"
            ],
            "text/plain": [
              "| Iter.   | Elapsed Time | Approx. Objective | Approx. Training RMSE | Step Size   |"
            ]
          },
          "metadata": {
            "tags": []
          }
        },
        {
          "output_type": "display_data",
          "data": {
            "text/html": [
              "<pre>+---------+--------------+-------------------+-----------------------+-------------+</pre>"
            ],
            "text/plain": [
              "+---------+--------------+-------------------+-----------------------+-------------+"
            ]
          },
          "metadata": {
            "tags": []
          }
        },
        {
          "output_type": "display_data",
          "data": {
            "text/html": [
              "<pre>| Initial | 121us        | 1.89896           | 1.37803               |             |</pre>"
            ],
            "text/plain": [
              "| Initial | 121us        | 1.89896           | 1.37803               |             |"
            ]
          },
          "metadata": {
            "tags": []
          }
        },
        {
          "output_type": "display_data",
          "data": {
            "text/html": [
              "<pre>+---------+--------------+-------------------+-----------------------+-------------+</pre>"
            ],
            "text/plain": [
              "+---------+--------------+-------------------+-----------------------+-------------+"
            ]
          },
          "metadata": {
            "tags": []
          }
        },
        {
          "output_type": "display_data",
          "data": {
            "text/html": [
              "<pre>| 1       | 25.868ms     | 2.04539           | 1.43014               | 0.390625    |</pre>"
            ],
            "text/plain": [
              "| 1       | 25.868ms     | 2.04539           | 1.43014               | 0.390625    |"
            ]
          },
          "metadata": {
            "tags": []
          }
        },
        {
          "output_type": "display_data",
          "data": {
            "text/html": [
              "<pre>| 2       | 48.839ms     | 0.646759          | 0.804191              | 0.232267    |</pre>"
            ],
            "text/plain": [
              "| 2       | 48.839ms     | 0.646759          | 0.804191              | 0.232267    |"
            ]
          },
          "metadata": {
            "tags": []
          }
        },
        {
          "output_type": "display_data",
          "data": {
            "text/html": [
              "<pre>| 3       | 65.837ms     | 0.223924          | 0.473193              | 0.171364    |</pre>"
            ],
            "text/plain": [
              "| 3       | 65.837ms     | 0.223924          | 0.473193              | 0.171364    |"
            ]
          },
          "metadata": {
            "tags": []
          }
        },
        {
          "output_type": "display_data",
          "data": {
            "text/html": [
              "<pre>| 4       | 88.323ms     | 0.127786          | 0.357466              | 0.116134    |</pre>"
            ],
            "text/plain": [
              "| 4       | 88.323ms     | 0.127786          | 0.357466              | 0.116134    |"
            ]
          },
          "metadata": {
            "tags": []
          }
        },
        {
          "output_type": "display_data",
          "data": {
            "text/html": [
              "<pre>| 5       | 97.538ms     | 0.0959603         | 0.309772              | 0.098237    |</pre>"
            ],
            "text/plain": [
              "| 5       | 97.538ms     | 0.0959603         | 0.309772              | 0.098237    |"
            ]
          },
          "metadata": {
            "tags": []
          }
        },
        {
          "output_type": "display_data",
          "data": {
            "text/html": [
              "<pre>| 10      | 157.055ms    | 0.0481838         | 0.219504              | 0.0584121   |</pre>"
            ],
            "text/plain": [
              "| 10      | 157.055ms    | 0.0481838         | 0.219504              | 0.0584121   |"
            ]
          },
          "metadata": {
            "tags": []
          }
        },
        {
          "output_type": "display_data",
          "data": {
            "text/html": [
              "<pre>| 50      | 694.113ms    | 0.00579229        | 0.0760759             | 0.0174693   |</pre>"
            ],
            "text/plain": [
              "| 50      | 694.113ms    | 0.00579229        | 0.0760759             | 0.0174693   |"
            ]
          },
          "metadata": {
            "tags": []
          }
        },
        {
          "output_type": "display_data",
          "data": {
            "text/html": [
              "<pre>+---------+--------------+-------------------+-----------------------+-------------+</pre>"
            ],
            "text/plain": [
              "+---------+--------------+-------------------+-----------------------+-------------+"
            ]
          },
          "metadata": {
            "tags": []
          }
        },
        {
          "output_type": "display_data",
          "data": {
            "text/html": [
              "<pre>Optimization Complete: Maximum number of passes through the data reached.</pre>"
            ],
            "text/plain": [
              "Optimization Complete: Maximum number of passes through the data reached."
            ]
          },
          "metadata": {
            "tags": []
          }
        },
        {
          "output_type": "display_data",
          "data": {
            "text/html": [
              "<pre>Computing final objective value and training RMSE.</pre>"
            ],
            "text/plain": [
              "Computing final objective value and training RMSE."
            ]
          },
          "metadata": {
            "tags": []
          }
        },
        {
          "output_type": "display_data",
          "data": {
            "text/html": [
              "<pre>       Final objective value: 0.00529726</pre>"
            ],
            "text/plain": [
              "       Final objective value: 0.00529726"
            ]
          },
          "metadata": {
            "tags": []
          }
        },
        {
          "output_type": "display_data",
          "data": {
            "text/html": [
              "<pre>       Final training RMSE: 0.0727496</pre>"
            ],
            "text/plain": [
              "       Final training RMSE: 0.0727496"
            ]
          },
          "metadata": {
            "tags": []
          }
        }
      ]
    },
    {
      "cell_type": "code",
      "metadata": {
        "colab": {
          "base_uri": "https://localhost:8080/"
        },
        "id": "yaNIZ8m6JVNT",
        "outputId": "66b9af14-f5a9-40ba-cc01-047662956f66"
      },
      "source": [
        "fcm_rmse2 = factorization_model.evaluate_rmse(test_data2,'ratings')\n",
        "fcm_rmse2[\"rmse_overall\"]"
      ],
      "execution_count": 88,
      "outputs": [
        {
          "output_type": "execute_result",
          "data": {
            "text/plain": [
              "1.4396566055812465"
            ]
          },
          "metadata": {
            "tags": []
          },
          "execution_count": 88
        }
      ]
    },
    {
      "cell_type": "markdown",
      "metadata": {
        "id": "PAj4f6FzK2h2"
      },
      "source": [
        "### Multiple models (surprise library)"
      ]
    },
    {
      "cell_type": "code",
      "metadata": {
        "colab": {
          "base_uri": "https://localhost:8080/"
        },
        "id": "1u3yFxtQJVjq",
        "outputId": "7742e15f-d39b-41ba-bead-30a94166b2d6"
      },
      "source": [
        "rts_gp = electronics_df.groupby(by=['ratings']).agg({'userId': 'count'}).reset_index()\n",
        "rts_gp.columns = ['ratings', 'Count']\n",
        "\n",
        "#Subsetting the data to keep products having at least x=1 ratings\n",
        "prod_ge=electronics_df.groupby(\"productId\").filter(lambda x:x['ratings'].count() >= 2)\n",
        "#Subsetting the data to keep users who have given at least y=1 ratings\n",
        "user_ge=electronics_df.groupby(\"userId\").filter(lambda x:x['ratings'].count() >= 2)\n",
        "user_ge.drop(['ratings'],inplace=True,axis=1)\n",
        "user_prod_ge = pd.merge(prod_ge,user_ge)\n",
        "user_prod_ge.shape"
      ],
      "execution_count": 8,
      "outputs": [
        {
          "output_type": "execute_result",
          "data": {
            "text/plain": [
              "(5004, 3)"
            ]
          },
          "metadata": {
            "tags": []
          },
          "execution_count": 8
        }
      ]
    },
    {
      "cell_type": "markdown",
      "metadata": {
        "id": "kG0Yst-XKOL8"
      },
      "source": [
        "> Tip: As we already sampled the data, so filtering by min. rating count of 2 here, but if you are not using sampling, feel free to raise this x,y bar to 5 or maybe 25."
      ]
    },
    {
      "cell_type": "code",
      "metadata": {
        "id": "gjJeSaA7J1IZ"
      },
      "source": [
        "# Set Rating Scale from 1 to 5\n",
        "#We are running basic algorithms to check which one works best\n",
        "reader = Reader(rating_scale=(1, 5))\n",
        "\n",
        "# Load data with rating scale\n",
        "#data = Dataset.load_from_df(new_df, reader)\n",
        "data = Dataset.load_from_df(user_prod_ge,reader)"
      ],
      "execution_count": 9,
      "outputs": []
    },
    {
      "cell_type": "code",
      "metadata": {
        "colab": {
          "base_uri": "https://localhost:8080/"
        },
        "id": "D3vzPXiMML4o",
        "outputId": "64e3d80c-8f98-4a13-df2a-6f34323e7590"
      },
      "source": [
        "knnbasic_cv = cross_validate(KNNBasic(), data, cv=5, n_jobs=5, verbose=True)\n",
        "knnmeans_cv = cross_validate(KNNWithMeans(), data, cv=5, n_jobs=5, verbose=True)\n",
        "knnz_cv = cross_validate(KNNWithZScore(), data, cv=5, n_jobs=5, verbose=True)\n",
        "svd_cv = cross_validate(SVD(), data, cv=5, n_jobs=5, verbose=True)\n",
        "svdpp_cv = cross_validate(SVDpp(), data, cv=5, n_jobs=5, verbose=True)\n",
        "nmf_cv = cross_validate(NMF(), data, cv=5, n_jobs=5, verbose=True)\n",
        "slope_cv = cross_validate(SlopeOne(), data, cv=5, n_jobs=5, verbose=True)\n",
        "coclus_cv = cross_validate(CoClustering(), data, cv=5, n_jobs=5, verbose=True)"
      ],
      "execution_count": 12,
      "outputs": [
        {
          "output_type": "stream",
          "text": [
            "Evaluating RMSE, MAE of algorithm KNNBasic on 5 split(s).\n",
            "\n",
            "                  Fold 1  Fold 2  Fold 3  Fold 4  Fold 5  Mean    Std     \n",
            "RMSE (testset)    1.2445  1.3450  1.2181  1.2793  1.2899  1.2753  0.0431  \n",
            "MAE (testset)     0.9743  1.0447  0.9636  1.0100  1.0035  0.9992  0.0286  \n",
            "Fit time          0.18    0.18    0.20    0.18    0.12    0.17    0.02    \n",
            "Test time         0.02    0.02    0.02    0.02    0.01    0.02    0.00    \n",
            "Evaluating RMSE, MAE of algorithm KNNWithMeans on 5 split(s).\n",
            "\n",
            "                  Fold 1  Fold 2  Fold 3  Fold 4  Fold 5  Mean    Std     \n",
            "RMSE (testset)    1.4178  1.4257  1.3291  1.3990  1.3123  1.3768  0.0469  \n",
            "MAE (testset)     1.0116  1.0009  0.9381  1.0074  0.9205  0.9757  0.0384  \n",
            "Fit time          0.24    0.25    0.21    0.22    0.13    0.21    0.04    \n",
            "Test time         0.02    0.03    0.02    0.02    0.01    0.02    0.01    \n",
            "Evaluating RMSE, MAE of algorithm KNNWithZScore on 5 split(s).\n",
            "\n",
            "                  Fold 1  Fold 2  Fold 3  Fold 4  Fold 5  Mean    Std     \n",
            "RMSE (testset)    1.3349  1.4084  1.3616  1.3837  1.3517  1.3681  0.0256  \n",
            "MAE (testset)     0.9495  0.9997  0.9579  0.9773  0.9710  0.9711  0.0173  \n",
            "Fit time          0.39    0.52    0.39    0.31    0.22    0.37    0.10    \n",
            "Test time         0.02    0.03    0.02    0.02    0.01    0.02    0.01    \n",
            "Evaluating RMSE, MAE of algorithm SVD on 5 split(s).\n",
            "\n",
            "                  Fold 1  Fold 2  Fold 3  Fold 4  Fold 5  Mean    Std     \n",
            "RMSE (testset)    1.2369  1.2753  1.2398  1.2657  1.2251  1.2486  0.0188  \n",
            "MAE (testset)     0.9565  0.9883  0.9665  0.9812  0.9641  0.9713  0.0117  \n",
            "Fit time          0.47    0.69    0.61    0.54    0.37    0.54    0.11    \n",
            "Test time         0.01    0.03    0.01    0.01    0.01    0.01    0.01    \n",
            "Evaluating RMSE, MAE of algorithm SVDpp on 5 split(s).\n",
            "\n",
            "                  Fold 1  Fold 2  Fold 3  Fold 4  Fold 5  Mean    Std     \n",
            "RMSE (testset)    1.2031  1.2380  1.2530  1.2589  1.2569  1.2420  0.0208  \n",
            "MAE (testset)     0.9471  0.9542  0.9711  0.9604  0.9697  0.9605  0.0091  \n",
            "Fit time          2.19    2.20    2.45    2.19    1.46    2.10    0.33    \n",
            "Test time         0.05    0.03    0.03    0.03    0.01    0.03    0.01    \n",
            "Evaluating RMSE, MAE of algorithm NMF on 5 split(s).\n",
            "\n",
            "                  Fold 1  Fold 2  Fold 3  Fold 4  Fold 5  Mean    Std     \n",
            "RMSE (testset)    1.5416  1.5939  1.5361  1.5417  1.4796  1.5386  0.0362  \n",
            "MAE (testset)     1.2195  1.2780  1.2254  1.2350  1.1923  1.2300  0.0279  \n",
            "Fit time          1.94    1.97    2.13    1.75    1.33    1.82    0.27    \n",
            "Test time         0.02    0.03    0.01    0.03    0.01    0.02    0.01    \n",
            "Evaluating RMSE, MAE of algorithm SlopeOne on 5 split(s).\n",
            "\n",
            "                  Fold 1  Fold 2  Fold 3  Fold 4  Fold 5  Mean    Std     \n",
            "RMSE (testset)    1.3682  1.3891  1.3756  1.3477  1.3939  1.3749  0.0164  \n",
            "MAE (testset)     0.9651  1.0060  0.9826  0.9419  0.9922  0.9775  0.0223  \n",
            "Fit time          0.18    0.17    0.18    0.19    0.12    0.17    0.03    \n",
            "Test time         0.01    0.01    0.01    0.02    0.01    0.01    0.00    \n",
            "Evaluating RMSE, MAE of algorithm CoClustering on 5 split(s).\n",
            "\n",
            "                  Fold 1  Fold 2  Fold 3  Fold 4  Fold 5  Mean    Std     \n",
            "RMSE (testset)    1.4716  1.3997  1.4739  1.4283  1.4382  1.4423  0.0279  \n",
            "MAE (testset)     1.0570  1.0046  1.0649  1.0116  1.0251  1.0326  0.0241  \n",
            "Fit time          1.17    1.51    1.58    1.26    0.72    1.25    0.31    \n",
            "Test time         0.03    0.03    0.02    0.01    0.01    0.02    0.01    \n"
          ],
          "name": "stdout"
        }
      ]
    },
    {
      "cell_type": "code",
      "metadata": {
        "colab": {
          "base_uri": "https://localhost:8080/"
        },
        "id": "Xso3cLSELBBX",
        "outputId": "927ca51a-76d0-4563-f128-8f03eae38096"
      },
      "source": [
        "print('Algorithm\\t RMSE\\t\\t MAE')\n",
        "print()\n",
        "print('KNN Basic', '\\t', round(knnbasic_cv['test_rmse'].mean(), 4), '\\t', round(knnbasic_cv['test_mae'].mean(), 4))\n",
        "print('KNN Means', '\\t', round(knnmeans_cv['test_rmse'].mean(), 4), '\\t', round(knnmeans_cv['test_mae'].mean(), 4))\n",
        "print('KNN ZScore', '\\t', round(knnz_cv['test_rmse'].mean(), 4), '\\t', round(knnz_cv['test_mae'].mean(), 4))\n",
        "print()\n",
        "print('SVD', '\\t\\t', round(svd_cv['test_rmse'].mean(), 4), '\\t', round(svd_cv['test_mae'].mean(), 4))\n",
        "print('SVDpp', '\\t\\t', round(svdpp_cv['test_rmse'].mean(), 4), '\\t', round(svdpp_cv['test_mae'].mean(), 4))\n",
        "print('NMF', '\\t\\t', round(nmf_cv['test_rmse'].mean(), 4), '\\t', round(nmf_cv['test_mae'].mean(), 4))\n",
        "print()\n",
        "print('SlopeOne', '\\t', round(slope_cv['test_rmse'].mean(), 4), '\\t', round(slope_cv['test_mae'].mean(), 4))\n",
        "print('CoClustering', '\\t', round(coclus_cv['test_rmse'].mean(), 4), '\\t', round(coclus_cv['test_mae'].mean(), 4))\n",
        "print()"
      ],
      "execution_count": 13,
      "outputs": [
        {
          "output_type": "stream",
          "text": [
            "Algorithm\t RMSE\t\t MAE\n",
            "\n",
            "KNN Basic \t 1.2753 \t 0.9992\n",
            "KNN Means \t 1.3768 \t 0.9757\n",
            "KNN ZScore \t 1.3681 \t 0.9711\n",
            "\n",
            "SVD \t\t 1.2486 \t 0.9713\n",
            "SVDpp \t\t 1.242 \t 0.9605\n",
            "NMF \t\t 1.5386 \t 1.23\n",
            "\n",
            "SlopeOne \t 1.3749 \t 0.9775\n",
            "CoClustering \t 1.4423 \t 1.0326\n",
            "\n"
          ],
          "name": "stdout"
        }
      ]
    },
    {
      "cell_type": "code",
      "metadata": {
        "colab": {
          "base_uri": "https://localhost:8080/",
          "height": 287
        },
        "id": "kYTCMgdQLFdw",
        "outputId": "008f72a6-531c-4746-e3b3-fd0dce68f5c8"
      },
      "source": [
        "x_algo = ['KNN Basic', 'KNN Means', 'KNN ZScore', 'SVD', 'SVDpp', 'NMF', 'SlopeOne', 'CoClustering']\n",
        "all_algos_cv = [knnbasic_cv, knnmeans_cv, knnz_cv, svd_cv, svdpp_cv, nmf_cv, slope_cv, coclus_cv]\n",
        "\n",
        "rmse_cv = [round(res['test_rmse'].mean(), 4) for res in all_algos_cv]\n",
        "mae_cv = [round(res['test_mae'].mean(), 4) for res in all_algos_cv]\n",
        "\n",
        "plt.figure(figsize=(20,5))\n",
        "\n",
        "plt.subplot(1, 2, 1)\n",
        "plt.title('Comparison of Algorithms on RMSE', loc='center', fontsize=15)\n",
        "plt.plot(x_algo, rmse_cv, label='RMSE', color='darkgreen', marker='o')\n",
        "plt.xlabel('Algorithms', fontsize=15)\n",
        "plt.ylabel('RMSE Value', fontsize=15)\n",
        "plt.legend()\n",
        "plt.grid(ls='dashed')\n",
        "\n",
        "plt.subplot(1, 2, 2)\n",
        "plt.title('Comparison of Algorithms on MAE', loc='center', fontsize=15)\n",
        "plt.plot(x_algo, mae_cv, label='MAE', color='navy', marker='o')\n",
        "plt.xlabel('Algorithms', fontsize=15)\n",
        "plt.ylabel('MAE Value', fontsize=15)\n",
        "plt.legend()\n",
        "plt.grid(ls='dashed')\n",
        "\n",
        "plt.show()"
      ],
      "execution_count": 14,
      "outputs": [
        {
          "output_type": "display_data",
          "data": {
            "image/png": "[encoded data removed]",
            "text/plain": [
              "<Figure size 1440x360 with 2 Axes>"
            ]
          },
          "metadata": {
            "tags": [],
            "needs_background": "light"
          }
        }
      ]
    },
    {
      "cell_type": "markdown",
      "metadata": {
        "id": "x583EFjEMsNb"
      },
      "source": [
        "## Hyperparameter tuning\n",
        "Grid Searching on SVD and SVDPP algorithms"
      ]
    },
    {
      "cell_type": "code",
      "metadata": {
        "id": "7_H_NncdMeb8"
      },
      "source": [
        "raw_ratings = data.raw_ratings                         \n",
        "# 90% trainset, 10% testset                                                \n",
        "threshold = int(.9 * len(raw_ratings))                                     \n",
        "trainset_raw_ratings = raw_ratings[:threshold]                             \n",
        "test_raw_ratings = raw_ratings[threshold:]             \n",
        "data.raw_ratings = trainset_raw_ratings        "
      ],
      "execution_count": 15,
      "outputs": []
    },
    {
      "cell_type": "code",
      "metadata": {
        "colab": {
          "base_uri": "https://localhost:8080/"
        },
        "id": "8Cf06sJIM4OF",
        "outputId": "9fb7f24b-5bff-48c4-bed1-b78a84a2a02e"
      },
      "source": [
        "# Parameter space\n",
        "svd_param_grid = {'n_epochs': [20, 25], \n",
        "                  'lr_all': [0.007, 0.009, 0.01],\n",
        "                  'reg_all': [0.4, 0.6]}\n",
        "\n",
        "svdpp_gs = GridSearchCV(SVDpp, svd_param_grid, measures=['rmse', 'mae'], cv=5, n_jobs=5)\n",
        "svdpp_gs.fit(data)\n",
        "algo_svdpp = svdpp_gs.best_estimator['rmse']   \n",
        "\n",
        "# retrain on the whole train set                      \n",
        "trainset = data.build_full_trainset()                 \n",
        "algo_svdpp.fit(trainset)\n",
        "\n",
        "# now test on the trainset                                                 \n",
        "testset = data.construct_testset(trainset_raw_ratings)                     \n",
        "predictions_train = algo_svdpp.test(testset)                                           \n",
        "print('Accuracy on the trainset:')                                         \n",
        "accuracy.rmse(predictions_train)                                                 \n",
        "\n",
        "# now test on the testset                                                  \n",
        "testset = data.construct_testset(test_raw_ratings)                         \n",
        "pred_svdpp=algo_svdpp.test(testset)\n",
        "print('Accuracy on the testset:')                                          \n",
        "accuracy.rmse(pred_svdpp)  \n",
        "\n",
        "\n",
        "svd_gs = GridSearchCV(SVD, svd_param_grid, measures=['rmse', 'mae'], cv=5, n_jobs=5)\n",
        "svd_gs.fit(data)\n",
        "algo_svd = svd_gs.best_estimator['rmse']    \n",
        "# retrain on the whole train set                      \n",
        "trainset = data.build_full_trainset()                  \n",
        "algo_svd.fit(trainset)\n",
        "# now test on the trainset                                                 \n",
        "testset = data.construct_testset(trainset_raw_ratings)                     \n",
        "predictions_train = algo_svd.test(testset)                                           \n",
        "print('Accuracy on the trainset:')                                         \n",
        "accuracy.rmse(predictions_train)                                                 \n",
        "\n",
        "# now test on the testset                                                  \n",
        "testset = data.construct_testset(test_raw_ratings)                         \n",
        "pred_svd=algo_svd.test(testset)\n",
        "print('Accuracy on the testset:')                                          \n",
        "accuracy.rmse(pred_svd) "
      ],
      "execution_count": 16,
      "outputs": [
        {
          "output_type": "stream",
          "text": [
            "Accuracy on the trainset:\n",
            "RMSE: 0.8932\n",
            "Accuracy on the testset:\n",
            "RMSE: 1.1711\n",
            "Accuracy on the trainset:\n",
            "RMSE: 0.7898\n",
            "Accuracy on the testset:\n",
            "RMSE: 1.1721\n"
          ],
          "name": "stdout"
        },
        {
          "output_type": "execute_result",
          "data": {
            "text/plain": [
              "1.1720522705869012"
            ]
          },
          "metadata": {
            "tags": []
          },
          "execution_count": 16
        }
      ]
    },
    {
      "cell_type": "code",
      "metadata": {
        "colab": {
          "base_uri": "https://localhost:8080/"
        },
        "id": "L2fkUf3AM9Xb",
        "outputId": "03a86e10-bfa2-4c5d-9b95-dfe492e927c5"
      },
      "source": [
        "print('SVDpp - RMSE:', round(svdpp_gs.best_score['rmse'], 4), '; MAE:', round(svdpp_gs.best_score['mae'], 4))\n",
        "print('SVD   - RMSE:', round(svd_gs.best_score['rmse'], 4), '; MAE:', round(svd_gs.best_score['mae'], 4))\n",
        "print('RMSE =', svdpp_gs.best_params['rmse'])\n",
        "print('MAE =', svdpp_gs.best_params['mae'])\n",
        "print('RMSE =', svd_gs.best_params['rmse'])\n",
        "print('MAE =', svd_gs.best_params['mae'])"
      ],
      "execution_count": 17,
      "outputs": [
        {
          "output_type": "stream",
          "text": [
            "SVDpp - RMSE: 1.2523 ; MAE: 0.9687\n",
            "SVD   - RMSE: 1.2556 ; MAE: 0.9724\n",
            "RMSE = {'n_epochs': 20, 'lr_all': 0.009, 'reg_all': 0.6}\n",
            "MAE = {'n_epochs': 25, 'lr_all': 0.01, 'reg_all': 0.4}\n",
            "RMSE = {'n_epochs': 25, 'lr_all': 0.007, 'reg_all': 0.6}\n",
            "MAE = {'n_epochs': 25, 'lr_all': 0.01, 'reg_all': 0.4}\n"
          ],
          "name": "stdout"
        }
      ]
    },
    {
      "cell_type": "code",
      "metadata": {
        "id": "qotSUqw7NQhu"
      },
      "source": [
        "def get_top_n_recommendations(reccomemndations, n=5):\n",
        "    # First map the reccommendations to each user.\n",
        "    top_n = defaultdict(list)\n",
        "    for uid, iid, true_r, est, _ in reccomemndations:\n",
        "        inverselabel_iid = le_prodid.inverse_transform([iid])[0]\n",
        "        inverselabel_uid = le_userid.inverse_transform([uid])[0]\n",
        "        top_n[inverselabel_uid].append((inverselabel_iid, est))\n",
        "\n",
        "    #sort predictions for each user and retrieve the k highest ones.\n",
        "    for uid, user_ratings in top_n.items():\n",
        "        user_ratings.sort(key=lambda x: x[1], reverse=True)\n",
        "        top_n[uid] = user_ratings[:n]\n",
        "\n",
        "    return top_n"
      ],
      "execution_count": 24,
      "outputs": []
    },
    {
      "cell_type": "code",
      "metadata": {
        "colab": {
          "base_uri": "https://localhost:8080/"
        },
        "id": "7ljTg--YNS-n",
        "outputId": "e6ff053c-ae30-4530-87bb-388eb3433913"
      },
      "source": [
        "#collapse-output\n",
        "top_5 = get_top_n_recommendations(pred_svd, n=5)\n",
        "for uid, user_ratings in top_5.items():\n",
        "    print(uid, [iid for (iid, _) in user_ratings])"
      ],
      "execution_count": 25,
      "outputs": [
        {
          "output_type": "stream",
          "text": [
            "A2T2NQ0XMM1NMS ['B00AANMVNQ']\n",
            "A157WY31PWYF97 ['B00AB7QZMY']\n",
            "ACDJ7VVN4C5L8 ['B00ACVI202']\n",
            "A1I80FTQCLYOOP ['B00AEP8TG8']\n",
            "A60WZCOIUL2E6 ['B00AGA6FLC', 'B00GQTQJZ4']\n",
            "A3O5LIK26YLY5G ['B00AGA6FLC']\n",
            "A1SMMP9QQRPNI9 ['B00AGA6FLC']\n",
            "A5JHK0A5DEZXF ['B00AGABISW']\n",
            "ALYIYCV6QZG11 ['B00AGABISW']\n",
            "ASWX8ZPQTPHFR ['B00AGH81M6']\n",
            "A1Y95ZNQLGF53R ['B00AGOSQI8']\n",
            "A13II4ZI571PSB ['B00AHBKW2S']\n",
            "A3DYLR5H37T5XQ ['B00AHBKW2S']\n",
            "A3KJQIEAFJ9I5J ['B00AHBKW2S']\n",
            "A2JJ4T65XOZ86M ['B00AHPSTJW']\n",
            "A1ATTNW67B3IE2 ['B00AI3RRAA']\n",
            "A1PUBCPEMWZV2S ['B00AI3RRAA']\n",
            "A18SICYL1GJC11 ['B00AIQEU5C']\n",
            "AA9CC2HCF2IA8 ['B00AIRUOI8', 'B00BFNJ2NW']\n",
            "A1EUKXIQ3F0P2P ['B00AIRUOI8']\n",
            "AI0OSZHLIXAN6 ['B00AJHDZSI']\n",
            "A2X117IF5LX1B5 ['B00AJHDZSI']\n",
            "A2J0QEOGHVHXTC ['B00AJHDZSI']\n",
            "A3QR9801FLODXI ['B00AJHDZSI', 'B00B46XUQU']\n",
            "A2U6ATA01EYIBK ['B00AJHDZSI', 'B00F0DD0I6']\n",
            "A2WE3YFGKRAP3K ['B00AL950GO']\n",
            "AXOFS9DDU0E0A ['B00ANDHBNS']\n",
            "A29E3ENX3ALT1L ['B00ANDHBNS']\n",
            "AMEX3N4SCZENF ['B00AO1XFM0']\n",
            "A1WML7XCNIB968 ['B00AO1XFM0', 'B00CMQTVK0']\n",
            "A2FUB31VF55UZ3 ['B00AO1XFM0']\n",
            "A3DC5FJB5PKZRH ['B00AOHXT9I']\n",
            "A1E60U5W1QF6AF ['B00AOHXT9I']\n",
            "A3V7D0LH8L7BG0 ['B00AQRUW4Q', 'B00AQUO5RI', 'B00BOHNYTW', 'B00BOHNYU6', 'B00CIRLJPI']\n",
            "A3ORI0LFEG0YXA ['B00AQRUW4Q']\n",
            "A24QQ039GVN0Q3 ['B00AQRUW4Q']\n",
            "A3M7BCQKSQAK4L ['B00AQUO5RI', 'B00D1GYNT4', 'B00DIOALPE', 'B00E055H5O', 'B00E0EY7Z6']\n",
            "AI5RPO9Z3XK23 ['B00AR0M7ZE']\n",
            "A27REQYON6ICE0 ['B00AR1JYN6']\n",
            "A12PW8M88GGUWQ ['B00ASLSQHK']\n",
            "A104JKWQNSORE9 ['B00ATE7VJU']\n",
            "A38VV6G0KFP0X5 ['B00ATE7VJU']\n",
            "A2N7LX78UZ4IXU ['B00ATE7W7G']\n",
            "A3PS24ZC3OQ4A2 ['B00ATQF0DC']\n",
            "ANXIDFZ680UIN ['B00ATQF0DC']\n",
            "A3MEWNFPRBECZB ['B00ATQF0DC']\n",
            "AIQQ354PKMILC ['B00AVWKUXE']\n",
            "A3Q4SFWKXL69ZW ['B00AWKC0EC']\n",
            "A3RCGS8SVT0LR9 ['B00AWKC0EC']\n",
            "A1G6VNIEFRB8K4 ['B00AWKC0EC']\n",
            "AU9ZRQLTFTFYC ['B00AWKC0JM']\n",
            "A3UQ3VFWZVUPO0 ['B00AWKC0JM']\n",
            "A7S3GCHUAOYFY ['B00AWKC0JM']\n",
            "ARUEQTYTXDPQA ['B00AWKC0JM']\n",
            "A1CD6QPNYD07Z5 ['B00AWYMXZY']\n",
            "A3FT2IAFYYK4QN ['B00AWYMXZY']\n",
            "A2SDDM1UJ5XRDF ['B00AWYN0BU']\n",
            "A3TD6IU5BEQRKS ['B00AWYN0BU', 'B00BEW8MVC']\n",
            "A2BL8WM2CQTT3D ['B00AXX0I88', 'B00CRB9CK4']\n",
            "A3VXK6GGRCCYIE ['B00AXX0I88']\n",
            "A1O0H5VWF2LAX9 ['B00AXZWG8Q']\n",
            "A26JR41TW02Q4J ['B00AXZWG8Q']\n",
            "A2KUUKFCI793IC ['B00AXZWG8Q']\n",
            "A1T586SMREKHIL ['B00AYB9PUQ']\n",
            "A3PZVSLRVLSJSZ ['B00AZHCK60']\n",
            "A28K8WHJUQHV7T ['B00B0O1BWG', 'B00BGGDVOO']\n",
            "A30WOIIAAZN63B ['B00B0O1BWG']\n",
            "A3VUXRCZ8DUS7G ['B00B0TMWTW']\n",
            "AXVU2G6P16KV2 ['B00B353NI2']\n",
            "A3QX0ERX4D03TF ['B00B46XUQU', 'B00GTGETFG', 'B00I2ZBD1U']\n",
            "A2V2ZHP2WM94QI ['B00B46XUQU']\n",
            "A2H4QVYWQZ1IEC ['B00B46XUQU']\n",
            "A12W30W23UU5K ['B00B46XUQU', 'B00E44B18I']\n",
            "A2X7OKLPG4UCM1 ['B00B46XUQU']\n",
            "A1XP5GMAIXJ10A ['B00B46XUQU']\n",
            "A15OZW3F127G93 ['B00B46XUQU']\n",
            "A3KI4HY241SQ57 ['B00B46XUQU']\n",
            "A3LQZ10UCK38YX ['B00B46XUQU']\n",
            "A28XFTYMEABSRM ['B00B46XUQU']\n",
            "A30Q9QR4RWMQQ1 ['B00B46XUQU']\n",
            "A1T1VVKPIUC2C8 ['B00B4GGW5Q']\n",
            "A28WH3DFSFZCLA ['B00B4GGW5Q', 'B00FEE7B1I', 'B00GPH6T8E']\n",
            "A6QQZ63V584F2 ['B00B4PJC9K']\n",
            "A16J9WSMJDHNJR ['B00B4PJC9K']\n",
            "AUDGQCEMN9Y0P ['B00B4W34T2']\n",
            "A3KT8PUHI4SB3M ['B00B4W34T2']\n",
            "AQJ82EUGP36J0 ['B00B588HY2', 'B00EMKPKUE']\n",
            "A2G8VARXHEDZUM ['B00B588HY2']\n",
            "A215IN14OKAE2T ['B00B588HY2', 'B00BQ5KHJW']\n",
            "A3M44WS8QD7J0X ['B00B588HY2']\n",
            "AKZC8DSI56LXN ['B00B588I2I']\n",
            "A2XB100T8R5ZDM ['B00B588I2I']\n",
            "A2C44FXPL01S29 ['B00B7E1D7W']\n",
            "AVBI9AN3O29TC ['B00B7E1D7W']\n",
            "A1XNZ3I8D4T3YS ['B00B7N997O']\n",
            "A1J7682OY0JPPM ['B00B7N997O']\n",
            "A39UIV3PX5NFTW ['B00B7N997O']\n",
            "A5F49H2K0O3P7 ['B00B7N997O']\n",
            "A3NMQ2BQDZSQEF ['B00B7N9CWG']\n",
            "A1D116EPHZIMAC ['B00B7TBX36']\n",
            "A1VKO1PIV3M4H7 ['B00B8DQV92']\n",
            "A26ATO0QCCSQJO ['B00B8DQV92']\n",
            "A3FP2S4Q435EYQ ['B00B9996LA']\n",
            "A1MVXGSPDCUXSV ['B00B9996LA']\n",
            "A3PK4R0TEGSVX6 ['B00B99JU5M']\n",
            "A3VNFXS0WPY3NU ['B00B99JU5M', 'B00E3W19CE']\n",
            "APWZP6XJNQLT0 ['B00B99JU5M']\n",
            "A12PLDIP12TN6H ['B00B9JR5H2']\n",
            "A2EIUHHRZTJ7JK ['B00B9JR5H2']\n",
            "A2K0SQBAKKFIP5 ['B00BB0ZTJA', 'B00BCGRX9M']\n",
            "A1GWWB5HI2Z36N ['B00BB0ZTMM']\n",
            "A1UHYSXMNI70A9 ['B00BCGRTFK']\n",
            "A1IHK59M04IESO ['B00BCGRX9M']\n",
            "APDNEF1XXVYDU ['B00BDS3N1G']\n",
            "AOT9GX3W2BDBM ['B00BDS3N1G']\n",
            "A1M1W6T3EPKNQ8 ['B00BDS3N1G']\n",
            "A223WQ1Q79JEH2 ['B00BEW8MVC']\n",
            "A39GK663VF5LI6 ['B00BF6HVG4']\n",
            "A4WFZD96AQY1X ['B00BF6HVG4']\n",
            "A1GHEJK1UVMOWN ['B00BFDHVAS']\n",
            "A1PQU7KH22ZPBM ['B00BFDHVAS']\n",
            "A2GSH0SCJYOLH9 ['B00BFQHGUU']\n",
            "AA0E2YDNGR7R ['B00BFQHGUU']\n",
            "A1CRSVLYRCZ1YE ['B00BG5M93Y', 'B00BGA9WK2', 'B00DQEB1V4']\n",
            "ACQF3DSBMIYI1 ['B00BGA9WK2']\n",
            "A18XENC1HO8DG7 ['B00BGA9WK2', 'B00BMMPP8M']\n",
            "A3DTD5XJDUCW53 ['B00BGA9WK2']\n",
            "A3CPUW4UOXVAW0 ['B00BGGDVOO']\n",
            "A15Z1K37AWBHAQ ['B00BGGDVOO']\n",
            "A3P0XBNOAL18TB ['B00BGGDVOO', 'B00DR0PDNE']\n",
            "AIME169UYNO7L ['B00BGGDVOO']\n",
            "AQEQTMV5NBBP1 ['B00BGGDVOO', 'B00E055H5O']\n",
            "ACLF3PAVAOJ9H ['B00BGGDVOO']\n",
            "A3081S8RIQHQWY ['B00BGGDVOO']\n",
            "AK6UKCNL2OSBM ['B00BGGDVOO']\n",
            "A1W34HVNDESRMK ['B00BGGDVOO']\n",
            "A1ZA6VD01JZ4NU ['B00BGGDVOO']\n",
            "A1G2BNW1TUNV9D ['B00BGGDVOO']\n",
            "AH5DBXQ1LAV28 ['B00BGGDVOO']\n",
            "A3ROV2UYKLJTI5 ['B00BGGDVOO']\n",
            "A3H0GG7X0XKDE5 ['B00BGGDVOO']\n",
            "A4R11BO5B9U9I ['B00BGGDVOO']\n",
            "A2SRAHF89AIHLQ ['B00BGGDVOO']\n",
            "AW03EQ3NID7CI ['B00BHSI80S']\n",
            "A3KM3IIJERX3K8 ['B00BIFNTMC']\n",
            "A2T24N91NOC27H ['B00BIFNTMC', 'B00BQ4F9ZA', 'B00E362W9O']\n",
            "A30QKFP58H6ZF8 ['B00BIFNTMC']\n",
            "A1TSJUT2NV5IFN ['B00BJVJV9A']\n",
            "A1697F9KWYLRDS ['B00BJVJV9A']\n",
            "ARFPGL7OEATYH ['B00BJVJV9A', 'B00BNIO4H8', 'B00HTPHK5W']\n",
            "A3A3OUZOJBOA6I ['B00BMMPP8M']\n",
            "A1IVE7TTKR2WKQ ['B00BN3VZDE']\n",
            "A2043AX69JYAOA ['B00BN3VZDE']\n",
            "A3S3GX3KR08S11 ['B00BOHNYTW', 'B00FZWZYWM']\n",
            "A1YPVVTF19HPCT ['B00BOHNYTW']\n",
            "A249MQ7G6VZVTP ['B00BOHNYTW']\n",
            "A2SYCKV9A2SE0F ['B00BOHNYU6']\n",
            "A361U4SXK7FCQE ['B00BOHNYU6', 'B00CKAOJA0', 'B00D1GYNT4', 'B00D6PTMHI', 'B00EXK1KZW']\n",
            "A1I7S30DP97JWC ['B00BP5KOPA']\n",
            "A3D7FGSC14GE7D ['B00BP5MB56']\n",
            "AFEY9FP8QCKTA ['B00BQ4F9ZA']\n",
            "A42Z8BX1MR66O ['B00BQ4F9ZA', 'B00DR0PDNE']\n",
            "AZQURQVJJ21VB ['B00BQ4F9ZA', 'B00FDUHD2K']\n",
            "A3519SGJLYTJCX ['B00BQ5KHJW']\n",
            "A4GI4654JA8NK ['B00BQ5RYI4', 'B00DQZO0R0', 'B00IAKLM54']\n",
            "A1RJ6X4434F4A3 ['B00BQ5RYI4']\n",
            "A1PGUHJ9ZN499P ['B00BQH8UEY', 'B00D5Q75RC', 'B00F9FCW7K']\n",
            "A37DHL4RO4J3W0 ['B00BT7RAPG']\n",
            "A1IO6EISARWPJ5 ['B00BT7RAPG', 'B00F2A1TBC']\n",
            "A5T3A6GY2AU41 ['B00BT7RAPG', 'B00G2TK76A']\n",
            "A31YPEGZCM5E2 ['B00BUKQ4ZO']\n",
            "A3Q4STQ5KG1TAD ['B00BUKQ4ZO']\n",
            "A30XCXBX58I43B ['B00BW6KCTU']\n",
            "A1H275IWPV5IG2 ['B00BW6KCTU']\n",
            "A2R7QPQ7RAAV7G ['B00BWF5U0M']\n",
            "A22JWNY1HZWN7F ['B00BWF5U0M']\n",
            "AZN8A29EPFFZ7 ['B00BWF5U0M']\n",
            "A38D3F938AIHH3 ['B00BWF5U0M']\n",
            "AAE80E4EVOW2S ['B00BWF5U0M', 'B00E98O7GC', 'B00EOI2SR2']\n",
            "A27BDTIN9OGTA ['B00BXF7I9M']\n",
            "A2JVSIEGV66Y2M ['B00C2JCXHU']\n",
            "AU6WPOZ3U2A1E ['B00C2P61FO']\n",
            "AZ7MPE5TPM9LO ['B00C39TA84', 'B00E3AKFEY', 'B00E83XHXM', 'B00FDUHD2K']\n",
            "A1QD6WT9D78DZC ['B00C7AQXQQ']\n",
            "A2LVUPQHM8REGD ['B00C7AQXQQ']\n",
            "A3CO65V006Z1IQ ['B00C8T7CXO']\n",
            "A2UQAE6SRS5BW0 ['B00C8T7CXO']\n",
            "A1L21GDU1CEWPE ['B00C9TECFO', 'B00E055H5O']\n",
            "A2GQ9NO1Z3DW3F ['B00C9W27RQ']\n",
            "A21M908UMWOO3I ['B00C9W27RQ']\n",
            "A3BL6W2RKYRAXN ['B00C9W27RQ']\n",
            "A2F5QFNQNQG00U ['B00CAFPF26']\n",
            "A3VNK7F96UU8US ['B00CAFPF26', 'B00EL93M3S']\n",
            "A3OH4BD3JDELYI ['B00CAFPF26']\n",
            "A1FTKK4U5JRAJE ['B00CAFPF26']\n",
            "A26TG4NJ2XN1S2 ['B00CDFVSI8']\n",
            "A3DWGY16KA185M ['B00CELZD8C']\n",
            "A1OFW04WEE1MYB ['B00CFTCHMS']\n",
            "A2UM5AJH1TL3T8 ['B00CGVF8E4', 'B00HTPHK5W']\n",
            "A6Z6YYMLY7QUU ['B00CGVF8E4']\n",
            "A2UYQHB5U8WZM ['B00CGVF8E4']\n",
            "AZOFEHSLIJ7YT ['B00CH643A8']\n",
            "AMU38NQ53EBMB ['B00CH643A8']\n",
            "A370PDJ1UQWMK3 ['B00CHJ34P0', 'B00FNPD1VW']\n",
            "A1HK3H54OAR7O9 ['B00CHJ34P0']\n",
            "AMOICJP4TVKNJ ['B00CHJ34P0']\n",
            "A3DDDQ0QOCO9OE ['B00CILJB90']\n",
            "AX3XVPM3P97O1 ['B00CILJB90']\n",
            "A7OCP4P0S4YO8 ['B00CIRLJPI', 'B00EOI2SR2']\n",
            "A30YCYZ3G9ALZY ['B00CJRZ31S']\n",
            "A35CC67IS2YL0Q ['B00CJRZ31S']\n",
            "AUBR4V8GI5N23 ['B00CKAOJA0', 'B00EB7UIO6']\n",
            "A2AC5D4IZLFHOG ['B00CMEN95U']\n",
            "AEEKBEYMB5U6Z ['B00CMEN95U']\n",
            "A3KCHCEUU1QU8E ['B00CMMG7I8']\n",
            "A2TLRWFIJ2LO2W ['B00CMMG7I8', 'B00E4B82RE']\n",
            "AWY7YJ4IBF4OQ ['B00CMMG7I8']\n",
            "A10C337YGL2XWJ ['B00CMMG7I8']\n",
            "A2TBSZWA9YQICX ['B00CMQTVK0']\n",
            "A2OV13N255OGEN ['B00CMQTVK0']\n",
            "A2H3UO93KSH81G ['B00CO1I29O']\n",
            "A7U2GMTP6YPJO ['B00CO1I29O']\n",
            "A2PQ9RZVB9D1OO ['B00CO1I29O']\n",
            "AIOOFGD29RHXB ['B00COYOAYW']\n",
            "A7V69Y4D6H2NB ['B00COYOAYW', 'B00D3F7H0K']\n",
            "A3RO8BXVW4PELC ['B00COYOAYW']\n",
            "A1NUBAQLINRRYC ['B00COYOAYW']\n",
            "A34ZWOXV2ZK2A6 ['B00CPGYNV4']\n",
            "A3Q3IWNWMMDVMN ['B00CPGYNV4']\n",
            "A1VWGULTOHKZQ8 ['B00CPITW2W']\n",
            "A3S1NS9WX4WKZB ['B00CPITW2W']\n",
            "A3V8M7FVIW8NIJ ['B00CPWPCHM']\n",
            "A6J2CZZFWFURN ['B00CPWPCHM']\n",
            "A3V52JRZ6TN0SP ['B00CXACPN0', 'B00DB3SH2G']\n",
            "A3FBX7QRP0B7S8 ['B00CXACPN0']\n",
            "A2EI0NIHGLHZL8 ['B00CZ6D248']\n",
            "A362M5PZY78GOW ['B00D02AG7C']\n",
            "A12LDZFCQOTLF0 ['B00D02AG7C']\n",
            "A6XNP6O2KQZJV ['B00D02AG7C']\n",
            "A2NKEXRT10LA3A ['B00D02AHEO', 'B00DR0PDNE']\n",
            "A325U6BRBGOGX4 ['B00D02AHEO']\n",
            "A3SNB70UVYWCI0 ['B00D02AHEO']\n",
            "A2JQSW483Q097U ['B00D130648']\n",
            "A2X0GPH1ABZ7OF ['B00D130648']\n",
            "AUOJ2V0OLK7GO ['B00D2IVZPG']\n",
            "A2NSMTPJHZKZBD ['B00D3F7H0K']\n",
            "A1WL9966S7W1UY ['B00D3WZLFQ']\n",
            "A10HT6MVQD6OYY ['B00D5T3QK4', 'B00D9NRUY4']\n",
            "A32NYIEAB323J6 ['B00D5T3QK4', 'B00EB7UIO6']\n",
            "AFBN1G87MMBC3 ['B00D5T3QK4']\n",
            "A36SSWOZJ7M834 ['B00D5T3QK4']\n",
            "A1C1QCRKYDO1EM ['B00D6PTMHI']\n",
            "AKEUS6WBVOEU5 ['B00D9NRUY4']\n",
            "A2EVP0NCXR6IYS ['B00DA06Z3I']\n",
            "A1XEIIJHPV276R ['B00DB3SH2G']\n",
            "AM7WCNDMOUW8C ['B00DBV28TG']\n",
            "A1Q3SGFAGHE3G8 ['B00DBV28TG', 'B00E98O7GC', 'B00HBYKVA2']\n",
            "A97MSLGMQ7L3A ['B00DE0EPCM']\n",
            "A11OHZ109BOAM4 ['B00DH13JZ2']\n",
            "A3VODX8QUNV6UB ['B00DHW4HXY']\n",
            "A3779DM3KYXCFX ['B00DHW4HXY']\n",
            "A1LCT57E6DQ0N8 ['B00DIFIM36']\n",
            "A10YU5TKTRJBL3 ['B00DIH4F12']\n",
            "A2U4P73P4MRAQM ['B00DIOALPE']\n",
            "A2WEB22NZU2DBP ['B00DIOALPE']\n",
            "AANJTB1AY4UUR ['B00DQGII1I']\n",
            "A3CHKO0MLX9BQA ['B00DQGII1I']\n",
            "A3CLUXNMMQ1E5W ['B00DQZO0R0']\n",
            "A3MUSWDCTZINQZ ['B00DQZO0R0', 'B00DQZOD8Q', 'B00DQZQG3G', 'B00DQZQHBW', 'B00DQZQPNM']\n",
            "A3NN7MDQ5TOHXI ['B00DQZQHBW']\n",
            "A3256HPOJN2V3Y ['B00DR0B31U']\n",
            "A26SZX3GOU51YU ['B00DR0BQ0I']\n",
            "AZMJYIRWRZ06J ['B00DR0PDNE']\n",
            "A3JJZF0ETMG4WC ['B00DR0PDNE']\n",
            "A2SVB40C8N87VS ['B00DR0PDNE']\n",
            "A81AV3BKR1DIY ['B00DR0PDNE']\n",
            "A1ZUWILZUMY2AB ['B00DR0PDNE']\n",
            "AZ7ZEWXOGH0VG ['B00DR0PDNE']\n",
            "A1PSHOEFFZAHO3 ['B00DR0PDNE']\n",
            "A1DWGMFOAB6HOZ ['B00DR0PDNE']\n",
            "ACWDAFDEWBGEV ['B00DR0PDNE']\n",
            "A1U3ZC252EI73K ['B00DR0PDNE']\n",
            "A3KG0JWC9JV0O5 ['B00DR0PDNE']\n",
            "ATF9GIT9E3X5S ['B00DR0PDNE']\n",
            "A3TEZ2AEC9EJKY ['B00DR0PDNE']\n",
            "A1724ACJH3M54K ['B00DR0PDNE']\n",
            "A1DYMUT1UBHDBA ['B00DR0PDNE']\n",
            "A2A8CRFYR19RGI ['B00DR0PDNE', 'B00GZNCP3G']\n",
            "A26IZAWFB8VC4V ['B00DR0PDNE', 'B00EL0EIGC']\n",
            "A12TZ74LGGCB4I ['B00DR0PDNE']\n",
            "A3Q9YO93T0GKM ['B00DR0PDNE']\n",
            "A1XDUE8UY4QOK4 ['B00DR0PDNE', 'B00DVFLJDS']\n",
            "A28WUG91KUSML5 ['B00DR0PDNE']\n",
            "A19XHV8D0835P2 ['B00DR0PDNE']\n",
            "A1SNU3VR3EN25 ['B00DR0PDNE']\n",
            "A11JU7PR7NTBX0 ['B00DR0PDNE', 'B00INNP5VU']\n",
            "A3LNG20EJOWI4Q ['B00DVFLJDS']\n",
            "A2F67LA2BVTF6R ['B00DVFLJDS']\n",
            "A1U52Z78VXOGSB ['B00DVFLJDS']\n",
            "A2EYRTOWTKHCIS ['B00DVT373E']\n",
            "A1Z9NIQKY3VLVG ['B00E055H5O']\n",
            "A2A0MNIX60UZ8I ['B00E055H5O']\n",
            "A1QTCOP4K6MQUI ['B00E055H5O']\n",
            "A2SFZTKJ52JFBP ['B00E055H5O']\n",
            "AYM31GY8C64Y1 ['B00E0EY7Z6']\n",
            "A3TDWKLXRV4XX ['B00E0EY7Z6']\n",
            "A2P6C99PTJ7A9K ['B00E0EY7Z6']\n",
            "A3JD9KBLYQPG99 ['B00E0EY7Z6']\n",
            "A314H8GT3RYPNL ['B00E0EY7Z6']\n",
            "A2DCPXJ66JZDUE ['B00E19AX4O', 'B00EUY59Z8']\n",
            "A2R8A09UWS65XL ['B00E19AX4O']\n",
            "A24JUSE5LP7GV ['B00E362W9O']\n",
            "ATMC2S9NIY2NB ['B00E3W15P0']\n",
            "A327IGBZHUGA3X ['B00E3W15P0']\n",
            "A12TLPNN8F2QWJ ['B00E3W15P0']\n",
            "A1FQNC3QUMS234 ['B00E3W15P0', 'B00H7PBWK8']\n",
            "A39VZXP0E2TIHF ['B00E3W15P0']\n",
            "A1BYBIVEMRIKJ5 ['B00E3W15P0']\n",
            "A16G6NZ66XKX1E ['B00E3W15P0']\n",
            "AKFNRYVNUCZUA ['B00E3W19CE', 'B00GTGETFG', 'B00IAKLM54']\n",
            "A1AZO69O00E7GR ['B00E435N1A']\n",
            "A2KVJ9D4WUBW17 ['B00E435N1A']\n",
            "A2MI3AI1ST2DDY ['B00E435N1A']\n",
            "A1OH7JTZV3C51I ['B00E44B18I']\n",
            "A3CZ2ODWJ0HTHV ['B00E44B18I', 'B00ET9YYS2', 'B00GP4BVTO']\n",
            "A1O6P30QZ0FE9N ['B00E4B5V6E']\n",
            "A1FA8R1X67TZ5N ['B00E4B82RE']\n",
            "A2TKNGT1ST1PPT ['B00E4B82RE', 'B00EMKPKUE']\n",
            "AD4QJRYAXIR0W ['B00E5UHRIO']\n",
            "A370EI3BGWT7CP ['B00E6ONJJU']\n",
            "A1H9G6LD6QJLI8 ['B00E83XHXM']\n",
            "ATYZ10XM8I8O ['B00E8NNHVY']\n",
            "A243AT6TL1KQ58 ['B00E98O7GC']\n",
            "A1RRZMSPSO18PF ['B00EE18N7I']\n",
            "A294WDDU7PKTVN ['B00EF1OGOG']\n",
            "ARZP82U3O1T8B ['B00EF1OGOG']\n",
            "A8KGEQL6PCIF6 ['B00EF1OGOG']\n",
            "AW9MINAQTWE7U ['B00EF1OGOG']\n",
            "A1SFBHFG4S8VOE ['B00EF1OGOG']\n",
            "A1NTUVBDSZ3D3X ['B00EHZYWGM']\n",
            "A2HMFLHICROWSK ['B00EIBEWDS', 'B00GDHAT3W']\n",
            "A2S9KBFV32J7YQ ['B00EIBEWDS']\n",
            "A31Z8POZSEZWBG ['B00EKG5KCS']\n",
            "A232QBPB9Z6BUQ ['B00EL93M3S']\n",
            "AJ26MVI2WJC1Z ['B00EN27TCI']\n",
            "A1W508KJH62WSD ['B00EYW9DSU']\n",
            "A2SHGNNED02JMX ['B00EYW9DSU']\n",
            "AZYWA4D4LMBNJ ['B00EZGB4Y6']\n",
            "AYSOZ9ROBB04L ['B00EZGB4Y6']\n",
            "A2B7HN27RC6QBE ['B00F0DD0I6']\n",
            "A3UTZEDGG25L3D ['B00F0DD0I6']\n",
            "A2Q1UHM8QE1A0Q ['B00F0DD0I6']\n",
            "APT6ZTK4LOYRF ['B00F2A1TBC']\n",
            "A2I2ZAJLC8JQD ['B00F2CWRLQ']\n",
            "AXR45FND1Y2PF ['B00F3F0EIU']\n",
            "A296ZQVFD2ZA8P ['B00F4A8FQM']\n",
            "A7I73I9SZZE8Y ['B00F4A8FQM']\n",
            "A3U593MVO836RW ['B00F4MEK6E']\n",
            "A3IR6QLR2DU0NR ['B00F5JV4NS']\n",
            "A317RWPY08I5QX ['B00F5JV4NS', 'B00FWNGB4Y']\n",
            "A1QTM4T0UEKIQT ['B00F96JG78']\n",
            "A35W10JQ82JCS5 ['B00F9FCW7K']\n",
            "A1R1SWALOG10PV ['B00F9FCW7K']\n",
            "A1BWIVC5RKXZH7 ['B00FBYY5KG']\n",
            "AXPDJALKGHAOF ['B00FDIKV3A']\n",
            "A3AZT9M6AC4GWB ['B00FDIKV3A']\n",
            "AYMYFQTYPTONP ['B00FDUHD2K']\n",
            "A39HKLFD5CR8KP ['B00FDUHD2K']\n",
            "A82DYKVUXFP2 ['B00FFJ0HUE']\n",
            "A1K45H6E3W2YDV ['B00FJ8JGIA']\n",
            "A237OO6XZKWVAB ['B00FJ8JGIA']\n",
            "A39EAJ7VISTXAC ['B00FLKW0JI']\n",
            "A334OGRMSEH0F8 ['B00FNPD1VW']\n",
            "A30YKAICTGJ6VI ['B00FZWZYWM']\n",
            "A104033MXD9ZO6 ['B00G2TK76A', 'B00INNP5VU']\n",
            "AT43UGAN6YDFQ ['B00G2TK76A']\n",
            "A2EVJ0SGP8CFX5 ['B00G6IJ5NI']\n",
            "A1RXR90XUKRJZT ['B00G6IJ5NI']\n",
            "A3KIK3Y462AD32 ['B00GDHAT3W']\n",
            "A2ALA1RT2C1MTO ['B00GHYSCQW']\n",
            "A35FPO37ONNZ6L ['B00GHYSCQW']\n",
            "A1V1GEWUUQS95W ['B00GP4BVTO']\n",
            "A12RPWFL29LPMN ['B00GPH6T8E']\n",
            "A31Z7CF9FGZ7D8 ['B00GTGETFG']\n",
            "A1YANNBBD39LK3 ['B00GTGETFG']\n",
            "A2CZO9H9BECNVV ['B00GUQJZCW']\n",
            "ASXXK84NYS6ZY ['B00GX05NDU']\n",
            "A3D9BYQISCNDYU ['B00GX05NDU', 'B00HLV7ZMM']\n",
            "A3KO7I1WJXC0CB ['B00GX9A06Q']\n",
            "A14IYE6ADQ7YGN ['B00GX9A06Q', 'B00HVT27B8']\n",
            "A3HX4X8LDVSDXB ['B00GZNCP3G']\n",
            "A2Y92SVF4DYP4X ['B00H09BB16']\n",
            "A1FF4PN48LO8EC ['B00H09BB16']\n",
            "A3SURT780VCOKL ['B00HLV7ZMM']\n",
            "A1MM03CBKOXO7Z ['B00I2ZBD1U']\n",
            "A1ZVN1JFRLUV9 ['B00IF70QCW']\n",
            "AFS3Q4OZW7K7Z ['B00ISGCAJM']\n",
            "AUM5DB4XZLVTL ['B00IVPU786']\n",
            "A3CDJJ5RCYWLAX ['B00IVPU786']\n",
            "AL7RGFE9Z7I9F ['B00J5O7BMC']\n"
          ],
          "name": "stdout"
        }
      ]
    },
    {
      "cell_type": "markdown",
      "metadata": {
        "id": "57n4lXTmNXzt"
      },
      "source": [
        "**Observation :**\n",
        "* The Popularity-based recommender system is a non-personalized recommender system and these are based on frequency counts, which may be not suitable to the user.\n",
        "* Model-based Collaborative Filtering is a personalized recommender system, the recommendations are based on the past behavior of the user and it is not dependent on any additional information.\n",
        "* Item Similarity Based model performed worse than even simple popularity based models.\n",
        "* Hyper parameter tuning with GridSearch improve model performance."
      ]
    }
  ]
}