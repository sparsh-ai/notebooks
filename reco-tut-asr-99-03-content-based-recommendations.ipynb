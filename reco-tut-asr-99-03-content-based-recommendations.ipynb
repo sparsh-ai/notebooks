{
 "cells": [
  {
   "cell_type": "markdown",
   "metadata": {},
   "source": [
    "# Content Based Recommendation (CBR)\n",
    "\n",
    "When we use Non personalised and stereotyped recommendations, we have the benefit that we don't need to know about our products neither user preferences (apart from explicit metrics). However, in order to provide confident recommendations, we have to have a big number of useful reviews, and account for all the risks when using a evaluation such as 5 starts (see Part I).\n",
    "\n",
    "CBR are the other way around. In this approach, we don't need a big amount of recommending users, but we need to keep track on the items description and a user profile, which can be used to match with determined items. This difference in approach comes with some pros and cons:\n",
    "* **Pros:**\n",
    "* As stated before, we don't need a big number of recommending users in order to provide confident recommendations.\n",
    "* With the feature above, this means items can be readilly recommended, given we extract the items' characteristics.  \n",
    "\n",
    "\n",
    "* **Cons:**\n",
    "* Item descriptions can be a tricky subject. Being able to automatically process and extract these descriptions goes into the fields on Natural Language Processing or even maybe Computer Vision. Besides, very often we rely on subjective qualifiers. When going to a restaurant or hotel, we usually search for tag indications on confort or taste, and this can be very individual to each person. \n",
    "\n",
    "One very simple approach for CBR is make use of key words and integrate it with past user review on determined domains. On this notebook we exemplify this approach and some next more 'smart' approaches, such as the TD-IDF statistics, which match a user's taste with documents that contains the key words but that are not commom in all the other documents. Lets go!\n",
    "\n",
    "<img src=\"images/notebook3_image1.jpg\">\n"
   ]
  },
  {
   "cell_type": "markdown",
   "metadata": {},
   "source": [
    "# Small data analysis II\n",
    "\n",
    "Lets work with a small dataset as we did with notebook I - dataset [here](https://d396qusza40orc.cloudfront.net/flex-umntestsite/on-demand_files/Assignment%202.xls).\n",
    "\n",
    "The main table represent a set a documents and each column contains a possible keywork/characteristic with which we could classify the document. The terms vary from sports to economics and are marked as 1 with the specific documento contains this topic. \n",
    "\n",
    "Besides the main table, we also load a review vector for 2 users, which show which document the user marked as 'liked'. These vectors are going to be combined with the document feature vectors in order to create a proper 'Taste vector', *i.e.*, what are the features a user liked and with what weight. In order to simplify the math, the number of stars was reduced to liked the movie (liked = 1, didn't like = 0, didn't review = Nan)"
   ]
  },
  {
   "cell_type": "code",
   "execution_count": 1,
   "metadata": {},
   "outputs": [],
   "source": [
    "import pandas as pd\n",
    "import numpy as np"
   ]
  },
  {
   "cell_type": "code",
   "execution_count": 2,
   "metadata": {},
   "outputs": [
    {
     "name": "stdout",
     "output_type": "stream",
     "text": [
      "Nbr Rows/Users: 27 - Nbr Columns/Movies: 19\n"
     ]
    },
    {
     "data": {
      "text/html": [
       "<div>\n",
       "<style scoped>\n",
       "    .dataframe tbody tr th:only-of-type {\n",
       "        vertical-align: middle;\n",
       "    }\n",
       "\n",
       "    .dataframe tbody tr th {\n",
       "        vertical-align: top;\n",
       "    }\n",
       "\n",
       "    .dataframe thead th {\n",
       "        text-align: right;\n",
       "    }\n",
       "</style>\n",
       "<table border=\"1\" class=\"dataframe\">\n",
       "  <thead>\n",
       "    <tr style=\"text-align: right;\">\n",
       "      <th></th>\n",
       "      <th>baseball</th>\n",
       "      <th>economics</th>\n",
       "      <th>politics</th>\n",
       "      <th>Europe</th>\n",
       "      <th>Asia</th>\n",
       "      <th>soccer</th>\n",
       "      <th>war</th>\n",
       "      <th>security</th>\n",
       "      <th>shopping</th>\n",
       "      <th>family</th>\n",
       "    </tr>\n",
       "    <tr>\n",
       "      <th>Unnamed: 0</th>\n",
       "      <th></th>\n",
       "      <th></th>\n",
       "      <th></th>\n",
       "      <th></th>\n",
       "      <th></th>\n",
       "      <th></th>\n",
       "      <th></th>\n",
       "      <th></th>\n",
       "      <th></th>\n",
       "      <th></th>\n",
       "    </tr>\n",
       "  </thead>\n",
       "  <tbody>\n",
       "    <tr>\n",
       "      <th>doc1</th>\n",
       "      <td>1.0</td>\n",
       "      <td>0.0</td>\n",
       "      <td>1.0</td>\n",
       "      <td>0.0</td>\n",
       "      <td>1.0</td>\n",
       "      <td>1.0</td>\n",
       "      <td>0.0</td>\n",
       "      <td>0.0</td>\n",
       "      <td>0.0</td>\n",
       "      <td>1.0</td>\n",
       "    </tr>\n",
       "    <tr>\n",
       "      <th>doc2</th>\n",
       "      <td>0.0</td>\n",
       "      <td>1.0</td>\n",
       "      <td>1.0</td>\n",
       "      <td>1.0</td>\n",
       "      <td>0.0</td>\n",
       "      <td>0.0</td>\n",
       "      <td>0.0</td>\n",
       "      <td>1.0</td>\n",
       "      <td>0.0</td>\n",
       "      <td>0.0</td>\n",
       "    </tr>\n",
       "    <tr>\n",
       "      <th>doc3</th>\n",
       "      <td>0.0</td>\n",
       "      <td>0.0</td>\n",
       "      <td>0.0</td>\n",
       "      <td>1.0</td>\n",
       "      <td>1.0</td>\n",
       "      <td>1.0</td>\n",
       "      <td>0.0</td>\n",
       "      <td>0.0</td>\n",
       "      <td>0.0</td>\n",
       "      <td>0.0</td>\n",
       "    </tr>\n",
       "    <tr>\n",
       "      <th>doc4</th>\n",
       "      <td>0.0</td>\n",
       "      <td>0.0</td>\n",
       "      <td>1.0</td>\n",
       "      <td>1.0</td>\n",
       "      <td>0.0</td>\n",
       "      <td>0.0</td>\n",
       "      <td>1.0</td>\n",
       "      <td>1.0</td>\n",
       "      <td>0.0</td>\n",
       "      <td>0.0</td>\n",
       "    </tr>\n",
       "    <tr>\n",
       "      <th>doc5</th>\n",
       "      <td>0.0</td>\n",
       "      <td>1.0</td>\n",
       "      <td>0.0</td>\n",
       "      <td>0.0</td>\n",
       "      <td>0.0</td>\n",
       "      <td>0.0</td>\n",
       "      <td>0.0</td>\n",
       "      <td>0.0</td>\n",
       "      <td>1.0</td>\n",
       "      <td>1.0</td>\n",
       "    </tr>\n",
       "  </tbody>\n",
       "</table>\n",
       "</div>"
      ],
      "text/plain": [
       "            baseball  economics  politics  Europe  Asia  soccer  war  \\\n",
       "Unnamed: 0                                                             \n",
       "doc1             1.0        0.0       1.0     0.0   1.0     1.0  0.0   \n",
       "doc2             0.0        1.0       1.0     1.0   0.0     0.0  0.0   \n",
       "doc3             0.0        0.0       0.0     1.0   1.0     1.0  0.0   \n",
       "doc4             0.0        0.0       1.0     1.0   0.0     0.0  1.0   \n",
       "doc5             0.0        1.0       0.0     0.0   0.0     0.0  0.0   \n",
       "\n",
       "            security  shopping  family  \n",
       "Unnamed: 0                              \n",
       "doc1             0.0       0.0     1.0  \n",
       "doc2             1.0       0.0     0.0  \n",
       "doc3             0.0       0.0     0.0  \n",
       "doc4             1.0       0.0     0.0  \n",
       "doc5             0.0       1.0     1.0  "
      ]
     },
     "execution_count": 2,
     "metadata": {},
     "output_type": "execute_result"
    }
   ],
   "source": [
    "reviewsDS = pd.read_csv('data/content_based_filtering.csv')\n",
    "docsTopics = reviewsDS.iloc[:20,:11]\n",
    "docsTopics.index = docsTopics.iloc[:,0]\n",
    "docsTopics.drop('Unnamed: 0', axis = 1, inplace=True)\n",
    "print('Nbr Rows/Users: ' + str(reviewsDS.shape[0]) + ' - Nbr Columns/Movies: ' + str(reviewsDS.shape[1]))\n",
    "\n",
    "userReviews = reviewsDS.iloc[:20,[0,14,15]]\n",
    "userReviews.index = userReviews.iloc[:,0]\n",
    "userReviews.drop('Unnamed: 0', axis = 1, inplace=True)\n",
    "docsTopics.head()"
   ]
  },
  {
   "cell_type": "code",
   "execution_count": 3,
   "metadata": {},
   "outputs": [
    {
     "data": {
      "text/html": [
       "<div>\n",
       "<style scoped>\n",
       "    .dataframe tbody tr th:only-of-type {\n",
       "        vertical-align: middle;\n",
       "    }\n",
       "\n",
       "    .dataframe tbody tr th {\n",
       "        vertical-align: top;\n",
       "    }\n",
       "\n",
       "    .dataframe thead th {\n",
       "        text-align: right;\n",
       "    }\n",
       "</style>\n",
       "<table border=\"1\" class=\"dataframe\">\n",
       "  <thead>\n",
       "    <tr style=\"text-align: right;\">\n",
       "      <th></th>\n",
       "      <th>User 1</th>\n",
       "      <th>User 2</th>\n",
       "    </tr>\n",
       "    <tr>\n",
       "      <th>Unnamed: 0</th>\n",
       "      <th></th>\n",
       "      <th></th>\n",
       "    </tr>\n",
       "  </thead>\n",
       "  <tbody>\n",
       "    <tr>\n",
       "      <th>doc1</th>\n",
       "      <td>1.0</td>\n",
       "      <td>-1.0</td>\n",
       "    </tr>\n",
       "    <tr>\n",
       "      <th>doc2</th>\n",
       "      <td>-1.0</td>\n",
       "      <td>1.0</td>\n",
       "    </tr>\n",
       "    <tr>\n",
       "      <th>doc3</th>\n",
       "      <td>0.0</td>\n",
       "      <td>0.0</td>\n",
       "    </tr>\n",
       "    <tr>\n",
       "      <th>doc4</th>\n",
       "      <td>0.0</td>\n",
       "      <td>1.0</td>\n",
       "    </tr>\n",
       "    <tr>\n",
       "      <th>doc5</th>\n",
       "      <td>0.0</td>\n",
       "      <td>0.0</td>\n",
       "    </tr>\n",
       "  </tbody>\n",
       "</table>\n",
       "</div>"
      ],
      "text/plain": [
       "            User 1  User 2\n",
       "Unnamed: 0                \n",
       "doc1           1.0    -1.0\n",
       "doc2          -1.0     1.0\n",
       "doc3           0.0     0.0\n",
       "doc4           0.0     1.0\n",
       "doc5           0.0     0.0"
      ]
     },
     "execution_count": 3,
     "metadata": {},
     "output_type": "execute_result"
    }
   ],
   "source": [
    "userReviews.head()"
   ]
  },
  {
   "cell_type": "markdown",
   "metadata": {},
   "source": [
    "## User Profiles\n",
    "\n",
    "Given what documents did each user like, we can establish ways of how to create a user profile, *i.e.* identify which features is the user more prone to like. \n",
    "\n",
    "Each time a user 'liked' a document, we can say he also liked the topics that are contained in the document. By summing up all topics for all the documents the user liked, we can have an idea of what are the user's prefered topics and with what intensity."
   ]
  },
  {
   "cell_type": "code",
   "execution_count": 4,
   "metadata": {},
   "outputs": [
    {
     "data": {
      "text/html": [
       "<div>\n",
       "<style scoped>\n",
       "    .dataframe tbody tr th:only-of-type {\n",
       "        vertical-align: middle;\n",
       "    }\n",
       "\n",
       "    .dataframe tbody tr th {\n",
       "        vertical-align: top;\n",
       "    }\n",
       "\n",
       "    .dataframe thead th {\n",
       "        text-align: right;\n",
       "    }\n",
       "</style>\n",
       "<table border=\"1\" class=\"dataframe\">\n",
       "  <thead>\n",
       "    <tr style=\"text-align: right;\">\n",
       "      <th></th>\n",
       "      <th>User 1</th>\n",
       "      <th>User 2</th>\n",
       "    </tr>\n",
       "  </thead>\n",
       "  <tbody>\n",
       "    <tr>\n",
       "      <th>baseball</th>\n",
       "      <td>3.0</td>\n",
       "      <td>-2.0</td>\n",
       "    </tr>\n",
       "    <tr>\n",
       "      <th>economics</th>\n",
       "      <td>-2.0</td>\n",
       "      <td>2.0</td>\n",
       "    </tr>\n",
       "    <tr>\n",
       "      <th>politics</th>\n",
       "      <td>-1.0</td>\n",
       "      <td>2.0</td>\n",
       "    </tr>\n",
       "    <tr>\n",
       "      <th>Europe</th>\n",
       "      <td>0.0</td>\n",
       "      <td>3.0</td>\n",
       "    </tr>\n",
       "    <tr>\n",
       "      <th>Asia</th>\n",
       "      <td>0.0</td>\n",
       "      <td>-1.0</td>\n",
       "    </tr>\n",
       "    <tr>\n",
       "      <th>soccer</th>\n",
       "      <td>2.0</td>\n",
       "      <td>-2.0</td>\n",
       "    </tr>\n",
       "    <tr>\n",
       "      <th>war</th>\n",
       "      <td>-1.0</td>\n",
       "      <td>0.0</td>\n",
       "    </tr>\n",
       "    <tr>\n",
       "      <th>security</th>\n",
       "      <td>-1.0</td>\n",
       "      <td>3.0</td>\n",
       "    </tr>\n",
       "    <tr>\n",
       "      <th>shopping</th>\n",
       "      <td>1.0</td>\n",
       "      <td>0.0</td>\n",
       "    </tr>\n",
       "    <tr>\n",
       "      <th>family</th>\n",
       "      <td>0.0</td>\n",
       "      <td>-1.0</td>\n",
       "    </tr>\n",
       "  </tbody>\n",
       "</table>\n",
       "</div>"
      ],
      "text/plain": [
       "           User 1  User 2\n",
       "baseball      3.0    -2.0\n",
       "economics    -2.0     2.0\n",
       "politics     -1.0     2.0\n",
       "Europe        0.0     3.0\n",
       "Asia          0.0    -1.0\n",
       "soccer        2.0    -2.0\n",
       "war          -1.0     0.0\n",
       "security     -1.0     3.0\n",
       "shopping      1.0     0.0\n",
       "family        0.0    -1.0"
      ]
     },
     "execution_count": 4,
     "metadata": {},
     "output_type": "execute_result"
    }
   ],
   "source": [
    "# makes the dot product between user reviews and doc topics\n",
    "def getTasteVector(userCol, docsTopics):\n",
    "    return docsTopics.apply(lambda docCol : np.dot(userCol, docCol))\n",
    "\n",
    "userTastes = userReviews.apply(lambda col : getTasteVector(col, docsTopics))\n",
    "userTastes"
   ]
  },
  {
   "cell_type": "markdown",
   "metadata": {},
   "source": [
    "## Document Score Predictions\n",
    "\n",
    "Now that we have the users' taste vector, we can make a dot product of it by each document and have and idea of which document would the user like more."
   ]
  },
  {
   "cell_type": "code",
   "execution_count": 5,
   "metadata": {},
   "outputs": [
    {
     "data": {
      "text/html": [
       "<div>\n",
       "<style scoped>\n",
       "    .dataframe tbody tr th:only-of-type {\n",
       "        vertical-align: middle;\n",
       "    }\n",
       "\n",
       "    .dataframe tbody tr th {\n",
       "        vertical-align: top;\n",
       "    }\n",
       "\n",
       "    .dataframe thead th {\n",
       "        text-align: right;\n",
       "    }\n",
       "</style>\n",
       "<table border=\"1\" class=\"dataframe\">\n",
       "  <thead>\n",
       "    <tr style=\"text-align: right;\">\n",
       "      <th></th>\n",
       "      <th>User 1</th>\n",
       "      <th>User 2</th>\n",
       "    </tr>\n",
       "    <tr>\n",
       "      <th>Unnamed: 0</th>\n",
       "      <th></th>\n",
       "      <th></th>\n",
       "    </tr>\n",
       "  </thead>\n",
       "  <tbody>\n",
       "    <tr>\n",
       "      <th>doc1</th>\n",
       "      <td>4.0</td>\n",
       "      <td>-4.0</td>\n",
       "    </tr>\n",
       "    <tr>\n",
       "      <th>doc2</th>\n",
       "      <td>-4.0</td>\n",
       "      <td>10.0</td>\n",
       "    </tr>\n",
       "    <tr>\n",
       "      <th>doc3</th>\n",
       "      <td>2.0</td>\n",
       "      <td>0.0</td>\n",
       "    </tr>\n",
       "    <tr>\n",
       "      <th>doc4</th>\n",
       "      <td>-3.0</td>\n",
       "      <td>8.0</td>\n",
       "    </tr>\n",
       "    <tr>\n",
       "      <th>doc5</th>\n",
       "      <td>-1.0</td>\n",
       "      <td>1.0</td>\n",
       "    </tr>\n",
       "  </tbody>\n",
       "</table>\n",
       "</div>"
      ],
      "text/plain": [
       "            User 1  User 2\n",
       "Unnamed: 0                \n",
       "doc1           4.0    -4.0\n",
       "doc2          -4.0    10.0\n",
       "doc3           2.0     0.0\n",
       "doc4          -3.0     8.0\n",
       "doc5          -1.0     1.0"
      ]
     },
     "execution_count": 5,
     "metadata": {},
     "output_type": "execute_result"
    }
   ],
   "source": [
    "def getDocScores(userTaste, docsTopics):\n",
    "    return docsTopics.apply(lambda docTopic: np.dot(userTaste, docTopic),axis=1)\n",
    "\n",
    "docScores = userTastes.apply(lambda userTaste: getDocScores(userTaste, docsTopics))\n",
    "docScores.head()"
   ]
  },
  {
   "cell_type": "code",
   "execution_count": 6,
   "metadata": {},
   "outputs": [
    {
     "name": "stdout",
     "output_type": "stream",
     "text": [
      "Predicted prefered docs for User 1 by content\n"
     ]
    },
    {
     "data": {
      "text/plain": [
       "Unnamed: 0\n",
       "doc16    6.0\n",
       "doc1     4.0\n",
       "doc12    4.0\n",
       "doc9     3.0\n",
       "doc6     3.0\n",
       "Name: User 1, dtype: float64"
      ]
     },
     "execution_count": 6,
     "metadata": {},
     "output_type": "execute_result"
    }
   ],
   "source": [
    "print('Predicted prefered docs for User 1 by content')\n",
    "docScores.sort_values('User 1', ascending=False)['User 1'].head()"
   ]
  },
  {
   "cell_type": "code",
   "execution_count": 7,
   "metadata": {
    "scrolled": true
   },
   "outputs": [
    {
     "name": "stdout",
     "output_type": "stream",
     "text": [
      "Predicted prefered docs for User 2 by content\n"
     ]
    },
    {
     "data": {
      "text/plain": [
       "Unnamed: 0\n",
       "doc17    10.0\n",
       "doc2     10.0\n",
       "doc4      8.0\n",
       "doc13     7.0\n",
       "doc14     7.0\n",
       "Name: User 2, dtype: float64"
      ]
     },
     "execution_count": 7,
     "metadata": {},
     "output_type": "execute_result"
    }
   ],
   "source": [
    "print('Predicted prefered docs for User 2 by content')\n",
    "docScores.sort_values('User 2', ascending=False)['User 2'].head()"
   ]
  },
  {
   "cell_type": "markdown",
   "metadata": {},
   "source": [
    "## Normalised Weights\n",
    "\n",
    "In these calculations, an article who had marked as having All topics would probably be ranked first, as it would fit for almost users, regardless of their taste.\n",
    "\n",
    "In order to reduce this impact, we must normalise these scores, by considering how many terms this document covers. So, if a user's taste match with a document having only 1 topic, whis would probably be more important than matching with a document with all 10 topics present.\n",
    "\n",
    "One different normalisation we're going to do here is to divide the boolean topic indicator from the documents by $\\sqrt{\\sum topics = True}$, *i.e.*, instead of dividing the boolean flag (value 1) of a document by $\\frac{1}{\\sum topics = True}$, we divide it only by $\\frac{1}{\\sqrt{\\sum topics = True}}$. This different normalisation still punish documents with higher number of covered topics, but punish higher number of topics everytime less than if using a normal linear normalisation. We can see on the plot below what is going to be the normalisation factor by the number of total covered topics in each document."
   ]
  },
  {
   "cell_type": "code",
   "execution_count": 8,
   "metadata": {},
   "outputs": [],
   "source": [
    "import matplotlib.pyplot as plt\n",
    "plt.plot(np.arange(1,100,1), np.sqrt(np.arange(1,100,1)))\n",
    "plt.title('Total number of topics versus Normalisation factor')\n",
    "plt.xlabel('Number of total topics')\n",
    "plt.ylabel('Normalisation factor');"
   ]
  },
  {
   "cell_type": "markdown",
   "metadata": {},
   "source": [
    "Lets create a new normalised topic-document score by this new rule:"
   ]
  },
  {
   "cell_type": "code",
   "execution_count": 9,
   "metadata": {},
   "outputs": [
    {
     "data": {
      "text/html": [
       "<div>\n",
       "<style scoped>\n",
       "    .dataframe tbody tr th:only-of-type {\n",
       "        vertical-align: middle;\n",
       "    }\n",
       "\n",
       "    .dataframe tbody tr th {\n",
       "        vertical-align: top;\n",
       "    }\n",
       "\n",
       "    .dataframe thead th {\n",
       "        text-align: right;\n",
       "    }\n",
       "</style>\n",
       "<table border=\"1\" class=\"dataframe\">\n",
       "  <thead>\n",
       "    <tr style=\"text-align: right;\">\n",
       "      <th></th>\n",
       "      <th>baseball</th>\n",
       "      <th>economics</th>\n",
       "      <th>politics</th>\n",
       "      <th>Europe</th>\n",
       "      <th>Asia</th>\n",
       "      <th>soccer</th>\n",
       "      <th>war</th>\n",
       "      <th>security</th>\n",
       "      <th>shopping</th>\n",
       "      <th>family</th>\n",
       "    </tr>\n",
       "    <tr>\n",
       "      <th>Unnamed: 0</th>\n",
       "      <th></th>\n",
       "      <th></th>\n",
       "      <th></th>\n",
       "      <th></th>\n",
       "      <th></th>\n",
       "      <th></th>\n",
       "      <th></th>\n",
       "      <th></th>\n",
       "      <th></th>\n",
       "      <th></th>\n",
       "    </tr>\n",
       "  </thead>\n",
       "  <tbody>\n",
       "    <tr>\n",
       "      <th>doc1</th>\n",
       "      <td>0.447214</td>\n",
       "      <td>0.00000</td>\n",
       "      <td>0.447214</td>\n",
       "      <td>0.00000</td>\n",
       "      <td>0.447214</td>\n",
       "      <td>0.447214</td>\n",
       "      <td>0.0</td>\n",
       "      <td>0.0</td>\n",
       "      <td>0.00000</td>\n",
       "      <td>0.447214</td>\n",
       "    </tr>\n",
       "    <tr>\n",
       "      <th>doc2</th>\n",
       "      <td>0.000000</td>\n",
       "      <td>0.50000</td>\n",
       "      <td>0.500000</td>\n",
       "      <td>0.50000</td>\n",
       "      <td>0.000000</td>\n",
       "      <td>0.000000</td>\n",
       "      <td>0.0</td>\n",
       "      <td>0.5</td>\n",
       "      <td>0.00000</td>\n",
       "      <td>0.000000</td>\n",
       "    </tr>\n",
       "    <tr>\n",
       "      <th>doc3</th>\n",
       "      <td>0.000000</td>\n",
       "      <td>0.00000</td>\n",
       "      <td>0.000000</td>\n",
       "      <td>0.57735</td>\n",
       "      <td>0.577350</td>\n",
       "      <td>0.577350</td>\n",
       "      <td>0.0</td>\n",
       "      <td>0.0</td>\n",
       "      <td>0.00000</td>\n",
       "      <td>0.000000</td>\n",
       "    </tr>\n",
       "    <tr>\n",
       "      <th>doc4</th>\n",
       "      <td>0.000000</td>\n",
       "      <td>0.00000</td>\n",
       "      <td>0.500000</td>\n",
       "      <td>0.50000</td>\n",
       "      <td>0.000000</td>\n",
       "      <td>0.000000</td>\n",
       "      <td>0.5</td>\n",
       "      <td>0.5</td>\n",
       "      <td>0.00000</td>\n",
       "      <td>0.000000</td>\n",
       "    </tr>\n",
       "    <tr>\n",
       "      <th>doc5</th>\n",
       "      <td>0.000000</td>\n",
       "      <td>0.57735</td>\n",
       "      <td>0.000000</td>\n",
       "      <td>0.00000</td>\n",
       "      <td>0.000000</td>\n",
       "      <td>0.000000</td>\n",
       "      <td>0.0</td>\n",
       "      <td>0.0</td>\n",
       "      <td>0.57735</td>\n",
       "      <td>0.577350</td>\n",
       "    </tr>\n",
       "  </tbody>\n",
       "</table>\n",
       "</div>"
      ],
      "text/plain": [
       "            baseball  economics  politics   Europe      Asia    soccer  war  \\\n",
       "Unnamed: 0                                                                    \n",
       "doc1        0.447214    0.00000  0.447214  0.00000  0.447214  0.447214  0.0   \n",
       "doc2        0.000000    0.50000  0.500000  0.50000  0.000000  0.000000  0.0   \n",
       "doc3        0.000000    0.00000  0.000000  0.57735  0.577350  0.577350  0.0   \n",
       "doc4        0.000000    0.00000  0.500000  0.50000  0.000000  0.000000  0.5   \n",
       "doc5        0.000000    0.57735  0.000000  0.00000  0.000000  0.000000  0.0   \n",
       "\n",
       "            security  shopping    family  \n",
       "Unnamed: 0                                \n",
       "doc1             0.0   0.00000  0.447214  \n",
       "doc2             0.5   0.00000  0.000000  \n",
       "doc3             0.0   0.00000  0.000000  \n",
       "doc4             0.5   0.00000  0.000000  \n",
       "doc5             0.0   0.57735  0.577350  "
      ]
     },
     "execution_count": 9,
     "metadata": {},
     "output_type": "execute_result"
    }
   ],
   "source": [
    "norm_docsTopics = docsTopics.apply(lambda doc: doc/np.sqrt(np.sum(doc)),axis=1)\n",
    "norm_docsTopics.head()"
   ]
  },
  {
   "cell_type": "markdown",
   "metadata": {},
   "source": [
    "Lets calculate now the new users' taste vectors and document score predictions:"
   ]
  },
  {
   "cell_type": "code",
   "execution_count": 10,
   "metadata": {},
   "outputs": [
    {
     "name": "stdout",
     "output_type": "stream",
     "text": [
      "New normalised users' taste vectors\n"
     ]
    },
    {
     "data": {
      "text/html": [
       "<div>\n",
       "<style scoped>\n",
       "    .dataframe tbody tr th:only-of-type {\n",
       "        vertical-align: middle;\n",
       "    }\n",
       "\n",
       "    .dataframe tbody tr th {\n",
       "        vertical-align: top;\n",
       "    }\n",
       "\n",
       "    .dataframe thead th {\n",
       "        text-align: right;\n",
       "    }\n",
       "</style>\n",
       "<table border=\"1\" class=\"dataframe\">\n",
       "  <thead>\n",
       "    <tr style=\"text-align: right;\">\n",
       "      <th></th>\n",
       "      <th>User 1</th>\n",
       "      <th>User 2</th>\n",
       "    </tr>\n",
       "  </thead>\n",
       "  <tbody>\n",
       "    <tr>\n",
       "      <th>baseball</th>\n",
       "      <td>1.731671</td>\n",
       "      <td>-1.024564</td>\n",
       "    </tr>\n",
       "    <tr>\n",
       "      <th>economics</th>\n",
       "      <td>-0.947214</td>\n",
       "      <td>1.000000</td>\n",
       "    </tr>\n",
       "    <tr>\n",
       "      <th>politics</th>\n",
       "      <td>-0.500000</td>\n",
       "      <td>1.052786</td>\n",
       "    </tr>\n",
       "    <tr>\n",
       "      <th>Europe</th>\n",
       "      <td>0.207107</td>\n",
       "      <td>1.500000</td>\n",
       "    </tr>\n",
       "    <tr>\n",
       "      <th>Asia</th>\n",
       "      <td>0.000000</td>\n",
       "      <td>-0.447214</td>\n",
       "    </tr>\n",
       "    <tr>\n",
       "      <th>soccer</th>\n",
       "      <td>1.024564</td>\n",
       "      <td>-1.024564</td>\n",
       "    </tr>\n",
       "    <tr>\n",
       "      <th>war</th>\n",
       "      <td>-0.447214</td>\n",
       "      <td>-0.077350</td>\n",
       "    </tr>\n",
       "    <tr>\n",
       "      <th>security</th>\n",
       "      <td>-0.500000</td>\n",
       "      <td>1.500000</td>\n",
       "    </tr>\n",
       "    <tr>\n",
       "      <th>shopping</th>\n",
       "      <td>0.577350</td>\n",
       "      <td>0.000000</td>\n",
       "    </tr>\n",
       "    <tr>\n",
       "      <th>family</th>\n",
       "      <td>0.000000</td>\n",
       "      <td>-0.447214</td>\n",
       "    </tr>\n",
       "  </tbody>\n",
       "</table>\n",
       "</div>"
      ],
      "text/plain": [
       "             User 1    User 2\n",
       "baseball   1.731671 -1.024564\n",
       "economics -0.947214  1.000000\n",
       "politics  -0.500000  1.052786\n",
       "Europe     0.207107  1.500000\n",
       "Asia       0.000000 -0.447214\n",
       "soccer     1.024564 -1.024564\n",
       "war       -0.447214 -0.077350\n",
       "security  -0.500000  1.500000\n",
       "shopping   0.577350  0.000000\n",
       "family     0.000000 -0.447214"
      ]
     },
     "execution_count": 10,
     "metadata": {},
     "output_type": "execute_result"
    }
   ],
   "source": [
    "norm_userTastes = userReviews.apply(lambda col : getTasteVector(col, norm_docsTopics))\n",
    "print(\"New normalised users' taste vectors\")\n",
    "norm_userTastes"
   ]
  },
  {
   "cell_type": "code",
   "execution_count": 11,
   "metadata": {},
   "outputs": [
    {
     "data": {
      "text/html": [
       "<div>\n",
       "<style scoped>\n",
       "    .dataframe tbody tr th:only-of-type {\n",
       "        vertical-align: middle;\n",
       "    }\n",
       "\n",
       "    .dataframe tbody tr th {\n",
       "        vertical-align: top;\n",
       "    }\n",
       "\n",
       "    .dataframe thead th {\n",
       "        text-align: right;\n",
       "    }\n",
       "</style>\n",
       "<table border=\"1\" class=\"dataframe\">\n",
       "  <thead>\n",
       "    <tr style=\"text-align: right;\">\n",
       "      <th></th>\n",
       "      <th>User 1</th>\n",
       "      <th>User 2</th>\n",
       "    </tr>\n",
       "    <tr>\n",
       "      <th>Unnamed: 0</th>\n",
       "      <th></th>\n",
       "      <th></th>\n",
       "    </tr>\n",
       "  </thead>\n",
       "  <tbody>\n",
       "    <tr>\n",
       "      <th>doc1</th>\n",
       "      <td>1.009019</td>\n",
       "      <td>-0.845577</td>\n",
       "    </tr>\n",
       "    <tr>\n",
       "      <th>doc2</th>\n",
       "      <td>-0.870053</td>\n",
       "      <td>2.526393</td>\n",
       "    </tr>\n",
       "    <tr>\n",
       "      <th>doc3</th>\n",
       "      <td>0.711105</td>\n",
       "      <td>0.016294</td>\n",
       "    </tr>\n",
       "    <tr>\n",
       "      <th>doc4</th>\n",
       "      <td>-0.620053</td>\n",
       "      <td>1.987718</td>\n",
       "    </tr>\n",
       "    <tr>\n",
       "      <th>doc5</th>\n",
       "      <td>-0.213541</td>\n",
       "      <td>0.319151</td>\n",
       "    </tr>\n",
       "  </tbody>\n",
       "</table>\n",
       "</div>"
      ],
      "text/plain": [
       "              User 1    User 2\n",
       "Unnamed: 0                    \n",
       "doc1        1.009019 -0.845577\n",
       "doc2       -0.870053  2.526393\n",
       "doc3        0.711105  0.016294\n",
       "doc4       -0.620053  1.987718\n",
       "doc5       -0.213541  0.319151"
      ]
     },
     "execution_count": 11,
     "metadata": {},
     "output_type": "execute_result"
    }
   ],
   "source": [
    "norm_docScores = norm_userTastes.apply(lambda norm_userTastes: getDocScores(norm_userTastes, norm_docsTopics))\n",
    "norm_docScores.head()"
   ]
  },
  {
   "cell_type": "code",
   "execution_count": 12,
   "metadata": {},
   "outputs": [
    {
     "name": "stdout",
     "output_type": "stream",
     "text": [
      "Predicted prefered docs for User 1 by content\n"
     ]
    },
    {
     "data": {
      "text/plain": [
       "Unnamed: 0\n",
       "doc16    1.924646\n",
       "doc6     1.370923\n",
       "doc12    1.333114\n",
       "doc9     1.132724\n",
       "doc1     1.009019\n",
       "Name: User 1, dtype: float64"
      ]
     },
     "execution_count": 12,
     "metadata": {},
     "output_type": "execute_result"
    }
   ],
   "source": [
    "print('Predicted prefered docs for User 1 by content')\n",
    "norm_docScores.sort_values('User 1', ascending=False)['User 1'].head()"
   ]
  },
  {
   "cell_type": "code",
   "execution_count": 13,
   "metadata": {},
   "outputs": [
    {
     "name": "stdout",
     "output_type": "stream",
     "text": [
      "Predicted prefered docs for User 2 by content\n"
     ]
    },
    {
     "data": {
      "text/plain": [
       "Unnamed: 0\n",
       "doc17    2.526393\n",
       "doc2     2.526393\n",
       "doc4     1.987718\n",
       "doc13    1.802786\n",
       "doc14    1.776393\n",
       "Name: User 2, dtype: float64"
      ]
     },
     "execution_count": 13,
     "metadata": {},
     "output_type": "execute_result"
    }
   ],
   "source": [
    "print('Predicted prefered docs for User 2 by content')\n",
    "norm_docScores.sort_values('User 2', ascending=False)['User 2'].head()"
   ]
  },
  {
   "cell_type": "markdown",
   "metadata": {},
   "source": [
    "An interesting change in this normalisation change is on the second position of User 1 list. Before, doc1 and doc12 were tied on 2nd place but now doc1 went to 5th position. If we take a look on the number of total terms in documents 1 and 12: "
   ]
  },
  {
   "cell_type": "code",
   "execution_count": 14,
   "metadata": {},
   "outputs": [
    {
     "data": {
      "text/plain": [
       "Unnamed: 0\n",
       "doc1     5.0\n",
       "doc12    3.0\n",
       "dtype: float64"
      ]
     },
     "execution_count": 14,
     "metadata": {},
     "output_type": "execute_result"
    }
   ],
   "source": [
    "docsTopics.iloc[[0,11],:].sum(axis=1)"
   ]
  },
  {
   "cell_type": "markdown",
   "metadata": {},
   "source": [
    "We see that doc1 has more terms than doc12, making it less valuable when calculation the match between them and the user's taste vector. In the end, doc6 got before doc1 and doc12 when comparing the ranking before and after normalisation. Lets take a look a his number of terms:"
   ]
  },
  {
   "cell_type": "code",
   "execution_count": 15,
   "metadata": {},
   "outputs": [
    {
     "data": {
      "text/plain": [
       "Unnamed: 0\n",
       "doc6    2.0\n",
       "dtype: float64"
      ]
     },
     "execution_count": 15,
     "metadata": {},
     "output_type": "execute_result"
    }
   ],
   "source": [
    "docsTopics.iloc[[5],:].sum(axis=1)"
   ]
  },
  {
   "cell_type": "markdown",
   "metadata": {},
   "source": [
    "So we see that doc6 had only 2 terms and probably these two terms matched also with good numbers on the user's taste vector:"
   ]
  },
  {
   "cell_type": "code",
   "execution_count": 16,
   "metadata": {},
   "outputs": [
    {
     "name": "stdout",
     "output_type": "stream",
     "text": [
      "baseball     0.707107\n",
      "economics    0.000000\n",
      "politics     0.000000\n",
      "Europe       0.707107\n",
      "Asia         0.000000\n",
      "soccer       0.000000\n",
      "war          0.000000\n",
      "security     0.000000\n",
      "shopping     0.000000\n",
      "family       0.000000\n",
      "Name: doc6, dtype: float64\n",
      "             User 1    User 2\n",
      "baseball   1.731671 -1.024564\n",
      "economics -0.947214  1.000000\n",
      "politics  -0.500000  1.052786\n",
      "Europe     0.207107  1.500000\n",
      "Asia       0.000000 -0.447214\n",
      "soccer     1.024564 -1.024564\n",
      "war       -0.447214 -0.077350\n",
      "security  -0.500000  1.500000\n",
      "shopping   0.577350  0.000000\n",
      "family     0.000000 -0.447214\n"
     ]
    }
   ],
   "source": [
    "print(norm_docsTopics.iloc[5,:])\n",
    "print(norm_userTastes)"
   ]
  },
  {
   "cell_type": "markdown",
   "metadata": {},
   "source": [
    "## TD-IDF\n",
    "\n",
    "A more modern approach that has given good results in different recommender systems, and in Information Retrieval in general, is to take into account not only the document relevance, *i.e.*, if it covers too much or few topics, but also consider the topic relevance by itself.\n",
    "\n",
    "By using this, not only it considers if the document *x* covers lots of topics, but also if it covers important topics, *i.e.* only few other documents also cover this topic in specific.\n",
    "\n",
    "The final score for this doc-user matching is going to be:   \n",
    "\n",
    "$$docVector * IDF * tasteVector$$\n",
    "  \n",
    "with $docVector$ being the equivalent of the TF part of the TF-IDF formula and it's finally multiplied by the taste vector in order to consider the user's taste in the process.\n",
    "\n",
    "We already have the normalised doc-topics weights, so lets calculate the IDF of each term. We're going to divide each value from each topic by in how many other documents that same topic appears."
   ]
  },
  {
   "cell_type": "code",
   "execution_count": 17,
   "metadata": {},
   "outputs": [
    {
     "data": {
      "text/plain": [
       "baseball     0.250000\n",
       "economics    0.166667\n",
       "politics     0.100000\n",
       "Europe       0.090909\n",
       "Asia         0.166667\n",
       "soccer       0.166667\n",
       "war          0.142857\n",
       "security     0.166667\n",
       "shopping     0.142857\n",
       "family       0.200000\n",
       "dtype: float64"
      ]
     },
     "execution_count": 17,
     "metadata": {},
     "output_type": "execute_result"
    }
   ],
   "source": [
    "IDF = norm_docsTopics.apply(lambda col: 1/np.sum(col != 0))\n",
    "IDF"
   ]
  },
  {
   "cell_type": "markdown",
   "metadata": {},
   "source": [
    "Lets now calculate the final document-user match scores"
   ]
  },
  {
   "cell_type": "code",
   "execution_count": 18,
   "metadata": {},
   "outputs": [
    {
     "data": {
      "text/html": [
       "<div>\n",
       "<style scoped>\n",
       "    .dataframe tbody tr th:only-of-type {\n",
       "        vertical-align: middle;\n",
       "    }\n",
       "\n",
       "    .dataframe tbody tr th {\n",
       "        vertical-align: top;\n",
       "    }\n",
       "\n",
       "    .dataframe thead th {\n",
       "        text-align: right;\n",
       "    }\n",
       "</style>\n",
       "<table border=\"1\" class=\"dataframe\">\n",
       "  <thead>\n",
       "    <tr style=\"text-align: right;\">\n",
       "      <th></th>\n",
       "      <th>User 1</th>\n",
       "      <th>User 2</th>\n",
       "    </tr>\n",
       "    <tr>\n",
       "      <th>Unnamed: 0</th>\n",
       "      <th></th>\n",
       "      <th></th>\n",
       "    </tr>\n",
       "  </thead>\n",
       "  <tbody>\n",
       "    <tr>\n",
       "      <th>doc1</th>\n",
       "      <td>0.247612</td>\n",
       "      <td>-0.217167</td>\n",
       "    </tr>\n",
       "    <tr>\n",
       "      <th>doc2</th>\n",
       "      <td>-0.136187</td>\n",
       "      <td>0.329154</td>\n",
       "    </tr>\n",
       "    <tr>\n",
       "      <th>doc3</th>\n",
       "      <td>0.109459</td>\n",
       "      <td>-0.062892</td>\n",
       "    </tr>\n",
       "    <tr>\n",
       "      <th>doc4</th>\n",
       "      <td>-0.089197</td>\n",
       "      <td>0.240296</td>\n",
       "    </tr>\n",
       "    <tr>\n",
       "      <th>doc5</th>\n",
       "      <td>-0.043527</td>\n",
       "      <td>0.044585</td>\n",
       "    </tr>\n",
       "  </tbody>\n",
       "</table>\n",
       "</div>"
      ],
      "text/plain": [
       "              User 1    User 2\n",
       "Unnamed: 0                    \n",
       "doc1        0.247612 -0.217167\n",
       "doc2       -0.136187  0.329154\n",
       "doc3        0.109459 -0.062892\n",
       "doc4       -0.089197  0.240296\n",
       "doc5       -0.043527  0.044585"
      ]
     },
     "execution_count": 18,
     "metadata": {},
     "output_type": "execute_result"
    }
   ],
   "source": [
    "def dot_product3(par1, par2, par3):\n",
    "    result = 0\n",
    "    for i in range(len(par1)):\n",
    "        result += par1[i] * par2[i] * par3[i]\n",
    "    return result\n",
    "\n",
    "def TF_IDF_scores(norm_docsTopics, IDF, userTasteVector):   \n",
    "    return norm_docsTopics.apply(lambda row: dot_product3(row, IDF, userTasteVector), axis=1)\n",
    "\n",
    "finalScores = norm_userTastes.apply(lambda userVector: TF_IDF_scores(norm_docsTopics, IDF, userVector))\n",
    "finalScores.head()"
   ]
  },
  {
   "cell_type": "code",
   "execution_count": 19,
   "metadata": {},
   "outputs": [
    {
     "name": "stdout",
     "output_type": "stream",
     "text": [
      "Predicted prefered docs for User 1 by content\n"
     ]
    },
    {
     "data": {
      "text/plain": [
       "Unnamed: 0\n",
       "doc16    0.396153\n",
       "doc6     0.319432\n",
       "doc12    0.311648\n",
       "doc1     0.247612\n",
       "doc9     0.179067\n",
       "Name: User 1, dtype: float64"
      ]
     },
     "execution_count": 19,
     "metadata": {},
     "output_type": "execute_result"
    }
   ],
   "source": [
    "print('Predicted prefered docs for User 1 by content')\n",
    "finalScores.sort_values('User 1', ascending=False)['User 1'].head()"
   ]
  },
  {
   "cell_type": "code",
   "execution_count": 20,
   "metadata": {},
   "outputs": [
    {
     "name": "stdout",
     "output_type": "stream",
     "text": [
      "Predicted prefered docs for User 2 by content\n"
     ]
    },
    {
     "data": {
      "text/plain": [
       "Unnamed: 0\n",
       "doc17    0.329154\n",
       "doc2     0.329154\n",
       "doc4     0.240296\n",
       "doc13    0.208553\n",
       "doc14    0.204154\n",
       "Name: User 2, dtype: float64"
      ]
     },
     "execution_count": 20,
     "metadata": {},
     "output_type": "execute_result"
    }
   ],
   "source": [
    "print('Predicted prefered docs for User 2 by content')\n",
    "finalScores.sort_values('User 2', ascending=False)['User 2'].head()"
   ]
  },
  {
   "cell_type": "markdown",
   "metadata": {},
   "source": [
    "## Final Comparison\n",
    "\n",
    "Lets compare all 3 types of content based filtering and their resulting ranks:"
   ]
  },
  {
   "cell_type": "code",
   "execution_count": 21,
   "metadata": {},
   "outputs": [
    {
     "name": "stdout",
     "output_type": "stream",
     "text": [
      "Final Comparison for User 1\n"
     ]
    },
    {
     "data": {
      "text/html": [
       "<div>\n",
       "<style scoped>\n",
       "    .dataframe tbody tr th:only-of-type {\n",
       "        vertical-align: middle;\n",
       "    }\n",
       "\n",
       "    .dataframe tbody tr th {\n",
       "        vertical-align: top;\n",
       "    }\n",
       "\n",
       "    .dataframe thead th {\n",
       "        text-align: right;\n",
       "    }\n",
       "</style>\n",
       "<table border=\"1\" class=\"dataframe\">\n",
       "  <thead>\n",
       "    <tr style=\"text-align: right;\">\n",
       "      <th></th>\n",
       "      <th>Normal rank</th>\n",
       "      <th>Normal score</th>\n",
       "      <th>Normalised rank</th>\n",
       "      <th>Normalised score</th>\n",
       "      <th>IDF rank</th>\n",
       "      <th>IDF score</th>\n",
       "    </tr>\n",
       "  </thead>\n",
       "  <tbody>\n",
       "    <tr>\n",
       "      <th>0</th>\n",
       "      <td>doc16</td>\n",
       "      <td>6.0</td>\n",
       "      <td>doc16</td>\n",
       "      <td>1.924646</td>\n",
       "      <td>doc16</td>\n",
       "      <td>0.396153</td>\n",
       "    </tr>\n",
       "    <tr>\n",
       "      <th>1</th>\n",
       "      <td>doc1</td>\n",
       "      <td>4.0</td>\n",
       "      <td>doc6</td>\n",
       "      <td>1.370923</td>\n",
       "      <td>doc6</td>\n",
       "      <td>0.319432</td>\n",
       "    </tr>\n",
       "    <tr>\n",
       "      <th>2</th>\n",
       "      <td>doc12</td>\n",
       "      <td>4.0</td>\n",
       "      <td>doc12</td>\n",
       "      <td>1.333114</td>\n",
       "      <td>doc12</td>\n",
       "      <td>0.311648</td>\n",
       "    </tr>\n",
       "    <tr>\n",
       "      <th>3</th>\n",
       "      <td>doc9</td>\n",
       "      <td>3.0</td>\n",
       "      <td>doc9</td>\n",
       "      <td>1.132724</td>\n",
       "      <td>doc1</td>\n",
       "      <td>0.247612</td>\n",
       "    </tr>\n",
       "    <tr>\n",
       "      <th>4</th>\n",
       "      <td>doc6</td>\n",
       "      <td>3.0</td>\n",
       "      <td>doc1</td>\n",
       "      <td>1.009019</td>\n",
       "      <td>doc9</td>\n",
       "      <td>0.179067</td>\n",
       "    </tr>\n",
       "    <tr>\n",
       "      <th>5</th>\n",
       "      <td>doc3</td>\n",
       "      <td>2.0</td>\n",
       "      <td>doc3</td>\n",
       "      <td>0.711105</td>\n",
       "      <td>doc3</td>\n",
       "      <td>0.109459</td>\n",
       "    </tr>\n",
       "    <tr>\n",
       "      <th>6</th>\n",
       "      <td>doc18</td>\n",
       "      <td>1.0</td>\n",
       "      <td>doc18</td>\n",
       "      <td>0.554695</td>\n",
       "      <td>doc18</td>\n",
       "      <td>0.071635</td>\n",
       "    </tr>\n",
       "    <tr>\n",
       "      <th>7</th>\n",
       "      <td>doc15</td>\n",
       "      <td>0.0</td>\n",
       "      <td>doc15</td>\n",
       "      <td>0.142229</td>\n",
       "      <td>doc15</td>\n",
       "      <td>0.021184</td>\n",
       "    </tr>\n",
       "    <tr>\n",
       "      <th>8</th>\n",
       "      <td>doc11</td>\n",
       "      <td>0.0</td>\n",
       "      <td>doc11</td>\n",
       "      <td>0.044658</td>\n",
       "      <td>doc11</td>\n",
       "      <td>0.018752</td>\n",
       "    </tr>\n",
       "    <tr>\n",
       "      <th>9</th>\n",
       "      <td>doc7</td>\n",
       "      <td>-1.0</td>\n",
       "      <td>doc20</td>\n",
       "      <td>-0.081378</td>\n",
       "      <td>doc20</td>\n",
       "      <td>-0.006291</td>\n",
       "    </tr>\n",
       "  </tbody>\n",
       "</table>\n",
       "</div>"
      ],
      "text/plain": [
       "  Normal rank  Normal score Normalised rank  Normalised score IDF rank  \\\n",
       "0       doc16           6.0           doc16          1.924646    doc16   \n",
       "1        doc1           4.0            doc6          1.370923     doc6   \n",
       "2       doc12           4.0           doc12          1.333114    doc12   \n",
       "3        doc9           3.0            doc9          1.132724     doc1   \n",
       "4        doc6           3.0            doc1          1.009019     doc9   \n",
       "5        doc3           2.0            doc3          0.711105     doc3   \n",
       "6       doc18           1.0           doc18          0.554695    doc18   \n",
       "7       doc15           0.0           doc15          0.142229    doc15   \n",
       "8       doc11           0.0           doc11          0.044658    doc11   \n",
       "9        doc7          -1.0           doc20         -0.081378    doc20   \n",
       "\n",
       "   IDF score  \n",
       "0   0.396153  \n",
       "1   0.319432  \n",
       "2   0.311648  \n",
       "3   0.247612  \n",
       "4   0.179067  \n",
       "5   0.109459  \n",
       "6   0.071635  \n",
       "7   0.021184  \n",
       "8   0.018752  \n",
       "9  -0.006291  "
      ]
     },
     "execution_count": 21,
     "metadata": {},
     "output_type": "execute_result"
    }
   ],
   "source": [
    "print('Final Comparison for User 1')\n",
    "m1 = docScores.sort_values('User 1', ascending=False)['User 1'].head(10)\n",
    "m2 = norm_docScores.sort_values('User 1', ascending=False)['User 1'].head(10)\n",
    "m3 = finalScores.sort_values('User 1', ascending=False)['User 1'].head(10)\n",
    "finalDFUser1 = pd.DataFrame({'Normal rank':m1.index, 'Normal score':m1.values,\n",
    "                            'Normalised rank':m2.index, 'Normalised score':m2.values,\n",
    "                            'IDF rank':m3.index, 'IDF score':m3.values})\n",
    "finalDFUser1 = finalDFUser1[['Normal rank','Normal score',\n",
    "                            'Normalised rank', 'Normalised score',\n",
    "                            'IDF rank', 'IDF score']]\n",
    "finalDFUser1"
   ]
  },
  {
   "cell_type": "code",
   "execution_count": 22,
   "metadata": {
    "scrolled": true
   },
   "outputs": [
    {
     "name": "stdout",
     "output_type": "stream",
     "text": [
      "Final Comparison for User 2\n"
     ]
    },
    {
     "data": {
      "text/html": [
       "<div>\n",
       "<style scoped>\n",
       "    .dataframe tbody tr th:only-of-type {\n",
       "        vertical-align: middle;\n",
       "    }\n",
       "\n",
       "    .dataframe tbody tr th {\n",
       "        vertical-align: top;\n",
       "    }\n",
       "\n",
       "    .dataframe thead th {\n",
       "        text-align: right;\n",
       "    }\n",
       "</style>\n",
       "<table border=\"1\" class=\"dataframe\">\n",
       "  <thead>\n",
       "    <tr style=\"text-align: right;\">\n",
       "      <th></th>\n",
       "      <th>Normal rank</th>\n",
       "      <th>Normal score</th>\n",
       "      <th>Normalised rank</th>\n",
       "      <th>Normalised score</th>\n",
       "      <th>IDF rank</th>\n",
       "      <th>IDF score</th>\n",
       "    </tr>\n",
       "  </thead>\n",
       "  <tbody>\n",
       "    <tr>\n",
       "      <th>0</th>\n",
       "      <td>doc17</td>\n",
       "      <td>10.0</td>\n",
       "      <td>doc17</td>\n",
       "      <td>2.526393</td>\n",
       "      <td>doc17</td>\n",
       "      <td>0.329154</td>\n",
       "    </tr>\n",
       "    <tr>\n",
       "      <th>1</th>\n",
       "      <td>doc2</td>\n",
       "      <td>10.0</td>\n",
       "      <td>doc2</td>\n",
       "      <td>2.526393</td>\n",
       "      <td>doc2</td>\n",
       "      <td>0.329154</td>\n",
       "    </tr>\n",
       "    <tr>\n",
       "      <th>2</th>\n",
       "      <td>doc4</td>\n",
       "      <td>8.0</td>\n",
       "      <td>doc4</td>\n",
       "      <td>1.987718</td>\n",
       "      <td>doc4</td>\n",
       "      <td>0.240296</td>\n",
       "    </tr>\n",
       "    <tr>\n",
       "      <th>3</th>\n",
       "      <td>doc13</td>\n",
       "      <td>7.0</td>\n",
       "      <td>doc13</td>\n",
       "      <td>1.802786</td>\n",
       "      <td>doc13</td>\n",
       "      <td>0.208553</td>\n",
       "    </tr>\n",
       "    <tr>\n",
       "      <th>4</th>\n",
       "      <td>doc14</td>\n",
       "      <td>7.0</td>\n",
       "      <td>doc14</td>\n",
       "      <td>1.776393</td>\n",
       "      <td>doc14</td>\n",
       "      <td>0.204154</td>\n",
       "    </tr>\n",
       "    <tr>\n",
       "      <th>5</th>\n",
       "      <td>doc20</td>\n",
       "      <td>5.0</td>\n",
       "      <td>doc20</td>\n",
       "      <td>1.237718</td>\n",
       "      <td>doc20</td>\n",
       "      <td>0.115296</td>\n",
       "    </tr>\n",
       "    <tr>\n",
       "      <th>6</th>\n",
       "      <td>doc8</td>\n",
       "      <td>4.0</td>\n",
       "      <td>doc18</td>\n",
       "      <td>1.060660</td>\n",
       "      <td>doc7</td>\n",
       "      <td>0.113531</td>\n",
       "    </tr>\n",
       "    <tr>\n",
       "      <th>7</th>\n",
       "      <td>doc15</td>\n",
       "      <td>4.0</td>\n",
       "      <td>doc8</td>\n",
       "      <td>1.014111</td>\n",
       "      <td>doc15</td>\n",
       "      <td>0.102276</td>\n",
       "    </tr>\n",
       "    <tr>\n",
       "      <th>8</th>\n",
       "      <td>doc18</td>\n",
       "      <td>3.0</td>\n",
       "      <td>doc15</td>\n",
       "      <td>0.949043</td>\n",
       "      <td>doc18</td>\n",
       "      <td>0.096424</td>\n",
       "    </tr>\n",
       "    <tr>\n",
       "      <th>9</th>\n",
       "      <td>doc19</td>\n",
       "      <td>2.0</td>\n",
       "      <td>doc7</td>\n",
       "      <td>0.744432</td>\n",
       "      <td>doc8</td>\n",
       "      <td>0.070575</td>\n",
       "    </tr>\n",
       "  </tbody>\n",
       "</table>\n",
       "</div>"
      ],
      "text/plain": [
       "  Normal rank  Normal score Normalised rank  Normalised score IDF rank  \\\n",
       "0       doc17          10.0           doc17          2.526393    doc17   \n",
       "1        doc2          10.0            doc2          2.526393     doc2   \n",
       "2        doc4           8.0            doc4          1.987718     doc4   \n",
       "3       doc13           7.0           doc13          1.802786    doc13   \n",
       "4       doc14           7.0           doc14          1.776393    doc14   \n",
       "5       doc20           5.0           doc20          1.237718    doc20   \n",
       "6        doc8           4.0           doc18          1.060660     doc7   \n",
       "7       doc15           4.0            doc8          1.014111    doc15   \n",
       "8       doc18           3.0           doc15          0.949043    doc18   \n",
       "9       doc19           2.0            doc7          0.744432     doc8   \n",
       "\n",
       "   IDF score  \n",
       "0   0.329154  \n",
       "1   0.329154  \n",
       "2   0.240296  \n",
       "3   0.208553  \n",
       "4   0.204154  \n",
       "5   0.115296  \n",
       "6   0.113531  \n",
       "7   0.102276  \n",
       "8   0.096424  \n",
       "9   0.070575  "
      ]
     },
     "execution_count": 22,
     "metadata": {},
     "output_type": "execute_result"
    }
   ],
   "source": [
    "print('Final Comparison for User 2')\n",
    "m1 = docScores.sort_values('User 2', ascending=False)['User 2'].head(10)\n",
    "m2 = norm_docScores.sort_values('User 2', ascending=False)['User 2'].head(10)\n",
    "m3 = finalScores.sort_values('User 2', ascending=False)['User 2'].head(10)\n",
    "finalDFUser1 = pd.DataFrame({'Normal rank':m1.index, 'Normal score':m1.values,\n",
    "                            'Normalised rank':m2.index, 'Normalised score':m2.values,\n",
    "                            'IDF rank':m3.index, 'IDF score':m3.values})\n",
    "finalDFUser1 = finalDFUser1[['Normal rank','Normal score',\n",
    "                            'Normalised rank', 'Normalised score',\n",
    "                            'IDF rank', 'IDF score']]\n",
    "finalDFUser1"
   ]
  },
  {
   "cell_type": "markdown",
   "metadata": {},
   "source": [
    "On user 1, we can see two documents who changed place in terms of importance after we used the different algorithms. Doc 6 was in 5th place using the basic (first) algorithm but it changed to a 2nd place after considering document and term importances.  The interpretation here is that probably the document covers only a few topics, but besides matching well with the user's taste, it also covers very specific topics, that few other documents cover.\n",
    "\n",
    "On the inverted direction, doc1 had a good position using the first filter, but it wen down after we normalised and used IDF in the next filterings. This situation shows a document with a reasonable number of topics, which artifically create a 'match' with the user's taste vector in the beggining but, after accounting for document specificity and term importance, lots of the values for the topics inside this documents probably went down, bringing it to a lower rank in overall."
   ]
  }
 ],
 "metadata": {
  "kernelspec": {
   "display_name": "Python 3",
   "language": "python",
   "name": "python3"
  },
  "language_info": {
   "codemirror_mode": {
    "name": "ipython",
    "version": 3
   },
   "file_extension": ".py",
   "mimetype": "text/x-python",
   "name": "python",
   "nbconvert_exporter": "python",
   "pygments_lexer": "ipython3",
   "version": "3.6.4"
  },
  "toc": {
   "base_numbering": 1,
   "nav_menu": {},
   "number_sections": true,
   "sideBar": true,
   "skip_h1_title": false,
   "title_cell": "Table of Contents",
   "title_sidebar": "Contents",
   "toc_cell": false,
   "toc_position": {},
   "toc_section_display": true,
   "toc_window_display": false
  }
 },
 "nbformat": 4,
 "nbformat_minor": 2
}
