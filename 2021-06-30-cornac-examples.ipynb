{
  "nbformat": 4,
  "nbformat_minor": 0,
  "metadata": {
    "colab": {
      "name": "2021-06-30-cornac-examples.ipynb",
      "provenance": [],
      "collapsed_sections": [],
      "toc_visible": true,
      "authorship_tag": "ABX9TyNSLrNdyHBXdjpFnrda/Lip"
    },
    "kernelspec": {
      "name": "python3",
      "display_name": "Python 3"
    },
    "language_info": {
      "name": "python"
    }
  },
  "cells": [
    {
      "cell_type": "markdown",
      "metadata": {
        "id": "xyM7qLhOvaBn"
      },
      "source": [
        "# Cornac Examples\n",
        "> Multiple examples showcasing the features of cornac library and recommender concepts\n",
        "\n",
        "- toc: true\n",
        "- badges: true\n",
        "- comments: true\n",
        "- categories: [Cornac]\n",
        "- author: \"<a href='https://nbviewer.jupyter.org/github/PreferredAI/tutorials/tree/master/recommender-systems/'>Cornac</a>\"\n",
        "- image:"
      ]
    },
    {
      "cell_type": "code",
      "metadata": {
        "colab": {
          "base_uri": "https://localhost:8080/"
        },
        "id": "2Rb7rRglxsAC",
        "outputId": "a666ec2f-ded8-4cc8-a31e-76cc03145461"
      },
      "source": [
        "!pip install -q -U cornac"
      ],
      "execution_count": null,
      "outputs": [
        {
          "output_type": "stream",
          "text": [
            "\u001b[K     |████████████████████████████████| 13.4MB 194kB/s \n",
            "\u001b[?25h"
          ],
          "name": "stdout"
        }
      ]
    },
    {
      "cell_type": "code",
      "metadata": {
        "colab": {
          "base_uri": "https://localhost:8080/",
          "height": 35
        },
        "id": "HBScIcOWx_IC",
        "outputId": "6e1d5e1e-3771-41a7-fe60-03f562b67ac3"
      },
      "source": [
        "import cornac\n",
        "cornac.__version__"
      ],
      "execution_count": null,
      "outputs": [
        {
          "output_type": "execute_result",
          "data": {
            "application/vnd.google.colaboratory.intrinsic+json": {
              "type": "string"
            },
            "text/plain": [
              "'1.4.1'"
            ]
          },
          "metadata": {
            "tags": []
          },
          "execution_count": 21
        }
      ]
    },
    {
      "cell_type": "code",
      "metadata": {
        "id": "N8w-V8wpClul"
      },
      "source": [
        "import os\n",
        "import sys\n",
        "\n",
        "import numpy as np\n",
        "import pandas as pd\n",
        "import matplotlib.pyplot as plt\n",
        "import seaborn as sns\n",
        "from scipy import stats, sparse\n",
        "\n",
        "from cornac.data import Reader\n",
        "from cornac.datasets import movielens\n",
        "from cornac.eval_methods import RatioSplit\n",
        "from cornac.models import UserKNN, ItemKNN\n",
        "from cornac.models import MF, NMF, BaselineOnly\n",
        "from cornac.models import BPR, WMF\n",
        "from cornac.models import GMF, MLP, NeuMF, VAECF, WMF\n",
        "\n",
        "%tensorflow_version 1.x"
      ],
      "execution_count": null,
      "outputs": []
    },
    {
      "cell_type": "markdown",
      "metadata": {
        "id": "T3B_RqHdCgJH"
      },
      "source": [
        "## EDA"
      ]
    },
    {
      "cell_type": "code",
      "metadata": {
        "colab": {
          "base_uri": "https://localhost:8080/"
        },
        "id": "MVvs4_AqBtlN",
        "outputId": "94e578f3-02b4-455f-f16c-ed08e993e741"
      },
      "source": [
        "df_100k3 = pd.read_csv('./data/ml-100k/ratings.csv',\n",
        "                 usecols=[\"UserId\",\"MovieId\",\"Rating\"])\n",
        "df_100k3.columns = [\"user_id\", \"item_id\", \"rating\"]\n",
        "df_100k3.head()"
      ],
      "execution_count": null,
      "outputs": [
        {
          "output_type": "execute_result",
          "data": {
            "text/html": [
              "<div>\n",
              "<style scoped>\n",
              "    .dataframe tbody tr th:only-of-type {\n",
              "        vertical-align: middle;\n",
              "    }\n",
              "\n",
              "    .dataframe tbody tr th {\n",
              "        vertical-align: top;\n",
              "    }\n",
              "\n",
              "    .dataframe thead th {\n",
              "        text-align: right;\n",
              "    }\n",
              "</style>\n",
              "<table border=\"1\" class=\"dataframe\">\n",
              "  <thead>\n",
              "    <tr style=\"text-align: right;\">\n",
              "      <th></th>\n",
              "      <th>user_id</th>\n",
              "      <th>item_id</th>\n",
              "      <th>rating</th>\n",
              "    </tr>\n",
              "  </thead>\n",
              "  <tbody>\n",
              "    <tr>\n",
              "      <th>0</th>\n",
              "      <td>196</td>\n",
              "      <td>242</td>\n",
              "      <td>3.0</td>\n",
              "    </tr>\n",
              "    <tr>\n",
              "      <th>1</th>\n",
              "      <td>186</td>\n",
              "      <td>302</td>\n",
              "      <td>3.0</td>\n",
              "    </tr>\n",
              "    <tr>\n",
              "      <th>2</th>\n",
              "      <td>22</td>\n",
              "      <td>377</td>\n",
              "      <td>1.0</td>\n",
              "    </tr>\n",
              "    <tr>\n",
              "      <th>3</th>\n",
              "      <td>244</td>\n",
              "      <td>51</td>\n",
              "      <td>2.0</td>\n",
              "    </tr>\n",
              "    <tr>\n",
              "      <th>4</th>\n",
              "      <td>166</td>\n",
              "      <td>346</td>\n",
              "      <td>1.0</td>\n",
              "    </tr>\n",
              "  </tbody>\n",
              "</table>\n",
              "</div>"
            ],
            "text/plain": [
              "   user_id  item_id  rating\n",
              "0      196      242     3.0\n",
              "1      186      302     3.0\n",
              "2       22      377     1.0\n",
              "3      244       51     2.0\n",
              "4      166      346     1.0"
            ]
          },
          "metadata": {
            "tags": []
          },
          "execution_count": 46
        }
      ]
    },
    {
      "cell_type": "code",
      "metadata": {
        "colab": {
          "base_uri": "https://localhost:8080/"
        },
        "id": "9jsrpWuNWUEl",
        "outputId": "9f8eed9f-389f-4b39-bdad-fc13c04aeaec"
      },
      "source": [
        "df_user_100k = pd.read_csv('./data/ml-100k/users.csv').set_index(\"UserID\")\n",
        "df_user_100k.head()"
      ],
      "execution_count": null,
      "outputs": [
        {
          "output_type": "execute_result",
          "data": {
            "text/html": [
              "<div>\n",
              "<style scoped>\n",
              "    .dataframe tbody tr th:only-of-type {\n",
              "        vertical-align: middle;\n",
              "    }\n",
              "\n",
              "    .dataframe tbody tr th {\n",
              "        vertical-align: top;\n",
              "    }\n",
              "\n",
              "    .dataframe thead th {\n",
              "        text-align: right;\n",
              "    }\n",
              "</style>\n",
              "<table border=\"1\" class=\"dataframe\">\n",
              "  <thead>\n",
              "    <tr style=\"text-align: right;\">\n",
              "      <th></th>\n",
              "      <th>Age</th>\n",
              "      <th>Gender</th>\n",
              "      <th>Occupation</th>\n",
              "      <th>Zip Code</th>\n",
              "    </tr>\n",
              "    <tr>\n",
              "      <th>UserID</th>\n",
              "      <th></th>\n",
              "      <th></th>\n",
              "      <th></th>\n",
              "      <th></th>\n",
              "    </tr>\n",
              "  </thead>\n",
              "  <tbody>\n",
              "    <tr>\n",
              "      <th>1</th>\n",
              "      <td>24</td>\n",
              "      <td>M</td>\n",
              "      <td>technician</td>\n",
              "      <td>85711</td>\n",
              "    </tr>\n",
              "    <tr>\n",
              "      <th>2</th>\n",
              "      <td>53</td>\n",
              "      <td>F</td>\n",
              "      <td>other</td>\n",
              "      <td>94043</td>\n",
              "    </tr>\n",
              "    <tr>\n",
              "      <th>3</th>\n",
              "      <td>23</td>\n",
              "      <td>M</td>\n",
              "      <td>writer</td>\n",
              "      <td>32067</td>\n",
              "    </tr>\n",
              "    <tr>\n",
              "      <th>4</th>\n",
              "      <td>24</td>\n",
              "      <td>M</td>\n",
              "      <td>technician</td>\n",
              "      <td>43537</td>\n",
              "    </tr>\n",
              "    <tr>\n",
              "      <th>5</th>\n",
              "      <td>33</td>\n",
              "      <td>F</td>\n",
              "      <td>other</td>\n",
              "      <td>15213</td>\n",
              "    </tr>\n",
              "  </tbody>\n",
              "</table>\n",
              "</div>"
            ],
            "text/plain": [
              "        Age Gender  Occupation Zip Code\n",
              "UserID                                 \n",
              "1        24      M  technician    85711\n",
              "2        53      F       other    94043\n",
              "3        23      M      writer    32067\n",
              "4        24      M  technician    43537\n",
              "5        33      F       other    15213"
            ]
          },
          "metadata": {
            "tags": []
          },
          "execution_count": 47
        }
      ]
    },
    {
      "cell_type": "code",
      "metadata": {
        "colab": {
          "base_uri": "https://localhost:8080/"
        },
        "id": "p64287nKYYpa",
        "outputId": "be08472f-377f-4ab4-88f3-2b915e56cfbe"
      },
      "source": [
        "df_item_100k = pd.read_csv('./data/ml-100k/items.csv').set_index(\"ItemID\").drop(columns=[\"Video Release Date\", \"IMDb URL\", \"unknown\"])\n",
        "df_item_100k.head()"
      ],
      "execution_count": null,
      "outputs": [
        {
          "output_type": "execute_result",
          "data": {
            "text/html": [
              "<div>\n",
              "<style scoped>\n",
              "    .dataframe tbody tr th:only-of-type {\n",
              "        vertical-align: middle;\n",
              "    }\n",
              "\n",
              "    .dataframe tbody tr th {\n",
              "        vertical-align: top;\n",
              "    }\n",
              "\n",
              "    .dataframe thead th {\n",
              "        text-align: right;\n",
              "    }\n",
              "</style>\n",
              "<table border=\"1\" class=\"dataframe\">\n",
              "  <thead>\n",
              "    <tr style=\"text-align: right;\">\n",
              "      <th></th>\n",
              "      <th>Title</th>\n",
              "      <th>Release Date</th>\n",
              "      <th>Action</th>\n",
              "      <th>Adventure</th>\n",
              "      <th>Animation</th>\n",
              "      <th>Children's</th>\n",
              "      <th>Comedy</th>\n",
              "      <th>Crime</th>\n",
              "      <th>Documentary</th>\n",
              "      <th>Drama</th>\n",
              "      <th>Fantasy</th>\n",
              "      <th>Film-Noir</th>\n",
              "      <th>Horror</th>\n",
              "      <th>Musical</th>\n",
              "      <th>Mystery</th>\n",
              "      <th>Romance</th>\n",
              "      <th>Sci-Fi</th>\n",
              "      <th>Thriller</th>\n",
              "      <th>War</th>\n",
              "      <th>Western</th>\n",
              "    </tr>\n",
              "    <tr>\n",
              "      <th>ItemID</th>\n",
              "      <th></th>\n",
              "      <th></th>\n",
              "      <th></th>\n",
              "      <th></th>\n",
              "      <th></th>\n",
              "      <th></th>\n",
              "      <th></th>\n",
              "      <th></th>\n",
              "      <th></th>\n",
              "      <th></th>\n",
              "      <th></th>\n",
              "      <th></th>\n",
              "      <th></th>\n",
              "      <th></th>\n",
              "      <th></th>\n",
              "      <th></th>\n",
              "      <th></th>\n",
              "      <th></th>\n",
              "      <th></th>\n",
              "      <th></th>\n",
              "    </tr>\n",
              "  </thead>\n",
              "  <tbody>\n",
              "    <tr>\n",
              "      <th>1</th>\n",
              "      <td>Toy Story (1995)</td>\n",
              "      <td>01-Jan-1995</td>\n",
              "      <td>0</td>\n",
              "      <td>0</td>\n",
              "      <td>1</td>\n",
              "      <td>1</td>\n",
              "      <td>1</td>\n",
              "      <td>0</td>\n",
              "      <td>0</td>\n",
              "      <td>0</td>\n",
              "      <td>0</td>\n",
              "      <td>0</td>\n",
              "      <td>0</td>\n",
              "      <td>0</td>\n",
              "      <td>0</td>\n",
              "      <td>0</td>\n",
              "      <td>0</td>\n",
              "      <td>0</td>\n",
              "      <td>0</td>\n",
              "      <td>0</td>\n",
              "    </tr>\n",
              "    <tr>\n",
              "      <th>2</th>\n",
              "      <td>GoldenEye (1995)</td>\n",
              "      <td>01-Jan-1995</td>\n",
              "      <td>1</td>\n",
              "      <td>1</td>\n",
              "      <td>0</td>\n",
              "      <td>0</td>\n",
              "      <td>0</td>\n",
              "      <td>0</td>\n",
              "      <td>0</td>\n",
              "      <td>0</td>\n",
              "      <td>0</td>\n",
              "      <td>0</td>\n",
              "      <td>0</td>\n",
              "      <td>0</td>\n",
              "      <td>0</td>\n",
              "      <td>0</td>\n",
              "      <td>0</td>\n",
              "      <td>1</td>\n",
              "      <td>0</td>\n",
              "      <td>0</td>\n",
              "    </tr>\n",
              "    <tr>\n",
              "      <th>3</th>\n",
              "      <td>Four Rooms (1995)</td>\n",
              "      <td>01-Jan-1995</td>\n",
              "      <td>0</td>\n",
              "      <td>0</td>\n",
              "      <td>0</td>\n",
              "      <td>0</td>\n",
              "      <td>0</td>\n",
              "      <td>0</td>\n",
              "      <td>0</td>\n",
              "      <td>0</td>\n",
              "      <td>0</td>\n",
              "      <td>0</td>\n",
              "      <td>0</td>\n",
              "      <td>0</td>\n",
              "      <td>0</td>\n",
              "      <td>0</td>\n",
              "      <td>0</td>\n",
              "      <td>1</td>\n",
              "      <td>0</td>\n",
              "      <td>0</td>\n",
              "    </tr>\n",
              "    <tr>\n",
              "      <th>4</th>\n",
              "      <td>Get Shorty (1995)</td>\n",
              "      <td>01-Jan-1995</td>\n",
              "      <td>1</td>\n",
              "      <td>0</td>\n",
              "      <td>0</td>\n",
              "      <td>0</td>\n",
              "      <td>1</td>\n",
              "      <td>0</td>\n",
              "      <td>0</td>\n",
              "      <td>1</td>\n",
              "      <td>0</td>\n",
              "      <td>0</td>\n",
              "      <td>0</td>\n",
              "      <td>0</td>\n",
              "      <td>0</td>\n",
              "      <td>0</td>\n",
              "      <td>0</td>\n",
              "      <td>0</td>\n",
              "      <td>0</td>\n",
              "      <td>0</td>\n",
              "    </tr>\n",
              "    <tr>\n",
              "      <th>5</th>\n",
              "      <td>Copycat (1995)</td>\n",
              "      <td>01-Jan-1995</td>\n",
              "      <td>0</td>\n",
              "      <td>0</td>\n",
              "      <td>0</td>\n",
              "      <td>0</td>\n",
              "      <td>0</td>\n",
              "      <td>1</td>\n",
              "      <td>0</td>\n",
              "      <td>1</td>\n",
              "      <td>0</td>\n",
              "      <td>0</td>\n",
              "      <td>0</td>\n",
              "      <td>0</td>\n",
              "      <td>0</td>\n",
              "      <td>0</td>\n",
              "      <td>0</td>\n",
              "      <td>1</td>\n",
              "      <td>0</td>\n",
              "      <td>0</td>\n",
              "    </tr>\n",
              "  </tbody>\n",
              "</table>\n",
              "</div>"
            ],
            "text/plain": [
              "                    Title Release Date  Action  ...  Thriller  War  Western\n",
              "ItemID                                          ...                        \n",
              "1        Toy Story (1995)  01-Jan-1995       0  ...         0    0        0\n",
              "2        GoldenEye (1995)  01-Jan-1995       1  ...         1    0        0\n",
              "3       Four Rooms (1995)  01-Jan-1995       0  ...         1    0        0\n",
              "4       Get Shorty (1995)  01-Jan-1995       1  ...         0    0        0\n",
              "5          Copycat (1995)  01-Jan-1995       0  ...         1    0        0\n",
              "\n",
              "[5 rows x 20 columns]"
            ]
          },
          "metadata": {
            "tags": []
          },
          "execution_count": 48
        }
      ]
    },
    {
      "cell_type": "markdown",
      "metadata": {
        "id": "kWs2vodx_bU-"
      },
      "source": [
        "Rating distribution"
      ]
    },
    {
      "cell_type": "code",
      "metadata": {
        "colab": {
          "base_uri": "https://localhost:8080/",
          "height": 351
        },
        "id": "LmOzwRWPmSiK",
        "outputId": "333733cb-9d03-4c09-98f8-268083ebc225"
      },
      "source": [
        "fig, axes = plt.subplots(nrows=1, ncols=2, figsize=(14, 5))\n",
        "sns.countplot(x=\"rating\", data=df, palette=\"ch:.25\", ax=axes[0])\n",
        "sns.boxplot(x=\"rating\", data=df, palette=\"ch:.25\", ax=axes[1])"
      ],
      "execution_count": null,
      "outputs": [
        {
          "output_type": "execute_result",
          "data": {
            "text/plain": [
              "<matplotlib.axes._subplots.AxesSubplot at 0x7fe392c6e8d0>"
            ]
          },
          "metadata": {
            "tags": []
          },
          "execution_count": 15
        },
        {
          "output_type": "display_data",
          "data": {
            "image/png": "[encoded data removed]",
            "text/plain": [
              "<Figure size 1008x360 with 2 Axes>"
            ]
          },
          "metadata": {
            "tags": [],
            "needs_background": "light"
          }
        }
      ]
    },
    {
      "cell_type": "markdown",
      "metadata": {
        "id": "Myv9wawVn0Ez"
      },
      "source": [
        "Sparsity"
      ]
    },
    {
      "cell_type": "code",
      "metadata": {
        "colab": {
          "base_uri": "https://localhost:8080/"
        },
        "id": "92tt9AMlnRpV",
        "outputId": "f4931224-9e20-4750-df64-2dd3062de4dc"
      },
      "source": [
        "def print_sparsity(df):\n",
        "  n_users = df.user_id.nunique()\n",
        "  n_items = df.item_id.nunique()\n",
        "  n_ratings = len(df)\n",
        "  rating_matrix_size = n_users * n_items\n",
        "  sparsity = 1 - n_ratings / rating_matrix_size\n",
        "\n",
        "  print(f\"Number of users: {n_users}\")\n",
        "  print(f\"Number of items: {n_items}\")\n",
        "  print(f\"Number of available ratings: {n_ratings}\")\n",
        "  print(f\"Number of all possible ratings: {rating_matrix_size}\")\n",
        "  print(\"-\" * 40)\n",
        "  print(f\"SPARSITY: {sparsity * 100.0:.2f}%\")\n",
        "\n",
        "print_sparsity(df_100k3)"
      ],
      "execution_count": null,
      "outputs": [
        {
          "output_type": "stream",
          "text": [
            "Number of users: 943\n",
            "Number of items: 1682\n",
            "Number of available ratings: 100000\n",
            "Number of all possible ratings: 1586126\n",
            "----------------------------------------\n",
            "SPARSITY: 93.70%\n"
          ],
          "name": "stdout"
        }
      ]
    },
    {
      "cell_type": "markdown",
      "metadata": {
        "id": "t2vfDKIhDXLJ"
      },
      "source": [
        "For this MovieLens dataset, the data has been prepared in such a way that each user has at least 20 ratings. As a result, it's relatively dense as compared to many other recommendation datasets that are usually much sparser (often 99% or more)."
      ]
    },
    {
      "cell_type": "markdown",
      "metadata": {
        "id": "TJDj2NvWn26D"
      },
      "source": [
        "Power Law Distribution"
      ]
    },
    {
      "cell_type": "code",
      "metadata": {
        "id": "tGIE5hqEDH0H"
      },
      "source": [
        "item_rate_count = df_100k3.groupby(\"item_id\")[\"user_id\"].nunique().sort_values(ascending=False)"
      ],
      "execution_count": null,
      "outputs": []
    },
    {
      "cell_type": "code",
      "metadata": {
        "colab": {
          "base_uri": "https://localhost:8080/",
          "height": 350
        },
        "id": "W-npg0h7nkbK",
        "outputId": "680a2175-a119-4bd6-a8b2-86e818d7b4f8"
      },
      "source": [
        "fig, axes = plt.subplots(nrows=1, ncols=2, figsize=(14, 5))\n",
        "axes[0].bar(x=item_rate_count.index, height=item_rate_count.values, width=1.0, align=\"edge\")\n",
        "axes[0].set_xticks([])\n",
        "axes[0].set(title=\"long tail of rating frequency\", \n",
        "            xlabel=\"item ordered by decreasing frequency\", \n",
        "            ylabel=\"#ratings\")\n",
        "\n",
        "count = item_rate_count.value_counts()\n",
        "sns.scatterplot(x=np.log(count.index), y=np.log(count.values), ax=axes[1])\n",
        "axes[1].set(title=\"log-log plot\", xlabel=\"#ratings (log scale)\", ylabel=\"#items (log scale)\");"
      ],
      "execution_count": null,
      "outputs": [
        {
          "output_type": "display_data",
          "data": {
            "image/png": "[encoded data removed]",
            "text/plain": [
              "<Figure size 1008x360 with 2 Axes>"
            ]
          },
          "metadata": {
            "tags": [],
            "needs_background": "light"
          }
        }
      ]
    },
    {
      "cell_type": "markdown",
      "metadata": {
        "id": "8vfKryGTZO-n"
      },
      "source": [
        "User profiling"
      ]
    },
    {
      "cell_type": "code",
      "metadata": {
        "colab": {
          "base_uri": "https://localhost:8080/"
        },
        "id": "7KQyjHkIeA1N",
        "outputId": "78dffbbe-8760-46ce-82a0-3a78924e4747"
      },
      "source": [
        "dataset = cornac.data.Dataset.from_uir(df.itertuples(index=False))\n",
        "uknn_pearson = UserKNN(k=50, similarity=\"pearson\", name=\"UserKNN-Pearson\", verbose=False).fit(dataset)\n",
        "\n",
        "uknn_pearson.train_set.uid_map[1]"
      ],
      "execution_count": null,
      "outputs": [
        {
          "output_type": "execute_result",
          "data": {
            "text/plain": [
              "118"
            ]
          },
          "metadata": {
            "tags": []
          },
          "execution_count": 41
        }
      ]
    },
    {
      "cell_type": "code",
      "metadata": {
        "colab": {
          "base_uri": "https://localhost:8080/"
        },
        "id": "JIOlW8t3ZQp6",
        "outputId": "441114a9-b41c-4de7-8431-4327cd9be077"
      },
      "source": [
        "def user_profiling(UID, df, user_df, item_df, TOPK=5):\n",
        "  dataset = cornac.data.Dataset.from_uir(df.itertuples(index=False))\n",
        "  uknn_pearson = UserKNN(k=50, similarity=\"pearson\", name=\"UserKNN-Pearson\", verbose=False).fit(dataset)\n",
        "\n",
        "  rating_mat = uknn_pearson.train_set.matrix\n",
        "  user_id2idx = uknn_pearson.train_set.uid_map\n",
        "  user_idx2id = list(uknn_pearson.train_set.user_ids)\n",
        "  item_id2idx = uknn_pearson.train_set.iid_map\n",
        "  item_idx2id = list(uknn_pearson.train_set.item_ids)\n",
        "\n",
        "  UIDX = uknn_pearson.train_set.uid_map[UID]\n",
        "\n",
        "  print(f\"UserID = {UID}\")\n",
        "  print(\"-\" * 25)\n",
        "  print(user_df.loc[UID])\n",
        "\n",
        "  rating_arr = rating_mat[UIDX].A.ravel()\n",
        "  top_rated_items = np.argsort(rating_arr)[-TOPK:]\n",
        "  print(f\"\\nTOP {TOPK} RATED ITEMS BY USER {UID}:\")\n",
        "  print(item_df.loc[[int(item_idx2id[i]) for i in top_rated_items]])\n",
        "\n",
        "user_profiling(2, df_100k3, df_user_100k, df_item_100k)"
      ],
      "execution_count": null,
      "outputs": [
        {
          "output_type": "stream",
          "text": [
            "UserID = 2\n",
            "-------------------------\n",
            "Age              53\n",
            "Gender            F\n",
            "Occupation    other\n",
            "Zip Code      94043\n",
            "Name: 2, dtype: object\n",
            "\n",
            "TOP 5 RATED ITEMS BY USER 2:\n",
            "                                Title Release Date  ...  War  Western\n",
            "ItemID                                              ...              \n",
            "50                   Star Wars (1977)  01-Jan-1977  ...    1        0\n",
            "251            Shall We Dance? (1996)  11-Jul-1997  ...    0        0\n",
            "272          Good Will Hunting (1997)  01-Jan-1997  ...    0        0\n",
            "311     Wings of the Dove, The (1997)  01-Jan-1997  ...    0        0\n",
            "242                      Kolya (1996)  24-Jan-1997  ...    0        0\n",
            "\n",
            "[5 rows x 20 columns]\n"
          ],
          "name": "stdout"
        }
      ]
    },
    {
      "cell_type": "markdown",
      "metadata": {
        "id": "cmdaVm6-oRAm"
      },
      "source": [
        "## Recomendations based on item popularity\n",
        "\n",
        "Since some items are much more popular than the rest, intuitively many users may prefer these popular items. From that observation, it inspires a simple approach for providing recommendations based on popularity (i.e., number of ratings) of the items."
      ]
    },
    {
      "cell_type": "code",
      "metadata": {
        "colab": {
          "base_uri": "https://localhost:8080/"
        },
        "id": "G-ER0E9FpXlz",
        "outputId": "a86fe054-63ff-4d2d-e1c2-5bcc6f43e92a"
      },
      "source": [
        "'''Let's do a simple experiment with the popularity approach. In this \n",
        "experiment, we will split the rating data into 5 folds for cross-validation. \n",
        "For each run, 4 folds will be used for training and the remaining fold will \n",
        "be used for evaluation. We measure the recommendation performance using \n",
        "Recall@20 metric.'''\n",
        "\n",
        "def itempop_cornac(df):\n",
        "  df = df.astype({'user_id':object, 'item_id':object})\n",
        "  records = df.to_records(index=False)\n",
        "  result = list(records)\n",
        "  eval_method = cornac.eval_methods.CrossValidation(result, n_folds=5, seed=42) # 5-fold cross validation\n",
        "  most_pop = cornac.models.MostPop() # recommender system based on item popularity\n",
        "  rec_20 = cornac.metrics.Recall(k=20) # recall@20 metric\n",
        "  cornac.Experiment(eval_method=eval_method, models=[most_pop], metrics=[rec_20]).run() # put everything together into an experiment\n",
        "\n",
        "itempop_cornac(df_100k3)"
      ],
      "execution_count": null,
      "outputs": [
        {
          "output_type": "stream",
          "text": [
            "\n",
            "TEST:\n",
            "...\n",
            "[MostPop]\n",
            "       | Recall@20 | Train (s) | Test (s)\n",
            "------ + --------- + --------- + --------\n",
            "Fold 0 |    0.1263 |    0.0054 |   0.4017\n",
            "Fold 1 |    0.1304 |    0.0053 |   0.3883\n",
            "Fold 2 |    0.1337 |    0.0055 |   0.4014\n",
            "Fold 3 |    0.1252 |    0.0058 |   0.4019\n",
            "Fold 4 |    0.1187 |    0.0054 |   0.4046\n",
            "------ + --------- + --------- + --------\n",
            "Mean   |    0.1269 |    0.0055 |   0.3996\n",
            "Std    |    0.0051 |    0.0002 |   0.0058\n",
            "\n"
          ],
          "name": "stdout"
        }
      ]
    },
    {
      "cell_type": "markdown",
      "metadata": {
        "id": "9RFUnlYoLapQ"
      },
      "source": [
        "## User-based collaborative filtering"
      ]
    },
    {
      "cell_type": "code",
      "metadata": {
        "colab": {
          "base_uri": "https://localhost:8080/"
        },
        "id": "cT44vKJ7ou6W",
        "outputId": "7ae77520-cb32-4e4a-83c0-4d27b70445fb"
      },
      "source": [
        "def userknn_cornac(df):\n",
        "  df = df.astype({'user_id':object, 'item_id':object})\n",
        "  records = df.to_records(index=False)\n",
        "  result = list(records)\n",
        "  K = 50  # number of nearest neighbors\n",
        "  VERBOSE = False\n",
        "  SEED = 42\n",
        "  uknn_cosine = UserKNN(k=K, similarity=\"cosine\", name=\"UserKNN-Cosine\", verbose=VERBOSE)\n",
        "  uknn_cosine_mc = UserKNN(k=K, similarity=\"cosine\", mean_centered=True, name=\"UserKNN-Cosine-MC\", verbose=VERBOSE)\n",
        "  uknn_pearson = UserKNN(k=K, similarity=\"pearson\", name=\"UserKNN-Pearson\", verbose=VERBOSE)\n",
        "  uknn_pearson_mc = UserKNN(k=K, similarity=\"pearson\", mean_centered=True, name=\"UserKNN-Pearson-MC\", verbose=VERBOSE)\n",
        "  ratio_split = RatioSplit(result, test_size=0.1, seed=SEED, verbose=VERBOSE)\n",
        "  cornac.Experiment(eval_method=ratio_split,\n",
        "                    models=[uknn_cosine, uknn_cosine_mc, uknn_pearson, uknn_pearson_mc],\n",
        "                    metrics=[cornac.metrics.RMSE()],\n",
        "                    ).run()\n",
        "\n",
        "userknn_cornac(df_100k3)"
      ],
      "execution_count": null,
      "outputs": [
        {
          "output_type": "stream",
          "text": [
            "\n",
            "TEST:\n",
            "...\n",
            "                   |   RMSE | Train (s) | Test (s)\n",
            "------------------ + ------ + --------- + --------\n",
            "UserKNN-Cosine     | 0.9102 |    0.1444 |   1.3036\n",
            "UserKNN-Cosine-MC  | 0.8947 |    0.1369 |   1.2839\n",
            "UserKNN-Pearson    | 0.8947 |    0.1458 |   1.2950\n",
            "UserKNN-Pearson-MC | 0.8947 |    0.1360 |   1.2894\n",
            "\n"
          ],
          "name": "stdout"
        }
      ]
    },
    {
      "cell_type": "markdown",
      "metadata": {
        "id": "pGdylRKeQJWI"
      },
      "source": [
        "## Item-based collaborative filtering"
      ]
    },
    {
      "cell_type": "code",
      "metadata": {
        "colab": {
          "base_uri": "https://localhost:8080/"
        },
        "id": "VD24_0vMNZat",
        "outputId": "e1281edd-2b6b-471d-d82c-de4d08a6ef8e"
      },
      "source": [
        "def itemknn_cornac(df):\n",
        "  df = df.astype({'user_id':object, 'item_id':object})\n",
        "  records = df.to_records(index=False)\n",
        "  result = list(records)\n",
        "  K = 50  # number of nearest neighbors\n",
        "  VERBOSE = False\n",
        "  SEED = 42\n",
        "  iknn_cosine = ItemKNN(k=K, similarity=\"cosine\", name=\"ItemKNN-Cosine\", verbose=VERBOSE)\n",
        "  iknn_cosine_mc = ItemKNN(k=K, similarity=\"cosine\", mean_centered=True, name=\"ItemKNN-AdjustedCosine\", verbose=VERBOSE)\n",
        "  iknn_pearson = ItemKNN(k=K, similarity=\"pearson\", name=\"ItemKNN-Pearson\", verbose=VERBOSE)\n",
        "  iknn_pearson_mc = ItemKNN(k=K, similarity=\"pearson\", mean_centered=True, name=\"ItemKNN-Pearson-MC\", verbose=VERBOSE)\n",
        "  ratio_split = RatioSplit(result, test_size=0.1, seed=SEED, verbose=VERBOSE)\n",
        "  cornac.Experiment(eval_method=ratio_split,\n",
        "                    models=[iknn_cosine, iknn_cosine_mc, iknn_pearson, iknn_pearson_mc],\n",
        "                    metrics=[cornac.metrics.RMSE()],\n",
        "                    ).run()\n",
        "\n",
        "itemknn_cornac(df_100k3)"
      ],
      "execution_count": null,
      "outputs": [
        {
          "output_type": "stream",
          "text": [
            "\n",
            "TEST:\n",
            "...\n",
            "                       |   RMSE | Train (s) | Test (s)\n",
            "---------------------- + ------ + --------- + --------\n",
            "ItemKNN-Cosine         | 0.9687 |    0.2175 |   1.3857\n",
            "ItemKNN-AdjustedCosine | 0.9099 |    0.2107 |   1.4040\n",
            "ItemKNN-Pearson        | 0.9624 |    0.2462 |   1.3763\n",
            "ItemKNN-Pearson-MC     | 0.9573 |    0.2374 |   1.3883\n",
            "\n"
          ],
          "name": "stdout"
        }
      ]
    },
    {
      "cell_type": "markdown",
      "metadata": {
        "id": "gtZAznTeSKlK"
      },
      "source": [
        "## Matrix factorization"
      ]
    },
    {
      "cell_type": "code",
      "metadata": {
        "colab": {
          "base_uri": "https://localhost:8080/"
        },
        "id": "HiB8C9xDQs7l",
        "outputId": "6f371b68-4601-4c10-f292-b797ad3ae85a"
      },
      "source": [
        "def mf_cornac(df):\n",
        "  df = df.astype({'user_id':object, 'item_id':object})\n",
        "  records = df.to_records(index=False)\n",
        "  result = list(records)\n",
        "  K = 100\n",
        "  VERBOSE = False\n",
        "  SEED = 42\n",
        "  lbd = 0.01\n",
        "  baseline = BaselineOnly(max_iter=20, learning_rate=0.01, lambda_reg=lbd, verbose=VERBOSE)\n",
        "  mf1 = MF(k=K, max_iter=20, learning_rate=0.01, lambda_reg=0.0, use_bias=False, verbose=VERBOSE, seed=SEED, name=f\"MF(K={K})\")\n",
        "  mf2 = MF(k=K, max_iter=20, learning_rate=0.01, lambda_reg=lbd, use_bias=False, verbose=VERBOSE, seed=SEED, name=f\"MF(K={K},lambda={lbd:.4f})\")\n",
        "  mf3 = MF(k=K, max_iter=20, learning_rate=0.01, lambda_reg=lbd, use_bias=True, verbose=VERBOSE, seed=SEED, name=f\"MF(K={K},bias)\")\n",
        "  nmf = NMF(k=K, max_iter=200, learning_rate=0.01, use_bias=False, verbose=VERBOSE, seed=SEED, name=f\"NMF(K={K})\")\n",
        "  ratio_split = RatioSplit(result, test_size=0.1, seed=SEED, verbose=VERBOSE)\n",
        "  cornac.Experiment(eval_method=ratio_split,\n",
        "                    models=[baseline, mf1, mf2, mf3, nmf],\n",
        "                    metrics=[cornac.metrics.RMSE()],\n",
        "                    ).run()\n",
        "\n",
        "mf_cornac(df_100k3)"
      ],
      "execution_count": null,
      "outputs": [
        {
          "output_type": "stream",
          "text": [
            "\n",
            "TEST:\n",
            "...\n",
            "                        |   RMSE | Train (s) | Test (s)\n",
            "----------------------- + ------ + --------- + --------\n",
            "BaselineOnly            | 0.8892 |    0.0113 |   0.2159\n",
            "MF(K=100)               | 0.8665 |    0.5043 |   0.2463\n",
            "MF(K=100,lambda=0.0100) | 0.8647 |    0.5154 |   0.2466\n",
            "MF(K=100,bias)          | 0.8614 |    0.5224 |   0.2324\n",
            "NMF(K=100)              | 0.8807 |    8.7957 |   0.2519\n",
            "\n"
          ],
          "name": "stdout"
        }
      ]
    },
    {
      "cell_type": "markdown",
      "metadata": {
        "id": "4BvNeQLFyjmQ"
      },
      "source": [
        "## Implicit matrix factorization"
      ]
    },
    {
      "cell_type": "code",
      "metadata": {
        "colab": {
          "base_uri": "https://localhost:8080/"
        },
        "id": "K_oMK3l1t_YD",
        "outputId": "21a2563d-5e42-4528-c90c-14a5430f9942"
      },
      "source": [
        "def implicitmf_cornac(df):\n",
        "  df = df.astype({'user_id':object, 'item_id':object})\n",
        "  records = df.to_records(index=False)\n",
        "  result = list(records)\n",
        "\n",
        "  K = 50\n",
        "  VERBOSE = False\n",
        "  SEED = 42\n",
        "  mf = MF(k=K, max_iter=20, learning_rate=0.01, lambda_reg=0.01, verbose=VERBOSE, seed=SEED, name=f\"MF(K={K})\")\n",
        "  wmf = WMF(k=K, max_iter=100, a=1.0, b=0.01, learning_rate=0.001, lambda_u=0.01, lambda_v=0.01, verbose=VERBOSE, seed=SEED, name=f\"WMF(K={K})\")\n",
        "  bpr = BPR(k=K, max_iter=200, learning_rate=0.01, lambda_reg=0.001, verbose=VERBOSE, seed=SEED, name=f\"BPR(K={K})\")\n",
        "\n",
        "  eval_metrics = [\n",
        "  cornac.metrics.RMSE(), \n",
        "  cornac.metrics.AUC(),\n",
        "  cornac.metrics.Precision(k=10),\n",
        "  cornac.metrics.Recall(k=10),\n",
        "  cornac.metrics.FMeasure(k=10),\n",
        "  cornac.metrics.NDCG(k=[10, 20, 30]),\n",
        "  cornac.metrics.MRR(),\n",
        "  cornac.metrics.MAP()\n",
        "  ]\n",
        "\n",
        "  rs = RatioSplit(result, test_size=0.2, seed=SEED, verbose=VERBOSE)\n",
        "\n",
        "  cornac.Experiment(eval_method=rs,\n",
        "                    models=[mf, wmf, bpr],\n",
        "                    metrics=eval_metrics,\n",
        "                    ).run()\n",
        "\n",
        "implicitmf_cornac(df_100k3)"
      ],
      "execution_count": null,
      "outputs": [
        {
          "output_type": "stream",
          "text": [
            "\n",
            "TEST:\n",
            "...\n",
            "          |   RMSE |    AUC |  F1@10 |    MAP |    MRR | NDCG@10 | NDCG@20 | NDCG@30 | Precision@10 | Recall@10 | Train (s) | Test (s)\n",
            "--------- + ------ + ------ + ------ + ------ + ------ + ------- + ------- + ------- + ------------ + --------- + --------- + --------\n",
            "MF(K=50)  | 0.8909 | 0.6573 | 0.0290 | 0.0402 | 0.1453 |  0.0539 |  0.0565 |  0.0626 |       0.0524 |    0.0241 |    0.2498 |   2.0077\n",
            "WMF(K=50) | 1.1012 | 0.8980 | 0.0734 | 0.0956 | 0.2387 |  0.1068 |  0.1292 |  0.1506 |       0.0968 |    0.0800 |    6.4536 |   2.1959\n",
            "BPR(K=50) | 1.5631 | 0.9356 | 0.0859 | 0.1146 | 0.2337 |  0.1096 |  0.1393 |  0.1662 |       0.0938 |    0.1000 |    6.5871 |   1.9878\n",
            "\n"
          ],
          "name": "stdout"
        }
      ]
    },
    {
      "cell_type": "markdown",
      "metadata": {
        "id": "ZQDxtSJN04_J"
      },
      "source": [
        "As we can observe, the strength of the MF model is the ability to predict ratings well (lower RMSE). However, WMF model is designed to rank items, by fitting binary adoptions, thus it outperforms MF across all the listed ranking metrics.\n",
        "\n",
        "BPR only tries to preserve the ordinal constraints without learning to predict the rating values. Thus, RMSE is not the right metric to evaluate BPR model. Minimizing the loss function of BPR is analogous to maximizing AUC, therefore, we expect BPR to do well on that metric.\n",
        "\n",
        "Both BPR and WMF models are designed to obtain good performances in terms of ranking metrics. With reasonable efforts for hyper-parameter tuning, we should see comparable performance between the two models."
      ]
    },
    {
      "cell_type": "markdown",
      "metadata": {
        "id": "lT5-e3QiNch9"
      },
      "source": [
        "## Neural Collaborative Filtering\n",
        "Neural collaborative filtering consists of a family of models developed based on neural networks to tackle the problem of collaborative filtering based on implicit feedback. The final model NeuMF is a combination of two components, namely Generalized Matrix Factorization (GMF) and Multi-Layer Perceptrons (MLP), which are also independent models respectively."
      ]
    },
    {
      "cell_type": "code",
      "metadata": {
        "id": "wdZLRcBb4vuR"
      },
      "source": [
        "GMF_FACTORS = 8  # @param\n",
        "MLP_LAYERS = [32, 16, 8]  # @param\n",
        "ACTIVATION = \"tanh\"  # @param [\"tanh\", \"sigmoid\", \"relu\", \"leaky_relu\"]\n",
        "NEG_SAMPLES = 3  # @param\n",
        "NUM_EPOCHS = 10  # @param \n",
        "BATCH_SIZE = 256  # @param\n",
        "LEARNING_RATE = 0.001  # @param"
      ],
      "execution_count": null,
      "outputs": []
    },
    {
      "cell_type": "code",
      "metadata": {
        "colab": {
          "base_uri": "https://localhost:8080/",
          "height": 287,
          "referenced_widgets": [
            "1ceb3d202e4b47e7ba222da7a0bf9299",
            "c57a2bcceaed403398e799e6d969671b",
            "87e562b9864b44e7acac1fdbe09557ce",
            "93fb5b2685894caeba3f7858df79b05f",
            "91452e4acc6c4dd98d40d415d91f352c",
            "d4dae8de13c64080a11b760ad649060c",
            "b52dec35097643f3affeb1059adf1f55",
            "c19b9124719a454eb77e6dba1dcce690"
          ]
        },
        "id": "8UVTvr4FOgS_",
        "outputId": "8b02e1ff-77fb-4fe9-f65c-4376784576a0"
      },
      "source": [
        "gmf = GMF(num_factors=GMF_FACTORS, num_epochs=NUM_EPOCHS, batch_size=BATCH_SIZE, \n",
        "          num_neg=NEG_SAMPLES, lr=LEARNING_RATE, seed=SEED, verbose=VERBOSE)\n",
        "mlp = MLP(layers=MLP_LAYERS, act_fn=ACTIVATION, num_epochs=NUM_EPOCHS, batch_size=BATCH_SIZE, \n",
        "          num_neg=NEG_SAMPLES, lr=LEARNING_RATE, seed=SEED, verbose=VERBOSE)\n",
        "neumf = NeuMF(num_factors=GMF_FACTORS, layers=MLP_LAYERS, act_fn=ACTIVATION, num_epochs=NUM_EPOCHS,\n",
        "              num_neg=NEG_SAMPLES, batch_size=BATCH_SIZE, lr=LEARNING_RATE, seed=SEED, verbose=VERBOSE)\n",
        "\n",
        "wmf = WMF(k=GMF_FACTORS, max_iter=200, learning_rate=0.001, seed=SEED, verbose=VERBOSE)\n",
        "\n",
        "ml_100k = movielens.load_feedback(variant=\"100K\", reader=Reader(bin_threshold=4.0))\n",
        "ratio_split = RatioSplit(\n",
        "  data=ml_100k, test_size=0.2, exclude_unknowns=True, seed=SEED, verbose=VERBOSE\n",
        ")\n",
        "ndcg_50 = cornac.metrics.NDCG(k=50)\n",
        "rec_50 = cornac.metrics.Recall(k=50)\n",
        "\n",
        "cornac.Experiment(\n",
        "  eval_method=ratio_split,\n",
        "  models=[gmf, mlp, neumf, wmf],\n",
        "  metrics=[ndcg_50, rec_50],\n",
        ").run()"
      ],
      "execution_count": null,
      "outputs": [
        {
          "output_type": "stream",
          "text": [
            "Data from http://files.grouplens.org/datasets/movielens/ml-100k/u.data\n",
            "will be cached into /root/.cornac/ml-100k/u.data\n"
          ],
          "name": "stdout"
        },
        {
          "output_type": "display_data",
          "data": {
            "application/vnd.jupyter.widget-view+json": {
              "model_id": "1ceb3d202e4b47e7ba222da7a0bf9299",
              "version_major": 2,
              "version_minor": 0
            },
            "text/plain": [
              "HBox(children=(FloatProgress(value=1.0, bar_style='info', max=1.0), HTML(value='')))"
            ]
          },
          "metadata": {
            "tags": []
          }
        },
        {
          "output_type": "stream",
          "text": [
            "\n",
            "File cached!\n",
            "\n",
            "TEST:\n",
            "...\n",
            "      | NDCG@50 | Recall@50 | Train (s) | Test (s)\n",
            "----- + ------- + --------- + --------- + --------\n",
            "GMF   |  0.1609 |    0.2778 |   28.6248 |   1.0193\n",
            "MLP   |  0.1630 |    0.2807 |   29.0589 |   1.1897\n",
            "NeuMF |  0.2412 |    0.4268 |   29.9544 |   1.2884\n",
            "WMF   |  0.1976 |    0.3753 |    9.2373 |   0.5958\n",
            "\n"
          ],
          "name": "stdout"
        }
      ]
    },
    {
      "cell_type": "markdown",
      "metadata": {
        "id": "PK0C0xs3Pm0I"
      },
      "source": [
        "## Variational Autoencoder for Collaborative Filtering (VAECF)\n",
        "Variational Autoencoders (VAE) is a type of autoencoders which is a neural network with auto-associative mapping of inputs. Normal autoencoders learns a determinisic latent representation of an input, while VAE learns a distribution of that representation. VAECF model extends VAE for the collaborative filtering problem with implicit feedback data."
      ]
    },
    {
      "cell_type": "code",
      "metadata": {
        "id": "VGDQstOZPIY4"
      },
      "source": [
        "NUM_FACTORS = 25  # @param\n",
        "AE_LAYERS = [100, 50]  # @param\n",
        "ACTIVATION = \"tanh\"  # @param [\"tanh\", \"sigmoid\", \"relu\", \"leaky_relu\"]\n",
        "LIKELIHOOD = \"bern\"  # @param [\"bern\", \"mult\", \"gaus\", \"pois\"]\n",
        "NUM_EPOCHS = 600  # @param \n",
        "BATCH_SIZE = 256  # @param\n",
        "LEARNING_RATE = 0.001  # @param"
      ],
      "execution_count": null,
      "outputs": []
    },
    {
      "cell_type": "code",
      "metadata": {
        "colab": {
          "base_uri": "https://localhost:8080/"
        },
        "id": "3pgddYbhPr3N",
        "outputId": "6b6c174d-ec1a-43e3-836b-0ae0090b379b"
      },
      "source": [
        "vaecf = VAECF(k=NUM_FACTORS, autoencoder_structure=AE_LAYERS, act_fn=ACTIVATION,\n",
        "              likelihood=LIKELIHOOD, n_epochs=NUM_EPOCHS, batch_size=BATCH_SIZE,\n",
        "              learning_rate=LEARNING_RATE, seed=SEED, verbose=VERBOSE, use_gpu=True)\n",
        "\n",
        "wmf = WMF(k=NUM_FACTORS, max_iter=200, learning_rate=0.001, seed=SEED, verbose=VERBOSE)\n",
        "\n",
        "ml_100k = movielens.load_feedback(variant=\"100K\", reader=Reader(bin_threshold=4.0))\n",
        "ratio_split = RatioSplit(\n",
        "  data=ml_100k, test_size=0.2, exclude_unknowns=True, seed=SEED, verbose=VERBOSE\n",
        ")\n",
        "\n",
        "cornac.Experiment(\n",
        "  eval_method=ratio_split, models=[vaecf, wmf], metrics=[rec_50, ndcg_50],\n",
        ").run()"
      ],
      "execution_count": null,
      "outputs": [
        {
          "output_type": "stream",
          "text": [
            "\n",
            "TEST:\n",
            "...\n",
            "      | NDCG@50 | Recall@50 | Train (s) | Test (s)\n",
            "----- + ------- + --------- + --------- + --------\n",
            "VAECF |  0.2418 |    0.4268 |   56.6568 |   1.0349\n",
            "WMF   |  0.2045 |    0.3958 |   10.5690 |   0.6070\n",
            "\n"
          ],
          "name": "stdout"
        }
      ]
    },
    {
      "cell_type": "markdown",
      "metadata": {
        "id": "vcy5ObIUxm2X"
      },
      "source": [
        "## Running Experiment"
      ]
    },
    {
      "cell_type": "code",
      "metadata": {
        "colab": {
          "base_uri": "https://localhost:8080/"
        },
        "id": "JaastgN_i3ry",
        "outputId": "e298df05-0bc1-49cc-d94c-216e43ad15db"
      },
      "source": [
        "import cornac\n",
        "from cornac.eval_methods import RatioSplit\n",
        "from cornac.models import MF, PMF, BPR\n",
        "from cornac.metrics import MAE, RMSE, Precision, Recall, NDCG, AUC\n",
        "\n",
        "# load the built-in MovieLens 100K and split the data based on ratio\n",
        "ml_100k = cornac.datasets.movielens.load_feedback()\n",
        "rs = RatioSplit(data=ml_100k, test_size=0.2, rating_threshold=4.0, seed=123)\n",
        "\n",
        "# initialize models, here we are comparing: Biased MF, PMF, and BPR\n",
        "models = [\n",
        "    MF(k=10, max_iter=25, learning_rate=0.01, lambda_reg=0.02, use_bias=True, seed=123),\n",
        "    PMF(k=10, max_iter=100, learning_rate=0.001, lambda_reg=0.001, seed=123),\n",
        "    BPR(k=10, max_iter=200, learning_rate=0.001, lambda_reg=0.01, seed=123),\n",
        "]\n",
        "\n",
        "# define metrics to evaluate the models\n",
        "metrics = [MAE(), RMSE(), Precision(k=10), Recall(k=10), NDCG(k=10), AUC()]\n",
        "\n",
        "# put it together in an experiment, voilà!\n",
        "cornac.Experiment(eval_method=rs, models=models, metrics=metrics, user_based=True).run()"
      ],
      "execution_count": null,
      "outputs": [
        {
          "output_type": "stream",
          "text": [
            "\n",
            "TEST:\n",
            "...\n",
            "    |    MAE |   RMSE |    AUC | NDCG@10 | Precision@10 | Recall@10 | Train (s) | Test (s)\n",
            "--- + ------ + ------ + ------ + ------- + ------------ + --------- + --------- + --------\n",
            "MF  | 0.7430 | 0.8998 | 0.7445 |  0.0479 |       0.0437 |    0.0352 |    0.1202 |   1.4422\n",
            "PMF | 0.7534 | 0.9138 | 0.7744 |  0.0617 |       0.0533 |    0.0479 |    2.2300 |   1.7559\n",
            "BPR | 2.0143 | 2.2267 | 0.8695 |  0.0975 |       0.0727 |    0.0891 |    3.8556 |   1.4108\n",
            "\n"
          ],
          "name": "stdout"
        }
      ]
    },
    {
      "cell_type": "markdown",
      "metadata": {
        "id": "TolEnvXox4Wh"
      },
      "source": [
        "## PMF ratio\n",
        "Example to run Probabilistic Matrix Factorization (PMF) model with Ratio Split evaluation strategy"
      ]
    },
    {
      "cell_type": "code",
      "metadata": {
        "colab": {
          "base_uri": "https://localhost:8080/"
        },
        "id": "ljDp8ol7xtqy",
        "outputId": "f5cb41da-a871-47d4-e0c5-080f1514d6e4"
      },
      "source": [
        "import cornac\n",
        "from cornac.datasets import movielens\n",
        "from cornac.eval_methods import RatioSplit\n",
        "from cornac.models import PMF\n",
        "\n",
        "\n",
        "# Load the MovieLens 100K dataset\n",
        "ml_100k = movielens.load_feedback()\n",
        "\n",
        "# Instantiate an evaluation method.\n",
        "ratio_split = RatioSplit(\n",
        "    data=ml_100k, test_size=0.2, rating_threshold=4.0, exclude_unknowns=False\n",
        ")\n",
        "\n",
        "# Instantiate a PMF recommender model.\n",
        "pmf = PMF(k=10, max_iter=100, learning_rate=0.001, lambda_reg=0.001)\n",
        "\n",
        "# Instantiate evaluation metrics.\n",
        "mae = cornac.metrics.MAE()\n",
        "rmse = cornac.metrics.RMSE()\n",
        "rec_20 = cornac.metrics.Recall(k=20)\n",
        "pre_20 = cornac.metrics.Precision(k=20)\n",
        "\n",
        "# Instantiate and then run an experiment.\n",
        "cornac.Experiment(\n",
        "    eval_method=ratio_split,\n",
        "    models=[pmf],\n",
        "    metrics=[mae, rmse, rec_20, pre_20],\n",
        "    user_based=True,\n",
        ").run()"
      ],
      "execution_count": null,
      "outputs": [
        {
          "output_type": "stream",
          "text": [
            "\n",
            "TEST:\n",
            "...\n",
            "    |    MAE |   RMSE | Precision@20 | Recall@20 | Train (s) | Test (s)\n",
            "--- + ------ + ------ + ------------ + --------- + --------- + --------\n",
            "PMF | 0.7408 | 0.8992 |       0.0502 |    0.0903 |    2.2457 |   1.2484\n",
            "\n"
          ],
          "name": "stdout"
        }
      ]
    },
    {
      "cell_type": "markdown",
      "metadata": {
        "id": "mVH9z_KCyOks"
      },
      "source": [
        "## Given data\n",
        "Example on how to train and evaluate a model with provided train and test sets"
      ]
    },
    {
      "cell_type": "code",
      "metadata": {
        "colab": {
          "base_uri": "https://localhost:8080/"
        },
        "id": "J0uUBh-Px8h_",
        "outputId": "f594968e-c079-4cf9-d0e0-9eeab70740c9"
      },
      "source": [
        "from cornac.data import Reader\n",
        "from cornac.eval_methods import BaseMethod\n",
        "from cornac.models import MF\n",
        "from cornac.metrics import MAE, RMSE\n",
        "from cornac.utils import cache\n",
        "\n",
        "\n",
        "# Download MovieLens 100K provided train and test sets\n",
        "reader = Reader()\n",
        "train_data = reader.read(\n",
        "    cache(url=\"http://files.grouplens.org/datasets/movielens/ml-100k/u1.base\")\n",
        ")\n",
        "test_data = reader.read(\n",
        "    cache(url=\"http://files.grouplens.org/datasets/movielens/ml-100k/u1.test\")\n",
        ")\n",
        "\n",
        "# Instantiate a Base evaluation method using the provided train and test sets\n",
        "eval_method = BaseMethod.from_splits(\n",
        "    train_data=train_data, test_data=test_data, exclude_unknowns=False, verbose=True\n",
        ")\n",
        "\n",
        "# Instantiate the MF model\n",
        "mf = MF(\n",
        "    k=10,\n",
        "    max_iter=25,\n",
        "    learning_rate=0.01,\n",
        "    lambda_reg=0.02,\n",
        "    use_bias=True,\n",
        "    early_stop=True,\n",
        "    verbose=True,\n",
        ")\n",
        "\n",
        "# Evaluation\n",
        "test_result, val_result = eval_method.evaluate(\n",
        "    model=mf, metrics=[MAE(), RMSE()], user_based=True\n",
        ")\n",
        "print(test_result)"
      ],
      "execution_count": null,
      "outputs": [
        {
          "output_type": "stream",
          "text": [
            "\r0.00B [00:00, ?B/s]"
          ],
          "name": "stderr"
        },
        {
          "output_type": "stream",
          "text": [
            "Data from http://files.grouplens.org/datasets/movielens/ml-100k/u1.base\n",
            "will be cached into /root/.cornac/u1.base\n"
          ],
          "name": "stdout"
        },
        {
          "output_type": "stream",
          "text": [
            "1.60MB [00:00, 2.19MB/s]                           \n",
            "0.00B [00:00, ?B/s]"
          ],
          "name": "stderr"
        },
        {
          "output_type": "stream",
          "text": [
            "File cached!\n",
            "Data from http://files.grouplens.org/datasets/movielens/ml-100k/u1.test\n",
            "will be cached into /root/.cornac/u1.test\n"
          ],
          "name": "stdout"
        },
        {
          "output_type": "stream",
          "text": [
            "401kB [00:00, 852kB/s]                            \n"
          ],
          "name": "stderr"
        },
        {
          "output_type": "stream",
          "text": [
            "File cached!\n",
            "rating_threshold = 1.0\n",
            "exclude_unknowns = False\n",
            "---"
          ],
          "name": "stdout"
        },
        {
          "output_type": "stream",
          "text": [
            " 72%|███████▏  | 18/25 [00:00<00:00, 140.99it/s, loss=32731.62]"
          ],
          "name": "stderr"
        },
        {
          "output_type": "stream",
          "text": [
            "\n",
            "Training data:\n",
            "Number of users = 943\n",
            "Number of items = 1650\n",
            "Number of ratings = 80000\n",
            "Max rating = 5.0\n",
            "Min rating = 1.0\n",
            "Global mean = 3.5\n",
            "---\n",
            "Test data:\n",
            "Number of users = 459\n",
            "Number of items = 1410\n",
            "Number of ratings = 20000\n",
            "Number of unknown users = 0\n",
            "Number of unknown items = 32\n",
            "---\n",
            "Total users = 943\n",
            "Total items = 1682\n",
            "\n",
            "[MF] Training started!\n"
          ],
          "name": "stdout"
        },
        {
          "output_type": "stream",
          "text": [
            "100%|██████████| 25/25 [00:00<00:00, 129.03it/s, loss=28517.47]\n"
          ],
          "name": "stderr"
        },
        {
          "output_type": "stream",
          "text": [
            "Optimization finished!\n",
            "\n",
            "[MF] Evaluation started!\n",
            "   |    MAE |   RMSE | Train (s) | Test (s)\n",
            "-- + ------ + ------ + --------- + --------\n",
            "MF | 0.7447 | 0.9166 |    0.1995 |   0.6030\n",
            "\n"
          ],
          "name": "stdout"
        }
      ]
    },
    {
      "cell_type": "markdown",
      "metadata": {
        "id": "FrscRmQiyZEv"
      },
      "source": [
        "## C2PF"
      ]
    },
    {
      "cell_type": "markdown",
      "metadata": {
        "id": "w8lgdJSDzzTn"
      },
      "source": [
        "Collaborative Context Poisson Factorization (C2PF) with Amazon Office dataset."
      ]
    },
    {
      "cell_type": "code",
      "metadata": {
        "colab": {
          "base_uri": "https://localhost:8080/"
        },
        "id": "y4hzd9qCySw6",
        "outputId": "136a548e-9373-4cb3-bb74-926a6c30eafe"
      },
      "source": [
        "\"\"\"Fit to and evaluate C2PF [1] on the Office Amazon dataset.\n",
        "[1] Salah, Aghiles, and Hady W. Lauw. A Bayesian Latent Variable Model of User Preferences with Item Context. \\\n",
        "    In IJCAI, pp. 2667-2674. 2018.\n",
        "\"\"\"\n",
        "\n",
        "from cornac.data import GraphModality\n",
        "from cornac.eval_methods import RatioSplit\n",
        "from cornac.experiment import Experiment\n",
        "from cornac import metrics\n",
        "from cornac.models import C2PF\n",
        "from cornac.datasets import amazon_office as office\n",
        "\n",
        "\n",
        "# In addition to user-item feedback, C2PF integrates item-to-item contextual relationships\n",
        "# The necessary data can be loaded as follows\n",
        "ratings = office.load_feedback()\n",
        "contexts = office.load_graph()\n",
        "\n",
        "# Instantiate a GraphModality, it makes it convenient to work with graph (network) auxiliary information\n",
        "# For more details, please refer to the tutorial on how to work with auxiliary data\n",
        "item_graph_modality = GraphModality(data=contexts)\n",
        "\n",
        "# Define an evaluation method to split feedback into train and test sets\n",
        "ratio_split = RatioSplit(\n",
        "    data=ratings,\n",
        "    test_size=0.2,\n",
        "    rating_threshold=3.5,\n",
        "    exclude_unknowns=True,\n",
        "    verbose=True,\n",
        "    item_graph=item_graph_modality,\n",
        ")\n",
        "\n",
        "# Instantiate C2PF\n",
        "c2pf = C2PF(k=100, max_iter=80, variant=\"c2pf\")\n",
        "\n",
        "# Evaluation metrics\n",
        "ndcg = metrics.NDCG(k=-1)\n",
        "mrr = metrics.MRR()\n",
        "rec = metrics.Recall(k=20)\n",
        "pre = metrics.Precision(k=20)\n",
        "\n",
        "# Put everything together into an experiment and run it\n",
        "Experiment(eval_method=ratio_split, models=[c2pf], metrics=[ndcg, mrr, rec, pre]).run()"
      ],
      "execution_count": null,
      "outputs": [
        {
          "output_type": "stream",
          "text": [
            "\r0.00B [00:00, ?B/s]"
          ],
          "name": "stderr"
        },
        {
          "output_type": "stream",
          "text": [
            "Data from https://static.preferred.ai/cornac/datasets/amazon_office/rating.zip\n",
            "will be cached into /root/.cornac/amazon_office/rating.txt\n"
          ],
          "name": "stdout"
        },
        {
          "output_type": "stream",
          "text": [
            "213kB [00:01, 171kB/s]                            \n",
            "0.00B [00:00, ?B/s]"
          ],
          "name": "stderr"
        },
        {
          "output_type": "stream",
          "text": [
            "Unzipping ...\n",
            "File cached!\n",
            "Data from https://static.preferred.ai/cornac/datasets/amazon_office/context.zip\n",
            "will be cached into /root/.cornac/amazon_office/context.txt\n"
          ],
          "name": "stdout"
        },
        {
          "output_type": "stream",
          "text": [
            "344kB [00:01, 271kB/s]                            \n"
          ],
          "name": "stderr"
        },
        {
          "output_type": "stream",
          "text": [
            "Unzipping ...\n",
            "File cached!\n",
            "rating_threshold = 3.5\n",
            "exclude_unknowns = True\n",
            "---\n",
            "Training data:\n",
            "Number of users = 3698\n",
            "Number of items = 6405\n",
            "Number of ratings = 42625\n",
            "Max rating = 5.0\n",
            "Min rating = 1.0\n",
            "Global mean = 4.4\n",
            "---\n",
            "Test data:\n",
            "Number of users = 3269\n",
            "Number of items = 3549\n",
            "Number of ratings = 10404\n",
            "Number of unknown users = 0\n",
            "Number of unknown items = 0\n",
            "---\n",
            "Total users = 3698\n",
            "Total items = 6405\n",
            "\n",
            "[C2PF] Training started!\n",
            "Learning...\n",
            "Learning completed!\n"
          ],
          "name": "stdout"
        },
        {
          "output_type": "stream",
          "text": [
            "\r  0%|          | 0/3269 [00:00<?, ?it/s]"
          ],
          "name": "stderr"
        },
        {
          "output_type": "stream",
          "text": [
            "\n",
            "[C2PF] Evaluation started!\n"
          ],
          "name": "stdout"
        },
        {
          "output_type": "stream",
          "text": [
            "100%|██████████| 3269/3269 [00:09<00:00, 350.86it/s]\n"
          ],
          "name": "stderr"
        },
        {
          "output_type": "stream",
          "text": [
            "\n",
            "TEST:\n",
            "...\n",
            "     |    MRR | NDCG@-1 | Precision@20 | Recall@20 | Train (s) | Test (s)\n",
            "---- + ------ + ------- + ------------ + --------- + --------- + --------\n",
            "C2PF | 0.0611 |  0.1913 |       0.0136 |    0.0868 | 1314.9453 |   9.3316\n",
            "\n"
          ],
          "name": "stdout"
        }
      ]
    },
    {
      "cell_type": "markdown",
      "metadata": {
        "id": "OM2G66bhzibY"
      },
      "source": [
        "## Hyperparameters"
      ]
    },
    {
      "cell_type": "code",
      "metadata": {
        "id": "VwIvk9C6zfM-",
        "colab": {
          "base_uri": "https://localhost:8080/"
        },
        "outputId": "25ba9fb9-cf12-4764-b469-f6d7eca8d23d"
      },
      "source": [
        "\"\"\"Example for hyper-parameter searching with Matrix Factorization\"\"\"\n",
        "\n",
        "import numpy as np\n",
        "import cornac\n",
        "from cornac.datasets import movielens\n",
        "from cornac.eval_methods import RatioSplit\n",
        "from cornac.hyperopt import Discrete, Continuous\n",
        "from cornac.hyperopt import GridSearch, RandomSearch\n",
        "\n",
        "\n",
        "# Load MovieLens 100K ratings\n",
        "ml_100k = movielens.load_feedback(variant=\"100K\")\n",
        "\n",
        "# Define an evaluation method to split feedback into train, validation and test sets\n",
        "ratio_split = RatioSplit(data=ml_100k, test_size=0.1, val_size=0.1, verbose=True)\n",
        "\n",
        "# Instantiate MAE and RMSE for evaluation\n",
        "mae = cornac.metrics.MAE()\n",
        "rmse = cornac.metrics.RMSE()\n",
        "\n",
        "# Define a base MF model with fixed hyper-parameters\n",
        "mf = cornac.models.MF(max_iter=20, learning_rate=0.01, early_stop=True, verbose=True)\n",
        "\n",
        "# Wrap MF model inside GridSearch along with the searching space\n",
        "gs_mf = GridSearch(\n",
        "    model=mf,\n",
        "    space=[\n",
        "        Discrete(\"k\", [10, 30, 50]),\n",
        "        Discrete(\"use_bias\", [True, False]),\n",
        "        Discrete(\"lambda_reg\", [1e-1, 1e-2, 1e-3, 1e-4]),\n",
        "    ],\n",
        "    metric=rmse,\n",
        "    eval_method=ratio_split,\n",
        ")\n",
        "\n",
        "# Wrap MF model inside RandomSearch along with the searching space, try 30 times\n",
        "rs_mf = RandomSearch(\n",
        "    model=mf,\n",
        "    space=[\n",
        "        Discrete(\"k\", [10, 30, 50]),\n",
        "        Discrete(\"use_bias\", [True, False]),\n",
        "        Continuous(\"lambda_reg\", low=1e-4, high=1e-1),\n",
        "    ],\n",
        "    metric=rmse,\n",
        "    eval_method=ratio_split,\n",
        "    n_trails=30,\n",
        ")\n",
        "\n",
        "# Put everything together into an experiment and run it\n",
        "cornac.Experiment(\n",
        "    eval_method=ratio_split,\n",
        "    models=[gs_mf, rs_mf],\n",
        "    metrics=[mae, rmse],\n",
        "    user_based=False,\n",
        ").run()"
      ],
      "execution_count": null,
      "outputs": [
        {
          "output_type": "stream",
          "text": [
            "rating_threshold = 1.0\n",
            "exclude_unknowns = True\n"
          ],
          "name": "stdout"
        },
        {
          "output_type": "stream",
          "text": [
            " 75%|███████▌  | 15/20 [00:00<00:00, 113.22it/s, loss=31685.08]"
          ],
          "name": "stderr"
        },
        {
          "output_type": "stream",
          "text": [
            "---\n",
            "Training data:\n",
            "Number of users = 943\n",
            "Number of items = 1656\n",
            "Number of ratings = 80000\n",
            "Max rating = 5.0\n",
            "Min rating = 1.0\n",
            "Global mean = 3.5\n",
            "---\n",
            "Test data:\n",
            "Number of users = 925\n",
            "Number of items = 1254\n",
            "Number of ratings = 9984\n",
            "Number of unknown users = 0\n",
            "Number of unknown items = 0\n",
            "---\n",
            "Validation data:\n",
            "Number of users = 922\n",
            "Number of items = 1235\n",
            "Number of ratings = 9988\n",
            "---\n",
            "Total users = 943\n",
            "Total items = 1656\n",
            "\n",
            "[GridSearch_MF] Training started!\n",
            "Evaluating: {'k': 10, 'lambda_reg': 0.0001, 'use_bias': False}\n"
          ],
          "name": "stdout"
        },
        {
          "output_type": "stream",
          "text": [
            "100%|██████████| 20/20 [00:00<00:00, 117.48it/s, loss=28069.14]\n"
          ],
          "name": "stderr"
        },
        {
          "output_type": "stream",
          "text": [
            "Optimization finished!\n"
          ],
          "name": "stdout"
        },
        {
          "output_type": "stream",
          "text": [
            "100%|██████████| 20/20 [00:00<00:00, 135.92it/s, loss=29540.58]"
          ],
          "name": "stderr"
        },
        {
          "output_type": "stream",
          "text": [
            "Evaluating: {'k': 10, 'lambda_reg': 0.0001, 'use_bias': True}\n",
            "Optimization finished!\n"
          ],
          "name": "stdout"
        },
        {
          "output_type": "stream",
          "text": [
            "\n",
            "100%|██████████| 20/20 [00:00<00:00, 138.72it/s, loss=28466.41]"
          ],
          "name": "stderr"
        },
        {
          "output_type": "stream",
          "text": [
            "Evaluating: {'k': 10, 'lambda_reg': 0.001, 'use_bias': False}\n",
            "Optimization finished!\n"
          ],
          "name": "stdout"
        },
        {
          "output_type": "stream",
          "text": [
            "\n",
            "100%|██████████| 20/20 [00:00<00:00, 122.73it/s, loss=29679.09]"
          ],
          "name": "stderr"
        },
        {
          "output_type": "stream",
          "text": [
            "Evaluating: {'k': 10, 'lambda_reg': 0.001, 'use_bias': True}\n",
            "Optimization finished!\n"
          ],
          "name": "stdout"
        },
        {
          "output_type": "stream",
          "text": [
            "\n",
            "100%|██████████| 20/20 [00:00<00:00, 134.49it/s, loss=29168.98]"
          ],
          "name": "stderr"
        },
        {
          "output_type": "stream",
          "text": [
            "Evaluating: {'k': 10, 'lambda_reg': 0.01, 'use_bias': False}\n",
            "Optimization finished!\n"
          ],
          "name": "stdout"
        },
        {
          "output_type": "stream",
          "text": [
            "\n",
            "100%|██████████| 20/20 [00:00<00:00, 122.54it/s, loss=30386.51]"
          ],
          "name": "stderr"
        },
        {
          "output_type": "stream",
          "text": [
            "Evaluating: {'k': 10, 'lambda_reg': 0.01, 'use_bias': True}\n",
            "Optimization finished!\n"
          ],
          "name": "stdout"
        },
        {
          "output_type": "stream",
          "text": [
            "\n",
            "100%|██████████| 20/20 [00:00<00:00, 138.90it/s, loss=33891.18]"
          ],
          "name": "stderr"
        },
        {
          "output_type": "stream",
          "text": [
            "Evaluating: {'k': 10, 'lambda_reg': 0.1, 'use_bias': False}\n",
            "Optimization finished!\n"
          ],
          "name": "stdout"
        },
        {
          "output_type": "stream",
          "text": [
            "\n",
            "100%|██████████| 20/20 [00:00<00:00, 129.45it/s, loss=33907.84]"
          ],
          "name": "stderr"
        },
        {
          "output_type": "stream",
          "text": [
            "Evaluating: {'k': 10, 'lambda_reg': 0.1, 'use_bias': True}\n",
            "Optimization finished!\n"
          ],
          "name": "stdout"
        },
        {
          "output_type": "stream",
          "text": [
            "\n",
            " 75%|███████▌  | 15/20 [00:00<00:00, 80.51it/s, loss=30235.88]"
          ],
          "name": "stderr"
        },
        {
          "output_type": "stream",
          "text": [
            "Evaluating: {'k': 30, 'lambda_reg': 0.0001, 'use_bias': False}\n"
          ],
          "name": "stdout"
        },
        {
          "output_type": "stream",
          "text": [
            "100%|██████████| 20/20 [00:00<00:00, 79.79it/s, loss=24809.18]\n",
            " 15%|█▌        | 3/20 [00:00<00:00, 82.12it/s, loss=35532.26]"
          ],
          "name": "stderr"
        },
        {
          "output_type": "stream",
          "text": [
            "Optimization finished!\n",
            "Evaluating: {'k': 30, 'lambda_reg': 0.0001, 'use_bias': True}\n"
          ],
          "name": "stdout"
        },
        {
          "output_type": "stream",
          "text": [
            "100%|██████████| 20/20 [00:00<00:00, 78.13it/s, loss=26479.67]\n"
          ],
          "name": "stderr"
        },
        {
          "output_type": "stream",
          "text": [
            "Optimization finished!\n"
          ],
          "name": "stdout"
        },
        {
          "output_type": "stream",
          "text": [
            " 80%|████████  | 16/20 [00:00<00:00, 84.55it/s, loss=29081.02]"
          ],
          "name": "stderr"
        },
        {
          "output_type": "stream",
          "text": [
            "Evaluating: {'k': 30, 'lambda_reg': 0.001, 'use_bias': False}\n"
          ],
          "name": "stdout"
        },
        {
          "output_type": "stream",
          "text": [
            "100%|██████████| 20/20 [00:00<00:00, 80.98it/s, loss=24763.03]\n"
          ],
          "name": "stderr"
        },
        {
          "output_type": "stream",
          "text": [
            "Optimization finished!\n"
          ],
          "name": "stdout"
        },
        {
          "output_type": "stream",
          "text": [
            " 80%|████████  | 16/20 [00:00<00:00, 80.95it/s, loss=30655.64]"
          ],
          "name": "stderr"
        },
        {
          "output_type": "stream",
          "text": [
            "Evaluating: {'k': 30, 'lambda_reg': 0.001, 'use_bias': True}\n"
          ],
          "name": "stdout"
        },
        {
          "output_type": "stream",
          "text": [
            "100%|██████████| 20/20 [00:00<00:00, 79.88it/s, loss=26515.29]\n",
            " 10%|█         | 2/20 [00:00<00:00, 90.06it/s, loss=252966.80]"
          ],
          "name": "stderr"
        },
        {
          "output_type": "stream",
          "text": [
            "Optimization finished!\n",
            "Evaluating: {'k': 30, 'lambda_reg': 0.01, 'use_bias': False}\n"
          ],
          "name": "stdout"
        },
        {
          "output_type": "stream",
          "text": [
            "100%|██████████| 20/20 [00:00<00:00, 74.03it/s, loss=26736.58]\n"
          ],
          "name": "stderr"
        },
        {
          "output_type": "stream",
          "text": [
            "Optimization finished!\n"
          ],
          "name": "stdout"
        },
        {
          "output_type": "stream",
          "text": [
            " 80%|████████  | 16/20 [00:00<00:00, 83.59it/s, loss=31441.78]"
          ],
          "name": "stderr"
        },
        {
          "output_type": "stream",
          "text": [
            "Evaluating: {'k': 30, 'lambda_reg': 0.01, 'use_bias': True}\n"
          ],
          "name": "stdout"
        },
        {
          "output_type": "stream",
          "text": [
            "100%|██████████| 20/20 [00:00<00:00, 81.56it/s, loss=28064.21]\n"
          ],
          "name": "stderr"
        },
        {
          "output_type": "stream",
          "text": [
            "Optimization finished!\n"
          ],
          "name": "stdout"
        },
        {
          "output_type": "stream",
          "text": [
            " 85%|████████▌ | 17/20 [00:00<00:00, 90.88it/s, loss=34440.27]"
          ],
          "name": "stderr"
        },
        {
          "output_type": "stream",
          "text": [
            "Evaluating: {'k': 30, 'lambda_reg': 0.1, 'use_bias': False}\n"
          ],
          "name": "stdout"
        },
        {
          "output_type": "stream",
          "text": [
            "100%|██████████| 20/20 [00:00<00:00, 86.20it/s, loss=33572.37]\n"
          ],
          "name": "stderr"
        },
        {
          "output_type": "stream",
          "text": [
            "Optimization finished!\n"
          ],
          "name": "stdout"
        },
        {
          "output_type": "stream",
          "text": [
            " 80%|████████  | 16/20 [00:00<00:00, 85.06it/s, loss=33991.67]"
          ],
          "name": "stderr"
        },
        {
          "output_type": "stream",
          "text": [
            "Evaluating: {'k': 30, 'lambda_reg': 0.1, 'use_bias': True}\n"
          ],
          "name": "stdout"
        },
        {
          "output_type": "stream",
          "text": [
            "100%|██████████| 20/20 [00:00<00:00, 80.74it/s, loss=33831.92]\n",
            "  5%|▌         | 1/20 [00:00<00:00, 68.43it/s, loss=546675.25]"
          ],
          "name": "stderr"
        },
        {
          "output_type": "stream",
          "text": [
            "Optimization finished!\n",
            "Evaluating: {'k': 50, 'lambda_reg': 0.0001, 'use_bias': False}\n"
          ],
          "name": "stdout"
        },
        {
          "output_type": "stream",
          "text": [
            "100%|██████████| 20/20 [00:00<00:00, 57.63it/s, loss=22798.65]\n",
            "  5%|▌         | 1/20 [00:00<00:00, 68.89it/s, loss=41469.27]"
          ],
          "name": "stderr"
        },
        {
          "output_type": "stream",
          "text": [
            "Optimization finished!\n",
            "Evaluating: {'k': 50, 'lambda_reg': 0.0001, 'use_bias': True}\n"
          ],
          "name": "stdout"
        },
        {
          "output_type": "stream",
          "text": [
            "100%|██████████| 20/20 [00:00<00:00, 60.71it/s, loss=24302.16]\n"
          ],
          "name": "stderr"
        },
        {
          "output_type": "stream",
          "text": [
            "Optimization finished!\n"
          ],
          "name": "stdout"
        },
        {
          "output_type": "stream",
          "text": [
            " 55%|█████▌    | 11/20 [00:00<00:00, 63.89it/s, loss=33206.38]"
          ],
          "name": "stderr"
        },
        {
          "output_type": "stream",
          "text": [
            "Evaluating: {'k': 50, 'lambda_reg': 0.001, 'use_bias': False}\n"
          ],
          "name": "stdout"
        },
        {
          "output_type": "stream",
          "text": [
            "100%|██████████| 20/20 [00:00<00:00, 54.75it/s, loss=23045.52]\n"
          ],
          "name": "stderr"
        },
        {
          "output_type": "stream",
          "text": [
            "Optimization finished!\n"
          ],
          "name": "stdout"
        },
        {
          "output_type": "stream",
          "text": [
            " 60%|██████    | 12/20 [00:00<00:00, 66.91it/s, loss=33009.37]"
          ],
          "name": "stderr"
        },
        {
          "output_type": "stream",
          "text": [
            "Evaluating: {'k': 50, 'lambda_reg': 0.001, 'use_bias': True}\n"
          ],
          "name": "stdout"
        },
        {
          "output_type": "stream",
          "text": [
            "100%|██████████| 20/20 [00:00<00:00, 63.26it/s, loss=24565.52]\n"
          ],
          "name": "stderr"
        },
        {
          "output_type": "stream",
          "text": [
            "Optimization finished!\n"
          ],
          "name": "stdout"
        },
        {
          "output_type": "stream",
          "text": [
            " 50%|█████     | 10/20 [00:00<00:00, 53.04it/s, loss=34417.25]"
          ],
          "name": "stderr"
        },
        {
          "output_type": "stream",
          "text": [
            "Evaluating: {'k': 50, 'lambda_reg': 0.01, 'use_bias': False}\n"
          ],
          "name": "stdout"
        },
        {
          "output_type": "stream",
          "text": [
            "100%|██████████| 20/20 [00:00<00:00, 55.37it/s, loss=24783.99]\n"
          ],
          "name": "stderr"
        },
        {
          "output_type": "stream",
          "text": [
            "Optimization finished!\n",
            "Evaluating: {'k': 50, 'lambda_reg': 0.01, 'use_bias': True}\n"
          ],
          "name": "stdout"
        },
        {
          "output_type": "stream",
          "text": [
            "100%|██████████| 20/20 [00:00<00:00, 55.83it/s, loss=26360.77]\n"
          ],
          "name": "stderr"
        },
        {
          "output_type": "stream",
          "text": [
            "Optimization finished!\n"
          ],
          "name": "stdout"
        },
        {
          "output_type": "stream",
          "text": [
            " 60%|██████    | 12/20 [00:00<00:00, 59.66it/s, loss=35750.37]"
          ],
          "name": "stderr"
        },
        {
          "output_type": "stream",
          "text": [
            "Evaluating: {'k': 50, 'lambda_reg': 0.1, 'use_bias': False}\n"
          ],
          "name": "stdout"
        },
        {
          "output_type": "stream",
          "text": [
            "100%|██████████| 20/20 [00:00<00:00, 58.32it/s, loss=33372.11]\n"
          ],
          "name": "stderr"
        },
        {
          "output_type": "stream",
          "text": [
            "Optimization finished!\n"
          ],
          "name": "stdout"
        },
        {
          "output_type": "stream",
          "text": [
            " 55%|█████▌    | 11/20 [00:00<00:00, 61.39it/s, loss=34167.66]"
          ],
          "name": "stderr"
        },
        {
          "output_type": "stream",
          "text": [
            "Evaluating: {'k': 50, 'lambda_reg': 0.1, 'use_bias': True}\n"
          ],
          "name": "stdout"
        },
        {
          "output_type": "stream",
          "text": [
            "100%|██████████| 20/20 [00:00<00:00, 58.49it/s, loss=33779.37]\n"
          ],
          "name": "stderr"
        },
        {
          "output_type": "stream",
          "text": [
            "Optimization finished!\n",
            "Best parameter settings: {'k': 50, 'lambda_reg': 0.01, 'use_bias': False}\n",
            "RMSE = 0.9220\n",
            "\n",
            "[GridSearch_MF] Evaluation started!\n"
          ],
          "name": "stdout"
        },
        {
          "output_type": "stream",
          "text": [
            " 75%|███████▌  | 15/20 [00:00<00:00, 79.16it/s, loss=33960.62]"
          ],
          "name": "stderr"
        },
        {
          "output_type": "stream",
          "text": [
            "\n",
            "[RandomSearch_MF] Training started!\n",
            "Evaluating: {'k': 30, 'lambda_reg': 0.08612193189485716, 'use_bias': True}\n"
          ],
          "name": "stdout"
        },
        {
          "output_type": "stream",
          "text": [
            "100%|██████████| 20/20 [00:00<00:00, 77.07it/s, loss=33654.50]\n",
            " 30%|███       | 6/20 [00:00<00:00, 141.43it/s, loss=38583.63]"
          ],
          "name": "stderr"
        },
        {
          "output_type": "stream",
          "text": [
            "Optimization finished!\n",
            "Evaluating: {'k': 10, 'lambda_reg': 0.06501679843184538, 'use_bias': False}\n"
          ],
          "name": "stdout"
        },
        {
          "output_type": "stream",
          "text": [
            "100%|██████████| 20/20 [00:00<00:00, 100.55it/s, loss=33031.33]\n"
          ],
          "name": "stderr"
        },
        {
          "output_type": "stream",
          "text": [
            "Optimization finished!\n"
          ],
          "name": "stdout"
        },
        {
          "output_type": "stream",
          "text": [
            " 75%|███████▌  | 15/20 [00:00<00:00, 83.19it/s, loss=33864.39]"
          ],
          "name": "stderr"
        },
        {
          "output_type": "stream",
          "text": [
            "Evaluating: {'k': 30, 'lambda_reg': 0.0694755346230901, 'use_bias': True}\n"
          ],
          "name": "stdout"
        },
        {
          "output_type": "stream",
          "text": [
            "100%|██████████| 20/20 [00:00<00:00, 72.34it/s, loss=33263.62]\n",
            " 15%|█▌        | 3/20 [00:00<00:00, 72.29it/s, loss=62142.05] "
          ],
          "name": "stderr"
        },
        {
          "output_type": "stream",
          "text": [
            "Optimization finished!\n",
            "Evaluating: {'k': 50, 'lambda_reg': 0.08344455898777325, 'use_bias': False}\n"
          ],
          "name": "stdout"
        },
        {
          "output_type": "stream",
          "text": [
            "100%|██████████| 20/20 [00:00<00:00, 57.71it/s, loss=32557.79]\n"
          ],
          "name": "stderr"
        },
        {
          "output_type": "stream",
          "text": [
            "Optimization finished!\n"
          ],
          "name": "stdout"
        },
        {
          "output_type": "stream",
          "text": [
            "100%|██████████| 20/20 [00:00<00:00, 113.03it/s, loss=32853.84]"
          ],
          "name": "stderr"
        },
        {
          "output_type": "stream",
          "text": [
            "Evaluating: {'k': 10, 'lambda_reg': 0.06841850071431532, 'use_bias': False}\n",
            "Optimization finished!\n"
          ],
          "name": "stdout"
        },
        {
          "output_type": "stream",
          "text": [
            "\n",
            "100%|██████████| 20/20 [00:00<00:00, 124.30it/s, loss=33150.24]"
          ],
          "name": "stderr"
        },
        {
          "output_type": "stream",
          "text": [
            "Evaluating: {'k': 10, 'lambda_reg': 0.05636623382282792, 'use_bias': True}\n",
            "Optimization finished!\n"
          ],
          "name": "stdout"
        },
        {
          "output_type": "stream",
          "text": [
            "\n",
            " 70%|███████   | 14/20 [00:00<00:00, 76.65it/s, loss=35203.05]"
          ],
          "name": "stderr"
        },
        {
          "output_type": "stream",
          "text": [
            "Evaluating: {'k': 30, 'lambda_reg': 0.09375336481584197, 'use_bias': False}\n"
          ],
          "name": "stdout"
        },
        {
          "output_type": "stream",
          "text": [
            "100%|██████████| 20/20 [00:00<00:00, 73.56it/s, loss=33380.41]\n"
          ],
          "name": "stderr"
        },
        {
          "output_type": "stream",
          "text": [
            "Optimization finished!\n"
          ],
          "name": "stdout"
        },
        {
          "output_type": "stream",
          "text": [
            " 50%|█████     | 10/20 [00:00<00:00, 53.25it/s, loss=33705.49]"
          ],
          "name": "stderr"
        },
        {
          "output_type": "stream",
          "text": [
            "Evaluating: {'k': 50, 'lambda_reg': 0.003348765700165698, 'use_bias': True}\n"
          ],
          "name": "stdout"
        },
        {
          "output_type": "stream",
          "text": [
            "100%|██████████| 20/20 [00:00<00:00, 48.41it/s, loss=25168.01]\n",
            " 10%|█         | 2/20 [00:00<00:00, 119.17it/s, loss=322194.56]"
          ],
          "name": "stderr"
        },
        {
          "output_type": "stream",
          "text": [
            "Optimization finished!\n",
            "Evaluating: {'k': 10, 'lambda_reg': 0.04834871514338827, 'use_bias': False}\n"
          ],
          "name": "stdout"
        },
        {
          "output_type": "stream",
          "text": [
            "100%|██████████| 20/20 [00:00<00:00, 100.29it/s, loss=32004.79]\n"
          ],
          "name": "stderr"
        },
        {
          "output_type": "stream",
          "text": [
            "Optimization finished!\n"
          ],
          "name": "stdout"
        },
        {
          "output_type": "stream",
          "text": [
            " 50%|█████     | 10/20 [00:00<00:00, 54.17it/s, loss=34853.15]"
          ],
          "name": "stderr"
        },
        {
          "output_type": "stream",
          "text": [
            "Evaluating: {'k': 50, 'lambda_reg': 0.0293367690175802, 'use_bias': False}\n"
          ],
          "name": "stdout"
        },
        {
          "output_type": "stream",
          "text": [
            "100%|██████████| 20/20 [00:00<00:00, 50.23it/s, loss=27899.66]\n",
            " 10%|█         | 2/20 [00:00<00:00, 114.57it/s, loss=36735.89]"
          ],
          "name": "stderr"
        },
        {
          "output_type": "stream",
          "text": [
            "Optimization finished!\n",
            "Evaluating: {'k': 10, 'lambda_reg': 0.008332232500049594, 'use_bias': True}\n"
          ],
          "name": "stdout"
        },
        {
          "output_type": "stream",
          "text": [
            "100%|██████████| 20/20 [00:00<00:00, 103.31it/s, loss=30316.82]\n"
          ],
          "name": "stderr"
        },
        {
          "output_type": "stream",
          "text": [
            "Optimization finished!\n"
          ],
          "name": "stdout"
        },
        {
          "output_type": "stream",
          "text": [
            " 55%|█████▌    | 11/20 [00:00<00:00, 61.34it/s, loss=33973.71]"
          ],
          "name": "stderr"
        },
        {
          "output_type": "stream",
          "text": [
            "Evaluating: {'k': 50, 'lambda_reg': 0.05440617877888826, 'use_bias': True}\n"
          ],
          "name": "stdout"
        },
        {
          "output_type": "stream",
          "text": [
            "100%|██████████| 20/20 [00:00<00:00, 55.02it/s, loss=32135.47]\n",
            "  0%|          | 0/20 [00:00<?, ?it/s]"
          ],
          "name": "stderr"
        },
        {
          "output_type": "stream",
          "text": [
            "Optimization finished!\n",
            "Evaluating: {'k': 30, 'lambda_reg': 0.05911135478061436, 'use_bias': True}\n"
          ],
          "name": "stdout"
        },
        {
          "output_type": "stream",
          "text": [
            "100%|██████████| 20/20 [00:00<00:00, 69.46it/s, loss=32609.57]\n"
          ],
          "name": "stderr"
        },
        {
          "output_type": "stream",
          "text": [
            "Optimization finished!\n"
          ],
          "name": "stdout"
        },
        {
          "output_type": "stream",
          "text": [
            " 60%|██████    | 12/20 [00:00<00:00, 76.24it/s, loss=33982.51]"
          ],
          "name": "stderr"
        },
        {
          "output_type": "stream",
          "text": [
            "Evaluating: {'k': 30, 'lambda_reg': 0.06601038205965916, 'use_bias': True}\n"
          ],
          "name": "stdout"
        },
        {
          "output_type": "stream",
          "text": [
            "100%|██████████| 20/20 [00:00<00:00, 66.61it/s, loss=32986.09]\n"
          ],
          "name": "stderr"
        },
        {
          "output_type": "stream",
          "text": [
            "Optimization finished!\n"
          ],
          "name": "stdout"
        },
        {
          "output_type": "stream",
          "text": [
            "100%|██████████| 20/20 [00:00<00:00, 101.00it/s, loss=33249.00]"
          ],
          "name": "stderr"
        },
        {
          "output_type": "stream",
          "text": [
            "Evaluating: {'k': 10, 'lambda_reg': 0.08521209412017094, 'use_bias': False}\n"
          ],
          "name": "stdout"
        },
        {
          "output_type": "stream",
          "text": [
            "\r100%|██████████| 20/20 [00:00<00:00, 100.27it/s, loss=33249.00]\n"
          ],
          "name": "stderr"
        },
        {
          "output_type": "stream",
          "text": [
            "Optimization finished!\n"
          ],
          "name": "stdout"
        },
        {
          "output_type": "stream",
          "text": [
            " 95%|█████████▌| 19/20 [00:00<00:00, 107.30it/s, loss=29760.30]"
          ],
          "name": "stderr"
        },
        {
          "output_type": "stream",
          "text": [
            "Evaluating: {'k': 10, 'lambda_reg': 0.00035195130988261385, 'use_bias': False}\n"
          ],
          "name": "stdout"
        },
        {
          "output_type": "stream",
          "text": [
            "100%|██████████| 20/20 [00:00<00:00, 98.99it/s, loss=29069.75] \n"
          ],
          "name": "stderr"
        },
        {
          "output_type": "stream",
          "text": [
            "Optimization finished!\n"
          ],
          "name": "stdout"
        },
        {
          "output_type": "stream",
          "text": [
            "100%|██████████| 20/20 [00:00<00:00, 106.21it/s, loss=30486.16]"
          ],
          "name": "stderr"
        },
        {
          "output_type": "stream",
          "text": [
            "Evaluating: {'k': 10, 'lambda_reg': 0.020650725560393792, 'use_bias': False}\n"
          ],
          "name": "stdout"
        },
        {
          "output_type": "stream",
          "text": [
            "\n",
            " 55%|█████▌    | 11/20 [00:00<00:00, 57.71it/s, loss=33524.53]"
          ],
          "name": "stderr"
        },
        {
          "output_type": "stream",
          "text": [
            "Optimization finished!\n",
            "Evaluating: {'k': 50, 'lambda_reg': 0.009120595685760981, 'use_bias': False}\n"
          ],
          "name": "stdout"
        },
        {
          "output_type": "stream",
          "text": [
            "100%|██████████| 20/20 [00:00<00:00, 52.97it/s, loss=24341.06]\n"
          ],
          "name": "stderr"
        },
        {
          "output_type": "stream",
          "text": [
            "Optimization finished!\n"
          ],
          "name": "stdout"
        },
        {
          "output_type": "stream",
          "text": [
            " 70%|███████   | 14/20 [00:00<00:00, 74.48it/s, loss=33847.32]"
          ],
          "name": "stderr"
        },
        {
          "output_type": "stream",
          "text": [
            "Evaluating: {'k': 30, 'lambda_reg': 0.05819710438128485, 'use_bias': True}\n"
          ],
          "name": "stdout"
        },
        {
          "output_type": "stream",
          "text": [
            "100%|██████████| 20/20 [00:00<00:00, 74.83it/s, loss=32835.14]\n",
            " 10%|█         | 2/20 [00:00<00:00, 87.17it/s, loss=251168.25] "
          ],
          "name": "stderr"
        },
        {
          "output_type": "stream",
          "text": [
            "Optimization finished!\n",
            "Evaluating: {'k': 30, 'lambda_reg': 0.003045882175220655, 'use_bias': False}\n"
          ],
          "name": "stdout"
        },
        {
          "output_type": "stream",
          "text": [
            "100%|██████████| 20/20 [00:00<00:00, 71.26it/s, loss=25421.24]\n"
          ],
          "name": "stderr"
        },
        {
          "output_type": "stream",
          "text": [
            "Optimization finished!\n",
            "Evaluating: {'k': 50, 'lambda_reg': 0.021020313541605162, 'use_bias': True}\n"
          ],
          "name": "stdout"
        },
        {
          "output_type": "stream",
          "text": [
            "100%|██████████| 20/20 [00:00<00:00, 52.99it/s, loss=28414.02]\n"
          ],
          "name": "stderr"
        },
        {
          "output_type": "stream",
          "text": [
            "Optimization finished!\n"
          ],
          "name": "stdout"
        },
        {
          "output_type": "stream",
          "text": [
            " 50%|█████     | 10/20 [00:00<00:00, 51.96it/s, loss=36176.66]"
          ],
          "name": "stderr"
        },
        {
          "output_type": "stream",
          "text": [
            "Evaluating: {'k': 50, 'lambda_reg': 0.0931018404851425, 'use_bias': False}\n"
          ],
          "name": "stdout"
        },
        {
          "output_type": "stream",
          "text": [
            "100%|██████████| 20/20 [00:00<00:00, 50.41it/s, loss=32988.32]\n"
          ],
          "name": "stderr"
        },
        {
          "output_type": "stream",
          "text": [
            "Optimization finished!\n"
          ],
          "name": "stdout"
        },
        {
          "output_type": "stream",
          "text": [
            "100%|██████████| 20/20 [00:00<00:00, 108.93it/s, loss=28873.34]"
          ],
          "name": "stderr"
        },
        {
          "output_type": "stream",
          "text": [
            "Evaluating: {'k': 10, 'lambda_reg': 0.004135755775979635, 'use_bias': False}\n",
            "Optimization finished!\n"
          ],
          "name": "stdout"
        },
        {
          "output_type": "stream",
          "text": [
            "\n",
            " 60%|██████    | 12/20 [00:00<00:00, 69.02it/s, loss=33869.27]"
          ],
          "name": "stderr"
        },
        {
          "output_type": "stream",
          "text": [
            "Evaluating: {'k': 30, 'lambda_reg': 0.040445801068814305, 'use_bias': True}\n"
          ],
          "name": "stdout"
        },
        {
          "output_type": "stream",
          "text": [
            "100%|██████████| 20/20 [00:00<00:00, 63.04it/s, loss=31712.69]\n",
            "  5%|▌         | 1/20 [00:00<00:00, 132.08it/s, loss=41573.63]"
          ],
          "name": "stderr"
        },
        {
          "output_type": "stream",
          "text": [
            "Optimization finished!\n",
            "Evaluating: {'k': 10, 'lambda_reg': 0.07677103563371872, 'use_bias': True}\n"
          ],
          "name": "stdout"
        },
        {
          "output_type": "stream",
          "text": [
            "100%|██████████| 20/20 [00:00<00:00, 110.49it/s, loss=33682.86]\n"
          ],
          "name": "stderr"
        },
        {
          "output_type": "stream",
          "text": [
            "Optimization finished!\n"
          ],
          "name": "stdout"
        },
        {
          "output_type": "stream",
          "text": [
            " 50%|█████     | 10/20 [00:00<00:00, 54.03it/s, loss=35032.48]"
          ],
          "name": "stderr"
        },
        {
          "output_type": "stream",
          "text": [
            "Evaluating: {'k': 50, 'lambda_reg': 0.03065512171145367, 'use_bias': False}\n"
          ],
          "name": "stdout"
        },
        {
          "output_type": "stream",
          "text": [
            "100%|██████████| 20/20 [00:00<00:00, 51.99it/s, loss=28106.60]\n"
          ],
          "name": "stderr"
        },
        {
          "output_type": "stream",
          "text": [
            "Optimization finished!\n"
          ],
          "name": "stdout"
        },
        {
          "output_type": "stream",
          "text": [
            " 75%|███████▌  | 15/20 [00:00<00:00, 77.31it/s, loss=31036.10]"
          ],
          "name": "stderr"
        },
        {
          "output_type": "stream",
          "text": [
            "Evaluating: {'k': 30, 'lambda_reg': 0.007274328332829502, 'use_bias': False}\n"
          ],
          "name": "stdout"
        },
        {
          "output_type": "stream",
          "text": [
            "100%|██████████| 20/20 [00:00<00:00, 74.36it/s, loss=26083.12]\n"
          ],
          "name": "stderr"
        },
        {
          "output_type": "stream",
          "text": [
            "Optimization finished!\n"
          ],
          "name": "stdout"
        },
        {
          "output_type": "stream",
          "text": [
            " 90%|█████████ | 18/20 [00:00<00:00, 95.74it/s, loss=32830.86]"
          ],
          "name": "stderr"
        },
        {
          "output_type": "stream",
          "text": [
            "Evaluating: {'k': 10, 'lambda_reg': 0.05198029254841431, 'use_bias': False}\n"
          ],
          "name": "stdout"
        },
        {
          "output_type": "stream",
          "text": [
            "100%|██████████| 20/20 [00:00<00:00, 87.32it/s, loss=32142.98]\n"
          ],
          "name": "stderr"
        },
        {
          "output_type": "stream",
          "text": [
            "Optimization finished!\n"
          ],
          "name": "stdout"
        },
        {
          "output_type": "stream",
          "text": [
            " 55%|█████▌    | 11/20 [00:00<00:00, 62.66it/s, loss=35979.21]"
          ],
          "name": "stderr"
        },
        {
          "output_type": "stream",
          "text": [
            "Evaluating: {'k': 50, 'lambda_reg': 0.09457717620040243, 'use_bias': False}\n"
          ],
          "name": "stdout"
        },
        {
          "output_type": "stream",
          "text": [
            "100%|██████████| 20/20 [00:00<00:00, 54.57it/s, loss=33207.05]\n"
          ],
          "name": "stderr"
        },
        {
          "output_type": "stream",
          "text": [
            "Optimization finished!\n"
          ],
          "name": "stdout"
        },
        {
          "output_type": "stream",
          "text": [
            " 65%|██████▌   | 13/20 [00:00<00:00, 72.72it/s, loss=33535.01]"
          ],
          "name": "stderr"
        },
        {
          "output_type": "stream",
          "text": [
            "Evaluating: {'k': 30, 'lambda_reg': 0.022599564709232942, 'use_bias': True}\n"
          ],
          "name": "stdout"
        },
        {
          "output_type": "stream",
          "text": [
            "100%|██████████| 20/20 [00:00<00:00, 68.46it/s, loss=29700.91]\n"
          ],
          "name": "stderr"
        },
        {
          "output_type": "stream",
          "text": [
            "Optimization finished!\n",
            "Best parameter settings: {'k': 50, 'lambda_reg': 0.009120595685760981, 'use_bias': False}\n",
            "RMSE = 0.9211\n",
            "\n",
            "[RandomSearch_MF] Evaluation started!\n",
            "\n",
            "VALIDATION:\n",
            "...\n",
            "                |    MAE |   RMSE | Time (s)\n",
            "--------------- + ------ + ------ + --------\n",
            "GridSearch_MF   | 0.7229 | 0.9220 |   0.1563\n",
            "RandomSearch_MF | 0.7212 | 0.9211 |   0.1615\n",
            "\n",
            "TEST:\n",
            "...\n",
            "                |    MAE |   RMSE | Train (s) | Test (s)\n",
            "--------------- + ------ + ------ + --------- + --------\n",
            "GridSearch_MF   | 0.7210 | 0.9217 |   11.4011 |   0.1963\n",
            "RandomSearch_MF | 0.7227 | 0.9245 |   15.3778 |   0.2546\n",
            "\n"
          ],
          "name": "stdout"
        }
      ]
    },
    {
      "cell_type": "markdown",
      "metadata": {
        "id": "5X_TsyJF0c7s"
      },
      "source": [
        "## Social BPR\n",
        "Example for Social Bayesian Personalized Ranking (SBPR) with Epinions dataset"
      ]
    },
    {
      "cell_type": "code",
      "metadata": {
        "id": "MI4gRJCg0bio",
        "colab": {
          "base_uri": "https://localhost:8080/"
        },
        "outputId": "8030df8c-5266-419d-df07-2932ec76fdab"
      },
      "source": [
        "import cornac\n",
        "from cornac.data import Reader, GraphModality\n",
        "from cornac.datasets import epinions\n",
        "from cornac.eval_methods import RatioSplit\n",
        "\n",
        "\n",
        "# SBPR integrates user social network into Bayesian Personalized Ranking.\n",
        "# The necessary data can be loaded as follows\n",
        "feedback = epinions.load_feedback(\n",
        "    Reader(bin_threshold=4.0)\n",
        ")  # feedback is binarised (turned into implicit) using Reader.\n",
        "trust = epinions.load_trust()\n",
        "\n",
        "# Instantiate a GraphModality, it makes it convenient to work with graph (network) auxiliary information\n",
        "# For more details, please refer to the tutorial on how to work with auxiliary data\n",
        "user_graph_modality = GraphModality(data=trust)\n",
        "\n",
        "# Define an evaluation method to split feedback into train and test sets\n",
        "ratio_split = RatioSplit(\n",
        "    data=feedback,\n",
        "    test_size=0.1,\n",
        "    rating_threshold=0.5,\n",
        "    exclude_unknowns=True,\n",
        "    verbose=True,\n",
        "    user_graph=user_graph_modality,\n",
        ")\n",
        "\n",
        "# Instantiate SBPR model\n",
        "sbpr = cornac.models.SBPR(\n",
        "    k=10,\n",
        "    max_iter=50,\n",
        "    learning_rate=0.001,\n",
        "    lambda_u=0.015,\n",
        "    lambda_v=0.025,\n",
        "    lambda_b=0.01,\n",
        "    verbose=True,\n",
        ")\n",
        "\n",
        "# Use Recall@10 for evaluation\n",
        "rec_10 = cornac.metrics.Recall(k=10)\n",
        "\n",
        "# Put everything together into an experiment and run it\n",
        "cornac.Experiment(eval_method=ratio_split, models=[sbpr], metrics=[rec_10]).run()"
      ],
      "execution_count": null,
      "outputs": [
        {
          "output_type": "stream",
          "text": [
            "\r0.00B [00:00, ?B/s]"
          ],
          "name": "stderr"
        },
        {
          "output_type": "stream",
          "text": [
            "Data from http://www.trustlet.org/datasets/downloaded_epinions/ratings_data.txt.bz2\n",
            "will be cached into /root/.cornac/epinions/ratings_data.txt\n"
          ],
          "name": "stdout"
        },
        {
          "output_type": "stream",
          "text": [
            "2.62MB [00:01, 1.99MB/s]                            \n"
          ],
          "name": "stderr"
        },
        {
          "output_type": "stream",
          "text": [
            "Unzipping ...\n",
            "File cached!\n"
          ],
          "name": "stdout"
        },
        {
          "output_type": "stream",
          "text": [
            "\r0.00B [00:00, ?B/s]"
          ],
          "name": "stderr"
        },
        {
          "output_type": "stream",
          "text": [
            "Data from http://www.trustlet.org/datasets/downloaded_epinions/trust_data.txt.bz2\n",
            "will be cached into /root/.cornac/epinions/trust_data.txt\n"
          ],
          "name": "stdout"
        },
        {
          "output_type": "stream",
          "text": [
            "1.70MB [00:00, 2.19MB/s]                           \n"
          ],
          "name": "stderr"
        },
        {
          "output_type": "stream",
          "text": [
            "Unzipping ...\n",
            "File cached!\n",
            "rating_threshold = 0.5\n",
            "exclude_unknowns = True\n",
            "---\n",
            "Training data:\n",
            "Number of users = 37153\n",
            "Number of items = 111967\n",
            "Number of ratings = 445853\n",
            "Max rating = 1.0\n",
            "Min rating = 1.0\n",
            "Global mean = 1.0\n",
            "---\n",
            "Test data:\n",
            "Number of users = 16312\n",
            "Number of items = 19302\n",
            "Number of ratings = 41537\n",
            "Number of unknown users = 0\n",
            "Number of unknown items = 0\n",
            "---\n",
            "Total users = 37153\n",
            "Total items = 111967\n",
            "\n",
            "[SBPR] Training started!\n"
          ],
          "name": "stdout"
        },
        {
          "output_type": "stream",
          "text": [
            "Building social data: 100%|██████████| 37153/37153 [00:21<00:00, 1738.91it/s]\n",
            "100%|██████████| 50/50 [00:10<00:00,  4.77it/s, skipped=0.06%]\n",
            "  0%|          | 0/16312 [00:00<?, ?it/s]"
          ],
          "name": "stderr"
        },
        {
          "output_type": "stream",
          "text": [
            "Optimization finished!\n",
            "\n",
            "[SBPR] Evaluation started!\n"
          ],
          "name": "stdout"
        },
        {
          "output_type": "stream",
          "text": [
            "100%|██████████| 16312/16312 [05:16<00:00, 51.56it/s]"
          ],
          "name": "stderr"
        },
        {
          "output_type": "stream",
          "text": [
            "\n",
            "TEST:\n",
            "...\n",
            "     | Recall@10 | Train (s) | Test (s)\n",
            "---- + --------- + --------- + --------\n",
            "SBPR |    0.0183 |   40.7528 | 316.3553\n",
            "\n"
          ],
          "name": "stdout"
        },
        {
          "output_type": "stream",
          "text": [
            "\n"
          ],
          "name": "stderr"
        }
      ]
    }
  ]
}