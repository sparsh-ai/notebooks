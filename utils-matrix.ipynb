{
 "cells": [
  {
   "cell_type": "code",
   "execution_count": null,
   "metadata": {},
   "outputs": [],
   "source": [
    "# default_exp utils.matrix"
   ]
  },
  {
   "cell_type": "markdown",
   "metadata": {},
   "source": [
    "# Matrix\n",
    "> Implementation of utilities for transforming data into matrix formats."
   ]
  },
  {
   "cell_type": "code",
   "execution_count": null,
   "metadata": {},
   "outputs": [],
   "source": [
    "#hide\n",
    "from nbdev.showdoc import *\n",
    "from fastcore.nb_imports import *\n",
    "from fastcore.test import *"
   ]
  },
  {
   "cell_type": "code",
   "execution_count": null,
   "metadata": {},
   "outputs": [],
   "source": [
    "#export\n",
    "import numpy as np\n",
    "from scipy.sparse import csr_matrix"
   ]
  },
  {
   "cell_type": "markdown",
   "metadata": {},
   "source": [
    "## generate rating matrix"
   ]
  },
  {
   "cell_type": "code",
   "execution_count": null,
   "metadata": {},
   "outputs": [],
   "source": [
    "#export\n",
    "def generate_rating_matrix(user_seq, num_users, num_items, n):\n",
    "    \"\"\"\n",
    "    Converts user-items sequences into a sparse rating matrix\n",
    "\n",
    "    Args:\n",
    "        user_seq (list): a list of list where each inner list is a sequence of items for a user\n",
    "        num_users (int): number of users\n",
    "        num_items (int): number of items\n",
    "        n (int): number of items to ignore from the last for each inner list, for valid/test samples\n",
    "    Returns:\n",
    "        csr_matrix: user item rating matrix\n",
    "    \"\"\"\n",
    "    row = []\n",
    "    col = []\n",
    "    data = []\n",
    "    for user_id, item_list in enumerate(user_seq):\n",
    "        for item in item_list[:-n]: #\n",
    "            row.append(user_id)\n",
    "            col.append(item)\n",
    "            data.append(1)\n",
    "\n",
    "    row = np.array(row)\n",
    "    col = np.array(col)\n",
    "    data = np.array(data)\n",
    "    return csr_matrix((data, (row, col)), shape=(num_users, num_items))"
   ]
  },
  {
   "cell_type": "markdown",
   "metadata": {},
   "source": [
    "Tests"
   ]
  },
  {
   "cell_type": "code",
   "execution_count": null,
   "metadata": {},
   "outputs": [],
   "source": [
    "def test_generate_rating_matrix(num_users=3, num_items=8, n=2, neg_case=False):\n",
    "    \"\"\"\n",
    "    Tests the `generate_rating_matrix` method\n",
    "    \"\"\"\n",
    "    user_seq = [\n",
    "                [0,2,1,4],\n",
    "                [1,2,5,7],\n",
    "                [0,7,4,4,6,1]\n",
    "    ]\n",
    "    if neg_case:\n",
    "        user_seq[0,2] = -1\n",
    "\n",
    "    result = generate_rating_matrix(user_seq, num_users, num_items, n)\n",
    "    return result.todense().astype('int32')"
   ]
  },
  {
   "cell_type": "code",
   "execution_count": null,
   "metadata": {},
   "outputs": [],
   "source": [
    "output = test_generate_rating_matrix(num_users=3, num_items=8)\n",
    "expected = np.array([[1, 0, 1, 0, 0, 0, 0, 0],\n",
    "                     [0, 1, 1, 0, 0, 0, 0, 0],\n",
    "                     [1, 0, 0, 0, 2, 0, 0, 1]])\n",
    "test_eq(output, expected)"
   ]
  },
  {
   "cell_type": "code",
   "execution_count": null,
   "metadata": {},
   "outputs": [],
   "source": [
    "output = test_generate_rating_matrix(num_users=4, num_items=8)\n",
    "expected = np.array([[1, 0, 1, 0, 0, 0, 0, 0],\n",
    "                     [0, 1, 1, 0, 0, 0, 0, 0],\n",
    "                     [1, 0, 0, 0, 2, 0, 0, 1],\n",
    "                     [0, 0, 0, 0, 0, 0, 0, 0]])\n",
    "test_eq(output, expected)"
   ]
  },
  {
   "cell_type": "code",
   "execution_count": null,
   "metadata": {},
   "outputs": [],
   "source": [
    "test_fail(lambda: test_generate_rating_matrix(num_users=4, num_items=8, neg_case=True),\n",
    "          msg='list indices must be integers or slices, not tuple')\n",
    "\n",
    "test_generate_rating_matrix(num_users=2, num_items=8, neg_case=False)\n",
    "\n",
    "test_fail(lambda: test_generate_rating_matrix(num_users=3, num_items=5, neg_case=True),\n",
    "          msg='column index exceeds matrix dimensions')"
   ]
  },
  {
   "cell_type": "code",
   "execution_count": null,
   "metadata": {},
   "outputs": [
    {
     "name": "stdout",
     "output_type": "stream",
     "text": [
      "Author: Sparsh A.\n",
      "\n",
      "Last updated: 2021-12-18 06:58:48\n",
      "\n",
      "Compiler    : GCC 7.5.0\n",
      "OS          : Linux\n",
      "Release     : 5.4.104+\n",
      "Machine     : x86_64\n",
      "Processor   : x86_64\n",
      "CPU cores   : 2\n",
      "Architecture: 64bit\n",
      "\n",
      "pandas : 1.1.5\n",
      "numpy  : 1.19.5\n",
      "IPython: 5.5.0\n",
      "\n"
     ]
    }
   ],
   "source": [
    "#hide\n",
    "!pip install -q watermark\n",
    "%reload_ext watermark\n",
    "%watermark -a \"Sparsh A.\" -m -iv -u -t -d"
   ]
  }
 ],
 "metadata": {
  "kernelspec": {
   "display_name": "Python 3",
   "name": "python3"
  }
 },
 "nbformat": 4,
 "nbformat_minor": 0
}
