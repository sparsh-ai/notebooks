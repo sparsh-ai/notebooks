{
 "cells": [
  {
   "cell_type": "code",
   "execution_count": null,
   "metadata": {},
   "outputs": [],
   "source": [
    "# default_exp datasets.kkbox"
   ]
  },
  {
   "cell_type": "markdown",
   "metadata": {},
   "source": [
    "# KKBox\n",
    "> KKBox music dataset."
   ]
  },
  {
   "cell_type": "code",
   "execution_count": null,
   "metadata": {},
   "outputs": [],
   "source": [
    "#hide\n",
    "from nbdev.showdoc import *\n",
    "from fastcore.nb_imports import *\n",
    "from fastcore.test import *"
   ]
  },
  {
   "cell_type": "code",
   "execution_count": null,
   "metadata": {},
   "outputs": [],
   "source": [
    "#export\n",
    "from recohut.datasets.bases.ctr import *\n",
    "from recohut.utils.common_utils import download_url, extract_zip\n",
    "\n",
    "import pandas as pd\n",
    "import numpy as np\n",
    "import os\n",
    "from datetime import datetime, date"
   ]
  },
  {
   "cell_type": "code",
   "execution_count": null,
   "metadata": {},
   "outputs": [],
   "source": [
    "#export\n",
    "class KKBoxDataset(CTRDataset):\n",
    "\n",
    "    feature_cols = [\n",
    "                    {'name': [\"msno\",\"song_id\",\"source_system_tab\",\"source_screen_name\",\"source_type\",\"city\",\"gender\",\n",
    "                  \"registered_via\",\"language\"], 'active': True, 'dtype': 'str', 'type': 'categorical'},\n",
    "                    {'name': 'genre_ids', 'active': True, 'dtype': 'str', 'type': 'sequence', 'max_len': 3},\n",
    "                    {'name': 'artist_name', 'active': True, 'dtype': 'str', 'type': 'sequence', 'max_len': 3},\n",
    "                    {'name': 'isrc', 'active': True, 'dtype': 'str', 'type': 'categorical', 'preprocess': 'extract_country_code'},\n",
    "                    {'name': 'bd', 'active': True, 'dtype': 'str', 'type': 'categorical', 'preprocess': 'bucketize_age'}]\n",
    "                    \n",
    "    label_col = {'name': 'label', 'dtype': float}\n",
    "\n",
    "    url = \"https://zenodo.org/record/5700987/files/KKBox_x1.zip\"\n",
    "    \n",
    "    @property\n",
    "    def raw_file_names(self):\n",
    "        return ['train.csv',\n",
    "                'valid.csv',\n",
    "                'test.csv']\n",
    "\n",
    "    def download(self):\n",
    "        path = download_url(self.url, self.raw_dir)\n",
    "        extract_zip(path, self.raw_dir)\n",
    "        os.unlink(path)\n",
    "\n",
    "    def extract_country_code(self, df, col_name):\n",
    "        return df[col_name].apply(lambda isrc: isrc[0:2] if not pd.isnull(isrc) else \"\")\n",
    "\n",
    "    def bucketize_age(self, df, col_name):\n",
    "        def _bucketize(age):\n",
    "            if pd.isnull(age):\n",
    "                return \"\"\n",
    "            else:\n",
    "                age = float(age)\n",
    "                if age < 1 or age > 95:\n",
    "                    return \"\"\n",
    "                elif age <= 10:\n",
    "                    return \"1\"\n",
    "                elif age <=20:\n",
    "                    return \"2\"\n",
    "                elif age <=30:\n",
    "                    return \"3\"\n",
    "                elif age <=40:\n",
    "                    return \"4\"\n",
    "                elif age <=50:\n",
    "                    return \"5\"\n",
    "                elif age <=60:\n",
    "                    return \"6\"\n",
    "                else:\n",
    "                    return \"7\"\n",
    "        return df[col_name].apply(_bucketize)"
   ]
  },
  {
   "cell_type": "code",
   "execution_count": null,
   "metadata": {},
   "outputs": [],
   "source": [
    "#export\n",
    "class KKBoxDataModule(CTRDataModule):\n",
    "    dataset_cls = KKBoxDataset"
   ]
  },
  {
   "cell_type": "markdown",
   "metadata": {},
   "source": [
    "Example"
   ]
  },
  {
   "cell_type": "code",
   "execution_count": null,
   "metadata": {},
   "outputs": [],
   "source": [
    "params = {'model_id': 'DeepCross_demo',\n",
    "              'data_dir': '/content/data',\n",
    "              'model_root': './checkpoints/',\n",
    "              'dnn_hidden_units': [64, 64],\n",
    "              'dnn_activations': \"relu\",\n",
    "              'crossing_layers': 3,\n",
    "              'learning_rate': 1e-3,\n",
    "              'net_dropout': 0,\n",
    "              'batch_norm': False,\n",
    "              'optimizer': 'adamw',\n",
    "              'task': 'binary_classification',\n",
    "              'loss': 'binary_crossentropy',\n",
    "              'metrics': ['logloss', 'AUC'],\n",
    "              'embedding_dim': 10,\n",
    "              'batch_size': 10000,\n",
    "              'epochs': 3,\n",
    "              'shuffle': True,\n",
    "              'seed': 2019,\n",
    "              'use_hdf5': True,\n",
    "              'workers': 1,\n",
    "              'verbose': 0}"
   ]
  },
  {
   "cell_type": "code",
   "execution_count": null,
   "metadata": {},
   "outputs": [
    {
     "name": "stdout",
     "output_type": "stream",
     "text": [
      "rm: cannot remove '/content/data/processed/*': No such file or directory\n"
     ]
    },
    {
     "name": "stderr",
     "output_type": "stream",
     "text": [
      "/usr/local/lib/python3.7/dist-packages/pytorch_lightning/core/datamodule.py:74: LightningDeprecationWarning: DataModule property `train_transforms` was deprecated in v1.5 and will be removed in v1.7.\n",
      "  \"DataModule property `train_transforms` was deprecated in v1.5 and will be removed in v1.7.\"\n",
      "Processing...\n",
      "Done!\n"
     ]
    },
    {
     "name": "stdout",
     "output_type": "stream",
     "text": [
      "[tensor([[2.9800e+02, 3.8693e+04, 1.0000e+00,  ..., 4.0296e+04, 6.0000e+00,\n",
      "         4.0000e+00],\n",
      "        [1.1104e+04, 4.1240e+03, 1.0000e+00,  ..., 4.0296e+04, 1.0000e+00,\n",
      "         1.0000e+00],\n",
      "        [1.2177e+04, 9.8400e+02, 1.0000e+00,  ..., 4.0296e+04, 1.0000e+00,\n",
      "         2.0000e+00],\n",
      "        ...,\n",
      "        [6.5680e+03, 3.4050e+03, 2.0000e+00,  ..., 4.0296e+04, 0.0000e+00,\n",
      "         0.0000e+00],\n",
      "        [2.7100e+02, 3.4463e+04, 2.0000e+00,  ..., 4.0296e+04, 6.0000e+00,\n",
      "         4.0000e+00],\n",
      "        [3.7290e+03, 1.2920e+03, 1.0000e+00,  ..., 4.0296e+04, 1.0000e+00,\n",
      "         1.0000e+00]], dtype=torch.float64), tensor([1., 0., 1., 1., 0., 1., 1., 0., 0., 1., 1., 0., 1., 1., 1., 1., 1., 1.,\n",
      "        0., 1., 0., 0., 0., 0., 1., 0., 1., 0., 1., 1., 1., 0., 1., 1., 1., 0.,\n",
      "        0., 0., 0., 1., 1., 1., 0., 0., 1., 1., 1., 0., 1., 1., 0., 1., 1., 0.,\n",
      "        1., 0., 1., 0., 1., 1., 1., 0., 0., 1.], dtype=torch.float64)]\n"
     ]
    }
   ],
   "source": [
    "!rm -r /content/data/processed/*\n",
    "ds = KKBoxDataModule(**params)\n",
    "ds.prepare_data()\n",
    "ds.setup()\n",
    "\n",
    "for batch in ds.train_dataloader():\n",
    "    print(batch)\n",
    "    break"
   ]
  },
  {
   "cell_type": "markdown",
   "metadata": {},
   "source": [
    "> **References**\n",
    "> - https://github.com/xue-pai/FuxiCTR/blob/main/config/dataset_config/KKBox.yaml\n",
    "> - https://github.com/openbenchmark/BARS/tree/master/ctr_prediction/datasets/KKBox"
   ]
  }
 ],
 "metadata": {
  "kernelspec": {
   "display_name": "Python 3",
   "name": "python3"
  }
 },
 "nbformat": 4,
 "nbformat_minor": 0
}
