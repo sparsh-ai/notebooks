{
  "nbformat": 4,
  "nbformat_minor": 0,
  "metadata": {
    "colab": {
      "name": "2021-06-19-simple-similarity-based-recommenders.ipynb",
      "provenance": [],
      "collapsed_sections": [],
      "authorship_tag": "ABX9TyO4jkmBVK6gdOmSpbPS/Hts"
    },
    "kernelspec": {
      "name": "python3",
      "display_name": "Python 3"
    },
    "language_info": {
      "name": "python"
    }
  },
  "cells": [
    {
      "cell_type": "markdown",
      "metadata": {
        "id": "c8To3DkIoRnq"
      },
      "source": [
        "# Simple Similarity based Recommmendations\n",
        "> A beginner guide to understand the similarity based recommendations from the ground-up\n",
        "\n",
        "- toc: true\n",
        "- badges: true\n",
        "- comments: true\n",
        "- categories: [similarity]\n",
        "- image: "
      ]
    },
    {
      "cell_type": "code",
      "metadata": {
        "colab": {
          "base_uri": "https://localhost:8080/"
        },
        "id": "A76fRIL0HlS2",
        "outputId": "cb956978-e8e6-419c-d28f-ad55cd5b9a49"
      },
      "source": [
        "!pip install names\n",
        "!pip install faker_music\n",
        "!pip install faker"
      ],
      "execution_count": 10,
      "outputs": [
        {
          "output_type": "stream",
          "text": [
            "Requirement already satisfied: faker_music in /usr/local/lib/python3.7/dist-packages (0.4)\n",
            "Collecting faker\n",
            "\u001b[?25l  Downloading https://files.pythonhosted.org/packages/eb/70/b46c571bfd410d56b8794fa87257eb084f3a6b0c6783bf05188bd33276be/Faker-8.8.1-py3-none-any.whl (1.2MB)\n",
            "\u001b[K     |████████████████████████████████| 1.2MB 4.1MB/s \n",
            "\u001b[?25hRequirement already satisfied: python-dateutil>=2.4 in /usr/local/lib/python3.7/dist-packages (from faker) (2.8.1)\n",
            "Requirement already satisfied: text-unidecode==1.3 in /usr/local/lib/python3.7/dist-packages (from faker) (1.3)\n",
            "Requirement already satisfied: six>=1.5 in /usr/local/lib/python3.7/dist-packages (from python-dateutil>=2.4->faker) (1.15.0)\n",
            "Installing collected packages: faker\n",
            "Successfully installed faker-8.8.1\n"
          ],
          "name": "stdout"
        }
      ]
    },
    {
      "cell_type": "code",
      "metadata": {
        "id": "evDsuEV0Da6G"
      },
      "source": [
        "import numpy as np\n",
        "import names\n",
        "from faker import Faker\n",
        "from faker_music import MusicProvider\n",
        "from itertools import product\n",
        "import pandas as pd\n",
        "\n",
        "import warnings\n",
        "warnings.filterwarnings(\"ignore\")\n",
        "\n",
        "fake = Faker()\n",
        "fake.add_provider(MusicProvider)"
      ],
      "execution_count": 164,
      "outputs": []
    },
    {
      "cell_type": "code",
      "metadata": {
        "id": "jWAdPyPVPAvd"
      },
      "source": [
        "def generate_data():\n",
        "  \n",
        "  NUM_USER = 8\n",
        "  NUM_ITEM = 8\n",
        "\n",
        "  RATING_OPTIONS = np.arange(0,5.5,0.5)\n",
        "\n",
        "  while True:\n",
        "    \n",
        "    users = [names.get_full_name() for i in range(NUM_USER)]\n",
        "    items = [fake.music_genre() for i in range(NUM_ITEM)]\n",
        "\n",
        "    data = pd.DataFrame(list(product(users, items)), columns=['USERS', 'ITEMS'])\n",
        "\n",
        "    PROBS = [0.6]\n",
        "    PROBS.extend([0.05]*(len(RATING_OPTIONS)-1))\n",
        "    PROBS = [i/sum(PROBS) for i in PROBS]\n",
        "\n",
        "    data['RATINGS'] = np.random.choice(RATING_OPTIONS, NUM_USER*NUM_ITEM, p=PROBS)\n",
        "\n",
        "    data['RATINGS'] = data['RATINGS'].astype('float32')\n",
        "\n",
        "    data = pd.pivot_table(data, index='ITEMS', columns='USERS', values='RATINGS')\n",
        "\n",
        "    data = data.replace(0, np.nan)\n",
        "\n",
        "    if len(np.unique(items))==NUM_ITEM:\n",
        "      return data, users"
      ],
      "execution_count": 121,
      "outputs": []
    },
    {
      "cell_type": "code",
      "metadata": {
        "colab": {
          "base_uri": "https://localhost:8080/",
          "height": 328
        },
        "id": "aJVkrUVrDPi1",
        "outputId": "d5e9844f-0952-4b25-af11-ffac420de3c9"
      },
      "source": [
        "data, users = generate_data()\n",
        "data"
      ],
      "execution_count": 130,
      "outputs": [
        {
          "output_type": "execute_result",
          "data": {
            "text/html": [
              "<div>\n",
              "<style scoped>\n",
              "    .dataframe tbody tr th:only-of-type {\n",
              "        vertical-align: middle;\n",
              "    }\n",
              "\n",
              "    .dataframe tbody tr th {\n",
              "        vertical-align: top;\n",
              "    }\n",
              "\n",
              "    .dataframe thead th {\n",
              "        text-align: right;\n",
              "    }\n",
              "</style>\n",
              "<table border=\"1\" class=\"dataframe\">\n",
              "  <thead>\n",
              "    <tr style=\"text-align: right;\">\n",
              "      <th>USERS</th>\n",
              "      <th>Betty Wilkinson</th>\n",
              "      <th>Cynthia Doughty</th>\n",
              "      <th>Earl Williams</th>\n",
              "      <th>George Brooks</th>\n",
              "      <th>Halina Manganaro</th>\n",
              "      <th>Johnson Butera</th>\n",
              "      <th>Laurence Force</th>\n",
              "      <th>Ralph Papp</th>\n",
              "    </tr>\n",
              "    <tr>\n",
              "      <th>ITEMS</th>\n",
              "      <th></th>\n",
              "      <th></th>\n",
              "      <th></th>\n",
              "      <th></th>\n",
              "      <th></th>\n",
              "      <th></th>\n",
              "      <th></th>\n",
              "      <th></th>\n",
              "    </tr>\n",
              "  </thead>\n",
              "  <tbody>\n",
              "    <tr>\n",
              "      <th>Alternative</th>\n",
              "      <td>3.5</td>\n",
              "      <td>NaN</td>\n",
              "      <td>4.0</td>\n",
              "      <td>NaN</td>\n",
              "      <td>2.0</td>\n",
              "      <td>5.0</td>\n",
              "      <td>NaN</td>\n",
              "      <td>NaN</td>\n",
              "    </tr>\n",
              "    <tr>\n",
              "      <th>Comedy</th>\n",
              "      <td>NaN</td>\n",
              "      <td>3.5</td>\n",
              "      <td>0.5</td>\n",
              "      <td>4.5</td>\n",
              "      <td>NaN</td>\n",
              "      <td>NaN</td>\n",
              "      <td>3.5</td>\n",
              "      <td>NaN</td>\n",
              "    </tr>\n",
              "    <tr>\n",
              "      <th>German Folk</th>\n",
              "      <td>NaN</td>\n",
              "      <td>NaN</td>\n",
              "      <td>NaN</td>\n",
              "      <td>NaN</td>\n",
              "      <td>4.5</td>\n",
              "      <td>NaN</td>\n",
              "      <td>NaN</td>\n",
              "      <td>NaN</td>\n",
              "    </tr>\n",
              "    <tr>\n",
              "      <th>Jazz</th>\n",
              "      <td>NaN</td>\n",
              "      <td>1.5</td>\n",
              "      <td>NaN</td>\n",
              "      <td>0.5</td>\n",
              "      <td>0.5</td>\n",
              "      <td>1.5</td>\n",
              "      <td>NaN</td>\n",
              "      <td>NaN</td>\n",
              "    </tr>\n",
              "    <tr>\n",
              "      <th>Pop</th>\n",
              "      <td>NaN</td>\n",
              "      <td>2.5</td>\n",
              "      <td>NaN</td>\n",
              "      <td>NaN</td>\n",
              "      <td>4.0</td>\n",
              "      <td>NaN</td>\n",
              "      <td>3.0</td>\n",
              "      <td>NaN</td>\n",
              "    </tr>\n",
              "    <tr>\n",
              "      <th>Rock</th>\n",
              "      <td>NaN</td>\n",
              "      <td>NaN</td>\n",
              "      <td>3.0</td>\n",
              "      <td>NaN</td>\n",
              "      <td>NaN</td>\n",
              "      <td>0.5</td>\n",
              "      <td>NaN</td>\n",
              "      <td>1.5</td>\n",
              "    </tr>\n",
              "    <tr>\n",
              "      <th>Singer/Songwriter</th>\n",
              "      <td>NaN</td>\n",
              "      <td>NaN</td>\n",
              "      <td>2.0</td>\n",
              "      <td>NaN</td>\n",
              "      <td>NaN</td>\n",
              "      <td>NaN</td>\n",
              "      <td>0.5</td>\n",
              "      <td>NaN</td>\n",
              "    </tr>\n",
              "    <tr>\n",
              "      <th>Spoken Word</th>\n",
              "      <td>NaN</td>\n",
              "      <td>1.5</td>\n",
              "      <td>1.0</td>\n",
              "      <td>NaN</td>\n",
              "      <td>NaN</td>\n",
              "      <td>1.5</td>\n",
              "      <td>5.0</td>\n",
              "      <td>NaN</td>\n",
              "    </tr>\n",
              "  </tbody>\n",
              "</table>\n",
              "</div>"
            ],
            "text/plain": [
              "USERS              Betty Wilkinson  Cynthia Doughty  ...  Laurence Force  Ralph Papp\n",
              "ITEMS                                                ...                            \n",
              "Alternative                    3.5              NaN  ...             NaN         NaN\n",
              "Comedy                         NaN              3.5  ...             3.5         NaN\n",
              "German Folk                    NaN              NaN  ...             NaN         NaN\n",
              "Jazz                           NaN              1.5  ...             NaN         NaN\n",
              "Pop                            NaN              2.5  ...             3.0         NaN\n",
              "Rock                           NaN              NaN  ...             NaN         1.5\n",
              "Singer/Songwriter              NaN              NaN  ...             0.5         NaN\n",
              "Spoken Word                    NaN              1.5  ...             5.0         NaN\n",
              "\n",
              "[8 rows x 8 columns]"
            ]
          },
          "metadata": {
            "tags": []
          },
          "execution_count": 130
        }
      ]
    },
    {
      "cell_type": "code",
      "metadata": {
        "colab": {
          "base_uri": "https://localhost:8080/",
          "height": 297
        },
        "id": "KVX-mbV_cmMm",
        "outputId": "a505b93c-c49b-432f-a8f4-ef5581c8e115"
      },
      "source": [
        "# with open('data.json', 'w') as f:\n",
        "#   f.write(json.dumps([row.dropna().to_dict() for index, row in data.iterrows()]))\n",
        "data.to_json('data.json')\n",
        "pd.read_json('data.json')"
      ],
      "execution_count": 134,
      "outputs": [
        {
          "output_type": "execute_result",
          "data": {
            "text/html": [
              "<div>\n",
              "<style scoped>\n",
              "    .dataframe tbody tr th:only-of-type {\n",
              "        vertical-align: middle;\n",
              "    }\n",
              "\n",
              "    .dataframe tbody tr th {\n",
              "        vertical-align: top;\n",
              "    }\n",
              "\n",
              "    .dataframe thead th {\n",
              "        text-align: right;\n",
              "    }\n",
              "</style>\n",
              "<table border=\"1\" class=\"dataframe\">\n",
              "  <thead>\n",
              "    <tr style=\"text-align: right;\">\n",
              "      <th></th>\n",
              "      <th>Betty Wilkinson</th>\n",
              "      <th>Cynthia Doughty</th>\n",
              "      <th>Earl Williams</th>\n",
              "      <th>George Brooks</th>\n",
              "      <th>Halina Manganaro</th>\n",
              "      <th>Johnson Butera</th>\n",
              "      <th>Laurence Force</th>\n",
              "      <th>Ralph Papp</th>\n",
              "    </tr>\n",
              "  </thead>\n",
              "  <tbody>\n",
              "    <tr>\n",
              "      <th>Alternative</th>\n",
              "      <td>3.5</td>\n",
              "      <td>NaN</td>\n",
              "      <td>4.0</td>\n",
              "      <td>NaN</td>\n",
              "      <td>2.0</td>\n",
              "      <td>5.0</td>\n",
              "      <td>NaN</td>\n",
              "      <td>NaN</td>\n",
              "    </tr>\n",
              "    <tr>\n",
              "      <th>Comedy</th>\n",
              "      <td>NaN</td>\n",
              "      <td>3.5</td>\n",
              "      <td>0.5</td>\n",
              "      <td>4.5</td>\n",
              "      <td>NaN</td>\n",
              "      <td>NaN</td>\n",
              "      <td>3.5</td>\n",
              "      <td>NaN</td>\n",
              "    </tr>\n",
              "    <tr>\n",
              "      <th>German Folk</th>\n",
              "      <td>NaN</td>\n",
              "      <td>NaN</td>\n",
              "      <td>NaN</td>\n",
              "      <td>NaN</td>\n",
              "      <td>4.5</td>\n",
              "      <td>NaN</td>\n",
              "      <td>NaN</td>\n",
              "      <td>NaN</td>\n",
              "    </tr>\n",
              "    <tr>\n",
              "      <th>Jazz</th>\n",
              "      <td>NaN</td>\n",
              "      <td>1.5</td>\n",
              "      <td>NaN</td>\n",
              "      <td>0.5</td>\n",
              "      <td>0.5</td>\n",
              "      <td>1.5</td>\n",
              "      <td>NaN</td>\n",
              "      <td>NaN</td>\n",
              "    </tr>\n",
              "    <tr>\n",
              "      <th>Pop</th>\n",
              "      <td>NaN</td>\n",
              "      <td>2.5</td>\n",
              "      <td>NaN</td>\n",
              "      <td>NaN</td>\n",
              "      <td>4.0</td>\n",
              "      <td>NaN</td>\n",
              "      <td>3.0</td>\n",
              "      <td>NaN</td>\n",
              "    </tr>\n",
              "    <tr>\n",
              "      <th>Rock</th>\n",
              "      <td>NaN</td>\n",
              "      <td>NaN</td>\n",
              "      <td>3.0</td>\n",
              "      <td>NaN</td>\n",
              "      <td>NaN</td>\n",
              "      <td>0.5</td>\n",
              "      <td>NaN</td>\n",
              "      <td>1.5</td>\n",
              "    </tr>\n",
              "    <tr>\n",
              "      <th>Singer/Songwriter</th>\n",
              "      <td>NaN</td>\n",
              "      <td>NaN</td>\n",
              "      <td>2.0</td>\n",
              "      <td>NaN</td>\n",
              "      <td>NaN</td>\n",
              "      <td>NaN</td>\n",
              "      <td>0.5</td>\n",
              "      <td>NaN</td>\n",
              "    </tr>\n",
              "    <tr>\n",
              "      <th>Spoken Word</th>\n",
              "      <td>NaN</td>\n",
              "      <td>1.5</td>\n",
              "      <td>1.0</td>\n",
              "      <td>NaN</td>\n",
              "      <td>NaN</td>\n",
              "      <td>1.5</td>\n",
              "      <td>5.0</td>\n",
              "      <td>NaN</td>\n",
              "    </tr>\n",
              "  </tbody>\n",
              "</table>\n",
              "</div>"
            ],
            "text/plain": [
              "                   Betty Wilkinson  Cynthia Doughty  ...  Laurence Force  Ralph Papp\n",
              "Alternative                    3.5              NaN  ...             NaN         NaN\n",
              "Comedy                         NaN              3.5  ...             3.5         NaN\n",
              "German Folk                    NaN              NaN  ...             NaN         NaN\n",
              "Jazz                           NaN              1.5  ...             NaN         NaN\n",
              "Pop                            NaN              2.5  ...             3.0         NaN\n",
              "Rock                           NaN              NaN  ...             NaN         1.5\n",
              "Singer/Songwriter              NaN              NaN  ...             0.5         NaN\n",
              "Spoken Word                    NaN              1.5  ...             5.0         NaN\n",
              "\n",
              "[8 rows x 8 columns]"
            ]
          },
          "metadata": {
            "tags": []
          },
          "execution_count": 134
        }
      ]
    },
    {
      "cell_type": "code",
      "metadata": {
        "colab": {
          "base_uri": "https://localhost:8080/"
        },
        "id": "tFEfIJEJTHvq",
        "outputId": "f9a195f8-4342-4149-9fb8-a3bf2c004ef1"
      },
      "source": [
        "import json\n",
        "\n",
        "with open('data.json') as file:\n",
        "    data = json.load(file)\n",
        "\n",
        "data"
      ],
      "execution_count": 135,
      "outputs": [
        {
          "output_type": "execute_result",
          "data": {
            "text/plain": [
              "{'Betty Wilkinson': {'Alternative': 3.5,\n",
              "  'Comedy': None,\n",
              "  'German Folk': None,\n",
              "  'Jazz': None,\n",
              "  'Pop': None,\n",
              "  'Rock': None,\n",
              "  'Singer/Songwriter': None,\n",
              "  'Spoken Word': None},\n",
              " 'Cynthia Doughty': {'Alternative': None,\n",
              "  'Comedy': 3.5,\n",
              "  'German Folk': None,\n",
              "  'Jazz': 1.5,\n",
              "  'Pop': 2.5,\n",
              "  'Rock': None,\n",
              "  'Singer/Songwriter': None,\n",
              "  'Spoken Word': 1.5},\n",
              " 'Earl Williams': {'Alternative': 4.0,\n",
              "  'Comedy': 0.5,\n",
              "  'German Folk': None,\n",
              "  'Jazz': None,\n",
              "  'Pop': None,\n",
              "  'Rock': 3.0,\n",
              "  'Singer/Songwriter': 2.0,\n",
              "  'Spoken Word': 1.0},\n",
              " 'George Brooks': {'Alternative': None,\n",
              "  'Comedy': 4.5,\n",
              "  'German Folk': None,\n",
              "  'Jazz': 0.5,\n",
              "  'Pop': None,\n",
              "  'Rock': None,\n",
              "  'Singer/Songwriter': None,\n",
              "  'Spoken Word': None},\n",
              " 'Halina Manganaro': {'Alternative': 2.0,\n",
              "  'Comedy': None,\n",
              "  'German Folk': 4.5,\n",
              "  'Jazz': 0.5,\n",
              "  'Pop': 4.0,\n",
              "  'Rock': None,\n",
              "  'Singer/Songwriter': None,\n",
              "  'Spoken Word': None},\n",
              " 'Johnson Butera': {'Alternative': 5.0,\n",
              "  'Comedy': None,\n",
              "  'German Folk': None,\n",
              "  'Jazz': 1.5,\n",
              "  'Pop': None,\n",
              "  'Rock': 0.5,\n",
              "  'Singer/Songwriter': None,\n",
              "  'Spoken Word': 1.5},\n",
              " 'Laurence Force': {'Alternative': None,\n",
              "  'Comedy': 3.5,\n",
              "  'German Folk': None,\n",
              "  'Jazz': None,\n",
              "  'Pop': 3.0,\n",
              "  'Rock': None,\n",
              "  'Singer/Songwriter': 0.5,\n",
              "  'Spoken Word': 5.0},\n",
              " 'Ralph Papp': {'Alternative': None,\n",
              "  'Comedy': None,\n",
              "  'German Folk': None,\n",
              "  'Jazz': None,\n",
              "  'Pop': None,\n",
              "  'Rock': 1.5,\n",
              "  'Singer/Songwriter': None,\n",
              "  'Spoken Word': None}}"
            ]
          },
          "metadata": {
            "tags": []
          },
          "execution_count": 135
        }
      ]
    },
    {
      "cell_type": "code",
      "metadata": {
        "id": "QrrSHG-ndYHt"
      },
      "source": [
        "def del_none(d):\n",
        "    \"\"\"\n",
        "    Delete keys with the value ``None`` in a dictionary, recursively.\n",
        "\n",
        "    This alters the input so you may wish to ``copy`` the dict first.\n",
        "    \"\"\"\n",
        "    # For Python 3, write `list(d.items())`; `d.items()` won’t work\n",
        "    # For Python 2, write `d.items()`; `d.iteritems()` won’t work\n",
        "    for key, value in list(d.items()):\n",
        "        if value is None:\n",
        "            del d[key]\n",
        "        elif isinstance(value, dict):\n",
        "            del_none(value)\n",
        "    return d  # For convenience"
      ],
      "execution_count": 136,
      "outputs": []
    },
    {
      "cell_type": "code",
      "metadata": {
        "colab": {
          "base_uri": "https://localhost:8080/"
        },
        "id": "qOO1zgN4dbCH",
        "outputId": "81af4f55-8cbf-47a0-888e-18ac49221e93"
      },
      "source": [
        "data = del_none(data)\n",
        "data"
      ],
      "execution_count": 138,
      "outputs": [
        {
          "output_type": "execute_result",
          "data": {
            "text/plain": [
              "{'Betty Wilkinson': {'Alternative': 3.5},\n",
              " 'Cynthia Doughty': {'Comedy': 3.5,\n",
              "  'Jazz': 1.5,\n",
              "  'Pop': 2.5,\n",
              "  'Spoken Word': 1.5},\n",
              " 'Earl Williams': {'Alternative': 4.0,\n",
              "  'Comedy': 0.5,\n",
              "  'Rock': 3.0,\n",
              "  'Singer/Songwriter': 2.0,\n",
              "  'Spoken Word': 1.0},\n",
              " 'George Brooks': {'Comedy': 4.5, 'Jazz': 0.5},\n",
              " 'Halina Manganaro': {'Alternative': 2.0,\n",
              "  'German Folk': 4.5,\n",
              "  'Jazz': 0.5,\n",
              "  'Pop': 4.0},\n",
              " 'Johnson Butera': {'Alternative': 5.0,\n",
              "  'Jazz': 1.5,\n",
              "  'Rock': 0.5,\n",
              "  'Spoken Word': 1.5},\n",
              " 'Laurence Force': {'Comedy': 3.5,\n",
              "  'Pop': 3.0,\n",
              "  'Singer/Songwriter': 0.5,\n",
              "  'Spoken Word': 5.0},\n",
              " 'Ralph Papp': {'Rock': 1.5}}"
            ]
          },
          "metadata": {
            "tags": []
          },
          "execution_count": 138
        }
      ]
    },
    {
      "cell_type": "markdown",
      "metadata": {
        "id": "kdx77iFIScCI"
      },
      "source": [
        "### Minkowski Distance"
      ]
    },
    {
      "cell_type": "code",
      "metadata": {
        "id": "kFmKHtWWMPlj"
      },
      "source": [
        "# defining distance function\n",
        "def minkowski(ratings1, ratings2, r=2):\n",
        "    \"\"\"\n",
        "    Compute the Minkowski Distance between two users.\n",
        "    If `r` is not given, it defaults to Euclidian.\n",
        "    \"\"\"\n",
        "\n",
        "    mink_distance = 0\n",
        "\n",
        "    for key in ratings1:\n",
        "        if key in ratings2:\n",
        "            mink_distance += abs(ratings1[key] - ratings2[key])**r\n",
        "\n",
        "    mink_distance = mink_distance ** (1/r)\n",
        "\n",
        "    return mink_distance"
      ],
      "execution_count": 124,
      "outputs": []
    },
    {
      "cell_type": "code",
      "metadata": {
        "id": "O-7b5rX_SpAw"
      },
      "source": [
        "# finding nearest neighbors\n",
        "def nearest_neighbors(username, users, r=2):\n",
        "    \"\"\"Create a sorted list of users\n",
        "    based on their Minkowski Distance Metric\n",
        "    (Euclidian by default) to username\"\"\"\n",
        "\n",
        "    distances = []\n",
        "\n",
        "    for user in users:\n",
        "        if user != username:\n",
        "            mnht_distance = minkowski(users[username], users[user], r)\n",
        "            distances.append((mnht_distance, user))\n",
        "\n",
        "    distances.sort()\n",
        "\n",
        "    return distances"
      ],
      "execution_count": 105,
      "outputs": []
    },
    {
      "cell_type": "code",
      "metadata": {
        "id": "FdgsKSfVStny"
      },
      "source": [
        "# the recommender system\n",
        "def recommend_bands(username, users):\n",
        "    \"\"\"Recommend bands based on other users' ratings\"\"\"\n",
        "    \n",
        "    neighbor = nearest_neighbors(username, users)[0][1]\n",
        "\n",
        "    print(\"{}'s neighbor is {}\".format(username, neighbor))\n",
        "\n",
        "    recom_bands = []\n",
        "\n",
        "    for band, rating in users[neighbor].items():\n",
        "        if not band in users[username]:\n",
        "            print(\"{} gave {} stars to {} and {} not listened it before!\"\\\n",
        "                  .format(neighbor, rating, band, username))\n",
        "            recom_bands.append((rating, band))\n",
        "        else:\n",
        "            print(\"{} gave {} stars to {} but {} already listened it!\"\\\n",
        "                  .format(neighbor, rating, band, username))\n",
        "    \n",
        "    recom_bands.sort(reverse=True)\n",
        "\n",
        "    return [band[1] for band in recom_bands]"
      ],
      "execution_count": 150,
      "outputs": []
    },
    {
      "cell_type": "code",
      "metadata": {
        "colab": {
          "base_uri": "https://localhost:8080/"
        },
        "id": "ILhhGx8TS1_g",
        "outputId": "36203f97-918e-4d0b-fef4-9a7b71debb08"
      },
      "source": [
        "# testing our recommender\n",
        "for user in users:\n",
        "  print('Recommendations for {}: {}'.format(user, recommend_bands(user, data)))\n",
        "  print(\"\\n{}\\n\".format('='*50))"
      ],
      "execution_count": 151,
      "outputs": [
        {
          "output_type": "stream",
          "text": [
            "Johnson Butera's neighbor is Cynthia Doughty\n",
            "Cynthia Doughty gave 3.5 stars to Comedy and Johnson Butera not listened it before!\n",
            "Cynthia Doughty gave 1.5 stars to Jazz but Johnson Butera already listened it!\n",
            "Cynthia Doughty gave 2.5 stars to Pop and Johnson Butera not listened it before!\n",
            "Cynthia Doughty gave 1.5 stars to Spoken Word but Johnson Butera already listened it!\n",
            "Recommendations for Johnson Butera: ['Comedy', 'Pop']\n",
            "\n",
            "==================================================\n",
            "\n",
            "Cynthia Doughty's neighbor is Betty Wilkinson\n",
            "Betty Wilkinson gave 3.5 stars to Alternative and Cynthia Doughty not listened it before!\n",
            "Recommendations for Cynthia Doughty: ['Alternative']\n",
            "\n",
            "==================================================\n",
            "\n",
            "Betty Wilkinson's neighbor is Cynthia Doughty\n",
            "Cynthia Doughty gave 3.5 stars to Comedy and Betty Wilkinson not listened it before!\n",
            "Cynthia Doughty gave 1.5 stars to Jazz and Betty Wilkinson not listened it before!\n",
            "Cynthia Doughty gave 2.5 stars to Pop and Betty Wilkinson not listened it before!\n",
            "Cynthia Doughty gave 1.5 stars to Spoken Word and Betty Wilkinson not listened it before!\n",
            "Recommendations for Betty Wilkinson: ['Comedy', 'Pop', 'Spoken Word', 'Jazz']\n",
            "\n",
            "==================================================\n",
            "\n",
            "Halina Manganaro's neighbor is George Brooks\n",
            "George Brooks gave 4.5 stars to Comedy and Halina Manganaro not listened it before!\n",
            "George Brooks gave 0.5 stars to Jazz but Halina Manganaro already listened it!\n",
            "Recommendations for Halina Manganaro: ['Comedy']\n",
            "\n",
            "==================================================\n",
            "\n",
            "Earl Williams's neighbor is Betty Wilkinson\n",
            "Betty Wilkinson gave 3.5 stars to Alternative but Earl Williams already listened it!\n",
            "Recommendations for Earl Williams: []\n",
            "\n",
            "==================================================\n",
            "\n",
            "George Brooks's neighbor is Betty Wilkinson\n",
            "Betty Wilkinson gave 3.5 stars to Alternative and George Brooks not listened it before!\n",
            "Recommendations for George Brooks: ['Alternative']\n",
            "\n",
            "==================================================\n",
            "\n",
            "Ralph Papp's neighbor is Betty Wilkinson\n",
            "Betty Wilkinson gave 3.5 stars to Alternative and Ralph Papp not listened it before!\n",
            "Recommendations for Ralph Papp: ['Alternative']\n",
            "\n",
            "==================================================\n",
            "\n",
            "Laurence Force's neighbor is Betty Wilkinson\n",
            "Betty Wilkinson gave 3.5 stars to Alternative and Laurence Force not listened it before!\n",
            "Recommendations for Laurence Force: ['Alternative']\n",
            "\n",
            "==================================================\n",
            "\n"
          ],
          "name": "stdout"
        }
      ]
    },
    {
      "cell_type": "markdown",
      "metadata": {
        "id": "DnLejZ71ifDw"
      },
      "source": [
        "### Pearson Correlation Coefficient"
      ]
    },
    {
      "cell_type": "code",
      "metadata": {
        "id": "mBxo2sTojJ7O"
      },
      "source": [
        "def pearson_corrcoef(x, y):\n",
        "    \n",
        "    x_mean = x.mean()\n",
        "    y_mean = y.mean()\n",
        "\n",
        "    numer = np.sum( (x - x_mean) * (y - y_mean) )\n",
        "    denom = ( np.sum( (x - x_mean)**2 ) )**0.5 * ( np.sum( (y - y_mean)**2 ) )**0.5\n",
        "\n",
        "    return numer / denom"
      ],
      "execution_count": 157,
      "outputs": []
    },
    {
      "cell_type": "code",
      "metadata": {
        "id": "Obo3_1Syg37T"
      },
      "source": [
        "# defining a function to use with our users\n",
        "def pearson_users(user1, user2):\n",
        "    \n",
        "    global data\n",
        "    ratings1 = []\n",
        "    ratings2 = []\n",
        "\n",
        "    for key in data[user1]:\n",
        "        if key in data[user2]:\n",
        "            ratings1.append(data[user1][key])\n",
        "            ratings2.append(data[user2][key])\n",
        "\n",
        "    ratings1 = np.array(ratings1)\n",
        "    ratings2 = np.array(ratings2)\n",
        "\n",
        "    return pearson_corrcoef(ratings1, ratings2)"
      ],
      "execution_count": 158,
      "outputs": []
    },
    {
      "cell_type": "code",
      "metadata": {
        "colab": {
          "base_uri": "https://localhost:8080/"
        },
        "id": "Gm-nrSisj2DM",
        "outputId": "23906edd-bf06-42ec-869b-b96fe7b9197e"
      },
      "source": [
        "np.isnan(10)"
      ],
      "execution_count": 162,
      "outputs": [
        {
          "output_type": "execute_result",
          "data": {
            "text/plain": [
              "False"
            ]
          },
          "metadata": {
            "tags": []
          },
          "execution_count": 162
        }
      ]
    },
    {
      "cell_type": "code",
      "metadata": {
        "colab": {
          "base_uri": "https://localhost:8080/"
        },
        "id": "r9lFqy3Hg338",
        "outputId": "1322fe8f-c7d5-4b56-dcd1-b281a397992f"
      },
      "source": [
        "for user1 in users:\n",
        "  for user2 in users:\n",
        "    if user1!=user2:\n",
        "      pearson_corr = pearson_users(user1, user2)\n",
        "      if not np.isnan(pearson_corr):\n",
        "        print(\"Pearson correlation between {} and {} is {:.2f}\"\\\n",
        "              .format(user1, user2, pearson_corr))"
      ],
      "execution_count": 165,
      "outputs": [
        {
          "output_type": "stream",
          "text": [
            "Pearson correlation between Johnson Butera and Halina Manganaro is 1.00\n",
            "Pearson correlation between Johnson Butera and Earl Williams is 0.60\n",
            "Pearson correlation between Cynthia Doughty and Halina Manganaro is 1.00\n",
            "Pearson correlation between Cynthia Doughty and Earl Williams is -1.00\n",
            "Pearson correlation between Cynthia Doughty and George Brooks is 1.00\n",
            "Pearson correlation between Cynthia Doughty and Laurence Force is -0.72\n",
            "Pearson correlation between Halina Manganaro and Johnson Butera is 1.00\n",
            "Pearson correlation between Halina Manganaro and Cynthia Doughty is 1.00\n",
            "Pearson correlation between Earl Williams and Johnson Butera is 0.60\n",
            "Pearson correlation between Earl Williams and Cynthia Doughty is -1.00\n",
            "Pearson correlation between Earl Williams and Laurence Force is -0.79\n",
            "Pearson correlation between George Brooks and Cynthia Doughty is 1.00\n",
            "Pearson correlation between Laurence Force and Cynthia Doughty is -0.72\n",
            "Pearson correlation between Laurence Force and Earl Williams is -0.79\n"
          ],
          "name": "stdout"
        }
      ]
    },
    {
      "cell_type": "markdown",
      "metadata": {
        "id": "_EOE0pwmkSSo"
      },
      "source": [
        "### Cosine Similarity"
      ]
    },
    {
      "cell_type": "code",
      "metadata": {
        "id": "uLO13U_2nG5l"
      },
      "source": [
        "johnson = pd.read_json('data.json').fillna(0)['Johnson Butera'].values\n",
        "halina = pd.read_json('data.json').fillna(0)['Halina Manganaro'].values"
      ],
      "execution_count": 177,
      "outputs": []
    },
    {
      "cell_type": "code",
      "metadata": {
        "colab": {
          "base_uri": "https://localhost:8080/"
        },
        "id": "zv_hlnQWg30G",
        "outputId": "74411f69-86c0-4e26-ade3-99aeb3ddcac8"
      },
      "source": [
        "# comparing Johnson and Halina (perfect similarity) using cosine similarity\n",
        "x_size = np.sqrt( np.sum(johnson**2) )\n",
        "y_size = np.sqrt( np.sum(halina**2) )\n",
        "dot_prod = np.dot(johnson, halina)\n",
        "\n",
        "dot_prod / (x_size * y_size)"
      ],
      "execution_count": 178,
      "outputs": [
        {
          "output_type": "execute_result",
          "data": {
            "text/plain": [
              "0.3096973345860341"
            ]
          },
          "metadata": {
            "tags": []
          },
          "execution_count": 178
        }
      ]
    }
  ]
}