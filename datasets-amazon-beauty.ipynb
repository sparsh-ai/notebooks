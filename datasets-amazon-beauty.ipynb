{
 "cells": [
  {
   "cell_type": "code",
   "execution_count": null,
   "metadata": {},
   "outputs": [],
   "source": [
    "# default_exp datasets.amazon_beauty"
   ]
  },
  {
   "cell_type": "markdown",
   "metadata": {},
   "source": [
    "# Amazon Beauty\n",
    "> Amazon Beauty Dataset."
   ]
  },
  {
   "cell_type": "code",
   "execution_count": null,
   "metadata": {},
   "outputs": [],
   "source": [
    "#hide\n",
    "from nbdev.showdoc import *\n",
    "from fastcore.nb_imports import *\n",
    "from fastcore.test import *"
   ]
  },
  {
   "cell_type": "code",
   "execution_count": null,
   "metadata": {},
   "outputs": [],
   "source": [
    "#export\n",
    "from typing import Any, Iterable, List, Optional, Tuple, Union, Callable\n",
    "\n",
    "import os\n",
    "import pandas as pd\n",
    "\n",
    "from recohut.utils.common_utils import *\n",
    "\n",
    "from recohut.datasets.bases.sequential import SASRecDataset, SASRecDataModule"
   ]
  },
  {
   "cell_type": "code",
   "execution_count": null,
   "metadata": {},
   "outputs": [],
   "source": [
    "#export\n",
    "class AmazonBeautyDataset(SASRecDataset):\n",
    "\n",
    "    url = 'https://github.com/RecoHut-Datasets/amazon_beauty/raw/v1/amazon-ratings.zip'\n",
    "\n",
    "    @property\n",
    "    def raw_file_names(self):\n",
    "        return 'ratings_Beauty.csv'\n",
    "\n",
    "    def download(self):\n",
    "        path = download_url(self.url, self.raw_dir)\n",
    "        extract_zip(path, self.raw_dir)\n",
    "        os.unlink(path)\n",
    "\n",
    "    def load_ratings_df(self):\n",
    "        df = pd.read_csv(self.raw_paths[0])\n",
    "        df.columns = ['uid', 'sid', 'rating', 'timestamp']\n",
    "        # drop duplicate user-item pair records, keeping latest rating only\n",
    "        df.drop_duplicates(subset=['uid', 'sid'], keep='last', inplace=True)\n",
    "        return df"
   ]
  },
  {
   "cell_type": "code",
   "execution_count": null,
   "metadata": {},
   "outputs": [],
   "source": [
    "#export\n",
    "class AmazonBeautyDataModule(SASRecDataModule):\n",
    "\n",
    "    dataset_cls = AmazonBeautyDataset"
   ]
  },
  {
   "cell_type": "markdown",
   "metadata": {},
   "source": [
    "Example"
   ]
  },
  {
   "cell_type": "code",
   "execution_count": null,
   "metadata": {},
   "outputs": [],
   "source": [
    "class Args:\n",
    "    def __init__(self):\n",
    "        self.data_dir = '/content/data'\n",
    "        self.min_len = 10\n",
    "        self.max_len = 50\n",
    "        self.sample_frac = 0.2\n",
    "        self.num_workers = 2\n",
    "        self.batch_size = 32\n",
    "\n",
    "args = Args()"
   ]
  },
  {
   "cell_type": "code",
   "execution_count": null,
   "metadata": {},
   "outputs": [
    {
     "name": "stderr",
     "output_type": "stream",
     "text": [
      "Downloading https://github.com/RecoHut-Datasets/amazon_beauty/raw/v1/amazon-ratings.zip\n",
      "Extracting /content/data/raw/amazon-ratings.zip\n",
      "Processing...\n",
      "Done!\n"
     ]
    }
   ],
   "source": [
    "dm = AmazonBeautyDataModule(**args.__dict__)\n",
    "dm.prepare_data()\n",
    "dm.setup(stage='fit')"
   ]
  },
  {
   "cell_type": "code",
   "execution_count": null,
   "metadata": {},
   "outputs": [
    {
     "name": "stdout",
     "output_type": "stream",
     "text": [
      "[tensor([394, 421, 256, 119, 320, 434,  30, 431,  54,  67, 415, 277, 254, 321,\n",
      "        290,  95, 206, 275, 391, 463, 323, 105, 399, 288,  14, 120, 147,  47,\n",
      "         82, 437, 412, 184]), tensor([[   0,    0,    0,  ..., 4183, 1750,  690],\n",
      "        [   0,    0,    0,  ..., 3153, 5408, 5208],\n",
      "        [   0,    0,    0,  ..., 1905, 5639,  614],\n",
      "        ...,\n",
      "        [   0,    0,    0,  ..., 4549, 1287,  282],\n",
      "        [   0,    0,    0,  ..., 3507, 5045, 2892],\n",
      "        [   0,    0,    0,  ...,  279, 4246, 2803]]), tensor([[   0,    0,    0,  ..., 1750,  690, 1826],\n",
      "        [   0,    0,    0,  ..., 5408, 5208, 2940],\n",
      "        [   0,    0,    0,  ..., 5639,  614, 1146],\n",
      "        ...,\n",
      "        [   0,    0,    0,  ..., 1287,  282, 1651],\n",
      "        [   0,    0,    0,  ..., 5045, 2892, 1006],\n",
      "        [   0,    0,    0,  ..., 4246, 2803,  737]]), tensor([[   0,    0,    0,  ..., 3246, 5423, 3585],\n",
      "        [   0,    0,    0,  ...,   89, 1891,   60],\n",
      "        [   0,    0,    0,  ..., 3051, 5472, 1113],\n",
      "        ...,\n",
      "        [   0,    0,    0,  ..., 1258, 3876, 5313],\n",
      "        [   0,    0,    0,  ..., 2543, 4867, 3729],\n",
      "        [   0,    0,    0,  ..., 4550,  928, 5276]]), tensor([[0],\n",
      "        [0],\n",
      "        [0],\n",
      "        [0],\n",
      "        [0],\n",
      "        [0],\n",
      "        [0],\n",
      "        [0],\n",
      "        [0],\n",
      "        [0],\n",
      "        [0],\n",
      "        [0],\n",
      "        [0],\n",
      "        [0],\n",
      "        [0],\n",
      "        [0],\n",
      "        [0],\n",
      "        [0],\n",
      "        [0],\n",
      "        [0],\n",
      "        [0],\n",
      "        [0],\n",
      "        [0],\n",
      "        [0],\n",
      "        [0],\n",
      "        [0],\n",
      "        [0],\n",
      "        [0],\n",
      "        [0],\n",
      "        [0],\n",
      "        [0],\n",
      "        [0]])]\n"
     ]
    }
   ],
   "source": [
    "for batch in dm.train_dataloader():\n",
    "    print(batch)\n",
    "    break"
   ]
  },
  {
   "cell_type": "code",
   "execution_count": null,
   "metadata": {},
   "outputs": [
    {
     "name": "stdout",
     "output_type": "stream",
     "text": [
      "pandas 1.1.5\n",
      "Sparsh A. \n",
      "last updated: 2022-01-22 12:31:25 \n",
      "\n",
      "recohut 0.0.11\n",
      "\n",
      "compiler   : GCC 7.5.0\n",
      "system     : Linux\n",
      "release    : 5.4.144+\n",
      "machine    : x86_64\n",
      "processor  : x86_64\n",
      "CPU cores  : 2\n",
      "interpreter: 64bit\n"
     ]
    }
   ],
   "source": [
    "#hide\n",
    "%reload_ext watermark\n",
    "%watermark -a \"Sparsh A.\" -m -iv -u -t -d -p recohut"
   ]
  }
 ],
 "metadata": {
  "kernelspec": {
   "display_name": "Python 3",
   "name": "python3"
  }
 },
 "nbformat": 4,
 "nbformat_minor": 0
}
