{
  "nbformat": 4,
  "nbformat_minor": 0,
  "metadata": {
    "colab": {
      "name": "2021-07-13-implicit-lastfm.ipynb",
      "provenance": [],
      "collapsed_sections": [],
      "mount_file_id": "11hOY3GXFFNYqWRj3fW9ike7U3W94BR7Q",
      "authorship_tag": "ABX9TyNfyexSKaeLklf8Nal7K1GK"
    },
    "kernelspec": {
      "name": "python3",
      "display_name": "Python 3"
    },
    "language_info": {
      "name": "python"
    },
    "widgets": {
      "application/vnd.jupyter.widget-state+json": {
        "baf57328a893499d8cc7840cd3c98d99": {
          "model_module": "@jupyter-widgets/controls",
          "model_name": "HBoxModel",
          "state": {
            "_view_name": "HBoxView",
            "_dom_classes": [],
            "_model_name": "HBoxModel",
            "_view_module": "@jupyter-widgets/controls",
            "_model_module_version": "1.5.0",
            "_view_count": null,
            "_view_module_version": "1.5.0",
            "box_style": "",
            "layout": "IPY_MODEL_75af5a769cfd4b9fbf6c95d534ba8f3b",
            "_model_module": "@jupyter-widgets/controls",
            "children": [
              "IPY_MODEL_7650d168da03480097eeb51e6f26eb96",
              "IPY_MODEL_68a6f0bebee345278ea394fe2aa5161f"
            ]
          }
        },
        "75af5a769cfd4b9fbf6c95d534ba8f3b": {
          "model_module": "@jupyter-widgets/base",
          "model_name": "LayoutModel",
          "state": {
            "_view_name": "LayoutView",
            "grid_template_rows": null,
            "right": null,
            "justify_content": null,
            "_view_module": "@jupyter-widgets/base",
            "overflow": null,
            "_model_module_version": "1.2.0",
            "_view_count": null,
            "flex_flow": null,
            "width": null,
            "min_width": null,
            "border": null,
            "align_items": null,
            "bottom": null,
            "_model_module": "@jupyter-widgets/base",
            "top": null,
            "grid_column": null,
            "overflow_y": null,
            "overflow_x": null,
            "grid_auto_flow": null,
            "grid_area": null,
            "grid_template_columns": null,
            "flex": null,
            "_model_name": "LayoutModel",
            "justify_items": null,
            "grid_row": null,
            "max_height": null,
            "align_content": null,
            "visibility": null,
            "align_self": null,
            "height": null,
            "min_height": null,
            "padding": null,
            "grid_auto_rows": null,
            "grid_gap": null,
            "max_width": null,
            "order": null,
            "_view_module_version": "1.2.0",
            "grid_template_areas": null,
            "object_position": null,
            "object_fit": null,
            "grid_auto_columns": null,
            "margin": null,
            "display": null,
            "left": null
          }
        },
        "7650d168da03480097eeb51e6f26eb96": {
          "model_module": "@jupyter-widgets/controls",
          "model_name": "FloatProgressModel",
          "state": {
            "_view_name": "ProgressView",
            "style": "IPY_MODEL_a9eb17088c214829a1cb3a64944a4787",
            "_dom_classes": [],
            "description": "100%",
            "_model_name": "FloatProgressModel",
            "bar_style": "success",
            "max": 50,
            "_view_module": "@jupyter-widgets/controls",
            "_model_module_version": "1.5.0",
            "value": 50,
            "_view_count": null,
            "_view_module_version": "1.5.0",
            "orientation": "horizontal",
            "min": 0,
            "description_tooltip": null,
            "_model_module": "@jupyter-widgets/controls",
            "layout": "IPY_MODEL_e1a0835c1332417ea8e89b5cd4b84b83"
          }
        },
        "68a6f0bebee345278ea394fe2aa5161f": {
          "model_module": "@jupyter-widgets/controls",
          "model_name": "HTMLModel",
          "state": {
            "_view_name": "HTMLView",
            "style": "IPY_MODEL_42afcd20588e49babe13b77456a37dc6",
            "_dom_classes": [],
            "description": "",
            "_model_name": "HTMLModel",
            "placeholder": "​",
            "_view_module": "@jupyter-widgets/controls",
            "_model_module_version": "1.5.0",
            "value": " 50/50 [46:03&lt;00:00, 55.28s/it]",
            "_view_count": null,
            "_view_module_version": "1.5.0",
            "description_tooltip": null,
            "_model_module": "@jupyter-widgets/controls",
            "layout": "IPY_MODEL_bb788dac0a6741989be196de2ef2ebcc"
          }
        },
        "a9eb17088c214829a1cb3a64944a4787": {
          "model_module": "@jupyter-widgets/controls",
          "model_name": "ProgressStyleModel",
          "state": {
            "_view_name": "StyleView",
            "_model_name": "ProgressStyleModel",
            "description_width": "initial",
            "_view_module": "@jupyter-widgets/base",
            "_model_module_version": "1.5.0",
            "_view_count": null,
            "_view_module_version": "1.2.0",
            "bar_color": null,
            "_model_module": "@jupyter-widgets/controls"
          }
        },
        "e1a0835c1332417ea8e89b5cd4b84b83": {
          "model_module": "@jupyter-widgets/base",
          "model_name": "LayoutModel",
          "state": {
            "_view_name": "LayoutView",
            "grid_template_rows": null,
            "right": null,
            "justify_content": null,
            "_view_module": "@jupyter-widgets/base",
            "overflow": null,
            "_model_module_version": "1.2.0",
            "_view_count": null,
            "flex_flow": null,
            "width": null,
            "min_width": null,
            "border": null,
            "align_items": null,
            "bottom": null,
            "_model_module": "@jupyter-widgets/base",
            "top": null,
            "grid_column": null,
            "overflow_y": null,
            "overflow_x": null,
            "grid_auto_flow": null,
            "grid_area": null,
            "grid_template_columns": null,
            "flex": null,
            "_model_name": "LayoutModel",
            "justify_items": null,
            "grid_row": null,
            "max_height": null,
            "align_content": null,
            "visibility": null,
            "align_self": null,
            "height": null,
            "min_height": null,
            "padding": null,
            "grid_auto_rows": null,
            "grid_gap": null,
            "max_width": null,
            "order": null,
            "_view_module_version": "1.2.0",
            "grid_template_areas": null,
            "object_position": null,
            "object_fit": null,
            "grid_auto_columns": null,
            "margin": null,
            "display": null,
            "left": null
          }
        },
        "42afcd20588e49babe13b77456a37dc6": {
          "model_module": "@jupyter-widgets/controls",
          "model_name": "DescriptionStyleModel",
          "state": {
            "_view_name": "StyleView",
            "_model_name": "DescriptionStyleModel",
            "description_width": "",
            "_view_module": "@jupyter-widgets/base",
            "_model_module_version": "1.5.0",
            "_view_count": null,
            "_view_module_version": "1.2.0",
            "_model_module": "@jupyter-widgets/controls"
          }
        },
        "bb788dac0a6741989be196de2ef2ebcc": {
          "model_module": "@jupyter-widgets/base",
          "model_name": "LayoutModel",
          "state": {
            "_view_name": "LayoutView",
            "grid_template_rows": null,
            "right": null,
            "justify_content": null,
            "_view_module": "@jupyter-widgets/base",
            "overflow": null,
            "_model_module_version": "1.2.0",
            "_view_count": null,
            "flex_flow": null,
            "width": null,
            "min_width": null,
            "border": null,
            "align_items": null,
            "bottom": null,
            "_model_module": "@jupyter-widgets/base",
            "top": null,
            "grid_column": null,
            "overflow_y": null,
            "overflow_x": null,
            "grid_auto_flow": null,
            "grid_area": null,
            "grid_template_columns": null,
            "flex": null,
            "_model_name": "LayoutModel",
            "justify_items": null,
            "grid_row": null,
            "max_height": null,
            "align_content": null,
            "visibility": null,
            "align_self": null,
            "height": null,
            "min_height": null,
            "padding": null,
            "grid_auto_rows": null,
            "grid_gap": null,
            "max_width": null,
            "order": null,
            "_view_module_version": "1.2.0",
            "grid_template_areas": null,
            "object_position": null,
            "object_fit": null,
            "grid_auto_columns": null,
            "margin": null,
            "display": null,
            "left": null
          }
        },
        "e9f1d11e0fce4eefa69eafbf3b9c4542": {
          "model_module": "@jupyter-widgets/controls",
          "model_name": "HBoxModel",
          "state": {
            "_view_name": "HBoxView",
            "_dom_classes": [],
            "_model_name": "HBoxModel",
            "_view_module": "@jupyter-widgets/controls",
            "_model_module_version": "1.5.0",
            "_view_count": null,
            "_view_module_version": "1.5.0",
            "box_style": "",
            "layout": "IPY_MODEL_31463f1b3f3e41108831826ce471704b",
            "_model_module": "@jupyter-widgets/controls",
            "children": [
              "IPY_MODEL_e2368b70b06e45e593e0246b690b980c",
              "IPY_MODEL_9554c0299a784792b14a887ae4b46f97"
            ]
          }
        },
        "31463f1b3f3e41108831826ce471704b": {
          "model_module": "@jupyter-widgets/base",
          "model_name": "LayoutModel",
          "state": {
            "_view_name": "LayoutView",
            "grid_template_rows": null,
            "right": null,
            "justify_content": null,
            "_view_module": "@jupyter-widgets/base",
            "overflow": null,
            "_model_module_version": "1.2.0",
            "_view_count": null,
            "flex_flow": null,
            "width": null,
            "min_width": null,
            "border": null,
            "align_items": null,
            "bottom": null,
            "_model_module": "@jupyter-widgets/base",
            "top": null,
            "grid_column": null,
            "overflow_y": null,
            "overflow_x": null,
            "grid_auto_flow": null,
            "grid_area": null,
            "grid_template_columns": null,
            "flex": null,
            "_model_name": "LayoutModel",
            "justify_items": null,
            "grid_row": null,
            "max_height": null,
            "align_content": null,
            "visibility": null,
            "align_self": null,
            "height": null,
            "min_height": null,
            "padding": null,
            "grid_auto_rows": null,
            "grid_gap": null,
            "max_width": null,
            "order": null,
            "_view_module_version": "1.2.0",
            "grid_template_areas": null,
            "object_position": null,
            "object_fit": null,
            "grid_auto_columns": null,
            "margin": null,
            "display": null,
            "left": null
          }
        },
        "e2368b70b06e45e593e0246b690b980c": {
          "model_module": "@jupyter-widgets/controls",
          "model_name": "FloatProgressModel",
          "state": {
            "_view_name": "ProgressView",
            "style": "IPY_MODEL_4a1d932d03094804b919fd5806d1aa9c",
            "_dom_classes": [],
            "description": "100%",
            "_model_name": "FloatProgressModel",
            "bar_style": "success",
            "max": 50,
            "_view_module": "@jupyter-widgets/controls",
            "_model_module_version": "1.5.0",
            "value": 50,
            "_view_count": null,
            "_view_module_version": "1.5.0",
            "orientation": "horizontal",
            "min": 0,
            "description_tooltip": null,
            "_model_module": "@jupyter-widgets/controls",
            "layout": "IPY_MODEL_e4af58b5aea9451ca55030e2040a8447"
          }
        },
        "9554c0299a784792b14a887ae4b46f97": {
          "model_module": "@jupyter-widgets/controls",
          "model_name": "HTMLModel",
          "state": {
            "_view_name": "HTMLView",
            "style": "IPY_MODEL_95c2195cce1b4fcd888ff0c86cfb8d5b",
            "_dom_classes": [],
            "description": "",
            "_model_name": "HTMLModel",
            "placeholder": "​",
            "_view_module": "@jupyter-widgets/controls",
            "_model_module_version": "1.5.0",
            "value": " 50/50 [06:59&lt;00:00,  8.39s/it, correct=92.99%, skipped=2.09%]",
            "_view_count": null,
            "_view_module_version": "1.5.0",
            "description_tooltip": null,
            "_model_module": "@jupyter-widgets/controls",
            "layout": "IPY_MODEL_1be995ae33e446ec91299e01225cd1c5"
          }
        },
        "4a1d932d03094804b919fd5806d1aa9c": {
          "model_module": "@jupyter-widgets/controls",
          "model_name": "ProgressStyleModel",
          "state": {
            "_view_name": "StyleView",
            "_model_name": "ProgressStyleModel",
            "description_width": "initial",
            "_view_module": "@jupyter-widgets/base",
            "_model_module_version": "1.5.0",
            "_view_count": null,
            "_view_module_version": "1.2.0",
            "bar_color": null,
            "_model_module": "@jupyter-widgets/controls"
          }
        },
        "e4af58b5aea9451ca55030e2040a8447": {
          "model_module": "@jupyter-widgets/base",
          "model_name": "LayoutModel",
          "state": {
            "_view_name": "LayoutView",
            "grid_template_rows": null,
            "right": null,
            "justify_content": null,
            "_view_module": "@jupyter-widgets/base",
            "overflow": null,
            "_model_module_version": "1.2.0",
            "_view_count": null,
            "flex_flow": null,
            "width": null,
            "min_width": null,
            "border": null,
            "align_items": null,
            "bottom": null,
            "_model_module": "@jupyter-widgets/base",
            "top": null,
            "grid_column": null,
            "overflow_y": null,
            "overflow_x": null,
            "grid_auto_flow": null,
            "grid_area": null,
            "grid_template_columns": null,
            "flex": null,
            "_model_name": "LayoutModel",
            "justify_items": null,
            "grid_row": null,
            "max_height": null,
            "align_content": null,
            "visibility": null,
            "align_self": null,
            "height": null,
            "min_height": null,
            "padding": null,
            "grid_auto_rows": null,
            "grid_gap": null,
            "max_width": null,
            "order": null,
            "_view_module_version": "1.2.0",
            "grid_template_areas": null,
            "object_position": null,
            "object_fit": null,
            "grid_auto_columns": null,
            "margin": null,
            "display": null,
            "left": null
          }
        },
        "95c2195cce1b4fcd888ff0c86cfb8d5b": {
          "model_module": "@jupyter-widgets/controls",
          "model_name": "DescriptionStyleModel",
          "state": {
            "_view_name": "StyleView",
            "_model_name": "DescriptionStyleModel",
            "description_width": "",
            "_view_module": "@jupyter-widgets/base",
            "_model_module_version": "1.5.0",
            "_view_count": null,
            "_view_module_version": "1.2.0",
            "_model_module": "@jupyter-widgets/controls"
          }
        },
        "1be995ae33e446ec91299e01225cd1c5": {
          "model_module": "@jupyter-widgets/base",
          "model_name": "LayoutModel",
          "state": {
            "_view_name": "LayoutView",
            "grid_template_rows": null,
            "right": null,
            "justify_content": null,
            "_view_module": "@jupyter-widgets/base",
            "overflow": null,
            "_model_module_version": "1.2.0",
            "_view_count": null,
            "flex_flow": null,
            "width": null,
            "min_width": null,
            "border": null,
            "align_items": null,
            "bottom": null,
            "_model_module": "@jupyter-widgets/base",
            "top": null,
            "grid_column": null,
            "overflow_y": null,
            "overflow_x": null,
            "grid_auto_flow": null,
            "grid_area": null,
            "grid_template_columns": null,
            "flex": null,
            "_model_name": "LayoutModel",
            "justify_items": null,
            "grid_row": null,
            "max_height": null,
            "align_content": null,
            "visibility": null,
            "align_self": null,
            "height": null,
            "min_height": null,
            "padding": null,
            "grid_auto_rows": null,
            "grid_gap": null,
            "max_width": null,
            "order": null,
            "_view_module_version": "1.2.0",
            "grid_template_areas": null,
            "object_position": null,
            "object_fit": null,
            "grid_auto_columns": null,
            "margin": null,
            "display": null,
            "left": null
          }
        }
      }
    }
  },
  "cells": [
    {
      "cell_type": "markdown",
      "metadata": {
        "id": "b2V_6GjQrQxL"
      },
      "source": [
        "# Comparing Implicit Models on LastFM Music Data\n",
        "> Fitting ALS, BPR, PoissonMF, and HPFRec models on LastFM-250K music dataset\n",
        "\n",
        "- toc: true\n",
        "- badges: true\n",
        "- comments: true\n",
        "- categories: [Implicit, Music]\n",
        "- author: \"<a href='https://github.com/david-cortes'>David Cortes</a>\"\n",
        "- image:"
      ]
    },
    {
      "cell_type": "markdown",
      "metadata": {
        "id": "jf8Ogz1Ug3hF"
      },
      "source": [
        "## Installation"
      ]
    },
    {
      "cell_type": "code",
      "metadata": {
        "id": "cesa4F19ftIC"
      },
      "source": [
        "# !pip install --no-use-pep517 poismf implicit hpfrec"
      ],
      "execution_count": null,
      "outputs": []
    },
    {
      "cell_type": "code",
      "metadata": {
        "id": "QeRhQj-LecfP"
      },
      "source": [
        "import numpy as np\n",
        "import pandas as pd\n",
        "\n",
        "from scipy.sparse import coo_matrix, csr_matrix, csc_matrix\n",
        "\n",
        "from poismf import PoisMF\n",
        "from implicit.als import AlternatingLeastSquares\n",
        "from implicit.bpr import BayesianPersonalizedRanking\n",
        "from hpfrec import HPF ### <- Bayesian version"
      ],
      "execution_count": 37,
      "outputs": []
    },
    {
      "cell_type": "markdown",
      "metadata": {
        "id": "rHJQt6lBfSzD"
      },
      "source": [
        "## Data Load"
      ]
    },
    {
      "cell_type": "markdown",
      "metadata": {
        "id": "KrFMw9_mfV-4"
      },
      "source": [
        "### Download Alternative 1"
      ]
    },
    {
      "cell_type": "code",
      "metadata": {
        "id": "qBTX60B8ePBm"
      },
      "source": [
        "!pip install -q -U kaggle\n",
        "!pip install --upgrade --force-reinstall --no-deps kaggle\n",
        "!mkdir ~/.kaggle\n",
        "!cp /content/drive/MyDrive/kaggle.json ~/.kaggle/\n",
        "!chmod 600 ~/.kaggle/kaggle.json\n",
        "!kaggle datasets download -d neferfufi/lastfm"
      ],
      "execution_count": null,
      "outputs": []
    },
    {
      "cell_type": "code",
      "metadata": {
        "id": "0PpzrjUce7-z"
      },
      "source": [
        "!unzip lastfm.zip"
      ],
      "execution_count": null,
      "outputs": []
    },
    {
      "cell_type": "markdown",
      "metadata": {
        "id": "zml3SUS9fYYN"
      },
      "source": [
        "### Download Alternative 2"
      ]
    },
    {
      "cell_type": "code",
      "metadata": {
        "id": "0A1W4V1YeSPr"
      },
      "source": [
        "!wget http://mtg.upf.edu/static/datasets/last.fm/lastfm-dataset-360K.tar.gz"
      ],
      "execution_count": null,
      "outputs": []
    },
    {
      "cell_type": "code",
      "metadata": {
        "colab": {
          "base_uri": "https://localhost:8080/",
          "height": 142
        },
        "id": "OvM5sjd5wa_5",
        "outputId": "b77a1e63-db0b-4912-87ee-e338f7f694a9"
      },
      "source": [
        "lfm = pd.read_table('usersha1-artmbid-artname-plays.tsv',\n",
        "                           sep='\\t', header=None, names=['UserId','ItemId', 'Artist','Count'])\n",
        "lfm.columns = ['UserId', 'ItemId', 'Artist', 'Count']\n",
        "lfm.head(3)"
      ],
      "execution_count": 71,
      "outputs": [
        {
          "output_type": "execute_result",
          "data": {
            "text/html": [
              "<div>\n",
              "<style scoped>\n",
              "    .dataframe tbody tr th:only-of-type {\n",
              "        vertical-align: middle;\n",
              "    }\n",
              "\n",
              "    .dataframe tbody tr th {\n",
              "        vertical-align: top;\n",
              "    }\n",
              "\n",
              "    .dataframe thead th {\n",
              "        text-align: right;\n",
              "    }\n",
              "</style>\n",
              "<table border=\"1\" class=\"dataframe\">\n",
              "  <thead>\n",
              "    <tr style=\"text-align: right;\">\n",
              "      <th></th>\n",
              "      <th>UserId</th>\n",
              "      <th>ItemId</th>\n",
              "      <th>Artist</th>\n",
              "      <th>Count</th>\n",
              "    </tr>\n",
              "  </thead>\n",
              "  <tbody>\n",
              "    <tr>\n",
              "      <th>0</th>\n",
              "      <td>00000c289a1829a808ac09c00daf10bc3c4e223b</td>\n",
              "      <td>3bd73256-3905-4f3a-97e2-8b341527f805</td>\n",
              "      <td>betty blowtorch</td>\n",
              "      <td>2137</td>\n",
              "    </tr>\n",
              "    <tr>\n",
              "      <th>1</th>\n",
              "      <td>00000c289a1829a808ac09c00daf10bc3c4e223b</td>\n",
              "      <td>f2fb0ff0-5679-42ec-a55c-15109ce6e320</td>\n",
              "      <td>die Ärzte</td>\n",
              "      <td>1099</td>\n",
              "    </tr>\n",
              "    <tr>\n",
              "      <th>2</th>\n",
              "      <td>00000c289a1829a808ac09c00daf10bc3c4e223b</td>\n",
              "      <td>b3ae82c2-e60b-4551-a76d-6620f1b456aa</td>\n",
              "      <td>melissa etheridge</td>\n",
              "      <td>897</td>\n",
              "    </tr>\n",
              "  </tbody>\n",
              "</table>\n",
              "</div>"
            ],
            "text/plain": [
              "                                     UserId  ... Count\n",
              "0  00000c289a1829a808ac09c00daf10bc3c4e223b  ...  2137\n",
              "1  00000c289a1829a808ac09c00daf10bc3c4e223b  ...  1099\n",
              "2  00000c289a1829a808ac09c00daf10bc3c4e223b  ...   897\n",
              "\n",
              "[3 rows x 4 columns]"
            ]
          },
          "metadata": {
            "tags": []
          },
          "execution_count": 71
        }
      ]
    },
    {
      "cell_type": "code",
      "metadata": {
        "colab": {
          "base_uri": "https://localhost:8080/",
          "height": 142
        },
        "id": "6Z2_sNunxaMx",
        "outputId": "11b8af9b-744f-4c9c-d7d8-27afe02bae3e"
      },
      "source": [
        "lfm = lfm.drop('Artist', axis=1)\n",
        "lfm = lfm.loc[lfm.Count > 0]\n",
        "lfm['UserId'] = pd.Categorical(lfm.UserId).codes\n",
        "lfm['ItemId'] = pd.Categorical(lfm.ItemId).codes\n",
        "lfm.head(3)"
      ],
      "execution_count": 79,
      "outputs": [
        {
          "output_type": "execute_result",
          "data": {
            "text/html": [
              "<div>\n",
              "<style scoped>\n",
              "    .dataframe tbody tr th:only-of-type {\n",
              "        vertical-align: middle;\n",
              "    }\n",
              "\n",
              "    .dataframe tbody tr th {\n",
              "        vertical-align: top;\n",
              "    }\n",
              "\n",
              "    .dataframe thead th {\n",
              "        text-align: right;\n",
              "    }\n",
              "</style>\n",
              "<table border=\"1\" class=\"dataframe\">\n",
              "  <thead>\n",
              "    <tr style=\"text-align: right;\">\n",
              "      <th></th>\n",
              "      <th>UserId</th>\n",
              "      <th>ItemId</th>\n",
              "      <th>Count</th>\n",
              "    </tr>\n",
              "  </thead>\n",
              "  <tbody>\n",
              "    <tr>\n",
              "      <th>0</th>\n",
              "      <td>0</td>\n",
              "      <td>37425</td>\n",
              "      <td>2137</td>\n",
              "    </tr>\n",
              "    <tr>\n",
              "      <th>1</th>\n",
              "      <td>0</td>\n",
              "      <td>152039</td>\n",
              "      <td>1099</td>\n",
              "    </tr>\n",
              "    <tr>\n",
              "      <th>2</th>\n",
              "      <td>0</td>\n",
              "      <td>112365</td>\n",
              "      <td>897</td>\n",
              "    </tr>\n",
              "  </tbody>\n",
              "</table>\n",
              "</div>"
            ],
            "text/plain": [
              "   UserId  ItemId  Count\n",
              "0       0   37425   2137\n",
              "1       0  152039   1099\n",
              "2       0  112365    897"
            ]
          },
          "metadata": {
            "tags": []
          },
          "execution_count": 79
        }
      ]
    },
    {
      "cell_type": "code",
      "metadata": {
        "colab": {
          "base_uri": "https://localhost:8080/",
          "height": 142
        },
        "id": "5Iaq0tkLff7b",
        "outputId": "b2e42e09-8308-4df1-c6e0-c814a6a72e93"
      },
      "source": [
        "lfm.describe(include='all').T"
      ],
      "execution_count": 80,
      "outputs": [
        {
          "output_type": "execute_result",
          "data": {
            "text/html": [
              "<div>\n",
              "<style scoped>\n",
              "    .dataframe tbody tr th:only-of-type {\n",
              "        vertical-align: middle;\n",
              "    }\n",
              "\n",
              "    .dataframe tbody tr th {\n",
              "        vertical-align: top;\n",
              "    }\n",
              "\n",
              "    .dataframe thead th {\n",
              "        text-align: right;\n",
              "    }\n",
              "</style>\n",
              "<table border=\"1\" class=\"dataframe\">\n",
              "  <thead>\n",
              "    <tr style=\"text-align: right;\">\n",
              "      <th></th>\n",
              "      <th>count</th>\n",
              "      <th>mean</th>\n",
              "      <th>std</th>\n",
              "      <th>min</th>\n",
              "      <th>25%</th>\n",
              "      <th>50%</th>\n",
              "      <th>75%</th>\n",
              "      <th>max</th>\n",
              "    </tr>\n",
              "  </thead>\n",
              "  <tbody>\n",
              "    <tr>\n",
              "      <th>UserId</th>\n",
              "      <td>17535654.0</td>\n",
              "      <td>179403.114983</td>\n",
              "      <td>103588.710665</td>\n",
              "      <td>0.0</td>\n",
              "      <td>89699.0</td>\n",
              "      <td>179375.0</td>\n",
              "      <td>269103.0</td>\n",
              "      <td>358867.0</td>\n",
              "    </tr>\n",
              "    <tr>\n",
              "      <th>ItemId</th>\n",
              "      <td>17535654.0</td>\n",
              "      <td>79521.347201</td>\n",
              "      <td>46907.281826</td>\n",
              "      <td>-1.0</td>\n",
              "      <td>39162.0</td>\n",
              "      <td>81989.0</td>\n",
              "      <td>118607.0</td>\n",
              "      <td>160111.0</td>\n",
              "    </tr>\n",
              "    <tr>\n",
              "      <th>Count</th>\n",
              "      <td>17535654.0</td>\n",
              "      <td>215.193173</td>\n",
              "      <td>614.481470</td>\n",
              "      <td>1.0</td>\n",
              "      <td>35.0</td>\n",
              "      <td>94.0</td>\n",
              "      <td>224.0</td>\n",
              "      <td>419157.0</td>\n",
              "    </tr>\n",
              "  </tbody>\n",
              "</table>\n",
              "</div>"
            ],
            "text/plain": [
              "             count           mean            std  ...       50%       75%       max\n",
              "UserId  17535654.0  179403.114983  103588.710665  ...  179375.0  269103.0  358867.0\n",
              "ItemId  17535654.0   79521.347201   46907.281826  ...   81989.0  118607.0  160111.0\n",
              "Count   17535654.0     215.193173     614.481470  ...      94.0     224.0  419157.0\n",
              "\n",
              "[3 rows x 8 columns]"
            ]
          },
          "metadata": {
            "tags": []
          },
          "execution_count": 80
        }
      ]
    },
    {
      "cell_type": "markdown",
      "metadata": {
        "id": "S_IzUa6Bo8yO"
      },
      "source": [
        "### Train/Test Split"
      ]
    },
    {
      "cell_type": "code",
      "metadata": {
        "colab": {
          "base_uri": "https://localhost:8080/"
        },
        "id": "x5ugJgBJi4ri",
        "outputId": "a2861c1b-e120-4f19-8f1c-5b69c88b9a89"
      },
      "source": [
        "from sklearn.model_selection import train_test_split\n",
        "\n",
        "df_train, df_test = train_test_split(lfm, test_size=.3)\n",
        "df_train = df_train.copy()\n",
        "users_train = np.unique(df_train.UserId.to_numpy())\n",
        "items_train = np.unique(df_train.ItemId.to_numpy())\n",
        "df_test = df_test.loc[df_test.UserId.isin(users_train) &\n",
        "                      df_test.ItemId.isin(items_train)]\n",
        "df_train[\"UserId\"] = pd.Categorical(df_train.UserId, users_train).codes\n",
        "df_train[\"ItemId\"] = pd.Categorical(df_train.ItemId, items_train).codes\n",
        "df_test[\"UserId\"] = pd.Categorical(df_test.UserId, users_train).codes\n",
        "df_test[\"ItemId\"] = pd.Categorical(df_test.ItemId, items_train).codes\n",
        "users_test = np.unique(df_test.UserId.to_numpy())\n",
        "\n",
        "print(\"Number of entries in training data: {:,}\".format(df_train.shape[0]))\n",
        "print(\"Number of entries in test data: {:,}\".format(df_test.shape[0]))\n",
        "print(\"Number of users in training data: {:,}\".format(users_train.shape[0]))\n",
        "print(\"Number of users in test data: {:,}\".format(users_test.shape[0]))\n",
        "print(\"Number of items in training and test data: {:,}\".format(items_train.shape[0]))"
      ],
      "execution_count": 81,
      "outputs": [
        {
          "output_type": "stream",
          "text": [
            "Number of entries in training data: 12,274,957\n",
            "Number of entries in test data: 5,245,397\n",
            "Number of users in training data: 358,848\n",
            "Number of users in test data: 358,698\n",
            "Number of items in training and test data: 147,181\n"
          ],
          "name": "stdout"
        }
      ]
    },
    {
      "cell_type": "markdown",
      "metadata": {
        "id": "RJPvtKIzo4cI"
      },
      "source": [
        "### Util function to print ranking metrics"
      ]
    },
    {
      "cell_type": "markdown",
      "metadata": {
        "id": "eps-jLDxqY7g"
      },
      "source": [
        "The models fit here will be evaluated by AUC and P@5, calculated for individual users and then averaged across a random sample of 1,000 users. These metrics are calculated for each user separately, by taking the entries in the hold-out test set as a positive class, entries which are neither in the training or test sets as a negative class, and producing predictions for all the entries that were not in the training set - the idea being that models which tend to rank highest the items that the users ended up consuming are better."
      ]
    },
    {
      "cell_type": "code",
      "metadata": {
        "id": "9_iUr3-xkfPr"
      },
      "source": [
        "from sklearn.metrics import roc_auc_score\n",
        "from joblib import Parallel, delayed\n",
        "\n",
        "## Note: this is a computationally inefficient implementation of the\n",
        "## test metrics, not recommended to use outside of this notebook\n",
        "def print_ranking_metrics(A, B, df_train, df_test, users_test,\n",
        "                          nusers=1000, top_n=5, seed=1,\n",
        "                          njobs=-1):\n",
        "    \"\"\"\n",
        "    Parameters\n",
        "    ----------\n",
        "    A : array(m, k)\n",
        "        The user-factor matrix.\n",
        "    B : array(n, k)\n",
        "        The item-factor matrix\n",
        "    df_train : DataFrame(n_train, [user, item, value])\n",
        "        The training triplets.\n",
        "    df_test : DataFrame(n_test, [user, item, value])\n",
        "        The hold-out triplets.\n",
        "    n_user : int\n",
        "        Number of users to sample.\n",
        "    top_n : int\n",
        "        Number of top-ranked items to calculate precision.\n",
        "    seed : int\n",
        "        Random seed used to select the users.\n",
        "    njobs : int\n",
        "        Number of jobs to run in parallel.\n",
        "    \"\"\"\n",
        "    n_users = A.shape[0]\n",
        "    n_items = B.shape[0]\n",
        "    rng = np.random.default_rng(seed=seed)\n",
        "    chosen_users = rng.choice(users_test, size=nusers, replace=False)\n",
        "    all_train = df_train.loc[df_train.UserId.isin(chosen_users)]\n",
        "    all_test = df_test.loc[df_test.UserId.isin(chosen_users)]\n",
        "    \n",
        "    def metrics_single_user(user):\n",
        "        ypos = all_test.ItemId.loc[all_test.UserId == user].to_numpy()\n",
        "        ytrain = all_train.ItemId.loc[all_train.UserId == user].to_numpy()\n",
        "        yneg = np.setdiff1d(np.arange(n_items), np.r_[ypos, ytrain])\n",
        "        ytest = np.r_[yneg, ypos]\n",
        "        yhat = B[ytest].dot(A[user])\n",
        "        auc = roc_auc_score(np.r_[np.zeros(yneg.shape[0]),\n",
        "                                  np.ones(ypos.shape[0])],\n",
        "                            yhat)\n",
        "        topN = np.argsort(-yhat)[:top_n]\n",
        "        p_at_k = np.mean(topN >= yneg.shape[0])\n",
        "        p_at_k_rnd = ypos.shape[0] / ytest.shape[0] ## <- baseline\n",
        "        return auc, p_at_k, p_at_k_rnd\n",
        "\n",
        "    res_triplets = Parallel(n_jobs = njobs)\\\n",
        "                    (delayed(metrics_single_user)(u) \\\n",
        "                        for u in chosen_users)\n",
        "\n",
        "    res_triplets = np.array(res_triplets)\n",
        "    auc = np.mean(res_triplets[:,0])\n",
        "    p_at_k = np.mean(res_triplets[:,1])\n",
        "    p_at_k_rnd = np.mean(res_triplets[:,2])\n",
        "    print(\"AUC: %.4f [random: %.2f]\" % (auc, 0.5))\n",
        "    print(\"P@%d: %.4f [random: %.4f]\" % (top_n,\n",
        "                                         p_at_k,\n",
        "                                         p_at_k_rnd))"
      ],
      "execution_count": 82,
      "outputs": []
    },
    {
      "cell_type": "markdown",
      "metadata": {
        "id": "T2dQooW0o1rX"
      },
      "source": [
        "### PoisMF"
      ]
    },
    {
      "cell_type": "markdown",
      "metadata": {
        "id": "5TChLomHpgAk"
      },
      "source": [
        "**Poisson factorization**\n",
        "\n",
        "The model is described in more detail in [Fast Non-Bayesian Poisson Factorization for Implicit-Feedback Recommendations](https://arxiv.org/abs/1811.01908).\n",
        "\n",
        "The basic idea is to take a sparse input matrix of counts $\\mathbf{X}_{m,n}$, which in this case is given by the number of times each user (row in the matrix) played each song (column in the matrix), and find an approximation as the product of two non-negative lower-dimensional latent factor matrices $\\mathbf{A}_{m,k}$ and $\\mathbf{B}_{n,k}$ by maximizing Poisson likelihood, i.e. fit a model:\n",
        "$$\n",
        "\\mathbf{X} \\sim \\text{Poisson}(\\mathbf{A} \\mathbf{B}^T)\n",
        "$$\n",
        "\n",
        "Which is then used to make predictions on the missing (zero-valued) entries, with the highest-predicted items for each user being the best candidates to recommend.\n",
        "\n",
        "The poisemf package offers different optimization methods which have different advantages in terms of speed and quality, and depending on the settings, is usually able to find good solutions in which the latent factors matrices $\\mathbf{A}$ and $\\mathbf{B}$ are sparse (i.e. most entries are exactly zero).\n",
        "** *"
      ]
    },
    {
      "cell_type": "code",
      "metadata": {
        "colab": {
          "base_uri": "https://localhost:8080/"
        },
        "id": "Vjtv-4wWkhOG",
        "outputId": "8d5bea4d-4286-4f32-e209-62ecd4c32ca4"
      },
      "source": [
        "%%time\n",
        "model_fast = PoisMF(reindex=False, method=\"pg\", use_float=False,\n",
        "                    k=10, niter=10, maxupd=1, l2_reg=1e9)\\\n",
        "                .fit(df_train)"
      ],
      "execution_count": 83,
      "outputs": [
        {
          "output_type": "stream",
          "text": [
            "CPU times: user 48.6 s, sys: 99.9 ms, total: 48.7 s\n",
            "Wall time: 27 s\n"
          ],
          "name": "stdout"
        }
      ]
    },
    {
      "cell_type": "code",
      "metadata": {
        "colab": {
          "base_uri": "https://localhost:8080/"
        },
        "id": "3i-ImEeuw0Mm",
        "outputId": "2525db5f-a7a6-4b65-cc35-8bc0f8c09ed0"
      },
      "source": [
        "print_ranking_metrics(model_fast.A, model_fast.B,\n",
        "                      df_train, df_test, users_test)"
      ],
      "execution_count": 84,
      "outputs": [
        {
          "output_type": "stream",
          "text": [
            "AUC: 0.9538 [random: 0.50]\n",
            "P@5: 0.0888 [random: 0.0001]\n"
          ],
          "name": "stdout"
        }
      ]
    },
    {
      "cell_type": "code",
      "metadata": {
        "colab": {
          "base_uri": "https://localhost:8080/"
        },
        "id": "4jxLC1dOmo8I",
        "outputId": "c3318400-8ab6-4c2a-c23e-c032459ecb59"
      },
      "source": [
        "%%time\n",
        "model_balanced = PoisMF(reindex=False, method=\"cg\", use_float=False,\n",
        "                        k=50, niter=30, maxupd=5, l2_reg=1e4)\\\n",
        "                    .fit(df_train)"
      ],
      "execution_count": 85,
      "outputs": [
        {
          "output_type": "stream",
          "text": [
            "CPU times: user 43min 14s, sys: 1.98 s, total: 43min 16s\n",
            "Wall time: 22min 4s\n"
          ],
          "name": "stdout"
        }
      ]
    },
    {
      "cell_type": "code",
      "metadata": {
        "colab": {
          "base_uri": "https://localhost:8080/"
        },
        "id": "qlWsR-qRkhKB",
        "outputId": "8e48a2bb-bda3-4571-e1c7-832f4e5105b2"
      },
      "source": [
        "print_ranking_metrics(model_balanced.A, model_balanced.B,\n",
        "                      df_train, df_test, users_test)"
      ],
      "execution_count": 96,
      "outputs": [
        {
          "output_type": "stream",
          "text": [
            "AUC: 0.9823 [random: 0.50]\n",
            "P@5: 0.1436 [random: 0.0001]\n"
          ],
          "name": "stdout"
        }
      ]
    },
    {
      "cell_type": "code",
      "metadata": {
        "colab": {
          "base_uri": "https://localhost:8080/"
        },
        "id": "tnNJBZPYlZ4y",
        "outputId": "769ee3b1-f981-494c-ec1c-82e230755854"
      },
      "source": [
        "model.A[0]"
      ],
      "execution_count": 97,
      "outputs": [
        {
          "output_type": "execute_result",
          "data": {
            "text/plain": [
              "array([0.06792299, 0.16954426, 0.17553033, 0.00234962, 0.05563869])"
            ]
          },
          "metadata": {
            "tags": []
          },
          "execution_count": 97
        }
      ]
    },
    {
      "cell_type": "markdown",
      "metadata": {
        "id": "lF3brYajovB2"
      },
      "source": [
        "### Ranking and Prediction"
      ]
    },
    {
      "cell_type": "code",
      "metadata": {
        "colab": {
          "base_uri": "https://localhost:8080/"
        },
        "id": "Yul771tglZ22",
        "outputId": "07200077-c840-4364-f2a0-4dcedfd0a7a7"
      },
      "source": [
        "model.topN(user = 2, n = 5, exclude = df_train.ItemId.loc[df_train.UserId==2])"
      ],
      "execution_count": 88,
      "outputs": [
        {
          "output_type": "execute_result",
          "data": {
            "text/plain": [
              "array([     0,  96129, 101787,  60559, 139291])"
            ]
          },
          "metadata": {
            "tags": []
          },
          "execution_count": 88
        }
      ]
    },
    {
      "cell_type": "code",
      "metadata": {
        "colab": {
          "base_uri": "https://localhost:8080/"
        },
        "id": "-xhfAdGDlZ0m",
        "outputId": "c9defc32-d31d-4138-8647-82d08a77af75"
      },
      "source": [
        "model.topN_new(df_train.loc[df_train.UserId==2], n = 5, exclude = df_train.ItemId.loc[df_train.UserId==2])"
      ],
      "execution_count": 89,
      "outputs": [
        {
          "output_type": "execute_result",
          "data": {
            "text/plain": [
              "array([     0,  96129,  60559, 101787, 139291])"
            ]
          },
          "metadata": {
            "tags": []
          },
          "execution_count": 89
        }
      ]
    },
    {
      "cell_type": "code",
      "metadata": {
        "colab": {
          "base_uri": "https://localhost:8080/"
        },
        "id": "m_rqylmQlZwc",
        "outputId": "d84303b8-1892-434d-f4a6-82dfa6e6f39e"
      },
      "source": [
        "model.predict(user=[3,3,3], item=[3,4,11])"
      ],
      "execution_count": 90,
      "outputs": [
        {
          "output_type": "execute_result",
          "data": {
            "text/plain": [
              "array([0.00000000e+00, 2.07693311e-06, 0.00000000e+00])"
            ]
          },
          "metadata": {
            "tags": []
          },
          "execution_count": 90
        }
      ]
    },
    {
      "cell_type": "markdown",
      "metadata": {
        "id": "qrx6Ke1eoqlE"
      },
      "source": [
        "### Sparse Matrix"
      ]
    },
    {
      "cell_type": "code",
      "metadata": {
        "id": "Lba_G0vAjyfd"
      },
      "source": [
        "## Note: package implicit takes a matrix of shape [items, users]\n",
        "## Other packages take a matrix of shape [users, items]\n",
        "Xcoo = coo_matrix((df_train.Count, (df_train.UserId, df_train.ItemId)))\n",
        "Xcoo_T = Xcoo.T\n",
        "Xcsr_T = csr_matrix(Xcoo_T)"
      ],
      "execution_count": 91,
      "outputs": []
    },
    {
      "cell_type": "markdown",
      "metadata": {
        "id": "T8vUbXJRopTj"
      },
      "source": [
        "### ALS"
      ]
    },
    {
      "cell_type": "code",
      "metadata": {
        "colab": {
          "base_uri": "https://localhost:8080/",
          "height": 100,
          "referenced_widgets": [
            "baf57328a893499d8cc7840cd3c98d99",
            "75af5a769cfd4b9fbf6c95d534ba8f3b",
            "7650d168da03480097eeb51e6f26eb96",
            "68a6f0bebee345278ea394fe2aa5161f",
            "a9eb17088c214829a1cb3a64944a4787",
            "e1a0835c1332417ea8e89b5cd4b84b83",
            "42afcd20588e49babe13b77456a37dc6",
            "bb788dac0a6741989be196de2ef2ebcc"
          ]
        },
        "id": "jA_D8jbgjTW9",
        "outputId": "30e90f5d-1815-461c-8354-6cd724eb96b4"
      },
      "source": [
        "ials = AlternatingLeastSquares(factors=50, regularization=0.01,\n",
        "                               dtype=np.float64, iterations=50,\n",
        "                               use_gpu=False)\n",
        "ials.fit(Xcsr_T)\n",
        "\n",
        "print_ranking_metrics(ials.user_factors, ials.item_factors,\n",
        "                      df_train, df_test, users_test)"
      ],
      "execution_count": 98,
      "outputs": [
        {
          "output_type": "display_data",
          "data": {
            "application/vnd.jupyter.widget-view+json": {
              "model_id": "baf57328a893499d8cc7840cd3c98d99",
              "version_minor": 0,
              "version_major": 2
            },
            "text/plain": [
              "HBox(children=(FloatProgress(value=0.0, max=50.0), HTML(value='')))"
            ]
          },
          "metadata": {
            "tags": []
          }
        },
        {
          "output_type": "stream",
          "text": [
            "\n",
            "AUC: 0.9782 [random: 0.50]\n",
            "P@5: 0.1960 [random: 0.0001]\n"
          ],
          "name": "stdout"
        }
      ]
    },
    {
      "cell_type": "markdown",
      "metadata": {
        "id": "iZ4CKICIon1u"
      },
      "source": [
        "### BPR"
      ]
    },
    {
      "cell_type": "code",
      "metadata": {
        "colab": {
          "base_uri": "https://localhost:8080/",
          "height": 100,
          "referenced_widgets": [
            "e9f1d11e0fce4eefa69eafbf3b9c4542",
            "31463f1b3f3e41108831826ce471704b",
            "e2368b70b06e45e593e0246b690b980c",
            "9554c0299a784792b14a887ae4b46f97",
            "4a1d932d03094804b919fd5806d1aa9c",
            "e4af58b5aea9451ca55030e2040a8447",
            "95c2195cce1b4fcd888ff0c86cfb8d5b",
            "1be995ae33e446ec91299e01225cd1c5"
          ]
        },
        "id": "1W-q3dkHn1om",
        "outputId": "1de41f0b-c73e-46d3-f8d6-c138c49b94d9"
      },
      "source": [
        "bpr = BayesianPersonalizedRanking(factors=50, regularization=0.01,\n",
        "                               dtype=np.float64, iterations=50,\n",
        "                               use_gpu=False)\n",
        "bpr.fit(Xcsr_T)\n",
        "\n",
        "print_ranking_metrics(bpr.user_factors, bpr.item_factors,\n",
        "                      df_train, df_test, users_test)"
      ],
      "execution_count": 99,
      "outputs": [
        {
          "output_type": "display_data",
          "data": {
            "application/vnd.jupyter.widget-view+json": {
              "model_id": "e9f1d11e0fce4eefa69eafbf3b9c4542",
              "version_minor": 0,
              "version_major": 2
            },
            "text/plain": [
              "HBox(children=(FloatProgress(value=0.0, max=50.0), HTML(value='')))"
            ]
          },
          "metadata": {
            "tags": []
          }
        },
        {
          "output_type": "stream",
          "text": [
            "\n",
            "AUC: 0.9430 [random: 0.50]\n",
            "P@5: 0.0976 [random: 0.0001]\n"
          ],
          "name": "stdout"
        }
      ]
    },
    {
      "cell_type": "markdown",
      "metadata": {
        "id": "Zx2iLLu0oldb"
      },
      "source": [
        "### HPF"
      ]
    },
    {
      "cell_type": "code",
      "metadata": {
        "colab": {
          "base_uri": "https://localhost:8080/"
        },
        "id": "WOmJ_M3soVwu",
        "outputId": "67b5de3b-5aa9-4230-a17f-46e261263b2b"
      },
      "source": [
        "hpf = HPF(k=5, verbose=False, use_float=False).fit(Xcoo)\n",
        "\n",
        "print_ranking_metrics(hpf.Theta, hpf.Beta,\n",
        "                      df_train, df_test, users_test)"
      ],
      "execution_count": 100,
      "outputs": [
        {
          "output_type": "stream",
          "text": [
            "AUC: 0.9686 [random: 0.50]\n",
            "P@5: 0.1086 [random: 0.0001]\n"
          ],
          "name": "stdout"
        }
      ]
    }
  ]
}