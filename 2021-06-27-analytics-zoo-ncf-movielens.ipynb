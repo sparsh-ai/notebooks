{
  "nbformat": 4,
  "nbformat_minor": 0,
  "metadata": {
    "colab": {
      "name": "2021-06-27-analytics-zoo-ncf-movielens.ipynb",
      "provenance": [],
      "collapsed_sections": [],
      "toc_visible": true,
      "authorship_tag": "ABX9TyMaJVQP5DiI+UgE9DsX8cGJ"
    },
    "kernelspec": {
      "name": "python3",
      "display_name": "Python 3"
    },
    "language_info": {
      "name": "python"
    }
  },
  "cells": [
    {
      "cell_type": "markdown",
      "metadata": {
        "id": "vWAyqrazbVkU"
      },
      "source": [
        "# Analytics Zoo Recommendation Part 1\n",
        "> Applying NCF on Movielens using Analytics Zoo library\n",
        "\n",
        "- toc: true\n",
        "- badges: true\n",
        "- comments: true\n",
        "- categories: [Movie, BigData, PySpark, AnalyticsZoo, NCF]\n",
        "- author: \"<a href='https://nbviewer.jupyter.org/github/intel-analytics/analytics-zoo/blob/master/apps/recommendation-ncf/ncf-explicit-feedback.ipynb'>Analytics Zoo</a>\"\n",
        "- image:"
      ]
    },
    {
      "cell_type": "markdown",
      "metadata": {
        "id": "5tJLYN9yYJxO"
      },
      "source": [
        "## Introduction"
      ]
    },
    {
      "cell_type": "markdown",
      "metadata": {
        "id": "f4e-a8D8YSXJ"
      },
      "source": [
        "NCF Recommender with Explict Feedback\n",
        "\n",
        "In this notebook we demostrate how to build a neural network recommendation system, Neural Collaborative Filtering(NCF) with explict feedback. We use Recommender API in Analytics Zoo to build a model, and use optimizer of BigDL to train the model. \n",
        "\n",
        "The system ([Recommendation systems: Principles, methods and evaluation](http://www.sciencedirect.com/science/article/pii/S1110866515000341)) normally prompts the user through the system interface to provide ratings for items in order to construct and improve the model. The accuracy of recommendation depends on the quantity of ratings provided by the user.  \n",
        "\n",
        "NCF([He, 2015](https://www.comp.nus.edu.sg/~xiangnan/papers/ncf.pdf)) leverages a multi-layer perceptrons to learn the user–item interaction function, at the mean time, NCF can express and generalize matrix factorization under its framework. includeMF(Boolean) is provided for users to build a NCF with or without matrix factorization. \n",
        "\n",
        "Data: \n",
        "* The dataset we used is movielens-1M ([link](https://grouplens.org/datasets/movielens/1m/)), which contains 1 million ratings from 6000 users on 4000 movies.  There're 5 levels of rating. We will try classify each (user,movie) pair into 5 classes and evaluate the effect of algortithms using Mean Absolute Error.  \n",
        "  \n",
        "References: \n",
        "* A Keras implementation of Movie Recommendation([notebook](https://github.com/ririw/ririw.github.io/blob/master/assets/Recommending%20movies.ipynb)) from the [blog](http://blog.richardweiss.org/2016/09/25/movie-embeddings.html).\n",
        "* Nerual Collaborative filtering ([He, 2015](https://www.comp.nus.edu.sg/~xiangnan/papers/ncf.pdf))\n",
        "\n",
        "Python interface:\n",
        "\n",
        "```python\n",
        "ncf = NeuralCF(user_count, item_count, class_num, user_embed=20, item_embed=20, hidden_layers=(40, 20, 10), include_mf=True, mf_embed=20)\n",
        "```\n",
        "\n",
        "- `user_count`: The number of users. Positive int.\n",
        "- `item_count`: The number of classes. Positive int.\n",
        "- `class_num`: The number of classes. Positive int.\n",
        "- `user_embed`: Units of user embedding. Positive int. Default is 20.\n",
        "- `item_embed`: itemEmbed Units of item embedding. Positive int. Default is 20.\n",
        "- `hidden_layers`: Units of hidden layers for MLP. Tuple of positive int. Default is (40, 20, 10).\n",
        "- `include_mf`: Whether to include Matrix Factorization. Boolean. Default is True.\n",
        "- `mf_embed`: Units of matrix factorization embedding. Positive int. Default is 20."
      ]
    },
    {
      "cell_type": "markdown",
      "metadata": {
        "id": "IPqTsm9pSckt"
      },
      "source": [
        "## Installation"
      ]
    },
    {
      "cell_type": "markdown",
      "metadata": {
        "id": "u5UkOC-3SuwP"
      },
      "source": [
        "### Install Java 8"
      ]
    },
    {
      "cell_type": "markdown",
      "metadata": {
        "id": "nY8_OcwpSyha"
      },
      "source": [
        "Run the command on the colaboratory file to install jdk 1.8"
      ]
    },
    {
      "cell_type": "code",
      "metadata": {
        "colab": {
          "base_uri": "https://localhost:8080/"
        },
        "id": "8oH5g_58SScM",
        "outputId": "37ff9435-54d8-4846-f6b4-3ee62f6def22"
      },
      "source": [
        "# Install jdk8\n",
        "!apt-get install openjdk-8-jdk-headless -qq > /dev/null\n",
        "# Set jdk environment path which enables you to run Pyspark in your Colab environment.\n",
        "import os\n",
        "os.environ[\"JAVA_HOME\"] = \"/usr/lib/jvm/java-8-openjdk-amd64\"\n",
        "!update-alternatives --set java /usr/lib/jvm/java-8-openjdk-amd64/jre/bin/java"
      ],
      "execution_count": 1,
      "outputs": [
        {
          "output_type": "stream",
          "text": [
            "update-alternatives: using /usr/lib/jvm/java-8-openjdk-amd64/jre/bin/java to provide /usr/bin/java (java) in manual mode\n"
          ],
          "name": "stdout"
        }
      ]
    },
    {
      "cell_type": "markdown",
      "metadata": {
        "id": "zPqef37WS2r-"
      },
      "source": [
        "### Install Analytics Zoo from pip"
      ]
    },
    {
      "cell_type": "markdown",
      "metadata": {
        "id": "Mo4najsbS5RX"
      },
      "source": [
        "You can add the following command on your colab file to install the analytics-zoo via pip easily:"
      ]
    },
    {
      "cell_type": "code",
      "metadata": {
        "colab": {
          "base_uri": "https://localhost:8080/"
        },
        "id": "RtHKGTcSS1cD",
        "outputId": "262ef946-24f1-419e-9fd8-b9276f29b3d9"
      },
      "source": [
        "# Install latest release version of analytics-zoo \n",
        "# Installing analytics-zoo from pip will automatically install pyspark, bigdl, and their dependencies.\n",
        "!pip install analytics-zoo"
      ],
      "execution_count": 2,
      "outputs": [
        {
          "output_type": "stream",
          "text": [
            "Collecting analytics-zoo\n",
            "\u001b[?25l  Downloading https://files.pythonhosted.org/packages/49/32/2fe969c682b8683fb3792f06107fe8ac56f165e307d327756c506aa76d31/analytics_zoo-0.10.0-py2.py3-none-manylinux1_x86_64.whl (158.9MB)\n",
            "\u001b[K     |████████████████████████████████| 158.9MB 44kB/s \n",
            "\u001b[?25hCollecting bigdl==0.12.2\n",
            "\u001b[?25l  Downloading https://files.pythonhosted.org/packages/1a/40/81fed203a633536dbb83454f1a102ebde86214f576572769290afb9427c9/BigDL-0.12.2-py2.py3-none-manylinux1_x86_64.whl (114.1MB)\n",
            "\u001b[K     |████████████████████████████████| 114.1MB 78kB/s \n",
            "\u001b[?25hCollecting conda-pack==0.3.1\n",
            "  Downloading https://files.pythonhosted.org/packages/e9/e7/d942780c4281a665f34dbfffc1cd1517c5843fb478c133a1e1fa0df30cd6/conda_pack-0.3.1-py2.py3-none-any.whl\n",
            "Collecting pyspark==2.4.3\n",
            "\u001b[?25l  Downloading https://files.pythonhosted.org/packages/37/98/244399c0daa7894cdf387e7007d5e8b3710a79b67f3fd991c0b0b644822d/pyspark-2.4.3.tar.gz (215.6MB)\n",
            "\u001b[K     |████████████████████████████████| 215.6MB 63kB/s \n",
            "\u001b[?25hRequirement already satisfied: numpy>=1.7 in /usr/local/lib/python3.7/dist-packages (from bigdl==0.12.2->analytics-zoo) (1.19.5)\n",
            "Requirement already satisfied: six>=1.10.0 in /usr/local/lib/python3.7/dist-packages (from bigdl==0.12.2->analytics-zoo) (1.15.0)\n",
            "Requirement already satisfied: setuptools in /usr/local/lib/python3.7/dist-packages (from conda-pack==0.3.1->analytics-zoo) (57.0.0)\n",
            "Collecting py4j==0.10.7\n",
            "\u001b[?25l  Downloading https://files.pythonhosted.org/packages/e3/53/c737818eb9a7dc32a7cd4f1396e787bd94200c3997c72c1dbe028587bd76/py4j-0.10.7-py2.py3-none-any.whl (197kB)\n",
            "\u001b[K     |████████████████████████████████| 204kB 37.1MB/s \n",
            "\u001b[?25hBuilding wheels for collected packages: pyspark\n",
            "  Building wheel for pyspark (setup.py) ... \u001b[?25l\u001b[?25hdone\n",
            "  Created wheel for pyspark: filename=pyspark-2.4.3-py2.py3-none-any.whl size=215964968 sha256=f00edffc8d08d9fa648fa23ecd0f5e6877c59541ad212b7e8720efc22cf5c0f3\n",
            "  Stored in directory: /root/.cache/pip/wheels/8d/20/f0/b30e2024226dc112e256930dd2cd4f06d00ab053c86278dcf3\n",
            "Successfully built pyspark\n",
            "Installing collected packages: py4j, pyspark, bigdl, conda-pack, analytics-zoo\n",
            "Successfully installed analytics-zoo-0.10.0 bigdl-0.12.2 conda-pack-0.3.1 py4j-0.10.7 pyspark-2.4.3\n"
          ],
          "name": "stdout"
        }
      ]
    },
    {
      "cell_type": "markdown",
      "metadata": {
        "id": "M8KiG7WhTAPa"
      },
      "source": [
        "### Initialize context"
      ]
    },
    {
      "cell_type": "markdown",
      "metadata": {
        "id": "ZWWxCdrkTCqY"
      },
      "source": [
        "Call init_nncontext() that will create a SparkContext with optimized performance configurations."
      ]
    },
    {
      "cell_type": "code",
      "metadata": {
        "colab": {
          "base_uri": "https://localhost:8080/"
        },
        "id": "Wy6CnH-8S81r",
        "outputId": "b36c7b07-c603-4619-d32c-16c27724ed05"
      },
      "source": [
        "from zoo.common.nncontext import*\n",
        "\n",
        "sc = init_nncontext()"
      ],
      "execution_count": 3,
      "outputs": [
        {
          "output_type": "stream",
          "text": [
            "Prepending /usr/local/lib/python3.7/dist-packages/bigdl/share/conf/spark-bigdl.conf to sys.path\n",
            "Adding /usr/local/lib/python3.7/dist-packages/zoo/share/lib/analytics-zoo-bigdl_0.12.2-spark_2.4.3-0.10.0-jar-with-dependencies.jar to BIGDL_JARS\n",
            "Prepending /usr/local/lib/python3.7/dist-packages/zoo/share/conf/spark-analytics-zoo.conf to sys.path\n",
            "pyspark_submit_args is:  --driver-class-path /usr/local/lib/python3.7/dist-packages/zoo/share/lib/analytics-zoo-bigdl_0.12.2-spark_2.4.3-0.10.0-jar-with-dependencies.jar:/usr/local/lib/python3.7/dist-packages/bigdl/share/lib/bigdl-0.12.2-jar-with-dependencies.jar pyspark-shell \n"
          ],
          "name": "stdout"
        }
      ]
    },
    {
      "cell_type": "markdown",
      "metadata": {
        "id": "nLQymd-_TbKx"
      },
      "source": [
        "Analytics Zoo provides three Recommenders, including Wide and Deep (WND) model, Neural network-based Collaborative Filtering (NCF) model and Session Recommender model. Easy-to-use Keras-Style defined models which provides compile and fit methods for training. Alternatively, they could be fed into NNFrames or BigDL Optimizer.\n",
        "\n",
        "WND and NCF recommenders can handle either explict or implicit feedback, given corresponding features."
      ]
    },
    {
      "cell_type": "markdown",
      "metadata": {
        "id": "_KTBMy52T5he"
      },
      "source": [
        "## Imports"
      ]
    },
    {
      "cell_type": "code",
      "metadata": {
        "colab": {
          "base_uri": "https://localhost:8080/"
        },
        "id": "nsib3Wg_T7E5",
        "outputId": "0e1481ac-014e-45a1-ec48-1156aae11038"
      },
      "source": [
        "from zoo.pipeline.api.keras.layers import *\n",
        "from zoo.models.recommendation import UserItemFeature\n",
        "from zoo.models.recommendation import NeuralCF\n",
        "from zoo.common.nncontext import init_nncontext\n",
        "import matplotlib\n",
        "from sklearn import metrics\n",
        "from operator import itemgetter\n",
        "from bigdl.util.common import *\n",
        "\n",
        "import os\n",
        "import numpy as np\n",
        "\n",
        "matplotlib.use('agg')\n",
        "import matplotlib.pyplot as plt\n",
        "%pylab inline"
      ],
      "execution_count": 7,
      "outputs": [
        {
          "output_type": "stream",
          "text": [
            "Populating the interactive namespace from numpy and matplotlib\n"
          ],
          "name": "stdout"
        }
      ]
    },
    {
      "cell_type": "markdown",
      "metadata": {
        "id": "Cl6H99sBTgOt"
      },
      "source": [
        "## Download movielens dataset"
      ]
    },
    {
      "cell_type": "code",
      "metadata": {
        "colab": {
          "base_uri": "https://localhost:8080/"
        },
        "id": "wkKAeEORTPZ_",
        "outputId": "37526f44-10ec-4969-f223-9da3f3236fa6"
      },
      "source": [
        "!wget http://files.grouplens.org/datasets/movielens/ml-1m.zip\n",
        "!unzip ml-1m.zip"
      ],
      "execution_count": 4,
      "outputs": [
        {
          "output_type": "stream",
          "text": [
            "--2021-06-27 11:51:34--  http://files.grouplens.org/datasets/movielens/ml-1m.zip\n",
            "Resolving files.grouplens.org (files.grouplens.org)... 128.101.65.152\n",
            "Connecting to files.grouplens.org (files.grouplens.org)|128.101.65.152|:80... connected.\n",
            "HTTP request sent, awaiting response... 200 OK\n",
            "Length: 5917549 (5.6M) [application/zip]\n",
            "Saving to: ‘ml-1m.zip’\n",
            "\n",
            "ml-1m.zip           100%[===================>]   5.64M  29.8MB/s    in 0.2s    \n",
            "\n",
            "2021-06-27 11:51:35 (29.8 MB/s) - ‘ml-1m.zip’ saved [5917549/5917549]\n",
            "\n",
            "Archive:  ml-1m.zip\n",
            "   creating: ml-1m/\n",
            "  inflating: ml-1m/movies.dat        \n",
            "  inflating: ml-1m/ratings.dat       \n",
            "  inflating: ml-1m/README            \n",
            "  inflating: ml-1m/users.dat         \n"
          ],
          "name": "stdout"
        }
      ]
    },
    {
      "cell_type": "markdown",
      "metadata": {
        "id": "cizJHBZhVV15"
      },
      "source": [
        "## Read the dataset"
      ]
    },
    {
      "cell_type": "code",
      "metadata": {
        "id": "vT8aZM0BT2oi"
      },
      "source": [
        "def read_data_sets(data_dir):\n",
        "  rating_files = os.path.join(data_dir,\"ratings.dat\")\n",
        "  rating_list = [i.strip().split(\"::\") for i in open(rating_files,\"r\").readlines()]    \n",
        "  movielens_data = np.array(rating_list).astype(int)\n",
        "  return movielens_data \n",
        "\n",
        "def get_id_pairs(data_dir):\n",
        "\tmovielens_data = read_data_sets(data_dir)\n",
        "\treturn movielens_data[:, 0:2]\n",
        "\n",
        "def get_id_ratings(data_dir):\n",
        "\tmovielens_data = read_data_sets(data_dir)\n",
        "\treturn movielens_data[:, 0:3]"
      ],
      "execution_count": 10,
      "outputs": []
    },
    {
      "cell_type": "code",
      "metadata": {
        "id": "7n6vQz-3VR4I"
      },
      "source": [
        "movielens_data = get_id_ratings(\"/content/ml-1m\")"
      ],
      "execution_count": null,
      "outputs": []
    },
    {
      "cell_type": "markdown",
      "metadata": {
        "id": "GCRIqd0hV2-5"
      },
      "source": [
        "## Understand the data"
      ]
    },
    {
      "cell_type": "code",
      "metadata": {
        "colab": {
          "base_uri": "https://localhost:8080/"
        },
        "id": "nY3Bbk1xV8wL",
        "outputId": "45879150-5873-4857-e06c-313fcdebd89b"
      },
      "source": [
        "min_user_id = np.min(movielens_data[:,0])\n",
        "max_user_id = np.max(movielens_data[:,0])\n",
        "min_movie_id = np.min(movielens_data[:,1])\n",
        "max_movie_id = np.max(movielens_data[:,1])\n",
        "rating_labels= np.unique(movielens_data[:,2])\n",
        "\n",
        "print(movielens_data.shape)\n",
        "print(min_user_id, max_user_id, min_movie_id, max_movie_id, rating_labels)"
      ],
      "execution_count": 13,
      "outputs": [
        {
          "output_type": "stream",
          "text": [
            "(1000209, 3)\n",
            "1 6040 1 3952 [1 2 3 4 5]\n"
          ],
          "name": "stdout"
        }
      ]
    },
    {
      "cell_type": "markdown",
      "metadata": {
        "id": "Vrs_dyQcVz8z"
      },
      "source": [
        "Each record is in format of (userid, movieid, rating_score). UserIDs range between 1 and 6040. MovieIDs range between 1 and 3952. Ratings are made on a 5-star scale (whole-star ratings only). Counts of users and movies are recorded for later use."
      ]
    },
    {
      "cell_type": "markdown",
      "metadata": {
        "id": "O-Ks_RL2WMT7"
      },
      "source": [
        "## Transformation"
      ]
    },
    {
      "cell_type": "markdown",
      "metadata": {
        "id": "cnUhH-ksWOxh"
      },
      "source": [
        "Transform original data into RDD of sample. We use optimizer of BigDL directly to train the model, it requires data to be provided in format of RDD(Sample). A Sample is a BigDL data structure which can be constructed using 2 numpy arrays, feature and label respectively. The API interface is Sample.from_ndarray(feature, label) Here, labels are tranformed into zero-based since original labels start from 1."
      ]
    },
    {
      "cell_type": "code",
      "metadata": {
        "id": "gmD0lS0eVnK7"
      },
      "source": [
        "def build_sample(user_id, item_id, rating):\n",
        "    sample = Sample.from_ndarray(np.array([user_id, item_id]), np.array([rating]))\n",
        "    return UserItemFeature(user_id, item_id, sample)"
      ],
      "execution_count": 14,
      "outputs": []
    },
    {
      "cell_type": "code",
      "metadata": {
        "colab": {
          "base_uri": "https://localhost:8080/"
        },
        "id": "BcwsB2SsWVBZ",
        "outputId": "e7a3f1f0-174a-4392-816d-6d5f9e4d6d17"
      },
      "source": [
        "pairFeatureRdds = sc.parallelize(movielens_data).map(lambda x: build_sample(x[0], x[1], x[2]-1))\n",
        "pairFeatureRdds.take(3)"
      ],
      "execution_count": 15,
      "outputs": [
        {
          "output_type": "execute_result",
          "data": {
            "text/plain": [
              "[<zoo.models.recommendation.recommender.UserItemFeature at 0x7fde70f09910>,\n",
              " <zoo.models.recommendation.recommender.UserItemFeature at 0x7fde70d792d0>,\n",
              " <zoo.models.recommendation.recommender.UserItemFeature at 0x7fde55409e10>]"
            ]
          },
          "metadata": {
            "tags": []
          },
          "execution_count": 15
        }
      ]
    },
    {
      "cell_type": "markdown",
      "metadata": {
        "id": "wfqh_7FsWkrw"
      },
      "source": [
        "## Split"
      ]
    },
    {
      "cell_type": "markdown",
      "metadata": {
        "id": "qw37Flz4Wm0F"
      },
      "source": [
        "Randomly split the data into train (80%) and validation (20%)"
      ]
    },
    {
      "cell_type": "code",
      "metadata": {
        "colab": {
          "base_uri": "https://localhost:8080/"
        },
        "id": "plRhKQ0BWdD5",
        "outputId": "1629568b-f74c-4a67-cb88-774a265963a6"
      },
      "source": [
        "trainPairFeatureRdds, valPairFeatureRdds = pairFeatureRdds.randomSplit([0.8, 0.2], seed= 1)\n",
        "valPairFeatureRdds.cache()\n",
        "\n",
        "train_rdd= trainPairFeatureRdds.map(lambda pair_feature: pair_feature.sample)\n",
        "val_rdd= valPairFeatureRdds.map(lambda pair_feature: pair_feature.sample)\n",
        "val_rdd.persist()"
      ],
      "execution_count": 16,
      "outputs": [
        {
          "output_type": "execute_result",
          "data": {
            "text/plain": [
              "PythonRDD[3] at RDD at PythonRDD.scala:53"
            ]
          },
          "metadata": {
            "tags": []
          },
          "execution_count": 16
        }
      ]
    },
    {
      "cell_type": "code",
      "metadata": {
        "colab": {
          "base_uri": "https://localhost:8080/"
        },
        "id": "PCWetBlaWuyb",
        "outputId": "bcaeaa9c-ef6e-4169-8eb1-6ea542a88e0f"
      },
      "source": [
        "train_rdd.count()"
      ],
      "execution_count": 17,
      "outputs": [
        {
          "output_type": "execute_result",
          "data": {
            "text/plain": [
              "800491"
            ]
          },
          "metadata": {
            "tags": []
          },
          "execution_count": 17
        }
      ]
    },
    {
      "cell_type": "code",
      "metadata": {
        "colab": {
          "base_uri": "https://localhost:8080/"
        },
        "id": "czo63lHuW2DB",
        "outputId": "655ac868-afc6-4dc1-bf94-92bb3feda2d4"
      },
      "source": [
        "train_rdd.take(3)"
      ],
      "execution_count": 18,
      "outputs": [
        {
          "output_type": "execute_result",
          "data": {
            "text/plain": [
              "[Sample: features: [JTensor: storage: [1.000e+00 1.193e+03], shape: [2], float], labels: [JTensor: storage: [4.], shape: [1], float],\n",
              " Sample: features: [JTensor: storage: [  1. 914.], shape: [2], float], labels: [JTensor: storage: [2.], shape: [1], float],\n",
              " Sample: features: [JTensor: storage: [1.000e+00 3.408e+03], shape: [2], float], labels: [JTensor: storage: [3.], shape: [1], float]]"
            ]
          },
          "metadata": {
            "tags": []
          },
          "execution_count": 18
        }
      ]
    },
    {
      "cell_type": "markdown",
      "metadata": {
        "id": "KnONxSMsXARF"
      },
      "source": [
        "## Build model"
      ]
    },
    {
      "cell_type": "markdown",
      "metadata": {
        "id": "IhpOgCvFXG2e"
      },
      "source": [
        "In Analytics Zoo, it is simple to build NCF model by calling NeuralCF API. You need specify the user count, item count and class number according to your data, then add hidden layers as needed, you can also choose to include matrix factorization in the network. The model could be fed into an Optimizer of BigDL or NNClassifier of analytics-zoo. Please refer to the document for more details. In this example, we demostrate how to use optimizer of BigDL."
      ]
    },
    {
      "cell_type": "code",
      "metadata": {
        "colab": {
          "base_uri": "https://localhost:8080/"
        },
        "id": "4xMI7FZqW3zv",
        "outputId": "29be18e7-4be2-4ef4-8cdf-8dd642716e33"
      },
      "source": [
        "ncf = NeuralCF(user_count=max_user_id, \n",
        "               item_count=max_movie_id, \n",
        "               class_num=5, \n",
        "               hidden_layers=[20, 10], \n",
        "               include_mf = False)"
      ],
      "execution_count": 19,
      "outputs": [
        {
          "output_type": "stream",
          "text": [
            "creating: createZooKerasInput\n",
            "creating: createZooKerasFlatten\n",
            "creating: createZooKerasSelect\n",
            "creating: createZooKerasFlatten\n",
            "creating: createZooKerasSelect\n",
            "creating: createZooKerasEmbedding\n",
            "creating: createZooKerasEmbedding\n",
            "creating: createZooKerasFlatten\n",
            "creating: createZooKerasFlatten\n",
            "creating: createZooKerasMerge\n",
            "creating: createZooKerasDense\n",
            "creating: createZooKerasDense\n",
            "creating: createZooKerasDense\n",
            "creating: createZooKerasModel\n",
            "creating: createZooNeuralCF\n"
          ],
          "name": "stdout"
        }
      ]
    },
    {
      "cell_type": "markdown",
      "metadata": {
        "id": "BVfHXNF2XMLp"
      },
      "source": [
        "## Compile model"
      ]
    },
    {
      "cell_type": "markdown",
      "metadata": {
        "id": "R_Xgwv_MXUUI"
      },
      "source": [
        "Compile model given specific optimizers, loss, as well as metrics for evaluation. Optimizer tries to minimize the loss of the neural net with respect to its weights/biases, over the training set. To create an Optimizer in BigDL, you want to at least specify arguments: model(a neural network model), criterion(the loss function), traing_rdd(training dataset) and batch size. Please refer to [ProgrammingGuide](https://bigdl-project.github.io/master/#ProgrammingGuide/optimization/) and [Optimizer](https://bigdl-project.github.io/master/#APIGuide/Optimizers/Optimizer/) for more details to create efficient optimizers."
      ]
    },
    {
      "cell_type": "code",
      "metadata": {
        "colab": {
          "base_uri": "https://localhost:8080/"
        },
        "id": "EpiU9RG_XKKM",
        "outputId": "7fbae0d6-4c77-437e-bfde-a2597a0d0655"
      },
      "source": [
        "ncf.compile(optimizer= \"adam\",\n",
        "            loss= \"sparse_categorical_crossentropy\",\n",
        "            metrics=['accuracy'])"
      ],
      "execution_count": 20,
      "outputs": [
        {
          "output_type": "stream",
          "text": [
            "creating: createAdam\n",
            "creating: createZooKerasSparseCategoricalCrossEntropy\n",
            "creating: createZooKerasSparseCategoricalAccuracy\n"
          ],
          "name": "stdout"
        }
      ]
    },
    {
      "cell_type": "markdown",
      "metadata": {
        "id": "pOvfFZP3Xk0r"
      },
      "source": [
        "## Collect logs"
      ]
    },
    {
      "cell_type": "markdown",
      "metadata": {
        "id": "ult1tu6QXnaX"
      },
      "source": [
        "You can leverage tensorboard to see the summaries."
      ]
    },
    {
      "cell_type": "code",
      "metadata": {
        "id": "E44IwOlzXjYW"
      },
      "source": [
        "tmp_log_dir = create_tmp_path()\n",
        "ncf.set_tensorboard(tmp_log_dir, \"training_ncf\")"
      ],
      "execution_count": 21,
      "outputs": []
    },
    {
      "cell_type": "markdown",
      "metadata": {
        "id": "IKipPFhsXqxS"
      },
      "source": [
        "## Train the model"
      ]
    },
    {
      "cell_type": "code",
      "metadata": {
        "id": "4IHzRgUyXpu8"
      },
      "source": [
        "ncf.fit(train_rdd, \n",
        "        nb_epoch= 10, \n",
        "        batch_size= 8000, \n",
        "        validation_data=val_rdd)"
      ],
      "execution_count": 22,
      "outputs": []
    },
    {
      "cell_type": "markdown",
      "metadata": {
        "id": "YLj6L9JPXxri"
      },
      "source": [
        "## Prediction"
      ]
    },
    {
      "cell_type": "markdown",
      "metadata": {
        "id": "uzDas0oIX11i"
      },
      "source": [
        "Zoo models make inferences based on the given data using model.predict(val_rdd) API. A result of RDD is returned. predict_class returns the predicted label."
      ]
    },
    {
      "cell_type": "code",
      "metadata": {
        "colab": {
          "base_uri": "https://localhost:8080/"
        },
        "id": "gUkaK6TUXuDJ",
        "outputId": "d2698771-6f5f-411c-f784-5f832806f570"
      },
      "source": [
        "results = ncf.predict(val_rdd)\n",
        "results.take(5)"
      ],
      "execution_count": 23,
      "outputs": [
        {
          "output_type": "execute_result",
          "data": {
            "text/plain": [
              "[array([0.00806034, 0.02006759, 0.18866627, 0.63047034, 0.15273541],\n",
              "       dtype=float32),\n",
              " array([0.00254512, 0.00567304, 0.06865695, 0.46720853, 0.4559163 ],\n",
              "       dtype=float32),\n",
              " array([0.00535633, 0.02252354, 0.12654975, 0.4168996 , 0.42867082],\n",
              "       dtype=float32),\n",
              " array([0.00396674, 0.01450644, 0.12073953, 0.60501534, 0.255772  ],\n",
              "       dtype=float32),\n",
              " array([0.00394357, 0.01327773, 0.14935595, 0.6658978 , 0.16752498],\n",
              "       dtype=float32)]"
            ]
          },
          "metadata": {
            "tags": []
          },
          "execution_count": 23
        }
      ]
    },
    {
      "cell_type": "code",
      "metadata": {
        "colab": {
          "base_uri": "https://localhost:8080/"
        },
        "id": "aLhHUm7sZm1Y",
        "outputId": "f85dcae9-e6eb-46b7-e748-27b031bff564"
      },
      "source": [
        "results_class = ncf.predict_class(val_rdd)\n",
        "results_class.take(5)"
      ],
      "execution_count": 24,
      "outputs": [
        {
          "output_type": "execute_result",
          "data": {
            "text/plain": [
              "[4, 4, 5, 4, 4]"
            ]
          },
          "metadata": {
            "tags": []
          },
          "execution_count": 24
        }
      ]
    },
    {
      "cell_type": "markdown",
      "metadata": {
        "id": "WqOfNL7gZrG6"
      },
      "source": [
        "In Analytics Zoo, Recommender has provied 3 unique APIs to predict user-item pairs and make recommendations for users or items given candidates."
      ]
    },
    {
      "cell_type": "markdown",
      "metadata": {
        "id": "9ffsw5z7aBlO"
      },
      "source": [
        "### Predict for user item pairs"
      ]
    },
    {
      "cell_type": "code",
      "metadata": {
        "colab": {
          "base_uri": "https://localhost:8080/"
        },
        "id": "NXHMNrSsZnOD",
        "outputId": "6115e527-45ab-4a7b-f145-83f37839cda4"
      },
      "source": [
        "userItemPairPrediction = ncf.predict_user_item_pair(valPairFeatureRdds)\n",
        "for result in userItemPairPrediction.take(5): print(result)"
      ],
      "execution_count": 25,
      "outputs": [
        {
          "output_type": "stream",
          "text": [
            "UserItemPrediction [user_id: 1, item_id: 661, prediction: 4, probability: 0.630470335483551]\n",
            "UserItemPrediction [user_id: 1, item_id: 2804, prediction: 4, probability: 0.46720853447914124]\n",
            "UserItemPrediction [user_id: 1, item_id: 1035, prediction: 5, probability: 0.42867082357406616]\n",
            "UserItemPrediction [user_id: 1, item_id: 2687, prediction: 4, probability: 0.6050153374671936]\n",
            "UserItemPrediction [user_id: 1, item_id: 2321, prediction: 4, probability: 0.665897786617279]\n"
          ],
          "name": "stdout"
        }
      ]
    },
    {
      "cell_type": "markdown",
      "metadata": {
        "id": "SCgDNVQaZ-mJ"
      },
      "source": [
        "### Recommend 3 items for each user given candidates in the feature RDDs"
      ]
    },
    {
      "cell_type": "code",
      "metadata": {
        "colab": {
          "base_uri": "https://localhost:8080/"
        },
        "id": "W2uMAeiOZ5RJ",
        "outputId": "7a558bf0-9d57-4922-a487-d1fe67c4f3a0"
      },
      "source": [
        "userRecs = ncf.recommend_for_user(valPairFeatureRdds, 3)\n",
        "for result in userRecs.take(5): print(result)"
      ],
      "execution_count": 26,
      "outputs": [
        {
          "output_type": "stream",
          "text": [
            "UserItemPrediction [user_id: 4904, item_id: 750, prediction: 5, probability: 0.8882462382316589]\n",
            "UserItemPrediction [user_id: 4904, item_id: 1198, prediction: 5, probability: 0.8594017028808594]\n",
            "UserItemPrediction [user_id: 4904, item_id: 912, prediction: 5, probability: 0.8534067869186401]\n",
            "UserItemPrediction [user_id: 1084, item_id: 50, prediction: 5, probability: 0.7139193415641785]\n",
            "UserItemPrediction [user_id: 1084, item_id: 2324, prediction: 5, probability: 0.6326656937599182]\n"
          ],
          "name": "stdout"
        }
      ]
    },
    {
      "cell_type": "markdown",
      "metadata": {
        "id": "kOHBbcDAaH8K"
      },
      "source": [
        "### Recommend 3 users for each item given candidates in the feature RDDs"
      ]
    },
    {
      "cell_type": "code",
      "metadata": {
        "colab": {
          "base_uri": "https://localhost:8080/"
        },
        "id": "CLp29k3kaHB-",
        "outputId": "ba1442fc-6485-4871-952a-e4c6195f1855"
      },
      "source": [
        "itemRecs = ncf.recommend_for_item(valPairFeatureRdds, 3)\n",
        "for result in itemRecs.take(5): print(result)"
      ],
      "execution_count": 27,
      "outputs": [
        {
          "output_type": "stream",
          "text": [
            "UserItemPrediction [user_id: 2909, item_id: 384, prediction: 4, probability: 0.40346845984458923]\n",
            "UserItemPrediction [user_id: 1409, item_id: 384, prediction: 3, probability: 0.4329181909561157]\n",
            "UserItemPrediction [user_id: 4789, item_id: 384, prediction: 3, probability: 0.41791829466819763]\n",
            "UserItemPrediction [user_id: 1940, item_id: 1084, prediction: 5, probability: 0.8245269060134888]\n",
            "UserItemPrediction [user_id: 2497, item_id: 1084, prediction: 5, probability: 0.7757750749588013]\n"
          ],
          "name": "stdout"
        }
      ]
    },
    {
      "cell_type": "markdown",
      "metadata": {
        "id": "FRJoSBJGaO43"
      },
      "source": [
        "## Evaluation"
      ]
    },
    {
      "cell_type": "markdown",
      "metadata": {
        "id": "t8AOXDp9aSwD"
      },
      "source": [
        "Plot the train and validation loss curves"
      ]
    },
    {
      "cell_type": "code",
      "metadata": {
        "colab": {
          "base_uri": "https://localhost:8080/",
          "height": 407
        },
        "id": "MbS3TGZbaKva",
        "outputId": "344d1ab3-415e-4c82-a2a5-3b17988ee2f5"
      },
      "source": [
        "#retrieve train and validation summary object and read the loss data into ndarray's. \n",
        "train_loss = np.array(ncf.get_train_summary(\"Loss\"))\n",
        "val_loss = np.array(ncf.get_validation_summary(\"Loss\"))\n",
        "#plot the train and validation curves\n",
        "# each event data is a tuple in form of (iteration_count, value, timestamp)\n",
        "plt.figure(figsize = (12,6))\n",
        "plt.plot(train_loss[:,0],train_loss[:,1],label='train loss')\n",
        "plt.plot(val_loss[:,0],val_loss[:,1],label='val loss',color='green')\n",
        "plt.scatter(val_loss[:,0],val_loss[:,1],color='green')\n",
        "plt.legend();\n",
        "plt.xlim(0,train_loss.shape[0]+10)\n",
        "plt.grid(True)\n",
        "plt.title(\"loss\")"
      ],
      "execution_count": 28,
      "outputs": [
        {
          "output_type": "execute_result",
          "data": {
            "text/plain": [
              "Text(0.5, 1.0, 'loss')"
            ]
          },
          "metadata": {
            "tags": []
          },
          "execution_count": 28
        },
        {
          "output_type": "display_data",
          "data": {
            "image/png": "[encoded data removed]",
            "text/plain": [
              "<Figure size 864x432 with 1 Axes>"
            ]
          },
          "metadata": {
            "tags": [],
            "needs_background": "light"
          }
        }
      ]
    },
    {
      "cell_type": "markdown",
      "metadata": {
        "id": "-Yh804RoaW8M"
      },
      "source": [
        "Plot accuracy"
      ]
    },
    {
      "cell_type": "code",
      "metadata": {
        "colab": {
          "base_uri": "https://localhost:8080/",
          "height": 390
        },
        "id": "F0JtfjEMaVLc",
        "outputId": "de3e140b-b46c-4e32-ca39-680be11f689c"
      },
      "source": [
        "plt.figure(figsize = (12,6))\n",
        "top1 = np.array(ncf.get_validation_summary(\"Top1Accuracy\"))\n",
        "plt.plot(top1[:,0],top1[:,1],label='top1')\n",
        "plt.title(\"top1 accuracy\")\n",
        "plt.grid(True)\n",
        "plt.legend();"
      ],
      "execution_count": 29,
      "outputs": [
        {
          "output_type": "display_data",
          "data": {
            "image/png": "[encoded data removed]",
            "text/plain": [
              "<Figure size 864x432 with 1 Axes>"
            ]
          },
          "metadata": {
            "tags": [],
            "needs_background": "light"
          }
        }
      ]
    }
  ]
}