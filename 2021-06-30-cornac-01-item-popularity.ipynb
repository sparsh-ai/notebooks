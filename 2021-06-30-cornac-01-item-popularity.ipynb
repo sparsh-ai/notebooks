{
  "nbformat": 4,
  "nbformat_minor": 0,
  "metadata": {
    "colab": {
      "name": "2021-06-30-cornac-01-item-popularity.ipynb",
      "provenance": [],
      "collapsed_sections": [],
      "authorship_tag": "ABX9TyPZl7LDiMuVfxaJLgAI2YW7"
    },
    "kernelspec": {
      "name": "python3",
      "display_name": "Python 3"
    },
    "language_info": {
      "name": "python"
    }
  },
  "cells": [
    {
      "cell_type": "markdown",
      "metadata": {
        "id": "xyM7qLhOvaBn"
      },
      "source": [
        "# Popularity based movie recommender\n",
        "> A simple popular movie recommender and eda on movielens-100k dataset with the help of cornac library\n",
        "\n",
        "- toc: true\n",
        "- badges: true\n",
        "- comments: true\n",
        "- categories: [Movie, Cornac]\n",
        "- author: \"<a href='https://nbviewer.jupyter.org/github/PreferredAI/tutorials/tree/master/recommender-systems/'>Cornac</a>\"\n",
        "- image:"
      ]
    },
    {
      "cell_type": "markdown",
      "metadata": {
        "id": "DIyIbFovlp07"
      },
      "source": [
        "## Setup"
      ]
    },
    {
      "cell_type": "code",
      "metadata": {
        "colab": {
          "base_uri": "https://localhost:8080/"
        },
        "id": "JaastgN_i3ry",
        "outputId": "bf29e875-2bda-4cad-d4cd-cb96860b7d3c"
      },
      "source": [
        "!pip install -q cornac==1.4.1"
      ],
      "execution_count": 1,
      "outputs": [
        {
          "output_type": "stream",
          "text": [
            "\u001b[K     |████████████████████████████████| 8.0MB 8.8MB/s \n",
            "\u001b[?25h"
          ],
          "name": "stdout"
        }
      ]
    },
    {
      "cell_type": "code",
      "metadata": {
        "colab": {
          "base_uri": "https://localhost:8080/"
        },
        "id": "zj1_hePrjSqk",
        "outputId": "6eced395-0fd0-42cc-b87d-e8d5f025bb6e"
      },
      "source": [
        "import os\n",
        "import sys\n",
        "\n",
        "import cornac\n",
        "import numpy as np\n",
        "import pandas as pd\n",
        "import matplotlib.pyplot as plt\n",
        "import seaborn as sns\n",
        "from scipy import stats, sparse\n",
        "\n",
        "%matplotlib inline\n",
        "\n",
        "print(f\"System version: {sys.version}\")\n",
        "print(f\"Cornac version: {cornac.__version__}\")"
      ],
      "execution_count": 2,
      "outputs": [
        {
          "output_type": "stream",
          "text": [
            "System version: 3.7.10 (default, May  3 2021, 02:48:31) \n",
            "[GCC 7.5.0]\n",
            "Cornac version: 1.4.1\n"
          ],
          "name": "stdout"
        }
      ]
    },
    {
      "cell_type": "markdown",
      "metadata": {
        "id": "jU6acUDBm3mz"
      },
      "source": [
        "## Movielens Data"
      ]
    },
    {
      "cell_type": "code",
      "metadata": {
        "colab": {
          "base_uri": "https://localhost:8080/",
          "height": 272
        },
        "id": "Nb26UGqJjaZ1",
        "outputId": "1d7605fe-e7f6-4021-852b-c34e9811a2ca"
      },
      "source": [
        "data = cornac.datasets.movielens.load_feedback(variant=\"100K\")\n",
        "df = pd.DataFrame(data, columns=[\"user_id\", \"item_id\", \"rating\"])\n",
        "df.head()"
      ],
      "execution_count": 3,
      "outputs": [
        {
          "output_type": "stream",
          "text": [
            "\r0.00B [00:00, ?B/s]"
          ],
          "name": "stderr"
        },
        {
          "output_type": "stream",
          "text": [
            "Data from http://files.grouplens.org/datasets/movielens/ml-100k/u.data\n",
            "will be cached into /root/.cornac/ml-100k/u.data\n"
          ],
          "name": "stdout"
        },
        {
          "output_type": "stream",
          "text": [
            "1.99MB [00:00, 2.61MB/s]                           \n"
          ],
          "name": "stderr"
        },
        {
          "output_type": "stream",
          "text": [
            "File cached!\n"
          ],
          "name": "stdout"
        },
        {
          "output_type": "execute_result",
          "data": {
            "text/html": [
              "<div>\n",
              "<style scoped>\n",
              "    .dataframe tbody tr th:only-of-type {\n",
              "        vertical-align: middle;\n",
              "    }\n",
              "\n",
              "    .dataframe tbody tr th {\n",
              "        vertical-align: top;\n",
              "    }\n",
              "\n",
              "    .dataframe thead th {\n",
              "        text-align: right;\n",
              "    }\n",
              "</style>\n",
              "<table border=\"1\" class=\"dataframe\">\n",
              "  <thead>\n",
              "    <tr style=\"text-align: right;\">\n",
              "      <th></th>\n",
              "      <th>user_id</th>\n",
              "      <th>item_id</th>\n",
              "      <th>rating</th>\n",
              "    </tr>\n",
              "  </thead>\n",
              "  <tbody>\n",
              "    <tr>\n",
              "      <th>0</th>\n",
              "      <td>196</td>\n",
              "      <td>242</td>\n",
              "      <td>3.0</td>\n",
              "    </tr>\n",
              "    <tr>\n",
              "      <th>1</th>\n",
              "      <td>186</td>\n",
              "      <td>302</td>\n",
              "      <td>3.0</td>\n",
              "    </tr>\n",
              "    <tr>\n",
              "      <th>2</th>\n",
              "      <td>22</td>\n",
              "      <td>377</td>\n",
              "      <td>1.0</td>\n",
              "    </tr>\n",
              "    <tr>\n",
              "      <th>3</th>\n",
              "      <td>244</td>\n",
              "      <td>51</td>\n",
              "      <td>2.0</td>\n",
              "    </tr>\n",
              "    <tr>\n",
              "      <th>4</th>\n",
              "      <td>166</td>\n",
              "      <td>346</td>\n",
              "      <td>1.0</td>\n",
              "    </tr>\n",
              "  </tbody>\n",
              "</table>\n",
              "</div>"
            ],
            "text/plain": [
              "  user_id item_id  rating\n",
              "0     196     242     3.0\n",
              "1     186     302     3.0\n",
              "2      22     377     1.0\n",
              "3     244      51     2.0\n",
              "4     166     346     1.0"
            ]
          },
          "metadata": {
            "tags": []
          },
          "execution_count": 3
        }
      ]
    },
    {
      "cell_type": "markdown",
      "metadata": {
        "id": "Myjwm4yOlr3U"
      },
      "source": [
        "## EDA"
      ]
    },
    {
      "cell_type": "code",
      "metadata": {
        "colab": {
          "base_uri": "https://localhost:8080/"
        },
        "id": "prPyDl_akPBd",
        "outputId": "24b7ff94-e26e-4836-ece5-542f04b08e95"
      },
      "source": [
        "n_users = df.user_id.nunique()\n",
        "n_items = df.item_id.nunique()\n",
        "n_ratings = len(df)\n",
        "rating_matrix_size = n_users * n_items\n",
        "sparsity = 1 - n_ratings / rating_matrix_size\n",
        "\n",
        "print(f\"Number of users: {n_users}\")\n",
        "print(f\"Number of items: {n_items}\")\n",
        "print(f\"Number of available ratings: {n_ratings}\")\n",
        "print(f\"Number of all possible ratings: {rating_matrix_size}\")\n",
        "print(\"-\" * 40)\n",
        "print(f\"SPARSITY: {sparsity * 100.0:.2f}%\")"
      ],
      "execution_count": 7,
      "outputs": [
        {
          "output_type": "stream",
          "text": [
            "Number of users: 943\n",
            "Number of items: 1682\n",
            "Number of available ratings: 100000\n",
            "Number of all possible ratings: 1586126\n",
            "----------------------------------------\n",
            "SPARSITY: 93.70%\n"
          ],
          "name": "stdout"
        }
      ]
    },
    {
      "cell_type": "markdown",
      "metadata": {
        "id": "PFB2XowglBUr"
      },
      "source": [
        "> Note: For this MovieLens dataset, the data has been prepared in such a way that each user has at least 20 ratings. As a result, it's relatively dense as compared to many other recommendation datasets that are usually much sparser (often 99% or more)."
      ]
    },
    {
      "cell_type": "code",
      "metadata": {
        "colab": {
          "base_uri": "https://localhost:8080/"
        },
        "id": "J0h3BpYskbe2",
        "outputId": "dc79c715-3386-4db8-d525-6e06e6aca577"
      },
      "source": [
        "df.rating.describe()"
      ],
      "execution_count": 5,
      "outputs": [
        {
          "output_type": "execute_result",
          "data": {
            "text/plain": [
              "count    100000.000000\n",
              "mean          3.529860\n",
              "std           1.125674\n",
              "min           1.000000\n",
              "25%           3.000000\n",
              "50%           4.000000\n",
              "75%           4.000000\n",
              "max           5.000000\n",
              "Name: rating, dtype: float64"
            ]
          },
          "metadata": {
            "tags": []
          },
          "execution_count": 5
        }
      ]
    },
    {
      "cell_type": "code",
      "metadata": {
        "colab": {
          "base_uri": "https://localhost:8080/",
          "height": 351
        },
        "id": "PEFekQEhkgJ3",
        "outputId": "19fe5a42-3304-4d44-ef29-f6d7ff669b9d"
      },
      "source": [
        "fig, axes = plt.subplots(nrows=1, ncols=2, figsize=(14, 5))\n",
        "sns.countplot(x=\"rating\", data=df, palette=\"ch:.25\", ax=axes[0])\n",
        "sns.boxplot(x=\"rating\", data=df, palette=\"ch:.25\", ax=axes[1])"
      ],
      "execution_count": 6,
      "outputs": [
        {
          "output_type": "execute_result",
          "data": {
            "text/plain": [
              "<matplotlib.axes._subplots.AxesSubplot at 0x7fe69b436d10>"
            ]
          },
          "metadata": {
            "tags": []
          },
          "execution_count": 6
        },
        {
          "output_type": "display_data",
          "data": {
            "image/png": "[encoded data removed]",
            "text/plain": [
              "<Figure size 1008x360 with 2 Axes>"
            ]
          },
          "metadata": {
            "tags": [],
            "needs_background": "light"
          }
        }
      ]
    },
    {
      "cell_type": "code",
      "metadata": {
        "colab": {
          "base_uri": "https://localhost:8080/",
          "height": 350
        },
        "id": "DYWZ43fSkvNj",
        "outputId": "70602415-2e27-4310-b332-2374f773d43e"
      },
      "source": [
        "fig, axes = plt.subplots(nrows=1, ncols=2, figsize=(14, 5))\n",
        "\n",
        "item_rate_count = df.groupby(\"item_id\")[\"user_id\"].nunique().sort_values(ascending=False)\n",
        "\n",
        "axes[0].bar(x=item_rate_count.index, height=item_rate_count.values, width=1.0, align=\"edge\")\n",
        "axes[0].set_xticks([])\n",
        "axes[0].set(title=\"long tail of rating frequency\", \n",
        "            xlabel=\"item ordered by decreasing frequency\", \n",
        "            ylabel=\"#ratings\")\n",
        "\n",
        "count = item_rate_count.value_counts()\n",
        "sns.scatterplot(x=np.log(count.index), y=np.log(count.values), ax=axes[1])\n",
        "axes[1].set(title=\"log-log plot\", xlabel=\"#ratings (log scale)\", ylabel=\"#items (log scale)\");"
      ],
      "execution_count": 9,
      "outputs": [
        {
          "output_type": "display_data",
          "data": {
            "image/png": "[encoded data removed]",
            "text/plain": [
              "<Figure size 1008x360 with 2 Axes>"
            ]
          },
          "metadata": {
            "tags": [],
            "needs_background": "light"
          }
        }
      ]
    },
    {
      "cell_type": "markdown",
      "metadata": {
        "id": "W5R5FnFBltdk"
      },
      "source": [
        "## Recommendation Based on Item Popularity"
      ]
    },
    {
      "cell_type": "code",
      "metadata": {
        "colab": {
          "base_uri": "https://localhost:8080/"
        },
        "id": "QtLW0z5flccx",
        "outputId": "de49d19f-f802-4ec5-8339-ba422d483bbe"
      },
      "source": [
        "# 5-fold cross validation\n",
        "eval_method = cornac.eval_methods.CrossValidation(data, n_folds=5, seed=42)\n",
        "\n",
        "# recommender system based on item popularity\n",
        "most_pop = cornac.models.MostPop()\n",
        "\n",
        "# recall@20 metric\n",
        "rec_20 = cornac.metrics.Recall(k=20)\n",
        "\n",
        "# put everything together into an experiment\n",
        "cornac.Experiment(eval_method=eval_method, models=[most_pop], metrics=[rec_20]).run()"
      ],
      "execution_count": 10,
      "outputs": [
        {
          "output_type": "stream",
          "text": [
            "\n",
            "TEST:\n",
            "...\n",
            "[MostPop]\n",
            "       | Recall@20 | Train (s) | Test (s)\n",
            "------ + --------- + --------- + --------\n",
            "Fold 0 |    0.1263 |    0.0107 |   0.4143\n",
            "Fold 1 |    0.1304 |    0.0052 |   0.4032\n",
            "Fold 2 |    0.1337 |    0.0053 |   0.4024\n",
            "Fold 3 |    0.1252 |    0.0137 |   0.4291\n",
            "Fold 4 |    0.1187 |    0.0053 |   0.3992\n",
            "------ + --------- + --------- + --------\n",
            "Mean   |    0.1269 |    0.0080 |   0.4096\n",
            "Std    |    0.0051 |    0.0035 |   0.0110\n",
            "\n"
          ],
          "name": "stdout"
        }
      ]
    }
  ]
}