{
  "nbformat": 4,
  "nbformat_minor": 0,
  "metadata": {
    "kernelspec": {
      "display_name": "Python 2",
      "language": "python",
      "name": "python2"
    },
    "language_info": {
      "codemirror_mode": {
        "name": "ipython",
        "version": 2
      },
      "file_extension": ".py",
      "mimetype": "text/x-python",
      "name": "python",
      "nbconvert_exporter": "python",
      "pygments_lexer": "ipython2",
      "version": "2.7.15"
    },
    "colab": {
      "name": "Neural Collaborative Filtering Model-1.ipynb",
      "provenance": [],
      "toc_visible": true
    }
  },
  "cells": [
    {
      "cell_type": "markdown",
      "metadata": {
        "id": "TECBk0nwkUCj"
      },
      "source": [
        "# NCF from scratch in pytorch\n",
        "> Building neural collaborative filtering model from scratch in pytorch and plotting movielens rating matrix before and after rating prediction\n",
        "\n",
        "- toc: false\n",
        "- badges: true\n",
        "- comments: true\n",
        "- categories: [Pytorch, Visualization, Movie, NCF]\n",
        "- image:"
      ]
    },
    {
      "cell_type": "code",
      "metadata": {
        "id": "0ZN73VFNkPur"
      },
      "source": [
        "import numpy as np\n",
        "import matplotlib.pyplot as plt\n",
        "import pandas as pd\n",
        "import torch\n",
        "import torch.nn as nn\n",
        "import torch.nn.functional as F\n",
        "import torch.optim as optim\n",
        "from torch.utils.data import DataLoader\n",
        "from torch.utils.data import TensorDataset"
      ],
      "execution_count": null,
      "outputs": []
    },
    {
      "cell_type": "code",
      "metadata": {
        "id": "hVhGAA2qkPuw",
        "outputId": "278a6aca-69bd-4ba1-ae7b-17e8e066d101"
      },
      "source": [
        "rnames = ['user_id', 'movie_id', 'rating', 'timestamp']\n",
        "ratings = pd.read_table('u1.base', sep='\\t', header=None, names=rnames)\n",
        "ratings"
      ],
      "execution_count": null,
      "outputs": [
        {
          "output_type": "execute_result",
          "data": {
            "text/html": [
              "<div>\n",
              "<style scoped>\n",
              "    .dataframe tbody tr th:only-of-type {\n",
              "        vertical-align: middle;\n",
              "    }\n",
              "\n",
              "    .dataframe tbody tr th {\n",
              "        vertical-align: top;\n",
              "    }\n",
              "\n",
              "    .dataframe thead th {\n",
              "        text-align: right;\n",
              "    }\n",
              "</style>\n",
              "<table border=\"1\" class=\"dataframe\">\n",
              "  <thead>\n",
              "    <tr style=\"text-align: right;\">\n",
              "      <th></th>\n",
              "      <th>user_id</th>\n",
              "      <th>movie_id</th>\n",
              "      <th>rating</th>\n",
              "      <th>timestamp</th>\n",
              "    </tr>\n",
              "  </thead>\n",
              "  <tbody>\n",
              "    <tr>\n",
              "      <th>0</th>\n",
              "      <td>1</td>\n",
              "      <td>1</td>\n",
              "      <td>5</td>\n",
              "      <td>874965758</td>\n",
              "    </tr>\n",
              "    <tr>\n",
              "      <th>1</th>\n",
              "      <td>1</td>\n",
              "      <td>2</td>\n",
              "      <td>3</td>\n",
              "      <td>876893171</td>\n",
              "    </tr>\n",
              "    <tr>\n",
              "      <th>2</th>\n",
              "      <td>1</td>\n",
              "      <td>3</td>\n",
              "      <td>4</td>\n",
              "      <td>878542960</td>\n",
              "    </tr>\n",
              "    <tr>\n",
              "      <th>3</th>\n",
              "      <td>1</td>\n",
              "      <td>4</td>\n",
              "      <td>3</td>\n",
              "      <td>876893119</td>\n",
              "    </tr>\n",
              "    <tr>\n",
              "      <th>4</th>\n",
              "      <td>1</td>\n",
              "      <td>5</td>\n",
              "      <td>3</td>\n",
              "      <td>889751712</td>\n",
              "    </tr>\n",
              "    <tr>\n",
              "      <th>5</th>\n",
              "      <td>1</td>\n",
              "      <td>7</td>\n",
              "      <td>4</td>\n",
              "      <td>875071561</td>\n",
              "    </tr>\n",
              "    <tr>\n",
              "      <th>6</th>\n",
              "      <td>1</td>\n",
              "      <td>8</td>\n",
              "      <td>1</td>\n",
              "      <td>875072484</td>\n",
              "    </tr>\n",
              "    <tr>\n",
              "      <th>7</th>\n",
              "      <td>1</td>\n",
              "      <td>9</td>\n",
              "      <td>5</td>\n",
              "      <td>878543541</td>\n",
              "    </tr>\n",
              "    <tr>\n",
              "      <th>8</th>\n",
              "      <td>1</td>\n",
              "      <td>11</td>\n",
              "      <td>2</td>\n",
              "      <td>875072262</td>\n",
              "    </tr>\n",
              "    <tr>\n",
              "      <th>9</th>\n",
              "      <td>1</td>\n",
              "      <td>13</td>\n",
              "      <td>5</td>\n",
              "      <td>875071805</td>\n",
              "    </tr>\n",
              "    <tr>\n",
              "      <th>10</th>\n",
              "      <td>1</td>\n",
              "      <td>15</td>\n",
              "      <td>5</td>\n",
              "      <td>875071608</td>\n",
              "    </tr>\n",
              "    <tr>\n",
              "      <th>11</th>\n",
              "      <td>1</td>\n",
              "      <td>16</td>\n",
              "      <td>5</td>\n",
              "      <td>878543541</td>\n",
              "    </tr>\n",
              "    <tr>\n",
              "      <th>12</th>\n",
              "      <td>1</td>\n",
              "      <td>18</td>\n",
              "      <td>4</td>\n",
              "      <td>887432020</td>\n",
              "    </tr>\n",
              "    <tr>\n",
              "      <th>13</th>\n",
              "      <td>1</td>\n",
              "      <td>19</td>\n",
              "      <td>5</td>\n",
              "      <td>875071515</td>\n",
              "    </tr>\n",
              "    <tr>\n",
              "      <th>14</th>\n",
              "      <td>1</td>\n",
              "      <td>21</td>\n",
              "      <td>1</td>\n",
              "      <td>878542772</td>\n",
              "    </tr>\n",
              "    <tr>\n",
              "      <th>15</th>\n",
              "      <td>1</td>\n",
              "      <td>22</td>\n",
              "      <td>4</td>\n",
              "      <td>875072404</td>\n",
              "    </tr>\n",
              "    <tr>\n",
              "      <th>16</th>\n",
              "      <td>1</td>\n",
              "      <td>25</td>\n",
              "      <td>4</td>\n",
              "      <td>875071805</td>\n",
              "    </tr>\n",
              "    <tr>\n",
              "      <th>17</th>\n",
              "      <td>1</td>\n",
              "      <td>26</td>\n",
              "      <td>3</td>\n",
              "      <td>875072442</td>\n",
              "    </tr>\n",
              "    <tr>\n",
              "      <th>18</th>\n",
              "      <td>1</td>\n",
              "      <td>28</td>\n",
              "      <td>4</td>\n",
              "      <td>875072173</td>\n",
              "    </tr>\n",
              "    <tr>\n",
              "      <th>19</th>\n",
              "      <td>1</td>\n",
              "      <td>29</td>\n",
              "      <td>1</td>\n",
              "      <td>878542869</td>\n",
              "    </tr>\n",
              "    <tr>\n",
              "      <th>20</th>\n",
              "      <td>1</td>\n",
              "      <td>30</td>\n",
              "      <td>3</td>\n",
              "      <td>878542515</td>\n",
              "    </tr>\n",
              "    <tr>\n",
              "      <th>21</th>\n",
              "      <td>1</td>\n",
              "      <td>32</td>\n",
              "      <td>5</td>\n",
              "      <td>888732909</td>\n",
              "    </tr>\n",
              "    <tr>\n",
              "      <th>22</th>\n",
              "      <td>1</td>\n",
              "      <td>34</td>\n",
              "      <td>2</td>\n",
              "      <td>878542869</td>\n",
              "    </tr>\n",
              "    <tr>\n",
              "      <th>23</th>\n",
              "      <td>1</td>\n",
              "      <td>35</td>\n",
              "      <td>1</td>\n",
              "      <td>878542420</td>\n",
              "    </tr>\n",
              "    <tr>\n",
              "      <th>24</th>\n",
              "      <td>1</td>\n",
              "      <td>37</td>\n",
              "      <td>2</td>\n",
              "      <td>878543030</td>\n",
              "    </tr>\n",
              "    <tr>\n",
              "      <th>25</th>\n",
              "      <td>1</td>\n",
              "      <td>38</td>\n",
              "      <td>3</td>\n",
              "      <td>878543075</td>\n",
              "    </tr>\n",
              "    <tr>\n",
              "      <th>26</th>\n",
              "      <td>1</td>\n",
              "      <td>40</td>\n",
              "      <td>3</td>\n",
              "      <td>876893230</td>\n",
              "    </tr>\n",
              "    <tr>\n",
              "      <th>27</th>\n",
              "      <td>1</td>\n",
              "      <td>41</td>\n",
              "      <td>2</td>\n",
              "      <td>876892818</td>\n",
              "    </tr>\n",
              "    <tr>\n",
              "      <th>28</th>\n",
              "      <td>1</td>\n",
              "      <td>42</td>\n",
              "      <td>5</td>\n",
              "      <td>876892425</td>\n",
              "    </tr>\n",
              "    <tr>\n",
              "      <th>29</th>\n",
              "      <td>1</td>\n",
              "      <td>43</td>\n",
              "      <td>4</td>\n",
              "      <td>878542869</td>\n",
              "    </tr>\n",
              "    <tr>\n",
              "      <th>...</th>\n",
              "      <td>...</td>\n",
              "      <td>...</td>\n",
              "      <td>...</td>\n",
              "      <td>...</td>\n",
              "    </tr>\n",
              "    <tr>\n",
              "      <th>79970</th>\n",
              "      <td>943</td>\n",
              "      <td>720</td>\n",
              "      <td>1</td>\n",
              "      <td>888640048</td>\n",
              "    </tr>\n",
              "    <tr>\n",
              "      <th>79971</th>\n",
              "      <td>943</td>\n",
              "      <td>721</td>\n",
              "      <td>5</td>\n",
              "      <td>888639660</td>\n",
              "    </tr>\n",
              "    <tr>\n",
              "      <th>79972</th>\n",
              "      <td>943</td>\n",
              "      <td>722</td>\n",
              "      <td>3</td>\n",
              "      <td>888640208</td>\n",
              "    </tr>\n",
              "    <tr>\n",
              "      <th>79973</th>\n",
              "      <td>943</td>\n",
              "      <td>724</td>\n",
              "      <td>1</td>\n",
              "      <td>888639478</td>\n",
              "    </tr>\n",
              "    <tr>\n",
              "      <th>79974</th>\n",
              "      <td>943</td>\n",
              "      <td>732</td>\n",
              "      <td>4</td>\n",
              "      <td>888639789</td>\n",
              "    </tr>\n",
              "    <tr>\n",
              "      <th>79975</th>\n",
              "      <td>943</td>\n",
              "      <td>739</td>\n",
              "      <td>4</td>\n",
              "      <td>888639929</td>\n",
              "    </tr>\n",
              "    <tr>\n",
              "      <th>79976</th>\n",
              "      <td>943</td>\n",
              "      <td>756</td>\n",
              "      <td>2</td>\n",
              "      <td>875502146</td>\n",
              "    </tr>\n",
              "    <tr>\n",
              "      <th>79977</th>\n",
              "      <td>943</td>\n",
              "      <td>763</td>\n",
              "      <td>4</td>\n",
              "      <td>875501813</td>\n",
              "    </tr>\n",
              "    <tr>\n",
              "      <th>79978</th>\n",
              "      <td>943</td>\n",
              "      <td>765</td>\n",
              "      <td>3</td>\n",
              "      <td>888640227</td>\n",
              "    </tr>\n",
              "    <tr>\n",
              "      <th>79979</th>\n",
              "      <td>943</td>\n",
              "      <td>785</td>\n",
              "      <td>2</td>\n",
              "      <td>888640088</td>\n",
              "    </tr>\n",
              "    <tr>\n",
              "      <th>79980</th>\n",
              "      <td>943</td>\n",
              "      <td>794</td>\n",
              "      <td>3</td>\n",
              "      <td>888640143</td>\n",
              "    </tr>\n",
              "    <tr>\n",
              "      <th>79981</th>\n",
              "      <td>943</td>\n",
              "      <td>796</td>\n",
              "      <td>3</td>\n",
              "      <td>888640311</td>\n",
              "    </tr>\n",
              "    <tr>\n",
              "      <th>79982</th>\n",
              "      <td>943</td>\n",
              "      <td>808</td>\n",
              "      <td>4</td>\n",
              "      <td>888639868</td>\n",
              "    </tr>\n",
              "    <tr>\n",
              "      <th>79983</th>\n",
              "      <td>943</td>\n",
              "      <td>816</td>\n",
              "      <td>4</td>\n",
              "      <td>888640186</td>\n",
              "    </tr>\n",
              "    <tr>\n",
              "      <th>79984</th>\n",
              "      <td>943</td>\n",
              "      <td>824</td>\n",
              "      <td>4</td>\n",
              "      <td>875502483</td>\n",
              "    </tr>\n",
              "    <tr>\n",
              "      <th>79985</th>\n",
              "      <td>943</td>\n",
              "      <td>825</td>\n",
              "      <td>3</td>\n",
              "      <td>875502283</td>\n",
              "    </tr>\n",
              "    <tr>\n",
              "      <th>79986</th>\n",
              "      <td>943</td>\n",
              "      <td>831</td>\n",
              "      <td>2</td>\n",
              "      <td>875502283</td>\n",
              "    </tr>\n",
              "    <tr>\n",
              "      <th>79987</th>\n",
              "      <td>943</td>\n",
              "      <td>840</td>\n",
              "      <td>4</td>\n",
              "      <td>888693104</td>\n",
              "    </tr>\n",
              "    <tr>\n",
              "      <th>79988</th>\n",
              "      <td>943</td>\n",
              "      <td>928</td>\n",
              "      <td>5</td>\n",
              "      <td>875502074</td>\n",
              "    </tr>\n",
              "    <tr>\n",
              "      <th>79989</th>\n",
              "      <td>943</td>\n",
              "      <td>941</td>\n",
              "      <td>1</td>\n",
              "      <td>888639725</td>\n",
              "    </tr>\n",
              "    <tr>\n",
              "      <th>79990</th>\n",
              "      <td>943</td>\n",
              "      <td>943</td>\n",
              "      <td>5</td>\n",
              "      <td>888639614</td>\n",
              "    </tr>\n",
              "    <tr>\n",
              "      <th>79991</th>\n",
              "      <td>943</td>\n",
              "      <td>1011</td>\n",
              "      <td>2</td>\n",
              "      <td>875502560</td>\n",
              "    </tr>\n",
              "    <tr>\n",
              "      <th>79992</th>\n",
              "      <td>943</td>\n",
              "      <td>1028</td>\n",
              "      <td>2</td>\n",
              "      <td>875502096</td>\n",
              "    </tr>\n",
              "    <tr>\n",
              "      <th>79993</th>\n",
              "      <td>943</td>\n",
              "      <td>1044</td>\n",
              "      <td>3</td>\n",
              "      <td>888639903</td>\n",
              "    </tr>\n",
              "    <tr>\n",
              "      <th>79994</th>\n",
              "      <td>943</td>\n",
              "      <td>1047</td>\n",
              "      <td>2</td>\n",
              "      <td>875502146</td>\n",
              "    </tr>\n",
              "    <tr>\n",
              "      <th>79995</th>\n",
              "      <td>943</td>\n",
              "      <td>1067</td>\n",
              "      <td>2</td>\n",
              "      <td>875501756</td>\n",
              "    </tr>\n",
              "    <tr>\n",
              "      <th>79996</th>\n",
              "      <td>943</td>\n",
              "      <td>1074</td>\n",
              "      <td>4</td>\n",
              "      <td>888640250</td>\n",
              "    </tr>\n",
              "    <tr>\n",
              "      <th>79997</th>\n",
              "      <td>943</td>\n",
              "      <td>1188</td>\n",
              "      <td>3</td>\n",
              "      <td>888640250</td>\n",
              "    </tr>\n",
              "    <tr>\n",
              "      <th>79998</th>\n",
              "      <td>943</td>\n",
              "      <td>1228</td>\n",
              "      <td>3</td>\n",
              "      <td>888640275</td>\n",
              "    </tr>\n",
              "    <tr>\n",
              "      <th>79999</th>\n",
              "      <td>943</td>\n",
              "      <td>1330</td>\n",
              "      <td>3</td>\n",
              "      <td>888692465</td>\n",
              "    </tr>\n",
              "  </tbody>\n",
              "</table>\n",
              "<p>80000 rows × 4 columns</p>\n",
              "</div>"
            ],
            "text/plain": [
              "       user_id  movie_id  rating  timestamp\n",
              "0            1         1       5  874965758\n",
              "1            1         2       3  876893171\n",
              "2            1         3       4  878542960\n",
              "3            1         4       3  876893119\n",
              "4            1         5       3  889751712\n",
              "5            1         7       4  875071561\n",
              "6            1         8       1  875072484\n",
              "7            1         9       5  878543541\n",
              "8            1        11       2  875072262\n",
              "9            1        13       5  875071805\n",
              "10           1        15       5  875071608\n",
              "11           1        16       5  878543541\n",
              "12           1        18       4  887432020\n",
              "13           1        19       5  875071515\n",
              "14           1        21       1  878542772\n",
              "15           1        22       4  875072404\n",
              "16           1        25       4  875071805\n",
              "17           1        26       3  875072442\n",
              "18           1        28       4  875072173\n",
              "19           1        29       1  878542869\n",
              "20           1        30       3  878542515\n",
              "21           1        32       5  888732909\n",
              "22           1        34       2  878542869\n",
              "23           1        35       1  878542420\n",
              "24           1        37       2  878543030\n",
              "25           1        38       3  878543075\n",
              "26           1        40       3  876893230\n",
              "27           1        41       2  876892818\n",
              "28           1        42       5  876892425\n",
              "29           1        43       4  878542869\n",
              "...        ...       ...     ...        ...\n",
              "79970      943       720       1  888640048\n",
              "79971      943       721       5  888639660\n",
              "79972      943       722       3  888640208\n",
              "79973      943       724       1  888639478\n",
              "79974      943       732       4  888639789\n",
              "79975      943       739       4  888639929\n",
              "79976      943       756       2  875502146\n",
              "79977      943       763       4  875501813\n",
              "79978      943       765       3  888640227\n",
              "79979      943       785       2  888640088\n",
              "79980      943       794       3  888640143\n",
              "79981      943       796       3  888640311\n",
              "79982      943       808       4  888639868\n",
              "79983      943       816       4  888640186\n",
              "79984      943       824       4  875502483\n",
              "79985      943       825       3  875502283\n",
              "79986      943       831       2  875502283\n",
              "79987      943       840       4  888693104\n",
              "79988      943       928       5  875502074\n",
              "79989      943       941       1  888639725\n",
              "79990      943       943       5  888639614\n",
              "79991      943      1011       2  875502560\n",
              "79992      943      1028       2  875502096\n",
              "79993      943      1044       3  888639903\n",
              "79994      943      1047       2  875502146\n",
              "79995      943      1067       2  875501756\n",
              "79996      943      1074       4  888640250\n",
              "79997      943      1188       3  888640250\n",
              "79998      943      1228       3  888640275\n",
              "79999      943      1330       3  888692465\n",
              "\n",
              "[80000 rows x 4 columns]"
            ]
          },
          "metadata": {
            "tags": []
          },
          "execution_count": 2
        }
      ]
    },
    {
      "cell_type": "code",
      "metadata": {
        "id": "kKm1yQDKkPuy",
        "outputId": "ee207912-cc0e-46e0-c5e3-106e02e1df41"
      },
      "source": [
        "M = 1682 #number of movies\n",
        "N = 943 #number of users\n",
        "\n",
        "R = np.zeros((M,N)) #datamatrix\n",
        "\n",
        "for k in range(len(ratings)):\n",
        "    i = ratings['movie_id'][k] - 1\n",
        "    j = ratings['user_id'][k] - 1\n",
        "    r = ratings['rating'][k]\n",
        "    R[i,j] = 1.0\n",
        "\n",
        "print R"
      ],
      "execution_count": null,
      "outputs": [
        {
          "output_type": "stream",
          "text": [
            "[[1. 1. 0. ... 1. 0. 0.]\n",
            " [1. 0. 0. ... 0. 0. 1.]\n",
            " [1. 0. 0. ... 0. 0. 0.]\n",
            " ...\n",
            " [0. 0. 0. ... 0. 0. 0.]\n",
            " [0. 0. 0. ... 0. 0. 0.]\n",
            " [0. 0. 0. ... 0. 0. 0.]]\n"
          ],
          "name": "stdout"
        }
      ]
    },
    {
      "cell_type": "code",
      "metadata": {
        "id": "m6U4ZfqNkPuz",
        "outputId": "c5cec9ed-cfee-420c-9466-d21677e8f30a"
      },
      "source": [
        "Data = R[3:20,5:16] #Sample from original data matrix\n",
        "\n",
        "plt.imshow(Data, interpolation='nearest',vmax=1,vmin=0)\n",
        "plt.colorbar()\n",
        "plt.set_cmap('binary')\n",
        "plt.xlabel('Users')\n",
        "plt.ylabel('Movies')\n",
        "plt.show()"
      ],
      "execution_count": null,
      "outputs": [
        {
          "output_type": "display_data",
          "data": {
            "image/png": "[encoded data removed]",
            "text/plain": [
              "<Figure size 432x288 with 2 Axes>"
            ]
          },
          "metadata": {
            "tags": [],
            "needs_background": "light"
          }
        }
      ]
    },
    {
      "cell_type": "code",
      "metadata": {
        "id": "EJHL1yHGkPu0"
      },
      "source": [
        "x_train = np.zeros((M*N,M+N))\n",
        "for i in range(M):\n",
        "    for j in range(N):\n",
        "        x_train[i*N+j,i] = 1.0\n",
        "        x_train[i*N+j,j+M] = 1.0"
      ],
      "execution_count": null,
      "outputs": []
    },
    {
      "cell_type": "code",
      "metadata": {
        "id": "Lne2XzTpkPu1",
        "outputId": "0216789d-59d6-4ba4-8d4c-009b007e5129"
      },
      "source": [
        "x_train"
      ],
      "execution_count": null,
      "outputs": [
        {
          "output_type": "execute_result",
          "data": {
            "text/plain": [
              "array([[1., 0., 0., ..., 0., 0., 0.],\n",
              "       [1., 0., 0., ..., 0., 0., 0.],\n",
              "       [1., 0., 0., ..., 0., 0., 0.],\n",
              "       ...,\n",
              "       [0., 0., 0., ..., 1., 0., 0.],\n",
              "       [0., 0., 0., ..., 0., 1., 0.],\n",
              "       [0., 0., 0., ..., 0., 0., 1.]])"
            ]
          },
          "metadata": {
            "tags": []
          },
          "execution_count": 6
        }
      ]
    },
    {
      "cell_type": "code",
      "metadata": {
        "id": "xzsMa-HckPu2"
      },
      "source": [
        "y_train = R.reshape(M*N)"
      ],
      "execution_count": null,
      "outputs": []
    },
    {
      "cell_type": "code",
      "metadata": {
        "id": "pmEZRdAgkPu3",
        "outputId": "f408024e-cbf5-4e08-8e60-45d26ed164ca"
      },
      "source": [
        "print y_train"
      ],
      "execution_count": null,
      "outputs": [
        {
          "output_type": "stream",
          "text": [
            "[1. 1. 0. ... 0. 0. 0.]\n"
          ],
          "name": "stdout"
        }
      ]
    },
    {
      "cell_type": "code",
      "metadata": {
        "id": "2Z2hOSJWkPu3"
      },
      "source": [
        "x_train, y_train = map(torch.tensor, (np.float32(x_train), np.float32(y_train)))"
      ],
      "execution_count": null,
      "outputs": []
    },
    {
      "cell_type": "code",
      "metadata": {
        "id": "nkfdZ41VkPu4"
      },
      "source": [
        "class Net(nn.Module):\n",
        "    def __init__(self):\n",
        "        super(Net, self).__init__()\n",
        "        self.linear_m = nn.Linear(M,64)\n",
        "        self.linear_u = nn.Linear(N,64)\n",
        "        self.linear1 = nn.Linear(128,32)\n",
        "        self.linear2 = nn.Linear(32,16)\n",
        "        self.linear3 = nn.Linear(16,1)\n",
        "\n",
        "    def forward(self, x):\n",
        "        x_m = x[:,0:M]\n",
        "        x_u = x[:,M:M+N]\n",
        "        x_m = self.linear_m(x_m)\n",
        "        x_u = self.linear_u(x_u)\n",
        "        x = torch.cat((x_m,x_u),-1)\n",
        "        x = F.relu(self.linear1(x))\n",
        "        x = F.relu(self.linear2(x))\n",
        "        x = torch.sigmoid(self.linear3(x))\n",
        "        return torch.squeeze(x)"
      ],
      "execution_count": null,
      "outputs": []
    },
    {
      "cell_type": "code",
      "metadata": {
        "id": "pXfLza5XkPu5",
        "outputId": "d561d5b4-ea2f-45fd-818b-0cd4f8692e9c"
      },
      "source": [
        "net = Net()\n",
        "print(net)"
      ],
      "execution_count": null,
      "outputs": [
        {
          "output_type": "stream",
          "text": [
            "Net(\n",
            "  (linear_m): Linear(in_features=1682, out_features=64, bias=True)\n",
            "  (linear_u): Linear(in_features=943, out_features=64, bias=True)\n",
            "  (linear1): Linear(in_features=128, out_features=32, bias=True)\n",
            "  (linear2): Linear(in_features=32, out_features=16, bias=True)\n",
            "  (linear3): Linear(in_features=16, out_features=1, bias=True)\n",
            ")\n"
          ],
          "name": "stdout"
        }
      ]
    },
    {
      "cell_type": "code",
      "metadata": {
        "id": "wV51Gl0skPu6",
        "outputId": "7e5bfca2-8647-49c9-e928-f4f480115899"
      },
      "source": [
        "out = net(x_train)\n",
        "print(out)"
      ],
      "execution_count": null,
      "outputs": [
        {
          "output_type": "stream",
          "text": [
            "tensor([0.5633, 0.5632, 0.5631,  ..., 0.5629, 0.5629, 0.5638],\n",
            "       grad_fn=<SqueezeBackward0>)\n"
          ],
          "name": "stdout"
        }
      ]
    },
    {
      "cell_type": "code",
      "metadata": {
        "id": "VmPvBcqHkPu6"
      },
      "source": [
        "#binary_cross_entropy_with_logits kullanırsak sonda yaptığımız sigmoid'e\n",
        "#gerek kalmıyor. cross_entropy de aynı şekilde softmax istemiyor \n",
        "loss_func = F.binary_cross_entropy"
      ],
      "execution_count": null,
      "outputs": []
    },
    {
      "cell_type": "code",
      "metadata": {
        "id": "_6rIsvFekPu7",
        "outputId": "60eabc39-88f2-408a-fca7-9b8073f5ecdf"
      },
      "source": [
        "loss_func(net(x_train), y_train)"
      ],
      "execution_count": null,
      "outputs": [
        {
          "output_type": "execute_result",
          "data": {
            "text/plain": [
              "tensor(0.8163, grad_fn=<BinaryCrossEntropyBackward>)"
            ]
          },
          "metadata": {
            "tags": []
          },
          "execution_count": 20
        }
      ]
    },
    {
      "cell_type": "code",
      "metadata": {
        "id": "t0ZGaor1kPu8"
      },
      "source": [
        "train_ds = TensorDataset(x_train, y_train)\n",
        "train_dl = DataLoader(train_ds, batch_size=100, shuffle=True)"
      ],
      "execution_count": null,
      "outputs": []
    },
    {
      "cell_type": "code",
      "metadata": {
        "id": "2ELPKqdVkPu8"
      },
      "source": [
        "from torch import optim\n",
        "def get_model():\n",
        "    model = Net()\n",
        "    return model, optim.SGD(model.parameters(), lr=0.05)"
      ],
      "execution_count": null,
      "outputs": []
    },
    {
      "cell_type": "code",
      "metadata": {
        "id": "q6gKA7ACkPu9",
        "outputId": "baa9219e-9655-467d-9201-a6160e7fc426"
      },
      "source": [
        "model, opt = get_model()\n",
        "\n",
        "for epoch in range(5):\n",
        "    for xb, yb in train_dl:\n",
        "        pred = model(xb)\n",
        "        loss = loss_func(pred, yb)\n",
        "\n",
        "        loss.backward()\n",
        "        opt.step()\n",
        "        opt.zero_grad()\n",
        "    print(loss)\n",
        "\n",
        "print(loss_func(model(x_train), y_train))"
      ],
      "execution_count": null,
      "outputs": [
        {
          "output_type": "stream",
          "text": [
            "tensor(0.6071, grad_fn=<BinaryCrossEntropyBackward>)\n",
            "tensor(0.2671, grad_fn=<BinaryCrossEntropyBackward>)\n",
            "tensor(0.0290, grad_fn=<BinaryCrossEntropyBackward>)\n",
            "tensor(0.0433, grad_fn=<BinaryCrossEntropyBackward>)\n",
            "tensor(0.0727, grad_fn=<BinaryCrossEntropyBackward>)\n",
            "tensor(0.1391, grad_fn=<BinaryCrossEntropyBackward>)\n"
          ],
          "name": "stdout"
        }
      ]
    },
    {
      "cell_type": "code",
      "metadata": {
        "id": "R-STN7YUkPu9"
      },
      "source": [
        "pred = model(x_train)"
      ],
      "execution_count": null,
      "outputs": []
    },
    {
      "cell_type": "code",
      "metadata": {
        "id": "F6ksuOBjkPu-"
      },
      "source": [
        "R_pred = pred.detach().numpy().reshape(M,N)"
      ],
      "execution_count": null,
      "outputs": []
    },
    {
      "cell_type": "code",
      "metadata": {
        "id": "tSRlRKs1kPu-",
        "outputId": "762d9469-8f31-4beb-9010-6b5f75ee27a5"
      },
      "source": [
        "Data = R_pred[3:20,5:16] #Sample from original data matrix\n",
        "\n",
        "plt.imshow(Data, interpolation='nearest',vmax=1,vmin=0)\n",
        "plt.colorbar()\n",
        "plt.set_cmap('binary')\n",
        "plt.xlabel('Users')\n",
        "plt.ylabel('Movies')\n",
        "plt.show()"
      ],
      "execution_count": null,
      "outputs": [
        {
          "output_type": "display_data",
          "data": {
            "image/png": "[encoded data removed]",
            "text/plain": [
              "<Figure size 432x288 with 2 Axes>"
            ]
          },
          "metadata": {
            "tags": [],
            "needs_background": "light"
          }
        }
      ]
    },
    {
      "cell_type": "code",
      "metadata": {
        "id": "VU9OnctakPu_"
      },
      "source": [
        ""
      ],
      "execution_count": null,
      "outputs": []
    }
  ]
}