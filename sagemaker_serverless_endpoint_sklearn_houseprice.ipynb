{
  "nbformat": 4,
  "nbformat_minor": 0,
  "metadata": {
    "colab": {
      "name": "sagemaker-serverless-endpoint-sklearn-houseprice",
      "provenance": [],
      "collapsed_sections": []
    },
    "kernelspec": {
      "name": "python3",
      "display_name": "Python 3"
    },
    "language_info": {
      "name": "python"
    }
  },
  "cells": [
    {
      "cell_type": "markdown",
      "metadata": {
        "id": "1f18d5f3"
      },
      "source": [
        "# SageMaker Serverless Inference\n",
        "## Sklearn Regression Example\n",
        "\n",
        "Amazon SageMaker Serverless Inference is a purpose-built inference option that makes it easy for customers to deploy and scale ML models. Serverless Inference is ideal for workloads which have idle periods between traffic spurts and can tolerate cold starts. Serverless endpoints also automatically launch compute resources and scale them in and out depending on traffic, eliminating the need to choose instance types or manage scaling policies.\n",
        "\n",
        "For this notebook we'll be working with the a custom Sklearn model to train a model and then deploy a serverless endpoint. We will be using the public S3 California housing dataset for this example.\n",
        "\n",
        "<b>Update: </b>\n",
        "SageMaker Serverless Inference is now supported by the [SageMaker Python SDK](https://sagemaker.readthedocs.io/en/stable/overview.html#sagemaker-serverless-inference). This makes it very easy to deploy Serverless models that you are also training on SageMaker. As an alternative you can also use the general Boto3 Python SDK to create Serverless models, you can find an example notebook [here](https://github.com/aws/amazon-sagemaker-examples/blob/master/serverless-inference/Serverless-Inference-Walkthrough.ipynb).\n",
        "\n",
        "<b>Notebook Setting</b>\n",
        "- <b>SageMaker Classic Notebook Instance</b>: ml.m5.xlarge Notebook Instance & conda_python3 Kernel\n",
        "- <b>SageMaker Studio</b>: Python 3 (Data Science)\n",
        "- <b>Regions Available</b>: SageMaker Serverless Inference is currently available in the following regions: US East (Northern Virginia), US East (Ohio), US West (Oregon), EU (Ireland), Asia Pacific (Tokyo) and Asia Pacific (Sydney)"
      ]
    },
    {
      "cell_type": "markdown",
      "source": [
        "## Setup"
      ],
      "metadata": {
        "id": "m7NBBf1B-KOm"
      }
    },
    {
      "cell_type": "code",
      "execution_count": null,
      "metadata": {
        "id": "on0KTUWD9UgZ"
      },
      "outputs": [],
      "source": [
        "# install tree command (helpful in printing folder structures)\n",
        "!apt-get install tree\n",
        "\n",
        "# setup AWS cli\n",
        "!mkdir -p ~/.aws && cp /content/drive/MyDrive/AWS/d01_admin/* ~/.aws\n",
        "!chmod 600 ~/.aws/credentials\n",
        "!pip install awscli\n",
        "\n",
        "# install boto3 and sagemaker\n",
        "!pip install boto3\n",
        "!pip install sagemaker\n",
        "\n",
        "# install dependencies\n",
        "!pip install pyathena\n",
        "!pip install awswrangler\n",
        "!pip install smclarify\n",
        "!pip install sagemaker-experiments\n",
        "!pip install sagemaker-tensorflow\n",
        "!pip install smclarify\n",
        "\n",
        "# install nlp libs\n",
        "!pip install transformers"
      ]
    },
    {
      "cell_type": "code",
      "source": [
        "# imports\n",
        "import boto3\n",
        "import sagemaker\n",
        "import re\n",
        "import pandas as pd\n",
        "import numpy as np\n",
        "import matplotlib.pyplot as plt\n",
        "import io\n",
        "import os\n",
        "import sys\n",
        "import time\n",
        "import json\n",
        "from sagemaker.estimator import Estimator"
      ],
      "metadata": {
        "id": "m4aIva0a-zRg"
      },
      "execution_count": 1,
      "outputs": []
    },
    {
      "cell_type": "code",
      "source": [
        "# global variables\n",
        "role = \"sagemakerRole\"\n",
        "base_job_prefix = \"sklearn-housing\"\n",
        "training_instance_type = \"ml.m5.xlarge\""
      ],
      "metadata": {
        "id": "CoPF4ttQ-3mU"
      },
      "execution_count": 103,
      "outputs": []
    },
    {
      "cell_type": "code",
      "source": [
        "# setup sagemaker session\n",
        "sess = sagemaker.Session()\n",
        "bucket = sess.default_bucket()\n",
        "region = boto3.Session().region_name\n",
        "account_id = boto3.client(\"sts\").get_caller_identity().get(\"Account\")\n",
        "role_arn = \"arn:aws:iam::{}:role/{}\".format(account_id, role)\n",
        "sm = boto3.Session().client(service_name=\"sagemaker\", region_name=region)\n",
        "s3 = boto3.Session().client(service_name=\"s3\", region_name=region)"
      ],
      "metadata": {
        "id": "A3UvXUET9vfO"
      },
      "execution_count": 3,
      "outputs": []
    },
    {
      "cell_type": "markdown",
      "source": [
        "## Data Ingest"
      ],
      "metadata": {
        "id": "G9ZLkFG8y8Vh"
      }
    },
    {
      "cell_type": "code",
      "source": [
        "# Retrieve the California Housing dataset from a publicly hosted S3 bucket\n",
        "!aws s3 cp s3://sagemaker-sample-files/datasets/tabular/california_housing/cal_housing.tgz .\n",
        "!tar -zxf cal_housing.tgz\n",
        "\n",
        "# Create a dataframe from the California housing dataset that we can upload to S3\n",
        "columns = [\n",
        "    \"longitude\",\n",
        "    \"latitude\",\n",
        "    \"housingMedianAge\",\n",
        "    \"totalRooms\",\n",
        "    \"totalBedrooms\",\n",
        "    \"population\",\n",
        "    \"households\",\n",
        "    \"medianIncome\",\n",
        "    \"medianHouseValue\",\n",
        "]\n",
        "df = pd.read_csv(\"CaliforniaHousing/cal_housing.data\", names=columns, header=None)\n",
        "display(df.head())\n",
        "\n",
        "# Splitting data in 80-20 split to use testing data for model inference later\n",
        "train = df.iloc[:16000,:]\n",
        "test = df.iloc[16001:,:]\n",
        "\n",
        "# Train and test csv\n",
        "train.to_csv('train.csv', index=False)\n",
        "test.to_csv('test.csv', index=False)\n",
        "\n",
        "# Upload data to S3\n",
        "training_input_path = sess.upload_data('train.csv', key_prefix=base_job_prefix + '/training')\n",
        "print(training_input_path)\n",
        "\n",
        "#verify data uploaded properly\n",
        "training_data = pd.read_csv(training_input_path, sep = ',')\n",
        "display(training_data.head())"
      ],
      "metadata": {
        "colab": {
          "base_uri": "https://localhost:8080/",
          "height": 494
        },
        "id": "42itQTuly9Rr",
        "outputId": "6132dd5b-86b9-4f94-9d00-530fa220fd69"
      },
      "execution_count": 106,
      "outputs": [
        {
          "output_type": "stream",
          "name": "stdout",
          "text": [
            "Completed 256.0 KiB/431.6 KiB (812.6 KiB/s) with 1 file(s) remaining\rCompleted 431.6 KiB/431.6 KiB (1.3 MiB/s) with 1 file(s) remaining  \rdownload: s3://sagemaker-sample-files/datasets/tabular/california_housing/cal_housing.tgz to ./cal_housing.tgz\n"
          ]
        },
        {
          "output_type": "display_data",
          "data": {
            "text/plain": [
              "   longitude  latitude  housingMedianAge  totalRooms  totalBedrooms  \\\n",
              "0 -122.23     37.88     41.0              880.0       129.0           \n",
              "1 -122.22     37.86     21.0              7099.0      1106.0          \n",
              "2 -122.24     37.85     52.0              1467.0      190.0           \n",
              "3 -122.25     37.85     52.0              1274.0      235.0           \n",
              "4 -122.25     37.85     52.0              1627.0      280.0           \n",
              "\n",
              "   population  households  medianIncome  medianHouseValue  \n",
              "0  322.0       126.0       8.3252        452600.0          \n",
              "1  2401.0      1138.0      8.3014        358500.0          \n",
              "2  496.0       177.0       7.2574        352100.0          \n",
              "3  558.0       219.0       5.6431        341300.0          \n",
              "4  565.0       259.0       3.8462        342200.0          "
            ],
            "text/html": [
              "\n",
              "  <div id=\"df-dd947c70-cbf7-42d4-a673-c7e2e03e819b\">\n",
              "    <div class=\"colab-df-container\">\n",
              "      <div>\n",
              "<style scoped>\n",
              "    .dataframe tbody tr th:only-of-type {\n",
              "        vertical-align: middle;\n",
              "    }\n",
              "\n",
              "    .dataframe tbody tr th {\n",
              "        vertical-align: top;\n",
              "    }\n",
              "\n",
              "    .dataframe thead th {\n",
              "        text-align: right;\n",
              "    }\n",
              "</style>\n",
              "<table border=\"1\" class=\"dataframe\">\n",
              "  <thead>\n",
              "    <tr style=\"text-align: right;\">\n",
              "      <th></th>\n",
              "      <th>longitude</th>\n",
              "      <th>latitude</th>\n",
              "      <th>housingMedianAge</th>\n",
              "      <th>totalRooms</th>\n",
              "      <th>totalBedrooms</th>\n",
              "      <th>population</th>\n",
              "      <th>households</th>\n",
              "      <th>medianIncome</th>\n",
              "      <th>medianHouseValue</th>\n",
              "    </tr>\n",
              "  </thead>\n",
              "  <tbody>\n",
              "    <tr>\n",
              "      <th>0</th>\n",
              "      <td>-122.23</td>\n",
              "      <td>37.88</td>\n",
              "      <td>41.0</td>\n",
              "      <td>880.0</td>\n",
              "      <td>129.0</td>\n",
              "      <td>322.0</td>\n",
              "      <td>126.0</td>\n",
              "      <td>8.3252</td>\n",
              "      <td>452600.0</td>\n",
              "    </tr>\n",
              "    <tr>\n",
              "      <th>1</th>\n",
              "      <td>-122.22</td>\n",
              "      <td>37.86</td>\n",
              "      <td>21.0</td>\n",
              "      <td>7099.0</td>\n",
              "      <td>1106.0</td>\n",
              "      <td>2401.0</td>\n",
              "      <td>1138.0</td>\n",
              "      <td>8.3014</td>\n",
              "      <td>358500.0</td>\n",
              "    </tr>\n",
              "    <tr>\n",
              "      <th>2</th>\n",
              "      <td>-122.24</td>\n",
              "      <td>37.85</td>\n",
              "      <td>52.0</td>\n",
              "      <td>1467.0</td>\n",
              "      <td>190.0</td>\n",
              "      <td>496.0</td>\n",
              "      <td>177.0</td>\n",
              "      <td>7.2574</td>\n",
              "      <td>352100.0</td>\n",
              "    </tr>\n",
              "    <tr>\n",
              "      <th>3</th>\n",
              "      <td>-122.25</td>\n",
              "      <td>37.85</td>\n",
              "      <td>52.0</td>\n",
              "      <td>1274.0</td>\n",
              "      <td>235.0</td>\n",
              "      <td>558.0</td>\n",
              "      <td>219.0</td>\n",
              "      <td>5.6431</td>\n",
              "      <td>341300.0</td>\n",
              "    </tr>\n",
              "    <tr>\n",
              "      <th>4</th>\n",
              "      <td>-122.25</td>\n",
              "      <td>37.85</td>\n",
              "      <td>52.0</td>\n",
              "      <td>1627.0</td>\n",
              "      <td>280.0</td>\n",
              "      <td>565.0</td>\n",
              "      <td>259.0</td>\n",
              "      <td>3.8462</td>\n",
              "      <td>342200.0</td>\n",
              "    </tr>\n",
              "  </tbody>\n",
              "</table>\n",
              "</div>\n",
              "      <button class=\"colab-df-convert\" onclick=\"convertToInteractive('df-dd947c70-cbf7-42d4-a673-c7e2e03e819b')\"\n",
              "              title=\"Convert this dataframe to an interactive table.\"\n",
              "              style=\"display:none;\">\n",
              "        \n",
              "  <svg xmlns=\"http://www.w3.org/2000/svg\" height=\"24px\"viewBox=\"0 0 24 24\"\n",
              "       width=\"24px\">\n",
              "    <path d=\"M0 0h24v24H0V0z\" fill=\"none\"/>\n",
              "    <path d=\"M18.56 5.44l.94 2.06.94-2.06 2.06-.94-2.06-.94-.94-2.06-.94 2.06-2.06.94zm-11 1L8.5 8.5l.94-2.06 2.06-.94-2.06-.94L8.5 2.5l-.94 2.06-2.06.94zm10 10l.94 2.06.94-2.06 2.06-.94-2.06-.94-.94-2.06-.94 2.06-2.06.94z\"/><path d=\"M17.41 7.96l-1.37-1.37c-.4-.4-.92-.59-1.43-.59-.52 0-1.04.2-1.43.59L10.3 9.45l-7.72 7.72c-.78.78-.78 2.05 0 2.83L4 21.41c.39.39.9.59 1.41.59.51 0 1.02-.2 1.41-.59l7.78-7.78 2.81-2.81c.8-.78.8-2.07 0-2.86zM5.41 20L4 18.59l7.72-7.72 1.47 1.35L5.41 20z\"/>\n",
              "  </svg>\n",
              "      </button>\n",
              "      \n",
              "  <style>\n",
              "    .colab-df-container {\n",
              "      display:flex;\n",
              "      flex-wrap:wrap;\n",
              "      gap: 12px;\n",
              "    }\n",
              "\n",
              "    .colab-df-convert {\n",
              "      background-color: #E8F0FE;\n",
              "      border: none;\n",
              "      border-radius: 50%;\n",
              "      cursor: pointer;\n",
              "      display: none;\n",
              "      fill: #1967D2;\n",
              "      height: 32px;\n",
              "      padding: 0 0 0 0;\n",
              "      width: 32px;\n",
              "    }\n",
              "\n",
              "    .colab-df-convert:hover {\n",
              "      background-color: #E2EBFA;\n",
              "      box-shadow: 0px 1px 2px rgba(60, 64, 67, 0.3), 0px 1px 3px 1px rgba(60, 64, 67, 0.15);\n",
              "      fill: #174EA6;\n",
              "    }\n",
              "\n",
              "    [theme=dark] .colab-df-convert {\n",
              "      background-color: #3B4455;\n",
              "      fill: #D2E3FC;\n",
              "    }\n",
              "\n",
              "    [theme=dark] .colab-df-convert:hover {\n",
              "      background-color: #434B5C;\n",
              "      box-shadow: 0px 1px 3px 1px rgba(0, 0, 0, 0.15);\n",
              "      filter: drop-shadow(0px 1px 2px rgba(0, 0, 0, 0.3));\n",
              "      fill: #FFFFFF;\n",
              "    }\n",
              "  </style>\n",
              "\n",
              "      <script>\n",
              "        const buttonEl =\n",
              "          document.querySelector('#df-dd947c70-cbf7-42d4-a673-c7e2e03e819b button.colab-df-convert');\n",
              "        buttonEl.style.display =\n",
              "          google.colab.kernel.accessAllowed ? 'block' : 'none';\n",
              "\n",
              "        async function convertToInteractive(key) {\n",
              "          const element = document.querySelector('#df-dd947c70-cbf7-42d4-a673-c7e2e03e819b');\n",
              "          const dataTable =\n",
              "            await google.colab.kernel.invokeFunction('convertToInteractive',\n",
              "                                                     [key], {});\n",
              "          if (!dataTable) return;\n",
              "\n",
              "          const docLinkHtml = 'Like what you see? Visit the ' +\n",
              "            '<a target=\"_blank\" href=https://colab.research.google.com/notebooks/data_table.ipynb>data table notebook</a>'\n",
              "            + ' to learn more about interactive tables.';\n",
              "          element.innerHTML = '';\n",
              "          dataTable['output_type'] = 'display_data';\n",
              "          await google.colab.output.renderOutput(dataTable, element);\n",
              "          const docLink = document.createElement('div');\n",
              "          docLink.innerHTML = docLinkHtml;\n",
              "          element.appendChild(docLink);\n",
              "        }\n",
              "      </script>\n",
              "    </div>\n",
              "  </div>\n",
              "  "
            ]
          },
          "metadata": {}
        },
        {
          "output_type": "stream",
          "name": "stdout",
          "text": [
            "s3://sagemaker-us-east-1-390354360073/sklearn-housing/training/train.csv\n"
          ]
        },
        {
          "output_type": "display_data",
          "data": {
            "text/plain": [
              "   longitude  latitude  housingMedianAge  totalRooms  totalBedrooms  \\\n",
              "0 -122.23     37.88     41.0              880.0       129.0           \n",
              "1 -122.22     37.86     21.0              7099.0      1106.0          \n",
              "2 -122.24     37.85     52.0              1467.0      190.0           \n",
              "3 -122.25     37.85     52.0              1274.0      235.0           \n",
              "4 -122.25     37.85     52.0              1627.0      280.0           \n",
              "\n",
              "   population  households  medianIncome  medianHouseValue  \n",
              "0  322.0       126.0       8.3252        452600.0          \n",
              "1  2401.0      1138.0      8.3014        358500.0          \n",
              "2  496.0       177.0       7.2574        352100.0          \n",
              "3  558.0       219.0       5.6431        341300.0          \n",
              "4  565.0       259.0       3.8462        342200.0          "
            ],
            "text/html": [
              "\n",
              "  <div id=\"df-8dc71ffb-f908-4e3f-acfb-b927c1af57e8\">\n",
              "    <div class=\"colab-df-container\">\n",
              "      <div>\n",
              "<style scoped>\n",
              "    .dataframe tbody tr th:only-of-type {\n",
              "        vertical-align: middle;\n",
              "    }\n",
              "\n",
              "    .dataframe tbody tr th {\n",
              "        vertical-align: top;\n",
              "    }\n",
              "\n",
              "    .dataframe thead th {\n",
              "        text-align: right;\n",
              "    }\n",
              "</style>\n",
              "<table border=\"1\" class=\"dataframe\">\n",
              "  <thead>\n",
              "    <tr style=\"text-align: right;\">\n",
              "      <th></th>\n",
              "      <th>longitude</th>\n",
              "      <th>latitude</th>\n",
              "      <th>housingMedianAge</th>\n",
              "      <th>totalRooms</th>\n",
              "      <th>totalBedrooms</th>\n",
              "      <th>population</th>\n",
              "      <th>households</th>\n",
              "      <th>medianIncome</th>\n",
              "      <th>medianHouseValue</th>\n",
              "    </tr>\n",
              "  </thead>\n",
              "  <tbody>\n",
              "    <tr>\n",
              "      <th>0</th>\n",
              "      <td>-122.23</td>\n",
              "      <td>37.88</td>\n",
              "      <td>41.0</td>\n",
              "      <td>880.0</td>\n",
              "      <td>129.0</td>\n",
              "      <td>322.0</td>\n",
              "      <td>126.0</td>\n",
              "      <td>8.3252</td>\n",
              "      <td>452600.0</td>\n",
              "    </tr>\n",
              "    <tr>\n",
              "      <th>1</th>\n",
              "      <td>-122.22</td>\n",
              "      <td>37.86</td>\n",
              "      <td>21.0</td>\n",
              "      <td>7099.0</td>\n",
              "      <td>1106.0</td>\n",
              "      <td>2401.0</td>\n",
              "      <td>1138.0</td>\n",
              "      <td>8.3014</td>\n",
              "      <td>358500.0</td>\n",
              "    </tr>\n",
              "    <tr>\n",
              "      <th>2</th>\n",
              "      <td>-122.24</td>\n",
              "      <td>37.85</td>\n",
              "      <td>52.0</td>\n",
              "      <td>1467.0</td>\n",
              "      <td>190.0</td>\n",
              "      <td>496.0</td>\n",
              "      <td>177.0</td>\n",
              "      <td>7.2574</td>\n",
              "      <td>352100.0</td>\n",
              "    </tr>\n",
              "    <tr>\n",
              "      <th>3</th>\n",
              "      <td>-122.25</td>\n",
              "      <td>37.85</td>\n",
              "      <td>52.0</td>\n",
              "      <td>1274.0</td>\n",
              "      <td>235.0</td>\n",
              "      <td>558.0</td>\n",
              "      <td>219.0</td>\n",
              "      <td>5.6431</td>\n",
              "      <td>341300.0</td>\n",
              "    </tr>\n",
              "    <tr>\n",
              "      <th>4</th>\n",
              "      <td>-122.25</td>\n",
              "      <td>37.85</td>\n",
              "      <td>52.0</td>\n",
              "      <td>1627.0</td>\n",
              "      <td>280.0</td>\n",
              "      <td>565.0</td>\n",
              "      <td>259.0</td>\n",
              "      <td>3.8462</td>\n",
              "      <td>342200.0</td>\n",
              "    </tr>\n",
              "  </tbody>\n",
              "</table>\n",
              "</div>\n",
              "      <button class=\"colab-df-convert\" onclick=\"convertToInteractive('df-8dc71ffb-f908-4e3f-acfb-b927c1af57e8')\"\n",
              "              title=\"Convert this dataframe to an interactive table.\"\n",
              "              style=\"display:none;\">\n",
              "        \n",
              "  <svg xmlns=\"http://www.w3.org/2000/svg\" height=\"24px\"viewBox=\"0 0 24 24\"\n",
              "       width=\"24px\">\n",
              "    <path d=\"M0 0h24v24H0V0z\" fill=\"none\"/>\n",
              "    <path d=\"M18.56 5.44l.94 2.06.94-2.06 2.06-.94-2.06-.94-.94-2.06-.94 2.06-2.06.94zm-11 1L8.5 8.5l.94-2.06 2.06-.94-2.06-.94L8.5 2.5l-.94 2.06-2.06.94zm10 10l.94 2.06.94-2.06 2.06-.94-2.06-.94-.94-2.06-.94 2.06-2.06.94z\"/><path d=\"M17.41 7.96l-1.37-1.37c-.4-.4-.92-.59-1.43-.59-.52 0-1.04.2-1.43.59L10.3 9.45l-7.72 7.72c-.78.78-.78 2.05 0 2.83L4 21.41c.39.39.9.59 1.41.59.51 0 1.02-.2 1.41-.59l7.78-7.78 2.81-2.81c.8-.78.8-2.07 0-2.86zM5.41 20L4 18.59l7.72-7.72 1.47 1.35L5.41 20z\"/>\n",
              "  </svg>\n",
              "      </button>\n",
              "      \n",
              "  <style>\n",
              "    .colab-df-container {\n",
              "      display:flex;\n",
              "      flex-wrap:wrap;\n",
              "      gap: 12px;\n",
              "    }\n",
              "\n",
              "    .colab-df-convert {\n",
              "      background-color: #E8F0FE;\n",
              "      border: none;\n",
              "      border-radius: 50%;\n",
              "      cursor: pointer;\n",
              "      display: none;\n",
              "      fill: #1967D2;\n",
              "      height: 32px;\n",
              "      padding: 0 0 0 0;\n",
              "      width: 32px;\n",
              "    }\n",
              "\n",
              "    .colab-df-convert:hover {\n",
              "      background-color: #E2EBFA;\n",
              "      box-shadow: 0px 1px 2px rgba(60, 64, 67, 0.3), 0px 1px 3px 1px rgba(60, 64, 67, 0.15);\n",
              "      fill: #174EA6;\n",
              "    }\n",
              "\n",
              "    [theme=dark] .colab-df-convert {\n",
              "      background-color: #3B4455;\n",
              "      fill: #D2E3FC;\n",
              "    }\n",
              "\n",
              "    [theme=dark] .colab-df-convert:hover {\n",
              "      background-color: #434B5C;\n",
              "      box-shadow: 0px 1px 3px 1px rgba(0, 0, 0, 0.15);\n",
              "      filter: drop-shadow(0px 1px 2px rgba(0, 0, 0, 0.3));\n",
              "      fill: #FFFFFF;\n",
              "    }\n",
              "  </style>\n",
              "\n",
              "      <script>\n",
              "        const buttonEl =\n",
              "          document.querySelector('#df-8dc71ffb-f908-4e3f-acfb-b927c1af57e8 button.colab-df-convert');\n",
              "        buttonEl.style.display =\n",
              "          google.colab.kernel.accessAllowed ? 'block' : 'none';\n",
              "\n",
              "        async function convertToInteractive(key) {\n",
              "          const element = document.querySelector('#df-8dc71ffb-f908-4e3f-acfb-b927c1af57e8');\n",
              "          const dataTable =\n",
              "            await google.colab.kernel.invokeFunction('convertToInteractive',\n",
              "                                                     [key], {});\n",
              "          if (!dataTable) return;\n",
              "\n",
              "          const docLinkHtml = 'Like what you see? Visit the ' +\n",
              "            '<a target=\"_blank\" href=https://colab.research.google.com/notebooks/data_table.ipynb>data table notebook</a>'\n",
              "            + ' to learn more about interactive tables.';\n",
              "          element.innerHTML = '';\n",
              "          dataTable['output_type'] = 'display_data';\n",
              "          await google.colab.output.renderOutput(dataTable, element);\n",
              "          const docLink = document.createElement('div');\n",
              "          docLink.innerHTML = docLinkHtml;\n",
              "          element.appendChild(docLink);\n",
              "        }\n",
              "      </script>\n",
              "    </div>\n",
              "  </div>\n",
              "  "
            ]
          },
          "metadata": {}
        }
      ]
    },
    {
      "cell_type": "markdown",
      "metadata": {
        "id": "0d8f5986"
      },
      "source": [
        "## Model Training"
      ]
    },
    {
      "cell_type": "markdown",
      "metadata": {
        "id": "03a47151"
      },
      "source": [
        "Now, we train a custom model using our Sklearn training script. In this example, we also provide [inference handler functions](https://docs.aws.amazon.com/sagemaker/latest/dg/adapt-inference-container.html) to work with input and output functionality for inference, feel free to adjust this for how you want your endpoint to ingest and respond to data."
      ]
    },
    {
      "cell_type": "code",
      "source": [
        "!mkdir -p script"
      ],
      "metadata": {
        "id": "W6EVW8Vd0AKj"
      },
      "execution_count": null,
      "outputs": []
    },
    {
      "cell_type": "code",
      "source": [
        "%%writefile script/train.py\n",
        "import argparse, os\n",
        "import boto3\n",
        "import json\n",
        "import pandas as pd\n",
        "import numpy as np\n",
        "from sklearn.model_selection import train_test_split\n",
        "from sklearn.preprocessing import StandardScaler\n",
        "from sklearn.ensemble import RandomForestRegressor\n",
        "from sklearn import metrics\n",
        "import joblib\n",
        "import pickle\n",
        "\n",
        "\n",
        "if __name__ == '__main__':\n",
        "    \n",
        "    #Passing in environment variables and hyperparameters for our training script\n",
        "    parser = argparse.ArgumentParser()\n",
        "    \n",
        "    #Hyperparamaters\n",
        "    parser.add_argument('--estimators', type=int, default=15)\n",
        "    \n",
        "    #sm_model_dir: model artifacts stored here after training\n",
        "    parser.add_argument('--sm-model-dir', type=str, default=os.environ.get('SM_MODEL_DIR'))\n",
        "    parser.add_argument('--model_dir', type=str)\n",
        "    parser.add_argument('--train', type=str, default=os.environ.get('SM_CHANNEL_TRAIN'))\n",
        "    \n",
        "    args, _ = parser.parse_known_args()\n",
        "    estimators     = args.estimators\n",
        "    model_dir  = args.model_dir\n",
        "    sm_model_dir = args.sm_model_dir\n",
        "    training_dir   = args.train\n",
        "    \n",
        "    ############\n",
        "    #Reading in data\n",
        "    ############\n",
        "    df = pd.read_csv(training_dir + '/train.csv',sep=',')\n",
        "    \n",
        "    ############\n",
        "    #Preprocessing data\n",
        "    ############\n",
        "    X = df.drop('medianHouseValue', axis = 1)\n",
        "    y = df['medianHouseValue']\n",
        "    X_train, X_test, y_train, y_test = train_test_split(X, y, test_size=0.2)\n",
        "    sc = StandardScaler()\n",
        "    X_train = sc.fit_transform(X_train) \n",
        "    X_test = sc.transform(X_test)\n",
        "    \n",
        "    ###########\n",
        "    #Model Building\n",
        "    ###########\n",
        "    regressor = RandomForestRegressor(n_estimators=estimators)\n",
        "    regressor.fit(X_train, y_train)\n",
        "    y_pred = regressor.predict(X_test)\n",
        "    \n",
        "    ###########\n",
        "    #Save the Model\n",
        "    ###########\n",
        "    joblib.dump(regressor, os.path.join(args.sm_model_dir, \"model.joblib\"))\n",
        "    \n",
        "\n",
        "###########\n",
        "#Model Serving\n",
        "###########\n",
        "    \n",
        "\"\"\"\n",
        "Deserialize fitted model\n",
        "\"\"\"\n",
        "def model_fn(model_dir):\n",
        "    model = joblib.load(os.path.join(model_dir, \"model.joblib\"))\n",
        "    return model\n",
        "\n",
        "\"\"\"\n",
        "input_fn\n",
        "    request_body: The body of the request sent to the model.\n",
        "    request_content_type: (string) specifies the format/variable type of the request\n",
        "\"\"\"\n",
        "def input_fn(request_body, request_content_type):\n",
        "    if request_content_type == 'application/json':\n",
        "        request_body = json.loads(request_body)\n",
        "        inpVar = request_body['Input']\n",
        "        return inpVar\n",
        "    else:\n",
        "        raise ValueError(\"This model only supports application/json input\")\n",
        "\n",
        "\"\"\"\n",
        "predict_fn\n",
        "    input_data: returned array from input_fn above\n",
        "    model (sklearn model) returned model loaded from model_fn above\n",
        "\"\"\"\n",
        "def predict_fn(input_data, model):\n",
        "    return model.predict(input_data)\n",
        "\n",
        "\"\"\"\n",
        "output_fn\n",
        "    prediction: the returned value from predict_fn above\n",
        "    content_type: the content type the endpoint expects to be returned. Ex: JSON, string\n",
        "\"\"\"\n",
        "\n",
        "def output_fn(prediction, content_type):\n",
        "    res = int(prediction[0])\n",
        "    respJSON = {'Output': res}\n",
        "    return respJSON"
      ],
      "metadata": {
        "id": "KIQqRHZa0B9g"
      },
      "execution_count": null,
      "outputs": []
    },
    {
      "cell_type": "code",
      "execution_count": 108,
      "metadata": {
        "id": "ba5b67d8",
        "outputId": "97e65e85-be19-4371-c5b6-713ed051227c",
        "colab": {
          "base_uri": "https://localhost:8080/"
        }
      },
      "outputs": [
        {
          "output_type": "stream",
          "name": "stdout",
          "text": [
            "2022-06-10 08:54:36 Starting - Starting the training job...\n",
            "2022-06-10 08:55:02 Starting - Preparing the instances for trainingProfilerReport-1654851275: InProgress\n",
            "............\n",
            "2022-06-10 08:57:00 Downloading - Downloading input data\n",
            "2022-06-10 08:57:00 Training - Downloading the training image...\n",
            "2022-06-10 08:57:31 Training - Training image download completed. Training in progress..\u001b[34m2022-06-10 08:57:33,285 sagemaker-containers INFO     Imported framework sagemaker_sklearn_container.training\u001b[0m\n",
            "\u001b[34m2022-06-10 08:57:33,288 sagemaker-training-toolkit INFO     No GPUs detected (normal if no gpus installed)\u001b[0m\n",
            "\u001b[34m2022-06-10 08:57:33,296 sagemaker_sklearn_container.training INFO     Invoking user training script.\u001b[0m\n",
            "\u001b[34m2022-06-10 08:57:33,663 sagemaker-training-toolkit INFO     No GPUs detected (normal if no gpus installed)\u001b[0m\n",
            "\u001b[34m2022-06-10 08:57:33,673 sagemaker-training-toolkit INFO     No GPUs detected (normal if no gpus installed)\u001b[0m\n",
            "\u001b[34m2022-06-10 08:57:33,685 sagemaker-training-toolkit INFO     No GPUs detected (normal if no gpus installed)\u001b[0m\n",
            "\u001b[34m2022-06-10 08:57:33,693 sagemaker-training-toolkit INFO     Invoking user script\u001b[0m\n",
            "\u001b[34mTraining Env:\u001b[0m\n",
            "\u001b[34m{\n",
            "    \"additional_framework_parameters\": {},\n",
            "    \"channel_input_dirs\": {\n",
            "        \"train\": \"/opt/ml/input/data/train\"\n",
            "    },\n",
            "    \"current_host\": \"algo-1\",\n",
            "    \"framework_module\": \"sagemaker_sklearn_container.training:main\",\n",
            "    \"hosts\": [\n",
            "        \"algo-1\"\n",
            "    ],\n",
            "    \"hyperparameters\": {\n",
            "        \"estimators\": 20\n",
            "    },\n",
            "    \"input_config_dir\": \"/opt/ml/input/config\",\n",
            "    \"input_data_config\": {\n",
            "        \"train\": {\n",
            "            \"TrainingInputMode\": \"File\",\n",
            "            \"S3DistributionType\": \"FullyReplicated\",\n",
            "            \"RecordWrapperType\": \"None\"\n",
            "        }\n",
            "    },\n",
            "    \"input_dir\": \"/opt/ml/input\",\n",
            "    \"is_master\": true,\n",
            "    \"job_name\": \"sagemaker-scikit-learn-2022-06-10-08-54-34-611\",\n",
            "    \"log_level\": 20,\n",
            "    \"master_hostname\": \"algo-1\",\n",
            "    \"model_dir\": \"/opt/ml/model\",\n",
            "    \"module_dir\": \"s3://sagemaker-us-east-1-390354360073/sagemaker-scikit-learn-2022-06-10-08-54-34-611/source/sourcedir.tar.gz\",\n",
            "    \"module_name\": \"train\",\n",
            "    \"network_interface_name\": \"eth0\",\n",
            "    \"num_cpus\": 72,\n",
            "    \"num_gpus\": 0,\n",
            "    \"output_data_dir\": \"/opt/ml/output/data\",\n",
            "    \"output_dir\": \"/opt/ml/output\",\n",
            "    \"output_intermediate_dir\": \"/opt/ml/output/intermediate\",\n",
            "    \"resource_config\": {\n",
            "        \"current_host\": \"algo-1\",\n",
            "        \"current_instance_type\": \"ml.c5.18xlarge\",\n",
            "        \"current_group_name\": \"homogeneousCluster\",\n",
            "        \"hosts\": [\n",
            "            \"algo-1\"\n",
            "        ],\n",
            "        \"instance_groups\": [\n",
            "            {\n",
            "                \"instance_group_name\": \"homogeneousCluster\",\n",
            "                \"instance_type\": \"ml.c5.18xlarge\",\n",
            "                \"hosts\": [\n",
            "                    \"algo-1\"\n",
            "                ]\n",
            "            }\n",
            "        ],\n",
            "        \"network_interface_name\": \"eth0\"\n",
            "    },\n",
            "    \"user_entry_point\": \"train.py\"\u001b[0m\n",
            "\u001b[34m}\u001b[0m\n",
            "\u001b[34mEnvironment variables:\u001b[0m\n",
            "\u001b[34mSM_HOSTS=[\"algo-1\"]\u001b[0m\n",
            "\u001b[34mSM_NETWORK_INTERFACE_NAME=eth0\u001b[0m\n",
            "\u001b[34mSM_HPS={\"estimators\":20}\u001b[0m\n",
            "\u001b[34mSM_USER_ENTRY_POINT=train.py\u001b[0m\n",
            "\u001b[34mSM_FRAMEWORK_PARAMS={}\u001b[0m\n",
            "\u001b[34mSM_RESOURCE_CONFIG={\"current_group_name\":\"homogeneousCluster\",\"current_host\":\"algo-1\",\"current_instance_type\":\"ml.c5.18xlarge\",\"hosts\":[\"algo-1\"],\"instance_groups\":[{\"hosts\":[\"algo-1\"],\"instance_group_name\":\"homogeneousCluster\",\"instance_type\":\"ml.c5.18xlarge\"}],\"network_interface_name\":\"eth0\"}\u001b[0m\n",
            "\u001b[34mSM_INPUT_DATA_CONFIG={\"train\":{\"RecordWrapperType\":\"None\",\"S3DistributionType\":\"FullyReplicated\",\"TrainingInputMode\":\"File\"}}\u001b[0m\n",
            "\u001b[34mSM_OUTPUT_DATA_DIR=/opt/ml/output/data\u001b[0m\n",
            "\u001b[34mSM_CHANNELS=[\"train\"]\u001b[0m\n",
            "\u001b[34mSM_CURRENT_HOST=algo-1\u001b[0m\n",
            "\u001b[34mSM_MODULE_NAME=train\u001b[0m\n",
            "\u001b[34mSM_LOG_LEVEL=20\u001b[0m\n",
            "\u001b[34mSM_FRAMEWORK_MODULE=sagemaker_sklearn_container.training:main\u001b[0m\n",
            "\u001b[34mSM_INPUT_DIR=/opt/ml/input\u001b[0m\n",
            "\u001b[34mSM_INPUT_CONFIG_DIR=/opt/ml/input/config\u001b[0m\n",
            "\u001b[34mSM_OUTPUT_DIR=/opt/ml/output\u001b[0m\n",
            "\u001b[34mSM_NUM_CPUS=72\u001b[0m\n",
            "\u001b[34mSM_NUM_GPUS=0\u001b[0m\n",
            "\u001b[34mSM_MODEL_DIR=/opt/ml/model\u001b[0m\n",
            "\u001b[34mSM_MODULE_DIR=s3://sagemaker-us-east-1-390354360073/sagemaker-scikit-learn-2022-06-10-08-54-34-611/source/sourcedir.tar.gz\u001b[0m\n",
            "\u001b[34mSM_TRAINING_ENV={\"additional_framework_parameters\":{},\"channel_input_dirs\":{\"train\":\"/opt/ml/input/data/train\"},\"current_host\":\"algo-1\",\"framework_module\":\"sagemaker_sklearn_container.training:main\",\"hosts\":[\"algo-1\"],\"hyperparameters\":{\"estimators\":20},\"input_config_dir\":\"/opt/ml/input/config\",\"input_data_config\":{\"train\":{\"RecordWrapperType\":\"None\",\"S3DistributionType\":\"FullyReplicated\",\"TrainingInputMode\":\"File\"}},\"input_dir\":\"/opt/ml/input\",\"is_master\":true,\"job_name\":\"sagemaker-scikit-learn-2022-06-10-08-54-34-611\",\"log_level\":20,\"master_hostname\":\"algo-1\",\"model_dir\":\"/opt/ml/model\",\"module_dir\":\"s3://sagemaker-us-east-1-390354360073/sagemaker-scikit-learn-2022-06-10-08-54-34-611/source/sourcedir.tar.gz\",\"module_name\":\"train\",\"network_interface_name\":\"eth0\",\"num_cpus\":72,\"num_gpus\":0,\"output_data_dir\":\"/opt/ml/output/data\",\"output_dir\":\"/opt/ml/output\",\"output_intermediate_dir\":\"/opt/ml/output/intermediate\",\"resource_config\":{\"current_group_name\":\"homogeneousCluster\",\"current_host\":\"algo-1\",\"current_instance_type\":\"ml.c5.18xlarge\",\"hosts\":[\"algo-1\"],\"instance_groups\":[{\"hosts\":[\"algo-1\"],\"instance_group_name\":\"homogeneousCluster\",\"instance_type\":\"ml.c5.18xlarge\"}],\"network_interface_name\":\"eth0\"},\"user_entry_point\":\"train.py\"}\u001b[0m\n",
            "\u001b[34mSM_USER_ARGS=[\"--estimators\",\"20\"]\u001b[0m\n",
            "\u001b[34mSM_OUTPUT_INTERMEDIATE_DIR=/opt/ml/output/intermediate\u001b[0m\n",
            "\u001b[34mSM_CHANNEL_TRAIN=/opt/ml/input/data/train\u001b[0m\n",
            "\u001b[34mSM_HP_ESTIMATORS=20\u001b[0m\n",
            "\u001b[34mPYTHONPATH=/opt/ml/code:/miniconda3/bin:/miniconda3/lib/python37.zip:/miniconda3/lib/python3.7:/miniconda3/lib/python3.7/lib-dynload:/miniconda3/lib/python3.7/site-packages\u001b[0m\n",
            "\u001b[34mInvoking script with the following command:\u001b[0m\n",
            "\u001b[34m/miniconda3/bin/python train.py --estimators 20\u001b[0m\n",
            "\u001b[34m2022-06-10 08:57:36,628 sagemaker-containers INFO     Reporting training SUCCESS\u001b[0m\n",
            "\n",
            "2022-06-10 08:58:11 Uploading - Uploading generated training model\n",
            "2022-06-10 08:58:11 Completed - Training job completed\n",
            "Training seconds: 72\n",
            "Billable seconds: 72\n"
          ]
        }
      ],
      "source": [
        "#Docs: https://sagemaker.readthedocs.io/en/stable/frameworks/sklearn/sagemaker.sklearn.html\n",
        "from sagemaker.sklearn import SKLearn\n",
        "sk_estimator = SKLearn(entry_point='train.py', \n",
        "                          role=role,\n",
        "                          instance_count=1, \n",
        "                          instance_type='ml.c5.18xlarge',\n",
        "                          py_version='py3',\n",
        "                          framework_version='0.23-1',\n",
        "                          script_mode=True,\n",
        "                          hyperparameters={\n",
        "                              'estimators': 20\n",
        "                          }\n",
        "                         )\n",
        "\n",
        "#Training\n",
        "sk_estimator.fit({'train': training_input_path})"
      ]
    },
    {
      "cell_type": "markdown",
      "source": [
        "![](https://github.com/sparsh-ai/notebooks/raw/main/img/rec1-sklearn-housing-serverless.gif)"
      ],
      "metadata": {
        "id": "fJkOH5i53k4f"
      }
    },
    {
      "cell_type": "markdown",
      "metadata": {
        "id": "f6857d8f"
      },
      "source": [
        "## Create Serverless Config Using The SageMaker SDK"
      ]
    },
    {
      "cell_type": "markdown",
      "metadata": {
        "id": "6b754043"
      },
      "source": [
        "For Serverless Inference you need two parameters: Memory Size and Max Concurrency. The current max concurrent invocations for a single endpoint, known as <b>MaxConcurrency</b>, can be any value from <b>1 to 50</b>, and <b>MemorySize</b> can be any of the following: <b>1024 MB, 2048 MB, 3072 MB, 4096 MB, 5120 MB, or 6144 MB</b>."
      ]
    },
    {
      "cell_type": "code",
      "execution_count": 109,
      "metadata": {
        "id": "fec3b1bd"
      },
      "outputs": [],
      "source": [
        "from sagemaker.serverless import ServerlessInferenceConfig\n",
        "serverless_config = ServerlessInferenceConfig(memory_size_in_mb=4096, max_concurrency=3)"
      ]
    },
    {
      "cell_type": "markdown",
      "metadata": {
        "id": "9eb1cab5"
      },
      "source": [
        "## Deploy Serverless Endpoint"
      ]
    },
    {
      "cell_type": "code",
      "execution_count": 110,
      "metadata": {
        "id": "92ec19e0"
      },
      "outputs": [],
      "source": [
        "import time\n",
        "from time import gmtime, strftime\n",
        "endpoint_name = \"sklearn-serverless-ep\" + strftime(\"%Y-%m-%d-%H-%M-%S\", gmtime())"
      ]
    },
    {
      "cell_type": "code",
      "execution_count": 111,
      "metadata": {
        "id": "d2b0450b",
        "outputId": "e612bcf7-8b0e-4d32-e527-643a18f895f7",
        "colab": {
          "base_uri": "https://localhost:8080/"
        }
      },
      "outputs": [
        {
          "output_type": "stream",
          "name": "stdout",
          "text": [
            "------!"
          ]
        },
        {
          "output_type": "execute_result",
          "data": {
            "text/plain": [
              "<sagemaker.sklearn.model.SKLearnPredictor at 0x7f20e08f3c90>"
            ]
          },
          "metadata": {},
          "execution_count": 111
        }
      ],
      "source": [
        "sk_estimator.deploy(endpoint_name = endpoint_name, serverless_inference_config=serverless_config)"
      ]
    },
    {
      "cell_type": "markdown",
      "source": [
        "![](https://github.com/sparsh-ai/notebooks/raw/main/img/rec2-sklearn-housing-serverless.gif)"
      ],
      "metadata": {
        "id": "VvqFpbmd3nkk"
      }
    },
    {
      "cell_type": "markdown",
      "metadata": {
        "id": "59ecc6d7"
      },
      "source": [
        "## Inference\n",
        "\n",
        "Let's invoke the endpoint with a sample data point from our train set."
      ]
    },
    {
      "cell_type": "code",
      "execution_count": 112,
      "metadata": {
        "id": "dd16afef",
        "colab": {
          "base_uri": "https://localhost:8080/"
        },
        "outputId": "4c7b5936-19c1-4f06-9b0c-557b12ca9e8e"
      },
      "outputs": [
        {
          "output_type": "stream",
          "name": "stderr",
          "text": [
            "/usr/local/lib/python3.7/dist-packages/ipykernel_launcher.py:4: FutureWarning: In a future version of pandas all arguments of DataFrame.drop except for the argument 'labels' will be keyword-only\n",
            "  after removing the cwd from sys.path.\n"
          ]
        }
      ],
      "source": [
        "#Create sample data point\n",
        "import json\n",
        "samp = pd.read_csv('train.csv')\n",
        "samp = samp.drop('medianHouseValue', 1)\n",
        "samp = samp[:1]\n",
        "request_body = {\"Input\": samp.values.tolist()}\n",
        "data = json.loads(json.dumps(request_body))\n",
        "payload = json.dumps(data)"
      ]
    },
    {
      "cell_type": "code",
      "execution_count": 113,
      "metadata": {
        "id": "3a4af314",
        "outputId": "ad04a8fc-81ae-4408-818b-0a27d42b3547",
        "colab": {
          "base_uri": "https://localhost:8080/"
        }
      },
      "outputs": [
        {
          "output_type": "execute_result",
          "data": {
            "text/plain": [
              "472745"
            ]
          },
          "metadata": {},
          "execution_count": 113
        }
      ],
      "source": [
        "import boto3\n",
        "client = boto3.client('sagemaker-runtime')\n",
        "content_type = \"application/json\"\n",
        "response = client.invoke_endpoint(\n",
        "    EndpointName=endpoint_name,\n",
        "    ContentType=content_type,\n",
        "    Body=payload)\n",
        "result = json.loads(response['Body'].read().decode())['Output']\n",
        "result"
      ]
    }
  ]
}