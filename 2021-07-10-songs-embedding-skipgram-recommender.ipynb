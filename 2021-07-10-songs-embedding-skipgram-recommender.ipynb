{
  "nbformat": 4,
  "nbformat_minor": 0,
  "metadata": {
    "colab": {
      "name": "2021-07-10-songs-embedding-skipgram-recommender.ipynb",
      "provenance": [],
      "toc_visible": true,
      "authorship_tag": "ABX9TyNZkJ4tbSXVXO78OlB12pkk"
    },
    "kernelspec": {
      "name": "python3",
      "display_name": "Python 3"
    },
    "language_info": {
      "name": "python"
    }
  },
  "cells": [
    {
      "cell_type": "markdown",
      "metadata": {
        "id": "xD8tM1pd2NAu"
      },
      "source": [
        "# Song Embeddings - Skipgram Recommender\n",
        "> In this notebook, we'll use human-made music playlists to learn song embeddings. We'll treat a playlist as if it's a sentence and the songs it contains as words. We feed that to the word2vec algorithm which then learns embeddings for every song we have. These embeddings can then be used to recommend similar songs.\n",
        "\n",
        "- toc: true\n",
        "- badges: true\n",
        "- comments: true\n",
        "- categories: [Word2Vec, Embedding, Music, Sequence]\n",
        "- author: \"<a href='https://github.com/jalammar/jalammar.github.io'>Jay Alammar</a>\"\n",
        "- image:"
      ]
    },
    {
      "cell_type": "markdown",
      "metadata": {
        "id": "yucM-N8R2VaN"
      },
      "source": [
        "This technique is used by Spotify, AirBnB, Alibaba, and others. It accounts for a vast portion of their user activity, user media consumption, and/or sales (in the case of Alibaba). The dataset we'll use was collected by Shuo Chen from Cornell University. The [dataset](https://www.cs.cornell.edu/~shuochen/lme/data_page.html) contains playlists from hundreds of radio stations from around the US."
      ]
    },
    {
      "cell_type": "markdown",
      "metadata": {
        "id": "sHZo-F6427A5"
      },
      "source": [
        "## Downloading data"
      ]
    },
    {
      "cell_type": "code",
      "metadata": {
        "id": "wu70B8qy-zj1"
      },
      "source": [
        "!wget -q https://www.cs.cornell.edu/~shuochen/lme/dataset.tar.gz\n",
        "!tar -xf dataset.tar.gz"
      ],
      "execution_count": 1,
      "outputs": []
    },
    {
      "cell_type": "markdown",
      "metadata": {
        "id": "otMF4HUD3bg2"
      },
      "source": [
        "## Setup"
      ]
    },
    {
      "cell_type": "code",
      "metadata": {
        "id": "pV4KRkN4gRec"
      },
      "source": [
        "import numpy as np\n",
        "import pandas as pd\n",
        "import gensim \n",
        "from gensim.models import Word2Vec\n",
        "from urllib import request"
      ],
      "execution_count": 7,
      "outputs": []
    },
    {
      "cell_type": "code",
      "metadata": {
        "id": "duIxrTrfgNPt"
      },
      "source": [
        "import warnings\n",
        "warnings.filterwarnings('ignore')"
      ],
      "execution_count": 8,
      "outputs": []
    },
    {
      "cell_type": "markdown",
      "metadata": {
        "id": "XhjskIqm3X4e"
      },
      "source": [
        "## Training dataset"
      ]
    },
    {
      "cell_type": "code",
      "metadata": {
        "id": "AWj3LOqmgmGh"
      },
      "source": [
        "with open(\"/content/dataset/yes_complete/train.txt\", 'r') as f:\n",
        "  # skipping first 2 lines as they contain only metadata\n",
        "  lines = f.read().split('\\n')[2:]\n",
        "  # select playlists with at least 2 songs, a minimum threshold for sequence learning \n",
        "  playlists = [s.rstrip().split() for s in lines if len(s.split()) > 1]"
      ],
      "execution_count": 14,
      "outputs": []
    },
    {
      "cell_type": "code",
      "metadata": {
        "colab": {
          "base_uri": "https://localhost:8080/"
        },
        "id": "JbNTSuUHhQar",
        "outputId": "fb7a7f90-898e-40ed-8fc2-ef7d3e0ed6a4"
      },
      "source": [
        "print( 'Playlist #1:\\n ', playlists[0], '\\n')\n",
        "print( 'Playlist #2:\\n ', playlists[1])"
      ],
      "execution_count": 18,
      "outputs": [
        {
          "output_type": "stream",
          "text": [
            "Playlist #1:\n",
            "  ['0', '1', '2', '3', '4', '5', '6', '7', '8', '9', '10', '11', '12', '13', '14', '15', '16', '17', '18', '19', '20', '21', '22', '23', '24', '25', '26', '27', '28', '29', '30', '31', '32', '33', '34', '35', '36', '37', '38', '39', '40', '41', '2', '42', '43', '44', '45', '46', '47', '48', '20', '49', '8', '50', '51', '52', '53', '54', '55', '56', '57', '25', '58', '59', '60', '61', '62', '3', '63', '64', '65', '66', '46', '47', '67', '2', '48', '68', '69', '70', '57', '50', '71', '72', '53', '73', '25', '74', '59', '20', '46', '75', '76', '77', '59', '20', '43'] \n",
            "\n",
            "Playlist #2:\n",
            "  ['78', '79', '80', '3', '62', '81', '14', '82', '48', '83', '84', '17', '85', '86', '87', '88', '74', '89', '90', '91', '4', '73', '62', '92', '17', '53', '59', '93', '94', '51', '50', '27', '95', '48', '96', '97', '98', '99', '100', '57', '101', '102', '25', '103', '3', '104', '105', '106', '107', '47', '108', '109', '110', '111', '112', '113', '25', '63', '62', '114', '115', '84', '116', '117', '118', '119', '120', '121', '122', '123', '50', '70', '71', '124', '17', '85', '14', '82', '48', '125', '47', '46', '72', '53', '25', '73', '4', '126', '59', '74', '20', '43', '127', '128', '129', '13', '82', '48', '130', '131', '132', '133', '134', '135', '136', '137', '59', '46', '138', '43', '20', '139', '140', '73', '57', '70', '141', '3', '1', '74', '142', '143', '144', '145', '48', '13', '25', '146', '50', '147', '126', '59', '20', '148', '149', '150', '151', '152', '56', '153', '154', '155', '156', '157', '158', '159', '160', '161', '162', '163', '164', '165', '166', '167', '168', '169', '170', '171', '172', '173', '174', '175', '60', '176', '51', '177', '178', '179', '180', '181', '182', '183', '184', '185', '57', '186', '187', '188', '189', '190', '191', '46', '192', '193', '194', '195', '196', '197', '198', '25', '199', '200', '49', '201', '100', '202', '203', '204', '205', '206', '207', '32', '208', '209', '210']\n"
          ],
          "name": "stdout"
        }
      ]
    },
    {
      "cell_type": "markdown",
      "metadata": {
        "id": "7ulE0Sei3A5P"
      },
      "source": [
        "## Training Word2vec"
      ]
    },
    {
      "cell_type": "markdown",
      "metadata": {
        "id": "iLphAx7n3guD"
      },
      "source": [
        "Our dataset is now in the shape the the Word2Vec model expects as input. We pass the dataset to the model, and set the following key parameters:\n",
        "\n",
        "- size: Embedding size for the songs.\n",
        "- window: word2vec algorithm parameter -- maximum distance between the current and predicted word (song) within a sentence\n",
        "- negative: word2vec algorithm parameter -- Number of negative examples to use at each training step that the model needs to identify as noise"
      ]
    },
    {
      "cell_type": "code",
      "metadata": {
        "id": "c3ETOmmrhm9c"
      },
      "source": [
        "model = Word2Vec(playlists, size=32, window=20, negative=50, min_count=1, workers=-1)"
      ],
      "execution_count": 19,
      "outputs": []
    },
    {
      "cell_type": "markdown",
      "metadata": {
        "id": "FcxLNCTU3lH6"
      },
      "source": [
        "The model is now trained. Every song has an embedding. We only have song IDs, though, no titles or other info. Let's grab the song information file."
      ]
    },
    {
      "cell_type": "markdown",
      "metadata": {
        "id": "HVJexXVa3DmX"
      },
      "source": [
        "## Prepare songs metadata"
      ]
    },
    {
      "cell_type": "markdown",
      "metadata": {
        "id": "Z2NaoFA23PUS"
      },
      "source": [
        "### Title and artist"
      ]
    },
    {
      "cell_type": "code",
      "metadata": {
        "colab": {
          "base_uri": "https://localhost:8080/"
        },
        "id": "WIz9OQcHfDzd",
        "outputId": "09f74766-35a0-4d5d-8f85-b2ffa3c9861e"
      },
      "source": [
        "!head /content/dataset/yes_complete/song_hash.txt"
      ],
      "execution_count": 4,
      "outputs": [
        {
          "output_type": "stream",
          "text": [
            "0 \tGucci Time (w\\/ Swizz Beatz)\tGucci Mane\n",
            "1 \tAston Martin Music (w\\/ Drake & Chrisette Michelle)\tRick Ross\n",
            "2 \tGet Back Up (w\\/ Chris Brown)\tT.I.\n",
            "3 \tHot Toddy (w\\/ Jay-Z & Ester Dean)\tUsher\n",
            "4 \tWhip My Hair\tWillow\n",
            "5 \tDown On Me (w\\/ 50 Cent)\tJeremih\n",
            "6 \tBlack And Yellow\tWiz Khalifa\n",
            "7 \tBlowing Me Kisses\tSoulja Boy\n",
            "8 \tLay It Down\tLloyd\n",
            "9 \tGood For My Money (w\\/ Lloyd)\tBaby Bash\n"
          ],
          "name": "stdout"
        }
      ]
    },
    {
      "cell_type": "code",
      "metadata": {
        "id": "NlIxHUCiiFnP"
      },
      "source": [
        "with open(\"/content/dataset/yes_complete/song_hash.txt\", 'r') as f:\n",
        "  songs_file = f.read().split('\\n')\n",
        "  songs = [s.rstrip().split('\\t') for s in songs_file]"
      ],
      "execution_count": 20,
      "outputs": []
    },
    {
      "cell_type": "code",
      "metadata": {
        "colab": {
          "base_uri": "https://localhost:8080/",
          "height": 235
        },
        "id": "OyN_asrNitmC",
        "outputId": "fdf09d8e-08ed-4e22-d979-20b44fe5f4fc"
      },
      "source": [
        "songs_df = pd.DataFrame(data=songs, columns = ['id', 'title', 'artist'])\n",
        "songs_df = songs_df.set_index('id')\n",
        "songs_df.head()"
      ],
      "execution_count": 21,
      "outputs": [
        {
          "output_type": "execute_result",
          "data": {
            "text/html": [
              "<div>\n",
              "<style scoped>\n",
              "    .dataframe tbody tr th:only-of-type {\n",
              "        vertical-align: middle;\n",
              "    }\n",
              "\n",
              "    .dataframe tbody tr th {\n",
              "        vertical-align: top;\n",
              "    }\n",
              "\n",
              "    .dataframe thead th {\n",
              "        text-align: right;\n",
              "    }\n",
              "</style>\n",
              "<table border=\"1\" class=\"dataframe\">\n",
              "  <thead>\n",
              "    <tr style=\"text-align: right;\">\n",
              "      <th></th>\n",
              "      <th>title</th>\n",
              "      <th>artist</th>\n",
              "    </tr>\n",
              "    <tr>\n",
              "      <th>id</th>\n",
              "      <th></th>\n",
              "      <th></th>\n",
              "    </tr>\n",
              "  </thead>\n",
              "  <tbody>\n",
              "    <tr>\n",
              "      <th>0</th>\n",
              "      <td>Gucci Time (w\\/ Swizz Beatz)</td>\n",
              "      <td>Gucci Mane</td>\n",
              "    </tr>\n",
              "    <tr>\n",
              "      <th>1</th>\n",
              "      <td>Aston Martin Music (w\\/ Drake &amp; Chrisette Mich...</td>\n",
              "      <td>Rick Ross</td>\n",
              "    </tr>\n",
              "    <tr>\n",
              "      <th>2</th>\n",
              "      <td>Get Back Up (w\\/ Chris Brown)</td>\n",
              "      <td>T.I.</td>\n",
              "    </tr>\n",
              "    <tr>\n",
              "      <th>3</th>\n",
              "      <td>Hot Toddy (w\\/ Jay-Z &amp; Ester Dean)</td>\n",
              "      <td>Usher</td>\n",
              "    </tr>\n",
              "    <tr>\n",
              "      <th>4</th>\n",
              "      <td>Whip My Hair</td>\n",
              "      <td>Willow</td>\n",
              "    </tr>\n",
              "  </tbody>\n",
              "</table>\n",
              "</div>"
            ],
            "text/plain": [
              "                                                title      artist\n",
              "id                                                               \n",
              "0                        Gucci Time (w\\/ Swizz Beatz)  Gucci Mane\n",
              "1   Aston Martin Music (w\\/ Drake & Chrisette Mich...   Rick Ross\n",
              "2                       Get Back Up (w\\/ Chris Brown)        T.I.\n",
              "3                  Hot Toddy (w\\/ Jay-Z & Ester Dean)       Usher\n",
              "4                                        Whip My Hair      Willow"
            ]
          },
          "metadata": {
            "tags": []
          },
          "execution_count": 21
        }
      ]
    },
    {
      "cell_type": "code",
      "metadata": {
        "colab": {
          "base_uri": "https://localhost:8080/",
          "height": 173
        },
        "id": "vhW9oqJAn6wn",
        "outputId": "0963aa4a-7c8e-44ad-c3b1-dc80f9b2aeda"
      },
      "source": [
        "songs_df.iloc[[1,10,100]]"
      ],
      "execution_count": 62,
      "outputs": [
        {
          "output_type": "execute_result",
          "data": {
            "text/html": [
              "<div>\n",
              "<style scoped>\n",
              "    .dataframe tbody tr th:only-of-type {\n",
              "        vertical-align: middle;\n",
              "    }\n",
              "\n",
              "    .dataframe tbody tr th {\n",
              "        vertical-align: top;\n",
              "    }\n",
              "\n",
              "    .dataframe thead th {\n",
              "        text-align: right;\n",
              "    }\n",
              "</style>\n",
              "<table border=\"1\" class=\"dataframe\">\n",
              "  <thead>\n",
              "    <tr style=\"text-align: right;\">\n",
              "      <th></th>\n",
              "      <th>title</th>\n",
              "      <th>artist</th>\n",
              "    </tr>\n",
              "    <tr>\n",
              "      <th>id</th>\n",
              "      <th></th>\n",
              "      <th></th>\n",
              "    </tr>\n",
              "  </thead>\n",
              "  <tbody>\n",
              "    <tr>\n",
              "      <th>1</th>\n",
              "      <td>Aston Martin Music (w\\/ Drake &amp; Chrisette Mich...</td>\n",
              "      <td>Rick Ross</td>\n",
              "    </tr>\n",
              "    <tr>\n",
              "      <th>10</th>\n",
              "      <td>Shake It</td>\n",
              "      <td>Elephant Man</td>\n",
              "    </tr>\n",
              "    <tr>\n",
              "      <th>100</th>\n",
              "      <td>I'm Yours</td>\n",
              "      <td>Jason Mraz</td>\n",
              "    </tr>\n",
              "  </tbody>\n",
              "</table>\n",
              "</div>"
            ],
            "text/plain": [
              "                                                  title        artist\n",
              "id                                                                   \n",
              "1     Aston Martin Music (w\\/ Drake & Chrisette Mich...     Rick Ross\n",
              "10                                             Shake It  Elephant Man\n",
              "100                                           I'm Yours    Jason Mraz"
            ]
          },
          "metadata": {
            "tags": []
          },
          "execution_count": 62
        }
      ]
    },
    {
      "cell_type": "code",
      "metadata": {
        "colab": {
          "base_uri": "https://localhost:8080/",
          "height": 235
        },
        "id": "4vEME6TgqIcl",
        "outputId": "493e5e4e-37bc-4894-eba1-e16857d7af2b"
      },
      "source": [
        "songs_df[songs_df.artist == 'Rush'].head()"
      ],
      "execution_count": 71,
      "outputs": [
        {
          "output_type": "execute_result",
          "data": {
            "text/html": [
              "<div>\n",
              "<style scoped>\n",
              "    .dataframe tbody tr th:only-of-type {\n",
              "        vertical-align: middle;\n",
              "    }\n",
              "\n",
              "    .dataframe tbody tr th {\n",
              "        vertical-align: top;\n",
              "    }\n",
              "\n",
              "    .dataframe thead th {\n",
              "        text-align: right;\n",
              "    }\n",
              "</style>\n",
              "<table border=\"1\" class=\"dataframe\">\n",
              "  <thead>\n",
              "    <tr style=\"text-align: right;\">\n",
              "      <th></th>\n",
              "      <th>title</th>\n",
              "      <th>artist</th>\n",
              "    </tr>\n",
              "    <tr>\n",
              "      <th>id</th>\n",
              "      <th></th>\n",
              "      <th></th>\n",
              "    </tr>\n",
              "  </thead>\n",
              "  <tbody>\n",
              "    <tr>\n",
              "      <th>1861</th>\n",
              "      <td>Tom Sawyer</td>\n",
              "      <td>Rush</td>\n",
              "    </tr>\n",
              "    <tr>\n",
              "      <th>2640</th>\n",
              "      <td>Red Barchetta</td>\n",
              "      <td>Rush</td>\n",
              "    </tr>\n",
              "    <tr>\n",
              "      <th>2655</th>\n",
              "      <td>Fly By Night</td>\n",
              "      <td>Rush</td>\n",
              "    </tr>\n",
              "    <tr>\n",
              "      <th>2691</th>\n",
              "      <td>Freewill</td>\n",
              "      <td>Rush</td>\n",
              "    </tr>\n",
              "    <tr>\n",
              "      <th>2748</th>\n",
              "      <td>Limelight</td>\n",
              "      <td>Rush</td>\n",
              "    </tr>\n",
              "  </tbody>\n",
              "</table>\n",
              "</div>"
            ],
            "text/plain": [
              "               title artist\n",
              "id                         \n",
              "1861      Tom Sawyer   Rush\n",
              "2640   Red Barchetta   Rush\n",
              "2655    Fly By Night   Rush\n",
              "2691        Freewill   Rush\n",
              "2748       Limelight   Rush"
            ]
          },
          "metadata": {
            "tags": []
          },
          "execution_count": 71
        }
      ]
    },
    {
      "cell_type": "markdown",
      "metadata": {
        "id": "QnE1OWrx3TIU"
      },
      "source": [
        "### Tags"
      ]
    },
    {
      "cell_type": "code",
      "metadata": {
        "colab": {
          "base_uri": "https://localhost:8080/"
        },
        "id": "jfLq2JosfHfp",
        "outputId": "14b6c27c-8239-4e42-b0fd-3546ba0ac379"
      },
      "source": [
        "!head /content/dataset/yes_complete/tag_hash.txt"
      ],
      "execution_count": 5,
      "outputs": [
        {
          "output_type": "stream",
          "text": [
            "0, rock\n",
            "1, pop\n",
            "2, favorites\n",
            "3, alternative\n",
            "4, love\n",
            "5, male vocalists\n",
            "6, american\n",
            "7, indie\n",
            "8, classic rock\n",
            "9, awesome\n"
          ],
          "name": "stdout"
        }
      ]
    },
    {
      "cell_type": "code",
      "metadata": {
        "id": "DMBHRM6mh_5N"
      },
      "source": [
        "with open(\"/content/dataset/yes_complete/tag_hash.txt\", 'r') as f:\n",
        "  tags_file = f.read().split('\\n')\n",
        "  tags = [s.rstrip().split(',') for s in tags_file]\n",
        "  tag_name = {a:b.strip() for a,b in tags}\n",
        "  tag_name['#'] = 'no tag'"
      ],
      "execution_count": 85,
      "outputs": []
    },
    {
      "cell_type": "code",
      "metadata": {
        "colab": {
          "base_uri": "https://localhost:8080/"
        },
        "id": "WyKDo9aql0KJ",
        "outputId": "f4af9da6-6237-4ef9-b3d2-77a2b25541ae"
      },
      "source": [
        "print('Tag name for tag id {} is \"{}\"\\n'.format('10', tag_name['10']))\n",
        "print('Tag name for tag id {} is \"{}\"\\n'.format('80', tag_name['80']))\n",
        "print('There are total {} tags'.format(len(tag_name.items())))"
      ],
      "execution_count": 88,
      "outputs": [
        {
          "output_type": "stream",
          "text": [
            "Tag name for tag id 10 is \"jazz\"\n",
            "\n",
            "Tag name for tag id 80 is \"rhythm and blues\"\n",
            "\n",
            "There are total 251 tags\n"
          ],
          "name": "stdout"
        }
      ]
    },
    {
      "cell_type": "code",
      "metadata": {
        "colab": {
          "base_uri": "https://localhost:8080/"
        },
        "id": "s9fh6c7L_Dbv",
        "outputId": "8c8e29cf-43d9-4332-9de2-b21d03fb2c4a"
      },
      "source": [
        "!head /content/dataset/yes_complete/tags.txt"
      ],
      "execution_count": 34,
      "outputs": [
        {
          "output_type": "stream",
          "text": [
            "154\n",
            "20 35 40 65 72 130 154 193\n",
            "154\n",
            "1 49\n",
            "1 6 21 35 49 65 78 80 141 154\n",
            "21 35 38 49 65 72 114 141 154\n",
            "1 5 6 21 33 49 63 65 72 87 98 110 141 147 154 197\n",
            "49 65 72 141 197\n",
            "11 35 154\n",
            "#\n"
          ],
          "name": "stdout"
        }
      ]
    },
    {
      "cell_type": "code",
      "metadata": {
        "id": "7nR06ogPjidw"
      },
      "source": [
        "with open(\"/content/dataset/yes_complete/tags.txt\", 'r') as f:\n",
        "  song_tags = f.read().split('\\n')\n",
        "  song_tags = [s.split(' ') for s in song_tags]\n",
        "  song_tags = {a:b for a,b in enumerate(song_tags)}"
      ],
      "execution_count": 38,
      "outputs": []
    },
    {
      "cell_type": "code",
      "metadata": {
        "id": "_XGMxG7el4ib"
      },
      "source": [
        "def tags_for_song(song_id=0):\n",
        "  tag_ids = song_tags[int(song_id)]\n",
        "  return [tag_name[tag_id] for tag_id in tag_ids]"
      ],
      "execution_count": 89,
      "outputs": []
    },
    {
      "cell_type": "code",
      "metadata": {
        "colab": {
          "base_uri": "https://localhost:8080/"
        },
        "id": "gm6i0HlMk6jZ",
        "outputId": "65da0c9a-3225-4969-d8a8-25c4b936a374"
      },
      "source": [
        "print('Tags for song \"{}\" : {}\\n'.format(songs_df.iloc[0].title, tags_for_song(0)))"
      ],
      "execution_count": 61,
      "outputs": [
        {
          "output_type": "stream",
          "text": [
            "Tags for song \"Gucci Time (w\\/ Swizz Beatz)\" : ['wjlb-fm']\n",
            "\n"
          ],
          "name": "stdout"
        }
      ]
    },
    {
      "cell_type": "markdown",
      "metadata": {
        "id": "iyqhTWtn3Jil"
      },
      "source": [
        "## Recommend"
      ]
    },
    {
      "cell_type": "code",
      "metadata": {
        "id": "xlGQ4iygoL2i"
      },
      "source": [
        "def recommend(song_id=0, topn=5):\n",
        "  # song info\n",
        "  song_info = songs_df.iloc[song_id]\n",
        "  song_tags = [', '.join(tags_for_song(song_id))]\n",
        "  query_song = pd.DataFrame({'title':song_info.title,\n",
        "                             'artist':song_info.artist,\n",
        "                             'tags':song_tags})\n",
        "\n",
        "  # similar songs\n",
        "  similar_songs = np.array(model.wv.most_similar(positive=str(song_id), topn=topn))[:,0]\n",
        "  recommendations = songs_df.iloc[similar_songs]\n",
        "  recommendations['tags'] = [tags_for_song(i) for i in similar_songs]\n",
        "\n",
        "  recommendations = pd.concat([query_song, recommendations])\n",
        "\n",
        "  axis_name = ['Query'] + ['Recommendation '+str((i+1)) for i in range(topn)]\n",
        "  # recommendations.index = axis_name\n",
        "  recommendations = recommendations.style.set_table_styles([{'selector': 'th', 'props': [('background-color', 'gray')]}])\n",
        "  \n",
        "  return recommendations"
      ],
      "execution_count": 147,
      "outputs": []
    },
    {
      "cell_type": "code",
      "metadata": {
        "colab": {
          "base_uri": "https://localhost:8080/",
          "height": 387
        },
        "id": "F0qBm76OtzBV",
        "outputId": "06120e62-fecb-4b27-d821-cc9f9169092e"
      },
      "source": [
        "recs = recommend(10)\n",
        "recs"
      ],
      "execution_count": 128,
      "outputs": [
        {
          "output_type": "execute_result",
          "data": {
            "text/html": [
              "<style  type=\"text/css\" >\n",
              "    #T_a92d05ec_e163_11eb_afea_0242ac1c0002 th {\n",
              "          background-color: gray;\n",
              "    }</style><table id=\"T_a92d05ec_e163_11eb_afea_0242ac1c0002\" ><thead>    <tr>        <th class=\"blank level0\" ></th>        <th class=\"col_heading level0 col0\" >title</th>        <th class=\"col_heading level0 col1\" >artist</th>        <th class=\"col_heading level0 col2\" >tags</th>    </tr></thead><tbody>\n",
              "                <tr>\n",
              "                        <th id=\"T_a92d05ec_e163_11eb_afea_0242ac1c0002level0_row0\" class=\"row_heading level0 row0\" >Query</th>\n",
              "                        <td id=\"T_a92d05ec_e163_11eb_afea_0242ac1c0002row0_col0\" class=\"data row0 col0\" >Shake It</td>\n",
              "                        <td id=\"T_a92d05ec_e163_11eb_afea_0242ac1c0002row0_col1\" class=\"data row0 col1\" >Elephant Man</td>\n",
              "                        <td id=\"T_a92d05ec_e163_11eb_afea_0242ac1c0002row0_col2\" class=\"data row0 col2\" >no tag</td>\n",
              "            </tr>\n",
              "            <tr>\n",
              "                        <th id=\"T_a92d05ec_e163_11eb_afea_0242ac1c0002level0_row1\" class=\"row_heading level0 row1\" >Recommendation 1</th>\n",
              "                        <td id=\"T_a92d05ec_e163_11eb_afea_0242ac1c0002row1_col0\" class=\"data row1 col0\" >Pudrete</td>\n",
              "                        <td id=\"T_a92d05ec_e163_11eb_afea_0242ac1c0002row1_col1\" class=\"data row1 col1\" >Banda MS</td>\n",
              "                        <td id=\"T_a92d05ec_e163_11eb_afea_0242ac1c0002row1_col2\" class=\"data row1 col2\" >['no tag']</td>\n",
              "            </tr>\n",
              "            <tr>\n",
              "                        <th id=\"T_a92d05ec_e163_11eb_afea_0242ac1c0002level0_row2\" class=\"row_heading level0 row2\" >Recommendation 2</th>\n",
              "                        <td id=\"T_a92d05ec_e163_11eb_afea_0242ac1c0002row2_col0\" class=\"data row2 col0\" >Let Me Know</td>\n",
              "                        <td id=\"T_a92d05ec_e163_11eb_afea_0242ac1c0002row2_col1\" class=\"data row2 col1\" >Roisin Murphy</td>\n",
              "                        <td id=\"T_a92d05ec_e163_11eb_afea_0242ac1c0002row2_col2\" class=\"data row2 col2\" >['rock', 'pop', 'favorites', 'love', 'female vocalists', '00s', 'dance', 'favourites', 'cool', 'chillout', 'electronic', 'sexy', 'british', 'upbeat', 'sad', 'seen live', 'indie pop', 'love it', 'electronica', 'female', 'good stuff', 'uk', 'lovely', 'disco', 'electro', 'favorite artists', '2007']</td>\n",
              "            </tr>\n",
              "            <tr>\n",
              "                        <th id=\"T_a92d05ec_e163_11eb_afea_0242ac1c0002level0_row3\" class=\"row_heading level0 row3\" >Recommendation 3</th>\n",
              "                        <td id=\"T_a92d05ec_e163_11eb_afea_0242ac1c0002row3_col0\" class=\"data row3 col0\" >In This Lifetime</td>\n",
              "                        <td id=\"T_a92d05ec_e163_11eb_afea_0242ac1c0002row3_col1\" class=\"data row3 col1\" >The Psycho Realm</td>\n",
              "                        <td id=\"T_a92d05ec_e163_11eb_afea_0242ac1c0002row3_col2\" class=\"data row3 col2\" >['no tag']</td>\n",
              "            </tr>\n",
              "            <tr>\n",
              "                        <th id=\"T_a92d05ec_e163_11eb_afea_0242ac1c0002level0_row4\" class=\"row_heading level0 row4\" >Recommendation 4</th>\n",
              "                        <td id=\"T_a92d05ec_e163_11eb_afea_0242ac1c0002row4_col0\" class=\"data row4 col0\" >Take A Bow</td>\n",
              "                        <td id=\"T_a92d05ec_e163_11eb_afea_0242ac1c0002row4_col1\" class=\"data row4 col1\" >Rihanna</td>\n",
              "                        <td id=\"T_a92d05ec_e163_11eb_afea_0242ac1c0002row4_col2\" class=\"data row4 col2\" >['pop', 'love', 'american', 'beautiful', 'soul', 'female vocalists', '00s', 'mellow', 'favorite', 'dance', 'favourites', 'cool', 'chillout', 'rnb', 'sexy', 'female vocalist', 'hip-hop', 'love songs', 'sad', 'hip hop', 'ballad', 'piano', 'memories', 'relaxing', 'love at first listen', 'female', 'r&b', 'slow', 'sweet', 'love song', 'soft', 'rb', 'r and b', 'emo', '<3', 'slow jams', 'major key tonality', 'guilty pleasures', 'emotional', '2008', 'a subtle use of vocal harmony', 'cute']</td>\n",
              "            </tr>\n",
              "            <tr>\n",
              "                        <th id=\"T_a92d05ec_e163_11eb_afea_0242ac1c0002level0_row5\" class=\"row_heading level0 row5\" >Recommendation 5</th>\n",
              "                        <td id=\"T_a92d05ec_e163_11eb_afea_0242ac1c0002row5_col0\" class=\"data row5 col0\" >Get Right</td>\n",
              "                        <td id=\"T_a92d05ec_e163_11eb_afea_0242ac1c0002row5_col1\" class=\"data row5 col1\" >Jennifer Lopez</td>\n",
              "                        <td id=\"T_a92d05ec_e163_11eb_afea_0242ac1c0002row5_col2\" class=\"data row5 col2\" >['pop', 'favorites', 'love', 'american', 'soul', 'female vocalists', '00s', 'dance', 'singer-songwriter', '90s', 'favourites', 'cool', 'catchy', 'rnb', 'sexy', 'fun', 'party', 'happy', 'female vocalist', 'hip-hop', 'funk', 'upbeat', 'hip hop', 'female', 'funky', 'r&b', '2000s', 'latin', 'energetic', 'top 40', 'vocal', 'female vocals', 'english', 'urban', 'uplifting', 'r and b', 'hardcore', 'guilty pleasures', 'guilty pleasure', 'hiphop', 'new york', 'sing along', 'feelgood']</td>\n",
              "            </tr>\n",
              "    </tbody></table>"
            ],
            "text/plain": [
              "<pandas.io.formats.style.Styler at 0x7f875445c390>"
            ]
          },
          "metadata": {
            "tags": []
          },
          "execution_count": 128
        }
      ]
    },
    {
      "cell_type": "markdown",
      "metadata": {
        "id": "qYFrMdrZzlFD"
      },
      "source": [
        "### Paranoid Android - Radiohead"
      ]
    },
    {
      "cell_type": "code",
      "metadata": {
        "colab": {
          "base_uri": "https://localhost:8080/",
          "height": 370
        },
        "id": "bctpVSM3znHy",
        "outputId": "3c5d212d-eac5-4172-a79f-1c32004d807f"
      },
      "source": [
        "recommend(song_id=19563)"
      ],
      "execution_count": 148,
      "outputs": [
        {
          "output_type": "execute_result",
          "data": {
            "text/html": [
              "<style  type=\"text/css\" >\n",
              "    #T_e7dc063e_e164_11eb_afea_0242ac1c0002 th {\n",
              "          background-color: gray;\n",
              "    }</style><table id=\"T_e7dc063e_e164_11eb_afea_0242ac1c0002\" ><thead>    <tr>        <th class=\"blank level0\" ></th>        <th class=\"col_heading level0 col0\" >title</th>        <th class=\"col_heading level0 col1\" >artist</th>        <th class=\"col_heading level0 col2\" >tags</th>    </tr></thead><tbody>\n",
              "                <tr>\n",
              "                        <th id=\"T_e7dc063e_e164_11eb_afea_0242ac1c0002level0_row0\" class=\"row_heading level0 row0\" >0</th>\n",
              "                        <td id=\"T_e7dc063e_e164_11eb_afea_0242ac1c0002row0_col0\" class=\"data row0 col0\" >Paranoid Android</td>\n",
              "                        <td id=\"T_e7dc063e_e164_11eb_afea_0242ac1c0002row0_col1\" class=\"data row0 col1\" >Radiohead</td>\n",
              "                        <td id=\"T_e7dc063e_e164_11eb_afea_0242ac1c0002row0_col2\" class=\"data row0 col2\" >rock, pop, favorites, alternative, love, male vocalists, indie, classic rock, awesome, beautiful, mellow, alternative rock, favorite, chill, 90s, classic, favourites, chillout, indie rock, guitar, favorite songs, male vocalist, electronic, loved, british, favourite, soundtrack, amazing, sad, favourite songs, great song, ballad, melancholy, epic, experimental, psychedelic, memories, electronica, love at first listen, fucking awesome, progressive rock, great, best, nostalgia, melancholic, fav, good stuff, uk, great lyrics, ambient, perfect, psychedelic rock, dark, britpop, brilliant, alternative  punk, progressive, emotional, masterpiece, best songs ever, rockin, genius, all time favourites, alt rock, 1990s</td>\n",
              "            </tr>\n",
              "            <tr>\n",
              "                        <th id=\"T_e7dc063e_e164_11eb_afea_0242ac1c0002level0_row1\" class=\"row_heading level0 row1\" >43036 </th>\n",
              "                        <td id=\"T_e7dc063e_e164_11eb_afea_0242ac1c0002row1_col0\" class=\"data row1 col0\" >Que Te Quieran Mas Que Yo</td>\n",
              "                        <td id=\"T_e7dc063e_e164_11eb_afea_0242ac1c0002row1_col1\" class=\"data row1 col1\" >Marco Antonio Solis</td>\n",
              "                        <td id=\"T_e7dc063e_e164_11eb_afea_0242ac1c0002row1_col2\" class=\"data row1 col2\" >['no tag']</td>\n",
              "            </tr>\n",
              "            <tr>\n",
              "                        <th id=\"T_e7dc063e_e164_11eb_afea_0242ac1c0002level0_row2\" class=\"row_heading level0 row2\" >64157 </th>\n",
              "                        <td id=\"T_e7dc063e_e164_11eb_afea_0242ac1c0002row2_col0\" class=\"data row2 col0\" >Paryer And Meditation</td>\n",
              "                        <td id=\"T_e7dc063e_e164_11eb_afea_0242ac1c0002row2_col1\" class=\"data row2 col1\" >Jessica Williams</td>\n",
              "                        <td id=\"T_e7dc063e_e164_11eb_afea_0242ac1c0002row2_col2\" class=\"data row2 col2\" >['no tag']</td>\n",
              "            </tr>\n",
              "            <tr>\n",
              "                        <th id=\"T_e7dc063e_e164_11eb_afea_0242ac1c0002level0_row3\" class=\"row_heading level0 row3\" >65275 </th>\n",
              "                        <td id=\"T_e7dc063e_e164_11eb_afea_0242ac1c0002row3_col0\" class=\"data row3 col0\" >Hallelujah Goat</td>\n",
              "                        <td id=\"T_e7dc063e_e164_11eb_afea_0242ac1c0002row3_col1\" class=\"data row3 col1\" >Volbeat</td>\n",
              "                        <td id=\"T_e7dc063e_e164_11eb_afea_0242ac1c0002row3_col2\" class=\"data row3 col2\" >['rock', 'awesome', 'hard rock', 'metal', 'heavy metal', 'good', 'rock and roll']</td>\n",
              "            </tr>\n",
              "            <tr>\n",
              "                        <th id=\"T_e7dc063e_e164_11eb_afea_0242ac1c0002level0_row4\" class=\"row_heading level0 row4\" >66070 </th>\n",
              "                        <td id=\"T_e7dc063e_e164_11eb_afea_0242ac1c0002row4_col0\" class=\"data row4 col0\" >You're My Christmas Present</td>\n",
              "                        <td id=\"T_e7dc063e_e164_11eb_afea_0242ac1c0002row4_col1\" class=\"data row4 col1\" >Jimmy Beaumont & The Skyliners</td>\n",
              "                        <td id=\"T_e7dc063e_e164_11eb_afea_0242ac1c0002row4_col2\" class=\"data row4 col2\" >['christmas']</td>\n",
              "            </tr>\n",
              "            <tr>\n",
              "                        <th id=\"T_e7dc063e_e164_11eb_afea_0242ac1c0002level0_row5\" class=\"row_heading level0 row5\" >16550 </th>\n",
              "                        <td id=\"T_e7dc063e_e164_11eb_afea_0242ac1c0002row5_col0\" class=\"data row5 col0\" >Jump Start</td>\n",
              "                        <td id=\"T_e7dc063e_e164_11eb_afea_0242ac1c0002row5_col1\" class=\"data row5 col1\" >Nils</td>\n",
              "                        <td id=\"T_e7dc063e_e164_11eb_afea_0242ac1c0002row5_col2\" class=\"data row5 col2\" >['no tag']</td>\n",
              "            </tr>\n",
              "    </tbody></table>"
            ],
            "text/plain": [
              "<pandas.io.formats.style.Styler at 0x7f875444ad50>"
            ]
          },
          "metadata": {
            "tags": []
          },
          "execution_count": 148
        }
      ]
    },
    {
      "cell_type": "markdown",
      "metadata": {
        "id": "4oYa1QAT14DD"
      },
      "source": [
        "### California Love - 2Pac"
      ]
    },
    {
      "cell_type": "code",
      "metadata": {
        "colab": {
          "base_uri": "https://localhost:8080/",
          "height": 268
        },
        "id": "4DjOvrZb16LE",
        "outputId": "026fa5ed-53d0-4c80-8af3-1d29d8c50ca5"
      },
      "source": [
        "recommend(song_id=842)"
      ],
      "execution_count": 149,
      "outputs": [
        {
          "output_type": "execute_result",
          "data": {
            "text/html": [
              "<style  type=\"text/css\" >\n",
              "    #T_087be396_e165_11eb_afea_0242ac1c0002 th {\n",
              "          background-color: gray;\n",
              "    }</style><table id=\"T_087be396_e165_11eb_afea_0242ac1c0002\" ><thead>    <tr>        <th class=\"blank level0\" ></th>        <th class=\"col_heading level0 col0\" >title</th>        <th class=\"col_heading level0 col1\" >artist</th>        <th class=\"col_heading level0 col2\" >tags</th>    </tr></thead><tbody>\n",
              "                <tr>\n",
              "                        <th id=\"T_087be396_e165_11eb_afea_0242ac1c0002level0_row0\" class=\"row_heading level0 row0\" >0</th>\n",
              "                        <td id=\"T_087be396_e165_11eb_afea_0242ac1c0002row0_col0\" class=\"data row0 col0\" >California Love (w\\/ Dr. Dre & Roger Troutman)</td>\n",
              "                        <td id=\"T_087be396_e165_11eb_afea_0242ac1c0002row0_col1\" class=\"data row0 col1\" >2Pac</td>\n",
              "                        <td id=\"T_087be396_e165_11eb_afea_0242ac1c0002row0_col2\" class=\"data row0 col2\" >favorites, love, oldies, dance, 90s, classic, loved, party, hip-hop, hip hop, rap, fav, old school, songs i absolutely love, hiphop, acclaimed music top 3000, california, 1990s</td>\n",
              "            </tr>\n",
              "            <tr>\n",
              "                        <th id=\"T_087be396_e165_11eb_afea_0242ac1c0002level0_row1\" class=\"row_heading level0 row1\" >20597 </th>\n",
              "                        <td id=\"T_087be396_e165_11eb_afea_0242ac1c0002row1_col0\" class=\"data row1 col0\" >Monk'n Around</td>\n",
              "                        <td id=\"T_087be396_e165_11eb_afea_0242ac1c0002row1_col1\" class=\"data row1 col1\" >Ryan Cohan</td>\n",
              "                        <td id=\"T_087be396_e165_11eb_afea_0242ac1c0002row1_col2\" class=\"data row1 col2\" >['no tag']</td>\n",
              "            </tr>\n",
              "            <tr>\n",
              "                        <th id=\"T_087be396_e165_11eb_afea_0242ac1c0002level0_row2\" class=\"row_heading level0 row2\" >41172 </th>\n",
              "                        <td id=\"T_087be396_e165_11eb_afea_0242ac1c0002row2_col0\" class=\"data row2 col0\" >Nadie Como Tu</td>\n",
              "                        <td id=\"T_087be396_e165_11eb_afea_0242ac1c0002row2_col1\" class=\"data row2 col1\" >Ramon Ayala Y Sus Bravos Del Norte</td>\n",
              "                        <td id=\"T_087be396_e165_11eb_afea_0242ac1c0002row2_col2\" class=\"data row2 col2\" >['no tag']</td>\n",
              "            </tr>\n",
              "            <tr>\n",
              "                        <th id=\"T_087be396_e165_11eb_afea_0242ac1c0002level0_row3\" class=\"row_heading level0 row3\" >44549 </th>\n",
              "                        <td id=\"T_087be396_e165_11eb_afea_0242ac1c0002row3_col0\" class=\"data row3 col0\" >Crash</td>\n",
              "                        <td id=\"T_087be396_e165_11eb_afea_0242ac1c0002row3_col1\" class=\"data row3 col1\" >The Primitives</td>\n",
              "                        <td id=\"T_087be396_e165_11eb_afea_0242ac1c0002row3_col2\" class=\"data row3 col2\" >['rock', 'pop', 'favorites', 'alternative', 'indie', 'female vocalists', '80s', '90s', 'cool', 'catchy', 'party', 'favourite', 'happy', 'female vocalist', 'upbeat', 'soundtrack', 'indie pop', 'memories', 'female', 'new wave', 'uplifting', 'britpop', 'major key tonality', \"80's\", '1980s', 'acclaimed music top 3000', 'rockin']</td>\n",
              "            </tr>\n",
              "            <tr>\n",
              "                        <th id=\"T_087be396_e165_11eb_afea_0242ac1c0002level0_row4\" class=\"row_heading level0 row4\" >53636 </th>\n",
              "                        <td id=\"T_087be396_e165_11eb_afea_0242ac1c0002row4_col0\" class=\"data row4 col0\" >Always There For You</td>\n",
              "                        <td id=\"T_087be396_e165_11eb_afea_0242ac1c0002row4_col1\" class=\"data row4 col1\" >Stryper</td>\n",
              "                        <td id=\"T_087be396_e165_11eb_afea_0242ac1c0002row4_col2\" class=\"data row4 col2\" >['80s', 'hard rock', 'heavy metal', 'christian', 'christian rock']</td>\n",
              "            </tr>\n",
              "            <tr>\n",
              "                        <th id=\"T_087be396_e165_11eb_afea_0242ac1c0002level0_row5\" class=\"row_heading level0 row5\" >48409 </th>\n",
              "                        <td id=\"T_087be396_e165_11eb_afea_0242ac1c0002row5_col0\" class=\"data row5 col0\" >-</td>\n",
              "                        <td id=\"T_087be396_e165_11eb_afea_0242ac1c0002row5_col1\" class=\"data row5 col1\" >-</td>\n",
              "                        <td id=\"T_087be396_e165_11eb_afea_0242ac1c0002row5_col2\" class=\"data row5 col2\" >['no tag']</td>\n",
              "            </tr>\n",
              "    </tbody></table>"
            ],
            "text/plain": [
              "<pandas.io.formats.style.Styler at 0x7f8754467cd0>"
            ]
          },
          "metadata": {
            "tags": []
          },
          "execution_count": 149
        }
      ]
    },
    {
      "cell_type": "markdown",
      "metadata": {
        "id": "Uw6x-wFV17m5"
      },
      "source": [
        "### Billie Jean - Michael Jackson"
      ]
    },
    {
      "cell_type": "code",
      "metadata": {
        "colab": {
          "base_uri": "https://localhost:8080/",
          "height": 370
        },
        "id": "X7nA4NWdz22W",
        "outputId": "095ba4ad-56b9-4c63-e7ea-b6e6d4087ad1"
      },
      "source": [
        "recommend(song_id=3822)"
      ],
      "execution_count": 150,
      "outputs": [
        {
          "output_type": "execute_result",
          "data": {
            "text/html": [
              "<style  type=\"text/css\" >\n",
              "    #T_0e25e2c4_e165_11eb_afea_0242ac1c0002 th {\n",
              "          background-color: gray;\n",
              "    }</style><table id=\"T_0e25e2c4_e165_11eb_afea_0242ac1c0002\" ><thead>    <tr>        <th class=\"blank level0\" ></th>        <th class=\"col_heading level0 col0\" >title</th>        <th class=\"col_heading level0 col1\" >artist</th>        <th class=\"col_heading level0 col2\" >tags</th>    </tr></thead><tbody>\n",
              "                <tr>\n",
              "                        <th id=\"T_0e25e2c4_e165_11eb_afea_0242ac1c0002level0_row0\" class=\"row_heading level0 row0\" >0</th>\n",
              "                        <td id=\"T_0e25e2c4_e165_11eb_afea_0242ac1c0002row0_col0\" class=\"data row0 col0\" >Billie Jean</td>\n",
              "                        <td id=\"T_0e25e2c4_e165_11eb_afea_0242ac1c0002row0_col1\" class=\"data row0 col1\" >Michael Jackson</td>\n",
              "                        <td id=\"T_0e25e2c4_e165_11eb_afea_0242ac1c0002row0_col2\" class=\"data row0 col2\" >rock, pop, favorites, alternative, love, male vocalists, american, classic rock, awesome, beautiful, soul, oldies, favorite, 80s, dance, singer-songwriter, 90s, classic, favourites, cool, 70s, catchy, favorite songs, rnb, male vocalist, electronic, sexy, loved, fun, party, favourite, pop rock, funk, amazing, usa, rhythm and blues, memories, funky, r&b, best, nostalgia, energetic, top 40, old school, nice, english, rb, urban, groovy, disco, perfect, guilty pleasures, 80's, brilliant, my favorites, guilty pleasure, 1980s, retro, masterpiece, motown, classics, best songs ever, classic soul, legend</td>\n",
              "            </tr>\n",
              "            <tr>\n",
              "                        <th id=\"T_0e25e2c4_e165_11eb_afea_0242ac1c0002level0_row1\" class=\"row_heading level0 row1\" >48164 </th>\n",
              "                        <td id=\"T_0e25e2c4_e165_11eb_afea_0242ac1c0002row1_col0\" class=\"data row1 col0\" >Heartbeat</td>\n",
              "                        <td id=\"T_0e25e2c4_e165_11eb_afea_0242ac1c0002row1_col1\" class=\"data row1 col1\" >Could Nothings</td>\n",
              "                        <td id=\"T_0e25e2c4_e165_11eb_afea_0242ac1c0002row1_col2\" class=\"data row1 col2\" >['no tag']</td>\n",
              "            </tr>\n",
              "            <tr>\n",
              "                        <th id=\"T_0e25e2c4_e165_11eb_afea_0242ac1c0002level0_row2\" class=\"row_heading level0 row2\" >30835 </th>\n",
              "                        <td id=\"T_0e25e2c4_e165_11eb_afea_0242ac1c0002row2_col0\" class=\"data row2 col0\" >Steve's Tune</td>\n",
              "                        <td id=\"T_0e25e2c4_e165_11eb_afea_0242ac1c0002row2_col1\" class=\"data row2 col1\" >Steve Lambert</td>\n",
              "                        <td id=\"T_0e25e2c4_e165_11eb_afea_0242ac1c0002row2_col2\" class=\"data row2 col2\" >['no tag']</td>\n",
              "            </tr>\n",
              "            <tr>\n",
              "                        <th id=\"T_0e25e2c4_e165_11eb_afea_0242ac1c0002level0_row3\" class=\"row_heading level0 row3\" >11901 </th>\n",
              "                        <td id=\"T_0e25e2c4_e165_11eb_afea_0242ac1c0002row3_col0\" class=\"data row3 col0\" >So Much Trouble In The World</td>\n",
              "                        <td id=\"T_0e25e2c4_e165_11eb_afea_0242ac1c0002row3_col1\" class=\"data row3 col1\" >Bob Marley & The Wailers</td>\n",
              "                        <td id=\"T_0e25e2c4_e165_11eb_afea_0242ac1c0002row3_col2\" class=\"data row3 col2\" >['mellow', 'chill', 'classic', 'favourites', 'cool', '70s', 'favourite', 'sad', 'great song', 'summer', 'relax', 'best', 'drjazzmrfunkmusic', 'reggae', 'the best', 'legend']</td>\n",
              "            </tr>\n",
              "            <tr>\n",
              "                        <th id=\"T_0e25e2c4_e165_11eb_afea_0242ac1c0002level0_row4\" class=\"row_heading level0 row4\" >70557 </th>\n",
              "                        <td id=\"T_0e25e2c4_e165_11eb_afea_0242ac1c0002row4_col0\" class=\"data row4 col0\" >Carmelita</td>\n",
              "                        <td id=\"T_0e25e2c4_e165_11eb_afea_0242ac1c0002row4_col1\" class=\"data row4 col1\" >Warren Zevon</td>\n",
              "                        <td id=\"T_0e25e2c4_e165_11eb_afea_0242ac1c0002row4_col2\" class=\"data row4 col2\" >['rock', 'classic rock', 'mellow', 'singer-songwriter', '70s', 'hard rock', 'guitar', 'male vocalist', 'folk', 'acoustic', 'progressive rock', 'vocal', 'folk rock', 'americana', 'radioparadise', 'covers', 'perfect', 'radio paradise', 'my pop music', 'southern rock']</td>\n",
              "            </tr>\n",
              "            <tr>\n",
              "                        <th id=\"T_0e25e2c4_e165_11eb_afea_0242ac1c0002level0_row5\" class=\"row_heading level0 row5\" >14550 </th>\n",
              "                        <td id=\"T_0e25e2c4_e165_11eb_afea_0242ac1c0002row5_col0\" class=\"data row5 col0\" >Heavy</td>\n",
              "                        <td id=\"T_0e25e2c4_e165_11eb_afea_0242ac1c0002row5_col1\" class=\"data row5 col1\" >Collective Soul</td>\n",
              "                        <td id=\"T_0e25e2c4_e165_11eb_afea_0242ac1c0002row5_col2\" class=\"data row5 col2\" >['rock', 'pop', 'favorites', 'alternative', 'male vocalists', 'awesome', '00s', 'alternative rock', '90s', 'hard rock', 'loved', 'upbeat', 'great song', 'memories', 'progressive rock', 'grunge', 'faves', 'heavy', 'a subtle use of vocal harmony', 'favs']</td>\n",
              "            </tr>\n",
              "    </tbody></table>"
            ],
            "text/plain": [
              "<pandas.io.formats.style.Styler at 0x7f875446ba90>"
            ]
          },
          "metadata": {
            "tags": []
          },
          "execution_count": 150
        }
      ]
    }
  ]
}