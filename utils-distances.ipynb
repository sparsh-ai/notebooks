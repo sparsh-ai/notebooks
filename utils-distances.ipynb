{
 "cells": [
  {
   "cell_type": "code",
   "execution_count": null,
   "metadata": {},
   "outputs": [],
   "source": [
    "# default_exp utils.distances"
   ]
  },
  {
   "cell_type": "markdown",
   "metadata": {},
   "source": [
    "# Distances\n",
    "> Implementation of utilities for measuring vector distances."
   ]
  },
  {
   "cell_type": "code",
   "execution_count": null,
   "metadata": {},
   "outputs": [],
   "source": [
    "#hide\n",
    "from nbdev.showdoc import *\n",
    "from fastcore.nb_imports import *\n",
    "from fastcore.test import *"
   ]
  },
  {
   "cell_type": "code",
   "execution_count": null,
   "metadata": {},
   "outputs": [],
   "source": [
    "#export\n",
    "import torch"
   ]
  },
  {
   "cell_type": "markdown",
   "metadata": {},
   "source": [
    "## wasserstein_distance"
   ]
  },
  {
   "cell_type": "code",
   "execution_count": null,
   "metadata": {},
   "outputs": [],
   "source": [
    "#export\n",
    "def wasserstein_distance(mean1, cov1, mean2, cov2):\n",
    "    ret = torch.sum((mean1 - mean2) * (mean1 - mean2), -1)\n",
    "    cov1_sqrt = torch.sqrt(torch.clamp(cov1, min=1e-24)) \n",
    "    cov2_sqrt = torch.sqrt(torch.clamp(cov2, min=1e-24))\n",
    "    ret = ret + torch.sum((cov1_sqrt - cov2_sqrt) * (cov1_sqrt - cov2_sqrt), -1)\n",
    "\n",
    "    return ret"
   ]
  },
  {
   "cell_type": "code",
   "execution_count": null,
   "metadata": {},
   "outputs": [],
   "source": [
    "mean1 = torch.tensor([0.4, 0.8, 0.6])\n",
    "cov1 = torch.tensor([0.4, 0.8, 0.6])\n",
    "\n",
    "mean2 = torch.tensor([0.6, 0.3, 0.8])\n",
    "cov2 = torch.tensor([0.3, 0.2, 0.6])\n",
    "\n",
    "test_eq(torch.round(wasserstein_distance(mean1, cov1, mean2, cov2)*1e4)/1e4, torch.tensor(0.5372))"
   ]
  },
  {
   "cell_type": "markdown",
   "metadata": {},
   "source": [
    "## wasserstein_distance_matmul"
   ]
  },
  {
   "cell_type": "code",
   "execution_count": null,
   "metadata": {},
   "outputs": [],
   "source": [
    "#export\n",
    "def wasserstein_distance_matmul(mean1, cov1, mean2, cov2):\n",
    "    mean1_2 = torch.sum(mean1**2, -1, keepdim=True)\n",
    "    mean2_2 = torch.sum(mean2**2, -1, keepdim=True)\n",
    "    ret = -2 * torch.matmul(mean1, mean2.transpose(-1, -2)) + mean1_2 + mean2_2.transpose(-1, -2)\n",
    "    cov1_2 = torch.sum(cov1, -1, keepdim=True)\n",
    "    cov2_2 = torch.sum(cov2, -1, keepdim=True)\n",
    "    cov_ret = -2 * torch.matmul(torch.sqrt(torch.clamp(cov1, min=1e-24)), torch.sqrt(torch.clamp(cov2, min=1e-24)).transpose(-1, -2)) + cov1_2 + cov2_2.transpose(-1, -2)\n",
    "\n",
    "    return ret + cov_ret"
   ]
  },
  {
   "cell_type": "code",
   "execution_count": null,
   "metadata": {},
   "outputs": [],
   "source": [
    "mean1 = mean2 = cov1 = cov2 = torch.tensor([[[0.1376, 0.2219], [0.2287, 0.3205]],\n",
    "                                            [[0.4656, 0.5470], [0.2581, 0.0454]]])\n",
    "expected = torch.tensor([[[-0., 0.], [0., 0.]],\n",
    "                         [[0., 1.], [1., 0.]]])\n",
    "test_eq(wasserstein_distance_matmul(mean1, cov1, mean2, cov2).round()*1e4/1e4, expected)"
   ]
  },
  {
   "cell_type": "markdown",
   "metadata": {},
   "source": [
    "## kl_distance"
   ]
  },
  {
   "cell_type": "code",
   "execution_count": null,
   "metadata": {},
   "outputs": [],
   "source": [
    "#export\n",
    "def kl_distance(mean1, cov1, mean2, cov2):\n",
    "    trace_part = torch.sum(cov1 / cov2, -1)\n",
    "    mean_cov_part = torch.sum((mean2 - mean1) / cov2 * (mean2 - mean1), -1)\n",
    "    determinant_part = torch.log(torch.prod(cov2, -1) / torch.prod(cov1, -1))\n",
    "\n",
    "    return (trace_part + mean_cov_part - mean1.shape[1] + determinant_part) / 2"
   ]
  },
  {
   "cell_type": "code",
   "execution_count": null,
   "metadata": {},
   "outputs": [],
   "source": [
    "mean1 = torch.tensor([[0.0240, 0.3383],\n",
    "        [0.5015, 0.9207]])\n",
    "mean2 = torch.tensor([[0.4716, 0.7865],\n",
    "        [0.7942, 0.1391]])\n",
    "cov1 = torch.tensor([[0.1346, 0.5232],\n",
    "        [0.9208, 0.1602]])\n",
    "cov2 = torch.tensor([[0.9033, 0.0117],\n",
    "        [0.4091, 0.6434]])\n",
    "test_eq(torch.round(kl_distance(mean1, cov1, mean2, cov2)*1e4)/1e4, torch.tensor([29.1808,  1.1189]))"
   ]
  },
  {
   "cell_type": "markdown",
   "metadata": {},
   "source": [
    "## kl_distance_matmul"
   ]
  },
  {
   "cell_type": "code",
   "execution_count": null,
   "metadata": {},
   "outputs": [],
   "source": [
    "#export\n",
    "def kl_distance_matmul(mean1, cov1, mean2, cov2):\n",
    "    cov1_det = 1 / torch.prod(cov1, -1, keepdim=True)\n",
    "    cov2_det = torch.prod(cov2, -1, keepdim=True)\n",
    "    log_det = torch.log(torch.matmul(cov1_det, cov2_det.transpose(-1, -2)))\n",
    "\n",
    "    trace_sum = torch.matmul(1 / cov2, cov1.transpose(-1, -2))\n",
    "\n",
    "    #mean_cov_part1 = torch.matmul(mean1 / cov2, mean1.transpose(-1, -2))\n",
    "    #mean_cov_part1 = torch.matmul(mean1 * mean1, (1 / cov2).transpose(-1, -2))\n",
    "    #mean_cov_part2 = -torch.matmul(mean1 / cov2, mean2.transpose(-1, -2))\n",
    "    #mean_cov_part2 = -torch.matmul(mean1 * mean2, (1 / cov2).transpose(-1, -2))\n",
    "    #mean_cov_part3 = -torch.matmul(mean2 / cov2, mean1.transpose(-1, -2))\n",
    "    #mean_cov_part4 = torch.matmul(mean2 / cov2, mean2.transpose(-1, -2))\n",
    "    #mean_cov_part4 = torch.matmul(mean2 * mean2, (1 / cov2).transpose(-1, -2))\n",
    "\n",
    "    #mean_cov_part = mean_cov_part1 + mean_cov_part2 + mean_cov_part3 + mean_cov_part4\n",
    "    mean_cov_part = torch.matmul((mean1 - mean2) ** 2, (1/cov2).transpose(-1, -2))\n",
    "\n",
    "    return (log_det + mean_cov_part + trace_sum - mean1.shape[-1]) / 2"
   ]
  },
  {
   "cell_type": "code",
   "execution_count": null,
   "metadata": {},
   "outputs": [],
   "source": [
    "mean1 = mean2 = cov1 = cov2 = torch.tensor([[[0.1376, 0.2219], [0.2287, 0.3205]],\n",
    "                                            [[0.4656, 0.5470], [0.2581, 0.0454]]])\n",
    "expected = torch.tensor([[[0., 1.], [-1., 0.]],\n",
    "                         [[0., -2.], [7., 0.]]])\n",
    "test_eq(kl_distance_matmul(mean1, cov1, mean2, cov2).round()*1e4/1e4, expected)"
   ]
  },
  {
   "cell_type": "code",
   "execution_count": null,
   "metadata": {},
   "outputs": [
    {
     "name": "stdout",
     "output_type": "stream",
     "text": [
      "Author: Sparsh A.\n",
      "\n",
      "Last updated: 2022-01-22 13:28:44\n",
      "\n",
      "Compiler    : GCC 7.5.0\n",
      "OS          : Linux\n",
      "Release     : 5.4.144+\n",
      "Machine     : x86_64\n",
      "Processor   : x86_64\n",
      "CPU cores   : 2\n",
      "Architecture: 64bit\n",
      "\n",
      "torch  : 1.10.0+cu111\n",
      "IPython: 5.5.0\n",
      "\n"
     ]
    }
   ],
   "source": [
    "#hide\n",
    "%reload_ext watermark\n",
    "%watermark -a \"Sparsh A.\" -m -iv -u -t -d"
   ]
  }
 ],
 "metadata": {
  "kernelspec": {
   "display_name": "Python 3",
   "name": "python3"
  }
 },
 "nbformat": 4,
 "nbformat_minor": 0
}
